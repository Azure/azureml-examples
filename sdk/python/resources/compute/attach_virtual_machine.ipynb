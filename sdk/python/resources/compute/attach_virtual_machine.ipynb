{
  "cells": [
    {
      "cell_type": "markdown",
      "source": [
        "## Attach and manage an Azure Virtual Machine Compute in Azure Machine Learning"
      ],
      "metadata": {}
    },
    {
      "cell_type": "markdown",
      "source": [
        "### Attach a VM Compute with SSH Key Authentication"
      ],
      "metadata": {}
    },
    {
      "cell_type": "code",
      "source": [
        "# import required libraries\n",
        "from azure.ai.ml import MLClient\n",
        "from azure.ai.ml.entities import VirtualMachineCompute, VirtualMachineSshSettings\n",
        "from azure.identity import DefaultAzureCredential\n",
        "\n",
        "subscription_id = \"<SUBSCRIPTION_ID>\"\n",
        "resource_group = \"<RESOURCE_GROUP>\"\n",
        "workspace_name = \"<AML_WORKSPACE_NAME>\"\n",
        "\n",
        "ml_client = MLClient(\n",
        "    DefaultAzureCredential(), subscription_id, resource_group, workspace_name\n",
        ")\n",
        "\n",
        "vm_name = \"ATTACHED_VM_NAME\"\n",
        "vm_resource = \"/subscriptions/<SUBSCRIPTION_ID>/resourceGroups/<RESOURCE_GROUP>/providers/Microsoft.Compute/virtualMachines/<VM_NAME>\"\n",
        "\n",
        "# VirtualMachineSshSettings define the needed credentials for accessing the VM. Here we are using the ssh key to authenticate\n",
        "vm_settings = VirtualMachineSshSettings(admin_username='azureuser', ssh_private_key_file='PATH_TO_PEM_KEY_FILE',\n",
        "                                       ssh_port=22)\n",
        "\n",
        "vm_compute = VirtualMachineCompute(name=vm_name, resource_id=vm_resource, ssh_settings=vm_settings)\n",
        "ml_client.begin_create_or_update(vm_compute).result()"
      ],
      "outputs": [],
      "execution_count": null,
      "metadata": {
        "gather": {
          "logged": 1687718834164
        }
      }
    },
    {
      "cell_type": "markdown",
      "source": [
        "### Attach a VM Compute with Password Authentication"
      ],
      "metadata": {}
    },
    {
      "cell_type": "code",
      "source": [
        "# With Password\n",
        "# import required libraries\n",
        "from azure.ai.ml import MLClient\n",
        "from azure.ai.ml.entities import VirtualMachineCompute, VirtualMachineSshSettings\n",
        "from azure.identity import DefaultAzureCredential\n",
        "\n",
        "subscription_id = \"<SUBSCRIPTION_ID>\"\n",
        "resource_group = \"<RESOURCE_GROUP>\"\n",
        "workspace_name = \"<AML_WORKSPACE_NAME>\"\n",
        "\n",
        "ml_client = MLClient(\n",
        "    DefaultAzureCredential(), subscription_id, resource_group, workspace_name\n",
        ")\n",
        "\n",
        "vm_name = \"<ATTACHED_VM_NAME>\"\n",
        "vm_resource = \"/subscriptions/<SUBSCRIPTION_ID>/resourceGroups/<RESOURCE_GROUP>/providers/Microsoft.Compute/virtualMachines/<VM_NAME>\"\n",
        "\n",
        "# VirtualMachineSshSettings define the needed credentials for accessing the VM. Here we are using the admin password to authenticate\n",
        "vm_settings = VirtualMachineSshSettings(admin_username='azureuser', admin_password='<YOUR_PASSWORD>',\n",
        "                                       ssh_port=22)\n",
        "\n",
        "vm_compute = VirtualMachineCompute(name=vm_name, resource_id=vm_resource, ssh_settings=vm_settings)\n",
        "ml_client.begin_create_or_update(vm_compute).result()"
      ],
      "outputs": [],
      "execution_count": null,
      "metadata": {
        "gather": {
          "logged": 1687767137344
        }
      }
    },
    {
      "cell_type": "markdown",
      "source": [
        "### Detach an attached VM Compute"
      ],
      "metadata": {}
    },
    {
      "cell_type": "code",
      "source": [
        "# import required libraries\n",
        "from azure.ai.ml import MLClient\n",
        "from azure.ai.ml.entities import VirtualMachineCompute\n",
        "from azure.identity import DefaultAzureCredential\n",
        "\n",
        "subscription_id = \"<SUBSCRIPTION_ID>\"\n",
        "resource_group = \"<RESOURCE_GROUP>\"\n",
        "workspace_name = \"<AML_WORKSPACE_NAME>\"\n",
        "\n",
        "ml_client = MLClient(\n",
        "    DefaultAzureCredential(), subscription_id, resource_group, workspace_name\n",
        ")\n",
        "\n",
        "vm_name = \"<ATTACHED_VM_NAME>\"\n",
        "ml_client.compute.begin_delete(name=vm_name, action=\"Detach\")"
      ],
      "outputs": [],
      "execution_count": null,
      "metadata": {
        "gather": {
          "logged": 1687765295828
        }
      }
    }
  ],
  "metadata": {
    "kernelspec": {
      "name": "python310-sdkv2",
      "language": "python",
      "display_name": "Python 3.10 - SDK v2"
    },
    "language_info": {
      "name": "python",
      "version": "3.10.10",
      "mimetype": "text/x-python",
      "codemirror_mode": {
        "name": "ipython",
        "version": 3
      },
      "pygments_lexer": "ipython3",
      "nbconvert_exporter": "python",
      "file_extension": ".py"
    },
    "vscode": {
      "interpreter": {
        "hash": "6aeff17a1aa7735c2f7cb3a6d691fe1b4d4c3b8d2d650f644ad0f24e1b8e3f3f"
      }
    },
    "microsoft": {
      "ms_spell_check": {
        "ms_spell_check_language": "en"
      },
      "host": {
        "AzureML": {
          "notebookHasBeenCompleted": true
        }
      }
    },
    "kernel_info": {
      "name": "python310-sdkv2"
    },
    "nteract": {
      "version": "nteract-front-end@1.0.0"
    }
  },
  "nbformat": 4,
  "nbformat_minor": 2
}