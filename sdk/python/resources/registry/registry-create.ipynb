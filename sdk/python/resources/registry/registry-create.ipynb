{
 "cells": [
  {
   "cell_type": "markdown",
   "id": "35a6d14e",
   "metadata": {},
   "source": [
    "## Azure Machine Learning registries\n",
    "\n",
    "__Requirements__ In order to benefit from this tutorial, you will need:\n",
    "\n",
    "- An Azure account with an active subscription\n",
    "- Installed Azure Machine Learning Python SDK v2 \n",
    "\n",
    "__Motivations__ - This notebook explains how to create, get, and list a Registry using the Python SDK\n",
    "\n",
    "## 1. Create a Registry\n",
    "\n",
    "A registry is a container of shared assets that can be used across many workspaces.\n",
    "\n",
    "In this section, you will create a yaml file with your registry parameters and an instance of `MLClient` to create a registry. \n",
    "\n",
    "### 1.1 Import the required libraries"
   ]
  },
  {
   "cell_type": "code",
   "execution_count": null,
   "id": "ee086741",
   "metadata": {},
   "outputs": [],
   "source": [
    "# import the required libraries\n",
    "from azure.ai.ml import MLClient, load_registry\n",
    "from azure.ai.ml.constants._common import LROConfigurations\n",
    "from azure.identity import DefaultAzureCredential, InteractiveBrowserCredential\n",
    "import os\n",
    "\n",
    "!pip show azure-ai-ml"
   ]
  },
  {
   "cell_type": "markdown",
   "id": "10d4c8d7",
   "metadata": {},
   "source": [
    "### 1.2 Configure credential\n",
    "\n",
    "We are using `DefaultAzureCredential` to get access to registry. `DefaultAzureCredential` should be capable of handling most Azure SDK authentication scenarios.\n",
    "\n",
    "Reference for more available credentials if it does not work for you: [configure credential examples, azure-identity reference doc.](https://github.com/Azure/azureml-registries/blob/92aec1e16225ec37e43735ab560b599443ecb4be/registries/configuration.ipynb)"
   ]
  },
  {
   "cell_type": "code",
   "execution_count": null,
   "id": "79eea69a",
   "metadata": {},
   "outputs": [],
   "source": [
    "try:\n",
    "    credential = DefaultAzureCredential()\n",
    "    # Check if given credential can get token successfully.\n",
    "    credential.get_token(\"https://management.azure.com/.default\")\n",
    "except Exception as ex:\n",
    "    # Fall back to InteractiveBrowserCredential in case DefaultAzureCredential not work\n",
    "    credential = InteractiveBrowserCredential()"
   ]
  },
  {
   "cell_type": "markdown",
   "id": "71b29e8a",
   "metadata": {},
   "source": [
    "### 1.3 Create a MLclient \n",
    "You need a subscription id and resource group to in which the registry will be created. Update the following below and create the client. \n",
    "* `<SUBSCRIPTION_ID>`\n",
    "* `<RESOURCE_GROUP>`"
   ]
  },
  {
   "cell_type": "code",
   "execution_count": null,
   "id": "f2adf293",
   "metadata": {},
   "outputs": [],
   "source": [
    "# Create a client without specifying an existing registry or workspace\n",
    "ml_client = MLClient(\n",
    "    credential=credential,\n",
    "    subscription_id=\"<SUBSCRIPTION_ID>\",\n",
    "    resource_group_name=\"<RESOURCE_GROUP>\",\n",
    ")"
   ]
  },
  {
   "cell_type": "markdown",
   "id": "b66e5166",
   "metadata": {},
   "source": [
    "### 1.4 Review or create the registry definition in YAML\n",
    "See https://learn.microsoft.com/en-us/azure/machine-learning/how-to-manage-registries to understand the attributes for registry. You need to define:\n",
    "* Name\n",
    "* Optional description and tags\n",
    "* Primary region \n",
    "* Optional additional regions for replication\n",
    "* Optional storage account configuration for each region\n",
    "\n",
    "Sample YAML files are available at [../../../../cli/resources/registry//](../../../../cli/resources/registry/)"
   ]
  },
  {
   "cell_type": "code",
   "execution_count": null,
   "id": "a48df000",
   "metadata": {},
   "outputs": [],
   "source": [
    "import sys\n",
    "\n",
    "yaml_file = os.path.abspath(\n",
    "    os.path.join(sys.path[0], \"../../../../cli/resources/registry/registry.yml\")\n",
    ")\n",
    "\n",
    "f = open(yaml_file, \"r\")\n",
    "print(f.read())"
   ]
  },
  {
   "cell_type": "markdown",
   "id": "4f53a2c5",
   "metadata": {},
   "source": [
    "### 1.5 Load yaml and create registry "
   ]
  },
  {
   "cell_type": "code",
   "execution_count": null,
   "id": "17dd5f8d",
   "metadata": {},
   "outputs": [],
   "source": [
    "registry = load_registry(source=yaml_file)\n",
    "print(registry)\n",
    "\n",
    "# You can override the registry name if needed\n",
    "registry.name = \"DemoRegistryPython\"\n",
    "\n",
    "registry = ml_client.registries.begin_create(registry=registry).result(\n",
    "    timeout=LROConfigurations.POLLING_TIMEOUT\n",
    ")"
   ]
  },
  {
   "cell_type": "markdown",
   "id": "57039c45",
   "metadata": {},
   "source": [
    "## 2. Get and List Registry\n",
    "\n",
    "\n",
    "\n",
    "### 2.1 Get Registry\n",
    "\n"
   ]
  },
  {
   "cell_type": "code",
   "execution_count": null,
   "id": "a5e62f4e",
   "metadata": {
    "scrolled": true
   },
   "outputs": [],
   "source": [
    "reg_name = registry.name  # defined within yaml file\n",
    "my_registry = ml_client.registries.get(name=reg_name)\n",
    "print(my_registry)"
   ]
  },
  {
   "cell_type": "markdown",
   "id": "5468f90b",
   "metadata": {},
   "source": [
    "### 2.1 List Registries\n",
    "\n",
    "This will list all registries that exist under the resource group of your `MLClient`. "
   ]
  },
  {
   "cell_type": "code",
   "execution_count": null,
   "id": "81dee74c",
   "metadata": {},
   "outputs": [],
   "source": [
    "for reg in ml_client.registries.list():\n",
    "    print(reg.name)"
   ]
  },
  {
   "cell_type": "code",
   "execution_count": null,
   "id": "5f2c0f69",
   "metadata": {},
   "outputs": [],
   "source": []
  }
 ],
 "metadata": {
  "kernelspec": {
   "display_name": "Python 3.10 - SDK V2",
   "language": "python",
   "name": "python310-sdkv2"
  },
  "language_info": {
   "codemirror_mode": {
    "name": "ipython",
    "version": 3
   },
   "file_extension": ".py",
   "mimetype": "text/x-python",
   "name": "python",
   "nbconvert_exporter": "python",
   "pygments_lexer": "ipython3",
   "version": "3.8.10"
  },
  "vscode": {
   "interpreter": {
    "hash": "2f394aca7ca06fed1e6064aef884364492d7cdda3614a461e02e6407fc40ba69"
   }
  }
 },
 "nbformat": 4,
 "nbformat_minor": 5
}
