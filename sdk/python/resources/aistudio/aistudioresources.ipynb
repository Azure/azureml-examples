{
 "cells": [
  {
   "cell_type": "markdown",
   "id": "50bf5726-0395-43ff-aac6-d1eaa774f198",
   "metadata": {},
   "source": [
    "# AI Studio resource creation\n",
    "\n",
    "In this notebook, you will create all the necessary resources for AI Studio including:\n",
    "\n",
    "* hub\n",
    "* project\n",
    "* AI Services resource\n",
    "* AI Services connection to hub\n",
    "* Open AI deployment\n",
    "\n",
    "Requirements:\n",
    "* Azure subscription"
   ]
  },
  {
   "cell_type": "markdown",
   "id": "5e1d1ecb-3ed7-4474-ae9d-766f9bd18cfc",
   "metadata": {},
   "source": [
    "## Prerequisites\n",
    "\n",
    "You'll need your Subscription Id and resource group name to configure the ML Client."
   ]
  },
  {
   "cell_type": "code",
   "execution_count": null,
   "id": "102bc0f4-3883-4f15-8add-552b165f3aeb",
   "metadata": {},
   "outputs": [],
   "source": [
    "from azure.ai.ml import MLClient\n",
    "from azure.identity import DefaultAzureCredential\n",
    "\n",
    "my_resource_group = \"{RESOURCE_GROUP}\"\n",
    "my_subscription_id = \"{SUBSCRIPTION_ID}\"\n",
    "my_location = \"East US\"\n",
    "\n",
    "ml_client = MLClient(resource_group_name=my_resource_group, subscription_id=my_subscription_id,credential=DefaultAzureCredential())"
   ]
  },
  {
   "cell_type": "markdown",
   "id": "01aa1ef5-3924-4ed0-a60b-e1a49212cfb4",
   "metadata": {},
   "source": [
    "### Naming\n",
    "Input your preferred named for the resources that will be created."
   ]
  },
  {
   "cell_type": "code",
   "execution_count": null,
   "id": "df454cfa-d8e4-45a3-918e-241397f613c5",
   "metadata": {},
   "outputs": [],
   "source": [
    "## Hub\n",
    "my_hub_name = \"myexamplehub\"\n",
    "my_hub_display_name = \"My Example Hub\"\n",
    "\n",
    "## Project\n",
    "my_project_name = \"myexampleproject\"\n",
    "my_project_location = my_location\n",
    "my_project_display_name = \"My Example Project\"\n",
    "\n",
    "## Connection\n",
    "my_connection_name = \"myaiservivce\""
   ]
  },
  {
   "cell_type": "markdown",
   "id": "373c83fa-b87b-4d89-b2be-f79ce18756ad",
   "metadata": {},
   "source": [
    "## Hub creation"
   ]
  },
  {
   "cell_type": "markdown",
   "id": "9368396b-0450-423c-8229-0dbbb77fc674",
   "metadata": {},
   "source": [
    "### Create a basic hub\n",
    "\n",
    "A basic hub will automatically create an Azure Key Vault and Azure Storage.\n",
    "\n",
    "If you would like to include an existing Azure Key Vault and Azure Storage, make sure to add the additional fields:\n",
    "* storage_account = \"{existing_storage_ARM_id}\"\n",
    "* key_vault = \"{existing_keyvault_ARM_id}\""
   ]
  },
  {
   "cell_type": "code",
   "execution_count": null,
   "id": "c770d5b6-aa51-43fa-90c9-7198acd4047d",
   "metadata": {},
   "outputs": [],
   "source": [
    "from azure.ai.ml.entities import Hub\n",
    "\n",
    "# construct a basic hub\n",
    "my_hub = Hub(name=my_hub_name, \n",
    "            location=my_location,\n",
    "            display_name=my_hub_display_name)\n",
    "\n",
    "created_hub = ml_client.workspaces.begin_create(my_hub).result()"
   ]
  },
  {
   "cell_type": "markdown",
   "id": "0ad030ea-7bd4-4caf-bacc-eac0076445bc",
   "metadata": {},
   "source": [
    "## Project creation\n",
    "\n",
    "A project will be created and associated to the hub we just created."
   ]
  },
  {
   "cell_type": "code",
   "execution_count": null,
   "id": "5fc32ab7-08ce-4d05-a820-9401d47f583a",
   "metadata": {},
   "outputs": [],
   "source": [
    "from azure.ai.ml.entities import Project\n",
    "\n",
    "# construct the project\n",
    "my_project = Project(name=my_project_name, \n",
    "                location=my_project_location,\n",
    "                display_name=my_project_display_name,\n",
    "                hub_id=created_hub.id)\n",
    "\n",
    "created_project = ml_client.workspaces.begin_create(workspace=my_project).result()"
   ]
  },
  {
   "cell_type": "markdown",
   "id": "eea012f8-0d56-4532-ac8a-db19c7c10372",
   "metadata": {},
   "source": [
    "## AI Services Connection\n",
    "\n",
    "Using an existing Azure AI Services resource, create a connection to the hub."
   ]
  },
  {
   "cell_type": "code",
   "execution_count": null,
   "id": "e29d32c5-89ad-41c7-91ca-6aa16f707d4d",
   "metadata": {},
   "outputs": [],
   "source": [
    "from azure.ai.ml.entities import AzureAIServicesConnection\n",
    "\n",
    "# construct an AI Services connection\n",
    "my_endpoint = \"demo.endpoint\" # this could also be called target\n",
    "my_api_keys = None # leave blank for Authentication type = AAD\n",
    "my_ai_services_resource_id = \"\" # ARM id required\n",
    "\n",
    "my_connection = AIServicesConnection(name=my_connection_name,\n",
    "                                    endpoint=my_endpoint, \n",
    "                                    api_key= my_api_keys,\n",
    "                                    ai_services_resource_id=my_ai_services_resource_id)\n",
    "\n",
    "created_connection = ml_client.connections.create_or_update(my_connection)"
   ]
  },
  {
   "cell_type": "markdown",
   "id": "fa938b30-015a-44a9-a5c2-35bb2642e92b",
   "metadata": {},
   "source": [
    "## Update the ML Client\n",
    "\n",
    "We will input the newly created project into the MLClient to use it."
   ]
  },
  {
   "cell_type": "code",
   "execution_count": null,
   "id": "d5cd467b-51e7-4bbe-a236-cbe5c646087a",
   "metadata": {},
   "outputs": [],
   "source": [
    "ml_client = MLClient(workspace_name=my_project_name, resource_group_name=my_resource_group, subscription_id=my_subscription_id,credential=DefaultAzureCredential())"
   ]
  }
 ],
 "metadata": {
  "kernelspec": {
   "display_name": "Python 3 (ipykernel)",
   "language": "python",
   "name": "python3"
  },
  "language_info": {
   "codemirror_mode": {
    "name": "ipython",
    "version": 3
   },
   "file_extension": ".py",
   "mimetype": "text/x-python",
   "name": "python",
   "nbconvert_exporter": "python",
   "pygments_lexer": "ipython3",
   "version": "3.8.0"
  }
 },
 "nbformat": 4,
 "nbformat_minor": 5
}
