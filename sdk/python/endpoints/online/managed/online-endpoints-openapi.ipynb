{
  "cells": [
    {
      "cell_type": "markdown",
      "metadata": {},
      "source": [
        "# Use OpenAPI with Managed Online Endpoints\n",
        "\n",
        "This example demonstrates how to work with with OpenAPI and Managed Online Endpoints using both automatically-generated and custom Swagger files. \n",
        "\n",
        "The AzureML Inference Server automatically generates swagger files for scoring scripts that use [Inference Schema](https://github.com/Azure/InferenceSchema). In this example, a simple Inference Schema-decorated [scoring script](openapi/decorated/code/score.py) is used. For more complex examples, refer to the [Inference Schema example](../inference-schema).  "
      ]
    },
    {
      "cell_type": "markdown",
      "metadata": {},
      "source": [
        "## 1. Configure parameters, assets, and clients"
      ]
    },
    {
      "cell_type": "markdown",
      "metadata": {},
      "source": [
        "### 1.1 Set workspace details"
      ]
    },
    {
      "cell_type": "code",
      "execution_count": null,
      "metadata": {},
      "outputs": [],
      "source": [
        "subscription_id = \"<SUBSCRIPTION_ID>\"\n",
        "resource_group = \"<RESOURCE_GROUP>\"\n",
        "workspace_name = \"<AML_WORKSPACE_NAME>\""
      ]
    },
    {
      "cell_type": "markdown",
      "metadata": {},
      "source": [
        "### 1.2 Set endpoint details"
      ]
    },
    {
      "cell_type": "code",
      "execution_count": null,
      "metadata": {},
      "outputs": [],
      "source": [
        "import random\n",
        "\n",
        "endpoint_name = f\"endpt-moe-{random.randint(0,10000)}\""
      ]
    },
    {
      "cell_type": "markdown",
      "metadata": {},
      "source": [
        "### 1.3 Create an MLClient instance"
      ]
    },
    {
      "cell_type": "code",
      "execution_count": null,
      "metadata": {},
      "outputs": [],
      "source": [
        "from azure.ai.ml import MLClient\n",
        "from azure.ai.ml.entities import (\n",
        "    ManagedOnlineEndpoint,\n",
        "    ManagedOnlineDeployment,\n",
        "    Model,\n",
        "    CodeConfiguration,\n",
        "    Environment,\n",
        "    BuildContext,\n",
        "    ProbeSettings,\n",
        ")\n",
        "from azure.identity import DefaultAzureCredential\n",
        "\n",
        "credential = DefaultAzureCredential()\n",
        "ml_client = MLClient(\n",
        "    credential,\n",
        "    subscription_id=subscription_id,\n",
        "    resource_group_name=resource_group,\n",
        "    workspace_name=workspace_name,\n",
        ")"
      ]
    },
    {
      "cell_type": "markdown",
      "metadata": {},
      "source": [
        "## 2. Create an endpoint"
      ]
    },
    {
      "cell_type": "markdown",
      "metadata": {},
      "source": [
        "### 2.1 Define and create the endpoint"
      ]
    },
    {
      "cell_type": "code",
      "execution_count": null,
      "metadata": {},
      "outputs": [],
      "source": [
        "endpoint = ManagedOnlineEndpoint(name=endpoint_name)\n",
        "poller = ml_client.online_endpoints.begin_create_or_update(endpoint)\n",
        "poller.wait()"
      ]
    },
    {
      "cell_type": "markdown",
      "metadata": {},
      "source": [
        "### 2.2 Confirm that creation was successful"
      ]
    },
    {
      "cell_type": "code",
      "execution_count": null,
      "metadata": {},
      "outputs": [],
      "source": [
        "status = poller.status()\n",
        "if status != \"Succeeded\":\n",
        "    raise Exception(status)\n",
        "else:\n",
        "    print(\"Endpoint creation succeeded\")\n",
        "    endpoint = poller.result()\n",
        "    print(endpoint)"
      ]
    },
    {
      "cell_type": "markdown",
      "metadata": {},
      "source": [
        "### 2.3 Get endpoint key"
      ]
    },
    {
      "cell_type": "code",
      "execution_count": null,
      "metadata": {},
      "outputs": [],
      "source": [
        "key = ml_client.online_endpoints.get_keys(endpoint_name).primary_key"
      ]
    },
    {
      "cell_type": "markdown",
      "metadata": {},
      "source": [
        "## 3. Create Deployment: Auto-Generated Swagger"
      ]
    },
    {
      "cell_type": "markdown",
      "metadata": {},
      "source": [
        "### 3.1 Define the deployment"
      ]
    },
    {
      "cell_type": "code",
      "execution_count": null,
      "metadata": {},
      "outputs": [],
      "source": [
        "deployment = ManagedOnlineDeployment(\n",
        "    name=\"openapi\",\n",
        "    endpoint_name=endpoint_name,\n",
        "    model=Model(path=\"../model-1/model\"),\n",
        "    code_configuration=CodeConfiguration(\n",
        "        code=\"openapi/code-decorated\", scoring_script=\"score.py\"\n",
        "    ),\n",
        "    environment=Environment(\n",
        "        image=\"mcr.microsoft.com/azureml/minimal-ubuntu20.04-py38-cpu-inference\",\n",
        "        conda_file=\"openapi/env.yml\",\n",
        "    ),\n",
        "    instance_type=\"Standard_DS2_v2\",\n",
        "    instance_count=1,\n",
        ")"
      ]
    },
    {
      "cell_type": "markdown",
      "metadata": {},
      "source": [
        "### 3.2 Create the deployment"
      ]
    },
    {
      "cell_type": "code",
      "execution_count": null,
      "metadata": {},
      "outputs": [],
      "source": [
        "poller = ml_client.online_deployments.begin_create_or_update(deployment)\n",
        "poller.wait()"
      ]
    },
    {
      "cell_type": "markdown",
      "metadata": {},
      "source": [
        "### 3.3 Confirm that creation was successful"
      ]
    },
    {
      "cell_type": "code",
      "execution_count": null,
      "metadata": {},
      "outputs": [],
      "source": [
        "status = poller.status()\n",
        "if status != \"Succeeded\":\n",
        "    raise Exception(status)\n",
        "else:\n",
        "    print(\"Deployment creation succeeded\")\n",
        "    deployment = poller.result()\n",
        "    print(deployment)"
      ]
    },
    {
      "cell_type": "markdown",
      "metadata": {},
      "source": [
        "### 3.4 Set traffic to 100% "
      ]
    },
    {
      "cell_type": "code",
      "execution_count": null,
      "metadata": {},
      "outputs": [],
      "source": [
        "endpoint.traffic = {\"openapi\": 100}\n",
        "endpoint = ml_client.begin_create_or_update(endpoint).result()"
      ]
    },
    {
      "cell_type": "markdown",
      "metadata": {},
      "source": [
        "### 3.5 Test endpoint"
      ]
    },
    {
      "cell_type": "code",
      "execution_count": null,
      "metadata": {},
      "outputs": [],
      "source": [
        "ml_client.online_endpoints.invoke(endpoint_name, request_file=\"../model-1/sample-request.json\")"
      ]
    },
    {
      "cell_type": "markdown",
      "metadata": {},
      "source": [
        "### 3.6 Get Swagger (Default Version)\n",
        "\n",
        "Swagger files are made available by default at the API endpoint `/swagger.json`. The specific route for an endpoint can be retrieved from the `openapi_uri` attribute of the endpoint. "
      ]
    },
    {
      "cell_type": "code",
      "execution_count": null,
      "metadata": {},
      "outputs": [],
      "source": [
        "import requests\n",
        "\n",
        "res = requests.get(url=endpoint.openapi_uri, headers={\"Authorization\": f\"Bearer {key}\"})\n",
        "print(res.content)"
      ]
    },
    {
      "cell_type": "markdown",
      "metadata": {},
      "source": [
        "### 3.7 Get Swagger (Specify Version)\n",
        "Specific versions can be retrieved by adding a `version` parameter to the request. "
      ]
    },
    {
      "cell_type": "code",
      "execution_count": null,
      "metadata": {},
      "outputs": [],
      "source": [
        "import requests\n",
        "\n",
        "res = requests.get(\n",
        "    url=endpoint.openapi_uri,\n",
        "    params={\"version\": 3},\n",
        "    headers={\"Authorization\": f\"Bearer {key}\"},\n",
        ")\n",
        "print(res.content)"
      ]
    },
    {
      "cell_type": "markdown",
      "metadata": {},
      "source": [
        "## 4. Create Deployment: Custom Swagger\n",
        "\n",
        "Custom swagger files can be integrated by including them at the root of the `code` directory. The custom file should be named `swagger<version>.json` i.e. `swagger2.json`. "
      ]
    },
    {
      "cell_type": "markdown",
      "metadata": {},
      "source": [
        "### 4.1 Define the deployment"
      ]
    },
    {
      "cell_type": "code",
      "execution_count": null,
      "metadata": {},
      "outputs": [],
      "source": [
        "deployment = ManagedOnlineDeployment(\n",
        "    name=\"openapi\",\n",
        "    endpoint_name=endpoint_name,\n",
        "    model=Model(path=\"../model-1/model\"),\n",
        "    code_configuration=CodeConfiguration(\n",
        "        code=\"openapi/code-custom\", scoring_script=\"score.py\"\n",
        "    ),\n",
        "    environment=Environment(\n",
        "        image=\"mcr.microsoft.com/azureml/minimal-ubuntu20.04-py38-cpu-inference\",\n",
        "        conda_file=\"openapi/env.yml\",\n",
        "    ),\n",
        "    instance_type=\"Standard_DS2_v2\",\n",
        "    instance_count=1,\n",
        ")"
      ]
    },
    {
      "cell_type": "markdown",
      "metadata": {},
      "source": [
        "### 4.2 Update the deployment"
      ]
    },
    {
      "cell_type": "code",
      "execution_count": null,
      "metadata": {},
      "outputs": [],
      "source": [
        "poller = ml_client.online_deployments.begin_create_or_update(deployment)\n",
        "poller.wait()"
      ]
    },
    {
      "cell_type": "markdown",
      "metadata": {},
      "source": [
        "### 4.3 Confirm update was successful"
      ]
    },
    {
      "cell_type": "code",
      "execution_count": null,
      "metadata": {},
      "outputs": [],
      "source": [
        "status = poller.status()\n",
        "if status != \"Succeeded\":\n",
        "    raise Exception(status)\n",
        "else:\n",
        "    print(\"Deployment creation succeeded\")\n",
        "    deployment = poller.result()\n",
        "    print(deployment)"
      ]
    },
    {
      "cell_type": "markdown",
      "metadata": {},
      "source": [
        "### 4.4 Test endpoint"
      ]
    },
    {
      "cell_type": "code",
      "execution_count": null,
      "metadata": {},
      "outputs": [],
      "source": [
        "ml_client.online_endpoints.invoke(endpoint_name, request_file=\"../model-1/sample-request.json\")"
      ]
    },
    {
      "cell_type": "markdown",
      "metadata": {},
      "source": [
        "### 4.5 Get Custom Swagger"
      ]
    },
    {
      "cell_type": "code",
      "execution_count": null,
      "metadata": {},
      "outputs": [],
      "source": [
        "import requests\n",
        "\n",
        "res = requests.get(url=endpoint.openapi_uri, headers={\"Authorization\": f\"Bearer {key}\"})\n",
        "print(res.content)"
      ]
    },
    {
      "cell_type": "markdown",
      "metadata": {},
      "source": [
        "## 5. Delete assets"
      ]
    },
    {
      "cell_type": "markdown",
      "metadata": {},
      "source": [
        "### 5.1 Delete the endpoint"
      ]
    },
    {
      "cell_type": "code",
      "execution_count": null,
      "metadata": {},
      "outputs": [],
      "source": [
        "ml_client.online_endpoints.begin_delete(name=endpoint_name)"
      ]
    }
  ],
  "metadata": {
    "kernelspec": {
      "display_name": "Python 3.10 - SDK V2",
      "language": "python",
      "name": "python310-sdkv2"
    },
    "language_info": {
      "codemirror_mode": {
        "name": "ipython",
        "version": 3
      },
      "file_extension": ".py",
      "mimetype": "text/x-python",
      "name": "python",
      "nbconvert_exporter": "python",
      "pygments_lexer": "ipython3",
      "version": "3.10.6"
    },
    "vscode": {
      "interpreter": {
        "hash": "4dc7442da1ef04aff095a6963215f8799c9bd7a15503bc9b555daabfc3f235f2"
      }
    }
  },
  "nbformat": 4,
  "nbformat_minor": 2
}
