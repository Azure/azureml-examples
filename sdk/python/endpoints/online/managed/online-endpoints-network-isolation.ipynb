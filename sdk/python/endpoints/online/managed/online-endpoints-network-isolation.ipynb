{
 "cells": [
  {
   "cell_type": "markdown",
   "metadata": {},
   "source": [
    "# Use network isolation with managed online endpoints"
   ]
  },
  {
   "cell_type": "code",
   "execution_count": null,
   "metadata": {},
   "outputs": [],
   "source": [
    "# %pip install azure-mgmt-resource\n",
    "# %pip install azure-mgmt-compute\n",
    "# %pip install azure-mgmt-network\n",
    "# %pip install azure-identity\n",
    "%pip install azure-mgmt-containerregistry"
   ]
  },
  {
   "cell_type": "markdown",
   "metadata": {},
   "source": [
    "## Connect to Azure Machine Learning"
   ]
  },
  {
   "cell_type": "markdown",
   "metadata": {},
   "source": [
    "### Import Required Libraries"
   ]
  },
  {
   "cell_type": "code",
   "execution_count": 1,
   "metadata": {},
   "outputs": [],
   "source": [
    "from azure.ai.ml import MLClient\n",
    "from azure.ai.ml.entities import (\n",
    "    ManagedOnlineEndpoint,\n",
    "    ManagedOnlineDeployment,\n",
    "    Model,\n",
    "    Environment,\n",
    "    CodeConfiguration,\n",
    ")\n",
    "from azure.mgmt.resource import ResourceManagementClient, DeploymentScriptsClient\n",
    "from azure.mgmt.resource.templatespecs import TemplateSpecsClient\n",
    "from azure.mgmt.resource.templatespecs.models import TemplateSpec\n",
    "from azure.mgmt.resource.resources.v2021_04_01 import models as resource_models\n",
    "from azure.mgmt.resource.templatespecs.v2022_02_01.models import TemplateSpec\n",
    "from azure.mgmt.network import NetworkManagementClient\n",
    "from azure.mgmt.compute import ComputeManagementClient\n",
    "from azure.mgmt.compute.models import VirtualMachineRunCommand, VirtualMachine, VirtualMachineRunCommandScriptSource,RunCommandInputParameter\n",
    "from azure.identity import DefaultAzureCredential, AzureCliCredential\n",
    "from azure.mgmt.deploymentmanager import AzureDeploymentManager\n",
    "from azure.mgmt.containerregistry import ContainerRegistryManagementClient\n",
    "from azure.mgmt.containerregistry.models import EncodedTaskRunRequest\n",
    "import os, json, random\n",
    "from pathlib import Path"
   ]
  },
  {
   "cell_type": "markdown",
   "metadata": {},
   "source": [
    "### Set variables"
   ]
  },
  {
   "cell_type": "code",
   "execution_count": 8,
   "metadata": {},
   "outputs": [],
   "source": [
    "_rand = random.randint(0,10000)\n",
    "subscription_id = \"<SUBSCRIPTION_ID>\"\n",
    "resource_group = \"<RESOURCE_GROUP>\"\n",
    "workspace_name = \"<AML_WORKSPACE_NAME>\"\n",
    "location = \"<LOCATION>\"\n",
    "suffix = f\"netiso{_rand}\""
   ]
  },
  {
   "cell_type": "code",
   "execution_count": 9,
   "metadata": {},
   "outputs": [],
   "source": [
    "subscription_id = \"6fe1c377-b645-4e8e-b588-52e57cc856b2\"\n",
    "resource_group = \"alwvnettest\"\n",
    "workspace = \"alwallace\""
   ]
  },
  {
   "cell_type": "code",
   "execution_count": 10,
   "metadata": {},
   "outputs": [],
   "source": [
    "resource_group=\"alwallace-rg\"\n",
    "suffix=\"testfoo\"\n",
    "location = \"eastus2\""
   ]
  },
  {
   "cell_type": "code",
   "execution_count": 11,
   "metadata": {},
   "outputs": [],
   "source": [
    "vnet_name = f\"vnet-{suffix}\"\n",
    "subnet_name = \"snet-scoring\"\n",
    "endpoint_name = f\"endpoint-{suffix}\"\n",
    "vm_name=\"moevnet-vm\"\n",
    "identity_name = f\"uai{suffix}\""
   ]
  },
  {
   "cell_type": "markdown",
   "metadata": {},
   "source": [
    "## Get clients"
   ]
  },
  {
   "cell_type": "code",
   "execution_count": 13,
   "metadata": {},
   "outputs": [],
   "source": [
    "credential = DefaultAzureCredential()\n",
    "\n",
    "ml_client = MLClient(credential, subscription_id, resource_group, workspace)\n",
    "\n",
    "network_client = NetworkManagementClient(credential, subscription_id)\n",
    "\n",
    "resource_client = ResourceManagementClient(credential, subscription_id)\n",
    "\n",
    "compute_client = ComputeManagementClient(credential, subscription_id)\n",
    "\n",
    "ts_client = TemplateSpecsClient(credential, subscription_id)\n",
    "\n",
    "cr_client = ContainerRegistryManagementClient(credential, subscription_id)"
   ]
  },
  {
   "cell_type": "code",
   "execution_count": 15,
   "metadata": {},
   "outputs": [],
   "source": [
    "m=list(ml_client.models.list())[0]"
   ]
  },
  {
   "cell_type": "code",
   "execution_count": 16,
   "metadata": {},
   "outputs": [
    {
     "data": {
      "text/plain": [
       "Model({'job_name': None, 'is_anonymous': False, 'auto_increment_version': True, 'name': 'test1', 'description': None, 'tags': {}, 'properties': {}, 'id': '/subscriptions/6fe1c377-b645-4e8e-b588-52e57cc856b2/resourceGroups/alwallace-rg/providers/Microsoft.MachineLearningServices/workspaces/alwallace/models/test1', 'Resource__source_path': None, 'base_path': '/mnt/samples/azureml-examples.worktrees/alwallace/networkisolation/sdk/python/endpoints/online/managed', 'creation_context': <azure.ai.ml.entities._system_data.SystemData object at 0x7f196e76fb50>, 'serialize': <msrest.serialization.Serializer object at 0x7f1974aba800>, 'version': None, 'latest_version': '1', 'path': None, 'datastore': None, 'utc_time_created': None, 'flavors': None, 'arm_type': 'model_version', 'type': 'custom_model'})"
      ]
     },
     "execution_count": 16,
     "metadata": {},
     "output_type": "execute_result"
    }
   ],
   "source": []
  },
  {
   "cell_type": "markdown",
   "metadata": {},
   "source": [
    "## Create Resources"
   ]
  },
  {
   "cell_type": "markdown",
   "metadata": {},
   "source": [
    "### Create identity"
   ]
  },
  {
   "cell_type": "code",
   "execution_count": null,
   "metadata": {},
   "outputs": [],
   "source": [
    "deployment = resource_client.deployments.begin_create_or_update(\n",
    "    resource_group_name=resource_group,\n",
    "    deployment_name=f\"{suffix}-uai\",\n",
    "    parameters={\"properties\" : {\n",
    "        \"mode\" : \"Incremental\",\n",
    "        \"template\" : json.loads(Path(\"vnet/setup_ws/uai.json\").read_text()), \n",
    "        \"parameters\" : {\n",
    "            \"suffix\" : {\n",
    "                \"value\" : f\"{suffix}\"},\n",
    "        }\n",
    "        }\n",
    "    }\n",
    ").result()"
   ]
  },
  {
   "cell_type": "markdown",
   "metadata": {},
   "source": [
    "### Create workspace"
   ]
  },
  {
   "cell_type": "code",
   "execution_count": null,
   "metadata": {},
   "outputs": [],
   "source": [
    "tempspec_root = Path(\"vnet/setup_ws\")\n",
    "\n",
    "tempspec = ts_client.template_spec_versions.create_or_update(\n",
    "    template_spec_name=\"test\",\n",
    "    template_spec_version=str(_rand),\n",
    "    resource_group_name=resource_group,\n",
    "    template_spec_version_model={\n",
    "        \"location\": \"eastus\",\n",
    "        \"linked_templates\": [\n",
    "            {\n",
    "                \"template\": json.loads(f.read_text()),\n",
    "                \"path\": str(f.relative_to(tempspec_root)),\n",
    "            }\n",
    "            for f in (tempspec_root / \"modules\").iterdir()\n",
    "        ],\n",
    "        \"main_template\": json.loads((tempspec_root / \"main-linked.json\").read_text()),\n",
    "    }\n",
    ")"
   ]
  },
  {
   "cell_type": "code",
   "execution_count": null,
   "metadata": {},
   "outputs": [],
   "source": [
    "deployment = resource_client.deployments.begin_create_or_update(\n",
    "    resource_group_name=resource_group,\n",
    "    deployment_name=suffix,\n",
    "    parameters={ \"properties\" :{\n",
    "            \"mode\" : \"Incremental\",\n",
    "            \"template_link\": {\n",
    "                \"id\" : tempspec.id\n",
    "            },\n",
    "            \"parameters\" : {\n",
    "                \"suffix\": {\n",
    "                    \"value\" : suffix\n",
    "                }\n",
    "            }\n",
    "        }\n",
    "    }\n",
    ").result()"
   ]
  },
  {
   "cell_type": "markdown",
   "metadata": {},
   "source": [
    "### Create vm"
   ]
  },
  {
   "cell_type": "code",
   "execution_count": null,
   "metadata": {},
   "outputs": [],
   "source": [
    "deployment = resource_client.deployments.begin_create_or_update(\n",
    "    resource_group_name=resource_group,\n",
    "    deployment_name=f\"{suffix}-vm\",\n",
    "    parameters={\"properties\" : {\n",
    "        \"mode\" : \"Incremental\",\n",
    "        \"template\" : json.loads(Path(\"vnet/setup_vm/vm-main.json\").read_text()), \n",
    "        \"parameters\" : {\n",
    "            \"vnetName\" : {\n",
    "                \"value\" : f\"vnet-{suffix}\"\n",
    "                }\n",
    "            }\n",
    "        }\n",
    "    }\n",
    ").result()"
   ]
  },
  {
   "cell_type": "markdown",
   "metadata": {},
   "source": [
    "## Continue on the VM"
   ]
  },
  {
   "cell_type": "markdown",
   "metadata": {},
   "source": [
    "### Execute the setup script"
   ]
  },
  {
   "cell_type": "code",
   "execution_count": 34,
   "metadata": {},
   "outputs": [],
   "source": [
    "command = compute_client.virtual_machine_run_commands.begin_create_or_update(\n",
    "    vm_name=vm_name,\n",
    "    resource_group_name=resource_group,\n",
    "    run_command_name=\"test\",\n",
    "    run_command={\"source\": \n",
    "        {\"script\": Path(\"vnet/setup_vm/scripts/vmsetup.sh\").read_text()},\n",
    "        \"parameters\": [\n",
    "            {\"name\" : \"SUBSCRIPTION\",\n",
    "            \"value\" : subscription_id},\n",
    "            {\"name\" : \"RESOURCE_GROUP\",\n",
    "            \"value\" : resource_group},\n",
    "            {\"name\" : \"LOCATION\",\n",
    "            \"value\" : location},\n",
    "            {\"name\" : \"WORKSPACE\",\n",
    "            \"value\" : workspace},\n",
    "            {\"name\" : \"IDENTITY_NAME\",\n",
    "            \"value\" : identity_name}\n",
    "        ],\n",
    "        \"location\": location} \n",
    ").result()"
   ]
  },
  {
   "cell_type": "code",
   "execution_count": null,
   "metadata": {},
   "outputs": [],
   "source": [
    "l=compute_client.virtual_machine_run_commands.list_by_virtual_machine(resource_group_name=resource_group, vm_name=vm_name)"
   ]
  },
  {
   "cell_type": "code",
   "execution_count": null,
   "metadata": {},
   "outputs": [],
   "source": [
    "cr_client.build_tasks.begin_create(\n",
    "    type\n",
    "    registry_name=\"alwallace\",\n",
    "    resource_group_name=resource_group,\n",
    "    task_run_request=EncodedTaskRunRequest(),\n",
    ")\n"
   ]
  }
 ],
 "metadata": {
  "kernelspec": {
   "display_name": "Python 3.10.4 ('network')",
   "language": "python",
   "name": "python3"
  },
  "language_info": {
   "codemirror_mode": {
    "name": "ipython",
    "version": 3
   },
   "file_extension": ".py",
   "mimetype": "text/x-python",
   "name": "python",
   "nbconvert_exporter": "python",
   "pygments_lexer": "ipython3",
   "version": "3.10.4"
  },
  "vscode": {
   "interpreter": {
    "hash": "ee2b5cd424532374c8e4812d1cf713a3a2e75373848f740b286e76efa2fcd014"
   }
  }
 },
 "nbformat": 4,
 "nbformat_minor": 2
}
