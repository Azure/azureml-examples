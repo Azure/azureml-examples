{
    "cells": [
        {
            "cell_type": "markdown",
            "metadata": {},
            "source": [
                "# Access Keyvault secrets from a Managed Online Endpoint\n",
                "\n",
                "In this example we create a Keyvault, set a secret, and then retrieve the secret from a Managed Online Endpoint using the endpoint's system-assigned managed identity. By using the managed identity, the need to pass secrets as well as any other credentials in the image or deployment is avoided.\n",
                "\n",
                "## Prerequisites: \n",
                "* The following additional Python packages should be installed: \n",
                "    * [azure-mgmt-keyvault](https://pypi.org/project/azure-mgmt-keyvault/) - Used to create a keyvault\n",
                "    * [azure-keyvault](https://pypi.org/project/azure-keyvault/)- Used to set the secret and permissions\n",
                "\n",
                "Install the prerequisites with the following code: "
            ]
        },
        {
            "cell_type": "code",
            "execution_count": null,
            "metadata": {},
            "outputs": [],
            "source": [
                "%pip install azure-mgmt-keyvault\n",
                "%pip install azure-keyvault"
            ]
        },
        {
            "cell_type": "markdown",
            "metadata": {},
            "source": [
                "## 1. Configure parameters, assets, and clients"
            ]
        },
        {
            "cell_type": "markdown",
            "metadata": {},
            "source": [
                "### 1.1 Set workspace details"
            ]
        },
        {
            "cell_type": "code",
            "execution_count": null,
            "metadata": {},
            "outputs": [],
            "source": [
                "subscription_id = \"<SUBSCRIPTION_ID>\"\n",
                "resource_group = \"<RESOURCE_GROUP>\"\n",
                "workspace_name = \"<AML_WORKSPACE_NAME>\""
            ]
        },
        {
            "cell_type": "markdown",
            "metadata": {},
            "source": [
                "### 1.2 Set endpoint and keyvault details"
            ]
        },
        {
            "cell_type": "code",
            "execution_count": null,
            "metadata": {},
            "outputs": [],
            "source": [
                "import random\n",
                "\n",
                "rand = random.randint(0, 10000)\n",
                "\n",
                "endpoint_name = f\"endpt-moe-kv-{rand}\"\n",
                "keyvault_name = f\"kvexample{rand}\""
            ]
        },
        {
            "cell_type": "markdown",
            "metadata": {},
            "source": [
                "### 1.3 Set asset paths"
            ]
        },
        {
            "cell_type": "code",
            "execution_count": null,
            "metadata": {},
            "outputs": [],
            "source": [
                "import os\n",
                "\n",
                "base_path = \"keyvault\"\n",
                "code_path = os.path.join(base_path, \"code\")\n",
                "conda_file_path = os.path.join(base_path, \"env.yml\")\n",
                "sample_request_path = os.path.join(base_path, \"sample_request.json\")"
            ]
        },
        {
            "cell_type": "markdown",
            "metadata": {},
            "source": [
                "### 1.4 Examine the scoring script\n",
                "The scoring script uses a `ManagedIdentityCredential` to authenticate itself to the Keyvault via a `SecretClient` from the `azure-keyvault` package. No arguments are needed to instantiate the credential object when this code is executed in a deployment, because it reads the environment variables `MSI_SECRET` and `MSI_ENDPOINT` which are already present by default.\n",
                "\n",
                "As part of the deployment, we will pass an environment variable called `KV_SECRET_MULTIPLIER` and give it the `multiplier@https://<VAULT_NAME>.vault.azure.net`. The convenience function `load_secrets` looks for environment variables with `KV_SECRET` and replaces their values with the actual value of the secret from the keyvault.\n",
                "\n",
                "When a request is received, `input` is multiplied by our secret. \n",
                "\n",
                "```python \n",
                "from azure.identity import ManagedIdentityCredential\n",
                "from azure.keyvault.secrets import SecretClient\n",
                "import os\n",
                "import json\n",
                "\n",
                "multiplier : int = None\n",
                "\n",
                "def load_secrets():\n",
                "    \"\"\"\n",
                "    Replaces the values of environment variables with names containing \"KV_SECRET\" and values of the form \"<SECRET_NAME>@<VAULT_URL>\" with the actual secret values\n",
                "\n",
                "    Uses the ManagedIdentityCredential to create a SecretClient for each <VAULT_URL>. The endpoint's Managed Identity should have the get permission for secrets. \n",
                "\n",
                "    Example: \n",
                "        KV_SECRET_FOO: foo@https://keyvault123.vault.azure.net\n",
                "\n",
                "        Will be replaced with the actual vaule of the secret named foo in keyvault123. \n",
                "    \"\"\"\n",
                "    secret_clients = {}\n",
                "    credential = ManagedIdentityCredential()\n",
                "\n",
                "    for k, v in os.environ.items():\n",
                "        if \"KV_SECRET\" in k:\n",
                "            try: \n",
                "                secret_name, vault_url = v.split(\"@\")\n",
                "            except ValueError: \n",
                "                raise ValueError(f\"Wrong value format for env var {k} with value {v}. Should be of the form <SECRET_NAME>@<VAULT_URL>\")\n",
                "\n",
                "            if vault_url in secret_clients:\n",
                "                secret_client = secret_clients[vault_url]\n",
                "            else: \n",
                "                secret_client = SecretClient(vault_url=vault_url, credential=credential)\n",
                "                secret_clients[vault_url] = secret_client\n",
                "\n",
                "            secret_value = secret_client.get_secret(secret_name).value\n",
                "            os.environ[k] = secret_value\n",
                "\n",
                "def init():\n",
                "    load_secrets() \n",
                "    \n",
                "    global multiplier\n",
                "    multiplier = int(os.getenv(\"KV_SECRET_MULTIPLIER\"))\n",
                "\n",
                "def run(data): \n",
                "    data = json.loads(data)\n",
                "    input = data[\"input\"]\n",
                "    output = input*multiplier\n",
                "\n",
                "    return {\"output\" : output}"
            ]
        },
        {
            "cell_type": "markdown",
            "metadata": {},
            "source": [
                "### 1.5 Create an MLClient instance"
            ]
        },
        {
            "cell_type": "code",
            "execution_count": null,
            "metadata": {},
            "outputs": [],
            "source": [
                "from azure.ai.ml import MLClient\n",
                "from azure.ai.ml.entities import (\n",
                "    ManagedOnlineEndpoint,\n",
                "    ManagedOnlineDeployment,\n",
                "    Model,\n",
                "    CodeConfiguration,\n",
                "    Environment,\n",
                ")\n",
                "from azure.identity import DefaultAzureCredential\n",
                "\n",
                "credential = DefaultAzureCredential()\n",
                "ml_client = MLClient(\n",
                "    credential,\n",
                "    subscription_id=subscription_id,\n",
                "    resource_group_name=resource_group,\n",
                "    workspace_name=workspace_name,\n",
                ")"
            ]
        },
        {
            "cell_type": "markdown",
            "metadata": {},
            "source": [
                "### 1.6 Create a Keyvault Management client"
            ]
        },
        {
            "cell_type": "code",
            "execution_count": null,
            "metadata": {},
            "outputs": [],
            "source": [
                "from azure.mgmt.keyvault import KeyVaultManagementClient\n",
                "\n",
                "keyvault_mgmt_client = KeyVaultManagementClient(\n",
                "    credential=credential, subscription_id=subscription_id\n",
                ")"
            ]
        },
        {
            "cell_type": "markdown",
            "metadata": {},
            "source": [
                "## 2. Create an endpoint"
            ]
        },
        {
            "cell_type": "markdown",
            "metadata": {},
            "source": [
                "### 2.1 Define and create the endpoint"
            ]
        },
        {
            "cell_type": "code",
            "execution_count": null,
            "metadata": {},
            "outputs": [],
            "source": [
                "endpoint = ManagedOnlineEndpoint(name=endpoint_name)\n",
                "poller = ml_client.online_endpoints.begin_create_or_update(endpoint)\n",
                "poller.wait()"
            ]
        },
        {
            "cell_type": "markdown",
            "metadata": {},
            "source": [
                "### 2.2 Confirm that creation was successful"
            ]
        },
        {
            "cell_type": "code",
            "execution_count": null,
            "metadata": {},
            "outputs": [],
            "source": [
                "status = poller.status()\n",
                "if status != \"Succeeded\":\n",
                "    raise Exception(status)\n",
                "else:\n",
                "    print(\"Endpoint creation succeeded\")\n",
                "    endpoint = poller.result()\n",
                "    print(endpoint)"
            ]
        },
        {
            "cell_type": "markdown",
            "metadata": {},
            "source": [
                "## 3. Create a Keyvault"
            ]
        },
        {
            "cell_type": "markdown",
            "metadata": {},
            "source": [
                "### 3.1 Get the Endpoint Object ID, location, and Tenant ID"
            ]
        },
        {
            "cell_type": "code",
            "execution_count": null,
            "metadata": {},
            "outputs": [],
            "source": [
                "endpoint_object_id = endpoint.identity.principal_id\n",
                "location = endpoint.location\n",
                "tenant_id = endpoint.identity.tenant_id"
            ]
        },
        {
            "cell_type": "markdown",
            "metadata": {},
            "source": [
                "### 3.2 Get your User Object ID"
            ]
        },
        {
            "cell_type": "code",
            "execution_count": null,
            "metadata": {},
            "outputs": [],
            "source": [
                "raise Exception(os.environ.keys())"
            ]
        },
        {
            "cell_type": "code",
            "execution_count": null,
            "metadata": {},
            "outputs": [],
            "source": [
                "from azure.identity import AzureCliCredential, EnvironmentCredential,DefaultAzureCredential\n",
                "import requests\n",
                "\n",
                "cli_credential = AzureCliCredential()\n",
                "token = cli_credential.get_token(\"https://graph.microsoft.com\").token\n",
                "res = requests.get(\n",
                "    \"https://graph.microsoft.com/v1.0/me\", headers={\"Authorization\": f\"Bearer {token}\"}\n",
                ")\n",
                "user_object_id = res.json().get(\"id\")"
            ]
        },
        {
            "cell_type": "markdown",
            "metadata": {},
            "source": [
                "### 3.3 Define an AccessPolicy for the Endpoint\n",
                "Allow the endpoint to get secrets in the Keyvault"
            ]
        },
        {
            "cell_type": "code",
            "execution_count": null,
            "metadata": {},
            "outputs": [],
            "source": [
                "from azure.mgmt.keyvault.models import AccessPolicyEntry, Permissions, SecretPermissions\n",
                "\n",
                "endpoint_access_policy = AccessPolicyEntry(\n",
                "    tenant_id=endpoint.identity.tenant_id,\n",
                "    object_id=endpoint.identity.principal_id,\n",
                "    permissions=Permissions(secrets=[SecretPermissions.GET]),\n",
                ")"
            ]
        },
        {
            "cell_type": "markdown",
            "metadata": {},
            "source": [
                "### 3.4 Define an AccessPolicy for the current user\n",
                "Allow all secret permissions for the current user or Service Principal"
            ]
        },
        {
            "cell_type": "code",
            "execution_count": null,
            "metadata": {},
            "outputs": [],
            "source": [
                "if user_object_id:\n",
                "    user_or_sp_access_policy = AccessPolicyEntry(\n",
                "        tenant_id=endpoint.identity.tenant_id,\n",
                "        object_id=user_object_id,\n",
                "        permissions=Permissions(secrets=[SecretPermissions.ALL]),\n",
                "    )\n",
                "else: \n",
                "    user_or_sp_access_policy = AccessPolicyEntry(\n",
                "        tenant_id=endpoint.identity.tenant_id,\n",
                "        object_id=user_object_id,\n",
                "        permissions=Permissions(secrets=[SecretPermissions.ALL]),\n",
                "    )"
            ]
        },
        {
            "cell_type": "markdown",
            "metadata": {},
            "source": [
                "### 3.5 Create the Keyvault"
            ]
        },
        {
            "cell_type": "code",
            "execution_count": null,
            "metadata": {},
            "outputs": [],
            "source": [
                "from azure.mgmt.keyvault.models import (\n",
                "    VaultCreateOrUpdateParameters,\n",
                "    VaultProperties,\n",
                "    Sku,\n",
                ")\n",
                "\n",
                "poller = keyvault_mgmt_client.vaults.begin_create_or_update(\n",
                "    vault_name=keyvault_name,\n",
                "    resource_group_name=resource_group,\n",
                "    parameters=VaultCreateOrUpdateParameters(\n",
                "        location=location,\n",
                "        properties=VaultProperties(\n",
                "            tenant_id=tenant_id,\n",
                "            sku=Sku(name=\"Standard\"),\n",
                "            access_policies=[endpoint_access_policy, user_or_sp_access_policy],\n",
                "        ),\n",
                "    ),\n",
                ")\n",
                "poller.wait()"
            ]
        },
        {
            "cell_type": "markdown",
            "metadata": {},
            "source": [
                "### 3.6 Confirm the Keyvault creation was successful"
            ]
        },
        {
            "cell_type": "code",
            "execution_count": null,
            "metadata": {},
            "outputs": [],
            "source": [
                "status = poller.status()\n",
                "if status != \"Succeeded\":\n",
                "    raise Exception(status)\n",
                "else:\n",
                "    print(\"Endpoint creation succeeded\")\n",
                "    keyvault = poller.result()\n",
                "    print(keyvault)"
            ]
        },
        {
            "cell_type": "markdown",
            "metadata": {},
            "source": [
                "## 4. Set a Keyvault secret"
            ]
        },
        {
            "cell_type": "markdown",
            "metadata": {},
            "source": [
                "### 4.1 Create a SecretClient"
            ]
        },
        {
            "cell_type": "code",
            "execution_count": null,
            "metadata": {},
            "outputs": [],
            "source": [
                "from azure.keyvault.secrets import SecretClient\n",
                "\n",
                "secret_client = SecretClient(\n",
                "    credential=credential, vault_url=f\"https://{keyvault_name}.vault.azure.net\"\n",
                ")"
            ]
        },
        {
            "cell_type": "markdown",
            "metadata": {},
            "source": [
                "### 4.2 Set a secret"
            ]
        },
        {
            "cell_type": "code",
            "execution_count": null,
            "metadata": {},
            "outputs": [],
            "source": [
                "secret = secret_client.set_secret(name=\"multiplier\", value=str(7))"
            ]
        },
        {
            "cell_type": "markdown",
            "metadata": {},
            "source": [
                "## 5. Create a Deployment"
            ]
        },
        {
            "cell_type": "markdown",
            "metadata": {},
            "source": [
                "### 5.1 Define and begin the deployment creation\n",
                "The environment variable `KV_SECRET_MULTIPLIER` is set to `<SECRET_NAME>@<KEYVAULT_URL>`. In the scoring script, this value is parsed and passed to a SecretClient to retrieve the secret from the Keyvault."
            ]
        },
        {
            "cell_type": "code",
            "execution_count": null,
            "metadata": {},
            "outputs": [],
            "source": [
                "deployment = ManagedOnlineDeployment(\n",
                "    name=\"kvdep\",\n",
                "    endpoint_name=endpoint_name,\n",
                "    model=Model(path=base_path),\n",
                "    code_configuration=CodeConfiguration(code=code_path, scoring_script=\"score.py\"),\n",
                "    environment=Environment(\n",
                "        conda_file=conda_file_path,\n",
                "        image=\"mcr.microsoft.com/azureml/minimal-ubuntu20.04-py38-cpu-inference:latest\",\n",
                "    ),\n",
                "    environment_variables={\n",
                "        \"KV_SECRET_MULTIPLIER\": f\"multiplier@https://{keyvault_name}.vault.azure.net\"\n",
                "    },\n",
                "    instance_type=\"Standard_DS2_v2\",\n",
                "    instance_count=1,\n",
                ")\n",
                "poller = ml_client.online_deployments.begin_create_or_update(deployment)\n",
                "poller.wait()"
            ]
        },
        {
            "cell_type": "markdown",
            "metadata": {},
            "source": [
                "### 5.2 Confirm the creation was successful"
            ]
        },
        {
            "cell_type": "code",
            "execution_count": null,
            "metadata": {},
            "outputs": [],
            "source": [
                "status = poller.status()\n",
                "if status != \"Succeeded\":\n",
                "    raise ValueError(status)\n",
                "else:\n",
                "    print(\"Endpoint creation succeeded\")\n",
                "    deployment = poller.result()\n",
                "    print(deployment)"
            ]
        },
        {
            "cell_type": "code",
            "execution_count": null,
            "metadata": {},
            "outputs": [],
            "source": [
                "endpoint.traffic = {\"kvdep\": 100}\n",
                "endpoint = ml_client.online_endpoints.begin_create_or_update(endpoint).result()"
            ]
        },
        {
            "cell_type": "markdown",
            "metadata": {},
            "source": [
                "## 6. Test the endpoint\n",
                "The endpoint returns the value of `input` multiplied by the secret."
            ]
        },
        {
            "cell_type": "code",
            "execution_count": null,
            "metadata": {},
            "outputs": [],
            "source": [
                "ml_client.online_endpoints.invoke(\n",
                "    endpoint_name=endpoint_name, request_file=sample_request_path\n",
                ")"
            ]
        },
        {
            "cell_type": "markdown",
            "metadata": {},
            "source": [
                "## 7. Delete assets"
            ]
        },
        {
            "cell_type": "markdown",
            "metadata": {},
            "source": [
                "### 7.1 Delete the endpoint"
            ]
        },
        {
            "cell_type": "code",
            "execution_count": null,
            "metadata": {},
            "outputs": [],
            "source": [
                "ml_client.online_endpoints.begin_delete(name=endpoint_name)"
            ]
        },
        {
            "cell_type": "markdown",
            "metadata": {},
            "source": [
                "### 7.2 Delete the keyvault"
            ]
        },
        {
            "cell_type": "code",
            "execution_count": null,
            "metadata": {},
            "outputs": [],
            "source": [
                "keyvault_mgmt_client.vaults.delete(\n",
                "    resource_group_name=resource_group, vault_name=keyvault_name\n",
                ")"
            ]
        }
    ],
    "metadata": {
        "kernelspec": {
            "display_name": "Python 3.10.6 ('keyvault')",
            "language": "python",
            "name": "python3"
        },
        "language_info": {
            "codemirror_mode": {
                "name": "ipython",
                "version": 3
            },
            "file_extension": ".py",
            "mimetype": "text/x-python",
            "name": "python",
            "nbconvert_exporter": "python",
            "pygments_lexer": "ipython3",
            "version": "3.10.6"
        },
        "vscode": {
            "interpreter": {
                "hash": "103e4dffdc87d5e761c21b3875987ce70e93823f5f2e969a3724eab733263b67"
            }
        }
    },
    "nbformat": 4,
    "nbformat_minor": 2
}
