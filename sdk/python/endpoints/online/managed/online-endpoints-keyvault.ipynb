{
 "cells": [
  {
   "cell_type": "markdown",
   "metadata": {},
   "source": [
    "# Access Keyvault secrets from a Managed Online Endpoint\n",
    "\n",
    "In this example we create a Keyvault, set a secret, and then retrieve the secret from a Managed Online Endpoint using the endpoint's system-assigned managed identity. By using the managed identity, the need to pass secrets as well as any other credentials in the image or deployment is avoided.\n",
    "\n",
    "## Prerequisites: \n",
    "* The following additional Python packages should be installed: \n",
    "    * [azure-mgmt-keyvault](https://pypi.org/project/azure-mgmt-keyvault/) - Used to create a keyvault\n",
    "    * [azure-keyvault](https://pypi.org/project/azure-keyvault/)- Used to set the secret and permissions\n",
    "\n",
    "Install the prerequisites with the following code: "
   ]
  },
  {
   "cell_type": "code",
   "execution_count": null,
   "metadata": {},
   "outputs": [],
   "source": [
    "%pip install azure-mgmt-keyvault\n",
    "%pip install azure-keyvault"
   ]
  },
  {
   "cell_type": "markdown",
   "metadata": {},
   "source": [
    "## 1. Configure parameters, assets, and clients"
   ]
  },
  {
   "cell_type": "markdown",
   "metadata": {},
   "source": [
    "### 1.1 Set workspace details"
   ]
  },
  {
   "cell_type": "code",
   "execution_count": null,
   "metadata": {},
   "outputs": [],
   "source": [
    "subscription_id = \"<SUBSCRIPTION_ID>\"\n",
    "resource_group = \"<RESOURCE_GROUP>\"\n",
    "workspace_name = \"<AML_WORKSPACE_NAME>\""
   ]
  },
  {
   "cell_type": "code",
   "execution_count": 12,
   "metadata": {},
   "outputs": [],
   "source": [
    "subscription_id = \"6fe1c377-b645-4e8e-b588-52e57cc856b2\"\n",
    "resource_group = \"alwallace-rg\"\n",
    "workspace_name = \"alwallace\""
   ]
  },
  {
   "cell_type": "markdown",
   "metadata": {},
   "source": [
    "### 1.2 Set endpoint and keyvault details"
   ]
  },
  {
   "cell_type": "code",
   "execution_count": 18,
   "metadata": {},
   "outputs": [],
   "source": [
    "import random\n",
    "\n",
    "rand = random.randint(0, 10000)\n",
    "\n",
    "endpoint_name = f\"endpt-moe-kv-{rand}\"\n",
    "keyvault_name = f\"kvexample{rand}\""
   ]
  },
  {
   "cell_type": "markdown",
   "metadata": {},
   "source": [
    "### 1.3 Set asset paths"
   ]
  },
  {
   "cell_type": "code",
   "execution_count": null,
   "metadata": {},
   "outputs": [],
   "source": [
    "import os\n",
    "\n",
    "base_path = \"keyvault\"\n",
    "code_path = os.path.join(base_path, \"code\")\n",
    "conda_file_path = os.path.join(base_path, \"env.yml\")\n",
    "sample_request_path = os.path.join(base_path, \"sample_request.json\")"
   ]
  },
  {
   "cell_type": "markdown",
   "metadata": {},
   "source": [
    "### 1.4 Examine the scoring script\n",
    "The scoring script uses a `ManagedIdentityCredential` to authenticate itself to the Keyvault via a `SecretClient` from the `azure-keyvault` package. No arguments are needed to instantiate the credential object when this code is executed in a deployment, because it reads the environment variables `MSI_SECRET` and `MSI_ENDPOINT` which are already present by default.\n",
    "\n",
    "As part of the deployment, we will pass an environment variable called `KV_SECRET_MULTIPLIER` and give it the `multiplier@https://<VAULT_NAME>.vault.azure.net`. The convenience function `load_secrets` looks for environment variables with `KV_SECRET` and replaces their values with the actual value of the secret from the keyvault.\n",
    "\n",
    "When a request is received, `input` is multiplied by our secret. \n",
    "\n",
    "```python \n",
    "from azure.identity import ManagedIdentityCredential\n",
    "from azure.keyvault.secrets import SecretClient\n",
    "import os\n",
    "import json\n",
    "\n",
    "multiplier : int = None\n",
    "\n",
    "def load_secrets():\n",
    "    \"\"\"\n",
    "    Replaces the values of environment variables with names containing \"KV_SECRET\" and values of the form \"<SECRET_NAME>@<VAULT_URL>\" with the actual secret values\n",
    "\n",
    "    Uses the ManagedIdentityCredential to create a SecretClient for each <VAULT_URL>. The endpoint's Managed Identity should have the get permission for secrets. \n",
    "\n",
    "    Example: \n",
    "        KV_SECRET_FOO: foo@https://keyvault123.vault.azure.net\n",
    "\n",
    "        Will be replaced with the actual vaule of the secret named foo in keyvault123. \n",
    "    \"\"\"\n",
    "    secret_clients = {}\n",
    "    credential = ManagedIdentityCredential()\n",
    "\n",
    "    for k, v in os.environ.items():\n",
    "        if \"KV_SECRET\" in k:\n",
    "            try: \n",
    "                secret_name, vault_url = v.split(\"@\")\n",
    "            except ValueError: \n",
    "                raise ValueError(f\"Wrong value format for env var {k} with value {v}. Should be of the form <SECRET_NAME>@<VAULT_URL>\")\n",
    "\n",
    "            if vault_url in secret_clients:\n",
    "                secret_client = secret_clients[vault_url]\n",
    "            else: \n",
    "                secret_client = SecretClient(vault_url=vault_url, credential=credential)\n",
    "                secret_clients[vault_url] = secret_client\n",
    "\n",
    "            secret_value = secret_client.get_secret(secret_name).value\n",
    "            os.environ[k] = secret_value\n",
    "\n",
    "def init():\n",
    "    load_secrets() \n",
    "    \n",
    "    global multiplier\n",
    "    multiplier = int(os.getenv(\"KV_SECRET_MULTIPLIER\"))\n",
    "\n",
    "def run(data): \n",
    "    data = json.loads(data)\n",
    "    input = data[\"input\"]\n",
    "    output = input*multiplier\n",
    "\n",
    "    return {\"output\" : output}"
   ]
  },
  {
   "cell_type": "markdown",
   "metadata": {},
   "source": [
    "### 1.5 Create an MLClient instance"
   ]
  },
  {
   "cell_type": "code",
   "execution_count": 15,
   "metadata": {},
   "outputs": [
    {
     "name": "stderr",
     "output_type": "stream",
     "text": [
      "Class SystemCreatedStorageAccount: This is an experimental class, and may change at any time. Please see https://aka.ms/azuremlexperimental for more information.\n",
      "Class SystemCreatedAcrAccount: This is an experimental class, and may change at any time. Please see https://aka.ms/azuremlexperimental for more information.\n",
      "Class RegistryOperations: This is an experimental class, and may change at any time. Please see https://aka.ms/azuremlexperimental for more information.\n"
     ]
    }
   ],
   "source": [
    "from azure.ai.ml import MLClient\n",
    "from azure.ai.ml.entities import (\n",
    "    ManagedOnlineEndpoint,\n",
    "    ManagedOnlineDeployment,\n",
    "    Model,\n",
    "    CodeConfiguration,\n",
    "    Environment,\n",
    ")\n",
    "from azure.identity import DefaultAzureCredential\n",
    "\n",
    "credential = DefaultAzureCredential()\n",
    "ml_client = MLClient(\n",
    "    credential,\n",
    "    subscription_id=subscription_id,\n",
    "    resource_group_name=resource_group,\n",
    "    workspace_name=workspace_name,\n",
    ")"
   ]
  },
  {
   "cell_type": "markdown",
   "metadata": {},
   "source": [
    "### 1.6 Create a Keyvault Management client"
   ]
  },
  {
   "cell_type": "code",
   "execution_count": 16,
   "metadata": {},
   "outputs": [],
   "source": [
    "from azure.mgmt.keyvault import KeyVaultManagementClient\n",
    "\n",
    "keyvault_mgmt_client = KeyVaultManagementClient(\n",
    "    credential=credential, subscription_id=subscription_id\n",
    ")"
   ]
  },
  {
   "cell_type": "markdown",
   "metadata": {},
   "source": [
    "## 2. Create an endpoint"
   ]
  },
  {
   "cell_type": "code",
   "execution_count": null,
   "metadata": {},
   "outputs": [],
   "source": [
    "endpoint = ManagedOnlineEndpoint(name=endpoint_name)"
   ]
  },
  {
   "cell_type": "code",
   "execution_count": 22,
   "metadata": {},
   "outputs": [],
   "source": [
    "endpoint = ml_client.online_endpoints.begin_create_or_update(endpoint).result()"
   ]
  },
  {
   "cell_type": "markdown",
   "metadata": {},
   "source": [
    "## 3. Create a Keyvault"
   ]
  },
  {
   "cell_type": "markdown",
   "metadata": {},
   "source": [
    "### 3.1 Get the Endpoint Object ID, location, and Tenant ID"
   ]
  },
  {
   "cell_type": "code",
   "execution_count": 28,
   "metadata": {},
   "outputs": [],
   "source": [
    "endpoint_object_id = endpoint.identity.principal_id\n",
    "location = endpoint.location\n",
    "tenant_id = endpoint.identity.tenant_id"
   ]
  },
  {
   "cell_type": "markdown",
   "metadata": {},
   "source": [
    "### 3.2 Get your User Object ID"
   ]
  },
  {
   "cell_type": "code",
   "execution_count": null,
   "metadata": {},
   "outputs": [],
   "source": [
    "raise Exception(os.environ.keys())"
   ]
  },
  {
   "cell_type": "code",
   "execution_count": null,
   "metadata": {},
   "outputs": [],
   "source": [
    "from azure.identity import AzureCliCredential, EnvironmentCredential,DefaultAzureCredential\n",
    "import requests\n",
    "\n",
    "cli_credential = AzureCliCredential()\n",
    "token = cli_credential.get_token(\"https://graph.microsoft.com\").token\n",
    "res = requests.get(\n",
    "    \"https://graph.microsoft.com/v1.0/me\", headers={\"Authorization\": f\"Bearer {token}\"}\n",
    ")\n",
    "user_object_id = res.json().get(\"id\")"
   ]
  },
  {
   "cell_type": "markdown",
   "metadata": {},
   "source": [
    "### 3.3 Define an AccessPolicy for the Endpoint\n",
    "Allow the endpoint to get secrets in the Keyvault"
   ]
  },
  {
   "cell_type": "code",
   "execution_count": null,
   "metadata": {},
   "outputs": [],
   "source": [
    "from azure.mgmt.keyvault.models import AccessPolicyEntry, Permissions, SecretPermissions\n",
    "\n",
    "endpoint_access_policy = AccessPolicyEntry(\n",
    "    tenant_id=endpoint.identity.tenant_id,\n",
    "    object_id=endpoint.identity.principal_id,\n",
    "    permissions=Permissions(secrets=[SecretPermissions.GET]),\n",
    ")"
   ]
  },
  {
   "cell_type": "markdown",
   "metadata": {},
   "source": [
    "### 3.4 Define an AccessPolicy for the current user\n",
    "Allow all secret permissions for the current user or Service Principal"
   ]
  },
  {
   "cell_type": "code",
   "execution_count": null,
   "metadata": {},
   "outputs": [],
   "source": [
    "if user_object_id:\n",
    "    user_or_sp_access_policy = AccessPolicyEntry(\n",
    "        tenant_id=endpoint.identity.tenant_id,\n",
    "        object_id=user_object_id,\n",
    "        permissions=Permissions(secrets=[SecretPermissions.ALL]),\n",
    "    )\n",
    "else: \n",
    "    user_or_sp_access_policy = AccessPolicyEntry(\n",
    "        tenant_id=endpoint.identity.tenant_id,\n",
    "        object_id=user_object_id,\n",
    "        permissions=Permissions(secrets=[SecretPermissions.ALL]),\n",
    "    )"
   ]
  },
  {
   "cell_type": "markdown",
   "metadata": {},
   "source": [
    "### 3.5 Create the Keyvault"
   ]
  },
  {
   "cell_type": "code",
   "execution_count": 21,
   "metadata": {},
   "outputs": [
    {
     "ename": "ResourceNotFoundError",
     "evalue": "(ResourceNotFound) The Resource 'Microsoft.MachineLearningServices/workspaces/alwallace/onlineEndpoints/endpoint-25589' under resource group 'alwallace-rg' was not found. For more details please go to https://aka.ms/ARMResourceNotFoundFix\nCode: ResourceNotFound\nMessage: The Resource 'Microsoft.MachineLearningServices/workspaces/alwallace/onlineEndpoints/endpoint-25589' under resource group 'alwallace-rg' was not found. For more details please go to https://aka.ms/ARMResourceNotFoundFix",
     "output_type": "error",
     "traceback": [
      "\u001b[0;31m---------------------------------------------------------------------------\u001b[0m",
      "\u001b[0;31mResourceNotFoundError\u001b[0m                     Traceback (most recent call last)",
      "Cell \u001b[0;32mIn [21], line 1\u001b[0m\n\u001b[0;32m----> 1\u001b[0m ml_client\u001b[39m.\u001b[39;49monline_endpoints\u001b[39m.\u001b[39;49mget(\u001b[39m\"\u001b[39;49m\u001b[39mendpoint-25589\u001b[39;49m\u001b[39m\"\u001b[39;49m)\n",
      "File \u001b[0;32m/anaconda/envs/keyvault/lib/python3.10/site-packages/azure/core/tracing/decorator.py:78\u001b[0m, in \u001b[0;36mdistributed_trace.<locals>.decorator.<locals>.wrapper_use_tracer\u001b[0;34m(*args, **kwargs)\u001b[0m\n\u001b[1;32m     76\u001b[0m span_impl_type \u001b[39m=\u001b[39m settings\u001b[39m.\u001b[39mtracing_implementation()\n\u001b[1;32m     77\u001b[0m \u001b[39mif\u001b[39;00m span_impl_type \u001b[39mis\u001b[39;00m \u001b[39mNone\u001b[39;00m:\n\u001b[0;32m---> 78\u001b[0m     \u001b[39mreturn\u001b[39;00m func(\u001b[39m*\u001b[39;49margs, \u001b[39m*\u001b[39;49m\u001b[39m*\u001b[39;49mkwargs)\n\u001b[1;32m     80\u001b[0m \u001b[39m# Merge span is parameter is set, but only if no explicit parent are passed\u001b[39;00m\n\u001b[1;32m     81\u001b[0m \u001b[39mif\u001b[39;00m merge_span \u001b[39mand\u001b[39;00m \u001b[39mnot\u001b[39;00m passed_in_parent:\n",
      "File \u001b[0;32m/anaconda/envs/keyvault/lib/python3.10/site-packages/azure/ai/ml/operations/_online_endpoint_operations.py:134\u001b[0m, in \u001b[0;36mOnlineEndpointOperations.get\u001b[0;34m(self, name, local)\u001b[0m\n\u001b[1;32m    131\u001b[0m \u001b[39mif\u001b[39;00m local:\n\u001b[1;32m    132\u001b[0m     \u001b[39mreturn\u001b[39;00m \u001b[39mself\u001b[39m\u001b[39m.\u001b[39m_local_endpoint_helper\u001b[39m.\u001b[39mget(endpoint_name\u001b[39m=\u001b[39mname)\n\u001b[0;32m--> 134\u001b[0m endpoint \u001b[39m=\u001b[39m \u001b[39mself\u001b[39;49m\u001b[39m.\u001b[39;49m_online_operation\u001b[39m.\u001b[39;49mget(\n\u001b[1;32m    135\u001b[0m     resource_group_name\u001b[39m=\u001b[39;49m\u001b[39mself\u001b[39;49m\u001b[39m.\u001b[39;49m_resource_group_name,\n\u001b[1;32m    136\u001b[0m     workspace_name\u001b[39m=\u001b[39;49m\u001b[39mself\u001b[39;49m\u001b[39m.\u001b[39;49m_workspace_name,\n\u001b[1;32m    137\u001b[0m     endpoint_name\u001b[39m=\u001b[39;49mname,\n\u001b[1;32m    138\u001b[0m     \u001b[39m*\u001b[39;49m\u001b[39m*\u001b[39;49m\u001b[39mself\u001b[39;49m\u001b[39m.\u001b[39;49m_init_kwargs,\n\u001b[1;32m    139\u001b[0m )\n\u001b[1;32m    141\u001b[0m deployments_list \u001b[39m=\u001b[39m \u001b[39mself\u001b[39m\u001b[39m.\u001b[39m_online_deployment_operation\u001b[39m.\u001b[39mlist(\n\u001b[1;32m    142\u001b[0m     endpoint_name\u001b[39m=\u001b[39mname,\n\u001b[1;32m    143\u001b[0m     resource_group_name\u001b[39m=\u001b[39m\u001b[39mself\u001b[39m\u001b[39m.\u001b[39m_resource_group_name,\n\u001b[0;32m   (...)\u001b[0m\n\u001b[1;32m    146\u001b[0m     \u001b[39m*\u001b[39m\u001b[39m*\u001b[39m\u001b[39mself\u001b[39m\u001b[39m.\u001b[39m_init_kwargs,\n\u001b[1;32m    147\u001b[0m )\n\u001b[1;32m    149\u001b[0m \u001b[39m# populate deployments without traffic with zeroes in traffic map\u001b[39;00m\n",
      "File \u001b[0;32m/anaconda/envs/keyvault/lib/python3.10/site-packages/azure/core/tracing/decorator.py:78\u001b[0m, in \u001b[0;36mdistributed_trace.<locals>.decorator.<locals>.wrapper_use_tracer\u001b[0;34m(*args, **kwargs)\u001b[0m\n\u001b[1;32m     76\u001b[0m span_impl_type \u001b[39m=\u001b[39m settings\u001b[39m.\u001b[39mtracing_implementation()\n\u001b[1;32m     77\u001b[0m \u001b[39mif\u001b[39;00m span_impl_type \u001b[39mis\u001b[39;00m \u001b[39mNone\u001b[39;00m:\n\u001b[0;32m---> 78\u001b[0m     \u001b[39mreturn\u001b[39;00m func(\u001b[39m*\u001b[39;49margs, \u001b[39m*\u001b[39;49m\u001b[39m*\u001b[39;49mkwargs)\n\u001b[1;32m     80\u001b[0m \u001b[39m# Merge span is parameter is set, but only if no explicit parent are passed\u001b[39;00m\n\u001b[1;32m     81\u001b[0m \u001b[39mif\u001b[39;00m merge_span \u001b[39mand\u001b[39;00m \u001b[39mnot\u001b[39;00m passed_in_parent:\n",
      "File \u001b[0;32m/anaconda/envs/keyvault/lib/python3.10/site-packages/azure/ai/ml/_restclient/v2022_02_01_preview/operations/_online_endpoints_operations.py:669\u001b[0m, in \u001b[0;36mOnlineEndpointsOperations.get\u001b[0;34m(self, resource_group_name, workspace_name, endpoint_name, **kwargs)\u001b[0m\n\u001b[1;32m    666\u001b[0m response \u001b[39m=\u001b[39m pipeline_response\u001b[39m.\u001b[39mhttp_response\n\u001b[1;32m    668\u001b[0m \u001b[39mif\u001b[39;00m response\u001b[39m.\u001b[39mstatus_code \u001b[39mnot\u001b[39;00m \u001b[39min\u001b[39;00m [\u001b[39m200\u001b[39m]:\n\u001b[0;32m--> 669\u001b[0m     map_error(status_code\u001b[39m=\u001b[39;49mresponse\u001b[39m.\u001b[39;49mstatus_code, response\u001b[39m=\u001b[39;49mresponse, error_map\u001b[39m=\u001b[39;49merror_map)\n\u001b[1;32m    670\u001b[0m     error \u001b[39m=\u001b[39m \u001b[39mself\u001b[39m\u001b[39m.\u001b[39m_deserialize\u001b[39m.\u001b[39mfailsafe_deserialize(_models\u001b[39m.\u001b[39mErrorResponse, pipeline_response)\n\u001b[1;32m    671\u001b[0m     \u001b[39mraise\u001b[39;00m HttpResponseError(response\u001b[39m=\u001b[39mresponse, model\u001b[39m=\u001b[39merror, error_format\u001b[39m=\u001b[39mARMErrorFormat)\n",
      "File \u001b[0;32m/anaconda/envs/keyvault/lib/python3.10/site-packages/azure/core/exceptions.py:107\u001b[0m, in \u001b[0;36mmap_error\u001b[0;34m(status_code, response, error_map)\u001b[0m\n\u001b[1;32m    105\u001b[0m     \u001b[39mreturn\u001b[39;00m\n\u001b[1;32m    106\u001b[0m error \u001b[39m=\u001b[39m error_type(response\u001b[39m=\u001b[39mresponse)\n\u001b[0;32m--> 107\u001b[0m \u001b[39mraise\u001b[39;00m error\n",
      "\u001b[0;31mResourceNotFoundError\u001b[0m: (ResourceNotFound) The Resource 'Microsoft.MachineLearningServices/workspaces/alwallace/onlineEndpoints/endpoint-25589' under resource group 'alwallace-rg' was not found. For more details please go to https://aka.ms/ARMResourceNotFoundFix\nCode: ResourceNotFound\nMessage: The Resource 'Microsoft.MachineLearningServices/workspaces/alwallace/onlineEndpoints/endpoint-25589' under resource group 'alwallace-rg' was not found. For more details please go to https://aka.ms/ARMResourceNotFoundFix"
     ]
    }
   ],
   "source": [
    "ml_client.online_endpoints.get(\"endpoint-25589\")"
   ]
  },
  {
   "cell_type": "code",
   "execution_count": 37,
   "metadata": {},
   "outputs": [],
   "source": [
    "from azure.mgmt.keyvault.models import (\n",
    "    VaultCreateOrUpdateParameters,\n",
    "    VaultProperties,\n",
    "    Sku,\n",
    ")\n",
    "\n",
    "poller = keyvault_mgmt_client.vaults.begin_create_or_update(\n",
    "    vault_name=keyvault_name,\n",
    "    resource_group_name=resource_group,\n",
    "    parameters=VaultCreateOrUpdateParameters(\n",
    "        location=location,\n",
    "        properties=VaultProperties(\n",
    "            tenant_id=tenant_id,\n",
    "            sku=Sku(name=\"Standard\"),\n",
    "            access_policies=[],\n",
    "        ),\n",
    "    ),\n",
    ")\n",
    "poller.wait()"
   ]
  },
  {
   "cell_type": "markdown",
   "metadata": {},
   "source": [
    "### 3.6 Confirm the Keyvault creation was successful"
   ]
  },
  {
   "cell_type": "code",
   "execution_count": 44,
   "metadata": {},
   "outputs": [
    {
     "data": {
      "text/plain": [
       "{'id': '/subscriptions/6fe1c377-b645-4e8e-b588-52e57cc856b2/resourceGroups/alwallace-rg/providers/Microsoft.KeyVault/vaults/kvexample2780',\n",
       " 'name': 'kvexample2780',\n",
       " 'type': 'Microsoft.KeyVault/vaults',\n",
       " 'location': 'eastus2',\n",
       " 'tags': {},\n",
       " 'system_data': {'created_by': 'v-alwallace@microsoft.com',\n",
       "  'created_by_type': 'User',\n",
       "  'created_at': '2022-11-08T03:47:29.735Z',\n",
       "  'last_modified_by': 'v-alwallace@microsoft.com',\n",
       "  'last_modified_by_type': 'User',\n",
       "  'last_modified_at': '2022-11-08T03:47:29.735Z'},\n",
       " 'properties': {'tenant_id': '72f988bf-86f1-41af-91ab-2d7cd011db47',\n",
       "  'sku': {'family': 'A', 'name': 'Standard'},\n",
       "  'access_policies': [],\n",
       "  'vault_uri': 'https://kvexample2780.vault.azure.net/',\n",
       "  'enabled_for_deployment': False,\n",
       "  'enable_soft_delete': True,\n",
       "  'soft_delete_retention_in_days': 90,\n",
       "  'enable_rbac_authorization': False,\n",
       "  'provisioning_state': 'Succeeded',\n",
       "  'public_network_access': 'Enabled'}}"
      ]
     },
     "execution_count": 44,
     "metadata": {},
     "output_type": "execute_result"
    }
   ],
   "source": [
    "keyvault.as_dict()"
   ]
  },
  {
   "cell_type": "code",
   "execution_count": 38,
   "metadata": {},
   "outputs": [
    {
     "name": "stdout",
     "output_type": "stream",
     "text": [
      "Endpoint creation succeeded\n",
      "{'additional_properties': {}, 'id': '/subscriptions/6fe1c377-b645-4e8e-b588-52e57cc856b2/resourceGroups/alwallace-rg/providers/Microsoft.KeyVault/vaults/kvexample2780', 'name': 'kvexample2780', 'type': 'Microsoft.KeyVault/vaults', 'location': 'eastus2', 'tags': {}, 'system_data': <azure.mgmt.keyvault.v2022_07_01.models._models_py3.SystemData object at 0x7ffb4994fd90>, 'properties': <azure.mgmt.keyvault.v2022_07_01.models._models_py3.VaultProperties object at 0x7ffb4994fa00>}\n"
     ]
    }
   ],
   "source": [
    "status = poller.status()\n",
    "if status != \"Succeeded\":\n",
    "    raise Exception(status)\n",
    "else:\n",
    "    print(\"Endpoint creation succeeded\")\n",
    "    keyvault = poller.result()\n",
    "    print(keyvault)"
   ]
  },
  {
   "cell_type": "code",
   "execution_count": 42,
   "metadata": {},
   "outputs": [],
   "source": [
    "keyvault.properties.create_mode"
   ]
  },
  {
   "cell_type": "markdown",
   "metadata": {},
   "source": [
    "## 4. Set a Keyvault secret"
   ]
  },
  {
   "cell_type": "markdown",
   "metadata": {},
   "source": [
    "### 4.1 Create a SecretClient"
   ]
  },
  {
   "cell_type": "code",
   "execution_count": null,
   "metadata": {},
   "outputs": [],
   "source": [
    "from azure.keyvault.secrets import SecretClient\n",
    "\n",
    "secret_client = SecretClient(\n",
    "    credential=credential, vault_url=f\"https://{keyvault_name}.vault.azure.net\"\n",
    ")"
   ]
  },
  {
   "cell_type": "markdown",
   "metadata": {},
   "source": [
    "### 4.2 Set a secret"
   ]
  },
  {
   "cell_type": "code",
   "execution_count": null,
   "metadata": {},
   "outputs": [],
   "source": [
    "secret = secret_client.set_secret(name=\"multiplier\", value=str(7))"
   ]
  },
  {
   "cell_type": "markdown",
   "metadata": {},
   "source": [
    "## 5. Create a Deployment"
   ]
  },
  {
   "cell_type": "markdown",
   "metadata": {},
   "source": [
    "### 5.1 Define and begin the deployment creation\n",
    "The environment variable `KV_SECRET_MULTIPLIER` is set to `<SECRET_NAME>@<KEYVAULT_URL>`. In the scoring script, this value is parsed and passed to a SecretClient to retrieve the secret from the Keyvault."
   ]
  },
  {
   "cell_type": "code",
   "execution_count": null,
   "metadata": {},
   "outputs": [],
   "source": [
    "deployment = ManagedOnlineDeployment(\n",
    "    name=\"kvdep\",\n",
    "    endpoint_name=endpoint_name,\n",
    "    model=Model(path=base_path),\n",
    "    code_configuration=CodeConfiguration(code=code_path, scoring_script=\"score.py\"),\n",
    "    environment=Environment(\n",
    "        conda_file=conda_file_path,\n",
    "        image=\"mcr.microsoft.com/azureml/minimal-ubuntu20.04-py38-cpu-inference:latest\",\n",
    "    ),\n",
    "    environment_variables={\n",
    "        \"KV_SECRET_MULTIPLIER\": f\"multiplier@https://{keyvault_name}.vault.azure.net\"\n",
    "    },\n",
    "    instance_type=\"Standard_DS2_v2\",\n",
    "    instance_count=1,\n",
    ")\n",
    "poller = ml_client.online_deployments.begin_create_or_update(deployment)\n",
    "poller.wait()"
   ]
  },
  {
   "cell_type": "markdown",
   "metadata": {},
   "source": [
    "### 5.2 Confirm the creation was successful"
   ]
  },
  {
   "cell_type": "code",
   "execution_count": null,
   "metadata": {},
   "outputs": [],
   "source": [
    "status = poller.status()\n",
    "if status != \"Succeeded\":\n",
    "    raise ValueError(status)\n",
    "else:\n",
    "    print(\"Endpoint creation succeeded\")\n",
    "    deployment = poller.result()\n",
    "    print(deployment)"
   ]
  },
  {
   "cell_type": "code",
   "execution_count": null,
   "metadata": {},
   "outputs": [],
   "source": [
    "endpoint.traffic = {\"kvdep\": 100}\n",
    "endpoint = ml_client.online_endpoints.begin_create_or_update(endpoint).result()"
   ]
  },
  {
   "cell_type": "markdown",
   "metadata": {},
   "source": [
    "## 6. Test the endpoint\n",
    "The endpoint returns the value of `input` multiplied by the secret."
   ]
  },
  {
   "cell_type": "code",
   "execution_count": null,
   "metadata": {},
   "outputs": [],
   "source": [
    "ml_client.online_endpoints.invoke(\n",
    "    endpoint_name=endpoint_name, request_file=sample_request_path\n",
    ")"
   ]
  },
  {
   "cell_type": "markdown",
   "metadata": {},
   "source": [
    "## 7. Delete assets"
   ]
  },
  {
   "cell_type": "markdown",
   "metadata": {},
   "source": [
    "### 7.1 Delete the endpoint"
   ]
  },
  {
   "cell_type": "code",
   "execution_count": null,
   "metadata": {},
   "outputs": [],
   "source": [
    "ml_client.online_endpoints.begin_delete(name=endpoint_name)"
   ]
  },
  {
   "cell_type": "markdown",
   "metadata": {},
   "source": [
    "### 7.2 Delete the keyvault"
   ]
  },
  {
   "cell_type": "code",
   "execution_count": null,
   "metadata": {},
   "outputs": [],
   "source": [
    "keyvault_mgmt_client.vaults.delete(\n",
    "    resource_group_name=resource_group, vault_name=keyvault_name\n",
    ")"
   ]
  }
 ],
 "metadata": {
  "kernelspec": {
   "display_name": "Python 3.10 - SDK V2",
   "language": "python",
   "name": "python310-sdkv2"
  },
  "language_info": {
   "codemirror_mode": {
    "name": "ipython",
    "version": 3
   },
   "file_extension": ".py",
   "mimetype": "text/x-python",
   "name": "python",
   "nbconvert_exporter": "python",
   "pygments_lexer": "ipython3",
   "version": "3.10.6"
  },
  "vscode": {
   "interpreter": {
    "hash": "103e4dffdc87d5e761c21b3875987ce70e93823f5f2e969a3724eab733263b67"
   }
  }
 },
 "nbformat": 4,
 "nbformat_minor": 2
}
