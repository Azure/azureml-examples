{
 "cells": [
  {
   "cell_type": "markdown",
   "metadata": {},
   "source": [
    "# Managed Online Endpoint Logs and Metrics Integration with Log Analytics / Application Insights \n",
    "\n",
    "Learn how to capture logs and metrics from a Managed Online Endpoint using Application Insights and Log Analytics. AzureML Inference Server has extensive logging integrations with Application Insights that can be enabled with minimal changes to existing scoring logic. \n",
    "\n",
    "In this example we connect to an existing ['Workspace-based Application Insights Resource'](https://learn.microsoft.com/en-us/azure/azure-monitor/app/create-workspace-resource) explore the logging capabilities of AzureML Inference Server including the following: \n",
    "    - Request Logs\n",
    "    - Model Data Logs\n",
    "    - Exception Logs\n",
    "    - Print Hook Logging (Stdout/Stderr)\n",
    "    - Simple Custom Logging \n",
    "\n",
    "## Prerequisites\n",
    "- You must have a Log Analytics Workspace-based Application Insights to use Python SDKs to query Application Insights logs. If you do not have one or have an Application Insights (Classic) instance, please follow the instructions in the ['Workspace-based Application Insights Resources'](https://learn.microsoft.com/en-us/azure/azure-monitor/app/create-workspace-resource) guide.\n",
    "- You must have the following Python packages installed:\n",
    "    - `azure-mgmt-resource`: Access property values of Log Analytics and Application Insights resources.\n",
    "    - `azure-monitor-query`: Issue queries to Log Analytics workspaces \n",
    "\n",
    "Install them with this code:"
   ]
  },
  {
   "cell_type": "code",
   "execution_count": null,
   "metadata": {},
   "outputs": [],
   "source": [
    "%pip install azure-mgmt-resource\n",
    "%pip install azure-monitor-query "
   ]
  },
  {
   "cell_type": "markdown",
   "metadata": {},
   "source": [
    "## 1. Connect to Azure Machine Learning Workspace\n",
    "### 1.1. Import the required libraries"
   ]
  },
  {
   "cell_type": "code",
   "execution_count": null,
   "metadata": {},
   "outputs": [],
   "source": [
    "from azure.ai.ml import MLClient\n",
    "from azure.ai.ml.entities import (\n",
    "    ManagedOnlineEndpoint,\n",
    "    ManagedOnlineDeployment,\n",
    "    Model,\n",
    "    Environment,\n",
    "    CodeConfiguration,\n",
    ")\n",
    "from azure.monitor.query import LogsQueryClient\n",
    "from azure.mgmt.resource import ResourceManagementClient\n",
    "from datetime import timedelta\n",
    "from azure.identity import DefaultAzureCredential\n",
    "from random import randint\n",
    "import json, time"
   ]
  },
  {
   "cell_type": "markdown",
   "metadata": {},
   "source": [
    "### 1.2 Set variables"
   ]
  },
  {
   "cell_type": "code",
   "execution_count": null,
   "metadata": {},
   "outputs": [],
   "source": [
    "subscription_id = \"<SUBSCRIPTION_ID>\"\n",
    "resource_group = \"<RESOURCE_GROUP>\"\n",
    "workspace_name = \"<AML_WORKSPACE_NAME>\"\n",
    "\n",
    "# The fully qualified resource ID (\"/subscription/...\") of the Application Insights resource to use for logging. \n",
    "# If not specified, the default Application Insights resource associated with the workspace will be used.\n",
    "alternative_app_insights_id = \"<APP_INSIGHTS_ID>\"\n",
    "\n",
    "endpoint_name = f\"endpt-{randint(0, 100000)}\""
   ]
  },
  {
   "cell_type": "markdown",
   "metadata": {},
   "source": [
    "### 1.3 Get a handle to the workspace"
   ]
  },
  {
   "cell_type": "code",
   "execution_count": null,
   "metadata": {},
   "outputs": [],
   "source": [
    "credential = DefaultAzureCredential()\n",
    "ml_client = MLClient(\n",
    "    credential=credential,\n",
    "    subscription_id=subscription_id,\n",
    "    resource_group_name=resource_group,\n",
    "    workspace_name=workspace_name,\n",
    ")"
   ]
  },
  {
   "cell_type": "markdown",
   "metadata": {},
   "source": [
    "## 2. Connect to App Insights / Log Analytics"
   ]
  },
  {
   "cell_type": "markdown",
   "metadata": {},
   "source": [
    "### 2.1 Get App Insights / Log Analytics Details\n",
    "The `InstrumentationKey` will be passed to the deployment as the `AML_APP_INSIGHTS_KEY` environment variable. "
   ]
  },
  {
   "cell_type": "code",
   "execution_count": null,
   "metadata": {},
   "outputs": [],
   "source": [
    "workspace = ml_client.workspaces.get(workspace_name)\n",
    "\n",
    "resource_client = ResourceManagementClient(credential=credential, subscription_id=subscription_id)\n",
    "\n",
    "app_insights_resource_id = workspace.application_insights if alternative_app_insights_id == \"<APP_INSIGHTS_ID>\" else alternative_app_insights_id\n",
    "app_insights_resource = resource_client.resources.get_by_id(app_insights_resource_id, \"2015-05-01\")\n",
    "app_insights_instrumentation_key = app_insights_resource.properties.get(\"InstrumentationKey\")\n",
    "\n",
    "log_analytics_resource_id = app_insights_resource.properties.get(\"WorkspaceResourceId\")\n",
    "log_analytics_resource = resource_client.resources.get_by_id(log_analytics_resource_id, \"2022-10-01\")\n",
    "log_analytics_customer_id = log_analytics_resource.properties.get(\"customerId\")"
   ]
  },
  {
   "cell_type": "markdown",
   "metadata": {},
   "source": [
    "### 2.2 Get Logs Query client"
   ]
  },
  {
   "cell_type": "code",
   "execution_count": null,
   "metadata": {},
   "outputs": [],
   "source": [
    "logs_client = LogsQueryClient(credential=credential)"
   ]
  },
  {
   "cell_type": "markdown",
   "metadata": {},
   "source": [
    "## 3. Create a Managed Online Endpoint"
   ]
  },
  {
   "cell_type": "markdown",
   "metadata": {},
   "source": [
    "App Insights can be enabled for a deployment with the `app_insights_enabled` argument set to `true` and the environment variable `AML_APP_INSIGHTS_KEY` set to the instrumentation key of the Log Analytics workspace. \n",
    "\n",
    "Two additional environment variables toggle log detail:\n",
    "- `AML_MODEL_DC_STORAGE_ENABLED` (default=`true`): Activates the `Model Data Log`\n",
    "- `APP_INSIGHTS_LOG_RESPONSE_ENABLED` (default: `false`): Toggles the `Response Value` logging in the `Request Log`.\n",
    "\n",
    "The different logs and their fields include: \n",
    "- **Request Log**: With every endpoint that is not the “/” health check endpoint, a log is created with information about the fields below. This is logged in the `AppRequests` table (Log Analytics) / `requests` table (App Insights):\n",
    "    - Request id\n",
    "    - Response value (Not logged when `APP_INSIGHTS_LOG_RESPONSE_ENABLED` is `false`)\n",
    "    - Request id  \n",
    "    - Client Request Id\n",
    "    - Container Id\n",
    "    - Request path\n",
    "    - URL of request, including params  \n",
    "    - Duration  \n",
    "    - Success (True or false)\n",
    "    - Start time  \n",
    "    - Response code\n",
    "    - Http method\n",
    "- **Exception Log**: Writes telemetry when exception is encountered. The following details are logged. This output can be seen in the `exceptions` table from base image, along with other information:\n",
    "  - Container ID\n",
    "  - Request ID\n",
    "  - Client Request Id\n",
    "- **Model Data Log**: When the scoring function is run, a log is created about the model data with the following information from base images. This output is seen in the `trace`  table. For this logging to take place, MDC must also be enabled, with `AML_MODEL_DC_STORAGE_ENABLED`.\n",
    "  - Container Id\n",
    "  - Request Id\n",
    "  - Client Request Id\n",
    "  - Workspace Name\n",
    "  - Service Name\n",
    "  - Models\n",
    "  - Input\n",
    "  - Prediction\n",
    "\n",
    "- **Print Hook**: \n",
    "  STDOUT/STDERR output including user print functions will be visible in the `trace` logs under `STDOUT`. \n",
    "  - All messages within the user run function with the request-id prefix automatically prepended as follows:\n",
    "    - `04c6f58d-510f-4e3a-933e-60ac20f2707d,User run function invoked.`\n",
    "  - Within the init function, a series of zeroes will be prepended as follows:\n",
    "    - `00000000-0000-0000-0000-000000000000,User init function invoked.`\n",
    "  "
   ]
  },
  {
   "cell_type": "markdown",
   "metadata": {},
   "source": [
    "### 3.1 Create an endpoint\n"
   ]
  },
  {
   "cell_type": "code",
   "execution_count": null,
   "metadata": {},
   "outputs": [],
   "source": [
    "endpoint = ManagedOnlineEndpoint(name=endpoint_name)\n",
    "\n",
    "endpoint = ml_client.online_endpoints.begin_create_or_update(endpoint).result()"
   ]
  },
  {
   "cell_type": "markdown",
   "metadata": {},
   "source": [
    "### 3.2 Create the deployment\n",
    "\n",
    "For the initial deployment `APP_INSIGHTS_LOG_RESPONSE_ENABLED` is set to false."
   ]
  },
  {
   "cell_type": "code",
   "execution_count": null,
   "metadata": {},
   "outputs": [],
   "source": [
    "deployment = ManagedOnlineDeployment(\n",
    "    name = \"blue\",\n",
    "    app_insights_enabled=True,\n",
    "    endpoint_name=endpoint_name,\n",
    "    model= Model(path=\"../model-1/model/sklearn_regression_model.pkl\"),\n",
    "    code_configuration=CodeConfiguration(\n",
    "        code=\"app-insights/code\",\n",
    "        scoring_script=\"score.py\"\n",
    "    ),\n",
    "    environment=Environment(\n",
    "        image=\"mcr.microsoft.com/azureml/openmpi4.1.0-ubuntu20.04:latest\",\n",
    "        conda_file=\"../model-1/environment/conda.yml\"\n",
    "    ),\n",
    "    environment_variables={\n",
    "        \"AML_APP_INSIGHTS_KEY\": app_insights_instrumentation_key,\n",
    "        \"AML_MODEL_DC_STORAGE_ENABLED\": True,\n",
    "        \"APP_INSIGHTS_LOG_RESPONSE_ENABLED\": False\n",
    "    }, \n",
    "    instance_type=\"Standard_DS2_v2\",\n",
    "    instance_count=1,\n",
    ")\n",
    "deployment = ml_client.online_deployments.begin_create_or_update(deployment).result()"
   ]
  },
  {
   "cell_type": "code",
   "execution_count": null,
   "metadata": {},
   "outputs": [],
   "source": [
    "endpoint.traffic = {\"blue\": 100}\n",
    "endpoint = ml_client.online_endpoints.begin_create_or_update(endpoint).result()"
   ]
  },
  {
   "cell_type": "markdown",
   "metadata": {},
   "source": [
    "##  3. Request Log\n",
    "The Request Log is stored in the `AppRequests` (`requests`) table."
   ]
  },
  {
   "attachments": {},
   "cell_type": "markdown",
   "metadata": {},
   "source": [
    "### 3.1 Without Log Response"
   ]
  },
  {
   "cell_type": "code",
   "execution_count": null,
   "metadata": {},
   "outputs": [],
   "source": [
    "ml_client.online_endpoints.invoke(endpoint_name=endpoint_name, deployment_name=\"blue\", request_file=\"../model-1/sample-request.json\")\n",
    "time.sleep(60)"
   ]
  },
  {
   "cell_type": "code",
   "execution_count": null,
   "metadata": {},
   "outputs": [],
   "source": [
    "query=f\"AppRequests \\\n",
    "    | where Properties['url'] contains '{deployment.name}.{endpoint.name}' \\\n",
    "    | order by TimeGenerated desc \\\n",
    "    | take 1\"\n",
    "\n",
    "query_resp = logs_client.query_workspace(log_analytics_customer_id, query, timespan=timedelta(days=1))\n",
    "table = query_resp.tables[0]\n",
    "\n",
    "to_dict = lambda t, d=None, n=1: [{k:json.loads(v) if k in (d or {'Properties'}) else v for k,v in zip(t.columns,r)} for r in t.rows[0:n]]\n",
    "to_dict(table)"
   ]
  },
  {
   "cell_type": "markdown",
   "metadata": {},
   "source": [
    "### 3.2 With Log Response"
   ]
  },
  {
   "cell_type": "code",
   "execution_count": null,
   "metadata": {},
   "outputs": [],
   "source": [
    "deployment.environment_variables['APP_INSIGHTS_LOG_RESPONSE_ENABLED'] = True\n",
    "deployment = ml_client.online_deployments.begin_create_or_update(deployment).result()\n",
    "\n",
    "ml_client.online_endpoints.invoke(endpoint_name=endpoint_name, deployment_name=\"blue\", request_file=\"../model-1/sample-request.json\")\n",
    "time.sleep(60)"
   ]
  },
  {
   "cell_type": "code",
   "execution_count": null,
   "metadata": {},
   "outputs": [],
   "source": [
    "query=f\"AppRequests \\\n",
    "    | where Properties['url'] contains '{deployment.name}.{endpoint.name}' \\\n",
    "    | order by TimeGenerated desc \\\n",
    "    | take 1\"\n",
    "\n",
    "query_resp = logs_client.query_workspace(log_analytics_customer_id, query, timespan=timedelta(days=1))\n",
    "table = query_resp.tables[0]\n",
    "\n",
    "to_dict(table)"
   ]
  },
  {
   "cell_type": "markdown",
   "metadata": {},
   "source": [
    "### 4. Model Data Log\n",
    "The Model Data Log is stored in the `AppTraces` (`trace`) table. "
   ]
  },
  {
   "cell_type": "code",
   "execution_count": null,
   "metadata": {},
   "outputs": [],
   "source": [
    "query=\"AppTraces \\\n",
    "    | order by TimeGenerated desc \\\n",
    "    | take 1\"\n",
    "\n",
    "query_resp = logs_client.query_workspace(log_analytics_customer_id, query, timespan=timedelta(days=1))\n",
    "table = query_resp.tables[0]\n",
    "\n",
    "to_dict(table)"
   ]
  },
  {
   "attachments": {},
   "cell_type": "markdown",
   "metadata": {},
   "source": [
    "## 5. Cleanup"
   ]
  },
  {
   "attachments": {},
   "cell_type": "markdown",
   "metadata": {},
   "source": [
    "### 5.1 Delete the Managed Online Endpoint "
   ]
  },
  {
   "cell_type": "code",
   "execution_count": null,
   "metadata": {},
   "outputs": [],
   "source": [
    "ml_client.online_endpoints.begin_delete(endpoint).wait()"
   ]
  }
 ],
 "metadata": {
  "kernelspec": {
   "display_name": "appinsights",
   "language": "python",
   "name": "python3"
  },
  "language_info": {
   "codemirror_mode": {
    "name": "ipython",
    "version": 3
   },
   "file_extension": ".py",
   "mimetype": "text/x-python",
   "name": "python",
   "nbconvert_exporter": "python",
   "pygments_lexer": "ipython3",
   "version": "3.10.4"
  },
  "orig_nbformat": 4,
  "vscode": {
   "interpreter": {
    "hash": "741c2850a52bbd1591bf27ec6dcdde47e1e49435958a878f09c151532c6a2fe0"
   }
  }
 },
 "nbformat": 4,
 "nbformat_minor": 2
}
