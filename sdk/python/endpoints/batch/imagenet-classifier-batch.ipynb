{
  "cells": [
    {
      "cell_type": "markdown",
      "metadata": {
        "nteract": {
          "transient": {
            "deleting": false
          }
        }
      },
      "source": [
        "# Using batch deployments for image file processing"
      ]
    },
    {
      "cell_type": "markdown",
      "metadata": {
        "nteract": {
          "transient": {
            "deleting": false
          }
        }
      },
      "source": [
        "Importing the required libraries. This notebook requires:\n",
        "\n",
        "- `azure-ai-ml`\n",
        "- `mlflow`\n",
        "- `azureml-mlflow`\n",
        "- `numpy`\n",
        "- `pandas`\n",
        "- `pillow`\n",
        "- `tensorflow`"
      ]
    },
    {
      "cell_type": "code",
      "execution_count": 2,
      "metadata": {},
      "outputs": [],
      "source": [
        "from azure.ai.ml import MLClient, Input\n",
        "from azure.ai.ml.entities import BatchEndpoint, BatchDeployment, Model, AmlCompute, Data, BatchRetrySettings, CodeConfiguration, Environment\n",
        "from azure.ai.ml.constants import AssetTypes, BatchDeploymentOutputAction\n",
        "from azure.identity import DefaultAzureCredential"
      ]
    },
    {
      "cell_type": "markdown",
      "metadata": {
        "nteract": {
          "transient": {
            "deleting": false
          }
        }
      },
      "source": [
        "## Accessing the Azure Machine Learning workspace"
      ]
    },
    {
      "cell_type": "code",
      "execution_count": 3,
      "metadata": {
        "jupyter": {
          "outputs_hidden": false,
          "source_hidden": false
        },
        "nteract": {
          "transient": {
            "deleting": false
          }
        }
      },
      "outputs": [
        {
          "name": "stderr",
          "output_type": "stream",
          "text": [
            "Class RegistryOperations: This is an experimental class, and may change at any time. Please see https://aka.ms/azuremlexperimental for more information.\n"
          ]
        }
      ],
      "source": [
        "subscription_id = \"<subscription>\"\n",
        "resource_group = \"<resource-group>\"\n",
        "workspace = \"<workspace>\"\n",
        "   \n",
        "ml_client = MLClient(DefaultAzureCredential(), subscription_id, resource_group, workspace)"
      ]
    },
    {
      "cell_type": "markdown",
      "metadata": {
        "nteract": {
          "transient": {
            "deleting": false
          }
        }
      },
      "source": [
        "## About the model\n",
        "\n",
        "Let's review how the model is build. The model was built using TensorFlow along with the RestNet architecture ([Identity Mappings in Deep Residual Networks](https://arxiv.org/abs/1603.05027)). This model has the following constrains that are important to keep in mind for deployment:\n",
        "\n",
        "* In work with images of size 244x244 (tensors of `(224, 224, 3)`).\n",
        "* It requires inputs to be scaled to the range `[0,1]`."
      ]
    },
    {
      "cell_type": "code",
      "execution_count": 5,
      "metadata": {
        "jupyter": {
          "outputs_hidden": false,
          "source_hidden": false
        },
        "nteract": {
          "transient": {
            "deleting": false
          }
        }
      },
      "outputs": [],
      "source": [
        "import tensorflow_hub as hub\n",
        "import tensorflow as tf\n",
        "\n",
        "model = tf.keras.Sequential(\n",
        "    [\n",
        "        hub.KerasLayer(\"https://tfhub.dev/google/imagenet/resnet_v2_101/classification/5\"),\n",
        "    ])\n",
        "model.build([None, None, None, 3])\n"
      ]
    },
    {
      "cell_type": "markdown",
      "metadata": {
        "nteract": {
          "transient": {
            "deleting": false
          }
        }
      },
      "source": [
        "Testing if the model works:"
      ]
    },
    {
      "cell_type": "code",
      "execution_count": 11,
      "metadata": {
        "jupyter": {
          "outputs_hidden": false,
          "source_hidden": false
        },
        "nteract": {
          "transient": {
            "deleting": false
          }
        }
      },
      "outputs": [],
      "source": [
        "import PIL.Image as Image\n",
        "import numpy as np\n",
        "\n",
        "image_file = tf.keras.utils.get_file('image.jpeg','https://azuremlexampledata.blob.core.windows.net/data/imagenet/goldfish.JPEG')\n",
        "img = Image.open(image_file).resize((244, 244))\n",
        "img = np.array(img)/255.\n",
        "batch_img = tf.expand_dims(img, axis=0)"
      ]
    },
    {
      "cell_type": "markdown",
      "metadata": {
        "nteract": {
          "transient": {
            "deleting": false
          }
        }
      },
      "source": [
        "Run the model:"
      ]
    },
    {
      "cell_type": "code",
      "execution_count": 12,
      "metadata": {
        "jupyter": {
          "outputs_hidden": false,
          "source_hidden": false
        },
        "nteract": {
          "transient": {
            "deleting": false
          }
        }
      },
      "outputs": [
        {
          "name": "stdout",
          "output_type": "stream",
          "text": [
            "\r1/1 [==============================] - ETA: 0s\b\b\b\b\b\b\b\b\b\b\b\b\b\b\b\b\b\b\b\b\b\b\b\b\b\b\b\b\b\b\b\b\b\b\b\b\b\b\b\b\b\b\b\b\b\b\r1/1 [==============================] - 1s 915ms/step\n"
          ]
        }
      ],
      "source": [
        "pred = model.predict(batch_img)\n",
        "pred_class = pred.argmax(axis=-1)"
      ]
    },
    {
      "cell_type": "markdown",
      "metadata": {
        "nteract": {
          "transient": {
            "deleting": false
          }
        }
      },
      "source": [
        "Getting the labels for ImageNet:"
      ]
    },
    {
      "cell_type": "code",
      "execution_count": 13,
      "metadata": {
        "jupyter": {
          "outputs_hidden": false,
          "source_hidden": false
        },
        "nteract": {
          "transient": {
            "deleting": false
          }
        }
      },
      "outputs": [],
      "source": [
        "labels_path = tf.keras.utils.get_file('ImageNetLabels.txt','https://azuremlexampledata.blob.core.windows.net/data/imagenet/ImageNetLabels.txt')\n",
        "imagenet_labels = np.array(open(labels_path).read().splitlines())"
      ]
    },
    {
      "cell_type": "code",
      "execution_count": 14,
      "metadata": {
        "jupyter": {
          "outputs_hidden": false,
          "source_hidden": false
        },
        "nteract": {
          "transient": {
            "deleting": false
          }
        }
      },
      "outputs": [
        {
          "data": {
            "text/plain": [
              "['goldfish']"
            ]
          },
          "execution_count": 14,
          "metadata": {},
          "output_type": "execute_result"
        }
      ],
      "source": [
        "predicted_class_name = [imagenet_labels[predicted_class] for predicted_class in pred_class]\n",
        "predicted_class_name"
      ]
    },
    {
      "cell_type": "markdown",
      "metadata": {
        "nteract": {
          "transient": {
            "deleting": false
          }
        }
      },
      "source": [
        "Let's save this model locally:"
      ]
    },
    {
      "cell_type": "code",
      "execution_count": 12,
      "metadata": {
        "jupyter": {
          "outputs_hidden": false,
          "source_hidden": false
        },
        "nteract": {
          "transient": {
            "deleting": false
          }
        }
      },
      "outputs": [],
      "source": [
        "model_local_path = 'imagenet-classifier/model'\n",
        "model.save(model_local_path)"
      ]
    },
    {
      "cell_type": "markdown",
      "metadata": {
        "nteract": {
          "transient": {
            "deleting": false
          }
        }
      },
      "source": [
        "## Deploying the model in a batch endpoint"
      ]
    },
    {
      "cell_type": "markdown",
      "metadata": {
        "nteract": {
          "transient": {
            "deleting": false
          }
        }
      },
      "source": [
        "### Registering the model\n",
        "\n",
        "We need to register the model in order to use it with Azure Machine Learning:"
      ]
    },
    {
      "cell_type": "code",
      "execution_count": 15,
      "metadata": {
        "jupyter": {
          "outputs_hidden": false,
          "source_hidden": false
        },
        "nteract": {
          "transient": {
            "deleting": false
          }
        }
      },
      "outputs": [],
      "source": [
        "model_name = 'imagenet-classifier'\n"
      ]
    },
    {
      "cell_type": "code",
      "execution_count": 22,
      "metadata": {
        "jupyter": {
          "outputs_hidden": false,
          "source_hidden": false
        },
        "nteract": {
          "transient": {
            "deleting": false
          }
        }
      },
      "outputs": [],
      "source": [
        "if not any(filter(lambda m : m.name == model_name, ml_client.models.list())):\n",
        "    print(f'Model {model_name} is not registered. Creating...')\n",
        "    model = ml_client.models.create_or_update(\n",
        "        Model(name=model_name, path=model_local_path, type=AssetTypes.CUSTOM_MODEL)\n",
        "    )"
      ]
    },
    {
      "cell_type": "markdown",
      "metadata": {
        "nteract": {
          "transient": {
            "deleting": false
          }
        }
      },
      "source": [
        "Let's get a reference to the model:"
      ]
    },
    {
      "cell_type": "code",
      "execution_count": 16,
      "metadata": {
        "jupyter": {
          "outputs_hidden": false,
          "source_hidden": false
        },
        "nteract": {
          "transient": {
            "deleting": false
          }
        }
      },
      "outputs": [],
      "source": [
        "model = ml_client.models.get(name=model_name, label=\"latest\")"
      ]
    },
    {
      "cell_type": "markdown",
      "metadata": {
        "nteract": {
          "transient": {
            "deleting": false
          }
        }
      },
      "source": [
        "### Creating an scoring script to work with the model"
      ]
    },
    {
      "cell_type": "code",
      "execution_count": 19,
      "metadata": {
        "jupyter": {
          "outputs_hidden": false,
          "source_hidden": false
        },
        "nteract": {
          "transient": {
            "deleting": false
          }
        }
      },
      "outputs": [
        {
          "name": "stdout",
          "output_type": "stream",
          "text": [
            "Overwriting imagenet-classifier/code/imagenet_scorer.py\n"
          ]
        }
      ],
      "source": [
        "%%writefile imagenet-classifier/code/imagenet_scorer.py\n",
        "\n",
        "import os\n",
        "import numpy as np\n",
        "import pandas as pd\n",
        "import tensorflow as tf\n",
        "from os.path import basename\n",
        "from PIL import Image\n",
        "from tensorflow.keras.models import load_model\n",
        "\n",
        "\n",
        "def init():\n",
        "    global model\n",
        "    global input_width\n",
        "    global input_height\n",
        "\n",
        "    # AZUREML_MODEL_DIR is an environment variable created during deployment\n",
        "    model_path = os.path.join(os.environ[\"AZUREML_MODEL_DIR\"], \"model\")\n",
        "\n",
        "    # load the model\n",
        "    model = load_model(model_path)\n",
        "    input_width = 244\n",
        "    input_height = 244\n",
        "\n",
        "def run(mini_batch):\n",
        "    results = []\n",
        "\n",
        "    for image in mini_batch:\n",
        "        data = Image.open(image).resize((input_width, input_height)) # Read and resize the image\n",
        "        data = np.array(data)/255.0 # Normalize\n",
        "        data_batch = tf.expand_dims(data, axis=0) # create a batch of size (1, 244, 244, 3)\n",
        "\n",
        "        # perform inference\n",
        "        pred = model.predict(data_batch)\n",
        "\n",
        "        # Compute probabilities, classes and labels\n",
        "        pred_prob = tf.math.reduce_max(tf.math.softmax(pred, axis=-1)).numpy()\n",
        "        pred_class = tf.math.argmax(pred, axis=-1).numpy()\n",
        "\n",
        "        results.append([basename(image), pred_class[0], pred_prob])\n",
        "\n",
        "    return pd.DataFrame(results)"
      ]
    },
    {
      "cell_type": "markdown",
      "metadata": {
        "nteract": {
          "transient": {
            "deleting": false
          }
        }
      },
      "source": [
        "### Creating the ednpoint"
      ]
    },
    {
      "cell_type": "markdown",
      "metadata": {
        "nteract": {
          "transient": {
            "deleting": false
          }
        }
      },
      "source": [
        "First, let's create the endpoint that is going to host the batch deployments. Remember that each endpoint can host multiple deployments at any time, however, only one of them is the default one:"
      ]
    },
    {
      "cell_type": "code",
      "execution_count": 20,
      "metadata": {
        "jupyter": {
          "outputs_hidden": false,
          "source_hidden": false
        },
        "nteract": {
          "transient": {
            "deleting": false
          }
        }
      },
      "outputs": [],
      "source": [
        "endpoint_name = \"imagenet-classifier-batch\"\n",
        "endpoint = BatchEndpoint(\n",
        "    name=endpoint_name, \n",
        "    description=\"An batch service to perform imagenet image classification\",\n",
        ")"
      ]
    },
    {
      "cell_type": "code",
      "execution_count": 107,
      "metadata": {
        "jupyter": {
          "outputs_hidden": false,
          "source_hidden": false
        },
        "nteract": {
          "transient": {
            "deleting": false
          }
        }
      },
      "outputs": [
        {
          "data": {
            "text/plain": [
              "<azure.core.polling._poller.LROPoller at 0x7f0073472bb0>"
            ]
          },
          "execution_count": 107,
          "metadata": {},
          "output_type": "execute_result"
        }
      ],
      "source": [
        "ml_client.batch_endpoints.begin_create_or_update(endpoint)"
      ]
    },
    {
      "cell_type": "markdown",
      "metadata": {
        "nteract": {
          "transient": {
            "deleting": false
          }
        }
      },
      "source": [
        "### Creating the compute\n",
        "\n",
        "Batch endpoints can run on any Azure ML compute that already exists in the workspace. That means that multiple batch deployments can share the same compute infrastructure. In this example, we are going to work on an AzureML compute cluster called `cpu-cluster`. Let's verify the compute exists on the workspace or create it otherwise."
      ]
    },
    {
      "cell_type": "code",
      "execution_count": 21,
      "metadata": {
        "jupyter": {
          "outputs_hidden": false,
          "source_hidden": false
        },
        "nteract": {
          "transient": {
            "deleting": false
          }
        }
      },
      "outputs": [],
      "source": [
        "compute_name = \"cpu-cluster\"\n",
        "if not any(filter(lambda m : m.name == compute_name, ml_client.compute.list())):\n",
        "    print(f\"Compute {compute_name} is not created. Creating...\")\n",
        "    compute_cluster = AmlCompute(name=compute_name, description=\"amlcompute\", min_instances=0, max_instances=5)\n",
        "    ml_client.begin_create_or_update(compute_cluster)"
      ]
    },
    {
      "cell_type": "markdown",
      "metadata": {
        "nteract": {
          "transient": {
            "deleting": false
          }
        }
      },
      "source": [
        "Compute may take time to be created. Let's wait for it:"
      ]
    },
    {
      "cell_type": "code",
      "execution_count": 22,
      "metadata": {
        "jupyter": {
          "outputs_hidden": false,
          "source_hidden": false
        },
        "nteract": {
          "transient": {
            "deleting": false
          }
        }
      },
      "outputs": [
        {
          "name": "stdout",
          "output_type": "stream",
          "text": [
            "Waiting for compute [DONE]\n"
          ]
        }
      ],
      "source": [
        "from time import sleep\n",
        "\n",
        "print(\"Waiting for compute\", end=\"\")\n",
        "while ml_client.compute.get(name=compute_name).provisioning_state == \"Creating\":\n",
        "    sleep(1)\n",
        "    print(\".\", end=\"\")\n",
        "\n",
        "print(\" [DONE]\")"
      ]
    },
    {
      "cell_type": "markdown",
      "metadata": {
        "nteract": {
          "transient": {
            "deleting": false
          }
        }
      },
      "source": [
        "### Creating the environment"
      ]
    },
    {
      "cell_type": "markdown",
      "metadata": {
        "nteract": {
          "transient": {
            "deleting": false
          }
        }
      },
      "source": [
        "Let's create the environment. In our case, our model runs on `TensorFlow`. Azure Machine Learning already has an environment with the required software installed, so we can reutilize this environment"
      ]
    },
    {
      "cell_type": "code",
      "execution_count": 31,
      "metadata": {
        "jupyter": {
          "outputs_hidden": false,
          "source_hidden": false
        },
        "nteract": {
          "transient": {
            "deleting": false
          }
        }
      },
      "outputs": [],
      "source": [
        "environment = Environment(\n",
        "    conda_file=\"./imagenet-classifier/environment/conda.yml\",\n",
        "    image=\"mcr.microsoft.com/azureml/tensorflow-2.4-ubuntu18.04-py37-cpu-inference:latest\",\n",
        ")"
      ]
    },
    {
      "cell_type": "markdown",
      "metadata": {
        "nteract": {
          "transient": {
            "deleting": false
          }
        }
      },
      "source": [
        "### Creating the deployment"
      ]
    },
    {
      "cell_type": "markdown",
      "metadata": {
        "nteract": {
          "transient": {
            "deleting": false
          }
        }
      },
      "source": [
        "Let's create a deployment under the given endpoint."
      ]
    },
    {
      "cell_type": "code",
      "execution_count": 32,
      "metadata": {
        "jupyter": {
          "outputs_hidden": false,
          "source_hidden": false
        },
        "nteract": {
          "transient": {
            "deleting": false
          }
        }
      },
      "outputs": [],
      "source": [
        "deployment = BatchDeployment(\n",
        "    name=\"imagenet-classifier-resnetv2\",\n",
        "    description=\"A ResNetV2 model architecture for performing ImageNet classification in batch\",\n",
        "    endpoint_name=endpoint.name,\n",
        "    model=model,\n",
        "    environment=environment,\n",
        "    code_configuration=CodeConfiguration(\n",
        "        code=\"./imagenet-classifier/code/\",\n",
        "        scoring_script=\"imagenet_scorer.py\",\n",
        "    ),\n",
        "    compute=compute_name,\n",
        "    instance_count=2,\n",
        "    max_concurrency_per_instance=1,\n",
        "    mini_batch_size=10,\n",
        "    output_action=BatchDeploymentOutputAction.APPEND_ROW,\n",
        "    output_file_name=\"predictions.csv\",\n",
        "    retry_settings=BatchRetrySettings(max_retries=3, timeout=300),\n",
        "    logging_level=\"info\",\n",
        ")"
      ]
    },
    {
      "cell_type": "code",
      "execution_count": 33,
      "metadata": {
        "jupyter": {
          "outputs_hidden": false,
          "source_hidden": false
        },
        "nteract": {
          "transient": {
            "deleting": false
          }
        }
      },
      "outputs": [
        {
          "data": {
            "text/plain": [
              "<azure.core.polling._poller.LROPoller at 0x7fbe2c31d400>"
            ]
          },
          "execution_count": 33,
          "metadata": {},
          "output_type": "execute_result"
        }
      ],
      "source": [
        "ml_client.batch_deployments.begin_create_or_update(deployment)"
      ]
    },
    {
      "cell_type": "markdown",
      "metadata": {
        "nteract": {
          "transient": {
            "deleting": false
          }
        }
      },
      "source": [
        "### Setting the default deployment\n",
        "\n",
        "Let's update the default deployment name in the endpoint:"
      ]
    },
    {
      "cell_type": "code",
      "execution_count": 30,
      "metadata": {
        "jupyter": {
          "outputs_hidden": false,
          "source_hidden": false
        },
        "nteract": {
          "transient": {
            "deleting": false
          }
        }
      },
      "outputs": [
        {
          "data": {
            "text/plain": [
              "<azure.core.polling._poller.LROPoller at 0x7feb05d540a0>"
            ]
          },
          "execution_count": 30,
          "metadata": {},
          "output_type": "execute_result"
        }
      ],
      "source": [
        "endpoint = ml_client.batch_endpoints.get(endpoint_name)\n",
        "endpoint.defaults.deployment_name = deployment.name\n",
        "ml_client.batch_endpoints.begin_create_or_update(endpoint)"
      ]
    },
    {
      "cell_type": "markdown",
      "metadata": {
        "nteract": {
          "transient": {
            "deleting": false
          }
        }
      },
      "source": [
        "We can see the endpoint URL as follows:"
      ]
    },
    {
      "cell_type": "code",
      "execution_count": 31,
      "metadata": {
        "jupyter": {
          "outputs_hidden": false,
          "source_hidden": false
        },
        "nteract": {
          "transient": {
            "deleting": false
          }
        }
      },
      "outputs": [
        {
          "data": {
            "text/plain": [
              "'https://imagenet-classifier-batch.eastus.inference.ml.azure.com/jobs'"
            ]
          },
          "execution_count": 31,
          "metadata": {},
          "output_type": "execute_result"
        }
      ],
      "source": [
        "endpoint.scoring_uri"
      ]
    },
    {
      "cell_type": "markdown",
      "metadata": {
        "nteract": {
          "transient": {
            "deleting": false
          }
        }
      },
      "source": [
        "## Testing the endpoint\n",
        "\n",
        "Once the deployment is created, it is ready to recieve jobs. Let's first register a data asset so we can run the job against it. This data asset is a folder containing 1000 images from the original ImageNet dataset. We are going to download it first and then create the data asset:"
      ]
    },
    {
      "cell_type": "code",
      "execution_count": 35,
      "metadata": {
        "jupyter": {
          "outputs_hidden": false,
          "source_hidden": false
        },
        "nteract": {
          "transient": {
            "deleting": false
          }
        }
      },
      "outputs": [
        {
          "name": "stdout",
          "output_type": "stream",
          "text": [
            "--2022-10-14 19:32:13--  https://azuremlexampledata.blob.core.windows.net/data/imagenet-1000.zip\n",
            "Resolving azuremlexampledata.blob.core.windows.net (azuremlexampledata.blob.core.windows.net)... 20.209.0.229\n",
            "Connecting to azuremlexampledata.blob.core.windows.net (azuremlexampledata.blob.core.windows.net)|20.209.0.229|:443... connected.\n",
            "HTTP request sent, awaiting response... 200 OK\n",
            "Length: 108902090 (104M) [application/x-zip-compressed]\n",
            "Saving to: ‘imagenet-1000.zip.1’\n",
            "\n",
            "imagenet-1000.zip.1 100%[===================>] 103.86M  78.4MB/s    in 1.3s    \n",
            "\n",
            "2022-10-14 19:32:16 (78.4 MB/s) - ‘imagenet-1000.zip.1’ saved [108902090/108902090]\n",
            "\n",
            "Archive:  imagenet-1000.zip\n",
            "  inflating: /tmp/imagenet-1000/n01440764_tench.JPEG  \n",
            "  inflating: /tmp/imagenet-1000/n01443537_goldfish.JPEG  \n",
            "  inflating: /tmp/imagenet-1000/n01484850_great_white_shark.JPEG  \n",
            "  inflating: /tmp/imagenet-1000/n01491361_tiger_shark.JPEG  \n",
            "  inflating: /tmp/imagenet-1000/n01494475_hammerhead.JPEG  \n",
            "  inflating: /tmp/imagenet-1000/n01496331_electric_ray.JPEG  \n",
            "  inflating: /tmp/imagenet-1000/n01498041_stingray.JPEG  \n",
            "  inflating: /tmp/imagenet-1000/n01514668_cock.JPEG  \n",
            "  inflating: /tmp/imagenet-1000/n01514859_hen.JPEG  \n",
            "  inflating: /tmp/imagenet-1000/n01518878_ostrich.JPEG  \n",
            "  inflating: /tmp/imagenet-1000/n01530575_brambling.JPEG  \n",
            "  inflating: /tmp/imagenet-1000/n01531178_goldfinch.JPEG  \n",
            "  inflating: /tmp/imagenet-1000/n01532829_house_finch.JPEG  \n",
            "  inflating: /tmp/imagenet-1000/n01534433_junco.JPEG  \n",
            "  inflating: /tmp/imagenet-1000/n01537544_indigo_bunting.JPEG  \n",
            "  inflating: /tmp/imagenet-1000/n01558993_robin.JPEG  \n",
            "  inflating: /tmp/imagenet-1000/n01560419_bulbul.JPEG  \n",
            "  inflating: /tmp/imagenet-1000/n01580077_jay.JPEG  \n",
            "  inflating: /tmp/imagenet-1000/n01582220_magpie.JPEG  \n",
            "  inflating: /tmp/imagenet-1000/n01592084_chickadee.JPEG  \n",
            "  inflating: /tmp/imagenet-1000/n01601694_water_ouzel.JPEG  \n",
            "  inflating: /tmp/imagenet-1000/n01608432_kite.JPEG  \n",
            "  inflating: /tmp/imagenet-1000/n01614925_bald_eagle.JPEG  \n",
            "  inflating: /tmp/imagenet-1000/n01616318_vulture.JPEG  \n",
            "  inflating: /tmp/imagenet-1000/n01622779_great_grey_owl.JPEG  \n",
            "  inflating: /tmp/imagenet-1000/n01629819_European_fire_salamander.JPEG  \n",
            "  inflating: /tmp/imagenet-1000/n01630670_common_newt.JPEG  \n",
            "  inflating: /tmp/imagenet-1000/n01631663_eft.JPEG  \n",
            "  inflating: /tmp/imagenet-1000/n01632458_spotted_salamander.JPEG  \n",
            "  inflating: /tmp/imagenet-1000/n01632777_axolotl.JPEG  \n",
            "  inflating: /tmp/imagenet-1000/n01641577_bullfrog.JPEG  \n",
            "  inflating: /tmp/imagenet-1000/n01644373_tree_frog.JPEG  \n",
            "  inflating: /tmp/imagenet-1000/n01644900_tailed_frog.JPEG  \n",
            "  inflating: /tmp/imagenet-1000/n01664065_loggerhead.JPEG  \n",
            "  inflating: /tmp/imagenet-1000/n01665541_leatherback_turtle.JPEG  \n",
            "  inflating: /tmp/imagenet-1000/n01667114_mud_turtle.JPEG  \n",
            "  inflating: /tmp/imagenet-1000/n01667778_terrapin.JPEG  \n",
            "  inflating: /tmp/imagenet-1000/n01669191_box_turtle.JPEG  \n",
            "  inflating: /tmp/imagenet-1000/n01675722_banded_gecko.JPEG  \n",
            "  inflating: /tmp/imagenet-1000/n01677366_common_iguana.JPEG  \n",
            "  inflating: /tmp/imagenet-1000/n01682714_American_chameleon.JPEG  \n",
            "  inflating: /tmp/imagenet-1000/n01685808_whiptail.JPEG  \n",
            "  inflating: /tmp/imagenet-1000/n01687978_agama.JPEG  \n",
            "  inflating: /tmp/imagenet-1000/n01688243_frilled_lizard.JPEG  \n",
            "  inflating: /tmp/imagenet-1000/n01689811_alligator_lizard.JPEG  \n",
            "  inflating: /tmp/imagenet-1000/n01692333_Gila_monster.JPEG  \n",
            "  inflating: /tmp/imagenet-1000/n01693334_green_lizard.JPEG  \n",
            "  inflating: /tmp/imagenet-1000/n01694178_African_chameleon.JPEG  \n",
            "  inflating: /tmp/imagenet-1000/n01695060_Komodo_dragon.JPEG  \n",
            "  inflating: /tmp/imagenet-1000/n01697457_African_crocodile.JPEG  \n",
            "  inflating: /tmp/imagenet-1000/n01698640_American_alligator.JPEG  \n",
            "  inflating: /tmp/imagenet-1000/n01704323_triceratops.JPEG  \n",
            "  inflating: /tmp/imagenet-1000/n01728572_thunder_snake.JPEG  \n",
            "  inflating: /tmp/imagenet-1000/n01728920_ringneck_snake.JPEG  \n",
            "  inflating: /tmp/imagenet-1000/n01729322_hognose_snake.JPEG  \n",
            "  inflating: /tmp/imagenet-1000/n01729977_green_snake.JPEG  \n",
            "  inflating: /tmp/imagenet-1000/n01734418_king_snake.JPEG  \n",
            "  inflating: /tmp/imagenet-1000/n01735189_garter_snake.JPEG  \n",
            "  inflating: /tmp/imagenet-1000/n01737021_water_snake.JPEG  \n",
            "  inflating: /tmp/imagenet-1000/n01739381_vine_snake.JPEG  \n",
            "  inflating: /tmp/imagenet-1000/n01740131_night_snake.JPEG  \n",
            "  inflating: /tmp/imagenet-1000/n01742172_boa_constrictor.JPEG  \n",
            "  inflating: /tmp/imagenet-1000/n01744401_rock_python.JPEG  \n",
            "  inflating: /tmp/imagenet-1000/n01748264_Indian_cobra.JPEG  \n",
            "  inflating: /tmp/imagenet-1000/n01749939_green_mamba.JPEG  \n",
            "  inflating: /tmp/imagenet-1000/n01751748_sea_snake.JPEG  \n",
            "  inflating: /tmp/imagenet-1000/n01753488_horned_viper.JPEG  \n",
            "  inflating: /tmp/imagenet-1000/n01755581_diamondback.JPEG  \n",
            "  inflating: /tmp/imagenet-1000/n01756291_sidewinder.JPEG  \n",
            "  inflating: /tmp/imagenet-1000/n01768244_trilobite.JPEG  \n",
            "  inflating: /tmp/imagenet-1000/n01770081_harvestman.JPEG  \n",
            "  inflating: /tmp/imagenet-1000/n01770393_scorpion.JPEG  \n",
            "  inflating: /tmp/imagenet-1000/n01773157_black_and_gold_garden_spider.JPEG  \n",
            "  inflating: /tmp/imagenet-1000/n01773549_barn_spider.JPEG  \n",
            "  inflating: /tmp/imagenet-1000/n01773797_garden_spider.JPEG  \n",
            "  inflating: /tmp/imagenet-1000/n01774384_black_widow.JPEG  \n",
            "  inflating: /tmp/imagenet-1000/n01774750_tarantula.JPEG  \n",
            "  inflating: /tmp/imagenet-1000/n01775062_wolf_spider.JPEG  \n",
            "  inflating: /tmp/imagenet-1000/n01776313_tick.JPEG  \n",
            "  inflating: /tmp/imagenet-1000/n01784675_centipede.JPEG  \n",
            "  inflating: /tmp/imagenet-1000/n01795545_black_grouse.JPEG  \n",
            "  inflating: /tmp/imagenet-1000/n01796340_ptarmigan.JPEG  \n",
            "  inflating: /tmp/imagenet-1000/n01797886_ruffed_grouse.JPEG  \n",
            "  inflating: /tmp/imagenet-1000/n01798484_prairie_chicken.JPEG  \n",
            "  inflating: /tmp/imagenet-1000/n01806143_peacock.JPEG  \n",
            "  inflating: /tmp/imagenet-1000/n01806567_quail.JPEG  \n",
            "  inflating: /tmp/imagenet-1000/n01807496_partridge.JPEG  \n",
            "  inflating: /tmp/imagenet-1000/n01817953_African_grey.JPEG  \n",
            "  inflating: /tmp/imagenet-1000/n01818515_macaw.JPEG  \n",
            "  inflating: /tmp/imagenet-1000/n01819313_sulphur-crested_cockatoo.JPEG  \n",
            "  inflating: /tmp/imagenet-1000/n01820546_lorikeet.JPEG  \n",
            "  inflating: /tmp/imagenet-1000/n01824575_coucal.JPEG  \n",
            "  inflating: /tmp/imagenet-1000/n01828970_bee_eater.JPEG  \n",
            "  inflating: /tmp/imagenet-1000/n01829413_hornbill.JPEG  \n",
            "  inflating: /tmp/imagenet-1000/n01833805_hummingbird.JPEG  \n",
            "  inflating: /tmp/imagenet-1000/n01843065_jacamar.JPEG  \n",
            "  inflating: /tmp/imagenet-1000/n01843383_toucan.JPEG  \n",
            "  inflating: /tmp/imagenet-1000/n01847000_drake.JPEG  \n",
            "  inflating: /tmp/imagenet-1000/n01855032_red-breasted_merganser.JPEG  \n",
            "  inflating: /tmp/imagenet-1000/n01855672_goose.JPEG  \n",
            "  inflating: /tmp/imagenet-1000/n01860187_black_swan.JPEG  \n",
            "  inflating: /tmp/imagenet-1000/n01871265_tusker.JPEG  \n",
            "  inflating: /tmp/imagenet-1000/n01872401_echidna.JPEG  \n",
            "  inflating: /tmp/imagenet-1000/n01873310_platypus.JPEG  \n",
            "  inflating: /tmp/imagenet-1000/n01877812_wallaby.JPEG  \n",
            "  inflating: /tmp/imagenet-1000/n01882714_koala.JPEG  \n",
            "  inflating: /tmp/imagenet-1000/n01883070_wombat.JPEG  \n",
            "  inflating: /tmp/imagenet-1000/n01910747_jellyfish.JPEG  \n",
            "  inflating: /tmp/imagenet-1000/n01914609_sea_anemone.JPEG  \n",
            "  inflating: /tmp/imagenet-1000/n01917289_brain_coral.JPEG  \n",
            "  inflating: /tmp/imagenet-1000/n01924916_flatworm.JPEG  \n",
            "  inflating: /tmp/imagenet-1000/n01930112_nematode.JPEG  \n",
            "  inflating: /tmp/imagenet-1000/n01943899_conch.JPEG  \n",
            "  inflating: /tmp/imagenet-1000/n01944390_snail.JPEG  \n",
            "  inflating: /tmp/imagenet-1000/n01945685_slug.JPEG  \n",
            "  inflating: /tmp/imagenet-1000/n01950731_sea_slug.JPEG  \n",
            "  inflating: /tmp/imagenet-1000/n01955084_chiton.JPEG  \n",
            "  inflating: /tmp/imagenet-1000/n01968897_chambered_nautilus.JPEG  \n",
            "  inflating: /tmp/imagenet-1000/n01978287_Dungeness_crab.JPEG  \n",
            "  inflating: /tmp/imagenet-1000/n01978455_rock_crab.JPEG  \n",
            "  inflating: /tmp/imagenet-1000/n01980166_fiddler_crab.JPEG  \n",
            "  inflating: /tmp/imagenet-1000/n01981276_king_crab.JPEG  \n",
            "  inflating: /tmp/imagenet-1000/n01983481_American_lobster.JPEG  \n",
            "  inflating: /tmp/imagenet-1000/n01984695_spiny_lobster.JPEG  \n",
            "  inflating: /tmp/imagenet-1000/n01985128_crayfish.JPEG  \n",
            "  inflating: /tmp/imagenet-1000/n01986214_hermit_crab.JPEG  \n",
            "  inflating: /tmp/imagenet-1000/n01990800_isopod.JPEG  \n",
            "  inflating: /tmp/imagenet-1000/n02002556_white_stork.JPEG  \n",
            "  inflating: /tmp/imagenet-1000/n02002724_black_stork.JPEG  \n",
            "  inflating: /tmp/imagenet-1000/n02006656_spoonbill.JPEG  \n",
            "  inflating: /tmp/imagenet-1000/n02007558_flamingo.JPEG  \n",
            "  inflating: /tmp/imagenet-1000/n02009229_little_blue_heron.JPEG  \n",
            "  inflating: /tmp/imagenet-1000/n02009912_American_egret.JPEG  \n",
            "  inflating: /tmp/imagenet-1000/n02011460_bittern.JPEG  \n",
            "  inflating: /tmp/imagenet-1000/n02012849_crane.JPEG  \n",
            "  inflating: /tmp/imagenet-1000/n02013706_limpkin.JPEG  \n",
            "  inflating: /tmp/imagenet-1000/n02017213_European_gallinule.JPEG  \n",
            "  inflating: /tmp/imagenet-1000/n02018207_American_coot.JPEG  \n",
            "  inflating: /tmp/imagenet-1000/n02018795_bustard.JPEG  \n",
            "  inflating: /tmp/imagenet-1000/n02025239_ruddy_turnstone.JPEG  \n",
            "  inflating: /tmp/imagenet-1000/n02027492_red-backed_sandpiper.JPEG  \n",
            "  inflating: /tmp/imagenet-1000/n02028035_redshank.JPEG  \n",
            "  inflating: /tmp/imagenet-1000/n02033041_dowitcher.JPEG  \n",
            "  inflating: /tmp/imagenet-1000/n02037110_oystercatcher.JPEG  \n",
            "  inflating: /tmp/imagenet-1000/n02051845_pelican.JPEG  \n",
            "  inflating: /tmp/imagenet-1000/n02056570_king_penguin.JPEG  \n",
            "  inflating: /tmp/imagenet-1000/n02058221_albatross.JPEG  \n",
            "  inflating: /tmp/imagenet-1000/n02066245_grey_whale.JPEG  \n",
            "  inflating: /tmp/imagenet-1000/n02071294_killer_whale.JPEG  \n",
            "  inflating: /tmp/imagenet-1000/n02074367_dugong.JPEG  \n",
            "  inflating: /tmp/imagenet-1000/n02077923_sea_lion.JPEG  \n",
            "  inflating: /tmp/imagenet-1000/n02085620_Chihuahua.JPEG  \n",
            "  inflating: /tmp/imagenet-1000/n02085782_Japanese_spaniel.JPEG  \n",
            "  inflating: /tmp/imagenet-1000/n02085936_Maltese_dog.JPEG  \n",
            "  inflating: /tmp/imagenet-1000/n02086079_Pekinese.JPEG  \n",
            "  inflating: /tmp/imagenet-1000/n02086240_Shih-Tzu.JPEG  \n",
            "  inflating: /tmp/imagenet-1000/n02086646_Blenheim_spaniel.JPEG  \n",
            "  inflating: /tmp/imagenet-1000/n02086910_papillon.JPEG  \n",
            "  inflating: /tmp/imagenet-1000/n02087046_toy_terrier.JPEG  \n",
            "  inflating: /tmp/imagenet-1000/n02087394_Rhodesian_ridgeback.JPEG  \n",
            "  inflating: /tmp/imagenet-1000/n02088094_Afghan_hound.JPEG  \n",
            "  inflating: /tmp/imagenet-1000/n02088238_basset.JPEG  \n",
            "  inflating: /tmp/imagenet-1000/n02088364_beagle.JPEG  \n",
            "  inflating: /tmp/imagenet-1000/n02088466_bloodhound.JPEG  \n",
            "  inflating: /tmp/imagenet-1000/n02088632_bluetick.JPEG  \n",
            "  inflating: /tmp/imagenet-1000/n02089078_black-and-tan_coonhound.JPEG  \n",
            "  inflating: /tmp/imagenet-1000/n02089867_Walker_hound.JPEG  \n",
            "  inflating: /tmp/imagenet-1000/n02089973_English_foxhound.JPEG  \n",
            "  inflating: /tmp/imagenet-1000/n02090379_redbone.JPEG  \n",
            "  inflating: /tmp/imagenet-1000/n02090622_borzoi.JPEG  \n",
            "  inflating: /tmp/imagenet-1000/n02090721_Irish_wolfhound.JPEG  \n",
            "  inflating: /tmp/imagenet-1000/n02091032_Italian_greyhound.JPEG  \n",
            "  inflating: /tmp/imagenet-1000/n02091134_whippet.JPEG  \n",
            "  inflating: /tmp/imagenet-1000/n02091244_Ibizan_hound.JPEG  \n",
            "  inflating: /tmp/imagenet-1000/n02091467_Norwegian_elkhound.JPEG  \n",
            "  inflating: /tmp/imagenet-1000/n02091635_otterhound.JPEG  \n",
            "  inflating: /tmp/imagenet-1000/n02091831_Saluki.JPEG  \n",
            "  inflating: /tmp/imagenet-1000/n02092002_Scottish_deerhound.JPEG  \n",
            "  inflating: /tmp/imagenet-1000/n02092339_Weimaraner.JPEG  \n",
            "  inflating: /tmp/imagenet-1000/n02093256_Staffordshire_bullterrier.JPEG  \n",
            "  inflating: /tmp/imagenet-1000/n02093428_American_Staffordshire_terrier.JPEG  \n",
            "  inflating: /tmp/imagenet-1000/n02093647_Bedlington_terrier.JPEG  \n",
            "  inflating: /tmp/imagenet-1000/n02093754_Border_terrier.JPEG  \n",
            "  inflating: /tmp/imagenet-1000/n02093859_Kerry_blue_terrier.JPEG  \n",
            "  inflating: /tmp/imagenet-1000/n02093991_Irish_terrier.JPEG  \n",
            "  inflating: /tmp/imagenet-1000/n02094114_Norfolk_terrier.JPEG  \n",
            "  inflating: /tmp/imagenet-1000/n02094258_Norwich_terrier.JPEG  \n",
            "  inflating: /tmp/imagenet-1000/n02094433_Yorkshire_terrier.JPEG  \n",
            "  inflating: /tmp/imagenet-1000/n02095314_wire-haired_fox_terrier.JPEG  \n",
            "  inflating: /tmp/imagenet-1000/n02095570_Lakeland_terrier.JPEG  \n",
            "  inflating: /tmp/imagenet-1000/n02095889_Sealyham_terrier.JPEG  \n",
            "  inflating: /tmp/imagenet-1000/n02096051_Airedale.JPEG  \n",
            "  inflating: /tmp/imagenet-1000/n02096177_cairn.JPEG  \n",
            "  inflating: /tmp/imagenet-1000/n02096294_Australian_terrier.JPEG  \n",
            "  inflating: /tmp/imagenet-1000/n02096437_Dandie_Dinmont.JPEG  \n",
            "  inflating: /tmp/imagenet-1000/n02096585_Boston_bull.JPEG  \n",
            "  inflating: /tmp/imagenet-1000/n02097047_miniature_schnauzer.JPEG  \n",
            "  inflating: /tmp/imagenet-1000/n02097130_giant_schnauzer.JPEG  \n",
            "  inflating: /tmp/imagenet-1000/n02097209_standard_schnauzer.JPEG  \n",
            "  inflating: /tmp/imagenet-1000/n02097298_Scotch_terrier.JPEG  \n",
            "  inflating: /tmp/imagenet-1000/n02097474_Tibetan_terrier.JPEG  \n",
            "  inflating: /tmp/imagenet-1000/n02097658_silky_terrier.JPEG  \n",
            "  inflating: /tmp/imagenet-1000/n02098105_soft-coated_wheaten_terrier.JPEG  \n",
            "  inflating: /tmp/imagenet-1000/n02098286_West_Highland_white_terrier.JPEG  \n",
            "  inflating: /tmp/imagenet-1000/n02098413_Lhasa.JPEG  \n",
            "  inflating: /tmp/imagenet-1000/n02099267_flat-coated_retriever.JPEG  \n",
            "  inflating: /tmp/imagenet-1000/n02099429_curly-coated_retriever.JPEG  \n",
            "  inflating: /tmp/imagenet-1000/n02099601_golden_retriever.JPEG  \n",
            "  inflating: /tmp/imagenet-1000/n02099712_Labrador_retriever.JPEG  \n",
            "  inflating: /tmp/imagenet-1000/n02099849_Chesapeake_Bay_retriever.JPEG  \n",
            "  inflating: /tmp/imagenet-1000/n02100236_German_short-haired_pointer.JPEG  \n",
            "  inflating: /tmp/imagenet-1000/n02100583_vizsla.JPEG  \n",
            "  inflating: /tmp/imagenet-1000/n02100735_English_setter.JPEG  \n",
            "  inflating: /tmp/imagenet-1000/n02100877_Irish_setter.JPEG  \n",
            "  inflating: /tmp/imagenet-1000/n02101006_Gordon_setter.JPEG  \n",
            "  inflating: /tmp/imagenet-1000/n02101388_Brittany_spaniel.JPEG  \n",
            "  inflating: /tmp/imagenet-1000/n02101556_clumber.JPEG  \n",
            "  inflating: /tmp/imagenet-1000/n02102040_English_springer.JPEG  \n",
            "  inflating: /tmp/imagenet-1000/n02102177_Welsh_springer_spaniel.JPEG  \n",
            "  inflating: /tmp/imagenet-1000/n02102318_cocker_spaniel.JPEG  \n",
            "  inflating: /tmp/imagenet-1000/n02102480_Sussex_spaniel.JPEG  \n",
            "  inflating: /tmp/imagenet-1000/n02102973_Irish_water_spaniel.JPEG  \n",
            "  inflating: /tmp/imagenet-1000/n02104029_kuvasz.JPEG  \n",
            "  inflating: /tmp/imagenet-1000/n02104365_schipperke.JPEG  \n",
            "  inflating: /tmp/imagenet-1000/n02105056_groenendael.JPEG  \n",
            "  inflating: /tmp/imagenet-1000/n02105162_malinois.JPEG  \n",
            "  inflating: /tmp/imagenet-1000/n02105251_briard.JPEG  \n",
            "  inflating: /tmp/imagenet-1000/n02105412_kelpie.JPEG  \n",
            "  inflating: /tmp/imagenet-1000/n02105505_komondor.JPEG  \n",
            "  inflating: /tmp/imagenet-1000/n02105641_Old_English_sheepdog.JPEG  \n",
            "  inflating: /tmp/imagenet-1000/n02105855_Shetland_sheepdog.JPEG  \n",
            "  inflating: /tmp/imagenet-1000/n02106030_collie.JPEG  \n",
            "  inflating: /tmp/imagenet-1000/n02106166_Border_collie.JPEG  \n",
            "  inflating: /tmp/imagenet-1000/n02106382_Bouvier_des_Flandres.JPEG  \n",
            "  inflating: /tmp/imagenet-1000/n02106550_Rottweiler.JPEG  \n",
            "  inflating: /tmp/imagenet-1000/n02106662_German_shepherd.JPEG  \n",
            "  inflating: /tmp/imagenet-1000/n02107142_Doberman.JPEG  \n",
            "  inflating: /tmp/imagenet-1000/n02107312_miniature_pinscher.JPEG  \n",
            "  inflating: /tmp/imagenet-1000/n02107574_Greater_Swiss_Mountain_dog.JPEG  \n",
            "  inflating: /tmp/imagenet-1000/n02107683_Bernese_mountain_dog.JPEG  \n",
            "  inflating: /tmp/imagenet-1000/n02107908_Appenzeller.JPEG  \n",
            "  inflating: /tmp/imagenet-1000/n02108000_EntleBucher.JPEG  \n",
            "  inflating: /tmp/imagenet-1000/n02108089_boxer.JPEG  \n",
            "  inflating: /tmp/imagenet-1000/n02108422_bull_mastiff.JPEG  \n",
            "  inflating: /tmp/imagenet-1000/n02108551_Tibetan_mastiff.JPEG  \n",
            "  inflating: /tmp/imagenet-1000/n02108915_French_bulldog.JPEG  \n",
            "  inflating: /tmp/imagenet-1000/n02109047_Great_Dane.JPEG  \n",
            "  inflating: /tmp/imagenet-1000/n02109525_Saint_Bernard.JPEG  \n",
            "  inflating: /tmp/imagenet-1000/n02109961_Eskimo_dog.JPEG  \n",
            "  inflating: /tmp/imagenet-1000/n02110063_malamute.JPEG  \n",
            "  inflating: /tmp/imagenet-1000/n02110185_Siberian_husky.JPEG  \n",
            "  inflating: /tmp/imagenet-1000/n02110341_dalmatian.JPEG  \n",
            "  inflating: /tmp/imagenet-1000/n02110627_affenpinscher.JPEG  \n",
            "  inflating: /tmp/imagenet-1000/n02110806_basenji.JPEG  \n",
            "  inflating: /tmp/imagenet-1000/n02110958_pug.JPEG  \n",
            "  inflating: /tmp/imagenet-1000/n02111129_Leonberg.JPEG  \n",
            "  inflating: /tmp/imagenet-1000/n02111277_Newfoundland.JPEG  \n",
            "  inflating: /tmp/imagenet-1000/n02111500_Great_Pyrenees.JPEG  \n",
            "  inflating: /tmp/imagenet-1000/n02111889_Samoyed.JPEG  \n",
            "  inflating: /tmp/imagenet-1000/n02112018_Pomeranian.JPEG  \n",
            "  inflating: /tmp/imagenet-1000/n02112137_chow.JPEG  \n",
            "  inflating: /tmp/imagenet-1000/n02112350_keeshond.JPEG  \n",
            "  inflating: /tmp/imagenet-1000/n02112706_Brabancon_griffon.JPEG  \n",
            "  inflating: /tmp/imagenet-1000/n02113023_Pembroke.JPEG  \n",
            "  inflating: /tmp/imagenet-1000/n02113186_Cardigan.JPEG  \n",
            "  inflating: /tmp/imagenet-1000/n02113624_toy_poodle.JPEG  \n",
            "  inflating: /tmp/imagenet-1000/n02113712_miniature_poodle.JPEG  \n",
            "  inflating: /tmp/imagenet-1000/n02113799_standard_poodle.JPEG  \n",
            "  inflating: /tmp/imagenet-1000/n02113978_Mexican_hairless.JPEG  \n",
            "  inflating: /tmp/imagenet-1000/n02114367_timber_wolf.JPEG  \n",
            "  inflating: /tmp/imagenet-1000/n02114548_white_wolf.JPEG  \n",
            "  inflating: /tmp/imagenet-1000/n02114712_red_wolf.JPEG  \n",
            "  inflating: /tmp/imagenet-1000/n02114855_coyote.JPEG  \n",
            "  inflating: /tmp/imagenet-1000/n02115641_dingo.JPEG  \n",
            "  inflating: /tmp/imagenet-1000/n02115913_dhole.JPEG  \n",
            "  inflating: /tmp/imagenet-1000/n02116738_African_hunting_dog.JPEG  \n",
            "  inflating: /tmp/imagenet-1000/n02117135_hyena.JPEG  \n",
            "  inflating: /tmp/imagenet-1000/n02119022_red_fox.JPEG  \n",
            "  inflating: /tmp/imagenet-1000/n02119789_kit_fox.JPEG  \n",
            "  inflating: /tmp/imagenet-1000/n02120079_Arctic_fox.JPEG  \n",
            "  inflating: /tmp/imagenet-1000/n02120505_grey_fox.JPEG  \n",
            "  inflating: /tmp/imagenet-1000/n02123045_tabby.JPEG  \n",
            "  inflating: /tmp/imagenet-1000/n02123159_tiger_cat.JPEG  \n",
            "  inflating: /tmp/imagenet-1000/n02123394_Persian_cat.JPEG  \n",
            "  inflating: /tmp/imagenet-1000/n02123597_Siamese_cat.JPEG  \n",
            "  inflating: /tmp/imagenet-1000/n02124075_Egyptian_cat.JPEG  \n",
            "  inflating: /tmp/imagenet-1000/n02125311_cougar.JPEG  \n",
            "  inflating: /tmp/imagenet-1000/n02127052_lynx.JPEG  \n",
            "  inflating: /tmp/imagenet-1000/n02128385_leopard.JPEG  \n",
            "  inflating: /tmp/imagenet-1000/n02128757_snow_leopard.JPEG  \n",
            "  inflating: /tmp/imagenet-1000/n02128925_jaguar.JPEG  \n",
            "  inflating: /tmp/imagenet-1000/n02129165_lion.JPEG  \n",
            "  inflating: /tmp/imagenet-1000/n02129604_tiger.JPEG  \n",
            "  inflating: /tmp/imagenet-1000/n02130308_cheetah.JPEG  \n",
            "  inflating: /tmp/imagenet-1000/n02132136_brown_bear.JPEG  \n",
            "  inflating: /tmp/imagenet-1000/n02133161_American_black_bear.JPEG  \n",
            "  inflating: /tmp/imagenet-1000/n02134084_ice_bear.JPEG  \n",
            "  inflating: /tmp/imagenet-1000/n02134418_sloth_bear.JPEG  \n",
            "  inflating: /tmp/imagenet-1000/n02137549_mongoose.JPEG  \n",
            "  inflating: /tmp/imagenet-1000/n02138441_meerkat.JPEG  \n",
            "  inflating: /tmp/imagenet-1000/n02165105_tiger_beetle.JPEG  \n",
            "  inflating: /tmp/imagenet-1000/n02165456_ladybug.JPEG  \n",
            "  inflating: /tmp/imagenet-1000/n02167151_ground_beetle.JPEG  \n",
            "  inflating: /tmp/imagenet-1000/n02168699_long-horned_beetle.JPEG  \n",
            "  inflating: /tmp/imagenet-1000/n02169497_leaf_beetle.JPEG  \n",
            "  inflating: /tmp/imagenet-1000/n02172182_dung_beetle.JPEG  \n",
            "  inflating: /tmp/imagenet-1000/n02174001_rhinoceros_beetle.JPEG  \n",
            "  inflating: /tmp/imagenet-1000/n02177972_weevil.JPEG  \n",
            "  inflating: /tmp/imagenet-1000/n02190166_fly.JPEG  \n",
            "  inflating: /tmp/imagenet-1000/n02206856_bee.JPEG  \n",
            "  inflating: /tmp/imagenet-1000/n02219486_ant.JPEG  \n",
            "  inflating: /tmp/imagenet-1000/n02226429_grasshopper.JPEG  \n",
            "  inflating: /tmp/imagenet-1000/n02229544_cricket.JPEG  \n",
            "  inflating: /tmp/imagenet-1000/n02231487_walking_stick.JPEG  \n",
            "  inflating: /tmp/imagenet-1000/n02233338_cockroach.JPEG  \n",
            "  inflating: /tmp/imagenet-1000/n02236044_mantis.JPEG  \n",
            "  inflating: /tmp/imagenet-1000/n02256656_cicada.JPEG  \n",
            "  inflating: /tmp/imagenet-1000/n02259212_leafhopper.JPEG  \n",
            "  inflating: /tmp/imagenet-1000/n02264363_lacewing.JPEG  \n",
            "  inflating: /tmp/imagenet-1000/n02268443_dragonfly.JPEG  \n",
            "  inflating: /tmp/imagenet-1000/n02268853_damselfly.JPEG  \n",
            "  inflating: /tmp/imagenet-1000/n02276258_admiral.JPEG  \n",
            "  inflating: /tmp/imagenet-1000/n02277742_ringlet.JPEG  \n",
            "  inflating: /tmp/imagenet-1000/n02279972_monarch.JPEG  \n",
            "  inflating: /tmp/imagenet-1000/n02280649_cabbage_butterfly.JPEG  \n",
            "  inflating: /tmp/imagenet-1000/n02281406_sulphur_butterfly.JPEG  \n",
            "  inflating: /tmp/imagenet-1000/n02281787_lycaenid.JPEG  \n",
            "  inflating: /tmp/imagenet-1000/n02317335_starfish.JPEG  \n",
            "  inflating: /tmp/imagenet-1000/n02319095_sea_urchin.JPEG  \n",
            "  inflating: /tmp/imagenet-1000/n02321529_sea_cucumber.JPEG  \n",
            "  inflating: /tmp/imagenet-1000/n02325366_wood_rabbit.JPEG  \n",
            "  inflating: /tmp/imagenet-1000/n02326432_hare.JPEG  \n",
            "  inflating: /tmp/imagenet-1000/n02328150_Angora.JPEG  \n",
            "  inflating: /tmp/imagenet-1000/n02342885_hamster.JPEG  \n",
            "  inflating: /tmp/imagenet-1000/n02346627_porcupine.JPEG  \n",
            "  inflating: /tmp/imagenet-1000/n02356798_fox_squirrel.JPEG  \n",
            "  inflating: /tmp/imagenet-1000/n02361337_marmot.JPEG  \n",
            "  inflating: /tmp/imagenet-1000/n02363005_beaver.JPEG  \n",
            "  inflating: /tmp/imagenet-1000/n02364673_guinea_pig.JPEG  \n",
            "  inflating: /tmp/imagenet-1000/n02389026_sorrel.JPEG  \n",
            "  inflating: /tmp/imagenet-1000/n02391049_zebra.JPEG  \n",
            "  inflating: /tmp/imagenet-1000/n02395406_hog.JPEG  \n",
            "  inflating: /tmp/imagenet-1000/n02396427_wild_boar.JPEG  \n",
            "  inflating: /tmp/imagenet-1000/n02397096_warthog.JPEG  \n",
            "  inflating: /tmp/imagenet-1000/n02398521_hippopotamus.JPEG  \n",
            "  inflating: /tmp/imagenet-1000/n02403003_ox.JPEG  \n",
            "  inflating: /tmp/imagenet-1000/n02408429_water_buffalo.JPEG  \n",
            "  inflating: /tmp/imagenet-1000/n02410509_bison.JPEG  \n",
            "  inflating: /tmp/imagenet-1000/n02412080_ram.JPEG  \n",
            "  inflating: /tmp/imagenet-1000/n02415577_bighorn.JPEG  \n",
            "  inflating: /tmp/imagenet-1000/n02417914_ibex.JPEG  \n",
            "  inflating: /tmp/imagenet-1000/n02422106_hartebeest.JPEG  \n",
            "  inflating: /tmp/imagenet-1000/n02422699_impala.JPEG  \n",
            "  inflating: /tmp/imagenet-1000/n02423022_gazelle.JPEG  \n",
            "  inflating: /tmp/imagenet-1000/n02437312_Arabian_camel.JPEG  \n",
            "  inflating: /tmp/imagenet-1000/n02437616_llama.JPEG  \n",
            "  inflating: /tmp/imagenet-1000/n02441942_weasel.JPEG  \n",
            "  inflating: /tmp/imagenet-1000/n02442845_mink.JPEG  \n",
            "  inflating: /tmp/imagenet-1000/n02443114_polecat.JPEG  \n",
            "  inflating: /tmp/imagenet-1000/n02443484_black-footed_ferret.JPEG  \n",
            "  inflating: /tmp/imagenet-1000/n02444819_otter.JPEG  \n",
            "  inflating: /tmp/imagenet-1000/n02445715_skunk.JPEG  \n",
            "  inflating: /tmp/imagenet-1000/n02447366_badger.JPEG  \n",
            "  inflating: /tmp/imagenet-1000/n02454379_armadillo.JPEG  \n",
            "  inflating: /tmp/imagenet-1000/n02457408_three-toed_sloth.JPEG  \n",
            "  inflating: /tmp/imagenet-1000/n02480495_orangutan.JPEG  \n",
            "  inflating: /tmp/imagenet-1000/n02480855_gorilla.JPEG  \n",
            "  inflating: /tmp/imagenet-1000/n02481823_chimpanzee.JPEG  \n",
            "  inflating: /tmp/imagenet-1000/n02483362_gibbon.JPEG  \n",
            "  inflating: /tmp/imagenet-1000/n02483708_siamang.JPEG  \n",
            "  inflating: /tmp/imagenet-1000/n02484975_guenon.JPEG  \n",
            "  inflating: /tmp/imagenet-1000/n02486261_patas.JPEG  \n",
            "  inflating: /tmp/imagenet-1000/n02486410_baboon.JPEG  \n",
            "  inflating: /tmp/imagenet-1000/n02487347_macaque.JPEG  \n",
            "  inflating: /tmp/imagenet-1000/n02488291_langur.JPEG  \n",
            "  inflating: /tmp/imagenet-1000/n02488702_colobus.JPEG  \n",
            "  inflating: /tmp/imagenet-1000/n02489166_proboscis_monkey.JPEG  \n",
            "  inflating: /tmp/imagenet-1000/n02490219_marmoset.JPEG  \n",
            "  inflating: /tmp/imagenet-1000/n02492035_capuchin.JPEG  \n",
            "  inflating: /tmp/imagenet-1000/n02492660_howler_monkey.JPEG  \n",
            "  inflating: /tmp/imagenet-1000/n02493509_titi.JPEG  \n",
            "  inflating: /tmp/imagenet-1000/n02493793_spider_monkey.JPEG  \n",
            "  inflating: /tmp/imagenet-1000/n02494079_squirrel_monkey.JPEG  \n",
            "  inflating: /tmp/imagenet-1000/n02497673_Madagascar_cat.JPEG  \n",
            "  inflating: /tmp/imagenet-1000/n02500267_indri.JPEG  \n",
            "  inflating: /tmp/imagenet-1000/n02504013_Indian_elephant.JPEG  \n",
            "  inflating: /tmp/imagenet-1000/n02504458_African_elephant.JPEG  \n",
            "  inflating: /tmp/imagenet-1000/n02509815_lesser_panda.JPEG  \n",
            "  inflating: /tmp/imagenet-1000/n02510455_giant_panda.JPEG  \n",
            "  inflating: /tmp/imagenet-1000/n02514041_barracouta.JPEG  \n",
            "  inflating: /tmp/imagenet-1000/n02526121_eel.JPEG  \n",
            "  inflating: /tmp/imagenet-1000/n02536864_coho.JPEG  \n",
            "  inflating: /tmp/imagenet-1000/n02606052_rock_beauty.JPEG  \n",
            "  inflating: /tmp/imagenet-1000/n02607072_anemone_fish.JPEG  \n",
            "  inflating: /tmp/imagenet-1000/n02640242_sturgeon.JPEG  \n",
            "  inflating: /tmp/imagenet-1000/n02641379_gar.JPEG  \n",
            "  inflating: /tmp/imagenet-1000/n02643566_lionfish.JPEG  \n",
            "  inflating: /tmp/imagenet-1000/n02655020_puffer.JPEG  \n",
            "  inflating: /tmp/imagenet-1000/n02666196_abacus.JPEG  \n",
            "  inflating: /tmp/imagenet-1000/n02667093_abaya.JPEG  \n",
            "  inflating: /tmp/imagenet-1000/n02669723_academic_gown.JPEG  \n",
            "  inflating: /tmp/imagenet-1000/n02672831_accordion.JPEG  \n",
            "  inflating: /tmp/imagenet-1000/n02676566_acoustic_guitar.JPEG  \n",
            "  inflating: /tmp/imagenet-1000/n02687172_aircraft_carrier.JPEG  \n",
            "  inflating: /tmp/imagenet-1000/n02690373_airliner.JPEG  \n",
            " extracting: /tmp/imagenet-1000/n02692877_airship.JPEG  \n",
            "  inflating: /tmp/imagenet-1000/n02699494_altar.JPEG  \n",
            "  inflating: /tmp/imagenet-1000/n02701002_ambulance.JPEG  \n",
            "  inflating: /tmp/imagenet-1000/n02704792_amphibian.JPEG  \n",
            "  inflating: /tmp/imagenet-1000/n02708093_analog_clock.JPEG  \n",
            "  inflating: /tmp/imagenet-1000/n02727426_apiary.JPEG  \n",
            "  inflating: /tmp/imagenet-1000/n02730930_apron.JPEG  \n",
            "  inflating: /tmp/imagenet-1000/n02747177_ashcan.JPEG  \n",
            "  inflating: /tmp/imagenet-1000/n02749479_assault_rifle.JPEG  \n",
            "  inflating: /tmp/imagenet-1000/n02769748_backpack.JPEG  \n",
            "  inflating: /tmp/imagenet-1000/n02776631_bakery.JPEG  \n",
            "  inflating: /tmp/imagenet-1000/n02777292_balance_beam.JPEG  \n",
            "  inflating: /tmp/imagenet-1000/n02782093_balloon.JPEG  \n",
            "  inflating: /tmp/imagenet-1000/n02783161_ballpoint.JPEG  \n",
            "  inflating: /tmp/imagenet-1000/n02786058_Band_Aid.JPEG  \n",
            "  inflating: /tmp/imagenet-1000/n02787622_banjo.JPEG  \n",
            "  inflating: /tmp/imagenet-1000/n02788148_bannister.JPEG  \n",
            "  inflating: /tmp/imagenet-1000/n02790996_barbell.JPEG  \n",
            "  inflating: /tmp/imagenet-1000/n02791124_barber_chair.JPEG  \n",
            "  inflating: /tmp/imagenet-1000/n02791270_barbershop.JPEG  \n",
            "  inflating: /tmp/imagenet-1000/n02793495_barn.JPEG  \n",
            "  inflating: /tmp/imagenet-1000/n02794156_barometer.JPEG  \n",
            "  inflating: /tmp/imagenet-1000/n02795169_barrel.JPEG  \n",
            "  inflating: /tmp/imagenet-1000/n02797295_barrow.JPEG  \n",
            "  inflating: /tmp/imagenet-1000/n02799071_baseball.JPEG  \n",
            "  inflating: /tmp/imagenet-1000/n02802426_basketball.JPEG  \n",
            "  inflating: /tmp/imagenet-1000/n02804414_bassinet.JPEG  \n",
            "  inflating: /tmp/imagenet-1000/n02804610_bassoon.JPEG  \n",
            "  inflating: /tmp/imagenet-1000/n02807133_bathing_cap.JPEG  \n",
            "  inflating: /tmp/imagenet-1000/n02808304_bath_towel.JPEG  \n",
            "  inflating: /tmp/imagenet-1000/n02808440_bathtub.JPEG  \n",
            "  inflating: /tmp/imagenet-1000/n02814533_beach_wagon.JPEG  \n",
            "  inflating: /tmp/imagenet-1000/n02814860_beacon.JPEG  \n",
            "  inflating: /tmp/imagenet-1000/n02815834_beaker.JPEG  \n",
            "  inflating: /tmp/imagenet-1000/n02817516_bearskin.JPEG  \n",
            "  inflating: /tmp/imagenet-1000/n02823428_beer_bottle.JPEG  \n",
            "  inflating: /tmp/imagenet-1000/n02823750_beer_glass.JPEG  \n",
            "  inflating: /tmp/imagenet-1000/n02825657_bell_cote.JPEG  \n",
            "  inflating: /tmp/imagenet-1000/n02834397_bib.JPEG  \n",
            "  inflating: /tmp/imagenet-1000/n02835271_bicycle-built-for-two.JPEG  \n",
            "  inflating: /tmp/imagenet-1000/n02837789_bikini.JPEG  \n",
            "  inflating: /tmp/imagenet-1000/n02840245_binder.JPEG  \n",
            "  inflating: /tmp/imagenet-1000/n02841315_binoculars.JPEG  \n",
            "  inflating: /tmp/imagenet-1000/n02843684_birdhouse.JPEG  \n",
            "  inflating: /tmp/imagenet-1000/n02859443_boathouse.JPEG  \n",
            "  inflating: /tmp/imagenet-1000/n02860847_bobsled.JPEG  \n",
            "  inflating: /tmp/imagenet-1000/n02865351_bolo_tie.JPEG  \n",
            "  inflating: /tmp/imagenet-1000/n02869837_bonnet.JPEG  \n",
            "  inflating: /tmp/imagenet-1000/n02870880_bookcase.JPEG  \n",
            "  inflating: /tmp/imagenet-1000/n02871525_bookshop.JPEG  \n",
            "  inflating: /tmp/imagenet-1000/n02877765_bottlecap.JPEG  \n",
            "  inflating: /tmp/imagenet-1000/n02879718_bow.JPEG  \n",
            "  inflating: /tmp/imagenet-1000/n02883205_bow_tie.JPEG  \n",
            "  inflating: /tmp/imagenet-1000/n02892201_brass.JPEG  \n",
            "  inflating: /tmp/imagenet-1000/n02892767_brassiere.JPEG  \n",
            "  inflating: /tmp/imagenet-1000/n02894605_breakwater.JPEG  \n",
            "  inflating: /tmp/imagenet-1000/n02895154_breastplate.JPEG  \n",
            "  inflating: /tmp/imagenet-1000/n02906734_broom.JPEG  \n",
            "  inflating: /tmp/imagenet-1000/n02909870_bucket.JPEG  \n",
            "  inflating: /tmp/imagenet-1000/n02910353_buckle.JPEG  \n",
            "  inflating: /tmp/imagenet-1000/n02916936_bulletproof_vest.JPEG  \n",
            "  inflating: /tmp/imagenet-1000/n02917067_bullet_train.JPEG  \n",
            "  inflating: /tmp/imagenet-1000/n02927161_butcher_shop.JPEG  \n",
            "  inflating: /tmp/imagenet-1000/n02930766_cab.JPEG  \n",
            "  inflating: /tmp/imagenet-1000/n02939185_caldron.JPEG  \n",
            "  inflating: /tmp/imagenet-1000/n02948072_candle.JPEG  \n",
            "  inflating: /tmp/imagenet-1000/n02950826_cannon.JPEG  \n",
            "  inflating: /tmp/imagenet-1000/n02951358_canoe.JPEG  \n",
            "  inflating: /tmp/imagenet-1000/n02951585_can_opener.JPEG  \n",
            "  inflating: /tmp/imagenet-1000/n02963159_cardigan.JPEG  \n",
            "  inflating: /tmp/imagenet-1000/n02965783_car_mirror.JPEG  \n",
            "  inflating: /tmp/imagenet-1000/n02966193_carousel.JPEG  \n",
            "  inflating: /tmp/imagenet-1000/n02966687_carpenter's_kit.JPEG  \n",
            "  inflating: /tmp/imagenet-1000/n02971356_carton.JPEG  \n",
            "  inflating: /tmp/imagenet-1000/n02974003_car_wheel.JPEG  \n",
            "  inflating: /tmp/imagenet-1000/n02977058_cash_machine.JPEG  \n",
            "  inflating: /tmp/imagenet-1000/n02978881_cassette.JPEG  \n",
            "  inflating: /tmp/imagenet-1000/n02979186_cassette_player.JPEG  \n",
            "  inflating: /tmp/imagenet-1000/n02980441_castle.JPEG  \n",
            "  inflating: /tmp/imagenet-1000/n02981792_catamaran.JPEG  \n",
            "  inflating: /tmp/imagenet-1000/n02988304_CD_player.JPEG  \n",
            "  inflating: /tmp/imagenet-1000/n02992211_cello.JPEG  \n",
            "  inflating: /tmp/imagenet-1000/n02992529_cellular_telephone.JPEG  \n",
            "  inflating: /tmp/imagenet-1000/n02999410_chain.JPEG  \n",
            "  inflating: /tmp/imagenet-1000/n03000134_chainlink_fence.JPEG  \n",
            "  inflating: /tmp/imagenet-1000/n03000247_chain_mail.JPEG  \n",
            "  inflating: /tmp/imagenet-1000/n03000684_chain_saw.JPEG  \n",
            "  inflating: /tmp/imagenet-1000/n03014705_chest.JPEG  \n",
            "  inflating: /tmp/imagenet-1000/n03016953_chiffonier.JPEG  \n",
            "  inflating: /tmp/imagenet-1000/n03017168_chime.JPEG  \n",
            "  inflating: /tmp/imagenet-1000/n03018349_china_cabinet.JPEG  \n",
            "  inflating: /tmp/imagenet-1000/n03026506_Christmas_stocking.JPEG  \n",
            "  inflating: /tmp/imagenet-1000/n03028079_church.JPEG  \n",
            "  inflating: /tmp/imagenet-1000/n03032252_cinema.JPEG  \n",
            "  inflating: /tmp/imagenet-1000/n03041632_cleaver.JPEG  \n",
            "  inflating: /tmp/imagenet-1000/n03042490_cliff_dwelling.JPEG  \n",
            "  inflating: /tmp/imagenet-1000/n03045698_cloak.JPEG  \n",
            "  inflating: /tmp/imagenet-1000/n03047690_clog.JPEG  \n",
            "  inflating: /tmp/imagenet-1000/n03062245_cocktail_shaker.JPEG  \n",
            "  inflating: /tmp/imagenet-1000/n03063599_coffee_mug.JPEG  \n",
            "  inflating: /tmp/imagenet-1000/n03063689_coffeepot.JPEG  \n",
            "  inflating: /tmp/imagenet-1000/n03065424_coil.JPEG  \n",
            "  inflating: /tmp/imagenet-1000/n03075370_combination_lock.JPEG  \n",
            "  inflating: /tmp/imagenet-1000/n03085013_computer_keyboard.JPEG  \n",
            "  inflating: /tmp/imagenet-1000/n03089624_confectionery.JPEG  \n",
            "  inflating: /tmp/imagenet-1000/n03095699_container_ship.JPEG  \n",
            "  inflating: /tmp/imagenet-1000/n03100240_convertible.JPEG  \n",
            "  inflating: /tmp/imagenet-1000/n03109150_corkscrew.JPEG  \n",
            "  inflating: /tmp/imagenet-1000/n03110669_cornet.JPEG  \n",
            "  inflating: /tmp/imagenet-1000/n03124043_cowboy_boot.JPEG  \n",
            "  inflating: /tmp/imagenet-1000/n03124170_cowboy_hat.JPEG  \n",
            "  inflating: /tmp/imagenet-1000/n03125729_cradle.JPEG  \n",
            "  inflating: /tmp/imagenet-1000/n03126707_crane.JPEG  \n",
            "  inflating: /tmp/imagenet-1000/n03127747_crash_helmet.JPEG  \n",
            "  inflating: /tmp/imagenet-1000/n03127925_crate.JPEG  \n",
            "  inflating: /tmp/imagenet-1000/n03131574_crib.JPEG  \n",
            "  inflating: /tmp/imagenet-1000/n03133878_Crock_Pot.JPEG  \n",
            "  inflating: /tmp/imagenet-1000/n03134739_croquet_ball.JPEG  \n",
            "  inflating: /tmp/imagenet-1000/n03141823_crutch.JPEG  \n",
            "  inflating: /tmp/imagenet-1000/n03146219_cuirass.JPEG  \n",
            "  inflating: /tmp/imagenet-1000/n03160309_dam.JPEG  \n",
            "  inflating: /tmp/imagenet-1000/n03179701_desk.JPEG  \n",
            "  inflating: /tmp/imagenet-1000/n03180011_desktop_computer.JPEG  \n",
            "  inflating: /tmp/imagenet-1000/n03187595_dial_telephone.JPEG  \n",
            "  inflating: /tmp/imagenet-1000/n03188531_diaper.JPEG  \n",
            "  inflating: /tmp/imagenet-1000/n03196217_digital_clock.JPEG  \n",
            "  inflating: /tmp/imagenet-1000/n03197337_digital_watch.JPEG  \n",
            "  inflating: /tmp/imagenet-1000/n03201208_dining_table.JPEG  \n",
            "  inflating: /tmp/imagenet-1000/n03207743_dishrag.JPEG  \n",
            "  inflating: /tmp/imagenet-1000/n03207941_dishwasher.JPEG  \n",
            "  inflating: /tmp/imagenet-1000/n03208938_disk_brake.JPEG  \n",
            "  inflating: /tmp/imagenet-1000/n03216828_dock.JPEG  \n",
            "  inflating: /tmp/imagenet-1000/n03218198_dogsled.JPEG  \n",
            "  inflating: /tmp/imagenet-1000/n03220513_dome.JPEG  \n",
            "  inflating: /tmp/imagenet-1000/n03223299_doormat.JPEG  \n",
            "  inflating: /tmp/imagenet-1000/n03240683_drilling_platform.JPEG  \n",
            "  inflating: /tmp/imagenet-1000/n03249569_drum.JPEG  \n",
            "  inflating: /tmp/imagenet-1000/n03250847_drumstick.JPEG  \n",
            "  inflating: /tmp/imagenet-1000/n03255030_dumbbell.JPEG  \n",
            "  inflating: /tmp/imagenet-1000/n03259280_Dutch_oven.JPEG  \n",
            "  inflating: /tmp/imagenet-1000/n03271574_electric_fan.JPEG  \n",
            "  inflating: /tmp/imagenet-1000/n03272010_electric_guitar.JPEG  \n",
            "  inflating: /tmp/imagenet-1000/n03272562_electric_locomotive.JPEG  \n",
            "  inflating: /tmp/imagenet-1000/n03290653_entertainment_center.JPEG  \n",
            "  inflating: /tmp/imagenet-1000/n03291819_envelope.JPEG  \n",
            "  inflating: /tmp/imagenet-1000/n03297495_espresso_maker.JPEG  \n",
            "  inflating: /tmp/imagenet-1000/n03314780_face_powder.JPEG  \n",
            "  inflating: /tmp/imagenet-1000/n03325584_feather_boa.JPEG  \n",
            "  inflating: /tmp/imagenet-1000/n03337140_file.JPEG  \n",
            "  inflating: /tmp/imagenet-1000/n03344393_fireboat.JPEG  \n",
            "  inflating: /tmp/imagenet-1000/n03345487_fire_engine.JPEG  \n",
            "  inflating: /tmp/imagenet-1000/n03347037_fire_screen.JPEG  \n",
            "  inflating: /tmp/imagenet-1000/n03355925_flagpole.JPEG  \n",
            "  inflating: /tmp/imagenet-1000/n03372029_flute.JPEG  \n",
            "  inflating: /tmp/imagenet-1000/n03376595_folding_chair.JPEG  \n",
            "  inflating: /tmp/imagenet-1000/n03379051_football_helmet.JPEG  \n",
            "  inflating: /tmp/imagenet-1000/n03384352_forklift.JPEG  \n",
            "  inflating: /tmp/imagenet-1000/n03388043_fountain.JPEG  \n",
            "  inflating: /tmp/imagenet-1000/n03388183_fountain_pen.JPEG  \n",
            "  inflating: /tmp/imagenet-1000/n03388549_four-poster.JPEG  \n",
            "  inflating: /tmp/imagenet-1000/n03393912_freight_car.JPEG  \n",
            "  inflating: /tmp/imagenet-1000/n03394916_French_horn.JPEG  \n",
            "  inflating: /tmp/imagenet-1000/n03400231_frying_pan.JPEG  \n",
            "  inflating: /tmp/imagenet-1000/n03404251_fur_coat.JPEG  \n",
            "  inflating: /tmp/imagenet-1000/n03417042_garbage_truck.JPEG  \n",
            "  inflating: /tmp/imagenet-1000/n03424325_gasmask.JPEG  \n",
            "  inflating: /tmp/imagenet-1000/n03425413_gas_pump.JPEG  \n",
            "  inflating: /tmp/imagenet-1000/n03443371_goblet.JPEG  \n",
            "  inflating: /tmp/imagenet-1000/n03444034_go-kart.JPEG  \n",
            "  inflating: /tmp/imagenet-1000/n03445777_golf_ball.JPEG  \n",
            "  inflating: /tmp/imagenet-1000/n03445924_golfcart.JPEG  \n",
            "  inflating: /tmp/imagenet-1000/n03447447_gondola.JPEG  \n",
            "  inflating: /tmp/imagenet-1000/n03447721_gong.JPEG  \n",
            "  inflating: /tmp/imagenet-1000/n03450230_gown.JPEG  \n",
            "  inflating: /tmp/imagenet-1000/n03452741_grand_piano.JPEG  \n",
            "  inflating: /tmp/imagenet-1000/n03457902_greenhouse.JPEG  \n",
            "  inflating: /tmp/imagenet-1000/n03459775_grille.JPEG  \n",
            "  inflating: /tmp/imagenet-1000/n03461385_grocery_store.JPEG  \n",
            "  inflating: /tmp/imagenet-1000/n03467068_guillotine.JPEG  \n",
            "  inflating: /tmp/imagenet-1000/n03476684_hair_slide.JPEG  \n",
            "  inflating: /tmp/imagenet-1000/n03476991_hair_spray.JPEG  \n",
            "  inflating: /tmp/imagenet-1000/n03478589_half_track.JPEG  \n",
            "  inflating: /tmp/imagenet-1000/n03481172_hammer.JPEG  \n",
            "  inflating: /tmp/imagenet-1000/n03482405_hamper.JPEG  \n",
            "  inflating: /tmp/imagenet-1000/n03483316_hand_blower.JPEG  \n",
            "  inflating: /tmp/imagenet-1000/n03485407_hand-held_computer.JPEG  \n",
            "  inflating: /tmp/imagenet-1000/n03485794_handkerchief.JPEG  \n",
            "  inflating: /tmp/imagenet-1000/n03492542_hard_disc.JPEG  \n",
            "  inflating: /tmp/imagenet-1000/n03494278_harmonica.JPEG  \n",
            "  inflating: /tmp/imagenet-1000/n03495258_harp.JPEG  \n",
            "  inflating: /tmp/imagenet-1000/n03496892_harvester.JPEG  \n",
            "  inflating: /tmp/imagenet-1000/n03498962_hatchet.JPEG  \n",
            "  inflating: /tmp/imagenet-1000/n03527444_holster.JPEG  \n",
            "  inflating: /tmp/imagenet-1000/n03529860_home_theater.JPEG  \n",
            "  inflating: /tmp/imagenet-1000/n03530642_honeycomb.JPEG  \n",
            "  inflating: /tmp/imagenet-1000/n03532672_hook.JPEG  \n",
            "  inflating: /tmp/imagenet-1000/n03534580_hoopskirt.JPEG  \n",
            "  inflating: /tmp/imagenet-1000/n03535780_horizontal_bar.JPEG  \n",
            "  inflating: /tmp/imagenet-1000/n03538406_horse_cart.JPEG  \n",
            "  inflating: /tmp/imagenet-1000/n03544143_hourglass.JPEG  \n",
            "  inflating: /tmp/imagenet-1000/n03584254_iPod.JPEG  \n",
            "  inflating: /tmp/imagenet-1000/n03584829_iron.JPEG  \n",
            "  inflating: /tmp/imagenet-1000/n03590841_jack-o'-lantern.JPEG  \n",
            "  inflating: /tmp/imagenet-1000/n03594734_jean.JPEG  \n",
            "  inflating: /tmp/imagenet-1000/n03594945_jeep.JPEG  \n",
            "  inflating: /tmp/imagenet-1000/n03595614_jersey.JPEG  \n",
            "  inflating: /tmp/imagenet-1000/n03598930_jigsaw_puzzle.JPEG  \n",
            "  inflating: /tmp/imagenet-1000/n03599486_jinrikisha.JPEG  \n",
            "  inflating: /tmp/imagenet-1000/n03602883_joystick.JPEG  \n",
            "  inflating: /tmp/imagenet-1000/n03617480_kimono.JPEG  \n",
            "  inflating: /tmp/imagenet-1000/n03623198_knee_pad.JPEG  \n",
            "  inflating: /tmp/imagenet-1000/n03627232_knot.JPEG  \n",
            "  inflating: /tmp/imagenet-1000/n03630383_lab_coat.JPEG  \n",
            "  inflating: /tmp/imagenet-1000/n03633091_ladle.JPEG  \n",
            "  inflating: /tmp/imagenet-1000/n03637318_lampshade.JPEG  \n",
            "  inflating: /tmp/imagenet-1000/n03642806_laptop.JPEG  \n",
            "  inflating: /tmp/imagenet-1000/n03649909_lawn_mower.JPEG  \n",
            "  inflating: /tmp/imagenet-1000/n03657121_lens_cap.JPEG  \n",
            "  inflating: /tmp/imagenet-1000/n03658185_letter_opener.JPEG  \n",
            "  inflating: /tmp/imagenet-1000/n03661043_library.JPEG  \n",
            "  inflating: /tmp/imagenet-1000/n03662601_lifeboat.JPEG  \n",
            "  inflating: /tmp/imagenet-1000/n03666591_lighter.JPEG  \n",
            "  inflating: /tmp/imagenet-1000/n03670208_limousine.JPEG  \n",
            "  inflating: /tmp/imagenet-1000/n03673027_liner.JPEG  \n",
            "  inflating: /tmp/imagenet-1000/n03676483_lipstick.JPEG  \n",
            "  inflating: /tmp/imagenet-1000/n03680355_Loafer.JPEG  \n",
            "  inflating: /tmp/imagenet-1000/n03690938_lotion.JPEG  \n",
            "  inflating: /tmp/imagenet-1000/n03691459_loudspeaker.JPEG  \n",
            "  inflating: /tmp/imagenet-1000/n03692522_loupe.JPEG  \n",
            "  inflating: /tmp/imagenet-1000/n03697007_lumbermill.JPEG  \n",
            "  inflating: /tmp/imagenet-1000/n03706229_magnetic_compass.JPEG  \n",
            "  inflating: /tmp/imagenet-1000/n03709823_mailbag.JPEG  \n",
            "  inflating: /tmp/imagenet-1000/n03710193_mailbox.JPEG  \n",
            "  inflating: /tmp/imagenet-1000/n03710637_maillot.JPEG  \n",
            "  inflating: /tmp/imagenet-1000/n03710721_maillot.JPEG  \n",
            "  inflating: /tmp/imagenet-1000/n03717622_manhole_cover.JPEG  \n",
            "  inflating: /tmp/imagenet-1000/n03720891_maraca.JPEG  \n",
            "  inflating: /tmp/imagenet-1000/n03721384_marimba.JPEG  \n",
            "  inflating: /tmp/imagenet-1000/n03724870_mask.JPEG  \n",
            "  inflating: /tmp/imagenet-1000/n03729826_matchstick.JPEG  \n",
            "  inflating: /tmp/imagenet-1000/n03733131_maypole.JPEG  \n",
            "  inflating: /tmp/imagenet-1000/n03733281_maze.JPEG  \n",
            "  inflating: /tmp/imagenet-1000/n03733805_measuring_cup.JPEG  \n",
            "  inflating: /tmp/imagenet-1000/n03742115_medicine_chest.JPEG  \n",
            "  inflating: /tmp/imagenet-1000/n03743016_megalith.JPEG  \n",
            "  inflating: /tmp/imagenet-1000/n03759954_microphone.JPEG  \n",
            "  inflating: /tmp/imagenet-1000/n03761084_microwave.JPEG  \n",
            "  inflating: /tmp/imagenet-1000/n03763968_military_uniform.JPEG  \n",
            "  inflating: /tmp/imagenet-1000/n03764736_milk_can.JPEG  \n",
            "  inflating: /tmp/imagenet-1000/n03769881_minibus.JPEG  \n",
            "  inflating: /tmp/imagenet-1000/n03770439_miniskirt.JPEG  \n",
            "  inflating: /tmp/imagenet-1000/n03770679_minivan.JPEG  \n",
            "  inflating: /tmp/imagenet-1000/n03773504_missile.JPEG  \n",
            "  inflating: /tmp/imagenet-1000/n03775071_mitten.JPEG  \n",
            "  inflating: /tmp/imagenet-1000/n03775546_mixing_bowl.JPEG  \n",
            "  inflating: /tmp/imagenet-1000/n03776460_mobile_home.JPEG  \n",
            "  inflating: /tmp/imagenet-1000/n03777568_Model_T.JPEG  \n",
            "  inflating: /tmp/imagenet-1000/n03777754_modem.JPEG  \n",
            "  inflating: /tmp/imagenet-1000/n03781244_monastery.JPEG  \n",
            "  inflating: /tmp/imagenet-1000/n03782006_monitor.JPEG  \n",
            "  inflating: /tmp/imagenet-1000/n03785016_moped.JPEG  \n",
            "  inflating: /tmp/imagenet-1000/n03786901_mortar.JPEG  \n",
            "  inflating: /tmp/imagenet-1000/n03787032_mortarboard.JPEG  \n",
            "  inflating: /tmp/imagenet-1000/n03788195_mosque.JPEG  \n",
            "  inflating: /tmp/imagenet-1000/n03788365_mosquito_net.JPEG  \n",
            "  inflating: /tmp/imagenet-1000/n03791053_motor_scooter.JPEG  \n",
            "  inflating: /tmp/imagenet-1000/n03792782_mountain_bike.JPEG  \n",
            "  inflating: /tmp/imagenet-1000/n03792972_mountain_tent.JPEG  \n",
            "  inflating: /tmp/imagenet-1000/n03793489_mouse.JPEG  \n",
            "  inflating: /tmp/imagenet-1000/n03794056_mousetrap.JPEG  \n",
            "  inflating: /tmp/imagenet-1000/n03796401_moving_van.JPEG  \n",
            "  inflating: /tmp/imagenet-1000/n03803284_muzzle.JPEG  \n",
            "  inflating: /tmp/imagenet-1000/n03804744_nail.JPEG  \n",
            "  inflating: /tmp/imagenet-1000/n03814639_neck_brace.JPEG  \n",
            "  inflating: /tmp/imagenet-1000/n03814906_necklace.JPEG  \n",
            "  inflating: /tmp/imagenet-1000/n03825788_nipple.JPEG  \n",
            "  inflating: /tmp/imagenet-1000/n03832673_notebook.JPEG  \n",
            "  inflating: /tmp/imagenet-1000/n03837869_obelisk.JPEG  \n",
            "  inflating: /tmp/imagenet-1000/n03838899_oboe.JPEG  \n",
            "  inflating: /tmp/imagenet-1000/n03840681_ocarina.JPEG  \n",
            "  inflating: /tmp/imagenet-1000/n03841143_odometer.JPEG  \n",
            "  inflating: /tmp/imagenet-1000/n03843555_oil_filter.JPEG  \n",
            "  inflating: /tmp/imagenet-1000/n03854065_organ.JPEG  \n",
            "  inflating: /tmp/imagenet-1000/n03857828_oscilloscope.JPEG  \n",
            "  inflating: /tmp/imagenet-1000/n03866082_overskirt.JPEG  \n",
            "  inflating: /tmp/imagenet-1000/n03868242_oxcart.JPEG  \n",
            "  inflating: /tmp/imagenet-1000/n03868863_oxygen_mask.JPEG  \n",
            "  inflating: /tmp/imagenet-1000/n03871628_packet.JPEG  \n",
            "  inflating: /tmp/imagenet-1000/n03873416_paddle.JPEG  \n",
            "  inflating: /tmp/imagenet-1000/n03874293_paddlewheel.JPEG  \n",
            "  inflating: /tmp/imagenet-1000/n03874599_padlock.JPEG  \n",
            "  inflating: /tmp/imagenet-1000/n03876231_paintbrush.JPEG  \n",
            "  inflating: /tmp/imagenet-1000/n03877472_pajama.JPEG  \n",
            "  inflating: /tmp/imagenet-1000/n03877845_palace.JPEG  \n",
            "  inflating: /tmp/imagenet-1000/n03884397_panpipe.JPEG  \n",
            "  inflating: /tmp/imagenet-1000/n03887697_paper_towel.JPEG  \n",
            "  inflating: /tmp/imagenet-1000/n03888257_parachute.JPEG  \n",
            "  inflating: /tmp/imagenet-1000/n03888605_parallel_bars.JPEG  \n",
            "  inflating: /tmp/imagenet-1000/n03891251_park_bench.JPEG  \n",
            "  inflating: /tmp/imagenet-1000/n03891332_parking_meter.JPEG  \n",
            "  inflating: /tmp/imagenet-1000/n03895866_passenger_car.JPEG  \n",
            "  inflating: /tmp/imagenet-1000/n03899768_patio.JPEG  \n",
            "  inflating: /tmp/imagenet-1000/n03902125_pay-phone.JPEG  \n",
            "  inflating: /tmp/imagenet-1000/n03903868_pedestal.JPEG  \n",
            "  inflating: /tmp/imagenet-1000/n03908618_pencil_box.JPEG  \n",
            "  inflating: /tmp/imagenet-1000/n03908714_pencil_sharpener.JPEG  \n",
            "  inflating: /tmp/imagenet-1000/n03916031_perfume.JPEG  \n",
            "  inflating: /tmp/imagenet-1000/n03920288_Petri_dish.JPEG  \n",
            "  inflating: /tmp/imagenet-1000/n03924679_photocopier.JPEG  \n",
            "  inflating: /tmp/imagenet-1000/n03929660_pick.JPEG  \n",
            "  inflating: /tmp/imagenet-1000/n03929855_pickelhaube.JPEG  \n",
            "  inflating: /tmp/imagenet-1000/n03930313_picket_fence.JPEG  \n",
            "  inflating: /tmp/imagenet-1000/n03930630_pickup.JPEG  \n",
            "  inflating: /tmp/imagenet-1000/n03933933_pier.JPEG  \n",
            "  inflating: /tmp/imagenet-1000/n03935335_piggy_bank.JPEG  \n",
            "  inflating: /tmp/imagenet-1000/n03937543_pill_bottle.JPEG  \n",
            "  inflating: /tmp/imagenet-1000/n03938244_pillow.JPEG  \n",
            "  inflating: /tmp/imagenet-1000/n03942813_ping-pong_ball.JPEG  \n",
            "  inflating: /tmp/imagenet-1000/n03944341_pinwheel.JPEG  \n",
            "  inflating: /tmp/imagenet-1000/n03947888_pirate.JPEG  \n",
            "  inflating: /tmp/imagenet-1000/n03950228_pitcher.JPEG  \n",
            "  inflating: /tmp/imagenet-1000/n03954731_plane.JPEG  \n",
            "  inflating: /tmp/imagenet-1000/n03956157_planetarium.JPEG  \n",
            "  inflating: /tmp/imagenet-1000/n03958227_plastic_bag.JPEG  \n",
            "  inflating: /tmp/imagenet-1000/n03961711_plate_rack.JPEG  \n",
            "  inflating: /tmp/imagenet-1000/n03967562_plow.JPEG  \n",
            "  inflating: /tmp/imagenet-1000/n03970156_plunger.JPEG  \n",
            "  inflating: /tmp/imagenet-1000/n03976467_Polaroid_camera.JPEG  \n",
            "  inflating: /tmp/imagenet-1000/n03976657_pole.JPEG  \n",
            "  inflating: /tmp/imagenet-1000/n03977966_police_van.JPEG  \n",
            "  inflating: /tmp/imagenet-1000/n03980874_poncho.JPEG  \n",
            "  inflating: /tmp/imagenet-1000/n03982430_pool_table.JPEG  \n",
            "  inflating: /tmp/imagenet-1000/n03983396_pop_bottle.JPEG  \n",
            "  inflating: /tmp/imagenet-1000/n03991062_pot.JPEG  \n",
            "  inflating: /tmp/imagenet-1000/n03992509_potter's_wheel.JPEG  \n",
            "  inflating: /tmp/imagenet-1000/n03995372_power_drill.JPEG  \n",
            "  inflating: /tmp/imagenet-1000/n03998194_prayer_rug.JPEG  \n",
            "  inflating: /tmp/imagenet-1000/n04004767_printer.JPEG  \n",
            "  inflating: /tmp/imagenet-1000/n04005630_prison.JPEG  \n",
            "  inflating: /tmp/imagenet-1000/n04008634_projectile.JPEG  \n",
            "  inflating: /tmp/imagenet-1000/n04009552_projector.JPEG  \n",
            "  inflating: /tmp/imagenet-1000/n04019541_puck.JPEG  \n",
            "  inflating: /tmp/imagenet-1000/n04023962_punching_bag.JPEG  \n",
            "  inflating: /tmp/imagenet-1000/n04026417_purse.JPEG  \n",
            "  inflating: /tmp/imagenet-1000/n04033901_quill.JPEG  \n",
            "  inflating: /tmp/imagenet-1000/n04033995_quilt.JPEG  \n",
            "  inflating: /tmp/imagenet-1000/n04037443_racer.JPEG  \n",
            "  inflating: /tmp/imagenet-1000/n04039381_racket.JPEG  \n",
            "  inflating: /tmp/imagenet-1000/n04040759_radiator.JPEG  \n",
            "  inflating: /tmp/imagenet-1000/n04041544_radio.JPEG  \n",
            "  inflating: /tmp/imagenet-1000/n04044716_radio_telescope.JPEG  \n",
            "  inflating: /tmp/imagenet-1000/n04049303_rain_barrel.JPEG  \n",
            "  inflating: /tmp/imagenet-1000/n04065272_recreational_vehicle.JPEG  \n",
            "  inflating: /tmp/imagenet-1000/n04067472_reel.JPEG  \n",
            "  inflating: /tmp/imagenet-1000/n04069434_reflex_camera.JPEG  \n",
            "  inflating: /tmp/imagenet-1000/n04070727_refrigerator.JPEG  \n",
            "  inflating: /tmp/imagenet-1000/n04074963_remote_control.JPEG  \n",
            "  inflating: /tmp/imagenet-1000/n04081281_restaurant.JPEG  \n",
            "  inflating: /tmp/imagenet-1000/n04086273_revolver.JPEG  \n",
            "  inflating: /tmp/imagenet-1000/n04090263_rifle.JPEG  \n",
            "  inflating: /tmp/imagenet-1000/n04099969_rocking_chair.JPEG  \n",
            "  inflating: /tmp/imagenet-1000/n04111531_rotisserie.JPEG  \n",
            "  inflating: /tmp/imagenet-1000/n04116512_rubber_eraser.JPEG  \n",
            "  inflating: /tmp/imagenet-1000/n04118538_rugby_ball.JPEG  \n",
            "  inflating: /tmp/imagenet-1000/n04118776_rule.JPEG  \n",
            "  inflating: /tmp/imagenet-1000/n04120489_running_shoe.JPEG  \n",
            "  inflating: /tmp/imagenet-1000/n04125021_safe.JPEG  \n",
            "  inflating: /tmp/imagenet-1000/n04127249_safety_pin.JPEG  \n",
            "  inflating: /tmp/imagenet-1000/n04131690_saltshaker.JPEG  \n",
            "  inflating: /tmp/imagenet-1000/n04133789_sandal.JPEG  \n",
            "  inflating: /tmp/imagenet-1000/n04136333_sarong.JPEG  \n",
            "  inflating: /tmp/imagenet-1000/n04141076_sax.JPEG  \n",
            "  inflating: /tmp/imagenet-1000/n04141327_scabbard.JPEG  \n",
            "  inflating: /tmp/imagenet-1000/n04141975_scale.JPEG  \n",
            "  inflating: /tmp/imagenet-1000/n04146614_school_bus.JPEG  \n",
            "  inflating: /tmp/imagenet-1000/n04147183_schooner.JPEG  \n",
            "  inflating: /tmp/imagenet-1000/n04149813_scoreboard.JPEG  \n",
            "  inflating: /tmp/imagenet-1000/n04152593_screen.JPEG  \n",
            "  inflating: /tmp/imagenet-1000/n04153751_screw.JPEG  \n",
            "  inflating: /tmp/imagenet-1000/n04154565_screwdriver.JPEG  \n",
            "  inflating: /tmp/imagenet-1000/n04162706_seat_belt.JPEG  \n",
            "  inflating: /tmp/imagenet-1000/n04179913_sewing_machine.JPEG  \n",
            "  inflating: /tmp/imagenet-1000/n04192698_shield.JPEG  \n",
            "  inflating: /tmp/imagenet-1000/n04200800_shoe_shop.JPEG  \n",
            "  inflating: /tmp/imagenet-1000/n04201297_shoji.JPEG  \n",
            "  inflating: /tmp/imagenet-1000/n04204238_shopping_basket.JPEG  \n",
            "  inflating: /tmp/imagenet-1000/n04204347_shopping_cart.JPEG  \n",
            "  inflating: /tmp/imagenet-1000/n04208210_shovel.JPEG  \n",
            "  inflating: /tmp/imagenet-1000/n04209133_shower_cap.JPEG  \n",
            "  inflating: /tmp/imagenet-1000/n04209239_shower_curtain.JPEG  \n",
            "  inflating: /tmp/imagenet-1000/n04228054_ski.JPEG  \n",
            "  inflating: /tmp/imagenet-1000/n04229816_ski_mask.JPEG  \n",
            "  inflating: /tmp/imagenet-1000/n04235860_sleeping_bag.JPEG  \n",
            "  inflating: /tmp/imagenet-1000/n04238763_slide_rule.JPEG  \n",
            "  inflating: /tmp/imagenet-1000/n04239074_sliding_door.JPEG  \n",
            "  inflating: /tmp/imagenet-1000/n04243546_slot.JPEG  \n",
            "  inflating: /tmp/imagenet-1000/n04251144_snorkel.JPEG  \n",
            "  inflating: /tmp/imagenet-1000/n04252077_snowmobile.JPEG  \n",
            "  inflating: /tmp/imagenet-1000/n04252225_snowplow.JPEG  \n",
            "  inflating: /tmp/imagenet-1000/n04254120_soap_dispenser.JPEG  \n",
            "  inflating: /tmp/imagenet-1000/n04254680_soccer_ball.JPEG  \n",
            "  inflating: /tmp/imagenet-1000/n04254777_sock.JPEG  \n",
            "  inflating: /tmp/imagenet-1000/n04258138_solar_dish.JPEG  \n",
            "  inflating: /tmp/imagenet-1000/n04259630_sombrero.JPEG  \n",
            "  inflating: /tmp/imagenet-1000/n04263257_soup_bowl.JPEG  \n",
            "  inflating: /tmp/imagenet-1000/n04264628_space_bar.JPEG  \n",
            "  inflating: /tmp/imagenet-1000/n04265275_space_heater.JPEG  \n",
            "  inflating: /tmp/imagenet-1000/n04266014_space_shuttle.JPEG  \n",
            "  inflating: /tmp/imagenet-1000/n04270147_spatula.JPEG  \n",
            "  inflating: /tmp/imagenet-1000/n04273569_speedboat.JPEG  \n",
            "  inflating: /tmp/imagenet-1000/n04275548_spider_web.JPEG  \n",
            "  inflating: /tmp/imagenet-1000/n04277352_spindle.JPEG  \n",
            "  inflating: /tmp/imagenet-1000/n04285008_sports_car.JPEG  \n",
            "  inflating: /tmp/imagenet-1000/n04286575_spotlight.JPEG  \n",
            "  inflating: /tmp/imagenet-1000/n04296562_stage.JPEG  \n",
            "  inflating: /tmp/imagenet-1000/n04310018_steam_locomotive.JPEG  \n",
            "  inflating: /tmp/imagenet-1000/n04311004_steel_arch_bridge.JPEG  \n",
            "  inflating: /tmp/imagenet-1000/n04311174_steel_drum.JPEG  \n",
            "  inflating: /tmp/imagenet-1000/n04317175_stethoscope.JPEG  \n",
            "  inflating: /tmp/imagenet-1000/n04325704_stole.JPEG  \n",
            "  inflating: /tmp/imagenet-1000/n04326547_stone_wall.JPEG  \n",
            "  inflating: /tmp/imagenet-1000/n04328186_stopwatch.JPEG  \n",
            "  inflating: /tmp/imagenet-1000/n04330267_stove.JPEG  \n",
            "  inflating: /tmp/imagenet-1000/n04332243_strainer.JPEG  \n",
            "  inflating: /tmp/imagenet-1000/n04335435_streetcar.JPEG  \n",
            "  inflating: /tmp/imagenet-1000/n04336792_stretcher.JPEG  \n",
            "  inflating: /tmp/imagenet-1000/n04344873_studio_couch.JPEG  \n",
            "  inflating: /tmp/imagenet-1000/n04346328_stupa.JPEG  \n",
            "  inflating: /tmp/imagenet-1000/n04347754_submarine.JPEG  \n",
            "  inflating: /tmp/imagenet-1000/n04350905_suit.JPEG  \n",
            "  inflating: /tmp/imagenet-1000/n04355338_sundial.JPEG  \n",
            "  inflating: /tmp/imagenet-1000/n04355933_sunglass.JPEG  \n",
            "  inflating: /tmp/imagenet-1000/n04356056_sunglasses.JPEG  \n",
            "  inflating: /tmp/imagenet-1000/n04357314_sunscreen.JPEG  \n",
            "  inflating: /tmp/imagenet-1000/n04366367_suspension_bridge.JPEG  \n",
            "  inflating: /tmp/imagenet-1000/n04367480_swab.JPEG  \n",
            "  inflating: /tmp/imagenet-1000/n04370456_sweatshirt.JPEG  \n",
            "  inflating: /tmp/imagenet-1000/n04371430_swimming_trunks.JPEG  \n",
            "  inflating: /tmp/imagenet-1000/n04371774_swing.JPEG  \n",
            "  inflating: /tmp/imagenet-1000/n04372370_switch.JPEG  \n",
            "  inflating: /tmp/imagenet-1000/n04376876_syringe.JPEG  \n",
            "  inflating: /tmp/imagenet-1000/n04380533_table_lamp.JPEG  \n",
            "  inflating: /tmp/imagenet-1000/n04389033_tank.JPEG  \n",
            "  inflating: /tmp/imagenet-1000/n04392985_tape_player.JPEG  \n",
            "  inflating: /tmp/imagenet-1000/n04398044_teapot.JPEG  \n",
            "  inflating: /tmp/imagenet-1000/n04399382_teddy.JPEG  \n",
            "  inflating: /tmp/imagenet-1000/n04404412_television.JPEG  \n",
            "  inflating: /tmp/imagenet-1000/n04409515_tennis_ball.JPEG  \n",
            "  inflating: /tmp/imagenet-1000/n04417672_thatch.JPEG  \n",
            "  inflating: /tmp/imagenet-1000/n04418357_theater_curtain.JPEG  \n",
            "  inflating: /tmp/imagenet-1000/n04423845_thimble.JPEG  \n",
            "  inflating: /tmp/imagenet-1000/n04428191_thresher.JPEG  \n",
            "  inflating: /tmp/imagenet-1000/n04429376_throne.JPEG  \n",
            "  inflating: /tmp/imagenet-1000/n04435653_tile_roof.JPEG  \n",
            "  inflating: /tmp/imagenet-1000/n04442312_toaster.JPEG  \n",
            "  inflating: /tmp/imagenet-1000/n04443257_tobacco_shop.JPEG  \n",
            "  inflating: /tmp/imagenet-1000/n04447861_toilet_seat.JPEG  \n",
            "  inflating: /tmp/imagenet-1000/n04456115_torch.JPEG  \n",
            "  inflating: /tmp/imagenet-1000/n04458633_totem_pole.JPEG  \n",
            "  inflating: /tmp/imagenet-1000/n04461696_tow_truck.JPEG  \n",
            "  inflating: /tmp/imagenet-1000/n04462240_toyshop.JPEG  \n",
            "  inflating: /tmp/imagenet-1000/n04465501_tractor.JPEG  \n",
            "  inflating: /tmp/imagenet-1000/n04467665_trailer_truck.JPEG  \n",
            "  inflating: /tmp/imagenet-1000/n04476259_tray.JPEG  \n",
            "  inflating: /tmp/imagenet-1000/n04479046_trench_coat.JPEG  \n",
            "  inflating: /tmp/imagenet-1000/n04482393_tricycle.JPEG  \n",
            "  inflating: /tmp/imagenet-1000/n04483307_trimaran.JPEG  \n",
            "  inflating: /tmp/imagenet-1000/n04485082_tripod.JPEG  \n",
            "  inflating: /tmp/imagenet-1000/n04486054_triumphal_arch.JPEG  \n",
            "  inflating: /tmp/imagenet-1000/n04487081_trolleybus.JPEG  \n",
            "  inflating: /tmp/imagenet-1000/n04487394_trombone.JPEG  \n",
            "  inflating: /tmp/imagenet-1000/n04493381_tub.JPEG  \n",
            "  inflating: /tmp/imagenet-1000/n04501370_turnstile.JPEG  \n",
            "  inflating: /tmp/imagenet-1000/n04505470_typewriter_keyboard.JPEG  \n",
            "  inflating: /tmp/imagenet-1000/n04507155_umbrella.JPEG  \n",
            "  inflating: /tmp/imagenet-1000/n04509417_unicycle.JPEG  \n",
            "  inflating: /tmp/imagenet-1000/n04515003_upright.JPEG  \n",
            "  inflating: /tmp/imagenet-1000/n04517823_vacuum.JPEG  \n",
            "  inflating: /tmp/imagenet-1000/n04522168_vase.JPEG  \n",
            "  inflating: /tmp/imagenet-1000/n04523525_vault.JPEG  \n",
            "  inflating: /tmp/imagenet-1000/n04525038_velvet.JPEG  \n",
            "  inflating: /tmp/imagenet-1000/n04525305_vending_machine.JPEG  \n",
            "  inflating: /tmp/imagenet-1000/n04532106_vestment.JPEG  \n",
            "  inflating: /tmp/imagenet-1000/n04532670_viaduct.JPEG  \n",
            "  inflating: /tmp/imagenet-1000/n04536866_violin.JPEG  \n",
            "  inflating: /tmp/imagenet-1000/n04540053_volleyball.JPEG  \n",
            "  inflating: /tmp/imagenet-1000/n04542943_waffle_iron.JPEG  \n",
            "  inflating: /tmp/imagenet-1000/n04548280_wall_clock.JPEG  \n",
            "  inflating: /tmp/imagenet-1000/n04548362_wallet.JPEG  \n",
            "  inflating: /tmp/imagenet-1000/n04550184_wardrobe.JPEG  \n",
            "  inflating: /tmp/imagenet-1000/n04552348_warplane.JPEG  \n",
            "  inflating: /tmp/imagenet-1000/n04553703_washbasin.JPEG  \n",
            "  inflating: /tmp/imagenet-1000/n04554684_washer.JPEG  \n",
            "  inflating: /tmp/imagenet-1000/n04557648_water_bottle.JPEG  \n",
            "  inflating: /tmp/imagenet-1000/n04560804_water_jug.JPEG  \n",
            "  inflating: /tmp/imagenet-1000/n04562935_water_tower.JPEG  \n",
            "  inflating: /tmp/imagenet-1000/n04579145_whiskey_jug.JPEG  \n",
            "  inflating: /tmp/imagenet-1000/n04579432_whistle.JPEG  \n",
            "  inflating: /tmp/imagenet-1000/n04584207_wig.JPEG  \n",
            "  inflating: /tmp/imagenet-1000/n04589890_window_screen.JPEG  \n",
            "  inflating: /tmp/imagenet-1000/n04590129_window_shade.JPEG  \n",
            "  inflating: /tmp/imagenet-1000/n04591157_Windsor_tie.JPEG  \n",
            "  inflating: /tmp/imagenet-1000/n04591713_wine_bottle.JPEG  \n",
            "  inflating: /tmp/imagenet-1000/n04592741_wing.JPEG  \n",
            "  inflating: /tmp/imagenet-1000/n04596742_wok.JPEG  \n",
            "  inflating: /tmp/imagenet-1000/n04597913_wooden_spoon.JPEG  \n",
            "  inflating: /tmp/imagenet-1000/n04599235_wool.JPEG  \n",
            "  inflating: /tmp/imagenet-1000/n04604644_worm_fence.JPEG  \n",
            "  inflating: /tmp/imagenet-1000/n04606251_wreck.JPEG  \n",
            "  inflating: /tmp/imagenet-1000/n04612504_yawl.JPEG  \n",
            "  inflating: /tmp/imagenet-1000/n04613696_yurt.JPEG  \n",
            "  inflating: /tmp/imagenet-1000/n06359193_web_site.JPEG  \n",
            "  inflating: /tmp/imagenet-1000/n06596364_comic_book.JPEG  \n",
            "  inflating: /tmp/imagenet-1000/n06785654_crossword_puzzle.JPEG  \n",
            "  inflating: /tmp/imagenet-1000/n06794110_street_sign.JPEG  \n",
            "  inflating: /tmp/imagenet-1000/n06874185_traffic_light.JPEG  \n",
            "  inflating: /tmp/imagenet-1000/n07248320_book_jacket.JPEG  \n",
            "  inflating: /tmp/imagenet-1000/n07565083_menu.JPEG  \n",
            "  inflating: /tmp/imagenet-1000/n07579787_plate.JPEG  \n",
            "  inflating: /tmp/imagenet-1000/n07583066_guacamole.JPEG  \n",
            "  inflating: /tmp/imagenet-1000/n07584110_consomme.JPEG  \n",
            "  inflating: /tmp/imagenet-1000/n07590611_hot_pot.JPEG  \n",
            "  inflating: /tmp/imagenet-1000/n07613480_trifle.JPEG  \n",
            "  inflating: /tmp/imagenet-1000/n07614500_ice_cream.JPEG  \n",
            "  inflating: /tmp/imagenet-1000/n07615774_ice_lolly.JPEG  \n",
            "  inflating: /tmp/imagenet-1000/n07684084_French_loaf.JPEG  \n",
            "  inflating: /tmp/imagenet-1000/n07693725_bagel.JPEG  \n",
            "  inflating: /tmp/imagenet-1000/n07695742_pretzel.JPEG  \n",
            "  inflating: /tmp/imagenet-1000/n07697313_cheeseburger.JPEG  \n",
            "  inflating: /tmp/imagenet-1000/n07697537_hotdog.JPEG  \n",
            "  inflating: /tmp/imagenet-1000/n07711569_mashed_potato.JPEG  \n",
            "  inflating: /tmp/imagenet-1000/n07714571_head_cabbage.JPEG  \n",
            "  inflating: /tmp/imagenet-1000/n07714990_broccoli.JPEG  \n",
            "  inflating: /tmp/imagenet-1000/n07715103_cauliflower.JPEG  \n",
            "  inflating: /tmp/imagenet-1000/n07716358_zucchini.JPEG  \n",
            "  inflating: /tmp/imagenet-1000/n07716906_spaghetti_squash.JPEG  \n",
            "  inflating: /tmp/imagenet-1000/n07717410_acorn_squash.JPEG  \n",
            "  inflating: /tmp/imagenet-1000/n07717556_butternut_squash.JPEG  \n",
            "  inflating: /tmp/imagenet-1000/n07718472_cucumber.JPEG  \n",
            "  inflating: /tmp/imagenet-1000/n07718747_artichoke.JPEG  \n",
            "  inflating: /tmp/imagenet-1000/n07720875_bell_pepper.JPEG  \n",
            "  inflating: /tmp/imagenet-1000/n07730033_cardoon.JPEG  \n",
            "  inflating: /tmp/imagenet-1000/n07734744_mushroom.JPEG  \n",
            "  inflating: /tmp/imagenet-1000/n07742313_Granny_Smith.JPEG  \n",
            "  inflating: /tmp/imagenet-1000/n07745940_strawberry.JPEG  \n",
            "  inflating: /tmp/imagenet-1000/n07747607_orange.JPEG  \n",
            "  inflating: /tmp/imagenet-1000/n07749582_lemon.JPEG  \n",
            "  inflating: /tmp/imagenet-1000/n07753113_fig.JPEG  \n",
            "  inflating: /tmp/imagenet-1000/n07753275_pineapple.JPEG  \n",
            "  inflating: /tmp/imagenet-1000/n07753592_banana.JPEG  \n",
            "  inflating: /tmp/imagenet-1000/n07754684_jackfruit.JPEG  \n",
            "  inflating: /tmp/imagenet-1000/n07760859_custard_apple.JPEG  \n",
            "  inflating: /tmp/imagenet-1000/n07768694_pomegranate.JPEG  \n",
            "  inflating: /tmp/imagenet-1000/n07802026_hay.JPEG  \n",
            "  inflating: /tmp/imagenet-1000/n07831146_carbonara.JPEG  \n",
            "  inflating: /tmp/imagenet-1000/n07836838_chocolate_sauce.JPEG  \n",
            "  inflating: /tmp/imagenet-1000/n07860988_dough.JPEG  \n",
            "  inflating: /tmp/imagenet-1000/n07871810_meat_loaf.JPEG  \n",
            "  inflating: /tmp/imagenet-1000/n07873807_pizza.JPEG  \n",
            "  inflating: /tmp/imagenet-1000/n07875152_potpie.JPEG  \n",
            "  inflating: /tmp/imagenet-1000/n07880968_burrito.JPEG  \n",
            "  inflating: /tmp/imagenet-1000/n07892512_red_wine.JPEG  \n",
            "  inflating: /tmp/imagenet-1000/n07920052_espresso.JPEG  \n",
            "  inflating: /tmp/imagenet-1000/n07930864_cup.JPEG  \n",
            "  inflating: /tmp/imagenet-1000/n07932039_eggnog.JPEG  \n",
            "  inflating: /tmp/imagenet-1000/n09193705_alp.JPEG  \n",
            "  inflating: /tmp/imagenet-1000/n09229709_bubble.JPEG  \n",
            "  inflating: /tmp/imagenet-1000/n09246464_cliff.JPEG  \n",
            "  inflating: /tmp/imagenet-1000/n09256479_coral_reef.JPEG  \n",
            "  inflating: /tmp/imagenet-1000/n09288635_geyser.JPEG  \n",
            "  inflating: /tmp/imagenet-1000/n09332890_lakeside.JPEG  \n",
            "  inflating: /tmp/imagenet-1000/n09399592_promontory.JPEG  \n",
            "  inflating: /tmp/imagenet-1000/n09421951_sandbar.JPEG  \n",
            "  inflating: /tmp/imagenet-1000/n09428293_seashore.JPEG  \n",
            "  inflating: /tmp/imagenet-1000/n09468604_valley.JPEG  \n",
            "  inflating: /tmp/imagenet-1000/n09472597_volcano.JPEG  \n",
            "  inflating: /tmp/imagenet-1000/n09835506_ballplayer.JPEG  \n",
            "  inflating: /tmp/imagenet-1000/n10148035_groom.JPEG  \n",
            "  inflating: /tmp/imagenet-1000/n10565667_scuba_diver.JPEG  \n",
            "  inflating: /tmp/imagenet-1000/n11879895_rapeseed.JPEG  \n",
            "  inflating: /tmp/imagenet-1000/n11939491_daisy.JPEG  \n",
            "  inflating: /tmp/imagenet-1000/n12057211_yellow_lady's_slipper.JPEG  \n",
            "  inflating: /tmp/imagenet-1000/n12144580_corn.JPEG  \n",
            "  inflating: /tmp/imagenet-1000/n12267677_acorn.JPEG  \n",
            "  inflating: /tmp/imagenet-1000/n12620546_hip.JPEG  \n",
            "  inflating: /tmp/imagenet-1000/n12768682_buckeye.JPEG  \n",
            "  inflating: /tmp/imagenet-1000/n12985857_coral_fungus.JPEG  \n",
            "  inflating: /tmp/imagenet-1000/n12998815_agaric.JPEG  \n",
            "  inflating: /tmp/imagenet-1000/n13037406_gyromitra.JPEG  \n",
            "  inflating: /tmp/imagenet-1000/n13040303_stinkhorn.JPEG  \n",
            "  inflating: /tmp/imagenet-1000/n13044778_earthstar.JPEG  \n",
            "  inflating: /tmp/imagenet-1000/n13052670_hen-of-the-woods.JPEG  \n",
            "  inflating: /tmp/imagenet-1000/n13054560_bolete.JPEG  \n",
            "  inflating: /tmp/imagenet-1000/n13133613_ear.JPEG  \n",
            "  inflating: /tmp/imagenet-1000/n15075141_toilet_tissue.JPEG  \n"
          ]
        }
      ],
      "source": [
        "!wget https://azuremlexampledata.blob.core.windows.net/data/imagenet-1000.zip\n",
        "!unzip imagenet-1000.zip -d /tmp/imagenet-1000"
      ]
    },
    {
      "cell_type": "code",
      "execution_count": 26,
      "metadata": {
        "jupyter": {
          "outputs_hidden": false,
          "source_hidden": false
        },
        "nteract": {
          "transient": {
            "deleting": false
          }
        }
      },
      "outputs": [],
      "source": [
        "data_path = \"/tmp/imagenet-1000\"\n",
        "dataset_name = \"imagenet-sample-unlabeled\"\n",
        "\n",
        "imagenet_sample = Data(\n",
        "    path=data_path,\n",
        "    type=AssetTypes.URI_FOLDER,\n",
        "    description=\"A sample of 1000 images from the original ImageNet dataset\",\n",
        "    name=dataset_name,\n",
        ")"
      ]
    },
    {
      "cell_type": "code",
      "execution_count": null,
      "metadata": {
        "jupyter": {
          "outputs_hidden": false,
          "source_hidden": false
        },
        "nteract": {
          "transient": {
            "deleting": false
          }
        }
      },
      "outputs": [],
      "source": [
        "ml_client.data.create_or_update(imagenet_sample)"
      ]
    },
    {
      "cell_type": "markdown",
      "metadata": {
        "nteract": {
          "transient": {
            "deleting": false
          }
        }
      },
      "source": [
        "Let's get a reference of the new data asset:"
      ]
    },
    {
      "cell_type": "code",
      "execution_count": 27,
      "metadata": {
        "jupyter": {
          "outputs_hidden": false,
          "source_hidden": false
        },
        "nteract": {
          "transient": {
            "deleting": false
          }
        }
      },
      "outputs": [],
      "source": [
        "imagenet_sample = ml_client.data.get(name=dataset_name, label=\"latest\")"
      ]
    },
    {
      "cell_type": "markdown",
      "metadata": {
        "nteract": {
          "transient": {
            "deleting": false
          }
        }
      },
      "source": [
        "Let's use this data as an input for the job:"
      ]
    },
    {
      "cell_type": "code",
      "execution_count": 28,
      "metadata": {
        "jupyter": {
          "outputs_hidden": false,
          "source_hidden": false
        },
        "nteract": {
          "transient": {
            "deleting": false
          }
        }
      },
      "outputs": [],
      "source": [
        "input = Input(type=AssetTypes.URI_FOLDER, path=imagenet_sample.id)"
      ]
    },
    {
      "cell_type": "code",
      "execution_count": 34,
      "metadata": {
        "jupyter": {
          "outputs_hidden": false,
          "source_hidden": false
        },
        "nteract": {
          "transient": {
            "deleting": false
          }
        }
      },
      "outputs": [],
      "source": [
        "job = ml_client.batch_endpoints.invoke(\n",
        "    endpoint_name=endpoint.name,\n",
        "    input=input\n",
        ")"
      ]
    },
    {
      "cell_type": "markdown",
      "metadata": {
        "nteract": {
          "transient": {
            "deleting": false
          }
        }
      },
      "source": [
        "You can use the returned job object to check the status of the job:"
      ]
    },
    {
      "cell_type": "code",
      "execution_count": 35,
      "metadata": {
        "jupyter": {
          "outputs_hidden": false,
          "source_hidden": false
        },
        "nteract": {
          "transient": {
            "deleting": false
          }
        }
      },
      "outputs": [
        {
          "data": {
            "text/html": [
              "<table style=\"width:100%\"><tr><th>Experiment</th><th>Name</th><th>Type</th><th>Status</th><th>Details Page</th></tr><tr><td>imagenet-classifier-batch</td><td>0c40ce8e-585a-4a86-90d2-654fae165cc5</td><td>pipeline</td><td>Preparing</td><td><a href=\"https://ml.azure.com/runs/0c40ce8e-585a-4a86-90d2-654fae165cc5?wsid=/subscriptions/18522758-626e-4d88-92ac-dc9c7a5c26d4/resourcegroups/Analytics.Aml.Experiments.Workspaces/workspaces/aa-ml-aml-workspace&amp;tid=72f988bf-86f1-41af-91ab-2d7cd011db47\" target=\"_blank\" rel=\"noopener\">Link to Azure Machine Learning studio</a></td></tr></table>"
            ],
            "text/plain": [
              "PipelineJob({'inputs': {}, 'outputs': {}, 'jobs': {}, 'component': PipelineComponent({'auto_increment_version': False, 'source': 'REMOTE.WORKSPACE.JOB', 'is_anonymous': True, 'name': 'azureml_anonymous', 'description': 'Pipeline submission for endpoint: imagenet-classifier-batch, deployment: imagenet-classifier-resnetv2.', 'tags': {}, 'properties': {}, 'id': None, 'Resource__source_path': None, 'base_path': None, 'creation_context': None, 'serialize': <msrest.serialization.Serializer object at 0x7fbe2c3213d0>, 'version': '1', 'latest_version': None, 'schema': None, 'type': 'pipeline', 'display_name': 'purple_leg_fpr31zbr', 'is_deterministic': None, 'inputs': {}, 'outputs': {}, 'yaml_str': None, 'other_parameter': {}, 'jobs': {}, 'job_types': {}, 'job_sources': {}, 'source_job_id': None}), 'type': 'pipeline', 'status': 'Preparing', 'log_files': None, 'name': '0c40ce8e-585a-4a86-90d2-654fae165cc5', 'description': 'Pipeline submission for endpoint: imagenet-classifier-batch, deployment: imagenet-classifier-resnetv2.', 'tags': {'azureml.batchrun': 'true', 'azureml.deploymentname': 'imagenet-classifier-resnetv2'}, 'properties': {'azureml.runsource': 'azureml.PipelineRun', 'runSource': 'Unavailable', 'runType': 'HTTP', 'azureml.parameters': '{\"run_max_try\":\"3\",\"run_invocation_timeout\":\"300\",\"mini_batch_size\":\"10\",\"logging_level\":\"INFO\",\"NodeCount\":\"2\",\"append_row_file_name\":\"predictions.csv\"}', 'azureml.continue_on_step_failure': 'False', 'azureml.continue_on_failed_optional_input': 'False', 'azureml.pipelineid': '7b710341-2cc2-4aa7-8d8c-5ef06845d564', 'azureml.pipelineComponent': 'pipelinerun'}, 'id': '/subscriptions/18522758-626e-4d88-92ac-dc9c7a5c26d4/resourceGroups/Analytics.Aml.Experiments.Workspaces/providers/Microsoft.MachineLearningServices/workspaces/aa-ml-aml-workspace/jobs/0c40ce8e-585a-4a86-90d2-654fae165cc5', 'Resource__source_path': None, 'base_path': '/mnt/batch/tasks/shared/LS_root/mounts/clusters/santiagxf-cpu/code/Users/fasantia/azureml-examples/sdk/python/endpoints/batch', 'creation_context': <azure.ai.ml.entities._system_data.SystemData object at 0x7fbe2c1ba2e0>, 'serialize': <msrest.serialization.Serializer object at 0x7fbe2c31d970>, 'display_name': 'purple_leg_fpr31zbr', 'experiment_name': 'imagenet-classifier-batch', 'compute': None, 'services': {'Tracking': <azure.ai.ml._restclient.v2022_10_01_preview.models._models_py3.JobService object at 0x7fbe2c1c1e20>, 'Studio': <azure.ai.ml._restclient.v2022_10_01_preview.models._models_py3.JobService object at 0x7fbe2c1c14c0>}, 'settings': {}, 'identity': None, 'default_code': None, 'default_environment': None})"
            ]
          },
          "execution_count": 35,
          "metadata": {},
          "output_type": "execute_result"
        }
      ],
      "source": [
        "ml_client.jobs.get(job.name)"
      ]
    },
    {
      "cell_type": "markdown",
      "metadata": {
        "nteract": {
          "transient": {
            "deleting": false
          }
        }
      },
      "source": [
        "## High throughput deployments"
      ]
    },
    {
      "cell_type": "code",
      "execution_count": 13,
      "metadata": {
        "jupyter": {
          "outputs_hidden": false,
          "source_hidden": false
        },
        "nteract": {
          "transient": {
            "deleting": false
          }
        }
      },
      "outputs": [
        {
          "name": "stdout",
          "output_type": "stream",
          "text": [
            "Overwriting imagenet-classifier/code/imagenet_scorer_batch.py\n"
          ]
        }
      ],
      "source": [
        "%%writefile imagenet-classifier/code/imagenet_scorer_batch.py\n",
        "\n",
        "import os\n",
        "import numpy as np\n",
        "import pandas as pd\n",
        "import tensorflow as tf\n",
        "from tensorflow.keras.models import load_model\n",
        "\n",
        "\n",
        "def init():\n",
        "    global model\n",
        "    global input_width\n",
        "    global input_height\n",
        "\n",
        "    # AZUREML_MODEL_DIR is an environment variable created during deployment\n",
        "    model_path = os.path.join(os.environ[\"AZUREML_MODEL_DIR\"], \"model\")\n",
        "\n",
        "    # load the model\n",
        "    model = load_model(model_path)\n",
        "    input_width = 244\n",
        "    input_height = 244\n",
        "\n",
        "def decode_img(file_path):\n",
        "    file = tf.io.read_file(file_path)\n",
        "    img = tf.io.decode_jpeg(file, channels=3)\n",
        "    img = tf.image.resize(img, [input_width, input_height])\n",
        "    return img/255.\n",
        "\n",
        "def run(mini_batch):\n",
        "    images_ds = tf.data.Dataset.from_tensor_slices(mini_batch)\n",
        "    images_ds = images_ds.map(decode_img).batch(64)\n",
        "\n",
        "    # perform inference\n",
        "    pred = model.predict(images_ds)\n",
        "\n",
        "    # Compute probabilities, classes and labels\n",
        "    pred_prob = tf.math.reduce_max(tf.math.softmax(pred, axis=-1)).numpy()\n",
        "    pred_class = tf.math.argmax(pred, axis=-1).numpy()\n",
        "\n",
        "    return pd.DataFrame([mini_batch, pred_prob, pred_class], columns=['file', 'probability', 'class'])"
      ]
    },
    {
      "cell_type": "markdown",
      "metadata": {
        "nteract": {
          "transient": {
            "deleting": false
          }
        }
      },
      "source": [
        "Let's use this new scoring script"
      ]
    },
    {
      "cell_type": "code",
      "execution_count": null,
      "metadata": {
        "jupyter": {
          "outputs_hidden": false,
          "source_hidden": false
        },
        "nteract": {
          "transient": {
            "deleting": false
          }
        }
      },
      "outputs": [],
      "source": [
        "ht_deployment = BatchDeployment(\n",
        "    name=\"imagenet-classifier-resnetv2-ht\",\n",
        "    description=\"A ResNetV2 model architecture for performing ImageNet classification in batch (High throughput)\",\n",
        "    endpoint_name=endpoint.name,\n",
        "    model=model,\n",
        "    environment=\"AzureML-tensorflow-2.4-ubuntu18.04-py37-cpu-inference@latest\",\n",
        "    code_configuration=CodeConfiguration(\n",
        "        code=\"./imagenet-classifier/code/\",\n",
        "        scoring_script=\"imagenet_scorer_batch.py\",\n",
        "    ),\n",
        "    compute=compute_name,\n",
        "    instance_count=2,\n",
        "    max_concurrency_per_instance=1,\n",
        "    mini_batch_size=10,\n",
        "    output_action=BatchDeploymentOutputAction.APPEND_ROW,\n",
        "    output_file_name=\"predictions.csv\",\n",
        "    retry_settings=BatchRetrySettings(max_retries=3, timeout=300),\n",
        "    logging_level=\"info\",\n",
        ")"
      ]
    },
    {
      "cell_type": "code",
      "execution_count": 48,
      "metadata": {
        "jupyter": {
          "outputs_hidden": false,
          "source_hidden": false
        },
        "nteract": {
          "transient": {
            "deleting": false
          }
        }
      },
      "outputs": [
        {
          "name": "stderr",
          "output_type": "stream",
          "text": [
            "This job/deployment uses curated environments. The syntax for using curated environments has changed to include azureml registry name: azureml:registries/azureml/environments//versions/ or azureml:registries/azureml/environments/labels/latest. Support for format you are using will be removed in future versions of the CLI and SDK. Learn more at aka.ms/curatedenv\n"
          ]
        },
        {
          "data": {
            "text/plain": [
              "<azure.core.polling._poller.LROPoller at 0x7f009b0e4d30>"
            ]
          },
          "execution_count": 48,
          "metadata": {},
          "output_type": "execute_result"
        }
      ],
      "source": [
        "ml_client.batch_deployments.begin_create_or_update(ht_deployment)"
      ]
    },
    {
      "cell_type": "markdown",
      "metadata": {
        "nteract": {
          "transient": {
            "deleting": false
          }
        }
      },
      "source": [
        "Let's execute this specific deployment now:"
      ]
    },
    {
      "cell_type": "code",
      "execution_count": null,
      "metadata": {
        "jupyter": {
          "outputs_hidden": false,
          "source_hidden": false
        },
        "nteract": {
          "transient": {
            "deleting": false
          }
        }
      },
      "outputs": [],
      "source": [
        "job = ml_client.batch_endpoints.invoke(\n",
        "    endpoint_name=endpoint.name,\n",
        "    deployment_name=ht_deployment,\n",
        "    input=input\n",
        ")"
      ]
    },
    {
      "cell_type": "markdown",
      "metadata": {
        "nteract": {
          "transient": {
            "deleting": false
          }
        }
      },
      "source": [
        "## Exploring the results"
      ]
    },
    {
      "cell_type": "code",
      "execution_count": 36,
      "metadata": {
        "jupyter": {
          "outputs_hidden": false,
          "source_hidden": false
        },
        "nteract": {
          "transient": {
            "deleting": false
          }
        }
      },
      "outputs": [
        {
          "name": "stderr",
          "output_type": "stream",
          "text": [
            "Downloading artifact azureml://datastores/workspaceblobstore/paths/azureml/cea791d7-58ba-4110-866c-74f3056e5b93/score/ to named-outputs/score\n"
          ]
        }
      ],
      "source": [
        "ml_client.jobs.download(name=job.name, download_path=\".\", output_name='score')"
      ]
    },
    {
      "cell_type": "code",
      "execution_count": 48,
      "metadata": {
        "jupyter": {
          "outputs_hidden": false,
          "source_hidden": false
        },
        "nteract": {
          "transient": {
            "deleting": false
          }
        }
      },
      "outputs": [
        {
          "data": {
            "text/html": [
              "<div>\n",
              "<style scoped>\n",
              "    .dataframe tbody tr th:only-of-type {\n",
              "        vertical-align: middle;\n",
              "    }\n",
              "\n",
              "    .dataframe tbody tr th {\n",
              "        vertical-align: top;\n",
              "    }\n",
              "\n",
              "    .dataframe thead th {\n",
              "        text-align: right;\n",
              "    }\n",
              "</style>\n",
              "<table border=\"1\" class=\"dataframe\">\n",
              "  <thead>\n",
              "    <tr style=\"text-align: right;\">\n",
              "      <th></th>\n",
              "      <th>file</th>\n",
              "      <th>class</th>\n",
              "      <th>probabilities</th>\n",
              "      <th>label</th>\n",
              "    </tr>\n",
              "  </thead>\n",
              "  <tbody>\n",
              "    <tr>\n",
              "      <th>0</th>\n",
              "      <td>n02088094_Afghan_hound.JPEG</td>\n",
              "      <td>161</td>\n",
              "      <td>0.994745</td>\n",
              "      <td>Afghan hound</td>\n",
              "    </tr>\n",
              "    <tr>\n",
              "      <th>1</th>\n",
              "      <td>n02088238_basset.JPEG</td>\n",
              "      <td>162</td>\n",
              "      <td>0.999397</td>\n",
              "      <td>basset</td>\n",
              "    </tr>\n",
              "    <tr>\n",
              "      <th>2</th>\n",
              "      <td>n02088364_beagle.JPEG</td>\n",
              "      <td>165</td>\n",
              "      <td>0.366914</td>\n",
              "      <td>bluetick</td>\n",
              "    </tr>\n",
              "    <tr>\n",
              "      <th>3</th>\n",
              "      <td>n02088466_bloodhound.JPEG</td>\n",
              "      <td>164</td>\n",
              "      <td>0.926464</td>\n",
              "      <td>bloodhound</td>\n",
              "    </tr>\n",
              "    <tr>\n",
              "      <th>4</th>\n",
              "      <td>n02088632_bluetick.JPEG</td>\n",
              "      <td>165</td>\n",
              "      <td>0.989370</td>\n",
              "      <td>bluetick</td>\n",
              "    </tr>\n",
              "    <tr>\n",
              "      <th>...</th>\n",
              "      <td>...</td>\n",
              "      <td>...</td>\n",
              "      <td>...</td>\n",
              "      <td>...</td>\n",
              "    </tr>\n",
              "    <tr>\n",
              "      <th>805</th>\n",
              "      <td>n01986214_hermit_crab.JPEG</td>\n",
              "      <td>126</td>\n",
              "      <td>0.707628</td>\n",
              "      <td>hermit crab</td>\n",
              "    </tr>\n",
              "    <tr>\n",
              "      <th>806</th>\n",
              "      <td>n01990800_isopod.JPEG</td>\n",
              "      <td>127</td>\n",
              "      <td>0.999765</td>\n",
              "      <td>isopod</td>\n",
              "    </tr>\n",
              "    <tr>\n",
              "      <th>807</th>\n",
              "      <td>n02002556_white_stork.JPEG</td>\n",
              "      <td>128</td>\n",
              "      <td>0.999786</td>\n",
              "      <td>white stork</td>\n",
              "    </tr>\n",
              "    <tr>\n",
              "      <th>808</th>\n",
              "      <td>n02002724_black_stork.JPEG</td>\n",
              "      <td>129</td>\n",
              "      <td>0.997870</td>\n",
              "      <td>black stork</td>\n",
              "    </tr>\n",
              "    <tr>\n",
              "      <th>809</th>\n",
              "      <td>n02006656_spoonbill.JPEG</td>\n",
              "      <td>130</td>\n",
              "      <td>0.999672</td>\n",
              "      <td>spoonbill</td>\n",
              "    </tr>\n",
              "  </tbody>\n",
              "</table>\n",
              "<p>810 rows × 4 columns</p>\n",
              "</div>"
            ],
            "text/plain": [
              "                            file  class  probabilities         label\n",
              "0    n02088094_Afghan_hound.JPEG    161       0.994745  Afghan hound\n",
              "1          n02088238_basset.JPEG    162       0.999397        basset\n",
              "2          n02088364_beagle.JPEG    165       0.366914      bluetick\n",
              "3      n02088466_bloodhound.JPEG    164       0.926464    bloodhound\n",
              "4        n02088632_bluetick.JPEG    165       0.989370      bluetick\n",
              "..                           ...    ...            ...           ...\n",
              "805   n01986214_hermit_crab.JPEG    126       0.707628   hermit crab\n",
              "806        n01990800_isopod.JPEG    127       0.999765        isopod\n",
              "807   n02002556_white_stork.JPEG    128       0.999786   white stork\n",
              "808   n02002724_black_stork.JPEG    129       0.997870   black stork\n",
              "809     n02006656_spoonbill.JPEG    130       0.999672     spoonbill\n",
              "\n",
              "[810 rows x 4 columns]"
            ]
          },
          "execution_count": 48,
          "metadata": {},
          "output_type": "execute_result"
        }
      ],
      "source": [
        "import pandas as pd\n",
        "\n",
        "score = pd.read_csv(\"named-outputs/score/predictions.csv\", header=None,  names=['file', 'class', 'probabilities'], sep=' ')\n",
        "score['label'] = score['class'].apply(lambda pred: imagenet_labels[pred])\n",
        "score"
      ]
    },
    {
      "cell_type": "markdown",
      "metadata": {
        "nteract": {
          "transient": {
            "deleting": false
          }
        }
      },
      "source": [
        "## Using MLflow with images\n",
        "\n",
        "When working with MLflow models that processes images, it is important to take into account for all the preprocessing you model requires."
      ]
    },
    {
      "cell_type": "code",
      "execution_count": null,
      "metadata": {
        "jupyter": {
          "outputs_hidden": false,
          "source_hidden": false
        },
        "nteract": {
          "transient": {
            "deleting": false
          }
        }
      },
      "outputs": [],
      "source": [
        "import tensorflow_hub as hub\n",
        "import tensorflow as tf\n",
        "\n",
        "model = tf.keras.Sequential(\n",
        "    [\n",
        "        tf.keras.layers.Resizing(244, 244, interpolation='bilinear', crop_to_aspect_ratio=False),\n",
        "        tf.keras.layers.Rescaling(1/255.),\n",
        "        hub.KerasLayer(\"https://tfhub.dev/google/imagenet/resnet_v2_101/classification/5\"),\n",
        "        tf.keras.layers.Softmax(axis=-1)\n",
        "    ])\n",
        "model.build([None, None, None, 3])\n"
      ]
    },
    {
      "cell_type": "markdown",
      "metadata": {
        "nteract": {
          "transient": {
            "deleting": false
          }
        }
      },
      "source": [
        "Let's save this model in a local folder"
      ]
    },
    {
      "cell_type": "code",
      "execution_count": null,
      "metadata": {
        "jupyter": {
          "outputs_hidden": false,
          "source_hidden": false
        },
        "nteract": {
          "transient": {
            "deleting": false
          }
        }
      },
      "outputs": [],
      "source": [
        "model_local_path = 'imagenet-classifier/model'\n",
        "model.save(model_local_path)"
      ]
    },
    {
      "cell_type": "markdown",
      "metadata": {
        "nteract": {
          "transient": {
            "deleting": false
          }
        }
      },
      "source": [
        "We are going to include the labels for the predicted class in the directory so we can use them for inference:"
      ]
    },
    {
      "cell_type": "code",
      "execution_count": null,
      "metadata": {
        "jupyter": {
          "outputs_hidden": false,
          "source_hidden": false
        },
        "nteract": {
          "transient": {
            "deleting": false
          }
        }
      },
      "outputs": [],
      "source": [
        "!wget https://azuremlexampledata.blob.core.windows.net/data/imagenet/ImageNetLabels.txt -d imagenet-classifier/model"
      ]
    },
    {
      "cell_type": "markdown",
      "metadata": {
        "nteract": {
          "transient": {
            "deleting": false
          }
        }
      },
      "source": [
        "Let's create a custom loader for the MLflow model:"
      ]
    },
    {
      "cell_type": "code",
      "execution_count": 82,
      "metadata": {
        "jupyter": {
          "outputs_hidden": false,
          "source_hidden": false
        },
        "nteract": {
          "transient": {
            "deleting": false
          }
        }
      },
      "outputs": [
        {
          "name": "stdout",
          "output_type": "stream",
          "text": [
            "Overwriting imagenet-classifier-mlflow/code/loader_module.py\n"
          ]
        }
      ],
      "source": [
        "%%writefile imagenet-classifier-mlflow/code/loader_module.py\n",
        "\n",
        "class TfClassifier():\n",
        "    def __init__(self, model_path: str, labels_path: str):\n",
        "        import tensorflow as tf\n",
        "        import numpy as np\n",
        "        from tensorflow.keras.models import load_model\n",
        "        \n",
        "        self.model = load_model(model_path)\n",
        "        self.imagenet_labels = np.array(open(labels_path).read().splitlines())\n",
        "\n",
        "    def predict(self, data):\n",
        "        preds = self.model.predict(data)\n",
        "\n",
        "        pred_prob = tf.reduce_max(preds, axis=-1)\n",
        "        pred_class = tf.argmax(preds, axis=-1)\n",
        "        pred_label = [self.imagenet_labels[pred] for pred in pred_class]\n",
        "\n",
        "        return pd.DataFrame([pred_class, pred_prob, pred_label], columns=['class', 'probability', 'label'])\n",
        "\n",
        "def _load_pyfunc(data_path: str):\n",
        "    import os\n",
        "\n",
        "    model_path = os.path.abspath(data_path)\n",
        "    labels_path = os.path.join(model_path, 'ImageNetLabels.txt')\n",
        "\n",
        "    return TfClassifier(model_path, labels_path)"
      ]
    },
    {
      "cell_type": "markdown",
      "metadata": {
        "nteract": {
          "transient": {
            "deleting": false
          }
        }
      },
      "source": [
        "Indicating a signature for your model"
      ]
    },
    {
      "cell_type": "code",
      "execution_count": null,
      "metadata": {
        "jupyter": {
          "outputs_hidden": false,
          "source_hidden": false
        },
        "nteract": {
          "transient": {
            "deleting": false
          }
        }
      },
      "outputs": [],
      "source": [
        "import numpy as np\n",
        "import mlflow\n",
        "from mlflow.models.signature import ModelSignature\n",
        "from mlflow.types.schema import Schema, TensorSpec\n",
        "\n",
        "input_schema = Schema([\n",
        "  TensorSpec(np.dtype(np.uint8), (-1, -1, -1, 3)),\n",
        "])\n",
        "signature = ModelSignature(inputs=input_schema)"
      ]
    },
    {
      "cell_type": "markdown",
      "metadata": {
        "nteract": {
          "transient": {
            "deleting": false
          }
        }
      },
      "source": [
        "Logging the model:"
      ]
    },
    {
      "cell_type": "code",
      "execution_count": null,
      "metadata": {
        "jupyter": {
          "outputs_hidden": false,
          "source_hidden": false
        },
        "nteract": {
          "transient": {
            "deleting": false
          }
        }
      },
      "outputs": [],
      "source": [
        "mlflow.pyfunc.save_model('model', \n",
        "                        data_path='imagenet-classifier/model',\n",
        "                        code_path=['imagenet-classifier-mlflow/code/module_loader.py'],\n",
        "                        loader_module='module_loader',\n",
        "                        signature=signature)"
      ]
    }
  ],
  "metadata": {
    "kernel_info": {
      "name": "amlv2"
    },
    "kernelspec": {
      "display_name": "Python 3.8.5 (amlv2)",
      "language": "python",
      "name": "amlv2"
    },
    "language_info": {
      "codemirror_mode": {
        "name": "ipython",
        "version": 3
      },
      "file_extension": ".py",
      "mimetype": "text/x-python",
      "name": "python",
      "nbconvert_exporter": "python",
      "pygments_lexer": "ipython3",
      "version": "3.8.5"
    },
    "nteract": {
      "version": "nteract-front-end@1.0.0"
    }
  },
  "nbformat": 4,
  "nbformat_minor": 0
}
