{
 "cells": [
  {
   "cell_type": "markdown",
   "metadata": {},
   "source": [
    "**NOTE: This notebook has no github workflows as the motive of this notebook is to provide a solution how to use private packages in AML SDK v2.**\n",
    "\n",
    "# Create Azure Machine Learning Custom Environment\n",
    "\n",
    "**Requirements** - In order to benefit from this tutorial, you will need:\n",
    "- A basic understanding of Machine Learning\n",
    "- An Azure account with an active subscription. [Create an account for free](https://azure.microsoft.com/free/?WT.mc_id=A261C142F)\n",
    "- An Azure ML workspace - [Configure workspace](../../jobs/configuration.ipynb) \n",
    "- A python environment\n",
    "- Installed Azure Machine Learning Python SDK v2 - [install instructions](../../README.md) - check the getting started section\n",
    "\n",
    "**Learning Objectives** - By the end of this tutorial, you should be able to:\n",
    "- Create a custom environment with private packages from python SDK using a docker image\n",
    "\n",
    "**Motivations** - Azure Machine Learning environments are an encapsulation of the environment where your machine learning training happens. By default your workspace has several curated environments already available. This notebook explains how to create a custom environment to run your specific task if you need to."
   ]
  },
  {
   "cell_type": "markdown",
   "metadata": {},
   "source": [
    "# 1. Define Your Custom Docker Image\n",
    "Create a `Dockerfile` that installs your private wheel. For example:\n",
    "\n",
    "```dockerfile\n",
    "FROM mcr.microsoft.com/azureml/openmpi4.1.0-ubuntu20.04\n",
    "\n",
    "# Install pip and wheel\n",
    "RUN apt-get update && apt-get install -y python3-pip\n",
    "RUN pip3 install wheel\n",
    "\n",
    "# Install your private wheel\n",
    "COPY your-package.whl /tmp/\n",
    "RUN pip3 install /tmp/your-package.whl\n",
    "```\n",
    "\n",
    "Build and push this image to your Azure Container Registry (ACR):​\n",
    "\n",
    "```bash\n",
    "docker build -t <your-acr-name>.azurecr.io/your-image:latest .\n",
    "docker push <your-acr-name>.azurecr.io/your-image:latest\n",
    "```\n",
    "Ensure Azure ML has access to your ACR\n"
   ]
  },
  {
   "cell_type": "markdown",
   "metadata": {},
   "source": [
    "# 2. Connect to Azure Machine Learning Workspace\n",
    "\n",
    "The [workspace](https://docs.microsoft.com/en-us/azure/machine-learning/concept-workspace) is the top-level resource for Azure Machine Learning, providing a centralized place to work with all the artifacts you create when you use Azure Machine Learning. In this section we will connect to the workspace in which the job will be run.\n",
    "\n",
    "## 2.1. Import the required libraries"
   ]
  },
  {
   "cell_type": "code",
   "execution_count": null,
   "metadata": {
    "name": "libraries"
   },
   "outputs": [],
   "source": [
    "# import required libraries\n",
    "from azure.ai.ml import MLClient\n",
    "from azure.ai.ml.entities import Environment\n",
    "from azure.identity import DefaultAzureCredential"
   ]
  },
  {
   "cell_type": "markdown",
   "metadata": {},
   "source": [
    "## 2.2. Configure workspace details and get a handle to the workspace\n",
    "\n",
    "To connect to a workspace, we need identifier parameters - a subscription, resource group and workspace name. We will use these details in the `MLClient` from `azure.ai.ml` to get a handle to the required Azure Machine Learning workspace. We use the default [default azure authentication](https://docs.microsoft.com/en-us/python/api/azure-identity/azure.identity.defaultazurecredential?view=azure-python) for this tutorial. Check the [configuration notebook](../../jobs/configuration.ipynb) for more details on how to configure credentials and connect to a workspace."
   ]
  },
  {
   "cell_type": "code",
   "execution_count": null,
   "metadata": {
    "name": "workspace_details"
   },
   "outputs": [],
   "source": [
    "# Enter details of your AML workspace\n",
    "subscription_id = \"<SUBSCRIPTION_ID>\"\n",
    "resource_group = \"<RESOURCE_GROUP>\"\n",
    "workspace = \"<AML_WORKSPACE_NAME>\""
   ]
  },
  {
   "cell_type": "code",
   "execution_count": null,
   "metadata": {
    "name": "get_workspace"
   },
   "outputs": [],
   "source": [
    "# get a handle to the workspace\n",
    "ml_client = MLClient(\n",
    "    DefaultAzureCredential(), subscription_id, resource_group, workspace\n",
    ")"
   ]
  },
  {
   "cell_type": "markdown",
   "metadata": {},
   "source": [
    "OR"
   ]
  },
  {
   "cell_type": "code",
   "execution_count": null,
   "metadata": {},
   "outputs": [],
   "source": [
    "ml_client = MLClient.from_config(DefaultAzureCredential())"
   ]
  },
  {
   "cell_type": "markdown",
   "metadata": {},
   "source": [
    "# 3. Create Environment\n",
    "Azure Machine Learning [environments](https://docs.microsoft.com/en-us/azure/machine-learning/concept-environments) are an encapsulation of the environment where your machine learning training happens. They specify the Python packages, environment variables, and software settings around your training and scoring scripts. They also specify run times (Python, Spark, or Docker). The environments are managed and versioned entities within your Machine Learning workspace that enable reproducible, auditable, and portable machine learning workflows across a variety of computes.\n",
    "\n",
    "The workspace contains several curated environments by default to use as-is. However, you can create your own custom environment to meet your specific needs.\n",
    "\n",
    "The `Environment` class will be used to create a custom environment. It accepts the following key parameters:\n",
    "- `name` - Name of the environment.\t\t\n",
    "- `version`\t- Version of the environment. If omitted, Azure ML will autogenerate a version.\t\t\n",
    "- `image` - The Docker image to use for the environment. Either `image` or `build` is required to create environment.\n",
    "- `conda_file` - The standard conda YAML [configuration file](https://conda.io/projects/conda/en/latest/user-guide/tasks/manage-environments.html#creating-an-environment-file-manually) of the dependencies for a conda environment. It can be used with a `image`. If specified, Azure ML will build the conda environment on top of the Docker image provided.\n",
    "- `BuildContext`- The Docker build context configuration to use for the environment. Either `image` or `build` is required to create environment.\n",
    "  - `path`- Local path to the directory to use as the build context.\t\t\n",
    "  - `dockerfile_path` - Relative path to the Dockerfile within the build context.\n",
    "- `description`\t- Description of the environment.\t\t\n",
    "\n",
    "## 3.1 Create a custom environment using a docker image\n",
    "In this sample we will create an environment in Azure Machine Learning workspace using a docker image. The `Environment` is used to initialize the details. The `MLClient` is used to create the environment in the workspace.\n"
   ]
  },
  {
   "cell_type": "code",
   "execution_count": null,
   "metadata": {},
   "outputs": [],
   "source": [
    "env = Environment(\n",
    "    name=\"custom-docker-env\",\n",
    "    image=\"<your-acr-name>.azurecr.io/your-image:latest\",\n",
    "    description=\"Environment created from a custom Docker image.\",\n",
    ")\n",
    "\n",
    "# Set the base image to a custom Docker image\n",
    "env = ml_client.environments.create_or_update(env)"
   ]
  },
  {
   "cell_type": "markdown",
   "metadata": {},
   "source": [
    "# 3. Define a job within the custom environment"
   ]
  },
  {
   "cell_type": "code",
   "execution_count": null,
   "metadata": {},
   "outputs": [],
   "source": [
    "from azure.ai.ml import load_job\n",
    "\n",
    "\n",
    "job = ml_client.jobs.create_or_update(\n",
    "    name=\"docker_job\",\n",
    "    env=\"custom-docker-env\",\n",
    "    job=load_job(\n",
    "        \"../tests/test_configs/command_job/command_job_test_local_env.yml\",\n",
    "        params_override=[{\"name\": \"docker_job\"}, {\"compute\": \"kchawla1\"}],\n",
    "    ),\n",
    ")"
   ]
  }
 ],
 "metadata": {
  "description": {
   "description": "Create custom environments from docker and/or conda YAML"
  },
  "kernelspec": {
   "display_name": "Python 3",
   "language": "python",
   "name": "python3"
  },
  "language_info": {
   "name": "python",
   "version": "3.12.10"
  }
 },
 "nbformat": 4,
 "nbformat_minor": 4
}
