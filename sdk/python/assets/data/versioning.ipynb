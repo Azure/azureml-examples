{
 "cells": [
  {
   "cell_type": "markdown",
   "metadata": {},
   "source": [
    "# Dataset Versioning in Azure Machine Learning\n",
    "\n",
    "In this notebook, you will:\n",
    "1. Compute a hash for a dataset.\n",
    "2. Check if a dataset with the same hash already exists in Azure ML.\n",
    "3. If not, upload the dataset to Azure Blob Storage and register it as an asset with a hash tag.\n",
    "4. If it exists, retrieve the asset name, version, and tag.\n",
    "\n",
    "> **Note**: Ensure you update the configuration values before running the notebook.  \n",
    "> **Note**: If you encounter any issues, refer to the troubleshooting section at the end.\n"
   ]
  },
  {
   "cell_type": "code",
   "execution_count": 10,
   "metadata": {},
   "outputs": [
    {
     "name": "stdout",
     "output_type": "stream",
     "text": [
      "Defaulting to user installation because normal site-packages is not writeable\n",
      "Requirement already satisfied: azure-ai-ml in /home/ronsha/.local/lib/python3.10/site-packages (1.20.0)\n",
      "Requirement already satisfied: pyjwt in /usr/lib/python3/dist-packages (from azure-ai-ml) (2.3.0)\n",
      "Requirement already satisfied: azure-mgmt-core>=1.3.0 in /home/ronsha/.local/lib/python3.10/site-packages (from azure-ai-ml) (1.4.0)\n",
      "Requirement already satisfied: opencensus-ext-logging in /home/ronsha/.local/lib/python3.10/site-packages (from azure-ai-ml) (0.1.1)\n",
      "Requirement already satisfied: marshmallow>=3.5 in /home/ronsha/.local/lib/python3.10/site-packages (from azure-ai-ml) (3.22.0)\n",
      "Requirement already satisfied: pyyaml>=5.1.0 in /usr/lib/python3/dist-packages (from azure-ai-ml) (5.4.1)\n",
      "Requirement already satisfied: azure-storage-blob>=12.10.0 in /home/ronsha/.local/lib/python3.10/site-packages (from azure-ai-ml) (12.23.0)\n",
      "Requirement already satisfied: azure-core>=1.23.0 in /home/ronsha/.local/lib/python3.10/site-packages (from azure-ai-ml) (1.31.0)\n",
      "Requirement already satisfied: strictyaml in /home/ronsha/.local/lib/python3.10/site-packages (from azure-ai-ml) (1.7.3)\n",
      "Requirement already satisfied: tqdm in /home/ronsha/.local/lib/python3.10/site-packages (from azure-ai-ml) (4.66.5)\n",
      "Requirement already satisfied: azure-storage-file-datalake>=12.2.0 in /home/ronsha/.local/lib/python3.10/site-packages (from azure-ai-ml) (12.17.0)\n",
      "Requirement already satisfied: jsonschema>=4.0.0 in /home/ronsha/.local/lib/python3.10/site-packages (from azure-ai-ml) (4.23.0)\n",
      "Requirement already satisfied: opencensus-ext-azure in /home/ronsha/.local/lib/python3.10/site-packages (from azure-ai-ml) (1.1.13)\n",
      "Requirement already satisfied: colorama in /home/ronsha/.local/lib/python3.10/site-packages (from azure-ai-ml) (0.4.6)\n",
      "Requirement already satisfied: pydash>=6.0.0 in /home/ronsha/.local/lib/python3.10/site-packages (from azure-ai-ml) (8.0.3)\n",
      "Requirement already satisfied: typing-extensions in /home/ronsha/.local/lib/python3.10/site-packages (from azure-ai-ml) (4.12.2)\n",
      "Requirement already satisfied: azure-storage-file-share in /home/ronsha/.local/lib/python3.10/site-packages (from azure-ai-ml) (12.18.0)\n",
      "Requirement already satisfied: azure-common>=1.1 in /home/ronsha/.local/lib/python3.10/site-packages (from azure-ai-ml) (1.1.28)\n",
      "Requirement already satisfied: isodate in /home/ronsha/.local/lib/python3.10/site-packages (from azure-ai-ml) (0.6.1)\n",
      "Requirement already satisfied: msrest>=0.6.18 in /home/ronsha/.local/lib/python3.10/site-packages (from azure-ai-ml) (0.7.1)\n",
      "Requirement already satisfied: six>=1.11.0 in /usr/lib/python3/dist-packages (from azure-core>=1.23.0->azure-ai-ml) (1.16.0)\n",
      "Requirement already satisfied: requests>=2.21.0 in /home/ronsha/.local/lib/python3.10/site-packages (from azure-core>=1.23.0->azure-ai-ml) (2.32.3)\n",
      "Requirement already satisfied: cryptography>=2.1.4 in /usr/lib/python3/dist-packages (from azure-storage-blob>=12.10.0->azure-ai-ml) (3.4.8)\n",
      "Requirement already satisfied: referencing>=0.28.4 in /home/ronsha/.local/lib/python3.10/site-packages (from jsonschema>=4.0.0->azure-ai-ml) (0.35.1)\n",
      "Requirement already satisfied: attrs>=22.2.0 in /home/ronsha/.local/lib/python3.10/site-packages (from jsonschema>=4.0.0->azure-ai-ml) (24.2.0)\n",
      "Requirement already satisfied: rpds-py>=0.7.1 in /home/ronsha/.local/lib/python3.10/site-packages (from jsonschema>=4.0.0->azure-ai-ml) (0.20.0)\n",
      "Requirement already satisfied: jsonschema-specifications>=2023.03.6 in /home/ronsha/.local/lib/python3.10/site-packages (from jsonschema>=4.0.0->azure-ai-ml) (2023.12.1)\n",
      "Requirement already satisfied: packaging>=17.0 in /home/ronsha/.local/lib/python3.10/site-packages (from marshmallow>=3.5->azure-ai-ml) (24.1)\n",
      "Requirement already satisfied: requests-oauthlib>=0.5.0 in /home/ronsha/.local/lib/python3.10/site-packages (from msrest>=0.6.18->azure-ai-ml) (2.0.0)\n",
      "Requirement already satisfied: certifi>=2017.4.17 in /home/ronsha/.local/lib/python3.10/site-packages (from msrest>=0.6.18->azure-ai-ml) (2024.8.30)\n",
      "Requirement already satisfied: azure-identity<2.0.0,>=1.5.0 in /home/ronsha/.local/lib/python3.10/site-packages (from opencensus-ext-azure->azure-ai-ml) (1.17.1)\n",
      "Requirement already satisfied: psutil>=5.6.3 in /home/ronsha/.local/lib/python3.10/site-packages (from opencensus-ext-azure->azure-ai-ml) (6.0.0)\n",
      "Requirement already satisfied: opencensus<1.0.0,>=0.11.4 in /home/ronsha/.local/lib/python3.10/site-packages (from opencensus-ext-azure->azure-ai-ml) (0.11.4)\n",
      "Requirement already satisfied: python-dateutil>=2.6.0 in /home/ronsha/.local/lib/python3.10/site-packages (from strictyaml->azure-ai-ml) (2.9.0.post0)\n",
      "Requirement already satisfied: msal>=1.24.0 in /home/ronsha/.local/lib/python3.10/site-packages (from azure-identity<2.0.0,>=1.5.0->opencensus-ext-azure->azure-ai-ml) (1.31.0)\n",
      "Requirement already satisfied: msal-extensions>=0.3.0 in /home/ronsha/.local/lib/python3.10/site-packages (from azure-identity<2.0.0,>=1.5.0->opencensus-ext-azure->azure-ai-ml) (1.2.0)\n",
      "Requirement already satisfied: google-api-core<3.0.0,>=1.0.0 in /home/ronsha/.local/lib/python3.10/site-packages (from opencensus<1.0.0,>=0.11.4->opencensus-ext-azure->azure-ai-ml) (2.19.2)\n",
      "Requirement already satisfied: opencensus-context>=0.1.3 in /home/ronsha/.local/lib/python3.10/site-packages (from opencensus<1.0.0,>=0.11.4->opencensus-ext-azure->azure-ai-ml) (0.1.3)\n",
      "Requirement already satisfied: urllib3<3,>=1.21.1 in /home/ronsha/.local/lib/python3.10/site-packages (from requests>=2.21.0->azure-core>=1.23.0->azure-ai-ml) (2.2.3)\n",
      "Requirement already satisfied: idna<4,>=2.5 in /home/ronsha/.local/lib/python3.10/site-packages (from requests>=2.21.0->azure-core>=1.23.0->azure-ai-ml) (3.10)\n",
      "Requirement already satisfied: charset-normalizer<4,>=2 in /home/ronsha/.local/lib/python3.10/site-packages (from requests>=2.21.0->azure-core>=1.23.0->azure-ai-ml) (3.3.2)\n",
      "Requirement already satisfied: oauthlib>=3.0.0 in /usr/lib/python3/dist-packages (from requests-oauthlib>=0.5.0->msrest>=0.6.18->azure-ai-ml) (3.2.0)\n",
      "Requirement already satisfied: proto-plus<2.0.0dev,>=1.22.3 in /home/ronsha/.local/lib/python3.10/site-packages (from google-api-core<3.0.0,>=1.0.0->opencensus<1.0.0,>=0.11.4->opencensus-ext-azure->azure-ai-ml) (1.24.0)\n",
      "Requirement already satisfied: protobuf!=3.20.0,!=3.20.1,!=4.21.0,!=4.21.1,!=4.21.2,!=4.21.3,!=4.21.4,!=4.21.5,<6.0.0.dev0,>=3.19.5 in /home/ronsha/.local/lib/python3.10/site-packages (from google-api-core<3.0.0,>=1.0.0->opencensus<1.0.0,>=0.11.4->opencensus-ext-azure->azure-ai-ml) (5.28.2)\n",
      "Requirement already satisfied: googleapis-common-protos<2.0.dev0,>=1.56.2 in /home/ronsha/.local/lib/python3.10/site-packages (from google-api-core<3.0.0,>=1.0.0->opencensus<1.0.0,>=0.11.4->opencensus-ext-azure->azure-ai-ml) (1.65.0)\n",
      "Requirement already satisfied: google-auth<3.0.dev0,>=2.14.1 in /home/ronsha/.local/lib/python3.10/site-packages (from google-api-core<3.0.0,>=1.0.0->opencensus<1.0.0,>=0.11.4->opencensus-ext-azure->azure-ai-ml) (2.34.0)\n",
      "Requirement already satisfied: portalocker<3,>=1.4 in /home/ronsha/.local/lib/python3.10/site-packages (from msal-extensions>=0.3.0->azure-identity<2.0.0,>=1.5.0->opencensus-ext-azure->azure-ai-ml) (2.10.1)\n",
      "Requirement already satisfied: rsa<5,>=3.1.4 in /home/ronsha/.local/lib/python3.10/site-packages (from google-auth<3.0.dev0,>=2.14.1->google-api-core<3.0.0,>=1.0.0->opencensus<1.0.0,>=0.11.4->opencensus-ext-azure->azure-ai-ml) (4.9)\n",
      "Requirement already satisfied: pyasn1-modules>=0.2.1 in /home/ronsha/.local/lib/python3.10/site-packages (from google-auth<3.0.dev0,>=2.14.1->google-api-core<3.0.0,>=1.0.0->opencensus<1.0.0,>=0.11.4->opencensus-ext-azure->azure-ai-ml) (0.4.1)\n",
      "Requirement already satisfied: cachetools<6.0,>=2.0.0 in /home/ronsha/.local/lib/python3.10/site-packages (from google-auth<3.0.dev0,>=2.14.1->google-api-core<3.0.0,>=1.0.0->opencensus<1.0.0,>=0.11.4->opencensus-ext-azure->azure-ai-ml) (5.5.0)\n",
      "Requirement already satisfied: pyasn1<0.7.0,>=0.4.6 in /home/ronsha/.local/lib/python3.10/site-packages (from pyasn1-modules>=0.2.1->google-auth<3.0.dev0,>=2.14.1->google-api-core<3.0.0,>=1.0.0->opencensus<1.0.0,>=0.11.4->opencensus-ext-azure->azure-ai-ml) (0.6.1)\n",
      "Defaulting to user installation because normal site-packages is not writeable\n",
      "Requirement already satisfied: azure-identity in /home/ronsha/.local/lib/python3.10/site-packages (1.17.1)\n",
      "Requirement already satisfied: typing-extensions>=4.0.0 in /home/ronsha/.local/lib/python3.10/site-packages (from azure-identity) (4.12.2)\n",
      "Requirement already satisfied: azure-core>=1.23.0 in /home/ronsha/.local/lib/python3.10/site-packages (from azure-identity) (1.31.0)\n",
      "Requirement already satisfied: msal>=1.24.0 in /home/ronsha/.local/lib/python3.10/site-packages (from azure-identity) (1.31.0)\n",
      "Requirement already satisfied: cryptography>=2.5 in /usr/lib/python3/dist-packages (from azure-identity) (3.4.8)\n",
      "Requirement already satisfied: msal-extensions>=0.3.0 in /home/ronsha/.local/lib/python3.10/site-packages (from azure-identity) (1.2.0)\n",
      "Requirement already satisfied: requests>=2.21.0 in /home/ronsha/.local/lib/python3.10/site-packages (from azure-core>=1.23.0->azure-identity) (2.32.3)\n",
      "Requirement already satisfied: six>=1.11.0 in /usr/lib/python3/dist-packages (from azure-core>=1.23.0->azure-identity) (1.16.0)\n",
      "Requirement already satisfied: PyJWT[crypto]<3,>=1.0.0 in /usr/lib/python3/dist-packages (from msal>=1.24.0->azure-identity) (2.3.0)\n",
      "Requirement already satisfied: portalocker<3,>=1.4 in /home/ronsha/.local/lib/python3.10/site-packages (from msal-extensions>=0.3.0->azure-identity) (2.10.1)\n",
      "Requirement already satisfied: charset-normalizer<4,>=2 in /home/ronsha/.local/lib/python3.10/site-packages (from requests>=2.21.0->azure-core>=1.23.0->azure-identity) (3.3.2)\n",
      "Requirement already satisfied: urllib3<3,>=1.21.1 in /home/ronsha/.local/lib/python3.10/site-packages (from requests>=2.21.0->azure-core>=1.23.0->azure-identity) (2.2.3)\n",
      "Requirement already satisfied: certifi>=2017.4.17 in /home/ronsha/.local/lib/python3.10/site-packages (from requests>=2.21.0->azure-core>=1.23.0->azure-identity) (2024.8.30)\n",
      "Requirement already satisfied: idna<4,>=2.5 in /home/ronsha/.local/lib/python3.10/site-packages (from requests>=2.21.0->azure-core>=1.23.0->azure-identity) (3.10)\n",
      "Defaulting to user installation because normal site-packages is not writeable\n",
      "Requirement already satisfied: azure-storage-blob in /home/ronsha/.local/lib/python3.10/site-packages (12.23.0)\n",
      "Requirement already satisfied: isodate>=0.6.1 in /home/ronsha/.local/lib/python3.10/site-packages (from azure-storage-blob) (0.6.1)\n",
      "Requirement already satisfied: typing-extensions>=4.6.0 in /home/ronsha/.local/lib/python3.10/site-packages (from azure-storage-blob) (4.12.2)\n",
      "Requirement already satisfied: cryptography>=2.1.4 in /usr/lib/python3/dist-packages (from azure-storage-blob) (3.4.8)\n",
      "Requirement already satisfied: azure-core>=1.30.0 in /home/ronsha/.local/lib/python3.10/site-packages (from azure-storage-blob) (1.31.0)\n",
      "Requirement already satisfied: six>=1.11.0 in /usr/lib/python3/dist-packages (from azure-core>=1.30.0->azure-storage-blob) (1.16.0)\n",
      "Requirement already satisfied: requests>=2.21.0 in /home/ronsha/.local/lib/python3.10/site-packages (from azure-core>=1.30.0->azure-storage-blob) (2.32.3)\n",
      "Requirement already satisfied: certifi>=2017.4.17 in /home/ronsha/.local/lib/python3.10/site-packages (from requests>=2.21.0->azure-core>=1.30.0->azure-storage-blob) (2024.8.30)\n",
      "Requirement already satisfied: charset-normalizer<4,>=2 in /home/ronsha/.local/lib/python3.10/site-packages (from requests>=2.21.0->azure-core>=1.30.0->azure-storage-blob) (3.3.2)\n",
      "Requirement already satisfied: urllib3<3,>=1.21.1 in /home/ronsha/.local/lib/python3.10/site-packages (from requests>=2.21.0->azure-core>=1.30.0->azure-storage-blob) (2.2.3)\n",
      "Requirement already satisfied: idna<4,>=2.5 in /home/ronsha/.local/lib/python3.10/site-packages (from requests>=2.21.0->azure-core>=1.30.0->azure-storage-blob) (3.10)\n"
     ]
    }
   ],
   "source": [
    "!pip install azure-ai-ml\n",
    "!pip install azure-identity\n",
    "!pip install azure-storage-blob"
   ]
  },
  {
   "cell_type": "code",
   "execution_count": 11,
   "metadata": {},
   "outputs": [],
   "source": [
    "from azure.ai.ml import MLClient\n",
    "from azure.ai.ml.entities import Data\n",
    "from azure.ai.ml.constants import AssetTypes\n",
    "import hashlib\n",
    "import os\n",
    "from azure.identity import DefaultAzureCredential\n",
    "from azure.storage.blob import BlobServiceClient"
   ]
  },
  {
   "cell_type": "code",
   "execution_count": 12,
   "metadata": {},
   "outputs": [],
   "source": [
    "subscription_id = \"d1a12354-5c67-4461-9fc9-2e5c111ea163\"\n",
    "resource_group = \"rg-ronshakutai\"\n",
    "workspace = \"aml-rs\"\n",
    "\n",
    "ASSET_NAME = \"asset_name\"  # Replace with the name you want to give your asset.\n",
    "ASSET_DESCRIPTION = \"asset_description\"  # Provide a description of your asset.\n",
    "ASSET_PATH = os.path.abspath(\n",
    "    \"./sample_data/\"\n",
    ")  # Provide the absolute path to your local DATA FOLDERS.\n",
    "ASSET_TYPE = \"dataset\"\n",
    "\n",
    "ENABLE_BLOB_UPLOAD = (\n",
    "    False  # Set to True if you want to upload the asset to Azure Blob Storage.\n",
    ")\n",
    "AZURE_STORAGE_ACCOUNT_NAME = \"azure_storage_account_name\"\n",
    "CONTAINER_NAME = \"container_name\"\n",
    "assets_folder = \"assets_folder\"  # Provide a unique folder path to store the assets in Azure Blob Storage."
   ]
  },
  {
   "cell_type": "markdown",
   "metadata": {},
   "source": [
    "## Connect to Azure Machine Learning Workspace\n",
    "\n",
    "Connect to the Azure ML workspace using `MLClient`. Ensure the configuration values in the previous cell are correct before running this code.\n"
   ]
  },
  {
   "cell_type": "code",
   "execution_count": 13,
   "metadata": {},
   "outputs": [],
   "source": [
    "# Initialize the Azure ML client\n",
    "ml_client = MLClient(\n",
    "    DefaultAzureCredential(),\n",
    "    subscription_id,\n",
    "    resource_group,\n",
    "    workspace,\n",
    ")\n",
    "\n",
    "if ENABLE_BLOB_UPLOAD:\n",
    "    # Initialize the Azure Blob client\n",
    "    blob_client = BlobServiceClient(\n",
    "        account_url=f\"https://{AZURE_STORAGE_ACCOUNT_NAME}.blob.core.windows.net\",\n",
    "        credential=DefaultAzureCredential(),\n",
    "    ).get_container_client(CONTAINER_NAME)"
   ]
  },
  {
   "cell_type": "markdown",
   "metadata": {},
   "source": [
    "## Compute Hash for Dataset\n",
    "\n",
    "Compute a hash for the dataset to identify its uniqueness. This will help in checking if the dataset already exists in Azure ML.\n"
   ]
  },
  {
   "cell_type": "code",
   "execution_count": 14,
   "metadata": {},
   "outputs": [
    {
     "name": "stdout",
     "output_type": "stream",
     "text": [
      "Computed hash: 2dfaf4af51901660886912223d67f3e5c8ea57269dbcb432c1e173fe2d3cd8f3\n"
     ]
    }
   ],
   "source": [
    "# Compute the hash of the asset folder\n",
    "hash_algo = hashlib.sha256()\n",
    "for root, _, files in os.walk(ASSET_PATH):\n",
    "    for file in sorted(files):  # Sort files for consistent hash\n",
    "        file_path = os.path.join(root, file)\n",
    "        with open(file_path, \"rb\") as f:\n",
    "            for chunk in iter(lambda: f.read(4096), b\"\"):\n",
    "                hash_algo.update(chunk)\n",
    "asset_hash = hash_algo.hexdigest()\n",
    "print(f\"Computed hash: {asset_hash}\")"
   ]
  },
  {
   "cell_type": "markdown",
   "metadata": {},
   "source": [
    "## Check for Existing Asset in Azure ML\n",
    "\n",
    "Check if a dataset with the same hash already exists in the Azure ML workspace.\n"
   ]
  },
  {
   "cell_type": "code",
   "execution_count": 15,
   "metadata": {},
   "outputs": [
    {
     "name": "stdout",
     "output_type": "stream",
     "text": [
      "No existing asset found with the same hash. Uploading and registering the asset.\n"
     ]
    }
   ],
   "source": [
    "# Check if an asset with this hash already exists in Azure ML\n",
    "asset_exists = False\n",
    "existing_asset_info = None\n",
    "for asset in ml_client.data.list():\n",
    "    for asset_version_info in ml_client.data.list(name=asset.name):\n",
    "        if asset_version_info.tags.get(\"hash\") == asset_hash:\n",
    "            asset_exists = True\n",
    "            existing_asset_info = {\n",
    "                \"asset_name\": asset_version_info.name,\n",
    "                \"asset_version\": asset_version_info.version,\n",
    "            }\n",
    "            break\n",
    "    if asset_exists:\n",
    "        break\n",
    "\n",
    "if asset_exists:\n",
    "    print(f\"Asset with hash {asset_hash} already exists in the workspace.\")\n",
    "    print(\n",
    "        f\"Asset name: {existing_asset_info['asset_name']}, version: {existing_asset_info['asset_version']}\"\n",
    "    )\n",
    "else:\n",
    "    print(\n",
    "        \"No existing asset found with the same hash. Uploading and registering the asset.\"\n",
    "    )"
   ]
  },
  {
   "cell_type": "markdown",
   "metadata": {},
   "source": [
    "## Upload to Azure Blob Storage (If Not Exists)\n",
    "\n",
    "If the dataset doesn't already exist in Azure ML, upload it to Azure Blob Storage.\n"
   ]
  },
  {
   "cell_type": "code",
   "execution_count": 16,
   "metadata": {},
   "outputs": [
    {
     "name": "stdout",
     "output_type": "stream",
     "text": [
      "Uploading files from /home/ronsha/vscodeProjects/azureml-examples/sdk/python/assets/data/sample_data to asset_name_3\n"
     ]
    }
   ],
   "source": [
    "if not asset_exists:\n",
    "    # Determine the latest version number\n",
    "    try:\n",
    "        latest = ml_client.data._get_latest_version(ASSET_NAME)\n",
    "        latest_version = str(int(latest.version) + 1) if latest else \"1\"\n",
    "    except Exception as e:\n",
    "        print(f\"Error getting latest version: {e}, setting it to 1.\")\n",
    "        latest_version = \"1\"\n",
    "\n",
    "    # Upload files to Azure Blob Storage\n",
    "    unique_folder_path = f\"{ASSET_NAME}_{latest_version}\"\n",
    "    print(f\"Uploading files from {ASSET_PATH} to {unique_folder_path}\")\n",
    "    if ENABLE_BLOB_UPLOAD:\n",
    "        for root, _, files in os.walk(ASSET_PATH):\n",
    "            for file_name in files:\n",
    "                file_path = os.path.join(root, file_name)\n",
    "                blob_path = os.path.join(\n",
    "                    unique_folder_path, os.path.relpath(file_path, ASSET_PATH)\n",
    "                )\n",
    "                blob_client_instance = blob_client.get_blob_client(blob_path)\n",
    "                with open(file_path, \"rb\") as data:\n",
    "                    blob_client_instance.upload_blob(data, overwrite=True)\n",
    "                print(f\"Uploaded {file_path} to {blob_path}\")"
   ]
  },
  {
   "cell_type": "markdown",
   "metadata": {},
   "source": [
    "## Register the Dataset in Azure ML\n",
    "\n",
    "After uploading to Blob Storage, register the dataset as an asset in Azure ML.\n"
   ]
  },
  {
   "cell_type": "code",
   "execution_count": 17,
   "metadata": {},
   "outputs": [
    {
     "name": "stdout",
     "output_type": "stream",
     "text": [
      "New dataset registered in the workspace: asset_name with version 3\n"
     ]
    }
   ],
   "source": [
    "if not asset_exists:\n",
    "    # Register the asset in Azure ML\n",
    "    blob_url = f\"https://{AZURE_STORAGE_ACCOUNT_NAME}.blob.core.windows.net/{CONTAINER_NAME}/{unique_folder_path}\"\n",
    "    data_asset = Data(\n",
    "        path=blob_url,\n",
    "        type=AssetTypes.URI_FOLDER,\n",
    "        description=ASSET_DESCRIPTION,\n",
    "        name=ASSET_NAME,\n",
    "        tags={\"hash\": asset_hash},  # Tagging the asset with the computed hash\n",
    "    )\n",
    "\n",
    "    registered_asset = ml_client.data.create_or_update(data_asset)\n",
    "    print(\n",
    "        f\"New {ASSET_TYPE} registered in the workspace: {ASSET_NAME} with version {registered_asset.version}\"\n",
    "    )\n",
    "    existing_asset_info = {\n",
    "        f\"asset_name\": registered_asset.name,\n",
    "        f\"asset_version\": registered_asset.version,\n",
    "    }"
   ]
  },
  {
   "cell_type": "markdown",
   "metadata": {},
   "source": [
    "## Results\n",
    "\n",
    "If the asset was uploaded and registered, or if it already existed, the asset name and version are displayed below.\n",
    "\n",
    "**You can use these results to add a tag to the AML job, creating a link to the dataset used.**"
   ]
  },
  {
   "cell_type": "code",
   "execution_count": 18,
   "metadata": {},
   "outputs": [
    {
     "name": "stdout",
     "output_type": "stream",
     "text": [
      "Asset name: asset_name, version: 3 found\n"
     ]
    }
   ],
   "source": [
    "if existing_asset_info:\n",
    "    print(\n",
    "        f\"Asset name: {existing_asset_info['asset_name']}, version: {existing_asset_info['asset_version']} found\"\n",
    "    )\n",
    "else:\n",
    "    print(\"No action taken.\")"
   ]
  },
  {
   "cell_type": "markdown",
   "metadata": {},
   "source": [
    "### Troubleshooting\n",
    "\n",
    "1. **Permission Issues:**  \n",
    "   - Ensure that your Azure Active Directory (AAD) account has the appropriate permissions:\n",
    "     - **Azure Machine Learning:** 'Contributor' or 'Owner' role for the resource group containing the Azure ML workspace.\n",
    "     - **Storage Account:** 'Storage Blob Data Contributor' role for the specific storage account used in your operations.\n",
    "\n",
    "2. **Path Error:**  \n",
    "   - The dataset path (`ASSET_PATH`) must be an absolute path. Modify this path based on your environment to point to the correct location of the data files.\n",
    "\n",
    "3. **Asset Registration Issues:**  \n",
    "   - If you encounter an error stating that an asset already exists, ensure that you have a unique asset name or update the existing asset version if necessary.\n",
    "\n",
    "4. **Tagging:**  \n",
    "   - Each dataset is tagged with its computed hash. This tag is used to verify the uniqueness of the dataset in Azure ML. Make sure to include the hash tag when registering a new dataset.\n"
   ]
  }
 ],
 "metadata": {
  "kernelspec": {
   "display_name": "Python 3",
   "language": "python",
   "name": "python3"
  },
  "language_info": {
   "codemirror_mode": {
    "name": "ipython",
    "version": 3
   },
   "file_extension": ".py",
   "mimetype": "text/x-python",
   "name": "python",
   "nbconvert_exporter": "python",
   "pygments_lexer": "ipython3",
   "version": "3.10.12"
  }
 },
 "nbformat": 4,
 "nbformat_minor": 2
}
