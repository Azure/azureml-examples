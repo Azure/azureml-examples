{
  "cells": [
    {
      "cell_type": "markdown",
      "source": [
        "# Create an Index with custom cracking and chunking (in Parallel) using Azure Document Intelligence\n",
        "\n",
        "Create an index with custom cracking and chunking using the Azure Document Intelligence aka Azure Form Recognizer.\n",
        "\n",
        "This notebook does crack_and_chunk with parallel processing. It runs on a compute cluster with multiple nodes and each has multiple processes, the input files are divided into mini batches and assigned to each process. All processes do the crack_and_chunk in parallel.\n",
        "\n",
        "This version works with generate_embeddings serial component, with set_automatic_compoute() function."
      ],
      "metadata": {}
    },
    {
      "cell_type": "code",
      "source": [
        "%pip install -U azure-ai-ml==1.16.0b1  # versions may change later\n",
        "%pip install azure-identity\n",
        "%pip install -U 'azureml-rag[azure,cognitive_search]>=0.2.28'\n",
        "%pip install promptflow-rag==0.1.0"
      ],
      "outputs": [
        {
          "output_type": "stream",
          "name": "stdout",
          "text": "Requirement already satisfied: azure-ai-ml==1.16.0b1 in /anaconda/envs/jupyter_env/lib/python3.8/site-packages (1.16.0b1)\nRequirement already satisfied: jsonschema>=4.0.0 in /anaconda/envs/jupyter_env/lib/python3.8/site-packages (from azure-ai-ml==1.16.0b1) (4.17.3)\nRequirement already satisfied: tqdm in /anaconda/envs/jupyter_env/lib/python3.8/site-packages (from azure-ai-ml==1.16.0b1) (4.66.2)\nRequirement already satisfied: msrest>=0.6.18 in /anaconda/envs/jupyter_env/lib/python3.8/site-packages (from azure-ai-ml==1.16.0b1) (0.7.1)\nRequirement already satisfied: azure-storage-blob>=12.10.0 in /anaconda/envs/jupyter_env/lib/python3.8/site-packages (from azure-ai-ml==1.16.0b1) (12.19.1)\nRequirement already satisfied: pydash>=6.0.0 in /anaconda/envs/jupyter_env/lib/python3.8/site-packages (from azure-ai-ml==1.16.0b1) (7.0.5)\nRequirement already satisfied: azure-storage-file-share in /anaconda/envs/jupyter_env/lib/python3.8/site-packages (from azure-ai-ml==1.16.0b1) (12.15.0)\nRequirement already satisfied: strictyaml in /anaconda/envs/jupyter_env/lib/python3.8/site-packages (from azure-ai-ml==1.16.0b1) (1.7.3)\nRequirement already satisfied: marshmallow>=3.5 in /anaconda/envs/jupyter_env/lib/python3.8/site-packages (from azure-ai-ml==1.16.0b1) (3.21.1)\nRequirement already satisfied: azure-storage-file-datalake>=12.2.0 in /anaconda/envs/jupyter_env/lib/python3.8/site-packages (from azure-ai-ml==1.16.0b1) (12.14.0)\nRequirement already satisfied: pyyaml>=5.1.0 in /anaconda/envs/jupyter_env/lib/python3.8/site-packages (from azure-ai-ml==1.16.0b1) (6.0)\nRequirement already satisfied: azure-mgmt-core>=1.3.0 in /anaconda/envs/jupyter_env/lib/python3.8/site-packages (from azure-ai-ml==1.16.0b1) (1.4.0)\nRequirement already satisfied: opencensus-ext-logging in /anaconda/envs/jupyter_env/lib/python3.8/site-packages (from azure-ai-ml==1.16.0b1) (0.1.1)\nRequirement already satisfied: typing-extensions in /anaconda/envs/jupyter_env/lib/python3.8/site-packages (from azure-ai-ml==1.16.0b1) (4.10.0)\nRequirement already satisfied: colorama in /anaconda/envs/jupyter_env/lib/python3.8/site-packages (from azure-ai-ml==1.16.0b1) (0.4.6)\nRequirement already satisfied: isodate in /anaconda/envs/jupyter_env/lib/python3.8/site-packages (from azure-ai-ml==1.16.0b1) (0.6.1)\nRequirement already satisfied: azure-core>=1.23.0 in /anaconda/envs/jupyter_env/lib/python3.8/site-packages (from azure-ai-ml==1.16.0b1) (1.30.1)\nRequirement already satisfied: opencensus-ext-azure in /anaconda/envs/jupyter_env/lib/python3.8/site-packages (from azure-ai-ml==1.16.0b1) (1.1.13)\nRequirement already satisfied: azure-common>=1.1 in /anaconda/envs/jupyter_env/lib/python3.8/site-packages (from azure-ai-ml==1.16.0b1) (1.1.28)\nRequirement already satisfied: pyjwt in /anaconda/envs/jupyter_env/lib/python3.8/site-packages (from azure-ai-ml==1.16.0b1) (2.7.0)\nRequirement already satisfied: requests>=2.21.0 in /anaconda/envs/jupyter_env/lib/python3.8/site-packages (from azure-core>=1.23.0->azure-ai-ml==1.16.0b1) (2.31.0)\nRequirement already satisfied: six>=1.11.0 in /anaconda/envs/jupyter_env/lib/python3.8/site-packages (from azure-core>=1.23.0->azure-ai-ml==1.16.0b1) (1.16.0)\nRequirement already satisfied: cryptography>=2.1.4 in /anaconda/envs/jupyter_env/lib/python3.8/site-packages (from azure-storage-blob>=12.10.0->azure-ai-ml==1.16.0b1) (41.0.1)\nRequirement already satisfied: pyrsistent!=0.17.0,!=0.17.1,!=0.17.2,>=0.14.0 in /anaconda/envs/jupyter_env/lib/python3.8/site-packages (from jsonschema>=4.0.0->azure-ai-ml==1.16.0b1) (0.19.3)\nRequirement already satisfied: importlib-resources>=1.4.0 in /anaconda/envs/jupyter_env/lib/python3.8/site-packages (from jsonschema>=4.0.0->azure-ai-ml==1.16.0b1) (5.12.0)\nRequirement already satisfied: pkgutil-resolve-name>=1.3.10 in /anaconda/envs/jupyter_env/lib/python3.8/site-packages (from jsonschema>=4.0.0->azure-ai-ml==1.16.0b1) (1.3.10)\nRequirement already satisfied: attrs>=17.4.0 in /anaconda/envs/jupyter_env/lib/python3.8/site-packages (from jsonschema>=4.0.0->azure-ai-ml==1.16.0b1) (23.1.0)\nRequirement already satisfied: packaging>=17.0 in /anaconda/envs/jupyter_env/lib/python3.8/site-packages (from marshmallow>=3.5->azure-ai-ml==1.16.0b1) (23.2)\nRequirement already satisfied: certifi>=2017.4.17 in /anaconda/envs/jupyter_env/lib/python3.8/site-packages (from msrest>=0.6.18->azure-ai-ml==1.16.0b1) (2024.2.2)\nRequirement already satisfied: requests-oauthlib>=0.5.0 in /anaconda/envs/jupyter_env/lib/python3.8/site-packages (from msrest>=0.6.18->azure-ai-ml==1.16.0b1) (1.3.1)\nRequirement already satisfied: azure-identity<2.0.0,>=1.5.0 in /anaconda/envs/jupyter_env/lib/python3.8/site-packages (from opencensus-ext-azure->azure-ai-ml==1.16.0b1) (1.15.0)\nRequirement already satisfied: opencensus<1.0.0,>=0.11.4 in /anaconda/envs/jupyter_env/lib/python3.8/site-packages (from opencensus-ext-azure->azure-ai-ml==1.16.0b1) (0.11.4)\nRequirement already satisfied: psutil>=5.6.3 in /anaconda/envs/jupyter_env/lib/python3.8/site-packages (from opencensus-ext-azure->azure-ai-ml==1.16.0b1) (5.9.5)\nRequirement already satisfied: python-dateutil>=2.6.0 in /anaconda/envs/jupyter_env/lib/python3.8/site-packages (from strictyaml->azure-ai-ml==1.16.0b1) (2.8.2)\nRequirement already satisfied: msal-extensions<2.0.0,>=0.3.0 in /anaconda/envs/jupyter_env/lib/python3.8/site-packages (from azure-identity<2.0.0,>=1.5.0->opencensus-ext-azure->azure-ai-ml==1.16.0b1) (1.0.0)\nRequirement already satisfied: msal<2.0.0,>=1.24.0 in /anaconda/envs/jupyter_env/lib/python3.8/site-packages (from azure-identity<2.0.0,>=1.5.0->opencensus-ext-azure->azure-ai-ml==1.16.0b1) (1.28.0)\nRequirement already satisfied: cffi>=1.12 in /anaconda/envs/jupyter_env/lib/python3.8/site-packages (from cryptography>=2.1.4->azure-storage-blob>=12.10.0->azure-ai-ml==1.16.0b1) (1.15.1)\nRequirement already satisfied: zipp>=3.1.0 in /anaconda/envs/jupyter_env/lib/python3.8/site-packages (from importlib-resources>=1.4.0->jsonschema>=4.0.0->azure-ai-ml==1.16.0b1) (3.15.0)\nRequirement already satisfied: opencensus-context>=0.1.3 in /anaconda/envs/jupyter_env/lib/python3.8/site-packages (from opencensus<1.0.0,>=0.11.4->opencensus-ext-azure->azure-ai-ml==1.16.0b1) (0.1.3)\nRequirement already satisfied: google-api-core<3.0.0,>=1.0.0 in /anaconda/envs/jupyter_env/lib/python3.8/site-packages (from opencensus<1.0.0,>=0.11.4->opencensus-ext-azure->azure-ai-ml==1.16.0b1) (2.11.1)\nRequirement already satisfied: idna<4,>=2.5 in /anaconda/envs/jupyter_env/lib/python3.8/site-packages (from requests>=2.21.0->azure-core>=1.23.0->azure-ai-ml==1.16.0b1) (3.4)\nRequirement already satisfied: charset-normalizer<4,>=2 in /anaconda/envs/jupyter_env/lib/python3.8/site-packages (from requests>=2.21.0->azure-core>=1.23.0->azure-ai-ml==1.16.0b1) (3.3.2)\nRequirement already satisfied: urllib3<3,>=1.21.1 in /anaconda/envs/jupyter_env/lib/python3.8/site-packages (from requests>=2.21.0->azure-core>=1.23.0->azure-ai-ml==1.16.0b1) (1.26.18)\nRequirement already satisfied: oauthlib>=3.0.0 in /anaconda/envs/jupyter_env/lib/python3.8/site-packages (from requests-oauthlib>=0.5.0->msrest>=0.6.18->azure-ai-ml==1.16.0b1) (3.2.2)\nRequirement already satisfied: pycparser in /anaconda/envs/jupyter_env/lib/python3.8/site-packages (from cffi>=1.12->cryptography>=2.1.4->azure-storage-blob>=12.10.0->azure-ai-ml==1.16.0b1) (2.21)\nRequirement already satisfied: protobuf!=3.20.0,!=3.20.1,!=4.21.0,!=4.21.1,!=4.21.2,!=4.21.3,!=4.21.4,!=4.21.5,<5.0.0.dev0,>=3.19.5 in /anaconda/envs/jupyter_env/lib/python3.8/site-packages (from google-api-core<3.0.0,>=1.0.0->opencensus<1.0.0,>=0.11.4->opencensus-ext-azure->azure-ai-ml==1.16.0b1) (4.23.3)\nRequirement already satisfied: googleapis-common-protos<2.0.dev0,>=1.56.2 in /anaconda/envs/jupyter_env/lib/python3.8/site-packages (from google-api-core<3.0.0,>=1.0.0->opencensus<1.0.0,>=0.11.4->opencensus-ext-azure->azure-ai-ml==1.16.0b1) (1.59.1)\nRequirement already satisfied: google-auth<3.0.dev0,>=2.14.1 in /anaconda/envs/jupyter_env/lib/python3.8/site-packages (from google-api-core<3.0.0,>=1.0.0->opencensus<1.0.0,>=0.11.4->opencensus-ext-azure->azure-ai-ml==1.16.0b1) (2.20.0)\nRequirement already satisfied: portalocker<3,>=1.0 in /anaconda/envs/jupyter_env/lib/python3.8/site-packages (from msal-extensions<2.0.0,>=0.3.0->azure-identity<2.0.0,>=1.5.0->opencensus-ext-azure->azure-ai-ml==1.16.0b1) (2.7.0)\nRequirement already satisfied: cachetools<6.0,>=2.0.0 in /anaconda/envs/jupyter_env/lib/python3.8/site-packages (from google-auth<3.0.dev0,>=2.14.1->google-api-core<3.0.0,>=1.0.0->opencensus<1.0.0,>=0.11.4->opencensus-ext-azure->azure-ai-ml==1.16.0b1) (5.3.1)\nRequirement already satisfied: pyasn1-modules>=0.2.1 in /anaconda/envs/jupyter_env/lib/python3.8/site-packages (from google-auth<3.0.dev0,>=2.14.1->google-api-core<3.0.0,>=1.0.0->opencensus<1.0.0,>=0.11.4->opencensus-ext-azure->azure-ai-ml==1.16.0b1) (0.3.0)\nRequirement already satisfied: rsa<5,>=3.1.4 in /anaconda/envs/jupyter_env/lib/python3.8/site-packages (from google-auth<3.0.dev0,>=2.14.1->google-api-core<3.0.0,>=1.0.0->opencensus<1.0.0,>=0.11.4->opencensus-ext-azure->azure-ai-ml==1.16.0b1) (4.9)\nRequirement already satisfied: pyasn1<0.6.0,>=0.4.6 in /anaconda/envs/jupyter_env/lib/python3.8/site-packages (from pyasn1-modules>=0.2.1->google-auth<3.0.dev0,>=2.14.1->google-api-core<3.0.0,>=1.0.0->opencensus<1.0.0,>=0.11.4->opencensus-ext-azure->azure-ai-ml==1.16.0b1) (0.5.0)\nNote: you may need to restart the kernel to use updated packages.\nRequirement already satisfied: azure-identity in /anaconda/envs/jupyter_env/lib/python3.8/site-packages (1.15.0)\nRequirement already satisfied: azure-core<2.0.0,>=1.23.0 in /anaconda/envs/jupyter_env/lib/python3.8/site-packages (from azure-identity) (1.30.1)\nRequirement already satisfied: cryptography>=2.5 in /anaconda/envs/jupyter_env/lib/python3.8/site-packages (from azure-identity) (41.0.1)\nRequirement already satisfied: msal-extensions<2.0.0,>=0.3.0 in /anaconda/envs/jupyter_env/lib/python3.8/site-packages (from azure-identity) (1.0.0)\nRequirement already satisfied: msal<2.0.0,>=1.24.0 in /anaconda/envs/jupyter_env/lib/python3.8/site-packages (from azure-identity) (1.28.0)\nRequirement already satisfied: requests>=2.21.0 in /anaconda/envs/jupyter_env/lib/python3.8/site-packages (from azure-core<2.0.0,>=1.23.0->azure-identity) (2.31.0)\nRequirement already satisfied: six>=1.11.0 in /anaconda/envs/jupyter_env/lib/python3.8/site-packages (from azure-core<2.0.0,>=1.23.0->azure-identity) (1.16.0)\nRequirement already satisfied: typing-extensions>=4.6.0 in /anaconda/envs/jupyter_env/lib/python3.8/site-packages (from azure-core<2.0.0,>=1.23.0->azure-identity) (4.10.0)\nRequirement already satisfied: cffi>=1.12 in /anaconda/envs/jupyter_env/lib/python3.8/site-packages (from cryptography>=2.5->azure-identity) (1.15.1)\nRequirement already satisfied: PyJWT[crypto]<3,>=1.0.0 in /anaconda/envs/jupyter_env/lib/python3.8/site-packages (from msal<2.0.0,>=1.24.0->azure-identity) (2.7.0)\nRequirement already satisfied: portalocker<3,>=1.0 in /anaconda/envs/jupyter_env/lib/python3.8/site-packages (from msal-extensions<2.0.0,>=0.3.0->azure-identity) (2.7.0)\nRequirement already satisfied: pycparser in /anaconda/envs/jupyter_env/lib/python3.8/site-packages (from cffi>=1.12->cryptography>=2.5->azure-identity) (2.21)\nRequirement already satisfied: idna<4,>=2.5 in /anaconda/envs/jupyter_env/lib/python3.8/site-packages (from requests>=2.21.0->azure-core<2.0.0,>=1.23.0->azure-identity) (3.4)\nRequirement already satisfied: certifi>=2017.4.17 in /anaconda/envs/jupyter_env/lib/python3.8/site-packages (from requests>=2.21.0->azure-core<2.0.0,>=1.23.0->azure-identity) (2024.2.2)\nRequirement already satisfied: urllib3<3,>=1.21.1 in /anaconda/envs/jupyter_env/lib/python3.8/site-packages (from requests>=2.21.0->azure-core<2.0.0,>=1.23.0->azure-identity) (1.26.18)\nRequirement already satisfied: charset-normalizer<4,>=2 in /anaconda/envs/jupyter_env/lib/python3.8/site-packages (from requests>=2.21.0->azure-core<2.0.0,>=1.23.0->azure-identity) (3.3.2)\nNote: you may need to restart the kernel to use updated packages.\nRequirement already satisfied: azureml-rag[azure,cognitive_search]>=0.2.28 in /anaconda/envs/jupyter_env/lib/python3.8/site-packages (0.2.31)\nRequirement already satisfied: pyyaml<7.0.0,>=5.1.0 in /anaconda/envs/jupyter_env/lib/python3.8/site-packages (from azureml-rag[azure,cognitive_search]>=0.2.28) (6.0)\nRequirement already satisfied: cloudpickle in /anaconda/envs/jupyter_env/lib/python3.8/site-packages (from azureml-rag[azure,cognitive_search]>=0.2.28) (2.2.1)\nRequirement already satisfied: fsspec~=2023.3 in /anaconda/envs/jupyter_env/lib/python3.8/site-packages (from azureml-rag[azure,cognitive_search]>=0.2.28) (2023.10.0)\nRequirement already satisfied: azureml-dataprep[parquet]>4.11 in /anaconda/envs/jupyter_env/lib/python3.8/site-packages (from azureml-rag[azure,cognitive_search]>=0.2.28) (5.1.6)\nRequirement already satisfied: openai>=0.27.8 in /anaconda/envs/jupyter_env/lib/python3.8/site-packages (from azureml-rag[azure,cognitive_search]>=0.2.28) (1.14.2)\nRequirement already satisfied: mmh3 in /anaconda/envs/jupyter_env/lib/python3.8/site-packages (from azureml-rag[azure,cognitive_search]>=0.2.28) (4.1.0)\nRequirement already satisfied: requests in /anaconda/envs/jupyter_env/lib/python3.8/site-packages (from azureml-rag[azure,cognitive_search]>=0.2.28) (2.31.0)\nRequirement already satisfied: tiktoken<0.6 in /anaconda/envs/jupyter_env/lib/python3.8/site-packages (from azureml-rag[azure,cognitive_search]>=0.2.28) (0.5.2)\nRequirement already satisfied: azureml-fsspec in /anaconda/envs/jupyter_env/lib/python3.8/site-packages (from azureml-rag[azure,cognitive_search]>=0.2.28) (1.3.1)\nRequirement already satisfied: azure-search-documents>=11.4.0 in /anaconda/envs/jupyter_env/lib/python3.8/site-packages (from azureml-rag[azure,cognitive_search]>=0.2.28) (11.4.0)\nRequirement already satisfied: azure-ai-ml<2.0,>=1.10.0 in /anaconda/envs/jupyter_env/lib/python3.8/site-packages (from azureml-rag[azure,cognitive_search]>=0.2.28) (1.16.0b1)\nRequirement already satisfied: msrest>=0.6.18 in /anaconda/envs/jupyter_env/lib/python3.8/site-packages (from azure-ai-ml<2.0,>=1.10.0->azureml-rag[azure,cognitive_search]>=0.2.28) (0.7.1)\nRequirement already satisfied: tqdm in /anaconda/envs/jupyter_env/lib/python3.8/site-packages (from azure-ai-ml<2.0,>=1.10.0->azureml-rag[azure,cognitive_search]>=0.2.28) (4.66.2)\nRequirement already satisfied: opencensus-ext-logging in /anaconda/envs/jupyter_env/lib/python3.8/site-packages (from azure-ai-ml<2.0,>=1.10.0->azureml-rag[azure,cognitive_search]>=0.2.28) (0.1.1)\nRequirement already satisfied: azure-storage-blob>=12.10.0 in /anaconda/envs/jupyter_env/lib/python3.8/site-packages (from azure-ai-ml<2.0,>=1.10.0->azureml-rag[azure,cognitive_search]>=0.2.28) (12.19.1)\nRequirement already satisfied: azure-storage-file-datalake>=12.2.0 in /anaconda/envs/jupyter_env/lib/python3.8/site-packages (from azure-ai-ml<2.0,>=1.10.0->azureml-rag[azure,cognitive_search]>=0.2.28) (12.14.0)\nRequirement already satisfied: colorama in /anaconda/envs/jupyter_env/lib/python3.8/site-packages (from azure-ai-ml<2.0,>=1.10.0->azureml-rag[azure,cognitive_search]>=0.2.28) (0.4.6)\nRequirement already satisfied: azure-mgmt-core>=1.3.0 in /anaconda/envs/jupyter_env/lib/python3.8/site-packages (from azure-ai-ml<2.0,>=1.10.0->azureml-rag[azure,cognitive_search]>=0.2.28) (1.4.0)\nRequirement already satisfied: strictyaml in /anaconda/envs/jupyter_env/lib/python3.8/site-packages (from azure-ai-ml<2.0,>=1.10.0->azureml-rag[azure,cognitive_search]>=0.2.28) (1.7.3)\nRequirement already satisfied: azure-storage-file-share in /anaconda/envs/jupyter_env/lib/python3.8/site-packages (from azure-ai-ml<2.0,>=1.10.0->azureml-rag[azure,cognitive_search]>=0.2.28) (12.15.0)\nRequirement already satisfied: marshmallow>=3.5 in /anaconda/envs/jupyter_env/lib/python3.8/site-packages (from azure-ai-ml<2.0,>=1.10.0->azureml-rag[azure,cognitive_search]>=0.2.28) (3.21.1)\nRequirement already satisfied: jsonschema>=4.0.0 in /anaconda/envs/jupyter_env/lib/python3.8/site-packages (from azure-ai-ml<2.0,>=1.10.0->azureml-rag[azure,cognitive_search]>=0.2.28) (4.17.3)\nRequirement already satisfied: pydash>=6.0.0 in /anaconda/envs/jupyter_env/lib/python3.8/site-packages (from azure-ai-ml<2.0,>=1.10.0->azureml-rag[azure,cognitive_search]>=0.2.28) (7.0.5)\nRequirement already satisfied: isodate in /anaconda/envs/jupyter_env/lib/python3.8/site-packages (from azure-ai-ml<2.0,>=1.10.0->azureml-rag[azure,cognitive_search]>=0.2.28) (0.6.1)\nRequirement already satisfied: opencensus-ext-azure in /anaconda/envs/jupyter_env/lib/python3.8/site-packages (from azure-ai-ml<2.0,>=1.10.0->azureml-rag[azure,cognitive_search]>=0.2.28) (1.1.13)\nRequirement already satisfied: typing-extensions in /anaconda/envs/jupyter_env/lib/python3.8/site-packages (from azure-ai-ml<2.0,>=1.10.0->azureml-rag[azure,cognitive_search]>=0.2.28) (4.10.0)\nRequirement already satisfied: azure-common>=1.1 in /anaconda/envs/jupyter_env/lib/python3.8/site-packages (from azure-ai-ml<2.0,>=1.10.0->azureml-rag[azure,cognitive_search]>=0.2.28) (1.1.28)\nRequirement already satisfied: azure-core>=1.23.0 in /anaconda/envs/jupyter_env/lib/python3.8/site-packages (from azure-ai-ml<2.0,>=1.10.0->azureml-rag[azure,cognitive_search]>=0.2.28) (1.30.1)\nRequirement already satisfied: pyjwt in /anaconda/envs/jupyter_env/lib/python3.8/site-packages (from azure-ai-ml<2.0,>=1.10.0->azureml-rag[azure,cognitive_search]>=0.2.28) (2.7.0)\nRequirement already satisfied: azureml-dataprep-native<42.0.0,>=41.0.0 in /anaconda/envs/jupyter_env/lib/python3.8/site-packages (from azureml-dataprep[parquet]>4.11->azureml-rag[azure,cognitive_search]>=0.2.28) (41.0.0)\nRequirement already satisfied: azureml-dataprep-rslex~=2.22.2dev0 in /anaconda/envs/jupyter_env/lib/python3.8/site-packages (from azureml-dataprep[parquet]>4.11->azureml-rag[azure,cognitive_search]>=0.2.28) (2.22.2)\nRequirement already satisfied: azure-identity>=1.7.0 in /anaconda/envs/jupyter_env/lib/python3.8/site-packages (from azureml-dataprep[parquet]>4.11->azureml-rag[azure,cognitive_search]>=0.2.28) (1.15.0)\nRequirement already satisfied: pyarrow>=0.17.0 in /anaconda/envs/jupyter_env/lib/python3.8/site-packages (from azureml-dataprep[parquet]>4.11->azureml-rag[azure,cognitive_search]>=0.2.28) (12.0.1)\nRequirement already satisfied: httpx<1,>=0.23.0 in /anaconda/envs/jupyter_env/lib/python3.8/site-packages (from openai>=0.27.8->azureml-rag[azure,cognitive_search]>=0.2.28) (0.27.0)\nRequirement already satisfied: sniffio in /anaconda/envs/jupyter_env/lib/python3.8/site-packages (from openai>=0.27.8->azureml-rag[azure,cognitive_search]>=0.2.28) (1.3.0)\nRequirement already satisfied: anyio<5,>=3.5.0 in /anaconda/envs/jupyter_env/lib/python3.8/site-packages (from openai>=0.27.8->azureml-rag[azure,cognitive_search]>=0.2.28) (3.7.0)\nRequirement already satisfied: distro<2,>=1.7.0 in /anaconda/envs/jupyter_env/lib/python3.8/site-packages (from openai>=0.27.8->azureml-rag[azure,cognitive_search]>=0.2.28) (1.8.0)\nRequirement already satisfied: pydantic<3,>=1.9.0 in /anaconda/envs/jupyter_env/lib/python3.8/site-packages (from openai>=0.27.8->azureml-rag[azure,cognitive_search]>=0.2.28) (1.10.9)\nRequirement already satisfied: regex>=2022.1.18 in /anaconda/envs/jupyter_env/lib/python3.8/site-packages (from tiktoken<0.6->azureml-rag[azure,cognitive_search]>=0.2.28) (2023.12.25)\nRequirement already satisfied: idna<4,>=2.5 in /anaconda/envs/jupyter_env/lib/python3.8/site-packages (from requests->azureml-rag[azure,cognitive_search]>=0.2.28) (3.4)\nRequirement already satisfied: urllib3<3,>=1.21.1 in /anaconda/envs/jupyter_env/lib/python3.8/site-packages (from requests->azureml-rag[azure,cognitive_search]>=0.2.28) (1.26.18)\nRequirement already satisfied: certifi>=2017.4.17 in /anaconda/envs/jupyter_env/lib/python3.8/site-packages (from requests->azureml-rag[azure,cognitive_search]>=0.2.28) (2024.2.2)\nRequirement already satisfied: charset-normalizer<4,>=2 in /anaconda/envs/jupyter_env/lib/python3.8/site-packages (from requests->azureml-rag[azure,cognitive_search]>=0.2.28) (3.3.2)\nRequirement already satisfied: pytz in /anaconda/envs/jupyter_env/lib/python3.8/site-packages (from azureml-fsspec->azureml-rag[azure,cognitive_search]>=0.2.28) (2023.3)\nRequirement already satisfied: exceptiongroup in /anaconda/envs/jupyter_env/lib/python3.8/site-packages (from anyio<5,>=3.5.0->openai>=0.27.8->azureml-rag[azure,cognitive_search]>=0.2.28) (1.1.1)\nRequirement already satisfied: six>=1.11.0 in /anaconda/envs/jupyter_env/lib/python3.8/site-packages (from azure-core>=1.23.0->azure-ai-ml<2.0,>=1.10.0->azureml-rag[azure,cognitive_search]>=0.2.28) (1.16.0)\nRequirement already satisfied: msal-extensions<2.0.0,>=0.3.0 in /anaconda/envs/jupyter_env/lib/python3.8/site-packages (from azure-identity>=1.7.0->azureml-dataprep[parquet]>4.11->azureml-rag[azure,cognitive_search]>=0.2.28) (1.0.0)\nRequirement already satisfied: msal<2.0.0,>=1.24.0 in /anaconda/envs/jupyter_env/lib/python3.8/site-packages (from azure-identity>=1.7.0->azureml-dataprep[parquet]>4.11->azureml-rag[azure,cognitive_search]>=0.2.28) (1.28.0)\nRequirement already satisfied: cryptography>=2.5 in /anaconda/envs/jupyter_env/lib/python3.8/site-packages (from azure-identity>=1.7.0->azureml-dataprep[parquet]>4.11->azureml-rag[azure,cognitive_search]>=0.2.28) (41.0.1)\nRequirement already satisfied: httpcore==1.* in /anaconda/envs/jupyter_env/lib/python3.8/site-packages (from httpx<1,>=0.23.0->openai>=0.27.8->azureml-rag[azure,cognitive_search]>=0.2.28) (1.0.4)\nRequirement already satisfied: h11<0.15,>=0.13 in /anaconda/envs/jupyter_env/lib/python3.8/site-packages (from httpcore==1.*->httpx<1,>=0.23.0->openai>=0.27.8->azureml-rag[azure,cognitive_search]>=0.2.28) (0.14.0)\nRequirement already satisfied: pyrsistent!=0.17.0,!=0.17.1,!=0.17.2,>=0.14.0 in /anaconda/envs/jupyter_env/lib/python3.8/site-packages (from jsonschema>=4.0.0->azure-ai-ml<2.0,>=1.10.0->azureml-rag[azure,cognitive_search]>=0.2.28) (0.19.3)\nRequirement already satisfied: attrs>=17.4.0 in /anaconda/envs/jupyter_env/lib/python3.8/site-packages (from jsonschema>=4.0.0->azure-ai-ml<2.0,>=1.10.0->azureml-rag[azure,cognitive_search]>=0.2.28) (23.1.0)\nRequirement already satisfied: pkgutil-resolve-name>=1.3.10 in /anaconda/envs/jupyter_env/lib/python3.8/site-packages (from jsonschema>=4.0.0->azure-ai-ml<2.0,>=1.10.0->azureml-rag[azure,cognitive_search]>=0.2.28) (1.3.10)\nRequirement already satisfied: importlib-resources>=1.4.0 in /anaconda/envs/jupyter_env/lib/python3.8/site-packages (from jsonschema>=4.0.0->azure-ai-ml<2.0,>=1.10.0->azureml-rag[azure,cognitive_search]>=0.2.28) (5.12.0)\nRequirement already satisfied: packaging>=17.0 in /anaconda/envs/jupyter_env/lib/python3.8/site-packages (from marshmallow>=3.5->azure-ai-ml<2.0,>=1.10.0->azureml-rag[azure,cognitive_search]>=0.2.28) (23.2)\nRequirement already satisfied: requests-oauthlib>=0.5.0 in /anaconda/envs/jupyter_env/lib/python3.8/site-packages (from msrest>=0.6.18->azure-ai-ml<2.0,>=1.10.0->azureml-rag[azure,cognitive_search]>=0.2.28) (1.3.1)\nRequirement already satisfied: numpy>=1.16.6 in /anaconda/envs/jupyter_env/lib/python3.8/site-packages (from pyarrow>=0.17.0->azureml-dataprep[parquet]>4.11->azureml-rag[azure,cognitive_search]>=0.2.28) (1.24.3)\nRequirement already satisfied: psutil>=5.6.3 in /anaconda/envs/jupyter_env/lib/python3.8/site-packages (from opencensus-ext-azure->azure-ai-ml<2.0,>=1.10.0->azureml-rag[azure,cognitive_search]>=0.2.28) (5.9.5)\nRequirement already satisfied: opencensus<1.0.0,>=0.11.4 in /anaconda/envs/jupyter_env/lib/python3.8/site-packages (from opencensus-ext-azure->azure-ai-ml<2.0,>=1.10.0->azureml-rag[azure,cognitive_search]>=0.2.28) (0.11.4)\nRequirement already satisfied: python-dateutil>=2.6.0 in /anaconda/envs/jupyter_env/lib/python3.8/site-packages (from strictyaml->azure-ai-ml<2.0,>=1.10.0->azureml-rag[azure,cognitive_search]>=0.2.28) (2.8.2)\nRequirement already satisfied: cffi>=1.12 in /anaconda/envs/jupyter_env/lib/python3.8/site-packages (from cryptography>=2.5->azure-identity>=1.7.0->azureml-dataprep[parquet]>4.11->azureml-rag[azure,cognitive_search]>=0.2.28) (1.15.1)\nRequirement already satisfied: zipp>=3.1.0 in /anaconda/envs/jupyter_env/lib/python3.8/site-packages (from importlib-resources>=1.4.0->jsonschema>=4.0.0->azure-ai-ml<2.0,>=1.10.0->azureml-rag[azure,cognitive_search]>=0.2.28) (3.15.0)\nRequirement already satisfied: portalocker<3,>=1.0 in /anaconda/envs/jupyter_env/lib/python3.8/site-packages (from msal-extensions<2.0.0,>=0.3.0->azure-identity>=1.7.0->azureml-dataprep[parquet]>4.11->azureml-rag[azure,cognitive_search]>=0.2.28) (2.7.0)\nRequirement already satisfied: opencensus-context>=0.1.3 in /anaconda/envs/jupyter_env/lib/python3.8/site-packages (from opencensus<1.0.0,>=0.11.4->opencensus-ext-azure->azure-ai-ml<2.0,>=1.10.0->azureml-rag[azure,cognitive_search]>=0.2.28) (0.1.3)\nRequirement already satisfied: google-api-core<3.0.0,>=1.0.0 in /anaconda/envs/jupyter_env/lib/python3.8/site-packages (from opencensus<1.0.0,>=0.11.4->opencensus-ext-azure->azure-ai-ml<2.0,>=1.10.0->azureml-rag[azure,cognitive_search]>=0.2.28) (2.11.1)\nRequirement already satisfied: oauthlib>=3.0.0 in /anaconda/envs/jupyter_env/lib/python3.8/site-packages (from requests-oauthlib>=0.5.0->msrest>=0.6.18->azure-ai-ml<2.0,>=1.10.0->azureml-rag[azure,cognitive_search]>=0.2.28) (3.2.2)\nRequirement already satisfied: pycparser in /anaconda/envs/jupyter_env/lib/python3.8/site-packages (from cffi>=1.12->cryptography>=2.5->azure-identity>=1.7.0->azureml-dataprep[parquet]>4.11->azureml-rag[azure,cognitive_search]>=0.2.28) (2.21)\nRequirement already satisfied: google-auth<3.0.dev0,>=2.14.1 in /anaconda/envs/jupyter_env/lib/python3.8/site-packages (from google-api-core<3.0.0,>=1.0.0->opencensus<1.0.0,>=0.11.4->opencensus-ext-azure->azure-ai-ml<2.0,>=1.10.0->azureml-rag[azure,cognitive_search]>=0.2.28) (2.20.0)\nRequirement already satisfied: protobuf!=3.20.0,!=3.20.1,!=4.21.0,!=4.21.1,!=4.21.2,!=4.21.3,!=4.21.4,!=4.21.5,<5.0.0.dev0,>=3.19.5 in /anaconda/envs/jupyter_env/lib/python3.8/site-packages (from google-api-core<3.0.0,>=1.0.0->opencensus<1.0.0,>=0.11.4->opencensus-ext-azure->azure-ai-ml<2.0,>=1.10.0->azureml-rag[azure,cognitive_search]>=0.2.28) (4.23.3)\nRequirement already satisfied: googleapis-common-protos<2.0.dev0,>=1.56.2 in /anaconda/envs/jupyter_env/lib/python3.8/site-packages (from google-api-core<3.0.0,>=1.0.0->opencensus<1.0.0,>=0.11.4->opencensus-ext-azure->azure-ai-ml<2.0,>=1.10.0->azureml-rag[azure,cognitive_search]>=0.2.28) (1.59.1)\nRequirement already satisfied: cachetools<6.0,>=2.0.0 in /anaconda/envs/jupyter_env/lib/python3.8/site-packages (from google-auth<3.0.dev0,>=2.14.1->google-api-core<3.0.0,>=1.0.0->opencensus<1.0.0,>=0.11.4->opencensus-ext-azure->azure-ai-ml<2.0,>=1.10.0->azureml-rag[azure,cognitive_search]>=0.2.28) (5.3.1)\nRequirement already satisfied: pyasn1-modules>=0.2.1 in /anaconda/envs/jupyter_env/lib/python3.8/site-packages (from google-auth<3.0.dev0,>=2.14.1->google-api-core<3.0.0,>=1.0.0->opencensus<1.0.0,>=0.11.4->opencensus-ext-azure->azure-ai-ml<2.0,>=1.10.0->azureml-rag[azure,cognitive_search]>=0.2.28) (0.3.0)\nRequirement already satisfied: rsa<5,>=3.1.4 in /anaconda/envs/jupyter_env/lib/python3.8/site-packages (from google-auth<3.0.dev0,>=2.14.1->google-api-core<3.0.0,>=1.0.0->opencensus<1.0.0,>=0.11.4->opencensus-ext-azure->azure-ai-ml<2.0,>=1.10.0->azureml-rag[azure,cognitive_search]>=0.2.28) (4.9)\nRequirement already satisfied: pyasn1<0.6.0,>=0.4.6 in /anaconda/envs/jupyter_env/lib/python3.8/site-packages (from pyasn1-modules>=0.2.1->google-auth<3.0.dev0,>=2.14.1->google-api-core<3.0.0,>=1.0.0->opencensus<1.0.0,>=0.11.4->opencensus-ext-azure->azure-ai-ml<2.0,>=1.10.0->azureml-rag[azure,cognitive_search]>=0.2.28) (0.5.0)\nNote: you may need to restart the kernel to use updated packages.\nRequirement already satisfied: promptflow-rag==0.1.0 in /anaconda/envs/jupyter_env/lib/python3.8/site-packages (0.1.0)\nRequirement already satisfied: openai in /anaconda/envs/jupyter_env/lib/python3.8/site-packages (from promptflow-rag==0.1.0) (1.14.2)\nRequirement already satisfied: azureml-rag[azure,cognitive_search,document_parsing,langchain] in /anaconda/envs/jupyter_env/lib/python3.8/site-packages (from promptflow-rag==0.1.0) (0.2.31)\nRequirement already satisfied: cloudpickle in /anaconda/envs/jupyter_env/lib/python3.8/site-packages (from azureml-rag[azure,cognitive_search,document_parsing,langchain]->promptflow-rag==0.1.0) (2.2.1)\nRequirement already satisfied: tiktoken<0.6 in /anaconda/envs/jupyter_env/lib/python3.8/site-packages (from azureml-rag[azure,cognitive_search,document_parsing,langchain]->promptflow-rag==0.1.0) (0.5.2)\nRequirement already satisfied: azureml-dataprep[parquet]>4.11 in /anaconda/envs/jupyter_env/lib/python3.8/site-packages (from azureml-rag[azure,cognitive_search,document_parsing,langchain]->promptflow-rag==0.1.0) (5.1.6)\nRequirement already satisfied: pyyaml<7.0.0,>=5.1.0 in /anaconda/envs/jupyter_env/lib/python3.8/site-packages (from azureml-rag[azure,cognitive_search,document_parsing,langchain]->promptflow-rag==0.1.0) (6.0)\nRequirement already satisfied: fsspec~=2023.3 in /anaconda/envs/jupyter_env/lib/python3.8/site-packages (from azureml-rag[azure,cognitive_search,document_parsing,langchain]->promptflow-rag==0.1.0) (2023.10.0)\nRequirement already satisfied: mmh3 in /anaconda/envs/jupyter_env/lib/python3.8/site-packages (from azureml-rag[azure,cognitive_search,document_parsing,langchain]->promptflow-rag==0.1.0) (4.1.0)\nRequirement already satisfied: requests in /anaconda/envs/jupyter_env/lib/python3.8/site-packages (from azureml-rag[azure,cognitive_search,document_parsing,langchain]->promptflow-rag==0.1.0) (2.31.0)\nRequirement already satisfied: azureml-fsspec in /anaconda/envs/jupyter_env/lib/python3.8/site-packages (from azureml-rag[azure,cognitive_search,document_parsing,langchain]->promptflow-rag==0.1.0) (1.3.1)\nRequirement already satisfied: azure-ai-ml<2.0,>=1.10.0 in /anaconda/envs/jupyter_env/lib/python3.8/site-packages (from azureml-rag[azure,cognitive_search,document_parsing,langchain]->promptflow-rag==0.1.0) (1.16.0b1)\nRequirement already satisfied: langchain<0.2,>=0.0.236 in /anaconda/envs/jupyter_env/lib/python3.8/site-packages (from azureml-rag[azure,cognitive_search,document_parsing,langchain]->promptflow-rag==0.1.0) (0.0.335)\nRequirement already satisfied: langchain-community<=0.0.33 in /anaconda/envs/jupyter_env/lib/python3.8/site-packages (from azureml-rag[azure,cognitive_search,document_parsing,langchain]->promptflow-rag==0.1.0) (0.0.20)\nRequirement already satisfied: azure-search-documents>=11.4.0 in /anaconda/envs/jupyter_env/lib/python3.8/site-packages (from azureml-rag[azure,cognitive_search,document_parsing,langchain]->promptflow-rag==0.1.0) (11.4.0)\nRequirement already satisfied: pandas>=1 in /anaconda/envs/jupyter_env/lib/python3.8/site-packages (from azureml-rag[azure,cognitive_search,document_parsing,langchain]->promptflow-rag==0.1.0) (2.0.2)\nRequirement already satisfied: markdown in /anaconda/envs/jupyter_env/lib/python3.8/site-packages (from azureml-rag[azure,cognitive_search,document_parsing,langchain]->promptflow-rag==0.1.0) (3.4.3)\nRequirement already satisfied: GitPython>=3.1 in /anaconda/envs/jupyter_env/lib/python3.8/site-packages (from azureml-rag[azure,cognitive_search,document_parsing,langchain]->promptflow-rag==0.1.0) (3.1.43)\nRequirement already satisfied: tika~=2.6.0 in /anaconda/envs/jupyter_env/lib/python3.8/site-packages (from azureml-rag[azure,cognitive_search,document_parsing,langchain]->promptflow-rag==0.1.0) (2.6.0)\nRequirement already satisfied: nltk~=3.8.1 in /anaconda/envs/jupyter_env/lib/python3.8/site-packages (from azureml-rag[azure,cognitive_search,document_parsing,langchain]->promptflow-rag==0.1.0) (3.8.1)\nRequirement already satisfied: unstructured in /anaconda/envs/jupyter_env/lib/python3.8/site-packages (from azureml-rag[azure,cognitive_search,document_parsing,langchain]->promptflow-rag==0.1.0) (0.11.8)\nRequirement already satisfied: pypdf~=3.17.1 in /anaconda/envs/jupyter_env/lib/python3.8/site-packages (from azureml-rag[azure,cognitive_search,document_parsing,langchain]->promptflow-rag==0.1.0) (3.17.4)\nRequirement already satisfied: azure-ai-formrecognizer in /anaconda/envs/jupyter_env/lib/python3.8/site-packages (from azureml-rag[azure,cognitive_search,document_parsing,langchain]->promptflow-rag==0.1.0) (3.3.3)\nRequirement already satisfied: beautifulsoup4~=4.11.2 in /anaconda/envs/jupyter_env/lib/python3.8/site-packages (from azureml-rag[azure,cognitive_search,document_parsing,langchain]->promptflow-rag==0.1.0) (4.11.2)\nRequirement already satisfied: distro<2,>=1.7.0 in /anaconda/envs/jupyter_env/lib/python3.8/site-packages (from openai->promptflow-rag==0.1.0) (1.8.0)\nRequirement already satisfied: tqdm>4 in /anaconda/envs/jupyter_env/lib/python3.8/site-packages (from openai->promptflow-rag==0.1.0) (4.66.2)\nRequirement already satisfied: typing-extensions<5,>=4.7 in /anaconda/envs/jupyter_env/lib/python3.8/site-packages (from openai->promptflow-rag==0.1.0) (4.10.0)\nRequirement already satisfied: anyio<5,>=3.5.0 in /anaconda/envs/jupyter_env/lib/python3.8/site-packages (from openai->promptflow-rag==0.1.0) (3.7.0)\nRequirement already satisfied: httpx<1,>=0.23.0 in /anaconda/envs/jupyter_env/lib/python3.8/site-packages (from openai->promptflow-rag==0.1.0) (0.27.0)\nRequirement already satisfied: sniffio in /anaconda/envs/jupyter_env/lib/python3.8/site-packages (from openai->promptflow-rag==0.1.0) (1.3.0)\nRequirement already satisfied: pydantic<3,>=1.9.0 in /anaconda/envs/jupyter_env/lib/python3.8/site-packages (from openai->promptflow-rag==0.1.0) (1.10.9)\nRequirement already satisfied: exceptiongroup in /anaconda/envs/jupyter_env/lib/python3.8/site-packages (from anyio<5,>=3.5.0->openai->promptflow-rag==0.1.0) (1.1.1)\nRequirement already satisfied: idna>=2.8 in /anaconda/envs/jupyter_env/lib/python3.8/site-packages (from anyio<5,>=3.5.0->openai->promptflow-rag==0.1.0) (3.4)\nRequirement already satisfied: pydash>=6.0.0 in /anaconda/envs/jupyter_env/lib/python3.8/site-packages (from azure-ai-ml<2.0,>=1.10.0->azureml-rag[azure,cognitive_search,document_parsing,langchain]->promptflow-rag==0.1.0) (7.0.5)\nRequirement already satisfied: azure-mgmt-core>=1.3.0 in /anaconda/envs/jupyter_env/lib/python3.8/site-packages (from azure-ai-ml<2.0,>=1.10.0->azureml-rag[azure,cognitive_search,document_parsing,langchain]->promptflow-rag==0.1.0) (1.4.0)\nRequirement already satisfied: opencensus-ext-azure in /anaconda/envs/jupyter_env/lib/python3.8/site-packages (from azure-ai-ml<2.0,>=1.10.0->azureml-rag[azure,cognitive_search,document_parsing,langchain]->promptflow-rag==0.1.0) (1.1.13)\nRequirement already satisfied: azure-storage-file-share in /anaconda/envs/jupyter_env/lib/python3.8/site-packages (from azure-ai-ml<2.0,>=1.10.0->azureml-rag[azure,cognitive_search,document_parsing,langchain]->promptflow-rag==0.1.0) (12.15.0)\nRequirement already satisfied: opencensus-ext-logging in /anaconda/envs/jupyter_env/lib/python3.8/site-packages (from azure-ai-ml<2.0,>=1.10.0->azureml-rag[azure,cognitive_search,document_parsing,langchain]->promptflow-rag==0.1.0) (0.1.1)\nRequirement already satisfied: colorama in /anaconda/envs/jupyter_env/lib/python3.8/site-packages (from azure-ai-ml<2.0,>=1.10.0->azureml-rag[azure,cognitive_search,document_parsing,langchain]->promptflow-rag==0.1.0) (0.4.6)\nRequirement already satisfied: marshmallow>=3.5 in /anaconda/envs/jupyter_env/lib/python3.8/site-packages (from azure-ai-ml<2.0,>=1.10.0->azureml-rag[azure,cognitive_search,document_parsing,langchain]->promptflow-rag==0.1.0) (3.21.1)\nRequirement already satisfied: strictyaml in /anaconda/envs/jupyter_env/lib/python3.8/site-packages (from azure-ai-ml<2.0,>=1.10.0->azureml-rag[azure,cognitive_search,document_parsing,langchain]->promptflow-rag==0.1.0) (1.7.3)\nRequirement already satisfied: azure-core>=1.23.0 in /anaconda/envs/jupyter_env/lib/python3.8/site-packages (from azure-ai-ml<2.0,>=1.10.0->azureml-rag[azure,cognitive_search,document_parsing,langchain]->promptflow-rag==0.1.0) (1.30.1)\nRequirement already satisfied: azure-common>=1.1 in /anaconda/envs/jupyter_env/lib/python3.8/site-packages (from azure-ai-ml<2.0,>=1.10.0->azureml-rag[azure,cognitive_search,document_parsing,langchain]->promptflow-rag==0.1.0) (1.1.28)\nRequirement already satisfied: msrest>=0.6.18 in /anaconda/envs/jupyter_env/lib/python3.8/site-packages (from azure-ai-ml<2.0,>=1.10.0->azureml-rag[azure,cognitive_search,document_parsing,langchain]->promptflow-rag==0.1.0) (0.7.1)\nRequirement already satisfied: isodate in /anaconda/envs/jupyter_env/lib/python3.8/site-packages (from azure-ai-ml<2.0,>=1.10.0->azureml-rag[azure,cognitive_search,document_parsing,langchain]->promptflow-rag==0.1.0) (0.6.1)\nRequirement already satisfied: azure-storage-blob>=12.10.0 in /anaconda/envs/jupyter_env/lib/python3.8/site-packages (from azure-ai-ml<2.0,>=1.10.0->azureml-rag[azure,cognitive_search,document_parsing,langchain]->promptflow-rag==0.1.0) (12.19.1)\nRequirement already satisfied: jsonschema>=4.0.0 in /anaconda/envs/jupyter_env/lib/python3.8/site-packages (from azure-ai-ml<2.0,>=1.10.0->azureml-rag[azure,cognitive_search,document_parsing,langchain]->promptflow-rag==0.1.0) (4.17.3)\nRequirement already satisfied: pyjwt in /anaconda/envs/jupyter_env/lib/python3.8/site-packages (from azure-ai-ml<2.0,>=1.10.0->azureml-rag[azure,cognitive_search,document_parsing,langchain]->promptflow-rag==0.1.0) (2.7.0)\nRequirement already satisfied: azure-storage-file-datalake>=12.2.0 in /anaconda/envs/jupyter_env/lib/python3.8/site-packages (from azure-ai-ml<2.0,>=1.10.0->azureml-rag[azure,cognitive_search,document_parsing,langchain]->promptflow-rag==0.1.0) (12.14.0)\nRequirement already satisfied: azureml-dataprep-native<42.0.0,>=41.0.0 in /anaconda/envs/jupyter_env/lib/python3.8/site-packages (from azureml-dataprep[parquet]>4.11->azureml-rag[azure,cognitive_search,document_parsing,langchain]->promptflow-rag==0.1.0) (41.0.0)\nRequirement already satisfied: azureml-dataprep-rslex~=2.22.2dev0 in /anaconda/envs/jupyter_env/lib/python3.8/site-packages (from azureml-dataprep[parquet]>4.11->azureml-rag[azure,cognitive_search,document_parsing,langchain]->promptflow-rag==0.1.0) (2.22.2)\nRequirement already satisfied: azure-identity>=1.7.0 in /anaconda/envs/jupyter_env/lib/python3.8/site-packages (from azureml-dataprep[parquet]>4.11->azureml-rag[azure,cognitive_search,document_parsing,langchain]->promptflow-rag==0.1.0) (1.15.0)\nRequirement already satisfied: pyarrow>=0.17.0 in /anaconda/envs/jupyter_env/lib/python3.8/site-packages (from azureml-dataprep[parquet]>4.11->azureml-rag[azure,cognitive_search,document_parsing,langchain]->promptflow-rag==0.1.0) (12.0.1)\nRequirement already satisfied: soupsieve>1.2 in /anaconda/envs/jupyter_env/lib/python3.8/site-packages (from beautifulsoup4~=4.11.2->azureml-rag[azure,cognitive_search,document_parsing,langchain]->promptflow-rag==0.1.0) (2.4.1)\nRequirement already satisfied: gitdb<5,>=4.0.1 in /anaconda/envs/jupyter_env/lib/python3.8/site-packages (from GitPython>=3.1->azureml-rag[azure,cognitive_search,document_parsing,langchain]->promptflow-rag==0.1.0) (4.0.11)\nRequirement already satisfied: certifi in /anaconda/envs/jupyter_env/lib/python3.8/site-packages (from httpx<1,>=0.23.0->openai->promptflow-rag==0.1.0) (2024.2.2)\nRequirement already satisfied: httpcore==1.* in /anaconda/envs/jupyter_env/lib/python3.8/site-packages (from httpx<1,>=0.23.0->openai->promptflow-rag==0.1.0) (1.0.4)\nRequirement already satisfied: h11<0.15,>=0.13 in /anaconda/envs/jupyter_env/lib/python3.8/site-packages (from httpcore==1.*->httpx<1,>=0.23.0->openai->promptflow-rag==0.1.0) (0.14.0)\nRequirement already satisfied: async-timeout<5.0.0,>=4.0.0 in /anaconda/envs/jupyter_env/lib/python3.8/site-packages (from langchain<0.2,>=0.0.236->azureml-rag[azure,cognitive_search,document_parsing,langchain]->promptflow-rag==0.1.0) (4.0.2)\nRequirement already satisfied: jsonpatch<2.0,>=1.33 in /anaconda/envs/jupyter_env/lib/python3.8/site-packages (from langchain<0.2,>=0.0.236->azureml-rag[azure,cognitive_search,document_parsing,langchain]->promptflow-rag==0.1.0) (1.33)\nRequirement already satisfied: aiohttp<4.0.0,>=3.8.3 in /anaconda/envs/jupyter_env/lib/python3.8/site-packages (from langchain<0.2,>=0.0.236->azureml-rag[azure,cognitive_search,document_parsing,langchain]->promptflow-rag==0.1.0) (3.8.4)\nRequirement already satisfied: dataclasses-json<0.7,>=0.5.7 in /anaconda/envs/jupyter_env/lib/python3.8/site-packages (from langchain<0.2,>=0.0.236->azureml-rag[azure,cognitive_search,document_parsing,langchain]->promptflow-rag==0.1.0) (0.6.4)\nRequirement already satisfied: langsmith<0.1.0,>=0.0.63 in /anaconda/envs/jupyter_env/lib/python3.8/site-packages (from langchain<0.2,>=0.0.236->azureml-rag[azure,cognitive_search,document_parsing,langchain]->promptflow-rag==0.1.0) (0.0.87)\nRequirement already satisfied: numpy<2,>=1 in /anaconda/envs/jupyter_env/lib/python3.8/site-packages (from langchain<0.2,>=0.0.236->azureml-rag[azure,cognitive_search,document_parsing,langchain]->promptflow-rag==0.1.0) (1.24.3)\nRequirement already satisfied: tenacity<9.0.0,>=8.1.0 in /anaconda/envs/jupyter_env/lib/python3.8/site-packages (from langchain<0.2,>=0.0.236->azureml-rag[azure,cognitive_search,document_parsing,langchain]->promptflow-rag==0.1.0) (8.2.3)\nRequirement already satisfied: SQLAlchemy<3,>=1.4 in /anaconda/envs/jupyter_env/lib/python3.8/site-packages (from langchain<0.2,>=0.0.236->azureml-rag[azure,cognitive_search,document_parsing,langchain]->promptflow-rag==0.1.0) (2.0.29)\nRequirement already satisfied: langchain-core<0.2,>=0.1.21 in /anaconda/envs/jupyter_env/lib/python3.8/site-packages (from langchain-community<=0.0.33->azureml-rag[azure,cognitive_search,document_parsing,langchain]->promptflow-rag==0.1.0) (0.1.23)\nRequirement already satisfied: regex>=2021.8.3 in /anaconda/envs/jupyter_env/lib/python3.8/site-packages (from nltk~=3.8.1->azureml-rag[azure,cognitive_search,document_parsing,langchain]->promptflow-rag==0.1.0) (2023.12.25)\nRequirement already satisfied: click in /anaconda/envs/jupyter_env/lib/python3.8/site-packages (from nltk~=3.8.1->azureml-rag[azure,cognitive_search,document_parsing,langchain]->promptflow-rag==0.1.0) (8.1.3)\nRequirement already satisfied: joblib in /anaconda/envs/jupyter_env/lib/python3.8/site-packages (from nltk~=3.8.1->azureml-rag[azure,cognitive_search,document_parsing,langchain]->promptflow-rag==0.1.0) (1.4.2)\nRequirement already satisfied: python-dateutil>=2.8.2 in /anaconda/envs/jupyter_env/lib/python3.8/site-packages (from pandas>=1->azureml-rag[azure,cognitive_search,document_parsing,langchain]->promptflow-rag==0.1.0) (2.8.2)\nRequirement already satisfied: pytz>=2020.1 in /anaconda/envs/jupyter_env/lib/python3.8/site-packages (from pandas>=1->azureml-rag[azure,cognitive_search,document_parsing,langchain]->promptflow-rag==0.1.0) (2023.3)\nRequirement already satisfied: tzdata>=2022.1 in /anaconda/envs/jupyter_env/lib/python3.8/site-packages (from pandas>=1->azureml-rag[azure,cognitive_search,document_parsing,langchain]->promptflow-rag==0.1.0) (2023.3)\nRequirement already satisfied: charset-normalizer<4,>=2 in /anaconda/envs/jupyter_env/lib/python3.8/site-packages (from requests->azureml-rag[azure,cognitive_search,document_parsing,langchain]->promptflow-rag==0.1.0) (3.3.2)\nRequirement already satisfied: urllib3<3,>=1.21.1 in /anaconda/envs/jupyter_env/lib/python3.8/site-packages (from requests->azureml-rag[azure,cognitive_search,document_parsing,langchain]->promptflow-rag==0.1.0) (1.26.18)\nRequirement already satisfied: setuptools in /anaconda/envs/jupyter_env/lib/python3.8/site-packages (from tika~=2.6.0->azureml-rag[azure,cognitive_search,document_parsing,langchain]->promptflow-rag==0.1.0) (65.6.3)\nRequirement already satisfied: importlib-metadata>=4.4 in /anaconda/envs/jupyter_env/lib/python3.8/site-packages (from markdown->azureml-rag[azure,cognitive_search,document_parsing,langchain]->promptflow-rag==0.1.0) (6.7.0)\nRequirement already satisfied: wrapt in /anaconda/envs/jupyter_env/lib/python3.8/site-packages (from unstructured->azureml-rag[azure,cognitive_search,document_parsing,langchain]->promptflow-rag==0.1.0) (1.16.0)\nRequirement already satisfied: emoji in /anaconda/envs/jupyter_env/lib/python3.8/site-packages (from unstructured->azureml-rag[azure,cognitive_search,document_parsing,langchain]->promptflow-rag==0.1.0) (2.11.1)\nRequirement already satisfied: python-iso639 in /anaconda/envs/jupyter_env/lib/python3.8/site-packages (from unstructured->azureml-rag[azure,cognitive_search,document_parsing,langchain]->promptflow-rag==0.1.0) (2024.4.27)\nRequirement already satisfied: chardet in /anaconda/envs/jupyter_env/lib/python3.8/site-packages (from unstructured->azureml-rag[azure,cognitive_search,document_parsing,langchain]->promptflow-rag==0.1.0) (5.2.0)\nRequirement already satisfied: rapidfuzz in /anaconda/envs/jupyter_env/lib/python3.8/site-packages (from unstructured->azureml-rag[azure,cognitive_search,document_parsing,langchain]->promptflow-rag==0.1.0) (3.9.0)\nRequirement already satisfied: python-magic in /anaconda/envs/jupyter_env/lib/python3.8/site-packages (from unstructured->azureml-rag[azure,cognitive_search,document_parsing,langchain]->promptflow-rag==0.1.0) (0.4.27)\nRequirement already satisfied: lxml in /anaconda/envs/jupyter_env/lib/python3.8/site-packages (from unstructured->azureml-rag[azure,cognitive_search,document_parsing,langchain]->promptflow-rag==0.1.0) (5.2.1)\nRequirement already satisfied: tabulate in /anaconda/envs/jupyter_env/lib/python3.8/site-packages (from unstructured->azureml-rag[azure,cognitive_search,document_parsing,langchain]->promptflow-rag==0.1.0) (0.9.0)\nRequirement already satisfied: langdetect in /anaconda/envs/jupyter_env/lib/python3.8/site-packages (from unstructured->azureml-rag[azure,cognitive_search,document_parsing,langchain]->promptflow-rag==0.1.0) (1.0.9)\nRequirement already satisfied: filetype in /anaconda/envs/jupyter_env/lib/python3.8/site-packages (from unstructured->azureml-rag[azure,cognitive_search,document_parsing,langchain]->promptflow-rag==0.1.0) (1.2.0)\nRequirement already satisfied: backoff in /anaconda/envs/jupyter_env/lib/python3.8/site-packages (from unstructured->azureml-rag[azure,cognitive_search,document_parsing,langchain]->promptflow-rag==0.1.0) (2.2.1)\nRequirement already satisfied: unstructured-client in /anaconda/envs/jupyter_env/lib/python3.8/site-packages (from unstructured->azureml-rag[azure,cognitive_search,document_parsing,langchain]->promptflow-rag==0.1.0) (0.21.0)\nRequirement already satisfied: aiosignal>=1.1.2 in /anaconda/envs/jupyter_env/lib/python3.8/site-packages (from aiohttp<4.0.0,>=3.8.3->langchain<0.2,>=0.0.236->azureml-rag[azure,cognitive_search,document_parsing,langchain]->promptflow-rag==0.1.0) (1.3.1)\nRequirement already satisfied: frozenlist>=1.1.1 in /anaconda/envs/jupyter_env/lib/python3.8/site-packages (from aiohttp<4.0.0,>=3.8.3->langchain<0.2,>=0.0.236->azureml-rag[azure,cognitive_search,document_parsing,langchain]->promptflow-rag==0.1.0) (1.3.3)\nRequirement already satisfied: attrs>=17.3.0 in /anaconda/envs/jupyter_env/lib/python3.8/site-packages (from aiohttp<4.0.0,>=3.8.3->langchain<0.2,>=0.0.236->azureml-rag[azure,cognitive_search,document_parsing,langchain]->promptflow-rag==0.1.0) (23.1.0)\nRequirement already satisfied: yarl<2.0,>=1.0 in /anaconda/envs/jupyter_env/lib/python3.8/site-packages (from aiohttp<4.0.0,>=3.8.3->langchain<0.2,>=0.0.236->azureml-rag[azure,cognitive_search,document_parsing,langchain]->promptflow-rag==0.1.0) (1.9.2)\nRequirement already satisfied: multidict<7.0,>=4.5 in /anaconda/envs/jupyter_env/lib/python3.8/site-packages (from aiohttp<4.0.0,>=3.8.3->langchain<0.2,>=0.0.236->azureml-rag[azure,cognitive_search,document_parsing,langchain]->promptflow-rag==0.1.0) (6.0.4)\nRequirement already satisfied: six>=1.11.0 in /anaconda/envs/jupyter_env/lib/python3.8/site-packages (from azure-core>=1.23.0->azure-ai-ml<2.0,>=1.10.0->azureml-rag[azure,cognitive_search,document_parsing,langchain]->promptflow-rag==0.1.0) (1.16.0)\nRequirement already satisfied: msal<2.0.0,>=1.24.0 in /anaconda/envs/jupyter_env/lib/python3.8/site-packages (from azure-identity>=1.7.0->azureml-dataprep[parquet]>4.11->azureml-rag[azure,cognitive_search,document_parsing,langchain]->promptflow-rag==0.1.0) (1.28.0)\nRequirement already satisfied: cryptography>=2.5 in /anaconda/envs/jupyter_env/lib/python3.8/site-packages (from azure-identity>=1.7.0->azureml-dataprep[parquet]>4.11->azureml-rag[azure,cognitive_search,document_parsing,langchain]->promptflow-rag==0.1.0) (41.0.1)\nRequirement already satisfied: msal-extensions<2.0.0,>=0.3.0 in /anaconda/envs/jupyter_env/lib/python3.8/site-packages (from azure-identity>=1.7.0->azureml-dataprep[parquet]>4.11->azureml-rag[azure,cognitive_search,document_parsing,langchain]->promptflow-rag==0.1.0) (1.0.0)\nRequirement already satisfied: typing-inspect<1,>=0.4.0 in /anaconda/envs/jupyter_env/lib/python3.8/site-packages (from dataclasses-json<0.7,>=0.5.7->langchain<0.2,>=0.0.236->azureml-rag[azure,cognitive_search,document_parsing,langchain]->promptflow-rag==0.1.0) (0.9.0)\nRequirement already satisfied: smmap<6,>=3.0.1 in /anaconda/envs/jupyter_env/lib/python3.8/site-packages (from gitdb<5,>=4.0.1->GitPython>=3.1->azureml-rag[azure,cognitive_search,document_parsing,langchain]->promptflow-rag==0.1.0) (5.0.1)\nRequirement already satisfied: zipp>=0.5 in /anaconda/envs/jupyter_env/lib/python3.8/site-packages (from importlib-metadata>=4.4->markdown->azureml-rag[azure,cognitive_search,document_parsing,langchain]->promptflow-rag==0.1.0) (3.15.0)\nRequirement already satisfied: jsonpointer>=1.9 in /anaconda/envs/jupyter_env/lib/python3.8/site-packages (from jsonpatch<2.0,>=1.33->langchain<0.2,>=0.0.236->azureml-rag[azure,cognitive_search,document_parsing,langchain]->promptflow-rag==0.1.0) (2.4)\nRequirement already satisfied: importlib-resources>=1.4.0 in /anaconda/envs/jupyter_env/lib/python3.8/site-packages (from jsonschema>=4.0.0->azure-ai-ml<2.0,>=1.10.0->azureml-rag[azure,cognitive_search,document_parsing,langchain]->promptflow-rag==0.1.0) (5.12.0)\nRequirement already satisfied: pyrsistent!=0.17.0,!=0.17.1,!=0.17.2,>=0.14.0 in /anaconda/envs/jupyter_env/lib/python3.8/site-packages (from jsonschema>=4.0.0->azure-ai-ml<2.0,>=1.10.0->azureml-rag[azure,cognitive_search,document_parsing,langchain]->promptflow-rag==0.1.0) (0.19.3)\nRequirement already satisfied: pkgutil-resolve-name>=1.3.10 in /anaconda/envs/jupyter_env/lib/python3.8/site-packages (from jsonschema>=4.0.0->azure-ai-ml<2.0,>=1.10.0->azureml-rag[azure,cognitive_search,document_parsing,langchain]->promptflow-rag==0.1.0) (1.3.10)\nRequirement already satisfied: packaging<24.0,>=23.2 in /anaconda/envs/jupyter_env/lib/python3.8/site-packages (from langchain-core<0.2,>=0.1.21->langchain-community<=0.0.33->azureml-rag[azure,cognitive_search,document_parsing,langchain]->promptflow-rag==0.1.0) (23.2)\nRequirement already satisfied: requests-oauthlib>=0.5.0 in /anaconda/envs/jupyter_env/lib/python3.8/site-packages (from msrest>=0.6.18->azure-ai-ml<2.0,>=1.10.0->azureml-rag[azure,cognitive_search,document_parsing,langchain]->promptflow-rag==0.1.0) (1.3.1)\nRequirement already satisfied: greenlet!=0.4.17 in /anaconda/envs/jupyter_env/lib/python3.8/site-packages (from SQLAlchemy<3,>=1.4->langchain<0.2,>=0.0.236->azureml-rag[azure,cognitive_search,document_parsing,langchain]->promptflow-rag==0.1.0) (3.0.3)\nRequirement already satisfied: psutil>=5.6.3 in /anaconda/envs/jupyter_env/lib/python3.8/site-packages (from opencensus-ext-azure->azure-ai-ml<2.0,>=1.10.0->azureml-rag[azure,cognitive_search,document_parsing,langchain]->promptflow-rag==0.1.0) (5.9.5)\nRequirement already satisfied: opencensus<1.0.0,>=0.11.4 in /anaconda/envs/jupyter_env/lib/python3.8/site-packages (from opencensus-ext-azure->azure-ai-ml<2.0,>=1.10.0->azureml-rag[azure,cognitive_search,document_parsing,langchain]->promptflow-rag==0.1.0) (0.11.4)\nRequirement already satisfied: mypy-extensions>=1.0.0 in /anaconda/envs/jupyter_env/lib/python3.8/site-packages (from unstructured-client->unstructured->azureml-rag[azure,cognitive_search,document_parsing,langchain]->promptflow-rag==0.1.0) (1.0.0)\nRequirement already satisfied: jsonpath-python>=1.0.6 in /anaconda/envs/jupyter_env/lib/python3.8/site-packages (from unstructured-client->unstructured->azureml-rag[azure,cognitive_search,document_parsing,langchain]->promptflow-rag==0.1.0) (1.0.6)\nRequirement already satisfied: cffi>=1.12 in /anaconda/envs/jupyter_env/lib/python3.8/site-packages (from cryptography>=2.5->azure-identity>=1.7.0->azureml-dataprep[parquet]>4.11->azureml-rag[azure,cognitive_search,document_parsing,langchain]->promptflow-rag==0.1.0) (1.15.1)\nRequirement already satisfied: portalocker<3,>=1.0 in /anaconda/envs/jupyter_env/lib/python3.8/site-packages (from msal-extensions<2.0.0,>=0.3.0->azure-identity>=1.7.0->azureml-dataprep[parquet]>4.11->azureml-rag[azure,cognitive_search,document_parsing,langchain]->promptflow-rag==0.1.0) (2.7.0)\nRequirement already satisfied: google-api-core<3.0.0,>=1.0.0 in /anaconda/envs/jupyter_env/lib/python3.8/site-packages (from opencensus<1.0.0,>=0.11.4->opencensus-ext-azure->azure-ai-ml<2.0,>=1.10.0->azureml-rag[azure,cognitive_search,document_parsing,langchain]->promptflow-rag==0.1.0) (2.11.1)\nRequirement already satisfied: opencensus-context>=0.1.3 in /anaconda/envs/jupyter_env/lib/python3.8/site-packages (from opencensus<1.0.0,>=0.11.4->opencensus-ext-azure->azure-ai-ml<2.0,>=1.10.0->azureml-rag[azure,cognitive_search,document_parsing,langchain]->promptflow-rag==0.1.0) (0.1.3)\nRequirement already satisfied: oauthlib>=3.0.0 in /anaconda/envs/jupyter_env/lib/python3.8/site-packages (from requests-oauthlib>=0.5.0->msrest>=0.6.18->azure-ai-ml<2.0,>=1.10.0->azureml-rag[azure,cognitive_search,document_parsing,langchain]->promptflow-rag==0.1.0) (3.2.2)\nRequirement already satisfied: pycparser in /anaconda/envs/jupyter_env/lib/python3.8/site-packages (from cffi>=1.12->cryptography>=2.5->azure-identity>=1.7.0->azureml-dataprep[parquet]>4.11->azureml-rag[azure,cognitive_search,document_parsing,langchain]->promptflow-rag==0.1.0) (2.21)\nRequirement already satisfied: google-auth<3.0.dev0,>=2.14.1 in /anaconda/envs/jupyter_env/lib/python3.8/site-packages (from google-api-core<3.0.0,>=1.0.0->opencensus<1.0.0,>=0.11.4->opencensus-ext-azure->azure-ai-ml<2.0,>=1.10.0->azureml-rag[azure,cognitive_search,document_parsing,langchain]->promptflow-rag==0.1.0) (2.20.0)\nRequirement already satisfied: protobuf!=3.20.0,!=3.20.1,!=4.21.0,!=4.21.1,!=4.21.2,!=4.21.3,!=4.21.4,!=4.21.5,<5.0.0.dev0,>=3.19.5 in /anaconda/envs/jupyter_env/lib/python3.8/site-packages (from google-api-core<3.0.0,>=1.0.0->opencensus<1.0.0,>=0.11.4->opencensus-ext-azure->azure-ai-ml<2.0,>=1.10.0->azureml-rag[azure,cognitive_search,document_parsing,langchain]->promptflow-rag==0.1.0) (4.23.3)\nRequirement already satisfied: googleapis-common-protos<2.0.dev0,>=1.56.2 in /anaconda/envs/jupyter_env/lib/python3.8/site-packages (from google-api-core<3.0.0,>=1.0.0->opencensus<1.0.0,>=0.11.4->opencensus-ext-azure->azure-ai-ml<2.0,>=1.10.0->azureml-rag[azure,cognitive_search,document_parsing,langchain]->promptflow-rag==0.1.0) (1.59.1)\nRequirement already satisfied: pyasn1-modules>=0.2.1 in /anaconda/envs/jupyter_env/lib/python3.8/site-packages (from google-auth<3.0.dev0,>=2.14.1->google-api-core<3.0.0,>=1.0.0->opencensus<1.0.0,>=0.11.4->opencensus-ext-azure->azure-ai-ml<2.0,>=1.10.0->azureml-rag[azure,cognitive_search,document_parsing,langchain]->promptflow-rag==0.1.0) (0.3.0)\nRequirement already satisfied: cachetools<6.0,>=2.0.0 in /anaconda/envs/jupyter_env/lib/python3.8/site-packages (from google-auth<3.0.dev0,>=2.14.1->google-api-core<3.0.0,>=1.0.0->opencensus<1.0.0,>=0.11.4->opencensus-ext-azure->azure-ai-ml<2.0,>=1.10.0->azureml-rag[azure,cognitive_search,document_parsing,langchain]->promptflow-rag==0.1.0) (5.3.1)\nRequirement already satisfied: rsa<5,>=3.1.4 in /anaconda/envs/jupyter_env/lib/python3.8/site-packages (from google-auth<3.0.dev0,>=2.14.1->google-api-core<3.0.0,>=1.0.0->opencensus<1.0.0,>=0.11.4->opencensus-ext-azure->azure-ai-ml<2.0,>=1.10.0->azureml-rag[azure,cognitive_search,document_parsing,langchain]->promptflow-rag==0.1.0) (4.9)\nRequirement already satisfied: pyasn1<0.6.0,>=0.4.6 in /anaconda/envs/jupyter_env/lib/python3.8/site-packages (from pyasn1-modules>=0.2.1->google-auth<3.0.dev0,>=2.14.1->google-api-core<3.0.0,>=1.0.0->opencensus<1.0.0,>=0.11.4->opencensus-ext-azure->azure-ai-ml<2.0,>=1.10.0->azureml-rag[azure,cognitive_search,document_parsing,langchain]->promptflow-rag==0.1.0) (0.5.0)\nNote: you may need to restart the kernel to use updated packages.\n"
        }
      ],
      "execution_count": 1,
      "metadata": {
        "gather": {
          "logged": 1712725306438
        }
      }
    },
    {
      "cell_type": "code",
      "source": [
        "from pathlib import Path\n",
        "from azure.ai.ml import Input, Output, command, load_component\n",
        "from azure.ai.ml.entities import BuildContext, Environment\n",
        "from azure.ai.ml.constants import AssetTypes, InputOutputModes\n",
        "from azure.ai.ml.parallel import parallel_run_function, RunFunction"
      ],
      "outputs": [],
      "execution_count": 2,
      "metadata": {
        "gather": {
          "logged": 1715396921981
        },
        "jupyter": {
          "outputs_hidden": false,
          "source_hidden": false
        },
        "nteract": {
          "transient": {
            "deleting": false
          }
        }
      }
    },
    {
      "cell_type": "code",
      "source": [
        "%%writefile config.json\n",
        "{\n",
        "    \"subscription_id\": \"f464793a-e174-43cd-b473-47ac97c91075\",\n",
        "    \"resource_group\": \"Helen-ML\",\n",
        "    \"workspace_name\": \"ML-practice1\"\n",
        "}"
      ],
      "outputs": [
        {
          "output_type": "stream",
          "name": "stdout",
          "text": "Overwriting config.json\n"
        }
      ],
      "execution_count": 3,
      "metadata": {
        "microsoft": {
          "language": "plaintext"
        }
      }
    },
    {
      "cell_type": "code",
      "source": [
        "from azure.identity import DefaultAzureCredential, InteractiveBrowserCredential\n",
        "from azure.ai.ml import MLClient\n",
        "\n",
        "identity = None\n",
        "try:\n",
        "    credential = DefaultAzureCredential()\n",
        "    # Check if given credential can get token successfully.\n",
        "    credential.get_token(\"https://management.azure.com/.default\")\n",
        "except Exception as ex:\n",
        "    # Fall back to InteractiveBrowserCredential in case DefaultAzureCredential not work\n",
        "    credential = InteractiveBrowserCredential()\n",
        "\n",
        "ml_client = MLClient.from_config(credential=credential)"
      ],
      "outputs": [
        {
          "output_type": "stream",
          "name": "stderr",
          "text": "Found the config file in: ./config.json\n"
        }
      ],
      "execution_count": 4,
      "metadata": {
        "gather": {
          "logged": 1715396922263
        }
      }
    },
    {
      "cell_type": "code",
      "source": [
        "from pathlib import Path\n",
        "from azure.ai.ml.entities import BuildContext, Environment\n",
        "\n",
        "\"\"\"\n",
        "llm_rag_embeddings_doc_intel_environment = Environment(\n",
        "    name=\"llm_rag_embeddings_doc_intel\",\n",
        "    description=\"AzureML RAGs base crack_and_chunk environment with azure-ai-formrecognizer installed.\",\n",
        "    build=BuildContext(path=Path.cwd() / \"doc_intel_env\"),\n",
        ")\n",
        "\"\"\"\n",
        "llm_rag_embeddings_doc_intel_environment = ml_client.environments.get(\n",
        "    name=\"llm_rag_embeddings_doc_intel\", version=\"6\"\n",
        ")\n"
      ],
      "outputs": [],
      "execution_count": 5,
      "metadata": {
        "gather": {
          "logged": 1715396922679
        },
        "jupyter": {
          "outputs_hidden": false,
          "source_hidden": false
        },
        "nteract": {
          "transient": {
            "deleting": false
          }
        }
      }
    },
    {
      "cell_type": "markdown",
      "source": [
        "Define the crack_and_chunk_with_doc_intel_component_parallel which can be used in place of the crack_and_chunk_parallel Component in Vector Index creation Pipelines.\n",
        "\n",
        "Please reference this article for parallel job setup of ML pipeline. https://learn.microsoft.com/en-us/azure/machine-learning/how-to-use-parallel-job-in-pipeline?view=azureml-api-2&tabs=python \n",
        "\n",
        "Please reference this article for setting up optimum parameters of parallel job https://microsoft.github.io/azureml-ops-accelerator/4-Migrate/3-PerformanceTunePRS.html"
      ],
      "metadata": {
        "nteract": {
          "transient": {
            "deleting": false
          }
        }
      }
    },
    {
      "cell_type": "code",
      "source": [
        "crack_and_chunk_with_doc_intel_component_parallel = parallel_run_function(\n",
        "    # version=\"0.0.1\",\n",
        "    name=\"crack_and_chunk_with_doc_intel_parallel\",\n",
        "    display_name=\"Crack and Chunk Data leveraging Azure AI Document Intelligence for PDFs in parallel\",\n",
        "    description=\"\"\"Creates chunks from source data leveraging Azure AI Document Intelligence for PDFs in parallel.\n",
        "\n",
        "    Supported formats: md, txt, html/htm, pdf, ppt(x), doc(x), xls(x), py\"\"\",\n",
        "    inputs={\n",
        "        # Input AzureML Data\n",
        "        \"input_data\": Input(type=\"uri_folder\", mode=\"ro_mount\"),\n",
        "        # Files to handle from source\n",
        "        \"input_glob\": Input(\n",
        "            type=\"string\",\n",
        "            default=\"/**/*\",\n",
        "            description=\"Limit files opened from `input_data`, defaults to '**/*'\",\n",
        "        ),\n",
        "        \"allowed_extensions\": Input(\n",
        "            type=\"string\",\n",
        "            optional=True,\n",
        "            description=\"Comma separated list of extensions to include, if not provided the default list of supported extensions will be used. e.g. '.md,.txt,.html,.py,.pdf'\",\n",
        "        ),\n",
        "        # Chunking options\n",
        "        \"chunk_size\": Input(\n",
        "            type=\"integer\",\n",
        "            default=768,\n",
        "            description=\"Maximum number of tokens per chunk.\",\n",
        "        ),\n",
        "        \"chunk_overlap\": Input(\n",
        "            type=\"integer\",\n",
        "            default=0,\n",
        "            description=\"Number of tokens to overlap between chunks.\",\n",
        "        ),\n",
        "        \"use_rcts\": Input(\n",
        "            type=\"boolean\",\n",
        "            default=True,\n",
        "            description=\"Use langchain RecursiveTextSplitter to split chunks.\",\n",
        "        ),\n",
        "        # Augmentation options\n",
        "        \"data_source_url\": Input(\n",
        "            type=\"string\",\n",
        "            optional=True,\n",
        "            description=\"Base URL to join with file paths to create full source file URL for chunk metadata.\",\n",
        "        ),\n",
        "        \"document_path_replacement_regex\": Input(\n",
        "            type=\"string\",\n",
        "            optional=True,\n",
        "            description=\"A JSON string with two fields, 'match_pattern' and 'replacement_pattern' to be used with re.sub on the source url. e.g. '{\\\"match_pattern\\\": \\\"(.*)/articles/(.*)\\\", \\\"replacement_pattern\\\": \\\"\\\\1/\\\\2\\\"}' would remove '/articles' from the middle of the url.\",\n",
        "        ),\n",
        "        \"doc_intel_connection_id\": Input(\n",
        "            type=\"string\",\n",
        "            description=\"AzureML Connection ID for Custom Workspace Connection containing the `endpoint` key and `api_key` secret for an Azure AI Document Intelligence Service.\",\n",
        "        ),\n",
        "        \"use_layout\": Input(\n",
        "            type=\"boolean\",\n",
        "            default=True,\n",
        "            description=\"Use 'prebuilt-layout' model from Azure AI Document Intelligence, more expensive and slower but maintains more structure from original doc.\",\n",
        "        ),\n",
        "    },\n",
        "    outputs={\n",
        "        \"output_chunks\": Output(type=\"uri_folder\", mode=\"rw_mount\"),\n",
        "    },\n",
        "    input_data=\"${{inputs.input_data}}\",\n",
        "    instance_count=4,\n",
        "    max_concurrency_per_instance=4,\n",
        "    mini_batch_size=\"1\",\n",
        "    mini_batch_error_threshold=-1,\n",
        "    item_error_treshold=-1,\n",
        "    retry_settings=dict(max_retries=2, timeout=1200),\n",
        "    progress_update_timeout=259200,\n",
        "    logging_level=\"DEBUG\",\n",
        "    task=RunFunction(\n",
        "        code=Path.cwd() / \"crack_and_chunk_with_doc_intel\",\n",
        "        entry_script=\"crack_and_chunk_parallel.py\",\n",
        "        program_arguments=\"--input_data ${{inputs.input_data}}\\\n",
        "        --input_glob '${{inputs.input_glob}}'\\\n",
        "        $[[--allowed_extensions ${{inputs.allowed_extensions}}]]\\\n",
        "        --output_chunks ${{outputs.output_chunks}}\\\n",
        "        --chunk_size ${{inputs.chunk_size}}\\\n",
        "        --chunk_overlap ${{inputs.chunk_overlap}}\\\n",
        "        --use_rcts ${{inputs.use_rcts}}\\\n",
        "        $[[--data_source_url ${{inputs.data_source_url}}]]\\\n",
        "        $[[--document_path_replacement_regex '${{inputs.document_path_replacement_regex}}']]\\\n",
        "        --doc_intel_connection_id '${{inputs.doc_intel_connection_id}}'\\\n",
        "        --use_layout ${{inputs.use_layout}}\\ \",\n",
        "        environment=llm_rag_embeddings_doc_intel_environment,\n",
        "    ),\n",
        ")"
      ],
      "outputs": [],
      "execution_count": 6,
      "metadata": {
        "gather": {
          "logged": 1715396922880
        }
      }
    },
    {
      "cell_type": "markdown",
      "source": [
        "Define pipeline using the custom `crack_and_chunk_with_doc_intel_component_parallel along with the AzureML provided Components to embed and index your data."
      ],
      "metadata": {}
    },
    {
      "cell_type": "code",
      "source": [
        "ml_registry = MLClient(credential=ml_client._credential, registry_name=\"azureml\")\n",
        "\n",
        "# Reads input folder of files containing chunks and their metadata as batches, in parallel, and generates embeddings for each chunk. Output format is produced and loaded by `azureml.rag.embeddings.EmbeddingContainer`.\n",
        "generate_embeddings_component = ml_registry.components.get(\n",
        "    \"llm_rag_generate_embeddings\", label=\"latest\"\n",
        ")\n",
        "# Reads an input folder produced by `azureml.rag.embeddings.EmbeddingsContainer.save()` and pushes all documents (chunk, metadata, embedding_vector) into an Azure Cognitive Search index. Writes an MLIndex yaml detailing the index and embeddings model information.\n",
        "update_acs_index_component = ml_registry.components.get(\n",
        "    \"llm_rag_update_acs_index\", label=\"latest\"\n",
        ")\n",
        "# Takes a uri to a storage location where an MLIndex yaml is stored and registers it as an MLIndex Data asset in the AzureML Workspace.\n",
        "register_mlindex_asset_component = ml_registry.components.get(\n",
        "    \"llm_rag_register_mlindex_asset\", label=\"latest\"\n",
        ")"
      ],
      "outputs": [],
      "execution_count": 7,
      "metadata": {
        "gather": {
          "logged": 1715396924661
        }
      }
    },
    {
      "cell_type": "code",
      "source": [
        "from azure.ai.ml import Input, Output\n",
        "from azure.ai.ml.dsl import pipeline\n",
        "from azure.ai.ml.entities._job.pipeline._io import PipelineInput\n",
        "\n",
        "# Retrieve an already attached Azure Machine Learning Compute.\n",
        "cpu_compute_target = \"cpu-cluster2\"\n",
        "\n",
        "\n",
        "def use_automatic_compute(component):\n",
        "    component.set_resources(\n",
        "        instance_count=4,\n",
        "        max_concurrency_per_instance=4,\n",
        "        mini_batch_size=1,\n",
        "        mini_batch_error_threshold=-1,\n",
        "        retry_settings=dict(max_retries=2, timeout=1200),\n",
        "        item_error_treshold=-1,\n",
        "        progress_update_timeout=259200,\n",
        "        properties={\"compute_specification\": {\"automatic\": True}},\n",
        "        logging_level=\"DEBUG\",\n",
        "    )\n",
        "    return component\n",
        "\n",
        "\n",
        "def optional_pipeline_input_provided(input: PipelineInput):\n",
        "    return input._data is not None\n",
        "\n",
        "\n",
        "@pipeline(default_compute=cpu_compute_target)\n",
        "def uri_to_acs_parallel(\n",
        "    input_data: Input,\n",
        "    doc_intel_connection_id: str,\n",
        "    embeddings_model: str,\n",
        "    acs_config: str,\n",
        "    acs_connection_id: str,\n",
        "    asset_name: str,\n",
        "    chunk_size: int = 1024,\n",
        "    data_source_glob: str = \"*pdf\",\n",
        "    data_source_url: str = None,\n",
        "    document_path_replacement_regex: str = None,\n",
        "    use_layout: bool = True,\n",
        "    aoai_connection_id: str = None,\n",
        "    embeddings_container: Input = None,\n",
        "):\n",
        "    crack_and_chunk = crack_and_chunk_with_doc_intel_component_parallel(\n",
        "        input_data=input_data,\n",
        "        input_glob=data_source_glob,\n",
        "        chunk_size=chunk_size,\n",
        "        use_rcts=True,\n",
        "        data_source_url=data_source_url,\n",
        "        document_path_replacement_regex=document_path_replacement_regex,\n",
        "        doc_intel_connection_id=doc_intel_connection_id,\n",
        "        use_layout=True,\n",
        "    )\n",
        "\n",
        "    crack_and_chunk.inputs.input_data.mode = InputOutputModes.DOWNLOAD\n",
        "\n",
        "    generate_embeddings = generate_embeddings_component(\n",
        "        chunks_source=crack_and_chunk.outputs.output_chunks,\n",
        "        embeddings_container=embeddings_container,\n",
        "        embeddings_model=embeddings_model,\n",
        "    )\n",
        "\n",
        "    use_automatic_compute(generate_embeddings)\n",
        "\n",
        "    if optional_pipeline_input_provided(aoai_connection_id):\n",
        "        generate_embeddings.environment_variables[\n",
        "            \"AZUREML_WORKSPACE_CONNECTION_ID_AOAI\"\n",
        "        ] = aoai_connection_id\n",
        "    if optional_pipeline_input_provided(embeddings_container):\n",
        "        # If provided, previous_embeddings is expected to be a URI to an 'embeddings container' folder.\n",
        "        # Each folder under this folder is generated by a `generate_embeddings_component` run and can be reused for subsequent embeddings runs.\n",
        "        generate_embeddings.outputs.embeddings = Output(\n",
        "            type=\"uri_folder\", path=f\"{embeddings_container.path}/{{name}}\"\n",
        "        )\n",
        "\n",
        "    update_acs_index = update_acs_index_component(\n",
        "        embeddings=generate_embeddings.outputs.embeddings,\n",
        "        acs_config=acs_config,\n",
        "    )\n",
        "    if optional_pipeline_input_provided(acs_connection_id):\n",
        "        update_acs_index.environment_variables[\n",
        "            \"AZUREML_WORKSPACE_CONNECTION_ID_ACS\"\n",
        "        ] = acs_connection_id\n",
        "\n",
        "    register_mlindex = register_mlindex_asset_component(\n",
        "        storage_uri=update_acs_index.outputs.index,\n",
        "        asset_name=asset_name,\n",
        "    )\n",
        "    return {\n",
        "        \"mlindex_asset_uri\": update_acs_index.outputs.index,\n",
        "        \"mlindex_asset_id\": register_mlindex.outputs.asset_id,\n",
        "    }"
      ],
      "outputs": [],
      "execution_count": 8,
      "metadata": {
        "gather": {
          "logged": 1715396924795
        }
      }
    },
    {
      "cell_type": "markdown",
      "source": [
        "Get the connections to Azure OpenAI (for embeddings with `text-embedding-ada-002`) and Azure Cognitive Search."
      ],
      "metadata": {}
    },
    {
      "cell_type": "code",
      "source": [
        "aoai_connection = ml_client.connections.get(\"AOAI-westus\")\n",
        "acs_connection = ml_client.connections.get(\"cog-serch-westus\")"
      ],
      "outputs": [
        {
          "output_type": "stream",
          "name": "stderr",
          "text": "Method connections: This is an experimental method, and may change at any time. Please see https://aka.ms/azuremlexperimental for more information.\n"
        }
      ],
      "execution_count": 9,
      "metadata": {
        "gather": {
          "logged": 1715396924977
        }
      }
    },
    {
      "cell_type": "markdown",
      "source": [
        "Create a Custom Connection with details for an Azure AI Document Intelligence Service.\n",
        "[Setup instructions for Azure AI Document Intelligence](https://learn.microsoft.com/azure/ai-services/document-intelligence/create-document-intelligence-resource?view=doc-intel-3.1.0)\n",
        "\n",
        "Use the Connections UI in an AzureML Workspace, under the Promptflow tab, to create a connection with these fields: ![custom_doc_intel_connection.png](./assets/custom_doc_intel_connection.png)\n",
        "\n",
        "It's not yet supported to create/retrieve Custom Connections using SDK, so you will need to create it using the UI and we'll use string replacement below to get the ID for this custom connection to pass to our pipeline."
      ],
      "metadata": {}
    },
    {
      "cell_type": "code",
      "source": [
        "document_intelligence_connection_id = aoai_connection.id.replace(\n",
        "    \"AOAI-westus\", \"doc-intelligence\"\n",
        ")\n",
        "document_intelligence_connection_id"
      ],
      "outputs": [
        {
          "output_type": "execute_result",
          "execution_count": 10,
          "data": {
            "text/plain": "'/subscriptions/f464793a-e174-43cd-b473-47ac97c91075/resourceGroups/Helen-ML/providers/Microsoft.MachineLearningServices/workspaces/ML-practice1/connections/doc-intelligence'"
          },
          "metadata": {}
        }
      ],
      "execution_count": 10,
      "metadata": {
        "gather": {
          "logged": 1715396925114
        }
      }
    },
    {
      "cell_type": "code",
      "source": [
        "import json\n",
        "from azure.ai.ml import Input\n",
        "\n",
        "embeddings_model = (\n",
        "    \"azure_open_ai://deployment/text-embedding-ada-002/model/text-embedding-ada-002\"\n",
        ")\n",
        "\n",
        "data_source = \"wasbs://doc-intelligence-container9@helenworkspace6069790955.blob.core.windows.net\"\n",
        "# data_source = Path.cwd() / \"pdfs\"\n",
        "asset_name = f\"my-index-simple\"\n",
        "\n",
        "pipeline_job = uri_to_acs_parallel(\n",
        "    input_data=Input(type=\"uri_folder\", path=str(data_source)),\n",
        "    # data_source_glob=\"**/*\",\n",
        "    data_source_glob=\"*pdf\",\n",
        "    data_source_url=None,\n",
        "    document_path_replacement_regex=None,\n",
        "    doc_intel_connection_id=document_intelligence_connection_id,\n",
        "    use_layout=True,\n",
        "    embeddings_model=embeddings_model,\n",
        "    aoai_connection_id=aoai_connection.id,\n",
        "    embeddings_container=Input(\n",
        "        type=\"uri_folder\",\n",
        "        path=f\"azureml://datastores/workspaceblobstore/paths/embeddings/{asset_name}\",\n",
        "    ),\n",
        "    acs_config=json.dumps(\n",
        "        {\n",
        "            \"index_name\": asset_name,\n",
        "        }\n",
        "    ),\n",
        "    acs_connection_id=acs_connection.id,\n",
        "    asset_name=asset_name,\n",
        ")\n",
        "pipeline_job.display_name = asset_name\n",
        "\n",
        "# Properties for Vector Index UI\n",
        "pipeline_job.properties[\"azureml.mlIndexAssetName\"] = asset_name\n",
        "pipeline_job.properties[\"azureml.mlIndexAssetKind\"] = \"acs\"\n",
        "pipeline_job.properties[\"azureml.mlIndexAssetSource\"] = \"AzureML Data\""
      ],
      "outputs": [],
      "execution_count": 11,
      "metadata": {
        "gather": {
          "logged": 1715396925303
        }
      }
    },
    {
      "cell_type": "code",
      "source": [
        "submission_name = f\"crack-parallel-embedding-serial\"\n",
        "print(f\"Submitting pipeline job to experiment: {submission_name}\")\n",
        "running_pipeline_job = ml_client.jobs.create_or_update(\n",
        "    pipeline_job, experiment_name=submission_name\n",
        ")\n",
        "\n",
        "print(f\"Submitted run, url: {running_pipeline_job.studio_url}\")"
      ],
      "outputs": [
        {
          "output_type": "stream",
          "name": "stderr",
          "text": "Class AutoDeleteSettingSchema: This is an experimental class, and may change at any time. Please see https://aka.ms/azuremlexperimental for more information.\nClass AutoDeleteConditionSchema: This is an experimental class, and may change at any time. Please see https://aka.ms/azuremlexperimental for more information.\nClass BaseAutoDeleteSettingSchema: This is an experimental class, and may change at any time. Please see https://aka.ms/azuremlexperimental for more information.\nClass IntellectualPropertySchema: This is an experimental class, and may change at any time. Please see https://aka.ms/azuremlexperimental for more information.\nClass ProtectionLevelSchema: This is an experimental class, and may change at any time. Please see https://aka.ms/azuremlexperimental for more information.\nClass BaseIntellectualPropertySchema: This is an experimental class, and may change at any time. Please see https://aka.ms/azuremlexperimental for more information.\nWarning: the provided asset name 'llm_rag_embeddings_doc_intel' will not be used for anonymous registration\nWarning: the provided asset name 'llm_rag_embeddings_doc_intel' will not be used for anonymous registration\nWarning: the provided asset name 'llm_rag_embeddings_doc_intel' will not be used for anonymous registration\nWarning: the provided asset name 'llm_rag_embeddings_doc_intel' will not be used for anonymous registration\npathOnCompute is not a known attribute of class <class 'azure.ai.ml._restclient.v2023_04_01_preview.models._models_py3.UriFolderJobOutput'> and will be ignored\npathOnCompute is not a known attribute of class <class 'azure.ai.ml._restclient.v2023_04_01_preview.models._models_py3.UriFolderJobOutput'> and will be ignored\npathOnCompute is not a known attribute of class <class 'azure.ai.ml._restclient.v2023_04_01_preview.models._models_py3.UriFolderJobOutput'> and will be ignored\npathOnCompute is not a known attribute of class <class 'azure.ai.ml._restclient.v2023_04_01_preview.models._models_py3.UriFileJobOutput'> and will be ignored\n"
        },
        {
          "output_type": "stream",
          "name": "stdout",
          "text": "Submitting pipeline job to experiment: crack-parallel-embedding-serial\nSubmitted run, url: https://ml.azure.com/runs/goofy_camel_rmfv43qfht?wsid=/subscriptions/f464793a-e174-43cd-b473-47ac97c91075/resourcegroups/Helen-ML/workspaces/ML-practice1&tid=16b3c013-d300-468d-ac64-7eda0820b6d3\n"
        }
      ],
      "execution_count": 12,
      "metadata": {
        "gather": {
          "logged": 1715396943674
        }
      }
    },
    {
      "cell_type": "code",
      "source": [
        "ml_client.jobs.stream(running_pipeline_job.name)"
      ],
      "outputs": [
        {
          "output_type": "stream",
          "name": "stdout",
          "text": "RunId: goofy_camel_rmfv43qfht\nWeb View: https://ml.azure.com/runs/goofy_camel_rmfv43qfht?wsid=/subscriptions/f464793a-e174-43cd-b473-47ac97c91075/resourcegroups/Helen-ML/workspaces/ML-practice1\n\nStreaming logs/azureml/executionlogs.txt\n========================================\n\n[2024-05-11 03:09:08Z] Completing processing run id 3168ea0b-7e00-4a7f-9a6c-5867d15c1080.\n[2024-05-11 03:09:09Z] Completing processing run id 092b6992-17cc-47bc-8baf-e916b26d0ff6.\n[2024-05-11 03:09:10Z] Completing processing run id 47fc3b76-ab91-4d10-9bcc-9b3f147b5e04.\n[2024-05-11 03:09:11Z] Completing processing run id f1e3d088-f22b-4a3d-924c-98db2567cd83.\n[2024-05-11 03:09:12Z] Finishing experiment: no runs left and nothing to schedule.\n\nExecution Summary\n=================\nRunId: goofy_camel_rmfv43qfht\nWeb View: https://ml.azure.com/runs/goofy_camel_rmfv43qfht?wsid=/subscriptions/f464793a-e174-43cd-b473-47ac97c91075/resourcegroups/Helen-ML/workspaces/ML-practice1\n\n"
        }
      ],
      "execution_count": 13,
      "metadata": {
        "gather": {
          "logged": 1715396954660
        }
      }
    },
    {
      "cell_type": "code",
      "source": [
        "%pip install azure-search-documents==11.4.0 b8"
      ],
      "outputs": [
        {
          "output_type": "stream",
          "name": "stdout",
          "text": "Requirement already satisfied: azure-search-documents==11.4.0 in /anaconda/envs/jupyter_env/lib/python3.8/site-packages (11.4.0)\nRequirement already satisfied: b8 in /anaconda/envs/jupyter_env/lib/python3.8/site-packages (0.2.3)\nRequirement already satisfied: azure-common~=1.1 in /anaconda/envs/jupyter_env/lib/python3.8/site-packages (from azure-search-documents==11.4.0) (1.1.28)\nRequirement already satisfied: azure-core<2.0.0,>=1.28.0 in /anaconda/envs/jupyter_env/lib/python3.8/site-packages (from azure-search-documents==11.4.0) (1.30.1)\nRequirement already satisfied: isodate>=0.6.0 in /anaconda/envs/jupyter_env/lib/python3.8/site-packages (from azure-search-documents==11.4.0) (0.6.1)\nRequirement already satisfied: msgpack>=1.0.0 in /anaconda/envs/jupyter_env/lib/python3.8/site-packages (from b8) (1.0.5)\nRequirement already satisfied: six>=1.11.0 in /anaconda/envs/jupyter_env/lib/python3.8/site-packages (from azure-core<2.0.0,>=1.28.0->azure-search-documents==11.4.0) (1.16.0)\nRequirement already satisfied: requests>=2.21.0 in /anaconda/envs/jupyter_env/lib/python3.8/site-packages (from azure-core<2.0.0,>=1.28.0->azure-search-documents==11.4.0) (2.31.0)\nRequirement already satisfied: typing-extensions>=4.6.0 in /anaconda/envs/jupyter_env/lib/python3.8/site-packages (from azure-core<2.0.0,>=1.28.0->azure-search-documents==11.4.0) (4.10.0)\nRequirement already satisfied: certifi>=2017.4.17 in /anaconda/envs/jupyter_env/lib/python3.8/site-packages (from requests>=2.21.0->azure-core<2.0.0,>=1.28.0->azure-search-documents==11.4.0) (2024.2.2)\nRequirement already satisfied: idna<4,>=2.5 in /anaconda/envs/jupyter_env/lib/python3.8/site-packages (from requests>=2.21.0->azure-core<2.0.0,>=1.28.0->azure-search-documents==11.4.0) (3.4)\nRequirement already satisfied: urllib3<3,>=1.21.1 in /anaconda/envs/jupyter_env/lib/python3.8/site-packages (from requests>=2.21.0->azure-core<2.0.0,>=1.28.0->azure-search-documents==11.4.0) (1.26.18)\nRequirement already satisfied: charset-normalizer<4,>=2 in /anaconda/envs/jupyter_env/lib/python3.8/site-packages (from requests>=2.21.0->azure-core<2.0.0,>=1.28.0->azure-search-documents==11.4.0) (3.3.2)\nNote: you may need to restart the kernel to use updated packages.\n"
        }
      ],
      "execution_count": 14,
      "metadata": {
        "jupyter": {
          "source_hidden": false,
          "outputs_hidden": false
        },
        "nteract": {
          "transient": {
            "deleting": false
          }
        }
      }
    },
    {
      "cell_type": "code",
      "source": [
        "from promptflow.rag import get_langchain_retriever_from_index\n",
        "\n",
        "question = \"What are the employees benefits\"\n",
        "\n",
        "my_index=ml_client.indexes.get(name=asset_name, label=\"latest\")\n",
        "index_langchain_retriever=get_langchain_retriever_from_index(\"azureml:/workspaces/645ce2a7-40bf-4da3-880b-ecb73f06fbb0/datastores/workspaceblobstore/paths/azureml/e458bd45-8ad6-49c8-b50e-bc329e55a101/index/\")\n",
        "index_langchain_retriever.get_relevant_documents(question)"
      ],
      "outputs": [
        {
          "output_type": "error",
          "ename": "FileNotFoundError",
          "evalue": "[Errno 2] No such file or directory: 'azureml:/workspaces/645ce2a7-40bf-4da3-880b-ecb73f06fbb0/datastores/workspaceblobstore/paths/azureml/e458bd45-8ad6-49c8-b50e-bc329e55a101/index/MLIndex'",
          "traceback": [
            "\u001b[0;31m---------------------------------------------------------------------------\u001b[0m",
            "\u001b[0;31mFileNotFoundError\u001b[0m                         Traceback (most recent call last)",
            "Cell \u001b[0;32mIn[20], line 6\u001b[0m\n\u001b[1;32m      3\u001b[0m question \u001b[38;5;241m=\u001b[39m \u001b[38;5;124m\"\u001b[39m\u001b[38;5;124mWhat are the employees benefits\u001b[39m\u001b[38;5;124m\"\u001b[39m\n\u001b[1;32m      5\u001b[0m my_index\u001b[38;5;241m=\u001b[39mml_client\u001b[38;5;241m.\u001b[39mindexes\u001b[38;5;241m.\u001b[39mget(name\u001b[38;5;241m=\u001b[39masset_name, label\u001b[38;5;241m=\u001b[39m\u001b[38;5;124m\"\u001b[39m\u001b[38;5;124mlatest\u001b[39m\u001b[38;5;124m\"\u001b[39m)\n\u001b[0;32m----> 6\u001b[0m index_langchain_retriever\u001b[38;5;241m=\u001b[39m\u001b[43mget_langchain_retriever_from_index\u001b[49m\u001b[43m(\u001b[49m\u001b[38;5;124;43m\"\u001b[39;49m\u001b[38;5;124;43mazureml:/workspaces/645ce2a7-40bf-4da3-880b-ecb73f06fbb0/datastores/workspaceblobstore/paths/azureml/e458bd45-8ad6-49c8-b50e-bc329e55a101/index/\u001b[39;49m\u001b[38;5;124;43m\"\u001b[39;49m\u001b[43m)\u001b[49m\n\u001b[1;32m      7\u001b[0m index_langchain_retriever\u001b[38;5;241m.\u001b[39mget_relevant_documents(question)\n",
            "File \u001b[0;32m/anaconda/envs/jupyter_env/lib/python3.8/site-packages/promptflow/rag/_get_langchain_retriever.py:17\u001b[0m, in \u001b[0;36mget_langchain_retriever_from_index\u001b[0;34m(path)\u001b[0m\n\u001b[1;32m     15\u001b[0m \u001b[38;5;66;03m# local path\u001b[39;00m\n\u001b[1;32m     16\u001b[0m mlindex_path \u001b[38;5;241m=\u001b[39m \u001b[38;5;28mstr\u001b[39m(Path(path) \u001b[38;5;241m/\u001b[39m \u001b[38;5;124m\"\u001b[39m\u001b[38;5;124mMLIndex\u001b[39m\u001b[38;5;124m\"\u001b[39m) \u001b[38;5;28;01mif\u001b[39;00m \u001b[38;5;129;01mnot\u001b[39;00m path\u001b[38;5;241m.\u001b[39mendswith(\u001b[38;5;124m\"\u001b[39m\u001b[38;5;124mMLIndex\u001b[39m\u001b[38;5;124m\"\u001b[39m) \u001b[38;5;28;01melse\u001b[39;00m path\n\u001b[0;32m---> 17\u001b[0m \u001b[38;5;28;01mwith\u001b[39;00m \u001b[38;5;28;43mopen\u001b[39;49m\u001b[43m(\u001b[49m\u001b[43mmlindex_path\u001b[49m\u001b[43m,\u001b[49m\u001b[43m \u001b[49m\u001b[38;5;124;43m\"\u001b[39;49m\u001b[38;5;124;43mr\u001b[39;49m\u001b[38;5;124;43m\"\u001b[39;49m\u001b[43m)\u001b[49m \u001b[38;5;28;01mas\u001b[39;00m f:\n\u001b[1;32m     18\u001b[0m     config \u001b[38;5;241m=\u001b[39m yaml\u001b[38;5;241m.\u001b[39msafe_load(f)\n\u001b[1;32m     19\u001b[0m     \u001b[38;5;28;01mreturn\u001b[39;00m MLIndex(mlindex_config\u001b[38;5;241m=\u001b[39mconfig)\u001b[38;5;241m.\u001b[39mas_langchain_retriever()\n",
            "\u001b[0;31mFileNotFoundError\u001b[0m: [Errno 2] No such file or directory: 'azureml:/workspaces/645ce2a7-40bf-4da3-880b-ecb73f06fbb0/datastores/workspaceblobstore/paths/azureml/e458bd45-8ad6-49c8-b50e-bc329e55a101/index/MLIndex'"
          ]
        }
      ],
      "execution_count": 20,
      "metadata": {
        "jupyter": {
          "source_hidden": false,
          "outputs_hidden": false
        },
        "nteract": {
          "transient": {
            "deleting": false
          }
        },
        "gather": {
          "logged": 1715397064648
        }
      }
    },
    {
      "cell_type": "code",
      "source": [
        "print(my_index)"
      ],
      "outputs": [
        {
          "output_type": "stream",
          "name": "stdout",
          "text": "creation_context:\n  created_at: '2024-05-11T02:45:25.796479+00:00'\n  created_by: Helen Zeng\n  created_by_type: User\n  last_modified_at: '2024-05-11T02:45:25.809769+00:00'\nid: azureml://locations/westus/workspaces/645ce2a7-40bf-4da3-880b-ecb73f06fbb0/data/my-index-simple/versions/1\nname: my-index-simple\npath: azureml://workspaces/645ce2a7-40bf-4da3-880b-ecb73f06fbb0/datastores/workspaceblobstore/paths/azureml/e458bd45-8ad6-49c8-b50e-bc329e55a101/index/\nproperties:\n  azureml.mlIndexAsset: 'true'\n  azureml.mlIndexAssetKind: acs\n  azureml.mlIndexAssetPipelineRunId: hungry_dolphin_vvfpthj4fr\n  azureml.mlIndexAssetSource: AzureML Data\nstage: Development\ntags:\n  PlaygroundType: '[''Text'']'\nversion: '1'\n\n"
        }
      ],
      "execution_count": 17,
      "metadata": {
        "jupyter": {
          "source_hidden": false,
          "outputs_hidden": false
        },
        "nteract": {
          "transient": {
            "deleting": false
          }
        },
        "gather": {
          "logged": 1715396969779
        }
      }
    }
  ],
  "metadata": {
    "categories": [
      "SDK v2",
      "sdk",
      "python",
      "generative-ai",
      "rag",
      "notebooks"
    ],
    "kernel_info": {
      "name": "python3"
    },
    "kernelspec": {
      "name": "python3",
      "language": "python",
      "display_name": "Python 3 (ipykernel)"
    },
    "language_info": {
      "name": "python",
      "version": "3.8.5",
      "mimetype": "text/x-python",
      "codemirror_mode": {
        "name": "ipython",
        "version": 3
      },
      "pygments_lexer": "ipython3",
      "nbconvert_exporter": "python",
      "file_extension": ".py"
    },
    "microsoft": {
      "host": {
        "AzureML": {
          "notebookHasBeenCompleted": true
        }
      },
      "ms_spell_check": {
        "ms_spell_check_language": "en"
      }
    },
    "nteract": {
      "version": "nteract-front-end@1.0.0"
    },
    "orig_nbformat": 4
  },
  "nbformat": 4,
  "nbformat_minor": 2
}