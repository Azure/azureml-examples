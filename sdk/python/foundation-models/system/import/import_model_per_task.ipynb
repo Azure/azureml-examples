{
 "cells": [
  {
   "attachments": {},
   "cell_type": "markdown",
   "id": "057d0d77",
   "metadata": {},
   "source": [
    "## Import models from Hugging Face hub for every supported task\n",
    "This sample notebook shows how to import and register models from [HuggingFace hub](https://huggingface.co/models) for every supported task. \n",
    "\n",
    "### How does import work?\n",
    "The import process runs as a job in your AzureML workspace using components from the `azureml` system registry. The models are downloaded and converted to MLflow packaged format. You can then register the models to your AzureML Workspace or Registry that makes them available for inference or fine tuning. \n",
    "\n",
    "### What models are supported for import?\n",
    "Any model from Hugging Face hub can be downloaded using the `download_model` component. Following table shows the task supported for mlflow along with the corresponding Huggingface model id for each task:\n",
    "\n",
    "|Task |Hugging Face Model ID|\n",
    "|:---|:---|\n",
    "|fill-mask|bert-base-cased|\n",
    "|token-classification|Jean-Baptiste/camembert-ner|\n",
    "|question-answering|deepset/minilm-uncased-squad2|\n",
    "|summarization|facebook/bart-large-cnn|\n",
    "|text-generation|distilgpt2|\n",
    "|text-classification|microsoft/deberta-base-mnli|\n",
    "|translation|t5-small|\n",
    "|image-classification|microsoft/resnet-50|\n",
    "|text-to-image|runwayml/stable-diffusion-v1-5|\n",
    "\n",
    "Conversion to MLflow will fail if you attempt to download a model that has a task type other than the above with error - `Exception: Unsupported task {task name}`\n",
    "\n",
    "### Why convert to MLflow?\n",
    "MLflow is AzureML's recommended model packaging format. \n",
    "* **Inference benefits**: AzureML supports no-code-deployment for models packaged as MLflow that enables a seamless inference experience for the models. Learn more about [MLflow model packaging](https://learn.microsoft.com/en-us/azure/machine-learning/concept-mlflow-models) and [no-code-deployment](https://learn.microsoft.com/en-us/azure/machine-learning/how-to-deploy-mlflow-models-online-endpoints?tabs=sdk). \n",
    "* **Fine tuning benefits**: Foundation models imported and converted to MLflow format can be fine tuned using AzureML's fine tuning pipelines. You can use the no-code UI wizards, or the code based job submission with the SDK or CLI/YAML. AzureML's fine tuning pipelines are built using components. This gives you the flexibility to compose your own fine tuning pipelines containing your own jobs for data transformation, post processing and the AzureML fine tuning components. Learn more about pipelines using [sdk](https://learn.microsoft.com/en-us/azure/machine-learning/how-to-create-component-pipeline-python) or [CLI](https://learn.microsoft.com/en-us/azure/machine-learning/how-to-create-component-pipelines-cli).\n",
    "\n",
    "### What happens if I just download model and register models without converting to MLflow? That's because the task of the model I'm interested in is not among the supported list of tasks.\n",
    "You can still download and register the model using the outputs of the `download_model` job. You need to [write your own inference code](https://learn.microsoft.com/en-us/azure/machine-learning/how-to-deploy-online-endpoints?tabs=python) in this case. It also means that fine tuning is not yet supported if the task type of the model you are interested in is not in the supported list.\n",
    "\n",
    "### Outline\n",
    "* Setup pre-requisites such as compute.\n",
    "* Pick a model to import.\n",
    "* Configure the import job.\n",
    "* Run the fine tuning job.\n",
    "* Register the fine tuned model. \n",
    "\n",
    "\n",
    "**Requirements** - In order to benefit from this tutorial, you will need:\n",
    "- A basic understanding of Machine Learning\n",
    "- An Azure account with an active subscription - [Create an account for free](https://azure.microsoft.com/free/?WT.mc_id=A261C142F)\n",
    "- An Azure ML workspace with computer cluster - [Configure workspace](https://aka.ms/azureml-workspace-configuration)\n",
    "- A python environment\n",
    "- Installed Azure Machine Learning Python SDK v2 - [install instructions](https://aka.ms/azureml-sdkv2-install) - check the getting started section\n",
    "\n",
    "\n",
    "**Motivations** - This notebook explains how to create model importing/publishing pipeline job in workspace using pipeline component registered in a registry and register each model corresponding to every task in workspace"
   ]
  },
  {
   "attachments": {},
   "cell_type": "markdown",
   "id": "5731a12d",
   "metadata": {},
   "source": [
    "## 1. Connect to Azure Machine Learning Workspace\n",
    "\n",
    "The [workspace](https://docs.microsoft.com/en-us/azure/machine-learning/concept-workspace) is the top-level resource for Azure Machine Learning, providing a centralized place to work with all the artifacts you create when you use Azure Machine Learning. In this section, we will connect to the workspace in which the job will be run.\n",
    "\n",
    "### 1.1 Import the required libraries"
   ]
  },
  {
   "cell_type": "code",
   "execution_count": null,
   "id": "bc9ca5d1",
   "metadata": {},
   "outputs": [],
   "source": [
    "# Import required libraries\n",
    "from azure.ai.ml import MLClient, UserIdentityConfiguration\n",
    "from azure.identity import (\n",
    "    DefaultAzureCredential,\n",
    "    InteractiveBrowserCredential,\n",
    ")\n",
    "from azure.ai.ml.dsl import pipeline"
   ]
  },
  {
   "attachments": {},
   "cell_type": "markdown",
   "id": "9832e1db",
   "metadata": {},
   "source": [
    "### 1.2 Configure credential\n",
    "\n",
    "We are using `DefaultAzureCredential` to get access to the workspace. \n",
    "`DefaultAzureCredential` should be capable of handling most Azure SDK authentication scenarios. \n",
    "\n",
    "Reference for more available credentials if it does not work for you: [configure credential example](https://aka.ms/azureml-workspace-configuration), [azure-identity reference doc](https://docs.microsoft.com/en-us/python/api/azure-identity/azure.identity?view=azure-python)."
   ]
  },
  {
   "cell_type": "code",
   "execution_count": null,
   "id": "044eb474",
   "metadata": {},
   "outputs": [],
   "source": [
    "try:\n",
    "    credential = DefaultAzureCredential()\n",
    "    # Check if given credential can get token successfully.\n",
    "    credential.get_token(\"https://management.azure.com/.default\")\n",
    "except Exception as ex:\n",
    "    # Fall back to InteractiveBrowserCredential in case DefaultAzureCredential not work\n",
    "    credential = InteractiveBrowserCredential()"
   ]
  },
  {
   "attachments": {},
   "cell_type": "markdown",
   "id": "f800d92a",
   "metadata": {},
   "source": [
    "### 1.3 Get a handle to the workspace\n",
    "\n",
    "We use the config file to connect to a workspace. The Azure ML workspace should be configured with a computer cluster. [Check this notebook for configure a workspace](https://aka.ms/azureml-workspace-configuration)\n",
    "\n",
    "If config file is not available user can update following parameters in place holders\n",
    "- SUBSCRIPTION_ID\n",
    "- RESOURCE_GROUP\n",
    "- WORKSPACE_NAME"
   ]
  },
  {
   "cell_type": "code",
   "execution_count": null,
   "id": "45063768",
   "metadata": {},
   "outputs": [],
   "source": [
    "# Get a handle to workspace\n",
    "try:\n",
    "    ml_client_ws = MLClient.from_config(credential=credential)\n",
    "except:\n",
    "    ml_client_ws = MLClient(\n",
    "        credential,\n",
    "        subscription_id=\"<SUBSCRIPTION_ID>\",\n",
    "        resource_group_name=\"<RESOURCE_GROUP>\",\n",
    "        workspace_name=\"<WORKSPACE_NAME>\",\n",
    "    )"
   ]
  },
  {
   "attachments": {},
   "cell_type": "markdown",
   "id": "0a4e09d7",
   "metadata": {},
   "source": [
    "### 1.4 Compute target setup\n",
    "\n",
    "#### Create or Attach existing AmlCompute\n",
    "A compute target is required to execute the Automated ML run. In this tutorial, you create AmlCompute as your training compute resource.\n",
    "\n",
    "#### Creation of AmlCompute takes approximately 5 minutes. \n",
    "If the AmlCompute with that name is already in your workspace this code will skip the creation process.\n",
    "As with other Azure services, there are limits on certain resources (e.g. AmlCompute) associated with the Azure Machine Learning service. Please read [this article](https://docs.microsoft.com/en-us/azure/machine-learning/service/how-to-manage-quotas) on the default limits and how to request more quota."
   ]
  },
  {
   "cell_type": "code",
   "execution_count": null,
   "id": "1b529d83",
   "metadata": {},
   "outputs": [],
   "source": [
    "from azure.ai.ml.entities import AmlCompute\n",
    "from azure.core.exceptions import ResourceNotFoundError\n",
    "\n",
    "compute_name = \"model-import-cluster\"\n",
    "\n",
    "try:\n",
    "    _ = ml_client_ws.compute.get(compute_name)\n",
    "    print(\"Found existing compute target.\")\n",
    "except ResourceNotFoundError:\n",
    "    print(\"Creating a new compute target...\")\n",
    "    compute_config = AmlCompute(\n",
    "        name=compute_name,\n",
    "        type=\"amlcompute\",\n",
    "        size=\"STANDARD_DS12_V2\",\n",
    "        idle_time_before_scale_down=120,\n",
    "        min_instances=0,\n",
    "        max_instances=6,\n",
    "    )\n",
    "    ml_client_ws.begin_create_or_update(compute_config).result()"
   ]
  },
  {
   "attachments": {},
   "cell_type": "markdown",
   "id": "c669c021",
   "metadata": {},
   "source": [
    "## 2. Dictionary containing task and model-id as Key-Value pair respectively"
   ]
  },
  {
   "cell_type": "code",
   "execution_count": null,
   "id": "f27fa858",
   "metadata": {},
   "outputs": [],
   "source": [
    "task_model_dict = {\n",
    "    \"fill-mask\": \"bert-base-cased\",\n",
    "    \"token-classification\": \"Jean-Baptiste/camembert-ner\",\n",
    "    \"question-answering\": \"deepset/minilm-uncased-squad2\",\n",
    "    \"summarization\": \"facebook/bart-large-cnn\",\n",
    "    \"text-generation\": \"distilgpt2\",\n",
    "    \"text-classification\": \"microsoft/deberta-base-mnli\",\n",
    "    \"translation\": \"t5-small\",\n",
    "    \"image-classification\": \"microsoft/resnet-50\",\n",
    "    \"text-to-image\": \"runwayml/stable-diffusion-v1-5\",\n",
    "}"
   ]
  },
  {
   "attachments": {},
   "cell_type": "markdown",
   "id": "c8ff77ed",
   "metadata": {},
   "source": [
    "## 3. Start Submitting Jobs for every task parallely"
   ]
  },
  {
   "cell_type": "code",
   "execution_count": null,
   "id": "495bdb38",
   "metadata": {},
   "outputs": [],
   "source": [
    "# Run parallel jobs using multiprocessing\n",
    "import pipeline_job\n",
    "from multiprocessing import Pool\n",
    "\n",
    "\n",
    "num_processors = 9\n",
    "p = Pool(processes=num_processors)\n",
    "outputs = p.starmap(\n",
    "    pipeline_job.create_pipeline_job,\n",
    "    [\n",
    "        (\n",
    "            model_id,\n",
    "            task,\n",
    "            compute_name,\n",
    "        )\n",
    "        for task, model_id in task_model_dict.items()\n",
    "    ],\n",
    ")"
   ]
  },
  {
   "attachments": {},
   "cell_type": "markdown",
   "id": "b61a7f05",
   "metadata": {},
   "source": [
    "## 4. Raise an Error if any import job fails"
   ]
  },
  {
   "cell_type": "code",
   "execution_count": null,
   "id": "69a8e8da",
   "metadata": {},
   "outputs": [],
   "source": [
    "failed_model_lists = []\n",
    "for output in outputs:\n",
    "    for model_id, job_status in output.items():\n",
    "        if not job_status:\n",
    "            failed_model_lists.append(model_id)\n",
    "\n",
    "if failed_model_lists:\n",
    "    raise Exception(\n",
    "        f\"Import Job failed for given models {', '.join(failed_model_lists)}\"\n",
    "    )"
   ]
  }
 ],
 "metadata": {
  "kernelspec": {
   "display_name": "Python 3.10 - SDK V2",
   "language": "python",
   "name": "python310-sdkv2"
  },
  "language_info": {
   "codemirror_mode": {
    "name": "ipython",
    "version": 3
   },
   "file_extension": ".py",
   "mimetype": "text/x-python",
   "name": "python",
   "nbconvert_exporter": "python",
   "pygments_lexer": "ipython3",
   "version": "3.10.7"
  }
 },
 "nbformat": 4,
 "nbformat_minor": 5
}
