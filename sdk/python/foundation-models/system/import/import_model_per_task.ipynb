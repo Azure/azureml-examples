{
 "cells": [
  {
   "cell_type": "code",
   "execution_count": 1,
   "id": "8ee075b1",
   "metadata": {},
   "outputs": [],
   "source": [
    "import papermill as pm\n",
    "import multiprocessing\n",
    "import os"
   ]
  },
  {
   "cell_type": "code",
   "execution_count": 2,
   "id": "aa9bfc1e",
   "metadata": {},
   "outputs": [],
   "source": [
    "def run_papermill(config):\n",
    "    notebook = \"import_model_into_registry.ipynb\"\n",
    "    model_id = config[\"config\"][\"MODEL_ID\"]\n",
    "    output_dir = f\"papermill_output/{model_id}\"\n",
    "    \n",
    "    if not os.path.exists(output_dir):\n",
    "        os.makedirs(output_dir)\n",
    "    output_path = f\"{output_dir}/{notebook}\"\n",
    "    \n",
    "    if os.path.exists(output_path):\n",
    "        os.remove(output_path)\n",
    "    \n",
    "    pm.execute_notebook(notebook, output_path, parameters = config)"
   ]
  },
  {
   "cell_type": "code",
   "execution_count": 3,
   "id": "16f43729",
   "metadata": {},
   "outputs": [],
   "source": [
    "configs = {\"1\": {\"MODEL_ID\": \"bert-base-cased\"}, \"2\": {\"MODEL_ID\": \"bert-base-uncased\"}}"
   ]
  },
  {
   "cell_type": "code",
   "execution_count": 4,
   "id": "03325f4e",
   "metadata": {},
   "outputs": [],
   "source": [
    "processes = []\n",
    "for config in configs:\n",
    "    config_dict = [{'config':configs[config]}]\n",
    "    p = multiprocessing.Process(target = run_papermill,args = (config_dict))\n",
    "    processes.append(p)"
   ]
  },
  {
   "cell_type": "code",
   "execution_count": null,
   "id": "f0012faf",
   "metadata": {},
   "outputs": [],
   "source": [
    "for process in processes:\n",
    "    process.start()\n",
    "    \n",
    "    \n",
    "for process in processes:\n",
    "    process.join()"
   ]
  }
 ],
 "metadata": {
  "kernelspec": {
   "display_name": "Python 3 (ipykernel)",
   "language": "python",
   "name": "python3"
  },
  "language_info": {
   "codemirror_mode": {
    "name": "ipython",
    "version": 3
   },
   "file_extension": ".py",
   "mimetype": "text/x-python",
   "name": "python",
   "nbconvert_exporter": "python",
   "pygments_lexer": "ipython3",
   "version": "3.10.7"
  }
 },
 "nbformat": 4,
 "nbformat_minor": 5
}
