{
 "cells": [
  {
   "attachments": {},
   "cell_type": "markdown",
   "metadata": {},
   "source": [
    "## Question Answering - Extractive Q&A with the SQUAD (Wikipedia Q&A) dataset\n",
    "\n",
    "This sample shows how to use `question-answering` components from the `azureml` system registry to fine tune a model to extract answers from a given context using the SQUAD dataset. We then deploy it to an online endpoint for real time inference. The model is trained on tiny sample of the dataset with a small number of epochs to illustrate the fine tuning approach.\n",
    "\n",
    "### Training data\n",
    "We will use the [SQUAD](https://huggingface.co/datasets/squad) dataset. A copy of this dataset is available in the [squad-dataset](./squad-dataset/) folder for easy access. The [original source](https://rajpurkar.github.io/SQuAD-explorer/) of dataset describes it as follows: _\"Stanford Question Answering Dataset (SQuAD) is a reading comprehension dataset, consisting of questions posed by crowdworkers on a set of Wikipedia articles, where the answer to every question is a segment of text, or span, from the corresponding reading passage, or the question might be unanswerable.\"_\n",
    "\n",
    "### Model\n",
    "Models that can perform the `fill-mask` task are generally good foundation models to fine tune for `question-answering`, specifically the extractive Q&A type. We will use the `bert-base-uncased` model in this notebook. If you opened this notebook from a specific model card, remember to replace the specific model name. Optionally, if you need to fine tune a model that is available on HuggingFace, but not available in `azureml` system registry, you can either [import](https://github.com/Azure/azureml-examples) the model or use the `huggingface_id` parameter instruct the components to pull the model directly from HuggingFace.  \n",
    "\n",
    "### Outline\n",
    "* Setup pre-requisites such as compute.\n",
    "* Pick a model to fine tune.\n",
    "* Pick and explore training data.\n",
    "* Configure the fine tuning job.\n",
    "* Run the fine tuning job.\n",
    "* Register the fine tuned model. \n",
    "* Deploy the fine tuned model for real time inference.\n",
    "* Clean up resources. \n",
    "\n"
   ]
  },
  {
   "attachments": {},
   "cell_type": "markdown",
   "metadata": {},
   "source": [
    "### 1. Setup pre-requisites\n",
    "* Install dependencies\n",
    "* Connect to AzureML Workspace. Learn more at [set up SDK authentication](https://learn.microsoft.com/en-us/azure/machine-learning/how-to-setup-authentication?tabs=sdk). Replace  `<WORKSPACE_NAME>`, `<RESOURCE_GROUP>` and `<SUBSCRIPTION_ID>` below.\n",
    "* Connect to `azureml` system registry\n",
    "* Set an optional experiment name\n",
    "* Check or create compute. A single GPU node can have multiple GPU cards. For example, in one node of `Standard_ND40rs_v2` there are 8 NVIDIA V100 GPUs while in `Standard_NC12s_v3`, there are 2 NVIDIA V100 GPUs. Refer to the [docs](https://learn.microsoft.com/en-us/azure/virtual-machines/sizes-gpu) for this information. The number of GPU cards per node is set in the param `gpus_per_node` below. Setting this value correctly will ensure utilization of all GPUs in the node. The recommended GPU compute SKUs can be found [here](https://learn.microsoft.com/en-us/azure/virtual-machines/ncv3-series) and [here](https://learn.microsoft.com/en-us/azure/virtual-machines/ndv2-series)."
   ]
  },
  {
   "cell_type": "code",
   "execution_count": null,
   "metadata": {},
   "outputs": [],
   "source": [
    "from azure.ai.ml import MLClient\n",
    "from azure.identity import DefaultAzureCredential, InteractiveBrowserCredential, ClientSecretCredential\n",
    "from azure.ai.ml.entities import AmlCompute\n",
    "import time\n",
    "\n",
    "try:\n",
    "    credential = DefaultAzureCredential()\n",
    "    credential.get_token(\"https://management.azure.com/.default\")\n",
    "except Exception as ex:\n",
    "    credential = InteractiveBrowserCredential()\n",
    "\n",
    "workspace_ml_client = MLClient(\n",
    "        credential,\n",
    "        subscription_id =  \"<SUBSCRIPTION_ID>\",\n",
    "        resource_group_name =  \"<RESOURCE_GROUP>\",\n",
    "        workspace_name =  \"WORKSPACE_NAME>\"\n",
    ")\n",
    "registry_ml_client = MLClient(credential, registry_name=\"azureml-preview\")\n",
    "\n",
    "experiment_name = \"question-answering-extractive-qna\"\n",
    "\n",
    "# If you already have a gpu cluster, mention it here. Else will create a new one with the name 'gpu-cluster-big'\n",
    "compute_cluster = \"gpu-cluster-big\"\n",
    "try:\n",
    "    workspace_ml_client.compute.get(compute_cluster)\n",
    "except Exception as ex:\n",
    "    compute = AmlCompute(\n",
    "        name = compute_cluster, \n",
    "        size= \"Standard_ND40rs_v2\",\n",
    "        max_instances= 2 # For multi node training set this to an integer value more than 1\n",
    "    )\n",
    "    workspace_ml_client.compute.begin_create_or_update(compute).wait()\n",
    "\n",
    "# This is the number of GPUs in a single node of the selected 'vm_size' compute. \n",
    "# Setting this to less than the number of GPUs will result in underutilized GPUs, taking longer to train.\n",
    "# Setting this to more than the number of GPUs will result in an error.\n",
    "gpus_per_node = 2 \n",
    "\n",
    "# genrating a unique timestamp that can be used for names and versions that need to be unique\n",
    "timestamp = str(int(time.time())) \n"
   ]
  },
  {
   "attachments": {},
   "cell_type": "markdown",
   "metadata": {},
   "source": [
    "### 2. Pick a foundation model to fine tune\n",
    "\n",
    "Models that support `fill-mask` tasks are good candidates to fine tune for extractive Q&A style `question answering`. You can browse these models in the Model Catalog in the AzureML Studio, filtering by the `fill-mask` task. In this example, we use the `bert-base-uncased` model. If you have opened this notebook for a different model, replace the model name and version accordingly. \n",
    "\n",
    "Note the model id property of the model. This will be passed as input to the fine tuning job. This is also available as the `Asset ID` field in model details page in AzureML Studio Model Catalog. "
   ]
  },
  {
   "cell_type": "code",
   "execution_count": null,
   "metadata": {},
   "outputs": [],
   "source": [
    "model_name = \"bert-base-uncased\"\n",
    "model_version = \"3\"\n",
    "foundation_model=registry_ml_client.models.get(model_name, model_version)\n",
    "print (\"\\n\\nUsing model name: {0}, version: {1}, id: {2} for fine tuning\".format(foundation_model.name, foundation_model.version, foundation_model.id))"
   ]
  },
  {
   "attachments": {},
   "cell_type": "markdown",
   "metadata": {},
   "source": [
    "### 3. Pick the dataset for fine-tuning the model\n",
    "\n",
    "A copy of the SQUAD dataset is available in the [squad-dataset](./squad-dataset/) folder. The next few cells show basic data preparation for fine tuning:\n",
    "* Visualize some data rows. Take note of the dataset fields: `question`, `context`, `answers`, `id` and `title`. The `answers` field has `start_key` and `text` fields in json format inside the `answers` field . The keys `question` and `context`, `answers`, `answer_start` and `text` are the relevant fields that need to be mapped to the parameters of the fine tuning pipeline.\n",
    "* The dataset does not have a test split, split test into two halves, one for test and other for validation.\n",
    "* We want this sample to run quickly, so save smaller `train` and `validation` files containing 5% of the original. This means the fine tuned model will have lower accuracy, hence it should not be put to real-world use. "
   ]
  },
  {
   "cell_type": "code",
   "execution_count": null,
   "metadata": {},
   "outputs": [],
   "source": [
    "# load the train.jsonl and validation.jsonl files from the ./squad-dataset/ folder and show first 5 rows\n",
    "import pandas as pd\n",
    "pd.set_option('display.max_colwidth', 0) # set the max column width to 0 to display the full text\n",
    "train_df = pd.read_json('squad-dataset/train.jsonl', lines=True)\n",
    "validation_df = pd.read_json('squad-dataset/validation.jsonl', lines=True)\n",
    "train_df.head()\n"
   ]
  },
  {
   "cell_type": "code",
   "execution_count": null,
   "metadata": {},
   "outputs": [],
   "source": [
    "# save 5% of the rows from the train dataframe into files with small_ prefix in the ./squad-dataset folder\n",
    "train_df.sample(frac=0.05).to_json(\"./squad-dataset/small_train.jsonl\", orient='records', lines=True)\n",
    "# the original dataset does not have a test split, so split the validation dataframe into validation and test dataframes equally\n",
    "validation_df, test_df = validation_df[:len(validation_df)//2], validation_df[len(validation_df)//2:]\n",
    "# save 5% of the rows from the validation and test dataframes into files with small_ prefix in the ./squad-dataset folder\n",
    "validation_df.sample(frac=0.05).to_json(\"./squad-dataset/small_validation.jsonl\", orient='records', lines=True)\n",
    "test_df.sample(frac=0.05).to_json(\"./squad-dataset/small_test.jsonl\", orient='records', lines=True)"
   ]
  },
  {
   "attachments": {},
   "cell_type": "markdown",
   "metadata": {},
   "source": [
    "### 4. Submit the fine tuning job using the the model and data as inputs\n",
    " \n",
    "Create the job that uses the `question-answering` pipeline component. [Learn more]() about all the parameters supported for fine tuning."
   ]
  },
  {
   "cell_type": "code",
   "execution_count": null,
   "metadata": {},
   "outputs": [],
   "source": [
    "from azure.ai.ml.dsl import pipeline\n",
    "from azure.ai.ml.entities import CommandComponent, PipelineComponent, Job, Component\n",
    "from azure.ai.ml import PyTorchDistribution, Input\n",
    "\n",
    "# fetch the pipeline component\n",
    "pipeline_component_func = registry_ml_client.components.get(name=\"question_answering_pipeline\", version=\"0.0.1\")\n",
    "\n",
    "# define the pipeline job\n",
    "@pipeline()\n",
    "def create_pipeline():\n",
    "    finetuning_job = pipeline_component_func( \n",
    "\n",
    "        # specify the foundation model available in the azureml system registry id identified in step #3\n",
    "        mlflow_model_path = foundation_model.id,\n",
    "        # huggingface_id = 'bert-base-uncased', # if you want to use a huggingface model, uncomment this line and comment the above line\n",
    "        \n",
    "        compute_model_selector = compute_cluster,\n",
    "        compute_preprocess = compute_cluster,\n",
    "        compute_finetune = compute_cluster,\n",
    "\n",
    "        # map the dataset splits to parameters\n",
    "        train_file_path = Input(type=\"uri_file\", path=\"./squad-dataset/small_train.jsonl\"),\n",
    "        validation_file_path = Input(type=\"uri_file\", path=\"./squad-dataset/small_validation.jsonl\"),\n",
    "        test_file_path = Input(type=\"uri_file\", path=\"./squad-dataset/small_test.jsonl\"),\n",
    "\n",
    "        # The following parameters map to the dataset fields\n",
    "\n",
    "        # the question whose answer needs to be extracted from the provided context \n",
    "        # question_key parameter maps to the \"question\" field in the SQuAD dataset\n",
    "        question_key = \"question\",\n",
    "\n",
    "        # the context that contains the answer to the question\n",
    "        # context_key parameter maps to the \"context\" field in the SQuAD dataset\n",
    "        context_key = \"context\",\n",
    "\n",
    "        # The value of this field is text in json format with two nested keys, answer_start_key and answer_text_key with their corresponding values\n",
    "        # answers_key parameter maps to the \"answer\" field in the SQuAD dataset\n",
    "        answers_key = \"answer\",\n",
    "\n",
    "        # Refers to the position where the answer beings in context. Needs a value that maps to a nested key in the values of the answers_key parameter.\n",
    "        # in the SQuAD dataset, the answer_start_key maps \"answer_start\" under \"answer\"\n",
    "        answer_start_key = \"answer_start\",\n",
    "\n",
    "        # Contains the answer to the question. Needs a value that maps to a nested key in the values of the answers_key parameter\n",
    "        # in the SQuAD dataset, the answer_text_key maps to \"text\" under \"answer\"\n",
    "        answer_text_key = \"text\",\n",
    "        \n",
    "        # training settings\n",
    "        number_of_gpu_to_use_finetuning = gpus_per_node, # set to the number of GPUs available in the compute\n",
    "        num_train_epochs = 2,\n",
    "        learning_rate = 2e-5, \n",
    "    )\n",
    "    return {\n",
    "        # map the output of the fine tuning job to the output of the pipeline job so that we can easily register the fine tuned model\n",
    "        # registering the model is required to deploy the model to an online or batch endpoint\n",
    "        \"trained_model\": finetuning_job.outputs.mlflow_model_folder\n",
    "    }\n",
    "\n",
    "pipeline_object = create_pipeline()\n",
    "\n",
    "# don't use cached results from previous jobs\n",
    "pipeline_object.settings.force_rerun = True"
   ]
  },
  {
   "attachments": {},
   "cell_type": "markdown",
   "metadata": {},
   "source": [
    "Submit the job"
   ]
  },
  {
   "cell_type": "code",
   "execution_count": null,
   "metadata": {},
   "outputs": [],
   "source": [
    "# submit the pipeline job\n",
    "pipeline_job = workspace_ml_client.jobs.create_or_update(pipeline_object, experiment_name=experiment_name)\n",
    "# wait for the pipeline job to complete\n",
    "workspace_ml_client.jobs.stream(pipeline_job.name)"
   ]
  },
  {
   "attachments": {},
   "cell_type": "markdown",
   "metadata": {},
   "source": [
    "### 5. Register the fine tuned model with the workspace\n",
    "\n",
    "We will register the model from the output of the fine tuning job. This will track lineage between the fine tuned model and the fine tuning job. The fine tuning job, further, tracks lineage to the foundation model, data and training code."
   ]
  },
  {
   "cell_type": "code",
   "execution_count": null,
   "metadata": {},
   "outputs": [],
   "source": [
    "from azure.ai.ml.entities import Model\n",
    "from azure.ai.ml.constants import AssetTypes\n",
    "# check if the `trained_model` output is available\n",
    "print (\"pipeline job outputs: \", workspace_ml_client.jobs.get(pipeline_job.name).outputs)\n",
    "\n",
    "#fetch the model from pipeline job output - not working, hence fetching from fine tune child job\n",
    "model_path_from_job = (\"azureml://jobs/{0}/outputs/{1}\".format(pipeline_job.name, \"trained_model\"))\n",
    "\n",
    "finetuned_model_name = model_name + \"-extractive-qna\"\n",
    "print(\"path to register model: \", model_path_from_job)\n",
    "prepare_to_register_model = Model(\n",
    "    path=model_path_from_job,\n",
    "    type=AssetTypes.MLFLOW_MODEL,\n",
    "    name=finetuned_model_name,\n",
    "    version=timestamp, # use timestamp as version to avoid version conflict\n",
    "    description=model_name + \" fine tuned model for extractive Q&A\"\n",
    ")\n",
    "print(\"prepare to register model: \\n\", prepare_to_register_model)\n",
    "#register the model from pipeline job output \n",
    "registered_model = workspace_ml_client.models.create_or_update(prepare_to_register_model)\n",
    "print (\"registered model: \\n\", registered_model)\n"
   ]
  },
  {
   "attachments": {},
   "cell_type": "markdown",
   "metadata": {},
   "source": [
    "### 6. Deploy the fine tuned model to an online endpoint\n",
    "Online endpoints give a durable REST API that can be used to integrate with applications that need to use the model."
   ]
  },
  {
   "cell_type": "code",
   "execution_count": null,
   "metadata": {},
   "outputs": [],
   "source": [
    "import time, sys\n",
    "from azure.ai.ml.entities import ManagedOnlineEndpoint, ManagedOnlineDeployment\n",
    "\n",
    "# Create online endpoint - endpoint names need to be unique in a region, hence using timestamp to create unique endpoint name\n",
    "\n",
    "online_endpoint_name = \"ext-qna-\" + timestamp\n",
    "# create an online endpoint\n",
    "endpoint = ManagedOnlineEndpoint(\n",
    "    name=online_endpoint_name,\n",
    "    description=\"Online endpoint for \" + registered_model.name + \", fine tuned model for emotion detection\",\n",
    "    auth_mode=\"key\"\n",
    ")\n",
    "workspace_ml_client.begin_create_or_update(endpoint).wait()"
   ]
  },
  {
   "cell_type": "code",
   "execution_count": null,
   "metadata": {},
   "outputs": [],
   "source": [
    "# create a deployment\n",
    "demo_deployment = ManagedOnlineDeployment(\n",
    "    name=\"demo\",\n",
    "    endpoint_name=online_endpoint_name,\n",
    "    model=registered_model.id,\n",
    "    instance_type=\"Standard_DS2_v2\",\n",
    "    instance_count=1,\n",
    ")\n",
    "workspace_ml_client.online_deployments.begin_create_or_update(demo_deployment).wait()\n",
    "endpoint.traffic = {\"demo\": 100}\n",
    "workspace_ml_client.begin_create_or_update(endpoint).result()"
   ]
  },
  {
   "attachments": {},
   "cell_type": "markdown",
   "metadata": {},
   "source": [
    "### 7. Test the endpoint with sample data\n",
    "\n",
    "We will fetch some sample data from the test dataset and submit to online endpoint for inference. We will then show the display the scored labels alongside the ground truth labels"
   ]
  },
  {
   "cell_type": "code",
   "execution_count": 32,
   "metadata": {},
   "outputs": [
    {
     "data": {
      "text/html": [
       "<div>\n",
       "<style scoped>\n",
       "    .dataframe tbody tr th:only-of-type {\n",
       "        vertical-align: middle;\n",
       "    }\n",
       "\n",
       "    .dataframe tbody tr th {\n",
       "        vertical-align: top;\n",
       "    }\n",
       "\n",
       "    .dataframe thead th {\n",
       "        text-align: right;\n",
       "    }\n",
       "</style>\n",
       "<table border=\"1\" class=\"dataframe\">\n",
       "  <thead>\n",
       "    <tr style=\"text-align: right;\">\n",
       "      <th></th>\n",
       "      <th>context</th>\n",
       "      <th>question</th>\n",
       "      <th>answers.text</th>\n",
       "      <th>answers.answer_start</th>\n",
       "    </tr>\n",
       "  </thead>\n",
       "  <tbody>\n",
       "    <tr>\n",
       "      <th>0</th>\n",
       "      <td>In addition to chlorophylls, another group of yellow–orange pigments called carotenoids are also found in the photosystems. There are about thirty photosynthetic carotenoids. They help transfer and dissipate excess energy, and their bright colors sometimes override the chlorophyll green, like during the fall, when the leaves of some land plants change color. β-carotene is a bright red-orange carotenoid found in nearly all chloroplasts, like chlorophyll a. Xanthophylls, especially the orange-red zeaxanthin, are also common. Many other forms of carotenoids exist that are only found in certain groups of chloroplasts.</td>\n",
       "      <td>Why do carotenoids make leaves change color in the fall?</td>\n",
       "      <td>[their bright colors sometimes override the chlorophyll green, override the chlorophyll green, override the chlorophyll green]</td>\n",
       "      <td>[227, 257, 257]</td>\n",
       "    </tr>\n",
       "    <tr>\n",
       "      <th>1</th>\n",
       "      <td>One of the main functions of the chloroplast is its role in photosynthesis, the process by which light is transformed into chemical energy, to subsequently produce food in the form of sugars. Water (H2O) and carbon dioxide (CO2) are used in photosynthesis, and sugar and oxygen (O2) is made, using light energy. Photosynthesis is divided into two stages—the light reactions, where water is split to produce oxygen, and the dark reactions, or Calvin cycle, which builds sugar molecules from carbon dioxide. The two phases are linked by the energy carriers adenosine triphosphate (ATP) and nicotinamide adenine dinucleotide phosphate (NADP+).</td>\n",
       "      <td>What are the molecular inputs for photosynthesis?</td>\n",
       "      <td>[Water (H2O) and carbon dioxide (CO2), Water (H2O) and carbon dioxide (CO2), Water (H2O) and carbon dioxide (CO2)]</td>\n",
       "      <td>[192, 192, 192]</td>\n",
       "    </tr>\n",
       "    <tr>\n",
       "      <th>2</th>\n",
       "      <td>Kuchlug, the deposed Khan of the Naiman confederation that Temüjin defeated and folded into his Mongol Empire, fled west and usurped the khanate of Qara Khitai (also known as the Western Liao, as it was originally established as remnants of the Liao dynasty). Genghis Khan decided to conquer the Qara Khitai and defeat Kuchlug, possibly to take him out of power. By this time the Mongol army was exhausted from ten years of continuous campaigning in China against the Western Xia and Jin dynasty. Therefore, Genghis sent only two tumen (20,000 soldiers) against Kuchlug, under his younger general, Jebe, known as \"The Arrow\".</td>\n",
       "      <td>Who took control of Qara Khitai after fleeing Temüjin's Mongol Empire?</td>\n",
       "      <td>[Kuchlug, Kuchlug, Kuchlug]</td>\n",
       "      <td>[0, 0, 0]</td>\n",
       "    </tr>\n",
       "    <tr>\n",
       "      <th>3</th>\n",
       "      <td>Johnson's expedition was better organized than Shirley's, which was noticed by New France's governor, the Marquis de Vaudreuil. He had primarily been concerned about the extended supply line to the forts on the Ohio, and had sent Baron Dieskau to lead the defenses at Frontenac against Shirley's expected attack. When Johnson was seen as the larger threat, Vaudreuil sent Dieskau to Fort St. Frédéric to meet that threat. Dieskau planned to attack the British encampment at Fort Edward at the upper end of navigation on the Hudson River, but Johnson had strongly fortified it, and Dieskau's Indian support was reluctant to attack. The two forces finally met in the bloody Battle of Lake George between Fort Edward and Fort William Henry. The battle ended inconclusively, with both sides withdrawing from the field. Johnson's advance stopped at Fort William Henry, and the French withdrew to Ticonderoga Point, where they began the construction of Fort Carillon (later renamed Fort Ticonderoga after British capture in 1759).</td>\n",
       "      <td>Who won the battle of Lake George?</td>\n",
       "      <td>[inconclusively, with both sides withdrawing from the field, The battle ended inconclusively, ended inconclusively, both sides withdrawing from the field, The battle ended inconclusively]</td>\n",
       "      <td>[755, 738, 749, 776, 738]</td>\n",
       "    </tr>\n",
       "    <tr>\n",
       "      <th>4</th>\n",
       "      <td>In the arts and entertainment, minimalist composer Philip Glass, dancer, choreographer and leader in the field of dance anthropology Katherine Dunham, Bungie founder and developer of the Halo video game series Alex Seropian, Serial host Sarah Koenig, actor Ed Asner, Pulitzer Prize for Criticism winning film critic and the subject of the 2014 documentary film Life Itself Roger Ebert, director, writer, and comedian Mike Nichols, film director and screenwriter Philip Kaufman, and Carl Van Vechten, photographer and writer, are graduates.</td>\n",
       "      <td>What American actor is also a university graduate?</td>\n",
       "      <td>[Ed Asner, Ed Asner, Ed Asner]</td>\n",
       "      <td>[257, 257, 257]</td>\n",
       "    </tr>\n",
       "    <tr>\n",
       "      <th>5</th>\n",
       "      <td>Pharmacists are healthcare professionals with specialised education and training who perform various roles to ensure optimal health outcomes for their patients through the quality use of medicines. Pharmacists may also be small-business proprietors, owning the pharmacy in which they practice. Since pharmacists know about the mode of action of a particular drug, and its metabolism and physiological effects on the human body in great detail, they play an important role in optimisation of a drug treatment for an individual.</td>\n",
       "      <td>What type of professionals are pharmacists?</td>\n",
       "      <td>[healthcare professionals, healthcare, healthcare professionals with specialised education]</td>\n",
       "      <td>[16, 16, 16]</td>\n",
       "    </tr>\n",
       "    <tr>\n",
       "      <th>6</th>\n",
       "      <td>Jacksonville is the largest city by population in the U.S. state of Florida, and the largest city by area in the contiguous United States. It is the county seat of Duval County, with which the city government consolidated in 1968. Consolidation gave Jacksonville its great size and placed most of its metropolitan population within the city limits; with an estimated population of 853,382 in 2014, it is the most populous city proper in Florida and the Southeast, and the 12th most populous in the United States. Jacksonville is the principal city in the Jacksonville metropolitan area, with a population of 1,345,596 in 2010.</td>\n",
       "      <td>Which Florida city has the biggest population?</td>\n",
       "      <td>[Jacksonville, Jacksonville, Jacksonville]</td>\n",
       "      <td>[0, 0, 0]</td>\n",
       "    </tr>\n",
       "    <tr>\n",
       "      <th>7</th>\n",
       "      <td>The city has two universities — Newcastle University and Northumbria University. Newcastle University has its origins in the School of Medicine and Surgery, established in 1834 and became independent from Durham University on 1 August 1963 to form the University of Newcastle upon Tyne. Newcastle University is now one of the UK's leading international universities. It won the coveted Sunday Times University of the Year award in 2000. Northumbria University has its origins in the Newcastle Polytechnic, established in 1969 and became the University of Northumbria at Newcastle in 1992 as part of the UK-wide process in which polytechnics became new universities. Northumbria University was voted 'Best New University' by The Times Good University Guide 2005 and also won a much coveted company award of the \"Most IT enabled organisation\" (in the UK), by the IT industry magazine Computing.</td>\n",
       "      <td>What university won the award for Most IT enabled organisation?</td>\n",
       "      <td>[Northumbria University, Northumbria University, Northumbria University]</td>\n",
       "      <td>[666, 666, 666]</td>\n",
       "    </tr>\n",
       "    <tr>\n",
       "      <th>8</th>\n",
       "      <td>Between Bingen and Bonn, the Middle Rhine flows through the Rhine Gorge, a formation which was created by erosion. The rate of erosion equaled the uplift in the region, such that the river was left at about its original level while the surrounding lands raised. The gorge is quite deep and is the stretch of the river which is known for its many castles and vineyards. It is a UNESCO World Heritage Site (2002) and known as \"the Romantic Rhine\", with more than 40 castles and fortresses from the Middle Ages and many quaint and lovely country villages.</td>\n",
       "      <td>What gorge is between the Bingen and Bonn?</td>\n",
       "      <td>[Rhine Gorge, Rhine Gorge, Rhine Gorge]</td>\n",
       "      <td>[60, 60, 60]</td>\n",
       "    </tr>\n",
       "    <tr>\n",
       "      <th>9</th>\n",
       "      <td>Plastoglobuli (singular plastoglobulus, sometimes spelled plastoglobule(s)), are spherical bubbles of lipids and proteins about 45–60 nanometers across. They are surrounded by a lipid monolayer. Plastoglobuli are found in all chloroplasts, but become more common when the chloroplast is under oxidative stress, or when it ages and transitions into a gerontoplast. Plastoglobuli also exhibit a greater size variation under these conditions. They are also common in etioplasts, but decrease in number as the etioplasts mature into chloroplasts.</td>\n",
       "      <td>How large are Plastoglobuli?</td>\n",
       "      <td>[45–60 nanometers across, 45–60 nanometers across, 45–60 nanometers across]</td>\n",
       "      <td>[128, 128, 128]</td>\n",
       "    </tr>\n",
       "  </tbody>\n",
       "</table>\n",
       "</div>"
      ],
      "text/plain": [
       "                                                                                                                                                                                                                                                                                                                                                                                                                                                                                                                                                                                                                                                                                                                                                                                                                                                                                                                                                                                                                                                            context  \\\n",
       "0  In addition to chlorophylls, another group of yellow–orange pigments called carotenoids are also found in the photosystems. There are about thirty photosynthetic carotenoids. They help transfer and dissipate excess energy, and their bright colors sometimes override the chlorophyll green, like during the fall, when the leaves of some land plants change color. β-carotene is a bright red-orange carotenoid found in nearly all chloroplasts, like chlorophyll a. Xanthophylls, especially the orange-red zeaxanthin, are also common. Many other forms of carotenoids exist that are only found in certain groups of chloroplasts.                                                                                                                                                                                                                                                                                                                                                                                                                      \n",
       "1  One of the main functions of the chloroplast is its role in photosynthesis, the process by which light is transformed into chemical energy, to subsequently produce food in the form of sugars. Water (H2O) and carbon dioxide (CO2) are used in photosynthesis, and sugar and oxygen (O2) is made, using light energy. Photosynthesis is divided into two stages—the light reactions, where water is split to produce oxygen, and the dark reactions, or Calvin cycle, which builds sugar molecules from carbon dioxide. The two phases are linked by the energy carriers adenosine triphosphate (ATP) and nicotinamide adenine dinucleotide phosphate (NADP+).                                                                                                                                                                                                                                                                                                                                                                                                   \n",
       "2  Kuchlug, the deposed Khan of the Naiman confederation that Temüjin defeated and folded into his Mongol Empire, fled west and usurped the khanate of Qara Khitai (also known as the Western Liao, as it was originally established as remnants of the Liao dynasty). Genghis Khan decided to conquer the Qara Khitai and defeat Kuchlug, possibly to take him out of power. By this time the Mongol army was exhausted from ten years of continuous campaigning in China against the Western Xia and Jin dynasty. Therefore, Genghis sent only two tumen (20,000 soldiers) against Kuchlug, under his younger general, Jebe, known as \"The Arrow\".                                                                                                                                                                                                                                                                                                                                                                                                                  \n",
       "3  Johnson's expedition was better organized than Shirley's, which was noticed by New France's governor, the Marquis de Vaudreuil. He had primarily been concerned about the extended supply line to the forts on the Ohio, and had sent Baron Dieskau to lead the defenses at Frontenac against Shirley's expected attack. When Johnson was seen as the larger threat, Vaudreuil sent Dieskau to Fort St. Frédéric to meet that threat. Dieskau planned to attack the British encampment at Fort Edward at the upper end of navigation on the Hudson River, but Johnson had strongly fortified it, and Dieskau's Indian support was reluctant to attack. The two forces finally met in the bloody Battle of Lake George between Fort Edward and Fort William Henry. The battle ended inconclusively, with both sides withdrawing from the field. Johnson's advance stopped at Fort William Henry, and the French withdrew to Ticonderoga Point, where they began the construction of Fort Carillon (later renamed Fort Ticonderoga after British capture in 1759).   \n",
       "4  In the arts and entertainment, minimalist composer Philip Glass, dancer, choreographer and leader in the field of dance anthropology Katherine Dunham, Bungie founder and developer of the Halo video game series Alex Seropian, Serial host Sarah Koenig, actor Ed Asner, Pulitzer Prize for Criticism winning film critic and the subject of the 2014 documentary film Life Itself Roger Ebert, director, writer, and comedian Mike Nichols, film director and screenwriter Philip Kaufman, and Carl Van Vechten, photographer and writer, are graduates.                                                                                                                                                                                                                                                                                                                                                                                                                                                                                                        \n",
       "5  Pharmacists are healthcare professionals with specialised education and training who perform various roles to ensure optimal health outcomes for their patients through the quality use of medicines. Pharmacists may also be small-business proprietors, owning the pharmacy in which they practice. Since pharmacists know about the mode of action of a particular drug, and its metabolism and physiological effects on the human body in great detail, they play an important role in optimisation of a drug treatment for an individual.                                                                                                                                                                                                                                                                                                                                                                                                                                                                                                                     \n",
       "6  Jacksonville is the largest city by population in the U.S. state of Florida, and the largest city by area in the contiguous United States. It is the county seat of Duval County, with which the city government consolidated in 1968. Consolidation gave Jacksonville its great size and placed most of its metropolitan population within the city limits; with an estimated population of 853,382 in 2014, it is the most populous city proper in Florida and the Southeast, and the 12th most populous in the United States. Jacksonville is the principal city in the Jacksonville metropolitan area, with a population of 1,345,596 in 2010.                                                                                                                                                                                                                                                                                                                                                                                                                 \n",
       "7  The city has two universities — Newcastle University and Northumbria University. Newcastle University has its origins in the School of Medicine and Surgery, established in 1834 and became independent from Durham University on 1 August 1963 to form the University of Newcastle upon Tyne. Newcastle University is now one of the UK's leading international universities. It won the coveted Sunday Times University of the Year award in 2000. Northumbria University has its origins in the Newcastle Polytechnic, established in 1969 and became the University of Northumbria at Newcastle in 1992 as part of the UK-wide process in which polytechnics became new universities. Northumbria University was voted 'Best New University' by The Times Good University Guide 2005 and also won a much coveted company award of the \"Most IT enabled organisation\" (in the UK), by the IT industry magazine Computing.                                                                                                                                       \n",
       "8  Between Bingen and Bonn, the Middle Rhine flows through the Rhine Gorge, a formation which was created by erosion. The rate of erosion equaled the uplift in the region, such that the river was left at about its original level while the surrounding lands raised. The gorge is quite deep and is the stretch of the river which is known for its many castles and vineyards. It is a UNESCO World Heritage Site (2002) and known as \"the Romantic Rhine\", with more than 40 castles and fortresses from the Middle Ages and many quaint and lovely country villages.                                                                                                                                                                                                                                                                                                                                                                                                                                                                                           \n",
       "9  Plastoglobuli (singular plastoglobulus, sometimes spelled plastoglobule(s)), are spherical bubbles of lipids and proteins about 45–60 nanometers across. They are surrounded by a lipid monolayer. Plastoglobuli are found in all chloroplasts, but become more common when the chloroplast is under oxidative stress, or when it ages and transitions into a gerontoplast. Plastoglobuli also exhibit a greater size variation under these conditions. They are also common in etioplasts, but decrease in number as the etioplasts mature into chloroplasts.                                                                                                                                                                                                                                                                                                                                                                                                                                                                                                     \n",
       "\n",
       "                                                                 question  \\\n",
       "0  Why do carotenoids make leaves change color in the fall?                 \n",
       "1  What are the molecular inputs for photosynthesis?                        \n",
       "2  Who took control of Qara Khitai after fleeing Temüjin's Mongol Empire?   \n",
       "3  Who won the battle of Lake George?                                       \n",
       "4  What American actor is also a university graduate?                       \n",
       "5  What type of professionals are pharmacists?                              \n",
       "6  Which Florida city has the biggest population?                           \n",
       "7  What university won the award for Most IT enabled organisation?          \n",
       "8  What gorge is between the Bingen and Bonn?                               \n",
       "9  How large are Plastoglobuli?                                             \n",
       "\n",
       "                                                                                                                                                                                  answers.text  \\\n",
       "0  [their bright colors sometimes override the chlorophyll green, override the chlorophyll green, override the chlorophyll green]                                                                \n",
       "1  [Water (H2O) and carbon dioxide (CO2), Water (H2O) and carbon dioxide (CO2), Water (H2O) and carbon dioxide (CO2)]                                                                            \n",
       "2  [Kuchlug, Kuchlug, Kuchlug]                                                                                                                                                                   \n",
       "3  [inconclusively, with both sides withdrawing from the field, The battle ended inconclusively, ended inconclusively, both sides withdrawing from the field, The battle ended inconclusively]   \n",
       "4  [Ed Asner, Ed Asner, Ed Asner]                                                                                                                                                                \n",
       "5  [healthcare professionals, healthcare, healthcare professionals with specialised education]                                                                                                   \n",
       "6  [Jacksonville, Jacksonville, Jacksonville]                                                                                                                                                    \n",
       "7  [Northumbria University, Northumbria University, Northumbria University]                                                                                                                      \n",
       "8  [Rhine Gorge, Rhine Gorge, Rhine Gorge]                                                                                                                                                       \n",
       "9  [45–60 nanometers across, 45–60 nanometers across, 45–60 nanometers across]                                                                                                                   \n",
       "\n",
       "        answers.answer_start  \n",
       "0  [227, 257, 257]            \n",
       "1  [192, 192, 192]            \n",
       "2  [0, 0, 0]                  \n",
       "3  [755, 738, 749, 776, 738]  \n",
       "4  [257, 257, 257]            \n",
       "5  [16, 16, 16]               \n",
       "6  [0, 0, 0]                  \n",
       "7  [666, 666, 666]            \n",
       "8  [60, 60, 60]               \n",
       "9  [128, 128, 128]            "
      ]
     },
     "execution_count": 32,
     "metadata": {},
     "output_type": "execute_result"
    }
   ],
   "source": [
    "# read ./squad-dataset/small_test.jsonl into a pandas dataframe and load first 10 rows into a new dataframe\n",
    "import pandas as pd\n",
    "import json\n",
    "test_df = pd.read_json(\"./squad-dataset/small_test.jsonl\", orient='records', lines=True)\n",
    "# flatten the json object in the \"answer\" column with the keys \"answer_start\" and \"text\"\n",
    "json_struct = json.loads(test_df.to_json(orient=\"records\"))   \n",
    "test_df = pd.json_normalize(json_struct) #use pd.io.json\n",
    "# drop id, title, answer.answer_start columns\n",
    "test_df = test_df.drop(columns=[\"id\", \"title\"])\n",
    "test_df.head(10)"
   ]
  },
  {
   "cell_type": "code",
   "execution_count": 33,
   "metadata": {},
   "outputs": [
    {
     "name": "stdout",
     "output_type": "stream",
     "text": [
      "{'inputs': [{'question': 'Why do carotenoids make leaves change color in the fall?', 'context': 'In addition to chlorophylls, another group of yellow–orange pigments called carotenoids are also found in the photosystems. There are about thirty photosynthetic carotenoids. They help transfer and dissipate excess energy, and their bright colors sometimes override the chlorophyll green, like during the fall, when the leaves of some land plants change color. β-carotene is a bright red-orange carotenoid found in nearly all chloroplasts, like chlorophyll a. Xanthophylls, especially the orange-red zeaxanthin, are also common. Many other forms of carotenoids exist that are only found in certain groups of chloroplasts.'}, {'question': 'What are the molecular inputs for photosynthesis?', 'context': 'One of the main functions of the chloroplast is its role in photosynthesis, the process by which light is transformed into chemical energy, to subsequently produce food in the form of sugars. Water (H2O) and carbon dioxide (CO2) are used in photosynthesis, and sugar and oxygen (O2) is made, using light energy. Photosynthesis is divided into two stages—the light reactions, where water is split to produce oxygen, and the dark reactions, or Calvin cycle, which builds sugar molecules from carbon dioxide. The two phases are linked by the energy carriers adenosine triphosphate (ATP) and nicotinamide adenine dinucleotide phosphate (NADP+).'}, {'question': \"Who took control of Qara Khitai after fleeing Temüjin's Mongol Empire?\", 'context': 'Kuchlug, the deposed Khan of the Naiman confederation that Temüjin defeated and folded into his Mongol Empire, fled west and usurped the khanate of Qara Khitai (also known as the Western Liao, as it was originally established as remnants of the Liao dynasty). Genghis Khan decided to conquer the Qara Khitai and defeat Kuchlug, possibly to take him out of power. By this time the Mongol army was exhausted from ten years of continuous campaigning in China against the Western Xia and Jin dynasty. Therefore, Genghis sent only two tumen (20,000 soldiers) against Kuchlug, under his younger general, Jebe, known as \"The Arrow\".'}, {'question': 'Who won the battle of Lake George?', 'context': \"Johnson's expedition was better organized than Shirley's, which was noticed by New France's governor, the Marquis de Vaudreuil. He had primarily been concerned about the extended supply line to the forts on the Ohio, and had sent Baron Dieskau to lead the defenses at Frontenac against Shirley's expected attack. When Johnson was seen as the larger threat, Vaudreuil sent Dieskau to Fort St. Frédéric to meet that threat. Dieskau planned to attack the British encampment at Fort Edward at the upper end of navigation on the Hudson River, but Johnson had strongly fortified it, and Dieskau's Indian support was reluctant to attack. The two forces finally met in the bloody Battle of Lake George between Fort Edward and Fort William Henry. The battle ended inconclusively, with both sides withdrawing from the field. Johnson's advance stopped at Fort William Henry, and the French withdrew to Ticonderoga Point, where they began the construction of Fort Carillon (later renamed Fort Ticonderoga after British capture in 1759).\"}, {'question': 'What American actor is also a university graduate?', 'context': 'In the arts and entertainment, minimalist composer Philip Glass, dancer, choreographer and leader in the field of dance anthropology Katherine Dunham, Bungie founder and developer of the Halo video game series Alex Seropian, Serial host Sarah Koenig, actor Ed Asner, Pulitzer Prize for Criticism winning film critic and the subject of the 2014 documentary film Life Itself Roger Ebert, director, writer, and comedian Mike Nichols, film director and screenwriter Philip Kaufman, and Carl Van Vechten, photographer and writer, are graduates.'}, {'question': 'What type of professionals are pharmacists?', 'context': 'Pharmacists are healthcare professionals with specialised education and training who perform various roles to ensure optimal health outcomes for their patients through the quality use of medicines. Pharmacists may also be small-business proprietors, owning the pharmacy in which they practice. Since pharmacists know about the mode of action of a particular drug, and its metabolism and physiological effects on the human body in great detail, they play an important role in optimisation of a drug treatment for an individual.'}, {'question': 'Which Florida city has the biggest population?', 'context': 'Jacksonville is the largest city by population in the U.S. state of Florida, and the largest city by area in the contiguous United States. It is the county seat of Duval County, with which the city government consolidated in 1968. Consolidation gave Jacksonville its great size and placed most of its metropolitan population within the city limits; with an estimated population of 853,382 in 2014, it is the most populous city proper in Florida and the Southeast, and the 12th most populous in the United States. Jacksonville is the principal city in the Jacksonville metropolitan area, with a population of 1,345,596 in 2010.'}, {'question': 'What university won the award for Most IT enabled organisation?', 'context': 'The city has two universities — Newcastle University and Northumbria University. Newcastle University has its origins in the School of Medicine and Surgery, established in 1834 and became independent from Durham University on 1 August 1963 to form the University of Newcastle upon Tyne. Newcastle University is now one of the UK\\'s leading international universities. It won the coveted Sunday Times University of the Year award in 2000. Northumbria University has its origins in the Newcastle Polytechnic, established in 1969 and became the University of Northumbria at Newcastle in 1992 as part of the UK-wide process in which polytechnics became new universities. Northumbria University was voted \\'Best New University\\' by The Times Good University Guide 2005 and also won a much coveted company award of the \"Most IT enabled organisation\" (in the UK), by the IT industry magazine Computing.'}, {'question': 'What gorge is between the Bingen and Bonn?', 'context': 'Between Bingen and Bonn, the Middle Rhine flows through the Rhine Gorge, a formation which was created by erosion. The rate of erosion equaled the uplift in the region, such that the river was left at about its original level while the surrounding lands raised. The gorge is quite deep and is the stretch of the river which is known for its many castles and vineyards. It is a UNESCO World Heritage Site (2002) and known as \"the Romantic Rhine\", with more than 40 castles and fortresses from the Middle Ages and many quaint and lovely country villages.'}, {'question': 'How large are Plastoglobuli?', 'context': 'Plastoglobuli (singular plastoglobulus, sometimes spelled plastoglobule(s)), are spherical bubbles of lipids and proteins about 45–60 nanometers across. They are surrounded by a lipid monolayer. Plastoglobuli are found in all chloroplasts, but become more common when the chloroplast is under oxidative stress, or when it ages and transitions into a gerontoplast. Plastoglobuli also exhibit a greater size variation under these conditions. They are also common in etioplasts, but decrease in number as the etioplasts mature into chloroplasts.'}]}\n"
     ]
    }
   ],
   "source": [
    "# create a json object with \"inputs\" as key and a list of json objects with \"question\" and \"context\" as keys\n",
    "test_json = {\"inputs\": [{\"question\": test_df[\"question\"][i], \"context\": test_df[\"context\"][i]} for i in range(10)]}\n",
    "print(test_json)\n",
    "# write the json object to a file named sample_score.json in the ./squad-dataset folder\n",
    "with open(\"./squad-dataset/sample_score.json\", \"w\") as f:\n",
    "    json.dump(test_json, f)\n"
   ]
  },
  {
   "cell_type": "code",
   "execution_count": null,
   "metadata": {},
   "outputs": [],
   "source": [
    "# score the sample_score.json file using the online endpoint with the azureml endpoint invoke method\n",
    "response=workspace_ml_client.online_endpoints.invoke(\n",
    "    endpoint_name=online_endpoint_name,\n",
    "    deployment_name=\"demo\",\n",
    "    request_file=\"./squad-dataset/sample_score.json\"\n",
    ")\n",
    "print(\"raw response: \\n\", response, \"\\n\")\n",
    "# convert the response to a pandas dataframe and rename the label column as scored_label\n",
    "response_df = pd.read_json(response)\n",
    "response_df.head(10)"
   ]
  },
  {
   "attachments": {},
   "cell_type": "markdown",
   "metadata": {},
   "source": [
    "### 8. Delete the online endpoint\n",
    "Don't forget to delete the online endpoint, else you will leave the billing meter running for the compute used by the endpoint"
   ]
  },
  {
   "cell_type": "code",
   "execution_count": null,
   "metadata": {},
   "outputs": [],
   "source": [
    "workspace_ml_client.online_endpoints.begin_delete(name=online_endpoint_name).wait()"
   ]
  },
  {
   "cell_type": "code",
   "execution_count": null,
   "metadata": {},
   "outputs": [],
   "source": []
  }
 ],
 "metadata": {
  "kernelspec": {
   "display_name": "base",
   "language": "python",
   "name": "python3"
  },
  "language_info": {
   "codemirror_mode": {
    "name": "ipython",
    "version": 3
   },
   "file_extension": ".py",
   "mimetype": "text/x-python",
   "name": "python",
   "nbconvert_exporter": "python",
   "pygments_lexer": "ipython3",
   "version": "3.8.13"
  },
  "vscode": {
   "interpreter": {
    "hash": "2f394aca7ca06fed1e6064aef884364492d7cdda3614a461e02e6407fc40ba69"
   }
  }
 },
 "nbformat": 4,
 "nbformat_minor": 2
}
