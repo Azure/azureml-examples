{
 "cells": [
  {
   "cell_type": "markdown",
   "metadata": {},
   "source": [
    "# Sample Notebook to deploy a HF MLFlow model to an AML workspace using Python SDK"
   ]
  },
  {
   "cell_type": "markdown",
   "metadata": {},
   "source": [
    "### Define required parameters\n",
    "\n",
    "Update these parameters to test deployments in your own workspace"
   ]
  },
  {
   "cell_type": "code",
   "execution_count": null,
   "metadata": {},
   "outputs": [],
   "source": [
    "# Define Parameters\n",
    "subscription_id=\"\" # Replace with your subscription ID\n",
    "resource_group=\"\" # Replace with your resource group name\n",
    "workspace_name=\"\" # Replace with your workspace name\n",
    "registry_name=\"\" # Replace with your registry name\n",
    "endpoint_name=\"\" # Replace with your endpoint name\n",
    "deployment_name=\"\" # Replace with your deployment name\n",
    "model_name=\"\" # Name of the model to be deployed\n",
    "sku_name=\"Standard_DS2_v2\" # Name of the sku(instance type) Check the model-list(can be found in the parent folder(inference)) to get the most optimal sku for your model (Default: Standard_DS2_v2)"
   ]
  },
  {
   "cell_type": "markdown",
   "metadata": {},
   "source": [
    "### Install required libraries"
   ]
  },
  {
   "cell_type": "code",
   "execution_count": null,
   "metadata": {},
   "outputs": [],
   "source": [
    "# Skip this cell if all libraries are already installed\n",
    "# The required libraries can be installed in the local environment using the following command:\n",
    "%pip install azure-ai-ml==1.2.0 azure-identity"
   ]
  },
  {
   "cell_type": "markdown",
   "metadata": {},
   "source": [
    "### Import required libraries"
   ]
  },
  {
   "cell_type": "code",
   "execution_count": null,
   "metadata": {
    "jupyter": {
     "source_hidden": true
    }
   },
   "outputs": [],
   "source": [
    "import os\n",
    "import json\n",
    "from azure.ai.ml import MLClient\n",
    "from azure.ai.ml.constants import AssetTypes\n",
    "from azure.ai.ml.entities import Model, ManagedOnlineDeployment, ManagedOnlineEndpoint\n",
    "from azure.identity import DefaultAzureCredential"
   ]
  },
  {
   "cell_type": "markdown",
   "metadata": {},
   "source": [
    "### Setup the ML Clients"
   ]
  },
  {
   "cell_type": "code",
   "execution_count": null,
   "metadata": {},
   "outputs": [],
   "source": [
    "# Create an ML Client to interact with your workspace\n",
    "ws_client = MLClient(DefaultAzureCredential(), subscription_id=subscription_id, resource_group_name=resource_group, workspace_name=workspace_name)\n",
    "\n",
    "# Create an ML Client to interact with the registry\n",
    "reg_client = MLClient(DefaultAzureCredential(), subscription_id=subscription_id, resource_group_name=resource_group, registry_name=registry_name)"
   ]
  },
  {
   "cell_type": "markdown",
   "metadata": {},
   "source": [
    "### Validate the model in the registry"
   ]
  },
  {
   "cell_type": "code",
   "execution_count": null,
   "metadata": {},
   "outputs": [],
   "source": [
    "# This cell validates the existence of the model in the registry\n",
    "try:\n",
    "    model_list = reg_client.models.list(name=model_name)\n",
    "    version=list(model_list)[0].version\n",
    "    model = reg_client.models.get(model_name, version)\n",
    "    print(f\"Model validated successfully. Using model {model_name}, version {version}\")\n",
    "except:\n",
    "    print(\"Model not found in the registry. Check the registry for the list of supported models\")"
   ]
  },
  {
   "attachments": {},
   "cell_type": "markdown",
   "metadata": {},
   "source": [
    "### Create an online endpoint"
   ]
  },
  {
   "cell_type": "code",
   "execution_count": null,
   "metadata": {},
   "outputs": [],
   "source": [
    "# Check if the endpoint already exists in the workspace\n",
    "try:\n",
    "    endpoint = ws_client.online_endpoints.get(endpoint_name)\n",
    "    print(\"---Endpoint already exists---\")\n",
    "except:\n",
    "    # Create an online endpoint if it doesn't exist\n",
    "\n",
    "    # Define the endpoint\n",
    "    endpoint = ManagedOnlineEndpoint(name=endpoint_name, description=\"Test endpoint for model\")\n",
    "\n",
    "    # Trigger the endpoint creation\n",
    "    try:\n",
    "        ws_client.begin_create_or_update(endpoint).wait()\n",
    "        print(\"\\n---Endpoint created successfully---\\n\")\n",
    "    except Exception as err:\n",
    "        raise RuntimeError(f\"Endpoint creation failed. Detailed Response:\\n{err}\") from err"
   ]
  },
  {
   "cell_type": "markdown",
   "metadata": {},
   "source": [
    "### Create an online endpoint-deployment"
   ]
  },
  {
   "cell_type": "code",
   "execution_count": null,
   "metadata": {},
   "outputs": [],
   "source": [
    "# Define the deployment\n",
    "# Update the model version as necessary\n",
    "deployment = ManagedOnlineDeployment(\n",
    "    name=deployment_name,\n",
    "    endpoint_name=endpoint_name,\n",
    "    model=model.id,\n",
    "    instance_type=sku_name,\n",
    "    instance_count=1,\n",
    ")\n",
    "\n",
    "# Trigger the deployment creation\n",
    "try:\n",
    "    ws_client.begin_create_or_update(deployment).wait()\n",
    "    print(\"\\n---Deployment created successfully---\\n\")\n",
    "except Exception as err:\n",
    "    raise RuntimeError(f\"Deployment creation failed. Detailed Response:\\n{err}\") from err"
   ]
  },
  {
   "cell_type": "markdown",
   "metadata": {},
   "source": [
    "### Inference Testing"
   ]
  },
  {
   "cell_type": "code",
   "execution_count": null,
   "metadata": {},
   "outputs": [],
   "source": [
    "# For testing the inference of the deployment, create a *sample-request.json* file in the same folder as the notebook. \n",
    "# Sample inputs for different tasks can be found in the *sample-inputs* folder under *inference*.\n",
    "# You can update the file with your own custom input and test the deployment.\n",
    "# Note: For the fill-mask task, ensure that the correct mask token is used in the sample request.\n",
    "\n",
    "# Invoke the deployment using the given input\n",
    "try:\n",
    "    with open(\"./sample-request.json\", \"r\") as f:\n",
    "        print(f\"Input: \\n{f.read()}\")\n",
    "    output = ws_client.online_endpoints.invoke(\n",
    "        endpoint_name=endpoint_name,\n",
    "        deployment_name=deployment_name,\n",
    "        request_file=\"./sample-request.json\",\n",
    "    )\n",
    "    print(f\"Output: \\n{output}\\n\")\n",
    "except Exception as err:\n",
    "    raise RuntimeError(f\"Inference to endpoint: {endpoint_name} and deployment: {deployment_name} failed. Detailed Response:\\n{err}\") from err"
   ]
  },
  {
   "cell_type": "markdown",
   "metadata": {},
   "source": [
    "### Delete all resources (Optional)"
   ]
  },
  {
   "cell_type": "code",
   "execution_count": null,
   "metadata": {},
   "outputs": [],
   "source": [
    "# Run this cell to delete all resources created as part of this notebook\n",
    "try:\n",
    "    ws_client.online_deployments.begin_delete(name=deployment_name, endpoint_name=endpoint_name)\n",
    "    print(\"\\n---Deployment deletion triggered successfully---\\n\")\n",
    "except Exception as err:\n",
    "    raise RuntimeError(f\"Deployment {deployment_name} deletion failed. Detailed Response:\\n{err}\") from err"
   ]
  }
 ],
 "metadata": {
  "kernelspec": {
   "display_name": "Python 3.8.13 ('amlenv')",
   "language": "python",
   "name": "python3"
  },
  "language_info": {
   "codemirror_mode": {
    "name": "ipython",
    "version": 3
   },
   "file_extension": ".py",
   "mimetype": "text/x-python",
   "name": "python",
   "nbconvert_exporter": "python",
   "pygments_lexer": "ipython3",
   "version": "3.8.13"
  },
  "vscode": {
   "interpreter": {
    "hash": "b4091f85959664372d1332da9ae1b432d10e770e89992630e1cbb01b275fd30b"
   }
  }
 },
 "nbformat": 4,
 "nbformat_minor": 2
}
