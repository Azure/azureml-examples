{
 "cells": [
  {
   "attachments": {},
   "cell_type": "markdown",
   "metadata": {},
   "source": [
    "## Text Classification Inference using Online Endpoints\n",
    "\n",
    "This sample shows how to deploy `text-classification` type models to an online endpoint for inference.\n",
    "\n",
    "### Task\n",
    "`text-classification` is generic task type that can be used for scenarios such as sentiment analysis, emotion detection, grammar checking, spam filtering, etc. In this example, we will test for entailment v/s contradiction, meaning given a premise sentence and a hypothesis sentence, the task is to predict whether the premise entails the hypothesis (entailment), contradicts the hypothesis (contradiction), or neither (neutral). \n",
    "\n",
    "### Inference data\n",
    "The Multi-Genre Natural Language Inference Corpus, or MNLI is a crowd sourced collection of sentence pairs with textual entailment annotations.The [MNLI](https://huggingface.co/datasets/glue) dataset is a subset of the larger [General Language Understanding Evaluation](https://gluebenchmark.com/) dataset. A copy of this dataset is available in the [glue-mnli](./glue-mnli/) folder.\n",
    "\n",
    "### Model\n",
    "Look for models tagged with `text-classification` in the system registry. Just looking for `text-classification` is not sufficient, you need to check if the model is specifically finetuned for  entailment v/s contradiction by studying the model card and looking at the input/output samples or signatures of the model. In this notebook, we use the `microsoft-deberta-base-mnli` model.\n",
    "\n",
    "   \n",
    "\n",
    "### Outline\n",
    "* Set up pre-requisites.\n",
    "* Pick a model to deploy.\n",
    "* Prepare data for inference. \n",
    "* Deploy the model for real time inference.\n",
    "* Test the endpoint\n",
    "* Clean up resources."
   ]
  },
  {
   "attachments": {},
   "cell_type": "markdown",
   "metadata": {},
   "source": [
    "### 1. Set up pre-requisites\n",
    "* Install dependencies\n",
    "* Connect to AzureML Workspace. Learn more at [set up SDK authentication](https://learn.microsoft.com/en-us/azure/machine-learning/how-to-setup-authentication?tabs=sdk). Replace  `<WORKSPACE_NAME>`, `<RESOURCE_GROUP>` and `<SUBSCRIPTION_ID>` below.\n",
    "* Connect to `azureml` system registry"
   ]
  },
  {
   "cell_type": "code",
   "execution_count": 1,
   "metadata": {},
   "outputs": [
    {
     "name": "stderr",
     "output_type": "stream",
     "text": [
      "Class FeatureStoreOperations: This is an experimental class, and may change at any time. Please see https://aka.ms/azuremlexperimental for more information.\n",
      "Class FeatureSetOperations: This is an experimental class, and may change at any time. Please see https://aka.ms/azuremlexperimental for more information.\n",
      "Class FeatureStoreEntityOperations: This is an experimental class, and may change at any time. Please see https://aka.ms/azuremlexperimental for more information.\n"
     ]
    }
   ],
   "source": [
    "from azure.ai.ml import MLClient\n",
    "from azure.identity import (\n",
    "    DefaultAzureCredential,\n",
    "    InteractiveBrowserCredential,\n",
    "    ClientSecretCredential,\n",
    ")\n",
    "from azure.ai.ml.entities import AmlCompute\n",
    "import time\n",
    "\n",
    "try:\n",
    "    credential = DefaultAzureCredential()\n",
    "    credential.get_token(\"https://management.azure.com/.default\")\n",
    "except Exception as ex:\n",
    "    credential = InteractiveBrowserCredential()\n",
    "\n",
    "workspace_ml_client = MLClient(\n",
    "    credential,\n",
    "    subscription_id=\"ea4faa5b-5e44-4236-91f6-5483d5b17d14\",\n",
    "    resource_group_name=\"amyharrispersonal\",\n",
    "    workspace_name=\"amyharris-canary\",\n",
    ")\n",
    "# the models, fine tuning pipelines and environments are available in the AzureML system registry, \"azureml-preview\"\n",
    "registry_ml_client = MLClient(credential, registry_name=\"azureml-preview\")"
   ]
  },
  {
   "attachments": {},
   "cell_type": "markdown",
   "metadata": {},
   "source": [
    "### 2. Pick a model to deploy\n",
    "\n",
    "Browse models in the Model Catalog in the AzureML Studio, filtering by the `fill-mask` task. In this example, we use the `bert-base-uncased` model. If you have opened this notebook for a different model, replace the model name and version accordingly. "
   ]
  },
  {
   "cell_type": "code",
   "execution_count": 2,
   "metadata": {},
   "outputs": [
    {
     "name": "stdout",
     "output_type": "stream",
     "text": [
      "\n",
      "\n",
      "Using model name: microsoft-deberta-base-mnli, version: 2, id: azureml://registries/azureml-preview/models/microsoft-deberta-base-mnli/versions/2 for fine tuning\n"
     ]
    }
   ],
   "source": [
    "model_name = \"microsoft-deberta-base-mnli\"\n",
    "model_version = \"2\"\n",
    "foundation_model = registry_ml_client.models.get(model_name, model_version)\n",
    "print(\n",
    "    \"\\n\\nUsing model name: {0}, version: {1}, id: {2} for fine tuning\".format(\n",
    "        foundation_model.name, foundation_model.version, foundation_model.id\n",
    "    )\n",
    ")"
   ]
  },
  {
   "attachments": {},
   "cell_type": "markdown",
   "metadata": {},
   "source": [
    "### 3. Prepare data for inference.\n",
    "\n",
    "A subset of the MNLI is available in the [ glue-mnli-dataset](./glue-mnli-dataset/) folder. The next few cells show basic data preparation:\n",
    "* Visualize some data rows\n",
    "* Replace numerical categories in data with the actual string labels. This mapping is available in the [./glue-mnli-dataset/label.json](./glue-mnli-dataset/label.json). This step is needed because the selected models will return labels such `CONTRADICTION`, `CONTRADICTION`, etc. when running prediction. If the labels in your ground truth data are left as `0`, `1`, `2`, etc., then they would not match with prediction labels returned by the models.\n",
    "* The dataset contains `premise` and `hypothesis` as two different columns. However, the models expect a single string for prediction in the format `[CLS] <premise text> [SEP] <hypothesis text> [SEP]`. Hence we merge the columns and drop the original columns.\n",
    "* We want this sample to run quickly, so save smaller dataset containing 10% of the original. "
   ]
  },
  {
   "cell_type": "code",
   "execution_count": 3,
   "metadata": {},
   "outputs": [
    {
     "data": {
      "text/html": [
       "<div>\n",
       "<style scoped>\n",
       "    .dataframe tbody tr th:only-of-type {\n",
       "        vertical-align: middle;\n",
       "    }\n",
       "\n",
       "    .dataframe tbody tr th {\n",
       "        vertical-align: top;\n",
       "    }\n",
       "\n",
       "    .dataframe thead th {\n",
       "        text-align: right;\n",
       "    }\n",
       "</style>\n",
       "<table border=\"1\" class=\"dataframe\">\n",
       "  <thead>\n",
       "    <tr style=\"text-align: right;\">\n",
       "      <th></th>\n",
       "      <th>ground_truth_label</th>\n",
       "      <th>text</th>\n",
       "    </tr>\n",
       "  </thead>\n",
       "  <tbody>\n",
       "    <tr>\n",
       "      <th>0</th>\n",
       "      <td>ENTAILMENT</td>\n",
       "      <td>[CLS] In 2002, 55 TIG awards were granted. [SEP] There were 55 TIG awards that year. [SEP]</td>\n",
       "    </tr>\n",
       "    <tr>\n",
       "      <th>1</th>\n",
       "      <td>CONTRADICTION</td>\n",
       "      <td>[CLS] In part, grants from the Colorado Lawyers Trust Account Foundation defray some of the costs associated with maintaining a strong pro bono, program. [SEP] There is not a pro bono program associated with the Colorado Lawyers Trust Account Foundation.  [SEP]</td>\n",
       "    </tr>\n",
       "    <tr>\n",
       "      <th>2</th>\n",
       "      <td>CONTRADICTION</td>\n",
       "      <td>[CLS] The communes were strong enough to confine German Emperor Frederick Barbarossa's Italian ambitions to the south, where he secured Sicily for his Hohenstaufen heirs by marrying his son into the Norman royal family. [SEP] German Emperor Frederick Barbarossa took over all of Europe. [SEP]</td>\n",
       "    </tr>\n",
       "    <tr>\n",
       "      <th>3</th>\n",
       "      <td>CONTRADICTION</td>\n",
       "      <td>[CLS] For a time, Drudge straddled the divide between Web and checkout-line cultures, making the national press corps regularly scramble to cover a tabloid item. [SEP] Drudge only covered mainstream news and never delved into tabloid journalism.   [SEP]</td>\n",
       "    </tr>\n",
       "    <tr>\n",
       "      <th>4</th>\n",
       "      <td>NEUTRAL</td>\n",
       "      <td>[CLS]  Maybe to David Arnold Hanson, the famed engineer, no task was impossible. [SEP] Maybe David Arnold Hanson could do difficult tasks that other engineers couldn't. [SEP]</td>\n",
       "    </tr>\n",
       "  </tbody>\n",
       "</table>\n",
       "</div>"
      ],
      "text/plain": [
       "  ground_truth_label  \\\n",
       "0  ENTAILMENT          \n",
       "1  CONTRADICTION       \n",
       "2  CONTRADICTION       \n",
       "3  CONTRADICTION       \n",
       "4  NEUTRAL             \n",
       "\n",
       "                                                                                                                                                                                                                                                                                                   text  \n",
       "0  [CLS] In 2002, 55 TIG awards were granted. [SEP] There were 55 TIG awards that year. [SEP]                                                                                                                                                                                                            \n",
       "1  [CLS] In part, grants from the Colorado Lawyers Trust Account Foundation defray some of the costs associated with maintaining a strong pro bono, program. [SEP] There is not a pro bono program associated with the Colorado Lawyers Trust Account Foundation.  [SEP]                                 \n",
       "2  [CLS] The communes were strong enough to confine German Emperor Frederick Barbarossa's Italian ambitions to the south, where he secured Sicily for his Hohenstaufen heirs by marrying his son into the Norman royal family. [SEP] German Emperor Frederick Barbarossa took over all of Europe. [SEP]  \n",
       "3  [CLS] For a time, Drudge straddled the divide between Web and checkout-line cultures, making the national press corps regularly scramble to cover a tabloid item. [SEP] Drudge only covered mainstream news and never delved into tabloid journalism.   [SEP]                                         \n",
       "4  [CLS]  Maybe to David Arnold Hanson, the famed engineer, no task was impossible. [SEP] Maybe David Arnold Hanson could do difficult tasks that other engineers couldn't. [SEP]                                                                                                                        "
      ]
     },
     "execution_count": 3,
     "metadata": {},
     "output_type": "execute_result"
    }
   ],
   "source": [
    "import os\n",
    "\n",
    "dataset_dir = \"./glue-mnli-dataset\"\n",
    "data_file = \"train_100.jsonl\"\n",
    "\n",
    "# load the train_100.jsonl file into a pandas dataframe and show the first 5 rows\n",
    "import pandas as pd\n",
    "\n",
    "pd.set_option(\n",
    "    \"display.max_colwidth\", 0\n",
    ")  # set the max column width to 0 to display the full text\n",
    "df = pd.read_json(os.path.join(dataset_dir, data_file), lines=True)\n",
    "df.head()\n",
    "\n",
    "# load the id2label json element of the label.json file into pandas table with keys as 'label' column of int64 type and values as 'label_string' column as string type\n",
    "import json\n",
    "\n",
    "label_file = \"label.json\"\n",
    "with open(os.path.join(dataset_dir, label_file)) as f:\n",
    "    id2label = json.load(f)\n",
    "    id2label = id2label[\"id2label\"]\n",
    "    label_df = pd.DataFrame.from_dict(\n",
    "        id2label, orient=\"index\", columns=[\"label_string\"]\n",
    "    )\n",
    "    label_df[\"label\"] = label_df.index.astype(\"int64\")\n",
    "    label_df = label_df[[\"label\", \"label_string\"]]\n",
    "\n",
    "# join the train, validation and test dataframes with the id2label dataframe to get the label_string column\n",
    "df = df.merge(label_df, on=\"label\", how=\"left\")\n",
    "# concat the premise and hypothesis columns to with \"[CLS]\" in the beginning and \"[SEP]\" in the middle and end to get the text column\n",
    "df[\"text\"] = \"[CLS] \" + df[\"premise\"] + \" [SEP] \" + df[\"hypothesis\"] + \" [SEP]\"\n",
    "# drop the idx, premise and hypothesis columns as they are not needed\n",
    "df = df.drop(columns=[\"idx\", \"premise\", \"hypothesis\", \"label\"])\n",
    "# rename the label_string column to ground_truth_label\n",
    "df = df.rename(columns={\"label_string\": \"ground_truth_label\"})\n",
    "\n",
    "# save 10% of the rows from the train, validation and test dataframes into files with small_ prefix in the ./dataset_dir folder\n",
    "small_data_file = \"small_train.jsonl\"\n",
    "df.sample(frac=0.1).to_json(\n",
    "    os.path.join(dataset_dir, small_data_file), orient=\"records\", lines=True\n",
    ")\n",
    "\n",
    "df.head()"
   ]
  },
  {
   "attachments": {},
   "cell_type": "markdown",
   "metadata": {},
   "source": [
    "### 4. Deploy the model to an online endpoint\n",
    "Online endpoints give a durable REST API that can be used to integrate with applications that need to use the model."
   ]
  },
  {
   "cell_type": "code",
   "execution_count": 4,
   "metadata": {},
   "outputs": [],
   "source": [
    "import time, sys\n",
    "from azure.ai.ml.entities import ManagedOnlineEndpoint, ManagedOnlineDeployment\n",
    "\n",
    "# Create online endpoint - endpoint names need to be unique in a region, hence using timestamp to create unique endpoint name\n",
    "timestamp = int(time.time())\n",
    "online_endpoint_name = \"entail-contra-\" + str(timestamp)\n",
    "# create an online endpoint\n",
    "endpoint = ManagedOnlineEndpoint(\n",
    "    name=online_endpoint_name,\n",
    "    description=\"Online endpoint for \"\n",
    "    + foundation_model.name\n",
    "    + \", to detect entailment v/s contradiction\",\n",
    "    auth_mode=\"key\",\n",
    ")\n",
    "workspace_ml_client.begin_create_or_update(endpoint).wait()"
   ]
  },
  {
   "cell_type": "code",
   "execution_count": 5,
   "metadata": {},
   "outputs": [
    {
     "name": "stderr",
     "output_type": "stream",
     "text": [
      "Instance type Standard_DS2_v2 may be too small for compute resources. Minimum recommended compute SKU is Standard_DS3_v2 for general purpose endpoints. Learn more about SKUs here: https://learn.microsoft.com/en-us/azure/machine-learning/referencemanaged-online-endpoints-vm-sku-list\n",
      "Check: endpoint entail-contra-1684194378 exists\n",
      "data_collector is not a known attribute of class <class 'azure.ai.ml._restclient.v2022_02_01_preview.models._models_py3.ManagedOnlineDeployment'> and will be ignored\n"
     ]
    },
    {
     "name": "stdout",
     "output_type": "stream",
     "text": [
      "......................................................................................................................"
     ]
    },
    {
     "data": {
      "text/plain": [
       "ManagedOnlineEndpoint({'public_network_access': 'Enabled', 'provisioning_state': 'Succeeded', 'scoring_uri': 'https://entail-contra-1684194378.eastus2euap.inference.ml.azure.com/score', 'openapi_uri': 'https://entail-contra-1684194378.eastus2euap.inference.ml.azure.com/swagger.json', 'name': 'entail-contra-1684194378', 'description': 'Online endpoint for microsoft-deberta-base-mnli, to detect entailment v/s contradiction', 'tags': {}, 'properties': {'azureml.onlineendpointid': '/subscriptions/ea4faa5b-5e44-4236-91f6-5483d5b17d14/resourcegroups/amyharrispersonal/providers/microsoft.machinelearningservices/workspaces/amyharris-canary/onlineendpoints/entail-contra-1684194378', 'AzureAsyncOperationUri': 'https://management.azure.com/subscriptions/ea4faa5b-5e44-4236-91f6-5483d5b17d14/providers/Microsoft.MachineLearningServices/locations/eastus2euap/mfeOperationsStatus/oe:c76e6446-545b-4141-80f9-e8ad59c471f2:72e8d8a9-2dc1-4d43-8405-46e5039242db?api-version=2022-02-01-preview'}, 'print_as_yaml': True, 'id': '/subscriptions/ea4faa5b-5e44-4236-91f6-5483d5b17d14/resourceGroups/amyharrispersonal/providers/Microsoft.MachineLearningServices/workspaces/amyharris-canary/onlineEndpoints/entail-contra-1684194378', 'Resource__source_path': None, 'base_path': 'c:\\\\Users\\\\amyharris\\\\source\\\\repos\\\\azureml-examples\\\\sdk\\\\python\\\\foundation-models\\\\system\\\\inference\\\\text-classification', 'creation_context': None, 'serialize': <msrest.serialization.Serializer object at 0x00000259E4021DC0>, 'auth_mode': 'key', 'location': 'eastus2euap', 'identity': <azure.ai.ml.entities._credentials.IdentityConfiguration object at 0x00000259DB6292B0>, 'traffic': {'demo': 100}, 'mirror_traffic': {}, 'kind': 'Managed'})"
      ]
     },
     "execution_count": 5,
     "metadata": {},
     "output_type": "execute_result"
    }
   ],
   "source": [
    "# create a deployment\n",
    "demo_deployment = ManagedOnlineDeployment(\n",
    "    name=\"demo\",\n",
    "    endpoint_name=online_endpoint_name,\n",
    "    model=foundation_model.id,\n",
    "    instance_type=\"Standard_DS2_v2\",\n",
    "    instance_count=1,\n",
    ")\n",
    "workspace_ml_client.online_deployments.begin_create_or_update(demo_deployment).wait()\n",
    "endpoint.traffic = {\"demo\": 100}\n",
    "workspace_ml_client.begin_create_or_update(endpoint).result()"
   ]
  },
  {
   "attachments": {},
   "cell_type": "markdown",
   "metadata": {},
   "source": [
    "### 5. Test the endpoint with sample data\n",
    "\n",
    "We will fetch some sample data from the test dataset and submit to online endpoint for inference. We will then show the display the scored labels alongside the ground truth labels"
   ]
  },
  {
   "cell_type": "code",
   "execution_count": 6,
   "metadata": {},
   "outputs": [
    {
     "data": {
      "text/html": [
       "<div>\n",
       "<style scoped>\n",
       "    .dataframe tbody tr th:only-of-type {\n",
       "        vertical-align: middle;\n",
       "    }\n",
       "\n",
       "    .dataframe tbody tr th {\n",
       "        vertical-align: top;\n",
       "    }\n",
       "\n",
       "    .dataframe thead th {\n",
       "        text-align: right;\n",
       "    }\n",
       "</style>\n",
       "<table border=\"1\" class=\"dataframe\">\n",
       "  <thead>\n",
       "    <tr style=\"text-align: right;\">\n",
       "      <th></th>\n",
       "      <th>ground_truth_label</th>\n",
       "      <th>text</th>\n",
       "    </tr>\n",
       "  </thead>\n",
       "  <tbody>\n",
       "    <tr>\n",
       "      <th>0</th>\n",
       "      <td>ENTAILMENT</td>\n",
       "      <td>[CLS] that's that's on our list of things to see [SEP] That's on our list.  [SEP]</td>\n",
       "    </tr>\n",
       "    <tr>\n",
       "      <th>1</th>\n",
       "      <td>NEUTRAL</td>\n",
       "      <td>[CLS] At the south end of the square is the 14th-century Loggia della Signoria or dei Lanzi, transformed from the city fathers' ceremonial grandstand into a guardroom for Swiss mercenary Lands?­knechte. [SEP] The Loggia della Signoria gets a ton of visitors trying to view the Swiss mercenary Landsknecht. [SEP]</td>\n",
       "    </tr>\n",
       "    <tr>\n",
       "      <th>2</th>\n",
       "      <td>CONTRADICTION</td>\n",
       "      <td>[CLS] Dreams of the  Lefty (Al Pacino) and Brasco (Depp) (30 seconds) : [SEP] Al Pacino never had a role in Dreams of the Lefty.   [SEP]</td>\n",
       "    </tr>\n",
       "    <tr>\n",
       "      <th>3</th>\n",
       "      <td>NEUTRAL</td>\n",
       "      <td>[CLS] There was Sage. [SEP] Sage was there at the mill. [SEP]</td>\n",
       "    </tr>\n",
       "    <tr>\n",
       "      <th>4</th>\n",
       "      <td>NEUTRAL</td>\n",
       "      <td>[CLS] California Rural Legal Assistance has purchased an Oxnard building it had been renting since earlier this year, moving the provider of legal services for Ventura County's poor closer to two goals. [SEP] California Rural Legal Assistance bought a building for their new office. [SEP]</td>\n",
       "    </tr>\n",
       "  </tbody>\n",
       "</table>\n",
       "</div>"
      ],
      "text/plain": [
       "  ground_truth_label  \\\n",
       "0  ENTAILMENT          \n",
       "1  NEUTRAL             \n",
       "2  CONTRADICTION       \n",
       "3  NEUTRAL             \n",
       "4  NEUTRAL             \n",
       "\n",
       "                                                                                                                                                                                                                                                                                                                      text  \n",
       "0  [CLS] that's that's on our list of things to see [SEP] That's on our list.  [SEP]                                                                                                                                                                                                                                        \n",
       "1  [CLS] At the south end of the square is the 14th-century Loggia della Signoria or dei Lanzi, transformed from the city fathers' ceremonial grandstand into a guardroom for Swiss mercenary Lands?­knechte. [SEP] The Loggia della Signoria gets a ton of visitors trying to view the Swiss mercenary Landsknecht. [SEP]  \n",
       "2  [CLS] Dreams of the  Lefty (Al Pacino) and Brasco (Depp) (30 seconds) : [SEP] Al Pacino never had a role in Dreams of the Lefty.   [SEP]                                                                                                                                                                                 \n",
       "3  [CLS] There was Sage. [SEP] Sage was there at the mill. [SEP]                                                                                                                                                                                                                                                            \n",
       "4  [CLS] California Rural Legal Assistance has purchased an Oxnard building it had been renting since earlier this year, moving the provider of legal services for Ventura County's poor closer to two goals. [SEP] California Rural Legal Assistance bought a building for their new office. [SEP]                         "
      ]
     },
     "execution_count": 6,
     "metadata": {},
     "output_type": "execute_result"
    }
   ],
   "source": [
    "import json\n",
    "\n",
    "data_file_small = \"small_train.jsonl\"\n",
    "score_file = \"sample_score.json\"\n",
    "# read the data file into a pandas dataframe\n",
    "df = pd.read_json(os.path.join(dataset_dir, data_file_small), lines=True)\n",
    "# escape single and double quotes in the masked_text column\n",
    "# pick 5 random rows\n",
    "sample_df = df.sample(5)\n",
    "# reset the index of sample_df\n",
    "sample_df = sample_df.reset_index(drop=True)\n",
    "\n",
    "# save the json object to a file named sample_score.json in the\n",
    "test_json = {\"inputs\": {\"input_string\": sample_df[\"text\"].tolist()}}\n",
    "# save the json object to a file named sample_score.json in the ./glue-mnli-dataset folder\n",
    "with open(os.path.join(\".\", dataset_dir, score_file), \"w\") as f:\n",
    "    json.dump(test_json, f)\n",
    "sample_df.head()"
   ]
  },
  {
   "cell_type": "code",
   "execution_count": 7,
   "metadata": {},
   "outputs": [
    {
     "name": "stdout",
     "output_type": "stream",
     "text": [
      "raw response: \n",
      " [{\"0\": \"ENTAILMENT\"}, {\"0\": \"NEUTRAL\"}, {\"0\": \"CONTRADICTION\"}, {\"0\": \"NEUTRAL\"}, {\"0\": \"NEUTRAL\"}] \n",
      "\n"
     ]
    },
    {
     "data": {
      "text/html": [
       "<div>\n",
       "<style scoped>\n",
       "    .dataframe tbody tr th:only-of-type {\n",
       "        vertical-align: middle;\n",
       "    }\n",
       "\n",
       "    .dataframe tbody tr th {\n",
       "        vertical-align: top;\n",
       "    }\n",
       "\n",
       "    .dataframe thead th {\n",
       "        text-align: right;\n",
       "    }\n",
       "</style>\n",
       "<table border=\"1\" class=\"dataframe\">\n",
       "  <thead>\n",
       "    <tr style=\"text-align: right;\">\n",
       "      <th></th>\n",
       "      <th>0</th>\n",
       "    </tr>\n",
       "  </thead>\n",
       "  <tbody>\n",
       "    <tr>\n",
       "      <th>0</th>\n",
       "      <td>ENTAILMENT</td>\n",
       "    </tr>\n",
       "    <tr>\n",
       "      <th>1</th>\n",
       "      <td>NEUTRAL</td>\n",
       "    </tr>\n",
       "    <tr>\n",
       "      <th>2</th>\n",
       "      <td>CONTRADICTION</td>\n",
       "    </tr>\n",
       "    <tr>\n",
       "      <th>3</th>\n",
       "      <td>NEUTRAL</td>\n",
       "    </tr>\n",
       "    <tr>\n",
       "      <th>4</th>\n",
       "      <td>NEUTRAL</td>\n",
       "    </tr>\n",
       "  </tbody>\n",
       "</table>\n",
       "</div>"
      ],
      "text/plain": [
       "               0\n",
       "0  ENTAILMENT   \n",
       "1  NEUTRAL      \n",
       "2  CONTRADICTION\n",
       "3  NEUTRAL      \n",
       "4  NEUTRAL      "
      ]
     },
     "execution_count": 7,
     "metadata": {},
     "output_type": "execute_result"
    }
   ],
   "source": [
    "# score the sample_score.json file using the online endpoint with the azureml endpoint invoke method\n",
    "response = workspace_ml_client.online_endpoints.invoke(\n",
    "    endpoint_name=online_endpoint_name,\n",
    "    deployment_name=\"demo\",\n",
    "    request_file=os.path.join(\".\", dataset_dir, score_file),\n",
    ")\n",
    "print(\"raw response: \\n\", response, \"\\n\")\n",
    "# convert the json response to a pandas dataframe\n",
    "response_df = pd.read_json(response)\n",
    "# rename label column to predicted_label\n",
    "response_df = response_df.rename(columns={\"label\": \"predicted_label\"})\n",
    "response_df.head()"
   ]
  },
  {
   "cell_type": "code",
   "execution_count": 8,
   "metadata": {},
   "outputs": [
    {
     "data": {
      "text/html": [
       "<div>\n",
       "<style scoped>\n",
       "    .dataframe tbody tr th:only-of-type {\n",
       "        vertical-align: middle;\n",
       "    }\n",
       "\n",
       "    .dataframe tbody tr th {\n",
       "        vertical-align: top;\n",
       "    }\n",
       "\n",
       "    .dataframe thead th {\n",
       "        text-align: right;\n",
       "    }\n",
       "</style>\n",
       "<table border=\"1\" class=\"dataframe\">\n",
       "  <thead>\n",
       "    <tr style=\"text-align: right;\">\n",
       "      <th></th>\n",
       "      <th>ground_truth_label</th>\n",
       "      <th>text</th>\n",
       "      <th>0</th>\n",
       "    </tr>\n",
       "  </thead>\n",
       "  <tbody>\n",
       "    <tr>\n",
       "      <th>0</th>\n",
       "      <td>ENTAILMENT</td>\n",
       "      <td>[CLS] that's that's on our list of things to see [SEP] That's on our list.  [SEP]</td>\n",
       "      <td>ENTAILMENT</td>\n",
       "    </tr>\n",
       "    <tr>\n",
       "      <th>1</th>\n",
       "      <td>NEUTRAL</td>\n",
       "      <td>[CLS] At the south end of the square is the 14th-century Loggia della Signoria or dei Lanzi, transformed from the city fathers' ceremonial grandstand into a guardroom for Swiss mercenary Lands?­knechte. [SEP] The Loggia della Signoria gets a ton of visitors trying to view the Swiss mercenary Landsknecht. [SEP]</td>\n",
       "      <td>NEUTRAL</td>\n",
       "    </tr>\n",
       "    <tr>\n",
       "      <th>2</th>\n",
       "      <td>CONTRADICTION</td>\n",
       "      <td>[CLS] Dreams of the  Lefty (Al Pacino) and Brasco (Depp) (30 seconds) : [SEP] Al Pacino never had a role in Dreams of the Lefty.   [SEP]</td>\n",
       "      <td>CONTRADICTION</td>\n",
       "    </tr>\n",
       "    <tr>\n",
       "      <th>3</th>\n",
       "      <td>NEUTRAL</td>\n",
       "      <td>[CLS] There was Sage. [SEP] Sage was there at the mill. [SEP]</td>\n",
       "      <td>NEUTRAL</td>\n",
       "    </tr>\n",
       "    <tr>\n",
       "      <th>4</th>\n",
       "      <td>NEUTRAL</td>\n",
       "      <td>[CLS] California Rural Legal Assistance has purchased an Oxnard building it had been renting since earlier this year, moving the provider of legal services for Ventura County's poor closer to two goals. [SEP] California Rural Legal Assistance bought a building for their new office. [SEP]</td>\n",
       "      <td>NEUTRAL</td>\n",
       "    </tr>\n",
       "  </tbody>\n",
       "</table>\n",
       "</div>"
      ],
      "text/plain": [
       "  ground_truth_label  \\\n",
       "0  ENTAILMENT          \n",
       "1  NEUTRAL             \n",
       "2  CONTRADICTION       \n",
       "3  NEUTRAL             \n",
       "4  NEUTRAL             \n",
       "\n",
       "                                                                                                                                                                                                                                                                                                                      text  \\\n",
       "0  [CLS] that's that's on our list of things to see [SEP] That's on our list.  [SEP]                                                                                                                                                                                                                                         \n",
       "1  [CLS] At the south end of the square is the 14th-century Loggia della Signoria or dei Lanzi, transformed from the city fathers' ceremonial grandstand into a guardroom for Swiss mercenary Lands?­knechte. [SEP] The Loggia della Signoria gets a ton of visitors trying to view the Swiss mercenary Landsknecht. [SEP]   \n",
       "2  [CLS] Dreams of the  Lefty (Al Pacino) and Brasco (Depp) (30 seconds) : [SEP] Al Pacino never had a role in Dreams of the Lefty.   [SEP]                                                                                                                                                                                  \n",
       "3  [CLS] There was Sage. [SEP] Sage was there at the mill. [SEP]                                                                                                                                                                                                                                                             \n",
       "4  [CLS] California Rural Legal Assistance has purchased an Oxnard building it had been renting since earlier this year, moving the provider of legal services for Ventura County's poor closer to two goals. [SEP] California Rural Legal Assistance bought a building for their new office. [SEP]                          \n",
       "\n",
       "               0  \n",
       "0  ENTAILMENT     \n",
       "1  NEUTRAL        \n",
       "2  CONTRADICTION  \n",
       "3  NEUTRAL        \n",
       "4  NEUTRAL        "
      ]
     },
     "execution_count": 8,
     "metadata": {},
     "output_type": "execute_result"
    }
   ],
   "source": [
    "# merge the sample_df and response_df dataframes\n",
    "merged_df = sample_df.merge(response_df, left_index=True, right_index=True)\n",
    "merged_df.head()"
   ]
  },
  {
   "attachments": {},
   "cell_type": "markdown",
   "metadata": {},
   "source": [
    "### 6. Delete the online endpoint\n",
    "Don't forget to delete the online endpoint, else you will leave the billing meter running for the compute used by the endpoint"
   ]
  },
  {
   "cell_type": "code",
   "execution_count": 9,
   "metadata": {},
   "outputs": [
    {
     "name": "stdout",
     "output_type": "stream",
     "text": [
      "..................................................................................."
     ]
    }
   ],
   "source": [
    "workspace_ml_client.online_endpoints.begin_delete(name=online_endpoint_name).wait()"
   ]
  }
 ],
 "metadata": {
  "kernelspec": {
   "display_name": "base",
   "language": "python",
   "name": "python3"
  },
  "language_info": {
   "codemirror_mode": {
    "name": "ipython",
    "version": 3
   },
   "file_extension": ".py",
   "mimetype": "text/x-python",
   "name": "python",
   "nbconvert_exporter": "python",
   "pygments_lexer": "ipython3",
   "version": "3.9.12"
  },
  "vscode": {
   "interpreter": {
    "hash": "2f394aca7ca06fed1e6064aef884364492d7cdda3614a461e02e6407fc40ba69"
   }
  }
 },
 "nbformat": 4,
 "nbformat_minor": 2
}
