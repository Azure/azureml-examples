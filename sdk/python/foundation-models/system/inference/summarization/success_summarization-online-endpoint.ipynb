{
 "cells": [
  {
   "attachments": {},
   "cell_type": "markdown",
   "metadata": {},
   "source": [
    "## Summarization Inference using Online Endpoints\n",
    "\n",
    "This sample shows how to deploy `summarization` type models to an online endpoint for inference.\n",
    "\n",
    "### Task\n",
    "`summarization` creates a shorter version of a document or an article that captures all the important information. Along with translation, it is another example of a task that can be formulated as a sequence-to-sequence task. \n",
    "`summarization` can be:\n",
    "\n",
    "* Extractive: extract the most relevant information from a document.\n",
    "* Abstractive: generate new text that captures the most relevant information.\n",
    "\n",
    "### Model\n",
    "Models that can perform the `summarization` task are tagged with `task: summarization`. We will use the `sshleifer-distilbart-cnn-12-6` model in this notebook. If you opened this notebook from a specific model card, remember to replace the specific model name. If you don't find a model that suits your scenario or domain, you can discover and [import models from HuggingFace hub](../../import/import-model-from-huggingface.ipynb) and then use them for inference. \n",
    "\n",
    "### Inference data\n",
    "We will use the [CNN DailyMail](https://huggingface.co/datasets/cnn_dailymail) dataset. A copy of this dataset is available in the [news-summary-dataset](./news-summary-dataset/) folder.\n",
    "\n",
    "### Outline\n",
    "* Set up pre-requisites.\n",
    "* Pick a model to deploy.\n",
    "* Prepare data for inference. \n",
    "* Deploy the model for real time inference.\n",
    "* Test the endpoint\n",
    "* Clean up resources."
   ]
  },
  {
   "attachments": {},
   "cell_type": "markdown",
   "metadata": {},
   "source": [
    "### 1. Set up pre-requisites\n",
    "* Install dependencies\n",
    "* Connect to AzureML Workspace. Learn more at [set up SDK authentication](https://learn.microsoft.com/en-us/azure/machine-learning/how-to-setup-authentication?tabs=sdk). Replace  `<WORKSPACE_NAME>`, `<RESOURCE_GROUP>` and `<SUBSCRIPTION_ID>` below.\n",
    "* Connect to `azureml` system registry"
   ]
  },
  {
   "cell_type": "code",
   "execution_count": 1,
   "metadata": {},
   "outputs": [
    {
     "name": "stderr",
     "output_type": "stream",
     "text": [
      "Class FeatureStoreOperations: This is an experimental class, and may change at any time. Please see https://aka.ms/azuremlexperimental for more information.\n",
      "Class FeatureSetOperations: This is an experimental class, and may change at any time. Please see https://aka.ms/azuremlexperimental for more information.\n",
      "Class FeatureStoreEntityOperations: This is an experimental class, and may change at any time. Please see https://aka.ms/azuremlexperimental for more information.\n"
     ]
    }
   ],
   "source": [
    "from azure.ai.ml import MLClient\n",
    "from azure.identity import (\n",
    "    DefaultAzureCredential,\n",
    "    InteractiveBrowserCredential,\n",
    "    ClientSecretCredential,\n",
    ")\n",
    "from azure.ai.ml.entities import AmlCompute\n",
    "import time\n",
    "\n",
    "try:\n",
    "    credential = DefaultAzureCredential()\n",
    "    credential.get_token(\"https://management.azure.com/.default\")\n",
    "except Exception as ex:\n",
    "    credential = InteractiveBrowserCredential()\n",
    "\n",
    "workspace_ml_client = MLClient(\n",
    "    credential,\n",
    "    subscription_id=\"ea4faa5b-5e44-4236-91f6-5483d5b17d14\",\n",
    "    resource_group_name=\"amyharrispersonal\",\n",
    "    workspace_name=\"amyharris-canary\",\n",
    ")\n",
    "# the models, fine tuning pipelines and environments are available in the AzureML system registry, \"azureml-preview\"\n",
    "registry_ml_client = MLClient(credential, registry_name=\"azureml-preview\")"
   ]
  },
  {
   "attachments": {},
   "cell_type": "markdown",
   "metadata": {},
   "source": [
    "### 2. Pick a model to deploy\n",
    "\n",
    "Browse models in the Model Catalog in the AzureML Studio, filtering by the `summarization` task. In this example, we use the `sshleifer-distilbart-cnn-12-6` model. If you have opened this notebook for a different model, replace the model name and version accordingly. "
   ]
  },
  {
   "cell_type": "code",
   "execution_count": 2,
   "metadata": {},
   "outputs": [
    {
     "name": "stdout",
     "output_type": "stream",
     "text": [
      "\n",
      "\n",
      "Using model name: sshleifer-distilbart-cnn-12-6, version: 3, id: azureml://registries/azureml-preview/models/sshleifer-distilbart-cnn-12-6/versions/3 for inferencing\n"
     ]
    }
   ],
   "source": [
    "model_name = \"sshleifer-distilbart-cnn-12-6\"\n",
    "model_version = \"3\"\n",
    "foundation_model = registry_ml_client.models.get(model_name, model_version)\n",
    "print(\n",
    "    \"\\n\\nUsing model name: {0}, version: {1}, id: {2} for inferencing\".format(\n",
    "        foundation_model.name, foundation_model.version, foundation_model.id\n",
    "    )\n",
    ")"
   ]
  },
  {
   "attachments": {},
   "cell_type": "markdown",
   "metadata": {},
   "source": [
    "### 3. Prepare data for inference.\n",
    "\n",
    "A subset of the news summary dataset is available in the [news-summary-dataset](./news-summary-dataset/) folder. The next few cells show basic data preparation:\n",
    "* Visualize some data rows\n",
    "* Save few samples in the format that can be passed as input to the online-inference endpoint."
   ]
  },
  {
   "cell_type": "code",
   "execution_count": 3,
   "metadata": {},
   "outputs": [
    {
     "data": {
      "text/html": [
       "<div>\n",
       "<style scoped>\n",
       "    .dataframe tbody tr th:only-of-type {\n",
       "        vertical-align: middle;\n",
       "    }\n",
       "\n",
       "    .dataframe tbody tr th {\n",
       "        vertical-align: top;\n",
       "    }\n",
       "\n",
       "    .dataframe thead th {\n",
       "        text-align: right;\n",
       "    }\n",
       "</style>\n",
       "<table border=\"1\" class=\"dataframe\">\n",
       "  <thead>\n",
       "    <tr style=\"text-align: right;\">\n",
       "      <th></th>\n",
       "      <th>article</th>\n",
       "      <th>highlights</th>\n",
       "      <th>id</th>\n",
       "    </tr>\n",
       "  </thead>\n",
       "  <tbody>\n",
       "    <tr>\n",
       "      <th>0</th>\n",
       "      <td>MADRID, Spain (CNN) -- Barack Obama sometimes gets ribbed for his outsized ideas, like the massive stage built in Denver, Colorado, to accept the Democratic presidential nomination. But an artist in Barcelona, Spain, may be about to outdo the candidate himself. Large-format sketches have long been a focus of artist Jorge Rodriguez-Gerada's work. The artist plans to create a gigantic face of Obama sculpted from gravel and sand, which will cover nearly 2.5 acres (1 hectare) of Barcelona beachfront before the U.S. elections. \"The size of the piece is intrinsic to its value,\" the artist, Jorge Rodriguez-Gerada, said Saturday. He hopes it will be big enough to be seen on Google Earth. \"Obama's personality -- his youth, personal history and message of a new politics -- has fused with the historical moment to create someone larger than life,\" says the artist's dossier about the work, titled \"Expectation.\" The huge size also alludes \"to the global impact of this election,\" the dossier adds. iReport.com: What do you want to ask Sen. Obama? Rodriguez-Gerada, 42, is a Cuban-born American who grew up in North Plainfield, New Jersey, near New York, and now lives in Barcelona. The artist, who has long focused on large-format sketches and other designs, said he had been planning to put an anonymous face on Barcelona's Mediterranean beachfront but shelved the idea. Then, six weeks ago, he decided it should be Obama's face. \"Everybody's doing work about Obama,\" he said. \"I was talking to my wife about the importance of this election internationally. It all came together.\" The idea, that is. The execution of the project is still a work in progress, but with a lot of help pouring in. The artist has created what he calls a \"vectored image\" from different photos of Obama, showing the candidate's face looking left over his shoulder. He will use 500 tons of material -- mainly gravel but also sand and possibly some soil in black, brown and white tones -- to create the image on a flat piece of land slightly raised and overlooking the Mediterranean, near downtown Barcelona. The artist and a Barcelona newspaper say the city has temporarily ceded use of the land for the project. The portrait of Obama's face will be 445 feet long by 264 feet wide (139.28 by 82.67 meters) and the artist hopes to have it done by late next week or no later than November 3, the day before the U.S. elections. The materials have been donated, along with bulldozers and their drivers. The crews will initially spread the materials along white lines, and other markers that will be laid out according to the sketch. Then, the artist's technical team will direct volunteers with garden rakes to put the final touches on the materials, making sure the various colors are spread properly on the ground in order to depict Obama's eyes, hair, cheeks and collar, according to the plans. Rodriguez-Gerada said he'll need to raise about $18,700 (15,000 euros) for other costs, such as rakes and gloves for volunteers, documentation, even portable toilets for the crew. He said it's his \"biggest work ever, in scale and complexity.\" He's a self-described political independent until recently, when he joined Democrats Abroad in Spain. But he added that the art project is his alone, without help from any political organization or campaign, and he won't be paid for it. Rodriguez-Gerada said this project also aims to address the issue of \"trying to find heroes with empathy for the problems of the world. We really need empathy from Barack Obama. There's a need to do positive things for the future.\" Obama's giant face would be environmentally friendly, with all natural colors, so the materials could be recycled, the artist said. Rodriguez-Gerada's not sure how long the face would remain in place in Barcelona, because the site is slated to be used for a new municipal building. But even if the face isn't permanent, it might be the start of outsized artistic images of Obama. Barcelona journalist Matt Elmore contributed to this report.</td>\n",
       "      <td>Cuban-American artist plans to finish work before U.S. elections .\\n500 tons of material will cover 2.5 acres of beachfront .\\nDemocratic presidential candidate is \"larger than life,\" artist says .\\nProject also aims to address issue of \"trying to find heroes\"</td>\n",
       "      <td>7bf066e9fa3c6b5aaeaf0c0867aefc55c029fb9d</td>\n",
       "    </tr>\n",
       "    <tr>\n",
       "      <th>1</th>\n",
       "      <td>(CNN) -- An explosion destroyed a home in suburban Pittsburgh on Wednesday, killing an elderly man and severely injuring his grandchild, authorities said. A house exploded Wednesday, killng one person and injuring a second, in the Pennsylvania borough of Plum. The explosion was reported about 1:30 p.m. on Mardi Gras Drive in Plum Borough, about 15 miles northeast of Pittsburgh. Several neighboring homes were damaged, fire officials said. Richard Leith, 64, was babysitting his grandchild in the home, according to John J. Smith, an investigator with the Allegheny County medical examiner's office. Both were transported to local hospitals, though Leith died later in the afternoon. The condition of the child, who was treated at Children's Hospital, was unknown, Smith said. Leith's autopsy would be conducted on Thursday, he added. It is unclear what caused the explosion. Dave Heiser, a neighbor, told CNN that he was home when he heard the explosion. \"I thought my house blew up. My windows were blown out. I went outside and debris was falling from the sky,\" he said. Watch the neighbor describe hearing the blast » . He said he ran three houses down and saw a woman running with a little girl and screaming. \"The little girl was apparently in the house when the explosion happened and was blown outside,\" Heiser said. \"That house was leveled to the ground. There is nothing left.\" Several families who were displaced by the explosion were directed to Red Cross officials to make arrangements for shelter Wednesday night, authorities said. E-mail to a friend . CNN's Ninette Sosa contributed to this report.</td>\n",
       "      <td>Officials: 1:30 p.m. explosion kills grandfather, severely injures grandchild .\\nIt's unclear what caused the blast, authorities say .\\nInvestigator: 64-year-old Richard Leith died at hospital .\\nNeighbor says he saw a woman running down street with a little girl after blast .</td>\n",
       "      <td>f3d07208d0059d738fc7788a4ce813309b677d7b</td>\n",
       "    </tr>\n",
       "  </tbody>\n",
       "</table>\n",
       "</div>"
      ],
      "text/plain": [
       "                                                                                                                                                                                                                                                                                                                                                                                                                                                                                                                                                                                                                                                                                                                                                                                                                                                                                                                                                                                                                                                                                                                                                                                                                                                                                                                                                                                                                                                                                                                                                                                                                                                                                                                                                                                                                                                                                                                                                                                                                                                                                                                                                                                                                                                                                                                                                                                                                                                                                                                                                                                                                                                                                                                                                                                                                                                                                                                                                                                                                                                                                                                                                                                                                                                                                                                                                                                                                                                                                                                                                                                                                                                                                                                                                                                                                                                                                                                                                                                                                                                                                                                                                                                   article  \\\n",
       "0  MADRID, Spain (CNN) -- Barack Obama sometimes gets ribbed for his outsized ideas, like the massive stage built in Denver, Colorado, to accept the Democratic presidential nomination. But an artist in Barcelona, Spain, may be about to outdo the candidate himself. Large-format sketches have long been a focus of artist Jorge Rodriguez-Gerada's work. The artist plans to create a gigantic face of Obama sculpted from gravel and sand, which will cover nearly 2.5 acres (1 hectare) of Barcelona beachfront before the U.S. elections. \"The size of the piece is intrinsic to its value,\" the artist, Jorge Rodriguez-Gerada, said Saturday. He hopes it will be big enough to be seen on Google Earth. \"Obama's personality -- his youth, personal history and message of a new politics -- has fused with the historical moment to create someone larger than life,\" says the artist's dossier about the work, titled \"Expectation.\" The huge size also alludes \"to the global impact of this election,\" the dossier adds. iReport.com: What do you want to ask Sen. Obama? Rodriguez-Gerada, 42, is a Cuban-born American who grew up in North Plainfield, New Jersey, near New York, and now lives in Barcelona. The artist, who has long focused on large-format sketches and other designs, said he had been planning to put an anonymous face on Barcelona's Mediterranean beachfront but shelved the idea. Then, six weeks ago, he decided it should be Obama's face. \"Everybody's doing work about Obama,\" he said. \"I was talking to my wife about the importance of this election internationally. It all came together.\" The idea, that is. The execution of the project is still a work in progress, but with a lot of help pouring in. The artist has created what he calls a \"vectored image\" from different photos of Obama, showing the candidate's face looking left over his shoulder. He will use 500 tons of material -- mainly gravel but also sand and possibly some soil in black, brown and white tones -- to create the image on a flat piece of land slightly raised and overlooking the Mediterranean, near downtown Barcelona. The artist and a Barcelona newspaper say the city has temporarily ceded use of the land for the project. The portrait of Obama's face will be 445 feet long by 264 feet wide (139.28 by 82.67 meters) and the artist hopes to have it done by late next week or no later than November 3, the day before the U.S. elections. The materials have been donated, along with bulldozers and their drivers. The crews will initially spread the materials along white lines, and other markers that will be laid out according to the sketch. Then, the artist's technical team will direct volunteers with garden rakes to put the final touches on the materials, making sure the various colors are spread properly on the ground in order to depict Obama's eyes, hair, cheeks and collar, according to the plans. Rodriguez-Gerada said he'll need to raise about $18,700 (15,000 euros) for other costs, such as rakes and gloves for volunteers, documentation, even portable toilets for the crew. He said it's his \"biggest work ever, in scale and complexity.\" He's a self-described political independent until recently, when he joined Democrats Abroad in Spain. But he added that the art project is his alone, without help from any political organization or campaign, and he won't be paid for it. Rodriguez-Gerada said this project also aims to address the issue of \"trying to find heroes with empathy for the problems of the world. We really need empathy from Barack Obama. There's a need to do positive things for the future.\" Obama's giant face would be environmentally friendly, with all natural colors, so the materials could be recycled, the artist said. Rodriguez-Gerada's not sure how long the face would remain in place in Barcelona, because the site is slated to be used for a new municipal building. But even if the face isn't permanent, it might be the start of outsized artistic images of Obama. Barcelona journalist Matt Elmore contributed to this report.   \n",
       "1  (CNN) -- An explosion destroyed a home in suburban Pittsburgh on Wednesday, killing an elderly man and severely injuring his grandchild, authorities said. A house exploded Wednesday, killng one person and injuring a second, in the Pennsylvania borough of Plum. The explosion was reported about 1:30 p.m. on Mardi Gras Drive in Plum Borough, about 15 miles northeast of Pittsburgh. Several neighboring homes were damaged, fire officials said. Richard Leith, 64, was babysitting his grandchild in the home, according to John J. Smith, an investigator with the Allegheny County medical examiner's office. Both were transported to local hospitals, though Leith died later in the afternoon. The condition of the child, who was treated at Children's Hospital, was unknown, Smith said. Leith's autopsy would be conducted on Thursday, he added. It is unclear what caused the explosion. Dave Heiser, a neighbor, told CNN that he was home when he heard the explosion. \"I thought my house blew up. My windows were blown out. I went outside and debris was falling from the sky,\" he said. Watch the neighbor describe hearing the blast » . He said he ran three houses down and saw a woman running with a little girl and screaming. \"The little girl was apparently in the house when the explosion happened and was blown outside,\" Heiser said. \"That house was leveled to the ground. There is nothing left.\" Several families who were displaced by the explosion were directed to Red Cross officials to make arrangements for shelter Wednesday night, authorities said. E-mail to a friend . CNN's Ninette Sosa contributed to this report.                                                                                                                                                                                                                                                                                                                                                                                                                                                                                                                                                                                                                                                                                                                                                                                                                                                                                                                                                                                                                                                                                                                                                                                                                                                                                                                                                                                                                                                                                                                                                                                                                                                                                                                                                                                                                                                                                                                                                                                                                                                                                                                                                                                                                                                                                                                                                                                                                                                                                                           \n",
       "\n",
       "                                                                                                                                                                                                                                                                              highlights  \\\n",
       "0  Cuban-American artist plans to finish work before U.S. elections .\\n500 tons of material will cover 2.5 acres of beachfront .\\nDemocratic presidential candidate is \"larger than life,\" artist says .\\nProject also aims to address issue of \"trying to find heroes\"                    \n",
       "1  Officials: 1:30 p.m. explosion kills grandfather, severely injures grandchild .\\nIt's unclear what caused the blast, authorities say .\\nInvestigator: 64-year-old Richard Leith died at hospital .\\nNeighbor says he saw a woman running down street with a little girl after blast .   \n",
       "\n",
       "                                         id  \n",
       "0  7bf066e9fa3c6b5aaeaf0c0867aefc55c029fb9d  \n",
       "1  f3d07208d0059d738fc7788a4ce813309b677d7b  "
      ]
     },
     "execution_count": 3,
     "metadata": {},
     "output_type": "execute_result"
    }
   ],
   "source": [
    "# load the ./news-summary-dataset/train_100.jsonl file into a pandas dataframe and show the first 5 rows\n",
    "import pandas as pd\n",
    "\n",
    "pd.set_option(\n",
    "    \"display.max_colwidth\", 0\n",
    ")  # set the max column width to 0 to display the full text\n",
    "train_df = pd.read_json(\"./news-summary-dataset/train_100.jsonl\", lines=True)\n",
    "train_df.head(2)"
   ]
  },
  {
   "attachments": {},
   "cell_type": "markdown",
   "metadata": {},
   "source": [
    "### 4. Deploy the model to an online endpoint\n",
    "Online endpoints give a durable REST API that can be used to integrate with applications that need to use the model."
   ]
  },
  {
   "cell_type": "code",
   "execution_count": 4,
   "metadata": {},
   "outputs": [],
   "source": [
    "import time, sys\n",
    "from azure.ai.ml.entities import (\n",
    "    ManagedOnlineEndpoint,\n",
    "    ManagedOnlineDeployment,\n",
    "    OnlineRequestSettings,\n",
    ")\n",
    "\n",
    "# Create online endpoint - endpoint names need to be unique in a region, hence using timestamp to create unique endpoint name\n",
    "timestamp = int(time.time())\n",
    "online_endpoint_name = \"summarization-\" + str(timestamp)\n",
    "# create an online endpoint\n",
    "endpoint = ManagedOnlineEndpoint(\n",
    "    name=online_endpoint_name,\n",
    "    description=\"Online endpoint for \"\n",
    "    + foundation_model.name\n",
    "    + \", for summarization task\",\n",
    "    auth_mode=\"key\",\n",
    ")\n",
    "workspace_ml_client.begin_create_or_update(endpoint).wait()"
   ]
  },
  {
   "cell_type": "code",
   "execution_count": 5,
   "metadata": {},
   "outputs": [
    {
     "name": "stderr",
     "output_type": "stream",
     "text": [
      "Check: endpoint summarization-1684194623 exists\n",
      "data_collector is not a known attribute of class <class 'azure.ai.ml._restclient.v2022_02_01_preview.models._models_py3.ManagedOnlineDeployment'> and will be ignored\n"
     ]
    },
    {
     "name": "stdout",
     "output_type": "stream",
     "text": [
      ".........................................................................................................................................................................................."
     ]
    },
    {
     "data": {
      "text/plain": [
       "ManagedOnlineEndpoint({'public_network_access': 'Enabled', 'provisioning_state': 'Succeeded', 'scoring_uri': 'https://summarization-1684194623.eastus2euap.inference.ml.azure.com/score', 'openapi_uri': 'https://summarization-1684194623.eastus2euap.inference.ml.azure.com/swagger.json', 'name': 'summarization-1684194623', 'description': 'Online endpoint for sshleifer-distilbart-cnn-12-6, for summarization task', 'tags': {}, 'properties': {'azureml.onlineendpointid': '/subscriptions/ea4faa5b-5e44-4236-91f6-5483d5b17d14/resourcegroups/amyharrispersonal/providers/microsoft.machinelearningservices/workspaces/amyharris-canary/onlineendpoints/summarization-1684194623', 'AzureAsyncOperationUri': 'https://management.azure.com/subscriptions/ea4faa5b-5e44-4236-91f6-5483d5b17d14/providers/Microsoft.MachineLearningServices/locations/eastus2euap/mfeOperationsStatus/oe:c76e6446-545b-4141-80f9-e8ad59c471f2:d50be4cc-d54d-4627-8c85-9b4e8f7a4747?api-version=2022-02-01-preview'}, 'print_as_yaml': True, 'id': '/subscriptions/ea4faa5b-5e44-4236-91f6-5483d5b17d14/resourceGroups/amyharrispersonal/providers/Microsoft.MachineLearningServices/workspaces/amyharris-canary/onlineEndpoints/summarization-1684194623', 'Resource__source_path': None, 'base_path': 'c:\\\\Users\\\\amyharris\\\\source\\\\repos\\\\azureml-examples\\\\sdk\\\\python\\\\foundation-models\\\\system\\\\inference\\\\summarization', 'creation_context': None, 'serialize': <msrest.serialization.Serializer object at 0x000001F9B7EC4580>, 'auth_mode': 'key', 'location': 'eastus2euap', 'identity': <azure.ai.ml.entities._credentials.IdentityConfiguration object at 0x000001F9B7EC4BE0>, 'traffic': {'demo': 100}, 'mirror_traffic': {}, 'kind': 'Managed'})"
      ]
     },
     "execution_count": 5,
     "metadata": {},
     "output_type": "execute_result"
    }
   ],
   "source": [
    "# create a deployment\n",
    "demo_deployment = ManagedOnlineDeployment(\n",
    "    name=\"demo\",\n",
    "    endpoint_name=online_endpoint_name,\n",
    "    model=foundation_model.id,\n",
    "    instance_type=\"Standard_DS3_v2\",\n",
    "    instance_count=1,\n",
    "    request_settings=OnlineRequestSettings(\n",
    "        request_timeout_ms=60000,\n",
    "    ),\n",
    ")\n",
    "workspace_ml_client.online_deployments.begin_create_or_update(demo_deployment).wait()\n",
    "endpoint.traffic = {\"demo\": 100}\n",
    "workspace_ml_client.begin_create_or_update(endpoint).result()"
   ]
  },
  {
   "attachments": {},
   "cell_type": "markdown",
   "metadata": {},
   "source": [
    "### 5. Test the endpoint with sample data\n",
    "\n",
    "We will fetch some sample data from the test dataset and submit to online endpoint for inference. We will then show the display the scored labels alongside the ground truth labels"
   ]
  },
  {
   "cell_type": "code",
   "execution_count": 6,
   "metadata": {},
   "outputs": [
    {
     "data": {
      "text/html": [
       "<div>\n",
       "<style scoped>\n",
       "    .dataframe tbody tr th:only-of-type {\n",
       "        vertical-align: middle;\n",
       "    }\n",
       "\n",
       "    .dataframe tbody tr th {\n",
       "        vertical-align: top;\n",
       "    }\n",
       "\n",
       "    .dataframe thead th {\n",
       "        text-align: right;\n",
       "    }\n",
       "</style>\n",
       "<table border=\"1\" class=\"dataframe\">\n",
       "  <thead>\n",
       "    <tr style=\"text-align: right;\">\n",
       "      <th></th>\n",
       "      <th>article</th>\n",
       "      <th>highlights</th>\n",
       "      <th>id</th>\n",
       "    </tr>\n",
       "  </thead>\n",
       "  <tbody>\n",
       "    <tr>\n",
       "      <th>85</th>\n",
       "      <td>(CNN) -- Kate Hudson\\'s ex, Black Crowes rocker Chris Robinson, is going to be a dad again, a representative for the band confirmed in a statement Tuesday. Chris Robinson and girlfriend Allison Bridges will be having a child in early 2010. Robinson and girlfriend Allison Bridges, who have been dating for two years, are expecting their first child in early 2010, the statement said. The baby will be the 42-year-old frontman\\'s second child --­ he and Hudson have a 5 1/2-year-old son, Ryder Russell, together. Hudson and Robinson were married for six years and their divorce was finalized in October 2006. They were granted joint custody of their son. Robinson and his brother Rich formed the band that would eventually become the Black Crowes in the 1980s. The Crowes\\' new album, \\\"Before the Frost . . . Until the Freeze,\\\" is in stores now.</td>\n",
       "      <td>Black Crowes frontman Chris Robinson having baby with girlfriend .\\nRobinson and girlfriend Allison Bridges have been dating for two years .\\nHe and ex Kate Hudson have a 5-1/2-year-old son, Ryder Russell, together .</td>\n",
       "      <td>c6eaf9d97b059f3e824a1ab4ffdfe45494e5f8a1</td>\n",
       "    </tr>\n",
       "  </tbody>\n",
       "</table>\n",
       "</div>"
      ],
      "text/plain": [
       "                                                                                                                                                                                                                                                                                                                                                                                                                                                                                                                                                                                                                                                                                                                                                                                                                                                                           article  \\\n",
       "85  (CNN) -- Kate Hudson\\'s ex, Black Crowes rocker Chris Robinson, is going to be a dad again, a representative for the band confirmed in a statement Tuesday. Chris Robinson and girlfriend Allison Bridges will be having a child in early 2010. Robinson and girlfriend Allison Bridges, who have been dating for two years, are expecting their first child in early 2010, the statement said. The baby will be the 42-year-old frontman\\'s second child --­ he and Hudson have a 5 1/2-year-old son, Ryder Russell, together. Hudson and Robinson were married for six years and their divorce was finalized in October 2006. They were granted joint custody of their son. Robinson and his brother Rich formed the band that would eventually become the Black Crowes in the 1980s. The Crowes\\' new album, \\\"Before the Frost . . . Until the Freeze,\\\" is in stores now.   \n",
       "\n",
       "                                                                                                                                                                                                                  highlights  \\\n",
       "85  Black Crowes frontman Chris Robinson having baby with girlfriend .\\nRobinson and girlfriend Allison Bridges have been dating for two years .\\nHe and ex Kate Hudson have a 5-1/2-year-old son, Ryder Russell, together .   \n",
       "\n",
       "                                          id  \n",
       "85  c6eaf9d97b059f3e824a1ab4ffdfe45494e5f8a1  "
      ]
     },
     "execution_count": 6,
     "metadata": {},
     "output_type": "execute_result"
    }
   ],
   "source": [
    "import json\n",
    "import os\n",
    "\n",
    "# read the ./news-summary-dataset/train_100.jsonl file into a pandas dataframe\n",
    "df = pd.read_json(\"./news-summary-dataset/train_100.jsonl\", lines=True)\n",
    "# escape single and double quotes in the masked_text column\n",
    "df[\"article\"] = df[\"article\"].str.replace(\"'\", \"\\\\'\").str.replace('\"', '\\\\\"')\n",
    "# pick 1 random row\n",
    "sample_df = df.sample(1)\n",
    "# create a json object with the key as \"inputs\" and value as a list of values from the article column of the sample_df dataframe\n",
    "sample_json = {\"inputs\": sample_df[\"article\"].tolist()}\n",
    "# save the json object to a file named sample_score.json in the ./news-summary-dataset folder\n",
    "test_json = {\"inputs\": {\"input_string\": sample_df[\"article\"].tolist()}}\n",
    "# save the json object to a file named sample_score.json in the ./news-summary-dataset folder\n",
    "with open(os.path.join(\".\", \"news-summary-dataset\", \"sample_score.json\"), \"w\") as f:\n",
    "    json.dump(test_json, f)\n",
    "sample_df.head()"
   ]
  },
  {
   "cell_type": "code",
   "execution_count": 7,
   "metadata": {},
   "outputs": [
    {
     "name": "stdout",
     "output_type": "stream",
     "text": [
      "raw response: \n",
      " [{\"0\": \" Chris Robinson and girlfriend Allison Bridges are expecting their first child in early 2010 . The baby will be the 42-year-old frontman\\\\'s second child --\\u00ad he and Kate Hudson have a 5 1/2 year-old son, Ryder Russell . Hudson and Robinson were married for six years and their divorce was finalized in October 2006 .\"}] \n",
      "\n"
     ]
    },
    {
     "data": {
      "text/html": [
       "<div>\n",
       "<style scoped>\n",
       "    .dataframe tbody tr th:only-of-type {\n",
       "        vertical-align: middle;\n",
       "    }\n",
       "\n",
       "    .dataframe tbody tr th {\n",
       "        vertical-align: top;\n",
       "    }\n",
       "\n",
       "    .dataframe thead th {\n",
       "        text-align: right;\n",
       "    }\n",
       "</style>\n",
       "<table border=\"1\" class=\"dataframe\">\n",
       "  <thead>\n",
       "    <tr style=\"text-align: right;\">\n",
       "      <th></th>\n",
       "      <th>0</th>\n",
       "    </tr>\n",
       "  </thead>\n",
       "  <tbody>\n",
       "    <tr>\n",
       "      <th>0</th>\n",
       "      <td>Chris Robinson and girlfriend Allison Bridges are expecting their first child in early 2010 . The baby will be the 42-year-old frontman\\'s second child --­ he and Kate Hudson have a 5 1/2 year-old son, Ryder Russell . Hudson and Robinson were married for six years and their divorce was finalized in October 2006 .</td>\n",
       "    </tr>\n",
       "  </tbody>\n",
       "</table>\n",
       "</div>"
      ],
      "text/plain": [
       "                                                                                                                                                                                                                                                                                                                             0\n",
       "0   Chris Robinson and girlfriend Allison Bridges are expecting their first child in early 2010 . The baby will be the 42-year-old frontman\\'s second child --­ he and Kate Hudson have a 5 1/2 year-old son, Ryder Russell . Hudson and Robinson were married for six years and their divorce was finalized in October 2006 ."
      ]
     },
     "execution_count": 7,
     "metadata": {},
     "output_type": "execute_result"
    }
   ],
   "source": [
    "# score the sample_score.json file using the online endpoint with the azureml endpoint invoke method\n",
    "response = workspace_ml_client.online_endpoints.invoke(\n",
    "    endpoint_name=online_endpoint_name,\n",
    "    deployment_name=\"demo\",\n",
    "    request_file=\"./news-summary-dataset/sample_score.json\",\n",
    ")\n",
    "print(\"raw response: \\n\", response, \"\\n\")\n",
    "# convert the json response to a pandas dataframe\n",
    "response_df = pd.read_json(response)\n",
    "response_df.head()"
   ]
  },
  {
   "cell_type": "code",
   "execution_count": 8,
   "metadata": {},
   "outputs": [
    {
     "data": {
      "text/html": [
       "<div>\n",
       "<style scoped>\n",
       "    .dataframe tbody tr th:only-of-type {\n",
       "        vertical-align: middle;\n",
       "    }\n",
       "\n",
       "    .dataframe tbody tr th {\n",
       "        vertical-align: top;\n",
       "    }\n",
       "\n",
       "    .dataframe thead th {\n",
       "        text-align: right;\n",
       "    }\n",
       "</style>\n",
       "<table border=\"1\" class=\"dataframe\">\n",
       "  <thead>\n",
       "    <tr style=\"text-align: right;\">\n",
       "      <th></th>\n",
       "      <th>0</th>\n",
       "      <th>ground_truth_summary</th>\n",
       "    </tr>\n",
       "  </thead>\n",
       "  <tbody>\n",
       "    <tr>\n",
       "      <th>0</th>\n",
       "      <td>Chris Robinson and girlfriend Allison Bridges are expecting their first child in early 2010 . The baby will be the 42-year-old frontman\\'s second child --­ he and Kate Hudson have a 5 1/2 year-old son, Ryder Russell . Hudson and Robinson were married for six years and their divorce was finalized in October 2006 .</td>\n",
       "      <td>Black Crowes frontman Chris Robinson having baby with girlfriend .\\nRobinson and girlfriend Allison Bridges have been dating for two years .\\nHe and ex Kate Hudson have a 5-1/2-year-old son, Ryder Russell, together .</td>\n",
       "    </tr>\n",
       "  </tbody>\n",
       "</table>\n",
       "</div>"
      ],
      "text/plain": [
       "                                                                                                                                                                                                                                                                                                                             0  \\\n",
       "0   Chris Robinson and girlfriend Allison Bridges are expecting their first child in early 2010 . The baby will be the 42-year-old frontman\\'s second child --­ he and Kate Hudson have a 5 1/2 year-old son, Ryder Russell . Hudson and Robinson were married for six years and their divorce was finalized in October 2006 .   \n",
       "\n",
       "                                                                                                                                                                                                       ground_truth_summary  \n",
       "0  Black Crowes frontman Chris Robinson having baby with girlfriend .\\nRobinson and girlfriend Allison Bridges have been dating for two years .\\nHe and ex Kate Hudson have a 5-1/2-year-old son, Ryder Russell, together .  "
      ]
     },
     "execution_count": 8,
     "metadata": {},
     "output_type": "execute_result"
    }
   ],
   "source": [
    "# compare the true summary with the predicted summary\n",
    "response_df.rename(columns={\"summary_text\": \"predicted_summary\"}, inplace=True)\n",
    "response_df[\"ground_truth_summary\"] = [sample_df[\"highlights\"].tolist()[0]]\n",
    "response_df.head()"
   ]
  },
  {
   "attachments": {},
   "cell_type": "markdown",
   "metadata": {},
   "source": [
    "### 6. Delete the online endpoint\n",
    "Don't forget to delete the online endpoint, else you will leave the billing meter running for the compute used by the endpoint"
   ]
  },
  {
   "cell_type": "code",
   "execution_count": 9,
   "metadata": {},
   "outputs": [
    {
     "name": "stdout",
     "output_type": "stream",
     "text": [
      "............"
     ]
    }
   ],
   "source": [
    "workspace_ml_client.online_endpoints.begin_delete(name=online_endpoint_name).wait()"
   ]
  }
 ],
 "metadata": {
  "kernelspec": {
   "display_name": "base",
   "language": "python",
   "name": "python3"
  },
  "language_info": {
   "codemirror_mode": {
    "name": "ipython",
    "version": 3
   },
   "file_extension": ".py",
   "mimetype": "text/x-python",
   "name": "python",
   "nbconvert_exporter": "python",
   "pygments_lexer": "ipython3",
   "version": "3.9.12"
  },
  "vscode": {
   "interpreter": {
    "hash": "2f394aca7ca06fed1e6064aef884364492d7cdda3614a461e02e6407fc40ba69"
   }
  }
 },
 "nbformat": 4,
 "nbformat_minor": 2
}
