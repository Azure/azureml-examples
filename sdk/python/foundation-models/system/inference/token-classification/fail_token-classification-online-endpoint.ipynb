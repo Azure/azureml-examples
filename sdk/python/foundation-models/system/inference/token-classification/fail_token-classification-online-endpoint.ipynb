{
 "cells": [
  {
   "attachments": {},
   "cell_type": "markdown",
   "metadata": {},
   "source": [
    "## Token Classification Inference using Online Endpoints\n",
    "\n",
    "This sample shows how to deploy `token-classification` type models to an online endpoint for inference.\n",
    "\n",
    "### Task\n",
    "`token-classification` assigns a label to individual tokens in a sentence. One of the most common `token-classification` tasks is Named Entity Recognition (NER). NER attempts to find a label for each entity in a sentence, such as a person, location, or organization.\n",
    "\n",
    "### Model\n",
    "Models that can perform the `token-classification` task are tagged with `task: token-classification`. We will use the `Jean-Baptiste-camembert-ner` model in this notebook. If you opened this notebook from a specific model card, remember to replace the specific model name. If you don't find a model that suits your scenario or domain, you can discover and [import models from HuggingFace hub](../../import/import-model-from-huggingface.ipynb) and then use them for inference. \n",
    "\n",
    "### Inference data\n",
    "We will use the [Jean-Baptiste/wikiner_fr](https://huggingface.co/datasets/Jean-Baptiste/wikiner_fr) dataset. A copy of this dataset is available in the [Jean-Baptiste-wikiner_fr](./Jean-Baptiste-wikiner_fr/) folder. \\\n",
    "Please note that the dataset used here is a French dataset, as the Jean-Baptiste/camembert-ner model was trained in French.\n",
    "\n",
    "### Outline\n",
    "* Set up pre-requisites.\n",
    "* Pick a model to deploy.\n",
    "* Prepare data for inference. \n",
    "* Deploy the model for real time inference.\n",
    "* Test the endpoint\n",
    "* Clean up resources."
   ]
  },
  {
   "attachments": {},
   "cell_type": "markdown",
   "metadata": {},
   "source": [
    "### 1. Set up pre-requisites\n",
    "* Install dependencies\n",
    "* Connect to AzureML Workspace. Learn more at [set up SDK authentication](https://learn.microsoft.com/en-us/azure/machine-learning/how-to-setup-authentication?tabs=sdk). Replace  `<WORKSPACE_NAME>`, `<RESOURCE_GROUP>` and `<SUBSCRIPTION_ID>` below.\n",
    "* Connect to `azureml` system registry"
   ]
  },
  {
   "cell_type": "code",
   "execution_count": 1,
   "metadata": {},
   "outputs": [
    {
     "name": "stderr",
     "output_type": "stream",
     "text": [
      "Class FeatureStoreOperations: This is an experimental class, and may change at any time. Please see https://aka.ms/azuremlexperimental for more information.\n",
      "Class FeatureSetOperations: This is an experimental class, and may change at any time. Please see https://aka.ms/azuremlexperimental for more information.\n",
      "Class FeatureStoreEntityOperations: This is an experimental class, and may change at any time. Please see https://aka.ms/azuremlexperimental for more information.\n"
     ]
    }
   ],
   "source": [
    "from azure.ai.ml import MLClient\n",
    "from azure.identity import (\n",
    "    DefaultAzureCredential,\n",
    "    InteractiveBrowserCredential,\n",
    "    ClientSecretCredential,\n",
    ")\n",
    "from azure.ai.ml.entities import AmlCompute\n",
    "import time\n",
    "\n",
    "try:\n",
    "    credential = DefaultAzureCredential()\n",
    "    credential.get_token(\"https://management.azure.com/.default\")\n",
    "except Exception as ex:\n",
    "    credential = InteractiveBrowserCredential()\n",
    "\n",
    "workspace_ml_client = MLClient(\n",
    "    credential,\n",
    "    subscription_id=\"ea4faa5b-5e44-4236-91f6-5483d5b17d14\",\n",
    "    resource_group_name=\"amyharrispersonal\",\n",
    "    workspace_name=\"amyharris-canary\",\n",
    ")\n",
    "# the models, fine tuning pipelines and environments are available in the AzureML system registry, \"azureml-preview\"\n",
    "registry_ml_client = MLClient(credential, registry_name=\"azureml-preview\")"
   ]
  },
  {
   "attachments": {},
   "cell_type": "markdown",
   "metadata": {},
   "source": [
    "### 2. Pick a model to deploy\n",
    "\n",
    "Browse models in the Model Catalog in the AzureML Studio, filtering by the `token-classification` task. In this example, we use the `Jean-Baptiste-camembert-ner` model. If you have opened this notebook for a different model, replace the model name and version accordingly. "
   ]
  },
  {
   "cell_type": "code",
   "execution_count": 2,
   "metadata": {},
   "outputs": [
    {
     "name": "stdout",
     "output_type": "stream",
     "text": [
      "\n",
      "\n",
      "Using model name: jean-baptiste-camembert-ner, version: 3, id: azureml://registries/azureml-preview/models/jean-baptiste-camembert-ner/versions/3 for inferencing\n"
     ]
    }
   ],
   "source": [
    "model_name = \"Jean-Baptiste-camembert-ner\"\n",
    "model_version = \"3\"\n",
    "foundation_model = registry_ml_client.models.get(model_name, model_version)\n",
    "print(\n",
    "    \"\\n\\nUsing model name: {0}, version: {1}, id: {2} for inferencing\".format(\n",
    "        foundation_model.name, foundation_model.version, foundation_model.id\n",
    "    )\n",
    ")"
   ]
  },
  {
   "attachments": {},
   "cell_type": "markdown",
   "metadata": {},
   "source": [
    "### 3. Prepare data for inference.\n",
    "\n",
    "A subset of the Jean-Baptiste-wikiner_fr dataset is available in the [Jean-Baptiste-wikiner_fr](./Jean-Baptiste-wikiner_fr/) folder.  The next few cells show basic data preparation:\n",
    "* Visualize some data rows\n",
    "* Save few samples in the format that can be passed as input to the online-inference endpoint."
   ]
  },
  {
   "cell_type": "code",
   "execution_count": 3,
   "metadata": {},
   "outputs": [
    {
     "data": {
      "text/html": [
       "<div>\n",
       "<style scoped>\n",
       "    .dataframe tbody tr th:only-of-type {\n",
       "        vertical-align: middle;\n",
       "    }\n",
       "\n",
       "    .dataframe tbody tr th {\n",
       "        vertical-align: top;\n",
       "    }\n",
       "\n",
       "    .dataframe thead th {\n",
       "        text-align: right;\n",
       "    }\n",
       "</style>\n",
       "<table border=\"1\" class=\"dataframe\">\n",
       "  <thead>\n",
       "    <tr style=\"text-align: right;\">\n",
       "      <th></th>\n",
       "      <th>id</th>\n",
       "      <th>tokens</th>\n",
       "      <th>ner_tags</th>\n",
       "      <th>text</th>\n",
       "      <th>ner_tags_str</th>\n",
       "    </tr>\n",
       "  </thead>\n",
       "  <tbody>\n",
       "    <tr>\n",
       "      <th>0</th>\n",
       "      <td>10946</td>\n",
       "      <td>[L', agglomération, à, mis, en, place, des, voies, supplémentaires, à, Grenoble-Universités-Gières, (, réalisé, en, 2007, ), ,, pour, disposer, à, l', avenir, d', un, réseau, de, trains, de, banlieue, .]</td>\n",
       "      <td>[0, 0, 0, 0, 0, 0, 0, 0, 0, 0, 1, 0, 0, 0, 0, 0, 0, 0, 0, 0, 0, 0, 0, 0, 0, 0, 0, 0, 0, 0]</td>\n",
       "      <td>L' agglomération à mis en place des voies supplémentaires à Grenoble-Universités-Gières ( réalisé en 2007 ) , pour disposer à l' avenir d' un réseau de trains de banlieue .</td>\n",
       "      <td>[O, O, O, O, O, O, O, O, O, O, LOC, O, O, O, O, O, O, O, O, O, O, O, O, O, O, O, O, O, O, O]</td>\n",
       "    </tr>\n",
       "    <tr>\n",
       "      <th>1</th>\n",
       "      <td>76495</td>\n",
       "      <td>[Sous, contrôle, communiste, mais, pour, la, première, fois, autonome, ,, le, régime, de, la, Macédoine, yougoslave, cultive, l', identité, macédonienne, à, partir, de, 1945, .]</td>\n",
       "      <td>[0, 0, 0, 0, 0, 0, 0, 0, 0, 0, 0, 0, 0, 0, 1, 0, 0, 0, 0, 0, 0, 0, 0, 0, 0]</td>\n",
       "      <td>Sous contrôle communiste mais pour la première fois autonome , le régime de la Macédoine yougoslave cultive l' identité macédonienne à partir de 1945 .</td>\n",
       "      <td>[O, O, O, O, O, O, O, O, O, O, O, O, O, O, LOC, O, O, O, O, O, O, O, O, O, O]</td>\n",
       "    </tr>\n",
       "    <tr>\n",
       "      <th>2</th>\n",
       "      <td>41771</td>\n",
       "      <td>[Dans, son, traité, de, 1600, De, Magnete, ,, le, médecin, anglais, William, Gilbert, forge, le, mot, bas-latin, electricus, ,, pour, désigner, cette, propriété, d', attirer, les, petits, objets, après, frottement, .]</td>\n",
       "      <td>[0, 0, 0, 0, 0, 2, 2, 0, 0, 0, 0, 2, 2, 0, 0, 0, 0, 0, 0, 0, 0, 0, 0, 0, 0, 0, 0, 0, 0, 0, 0]</td>\n",
       "      <td>Dans son traité de 1600 De Magnete , le médecin anglais William Gilbert forge le mot bas-latin electricus , pour désigner cette propriété d' attirer les petits objets après frottement .</td>\n",
       "      <td>[O, O, O, O, O, PER, PER, O, O, O, O, PER, PER, O, O, O, O, O, O, O, O, O, O, O, O, O, O, O, O, O, O]</td>\n",
       "    </tr>\n",
       "    <tr>\n",
       "      <th>3</th>\n",
       "      <td>23658</td>\n",
       "      <td>[Pour, son, inauguration, ,, Maradona, ,, Pelé, et, Hicham, El, Guerrouj, ont, été, invités, .]</td>\n",
       "      <td>[0, 0, 0, 0, 2, 0, 2, 0, 2, 2, 2, 0, 0, 0, 0]</td>\n",
       "      <td>Pour son inauguration , Maradona , Pelé et Hicham El Guerrouj ont été invités .</td>\n",
       "      <td>[O, O, O, O, PER, O, PER, O, PER, PER, PER, O, O, O, O]</td>\n",
       "    </tr>\n",
       "    <tr>\n",
       "      <th>4</th>\n",
       "      <td>68322</td>\n",
       "      <td>[Il, mourra, à, Québec, le, 25, décembre, 1635, sans, avoir, fini, ses, préparatifs, de, la, fondation, de, Montréal, qui, n', aura, lieu, qu', en, 1642, .]</td>\n",
       "      <td>[0, 0, 0, 1, 0, 0, 0, 0, 0, 0, 0, 0, 0, 0, 0, 0, 0, 1, 0, 0, 0, 0, 0, 0, 0, 0]</td>\n",
       "      <td>Il mourra à Québec le 25 décembre 1635 sans avoir fini ses préparatifs de la fondation de Montréal qui n' aura lieu qu' en 1642 .</td>\n",
       "      <td>[O, O, O, LOC, O, O, O, O, O, O, O, O, O, O, O, O, O, LOC, O, O, O, O, O, O, O, O]</td>\n",
       "    </tr>\n",
       "  </tbody>\n",
       "</table>\n",
       "</div>"
      ],
      "text/plain": [
       "      id  \\\n",
       "0  10946   \n",
       "1  76495   \n",
       "2  41771   \n",
       "3  23658   \n",
       "4  68322   \n",
       "\n",
       "                                                                                                                                                                                                                      tokens  \\\n",
       "0  [L', agglomération, à, mis, en, place, des, voies, supplémentaires, à, Grenoble-Universités-Gières, (, réalisé, en, 2007, ), ,, pour, disposer, à, l', avenir, d', un, réseau, de, trains, de, banlieue, .]                 \n",
       "1  [Sous, contrôle, communiste, mais, pour, la, première, fois, autonome, ,, le, régime, de, la, Macédoine, yougoslave, cultive, l', identité, macédonienne, à, partir, de, 1945, .]                                           \n",
       "2  [Dans, son, traité, de, 1600, De, Magnete, ,, le, médecin, anglais, William, Gilbert, forge, le, mot, bas-latin, electricus, ,, pour, désigner, cette, propriété, d', attirer, les, petits, objets, après, frottement, .]   \n",
       "3  [Pour, son, inauguration, ,, Maradona, ,, Pelé, et, Hicham, El, Guerrouj, ont, été, invités, .]                                                                                                                             \n",
       "4  [Il, mourra, à, Québec, le, 25, décembre, 1635, sans, avoir, fini, ses, préparatifs, de, la, fondation, de, Montréal, qui, n', aura, lieu, qu', en, 1642, .]                                                                \n",
       "\n",
       "                                                                                        ner_tags  \\\n",
       "0  [0, 0, 0, 0, 0, 0, 0, 0, 0, 0, 1, 0, 0, 0, 0, 0, 0, 0, 0, 0, 0, 0, 0, 0, 0, 0, 0, 0, 0, 0]      \n",
       "1  [0, 0, 0, 0, 0, 0, 0, 0, 0, 0, 0, 0, 0, 0, 1, 0, 0, 0, 0, 0, 0, 0, 0, 0, 0]                     \n",
       "2  [0, 0, 0, 0, 0, 2, 2, 0, 0, 0, 0, 2, 2, 0, 0, 0, 0, 0, 0, 0, 0, 0, 0, 0, 0, 0, 0, 0, 0, 0, 0]   \n",
       "3  [0, 0, 0, 0, 2, 0, 2, 0, 2, 2, 2, 0, 0, 0, 0]                                                   \n",
       "4  [0, 0, 0, 1, 0, 0, 0, 0, 0, 0, 0, 0, 0, 0, 0, 0, 0, 1, 0, 0, 0, 0, 0, 0, 0, 0]                  \n",
       "\n",
       "                                                                                                                                                                                        text  \\\n",
       "0  L' agglomération à mis en place des voies supplémentaires à Grenoble-Universités-Gières ( réalisé en 2007 ) , pour disposer à l' avenir d' un réseau de trains de banlieue .                \n",
       "1  Sous contrôle communiste mais pour la première fois autonome , le régime de la Macédoine yougoslave cultive l' identité macédonienne à partir de 1945 .                                     \n",
       "2  Dans son traité de 1600 De Magnete , le médecin anglais William Gilbert forge le mot bas-latin electricus , pour désigner cette propriété d' attirer les petits objets après frottement .   \n",
       "3  Pour son inauguration , Maradona , Pelé et Hicham El Guerrouj ont été invités .                                                                                                             \n",
       "4  Il mourra à Québec le 25 décembre 1635 sans avoir fini ses préparatifs de la fondation de Montréal qui n' aura lieu qu' en 1642 .                                                           \n",
       "\n",
       "                                                                                            ner_tags_str  \n",
       "0  [O, O, O, O, O, O, O, O, O, O, LOC, O, O, O, O, O, O, O, O, O, O, O, O, O, O, O, O, O, O, O]           \n",
       "1  [O, O, O, O, O, O, O, O, O, O, O, O, O, O, LOC, O, O, O, O, O, O, O, O, O, O]                          \n",
       "2  [O, O, O, O, O, PER, PER, O, O, O, O, PER, PER, O, O, O, O, O, O, O, O, O, O, O, O, O, O, O, O, O, O]  \n",
       "3  [O, O, O, O, PER, O, PER, O, PER, PER, PER, O, O, O, O]                                                \n",
       "4  [O, O, O, LOC, O, O, O, O, O, O, O, O, O, O, O, O, O, LOC, O, O, O, O, O, O, O, O]                     "
      ]
     },
     "execution_count": 3,
     "metadata": {},
     "output_type": "execute_result"
    }
   ],
   "source": [
    "# load the ./Jean-Baptiste-wikiner_fr/train_100.jsonl file into a pandas dataframe and show the first 5 rows\n",
    "import pandas as pd\n",
    "\n",
    "pd.set_option(\n",
    "    \"display.max_colwidth\", 0\n",
    ")  # set the max column width to 0 to display the full text\n",
    "train_df = pd.read_json(\"./Jean-Baptiste-wikiner_fr/train_100.jsonl\", lines=True)\n",
    "train_df.head()"
   ]
  },
  {
   "attachments": {},
   "cell_type": "markdown",
   "metadata": {},
   "source": [
    "### 4. Deploy the model to an online endpoint\n",
    "Online endpoints give a durable REST API that can be used to integrate with applications that need to use the model."
   ]
  },
  {
   "cell_type": "code",
   "execution_count": 4,
   "metadata": {},
   "outputs": [],
   "source": [
    "import time, sys\n",
    "from azure.ai.ml.entities import (\n",
    "    ManagedOnlineEndpoint,\n",
    "    ManagedOnlineDeployment,\n",
    "    OnlineRequestSettings,\n",
    ")\n",
    "\n",
    "# Create online endpoint - endpoint names need to be unique in a region, hence using timestamp to create unique endpoint name\n",
    "timestamp = int(time.time())\n",
    "online_endpoint_name = \"token-classification-\" + str(timestamp)\n",
    "# create an online endpoint\n",
    "endpoint = ManagedOnlineEndpoint(\n",
    "    name=online_endpoint_name,\n",
    "    description=\"Online endpoint for \"\n",
    "    + foundation_model.name\n",
    "    + \", for token-classification task\",\n",
    "    auth_mode=\"key\",\n",
    ")\n",
    "workspace_ml_client.begin_create_or_update(endpoint).wait()"
   ]
  },
  {
   "cell_type": "code",
   "execution_count": 5,
   "metadata": {},
   "outputs": [
    {
     "name": "stderr",
     "output_type": "stream",
     "text": [
      "Instance type Standard_DS2_v2 may be too small for compute resources. Minimum recommended compute SKU is Standard_DS3_v2 for general purpose endpoints. Learn more about SKUs here: https://learn.microsoft.com/en-us/azure/machine-learning/referencemanaged-online-endpoints-vm-sku-list\n",
      "Check: endpoint token-classification-1684194167 exists\n",
      "data_collector is not a known attribute of class <class 'azure.ai.ml._restclient.v2022_02_01_preview.models._models_py3.ManagedOnlineDeployment'> and will be ignored\n"
     ]
    },
    {
     "name": "stdout",
     "output_type": "stream",
     "text": [
      ".................................................................................................................................."
     ]
    },
    {
     "data": {
      "text/plain": [
       "ManagedOnlineEndpoint({'public_network_access': 'Enabled', 'provisioning_state': 'Succeeded', 'scoring_uri': 'https://token-classification-1684194167.eastus2euap.inference.ml.azure.com/score', 'openapi_uri': 'https://token-classification-1684194167.eastus2euap.inference.ml.azure.com/swagger.json', 'name': 'token-classification-1684194167', 'description': 'Online endpoint for jean-baptiste-camembert-ner, for token-classification task', 'tags': {}, 'properties': {'azureml.onlineendpointid': '/subscriptions/ea4faa5b-5e44-4236-91f6-5483d5b17d14/resourcegroups/amyharrispersonal/providers/microsoft.machinelearningservices/workspaces/amyharris-canary/onlineendpoints/token-classification-1684194167', 'AzureAsyncOperationUri': 'https://management.azure.com/subscriptions/ea4faa5b-5e44-4236-91f6-5483d5b17d14/providers/Microsoft.MachineLearningServices/locations/eastus2euap/mfeOperationsStatus/oe:c76e6446-545b-4141-80f9-e8ad59c471f2:4b0fc57b-7242-4778-9ad5-c9cd74bbf488?api-version=2022-02-01-preview'}, 'print_as_yaml': True, 'id': '/subscriptions/ea4faa5b-5e44-4236-91f6-5483d5b17d14/resourceGroups/amyharrispersonal/providers/Microsoft.MachineLearningServices/workspaces/amyharris-canary/onlineEndpoints/token-classification-1684194167', 'Resource__source_path': None, 'base_path': 'c:\\\\Users\\\\amyharris\\\\source\\\\repos\\\\azureml-examples\\\\sdk\\\\python\\\\foundation-models\\\\system\\\\inference\\\\token-classification', 'creation_context': None, 'serialize': <msrest.serialization.Serializer object at 0x00000248DEF19FD0>, 'auth_mode': 'key', 'location': 'eastus2euap', 'identity': <azure.ai.ml.entities._credentials.IdentityConfiguration object at 0x00000248DEF19CA0>, 'traffic': {'demo': 100}, 'mirror_traffic': {}, 'kind': 'Managed'})"
      ]
     },
     "execution_count": 5,
     "metadata": {},
     "output_type": "execute_result"
    }
   ],
   "source": [
    "# create a deployment\n",
    "demo_deployment = ManagedOnlineDeployment(\n",
    "    name=\"demo\",\n",
    "    endpoint_name=online_endpoint_name,\n",
    "    model=foundation_model.id,\n",
    "    instance_type=\"Standard_DS2_v2\",\n",
    "    instance_count=1,\n",
    "    request_settings=OnlineRequestSettings(\n",
    "        request_timeout_ms=60000,\n",
    "    ),\n",
    ")\n",
    "workspace_ml_client.online_deployments.begin_create_or_update(demo_deployment).wait()\n",
    "endpoint.traffic = {\"demo\": 100}\n",
    "workspace_ml_client.begin_create_or_update(endpoint).result()"
   ]
  },
  {
   "attachments": {},
   "cell_type": "markdown",
   "metadata": {},
   "source": [
    "### 5. Test the endpoint with sample data\n",
    "\n",
    "We will fetch some sample data from the test dataset and submit to online endpoint for inference. We will then show the display the scored labels alongside the ground truth labels"
   ]
  },
  {
   "cell_type": "code",
   "execution_count": 6,
   "metadata": {},
   "outputs": [
    {
     "data": {
      "text/html": [
       "<div>\n",
       "<style scoped>\n",
       "    .dataframe tbody tr th:only-of-type {\n",
       "        vertical-align: middle;\n",
       "    }\n",
       "\n",
       "    .dataframe tbody tr th {\n",
       "        vertical-align: top;\n",
       "    }\n",
       "\n",
       "    .dataframe thead th {\n",
       "        text-align: right;\n",
       "    }\n",
       "</style>\n",
       "<table border=\"1\" class=\"dataframe\">\n",
       "  <thead>\n",
       "    <tr style=\"text-align: right;\">\n",
       "      <th></th>\n",
       "      <th>id</th>\n",
       "      <th>tokens</th>\n",
       "      <th>ner_tags</th>\n",
       "      <th>text</th>\n",
       "      <th>ner_tags_str</th>\n",
       "    </tr>\n",
       "  </thead>\n",
       "  <tbody>\n",
       "    <tr>\n",
       "      <th>62</th>\n",
       "      <td>67763</td>\n",
       "      <td>[Moscou, est, la, ville, la, plus, peuplée, d', Europe, avec, 10,22, millions, d', habitants, intra, muros, en, 2008, et, 14,74, millions, d', habitants, dans, l', aire, urbaine, .]</td>\n",
       "      <td>[1, 0, 0, 0, 0, 0, 0, 0, 1, 0, 0, 0, 0, 0, 0, 0, 0, 0, 0, 0, 0, 0, 0, 0, 0, 0, 0, 0]</td>\n",
       "      <td>Moscou est la ville la plus peuplée d\\' Europe avec 10,22 millions d\\' habitants intra muros en 2008 et 14,74 millions d\\' habitants dans l\\' aire urbaine .</td>\n",
       "      <td>[LOC, O, O, O, O, O, O, O, LOC, O, O, O, O, O, O, O, O, O, O, O, O, O, O, O, O, O, O, O]</td>\n",
       "    </tr>\n",
       "  </tbody>\n",
       "</table>\n",
       "</div>"
      ],
      "text/plain": [
       "       id  \\\n",
       "62  67763   \n",
       "\n",
       "                                                                                                                                                                                   tokens  \\\n",
       "62  [Moscou, est, la, ville, la, plus, peuplée, d', Europe, avec, 10,22, millions, d', habitants, intra, muros, en, 2008, et, 14,74, millions, d', habitants, dans, l', aire, urbaine, .]   \n",
       "\n",
       "                                                                                ner_tags  \\\n",
       "62  [1, 0, 0, 0, 0, 0, 0, 0, 1, 0, 0, 0, 0, 0, 0, 0, 0, 0, 0, 0, 0, 0, 0, 0, 0, 0, 0, 0]   \n",
       "\n",
       "                                                                                                                                                            text  \\\n",
       "62  Moscou est la ville la plus peuplée d\\' Europe avec 10,22 millions d\\' habitants intra muros en 2008 et 14,74 millions d\\' habitants dans l\\' aire urbaine .   \n",
       "\n",
       "                                                                                ner_tags_str  \n",
       "62  [LOC, O, O, O, O, O, O, O, LOC, O, O, O, O, O, O, O, O, O, O, O, O, O, O, O, O, O, O, O]  "
      ]
     },
     "execution_count": 6,
     "metadata": {},
     "output_type": "execute_result"
    }
   ],
   "source": [
    "import json\n",
    "import os\n",
    "\n",
    "# read the ./Jean-Baptiste-wikiner_fr/train_100.jsonl file into a pandas dataframe\n",
    "df = pd.read_json(\"./Jean-Baptiste-wikiner_fr/train_100.jsonl\", lines=True)\n",
    "# escape single and double quotes in the text column\n",
    "df[\"text\"] = df[\"text\"].str.replace(\"'\", \"\\\\'\").str.replace('\"', '\\\\\"')\n",
    "# pick 1 random row\n",
    "sample_df = df.sample(1)\n",
    "# create a json object with the key as \"inputs\" and value as a list of values from the en column of the sample_df dataframe\n",
    "sample_json = {\"inputs\": sample_df[\"text\"].tolist()}\n",
    "# save the json object to a file named sample_score.json in the ./Jean-Baptiste-wikiner_fr folder\n",
    "test_json = {\"inputs\": {\"input_string\": sample_df[\"text\"].tolist()}}\n",
    "# save the json object to a file named sample_score.json in the ./Jean-Baptiste-wikiner_fr folder\n",
    "with open(os.path.join(\".\", \"Jean-Baptiste-wikiner_fr\", \"sample_score.json\"), \"w\") as f:\n",
    "    json.dump(test_json, f)\n",
    "sample_df.head()"
   ]
  },
  {
   "cell_type": "code",
   "execution_count": 7,
   "metadata": {},
   "outputs": [
    {
     "name": "stdout",
     "output_type": "stream",
     "text": [
      "raw response: \n",
      " [{\"0\": \"['I-LOC', 'O', 'O', 'O', 'O', 'O', 'O', 'O', 'I-LOC', 'O', 'O', 'O', 'O', 'O', 'O', 'O', 'O', 'O', 'O', 'O', 'O', 'O', 'O', 'O', 'O', 'O', 'O', 'O']\"}] \n",
      "\n"
     ]
    },
    {
     "data": {
      "text/html": [
       "<div>\n",
       "<style scoped>\n",
       "    .dataframe tbody tr th:only-of-type {\n",
       "        vertical-align: middle;\n",
       "    }\n",
       "\n",
       "    .dataframe tbody tr th {\n",
       "        vertical-align: top;\n",
       "    }\n",
       "\n",
       "    .dataframe thead th {\n",
       "        text-align: right;\n",
       "    }\n",
       "</style>\n",
       "<table border=\"1\" class=\"dataframe\">\n",
       "  <thead>\n",
       "    <tr style=\"text-align: right;\">\n",
       "      <th></th>\n",
       "      <th>0</th>\n",
       "    </tr>\n",
       "  </thead>\n",
       "  <tbody>\n",
       "    <tr>\n",
       "      <th>0</th>\n",
       "      <td>['I-LOC', 'O', 'O', 'O', 'O', 'O', 'O', 'O', 'I-LOC', 'O', 'O', 'O', 'O', 'O', 'O', 'O', 'O', 'O', 'O', 'O', 'O', 'O', 'O', 'O', 'O', 'O', 'O', 'O']</td>\n",
       "    </tr>\n",
       "  </tbody>\n",
       "</table>\n",
       "</div>"
      ],
      "text/plain": [
       "                                                                                                                                                      0\n",
       "0  ['I-LOC', 'O', 'O', 'O', 'O', 'O', 'O', 'O', 'I-LOC', 'O', 'O', 'O', 'O', 'O', 'O', 'O', 'O', 'O', 'O', 'O', 'O', 'O', 'O', 'O', 'O', 'O', 'O', 'O']"
      ]
     },
     "execution_count": 7,
     "metadata": {},
     "output_type": "execute_result"
    }
   ],
   "source": [
    "# score the sample_score.json file using the online endpoint with the azureml endpoint invoke method\n",
    "response = workspace_ml_client.online_endpoints.invoke(\n",
    "    endpoint_name=online_endpoint_name,\n",
    "    deployment_name=\"demo\",\n",
    "    request_file=\"./Jean-Baptiste-wikiner_fr/sample_score.json\",\n",
    ")\n",
    "print(\"raw response: \\n\", response, \"\\n\")\n",
    "# convert the json response to a pandas dataframe\n",
    "response_df = pd.read_json(response)\n",
    "response_df.head()"
   ]
  },
  {
   "cell_type": "code",
   "execution_count": 16,
   "metadata": {},
   "outputs": [
    {
     "ename": "TypeError",
     "evalue": "string indices must be integers",
     "output_type": "error",
     "traceback": [
      "\u001b[1;31m---------------------------------------------------------------------------\u001b[0m",
      "\u001b[1;31mTypeError\u001b[0m                                 Traceback (most recent call last)",
      "Cell \u001b[1;32mIn[16], line 6\u001b[0m\n\u001b[0;32m      4\u001b[0m \u001b[39mfor\u001b[39;00m col \u001b[39min\u001b[39;00m response_df\u001b[39m.\u001b[39mcolumns:\n\u001b[0;32m      5\u001b[0m     prediction \u001b[39m=\u001b[39m response_df[col]\u001b[39m.\u001b[39mtolist()[\u001b[39m0\u001b[39m]\n\u001b[1;32m----> 6\u001b[0m     predicted_labels[prediction[\u001b[39m\"\u001b[39m\u001b[39mindex\u001b[39m\u001b[39m\"\u001b[39m]\u001b[39m-\u001b[39m\u001b[39m1\u001b[39m] \u001b[39m=\u001b[39m prediction[\u001b[39m\"\u001b[39;49m\u001b[39mentity\u001b[39;49m\u001b[39m\"\u001b[39;49m]\n\u001b[0;32m      7\u001b[0m compare_df \u001b[39m=\u001b[39m pd\u001b[39m.\u001b[39mDataFrame({\u001b[39m\"\u001b[39m\u001b[39mground_truth_labels\u001b[39m\u001b[39m\"\u001b[39m: sample_df[\u001b[39m\"\u001b[39m\u001b[39mner_tags_str\u001b[39m\u001b[39m\"\u001b[39m]\u001b[39m.\u001b[39mtolist(), \u001b[39m\"\u001b[39m\u001b[39mpredicted_labels\u001b[39m\u001b[39m\"\u001b[39m: [predicted_labels]})\n\u001b[0;32m      8\u001b[0m compare_df\u001b[39m.\u001b[39mhead()\n",
      "\u001b[1;31mTypeError\u001b[0m: string indices must be integers"
     ]
    }
   ],
   "source": [
    "# compare the predicted labels with the actual labels\n",
    "num_tokens = len(sample_df[\"text\"].tolist()[0].split())\n",
    "predicted_labels = [\"O\"] * num_tokens\n",
    "for col in response_df.columns:\n",
    "    prediction = response_df[col].tolist()[0]\n",
    "    predicted_labels[prediction[\"index\"] - 1] = prediction[\"entity\"]\n",
    "compare_df = pd.DataFrame(\n",
    "    {\n",
    "        \"ground_truth_labels\": sample_df[\"ner_tags_str\"].tolist(),\n",
    "        \"predicted_labels\": [predicted_labels],\n",
    "    }\n",
    ")\n",
    "compare_df.head()"
   ]
  },
  {
   "attachments": {},
   "cell_type": "markdown",
   "metadata": {},
   "source": [
    "### 6. Delete the online endpoint\n",
    "Don't forget to delete the online endpoint, else you will leave the billing meter running for the compute used by the endpoint"
   ]
  },
  {
   "cell_type": "code",
   "execution_count": null,
   "metadata": {},
   "outputs": [],
   "source": [
    "workspace_ml_client.online_endpoints.begin_delete(name=online_endpoint_name).wait()"
   ]
  }
 ],
 "metadata": {
  "kernelspec": {
   "display_name": "base",
   "language": "python",
   "name": "python3"
  },
  "language_info": {
   "codemirror_mode": {
    "name": "ipython",
    "version": 3
   },
   "file_extension": ".py",
   "mimetype": "text/x-python",
   "name": "python",
   "nbconvert_exporter": "python",
   "pygments_lexer": "ipython3",
   "version": "3.9.12"
  },
  "vscode": {
   "interpreter": {
    "hash": "2f394aca7ca06fed1e6064aef884364492d7cdda3614a461e02e6407fc40ba69"
   }
  }
 },
 "nbformat": 4,
 "nbformat_minor": 2
}
