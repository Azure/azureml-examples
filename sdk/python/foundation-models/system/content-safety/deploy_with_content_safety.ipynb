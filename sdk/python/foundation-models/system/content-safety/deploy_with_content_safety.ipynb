{
 "cells": [
  {
   "cell_type": "markdown",
   "metadata": {},
   "source": [
    "# How to create an Azure AI Content safety enabled LLaMa online endpoint\n",
    "## This notebook will walk you through the steps to create an Azure AI Content Safety enabled LLaMa online endpoint.\n",
    "### The steps are:\n",
    "1. Create an Azure AI Content Safety resource for moderating the request from user and response from the LLaMa online endpoint\n",
    "2. Create a new LLaMa Online Endpoint\n",
    "3. Create a new Content Safety enabled LLaMa online endpoint with a custom score.py file which will be used to moderate the request and response"
   ]
  },
  {
   "cell_type": "markdown",
   "metadata": {},
   "source": [
    "### 1. Prerequisites\n",
    "#### 1.1 Check List:\n",
    "- [x] You have created an new Python virtual environment for this notebook.\n",
    "- [x] The identity you are using to execute this notebook(yourself or your VM) need to have the owner role on the resource group where your specified AML Workspace is located. Because this notebook will create a Managed Identity and assign it some required roles to successfully create the Azure AI Content Safety enabled LLaMa endpoint."
   ]
  },
  {
   "cell_type": "markdown",
   "metadata": {},
   "source": [
    "#### 1.2 Install Dependencies"
   ]
  },
  {
   "cell_type": "code",
   "execution_count": null,
   "metadata": {},
   "outputs": [],
   "source": [
    "%pip install azure-identity==1.13.0\n",
    "%pip install azure-mgmt-cognitiveservices==13.4.0\n",
    "%pip install azure-ai-ml==1.8.0\n",
    "%pip install azure-mgmt-msi==7.0.0\n",
    "%pip install azure-mgmt-authorization==3.0.0"
   ]
  },
  {
   "cell_type": "markdown",
   "metadata": {},
   "source": [
    "#### 1.3 Assign variables for the workspace and deployment"
   ]
  },
  {
   "cell_type": "code",
   "execution_count": null,
   "metadata": {},
   "outputs": [],
   "source": [
    "# NOTE: Update following workspace information to contain\n",
    "#       your subscription ID, resource group name, and workspace name\n",
    "subscription_id = \"<SUBSCRIPTION_ID>\"\n",
    "resource_group = \"<RESOURCE_GROUP>\"\n",
    "workspace_name = \"<AML_WORKSPACE_NAME>\""
   ]
  },
  {
   "cell_type": "markdown",
   "metadata": {},
   "source": [
    "#### 1.3 Decide on a name for your Content Safety enabled LLaMa online endpoint"
   ]
  },
  {
   "cell_type": "code",
   "execution_count": null,
   "metadata": {},
   "outputs": [],
   "source": [
    "import random\n",
    "rand = random.randint(0, 10000)\n",
    "\n",
    "endpoint_name = f\"safetyllama{rand}\" # the final endpoint name of the safety enabled llama endpoint\n",
    "# with the given name, there will be 4 resources created in the resource group of your AML workspace:\n",
    "# 1. an Azure AI Content Safety resource: {endpoint_name}-aacs\n",
    "# 2. a LLaMa online endpoint: {endpoint_name}-llama\n",
    "# 3. a UAI(User Assigned Identity): {endpoint_name}-uai\n",
    "# 4. an Azure AI Content Safety enabled LLaMa online endpoint, which you will be using it to do your AI work: {endpoint_name}\n",
    "aacs_name = f\"{endpoint_name}-aacs\"\n",
    "uai_name = f\"{endpoint_name}-uai\"\n",
    "llama_endpoint_name = f\"{endpoint_name}-llama\"\n",
    "print(f\"going to create the following resources:\")\n",
    "print(f\"-  Azure AI Content Safety resource: {aacs_name}\")\n",
    "print(f\"-  LLaMa online endpoint: {llama_endpoint_name}\")\n",
    "print(f\"-  UAI: {uai_name}\")\n",
    "print(f\"-  Azure AI Content Safety enabled LLaMa online endpoint: {uai_name}\")\n"
   ]
  },
  {
   "cell_type": "markdown",
   "metadata": {},
   "source": [
    "### 2. Connect to your AML Workspace"
   ]
  },
  {
   "cell_type": "code",
   "execution_count": null,
   "metadata": {},
   "outputs": [],
   "source": [
    "import os, json\n",
    "from azure.ai.ml import MLClient\n",
    "from azure.identity import DefaultAzureCredential, InteractiveBrowserCredential\n",
    "\n",
    "try:\n",
    "    credential = DefaultAzureCredential()\n",
    "    # Check if given credential can get token successfully.\n",
    "    credential.get_token(\"https://management.azure.com/.default\")\n",
    "except Exception as ex:\n",
    "    # Fall back to InteractiveBrowserCredential in case DefaultAzureCredential not work\n",
    "    credential = InteractiveBrowserCredential()\n",
    "\n",
    "try:\n",
    "    ml_client = MLClient.from_config(credential=credential)\n",
    "except Exception as ex:\n",
    "    client_config = {\n",
    "        \"subscription_id\": subscription_id,\n",
    "        \"resource_group\": resource_group,\n",
    "        \"workspace_name\": workspace_name,\n",
    "    }\n",
    "    # write and reload from config file\n",
    "    config_path = \"./config.json\"\n",
    "    os.makedirs(os.path.dirname(config_path), exist_ok=True)\n",
    "    with open(config_path, \"w\") as fo:\n",
    "        fo.write(json.dumps(client_config))\n",
    "    ml_client = MLClient.from_config(credential=credential, path=config_path)\n",
    "    \n",
    "workspace_location = ml_client.workspaces.get(ml_client.workspace_name).location\n",
    "workspace_resource_id = ml_client.workspaces.get(ml_client.workspace_name).id\n",
    "subscription_id = ml_client.subscription_id\n",
    "resource_group_name = ml_client.resource_group_name\n",
    "workspace_name = ml_client.workspace_name\n",
    "print(f\"Connected to workspace {workspace_resource_id}\")\n",
    "print(f\"Workspace location is {workspace_location}\") "
   ]
  },
  {
   "cell_type": "markdown",
   "metadata": {},
   "source": [
    "### 4. Create Azure AI Content Safety"
   ]
  },
  {
   "cell_type": "markdown",
   "metadata": {},
   "source": [
    "#### 4.1 Choose a region for your Azure AI Content Safety\n",
    "Currently, Azure AI Content Safety only available in the following regions:\n",
    "- East US\n",
    "- West Europe"
   ]
  },
  {
   "cell_type": "code",
   "execution_count": null,
   "metadata": {},
   "outputs": [],
   "source": [
    "# location for the Azure AI Content Safety resource\n",
    "available_acs_locations = ['east us', 'west europe']\n",
    "aacs_location = available_acs_locations[0] # NOTE: better to choose the nearest location to your workspace\n",
    "\n",
    "print(f\"will create Azure AI Content Safety `{aacs_name}` in {aacs_location}\")"
   ]
  },
  {
   "cell_type": "code",
   "execution_count": null,
   "metadata": {},
   "outputs": [],
   "source": [
    "from azure.mgmt.cognitiveservices import CognitiveServicesManagementClient\n",
    "from azure.identity import DefaultAzureCredential, InteractiveBrowserCredential\n",
    "from azure.mgmt.cognitiveservices.models import Account, Sku, AccountProperties\n",
    "import time\n",
    "\n",
    "try:\n",
    "    credential = DefaultAzureCredential()\n",
    "    # Check if given credential can get token successfully.\n",
    "    credential.get_token(\"https://management.azure.com/.default\")\n",
    "except Exception as ex:\n",
    "    # Fall back to InteractiveBrowserCredential in case DefaultAzureCredential not work\n",
    "    credential = InteractiveBrowserCredential()\n",
    "\n",
    "client = CognitiveServicesManagementClient(credential, subscription_id)\n",
    "\n",
    "# create a new Cognitive Services Account\n",
    "kind = \"ContentSafety\"\n",
    "sku_name = \"S0\"\n",
    "parameters = Account(sku=Sku(name=sku_name), kind=kind, location=aacs_location, properties= AccountProperties(custom_sub_domain_name=aacs_name, public_network_access=\"Enabled\"))\n",
    "# How many seconds to wait between checking the status of an async operation.\n",
    "wait_time = 10\n",
    "\n",
    "poller = client.accounts.begin_create(resource_group_name, aacs_name, parameters)\n",
    "while (not poller.done()) :\n",
    "    print(\"Waiting {wait_time} seconds for operation to finish.\".format(wait_time=wait_time))\n",
    "    time.sleep (wait_time)\n",
    "    # This will raise an exception if the server responded with an error.\n",
    "    result = poller.result()\n",
    "\n",
    "\n",
    "print(\"Resource created.\")\n",
    "\n",
    "aacs=client.accounts.get(resource_group_name, aacs_name)\n",
    "aacs_endpoint = aacs.properties.endpoint\n",
    "aacs_resource_id = aacs.id\n",
    "print(f\"AACS endpoint is {aacs_endpoint}\")\n",
    "print(f\"AACS ResourceId is {aacs_resource_id}\")"
   ]
  },
  {
   "cell_type": "markdown",
   "metadata": {},
   "source": [
    "### 5. Create LLaMa online endpoint"
   ]
  },
  {
   "cell_type": "markdown",
   "metadata": {},
   "source": [
    "#### 5.1 Decide on SKU and instance count for the LLama online endpoint."
   ]
  },
  {
   "cell_type": "code",
   "execution_count": null,
   "metadata": {},
   "outputs": [],
   "source": [
    "compute_sku_for_llama=\"Standard_DS5_v2\" # the sku of the compute instance for LLaMa endpoint\n",
    "compute_instance_count_for_llama=1 # the number of compute instance\n",
    "llama_endpoint_name=f\"{endpoint_name}-llama\"\n",
    "print(f\"Will create LLaMa endpoint {llama_endpoint_name} using {compute_instance_count_for_llama} {compute_sku_for_llama} compute instance(s)\")"
   ]
  },
  {
   "cell_type": "markdown",
   "metadata": {},
   "source": [
    "#### 5.2 Check if LLaMa model is available in the AML registry."
   ]
  },
  {
   "cell_type": "code",
   "execution_count": null,
   "metadata": {},
   "outputs": [],
   "source": [
    "model_name = \"gpt2\" # TODO(mingtwan) change to LLaMa\n",
    "\n",
    "registry_ml_client = MLClient(credential, registry_name=\"azureml\")\n",
    "version_list = list(registry_ml_client.models.list(model_name)) # list available versions of the model\n",
    "foundation_model = None\n",
    "if len(version_list) == 0:\n",
    "    print(\"Model not found in registry\")\n",
    "else:\n",
    "    model_version = version_list[0].version\n",
    "    foundation_model = registry_ml_client.models.get(model_name, model_version)\n",
    "    print(\n",
    "        f\"Using model name: {foundation_model.name}, version: {foundation_model.version}, id: {foundation_model.id} for inferencing\"\n",
    "    )"
   ]
  },
  {
   "cell_type": "markdown",
   "metadata": {},
   "source": [
    "#### 5.3 Create LLaMa online endpoint\n",
    "This step may take a few minutes."
   ]
  },
  {
   "cell_type": "code",
   "execution_count": null,
   "metadata": {},
   "outputs": [],
   "source": [
    "from azure.ai.ml.entities import ManagedOnlineEndpoint, ManagedOnlineDeployment, OnlineRequestSettings\n",
    "\n",
    "auth_mode_for_llama = \"key\" # please DO NOT change this. \n",
    "# create an online endpoint\n",
    "llama_endpoint = ManagedOnlineEndpoint(\n",
    "        name=llama_endpoint_name,\n",
    "        description=\"Online endpoint for LLaMa\",\n",
    "        auth_mode=auth_mode_for_llama,\n",
    "    )\n",
    "ml_client.begin_create_or_update(llama_endpoint).result()\n",
    "\n",
    "llama_deployment_name=\"demo\"\n",
    "llama_deployment = ManagedOnlineDeployment(\n",
    "    name=llama_deployment_name,\n",
    "    endpoint_name=llama_endpoint_name,\n",
    "    model=foundation_model.id,\n",
    "    instance_type=compute_sku_for_llama,\n",
    "    instance_count=compute_instance_count_for_llama,\n",
    "    request_settings=OnlineRequestSettings(\n",
    "        request_timeout_ms=60000,\n",
    "    )\n",
    ")\n",
    "ml_client.online_deployments.begin_create_or_update(llama_deployment).wait()\n",
    "# deployment takes 100 traffic\n",
    "llama_endpoint.traffic = {llama_deployment_name: 100}\n",
    "ml_client.online_endpoints.begin_create_or_update(llama_endpoint)\n",
    "\n",
    "llama_endpoint = ml_client.online_endpoints.get(name=llama_endpoint_name)\n",
    "llama_endpoint_id = llama_endpoint.id\n",
    "llama_score_uri = llama_endpoint.scoring_uri\n",
    "\n",
    "print(f\"llama endpoint scoring uri is {llama_score_uri}\")"
   ]
  },
  {
   "cell_type": "markdown",
   "metadata": {},
   "source": [
    "### 6. Create `score.py` for the Safety enabled LLaMa endpoint\n"
   ]
  },
  {
   "cell_type": "markdown",
   "metadata": {},
   "source": [
    "#### 6.1 Create a folder to save the score.py and conda dependencies file.\n",
    "First create a source folder for the score.py file and conda dependencies file:"
   ]
  },
  {
   "cell_type": "code",
   "execution_count": null,
   "metadata": {},
   "outputs": [],
   "source": [
    "import os\n",
    "\n",
    "scoring_src_dir = \"./safety-llama\"\n",
    "os.makedirs(scoring_src_dir, exist_ok=True)\n",
    "print(f\"Scoring script directory: {scoring_src_dir}\")"
   ]
  },
  {
   "cell_type": "markdown",
   "metadata": {},
   "source": [
    "#### 6.2 Create the score.py"
   ]
  },
  {
   "cell_type": "code",
   "execution_count": null,
   "metadata": {},
   "outputs": [],
   "source": [
    "%%writefile {scoring_src_dir}/score.py\n",
    "import logging\n",
    "import json\n",
    "import os\n",
    "from azure.identity import ManagedIdentityCredential\n",
    "from azure.ai.ml import MLClient\n",
    "# environment variable names\n",
    "env_key_of_aacs_endpoint = \"AACS_ENDPOINT\"\n",
    "env_key_of_llama_score_uri = \"LLAMA_SCORE_URI\"\n",
    "env_key_of_uai_id = \"UAI_CLIENT_ID\"\n",
    "env_key_of_subscription_id = \"SUBSCRIPTION_ID\"\n",
    "env_key_of_resource_group_name = \"RESOURCE_GROUP_NAME\"\n",
    "env_key_of_workspace_name = \"WORKSPACE_NAME\"\n",
    "env_key_of_llama_endpoint_name = \"LLAMA_ENDPOINT_NAME\"\n",
    "\n",
    "llama_access_key = \"\"\n",
    "\n",
    "def init():\n",
    "    \"\"\"\n",
    "    This function is called when the container is initialized/started, typically after create/update of the deployment.\n",
    "    You can write the logic here to perform init operations like caching the model in memory\n",
    "    \"\"\"\n",
    "    aacs_endpoint = os.environ.get(env_key_of_aacs_endpoint)\n",
    "    llama_score_uri = os.environ.get(env_key_of_llama_score_uri)\n",
    "    uai_id = os.environ.get(env_key_of_uai_id) \n",
    "    llama_access_key = _get_llama_access_key()\n",
    "    \n",
    "    logging.info(\"AACS endpoint: \", aacs_endpoint)\n",
    "    logging.info(\"LLaMa score uri: \", llama_score_uri)\n",
    "    logging.info(\"UAI ID: \", uai_id)\n",
    "    logging.info(\"Init complete\")\n",
    "\n",
    "def run(raw_data):\n",
    "    \"\"\"\n",
    "    This function is called for every invocation of the endpoint to perform the actual scoring/prediction.\n",
    "    In the example we extract the data from the json input and call the scikit-learn model's predict()\n",
    "    method and return the result back\n",
    "    \"\"\"\n",
    "\n",
    "    # get access to access AACS endpoint\n",
    "    credential = ManagedIdentityCredential(client_id=os.environ.get(env_key_of_uai_id))\n",
    "    aacs_token = credential.get_token(\"https://cognitiveservices.azure.com/.default\") # get token for AACS\n",
    "    logging.info(\"Access ACS using token\")\n",
    "    \n",
    "    logging.info(\"Access LlaMa using llama_access_key\")\n",
    "    data = json.loads(raw_data)[\"data\"]\n",
    "    logging.info(\"Request processed\")\n",
    "    return '{\"text\":\"Hello World\"}'\n",
    "\n",
    "\n",
    "def _get_llama_access_key():\n",
    "    \"\"\"\n",
    "    Helper function to get the access key for LLaMa endpoint\n",
    "    \"\"\"\n",
    "    credential = ManagedIdentityCredential(client_id=os.environ.get(env_key_of_uai_id))\n",
    "    client_config = {\n",
    "        \"subscription_id\": os.environ.get(env_key_of_subscription_id),\n",
    "        \"resource_group\": os.environ.get(env_key_of_resource_group_name),\n",
    "        \"workspace_name\": os.environ.get(env_key_of_workspace_name),\n",
    "    }\n",
    "    # write and reload from config file\n",
    "    config_path = \"./config.json\"\n",
    "    os.makedirs(os.path.dirname(config_path), exist_ok=True)\n",
    "    with open(config_path, \"w\") as fo:\n",
    "        fo.write(json.dumps(client_config))\n",
    "    ml_client = MLClient.from_config(credential=credential, path=config_path)\n",
    "    llama_endpoint_name = os.environ.get(env_key_of_llama_endpoint_name)\n",
    "    if not llama_endpoint_name:\n",
    "        raise ValueError(\"LLaMa endpoint name is not provided\")\n",
    "    \n",
    "    llama_access_key = ml_client.online_endpoints.get_keys(name=llama_endpoint_name).primary_key\n",
    "    return llama_access_key"
   ]
  },
  {
   "cell_type": "markdown",
   "metadata": {},
   "source": [
    "#### 6.3 Create the conda.yaml"
   ]
  },
  {
   "cell_type": "code",
   "execution_count": null,
   "metadata": {},
   "outputs": [],
   "source": [
    "%%writefile {scoring_src_dir}/conda.yaml\n",
    "name: aacs-conda\n",
    "channels:\n",
    "  - defaults\n",
    "dependencies:\n",
    "  - python=3.9\n",
    "  - pip:\n",
    "    - azure-identity==1.13.0\n",
    "    - azure-ai-ml==1.8.0\n",
    "    - azureml-inference-server-http==0.8.4"
   ]
  },
  {
   "cell_type": "markdown",
   "metadata": {},
   "source": [
    "### 7. Create a Managed Identity for the content safety enabled LLaMa endpoint\n",
    "Azure Content Safey is support AAD token based authentication by default, which means we need to create a managed identity for the safety enabled LLaMa endpoint, so that it can access the Azure AI Content Safety using AAD token."
   ]
  },
  {
   "cell_type": "markdown",
   "metadata": {},
   "source": [
    "#### 7.1 Decide on the name of your user identity:"
   ]
  },
  {
   "cell_type": "code",
   "execution_count": null,
   "metadata": {},
   "outputs": [],
   "source": [
    "uai_name = f\"{endpoint_name}-uai\"\n",
    "print(f\"Will create UAI(User Assigned Identity) {uai_name} for the Azure AI Content Safety enabled LLaMa endpoint.\")"
   ]
  },
  {
   "cell_type": "markdown",
   "metadata": {},
   "source": [
    "#### 7.2 Get a handle to the ManagedServiceIdentityClient"
   ]
  },
  {
   "cell_type": "code",
   "execution_count": null,
   "metadata": {},
   "outputs": [],
   "source": [
    "from azure.mgmt.msi import ManagedServiceIdentityClient\n",
    "from azure.mgmt.msi.models import Identity\n",
    "\n",
    "try:\n",
    "    credential = DefaultAzureCredential()\n",
    "    # Check if given credential can get token successfully.\n",
    "    credential.get_token(\"https://management.azure.com/.default\")\n",
    "except Exception as ex:\n",
    "    # Fall back to InteractiveBrowserCredential in case DefaultAzureCredential not work\n",
    "    credential = InteractiveBrowserCredential()\n",
    "    \n",
    "msi_client = ManagedServiceIdentityClient(\n",
    "    subscription_id=subscription_id,\n",
    "    credential=credential,\n",
    ")"
   ]
  },
  {
   "cell_type": "markdown",
   "metadata": {},
   "source": [
    "#### 7.2 Create the user identity:"
   ]
  },
  {
   "cell_type": "code",
   "execution_count": null,
   "metadata": {},
   "outputs": [],
   "source": [
    "msi_client.user_assigned_identities.create_or_update(\n",
    "    resource_group_name=resource_group_name,\n",
    "    resource_name=uai_name,\n",
    "    parameters=Identity(location=workspace_location),\n",
    ")"
   ]
  },
  {
   "cell_type": "markdown",
   "metadata": {},
   "source": [
    "#### 7.3 Retrieve the identity object\n",
    "we need to retrieve the identity object so that we can use it to configure the Safety-Enabled LLaMa Online Endpoint."
   ]
  },
  {
   "cell_type": "code",
   "execution_count": null,
   "metadata": {},
   "outputs": [],
   "source": [
    "uai_identity = msi_client.user_assigned_identities.get(\n",
    "    resource_group_name=resource_group_name,\n",
    "    resource_name=uai_name,\n",
    ")\n",
    "uai_principal_id = uai_identity.principal_id\n",
    "uai_client_id = uai_identity.client_id\n",
    "uai_id = uai_identity.id\n",
    "print(f\"UAI principal id: {uai_principal_id}\")\n",
    "print(f\"UAI client id: {uai_client_id}\")\n",
    "print(f\"UAI id: {uai_id}\")"
   ]
  },
  {
   "cell_type": "markdown",
   "metadata": {},
   "source": [
    "### 8. Give Access permissions to the Managed Identity we created above.\n",
    "Note: In order to successfully run scripts in current step, your must have owner permission on the AACS resource and the LLaMa endpoint, which we created in the previous steps."
   ]
  },
  {
   "cell_type": "markdown",
   "metadata": {},
   "source": [
    "#### 8.1 Get an AuthorizationManagementClient to list Role Definitions"
   ]
  },
  {
   "cell_type": "code",
   "execution_count": null,
   "metadata": {},
   "outputs": [],
   "source": [
    "from azure.mgmt.authorization import AuthorizationManagementClient\n",
    "from azure.mgmt.authorization.v2018_01_01_preview.models import RoleDefinition\n",
    "import uuid\n",
    "\n",
    "role_definition_client = AuthorizationManagementClient(\n",
    "    credential=credential,\n",
    "    subscription_id=subscription_id,\n",
    "    api_version=\"2018-01-01-preview\",\n",
    ")\n",
    "\n",
    "from azure.mgmt.authorization.v2020_10_01_preview.models import RoleAssignmentCreateParameters\n",
    "\n",
    "role_assignment_client = AuthorizationManagementClient(\n",
    "    credential=credential,\n",
    "    subscription_id=subscription_id,\n",
    "    api_version=\"2020-10-01-preview\",\n",
    ")"
   ]
  },
  {
   "cell_type": "markdown",
   "metadata": {},
   "source": [
    "#### 8.2 Grant the user identity access to the Azure Content Safety resource\n",
    "Cognitive Services User role is required to access the Azure Content Safety resource."
   ]
  },
  {
   "cell_type": "code",
   "execution_count": null,
   "metadata": {},
   "outputs": [],
   "source": [
    "role_name = \"Cognitive Services User\" # minimum role required for accessing AACS\n",
    "scope = aacs_resource_id\n",
    "\n",
    "role_defs = role_definition_client.role_definitions.list(scope=scope)\n",
    "role_def = next((r for r in role_defs if r.role_name == role_name))\n",
    "\n",
    "from azure.core.exceptions import ResourceExistsError\n",
    "try:\n",
    "    role_assignment_client.role_assignments.create(\n",
    "        scope=scope,\n",
    "        role_assignment_name=str(uuid.uuid4()),\n",
    "        parameters=RoleAssignmentCreateParameters(\n",
    "            role_definition_id=role_def.id,\n",
    "            principal_id=uai_principal_id,\n",
    "            principal_type=\"ServicePrincipal\",\n",
    "        ),\n",
    "    )\n",
    "except ResourceExistsError as ex:\n",
    "    pass\n",
    "except Exception as ex:\n",
    "    print(ex)\n",
    "    raise ex\n",
    "\n",
    "print(f\"Role assignment for {role_name} at the Azure AI Content Safety resource level completed.\")"
   ]
  },
  {
   "cell_type": "markdown",
   "metadata": {},
   "source": [
    "#### 8.3 Grant the user identity access to the LLaMa online endpoint.\n",
    "In order to retrieve the key of the LLaMa online endpoint, the MI must have `AzureML Data Scientist` role on the workspace level."
   ]
  },
  {
   "cell_type": "code",
   "execution_count": null,
   "metadata": {},
   "outputs": [],
   "source": [
    "role_name = \"AzureML Data Scientist\"\n",
    "scope = workspace_resource_id\n",
    "\n",
    "role_defs = role_definition_client.role_definitions.list(scope=scope)\n",
    "role_def = next((r for r in role_defs if r.role_name == role_name))\n",
    "from azure.core.exceptions import ResourceExistsError\n",
    "try:\n",
    "    role_assignment_client.role_assignments.create(\n",
    "        scope=scope,\n",
    "        role_assignment_name=str(uuid.uuid4()),\n",
    "        parameters=RoleAssignmentCreateParameters(\n",
    "            role_definition_id=role_def.id,\n",
    "            principal_id=uai_principal_id,\n",
    "            principal_type=\"ServicePrincipal\",\n",
    "        ),\n",
    "    )\n",
    "except ResourceExistsError as ex:\n",
    "    pass\n",
    "except Exception as ex:\n",
    "    print(ex)\n",
    "    raise ex\n",
    "print(f\"Role assignment for {role_name} at the workspace level completed.\")"
   ]
  },
  {
   "cell_type": "markdown",
   "metadata": {},
   "source": [
    "#### 8.4 Assign AcrPull at the workspace container registry scope\n",
    "Since we will create the content safety enabled LlaMa endpoint with User Assigned Identity, the user managed identity must have Storage Blob Data Reader permission on the storage account for the workspace, and AcrPull permission on the Azure Container Registry (ACR) for the workspace. Make sure your User Assigned Identity has the right permission."
   ]
  },
  {
   "cell_type": "code",
   "execution_count": null,
   "metadata": {},
   "outputs": [],
   "source": [
    "workspace = ml_client.workspaces.get(workspace_name)\n",
    "container_registry = workspace.container_registry\n",
    "\n",
    "role_name = \"AcrPull\"\n",
    "acr_scope = container_registry\n",
    "\n",
    "role_defs = role_definition_client.role_definitions.list(scope=acr_scope)\n",
    "role_def = next((r for r in role_defs if r.role_name == role_name))\n",
    "\n",
    "from azure.core.exceptions import ResourceExistsError\n",
    "try:\n",
    "    role_assignment_client.role_assignments.create(\n",
    "        scope=acr_scope,\n",
    "        role_assignment_name=str(uuid.uuid4()),\n",
    "        parameters=RoleAssignmentCreateParameters(\n",
    "            role_definition_id=role_def.id,\n",
    "            principal_id=uai_principal_id,\n",
    "            principal_type=\"ServicePrincipal\",\n",
    "        ),\n",
    "    ) \n",
    "except ResourceExistsError as ex:\n",
    "    pass\n",
    "except Exception as ex:\n",
    "    print(ex)\n",
    "    raise ex\n",
    "print(\"Role assignment for AcrPull at the workspace container registry completed.\")"
   ]
  },
  {
   "cell_type": "code",
   "execution_count": null,
   "metadata": {},
   "outputs": [],
   "source": [
    "role_name = \"Storage Blob Data Reader\"\n",
    "blob_scope = workspace.storage_account\n",
    "\n",
    "role_defs = role_definition_client.role_definitions.list(scope=blob_scope)\n",
    "role_def = next((r for r in role_defs if r.role_name == role_name))\n",
    "\n",
    "from azure.core.exceptions import ResourceExistsError\n",
    "try:\n",
    "    role_assignment_client.role_assignments.create(\n",
    "        scope=blob_scope,\n",
    "        role_assignment_name=str(uuid.uuid4()),\n",
    "        parameters=RoleAssignmentCreateParameters(\n",
    "            role_definition_id=role_def.id,\n",
    "            principal_id=uai_principal_id,\n",
    "            principal_type=\"ServicePrincipal\",\n",
    "        ),\n",
    "    )\n",
    "except ResourceExistsError as ex:\n",
    "    pass\n",
    "except Exception as ex:\n",
    "    print(ex)\n",
    "    raise ex\n",
    "print(\"Role assignment for `Storage Blob Data Reader` at the workspace storage account completed.\")"
   ]
  },
  {
   "cell_type": "markdown",
   "metadata": {},
   "source": [
    "### 9. Create Content Safety enabled LLaMa online endpoint using above score.py"
   ]
  },
  {
   "cell_type": "markdown",
   "metadata": {},
   "source": [
    "#### 9.1 Decide on SKU and instance count for the Content Safety enabled LLaMa online endpoint."
   ]
  },
  {
   "cell_type": "code",
   "execution_count": null,
   "metadata": {},
   "outputs": [],
   "source": [
    "compute_sku_for_safety_proxy = \"Standard_DS5_v2\"\n",
    "compute_count = 1\n",
    "\n",
    "safety_llama_auth_mode = \"key\" # currently, \"key\" and \"aml_token\" are supported"
   ]
  },
  {
   "cell_type": "markdown",
   "metadata": {},
   "source": [
    "#### 9.2 Create the Safety-Enabled LLaMa Online Endpoint\n",
    "This step may take a few minutes."
   ]
  },
  {
   "cell_type": "code",
   "execution_count": null,
   "metadata": {},
   "outputs": [],
   "source": [
    "# environment variables that will be used in the scoring script\n",
    "env_key_of_aacs_endpoint = \"AACS_ENDPOINT\"\n",
    "env_key_of_llama_score_uri = \"LLAMA_SCORE_URI\"\n",
    "env_key_of_uai_id = \"UAI_CLIENT_ID\"\n",
    "env_key_of_subscription_id = \"SUBSCRIPTION_ID\"\n",
    "env_key_of_resource_group_name = \"RESOURCE_GROUP_NAME\"\n",
    "env_key_of_workspace_name = \"WORKSPACE_NAME\"\n",
    "env_key_of_llama_endpoint_name = \"LLAMA_ENDPOINT_NAME\"\n",
    "\n",
    "from azure.ai.ml.entities import (\n",
    "    ManagedOnlineDeployment,\n",
    "    ManagedOnlineEndpoint,\n",
    "    CodeConfiguration,\n",
    "    Environment,\n",
    "    ManagedIdentityConfiguration,\n",
    "    IdentityConfiguration\n",
    ")\n",
    "\n",
    "if not aacs_endpoint:\n",
    "    raise Exception(\"AACS Endpoint is not valid.\")\n",
    "else:\n",
    "    print(f\"AACS Endpoint: {aacs_endpoint}\")\n",
    " \n",
    "deployment = ManagedOnlineDeployment(\n",
    "        name=\"blue\",\n",
    "        endpoint_name=endpoint_name,\n",
    "        code_configuration=CodeConfiguration(\n",
    "            code=f\"{scoring_src_dir}\", scoring_script=\"score.py\"\n",
    "        ),\n",
    "        environment=Environment(\n",
    "            conda_file=f\"{scoring_src_dir}/conda.yaml\",\n",
    "            image=\"mcr.microsoft.com/azureml/openmpi4.1.0-ubuntu20.04:latest\",\n",
    "        ),\n",
    "        instance_type=compute_sku_for_safety_proxy,\n",
    "        instance_count=compute_count,\n",
    "        environment_variables={\n",
    "            env_key_of_uai_id: uai_client_id,\n",
    "            env_key_of_aacs_endpoint: aacs_endpoint,\n",
    "            env_key_of_llama_score_uri: llama_score_uri,\n",
    "            env_key_of_subscription_id: subscription_id,\n",
    "            env_key_of_resource_group_name: resource_group_name,\n",
    "            env_key_of_workspace_name: workspace_name,\n",
    "            env_key_of_llama_endpoint_name: llama_endpoint_name\n",
    "        },\n",
    "    )\n",
    "\n",
    "\n",
    "endpoint = ManagedOnlineEndpoint(\n",
    "        name=endpoint_name,\n",
    "        description=\"Azure AI Content Safety enabled LLaMa online endpoint\",\n",
    "        auth_mode=safety_llama_auth_mode,\n",
    "        identity=IdentityConfiguration(\n",
    "            type=\"user_assigned\",\n",
    "            user_assigned_identities=[\n",
    "                ManagedIdentityConfiguration(resource_id=uai_id)\n",
    "            ],\n",
    "        ),\n",
    "    )\n",
    "# create online endpoint\n",
    "ml_client.online_endpoints.begin_create_or_update(endpoint).result()\n",
    "\n",
    "endpoint = ml_client.online_endpoints.get(endpoint_name)\n",
    "print(endpoint.identity.type)\n",
    "print(endpoint.identity.user_assigned_identities)\n",
    "\n",
    "# create deployment\n",
    "ml_client.online_deployments.begin_create_or_update(deployment).result()\n",
    "# check status\n",
    "deployment = ml_client.online_deployments.get(\n",
    "        endpoint_name=endpoint_name, name=deployment.name\n",
    "    )\n",
    "print(deployment)\n",
    "# Set traffic to 100% for deployment\n",
    "endpoint.traffic = {str(deployment.name): 100}\n",
    "ml_client.begin_create_or_update(endpoint).result()\n"
   ]
  },
  {
   "cell_type": "markdown",
   "metadata": {},
   "source": [
    "### 10. Test the Safety Enabled LLaMa online endpoint."
   ]
  },
  {
   "cell_type": "markdown",
   "metadata": {},
   "source": [
    "#### 10.1 Test endpoint with normal sample request"
   ]
  },
  {
   "cell_type": "code",
   "execution_count": null,
   "metadata": {},
   "outputs": [],
   "source": [
    "import os\n",
    "\n",
    "test_src_dir = \"./safety-llama-test\"\n",
    "os.makedirs(test_src_dir, exist_ok=True)\n",
    "print(f\"test script directory: {test_src_dir}\")"
   ]
  },
  {
   "cell_type": "code",
   "execution_count": null,
   "metadata": {},
   "outputs": [],
   "source": [
    "%%writefile {test_src_dir}/sample-request.json\n",
    "{\"data\": \"Hello World\"}"
   ]
  },
  {
   "cell_type": "code",
   "execution_count": null,
   "metadata": {},
   "outputs": [],
   "source": [
    "sample_data = f\"{test_src_dir}/sample-request.json\"\n",
    "ml_client.online_endpoints.invoke(endpoint_name=endpoint_name, request_file=sample_data)"
   ]
  },
  {
   "cell_type": "markdown",
   "metadata": {},
   "source": [
    "#### 10.2 Test endpoint with harmful sample request"
   ]
  },
  {
   "cell_type": "code",
   "execution_count": null,
   "metadata": {},
   "outputs": [],
   "source": [
    "%%writefile {test_src_dir}/sample-harmful-request.json\n",
    "{\"data\": \"I wanna kill you!\"}"
   ]
  },
  {
   "cell_type": "code",
   "execution_count": null,
   "metadata": {},
   "outputs": [],
   "source": [
    "sample_data = f\"{test_src_dir}/sample-harmful-request.json\"\n",
    "ml_client.online_endpoints.invoke(endpoint_name=endpoint_name, request_file=sample_data)"
   ]
  }
 ],
 "metadata": {
  "kernelspec": {
   "display_name": "Python 3 (ipykernel)",
   "language": "python",
   "name": "python3"
  },
  "language_info": {
   "codemirror_mode": {
    "name": "ipython",
    "version": 3
   },
   "file_extension": ".py",
   "mimetype": "text/x-python",
   "name": "python",
   "nbconvert_exporter": "python",
   "pygments_lexer": "ipython3",
   "version": "3.10.10"
  }
 },
 "nbformat": 4,
 "nbformat_minor": 1
}
