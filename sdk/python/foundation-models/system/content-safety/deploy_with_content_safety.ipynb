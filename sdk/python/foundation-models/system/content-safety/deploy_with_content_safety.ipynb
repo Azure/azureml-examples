{
 "cells": [
  {
   "cell_type": "markdown",
   "metadata": {},
   "source": [
    "# How to create an Azure AI Content safety enabled LLaMA online endpoint\n",
    "### This notebook will walk you through the steps to create an __Azure AI Content Safety__ enabled __LLaMA__ online endpoint.\n",
    "### The steps are:\n",
    "1. Create an __Azure AI Content Safety__ resource for moderating the request from user and response from the __LLaMA__ online endpoint.\n",
    "2. Create a new __Azure AI Content Safety__ enabled __LLaMA__ online endpoint with a custom score.py which will integrate with the __Azure AI Content Safety__ resource to moderate the response from the __LLaMA__ model and the request from the user, but to make the custom score.py to sucessfully autheticated to the __Azure AI Content Safety__ resource, we have 2 options:\n",
    "    1. __UAI__, recommended but more complex approach, is to create a __User Assigned Identity (UAI)__ and assign appropriate roles to the __UAI__. Then, the custom score.py can obtain the access token of the __UAI__ from the AAD server to access the Azure AI Content Safety resource.\n",
    "    2. __Environment variable__, simpler but less secure approach, is to just pass the access key of the __Azure AI Content Safety__ resource to the custom score.py via environment variable, then the custom score.py can use the key directly to access the Azure AI Content Safety resource, this option is less secure than the first option, if someone in your org has access to the endpoint, he/she can get the access key from the environment variable and use it to access the Azure AI Content Safety resource.\n",
    "  "
   ]
  },
  {
   "cell_type": "markdown",
   "metadata": {},
   "source": [
    "### Please update below variable to EnvVar if you want to use the Environment variable approach."
   ]
  },
  {
   "cell_type": "code",
   "execution_count": 21,
   "metadata": {},
   "outputs": [],
   "source": [
    "aacs_authentication_mode = \"UAI\"  # UAI or EnvVar, if EnvVar is used, the access keys of AACS and LLaMA online endpoint will be set to environment variables."
   ]
  },
  {
   "cell_type": "markdown",
   "metadata": {},
   "source": [
    "### 1. Prerequisites\n",
    "#### 1.1 Check List:\n",
    "- [x] A working Azure ML workspace with the default container registry created.\n",
    "- [x] You have created an new Python virtual environment for this notebook.\n",
    "- [x] The identity you are using to execute this notebook(your azure account or a Managed Identity attached to the VM) need to have the __Contributor__ role on the resource group where the AML Workspace your specified is located, because this notebook will create an Azure AI Content Safety resource using that identity.\n",
    "- [x] __Required If you choose to use the UAI approach__, the identity executing this notebook (either yourself or your virtual machine) needs to have the __Owner__ role on the resource group that contains the specified AML Workspace. This is because the notebook will create a new UAI and assign the UAI some required roles to successfully create the Azure AI Content Safety enabled LLaMA endpoint."
   ]
  },
  {
   "cell_type": "markdown",
   "metadata": {},
   "source": [
    "#### 1.2 Install Dependencies"
   ]
  },
  {
   "cell_type": "code",
   "execution_count": 22,
   "metadata": {},
   "outputs": [
    {
     "name": "stdout",
     "output_type": "stream",
     "text": [
      "Requirement already satisfied: azure-identity==1.13.0 in d:\\workspace\\azureml-examples\\.venv\\lib\\site-packages (1.13.0)Note: you may need to restart the kernel to use updated packages.\n",
      "\n",
      "Requirement already satisfied: azure-core<2.0.0,>=1.11.0 in d:\\workspace\\azureml-examples\\.venv\\lib\\site-packages (from azure-identity==1.13.0) (1.27.1)\n",
      "Requirement already satisfied: cryptography>=2.5 in d:\\workspace\\azureml-examples\\.venv\\lib\\site-packages (from azure-identity==1.13.0) (41.0.1)\n",
      "Requirement already satisfied: msal<2.0.0,>=1.20.0 in d:\\workspace\\azureml-examples\\.venv\\lib\\site-packages (from azure-identity==1.13.0) (1.22.0)\n",
      "Requirement already satisfied: msal-extensions<2.0.0,>=0.3.0 in d:\\workspace\\azureml-examples\\.venv\\lib\\site-packages (from azure-identity==1.13.0) (1.0.0)\n",
      "Requirement already satisfied: six>=1.12.0 in d:\\workspace\\azureml-examples\\.venv\\lib\\site-packages (from azure-identity==1.13.0) (1.16.0)\n",
      "Requirement already satisfied: requests>=2.18.4 in d:\\workspace\\azureml-examples\\.venv\\lib\\site-packages (from azure-core<2.0.0,>=1.11.0->azure-identity==1.13.0) (2.31.0)\n",
      "Requirement already satisfied: typing-extensions>=4.3.0 in d:\\workspace\\azureml-examples\\.venv\\lib\\site-packages (from azure-core<2.0.0,>=1.11.0->azure-identity==1.13.0) (4.7.1)\n",
      "Requirement already satisfied: cffi>=1.12 in d:\\workspace\\azureml-examples\\.venv\\lib\\site-packages (from cryptography>=2.5->azure-identity==1.13.0) (1.15.1)\n",
      "Requirement already satisfied: PyJWT[crypto]<3,>=1.0.0 in d:\\workspace\\azureml-examples\\.venv\\lib\\site-packages (from msal<2.0.0,>=1.20.0->azure-identity==1.13.0) (2.7.0)\n",
      "Requirement already satisfied: portalocker<3,>=1.6 in d:\\workspace\\azureml-examples\\.venv\\lib\\site-packages (from msal-extensions<2.0.0,>=0.3.0->azure-identity==1.13.0) (2.7.0)\n",
      "Requirement already satisfied: pycparser in d:\\workspace\\azureml-examples\\.venv\\lib\\site-packages (from cffi>=1.12->cryptography>=2.5->azure-identity==1.13.0) (2.21)\n",
      "Requirement already satisfied: pywin32>=226 in d:\\workspace\\azureml-examples\\.venv\\lib\\site-packages (from portalocker<3,>=1.6->msal-extensions<2.0.0,>=0.3.0->azure-identity==1.13.0) (306)\n",
      "Requirement already satisfied: charset-normalizer<4,>=2 in d:\\workspace\\azureml-examples\\.venv\\lib\\site-packages (from requests>=2.18.4->azure-core<2.0.0,>=1.11.0->azure-identity==1.13.0) (3.1.0)\n",
      "Requirement already satisfied: idna<4,>=2.5 in d:\\workspace\\azureml-examples\\.venv\\lib\\site-packages (from requests>=2.18.4->azure-core<2.0.0,>=1.11.0->azure-identity==1.13.0) (3.4)\n",
      "Requirement already satisfied: urllib3<3,>=1.21.1 in d:\\workspace\\azureml-examples\\.venv\\lib\\site-packages (from requests>=2.18.4->azure-core<2.0.0,>=1.11.0->azure-identity==1.13.0) (1.26.16)\n",
      "Requirement already satisfied: certifi>=2017.4.17 in d:\\workspace\\azureml-examples\\.venv\\lib\\site-packages (from requests>=2.18.4->azure-core<2.0.0,>=1.11.0->azure-identity==1.13.0) (2023.5.7)\n",
      "Requirement already satisfied: azure-mgmt-cognitiveservices==13.4.0 in d:\\workspace\\azureml-examples\\.venv\\lib\\site-packages (13.4.0)Note: you may need to restart the kernel to use updated packages.\n",
      "\n",
      "Requirement already satisfied: msrest>=0.7.1 in d:\\workspace\\azureml-examples\\.venv\\lib\\site-packages (from azure-mgmt-cognitiveservices==13.4.0) (0.7.1)\n",
      "Requirement already satisfied: azure-common~=1.1 in d:\\workspace\\azureml-examples\\.venv\\lib\\site-packages (from azure-mgmt-cognitiveservices==13.4.0) (1.1.28)\n",
      "Requirement already satisfied: azure-mgmt-core<2.0.0,>=1.3.2 in d:\\workspace\\azureml-examples\\.venv\\lib\\site-packages (from azure-mgmt-cognitiveservices==13.4.0) (1.4.0)\n",
      "Requirement already satisfied: azure-core<2.0.0,>=1.26.2 in d:\\workspace\\azureml-examples\\.venv\\lib\\site-packages (from azure-mgmt-core<2.0.0,>=1.3.2->azure-mgmt-cognitiveservices==13.4.0) (1.27.1)\n",
      "Requirement already satisfied: certifi>=2017.4.17 in d:\\workspace\\azureml-examples\\.venv\\lib\\site-packages (from msrest>=0.7.1->azure-mgmt-cognitiveservices==13.4.0) (2023.5.7)\n",
      "Requirement already satisfied: isodate>=0.6.0 in d:\\workspace\\azureml-examples\\.venv\\lib\\site-packages (from msrest>=0.7.1->azure-mgmt-cognitiveservices==13.4.0) (0.6.1)\n",
      "Requirement already satisfied: requests-oauthlib>=0.5.0 in d:\\workspace\\azureml-examples\\.venv\\lib\\site-packages (from msrest>=0.7.1->azure-mgmt-cognitiveservices==13.4.0) (1.3.1)\n",
      "Requirement already satisfied: requests~=2.16 in d:\\workspace\\azureml-examples\\.venv\\lib\\site-packages (from msrest>=0.7.1->azure-mgmt-cognitiveservices==13.4.0) (2.31.0)\n",
      "Requirement already satisfied: six>=1.11.0 in d:\\workspace\\azureml-examples\\.venv\\lib\\site-packages (from azure-core<2.0.0,>=1.26.2->azure-mgmt-core<2.0.0,>=1.3.2->azure-mgmt-cognitiveservices==13.4.0) (1.16.0)\n",
      "Requirement already satisfied: typing-extensions>=4.3.0 in d:\\workspace\\azureml-examples\\.venv\\lib\\site-packages (from azure-core<2.0.0,>=1.26.2->azure-mgmt-core<2.0.0,>=1.3.2->azure-mgmt-cognitiveservices==13.4.0) (4.7.1)\n",
      "Requirement already satisfied: charset-normalizer<4,>=2 in d:\\workspace\\azureml-examples\\.venv\\lib\\site-packages (from requests~=2.16->msrest>=0.7.1->azure-mgmt-cognitiveservices==13.4.0) (3.1.0)\n",
      "Requirement already satisfied: idna<4,>=2.5 in d:\\workspace\\azureml-examples\\.venv\\lib\\site-packages (from requests~=2.16->msrest>=0.7.1->azure-mgmt-cognitiveservices==13.4.0) (3.4)\n",
      "Requirement already satisfied: urllib3<3,>=1.21.1 in d:\\workspace\\azureml-examples\\.venv\\lib\\site-packages (from requests~=2.16->msrest>=0.7.1->azure-mgmt-cognitiveservices==13.4.0) (1.26.16)\n",
      "Requirement already satisfied: oauthlib>=3.0.0 in d:\\workspace\\azureml-examples\\.venv\\lib\\site-packages (from requests-oauthlib>=0.5.0->msrest>=0.7.1->azure-mgmt-cognitiveservices==13.4.0) (3.2.2)\n",
      "Requirement already satisfied: azure-ai-ml==1.8.0 in d:\\workspace\\azureml-examples\\.venv\\lib\\site-packages (1.8.0)Note: you may need to restart the kernel to use updated packages.\n",
      "\n",
      "Requirement already satisfied: pyyaml<7.0.0,>=5.1.0 in d:\\workspace\\azureml-examples\\.venv\\lib\\site-packages (from azure-ai-ml==1.8.0) (6.0)\n",
      "Requirement already satisfied: msrest>=0.6.18 in d:\\workspace\\azureml-examples\\.venv\\lib\\site-packages (from azure-ai-ml==1.8.0) (0.7.1)\n",
      "Requirement already satisfied: azure-core<2.0.0,>=1.23.0 in d:\\workspace\\azureml-examples\\.venv\\lib\\site-packages (from azure-ai-ml==1.8.0) (1.27.1)\n",
      "Requirement already satisfied: azure-mgmt-core<2.0.0,>=1.3.0 in d:\\workspace\\azureml-examples\\.venv\\lib\\site-packages (from azure-ai-ml==1.8.0) (1.4.0)\n",
      "Requirement already satisfied: marshmallow<4.0.0,>=3.5 in d:\\workspace\\azureml-examples\\.venv\\lib\\site-packages (from azure-ai-ml==1.8.0) (3.19.0)\n",
      "Requirement already satisfied: jsonschema<5.0.0,>=4.0.0 in d:\\workspace\\azureml-examples\\.venv\\lib\\site-packages (from azure-ai-ml==1.8.0) (4.18.0)\n",
      "Requirement already satisfied: tqdm<5.0.0 in d:\\workspace\\azureml-examples\\.venv\\lib\\site-packages (from azure-ai-ml==1.8.0) (4.65.0)\n",
      "Requirement already satisfied: strictyaml<2.0.0 in d:\\workspace\\azureml-examples\\.venv\\lib\\site-packages (from azure-ai-ml==1.8.0) (1.7.3)\n",
      "Requirement already satisfied: colorama<0.5.0 in d:\\workspace\\azureml-examples\\.venv\\lib\\site-packages (from azure-ai-ml==1.8.0) (0.4.6)\n",
      "Requirement already satisfied: pyjwt<3.0.0 in d:\\workspace\\azureml-examples\\.venv\\lib\\site-packages (from azure-ai-ml==1.8.0) (2.7.0)\n",
      "Requirement already satisfied: azure-storage-blob<13.0.0,>=12.10.0 in d:\\workspace\\azureml-examples\\.venv\\lib\\site-packages (from azure-ai-ml==1.8.0) (12.16.0)\n",
      "Requirement already satisfied: azure-storage-file-share<13.0.0 in d:\\workspace\\azureml-examples\\.venv\\lib\\site-packages (from azure-ai-ml==1.8.0) (12.12.0)\n",
      "Requirement already satisfied: azure-storage-file-datalake<13.0.0 in d:\\workspace\\azureml-examples\\.venv\\lib\\site-packages (from azure-ai-ml==1.8.0) (12.11.0)\n",
      "Requirement already satisfied: pydash<6.0.0 in d:\\workspace\\azureml-examples\\.venv\\lib\\site-packages (from azure-ai-ml==1.8.0) (5.1.2)\n",
      "Requirement already satisfied: isodate in d:\\workspace\\azureml-examples\\.venv\\lib\\site-packages (from azure-ai-ml==1.8.0) (0.6.1)\n",
      "Requirement already satisfied: azure-common<2.0.0,>=1.1 in d:\\workspace\\azureml-examples\\.venv\\lib\\site-packages (from azure-ai-ml==1.8.0) (1.1.28)\n",
      "Requirement already satisfied: typing-extensions<5.0.0 in d:\\workspace\\azureml-examples\\.venv\\lib\\site-packages (from azure-ai-ml==1.8.0) (4.7.1)\n",
      "Requirement already satisfied: opencensus-ext-azure<2.0.0 in d:\\workspace\\azureml-examples\\.venv\\lib\\site-packages (from azure-ai-ml==1.8.0) (1.1.9)\n",
      "Requirement already satisfied: requests>=2.18.4 in d:\\workspace\\azureml-examples\\.venv\\lib\\site-packages (from azure-core<2.0.0,>=1.23.0->azure-ai-ml==1.8.0) (2.31.0)\n",
      "Requirement already satisfied: six>=1.11.0 in d:\\workspace\\azureml-examples\\.venv\\lib\\site-packages (from azure-core<2.0.0,>=1.23.0->azure-ai-ml==1.8.0) (1.16.0)\n",
      "Requirement already satisfied: cryptography>=2.1.4 in d:\\workspace\\azureml-examples\\.venv\\lib\\site-packages (from azure-storage-blob<13.0.0,>=12.10.0->azure-ai-ml==1.8.0) (41.0.1)\n",
      "Requirement already satisfied: attrs>=22.2.0 in d:\\workspace\\azureml-examples\\.venv\\lib\\site-packages (from jsonschema<5.0.0,>=4.0.0->azure-ai-ml==1.8.0) (23.1.0)\n",
      "Requirement already satisfied: jsonschema-specifications>=2023.03.6 in d:\\workspace\\azureml-examples\\.venv\\lib\\site-packages (from jsonschema<5.0.0,>=4.0.0->azure-ai-ml==1.8.0) (2023.6.1)\n",
      "Requirement already satisfied: referencing>=0.28.4 in d:\\workspace\\azureml-examples\\.venv\\lib\\site-packages (from jsonschema<5.0.0,>=4.0.0->azure-ai-ml==1.8.0) (0.29.1)\n",
      "Requirement already satisfied: rpds-py>=0.7.1 in d:\\workspace\\azureml-examples\\.venv\\lib\\site-packages (from jsonschema<5.0.0,>=4.0.0->azure-ai-ml==1.8.0) (0.8.4)\n",
      "Requirement already satisfied: packaging>=17.0 in d:\\workspace\\azureml-examples\\.venv\\lib\\site-packages (from marshmallow<4.0.0,>=3.5->azure-ai-ml==1.8.0) (23.1)\n",
      "Requirement already satisfied: certifi>=2017.4.17 in d:\\workspace\\azureml-examples\\.venv\\lib\\site-packages (from msrest>=0.6.18->azure-ai-ml==1.8.0) (2023.5.7)\n",
      "Requirement already satisfied: requests-oauthlib>=0.5.0 in d:\\workspace\\azureml-examples\\.venv\\lib\\site-packages (from msrest>=0.6.18->azure-ai-ml==1.8.0) (1.3.1)\n",
      "Requirement already satisfied: azure-identity<2.0.0,>=1.5.0 in d:\\workspace\\azureml-examples\\.venv\\lib\\site-packages (from opencensus-ext-azure<2.0.0->azure-ai-ml==1.8.0) (1.13.0)\n",
      "Requirement already satisfied: opencensus<1.0.0,>=0.11.2 in d:\\workspace\\azureml-examples\\.venv\\lib\\site-packages (from opencensus-ext-azure<2.0.0->azure-ai-ml==1.8.0) (0.11.2)\n",
      "Requirement already satisfied: psutil>=5.6.3 in d:\\workspace\\azureml-examples\\.venv\\lib\\site-packages (from opencensus-ext-azure<2.0.0->azure-ai-ml==1.8.0) (5.9.5)\n",
      "Requirement already satisfied: python-dateutil>=2.6.0 in d:\\workspace\\azureml-examples\\.venv\\lib\\site-packages (from strictyaml<2.0.0->azure-ai-ml==1.8.0) (2.8.2)\n",
      "Requirement already satisfied: msal<2.0.0,>=1.20.0 in d:\\workspace\\azureml-examples\\.venv\\lib\\site-packages (from azure-identity<2.0.0,>=1.5.0->opencensus-ext-azure<2.0.0->azure-ai-ml==1.8.0) (1.22.0)\n",
      "Requirement already satisfied: msal-extensions<2.0.0,>=0.3.0 in d:\\workspace\\azureml-examples\\.venv\\lib\\site-packages (from azure-identity<2.0.0,>=1.5.0->opencensus-ext-azure<2.0.0->azure-ai-ml==1.8.0) (1.0.0)\n",
      "Requirement already satisfied: cffi>=1.12 in d:\\workspace\\azureml-examples\\.venv\\lib\\site-packages (from cryptography>=2.1.4->azure-storage-blob<13.0.0,>=12.10.0->azure-ai-ml==1.8.0) (1.15.1)\n",
      "Requirement already satisfied: opencensus-context>=0.1.3 in d:\\workspace\\azureml-examples\\.venv\\lib\\site-packages (from opencensus<1.0.0,>=0.11.2->opencensus-ext-azure<2.0.0->azure-ai-ml==1.8.0) (0.1.3)\n",
      "Requirement already satisfied: google-api-core<3.0.0,>=1.0.0 in d:\\workspace\\azureml-examples\\.venv\\lib\\site-packages (from opencensus<1.0.0,>=0.11.2->opencensus-ext-azure<2.0.0->azure-ai-ml==1.8.0) (2.11.1)\n",
      "Requirement already satisfied: charset-normalizer<4,>=2 in d:\\workspace\\azureml-examples\\.venv\\lib\\site-packages (from requests>=2.18.4->azure-core<2.0.0,>=1.23.0->azure-ai-ml==1.8.0) (3.1.0)\n",
      "Requirement already satisfied: idna<4,>=2.5 in d:\\workspace\\azureml-examples\\.venv\\lib\\site-packages (from requests>=2.18.4->azure-core<2.0.0,>=1.23.0->azure-ai-ml==1.8.0) (3.4)\n",
      "Requirement already satisfied: urllib3<3,>=1.21.1 in d:\\workspace\\azureml-examples\\.venv\\lib\\site-packages (from requests>=2.18.4->azure-core<2.0.0,>=1.23.0->azure-ai-ml==1.8.0) (1.26.16)\n",
      "Requirement already satisfied: oauthlib>=3.0.0 in d:\\workspace\\azureml-examples\\.venv\\lib\\site-packages (from requests-oauthlib>=0.5.0->msrest>=0.6.18->azure-ai-ml==1.8.0) (3.2.2)\n",
      "Requirement already satisfied: pycparser in d:\\workspace\\azureml-examples\\.venv\\lib\\site-packages (from cffi>=1.12->cryptography>=2.1.4->azure-storage-blob<13.0.0,>=12.10.0->azure-ai-ml==1.8.0) (2.21)\n",
      "Requirement already satisfied: googleapis-common-protos<2.0.dev0,>=1.56.2 in d:\\workspace\\azureml-examples\\.venv\\lib\\site-packages (from google-api-core<3.0.0,>=1.0.0->opencensus<1.0.0,>=0.11.2->opencensus-ext-azure<2.0.0->azure-ai-ml==1.8.0) (1.59.1)\n",
      "Requirement already satisfied: protobuf!=3.20.0,!=3.20.1,!=4.21.0,!=4.21.1,!=4.21.2,!=4.21.3,!=4.21.4,!=4.21.5,<5.0.0.dev0,>=3.19.5 in d:\\workspace\\azureml-examples\\.venv\\lib\\site-packages (from google-api-core<3.0.0,>=1.0.0->opencensus<1.0.0,>=0.11.2->opencensus-ext-azure<2.0.0->azure-ai-ml==1.8.0) (4.23.3)\n",
      "Requirement already satisfied: google-auth<3.0.dev0,>=2.14.1 in d:\\workspace\\azureml-examples\\.venv\\lib\\site-packages (from google-api-core<3.0.0,>=1.0.0->opencensus<1.0.0,>=0.11.2->opencensus-ext-azure<2.0.0->azure-ai-ml==1.8.0) (2.21.0)\n",
      "Requirement already satisfied: portalocker<3,>=1.6 in d:\\workspace\\azureml-examples\\.venv\\lib\\site-packages (from msal-extensions<2.0.0,>=0.3.0->azure-identity<2.0.0,>=1.5.0->opencensus-ext-azure<2.0.0->azure-ai-ml==1.8.0) (2.7.0)\n",
      "Requirement already satisfied: cachetools<6.0,>=2.0.0 in d:\\workspace\\azureml-examples\\.venv\\lib\\site-packages (from google-auth<3.0.dev0,>=2.14.1->google-api-core<3.0.0,>=1.0.0->opencensus<1.0.0,>=0.11.2->opencensus-ext-azure<2.0.0->azure-ai-ml==1.8.0) (5.3.1)\n",
      "Requirement already satisfied: pyasn1-modules>=0.2.1 in d:\\workspace\\azureml-examples\\.venv\\lib\\site-packages (from google-auth<3.0.dev0,>=2.14.1->google-api-core<3.0.0,>=1.0.0->opencensus<1.0.0,>=0.11.2->opencensus-ext-azure<2.0.0->azure-ai-ml==1.8.0) (0.3.0)\n",
      "Requirement already satisfied: rsa<5,>=3.1.4 in d:\\workspace\\azureml-examples\\.venv\\lib\\site-packages (from google-auth<3.0.dev0,>=2.14.1->google-api-core<3.0.0,>=1.0.0->opencensus<1.0.0,>=0.11.2->opencensus-ext-azure<2.0.0->azure-ai-ml==1.8.0) (4.9)\n",
      "Requirement already satisfied: pywin32>=226 in d:\\workspace\\azureml-examples\\.venv\\lib\\site-packages (from portalocker<3,>=1.6->msal-extensions<2.0.0,>=0.3.0->azure-identity<2.0.0,>=1.5.0->opencensus-ext-azure<2.0.0->azure-ai-ml==1.8.0) (306)\n",
      "Requirement already satisfied: pyasn1<0.6.0,>=0.4.6 in d:\\workspace\\azureml-examples\\.venv\\lib\\site-packages (from pyasn1-modules>=0.2.1->google-auth<3.0.dev0,>=2.14.1->google-api-core<3.0.0,>=1.0.0->opencensus<1.0.0,>=0.11.2->opencensus-ext-azure<2.0.0->azure-ai-ml==1.8.0) (0.5.0)\n",
      "Requirement already satisfied: azure-mgmt-msi==7.0.0 in d:\\workspace\\azureml-examples\\.venv\\lib\\site-packages (7.0.0)Note: you may need to restart the kernel to use updated packages.\n",
      "\n",
      "Requirement already satisfied: msrest>=0.7.1 in d:\\workspace\\azureml-examples\\.venv\\lib\\site-packages (from azure-mgmt-msi==7.0.0) (0.7.1)\n",
      "Requirement already satisfied: azure-common~=1.1 in d:\\workspace\\azureml-examples\\.venv\\lib\\site-packages (from azure-mgmt-msi==7.0.0) (1.1.28)\n",
      "Requirement already satisfied: azure-mgmt-core<2.0.0,>=1.3.2 in d:\\workspace\\azureml-examples\\.venv\\lib\\site-packages (from azure-mgmt-msi==7.0.0) (1.4.0)\n",
      "Requirement already satisfied: azure-core<2.0.0,>=1.26.2 in d:\\workspace\\azureml-examples\\.venv\\lib\\site-packages (from azure-mgmt-core<2.0.0,>=1.3.2->azure-mgmt-msi==7.0.0) (1.27.1)\n",
      "Requirement already satisfied: certifi>=2017.4.17 in d:\\workspace\\azureml-examples\\.venv\\lib\\site-packages (from msrest>=0.7.1->azure-mgmt-msi==7.0.0) (2023.5.7)\n",
      "Requirement already satisfied: isodate>=0.6.0 in d:\\workspace\\azureml-examples\\.venv\\lib\\site-packages (from msrest>=0.7.1->azure-mgmt-msi==7.0.0) (0.6.1)\n",
      "Requirement already satisfied: requests-oauthlib>=0.5.0 in d:\\workspace\\azureml-examples\\.venv\\lib\\site-packages (from msrest>=0.7.1->azure-mgmt-msi==7.0.0) (1.3.1)\n",
      "Requirement already satisfied: requests~=2.16 in d:\\workspace\\azureml-examples\\.venv\\lib\\site-packages (from msrest>=0.7.1->azure-mgmt-msi==7.0.0) (2.31.0)\n",
      "Requirement already satisfied: six>=1.11.0 in d:\\workspace\\azureml-examples\\.venv\\lib\\site-packages (from azure-core<2.0.0,>=1.26.2->azure-mgmt-core<2.0.0,>=1.3.2->azure-mgmt-msi==7.0.0) (1.16.0)\n",
      "Requirement already satisfied: typing-extensions>=4.3.0 in d:\\workspace\\azureml-examples\\.venv\\lib\\site-packages (from azure-core<2.0.0,>=1.26.2->azure-mgmt-core<2.0.0,>=1.3.2->azure-mgmt-msi==7.0.0) (4.7.1)\n",
      "Requirement already satisfied: charset-normalizer<4,>=2 in d:\\workspace\\azureml-examples\\.venv\\lib\\site-packages (from requests~=2.16->msrest>=0.7.1->azure-mgmt-msi==7.0.0) (3.1.0)\n",
      "Requirement already satisfied: idna<4,>=2.5 in d:\\workspace\\azureml-examples\\.venv\\lib\\site-packages (from requests~=2.16->msrest>=0.7.1->azure-mgmt-msi==7.0.0) (3.4)\n",
      "Requirement already satisfied: urllib3<3,>=1.21.1 in d:\\workspace\\azureml-examples\\.venv\\lib\\site-packages (from requests~=2.16->msrest>=0.7.1->azure-mgmt-msi==7.0.0) (1.26.16)\n",
      "Requirement already satisfied: oauthlib>=3.0.0 in d:\\workspace\\azureml-examples\\.venv\\lib\\site-packages (from requests-oauthlib>=0.5.0->msrest>=0.7.1->azure-mgmt-msi==7.0.0) (3.2.2)\n",
      "Requirement already satisfied: azure-mgmt-authorization==3.0.0 in d:\\workspace\\azureml-examples\\.venv\\lib\\site-packages (3.0.0)Note: you may need to restart the kernel to use updated packages.\n",
      "\n",
      "Requirement already satisfied: msrest>=0.7.1 in d:\\workspace\\azureml-examples\\.venv\\lib\\site-packages (from azure-mgmt-authorization==3.0.0) (0.7.1)\n",
      "Requirement already satisfied: azure-common~=1.1 in d:\\workspace\\azureml-examples\\.venv\\lib\\site-packages (from azure-mgmt-authorization==3.0.0) (1.1.28)\n",
      "Requirement already satisfied: azure-mgmt-core<2.0.0,>=1.3.2 in d:\\workspace\\azureml-examples\\.venv\\lib\\site-packages (from azure-mgmt-authorization==3.0.0) (1.4.0)\n",
      "Requirement already satisfied: azure-core<2.0.0,>=1.26.2 in d:\\workspace\\azureml-examples\\.venv\\lib\\site-packages (from azure-mgmt-core<2.0.0,>=1.3.2->azure-mgmt-authorization==3.0.0) (1.27.1)\n",
      "Requirement already satisfied: certifi>=2017.4.17 in d:\\workspace\\azureml-examples\\.venv\\lib\\site-packages (from msrest>=0.7.1->azure-mgmt-authorization==3.0.0) (2023.5.7)\n",
      "Requirement already satisfied: isodate>=0.6.0 in d:\\workspace\\azureml-examples\\.venv\\lib\\site-packages (from msrest>=0.7.1->azure-mgmt-authorization==3.0.0) (0.6.1)\n",
      "Requirement already satisfied: requests-oauthlib>=0.5.0 in d:\\workspace\\azureml-examples\\.venv\\lib\\site-packages (from msrest>=0.7.1->azure-mgmt-authorization==3.0.0) (1.3.1)\n",
      "Requirement already satisfied: requests~=2.16 in d:\\workspace\\azureml-examples\\.venv\\lib\\site-packages (from msrest>=0.7.1->azure-mgmt-authorization==3.0.0) (2.31.0)\n",
      "Requirement already satisfied: six>=1.11.0 in d:\\workspace\\azureml-examples\\.venv\\lib\\site-packages (from azure-core<2.0.0,>=1.26.2->azure-mgmt-core<2.0.0,>=1.3.2->azure-mgmt-authorization==3.0.0) (1.16.0)\n",
      "Requirement already satisfied: typing-extensions>=4.3.0 in d:\\workspace\\azureml-examples\\.venv\\lib\\site-packages (from azure-core<2.0.0,>=1.26.2->azure-mgmt-core<2.0.0,>=1.3.2->azure-mgmt-authorization==3.0.0) (4.7.1)\n",
      "Requirement already satisfied: charset-normalizer<4,>=2 in d:\\workspace\\azureml-examples\\.venv\\lib\\site-packages (from requests~=2.16->msrest>=0.7.1->azure-mgmt-authorization==3.0.0) (3.1.0)\n",
      "Requirement already satisfied: idna<4,>=2.5 in d:\\workspace\\azureml-examples\\.venv\\lib\\site-packages (from requests~=2.16->msrest>=0.7.1->azure-mgmt-authorization==3.0.0) (3.4)\n",
      "Requirement already satisfied: urllib3<3,>=1.21.1 in d:\\workspace\\azureml-examples\\.venv\\lib\\site-packages (from requests~=2.16->msrest>=0.7.1->azure-mgmt-authorization==3.0.0) (1.26.16)\n",
      "Requirement already satisfied: oauthlib>=3.0.0 in d:\\workspace\\azureml-examples\\.venv\\lib\\site-packages (from requests-oauthlib>=0.5.0->msrest>=0.7.1->azure-mgmt-authorization==3.0.0) (3.2.2)\n"
     ]
    }
   ],
   "source": [
    "%pip install azure-identity==1.13.0\n",
    "%pip install azure-mgmt-cognitiveservices==13.4.0\n",
    "%pip install azure-ai-ml==1.8.0\n",
    "%pip install azure-mgmt-msi==7.0.0\n",
    "%pip install azure-mgmt-authorization==3.0.0"
   ]
  },
  {
   "cell_type": "markdown",
   "metadata": {},
   "source": [
    "#### 1.3 Assign variables for the workspace and deployment"
   ]
  },
  {
   "cell_type": "code",
   "execution_count": 23,
   "metadata": {},
   "outputs": [],
   "source": [
    "# NOTE: Update following workspace information to contain\n",
    "#       your subscription ID, resource group name, and workspace name\n",
    "subscription_id = \"<SUBSCRIPTION_ID>\"\n",
    "resource_group = \"<RESOURCE_GROUP>\"\n",
    "workspace_name = \"<AML_WORKSPACE_NAME>\""
   ]
  },
  {
   "cell_type": "markdown",
   "metadata": {},
   "source": [
    "#### 1.4 Decide on a name for your Content Safety enabled LLaMA online endpoint"
   ]
  },
  {
   "cell_type": "code",
   "execution_count": 24,
   "metadata": {},
   "outputs": [
    {
     "name": "stdout",
     "output_type": "stream",
     "text": [
      "going to create the following resources:\n",
      "-  Azure AI Content Safety resource: safetyllama6004-aacs\n",
      "-  User Assigned Identity: safetyllama6004-uai\n",
      "-  Azure AI Content Safety enabled LLaMA online endpoint: safetyllama6004\n"
     ]
    }
   ],
   "source": [
    "import random\n",
    "\n",
    "rand = random.randint(0, 10000)\n",
    "\n",
    "endpoint_name = (\n",
    "    f\"safetyllama{rand}\"  # the final endpoint name of the safety enabled llama endpoint\n",
    ")\n",
    "\n",
    "# with the given name, there will be 4 resources created in the resource group of your AML workspace:\n",
    "# 1. an Azure AI Content Safety resource: {endpoint_name}-aacs\n",
    "# 2. [UAI approach]a UAI(User Assigned Identity): {endpoint_name}-uai\n",
    "# 3. an Azure AI Content Safety enabled LLaMA online endpoint, which you will be using it to do your AI work: {endpoint_name}\n",
    "aacs_name = f\"{endpoint_name}-aacs\"\n",
    "uai_name = f\"{endpoint_name}-uai\"\n",
    "print(f\"going to create the following resources:\")\n",
    "print(f\"-  Azure AI Content Safety resource: {aacs_name}\")\n",
    "if aacs_authentication_mode == \"UAI\":\n",
    "    print(f\"-  User Assigned Identity: {uai_name}\")\n",
    "print(f\"-  Azure AI Content Safety enabled LLaMA online endpoint: {endpoint_name}\")\n",
    "\n",
    "if len(endpoint_name) > 32:\n",
    "    raise Exception(\n",
    "        f\"the endpoint name {endpoint_name} is too long, please see: https://learn.microsoft.com/en-us/azure/machine-learning/how-to-manage-quotas?view=azureml-api-2#azure-machine-learning-managed-online-endpoints\"\n",
    "    )"
   ]
  },
  {
   "cell_type": "markdown",
   "metadata": {},
   "source": [
    "### 2. Connect to your AML Workspace"
   ]
  },
  {
   "cell_type": "code",
   "execution_count": 25,
   "metadata": {},
   "outputs": [
    {
     "name": "stderr",
     "output_type": "stream",
     "text": [
      "Found the config file in: D:\\Workspace\\.azureml\\config.json\n"
     ]
    },
    {
     "name": "stdout",
     "output_type": "stream",
     "text": [
      "Connected to workspace /subscriptions/c830bb7a-83f5-45e3-81fc-3c2053e7d16f/resourceGroups/bowgong-test/providers/Microsoft.MachineLearningServices/workspaces/bowgong-aml-test\n",
      "Workspace location is eastus2\n"
     ]
    }
   ],
   "source": [
    "import os, json\n",
    "from azure.ai.ml import MLClient\n",
    "from azure.identity import DefaultAzureCredential, InteractiveBrowserCredential\n",
    "\n",
    "try:\n",
    "    credential = DefaultAzureCredential()\n",
    "    # Check if given credential can get token successfully.\n",
    "    credential.get_token(\"https://management.azure.com/.default\")\n",
    "except Exception as ex:\n",
    "    # Fall back to InteractiveBrowserCredential in case DefaultAzureCredential not work\n",
    "    credential = InteractiveBrowserCredential()\n",
    "\n",
    "try:\n",
    "    ml_client = MLClient.from_config(credential=credential)\n",
    "except Exception as ex:\n",
    "    client_config = {\n",
    "        \"subscription_id\": subscription_id,\n",
    "        \"resource_group\": resource_group,\n",
    "        \"workspace_name\": workspace_name,\n",
    "    }\n",
    "    # write and reload from config file\n",
    "    config_path = \"./config.json\"\n",
    "    os.makedirs(os.path.dirname(config_path), exist_ok=True)\n",
    "    with open(config_path, \"w\") as fo:\n",
    "        fo.write(json.dumps(client_config))\n",
    "    ml_client = MLClient.from_config(credential=credential, path=config_path)\n",
    "\n",
    "workspace_location = ml_client.workspaces.get(ml_client.workspace_name).location\n",
    "workspace_resource_id = ml_client.workspaces.get(ml_client.workspace_name).id\n",
    "subscription_id = ml_client.subscription_id\n",
    "resource_group_name = ml_client.resource_group_name\n",
    "workspace_name = ml_client.workspace_name\n",
    "print(f\"Connected to workspace {workspace_resource_id}\")\n",
    "print(f\"Workspace location is {workspace_location}\")"
   ]
  },
  {
   "cell_type": "markdown",
   "metadata": {},
   "source": [
    "### 3. Create Azure AI Content Safety"
   ]
  },
  {
   "cell_type": "markdown",
   "metadata": {},
   "source": [
    "#### 3.1 Choose a region for your Azure AI Content Safety resource\n",
    "__NOTE__: before you choose the region to deploy the Azure AI Content Safety, please aware of that your data will be transferred to the region you choose and by selecting a region outside your current location, you may be allowing the transmission of your data to regions outside your jurisdiction. It is important to note that data protection and privacy laws may vary between jurisdictions. Before proceeding, we strongly advise you to familiarize yourself with the local laws and regulations governing data transfer and ensure that you are legally permitted to transmit your data to an overseas location for processing. By continuing with the selection of a different region, you acknowledge that you have understood and accepted any potential risks associated with such data transmission. Please proceed with caution."
   ]
  },
  {
   "cell_type": "markdown",
   "metadata": {},
   "source": [
    "##### 3.1.1 List SKUs for Azure AI Content Safety"
   ]
  },
  {
   "cell_type": "code",
   "execution_count": 26,
   "metadata": {},
   "outputs": [
    {
     "name": "stdout",
     "output_type": "stream",
     "text": [
      "Available SKUs:\n",
      "SKU Name\tSKU Tier\tLocations\n",
      "F0\tFree\tCENTRALUSEUAP\n",
      "F0\tFree\tEASTUS\n",
      "F0\tFree\tWESTEUROPE\n",
      "S0\tStandard\tCENTRALUSEUAP\n",
      "S0\tStandard\tEASTUS\n",
      "S0\tStandard\tWESTEUROPE\n"
     ]
    }
   ],
   "source": [
    "from azure.mgmt.cognitiveservices import CognitiveServicesManagementClient\n",
    "from azure.identity import DefaultAzureCredential, InteractiveBrowserCredential\n",
    "\n",
    "try:\n",
    "    credential = DefaultAzureCredential()\n",
    "    # Check if given credential can get token successfully.\n",
    "    credential.get_token(\"https://management.azure.com/.default\")\n",
    "except Exception as ex:\n",
    "    # Fall back to InteractiveBrowserCredential in case DefaultAzureCredential not work\n",
    "    credential = InteractiveBrowserCredential()\n",
    "\n",
    "client = CognitiveServicesManagementClient(credential, subscription_id)\n",
    "print(\"Available SKUs:\")\n",
    "skus = client.resource_skus.list()\n",
    "print(\"SKU Name\\tSKU Tier\\tLocations\")\n",
    "for sku in skus:\n",
    "    if sku.kind == \"ContentSafety\":\n",
    "        locations = \",\".join(sku.locations)\n",
    "        print(sku.name + \"\\t\" + sku.tier + \"\\t\" + locations)"
   ]
  },
  {
   "cell_type": "markdown",
   "metadata": {},
   "source": [
    "##### 3.1.2 Choose a region and SKU for your Azure AI Content Safety resource"
   ]
  },
  {
   "cell_type": "code",
   "execution_count": 27,
   "metadata": {},
   "outputs": [
    {
     "name": "stdout",
     "output_type": "stream",
     "text": [
      "will create AACS resource in eastus with sku S0\n"
     ]
    }
   ],
   "source": [
    "aacs_location = \"eastus\"  # \"<AACS-Location>\"\n",
    "aacs_sku = \"S0\"  # \"<AACS-SKU>\"\n",
    "\n",
    "print(f\"will create AACS resource in {aacs_location} with sku {aacs_sku}\")"
   ]
  },
  {
   "cell_type": "markdown",
   "metadata": {},
   "source": [
    "#### 3.2 Create Azure AI Content Safety resource"
   ]
  },
  {
   "cell_type": "code",
   "execution_count": 28,
   "metadata": {},
   "outputs": [
    {
     "name": "stdout",
     "output_type": "stream",
     "text": [
      "Resource created.\n",
      "AACS endpoint is https://safetyllama6004-aacs.cognitiveservices.azure.com/\n",
      "AACS ResourceId is /subscriptions/c830bb7a-83f5-45e3-81fc-3c2053e7d16f/resourceGroups/bowgong-test/providers/Microsoft.CognitiveServices/accounts/safetyllama6004-aacs\n"
     ]
    }
   ],
   "source": [
    "from azure.mgmt.cognitiveservices import CognitiveServicesManagementClient\n",
    "from azure.mgmt.cognitiveservices.models import Account, Sku, AccountProperties\n",
    "from azure.identity import DefaultAzureCredential, InteractiveBrowserCredential\n",
    "import time\n",
    "\n",
    "try:\n",
    "    credential = DefaultAzureCredential()\n",
    "    # Check if given credential can get token successfully.\n",
    "    credential.get_token(\"https://management.azure.com/.default\")\n",
    "except Exception as ex:\n",
    "    # Fall back to InteractiveBrowserCredential in case DefaultAzureCredential not work\n",
    "    credential = InteractiveBrowserCredential()\n",
    "\n",
    "client = CognitiveServicesManagementClient(credential, subscription_id)\n",
    "client.resource_skus.list()\n",
    "\n",
    "# create a new Cognitive Services Account\n",
    "kind = \"ContentSafety\"\n",
    "parameters = Account(\n",
    "    sku=Sku(name=aacs_sku),\n",
    "    kind=kind,\n",
    "    location=aacs_location,\n",
    "    properties=AccountProperties(\n",
    "        custom_sub_domain_name=aacs_name, public_network_access=\"Enabled\"\n",
    "    ),\n",
    ")\n",
    "# How many seconds to wait between checking the status of an async operation.\n",
    "wait_time = 10\n",
    "\n",
    "poller = client.accounts.begin_create(resource_group_name, aacs_name, parameters)\n",
    "while not poller.done():\n",
    "    print(\n",
    "        \"Waiting {wait_time} seconds for operation to finish.\".format(\n",
    "            wait_time=wait_time\n",
    "        )\n",
    "    )\n",
    "    time.sleep(wait_time)\n",
    "    # This will raise an exception if the server responded with an error.\n",
    "    result = poller.result()\n",
    "\n",
    "print(\"Resource created.\")\n",
    "\n",
    "aacs = client.accounts.get(resource_group_name, aacs_name)\n",
    "aacs_endpoint = aacs.properties.endpoint\n",
    "aacs_resource_id = aacs.id\n",
    "print(f\"AACS endpoint is {aacs_endpoint}\")\n",
    "print(f\"AACS ResourceId is {aacs_resource_id}\")\n",
    "\n",
    "aacs_access_key = client.accounts.list_keys(\n",
    "    resource_group_name=resource_group_name, account_name=aacs_name\n",
    ").key1"
   ]
  },
  {
   "cell_type": "markdown",
   "metadata": {},
   "source": [
    "### 4. [Reqiured for UAI approach] Create a Managed Identity for the Azure AI Content Safety enabled LLaMA endpoint\n",
    "\n",
    "If you want to use the __EnvVar__ approach, you can skip this step and just get started from step 5."
   ]
  },
  {
   "cell_type": "markdown",
   "metadata": {},
   "source": [
    "#### 4.1 Create a Managed Identity for the Azure AI Content Safety enabled LLaMA endpoint\n",
    "NOTE: Azure Content Safey is support AAD token based authentication by default, which means we need to create a new UAI for the Azure AI Content Safety enabled LLaMA endpoint, so that it can access the Azure AI Content Safety using AAD token."
   ]
  },
  {
   "cell_type": "markdown",
   "metadata": {},
   "source": [
    "##### 4.1.1 Get a handle to the ManagedServiceIdentityClient"
   ]
  },
  {
   "cell_type": "code",
   "execution_count": 29,
   "metadata": {},
   "outputs": [],
   "source": [
    "if aacs_authentication_mode == \"UAI\":\n",
    "    from azure.mgmt.msi import ManagedServiceIdentityClient\n",
    "    from azure.mgmt.msi.models import Identity\n",
    "\n",
    "    msi_client = ManagedServiceIdentityClient(\n",
    "        subscription_id=subscription_id,\n",
    "        credential=credential,\n",
    "    )"
   ]
  },
  {
   "cell_type": "markdown",
   "metadata": {},
   "source": [
    "##### 4.1.2 Create the User Assigned Identity:"
   ]
  },
  {
   "cell_type": "code",
   "execution_count": 30,
   "metadata": {},
   "outputs": [
    {
     "name": "stdout",
     "output_type": "stream",
     "text": [
      "Will create UAI(User Assigned Identity) safetyllama6004-uai for the Azure AI Content Safety enabled LLaMA endpoint.\n"
     ]
    }
   ],
   "source": [
    "if aacs_authentication_mode == \"UAI\":\n",
    "    uai_name = f\"{endpoint_name}-uai\"\n",
    "    print(\n",
    "        f\"Will create UAI(User Assigned Identity) {uai_name} for the Azure AI Content Safety enabled LLaMA endpoint.\"\n",
    "    )\n",
    "\n",
    "    msi_client.user_assigned_identities.create_or_update(\n",
    "        resource_group_name=resource_group_name,\n",
    "        resource_name=uai_name,\n",
    "        parameters=Identity(location=workspace_location),\n",
    "    )"
   ]
  },
  {
   "cell_type": "markdown",
   "metadata": {},
   "source": [
    "##### 4.1.3 Retrieve the identity object\n",
    "we need to retrieve the identity object so that we can use it to deploy the Azure AI Content Safety enabled LLaMA online endpoint."
   ]
  },
  {
   "cell_type": "code",
   "execution_count": 31,
   "metadata": {},
   "outputs": [
    {
     "name": "stdout",
     "output_type": "stream",
     "text": [
      "UAI principal id: ea056eb2-2e5d-42bd-8e26-fbe4f2559559\n",
      "UAI client id: 1d6a7144-47ac-44ce-84ea-6703d0dd4abe\n",
      "UAI id: /subscriptions/c830bb7a-83f5-45e3-81fc-3c2053e7d16f/resourcegroups/bowgong-test/providers/Microsoft.ManagedIdentity/userAssignedIdentities/safetyllama6004-uai\n"
     ]
    }
   ],
   "source": [
    "if aacs_authentication_mode == \"UAI\":\n",
    "    uai_identity = msi_client.user_assigned_identities.get(\n",
    "        resource_group_name=resource_group_name,\n",
    "        resource_name=uai_name,\n",
    "    )\n",
    "    uai_principal_id = uai_identity.principal_id\n",
    "    uai_client_id = uai_identity.client_id\n",
    "    uai_id = uai_identity.id\n",
    "    print(f\"UAI principal id: {uai_principal_id}\")\n",
    "    print(f\"UAI client id: {uai_client_id}\")\n",
    "    print(f\"UAI id: {uai_id}\")"
   ]
  },
  {
   "cell_type": "markdown",
   "metadata": {},
   "source": [
    "#### 4.2 Grant appropriate roles to the UAI we created above.\n",
    "Note: In order to successfully run scripts in current step, your must have owner permission on the AACS resource and the LLaMA endpoint, which we created in the previous steps."
   ]
  },
  {
   "cell_type": "markdown",
   "metadata": {},
   "source": [
    "##### 4.2.1 Get an AuthorizationManagementClient to list Role Definitions"
   ]
  },
  {
   "cell_type": "code",
   "execution_count": 32,
   "metadata": {},
   "outputs": [],
   "source": [
    "if aacs_authentication_mode == \"UAI\":\n",
    "    from azure.mgmt.authorization import AuthorizationManagementClient\n",
    "    from azure.mgmt.authorization.v2022_04_01.models import (\n",
    "        RoleAssignmentCreateParameters,\n",
    "    )\n",
    "    import uuid\n",
    "\n",
    "    role_definition_client = AuthorizationManagementClient(\n",
    "        credential=credential,\n",
    "        subscription_id=subscription_id,\n",
    "        api_version=\"2022-04-01\",\n",
    "    )\n",
    "    role_assignment_client = AuthorizationManagementClient(\n",
    "        credential=credential,\n",
    "        subscription_id=subscription_id,\n",
    "        api_version=\"2022-04-01\",\n",
    "    )\n",
    "\n",
    "    uai_role_check_list = {\n",
    "        \"Cognitive Services User\": {\n",
    "            \"step\": \"4.2.2\",\n",
    "            \"description\": \"assigne the role Cognitive Services User to the UAI on the Azure AI Content Safety resource.\",\n",
    "        },\n",
    "        \"AcrPull\": {\n",
    "            \"step\": \"4.2.3\",\n",
    "            \"description\": \"assigne the role AcrPull to the UAI on the Azure Container Registry.\",\n",
    "        },\n",
    "        \"Storage Blob Data Reader\": {\n",
    "            \"step\": \"4.2.4\",\n",
    "            \"description\": \"assigne the role Storage Blob Data Reader to the UAI on the Azure Storage account.\",\n",
    "        },\n",
    "    }"
   ]
  },
  {
   "cell_type": "markdown",
   "metadata": {},
   "source": [
    "##### 4.2.2 Grant the user identity access to the Azure Content Safety resource\n",
    "Cognitive Services User role is required to access the Azure Content Safety resource."
   ]
  },
  {
   "cell_type": "code",
   "execution_count": 33,
   "metadata": {},
   "outputs": [
    {
     "name": "stdout",
     "output_type": "stream",
     "text": [
      "Role assignment for Cognitive Services User at the Azure AI Content Safety resource level completed.\n"
     ]
    }
   ],
   "source": [
    "if aacs_authentication_mode == \"UAI\":\n",
    "    role_name = \"Cognitive Services User\"  # minimum role required for accessing AACS\n",
    "    scope = aacs_resource_id\n",
    "\n",
    "    role_defs = role_definition_client.role_definitions.list(scope=scope)\n",
    "    role_def = next((r for r in role_defs if r.role_name == role_name))\n",
    "\n",
    "    from azure.core.exceptions import ResourceExistsError\n",
    "\n",
    "    try:\n",
    "        role_assignment_client.role_assignments.create(\n",
    "            scope=scope,\n",
    "            role_assignment_name=str(uuid.uuid4()),\n",
    "            parameters=RoleAssignmentCreateParameters(\n",
    "                role_definition_id=role_def.id,\n",
    "                principal_id=uai_principal_id,\n",
    "                principal_type=\"ServicePrincipal\",\n",
    "            ),\n",
    "        )\n",
    "    except ResourceExistsError as ex:\n",
    "        pass\n",
    "    except Exception as ex:\n",
    "        print(ex)\n",
    "        raise ex\n",
    "\n",
    "    if role_name in uai_role_check_list:\n",
    "        del uai_role_check_list[role_name]\n",
    "    print(\n",
    "        f\"Role assignment for {role_name} at the Azure AI Content Safety resource level completed.\"\n",
    "    )"
   ]
  },
  {
   "cell_type": "markdown",
   "metadata": {},
   "source": [
    "##### 4.2.3 Assign AcrPull at the workspace container registry scope\n",
    "Since we will create the content safety enabled LlaMa endpoint with User Assigned Identity, the user managed identity must have Storage Blob Data Reader permission on the storage account for the workspace, and AcrPull permission on the Azure Container Registry (ACR) for the workspace. Make sure your User Assigned Identity has the right permission."
   ]
  },
  {
   "cell_type": "code",
   "execution_count": 34,
   "metadata": {},
   "outputs": [
    {
     "name": "stdout",
     "output_type": "stream",
     "text": [
      "Role assignment for AcrPull at the workspace container registry completed.\n"
     ]
    }
   ],
   "source": [
    "if aacs_authentication_mode == \"UAI\":\n",
    "    workspace = ml_client.workspaces.get(workspace_name)\n",
    "    container_registry = workspace.container_registry\n",
    "\n",
    "    role_name = \"AcrPull\"\n",
    "\n",
    "    role_defs = role_definition_client.role_definitions.list(scope=container_registry)\n",
    "    role_def = next((r for r in role_defs if r.role_name == role_name))\n",
    "\n",
    "    from azure.core.exceptions import ResourceExistsError\n",
    "\n",
    "    try:\n",
    "        role_assignment_client.role_assignments.create(\n",
    "            scope=container_registry,\n",
    "            role_assignment_name=str(uuid.uuid4()),\n",
    "            parameters=RoleAssignmentCreateParameters(\n",
    "                role_definition_id=role_def.id,\n",
    "                principal_id=uai_principal_id,\n",
    "                principal_type=\"ServicePrincipal\",\n",
    "            ),\n",
    "        )\n",
    "    except ResourceExistsError as ex:\n",
    "        pass\n",
    "    except Exception as ex:\n",
    "        print(ex)\n",
    "        raise ex\n",
    "\n",
    "    if role_name in uai_role_check_list:\n",
    "        del uai_role_check_list[role_name]\n",
    "    print(\"Role assignment for AcrPull at the workspace container registry completed.\")"
   ]
  },
  {
   "cell_type": "markdown",
   "metadata": {},
   "source": [
    "##### 4.2.4 Assign Storage Blob Data Reader at the workspace storage account scope"
   ]
  },
  {
   "cell_type": "code",
   "execution_count": 35,
   "metadata": {},
   "outputs": [
    {
     "name": "stdout",
     "output_type": "stream",
     "text": [
      "Role assignment for `Storage Blob Data Reader` at the workspace storage account completed.\n"
     ]
    }
   ],
   "source": [
    "if aacs_authentication_mode == \"UAI\":\n",
    "    role_name = \"Storage Blob Data Reader\"\n",
    "    blob_scope = workspace.storage_account\n",
    "\n",
    "    role_defs = role_definition_client.role_definitions.list(scope=blob_scope)\n",
    "    role_def = next((r for r in role_defs if r.role_name == role_name))\n",
    "\n",
    "    from azure.core.exceptions import ResourceExistsError\n",
    "\n",
    "    try:\n",
    "        role_assignment_client.role_assignments.create(\n",
    "            scope=blob_scope,\n",
    "            role_assignment_name=str(uuid.uuid4()),\n",
    "            parameters=RoleAssignmentCreateParameters(\n",
    "                role_definition_id=role_def.id,\n",
    "                principal_id=uai_principal_id,\n",
    "                principal_type=\"ServicePrincipal\",\n",
    "            ),\n",
    "        )\n",
    "    except ResourceExistsError as ex:\n",
    "        pass\n",
    "    except Exception as ex:\n",
    "        print(ex)\n",
    "        raise ex\n",
    "\n",
    "    if role_name in uai_role_check_list:\n",
    "        del uai_role_check_list[role_name]\n",
    "    print(\n",
    "        \"Role assignment for `Storage Blob Data Reader` at the workspace storage account completed.\"\n",
    "    )"
   ]
  },
  {
   "cell_type": "markdown",
   "metadata": {},
   "source": [
    "### 5. Create Content Safety enabled LLaMA online endpoint"
   ]
  },
  {
   "cell_type": "markdown",
   "metadata": {},
   "source": [
    "#### 5.1 Decide on SKU and instance count for the Content Safety enabled LLaMA online endpoint.\n",
    "TODO: Add more details about SKU and instance count recommandation."
   ]
  },
  {
   "cell_type": "code",
   "execution_count": 36,
   "metadata": {},
   "outputs": [
    {
     "name": "stdout",
     "output_type": "stream",
     "text": [
      "Will create LLaMA endpoint safetyllama6004 using 1 Standard_DS5_v2 compute instance(s)\n"
     ]
    }
   ],
   "source": [
    "compute_sku_for_llama = \"Standard_DS5_v2\"\n",
    "compute_instance_count_for_llama = 1\n",
    "\n",
    "safety_llama_auth_mode = \"key\"  # currently, \"key\" and \"aml_token\" are supported\n",
    "print(\n",
    "    f\"Will create LLaMA endpoint {endpoint_name} using {compute_instance_count_for_llama} {compute_sku_for_llama} compute instance(s)\"\n",
    ")"
   ]
  },
  {
   "cell_type": "markdown",
   "metadata": {},
   "source": [
    "#### 5.2 Create the Safety-Enabled LLaMA Online Endpoint\n",
    "This step may take a few minutes."
   ]
  },
  {
   "cell_type": "markdown",
   "metadata": {},
   "source": [
    "__Before we proceed to the next step, let's make sure we didn't miss anything in the previous steps, please execute the following script to check on that:__"
   ]
  },
  {
   "cell_type": "code",
   "execution_count": 37,
   "metadata": {},
   "outputs": [
    {
     "name": "stdout",
     "output_type": "stream",
     "text": [
      "You selected UAI to deploy the Azure AI Content Safety Enabled LLaMA online endpoint, checking if the UAI has the required roles assigned...\n",
      "All steps are completed, proceeding to create the Azure AI Content Safety Enabled LLaMA online endpoint...\n"
     ]
    }
   ],
   "source": [
    "# Check everything is properly done before creating the Azure AI Content Safety Enabled LLaMA online endpoint\n",
    "missing_steps = []\n",
    "if aacs_authentication_mode == \"UAI\":\n",
    "    print(\n",
    "        \"You selected UAI to deploy the Azure AI Content Safety Enabled LLaMA online endpoint, checking if the UAI has the required roles assigned...\"\n",
    "    )\n",
    "    if uai_role_check_list:\n",
    "        for key, value in uai_role_check_list.items():\n",
    "            missing_steps.append(\n",
    "                f'Please go to step {value[\"step\"]} to {value[\"description\"]}'\n",
    "            )\n",
    "\n",
    "if missing_steps:\n",
    "    print(\"Seems you missed some step above.\")\n",
    "    steps = \"\\n\".join(missing_steps)\n",
    "    raise Exception(f\"Please complete the missing steps before proceeding:\\n{steps}\")\n",
    "else:\n",
    "    print(\n",
    "        \"All steps are completed, proceeding to create the Azure AI Content Safety Enabled LLaMA online endpoint...\"\n",
    "    )"
   ]
  },
  {
   "cell_type": "markdown",
   "metadata": {},
   "source": [
    "#### 5.3 Check the latest version of LLaMA model"
   ]
  },
  {
   "cell_type": "code",
   "execution_count": 40,
   "metadata": {},
   "outputs": [
    {
     "name": "stdout",
     "output_type": "stream",
     "text": [
      "Using model name: gpt2, version: 7, id: azureml://registries/azureml/models/gpt2/versions/7 for inferencing\n"
     ]
    }
   ],
   "source": [
    "available_llama_models_pre_trained = [\"Llama-2-7b\", \"Llama-2-13b\"]\n",
    "available_llama_models_fine_tuned = [\"Llama-2-7b-chat\", \"Llama-2-13b-chat\"]\n",
    "\n",
    "model_name = \"gpt2\"  # TODO(mingtwan) change to LLaMA\n",
    "\n",
    "registry_ml_client = MLClient(credential, registry_name=\"azureml\")\n",
    "version_list = list(\n",
    "    registry_ml_client.models.list(model_name)\n",
    ")  # list available versions of the model\n",
    "foundation_model = None\n",
    "if len(version_list) == 0:\n",
    "    print(\"Model not found in registry\")\n",
    "else:\n",
    "    model_version = version_list[0].version\n",
    "    foundation_model = registry_ml_client.models.get(model_name, model_version)\n",
    "    print(\n",
    "        f\"Using model name: {foundation_model.name}, version: {foundation_model.version}, id: {foundation_model.id} for inferencing\"\n",
    "    )"
   ]
  },
  {
   "cell_type": "markdown",
   "metadata": {},
   "source": [
    "#### 5.4 Create the online endpoint"
   ]
  },
  {
   "cell_type": "code",
   "execution_count": 41,
   "metadata": {},
   "outputs": [
    {
     "name": "stdout",
     "output_type": "stream",
     "text": [
      "AACS Endpoint: https://safetyllama6004-aacs.cognitiveservices.azure.com/\n"
     ]
    },
    {
     "name": "stderr",
     "output_type": "stream",
     "text": [
      "Readonly attribute principal_id will be ignored in class <class 'azure.ai.ml._restclient.v2022_05_01.models._models_py3.ManagedServiceIdentity'>\n",
      "Readonly attribute tenant_id will be ignored in class <class 'azure.ai.ml._restclient.v2022_05_01.models._models_py3.ManagedServiceIdentity'>\n",
      "Check: endpoint safetyllama6004 exists\n"
     ]
    },
    {
     "name": "stdout",
     "output_type": "stream",
     "text": [
      "user_assigned\n",
      "[{'type': 'managed_identity', 'client_id': '1d6a7144-47ac-44ce-84ea-6703d0dd4abe', 'resource_id': '/subscriptions/c830bb7a-83f5-45e3-81fc-3c2053e7d16f/resourcegroups/bowgong-test/providers/Microsoft.ManagedIdentity/userAssignedIdentities/safetyllama6004-uai', 'principal_id': 'ea056eb2-2e5d-42bd-8e26-fbe4f2559559'}]\n"
     ]
    },
    {
     "name": "stderr",
     "output_type": "stream",
     "text": [
      "\u001b[32mUploading inferencing (0.0 MBs): 100%|##########| 3371/3371 [00:00<00:00, 3724.94it/s]\n",
      "\u001b[39m\n",
      "\n"
     ]
    },
    {
     "name": "stdout",
     "output_type": "stream",
     "text": [
      "........................................................................................................................................................................................................................................."
     ]
    },
    {
     "ename": "HttpResponseError",
     "evalue": "(None) ResourceNotReady: User container has crashed or terminated. Please see troubleshooting guide, available here: https://aka.ms/oe-tsg#error-resourcenotready\nCode: None\nMessage: ResourceNotReady: User container has crashed or terminated. Please see troubleshooting guide, available here: https://aka.ms/oe-tsg#error-resourcenotready\nException Details:\t(None) ResourceNotReady: User container has crashed or terminated. Please see troubleshooting guide, available here: https://aka.ms/oe-tsg#error-resourcenotready\n\tThe build log is available in the workspace blob store \"bowgongblobtestusw2\" under the path \"/azureml/ImageLogs/e9405294-630f-4c4c-807c-a2094b97b2cf/build.log\"\n\tCode: None\n\tMessage: ResourceNotReady: User container has crashed or terminated. Please see troubleshooting guide, available here: https://aka.ms/oe-tsg#error-resourcenotready\n\tThe build log is available in the workspace blob store \"bowgongblobtestusw2\" under the path \"/azureml/ImageLogs/e9405294-630f-4c4c-807c-a2094b97b2cf/build.log\"",
     "output_type": "error",
     "traceback": [
      "\u001b[1;31m---------------------------------------------------------------------------\u001b[0m",
      "\u001b[1;31mOperationFailed\u001b[0m                           Traceback (most recent call last)",
      "File \u001b[1;32md:\\Workspace\\azureml-examples\\.venv\\lib\\site-packages\\azure\\core\\polling\\base_polling.py:466\u001b[0m, in \u001b[0;36mLROBasePolling.run\u001b[1;34m(self)\u001b[0m\n\u001b[0;32m    465\u001b[0m \u001b[39mtry\u001b[39;00m:\n\u001b[1;32m--> 466\u001b[0m     \u001b[39mself\u001b[39;49m\u001b[39m.\u001b[39;49m_poll()\n\u001b[0;32m    468\u001b[0m \u001b[39mexcept\u001b[39;00m BadStatus \u001b[39mas\u001b[39;00m err:\n",
      "File \u001b[1;32md:\\Workspace\\azureml-examples\\.venv\\lib\\site-packages\\azure\\core\\polling\\base_polling.py:500\u001b[0m, in \u001b[0;36mLROBasePolling._poll\u001b[1;34m(self)\u001b[0m\n\u001b[0;32m    499\u001b[0m \u001b[39mif\u001b[39;00m _failed(\u001b[39mself\u001b[39m\u001b[39m.\u001b[39mstatus()):\n\u001b[1;32m--> 500\u001b[0m     \u001b[39mraise\u001b[39;00m OperationFailed(\u001b[39m\"\u001b[39m\u001b[39mOperation failed or canceled\u001b[39m\u001b[39m\"\u001b[39m)\n\u001b[0;32m    502\u001b[0m final_get_url \u001b[39m=\u001b[39m \u001b[39mself\u001b[39m\u001b[39m.\u001b[39m_operation\u001b[39m.\u001b[39mget_final_get_url(\u001b[39mself\u001b[39m\u001b[39m.\u001b[39m_pipeline_response)\n",
      "\u001b[1;31mOperationFailed\u001b[0m: Operation failed or canceled",
      "\nDuring handling of the above exception, another exception occurred:\n",
      "\u001b[1;31mHttpResponseError\u001b[0m                         Traceback (most recent call last)",
      "Cell \u001b[1;32mIn[41], line 81\u001b[0m\n\u001b[0;32m     78\u001b[0m \u001b[39mprint\u001b[39m(endpoint\u001b[39m.\u001b[39midentity\u001b[39m.\u001b[39muser_assigned_identities)\n\u001b[0;32m     80\u001b[0m \u001b[39m# create deployment\u001b[39;00m\n\u001b[1;32m---> 81\u001b[0m ml_client\u001b[39m.\u001b[39;49monline_deployments\u001b[39m.\u001b[39;49mbegin_create_or_update(deployment)\u001b[39m.\u001b[39;49mresult()\n\u001b[0;32m     82\u001b[0m \u001b[39m# check status\u001b[39;00m\n\u001b[0;32m     83\u001b[0m deployment \u001b[39m=\u001b[39m ml_client\u001b[39m.\u001b[39monline_deployments\u001b[39m.\u001b[39mget(\n\u001b[0;32m     84\u001b[0m     endpoint_name\u001b[39m=\u001b[39mendpoint_name, name\u001b[39m=\u001b[39mdeployment\u001b[39m.\u001b[39mname\n\u001b[0;32m     85\u001b[0m )\n",
      "File \u001b[1;32md:\\Workspace\\azureml-examples\\.venv\\lib\\site-packages\\azure\\core\\polling\\_poller.py:230\u001b[0m, in \u001b[0;36mLROPoller.result\u001b[1;34m(self, timeout)\u001b[0m\n\u001b[0;32m    222\u001b[0m \u001b[39mdef\u001b[39;00m \u001b[39mresult\u001b[39m(\u001b[39mself\u001b[39m, timeout: Optional[\u001b[39mfloat\u001b[39m] \u001b[39m=\u001b[39m \u001b[39mNone\u001b[39;00m) \u001b[39m-\u001b[39m\u001b[39m>\u001b[39m PollingReturnType:\n\u001b[0;32m    223\u001b[0m \u001b[39m    \u001b[39m\u001b[39m\"\"\"Return the result of the long running operation, or\u001b[39;00m\n\u001b[0;32m    224\u001b[0m \u001b[39m    the result available after the specified timeout.\u001b[39;00m\n\u001b[0;32m    225\u001b[0m \n\u001b[1;32m   (...)\u001b[0m\n\u001b[0;32m    228\u001b[0m \u001b[39m    :raises ~azure.core.exceptions.HttpResponseError: Server problem with the query.\u001b[39;00m\n\u001b[0;32m    229\u001b[0m \u001b[39m    \"\"\"\u001b[39;00m\n\u001b[1;32m--> 230\u001b[0m     \u001b[39mself\u001b[39;49m\u001b[39m.\u001b[39;49mwait(timeout)\n\u001b[0;32m    231\u001b[0m     \u001b[39mreturn\u001b[39;00m \u001b[39mself\u001b[39m\u001b[39m.\u001b[39m_polling_method\u001b[39m.\u001b[39mresource()\n",
      "File \u001b[1;32md:\\Workspace\\azureml-examples\\.venv\\lib\\site-packages\\azure\\core\\tracing\\decorator.py:76\u001b[0m, in \u001b[0;36mdistributed_trace.<locals>.decorator.<locals>.wrapper_use_tracer\u001b[1;34m(*args, **kwargs)\u001b[0m\n\u001b[0;32m     74\u001b[0m span_impl_type \u001b[39m=\u001b[39m settings\u001b[39m.\u001b[39mtracing_implementation()\n\u001b[0;32m     75\u001b[0m \u001b[39mif\u001b[39;00m span_impl_type \u001b[39mis\u001b[39;00m \u001b[39mNone\u001b[39;00m:\n\u001b[1;32m---> 76\u001b[0m     \u001b[39mreturn\u001b[39;00m func(\u001b[39m*\u001b[39margs, \u001b[39m*\u001b[39m\u001b[39m*\u001b[39mkwargs)\n\u001b[0;32m     78\u001b[0m \u001b[39m# Merge span is parameter is set, but only if no explicit parent are passed\u001b[39;00m\n\u001b[0;32m     79\u001b[0m \u001b[39mif\u001b[39;00m merge_span \u001b[39mand\u001b[39;00m \u001b[39mnot\u001b[39;00m passed_in_parent:\n",
      "File \u001b[1;32md:\\Workspace\\azureml-examples\\.venv\\lib\\site-packages\\azure\\core\\polling\\_poller.py:249\u001b[0m, in \u001b[0;36mLROPoller.wait\u001b[1;34m(self, timeout)\u001b[0m\n\u001b[0;32m    245\u001b[0m \u001b[39mself\u001b[39m\u001b[39m.\u001b[39m_thread\u001b[39m.\u001b[39mjoin(timeout\u001b[39m=\u001b[39mtimeout)\n\u001b[0;32m    246\u001b[0m \u001b[39mtry\u001b[39;00m:\n\u001b[0;32m    247\u001b[0m     \u001b[39m# Let's handle possible None in forgiveness here\u001b[39;00m\n\u001b[0;32m    248\u001b[0m     \u001b[39m# https://github.com/python/mypy/issues/8165\u001b[39;00m\n\u001b[1;32m--> 249\u001b[0m     \u001b[39mraise\u001b[39;00m \u001b[39mself\u001b[39m\u001b[39m.\u001b[39m_exception  \u001b[39m# type: ignore\u001b[39;00m\n\u001b[0;32m    250\u001b[0m \u001b[39mexcept\u001b[39;00m \u001b[39mTypeError\u001b[39;00m:  \u001b[39m# Was None\u001b[39;00m\n\u001b[0;32m    251\u001b[0m     \u001b[39mpass\u001b[39;00m\n",
      "File \u001b[1;32md:\\Workspace\\azureml-examples\\.venv\\lib\\site-packages\\azure\\core\\polling\\_poller.py:169\u001b[0m, in \u001b[0;36mLROPoller._start\u001b[1;34m(self)\u001b[0m\n\u001b[0;32m    162\u001b[0m \u001b[39m\u001b[39m\u001b[39m\"\"\"Start the long running operation.\u001b[39;00m\n\u001b[0;32m    163\u001b[0m \u001b[39mOn completion, runs any callbacks.\u001b[39;00m\n\u001b[0;32m    164\u001b[0m \n\u001b[0;32m    165\u001b[0m \u001b[39m:param callable update_cmd: The API request to check the status of\u001b[39;00m\n\u001b[0;32m    166\u001b[0m \u001b[39m the operation.\u001b[39;00m\n\u001b[0;32m    167\u001b[0m \u001b[39m\"\"\"\u001b[39;00m\n\u001b[0;32m    168\u001b[0m \u001b[39mtry\u001b[39;00m:\n\u001b[1;32m--> 169\u001b[0m     \u001b[39mself\u001b[39;49m\u001b[39m.\u001b[39;49m_polling_method\u001b[39m.\u001b[39;49mrun()\n\u001b[0;32m    170\u001b[0m \u001b[39mexcept\u001b[39;00m AzureError \u001b[39mas\u001b[39;00m error:\n\u001b[0;32m    171\u001b[0m     \u001b[39mif\u001b[39;00m \u001b[39mnot\u001b[39;00m error\u001b[39m.\u001b[39mcontinuation_token:\n",
      "File \u001b[1;32md:\\Workspace\\azureml-examples\\.venv\\lib\\site-packages\\azure\\core\\polling\\base_polling.py:481\u001b[0m, in \u001b[0;36mLROBasePolling.run\u001b[1;34m(self)\u001b[0m\n\u001b[0;32m    474\u001b[0m     \u001b[39mraise\u001b[39;00m HttpResponseError(\n\u001b[0;32m    475\u001b[0m         response\u001b[39m=\u001b[39m\u001b[39mself\u001b[39m\u001b[39m.\u001b[39m_pipeline_response\u001b[39m.\u001b[39mhttp_response,\n\u001b[0;32m    476\u001b[0m         message\u001b[39m=\u001b[39m\u001b[39mstr\u001b[39m(err),\n\u001b[0;32m    477\u001b[0m         error\u001b[39m=\u001b[39merr,\n\u001b[0;32m    478\u001b[0m     )\n\u001b[0;32m    480\u001b[0m \u001b[39mexcept\u001b[39;00m OperationFailed \u001b[39mas\u001b[39;00m err:\n\u001b[1;32m--> 481\u001b[0m     \u001b[39mraise\u001b[39;00m HttpResponseError(response\u001b[39m=\u001b[39m\u001b[39mself\u001b[39m\u001b[39m.\u001b[39m_pipeline_response\u001b[39m.\u001b[39mhttp_response, error\u001b[39m=\u001b[39merr)\n",
      "\u001b[1;31mHttpResponseError\u001b[0m: (None) ResourceNotReady: User container has crashed or terminated. Please see troubleshooting guide, available here: https://aka.ms/oe-tsg#error-resourcenotready\nCode: None\nMessage: ResourceNotReady: User container has crashed or terminated. Please see troubleshooting guide, available here: https://aka.ms/oe-tsg#error-resourcenotready\nException Details:\t(None) ResourceNotReady: User container has crashed or terminated. Please see troubleshooting guide, available here: https://aka.ms/oe-tsg#error-resourcenotready\n\tThe build log is available in the workspace blob store \"bowgongblobtestusw2\" under the path \"/azureml/ImageLogs/e9405294-630f-4c4c-807c-a2094b97b2cf/build.log\"\n\tCode: None\n\tMessage: ResourceNotReady: User container has crashed or terminated. Please see troubleshooting guide, available here: https://aka.ms/oe-tsg#error-resourcenotready\n\tThe build log is available in the workspace blob store \"bowgongblobtestusw2\" under the path \"/azureml/ImageLogs/e9405294-630f-4c4c-807c-a2094b97b2cf/build.log\""
     ]
    }
   ],
   "source": [
    "# environment variables that will be used in the scoring script\n",
    "# environment variable names\n",
    "env_key_of_aacs_endpoint = \"AACS_ENDPOINT\"\n",
    "env_key_of_uai_id = \"UAI_CLIENT_ID\"  # if provided, the script will use the UAI's AAD token to obtain the access key of the LLaMA online endpoint, and use the token to authenticate to the AACS resource directly.\n",
    "env_key_of_aacs_key = \"AACS_ACCESS_KEY\"  # if the UAI_CLIENT_ID is not provided, the the script will fallback to use the access key of the AACS resource.\n",
    "env_key_of_llama_key = \"LLAMA_ACCESS_KEY\"  # if the UAI_CLIENT_ID is not provided, the the script will fallback to use the access key of the LLaMA online endpoint.\n",
    "env_key_of_llama_score_uri = \"LLAMA_SCORE_URI\"\n",
    "env_key_of_subscription_id = \"SUBSCRIPTION_ID\"\n",
    "env_key_of_resource_group_name = \"RESOURCE_GROUP_NAME\"\n",
    "env_key_of_workspace_name = \"WORKSPACE_NAME\"\n",
    "\n",
    "scoring_src_dir = \"./inferencing\"\n",
    "\n",
    "from azure.ai.ml.entities import (\n",
    "    ManagedOnlineDeployment,\n",
    "    ManagedOnlineEndpoint,\n",
    "    CodeConfiguration,\n",
    "    Environment,\n",
    "    ManagedIdentityConfiguration,\n",
    "    IdentityConfiguration,\n",
    ")\n",
    "\n",
    "if not aacs_endpoint:\n",
    "    raise Exception(\"AACS Endpoint is not valid.\")\n",
    "else:\n",
    "    print(f\"AACS Endpoint: {aacs_endpoint}\")\n",
    "\n",
    "environment_variables = {\n",
    "    env_key_of_aacs_endpoint: aacs_endpoint,\n",
    "    env_key_of_subscription_id: subscription_id,\n",
    "    env_key_of_resource_group_name: resource_group_name,\n",
    "    env_key_of_workspace_name: workspace_name,\n",
    "}\n",
    "\n",
    "uai_identity_config = None\n",
    "if aacs_authentication_mode == \"UAI\":\n",
    "    environment_variables[env_key_of_uai_id] = uai_client_id\n",
    "    uai_identity_config = IdentityConfiguration(\n",
    "        type=\"user_assigned\",\n",
    "        user_assigned_identities=[ManagedIdentityConfiguration(resource_id=uai_id)],\n",
    "    )\n",
    "else:\n",
    "    print(\n",
    "        \"UAI_CLIENT_ID is not provided. The script will fallback to use the access key of the AACS resource and the LLaMA online endpoint.\"\n",
    "    )\n",
    "    # use environment varibale to pass access keys\n",
    "    environment_variables[env_key_of_aacs_key] = aacs_access_key\n",
    "\n",
    "\n",
    "deployment = ManagedOnlineDeployment(\n",
    "    name=\"blue\",\n",
    "    endpoint_name=endpoint_name,\n",
    "    model=foundation_model.id,\n",
    "    code_configuration=CodeConfiguration(\n",
    "        code=f\"{scoring_src_dir}\", scoring_script=\"score.py\"\n",
    "    ),\n",
    "    environment=Environment(\n",
    "        conda_file=f\"{scoring_src_dir}/conda.yaml\",\n",
    "        image=\"mcr.microsoft.com/azureml/openmpi4.1.0-ubuntu20.04:latest\",\n",
    "    ),\n",
    "    instance_type=compute_sku_for_llama,\n",
    "    instance_count=compute_instance_count_for_llama,\n",
    "    environment_variables=environment_variables,\n",
    ")\n",
    "\n",
    "\n",
    "endpoint = ManagedOnlineEndpoint(\n",
    "    name=endpoint_name,\n",
    "    description=\"Azure AI Content Safety enabled LLaMA online endpoint\",\n",
    "    auth_mode=safety_llama_auth_mode,\n",
    "    identity=uai_identity_config,\n",
    ")\n",
    "# create online endpoint\n",
    "ml_client.online_endpoints.begin_create_or_update(endpoint).result()\n",
    "\n",
    "endpoint = ml_client.online_endpoints.get(endpoint_name)\n",
    "print(endpoint.identity.type)\n",
    "print(endpoint.identity.user_assigned_identities)\n",
    "\n",
    "# create deployment\n",
    "ml_client.online_deployments.begin_create_or_update(deployment).result()\n",
    "# check status\n",
    "deployment = ml_client.online_deployments.get(\n",
    "    endpoint_name=endpoint_name, name=deployment.name\n",
    ")\n",
    "print(deployment)\n",
    "# Set traffic to 100% for deployment\n",
    "endpoint.traffic = {str(deployment.name): 100}\n",
    "ml_client.begin_create_or_update(endpoint).result()"
   ]
  },
  {
   "cell_type": "markdown",
   "metadata": {},
   "source": [
    "### 6. Test the Azure AI Content Safety Enabled LLaMA online endpoint."
   ]
  },
  {
   "cell_type": "markdown",
   "metadata": {},
   "source": [
    "#### 6.1 Test endpoint with normal sample request"
   ]
  },
  {
   "cell_type": "code",
   "execution_count": null,
   "metadata": {},
   "outputs": [],
   "source": [
    "import os\n",
    "\n",
    "test_src_dir = \"./safety-llama-test\"\n",
    "os.makedirs(test_src_dir, exist_ok=True)\n",
    "print(f\"test script directory: {test_src_dir}\")"
   ]
  },
  {
   "cell_type": "code",
   "execution_count": null,
   "metadata": {},
   "outputs": [],
   "source": [
    "%%writefile {test_src_dir}/sample-request.json\n",
    "{\"data\": \"Hello World\"}"
   ]
  },
  {
   "cell_type": "code",
   "execution_count": null,
   "metadata": {},
   "outputs": [],
   "source": [
    "sample_data = f\"{test_src_dir}/sample-request.json\"\n",
    "ml_client.online_endpoints.invoke(endpoint_name=endpoint_name, request_file=sample_data)"
   ]
  },
  {
   "cell_type": "markdown",
   "metadata": {},
   "source": [
    "#### 6.2 Test endpoint with harmful sample request"
   ]
  },
  {
   "cell_type": "code",
   "execution_count": null,
   "metadata": {},
   "outputs": [],
   "source": [
    "%%writefile {test_src_dir}/sample-harmful-request.json\n",
    "{\"data\": \"I wanna kill you!\"}"
   ]
  },
  {
   "cell_type": "code",
   "execution_count": null,
   "metadata": {},
   "outputs": [],
   "source": [
    "sample_data = f\"{test_src_dir}/sample-harmful-request.json\"\n",
    "ml_client.online_endpoints.invoke(endpoint_name=endpoint_name, request_file=sample_data)"
   ]
  }
 ],
 "metadata": {
  "kernelspec": {
   "display_name": "Python 3 (ipykernel)",
   "language": "python",
   "name": "python3"
  },
  "language_info": {
   "codemirror_mode": {
    "name": "ipython",
    "version": 3
   },
   "file_extension": ".py",
   "mimetype": "text/x-python",
   "name": "python",
   "nbconvert_exporter": "python",
   "pygments_lexer": "ipython3",
   "version": "3.10.10"
  }
 },
 "nbformat": 4,
 "nbformat_minor": 1
}
