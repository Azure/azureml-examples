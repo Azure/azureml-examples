{
 "cells": [
  {
   "cell_type": "markdown",
   "id": "c90af50b-a3a3-42ea-b855-943777df2bee",
   "metadata": {},
   "source": [
    "# Evaluating Claude models with AzureML\n",
    "\n",
    "In this notebook, you will learn how to run evaluations of Anthropic's Claude model using the AzureML SDK. Along with this notebook, we've included a preconfigured set of 12 evaluations using well-known, public datasets (e.g., MMLU, HellaSwag, Winogrande).\n",
    "\n",
    "Please see the [Azure AI Leaderboard](https://ai.azure.com/explore/leaderboard) for other supported model benchmarks and for more details on the eval datasets.\n",
    "\n",
    "## Prerequistes\n",
    "- An Azure account with an active subscription - [Create an account for free](https://azure.microsoft.com/free/?WT.mc_id=A261C142F)\n",
    "- An Azure ML workspace with compute cluster - [Configure workspace](../../configuration.ipynb)\n",
    "- Installed Azure Machine Learning Python SDK v2 - [install instructions](../../../README.md) - check the getting started section\n",
    "- A python environment with [mlflow](https://learn.microsoft.com/en-us/azure/machine-learning/how-to-use-mlflow-configure-tracking?view=azureml-api-2&tabs=python%2Cmlflow) for retrieving eval metrics\n",
    "- Access keys for Claude endpoints on [Amazon Web Services Bedrock platform](https://aws.amazon.com/bedrock/claude/)  \n",
    "\n",
    "## Configuring a Workspace connection for Bedrock access\n",
    "You will use a Workspace connection to securely store Bedrock access keys. Follow the steps below to create a custom-type connection:\n",
    "- Follow directions for [creating a custom connection in the AzureML studio UI](https://learn.microsoft.com/en-us/azure/machine-learning/prompt-flow/tools-reference/python-tool?view=azureml-api-2#create-a-custom-connection)\n",
    "- Add the following two key-value pairs to the custom connection:\n",
    "  1. A key named `AccessKey` with a value containing your AWS access key\n",
    "  2. A key named `SecretKey` with a value containing your AWS secret access key \n",
    "\n",
    "## Configuring and running an evaluation pipeline\n",
    "Please set global values in the following cell for your AzureML Workspace, the Bedrock endpoint you want to call, the name of connection you created in the previous step, and the name of the eval you want to run.\n",
    "\n",
    "Supported evals are the following: `boolq`, `gsm8k`, `hellaswag`, `mmlu_humanities`, `mmlu_other`, `mmlu_social_sciences`, `mmlu_stem`, `openbookqa`, `piqa`, `social_iqa`, `winogrande`.\n",
    "\n",
    "You can also set the sample ratio, the fraction of the selected dataset to run for the eval.\n",
    "\n",
    "**\\*Warning\\***: Many datasets contain thousands of examples which can lead to high endpoint usage costs. We advise starting with a small sample ratio (e.g., 1%) to verify the pipeline and then increasing the ratio if desired. "
   ]
  },
  {
   "cell_type": "code",
   "execution_count": 1,
   "id": "7ce3f8a4-ce03-462b-89fa-19cac827c30c",
   "metadata": {},
   "outputs": [],
   "source": [
    "# AzureML settings\n",
    "subscription_id = '72c03bf3-4e69-41af-9532-dfcdc3eefef4'\n",
    "resource_group = 'aml-benchmarking'\n",
    "workspace_name = 'aml-benchmarking-rd'\n",
    "experiment_name = 'benchmark-claude-v2_1'\n",
    "compute_name = 'cpu-cluster-benchmarking'\n",
    "\n",
    "# Eval config values\n",
    "eval_name = 'boolq'\n",
    "bedrock_endpoint_url = 'https://bedrock-runtime.us-east-1.amazonaws.com/model/anthropic.claude-v2:1/invoke'\n",
    "connection_name = 'bedrock-test'\n",
    "\n",
    "# Sample ratio - what fraction of the dataset to run for the eval? \n",
    "# **WARNING** be aware of endpoint costs!\n",
    "sample_ratio = 0.01"
   ]
  },
  {
   "cell_type": "markdown",
   "id": "2cdbe9be-df54-4035-b7a6-f6f8677f16dc",
   "metadata": {},
   "source": [
    "Run the following cell to get an `MLClient` for communicating with your Workspace:"
   ]
  },
  {
   "cell_type": "code",
   "execution_count": 2,
   "id": "25f47da9-5c31-4729-a233-cece290415f9",
   "metadata": {},
   "outputs": [],
   "source": [
    "from azure.identity import DefaultAzureCredential\n",
    "from azure.ai.ml import MLClient\n",
    "\n",
    "# client for AzureML Workspace actions\n",
    "ml_client = MLClient(\n",
    "    credential=DefaultAzureCredential(),\n",
    "    subscription_id=subscription_id,\n",
    "    resource_group_name=resource_group,\n",
    "    workspace_name=workspace_name\n",
    ")"
   ]
  },
  {
   "cell_type": "markdown",
   "id": "2e4bfaa2-fd99-4850-a9c4-8838c4ef9313",
   "metadata": {},
   "source": [
    "Finally, to launch the evaluation pipeline job, run the following:"
   ]
  },
  {
   "cell_type": "code",
   "execution_count": 3,
   "id": "3e4c5468-7585-481e-bb20-ad91373cac6c",
   "metadata": {},
   "outputs": [
    {
     "name": "stderr",
     "output_type": "stream",
     "text": [
      "Class AutoDeleteSettingSchema: This is an experimental class, and may change at any time. Please see https://aka.ms/azuremlexperimental for more information.\n",
      "Class AutoDeleteConditionSchema: This is an experimental class, and may change at any time. Please see https://aka.ms/azuremlexperimental for more information.\n",
      "Class BaseAutoDeleteSettingSchema: This is an experimental class, and may change at any time. Please see https://aka.ms/azuremlexperimental for more information.\n",
      "Class IntellectualPropertySchema: This is an experimental class, and may change at any time. Please see https://aka.ms/azuremlexperimental for more information.\n",
      "Class ProtectionLevelSchema: This is an experimental class, and may change at any time. Please see https://aka.ms/azuremlexperimental for more information.\n",
      "Class BaseIntellectualPropertySchema: This is an experimental class, and may change at any time. Please see https://aka.ms/azuremlexperimental for more information.\n"
     ]
    },
    {
     "data": {
      "text/html": [
       "<table style=\"width:100%\"><tr><th>Experiment</th><th>Name</th><th>Type</th><th>Status</th><th>Details Page</th></tr><tr><td>benchmark-claude-v2_1</td><td>loving_tent_nkffwdy330</td><td>pipeline</td><td>Preparing</td><td><a href=\"https://ml.azure.com/runs/loving_tent_nkffwdy330?wsid=/subscriptions/72c03bf3-4e69-41af-9532-dfcdc3eefef4/resourcegroups/aml-benchmarking/workspaces/aml-benchmarking-rd&amp;tid=72f988bf-86f1-41af-91ab-2d7cd011db47\" target=\"_blank\" rel=\"noopener\">Link to Azure Machine Learning studio</a></td></tr></table>"
      ],
      "text/plain": [
       "PipelineJob({'inputs': {'endpoint_url': <azure.ai.ml.entities._job.pipeline._io.base.PipelineInput object at 0x000001AE9048B220>, 'ws_connection_name': <azure.ai.ml.entities._job.pipeline._io.base.PipelineInput object at 0x000001AE9048ACB0>, 'payload_pattern': <azure.ai.ml.entities._job.pipeline._io.base.PipelineInput object at 0x000001AE9048B130>, 'sample_ratio': <azure.ai.ml.entities._job.pipeline._io.base.PipelineInput object at 0x000001AE9048B100>}, 'outputs': {}, 'jobs': {}, 'component': PipelineComponent({'intellectual_property': None, 'auto_increment_version': False, 'source': 'REMOTE.WORKSPACE.JOB', 'is_anonymous': True, 'auto_delete_setting': None, 'name': 'azureml_anonymous', 'description': 'Claude eval on BoolQ', 'tags': {}, 'properties': {}, 'print_as_yaml': True, 'id': None, 'Resource__source_path': None, 'base_path': 'C:\\\\Users\\\\erwright\\\\Source\\\\azureml-examples\\\\sdk\\\\python\\\\foundation-models\\\\anthropic', 'creation_context': None, 'serialize': <msrest.serialization.Serializer object at 0x000001AE9048B430>, 'version': '1', 'latest_version': None, 'schema': None, 'type': 'pipeline', 'display_name': 'boolq_claude-caseinsensitive', 'is_deterministic': None, 'inputs': {'endpoint_url': {}, 'ws_connection_name': {}, 'payload_pattern': {}, 'sample_ratio': {}}, 'outputs': {}, 'yaml_str': None, 'other_parameter': {}, 'jobs': {'downloader': Command({'parameters': {}, 'init': False, 'name': 'downloader', 'type': 'command', 'status': None, 'log_files': None, 'description': None, 'tags': {}, 'properties': {}, 'print_as_yaml': True, 'id': None, 'Resource__source_path': None, 'base_path': 'C:\\\\Users\\\\erwright\\\\Source\\\\azureml-examples\\\\sdk\\\\python\\\\foundation-models\\\\anthropic', 'creation_context': None, 'serialize': <msrest.serialization.Serializer object at 0x000001AE90538490>, 'allowed_keys': {}, 'key_restriction': False, 'logger': <Logger attr_dict (WARNING)>, 'display_name': None, 'experiment_name': None, 'compute': None, 'services': None, 'comment': None, 'job_inputs': {'dataset_name': 'boolq', 'configuration': 'all', 'split': 'validation'}, 'job_outputs': {'output_dataset': {'type': 'uri_folder'}}, 'inputs': {'dataset_name': <azure.ai.ml.entities._job.pipeline._io.base.NodeInput object at 0x000001AE90538910>, 'configuration': <azure.ai.ml.entities._job.pipeline._io.base.NodeInput object at 0x000001AE90538730>, 'split': <azure.ai.ml.entities._job.pipeline._io.base.NodeInput object at 0x000001AE905384C0>}, 'outputs': {'output_dataset': <azure.ai.ml.entities._job.pipeline._io.base.NodeOutput object at 0x000001AE90538310>}, 'component': 'azureml://registries/azureml/components/dataset_downloader/labels/latest', 'referenced_control_flow_node_instance_id': None, 'kwargs': {'services': None}, 'instance_id': '0c2aa8e9-f709-4f0b-83a9-630f49401a7c', 'source': 'REMOTE.REGISTRY', 'validate_required_input_not_provided': True, 'limits': <azure.ai.ml.entities._job.job_limits.CommandJobLimits object at 0x000001AE905383A0>, 'identity': None, 'distribution': None, 'environment_variables': {}, 'environment': None, 'resources': None, 'queue_settings': None, 'swept': False}), 'sampler': Command({'parameters': {}, 'init': False, 'name': 'sampler', 'type': 'command', 'status': None, 'log_files': None, 'description': None, 'tags': {}, 'properties': {}, 'print_as_yaml': True, 'id': None, 'Resource__source_path': None, 'base_path': 'C:\\\\Users\\\\erwright\\\\Source\\\\azureml-examples\\\\sdk\\\\python\\\\foundation-models\\\\anthropic', 'creation_context': None, 'serialize': <msrest.serialization.Serializer object at 0x000001AE90538880>, 'allowed_keys': {}, 'key_restriction': False, 'logger': <Logger attr_dict (WARNING)>, 'display_name': None, 'experiment_name': None, 'compute': None, 'services': None, 'comment': None, 'job_inputs': {'sampling_style': 'head', 'random_seed': '0', 'dataset': '${{parent.jobs.downloader.outputs.output_dataset}}', 'sampling_ratio': '${{parent.inputs.sample_ratio}}'}, 'job_outputs': {'output_dataset': {'type': 'uri_file', 'path': 'azureml://datastores/${{default_datastore}}/paths/azureml/${{name}}/${{output_name}}.jsonl'}}, 'inputs': {'sampling_style': <azure.ai.ml.entities._job.pipeline._io.base.NodeInput object at 0x000001AE90538610>, 'random_seed': <azure.ai.ml.entities._job.pipeline._io.base.NodeInput object at 0x000001AE90538580>, 'dataset': <azure.ai.ml.entities._job.pipeline._io.base.NodeInput object at 0x000001AE905388B0>, 'sampling_ratio': <azure.ai.ml.entities._job.pipeline._io.base.NodeInput object at 0x000001AE905388E0>}, 'outputs': {'output_dataset': <azure.ai.ml.entities._job.pipeline._io.base.NodeOutput object at 0x000001AE90538850>}, 'component': 'azureml://registries/azureml/components/dataset_sampler/labels/latest', 'referenced_control_flow_node_instance_id': None, 'kwargs': {'services': None}, 'instance_id': '1aea0508-be5d-431e-915b-3c214d27dc23', 'source': 'REMOTE.REGISTRY', 'validate_required_input_not_provided': True, 'limits': <azure.ai.ml.entities._job.job_limits.CommandJobLimits object at 0x000001AE90538760>, 'identity': None, 'distribution': None, 'environment_variables': {}, 'environment': None, 'resources': None, 'queue_settings': None, 'swept': False}), 'preprocessor': Command({'parameters': {}, 'init': False, 'name': 'preprocessor', 'type': 'command', 'status': None, 'log_files': None, 'description': None, 'tags': {}, 'properties': {}, 'print_as_yaml': True, 'id': None, 'Resource__source_path': None, 'base_path': 'C:\\\\Users\\\\erwright\\\\Source\\\\azureml-examples\\\\sdk\\\\python\\\\foundation-models\\\\anthropic', 'creation_context': None, 'serialize': <msrest.serialization.Serializer object at 0x000001AE90538BB0>, 'allowed_keys': {}, 'key_restriction': False, 'logger': <Logger attr_dict (WARNING)>, 'display_name': None, 'experiment_name': None, 'compute': None, 'services': None, 'comment': None, 'job_inputs': {'template_input': '{\\n  \"question\": {{question}},\\n  \"answerA\": true,\\n  \"answerB\": false,\\n  \"context\": {{passage}},\\n  \"target\": {{answer}}\\n}', 'dataset': '${{parent.jobs.sampler.outputs.output_dataset}}'}, 'job_outputs': {'output_dataset': {'type': 'uri_file', 'path': 'azureml://datastores/${{default_datastore}}/paths/azureml/${{name}}/${{output_name}}.jsonl'}}, 'inputs': {'template_input': <azure.ai.ml.entities._job.pipeline._io.base.NodeInput object at 0x000001AE90538B20>, 'dataset': <azure.ai.ml.entities._job.pipeline._io.base.NodeInput object at 0x000001AE90538A60>}, 'outputs': {'output_dataset': <azure.ai.ml.entities._job.pipeline._io.base.NodeOutput object at 0x000001AE90538B80>}, 'component': 'azureml://registries/azureml/components/dataset_preprocessor/labels/latest', 'referenced_control_flow_node_instance_id': None, 'kwargs': {'services': None}, 'instance_id': '4927370a-c4bf-4844-b1bc-9595b0c6fbbe', 'source': 'REMOTE.REGISTRY', 'validate_required_input_not_provided': True, 'limits': <azure.ai.ml.entities._job.job_limits.CommandJobLimits object at 0x000001AE90538A00>, 'identity': None, 'distribution': None, 'environment_variables': {}, 'environment': None, 'resources': None, 'queue_settings': None, 'swept': False}), 'fewshot_downloader': Command({'parameters': {}, 'init': False, 'name': 'fewshot_downloader', 'type': 'command', 'status': None, 'log_files': None, 'description': None, 'tags': {}, 'properties': {}, 'print_as_yaml': True, 'id': None, 'Resource__source_path': None, 'base_path': 'C:\\\\Users\\\\erwright\\\\Source\\\\azureml-examples\\\\sdk\\\\python\\\\foundation-models\\\\anthropic', 'creation_context': None, 'serialize': <msrest.serialization.Serializer object at 0x000001AE90538F10>, 'allowed_keys': {}, 'key_restriction': False, 'logger': <Logger attr_dict (WARNING)>, 'display_name': None, 'experiment_name': None, 'compute': None, 'services': None, 'comment': None, 'job_inputs': {'dataset_name': 'boolq', 'configuration': 'all', 'split': 'train'}, 'job_outputs': {'output_dataset': {'type': 'uri_folder'}}, 'inputs': {'dataset_name': <azure.ai.ml.entities._job.pipeline._io.base.NodeInput object at 0x000001AE90538E80>, 'configuration': <azure.ai.ml.entities._job.pipeline._io.base.NodeInput object at 0x000001AE90538D30>, 'split': <azure.ai.ml.entities._job.pipeline._io.base.NodeInput object at 0x000001AE90538F40>}, 'outputs': {'output_dataset': <azure.ai.ml.entities._job.pipeline._io.base.NodeOutput object at 0x000001AE90538CA0>}, 'component': 'azureml://registries/azureml/components/dataset_downloader/labels/latest', 'referenced_control_flow_node_instance_id': None, 'kwargs': {'services': None}, 'instance_id': 'b2e7ce98-54a2-4e23-ae47-612cf18f1883', 'source': 'REMOTE.REGISTRY', 'validate_required_input_not_provided': True, 'limits': <azure.ai.ml.entities._job.job_limits.CommandJobLimits object at 0x000001AE90538C40>, 'identity': None, 'distribution': None, 'environment_variables': {}, 'environment': None, 'resources': None, 'queue_settings': None, 'swept': False}), 'fewshot_sampler': Command({'parameters': {}, 'init': False, 'name': 'fewshot_sampler', 'type': 'command', 'status': None, 'log_files': None, 'description': None, 'tags': {}, 'properties': {}, 'print_as_yaml': True, 'id': None, 'Resource__source_path': None, 'base_path': 'C:\\\\Users\\\\erwright\\\\Source\\\\azureml-examples\\\\sdk\\\\python\\\\foundation-models\\\\anthropic', 'creation_context': None, 'serialize': <msrest.serialization.Serializer object at 0x000001AE905392A0>, 'allowed_keys': {}, 'key_restriction': False, 'logger': <Logger attr_dict (WARNING)>, 'display_name': None, 'experiment_name': None, 'compute': None, 'services': None, 'comment': None, 'job_inputs': {'sampling_style': 'random', 'sampling_ratio': '1.0', 'random_seed': '0', 'dataset': '${{parent.jobs.fewshot_downloader.outputs.output_dataset}}'}, 'job_outputs': {'output_dataset': {'type': 'uri_file', 'path': 'azureml://datastores/${{default_datastore}}/paths/azureml/${{name}}/${{output_name}}.jsonl'}}, 'inputs': {'sampling_style': <azure.ai.ml.entities._job.pipeline._io.base.NodeInput object at 0x000001AE90539210>, 'sampling_ratio': <azure.ai.ml.entities._job.pipeline._io.base.NodeInput object at 0x000001AE905390C0>, 'random_seed': <azure.ai.ml.entities._job.pipeline._io.base.NodeInput object at 0x000001AE905392D0>, 'dataset': <azure.ai.ml.entities._job.pipeline._io.base.NodeInput object at 0x000001AE904B90F0>}, 'outputs': {'output_dataset': <azure.ai.ml.entities._job.pipeline._io.base.NodeOutput object at 0x000001AE904B91E0>}, 'component': 'azureml://registries/azureml/components/dataset_sampler/labels/latest', 'referenced_control_flow_node_instance_id': None, 'kwargs': {'services': None}, 'instance_id': '341d363b-54e4-4f54-8616-ac9b9e5110df', 'source': 'REMOTE.REGISTRY', 'validate_required_input_not_provided': True, 'limits': <azure.ai.ml.entities._job.job_limits.CommandJobLimits object at 0x000001AE90538FD0>, 'identity': None, 'distribution': None, 'environment_variables': {}, 'environment': None, 'resources': None, 'queue_settings': None, 'swept': False}), 'fewshot_preprocessor': Command({'parameters': {}, 'init': False, 'name': 'fewshot_preprocessor', 'type': 'command', 'status': None, 'log_files': None, 'description': None, 'tags': {}, 'properties': {}, 'print_as_yaml': True, 'id': None, 'Resource__source_path': None, 'base_path': 'C:\\\\Users\\\\erwright\\\\Source\\\\azureml-examples\\\\sdk\\\\python\\\\foundation-models\\\\anthropic', 'creation_context': None, 'serialize': <msrest.serialization.Serializer object at 0x000001AE904B8F70>, 'allowed_keys': {}, 'key_restriction': False, 'logger': <Logger attr_dict (WARNING)>, 'display_name': None, 'experiment_name': None, 'compute': None, 'services': None, 'comment': None, 'job_inputs': {'template_input': '{\\n  \"question\": {{question}},\\n  \"answerA\": true,\\n  \"answerB\": false,\\n  \"context\": {{passage}},\\n  \"target\": {{answer}}\\n}', 'dataset': '${{parent.jobs.fewshot_sampler.outputs.output_dataset}}'}, 'job_outputs': {'output_dataset': {'type': 'uri_file', 'path': 'azureml://datastores/${{default_datastore}}/paths/azureml/${{name}}/${{output_name}}.jsonl'}}, 'inputs': {'template_input': <azure.ai.ml.entities._job.pipeline._io.base.NodeInput object at 0x000001AE904B8FA0>, 'dataset': <azure.ai.ml.entities._job.pipeline._io.base.NodeInput object at 0x000001AE904B9030>}, 'outputs': {'output_dataset': <azure.ai.ml.entities._job.pipeline._io.base.NodeOutput object at 0x000001AE904B8E20>}, 'component': 'azureml://registries/azureml/components/dataset_preprocessor/labels/latest', 'referenced_control_flow_node_instance_id': None, 'kwargs': {'services': None}, 'instance_id': '293878a7-37a6-4a5f-a094-63cbc2f1faf5', 'source': 'REMOTE.REGISTRY', 'validate_required_input_not_provided': True, 'limits': <azure.ai.ml.entities._job.job_limits.CommandJobLimits object at 0x000001AE904B9060>, 'identity': None, 'distribution': None, 'environment_variables': {}, 'environment': None, 'resources': None, 'queue_settings': None, 'swept': False}), 'promptcrafter': Command({'parameters': {}, 'init': False, 'name': 'promptcrafter', 'type': 'command', 'status': None, 'log_files': None, 'description': None, 'tags': {}, 'properties': {}, 'print_as_yaml': True, 'id': None, 'Resource__source_path': None, 'base_path': 'C:\\\\Users\\\\erwright\\\\Source\\\\azureml-examples\\\\sdk\\\\python\\\\foundation-models\\\\anthropic', 'creation_context': None, 'serialize': <msrest.serialization.Serializer object at 0x000001AE904B8CA0>, 'allowed_keys': {}, 'key_restriction': False, 'logger': <Logger attr_dict (WARNING)>, 'display_name': None, 'experiment_name': None, 'compute': None, 'services': None, 'comment': None, 'job_inputs': {'prompt_type': 'completions', 'prefix': 'You are given a question along with context and asked to choose whether the question is true or false. There are examples within <example> tags for you to learn from. For the last question respond with only true or false. The answer must be within the tags <answer> and </answer>. Do not add other text to the response.\\n\\nHuman:', 'prompt_pattern': 'Given the context answer the question: context: {{context}}\\nquestion: {{question}}\\n1.: {{answerA}}\\n2.: {{answerB}}\\nAnswer:\\n\\nAssistant:', 'few_shot_pattern': '<example>\\nGiven the context answer the question: context: {{context}}\\nquestion: {{question}}\\n1.: {{answerA}}\\n2.: {{answerB}}\\nAnswer: {{target}}\\n</example>', 'n_shots': '5', 'output_pattern': ' {{target}}', 'few_shot_separator': '\\n\\n', 'random_seed': '0', 'test_data': '${{parent.jobs.preprocessor.outputs.output_dataset}}', 'few_shot_data': '${{parent.jobs.fewshot_preprocessor.outputs.output_dataset}}'}, 'job_outputs': {'output_file': {'type': 'uri_file', 'path': 'azureml://datastores/${{default_datastore}}/paths/azureml/${{name}}/${{output_name}}.jsonl'}}, 'inputs': {'prompt_type': <azure.ai.ml.entities._job.pipeline._io.base.NodeInput object at 0x000001AE904B8C40>, 'prefix': <azure.ai.ml.entities._job.pipeline._io.base.NodeInput object at 0x000001AE904B8910>, 'prompt_pattern': <azure.ai.ml.entities._job.pipeline._io.base.NodeInput object at 0x000001AE904B8D30>, 'few_shot_pattern': <azure.ai.ml.entities._job.pipeline._io.base.NodeInput object at 0x000001AE904B8A00>, 'n_shots': <azure.ai.ml.entities._job.pipeline._io.base.NodeInput object at 0x000001AE904B8BE0>, 'output_pattern': <azure.ai.ml.entities._job.pipeline._io.base.NodeInput object at 0x000001AE904B8C10>, 'few_shot_separator': <azure.ai.ml.entities._job.pipeline._io.base.NodeInput object at 0x000001AE904B8F10>, 'random_seed': <azure.ai.ml.entities._job.pipeline._io.base.NodeInput object at 0x000001AE904B8AC0>, 'test_data': <azure.ai.ml.entities._job.pipeline._io.base.NodeInput object at 0x000001AE904B8580>, 'few_shot_data': <azure.ai.ml.entities._job.pipeline._io.base.NodeInput object at 0x000001AE904B85B0>}, 'outputs': {'output_file': <azure.ai.ml.entities._job.pipeline._io.base.NodeOutput object at 0x000001AE904B89D0>}, 'component': 'azureml://registries/azureml-preview-test1/components/prompt_crafter/labels/latest', 'referenced_control_flow_node_instance_id': None, 'kwargs': {'services': None}, 'instance_id': 'f2648ff3-cc7b-4f37-8808-5266bdcef105', 'source': 'REMOTE.REGISTRY', 'validate_required_input_not_provided': True, 'limits': <azure.ai.ml.entities._job.job_limits.CommandJobLimits object at 0x000001AE904B8B50>, 'identity': None, 'distribution': None, 'environment_variables': {}, 'environment': None, 'resources': None, 'queue_settings': None, 'swept': False}), 'endpoint': Pipeline({'init': False, 'name': 'endpoint', 'type': 'pipeline', 'status': None, 'log_files': None, 'description': None, 'tags': {}, 'properties': {}, 'print_as_yaml': True, 'id': None, 'Resource__source_path': None, 'base_path': 'C:\\\\Users\\\\erwright\\\\Source\\\\azureml-examples\\\\sdk\\\\python\\\\foundation-models\\\\anthropic', 'creation_context': None, 'serialize': <msrest.serialization.Serializer object at 0x000001AE904B8400>, 'allowed_keys': {}, 'key_restriction': False, 'logger': <Logger attr_dict (WARNING)>, 'display_name': None, 'experiment_name': None, 'compute': None, 'services': None, 'comment': None, 'job_inputs': {'is_performance_test': 'False', 'label_column_name': 'completion', 'handle_response_failure': 'use_fallback', 'ensure_ascii': 'False', 'initial_worker_count': '1', 'max_worker_count': '1', 'instance_count': '1', 'max_concurrency_per_instance': '1', 'debug_mode': 'False', 'input_dataset': '${{parent.jobs.promptcrafter.outputs.output_file}}', 'batch_input_pattern': '${{parent.inputs.payload_pattern}}', 'endpoint_url': '${{parent.inputs.endpoint_url}}', 'connections_name': '${{parent.inputs.ws_connection_name}}'}, 'job_outputs': {'predictions': {'type': 'uri_file', 'path': 'azureml://datastores/${{default_datastore}}/paths/azureml/${{name}}/${{output_name}}.jsonl'}, 'performance_metadata': {'type': 'uri_file', 'path': 'azureml://datastores/${{default_datastore}}/paths/azureml/${{name}}/${{output_name}}.jsonl'}, 'ground_truth': {'type': 'uri_file', 'path': 'azureml://datastores/${{default_datastore}}/paths/azureml/${{name}}/${{output_name}}.jsonl'}}, 'inputs': {'is_performance_test': <azure.ai.ml.entities._job.pipeline._io.base.NodeInput object at 0x000001AE904B8430>, 'label_column_name': <azure.ai.ml.entities._job.pipeline._io.base.NodeInput object at 0x000001AE904B81F0>, 'handle_response_failure': <azure.ai.ml.entities._job.pipeline._io.base.NodeInput object at 0x000001AE904B86D0>, 'ensure_ascii': <azure.ai.ml.entities._job.pipeline._io.base.NodeInput object at 0x000001AE904B86A0>, 'initial_worker_count': <azure.ai.ml.entities._job.pipeline._io.base.NodeInput object at 0x000001AE904B84F0>, 'max_worker_count': <azure.ai.ml.entities._job.pipeline._io.base.NodeInput object at 0x000001AE904B8730>, 'instance_count': <azure.ai.ml.entities._job.pipeline._io.base.NodeInput object at 0x000001AE904B87F0>, 'max_concurrency_per_instance': <azure.ai.ml.entities._job.pipeline._io.base.NodeInput object at 0x000001AE904B8190>, 'debug_mode': <azure.ai.ml.entities._job.pipeline._io.base.NodeInput object at 0x000001AE904B80D0>, 'input_dataset': <azure.ai.ml.entities._job.pipeline._io.base.NodeInput object at 0x000001AE904B8070>, 'batch_input_pattern': <azure.ai.ml.entities._job.pipeline._io.base.NodeInput object at 0x000001AE904B8520>, 'endpoint_url': <azure.ai.ml.entities._job.pipeline._io.base.NodeInput object at 0x000001AE904B9120>, 'connections_name': <azure.ai.ml.entities._job.pipeline._io.base.NodeInput object at 0x000001AE904B91B0>}, 'outputs': {'predictions': <azure.ai.ml.entities._job.pipeline._io.base.NodeOutput object at 0x000001AE904B8460>, 'performance_metadata': <azure.ai.ml.entities._job.pipeline._io.base.NodeOutput object at 0x000001AE9048BDF0>, 'ground_truth': <azure.ai.ml.entities._job.pipeline._io.base.NodeOutput object at 0x000001AE9048BFD0>}, 'component': 'azureml://registries/azureml-preview-test1/components/batch_benchmark_inference_claude/labels/latest', 'referenced_control_flow_node_instance_id': None, 'kwargs': {}, 'instance_id': 'd6aee766-1498-4f33-b2d5-0d57b4771e38', 'source': 'REMOTE.REGISTRY', 'validate_required_input_not_provided': True, 'settings': None}), 'postprocessor': Command({'parameters': {}, 'init': False, 'name': 'postprocessor', 'type': 'command', 'status': None, 'log_files': None, 'description': None, 'tags': {}, 'properties': {}, 'print_as_yaml': True, 'id': None, 'Resource__source_path': None, 'base_path': 'C:\\\\Users\\\\erwright\\\\Source\\\\azureml-examples\\\\sdk\\\\python\\\\foundation-models\\\\anthropic', 'creation_context': None, 'serialize': <msrest.serialization.Serializer object at 0x000001AE9048BA90>, 'allowed_keys': {}, 'key_restriction': False, 'logger': <Logger attr_dict (WARNING)>, 'display_name': None, 'experiment_name': None, 'compute': None, 'services': None, 'comment': None, 'job_inputs': {'ground_truth_column_name': 'completion', 'prediction_column_name': 'prediction', 'regex_expr': '<answer>(.*?)</answer>', 'ground_truth_dataset': '${{parent.jobs.endpoint.outputs.ground_truth}}', 'prediction_dataset': '${{parent.jobs.endpoint.outputs.predictions}}'}, 'job_outputs': {'output_dataset_result': {'type': 'uri_file', 'path': 'azureml://datastores/${{default_datastore}}/paths/azureml/${{name}}/${{output_name}}.jsonl'}}, 'inputs': {'ground_truth_column_name': <azure.ai.ml.entities._job.pipeline._io.base.NodeInput object at 0x000001AE9048BAC0>, 'prediction_column_name': <azure.ai.ml.entities._job.pipeline._io.base.NodeInput object at 0x000001AE9048BE50>, 'regex_expr': <azure.ai.ml.entities._job.pipeline._io.base.NodeInput object at 0x000001AE9048BD00>, 'ground_truth_dataset': <azure.ai.ml.entities._job.pipeline._io.base.NodeInput object at 0x000001AE9048BCD0>, 'prediction_dataset': <azure.ai.ml.entities._job.pipeline._io.base.NodeInput object at 0x000001AE9048BA60>}, 'outputs': {'output_dataset_result': <azure.ai.ml.entities._job.pipeline._io.base.NodeOutput object at 0x000001AE9048BEE0>}, 'component': 'azureml://registries/azureml/components/inference_postprocessor/labels/latest', 'referenced_control_flow_node_instance_id': None, 'kwargs': {'services': None}, 'instance_id': '4f0bcd1f-45af-4d58-9bfe-111a906043be', 'source': 'REMOTE.REGISTRY', 'validate_required_input_not_provided': True, 'limits': <azure.ai.ml.entities._job.job_limits.CommandJobLimits object at 0x000001AE9048BF40>, 'identity': None, 'distribution': None, 'environment_variables': {}, 'environment': None, 'resources': None, 'queue_settings': None, 'swept': False}), 'quality': Command({'parameters': {}, 'init': False, 'name': 'quality', 'type': 'command', 'status': None, 'log_files': None, 'description': None, 'tags': {}, 'properties': {}, 'print_as_yaml': True, 'id': None, 'Resource__source_path': None, 'base_path': 'C:\\\\Users\\\\erwright\\\\Source\\\\azureml-examples\\\\sdk\\\\python\\\\foundation-models\\\\anthropic', 'creation_context': None, 'serialize': <msrest.serialization.Serializer object at 0x000001AE9048B580>, 'allowed_keys': {}, 'key_restriction': False, 'logger': <Logger attr_dict (WARNING)>, 'display_name': None, 'experiment_name': None, 'compute': None, 'services': None, 'comment': None, 'job_inputs': {'task': 'question-answering', 'ground_truth_column_name': 'completion', 'prediction_column_name': 'prediction', 'evaluation_config_params': '{\"regexes_to_ignore\": [\"\\\\\\\\W\"], \"ignore_case\": true}', 'ground_truth': '${{parent.jobs.postprocessor.outputs.output_dataset_result}}', 'prediction': '${{parent.jobs.postprocessor.outputs.output_dataset_result}}'}, 'job_outputs': {'evaluation_result': {'type': 'uri_folder'}}, 'inputs': {'task': <azure.ai.ml.entities._job.pipeline._io.base.NodeInput object at 0x000001AE9048BA30>, 'ground_truth_column_name': <azure.ai.ml.entities._job.pipeline._io.base.NodeInput object at 0x000001AE9048B970>, 'prediction_column_name': <azure.ai.ml.entities._job.pipeline._io.base.NodeInput object at 0x000001AE9048BC10>, 'evaluation_config_params': <azure.ai.ml.entities._job.pipeline._io.base.NodeInput object at 0x000001AE9048B520>, 'ground_truth': <azure.ai.ml.entities._job.pipeline._io.base.NodeInput object at 0x000001AE9048B850>, 'prediction': <azure.ai.ml.entities._job.pipeline._io.base.NodeInput object at 0x000001AE9048B820>}, 'outputs': {'evaluation_result': <azure.ai.ml.entities._job.pipeline._io.base.NodeOutput object at 0x000001AE9048B550>}, 'component': 'azureml://registries/azureml/components/compute_metrics/labels/latest', 'referenced_control_flow_node_instance_id': None, 'kwargs': {'services': None}, 'instance_id': '64280f64-5668-4404-96d9-bd0decf2e460', 'source': 'REMOTE.REGISTRY', 'validate_required_input_not_provided': True, 'limits': <azure.ai.ml.entities._job.job_limits.CommandJobLimits object at 0x000001AE9048BB50>, 'identity': None, 'distribution': None, 'environment_variables': {}, 'environment': None, 'resources': None, 'queue_settings': None, 'swept': False}), 'aggregator': Command({'parameters': {}, 'init': False, 'name': 'aggregator', 'type': 'command', 'status': None, 'log_files': None, 'description': None, 'tags': {}, 'properties': {}, 'print_as_yaml': True, 'id': None, 'Resource__source_path': None, 'base_path': 'C:\\\\Users\\\\erwright\\\\Source\\\\azureml-examples\\\\sdk\\\\python\\\\foundation-models\\\\anthropic', 'creation_context': None, 'serialize': <msrest.serialization.Serializer object at 0x000001AE9048B6A0>, 'allowed_keys': {}, 'key_restriction': False, 'logger': <Logger attr_dict (WARNING)>, 'display_name': None, 'experiment_name': None, 'compute': None, 'services': None, 'comment': None, 'job_inputs': {'quality_metrics': '${{parent.jobs.quality.outputs.evaluation_result}}'}, 'job_outputs': {'benchmark_result': {'type': 'uri_file', 'path': 'azureml://datastores/${{default_datastore}}/paths/azureml/${{name}}/${{output_name}}.json'}}, 'inputs': {'quality_metrics': <azure.ai.ml.entities._job.pipeline._io.base.NodeInput object at 0x000001AE9048B700>}, 'outputs': {'benchmark_result': <azure.ai.ml.entities._job.pipeline._io.base.NodeOutput object at 0x000001AE9048B6D0>}, 'component': 'azureml://registries/azureml/components/benchmark_result_aggregator/labels/latest', 'referenced_control_flow_node_instance_id': None, 'kwargs': {'services': None}, 'instance_id': '63489254-bc0d-4635-9c2c-5c03e12ea7c1', 'source': 'REMOTE.REGISTRY', 'validate_required_input_not_provided': True, 'limits': <azure.ai.ml.entities._job.job_limits.CommandJobLimits object at 0x000001AE9048B490>, 'identity': None, 'distribution': None, 'environment_variables': {}, 'environment': None, 'resources': None, 'queue_settings': None, 'swept': False})}, 'job_types': {'command': 10, 'pipeline': 1}, 'job_sources': {'REMOTE.REGISTRY': 11}, 'source_job_id': None}), 'type': 'pipeline', 'status': 'Preparing', 'log_files': None, 'name': 'loving_tent_nkffwdy330', 'description': 'Claude eval on BoolQ', 'tags': {}, 'properties': {'mlflow.source.git.repoURL': 'https://github.com/Azure/azureml-examples.git', 'mlflow.source.git.branch': 'erwright/add-anthropic-claude-eval-notebook-and-pipelines', 'mlflow.source.git.commit': '72c12698311965133fd14c4d86684ff2748fb137', 'azureml.git.dirty': 'True', 'azureml.DevPlatv2': 'true', 'azureml.DatasetAccessMode': 'Asset', 'azureml.runsource': 'azureml.PipelineRun', 'runSource': 'MFE', 'runType': 'HTTP', 'azureml.parameters': '{\"endpoint_url\":\"https://bedrock-runtime.us-east-1.amazonaws.com/model/anthropic.claude-v2:1/invoke\",\"ws_connection_name\":\"bedrock-test\",\"payload_pattern\":\"{\\\\\"prompt\\\\\": \\\\\"###<prompt>\\\\\", \\\\\"temperature\\\\\": 0.0, \\\\\"max_tokens_to_sample\\\\\": 10, \\\\\"top_p\\\\\": 1.0}\",\"sample_ratio\":\"0.01\"}', 'azureml.continue_on_step_failure': 'True', 'azureml.continue_on_failed_optional_input': 'True', 'azureml.enforceRerun': 'False', 'azureml.defaultComputeName': 'cpu-cluster-benchmarking', 'azureml.defaultDataStoreName': 'workspaceblobstore', 'azureml.pipelineComponent': 'pipelinerun'}, 'print_as_yaml': True, 'id': '/subscriptions/72c03bf3-4e69-41af-9532-dfcdc3eefef4/resourceGroups/aml-benchmarking/providers/Microsoft.MachineLearningServices/workspaces/aml-benchmarking-rd/jobs/loving_tent_nkffwdy330', 'Resource__source_path': None, 'base_path': 'C:\\\\Users\\\\erwright\\\\Source\\\\azureml-examples\\\\sdk\\\\python\\\\foundation-models\\\\anthropic', 'creation_context': <azure.ai.ml.entities._system_data.SystemData object at 0x000001AE9048B1F0>, 'serialize': <msrest.serialization.Serializer object at 0x000001AE9048AE30>, 'display_name': 'boolq_claude-caseinsensitive', 'experiment_name': 'benchmark-claude-v2_1', 'compute': None, 'services': {'Tracking': {'endpoint': 'azureml://eastus.api.azureml.ms/mlflow/v1.0/subscriptions/72c03bf3-4e69-41af-9532-dfcdc3eefef4/resourceGroups/aml-benchmarking/providers/Microsoft.MachineLearningServices/workspaces/aml-benchmarking-rd?', 'type': 'Tracking'}, 'Studio': {'endpoint': 'https://ml.azure.com/runs/loving_tent_nkffwdy330?wsid=/subscriptions/72c03bf3-4e69-41af-9532-dfcdc3eefef4/resourcegroups/aml-benchmarking/workspaces/aml-benchmarking-rd&tid=72f988bf-86f1-41af-91ab-2d7cd011db47', 'type': 'Studio'}}, 'settings': {}, 'identity': None, 'default_code': None, 'default_environment': None})"
      ]
     },
     "execution_count": 3,
     "metadata": {},
     "output_type": "execute_result"
    }
   ],
   "source": [
    "from azure.ai.ml import load_job\n",
    "\n",
    "# load the pipeline from the yaml def\n",
    "pipeline_job = load_job(f'./evaluation_pipelines/{eval_name}.yaml')\n",
    "\n",
    "# Set pipeline job inputs\n",
    "pipeline_job.settings.default_compute = compute_name\n",
    "pipeline_job.inputs.endpoint_url = bedrock_endpoint_url\n",
    "pipeline_job.inputs.ws_connection_name = connection_name\n",
    "pipeline_job.inputs.sample_ratio = sample_ratio\n",
    "\n",
    "# Start the job in the Workspace\n",
    "returned_job = ml_client.jobs.create_or_update(\n",
    "    pipeline_job,\n",
    "    experiment_name=experiment_name\n",
    ")\n",
    "returned_job"
   ]
  },
  {
   "cell_type": "markdown",
   "id": "095005d9-1deb-4097-a718-4059a335ec09",
   "metadata": {},
   "source": [
    "Run the next cell to stream the job. Notebook execution will be paused until the job finishes."
   ]
  },
  {
   "cell_type": "code",
   "execution_count": 4,
   "id": "1376aa46-725d-4d6c-8725-3a2d4d52bdfc",
   "metadata": {},
   "outputs": [
    {
     "name": "stdout",
     "output_type": "stream",
     "text": [
      "RunId: keen_market_04vmxb0q1g\n",
      "Web View: https://ml.azure.com/runs/keen_market_04vmxb0q1g?wsid=/subscriptions/72c03bf3-4e69-41af-9532-dfcdc3eefef4/resourcegroups/aml-benchmarking/workspaces/aml-benchmarking-rd\n",
      "\n",
      "Execution Summary\n",
      "=================\n",
      "RunId: keen_market_04vmxb0q1g\n",
      "Web View: https://ml.azure.com/runs/keen_market_04vmxb0q1g?wsid=/subscriptions/72c03bf3-4e69-41af-9532-dfcdc3eefef4/resourcegroups/aml-benchmarking/workspaces/aml-benchmarking-rd\n",
      "\n"
     ]
    }
   ],
   "source": [
    "# Wait until the job completes\n",
    "ml_client.jobs.stream(returned_job.name)"
   ]
  },
  {
   "cell_type": "markdown",
   "id": "07fa2c79-f875-4c4f-8f09-37158b56bdcd",
   "metadata": {},
   "source": [
    "## Retrieve accuracy scores from the run\n",
    "When the pipeline finishes, you can retrieve evaluation metrics from the run via mlflow. The primary measure of accuracy for the evals is `mean_exact_match`, with the exception of human_eval which uses `pass@1`. \n",
    "\n",
    "Mean exact match is the proportion of model predictions that exactly match the corresponding correct answers. Thus, it is applicable to question answering evaluations that are multiple choice or have a single, correct answer. The pass@1 metric is used for evaluating code generation and is the proportion of model generated code solutions that pass a set of unit tests given in the eval dataset. "
   ]
  },
  {
   "cell_type": "code",
   "execution_count": 5,
   "id": "299bf8ea-49ab-44c3-96e6-51902fa03df4",
   "metadata": {},
   "outputs": [
    {
     "name": "stdout",
     "output_type": "stream",
     "text": [
      "Accuracy metric name: mean_exact_match\n",
      "Accuracy metric value: 0.8333333333333334\n"
     ]
    }
   ],
   "source": [
    "import mlflow\n",
    "\n",
    "accuracy_metric_name = 'mean_exact_match' if eval_name != 'human_eval' else 'pass@1'\n",
    "\n",
    "mlflow_tracking_uri = ml_client.workspaces.get(ml_client.workspace_name).mlflow_tracking_uri\n",
    "mlflow.set_tracking_uri(mlflow_tracking_uri)\n",
    "\n",
    "run = mlflow.get_run(run_id=returned_job.name)\n",
    "metric_val = run.data.metrics[accuracy_metric_name]\n",
    "\n",
    "print(f'Accuracy metric name: {accuracy_metric_name}')\n",
    "print(f'Accuracy metric value: {metric_val}')"
   ]
  },
  {
   "cell_type": "code",
   "execution_count": null,
   "id": "a8b02e09-c7aa-4014-a855-99e3180be2b0",
   "metadata": {},
   "outputs": [],
   "source": []
  }
 ],
 "metadata": {
  "kernelspec": {
   "display_name": "AzureML SDK v2",
   "language": "python",
   "name": "azureml_sdk_v2"
  },
  "language_info": {
   "codemirror_mode": {
    "name": "ipython",
    "version": 3
   },
   "file_extension": ".py",
   "mimetype": "text/x-python",
   "name": "python",
   "nbconvert_exporter": "python",
   "pygments_lexer": "ipython3",
   "version": "3.10.13"
  }
 },
 "nbformat": 4,
 "nbformat_minor": 5
}
