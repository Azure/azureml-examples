{
 "cells": [
  {
   "cell_type": "markdown",
   "id": "c90af50b-a3a3-42ea-b855-943777df2bee",
   "metadata": {},
   "source": [
    "# Evaluating Claude models with AzureML\n",
    "\n",
    "In this notebook, you will learn how to run evaluations of Anthropic's Claude model using the AzureML SDK. Along with this notebook, we've included a preconfigured set of 12 evaluations using well-known, public datasets (e.g., MMLU, HellaSwag, Winogrande).\n",
    "\n",
    "Please see the [Azure AI Leaderboard](https://ai.azure.com/explore/leaderboard) for other supported model benchmarks and for more details on the eval datasets.\n",
    "\n",
    "## Prerequistes\n",
    "- An Azure account with an active subscription - [Create an account for free](https://azure.microsoft.com/free/?WT.mc_id=A261C142F)\n",
    "- An Azure ML workspace with compute cluster - [Configure workspace](../../configuration.ipynb)\n",
    "- Installed Azure Machine Learning Python SDK v2 - [install instructions](../../../README.md) - check the getting started section\n",
    "- A python environment with [mlflow](https://learn.microsoft.com/en-us/azure/machine-learning/how-to-use-mlflow-configure-tracking?view=azureml-api-2&tabs=python%2Cmlflow) for retrieving eval metrics\n",
    "- Access keys for Claude endpoints on [Amazon Web Services Bedrock platform](https://aws.amazon.com/bedrock/claude/)  \n",
    "\n",
    "## Configuring a Workspace connection for Bedrock access\n",
    "You will use a Workspace connection to securely store Bedrock access keys. Follow the steps below to create a custom-type connection:\n",
    "- Follow directions for [creating a custom connection in the AzureML studio UI](https://learn.microsoft.com/en-us/azure/machine-learning/prompt-flow/tools-reference/python-tool?view=azureml-api-2#create-a-custom-connection)\n",
    "- Add the following two key-value pairs to the custom connection:\n",
    "  1. A key named `AccessKey` with a value containing your AWS access key\n",
    "  2. A key named `SecretKey` with a value containing your AWS secret access key \n",
    "\n",
    "## Configuring and running an evaluation pipeline\n",
    "Please set global values in the following cell for your AzureML Workspace, the Bedrock endpoint you want to call, the name of connection you created in the previous step, and the name of the eval you want to run.\n",
    "\n",
    "Supported evals are the following: `boolq`, `gsm8k`, `hellaswag`, `mmlu_humanities`, `mmlu_other`, `mmlu_social_sciences`, `mmlu_stem`, `openbookqa`, `piqa`, `social_iqa`, `winogrande`.\n",
    "\n",
    "You can also set the sample ratio, the fraction of the selected dataset to run for the eval.\n",
    "\n",
    "**\\*Warning\\***: Many datasets contain thousands of examples which can lead to high endpoint usage costs. We advise starting with a small sample ratio (e.g., 1%) to verify the pipeline and then increasing the ratio if desired. "
   ]
  },
  {
   "cell_type": "code",
   "execution_count": 1,
   "id": "7ce3f8a4-ce03-462b-89fa-19cac827c30c",
   "metadata": {},
   "outputs": [],
   "source": [
    "# AzureML settings\n",
    "subscription_id = '72c03bf3-4e69-41af-9532-dfcdc3eefef4'\n",
    "resource_group = 'aml-benchmarking'\n",
    "workspace_name = 'aml-benchmarking-rd'\n",
    "experiment_name = 'benchmark-claude-v2_1'\n",
    "compute_name = 'cpu-cluster-benchmarking'\n",
    "\n",
    "# Eval config values\n",
    "eval_name = 'human_eval'\n",
    "bedrock_endpoint_url = 'https://bedrock-runtime.us-east-1.amazonaws.com/model/anthropic.claude-v2:1/invoke'\n",
    "connection_name = 'bedrock-test'\n",
    "\n",
    "# Sample ratio - what fraction of the dataset to run for the eval? \n",
    "# **WARNING** be aware of endpoint costs!\n",
    "sample_ratio = 0.1"
   ]
  },
  {
   "cell_type": "markdown",
   "id": "2cdbe9be-df54-4035-b7a6-f6f8677f16dc",
   "metadata": {},
   "source": [
    "Run the following cell to get an `MLClient` for communicating with your Workspace:"
   ]
  },
  {
   "cell_type": "code",
   "execution_count": 2,
   "id": "25f47da9-5c31-4729-a233-cece290415f9",
   "metadata": {},
   "outputs": [],
   "source": [
    "from azure.identity import DefaultAzureCredential\n",
    "from azure.ai.ml import MLClient\n",
    "\n",
    "# client for AzureML Workspace actions\n",
    "ml_client = MLClient(\n",
    "    credential=DefaultAzureCredential(),\n",
    "    subscription_id=subscription_id,\n",
    "    resource_group_name=resource_group,\n",
    "    workspace_name=workspace_name\n",
    ")"
   ]
  },
  {
   "cell_type": "markdown",
   "id": "2e4bfaa2-fd99-4850-a9c4-8838c4ef9313",
   "metadata": {},
   "source": [
    "Finally, to launch the evaluation pipeline job, run the following:"
   ]
  },
  {
   "cell_type": "code",
   "execution_count": 4,
   "id": "3e4c5468-7585-481e-bb20-ad91373cac6c",
   "metadata": {},
   "outputs": [
    {
     "name": "stderr",
     "output_type": "stream",
     "text": [
      "Class AutoDeleteSettingSchema: This is an experimental class, and may change at any time. Please see https://aka.ms/azuremlexperimental for more information.\n",
      "Class AutoDeleteConditionSchema: This is an experimental class, and may change at any time. Please see https://aka.ms/azuremlexperimental for more information.\n",
      "Class BaseAutoDeleteSettingSchema: This is an experimental class, and may change at any time. Please see https://aka.ms/azuremlexperimental for more information.\n",
      "Class IntellectualPropertySchema: This is an experimental class, and may change at any time. Please see https://aka.ms/azuremlexperimental for more information.\n",
      "Class ProtectionLevelSchema: This is an experimental class, and may change at any time. Please see https://aka.ms/azuremlexperimental for more information.\n",
      "Class BaseIntellectualPropertySchema: This is an experimental class, and may change at any time. Please see https://aka.ms/azuremlexperimental for more information.\n"
     ]
    },
    {
     "data": {
      "text/html": [
       "<table style=\"width:100%\"><tr><th>Experiment</th><th>Name</th><th>Type</th><th>Status</th><th>Details Page</th></tr><tr><td>benchmark-claude-v2_1</td><td>frank_parrot_zd03d7qvnl</td><td>pipeline</td><td>Preparing</td><td><a href=\"https://ml.azure.com/runs/frank_parrot_zd03d7qvnl?wsid=/subscriptions/72c03bf3-4e69-41af-9532-dfcdc3eefef4/resourcegroups/aml-benchmarking/workspaces/aml-benchmarking-rd&amp;tid=72f988bf-86f1-41af-91ab-2d7cd011db47\" target=\"_blank\" rel=\"noopener\">Link to Azure Machine Learning studio</a></td></tr></table>"
      ],
      "text/plain": [
       "PipelineJob({'inputs': {'endpoint_url': <azure.ai.ml.entities._job.pipeline._io.base.PipelineInput object at 0x000001FB67C8AF50>, 'ws_connection_name': <azure.ai.ml.entities._job.pipeline._io.base.PipelineInput object at 0x000001FB67C8AF20>, 'payload_pattern': <azure.ai.ml.entities._job.pipeline._io.base.PipelineInput object at 0x000001FB67C8AD70>, 'sample_ratio': <azure.ai.ml.entities._job.pipeline._io.base.PipelineInput object at 0x000001FB67C8ADA0>}, 'outputs': {}, 'jobs': {}, 'component': PipelineComponent({'intellectual_property': None, 'auto_increment_version': False, 'source': 'REMOTE.WORKSPACE.JOB', 'is_anonymous': True, 'auto_delete_setting': None, 'name': 'azureml_anonymous', 'description': 'Claude eval on HumanEval', 'tags': {}, 'properties': {}, 'print_as_yaml': True, 'id': None, 'Resource__source_path': None, 'base_path': 'C:\\\\Users\\\\erwright\\\\Source\\\\azureml-examples\\\\sdk\\\\python\\\\foundation-models\\\\anthropic', 'creation_context': None, 'serialize': <msrest.serialization.Serializer object at 0x000001FB67C8AE00>, 'version': '1', 'latest_version': None, 'schema': None, 'type': 'pipeline', 'display_name': 'human_eval_claude', 'is_deterministic': None, 'inputs': {'endpoint_url': {}, 'ws_connection_name': {}, 'payload_pattern': {}, 'sample_ratio': {}}, 'outputs': {}, 'yaml_str': None, 'other_parameter': {}, 'jobs': {'downloader': Command({'parameters': {}, 'init': False, 'name': 'downloader', 'type': 'command', 'status': None, 'log_files': None, 'description': None, 'tags': {}, 'properties': {}, 'print_as_yaml': True, 'id': None, 'Resource__source_path': None, 'base_path': 'C:\\\\Users\\\\erwright\\\\Source\\\\azureml-examples\\\\sdk\\\\python\\\\foundation-models\\\\anthropic', 'creation_context': None, 'serialize': <msrest.serialization.Serializer object at 0x000001FB67CBCEE0>, 'allowed_keys': {}, 'key_restriction': False, 'logger': <Logger attr_dict (WARNING)>, 'display_name': None, 'experiment_name': None, 'compute': None, 'services': None, 'comment': None, 'job_inputs': {'dataset_name': 'openai_humaneval', 'split': 'test'}, 'job_outputs': {'output_dataset': {'type': 'uri_folder'}}, 'inputs': {'dataset_name': <azure.ai.ml.entities._job.pipeline._io.base.NodeInput object at 0x000001FB67CBC970>, 'split': <azure.ai.ml.entities._job.pipeline._io.base.NodeInput object at 0x000001FB67CBCFD0>}, 'outputs': {'output_dataset': <azure.ai.ml.entities._job.pipeline._io.base.NodeOutput object at 0x000001FB67CBCF40>}, 'component': 'azureml://registries/azureml/components/dataset_downloader/labels/latest', 'referenced_control_flow_node_instance_id': None, 'kwargs': {'services': None}, 'instance_id': '6eeaaed8-adcf-4034-bee0-1f1312ed4a03', 'source': 'REMOTE.REGISTRY', 'validate_required_input_not_provided': True, 'limits': <azure.ai.ml.entities._job.job_limits.CommandJobLimits object at 0x000001FB67CBCD60>, 'identity': None, 'distribution': None, 'environment_variables': {}, 'environment': None, 'resources': None, 'queue_settings': None, 'swept': False}), 'sampler': Command({'parameters': {}, 'init': False, 'name': 'sampler', 'type': 'command', 'status': None, 'log_files': None, 'description': None, 'tags': {}, 'properties': {}, 'print_as_yaml': True, 'id': None, 'Resource__source_path': None, 'base_path': 'C:\\\\Users\\\\erwright\\\\Source\\\\azureml-examples\\\\sdk\\\\python\\\\foundation-models\\\\anthropic', 'creation_context': None, 'serialize': <msrest.serialization.Serializer object at 0x000001FB67CBCDF0>, 'allowed_keys': {}, 'key_restriction': False, 'logger': <Logger attr_dict (WARNING)>, 'display_name': None, 'experiment_name': None, 'compute': None, 'services': None, 'comment': None, 'job_inputs': {'sampling_style': 'head', 'random_seed': '0', 'dataset': '${{parent.jobs.downloader.outputs.output_dataset}}', 'sampling_ratio': '${{parent.inputs.sample_ratio}}'}, 'job_outputs': {'output_dataset': {'type': 'uri_file', 'path': 'azureml://datastores/${{default_datastore}}/paths/azureml/${{name}}/${{output_name}}.jsonl'}}, 'inputs': {'sampling_style': <azure.ai.ml.entities._job.pipeline._io.base.NodeInput object at 0x000001FB67CBCE50>, 'random_seed': <azure.ai.ml.entities._job.pipeline._io.base.NodeInput object at 0x000001FB67CBCB80>, 'dataset': <azure.ai.ml.entities._job.pipeline._io.base.NodeInput object at 0x000001FB67CBCB20>, 'sampling_ratio': <azure.ai.ml.entities._job.pipeline._io.base.NodeInput object at 0x000001FB67CBCBB0>}, 'outputs': {'output_dataset': <azure.ai.ml.entities._job.pipeline._io.base.NodeOutput object at 0x000001FB67CBCEB0>}, 'component': 'azureml://registries/azureml/components/dataset_sampler/labels/latest', 'referenced_control_flow_node_instance_id': None, 'kwargs': {'services': None}, 'instance_id': 'ea65c1bf-4e40-44bf-b40f-522217bdedb7', 'source': 'REMOTE.REGISTRY', 'validate_required_input_not_provided': True, 'limits': <azure.ai.ml.entities._job.job_limits.CommandJobLimits object at 0x000001FB67CBCD90>, 'identity': None, 'distribution': None, 'environment_variables': {}, 'environment': None, 'resources': None, 'queue_settings': None, 'swept': False}), 'preprocessor': Command({'parameters': {}, 'init': False, 'name': 'preprocessor', 'type': 'command', 'status': None, 'log_files': None, 'description': None, 'tags': {}, 'properties': {}, 'print_as_yaml': True, 'id': None, 'Resource__source_path': None, 'base_path': 'C:\\\\Users\\\\erwright\\\\Source\\\\azureml-examples\\\\sdk\\\\python\\\\foundation-models\\\\anthropic', 'creation_context': None, 'serialize': <msrest.serialization.Serializer object at 0x000001FB67CBDD80>, 'allowed_keys': {}, 'key_restriction': False, 'logger': <Logger attr_dict (WARNING)>, 'display_name': None, 'experiment_name': None, 'compute': None, 'services': None, 'comment': None, 'job_inputs': {'template_input': '{\"task_id\":{{task_id}}, \\n\"prompt\": {{prompt}}}', 'dataset': '${{parent.jobs.sampler.outputs.output_dataset}}'}, 'job_outputs': {'output_dataset': {'type': 'uri_file', 'path': 'azureml://datastores/${{default_datastore}}/paths/azureml/${{name}}/${{output_name}}.jsonl'}}, 'inputs': {'template_input': <azure.ai.ml.entities._job.pipeline._io.base.NodeInput object at 0x000001FB67CBCC70>, 'dataset': <azure.ai.ml.entities._job.pipeline._io.base.NodeInput object at 0x000001FB67CBCA60>}, 'outputs': {'output_dataset': <azure.ai.ml.entities._job.pipeline._io.base.NodeOutput object at 0x000001FB67CBE650>}, 'component': 'azureml://registries/azureml/components/dataset_preprocessor/labels/latest', 'referenced_control_flow_node_instance_id': None, 'kwargs': {'services': None}, 'instance_id': 'dea9fa98-46f5-45c1-9c5c-49a993e569f6', 'source': 'REMOTE.REGISTRY', 'validate_required_input_not_provided': True, 'limits': <azure.ai.ml.entities._job.job_limits.CommandJobLimits object at 0x000001FB67CBD120>, 'identity': None, 'distribution': None, 'environment_variables': {}, 'environment': None, 'resources': None, 'queue_settings': None, 'swept': False}), 'promptcrafter': Command({'parameters': {}, 'init': False, 'name': 'promptcrafter', 'type': 'command', 'status': None, 'log_files': None, 'description': None, 'tags': {}, 'properties': {}, 'print_as_yaml': True, 'id': None, 'Resource__source_path': None, 'base_path': 'C:\\\\Users\\\\erwright\\\\Source\\\\azureml-examples\\\\sdk\\\\python\\\\foundation-models\\\\anthropic', 'creation_context': None, 'serialize': <msrest.serialization.Serializer object at 0x000001FB67CBC670>, 'allowed_keys': {}, 'key_restriction': False, 'logger': <Logger attr_dict (WARNING)>, 'display_name': None, 'experiment_name': None, 'compute': None, 'services': None, 'comment': None, 'job_inputs': {'prompt_type': 'completions', 'prefix': 'You are given a function definition with comments inside it describing what the function must do. You are asked to fill in the function body with code that satisfies the comments. Your function must pass the test functions given in the input. Output must be code only with no explanations. Output must be only code beginning with [BEGIN] and ending with [DONE] tags. Make sure to include the function definition statement and the function body.\\n\\nHuman:', 'prompt_pattern': '{{prompt}}\\n\\nAssistant:', 'n_shots': '0', 'output_pattern': '{{task_id}}', 'test_data': '${{parent.jobs.preprocessor.outputs.output_dataset}}'}, 'job_outputs': {'output_file': {'type': 'uri_file', 'path': 'azureml://datastores/${{default_datastore}}/paths/azureml/${{name}}/${{output_name}}.jsonl'}}, 'inputs': {'prompt_type': <azure.ai.ml.entities._job.pipeline._io.base.NodeInput object at 0x000001FB67CBC8B0>, 'prefix': <azure.ai.ml.entities._job.pipeline._io.base.NodeInput object at 0x000001FB67CBC3D0>, 'prompt_pattern': <azure.ai.ml.entities._job.pipeline._io.base.NodeInput object at 0x000001FB67CBC5E0>, 'n_shots': <azure.ai.ml.entities._job.pipeline._io.base.NodeInput object at 0x000001FB67CBC370>, 'output_pattern': <azure.ai.ml.entities._job.pipeline._io.base.NodeInput object at 0x000001FB67CBC9A0>, 'test_data': <azure.ai.ml.entities._job.pipeline._io.base.NodeInput object at 0x000001FB67CBC580>}, 'outputs': {'output_file': <azure.ai.ml.entities._job.pipeline._io.base.NodeOutput object at 0x000001FB67CBCBE0>}, 'component': 'azureml://registries/azureml-preview-test1/components/prompt_crafter/labels/latest', 'referenced_control_flow_node_instance_id': None, 'kwargs': {'services': None}, 'instance_id': '28378d32-d482-4ab0-896d-23d90f944279', 'source': 'REMOTE.REGISTRY', 'validate_required_input_not_provided': True, 'limits': <azure.ai.ml.entities._job.job_limits.CommandJobLimits object at 0x000001FB67CBC280>, 'identity': None, 'distribution': None, 'environment_variables': {}, 'environment': None, 'resources': None, 'queue_settings': None, 'swept': False}), 'endpoint': Pipeline({'init': False, 'name': 'endpoint', 'type': 'pipeline', 'status': None, 'log_files': None, 'description': None, 'tags': {}, 'properties': {}, 'print_as_yaml': True, 'id': None, 'Resource__source_path': None, 'base_path': 'C:\\\\Users\\\\erwright\\\\Source\\\\azureml-examples\\\\sdk\\\\python\\\\foundation-models\\\\anthropic', 'creation_context': None, 'serialize': <msrest.serialization.Serializer object at 0x000001FB67CBC100>, 'allowed_keys': {}, 'key_restriction': False, 'logger': <Logger attr_dict (WARNING)>, 'display_name': None, 'experiment_name': None, 'compute': None, 'services': None, 'comment': None, 'job_inputs': {'is_performance_test': 'False', 'label_column_name': 'completion', 'handle_response_failure': 'use_fallback', 'ensure_ascii': 'False', 'initial_worker_count': '1', 'max_worker_count': '1', 'instance_count': '1', 'max_concurrency_per_instance': '1', 'debug_mode': 'False', 'input_dataset': '${{parent.jobs.promptcrafter.outputs.output_file}}', 'batch_input_pattern': '${{parent.inputs.payload_pattern}}', 'endpoint_url': '${{parent.inputs.endpoint_url}}', 'connections_name': '${{parent.inputs.ws_connection_name}}'}, 'job_outputs': {'predictions': {'type': 'uri_file', 'path': 'azureml://datastores/${{default_datastore}}/paths/azureml/${{name}}/${{output_name}}.jsonl'}, 'performance_metadata': {'type': 'uri_file', 'path': 'azureml://datastores/${{default_datastore}}/paths/azureml/${{name}}/${{output_name}}.jsonl'}, 'ground_truth': {'type': 'uri_file', 'path': 'azureml://datastores/${{default_datastore}}/paths/azureml/${{name}}/${{output_name}}.jsonl'}}, 'inputs': {'is_performance_test': <azure.ai.ml.entities._job.pipeline._io.base.NodeInput object at 0x000001FB67CBC880>, 'label_column_name': <azure.ai.ml.entities._job.pipeline._io.base.NodeInput object at 0x000001FB67C8B550>, 'handle_response_failure': <azure.ai.ml.entities._job.pipeline._io.base.NodeInput object at 0x000001FB67C8B580>, 'ensure_ascii': <azure.ai.ml.entities._job.pipeline._io.base.NodeInput object at 0x000001FB67C8B9A0>, 'initial_worker_count': <azure.ai.ml.entities._job.pipeline._io.base.NodeInput object at 0x000001FB67C8B6A0>, 'max_worker_count': <azure.ai.ml.entities._job.pipeline._io.base.NodeInput object at 0x000001FB67C8B6D0>, 'instance_count': <azure.ai.ml.entities._job.pipeline._io.base.NodeInput object at 0x000001FB67C8B490>, 'max_concurrency_per_instance': <azure.ai.ml.entities._job.pipeline._io.base.NodeInput object at 0x000001FB67C8B8E0>, 'debug_mode': <azure.ai.ml.entities._job.pipeline._io.base.NodeInput object at 0x000001FB67C8B5E0>, 'input_dataset': <azure.ai.ml.entities._job.pipeline._io.base.NodeInput object at 0x000001FB67C8B970>, 'batch_input_pattern': <azure.ai.ml.entities._job.pipeline._io.base.NodeInput object at 0x000001FB67C8B910>, 'endpoint_url': <azure.ai.ml.entities._job.pipeline._io.base.NodeInput object at 0x000001FB67C8B760>, 'connections_name': <azure.ai.ml.entities._job.pipeline._io.base.NodeInput object at 0x000001FB67C8B790>}, 'outputs': {'predictions': <azure.ai.ml.entities._job.pipeline._io.base.NodeOutput object at 0x000001FB67CBC460>, 'performance_metadata': <azure.ai.ml.entities._job.pipeline._io.base.NodeOutput object at 0x000001FB67C8B7C0>, 'ground_truth': <azure.ai.ml.entities._job.pipeline._io.base.NodeOutput object at 0x000001FB67C8B7F0>}, 'component': 'azureml://registries/azureml-preview-test1/components/batch_benchmark_inference_claude/labels/latest', 'referenced_control_flow_node_instance_id': None, 'kwargs': {}, 'instance_id': '4de371f3-e8f2-4e2d-bb6c-691738f2d124', 'source': 'REMOTE.REGISTRY', 'validate_required_input_not_provided': True, 'settings': None}), 'postprocessor': Command({'parameters': {}, 'init': False, 'name': 'postprocessor', 'type': 'command', 'status': None, 'log_files': None, 'description': None, 'tags': {}, 'properties': {}, 'print_as_yaml': True, 'id': None, 'Resource__source_path': None, 'base_path': 'C:\\\\Users\\\\erwright\\\\Source\\\\azureml-examples\\\\sdk\\\\python\\\\foundation-models\\\\anthropic', 'creation_context': None, 'serialize': <msrest.serialization.Serializer object at 0x000001FB67C8BC40>, 'allowed_keys': {}, 'key_restriction': False, 'logger': <Logger attr_dict (WARNING)>, 'display_name': None, 'experiment_name': None, 'compute': None, 'services': None, 'comment': None, 'job_inputs': {'ground_truth_column_name': 'completion', 'prediction_column_name': 'prediction', 'regex_expr': '\\\\[BEGIN\\\\](.*?)\\\\[DONE\\\\]', 'ground_truth_dataset': '${{parent.jobs.endpoint.outputs.ground_truth}}', 'prediction_dataset': '${{parent.jobs.endpoint.outputs.predictions}}'}, 'job_outputs': {'output_dataset_result': {'type': 'uri_file', 'path': 'azureml://datastores/${{default_datastore}}/paths/azureml/${{name}}/${{output_name}}.jsonl'}}, 'inputs': {'ground_truth_column_name': <azure.ai.ml.entities._job.pipeline._io.base.NodeInput object at 0x000001FB67C8BD60>, 'prediction_column_name': <azure.ai.ml.entities._job.pipeline._io.base.NodeInput object at 0x000001FB67C8BF70>, 'regex_expr': <azure.ai.ml.entities._job.pipeline._io.base.NodeInput object at 0x000001FB67C8BC10>, 'ground_truth_dataset': <azure.ai.ml.entities._job.pipeline._io.base.NodeInput object at 0x000001FB67C8B820>, 'prediction_dataset': <azure.ai.ml.entities._job.pipeline._io.base.NodeInput object at 0x000001FB67C8BBE0>}, 'outputs': {'output_dataset_result': <azure.ai.ml.entities._job.pipeline._io.base.NodeOutput object at 0x000001FB67C8BEE0>}, 'component': 'azureml://registries/azureml/components/inference_postprocessor/labels/latest', 'referenced_control_flow_node_instance_id': None, 'kwargs': {'services': None}, 'instance_id': '2847d6a0-38e3-4ca1-b485-9ac0e70f34d5', 'source': 'REMOTE.REGISTRY', 'validate_required_input_not_provided': True, 'limits': <azure.ai.ml.entities._job.job_limits.CommandJobLimits object at 0x000001FB67C8BFD0>, 'identity': None, 'distribution': None, 'environment_variables': {}, 'environment': None, 'resources': None, 'queue_settings': None, 'swept': False}), 'quality': Command({'parameters': {}, 'init': False, 'name': 'quality', 'type': 'command', 'status': None, 'log_files': None, 'description': None, 'tags': {}, 'properties': {}, 'print_as_yaml': True, 'id': None, 'Resource__source_path': None, 'base_path': 'C:\\\\Users\\\\erwright\\\\Source\\\\azureml-examples\\\\sdk\\\\python\\\\foundation-models\\\\anthropic', 'creation_context': None, 'serialize': <msrest.serialization.Serializer object at 0x000001FB67C8B8B0>, 'allowed_keys': {}, 'key_restriction': False, 'logger': <Logger attr_dict (WARNING)>, 'display_name': None, 'experiment_name': None, 'compute': None, 'services': None, 'comment': None, 'job_inputs': {'task': 'text-generation', 'ground_truth_column_name': ',ground_truth', 'prediction_column_name': 'prediction', 'evaluation_config_params': '{\"sub_task\": \"code\"}', 'ground_truth': '${{parent.jobs.postprocessor.outputs.output_dataset_result}}', 'prediction': '${{parent.jobs.postprocessor.outputs.output_dataset_result}}'}, 'job_outputs': {'evaluation_result': {'type': 'uri_folder'}}, 'inputs': {'task': <azure.ai.ml.entities._job.pipeline._io.base.NodeInput object at 0x000001FB67C8BB80>, 'ground_truth_column_name': <azure.ai.ml.entities._job.pipeline._io.base.NodeInput object at 0x000001FB67C8BA60>, 'prediction_column_name': <azure.ai.ml.entities._job.pipeline._io.base.NodeInput object at 0x000001FB67C8B700>, 'evaluation_config_params': <azure.ai.ml.entities._job.pipeline._io.base.NodeInput object at 0x000001FB67C8AD40>, 'ground_truth': <azure.ai.ml.entities._job.pipeline._io.base.NodeInput object at 0x000001FB67C8B2E0>, 'prediction': <azure.ai.ml.entities._job.pipeline._io.base.NodeInput object at 0x000001FB67C8B2B0>}, 'outputs': {'evaluation_result': <azure.ai.ml.entities._job.pipeline._io.base.NodeOutput object at 0x000001FB67C8B880>}, 'component': 'azureml://registries/azureml/components/compute_metrics/labels/latest', 'referenced_control_flow_node_instance_id': None, 'kwargs': {'services': None}, 'instance_id': '430a0ec3-fef5-4e6a-871a-94088dcda71f', 'source': 'REMOTE.REGISTRY', 'validate_required_input_not_provided': True, 'limits': <azure.ai.ml.entities._job.job_limits.CommandJobLimits object at 0x000001FB67C8B610>, 'identity': None, 'distribution': None, 'environment_variables': {}, 'environment': None, 'resources': None, 'queue_settings': None, 'swept': False}), 'aggregator': Command({'parameters': {}, 'init': False, 'name': 'aggregator', 'type': 'command', 'status': None, 'log_files': None, 'description': None, 'tags': {}, 'properties': {}, 'print_as_yaml': True, 'id': None, 'Resource__source_path': None, 'base_path': 'C:\\\\Users\\\\erwright\\\\Source\\\\azureml-examples\\\\sdk\\\\python\\\\foundation-models\\\\anthropic', 'creation_context': None, 'serialize': <msrest.serialization.Serializer object at 0x000001FB67C8B130>, 'allowed_keys': {}, 'key_restriction': False, 'logger': <Logger attr_dict (WARNING)>, 'display_name': None, 'experiment_name': None, 'compute': None, 'services': None, 'comment': None, 'job_inputs': {'quality_metrics': '${{parent.jobs.quality.outputs.evaluation_result}}'}, 'job_outputs': {'benchmark_result': {'type': 'uri_file', 'path': 'azureml://datastores/${{default_datastore}}/paths/azureml/${{name}}/${{output_name}}.json'}}, 'inputs': {'quality_metrics': <azure.ai.ml.entities._job.pipeline._io.base.NodeInput object at 0x000001FB67C8B190>}, 'outputs': {'benchmark_result': <azure.ai.ml.entities._job.pipeline._io.base.NodeOutput object at 0x000001FB67C8B160>}, 'component': 'azureml://registries/azureml/components/benchmark_result_aggregator/labels/latest', 'referenced_control_flow_node_instance_id': None, 'kwargs': {'services': None}, 'instance_id': '33ae91f5-c47b-444c-832d-4cb235f28320', 'source': 'REMOTE.REGISTRY', 'validate_required_input_not_provided': True, 'limits': <azure.ai.ml.entities._job.job_limits.CommandJobLimits object at 0x000001FB67C8AE60>, 'identity': None, 'distribution': None, 'environment_variables': {}, 'environment': None, 'resources': None, 'queue_settings': None, 'swept': False})}, 'job_types': {'command': 7, 'pipeline': 1}, 'job_sources': {'REMOTE.REGISTRY': 8}, 'source_job_id': None}), 'type': 'pipeline', 'status': 'Preparing', 'log_files': None, 'name': 'frank_parrot_zd03d7qvnl', 'description': 'Claude eval on HumanEval', 'tags': {}, 'properties': {'mlflow.source.git.repoURL': 'https://github.com/Azure/azureml-examples.git', 'mlflow.source.git.branch': 'erwright/add-anthropic-claude-eval-notebook-and-pipelines', 'mlflow.source.git.commit': '3663406516d08f9c9bf780eb6a18c5e339916eaf', 'azureml.git.dirty': 'True', 'azureml.DevPlatv2': 'true', 'azureml.DatasetAccessMode': 'Asset', 'azureml.runsource': 'azureml.PipelineRun', 'runSource': 'MFE', 'runType': 'HTTP', 'azureml.parameters': '{\"endpoint_url\":\"https://bedrock-runtime.us-east-1.amazonaws.com/model/anthropic.claude-v2:1/invoke\",\"ws_connection_name\":\"bedrock-test\",\"payload_pattern\":\"{\\\\\"prompt\\\\\": \\\\\"###<prompt>\\\\\", \\\\\"temperature\\\\\": 0.0, \\\\\"max_tokens_to_sample\\\\\": 500, \\\\\"top_p\\\\\": 1.0}\",\"sample_ratio\":\"0.1\"}', 'azureml.continue_on_step_failure': 'True', 'azureml.continue_on_failed_optional_input': 'True', 'azureml.enforceRerun': 'False', 'azureml.defaultComputeName': 'cpu-cluster-benchmarking', 'azureml.defaultDataStoreName': 'workspaceblobstore', 'azureml.pipelineComponent': 'pipelinerun'}, 'print_as_yaml': True, 'id': '/subscriptions/72c03bf3-4e69-41af-9532-dfcdc3eefef4/resourceGroups/aml-benchmarking/providers/Microsoft.MachineLearningServices/workspaces/aml-benchmarking-rd/jobs/frank_parrot_zd03d7qvnl', 'Resource__source_path': None, 'base_path': 'C:\\\\Users\\\\erwright\\\\Source\\\\azureml-examples\\\\sdk\\\\python\\\\foundation-models\\\\anthropic', 'creation_context': <azure.ai.ml.entities._system_data.SystemData object at 0x000001FB67C8B010>, 'serialize': <msrest.serialization.Serializer object at 0x000001FB67C8A920>, 'display_name': 'human_eval_claude', 'experiment_name': 'benchmark-claude-v2_1', 'compute': None, 'services': {'Tracking': {'endpoint': 'azureml://eastus.api.azureml.ms/mlflow/v1.0/subscriptions/72c03bf3-4e69-41af-9532-dfcdc3eefef4/resourceGroups/aml-benchmarking/providers/Microsoft.MachineLearningServices/workspaces/aml-benchmarking-rd?', 'type': 'Tracking'}, 'Studio': {'endpoint': 'https://ml.azure.com/runs/frank_parrot_zd03d7qvnl?wsid=/subscriptions/72c03bf3-4e69-41af-9532-dfcdc3eefef4/resourcegroups/aml-benchmarking/workspaces/aml-benchmarking-rd&tid=72f988bf-86f1-41af-91ab-2d7cd011db47', 'type': 'Studio'}}, 'settings': {}, 'identity': None, 'default_code': None, 'default_environment': None})"
      ]
     },
     "execution_count": 4,
     "metadata": {},
     "output_type": "execute_result"
    }
   ],
   "source": [
    "from azure.ai.ml import load_job\n",
    "\n",
    "# load the pipeline from the yaml def\n",
    "pipeline_job = load_job(f'./evaluation_pipelines/{eval_name}.yaml')\n",
    "\n",
    "# Set pipeline job inputs\n",
    "pipeline_job.settings.default_compute = compute_name\n",
    "pipeline_job.inputs.endpoint_url = bedrock_endpoint_url\n",
    "pipeline_job.inputs.ws_connection_name = connection_name\n",
    "pipeline_job.inputs.sample_ratio = sample_ratio\n",
    "\n",
    "# Start the job in the Workspace\n",
    "returned_job = ml_client.jobs.create_or_update(\n",
    "    pipeline_job,\n",
    "    experiment_name=experiment_name\n",
    ")\n",
    "returned_job"
   ]
  },
  {
   "cell_type": "markdown",
   "id": "095005d9-1deb-4097-a718-4059a335ec09",
   "metadata": {},
   "source": [
    "Run the next cell to stream the job. Notebook execution will be paused until the job finishes."
   ]
  },
  {
   "cell_type": "code",
   "execution_count": 4,
   "id": "1376aa46-725d-4d6c-8725-3a2d4d52bdfc",
   "metadata": {},
   "outputs": [
    {
     "name": "stdout",
     "output_type": "stream",
     "text": [
      "RunId: keen_market_04vmxb0q1g\n",
      "Web View: https://ml.azure.com/runs/keen_market_04vmxb0q1g?wsid=/subscriptions/72c03bf3-4e69-41af-9532-dfcdc3eefef4/resourcegroups/aml-benchmarking/workspaces/aml-benchmarking-rd\n",
      "\n",
      "Execution Summary\n",
      "=================\n",
      "RunId: keen_market_04vmxb0q1g\n",
      "Web View: https://ml.azure.com/runs/keen_market_04vmxb0q1g?wsid=/subscriptions/72c03bf3-4e69-41af-9532-dfcdc3eefef4/resourcegroups/aml-benchmarking/workspaces/aml-benchmarking-rd\n",
      "\n"
     ]
    }
   ],
   "source": [
    "# Wait until the job completes\n",
    "ml_client.jobs.stream(returned_job.name)"
   ]
  },
  {
   "cell_type": "markdown",
   "id": "07fa2c79-f875-4c4f-8f09-37158b56bdcd",
   "metadata": {},
   "source": [
    "## Retrieve accuracy scores from the run\n",
    "When the pipeline finishes, you can retrieve evaluation metrics from the run via mlflow. The primary measure of accuracy for the evals is `mean_exact_match`, with the exception of human_eval which uses `pass@1`. \n",
    "\n",
    "Mean exact match is the proportion of model predictions that exactly match the corresponding correct answers. Thus, it is applicable to question answering evaluations that are multiple choice or have a single, correct answer. The pass@1 metric is used for evaluating code generation and is the proportion of model generated code solutions that pass a set of unit tests given in the eval dataset. "
   ]
  },
  {
   "cell_type": "code",
   "execution_count": 5,
   "id": "299bf8ea-49ab-44c3-96e6-51902fa03df4",
   "metadata": {},
   "outputs": [
    {
     "name": "stdout",
     "output_type": "stream",
     "text": [
      "Accuracy metric name: mean_exact_match\n",
      "Accuracy metric value: 0.8333333333333334\n"
     ]
    }
   ],
   "source": [
    "import mlflow\n",
    "\n",
    "accuracy_metric_name = 'mean_exact_match' if eval_name != 'human_eval' else 'pass@1'\n",
    "\n",
    "mlflow_tracking_uri = ml_client.workspaces.get(ml_client.workspace_name).mlflow_tracking_uri\n",
    "mlflow.set_tracking_uri(mlflow_tracking_uri)\n",
    "\n",
    "run = mlflow.get_run(run_id=returned_job.name)\n",
    "metric_val = run.data.metrics[accuracy_metric_name]\n",
    "\n",
    "print(f'Accuracy metric name: {accuracy_metric_name}')\n",
    "print(f'Accuracy metric value: {metric_val}')"
   ]
  },
  {
   "cell_type": "code",
   "execution_count": null,
   "id": "a8b02e09-c7aa-4014-a855-99e3180be2b0",
   "metadata": {},
   "outputs": [],
   "source": []
  }
 ],
 "metadata": {
  "kernelspec": {
   "display_name": "AzureML SDK v2",
   "language": "python",
   "name": "azureml_sdk_v2"
  },
  "language_info": {
   "codemirror_mode": {
    "name": "ipython",
    "version": 3
   },
   "file_extension": ".py",
   "mimetype": "text/x-python",
   "name": "python",
   "nbconvert_exporter": "python",
   "pygments_lexer": "ipython3",
   "version": "3.10.13"
  }
 },
 "nbformat": 4,
 "nbformat_minor": 5
}
