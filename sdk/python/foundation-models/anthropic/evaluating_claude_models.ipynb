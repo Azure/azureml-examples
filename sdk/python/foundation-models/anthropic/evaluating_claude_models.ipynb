{
 "cells": [
  {
   "cell_type": "markdown",
   "id": "c90af50b-a3a3-42ea-b855-943777df2bee",
   "metadata": {},
   "source": [
    "# Evaluating Claude models with AzureML\n",
    "\n",
    "In this notebook, you will learn how to run evaluations of Anthropic's Claude model using the AzureML SDK. Along with this notebook, we've included a preconfigured set of 12 evaluations using well-known, public datasets (e.g., MMLU, HellaSwag, Winogrande).\n",
    "\n",
    "Please see the [Azure AI Leaderboard](https://ai.azure.com/explore/leaderboard) for other supported model benchmarks and for more details on the eval datasets.\n",
    "\n",
    "## Prerequistes\n",
    "- An Azure account with an active subscription - [Create an account for free](https://azure.microsoft.com/free/?WT.mc_id=A261C142F)\n",
    "- An Azure ML workspace with compute cluster - [Configure workspace](../../configuration.ipynb)\n",
    "- Installed Azure Machine Learning Python SDK v2 - [install instructions](../../../README.md) - check the getting started section\n",
    "- A python environment with [mlflow](https://learn.microsoft.com/en-us/azure/machine-learning/how-to-use-mlflow-configure-tracking?view=azureml-api-2&tabs=python%2Cmlflow) for retrieving eval metrics\n",
    "- Access keys for Claude endpoints on [Amazon Web Services Bedrock platform](https://aws.amazon.com/bedrock/claude/)  \n",
    "\n",
    "## Configuring a Workspace connection for Bedrock access\n",
    "You will use a Workspace connection to securely store Bedrock access keys. Follow the steps below to create a custom-type connection:\n",
    "- Follow directions for [creating a custom connection in the AzureML studio UI](https://learn.microsoft.com/en-us/azure/machine-learning/prompt-flow/tools-reference/python-tool?view=azureml-api-2#create-a-custom-connection)\n",
    "- Add the following two key-value pairs to the custom connection:\n",
    "  1. A key named `AccessKey` with a value containing your AWS access key\n",
    "  2. A key named `SecretKey` with a value containing your AWS secret access key \n",
    "\n",
    "## Configuring and running an evaluation pipeline\n",
    "Please set global values in the following cell for your AzureML Workspace, the Bedrock endpoint you want to call, the name of connection you created in the previous step, and the name of the eval you want to run. Supported evals are the following: mmlu_humanities, \\<put others here as we verify them>.\n",
    "\n",
    "You can also set the sample ratio, the fraction of the selected dataset to run for the eval.\n",
    "\n",
    "**Warning**: Many datasets contain thousands of examples which can lead to high endpoint usage costs. We advise starting with a small sample ratio (e.g., 1%) to verify the pipeline and then increasing the ratio if desired. "
   ]
  },
  {
   "cell_type": "code",
   "execution_count": 20,
   "id": "7ce3f8a4-ce03-462b-89fa-19cac827c30c",
   "metadata": {},
   "outputs": [],
   "source": [
    "# AzureML settings\n",
    "subscription_id = '72c03bf3-4e69-41af-9532-dfcdc3eefef4'\n",
    "resource_group = 'aml-benchmarking'\n",
    "workspace_name = 'aml-benchmarking-rd'\n",
    "experiment_name = 'benchmark-claude-v2_1'\n",
    "compute_name = 'cpu-cluster-benchmarking'\n",
    "\n",
    "# Eval config values\n",
    "eval_name = 'mmlu_stem'\n",
    "bedrock_endpoint_url = 'https://bedrock-runtime.us-east-1.amazonaws.com/model/anthropic.claude-v2:1/invoke'\n",
    "connection_name = 'bedrock-test'\n",
    "\n",
    "# Sample ratio - what fraction of the dataset to run for the eval? \n",
    "# **WARNING** be aware of endpoint costs!\n",
    "sample_ratio = 0.01"
   ]
  },
  {
   "cell_type": "markdown",
   "id": "2cdbe9be-df54-4035-b7a6-f6f8677f16dc",
   "metadata": {},
   "source": [
    "Run the following cell to get an `MLClient` for communicating with your Workspace:"
   ]
  },
  {
   "cell_type": "code",
   "execution_count": 24,
   "id": "25f47da9-5c31-4729-a233-cece290415f9",
   "metadata": {},
   "outputs": [],
   "source": [
    "from azure.identity import DefaultAzureCredential\n",
    "from azure.ai.ml import MLClient\n",
    "\n",
    "# client for AzureML Workspace actions\n",
    "ml_client = MLClient(\n",
    "    credential=DefaultAzureCredential(),\n",
    "    subscription_id=subscription_id,\n",
    "    resource_group_name=resource_group,\n",
    "    workspace_name=workspace_name\n",
    ")"
   ]
  },
  {
   "cell_type": "markdown",
   "id": "2e4bfaa2-fd99-4850-a9c4-8838c4ef9313",
   "metadata": {},
   "source": [
    "Finally, to launch the evaluation pipeline job, run the following:"
   ]
  },
  {
   "cell_type": "code",
   "execution_count": 25,
   "id": "3e4c5468-7585-481e-bb20-ad91373cac6c",
   "metadata": {},
   "outputs": [
    {
     "data": {
      "text/html": [
       "<table style=\"width:100%\"><tr><th>Experiment</th><th>Name</th><th>Type</th><th>Status</th><th>Details Page</th></tr><tr><td>benchmark-claude-v2_1</td><td>sweet_actor_fps92km9m8</td><td>pipeline</td><td>Preparing</td><td><a href=\"https://ml.azure.com/runs/sweet_actor_fps92km9m8?wsid=/subscriptions/72c03bf3-4e69-41af-9532-dfcdc3eefef4/resourcegroups/aml-benchmarking/workspaces/aml-benchmarking-rd&amp;tid=72f988bf-86f1-41af-91ab-2d7cd011db47\" target=\"_blank\" rel=\"noopener\">Link to Azure Machine Learning studio</a></td></tr></table>"
      ],
      "text/plain": [
       "PipelineJob({'inputs': {'endpoint_url': <azure.ai.ml.entities._job.pipeline._io.base.PipelineInput object at 0x0000021C07762BC0>, 'ws_connection_name': <azure.ai.ml.entities._job.pipeline._io.base.PipelineInput object at 0x0000021C07762AD0>, 'payload_pattern': <azure.ai.ml.entities._job.pipeline._io.base.PipelineInput object at 0x0000021C07763BB0>, 'sample_ratio': <azure.ai.ml.entities._job.pipeline._io.base.PipelineInput object at 0x0000021C07762A10>}, 'outputs': {}, 'jobs': {}, 'component': PipelineComponent({'intellectual_property': None, 'auto_increment_version': False, 'source': 'REMOTE.WORKSPACE.JOB', 'is_anonymous': True, 'auto_delete_setting': None, 'name': 'azureml_anonymous', 'description': 'Claude eval on MMLU STEM', 'tags': {}, 'properties': {}, 'print_as_yaml': True, 'id': None, 'Resource__source_path': None, 'base_path': 'C:\\\\Users\\\\erwright\\\\Source\\\\azureml-examples\\\\sdk\\\\python\\\\foundation-models\\\\anthropic', 'creation_context': None, 'serialize': <msrest.serialization.Serializer object at 0x0000021C077627A0>, 'version': '1', 'latest_version': None, 'schema': None, 'type': 'pipeline', 'display_name': 'mmlu_stem_claude', 'is_deterministic': None, 'inputs': {'endpoint_url': {}, 'ws_connection_name': {}, 'payload_pattern': {}, 'sample_ratio': {}}, 'outputs': {}, 'yaml_str': None, 'other_parameter': {}, 'jobs': {'downloader': Command({'parameters': {}, 'init': False, 'name': 'downloader', 'type': 'command', 'status': None, 'log_files': None, 'description': None, 'tags': {}, 'properties': {}, 'print_as_yaml': True, 'id': None, 'Resource__source_path': None, 'base_path': 'C:\\\\Users\\\\erwright\\\\Source\\\\azureml-examples\\\\sdk\\\\python\\\\foundation-models\\\\anthropic', 'creation_context': None, 'serialize': <msrest.serialization.Serializer object at 0x0000021C07706590>, 'allowed_keys': {}, 'key_restriction': False, 'logger': <Logger attr_dict (WARNING)>, 'display_name': None, 'experiment_name': None, 'compute': None, 'services': None, 'comment': None, 'job_inputs': {'configuration': 'abstract_algebra,anatomy,astronomy,college_biology,college_chemistry,college_computer_science,college_mathematics,college_physics,computer_security,conceptual_physics,electrical_engineering,elementary_mathematics,high_school_biology,high_school_chemistry,high_school_computer_science,high_school_mathematics,high_school_physics,high_school_statistics,machine_learning', 'split': 'test', 'script_path': {'type': 'uri_file', 'path': 'https://raw.githubusercontent.com/Azure/azureml-assets/main/assets/aml-benchmark/scripts/data_loaders/mmlu.py'}}, 'job_outputs': {'output_dataset': {'type': 'uri_folder'}}, 'inputs': {'configuration': <azure.ai.ml.entities._job.pipeline._io.base.NodeInput object at 0x0000021C07707760>, 'split': <azure.ai.ml.entities._job.pipeline._io.base.NodeInput object at 0x0000021C07707AF0>, 'script_path': <azure.ai.ml.entities._job.pipeline._io.base.NodeInput object at 0x0000021C07707850>}, 'outputs': {'output_dataset': <azure.ai.ml.entities._job.pipeline._io.base.NodeOutput object at 0x0000021C07706050>}, 'component': 'azureml://registries/azureml/components/dataset_downloader/labels/latest', 'referenced_control_flow_node_instance_id': None, 'kwargs': {'services': None}, 'instance_id': '9ad11994-a932-4138-bb42-863bdfd478ec', 'source': 'REMOTE.REGISTRY', 'validate_required_input_not_provided': True, 'limits': <azure.ai.ml.entities._job.job_limits.CommandJobLimits object at 0x0000021C07707B20>, 'identity': None, 'distribution': None, 'environment_variables': {}, 'environment': None, 'resources': None, 'queue_settings': None, 'swept': False}), 'sampler': Command({'parameters': {}, 'init': False, 'name': 'sampler', 'type': 'command', 'status': None, 'log_files': None, 'description': None, 'tags': {}, 'properties': {}, 'print_as_yaml': True, 'id': None, 'Resource__source_path': None, 'base_path': 'C:\\\\Users\\\\erwright\\\\Source\\\\azureml-examples\\\\sdk\\\\python\\\\foundation-models\\\\anthropic', 'creation_context': None, 'serialize': <msrest.serialization.Serializer object at 0x0000021C07730310>, 'allowed_keys': {}, 'key_restriction': False, 'logger': <Logger attr_dict (WARNING)>, 'display_name': None, 'experiment_name': None, 'compute': None, 'services': None, 'comment': None, 'job_inputs': {'sampling_style': 'random', 'random_seed': '0', 'dataset': '${{parent.jobs.downloader.outputs.output_dataset}}', 'sampling_ratio': '${{parent.inputs.sample_ratio}}'}, 'job_outputs': {'output_dataset': {'type': 'uri_file', 'path': 'azureml://datastores/${{default_datastore}}/paths/azureml/${{name}}/${{output_name}}.jsonl'}}, 'inputs': {'sampling_style': <azure.ai.ml.entities._job.pipeline._io.base.NodeInput object at 0x0000021C077303D0>, 'random_seed': <azure.ai.ml.entities._job.pipeline._io.base.NodeInput object at 0x0000021C07730100>, 'dataset': <azure.ai.ml.entities._job.pipeline._io.base.NodeInput object at 0x0000021C07730280>, 'sampling_ratio': <azure.ai.ml.entities._job.pipeline._io.base.NodeInput object at 0x0000021C07730250>}, 'outputs': {'output_dataset': <azure.ai.ml.entities._job.pipeline._io.base.NodeOutput object at 0x0000021C07730130>}, 'component': 'azureml://registries/azureml/components/dataset_sampler/labels/latest', 'referenced_control_flow_node_instance_id': None, 'kwargs': {'services': None}, 'instance_id': 'cf276cc1-6264-4906-971d-fecb16d28ddc', 'source': 'REMOTE.REGISTRY', 'validate_required_input_not_provided': True, 'limits': <azure.ai.ml.entities._job.job_limits.CommandJobLimits object at 0x0000021C077302E0>, 'identity': None, 'distribution': None, 'environment_variables': {}, 'environment': None, 'resources': None, 'queue_settings': None, 'swept': False}), 'preprocessor': Command({'parameters': {}, 'init': False, 'name': 'preprocessor', 'type': 'command', 'status': None, 'log_files': None, 'description': None, 'tags': {}, 'properties': {}, 'print_as_yaml': True, 'id': None, 'Resource__source_path': None, 'base_path': 'C:\\\\Users\\\\erwright\\\\Source\\\\azureml-examples\\\\sdk\\\\python\\\\foundation-models\\\\anthropic', 'creation_context': None, 'serialize': <msrest.serialization.Serializer object at 0x0000021C07761180>, 'allowed_keys': {}, 'key_restriction': False, 'logger': <Logger attr_dict (WARNING)>, 'display_name': None, 'experiment_name': None, 'compute': None, 'services': None, 'comment': None, 'job_inputs': {'template_input': '{\"question\":{{question}}, \"choices\":{{choices}}, \"answer\":{{answer|string}}}', 'encoder_config': '{\"column_name\": \"answer\", \"0\": \"A\", \"1\": \"B\", \"2\": \"C\", \"3\": \"D\"}', 'dataset': '${{parent.jobs.sampler.outputs.output_dataset}}'}, 'job_outputs': {'output_dataset': {'type': 'uri_file', 'path': 'azureml://datastores/${{default_datastore}}/paths/azureml/${{name}}/${{output_name}}.jsonl'}}, 'inputs': {'template_input': <azure.ai.ml.entities._job.pipeline._io.base.NodeInput object at 0x0000021C07763610>, 'encoder_config': <azure.ai.ml.entities._job.pipeline._io.base.NodeInput object at 0x0000021C07761750>, 'dataset': <azure.ai.ml.entities._job.pipeline._io.base.NodeInput object at 0x0000021C07761960>}, 'outputs': {'output_dataset': <azure.ai.ml.entities._job.pipeline._io.base.NodeOutput object at 0x0000021C07761990>}, 'component': 'azureml://registries/azureml/components/dataset_preprocessor/labels/latest', 'referenced_control_flow_node_instance_id': None, 'kwargs': {'services': None}, 'instance_id': '40269aab-c314-4458-94c8-0ce96e9ec749', 'source': 'REMOTE.REGISTRY', 'validate_required_input_not_provided': True, 'limits': <azure.ai.ml.entities._job.job_limits.CommandJobLimits object at 0x0000021C07761900>, 'identity': None, 'distribution': None, 'environment_variables': {}, 'environment': None, 'resources': None, 'queue_settings': None, 'swept': False}), 'fewshot_downloader': Command({'parameters': {}, 'init': False, 'name': 'fewshot_downloader', 'type': 'command', 'status': None, 'log_files': None, 'description': None, 'tags': {}, 'properties': {}, 'print_as_yaml': True, 'id': None, 'Resource__source_path': None, 'base_path': 'C:\\\\Users\\\\erwright\\\\Source\\\\azureml-examples\\\\sdk\\\\python\\\\foundation-models\\\\anthropic', 'creation_context': None, 'serialize': <msrest.serialization.Serializer object at 0x0000021C07761BD0>, 'allowed_keys': {}, 'key_restriction': False, 'logger': <Logger attr_dict (WARNING)>, 'display_name': None, 'experiment_name': None, 'compute': None, 'services': None, 'comment': None, 'job_inputs': {'configuration': 'abstract_algebra,anatomy,astronomy,college_biology,college_chemistry,college_computer_science,college_mathematics,college_physics,computer_security,conceptual_physics,electrical_engineering,elementary_mathematics,high_school_biology,high_school_chemistry,high_school_computer_science,high_school_mathematics,high_school_physics,high_school_statistics,machine_learning', 'split': 'dev', 'script_path': {'type': 'uri_file', 'path': 'https://raw.githubusercontent.com/Azure/azureml-assets/main/assets/aml-benchmark/scripts/data_loaders/mmlu.py'}}, 'job_outputs': {'output_dataset': {'type': 'uri_folder'}}, 'inputs': {'configuration': <azure.ai.ml.entities._job.pipeline._io.base.NodeInput object at 0x0000021C07761B70>, 'split': <azure.ai.ml.entities._job.pipeline._io.base.NodeInput object at 0x0000021C07761540>, 'script_path': <azure.ai.ml.entities._job.pipeline._io.base.NodeInput object at 0x0000021C07761870>}, 'outputs': {'output_dataset': <azure.ai.ml.entities._job.pipeline._io.base.NodeOutput object at 0x0000021C07761C30>}, 'component': 'azureml://registries/azureml/components/dataset_downloader/labels/latest', 'referenced_control_flow_node_instance_id': None, 'kwargs': {'services': None}, 'instance_id': '8665fa23-31e9-4de7-b36d-e26d709b4783', 'source': 'REMOTE.REGISTRY', 'validate_required_input_not_provided': True, 'limits': <azure.ai.ml.entities._job.job_limits.CommandJobLimits object at 0x0000021C07761720>, 'identity': None, 'distribution': None, 'environment_variables': {}, 'environment': None, 'resources': None, 'queue_settings': None, 'swept': False}), 'fewshot_sampler': Command({'parameters': {}, 'init': False, 'name': 'fewshot_sampler', 'type': 'command', 'status': None, 'log_files': None, 'description': None, 'tags': {}, 'properties': {}, 'print_as_yaml': True, 'id': None, 'Resource__source_path': None, 'base_path': 'C:\\\\Users\\\\erwright\\\\Source\\\\azureml-examples\\\\sdk\\\\python\\\\foundation-models\\\\anthropic', 'creation_context': None, 'serialize': <msrest.serialization.Serializer object at 0x0000021C07762200>, 'allowed_keys': {}, 'key_restriction': False, 'logger': <Logger attr_dict (WARNING)>, 'display_name': None, 'experiment_name': None, 'compute': None, 'services': None, 'comment': None, 'job_inputs': {'sampling_style': 'head', 'sampling_ratio': '1.0', 'random_seed': '0', 'dataset': '${{parent.jobs.fewshot_downloader.outputs.output_dataset}}'}, 'job_outputs': {'output_dataset': {'type': 'uri_file', 'path': 'azureml://datastores/${{default_datastore}}/paths/azureml/${{name}}/${{output_name}}.jsonl'}}, 'inputs': {'sampling_style': <azure.ai.ml.entities._job.pipeline._io.base.NodeInput object at 0x0000021C077620E0>, 'sampling_ratio': <azure.ai.ml.entities._job.pipeline._io.base.NodeInput object at 0x0000021C07762D10>, 'random_seed': <azure.ai.ml.entities._job.pipeline._io.base.NodeInput object at 0x0000021C07762110>, 'dataset': <azure.ai.ml.entities._job.pipeline._io.base.NodeInput object at 0x0000021C07761E40>}, 'outputs': {'output_dataset': <azure.ai.ml.entities._job.pipeline._io.base.NodeOutput object at 0x0000021C07762020>}, 'component': 'azureml://registries/azureml/components/dataset_sampler/labels/latest', 'referenced_control_flow_node_instance_id': None, 'kwargs': {'services': None}, 'instance_id': '835742f9-2831-4615-8e3f-9f22a82ec455', 'source': 'REMOTE.REGISTRY', 'validate_required_input_not_provided': True, 'limits': <azure.ai.ml.entities._job.job_limits.CommandJobLimits object at 0x0000021C07762E00>, 'identity': None, 'distribution': None, 'environment_variables': {}, 'environment': None, 'resources': None, 'queue_settings': None, 'swept': False}), 'fewshot_preprocessor': Command({'parameters': {}, 'init': False, 'name': 'fewshot_preprocessor', 'type': 'command', 'status': None, 'log_files': None, 'description': None, 'tags': {}, 'properties': {}, 'print_as_yaml': True, 'id': None, 'Resource__source_path': None, 'base_path': 'C:\\\\Users\\\\erwright\\\\Source\\\\azureml-examples\\\\sdk\\\\python\\\\foundation-models\\\\anthropic', 'creation_context': None, 'serialize': <msrest.serialization.Serializer object at 0x0000021C07707E20>, 'allowed_keys': {}, 'key_restriction': False, 'logger': <Logger attr_dict (WARNING)>, 'display_name': None, 'experiment_name': None, 'compute': None, 'services': None, 'comment': None, 'job_inputs': {'template_input': '{\"question\":{{question}}, \"choices\":{{choices}}, \"answer\":{{answer|string}}}', 'encoder_config': '{\"column_name\": \"answer\", \"0\": \"A\", \"1\": \"B\", \"2\": \"C\", \"3\": \"D\"}', 'dataset': '${{parent.jobs.fewshot_sampler.outputs.output_dataset}}'}, 'job_outputs': {'output_dataset': {'type': 'uri_file', 'path': 'azureml://datastores/${{default_datastore}}/paths/azureml/${{name}}/${{output_name}}.jsonl'}}, 'inputs': {'template_input': <azure.ai.ml.entities._job.pipeline._io.base.NodeInput object at 0x0000021C077079A0>, 'encoder_config': <azure.ai.ml.entities._job.pipeline._io.base.NodeInput object at 0x0000021C07706410>, 'dataset': <azure.ai.ml.entities._job.pipeline._io.base.NodeInput object at 0x0000021C07707D90>}, 'outputs': {'output_dataset': <azure.ai.ml.entities._job.pipeline._io.base.NodeOutput object at 0x0000021C077077C0>}, 'component': 'azureml://registries/azureml/components/dataset_preprocessor/labels/latest', 'referenced_control_flow_node_instance_id': None, 'kwargs': {'services': None}, 'instance_id': '9001f64f-6d64-47b5-ac9a-0f3be959a322', 'source': 'REMOTE.REGISTRY', 'validate_required_input_not_provided': True, 'limits': <azure.ai.ml.entities._job.job_limits.CommandJobLimits object at 0x0000021C07707790>, 'identity': None, 'distribution': None, 'environment_variables': {}, 'environment': None, 'resources': None, 'queue_settings': None, 'swept': False}), 'promptcrafter': Command({'parameters': {}, 'init': False, 'name': 'promptcrafter', 'type': 'command', 'status': None, 'log_files': None, 'description': None, 'tags': {}, 'properties': {}, 'print_as_yaml': True, 'id': None, 'Resource__source_path': None, 'base_path': 'C:\\\\Users\\\\erwright\\\\Source\\\\azureml-examples\\\\sdk\\\\python\\\\foundation-models\\\\anthropic', 'creation_context': None, 'serialize': <msrest.serialization.Serializer object at 0x0000021C07761D80>, 'allowed_keys': {}, 'key_restriction': False, 'logger': <Logger attr_dict (WARNING)>, 'display_name': None, 'experiment_name': None, 'compute': None, 'services': None, 'comment': None, 'job_inputs': {'prompt_type': 'completions', 'prefix': 'You are given a problem and asked to choose between options A, B, C, or D. There are examples within <example> tags for you to learn from. For the last question respond with only the letter of the option you choose. This letter must be within the tags <answer> and </answer>. Do not add other text to the response.\\n\\nHuman:', 'prompt_pattern': '### Question: {{question}}\\nA. {{choices[0]}}\\nB. {{choices[1]}}\\nC. {{choices[2]}}\\nD. {{choices[3]}}\\n###Answer:\\n\\nAssistant:', 'few_shot_pattern': '<example>\\n### Question: {{question}}\\nA. {{choices[0]}}\\nB. {{choices[1]}}\\nC. {{choices[2]}}\\nD. {{choices[3]}}\\n###Answer: {{answer}}\\n</example>', 'n_shots': '5', 'output_pattern': '{{answer}}', 'few_shot_separator': '\\n\\n', 'random_seed': '0', 'test_data': '${{parent.jobs.preprocessor.outputs.output_dataset}}', 'few_shot_data': '${{parent.jobs.fewshot_preprocessor.outputs.output_dataset}}'}, 'job_outputs': {'output_file': {'type': 'uri_file', 'path': 'azureml://datastores/${{default_datastore}}/paths/azureml/${{name}}/${{output_name}}.jsonl'}}, 'inputs': {'prompt_type': <azure.ai.ml.entities._job.pipeline._io.base.NodeInput object at 0x0000021C077618A0>, 'prefix': <azure.ai.ml.entities._job.pipeline._io.base.NodeInput object at 0x0000021C077617E0>, 'prompt_pattern': <azure.ai.ml.entities._job.pipeline._io.base.NodeInput object at 0x0000021C07761DE0>, 'few_shot_pattern': <azure.ai.ml.entities._job.pipeline._io.base.NodeInput object at 0x0000021C07761C60>, 'n_shots': <azure.ai.ml.entities._job.pipeline._io.base.NodeInput object at 0x0000021C07762050>, 'output_pattern': <azure.ai.ml.entities._job.pipeline._io.base.NodeInput object at 0x0000021C07762530>, 'few_shot_separator': <azure.ai.ml.entities._job.pipeline._io.base.NodeInput object at 0x0000021C07762C50>, 'random_seed': <azure.ai.ml.entities._job.pipeline._io.base.NodeInput object at 0x0000021C07761C90>, 'test_data': <azure.ai.ml.entities._job.pipeline._io.base.NodeInput object at 0x0000021C077635E0>, 'few_shot_data': <azure.ai.ml.entities._job.pipeline._io.base.NodeInput object at 0x0000021C07761510>}, 'outputs': {'output_file': <azure.ai.ml.entities._job.pipeline._io.base.NodeOutput object at 0x0000021C07761840>}, 'component': 'azureml://registries/azureml-preview-test1/components/prompt_crafter/labels/latest', 'referenced_control_flow_node_instance_id': None, 'kwargs': {'services': None}, 'instance_id': '12f82c0b-e96d-40e9-9d6e-3913522b0eb1', 'source': 'REMOTE.REGISTRY', 'validate_required_input_not_provided': True, 'limits': <azure.ai.ml.entities._job.job_limits.CommandJobLimits object at 0x0000021C07761570>, 'identity': None, 'distribution': None, 'environment_variables': {}, 'environment': None, 'resources': None, 'queue_settings': None, 'swept': False}), 'endpoint': Pipeline({'init': False, 'name': 'endpoint', 'type': 'pipeline', 'status': None, 'log_files': None, 'description': None, 'tags': {}, 'properties': {}, 'print_as_yaml': True, 'id': None, 'Resource__source_path': None, 'base_path': 'C:\\\\Users\\\\erwright\\\\Source\\\\azureml-examples\\\\sdk\\\\python\\\\foundation-models\\\\anthropic', 'creation_context': None, 'serialize': <msrest.serialization.Serializer object at 0x0000021C07763A90>, 'allowed_keys': {}, 'key_restriction': False, 'logger': <Logger attr_dict (WARNING)>, 'display_name': None, 'experiment_name': None, 'compute': None, 'services': None, 'comment': None, 'job_inputs': {'is_performance_test': 'False', 'label_column_name': 'completion', 'handle_response_failure': 'use_fallback', 'ensure_ascii': 'False', 'initial_worker_count': '1', 'max_worker_count': '1', 'instance_count': '1', 'max_concurrency_per_instance': '1', 'debug_mode': 'False', 'input_dataset': '${{parent.jobs.promptcrafter.outputs.output_file}}', 'batch_input_pattern': '${{parent.inputs.payload_pattern}}', 'endpoint_url': '${{parent.inputs.endpoint_url}}', 'connections_name': '${{parent.inputs.ws_connection_name}}'}, 'job_outputs': {'predictions': {'type': 'uri_file', 'path': 'azureml://datastores/${{default_datastore}}/paths/azureml/${{name}}/${{output_name}}.jsonl'}, 'performance_metadata': {'type': 'uri_file', 'path': 'azureml://datastores/${{default_datastore}}/paths/azureml/${{name}}/${{output_name}}.jsonl'}, 'ground_truth': {'type': 'uri_file', 'path': 'azureml://datastores/${{default_datastore}}/paths/azureml/${{name}}/${{output_name}}.jsonl'}}, 'inputs': {'is_performance_test': <azure.ai.ml.entities._job.pipeline._io.base.NodeInput object at 0x0000021C07763790>, 'label_column_name': <azure.ai.ml.entities._job.pipeline._io.base.NodeInput object at 0x0000021C07761DB0>, 'handle_response_failure': <azure.ai.ml.entities._job.pipeline._io.base.NodeInput object at 0x0000021C07761E70>, 'ensure_ascii': <azure.ai.ml.entities._job.pipeline._io.base.NodeInput object at 0x0000021C07761EA0>, 'initial_worker_count': <azure.ai.ml.entities._job.pipeline._io.base.NodeInput object at 0x0000021C07761CC0>, 'max_worker_count': <azure.ai.ml.entities._job.pipeline._io.base.NodeInput object at 0x0000021C07761A80>, 'instance_count': <azure.ai.ml.entities._job.pipeline._io.base.NodeInput object at 0x0000021C077618D0>, 'max_concurrency_per_instance': <azure.ai.ml.entities._job.pipeline._io.base.NodeInput object at 0x0000021C07763490>, 'debug_mode': <azure.ai.ml.entities._job.pipeline._io.base.NodeInput object at 0x0000021C077634C0>, 'input_dataset': <azure.ai.ml.entities._job.pipeline._io.base.NodeInput object at 0x0000021C07761E10>, 'batch_input_pattern': <azure.ai.ml.entities._job.pipeline._io.base.NodeInput object at 0x0000021C07763D90>, 'endpoint_url': <azure.ai.ml.entities._job.pipeline._io.base.NodeInput object at 0x0000021C07761FF0>, 'connections_name': <azure.ai.ml.entities._job.pipeline._io.base.NodeInput object at 0x0000021C077635B0>}, 'outputs': {'predictions': <azure.ai.ml.entities._job.pipeline._io.base.NodeOutput object at 0x0000021C07763FA0>, 'performance_metadata': <azure.ai.ml.entities._job.pipeline._io.base.NodeOutput object at 0x0000021C07762230>, 'ground_truth': <azure.ai.ml.entities._job.pipeline._io.base.NodeOutput object at 0x0000021C07763520>}, 'component': 'azureml://registries/azureml-preview-test1/components/batch_benchmark_inference_claude/labels/latest', 'referenced_control_flow_node_instance_id': None, 'kwargs': {}, 'instance_id': '4103add4-f875-4083-87c7-1e611d256b0c', 'source': 'REMOTE.REGISTRY', 'validate_required_input_not_provided': True, 'settings': None}), 'postprocessor': Command({'parameters': {}, 'init': False, 'name': 'postprocessor', 'type': 'command', 'status': None, 'log_files': None, 'description': None, 'tags': {}, 'properties': {}, 'print_as_yaml': True, 'id': None, 'Resource__source_path': None, 'base_path': 'C:\\\\Users\\\\erwright\\\\Source\\\\azureml-examples\\\\sdk\\\\python\\\\foundation-models\\\\anthropic', 'creation_context': None, 'serialize': <msrest.serialization.Serializer object at 0x0000021C077631F0>, 'allowed_keys': {}, 'key_restriction': False, 'logger': <Logger attr_dict (WARNING)>, 'display_name': None, 'experiment_name': None, 'compute': None, 'services': None, 'comment': None, 'job_inputs': {'ground_truth_column_name': 'completion', 'prediction_column_name': 'prediction', 'regex_expr': '<answer>(.*?)</answer>', 'ground_truth_dataset': '${{parent.jobs.endpoint.outputs.ground_truth}}', 'prediction_dataset': '${{parent.jobs.endpoint.outputs.predictions}}'}, 'job_outputs': {'output_dataset_result': {'type': 'uri_file', 'path': 'azureml://datastores/${{default_datastore}}/paths/azureml/${{name}}/${{output_name}}.jsonl'}}, 'inputs': {'ground_truth_column_name': <azure.ai.ml.entities._job.pipeline._io.base.NodeInput object at 0x0000021C077631C0>, 'prediction_column_name': <azure.ai.ml.entities._job.pipeline._io.base.NodeInput object at 0x0000021C07763160>, 'regex_expr': <azure.ai.ml.entities._job.pipeline._io.base.NodeInput object at 0x0000021C077624A0>, 'ground_truth_dataset': <azure.ai.ml.entities._job.pipeline._io.base.NodeInput object at 0x0000021C07762E90>, 'prediction_dataset': <azure.ai.ml.entities._job.pipeline._io.base.NodeInput object at 0x0000021C07762EF0>}, 'outputs': {'output_dataset_result': <azure.ai.ml.entities._job.pipeline._io.base.NodeOutput object at 0x0000021C077622F0>}, 'component': 'azureml://registries/azureml/components/inference_postprocessor/labels/latest', 'referenced_control_flow_node_instance_id': None, 'kwargs': {'services': None}, 'instance_id': '911fd476-8188-470a-87b5-2d599d0b423c', 'source': 'REMOTE.REGISTRY', 'validate_required_input_not_provided': True, 'limits': <azure.ai.ml.entities._job.job_limits.CommandJobLimits object at 0x0000021C07762440>, 'identity': None, 'distribution': None, 'environment_variables': {}, 'environment': None, 'resources': None, 'queue_settings': None, 'swept': False}), 'quality': Command({'parameters': {}, 'init': False, 'name': 'quality', 'type': 'command', 'status': None, 'log_files': None, 'description': None, 'tags': {}, 'properties': {}, 'print_as_yaml': True, 'id': None, 'Resource__source_path': None, 'base_path': 'C:\\\\Users\\\\erwright\\\\Source\\\\azureml-examples\\\\sdk\\\\python\\\\foundation-models\\\\anthropic', 'creation_context': None, 'serialize': <msrest.serialization.Serializer object at 0x0000021C077633A0>, 'allowed_keys': {}, 'key_restriction': False, 'logger': <Logger attr_dict (WARNING)>, 'display_name': None, 'experiment_name': None, 'compute': None, 'services': None, 'comment': None, 'job_inputs': {'task': 'question-answering', 'ground_truth_column_name': 'completion', 'prediction_column_name': 'prediction', 'evaluation_config_params': '{\"regexes_to_ignore\": [\"\\\\\\\\W\"]}', 'ground_truth': '${{parent.jobs.postprocessor.outputs.output_dataset_result}}', 'prediction': '${{parent.jobs.postprocessor.outputs.output_dataset_result}}'}, 'job_outputs': {'evaluation_result': {'type': 'uri_folder'}}, 'inputs': {'task': <azure.ai.ml.entities._job.pipeline._io.base.NodeInput object at 0x0000021C07763220>, 'ground_truth_column_name': <azure.ai.ml.entities._job.pipeline._io.base.NodeInput object at 0x0000021C07763280>, 'prediction_column_name': <azure.ai.ml.entities._job.pipeline._io.base.NodeInput object at 0x0000021C07762FE0>, 'evaluation_config_params': <azure.ai.ml.entities._job.pipeline._io.base.NodeInput object at 0x0000021C07762920>, 'ground_truth': <azure.ai.ml.entities._job.pipeline._io.base.NodeInput object at 0x0000021C07762950>, 'prediction': <azure.ai.ml.entities._job.pipeline._io.base.NodeInput object at 0x0000021C07762350>}, 'outputs': {'evaluation_result': <azure.ai.ml.entities._job.pipeline._io.base.NodeOutput object at 0x0000021C07762800>}, 'component': 'azureml://registries/azureml/components/compute_metrics/labels/latest', 'referenced_control_flow_node_instance_id': None, 'kwargs': {'services': None}, 'instance_id': '94bf1804-4b3b-4e3b-8e4a-e072b318d8dc', 'source': 'REMOTE.REGISTRY', 'validate_required_input_not_provided': True, 'limits': <azure.ai.ml.entities._job.job_limits.CommandJobLimits object at 0x0000021C07763100>, 'identity': None, 'distribution': None, 'environment_variables': {}, 'environment': None, 'resources': None, 'queue_settings': None, 'swept': False}), 'aggregator': Command({'parameters': {}, 'init': False, 'name': 'aggregator', 'type': 'command', 'status': None, 'log_files': None, 'description': None, 'tags': {}, 'properties': {}, 'print_as_yaml': True, 'id': None, 'Resource__source_path': None, 'base_path': 'C:\\\\Users\\\\erwright\\\\Source\\\\azureml-examples\\\\sdk\\\\python\\\\foundation-models\\\\anthropic', 'creation_context': None, 'serialize': <msrest.serialization.Serializer object at 0x0000021C077626B0>, 'allowed_keys': {}, 'key_restriction': False, 'logger': <Logger attr_dict (WARNING)>, 'display_name': None, 'experiment_name': None, 'compute': None, 'services': None, 'comment': None, 'job_inputs': {'quality_metrics': '${{parent.jobs.quality.outputs.evaluation_result}}'}, 'job_outputs': {'benchmark_result': {'type': 'uri_file', 'path': 'azureml://datastores/${{default_datastore}}/paths/azureml/${{name}}/${{output_name}}.json'}}, 'inputs': {'quality_metrics': <azure.ai.ml.entities._job.pipeline._io.base.NodeInput object at 0x0000021C077626E0>}, 'outputs': {'benchmark_result': <azure.ai.ml.entities._job.pipeline._io.base.NodeOutput object at 0x0000021C077628C0>}, 'component': 'azureml://registries/azureml/components/benchmark_result_aggregator/labels/latest', 'referenced_control_flow_node_instance_id': None, 'kwargs': {'services': None}, 'instance_id': 'c41b900d-907a-43c1-9ae3-0d6b8e3b2fdb', 'source': 'REMOTE.REGISTRY', 'validate_required_input_not_provided': True, 'limits': <azure.ai.ml.entities._job.job_limits.CommandJobLimits object at 0x0000021C07762620>, 'identity': None, 'distribution': None, 'environment_variables': {}, 'environment': None, 'resources': None, 'queue_settings': None, 'swept': False})}, 'job_types': {'command': 10, 'pipeline': 1}, 'job_sources': {'REMOTE.REGISTRY': 11}, 'source_job_id': None}), 'type': 'pipeline', 'status': 'Preparing', 'log_files': None, 'name': 'sweet_actor_fps92km9m8', 'description': 'Claude eval on MMLU STEM', 'tags': {}, 'properties': {'mlflow.source.git.repoURL': 'https://github.com/Azure/azureml-examples.git', 'mlflow.source.git.branch': 'erwright/add-anthropic-claude-eval-notebook-and-pipelines', 'mlflow.source.git.commit': 'b206a077f97ccc409dd06864c0368601d25cefa2', 'azureml.git.dirty': 'True', 'azureml.DevPlatv2': 'true', 'azureml.DatasetAccessMode': 'Asset', 'azureml.runsource': 'azureml.PipelineRun', 'runSource': 'MFE', 'runType': 'HTTP', 'azureml.parameters': '{\"endpoint_url\":\"https://bedrock-runtime.us-east-1.amazonaws.com/model/anthropic.claude-v2:1/invoke\",\"ws_connection_name\":\"bedrock-test\",\"payload_pattern\":\"{\\\\\"prompt\\\\\": \\\\\"###<prompt>\\\\\", \\\\\"temperature\\\\\": 0.0, \\\\\"max_tokens_to_sample\\\\\": 10, \\\\\"top_p\\\\\": 1.0}\",\"sample_ratio\":\"0.01\"}', 'azureml.continue_on_step_failure': 'True', 'azureml.continue_on_failed_optional_input': 'True', 'azureml.enforceRerun': 'False', 'azureml.defaultComputeName': 'cpu-cluster-benchmarking', 'azureml.defaultDataStoreName': 'workspaceblobstore', 'azureml.pipelineComponent': 'pipelinerun'}, 'print_as_yaml': True, 'id': '/subscriptions/72c03bf3-4e69-41af-9532-dfcdc3eefef4/resourceGroups/aml-benchmarking/providers/Microsoft.MachineLearningServices/workspaces/aml-benchmarking-rd/jobs/sweet_actor_fps92km9m8', 'Resource__source_path': None, 'base_path': 'C:\\\\Users\\\\erwright\\\\Source\\\\azureml-examples\\\\sdk\\\\python\\\\foundation-models\\\\anthropic', 'creation_context': <azure.ai.ml.entities._system_data.SystemData object at 0x0000021C07762BF0>, 'serialize': <msrest.serialization.Serializer object at 0x0000021C077636A0>, 'display_name': 'mmlu_stem_claude', 'experiment_name': 'benchmark-claude-v2_1', 'compute': None, 'services': {'Tracking': {'endpoint': 'azureml://eastus.api.azureml.ms/mlflow/v1.0/subscriptions/72c03bf3-4e69-41af-9532-dfcdc3eefef4/resourceGroups/aml-benchmarking/providers/Microsoft.MachineLearningServices/workspaces/aml-benchmarking-rd?', 'type': 'Tracking'}, 'Studio': {'endpoint': 'https://ml.azure.com/runs/sweet_actor_fps92km9m8?wsid=/subscriptions/72c03bf3-4e69-41af-9532-dfcdc3eefef4/resourcegroups/aml-benchmarking/workspaces/aml-benchmarking-rd&tid=72f988bf-86f1-41af-91ab-2d7cd011db47', 'type': 'Studio'}}, 'settings': {}, 'identity': None, 'default_code': None, 'default_environment': None})"
      ]
     },
     "execution_count": 25,
     "metadata": {},
     "output_type": "execute_result"
    }
   ],
   "source": [
    "from azure.ai.ml import load_job\n",
    "\n",
    "# load the pipeline from the yaml def\n",
    "pipeline_job = load_job(f'./evaluation_pipelines/{eval_name}.yaml')\n",
    "\n",
    "# Set pipeline job inputs\n",
    "pipeline_job.settings.default_compute = compute_name\n",
    "pipeline_job.inputs.endpoint_url = bedrock_endpoint_url\n",
    "pipeline_job.inputs.ws_connection_name = connection_name\n",
    "pipeline_job.inputs.sample_ratio = sample_ratio\n",
    "\n",
    "# Start the job in the Workspace\n",
    "returned_job = ml_client.jobs.create_or_update(\n",
    "    pipeline_job,\n",
    "    experiment_name=experiment_name\n",
    ")\n",
    "returned_job"
   ]
  },
  {
   "cell_type": "markdown",
   "id": "07fa2c79-f875-4c4f-8f09-37158b56bdcd",
   "metadata": {},
   "source": [
    "## Retrieve accuracy scores from the run\n",
    "When the pipeline finishes, you can retrieve evaluation metrics from the run via mlflow. The primary measure of accuracy for the evals is `mean_exact_match`, with the exception of human_eval which uses `pass@1`. \n",
    "\n",
    "Mean exact match is the proportion of model predictions that exactly match the corresponding correct answers. Thus, it is applicable to question answering evaluations that are multiple choice or have a single, correct answer. The pass@1 metric is used for evaluating code generation and is the proportion of model generated code solutions that pass a set of unit tests given in the eval dataset. "
   ]
  },
  {
   "cell_type": "code",
   "execution_count": 12,
   "id": "299bf8ea-49ab-44c3-96e6-51902fa03df4",
   "metadata": {},
   "outputs": [
    {
     "name": "stdout",
     "output_type": "stream",
     "text": [
      "Accuracy metric name: mean_exact_match\n",
      "Accuracy metric value: 0.5\n"
     ]
    }
   ],
   "source": [
    "import mlflow\n",
    "\n",
    "accuracy_metric_name = 'mean_exact_match' if eval_name != 'human_eval' else 'pass@1'\n",
    "\n",
    "mlflow_tracking_uri = ml_client.workspaces.get(ml_client.workspace_name).mlflow_tracking_uri\n",
    "mlflow.set_tracking_uri(mlflow_tracking_uri)\n",
    "\n",
    "run = mlflow.get_run(run_id=returned_job.name)\n",
    "metric_val = run.data.metrics[accuracy_metric_name]\n",
    "\n",
    "print(f'Accuracy metric name: {accuracy_metric_name}')\n",
    "print(f'Accuracy metric value: {metric_val}')"
   ]
  }
 ],
 "metadata": {
  "kernelspec": {
   "display_name": "AzureML SDK v2",
   "language": "python",
   "name": "azureml_sdk_v2"
  },
  "language_info": {
   "codemirror_mode": {
    "name": "ipython",
    "version": 3
   },
   "file_extension": ".py",
   "mimetype": "text/x-python",
   "name": "python",
   "nbconvert_exporter": "python",
   "pygments_lexer": "ipython3",
   "version": "3.10.13"
  }
 },
 "nbformat": 4,
 "nbformat_minor": 5
}
