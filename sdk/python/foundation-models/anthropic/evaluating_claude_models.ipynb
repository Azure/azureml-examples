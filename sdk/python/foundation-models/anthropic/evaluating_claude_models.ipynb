{
 "cells": [
  {
   "cell_type": "markdown",
   "id": "c90af50b-a3a3-42ea-b855-943777df2bee",
   "metadata": {},
   "source": [
    "# Evaluating Claude models with AzureML\n",
    "\n",
    "In this notebook, you will learn how to run evaluations of Anthropic's Claude model using the AzureML SDK. Along with this notebook, we've included a preconfigured set of 12 evaluations using well-known, public datasets (e.g., MMLU, HellaSwag, Winogrande).\n",
    "\n",
    "Please see the [Azure AI Leaderboard](https://ai.azure.com/explore/leaderboard) for other supported model benchmarks and for more details on the eval datasets.\n",
    "\n",
    "## Prerequistes\n",
    "- An Azure account with an active subscription - [Create an account for free](https://azure.microsoft.com/free/?WT.mc_id=A261C142F)\n",
    "- An Azure ML workspace with compute cluster - [Configure workspace](../../configuration.ipynb)\n",
    "- Installed Azure Machine Learning Python SDK v2 - [install instructions](../../../README.md) - check the getting started section\n",
    "- A python environment with [mlflow](https://learn.microsoft.com/en-us/azure/machine-learning/how-to-use-mlflow-configure-tracking?view=azureml-api-2&tabs=python%2Cmlflow) for retrieving eval metrics\n",
    "- Access keys for Claude endpoints on [Amazon Web Services Bedrock platform](https://aws.amazon.com/bedrock/claude/)  \n",
    "\n",
    "## Configuring a Workspace connection for Bedrock access\n",
    "You will use a Workspace connection to securely store Bedrock access keys. Follow the steps below to create a custom-type connection:\n",
    "- Follow directions for [creating a custom connection in the AzureML studio UI](https://learn.microsoft.com/en-us/azure/machine-learning/prompt-flow/tools-reference/python-tool?view=azureml-api-2#create-a-custom-connection)\n",
    "- Add the following two key-value pairs to the custom connection:\n",
    "  1. A key named `AccessKey` with a value containing your AWS access key\n",
    "  2. A key named `SecretKey` with a value containing your AWS secret access key \n",
    "\n",
    "## Configuring and running an evaluation pipeline\n",
    "Please set global values in the following cell for your AzureML Workspace, the Bedrock endpoint you want to call, the name of connection you created in the previous step, and the name of the eval you want to run.\n",
    "\n",
    "Supported evals are the following: `hellaswag`, `mmlu_humanities`, `mmlu_other`, `mmlu_social_sciences`, `mmlu_stem`, `openbookqa`, `piqa`, `winogrande`.\n",
    "\n",
    "You can also set the sample ratio, the fraction of the selected dataset to run for the eval.\n",
    "\n",
    "**\\*Warning\\***: Many datasets contain thousands of examples which can lead to high endpoint usage costs. We advise starting with a small sample ratio (e.g., 1%) to verify the pipeline and then increasing the ratio if desired. "
   ]
  },
  {
   "cell_type": "code",
   "execution_count": 1,
   "id": "7ce3f8a4-ce03-462b-89fa-19cac827c30c",
   "metadata": {},
   "outputs": [],
   "source": [
    "# AzureML settings\n",
    "subscription_id = '72c03bf3-4e69-41af-9532-dfcdc3eefef4'\n",
    "resource_group = 'aml-benchmarking'\n",
    "workspace_name = 'aml-benchmarking-rd'\n",
    "experiment_name = 'benchmark-claude-v2_1'\n",
    "compute_name = 'cpu-cluster-benchmarking'\n",
    "\n",
    "# Eval config values\n",
    "eval_name = 'winogrande'\n",
    "bedrock_endpoint_url = 'https://bedrock-runtime.us-east-1.amazonaws.com/model/anthropic.claude-v2:1/invoke'\n",
    "connection_name = 'bedrock-test'\n",
    "\n",
    "# Sample ratio - what fraction of the dataset to run for the eval? \n",
    "# **WARNING** be aware of endpoint costs!\n",
    "sample_ratio = 0.01"
   ]
  },
  {
   "cell_type": "markdown",
   "id": "2cdbe9be-df54-4035-b7a6-f6f8677f16dc",
   "metadata": {},
   "source": [
    "Run the following cell to get an `MLClient` for communicating with your Workspace:"
   ]
  },
  {
   "cell_type": "code",
   "execution_count": 2,
   "id": "25f47da9-5c31-4729-a233-cece290415f9",
   "metadata": {},
   "outputs": [],
   "source": [
    "from azure.identity import DefaultAzureCredential\n",
    "from azure.ai.ml import MLClient\n",
    "\n",
    "# client for AzureML Workspace actions\n",
    "ml_client = MLClient(\n",
    "    credential=DefaultAzureCredential(),\n",
    "    subscription_id=subscription_id,\n",
    "    resource_group_name=resource_group,\n",
    "    workspace_name=workspace_name\n",
    ")"
   ]
  },
  {
   "cell_type": "markdown",
   "id": "2e4bfaa2-fd99-4850-a9c4-8838c4ef9313",
   "metadata": {},
   "source": [
    "Finally, to launch the evaluation pipeline job, run the following:"
   ]
  },
  {
   "cell_type": "code",
   "execution_count": 3,
   "id": "3e4c5468-7585-481e-bb20-ad91373cac6c",
   "metadata": {},
   "outputs": [
    {
     "name": "stderr",
     "output_type": "stream",
     "text": [
      "Class AutoDeleteSettingSchema: This is an experimental class, and may change at any time. Please see https://aka.ms/azuremlexperimental for more information.\n",
      "Class AutoDeleteConditionSchema: This is an experimental class, and may change at any time. Please see https://aka.ms/azuremlexperimental for more information.\n",
      "Class BaseAutoDeleteSettingSchema: This is an experimental class, and may change at any time. Please see https://aka.ms/azuremlexperimental for more information.\n",
      "Class IntellectualPropertySchema: This is an experimental class, and may change at any time. Please see https://aka.ms/azuremlexperimental for more information.\n",
      "Class ProtectionLevelSchema: This is an experimental class, and may change at any time. Please see https://aka.ms/azuremlexperimental for more information.\n",
      "Class BaseIntellectualPropertySchema: This is an experimental class, and may change at any time. Please see https://aka.ms/azuremlexperimental for more information.\n"
     ]
    },
    {
     "data": {
      "text/html": [
       "<table style=\"width:100%\"><tr><th>Experiment</th><th>Name</th><th>Type</th><th>Status</th><th>Details Page</th></tr><tr><td>benchmark-claude-v2_1</td><td>keen_market_04vmxb0q1g</td><td>pipeline</td><td>Preparing</td><td><a href=\"https://ml.azure.com/runs/keen_market_04vmxb0q1g?wsid=/subscriptions/72c03bf3-4e69-41af-9532-dfcdc3eefef4/resourcegroups/aml-benchmarking/workspaces/aml-benchmarking-rd&amp;tid=72f988bf-86f1-41af-91ab-2d7cd011db47\" target=\"_blank\" rel=\"noopener\">Link to Azure Machine Learning studio</a></td></tr></table>"
      ],
      "text/plain": [
       "PipelineJob({'inputs': {'endpoint_url': <azure.ai.ml.entities._job.pipeline._io.base.PipelineInput object at 0x0000025D1BCE88E0>, 'ws_connection_name': <azure.ai.ml.entities._job.pipeline._io.base.PipelineInput object at 0x0000025D1BCE89D0>, 'payload_pattern': <azure.ai.ml.entities._job.pipeline._io.base.PipelineInput object at 0x0000025D1BCE8940>, 'sample_ratio': <azure.ai.ml.entities._job.pipeline._io.base.PipelineInput object at 0x0000025D1BCE8BB0>}, 'outputs': {}, 'jobs': {}, 'component': PipelineComponent({'intellectual_property': None, 'auto_increment_version': False, 'source': 'REMOTE.WORKSPACE.JOB', 'is_anonymous': True, 'auto_delete_setting': None, 'name': 'azureml_anonymous', 'description': 'Claude eval on Winogrande', 'tags': {}, 'properties': {}, 'print_as_yaml': True, 'id': None, 'Resource__source_path': None, 'base_path': 'C:\\\\Users\\\\erwright\\\\Source\\\\azureml-examples\\\\sdk\\\\python\\\\foundation-models\\\\anthropic', 'creation_context': None, 'serialize': <msrest.serialization.Serializer object at 0x0000025D1BC0CD90>, 'version': '1', 'latest_version': None, 'schema': None, 'type': 'pipeline', 'display_name': 'winogrande_claude', 'is_deterministic': None, 'inputs': {'endpoint_url': {}, 'ws_connection_name': {}, 'payload_pattern': {}, 'sample_ratio': {}}, 'outputs': {}, 'yaml_str': None, 'other_parameter': {}, 'jobs': {'downloader': Command({'parameters': {}, 'init': False, 'name': 'downloader', 'type': 'command', 'status': None, 'log_files': None, 'description': None, 'tags': {}, 'properties': {}, 'print_as_yaml': True, 'id': None, 'Resource__source_path': None, 'base_path': 'C:\\\\Users\\\\erwright\\\\Source\\\\azureml-examples\\\\sdk\\\\python\\\\foundation-models\\\\anthropic', 'creation_context': None, 'serialize': <msrest.serialization.Serializer object at 0x0000025D1BC0C5E0>, 'allowed_keys': {}, 'key_restriction': False, 'logger': <Logger attr_dict (WARNING)>, 'display_name': None, 'experiment_name': None, 'compute': None, 'services': None, 'comment': None, 'job_inputs': {'dataset_name': 'winogrande', 'configuration': 'winogrande_xs', 'split': 'validation'}, 'job_outputs': {'output_dataset': {'type': 'uri_folder'}}, 'inputs': {'dataset_name': <azure.ai.ml.entities._job.pipeline._io.base.NodeInput object at 0x0000025D1BC0CD00>, 'configuration': <azure.ai.ml.entities._job.pipeline._io.base.NodeInput object at 0x0000025D1BC0C790>, 'split': <azure.ai.ml.entities._job.pipeline._io.base.NodeInput object at 0x0000025D1BC0DDE0>}, 'outputs': {'output_dataset': <azure.ai.ml.entities._job.pipeline._io.base.NodeOutput object at 0x0000025D1BC0CAC0>}, 'component': 'azureml://registries/azureml/components/dataset_downloader/labels/latest', 'referenced_control_flow_node_instance_id': None, 'kwargs': {'services': None}, 'instance_id': 'b144704c-7911-4ad9-9aff-bc69d2a8bb22', 'source': 'REMOTE.REGISTRY', 'validate_required_input_not_provided': True, 'limits': <azure.ai.ml.entities._job.job_limits.CommandJobLimits object at 0x0000025D1BC0C7C0>, 'identity': None, 'distribution': None, 'environment_variables': {}, 'environment': None, 'resources': None, 'queue_settings': None, 'swept': False}), 'sampler': Command({'parameters': {}, 'init': False, 'name': 'sampler', 'type': 'command', 'status': None, 'log_files': None, 'description': None, 'tags': {}, 'properties': {}, 'print_as_yaml': True, 'id': None, 'Resource__source_path': None, 'base_path': 'C:\\\\Users\\\\erwright\\\\Source\\\\azureml-examples\\\\sdk\\\\python\\\\foundation-models\\\\anthropic', 'creation_context': None, 'serialize': <msrest.serialization.Serializer object at 0x0000025D1BC0E3E0>, 'allowed_keys': {}, 'key_restriction': False, 'logger': <Logger attr_dict (WARNING)>, 'display_name': None, 'experiment_name': None, 'compute': None, 'services': None, 'comment': None, 'job_inputs': {'sampling_style': 'head', 'random_seed': '0', 'dataset': '${{parent.jobs.downloader.outputs.output_dataset}}', 'sampling_ratio': '${{parent.inputs.sample_ratio}}'}, 'job_outputs': {'output_dataset': {'type': 'uri_file', 'path': 'azureml://datastores/${{default_datastore}}/paths/azureml/${{name}}/${{output_name}}.jsonl'}}, 'inputs': {'sampling_style': <azure.ai.ml.entities._job.pipeline._io.base.NodeInput object at 0x0000025D1BC0EE00>, 'random_seed': <azure.ai.ml.entities._job.pipeline._io.base.NodeInput object at 0x0000025D1BC0CC10>, 'dataset': <azure.ai.ml.entities._job.pipeline._io.base.NodeInput object at 0x0000025D1BC0DDB0>, 'sampling_ratio': <azure.ai.ml.entities._job.pipeline._io.base.NodeInput object at 0x0000025D1BC0C430>}, 'outputs': {'output_dataset': <azure.ai.ml.entities._job.pipeline._io.base.NodeOutput object at 0x0000025D1BC0C490>}, 'component': 'azureml://registries/azureml/components/dataset_sampler/labels/latest', 'referenced_control_flow_node_instance_id': None, 'kwargs': {'services': None}, 'instance_id': '2f17f613-823d-473a-a8c7-cde8f3dc767f', 'source': 'REMOTE.REGISTRY', 'validate_required_input_not_provided': True, 'limits': <azure.ai.ml.entities._job.job_limits.CommandJobLimits object at 0x0000025D1BC0E350>, 'identity': None, 'distribution': None, 'environment_variables': {}, 'environment': None, 'resources': None, 'queue_settings': None, 'swept': False}), 'fewshot_downloader': Command({'parameters': {}, 'init': False, 'name': 'fewshot_downloader', 'type': 'command', 'status': None, 'log_files': None, 'description': None, 'tags': {}, 'properties': {}, 'print_as_yaml': True, 'id': None, 'Resource__source_path': None, 'base_path': 'C:\\\\Users\\\\erwright\\\\Source\\\\azureml-examples\\\\sdk\\\\python\\\\foundation-models\\\\anthropic', 'creation_context': None, 'serialize': <msrest.serialization.Serializer object at 0x0000025D1BC0E590>, 'allowed_keys': {}, 'key_restriction': False, 'logger': <Logger attr_dict (WARNING)>, 'display_name': None, 'experiment_name': None, 'compute': None, 'services': None, 'comment': None, 'job_inputs': {'dataset_name': 'winogrande', 'configuration': 'winogrande_xs', 'split': 'train'}, 'job_outputs': {'output_dataset': {'type': 'uri_folder'}}, 'inputs': {'dataset_name': <azure.ai.ml.entities._job.pipeline._io.base.NodeInput object at 0x0000025D1BC0DD50>, 'configuration': <azure.ai.ml.entities._job.pipeline._io.base.NodeInput object at 0x0000025D1BC0DCC0>, 'split': <azure.ai.ml.entities._job.pipeline._io.base.NodeInput object at 0x0000025D1BC0E680>}, 'outputs': {'output_dataset': <azure.ai.ml.entities._job.pipeline._io.base.NodeOutput object at 0x0000025D1BC0C610>}, 'component': 'azureml://registries/azureml/components/dataset_downloader/labels/latest', 'referenced_control_flow_node_instance_id': None, 'kwargs': {'services': None}, 'instance_id': 'ffd3ff8a-8528-4ea3-b25d-8b398971d2b0', 'source': 'REMOTE.REGISTRY', 'validate_required_input_not_provided': True, 'limits': <azure.ai.ml.entities._job.job_limits.CommandJobLimits object at 0x0000025D1BC0DCF0>, 'identity': None, 'distribution': None, 'environment_variables': {}, 'environment': None, 'resources': None, 'queue_settings': None, 'swept': False}), 'fewshot_sampler': Command({'parameters': {}, 'init': False, 'name': 'fewshot_sampler', 'type': 'command', 'status': None, 'log_files': None, 'description': None, 'tags': {}, 'properties': {}, 'print_as_yaml': True, 'id': None, 'Resource__source_path': None, 'base_path': 'C:\\\\Users\\\\erwright\\\\Source\\\\azureml-examples\\\\sdk\\\\python\\\\foundation-models\\\\anthropic', 'creation_context': None, 'serialize': <msrest.serialization.Serializer object at 0x0000025D1BC0F190>, 'allowed_keys': {}, 'key_restriction': False, 'logger': <Logger attr_dict (WARNING)>, 'display_name': None, 'experiment_name': None, 'compute': None, 'services': None, 'comment': None, 'job_inputs': {'sampling_style': 'head', 'sampling_ratio': '1.0', 'random_seed': '0', 'dataset': '${{parent.jobs.fewshot_downloader.outputs.output_dataset}}'}, 'job_outputs': {'output_dataset': {'type': 'uri_file', 'path': 'azureml://datastores/${{default_datastore}}/paths/azureml/${{name}}/${{output_name}}.jsonl'}}, 'inputs': {'sampling_style': <azure.ai.ml.entities._job.pipeline._io.base.NodeInput object at 0x0000025D1BC0C160>, 'sampling_ratio': <azure.ai.ml.entities._job.pipeline._io.base.NodeInput object at 0x0000025D1BC0C280>, 'random_seed': <azure.ai.ml.entities._job.pipeline._io.base.NodeInput object at 0x0000025D1BC0D600>, 'dataset': <azure.ai.ml.entities._job.pipeline._io.base.NodeInput object at 0x0000025D1BC0E620>}, 'outputs': {'output_dataset': <azure.ai.ml.entities._job.pipeline._io.base.NodeOutput object at 0x0000025D1BC0E740>}, 'component': 'azureml://registries/azureml/components/dataset_sampler/labels/latest', 'referenced_control_flow_node_instance_id': None, 'kwargs': {'services': None}, 'instance_id': 'f4c104a0-6664-4a19-b8dd-2a1230a32f36', 'source': 'REMOTE.REGISTRY', 'validate_required_input_not_provided': True, 'limits': <azure.ai.ml.entities._job.job_limits.CommandJobLimits object at 0x0000025D1BC0E5F0>, 'identity': None, 'distribution': None, 'environment_variables': {}, 'environment': None, 'resources': None, 'queue_settings': None, 'swept': False}), 'promptcrafter': Command({'parameters': {}, 'init': False, 'name': 'promptcrafter', 'type': 'command', 'status': None, 'log_files': None, 'description': None, 'tags': {}, 'properties': {}, 'print_as_yaml': True, 'id': None, 'Resource__source_path': None, 'base_path': 'C:\\\\Users\\\\erwright\\\\Source\\\\azureml-examples\\\\sdk\\\\python\\\\foundation-models\\\\anthropic', 'creation_context': None, 'serialize': <msrest.serialization.Serializer object at 0x0000025D1BCE8700>, 'allowed_keys': {}, 'key_restriction': False, 'logger': <Logger attr_dict (WARNING)>, 'display_name': None, 'experiment_name': None, 'compute': None, 'services': None, 'comment': None, 'job_inputs': {'prompt_type': 'completions', 'prefix': 'You are given a text with a blank and asked to choose between answers in options 1 or 2 to fill in the blank. There are examples within <example> tags for you to learn from. For the last question respond with only the number of the option you choose. This number must be within the tags <answer> and </answer>. Do not add other text to the response.\\n\\nHuman:', 'prompt_pattern': '### Text:\\n\\n{{sentence}}\\n\\n### Option 1:\\n\\n{{option1}}\\n\\n### Option 2:\\n\\n{{option2}}\\n\\n### Answer:\\n\\nAssistant:', 'few_shot_pattern': '<example>\\n### Text:\\n\\n{{sentence}}\\n\\n### Option 1:\\n\\n{{option1}}\\n\\n### Option 2:\\n\\n{{option2}}\\n\\n### Answer: {{answer}}\\n</example>', 'n_shots': '5', 'output_pattern': '{{answer}}', 'few_shot_separator': '\\n\\n', 'random_seed': '0', 'test_data': '${{parent.jobs.sampler.outputs.output_dataset}}', 'few_shot_data': '${{parent.jobs.fewshot_sampler.outputs.output_dataset}}'}, 'job_outputs': {'output_file': {'type': 'uri_file', 'path': 'azureml://datastores/${{default_datastore}}/paths/azureml/${{name}}/${{output_name}}.jsonl'}}, 'inputs': {'prompt_type': <azure.ai.ml.entities._job.pipeline._io.base.NodeInput object at 0x0000025D1BCE8040>, 'prefix': <azure.ai.ml.entities._job.pipeline._io.base.NodeInput object at 0x0000025D1BCE9A20>, 'prompt_pattern': <azure.ai.ml.entities._job.pipeline._io.base.NodeInput object at 0x0000025D1BCE8190>, 'few_shot_pattern': <azure.ai.ml.entities._job.pipeline._io.base.NodeInput object at 0x0000025D1BCE86D0>, 'n_shots': <azure.ai.ml.entities._job.pipeline._io.base.NodeInput object at 0x0000025D1BCE8880>, 'output_pattern': <azure.ai.ml.entities._job.pipeline._io.base.NodeInput object at 0x0000025D1BCE88B0>, 'few_shot_separator': <azure.ai.ml.entities._job.pipeline._io.base.NodeInput object at 0x0000025D1BCE90F0>, 'random_seed': <azure.ai.ml.entities._job.pipeline._io.base.NodeInput object at 0x0000025D1BCE80A0>, 'test_data': <azure.ai.ml.entities._job.pipeline._io.base.NodeInput object at 0x0000025D1BCE9C30>, 'few_shot_data': <azure.ai.ml.entities._job.pipeline._io.base.NodeInput object at 0x0000025D1BCE8130>}, 'outputs': {'output_file': <azure.ai.ml.entities._job.pipeline._io.base.NodeOutput object at 0x0000025D1BCE8100>}, 'component': 'azureml://registries/azureml-preview-test1/components/prompt_crafter/labels/latest', 'referenced_control_flow_node_instance_id': None, 'kwargs': {'services': None}, 'instance_id': '02a4d75b-e680-40d2-94d3-52e7e5155065', 'source': 'REMOTE.REGISTRY', 'validate_required_input_not_provided': True, 'limits': <azure.ai.ml.entities._job.job_limits.CommandJobLimits object at 0x0000025D1BCE8220>, 'identity': None, 'distribution': None, 'environment_variables': {}, 'environment': None, 'resources': None, 'queue_settings': None, 'swept': False}), 'endpoint': Pipeline({'init': False, 'name': 'endpoint', 'type': 'pipeline', 'status': None, 'log_files': None, 'description': None, 'tags': {}, 'properties': {}, 'print_as_yaml': True, 'id': None, 'Resource__source_path': None, 'base_path': 'C:\\\\Users\\\\erwright\\\\Source\\\\azureml-examples\\\\sdk\\\\python\\\\foundation-models\\\\anthropic', 'creation_context': None, 'serialize': <msrest.serialization.Serializer object at 0x0000025D1BCE8490>, 'allowed_keys': {}, 'key_restriction': False, 'logger': <Logger attr_dict (WARNING)>, 'display_name': None, 'experiment_name': None, 'compute': None, 'services': None, 'comment': None, 'job_inputs': {'is_performance_test': 'False', 'label_column_name': 'completion', 'handle_response_failure': 'use_fallback', 'ensure_ascii': 'False', 'initial_worker_count': '1', 'max_worker_count': '1', 'instance_count': '1', 'max_concurrency_per_instance': '1', 'debug_mode': 'False', 'input_dataset': '${{parent.jobs.promptcrafter.outputs.output_file}}', 'batch_input_pattern': '${{parent.inputs.payload_pattern}}', 'endpoint_url': '${{parent.inputs.endpoint_url}}', 'connections_name': '${{parent.inputs.ws_connection_name}}'}, 'job_outputs': {'predictions': {'type': 'uri_file', 'path': 'azureml://datastores/${{default_datastore}}/paths/azureml/${{name}}/${{output_name}}.jsonl'}, 'performance_metadata': {'type': 'uri_file', 'path': 'azureml://datastores/${{default_datastore}}/paths/azureml/${{name}}/${{output_name}}.jsonl'}, 'ground_truth': {'type': 'uri_file', 'path': 'azureml://datastores/${{default_datastore}}/paths/azureml/${{name}}/${{output_name}}.jsonl'}}, 'inputs': {'is_performance_test': <azure.ai.ml.entities._job.pipeline._io.base.NodeInput object at 0x0000025D1BCE85E0>, 'label_column_name': <azure.ai.ml.entities._job.pipeline._io.base.NodeInput object at 0x0000025D1BCE8850>, 'handle_response_failure': <azure.ai.ml.entities._job.pipeline._io.base.NodeInput object at 0x0000025D1BCE8610>, 'ensure_ascii': <azure.ai.ml.entities._job.pipeline._io.base.NodeInput object at 0x0000025D1BCE8670>, 'initial_worker_count': <azure.ai.ml.entities._job.pipeline._io.base.NodeInput object at 0x0000025D1BCE9BD0>, 'max_worker_count': <azure.ai.ml.entities._job.pipeline._io.base.NodeInput object at 0x0000025D1BCE9C90>, 'instance_count': <azure.ai.ml.entities._job.pipeline._io.base.NodeInput object at 0x0000025D1BCE9C00>, 'max_concurrency_per_instance': <azure.ai.ml.entities._job.pipeline._io.base.NodeInput object at 0x0000025D1BCE8B80>, 'debug_mode': <azure.ai.ml.entities._job.pipeline._io.base.NodeInput object at 0x0000025D1BCE8C10>, 'input_dataset': <azure.ai.ml.entities._job.pipeline._io.base.NodeInput object at 0x0000025D1BCE8BE0>, 'batch_input_pattern': <azure.ai.ml.entities._job.pipeline._io.base.NodeInput object at 0x0000025D1BCE9BA0>, 'endpoint_url': <azure.ai.ml.entities._job.pipeline._io.base.NodeInput object at 0x0000025D1BCE8CA0>, 'connections_name': <azure.ai.ml.entities._job.pipeline._io.base.NodeInput object at 0x0000025D1BCE8CD0>}, 'outputs': {'predictions': <azure.ai.ml.entities._job.pipeline._io.base.NodeOutput object at 0x0000025D1BCE8520>, 'performance_metadata': <azure.ai.ml.entities._job.pipeline._io.base.NodeOutput object at 0x0000025D1BCE8A00>, 'ground_truth': <azure.ai.ml.entities._job.pipeline._io.base.NodeOutput object at 0x0000025D1BCE8D30>}, 'component': 'azureml://registries/azureml-preview-test1/components/batch_benchmark_inference_claude/labels/latest', 'referenced_control_flow_node_instance_id': None, 'kwargs': {}, 'instance_id': '593aaabe-f718-44f0-b7bc-4d14149a1171', 'source': 'REMOTE.REGISTRY', 'validate_required_input_not_provided': True, 'settings': None}), 'postprocessor': Command({'parameters': {}, 'init': False, 'name': 'postprocessor', 'type': 'command', 'status': None, 'log_files': None, 'description': None, 'tags': {}, 'properties': {}, 'print_as_yaml': True, 'id': None, 'Resource__source_path': None, 'base_path': 'C:\\\\Users\\\\erwright\\\\Source\\\\azureml-examples\\\\sdk\\\\python\\\\foundation-models\\\\anthropic', 'creation_context': None, 'serialize': <msrest.serialization.Serializer object at 0x0000025D1BCE9990>, 'allowed_keys': {}, 'key_restriction': False, 'logger': <Logger attr_dict (WARNING)>, 'display_name': None, 'experiment_name': None, 'compute': None, 'services': None, 'comment': None, 'job_inputs': {'ground_truth_column_name': 'completion', 'prediction_column_name': 'prediction', 'separator': '###', 'regex_expr': '<answer>(.*?)</answer>', 'ground_truth_dataset': '${{parent.jobs.endpoint.outputs.ground_truth}}', 'prediction_dataset': '${{parent.jobs.endpoint.outputs.predictions}}'}, 'job_outputs': {'output_dataset_result': {'type': 'uri_file', 'path': 'azureml://datastores/${{default_datastore}}/paths/azureml/${{name}}/${{output_name}}.jsonl'}}, 'inputs': {'ground_truth_column_name': <azure.ai.ml.entities._job.pipeline._io.base.NodeInput object at 0x0000025D1BD53460>, 'prediction_column_name': <azure.ai.ml.entities._job.pipeline._io.base.NodeInput object at 0x0000025D1BC0D210>, 'separator': <azure.ai.ml.entities._job.pipeline._io.base.NodeInput object at 0x0000025D1BC0CF70>, 'regex_expr': <azure.ai.ml.entities._job.pipeline._io.base.NodeInput object at 0x0000025D1BC0CAF0>, 'ground_truth_dataset': <azure.ai.ml.entities._job.pipeline._io.base.NodeInput object at 0x0000025D1BC0CBE0>, 'prediction_dataset': <azure.ai.ml.entities._job.pipeline._io.base.NodeInput object at 0x0000025D1BC0D690>}, 'outputs': {'output_dataset_result': <azure.ai.ml.entities._job.pipeline._io.base.NodeOutput object at 0x0000025D1BC0F160>}, 'component': 'azureml://registries/azureml/components/inference_postprocessor/labels/latest', 'referenced_control_flow_node_instance_id': None, 'kwargs': {'services': None}, 'instance_id': '5b36c147-8ab1-4f35-b0aa-3f03864b84d4', 'source': 'REMOTE.REGISTRY', 'validate_required_input_not_provided': True, 'limits': <azure.ai.ml.entities._job.job_limits.CommandJobLimits object at 0x0000025D1BCE8790>, 'identity': None, 'distribution': None, 'environment_variables': {}, 'environment': None, 'resources': None, 'queue_settings': None, 'swept': False}), 'quality': Command({'parameters': {}, 'init': False, 'name': 'quality', 'type': 'command', 'status': None, 'log_files': None, 'description': None, 'tags': {}, 'properties': {}, 'print_as_yaml': True, 'id': None, 'Resource__source_path': None, 'base_path': 'C:\\\\Users\\\\erwright\\\\Source\\\\azureml-examples\\\\sdk\\\\python\\\\foundation-models\\\\anthropic', 'creation_context': None, 'serialize': <msrest.serialization.Serializer object at 0x0000025D1BC0DBA0>, 'allowed_keys': {}, 'key_restriction': False, 'logger': <Logger attr_dict (WARNING)>, 'display_name': None, 'experiment_name': None, 'compute': None, 'services': None, 'comment': None, 'job_inputs': {'task': 'question-answering', 'ground_truth_column_name': 'completion', 'prediction_column_name': 'prediction', 'ground_truth': '${{parent.jobs.postprocessor.outputs.output_dataset_result}}', 'prediction': '${{parent.jobs.postprocessor.outputs.output_dataset_result}}'}, 'job_outputs': {'evaluation_result': {'type': 'uri_folder'}}, 'inputs': {'task': <azure.ai.ml.entities._job.pipeline._io.base.NodeInput object at 0x0000025D1BC0DBD0>, 'ground_truth_column_name': <azure.ai.ml.entities._job.pipeline._io.base.NodeInput object at 0x0000025D1BC0C220>, 'prediction_column_name': <azure.ai.ml.entities._job.pipeline._io.base.NodeInput object at 0x0000025D1BC0DC30>, 'ground_truth': <azure.ai.ml.entities._job.pipeline._io.base.NodeInput object at 0x0000025D1BC0DC90>, 'prediction': <azure.ai.ml.entities._job.pipeline._io.base.NodeInput object at 0x0000025D1BC0DD20>}, 'outputs': {'evaluation_result': <azure.ai.ml.entities._job.pipeline._io.base.NodeOutput object at 0x0000025D1BC0C340>}, 'component': 'azureml://registries/azureml/components/compute_metrics/labels/latest', 'referenced_control_flow_node_instance_id': None, 'kwargs': {'services': None}, 'instance_id': '84217904-5461-4f41-9efe-f4e5fb1a29dc', 'source': 'REMOTE.REGISTRY', 'validate_required_input_not_provided': True, 'limits': <azure.ai.ml.entities._job.job_limits.CommandJobLimits object at 0x0000025D1BC0D240>, 'identity': None, 'distribution': None, 'environment_variables': {}, 'environment': None, 'resources': None, 'queue_settings': None, 'swept': False}), 'aggregator': Command({'parameters': {}, 'init': False, 'name': 'aggregator', 'type': 'command', 'status': None, 'log_files': None, 'description': None, 'tags': {}, 'properties': {}, 'print_as_yaml': True, 'id': None, 'Resource__source_path': None, 'base_path': 'C:\\\\Users\\\\erwright\\\\Source\\\\azureml-examples\\\\sdk\\\\python\\\\foundation-models\\\\anthropic', 'creation_context': None, 'serialize': <msrest.serialization.Serializer object at 0x0000025D1BC0CD30>, 'allowed_keys': {}, 'key_restriction': False, 'logger': <Logger attr_dict (WARNING)>, 'display_name': None, 'experiment_name': None, 'compute': None, 'services': None, 'comment': None, 'job_inputs': {'quality_metrics': '${{parent.jobs.quality.outputs.evaluation_result}}'}, 'job_outputs': {'benchmark_result': {'type': 'uri_file', 'path': 'azureml://datastores/${{default_datastore}}/paths/azureml/${{name}}/${{output_name}}.json'}}, 'inputs': {'quality_metrics': <azure.ai.ml.entities._job.pipeline._io.base.NodeInput object at 0x0000025D1BC0CB20>}, 'outputs': {'benchmark_result': <azure.ai.ml.entities._job.pipeline._io.base.NodeOutput object at 0x0000025D1BC0DD80>}, 'component': 'azureml://registries/azureml/components/benchmark_result_aggregator/labels/latest', 'referenced_control_flow_node_instance_id': None, 'kwargs': {'services': None}, 'instance_id': '8b8127f8-7ec4-4289-96a0-e014a5340553', 'source': 'REMOTE.REGISTRY', 'validate_required_input_not_provided': True, 'limits': <azure.ai.ml.entities._job.job_limits.CommandJobLimits object at 0x0000025D1BC0C2B0>, 'identity': None, 'distribution': None, 'environment_variables': {}, 'environment': None, 'resources': None, 'queue_settings': None, 'swept': False})}, 'job_types': {'command': 8, 'pipeline': 1}, 'job_sources': {'REMOTE.REGISTRY': 9}, 'source_job_id': None}), 'type': 'pipeline', 'status': 'Preparing', 'log_files': None, 'name': 'keen_market_04vmxb0q1g', 'description': 'Claude eval on Winogrande', 'tags': {}, 'properties': {'mlflow.source.git.repoURL': 'https://github.com/Azure/azureml-examples.git', 'mlflow.source.git.branch': 'erwright/add-anthropic-claude-eval-notebook-and-pipelines', 'mlflow.source.git.commit': '94d93c797e584537ee8bbdb17c6dd396375ced0d', 'azureml.git.dirty': 'True', 'azureml.DevPlatv2': 'true', 'azureml.DatasetAccessMode': 'Asset', 'azureml.runsource': 'azureml.PipelineRun', 'runSource': 'MFE', 'runType': 'HTTP', 'azureml.parameters': '{\"endpoint_url\":\"https://bedrock-runtime.us-east-1.amazonaws.com/model/anthropic.claude-v2:1/invoke\",\"ws_connection_name\":\"bedrock-test\",\"payload_pattern\":\"{\\\\\"prompt\\\\\": \\\\\"###<prompt>\\\\\", \\\\\"temperature\\\\\": 0.0, \\\\\"max_tokens_to_sample\\\\\": 10, \\\\\"top_p\\\\\": 1.0}\",\"sample_ratio\":\"0.01\"}', 'azureml.continue_on_step_failure': 'True', 'azureml.continue_on_failed_optional_input': 'True', 'azureml.enforceRerun': 'False', 'azureml.defaultComputeName': 'cpu-cluster-benchmarking', 'azureml.defaultDataStoreName': 'workspaceblobstore', 'azureml.pipelineComponent': 'pipelinerun'}, 'print_as_yaml': True, 'id': '/subscriptions/72c03bf3-4e69-41af-9532-dfcdc3eefef4/resourceGroups/aml-benchmarking/providers/Microsoft.MachineLearningServices/workspaces/aml-benchmarking-rd/jobs/keen_market_04vmxb0q1g', 'Resource__source_path': None, 'base_path': 'C:\\\\Users\\\\erwright\\\\Source\\\\azureml-examples\\\\sdk\\\\python\\\\foundation-models\\\\anthropic', 'creation_context': <azure.ai.ml.entities._system_data.SystemData object at 0x0000025D1BD87190>, 'serialize': <msrest.serialization.Serializer object at 0x0000025D1BCE8580>, 'display_name': 'winogrande_claude', 'experiment_name': 'benchmark-claude-v2_1', 'compute': None, 'services': {'Tracking': {'endpoint': 'azureml://eastus.api.azureml.ms/mlflow/v1.0/subscriptions/72c03bf3-4e69-41af-9532-dfcdc3eefef4/resourceGroups/aml-benchmarking/providers/Microsoft.MachineLearningServices/workspaces/aml-benchmarking-rd?', 'type': 'Tracking'}, 'Studio': {'endpoint': 'https://ml.azure.com/runs/keen_market_04vmxb0q1g?wsid=/subscriptions/72c03bf3-4e69-41af-9532-dfcdc3eefef4/resourcegroups/aml-benchmarking/workspaces/aml-benchmarking-rd&tid=72f988bf-86f1-41af-91ab-2d7cd011db47', 'type': 'Studio'}}, 'settings': {}, 'identity': None, 'default_code': None, 'default_environment': None})"
      ]
     },
     "execution_count": 3,
     "metadata": {},
     "output_type": "execute_result"
    }
   ],
   "source": [
    "from azure.ai.ml import load_job\n",
    "\n",
    "# load the pipeline from the yaml def\n",
    "pipeline_job = load_job(f'./evaluation_pipelines/{eval_name}.yaml')\n",
    "\n",
    "# Set pipeline job inputs\n",
    "pipeline_job.settings.default_compute = compute_name\n",
    "pipeline_job.inputs.endpoint_url = bedrock_endpoint_url\n",
    "pipeline_job.inputs.ws_connection_name = connection_name\n",
    "pipeline_job.inputs.sample_ratio = sample_ratio\n",
    "\n",
    "# Start the job in the Workspace\n",
    "returned_job = ml_client.jobs.create_or_update(\n",
    "    pipeline_job,\n",
    "    experiment_name=experiment_name\n",
    ")\n",
    "returned_job"
   ]
  },
  {
   "cell_type": "markdown",
   "id": "095005d9-1deb-4097-a718-4059a335ec09",
   "metadata": {},
   "source": [
    "Run the next cell to stream the job. Notebook execution will be paused until the job finishes."
   ]
  },
  {
   "cell_type": "code",
   "execution_count": 4,
   "id": "1376aa46-725d-4d6c-8725-3a2d4d52bdfc",
   "metadata": {},
   "outputs": [
    {
     "name": "stdout",
     "output_type": "stream",
     "text": [
      "RunId: gray_boniato_wc7hhqszdh\n",
      "Web View: https://ml.azure.com/runs/gray_boniato_wc7hhqszdh?wsid=/subscriptions/72c03bf3-4e69-41af-9532-dfcdc3eefef4/resourcegroups/aml-benchmarking/workspaces/aml-benchmarking-rd\n",
      "\n",
      "Streaming logs/azureml/executionlogs.txt\n",
      "========================================\n",
      "\n",
      "[2023-12-08 19:47:58Z] Completing processing run id 473d89b7-8448-44d5-8629-f567ce8fab42.\n",
      "[2023-12-08 19:47:58Z] Completing processing run id c7bde7c6-6640-4c7a-bbf7-9456b029431e.\n",
      "[2023-12-08 19:48:00Z] Completing processing run id 968420ea-494b-4b2c-ab1a-a22fb3b395fa.\n",
      "[2023-12-08 19:48:01Z] Submitting 1 runs, first five are: e72d23bd:1d412f62-7128-41d4-b3a8-3ab599e2ab08\n",
      "[2023-12-08 20:02:55Z] Completing processing run id 1d412f62-7128-41d4-b3a8-3ab599e2ab08.\n",
      "[2023-12-08 20:02:55Z] Submitting 1 runs, first five are: ee438edb:58ff1e09-979a-4abc-8126-735804b471d9\n",
      "[2023-12-08 20:13:39Z] Completing processing run id 58ff1e09-979a-4abc-8126-735804b471d9.\n",
      "[2023-12-08 20:13:39Z] Submitting 1 runs, first five are: 98f79e69:42f881d2-cabf-44be-87b9-9435bb6c0516\n",
      "[2023-12-08 20:20:28Z] Submitting 1 runs, first five are: 0aeed83c:8ba800f8-5277-40b2-9730-4ca08661a5f3\n",
      "[2023-12-08 20:20:31Z] Completing processing run id 42f881d2-cabf-44be-87b9-9435bb6c0516.\n",
      "[2023-12-08 20:27:46Z] Completing processing run id 8ba800f8-5277-40b2-9730-4ca08661a5f3.\n",
      "[2023-12-08 20:27:47Z] Submitting 1 runs, first five are: 5c9de622:a4ec041a-18a1-427b-bf7c-ec83f0687d1d\n",
      "[2023-12-08 20:38:54Z] Completing processing run id a4ec041a-18a1-427b-bf7c-ec83f0687d1d.\n",
      "[2023-12-08 20:38:54Z] Submitting 1 runs, first five are: 5215ad79:762885ef-d948-416e-94e2-452e6d4f29e5\n",
      "\n",
      "Execution Summary\n",
      "=================\n",
      "RunId: gray_boniato_wc7hhqszdh\n",
      "Web View: https://ml.azure.com/runs/gray_boniato_wc7hhqszdh?wsid=/subscriptions/72c03bf3-4e69-41af-9532-dfcdc3eefef4/resourcegroups/aml-benchmarking/workspaces/aml-benchmarking-rd\n",
      "\n"
     ]
    }
   ],
   "source": [
    "# Wait until the job completes\n",
    "ml_client.jobs.stream(returned_job.name)"
   ]
  },
  {
   "cell_type": "markdown",
   "id": "07fa2c79-f875-4c4f-8f09-37158b56bdcd",
   "metadata": {},
   "source": [
    "## Retrieve accuracy scores from the run\n",
    "When the pipeline finishes, you can retrieve evaluation metrics from the run via mlflow. The primary measure of accuracy for the evals is `mean_exact_match`, with the exception of human_eval which uses `pass@1`. \n",
    "\n",
    "Mean exact match is the proportion of model predictions that exactly match the corresponding correct answers. Thus, it is applicable to question answering evaluations that are multiple choice or have a single, correct answer. The pass@1 metric is used for evaluating code generation and is the proportion of model generated code solutions that pass a set of unit tests given in the eval dataset. "
   ]
  },
  {
   "cell_type": "code",
   "execution_count": 5,
   "id": "299bf8ea-49ab-44c3-96e6-51902fa03df4",
   "metadata": {},
   "outputs": [
    {
     "name": "stdout",
     "output_type": "stream",
     "text": [
      "Accuracy metric name: mean_exact_match\n",
      "Accuracy metric value: 0.6111111111111112\n"
     ]
    }
   ],
   "source": [
    "import mlflow\n",
    "\n",
    "accuracy_metric_name = 'mean_exact_match' if eval_name != 'human_eval' else 'pass@1'\n",
    "\n",
    "mlflow_tracking_uri = ml_client.workspaces.get(ml_client.workspace_name).mlflow_tracking_uri\n",
    "mlflow.set_tracking_uri(mlflow_tracking_uri)\n",
    "\n",
    "run = mlflow.get_run(run_id=returned_job.name)\n",
    "metric_val = run.data.metrics[accuracy_metric_name]\n",
    "\n",
    "print(f'Accuracy metric name: {accuracy_metric_name}')\n",
    "print(f'Accuracy metric value: {metric_val}')"
   ]
  },
  {
   "cell_type": "code",
   "execution_count": null,
   "id": "a8b02e09-c7aa-4014-a855-99e3180be2b0",
   "metadata": {},
   "outputs": [],
   "source": []
  }
 ],
 "metadata": {
  "kernelspec": {
   "display_name": "AzureML SDK v2",
   "language": "python",
   "name": "azureml_sdk_v2"
  },
  "language_info": {
   "codemirror_mode": {
    "name": "ipython",
    "version": 3
   },
   "file_extension": ".py",
   "mimetype": "text/x-python",
   "name": "python",
   "nbconvert_exporter": "python",
   "pygments_lexer": "ipython3",
   "version": "3.10.13"
  }
 },
 "nbformat": 4,
 "nbformat_minor": 5
}
