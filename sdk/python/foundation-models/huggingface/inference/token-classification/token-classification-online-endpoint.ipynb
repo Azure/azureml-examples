{
 "cells": [
  {
   "attachments": {},
   "cell_type": "markdown",
   "metadata": {},
   "source": [
    "## Deploy token-classification models from HuggingFaceHub to AzureML Online Endpoints\n",
    "\n",
    "This sample shows how to deploy `token-classification` models from the HuggingFaceHub to an online endpoint for inference. Learn more about `token-classification` task: https://huggingface.co/tasks/token-classification\n",
    "\n",
    "A large set of models hosted on [Hugging Face Hub](https://huggingface.co/models) are available in the Hugging Face Hub collection in AzureML Model Catalog. This collection is powered by the Hugging Face Hub community registry. Integration with the AzureML Model Catalog enables seamless deployment of Hugging Face Hub models in AzureML. _todo: learn more link_\n",
    "\n",
    "### Outline\n",
    "* Set up pre-requisites.\n",
    "* Pick a model to deploy.\n",
    "* Deploy the model for real time inference.\n",
    "* Try sample inference.\n",
    "* Clean up resources."
   ]
  },
  {
   "attachments": {},
   "cell_type": "markdown",
   "metadata": {},
   "source": [
    "### Set up pre-requisites\n",
    "* Install dependencies\n",
    "* Connect to AzureML Workspace. Learn more at [set up SDK authentication](https://learn.microsoft.com/en-us/azure/machine-learning/how-to-setup-authentication?tabs=sdk). Replace  `<WORKSPACE_NAME>`, `<RESOURCE_GROUP>` and `<SUBSCRIPTION_ID>` below.\n",
    "* Connect to `HuggingFaceHub` community registry"
   ]
  },
  {
   "cell_type": "code",
   "execution_count": 12,
   "metadata": {},
   "outputs": [
    {
     "name": "stdout",
     "output_type": "stream",
     "text": [
      "We could not find config.json in: . or in its parent directories. Please provide the full path to the config file or ensure that config.json exists in the parent directories.\n",
      "MLClient(credential=<azure.identity._credentials.default.DefaultAzureCredential object at 0x7efc6f6d0b50>,\n",
      "         subscription_id=d5210851-d1ca-44ac-8071-a0c7191e9631,\n",
      "         resource_group_name=prod-azure-ml-registry,\n",
      "         workspace_name=None)\n"
     ]
    }
   ],
   "source": [
    "from azure.ai.ml import MLClient\n",
    "from azure.identity import (\n",
    "    DefaultAzureCredential,\n",
    "    InteractiveBrowserCredential,\n",
    "    ClientSecretCredential,\n",
    ")\n",
    "from azure.ai.ml.entities import AmlCompute\n",
    "import time\n",
    "\n",
    "try:\n",
    "    credential = DefaultAzureCredential()\n",
    "    credential.get_token(\"https://management.azure.com/.default\")\n",
    "except Exception as ex:\n",
    "    credential = InteractiveBrowserCredential()\n",
    "\n",
    "# connect to a workspace\n",
    "workspace_ml_client = None\n",
    "try:\n",
    "    workspace_ml_client = MLClient.from_config(credential)\n",
    "    subscription_id = workspace_ml_client.subscription_id\n",
    "    workspace = workspace_ml_client.workspace_name\n",
    "    resource_group = workspace_ml_client.resource_group_name\n",
    "except Exception as ex:\n",
    "    print(ex)\n",
    "    # Enter details of your workspace\n",
    "    subscription_id = \"<SUBSCRIPTION_ID>\"\n",
    "    resource_group = \"<RESOURCE_GROUP>\"\n",
    "    workspace = \"<AML_WORKSPACE_NAME>\"\n",
    "    workspace_ml_client = MLClient(\n",
    "        credential, subscription_id, resource_group, workspace\n",
    "    )\n",
    "# Connect to the HuggingFaceHub registry\n",
    "registry_ml_client = MLClient(credential, registry_name=\"HuggingFaceHub\")\n",
    "print(registry_ml_client)"
   ]
  },
  {
   "attachments": {},
   "cell_type": "markdown",
   "metadata": {},
   "source": [
    "### Pick a model to deploy\n",
    "\n",
    "Open the Model Catalog in AzureML Studio and choose the Hugging Face Hub collection. Filter by the `fill-mask` task and search any specific models you are interested in. In this example, we use the `bert-base-uncased` model. If you plan to deploy a different model, replace the model name and version accordingly. "
   ]
  },
  {
   "cell_type": "code",
   "execution_count": 4,
   "metadata": {},
   "outputs": [
    {
     "name": "stdout",
     "output_type": "stream",
     "text": [
      "\n",
      "\n",
      "Using model name: dslim-bert-base-ner, version: 15, id: azureml://registries/HuggingFaceHub/models/dslim-bert-base-ner/versions/15 for inferencing\n"
     ]
    }
   ],
   "source": [
    "model_name = \"dslim-bert-base-ner\"\n",
    "foundation_model = registry_ml_client.models.get(model_name, version=\"15\")\n",
    "print(\n",
    "    \"\\n\\nUsing model name: {0}, version: {1}, id: {2} for inferencing\".format(\n",
    "        foundation_model.name, foundation_model.version, foundation_model.id\n",
    "    )\n",
    ")"
   ]
  },
  {
   "attachments": {},
   "cell_type": "markdown",
   "metadata": {},
   "source": [
    "### Deploy the model to an online endpoint\n",
    "Online endpoints give a durable REST API that can be used to integrate with applications that need to use the model. Create an online endpoint and then create an online deployment. You need to specify the Virtual Machine instance or SKU when creating the deployment. You can find the optimal CPU or GPU SKU for a model by opening the quick deployment dialog from the model page in the AzureML Model Catalog. Specify the SKU in the `instance_type` input in deployment settings below.\n",
    "\n",
    "Typically Online Endpoints require you to provide scoring script and a docker container image (through an AzureML environment), in addition to the model. You don't need to worry about them for HuggingFace Hub models available in AzureML Model Catalog because we have enabled 'no code deployments' for these models by packaging scoring script and container image along with the model.\n",
    "\n",
    "Learn more about Online Endpoints: https://learn.microsoft.com/en-us/azure/machine-learning/how-to-deploy-online-endpoints"
   ]
  },
  {
   "cell_type": "code",
   "execution_count": 5,
   "metadata": {},
   "outputs": [],
   "source": [
    "import time, sys\n",
    "from azure.ai.ml.entities import (\n",
    "    ManagedOnlineEndpoint,\n",
    "    ManagedOnlineDeployment,\n",
    "    OnlineRequestSettings,\n",
    ")\n",
    "\n",
    "# Create online endpoint - endpoint names need to be unique in a region, hence using timestamp to create unique endpoint name\n",
    "timestamp = int(time.time())\n",
    "online_endpoint_name = \"token-classification-\" + str(timestamp)\n",
    "# create an online endpoint\n",
    "endpoint = ManagedOnlineEndpoint(\n",
    "    name=online_endpoint_name,\n",
    "    description=\"Online endpoint for \" + foundation_model.name + \", for token-classification task\",\n",
    "    auth_mode=\"key\",\n",
    ")\n",
    "workspace_ml_client.begin_create_or_update(endpoint).wait()"
   ]
  },
  {
   "cell_type": "code",
   "execution_count": 6,
   "metadata": {},
   "outputs": [
    {
     "name": "stderr",
     "output_type": "stream",
     "text": [
      "Check: endpoint token-classification-1684196348 exists\n"
     ]
    },
    {
     "name": "stdout",
     "output_type": "stream",
     "text": [
      "..........................................................................................................................."
     ]
    },
    {
     "data": {
      "text/plain": [
       "ManagedOnlineEndpoint({'public_network_access': 'Enabled', 'provisioning_state': 'Succeeded', 'scoring_uri': 'https://token-classification-1684196348.westus.inference.ml.azure.com/score', 'openapi_uri': 'https://token-classification-1684196348.westus.inference.ml.azure.com/swagger.json', 'name': 'token-classification-1684196348', 'description': 'Online endpoint for dslim-bert-base-ner, for token-classification task', 'tags': {}, 'properties': {'azureml.onlineendpointid': '/subscriptions/ea4faa5b-5e44-4236-91f6-5483d5b17d14/resourcegroups/kritifaujdar-rg/providers/microsoft.machinelearningservices/workspaces/kritifaujdar-ws/onlineendpoints/token-classification-1684196348', 'AzureAsyncOperationUri': 'https://management.azure.com/subscriptions/ea4faa5b-5e44-4236-91f6-5483d5b17d14/providers/Microsoft.MachineLearningServices/locations/westus/mfeOperationsStatus/oe:ca131d77-08b6-4466-bf1d-fa4ff204bf31:4add5955-947b-4ae3-847d-62e8fa66af5e?api-version=2022-02-01-preview'}, 'print_as_yaml': True, 'id': '/subscriptions/ea4faa5b-5e44-4236-91f6-5483d5b17d14/resourceGroups/kritifaujdar-rg/providers/Microsoft.MachineLearningServices/workspaces/kritifaujdar-ws/onlineEndpoints/token-classification-1684196348', 'Resource__source_path': None, 'base_path': '/home/kriti/hf-samples/azureml-examples/sdk/python/foundation-models/huggingface/inference/token-classification', 'creation_context': None, 'serialize': <msrest.serialization.Serializer object at 0x7efc6d59e290>, 'auth_mode': 'key', 'location': 'westus', 'identity': <azure.ai.ml.entities._credentials.IdentityConfiguration object at 0x7efc6d5b0490>, 'traffic': {'demo': 100}, 'mirror_traffic': {}, 'kind': 'Managed'})"
      ]
     },
     "execution_count": 6,
     "metadata": {},
     "output_type": "execute_result"
    }
   ],
   "source": [
    "# create a deployment\n",
    "demo_deployment = ManagedOnlineDeployment(\n",
    "    name=\"demo\",\n",
    "    endpoint_name=online_endpoint_name,\n",
    "    model=foundation_model.id,\n",
    "    instance_type=\"Standard_DS3_v2\",\n",
    "    instance_count=1,\n",
    ")\n",
    "workspace_ml_client.online_deployments.begin_create_or_update(demo_deployment).wait()\n",
    "# online endpoints can have multiple deployments with traffic split or shadow traffic. Set traffic to 100% for demo deployment\n",
    "endpoint.traffic = {\"demo\": 100}\n",
    "workspace_ml_client.begin_create_or_update(endpoint).result()"
   ]
  },
  {
   "attachments": {},
   "cell_type": "markdown",
   "metadata": {},
   "source": [
    "### Try sample inference\n",
    "\n",
    "Online endpoints expose a REST API that can be integrated into your applications. Learn how to fetch the scoring REST API and credentials for online endpoints here: https://learn.microsoft.com/en-us/azure/machine-learning/how-to-authenticate-online-endpoint\n",
    "\n",
    "In this example, we will use the Python SDK helper method to invoke the endpoint. "
   ]
  },
  {
   "cell_type": "code",
   "execution_count": 41,
   "metadata": {},
   "outputs": [
    {
     "name": "stdout",
     "output_type": "stream",
     "text": [
      "https://huggingface.co/api/models/dslim/bert-base-NER\n",
      "{'_id': '621ffdc136468d709f17a8e5', 'id': 'dslim/bert-base-NER', 'modelId': 'dslim/bert-base-NER', 'author': 'dslim', 'sha': '7a1d333eb0aadffc59fd1e4f56bfedf56b5028e4', 'lastModified': '2023-05-09T16:37:55.000Z', 'private': False, 'disabled': False, 'gated': False, 'pipeline_tag': 'token-classification', 'tags': ['pytorch', 'tf', 'jax', 'safetensors', 'bert', 'token-classification', 'en', 'dataset:conll2003', 'arxiv:1810.04805', 'transformers', 'license:mit', 'autotrain_compatible', 'has_space'], 'downloads': 2006954, 'library_name': 'transformers', 'mask_token': '[MASK]', 'widgetData': [{'text': 'My name is Wolfgang and I live in Berlin'}, {'text': 'My name is Sarah and I live in London'}, {'text': 'My name is Clara and I live in Berkeley, California.'}], 'likes': 166, 'model-index': None, 'config': {'architectures': ['BertForTokenClassification'], 'model_type': 'bert'}, 'cardData': {'language': 'en', 'datasets': ['conll2003'], 'license': 'mit'}, 'transformersInfo': {'auto_model': 'AutoModelForTokenClassification', 'pipeline_tag': 'token-classification', 'processor': 'AutoTokenizer'}, 'spaces': ['rajistics/Financial_Analyst_AI', 'aseifert/ExplaiNER', 'elozano/news-analyzer', 'Sybghat/resume-parser', 'asimokby/cv-parser-huggingface', 'bentrevett/named-entity-recognition', 'SpindoxLabs/companies_NER', 'awacke1/Named-entity-resolution', 'awacke1/Token-Classification-NER-dslim-bert-base-NER', 'Tiju1996/resume-parser', 'awacke1/HEDIS.Dash.Component.Top.Clinical.Terminology.Vocabulary', 'kingfisher/ner-demo', 'atharvat80/Wikipedia2Vec-NED', 'atomiclabs/token_classification', 'eson/kplug', 'Rai007-is-here/emotion-analysis-demo', 'cdrc1103/bert_for_ner', 'sd99/NERBERT', 'llomb4/dslim-bert-base-NER', 'ateliershen/dslim-bert-base-NER', 'dslim/NER', 'neuralmagic/ner-long-text', 'UVA-MSBA/MOD4_Team10'], 'siblings': [{'rfilename': '.gitattributes'}, {'rfilename': 'README.md'}, {'rfilename': 'added_tokens.json'}, {'rfilename': 'config.json'}, {'rfilename': 'flax_model.msgpack'}, {'rfilename': 'model.safetensors'}, {'rfilename': 'pytorch_model.bin'}, {'rfilename': 'special_tokens_map.json'}, {'rfilename': 'tf_model.h5'}, {'rfilename': 'tokenizer_config.json'}, {'rfilename': 'vocab.txt'}]}\n"
     ]
    }
   ],
   "source": [
    "# Get the model object from HuggingFaceHub. We can use it to check for sample test data\n",
    "import urllib.request, json\n",
    "\n",
    "raw_data = urllib.request.urlopen(\n",
    "    \"https://huggingface.co/api/models/\" + foundation_model.tags[\"modelId\"]\n",
    ")\n",
    "\n",
    "print(\"https://huggingface.co/api/models/\" + foundation_model.tags[\"modelId\"])\n",
    "data = json.load(raw_data)\n",
    "print(data)"
   ]
  },
  {
   "cell_type": "code",
   "execution_count": 10,
   "metadata": {},
   "outputs": [
    {
     "name": "stdout",
     "output_type": "stream",
     "text": [
      "\n",
      "\n",
      "Sample scoring file: \n",
      "{'inputs': ['My name is Wolfgang and I live in Berlin', 'My name is Sarah and I live in London', 'My name is Clara and I live in Berkeley, California.']}\n"
     ]
    }
   ],
   "source": [
    "# check if there is sample inference data available on HuggingFaceHub for the model, else try with the backup sample data\n",
    "scoring_file = \"./sample_score.json\"\n",
    "inputs = []\n",
    "if \"widgetData\" in data:\n",
    "    for input in data[\"widgetData\"]:\n",
    "        inputs.append(input[\"text\"])\n",
    "    # write the sample_score.json file\n",
    "    score_dict = {\"inputs\": inputs}\n",
    "    with open(scoring_file, \"w\") as outfile:\n",
    "        json.dump(score_dict, outfile)\n",
    "else:\n",
    "    scoring_file = \"./sample_score_backup.json\"\n",
    "\n",
    "# print the sample scoring file\n",
    "print(\"\\n\\nSample scoring file: \")\n",
    "with open(scoring_file) as json_file:\n",
    "    scoring_data = json.load(json_file)\n",
    "    print(scoring_data)"
   ]
  },
  {
   "cell_type": "code",
   "execution_count": 29,
   "metadata": {},
   "outputs": [
    {
     "name": "stdout",
     "output_type": "stream",
     "text": [
      "[\n",
      "  [\n",
      "    {\n",
      "      \"entity\": \"B-PER\",\n",
      "      \"score\": 0.9990139007568359,\n",
      "      \"index\": 4,\n",
      "      \"word\": \"Wolfgang\",\n",
      "      \"start\": 11,\n",
      "      \"end\": 19\n",
      "    },\n",
      "    {\n",
      "      \"entity\": \"B-LOC\",\n",
      "      \"score\": 0.9996449947357178,\n",
      "      \"index\": 9,\n",
      "      \"word\": \"Berlin\",\n",
      "      \"start\": 34,\n",
      "      \"end\": 40\n",
      "    }\n",
      "  ],\n",
      "  [\n",
      "    {\n",
      "      \"entity\": \"B-PER\",\n",
      "      \"score\": 0.9985477328300476,\n",
      "      \"index\": 4,\n",
      "      \"word\": \"Sarah\",\n",
      "      \"start\": 11,\n",
      "      \"end\": 16\n",
      "    },\n",
      "    {\n",
      "      \"entity\": \"B-LOC\",\n",
      "      \"score\": 0.9996215105056763,\n",
      "      \"index\": 9,\n",
      "      \"word\": \"London\",\n",
      "      \"start\": 31,\n",
      "      \"end\": 37\n",
      "    }\n",
      "  ],\n",
      "  [\n",
      "    {\n",
      "      \"entity\": \"B-PER\",\n",
      "      \"score\": 0.9964176416397095,\n",
      "      \"index\": 4,\n",
      "      \"word\": \"Clara\",\n",
      "      \"start\": 11,\n",
      "      \"end\": 16\n",
      "    },\n",
      "    {\n",
      "      \"entity\": \"B-LOC\",\n",
      "      \"score\": 0.9961979985237122,\n",
      "      \"index\": 9,\n",
      "      \"word\": \"Berkeley\",\n",
      "      \"start\": 31,\n",
      "      \"end\": 39\n",
      "    },\n",
      "    {\n",
      "      \"entity\": \"B-LOC\",\n",
      "      \"score\": 0.9990196228027344,\n",
      "      \"index\": 11,\n",
      "      \"word\": \"California\",\n",
      "      \"start\": 41,\n",
      "      \"end\": 51\n",
      "    }\n",
      "  ]\n",
      "]\n"
     ]
    }
   ],
   "source": [
    "# score the sample_score.json file using the online endpoint with the azureml endpoint invoke method\n",
    "response = workspace_ml_client.online_endpoints.invoke(\n",
    "    endpoint_name=online_endpoint_name,\n",
    "    deployment_name=\"demo\",\n",
    "    request_file=scoring_file,\n",
    ")\n",
    "response_json = json.loads(response)\n",
    "print(json.dumps(response_json, indent=2))\n"
   ]
  },
  {
   "cell_type": "code",
   "execution_count": 18,
   "metadata": {},
   "outputs": [
    {
     "name": "stdout",
     "output_type": "stream",
     "text": [
      "  entity     score  index        word  start  end\n",
      "0  B-PER  0.999014      4    Wolfgang     11   19\n",
      "1  B-LOC  0.999645      9      Berlin     34   40\n",
      "2  B-PER  0.998548      4       Sarah     11   16\n",
      "3  B-LOC  0.999622      9      London     31   37\n",
      "4  B-PER  0.996418      4       Clara     11   16\n",
      "5  B-LOC  0.996198      9    Berkeley     31   39\n",
      "6  B-LOC  0.999020     11  California     41   51\n"
     ]
    }
   ],
   "source": [
    "# load the repsonse into a dataframe to better visualize the results\n",
    "import pandas as pd\n",
    "\n",
    "response_df = pd.DataFrame()\n",
    "for result in response_json:\n",
    "    for row in result:\n",
    "        df = pd.DataFrame(row, index=[0])\n",
    "        response_df = pd.concat([response_df, df], ignore_index=True)\n",
    "\n",
    "print(response_df.head(len(response_df)))"
   ]
  },
  {
   "attachments": {},
   "cell_type": "markdown",
   "metadata": {},
   "source": [
    "Let's make the output prettier and print it in below format:\n",
    "\n",
    "\"My name is Wolfgang [B-PER] and I live in Berlin [B-LOC]\""
   ]
  },
  {
   "cell_type": "code",
   "execution_count": 39,
   "metadata": {},
   "outputs": [
    {
     "name": "stdout",
     "output_type": "stream",
     "text": [
      "My name is Wolfgang [B-PER] and I live in Berlin [B-LOC]\n",
      "My name is Sarah [B-PER] and I live in London [B-LOC]\n",
      "My name is Clara [B-PER] and I live in Berkeley [B-LOC], California [B-LOC].\n"
     ]
    }
   ],
   "source": [
    "import json\n",
    "\n",
    "def concatenate_entity(input_string, json_data):\n",
    "    data = json.loads(json_data)\n",
    "    output_string = input_string\n",
    "    \n",
    "    for sublist in data:\n",
    "        for entity in sublist:\n",
    "            word = entity.get(\"word\")\n",
    "            entity_type = entity.get(\"entity\")\n",
    "            if word and entity_type:\n",
    "                if word in output_string:\n",
    "                    output_string = output_string.replace(word, f\"{word} [{entity_type}]\")\n",
    "    \n",
    "    return output_string\n",
    "\n",
    "for input_string in scoring_data['inputs']:\n",
    "  output = concatenate_entity(input_string, response)\n",
    "  print(output)"
   ]
  },
  {
   "attachments": {},
   "cell_type": "markdown",
   "metadata": {},
   "source": [
    "### Delete the online endpoint\n",
    "Don't forget to delete the online endpoint, else you will leave the billing meter running for the compute used by the endpoint."
   ]
  },
  {
   "cell_type": "code",
   "execution_count": 40,
   "metadata": {},
   "outputs": [
    {
     "name": "stdout",
     "output_type": "stream",
     "text": [
      "............................................................................................"
     ]
    }
   ],
   "source": [
    "workspace_ml_client.online_endpoints.begin_delete(name=online_endpoint_name).wait()"
   ]
  },
  {
   "cell_type": "code",
   "execution_count": null,
   "metadata": {},
   "outputs": [],
   "source": []
  }
 ],
 "metadata": {
  "kernelspec": {
   "display_name": "updated",
   "language": "python",
   "name": "python3"
  },
  "language_info": {
   "codemirror_mode": {
    "name": "ipython",
    "version": 3
   },
   "file_extension": ".py",
   "mimetype": "text/x-python",
   "name": "python",
   "nbconvert_exporter": "python",
   "pygments_lexer": "ipython3",
   "version": "3.11.2"
  },
  "orig_nbformat": 4
 },
 "nbformat": 4,
 "nbformat_minor": 2
}
