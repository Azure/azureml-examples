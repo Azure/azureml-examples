{
 "cells": [
  {
   "attachments": {},
   "cell_type": "markdown",
   "id": "69484eca",
   "metadata": {},
   "source": [
    "# Build Pipeline with Azure OpenAI CommandComponents from registry\n",
    "\n",
    "**Requirements** - In order to benefit from this tutorial, you will need:\n",
    "- A basic understanding of Machine Learning\n",
    "- An Azure account with an active subscription - [Create an account for free](https://azure.microsoft.com/free/?WT.mc_id=A261C142F)\n",
    "- An Azure ML workspace with computer cluster - [Configure workspace](../../configuration.ipynb)\n",
    "- A python environment\n",
    "- Installed Azure Machine Learning Python SDK v2 - [install instructions](../../../README.md) - check the getting started section\n",
    "\n",
    "**Learning Objectives** - By the end of this tutorial, you should be able to:\n",
    "- Connect to your AML workspace from the Python SDKv2\n",
    "- Define and load Azure OpenAI `CommandComponent` from the registry\n",
    "- Create `Pipeline` using loaded component.\n",
    "\n",
    "**Motivations** - This notebook covers the scenario where a user can load OpenAI components from the registry to create a pipeline and submit the job using sdkv2 "
   ]
  },
  {
   "attachments": {},
   "cell_type": "markdown",
   "id": "0a46a0d8-d35a-437b-8fe6-25854ef6dd42",
   "metadata": {},
   "source": [
    "# 1. Connect to Azure Machine Learning Registry\n",
    "\n",
    "A [registry](https://learn.microsoft.com/en-us/azure/machine-learning/concept-machine-learning-registries-mlops) is a container of shared assets that can be used across many workspaces.\n",
    "\n",
    "## 1.1 Import the required libraries"
   ]
  },
  {
   "cell_type": "code",
   "execution_count": null,
   "id": "f5d327ef-3466-40cf-a6a6-395529cfcf6e",
   "metadata": {},
   "outputs": [],
   "source": [
    "# Import required libraries\n",
    "from azure.identity import DefaultAzureCredential, InteractiveBrowserCredential\n",
    "\n",
    "from azure.ai.ml import MLClient, Input\n",
    "from azure.ai.ml.dsl import pipeline\n",
    "from azure.ai.ml import load_component"
   ]
  },
  {
   "attachments": {},
   "cell_type": "markdown",
   "id": "7bc31b17",
   "metadata": {},
   "source": [
    "## 1.2 Configure credential\n",
    "\n",
    "We are using `DefaultAzureCredential` to get access to workspace which should be capable of handling most Azure SDK authentication scenarios. \n",
    "\n",
    "Reference for more available credentials if it does not work for you: [configure credential example](../../configuration.ipynb), [azure-identity reference doc](https://docs.microsoft.com/en-us/python/api/azure-identity/azure.identity?view=azure-python).\n",
    "Check the [configuration notebook](https://github.com/Azure/azureml-examples/blob/6142c51451561447befa665e8dd6fb3ff80bdb62/sdk/python/jobs/configuration.ipynb) for more details on how to configure credentials and connect to a workspace."
   ]
  },
  {
   "cell_type": "code",
   "execution_count": null,
   "id": "c4169370-43a9-4bd7-adca-ec3accf14400",
   "metadata": {},
   "outputs": [],
   "source": [
    "try:\n",
    "    credential = DefaultAzureCredential()\n",
    "    # Check if given credential can get token successfully.\n",
    "    credential.get_token(\"https://management.azure.com/.default\")\n",
    "except Exception as ex:\n",
    "    # Fall back to InteractiveBrowserCredential in case DefaultAzureCredential not work\n",
    "    credential = InteractiveBrowserCredential()"
   ]
  },
  {
   "attachments": {},
   "cell_type": "markdown",
   "id": "ac24d6f7",
   "metadata": {},
   "source": [
    "## 1.3 Get a handle to the registry\n",
    "\n",
    "We need to initialize a MlClient pointed to the registry where the OpenAI components are available. [Check this api documentation for more details](https://learn.microsoft.com/en-us/python/api/azure-ai-ml/azure.ai.ml.mlclient?view=azure-python)"
   ]
  },
  {
   "cell_type": "code",
   "execution_count": null,
   "id": "e5b58d89-5ead-41fa-b295-972ad7b15acf",
   "metadata": {},
   "outputs": [],
   "source": [
    "# Get a handle to workspace\n",
    "ml_client = MLClient(\n",
    "    credential=credential,\n",
    "    registry_name=\"azure-openai-preview\",\n",
    "    registry_location=\"eastus\",\n",
    ")"
   ]
  },
  {
   "attachments": {},
   "cell_type": "markdown",
   "id": "b48af564",
   "metadata": {},
   "source": [
    "# 2. Define and create components into workspace\n",
    "## 2.1 Load components from registry"
   ]
  },
  {
   "cell_type": "code",
   "execution_count": null,
   "id": "9fe7872f-d02e-49f1-b3f6-4e3c54c57186",
   "metadata": {},
   "outputs": [],
   "source": [
    "openai_completions_finetune_component = load_component(\n",
    "    client=ml_client, name=\"openai_completions_finetune\", version=\"0.3.0\"\n",
    ")"
   ]
  },
  {
   "attachments": {},
   "cell_type": "markdown",
   "id": "7a744987",
   "metadata": {},
   "source": [
    "## 2.2 Inspect loaded components"
   ]
  },
  {
   "cell_type": "code",
   "execution_count": null,
   "id": "17744c1b",
   "metadata": {},
   "outputs": [],
   "source": [
    "print(\"Pipeline component loaded successfully. Component spec:\")\n",
    "print(openai_completions_finetune_component)"
   ]
  },
  {
   "attachments": {},
   "cell_type": "markdown",
   "id": "cb7335d1",
   "metadata": {},
   "source": [
    "# 3. Sample pipeline job\n",
    "## 3.1 Build pipeline"
   ]
  },
  {
   "cell_type": "code",
   "execution_count": null,
   "id": "0246232c-dc7b-4d9a-b9c4-de43782121ee",
   "metadata": {},
   "outputs": [],
   "source": [
    "# Construct pipeline\n",
    "@pipeline()\n",
    "def pipeline_with_registered_components(\n",
    "    train_dataset, validation_dataset, training_max_epochs=20, model=\"ada\"\n",
    "):\n",
    "    openai_completions_finetune_component_results = (\n",
    "        openai_completions_finetune_component(\n",
    "            train_dataset=train_dataset,\n",
    "            validation_dataset=validation_dataset,\n",
    "            n_epochs=training_max_epochs,\n",
    "            model=model,\n",
    "            registered_model_name=\"ft_ada_model_from_sdk\",\n",
    "        )\n",
    "    )\n",
    "\n",
    "    return openai_completions_finetune_component_results\n",
    "\n",
    "\n",
    "pipeline_job = pipeline_with_registered_components(\n",
    "    train_dataset=Input(type=\"uri_folder\", path=\"data/\"),\n",
    "    validation_dataset=Input(type=\"uri_folder\", path=\"data/\"),\n",
    "    training_max_epochs=1,\n",
    "    model=\"ada\",  # Select any model from [\"ada\", \"babbage\", \"curie\", \"davinci\", \"text-davinci-fine-tune-002\"]\n",
    ")\n",
    "\n",
    "# set pipeline level compute\n",
    "pipeline_job.settings.default_compute = \"serverless\"\n",
    "pipeline_job.settings.force_rerun = True"
   ]
  },
  {
   "attachments": {},
   "cell_type": "markdown",
   "id": "811cddb4",
   "metadata": {},
   "source": [
    "## 3.2 Configure workspace details and get a handle to the workspace\n",
    "\n",
    "To connect to a workspace, we need identifier parameters - a subscription, resource group and workspace name. We will use these details in the `MLClient` from `azure.ai.ml` to get a handle to the required Azure Machine Learning workspace. We use the default [default azure authentication](https://docs.microsoft.com/en-us/python/api/azure-identity/azure.identity.defaultazurecredential?view=azure-python) as mentioned at the beginning of the notebook."
   ]
  },
  {
   "cell_type": "code",
   "execution_count": null,
   "id": "3e34a18f-0f70-4222-8812-78894f430e05",
   "metadata": {},
   "outputs": [],
   "source": [
    "# Get a handle to workspace\n",
    "ml_client = None\n",
    "try:\n",
    "    ml_client = MLClient.from_config(credential)\n",
    "except Exception as ex:\n",
    "    print(ex)\n",
    "    # Enter details of your AML workspace\n",
    "    subscription_id = \"<SUBSCRIPTION_ID>\"\n",
    "    resource_group = \"<RESOURCE_GROUP>\"\n",
    "    workspace_name = \"<AML_WORKSPACE_NAME>\"\n",
    "\n",
    "    ml_client = MLClient(credential, subscription_id, resource_group, workspace_name)"
   ]
  },
  {
   "attachments": {},
   "cell_type": "markdown",
   "id": "3ab904e9",
   "metadata": {},
   "source": [
    "## 3.3 Submit pipeline job"
   ]
  },
  {
   "cell_type": "code",
   "execution_count": null,
   "id": "109caadf-ac2e-4a61-831b-13a9f4c78e14",
   "metadata": {},
   "outputs": [],
   "source": [
    "# Submit pipeline job to workspace\n",
    "pipeline_job = ml_client.jobs.create_or_update(\n",
    "    pipeline_job, experiment_name=\"mrpc_pipeline_test\"\n",
    ")\n",
    "pipeline_job"
   ]
  },
  {
   "cell_type": "code",
   "execution_count": null,
   "id": "daf966d8",
   "metadata": {},
   "outputs": [],
   "source": [
    "# Wait until the job completes\n",
    "ml_client.jobs.stream(pipeline_job.name)"
   ]
  }
 ],
 "metadata": {
  "kernelspec": {
   "display_name": "sdkv2",
   "language": "python",
   "name": "python3"
  },
  "language_info": {
   "codemirror_mode": {
    "name": "ipython",
    "version": 3
   },
   "file_extension": ".py",
   "mimetype": "text/x-python",
   "name": "python",
   "nbconvert_exporter": "python",
   "pygments_lexer": "ipython3",
   "version": "3.9.16"
  }
 },
 "nbformat": 4,
 "nbformat_minor": 5
}
