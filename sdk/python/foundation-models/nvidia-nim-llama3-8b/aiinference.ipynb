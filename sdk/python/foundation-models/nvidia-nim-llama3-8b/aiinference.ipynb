{
 "cells": [
  {
   "cell_type": "markdown",
   "metadata": {},
   "source": [
    "# Use AI Inference SDK with Meta Llama 3.1 - 8b Instruct NIM in Azure AI Foundry and Azure ML\n",
    "\n",
    "Azure AI model inference is a new feature offering on Azure AI Services resources. You can get started with it the same way as any other Azure product where you create and configure your resource for Azure AI model inference, or instance of the service, in your Azure Subscription. You can create as many resources as needed and configure them independently in case you have multiple teams with different requirements.\n",
    "\n",
    "https://learn.microsoft.com/en-us/azure/ai-foundry/model-inference/overview\n",
    "https://learn.microsoft.com/en-us/azure/ai-foundry/model-inference/how-to/quickstart-ai-project?tabs=python\n",
    "\n",
    "This demo notebook shows how to consume Meta-llama-3.1-8B NIM deployments in Azure AI  Foundry and Azure Ml using AI Inference SDK with Meta Llama 3 NIM "
   ]
  },
  {
   "cell_type": "markdown",
   "metadata": {},
   "source": [
    "Install the package azure-ai-inference using your package manager, like pip:\n",
    "\n",
    "```\n",
    "pip install azure-ai-inference\n",
    "```"
   ]
  },
  {
   "cell_type": "code",
   "execution_count": null,
   "metadata": {},
   "outputs": [],
   "source": [
    "import os\n",
    "from azure.ai.inference import ChatCompletionsClient\n",
    "from azure.core.credentials import AzureKeyCredential\n",
    "from azure.ai.inference.models import SystemMessage, UserMessage\n",
    "\n",
    "endpoint = \"https://<endpoint>.<region>.inference.ml.azure.com/v1\"\n",
    "key =  os.getenv('AZURE_AI_CHAT_KEY',\"keyhere\")\n",
    "\n",
    "client = ChatCompletionsClient(\n",
    "    endpoint=endpoint,\n",
    "    credential=AzureKeyCredential(key),\n",
    "    # model=model\n",
    ")\n",
    "\n",
    "response = client.complete(\n",
    "    messages=[\n",
    "        SystemMessage(\"You are a helpful assistant.\"),\n",
    "        UserMessage(\"Can you write me a song?\"),\n",
    "    ],\n",
    ")\n",
    "\n",
    "print(response.choices[0].message.content)"
   ]
  },
  {
   "cell_type": "code",
   "execution_count": null,
   "metadata": {},
   "outputs": [],
   "source": []
  }
 ],
 "metadata": {
  "kernelspec": {
   "display_name": "dev",
   "language": "python",
   "name": "python3"
  },
  "language_info": {
   "codemirror_mode": {
    "name": "ipython",
    "version": 3
   },
   "file_extension": ".py",
   "mimetype": "text/x-python",
   "name": "python",
   "nbconvert_exporter": "python",
   "pygments_lexer": "ipython3",
   "version": "3.10.16"
  }
 },
 "nbformat": 4,
 "nbformat_minor": 2
}
