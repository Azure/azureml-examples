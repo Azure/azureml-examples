{
 "cells": [
  {
   "cell_type": "markdown",
   "metadata": {},
   "source": [
    "# Use Requests Library with Bria in Azure AI and Azure ML for Text to Image requests\n",
    "\n",
    "Use requests library to consume Bria AI deployments in Azure AI and Azure ML.\n",
    "\n",
    "## Prerequisites\n",
    "\n",
    "Before we start, there are certain steps we need to take to deploy the models:\n",
    "\n",
    "* Register for a valid Azure account with subscription\n",
    "\n",
    "* Make sure you have access to Azure AI Studio\n",
    "\n",
    "* Create a project and resource group\n",
    "\n",
    "* Select Bria AI models from Model catalog. This example assumes you are Bria 2.3.\n",
    "\n",
    "* Deploy with \"Pay-as-you-go\"\n",
    "\n",
    "Once deployed successfully, you should be assigned for an API endpoint and a security key for inference.\n",
    "\n",
    "For more information, you should consult Azure's official documentation here for model deployment and inference.\n",
    "\n",
    "To complete this tutorial, you will need to:\n",
    "\n",
    "* Install requests:\n",
    "    \n",
    "    pip install requests\n",
    "\n",
    "* Install pillow:\n",
    "    \n",
    "    pip install pillow\n",
    "\n",
    "* Install matplotlib\n",
    "    \n",
    "    pip install matplotlib\n",
    "\n",
    "## Example\n",
    "The following is an example about how to use requests library with a Bria AI Text to Image model deployed in Azure AI and Azure ML:\n",
    "\n"
   ]
  },
  {
   "cell_type": "code",
   "execution_count": 1,
   "metadata": {},
   "outputs": [],
   "source": [
    "import base64\n",
    "import requests\n",
    "from typing import Any\n",
    "from PIL import Image\n",
    "from io import BytesIO\n",
    "import matplotlib.pyplot as plt\n"
   ]
  },
  {
   "cell_type": "code",
   "execution_count": 6,
   "metadata": {},
   "outputs": [],
   "source": [
    "\n",
    "class ImageGeneratorClient:\n",
    "    def __init__(self, base_url, key):\n",
    "        \"\"\"Initialize the client with the endpoint URL and Bearer token.\"\"\"\n",
    "        self.route = base_url + \"/images/generations\"\n",
    "        self.headers = {\n",
    "            \"Authorization\": f\"Bearer {key}\",\n",
    "            \"Content-Type\": \"application/json\",\n",
    "            \"accept\": \"application/json\",\n",
    "            \"extra-parameters\": \"pass-through\"\n",
    "        }\n",
    "\n",
    "    def generate_image(self, prompt, size, seed=None, negative_prompt=None, image_format=None, num_inference_steps=None, text_guidance=None):\n",
    "        \"\"\"Send a request to the endpoint to generate an image and save the result to a file.\"\"\"\n",
    "        payload = {\"prompt\": prompt, \"size\": size}\n",
    "        self._add_paramter_if_provided(payload, \"seed\", seed)\n",
    "        self._add_paramter_if_provided(payload, \"negative_prompt\", negative_prompt)\n",
    "        self._add_paramter_if_provided(payload, \"image_format\", image_format)\n",
    "        self._add_paramter_if_provided(payload, \"num_inference_steps\", num_inference_steps)\n",
    "        self._add_paramter_if_provided(payload, \"text_guidance\", text_guidance)\n",
    "\n",
    "        response = requests.post(self.route, json=payload, headers=self.headers)\n",
    "        \n",
    "        if response.status_code == 200:\n",
    "            response_data = response.json()\n",
    "            generated_image_base64 = response_data.get(\"data\")[0].get(\"b64_json\")\n",
    "            if generated_image_base64:\n",
    "                self._display_base64_image(generated_image_base64)\n",
    "            else:\n",
    "                print(\"No generated image found in the response.\")\n",
    "        else:\n",
    "            print(f\"Error: {response.status_code}, {response.text}\")\n",
    "\n",
    "    @staticmethod\n",
    "    def _display_base64_image(base64_string):\n",
    "        \"\"\"Decode a base64 string and display it as an image.\"\"\"\n",
    "        image_data = base64.b64decode(base64_string)\n",
    "        image = Image.open(BytesIO(image_data))\n",
    "        plt.imshow(image)\n",
    "        plt.axis('off')\n",
    "        plt.show()\n",
    "    \n",
    "    @staticmethod\n",
    "    def _add_paramter_if_provided(payload: dict, parameter: str, value: Any):\n",
    "        if value is not None:\n",
    "            payload[parameter] = value\n"
   ]
  },
  {
   "cell_type": "markdown",
   "metadata": {},
   "source": [
    "You will need to have a Endpoint url and Authentication Key associated with that endpoint. This can be acquired from previous steps. Configure the client as follows:\n",
    "\n",
    "base_url: Use the endpoint URL from your deployment.\n",
    "api_key: Use your API key."
   ]
  },
  {
   "cell_type": "code",
   "execution_count": 7,
   "metadata": {},
   "outputs": [],
   "source": [
    "client = ImageGeneratorClient(\n",
    "    base_url=\"\",\n",
    "    key=\"\"\n",
    ")\n"
   ]
  },
  {
   "cell_type": "markdown",
   "id": "ad0aa5df",
   "metadata": {},
   "source": [
    "Use the client to create image generation requests:"
   ]
  },
  {
   "cell_type": "code",
   "execution_count": null,
   "id": "a0c7aa6e",
   "metadata": {},
   "outputs": [],
   "source": [
    "# Mandatory parameters\n",
    "\n",
    "prompt = \"A tree\"\n",
    "size = \"1024x1024\"\n",
    "\n",
    "#Optional parameters\n",
    "seed = 1\n",
    "negative_prompt = \"birds\"\n",
    "image_format = \"jpeg\"\n",
    "num_inference_steps = 10\n",
    "text_guidance = 2.0\n",
    "\n",
    "client.generate_image(prompt=prompt,\n",
    "                      size=size,\n",
    "                      seed=seed,\n",
    "                      negative_prompt=negative_prompt,\n",
    "                      image_format=image_format,\n",
    "                      num_inference_steps=num_inference_steps,\n",
    "                      text_guidance=text_guidance)"
   ]
  }
 ],
 "metadata": {
  "kernelspec": {
   "display_name": "Python 3",
   "language": "python",
   "name": "python3"
  },
  "language_info": {
   "codemirror_mode": {
    "name": "ipython",
    "version": 3
   },
   "file_extension": ".py",
   "mimetype": "text/x-python",
   "name": "python",
   "nbconvert_exporter": "python",
   "pygments_lexer": "ipython3",
   "version": "3.11.9"
  }
 },
 "nbformat": 4,
 "nbformat_minor": 5
}
