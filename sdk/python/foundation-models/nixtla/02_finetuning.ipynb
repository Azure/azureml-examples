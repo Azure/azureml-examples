{
 "cells": [
  {
   "cell_type": "markdown",
   "id": "a3e70828-d972-4231-aa21-89e5ede59366",
   "metadata": {},
   "source": [
    "# Prerequisites\n",
    "\n",
    "Please make sure to follow these steps to start using TimeGEN: \n",
    "\n",
    "* Register for a valid Azure account with subscription \n",
    "* Make sure you have access to [Azure AI Studio](https://learn.microsoft.com/en-us/azure/ai-studio/what-is-ai-studio?tabs=home)\n",
    "* Create a project and resource group\n",
    "* Select `TimeGEN-1`.\n",
    "\n",
    "    > Notice that some models may not be available in all the regions in Azure AI and Azure Machine Learning. On those cases, you can create a workspace or project in the region where the models are available and then consume it with a connection from a different one. To learn more about using connections see [Consume models with connections](https://learn.microsoft.com/en-us/azure/ai-studio/how-to/deployments-connections)\n",
    "\n",
    "* Deploy with \"Pay-as-you-go\"\n",
    "\n",
    "Once deployed successfully, you should be assigned for an API endpoint and a security key for inference.\n",
    "\n",
    "To complete this tutorial, you will need to:\n",
    "\n",
    "* Install `nixtla` and `pandas`:\n",
    "\n",
    "    ```bash\n",
    "    pip install nixtla pandas\n",
    "    ```"
   ]
  },
  {
   "cell_type": "markdown",
   "id": "da753996-54f8-4244-a34e-7316b0c01827",
   "metadata": {},
   "source": [
    "# Fine-tuning"
   ]
  },
  {
   "cell_type": "markdown",
   "id": "75a62889-d81e-462e-b235-c1eba1096da9",
   "metadata": {},
   "source": [
    "Fine-tuning is a powerful process for utilizing TimeGEN more effectively. Foundation models such as TimeGEN are pre-trained on vast amounts of data, capturing wide-ranging features and patterns. These models can then be specialized for specific contexts or domains. With fine-tuning, the model's parameters are refined to forecast a new task, allowing it to tailor its vast pre-existing knowledge towards the requirements of the new data. Fine-tuning thus serves as a crucial bridge, linking TimeGEN's broad capabilities to your tasks specificities.\n",
    "\n",
    "Concretely, the process of fine-tuning consists of performing a certain number of training iterations on your input data minimizing the forecasting error. The forecasts will then be produced with the updated model. To control the number of iterations, use the `finetune_steps` argument of the `forecast` method.\n",
    "\n",
    "To complete this tutorial, you will need to:\n",
    "\n",
    "* Install `nixtla` and `pandas`:\n",
    "\n",
    "    ```bash\n",
    "    pip install nixtla pandas\n",
    "    ```"
   ]
  },
  {
   "cell_type": "markdown",
   "id": "10ec4f03",
   "metadata": {},
   "source": [
    "## 1. Import packages\n",
    "First, we import the required packages and initialize the Nixtla client"
   ]
  },
  {
   "cell_type": "code",
   "execution_count": null,
   "id": "98942108-d427-42d6-81f8-fa0bb5859395",
   "metadata": {},
   "outputs": [],
   "source": [
    "import pandas as pd\n",
    "from nixtla import NixtlaClient"
   ]
  },
  {
   "cell_type": "code",
   "execution_count": null,
   "id": "64178d1c-957e-4a04-ab64-fde332b1840c",
   "metadata": {},
   "outputs": [],
   "source": [
    "nixtla_client = NixtlaClient(\n",
    "    base_url=\"you azure ai endpoint\",\n",
    "    api_key=\"your api_key\",\n",
    ")"
   ]
  },
  {
   "cell_type": "markdown",
   "id": "8c2e5387",
   "metadata": {},
   "source": [
    "## 2. Load data"
   ]
  },
  {
   "cell_type": "code",
   "execution_count": null,
   "id": "b78cc83e-7d34-4c37-906d-8c7ed1a977fb",
   "metadata": {},
   "outputs": [],
   "source": [
    "df = pd.read_csv(\n",
    "    \"https://raw.githubusercontent.com/Nixtla/transfer-learning-time-series/main/datasets/air_passengers.csv\"\n",
    ")\n",
    "df.head()"
   ]
  },
  {
   "cell_type": "markdown",
   "id": "09be4766",
   "metadata": {},
   "source": [
    "## 3. Fine-tuning"
   ]
  },
  {
   "cell_type": "code",
   "execution_count": null,
   "id": "a683abc7-190c-40a6-a4e8-41a4c64bd773",
   "metadata": {},
   "outputs": [],
   "source": [
    "timegpt_fcst_finetune_df = nixtla_client.forecast(\n",
    "    df=df,\n",
    "    h=12,\n",
    "    finetune_steps=10,\n",
    "    time_col=\"timestamp\",\n",
    "    target_col=\"value\",\n",
    ")"
   ]
  },
  {
   "cell_type": "code",
   "execution_count": null,
   "id": "545ffdac-f166-417b-993f-78f51b0db6a1",
   "metadata": {},
   "outputs": [],
   "source": [
    "nixtla_client.plot(\n",
    "    df,\n",
    "    timegpt_fcst_finetune_df,\n",
    "    time_col=\"timestamp\",\n",
    "    target_col=\"value\",\n",
    ")"
   ]
  },
  {
   "cell_type": "markdown",
   "id": "62fc9cba-7c6e-4aef-9c68-e05d4fe8f7ba",
   "metadata": {},
   "source": [
    "In this code, `finetune_steps=10` means the model will go through 10 iterations of training on your time series data.\n",
    "\n",
    "Keep in mind that fine-tuning can be a bit of trial and error. You might need to adjust the number of `finetune_steps` based on your specific needs and the complexity of your data. It's recommended to monitor the model's performance during fine-tuning and adjust as needed. Be aware that more `finetune_steps` may lead to longer training times and could potentially lead to overfitting if not managed properly. \n",
    "\n",
    "Remember, fine-tuning is a powerful feature, but it should be used thoughtfully and carefully."
   ]
  },
  {
   "cell_type": "markdown",
   "id": "8c546351",
   "metadata": {},
   "source": [
    "For a detailed guide on using a specific loss function for fine-tuning, check out the [Fine-tuning with a specific loss function](https://docs.nixtla.io/docs/tutorials-fine_tuning_with_a_specific_loss_function) tutorial."
   ]
  }
 ],
 "metadata": {
  "kernelspec": {
   "display_name": "python3",
   "language": "python",
   "name": "python3"
  }
 },
 "nbformat": 4,
 "nbformat_minor": 5
}
