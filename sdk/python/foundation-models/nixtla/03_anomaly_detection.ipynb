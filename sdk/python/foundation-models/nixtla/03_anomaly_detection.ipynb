{
 "cells": [
  {
   "cell_type": "markdown",
   "metadata": {},
   "source": [
    "# Prerequisites\n",
    "\n",
    "Please make sure to follow these steps to start using TimeGEN: \n",
    "\n",
    "* Register for a valid Azure account with subscription \n",
    "* Make sure you have access to [Azure AI Studio](https://learn.microsoft.com/en-us/azure/ai-studio/what-is-ai-studio?tabs=home)\n",
    "* Create a project and resource group\n",
    "* Select `TimeGEN-1`.\n",
    "\n",
    "    > Notice that some models may not be available in all the regions in Azure AI and Azure Machine Learning. On those cases, you can create a workspace or project in the region where the models are available and then consume it with a connection from a different one. To learn more about using connections see [Consume models with connections](https://learn.microsoft.com/en-us/azure/ai-studio/how-to/deployments-connections)\n",
    "\n",
    "* Deploy with \"Pay-as-you-go\"\n",
    "\n",
    "Once deployed successfully, you should be assigned for an API endpoint and a security key for inference.\n",
    "\n",
    "To complete this tutorial, you will need to:\n",
    "\n",
    "* Install `nixtla` and `pandas`:\n",
    "\n",
    "    ```bash\n",
    "    pip install nixtla pandas\n",
    "    ```"
   ]
  },
  {
   "cell_type": "markdown",
   "metadata": {},
   "source": [
    "# Anomaly detection\n",
    "\n",
    "Anomaly detection is task of detecting abnormal points, points that deviate from the normal behaviour of the general series. This is crucial in many application, such as cybersecurity or equipment monitoring.\n",
    "\n",
    "In this tutorial, we explore in detail the anomaly detection capability of TimeGEN.\n",
    "\n",
    "To complete this tutorial, you will need to:\n",
    "\n",
    "* Install `nixtla` and `pandas`:\n",
    "\n",
    "    ```bash\n",
    "    pip install nixtla pandas\n",
    "    ```"
   ]
  },
  {
   "cell_type": "markdown",
   "metadata": {},
   "source": [
    "## Import packages\n",
    "\n",
    "First, we import the required packages for this tutorial and create an instance of `NixtlaClient`."
   ]
  },
  {
   "cell_type": "code",
   "execution_count": null,
   "metadata": {},
   "outputs": [],
   "source": [
    "import pandas as pd\n",
    "from nixtla import NixtlaClient"
   ]
  },
  {
   "cell_type": "code",
   "execution_count": null,
   "metadata": {},
   "outputs": [],
   "source": [
    "nixtla_client = NixtlaClient(\n",
    "    base_url=\"you azure ai endpoint\",\n",
    "    api_key=\"your api_key\",\n",
    ")"
   ]
  },
  {
   "cell_type": "markdown",
   "metadata": {},
   "source": [
    "## Load dataset\n",
    "\n",
    "Now, let's load the dataset for this tutorial. We use the Peyton Manning dataset which tracks the visits to the Wikipedia page of Peyton Mannig."
   ]
  },
  {
   "cell_type": "code",
   "execution_count": null,
   "metadata": {},
   "outputs": [],
   "source": [
    "df = pd.read_csv(\n",
    "    \"https://raw.githubusercontent.com/Nixtla/transfer-learning-time-series/main/datasets/peyton_manning.csv\"\n",
    ")\n",
    "\n",
    "df.head()"
   ]
  },
  {
   "cell_type": "code",
   "execution_count": null,
   "metadata": {},
   "outputs": [],
   "source": [
    "nixtla_client.plot(\n",
    "    df, time_col=\"timestamp\", target_col=\"value\", max_insample_length=365\n",
    ")"
   ]
  },
  {
   "cell_type": "markdown",
   "metadata": {},
   "source": [
    "## Anomaly detection\n",
    "\n",
    "We now perform anomaly detection. By default, TimeGEN uses a 99% confidence interval. If a point falls outisde of that interval, it is considered to be an anomaly."
   ]
  },
  {
   "cell_type": "code",
   "execution_count": null,
   "metadata": {},
   "outputs": [],
   "source": [
    "anomalies_df = nixtla_client.detect_anomalies(\n",
    "    df,\n",
    "    time_col=\"timestamp\",\n",
    "    target_col=\"value\",\n",
    "    freq=\"D\",\n",
    ")\n",
    "\n",
    "anomalies_df.head()"
   ]
  },
  {
   "cell_type": "markdown",
   "metadata": {},
   "source": [
    "As you can see, 0 is assigned to \"normal\" values, as they fall inside the confidence interval. A label of 1 is then assigned to abnormal points.\n",
    "\n",
    "We can also plot the anomalies using `NixtlaClient`."
   ]
  },
  {
   "cell_type": "code",
   "execution_count": null,
   "metadata": {},
   "outputs": [],
   "source": [
    "nixtla_client.plot(df, anomalies_df, time_col=\"timestamp\", target_col=\"value\")"
   ]
  },
  {
   "cell_type": "markdown",
   "metadata": {},
   "source": [
    "## Anomaly detection with exogenous features\n",
    "\n",
    "Previously, we performed anomaly detection without using any exogenous features. Now, it is possible to create features specifically for this scnenario to inform the model in its task of anomaly detection.\n",
    "\n",
    "Here, we create date features that can be used by the model."
   ]
  },
  {
   "cell_type": "markdown",
   "metadata": {},
   "source": [
    "This is done using the `date_features` argument. We can set it to `True` and it will generate all possible features from the given dates and frequency of the data. Alternatively, we can specify a list of features that we want. In this case, we want only features at the *month* and *year* level."
   ]
  },
  {
   "cell_type": "code",
   "execution_count": null,
   "metadata": {},
   "outputs": [],
   "source": [
    "anomalies_df_x = nixtla_client.detect_anomalies(\n",
    "    df,\n",
    "    time_col=\"timestamp\",\n",
    "    target_col=\"value\",\n",
    "    freq=\"D\",\n",
    "    date_features=[\"month\", \"year\"],\n",
    ")"
   ]
  },
  {
   "cell_type": "markdown",
   "metadata": {},
   "source": [
    "Then, we can plot the weights of each feature to understand its impact on anomaly detection."
   ]
  },
  {
   "cell_type": "code",
   "execution_count": null,
   "metadata": {},
   "outputs": [],
   "source": [
    "nixtla_client.weights_x.plot.barh(x=\"features\", y=\"weights\")"
   ]
  },
  {
   "cell_type": "markdown",
   "metadata": {},
   "source": [
    "## Modifying the confidence intervals\n",
    "\n",
    "We can tweak the confidence intervals using the `level` argument. This takes any values between 0 and 100, including decimal numbers.\n",
    "\n",
    "Reducing the confidence interval resutls in more anomalies being detected, while increasing it will reduce the number of anomalies.\n",
    "\n",
    "Here, for example, we reduce the interval to 70%, and we will notice more anomalies being plotted (red dots)."
   ]
  },
  {
   "cell_type": "code",
   "execution_count": null,
   "metadata": {},
   "outputs": [],
   "source": [
    "anomalies_df = nixtla_client.detect_anomalies(\n",
    "    df,\n",
    "    time_col=\"timestamp\",\n",
    "    target_col=\"value\",\n",
    "    freq=\"D\",\n",
    "    level=70,\n",
    ")"
   ]
  },
  {
   "cell_type": "code",
   "execution_count": null,
   "metadata": {},
   "outputs": [],
   "source": [
    "nixtla_client.plot(df, anomalies_df, time_col=\"timestamp\", target_col=\"value\")"
   ]
  }
 ],
 "metadata": {
  "kernelspec": {
   "display_name": "python3",
   "language": "python",
   "name": "python3"
  }
 },
 "nbformat": 4,
 "nbformat_minor": 4
}
