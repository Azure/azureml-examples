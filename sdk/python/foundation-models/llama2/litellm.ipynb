{
 "cells": [
  {
   "cell_type": "markdown",
   "metadata": {},
   "source": [
    "# Use litellm with Llama2 in Azure AI and Azure ML\n",
    "\n",
    "Use `litellm` to consume Llama2 family of model deployments in Azure AI and Azure ML. Configure it as follows:\n",
    "\n",
    "- `base_url`: Use the endpoint URL from your deployment. Include the `/v1` in the URL.\n",
    "- `api_key`: Use your API key.\n",
    "\n",
    "Llama2 supports both chat and text completions APIs."
   ]
  },
  {
   "cell_type": "markdown",
   "metadata": {},
   "source": [
    "## Prerequisites\n",
    "\n",
    "Install `litellm`:\n",
    "\n",
    "```bash\n",
    "pip install litellm\n",
    "```"
   ]
  },
  {
   "cell_type": "markdown",
   "metadata": {},
   "source": [
    "## Example\n",
    "\n",
    "The following is an example about how to use `litellm` with a Llama2 chat model deployed in Azure AI and Azure ML:"
   ]
  },
  {
   "cell_type": "code",
   "execution_count": null,
   "metadata": {
    "name": "imports"
   },
   "outputs": [],
   "source": [
    "import litellm"
   ]
  },
  {
   "cell_type": "code",
   "execution_count": null,
   "metadata": {
    "name": "chat_client"
   },
   "outputs": [],
   "source": [
    "client = litellm.LiteLLM(\n",
    "    base_url=\"https://<endpoint-name>.<region>.inference.ai.azure.com/v1\",\n",
    "    api_key=\"<key>\",\n",
    ")"
   ]
  },
  {
   "cell_type": "code",
   "execution_count": null,
   "metadata": {
    "name": "chat_invoke"
   },
   "outputs": [],
   "source": [
    "response = client.chat.completions.create(\n",
    "    messages=[{\"content\": \"Who is the most renowned French painter?\", \"role\": \"user\"}],\n",
    "    model=\"llama2\",\n",
    "    custom_llm_provider=\"custom_openai\",\n",
    ")"
   ]
  },
  {
   "cell_type": "markdown",
   "metadata": {},
   "source": [
    "The generated text can be accessed as follows:"
   ]
  },
  {
   "cell_type": "code",
   "execution_count": null,
   "metadata": {
    "name": "chat_response"
   },
   "outputs": [],
   "source": [
    "print(response.choices[0].message.content)"
   ]
  }
 ],
 "metadata": {
  "kernelspec": {
   "display_name": "Python 3.10 - SDK v2",
   "language": "python",
   "name": "python310-sdkv2"
  },
  "language_info": {
   "codemirror_mode": {
    "name": "ipython",
    "version": 3
   },
   "file_extension": ".py",
   "mimetype": "text/x-python",
   "name": "python",
   "nbconvert_exporter": "python",
   "pygments_lexer": "ipython3",
   "version": "3.10.11"
  }
 },
 "nbformat": 4,
 "nbformat_minor": 2
}
