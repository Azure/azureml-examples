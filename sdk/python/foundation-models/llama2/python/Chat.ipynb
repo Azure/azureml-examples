{
  "cells": [
    {
      "cell_type": "markdown",
      "source": [
        "#### Import the necessary libraries"
      ],
      "metadata": {},
      "id": "40fc5aa9"
    },
    {
      "cell_type": "code",
      "source": [
        "import urllib.request\n",
        "import json\n",
        "import os\n",
        "import ssl\n",
        "from dotenv import load_dotenv"
      ],
      "outputs": [],
      "execution_count": 1,
      "metadata": {
        "gather": {
          "logged": 1707891535643
        }
      },
      "id": "3c4527f1"
    },
    {
      "cell_type": "markdown",
      "source": [
        "•  Conditional Check: The function starts by checking if both allowed is True and the PYTHONHTTPSVERIFY environment variable is not set or is an empty string. This variable, if present and non-empty, controls HTTPS certificate verification behavior.\n",
        "\n",
        "\n",
        "•  ssl Module Attribute: It then checks if the ssl module has an attribute named _create_unverified_context. This attribute, if present, provides a way to create an HTTPS context without verifying the server's certificate.\n",
        "\n",
        "•  Modification: If both conditions are met (allowing self-signed certs and unverified context creation), the function sets the ssl._create_default_https_context attribute to the _create_unverified_context value. This effectively instructs the ssl module to skip server certificate verification for all HTTPS connections.\n"
      ],
      "metadata": {
        "nteract": {
          "transient": {
            "deleting": false
          }
        }
      },
      "id": "6196428e-3376-4d98-bcc0-67bd500755de"
    },
    {
      "cell_type": "raw",
      "source": [],
      "metadata": {},
      "id": "af80d17c"
    },
    {
      "cell_type": "code",
      "source": [
        "def allowSelfSignedHttps(allowed):\n",
        "    # bypass the server certificate verification on client side\n",
        "    if allowed and not os.environ.get('PYTHONHTTPSVERIFY', '') and getattr(ssl, '_create_unverified_context', None):\n",
        "        ssl._create_default_https_context = ssl._create_unverified_context"
      ],
      "outputs": [],
      "execution_count": 2,
      "metadata": {
        "gather": {
          "logged": 1707891537720
        }
      },
      "id": "2468f6cf"
    },
    {
      "cell_type": "markdown",
      "source": [
        "•This line is needed if you use self-signed certificate in your scoring service."
      ],
      "metadata": {
        "nteract": {
          "transient": {
            "deleting": false
          }
        }
      },
      "id": "ea92233c-2f50-41b4-80ab-f0d34838bfd1"
    },
    {
      "cell_type": "raw",
      "source": [],
      "metadata": {},
      "id": "aa4bb13f"
    },
    {
      "cell_type": "code",
      "source": [
        "allowSelfSignedHttps(True)"
      ],
      "outputs": [],
      "execution_count": 3,
      "metadata": {
        "gather": {
          "logged": 1707891542573
        }
      },
      "id": "cc7671b3"
    },
    {
      "cell_type": "markdown",
      "source": [
        "•\tprompt: This is the starting text or phrase that the LLM will use to begin generating new text.\n",
        "\n",
        "•\ttemperature: This parameter controls the \"creativity\" or randomness of the output.\n",
        "\n",
        "•\tmax_tokens: This parameter specifies the maximum number of tokens (words or sub-word units) that the LLM should generate for the output.\n"
      ],
      "metadata": {
        "nteract": {
          "transient": {
            "deleting": false
          }
        }
      },
      "id": "d7ebb596-6391-4278-9b4d-0ea0b7298f11"
    },
    {
      "cell_type": "raw",
      "source": [],
      "metadata": {},
      "id": "4c2b3e26"
    },
    {
      "cell_type": "code",
      "source": [
        "data =  {\n",
        "  \"messages\": [\n",
        "    {\n",
        "      \"role\": \"user\",\n",
        "      \"content\": \"What is the largest ocean in the world?\"\n",
        "    },\n",
        "    {\n",
        "      \"role\": \"assistant\",\n",
        "      \"content\": \"The largest ocean in the world is the Pacific Ocean, which covers an area of approximately 155.6 million square kilometers (60.1 million square miles) and accounts for approximately 46% of the Earth's total ocean area. It is also the deepest ocean, with a maximum depth of about 11,022 meters (36,198 feet) in the Mariana Trench.\"\n",
        "    },\n",
        "    {\n",
        "      \"role\": \"user\",\n",
        "      \"content\": \"What's the second largest?\"\n",
        "    }\n",
        "  ],\n",
        "  \"temperature\": 0.8,\n",
        "  \"max_tokens\": 128\n",
        "}"
      ],
      "outputs": [],
      "execution_count": 4,
      "metadata": {
        "gather": {
          "logged": 1707891549713
        }
      },
      "id": "fbf40c04"
    },
    {
      "cell_type": "markdown",
      "source": [
        "•\tjson.dumps(data): This function takes a Python object (data) and converts it into a JSON string. JSON (JavaScript Object Notation) is a popular format for exchanging data between applications.\n",
        "\n",
        "•\tstr.encode(json_string): This function takes the JSON string generated in the previous step and encodes it into bytes. This encoding is necessary because many network protocols, like HTTP, expect data to be sent as bytes.\n"
      ],
      "metadata": {
        "nteract": {
          "transient": {
            "deleting": false
          }
        }
      },
      "id": "91d34a91-d1ba-423f-936d-6b2fc8f7f840"
    },
    {
      "cell_type": "raw",
      "source": [],
      "metadata": {},
      "id": "5afe4cbd"
    },
    {
      "cell_type": "code",
      "source": [
        "body = str.encode(json.dumps(data))"
      ],
      "outputs": [],
      "execution_count": 5,
      "metadata": {
        "gather": {
          "logged": 1707891555407
        }
      },
      "id": "7c153c4c"
    },
    {
      "cell_type": "markdown",
      "source": [
        "• Load the environmet variable from the .env file\n",
        "\n",
        "• Load the URL from the .env file using this os.getenv()\n",
        "\n",
        "• Load the primary/secondary key or AMLToken for the endpoint from the .env file using os.getenv()\n"
      ],
      "metadata": {
        "nteract": {
          "transient": {
            "deleting": false
          }
        }
      },
      "id": "afab5ab4-3224-4640-88ef-1676f8b22a60"
    },
    {
      "cell_type": "raw",
      "source": [],
      "metadata": {},
      "id": "eceac6f0"
    },
    {
      "cell_type": "code",
      "source": [
        "load_dotenv(\"config.env\")\n",
        "url = os.getenv(\"BASE_URL\")\n",
        "api_key_1 = os.getenv(\"api_key\")"
      ],
      "outputs": [],
      "execution_count": 11,
      "metadata": {
        "gather": {
          "logged": 1707891873472
        }
      },
      "id": "b9bf41ee"
    },
    {
      "cell_type": "code",
      "source": [
        "print(api_key_1)"
      ],
      "outputs": [
        {
          "output_type": "stream",
          "name": "stdout",
          "text": "ws3t2wNnJ3iwvbZUc04UNJmz3A4hJd2q\n"
        }
      ],
      "execution_count": 12,
      "metadata": {
        "jupyter": {
          "source_hidden": false,
          "outputs_hidden": false
        },
        "nteract": {
          "transient": {
            "deleting": false
          }
        },
        "gather": {
          "logged": 1707891875868
        }
      },
      "id": "0760c8de-d1f4-4e5e-8b6d-40aab8fc5c20"
    },
    {
      "cell_type": "code",
      "source": [
        "print(url)"
      ],
      "outputs": [
        {
          "output_type": "stream",
          "name": "stdout",
          "text": "https://Llama-2-13b-chat-psfqe-serverless.eastus2.inference.ai.azure.com/v1/chat/completions\n"
        }
      ],
      "execution_count": 13,
      "metadata": {
        "jupyter": {
          "source_hidden": false,
          "outputs_hidden": false
        },
        "nteract": {
          "transient": {
            "deleting": false
          }
        },
        "gather": {
          "logged": 1707891883094
        }
      },
      "id": "845c1abe-358f-45f6-931d-4769c2fc000c"
    },
    {
      "cell_type": "markdown",
      "source": [
        "•\tChecking if the api key is correct or not "
      ],
      "metadata": {
        "nteract": {
          "transient": {
            "deleting": false
          }
        }
      },
      "id": "b155e1c5-59ca-4c09-8088-d4310e7628ae"
    },
    {
      "cell_type": "raw",
      "source": [],
      "metadata": {},
      "id": "234d55e0"
    },
    {
      "cell_type": "code",
      "source": [
        "if not api_key_1:\n",
        "    raise Exception(\"A key should be provided to invoke the endpoint\")"
      ],
      "outputs": [],
      "execution_count": 15,
      "metadata": {
        "gather": {
          "logged": 1707891904350
        }
      },
      "id": "07d35a00"
    },
    {
      "cell_type": "markdown",
      "source": [
        "•\tContent-Type: Identifies the data format as JSON.\n",
        "\n",
        "•\tAuthorization: Authenticates the request using your API key."
      ],
      "metadata": {
        "nteract": {
          "transient": {
            "deleting": false
          }
        }
      },
      "id": "bf7c3487-e444-42dd-9c64-eaa95ee0d656"
    },
    {
      "cell_type": "raw",
      "source": [],
      "metadata": {},
      "id": "0eed68e5"
    },
    {
      "cell_type": "code",
      "source": [
        "headers = {'Content-Type':'application/json', 'Authorization':('Bearer '+ api_key_1)}"
      ],
      "outputs": [],
      "execution_count": 17,
      "metadata": {
        "gather": {
          "logged": 1707891921682
        }
      },
      "id": "d8ccb35e"
    },
    {
      "cell_type": "markdown",
      "source": [
        "•\tBelow code will send the request and return a response object containing the server's response data and headers."
      ],
      "metadata": {
        "nteract": {
          "transient": {
            "deleting": false
          }
        }
      },
      "id": "6c5e8424-3a17-4ae7-84d6-176d1b27d26c"
    },
    {
      "cell_type": "raw",
      "source": [],
      "metadata": {},
      "id": "9f955dea"
    },
    {
      "cell_type": "code",
      "source": [
        "req = urllib.request.Request(url, body, headers)"
      ],
      "outputs": [],
      "execution_count": 18,
      "metadata": {
        "gather": {
          "logged": 1707891924378
        }
      },
      "id": "31aab11f"
    },
    {
      "cell_type": "markdown",
      "source": [
        "•\tresponse = urllib.request.urlopen(req): This line sends the HTTP request using the req object (which should contain the URL, body, and headers).\n",
        "\n",
        "•\tresult = response.read(): If the request is successful, this line reads the entire response body into the result variable.\n",
        "\n",
        "•\texcept urllib.error.HTTPError as error: This part defines an except block to handle HTTPError exceptions that might occur during the request. The error object is stored as error."
      ],
      "metadata": {
        "nteract": {
          "transient": {
            "deleting": false
          }
        }
      },
      "id": "fadb2363-737e-43a0-9b7d-39b38a6789bf"
    },
    {
      "cell_type": "raw",
      "source": [],
      "metadata": {},
      "id": "d0291e72"
    },
    {
      "cell_type": "code",
      "source": [
        "try:\n",
        "    response = urllib.request.urlopen(req)\n",
        "\n",
        "    result = response.read()\n",
        "    print(result)\n",
        "except urllib.error.HTTPError as error:\n",
        "    print(\"The request failed with status code: \" + str(error.code))\n",
        "    print(error.info())\n",
        "    print(error.read().decode(\"utf8\", 'ignore'))"
      ],
      "outputs": [
        {
          "output_type": "stream",
          "name": "stdout",
          "text": "b'{\"id\":\"65b401f7-64eb-4617-bc23-85a30bb7eca4\",\"object\":\"chat.completion\",\"created\":1704898,\"model\":\"\",\"choices\":[{\"finish_reason\":\"stop\",\"index\":0,\"message\":{\"role\":\"assistant\",\"content\":\" The second largest ocean is the Atlantic Ocean, which covers an area of approximately 85.1 million square kilometers (32.8 million square miles) and accounts for approximately 20% of the Earth\\'s total ocean area.\"}}],\"usage\":{\"prompt_tokens\":125,\"total_tokens\":176,\"completion_tokens\":51}}\\n'\n"
        }
      ],
      "execution_count": 19,
      "metadata": {
        "gather": {
          "logged": 1707891932352
        }
      },
      "id": "c6c2ff5b"
    },
    {
      "cell_type": "raw",
      "source": [],
      "metadata": {},
      "id": "73c9e106"
    }
  ],
  "metadata": {
    "kernelspec": {
      "name": "python3",
      "language": "python",
      "display_name": "Python 3 (ipykernel)"
    },
    "language_info": {
      "name": "python",
      "version": "3.8.5",
      "mimetype": "text/x-python",
      "codemirror_mode": {
        "name": "ipython",
        "version": 3
      },
      "pygments_lexer": "ipython3",
      "nbconvert_exporter": "python",
      "file_extension": ".py"
    },
    "microsoft": {
      "ms_spell_check": {
        "ms_spell_check_language": "en"
      },
      "host": {
        "AzureML": {
          "notebookHasBeenCompleted": true
        }
      }
    },
    "nteract": {
      "version": "nteract-front-end@1.0.0"
    },
    "kernel_info": {
      "name": "python3"
    }
  },
  "nbformat": 4,
  "nbformat_minor": 5
}
