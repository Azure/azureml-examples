{
  "cells": [
    {
      "cell_type": "markdown",
      "source": [
        "### Import the Libraries"
      ],
      "metadata": {
        "nteract": {
          "transient": {
            "deleting": false
          }
        }
      }
    },
    {
      "cell_type": "code",
      "source": [
        "import urllib.request\n",
        "import json\n",
        "import ssl\n",
        "from dotenv import load_dotenv"
      ],
      "outputs": [],
      "execution_count": 1,
      "metadata": {
        "gather": {
          "logged": 1712149090668
        }
      }
    },
    {
      "cell_type": "markdown",
      "source": [
        "### Configure the credentials"
      ],
      "metadata": {
        "nteract": {
          "transient": {
            "deleting": false
          }
        }
      }
    },
    {
      "cell_type": "code",
      "source": [
        "from dotenv import dotenv_values\n",
        "config = dotenv_values(\"config.env\")\n",
        "config=dict(config)\n",
        "api_key = config[\"api_key\"]\n",
        "url = config[\"url\"]"
      ],
      "outputs": [],
      "execution_count": 2,
      "metadata": {
        "jupyter": {
          "source_hidden": false,
          "outputs_hidden": false
        },
        "nteract": {
          "transient": {
            "deleting": false
          }
        },
        "gather": {
          "logged": 1712149122017
        }
      }
    },
    {
      "cell_type": "markdown",
      "source": [
        "### certificate verification for HTTPS connections on the client-side."
      ],
      "metadata": {
        "nteract": {
          "transient": {
            "deleting": false
          }
        }
      }
    },
    {
      "cell_type": "code",
      "source": [
        "def allowSelfSignedHttps(allowed):\n",
        "    # bypass the server certificate verification on client side\n",
        "    if allowed and not os.environ.get('PYTHONHTTPSVERIFY', '') and getattr(ssl, '_create_unverified_context', None):\n",
        "        ssl._create_default_https_context = ssl._create_unverified_context"
      ],
      "outputs": [],
      "execution_count": 3,
      "metadata": {
        "jupyter": {
          "source_hidden": false,
          "outputs_hidden": false
        },
        "nteract": {
          "transient": {
            "deleting": false
          }
        },
        "gather": {
          "logged": 1712149218468
        }
      }
    },
    {
      "cell_type": "code",
      "source": [
        "allowSelfSignedHttps(True)"
      ],
      "outputs": [],
      "execution_count": 4,
      "metadata": {
        "jupyter": {
          "source_hidden": false,
          "outputs_hidden": false
        },
        "nteract": {
          "transient": {
            "deleting": false
          }
        },
        "gather": {
          "logged": 1712149233525
        }
      }
    },
    {
      "cell_type": "markdown",
      "source": [
        "### Snippet of data, representing a conversation between a user and an assistant."
      ],
      "metadata": {
        "nteract": {
          "transient": {
            "deleting": false
          }
        }
      }
    },
    {
      "cell_type": "code",
      "source": [
        "data =  {\n",
        "  \"messages\": [\n",
        "    {\n",
        "      \"role\": \"user\",\n",
        "      \"content\": \"What is the largest ocean in the world?\"\n",
        "    },\n",
        "    {\n",
        "      \"role\": \"assistant\",\n",
        "      \"content\": \"The largest ocean in the world is the Pacific Ocean, which covers an area of approximately 155.6 million square kilometers (60.1 million square miles) and accounts for approximately 46% of the Earth's total ocean area. It is also the deepest ocean, with a maximum depth of about 11,022 meters (36,198 feet) in the Mariana Trench.\"\n",
        "    },\n",
        "    {\n",
        "      \"role\": \"user\",\n",
        "      \"content\": \"What's the second largest?\"\n",
        "    }\n",
        "  ],\n",
        "  \"temperature\": 0.8,\n",
        "  \"max_tokens\": 128\n",
        "}"
      ],
      "outputs": [],
      "execution_count": 5,
      "metadata": {
        "jupyter": {
          "source_hidden": false,
          "outputs_hidden": false
        },
        "nteract": {
          "transient": {
            "deleting": false
          }
        },
        "gather": {
          "logged": 1712149280318
        }
      }
    },
    {
      "cell_type": "markdown",
      "source": [
        "### Test the Api-Key"
      ],
      "metadata": {
        "nteract": {
          "transient": {
            "deleting": false
          }
        }
      }
    },
    {
      "cell_type": "code",
      "source": [
        "if not api_key:\n",
        "    raise Exception(\"A key should be provided to invoke the endpoint\")"
      ],
      "outputs": [],
      "execution_count": 6,
      "metadata": {
        "jupyter": {
          "source_hidden": false,
          "outputs_hidden": false
        },
        "nteract": {
          "transient": {
            "deleting": false
          }
        },
        "gather": {
          "logged": 1712149440662
        }
      }
    },
    {
      "cell_type": "code",
      "source": [
        "body = str.encode(json.dumps(data))\n",
        "headers = {'Content-Type':'application/json', 'Authorization':('Bearer '+ api_key)}"
      ],
      "outputs": [],
      "execution_count": 7,
      "metadata": {
        "jupyter": {
          "source_hidden": false,
          "outputs_hidden": false
        },
        "nteract": {
          "transient": {
            "deleting": false
          }
        },
        "gather": {
          "logged": 1712149497050
        }
      }
    },
    {
      "cell_type": "markdown",
      "source": [
        "### for making HTTP requests to a web server."
      ],
      "metadata": {
        "nteract": {
          "transient": {
            "deleting": false
          }
        }
      }
    },
    {
      "cell_type": "code",
      "source": [
        "req = urllib.request.Request(url, body, headers)"
      ],
      "outputs": [],
      "execution_count": 8,
      "metadata": {
        "jupyter": {
          "source_hidden": false,
          "outputs_hidden": false
        },
        "nteract": {
          "transient": {
            "deleting": false
          }
        },
        "gather": {
          "logged": 1712149586224
        }
      }
    },
    {
      "cell_type": "markdown",
      "source": [
        "### send an HTTP request"
      ],
      "metadata": {
        "nteract": {
          "transient": {
            "deleting": false
          }
        }
      }
    },
    {
      "cell_type": "code",
      "source": [
        "try:\n",
        "    response = urllib.request.urlopen(req)\n",
        "\n",
        "    result = response.read()\n",
        "    print(result)\n",
        "except urllib.error.HTTPError as error:\n",
        "    print(\"The request failed with status code: \" + str(error.code))\n",
        "    print(error.info())\n",
        "    print(error.read().decode(\"utf8\", 'ignore'))"
      ],
      "outputs": [
        {
          "output_type": "stream",
          "name": "stdout",
          "text": "b'{\"choices\":[{\"finish_reason\":\"stop\",\"index\":0,\"message\":{\"content\":\"  The second largest ocean in the world is the Atlantic Ocean, which covers an area of approximately 85.1 million square kilometers (32.8 million square miles) and accounts for approximately 29% of the Earth\\'s total ocean area. It is separated from the Pacific Ocean by the Americas and connects with the Indian and Arctic Oceans to the east. The Atlantic Ocean is also home to many important shipping lanes and fishing grounds.\",\"role\":\"assistant\",\"tool_calls\":null}}],\"created\":1550402,\"id\":\"1ee0d0ee-d049-43f9-965d-8b93ba2daa8c\",\"model\":\"Llama-2-70b-chat\",\"object\":\"chat.completion\",\"usage\":{\"completion_tokens\":100,\"prompt_tokens\":125,\"total_tokens\":225}}\\n'\n"
        }
      ],
      "execution_count": 9,
      "metadata": {
        "jupyter": {
          "source_hidden": false,
          "outputs_hidden": false
        },
        "nteract": {
          "transient": {
            "deleting": false
          }
        },
        "gather": {
          "logged": 1712149747789
        }
      }
    }
  ],
  "metadata": {
    "kernelspec": {
      "name": "python310-sdkv2",
      "language": "python",
      "display_name": "Python 3.10 - SDK v2"
    },
    "language_info": {
      "name": "python",
      "version": "3.10.11",
      "mimetype": "text/x-python",
      "codemirror_mode": {
        "name": "ipython",
        "version": 3
      },
      "pygments_lexer": "ipython3",
      "nbconvert_exporter": "python",
      "file_extension": ".py"
    },
    "microsoft": {
      "ms_spell_check": {
        "ms_spell_check_language": "en"
      },
      "host": {
        "AzureML": {
          "notebookHasBeenCompleted": true
        }
      }
    },
    "kernel_info": {
      "name": "python310-sdkv2"
    },
    "nteract": {
      "version": "nteract-front-end@1.0.0"
    }
  },
  "nbformat": 4,
  "nbformat_minor": 2
}
