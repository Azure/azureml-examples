{
 "cells": [
  {
   "cell_type": "markdown",
   "id": "40fc5aa9",
   "metadata": {},
   "source": [
    "#### Import necessary Library"
   ]
  },
  {
   "cell_type": "code",
   "execution_count": 1,
   "id": "3c4527f1",
   "metadata": {
    "gather": {
     "logged": 1707892215689
    }
   },
   "outputs": [],
   "source": [
    "import urllib.request\n",
    "import json\n",
    "import os\n",
    "import ssl\n",
    "from dotenv import load_dotenv"
   ]
  },
  {
   "cell_type": "markdown",
   "id": "3438b348",
   "metadata": {},
   "source": [
    "•  Conditional Check: The function starts by checking if both allowed is True and the PYTHONHTTPSVERIFY environment variable is not set or is an empty string. This variable, if present and non-empty, controls HTTPS certificate verification behavior.\n",
    "\n",
    "\n",
    "•  ssl Module Attribute: It then checks if the ssl module has an attribute named _create_unverified_context. This attribute, if present, provides a way to create an HTTPS context without verifying the server's certificate.\n",
    "\n",
    "•  Modification: If both conditions are met (allowing self-signed certs and unverified context creation), the function sets the ssl._create_default_https_context attribute to the _create_unverified_context value. This effectively instructs the ssl module to skip server certificate verification for all HTTPS connections.\n"
   ]
  },
  {
   "cell_type": "code",
   "execution_count": 2,
   "id": "2468f6cf",
   "metadata": {
    "gather": {
     "logged": 1707892218889
    }
   },
   "outputs": [],
   "source": [
    "def allowSelfSignedHttps(allowed):\n",
    "    # bypass the server certificate verification on client side\n",
    "    if allowed and not os.environ.get('PYTHONHTTPSVERIFY', '') and getattr(ssl, '_create_unverified_context', None):\n",
    "        ssl._create_default_https_context = ssl._create_unverified_context"
   ]
  },
  {
   "cell_type": "markdown",
   "id": "d763928e",
   "metadata": {},
   "source": [
    "•this line is needed if you use self-signed certificate in your scoring service."
   ]
  },
  {
   "cell_type": "code",
   "execution_count": 3,
   "id": "cc7671b3",
   "metadata": {
    "gather": {
     "logged": 1707892224429
    }
   },
   "outputs": [],
   "source": [
    "allowSelfSignedHttps(True)"
   ]
  },
  {
   "cell_type": "markdown",
   "id": "92efbcf5",
   "metadata": {},
   "source": [
    "•\tprompt: This is the starting text or phrase that the LLM will use to begin generating new text.\n",
    "\n",
    "•\ttemperature: This parameter controls the \"creativity\" or randomness of the output.\n",
    "\n",
    "•\tmax_tokens: This parameter specifies the maximum number of tokens (words or sub-word units) that the LLM should generate for the output.\n"
   ]
  },
  {
   "cell_type": "code",
   "execution_count": 4,
   "id": "fbf40c04",
   "metadata": {
    "gather": {
     "logged": 1707892228634
    }
   },
   "outputs": [],
   "source": [
    "data =  {\n",
    "  \"prompt\": \"My name is Julien and I like to\",\n",
    "  \"temperature\": 0.8,\n",
    "  \"max_tokens\": 128\n",
    "}"
   ]
  },
  {
   "cell_type": "markdown",
   "id": "3934850e",
   "metadata": {},
   "source": [
    "•\tjson.dumps(data): This function takes a Python object (data) and converts it into a JSON string. JSON (JavaScript Object Notation) is a popular format for exchanging data between applications.\n",
    "\n",
    "•\tstr.encode(json_string): This function takes the JSON string generated in the previous step and encodes it into bytes. This encoding is necessary because many network protocols, like HTTP, expect data to be sent as bytes.\n"
   ]
  },
  {
   "cell_type": "code",
   "execution_count": 5,
   "id": "7c153c4c",
   "metadata": {
    "gather": {
     "logged": 1707892232416
    }
   },
   "outputs": [],
   "source": [
    "body = str.encode(json.dumps(data))"
   ]
  },
  {
   "cell_type": "markdown",
   "id": "b5cd730d",
   "metadata": {},
   "source": [
    "• Load the environmet variable from the .env file"
   ]
  },
  {
   "cell_type": "markdown",
   "id": "aea1faa7",
   "metadata": {},
   "source": [
    "• Load the URL from the .env file using this os.getenv()"
   ]
  },
  {
   "cell_type": "markdown",
   "id": "6aae07b5",
   "metadata": {},
   "source": [
    "• Load the primary/secondary key or AMLToken for the endpoint from the .env file using os.getenv()"
   ]
  },
  {
   "cell_type": "code",
   "execution_count": 6,
   "id": "b9bf41ee",
   "metadata": {
    "gather": {
     "logged": 1707892248595
    }
   },
   "outputs": [],
   "source": [
    "load_dotenv(\"config.env\")\n",
    "url = os.getenv(\"BASE_URL\")\n",
    "api_key_1 = os.getenv(\"api_key\")"
   ]
  },
  {
   "cell_type": "markdown",
   "id": "a594870a",
   "metadata": {},
   "source": [
    "•Checking api key is correct or not "
   ]
  },
  {
   "cell_type": "code",
   "execution_count": 8,
   "id": "07d35a00",
   "metadata": {
    "gather": {
     "logged": 1707892316485
    }
   },
   "outputs": [],
   "source": [
    "if not api_key_1:\n",
    "    raise Exception(\"A key should be provided to invoke the endpoint\")"
   ]
  },
  {
   "cell_type": "markdown",
   "id": "b3d43041",
   "metadata": {},
   "source": [
    "•Content-Type: Identifies the data format as JSON."
   ]
  },
  {
   "cell_type": "markdown",
   "id": "475e9aaf",
   "metadata": {},
   "source": [
    "•\tAuthorization: Authenticates the request using your API key."
   ]
  },
  {
   "cell_type": "code",
   "execution_count": 10,
   "id": "d8ccb35e",
   "metadata": {
    "gather": {
     "logged": 1707892327414
    }
   },
   "outputs": [],
   "source": [
    "headers = {'Content-Type':'application/json', 'Authorization':('Bearer '+ api_key_1)}"
   ]
  },
  {
   "cell_type": "markdown",
   "id": "e30e096b",
   "metadata": {},
   "source": [
    "•\tBelow code will send the request and return a response object containing the server's response data and headers."
   ]
  },
  {
   "cell_type": "code",
   "execution_count": 11,
   "id": "31aab11f",
   "metadata": {
    "gather": {
     "logged": 1707892330417
    }
   },
   "outputs": [],
   "source": [
    "req = urllib.request.Request(url, body, headers)"
   ]
  },
  {
   "cell_type": "markdown",
   "id": "3f956ab4",
   "metadata": {},
   "source": [
    "•response = urllib.request.urlopen(req): This line sends the HTTP request using the req object (which should contain the URL, body, and headers)."
   ]
  },
  {
   "cell_type": "markdown",
   "id": "90df1945",
   "metadata": {},
   "source": [
    "•result = response.read(): If the request is successful, this line reads the entire response body into the result variable."
   ]
  },
  {
   "cell_type": "markdown",
   "id": "d57b929a",
   "metadata": {},
   "source": [
    "•\texcept urllib.error.HTTPError as error: This part defines an except block to handle HTTPError exceptions that might occur during the request. The error object is stored as error."
   ]
  },
  {
   "cell_type": "code",
   "execution_count": 12,
   "id": "c6c2ff5b",
   "metadata": {
    "gather": {
     "logged": 1707892341748
    }
   },
   "outputs": [
    {
     "name": "stdout",
     "output_type": "stream",
     "text": [
      "b'{\"id\":\"3e16a0ca-f707-4b3c-a4de-7f6f5f07d6c7\",\"object\":\"text_completion\",\"created\":1717065,\"model\":\"\",\"choices\":[{\"text\":\" think that I know a lot about the web. I\\'ve been working in the web for years and have been creating websites since I was 12 years old. I\\'ve also been interviewed for my experience in the web by newspapers like Le Monde and the Chicago Tribune. In this page, I\\'ll try to share my knowledge of web with you.\\\\nHere are some of the web sites that I\\'ve created.\\\\nThe first website that I created was this (now retired) website. As you can see, I was completely new to the web and didn\\'t really know what I was doing.\",\"index\":0,\"finish_reason\":\"length\",\"logprobs\":null}],\"usage\":{\"prompt_tokens\":10,\"total_tokens\":138,\"completion_tokens\":128}}\\n'\n"
     ]
    }
   ],
   "source": [
    "try:\n",
    "    response = urllib.request.urlopen(req)\n",
    "\n",
    "    result = response.read()\n",
    "    print(result)\n",
    "except urllib.error.HTTPError as error:\n",
    "    print(\"The request failed with status code: \" + str(error.code))\n",
    "    print(error.info())\n",
    "    print(error.read().decode(\"utf8\", 'ignore'))"
   ]
  },
  {
   "cell_type": "raw",
   "id": "73c9e106",
   "metadata": {},
   "source": []
  },
  {
   "cell_type": "code",
   "execution_count": null,
   "id": "88bac655",
   "metadata": {},
   "outputs": [],
   "source": []
  },
  {
   "cell_type": "code",
   "execution_count": null,
   "id": "c1eb8a36",
   "metadata": {},
   "outputs": [],
   "source": []
  },
  {
   "cell_type": "code",
   "execution_count": null,
   "id": "43e79714",
   "metadata": {},
   "outputs": [],
   "source": []
  }
 ],
 "metadata": {
  "kernel_info": {
   "name": "python3"
  },
  "kernelspec": {
   "display_name": "Python 3 (ipykernel)",
   "language": "python",
   "name": "python3"
  },
  "language_info": {
   "codemirror_mode": {
    "name": "ipython",
    "version": 3
   },
   "file_extension": ".py",
   "mimetype": "text/x-python",
   "name": "python",
   "nbconvert_exporter": "python",
   "pygments_lexer": "ipython3",
   "version": "3.11.5"
  },
  "microsoft": {
   "host": {
    "AzureML": {
     "notebookHasBeenCompleted": true
    }
   },
   "ms_spell_check": {
    "ms_spell_check_language": "en"
   }
  },
  "nteract": {
   "version": "nteract-front-end@1.0.0"
  }
 },
 "nbformat": 4,
 "nbformat_minor": 5
}
