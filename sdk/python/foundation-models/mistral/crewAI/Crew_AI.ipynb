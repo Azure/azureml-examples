{
  "cells": [
    {
      "cell_type": "code",
      "source": [
        "%pip install crewai\n",
        "%pip install 'crewai[tools]'"
      ],
      "outputs": [],
      "execution_count": null,
      "metadata": {}
    },
    {
      "cell_type": "code",
      "source": [
        "%pip install 'crewai[tools]'"
      ],
      "outputs": [],
      "execution_count": null,
      "metadata": {
        "jupyter": {
          "source_hidden": false,
          "outputs_hidden": false
        },
        "nteract": {
          "transient": {
            "deleting": false
          }
        }
      }
    },
    {
      "cell_type": "code",
      "source": [
        "from crewai import Agent\n",
        "from crewai import Agent, Task\n",
        "from crewai import Crew, Process\n",
        "from langchain_openai import OpenAI\n",
        "from langchain_openai import ChatOpenAI\n",
        "from dotenv import load_dotenv\n",
        "import os\n",
        "\n",
        "load_dotenv(\"config.env\")\n",
        "api_key=os.getenv(\"api_key\")\n",
        "api_base=os.getenv(\"api_base\")\n",
        "\n",
        "azure_llm = ChatOpenAI(\n",
        "    openai_api_base=api_base,\n",
        "    openai_api_key=api_key)                 \n",
        "\n",
        "\n",
        "\n",
        "researcher = Agent(\n",
        "  role='Senior Researcher',\n",
        "  goal='Discover groundbreaking technologies',\n",
        "  verbose=True,\n",
        "  llm=azure_llm,\n",
        "  backstory='A curious mind fascinated by cutting-edge innovation and the potential to change the world, you know everything about tech.'\n",
        ")\n",
        "research_task = Task(\n",
        "  description='Identify the next big trend in AI',\n",
        "  expected_output=\"Full analysis report in bullet points\",\n",
        "  agent=researcher  # Assigning the task to the researcher\n",
        ")\n",
        "\n",
        "tech_crew = Crew(\n",
        "  agents=[researcher],\n",
        "  tasks=[research_task],\n",
        "  process=Process.sequential  # Tasks will be executed one after the other\n",
        ")\n",
        "\n",
        "# Begin the task execution\n",
        "tech_crew.kickoff()"
      ],
      "outputs": [],
      "execution_count": null,
      "metadata": {
        "jupyter": {
          "source_hidden": false,
          "outputs_hidden": false
        },
        "nteract": {
          "transient": {
            "deleting": false
          }
        }
      }
    }
  ],
  "metadata": {
    "kernelspec": {
      "name": "python310-sdkv2",
      "language": "python",
      "display_name": "Python 3.10 - SDK v2"
    },
    "language_info": {
      "name": "python",
      "version": "3.10.11",
      "mimetype": "text/x-python",
      "codemirror_mode": {
        "name": "ipython",
        "version": 3
      },
      "pygments_lexer": "ipython3",
      "nbconvert_exporter": "python",
      "file_extension": ".py"
    },
    "microsoft": {
      "ms_spell_check": {
        "ms_spell_check_language": "en"
      }
    },
    "nteract": {
      "version": "nteract-front-end@1.0.0"
    },
    "kernel_info": {
      "name": "python310-sdkv2"
    }
  },
  "nbformat": 4,
  "nbformat_minor": 2
}