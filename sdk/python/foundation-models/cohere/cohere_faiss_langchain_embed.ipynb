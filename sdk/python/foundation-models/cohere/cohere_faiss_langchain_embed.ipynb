{
 "cells": [
  {
   "cell_type": "markdown",
   "metadata": {},
   "source": [
    "# Create a local (FAISS) vector index using Cohere embeddings - Langchain\t\n",
    "\n",
    "You can use Cohere Embed v3 - English and Cohere Embed v3 - Multilingual models deployed in Azure AI and Azure ML with `langchain` to create more sophisticated intelligent applications.\n",
    "\n",
    "> Review the [documentation](https://learn.microsoft.com/en-us/azure/ai-studio/how-to/deploy-models-cohere-embed) for the Cohere family of models at for AI Studio and for ML Studio for details on how to provision inference endpoints, regional availability, pricing and inference schema reference."
   ]
  },
  {
   "cell_type": "markdown",
   "metadata": {},
   "source": [
    "## Prerequisites\n",
    "\n",
    "Before we start, there are certain steps we need to take to deploy the models:\n",
    "\n",
    "* Register for a valid Azure account with subscription \n",
    "* Make sure you have access to [Azure AI Studio](https://learn.microsoft.com/en-us/azure/ai-studio/what-is-ai-studio?tabs=home)\n",
    "* Create a project and resource group\n",
    "* Select `Cohere Embed`.\n",
    "\n",
    "    > Notice that some models may not be available in all the regions in Azure AI and Azure Machine Learning. On those cases, you can create a workspace or project in the region where the models are available and then consume it with a connection from a different one. To learn more about using connections see [Consume models with connections](https://learn.microsoft.com/en-us/azure/ai-studio/how-to/deployments-connections)\n",
    "\n",
    "* Deploy with \"Pay-as-you-go\"\n",
    "\n",
    "Once deployed successfully, you should be assigned for an API endpoint and a security key for inference.\n",
    "\n",
    "For more information, you should consult Azure's official documentation [here](https://learn.microsoft.com/en-us/azure/ai-studio/how-to/deploy-models-cohere) for model deployment and inference."
   ]
  },
  {
   "cell_type": "markdown",
   "metadata": {},
   "source": [
    "## Example\n",
    "\n",
    "The following example demonstrate how to create a Facebook AI Similarity Search (Faiss) that uses a Cohere Embed v3 - English and Cohere Embed v3 - Multilingual models deployed in Azure AI and Azure ML. The chain has been configured with a `Faiss`. This example has been adapted from [LangChain official documentation](https://python.langchain.com/docs/integrations/vectorstores/faiss/)."
   ]
  },
  {
   "cell_type": "markdown",
   "metadata": {},
   "source": [
    "### Install Dependencies"
   ]
  },
  {
   "cell_type": "code",
   "execution_count": 1,
   "metadata": {},
   "outputs": [],
   "source": [
    "! pip install --quiet langchain langchain_cohere faiss-cpu"
   ]
  },
  {
   "cell_type": "code",
   "execution_count": null,
   "metadata": {},
   "outputs": [],
   "source": [
    "from langchain_cohere import CohereEmbeddings\n",
    "from langchain.vectorstores import FAISS\n",
    "from langchain_core.documents.base import Document"
   ]
  },
  {
   "cell_type": "markdown",
   "metadata": {},
   "source": [
    "Prepare the data and format it for vectorstore"
   ]
  },
  {
   "cell_type": "code",
   "execution_count": null,
   "metadata": {},
   "outputs": [],
   "source": [
    "project_descriptions = [\n",
    "    \"Project Alpha: Implementing a new CRM system to improve customer relationships.\",\n",
    "    \"Project Beta: Developing an AI-based forecasting tool for sales trends.\",\n",
    "    \"Project Gamma: Overhauling the company website for better user engagement.\",\n",
    "    \"Project Delta: Integrating blockchain technology for enhanced supply chain transparency.\",\n",
    "    \"Project Epsilon: Launching a cloud migration strategy to enhance data accessibility and security.\",\n",
    "    \"Project Zeta: Implementing machine learning algorithms to optimize inventory management systems.\",\n",
    "    \"Project Eta: Developing a mobile application to improve field service operations and customer reporting.\",\n",
    "    \"Project Theta: Upgrading cybersecurity measures to protect against emerging digital threats.\",\n",
    "    \"Project Iota: Creating a virtual reality training program to enhance employee skill sets and engagement.\",\n",
    "    \"Project Kappa: Automating financial processes using AI to increase efficiency and reduce errors.\",\n",
    "]\n",
    "\n",
    "project_docs = []\n",
    "for doc in project_descriptions:\n",
    "    project_docs.append(Document(page_content=doc, metadata={\"source\": \"local\"}))"
   ]
  },
  {
   "cell_type": "markdown",
   "metadata": {},
   "source": [
    "Let's create an instance of our model deployed in Azure AI or Azure ML. Use the `langchain_cohere` package and configure it as follows:\n",
    "\n",
    "- `embed_endpoint`: Use the endpoint URL from your deployment. Include `/v1` at the end of the endpoint URL."
   ]
  },
  {
   "cell_type": "code",
   "execution_count": null,
   "metadata": {},
   "outputs": [],
   "source": [
    "azure_embed_url = \"https://<endpoint>.<region>.inference.ai.azure.com/v1\"\n",
    "azure_embed_key = \"<key>\""
   ]
  },
  {
   "cell_type": "code",
   "execution_count": null,
   "metadata": {},
   "outputs": [],
   "source": [
    "embed_model = CohereEmbeddings(base_url=azure_embed_url, cohere_api_key=azure_embed_key)"
   ]
  },
  {
   "cell_type": "markdown",
   "metadata": {},
   "source": [
    "Ingest documents with Embed endpoint"
   ]
  },
  {
   "cell_type": "code",
   "execution_count": null,
   "metadata": {},
   "outputs": [],
   "source": [
    "db = FAISS.from_documents(project_docs, embed_model)"
   ]
  },
  {
   "cell_type": "markdown",
   "metadata": {},
   "source": [
    "Now, we can query the vectorstore"
   ]
  },
  {
   "cell_type": "code",
   "execution_count": null,
   "metadata": {},
   "outputs": [],
   "source": [
    "query = \"what are AI based projects?\"\n",
    "results = db.similarity_search(query, k=3)\n",
    "\n",
    "for result in results:\n",
    "    print(result.page_content)"
   ]
  }
 ],
 "metadata": {
  "kernelspec": {
   "display_name": "rag-app",
   "language": "python",
   "name": "python3"
  },
  "language_info": {
   "codemirror_mode": {
    "name": "ipython",
    "version": 3
   },
   "file_extension": ".py",
   "mimetype": "text/x-python",
   "name": "python",
   "nbconvert_exporter": "python",
   "pygments_lexer": "ipython3",
   "version": "3.9.13"
  }
 },
 "nbformat": 4,
 "nbformat_minor": 2
}
