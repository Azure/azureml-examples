{
 "cells": [
  {
   "cell_type": "markdown",
   "metadata": {
    "id": "xkYGnQdObi10"
   },
   "source": [
    "# Cohere and Azure with LangChain\n",
    "\n",
    "The following notebook gives examples of how to call Cohere's models deployed on Azure with LangChain"
   ]
  },
  {
   "cell_type": "markdown",
   "metadata": {
    "id": "FuX-V6VkcFNz"
   },
   "source": [
    "First you will need to install the Cohere's package in LangChain."
   ]
  },
  {
   "cell_type": "code",
   "execution_count": null,
   "metadata": {
    "id": "ULXOMqh3bH1o"
   },
   "outputs": [],
   "source": [
    "# %pip install langchain_cohere"
   ]
  },
  {
   "cell_type": "markdown",
   "metadata": {
    "id": "nC1szd-NdSVe"
   },
   "source": [
    "Then to set up the Cohere client you will need to input the Azure endpoint URL and token."
   ]
  },
  {
   "cell_type": "code",
   "execution_count": null,
   "metadata": {
    "id": "eYR8fTdscQsg"
   },
   "outputs": [],
   "source": [
    "import cohere\n",
    "import getpass\n",
    "from langchain_cohere import ChatCohere\n",
    "from langchain_core.messages import HumanMessage\n",
    "import os\n",
    "\n",
    "os.environ[\"COHERE_API_KEY\"] = getpass.getpass(prompt=\"Azure AD token:\")\n",
    "url = getpass.getpass(\n",
    "    prompt=\"Azure endpoint url this should be without /chat or /embed and with /v1 at the end:\"\n",
    ")\n",
    "\n",
    "co = ChatCohere(base_url=url)"
   ]
  },
  {
   "cell_type": "markdown",
   "metadata": {
    "id": "niX5Q144dH9F"
   },
   "source": [
    "## Chat"
   ]
  },
  {
   "cell_type": "code",
   "execution_count": null,
   "metadata": {
    "id": "7MEOTibRdFtj"
   },
   "outputs": [],
   "source": [
    "messages = [HumanMessage(content=\"Hello\")]\n",
    "response = co.invoke(messages)\n",
    "print(response.content)"
   ]
  },
  {
   "cell_type": "code",
   "execution_count": null,
   "metadata": {
    "id": "-Kj3nQCGdCMk"
   },
   "outputs": [],
   "source": [
    "messages = [\n",
    "    HumanMessage(\n",
    "        content=\"How can organizations effectively manage and secure their cloud infrastructure?\"\n",
    "    )\n",
    "]\n",
    "for chunk in co.stream(messages):\n",
    "    print(chunk.content, end=\"\", flush=True)"
   ]
  },
  {
   "cell_type": "markdown",
   "metadata": {
    "id": "oxUNxct3eh-u"
   },
   "source": [
    "## Chat with RAG"
   ]
  },
  {
   "cell_type": "markdown",
   "metadata": {
    "id": "Jq-451LrmaFY"
   },
   "source": [
    "Using LangChain's Wiki Retriever. You will need the wikipedia and langchain packages for this example."
   ]
  },
  {
   "cell_type": "code",
   "execution_count": null,
   "metadata": {
    "id": "DEM2T0lRmpQR"
   },
   "outputs": [],
   "source": [
    "%pip install --upgrade --quiet wikipedia\n",
    "%pip install --upgrade --quiet langchain"
   ]
  },
  {
   "cell_type": "code",
   "execution_count": null,
   "metadata": {
    "id": "4R3m46W2eXcn"
   },
   "outputs": [],
   "source": [
    "from langchain_core.messages import AIMessage\n",
    "from langchain.retrievers import WikipediaRetriever\n",
    "from typing import Dict, List, Any\n",
    "from langchain_core.runnables import RunnablePassthrough\n",
    "from langchain_core.prompts import ChatPromptTemplate\n",
    "\n",
    "prompt = lambda x: [\n",
    "    HumanMessage(\n",
    "        x[\"question\"], additional_kwargs={\"documents\": x.get(\"documents\", None)}\n",
    "    )\n",
    "]\n",
    "\n",
    "rag_x_citations_chain = (\n",
    "    {\"documents\": WikipediaRetriever(), \"question\": RunnablePassthrough()}\n",
    "    | RunnablePassthrough()\n",
    "    | prompt\n",
    "    | co\n",
    ")\n",
    "response = rag_x_citations_chain.invoke(\"What is Task Decomposition?\")\n",
    "print(response.content)\n",
    "print(response.additional_kwargs[\"citations\"])\n",
    "print(response.additional_kwargs[\"documents\"])"
   ]
  },
  {
   "cell_type": "markdown",
   "metadata": {
    "id": "oI-rRnt2-6MA"
   },
   "source": [
    "## Chat with Tools\n"
   ]
  },
  {
   "cell_type": "code",
   "execution_count": null,
   "metadata": {
    "id": "f1XyC9AF-2LV"
   },
   "outputs": [],
   "source": [
    "%pip install --quiet langchain langchain-core langchain-cohere"
   ]
  },
  {
   "cell_type": "code",
   "execution_count": null,
   "metadata": {
    "id": "KARcbM2H-0V3"
   },
   "outputs": [],
   "source": [
    "from langchain_community.tools.tavily_search import TavilySearchResults\n",
    "from langchain_cohere import ChatCohere, create_cohere_tools_agent\n",
    "from langchain.agents import AgentExecutor\n",
    "from langchain_core.prompts.chat import ChatPromptTemplate\n",
    "from langchain_core.messages import HumanMessage\n",
    "from langchain_core.pydantic_v1 import BaseModel, Field\n",
    "import os\n",
    "import getpass\n",
    "\n",
    "os.environ[\"TAVILY_API_KEY\"] = getpass.getpass(prompt=\"Tavily API key:\")\n",
    "\n",
    "internet_search = TavilySearchResults()\n",
    "internet_search.name = \"internet_search\"\n",
    "internet_search.description = \"Returns a list of relevant document snippets for a textual query retrieved from the internet.\"\n",
    "\n",
    "\n",
    "class TavilySearchInput(BaseModel):\n",
    "    query: str = Field(description=\"Query to search the internet with\")\n",
    "\n",
    "\n",
    "internet_search.args_schema = TavilySearchInput\n",
    "\n",
    "prompt = ChatPromptTemplate.from_messages(\n",
    "    [\n",
    "        HumanMessage(\n",
    "            content=\"In what year was the company that was founded as Sound of Music added to the S&P 500?\"\n",
    "        )\n",
    "    ]\n",
    ")\n",
    "\n",
    "llm = co.bind()\n",
    "agent = create_cohere_tools_agent(llm, [internet_search], prompt)\n",
    "agent_executor = AgentExecutor(agent=agent, tools=[internet_search], verbose=True)\n",
    "agent_executor.invoke({})"
   ]
  },
  {
   "cell_type": "markdown",
   "metadata": {
    "id": "b8nJ4X0FdgtR"
   },
   "source": [
    "## Embed"
   ]
  },
  {
   "cell_type": "code",
   "execution_count": null,
   "metadata": {
    "id": "Fo-052HWdKwQ"
   },
   "outputs": [],
   "source": [
    "import cohere\n",
    "import getpass\n",
    "from langchain_cohere import CohereEmbeddings\n",
    "from langchain_core.messages import HumanMessage\n",
    "import os\n",
    "\n",
    "# os.environ[\"COHERE_API_KEY\"] = getpass.getpass(prompt=\"Azure AD token:\")\n",
    "url = getpass.getpass(\n",
    "    prompt=\"Azure endpoint url this should be without /chat or /embed and with /v1 at the end:\"\n",
    ")\n",
    "\n",
    "co = CohereEmbeddings(base_url=url)\n",
    "query_result = co.embed(\n",
    "    texts=[\"Embed this sentence please\"], input_type=\"classification\"\n",
    ")\n",
    "print(query_result)"
   ]
  },
  {
   "cell_type": "markdown",
   "metadata": {},
   "source": [
    "# Rerank"
   ]
  },
  {
   "cell_type": "code",
   "execution_count": null,
   "metadata": {},
   "outputs": [],
   "source": [
    "import cohere\n",
    "import getpass\n",
    "from langchain_cohere import CohereRerank\n",
    "import os\n",
    "\n",
    "os.environ[\"COHERE_API_KEY\"] = getpass.getpass(prompt=\"Azure AD token:\")\n",
    "\n",
    "co = CohereRerank(cohere_api_key=os.environ[\"COHERE_API_KEY\"])\n",
    "query = \"What is the capital of the United States?\"\n",
    "docs = [\n",
    "    \"Carson City is the capital city of the American state of Nevada. At the 2010 United States Census, Carson City had a population of 55,274.\",\n",
    "    \"The Commonwealth of the Northern Mariana Islands is a group of islands in the Pacific Ocean that are a political division controlled by the United States. Its capital is Saipan.\",\n",
    "    \"Charlotte Amalie is the capital and largest city of the United States Virgin Islands. It has about 20,000 people. The city is on the island of Saint Thomas.\",\n",
    "    \"Washington, D.C. (also known as simply Washington or D.C., and officially as the District of Columbia) is the capital of the United States. It is a federal district. The President of the USA and many major national government offices are in the territory. This makes it the political center of the United States of America.\",\n",
    "    \"Capital punishment (the death penalty) has existed in the United States since before the United States was a country. As of 2017, capital punishment is legal in 30 of the 50 states. The federal government (including the United States military) also uses capital punishment.\",\n",
    "]\n",
    "results = co.rerank(model=\"rerank-english-v3.0\", query=query, documents=docs, top_n=5)\n",
    "results"
   ]
  }
 ],
 "metadata": {
  "colab": {
   "provenance": []
  },
  "kernelspec": {
   "display_name": "Python 3",
   "name": "python3"
  },
  "language_info": {
   "codemirror_mode": {
    "name": "ipython",
    "version": 3
   },
   "file_extension": ".py",
   "mimetype": "text/x-python",
   "name": "python",
   "nbconvert_exporter": "python",
   "pygments_lexer": "ipython3",
   "version": "3.8.19"
  }
 },
 "nbformat": 4,
 "nbformat_minor": 0
}
