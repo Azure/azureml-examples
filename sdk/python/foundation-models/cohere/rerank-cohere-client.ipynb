{
 "cells": [
  {
   "cell_type": "markdown",
   "metadata": {},
   "source": [
    "# Use Cohere Rerank in Azure AI and Azure ML\n",
    "\n",
    "Use `cohere` client to consume Cohere Rerank model deployments in Azure AI and Azure ML..\n",
    "\n",
    "> Review the [documentation](https://learn.microsoft.com/en-us/azure/ai-studio/how-to/deploy-models-cohere) for the Cohere family of models at for AI Studio and for ML Studio for details on how to provision inference endpoints, regional availability, pricing and inference schema reference."
   ]
  },
  {
   "cell_type": "markdown",
   "metadata": {},
   "source": [
    "## Prerequisites\n",
    "\n",
    "Before we start, there are certain steps we need to take to deploy the models:\n",
    "\n",
    "* Register for a valid Azure account with subscription \n",
    "* Make sure you have access to [Azure AI Studio](https://learn.microsoft.com/en-us/azure/ai-studio/what-is-ai-studio?tabs=home)\n",
    "* Create a project and resource group\n",
    "* Select `Cohere Rerank V3 (English)` or `Cohere Rerank V3 (multilingual)`.\n",
    "\n",
    "    > Notice that some models may not be available in all the regions in Azure AI and Azure Machine Learning. On those cases, you can create a workspace or project in the region where the models are available and then consume it with a connection from a different one. To learn more about using connections see [Consume models with connections](https://learn.microsoft.com/en-us/azure/ai-studio/how-to/deployments-connections)\n",
    "\n",
    "* Deploy with \"Pay-as-you-go\"\n",
    "\n",
    "Once deployed successfully, you should be assigned for an API endpoint and a security key for inference.\n",
    "\n",
    "For more information, you should consult Azure's official documentation [here](https://learn.microsoft.com/en-us/azure/ai-studio/how-to/deploy-models-cohere) for model deployment and inference.\n",
    "\n",
    "To complete this tutorial, you will need to:\n",
    "\n",
    "* Install `cohere`:\n",
    "\n",
    "    ```bash\n",
    "    pip install cohere\n",
    "    ```"
   ]
  },
  {
   "cell_type": "markdown",
   "metadata": {},
   "source": [
    "## Example\n",
    "\n",
    "The following is an example about how to use `cohere` with a Cohere Rerank model deployed in Azure AI and Azure ML:"
   ]
  },
  {
   "cell_type": "code",
   "execution_count": null,
   "metadata": {
    "name": "imports"
   },
   "outputs": [],
   "source": [
    "import cohere"
   ]
  },
  {
   "cell_type": "markdown",
   "metadata": {},
   "source": [
    "To use `cohere`, create a client and configure it as follows:\n",
    "\n",
    "- `endpoint`: Use the endpoint URL from your deployment. Include `/v1` at the end of the endpoint.\n",
    "- `api_key`: Use your API key."
   ]
  },
  {
   "cell_type": "code",
   "execution_count": null,
   "metadata": {
    "name": "chat_client"
   },
   "outputs": [],
   "source": [
    "co = cohere.ClientV2(\n",
    "    base_url=\"https://<endpoint>.<region>.inference.ai.azure.com/v1\", api_key=\"<key>\"\n",
    ")"
   ]
  },
  {
   "cell_type": "markdown",
   "metadata": {},
   "source": [
    "Use the client to create the requests:"
   ]
  },
  {
   "cell_type": "code",
   "execution_count": null,
   "metadata": {
    "name": "chat_invoke"
   },
   "outputs": [],
   "source": [
    "import yaml\n",
    "\n",
    "documents = [\n",
    "    {\n",
    "        \"Title\": \"Incorrect Password\",\n",
    "        \"Content\": \"Hello, I have been trying to access my account for the past hour and it keeps saying my password is incorrect. Can you please help me?\",\n",
    "    },\n",
    "    {\n",
    "        \"Title\": \"Confirmation Email Missed\",\n",
    "        \"Content\": \"Hi, I recently purchased a product from your website but I never received a confirmation email. Can you please look into this for me?\",\n",
    "    },\n",
    "    {\n",
    "        \"Title\": \"Questions about Return Policy\",\n",
    "        \"Content\": \"Hello, I have a question about the return policy for this product. I purchased it a few weeks ago and it is defective.\",\n",
    "    },\n",
    "    {\n",
    "        \"Title\": \"Customer Support is Busy\",\n",
    "        \"Content\": \"Good morning, I have been trying to reach your customer support team for the past week but I keep getting a busy signal. Can you please help me?\",\n",
    "    },\n",
    "    {\n",
    "        \"Title\": \"Received Wrong Item\",\n",
    "        \"Content\": \"Hi, I have a question about my recent order. I received the wrong item and I need to return it.\",\n",
    "    },\n",
    "    {\n",
    "        \"Title\": \"Customer Service is Unavailable\",\n",
    "        \"Content\": \"Hello, I have been trying to reach your customer support team for the past hour but I keep getting a busy signal. Can you please help me?\",\n",
    "    },\n",
    "    {\n",
    "        \"Title\": \"Return Policy for Defective Product\",\n",
    "        \"Content\": \"Hi, I have a question about the return policy for this product. I purchased it a few weeks ago and it is defective.\",\n",
    "    },\n",
    "    {\n",
    "        \"Title\": \"Wrong Item Received\",\n",
    "        \"Content\": \"Good morning, I have a question about my recent order. I received the wrong item and I need to return it.\",\n",
    "    },\n",
    "    {\n",
    "        \"Title\": \"Return Defective Product\",\n",
    "        \"Content\": \"Hello, I have a question about the return policy for this product. I purchased it a few weeks ago and it is defective.\",\n",
    "    },\n",
    "]\n",
    "\n",
    "response = co.rerank(\n",
    "    model=\"azureai\",\n",
    "    documents=[yaml.dump(doc, sort_keys=False) for doc in documents],\n",
    "    query=\"What emails have been about returning items?\",\n",
    "    top_n=5,\n",
    ")"
   ]
  },
  {
   "cell_type": "markdown",
   "metadata": {},
   "source": [
    "## Aditional resources\n",
    "\n",
    "Here are some additional reference:  \n",
    "\n",
    "* [Plan and manage costs (marketplace)](https://learn.microsoft.com/azure/ai-studio/how-to/costs-plan-manage#monitor-costs-for-models-offered-through-the-azure-marketplace)"
   ]
  }
 ],
 "metadata": {
  "kernelspec": {
   "display_name": "jupyter",
   "language": "python",
   "name": "python3"
  },
  "language_info": {
   "codemirror_mode": {
    "name": "ipython",
    "version": 3
   },
   "file_extension": ".py",
   "mimetype": "text/x-python",
   "name": "python",
   "nbconvert_exporter": "python",
   "pygments_lexer": "ipython3",
   "version": "3.11.8"
  }
 },
 "nbformat": 4,
 "nbformat_minor": 2
}
