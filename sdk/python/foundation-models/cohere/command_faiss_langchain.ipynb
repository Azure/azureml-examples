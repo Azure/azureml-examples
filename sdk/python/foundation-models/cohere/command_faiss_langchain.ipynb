{
 "cells": [
  {
   "cell_type": "markdown",
   "metadata": {},
   "source": [
    "# Use Cohere Command R/R+ to answer questions from data in local (FAISS) vector index - Langchain\n",
    "\n",
    "You can use Cohere Command R or Cohere Command R+ models deployed in Azure AI and Azure ML with `langchain` to create more sophisticated intelligent applications.\n",
    "\n",
    "> Review the [documentation](https://learn.microsoft.com/en-us/azure/ai-studio/how-to/deploy-models-cohere-command) for the Cohere family of models at for AI Studio and for ML Studio for details on how to provision inference endpoints, regional availability, pricing and inference schema reference."
   ]
  },
  {
   "cell_type": "markdown",
   "metadata": {},
   "source": [
    "## Prerequisites\n",
    "\n",
    "Before we start, there are certain steps we need to take to deploy the models:\n",
    "\n",
    "* Register for a valid Azure account with subscription \n",
    "* Make sure you have access to [Azure AI Studio](https://learn.microsoft.com/en-us/azure/ai-studio/what-is-ai-studio?tabs=home)\n",
    "* Create a project and resource group\n",
    "* Select `Cohere Command R` or `Cohere Command R+` and `Cohere-embed-v3-english` or `Cohere-embed-v3-multilingual`.\n",
    "* Deploy with \"Pay-as-you-go\"\n",
    "\n",
    "Once deployed successfully, you should be assigned for an API endpoint and a security key for inference."
   ]
  },
  {
   "cell_type": "markdown",
   "metadata": {},
   "source": [
    "### Install Dependencies\n",
    "\n",
    "The following example demonstrate how to create a Facebook AI Similarity Search (Faiss) that uses a Cohere Embed v3 - English and Cohere Embed v3 - Multilingual models deployed in Azure AI and Azure ML. The chain has been configured with a `CohereChat` and `CohereEmbeddings`. This example has been adapted from [LangChain official documentation](https://python.langchain.com/docs/integrations/chat/cohere/)."
   ]
  },
  {
   "cell_type": "code",
   "execution_count": null,
   "metadata": {},
   "outputs": [],
   "source": [
    "! pip install --quiet langchain langchain_cohere faiss-cpu"
   ]
  },
  {
   "cell_type": "code",
   "execution_count": null,
   "metadata": {},
   "outputs": [],
   "source": [
    "from langchain_cohere.chat_models import ChatCohere\n",
    "from langchain_cohere import CohereEmbeddings\n",
    "from langchain_core.documents.base import Document\n",
    "from langchain.vectorstores import FAISS\n",
    "from langchain.schema.runnable import RunnablePassthrough, RunnableLambda\n",
    "from langchain.schema.output_parser import StrOutputParser\n",
    "from langchain.prompts import ChatPromptTemplate\n",
    "from langchain.schema import HumanMessage"
   ]
  },
  {
   "cell_type": "markdown",
   "metadata": {},
   "source": [
    "## Constants\n",
    "We will set the values for the keys and models that we will use in our RAG pipeline"
   ]
  },
  {
   "cell_type": "markdown",
   "metadata": {},
   "source": [
    "Let's create instances of our Chat and Embed models deployed in Azure AI or Azure ML. Use the `langchain_cohere` package and configure it as follows:\n",
    "\n",
    "- `embed_endpoint` and `command_endpoint`: Use the endpoint URL from your deployment. Include `/v1` at the end of the endpoint URL."
   ]
  },
  {
   "cell_type": "code",
   "execution_count": null,
   "metadata": {},
   "outputs": [],
   "source": [
    "# Embed\n",
    "azure_cohere_embed_endpoint = \"https://<endpoint>.<region>.inference.ai.azure.com/v1\"\n",
    "azure_cohere_embed_key = \"<key>\"\n",
    "\n",
    "# Command\n",
    "azure_cohere_command_endpoint = \"https://<endpoint>.<region>.inference.ai.azure.com/v1\"\n",
    "azure_cohere_command_key = \"<key>\""
   ]
  },
  {
   "cell_type": "markdown",
   "metadata": {},
   "source": [
    "Prepare the data and format it for vectorstore FAISS"
   ]
  },
  {
   "cell_type": "code",
   "execution_count": null,
   "metadata": {},
   "outputs": [],
   "source": [
    "# Set up the embedding model to be used in the vector index\n",
    "embed_model = CohereEmbeddings(\n",
    "    base_url=azure_cohere_embed_endpoint, cohere_api_key=azure_cohere_embed_key\n",
    ")"
   ]
  },
  {
   "cell_type": "code",
   "execution_count": null,
   "metadata": {},
   "outputs": [],
   "source": [
    "project_descriptions = [\n",
    "    \"Project Alpha: Implementing a new CRM system to improve customer relationships.\",\n",
    "    \"Project Beta: Developing an AI-based forecasting tool for sales trends.\",\n",
    "    \"Project Gamma: Overhauling the company website for better user engagement.\",\n",
    "    \"Project Delta: Integrating blockchain technology for enhanced supply chain transparency.\",\n",
    "    \"Project Epsilon: Launching a cloud migration strategy to enhance data accessibility and security.\",\n",
    "    \"Project Zeta: Implementing machine learning algorithms to optimize inventory management systems.\",\n",
    "    \"Project Eta: Developing a mobile application to improve field service operations and customer reporting.\",\n",
    "    \"Project Theta: Upgrading cybersecurity measures to protect against emerging digital threats.\",\n",
    "    \"Project Iota: Creating a virtual reality training program to enhance employee skill sets and engagement.\",\n",
    "    \"Project Kappa: Automating financial processes using AI to increase efficiency and reduce errors.\",\n",
    "]\n",
    "\n",
    "project_docs = []\n",
    "for doc in project_descriptions:\n",
    "    project_docs.append(Document(page_content=doc, metadata={\"source\": \"local\"}))"
   ]
  },
  {
   "cell_type": "markdown",
   "metadata": {},
   "source": [
    "Ingest documents with Embed endpoint"
   ]
  },
  {
   "cell_type": "code",
   "execution_count": null,
   "metadata": {},
   "outputs": [],
   "source": [
    "# create the vector store using FAISS\n",
    "db = FAISS.from_documents(project_docs, embed_model)"
   ]
  },
  {
   "cell_type": "markdown",
   "metadata": {},
   "source": [
    "We can also convert the vectorstore into a Retriever class. This allows us to easily use it in other LangChain methods, which largely work with retrievers"
   ]
  },
  {
   "cell_type": "code",
   "execution_count": null,
   "metadata": {},
   "outputs": [],
   "source": [
    "retriever = db.as_retriever(search_kwargs={\"k\": 2})"
   ]
  },
  {
   "cell_type": "markdown",
   "metadata": {},
   "source": [
    "### Create our Chat function\n",
    "Next, we will create a basic chat function using the `ChatCohere` class\n",
    "\n",
    "Cohere's `chat endpoint` can accept documents directly and will return a grounded answer that includes citations against those documents.\n",
    "\n",
    "No prompt is needed since the `Cohere` model will automatically use a RAG prompt when documents are passed in.\n",
    "\n",
    "Because we are using `LangChain's expression language (LCEL)`, we will also wrap our function at the end with a `RunableLambda` function. Learn more about LCEL here: https://python.langchain.com/docs/expression_language/get_started/"
   ]
  },
  {
   "cell_type": "code",
   "execution_count": null,
   "metadata": {},
   "outputs": [],
   "source": [
    "def ask(inputs):\n",
    "    \"\"\"\n",
    "    Ask a question to the chatbot, expecting a dictionary with 'question' and 'documents'.\n",
    "\n",
    "    Args:\n",
    "        inputs (dict): A dictionary containing 'question' and 'documents'.\n",
    "\n",
    "    Returns:\n",
    "        str: The response from the chatbot.\n",
    "    \"\"\"\n",
    "    question = inputs[\"question\"]\n",
    "    documents = inputs[\"documents\"]\n",
    "\n",
    "    chatbot = ChatCohere(\n",
    "        base_url=azure_cohere_command_endpoint,\n",
    "        cohere_api_key=azure_cohere_command_key,\n",
    "    )\n",
    "\n",
    "    response = chatbot(messages=[HumanMessage(content=question)], documents=documents)\n",
    "    return response\n",
    "\n",
    "\n",
    "ask = RunnableLambda(ask)"
   ]
  },
  {
   "cell_type": "markdown",
   "metadata": {},
   "source": [
    "## Create the Chain\n",
    "We can now create the chain by chaining the retriever and the chat function together"
   ]
  },
  {
   "cell_type": "code",
   "execution_count": null,
   "metadata": {},
   "outputs": [],
   "source": [
    "# create the answer chain using our search function and chat function\n",
    "answer_chain = (\n",
    "    {\"documents\": retriever, \"question\": RunnablePassthrough()}\n",
    "    | ask\n",
    "    | StrOutputParser()\n",
    ")"
   ]
  },
  {
   "cell_type": "markdown",
   "metadata": {},
   "source": [
    "## Run our chain\n",
    "You can now run the full chain and see the response as an `AIMessage` object. This will contain the models answer along with citations from the documents retrieved from `FAISS`"
   ]
  },
  {
   "cell_type": "code",
   "execution_count": null,
   "metadata": {},
   "outputs": [],
   "source": [
    "answer_chain.invoke(\"What AI based projects do we have?\")"
   ]
  }
 ],
 "metadata": {
  "kernelspec": {
   "display_name": "rag-app",
   "language": "python",
   "name": "python3"
  },
  "language_info": {
   "codemirror_mode": {
    "name": "ipython",
    "version": 3
   },
   "file_extension": ".py",
   "mimetype": "text/x-python",
   "name": "python",
   "nbconvert_exporter": "python",
   "pygments_lexer": "ipython3",
   "version": "3.9.19"
  }
 },
 "nbformat": 4,
 "nbformat_minor": 2
}
