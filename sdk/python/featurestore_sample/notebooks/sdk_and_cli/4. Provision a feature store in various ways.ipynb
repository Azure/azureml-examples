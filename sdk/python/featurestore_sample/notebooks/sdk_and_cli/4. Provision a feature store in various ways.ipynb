{
  "cells": [
    {
      "attachments": {},
      "cell_type": "markdown",
      "source": [
        "# Tutorial #4: Provision a feature store in various ways"
      ],
      "metadata": {
        "nteract": {
          "transient": {
            "deleting": false
          }
        }
      }
    },
    {
      "attachments": {},
      "cell_type": "markdown",
      "source": [
        "In this tutorial you will use various approaches to provision a feature store.\n",
        "- Create a feature store using CLI/SDK\n",
        "  - Default experience of creating a feature store\n",
        "  - Create a feature store using provided storage as feature store default blob storage\n",
        "  - Create a feature store using provided storage as offline store\n",
        "  - Create a feature store using provided Redis cluster as online store\n",
        "  - Create a feature store using provided UAI as the managed identity used for feature store materialization job\n",
        "- Create a feature store using ARM template\n",
        "- Create a feature store using Bicep template\n"
      ],
      "metadata": {
        "nteract": {
          "transient": {
            "deleting": false
          }
        }
      }
    },
    {
      "attachments": {},
      "cell_type": "markdown",
      "source": [
        "## Prerequisites and Setup\n",
        "\n",
        "- Create a compute instance\n",
        "- Run this notebook using above created compute instance and choose `Python 3.8 - AzureML` kernel"
      ],
      "metadata": {
        "nteract": {
          "transient": {
            "deleting": false
          }
        }
      }
    },
    {
      "attachments": {},
      "cell_type": "markdown",
      "source": [
        "### Setup root directory for the samples"
      ],
      "metadata": {
        "nteract": {
          "transient": {
            "deleting": false
          }
        }
      }
    },
    {
      "cell_type": "code",
      "source": [
        "import os\n",
        "\n",
        "root_dir = \"../../\"\n",
        "\n",
        "if os.path.isdir(root_dir):\n",
        "    print(\"The folder exists.\")\n",
        "else:\n",
        "    print(\"The folder does not exist. Please create or fix the path\")"
      ],
      "outputs": [],
      "execution_count": null,
      "metadata": {
        "gather": {
          "logged": 1709574058821
        },
        "jupyter": {
          "outputs_hidden": false,
          "source_hidden": false
        },
        "name": "root-dir",
        "nteract": {
          "transient": {
            "deleting": false
          }
        }
      }
    },
    {
      "cell_type": "markdown",
      "source": [
        "### Setup resource top directory"
      ],
      "metadata": {
        "nteract": {
          "transient": {
            "deleting": false
          }
        }
      }
    },
    {
      "cell_type": "code",
      "source": [
        "subscription_id = \"your-subscription-id\"\n",
        "resource_group_name = \"your-resource-group-name\"\n",
        "location = \"eastus2\""
      ],
      "outputs": [],
      "execution_count": null,
      "metadata": {
        "gather": {
          "logged": 1709574505765
        },
        "jupyter": {
          "outputs_hidden": false,
          "source_hidden": false
        },
        "name": "set-default-subs-cli",
        "nteract": {
          "transient": {
            "deleting": false
          }
        }
      }
    },
    {
      "cell_type": "code",
      "source": [
        "from azure.ai.ml import MLClient\n",
        "from azure.ai.ml.entities import FeatureStore\n",
        "from azure.identity import DefaultAzureCredential\n",
        "\n",
        "ml_client = MLClient(\n",
        "    DefaultAzureCredential(),\n",
        "    subscription_id=subscription_id,\n",
        "    resource_group_name=resource_group_name,\n",
        ")"
      ],
      "outputs": [],
      "execution_count": null,
      "metadata": {
        "jupyter": {
          "source_hidden": false,
          "outputs_hidden": false
        },
        "nteract": {
          "transient": {
            "deleting": false
          }
        },
        "gather": {
          "logged": 1709574513724
        }
      }
    },
    {
      "attachments": {},
      "cell_type": "markdown",
      "source": [
        "#### Setup CLI\n",
        "\n",
        "1. Install AzureML CLI extention and azure-ai-ml package\n",
        "1. Authenticate\n",
        "1. Set the default subscription"
      ],
      "metadata": {
        "nteract": {
          "transient": {
            "deleting": false
          }
        }
      }
    },
    {
      "cell_type": "code",
      "source": [
        "!az extension add --name ml"
      ],
      "outputs": [],
      "execution_count": null,
      "metadata": {
        "jupyter": {
          "outputs_hidden": false,
          "source_hidden": false
        },
        "nteract": {
          "transient": {
            "deleting": false
          }
        }
      }
    },
    {
      "cell_type": "code",
      "source": [
        "!pip install azure-ai-ml"
      ],
      "outputs": [],
      "execution_count": null,
      "metadata": {
        "jupyter": {
          "source_hidden": false,
          "outputs_hidden": true
        },
        "nteract": {
          "transient": {
            "deleting": false
          }
        }
      }
    },
    {
      "cell_type": "code",
      "source": [
        "# Authenticate\n",
        "!az login"
      ],
      "outputs": [],
      "execution_count": null,
      "metadata": {
        "gather": {
          "logged": 1709574683156
        },
        "jupyter": {
          "outputs_hidden": true,
          "source_hidden": false
        },
        "name": "auth-cli",
        "nteract": {
          "transient": {
            "deleting": false
          }
        },
        "tags": []
      }
    },
    {
      "cell_type": "code",
      "source": [
        "!az account set -s $subscription_id"
      ],
      "outputs": [],
      "execution_count": null,
      "metadata": {
        "jupyter": {
          "source_hidden": false,
          "outputs_hidden": false
        },
        "nteract": {
          "transient": {
            "deleting": false
          }
        }
      }
    },
    {
      "attachments": {},
      "cell_type": "markdown",
      "source": [
        "## 1 Create a feature store using CLI/SDK\n",
        "### 1.1 Default feature store creation experience"
      ],
      "metadata": {
        "nteract": {
          "transient": {
            "deleting": false
          }
        }
      }
    },
    {
      "cell_type": "markdown",
      "source": [
        "With this default feature store provision experience, you will:\n",
        "\n",
        "- Provide the subscription id, resource group name and location where you want to provision your feature store.\n",
        "- Provide the feature store name.\n",
        "\n",
        "Then, the system will provision following resources:\n",
        "\n",
        "(1) provision a storage account with storage type as `Azure Data Lake Storage Gen2` that used as workspace default storage account\n",
        "\n",
        "(2) create a container in the above storage as offline store.\n",
        "\n",
        "(3) provision an user managed identity(UAI) used for feature store materialization job.\n",
        "\n",
        "(4) provision the RBAC of UAI to feature store and to offline store.\n",
        "\n",
        "    Below is the details RBAC permission the system helps to grant:\n",
        "\n",
        "|Scope|\tAction/Role|\n",
        "|--|--|\n",
        "|Feature store | `AzureML Data Scientist` role|\n",
        "|Container as feature store offline store | `Storage Blob Data Contributor` role|\n",
        "|Storage account as workspace default storage account\t|`Storage Blob Data Contributor` role|\n",
        "\n",
        "(5) create an offline store connection to the feature store workspace\n",
        "\n",
        "(6) provision other resources for workspace including keyvault etc."
      ],
      "metadata": {
        "nteract": {
          "transient": {
            "deleting": false
          }
        }
      }
    },
    {
      "cell_type": "code",
      "source": [
        "featurestore_name = \"myfs-sdk\"\n",
        "\n",
        "fs = FeatureStore(\n",
        "    name=featurestore_name,\n",
        "    location=location,\n",
        ")\n",
        "\n",
        "# wait for feature store creation\n",
        "fs_poller = ml_client.feature_stores.begin_create(fs)\n",
        "\n",
        "print(fs_poller.result())"
      ],
      "outputs": [],
      "execution_count": null,
      "metadata": {
        "jupyter": {
          "source_hidden": false,
          "outputs_hidden": false
        },
        "nteract": {
          "transient": {
            "deleting": false
          }
        },
        "gather": {
          "logged": 1709342925263
        }
      }
    },
    {
      "cell_type": "markdown",
      "source": [
        "Alternatively, you can dump the feature store configuration to an Yaml file and provision the feature store using CLI."
      ],
      "metadata": {
        "nteract": {
          "transient": {
            "deleting": false
          }
        }
      }
    },
    {
      "cell_type": "code",
      "source": [
        "featurestore_name = \"myfs-cli\"\n",
        "\n",
        "yaml_path = root_dir + \"/featurestore/featurestore_default.yaml\"\n",
        "fs.dump(yaml_path)\n",
        "\n",
        "!az ml feature-store create --name $featurestore_name --subscription $subscription_id --resource-group $resource_group_name --file $yaml_path"
      ],
      "outputs": [],
      "execution_count": null,
      "metadata": {
        "jupyter": {
          "outputs_hidden": false,
          "source_hidden": false
        },
        "nteract": {
          "transient": {
            "deleting": false
          }
        },
        "gather": {
          "logged": 1709332247454
        }
      }
    },
    {
      "cell_type": "markdown",
      "source": [
        "### 1.2 Create a feature store with provided storage as workspace default storage"
      ],
      "metadata": {
        "nteract": {
          "transient": {
            "deleting": false
          }
        }
      }
    },
    {
      "cell_type": "markdown",
      "source": [
        "Create a storage account that will be used as workspace default storage account"
      ],
      "metadata": {
        "nteract": {
          "transient": {
            "deleting": false
          }
        }
      }
    },
    {
      "cell_type": "code",
      "source": [
        "featurestore_name = \"myfswithblob\""
      ],
      "outputs": [],
      "execution_count": null,
      "metadata": {
        "jupyter": {
          "source_hidden": false,
          "outputs_hidden": false
        },
        "nteract": {
          "transient": {
            "deleting": false
          }
        },
        "gather": {
          "logged": 1709332540884
        }
      }
    },
    {
      "cell_type": "code",
      "source": [
        "storage_account_name = featurestore_name + \"storage1\"\n",
        "!az storage account create --name $storage_account_name --enable-hierarchical-namespace true --resource-group $resource_group_name --location $location --subscription $subscription_id"
      ],
      "outputs": [],
      "execution_count": null,
      "metadata": {
        "jupyter": {
          "source_hidden": false,
          "outputs_hidden": true
        },
        "nteract": {
          "transient": {
            "deleting": false
          }
        },
        "gather": {
          "logged": 1709332567956
        }
      }
    },
    {
      "cell_type": "code",
      "source": [
        "# Specify storage account\n",
        "storage_account = f\"/subscriptions/{subscription_id}/resourceGroups/{resource_group_name}/providers/Microsoft.Storage/storageAccounts/{storage_account_name}\"\n",
        "\n",
        "fs = FeatureStore(\n",
        "    name=featurestore_name,\n",
        "    location=location,\n",
        "    storage_account=storage_account,\n",
        ")\n",
        "\n",
        "# wait for feature store creation\n",
        "fs_poller = ml_client.feature_stores.begin_create(fs)\n",
        "print(fs_poller.result())"
      ],
      "outputs": [],
      "execution_count": null,
      "metadata": {
        "jupyter": {
          "source_hidden": false,
          "outputs_hidden": true
        },
        "nteract": {
          "transient": {
            "deleting": false
          }
        },
        "gather": {
          "logged": 1709332692481
        }
      }
    },
    {
      "cell_type": "markdown",
      "source": [
        "Alternatively, you can dump the feature store configuration to an Yaml file and use CLI to provision it."
      ],
      "metadata": {
        "nteract": {
          "transient": {
            "deleting": false
          }
        }
      }
    },
    {
      "cell_type": "code",
      "source": [
        "yaml_path = root_dir + \"/featurestore/featurestore_with_blob.yaml\"\n",
        "fs.dump(yaml_path)\n",
        "\n",
        "featurestore_name = \"myfswithblobcli\"\n",
        "\n",
        "!az ml feature-store create --name $featurestore_name --subscription $subscription_id --resource-group $resource_group_name --file $yaml_path"
      ],
      "outputs": [],
      "execution_count": null,
      "metadata": {
        "jupyter": {
          "source_hidden": false,
          "outputs_hidden": true
        },
        "nteract": {
          "transient": {
            "deleting": false
          }
        },
        "gather": {
          "logged": 1709333189168
        }
      }
    },
    {
      "cell_type": "markdown",
      "source": [
        "### 1.3 Create a feature store with provided storage as the offline store\n",
        "User can bring your own storage as the offline store storage for feature store."
      ],
      "metadata": {
        "nteract": {
          "transient": {
            "deleting": false
          }
        }
      }
    },
    {
      "cell_type": "code",
      "source": [
        "featurestore_name = \"myfswithoffline\""
      ],
      "outputs": [],
      "execution_count": null,
      "metadata": {
        "jupyter": {
          "source_hidden": false,
          "outputs_hidden": false
        },
        "nteract": {
          "transient": {
            "deleting": false
          }
        },
        "gather": {
          "logged": 1709341273537
        }
      }
    },
    {
      "cell_type": "code",
      "source": [
        "offline_storage_account_name = featurestore_name + \"offline1\"\n",
        "\n",
        "!az storage account create --name $offline_storage_account_name --enable-hierarchical-namespace true --resource-group $resource_group_name --location $location --subscription $subscription_id"
      ],
      "outputs": [],
      "execution_count": null,
      "metadata": {
        "jupyter": {
          "source_hidden": false,
          "outputs_hidden": true
        },
        "nteract": {
          "transient": {
            "deleting": false
          }
        },
        "gather": {
          "logged": 1709341339078
        }
      }
    },
    {
      "cell_type": "code",
      "source": [
        "offline_store_container_name = \"offlinestore\"\n",
        "connection_string = \"your connection string to your storage\"\n",
        "\n",
        "!az storage fs create --name $offline_store_container_name --account-name $offline_storage_account_name --subscription $subscription_id --connection-string f\"{connection_string}\""
      ],
      "outputs": [],
      "execution_count": null,
      "metadata": {
        "jupyter": {
          "source_hidden": false,
          "outputs_hidden": false
        },
        "nteract": {
          "transient": {
            "deleting": false
          }
        },
        "gather": {
          "logged": 1709341958846
        }
      }
    },
    {
      "cell_type": "code",
      "source": [
        "from azure.ai.ml.entities import MaterializationStore\n",
        "\n",
        "gen2_container_arm_id = f\"/subscriptions/{subscription_id}/resourceGroups/{resource_group_name}/providers/Microsoft.Storage/storageAccounts/{offline_storage_account_name}/blobServices/default/containers/{offline_store_container_name}\"\n",
        "\n",
        "offline_store = MaterializationStore(\n",
        "    type=\"azure_data_lake_gen2\", target=gen2_container_arm_id\n",
        ")\n",
        "\n",
        "fs = FeatureStore(\n",
        "    name=featurestore_name,\n",
        "    location=location,\n",
        "    offline_store=offline_store\n",
        ")\n",
        "# wait for feature store creation\n",
        "fs_poller = ml_client.feature_stores.begin_create(fs)\n",
        "print(fs_poller.result())"
      ],
      "outputs": [],
      "execution_count": null,
      "metadata": {
        "jupyter": {
          "source_hidden": false,
          "outputs_hidden": true
        },
        "nteract": {
          "transient": {
            "deleting": false
          }
        },
        "gather": {
          "logged": 1709341909314
        }
      }
    },
    {
      "cell_type": "markdown",
      "source": [
        "Alternatively, you can dump the feature store configuration to an Yaml file and use CLI to provision it."
      ],
      "metadata": {
        "nteract": {
          "transient": {
            "deleting": false
          }
        }
      }
    },
    {
      "cell_type": "code",
      "source": [
        "yaml_path = root_dir + \"/featurestore/featurestore_with_offline.yaml\"\n",
        "fs.dump(yaml_path)\n",
        "\n",
        "featurestore_name = \"myfswithofflinecli\"\n",
        "\n",
        "!az ml feature-store create --name $featurestore_name --subscription $subscription_id --resource-group $resource_group_name --file $yaml_path"
      ],
      "outputs": [],
      "execution_count": null,
      "metadata": {
        "jupyter": {
          "source_hidden": false,
          "outputs_hidden": true
        },
        "nteract": {
          "transient": {
            "deleting": false
          }
        },
        "gather": {
          "logged": 1709342116283
        }
      }
    },
    {
      "cell_type": "markdown",
      "source": [
        "### 1.4 Create a new Redis instance as online store"
      ],
      "metadata": {
        "nteract": {
          "transient": {
            "deleting": false
          }
        }
      }
    },
    {
      "cell_type": "markdown",
      "source": [
        "In the following code cell, define the name of the Azure Cache for Redis that you want to create or reuse. Optionally, you can override other default settings."
      ],
      "metadata": {
        "nteract": {
          "transient": {
            "deleting": false
          }
        }
      }
    },
    {
      "cell_type": "code",
      "source": [
        "redis_name = \"your-redis-cluster-name\"\n",
        "sku = \"premium\"\n",
        "size = \"P2\""
      ],
      "outputs": [],
      "execution_count": null,
      "metadata": {
        "gather": {
          "logged": 1709334902642
        },
        "jupyter": {
          "outputs_hidden": false,
          "source_hidden": false
        },
        "nteract": {
          "transient": {
            "deleting": false
          }
        }
      }
    },
    {
      "cell_type": "markdown",
      "source": [
        "You can select the Redis cache tier (basic, standard, premium, or enterprise). You should choose a SKU family that is available for the selected cache tier. See this documentation page to learn more about [how selecting different tiers may affect cache performance](https://learn.microsoft.com/azure/azure-cache-for-redis/cache-best-practices-performance). See this link learn more about [pricing for different SKU tiers and families of Azure Cache for Redis](https://azure.microsoft.com/en-us/pricing/details/cache/).\n",
        "\n",
        "Execute the following code cell to create an Azure Cache for Redis with premium tier, SKU family P and cache capacity 2. It may take approximately 5-10 minutes to provision the Redis instance."
      ],
      "metadata": {
        "nteract": {
          "transient": {
            "deleting": false
          }
        }
      }
    },
    {
      "cell_type": "code",
      "source": [
        "!az redis create --name $redis_name --resource-group $resource_group_name --location $location --sku $sku --vm-size $size"
      ],
      "outputs": [],
      "execution_count": null,
      "metadata": {
        "jupyter": {
          "outputs_hidden": true,
          "source_hidden": false
        },
        "nteract": {
          "transient": {
            "deleting": false
          }
        }
      }
    },
    {
      "cell_type": "code",
      "source": [
        "featurestore_name = \"myfs-redis\""
      ],
      "outputs": [],
      "execution_count": null,
      "metadata": {
        "jupyter": {
          "source_hidden": false,
          "outputs_hidden": false
        },
        "nteract": {
          "transient": {
            "deleting": false
          }
        },
        "gather": {
          "logged": 1709334916760
        }
      }
    },
    {
      "cell_type": "code",
      "source": [
        "# Specify online store\n",
        "redis_arm_id = f\"/subscriptions/{subscription_id}/resourceGroups/{resource_group_name}/providers/Microsoft.Cache/Redis/{redis_name}\"\n",
        "online_store = MaterializationStore(type=\"redis\", target=redis_arm_id)\n",
        "\n",
        "fs = FeatureStore(\n",
        "    name=featurestore_name,\n",
        "    location=location,\n",
        "    online_store=online_store,\n",
        ")\n",
        "\n",
        "# wait for feature store creation\n",
        "fs_poller = ml_client.feature_stores.begin_create(fs)\n",
        "print(fs_poller.result())"
      ],
      "outputs": [],
      "execution_count": null,
      "metadata": {
        "jupyter": {
          "source_hidden": false,
          "outputs_hidden": true
        },
        "nteract": {
          "transient": {
            "deleting": false
          }
        },
        "gather": {
          "logged": 1709335878216
        }
      }
    },
    {
      "cell_type": "markdown",
      "source": [
        "Alternatively, you can dump the feature store configuration to an Yaml file and use CLI to provision it."
      ],
      "metadata": {
        "nteract": {
          "transient": {
            "deleting": false
          }
        }
      }
    },
    {
      "cell_type": "code",
      "source": [
        "yaml_path = root_dir + \"/featurestore/featurestore_with_online.yaml\"\n",
        "fs.dump(yaml_path)\n",
        "\n",
        "featurestore_name = \"myfs-redis-cli\"\n",
        "\n",
        "!az ml feature-store create --name $featurestore_name --subscription $subscription_id --resource-group $resource_group_name --file $yaml_path"
      ],
      "outputs": [],
      "execution_count": null,
      "metadata": {
        "jupyter": {
          "source_hidden": false,
          "outputs_hidden": true
        },
        "nteract": {
          "transient": {
            "deleting": false
          }
        },
        "gather": {
          "logged": 1709336126566
        }
      }
    },
    {
      "cell_type": "markdown",
      "source": [
        "### 1.5 Create a feature store using provided UAI\n",
        "\n",
        "In the following code cell, provide a name for the user-assigned managed identity that you would like to create."
      ],
      "metadata": {
        "nteract": {
          "transient": {
            "deleting": false
          }
        }
      }
    },
    {
      "cell_type": "code",
      "source": [
        "uai_name = \"myfsuai\""
      ],
      "outputs": [],
      "execution_count": null,
      "metadata": {
        "gather": {
          "logged": 1709336353098
        },
        "jupyter": {
          "outputs_hidden": false,
          "source_hidden": false
        },
        "nteract": {
          "transient": {
            "deleting": false
          }
        }
      }
    },
    {
      "cell_type": "markdown",
      "source": [
        "Execute the following cell to create the UAI."
      ],
      "metadata": {
        "nteract": {
          "transient": {
            "deleting": false
          }
        }
      }
    },
    {
      "cell_type": "code",
      "source": [
        "!az identity create --subscription $subscription_id --resource-group $resource_group_name --location $location --name $uai_name"
      ],
      "outputs": [],
      "execution_count": null,
      "metadata": {
        "jupyter": {
          "outputs_hidden": true,
          "source_hidden": false
        },
        "nteract": {
          "transient": {
            "deleting": false
          }
        }
      }
    },
    {
      "cell_type": "markdown",
      "source": [
        "##### Retrieve UAI properties\n",
        "The following code retrieves principal ID, client ID, and ARM ID property values for the created UAI."
      ],
      "metadata": {
        "nteract": {
          "transient": {
            "deleting": false
          }
        }
      }
    },
    {
      "cell_type": "code",
      "source": [
        "from azure.mgmt.msi import ManagedServiceIdentityClient\n",
        "from azure.identity import DefaultAzureCredential\n",
        "\n",
        "msi_client = ManagedServiceIdentityClient(\n",
        "    DefaultAzureCredential(), subscription_id\n",
        ")\n",
        "managed_identity = msi_client.user_assigned_identities.get(\n",
        "    resource_name=uai_name, resource_group_name=resource_group_name\n",
        ")\n",
        "\n",
        "uai_principal_id = managed_identity.principal_id\n",
        "uai_client_id = managed_identity.client_id\n",
        "uai_arm_id = f\"/subscriptions/{subscription_id}/resourceGroups/{resource_group_name}/providers/Microsoft.ManagedIdentity/userAssignedIdentities/{uai_name}\""
      ],
      "outputs": [],
      "execution_count": null,
      "metadata": {
        "gather": {
          "logged": 1709337629404
        },
        "jupyter": {
          "outputs_hidden": false,
          "source_hidden": false
        },
        "nteract": {
          "transient": {
            "deleting": false
          }
        }
      }
    },
    {
      "cell_type": "code",
      "source": [
        "from azure.ai.ml.entities import ManagedIdentityConfiguration\n",
        "\n",
        "featurestore_name = \"myfs-uai\"\n",
        "\n",
        "materialization_identity = ManagedIdentityConfiguration(\n",
        "    client_id=uai_client_id,\n",
        "    principal_id=uai_principal_id,\n",
        "    resource_id=uai_arm_id\n",
        ")\n",
        "\n",
        "fs = FeatureStore(\n",
        "    name=featurestore_name,\n",
        "    location=location,\n",
        "    materialization_identity=materialization_identity,\n",
        ")\n",
        "\n",
        "# wait for feature store creation\n",
        "fs_poller = ml_client.feature_stores.begin_create(fs)\n",
        "print(fs_poller.result())"
      ],
      "outputs": [],
      "execution_count": null,
      "metadata": {
        "jupyter": {
          "source_hidden": false,
          "outputs_hidden": true
        },
        "nteract": {
          "transient": {
            "deleting": false
          }
        },
        "gather": {
          "logged": 1709339847180
        }
      }
    },
    {
      "cell_type": "markdown",
      "source": [
        "Alternatively, you can dump the feature store configuration to an Yaml file and use CLI to provision it."
      ],
      "metadata": {
        "nteract": {
          "transient": {
            "deleting": false
          }
        }
      }
    },
    {
      "cell_type": "code",
      "source": [
        "yaml_path = root_dir + \"/featurestore/featurestore_with_uai.yaml\"\n",
        "fs.dump(yaml_path)\n",
        "\n",
        "featurestore_name = \"myfs-uai-cli\"\n",
        "\n",
        "!az ml feature-store create --name $featurestore_name --subscription $subscription_id --resource-group $resource_group_name --file $yaml_path"
      ],
      "outputs": [],
      "execution_count": null,
      "metadata": {
        "jupyter": {
          "source_hidden": false,
          "outputs_hidden": true
        },
        "nteract": {
          "transient": {
            "deleting": false
          }
        },
        "gather": {
          "logged": 1709339986498
        }
      }
    },
    {
      "cell_type": "markdown",
      "source": [
        "## 2 Create a feature store using ARM template\n",
        "\n",
        "Provision a feature store is a complicated process as we provision several resources. We recommend you provision a feature store using CLI/SDK with configuration fits your scenario as described above, then download the deployment template, update the parameters, and deploy the ARM template directly.\n",
        "\n",
        "- Provision a feature store, my-featurestore, using CLI.\n",
        "- The CLI command will output the deployment url, and the deployment is named as my-featurestore-xxxxxxx. Click on the deployment link.\n",
        "- From the deployment link page, click on the `Template` tab from the left panel.\n",
        "- From the `Template` page, click on the `Download` button from the top menu.\n",
        "- You will get two Json files, `template.json` and `parameters.json`.\n",
        "- Update the `parameters.json` file with appropriate parameter values.\n",
        "- Run this command to deploy: `az deployment group create --name {your-deployment-name} --resource-group {your-resource-group} --template-file template.json --parameters parameters.json`\n",
        "- Run this command to check deployment status: `az deployment group show --name {your-deployment-name}`"
      ],
      "metadata": {
        "nteract": {
          "transient": {
            "deleting": false
          }
        }
      }
    },
    {
      "cell_type": "markdown",
      "source": [
        "Under `featurestore/arm-template` folder, you will find an example ARM template. This is the template generated by provisioning a default feature store. We go through the `parameters.json` file to explain the parameters for several resources that is important to feature store. "
      ],
      "metadata": {
        "nteract": {
          "transient": {
            "deleting": false
          }
        }
      }
    },
    {
      "cell_type": "markdown",
      "source": [
        "### 2.1 Feature store section\n",
        "\n",
        "This section describes feature store name, resource group, location. Please update this section for your feature store. Note, feature store is a `featurestore` kind of workspace.\n",
        "```json\n",
        "\"parameters\": {\n",
        "        \"workspaceName\": {\n",
        "            \"value\": \"my-featurestore\"\n",
        "        },\n",
        "        \"description\": {\n",
        "            \"value\": \"my-featurestore\"\n",
        "        },\n",
        "        \"friendlyName\": {\n",
        "            \"value\": \"my-featurestore\"\n",
        "        },\n",
        "        \"kind\": {\n",
        "            \"value\": \"featurestore\"\n",
        "        },\n",
        "        \"location\": {\n",
        "            \"value\": \"eastus2\"\n",
        "        },\n",
        "        \"resourceGroupName\": {\n",
        "            \"value\": \"my-resource-group\"\n",
        "        }\n",
        "}\n",
        "```"
      ],
      "metadata": {
        "nteract": {
          "transient": {
            "deleting": false
          }
        }
      }
    },
    {
      "cell_type": "markdown",
      "source": [
        "### 2.2 Default storage Section\n",
        "\n",
        "This section describes the default blob storage used for the feature store workspace. Note, the `storageAccountOption` value is `new`, which means the system will provision a new storage with the name and resource group etc. provided. You can also use an existing storage. In this case, you need to set `storageAccountOption` to `existing`, and provide the storage name and resource group.\n",
        "\n",
        "```json\n",
        "\"parameters\": {\n",
        "        \"storageAccountOption\": {\n",
        "            \"value\": \"new\"\n",
        "        },\n",
        "        \"storageAccountName\": {\n",
        "            \"value\": \"myfeaturestorestorage4116d3e469\"\n",
        "        },\n",
        "        \"storageAccountType\": {\n",
        "            \"value\": \"Standard_LRS\"\n",
        "        },\n",
        "        \"storageAccountBehindVNet\": {\n",
        "            \"value\": \"false\"\n",
        "        },\n",
        "        \"storageAccountResourceGroupName\": {\n",
        "            \"value\": \"my-resource-group\"\n",
        "        },\n",
        "        \"storageAccountLocation\": {\n",
        "            \"value\": \"eastus2\"\n",
        "        }\n",
        "}\n",
        "```"
      ],
      "metadata": {
        "nteract": {
          "transient": {
            "deleting": false
          }
        }
      }
    },
    {
      "cell_type": "markdown",
      "source": [
        "### 2.3 Key vault section\n",
        "\n",
        "System will provision a new key vault, and the name is usually `feature store name + keyvault + random string`. Note, the `KeyVaultName` cannot have any special characters.\n",
        "```json\n",
        "\"parameters\": {\n",
        "        \"keyVaultOption\": {\n",
        "            \"value\": \"new\"\n",
        "        },\n",
        "        \"keyVaultName\": {\n",
        "            \"value\": \"myfeaturestorekeyvaultf7a63f0f7\"\n",
        "        },\n",
        "        \"keyVaultBehindVNet\": {\n",
        "            \"value\": \"false\"\n",
        "        },\n",
        "        \"keyVaultResourceGroupName\": {\n",
        "            \"value\": \"my-resource-group\"\n",
        "        },\n",
        "        \"keyVaultLocation\": {\n",
        "            \"value\": \"eastus2\"\n",
        "        }\n",
        "}\n",
        "```"
      ],
      "metadata": {
        "nteract": {
          "transient": {
            "deleting": false
          }
        }
      }
    },
    {
      "cell_type": "markdown",
      "source": [
        "### 2.4 Application Insight section\n",
        "System will provision a new Application Insight for this feature store. You can replace `myfeaturestore` to any name you like, and add some random string for the resource name.\n",
        "\n",
        "```json\n",
        "\"parameters\": {\n",
        "        \"applicationInsightsOption\": {\n",
        "            \"value\": \"new\"\n",
        "        },\n",
        "        \"logAnalyticsName\": {\n",
        "            \"value\": \"myfeaturestorelogalyti09a8f09c8\"\n",
        "        },\n",
        "        \"logAnalyticsArmId\": {\n",
        "            \"value\": \"/subscriptions/my-subscription-id/resourceGroups/my-resource-group/providers/Microsoft.OperationalInsights/workspaces/myfeaturestorelogalyti09a8f09c8\"\n",
        "        },\n",
        "        \"applicationInsightsName\": {\n",
        "            \"value\": \"myfeaturestoreinsights4684a3029\"\n",
        "        },\n",
        "        \"applicationInsightsResourceGroupName\": {\n",
        "            \"value\": \"my-resource-group\"\n",
        "        },\n",
        "        \"applicationInsightsLocation\": {\n",
        "            \"value\": \"eastus2\"\n",
        "        }\n",
        "}\n",
        "```\n"
      ],
      "metadata": {
        "nteract": {
          "transient": {
            "deleting": false
          }
        }
      }
    },
    {
      "cell_type": "markdown",
      "source": [
        "### 2.5 Offline store section\n",
        "\n",
        "In this example, the `offline_store_storage_account_name` is same as the one for default blob storage. The system will create a container named `myfeaturestorecontaine8ebdffb55` inside this storage to use as the offline store. You will also need to update the `offline_store_connection_name` with a random string at the end for connection name.\n",
        "\n",
        "\n",
        "```json\n",
        "\"parameters\": {\n",
        "        \"offlineStoreStorageAccountOption\": {\n",
        "            \"value\": \"new\"\n",
        "        },\n",
        "        \"offline_store_storage_account_name\": {\n",
        "            \"value\": \"myfeaturestorestorage4116d3e469\"\n",
        "        },\n",
        "        \"offline_store_container_name\": {\n",
        "            \"value\": \"myfeaturestorecontaine8ebdffb55\"\n",
        "        },\n",
        "        \"offline_store_resource_group_name\": {\n",
        "            \"value\": \"my-resource-group\"\n",
        "        },\n",
        "        \"offline_store_subscription_id\": {\n",
        "            \"value\": \"my-subscription-id\"\n",
        "        },\n",
        "        \"offline_store_connection_name\": {\n",
        "            \"value\": \"OfflineStoreConnectionName-b4bb8712\"\n",
        "        }\n",
        "}\n",
        "```"
      ],
      "metadata": {
        "nteract": {
          "transient": {
            "deleting": false
          }
        }
      }
    },
    {
      "cell_type": "markdown",
      "source": [
        "### 2.6 Managed identity section\n",
        "\n",
        "System will provision a user managed identity to be used for feature store materialization job. You can choose to grant this identity neccessary permission to feature store and offline store by setting `grant_materialization_permissions` to `true`.\n",
        "\n",
        "```json\n",
        "\"parameters\": {\n",
        "        \"materializationIdentityOption\": {\n",
        "            \"value\": \"new\"\n",
        "        },\n",
        "        \"materialization_identity_name\": {\n",
        "            \"value\": \"materialization-uai-dbebceefeb2c331aab47f9c1a4716666\"\n",
        "        },\n",
        "        \"materialization_identity_subscription_id\": {\n",
        "            \"value\": \"my-subscription-id\"\n",
        "        },\n",
        "        \"materialization_identity_resource_group_name\": {\n",
        "            \"value\": \"my-resource-group\"\n",
        "        },\n",
        "        \"grant_materialization_permissions\": {\n",
        "            \"value\": \"true\"\n",
        "        }\n",
        "}\n",
        "```"
      ],
      "metadata": {
        "nteract": {
          "transient": {
            "deleting": false
          }
        }
      }
    },
    {
      "cell_type": "markdown",
      "source": [
        "### 2.7 Online store section\n",
        "\n",
        "If you want to configure an online store, you can provide the Redis cluster information as follows. This example assumes you have a Redis cluster named `my-redis-name`.\n",
        "\n",
        "```json\n",
        "\"parameters\": {\n",
        "        \"online_store_resource_id\": {\n",
        "            \"value\": \"/subscriptions/my-subscription-id/resourceGroups/my-resource-group/providers/Microsoft.Cache/Redis/my-redis-name\"\n",
        "        },\n",
        "        \"online_store_resource_group_name\": {\n",
        "            \"value\": \"my-resource-group\"\n",
        "        },\n",
        "        \"online_store_subscription_id\": {\n",
        "            \"value\": \"my-subscription-id\"\n",
        "        },\n",
        "        \"online_store_connection_name\": {\n",
        "            \"value\": \"OnlineStoreConnectionName-42ace817\"\n",
        "        }\n",
        "}\n",
        "```"
      ],
      "metadata": {
        "nteract": {
          "transient": {
            "deleting": false
          }
        }
      }
    },
    {
      "cell_type": "markdown",
      "source": [
        "### 2.7 Feature store spark section\n",
        "\n",
        "This section is specific to feature store workspace.\n",
        "\n",
        "```json\n",
        "\"parameters\": {\n",
        "        \"spark_runtime_version\": {\n",
        "            \"value\": \"3.2.0\"\n",
        "        }\n",
        "}\n",
        "```"
      ],
      "metadata": {
        "nteract": {
          "transient": {
            "deleting": false
          }
        }
      }
    },
    {
      "cell_type": "markdown",
      "source": [
        "### 2.8 Default storage vs offline store storage\n",
        "\n",
        "Feature store workspace has a default storage, which will hold your artifacts such as models and logs etc. Feature store workspace also has an offline storage which hold feature values. You can share the storage. As in above example, the default feature store provision experience is the system create a new data lake gen2 storage which is used as the default blob storage. In addition, the system will create a container to hold feature values.\n",
        "\n",
        "If you choose to provide an existing storage as the default blob storage for feature store, the system will create a new data lake gen2 storage and a container to be used as the offline store.\n",
        "\n",
        "If you choose to provide an existing data lake gen2 container as the offline store, the system will create a new storage for use as the default storage (unless you also provide an existing storage for it).\n"
      ],
      "metadata": {
        "nteract": {
          "transient": {
            "deleting": false
          }
        }
      }
    },
    {
      "cell_type": "markdown",
      "source": [
        "#### 2.8.1 User provide an existing storage as the default blob storage\n",
        "\n",
        "```json\n",
        "\"parameters\": {\n",
        "        \"storageAccountOption\": {\n",
        "            \"value\": \"existing\"\n",
        "        },\n",
        "        \"storageAccountName\": {\n",
        "            \"value\": \"myexistingstorage4116d3e469\"\n",
        "        },\n",
        "        \"storageAccountType\": {\n",
        "            \"value\": \"Standard_LRS\"\n",
        "        },\n",
        "        \"storageAccountBehindVNet\": {\n",
        "            \"value\": \"false\"\n",
        "        },\n",
        "        \"storageAccountResourceGroupName\": {\n",
        "            \"value\": \"my-resource-group\"\n",
        "        },\n",
        "        \"storageAccountLocation\": {\n",
        "            \"value\": \"eastus2\"\n",
        "        },\n",
        "        \"offlineStoreStorageAccountOption\": {\n",
        "            \"value\": \"new\"\n",
        "        },\n",
        "        \"offline_store_storage_account_name\": {\n",
        "            \"value\": \"myfeaturestorestorage4116d3e469\"\n",
        "        },\n",
        "        \"offline_store_container_name\": {\n",
        "            \"value\": \"myfeaturestorecontaine8ebdffb55\"\n",
        "        },\n",
        "        \"offline_store_resource_group_name\": {\n",
        "            \"value\": \"my-resource-group\"\n",
        "        },\n",
        "        \"offline_store_subscription_id\": {\n",
        "            \"value\": \"my-subscription-id\"\n",
        "        },\n",
        "        \"offline_store_connection_name\": {\n",
        "            \"value\": \"OfflineStoreConnectionName-b4bb8712\"\n",
        "        }\n",
        "}\n",
        "```"
      ],
      "metadata": {
        "nteract": {
          "transient": {
            "deleting": false
          }
        }
      }
    },
    {
      "cell_type": "markdown",
      "source": [
        "#### 2.8.2 User provide an existing storage container as offline store\n",
        "\n",
        "```json\n",
        "\"parameters\": {\n",
        "        \"storageAccountOption\": {\n",
        "            \"value\": \"new\"\n",
        "        },\n",
        "        \"storageAccountName\": {\n",
        "            \"value\": \"myfeaturestorestorage4116d3e469\"\n",
        "        },\n",
        "        \"storageAccountType\": {\n",
        "            \"value\": \"Standard_LRS\"\n",
        "        },\n",
        "        \"storageAccountBehindVNet\": {\n",
        "            \"value\": \"false\"\n",
        "        },\n",
        "        \"storageAccountResourceGroupName\": {\n",
        "            \"value\": \"my-resource-group\"\n",
        "        },\n",
        "        \"storageAccountLocation\": {\n",
        "            \"value\": \"eastus2\"\n",
        "        },\n",
        "        \"offlineStoreStorageAccountOption\": {\n",
        "            \"value\": \"existing\"\n",
        "        },\n",
        "        \"offline_store_storage_account_name\": {\n",
        "            \"value\": \"myexistingstorage4116d3e469\"\n",
        "        },\n",
        "        \"offline_store_container_name\": {\n",
        "            \"value\": \"myexistingcontaine8ebdffb55\"\n",
        "        },\n",
        "        \"offline_store_resource_group_name\": {\n",
        "            \"value\": \"my-resource-group\"\n",
        "        },\n",
        "        \"offline_store_subscription_id\": {\n",
        "            \"value\": \"my-subscription-id\"\n",
        "        },\n",
        "        \"offline_store_connection_name\": {\n",
        "            \"value\": \"OfflineStoreConnectionName-b4bb8712\"\n",
        "        }\n",
        "}\n",
        "```"
      ],
      "metadata": {
        "nteract": {
          "transient": {
            "deleting": false
          }
        }
      }
    },
    {
      "cell_type": "markdown",
      "source": [
        "#### 2.8.3 User provide an existing storage for default blob storage and container for offline store respectively\n",
        "\n",
        "```json\n",
        "\"parameters\": {\n",
        "        \"storageAccountOption\": {\n",
        "            \"value\": \"existing\"\n",
        "        },\n",
        "        \"storageAccountName\": {\n",
        "            \"value\": \"myexistingstorage1\"\n",
        "        },\n",
        "        \"storageAccountType\": {\n",
        "            \"value\": \"Standard_LRS\"\n",
        "        },\n",
        "        \"storageAccountBehindVNet\": {\n",
        "            \"value\": \"false\"\n",
        "        },\n",
        "        \"storageAccountResourceGroupName\": {\n",
        "            \"value\": \"my-resource-group\"\n",
        "        },\n",
        "        \"storageAccountLocation\": {\n",
        "            \"value\": \"eastus2\"\n",
        "        },\n",
        "        \"offlineStoreStorageAccountOption\": {\n",
        "            \"value\": \"existing\"\n",
        "        },\n",
        "        \"offline_store_storage_account_name\": {\n",
        "            \"value\": \"myexistingstorage2\"\n",
        "        },\n",
        "        \"offline_store_container_name\": {\n",
        "            \"value\": \"myexistingcontaine8ebdffb55\"\n",
        "        },\n",
        "        \"offline_store_resource_group_name\": {\n",
        "            \"value\": \"my-resource-group\"\n",
        "        },\n",
        "        \"offline_store_subscription_id\": {\n",
        "            \"value\": \"my-subscription-id\"\n",
        "        },\n",
        "        \"offline_store_connection_name\": {\n",
        "            \"value\": \"OfflineStoreConnectionName-b4bb8712\"\n",
        "        }\n",
        "}\n",
        "```"
      ],
      "metadata": {
        "nteract": {
          "transient": {
            "deleting": false
          }
        }
      }
    },
    {
      "cell_type": "markdown",
      "source": [
        "## Clean up\n",
        "\n",
        "Use following command to delete the feature stores you provisioned. Note, this command use `--all-resources` to clean up all related resources provisioned."
      ],
      "metadata": {
        "nteract": {
          "transient": {
            "deleting": false
          }
        }
      }
    },
    {
      "cell_type": "code",
      "source": [
        "featurestore_name = \"myfs\"\n",
        "!az ml feature-store delete --subscription $subscription_id --resource-group $resource_group_name --name $featurestore_name --all-resources -y"
      ],
      "outputs": [],
      "execution_count": null,
      "metadata": {
        "jupyter": {
          "source_hidden": false,
          "outputs_hidden": false
        },
        "nteract": {
          "transient": {
            "deleting": false
          }
        },
        "gather": {
          "logged": 1709340343526
        }
      }
    }
  ],
  "metadata": {
    "celltoolbar": "Edit Metadata",
    "kernel_info": {
      "name": "python38-azureml"
    },
    "kernelspec": {
      "name": "python38-azureml",
      "language": "python",
      "display_name": "Python 3.8 - AzureML"
    },
    "language_info": {
      "name": "python",
      "version": "3.8.5",
      "mimetype": "text/x-python",
      "codemirror_mode": {
        "name": "ipython",
        "version": 3
      },
      "pygments_lexer": "ipython3",
      "nbconvert_exporter": "python",
      "file_extension": ".py"
    },
    "microsoft": {
      "host": {
        "AzureML": {
          "notebookHasBeenCompleted": true
        }
      },
      "ms_spell_check": {
        "ms_ignore_dictionary": [
          "dataframe",
          "featureset",
          "operationalization",
          "operationalize"
        ],
        "ms_spell_check_language": "en"
      }
    },
    "nteract": {
      "version": "nteract-front-end@1.0.0"
    }
  },
  "nbformat": 4,
  "nbformat_minor": 2
}