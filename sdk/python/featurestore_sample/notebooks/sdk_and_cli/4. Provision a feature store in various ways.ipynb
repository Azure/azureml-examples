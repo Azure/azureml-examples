{
    "cells": [
        {
            "attachments": {},
            "cell_type": "markdown",
            "metadata": {
                "nteract": {
                    "transient": {
                        "deleting": false
                    }
                }
            },
            "source": [
                "# Tutorial #4: Provision a feature store in various ways"
            ]
        },
        {
            "attachments": {},
            "cell_type": "markdown",
            "metadata": {
                "nteract": {
                    "transient": {
                        "deleting": false
                    }
                }
            },
            "source": [
                "Azure ML managed feature store lets you discover, create and operationalize features. Features are the connective tissue in ML lifecycle, starting from prototyping where you experiment with various features to operationalization where models are deployed and feature data is looked up during inference. For information on basics concept of feature store, see [feature store concepts](https://learn.microsoft.com/azure/machine-learning/concept-what-is-managed-feature-store).\n",
                "\n",
                "In this tutorial series you will experience various approach to provision a feature store:\n",
                "\n",
                "This tutorial is an enrichment for the Notebook 1 . In this tutorial you will:\n",
                "- Create a minimal feature store resource via CLI\n",
                "- Create a feature store with specifying resources via CLI\n",
                "- Update a feature store with specifying resources via CLI\n",
                "- Create a minimal feature store resource via SDK\n",
                "- Create a feature store with specifying resources via SDK\n",
                "- Update a feature store with specifying resources via SDK\n"
            ]
        },
        {
            "attachments": {},
            "cell_type": "markdown",
            "metadata": {
                "nteract": {
                    "transient": {
                        "deleting": false
                    }
                }
            },
            "source": [
                "## Prerequisites and Setup\n",
                "\n",
                "Prerequisites and Setup is the same as the prerequisites and Setup part in `Tutorial #1: Develop a feature set and register with managed feature store`"
            ]
        },
        {
            "attachments": {},
            "cell_type": "markdown",
            "metadata": {
                "nteract": {
                    "transient": {
                        "deleting": false
                    }
                }
            },
            "source": [
                "#### Start spark session\n",
                "Execute the following code cell to start the Spark session. It wil take approximately 10 minutes to install all dependencies and start the Spark session."
            ]
        },
        {
            "cell_type": "code",
            "execution_count": null,
            "metadata": {
                "gather": {
                    "logged": 1700520852894
                },
                "jupyter": {
                    "outputs_hidden": false,
                    "source_hidden": false
                },
                "name": "start-spark-session",
                "nteract": {
                    "transient": {
                        "deleting": false
                    }
                },
                "tags": []
            },
            "outputs": [],
            "source": [
                "# Run this cell to start the spark session (any code block will start the session). This can take around 10 mins.\n",
                "print(\"start spark session\")"
            ]
        },
        {
            "attachments": {},
            "cell_type": "markdown",
            "metadata": {
                "nteract": {
                    "transient": {
                        "deleting": false
                    }
                }
            },
            "source": [
                "#### Setup root directory for the samples\n",
                "This code cell sets up the root directory for the samples."
            ]
        },
        {
            "cell_type": "code",
            "execution_count": null,
            "metadata": {
                "gather": {
                    "logged": 1700520858780
                },
                "jupyter": {
                    "outputs_hidden": false,
                    "source_hidden": false
                },
                "name": "root-dir",
                "nteract": {
                    "transient": {
                        "deleting": false
                    }
                }
            },
            "outputs": [],
            "source": [
                "import os\n",
                "\n",
                "# Please update your alias belpw (or any custom directory you uploaded the samples to).\n",
                "# You can find the name from the directory structure in the left nav\n",
                "root_dir = \"./Users/<your_user_alias>/featurestore_sample\"\n",
                "\n",
                "if os.path.isdir(root_dir):\n",
                "    print(\"The folder exists.\")\n",
                "else:\n",
                "    print(\"The folder does not exist. Please create or fix the path\")"
            ]
        },
        {
            "attachments": {},
            "cell_type": "markdown",
            "metadata": {
                "nteract": {
                    "transient": {
                        "deleting": false
                    }
                }
            },
            "source": [
                "#### Setup CLI\n",
                "\n",
                "1. Install AzureML CLI extention\n",
                "1. Authenticate\n",
                "1. Set the default subscription"
            ]
        },
        {
            "cell_type": "code",
            "execution_count": null,
            "metadata": {
                "jupyter": {
                    "outputs_hidden": false,
                    "source_hidden": false
                },
                "nteract": {
                    "transient": {
                        "deleting": false
                    }
                }
            },
            "outputs": [],
            "source": [
                "!az extension add --name ml"
            ]
        },
        {
            "cell_type": "code",
            "execution_count": null,
            "metadata": {
                "gather": {
                    "logged": 1700520965522
                },
                "jupyter": {
                    "outputs_hidden": false,
                    "source_hidden": false
                },
                "name": "auth-cli",
                "nteract": {
                    "transient": {
                        "deleting": false
                    }
                },
                "tags": []
            },
            "outputs": [],
            "source": [
                "# Authenticate\n",
                "!az login"
            ]
        },
        {
            "cell_type": "code",
            "execution_count": null,
            "metadata": {
                "gather": {
                    "logged": 1700521042243
                },
                "jupyter": {
                    "outputs_hidden": false,
                    "source_hidden": false
                },
                "name": "set-default-subs-cli",
                "nteract": {
                    "transient": {
                        "deleting": false
                    }
                }
            },
            "outputs": [],
            "source": [
                "# Set default subscription\n",
                "import os\n",
                "\n",
                "subscription_id = os.environ[\"AZUREML_ARM_SUBSCRIPTION\"]\n",
                "\n",
                "!az account set -s $subscription_id"
            ]
        },
        {
            "attachments": {},
            "cell_type": "markdown",
            "metadata": {
                "nteract": {
                    "transient": {
                        "deleting": false
                    }
                }
            },
            "source": [
                "## Note\n",
                "Feature store Vs Project workspace: You will use a feature store to reuse features across projects. You will use a project workspace (the current workspace) to train and inference models, by leveraging features from feature stores. Many project workspaces can share and reuse a same feature store.\n",
                "\n",
                "## Note\n",
                "In this tutorial you will be using CLI and feature store CRUD SDK:\n",
                "\n",
                "1. CLI: You will use CLI for CRUD (create, read, update, and delete) operations on feature store, feature set and feature store entities.\n",
                "2. Feature store CRUD SDK:    You will use the same SDK, MLClient (package name `azure-ai-ml`), that you use with Azure ML workspace. This will be used for feature store CRUD operations (create, read, update, and delete) for feature store, feature set and feature store entities. This is because feature store is implemented as a type of workspace. "
            ]
        },
        {
            "attachments": {},
            "cell_type": "markdown",
            "metadata": {
                "nteract": {
                    "transient": {
                        "deleting": false
                    }
                }
            },
            "source": [
                "## Option 1: Provision a feature store via CLI"
            ]
        },
        {
            "cell_type": "code",
            "execution_count": null,
            "metadata": {
                "gather": {
                    "logged": 1700521055294
                },
                "jupyter": {
                    "outputs_hidden": false,
                    "source_hidden": false
                },
                "nteract": {
                    "transient": {
                        "deleting": false
                    }
                }
            },
            "outputs": [],
            "source": [
                "# We use the subscription, resource group, region of this active project workspace.\n",
                "# You can optionally replace them to create the resources in a different subsciprtion/resourceGroup, or use existing resources\n",
                "import os\n",
                "\n",
                "featurestore_name = \"FEATURESTORE-NAME\"\n",
                "featurestore_location = \"eastus\"\n",
                "featurestore_subscription_id = os.environ[\"AZUREML_ARM_SUBSCRIPTION\"]\n",
                "featurestore_resource_group_name = os.environ[\"AZUREML_ARM_RESOURCEGROUP\"]"
            ]
        },
        {
            "cell_type": "markdown",
            "metadata": {
                "nteract": {
                    "transient": {
                        "deleting": false
                    }
                }
            },
            "source": [
                "### 1.1 Default feature store provision experience"
            ]
        },
        {
            "cell_type": "markdown",
            "metadata": {
                "nteract": {
                    "transient": {
                        "deleting": false
                    }
                }
            },
            "source": [
                "In the command, you only need to provide the subscription, resource group, feature store name and the location, the system will help you to provision a minimal feature store.\n",
                "\n",
                "In this default feature store provision experience, the system will:\n",
                "\n",
                "(1) provision a storage account with storage type as `Azure Data Lake Storage Gen2` that used as workspace default storage account\n",
                "\n",
                "(2) create a container in the above storage as offline store.\n",
                "\n",
                "(3) provision an User managed identity(UAI).\n",
                "\n",
                "(4) provision the RBAC of UAI to workspace and to offline store.\n",
                "\n",
                "    Below is the details RBAC permission the system helps to grant:\n",
                "\n",
                "|Scope|\tAction/Role|\n",
                "|--|--|\n",
                "|Feature store | `AzureML Data Scientist` role|\n",
                "|Container as feature store offline store | `Storage Blob Data Contributor` role|\n",
                "|Storage account as workspace default storage account\t|`Storage Blob Data Contributor` role|\n",
                "\n",
                "(5) create an offline store connection to the feature store workspace\n",
                "\n",
                "(6) provision other resources for workspace including keyvault etc."
            ]
        },
        {
            "cell_type": "code",
            "execution_count": null,
            "metadata": {
                "jupyter": {
                    "outputs_hidden": false,
                    "source_hidden": false
                },
                "nteract": {
                    "transient": {
                        "deleting": false
                    }
                }
            },
            "outputs": [],
            "source": [
                "!az ml feature-store create --subscription $featurestore_subscription_id --resource-group $featurestore_resource_group_name --location $featurestore_location --name $featurestore_name"
            ]
        },
        {
            "cell_type": "markdown",
            "metadata": {
                "nteract": {
                    "transient": {
                        "deleting": false
                    }
                }
            },
            "source": [
                "### 1.2 Create a feature store with specifying resources\n",
                "Users has the flexibility to bring resources instead of using the system default provisioning ones.\n",
                "\n",
                "Resources that user could specify are:\n",
                "\n",
                "1. materialization_identity(UAI): Optional. \n",
                "\n",
                "    a. if user brings nothing, then the system will help to provision one.\n",
                "\n",
                "    b. if user brings a UAI. the system will help to provision feature store with that UAI, if user does not skip grant permission in CLI/SDK (by defult, it's False), the the system will help to grant proper permision to the UAI for dependent resources. if user explicitly ask for skipping grant permission, then user could follow the steps in `Grant RBAC permission to the user assigned managed identity (UAI)` section in this notebook to grant permissions manually.\n",
                "\n",
                "\n",
                "2. storage_account: Optional. \n",
                "\n",
                "    This will be used as the default storage for the feature store workspace. It could be either blob storage or `Azure Data Lake Storage Gen2` storage.\n",
                "\n",
                "    a. If user brings nothing, then the system will help to provision an `Azure Data Lake Storage Gen2` storage account, this will be used as the default storage for the feature store worksapce. Furthermore, if user also brings nothing for offline store, then the system will create a container in this storage account, and take this container as offline store.\n",
                "\n",
                "    b. If user brings a default blob storage account, then system will use it as the default storage for the feature store worksapce. Furthermore, if user brings nothing for offline store, then the system will provision a seperate `Azure Data Late Storage Gen2` storage account and create a container in it as offline store.\n",
                "\n",
                "    c. If user brings a `Azure Data Lake Storage Gen2` storage account, then system will use it as the default storage for the feature store worksapce. Furthermore, if user brings nothing for offline store, then the system will create a container in it, and take this container as offline store.\n",
                "\n",
                "\n",
                "3. offline store: Optional.\n",
                "\n",
                "    a. If user brings nothing, then the system will help to provision a `Azure Data Lake Storage Gen2` storage account, and then create a container in it as offline store.\n",
                "\n",
                "    b. If user brings a container as offline store, then the system will use it as the offline store. in the meantime, if user does not bring a storage account, then the system will provision an `Azure Data Lake Storage Gen2` storage account as the default blob storage for the workspace.\n",
                "\n",
                "\n",
                "4. online store: Optional.\n",
                "\n",
                "    a. If user brings nothing, then the feature store will be provisioned without online store. user could update the feature store later if need to add the online store.\n",
                "\n",
                "    b. If user brings an `Azure Cache for Redis`, then the system will create feature store with online store connection targeting to the user's `Azure Cache for Redis`.\n",
                "        \n",
                "\n",
                "** During storage account creation in Aure portal, if with the `Hierarchical namespace` enabled, it will be a Azure Data Lake Storage Gen2 storage account, if with the `Hierarchical namespace` disabled, then it will be blob storage account.\n",
                "\n",
                "\n",
                "We provide multiple options for user to specify resources for feature store.\n",
                "\n",
                "It includes:\n",
                "\n",
                "1. --parameter: Using params in the CLI to specify resources. user could find all supported params here: https://learn.microsoft.com/en-us/cli/azure/ml/feature-store?view=azure-cli-latest#az-ml-feature-store-create\n",
                "\n",
                "2. --file: Using a yml file to specify resources.\n",
                "\n",
                "3. --set: Using --set in the CLI to specify resources.\n",
                "\n",
                "** Note --set and --yaml is mutual exclusive. users are not allowed to use them in the same CLI.\n",
                "\n",
                "In this section, there will be examples on how to use them."
            ]
        },
        {
            "cell_type": "markdown",
            "metadata": {
                "nteract": {
                    "transient": {
                        "deleting": false
                    }
                }
            },
            "source": [
                "#### 1.2.0 Prepare your resources\n",
                "\n",
                "Resources that user could specify during feature store provisioning are: User assigned identity (UAI), offline store, online store, storage account\n",
                "\n",
                "For online store, it will be set only when it's specified.\n",
                "\n",
                "For UAI, offline store and storage account, if they are not specified by user, then the system will help to provision one."
            ]
        },
        {
            "cell_type": "markdown",
            "metadata": {
                "nteract": {
                    "transient": {
                        "deleting": false
                    }
                }
            },
            "source": [
                "##### Create your resources via Azure Portal UI\n",
                "All resources could be created via [Azure Portal UI](https://ms.portal.azure.com/#create/hub), the steps are search service name, and then follow the directions to create the resource, and go to the resource -> Overview -> click the \"JSON View\" on the right-above corner -> find the Resource Id, it's needed during specifying the resources when provisioning the feature store.\n",
                "\n",
                "Below is the service name/description for each resource:\n",
                "* UAI --- User Assigned Managed Identity\n",
                "* Offline store -- A container in `Azure Data Lake Storage Gen2` storage account\n",
                "* Online store -- Azure Cache for Redis\n",
                "* Storage account -- Storage used as the workspace default storage\n"
            ]
        },
        {
            "cell_type": "markdown",
            "metadata": {
                "nteract": {
                    "transient": {
                        "deleting": false
                    }
                }
            },
            "source": [
                "##### Create your resources via CLI\n",
                "If you don't want to use the portal, then you could run the following cells to create resources"
            ]
        },
        {
            "cell_type": "code",
            "execution_count": null,
            "metadata": {
                "gather": {
                    "logged": 1700521090888
                },
                "jupyter": {
                    "outputs_hidden": false,
                    "source_hidden": false
                },
                "nteract": {
                    "transient": {
                        "deleting": false
                    }
                }
            },
            "outputs": [],
            "source": [
                "import os\n",
                "from azure.ai.ml import MLClient\n",
                "from azure.ai.ml.identity import AzureMLOnBehalfOfCredential\n",
                "\n",
                "project_ws_sub_id = os.environ[\"AZUREML_ARM_SUBSCRIPTION\"]\n",
                "project_ws_rg = os.environ[\"AZUREML_ARM_RESOURCEGROUP\"]\n",
                "project_ws_name = os.environ[\"AZUREML_ARM_WORKSPACE_NAME\"]\n",
                "\n",
                "# Connect to the project workspace\n",
                "ws_client = MLClient(\n",
                "    AzureMLOnBehalfOfCredential(), project_ws_sub_id, project_ws_rg, project_ws_name\n",
                ")"
            ]
        },
        {
            "cell_type": "markdown",
            "metadata": {
                "nteract": {
                    "transient": {
                        "deleting": false
                    }
                }
            },
            "source": [
                "##### Create a container in `Azure Data Lake Gen2` storage account that will be used as offline store.\n",
                "Provide the name of an Azure Data Lake Storage Gen2 storage account in the following code sample. Other than that, you can execute the following code cell with the provided default settings. Optionally, you can override the default settings."
            ]
        },
        {
            "cell_type": "code",
            "execution_count": null,
            "metadata": {
                "gather": {
                    "logged": 1700521230435
                },
                "jupyter": {
                    "outputs_hidden": false,
                    "source_hidden": false
                },
                "nteract": {
                    "transient": {
                        "deleting": false
                    }
                }
            },
            "outputs": [],
            "source": [
                "## Default Setting\n",
                "# We use the subscription, resource group, region of this active project workspace,\n",
                "# We hard-coded default resource names for creating new resources\n",
                "\n",
                "## Overwrite\n",
                "# You can replace them if you want to create the resources in a different subsciprtion/resourceGroup, or use existing resources\n",
                "# At the minimum, provide an ADLS Gen2 storage account name for `storage_account_name`\n",
                "\n",
                "storage_subscription_id = os.environ[\"AZUREML_ARM_SUBSCRIPTION\"]\n",
                "storage_resource_group_name = os.environ[\"AZUREML_ARM_RESOURCEGROUP\"]\n",
                "offline_store_storage_account_name = \"OFFLINE-STORE-ACCOUNT-NAME\"\n",
                "\n",
                "storage_location = \"eastus\"\n",
                "offline_store_storage_file_system_name = \"OFFLINE-STORE-CONTAINER-NAME\""
            ]
        },
        {
            "cell_type": "markdown",
            "metadata": {
                "nteract": {
                    "transient": {
                        "deleting": false
                    }
                }
            },
            "source": [
                "Execute the following code cell to create the ADLS Gen2 storage account defined in the above code cell."
            ]
        },
        {
            "cell_type": "code",
            "execution_count": null,
            "metadata": {
                "gather": {
                    "logged": 1700521171839
                },
                "jupyter": {
                    "outputs_hidden": false,
                    "source_hidden": false
                },
                "nteract": {
                    "transient": {
                        "deleting": false
                    }
                }
            },
            "outputs": [],
            "source": [
                "# Create new storage account\n",
                "!az storage account create --name $offline_store_storage_account_name --enable-hierarchical-namespace true --resource-group $storage_resource_group_name --location $storage_location --subscription $storage_subscription_id"
            ]
        },
        {
            "cell_type": "markdown",
            "metadata": {
                "nteract": {
                    "transient": {
                        "deleting": false
                    }
                }
            },
            "source": [
                "Execute the following code cell to create a new storage container for offline store."
            ]
        },
        {
            "cell_type": "code",
            "execution_count": null,
            "metadata": {
                "gather": {
                    "logged": 1700521422509
                },
                "jupyter": {
                    "outputs_hidden": false,
                    "source_hidden": false
                },
                "nteract": {
                    "transient": {
                        "deleting": false
                    }
                }
            },
            "outputs": [],
            "source": [
                "# Create a new storage container for offline store\n",
                "!az storage fs create --name $offline_store_storage_file_system_name --account-name $offline_store_storage_account_name --subscription $storage_subscription_id"
            ]
        },
        {
            "cell_type": "markdown",
            "metadata": {
                "nteract": {
                    "transient": {
                        "deleting": false
                    }
                }
            },
            "source": [
                "##### Create storage account that will be used to as workspace default storage account"
            ]
        },
        {
            "cell_type": "code",
            "execution_count": null,
            "metadata": {
                "gather": {
                    "logged": 1700521472374
                },
                "jupyter": {
                    "outputs_hidden": false,
                    "source_hidden": false
                },
                "nteract": {
                    "transient": {
                        "deleting": false
                    }
                }
            },
            "outputs": [],
            "source": [
                "## Default Setting\n",
                "# We use the subscription, resource group, region of this active project workspace,\n",
                "# We hard-coded default resource names for creating new resources\n",
                "\n",
                "## Overwrite\n",
                "# You can replace them if you want to create the resources in a different subsciprtion/resourceGroup, or use existing resources\n",
                "# At the minimum, provide an ADLS Gen2 storage account name for `storage_account_name`\n",
                "\n",
                "storage_subscription_id = os.environ[\"AZUREML_ARM_SUBSCRIPTION\"]\n",
                "storage_resource_group_name = os.environ[\"AZUREML_ARM_RESOURCEGROUP\"]\n",
                "storage_account_name = \"STORAGE-ACCOUNT-NAME\"\n",
                "\n",
                "storage_location = \"eastus\""
            ]
        },
        {
            "cell_type": "code",
            "execution_count": null,
            "metadata": {
                "gather": {
                    "logged": 1700521502445
                },
                "jupyter": {
                    "outputs_hidden": false,
                    "source_hidden": false
                },
                "nteract": {
                    "transient": {
                        "deleting": false
                    }
                }
            },
            "outputs": [],
            "source": [
                "# Create new storage account\n",
                "!az storage account create --name $storage_account_name --enable-hierarchical-namespace true --resource-group $storage_resource_group_name --location $storage_location --subscription $storage_subscription_id"
            ]
        },
        {
            "cell_type": "markdown",
            "metadata": {
                "nteract": {
                    "transient": {
                        "deleting": false
                    }
                }
            },
            "source": [
                "##### Create a new Redis instance as online store\n",
                "\n",
                "Online store will be provisioned for the feature store only when it's been specified during creation/update.\n",
                "\n",
                "User could go to the [Azure portal UI](https://ms.portal.azure.com/#create/hub) --> search for \"Azure Cache for Redis\", and click the \"Azure Cache for Redis\" app, then follow the directions to create one.\n",
                "\n",
                "Or follow the following steps to create one"
            ]
        },
        {
            "cell_type": "markdown",
            "metadata": {
                "nteract": {
                    "transient": {
                        "deleting": false
                    }
                }
            },
            "source": [
                "In the following code cell, define the name of the Azure Cache for Redis that you want to create or reuse. Optionally, you can override other default settings."
            ]
        },
        {
            "cell_type": "code",
            "execution_count": null,
            "metadata": {
                "gather": {
                    "logged": 1700521566741
                },
                "jupyter": {
                    "outputs_hidden": false,
                    "source_hidden": false
                },
                "nteract": {
                    "transient": {
                        "deleting": false
                    }
                }
            },
            "outputs": [],
            "source": [
                "ws_location = ws_client.workspaces.get(ws_client.workspace_name).location\n",
                "\n",
                "redis_subscription_id = os.environ[\"AZUREML_ARM_SUBSCRIPTION\"]\n",
                "redis_resource_group_name = os.environ[\"AZUREML_ARM_RESOURCEGROUP\"]\n",
                "redis_name = \"REDIS-NAME\"\n",
                "redis_location = ws_location\n",
                "sku = \"premium\"\n",
                "size = \"P2\""
            ]
        },
        {
            "cell_type": "markdown",
            "metadata": {
                "nteract": {
                    "transient": {
                        "deleting": false
                    }
                }
            },
            "source": [
                "You can select the Redis cache tier (basic, standard, premium, or enterprise). You should choose a SKU family that is available for the selected cache tier. See this documentation page to learn more about [how selecting different tiers may affect cache performance](https://learn.microsoft.com/azure/azure-cache-for-redis/cache-best-practices-performance). See this link learn more about [pricing for different SKU tiers and families of Azure Cache for Redis](https://azure.microsoft.com/en-us/pricing/details/cache/).\n",
                "\n",
                "Execute the following code cell to create an Azure Cache for Redis with premium tier, SKU family P and cache capacity 2. It may take approximately 5-10 minutes to provision the Redis instance."
            ]
        },
        {
            "cell_type": "code",
            "execution_count": null,
            "metadata": {
                "jupyter": {
                    "outputs_hidden": false,
                    "source_hidden": false
                },
                "nteract": {
                    "transient": {
                        "deleting": false
                    }
                }
            },
            "outputs": [],
            "source": [
                "!az redis create --name $redis_name --resource-group $redis_resource_group_name --location \"$redis_location\" --sku $sku --vm-size $size"
            ]
        },
        {
            "cell_type": "markdown",
            "metadata": {
                "nteract": {
                    "transient": {
                        "deleting": false
                    }
                }
            },
            "source": [
                "##### Setup user-assigned managed identity (UAI)\n",
                "In the following code cell, provide a name for the user-assigned managed identity that you would like to create."
            ]
        },
        {
            "cell_type": "code",
            "execution_count": null,
            "metadata": {
                "gather": {
                    "logged": 1700522197823
                },
                "jupyter": {
                    "outputs_hidden": false,
                    "source_hidden": false
                },
                "nteract": {
                    "transient": {
                        "deleting": false
                    }
                }
            },
            "outputs": [],
            "source": [
                "# User assigned managed identity values. Optionally you may change the values.\n",
                "uai_subscription_id = os.environ[\"AZUREML_ARM_SUBSCRIPTION\"]\n",
                "uai_resource_group_name = os.environ[\"AZUREML_ARM_RESOURCEGROUP\"]\n",
                "uai_name = \"UAI-NAME\"\n",
                "# feature store location is used by default. You can change it.\n",
                "uai_location = storage_location"
            ]
        },
        {
            "cell_type": "markdown",
            "metadata": {
                "nteract": {
                    "transient": {
                        "deleting": false
                    }
                }
            },
            "source": [
                "Execute the following cell to create the UAI."
            ]
        },
        {
            "cell_type": "code",
            "execution_count": null,
            "metadata": {
                "jupyter": {
                    "outputs_hidden": false,
                    "source_hidden": false
                },
                "nteract": {
                    "transient": {
                        "deleting": false
                    }
                }
            },
            "outputs": [],
            "source": [
                "!az identity create --subscription $uai_subscription_id --resource-group $uai_resource_group_name --location $uai_location --name $uai_name"
            ]
        },
        {
            "cell_type": "markdown",
            "metadata": {
                "nteract": {
                    "transient": {
                        "deleting": false
                    }
                }
            },
            "source": [
                "##### Retrieve UAI properties\n",
                "The following code retrieves principal ID, client ID, and ARM ID property values for the created UAI."
            ]
        },
        {
            "cell_type": "code",
            "execution_count": null,
            "metadata": {
                "gather": {
                    "logged": 1700522265022
                },
                "jupyter": {
                    "outputs_hidden": false,
                    "source_hidden": false
                },
                "nteract": {
                    "transient": {
                        "deleting": false
                    }
                }
            },
            "outputs": [],
            "source": [
                "from azure.mgmt.msi import ManagedServiceIdentityClient\n",
                "from azure.mgmt.msi.models import Identity\n",
                "from azure.ai.ml.identity import AzureMLOnBehalfOfCredential\n",
                "\n",
                "msi_client = ManagedServiceIdentityClient(\n",
                "    AzureMLOnBehalfOfCredential(), uai_subscription_id\n",
                ")\n",
                "managed_identity = msi_client.user_assigned_identities.get(\n",
                "    resource_name=uai_name, resource_group_name=uai_resource_group_name\n",
                ")\n",
                "\n",
                "uai_principal_id = managed_identity.principal_id\n",
                "uai_client_id = managed_identity.client_id\n",
                "uai_arm_id = managed_identity.id"
            ]
        },
        {
            "cell_type": "markdown",
            "metadata": {
                "nteract": {
                    "transient": {
                        "deleting": false
                    }
                }
            },
            "source": [
                "##### Grant RBAC permission to the user assigned managed identity (UAI)\n",
                "\n",
                "User needs to grant RBAC permission manually only when user ask the system not to grant permission (use --not-grant-permissions True in CLI command or use the grant_materialization_permissions=False in SDK). \n",
                "\n",
                "If user uses --not-grant-permissions True in CLI command or use the grant_materialization_permissions=False in SDK during feature store creation, then user need to grant the UAI with the following permission:\n",
                "\n",
                "|Scope|\tAction/Role|\n",
                "|--|--|\n",
                "|Feature store | `AzureML Data Scientist` role|\n",
                "|Container as feature store offline store | `Storage Blob Data Contributor` role|\n",
                "|Storage account as workspace default storage account\t|`Storage Blob Data Contributor` role|\n",
                "|Azure Cache for Redis as online store\t|`Contributor` role|\n",
                "\n",
                "The below cli commands will assign **Storage Blob Data Contributor** role to the UAI. To learn more about access control, see role-based access control for [Azure storage accounts](https://learn.microsoft.com/azure/storage/blobs/data-lake-storage-access-control-model#role-based-access-control-azure-rbac) and [Azure Machine Learning workspace](https://learn.microsoft.com/azure/machine-learning/how-to-assign-roles)."
            ]
        },
        {
            "cell_type": "code",
            "execution_count": null,
            "metadata": {
                "gather": {
                    "logged": 1700523825622
                },
                "jupyter": {
                    "outputs_hidden": false,
                    "source_hidden": false
                },
                "nteract": {
                    "transient": {
                        "deleting": false
                    }
                }
            },
            "outputs": [],
            "source": [
                "# feature store arm id\n",
                "feature_store_arm_id = \"/subscriptions/{sub_id}/resourceGroups/{rg}/providers/Microsoft.MachineLearningServices/workspaces/{ws_name}\".format(\n",
                "    sub_id=featurestore_subscription_id,\n",
                "    rg=featurestore_resource_group_name,\n",
                "    ws_name=featurestore_name,\n",
                ")\n",
                "print(feature_store_arm_id)\n",
                "\n",
                "# set the container arm id\n",
                "offline_store_gen2_container_arm_id = \"/subscriptions/{sub_id}/resourceGroups/{rg}/providers/Microsoft.Storage/storageAccounts/{account}/blobServices/default/containers/{container}\".format(\n",
                "    sub_id=storage_subscription_id,\n",
                "    rg=storage_resource_group_name,\n",
                "    account=offline_store_storage_account_name,\n",
                "    container=storage_file_system_name_offline_store,\n",
                ")\n",
                "\n",
                "print(offline_store_gen2_container_arm_id)\n",
                "\n",
                "storage_account_gen2_container_arm_id = \"/subscriptions/{sub_id}/resourceGroups/{rg}/providers/Microsoft.Storage/storageAccounts/{account}\".format(\n",
                "    sub_id=storage_subscription_id,\n",
                "    rg=storage_resource_group_name,\n",
                "    account=storage_account_name,\n",
                ")\n",
                "\n",
                "print(storage_account_gen2_container_arm_id)\n",
                "\n",
                "redis_arm_id = \"/subscriptions/{sub_id}/resourceGroups/{rg}/providers/Microsoft.Cache/Redis/{redis_name}\".format(\n",
                "    sub_id=storage_subscription_id,\n",
                "    rg=storage_resource_group_name,\n",
                "    redis_name=redis_name,\n",
                ")\n",
                "\n",
                "print(redis_arm_id)"
            ]
        },
        {
            "cell_type": "code",
            "execution_count": null,
            "metadata": {},
            "outputs": [],
            "source": [
                "!az role assignment create --role \"AzureML Data Scientist\" --assignee-object-id $uai_principal_id --assignee-principal-type ServicePrincipal --scope $feature_store_arm_id"
            ]
        },
        {
            "cell_type": "code",
            "execution_count": null,
            "metadata": {
                "jupyter": {
                    "outputs_hidden": false,
                    "source_hidden": false
                },
                "nteract": {
                    "transient": {
                        "deleting": false
                    }
                }
            },
            "outputs": [],
            "source": [
                "!az role assignment create --role \"Storage Blob Data Contributor\" --assignee-object-id $uai_principal_id --assignee-principal-type ServicePrincipal --scope $offline_store_gen2_container_arm_id"
            ]
        },
        {
            "cell_type": "code",
            "execution_count": null,
            "metadata": {},
            "outputs": [],
            "source": [
                "!az role assignment create --role \"Storage Blob Data Contributor\" --assignee-object-id $uai_principal_id --assignee-principal-type ServicePrincipal --scope $storage_account_gen2_container_arm_id"
            ]
        },
        {
            "cell_type": "code",
            "execution_count": null,
            "metadata": {
                "jupyter": {
                    "outputs_hidden": false,
                    "source_hidden": false
                },
                "nteract": {
                    "transient": {
                        "deleting": false
                    }
                }
            },
            "outputs": [],
            "source": [
                "!az role assignment create --role \"Contributor\" --assignee-object-id $uai_principal_id --assignee-principal-type ServicePrincipal --scope $redis_arm_id"
            ]
        },
        {
            "cell_type": "markdown",
            "metadata": {
                "nteract": {
                    "transient": {
                        "deleting": false
                    }
                }
            },
            "source": [
                "#### 1.2.1 Specify resources via yml file\n",
                "After the resources are ready, modify the feature-store.yaml file to specify resources.\n",
                "\n",
                "** User could remove the section if don't want to specify one, then the system will provision a default one."
            ]
        },
        {
            "cell_type": "code",
            "execution_count": null,
            "metadata": {
                "gather": {
                    "logged": 1700523676303
                },
                "jupyter": {
                    "outputs_hidden": false,
                    "source_hidden": false
                },
                "nteract": {
                    "transient": {
                        "deleting": false
                    }
                }
            },
            "outputs": [],
            "source": [
                "# Specify the resources you want to the use for your feature store, for resources that not specified in the yml file, the service will help to provision one.\n",
                "yml_file = root_dir + \"/featurestore/feature-store-specify-resources.yml\"\n",
                "\n",
                "!cat $yml_file"
            ]
        },
        {
            "cell_type": "code",
            "execution_count": null,
            "metadata": {
                "jupyter": {
                    "outputs_hidden": false,
                    "source_hidden": false
                },
                "nteract": {
                    "transient": {
                        "deleting": false
                    }
                }
            },
            "outputs": [],
            "source": [
                "!az ml feature-store create --subscription $featurestore_subscription_id --resource-group $featurestore_resource_group_name --location $featurestore_location --name $featurestore_name --file $yml_file"
            ]
        },
        {
            "cell_type": "markdown",
            "metadata": {
                "nteract": {
                    "transient": {
                        "deleting": false
                    }
                }
            },
            "source": [
                "#### 1.2.2 Specify resources via params\n",
                "\n",
                "All supported params could be found here: https://learn.microsoft.com/en-us/cli/azure/ml/feature-store?view=azure-cli-latest#az-ml-feature-store-create"
            ]
        },
        {
            "cell_type": "code",
            "execution_count": null,
            "metadata": {
                "gather": {
                    "logged": 1700524209312
                },
                "jupyter": {
                    "outputs_hidden": false,
                    "source_hidden": false
                },
                "nteract": {
                    "transient": {
                        "deleting": false
                    }
                }
            },
            "outputs": [],
            "source": [
                "import json\n",
                "\n",
                "# The value of the param should be a json string with double quote. a safe way to contruct the json string is to contruct one, and then use the json.dumps to get one, so that no errors on the format.\n",
                "# Here take the offline store as an example, the format will be '{\"target\": \"<resource_id>\",\"type\":\"<store_type>\"}'\n",
                "# Remember to replace <sub_id>, <rg>, <offline-store-account-name> and <offline-store-container-name> to the right value.\n",
                "json_string = '{\"target\":\"/subscriptions/<sub_id>/resourceGroups/<rg>/providers/Microsoft.Storage/storageAccounts/<offline-store-account-name>/blobServices/default/containers/<offline-store-container-name>\",\"type\":\"azure_data_lake_gen2\"}'\n",
                "\n",
                "offline_store_json = json.dumps(json_string)\n",
                "\n",
                "print(offline_store_json)"
            ]
        },
        {
            "cell_type": "code",
            "execution_count": null,
            "metadata": {
                "gather": {
                    "logged": 1700170987829
                },
                "jupyter": {
                    "outputs_hidden": false,
                    "source_hidden": false
                },
                "nteract": {
                    "transient": {
                        "deleting": false
                    }
                }
            },
            "outputs": [],
            "source": [
                "!az ml feature-store create --subscription $featurestore_subscription_id --resource-group $featurestore_resource_group_name --location $featurestore_location --name $featurestore_name --offline-store $offline_store_json"
            ]
        },
        {
            "cell_type": "markdown",
            "metadata": {
                "nteract": {
                    "transient": {
                        "deleting": false
                    }
                }
            },
            "source": [
                "#### 1.2.3 Specifying resources via set option\n",
                "\n",
                "The format to set the resources via --set is propertyA.property1=<value> propertyA.property2=<value>, use a space to split values for each properties."
            ]
        },
        {
            "cell_type": "code",
            "execution_count": null,
            "metadata": {
                "gather": {
                    "logged": 1700176081396
                },
                "jupyter": {
                    "outputs_hidden": false,
                    "source_hidden": false
                },
                "nteract": {
                    "transient": {
                        "deleting": false
                    }
                }
            },
            "outputs": [],
            "source": [
                "# Take offline store as an example to set the value. there are two properties for offline store, target and type. so need to set them explicitly in the CLI\n",
                "# Remember to replace <sub_id>, <rg>, <offline-store-account-name> and <offline-store-container-name> to the right value.\n",
                "offline_store_target = \"/subscriptions/<sub_id>/resourceGroups/<rg>/providers/Microsoft.Storage/storageAccounts/<offline-store-account-name>/blobServices/default/containers/<offline-store-container-name>\"\n",
                "offline_store_type = \"azure_data_lake_gen2\""
            ]
        },
        {
            "cell_type": "code",
            "execution_count": null,
            "metadata": {
                "jupyter": {
                    "outputs_hidden": false,
                    "source_hidden": false
                },
                "nteract": {
                    "transient": {
                        "deleting": false
                    }
                }
            },
            "outputs": [],
            "source": [
                "# when using --set, need to use a space to split different values\n",
                "!az ml feature-store create --subscription $featurestore_subscription_id --resource-group $featurestore_resource_group_name --location $featurestore_location --name $featurestore_name --set offline_store.type=$offline_store_type offline_store.target=$offline_store_target"
            ]
        },
        {
            "cell_type": "markdown",
            "metadata": {
                "nteract": {
                    "transient": {
                        "deleting": false
                    }
                }
            },
            "source": [
                "#### 1.2.4 Specifying resources in a mixed usage\n",
                "User could use mixed ways to specify resources.\n",
                "\n",
                "For edge case that one resource is specified in different ways with different values. Take offline store as an example, using --offline-store, --set and --file to set the offline store with different values, the priority will be (--offline-store) > (--set) and (--file), that is, the system will take the value specified by --offline-store as the value, and ignore the values in --set or --file.\n",
                "\n",
                "**Note:\n",
                "--set and --file is mutual exclusive, user should not use them in the same time."
            ]
        },
        {
            "cell_type": "code",
            "execution_count": null,
            "metadata": {
                "gather": {
                    "logged": 1700178017915
                },
                "jupyter": {
                    "outputs_hidden": false,
                    "source_hidden": false
                },
                "nteract": {
                    "transient": {
                        "deleting": false
                    }
                }
            },
            "outputs": [],
            "source": [
                "import json\n",
                "\n",
                "# Remember to replace <sub_id>, <rg>, <offline-store-account-name> and <offline-store-container-name> to the right value.\n",
                "json_string = '{\"target\":\"/subscriptions/<sub_id>/resourceGroups/<rg>/providers/Microsoft.Storage/storageAccounts/<offline-store-account-name>/blobServices/default/containers/<offline-store-container-name>\",\"type\":\"azure_data_lake_gen2\"}'\n",
                "\n",
                "offline_store_json = json.dumps(json_string)\n",
                "\n",
                "# materialization_identity\n",
                "client_id = \"<your-uai-client-id>\"\n",
                "resource_id = \"/subscriptions/<sub_id>/resourceGroups/<rg>/providers/Microsoft.ManagedIdentity/userAssignedIdentities/<your-uai-name>\"\n",
                "\n",
                "# Specify the resources you want to the use for your feature store, for resources that not specified in the yml file, the service will help to provision one.\n",
                "yml_file = root_dir + \"/featurestore/feature-store-specify-resources.yml\"\n",
                "\n",
                "!cat $yml_file"
            ]
        },
        {
            "cell_type": "code",
            "execution_count": null,
            "metadata": {
                "jupyter": {
                    "outputs_hidden": false,
                    "source_hidden": false
                },
                "nteract": {
                    "transient": {
                        "deleting": false
                    }
                }
            },
            "outputs": [],
            "source": [
                "!az ml feature-store create --subscription $featurestore_subscription_id --resource-group $featurestore_resource_group_name --location $featurestore_location --name $featurestore_name --offline-store $offline_store_json --file $yml_file"
            ]
        },
        {
            "cell_type": "code",
            "execution_count": null,
            "metadata": {},
            "outputs": [],
            "source": [
                "!az ml feature-store create --subscription $featurestore_subscription_id --resource-group $featurestore_resource_group_name --location $featurestore_location --name $featurestore_name --offline-store $offline_store_json --set materialization_identity.client_id=$client_id materialization_identity.resource_id=$resource_id"
            ]
        },
        {
            "cell_type": "markdown",
            "metadata": {
                "nteract": {
                    "transient": {
                        "deleting": false
                    }
                }
            },
            "source": [
                "### 1.3 Update feature store via CLI\n",
                "\n",
                "https://learn.microsoft.com/en-us/cli/azure/ml/feature-store?view=azure-cli-latest#az-ml-feature-store-update\n",
                "\n",
                "With using file, user is allowed to update offline-store, UAI, online store"
            ]
        },
        {
            "cell_type": "code",
            "execution_count": null,
            "metadata": {
                "gather": {
                    "logged": 1700180959483
                },
                "jupyter": {
                    "outputs_hidden": false,
                    "source_hidden": false
                },
                "nteract": {
                    "transient": {
                        "deleting": false
                    }
                }
            },
            "outputs": [],
            "source": [
                "featurestore_name = \"FEATURESTORE-NAME\"\n",
                "yml_file = root_dir + \"/featurestore/feature-store-update.yml\"\n",
                "\n",
                "!cat $yml_file"
            ]
        },
        {
            "cell_type": "code",
            "execution_count": null,
            "metadata": {
                "jupyter": {
                    "outputs_hidden": false,
                    "source_hidden": false
                },
                "nteract": {
                    "transient": {
                        "deleting": false
                    }
                }
            },
            "outputs": [],
            "source": [
                "!az ml feature-store update --subscription $featurestore_subscription_id --resource-group $featurestore_resource_group_name --name $featurestore_name --file $yml_file"
            ]
        },
        {
            "cell_type": "markdown",
            "metadata": {
                "nteract": {
                    "transient": {
                        "deleting": false
                    }
                }
            },
            "source": [
                "## Option 2. Create feature store using SDK"
            ]
        },
        {
            "cell_type": "code",
            "execution_count": null,
            "metadata": {
                "gather": {
                    "logged": 1700264799813
                },
                "jupyter": {
                    "outputs_hidden": false,
                    "source_hidden": false
                },
                "nteract": {
                    "transient": {
                        "deleting": false
                    }
                }
            },
            "outputs": [],
            "source": [
                "# We use the subscription, resource group, region of this active project workspace.\n",
                "# You can optionally replace them to create the resources in a different subsciprtion/resource group, or use existing resources.\n",
                "import os\n",
                "\n",
                "featurestore_name = \"FEATURESTORE-NAME\"\n",
                "featurestore_location = \"eastus\"\n",
                "featurestore_subscription_id = os.environ[\"AZUREML_ARM_SUBSCRIPTION\"]\n",
                "featurestore_resource_group_name = os.environ[\"AZUREML_ARM_RESOURCEGROUP\"]"
            ]
        },
        {
            "cell_type": "markdown",
            "metadata": {
                "nteract": {
                    "transient": {
                        "deleting": false
                    }
                }
            },
            "source": [
                "### 2.1 Default feature store provision experience\n",
                "\n",
                "In the cell, you only need to provide the subscription, resource group, feature store name and the location via SDK, the system will help you to provision a minimal feature store.\n",
                "\n",
                "The default feature store provision experience could see the `1.1 Default feature store provision experience` section in this notebook."
            ]
        },
        {
            "cell_type": "code",
            "execution_count": null,
            "metadata": {
                "gather": {
                    "logged": 1700180296397
                },
                "jupyter": {
                    "outputs_hidden": false,
                    "source_hidden": false
                },
                "nteract": {
                    "transient": {
                        "deleting": false
                    }
                }
            },
            "outputs": [],
            "source": [
                "from azure.ai.ml import MLClient\n",
                "from azure.ai.ml.entities import FeatureStore\n",
                "from azure.ai.ml.identity import AzureMLOnBehalfOfCredential\n",
                "\n",
                "ml_client = MLClient(\n",
                "    AzureMLOnBehalfOfCredential(),\n",
                "    subscription_id=featurestore_subscription_id,\n",
                "    resource_group_name=featurestore_resource_group_name,\n",
                ")\n",
                "\n",
                "fs = FeatureStore(\n",
                "    name=featurestore_name,\n",
                "    location=featurestore_location,\n",
                ")\n",
                "# wait for feature store creation\n",
                "fs_poller = ml_client.feature_stores.begin_create(fs)\n",
                "print(fs_poller.result())"
            ]
        },
        {
            "cell_type": "markdown",
            "metadata": {
                "nteract": {
                    "transient": {
                        "deleting": false
                    }
                }
            },
            "source": [
                "### 2.2 Create a feature store with specifying resources\n",
                "If need to create resources, such as offline store, online store, storage account or UAI, please refer to 1.2.0 section for resource preparation."
            ]
        },
        {
            "cell_type": "code",
            "execution_count": null,
            "metadata": {
                "gather": {
                    "logged": 1700264910157
                },
                "jupyter": {
                    "outputs_hidden": false,
                    "source_hidden": false
                },
                "nteract": {
                    "transient": {
                        "deleting": false
                    }
                }
            },
            "outputs": [],
            "source": [
                "from azure.ai.ml import MLClient\n",
                "from azure.ai.ml.entities import (\n",
                "    FeatureStore,\n",
                "    MaterializationStore,\n",
                "    ManagedIdentityConfiguration,\n",
                ")\n",
                "from azure.ai.ml.identity import AzureMLOnBehalfOfCredential\n",
                "\n",
                "ml_client = MLClient(\n",
                "    AzureMLOnBehalfOfCredential(),\n",
                "    subscription_id=featurestore_subscription_id,\n",
                "    resource_group_name=featurestore_resource_group_name,\n",
                ")\n",
                "\n",
                "# Remember to replace <sub_id>, <rg>, <offline-store-account-name> and <offline-store-container-name> to the right value.\n",
                "# Specify offline store\n",
                "gen2_container_arm_id = \"/subscriptions/<sub_id>/resourceGroups/<rg>/providers/Microsoft.Storage/storageAccounts/<offline-store-account-name>/blobServices/default/containers/<offline-store-container-name>\"\n",
                "offline_store = MaterializationStore(\n",
                "    type=\"azure_data_lake_gen2\", target=gen2_container_arm_id\n",
                ")\n",
                "\n",
                "# Specify UAI\n",
                "materialization_identity = ManagedIdentityConfiguration(\n",
                "    client_id=\"<uai-client-id>\",\n",
                "    principal_id=\"uai-principal-id\",\n",
                "    resource_id=\"/subscriptions/<sub_id>/resourceGroups/<rg>/providers/Microsoft.ManagedIdentity/userAssignedIdentities/<uai-name>\",\n",
                ")\n",
                "\n",
                "# Specify storage account\n",
                "storage_account = \"/subscriptions/<sub_id>/resourceGroups/<rg>/providers/Microsoft.Storage/storageAccounts/<storage-account-name>\"\n",
                "\n",
                "# Specify online store\n",
                "redis_arm_id = \"/subscriptions/<sub_id>/resourceGroups/<rg>/providers/Microsoft.Cache/Redis/<redis-acount-name>\"\n",
                "online_store = MaterializationStore(type=\"redis\", target=redis_arm_id)\n",
                "\n",
                "# Add them into the FeatureStore if need to specify the resources, name and location are required.\n",
                "# offline_store, materialization_identity, storage_account are optional, if user does not specify them, then the system will provision one by default\n",
                "# online_store is optional, if user does not specify it, then the feature store will be provisioned without online_store.\n",
                "fs = FeatureStore(\n",
                "    name=featurestore_name,\n",
                "    location=featurestore_location,\n",
                "    offline_store=offline_store,\n",
                "    materialization_identity=materialization_identity,\n",
                "    storage_account=storage_account,\n",
                "    online_store=online_store,\n",
                ")\n",
                "# wait for feature store creation\n",
                "fs_poller = ml_client.feature_stores.begin_create(fs)\n",
                "print(fs_poller.result())"
            ]
        },
        {
            "cell_type": "markdown",
            "metadata": {
                "nteract": {
                    "transient": {
                        "deleting": false
                    }
                }
            },
            "source": [
                "### 2.3 Update resources for feature store"
            ]
        },
        {
            "cell_type": "code",
            "execution_count": null,
            "metadata": {
                "gather": {
                    "logged": 1700265724208
                },
                "jupyter": {
                    "outputs_hidden": false,
                    "source_hidden": false
                },
                "nteract": {
                    "transient": {
                        "deleting": false
                    }
                }
            },
            "outputs": [],
            "source": [
                "from azure.ai.ml import MLClient\n",
                "from azure.ai.ml.entities import (\n",
                "    FeatureStore,\n",
                "    MaterializationStore,\n",
                "    ManagedIdentityConfiguration,\n",
                ")\n",
                "from azure.ai.ml.identity import AzureMLOnBehalfOfCredential\n",
                "\n",
                "ml_client = MLClient(\n",
                "    AzureMLOnBehalfOfCredential(),\n",
                "    subscription_id=featurestore_subscription_id,\n",
                "    resource_group_name=featurestore_resource_group_name,\n",
                ")\n",
                "\n",
                "# Remember to replace <sub_id>, <rg>, <offline-store-account-name> and <offline-store-container-name> to the right value.\n",
                "# Specify offline store\n",
                "gen2_container_arm_id = \"/subscriptions/<sub_id>/resourceGroups/<rg>/providers/Microsoft.Storage/storageAccounts/<offline-store-account-name>/blobServices/default/containers/<offline-store-container-name>\"\n",
                "offline_store = MaterializationStore(\n",
                "    type=\"azure_data_lake_gen2\", target=gen2_container_arm_id\n",
                ")\n",
                "\n",
                "# Specify UAI\n",
                "materialization_identity = ManagedIdentityConfiguration(\n",
                "    client_id=\"<uai-client-id>\",\n",
                "    principal_id=\"<uai-principal-id>\",\n",
                "    resource_id=\"/subscriptions/<sub_id>/resourceGroups/<rg>/providers/Microsoft.ManagedIdentity/userAssignedIdentities/<uai-name>\",\n",
                ")\n",
                "\n",
                "# Specify storage account\n",
                "storage_account = \"/subscriptions/<sub_id>/resourceGroups/<rg>/providers/Microsoft.Storage/storageAccounts/<storage-account-name>\"\n",
                "\n",
                "# Specify online store\n",
                "redis_arm_id = \"/subscriptions/<sub_id>/resourceGroups/<rg>/providers/Microsoft.Cache/Redis/<redis-account-name>\"\n",
                "online_store = MaterializationStore(type=\"redis\", target=redis_arm_id)\n",
                "\n",
                "# By adding the specified resources to FeatureStore, the feature store will be updated to use the resources specified here.\n",
                "# User is allowed to update resources like: offline_store, materialization_identity and online_store.\n",
                "fs = FeatureStore(\n",
                "    name=featurestore_name,\n",
                "    offline_store=offline_store,\n",
                "    materialization_identity=materialization_identity,\n",
                "    online_store=online_store,\n",
                ")\n",
                "# wait for feature store update.\n",
                "# If need to grant materialization permission, then set the value to True,\n",
                "#    for resources that user has already assigned the role assignment,\n",
                "#    then could set the grant_materialization_permissions=False to skip the role assignments.\n",
                "fs_poller = ml_client.feature_stores.begin_update(\n",
                "    fs, grant_materialization_permissions=True\n",
                ")\n",
                "print(fs_poller.result())"
            ]
        },
        {
            "attachments": {},
            "cell_type": "markdown",
            "metadata": {
                "nteract": {
                    "transient": {
                        "deleting": false
                    }
                }
            },
            "source": [
                "#### Explore the feature store UI\n",
                "* Goto the [Azure ML global landing page](https://ml.azure.com/home).\n",
                "* Click on **Feature stores** in the left navigation.\n",
                "* You will see the list of feature stores that you have access to. Click on the feature store that you have created above.\n",
                "\n",
                "You can see the feature sets and entities that you have created.\n",
                "\n",
                "Note: Creating and updating feature store assets (feature sets and entities) is possible only through SDK and CLI. You can use the UI to search/browse the feature store."
            ]
        },
        {
            "cell_type": "markdown",
            "metadata": {
                "nteract": {
                    "transient": {
                        "deleting": false
                    }
                }
            },
            "source": [
                "## Clean up"
            ]
        },
        {
            "cell_type": "markdown",
            "metadata": {
                "nteract": {
                    "transient": {
                        "deleting": false
                    }
                }
            },
            "source": [
                "#### Delete feature store via CLI"
            ]
        },
        {
            "cell_type": "markdown",
            "metadata": {
                "nteract": {
                    "transient": {
                        "deleting": false
                    }
                }
            },
            "source": [
                "Delete all resources together with the feature store by specifying --all-resources.\n",
                "This will delete all resources for the feature store except offline store, online store and UAI."
            ]
        },
        {
            "cell_type": "code",
            "execution_count": null,
            "metadata": {
                "jupyter": {
                    "outputs_hidden": false,
                    "source_hidden": false
                },
                "nteract": {
                    "transient": {
                        "deleting": false
                    }
                }
            },
            "outputs": [],
            "source": [
                "!az ml feature-store delete --subscription $featurestore_subscription_id --resource-group $featurestore_resource_group_name --name $featurestore_name --all-resources -y"
            ]
        },
        {
            "cell_type": "markdown",
            "metadata": {
                "nteract": {
                    "transient": {
                        "deleting": false
                    }
                }
            },
            "source": [
                "Delete feature store only while keep all other provisioned resources"
            ]
        },
        {
            "cell_type": "code",
            "execution_count": null,
            "metadata": {
                "jupyter": {
                    "outputs_hidden": false,
                    "source_hidden": false
                },
                "nteract": {
                    "transient": {
                        "deleting": false
                    }
                }
            },
            "outputs": [],
            "source": [
                "!az ml feature-store delete --subscription $featurestore_subscription_id --resource-group $featurestore_resource_group_name --name $featurestore_name -y"
            ]
        },
        {
            "cell_type": "markdown",
            "metadata": {
                "nteract": {
                    "transient": {
                        "deleting": false
                    }
                }
            },
            "source": [
                "#### Delete feature store via SDK\n",
                "If need to delete dependent resources, then need to set delete_dependent_resources=True, if not set the value, then it will be False by default."
            ]
        },
        {
            "cell_type": "code",
            "execution_count": null,
            "metadata": {
                "jupyter": {
                    "outputs_hidden": false,
                    "source_hidden": false
                },
                "nteract": {
                    "transient": {
                        "deleting": false
                    }
                }
            },
            "outputs": [],
            "source": [
                "from azure.ai.ml import MLClient\n",
                "from azure.ai.ml.identity import AzureMLOnBehalfOfCredential\n",
                "\n",
                "ml_client = MLClient(\n",
                "    AzureMLOnBehalfOfCredential(),\n",
                "    subscription_id=featurestore_subscription_id,\n",
                "    resource_group_name=featurestore_resource_group_name,\n",
                ")\n",
                "\n",
                "# wait for feature store creation.\n",
                "# set delete_dependent_resources=True if need to delete dependent resources\n",
                "# set delete_dependent_resources=False to skip the dependent resources deletion\n",
                "fs_poller = ml_client.feature_stores.begin_delete(\n",
                "    name=\"<feature store name>\", delete_dependent_resources=True\n",
                ")\n",
                "print(fs_poller.result())"
            ]
        },
        {
            "attachments": {},
            "cell_type": "markdown",
            "metadata": {
                "nteract": {
                    "transient": {
                        "deleting": false
                    }
                }
            },
            "source": [
                "## Next steps\n",
                "* Develop a feature set and register with managed feature store"
            ]
        }
    ],
    "metadata": {
        "celltoolbar": "Edit Metadata",
        "kernel_info": {
            "name": "synapse_pyspark"
        },
        "kernelspec": {
            "display_name": "Synapse PySpark",
            "language": "Python",
            "name": "synapse_pyspark"
        },
        "language_info": {
            "codemirror_mode": "ipython",
            "file_extension": ".py",
            "mimetype": "text/x-python",
            "name": "python",
            "nbconvert_exporter": "python",
            "pygments_lexer": "ipython",
            "version": "3.8.0"
        },
        "microsoft": {
            "host": {
                "AzureML": {
                    "notebookHasBeenCompleted": true
                }
            },
            "ms_spell_check": {
                "ms_ignore_dictionary": [
                    "dataframe",
                    "featureset",
                    "operationalization",
                    "operationalize"
                ],
                "ms_spell_check_language": "en"
            }
        },
        "nteract": {
            "version": "nteract-front-end@1.0.0"
        }
    },
    "nbformat": 4,
    "nbformat_minor": 2
}
