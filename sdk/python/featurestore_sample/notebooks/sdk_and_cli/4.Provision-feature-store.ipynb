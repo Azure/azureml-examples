{
 "cells": [
  {
   "attachments": {},
   "cell_type": "markdown",
   "metadata": {
    "nteract": {
     "transient": {
      "deleting": false
     }
    }
   },
   "source": [
    "# Tutorial: Different Approaches for Provisioning a Managed Feature Store"
   ]
  },
  {
   "attachments": {},
   "cell_type": "markdown",
   "metadata": {
    "nteract": {
     "transient": {
      "deleting": false
     }
    }
   },
   "source": [
    "In this tutorial you will use various approaches to provision a managed feature store.\n",
    "- Create a feature store using CLI/SDK\n",
    "  - Default experience of creating a managed feature store.\n",
    "  - Create a managed feature store using a provided storage as the default blob storage for the feature store. \n",
    "  - Create a managed feature store using a provided storage as offline store.\n",
    "  - Create a managed feature store using a provided Redis cluster as online store.\n",
    "  - Create a managed feature store using provided user-assigned managed identity (UAI) as the managed identity used for feature store materialization jobs.\n",
    "- Create a managed feature store using Azure Resource Manager (ARM) template.\n"
   ]
  },
  {
   "attachments": {},
   "cell_type": "markdown",
   "metadata": {
    "nteract": {
     "transient": {
      "deleting": false
     }
    }
   },
   "source": [
    "## Prerequisites and Setup\n",
    "\n",
    "- [Create a compute instance](https://learn.microsoft.com/azure/machine-learning/how-to-create-compute-instance).\n",
    "- Run this notebook using the above created compute instance and choosing `Python 3.8 - AzureML` kernel."
   ]
  },
  {
   "attachments": {},
   "cell_type": "markdown",
   "metadata": {
    "nteract": {
     "transient": {
      "deleting": false
     }
    }
   },
   "source": [
    "### Setup root directory for the samples\n",
    "This code cell sets up the root directory for the samples."
   ]
  },
  {
   "cell_type": "code",
   "execution_count": null,
   "metadata": {
    "gather": {
     "logged": 1709574058821
    },
    "jupyter": {
     "outputs_hidden": false,
     "source_hidden": false
    },
    "name": "root-dir",
    "nteract": {
     "transient": {
      "deleting": false
     }
    }
   },
   "outputs": [],
   "source": [
    "import os\n",
    "\n",
    "root_dir = \"../../\"\n",
    "\n",
    "if os.path.isdir(root_dir):\n",
    "    print(\"The folder exists.\")\n",
    "else:\n",
    "    print(\"The folder does not exist. Please create or fix the path\")"
   ]
  },
  {
   "cell_type": "markdown",
   "metadata": {
    "nteract": {
     "transient": {
      "deleting": false
     }
    }
   },
   "source": [
    "### Setup subscription and resource group\n",
    "Set subscription ID, resource group, and location for the feature store."
   ]
  },
  {
   "cell_type": "code",
   "execution_count": null,
   "metadata": {
    "gather": {
     "logged": 1709574505765
    },
    "jupyter": {
     "outputs_hidden": false,
     "source_hidden": false
    },
    "name": "set-default-subs-cli",
    "nteract": {
     "transient": {
      "deleting": false
     }
    }
   },
   "outputs": [],
   "source": [
    "subscription_id = \"your-subscription-id\"\n",
    "resource_group_name = \"your-resource-group-name\"\n",
    "location = \"eastus2\""
   ]
  },
  {
   "cell_type": "markdown",
   "metadata": {},
   "source": [
    "Initialize `MLClient` to perform create, read, update, and delete (CRUD) operations at the resource group scope."
   ]
  },
  {
   "cell_type": "code",
   "execution_count": null,
   "metadata": {
    "gather": {
     "logged": 1709574513724
    },
    "jupyter": {
     "outputs_hidden": false,
     "source_hidden": false
    },
    "nteract": {
     "transient": {
      "deleting": false
     }
    }
   },
   "outputs": [],
   "source": [
    "from azure.ai.ml import MLClient\n",
    "from azure.ai.ml.entities import FeatureStore\n",
    "from azure.identity import DefaultAzureCredential\n",
    "\n",
    "ml_client = MLClient(\n",
    "    DefaultAzureCredential(),\n",
    "    subscription_id=subscription_id,\n",
    "    resource_group_name=resource_group_name,\n",
    ")"
   ]
  },
  {
   "attachments": {},
   "cell_type": "markdown",
   "metadata": {
    "nteract": {
     "transient": {
      "deleting": false
     }
    }
   },
   "source": [
    "#### Setup CLI\n",
    "\n",
    "1. Install AzureML CLI extention and azure-ai-ml package\n",
    "1. Authenticate\n",
    "1. Set the default subscription"
   ]
  },
  {
   "cell_type": "code",
   "execution_count": null,
   "metadata": {
    "jupyter": {
     "outputs_hidden": false,
     "source_hidden": false
    },
    "nteract": {
     "transient": {
      "deleting": false
     }
    }
   },
   "outputs": [],
   "source": [
    "# Install AzureML CLI extension\n",
    "!az extension add --name ml"
   ]
  },
  {
   "cell_type": "code",
   "execution_count": null,
   "metadata": {
    "jupyter": {
     "outputs_hidden": true,
     "source_hidden": false
    },
    "nteract": {
     "transient": {
      "deleting": false
     }
    }
   },
   "outputs": [],
   "source": [
    "# Install AzureML SDK\n",
    "!pip install azure-ai-ml"
   ]
  },
  {
   "cell_type": "code",
   "execution_count": null,
   "metadata": {
    "gather": {
     "logged": 1709574683156
    },
    "jupyter": {
     "outputs_hidden": true,
     "source_hidden": false
    },
    "name": "auth-cli",
    "nteract": {
     "transient": {
      "deleting": false
     }
    },
    "tags": []
   },
   "outputs": [],
   "source": [
    "# Authenticate\n",
    "!az login"
   ]
  },
  {
   "cell_type": "code",
   "execution_count": null,
   "metadata": {
    "jupyter": {
     "outputs_hidden": false,
     "source_hidden": false
    },
    "nteract": {
     "transient": {
      "deleting": false
     }
    }
   },
   "outputs": [],
   "source": [
    "# Set default subscription\n",
    "!az account set -s $subscription_id"
   ]
  },
  {
   "attachments": {},
   "cell_type": "markdown",
   "metadata": {
    "nteract": {
     "transient": {
      "deleting": false
     }
    }
   },
   "source": [
    "## 1. Create a managed feature store using CLI/SDK\n",
    "### 1.1 Default managed feature store creation experience"
   ]
  },
  {
   "cell_type": "markdown",
   "metadata": {
    "nteract": {
     "transient": {
      "deleting": false
     }
    }
   },
   "source": [
    "With the default managed feature store provisioning experience, you will:\n",
    "\n",
    "- Provide the subscription ID, resource group name, and location where you want to provision your feature store.\n",
    "- Provide a feature store name.\n",
    "\n",
    "Then, the system will provision following resources:\n",
    "\n",
    "  - A storage account with storage type as `Azure Data Lake Storage Gen2` (ADLS Gen2) that will be used as workspace default storage account.\n",
    "\n",
    "  - A container in the above ADLS Gen2 storage account as an offline store.\n",
    "\n",
    "  - A user-assigned managed identity (UAI) to-be used for feature store materialization jobs.\n",
    "\n",
    "  - The RBAC for UAI on the feature store and on the offline store.\n",
    "\n",
    "    Below are the details of RBAC permissions granted by the system:\n",
    "\n",
    "| Scope  | Action/Role |\n",
    "| ------------- | ------------- |\n",
    "| Feature store  | `AzureML Data Scientist` role  |\n",
    "| ADLS Gen2 storage container as the feature store offline store  | `Storage Blob Data Contributor` role  |\n",
    "| ADLS Gen2 storage account as the workspace default storage account  | `Storage Blob Data Contributor` role  |\n",
    "\n",
    "  - An offline store connection to the feature store workspace.\n",
    "\n",
    "  - Other resources for the workspace, including Key Vault etc."
   ]
  },
  {
   "cell_type": "code",
   "execution_count": null,
   "metadata": {
    "gather": {
     "logged": 1709342925263
    },
    "jupyter": {
     "outputs_hidden": false,
     "source_hidden": false
    },
    "nteract": {
     "transient": {
      "deleting": false
     }
    }
   },
   "outputs": [],
   "source": [
    "featurestore_name = \"myfs-sdk\"\n",
    "\n",
    "fs = FeatureStore(\n",
    "    name=featurestore_name,\n",
    "    location=location,\n",
    ")\n",
    "\n",
    "# wait for feature store creation\n",
    "fs_poller = ml_client.feature_stores.begin_create(fs)\n",
    "\n",
    "print(fs_poller.result())"
   ]
  },
  {
   "cell_type": "markdown",
   "metadata": {
    "nteract": {
     "transient": {
      "deleting": false
     }
    }
   },
   "source": [
    "Alternatively, you can dump the feature store configuration to a YAML file and provision the feature store using CLI."
   ]
  },
  {
   "cell_type": "code",
   "execution_count": null,
   "metadata": {
    "gather": {
     "logged": 1709332247454
    },
    "jupyter": {
     "outputs_hidden": false,
     "source_hidden": false
    },
    "nteract": {
     "transient": {
      "deleting": false
     }
    }
   },
   "outputs": [],
   "source": [
    "featurestore_name = \"myfs-cli\"\n",
    "\n",
    "yaml_path = root_dir + \"/featurestore/featurestore_default.yaml\"\n",
    "fs.dump(yaml_path)\n",
    "\n",
    "!az ml feature-store create --name $featurestore_name --subscription $subscription_id --resource-group $resource_group_name --file $yaml_path"
   ]
  },
  {
   "cell_type": "markdown",
   "metadata": {
    "nteract": {
     "transient": {
      "deleting": false
     }
    }
   },
   "source": [
    "### 1.2 Create a managed feature store using a provided storage as the default blob storage for the feature store"
   ]
  },
  {
   "cell_type": "markdown",
   "metadata": {
    "nteract": {
     "transient": {
      "deleting": false
     }
    }
   },
   "source": [
    "Create a storage account that will be used as the workspace default storage account."
   ]
  },
  {
   "cell_type": "code",
   "execution_count": null,
   "metadata": {
    "gather": {
     "logged": 1709332540884
    },
    "jupyter": {
     "outputs_hidden": false,
     "source_hidden": false
    },
    "nteract": {
     "transient": {
      "deleting": false
     }
    }
   },
   "outputs": [],
   "source": [
    "featurestore_name = \"myfswithblob\""
   ]
  },
  {
   "cell_type": "code",
   "execution_count": null,
   "metadata": {
    "gather": {
     "logged": 1709332567956
    },
    "jupyter": {
     "outputs_hidden": true,
     "source_hidden": false
    },
    "nteract": {
     "transient": {
      "deleting": false
     }
    }
   },
   "outputs": [],
   "source": [
    "storage_account_name = featurestore_name + \"storage1\"\n",
    "!az storage account create --name $storage_account_name --enable-hierarchical-namespace true --resource-group $resource_group_name --location $location --subscription $subscription_id"
   ]
  },
  {
   "cell_type": "markdown",
   "metadata": {},
   "source": [
    "Now create a managed feature store using the above storage account as the default blob storage."
   ]
  },
  {
   "cell_type": "code",
   "execution_count": null,
   "metadata": {
    "gather": {
     "logged": 1709332692481
    },
    "jupyter": {
     "outputs_hidden": true,
     "source_hidden": false
    },
    "nteract": {
     "transient": {
      "deleting": false
     }
    }
   },
   "outputs": [],
   "source": [
    "# Specify storage account\n",
    "storage_account = f\"/subscriptions/{subscription_id}/resourceGroups/{resource_group_name}/providers/Microsoft.Storage/storageAccounts/{storage_account_name}\"\n",
    "\n",
    "fs = FeatureStore(\n",
    "    name=featurestore_name,\n",
    "    location=location,\n",
    "    storage_account=storage_account,\n",
    ")\n",
    "\n",
    "# wait for feature store creation\n",
    "fs_poller = ml_client.feature_stores.begin_create(fs)\n",
    "print(fs_poller.result())"
   ]
  },
  {
   "cell_type": "markdown",
   "metadata": {
    "nteract": {
     "transient": {
      "deleting": false
     }
    }
   },
   "source": [
    "Alternatively, you can dump the feature store configuration to a YAML file and provision the feature store using CLI."
   ]
  },
  {
   "cell_type": "code",
   "execution_count": null,
   "metadata": {
    "gather": {
     "logged": 1709333189168
    },
    "jupyter": {
     "outputs_hidden": true,
     "source_hidden": false
    },
    "nteract": {
     "transient": {
      "deleting": false
     }
    }
   },
   "outputs": [],
   "source": [
    "yaml_path = root_dir + \"/featurestore/featurestore_with_blob.yaml\"\n",
    "fs.dump(yaml_path)\n",
    "\n",
    "featurestore_name = \"myfswithblobcli\"\n",
    "\n",
    "!az ml feature-store create --name $featurestore_name --subscription $subscription_id --resource-group $resource_group_name --file $yaml_path"
   ]
  },
  {
   "cell_type": "markdown",
   "metadata": {
    "nteract": {
     "transient": {
      "deleting": false
     }
    }
   },
   "source": [
    "### 1.3 Create a managed feature store using a provided storage as offline store\n",
    "You can bring your own storage container as the offline store for feature store."
   ]
  },
  {
   "cell_type": "code",
   "execution_count": null,
   "metadata": {
    "gather": {
     "logged": 1709341273537
    },
    "jupyter": {
     "outputs_hidden": false,
     "source_hidden": false
    },
    "nteract": {
     "transient": {
      "deleting": false
     }
    }
   },
   "outputs": [],
   "source": [
    "featurestore_name = \"myfswithoffline\""
   ]
  },
  {
   "cell_type": "markdown",
   "metadata": {},
   "source": [
    "Create the ADLS Gen2 storage account where the offline store container will be created."
   ]
  },
  {
   "cell_type": "code",
   "execution_count": null,
   "metadata": {
    "gather": {
     "logged": 1709341339078
    },
    "jupyter": {
     "outputs_hidden": true,
     "source_hidden": false
    },
    "nteract": {
     "transient": {
      "deleting": false
     }
    }
   },
   "outputs": [],
   "source": [
    "offline_storage_account_name = featurestore_name + \"offline1\"\n",
    "\n",
    "!az storage account create --name $offline_storage_account_name --enable-hierarchical-namespace true --resource-group $resource_group_name --location $location --subscription $subscription_id"
   ]
  },
  {
   "cell_type": "markdown",
   "metadata": {},
   "source": [
    "Create the ADLS Gen2 container to-be used as the offline store."
   ]
  },
  {
   "cell_type": "code",
   "execution_count": null,
   "metadata": {
    "gather": {
     "logged": 1709341958846
    },
    "jupyter": {
     "outputs_hidden": false,
     "source_hidden": false
    },
    "nteract": {
     "transient": {
      "deleting": false
     }
    }
   },
   "outputs": [],
   "source": [
    "offline_store_container_name = \"offlinestore\"\n",
    "connection_string = \"your connection string to your storage\"\n",
    "\n",
    "!az storage fs create --name $offline_store_container_name --account-name $offline_storage_account_name --subscription $subscription_id --connection-string f\"{connection_string}\""
   ]
  },
  {
   "cell_type": "markdown",
   "metadata": {},
   "source": [
    "Now create a managed feature store using the above storage container as the offline store."
   ]
  },
  {
   "cell_type": "code",
   "execution_count": null,
   "metadata": {
    "gather": {
     "logged": 1709341909314
    },
    "jupyter": {
     "outputs_hidden": true,
     "source_hidden": false
    },
    "nteract": {
     "transient": {
      "deleting": false
     }
    }
   },
   "outputs": [],
   "source": [
    "from azure.ai.ml.entities import MaterializationStore\n",
    "\n",
    "gen2_container_arm_id = f\"/subscriptions/{subscription_id}/resourceGroups/{resource_group_name}/providers/Microsoft.Storage/storageAccounts/{offline_storage_account_name}/blobServices/default/containers/{offline_store_container_name}\"\n",
    "\n",
    "offline_store = MaterializationStore(\n",
    "    type=\"azure_data_lake_gen2\", target=gen2_container_arm_id\n",
    ")\n",
    "\n",
    "fs = FeatureStore(\n",
    "    name=featurestore_name, location=location, offline_store=offline_store\n",
    ")\n",
    "# wait for feature store creation\n",
    "fs_poller = ml_client.feature_stores.begin_create(fs)\n",
    "print(fs_poller.result())"
   ]
  },
  {
   "cell_type": "markdown",
   "metadata": {
    "nteract": {
     "transient": {
      "deleting": false
     }
    }
   },
   "source": [
    "Alternatively, you can dump the feature store configuration to a YAML file and provision the feature store using CLI."
   ]
  },
  {
   "cell_type": "code",
   "execution_count": null,
   "metadata": {
    "gather": {
     "logged": 1709342116283
    },
    "jupyter": {
     "outputs_hidden": true,
     "source_hidden": false
    },
    "nteract": {
     "transient": {
      "deleting": false
     }
    }
   },
   "outputs": [],
   "source": [
    "yaml_path = root_dir + \"/featurestore/featurestore_with_offline.yaml\"\n",
    "fs.dump(yaml_path)\n",
    "\n",
    "featurestore_name = \"myfswithofflinecli\"\n",
    "\n",
    "!az ml feature-store create --name $featurestore_name --subscription $subscription_id --resource-group $resource_group_name --file $yaml_path"
   ]
  },
  {
   "cell_type": "markdown",
   "metadata": {
    "nteract": {
     "transient": {
      "deleting": false
     }
    }
   },
   "source": [
    "### 1.4 Create a managed feature store using a provided Redis cluster as online store"
   ]
  },
  {
   "cell_type": "markdown",
   "metadata": {
    "nteract": {
     "transient": {
      "deleting": false
     }
    }
   },
   "source": [
    "In the following code cell, define the name of the Azure Cache for Redis that you want to create or reuse. Optionally, you can also override other default settings."
   ]
  },
  {
   "cell_type": "code",
   "execution_count": null,
   "metadata": {
    "gather": {
     "logged": 1709334902642
    },
    "jupyter": {
     "outputs_hidden": false,
     "source_hidden": false
    },
    "nteract": {
     "transient": {
      "deleting": false
     }
    }
   },
   "outputs": [],
   "source": [
    "redis_name = \"your-redis-cluster-name\"\n",
    "sku = \"premium\"\n",
    "size = \"P2\""
   ]
  },
  {
   "cell_type": "markdown",
   "metadata": {
    "nteract": {
     "transient": {
      "deleting": false
     }
    }
   },
   "source": [
    "You can select the Azure Cache for Redis cache tier (basic, standard, or premium). You should choose a SKU family that is available for the selected cache tier. See this documentation page to learn more about [how selecting different tiers may affect cache performance](https://learn.microsoft.com/azure/azure-cache-for-redis/cache-best-practices-performance). See this link learn more about [pricing for different SKU tiers and families of Azure Cache for Redis](https://azure.microsoft.com/en-us/pricing/details/cache/).\n",
    "\n",
    "Execute the following code cell to create an Azure Cache for Redis with premium tier, SKU family P and cache capacity 2. It may take approximately 5-10 minutes to provision the Redis instance."
   ]
  },
  {
   "cell_type": "code",
   "execution_count": null,
   "metadata": {
    "jupyter": {
     "outputs_hidden": true,
     "source_hidden": false
    },
    "nteract": {
     "transient": {
      "deleting": false
     }
    }
   },
   "outputs": [],
   "source": [
    "!az redis create --name $redis_name --resource-group $resource_group_name --location $location --sku $sku --vm-size $size"
   ]
  },
  {
   "cell_type": "code",
   "execution_count": null,
   "metadata": {
    "gather": {
     "logged": 1709334916760
    },
    "jupyter": {
     "outputs_hidden": false,
     "source_hidden": false
    },
    "nteract": {
     "transient": {
      "deleting": false
     }
    }
   },
   "outputs": [],
   "source": [
    "featurestore_name = \"myfs-redis\""
   ]
  },
  {
   "cell_type": "markdown",
   "metadata": {},
   "source": [
    "Now create a managed feature store using the above Azure Cache for Redis instance as the online store."
   ]
  },
  {
   "cell_type": "code",
   "execution_count": null,
   "metadata": {
    "gather": {
     "logged": 1709335878216
    },
    "jupyter": {
     "outputs_hidden": true,
     "source_hidden": false
    },
    "nteract": {
     "transient": {
      "deleting": false
     }
    }
   },
   "outputs": [],
   "source": [
    "# Specify online store\n",
    "redis_arm_id = f\"/subscriptions/{subscription_id}/resourceGroups/{resource_group_name}/providers/Microsoft.Cache/Redis/{redis_name}\"\n",
    "online_store = MaterializationStore(type=\"redis\", target=redis_arm_id)\n",
    "\n",
    "fs = FeatureStore(\n",
    "    name=featurestore_name,\n",
    "    location=location,\n",
    "    online_store=online_store,\n",
    ")\n",
    "\n",
    "# wait for feature store creation\n",
    "fs_poller = ml_client.feature_stores.begin_create(fs)\n",
    "print(fs_poller.result())"
   ]
  },
  {
   "cell_type": "markdown",
   "metadata": {
    "nteract": {
     "transient": {
      "deleting": false
     }
    }
   },
   "source": [
    "Alternatively, you can dump the feature store configuration to a YAML file and provision the feature store using CLI."
   ]
  },
  {
   "cell_type": "code",
   "execution_count": null,
   "metadata": {
    "gather": {
     "logged": 1709336126566
    },
    "jupyter": {
     "outputs_hidden": true,
     "source_hidden": false
    },
    "nteract": {
     "transient": {
      "deleting": false
     }
    }
   },
   "outputs": [],
   "source": [
    "yaml_path = root_dir + \"/featurestore/featurestore_with_online.yaml\"\n",
    "fs.dump(yaml_path)\n",
    "\n",
    "featurestore_name = \"myfs-redis-cli\"\n",
    "\n",
    "!az ml feature-store create --name $featurestore_name --subscription $subscription_id --resource-group $resource_group_name --file $yaml_path"
   ]
  },
  {
   "cell_type": "markdown",
   "metadata": {
    "nteract": {
     "transient": {
      "deleting": false
     }
    }
   },
   "source": [
    "### 1.5 Create a managed feature store using provided user-assigned identity (UAI) as the managed identity\n",
    "\n",
    "In the following code cell, provide a name for the user-assigned managed identity that you would like to create or reuse."
   ]
  },
  {
   "cell_type": "code",
   "execution_count": null,
   "metadata": {
    "gather": {
     "logged": 1709336353098
    },
    "jupyter": {
     "outputs_hidden": false,
     "source_hidden": false
    },
    "nteract": {
     "transient": {
      "deleting": false
     }
    }
   },
   "outputs": [],
   "source": [
    "uai_name = \"myfsuai\""
   ]
  },
  {
   "cell_type": "markdown",
   "metadata": {
    "nteract": {
     "transient": {
      "deleting": false
     }
    }
   },
   "source": [
    "Execute the following cell to create the UAI. Skip this step if you are reusing a UAI."
   ]
  },
  {
   "cell_type": "code",
   "execution_count": null,
   "metadata": {
    "jupyter": {
     "outputs_hidden": true,
     "source_hidden": false
    },
    "nteract": {
     "transient": {
      "deleting": false
     }
    }
   },
   "outputs": [],
   "source": [
    "!az identity create --subscription $subscription_id --resource-group $resource_group_name --location $location --name $uai_name"
   ]
  },
  {
   "cell_type": "markdown",
   "metadata": {
    "nteract": {
     "transient": {
      "deleting": false
     }
    }
   },
   "source": [
    "##### Retrieve UAI properties\n",
    "The following code retrieves principal ID, client ID, and ARM ID property values for the created UAI."
   ]
  },
  {
   "cell_type": "code",
   "execution_count": null,
   "metadata": {
    "gather": {
     "logged": 1709337629404
    },
    "jupyter": {
     "outputs_hidden": false,
     "source_hidden": false
    },
    "nteract": {
     "transient": {
      "deleting": false
     }
    }
   },
   "outputs": [],
   "source": [
    "from azure.mgmt.msi import ManagedServiceIdentityClient\n",
    "from azure.identity import DefaultAzureCredential\n",
    "\n",
    "msi_client = ManagedServiceIdentityClient(DefaultAzureCredential(), subscription_id)\n",
    "managed_identity = msi_client.user_assigned_identities.get(\n",
    "    resource_name=uai_name, resource_group_name=resource_group_name\n",
    ")\n",
    "\n",
    "uai_principal_id = managed_identity.principal_id\n",
    "uai_client_id = managed_identity.client_id\n",
    "uai_arm_id = f\"/subscriptions/{subscription_id}/resourceGroups/{resource_group_name}/providers/Microsoft.ManagedIdentity/userAssignedIdentities/{uai_name}\""
   ]
  },
  {
   "cell_type": "markdown",
   "metadata": {},
   "source": [
    "Now create a managed feature store using the above UAI as the managed identity for the feature store materialization jobs."
   ]
  },
  {
   "cell_type": "code",
   "execution_count": null,
   "metadata": {
    "gather": {
     "logged": 1709339847180
    },
    "jupyter": {
     "outputs_hidden": true,
     "source_hidden": false
    },
    "nteract": {
     "transient": {
      "deleting": false
     }
    }
   },
   "outputs": [],
   "source": [
    "from azure.ai.ml.entities import ManagedIdentityConfiguration\n",
    "\n",
    "featurestore_name = \"myfs-uai\"\n",
    "\n",
    "materialization_identity = ManagedIdentityConfiguration(\n",
    "    client_id=uai_client_id, principal_id=uai_principal_id, resource_id=uai_arm_id\n",
    ")\n",
    "\n",
    "fs = FeatureStore(\n",
    "    name=featurestore_name,\n",
    "    location=location,\n",
    "    materialization_identity=materialization_identity,\n",
    ")\n",
    "\n",
    "# wait for feature store creation\n",
    "fs_poller = ml_client.feature_stores.begin_create(fs)\n",
    "print(fs_poller.result())"
   ]
  },
  {
   "cell_type": "markdown",
   "metadata": {
    "nteract": {
     "transient": {
      "deleting": false
     }
    }
   },
   "source": [
    "Alternatively, you can dump the feature store configuration to a YAML file and provision the feature store using CLI."
   ]
  },
  {
   "cell_type": "code",
   "execution_count": null,
   "metadata": {
    "gather": {
     "logged": 1709339986498
    },
    "jupyter": {
     "outputs_hidden": true,
     "source_hidden": false
    },
    "nteract": {
     "transient": {
      "deleting": false
     }
    }
   },
   "outputs": [],
   "source": [
    "yaml_path = root_dir + \"/featurestore/featurestore_with_uai.yaml\"\n",
    "fs.dump(yaml_path)\n",
    "\n",
    "featurestore_name = \"myfs-uai-cli\"\n",
    "\n",
    "!az ml feature-store create --name $featurestore_name --subscription $subscription_id --resource-group $resource_group_name --file $yaml_path"
   ]
  },
  {
   "cell_type": "markdown",
   "metadata": {
    "nteract": {
     "transient": {
      "deleting": false
     }
    }
   },
   "source": [
    "## 2. Create a managed feature store using Azure Resource Manager (ARM) template\n",
    "\n",
    "Provisioning a managed feature store is an involved process as several resources are provisioned during the process. We recommend that you provision a managed feature store using CLI/SDK using configuration that fits your business scenario using one of the experience paths described above, and then download the deployment template, update the parameters, and deploy the ARM template directly.\n",
    "\n",
    "- Provision a managed feature store, `my-featurestore`, using CLI.\n",
    "- The CLI command will output the deployment URL, and the deployment is named as `my-featurestore-xxxxxxx`. Click on the deployment link.\n",
    "- From the deployment link page, click on the `Template` tab from the left navigation panel.\n",
    "- From the `Template` page, click on the `Download` button from the top navigation menu.\n",
    "- You will get two JSON files, `template.json` and `parameters.json`.\n",
    "- Update the `parameters.json` file with appropriate parameter values.\n",
    "- Run this command to start deployment: `az deployment group create --name {your-deployment-name} --resource-group {your-resource-group} --template-file template.json --parameters parameters.json`\n",
    "- Run this command to check deployment status: `az deployment group show --name {your-deployment-name}`"
   ]
  },
  {
   "cell_type": "markdown",
   "metadata": {
    "nteract": {
     "transient": {
      "deleting": false
     }
    }
   },
   "source": [
    "Under `featurestore/arm-template` folder, you will find an example ARM template. This is the template generated by provisioning a default feature store. We go through the `parameters.json` file in the following section to explain the parameters for several resources that are important to a managed feature store. "
   ]
  },
  {
   "cell_type": "markdown",
   "metadata": {
    "nteract": {
     "transient": {
      "deleting": false
     }
    }
   },
   "source": [
    "### 2.1 Feature store section\n",
    "\n",
    "This section describes feature store name, resource group, and location. Please update this section for your managed feature store. Note, feature store is a `featurestore` kind of workspace.\n",
    "```json\n",
    "\"parameters\": {\n",
    "        \"workspaceName\": {\n",
    "            \"value\": \"my-featurestore\"\n",
    "        },\n",
    "        \"description\": {\n",
    "            \"value\": \"my-featurestore\"\n",
    "        },\n",
    "        \"friendlyName\": {\n",
    "            \"value\": \"my-featurestore\"\n",
    "        },\n",
    "        \"kind\": {\n",
    "            \"value\": \"featurestore\"\n",
    "        },\n",
    "        \"location\": {\n",
    "            \"value\": \"eastus2\"\n",
    "        },\n",
    "        \"resourceGroupName\": {\n",
    "            \"value\": \"my-resource-group\"\n",
    "        }\n",
    "}\n",
    "```"
   ]
  },
  {
   "cell_type": "markdown",
   "metadata": {
    "nteract": {
     "transient": {
      "deleting": false
     }
    }
   },
   "source": [
    "### 2.2 Default storage Section\n",
    "\n",
    "This section describes the default blob storage used for the feature store workspace. Note, the `storageAccountOption` value is `new`, which means the system will provision a new storage with the name and resource group etc. provided by you. \n",
    "\n",
    "You can also reuse an existing storage account. In this case, you need to set `storageAccountOption` to `existing`, and provide the storage account name and resource group.\n",
    "\n",
    "```json\n",
    "\"parameters\": {\n",
    "        \"storageAccountOption\": {\n",
    "            \"value\": \"new\"\n",
    "        },\n",
    "        \"storageAccountName\": {\n",
    "            \"value\": \"myfeaturestorestorage4116d3e469\"\n",
    "        },\n",
    "        \"storageAccountType\": {\n",
    "            \"value\": \"Standard_LRS\"\n",
    "        },\n",
    "        \"storageAccountBehindVNet\": {\n",
    "            \"value\": \"false\"\n",
    "        },\n",
    "        \"storageAccountResourceGroupName\": {\n",
    "            \"value\": \"my-resource-group\"\n",
    "        },\n",
    "        \"storageAccountLocation\": {\n",
    "            \"value\": \"eastus2\"\n",
    "        }\n",
    "}\n",
    "```"
   ]
  },
  {
   "cell_type": "markdown",
   "metadata": {
    "nteract": {
     "transient": {
      "deleting": false
     }
    }
   },
   "source": [
    "### 2.3 Key Vault section\n",
    "\n",
    "The system will provision a new Key Vault, and the name is usually `feature store name + keyvault + a random string`. Note, the `KeyVaultName` cannot have any special characters.\n",
    "```json\n",
    "\"parameters\": {\n",
    "        \"keyVaultOption\": {\n",
    "            \"value\": \"new\"\n",
    "        },\n",
    "        \"keyVaultName\": {\n",
    "            \"value\": \"myfeaturestorekeyvaultf7a63f0f7\"\n",
    "        },\n",
    "        \"keyVaultBehindVNet\": {\n",
    "            \"value\": \"false\"\n",
    "        },\n",
    "        \"keyVaultResourceGroupName\": {\n",
    "            \"value\": \"my-resource-group\"\n",
    "        },\n",
    "        \"keyVaultLocation\": {\n",
    "            \"value\": \"eastus2\"\n",
    "        }\n",
    "}\n",
    "```"
   ]
  },
  {
   "cell_type": "markdown",
   "metadata": {
    "nteract": {
     "transient": {
      "deleting": false
     }
    }
   },
   "source": [
    "### 2.4 Application Insights section\n",
    "The system will provision a new Application Insights for this feature store. You can replace `myfeaturestore` with the name of your managed feature store, and use a random string as a suffix for the resource name as shown below.\n",
    "\n",
    "```json\n",
    "\"parameters\": {\n",
    "        \"applicationInsightsOption\": {\n",
    "            \"value\": \"new\"\n",
    "        },\n",
    "        \"logAnalyticsName\": {\n",
    "            \"value\": \"myfeaturestorelogalyti09a8f09c8\"\n",
    "        },\n",
    "        \"logAnalyticsArmId\": {\n",
    "            \"value\": \"/subscriptions/my-subscription-id/resourceGroups/my-resource-group/providers/Microsoft.OperationalInsights/workspaces/myfeaturestorelogalyti09a8f09c8\"\n",
    "        },\n",
    "        \"applicationInsightsName\": {\n",
    "            \"value\": \"myfeaturestoreinsights4684a3029\"\n",
    "        },\n",
    "        \"applicationInsightsResourceGroupName\": {\n",
    "            \"value\": \"my-resource-group\"\n",
    "        },\n",
    "        \"applicationInsightsLocation\": {\n",
    "            \"value\": \"eastus2\"\n",
    "        }\n",
    "}\n",
    "```\n"
   ]
  },
  {
   "cell_type": "markdown",
   "metadata": {
    "nteract": {
     "transient": {
      "deleting": false
     }
    }
   },
   "source": [
    "### 2.5 Offline store section\n",
    "\n",
    "In this example, the `offline_store_storage_account_name` is same as the one for default blob storage. The system will create a container named `myfeaturestorecontaine8ebdffb55` inside this storage to use as the offline store. You will also need to define the `offline_store_connection_name` string at the end for connection name.\n",
    "\n",
    "\n",
    "```json\n",
    "\"parameters\": {\n",
    "        \"offlineStoreStorageAccountOption\": {\n",
    "            \"value\": \"new\"\n",
    "        },\n",
    "        \"offline_store_storage_account_name\": {\n",
    "            \"value\": \"myfeaturestorestorage4116d3e469\"\n",
    "        },\n",
    "        \"offline_store_container_name\": {\n",
    "            \"value\": \"myfeaturestorecontaine8ebdffb55\"\n",
    "        },\n",
    "        \"offline_store_resource_group_name\": {\n",
    "            \"value\": \"my-resource-group\"\n",
    "        },\n",
    "        \"offline_store_subscription_id\": {\n",
    "            \"value\": \"my-subscription-id\"\n",
    "        },\n",
    "        \"offline_store_connection_name\": {\n",
    "            \"value\": \"OfflineStoreConnectionName-b4bb8712\"\n",
    "        }\n",
    "}\n",
    "```"
   ]
  },
  {
   "cell_type": "markdown",
   "metadata": {
    "nteract": {
     "transient": {
      "deleting": false
     }
    }
   },
   "source": [
    "### 2.6 Managed identity section\n",
    "\n",
    "The system will provision a user-assigned managed identity to-be used for feature store materialization jobs. You can choose to grant this managed identity neccessary permissions to feature store and offline store by setting `grant_materialization_permissions` to `true`.\n",
    "\n",
    "```json\n",
    "\"parameters\": {\n",
    "        \"materializationIdentityOption\": {\n",
    "            \"value\": \"new\"\n",
    "        },\n",
    "        \"materialization_identity_name\": {\n",
    "            \"value\": \"materialization-uai-dbebceefeb2c331aab47f9c1a4716666\"\n",
    "        },\n",
    "        \"materialization_identity_subscription_id\": {\n",
    "            \"value\": \"my-subscription-id\"\n",
    "        },\n",
    "        \"materialization_identity_resource_group_name\": {\n",
    "            \"value\": \"my-resource-group\"\n",
    "        },\n",
    "        \"grant_materialization_permissions\": {\n",
    "            \"value\": \"true\"\n",
    "        }\n",
    "}\n",
    "```"
   ]
  },
  {
   "cell_type": "markdown",
   "metadata": {
    "nteract": {
     "transient": {
      "deleting": false
     }
    }
   },
   "source": [
    "### 2.7 Online store section\n",
    "\n",
    "If you want to configure an online store, you can provide the Redis cluster information as follows. This example assumes you have a Redis cluster named `my-redis-name`.\n",
    "\n",
    "```json\n",
    "\"parameters\": {\n",
    "        \"online_store_resource_id\": {\n",
    "            \"value\": \"/subscriptions/my-subscription-id/resourceGroups/my-resource-group/providers/Microsoft.Cache/Redis/my-redis-name\"\n",
    "        },\n",
    "        \"online_store_resource_group_name\": {\n",
    "            \"value\": \"my-resource-group\"\n",
    "        },\n",
    "        \"online_store_subscription_id\": {\n",
    "            \"value\": \"my-subscription-id\"\n",
    "        },\n",
    "        \"online_store_connection_name\": {\n",
    "            \"value\": \"OnlineStoreConnectionName-42ace817\"\n",
    "        }\n",
    "}\n",
    "```"
   ]
  },
  {
   "cell_type": "markdown",
   "metadata": {
    "nteract": {
     "transient": {
      "deleting": false
     }
    }
   },
   "source": [
    "### 2.7 Feature store spark section\n",
    "\n",
    "This section is specific to the feature store workspace. You can define a [supported Spark runtime version](https://learn.microsoft.com/azure/machine-learning/apache-spark-azure-ml-concepts#session-level-conda-packages). \n",
    "\n",
    "```json\n",
    "\"parameters\": {\n",
    "        \"spark_runtime_version\": {\n",
    "            \"value\": \"3.2.0\"\n",
    "        }\n",
    "}\n",
    "```"
   ]
  },
  {
   "cell_type": "markdown",
   "metadata": {
    "nteract": {
     "transient": {
      "deleting": false
     }
    }
   },
   "source": [
    "### 2.8 Default storage vs offline store storage account\n",
    "\n",
    "The managed feature store workspace has a default storage account, which will hold your artifacts such as models and logs etc. The managed feature store workspace also has an offline storage which holds materialized feature values. You can use the same storage account for both. In the above example, for the default feature store provisioning experience the system creates a new ADLS Gen2 storage account, which is used as the default blob storage. In addition, the system will create an ADLS Gen2 storage container to hold materialized feature values.\n",
    "\n",
    "Note that:\n",
    "- If you choose to provide an existing storage account as the default blob storage for the feature store, the system will create a new ADLS Gen2 storage and a container to be used as the offline store.\n",
    "\n",
    "- If you choose to provide an existing ADLS Gen2 container as the offline store, the system will create a new storage for use as the default blob storage (unless you also provide an existing storage for it).\n"
   ]
  },
  {
   "cell_type": "markdown",
   "metadata": {
    "nteract": {
     "transient": {
      "deleting": false
     }
    }
   },
   "source": [
    "#### 2.8.1 Provide an existing ADLS Gen2 storage account as the default blob storage\n",
    "\n",
    "```json\n",
    "\"parameters\": {\n",
    "        \"storageAccountOption\": {\n",
    "            \"value\": \"existing\"\n",
    "        },\n",
    "        \"storageAccountName\": {\n",
    "            \"value\": \"myexistingstorage4116d3e469\"\n",
    "        },\n",
    "        \"storageAccountType\": {\n",
    "            \"value\": \"Standard_LRS\"\n",
    "        },\n",
    "        \"storageAccountBehindVNet\": {\n",
    "            \"value\": \"false\"\n",
    "        },\n",
    "        \"storageAccountResourceGroupName\": {\n",
    "            \"value\": \"my-resource-group\"\n",
    "        },\n",
    "        \"storageAccountLocation\": {\n",
    "            \"value\": \"eastus2\"\n",
    "        },\n",
    "        \"offlineStoreStorageAccountOption\": {\n",
    "            \"value\": \"new\"\n",
    "        },\n",
    "        \"offline_store_storage_account_name\": {\n",
    "            \"value\": \"myfeaturestorestorage4116d3e469\"\n",
    "        },\n",
    "        \"offline_store_container_name\": {\n",
    "            \"value\": \"myfeaturestorecontaine8ebdffb55\"\n",
    "        },\n",
    "        \"offline_store_resource_group_name\": {\n",
    "            \"value\": \"my-resource-group\"\n",
    "        },\n",
    "        \"offline_store_subscription_id\": {\n",
    "            \"value\": \"my-subscription-id\"\n",
    "        },\n",
    "        \"offline_store_connection_name\": {\n",
    "            \"value\": \"OfflineStoreConnectionName-b4bb8712\"\n",
    "        }\n",
    "}\n",
    "```"
   ]
  },
  {
   "cell_type": "markdown",
   "metadata": {
    "nteract": {
     "transient": {
      "deleting": false
     }
    }
   },
   "source": [
    "#### 2.8.2 Provide an existing ADLS Gen2 storage container as the offline store\n",
    "\n",
    "```json\n",
    "\"parameters\": {\n",
    "        \"storageAccountOption\": {\n",
    "            \"value\": \"new\"\n",
    "        },\n",
    "        \"storageAccountName\": {\n",
    "            \"value\": \"myfeaturestorestorage4116d3e469\"\n",
    "        },\n",
    "        \"storageAccountType\": {\n",
    "            \"value\": \"Standard_LRS\"\n",
    "        },\n",
    "        \"storageAccountBehindVNet\": {\n",
    "            \"value\": \"false\"\n",
    "        },\n",
    "        \"storageAccountResourceGroupName\": {\n",
    "            \"value\": \"my-resource-group\"\n",
    "        },\n",
    "        \"storageAccountLocation\": {\n",
    "            \"value\": \"eastus2\"\n",
    "        },\n",
    "        \"offlineStoreStorageAccountOption\": {\n",
    "            \"value\": \"existing\"\n",
    "        },\n",
    "        \"offline_store_storage_account_name\": {\n",
    "            \"value\": \"myexistingstorage4116d3e469\"\n",
    "        },\n",
    "        \"offline_store_container_name\": {\n",
    "            \"value\": \"myexistingcontaine8ebdffb55\"\n",
    "        },\n",
    "        \"offline_store_resource_group_name\": {\n",
    "            \"value\": \"my-resource-group\"\n",
    "        },\n",
    "        \"offline_store_subscription_id\": {\n",
    "            \"value\": \"my-subscription-id\"\n",
    "        },\n",
    "        \"offline_store_connection_name\": {\n",
    "            \"value\": \"OfflineStoreConnectionName-b4bb8712\"\n",
    "        }\n",
    "}\n",
    "```"
   ]
  },
  {
   "cell_type": "markdown",
   "metadata": {
    "nteract": {
     "transient": {
      "deleting": false
     }
    }
   },
   "source": [
    "#### 2.8.3 Provide an existing ADLS Gen2 storage account for default blob storage and a container for offline store respectively\n",
    "\n",
    "```json\n",
    "\"parameters\": {\n",
    "        \"storageAccountOption\": {\n",
    "            \"value\": \"existing\"\n",
    "        },\n",
    "        \"storageAccountName\": {\n",
    "            \"value\": \"myexistingstorage1\"\n",
    "        },\n",
    "        \"storageAccountType\": {\n",
    "            \"value\": \"Standard_LRS\"\n",
    "        },\n",
    "        \"storageAccountBehindVNet\": {\n",
    "            \"value\": \"false\"\n",
    "        },\n",
    "        \"storageAccountResourceGroupName\": {\n",
    "            \"value\": \"my-resource-group\"\n",
    "        },\n",
    "        \"storageAccountLocation\": {\n",
    "            \"value\": \"eastus2\"\n",
    "        },\n",
    "        \"offlineStoreStorageAccountOption\": {\n",
    "            \"value\": \"existing\"\n",
    "        },\n",
    "        \"offline_store_storage_account_name\": {\n",
    "            \"value\": \"myexistingstorage2\"\n",
    "        },\n",
    "        \"offline_store_container_name\": {\n",
    "            \"value\": \"myexistingcontaine8ebdffb55\"\n",
    "        },\n",
    "        \"offline_store_resource_group_name\": {\n",
    "            \"value\": \"my-resource-group\"\n",
    "        },\n",
    "        \"offline_store_subscription_id\": {\n",
    "            \"value\": \"my-subscription-id\"\n",
    "        },\n",
    "        \"offline_store_connection_name\": {\n",
    "            \"value\": \"OfflineStoreConnectionName-b4bb8712\"\n",
    "        }\n",
    "}\n",
    "```"
   ]
  },
  {
   "cell_type": "markdown",
   "metadata": {
    "nteract": {
     "transient": {
      "deleting": false
     }
    }
   },
   "source": [
    "## Clean up\n",
    "\n",
    "Use the following command to delete the feature stores that you have provisioned. Note, this command uses `--all-resources` to clean up all related resources that were provisioned as  the part of managed feature store provisioning process."
   ]
  },
  {
   "cell_type": "code",
   "execution_count": null,
   "metadata": {
    "gather": {
     "logged": 1709340343526
    },
    "jupyter": {
     "outputs_hidden": false,
     "source_hidden": false
    },
    "nteract": {
     "transient": {
      "deleting": false
     }
    }
   },
   "outputs": [],
   "source": [
    "featurestore_name = \"myfs\"\n",
    "!az ml feature-store delete --subscription $subscription_id --resource-group $resource_group_name --name $featurestore_name --all-resources -y"
   ]
  }
 ],
 "metadata": {
  "celltoolbar": "Edit Metadata",
  "kernel_info": {
   "name": "python38-azureml"
  },
  "kernelspec": {
   "display_name": "Python 3.8 - AzureML",
   "language": "python",
   "name": "python38-azureml"
  },
  "language_info": {
   "codemirror_mode": {
    "name": "ipython",
    "version": 3
   },
   "file_extension": ".py",
   "mimetype": "text/x-python",
   "name": "python",
   "nbconvert_exporter": "python",
   "pygments_lexer": "ipython3",
   "version": "3.8.5"
  },
  "microsoft": {
   "host": {
    "AzureML": {
     "notebookHasBeenCompleted": true
    }
   },
   "ms_spell_check": {
    "ms_ignore_dictionary": [
     "dataframe",
     "featureset",
     "operationalization",
     "operationalize"
    ],
    "ms_spell_check_language": "en"
   }
  },
  "nteract": {
   "version": "nteract-front-end@1.0.0"
  }
 },
 "nbformat": 4,
 "nbformat_minor": 2
}
