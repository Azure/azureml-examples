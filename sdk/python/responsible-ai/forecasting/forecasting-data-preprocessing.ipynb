{
 "cells": [
  {
   "cell_type": "markdown",
   "id": "932d5c14",
   "metadata": {},
   "source": [
    "# Prepare a custom dataset to train and evaluate a Time-Series Forecasting AutomatedML Model\n",
    "\n",
    "This notebook will allow you to upload a dataset to AzureML to be used for training a time-series forecasting model with AutomatedML. This trained model can then be evaluated with the ResponsibleAI Dashboard using the forecasting-automl.ipynb notebook.\n",
    "\n",
    "To use this workbook, you must have:\n",
    "\n",
    "    1. a valid AzureML subscription ID, workspace, and resource group\n",
    "    2. a dataset containing datetime data in .csv or .txt format\n",
    "    \n",
    "Your dataset must have the following requirements:\n",
    "\n",
    "    1. a datetime column\n",
    "    2. a group_id column\n",
    "    \n",
    "This notebook will help you get your data in the correct format and upload it to AzureML. "
   ]
  },
  {
   "cell_type": "code",
   "execution_count": null,
   "id": "58999a53",
   "metadata": {},
   "outputs": [],
   "source": [
    "%pip install datasets"
   ]
  },
  {
   "cell_type": "markdown",
   "id": "b3d7629e",
   "metadata": {},
   "source": [
    "### 1. Workspace Details\n",
    "\n",
    "Enter the details of your AzureML workspace below."
   ]
  },
  {
   "cell_type": "code",
   "execution_count": null,
   "id": "ed38b780",
   "metadata": {},
   "outputs": [],
   "source": [
    "subscription_id = \"<SUBSCRIPTION_ID>\"\n",
    "resource_group = \"<RESOURCE_GROUP>\"\n",
    "workspace = \"<AML_WORKSPACE_NAME>\""
   ]
  },
  {
   "cell_type": "markdown",
   "id": "bb74cfbf",
   "metadata": {},
   "source": [
    "### 2. Specify data path and version\n",
    "\n",
    "First, enter the version of your dataset (default 1). Everytime you make changes to your dataset and want to upload those changes to AzureML, increase this data_version by 1. Next, Enter the path to the folder containing your data. Your data should be in the following file architecture:\n",
    "\n",
    "    data_path/\n",
    "        train/\n",
    "            train.csv\n",
    "        test/\n",
    "            test.csv"
   ]
  },
  {
   "cell_type": "code",
   "execution_count": null,
   "id": "ab77d60a",
   "metadata": {},
   "outputs": [],
   "source": [
    "data_version = \"1\"\n",
    "data_path = \"data-forecasting/\""
   ]
  },
  {
   "cell_type": "code",
   "execution_count": null,
   "id": "95865a3a",
   "metadata": {},
   "outputs": [],
   "source": [
    "train_data_path = data_path + \"train/\"\n",
    "test_data_path = data_path + \"test/\""
   ]
  },
  {
   "cell_type": "markdown",
   "id": "26ddf092",
   "metadata": {},
   "source": [
    "### 3. Prepare data\n",
    "\n",
    "Here we will ensure your data has all the properties it needs and is converted to the correct parquet format. Your test dataset must be under 5000 lines. Remeber to save your changes (step 3d)! \n"
   ]
  },
  {
   "cell_type": "code",
   "execution_count": null,
   "id": "0286ffef",
   "metadata": {},
   "outputs": [],
   "source": [
    "import mltable\n",
    "import matplotlib.pyplot as plt\n",
    "import pandas as pd\n",
    "from azure.ai.ml import MLClient\n",
    "from azure.ai.ml.constants import AssetTypes\n",
    "from azure.ai.ml.entities import Data\n",
    "from azure.identity import DefaultAzureCredential"
   ]
  },
  {
   "cell_type": "code",
   "execution_count": null,
   "id": "254966f5",
   "metadata": {},
   "outputs": [],
   "source": [
    "train_df = pd.read_csv(train_data_path + \"train.csv\")\n",
    "test_df = pd.read_csv(test_data_path + \"test.csv\")\n",
    "train_df = mltable.load(train_data_path).to_pandas_dataframe()\n",
    "test_df = mltable.load(test_data_path).to_pandas_dataframe()\n",
    "\n",
    "assert len(test_df.index) <= 5000\n",
    "test_df"
   ]
  },
  {
   "cell_type": "markdown",
   "id": "ee70a13f",
   "metadata": {},
   "source": [
    "#### 3a. Create MLTable files"
   ]
  },
  {
   "cell_type": "code",
   "execution_count": null,
   "id": "4e567e78",
   "metadata": {},
   "outputs": [],
   "source": [
    "mltable_train_contents = f\"\"\"\n",
    "$schema: http://azureml/sdk-2-0/MLTable.json\n",
    "type: mltable\n",
    "paths:\n",
    "  - file: ./train.parquet\n",
    "transformations:\n",
    "  - read_parquet\n",
    "\"\"\"\n",
    "\n",
    "mltable_test_contents = f\"\"\"\n",
    "$schema: http://azureml/sdk-2-0/MLTable.json\n",
    "type: mltable\n",
    "paths:\n",
    "  - file: ./test.parquet\n",
    "transformations:\n",
    "  - read_parquet\n",
    "\"\"\"\n",
    "\n",
    "mltable_train_filename = train_data_path + \"MLTable\"\n",
    "mltable_test_filename = test_data_path + \"MLTable\"\n",
    "\n",
    "with open(mltable_train_filename, \"w\") as f:\n",
    "    f.write(mltable_train_contents)\n",
    "\n",
    "with open(mltable_test_filename, \"w\") as g:\n",
    "    g.write(mltable_test_contents)"
   ]
  },
  {
   "cell_type": "markdown",
   "id": "513620ba",
   "metadata": {},
   "source": [
    "#### 3b. Convert datetime column to datetime64[ns] format\n",
    "\n",
    "If you already have a datetime column in datetime64[ns] format, you can skip this step. Otherwise, specify which column contains your datetime data."
   ]
  },
  {
   "cell_type": "code",
   "execution_count": null,
   "id": "099e44c9",
   "metadata": {},
   "outputs": [],
   "source": [
    "train_df[\"datetime\"] = train_df[\"datetime\"].astype(\"datetime64[ns]\")\n",
    "test_df[\"datetime\"] = test_df[\"datetime\"].astype(\"datetime64[ns]\")"
   ]
  },
  {
   "cell_type": "markdown",
   "id": "77650b97",
   "metadata": {},
   "source": [
    "#### 3c. Create time_series_id column\n",
    "\n",
    "If your dataset contains multiple time series and already has a time_series_id column identifying which time-series each row belongs to, you can skip this step."
   ]
  },
  {
   "cell_type": "code",
   "execution_count": null,
   "id": "531143a3",
   "metadata": {},
   "outputs": [],
   "source": [
    "train_df[\"group_id\"] = 1.0\n",
    "test_df[\"group_id\"] = 1.0"
   ]
  },
  {
   "cell_type": "markdown",
   "id": "690f87f6",
   "metadata": {},
   "source": [
    "### 3d. Save your data"
   ]
  },
  {
   "cell_type": "code",
   "execution_count": null,
   "id": "61ef3970",
   "metadata": {},
   "outputs": [],
   "source": [
    "train_df.to_parquet(train_data_path + \"train.parquet\")\n",
    "test_df.to_parquet(test_data_path + \"test.parquet\")"
   ]
  },
  {
   "cell_type": "markdown",
   "id": "85666fa2",
   "metadata": {},
   "source": [
    "#### 3e. Visualize your data\n",
    "\n",
    "Specify which column you want to visualize. Usually this would be the target column you want your model to predict over time."
   ]
  },
  {
   "cell_type": "code",
   "execution_count": null,
   "id": "e119c25a",
   "metadata": {},
   "outputs": [],
   "source": [
    "target_column = \"<TARGET>\""
   ]
  },
  {
   "cell_type": "code",
   "execution_count": null,
   "id": "216ad971",
   "metadata": {},
   "outputs": [],
   "source": [
    "print(\n",
    "    f\"Train dates : {train_df.index.min()} --- {train_df.index.max()}  (n={len(train_df)})\"\n",
    ")\n",
    "print(\n",
    "    f\"Test dates  : {test_df.index.min()} --- {test_df.index.max()}  (n={len(test_df)})\"\n",
    ")\n",
    "\n",
    "\n",
    "fig, ax = plt.subplots(figsize=(6, 2.5))\n",
    "train_df[target_column].plot(ax=ax, label=\"train\")\n",
    "test_df[target_column].plot(ax=ax, label=\"test\")\n",
    "ax.legend();"
   ]
  },
  {
   "cell_type": "markdown",
   "id": "21d4f0d4",
   "metadata": {},
   "source": [
    "### 4. Get a handle to the workspace\n",
    "\n",
    "We will use the information provided in the Workspace Details section to get a handle to the required Azure Machine Learning workspace. No additional input is required for this section."
   ]
  },
  {
   "cell_type": "code",
   "execution_count": null,
   "id": "a93c285c",
   "metadata": {},
   "outputs": [],
   "source": [
    "# Handle to the workspace\n",
    "credential = DefaultAzureCredential()\n",
    "ml_client = MLClient(\n",
    "    credential=credential,\n",
    "    subscription_id=subscription_id,\n",
    "    resource_group_name=resource_group,\n",
    "    workspace_name=workspace,\n",
    ")\n",
    "\n",
    "# Get handle to azureml registry for the RAI built in components\n",
    "registry_name = \"azureml\"\n",
    "ml_client_registry = MLClient(\n",
    "    credential=credential,\n",
    "    subscription_id=subscription_id,\n",
    "    resource_group_name=resource_group,\n",
    "    registry_name=registry_name,\n",
    ")"
   ]
  },
  {
   "cell_type": "markdown",
   "id": "4846d6a8",
   "metadata": {},
   "source": [
    "### 5. Upload data\n",
    "\n",
    "Finally, upload the data to AzureML. Change the names and descriptions of your datasets as you see fit."
   ]
  },
  {
   "cell_type": "code",
   "execution_count": null,
   "id": "a09b26ce",
   "metadata": {},
   "outputs": [],
   "source": [
    "train_name = \"forecasting_train_mltable\"\n",
    "test_name = \"forecasting_test_mltable\"\n",
    "\n",
    "train_description=\"Forecasting example training data\"\n",
    "test_description = \"Forecasting example testing data"
   ]
  },
  {
   "cell_type": "code",
   "execution_count": null,
   "id": "f7f717ab",
   "metadata": {},
   "outputs": [],
   "source": [
    "train_data = Data(\n",
    "    path=train_data_path,\n",
    "    type=AssetTypes.MLTABLE,\n",
    "    description=train_description,\n",
    "    name=train_name,\n",
    "    version=data_version,\n",
    ")\n",
    "ml_client.data.create_or_update(train_data)\n",
    "\n",
    "test_data = Data(\n",
    "    path=test_data_path,\n",
    "    type=AssetTypes.MLTABLE,\n",
    "    description=test_description,\n",
    "    name=test_name,\n",
    "    version=data_version,\n",
    ")\n",
    "ml_client.data.create_or_update(test_data)"
   ]
  }
 ],
 "metadata": {
  "kernelspec": {
   "display_name": "Python 3.10 - SDK V2",
   "language": "python",
   "name": "python310-sdkv2"
  },
  "language_info": {
   "codemirror_mode": {
    "name": "ipython",
    "version": 3
   },
   "file_extension": ".py",
   "mimetype": "text/x-python",
   "name": "python",
   "nbconvert_exporter": "python",
   "pygments_lexer": "ipython3",
   "version": "3.8.18"
  }
 },
 "nbformat": 4,
 "nbformat_minor": 5
}
