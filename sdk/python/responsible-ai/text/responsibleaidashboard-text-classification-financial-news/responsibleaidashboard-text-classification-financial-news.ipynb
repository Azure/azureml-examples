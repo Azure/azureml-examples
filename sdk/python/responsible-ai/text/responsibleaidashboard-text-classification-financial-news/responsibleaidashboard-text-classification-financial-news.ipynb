{
 "cells": [
  {
   "cell_type": "markdown",
   "metadata": {
    "nteract": {
     "transient": {
      "deleting": false
     }
    }
   },
   "source": [
    "# Binary Text Classification scenario with RAI Dashboard\n",
    "\n",
    "This notebook demonstrates the use of the `responsibleai` API to binary text classification scenario end to end where a [Huggingface model](https://huggingface.co/docs/transformers/tasks/sequence_classification) will be trained on Fabricated Financial News dataset. The model predicts **the category a Financial News article will fall under.** There are 7 Categories of the Financial news:\n",
    "\n",
    "1. Banking and finance - Debt Market\n",
    "2. Business\n",
    "3. Cryptocurrency\n",
    "4. Financial Regulations\n",
    "5. Personal Finance\n",
    "6. Real Estate\n",
    "7. Stock Market Updates\n",
    "\n",
    "The Data Dictionary can be accessed through the following link: [Data_dictionary_Finance](link-URL)\n",
    "\n",
    "The Notebook walks through the API calls necessary to create a widget with model analysis insights, then guides a visual analysis of the model. The Notebook uses [Responsibleai_text Toolbox](https://github.com/microsoft/responsible-ai-toolbox/tree/main/responsibleai_text) to generate the dashboard.\n",
    "\n"
   ]
  },
  {
   "cell_type": "markdown",
   "metadata": {
    "nteract": {
     "transient": {
      "deleting": false
     }
    }
   },
   "source": [
    "## **Installation**  \n",
    "\n",
    "If you are **running the notebook for the first time**, you need to follow a few of steps for smooth execution of notebook:\n",
    "\n",
    "1. Un-comment the 2 cells below.\n",
    "2. Run the 2 cells.\n",
    "3. After execution of these cells, comment the cells.\n",
    "4. Re-start the kernel\n",
    "5. Continue with running of all cells.\n",
    "\n",
    "\n",
    "**Reminder** -- Be sure to set your kernel to \"Python 3.10 - SDK v2,\" via the drop-down menu at the right end of the taskbar. "
   ]
  },
  {
   "cell_type": "markdown",
   "metadata": {},
   "source": [
    "### Install Required dependencies"
   ]
  },
  {
   "cell_type": "markdown",
   "metadata": {},
   "source": [
    "**Make sure it comment the below cell while executing the notebook more than once**"
   ]
  },
  {
   "cell_type": "code",
   "execution_count": null,
   "metadata": {
    "gather": {
     "logged": 1689753917169
    },
    "jupyter": {
     "outputs_hidden": false,
     "source_hidden": false
    },
    "nteract": {
     "transient": {
      "deleting": false
     }
    }
   },
   "outputs": [
    {
     "name": "stdout",
     "output_type": "stream",
     "text": [
      "Collecting azure-ai-mlNote: you may need to restart the kernel to use updated packages.\n",
      "\n",
      "  Downloading azure_ai_ml-1.25.0-py3-none-any.whl.metadata (35 kB)\n",
      "Collecting pyyaml>=5.1.0 (from azure-ai-ml)\n",
      "  Using cached PyYAML-6.0.2-cp310-cp310-win_amd64.whl.metadata (2.1 kB)\n",
      "Collecting msrest>=0.6.18 (from azure-ai-ml)\n",
      "  Using cached msrest-0.7.1-py3-none-any.whl.metadata (21 kB)\n",
      "Collecting azure-core>=1.23.0 (from azure-ai-ml)\n",
      "  Using cached azure_core-1.32.0-py3-none-any.whl.metadata (39 kB)\n",
      "Collecting azure-mgmt-core>=1.3.0 (from azure-ai-ml)\n",
      "  Using cached azure_mgmt_core-1.5.0-py3-none-any.whl.metadata (4.3 kB)\n",
      "Collecting marshmallow>=3.5 (from azure-ai-ml)\n",
      "  Downloading marshmallow-3.26.1-py3-none-any.whl.metadata (7.3 kB)\n",
      "Collecting jsonschema>=4.0.0 (from azure-ai-ml)\n",
      "  Using cached jsonschema-4.23.0-py3-none-any.whl.metadata (7.9 kB)\n",
      "Collecting tqdm (from azure-ai-ml)\n",
      "  Downloading tqdm-4.67.1-py3-none-any.whl.metadata (57 kB)\n",
      "Collecting strictyaml (from azure-ai-ml)\n",
      "  Downloading strictyaml-1.7.3-py3-none-any.whl.metadata (11 kB)\n",
      "Requirement already satisfied: colorama in c:\\users\\agemawat\\appdata\\local\\anaconda3\\envs\\rai\\lib\\site-packages (from azure-ai-ml) (0.4.6)\n",
      "Collecting pyjwt (from azure-ai-ml)\n",
      "  Using cached PyJWT-2.10.1-py3-none-any.whl.metadata (4.0 kB)\n",
      "Collecting azure-storage-blob>=12.10.0 (from azure-ai-ml)\n",
      "  Downloading azure_storage_blob-12.24.1-py3-none-any.whl.metadata (26 kB)\n",
      "Collecting azure-storage-file-share (from azure-ai-ml)\n",
      "  Downloading azure_storage_file_share-12.20.1-py3-none-any.whl.metadata (49 kB)\n",
      "Collecting azure-storage-file-datalake>=12.2.0 (from azure-ai-ml)\n",
      "  Downloading azure_storage_file_datalake-12.18.1-py3-none-any.whl.metadata (16 kB)\n",
      "Collecting pydash>=6.0.0 (from azure-ai-ml)\n",
      "  Downloading pydash-8.0.5-py3-none-any.whl.metadata (4.5 kB)\n",
      "Collecting isodate (from azure-ai-ml)\n",
      "  Using cached isodate-0.7.2-py3-none-any.whl.metadata (11 kB)\n",
      "Collecting azure-common>=1.1 (from azure-ai-ml)\n",
      "  Using cached azure_common-1.1.28-py2.py3-none-any.whl.metadata (5.0 kB)\n",
      "Requirement already satisfied: typing-extensions in c:\\users\\agemawat\\appdata\\local\\anaconda3\\envs\\rai\\lib\\site-packages (from azure-ai-ml) (4.12.2)\n",
      "Collecting azure-monitor-opentelemetry (from azure-ai-ml)\n",
      "  Downloading azure_monitor_opentelemetry-1.6.5-py3-none-any.whl.metadata (21 kB)\n",
      "Collecting requests>=2.21.0 (from azure-core>=1.23.0->azure-ai-ml)\n",
      "  Using cached requests-2.32.3-py3-none-any.whl.metadata (4.6 kB)\n",
      "Requirement already satisfied: six>=1.11.0 in c:\\users\\agemawat\\appdata\\local\\anaconda3\\envs\\rai\\lib\\site-packages (from azure-core>=1.23.0->azure-ai-ml) (1.17.0)\n",
      "Collecting cryptography>=2.1.4 (from azure-storage-blob>=12.10.0->azure-ai-ml)\n",
      "  Downloading cryptography-44.0.1-cp39-abi3-win_amd64.whl.metadata (5.7 kB)\n",
      "Collecting attrs>=22.2.0 (from jsonschema>=4.0.0->azure-ai-ml)\n",
      "  Using cached attrs-25.1.0-py3-none-any.whl.metadata (10 kB)\n",
      "Collecting jsonschema-specifications>=2023.03.6 (from jsonschema>=4.0.0->azure-ai-ml)\n",
      "  Using cached jsonschema_specifications-2024.10.1-py3-none-any.whl.metadata (3.0 kB)\n",
      "Collecting referencing>=0.28.4 (from jsonschema>=4.0.0->azure-ai-ml)\n",
      "  Using cached referencing-0.36.2-py3-none-any.whl.metadata (2.8 kB)\n",
      "Collecting rpds-py>=0.7.1 (from jsonschema>=4.0.0->azure-ai-ml)\n",
      "  Downloading rpds_py-0.23.1-cp310-cp310-win_amd64.whl.metadata (4.2 kB)\n",
      "Requirement already satisfied: packaging>=17.0 in c:\\users\\agemawat\\appdata\\local\\anaconda3\\envs\\rai\\lib\\site-packages (from marshmallow>=3.5->azure-ai-ml) (24.2)\n",
      "Collecting certifi>=2017.4.17 (from msrest>=0.6.18->azure-ai-ml)\n",
      "  Downloading certifi-2025.1.31-py3-none-any.whl.metadata (2.5 kB)\n",
      "Collecting requests-oauthlib>=0.5.0 (from msrest>=0.6.18->azure-ai-ml)\n",
      "  Using cached requests_oauthlib-2.0.0-py2.py3-none-any.whl.metadata (11 kB)\n",
      "Collecting azure-core-tracing-opentelemetry~=1.0.0b11 (from azure-monitor-opentelemetry->azure-ai-ml)\n",
      "  Downloading azure_core_tracing_opentelemetry-1.0.0b11-py3-none-any.whl.metadata (8.5 kB)\n",
      "Collecting azure-monitor-opentelemetry-exporter~=1.0.0b31 (from azure-monitor-opentelemetry->azure-ai-ml)\n",
      "  Downloading azure_monitor_opentelemetry_exporter-1.0.0b33-py2.py3-none-any.whl.metadata (32 kB)\n",
      "Collecting opentelemetry-instrumentation-django~=0.49b0 (from azure-monitor-opentelemetry->azure-ai-ml)\n",
      "  Downloading opentelemetry_instrumentation_django-0.51b0-py3-none-any.whl.metadata (2.3 kB)\n",
      "Collecting opentelemetry-instrumentation-fastapi~=0.49b0 (from azure-monitor-opentelemetry->azure-ai-ml)\n",
      "  Downloading opentelemetry_instrumentation_fastapi-0.51b0-py3-none-any.whl.metadata (2.2 kB)\n",
      "Collecting opentelemetry-instrumentation-flask~=0.49b0 (from azure-monitor-opentelemetry->azure-ai-ml)\n",
      "  Downloading opentelemetry_instrumentation_flask-0.51b0-py3-none-any.whl.metadata (2.2 kB)\n",
      "Collecting opentelemetry-instrumentation-psycopg2~=0.49b0 (from azure-monitor-opentelemetry->azure-ai-ml)\n",
      "  Downloading opentelemetry_instrumentation_psycopg2-0.51b0-py3-none-any.whl.metadata (2.1 kB)\n",
      "Collecting opentelemetry-instrumentation-requests~=0.49b0 (from azure-monitor-opentelemetry->azure-ai-ml)\n",
      "  Downloading opentelemetry_instrumentation_requests-0.51b0-py3-none-any.whl.metadata (2.7 kB)\n",
      "Collecting opentelemetry-instrumentation-urllib~=0.49b0 (from azure-monitor-opentelemetry->azure-ai-ml)\n",
      "  Downloading opentelemetry_instrumentation_urllib-0.51b0-py3-none-any.whl.metadata (3.5 kB)\n",
      "Collecting opentelemetry-instrumentation-urllib3~=0.49b0 (from azure-monitor-opentelemetry->azure-ai-ml)\n",
      "  Downloading opentelemetry_instrumentation_urllib3-0.51b0-py3-none-any.whl.metadata (3.5 kB)\n",
      "Collecting opentelemetry-resource-detector-azure~=0.1.4 (from azure-monitor-opentelemetry->azure-ai-ml)\n",
      "  Downloading opentelemetry_resource_detector_azure-0.1.5-py3-none-any.whl.metadata (5.3 kB)\n",
      "Collecting opentelemetry-sdk~=1.28 (from azure-monitor-opentelemetry->azure-ai-ml)\n",
      "  Downloading opentelemetry_sdk-1.30.0-py3-none-any.whl.metadata (1.6 kB)\n",
      "Requirement already satisfied: python-dateutil>=2.6.0 in c:\\users\\agemawat\\appdata\\local\\anaconda3\\envs\\rai\\lib\\site-packages (from strictyaml->azure-ai-ml) (2.9.0.post0)\n",
      "Collecting opentelemetry-api<2.0.0,>=1.12.0 (from azure-core-tracing-opentelemetry~=1.0.0b11->azure-monitor-opentelemetry->azure-ai-ml)\n",
      "  Downloading opentelemetry_api-1.30.0-py3-none-any.whl.metadata (1.6 kB)\n",
      "Collecting fixedint==0.1.6 (from azure-monitor-opentelemetry-exporter~=1.0.0b31->azure-monitor-opentelemetry->azure-ai-ml)\n",
      "  Downloading fixedint-0.1.6-py3-none-any.whl.metadata (4.8 kB)\n",
      "Collecting psutil~=5.9 (from azure-monitor-opentelemetry-exporter~=1.0.0b31->azure-monitor-opentelemetry->azure-ai-ml)\n",
      "  Downloading psutil-5.9.8-cp37-abi3-win_amd64.whl.metadata (22 kB)\n",
      "Collecting cffi>=1.12 (from cryptography>=2.1.4->azure-storage-blob>=12.10.0->azure-ai-ml)\n",
      "  Using cached cffi-1.17.1-cp310-cp310-win_amd64.whl.metadata (1.6 kB)\n",
      "Collecting opentelemetry-instrumentation-wsgi==0.51b0 (from opentelemetry-instrumentation-django~=0.49b0->azure-monitor-opentelemetry->azure-ai-ml)\n",
      "  Downloading opentelemetry_instrumentation_wsgi-0.51b0-py3-none-any.whl.metadata (2.2 kB)\n",
      "Collecting opentelemetry-instrumentation==0.51b0 (from opentelemetry-instrumentation-django~=0.49b0->azure-monitor-opentelemetry->azure-ai-ml)\n",
      "  Downloading opentelemetry_instrumentation-0.51b0-py3-none-any.whl.metadata (6.3 kB)\n",
      "Collecting opentelemetry-semantic-conventions==0.51b0 (from opentelemetry-instrumentation-django~=0.49b0->azure-monitor-opentelemetry->azure-ai-ml)\n",
      "  Downloading opentelemetry_semantic_conventions-0.51b0-py3-none-any.whl.metadata (2.5 kB)\n",
      "Collecting opentelemetry-util-http==0.51b0 (from opentelemetry-instrumentation-django~=0.49b0->azure-monitor-opentelemetry->azure-ai-ml)\n",
      "  Downloading opentelemetry_util_http-0.51b0-py3-none-any.whl.metadata (2.6 kB)\n",
      "Collecting wrapt<2.0.0,>=1.0.0 (from opentelemetry-instrumentation==0.51b0->opentelemetry-instrumentation-django~=0.49b0->azure-monitor-opentelemetry->azure-ai-ml)\n",
      "  Using cached wrapt-1.17.2-cp310-cp310-win_amd64.whl.metadata (6.5 kB)\n",
      "Collecting deprecated>=1.2.6 (from opentelemetry-semantic-conventions==0.51b0->opentelemetry-instrumentation-django~=0.49b0->azure-monitor-opentelemetry->azure-ai-ml)\n",
      "  Using cached Deprecated-1.2.18-py2.py3-none-any.whl.metadata (5.7 kB)\n",
      "Collecting importlib-metadata<=8.5.0,>=6.0 (from opentelemetry-api<2.0.0,>=1.12.0->azure-core-tracing-opentelemetry~=1.0.0b11->azure-monitor-opentelemetry->azure-ai-ml)\n",
      "  Downloading importlib_metadata-8.5.0-py3-none-any.whl.metadata (4.8 kB)\n",
      "Collecting opentelemetry-instrumentation-asgi==0.51b0 (from opentelemetry-instrumentation-fastapi~=0.49b0->azure-monitor-opentelemetry->azure-ai-ml)\n",
      "  Downloading opentelemetry_instrumentation_asgi-0.51b0-py3-none-any.whl.metadata (2.1 kB)\n",
      "Collecting asgiref~=3.0 (from opentelemetry-instrumentation-asgi==0.51b0->opentelemetry-instrumentation-fastapi~=0.49b0->azure-monitor-opentelemetry->azure-ai-ml)\n",
      "  Downloading asgiref-3.8.1-py3-none-any.whl.metadata (9.3 kB)\n",
      "Collecting opentelemetry-instrumentation-dbapi==0.51b0 (from opentelemetry-instrumentation-psycopg2~=0.49b0->azure-monitor-opentelemetry->azure-ai-ml)\n",
      "  Downloading opentelemetry_instrumentation_dbapi-0.51b0-py3-none-any.whl.metadata (2.0 kB)\n",
      "Collecting charset-normalizer<4,>=2 (from requests>=2.21.0->azure-core>=1.23.0->azure-ai-ml)\n",
      "  Using cached charset_normalizer-3.4.1-cp310-cp310-win_amd64.whl.metadata (36 kB)\n",
      "Collecting idna<4,>=2.5 (from requests>=2.21.0->azure-core>=1.23.0->azure-ai-ml)\n",
      "  Using cached idna-3.10-py3-none-any.whl.metadata (10 kB)\n",
      "Collecting urllib3<3,>=1.21.1 (from requests>=2.21.0->azure-core>=1.23.0->azure-ai-ml)\n",
      "  Using cached urllib3-2.3.0-py3-none-any.whl.metadata (6.5 kB)\n",
      "Collecting oauthlib>=3.0.0 (from requests-oauthlib>=0.5.0->msrest>=0.6.18->azure-ai-ml)\n",
      "  Using cached oauthlib-3.2.2-py3-none-any.whl.metadata (7.5 kB)\n",
      "Collecting pycparser (from cffi>=1.12->cryptography>=2.1.4->azure-storage-blob>=12.10.0->azure-ai-ml)\n",
      "  Using cached pycparser-2.22-py3-none-any.whl.metadata (943 bytes)\n",
      "Requirement already satisfied: zipp>=3.20 in c:\\users\\agemawat\\appdata\\local\\anaconda3\\envs\\rai\\lib\\site-packages (from importlib-metadata<=8.5.0,>=6.0->opentelemetry-api<2.0.0,>=1.12.0->azure-core-tracing-opentelemetry~=1.0.0b11->azure-monitor-opentelemetry->azure-ai-ml) (3.21.0)\n",
      "Downloading azure_ai_ml-1.25.0-py3-none-any.whl (12.3 MB)\n",
      "   ---------------------------------------- 0.0/12.3 MB ? eta -:--:--\n",
      "   ---------------------------------------  12.1/12.3 MB 83.7 MB/s eta 0:00:01\n",
      "   ---------------------------------------- 12.3/12.3 MB 59.2 MB/s eta 0:00:00\n",
      "Using cached azure_common-1.1.28-py2.py3-none-any.whl (14 kB)\n",
      "Using cached azure_core-1.32.0-py3-none-any.whl (198 kB)\n",
      "Using cached azure_mgmt_core-1.5.0-py3-none-any.whl (30 kB)\n",
      "Downloading azure_storage_blob-12.24.1-py3-none-any.whl (408 kB)\n",
      "Downloading azure_storage_file_datalake-12.18.1-py3-none-any.whl (258 kB)\n",
      "Using cached isodate-0.7.2-py3-none-any.whl (22 kB)\n",
      "Using cached jsonschema-4.23.0-py3-none-any.whl (88 kB)\n",
      "Downloading marshmallow-3.26.1-py3-none-any.whl (50 kB)\n",
      "Using cached msrest-0.7.1-py3-none-any.whl (85 kB)\n",
      "Downloading pydash-8.0.5-py3-none-any.whl (102 kB)\n",
      "Using cached PyYAML-6.0.2-cp310-cp310-win_amd64.whl (161 kB)\n",
      "Downloading azure_monitor_opentelemetry-1.6.5-py3-none-any.whl (23 kB)\n",
      "Downloading azure_storage_file_share-12.20.1-py3-none-any.whl (286 kB)\n",
      "Using cached PyJWT-2.10.1-py3-none-any.whl (22 kB)\n",
      "Downloading strictyaml-1.7.3-py3-none-any.whl (123 kB)\n",
      "Downloading tqdm-4.67.1-py3-none-any.whl (78 kB)\n",
      "Using cached attrs-25.1.0-py3-none-any.whl (63 kB)\n",
      "Downloading azure_core_tracing_opentelemetry-1.0.0b11-py3-none-any.whl (10 kB)\n",
      "Downloading azure_monitor_opentelemetry_exporter-1.0.0b33-py2.py3-none-any.whl (151 kB)\n",
      "Downloading fixedint-0.1.6-py3-none-any.whl (12 kB)\n",
      "Downloading certifi-2025.1.31-py3-none-any.whl (166 kB)\n",
      "Downloading cryptography-44.0.1-cp39-abi3-win_amd64.whl (3.2 MB)\n",
      "   ---------------------------------------- 0.0/3.2 MB ? eta -:--:--\n",
      "   ---------------------------------------- 3.2/3.2 MB 92.0 MB/s eta 0:00:00\n",
      "Using cached jsonschema_specifications-2024.10.1-py3-none-any.whl (18 kB)\n",
      "Downloading opentelemetry_instrumentation_django-0.51b0-py3-none-any.whl (19 kB)\n",
      "Downloading opentelemetry_instrumentation-0.51b0-py3-none-any.whl (30 kB)\n",
      "Downloading opentelemetry_instrumentation_wsgi-0.51b0-py3-none-any.whl (14 kB)\n",
      "Downloading opentelemetry_semantic_conventions-0.51b0-py3-none-any.whl (177 kB)\n",
      "Downloading opentelemetry_api-1.30.0-py3-none-any.whl (64 kB)\n",
      "Downloading opentelemetry_util_http-0.51b0-py3-none-any.whl (7.3 kB)\n",
      "Downloading opentelemetry_instrumentation_fastapi-0.51b0-py3-none-any.whl (12 kB)\n",
      "Downloading opentelemetry_instrumentation_asgi-0.51b0-py3-none-any.whl (16 kB)\n",
      "Downloading opentelemetry_instrumentation_flask-0.51b0-py3-none-any.whl (14 kB)\n",
      "Downloading opentelemetry_instrumentation_psycopg2-0.51b0-py3-none-any.whl (10 kB)\n",
      "Downloading opentelemetry_instrumentation_dbapi-0.51b0-py3-none-any.whl (12 kB)\n",
      "Downloading opentelemetry_instrumentation_requests-0.51b0-py3-none-any.whl (12 kB)\n",
      "Downloading opentelemetry_instrumentation_urllib-0.51b0-py3-none-any.whl (12 kB)\n",
      "Downloading opentelemetry_instrumentation_urllib3-0.51b0-py3-none-any.whl (12 kB)\n",
      "Downloading opentelemetry_resource_detector_azure-0.1.5-py3-none-any.whl (14 kB)\n",
      "Downloading opentelemetry_sdk-1.30.0-py3-none-any.whl (118 kB)\n",
      "Using cached referencing-0.36.2-py3-none-any.whl (26 kB)\n",
      "Using cached requests-2.32.3-py3-none-any.whl (64 kB)\n",
      "Using cached requests_oauthlib-2.0.0-py2.py3-none-any.whl (24 kB)\n",
      "Downloading rpds_py-0.23.1-cp310-cp310-win_amd64.whl (232 kB)\n",
      "Using cached cffi-1.17.1-cp310-cp310-win_amd64.whl (181 kB)\n",
      "Using cached charset_normalizer-3.4.1-cp310-cp310-win_amd64.whl (102 kB)\n",
      "Using cached idna-3.10-py3-none-any.whl (70 kB)\n",
      "Using cached oauthlib-3.2.2-py3-none-any.whl (151 kB)\n",
      "Downloading psutil-5.9.8-cp37-abi3-win_amd64.whl (255 kB)\n",
      "Using cached urllib3-2.3.0-py3-none-any.whl (128 kB)\n",
      "Using cached wrapt-1.17.2-cp310-cp310-win_amd64.whl (38 kB)\n",
      "Downloading asgiref-3.8.1-py3-none-any.whl (23 kB)\n",
      "Using cached Deprecated-1.2.18-py2.py3-none-any.whl (10.0 kB)\n",
      "Downloading importlib_metadata-8.5.0-py3-none-any.whl (26 kB)\n",
      "Using cached pycparser-2.22-py3-none-any.whl (117 kB)\n",
      "Installing collected packages: fixedint, azure-common, wrapt, urllib3, tqdm, rpds-py, pyyaml, pyjwt, pydash, pycparser, psutil, opentelemetry-util-http, oauthlib, marshmallow, isodate, importlib-metadata, idna, charset-normalizer, certifi, attrs, asgiref, strictyaml, requests, referencing, deprecated, cffi, requests-oauthlib, opentelemetry-api, jsonschema-specifications, cryptography, azure-core, opentelemetry-semantic-conventions, msrest, jsonschema, azure-storage-file-share, azure-storage-blob, azure-mgmt-core, azure-core-tracing-opentelemetry, opentelemetry-sdk, opentelemetry-instrumentation, azure-storage-file-datalake, opentelemetry-resource-detector-azure, opentelemetry-instrumentation-wsgi, opentelemetry-instrumentation-urllib3, opentelemetry-instrumentation-urllib, opentelemetry-instrumentation-requests, opentelemetry-instrumentation-dbapi, opentelemetry-instrumentation-asgi, azure-monitor-opentelemetry-exporter, opentelemetry-instrumentation-psycopg2, opentelemetry-instrumentation-flask, opentelemetry-instrumentation-fastapi, opentelemetry-instrumentation-django, azure-monitor-opentelemetry, azure-ai-ml\n",
      "  Attempting uninstall: psutil\n",
      "    Found existing installation: psutil 6.1.1\n",
      "    Uninstalling psutil-6.1.1:\n",
      "      Successfully uninstalled psutil-6.1.1\n",
      "  Attempting uninstall: importlib-metadata\n",
      "    Found existing installation: importlib_metadata 8.6.1\n",
      "    Uninstalling importlib_metadata-8.6.1:\n",
      "      Successfully uninstalled importlib_metadata-8.6.1\n",
      "Successfully installed asgiref-3.8.1 attrs-25.1.0 azure-ai-ml-1.25.0 azure-common-1.1.28 azure-core-1.32.0 azure-core-tracing-opentelemetry-1.0.0b11 azure-mgmt-core-1.5.0 azure-monitor-opentelemetry-1.6.5 azure-monitor-opentelemetry-exporter-1.0.0b33 azure-storage-blob-12.24.1 azure-storage-file-datalake-12.18.1 azure-storage-file-share-12.20.1 certifi-2025.1.31 cffi-1.17.1 charset-normalizer-3.4.1 cryptography-44.0.1 deprecated-1.2.18 fixedint-0.1.6 idna-3.10 importlib-metadata-8.5.0 isodate-0.7.2 jsonschema-4.23.0 jsonschema-specifications-2024.10.1 marshmallow-3.26.1 msrest-0.7.1 oauthlib-3.2.2 opentelemetry-api-1.30.0 opentelemetry-instrumentation-0.51b0 opentelemetry-instrumentation-asgi-0.51b0 opentelemetry-instrumentation-dbapi-0.51b0 opentelemetry-instrumentation-django-0.51b0 opentelemetry-instrumentation-fastapi-0.51b0 opentelemetry-instrumentation-flask-0.51b0 opentelemetry-instrumentation-psycopg2-0.51b0 opentelemetry-instrumentation-requests-0.51b0 opentelemetry-instrumentation-urllib-0.51b0 opentelemetry-instrumentation-urllib3-0.51b0 opentelemetry-instrumentation-wsgi-0.51b0 opentelemetry-resource-detector-azure-0.1.5 opentelemetry-sdk-1.30.0 opentelemetry-semantic-conventions-0.51b0 opentelemetry-util-http-0.51b0 psutil-5.9.8 pycparser-2.22 pydash-8.0.5 pyjwt-2.10.1 pyyaml-6.0.2 referencing-0.36.2 requests-2.32.3 requests-oauthlib-2.0.0 rpds-py-0.23.1 strictyaml-1.7.3 tqdm-4.67.1 urllib3-2.3.0 wrapt-1.17.2\n",
      "Collecting raiutilsNote: you may need to restart the kernel to use updated packages.\n",
      "\n",
      "  Downloading raiutils-0.4.2-py3-none-any.whl.metadata (1.4 kB)\n",
      "Collecting numpy (from raiutils)\n",
      "  Downloading numpy-2.2.3-cp310-cp310-win_amd64.whl.metadata (60 kB)\n",
      "Collecting pandas (from raiutils)\n",
      "  Downloading pandas-2.2.3-cp310-cp310-win_amd64.whl.metadata (19 kB)\n",
      "Requirement already satisfied: requests in c:\\users\\agemawat\\appdata\\local\\anaconda3\\envs\\rai\\lib\\site-packages (from raiutils) (2.32.3)\n",
      "Collecting scikit-learn (from raiutils)\n",
      "  Downloading scikit_learn-1.6.1-cp310-cp310-win_amd64.whl.metadata (15 kB)\n",
      "Collecting scipy (from raiutils)\n",
      "  Downloading scipy-1.15.2-cp310-cp310-win_amd64.whl.metadata (60 kB)\n",
      "Requirement already satisfied: python-dateutil>=2.8.2 in c:\\users\\agemawat\\appdata\\local\\anaconda3\\envs\\rai\\lib\\site-packages (from pandas->raiutils) (2.9.0.post0)\n",
      "Collecting pytz>=2020.1 (from pandas->raiutils)\n",
      "  Downloading pytz-2025.1-py2.py3-none-any.whl.metadata (22 kB)\n",
      "Collecting tzdata>=2022.7 (from pandas->raiutils)\n",
      "  Downloading tzdata-2025.1-py2.py3-none-any.whl.metadata (1.4 kB)\n",
      "Requirement already satisfied: charset-normalizer<4,>=2 in c:\\users\\agemawat\\appdata\\local\\anaconda3\\envs\\rai\\lib\\site-packages (from requests->raiutils) (3.4.1)\n",
      "Requirement already satisfied: idna<4,>=2.5 in c:\\users\\agemawat\\appdata\\local\\anaconda3\\envs\\rai\\lib\\site-packages (from requests->raiutils) (3.10)\n",
      "Requirement already satisfied: urllib3<3,>=1.21.1 in c:\\users\\agemawat\\appdata\\local\\anaconda3\\envs\\rai\\lib\\site-packages (from requests->raiutils) (2.3.0)\n",
      "Requirement already satisfied: certifi>=2017.4.17 in c:\\users\\agemawat\\appdata\\local\\anaconda3\\envs\\rai\\lib\\site-packages (from requests->raiutils) (2025.1.31)\n",
      "Collecting joblib>=1.2.0 (from scikit-learn->raiutils)\n",
      "  Downloading joblib-1.4.2-py3-none-any.whl.metadata (5.4 kB)\n",
      "Collecting threadpoolctl>=3.1.0 (from scikit-learn->raiutils)\n",
      "  Downloading threadpoolctl-3.5.0-py3-none-any.whl.metadata (13 kB)\n",
      "Requirement already satisfied: six>=1.5 in c:\\users\\agemawat\\appdata\\local\\anaconda3\\envs\\rai\\lib\\site-packages (from python-dateutil>=2.8.2->pandas->raiutils) (1.17.0)\n",
      "Downloading raiutils-0.4.2-py3-none-any.whl (17 kB)\n",
      "Downloading numpy-2.2.3-cp310-cp310-win_amd64.whl (12.9 MB)\n",
      "   ---------------------------------------- 0.0/12.9 MB ? eta -:--:--\n",
      "   ---------------------------------------- 12.9/12.9 MB 89.8 MB/s eta 0:00:00\n",
      "Downloading pandas-2.2.3-cp310-cp310-win_amd64.whl (11.6 MB)\n",
      "   ---------------------------------------- 0.0/11.6 MB ? eta -:--:--\n",
      "   ---------------------------------------- 11.6/11.6 MB 90.7 MB/s eta 0:00:00\n",
      "Downloading scikit_learn-1.6.1-cp310-cp310-win_amd64.whl (11.1 MB)\n",
      "   ---------------------------------------- 0.0/11.1 MB ? eta -:--:--\n",
      "   ---------------------------------------- 11.1/11.1 MB 86.9 MB/s eta 0:00:00\n",
      "Downloading scipy-1.15.2-cp310-cp310-win_amd64.whl (41.2 MB)\n",
      "   ---------------------------------------- 0.0/41.2 MB ? eta -:--:--\n",
      "   ----------------------- ---------------- 24.1/41.2 MB 127.6 MB/s eta 0:00:01\n",
      "   ---------------------------------------  41.2/41.2 MB 119.2 MB/s eta 0:00:01\n",
      "   ---------------------------------------- 41.2/41.2 MB 93.8 MB/s eta 0:00:00\n",
      "Downloading joblib-1.4.2-py3-none-any.whl (301 kB)\n",
      "Downloading pytz-2025.1-py2.py3-none-any.whl (507 kB)\n",
      "Downloading threadpoolctl-3.5.0-py3-none-any.whl (18 kB)\n",
      "Downloading tzdata-2025.1-py2.py3-none-any.whl (346 kB)\n",
      "Installing collected packages: pytz, tzdata, threadpoolctl, numpy, joblib, scipy, pandas, scikit-learn, raiutils\n",
      "Successfully installed joblib-1.4.2 numpy-2.2.3 pandas-2.2.3 pytz-2025.1 raiutils-0.4.2 scikit-learn-1.6.1 scipy-1.15.2 threadpoolctl-3.5.0 tzdata-2025.1\n",
      "Collecting azureml-rai-utilsNote: you may need to restart the kernel to use updated packages.\n",
      "\n",
      "  Downloading azureml_rai_utils-0.0.6-py3-none-any.whl.metadata (2.6 kB)\n",
      "Requirement already satisfied: azure-ai-ml in c:\\users\\agemawat\\appdata\\local\\anaconda3\\envs\\rai\\lib\\site-packages (from azureml-rai-utils) (1.25.0)\n",
      "Collecting azure-identity (from azureml-rai-utils)\n",
      "  Downloading azure_identity-1.20.0-py3-none-any.whl.metadata (81 kB)\n",
      "Collecting mlflow (from azureml-rai-utils)\n",
      "  Downloading mlflow-2.20.2-py3-none-any.whl.metadata (30 kB)\n",
      "Collecting azureml-mlflow (from azureml-rai-utils)\n",
      "  Downloading azureml_mlflow-1.59.0.post1-py3-none-any.whl.metadata (2.6 kB)\n",
      "Collecting mltable (from azureml-rai-utils)\n",
      "  Downloading mltable-1.6.1-py3-none-any.whl.metadata (4.8 kB)\n",
      "Requirement already satisfied: raiutils in c:\\users\\agemawat\\appdata\\local\\anaconda3\\envs\\rai\\lib\\site-packages (from azureml-rai-utils) (0.4.2)\n",
      "Requirement already satisfied: pyyaml>=5.1.0 in c:\\users\\agemawat\\appdata\\local\\anaconda3\\envs\\rai\\lib\\site-packages (from azure-ai-ml->azureml-rai-utils) (6.0.2)\n",
      "Requirement already satisfied: msrest>=0.6.18 in c:\\users\\agemawat\\appdata\\local\\anaconda3\\envs\\rai\\lib\\site-packages (from azure-ai-ml->azureml-rai-utils) (0.7.1)\n",
      "Requirement already satisfied: azure-core>=1.23.0 in c:\\users\\agemawat\\appdata\\local\\anaconda3\\envs\\rai\\lib\\site-packages (from azure-ai-ml->azureml-rai-utils) (1.32.0)\n",
      "Requirement already satisfied: azure-mgmt-core>=1.3.0 in c:\\users\\agemawat\\appdata\\local\\anaconda3\\envs\\rai\\lib\\site-packages (from azure-ai-ml->azureml-rai-utils) (1.5.0)\n",
      "Requirement already satisfied: marshmallow>=3.5 in c:\\users\\agemawat\\appdata\\local\\anaconda3\\envs\\rai\\lib\\site-packages (from azure-ai-ml->azureml-rai-utils) (3.26.1)\n",
      "Requirement already satisfied: jsonschema>=4.0.0 in c:\\users\\agemawat\\appdata\\local\\anaconda3\\envs\\rai\\lib\\site-packages (from azure-ai-ml->azureml-rai-utils) (4.23.0)\n",
      "Requirement already satisfied: tqdm in c:\\users\\agemawat\\appdata\\local\\anaconda3\\envs\\rai\\lib\\site-packages (from azure-ai-ml->azureml-rai-utils) (4.67.1)\n",
      "Requirement already satisfied: strictyaml in c:\\users\\agemawat\\appdata\\local\\anaconda3\\envs\\rai\\lib\\site-packages (from azure-ai-ml->azureml-rai-utils) (1.7.3)\n",
      "Requirement already satisfied: colorama in c:\\users\\agemawat\\appdata\\local\\anaconda3\\envs\\rai\\lib\\site-packages (from azure-ai-ml->azureml-rai-utils) (0.4.6)\n",
      "Requirement already satisfied: pyjwt in c:\\users\\agemawat\\appdata\\local\\anaconda3\\envs\\rai\\lib\\site-packages (from azure-ai-ml->azureml-rai-utils) (2.10.1)\n",
      "Requirement already satisfied: azure-storage-blob>=12.10.0 in c:\\users\\agemawat\\appdata\\local\\anaconda3\\envs\\rai\\lib\\site-packages (from azure-ai-ml->azureml-rai-utils) (12.24.1)\n",
      "Requirement already satisfied: azure-storage-file-share in c:\\users\\agemawat\\appdata\\local\\anaconda3\\envs\\rai\\lib\\site-packages (from azure-ai-ml->azureml-rai-utils) (12.20.1)\n",
      "Requirement already satisfied: azure-storage-file-datalake>=12.2.0 in c:\\users\\agemawat\\appdata\\local\\anaconda3\\envs\\rai\\lib\\site-packages (from azure-ai-ml->azureml-rai-utils) (12.18.1)\n",
      "Requirement already satisfied: pydash>=6.0.0 in c:\\users\\agemawat\\appdata\\local\\anaconda3\\envs\\rai\\lib\\site-packages (from azure-ai-ml->azureml-rai-utils) (8.0.5)\n",
      "Requirement already satisfied: isodate in c:\\users\\agemawat\\appdata\\local\\anaconda3\\envs\\rai\\lib\\site-packages (from azure-ai-ml->azureml-rai-utils) (0.7.2)\n",
      "Requirement already satisfied: azure-common>=1.1 in c:\\users\\agemawat\\appdata\\local\\anaconda3\\envs\\rai\\lib\\site-packages (from azure-ai-ml->azureml-rai-utils) (1.1.28)\n",
      "Requirement already satisfied: typing-extensions in c:\\users\\agemawat\\appdata\\local\\anaconda3\\envs\\rai\\lib\\site-packages (from azure-ai-ml->azureml-rai-utils) (4.12.2)\n",
      "Requirement already satisfied: azure-monitor-opentelemetry in c:\\users\\agemawat\\appdata\\local\\anaconda3\\envs\\rai\\lib\\site-packages (from azure-ai-ml->azureml-rai-utils) (1.6.5)\n",
      "Requirement already satisfied: cryptography>=2.5 in c:\\users\\agemawat\\appdata\\local\\anaconda3\\envs\\rai\\lib\\site-packages (from azure-identity->azureml-rai-utils) (44.0.1)\n",
      "Collecting msal>=1.30.0 (from azure-identity->azureml-rai-utils)\n",
      "  Using cached msal-1.31.1-py3-none-any.whl.metadata (11 kB)\n",
      "Collecting msal-extensions>=1.2.0 (from azure-identity->azureml-rai-utils)\n",
      "  Using cached msal_extensions-1.2.0-py3-none-any.whl.metadata (7.6 kB)\n",
      "Collecting jsonpickle (from azureml-mlflow->azureml-rai-utils)\n",
      "  Downloading jsonpickle-4.0.2-py3-none-any.whl.metadata (8.2 kB)\n",
      "Collecting mlflow-skinny (from azureml-mlflow->azureml-rai-utils)\n",
      "  Downloading mlflow_skinny-2.20.2-py3-none-any.whl.metadata (31 kB)\n",
      "Collecting azure-storage-blob>=12.10.0 (from azure-ai-ml->azureml-rai-utils)\n",
      "  Downloading azure_storage_blob-12.19.0-py3-none-any.whl.metadata (26 kB)\n",
      "Requirement already satisfied: python-dateutil<3.0.0,>=2.7.3 in c:\\users\\agemawat\\appdata\\local\\anaconda3\\envs\\rai\\lib\\site-packages (from azureml-mlflow->azureml-rai-utils) (2.9.0.post0)\n",
      "Collecting protobuf<=5.28.3 (from azureml-mlflow->azureml-rai-utils)\n",
      "  Downloading protobuf-5.28.3-cp310-abi3-win_amd64.whl.metadata (592 bytes)\n",
      "Requirement already satisfied: pytz in c:\\users\\agemawat\\appdata\\local\\anaconda3\\envs\\rai\\lib\\site-packages (from azureml-mlflow->azureml-rai-utils) (2025.1)\n",
      "Collecting Flask<4 (from mlflow->azureml-rai-utils)\n",
      "  Downloading flask-3.1.0-py3-none-any.whl.metadata (2.7 kB)\n",
      "Collecting Jinja2<4,>=3.0 (from mlflow->azureml-rai-utils)\n",
      "  Using cached jinja2-3.1.5-py3-none-any.whl.metadata (2.6 kB)\n",
      "Collecting alembic!=1.10.0,<2 (from mlflow->azureml-rai-utils)\n",
      "  Downloading alembic-1.14.1-py3-none-any.whl.metadata (7.4 kB)\n",
      "Collecting docker<8,>=4.0.0 (from mlflow->azureml-rai-utils)\n",
      "  Using cached docker-7.1.0-py3-none-any.whl.metadata (3.8 kB)\n",
      "Collecting graphene<4 (from mlflow->azureml-rai-utils)\n",
      "  Downloading graphene-3.4.3-py2.py3-none-any.whl.metadata (6.9 kB)\n",
      "Collecting markdown<4,>=3.3 (from mlflow->azureml-rai-utils)\n",
      "  Downloading Markdown-3.7-py3-none-any.whl.metadata (7.0 kB)\n",
      "Collecting matplotlib<4 (from mlflow->azureml-rai-utils)\n",
      "  Downloading matplotlib-3.10.0-cp310-cp310-win_amd64.whl.metadata (11 kB)\n",
      "Requirement already satisfied: numpy<3 in c:\\users\\agemawat\\appdata\\local\\anaconda3\\envs\\rai\\lib\\site-packages (from mlflow->azureml-rai-utils) (2.2.3)\n",
      "Requirement already satisfied: pandas<3 in c:\\users\\agemawat\\appdata\\local\\anaconda3\\envs\\rai\\lib\\site-packages (from mlflow->azureml-rai-utils) (2.2.3)\n",
      "Collecting pyarrow<19,>=4.0.0 (from mlflow->azureml-rai-utils)\n",
      "  Downloading pyarrow-18.1.0-cp310-cp310-win_amd64.whl.metadata (3.4 kB)\n",
      "Requirement already satisfied: scikit-learn<2 in c:\\users\\agemawat\\appdata\\local\\anaconda3\\envs\\rai\\lib\\site-packages (from mlflow->azureml-rai-utils) (1.6.1)\n",
      "Requirement already satisfied: scipy<2 in c:\\users\\agemawat\\appdata\\local\\anaconda3\\envs\\rai\\lib\\site-packages (from mlflow->azureml-rai-utils) (1.15.2)\n",
      "Collecting sqlalchemy<3,>=1.4.0 (from mlflow->azureml-rai-utils)\n",
      "  Downloading SQLAlchemy-2.0.38-cp310-cp310-win_amd64.whl.metadata (9.9 kB)\n",
      "Collecting waitress<4 (from mlflow->azureml-rai-utils)\n",
      "  Downloading waitress-3.0.2-py3-none-any.whl.metadata (5.8 kB)\n",
      "Collecting cachetools<6,>=5.0.0 (from mlflow-skinny->azureml-mlflow->azureml-rai-utils)\n",
      "  Downloading cachetools-5.5.2-py3-none-any.whl.metadata (5.4 kB)\n",
      "Collecting click<9,>=7.0 (from mlflow-skinny->azureml-mlflow->azureml-rai-utils)\n",
      "  Downloading click-8.1.8-py3-none-any.whl.metadata (2.3 kB)\n",
      "Collecting cloudpickle<4 (from mlflow-skinny->azureml-mlflow->azureml-rai-utils)\n",
      "  Downloading cloudpickle-3.1.1-py3-none-any.whl.metadata (7.1 kB)\n",
      "Collecting databricks-sdk<1,>=0.20.0 (from mlflow-skinny->azureml-mlflow->azureml-rai-utils)\n",
      "  Downloading databricks_sdk-0.44.1-py3-none-any.whl.metadata (38 kB)\n",
      "Collecting gitpython<4,>=3.1.9 (from mlflow-skinny->azureml-mlflow->azureml-rai-utils)\n",
      "  Downloading GitPython-3.1.44-py3-none-any.whl.metadata (13 kB)\n",
      "Requirement already satisfied: importlib_metadata!=4.7.0,<9,>=3.7.0 in c:\\users\\agemawat\\appdata\\local\\anaconda3\\envs\\rai\\lib\\site-packages (from mlflow-skinny->azureml-mlflow->azureml-rai-utils) (8.5.0)\n",
      "Requirement already satisfied: opentelemetry-api<3,>=1.9.0 in c:\\users\\agemawat\\appdata\\local\\anaconda3\\envs\\rai\\lib\\site-packages (from mlflow-skinny->azureml-mlflow->azureml-rai-utils) (1.30.0)\n",
      "Requirement already satisfied: opentelemetry-sdk<3,>=1.9.0 in c:\\users\\agemawat\\appdata\\local\\anaconda3\\envs\\rai\\lib\\site-packages (from mlflow-skinny->azureml-mlflow->azureml-rai-utils) (1.30.0)\n",
      "Requirement already satisfied: packaging<25 in c:\\users\\agemawat\\appdata\\local\\anaconda3\\envs\\rai\\lib\\site-packages (from mlflow-skinny->azureml-mlflow->azureml-rai-utils) (24.2)\n",
      "Collecting pydantic<3,>=1.10.8 (from mlflow-skinny->azureml-mlflow->azureml-rai-utils)\n",
      "  Downloading pydantic-2.10.6-py3-none-any.whl.metadata (30 kB)\n",
      "Requirement already satisfied: requests<3,>=2.17.3 in c:\\users\\agemawat\\appdata\\local\\anaconda3\\envs\\rai\\lib\\site-packages (from mlflow-skinny->azureml-mlflow->azureml-rai-utils) (2.32.3)\n",
      "Collecting sqlparse<1,>=0.4.0 (from mlflow-skinny->azureml-mlflow->azureml-rai-utils)\n",
      "  Downloading sqlparse-0.5.3-py3-none-any.whl.metadata (3.9 kB)\n",
      "Collecting azureml-dataprep<5.2.0a,>=5.1.0a (from azureml-dataprep[parquet]<5.2.0a,>=5.1.0a->mltable->azureml-rai-utils)\n",
      "  Downloading azureml_dataprep-5.1.6-py3-none-any.whl.metadata (2.2 kB)\n",
      "Collecting Mako (from alembic!=1.10.0,<2->mlflow->azureml-rai-utils)\n",
      "  Downloading Mako-1.3.9-py3-none-any.whl.metadata (2.9 kB)\n",
      "Requirement already satisfied: six>=1.11.0 in c:\\users\\agemawat\\appdata\\local\\anaconda3\\envs\\rai\\lib\\site-packages (from azure-core>=1.23.0->azure-ai-ml->azureml-rai-utils) (1.17.0)\n",
      "INFO: pip is looking at multiple versions of azure-storage-file-datalake to determine which version is compatible with other requirements. This could take a while.\n",
      "Collecting azure-storage-file-datalake>=12.2.0 (from azure-ai-ml->azureml-rai-utils)\n",
      "  Downloading azure_storage_file_datalake-12.18.0-py3-none-any.whl.metadata (16 kB)\n",
      "  Downloading azure_storage_file_datalake-12.17.0-py3-none-any.whl.metadata (16 kB)\n",
      "  Downloading azure_storage_file_datalake-12.16.0-py3-none-any.whl.metadata (15 kB)\n",
      "  Downloading azure_storage_file_datalake-12.15.0-py3-none-any.whl.metadata (15 kB)\n",
      "  Downloading azure_storage_file_datalake-12.14.0-py3-none-any.whl.metadata (15 kB)\n",
      "Collecting azureml-dataprep-native<42.0.0,>=41.0.0 (from azureml-dataprep<5.2.0a,>=5.1.0a->azureml-dataprep[parquet]<5.2.0a,>=5.1.0a->mltable->azureml-rai-utils)\n",
      "  Downloading azureml_dataprep_native-41.0.0-cp310-cp310-win_amd64.whl.metadata (1.4 kB)\n",
      "Collecting azureml-dataprep-rslex~=2.22.2dev0 (from azureml-dataprep<5.2.0a,>=5.1.0a->azureml-dataprep[parquet]<5.2.0a,>=5.1.0a->mltable->azureml-rai-utils)\n",
      "  Downloading azureml_dataprep_rslex-2.22.5-cp310-cp310-win_amd64.whl.metadata (1.7 kB)\n",
      "Collecting cloudpickle<4 (from mlflow-skinny->azureml-mlflow->azureml-rai-utils)\n",
      "  Downloading cloudpickle-2.2.1-py3-none-any.whl.metadata (6.9 kB)\n",
      "Requirement already satisfied: cffi>=1.12 in c:\\users\\agemawat\\appdata\\local\\anaconda3\\envs\\rai\\lib\\site-packages (from cryptography>=2.5->azure-identity->azureml-rai-utils) (1.17.1)\n",
      "Requirement already satisfied: pywin32>=304 in c:\\users\\agemawat\\appdata\\local\\anaconda3\\envs\\rai\\lib\\site-packages (from docker<8,>=4.0.0->mlflow->azureml-rai-utils) (307)\n",
      "Requirement already satisfied: urllib3>=1.26.0 in c:\\users\\agemawat\\appdata\\local\\anaconda3\\envs\\rai\\lib\\site-packages (from docker<8,>=4.0.0->mlflow->azureml-rai-utils) (2.3.0)\n",
      "Collecting Werkzeug>=3.1 (from Flask<4->mlflow->azureml-rai-utils)\n",
      "  Downloading werkzeug-3.1.3-py3-none-any.whl.metadata (3.7 kB)\n",
      "Collecting itsdangerous>=2.2 (from Flask<4->mlflow->azureml-rai-utils)\n",
      "  Downloading itsdangerous-2.2.0-py3-none-any.whl.metadata (1.9 kB)\n",
      "Collecting blinker>=1.9 (from Flask<4->mlflow->azureml-rai-utils)\n",
      "  Downloading blinker-1.9.0-py3-none-any.whl.metadata (1.6 kB)\n",
      "Collecting graphql-core<3.3,>=3.1 (from graphene<4->mlflow->azureml-rai-utils)\n",
      "  Downloading graphql_core-3.2.6-py3-none-any.whl.metadata (11 kB)\n",
      "Collecting graphql-relay<3.3,>=3.1 (from graphene<4->mlflow->azureml-rai-utils)\n",
      "  Downloading graphql_relay-3.2.0-py3-none-any.whl.metadata (12 kB)\n",
      "Collecting MarkupSafe>=2.0 (from Jinja2<4,>=3.0->mlflow->azureml-rai-utils)\n",
      "  Using cached MarkupSafe-3.0.2-cp310-cp310-win_amd64.whl.metadata (4.1 kB)\n",
      "Requirement already satisfied: attrs>=22.2.0 in c:\\users\\agemawat\\appdata\\local\\anaconda3\\envs\\rai\\lib\\site-packages (from jsonschema>=4.0.0->azure-ai-ml->azureml-rai-utils) (25.1.0)\n",
      "Requirement already satisfied: jsonschema-specifications>=2023.03.6 in c:\\users\\agemawat\\appdata\\local\\anaconda3\\envs\\rai\\lib\\site-packages (from jsonschema>=4.0.0->azure-ai-ml->azureml-rai-utils) (2024.10.1)\n",
      "Requirement already satisfied: referencing>=0.28.4 in c:\\users\\agemawat\\appdata\\local\\anaconda3\\envs\\rai\\lib\\site-packages (from jsonschema>=4.0.0->azure-ai-ml->azureml-rai-utils) (0.36.2)\n",
      "Requirement already satisfied: rpds-py>=0.7.1 in c:\\users\\agemawat\\appdata\\local\\anaconda3\\envs\\rai\\lib\\site-packages (from jsonschema>=4.0.0->azure-ai-ml->azureml-rai-utils) (0.23.1)\n",
      "Collecting contourpy>=1.0.1 (from matplotlib<4->mlflow->azureml-rai-utils)\n",
      "  Downloading contourpy-1.3.1-cp310-cp310-win_amd64.whl.metadata (5.4 kB)\n",
      "Collecting cycler>=0.10 (from matplotlib<4->mlflow->azureml-rai-utils)\n",
      "  Downloading cycler-0.12.1-py3-none-any.whl.metadata (3.8 kB)\n",
      "Collecting fonttools>=4.22.0 (from matplotlib<4->mlflow->azureml-rai-utils)\n",
      "  Downloading fonttools-4.56.0-cp310-cp310-win_amd64.whl.metadata (103 kB)\n",
      "Collecting kiwisolver>=1.3.1 (from matplotlib<4->mlflow->azureml-rai-utils)\n",
      "  Downloading kiwisolver-1.4.8-cp310-cp310-win_amd64.whl.metadata (6.3 kB)\n",
      "Collecting pillow>=8 (from matplotlib<4->mlflow->azureml-rai-utils)\n",
      "  Downloading pillow-11.1.0-cp310-cp310-win_amd64.whl.metadata (9.3 kB)\n",
      "Collecting pyparsing>=2.3.1 (from matplotlib<4->mlflow->azureml-rai-utils)\n",
      "  Downloading pyparsing-3.2.1-py3-none-any.whl.metadata (5.0 kB)\n",
      "Collecting portalocker<3,>=1.4 (from msal-extensions>=1.2.0->azure-identity->azureml-rai-utils)\n",
      "  Using cached portalocker-2.10.1-py3-none-any.whl.metadata (8.5 kB)\n",
      "Requirement already satisfied: certifi>=2017.4.17 in c:\\users\\agemawat\\appdata\\local\\anaconda3\\envs\\rai\\lib\\site-packages (from msrest>=0.6.18->azure-ai-ml->azureml-rai-utils) (2025.1.31)\n",
      "Requirement already satisfied: requests-oauthlib>=0.5.0 in c:\\users\\agemawat\\appdata\\local\\anaconda3\\envs\\rai\\lib\\site-packages (from msrest>=0.6.18->azure-ai-ml->azureml-rai-utils) (2.0.0)\n",
      "Requirement already satisfied: tzdata>=2022.7 in c:\\users\\agemawat\\appdata\\local\\anaconda3\\envs\\rai\\lib\\site-packages (from pandas<3->mlflow->azureml-rai-utils) (2025.1)\n",
      "Requirement already satisfied: charset-normalizer<4,>=2 in c:\\users\\agemawat\\appdata\\local\\anaconda3\\envs\\rai\\lib\\site-packages (from requests<3,>=2.17.3->mlflow-skinny->azureml-mlflow->azureml-rai-utils) (3.4.1)\n",
      "Requirement already satisfied: idna<4,>=2.5 in c:\\users\\agemawat\\appdata\\local\\anaconda3\\envs\\rai\\lib\\site-packages (from requests<3,>=2.17.3->mlflow-skinny->azureml-mlflow->azureml-rai-utils) (3.10)\n",
      "Requirement already satisfied: joblib>=1.2.0 in c:\\users\\agemawat\\appdata\\local\\anaconda3\\envs\\rai\\lib\\site-packages (from scikit-learn<2->mlflow->azureml-rai-utils) (1.4.2)\n",
      "Requirement already satisfied: threadpoolctl>=3.1.0 in c:\\users\\agemawat\\appdata\\local\\anaconda3\\envs\\rai\\lib\\site-packages (from scikit-learn<2->mlflow->azureml-rai-utils) (3.5.0)\n",
      "Collecting greenlet!=0.4.17 (from sqlalchemy<3,>=1.4.0->mlflow->azureml-rai-utils)\n",
      "  Downloading greenlet-3.1.1-cp310-cp310-win_amd64.whl.metadata (3.9 kB)\n",
      "Requirement already satisfied: azure-core-tracing-opentelemetry~=1.0.0b11 in c:\\users\\agemawat\\appdata\\local\\anaconda3\\envs\\rai\\lib\\site-packages (from azure-monitor-opentelemetry->azure-ai-ml->azureml-rai-utils) (1.0.0b11)\n",
      "Requirement already satisfied: azure-monitor-opentelemetry-exporter~=1.0.0b31 in c:\\users\\agemawat\\appdata\\local\\anaconda3\\envs\\rai\\lib\\site-packages (from azure-monitor-opentelemetry->azure-ai-ml->azureml-rai-utils) (1.0.0b33)\n",
      "Requirement already satisfied: opentelemetry-instrumentation-django~=0.49b0 in c:\\users\\agemawat\\appdata\\local\\anaconda3\\envs\\rai\\lib\\site-packages (from azure-monitor-opentelemetry->azure-ai-ml->azureml-rai-utils) (0.51b0)\n",
      "Requirement already satisfied: opentelemetry-instrumentation-fastapi~=0.49b0 in c:\\users\\agemawat\\appdata\\local\\anaconda3\\envs\\rai\\lib\\site-packages (from azure-monitor-opentelemetry->azure-ai-ml->azureml-rai-utils) (0.51b0)\n",
      "Requirement already satisfied: opentelemetry-instrumentation-flask~=0.49b0 in c:\\users\\agemawat\\appdata\\local\\anaconda3\\envs\\rai\\lib\\site-packages (from azure-monitor-opentelemetry->azure-ai-ml->azureml-rai-utils) (0.51b0)\n",
      "Requirement already satisfied: opentelemetry-instrumentation-psycopg2~=0.49b0 in c:\\users\\agemawat\\appdata\\local\\anaconda3\\envs\\rai\\lib\\site-packages (from azure-monitor-opentelemetry->azure-ai-ml->azureml-rai-utils) (0.51b0)\n",
      "Requirement already satisfied: opentelemetry-instrumentation-requests~=0.49b0 in c:\\users\\agemawat\\appdata\\local\\anaconda3\\envs\\rai\\lib\\site-packages (from azure-monitor-opentelemetry->azure-ai-ml->azureml-rai-utils) (0.51b0)\n",
      "Requirement already satisfied: opentelemetry-instrumentation-urllib~=0.49b0 in c:\\users\\agemawat\\appdata\\local\\anaconda3\\envs\\rai\\lib\\site-packages (from azure-monitor-opentelemetry->azure-ai-ml->azureml-rai-utils) (0.51b0)\n",
      "Requirement already satisfied: opentelemetry-instrumentation-urllib3~=0.49b0 in c:\\users\\agemawat\\appdata\\local\\anaconda3\\envs\\rai\\lib\\site-packages (from azure-monitor-opentelemetry->azure-ai-ml->azureml-rai-utils) (0.51b0)\n",
      "Requirement already satisfied: opentelemetry-resource-detector-azure~=0.1.4 in c:\\users\\agemawat\\appdata\\local\\anaconda3\\envs\\rai\\lib\\site-packages (from azure-monitor-opentelemetry->azure-ai-ml->azureml-rai-utils) (0.1.5)\n",
      "Requirement already satisfied: fixedint==0.1.6 in c:\\users\\agemawat\\appdata\\local\\anaconda3\\envs\\rai\\lib\\site-packages (from azure-monitor-opentelemetry-exporter~=1.0.0b31->azure-monitor-opentelemetry->azure-ai-ml->azureml-rai-utils) (0.1.6)\n",
      "Requirement already satisfied: psutil~=5.9 in c:\\users\\agemawat\\appdata\\local\\anaconda3\\envs\\rai\\lib\\site-packages (from azure-monitor-opentelemetry-exporter~=1.0.0b31->azure-monitor-opentelemetry->azure-ai-ml->azureml-rai-utils) (5.9.8)\n",
      "Requirement already satisfied: pycparser in c:\\users\\agemawat\\appdata\\local\\anaconda3\\envs\\rai\\lib\\site-packages (from cffi>=1.12->cryptography>=2.5->azure-identity->azureml-rai-utils) (2.22)\n",
      "Collecting google-auth~=2.0 (from databricks-sdk<1,>=0.20.0->mlflow-skinny->azureml-mlflow->azureml-rai-utils)\n",
      "  Downloading google_auth-2.38.0-py2.py3-none-any.whl.metadata (4.8 kB)\n",
      "Collecting gitdb<5,>=4.0.1 (from gitpython<4,>=3.1.9->mlflow-skinny->azureml-mlflow->azureml-rai-utils)\n",
      "  Downloading gitdb-4.0.12-py3-none-any.whl.metadata (1.2 kB)\n",
      "Requirement already satisfied: zipp>=3.20 in c:\\users\\agemawat\\appdata\\local\\anaconda3\\envs\\rai\\lib\\site-packages (from importlib_metadata!=4.7.0,<9,>=3.7.0->mlflow-skinny->azureml-mlflow->azureml-rai-utils) (3.21.0)\n",
      "Requirement already satisfied: deprecated>=1.2.6 in c:\\users\\agemawat\\appdata\\local\\anaconda3\\envs\\rai\\lib\\site-packages (from opentelemetry-api<3,>=1.9.0->mlflow-skinny->azureml-mlflow->azureml-rai-utils) (1.2.18)\n",
      "Requirement already satisfied: opentelemetry-instrumentation-wsgi==0.51b0 in c:\\users\\agemawat\\appdata\\local\\anaconda3\\envs\\rai\\lib\\site-packages (from opentelemetry-instrumentation-django~=0.49b0->azure-monitor-opentelemetry->azure-ai-ml->azureml-rai-utils) (0.51b0)\n",
      "Requirement already satisfied: opentelemetry-instrumentation==0.51b0 in c:\\users\\agemawat\\appdata\\local\\anaconda3\\envs\\rai\\lib\\site-packages (from opentelemetry-instrumentation-django~=0.49b0->azure-monitor-opentelemetry->azure-ai-ml->azureml-rai-utils) (0.51b0)\n",
      "Requirement already satisfied: opentelemetry-semantic-conventions==0.51b0 in c:\\users\\agemawat\\appdata\\local\\anaconda3\\envs\\rai\\lib\\site-packages (from opentelemetry-instrumentation-django~=0.49b0->azure-monitor-opentelemetry->azure-ai-ml->azureml-rai-utils) (0.51b0)\n",
      "Requirement already satisfied: opentelemetry-util-http==0.51b0 in c:\\users\\agemawat\\appdata\\local\\anaconda3\\envs\\rai\\lib\\site-packages (from opentelemetry-instrumentation-django~=0.49b0->azure-monitor-opentelemetry->azure-ai-ml->azureml-rai-utils) (0.51b0)\n",
      "Requirement already satisfied: wrapt<2.0.0,>=1.0.0 in c:\\users\\agemawat\\appdata\\local\\anaconda3\\envs\\rai\\lib\\site-packages (from opentelemetry-instrumentation==0.51b0->opentelemetry-instrumentation-django~=0.49b0->azure-monitor-opentelemetry->azure-ai-ml->azureml-rai-utils) (1.17.2)\n",
      "Requirement already satisfied: opentelemetry-instrumentation-asgi==0.51b0 in c:\\users\\agemawat\\appdata\\local\\anaconda3\\envs\\rai\\lib\\site-packages (from opentelemetry-instrumentation-fastapi~=0.49b0->azure-monitor-opentelemetry->azure-ai-ml->azureml-rai-utils) (0.51b0)\n",
      "Requirement already satisfied: asgiref~=3.0 in c:\\users\\agemawat\\appdata\\local\\anaconda3\\envs\\rai\\lib\\site-packages (from opentelemetry-instrumentation-asgi==0.51b0->opentelemetry-instrumentation-fastapi~=0.49b0->azure-monitor-opentelemetry->azure-ai-ml->azureml-rai-utils) (3.8.1)\n",
      "Requirement already satisfied: opentelemetry-instrumentation-dbapi==0.51b0 in c:\\users\\agemawat\\appdata\\local\\anaconda3\\envs\\rai\\lib\\site-packages (from opentelemetry-instrumentation-psycopg2~=0.49b0->azure-monitor-opentelemetry->azure-ai-ml->azureml-rai-utils) (0.51b0)\n",
      "Collecting annotated-types>=0.6.0 (from pydantic<3,>=1.10.8->mlflow-skinny->azureml-mlflow->azureml-rai-utils)\n",
      "  Downloading annotated_types-0.7.0-py3-none-any.whl.metadata (15 kB)\n",
      "Collecting pydantic-core==2.27.2 (from pydantic<3,>=1.10.8->mlflow-skinny->azureml-mlflow->azureml-rai-utils)\n",
      "  Downloading pydantic_core-2.27.2-cp310-cp310-win_amd64.whl.metadata (6.7 kB)\n",
      "Requirement already satisfied: oauthlib>=3.0.0 in c:\\users\\agemawat\\appdata\\local\\anaconda3\\envs\\rai\\lib\\site-packages (from requests-oauthlib>=0.5.0->msrest>=0.6.18->azure-ai-ml->azureml-rai-utils) (3.2.2)\n",
      "Collecting smmap<6,>=3.0.1 (from gitdb<5,>=4.0.1->gitpython<4,>=3.1.9->mlflow-skinny->azureml-mlflow->azureml-rai-utils)\n",
      "  Downloading smmap-5.0.2-py3-none-any.whl.metadata (4.3 kB)\n",
      "Collecting pyasn1-modules>=0.2.1 (from google-auth~=2.0->databricks-sdk<1,>=0.20.0->mlflow-skinny->azureml-mlflow->azureml-rai-utils)\n",
      "  Downloading pyasn1_modules-0.4.1-py3-none-any.whl.metadata (3.5 kB)\n",
      "Collecting rsa<5,>=3.1.4 (from google-auth~=2.0->databricks-sdk<1,>=0.20.0->mlflow-skinny->azureml-mlflow->azureml-rai-utils)\n",
      "  Downloading rsa-4.9-py3-none-any.whl.metadata (4.2 kB)\n",
      "Collecting pyasn1<0.7.0,>=0.4.6 (from pyasn1-modules>=0.2.1->google-auth~=2.0->databricks-sdk<1,>=0.20.0->mlflow-skinny->azureml-mlflow->azureml-rai-utils)\n",
      "  Using cached pyasn1-0.6.1-py3-none-any.whl.metadata (8.4 kB)\n",
      "Downloading azureml_rai_utils-0.0.6-py3-none-any.whl (37 kB)\n",
      "Downloading azure_identity-1.20.0-py3-none-any.whl (188 kB)\n",
      "Downloading azureml_mlflow-1.59.0.post1-py3-none-any.whl (1.0 MB)\n",
      "   ---------------------------------------- 0.0/1.0 MB ? eta -:--:--\n",
      "   ---------------------------------------- 1.0/1.0 MB 50.5 MB/s eta 0:00:00\n",
      "Downloading mlflow-2.20.2-py3-none-any.whl (28.4 MB)\n",
      "   ---------------------------------------- 0.0/28.4 MB ? eta -:--:--\n",
      "   --------------------------------- ------ 23.9/28.4 MB 116.2 MB/s eta 0:00:01\n",
      "   ---------------------------------------- 28.4/28.4 MB 100.0 MB/s eta 0:00:00\n",
      "Downloading mlflow_skinny-2.20.2-py3-none-any.whl (6.0 MB)\n",
      "   ---------------------------------------- 0.0/6.0 MB ? eta -:--:--\n",
      "   ---------------------------------------- 6.0/6.0 MB 92.5 MB/s eta 0:00:00\n",
      "Downloading mltable-1.6.1-py3-none-any.whl (189 kB)\n",
      "Downloading alembic-1.14.1-py3-none-any.whl (233 kB)\n",
      "Downloading azure_storage_blob-12.19.0-py3-none-any.whl (394 kB)\n",
      "Downloading azure_storage_file_datalake-12.14.0-py3-none-any.whl (251 kB)\n",
      "Downloading azureml_dataprep-5.1.6-py3-none-any.whl (252 kB)\n",
      "Using cached docker-7.1.0-py3-none-any.whl (147 kB)\n",
      "Downloading flask-3.1.0-py3-none-any.whl (102 kB)\n",
      "Downloading graphene-3.4.3-py2.py3-none-any.whl (114 kB)\n",
      "Using cached jinja2-3.1.5-py3-none-any.whl (134 kB)\n",
      "Downloading Markdown-3.7-py3-none-any.whl (106 kB)\n",
      "Downloading matplotlib-3.10.0-cp310-cp310-win_amd64.whl (8.0 MB)\n",
      "   ---------------------------------------- 0.0/8.0 MB ? eta -:--:--\n",
      "   ---------------------------------------- 8.0/8.0 MB 98.3 MB/s eta 0:00:00\n",
      "Using cached msal-1.31.1-py3-none-any.whl (113 kB)\n",
      "Using cached msal_extensions-1.2.0-py3-none-any.whl (19 kB)\n",
      "Downloading protobuf-5.28.3-cp310-abi3-win_amd64.whl (431 kB)\n",
      "Downloading pyarrow-18.1.0-cp310-cp310-win_amd64.whl (25.1 MB)\n",
      "   ---------------------------------------- 0.0/25.1 MB ? eta -:--:--\n",
      "   ---------------------------------------  24.6/25.1 MB 120.1 MB/s eta 0:00:01\n",
      "   ---------------------------------------- 25.1/25.1 MB 88.5 MB/s eta 0:00:00\n",
      "Downloading SQLAlchemy-2.0.38-cp310-cp310-win_amd64.whl (2.1 MB)\n",
      "   ---------------------------------------- 0.0/2.1 MB ? eta -:--:--\n",
      "   ---------------------------------------- 2.1/2.1 MB 39.1 MB/s eta 0:00:00\n",
      "Downloading waitress-3.0.2-py3-none-any.whl (56 kB)\n",
      "Downloading jsonpickle-4.0.2-py3-none-any.whl (46 kB)\n",
      "Downloading azureml_dataprep_native-41.0.0-cp310-cp310-win_amd64.whl (891 kB)\n",
      "   ---------------------------------------- 0.0/891.4 kB ? eta -:--:--\n",
      "   --------------------------------------- 891.4/891.4 kB 19.7 MB/s eta 0:00:00\n",
      "Downloading azureml_dataprep_rslex-2.22.5-cp310-cp310-win_amd64.whl (18.3 MB)\n",
      "   ---------------------------------------- 0.0/18.3 MB ? eta -:--:--\n",
      "   ------------------------------------- -- 17.3/18.3 MB 83.9 MB/s eta 0:00:01\n",
      "   ---------------------------------------- 18.3/18.3 MB 64.0 MB/s eta 0:00:00\n",
      "Downloading blinker-1.9.0-py3-none-any.whl (8.5 kB)\n",
      "Downloading cachetools-5.5.2-py3-none-any.whl (10 kB)\n",
      "Downloading click-8.1.8-py3-none-any.whl (98 kB)\n",
      "Downloading cloudpickle-2.2.1-py3-none-any.whl (25 kB)\n",
      "Downloading contourpy-1.3.1-cp310-cp310-win_amd64.whl (218 kB)\n",
      "Downloading cycler-0.12.1-py3-none-any.whl (8.3 kB)\n",
      "Downloading databricks_sdk-0.44.1-py3-none-any.whl (648 kB)\n",
      "   ---------------------------------------- 0.0/648.7 kB ? eta -:--:--\n",
      "   ---------------------------------------- 648.7/648.7 kB ? eta 0:00:00\n",
      "Downloading fonttools-4.56.0-cp310-cp310-win_amd64.whl (2.2 MB)\n",
      "   ---------------------------------------- 0.0/2.2 MB ? eta -:--:--\n",
      "   ---------------------------------------- 2.2/2.2 MB 62.5 MB/s eta 0:00:00\n",
      "Downloading GitPython-3.1.44-py3-none-any.whl (207 kB)\n",
      "Downloading graphql_core-3.2.6-py3-none-any.whl (203 kB)\n",
      "Downloading graphql_relay-3.2.0-py3-none-any.whl (16 kB)\n",
      "Downloading greenlet-3.1.1-cp310-cp310-win_amd64.whl (298 kB)\n",
      "Downloading itsdangerous-2.2.0-py3-none-any.whl (16 kB)\n",
      "Downloading kiwisolver-1.4.8-cp310-cp310-win_amd64.whl (71 kB)\n",
      "Using cached MarkupSafe-3.0.2-cp310-cp310-win_amd64.whl (15 kB)\n",
      "Downloading pillow-11.1.0-cp310-cp310-win_amd64.whl (2.6 MB)\n",
      "   ---------------------------------------- 0.0/2.6 MB ? eta -:--:--\n",
      "   ---------------------------------------- 2.6/2.6 MB 76.2 MB/s eta 0:00:00\n",
      "Using cached portalocker-2.10.1-py3-none-any.whl (18 kB)\n",
      "Downloading pydantic-2.10.6-py3-none-any.whl (431 kB)\n",
      "Downloading pydantic_core-2.27.2-cp310-cp310-win_amd64.whl (2.0 MB)\n",
      "   ---------------------------------------- 0.0/2.0 MB ? eta -:--:--\n",
      "   ---------------------------------------- 2.0/2.0 MB 55.5 MB/s eta 0:00:00\n",
      "Downloading pyparsing-3.2.1-py3-none-any.whl (107 kB)\n",
      "Downloading sqlparse-0.5.3-py3-none-any.whl (44 kB)\n",
      "Downloading werkzeug-3.1.3-py3-none-any.whl (224 kB)\n",
      "Downloading Mako-1.3.9-py3-none-any.whl (78 kB)\n",
      "Downloading annotated_types-0.7.0-py3-none-any.whl (13 kB)\n",
      "Downloading gitdb-4.0.12-py3-none-any.whl (62 kB)\n",
      "Downloading google_auth-2.38.0-py2.py3-none-any.whl (210 kB)\n",
      "Downloading pyasn1_modules-0.4.1-py3-none-any.whl (181 kB)\n",
      "Downloading rsa-4.9-py3-none-any.whl (34 kB)\n",
      "Downloading smmap-5.0.2-py3-none-any.whl (24 kB)\n",
      "Using cached pyasn1-0.6.1-py3-none-any.whl (83 kB)\n",
      "Installing collected packages: azureml-dataprep-rslex, azureml-dataprep-native, waitress, sqlparse, smmap, pyparsing, pydantic-core, pyasn1, pyarrow, protobuf, portalocker, pillow, MarkupSafe, markdown, kiwisolver, jsonpickle, itsdangerous, greenlet, graphql-core, fonttools, cycler, contourpy, cloudpickle, click, cachetools, blinker, annotated-types, Werkzeug, sqlalchemy, rsa, pydantic, pyasn1-modules, matplotlib, Mako, Jinja2, graphql-relay, gitdb, docker, graphene, google-auth, gitpython, Flask, azure-storage-blob, alembic, msal, databricks-sdk, azure-storage-file-datalake, msal-extensions, mlflow-skinny, mlflow, azure-identity, azureml-mlflow, azureml-dataprep, mltable, azureml-rai-utils\n",
      "  Attempting uninstall: azure-storage-blob\n",
      "    Found existing installation: azure-storage-blob 12.24.1\n",
      "    Uninstalling azure-storage-blob-12.24.1:\n",
      "      Successfully uninstalled azure-storage-blob-12.24.1\n",
      "  Attempting uninstall: azure-storage-file-datalake\n",
      "    Found existing installation: azure-storage-file-datalake 12.18.1\n",
      "    Uninstalling azure-storage-file-datalake-12.18.1:\n",
      "      Successfully uninstalled azure-storage-file-datalake-12.18.1\n",
      "Successfully installed Flask-3.1.0 Jinja2-3.1.5 Mako-1.3.9 MarkupSafe-3.0.2 Werkzeug-3.1.3 alembic-1.14.1 annotated-types-0.7.0 azure-identity-1.20.0 azure-storage-blob-12.19.0 azure-storage-file-datalake-12.14.0 azureml-dataprep-5.1.6 azureml-dataprep-native-41.0.0 azureml-dataprep-rslex-2.22.5 azureml-mlflow-1.59.0.post1 azureml-rai-utils-0.0.6 blinker-1.9.0 cachetools-5.5.2 click-8.1.8 cloudpickle-2.2.1 contourpy-1.3.1 cycler-0.12.1 databricks-sdk-0.44.1 docker-7.1.0 fonttools-4.56.0 gitdb-4.0.12 gitpython-3.1.44 google-auth-2.38.0 graphene-3.4.3 graphql-core-3.2.6 graphql-relay-3.2.0 greenlet-3.1.1 itsdangerous-2.2.0 jsonpickle-4.0.2 kiwisolver-1.4.8 markdown-3.7 matplotlib-3.10.0 mlflow-2.20.2 mlflow-skinny-2.20.2 mltable-1.6.1 msal-1.31.1 msal-extensions-1.2.0 pillow-11.1.0 portalocker-2.10.1 protobuf-5.28.3 pyarrow-18.1.0 pyasn1-0.6.1 pyasn1-modules-0.4.1 pydantic-2.10.6 pydantic-core-2.27.2 pyparsing-3.2.1 rsa-4.9 smmap-5.0.2 sqlalchemy-2.0.38 sqlparse-0.5.3 waitress-3.0.2\n",
      "Collecting datasetsNote: you may need to restart the kernel to use updated packages.\n",
      "\n",
      "  Downloading datasets-3.3.2-py3-none-any.whl.metadata (19 kB)\n",
      "Collecting filelock (from datasets)\n",
      "  Downloading filelock-3.17.0-py3-none-any.whl.metadata (2.9 kB)\n",
      "Requirement already satisfied: numpy>=1.17 in c:\\users\\agemawat\\appdata\\local\\anaconda3\\envs\\rai\\lib\\site-packages (from datasets) (2.2.3)\n",
      "Requirement already satisfied: pyarrow>=15.0.0 in c:\\users\\agemawat\\appdata\\local\\anaconda3\\envs\\rai\\lib\\site-packages (from datasets) (18.1.0)\n",
      "Collecting dill<0.3.9,>=0.3.0 (from datasets)\n",
      "  Downloading dill-0.3.8-py3-none-any.whl.metadata (10 kB)\n",
      "Requirement already satisfied: pandas in c:\\users\\agemawat\\appdata\\local\\anaconda3\\envs\\rai\\lib\\site-packages (from datasets) (2.2.3)\n",
      "Requirement already satisfied: requests>=2.32.2 in c:\\users\\agemawat\\appdata\\local\\anaconda3\\envs\\rai\\lib\\site-packages (from datasets) (2.32.3)\n",
      "Requirement already satisfied: tqdm>=4.66.3 in c:\\users\\agemawat\\appdata\\local\\anaconda3\\envs\\rai\\lib\\site-packages (from datasets) (4.67.1)\n",
      "Collecting xxhash (from datasets)\n",
      "  Downloading xxhash-3.5.0-cp310-cp310-win_amd64.whl.metadata (13 kB)\n",
      "Collecting multiprocess<0.70.17 (from datasets)\n",
      "  Downloading multiprocess-0.70.16-py310-none-any.whl.metadata (7.2 kB)\n",
      "Collecting fsspec<=2024.12.0,>=2023.1.0 (from fsspec[http]<=2024.12.0,>=2023.1.0->datasets)\n",
      "  Downloading fsspec-2024.12.0-py3-none-any.whl.metadata (11 kB)\n",
      "Collecting aiohttp (from datasets)\n",
      "  Downloading aiohttp-3.11.12-cp310-cp310-win_amd64.whl.metadata (8.0 kB)\n",
      "Collecting huggingface-hub>=0.24.0 (from datasets)\n",
      "  Downloading huggingface_hub-0.29.1-py3-none-any.whl.metadata (13 kB)\n",
      "Requirement already satisfied: packaging in c:\\users\\agemawat\\appdata\\local\\anaconda3\\envs\\rai\\lib\\site-packages (from datasets) (24.2)\n",
      "Requirement already satisfied: pyyaml>=5.1 in c:\\users\\agemawat\\appdata\\local\\anaconda3\\envs\\rai\\lib\\site-packages (from datasets) (6.0.2)\n",
      "Collecting aiohappyeyeballs>=2.3.0 (from aiohttp->datasets)\n",
      "  Downloading aiohappyeyeballs-2.4.6-py3-none-any.whl.metadata (5.9 kB)\n",
      "Collecting aiosignal>=1.1.2 (from aiohttp->datasets)\n",
      "  Downloading aiosignal-1.3.2-py2.py3-none-any.whl.metadata (3.8 kB)\n",
      "Collecting async-timeout<6.0,>=4.0 (from aiohttp->datasets)\n",
      "  Downloading async_timeout-5.0.1-py3-none-any.whl.metadata (5.1 kB)\n",
      "Requirement already satisfied: attrs>=17.3.0 in c:\\users\\agemawat\\appdata\\local\\anaconda3\\envs\\rai\\lib\\site-packages (from aiohttp->datasets) (25.1.0)\n",
      "Collecting frozenlist>=1.1.1 (from aiohttp->datasets)\n",
      "  Downloading frozenlist-1.5.0-cp310-cp310-win_amd64.whl.metadata (14 kB)\n",
      "Collecting multidict<7.0,>=4.5 (from aiohttp->datasets)\n",
      "  Downloading multidict-6.1.0-cp310-cp310-win_amd64.whl.metadata (5.1 kB)\n",
      "Collecting propcache>=0.2.0 (from aiohttp->datasets)\n",
      "  Downloading propcache-0.3.0-cp310-cp310-win_amd64.whl.metadata (10 kB)\n",
      "Collecting yarl<2.0,>=1.17.0 (from aiohttp->datasets)\n",
      "  Downloading yarl-1.18.3-cp310-cp310-win_amd64.whl.metadata (71 kB)\n",
      "Requirement already satisfied: typing-extensions>=3.7.4.3 in c:\\users\\agemawat\\appdata\\local\\anaconda3\\envs\\rai\\lib\\site-packages (from huggingface-hub>=0.24.0->datasets) (4.12.2)\n",
      "Requirement already satisfied: charset-normalizer<4,>=2 in c:\\users\\agemawat\\appdata\\local\\anaconda3\\envs\\rai\\lib\\site-packages (from requests>=2.32.2->datasets) (3.4.1)\n",
      "Requirement already satisfied: idna<4,>=2.5 in c:\\users\\agemawat\\appdata\\local\\anaconda3\\envs\\rai\\lib\\site-packages (from requests>=2.32.2->datasets) (3.10)\n",
      "Requirement already satisfied: urllib3<3,>=1.21.1 in c:\\users\\agemawat\\appdata\\local\\anaconda3\\envs\\rai\\lib\\site-packages (from requests>=2.32.2->datasets) (2.3.0)\n",
      "Requirement already satisfied: certifi>=2017.4.17 in c:\\users\\agemawat\\appdata\\local\\anaconda3\\envs\\rai\\lib\\site-packages (from requests>=2.32.2->datasets) (2025.1.31)\n",
      "Requirement already satisfied: colorama in c:\\users\\agemawat\\appdata\\local\\anaconda3\\envs\\rai\\lib\\site-packages (from tqdm>=4.66.3->datasets) (0.4.6)\n",
      "Requirement already satisfied: python-dateutil>=2.8.2 in c:\\users\\agemawat\\appdata\\local\\anaconda3\\envs\\rai\\lib\\site-packages (from pandas->datasets) (2.9.0.post0)\n",
      "Requirement already satisfied: pytz>=2020.1 in c:\\users\\agemawat\\appdata\\local\\anaconda3\\envs\\rai\\lib\\site-packages (from pandas->datasets) (2025.1)\n",
      "Requirement already satisfied: tzdata>=2022.7 in c:\\users\\agemawat\\appdata\\local\\anaconda3\\envs\\rai\\lib\\site-packages (from pandas->datasets) (2025.1)\n",
      "Requirement already satisfied: six>=1.5 in c:\\users\\agemawat\\appdata\\local\\anaconda3\\envs\\rai\\lib\\site-packages (from python-dateutil>=2.8.2->pandas->datasets) (1.17.0)\n",
      "Downloading datasets-3.3.2-py3-none-any.whl (485 kB)\n",
      "Downloading dill-0.3.8-py3-none-any.whl (116 kB)\n",
      "Downloading fsspec-2024.12.0-py3-none-any.whl (183 kB)\n",
      "Downloading aiohttp-3.11.12-cp310-cp310-win_amd64.whl (442 kB)\n",
      "Downloading huggingface_hub-0.29.1-py3-none-any.whl (468 kB)\n",
      "Downloading multiprocess-0.70.16-py310-none-any.whl (134 kB)\n",
      "Downloading filelock-3.17.0-py3-none-any.whl (16 kB)\n",
      "Downloading xxhash-3.5.0-cp310-cp310-win_amd64.whl (30 kB)\n",
      "Downloading aiohappyeyeballs-2.4.6-py3-none-any.whl (14 kB)\n",
      "Downloading aiosignal-1.3.2-py2.py3-none-any.whl (7.6 kB)\n",
      "Downloading async_timeout-5.0.1-py3-none-any.whl (6.2 kB)\n",
      "Downloading frozenlist-1.5.0-cp310-cp310-win_amd64.whl (51 kB)\n",
      "Downloading multidict-6.1.0-cp310-cp310-win_amd64.whl (28 kB)\n",
      "Downloading propcache-0.3.0-cp310-cp310-win_amd64.whl (44 kB)\n",
      "Downloading yarl-1.18.3-cp310-cp310-win_amd64.whl (90 kB)\n",
      "Installing collected packages: xxhash, propcache, multidict, fsspec, frozenlist, filelock, dill, async-timeout, aiohappyeyeballs, yarl, multiprocess, huggingface-hub, aiosignal, aiohttp, datasets\n",
      "Successfully installed aiohappyeyeballs-2.4.6 aiohttp-3.11.12 aiosignal-1.3.2 async-timeout-5.0.1 datasets-3.3.2 dill-0.3.8 filelock-3.17.0 frozenlist-1.5.0 fsspec-2024.12.0 huggingface-hub-0.29.1 multidict-6.1.0 multiprocess-0.70.16 propcache-0.3.0 xxhash-3.5.0 yarl-1.18.3\n",
      "Collecting pandas<2.0.0Note: you may need to restart the kernel to use updated packages.\n",
      "\n",
      "  Downloading pandas-1.5.3-cp310-cp310-win_amd64.whl.metadata (12 kB)\n",
      "Requirement already satisfied: python-dateutil>=2.8.1 in c:\\users\\agemawat\\appdata\\local\\anaconda3\\envs\\rai\\lib\\site-packages (from pandas<2.0.0) (2.9.0.post0)\n",
      "Requirement already satisfied: pytz>=2020.1 in c:\\users\\agemawat\\appdata\\local\\anaconda3\\envs\\rai\\lib\\site-packages (from pandas<2.0.0) (2025.1)\n",
      "Requirement already satisfied: numpy>=1.21.0 in c:\\users\\agemawat\\appdata\\local\\anaconda3\\envs\\rai\\lib\\site-packages (from pandas<2.0.0) (2.2.3)\n",
      "Requirement already satisfied: six>=1.5 in c:\\users\\agemawat\\appdata\\local\\anaconda3\\envs\\rai\\lib\\site-packages (from python-dateutil>=2.8.1->pandas<2.0.0) (1.17.0)\n",
      "Downloading pandas-1.5.3-cp310-cp310-win_amd64.whl (10.4 MB)\n",
      "   ---------------------------------------- 0.0/10.4 MB ? eta -:--:--\n",
      "   ---------------------------------------- 10.4/10.4 MB 71.6 MB/s eta 0:00:00\n",
      "Installing collected packages: pandas\n",
      "  Attempting uninstall: pandas\n",
      "    Found existing installation: pandas 2.2.3\n",
      "    Uninstalling pandas-2.2.3:\n",
      "      Successfully uninstalled pandas-2.2.3\n",
      "Successfully installed pandas-1.5.3\n",
      "Requirement already satisfied: scikit-learn in c:\\users\\agemawat\\appdata\\local\\anaconda3\\envs\\rai\\lib\\site-packages (1.6.1)Note: you may need to restart the kernel to use updated packages.\n",
      "\n",
      "Requirement already satisfied: numpy>=1.19.5 in c:\\users\\agemawat\\appdata\\local\\anaconda3\\envs\\rai\\lib\\site-packages (from scikit-learn) (2.2.3)\n",
      "Requirement already satisfied: scipy>=1.6.0 in c:\\users\\agemawat\\appdata\\local\\anaconda3\\envs\\rai\\lib\\site-packages (from scikit-learn) (1.15.2)\n",
      "Requirement already satisfied: joblib>=1.2.0 in c:\\users\\agemawat\\appdata\\local\\anaconda3\\envs\\rai\\lib\\site-packages (from scikit-learn) (1.4.2)\n",
      "Requirement already satisfied: threadpoolctl>=3.1.0 in c:\\users\\agemawat\\appdata\\local\\anaconda3\\envs\\rai\\lib\\site-packages (from scikit-learn) (3.5.0)\n",
      "Requirement already satisfied: mltable in c:\\users\\agemawat\\appdata\\local\\anaconda3\\envs\\rai\\lib\\site-packages (1.6.1)Note: you may need to restart the kernel to use updated packages.\n",
      "\n",
      "Requirement already satisfied: azureml-dataprep<5.2.0a,>=5.1.0a in c:\\users\\agemawat\\appdata\\local\\anaconda3\\envs\\rai\\lib\\site-packages (from azureml-dataprep[parquet]<5.2.0a,>=5.1.0a->mltable) (5.1.6)\n",
      "Requirement already satisfied: pyyaml<7.0.0,>=5.1.0 in c:\\users\\agemawat\\appdata\\local\\anaconda3\\envs\\rai\\lib\\site-packages (from mltable) (6.0.2)\n",
      "Requirement already satisfied: jsonschema<5.0.0,>=4.0.0 in c:\\users\\agemawat\\appdata\\local\\anaconda3\\envs\\rai\\lib\\site-packages (from mltable) (4.23.0)\n",
      "Requirement already satisfied: msrest>=0.6.18 in c:\\users\\agemawat\\appdata\\local\\anaconda3\\envs\\rai\\lib\\site-packages (from mltable) (0.7.1)\n",
      "Requirement already satisfied: azure-core!=1.22.0,<2.0.0,>=1.8.0 in c:\\users\\agemawat\\appdata\\local\\anaconda3\\envs\\rai\\lib\\site-packages (from mltable) (1.32.0)\n",
      "Requirement already satisfied: azure-mgmt-core<2.0.0,>=1.3.0 in c:\\users\\agemawat\\appdata\\local\\anaconda3\\envs\\rai\\lib\\site-packages (from mltable) (1.5.0)\n",
      "Requirement already satisfied: python-dateutil<3.0.0,>=2.7.3 in c:\\users\\agemawat\\appdata\\local\\anaconda3\\envs\\rai\\lib\\site-packages (from mltable) (2.9.0.post0)\n",
      "Requirement already satisfied: cryptography!=1.9,!=2.0.*,!=2.1.*,!=2.2.* in c:\\users\\agemawat\\appdata\\local\\anaconda3\\envs\\rai\\lib\\site-packages (from mltable) (44.0.1)\n",
      "Requirement already satisfied: PyJWT<3.0.0 in c:\\users\\agemawat\\appdata\\local\\anaconda3\\envs\\rai\\lib\\site-packages (from mltable) (2.10.1)\n",
      "Requirement already satisfied: pytz in c:\\users\\agemawat\\appdata\\local\\anaconda3\\envs\\rai\\lib\\site-packages (from mltable) (2025.1)\n",
      "Requirement already satisfied: requests>=2.21.0 in c:\\users\\agemawat\\appdata\\local\\anaconda3\\envs\\rai\\lib\\site-packages (from azure-core!=1.22.0,<2.0.0,>=1.8.0->mltable) (2.32.3)\n",
      "Requirement already satisfied: six>=1.11.0 in c:\\users\\agemawat\\appdata\\local\\anaconda3\\envs\\rai\\lib\\site-packages (from azure-core!=1.22.0,<2.0.0,>=1.8.0->mltable) (1.17.0)\n",
      "Requirement already satisfied: typing-extensions>=4.6.0 in c:\\users\\agemawat\\appdata\\local\\anaconda3\\envs\\rai\\lib\\site-packages (from azure-core!=1.22.0,<2.0.0,>=1.8.0->mltable) (4.12.2)\n",
      "Requirement already satisfied: azureml-dataprep-native<42.0.0,>=41.0.0 in c:\\users\\agemawat\\appdata\\local\\anaconda3\\envs\\rai\\lib\\site-packages (from azureml-dataprep<5.2.0a,>=5.1.0a->azureml-dataprep[parquet]<5.2.0a,>=5.1.0a->mltable) (41.0.0)\n",
      "Requirement already satisfied: azureml-dataprep-rslex~=2.22.2dev0 in c:\\users\\agemawat\\appdata\\local\\anaconda3\\envs\\rai\\lib\\site-packages (from azureml-dataprep<5.2.0a,>=5.1.0a->azureml-dataprep[parquet]<5.2.0a,>=5.1.0a->mltable) (2.22.5)\n",
      "Requirement already satisfied: cloudpickle<3.0.0,>=1.1.0 in c:\\users\\agemawat\\appdata\\local\\anaconda3\\envs\\rai\\lib\\site-packages (from azureml-dataprep<5.2.0a,>=5.1.0a->azureml-dataprep[parquet]<5.2.0a,>=5.1.0a->mltable) (2.2.1)\n",
      "Requirement already satisfied: azure-identity>=1.7.0 in c:\\users\\agemawat\\appdata\\local\\anaconda3\\envs\\rai\\lib\\site-packages (from azureml-dataprep<5.2.0a,>=5.1.0a->azureml-dataprep[parquet]<5.2.0a,>=5.1.0a->mltable) (1.20.0)\n",
      "Requirement already satisfied: pyarrow>=0.17.0 in c:\\users\\agemawat\\appdata\\local\\anaconda3\\envs\\rai\\lib\\site-packages (from azureml-dataprep[parquet]<5.2.0a,>=5.1.0a->mltable) (18.1.0)\n",
      "Requirement already satisfied: cffi>=1.12 in c:\\users\\agemawat\\appdata\\local\\anaconda3\\envs\\rai\\lib\\site-packages (from cryptography!=1.9,!=2.0.*,!=2.1.*,!=2.2.*->mltable) (1.17.1)\n",
      "Requirement already satisfied: attrs>=22.2.0 in c:\\users\\agemawat\\appdata\\local\\anaconda3\\envs\\rai\\lib\\site-packages (from jsonschema<5.0.0,>=4.0.0->mltable) (25.1.0)\n",
      "Requirement already satisfied: jsonschema-specifications>=2023.03.6 in c:\\users\\agemawat\\appdata\\local\\anaconda3\\envs\\rai\\lib\\site-packages (from jsonschema<5.0.0,>=4.0.0->mltable) (2024.10.1)\n",
      "Requirement already satisfied: referencing>=0.28.4 in c:\\users\\agemawat\\appdata\\local\\anaconda3\\envs\\rai\\lib\\site-packages (from jsonschema<5.0.0,>=4.0.0->mltable) (0.36.2)\n",
      "Requirement already satisfied: rpds-py>=0.7.1 in c:\\users\\agemawat\\appdata\\local\\anaconda3\\envs\\rai\\lib\\site-packages (from jsonschema<5.0.0,>=4.0.0->mltable) (0.23.1)\n",
      "Requirement already satisfied: certifi>=2017.4.17 in c:\\users\\agemawat\\appdata\\local\\anaconda3\\envs\\rai\\lib\\site-packages (from msrest>=0.6.18->mltable) (2025.1.31)\n",
      "Requirement already satisfied: isodate>=0.6.0 in c:\\users\\agemawat\\appdata\\local\\anaconda3\\envs\\rai\\lib\\site-packages (from msrest>=0.6.18->mltable) (0.7.2)\n",
      "Requirement already satisfied: requests-oauthlib>=0.5.0 in c:\\users\\agemawat\\appdata\\local\\anaconda3\\envs\\rai\\lib\\site-packages (from msrest>=0.6.18->mltable) (2.0.0)\n",
      "Requirement already satisfied: msal>=1.30.0 in c:\\users\\agemawat\\appdata\\local\\anaconda3\\envs\\rai\\lib\\site-packages (from azure-identity>=1.7.0->azureml-dataprep<5.2.0a,>=5.1.0a->azureml-dataprep[parquet]<5.2.0a,>=5.1.0a->mltable) (1.31.1)\n",
      "Requirement already satisfied: msal-extensions>=1.2.0 in c:\\users\\agemawat\\appdata\\local\\anaconda3\\envs\\rai\\lib\\site-packages (from azure-identity>=1.7.0->azureml-dataprep<5.2.0a,>=5.1.0a->azureml-dataprep[parquet]<5.2.0a,>=5.1.0a->mltable) (1.2.0)\n",
      "Requirement already satisfied: pycparser in c:\\users\\agemawat\\appdata\\local\\anaconda3\\envs\\rai\\lib\\site-packages (from cffi>=1.12->cryptography!=1.9,!=2.0.*,!=2.1.*,!=2.2.*->mltable) (2.22)\n",
      "Requirement already satisfied: charset-normalizer<4,>=2 in c:\\users\\agemawat\\appdata\\local\\anaconda3\\envs\\rai\\lib\\site-packages (from requests>=2.21.0->azure-core!=1.22.0,<2.0.0,>=1.8.0->mltable) (3.4.1)\n",
      "Requirement already satisfied: idna<4,>=2.5 in c:\\users\\agemawat\\appdata\\local\\anaconda3\\envs\\rai\\lib\\site-packages (from requests>=2.21.0->azure-core!=1.22.0,<2.0.0,>=1.8.0->mltable) (3.10)\n",
      "Requirement already satisfied: urllib3<3,>=1.21.1 in c:\\users\\agemawat\\appdata\\local\\anaconda3\\envs\\rai\\lib\\site-packages (from requests>=2.21.0->azure-core!=1.22.0,<2.0.0,>=1.8.0->mltable) (2.3.0)\n",
      "Requirement already satisfied: oauthlib>=3.0.0 in c:\\users\\agemawat\\appdata\\local\\anaconda3\\envs\\rai\\lib\\site-packages (from requests-oauthlib>=0.5.0->msrest>=0.6.18->mltable) (3.2.2)\n",
      "Requirement already satisfied: portalocker<3,>=1.4 in c:\\users\\agemawat\\appdata\\local\\anaconda3\\envs\\rai\\lib\\site-packages (from msal-extensions>=1.2.0->azure-identity>=1.7.0->azureml-dataprep<5.2.0a,>=5.1.0a->azureml-dataprep[parquet]<5.2.0a,>=5.1.0a->mltable) (2.10.1)\n",
      "Requirement already satisfied: pywin32>=226 in c:\\users\\agemawat\\appdata\\local\\anaconda3\\envs\\rai\\lib\\site-packages (from portalocker<3,>=1.4->msal-extensions>=1.2.0->azure-identity>=1.7.0->azureml-dataprep<5.2.0a,>=5.1.0a->azureml-dataprep[parquet]<5.2.0a,>=5.1.0a->mltable) (307)\n",
      "Requirement already satisfied: azure.ai.ml in c:\\users\\agemawat\\appdata\\local\\anaconda3\\envs\\rai\\lib\\site-packages (1.25.0)Note: you may need to restart the kernel to use updated packages.\n",
      "\n",
      "Requirement already satisfied: pyyaml>=5.1.0 in c:\\users\\agemawat\\appdata\\local\\anaconda3\\envs\\rai\\lib\\site-packages (from azure.ai.ml) (6.0.2)\n",
      "Requirement already satisfied: msrest>=0.6.18 in c:\\users\\agemawat\\appdata\\local\\anaconda3\\envs\\rai\\lib\\site-packages (from azure.ai.ml) (0.7.1)\n",
      "Requirement already satisfied: azure-core>=1.23.0 in c:\\users\\agemawat\\appdata\\local\\anaconda3\\envs\\rai\\lib\\site-packages (from azure.ai.ml) (1.32.0)\n",
      "Requirement already satisfied: azure-mgmt-core>=1.3.0 in c:\\users\\agemawat\\appdata\\local\\anaconda3\\envs\\rai\\lib\\site-packages (from azure.ai.ml) (1.5.0)\n",
      "Requirement already satisfied: marshmallow>=3.5 in c:\\users\\agemawat\\appdata\\local\\anaconda3\\envs\\rai\\lib\\site-packages (from azure.ai.ml) (3.26.1)\n",
      "Requirement already satisfied: jsonschema>=4.0.0 in c:\\users\\agemawat\\appdata\\local\\anaconda3\\envs\\rai\\lib\\site-packages (from azure.ai.ml) (4.23.0)\n",
      "Requirement already satisfied: tqdm in c:\\users\\agemawat\\appdata\\local\\anaconda3\\envs\\rai\\lib\\site-packages (from azure.ai.ml) (4.67.1)\n",
      "Requirement already satisfied: strictyaml in c:\\users\\agemawat\\appdata\\local\\anaconda3\\envs\\rai\\lib\\site-packages (from azure.ai.ml) (1.7.3)\n",
      "Requirement already satisfied: colorama in c:\\users\\agemawat\\appdata\\local\\anaconda3\\envs\\rai\\lib\\site-packages (from azure.ai.ml) (0.4.6)\n",
      "Requirement already satisfied: pyjwt in c:\\users\\agemawat\\appdata\\local\\anaconda3\\envs\\rai\\lib\\site-packages (from azure.ai.ml) (2.10.1)\n",
      "Requirement already satisfied: azure-storage-blob>=12.10.0 in c:\\users\\agemawat\\appdata\\local\\anaconda3\\envs\\rai\\lib\\site-packages (from azure.ai.ml) (12.19.0)\n",
      "Requirement already satisfied: azure-storage-file-share in c:\\users\\agemawat\\appdata\\local\\anaconda3\\envs\\rai\\lib\\site-packages (from azure.ai.ml) (12.20.1)\n",
      "Requirement already satisfied: azure-storage-file-datalake>=12.2.0 in c:\\users\\agemawat\\appdata\\local\\anaconda3\\envs\\rai\\lib\\site-packages (from azure.ai.ml) (12.14.0)\n",
      "Requirement already satisfied: pydash>=6.0.0 in c:\\users\\agemawat\\appdata\\local\\anaconda3\\envs\\rai\\lib\\site-packages (from azure.ai.ml) (8.0.5)\n",
      "Requirement already satisfied: isodate in c:\\users\\agemawat\\appdata\\local\\anaconda3\\envs\\rai\\lib\\site-packages (from azure.ai.ml) (0.7.2)\n",
      "Requirement already satisfied: azure-common>=1.1 in c:\\users\\agemawat\\appdata\\local\\anaconda3\\envs\\rai\\lib\\site-packages (from azure.ai.ml) (1.1.28)\n",
      "Requirement already satisfied: typing-extensions in c:\\users\\agemawat\\appdata\\local\\anaconda3\\envs\\rai\\lib\\site-packages (from azure.ai.ml) (4.12.2)\n",
      "Requirement already satisfied: azure-monitor-opentelemetry in c:\\users\\agemawat\\appdata\\local\\anaconda3\\envs\\rai\\lib\\site-packages (from azure.ai.ml) (1.6.5)\n",
      "Requirement already satisfied: requests>=2.21.0 in c:\\users\\agemawat\\appdata\\local\\anaconda3\\envs\\rai\\lib\\site-packages (from azure-core>=1.23.0->azure.ai.ml) (2.32.3)\n",
      "Requirement already satisfied: six>=1.11.0 in c:\\users\\agemawat\\appdata\\local\\anaconda3\\envs\\rai\\lib\\site-packages (from azure-core>=1.23.0->azure.ai.ml) (1.17.0)\n",
      "Requirement already satisfied: cryptography>=2.1.4 in c:\\users\\agemawat\\appdata\\local\\anaconda3\\envs\\rai\\lib\\site-packages (from azure-storage-blob>=12.10.0->azure.ai.ml) (44.0.1)\n",
      "Requirement already satisfied: attrs>=22.2.0 in c:\\users\\agemawat\\appdata\\local\\anaconda3\\envs\\rai\\lib\\site-packages (from jsonschema>=4.0.0->azure.ai.ml) (25.1.0)\n",
      "Requirement already satisfied: jsonschema-specifications>=2023.03.6 in c:\\users\\agemawat\\appdata\\local\\anaconda3\\envs\\rai\\lib\\site-packages (from jsonschema>=4.0.0->azure.ai.ml) (2024.10.1)\n",
      "Requirement already satisfied: referencing>=0.28.4 in c:\\users\\agemawat\\appdata\\local\\anaconda3\\envs\\rai\\lib\\site-packages (from jsonschema>=4.0.0->azure.ai.ml) (0.36.2)\n",
      "Requirement already satisfied: rpds-py>=0.7.1 in c:\\users\\agemawat\\appdata\\local\\anaconda3\\envs\\rai\\lib\\site-packages (from jsonschema>=4.0.0->azure.ai.ml) (0.23.1)\n",
      "Requirement already satisfied: packaging>=17.0 in c:\\users\\agemawat\\appdata\\local\\anaconda3\\envs\\rai\\lib\\site-packages (from marshmallow>=3.5->azure.ai.ml) (24.2)\n",
      "Requirement already satisfied: certifi>=2017.4.17 in c:\\users\\agemawat\\appdata\\local\\anaconda3\\envs\\rai\\lib\\site-packages (from msrest>=0.6.18->azure.ai.ml) (2025.1.31)\n",
      "Requirement already satisfied: requests-oauthlib>=0.5.0 in c:\\users\\agemawat\\appdata\\local\\anaconda3\\envs\\rai\\lib\\site-packages (from msrest>=0.6.18->azure.ai.ml) (2.0.0)\n",
      "Requirement already satisfied: azure-core-tracing-opentelemetry~=1.0.0b11 in c:\\users\\agemawat\\appdata\\local\\anaconda3\\envs\\rai\\lib\\site-packages (from azure-monitor-opentelemetry->azure.ai.ml) (1.0.0b11)\n",
      "Requirement already satisfied: azure-monitor-opentelemetry-exporter~=1.0.0b31 in c:\\users\\agemawat\\appdata\\local\\anaconda3\\envs\\rai\\lib\\site-packages (from azure-monitor-opentelemetry->azure.ai.ml) (1.0.0b33)\n",
      "Requirement already satisfied: opentelemetry-instrumentation-django~=0.49b0 in c:\\users\\agemawat\\appdata\\local\\anaconda3\\envs\\rai\\lib\\site-packages (from azure-monitor-opentelemetry->azure.ai.ml) (0.51b0)\n",
      "Requirement already satisfied: opentelemetry-instrumentation-fastapi~=0.49b0 in c:\\users\\agemawat\\appdata\\local\\anaconda3\\envs\\rai\\lib\\site-packages (from azure-monitor-opentelemetry->azure.ai.ml) (0.51b0)\n",
      "Requirement already satisfied: opentelemetry-instrumentation-flask~=0.49b0 in c:\\users\\agemawat\\appdata\\local\\anaconda3\\envs\\rai\\lib\\site-packages (from azure-monitor-opentelemetry->azure.ai.ml) (0.51b0)\n",
      "Requirement already satisfied: opentelemetry-instrumentation-psycopg2~=0.49b0 in c:\\users\\agemawat\\appdata\\local\\anaconda3\\envs\\rai\\lib\\site-packages (from azure-monitor-opentelemetry->azure.ai.ml) (0.51b0)\n",
      "Requirement already satisfied: opentelemetry-instrumentation-requests~=0.49b0 in c:\\users\\agemawat\\appdata\\local\\anaconda3\\envs\\rai\\lib\\site-packages (from azure-monitor-opentelemetry->azure.ai.ml) (0.51b0)\n",
      "Requirement already satisfied: opentelemetry-instrumentation-urllib~=0.49b0 in c:\\users\\agemawat\\appdata\\local\\anaconda3\\envs\\rai\\lib\\site-packages (from azure-monitor-opentelemetry->azure.ai.ml) (0.51b0)\n",
      "Requirement already satisfied: opentelemetry-instrumentation-urllib3~=0.49b0 in c:\\users\\agemawat\\appdata\\local\\anaconda3\\envs\\rai\\lib\\site-packages (from azure-monitor-opentelemetry->azure.ai.ml) (0.51b0)\n",
      "Requirement already satisfied: opentelemetry-resource-detector-azure~=0.1.4 in c:\\users\\agemawat\\appdata\\local\\anaconda3\\envs\\rai\\lib\\site-packages (from azure-monitor-opentelemetry->azure.ai.ml) (0.1.5)\n",
      "Requirement already satisfied: opentelemetry-sdk~=1.28 in c:\\users\\agemawat\\appdata\\local\\anaconda3\\envs\\rai\\lib\\site-packages (from azure-monitor-opentelemetry->azure.ai.ml) (1.30.0)\n",
      "Requirement already satisfied: python-dateutil>=2.6.0 in c:\\users\\agemawat\\appdata\\local\\anaconda3\\envs\\rai\\lib\\site-packages (from strictyaml->azure.ai.ml) (2.9.0.post0)\n",
      "Requirement already satisfied: opentelemetry-api<2.0.0,>=1.12.0 in c:\\users\\agemawat\\appdata\\local\\anaconda3\\envs\\rai\\lib\\site-packages (from azure-core-tracing-opentelemetry~=1.0.0b11->azure-monitor-opentelemetry->azure.ai.ml) (1.30.0)\n",
      "Requirement already satisfied: fixedint==0.1.6 in c:\\users\\agemawat\\appdata\\local\\anaconda3\\envs\\rai\\lib\\site-packages (from azure-monitor-opentelemetry-exporter~=1.0.0b31->azure-monitor-opentelemetry->azure.ai.ml) (0.1.6)\n",
      "Requirement already satisfied: psutil~=5.9 in c:\\users\\agemawat\\appdata\\local\\anaconda3\\envs\\rai\\lib\\site-packages (from azure-monitor-opentelemetry-exporter~=1.0.0b31->azure-monitor-opentelemetry->azure.ai.ml) (5.9.8)\n",
      "Requirement already satisfied: cffi>=1.12 in c:\\users\\agemawat\\appdata\\local\\anaconda3\\envs\\rai\\lib\\site-packages (from cryptography>=2.1.4->azure-storage-blob>=12.10.0->azure.ai.ml) (1.17.1)\n",
      "Requirement already satisfied: opentelemetry-instrumentation-wsgi==0.51b0 in c:\\users\\agemawat\\appdata\\local\\anaconda3\\envs\\rai\\lib\\site-packages (from opentelemetry-instrumentation-django~=0.49b0->azure-monitor-opentelemetry->azure.ai.ml) (0.51b0)\n",
      "Requirement already satisfied: opentelemetry-instrumentation==0.51b0 in c:\\users\\agemawat\\appdata\\local\\anaconda3\\envs\\rai\\lib\\site-packages (from opentelemetry-instrumentation-django~=0.49b0->azure-monitor-opentelemetry->azure.ai.ml) (0.51b0)\n",
      "Requirement already satisfied: opentelemetry-semantic-conventions==0.51b0 in c:\\users\\agemawat\\appdata\\local\\anaconda3\\envs\\rai\\lib\\site-packages (from opentelemetry-instrumentation-django~=0.49b0->azure-monitor-opentelemetry->azure.ai.ml) (0.51b0)\n",
      "Requirement already satisfied: opentelemetry-util-http==0.51b0 in c:\\users\\agemawat\\appdata\\local\\anaconda3\\envs\\rai\\lib\\site-packages (from opentelemetry-instrumentation-django~=0.49b0->azure-monitor-opentelemetry->azure.ai.ml) (0.51b0)\n",
      "Requirement already satisfied: wrapt<2.0.0,>=1.0.0 in c:\\users\\agemawat\\appdata\\local\\anaconda3\\envs\\rai\\lib\\site-packages (from opentelemetry-instrumentation==0.51b0->opentelemetry-instrumentation-django~=0.49b0->azure-monitor-opentelemetry->azure.ai.ml) (1.17.2)\n",
      "Requirement already satisfied: deprecated>=1.2.6 in c:\\users\\agemawat\\appdata\\local\\anaconda3\\envs\\rai\\lib\\site-packages (from opentelemetry-semantic-conventions==0.51b0->opentelemetry-instrumentation-django~=0.49b0->azure-monitor-opentelemetry->azure.ai.ml) (1.2.18)\n",
      "Requirement already satisfied: importlib-metadata<=8.5.0,>=6.0 in c:\\users\\agemawat\\appdata\\local\\anaconda3\\envs\\rai\\lib\\site-packages (from opentelemetry-api<2.0.0,>=1.12.0->azure-core-tracing-opentelemetry~=1.0.0b11->azure-monitor-opentelemetry->azure.ai.ml) (8.5.0)\n",
      "Requirement already satisfied: opentelemetry-instrumentation-asgi==0.51b0 in c:\\users\\agemawat\\appdata\\local\\anaconda3\\envs\\rai\\lib\\site-packages (from opentelemetry-instrumentation-fastapi~=0.49b0->azure-monitor-opentelemetry->azure.ai.ml) (0.51b0)\n",
      "Requirement already satisfied: asgiref~=3.0 in c:\\users\\agemawat\\appdata\\local\\anaconda3\\envs\\rai\\lib\\site-packages (from opentelemetry-instrumentation-asgi==0.51b0->opentelemetry-instrumentation-fastapi~=0.49b0->azure-monitor-opentelemetry->azure.ai.ml) (3.8.1)\n",
      "Requirement already satisfied: opentelemetry-instrumentation-dbapi==0.51b0 in c:\\users\\agemawat\\appdata\\local\\anaconda3\\envs\\rai\\lib\\site-packages (from opentelemetry-instrumentation-psycopg2~=0.49b0->azure-monitor-opentelemetry->azure.ai.ml) (0.51b0)\n",
      "Requirement already satisfied: charset-normalizer<4,>=2 in c:\\users\\agemawat\\appdata\\local\\anaconda3\\envs\\rai\\lib\\site-packages (from requests>=2.21.0->azure-core>=1.23.0->azure.ai.ml) (3.4.1)\n",
      "Requirement already satisfied: idna<4,>=2.5 in c:\\users\\agemawat\\appdata\\local\\anaconda3\\envs\\rai\\lib\\site-packages (from requests>=2.21.0->azure-core>=1.23.0->azure.ai.ml) (3.10)\n",
      "Requirement already satisfied: urllib3<3,>=1.21.1 in c:\\users\\agemawat\\appdata\\local\\anaconda3\\envs\\rai\\lib\\site-packages (from requests>=2.21.0->azure-core>=1.23.0->azure.ai.ml) (2.3.0)\n",
      "Requirement already satisfied: oauthlib>=3.0.0 in c:\\users\\agemawat\\appdata\\local\\anaconda3\\envs\\rai\\lib\\site-packages (from requests-oauthlib>=0.5.0->msrest>=0.6.18->azure.ai.ml) (3.2.2)\n",
      "Requirement already satisfied: pycparser in c:\\users\\agemawat\\appdata\\local\\anaconda3\\envs\\rai\\lib\\site-packages (from cffi>=1.12->cryptography>=2.1.4->azure-storage-blob>=12.10.0->azure.ai.ml) (2.22)\n",
      "Requirement already satisfied: zipp>=3.20 in c:\\users\\agemawat\\appdata\\local\\anaconda3\\envs\\rai\\lib\\site-packages (from importlib-metadata<=8.5.0,>=6.0->opentelemetry-api<2.0.0,>=1.12.0->azure-core-tracing-opentelemetry~=1.0.0b11->azure-monitor-opentelemetry->azure.ai.ml) (3.21.0)\n",
      "Requirement already satisfied: azure.identity in c:\\users\\agemawat\\appdata\\local\\anaconda3\\envs\\rai\\lib\\site-packages (1.20.0)Note: you may need to restart the kernel to use updated packages.\n",
      "\n",
      "Requirement already satisfied: azure-core>=1.31.0 in c:\\users\\agemawat\\appdata\\local\\anaconda3\\envs\\rai\\lib\\site-packages (from azure.identity) (1.32.0)\n",
      "Requirement already satisfied: cryptography>=2.5 in c:\\users\\agemawat\\appdata\\local\\anaconda3\\envs\\rai\\lib\\site-packages (from azure.identity) (44.0.1)\n",
      "Requirement already satisfied: msal>=1.30.0 in c:\\users\\agemawat\\appdata\\local\\anaconda3\\envs\\rai\\lib\\site-packages (from azure.identity) (1.31.1)\n",
      "Requirement already satisfied: msal-extensions>=1.2.0 in c:\\users\\agemawat\\appdata\\local\\anaconda3\\envs\\rai\\lib\\site-packages (from azure.identity) (1.2.0)\n",
      "Requirement already satisfied: typing-extensions>=4.0.0 in c:\\users\\agemawat\\appdata\\local\\anaconda3\\envs\\rai\\lib\\site-packages (from azure.identity) (4.12.2)\n",
      "Requirement already satisfied: requests>=2.21.0 in c:\\users\\agemawat\\appdata\\local\\anaconda3\\envs\\rai\\lib\\site-packages (from azure-core>=1.31.0->azure.identity) (2.32.3)\n",
      "Requirement already satisfied: six>=1.11.0 in c:\\users\\agemawat\\appdata\\local\\anaconda3\\envs\\rai\\lib\\site-packages (from azure-core>=1.31.0->azure.identity) (1.17.0)\n",
      "Requirement already satisfied: cffi>=1.12 in c:\\users\\agemawat\\appdata\\local\\anaconda3\\envs\\rai\\lib\\site-packages (from cryptography>=2.5->azure.identity) (1.17.1)\n",
      "Requirement already satisfied: PyJWT<3,>=1.0.0 in c:\\users\\agemawat\\appdata\\local\\anaconda3\\envs\\rai\\lib\\site-packages (from PyJWT[crypto]<3,>=1.0.0->msal>=1.30.0->azure.identity) (2.10.1)\n",
      "Requirement already satisfied: portalocker<3,>=1.4 in c:\\users\\agemawat\\appdata\\local\\anaconda3\\envs\\rai\\lib\\site-packages (from msal-extensions>=1.2.0->azure.identity) (2.10.1)\n",
      "Requirement already satisfied: pycparser in c:\\users\\agemawat\\appdata\\local\\anaconda3\\envs\\rai\\lib\\site-packages (from cffi>=1.12->cryptography>=2.5->azure.identity) (2.22)\n",
      "Requirement already satisfied: pywin32>=226 in c:\\users\\agemawat\\appdata\\local\\anaconda3\\envs\\rai\\lib\\site-packages (from portalocker<3,>=1.4->msal-extensions>=1.2.0->azure.identity) (307)\n",
      "Requirement already satisfied: charset-normalizer<4,>=2 in c:\\users\\agemawat\\appdata\\local\\anaconda3\\envs\\rai\\lib\\site-packages (from requests>=2.21.0->azure-core>=1.31.0->azure.identity) (3.4.1)\n",
      "Requirement already satisfied: idna<4,>=2.5 in c:\\users\\agemawat\\appdata\\local\\anaconda3\\envs\\rai\\lib\\site-packages (from requests>=2.21.0->azure-core>=1.31.0->azure.identity) (3.10)\n",
      "Requirement already satisfied: urllib3<3,>=1.21.1 in c:\\users\\agemawat\\appdata\\local\\anaconda3\\envs\\rai\\lib\\site-packages (from requests>=2.21.0->azure-core>=1.31.0->azure.identity) (2.3.0)\n",
      "Requirement already satisfied: certifi>=2017.4.17 in c:\\users\\agemawat\\appdata\\local\\anaconda3\\envs\\rai\\lib\\site-packages (from requests>=2.21.0->azure-core>=1.31.0->azure.identity) (2025.1.31)\n",
      "Requirement already satisfied: mltable in c:\\users\\agemawat\\appdata\\local\\anaconda3\\envs\\rai\\lib\\site-packages (1.6.1)Note: you may need to restart the kernel to use updated packages.\n",
      "\n",
      "Requirement already satisfied: azureml-dataprep<5.2.0a,>=5.1.0a in c:\\users\\agemawat\\appdata\\local\\anaconda3\\envs\\rai\\lib\\site-packages (from azureml-dataprep[parquet]<5.2.0a,>=5.1.0a->mltable) (5.1.6)\n",
      "Requirement already satisfied: pyyaml<7.0.0,>=5.1.0 in c:\\users\\agemawat\\appdata\\local\\anaconda3\\envs\\rai\\lib\\site-packages (from mltable) (6.0.2)\n",
      "Requirement already satisfied: jsonschema<5.0.0,>=4.0.0 in c:\\users\\agemawat\\appdata\\local\\anaconda3\\envs\\rai\\lib\\site-packages (from mltable) (4.23.0)\n",
      "Requirement already satisfied: msrest>=0.6.18 in c:\\users\\agemawat\\appdata\\local\\anaconda3\\envs\\rai\\lib\\site-packages (from mltable) (0.7.1)\n",
      "Requirement already satisfied: azure-core!=1.22.0,<2.0.0,>=1.8.0 in c:\\users\\agemawat\\appdata\\local\\anaconda3\\envs\\rai\\lib\\site-packages (from mltable) (1.32.0)\n",
      "Requirement already satisfied: azure-mgmt-core<2.0.0,>=1.3.0 in c:\\users\\agemawat\\appdata\\local\\anaconda3\\envs\\rai\\lib\\site-packages (from mltable) (1.5.0)\n",
      "Requirement already satisfied: python-dateutil<3.0.0,>=2.7.3 in c:\\users\\agemawat\\appdata\\local\\anaconda3\\envs\\rai\\lib\\site-packages (from mltable) (2.9.0.post0)\n",
      "Requirement already satisfied: cryptography!=1.9,!=2.0.*,!=2.1.*,!=2.2.* in c:\\users\\agemawat\\appdata\\local\\anaconda3\\envs\\rai\\lib\\site-packages (from mltable) (44.0.1)\n",
      "Requirement already satisfied: PyJWT<3.0.0 in c:\\users\\agemawat\\appdata\\local\\anaconda3\\envs\\rai\\lib\\site-packages (from mltable) (2.10.1)\n",
      "Requirement already satisfied: pytz in c:\\users\\agemawat\\appdata\\local\\anaconda3\\envs\\rai\\lib\\site-packages (from mltable) (2025.1)\n",
      "Requirement already satisfied: requests>=2.21.0 in c:\\users\\agemawat\\appdata\\local\\anaconda3\\envs\\rai\\lib\\site-packages (from azure-core!=1.22.0,<2.0.0,>=1.8.0->mltable) (2.32.3)\n",
      "Requirement already satisfied: six>=1.11.0 in c:\\users\\agemawat\\appdata\\local\\anaconda3\\envs\\rai\\lib\\site-packages (from azure-core!=1.22.0,<2.0.0,>=1.8.0->mltable) (1.17.0)\n",
      "Requirement already satisfied: typing-extensions>=4.6.0 in c:\\users\\agemawat\\appdata\\local\\anaconda3\\envs\\rai\\lib\\site-packages (from azure-core!=1.22.0,<2.0.0,>=1.8.0->mltable) (4.12.2)\n",
      "Requirement already satisfied: azureml-dataprep-native<42.0.0,>=41.0.0 in c:\\users\\agemawat\\appdata\\local\\anaconda3\\envs\\rai\\lib\\site-packages (from azureml-dataprep<5.2.0a,>=5.1.0a->azureml-dataprep[parquet]<5.2.0a,>=5.1.0a->mltable) (41.0.0)\n",
      "Requirement already satisfied: azureml-dataprep-rslex~=2.22.2dev0 in c:\\users\\agemawat\\appdata\\local\\anaconda3\\envs\\rai\\lib\\site-packages (from azureml-dataprep<5.2.0a,>=5.1.0a->azureml-dataprep[parquet]<5.2.0a,>=5.1.0a->mltable) (2.22.5)\n",
      "Requirement already satisfied: cloudpickle<3.0.0,>=1.1.0 in c:\\users\\agemawat\\appdata\\local\\anaconda3\\envs\\rai\\lib\\site-packages (from azureml-dataprep<5.2.0a,>=5.1.0a->azureml-dataprep[parquet]<5.2.0a,>=5.1.0a->mltable) (2.2.1)\n",
      "Requirement already satisfied: azure-identity>=1.7.0 in c:\\users\\agemawat\\appdata\\local\\anaconda3\\envs\\rai\\lib\\site-packages (from azureml-dataprep<5.2.0a,>=5.1.0a->azureml-dataprep[parquet]<5.2.0a,>=5.1.0a->mltable) (1.20.0)\n",
      "Requirement already satisfied: pyarrow>=0.17.0 in c:\\users\\agemawat\\appdata\\local\\anaconda3\\envs\\rai\\lib\\site-packages (from azureml-dataprep[parquet]<5.2.0a,>=5.1.0a->mltable) (18.1.0)\n",
      "Requirement already satisfied: cffi>=1.12 in c:\\users\\agemawat\\appdata\\local\\anaconda3\\envs\\rai\\lib\\site-packages (from cryptography!=1.9,!=2.0.*,!=2.1.*,!=2.2.*->mltable) (1.17.1)\n",
      "Requirement already satisfied: attrs>=22.2.0 in c:\\users\\agemawat\\appdata\\local\\anaconda3\\envs\\rai\\lib\\site-packages (from jsonschema<5.0.0,>=4.0.0->mltable) (25.1.0)\n",
      "Requirement already satisfied: jsonschema-specifications>=2023.03.6 in c:\\users\\agemawat\\appdata\\local\\anaconda3\\envs\\rai\\lib\\site-packages (from jsonschema<5.0.0,>=4.0.0->mltable) (2024.10.1)\n",
      "Requirement already satisfied: referencing>=0.28.4 in c:\\users\\agemawat\\appdata\\local\\anaconda3\\envs\\rai\\lib\\site-packages (from jsonschema<5.0.0,>=4.0.0->mltable) (0.36.2)\n",
      "Requirement already satisfied: rpds-py>=0.7.1 in c:\\users\\agemawat\\appdata\\local\\anaconda3\\envs\\rai\\lib\\site-packages (from jsonschema<5.0.0,>=4.0.0->mltable) (0.23.1)\n",
      "Requirement already satisfied: certifi>=2017.4.17 in c:\\users\\agemawat\\appdata\\local\\anaconda3\\envs\\rai\\lib\\site-packages (from msrest>=0.6.18->mltable) (2025.1.31)\n",
      "Requirement already satisfied: isodate>=0.6.0 in c:\\users\\agemawat\\appdata\\local\\anaconda3\\envs\\rai\\lib\\site-packages (from msrest>=0.6.18->mltable) (0.7.2)\n",
      "Requirement already satisfied: requests-oauthlib>=0.5.0 in c:\\users\\agemawat\\appdata\\local\\anaconda3\\envs\\rai\\lib\\site-packages (from msrest>=0.6.18->mltable) (2.0.0)\n",
      "Requirement already satisfied: msal>=1.30.0 in c:\\users\\agemawat\\appdata\\local\\anaconda3\\envs\\rai\\lib\\site-packages (from azure-identity>=1.7.0->azureml-dataprep<5.2.0a,>=5.1.0a->azureml-dataprep[parquet]<5.2.0a,>=5.1.0a->mltable) (1.31.1)\n",
      "Requirement already satisfied: msal-extensions>=1.2.0 in c:\\users\\agemawat\\appdata\\local\\anaconda3\\envs\\rai\\lib\\site-packages (from azure-identity>=1.7.0->azureml-dataprep<5.2.0a,>=5.1.0a->azureml-dataprep[parquet]<5.2.0a,>=5.1.0a->mltable) (1.2.0)\n",
      "Requirement already satisfied: pycparser in c:\\users\\agemawat\\appdata\\local\\anaconda3\\envs\\rai\\lib\\site-packages (from cffi>=1.12->cryptography!=1.9,!=2.0.*,!=2.1.*,!=2.2.*->mltable) (2.22)\n",
      "Requirement already satisfied: charset-normalizer<4,>=2 in c:\\users\\agemawat\\appdata\\local\\anaconda3\\envs\\rai\\lib\\site-packages (from requests>=2.21.0->azure-core!=1.22.0,<2.0.0,>=1.8.0->mltable) (3.4.1)\n",
      "Requirement already satisfied: idna<4,>=2.5 in c:\\users\\agemawat\\appdata\\local\\anaconda3\\envs\\rai\\lib\\site-packages (from requests>=2.21.0->azure-core!=1.22.0,<2.0.0,>=1.8.0->mltable) (3.10)\n",
      "Requirement already satisfied: urllib3<3,>=1.21.1 in c:\\users\\agemawat\\appdata\\local\\anaconda3\\envs\\rai\\lib\\site-packages (from requests>=2.21.0->azure-core!=1.22.0,<2.0.0,>=1.8.0->mltable) (2.3.0)\n",
      "Requirement already satisfied: oauthlib>=3.0.0 in c:\\users\\agemawat\\appdata\\local\\anaconda3\\envs\\rai\\lib\\site-packages (from requests-oauthlib>=0.5.0->msrest>=0.6.18->mltable) (3.2.2)\n",
      "Requirement already satisfied: portalocker<3,>=1.4 in c:\\users\\agemawat\\appdata\\local\\anaconda3\\envs\\rai\\lib\\site-packages (from msal-extensions>=1.2.0->azure-identity>=1.7.0->azureml-dataprep<5.2.0a,>=5.1.0a->azureml-dataprep[parquet]<5.2.0a,>=5.1.0a->mltable) (2.10.1)\n",
      "Requirement already satisfied: pywin32>=226 in c:\\users\\agemawat\\appdata\\local\\anaconda3\\envs\\rai\\lib\\site-packages (from portalocker<3,>=1.4->msal-extensions>=1.2.0->azure-identity>=1.7.0->azureml-dataprep<5.2.0a,>=5.1.0a->azureml-dataprep[parquet]<5.2.0a,>=5.1.0a->mltable) (307)\n"
     ]
    }
   ],
   "source": [
    "%pip install azure-ai-ml\n",
    "%pip install raiutils\n",
    "%pip install azureml-rai-utils\n",
    "\n",
    "%pip install datasets\n",
    "%pip install \"pandas<2.0.0\"\n",
    "%pip install scikit-learn\n",
    "%pip install mltable\n",
    "%pip install azure.ai.ml\n",
    "%pip install azure.identity\n",
    "%pip install mltable\n",
    "%pip install transformers\n",
    "%pip install torch\n",
    "%pip install openpyxl"
   ]
  },
  {
   "cell_type": "markdown",
   "metadata": {
    "nteract": {
     "transient": {
      "deleting": false
     }
    }
   },
   "source": [
    "First, it is imperative to define the versions of the Responsible AI (RAI) components accessible within the workspace. These specifications were explicitly indicated during the upload of the components."
   ]
  },
  {
   "cell_type": "code",
   "execution_count": null,
   "metadata": {
    "gather": {
     "logged": 1689617338773
    },
    "jupyter": {
     "outputs_hidden": false,
     "source_hidden": false
    },
    "nteract": {
     "transient": {
      "deleting": false
     }
    }
   },
   "outputs": [],
   "source": [
    "version_string = \"0.0.20\""
   ]
  },
  {
   "cell_type": "markdown",
   "metadata": {
    "nteract": {
     "transient": {
      "deleting": false
     }
    }
   },
   "source": [
    "Furthermore, it is essential to provide the designation of the compute cluster desired for utilization in AzureML. Subsequently, in this notebook, we will generate the cluster if it does not currently exist."
   ]
  },
  {
   "cell_type": "code",
   "execution_count": null,
   "metadata": {
    "gather": {
     "logged": 1689617338942
    }
   },
   "outputs": [],
   "source": [
    "compute_name = \"raitextcluster\""
   ]
  },
  {
   "cell_type": "markdown",
   "metadata": {
    "nteract": {
     "transient": {
      "deleting": false
     }
    }
   },
   "source": [
    "Lastly, we must stipulate a version for the data and components that will be generated during the execution of this notebook. This version should be exclusive to the workspace, and its actual value holds no significance, as long as it is unique."
   ]
  },
  {
   "cell_type": "code",
   "execution_count": null,
   "metadata": {
    "gather": {
     "logged": 1689617339129
    },
    "jupyter": {
     "outputs_hidden": false,
     "source_hidden": false
    },
    "nteract": {
     "transient": {
      "deleting": false
     }
    }
   },
   "outputs": [],
   "source": [
    "rai_example_version_string = \"21\""
   ]
  },
  {
   "cell_type": "code",
   "execution_count": null,
   "metadata": {
    "gather": {
     "logged": 1689617355566
    },
    "jupyter": {
     "outputs_hidden": false,
     "source_hidden": false
    },
    "nteract": {
     "transient": {
      "deleting": false
     }
    }
   },
   "outputs": [],
   "source": [
    "import os\n",
    "import json\n",
    "\n",
    "# import datasets\n",
    "import pandas as pd\n",
    "\n",
    "from sklearn import preprocessing\n",
    "from sklearn.model_selection import train_test_split\n",
    "from sklearn.preprocessing import LabelEncoder\n",
    "\n",
    "import zipfile\n",
    "from io import BytesIO\n",
    "import requests"
   ]
  },
  {
   "cell_type": "markdown",
   "metadata": {
    "nteract": {
     "transient": {
      "deleting": false
     }
    }
   },
   "source": [
    "## Accessing the Data\n",
    "\n",
    "The following section examines the code necessary to read datasets and a model using components in AzureML.\n",
    "\n",
    "**Note:** It is advisable to keep the data file and the notebook in same folder. In case they are kept in separate folders, update the path to the dataset  "
   ]
  },
  {
   "cell_type": "code",
   "execution_count": null,
   "metadata": {
    "gather": {
     "logged": 1689617357016
    },
    "jupyter": {
     "outputs_hidden": false,
     "source_hidden": false
    },
    "nteract": {
     "transient": {
      "deleting": false
     }
    }
   },
   "outputs": [],
   "source": [
    "# Load the labeled dataset from Excel\n",
    "\n",
    "# Download the blob data from the provided URL\n",
    "data_location = \"https://publictestdatasets.blob.core.windows.net/data/RAI_fabricated_text_classification_data.zip\"\n",
    "response = requests.get(data_location)\n",
    "blob_content = response.content\n",
    "\n",
    "with zipfile.ZipFile(BytesIO(blob_content), \"r\") as zip_ref:\n",
    "    file_list = zip_ref.namelist()\n",
    "    if len(file_list) > 0:\n",
    "        # Assume the first file in the zip contains the data\n",
    "        inner_blob_name = file_list[0]\n",
    "        inner_blob_content = zip_ref.read(inner_blob_name)\n",
    "        df = pd.read_excel(BytesIO(inner_blob_content))\n",
    "\n",
    "# df = pd.read_excel(\"./Text_classification_dataset.xlsx\")\n",
    "df = df[[\"Article Description\", \"Category\"]]\n",
    "df.columns = [\"text\", \"label\"]\n",
    "df"
   ]
  },
  {
   "cell_type": "markdown",
   "metadata": {
    "nteract": {
     "transient": {
      "deleting": false
     }
    }
   },
   "source": [
    "Validating the the category names and the number of categories"
   ]
  },
  {
   "cell_type": "code",
   "execution_count": null,
   "metadata": {
    "gather": {
     "logged": 1689617357475
    },
    "jupyter": {
     "outputs_hidden": false,
     "source_hidden": false
    },
    "nteract": {
     "transient": {
      "deleting": false
     }
    }
   },
   "outputs": [],
   "source": [
    "list(df[\"label\"].unique())"
   ]
  },
  {
   "cell_type": "markdown",
   "metadata": {
    "nteract": {
     "transient": {
      "deleting": false
     }
    }
   },
   "source": [
    "### Splitting the Data into train and test datasets"
   ]
  },
  {
   "cell_type": "code",
   "execution_count": null,
   "metadata": {
    "gather": {
     "logged": 1689617357308
    },
    "jupyter": {
     "outputs_hidden": false,
     "source_hidden": false
    },
    "nteract": {
     "transient": {
      "deleting": false
     }
    }
   },
   "outputs": [],
   "source": [
    "train_data, test_data = train_test_split(\n",
    "    df, test_size=0.20, random_state=0, stratify=df[\"label\"]\n",
    ")\n",
    "test_data"
   ]
  },
  {
   "cell_type": "markdown",
   "metadata": {
    "nteract": {
     "transient": {
      "deleting": false
     }
    }
   },
   "source": [
    "### Saving test & train files\n",
    "With the data now split into 'train' and 'test' DataFrames, we save them as parquet files in preparation for upload into AzureML."
   ]
  },
  {
   "cell_type": "code",
   "execution_count": null,
   "metadata": {},
   "outputs": [],
   "source": [
    "train_pq_filename = \"Financial_news_train_data.parquet\"\n",
    "train_data_folder = \"./data_news_classification/train/\"\n",
    "train_data_path = train_data_folder + train_pq_filename\n",
    "\n",
    "os.makedirs(train_data_folder, exist_ok=True)\n",
    "train_data.to_parquet(train_data_path, index=False)\n",
    "train_df = pd.read_parquet(train_data_path)\n",
    "train_df"
   ]
  },
  {
   "cell_type": "code",
   "execution_count": null,
   "metadata": {
    "gather": {
     "logged": 1689617362536
    },
    "jupyter": {
     "outputs_hidden": false,
     "source_hidden": false
    },
    "nteract": {
     "transient": {
      "deleting": false
     }
    }
   },
   "outputs": [],
   "source": [
    "test_pq_filename = \"Financial_news_test_data.parquet\"\n",
    "test_data_folder = \"./data_news_classification/test/\"\n",
    "test_data_path = test_data_folder + test_pq_filename\n",
    "\n",
    "os.makedirs(test_data_folder, exist_ok=True)\n",
    "test_data.to_parquet(test_data_path, index=False)\n",
    "test_df = pd.read_parquet(test_data_path)\n",
    "test_df"
   ]
  },
  {
   "cell_type": "markdown",
   "metadata": {
    "nteract": {
     "transient": {
      "deleting": false
     }
    }
   },
   "source": [
    "## Get the Data to AzureML\n"
   ]
  },
  {
   "cell_type": "markdown",
   "metadata": {
    "nteract": {
     "transient": {
      "deleting": false
     }
    }
   },
   "source": [
    "We are going to create two Data assets in AzureML, one for the train and another for the test. The first step is to create an `MLClient` to perform interactions with AzureML:"
   ]
  },
  {
   "cell_type": "code",
   "execution_count": null,
   "metadata": {},
   "outputs": [],
   "source": [
    "# Enter details of your AML workspace\n",
    "subscription_id = \"<SUBSCRIPTION_ID>\"\n",
    "resource_group = \"<RESOURCE_GROUP>\"\n",
    "workspace = \"<AML_WORKSPACE_NAME>\""
   ]
  },
  {
   "cell_type": "code",
   "execution_count": null,
   "metadata": {},
   "outputs": [],
   "source": [
    "# Handle to the workspace\n",
    "from azure.ai.ml import MLClient\n",
    "from azure.identity import DefaultAzureCredential\n",
    "\n",
    "credential = DefaultAzureCredential()\n",
    "ml_client = MLClient(\n",
    "    credential=credential,\n",
    "    subscription_id=subscription_id,\n",
    "    resource_group_name=resource_group,\n",
    "    workspace_name=workspace,\n",
    ")\n",
    "print(ml_client)"
   ]
  },
  {
   "cell_type": "markdown",
   "metadata": {
    "nteract": {
     "transient": {
      "deleting": false
     }
    }
   },
   "source": [
    "### Create a data asset (URI file) to register the Data into workspace\n",
    "This is essential,  as the dashboard recognizes only registered assets. \n",
    "\n",
    "Reference:\n",
    "https://learn.microsoft.com/en-us/azure/machine-learning/how-to-create-data-assets?tabs=Python-SDK"
   ]
  },
  {
   "cell_type": "markdown",
   "metadata": {
    "nteract": {
     "transient": {
      "deleting": false
     }
    }
   },
   "source": [
    "**Note:** Change the asset name of the below file if the train/test data has changed"
   ]
  },
  {
   "cell_type": "code",
   "execution_count": null,
   "metadata": {
    "gather": {
     "logged": 1689617362318
    },
    "jupyter": {
     "outputs_hidden": false,
     "source_hidden": false
    },
    "nteract": {
     "transient": {
      "deleting": false
     }
    }
   },
   "outputs": [],
   "source": [
    "from azure.ai.ml.entities import Data\n",
    "from azure.ai.ml.constants import AssetTypes\n",
    "\n",
    "input_train_data = \"Financial_News_train_URI_file\"\n",
    "\n",
    "try:\n",
    "    # Try getting data already registered in workspace\n",
    "    train_data = ml_client.data.get(\n",
    "        name=input_train_data,\n",
    "        version=rai_example_version_string,\n",
    "    )\n",
    "\n",
    "except Exception as e:\n",
    "    train_data = Data(\n",
    "        path=train_data_path,\n",
    "        type=AssetTypes.URI_FILE,\n",
    "        description=\"RAI News article train data URI File\",\n",
    "        name=input_train_data,\n",
    "        version=rai_example_version_string,\n",
    "    )\n",
    "    ml_client.data.create_or_update(train_data)"
   ]
  },
  {
   "cell_type": "code",
   "execution_count": null,
   "metadata": {
    "gather": {
     "logged": 1689617363347
    },
    "jupyter": {
     "outputs_hidden": false,
     "source_hidden": false
    },
    "nteract": {
     "transient": {
      "deleting": false
     }
    }
   },
   "outputs": [],
   "source": [
    "from azure.ai.ml.entities import Data\n",
    "from azure.ai.ml.constants import AssetTypes\n",
    "\n",
    "input_test_data = \"Financial_News_test_URI_file\"\n",
    "\n",
    "try:\n",
    "    # Try getting data already registered in workspace\n",
    "    test_data = ml_client.data.get(\n",
    "        name=input_test_data,\n",
    "        version=rai_example_version_string,\n",
    "    )\n",
    "\n",
    "except Exception as e:\n",
    "    test_data = Data(\n",
    "        path=test_data_path,\n",
    "        type=AssetTypes.URI_FILE,\n",
    "        description=\"RAI News article test data URI File\",\n",
    "        name=input_test_data,\n",
    "        version=rai_example_version_string,\n",
    "    )\n",
    "    ml_client.data.create_or_update(test_data)"
   ]
  },
  {
   "cell_type": "markdown",
   "metadata": {
    "nteract": {
     "transient": {
      "deleting": false
     }
    }
   },
   "source": [
    "### Creating the training script RAI Dashboard"
   ]
  },
  {
   "cell_type": "markdown",
   "metadata": {
    "nteract": {
     "transient": {
      "deleting": false
     }
    }
   },
   "source": [
    "## A model training pipeline\n",
    "\n",
    "To simplify the model creation process, we're going to use a pipeline. This will have two stages:\n",
    "\n",
    "1. The actual training component\n",
    "2. A model registration component\n",
    "\n",
    "We have to register the model in AzureML in order for our RAI text insights components to use it. In this notebook we will be training and registering the model in a single pipeline"
   ]
  },
  {
   "cell_type": "markdown",
   "metadata": {
    "nteract": {
     "transient": {
      "deleting": false
     }
    }
   },
   "source": [
    "\n",
    "\n",
    "We start by creating a directory to hold the component source:"
   ]
  },
  {
   "cell_type": "code",
   "execution_count": null,
   "metadata": {
    "gather": {
     "logged": 1689617363492
    },
    "jupyter": {
     "outputs_hidden": false,
     "source_hidden": false
    },
    "nteract": {
     "transient": {
      "deleting": false
     }
    }
   },
   "outputs": [],
   "source": [
    "import os\n",
    "\n",
    "os.makedirs(\"Text_classification_component_src\", exist_ok=True)"
   ]
  },
  {
   "cell_type": "markdown",
   "metadata": {
    "nteract": {
     "transient": {
      "deleting": false
     }
    }
   },
   "source": [
    "### The Training Component\n",
    "\n",
    "This Python notebook contains code for a text classification pipeline that uses the BERT model for fine-tuning and predicting the labels of financial news articles. The pipeline is implemented as a Python script and will be run to create a model, fine-tune it, and register it in Azure ML.\n",
    "\n",
    "#### Pipeline Steps\n",
    "\n",
    "1. **Data Loading**: The pipeline starts by loading the financial news dataset from a parquet file.\n",
    "\n",
    "2. **Data Preprocessing**: The text column containing the news articles' text is used for training. The target column name (containing the labels) is specified as an argument.\n",
    "\n",
    "3. **Tokenization**: The text data is tokenized using the [BERT tokenizer](https://huggingface.co/docs/transformers/main_classes/tokenizer). The input texts are converted into input encodings and attention masks to feed into the BERT model.\n",
    "\n",
    "4. **Model Fine-Tuning**: The [BERT model](https://huggingface.co/bert-base-uncased) is loaded, and its last layer is fine-tuned using the training data. The number of epochs and learning rate are configurable.\n",
    "\n",
    "5. **Prediction Pipeline**: After fine-tuning, a prediction pipeline is built using the transformers pipeline object. This pipeline will allow us to make predictions on new text data. It also saves the trained model to a specified output path using MLFlow. \n",
    "\n",
    "6. **Model Registration**: The trained model is registered in Azure ML with a specific model name and a suffix based on the current timestamp.\n",
    "\n",
    "7. **JSON Output**: A JSON file is written, containing information about the registered model, such as its ID and version, and saved in a specified directory.\n"
   ]
  },
  {
   "cell_type": "markdown",
   "metadata": {
    "nteract": {
     "transient": {
      "deleting": false
     }
    }
   },
   "source": [
    "### Huggingface Wrapper for Text Classification Model\n",
    "\n",
    "The `HuggingfaceWrapper` class is a Python model wrapper designed to work with the [Hugging Face](https://huggingface.co/) library. It enables easy integration of Hugging Face's text classification models into Azure ML pipelines using the `mlflow.pyfunc.PythonModel` base class.\n",
    "\n",
    "\n",
    "#### Purpose\n",
    "\n",
    "**This Wrapper helps wrapping the model in *Pyfunc* flavour while it is logged via MLFLow.**\n",
    "\n",
    "The purpose of this wrapper class is to provide a convenient interface to make predictions and inference using Hugging Face's text classification pipelines. It encapsulates the functionality of SHAP (SHapley Additive exPlanations) and ensures that SHAP is installed before using it for explanation purposes.\n",
    "\n",
    "#### Class Methods\n",
    "\n",
    "**`__init__(self, pipeline)`**\n",
    "\n",
    "The constructor initializes the `HuggingfaceWrapper` object with a text classification pipeline provided as an argument. If SHAP is not installed, it raises an `ImportError` and informs the user to install it to use SHAP for explanations.\n",
    "\n",
    "**`predict(self, context, model_input=None)`**\n",
    "\n",
    "This method is used to make predictions using the wrapped text classification model. It takes the context and an optional `model_input` argument. If `model_input` is not provided, it uses the `context` parameter for inference. The method returns an array containing the indices of the highest probability predictions for each input.\n",
    "\n",
    "**`predict_proba(self, dataset)`**\n",
    "\n",
    "The `predict_proba` method returns the predictions probabilities (scores) for a given dataset using the wrapped model."
   ]
  },
  {
   "cell_type": "markdown",
   "metadata": {
    "nteract": {
     "transient": {
      "deleting": false
     }
    }
   },
   "source": [
    "#### Dependencies\n",
    "\n",
    "This script requires the following libraries and packages to be installed:\n",
    "\n",
    "- azureml-core\n",
    "- torch\n",
    "- transformers\n",
    "- mlflow\n",
    "- pandas\n",
    "- numpy\n",
    "- sklearn\n",
    "\n",
    "Make sure to have these packages installed before running the pipeline script.\n",
    "\n",
    "Let's proceed with running the pipeline and registering the model in Azure ML."
   ]
  },
  {
   "cell_type": "code",
   "execution_count": null,
   "metadata": {
    "jupyter": {
     "outputs_hidden": false,
     "source_hidden": false
    },
    "nteract": {
     "transient": {
      "deleting": false
     }
    }
   },
   "outputs": [],
   "source": [
    "%%writefile Text_classification_component_src/training_script.py\n",
    "\n",
    "import argparse\n",
    "import os, pathlib\n",
    "import shutil\n",
    "import tempfile\n",
    "import time\n",
    "import pandas as pd\n",
    "import pickle\n",
    "import json\n",
    "import numpy as np\n",
    "\n",
    "from azureml.core import Run\n",
    "\n",
    "import torch\n",
    "from sklearn.preprocessing import LabelEncoder\n",
    "\n",
    "import mlflow\n",
    "import mlflow.pyfunc\n",
    "from transformers import pipeline, AdamW\n",
    "from transformers import BertTokenizer, BertForSequenceClassification\n",
    "from transformers.models.auto import AutoConfig\n",
    "\n",
    "from ml_wrappers import wrap_model\n",
    "from ml_wrappers.common.warnings_suppressor import shap_warnings_suppressor\n",
    "from ml_wrappers.common.constants import ModelTask\n",
    "\n",
    "import typing\n",
    "\n",
    "with shap_warnings_suppressor():\n",
    "    try:\n",
    "        from shap import models\n",
    "        shap_installed = True\n",
    "    except BaseException:\n",
    "        shap_installed = False\n",
    "\n",
    "text_column = \"text\"\n",
    "\n",
    "def parse_args():\n",
    "    # setup arg parser\n",
    "    parser = argparse.ArgumentParser()\n",
    "\n",
    "    # add arguments\n",
    "    parser.add_argument(\"--training_data\", type=str, help=\"Path to training data\")\n",
    "    parser.add_argument(\"--target_column_name\", type=str, help=\"Name of target column\")\n",
    "    parser.add_argument(\"--model_info_output_path\", type=str, help=\"Path to write model info JSON\")\n",
    "    parser.add_argument(\"--model_base_name\", type=str, help=\"Name of the registered model\")\n",
    "    parser.add_argument(\"--model_name_suffix\", type=int, help=\"Set negative to use epoch_secs\")\n",
    "    # parse args\n",
    "    args = parser.parse_args()\n",
    "\n",
    "    # return args\n",
    "    return args\n",
    "\n",
    "class HuggingfaceWrapper(mlflow.pyfunc.PythonModel):\n",
    "    def __init__(self, pipeline):\n",
    "        self._model = self\n",
    "\n",
    "        if not shap_installed:\n",
    "            raise ImportError(\"SHAP is not installed. Please install it \" +\n",
    "                              \"to use WrappedTextClassificationModel.\")\n",
    "        self._wrapped_model = models.TransformersPipeline(pipeline)\n",
    "\n",
    "    def predict(self, context: mlflow.pyfunc.PythonModelContext, model_input: list[typing.Union[list[int],int]]) -> list[int]:\n",
    "        if model_input is None:\n",
    "            model_input = context # resolve positional inputs if only one arg passed\n",
    "        \n",
    "        # get all the probabilities\n",
    "        scores = self.predict_proba(model_input)\n",
    "\n",
    "        # find index of highest probability for each prediction\n",
    "        scores_list = scores.tolist()        \n",
    "        indices =[pred.index(max(pred)) for pred in scores_list]       \n",
    "                \n",
    "        return indices\n",
    "\n",
    "    def predict_proba(self, dataset):\n",
    "        return self._wrapped_model(dataset)\n",
    "\n",
    "def main(args):\n",
    "    current_experiment = Run.get_context().experiment\n",
    "    tracking_uri = current_experiment.workspace.get_mlflow_tracking_uri()\n",
    "    print(\"tracking_uri: {0}\".format(tracking_uri))\n",
    "    mlflow.set_tracking_uri(tracking_uri)\n",
    "    mlflow.set_experiment(current_experiment.name)\n",
    "\n",
    "    model_name = 'bert-base-uncased'\n",
    "    text_column_name = 'text'\n",
    "\n",
    "    # Read in data\n",
    "    print(\"Loading financial news dataset\")\n",
    "    df = pd.read_parquet(args.training_data)\n",
    "    print(df.head(5))\n",
    "\n",
    "    # Preparing train Data\n",
    "    label_encoder = LabelEncoder()\n",
    "    df['encoded_label'] = label_encoder.fit_transform(df[args.target_column_name])\n",
    "    train_df= df[[text_column_name , 'encoded_label']]\n",
    "\n",
    "    # Generating encodings\n",
    "    label2id_encodings = {l: i for (i, l) in enumerate(label_encoder.fit(df[args.target_column_name]).classes_)}\n",
    "    id2label_encodings = {v: k for k, v in label2id_encodings.items()}\n",
    "\n",
    "    # Fine Tuning\n",
    "    print(\"Loading the model and tokenizer\")\n",
    "    ## Step 1: Load the pre-trained model and tokenizer\n",
    "    model = BertForSequenceClassification.from_pretrained(\n",
    "        model_name,\n",
    "        num_labels=len(train_df['encoded_label'].unique()),\n",
    "        id2label=id2label_encodings,\n",
    "        label2id=label2id_encodings,\n",
    "        )\n",
    "    tokenizer = BertTokenizer.from_pretrained(\n",
    "        model_name,\n",
    "        )\n",
    "    \n",
    "    print(\"Prepare the text data\")\n",
    "    ## Step 2: Prepare your data\n",
    "    train_texts = train_df[text_column_name].tolist() # List of training texts\n",
    "    train_labels = train_df['encoded_label'].tolist()  # List of corresponding training labels\n",
    "\n",
    "    ### Tokenize the input texts\n",
    "    train_encodings = tokenizer(train_texts, truncation=True, padding=True)\n",
    "\n",
    "    ### Convert input encodings and labels to tensors\n",
    "    train_input_ids = torch.tensor(train_encodings['input_ids'])\n",
    "    train_attention_masks = torch.tensor(train_encodings['attention_mask'])\n",
    "    train_labels = torch.tensor(train_labels)\n",
    "\n",
    "    ## Step 3: Fine-tuning last layer BERT\n",
    "    ### Define training parameters\n",
    "    num_epochs = 15\n",
    "    learning_rate = 3e-5\n",
    "    optimizer = AdamW(model.parameters(), lr=learning_rate)\n",
    "\n",
    "    print(\"Fine-tuning the model\")\n",
    "    model.train()\n",
    "    for epoch in range(num_epochs):  # Set the desired number of training epochs\n",
    "        outputs = model(train_input_ids, attention_mask=train_attention_masks, labels=train_labels)\n",
    "        loss = outputs.loss\n",
    "        loss.backward()\n",
    "        optimizer.step()\n",
    "        optimizer.zero_grad()\n",
    "\n",
    "    ### Switch to Evaluation mode    \n",
    "    _ = model.eval()\n",
    "\n",
    "    # build a pipeline object to do predictions\n",
    "    print(\"Buildling the prediction pipeline\")\n",
    "    # Load the trained model using pipeline\n",
    "    pred = pipeline(\n",
    "        'text-classification',\n",
    "        model=model,\n",
    "        tokenizer=tokenizer,\n",
    "        top_k = None,\n",
    "        device=0 if torch.cuda.is_available() else -1,\n",
    "        return_all_scores=False # added\n",
    "    )\n",
    "\n",
    "\n",
    "    if args.model_name_suffix < 0:\n",
    "        suffix = int(time.time())\n",
    "    else:\n",
    "        suffix = args.model_name_suffix\n",
    "    registered_name = \"{0}_{1}\".format(args.model_base_name, suffix)\n",
    "    print(f\"Registering model as {registered_name}\")\n",
    "\n",
    "    # my_mlflow = PyfuncModel(pred)\n",
    "    my_mlflow = HuggingfaceWrapper(pred)\n",
    "    \n",
    "    if args.model_name_suffix < 0:\n",
    "        suffix = int(time.time())\n",
    "    else:\n",
    "        suffix = args.model_name_suffix\n",
    "\n",
    "    registered_name = \"{0}_{1}\".format(args.model_base_name, suffix)\n",
    "    print(f\"Registering model as {registered_name}\")\n",
    "\n",
    "    # Saving model with mlflow\n",
    "    print(\"Saving with mlflow\")\n",
    "    mlflow.pyfunc.log_model(\n",
    "        python_model=my_mlflow,\n",
    "        registered_model_name=registered_name,\n",
    "        artifact_path=registered_name,\n",
    "        )\n",
    "\n",
    "    print(\"Writing JSON\")\n",
    "    dict = {\"id\": \"{0}:1\".format(registered_name)}\n",
    "    output_path = os.path.join(args.model_info_output_path, \"model_info.json\")\n",
    "    with open(output_path, \"w\") as of:\n",
    "        json.dump(dict, fp=of)\n",
    "\n",
    "\n",
    "# run script\n",
    "if __name__ == \"__main__\":\n",
    "    # add space in logs\n",
    "    print(\"*\" * 60)\n",
    "    print(\"\\n\\n\")\n",
    "\n",
    "    # parse args\n",
    "    args = parse_args()\n",
    "\n",
    "    # run main function\n",
    "    main(args)\n",
    "\n",
    "    # add space in logs\n",
    "    print(\"*\" * 60)\n",
    "    print(\"\\n\\n\")"
   ]
  },
  {
   "cell_type": "markdown",
   "metadata": {
    "nteract": {
     "transient": {
      "deleting": false
     }
    }
   },
   "source": [
    "### Creating an Azure ML Training Component \n",
    "\n",
    "This code cell demonstrates the creation of an Azure Machine Learning (Azure ML) component for training a model on financial news data. The component is defined using a YAML configuration file and is later loaded into the Azure ML workspace for use in the ML pipeline.\n",
    "\n",
    "#### Component Configuration\n",
    "\n",
    "The configuration of the component is stored in the YAML format. It specifies the input and output data types, the Python script's location, and the required environment for execution. The inputs to the component include:\n",
    "\n",
    "- `training_data`: The path to the training data file in parquet format.\n",
    "- `target_column_name`: The name of the target column in the training data that contains the labels.\n",
    "- `model_base_name`: The base name to be used for the registered model.\n",
    "- `model_name_suffix`: An optional integer suffix for the model name. Set to a negative value to use the current timestamp as the suffix.\n",
    "\n",
    "The output of the component is:\n",
    "\n",
    "- `model_info_output_path`: The path to the directory where the model info JSON file will be saved.\n",
    "\n",
    "#### Command Execution\n",
    "\n",
    "The YAML configuration specifies a Python script, `training_script.py`, that will be executed with the provided inputs and outputs. The script takes the input arguments, performs the model training, and registers the trained model in the Azure ML workspace.\n",
    "\n",
    "#### Environment\n",
    "\n",
    "The component specifies the environment required for execution. It uses the environment named `responsibleai-text-ubuntu20.04-py38-cpu` from the Azure ML environment registry.\n",
    "\n",
    "Let's proceed with creating the Azure ML component and using it in our ML pipeline.\n"
   ]
  },
  {
   "cell_type": "markdown",
   "metadata": {
    "nteract": {
     "transient": {
      "deleting": false
     }
    }
   },
   "source": [
    "**Executing the below cell multiple times require change in names as the training scripts are not editable**"
   ]
  },
  {
   "cell_type": "code",
   "execution_count": null,
   "metadata": {
    "gather": {
     "logged": 1689617364099
    },
    "jupyter": {
     "outputs_hidden": false,
     "source_hidden": false
    },
    "nteract": {
     "transient": {
      "deleting": false
     }
    }
   },
   "outputs": [],
   "source": [
    "from azure.ai.ml import load_component\n",
    "\n",
    "yaml_contents = (\n",
    "    f\"\"\"\n",
    "$schema: http://azureml/sdk-2-0/CommandComponent.json\n",
    "name: rai_financial_news_training_component\n",
    "display_name: Financial News training component pipeline\n",
    "version: {rai_example_version_string}\n",
    "type: command\n",
    "inputs:\n",
    "  training_data:\n",
    "    type: path\n",
    "  target_column_name:\n",
    "    type: string\n",
    "  model_base_name:\n",
    "    type: string\n",
    "  model_name_suffix: # Set negative to use epoch_secs\n",
    "    type: integer\n",
    "    default: -1\n",
    "outputs:\n",
    "  model_info_output_path:\n",
    "    type: path\n",
    "code: ./Text_classification_component_src/\n",
    "environment: azureml://registries/azureml/environments/responsibleai-text/versions/13\n",
    "\"\"\"\n",
    "    + r\"\"\"\n",
    "command: >-\n",
    "  python training_script.py\n",
    "  --training_data ${{{{inputs.training_data}}}}\n",
    "  --target_column_name ${{{{inputs.target_column_name}}}}\n",
    "  --model_base_name ${{{{inputs.model_base_name}}}}\n",
    "  --model_name_suffix ${{{{inputs.model_name_suffix}}}}\n",
    "  --model_info_output_path ${{{{outputs.model_info_output_path}}}}\n",
    "\"\"\"\n",
    ")\n",
    "\n",
    "yaml_filename = \"FinacialNewsTrainingComp.yaml\"\n",
    "\n",
    "with open(yaml_filename, \"w\") as f:\n",
    "    f.write(yaml_contents.format(yaml_contents))\n",
    "\n",
    "train_model_component = load_component(source=yaml_filename)"
   ]
  },
  {
   "cell_type": "markdown",
   "metadata": {
    "nteract": {
     "transient": {
      "deleting": false
     }
    }
   },
   "source": [
    "We need a compute target on which to run our jobs. The following checks whether the compute specified above is present; if not, then the compute target is created."
   ]
  },
  {
   "cell_type": "code",
   "execution_count": null,
   "metadata": {
    "gather": {
     "logged": 1689617366587
    },
    "jupyter": {
     "outputs_hidden": false,
     "source_hidden": false
    },
    "nteract": {
     "transient": {
      "deleting": false
     }
    }
   },
   "outputs": [],
   "source": [
    "from azure.ai.ml.entities import AmlCompute\n",
    "\n",
    "all_compute_names = [x.name for x in ml_client.compute.list()]\n",
    "\n",
    "if compute_name in all_compute_names:\n",
    "    print(f\"Found existing compute: {compute_name}\")\n",
    "else:\n",
    "    my_compute = AmlCompute(\n",
    "        name=compute_name,\n",
    "        size=\"STANDARD_DS4_V2\",\n",
    "        min_instances=0,\n",
    "        max_instances=4,\n",
    "        idle_time_before_scale_down=3600,\n",
    "    )\n",
    "    ml_client.compute.begin_create_or_update(my_compute)\n",
    "    print(\"Initiated compute creation\")"
   ]
  },
  {
   "cell_type": "markdown",
   "metadata": {
    "nteract": {
     "transient": {
      "deleting": false
     }
    }
   },
   "source": [
    "## Running a training pipeline\n",
    "\n",
    "Now that we have our training component, we can run it. We begin by generating a unique name for the mode;"
   ]
  },
  {
   "cell_type": "code",
   "execution_count": null,
   "metadata": {
    "gather": {
     "logged": 1689617366729
    },
    "jupyter": {
     "outputs_hidden": false,
     "source_hidden": false
    },
    "nteract": {
     "transient": {
      "deleting": false
     }
    }
   },
   "outputs": [],
   "source": [
    "import time\n",
    "\n",
    "model_base_name = \"Financial_News_classifier\"\n",
    "model_name_suffix = \"12492\"\n",
    "device = -1"
   ]
  },
  {
   "cell_type": "code",
   "execution_count": null,
   "metadata": {
    "gather": {
     "logged": 1689617367120
    },
    "jupyter": {
     "outputs_hidden": false,
     "source_hidden": false
    },
    "nteract": {
     "transient": {
      "deleting": false
     }
    }
   },
   "outputs": [],
   "source": [
    "from azure.ai.ml import dsl, Input\n",
    "\n",
    "target_column_name = \"label\"\n",
    "encoded_classes = json.dumps(list(df[\"label\"].unique()))\n",
    "\n",
    "News_train_pq = Input(\n",
    "    type=\"uri_file\",\n",
    "    path=f\"azureml:{input_train_data}:{rai_example_version_string}\",\n",
    "    mode=\"download\",\n",
    ")"
   ]
  },
  {
   "cell_type": "markdown",
   "metadata": {
    "nteract": {
     "transient": {
      "deleting": false
     }
    }
   },
   "source": [
    "Next, we define our training pipeline. This has two components. The first is the training component which we defined above. The second is a component to register the model in AzureML:"
   ]
  },
  {
   "cell_type": "code",
   "execution_count": null,
   "metadata": {
    "gather": {
     "logged": 1689617367303
    },
    "jupyter": {
     "outputs_hidden": false,
     "source_hidden": false
    },
    "nteract": {
     "transient": {
      "deleting": false
     }
    }
   },
   "outputs": [],
   "source": [
    "@dsl.pipeline(\n",
    "    compute=compute_name,\n",
    "    description=\"RAI computation on Financial News Classification\",\n",
    "    experiment_name=f\"RAI_Financial_News_classification_Computation_{model_name_suffix}\",\n",
    ")\n",
    "def my_training_pipeline(\n",
    "    target_column_name, training_data, model_base_name, model_name_suffix\n",
    "):\n",
    "    trained_model = train_model_component(\n",
    "        target_column_name=target_column_name,\n",
    "        training_data=training_data,\n",
    "        model_base_name=model_base_name,\n",
    "        model_name_suffix=model_name_suffix,\n",
    "    )\n",
    "    trained_model.set_limits(timeout=1200)\n",
    "\n",
    "    return {}\n",
    "\n",
    "\n",
    "model_registration_pipeline_job = my_training_pipeline(\n",
    "    target_column_name, News_train_pq, model_base_name, model_name_suffix\n",
    ")"
   ]
  },
  {
   "cell_type": "markdown",
   "metadata": {
    "nteract": {
     "transient": {
      "deleting": false
     }
    }
   },
   "source": [
    "With the pipeline definition created, we can submit it to AzureML. We define a helper function to do the submission, which waits for the submitted job to complete:"
   ]
  },
  {
   "cell_type": "code",
   "execution_count": null,
   "metadata": {
    "gather": {
     "logged": 1689617367453
    },
    "jupyter": {
     "outputs_hidden": false,
     "source_hidden": false
    },
    "nteract": {
     "transient": {
      "deleting": false
     }
    }
   },
   "outputs": [],
   "source": [
    "from azure.ai.ml.entities import PipelineJob\n",
    "from IPython.core.display import HTML\n",
    "from IPython.display import display\n",
    "\n",
    "\n",
    "def submit_and_wait(ml_client, pipeline_job) -> PipelineJob:\n",
    "    created_job = ml_client.jobs.create_or_update(pipeline_job)\n",
    "    assert created_job is not None\n",
    "\n",
    "    print(\"Pipeline job can be accessed in the following URL:\")\n",
    "    display(HTML('<a href=\"{0}\">{0}</a>'.format(created_job.studio_url)))\n",
    "\n",
    "    while created_job.status not in [\n",
    "        \"Completed\",\n",
    "        \"Failed\",\n",
    "        \"Canceled\",\n",
    "        \"NotResponding\",\n",
    "    ]:\n",
    "        time.sleep(30)\n",
    "        created_job = ml_client.jobs.get(created_job.name)\n",
    "        print(\"Latest status : {0}\".format(created_job.status))\n",
    "    assert created_job.status == \"Completed\"\n",
    "    return created_job"
   ]
  },
  {
   "cell_type": "markdown",
   "metadata": {
    "nteract": {
     "transient": {
      "deleting": false
     }
    }
   },
   "source": [
    "With the training pipeline defined, we can submit it for execution in AzureML. We define a helper function to wait for the job to complete:"
   ]
  },
  {
   "cell_type": "code",
   "execution_count": null,
   "metadata": {
    "gather": {
     "logged": 1689618345995
    },
    "jupyter": {
     "outputs_hidden": false,
     "source_hidden": false
    },
    "nteract": {
     "transient": {
      "deleting": false
     }
    }
   },
   "outputs": [],
   "source": [
    "# This is the actual submission\n",
    "training_job = submit_and_wait(ml_client, model_registration_pipeline_job)"
   ]
  },
  {
   "cell_type": "markdown",
   "metadata": {
    "nteract": {
     "transient": {
      "deleting": false
     }
    }
   },
   "source": [
    "## Creating the RAI Text Insights \n",
    "\n",
    "Now that we have our model, we can generate RAI Text insights for it. We will need the `id` of the registered model, which will be as follows:"
   ]
  },
  {
   "cell_type": "code",
   "execution_count": null,
   "metadata": {
    "gather": {
     "logged": 1689618346789
    },
    "jupyter": {
     "outputs_hidden": false,
     "source_hidden": false
    },
    "nteract": {
     "transient": {
      "deleting": false
     }
    }
   },
   "outputs": [],
   "source": [
    "expected_model_id = f\"{model_base_name}_{model_name_suffix}:1\"\n",
    "azureml_model_id = f\"azureml:{expected_model_id}\"\n",
    "print(expected_model_id)\n",
    "print(azureml_model_id)"
   ]
  },
  {
   "cell_type": "markdown",
   "metadata": {
    "nteract": {
     "transient": {
      "deleting": false
     }
    }
   },
   "source": [
    "Next, we load the RAI components, so that we can construct a pipeline:"
   ]
  },
  {
   "cell_type": "code",
   "execution_count": null,
   "metadata": {
    "gather": {
     "logged": 1689618347226
    },
    "jupyter": {
     "outputs_hidden": false,
     "source_hidden": false
    },
    "nteract": {
     "transient": {
      "deleting": false
     }
    }
   },
   "outputs": [],
   "source": [
    "News_test_pq = Input(\n",
    "    type=\"uri_file\",\n",
    "    path=f\"azureml:{input_test_data}:{rai_example_version_string}\",\n",
    "    mode=\"download\",\n",
    ")\n",
    "\n",
    "registry_name = \"azureml\"\n",
    "credential = DefaultAzureCredential()\n",
    "\n",
    "ml_client_registry = MLClient(\n",
    "    credential=credential,\n",
    "    subscription_id=ml_client.subscription_id,\n",
    "    resource_group_name=ml_client.resource_group_name,\n",
    "    registry_name=registry_name,\n",
    ")\n",
    "\n",
    "rai_text_insights_component = ml_client_registry.components.get(\n",
    "    name=\"rai_text_insights\", version=version_string\n",
    ")"
   ]
  },
  {
   "cell_type": "markdown",
   "metadata": {
    "nteract": {
     "transient": {
      "deleting": false
     }
    }
   },
   "source": [
    "We can now specify our pipeline. Complex objects (such as lists of column names) have to be converted to JSON strings before being passed to the components."
   ]
  },
  {
   "cell_type": "code",
   "execution_count": null,
   "metadata": {
    "gather": {
     "logged": 1689618347626
    },
    "jupyter": {
     "outputs_hidden": false,
     "source_hidden": false
    },
    "nteract": {
     "transient": {
      "deleting": false
     }
    }
   },
   "outputs": [],
   "source": [
    "import json\n",
    "from azure.ai.ml import Input\n",
    "from azure.ai.ml.constants import AssetTypes\n",
    "\n",
    "\n",
    "@dsl.pipeline(\n",
    "    compute=compute_name,\n",
    "    description=\"RAI computation for Financial News Classification\",\n",
    "    experiment_name=f\"RAI_Financial_News_classification_Computation_{model_name_suffix}\",\n",
    ")\n",
    "def rai_text_classification_pipeline(\n",
    "    target_column_name,\n",
    "    train_data,\n",
    "    test_data,\n",
    "    classes,\n",
    "    use_model_dependency,\n",
    "):\n",
    "    # Initiate the RAIInsights\n",
    "    rai_text_job = rai_text_insights_component(\n",
    "        task_type=\"text_classification\",\n",
    "        model_info=expected_model_id,\n",
    "        model_input=Input(type=AssetTypes.MLFLOW_MODEL, path=azureml_model_id),\n",
    "        test_dataset=test_data,\n",
    "        target_column_name=target_column_name,\n",
    "        classes=classes,\n",
    "        use_model_dependency=use_model_dependency,\n",
    "    )\n",
    "    rai_text_job.set_limits(timeout=6000)\n",
    "\n",
    "    rai_text_job.outputs.dashboard.mode = \"upload\"\n",
    "    rai_text_job.outputs.ux_json.mode = \"upload\"\n",
    "\n",
    "    return {\n",
    "        \"dashboard\": rai_text_job.outputs.dashboard,\n",
    "        \"ux_json\": rai_text_job.outputs.ux_json,\n",
    "    }"
   ]
  },
  {
   "cell_type": "code",
   "execution_count": null,
   "metadata": {
    "gather": {
     "logged": 1689618348400
    },
    "jupyter": {
     "outputs_hidden": false,
     "source_hidden": false
    },
    "nteract": {
     "transient": {
      "deleting": false
     }
    }
   },
   "outputs": [],
   "source": [
    "encoded_classes = json.dumps(list(df[\"label\"].unique()))"
   ]
  },
  {
   "cell_type": "code",
   "execution_count": null,
   "metadata": {
    "gather": {
     "logged": 1689618348975
    },
    "jupyter": {
     "outputs_hidden": false,
     "source_hidden": false
    },
    "nteract": {
     "transient": {
      "deleting": false
     }
    }
   },
   "outputs": [],
   "source": [
    "encoded_classes"
   ]
  },
  {
   "cell_type": "code",
   "execution_count": null,
   "metadata": {
    "gather": {
     "logged": 1689618350449
    },
    "jupyter": {
     "outputs_hidden": false,
     "source_hidden": false
    },
    "nteract": {
     "transient": {
      "deleting": false
     }
    }
   },
   "outputs": [],
   "source": [
    "target_column_name = \"label\""
   ]
  },
  {
   "cell_type": "markdown",
   "metadata": {
    "nteract": {
     "transient": {
      "deleting": false
     }
    }
   },
   "source": [
    "Next, we define the pipeline object itself, and ensure that the outputs will be available for download:"
   ]
  },
  {
   "cell_type": "code",
   "execution_count": null,
   "metadata": {
    "gather": {
     "logged": 1689618350867
    },
    "jupyter": {
     "outputs_hidden": false,
     "source_hidden": false
    },
    "nteract": {
     "transient": {
      "deleting": false
     }
    }
   },
   "outputs": [],
   "source": [
    "import uuid\n",
    "from azure.ai.ml import Output\n",
    "\n",
    "\n",
    "insights_pipeline_job = rai_text_classification_pipeline(\n",
    "    target_column_name=target_column_name,\n",
    "    test_data=News_test_pq,\n",
    "    classes=encoded_classes,\n",
    "    use_model_dependency=True,\n",
    ")\n",
    "\n",
    "rand_path = str(uuid.uuid4())\n",
    "insights_pipeline_job.outputs.dashboard = Output(\n",
    "    path=f\"azureml://datastores/workspaceblobstore/paths/{rand_path}/dashboard/\",\n",
    "    mode=\"upload\",\n",
    "    type=\"uri_folder\",\n",
    ")\n",
    "insights_pipeline_job.outputs.ux_json = Output(\n",
    "    path=f\"azureml://datastores/workspaceblobstore/paths/{rand_path}/ux_json/\",\n",
    "    mode=\"upload\",\n",
    "    type=\"uri_folder\",\n",
    ")"
   ]
  },
  {
   "cell_type": "markdown",
   "metadata": {
    "nteract": {
     "transient": {
      "deleting": false
     }
    }
   },
   "source": [
    "And submit the pipeline to AzureML for execution:"
   ]
  },
  {
   "cell_type": "code",
   "execution_count": null,
   "metadata": {
    "gather": {
     "logged": 1689333203648
    },
    "jupyter": {
     "outputs_hidden": false,
     "source_hidden": false
    },
    "nteract": {
     "transient": {
      "deleting": false
     }
    }
   },
   "outputs": [],
   "source": [
    "insights_job = submit_and_wait(ml_client, insights_pipeline_job)"
   ]
  },
  {
   "cell_type": "markdown",
   "metadata": {
    "nteract": {
     "transient": {
      "deleting": false
     }
    }
   },
   "source": [
    "The dashboard should appear in the AzureML portal in the registered model view. The following cell computes the expected URI:"
   ]
  },
  {
   "cell_type": "code",
   "execution_count": null,
   "metadata": {
    "gather": {
     "logged": 1689333204418
    },
    "jupyter": {
     "outputs_hidden": false,
     "source_hidden": false
    },
    "nteract": {
     "transient": {
      "deleting": false
     }
    }
   },
   "outputs": [],
   "source": [
    "sub_id = ml_client._operation_scope.subscription_id\n",
    "rg_name = ml_client._operation_scope.resource_group_name\n",
    "ws_name = ml_client.workspace_name\n",
    "\n",
    "expected_uri = f\"https://ml.azure.com/model/{expected_model_id}/model_analysis?wsid=/subscriptions/{sub_id}/resourcegroups/{rg_name}/workspaces/{ws_name}\"\n",
    "\n",
    "print(f\"Please visit {expected_uri} to see your analysis\")"
   ]
  },
  {
   "cell_type": "markdown",
   "metadata": {
    "nteract": {
     "transient": {
      "deleting": false
     }
    }
   },
   "source": [
    "Once this is complete, we can go to the Registered Models view in the AzureML portal, and find the model we have just registered. On the 'Model Details' page, there is a \"Responsible AI dashboard\" tab where we can view the insights which we have just uploaded."
   ]
  },
  {
   "cell_type": "code",
   "execution_count": null,
   "metadata": {},
   "outputs": [],
   "source": [
    "# Remove the temporary directories\n",
    "from pathlib import Path\n",
    "import shutil\n",
    "\n",
    "comp_dir = Path(\"./Text_classification_component_src\")\n",
    "list_dir = [comp_dir]\n",
    "\n",
    "for dir in list_dir:\n",
    "    if dir.exists() and dir.is_dir():\n",
    "        shutil.rmtree(dir)\n",
    "\n",
    "\n",
    "list_file = [\"./FinacialNewsTrainingComp.yaml\"]\n",
    "\n",
    "for file in list_file:\n",
    "    if os.path.exists(file):\n",
    "        os.remove(file)"
   ]
  }
 ],
 "metadata": {
  "kernel_info": {
   "name": "python310-sdkv2"
  },
  "kernelspec": {
   "display_name": "rai",
   "language": "python",
   "name": "python3"
  },
  "language_info": {
   "codemirror_mode": {
    "name": "ipython",
    "version": 3
   },
   "file_extension": ".py",
   "mimetype": "text/x-python",
   "name": "python",
   "nbconvert_exporter": "python",
   "pygments_lexer": "ipython3",
   "version": "3.10.16"
  },
  "microsoft": {
   "host": {
    "AzureML": {
     "notebookHasBeenCompleted": true
    }
   },
   "ms_spell_check": {
    "ms_spell_check_language": "en"
   }
  },
  "nteract": {
   "version": "nteract-front-end@1.0.0"
  }
 },
 "nbformat": 4,
 "nbformat_minor": 2
}
