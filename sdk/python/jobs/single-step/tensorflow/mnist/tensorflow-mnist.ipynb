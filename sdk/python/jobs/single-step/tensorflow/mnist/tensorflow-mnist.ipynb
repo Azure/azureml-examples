{
 "cells": [
  {
   "cell_type": "markdown",
   "metadata": {},
   "source": [
    "# Train a basic neural network with TensorFlow on the MNIST dataset.\n",
    "\n",
    "**Requirements** - In order to benefit from this tutorial, you will need:\n",
    "- A basic understanding of Machine Learning\n",
    "- An Azure account with an active subscription. [Create an account for free](https://azure.microsoft.com/free/?WT.mc_id=A261C142F)\n",
    "- An Azure ML workspace with computer cluster - [Configure workspace](../../../configuration.ipynb) \n",
    "\n",
    "- A python environment\n",
    "- Installed Azure Machine Learning Python SDK v2 - [install instructions](../../../../README.md) - check the getting started section\n",
    "\n",
    "**Learning Objectives** - By the end of this tutorial, you should be able to:\n",
    "- Connect to your AML workspace from the Python SDK\n",
    "- Create and run a `Command` which executes a Python command\n",
    "- Use a local file as an `input` to the Command\n",
    "\n",
    "**Motivations** - This notebook explains how to setup and run a Command. The Command is a fundamental construct of Azure Machine Learning. It can be used to run a task on a specified compute (either local or on the cloud). The Command accepts `environment` and `compute` to setup required infrastructure. You can define a `command` to run on this infrastructure with `inputs`."
   ]
  },
  {
   "cell_type": "markdown",
   "metadata": {},
   "source": [
    "# 1. Connect to Azure Machine Learning Workspace\n",
    "\n",
    "The [workspace](https://docs.microsoft.com/en-us/azure/machine-learning/concept-workspace) is the top-level resource for Azure Machine Learning, providing a centralized place to work with all the artifacts you create when you use Azure Machine Learning. In this section we will connect to the workspace in which the job will be run.\n",
    "\n",
    "## 1.1. Import the required libraries"
   ]
  },
  {
   "cell_type": "code",
   "execution_count": 1,
   "metadata": {
    "gather": {
     "logged": 1634854439863
    }
   },
   "outputs": [
    {
     "name": "stderr",
     "output_type": "stream",
     "text": [
      "Class SystemCreatedStorageAccount: This is an experimental class, and may change at any time. Please see https://aka.ms/azuremlexperimental for more information.\n",
      "Class SystemCreatedAcrAccount: This is an experimental class, and may change at any time. Please see https://aka.ms/azuremlexperimental for more information.\n"
     ]
    }
   ],
   "source": [
    "# import required libraries\n",
    "from azure.ai.ml import MLClient\n",
    "from azure.ai.ml import command\n",
    "from azure.ai.ml.entities import JobService\n",
    "from azure.identity import DefaultAzureCredential"
   ]
  },
  {
   "cell_type": "code",
   "execution_count": 2,
   "metadata": {
    "gather": {
     "logged": 1634854439994
    }
   },
   "outputs": [],
   "source": [
    "# Enter details of your AML workspace\n",
    "subscription_id = \"381b38e9-9840-4719-a5a0-61d9585e1e91\"\n",
    "resource_group = \"sasik_rg\"\n",
    "workspace = \"sasik_canary\""
   ]
  },
  {
   "cell_type": "markdown",
   "metadata": {},
   "source": [
    "## 1.2. Configure workspace details and get a handle to the workspace\n",
    "\n",
    "To connect to a workspace, we need identifier parameters - a subscription, resource group and workspace name. We will use these details in the `MLClient` from `azure.ai.ml` to get a handle to the required Azure Machine Learning workspace. We use the default [default azure authentication](https://docs.microsoft.com/en-us/python/api/azure-identity/azure.identity.defaultazurecredential?view=azure-python) for this tutorial. Check the [configuration notebook](../../../configuration.ipynb) for more details on how to configure credentials and connect to a workspace."
   ]
  },
  {
   "cell_type": "code",
   "execution_count": 3,
   "metadata": {
    "gather": {
     "logged": 1634854440154
    }
   },
   "outputs": [
    {
     "name": "stderr",
     "output_type": "stream",
     "text": [
      "Class RegistryOperations: This is an experimental class, and may change at any time. Please see https://aka.ms/azuremlexperimental for more information.\n"
     ]
    }
   ],
   "source": [
    "# get a handle to the workspace\n",
    "\n",
    "ml_client = MLClient(\n",
    "    DefaultAzureCredential(), subscription_id, resource_group, workspace\n",
    ")"
   ]
  },
  {
   "cell_type": "markdown",
   "metadata": {},
   "source": [
    "# 2. Configure and run the Command\n",
    "In this section we will configure and run a standalone job using the `command` class. The `command` class can be used to run standalone jobs and can also be used as a function inside pipelines.\n",
    "\n",
    "## 2.1 Configure the Command\n",
    "The `command` allows user to configure the following key aspects.\n",
    "- `code` - This is the path where the code to run the command is located\n",
    "- `command` - This is the command that needs to be run\n",
    "- `inputs` - This is the dictionary of inputs using name value pairs to the command. The key is a name for the input within the context of the job and the value is the input value. Inputs can be referenced in the `command` using the `${{inputs.<input_name>}}` expression. To use files or folders as inputs, we can use the `Input` class. The `Input` class supports three parameters:\n",
    "    - `type` - The type of input. This can be a `uri_file` or `uri_folder`. The default is `uri_folder`.         \n",
    "    - `path` - The path to the file or folder. These can be local or remote files or folders. For remote files - http/https, wasb are supported. \n",
    "        - Azure ML `data`/`dataset` or `datastore` are of type `uri_folder`. To use `data`/`dataset` as input, you can use registered dataset in the workspace using the format '<data_name>:<version>'. For e.g Input(type='uri_folder', path='my_dataset:1')\n",
    "    - `mode` - \tMode of how the data should be delivered to the compute target. Allowed values are `ro_mount`, `rw_mount` and `download`. Default is `ro_mount`\n",
    "- `environment` - This is the environment needed for the command to run. Curated or custom environments from the workspace can be used. Or a custom environment can be created and used as well. Check out the [environment](../../../../assets/environment/environment.ipynb) notebook for more examples.\n",
    "- `compute` - The compute on which the command will run. In this example we are using a compute called `cpu-cluster` present in the workspace. You can replace it any other compute in the workspace. You can run it on the local machine by using `local` for the compute. This will run the command on the local machine and all the run details and output of the job will be uploaded to the Azure ML workspace.\n",
    "- `distribution` - Distribution configuration for distributed training scenarios. Azure Machine Learning supports PyTorch, TensorFlow, and MPI-based distributed training. The allowed values are `PyTorch`, `TensorFlow` or `Mpi`.\n",
    "- `display_name` - The display name of the Job\n",
    "- `description` - The description of the experiment\n",
    "- `services` - Interactive applications you can enable to access your job container. Supported applications include `jupyter_lab`, `vs_code`, `tensor_board` (needs a log directory) and `SSH` (needs a public key)."
   ]
  },
  {
   "cell_type": "code",
   "execution_count": 7,
   "metadata": {
    "gather": {
     "logged": 1634854440714
    }
   },
   "outputs": [],
   "source": [
    "# create the command\n",
    "job = command(\n",
    "    code=\"./src\",  # local path where the code is stored\n",
    "    command=\"python main.py\",\n",
    "    environment=\"AzureML-tensorflow-2.7-ubuntu20.04-py38-cuda11-gpu@latest\",\n",
    "    compute=\"gpu-cluster\",\n",
    "    display_name=\"tensorflow-mnist-example\",\n",
    "    services={\n",
    "        \"Jupyterlab endpoint\": JobService(\n",
    "            job_service_type = \"jupyter_lab\"\n",
    "        ),\n",
    "        \"Vscode endpoint\": JobService(\n",
    "            job_service_type = \"vs_code\"\n",
    "        ),\n",
    "        \"TensorBoard endpoint\": JobService(\n",
    "            job_service_type=\"tensor_board\",\n",
    "            properties={\n",
    "                \"logDir\":\"logs/\" # relative path of Tensorboard logs (same as in your training script)\n",
    "            }\n",
    "        )\n",
    "        # \"My_ssh\": JobService(\n",
    "            # job_service_type = \"ssh\",\n",
    "            # properties={\n",
    "            #   \"sshPublicKeys\":\"<add-public-key>\"\n",
    "            # }\n",
    "        # ) # uncomment add SSH Public Key to access job container via SSH\n",
    "    }\n",
    "    # experiment_name: tensorflow-mnist-example\n",
    "    # description: Train a basic neural network with TensorFlow on the MNIST dataset.\n",
    ")"
   ]
  },
  {
   "cell_type": "markdown",
   "metadata": {},
   "source": [
    "## 2.2 Run the Command\n",
    "Using the `MLClient` created earlier, we will now run this Command as a job in the workspace."
   ]
  },
  {
   "cell_type": "code",
   "execution_count": 5,
   "metadata": {
    "gather": {
     "logged": 1634854446905
    }
   },
   "outputs": [
    {
     "name": "stderr",
     "output_type": "stream",
     "text": [
      "DefaultAzureCredential failed to retrieve a token from the included credentials.\n",
      "Attempted credentials:\n",
      "\tEnvironmentCredential: EnvironmentCredential authentication unavailable. Environment variables are not fully configured.\n",
      "Visit https://aka.ms/azsdk/python/identity/environmentcredential/troubleshoot to troubleshoot.this issue.\n",
      "\tManagedIdentityCredential: ManagedIdentityCredential authentication unavailable, no response from the IMDS endpoint.\n",
      "\tSharedTokenCacheCredential: Azure Active Directory error '(invalid_grant) AADSTS700082: The refresh token has expired due to inactivity. The token was issued on 2022-07-27T16:04:11.6872555Z and was inactive for 90.00:00:00.\n",
      "Trace ID: e7b6db45-5558-48b2-b271-fa9267a72800\n",
      "Correlation ID: b1f6a43b-8545-489b-894c-a103c1531fca\n",
      "Timestamp: 2022-11-01 16:48:42Z'\n",
      "Content: {\"error\":\"invalid_grant\",\"error_description\":\"AADSTS700082: The refresh token has expired due to inactivity. The token was issued on 2022-07-27T16:04:11.6872555Z and was inactive for 90.00:00:00.\\r\\nTrace ID: e7b6db45-5558-48b2-b271-fa9267a72800\\r\\nCorrelation ID: b1f6a43b-8545-489b-894c-a103c1531fca\\r\\nTimestamp: 2022-11-01 16:48:42Z\",\"error_codes\":[700082],\"timestamp\":\"2022-11-01 16:48:42Z\",\"trace_id\":\"e7b6db45-5558-48b2-b271-fa9267a72800\",\"correlation_id\":\"b1f6a43b-8545-489b-894c-a103c1531fca\",\"error_uri\":\"https://login.microsoftonline.com/error?code=700082\"}\n",
      "To mitigate this issue, please refer to the troubleshooting guidelines here at https://aka.ms/azsdk/python/identity/defaultazurecredential/troubleshoot.\n"
     ]
    },
    {
     "ename": "ClientAuthenticationError",
     "evalue": "DefaultAzureCredential failed to retrieve a token from the included credentials.\nAttempted credentials:\n\tEnvironmentCredential: EnvironmentCredential authentication unavailable. Environment variables are not fully configured.\nVisit https://aka.ms/azsdk/python/identity/environmentcredential/troubleshoot to troubleshoot.this issue.\n\tManagedIdentityCredential: ManagedIdentityCredential authentication unavailable, no response from the IMDS endpoint.\n\tSharedTokenCacheCredential: Azure Active Directory error '(invalid_grant) AADSTS700082: The refresh token has expired due to inactivity. The token was issued on 2022-07-27T16:04:11.6872555Z and was inactive for 90.00:00:00.\r\nTrace ID: e7b6db45-5558-48b2-b271-fa9267a72800\r\nCorrelation ID: b1f6a43b-8545-489b-894c-a103c1531fca\r\nTimestamp: 2022-11-01 16:48:42Z'\nContent: {\"error\":\"invalid_grant\",\"error_description\":\"AADSTS700082: The refresh token has expired due to inactivity. The token was issued on 2022-07-27T16:04:11.6872555Z and was inactive for 90.00:00:00.\\r\\nTrace ID: e7b6db45-5558-48b2-b271-fa9267a72800\\r\\nCorrelation ID: b1f6a43b-8545-489b-894c-a103c1531fca\\r\\nTimestamp: 2022-11-01 16:48:42Z\",\"error_codes\":[700082],\"timestamp\":\"2022-11-01 16:48:42Z\",\"trace_id\":\"e7b6db45-5558-48b2-b271-fa9267a72800\",\"correlation_id\":\"b1f6a43b-8545-489b-894c-a103c1531fca\",\"error_uri\":\"https://login.microsoftonline.com/error?code=700082\"}\nTo mitigate this issue, please refer to the troubleshooting guidelines here at https://aka.ms/azsdk/python/identity/defaultazurecredential/troubleshoot.",
     "output_type": "error",
     "traceback": [
      "\u001b[1;31m---------------------------------------------------------------------------\u001b[0m",
      "\u001b[1;31mClientAuthenticationError\u001b[0m                 Traceback (most recent call last)",
      "Cell \u001b[1;32mIn [5], line 2\u001b[0m\n\u001b[0;32m      1\u001b[0m \u001b[39m# submit the command\u001b[39;00m\n\u001b[1;32m----> 2\u001b[0m returned_job \u001b[39m=\u001b[39m ml_client\u001b[39m.\u001b[39;49mcreate_or_update(job)\n",
      "File \u001b[1;32mc:\\Users\\shoja\\Anaconda3\\envs\\v2_final\\lib\\site-packages\\azure\\ai\\ml\\_ml_client.py:803\u001b[0m, in \u001b[0;36mMLClient.create_or_update\u001b[1;34m(self, entity, **kwargs)\u001b[0m\n\u001b[0;32m    781\u001b[0m \u001b[39mdef\u001b[39;00m \u001b[39mcreate_or_update\u001b[39m(\n\u001b[0;32m    782\u001b[0m     \u001b[39mself\u001b[39m,\n\u001b[0;32m    783\u001b[0m     entity: T,\n\u001b[0;32m    784\u001b[0m     \u001b[39m*\u001b[39m\u001b[39m*\u001b[39mkwargs,\n\u001b[0;32m    785\u001b[0m ) \u001b[39m-\u001b[39m\u001b[39m>\u001b[39m T:\n\u001b[0;32m    786\u001b[0m     \u001b[39m\"\"\"Creates or updates an Azure ML resource.\u001b[39;00m\n\u001b[0;32m    787\u001b[0m \n\u001b[0;32m    788\u001b[0m \u001b[39m    :param entity: The resource to create or update.\u001b[39;00m\n\u001b[1;32m   (...)\u001b[0m\n\u001b[0;32m    800\u001b[0m \u001b[39m        azure.ai.ml.entities.Datastore]\u001b[39;00m\n\u001b[0;32m    801\u001b[0m \u001b[39m    \"\"\"\u001b[39;00m\n\u001b[1;32m--> 803\u001b[0m     \u001b[39mreturn\u001b[39;00m _create_or_update(entity, \u001b[39mself\u001b[39m\u001b[39m.\u001b[39m_operation_container\u001b[39m.\u001b[39mall_operations, \u001b[39m*\u001b[39m\u001b[39m*\u001b[39mkwargs)\n",
      "File \u001b[1;32mc:\\Users\\shoja\\Anaconda3\\envs\\v2_final\\lib\\functools.py:889\u001b[0m, in \u001b[0;36msingledispatch.<locals>.wrapper\u001b[1;34m(*args, **kw)\u001b[0m\n\u001b[0;32m    885\u001b[0m \u001b[39mif\u001b[39;00m \u001b[39mnot\u001b[39;00m args:\n\u001b[0;32m    886\u001b[0m     \u001b[39mraise\u001b[39;00m \u001b[39mTypeError\u001b[39;00m(\u001b[39mf\u001b[39m\u001b[39m'\u001b[39m\u001b[39m{\u001b[39;00mfuncname\u001b[39m}\u001b[39;00m\u001b[39m requires at least \u001b[39m\u001b[39m'\u001b[39m\n\u001b[0;32m    887\u001b[0m                     \u001b[39m'\u001b[39m\u001b[39m1 positional argument\u001b[39m\u001b[39m'\u001b[39m)\n\u001b[1;32m--> 889\u001b[0m \u001b[39mreturn\u001b[39;00m dispatch(args[\u001b[39m0\u001b[39m]\u001b[39m.\u001b[39m\u001b[39m__class__\u001b[39m)(\u001b[39m*\u001b[39margs, \u001b[39m*\u001b[39m\u001b[39m*\u001b[39mkw)\n",
      "File \u001b[1;32mc:\\Users\\shoja\\Anaconda3\\envs\\v2_final\\lib\\site-packages\\azure\\ai\\ml\\_ml_client.py:861\u001b[0m, in \u001b[0;36m_\u001b[1;34m(entity, operations, **kwargs)\u001b[0m\n\u001b[0;32m    858\u001b[0m \u001b[39m@_create_or_update\u001b[39m\u001b[39m.\u001b[39mregister(Job)\n\u001b[0;32m    859\u001b[0m \u001b[39mdef\u001b[39;00m \u001b[39m_\u001b[39m(entity: Job, operations, \u001b[39m*\u001b[39m\u001b[39m*\u001b[39mkwargs):\n\u001b[0;32m    860\u001b[0m     module_logger\u001b[39m.\u001b[39mdebug(\u001b[39m\"\u001b[39m\u001b[39mCreating or updating job\u001b[39m\u001b[39m\"\u001b[39m)\n\u001b[1;32m--> 861\u001b[0m     \u001b[39mreturn\u001b[39;00m operations[AzureMLResourceType\u001b[39m.\u001b[39mJOB]\u001b[39m.\u001b[39mcreate_or_update(entity, \u001b[39m*\u001b[39m\u001b[39m*\u001b[39mkwargs)\n",
      "File \u001b[1;32mc:\\Users\\shoja\\Anaconda3\\envs\\v2_final\\lib\\site-packages\\azure\\core\\tracing\\decorator.py:78\u001b[0m, in \u001b[0;36mdistributed_trace.<locals>.decorator.<locals>.wrapper_use_tracer\u001b[1;34m(*args, **kwargs)\u001b[0m\n\u001b[0;32m     76\u001b[0m span_impl_type \u001b[39m=\u001b[39m settings\u001b[39m.\u001b[39mtracing_implementation()\n\u001b[0;32m     77\u001b[0m \u001b[39mif\u001b[39;00m span_impl_type \u001b[39mis\u001b[39;00m \u001b[39mNone\u001b[39;00m:\n\u001b[1;32m---> 78\u001b[0m     \u001b[39mreturn\u001b[39;00m func(\u001b[39m*\u001b[39margs, \u001b[39m*\u001b[39m\u001b[39m*\u001b[39mkwargs)\n\u001b[0;32m     80\u001b[0m \u001b[39m# Merge span is parameter is set, but only if no explicit parent are passed\u001b[39;00m\n\u001b[0;32m     81\u001b[0m \u001b[39mif\u001b[39;00m merge_span \u001b[39mand\u001b[39;00m \u001b[39mnot\u001b[39;00m passed_in_parent:\n",
      "File \u001b[1;32mc:\\Users\\shoja\\Anaconda3\\envs\\v2_final\\lib\\site-packages\\azure\\ai\\ml\\operations\\_job_operations.py:562\u001b[0m, in \u001b[0;36mJobOperations.create_or_update\u001b[1;34m(self, job, description, compute, tags, experiment_name, skip_validation, **kwargs)\u001b[0m\n\u001b[0;32m    560\u001b[0m     log_and_raise_error(ex)\n\u001b[0;32m    561\u001b[0m \u001b[39melse\u001b[39;00m:\n\u001b[1;32m--> 562\u001b[0m     \u001b[39mraise\u001b[39;00m ex\n",
      "File \u001b[1;32mc:\\Users\\shoja\\Anaconda3\\envs\\v2_final\\lib\\site-packages\\azure\\ai\\ml\\operations\\_job_operations.py:497\u001b[0m, in \u001b[0;36mJobOperations.create_or_update\u001b[1;34m(self, job, description, compute, tags, experiment_name, skip_validation, **kwargs)\u001b[0m\n\u001b[0;32m    494\u001b[0m     \u001b[39mself\u001b[39m\u001b[39m.\u001b[39m_validate(job, raise_on_failure\u001b[39m=\u001b[39m\u001b[39mTrue\u001b[39;00m)\n\u001b[0;32m    496\u001b[0m \u001b[39m# Create all dependent resources\u001b[39;00m\n\u001b[1;32m--> 497\u001b[0m \u001b[39mself\u001b[39;49m\u001b[39m.\u001b[39;49m_resolve_arm_id_or_upload_dependencies(job)\n\u001b[0;32m    499\u001b[0m git_props \u001b[39m=\u001b[39m get_git_properties()\n\u001b[0;32m    500\u001b[0m \u001b[39m# Do not add git props if they already exist in job properties.\u001b[39;00m\n\u001b[0;32m    501\u001b[0m \u001b[39m# This is for update specifically-- if the user switches branches and tries to update\u001b[39;00m\n\u001b[0;32m    502\u001b[0m \u001b[39m# their job, the request will fail since the git props will be repopulated.\u001b[39;00m\n\u001b[0;32m    503\u001b[0m \u001b[39m# MFE does not allow existing properties to be updated, only for new props to be added\u001b[39;00m\n",
      "File \u001b[1;32mc:\\Users\\shoja\\Anaconda3\\envs\\v2_final\\lib\\site-packages\\azure\\ai\\ml\\operations\\_job_operations.py:839\u001b[0m, in \u001b[0;36mJobOperations._resolve_arm_id_or_upload_dependencies\u001b[1;34m(self, job)\u001b[0m\n\u001b[0;32m    829\u001b[0m \u001b[39mdef\u001b[39;00m \u001b[39m_resolve_arm_id_or_upload_dependencies\u001b[39m(\u001b[39mself\u001b[39m, job: Job) \u001b[39m-\u001b[39m\u001b[39m>\u001b[39m \u001b[39mNone\u001b[39;00m:\n\u001b[0;32m    830\u001b[0m     \u001b[39m\"\"\"This method converts name or name:version to ARM id. Or it\u001b[39;00m\n\u001b[0;32m    831\u001b[0m \u001b[39m    registers/uploads nested dependencies.\u001b[39;00m\n\u001b[0;32m    832\u001b[0m \n\u001b[1;32m   (...)\u001b[0m\n\u001b[0;32m    836\u001b[0m \u001b[39m    :rtype: Job\u001b[39;00m\n\u001b[0;32m    837\u001b[0m \u001b[39m    \"\"\"\u001b[39;00m\n\u001b[1;32m--> 839\u001b[0m     \u001b[39mself\u001b[39;49m\u001b[39m.\u001b[39;49m_resolve_arm_id_or_azureml_id(job, \u001b[39mself\u001b[39;49m\u001b[39m.\u001b[39;49m_orchestrators\u001b[39m.\u001b[39;49mget_asset_arm_id)\n\u001b[0;32m    841\u001b[0m     \u001b[39mif\u001b[39;00m \u001b[39misinstance\u001b[39m(job, PipelineJob):\n\u001b[0;32m    842\u001b[0m         \u001b[39m# Resolve top-level inputs\u001b[39;00m\n\u001b[0;32m    843\u001b[0m         \u001b[39mself\u001b[39m\u001b[39m.\u001b[39m_resolve_pipeline_job_inputs(job, job\u001b[39m.\u001b[39m_base_path)\n",
      "File \u001b[1;32mc:\\Users\\shoja\\Anaconda3\\envs\\v2_final\\lib\\site-packages\\azure\\ai\\ml\\operations\\_job_operations.py:1043\u001b[0m, in \u001b[0;36mJobOperations._resolve_arm_id_or_azureml_id\u001b[1;34m(self, job, resolver)\u001b[0m\n\u001b[0;32m   1041\u001b[0m     job\u001b[39m.\u001b[39mcompute \u001b[39m=\u001b[39m \u001b[39mself\u001b[39m\u001b[39m.\u001b[39m_resolve_compute_id(resolver, job\u001b[39m.\u001b[39mcompute)\n\u001b[0;32m   1042\u001b[0m \u001b[39melif\u001b[39;00m \u001b[39misinstance\u001b[39m(job, Command):\n\u001b[1;32m-> 1043\u001b[0m     job \u001b[39m=\u001b[39m \u001b[39mself\u001b[39;49m\u001b[39m.\u001b[39;49m_resolve_arm_id_for_command_job(job, resolver)\n\u001b[0;32m   1044\u001b[0m \u001b[39melif\u001b[39;00m \u001b[39misinstance\u001b[39m(job, ImportJob):\n\u001b[0;32m   1045\u001b[0m     job \u001b[39m=\u001b[39m \u001b[39mself\u001b[39m\u001b[39m.\u001b[39m_resolve_arm_id_for_import_job(job, resolver)\n",
      "File \u001b[1;32mc:\\Users\\shoja\\Anaconda3\\envs\\v2_final\\lib\\site-packages\\azure\\ai\\ml\\operations\\_job_operations.py:1080\u001b[0m, in \u001b[0;36mJobOperations._resolve_arm_id_for_command_job\u001b[1;34m(self, job, resolver)\u001b[0m\n\u001b[0;32m   1071\u001b[0m     \u001b[39mraise\u001b[39;00m ValidationException(\n\u001b[0;32m   1072\u001b[0m         message\u001b[39m=\u001b[39mmsg\u001b[39m.\u001b[39mformat(job\u001b[39m.\u001b[39mcode),\n\u001b[0;32m   1073\u001b[0m         target\u001b[39m=\u001b[39mErrorTarget\u001b[39m.\u001b[39mJOB,\n\u001b[1;32m   (...)\u001b[0m\n\u001b[0;32m   1076\u001b[0m         error_type\u001b[39m=\u001b[39mValidationErrorType\u001b[39m.\u001b[39mINVALID_VALUE,\n\u001b[0;32m   1077\u001b[0m     )\n\u001b[0;32m   1079\u001b[0m \u001b[39mif\u001b[39;00m job\u001b[39m.\u001b[39mcode \u001b[39mis\u001b[39;00m \u001b[39mnot\u001b[39;00m \u001b[39mNone\u001b[39;00m \u001b[39mand\u001b[39;00m \u001b[39mnot\u001b[39;00m is_ARM_id_for_resource(job\u001b[39m.\u001b[39mcode, AzureMLResourceType\u001b[39m.\u001b[39mCODE):\n\u001b[1;32m-> 1080\u001b[0m     job\u001b[39m.\u001b[39mcode \u001b[39m=\u001b[39m resolver(\n\u001b[0;32m   1081\u001b[0m         Code(base_path\u001b[39m=\u001b[39;49mjob\u001b[39m.\u001b[39;49m_base_path, path\u001b[39m=\u001b[39;49mjob\u001b[39m.\u001b[39;49mcode),\n\u001b[0;32m   1082\u001b[0m         azureml_type\u001b[39m=\u001b[39;49mAzureMLResourceType\u001b[39m.\u001b[39;49mCODE,\n\u001b[0;32m   1083\u001b[0m     )\n\u001b[0;32m   1084\u001b[0m job\u001b[39m.\u001b[39menvironment \u001b[39m=\u001b[39m resolver(job\u001b[39m.\u001b[39menvironment, azureml_type\u001b[39m=\u001b[39mAzureMLResourceType\u001b[39m.\u001b[39mENVIRONMENT)\n\u001b[0;32m   1085\u001b[0m job\u001b[39m.\u001b[39mcompute \u001b[39m=\u001b[39m \u001b[39mself\u001b[39m\u001b[39m.\u001b[39m_resolve_compute_id(resolver, job\u001b[39m.\u001b[39mcompute)\n",
      "File \u001b[1;32mc:\\Users\\shoja\\Anaconda3\\envs\\v2_final\\lib\\site-packages\\azure\\ai\\ml\\operations\\_operation_orchestrator.py:206\u001b[0m, in \u001b[0;36mOperationOrchestrator.get_asset_arm_id\u001b[1;34m(self, asset, azureml_type, register_asset, sub_workspace_resource)\u001b[0m\n\u001b[0;32m    203\u001b[0m \u001b[39mtry\u001b[39;00m:\n\u001b[0;32m    204\u001b[0m     \u001b[39m# TODO: once the asset redesign is finished, this logic can be replaced with unified API\u001b[39;00m\n\u001b[0;32m    205\u001b[0m     \u001b[39mif\u001b[39;00m azureml_type \u001b[39m==\u001b[39m AzureMLResourceType\u001b[39m.\u001b[39mCODE \u001b[39mand\u001b[39;00m \u001b[39misinstance\u001b[39m(asset, Code):\n\u001b[1;32m--> 206\u001b[0m         result \u001b[39m=\u001b[39m \u001b[39mself\u001b[39;49m\u001b[39m.\u001b[39;49m_get_code_asset_arm_id(asset, register_asset\u001b[39m=\u001b[39;49mregister_asset)\n\u001b[0;32m    207\u001b[0m     \u001b[39melif\u001b[39;00m azureml_type \u001b[39m==\u001b[39m AzureMLResourceType\u001b[39m.\u001b[39mENVIRONMENT \u001b[39mand\u001b[39;00m \u001b[39misinstance\u001b[39m(asset, Environment):\n\u001b[0;32m    208\u001b[0m         result \u001b[39m=\u001b[39m \u001b[39mself\u001b[39m\u001b[39m.\u001b[39m_get_environment_arm_id(asset, register_asset\u001b[39m=\u001b[39mregister_asset)\n",
      "File \u001b[1;32mc:\\Users\\shoja\\Anaconda3\\envs\\v2_final\\lib\\site-packages\\azure\\ai\\ml\\operations\\_operation_orchestrator.py:263\u001b[0m, in \u001b[0;36mOperationOrchestrator._get_code_asset_arm_id\u001b[1;34m(self, code_asset, register_asset)\u001b[0m\n\u001b[0;32m    261\u001b[0m     \u001b[39mreturn\u001b[39;00m uploaded_code_asset\n\u001b[0;32m    262\u001b[0m \u001b[39mexcept\u001b[39;00m (MlException, HttpResponseError) \u001b[39mas\u001b[39;00m e:\n\u001b[1;32m--> 263\u001b[0m     \u001b[39mraise\u001b[39;00m e\n\u001b[0;32m    264\u001b[0m \u001b[39mexcept\u001b[39;00m \u001b[39mException\u001b[39;00m \u001b[39mas\u001b[39;00m e:\n\u001b[0;32m    265\u001b[0m     \u001b[39mraise\u001b[39;00m AssetException(\n\u001b[0;32m    266\u001b[0m         message\u001b[39m=\u001b[39m\u001b[39mf\u001b[39m\u001b[39m\"\u001b[39m\u001b[39mError with code: \u001b[39m\u001b[39m{\u001b[39;00me\u001b[39m}\u001b[39;00m\u001b[39m\"\u001b[39m,\n\u001b[0;32m    267\u001b[0m         target\u001b[39m=\u001b[39mErrorTarget\u001b[39m.\u001b[39mASSET,\n\u001b[1;32m   (...)\u001b[0m\n\u001b[0;32m    270\u001b[0m         error_category\u001b[39m=\u001b[39mErrorCategory\u001b[39m.\u001b[39mSYSTEM_ERROR,\n\u001b[0;32m    271\u001b[0m     )\n",
      "File \u001b[1;32mc:\\Users\\shoja\\Anaconda3\\envs\\v2_final\\lib\\site-packages\\azure\\ai\\ml\\operations\\_operation_orchestrator.py:247\u001b[0m, in \u001b[0;36mOperationOrchestrator._get_code_asset_arm_id\u001b[1;34m(self, code_asset, register_asset)\u001b[0m\n\u001b[0;32m    245\u001b[0m \u001b[39mself\u001b[39m\u001b[39m.\u001b[39m_validate_datastore_name(code_asset\u001b[39m.\u001b[39mpath)\n\u001b[0;32m    246\u001b[0m \u001b[39mif\u001b[39;00m register_asset:\n\u001b[1;32m--> 247\u001b[0m     code_asset \u001b[39m=\u001b[39m \u001b[39mself\u001b[39;49m\u001b[39m.\u001b[39;49m_code_assets\u001b[39m.\u001b[39;49mcreate_or_update(code_asset)\n\u001b[0;32m    248\u001b[0m     \u001b[39mreturn\u001b[39;00m code_asset\u001b[39m.\u001b[39mid\n\u001b[0;32m    249\u001b[0m uploaded_code_asset, _ \u001b[39m=\u001b[39m _check_and_upload_path(\n\u001b[0;32m    250\u001b[0m     artifact\u001b[39m=\u001b[39mcode_asset,\n\u001b[0;32m    251\u001b[0m     asset_operations\u001b[39m=\u001b[39m\u001b[39mself\u001b[39m\u001b[39m.\u001b[39m_code_assets,\n\u001b[0;32m    252\u001b[0m     artifact_type\u001b[39m=\u001b[39mErrorTarget\u001b[39m.\u001b[39mCODE,\n\u001b[0;32m    253\u001b[0m     show_progress\u001b[39m=\u001b[39m\u001b[39mself\u001b[39m\u001b[39m.\u001b[39m_operation_config\u001b[39m.\u001b[39mshow_progress,\n\u001b[0;32m    254\u001b[0m )\n",
      "File \u001b[1;32mc:\\Users\\shoja\\Anaconda3\\envs\\v2_final\\lib\\site-packages\\azure\\ai\\ml\\operations\\_code_operations.py:140\u001b[0m, in \u001b[0;36mCodeOperations.create_or_update\u001b[1;34m(self, code)\u001b[0m\n\u001b[0;32m    133\u001b[0m     \u001b[39mif\u001b[39;00m \u001b[39mstr\u001b[39m(ex) \u001b[39m==\u001b[39m ASSET_PATH_ERROR:\n\u001b[0;32m    134\u001b[0m         \u001b[39mraise\u001b[39;00m AssetPathException(\n\u001b[0;32m    135\u001b[0m             message\u001b[39m=\u001b[39mCHANGED_ASSET_PATH_MSG,\n\u001b[0;32m    136\u001b[0m             target\u001b[39m=\u001b[39mErrorTarget\u001b[39m.\u001b[39mCODE,\n\u001b[0;32m    137\u001b[0m             no_personal_data_message\u001b[39m=\u001b[39mCHANGED_ASSET_PATH_MSG_NO_PERSONAL_DATA,\n\u001b[0;32m    138\u001b[0m             error_category\u001b[39m=\u001b[39mErrorCategory\u001b[39m.\u001b[39mUSER_ERROR,\n\u001b[0;32m    139\u001b[0m         )\n\u001b[1;32m--> 140\u001b[0m \u001b[39mraise\u001b[39;00m ex\n",
      "File \u001b[1;32mc:\\Users\\shoja\\Anaconda3\\envs\\v2_final\\lib\\site-packages\\azure\\ai\\ml\\operations\\_code_operations.py:93\u001b[0m, in \u001b[0;36mCodeOperations.create_or_update\u001b[1;34m(self, code)\u001b[0m\n\u001b[0;32m     84\u001b[0m \u001b[39mif\u001b[39;00m \u001b[39mself\u001b[39m\u001b[39m.\u001b[39m_registry_name:\n\u001b[0;32m     85\u001b[0m     sas_uri \u001b[39m=\u001b[39m get_sas_uri_for_registry_asset(\n\u001b[0;32m     86\u001b[0m         service_client\u001b[39m=\u001b[39m\u001b[39mself\u001b[39m\u001b[39m.\u001b[39m_service_client,\n\u001b[0;32m     87\u001b[0m         name\u001b[39m=\u001b[39mname,\n\u001b[1;32m   (...)\u001b[0m\n\u001b[0;32m     91\u001b[0m         body\u001b[39m=\u001b[39mget_asset_body_for_registry_storage(\u001b[39mself\u001b[39m\u001b[39m.\u001b[39m_registry_name, \u001b[39m\"\u001b[39m\u001b[39mcodes\u001b[39m\u001b[39m\"\u001b[39m, name, version),\n\u001b[0;32m     92\u001b[0m     )\n\u001b[1;32m---> 93\u001b[0m code, _ \u001b[39m=\u001b[39m _check_and_upload_path(\n\u001b[0;32m     94\u001b[0m     artifact\u001b[39m=\u001b[39;49mcode, asset_operations\u001b[39m=\u001b[39;49m\u001b[39mself\u001b[39;49m, sas_uri\u001b[39m=\u001b[39;49msas_uri, artifact_type\u001b[39m=\u001b[39;49mErrorTarget\u001b[39m.\u001b[39;49mCODE\n\u001b[0;32m     95\u001b[0m )\n\u001b[0;32m     97\u001b[0m \u001b[39m# For anonymous code, if the code already exists in storage, we reuse the name,\u001b[39;00m\n\u001b[0;32m     98\u001b[0m \u001b[39m# version stored in the storage metadata so the same anonymous code won't be created again.\u001b[39;00m\n\u001b[0;32m     99\u001b[0m \u001b[39mif\u001b[39;00m code\u001b[39m.\u001b[39m_is_anonymous:\n",
      "File \u001b[1;32mc:\\Users\\shoja\\Anaconda3\\envs\\v2_final\\lib\\site-packages\\azure\\ai\\ml\\_artifacts\\_artifact_utilities.py:399\u001b[0m, in \u001b[0;36m_check_and_upload_path\u001b[1;34m(artifact, asset_operations, artifact_type, datastore_name, sas_uri, show_progress)\u001b[0m\n\u001b[0;32m    397\u001b[0m \u001b[39mif\u001b[39;00m \u001b[39mnot\u001b[39;00m path\u001b[39m.\u001b[39mis_absolute():\n\u001b[0;32m    398\u001b[0m     path \u001b[39m=\u001b[39m Path(artifact\u001b[39m.\u001b[39mbase_path, path)\u001b[39m.\u001b[39mresolve()\n\u001b[1;32m--> 399\u001b[0m uploaded_artifact \u001b[39m=\u001b[39m _upload_to_datastore(\n\u001b[0;32m    400\u001b[0m     asset_operations\u001b[39m.\u001b[39;49m_operation_scope,\n\u001b[0;32m    401\u001b[0m     asset_operations\u001b[39m.\u001b[39;49m_datastore_operation,\n\u001b[0;32m    402\u001b[0m     path,\n\u001b[0;32m    403\u001b[0m     datastore_name\u001b[39m=\u001b[39;49mdatastore_name,\n\u001b[0;32m    404\u001b[0m     asset_name\u001b[39m=\u001b[39;49martifact\u001b[39m.\u001b[39;49mname,\n\u001b[0;32m    405\u001b[0m     asset_version\u001b[39m=\u001b[39;49m\u001b[39mstr\u001b[39;49m(artifact\u001b[39m.\u001b[39;49mversion),\n\u001b[0;32m    406\u001b[0m     asset_hash\u001b[39m=\u001b[39;49martifact\u001b[39m.\u001b[39;49m_upload_hash \u001b[39mif\u001b[39;49;00m \u001b[39mhasattr\u001b[39;49m(artifact, \u001b[39m\"\u001b[39;49m\u001b[39m_upload_hash\u001b[39;49m\u001b[39m\"\u001b[39;49m) \u001b[39melse\u001b[39;49;00m \u001b[39mNone\u001b[39;49;00m,\n\u001b[0;32m    407\u001b[0m     sas_uri\u001b[39m=\u001b[39;49msas_uri,\n\u001b[0;32m    408\u001b[0m     artifact_type\u001b[39m=\u001b[39;49martifact_type,\n\u001b[0;32m    409\u001b[0m     show_progress\u001b[39m=\u001b[39;49mshow_progress,\n\u001b[0;32m    410\u001b[0m )\n\u001b[0;32m    411\u001b[0m indicator_file \u001b[39m=\u001b[39m uploaded_artifact\u001b[39m.\u001b[39mindicator_file  \u001b[39m# reference to storage contents\u001b[39;00m\n\u001b[0;32m    412\u001b[0m \u001b[39mif\u001b[39;00m artifact\u001b[39m.\u001b[39m_is_anonymous:\n",
      "File \u001b[1;32mc:\\Users\\shoja\\Anaconda3\\envs\\v2_final\\lib\\site-packages\\azure\\ai\\ml\\_artifacts\\_artifact_utilities.py:297\u001b[0m, in \u001b[0;36m_upload_to_datastore\u001b[1;34m(operation_scope, datastore_operation, path, artifact_type, datastore_name, show_progress, asset_name, asset_version, asset_hash, ignore_file, sas_uri)\u001b[0m\n\u001b[0;32m    295\u001b[0m \u001b[39mif\u001b[39;00m \u001b[39mnot\u001b[39;00m asset_hash:\n\u001b[0;32m    296\u001b[0m     asset_hash \u001b[39m=\u001b[39m get_object_hash(path, ignore_file)\n\u001b[1;32m--> 297\u001b[0m artifact \u001b[39m=\u001b[39m upload_artifact(\n\u001b[0;32m    298\u001b[0m     \u001b[39mstr\u001b[39;49m(path),\n\u001b[0;32m    299\u001b[0m     datastore_operation,\n\u001b[0;32m    300\u001b[0m     operation_scope,\n\u001b[0;32m    301\u001b[0m     datastore_name,\n\u001b[0;32m    302\u001b[0m     show_progress\u001b[39m=\u001b[39;49mshow_progress,\n\u001b[0;32m    303\u001b[0m     asset_hash\u001b[39m=\u001b[39;49masset_hash,\n\u001b[0;32m    304\u001b[0m     asset_name\u001b[39m=\u001b[39;49masset_name,\n\u001b[0;32m    305\u001b[0m     asset_version\u001b[39m=\u001b[39;49masset_version,\n\u001b[0;32m    306\u001b[0m     ignore_file\u001b[39m=\u001b[39;49mignore_file,\n\u001b[0;32m    307\u001b[0m     sas_uri\u001b[39m=\u001b[39;49msas_uri,\n\u001b[0;32m    308\u001b[0m )\n\u001b[0;32m    309\u001b[0m \u001b[39mreturn\u001b[39;00m artifact\n",
      "File \u001b[1;32mc:\\Users\\shoja\\Anaconda3\\envs\\v2_final\\lib\\site-packages\\azure\\ai\\ml\\_artifacts\\_artifact_utilities.py:175\u001b[0m, in \u001b[0;36mupload_artifact\u001b[1;34m(local_path, datastore_operation, operation_scope, datastore_name, asset_hash, show_progress, asset_name, asset_version, ignore_file, sas_uri)\u001b[0m\n\u001b[0;32m    173\u001b[0m \u001b[39melse\u001b[39;00m:\n\u001b[0;32m    174\u001b[0m     datastore_name \u001b[39m=\u001b[39m _get_datastore_name(datastore_name\u001b[39m=\u001b[39mdatastore_name)\n\u001b[1;32m--> 175\u001b[0m     datastore_info \u001b[39m=\u001b[39m get_datastore_info(datastore_operation, datastore_name)\n\u001b[0;32m    176\u001b[0m     storage_client \u001b[39m=\u001b[39m get_storage_client(\u001b[39m*\u001b[39m\u001b[39m*\u001b[39mdatastore_info)\n\u001b[0;32m    178\u001b[0m artifact_info \u001b[39m=\u001b[39m storage_client\u001b[39m.\u001b[39mupload(\n\u001b[0;32m    179\u001b[0m     local_path,\n\u001b[0;32m    180\u001b[0m     asset_hash\u001b[39m=\u001b[39masset_hash,\n\u001b[1;32m   (...)\u001b[0m\n\u001b[0;32m    184\u001b[0m     ignore_file\u001b[39m=\u001b[39mignore_file,\n\u001b[0;32m    185\u001b[0m )\n",
      "File \u001b[1;32mc:\\Users\\shoja\\Anaconda3\\envs\\v2_final\\lib\\site-packages\\azure\\ai\\ml\\_artifacts\\_artifact_utilities.py:68\u001b[0m, in \u001b[0;36mget_datastore_info\u001b[1;34m(operations, name)\u001b[0m\n\u001b[0;32m     66\u001b[0m datastore_info \u001b[39m=\u001b[39m {}\n\u001b[0;32m     67\u001b[0m \u001b[39mif\u001b[39;00m name:\n\u001b[1;32m---> 68\u001b[0m     datastore \u001b[39m=\u001b[39m operations\u001b[39m.\u001b[39;49mget(name, include_secrets\u001b[39m=\u001b[39;49m\u001b[39mTrue\u001b[39;49;00m)\n\u001b[0;32m     69\u001b[0m \u001b[39melse\u001b[39;00m:\n\u001b[0;32m     70\u001b[0m     datastore \u001b[39m=\u001b[39m operations\u001b[39m.\u001b[39mget_default(include_secrets\u001b[39m=\u001b[39m\u001b[39mTrue\u001b[39;00m)\n",
      "File \u001b[1;32mc:\\Users\\shoja\\Anaconda3\\envs\\v2_final\\lib\\site-packages\\azure\\ai\\ml\\operations\\_datastore_operations.py:105\u001b[0m, in \u001b[0;36mDatastoreOperations.get\u001b[1;34m(self, name, include_secrets)\u001b[0m\n\u001b[0;32m     93\u001b[0m \u001b[39mdef\u001b[39;00m \u001b[39mget\u001b[39m(\u001b[39mself\u001b[39m, name: \u001b[39mstr\u001b[39m, \u001b[39m*\u001b[39m, include_secrets: \u001b[39mbool\u001b[39m \u001b[39m=\u001b[39m \u001b[39mFalse\u001b[39;00m) \u001b[39m-\u001b[39m\u001b[39m>\u001b[39m Datastore:\n\u001b[0;32m     94\u001b[0m     \u001b[39m\"\"\"Returns information about the datastore referenced by the given\u001b[39;00m\n\u001b[0;32m     95\u001b[0m \u001b[39m    name.\u001b[39;00m\n\u001b[0;32m     96\u001b[0m \n\u001b[1;32m   (...)\u001b[0m\n\u001b[0;32m    102\u001b[0m \u001b[39m    :rtype: Datastore\u001b[39;00m\n\u001b[0;32m    103\u001b[0m \u001b[39m    \"\"\"\u001b[39;00m\n\u001b[1;32m--> 105\u001b[0m     datastore_resource \u001b[39m=\u001b[39m \u001b[39mself\u001b[39m\u001b[39m.\u001b[39m_operation\u001b[39m.\u001b[39mget(\n\u001b[0;32m    106\u001b[0m         name\u001b[39m=\u001b[39mname,\n\u001b[0;32m    107\u001b[0m         resource_group_name\u001b[39m=\u001b[39m\u001b[39mself\u001b[39m\u001b[39m.\u001b[39m_operation_scope\u001b[39m.\u001b[39mresource_group_name,\n\u001b[0;32m    108\u001b[0m         workspace_name\u001b[39m=\u001b[39m\u001b[39mself\u001b[39m\u001b[39m.\u001b[39m_workspace_name,\n\u001b[0;32m    109\u001b[0m         \u001b[39m*\u001b[39m\u001b[39m*\u001b[39m\u001b[39mself\u001b[39m\u001b[39m.\u001b[39m_init_kwargs\n\u001b[0;32m    110\u001b[0m     )\n\u001b[0;32m    111\u001b[0m     \u001b[39mif\u001b[39;00m include_secrets:\n\u001b[0;32m    112\u001b[0m         \u001b[39mself\u001b[39m\u001b[39m.\u001b[39m_fetch_and_populate_secret(datastore_resource)\n",
      "File \u001b[1;32mc:\\Users\\shoja\\Anaconda3\\envs\\v2_final\\lib\\site-packages\\azure\\core\\tracing\\decorator.py:78\u001b[0m, in \u001b[0;36mdistributed_trace.<locals>.decorator.<locals>.wrapper_use_tracer\u001b[1;34m(*args, **kwargs)\u001b[0m\n\u001b[0;32m     76\u001b[0m span_impl_type \u001b[39m=\u001b[39m settings\u001b[39m.\u001b[39mtracing_implementation()\n\u001b[0;32m     77\u001b[0m \u001b[39mif\u001b[39;00m span_impl_type \u001b[39mis\u001b[39;00m \u001b[39mNone\u001b[39;00m:\n\u001b[1;32m---> 78\u001b[0m     \u001b[39mreturn\u001b[39;00m func(\u001b[39m*\u001b[39margs, \u001b[39m*\u001b[39m\u001b[39m*\u001b[39mkwargs)\n\u001b[0;32m     80\u001b[0m \u001b[39m# Merge span is parameter is set, but only if no explicit parent are passed\u001b[39;00m\n\u001b[0;32m     81\u001b[0m \u001b[39mif\u001b[39;00m merge_span \u001b[39mand\u001b[39;00m \u001b[39mnot\u001b[39;00m passed_in_parent:\n",
      "File \u001b[1;32mc:\\Users\\shoja\\Anaconda3\\envs\\v2_final\\lib\\site-packages\\azure\\ai\\ml\\_restclient\\v2022_05_01\\operations\\_datastores_operations.py:483\u001b[0m, in \u001b[0;36mDatastoresOperations.get\u001b[1;34m(self, resource_group_name, workspace_name, name, **kwargs)\u001b[0m\n\u001b[0;32m    480\u001b[0m request \u001b[39m=\u001b[39m _convert_request(request)\n\u001b[0;32m    481\u001b[0m request\u001b[39m.\u001b[39murl \u001b[39m=\u001b[39m \u001b[39mself\u001b[39m\u001b[39m.\u001b[39m_client\u001b[39m.\u001b[39mformat_url(request\u001b[39m.\u001b[39murl)\n\u001b[1;32m--> 483\u001b[0m pipeline_response \u001b[39m=\u001b[39m \u001b[39mself\u001b[39m\u001b[39m.\u001b[39m_client\u001b[39m.\u001b[39m_pipeline\u001b[39m.\u001b[39mrun(request, stream\u001b[39m=\u001b[39m\u001b[39mFalse\u001b[39;00m, \u001b[39m*\u001b[39m\u001b[39m*\u001b[39mkwargs)\n\u001b[0;32m    484\u001b[0m response \u001b[39m=\u001b[39m pipeline_response\u001b[39m.\u001b[39mhttp_response\n\u001b[0;32m    486\u001b[0m \u001b[39mif\u001b[39;00m response\u001b[39m.\u001b[39mstatus_code \u001b[39mnot\u001b[39;00m \u001b[39min\u001b[39;00m [\u001b[39m200\u001b[39m]:\n",
      "File \u001b[1;32mc:\\Users\\shoja\\Anaconda3\\envs\\v2_final\\lib\\site-packages\\azure\\core\\pipeline\\_base.py:211\u001b[0m, in \u001b[0;36mPipeline.run\u001b[1;34m(self, request, **kwargs)\u001b[0m\n\u001b[0;32m    203\u001b[0m pipeline_request \u001b[39m=\u001b[39m PipelineRequest(\n\u001b[0;32m    204\u001b[0m     request, context\n\u001b[0;32m    205\u001b[0m )  \u001b[39m# type: PipelineRequest[HTTPRequestType]\u001b[39;00m\n\u001b[0;32m    206\u001b[0m first_node \u001b[39m=\u001b[39m (\n\u001b[0;32m    207\u001b[0m     \u001b[39mself\u001b[39m\u001b[39m.\u001b[39m_impl_policies[\u001b[39m0\u001b[39m]\n\u001b[0;32m    208\u001b[0m     \u001b[39mif\u001b[39;00m \u001b[39mself\u001b[39m\u001b[39m.\u001b[39m_impl_policies\n\u001b[0;32m    209\u001b[0m     \u001b[39melse\u001b[39;00m _TransportRunner(\u001b[39mself\u001b[39m\u001b[39m.\u001b[39m_transport)\n\u001b[0;32m    210\u001b[0m )\n\u001b[1;32m--> 211\u001b[0m \u001b[39mreturn\u001b[39;00m first_node\u001b[39m.\u001b[39;49msend(pipeline_request)\n",
      "File \u001b[1;32mc:\\Users\\shoja\\Anaconda3\\envs\\v2_final\\lib\\site-packages\\azure\\core\\pipeline\\_base.py:71\u001b[0m, in \u001b[0;36m_SansIOHTTPPolicyRunner.send\u001b[1;34m(self, request)\u001b[0m\n\u001b[0;32m     69\u001b[0m _await_result(\u001b[39mself\u001b[39m\u001b[39m.\u001b[39m_policy\u001b[39m.\u001b[39mon_request, request)\n\u001b[0;32m     70\u001b[0m \u001b[39mtry\u001b[39;00m:\n\u001b[1;32m---> 71\u001b[0m     response \u001b[39m=\u001b[39m \u001b[39mself\u001b[39;49m\u001b[39m.\u001b[39;49mnext\u001b[39m.\u001b[39;49msend(request)\n\u001b[0;32m     72\u001b[0m \u001b[39mexcept\u001b[39;00m \u001b[39mException\u001b[39;00m:  \u001b[39m# pylint: disable=broad-except\u001b[39;00m\n\u001b[0;32m     73\u001b[0m     _await_result(\u001b[39mself\u001b[39m\u001b[39m.\u001b[39m_policy\u001b[39m.\u001b[39mon_exception, request)\n",
      "File \u001b[1;32mc:\\Users\\shoja\\Anaconda3\\envs\\v2_final\\lib\\site-packages\\azure\\core\\pipeline\\_base.py:71\u001b[0m, in \u001b[0;36m_SansIOHTTPPolicyRunner.send\u001b[1;34m(self, request)\u001b[0m\n\u001b[0;32m     69\u001b[0m _await_result(\u001b[39mself\u001b[39m\u001b[39m.\u001b[39m_policy\u001b[39m.\u001b[39mon_request, request)\n\u001b[0;32m     70\u001b[0m \u001b[39mtry\u001b[39;00m:\n\u001b[1;32m---> 71\u001b[0m     response \u001b[39m=\u001b[39m \u001b[39mself\u001b[39;49m\u001b[39m.\u001b[39;49mnext\u001b[39m.\u001b[39;49msend(request)\n\u001b[0;32m     72\u001b[0m \u001b[39mexcept\u001b[39;00m \u001b[39mException\u001b[39;00m:  \u001b[39m# pylint: disable=broad-except\u001b[39;00m\n\u001b[0;32m     73\u001b[0m     _await_result(\u001b[39mself\u001b[39m\u001b[39m.\u001b[39m_policy\u001b[39m.\u001b[39mon_exception, request)\n",
      "    \u001b[1;31m[... skipping similar frames: _SansIOHTTPPolicyRunner.send at line 71 (2 times)]\u001b[0m\n",
      "File \u001b[1;32mc:\\Users\\shoja\\Anaconda3\\envs\\v2_final\\lib\\site-packages\\azure\\core\\pipeline\\_base.py:71\u001b[0m, in \u001b[0;36m_SansIOHTTPPolicyRunner.send\u001b[1;34m(self, request)\u001b[0m\n\u001b[0;32m     69\u001b[0m _await_result(\u001b[39mself\u001b[39m\u001b[39m.\u001b[39m_policy\u001b[39m.\u001b[39mon_request, request)\n\u001b[0;32m     70\u001b[0m \u001b[39mtry\u001b[39;00m:\n\u001b[1;32m---> 71\u001b[0m     response \u001b[39m=\u001b[39m \u001b[39mself\u001b[39;49m\u001b[39m.\u001b[39;49mnext\u001b[39m.\u001b[39;49msend(request)\n\u001b[0;32m     72\u001b[0m \u001b[39mexcept\u001b[39;00m \u001b[39mException\u001b[39;00m:  \u001b[39m# pylint: disable=broad-except\u001b[39;00m\n\u001b[0;32m     73\u001b[0m     _await_result(\u001b[39mself\u001b[39m\u001b[39m.\u001b[39m_policy\u001b[39m.\u001b[39mon_exception, request)\n",
      "File \u001b[1;32mc:\\Users\\shoja\\Anaconda3\\envs\\v2_final\\lib\\site-packages\\azure\\mgmt\\core\\policies\\_base.py:47\u001b[0m, in \u001b[0;36mARMAutoResourceProviderRegistrationPolicy.send\u001b[1;34m(self, request)\u001b[0m\n\u001b[0;32m     44\u001b[0m \u001b[39mdef\u001b[39;00m \u001b[39msend\u001b[39m(\u001b[39mself\u001b[39m, request):\n\u001b[0;32m     45\u001b[0m     \u001b[39m# type: (PipelineRequest[HTTPRequestType], Any) -> PipelineResponse[HTTPRequestType, HTTPResponseType]\u001b[39;00m\n\u001b[0;32m     46\u001b[0m     http_request \u001b[39m=\u001b[39m request\u001b[39m.\u001b[39mhttp_request\n\u001b[1;32m---> 47\u001b[0m     response \u001b[39m=\u001b[39m \u001b[39mself\u001b[39;49m\u001b[39m.\u001b[39;49mnext\u001b[39m.\u001b[39;49msend(request)\n\u001b[0;32m     48\u001b[0m     \u001b[39mif\u001b[39;00m response\u001b[39m.\u001b[39mhttp_response\u001b[39m.\u001b[39mstatus_code \u001b[39m==\u001b[39m \u001b[39m409\u001b[39m:\n\u001b[0;32m     49\u001b[0m         rp_name \u001b[39m=\u001b[39m \u001b[39mself\u001b[39m\u001b[39m.\u001b[39m_check_rp_not_registered_err(response)\n",
      "File \u001b[1;32mc:\\Users\\shoja\\Anaconda3\\envs\\v2_final\\lib\\site-packages\\azure\\core\\pipeline\\policies\\_redirect.py:158\u001b[0m, in \u001b[0;36mRedirectPolicy.send\u001b[1;34m(self, request)\u001b[0m\n\u001b[0;32m    156\u001b[0m redirect_settings \u001b[39m=\u001b[39m \u001b[39mself\u001b[39m\u001b[39m.\u001b[39mconfigure_redirects(request\u001b[39m.\u001b[39mcontext\u001b[39m.\u001b[39moptions)\n\u001b[0;32m    157\u001b[0m \u001b[39mwhile\u001b[39;00m retryable:\n\u001b[1;32m--> 158\u001b[0m     response \u001b[39m=\u001b[39m \u001b[39mself\u001b[39;49m\u001b[39m.\u001b[39;49mnext\u001b[39m.\u001b[39;49msend(request)\n\u001b[0;32m    159\u001b[0m     redirect_location \u001b[39m=\u001b[39m \u001b[39mself\u001b[39m\u001b[39m.\u001b[39mget_redirect_location(response)\n\u001b[0;32m    160\u001b[0m     \u001b[39mif\u001b[39;00m redirect_location \u001b[39mand\u001b[39;00m redirect_settings[\u001b[39m'\u001b[39m\u001b[39mallow\u001b[39m\u001b[39m'\u001b[39m]:\n",
      "File \u001b[1;32mc:\\Users\\shoja\\Anaconda3\\envs\\v2_final\\lib\\site-packages\\azure\\core\\pipeline\\policies\\_retry.py:446\u001b[0m, in \u001b[0;36mRetryPolicy.send\u001b[1;34m(self, request)\u001b[0m\n\u001b[0;32m    444\u001b[0m start_time \u001b[39m=\u001b[39m time\u001b[39m.\u001b[39mtime()\n\u001b[0;32m    445\u001b[0m \u001b[39mself\u001b[39m\u001b[39m.\u001b[39m_configure_timeout(request, absolute_timeout, is_response_error)\n\u001b[1;32m--> 446\u001b[0m response \u001b[39m=\u001b[39m \u001b[39mself\u001b[39;49m\u001b[39m.\u001b[39;49mnext\u001b[39m.\u001b[39;49msend(request)\n\u001b[0;32m    447\u001b[0m \u001b[39mif\u001b[39;00m \u001b[39mself\u001b[39m\u001b[39m.\u001b[39mis_retry(retry_settings, response):\n\u001b[0;32m    448\u001b[0m     retry_active \u001b[39m=\u001b[39m \u001b[39mself\u001b[39m\u001b[39m.\u001b[39mincrement(retry_settings, response\u001b[39m=\u001b[39mresponse)\n",
      "File \u001b[1;32mc:\\Users\\shoja\\Anaconda3\\envs\\v2_final\\lib\\site-packages\\azure\\core\\pipeline\\policies\\_authentication.py:116\u001b[0m, in \u001b[0;36mBearerTokenCredentialPolicy.send\u001b[1;34m(self, request)\u001b[0m\n\u001b[0;32m    109\u001b[0m \u001b[39mdef\u001b[39;00m \u001b[39msend\u001b[39m(\u001b[39mself\u001b[39m, request):\n\u001b[0;32m    110\u001b[0m     \u001b[39m# type: (PipelineRequest) -> PipelineResponse\u001b[39;00m\n\u001b[0;32m    111\u001b[0m     \u001b[39m\"\"\"Authorize request with a bearer token and send it to the next policy\u001b[39;00m\n\u001b[0;32m    112\u001b[0m \n\u001b[0;32m    113\u001b[0m \u001b[39m    :param request: The pipeline request object\u001b[39;00m\n\u001b[0;32m    114\u001b[0m \u001b[39m    :type request: ~azure.core.pipeline.PipelineRequest\u001b[39;00m\n\u001b[0;32m    115\u001b[0m \u001b[39m    \"\"\"\u001b[39;00m\n\u001b[1;32m--> 116\u001b[0m     \u001b[39mself\u001b[39;49m\u001b[39m.\u001b[39;49mon_request(request)\n\u001b[0;32m    117\u001b[0m     \u001b[39mtry\u001b[39;00m:\n\u001b[0;32m    118\u001b[0m         response \u001b[39m=\u001b[39m \u001b[39mself\u001b[39m\u001b[39m.\u001b[39mnext\u001b[39m.\u001b[39msend(request)\n",
      "File \u001b[1;32mc:\\Users\\shoja\\Anaconda3\\envs\\v2_final\\lib\\site-packages\\azure\\core\\pipeline\\policies\\_authentication.py:93\u001b[0m, in \u001b[0;36mBearerTokenCredentialPolicy.on_request\u001b[1;34m(self, request)\u001b[0m\n\u001b[0;32m     90\u001b[0m \u001b[39mself\u001b[39m\u001b[39m.\u001b[39m_enforce_https(request)\n\u001b[0;32m     92\u001b[0m \u001b[39mif\u001b[39;00m \u001b[39mself\u001b[39m\u001b[39m.\u001b[39m_token \u001b[39mis\u001b[39;00m \u001b[39mNone\u001b[39;00m \u001b[39mor\u001b[39;00m \u001b[39mself\u001b[39m\u001b[39m.\u001b[39m_need_new_token:\n\u001b[1;32m---> 93\u001b[0m     \u001b[39mself\u001b[39m\u001b[39m.\u001b[39m_token \u001b[39m=\u001b[39m \u001b[39mself\u001b[39;49m\u001b[39m.\u001b[39;49m_credential\u001b[39m.\u001b[39;49mget_token(\u001b[39m*\u001b[39;49m\u001b[39mself\u001b[39;49m\u001b[39m.\u001b[39;49m_scopes)\n\u001b[0;32m     94\u001b[0m \u001b[39mself\u001b[39m\u001b[39m.\u001b[39m_update_headers(request\u001b[39m.\u001b[39mhttp_request\u001b[39m.\u001b[39mheaders, \u001b[39mself\u001b[39m\u001b[39m.\u001b[39m_token\u001b[39m.\u001b[39mtoken)\n",
      "File \u001b[1;32mc:\\Users\\shoja\\Anaconda3\\envs\\v2_final\\lib\\site-packages\\azure\\identity\\_credentials\\default.py:175\u001b[0m, in \u001b[0;36mDefaultAzureCredential.get_token\u001b[1;34m(self, *scopes, **kwargs)\u001b[0m\n\u001b[0;32m    170\u001b[0m     _LOGGER\u001b[39m.\u001b[39minfo(\n\u001b[0;32m    171\u001b[0m         \u001b[39m\"\u001b[39m\u001b[39m%s\u001b[39;00m\u001b[39m acquired a token from \u001b[39m\u001b[39m%s\u001b[39;00m\u001b[39m\"\u001b[39m, \u001b[39mself\u001b[39m\u001b[39m.\u001b[39m\u001b[39m__class__\u001b[39m\u001b[39m.\u001b[39m\u001b[39m__name__\u001b[39m, \u001b[39mself\u001b[39m\u001b[39m.\u001b[39m_successful_credential\u001b[39m.\u001b[39m\u001b[39m__class__\u001b[39m\u001b[39m.\u001b[39m\u001b[39m__name__\u001b[39m\n\u001b[0;32m    172\u001b[0m     )\n\u001b[0;32m    173\u001b[0m     \u001b[39mreturn\u001b[39;00m token\n\u001b[1;32m--> 175\u001b[0m \u001b[39mreturn\u001b[39;00m \u001b[39msuper\u001b[39m(DefaultAzureCredential, \u001b[39mself\u001b[39m)\u001b[39m.\u001b[39mget_token(\u001b[39m*\u001b[39mscopes, \u001b[39m*\u001b[39m\u001b[39m*\u001b[39mkwargs)\n",
      "File \u001b[1;32mc:\\Users\\shoja\\Anaconda3\\envs\\v2_final\\lib\\site-packages\\azure\\identity\\_credentials\\chained.py:108\u001b[0m, in \u001b[0;36mChainedTokenCredential.get_token\u001b[1;34m(self, *scopes, **kwargs)\u001b[0m\n\u001b[0;32m    104\u001b[0m message \u001b[39m=\u001b[39m \u001b[39mself\u001b[39m\u001b[39m.\u001b[39m\u001b[39m__class__\u001b[39m\u001b[39m.\u001b[39m\u001b[39m__name__\u001b[39m \u001b[39m+\u001b[39m \u001b[39m\"\u001b[39m\u001b[39m failed to retrieve a token from the included credentials.\u001b[39m\u001b[39m\"\u001b[39m \u001b[39m+\u001b[39m attempts \\\n\u001b[0;32m    105\u001b[0m           \u001b[39m+\u001b[39m \u001b[39m\"\u001b[39m\u001b[39m\\n\u001b[39;00m\u001b[39mTo mitigate this issue, please refer to the troubleshooting guidelines here at \u001b[39m\u001b[39m\"\u001b[39m \\\n\u001b[0;32m    106\u001b[0m             \u001b[39m\"\u001b[39m\u001b[39mhttps://aka.ms/azsdk/python/identity/defaultazurecredential/troubleshoot.\u001b[39m\u001b[39m\"\u001b[39m\n\u001b[0;32m    107\u001b[0m _LOGGER\u001b[39m.\u001b[39mwarning(message)\n\u001b[1;32m--> 108\u001b[0m \u001b[39mraise\u001b[39;00m ClientAuthenticationError(message\u001b[39m=\u001b[39mmessage)\n",
      "\u001b[1;31mClientAuthenticationError\u001b[0m: DefaultAzureCredential failed to retrieve a token from the included credentials.\nAttempted credentials:\n\tEnvironmentCredential: EnvironmentCredential authentication unavailable. Environment variables are not fully configured.\nVisit https://aka.ms/azsdk/python/identity/environmentcredential/troubleshoot to troubleshoot.this issue.\n\tManagedIdentityCredential: ManagedIdentityCredential authentication unavailable, no response from the IMDS endpoint.\n\tSharedTokenCacheCredential: Azure Active Directory error '(invalid_grant) AADSTS700082: The refresh token has expired due to inactivity. The token was issued on 2022-07-27T16:04:11.6872555Z and was inactive for 90.00:00:00.\r\nTrace ID: e7b6db45-5558-48b2-b271-fa9267a72800\r\nCorrelation ID: b1f6a43b-8545-489b-894c-a103c1531fca\r\nTimestamp: 2022-11-01 16:48:42Z'\nContent: {\"error\":\"invalid_grant\",\"error_description\":\"AADSTS700082: The refresh token has expired due to inactivity. The token was issued on 2022-07-27T16:04:11.6872555Z and was inactive for 90.00:00:00.\\r\\nTrace ID: e7b6db45-5558-48b2-b271-fa9267a72800\\r\\nCorrelation ID: b1f6a43b-8545-489b-894c-a103c1531fca\\r\\nTimestamp: 2022-11-01 16:48:42Z\",\"error_codes\":[700082],\"timestamp\":\"2022-11-01 16:48:42Z\",\"trace_id\":\"e7b6db45-5558-48b2-b271-fa9267a72800\",\"correlation_id\":\"b1f6a43b-8545-489b-894c-a103c1531fca\",\"error_uri\":\"https://login.microsoftonline.com/error?code=700082\"}\nTo mitigate this issue, please refer to the troubleshooting guidelines here at https://aka.ms/azsdk/python/identity/defaultazurecredential/troubleshoot."
     ]
    }
   ],
   "source": [
    "# submit the command\n",
    "returned_job = ml_client.create_or_update(job)"
   ]
  },
  {
   "cell_type": "markdown",
   "metadata": {},
   "source": [
    "# Next Steps\n",
    "You can see further examples of running a job [here](../../../single-step/)"
   ]
  },
  {
   "cell_type": "markdown",
   "metadata": {},
   "source": []
  }
 ],
 "metadata": {
  "description": {
   "description": "Run a Command to train a basic neural network with TensorFlow on the MNIST dataset"
  },
  "kernel_info": {
   "name": "python3-azureml"
  },
  "kernelspec": {
   "display_name": "Python 3.10.6 ('v2_final')",
   "language": "python",
   "name": "python3"
  },
  "language_info": {
   "codemirror_mode": {
    "name": "ipython",
    "version": 3
   },
   "file_extension": ".py",
   "mimetype": "text/x-python",
   "name": "python",
   "nbconvert_exporter": "python",
   "pygments_lexer": "ipython3",
   "version": "3.10.6"
  },
  "nteract": {
   "version": "nteract-front-end@1.0.0"
  },
  "vscode": {
   "interpreter": {
    "hash": "2346ebb0d49c319bb50d0e319d661980ccd11854fd8dafc39695d4051b27368b"
   }
  }
 },
 "nbformat": 4,
 "nbformat_minor": 4
}
