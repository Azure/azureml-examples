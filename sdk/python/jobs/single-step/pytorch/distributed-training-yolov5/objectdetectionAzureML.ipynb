{
 "cells": [
  {
   "cell_type": "markdown",
   "source": [
    "## Distributed training of YOLOV5 models on Custom Data using Azure ML Service"
   ],
   "metadata": {
    "nteract": {
     "transient": {
      "deleting": false
     }
    }
   }
  },
  {
   "cell_type": "markdown",
   "source": [
    "### Requirements/Prerequisites\r\n",
    "- An Azure acoount with active subscription [Create an account for free](https://azure.microsoft.com/free/?WT.mc_id=A261C142F)\r\n",
    "- Azure Machine Learning workspace [Configure workspace](../../../configuration.ipynb) \r\n",
    "- Python Environment\r\n",
    "- Install Azure ML Python SDK Version 2\r\n",
    "### Learning Objectives\r\n",
    "- Connect to workspace using Python SDK v2\r\n",
    "- use yolov5 format data .yaml files or data from local system arranged in yolo format\r\n",
    "- Distributed training of YoloV5 model."
   ],
   "metadata": {
    "nteract": {
     "transient": {
      "deleting": false
     }
    }
   }
  },
  {
   "cell_type": "markdown",
   "source": [
    "## 1. Connect to Azure Machine Learning Workspace\r\n",
    "\r\n",
    "### 1.1 Import Libraries and connect to workspace using Default Credential"
   ],
   "metadata": {
    "nteract": {
     "transient": {
      "deleting": false
     }
    }
   }
  },
  {
   "cell_type": "code",
   "source": [
    "from azure.ai.ml import MLClient\n",
    "from azure.ai.ml import command\n",
    "from azure.ai.ml.entities import Data\n",
    "from azure.ai.ml import Input\n",
    "from azure.ai.ml import Output\n",
    "from azure.ai.ml.constants import AssetTypes\n",
    "\n",
    "from azure.identity import DefaultAzureCredential\n",
    "\n",
    "# enter details of your AML workspace\n",
    "subscription_id = \" \"\n",
    "resource_group = \" \"\n",
    "workspace = \" \"\n",
    "\n",
    "# get a handle to the workspace\n",
    "ml_client = MLClient(\n",
    "    DefaultAzureCredential(), subscription_id, resource_group, workspace\n",
    ")"
   ],
   "outputs": [],
   "execution_count": 17,
   "metadata": {
    "jupyter": {
     "source_hidden": false,
     "outputs_hidden": false
    },
    "nteract": {
     "transient": {
      "deleting": false
     }
    },
    "gather": {
     "logged": 1667550141164
    }
   }
  },
  {
   "cell_type": "markdown",
   "source": [
    "## 2. Launch the distributed training job\r\n",
    "\r\n",
    "### 2.1 Create the job \r\n",
    "\r\n",
    "In this section we will be configuring and running two standalone jobs. \r\n",
    "\r\n",
    "- `command` for distributed training job.\r\n",
    "\r\n",
    "\r\n",
    "The `command` allows user to configure the following key aspects.\r\n",
    "- `code` - This is the path where the code to run the command is located\r\n",
    "- `command` - This is the command that needs to be run\r\n",
    "- `inputs` - This is the dictionary of inputs using name value pairs to the command. The key is a name for the input within the context of the job and the value is the input value. Inputs can be referenced in the `command` using the `${{inputs.<input_name>}}` expression. To use files or folders as inputs, we can use the `Input` class. The `Input` class supports three parameters:\r\n",
    "    - `type` - The type of input. This can be a `uri_file` or `uri_folder`. The default is `uri_folder`.         \r\n",
    "    - `path` - The path to the file or folder. These can be local or remote files or folders. For remote files - http/https, wasb are supported. \r\n",
    "        - Azure ML `data`/`dataset` or `datastore` are of type `uri_folder`. To use `data`/`dataset` as input, you can use registered dataset in the workspace using the format '<data_name>:<version>'. For e.g Input(type='uri_folder', path='my_dataset:1')\r\n",
    "    - `mode` - \tMode of how the data should be delivered to the compute target. Allowed values are `ro_mount`, `rw_mount` and `download`. Default is `ro_mount`\r\n",
    "- `environment` - This is the environment needed for the command to run. Curated or custom environments from the workspace can be used. Or a custom environment can be created and used as well. Check out the [environment](../../../../assets/environment/environment.ipynb) notebook for more examples.\r\n",
    "- `compute` - The compute on which the command will run. In this example we are using a compute called `cpu-cluster` present in the workspace. You can replace it any other compute in the workspace. You can run it on the local machine by using `local` for the compute. This will run the command on the local machine and all the run details and output of the job will be uploaded to the Azure ML workspace.\r\n",
    "- `distribution` - Distribution configuration for distributed training scenarios. Azure Machine Learning supports PyTorch, TensorFlow, and MPI-based distributed \r\n"
   ],
   "metadata": {
    "nteract": {
     "transient": {
      "deleting": false
     }
    }
   }
  },
  {
   "cell_type": "code",
   "source": [
    "job = command(\n",
    "    code=\"./yolov5\",\n",
    "    command=\"apt-get -y install libgl1 \\\r\n",
    "                              && pip install -r requirements.txt \\\r\n",
    "                              && python train.py --data ${{inputs.data}} \\\r\n",
    "                               --epochs ${{inputs.epoch}} \\\r\n",
    "                               --batch-size ${{inputs.batchsize}} \\\r\n",
    "                               --patience ${{inputs.patience}} \\\r\n",
    "                               --weights ${{inputs.weights}}\",\n",
    "    # --nproc_per_node ${{inputs.nproc_per_node}}',\n",
    "    inputs={\n",
    "        \"data\": Input(\n",
    "            type=\"uri_file\",\n",
    "            path=\"./yolov5/data/fridge.yaml\",  # you may use any other yaml which is provided in the data folder.\n",
    "        ),\n",
    "        \"patience\": 25,\n",
    "        \"batchsize\": 32,\n",
    "        \"epoch\": 5,\n",
    "        \"weights\": \"yolov5n.pt\",\n",
    "    },\n",
    "    environment=\"AzureML-pytorch-1.8-ubuntu18.04-py37-cuda11-gpu@latest\",\n",
    "    compute=\"gpu-cluster-V100\",  # name of your cluster\n",
    "    instance_count=2,  # In this, only 2 node cluster was created.\n",
    "    distribution={\n",
    "        \"type\": \"PyTorch\",\n",
    "        \"process_count_per_instance\": 1,  # number of GPus per node\n",
    "    },\n",
    ")"
   ],
   "outputs": [],
   "execution_count": 18,
   "metadata": {
    "jupyter": {
     "source_hidden": false,
     "outputs_hidden": false
    },
    "nteract": {
     "transient": {
      "deleting": false
     }
    },
    "gather": {
     "logged": 1667550153247
    }
   }
  },
  {
   "cell_type": "markdown",
   "source": [],
   "metadata": {
    "nteract": {
     "transient": {
      "deleting": false
     }
    }
   }
  },
  {
   "cell_type": "markdown",
   "source": [
    "### 2.2 Run the job"
   ],
   "metadata": {
    "nteract": {
     "transient": {
      "deleting": false
     }
    }
   }
  },
  {
   "cell_type": "code",
   "source": [
    "returned_job = ml_client.create_or_update(job)"
   ],
   "outputs": [
    {
     "output_type": "stream",
     "name": "stderr",
     "text": "\u001b[32mUploading yolov5 (63.01 MBs): 100%|██████████| 63005064/63005064 [00:06<00:00, 10438670.72it/s]\n\u001b[39m\n\n"
    }
   ],
   "execution_count": 19,
   "metadata": {
    "jupyter": {
     "source_hidden": false,
     "outputs_hidden": false
    },
    "nteract": {
     "transient": {
      "deleting": false
     }
    },
    "gather": {
     "logged": 1667550189796
    }
   }
  }
 ],
 "metadata": {
  "kernelspec": {
   "display_name": "Python 3.10 - SDK V2",
   "language": "python",
   "name": "python310-sdkv2"
  },
  "language_info": {
   "name": "python",
   "version": "3.10.4",
   "mimetype": "text/x-python",
   "codemirror_mode": {
    "name": "ipython",
    "version": 3
   },
   "pygments_lexer": "ipython3",
   "nbconvert_exporter": "python",
   "file_extension": ".py"
  },
  "kernel_info": {
   "name": "python310-sdkv2"
  },
  "nteract": {
   "version": "nteract-front-end@1.0.0"
  },
  "microsoft": {
   "host": {
    "AzureML": {
     "notebookHasBeenCompleted": true
    }
   }
  }
 },
 "nbformat": 4,
 "nbformat_minor": 0
}
