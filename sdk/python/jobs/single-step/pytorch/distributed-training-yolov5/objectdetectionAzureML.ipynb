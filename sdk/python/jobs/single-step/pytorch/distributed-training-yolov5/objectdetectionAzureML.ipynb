{
  "cells": [
    {
      "cell_type": "markdown",
      "source": [
        "## Distributed training of YOLOV5 models on Custom Data using Azure ML Service"
      ],
      "metadata": {
        "nteract": {
          "transient": {
            "deleting": false
          }
        }
      }
    },
    {
      "cell_type": "markdown",
      "source": [
        "### Requirements/Prerequisites\r\n",
        "- An Azure acoount with active subscription [Create an account for free](https://azure.microsoft.com/free/?WT.mc_id=A261C142F)\r\n",
        "- Azure Machine Learning workspace [Configure workspace](../../../configuration.ipynb) \r\n",
        "- Python Environment\r\n",
        "- Install Azure ML Python SDK Version 2\r\n",
        "### Learning Objectives\r\n",
        "- Connect to workspace using Python SDK v2\r\n",
        "- use yolov5 format data .yaml files or data from local system arranged in yolo format\r\n",
        "- Distributed training of YoloV5 model."
      ],
      "metadata": {
        "nteract": {
          "transient": {
            "deleting": false
          }
        }
      }
    },
    {
      "cell_type": "markdown",
      "source": [
        "## 1. Connect to Azure Machine Learning Workspace\r\n",
        "\r\n",
        "### 1.1 Import Libraries and connect to workspace using Default Credential"
      ],
      "metadata": {
        "nteract": {
          "transient": {
            "deleting": false
          }
        }
      }
    },
    {
      "cell_type": "code",
      "source": [
        "from azure.ai.ml import MLClient\r\n",
        "from azure.ai.ml import command\r\n",
        "from azure.ai.ml.entities import Data\r\n",
        "from azure.ai.ml import Input\r\n",
        "from azure.ai.ml import Output\r\n",
        "from azure.ai.ml.constants import AssetTypes\r\n",
        "\r\n",
        "from azure.identity import DefaultAzureCredential\r\n",
        "\r\n",
        "# enter details of your AML workspace\r\n",
        "subscription_id = \"\"\r\n",
        "resource_group = \"\"\r\n",
        "workspace = \"\"\r\n",
        "\r\n",
        "# get a handle to the workspace\r\n",
        "ml_client = MLClient(\r\n",
        "    DefaultAzureCredential(), subscription_id, resource_group, workspace\r\n",
        ")"
      ],
      "outputs": [],
      "execution_count": 23,
      "metadata": {
        "jupyter": {
          "source_hidden": false,
          "outputs_hidden": false
        },
        "nteract": {
          "transient": {
            "deleting": false
          }
        }
      }
    },
    {
      "cell_type": "markdown",
      "source": [
        "## 2. Launch the distributed training job\r\n",
        "\r\n",
        "### 2.1 Create the job \r\n",
        "\r\n",
        "In this section we will be configuring and running two standalone jobs. \r\n",
        "\r\n",
        "- `command` for distributed training job.\r\n",
        "\r\n",
        "\r\n",
        "The `command` allows user to configure the following key aspects.\r\n",
        "- `code` - This is the path where the code to run the command is located\r\n",
        "- `command` - This is the command that needs to be run\r\n",
        "- `inputs` - This is the dictionary of inputs using name value pairs to the command. The key is a name for the input within the context of the job and the value is the input value. Inputs can be referenced in the `command` using the `${{inputs.<input_name>}}` expression. To use files or folders as inputs, we can use the `Input` class. The `Input` class supports three parameters:\r\n",
        "    - `type` - The type of input. This can be a `uri_file` or `uri_folder`. The default is `uri_folder`.         \r\n",
        "    - `path` - The path to the file or folder. These can be local or remote files or folders. For remote files - http/https, wasb are supported. \r\n",
        "        - Azure ML `data`/`dataset` or `datastore` are of type `uri_folder`. To use `data`/`dataset` as input, you can use registered dataset in the workspace using the format '<data_name>:<version>'. For e.g Input(type='uri_folder', path='my_dataset:1')\r\n",
        "    - `mode` - \tMode of how the data should be delivered to the compute target. Allowed values are `ro_mount`, `rw_mount` and `download`. Default is `ro_mount`\r\n",
        "- `environment` - This is the environment needed for the command to run. Curated or custom environments from the workspace can be used. Or a custom environment can be created and used as well. Check out the [environment](../../../../assets/environment/environment.ipynb) notebook for more examples.\r\n",
        "- `compute` - The compute on which the command will run. In this example we are using a compute called `cpu-cluster` present in the workspace. You can replace it any other compute in the workspace. You can run it on the local machine by using `local` for the compute. This will run the command on the local machine and all the run details and output of the job will be uploaded to the Azure ML workspace.\r\n",
        "- `distribution` - Distribution configuration for distributed training scenarios. Azure Machine Learning supports PyTorch, TensorFlow, and MPI-based distributed \r\n"
      ],
      "metadata": {
        "nteract": {
          "transient": {
            "deleting": false
          }
        }
      }
    },
    {
      "cell_type": "code",
      "source": [
        "job = command(\r\n",
        "    code=\"./yolov5\", \r\n",
        "    command = 'apt-get -y install libgl1 \\\r\n",
        "                              && pip install -r requirements.txt \\\r\n",
        "                              && python train.py --data ${{inputs.data}} \\\r\n",
        "                               --epochs ${{inputs.epoch}} \\\r\n",
        "                               --batch-size ${{inputs.batchsize}} \\\r\n",
        "                               --patience ${{inputs.patience}} \\\r\n",
        "                               --weights ${{inputs.weights}}',\r\n",
        "                               #--nproc_per_node ${{inputs.nproc_per_node}}',\r\n",
        "    inputs={\r\n",
        "        \"data\": Input(\r\n",
        "            type=\"uri_file\",\r\n",
        "            path=\"./yolov5/data/SKU-110K.yaml\",\r\n",
        "        ),\r\n",
        "        \"patience\": 25,\r\n",
        "        \"batchsize\":40,\r\n",
        "        \"epoch\":50,\r\n",
        "        \"weights\":'yolov5m.pt',\r\n",
        "    },\r\n",
        "    environment=\"AzureML-pytorch-1.8-ubuntu18.04-py37-cuda11-gpu@latest\",\r\n",
        "    compute=\"gpu-cluster-V100\", # name of your cluster\r\n",
        "    instance_count=2,  # In this, only 2 node cluster was created.\r\n",
        "    distribution={\r\n",
        "        \"type\": \"PyTorch\",\r\n",
        "        \"process_count_per_instance\": 1, # number of GPus per node\r\n",
        "    },\r\n",
        ")\r\n"
      ],
      "outputs": [],
      "execution_count": 24,
      "metadata": {
        "jupyter": {
          "source_hidden": false,
          "outputs_hidden": false
        },
        "nteract": {
          "transient": {
            "deleting": false
          }
        }
      }
    },
    {
      "cell_type": "markdown",
      "source": [],
      "metadata": {
        "nteract": {
          "transient": {
            "deleting": false
          }
        }
      }
    },
    {
      "cell_type": "markdown",
      "source": [
        "### 2.2 Run the job"
      ],
      "metadata": {
        "nteract": {
          "transient": {
            "deleting": false
          }
        }
      }
    },
    {
      "cell_type": "code",
      "source": [
        "returned_job = ml_client.create_or_update(job)"
      ],
      "outputs": [],
      "execution_count": 1,
      "metadata": {
        "jupyter": {
          "source_hidden": false,
          "outputs_hidden": false
        },
        "nteract": {
          "transient": {
            "deleting": false
          }
        }
      }
    }
  ],
  "metadata": {
    "kernelspec": {
      "name": "python310-sdkv2",
      "language": "python",
      "display_name": "Python 3.10 - SDK V2"
    },
    "language_info": {
      "name": "python",
      "version": "3.10.4",
      "mimetype": "text/x-python",
      "codemirror_mode": {
        "name": "ipython",
        "version": 3
      },
      "pygments_lexer": "ipython3",
      "nbconvert_exporter": "python",
      "file_extension": ".py"
    },
    "kernel_info": {
      "name": "python310-sdkv2"
    },
    "nteract": {
      "version": "nteract-front-end@1.0.0"
    }
  },
  "nbformat": 4,
  "nbformat_minor": 0
}