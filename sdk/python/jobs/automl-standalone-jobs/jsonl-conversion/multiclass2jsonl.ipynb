{
 "cells": [
  {
   "attachments": {},
   "cell_type": "markdown",
   "metadata": {},
   "source": [
    "# Script for converting multiclass classification labels to jsonl file"
   ]
  },
  {
   "cell_type": "code",
   "execution_count": 1,
   "metadata": {},
   "outputs": [],
   "source": [
    "import json\n",
    "import os"
   ]
  },
  {
   "cell_type": "code",
   "execution_count": 2,
   "metadata": {},
   "outputs": [],
   "source": [
    "# Path to annotation file\n",
    "data_dir = os.path.join(\"data\", \"fridgeObjects\") # path to images (local dir or azure data asset)\n",
    "annotation_file = os.path.join(data_dir, \"annotations.jsonl\") # path to write annotation file"
   ]
  },
  {
   "cell_type": "code",
   "execution_count": 3,
   "metadata": {},
   "outputs": [],
   "source": [
    "def multiclass2jsonl(data_dir, annotation_file):\n",
    "    # Baseline of json line dictionary\n",
    "    json_line_sample = {\n",
    "        \"image_url\": data_dir, # path to folder in blog storage\n",
    "        \"label\": \"\",\n",
    "    }\n",
    "\n",
    "    index = 0\n",
    "    # Scan each sub directary and generate a jsonl line per image, distributed on train and valid JSONL files\n",
    "    with open(annotation_file, \"w\") as annotation_f:\n",
    "        for class_name in os.listdir(data_dir):\n",
    "            sub_dir = os.path.join(data_dir, class_name)\n",
    "            if not os.path.isdir(sub_dir):\n",
    "                continue\n",
    "\n",
    "            # Scan each sub directary\n",
    "            print(f\"Parsing {sub_dir}\")\n",
    "            for image in os.listdir(sub_dir):\n",
    "                json_line = dict(json_line_sample)\n",
    "                json_line[\"image_url\"] += f\"{class_name}/{image}\"\n",
    "                json_line[\"label\"] = class_name\n",
    "\n",
    "                annotation_f.write(json.dumps(json_line) + \"\\n\")\n",
    "                index += 1"
   ]
  },
  {
   "cell_type": "code",
   "execution_count": 4,
   "metadata": {},
   "outputs": [
    {
     "name": "stdout",
     "output_type": "stream",
     "text": [
      "Parsing data\\fridgeObjects\\can\n",
      "Parsing data\\fridgeObjects\\carton\n",
      "Parsing data\\fridgeObjects\\milk_bottle\n",
      "Parsing data\\fridgeObjects\\water_bottle\n"
     ]
    }
   ],
   "source": [
    "multiclass2jsonl(data_dir, annotation_file)"
   ]
  },
  {
   "cell_type": "code",
   "execution_count": null,
   "metadata": {},
   "outputs": [],
   "source": []
  }
 ],
 "metadata": {
  "kernelspec": {
   "display_name": "rc_133",
   "language": "python",
   "name": "python3"
  },
  "language_info": {
   "codemirror_mode": {
    "name": "ipython",
    "version": 3
   },
   "file_extension": ".py",
   "mimetype": "text/x-python",
   "name": "python",
   "nbconvert_exporter": "python",
   "pygments_lexer": "ipython3",
   "version": "3.7.10"
  },
  "orig_nbformat": 4
 },
 "nbformat": 4,
 "nbformat_minor": 2
}
