{
 "cells": [
  {
   "attachments": {},
   "cell_type": "markdown",
   "metadata": {},
   "source": [
    "# Script for converting multilabel classification labels to jsonl file"
   ]
  },
  {
   "cell_type": "code",
   "execution_count": 1,
   "metadata": {},
   "outputs": [],
   "source": [
    "import json\n",
    "import os"
   ]
  },
  {
   "cell_type": "code",
   "execution_count": 2,
   "metadata": {},
   "outputs": [],
   "source": [
    "# Path to annotation file\n",
    "data_dir = os.path.join(\"data\", \"multilabelfridgeObjects\") # path to images (local dir or azure data asset)\n",
    "annotation_file = os.path.join(data_dir, \"annotations.jsonl\") # path to write annotation file\n",
    "labels_file = os.path.join(data_dir, \"labels.csv\")"
   ]
  },
  {
   "cell_type": "code",
   "execution_count": 3,
   "metadata": {},
   "outputs": [],
   "source": [
    "def multilabel2jsonl(data_dir, annotation_file, labels_file):\n",
    "    # Baseline of json line dictionary\n",
    "    json_line_sample = {\n",
    "        \"image_url\": data_dir,\n",
    "        \"label\": [],\n",
    "    }\n",
    "\n",
    "    # Read each annotation and convert it to jsonl line\n",
    "    with open(annotation_file, \"w\") as annotation_f:\n",
    "        with open(labels_file, \"r\") as labels:\n",
    "            for i, line in enumerate(labels):\n",
    "                # Skipping the title line and any empty lines.\n",
    "                if i == 0 or len(line.strip()) == 0:\n",
    "                    continue\n",
    "                line_split = line.strip().split(\",\")\n",
    "                if len(line_split) != 2:\n",
    "                    print(f\"Skipping the invalid line: {line}\")\n",
    "                    continue\n",
    "                json_line = dict(json_line_sample)\n",
    "                json_line[\"image_url\"] += f\"images/{line_split[0]}\"\n",
    "                json_line[\"label\"] = line_split[1].strip().split(\" \")\n",
    "\n",
    "                annotation_f.write(json.dumps(json_line) + \"\\n\")"
   ]
  },
  {
   "cell_type": "code",
   "execution_count": 5,
   "metadata": {},
   "outputs": [],
   "source": [
    "multilabel2jsonl(data_dir, annotation_file, labels_file)"
   ]
  }
 ],
 "metadata": {
  "kernelspec": {
   "display_name": "rc_133",
   "language": "python",
   "name": "python3"
  },
  "language_info": {
   "codemirror_mode": {
    "name": "ipython",
    "version": 3
   },
   "file_extension": ".py",
   "mimetype": "text/x-python",
   "name": "python",
   "nbconvert_exporter": "python",
   "pygments_lexer": "ipython3",
   "version": "3.7.10"
  },
  "orig_nbformat": 4
 },
 "nbformat": 4,
 "nbformat_minor": 2
}
