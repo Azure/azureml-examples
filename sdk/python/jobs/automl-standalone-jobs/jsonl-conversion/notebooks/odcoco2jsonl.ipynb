{
 "cells": [
  {
   "attachments": {},
   "cell_type": "markdown",
   "metadata": {},
   "source": [
    "# Script for converting COCO Object Detection labels to jsonl file"
   ]
  },
  {
   "cell_type": "code",
   "execution_count": 2,
   "metadata": {},
   "outputs": [],
   "source": [
    "import json\n",
    "import os"
   ]
  },
  {
   "cell_type": "code",
   "execution_count": 16,
   "metadata": {},
   "outputs": [],
   "source": [
    "# Path to annotation file\n",
    "data_dir = os.path.join(\"data\", \"odFridgeObjects\") # path to images (local dir or azure data asset)\n",
    "annotation_file = os.path.join(data_dir, \"annotations_coco.jsonl\") # path to write annotation file\n",
    "coco_file = os.path.join(data_dir, \"odFridgeObjects_coco.json\")"
   ]
  },
  {
   "cell_type": "code",
   "execution_count": 17,
   "metadata": {},
   "outputs": [],
   "source": [
    "class CocoToJSONLinesConverter:\n",
    "    def convert(self):\n",
    "        raise NotImplementedError\n",
    "\n",
    "\n",
    "class BoundingBoxConverter(CocoToJSONLinesConverter):\n",
    "    def __init__(self, coco_data):\n",
    "        self.json_lines_data = []\n",
    "        self.categories = {}\n",
    "        self.coco_data = coco_data\n",
    "        self.image_id_to_data_index = {}\n",
    "        for i in range(0, len(coco_data[\"images\"])):\n",
    "            self.json_lines_data.append({})\n",
    "            self.json_lines_data[i][\"image_url\"] = \"\"\n",
    "            self.json_lines_data[i][\"image_details\"] = {}\n",
    "            self.json_lines_data[i][\"label\"] = []\n",
    "        for i in range(0, len(coco_data[\"categories\"])):\n",
    "            self.categories[coco_data[\"categories\"][i][\"id\"]] = coco_data[\"categories\"][\n",
    "                i\n",
    "            ][\"name\"]\n",
    "\n",
    "    def _populate_image_url(self, index, coco_image):\n",
    "        self.json_lines_data[index][\"image_url\"] = coco_image[\"file_name\"]\n",
    "        self.image_id_to_data_index[coco_image[\"id\"]] = index\n",
    "\n",
    "    def _populate_image_details(self, index, coco_image):\n",
    "        file_name = coco_image[\"file_name\"]\n",
    "        self.json_lines_data[index][\"image_details\"][\"format\"] = file_name[\n",
    "            file_name.rfind(\".\") + 1 :\n",
    "        ]\n",
    "        self.json_lines_data[index][\"image_details\"][\"width\"] = coco_image[\"width\"]\n",
    "        self.json_lines_data[index][\"image_details\"][\"height\"] = coco_image[\"height\"]\n",
    "\n",
    "    def _populate_bbox_in_label(self, label, annotation, image_details):\n",
    "        # if bbox comes as normalized, skip normalization.\n",
    "        if max(annotation[\"bbox\"]) < 1.5:\n",
    "            width = 1\n",
    "            height = 1\n",
    "        else:\n",
    "            width = image_details[\"width\"]\n",
    "            height = image_details[\"height\"]\n",
    "        label[\"topX\"] = annotation[\"bbox\"][0] / width\n",
    "        label[\"topY\"] = annotation[\"bbox\"][1] / height\n",
    "        label[\"bottomX\"] = (annotation[\"bbox\"][0] + annotation[\"bbox\"][2]) / width\n",
    "        label[\"bottomY\"] = (annotation[\"bbox\"][1] + annotation[\"bbox\"][3]) / height\n",
    "\n",
    "    def _populate_label(self, annotation):\n",
    "        index = self.image_id_to_data_index[annotation[\"image_id\"]]\n",
    "        image_details = self.json_lines_data[index][\"image_details\"]\n",
    "        label = {\"label\": self.categories[annotation[\"category_id\"]]}\n",
    "        self._populate_bbox_in_label(label, annotation, image_details)\n",
    "        self._populate_isCrowd(label, annotation)\n",
    "        self.json_lines_data[index][\"label\"].append(label)\n",
    "\n",
    "    def _populate_isCrowd(self, label, annotation):\n",
    "        if \"iscrowd\" in annotation.keys():\n",
    "            label[\"isCrowd\"] = annotation[\"iscrowd\"]\n",
    "\n",
    "    def convert(self):\n",
    "        for i in range(0, len(self.coco_data[\"images\"])):\n",
    "            self._populate_image_url(i, self.coco_data[\"images\"][i])\n",
    "            self._populate_image_details(i, self.coco_data[\"images\"][i])\n",
    "        for i in range(0, len(self.coco_data[\"annotations\"])):\n",
    "            self._populate_label(self.coco_data[\"annotations\"][i])\n",
    "        return self.json_lines_data"
   ]
  },
  {
   "cell_type": "code",
   "execution_count": 20,
   "metadata": {},
   "outputs": [],
   "source": [
    "def coco2jsonl(data_dir, annotation_file, coco_file):\n",
    "    # Baseline of json line dictionary\n",
    "    json_line_sample = {\n",
    "        \"image_url\": \"\",\n",
    "        \"label\": [],\n",
    "    }\n",
    "    base_url = data_dir\n",
    "\n",
    "    with open(coco_file, \"r\") as coco_file:\n",
    "        coco_file = json.load(coco_file)\n",
    "        \n",
    "        converter = BoundingBoxConverter(coco_file)\n",
    "        json_lines_data = converter.convert()\n",
    "\n",
    "        with open(annotation_file, \"w\") as annotation_f:\n",
    "            for json_line in json_lines_data:\n",
    "                if base_url is not None:\n",
    "                    image_url = json_line[\"image_url\"]\n",
    "                    json_line[\"image_url\"] = (\n",
    "                        os.path.join(base_url, image_url)\n",
    "                    )\n",
    "                json.dump(json_line, annotation_f)\n",
    "                annotation_f.write(\"\\n\")"
   ]
  },
  {
   "cell_type": "code",
   "execution_count": 21,
   "metadata": {},
   "outputs": [],
   "source": [
    "coco2jsonl(data_dir, annotation_file, coco_file)"
   ]
  },
  {
   "cell_type": "code",
   "execution_count": null,
   "metadata": {},
   "outputs": [],
   "source": []
  }
 ],
 "metadata": {
  "kernelspec": {
   "display_name": "rc_133",
   "language": "python",
   "name": "python3"
  },
  "language_info": {
   "codemirror_mode": {
    "name": "ipython",
    "version": 3
   },
   "file_extension": ".py",
   "mimetype": "text/x-python",
   "name": "python",
   "nbconvert_exporter": "python",
   "pygments_lexer": "ipython3",
   "version": "3.7.10"
  },
  "orig_nbformat": 4
 },
 "nbformat": 4,
 "nbformat_minor": 2
}
