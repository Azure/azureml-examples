{
 "cells": [
  {
   "attachments": {},
   "cell_type": "markdown",
   "metadata": {},
   "source": [
    "# Script for converting multilabel classification labels to jsonl file"
   ]
  },
  {
   "cell_type": "code",
   "execution_count": 5,
   "metadata": {},
   "outputs": [],
   "source": [
    "import json\n",
    "import os"
   ]
  },
  {
   "cell_type": "code",
   "execution_count": 6,
   "metadata": {},
   "outputs": [],
   "source": [
    "# Path to annotation file\n",
    "data_dir = os.path.join(\"..\",\"data\", \"multilabelfridgeObjects\") # path to images (local dir or azure data asset)\n",
    "annotation_file = os.path.join(data_dir, \"annotations.jsonl\") # path to write annotation file\n",
    "labels_file = os.path.join(data_dir, \"labels.csv\")"
   ]
  },
  {
   "cell_type": "code",
   "execution_count": 8,
   "metadata": {},
   "outputs": [],
   "source": [
    "import sys\n",
    "sys.path.insert(0,'..')\n",
    "from base_jsonl_converter import write_json_lines\n",
    "from classification_jsonl_converter import ClassificationJSONLConverter\n",
    "\n",
    "converter = ClassificationJSONLConverter('azure://blobstore/data/', label_file=labels_file)\n",
    "jsonl_data = converter.convert()\n"
   ]
  },
  {
   "cell_type": "code",
   "execution_count": 9,
   "metadata": {},
   "outputs": [
    {
     "name": "stdout",
     "output_type": "stream",
     "text": [
      "Conversion completed. Converted 256 lines.\n"
     ]
    }
   ],
   "source": [
    "out_annotations = os.path.join(data_dir, \"out.jsonl\")\n",
    "write_json_lines(converter, out_annotations)"
   ]
  }
 ],
 "metadata": {
  "kernelspec": {
   "display_name": "rc_133",
   "language": "python",
   "name": "python3"
  },
  "language_info": {
   "codemirror_mode": {
    "name": "ipython",
    "version": 3
   },
   "file_extension": ".py",
   "mimetype": "text/x-python",
   "name": "python",
   "nbconvert_exporter": "python",
   "pygments_lexer": "ipython3",
   "version": "3.7.10"
  },
  "orig_nbformat": 4
 },
 "nbformat": 4,
 "nbformat_minor": 2
}
