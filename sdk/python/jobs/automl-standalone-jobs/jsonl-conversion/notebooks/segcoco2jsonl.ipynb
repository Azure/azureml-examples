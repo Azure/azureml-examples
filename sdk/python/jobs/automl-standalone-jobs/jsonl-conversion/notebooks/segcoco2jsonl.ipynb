{
 "cells": [
  {
   "attachments": {},
   "cell_type": "markdown",
   "metadata": {},
   "source": [
    "# Script for converting COCO Instance Segmentation labels to jsonl file"
   ]
  },
  {
   "cell_type": "code",
   "execution_count": 8,
   "metadata": {},
   "outputs": [],
   "source": [
    "import json\n",
    "import os"
   ]
  },
  {
   "cell_type": "code",
   "execution_count": 9,
   "metadata": {},
   "outputs": [],
   "source": [
    "# Path to annotation file\n",
    "data_dir = os.path.join(\"data\", \"taco\") # path to images (local dir or azure data asset)\n",
    "annotation_file = os.path.join(data_dir, \"annotations_coco.jsonl\") # path to write annotation file\n",
    "coco_file = os.path.join(data_dir, \"taco.json\")"
   ]
  },
  {
   "cell_type": "code",
   "execution_count": 16,
   "metadata": {},
   "outputs": [],
   "source": [
    "def generate_jsonl_annotations(source, target_path, annotation_file):\n",
    "    annotations = []\n",
    "    # delete annotation flie if it exists\n",
    "    if os.path.exists(annotation_file):\n",
    "        os.remove(annotation_file)\n",
    "\n",
    "    categories = {}\n",
    "    for i in range(0, len(source[\"categories\"])):\n",
    "        categories[source[\"categories\"][i][\"id\"]] = source[\"categories\"][i][\"name\"]\n",
    "\n",
    "    with open(annotation_file, 'w') as annotation_f:\n",
    "        \n",
    "        # loop through images\n",
    "        for img_idx, image in enumerate(source['images']):\n",
    "\n",
    "            id = image['id']\n",
    "            width = image['width']\n",
    "            height = image['height']\n",
    "            file_name = image['file_name']\n",
    "            extension = file_name.split('.')[-1].lower()\n",
    "            \n",
    "            image_dict = {\n",
    "                \"image_url\" : target_path + '/' + file_name,\n",
    "                \"image_details\" : {\n",
    "                    \"format\" : extension,\n",
    "                    \"width\" : width,\n",
    "                    \"height\" : height },\n",
    "                \"label\" : []\n",
    "            }\n",
    "        \n",
    "            # get all annotations for current image\n",
    "            image_annotations = [annotation for annotation in source['annotations'] if annotation['image_id'] == id]\n",
    "            \n",
    "            label = {}\n",
    "\n",
    "            # loop through annotations\n",
    "            for anno_idx, annotation in enumerate(image_annotations):\n",
    "                class_id = annotation['category_id']\n",
    "                iscrowd = annotation['iscrowd']\n",
    "                # processing normal cases (iscrowd is 0):\n",
    "                if iscrowd == 0:\n",
    "                \n",
    "                    polygons = []\n",
    "                    # loop through list of polygons - will be 1 in most cases\n",
    "                    for segmentation in annotation['segmentation']:\n",
    "                        \n",
    "                        polygon = []\n",
    "                        # loop through vertices:\n",
    "                        for id, vertex in enumerate(segmentation):\n",
    "                            if (id % 2) == 0:\n",
    "                                # x-coordinates (even index)\n",
    "                                x = vertex / width\n",
    "                                polygon.append(x)\n",
    "                    \n",
    "                            else:\n",
    "                                y = vertex / height\n",
    "                                polygon.append(y)\n",
    "                        polygons.append(polygon)\n",
    "                \n",
    "                    image_dict['label'].append({\n",
    "                        \"label\" : categories[class_id],\n",
    "                        \"isCrowd\" : iscrowd,\n",
    "                        \"polygon\" : polygons\n",
    "                    })\n",
    "                # TODO: process iscrowd annotations\n",
    "                if iscrowd != 0:\n",
    "                    pass\n",
    "                json.dump(image_dict, annotation_f)\n",
    "                annotation_f.write(\"\\n\")"
   ]
  },
  {
   "cell_type": "code",
   "execution_count": 17,
   "metadata": {},
   "outputs": [],
   "source": [
    "with open(coco_file, 'r') as f:\n",
    "    source = json.load(f)\n",
    "generate_jsonl_annotations(source, os.path.join(data_dir, \"images\"), annotation_file)"
   ]
  },
  {
   "cell_type": "code",
   "execution_count": null,
   "metadata": {},
   "outputs": [],
   "source": []
  }
 ],
 "metadata": {
  "kernelspec": {
   "display_name": "rc_133",
   "language": "python",
   "name": "python3"
  },
  "language_info": {
   "codemirror_mode": {
    "name": "ipython",
    "version": 3
   },
   "file_extension": ".py",
   "mimetype": "text/x-python",
   "name": "python",
   "nbconvert_exporter": "python",
   "pygments_lexer": "ipython3",
   "version": "3.7.10"
  },
  "orig_nbformat": 4
 },
 "nbformat": 4,
 "nbformat_minor": 2
}
