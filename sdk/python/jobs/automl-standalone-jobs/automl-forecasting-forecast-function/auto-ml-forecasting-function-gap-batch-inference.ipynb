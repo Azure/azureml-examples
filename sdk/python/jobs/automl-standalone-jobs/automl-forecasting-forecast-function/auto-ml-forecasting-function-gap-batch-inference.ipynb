{
 "cells": [
  {
   "cell_type": "markdown",
   "metadata": {},
   "source": [
    "## Introduction\n",
    "This notebook demonstrates the full interface of the `forecast()` function. \n",
    "\n",
    "The best known and most frequent usage of `forecast` enables forecasting on test sets that immediately follows training data. \n",
    "\n",
    "However, in many use cases it is necessary to continue using the model for some time before retraining it. This happens especially in **high frequency forecasting** when forecasts need to be made more frequently than the model can be retrained. Examples are in Internet of Things and predictive cloud resource scaling.\n",
    "\n",
    "Here we show how to use the `forecast()` function when a time gap exists between training data and prediction period.\n",
    "\n",
    "Terminology:\n",
    "* forecast origin: the last period when the target value is known\n",
    "* forecast periods(s): the period(s) for which the value of the target is desired.\n",
    "* lookback: how many past periods (before forecast origin) the model function depends on. The larger of number of lags and length of rolling window.\n",
    "* prediction context: `lookback` periods immediately preceding the forecast origin"
   ]
  },
  {
   "cell_type": "code",
   "execution_count": 2,
   "metadata": {
    "tags": []
   },
   "outputs": [],
   "source": [
    "TIME_COLUMN_NAME = \"date\"\n",
    "TIME_SERIES_ID_COLUMN_NAME = \"time_series_id\"\n",
    "TARGET_COLUMN_NAME = \"y\"\n",
    "lags = [1, 2, 3]\n",
    "forecast_horizon = 6"
   ]
  },
  {
   "cell_type": "markdown",
   "metadata": {},
   "source": [
    "### Batch Deployment"
   ]
  },
  {
   "cell_type": "code",
   "execution_count": 5,
   "metadata": {},
   "outputs": [
    {
     "name": "stdout",
     "output_type": "stream",
     "text": [
      "azureml://eastus.api.azureml.ms/mlflow/v1.0/subscriptions/72c03bf3-4e69-41af-9532-dfcdc3eefef4/resourceGroups/aml-benchmarking/providers/Microsoft.MachineLearningServices/workspaces/aml-benchmarking-rd\n"
     ]
    }
   ],
   "source": [
    "import mlflow\n",
    "import mlflow.sklearn\n",
    "import pandas as pd\n",
    "\n",
    "from azure.identity import DefaultAzureCredential\n",
    "from azure.ai.ml import MLClient\n",
    "credential = DefaultAzureCredential()\n",
    "ml_client = None\n",
    "\n",
    "subscription_id = \"<SUBSCRIPTION_ID>\"\n",
    "resource_group = \"<RESOURCE_GROUP>\"\n",
    "workspace = \"<AML_WORKSPACE_NAME>\"\n",
    "\n",
    "ml_client = MLClient(credential, subscription_id, resource_group, workspace)\n",
    "\n",
    "# Obtain the tracking URL from MLClient\n",
    "MLFLOW_TRACKING_URI = ml_client.workspaces.get(\n",
    "    name=ml_client.workspace_name\n",
    ").mlflow_tracking_uri\n",
    "\n",
    "print(MLFLOW_TRACKING_URI)"
   ]
  },
  {
   "cell_type": "code",
   "execution_count": 6,
   "metadata": {},
   "outputs": [
    {
     "name": "stdout",
     "output_type": "stream",
     "text": [
      "\n",
      "Current tracking uri: azureml://eastus.api.azureml.ms/mlflow/v1.0/subscriptions/72c03bf3-4e69-41af-9532-dfcdc3eefef4/resourceGroups/aml-benchmarking/providers/Microsoft.MachineLearningServices/workspaces/aml-benchmarking-rd\n"
     ]
    },
    {
     "name": "stderr",
     "output_type": "stream",
     "text": [
      "c:\\Users\\sagoswami\\.conda\\envs\\sdkv2-test1\\lib\\site-packages\\azureml\\mlflow\\_protos\\aml_service_pb2.py:10: UserWarning: google.protobuf.service module is deprecated. RPC implementations should provide code generator plugins which generate code specific to the RPC implementation. service.py will be removed in Jan 2025\n",
      "  from google.protobuf import service as _service\n"
     ]
    }
   ],
   "source": [
    "from mlflow.tracking.client import MlflowClient\n",
    "from mlflow.artifacts import download_artifacts\n",
    "\n",
    "# Set the MLFLOW TRACKING URI\n",
    "mlflow.set_tracking_uri(MLFLOW_TRACKING_URI)\n",
    "print(\"\\nCurrent tracking uri: {}\".format(mlflow.get_tracking_uri()))\n",
    "\n",
    "# Initialize MLFlow client\n",
    "mlflow_client = MlflowClient()"
   ]
  },
  {
   "cell_type": "code",
   "execution_count": 7,
   "metadata": {},
   "outputs": [],
   "source": [
    "# job_name = returned_job.name # If training job is in the same notebook\n",
    "job_name = \"yellow_camera_1n84g0vcwp\" ## Example of providing an specific Job name/ID\n",
    "\n",
    "# Get the parent run\n",
    "mlflow_parent_run = mlflow_client.get_run(job_name)\n",
    "\n",
    "# print(\"Parent Run: \")\n",
    "# print(mlflow_parent_run)"
   ]
  },
  {
   "cell_type": "code",
   "execution_count": 8,
   "metadata": {},
   "outputs": [
    {
     "name": "stdout",
     "output_type": "stream",
     "text": [
      "Found best child run id:  yellow_camera_1n84g0vcwp_4\n",
      "Best child run: \n",
      "<Run: data=<RunData: metrics={'explained_variance': 0.9910013504019911,\n",
      " 'mean_absolute_error': 0.29282333566680235,\n",
      " 'mean_absolute_percentage_error': 1.118067051888466,\n",
      " 'median_absolute_error': 0.3040329750308685,\n",
      " 'normalized_mean_absolute_error': 0.011402639389141949,\n",
      " 'normalized_median_absolute_error': 0.011167830489974646,\n",
      " 'normalized_root_mean_squared_error': 0.013701302313198613,\n",
      " 'normalized_root_mean_squared_log_error': 0.00621450456108454,\n",
      " 'r2_score': 0.9863519731383007,\n",
      " 'root_mean_squared_error': 0.35499956438249874,\n",
      " 'root_mean_squared_log_error': 0.01294906396693142,\n",
      " 'spearman_correlation': 1.0}, params={}, tags={'mlflow.parentRunId': 'yellow_camera_1n84g0vcwp',\n",
      " 'mlflow.rootRunId': 'yellow_camera_1n84g0vcwp',\n",
      " 'mlflow.runName': 'ivory_bear_5j8y7myk',\n",
      " 'mlflow.user': 'Sampurna Goswami',\n",
      " 'model_explain_run_id': 'yellow_camera_1n84g0vcwp_ModelExplain',\n",
      " 'model_explanation': 'True'}>, info=<RunInfo: artifact_uri='azureml://eastus.api.azureml.ms/mlflow/v2.0/subscriptions/72c03bf3-4e69-41af-9532-dfcdc3eefef4/resourceGroups/aml-benchmarking/providers/Microsoft.MachineLearningServices/workspaces/aml-benchmarking-rd/experiments/100950b6-552b-46ed-bc24-f80ac6d7c5e0/runs/yellow_camera_1n84g0vcwp_4/artifacts', end_time=1729236072867, experiment_id='100950b6-552b-46ed-bc24-f80ac6d7c5e0', lifecycle_stage='active', run_id='yellow_camera_1n84g0vcwp_4', run_name='ivory_bear_5j8y7myk', run_uuid='yellow_camera_1n84g0vcwp_4', start_time=1729236034603, status='FINISHED', user_id='8332a4ed-85df-4112-826d-a35a00b59d05'>, inputs=<RunInputs: dataset_inputs=[]>>\n"
     ]
    }
   ],
   "source": [
    "# Get the best model's child run\n",
    "best_child_run_id = mlflow_parent_run.data.tags[\"automl_best_child_run_id\"]\n",
    "print(\"Found best child run id: \", best_child_run_id)\n",
    "\n",
    "best_run = mlflow_client.get_run(best_child_run_id)\n",
    "\n",
    "print(\"Best child run: \")\n",
    "print(best_run)"
   ]
  },
  {
   "cell_type": "code",
   "execution_count": 9,
   "metadata": {},
   "outputs": [],
   "source": [
    "import datetime\n",
    "from azure.ai.ml.entities import (\n",
    "    Environment,\n",
    "    BatchEndpoint,\n",
    "    BatchDeployment,\n",
    "    BatchRetrySettings,\n",
    "    Model,\n",
    ")\n",
    "from azure.ai.ml.constants import BatchDeploymentOutputAction\n",
    "\n",
    "model_name = \"test-batch-endpoint\"\n",
    "batch_endpoint_name = \"gap-batch-\" + datetime.datetime.now().strftime(\n",
    "    \"%m%d%H%M%f\"\n",
    ")\n",
    "\n",
    "model = Model(\n",
    "    path=f\"azureml://jobs/{best_run.info.run_id}/outputs/artifacts/outputs/model.pkl\",\n",
    "    name=model_name,\n",
    "    description=\"Gap prediction sample best model\",\n",
    ")\n",
    "registered_model = ml_client.models.create_or_update(model)\n",
    "\n",
    "env = Environment(\n",
    "    name=\"automl-tabular-env\",\n",
    "    description=\"environment for automl inference\",\n",
    "    image=\"mcr.microsoft.com/azureml/openmpi4.1.0-ubuntu20.04:latest\",\n",
    "    conda_file=\"artifact_downloads/outputs/conda_env_v_1_0_0.yml\",\n",
    ")\n",
    "\n",
    "endpoint = BatchEndpoint(\n",
    "    name=batch_endpoint_name,\n",
    "    description=\"this is a sample batch endpoint\",\n",
    ")\n",
    "ml_client.begin_create_or_update(endpoint).wait()"
   ]
  },
  {
   "cell_type": "code",
   "execution_count": 10,
   "metadata": {},
   "outputs": [],
   "source": [
    "from azure.core.exceptions import ResourceNotFoundError\n",
    "from azure.ai.ml.entities import AmlCompute\n",
    "\n",
    "cluster_name = \"gap-cluster\"\n",
    "\n",
    "try:\n",
    "    # Retrieve an already attached Azure Machine Learning Compute.\n",
    "    compute = ml_client.compute.get(cluster_name)\n",
    "except ResourceNotFoundError as e:\n",
    "    compute = AmlCompute(\n",
    "        name=cluster_name,\n",
    "        size=\"STANDARD_DS12_V2\",\n",
    "        type=\"amlcompute\",\n",
    "        min_instances=0,\n",
    "        max_instances=4,\n",
    "        idle_time_before_scale_down=120,\n",
    "    )\n",
    "    poller = ml_client.begin_create_or_update(compute)\n",
    "    poller.wait()\n"
   ]
  },
  {
   "cell_type": "code",
   "execution_count": 11,
   "metadata": {},
   "outputs": [
    {
     "data": {
      "text/plain": [
       "'gap-batch-10282041765753'"
      ]
     },
     "execution_count": 11,
     "metadata": {},
     "output_type": "execute_result"
    }
   ],
   "source": [
    "batch_endpoint_name"
   ]
  },
  {
   "cell_type": "code",
   "execution_count": 12,
   "metadata": {},
   "outputs": [],
   "source": [
    "output_file = \"forecast.csv\" # Where the predictions would be stored\n",
    "batch_deployment = BatchDeployment(\n",
    "    name=\"non-mlflow-deployment\",\n",
    "    description=\"this is a sample non-mlflow deployment\",\n",
    "    endpoint_name=batch_endpoint_name,\n",
    "    model=registered_model,\n",
    "    code_path=\"./forecasting_script\",\n",
    "    scoring_script=\"forecasting_script.py\",\n",
    "    environment=env,\n",
    "    environment_variables={\n",
    "        \"TARGET_COLUMN_NAME\": TARGET_COLUMN_NAME,\n",
    "    },\n",
    "    compute=cluster_name,\n",
    "    instance_count=1, #2\n",
    "    max_concurrency_per_instance=1, #2\n",
    "    mini_batch_size=1, #10\n",
    "    output_action=BatchDeploymentOutputAction.APPEND_ROW,\n",
    "    output_file_name=output_file,\n",
    "    retry_settings=BatchRetrySettings(max_retries=3, timeout=30),\n",
    "    logging_level=\"info\",\n",
    "    properties={\"include_output_header\": \"true\"},\n",
    "    tags={\"include_output_header\": \"true\"},\n",
    ")\n"
   ]
  },
  {
   "cell_type": "code",
   "execution_count": 13,
   "metadata": {},
   "outputs": [
    {
     "name": "stderr",
     "output_type": "stream",
     "text": [
      "\u001b[32mUploading forecasting_script (0.0 MBs): 100%|##########| 2456/2456 [00:01<00:00, 1679.61it/s]\n",
      "\u001b[39m\n",
      "\n"
     ]
    }
   ],
   "source": [
    "ml_client.begin_create_or_update(batch_deployment).wait()"
   ]
  },
  {
   "cell_type": "code",
   "execution_count": 46,
   "metadata": {},
   "outputs": [
    {
     "data": {
      "text/plain": [
       "'gap-batch-10241739762384'"
      ]
     },
     "execution_count": 46,
     "metadata": {},
     "output_type": "execute_result"
    }
   ],
   "source": [
    "batch_endpoint_name"
   ]
  },
  {
   "cell_type": "markdown",
   "metadata": {},
   "source": [
    "### Data visualization of the train and test data"
   ]
  },
  {
   "cell_type": "code",
   "execution_count": 16,
   "metadata": {},
   "outputs": [],
   "source": [
    "df_train = pd.read_parquet('./data/training-mltable-folder/df_train.parquet') # We stored the training and test data during training\n",
    "df_test = pd.read_parquet('./data/testing-mltable-folder/df_test.parquet')"
   ]
  },
  {
   "cell_type": "code",
   "execution_count": 17,
   "metadata": {},
   "outputs": [
    {
     "data": {
      "text/html": [
       "<div>\n",
       "<style scoped>\n",
       "    .dataframe tbody tr th:only-of-type {\n",
       "        vertical-align: middle;\n",
       "    }\n",
       "\n",
       "    .dataframe tbody tr th {\n",
       "        vertical-align: top;\n",
       "    }\n",
       "\n",
       "    .dataframe thead th {\n",
       "        text-align: right;\n",
       "    }\n",
       "</style>\n",
       "<table border=\"1\" class=\"dataframe\">\n",
       "  <thead>\n",
       "    <tr style=\"text-align: right;\">\n",
       "      <th></th>\n",
       "      <th>date</th>\n",
       "      <th>ext_predictor</th>\n",
       "      <th>time_series_id</th>\n",
       "      <th>y</th>\n",
       "      <th>data_type</th>\n",
       "    </tr>\n",
       "  </thead>\n",
       "  <tbody>\n",
       "    <tr>\n",
       "      <th>58</th>\n",
       "      <td>2000-01-02 04:00:00</td>\n",
       "      <td>70</td>\n",
       "      <td>ts1</td>\n",
       "      <td>33.655695</td>\n",
       "      <td>Training</td>\n",
       "    </tr>\n",
       "    <tr>\n",
       "      <th>59</th>\n",
       "      <td>2000-01-02 05:00:00</td>\n",
       "      <td>71</td>\n",
       "      <td>ts1</td>\n",
       "      <td>34.589008</td>\n",
       "      <td>Training</td>\n",
       "    </tr>\n",
       "  </tbody>\n",
       "</table>\n",
       "</div>"
      ],
      "text/plain": [
       "                  date  ext_predictor time_series_id          y data_type\n",
       "58 2000-01-02 04:00:00             70            ts1  33.655695  Training\n",
       "59 2000-01-02 05:00:00             71            ts1  34.589008  Training"
      ]
     },
     "execution_count": 17,
     "metadata": {},
     "output_type": "execute_result"
    }
   ],
   "source": [
    "df_train.tail(2)"
   ]
  },
  {
   "cell_type": "code",
   "execution_count": 19,
   "metadata": {},
   "outputs": [
    {
     "data": {
      "text/html": [
       "<div>\n",
       "<style scoped>\n",
       "    .dataframe tbody tr th:only-of-type {\n",
       "        vertical-align: middle;\n",
       "    }\n",
       "\n",
       "    .dataframe tbody tr th {\n",
       "        vertical-align: top;\n",
       "    }\n",
       "\n",
       "    .dataframe thead th {\n",
       "        text-align: right;\n",
       "    }\n",
       "</style>\n",
       "<table border=\"1\" class=\"dataframe\">\n",
       "  <thead>\n",
       "    <tr style=\"text-align: right;\">\n",
       "      <th></th>\n",
       "      <th>date</th>\n",
       "      <th>ext_predictor</th>\n",
       "      <th>time_series_id</th>\n",
       "      <th>y</th>\n",
       "      <th>data_type</th>\n",
       "    </tr>\n",
       "  </thead>\n",
       "  <tbody>\n",
       "    <tr>\n",
       "      <th>0</th>\n",
       "      <td>2000-01-02 06:00:00</td>\n",
       "      <td>72</td>\n",
       "      <td>ts0</td>\n",
       "      <td>30.880051</td>\n",
       "      <td>Testing</td>\n",
       "    </tr>\n",
       "    <tr>\n",
       "      <th>1</th>\n",
       "      <td>2000-01-02 07:00:00</td>\n",
       "      <td>73</td>\n",
       "      <td>ts0</td>\n",
       "      <td>31.234464</td>\n",
       "      <td>Testing</td>\n",
       "    </tr>\n",
       "  </tbody>\n",
       "</table>\n",
       "</div>"
      ],
      "text/plain": [
       "                 date  ext_predictor time_series_id          y data_type\n",
       "0 2000-01-02 06:00:00             72            ts0  30.880051   Testing\n",
       "1 2000-01-02 07:00:00             73            ts0  31.234464   Testing"
      ]
     },
     "execution_count": 19,
     "metadata": {},
     "output_type": "execute_result"
    }
   ],
   "source": [
    "df_test.head(2)"
   ]
  },
  {
   "cell_type": "code",
   "execution_count": 20,
   "metadata": {},
   "outputs": [
    {
     "data": {
      "image/png": "[encoded data removed]",
      "text/plain": [
       "<Figure size 1000x600 with 1 Axes>"
      ]
     },
     "metadata": {},
     "output_type": "display_data"
    }
   ],
   "source": [
    "import matplotlib.pyplot as plt\n",
    "# Concatenate the training and testing DataFrames\n",
    "df_plot = pd.concat([df_train, df_test])\n",
    "\n",
    "# Create a figure and axis\n",
    "plt.figure(figsize=(10, 6))\n",
    "ax = plt.gca()  # Get current axis\n",
    "\n",
    "# Group by both 'data_type' and 'time_series_id'\n",
    "for (data_type, time_series_id), df in df_plot.groupby(['data_type', TIME_SERIES_ID_COLUMN_NAME]):\n",
    "    df.plot(x='date', y=TARGET_COLUMN_NAME, label=f\"{data_type} - {time_series_id}\", ax=ax, legend=False)\n",
    "\n",
    "# Customize the plot\n",
    "plt.xlabel('Date')\n",
    "plt.ylabel('Value')\n",
    "plt.title('Train and Test Data')\n",
    "\n",
    "# Manually create the legend after plotting\n",
    "plt.legend(title=\"Data Type and Time Series ID\")\n",
    "plt.show()"
   ]
  },
  {
   "cell_type": "markdown",
   "metadata": {},
   "source": [
    "# Forecasting from the trained model\n",
    "\n",
    "In this section we will review the forecast interface for two main scenarios: forecasting right after the training data, and the more complex interface for forecasting when there is a gap (in the time sense) between training and testing data.\n",
    "\n",
    "## X_train is directly followed by the X_test\n",
    "Let's first consider the case when the prediction period immediately follows the training data. This is typical in scenarios where we have the time to retrain the model every time we wish to forecast. Forecasts that are made on daily and slower cadence typically fall into this category. Retraining the model every time benefits the accuracy because the most recent data is often the most informative.\n",
    "\n",
    "\n",
    "<img src=\"./images/forecast_function_at_train.png\" alt=\"Description\" width=\"50%\">\n",
    "\n",
    "We use X_test as a forecast request to generate the predictions."
   ]
  },
  {
   "cell_type": "markdown",
   "metadata": {},
   "source": [
    "### Get the test data for which we need the prediction"
   ]
  },
  {
   "cell_type": "code",
   "execution_count": 22,
   "metadata": {},
   "outputs": [],
   "source": [
    "from azure.ai.ml import Input\n",
    "from azure.ai.ml.constants import AssetTypes\n",
    "my_test_data_input = Input(\n",
    "    type=AssetTypes.URI_FOLDER,\n",
    "    path=\"./data/test_data_scenarios\",\n",
    ")"
   ]
  },
  {
   "cell_type": "code",
   "execution_count": 23,
   "metadata": {},
   "outputs": [
    {
     "data": {
      "text/plain": [
       "{'type': 'uri_folder', 'path': './data/test_data_scenarios'}"
      ]
     },
     "execution_count": 23,
     "metadata": {},
     "output_type": "execute_result"
    }
   ],
   "source": [
    "my_test_data_input"
   ]
  },
  {
   "cell_type": "markdown",
   "metadata": {},
   "source": [
    "### Invoke the endpoint with the test data"
   ]
  },
  {
   "cell_type": "code",
   "execution_count": 54,
   "metadata": {},
   "outputs": [],
   "source": [
    "# import os\n",
    "# os.system(\"az login\")\n",
    "\n",
    "# def refresh_token():\n",
    "#     os.system(\"az account get-access-token\")\n",
    "\n",
    "# Call refresh_token() at regular intervals in your notebook, if necessary\n"
   ]
  },
  {
   "cell_type": "code",
   "execution_count": 27,
   "metadata": {},
   "outputs": [],
   "source": [
    "job = ml_client.batch_endpoints.invoke(\n",
    "    endpoint_name=batch_endpoint_name,\n",
    "    input=my_test_data_input, #Test data input\n",
    "    deployment_name=\"non-mlflow-deployment\",  # name is required as default deployment is not set\n",
    ")"
   ]
  },
  {
   "cell_type": "code",
   "execution_count": 28,
   "metadata": {},
   "outputs": [
    {
     "name": "stdout",
     "output_type": "stream",
     "text": [
      "Running\n",
      "RunId: batchjob-45f67a27-5f29-4582-8388-be8d180658dd\n",
      "Web View: https://ml.azure.com/runs/batchjob-45f67a27-5f29-4582-8388-be8d180658dd?wsid=/subscriptions/72c03bf3-4e69-41af-9532-dfcdc3eefef4/resourcegroups/aml-benchmarking/workspaces/aml-benchmarking-rd\n",
      "\n",
      "Streaming logs/azureml/executionlogs.txt\n",
      "========================================\n",
      "\n",
      "[2024-10-28 15:27:46Z] Submitting 1 runs, first five are: 7805450f:d9e63b6f-d1a4-4419-b3ac-87f8e334da18\n",
      "[2024-10-28 15:34:03Z] Completing processing run id d9e63b6f-d1a4-4419-b3ac-87f8e334da18.\n",
      "\n",
      "Execution Summary\n",
      "=================\n",
      "RunId: batchjob-45f67a27-5f29-4582-8388-be8d180658dd\n",
      "Web View: https://ml.azure.com/runs/batchjob-45f67a27-5f29-4582-8388-be8d180658dd?wsid=/subscriptions/72c03bf3-4e69-41af-9532-dfcdc3eefef4/resourcegroups/aml-benchmarking/workspaces/aml-benchmarking-rd\n",
      "\n"
     ]
    }
   ],
   "source": [
    "job_name = job.name\n",
    "batch_job = ml_client.jobs.get(name=job_name)\n",
    "print(batch_job.status)\n",
    "# stream the job logs\n",
    "ml_client.jobs.stream(name=job_name)"
   ]
  },
  {
   "cell_type": "code",
   "execution_count": 33,
   "metadata": {},
   "outputs": [
    {
     "data": {
      "text/plain": [
       "('batchjob-45f67a27-5f29-4582-8388-be8d180658dd', ' ', 'forecast.csv')"
      ]
     },
     "execution_count": 33,
     "metadata": {},
     "output_type": "execute_result"
    }
   ],
   "source": [
    "job_name,\" \", output_file"
   ]
  },
  {
   "cell_type": "code",
   "execution_count": 36,
   "metadata": {},
   "outputs": [
    {
     "name": "stderr",
     "output_type": "stream",
     "text": [
      "Downloading artifact azureml://datastores/workspaceblobstore/paths/azureml/d9e63b6f-d1a4-4419-b3ac-87f8e334da18/score/ to outputs\n"
     ]
    }
   ],
   "source": [
    "# Get the predictions\n",
    "download_path = \"./outputs/\"\n",
    "ml_client.jobs.download(job_name, download_path=download_path)"
   ]
  },
  {
   "cell_type": "code",
   "execution_count": 38,
   "metadata": {},
   "outputs": [
    {
     "data": {
      "text/html": [
       "<div>\n",
       "<style scoped>\n",
       "    .dataframe tbody tr th:only-of-type {\n",
       "        vertical-align: middle;\n",
       "    }\n",
       "\n",
       "    .dataframe tbody tr th {\n",
       "        vertical-align: top;\n",
       "    }\n",
       "\n",
       "    .dataframe thead th {\n",
       "        text-align: right;\n",
       "    }\n",
       "</style>\n",
       "<table border=\"1\" class=\"dataframe\">\n",
       "  <thead>\n",
       "    <tr style=\"text-align: right;\">\n",
       "      <th></th>\n",
       "      <th>date</th>\n",
       "      <th>ext_predictor</th>\n",
       "      <th>time_series_id</th>\n",
       "      <th>data_type</th>\n",
       "      <th>y</th>\n",
       "      <th>prediction_interval</th>\n",
       "      <th>predicted</th>\n",
       "    </tr>\n",
       "  </thead>\n",
       "  <tbody>\n",
       "    <tr>\n",
       "      <th>0</th>\n",
       "      <td>2000-01-02 06:00:00</td>\n",
       "      <td>72</td>\n",
       "      <td>ts0</td>\n",
       "      <td>Testing</td>\n",
       "      <td>30.880051</td>\n",
       "      <td>[30.07023297694423, 30.938095002841163]</td>\n",
       "      <td>30.504164</td>\n",
       "    </tr>\n",
       "    <tr>\n",
       "      <th>1</th>\n",
       "      <td>2000-01-02 07:00:00</td>\n",
       "      <td>73</td>\n",
       "      <td>ts0</td>\n",
       "      <td>Testing</td>\n",
       "      <td>31.234464</td>\n",
       "      <td>[30.948404564288648, 32.04935617279979]</td>\n",
       "      <td>31.498880</td>\n",
       "    </tr>\n",
       "    <tr>\n",
       "      <th>2</th>\n",
       "      <td>2000-01-02 08:00:00</td>\n",
       "      <td>74</td>\n",
       "      <td>ts0</td>\n",
       "      <td>Testing</td>\n",
       "      <td>32.324927</td>\n",
       "      <td>[32.30731438581761, 32.679879108573864]</td>\n",
       "      <td>32.493597</td>\n",
       "    </tr>\n",
       "    <tr>\n",
       "      <th>3</th>\n",
       "      <td>2000-01-02 09:00:00</td>\n",
       "      <td>75</td>\n",
       "      <td>ts0</td>\n",
       "      <td>Testing</td>\n",
       "      <td>33.290239</td>\n",
       "      <td>[33.18813407978154, 33.78849217191297]</td>\n",
       "      <td>33.488313</td>\n",
       "    </tr>\n",
       "    <tr>\n",
       "      <th>4</th>\n",
       "      <td>2000-01-02 10:00:00</td>\n",
       "      <td>76</td>\n",
       "      <td>ts0</td>\n",
       "      <td>Testing</td>\n",
       "      <td>34.696732</td>\n",
       "      <td>[34.06278818141216, 34.90327082758539]</td>\n",
       "      <td>34.483030</td>\n",
       "    </tr>\n",
       "  </tbody>\n",
       "</table>\n",
       "</div>"
      ],
      "text/plain": [
       "                 date  ext_predictor time_series_id data_type          y  \\\n",
       "0 2000-01-02 06:00:00             72            ts0   Testing  30.880051   \n",
       "1 2000-01-02 07:00:00             73            ts0   Testing  31.234464   \n",
       "2 2000-01-02 08:00:00             74            ts0   Testing  32.324927   \n",
       "3 2000-01-02 09:00:00             75            ts0   Testing  33.290239   \n",
       "4 2000-01-02 10:00:00             76            ts0   Testing  34.696732   \n",
       "\n",
       "                       prediction_interval  predicted  \n",
       "0  [30.07023297694423, 30.938095002841163]  30.504164  \n",
       "1  [30.948404564288648, 32.04935617279979]  31.498880  \n",
       "2  [32.30731438581761, 32.679879108573864]  32.493597  \n",
       "3   [33.18813407978154, 33.78849217191297]  33.488313  \n",
       "4   [34.06278818141216, 34.90327082758539]  34.483030  "
      ]
     },
     "execution_count": 38,
     "metadata": {},
     "output_type": "execute_result"
    }
   ],
   "source": [
    "fcst_df = pd.read_csv(download_path + output_file, parse_dates=[TIME_COLUMN_NAME])\n",
    "fcst_df.head()"
   ]
  },
  {
   "cell_type": "markdown",
   "metadata": {},
   "source": [
    "# Forecasting away from training data\n",
    "Suppose we trained a model, some time passed, and now we want to apply the model without re-training. If the model \"looks back\" -- uses previous values of the target -- then we somehow need to provide those values to the model.\n",
    "\n",
    "<img src=\"./images/forecast_function_away_from_train.png\" alt=\"Description\" width=\"50%\">\n",
    "\n",
    "The notion of forecast origin comes into play: **the forecast origin is the last period for which we have seen the target value.** This applies per time-series, so each time-series can have a different forecast origin.\n",
    "\n",
    "The part of data before the forecast origin is the **prediction context**. To provide the context values the model needs when it looks back, we pass definite values in y_test (aligned with corresponding times in X_test)."
   ]
  },
  {
   "cell_type": "code",
   "execution_count": 44,
   "metadata": {},
   "outputs": [
    {
     "name": "stdout",
     "output_type": "stream",
     "text": [
      "End of the data we trained on:\n",
      "time_series_id\n",
      "ts0   2000-01-02 05:00:00\n",
      "ts1   2000-01-02 05:00:00\n",
      "Name: date, dtype: datetime64[ns]\n",
      "\n",
      "Start of the data we want to predict on:\n",
      "time_series_id\n",
      "ts0   2000-01-02 18:00:00\n",
      "ts1   2000-01-02 18:00:00\n",
      "Name: date, dtype: datetime64[ns]\n"
     ]
    },
    {
     "name": "stderr",
     "output_type": "stream",
     "text": [
      "c:\\Users\\sagoswami\\projects\\2024\\forecast_notebooks\\azureml-examples\\sdk\\python\\jobs\\automl-standalone-jobs\\automl-forecasting-forecast-function\\helper.py:39: FutureWarning: 'H' is deprecated and will be removed in a future version, please use 'h' instead.\n",
      "  time_column_name: pd.date_range(\n"
     ]
    }
   ],
   "source": [
    "# Generate the same kind of test data we trained on, but now make the train set much longer, so that the test set will be in the future\n",
    "from helper import get_timeseries, make_forecasting_query\n",
    "X_context, y_context, X_away, y_away = get_timeseries(\n",
    "    train_len=42,  # train data was 30 steps long\n",
    "    test_len=4,\n",
    "    time_column_name=TIME_COLUMN_NAME,\n",
    "    target_column_name=TARGET_COLUMN_NAME,\n",
    "    time_series_id_column_name=TIME_SERIES_ID_COLUMN_NAME,\n",
    "    time_series_number=2,\n",
    ")\n",
    "\n",
    "print(\"End of the data we trained on:\")\n",
    "print(df_train.groupby(TIME_SERIES_ID_COLUMN_NAME)[TIME_COLUMN_NAME].max())\n",
    "\n",
    "print(\"\\nStart of the data we want to predict on:\")\n",
    "print(X_away.groupby(TIME_SERIES_ID_COLUMN_NAME)[TIME_COLUMN_NAME].min())"
   ]
  },
  {
   "cell_type": "markdown",
   "metadata": {},
   "source": [
    "There is a gap of 12 hours between end of training and beginning of X_away. (It looks like 13 because all timestamps point to the start of the one hour periods.) Using only X_away will fail without adding context data for the model to consume"
   ]
  },
  {
   "cell_type": "code",
   "execution_count": 52,
   "metadata": {},
   "outputs": [],
   "source": [
    "x_gap_test = X_away.copy()\n",
    "x_gap_test[\"y\"] = y_away\n",
    "x_gap_test['data_type'] = 'test'  # Dummy data\n",
    "\n",
    "x_gap_test.to_csv(\"./data/test_gap_scenario/gap_test_data.csv\")"
   ]
  },
  {
   "cell_type": "code",
   "execution_count": 57,
   "metadata": {},
   "outputs": [],
   "source": [
    "my_test_data_gap_input = Input(\n",
    "    type=AssetTypes.URI_FOLDER,\n",
    "    path=\"./data/test_gap_scenario/\",  # Path to the data folder that has the test data with gap\n",
    ")"
   ]
  },
  {
   "cell_type": "code",
   "execution_count": 60,
   "metadata": {},
   "outputs": [],
   "source": [
    "gap_job = ml_client.batch_endpoints.invoke(\n",
    "    endpoint_name=batch_endpoint_name,\n",
    "    input=my_test_data_gap_input, #Test data input\n",
    "    deployment_name=\"non-mlflow-deployment\",  # name is required as default deployment is not set\n",
    ")"
   ]
  },
  {
   "cell_type": "code",
   "execution_count": 61,
   "metadata": {},
   "outputs": [
    {
     "name": "stdout",
     "output_type": "stream",
     "text": [
      "Running\n",
      "RunId: batchjob-291ce8ee-cff0-49f2-9335-107e2472fc65\n",
      "Web View: https://ml.azure.com/runs/batchjob-291ce8ee-cff0-49f2-9335-107e2472fc65?wsid=/subscriptions/72c03bf3-4e69-41af-9532-dfcdc3eefef4/resourcegroups/aml-benchmarking/workspaces/aml-benchmarking-rd\n",
      "\n",
      "Streaming logs/azureml/executionlogs.txt\n",
      "========================================\n",
      "\n",
      "[2024-10-28 18:28:54Z] Submitting 1 runs, first five are: 7805450f:418b0b81-c680-48f7-be2c-22e8add701f6\n",
      "[2024-10-28 18:37:22Z] Completing processing run id 418b0b81-c680-48f7-be2c-22e8add701f6.\n",
      "\n",
      "Execution Summary\n",
      "=================\n",
      "RunId: batchjob-291ce8ee-cff0-49f2-9335-107e2472fc65\n",
      "Web View: https://ml.azure.com/runs/batchjob-291ce8ee-cff0-49f2-9335-107e2472fc65?wsid=/subscriptions/72c03bf3-4e69-41af-9532-dfcdc3eefef4/resourcegroups/aml-benchmarking/workspaces/aml-benchmarking-rd\n",
      "\n"
     ]
    }
   ],
   "source": [
    "job_name = gap_job.name\n",
    "batch_job = ml_client.jobs.get(name=job_name)\n",
    "print(batch_job.status)\n",
    "# stream the job logs\n",
    "ml_client.jobs.stream(name=job_name)"
   ]
  },
  {
   "cell_type": "code",
   "execution_count": 62,
   "metadata": {},
   "outputs": [
    {
     "name": "stderr",
     "output_type": "stream",
     "text": [
      "Downloading artifact azureml://datastores/workspaceblobstore/paths/azureml/418b0b81-c680-48f7-be2c-22e8add701f6/score/ to outputs\\gap_scenario\n"
     ]
    }
   ],
   "source": [
    "# Get the predictions\n",
    "gap_download_path = \"./outputs/gap_scenario/\"\n",
    "ml_client.jobs.download(job_name, download_path=gap_download_path)"
   ]
  },
  {
   "cell_type": "code",
   "execution_count": 63,
   "metadata": {},
   "outputs": [
    {
     "data": {
      "text/html": [
       "<div>\n",
       "<style scoped>\n",
       "    .dataframe tbody tr th:only-of-type {\n",
       "        vertical-align: middle;\n",
       "    }\n",
       "\n",
       "    .dataframe tbody tr th {\n",
       "        vertical-align: top;\n",
       "    }\n",
       "\n",
       "    .dataframe thead th {\n",
       "        text-align: right;\n",
       "    }\n",
       "</style>\n",
       "<table border=\"1\" class=\"dataframe\">\n",
       "  <thead>\n",
       "    <tr style=\"text-align: right;\">\n",
       "      <th></th>\n",
       "      <th>Unnamed: 0</th>\n",
       "      <th>date</th>\n",
       "      <th>ext_predictor</th>\n",
       "      <th>time_series_id</th>\n",
       "      <th>data_type</th>\n",
       "      <th>y</th>\n",
       "      <th>prediction_interval</th>\n",
       "      <th>predicted</th>\n",
       "    </tr>\n",
       "  </thead>\n",
       "  <tbody>\n",
       "    <tr>\n",
       "      <th>0</th>\n",
       "      <td>42</td>\n",
       "      <td>2000-01-02 18:00:00</td>\n",
       "      <td>84</td>\n",
       "      <td>ts0</td>\n",
       "      <td>test</td>\n",
       "      <td>42.253241</td>\n",
       "      <td>[42.00682831806445, 42.87469034396139]</td>\n",
       "      <td>42.440759</td>\n",
       "    </tr>\n",
       "    <tr>\n",
       "      <th>1</th>\n",
       "      <td>43</td>\n",
       "      <td>2000-01-02 19:00:00</td>\n",
       "      <td>85</td>\n",
       "      <td>ts0</td>\n",
       "      <td>test</td>\n",
       "      <td>43.126377</td>\n",
       "      <td>[42.884999905408854, 43.98595151391999]</td>\n",
       "      <td>43.435476</td>\n",
       "    </tr>\n",
       "    <tr>\n",
       "      <th>2</th>\n",
       "      <td>44</td>\n",
       "      <td>2000-01-02 20:00:00</td>\n",
       "      <td>86</td>\n",
       "      <td>ts0</td>\n",
       "      <td>test</td>\n",
       "      <td>44.532234</td>\n",
       "      <td>[44.2439097269378, 44.61647444969405]</td>\n",
       "      <td>44.430192</td>\n",
       "    </tr>\n",
       "    <tr>\n",
       "      <th>3</th>\n",
       "      <td>45</td>\n",
       "      <td>2000-01-02 21:00:00</td>\n",
       "      <td>87</td>\n",
       "      <td>ts0</td>\n",
       "      <td>test</td>\n",
       "      <td>45.489004</td>\n",
       "      <td>[45.124729420901716, 45.725087513033145]</td>\n",
       "      <td>45.424908</td>\n",
       "    </tr>\n",
       "    <tr>\n",
       "      <th>4</th>\n",
       "      <td>42</td>\n",
       "      <td>2000-01-02 18:00:00</td>\n",
       "      <td>84</td>\n",
       "      <td>ts1</td>\n",
       "      <td>test</td>\n",
       "      <td>47.127495</td>\n",
       "      <td>[37.27487135377912, 38.14273337967606]</td>\n",
       "      <td>37.708802</td>\n",
       "    </tr>\n",
       "  </tbody>\n",
       "</table>\n",
       "</div>"
      ],
      "text/plain": [
       "   Unnamed: 0                date  ext_predictor time_series_id data_type  \\\n",
       "0          42 2000-01-02 18:00:00             84            ts0      test   \n",
       "1          43 2000-01-02 19:00:00             85            ts0      test   \n",
       "2          44 2000-01-02 20:00:00             86            ts0      test   \n",
       "3          45 2000-01-02 21:00:00             87            ts0      test   \n",
       "4          42 2000-01-02 18:00:00             84            ts1      test   \n",
       "\n",
       "           y                       prediction_interval  predicted  \n",
       "0  42.253241    [42.00682831806445, 42.87469034396139]  42.440759  \n",
       "1  43.126377   [42.884999905408854, 43.98595151391999]  43.435476  \n",
       "2  44.532234     [44.2439097269378, 44.61647444969405]  44.430192  \n",
       "3  45.489004  [45.124729420901716, 45.725087513033145]  45.424908  \n",
       "4  47.127495    [37.27487135377912, 38.14273337967606]  37.708802  "
      ]
     },
     "execution_count": 63,
     "metadata": {},
     "output_type": "execute_result"
    }
   ],
   "source": [
    "gap_fcst_df = pd.read_csv(gap_download_path + output_file, parse_dates=[TIME_COLUMN_NAME])\n",
    "gap_fcst_df.head()"
   ]
  },
  {
   "cell_type": "code",
   "execution_count": 70,
   "metadata": {},
   "outputs": [],
   "source": [
    "gap_fcst_df['data_type']=\"gap_forecast\""
   ]
  },
  {
   "cell_type": "markdown",
   "metadata": {},
   "source": [
    "# Local inferencing from model pickle\n"
   ]
  },
  {
   "cell_type": "markdown",
   "metadata": {},
   "source": [
    "1. **Model**  \n",
    "   We will need the MLflow model, which is downloaded at the end of the training notebook. Follow any training notebook to get the model. The MLflow model is usually downloaded to the folder: `./artifact_downloads/outputs/mlflow-model`.\n",
    "\n",
    "2. **Environment**  \n",
    "   We will need the environment to load the model. Please run the following commands to create the environment (the conda file is usually downloaded to: `./artifact_downloads/outputs/mlflow-model/conda.yaml`):\n",
    "   - `conda env create --file <path_to_conda_yaml>`\n",
    "   - `conda activate project_environment`\n",
    "\n",
    "3. **Register environment as kernel**  \n",
    "   - Please run the following command to register the environment as a kernel:  \n",
    "     ```bash\n",
    "     python -m ipykernel install --user --name project_environment --display-name \"model-inference\"\n",
    "     ```\n",
    "   - Refresh the kernel and then select the newly created kernel named `model-inference` from the kernel dropdown.\n",
    "   \n",
    "   Now we are good to run this notebook in the newly created kernel."
   ]
  },
  {
   "cell_type": "code",
   "execution_count": 3,
   "metadata": {
    "tags": []
   },
   "outputs": [
    {
     "ename": "ModuleNotFoundError",
     "evalue": "No module named 'azureml.training'",
     "output_type": "error",
     "traceback": [
      "\u001b[1;31m---------------------------------------------------------------------------\u001b[0m",
      "\u001b[1;31mModuleNotFoundError\u001b[0m                       Traceback (most recent call last)",
      "Cell \u001b[1;32mIn[3], line 5\u001b[0m\n\u001b[0;32m      2\u001b[0m \u001b[38;5;28;01mimport\u001b[39;00m \u001b[38;5;21;01mmlflow\u001b[39;00m\u001b[38;5;21;01m.\u001b[39;00m\u001b[38;5;21;01msklearn\u001b[39;00m\n\u001b[0;32m      3\u001b[0m \u001b[38;5;28;01mimport\u001b[39;00m \u001b[38;5;21;01mpandas\u001b[39;00m \u001b[38;5;28;01mas\u001b[39;00m \u001b[38;5;21;01mpd\u001b[39;00m\n\u001b[1;32m----> 5\u001b[0m fitted_model \u001b[38;5;241m=\u001b[39m \u001b[43mmlflow\u001b[49m\u001b[38;5;241;43m.\u001b[39;49m\u001b[43msklearn\u001b[49m\u001b[38;5;241;43m.\u001b[39;49m\u001b[43mload_model\u001b[49m\u001b[43m(\u001b[49m\u001b[43mmlflow_dir\u001b[49m\u001b[43m)\u001b[49m\n",
      "File \u001b[1;32mc:\\Users\\sagoswami\\.conda\\envs\\sdkv2-test1\\lib\\site-packages\\mlflow\\sklearn\\__init__.py:638\u001b[0m, in \u001b[0;36mload_model\u001b[1;34m(model_uri, dst_path)\u001b[0m\n\u001b[0;32m    636\u001b[0m sklearn_model_artifacts_path \u001b[38;5;241m=\u001b[39m os\u001b[38;5;241m.\u001b[39mpath\u001b[38;5;241m.\u001b[39mjoin(local_model_path, flavor_conf[\u001b[38;5;124m\"\u001b[39m\u001b[38;5;124mpickled_model\u001b[39m\u001b[38;5;124m\"\u001b[39m])\n\u001b[0;32m    637\u001b[0m serialization_format \u001b[38;5;241m=\u001b[39m flavor_conf\u001b[38;5;241m.\u001b[39mget(\u001b[38;5;124m\"\u001b[39m\u001b[38;5;124mserialization_format\u001b[39m\u001b[38;5;124m\"\u001b[39m, SERIALIZATION_FORMAT_PICKLE)\n\u001b[1;32m--> 638\u001b[0m \u001b[38;5;28;01mreturn\u001b[39;00m \u001b[43m_load_model_from_local_file\u001b[49m\u001b[43m(\u001b[49m\n\u001b[0;32m    639\u001b[0m \u001b[43m    \u001b[49m\u001b[43mpath\u001b[49m\u001b[38;5;241;43m=\u001b[39;49m\u001b[43msklearn_model_artifacts_path\u001b[49m\u001b[43m,\u001b[49m\u001b[43m \u001b[49m\u001b[43mserialization_format\u001b[49m\u001b[38;5;241;43m=\u001b[39;49m\u001b[43mserialization_format\u001b[49m\n\u001b[0;32m    640\u001b[0m \u001b[43m\u001b[49m\u001b[43m)\u001b[49m\n",
      "File \u001b[1;32mc:\\Users\\sagoswami\\.conda\\envs\\sdkv2-test1\\lib\\site-packages\\mlflow\\sklearn\\__init__.py:453\u001b[0m, in \u001b[0;36m_load_model_from_local_file\u001b[1;34m(path, serialization_format)\u001b[0m\n\u001b[0;32m    449\u001b[0m \u001b[38;5;28;01mwith\u001b[39;00m \u001b[38;5;28mopen\u001b[39m(path, \u001b[38;5;124m\"\u001b[39m\u001b[38;5;124mrb\u001b[39m\u001b[38;5;124m\"\u001b[39m) \u001b[38;5;28;01mas\u001b[39;00m f:\n\u001b[0;32m    450\u001b[0m     \u001b[38;5;66;03m# Models serialized with Cloudpickle cannot necessarily be deserialized using Pickle;\u001b[39;00m\n\u001b[0;32m    451\u001b[0m     \u001b[38;5;66;03m# That's why we check the serialization format of the model before deserializing\u001b[39;00m\n\u001b[0;32m    452\u001b[0m     \u001b[38;5;28;01mif\u001b[39;00m serialization_format \u001b[38;5;241m==\u001b[39m SERIALIZATION_FORMAT_PICKLE:\n\u001b[1;32m--> 453\u001b[0m         \u001b[38;5;28;01mreturn\u001b[39;00m \u001b[43mpickle\u001b[49m\u001b[38;5;241;43m.\u001b[39;49m\u001b[43mload\u001b[49m\u001b[43m(\u001b[49m\u001b[43mf\u001b[49m\u001b[43m)\u001b[49m\n\u001b[0;32m    454\u001b[0m     \u001b[38;5;28;01melif\u001b[39;00m serialization_format \u001b[38;5;241m==\u001b[39m SERIALIZATION_FORMAT_CLOUDPICKLE:\n\u001b[0;32m    455\u001b[0m         \u001b[38;5;28;01mimport\u001b[39;00m \u001b[38;5;21;01mcloudpickle\u001b[39;00m\n",
      "\u001b[1;31mModuleNotFoundError\u001b[0m: No module named 'azureml.training'"
     ]
    }
   ],
   "source": [
    "import mlflow.pyfunc\n",
    "import mlflow.sklearn\n",
    "# Please ensure that the training artifacts are downloaded. For more details refer to the training notebook\n",
    "mlflow_dir = \"./artifact_downloads/outputs/mlflow-model\"\n",
    "fitted_model = mlflow.sklearn.load_model(mlflow_dir)"
   ]
  },
  {
   "cell_type": "code",
   "execution_count": null,
   "metadata": {
    "tags": []
   },
   "outputs": [],
   "source": [
    "df_train[df_train['time_series_id']==\"ts1\"].tail(2)"
   ]
  },
  {
   "cell_type": "code",
   "execution_count": null,
   "metadata": {
    "tags": []
   },
   "outputs": [],
   "source": [
    "df_test[df_test['time_series_id']==\"ts1\"].head(2)"
   ]
  },
  {
   "cell_type": "markdown",
   "metadata": {},
   "source": [
    "# Forecasting from the trained model\n",
    "\n",
    "In this section we will review the forecast interface for two main scenarios: forecasting right after the training data, and the more complex interface for forecasting when there is a gap (in the time sense) between training and testing data.\n",
    "\n",
    "## X_train is directly followed by the X_test\n",
    "Let's first consider the case when the prediction period immediately follows the training data. This is typical in scenarios where we have the time to retrain the model every time we wish to forecast. Forecasts that are made on daily and slower cadence typically fall into this category. Retraining the model every time benefits the accuracy because the most recent data is often the most informative.\n",
    "\n",
    "\n",
    "<img src=\"./images/forecast_function_at_train.png\" alt=\"Description\" width=\"50%\">\n",
    "\n",
    "We use X_test as a forecast request to generate the predictions."
   ]
  },
  {
   "cell_type": "code",
   "execution_count": null,
   "metadata": {
    "tags": []
   },
   "outputs": [],
   "source": [
    "X_test = df_test.copy()\n",
    "y_test = X_test.pop(TARGET_COLUMN_NAME).values.astype(float)\n",
    "\n",
    "y_pred_no_gap, xy_nogap = fitted_model.forecast(X_test)"
   ]
  },
  {
   "cell_type": "markdown",
   "metadata": {
    "tags": []
   },
   "source": [
    "### Confidence Intervals\n",
    "Forecasting model may be used for the prediction of forecasting intervals by running forecast_quantiles(). This method accepts the same parameters as forecast()."
   ]
  },
  {
   "cell_type": "code",
   "execution_count": null,
   "metadata": {
    "tags": []
   },
   "outputs": [],
   "source": [
    "quantiles = fitted_model.forecast_quantiles(X_test)\n",
    "quantiles"
   ]
  },
  {
   "cell_type": "markdown",
   "metadata": {
    "tags": []
   },
   "source": [
    "### Distribution forecasts\n",
    "Often the figure of interest is not just the point prediction, but the prediction at some quantile of the distribution. This arises when the forecast is used to control some kind of inventory, for example of grocery items or virtual machines for a cloud service. In such case, the control point is usually something like \"we want the item to be in stock and not run out 99% of the time\". This is called a \"service level\". Here is how you get quantile forecasts."
   ]
  },
  {
   "cell_type": "code",
   "execution_count": null,
   "metadata": {
    "tags": []
   },
   "outputs": [],
   "source": [
    "# Specify which quantiles you would like\n",
    "fitted_model.quantiles = [0.01, 0.5, 0.95]\n",
    "\n",
    "# use forecast_quantiles function, not the forecast() one\n",
    "y_pred_quantiles = fitted_model.forecast_quantiles(X_test)\n",
    "\n",
    "# quantile forecasts returned in a Dataframe along with the time and time series id columns\n",
    "y_pred_quantiles"
   ]
  },
  {
   "cell_type": "markdown",
   "metadata": {},
   "source": [
    "# Forecasting away from training data\n",
    "Suppose we trained a model, some time passed, and now we want to apply the model without re-training. If the model \"looks back\" -- uses previous values of the target -- then we somehow need to provide those values to the model.\n",
    "\n",
    "<img src=\"./images/forecast_function_away_from_train.png\" alt=\"Description\" width=\"50%\">\n",
    "\n",
    "The notion of forecast origin comes into play: **the forecast origin is the last period for which we have seen the target value.** This applies per time-series, so each time-series can have a different forecast origin.\n",
    "\n",
    "The part of data before the forecast origin is the **prediction context**. To provide the context values the model needs when it looks back, we pass definite values in y_test (aligned with corresponding times in X_test)."
   ]
  },
  {
   "cell_type": "code",
   "execution_count": null,
   "metadata": {
    "tags": []
   },
   "outputs": [],
   "source": [
    "# generate the same kind of test data we trained on, but now make the train set much longer, so that the test set will be in the future\n",
    "from helper import get_timeseries, make_forecasting_query\n",
    "X_context, y_context, X_away, y_away = get_timeseries(\n",
    "    train_len=42,  # train data was 30 steps long\n",
    "    test_len=4,\n",
    "    time_column_name=TIME_COLUMN_NAME,\n",
    "    target_column_name=TARGET_COLUMN_NAME,\n",
    "    time_series_id_column_name=TIME_SERIES_ID_COLUMN_NAME,\n",
    "    time_series_number=2,\n",
    ")\n",
    "\n",
    "print(\"End of the data we trained on:\")\n",
    "print(df_train.groupby(TIME_SERIES_ID_COLUMN_NAME)[TIME_COLUMN_NAME].max())\n",
    "\n",
    "print(\"\\nStart of the data we want to predict on:\")\n",
    "print(X_away.groupby(TIME_SERIES_ID_COLUMN_NAME)[TIME_COLUMN_NAME].min())"
   ]
  },
  {
   "cell_type": "markdown",
   "metadata": {},
   "source": [
    "There is a gap of 12 hours between end of training and beginning of X_away. (It looks like 13 because all timestamps point to the start of the one hour periods.) Using only X_away will fail without adding context data for the model to consume"
   ]
  },
  {
   "cell_type": "code",
   "execution_count": null,
   "metadata": {
    "tags": []
   },
   "outputs": [],
   "source": [
    "try:\n",
    "    y_pred_away, xy_away = fitted_model.forecast(X_away)\n",
    "    xy_away\n",
    "except Exception as e:\n",
    "    print(e)"
   ]
  },
  {
   "cell_type": "markdown",
   "metadata": {
    "tags": []
   },
   "source": [
    "How should we read that eror message? The forecast origin is at the last time the model saw an actual value of y (the target). That was at the end of the training data! The model is attempting to forecast from the end of training data. But the requested forecast periods are past the forecast horizon. We need to provide a define y value to establish the forecast origin.\n",
    "\n",
    "We will use the helper function to take the required amount of context from the data preceding the testing data. It's definition is intentionally simplified to keep the idea in the clear."
   ]
  },
  {
   "cell_type": "markdown",
   "metadata": {},
   "source": [
    "Let's see where the context data ends - it ends, by construction, just before the testing data starts."
   ]
  },
  {
   "cell_type": "code",
   "execution_count": null,
   "metadata": {
    "tags": []
   },
   "outputs": [],
   "source": [
    "print(\n",
    "    X_context.groupby(TIME_SERIES_ID_COLUMN_NAME)[TIME_COLUMN_NAME].agg(\n",
    "        [\"min\", \"max\", \"count\"]\n",
    "    )\n",
    ")\n",
    "print(\n",
    "    X_away.groupby(TIME_SERIES_ID_COLUMN_NAME)[TIME_COLUMN_NAME].agg(\n",
    "        [\"min\", \"max\", \"count\"]\n",
    "    )\n",
    ")\n",
    "X_context.tail(5)"
   ]
  },
  {
   "cell_type": "markdown",
   "metadata": {
    "tags": []
   },
   "source": [
    "How should we read that eror message? The forecast origin is at the last time the model saw an actual value of y (the target). That was at the end of the training data! The model is attempting to forecast from the end of training data. But the requested forecast periods are past the forecast horizon. We need to provide a define y value to establish the forecast origin.\n",
    "\n",
    "We will use this helper function to take the required amount of context from the data preceding the testing data. It's definition is intentionally simplified to keep the idea in the clear."
   ]
  },
  {
   "cell_type": "code",
   "execution_count": null,
   "metadata": {
    "tags": []
   },
   "outputs": [],
   "source": [
    "# Since the length of the lookback is 3, we need to add 3 periods from the context to the request so that the model has the data it needs\n",
    "\n",
    "# Put the X and y back together for a while. They like each other and it makes them happy.\n",
    "X_context[TARGET_COLUMN_NAME] = y_context\n",
    "X_away[TARGET_COLUMN_NAME] = y_away\n",
    "fulldata = pd.concat([X_context, X_away])\n",
    "\n",
    "# Forecast origin is the last point of data, which is one 1-hr period before test\n",
    "forecast_origin = X_away[TIME_COLUMN_NAME].min() - pd.DateOffset(hours=1)\n",
    "# it is indeed the last point of the context\n",
    "assert forecast_origin == X_context[TIME_COLUMN_NAME].max()\n",
    "print(\"Forecast origin: \" + str(forecast_origin))\n",
    "\n",
    "# The model uses lags and rolling windows to look back in time\n",
    "n_lookback_periods = max(lags) # n_lookback_periods = max(max(lags), forecast_horizon) # If target_rolling_window_size is used\n",
    "lookback = pd.DateOffset(hours=n_lookback_periods)\n",
    "horizon = pd.DateOffset(hours=forecast_horizon)"
   ]
  },
  {
   "cell_type": "code",
   "execution_count": null,
   "metadata": {
    "tags": []
   },
   "outputs": [],
   "source": [
    "# now make the forecast query from context (refer to figure)\n",
    "X_pred, y_pred = make_forecasting_query(\n",
    "    fulldata, TIME_COLUMN_NAME, TARGET_COLUMN_NAME, forecast_origin, horizon, lookback\n",
    ")\n",
    "\n",
    "# show the forecast request aligned\n",
    "X_show = X_pred.copy()\n",
    "X_show[TARGET_COLUMN_NAME] = y_pred\n",
    "X_show[X_show['time_series_id']==\"ts0\"]"
   ]
  },
  {
   "cell_type": "code",
   "execution_count": null,
   "metadata": {
    "tags": []
   },
   "outputs": [],
   "source": [
    "X_pred['data_type']=\"unknown\"   # Our trining had an additional column called data_type, hence, adding it"
   ]
  },
  {
   "cell_type": "code",
   "execution_count": null,
   "metadata": {
    "tags": []
   },
   "outputs": [],
   "source": [
    "# Now everything should work\n",
    "y_pred_away, xy_away = fitted_model.forecast(X_pred, y_pred)\n",
    "\n",
    "# show the forecast aligned without the generated features\n",
    "X_show = xy_away.reset_index()\n",
    "X_show[[\"date\", \"time_series_id\", \"ext_predictor\", \"_automl_target_col\"]] # prediction is in _automl_target_col"
   ]
  },
  {
   "cell_type": "code",
   "execution_count": null,
   "metadata": {},
   "outputs": [],
   "source": [
    "### Let us look at the tail of training data and the head of the test data for one grain"
   ]
  },
  {
   "cell_type": "code",
   "execution_count": null,
   "metadata": {
    "tags": []
   },
   "outputs": [],
   "source": [
    "df_train[df_train['time_series_id']==\"ts1\"].tail(2)"
   ]
  },
  {
   "cell_type": "markdown",
   "metadata": {},
   "source": [
    "If there is a gap between the train and the test data, and the test data uses lags/ rolling forecasts, we need to append the context data such that the test data has access to the lags\n",
    "In the above case, train_data ends at 2000-01-02 05:00:00"
   ]
  },
  {
   "cell_type": "code",
   "execution_count": null,
   "metadata": {
    "tags": []
   },
   "outputs": [],
   "source": [
    "X_show[X_show['time_series_id'] == \"ts1\"][[\"date\", \"time_series_id\", \"ext_predictor\", \"_automl_target_col\"]]"
   ]
  },
  {
   "cell_type": "markdown",
   "metadata": {},
   "source": []
  }
 ],
 "metadata": {
  "authors": [
   {
    "name": "jialiu"
   }
  ],
  "category": "tutorial",
  "compute": [
   "Remote"
  ],
  "datasets": [
   "None"
  ],
  "deployment": [
   "None"
  ],
  "exclude_from_index": false,
  "framework": [
   "Azure ML AutoML"
  ],
  "friendly_name": "Forecasting away from training data",
  "index_order": 3,
  "kernelspec": {
   "display_name": "sdkv2-test1",
   "language": "python",
   "name": "python3"
  },
  "language_info": {
   "codemirror_mode": {
    "name": "ipython",
    "version": 3
   },
   "file_extension": ".py",
   "mimetype": "text/x-python",
   "name": "python",
   "nbconvert_exporter": "python",
   "pygments_lexer": "ipython3",
   "version": "3.9.20"
  },
  "microsoft": {
   "ms_spell_check": {
    "ms_spell_check_language": "en"
   }
  },
  "nteract": {
   "version": "nteract-front-end@1.0.0"
  },
  "tags": [
   "Forecasting",
   "Confidence Intervals"
  ],
  "task": "Forecasting"
 },
 "nbformat": 4,
 "nbformat_minor": 4
}
