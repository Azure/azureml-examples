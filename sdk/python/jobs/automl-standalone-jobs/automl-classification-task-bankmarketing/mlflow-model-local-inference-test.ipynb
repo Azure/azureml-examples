{
 "cells": [
  {
   "cell_type": "markdown",
   "metadata": {},
   "source": [
    "# Load the MLFlow model locally and try predictions\n",
    "\n",
    "## Prerequisites\n",
    "\n",
    "1. You need to have run successfully the training notebook related to this model, available in this same folder, where at the end of the notebook, after training the model, it downloads the 'artifacts' with the MLFlow model folder (\"./artifact_downloads/outputs/mlflow-model\").\n",
    "\n",
    "2. Create a conda environment with the 'conda.yaml' file provided within the \"mlflow-model\" folder, doing like the following:\n",
    "\n",
    "   1. (base) /> conda env create --file conda.yaml --name automl-model-classification-env\n",
    "   \n",
    "   1. (base) /> conda activate automl-model-classification-env\n",
    "   \n",
    "   1. (automl-model-classification-env) /> conda install jupyter nb_conda\n",
    "\n",
    "3. Run Jupyter and make sure you are using the related 'automl-model-classif-env' Kernel.\n",
    "\n",
    "4. Run this notebook."
   ]
  },
  {
   "cell_type": "markdown",
   "metadata": {},
   "source": [
    "If the MLFlow model files were downloaded successfully by the training notebook, you should see the files here."
   ]
  },
  {
   "cell_type": "code",
   "execution_count": 14,
   "metadata": {},
   "outputs": [
    {
     "data": {
      "text/plain": [
       "['conda.yaml', 'MLmodel', 'model.pkl', 'requirements.txt']"
      ]
     },
     "execution_count": 14,
     "metadata": {},
     "output_type": "execute_result"
    }
   ],
   "source": [
    "import os\n",
    "\n",
    "# Show the contents of the MLFlow model folder\n",
    "os.listdir(\"./artifact_downloads/outputs/mlflow-model\")\n",
    "\n",
    "# You should see a list of files such as the following:\n",
    "# ['conda.yaml', 'MLmodel', 'model.pkl', 'requirements.txt']"
   ]
  },
  {
   "cell_type": "markdown",
   "metadata": {},
   "source": [
    "### Load the test data into a Pandas DataFrame\n",
    "\n",
    "Load a test dataset (bank_marketing_test_data.csv) into a Pandas DataFrame in order to try some predictions with it."
   ]
  },
  {
   "cell_type": "code",
   "execution_count": 3,
   "metadata": {},
   "outputs": [
    {
     "data": {
      "text/plain": [
       "((952, 20), (952,))"
      ]
     },
     "execution_count": 3,
     "metadata": {},
     "output_type": "execute_result"
    }
   ],
   "source": [
    "import pandas as pd\n",
    "\n",
    "test_df = pd.read_csv(\"./data/test-mltable-folder/bank_marketing_test_data.csv\")\n",
    "y_actual = test_df.pop(\"y\")\n",
    "test_df.shape, y_actual.shape"
   ]
  },
  {
   "cell_type": "markdown",
   "metadata": {},
   "source": [
    "## Load the best model in memory\n",
    "\n",
    "Load the model using MLflow flavor. Check MLmodel under the downloaded folder (artifact_downloads/outputs/mlflow-model).\n",
    "For this particular example (and for AutoML tabular scenario except for forecast tcn which has PyTorch flavor), MLmodel file will describe two flavors, sklearn and python_function.\n",
    "We show how to load model using sklearn and pyfunc flavor.\n",
    "For more information on MLflow flavors, visit: https://www.mlflow.org/docs/latest/models.html#storage-format\n",
    "\n",
    "Note: Loading the models locally assume that you are running the notebook in an environment compatible with the model. The list of dependencies that is expected by the model is specified in the MLFlow model produced by AutoML (in the 'conda.yaml' file within the mlflow-model folder)."
   ]
  },
  {
   "cell_type": "code",
   "execution_count": 9,
   "metadata": {},
   "outputs": [],
   "source": [
    "import mlflow.pyfunc\n",
    "import mlflow.sklearn"
   ]
  },
  {
   "cell_type": "code",
   "execution_count": 10,
   "metadata": {},
   "outputs": [],
   "source": [
    "# Method #1: Get the MLFlow model using sklearn flavor\n",
    "model = mlflow.sklearn.load_model(\"./artifact_downloads/outputs/mlflow-model\")\n",
    "\n",
    "# Method #2: Get the MLFlow model using pyfunc flavor\n",
    "# model = mlflow.pyfunc.load_model(\"./artifact_downloads/outputs/mlflow-model\")"
   ]
  },
  {
   "cell_type": "code",
   "execution_count": 12,
   "metadata": {},
   "outputs": [
    {
     "data": {
      "text/plain": [
       "array(['no', 'no', 'no', 'no', 'no', 'no', 'no', 'no', 'no', 'no', 'no',\n",
       "       'no', 'no', 'no', 'no', 'no', 'no', 'no', 'no', 'no', 'no', 'no',\n",
       "       'no', 'yes', 'no', 'no', 'no', 'no', 'no', 'no', 'no', 'no', 'no',\n",
       "       'no', 'no', 'no', 'no', 'no', 'no', 'no', 'no', 'no', 'no', 'no',\n",
       "       'no', 'no', 'no', 'no', 'no', 'yes', 'no', 'no', 'yes', 'no',\n",
       "       'yes', 'no', 'no', 'no', 'no', 'no', 'yes', 'no', 'no', 'no', 'no',\n",
       "       'no', 'no', 'no', 'no', 'no', 'no', 'no', 'no', 'no', 'yes', 'no',\n",
       "       'no', 'no', 'no', 'no', 'no', 'no', 'no', 'no', 'yes', 'no', 'no',\n",
       "       'no', 'no', 'no', 'no', 'no', 'no', 'no', 'no', 'yes', 'no', 'no',\n",
       "       'no', 'no', 'no', 'no', 'no', 'no', 'no', 'no', 'no', 'no', 'no',\n",
       "       'no', 'no', 'no', 'yes', 'no', 'no', 'no', 'no', 'no', 'no', 'no',\n",
       "       'no', 'no', 'no', 'no', 'no', 'no', 'no', 'no', 'no', 'no', 'no',\n",
       "       'no', 'no', 'yes', 'no', 'no', 'no', 'no', 'no', 'yes', 'no', 'no',\n",
       "       'no', 'no', 'no', 'no', 'no', 'no', 'no', 'no', 'no', 'no', 'no',\n",
       "       'no', 'no', 'no', 'no', 'yes', 'no', 'no', 'no', 'no', 'no', 'no',\n",
       "       'no', 'no', 'no', 'no', 'yes', 'no', 'no', 'no', 'no', 'no', 'no',\n",
       "       'no', 'no', 'no', 'yes', 'no', 'no', 'no', 'no', 'no', 'no', 'no',\n",
       "       'yes', 'no', 'no', 'no', 'no', 'no', 'no', 'no', 'no', 'no', 'yes',\n",
       "       'no', 'no', 'no', 'no', 'no', 'no', 'no', 'no', 'no', 'no', 'no',\n",
       "       'yes', 'yes', 'no', 'no', 'no', 'no', 'no', 'no', 'no', 'no', 'no',\n",
       "       'no', 'no', 'no', 'no', 'no', 'no', 'no', 'no', 'no', 'no', 'no',\n",
       "       'yes', 'no', 'no', 'no', 'no', 'no', 'no', 'no', 'no', 'no', 'no',\n",
       "       'no', 'yes', 'no', 'no', 'no', 'no', 'no', 'yes', 'no', 'no', 'no',\n",
       "       'no', 'no', 'no', 'no', 'no', 'no', 'no', 'no', 'no', 'no', 'no',\n",
       "       'no', 'no', 'no', 'no', 'no', 'no', 'no', 'no', 'no', 'no', 'no',\n",
       "       'no', 'no', 'no', 'no', 'yes', 'no', 'no', 'no', 'no', 'no', 'no',\n",
       "       'no', 'no', 'yes', 'no', 'no', 'no', 'yes', 'no', 'yes', 'no',\n",
       "       'no', 'no', 'no', 'no', 'no', 'no', 'no', 'no', 'no', 'no', 'no',\n",
       "       'no', 'no', 'no', 'no', 'no', 'no', 'no', 'no', 'no', 'no', 'no',\n",
       "       'no', 'no', 'yes', 'no', 'no', 'no', 'no', 'no', 'no', 'no', 'no',\n",
       "       'no', 'no', 'no', 'no', 'no', 'no', 'no', 'no', 'no', 'no', 'no',\n",
       "       'no', 'no', 'no', 'no', 'no', 'no', 'no', 'no', 'yes', 'no', 'no',\n",
       "       'no', 'no', 'no', 'no', 'no', 'no', 'no', 'no', 'no', 'no', 'no',\n",
       "       'no', 'no', 'no', 'no', 'yes', 'no', 'no', 'no', 'yes', 'no', 'no',\n",
       "       'no', 'no', 'no', 'no', 'no', 'yes', 'no', 'no', 'no', 'no', 'no',\n",
       "       'no', 'no', 'no', 'yes', 'yes', 'no', 'no', 'no', 'no', 'no', 'no',\n",
       "       'no', 'no', 'no', 'yes', 'no', 'no', 'no', 'no', 'no', 'no', 'no',\n",
       "       'no', 'no', 'no', 'no', 'no', 'no', 'no', 'no', 'yes', 'no', 'yes',\n",
       "       'no', 'no', 'yes', 'no', 'no', 'no', 'no', 'no', 'no', 'no', 'no',\n",
       "       'no', 'no', 'no', 'no', 'no', 'no', 'no', 'no', 'no', 'no', 'no',\n",
       "       'no', 'no', 'no', 'no', 'no', 'no', 'no', 'no', 'no', 'no', 'no',\n",
       "       'yes', 'no', 'no', 'no', 'no', 'no', 'no', 'no', 'no', 'no', 'no',\n",
       "       'no', 'no', 'no', 'no', 'no', 'no', 'no', 'no', 'no', 'no', 'no',\n",
       "       'no', 'no', 'no', 'yes', 'no', 'no', 'no', 'no', 'no', 'no', 'no',\n",
       "       'no', 'no', 'no', 'yes', 'no', 'no', 'yes', 'no', 'no', 'no', 'no',\n",
       "       'no', 'yes', 'no', 'yes', 'no', 'no', 'no', 'no', 'no', 'yes',\n",
       "       'no', 'no', 'no', 'no', 'no', 'no', 'no', 'no', 'no', 'no', 'no',\n",
       "       'no', 'no', 'no', 'no', 'no', 'no', 'no', 'no', 'yes', 'no', 'yes',\n",
       "       'no', 'no', 'no', 'no', 'no', 'no', 'no', 'no', 'no', 'yes', 'no',\n",
       "       'no', 'no', 'no', 'no', 'yes', 'no', 'no', 'no', 'no', 'yes', 'no',\n",
       "       'no', 'no', 'no', 'no', 'no', 'no', 'no', 'no', 'no', 'no', 'no',\n",
       "       'no', 'yes', 'no', 'no', 'no', 'no', 'no', 'no', 'no', 'no', 'no',\n",
       "       'no', 'no', 'no', 'no', 'no', 'no', 'no', 'no', 'no', 'no', 'no',\n",
       "       'no', 'no', 'no', 'no', 'no', 'no', 'no', 'no', 'no', 'no', 'no',\n",
       "       'no', 'no', 'no', 'no', 'no', 'no', 'no', 'no', 'no', 'no', 'no',\n",
       "       'no', 'no', 'no', 'no', 'no', 'no', 'yes', 'no', 'yes', 'no', 'no',\n",
       "       'no', 'no', 'no', 'no', 'no', 'no', 'no', 'no', 'no', 'no', 'no',\n",
       "       'no', 'no', 'no', 'yes', 'no', 'no', 'no', 'no', 'no', 'yes', 'no',\n",
       "       'no', 'yes', 'no', 'no', 'no', 'no', 'no', 'no', 'no', 'no', 'no',\n",
       "       'yes', 'no', 'no', 'no', 'no', 'no', 'no', 'yes', 'no', 'no', 'no',\n",
       "       'no', 'no', 'no', 'no', 'no', 'no', 'no', 'no', 'no', 'no', 'no',\n",
       "       'no', 'no', 'no', 'no', 'no', 'no', 'no', 'no', 'no', 'no', 'no',\n",
       "       'no', 'no', 'no', 'no', 'no', 'no', 'no', 'no', 'no', 'yes', 'no',\n",
       "       'no', 'no', 'no', 'no', 'no', 'no', 'no', 'no', 'no', 'no', 'yes',\n",
       "       'no', 'no', 'no', 'no', 'no', 'no', 'no', 'no', 'no', 'no', 'no',\n",
       "       'yes', 'no', 'no', 'no', 'no', 'no', 'no', 'no', 'no', 'no', 'no',\n",
       "       'yes', 'no', 'no', 'no', 'no', 'no', 'no', 'no', 'no', 'no', 'no',\n",
       "       'no', 'no', 'no', 'yes', 'no', 'no', 'no', 'no', 'no', 'no', 'no',\n",
       "       'no', 'no', 'no', 'no', 'no', 'no', 'no', 'no', 'no', 'no', 'no',\n",
       "       'no', 'no', 'no', 'no', 'no', 'no', 'no', 'no', 'no', 'no', 'no',\n",
       "       'no', 'no', 'no', 'no', 'no', 'no', 'no', 'no', 'yes', 'no', 'no',\n",
       "       'no', 'no', 'no', 'no', 'no', 'yes', 'no', 'no', 'no', 'no', 'no',\n",
       "       'no', 'no', 'no', 'no', 'no', 'no', 'no', 'no', 'no', 'no', 'no',\n",
       "       'no', 'no', 'no', 'no', 'no', 'no', 'no', 'no', 'no', 'no', 'no',\n",
       "       'no', 'yes', 'no', 'no', 'no', 'no', 'no', 'no', 'no', 'no', 'yes',\n",
       "       'no', 'no', 'no', 'no', 'no', 'no', 'no', 'no', 'no', 'no', 'no',\n",
       "       'no', 'no', 'no', 'no', 'no', 'no', 'no', 'no', 'no', 'no', 'no',\n",
       "       'no', 'no', 'no', 'no', 'no', 'yes', 'yes', 'no', 'no', 'no', 'no',\n",
       "       'no', 'yes', 'no', 'yes', 'no', 'no', 'no', 'yes', 'no', 'no',\n",
       "       'no', 'yes', 'no', 'no', 'no', 'no', 'no', 'no', 'no', 'no', 'no',\n",
       "       'no', 'no', 'no', 'no', 'no', 'no', 'no', 'no', 'no', 'no', 'no',\n",
       "       'no', 'yes', 'no', 'no', 'no', 'no', 'no', 'no', 'no', 'no', 'no',\n",
       "       'no', 'no', 'no', 'yes', 'no', 'no', 'yes', 'yes', 'no', 'no',\n",
       "       'no', 'no', 'no', 'no', 'no', 'no', 'no', 'no', 'no', 'no', 'no',\n",
       "       'no', 'no', 'no', 'no', 'no', 'no', 'no', 'no', 'no', 'no', 'no',\n",
       "       'yes', 'no', 'yes', 'no', 'no', 'no', 'no', 'no', 'no', 'no', 'no',\n",
       "       'no', 'no', 'no', 'no', 'no', 'no', 'no', 'no', 'no', 'no', 'no'],\n",
       "      dtype=object)"
      ]
     },
     "execution_count": 12,
     "metadata": {},
     "output_type": "execute_result"
    }
   ],
   "source": [
    "# Make the predictions\n",
    "\n",
    "y_preds = model.predict(test_df)\n",
    "y_preds"
   ]
  },
  {
   "cell_type": "markdown",
   "metadata": {},
   "source": [
    "# Next Steps\n",
    "You can see further examples of other AutoML tasks such as Image-Classification, Image-Object-Detection, NLP-Text-Classification, Time-Series-Forcasting, etc."
   ]
  },
  {
   "cell_type": "markdown",
   "metadata": {},
   "source": []
  }
 ],
 "metadata": {
  "kernel_info": {
   "name": "python3-azureml"
  },
  "kernelspec": {
   "display_name": "Python 3.10 - SDK V2",
   "language": "python",
   "name": "python310-sdkv2"
  },
  "language_info": {
   "codemirror_mode": {
    "name": "ipython",
    "version": 3
   },
   "file_extension": ".py",
   "mimetype": "text/x-python",
   "name": "python",
   "nbconvert_exporter": "python",
   "pygments_lexer": "ipython3",
   "version": "3.7.9"
  },
  "microsoft": {
   "host": {
    "AzureML": {
     "notebookHasBeenCompleted": true
    }
   }
  },
  "nteract": {
   "version": "nteract-front-end@1.0.0"
  }
 },
 "nbformat": 4,
 "nbformat_minor": 4
}
