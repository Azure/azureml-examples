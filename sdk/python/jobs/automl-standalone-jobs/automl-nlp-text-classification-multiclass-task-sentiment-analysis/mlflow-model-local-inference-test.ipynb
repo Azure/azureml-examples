{
 "cells": [
  {
   "cell_type": "markdown",
   "metadata": {},
   "source": [
    "# Load the MLFlow model locally and try predictions\n",
    "\n",
    "## Prerequisites\n",
    "\n",
    "1. You need to have run successfully the training notebook related to this model, available in this same folder, where at the end of the notebook, after training the model, it downloads the 'artifacts' with the MLFlow model folder (\"./artifact_downloads/outputs/mlflow-model\").\n",
    "\n",
    "2. Create a conda environment with the 'conda.yaml' file provided within the \"mlflow-model\" folder, doing like the following:\n",
    "\n",
    "   1. (base) /> conda env create --file conda.yaml --name automl-model-text-classification-env\n",
    "   \n",
    "   1. (base) /> conda activate automl-model-text-classification-env\n",
    "   \n",
    "   1. (automl-model-text-classification-env) /> conda install jupyter nb_conda\n",
    "\n",
    "3. Run Jupyter and make sure you are using the related 'automl-model-text-classification-env' Kernel.\n",
    "\n",
    "4. Run this notebook."
   ]
  },
  {
   "cell_type": "markdown",
   "metadata": {},
   "source": [
    "If the MLFlow model files were downloaded successfully by the training notebook, you should see the files here."
   ]
  },
  {
   "cell_type": "code",
   "execution_count": null,
   "metadata": {},
   "outputs": [],
   "source": [
    "import os\n",
    "\n",
    "# Show the contents of the MLFlow model folder\n",
    "os.listdir(\"./artifact_downloads/outputs/mlflow-model\")\n",
    "\n",
    "# You should see a list of files such as the following:\n",
    "# ['conda.yaml', 'MLmodel', 'model.pkl', 'requirements.txt']"
   ]
  },
  {
   "cell_type": "markdown",
   "metadata": {},
   "source": [
    "### Load the test data into a Pandas DataFrame\n",
    "\n",
    "Load a test dataset (yelp_test_set.csv) into a Pandas DataFrame in order to try some predictions with it."
   ]
  },
  {
   "cell_type": "code",
   "execution_count": null,
   "metadata": {},
   "outputs": [],
   "source": [
    "import pandas as pd\n",
    "\n",
    "test_df = pd.read_csv(\"./test-mltable-folder/yelp_test_set.csv\")\n",
    "test_df = test_df.head(10)\n",
    "y_actual = test_df.pop(\"Sentiment\")\n",
    "test_df.shape, y_actual.shape"
   ]
  },
  {
   "cell_type": "markdown",
   "metadata": {},
   "source": [
    "## Load the best model in memory\n",
    "\n",
    "Load the model using MLflow flavor. Check MLmodel under the downloaded folder (artifact_downloads/outputs/mlflow-model).\n",
    "For this particular example (and for AutoML tabular scenario except for forecast tcn which has PyTorch flavor), MLmodel file will describe two flavors, sklearn and python_function.\n",
    "We show how to load model using sklearn and pyfunc flavor.\n",
    "For more information on MLflow flavors, visit: https://www.mlflow.org/docs/latest/models.html#storage-format\n",
    "\n",
    "Note: Loading the models locally assume that you are running the notebook in an environment compatible with the model. The list of dependencies that is expected by the model is specified in the MLFlow model produced by AutoML (in the 'conda.yaml' file within the mlflow-model folder)."
   ]
  },
  {
   "cell_type": "code",
   "execution_count": null,
   "metadata": {},
   "outputs": [],
   "source": [
    "import mlflow.pyfunc"
   ]
  },
  {
   "cell_type": "code",
   "execution_count": null,
   "metadata": {},
   "outputs": [],
   "source": [
    "model = mlflow.pyfunc.load_model(\"./artifact_downloads/outputs/mlflow-model\")"
   ]
  },
  {
   "cell_type": "code",
   "execution_count": null,
   "metadata": {},
   "outputs": [],
   "source": [
    "# Make the predictions\n",
    "y_preds = model.predict(test_df)\n",
    "y_preds"
   ]
  },
  {
   "cell_type": "code",
   "execution_count": null,
   "metadata": {},
   "outputs": [],
   "source": [
    "y_actual"
   ]
  },
  {
   "cell_type": "markdown",
   "metadata": {},
   "source": [
    "# Next Steps\n",
    "You can see further examples of other AutoML tasks such as Image-Classification, Image-Object-Detection, NLP-Text-Classification-Multilabel, Time-Series-Forcasting, etc."
   ]
  },
  {
   "cell_type": "markdown",
   "metadata": {},
   "source": []
  }
 ],
 "metadata": {
  "kernel_info": {
   "name": "python3-azureml"
  },
  "kernelspec": {
   "display_name": "Python 3.10 - SDK V2",
   "language": "python",
   "name": "python310-sdkv2"
  },
  "language_info": {
   "codemirror_mode": {
    "name": "ipython",
    "version": 3
   },
   "file_extension": ".py",
   "mimetype": "text/x-python",
   "name": "python",
   "nbconvert_exporter": "python",
   "pygments_lexer": "ipython3",
   "version": "3.8.5"
  },
  "microsoft": {
   "host": {
    "AzureML": {
     "notebookHasBeenCompleted": true
    }
   }
  },
  "nteract": {
   "version": "nteract-front-end@1.0.0"
  }
 },
 "nbformat": 4,
 "nbformat_minor": 4
}
