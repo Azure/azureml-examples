{
 "cells": [
  {
   "attachments": {},
   "cell_type": "markdown",
   "metadata": {},
   "source": [
    "Workflow:\n",
    "1. load in the odFridgeObjects coco json file from object detection\n",
    "2. load in the jsonl file generated in the notebook from voc\n",
    "3. loop through the entries in the jsonl file\n",
    "    for each label in the jsonl entry\n",
    "        populate the corresponding entry in the coco json file with the segmentation unnormalized\n",
    "        "
   ]
  },
  {
   "cell_type": "code",
   "execution_count": null,
   "metadata": {},
   "outputs": [],
   "source": [
    "import json\n",
    "import os\n",
    "\n",
    "with open('../automl-image-object-detection-task-fridge-items/odFridgeObjects_coco.json') as coco_f:\n",
    "    coco_data = json.load(coco_f)\n",
    "\n",
    "with open('data/odFridgeObjectsMask/annotations_voc.jsonl') as voc_jsonl:\n",
    "    jsonl = list(voc_jsonl)"
   ]
  },
  {
   "attachments": {},
   "cell_type": "markdown",
   "metadata": {},
   "source": [
    "## Generate COCO annotations with polygon format"
   ]
  },
  {
   "cell_type": "code",
   "execution_count": null,
   "metadata": {},
   "outputs": [],
   "source": [
    "for line in jsonl:\n",
    "    entry = json.loads(line)\n",
    "    img_path = entry['image_url']\n",
    "    img_name = os.path.basename(img_path).split('/')[-1]\n",
    "    img_id = os.path.splitext(img_name)[0]\n",
    "    img_annotations = [x for x in coco_data['annotations'] if x['image_id'] == img_id]\n",
    "    width = entry['image_details']['width']\n",
    "    height = entry['image_details']['height']\n",
    "    for idx, label in enumerate(entry['label']):\n",
    "        polygons = label['polygon']\n",
    "        segmentations = []\n",
    "        for polygon in polygons:\n",
    "            segmentation = []\n",
    "            for id, vertex in enumerate(polygon):\n",
    "                if (id % 2) == 0:\n",
    "                    # x-coordinates (even index)\n",
    "                    x = vertex * width\n",
    "                    segmentation.append(round(x))\n",
    "        \n",
    "                else:\n",
    "                    y = vertex * height\n",
    "                    segmentation.append(round(y))\n",
    "            segmentations.append(segmentation)\n",
    "        img_annotations[idx]['segmentation'] = segmentations\n",
    "\n",
    "outjson = 'odFridgeObjectsMask_coco.json'\n",
    "with open(outjson, 'w') as outf:\n",
    "    json.dump(coco_data, outf, indent=2)"
   ]
  },
  {
   "attachments": {},
   "cell_type": "markdown",
   "metadata": {},
   "source": [
    "## Generate jsonl file from coco file"
   ]
  },
  {
   "cell_type": "code",
   "execution_count": null,
   "metadata": {},
   "outputs": [],
   "source": [
    "import sys\n",
    "sys.path.insert(0,'../jsonl-conversion/')\n",
    "from base_jsonl_converter import write_json_lines\n",
    "from coco_jsonl_converter import COCOJSONLConverter\n",
    "\n",
    "base_url = \"azureml://subscriptions/dbd697c3-ef40-488f-83e6-5ad4dfb78f9b/resourcegroups/rbhimani-rg/workspaces/rbhimani-ws/datastores/workspaceblobstore/paths/LocalUpload/76d43b50578527fca50855cdecb11e3d/odFridgeObjectsMask/images/\"\n",
    "converter = COCOJSONLConverter(base_url, outjson)\n",
    "jsonl_annotations = os.path.join(\"annotations_coco.jsonl\")\n",
    "write_json_lines(converter, jsonl_annotations)"
   ]
  },
  {
   "attachments": {},
   "cell_type": "markdown",
   "metadata": {},
   "source": [
    "## Generate coco annotations with RLE Format"
   ]
  },
  {
   "cell_type": "code",
   "execution_count": null,
   "metadata": {},
   "outputs": [],
   "source": [
    "from azureml.automl.dnn.vision.object_detection.common import masktools\n",
    "import torch\n",
    "\n",
    "for line in jsonl:\n",
    "    entry = json.loads(line)\n",
    "    img_path = entry['image_url']\n",
    "    img_name = os.path.basename(img_path).split('/')[-1]\n",
    "    img_id = os.path.splitext(img_name)[0]\n",
    "    img_annotations = [x for x in coco_data['annotations'] if x['image_id'] == img_id]\n",
    "    width = entry['image_details']['width']\n",
    "    height = entry['image_details']['height']\n",
    "    for idx, label in enumerate(entry['label']):\n",
    "        polygons = label['polygon']\n",
    "        segmentations = []\n",
    "        for polygon in polygons:\n",
    "            segmentation = []\n",
    "            for id, vertex in enumerate(polygon):\n",
    "                if (id % 2) == 0:\n",
    "                    # x-coordinates (even index)\n",
    "                    x = vertex * width\n",
    "                    segmentation.append(round(x))\n",
    "        \n",
    "                else:\n",
    "                    y = vertex * height\n",
    "                    segmentation.append(round(y))\n",
    "            segmentations.append(segmentation)\n",
    "        rle_masks = masktools.convert_polygon_to_rle_masks(segmentations, height, width)\n",
    "        binary_mask = masktools.decode_rle_masks_as_binary_mask(rle_masks)\n",
    "        rle_mask = masktools.encode_mask_as_rle(torch.from_numpy(binary_mask))\n",
    "        img_annotations[idx]['segmentation'] = rle_mask\n",
    "\n",
    "outjson = 'odFridgeObjectsMask_coco_rle.json'\n",
    "with open(outjson, 'w') as outf:\n",
    "    json.dump(coco_data, outf, indent=2)"
   ]
  },
  {
   "attachments": {},
   "cell_type": "markdown",
   "metadata": {},
   "source": [
    "## Generate jsonl file from coco rle file"
   ]
  },
  {
   "cell_type": "code",
   "execution_count": null,
   "metadata": {},
   "outputs": [],
   "source": [
    "import sys\n",
    "sys.path.insert(0,'../jsonl-conversion/')\n",
    "from base_jsonl_converter import write_json_lines\n",
    "from coco_jsonl_converter import COCOJSONLConverter\n",
    "\n",
    "base_url = \"azureml://subscriptions/dbd697c3-ef40-488f-83e6-5ad4dfb78f9b/resourcegroups/rbhimani-rg/workspaces/rbhimani-ws/datastores/workspaceblobstore/paths/LocalUpload/76d43b50578527fca50855cdecb11e3d/odFridgeObjectsMask/images/\"\n",
    "converter = COCOJSONLConverter(base_url, outjson, compressed_rle = True)\n",
    "jsonl_annotations = os.path.join(\"annotations_coco_rle.jsonl\")\n",
    "write_json_lines(converter, jsonl_annotations)"
   ]
  }
 ],
 "metadata": {
  "kernelspec": {
   "display_name": "rc_133",
   "language": "python",
   "name": "python3"
  },
  "language_info": {
   "codemirror_mode": {
    "name": "ipython",
    "version": 3
   },
   "file_extension": ".py",
   "mimetype": "text/x-python",
   "name": "python",
   "nbconvert_exporter": "python",
   "pygments_lexer": "ipython3",
   "version": "3.7.10"
  },
  "orig_nbformat": 4
 },
 "nbformat": 4,
 "nbformat_minor": 2
}
