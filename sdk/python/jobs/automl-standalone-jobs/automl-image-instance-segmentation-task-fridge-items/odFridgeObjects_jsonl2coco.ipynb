{
 "cells": [
  {
   "attachments": {},
   "cell_type": "markdown",
   "metadata": {},
   "source": [
    "# This notebook demonstrates how the coco segmentation was generated for the odFridgeObjects dataset"
   ]
  },
  {
   "attachments": {},
   "cell_type": "markdown",
   "metadata": {},
   "source": [
    "Load in the object detection annotations and the jsonl generated from the instance segmentation notebook."
   ]
  },
  {
   "cell_type": "code",
   "execution_count": null,
   "metadata": {},
   "outputs": [],
   "source": [
    "import json\n",
    "import os\n",
    "\n",
    "with open(\n",
    "    \"../automl-image-object-detection-task-fridge-items/odFridgeObjects_coco.json\"\n",
    ") as coco_f:\n",
    "    coco_data = json.load(coco_f)\n",
    "\n",
    "with open(\"data/odFridgeObjectsMask/annotations_voc.jsonl\") as voc_jsonl:\n",
    "    jsonl = list(voc_jsonl)"
   ]
  },
  {
   "attachments": {},
   "cell_type": "markdown",
   "metadata": {},
   "source": [
    "## Generate COCO annotations with polygon format"
   ]
  },
  {
   "cell_type": "code",
   "execution_count": null,
   "metadata": {},
   "outputs": [],
   "source": [
    "for line in jsonl:\n",
    "    entry = json.loads(line)\n",
    "    img_path = entry[\"image_url\"]\n",
    "    img_name = os.path.basename(img_path).split(\"/\")[-1]\n",
    "    img_id = os.path.splitext(img_name)[0]\n",
    "    img_annotations = [x for x in coco_data[\"annotations\"] if x[\"image_id\"] == img_id]\n",
    "    width = entry[\"image_details\"][\"width\"]\n",
    "    height = entry[\"image_details\"][\"height\"]\n",
    "    for idx, label in enumerate(entry[\"label\"]):\n",
    "        polygons = label[\"polygon\"]\n",
    "        segmentations = []\n",
    "        for polygon in polygons:\n",
    "            segmentation = []\n",
    "            for id, vertex in enumerate(polygon):\n",
    "                if (id % 2) == 0:\n",
    "                    # x-coordinates (even index)\n",
    "                    x = vertex * width\n",
    "                    segmentation.append(round(x))\n",
    "\n",
    "                else:\n",
    "                    y = vertex * height\n",
    "                    segmentation.append(round(y))\n",
    "            segmentations.append(segmentation)\n",
    "        img_annotations[idx][\"segmentation\"] = segmentations\n",
    "\n",
    "outjson = \"odFridgeObjectsMask_coco.json\"\n",
    "with open(outjson, \"w\") as outf:\n",
    "    json.dump(coco_data, outf, indent=2)"
   ]
  },
  {
   "attachments": {},
   "cell_type": "markdown",
   "metadata": {},
   "source": [
    "## Generate coco annotations with RLE Format"
   ]
  },
  {
   "cell_type": "code",
   "execution_count": null,
   "metadata": {},
   "outputs": [],
   "source": [
    "from azureml.automl.dnn.vision.object_detection.common import masktools\n",
    "import torch\n",
    "\n",
    "for line in jsonl:\n",
    "    entry = json.loads(line)\n",
    "    img_path = entry[\"image_url\"]\n",
    "    img_name = os.path.basename(img_path).split(\"/\")[-1]\n",
    "    img_id = os.path.splitext(img_name)[0]\n",
    "    img_annotations = [x for x in coco_data[\"annotations\"] if x[\"image_id\"] == img_id]\n",
    "    width = entry[\"image_details\"][\"width\"]\n",
    "    height = entry[\"image_details\"][\"height\"]\n",
    "    for idx, label in enumerate(entry[\"label\"]):\n",
    "        polygons = label[\"polygon\"]\n",
    "        segmentations = []\n",
    "        for polygon in polygons:\n",
    "            segmentation = []\n",
    "            for id, vertex in enumerate(polygon):\n",
    "                if (id % 2) == 0:\n",
    "                    # x-coordinates (even index)\n",
    "                    x = vertex * width\n",
    "                    segmentation.append(round(x))\n",
    "\n",
    "                else:\n",
    "                    y = vertex * height\n",
    "                    segmentation.append(round(y))\n",
    "            segmentations.append(segmentation)\n",
    "        rle_masks = masktools.convert_polygon_to_rle_masks(segmentations, height, width)\n",
    "        binary_mask = masktools.decode_rle_masks_as_binary_mask(rle_masks)\n",
    "        rle_mask = masktools.encode_mask_as_rle(torch.from_numpy(binary_mask))\n",
    "        img_annotations[idx][\"segmentation\"] = rle_mask\n",
    "\n",
    "outjson = \"odFridgeObjectsMask_coco_rle.json\"\n",
    "with open(outjson, \"w\") as outf:\n",
    "    json.dump(coco_data, outf, indent=2)"
   ]
  }
 ],
 "metadata": {
  "kernelspec": {
   "display_name": "Python 3.10 - SDK V2",
   "language": "python",
   "name": "python310-sdkv2"
  },
  "language_info": {
   "codemirror_mode": {
    "name": "ipython",
    "version": 3
   },
   "file_extension": ".py",
   "mimetype": "text/x-python",
   "name": "python",
   "nbconvert_exporter": "python",
   "pygments_lexer": "ipython3",
   "version": "3.7.10"
  },
  "orig_nbformat": 4
 },
 "nbformat": 4,
 "nbformat_minor": 2
}
