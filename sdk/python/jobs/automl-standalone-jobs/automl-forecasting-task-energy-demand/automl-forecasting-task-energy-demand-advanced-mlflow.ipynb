{
 "cells": [
  {
   "cell_type": "markdown",
   "source": [
    "# AutoML: Train \"the best\" Time-Series Forecasting model for the Energy Demand Dataset\n",
    "\n",
    "**Requirements** - In order to benefit from this tutorial, you will need:\n",
    "- A basic understanding of Machine Learning\n",
    "- An Azure account with an active subscription. [Create an account for free](https://azure.microsoft.com/free/?WT.mc_id=A261C142F)\n",
    "- An Azure ML workspace. [Check this notebook for creating a workspace](../../../resources/workspace/workspace.ipynb) \n",
    "- A Compute Cluster. [Check this notebook to create a compute cluster](../../../resources/compute/compute.ipynb)\n",
    "- A python environment\n",
    "- Installed Azure Machine Learning Python SDK v2 - [install instructions](../../../README.md) - check the getting started section\n",
    "\n",
    "**Learning Objectives** - By the end of this tutorial, you should be able to:\n",
    "- Connect to your AML workspace from the Python SDK\n",
    "- Create an `AutoML time-series forecasting Job` with the 'forecasting()' factory-fuction\n",
    "- Train the model using AmlCompute by submitting/running the AutoML forecasting training job\n",
    "- Obtain the model and use it to generate forecast\n",
    "\n",
    "**Motivations** - This notebook explains how to setup and run an AutoML forecasting job. This is one of the nine ML-tasks supported by AutoML. Other ML-tasks are 'regression', 'classification', 'image classification', 'image object detection', 'nlp text classification', etc.\n",
    "\n",
    "In this example we use the associated New York City energy demand dataset to showcase how you can use AutoML for a simple forecasting problem and explore the results. The goal is to predict the energy demand for the next 48 hours based on historic time-series data."
   ],
   "metadata": {}
  },
  {
   "cell_type": "markdown",
   "source": [
    "# 1. Connect to Azure Machine Learning Workspace\n",
    "\n",
    "The [workspace](https://docs.microsoft.com/en-us/azure/machine-learning/concept-workspace) is the top-level resource for Azure Machine Learning, providing a centralized place to work with all the artifacts you create when you use Azure Machine Learning. In this section we will connect to the workspace in which the job will be run.\n",
    "\n",
    "## 1.1. Import the required libraries"
   ],
   "metadata": {}
  },
  {
   "cell_type": "code",
   "source": [
    "# Import required libraries\n",
    "from azure.identity import DefaultAzureCredential\n",
    "from azure.ai.ml import MLClient\n",
    "\n",
    "from azure.ai.ml.constants import AssetTypes, InputOutputModes\n",
    "from azure.ai.ml import automl\n",
    "from azure.ai.ml import Input"
   ],
   "outputs": [],
   "execution_count": 28,
   "metadata": {
    "gather": {
     "logged": 1678800155504
    }
   }
  },
  {
   "cell_type": "markdown",
   "source": [
    "## 1.2. Configure workspace details and get a handle to the workspace\n",
    "\n",
    "To connect to a workspace, we need identifier parameters - a subscription, resource group and workspace name. We will use these details in the `MLClient` from `azure.ai.ml` to get a handle to the required Azure Machine Learning workspace. We use the default [default azure authentication](https://docs.microsoft.com/en-us/python/api/azure-identity/azure.identity.defaultazurecredential?view=azure-python) for this tutorial. Check the [configuration notebook](../../configuration.ipynb) for more details on how to configure credentials and connect to a workspace."
   ],
   "metadata": {}
  },
  {
   "cell_type": "code",
   "source": [
    "'''\n",
    "credential = DefaultAzureCredential()\n",
    "ml_client = None\n",
    "try:\n",
    "    ml_client = MLClient.from_config(credential)\n",
    "except Exception as ex:\n",
    "    print(ex)\n",
    "    # Enter details of your AML workspace\n",
    "    subscription_id = \"<SUBSCRIPTION_ID>\"\n",
    "    resource_group = \"<RESOURCE_GROUP>\"\n",
    "    workspace = \"<AML_WORKSPACE_NAME>\"\n",
    "\n",
    "    ml_client = MLClient(credential, subscription_id, resource_group, workspace)\n",
    "'''\n",
    "subscription_id = \"381b38e9-9840-4719-a5a0-61d9585e1e91\"\n",
    "resource_group = \"nivmishra-eastus-rg\"\n",
    "workspace_name = \"nivmishra_workspace1\"\n",
    "credential = DefaultAzureCredential()\n",
    "ml_client = MLClient(credential, subscription_id, resource_group, workspace_name)"
   ],
   "outputs": [],
   "execution_count": 29,
   "metadata": {
    "gather": {
     "logged": 1678800159169
    },
    "jupyter": {
     "outputs_hidden": false,
     "source_hidden": false
    },
    "nteract": {
     "transient": {
      "deleting": false
     }
    }
   }
  },
  {
   "cell_type": "markdown",
   "source": [
    "### Show Azure ML Workspace information"
   ],
   "metadata": {}
  },
  {
   "cell_type": "code",
   "source": [
    "import pandas as pd\n",
    "\n",
    "workspace = ml_client.workspaces.get(name=ml_client.workspace_name)\n",
    "\n",
    "output = {}\n",
    "output[\"Workspace\"] = ml_client.workspace_name\n",
    "output[\"Subscription ID\"] = ml_client.connections._subscription_id\n",
    "output[\"Resource Group\"] = workspace.resource_group\n",
    "output[\"Location\"] = workspace.location\n",
    "pd.set_option(\"display.max_colwidth\", None)\n",
    "outputDf = pd.DataFrame(data=output, index=[\"\"])\n",
    "outputDf.T"
   ],
   "outputs": [
    {
     "output_type": "execute_result",
     "execution_count": 30,
     "data": {
      "text/plain": "                                                     \nWorkspace                        nivmishra_workspace1\nSubscription ID  381b38e9-9840-4719-a5a0-61d9585e1e91\nResource Group                    nivmishra-eastus-rg\nLocation                                      eastus2",
      "text/html": "<div>\n<style scoped>\n    .dataframe tbody tr th:only-of-type {\n        vertical-align: middle;\n    }\n\n    .dataframe tbody tr th {\n        vertical-align: top;\n    }\n\n    .dataframe thead th {\n        text-align: right;\n    }\n</style>\n<table border=\"1\" class=\"dataframe\">\n  <thead>\n    <tr style=\"text-align: right;\">\n      <th></th>\n      <th></th>\n    </tr>\n  </thead>\n  <tbody>\n    <tr>\n      <th>Workspace</th>\n      <td>nivmishra_workspace1</td>\n    </tr>\n    <tr>\n      <th>Subscription ID</th>\n      <td>381b38e9-9840-4719-a5a0-61d9585e1e91</td>\n    </tr>\n    <tr>\n      <th>Resource Group</th>\n      <td>nivmishra-eastus-rg</td>\n    </tr>\n    <tr>\n      <th>Location</th>\n      <td>eastus2</td>\n    </tr>\n  </tbody>\n</table>\n</div>"
     },
     "metadata": {}
    }
   ],
   "execution_count": 30,
   "metadata": {
    "gather": {
     "logged": 1678800167261
    }
   }
  },
  {
   "cell_type": "markdown",
   "source": [
    "# 2. Data\n",
    "\n",
    "We will use energy consumption data from New York City [link](http://mis.nyiso.com/public/P-58Blist.htm) for model training. The data is stored in a tabular format and includes energy demand and weather data at an hourly frequency. \n",
    "\n",
    "With Azure Machine Learning MLTables you can keep a single copy of data in your storage, easily access data during model training, share data and collaborate with other users. \n",
    "Next, we will upload the data by creating an MLTable to be used for training.\n",
    "\n",
    "**NOTE:** In this PRIVATE PREVIEW we're defining the MLTable in a separate folder and .YAML file.\n",
    "In later versions, you'll be able to do it all in Python APIs."
   ],
   "metadata": {}
  },
  {
   "cell_type": "code",
   "source": [
    "# Training MLTable defined locally, with local data to be uploaded\n",
    "my_training_data_input = Input(\n",
    "    type=AssetTypes.MLTABLE, path=\"./data/training-mltable-folder\"\n",
    ")"
   ],
   "outputs": [],
   "execution_count": null,
   "metadata": {}
  },
  {
   "cell_type": "markdown",
   "source": [
    "Next, we upload the directory with the test set data which will be used in the batch end point inference."
   ],
   "metadata": {}
  },
  {
   "cell_type": "code",
   "source": [
    "import os\n",
    "import shutil\n",
    "\n",
    "os.makedirs(\"test_dataset\", exist_ok=True)\n",
    "shutil.copy(\n",
    "    \"data/test-mltable-folder/nyc_energy_test_clean.csv\",\n",
    "    \"test_dataset/nyc_energy_test_clean.csv\",\n",
    ")\n",
    "\n",
    "my_test_data_input = Input(\n",
    "    type=AssetTypes.URI_FOLDER,\n",
    "    path=\"test_dataset/\",\n",
    ")"
   ],
   "outputs": [],
   "execution_count": 83,
   "metadata": {
    "gather": {
     "logged": 1678809098088
    }
   }
  },
  {
   "cell_type": "code",
   "source": [
    "my_training_data_input.__dict__"
   ],
   "outputs": [
    {
     "output_type": "execute_result",
     "execution_count": 5,
     "data": {
      "text/plain": "{'type': 'mltable',\n 'name': None,\n 'description': None,\n 'path': 'azureml:nyc_energy_train:1',\n 'mode': 'direct',\n 'default': None,\n 'optional': None,\n '_is_inferred_optional': False,\n 'min': None,\n 'max': None,\n 'enum': None,\n 'datastore': None}"
     },
     "metadata": {}
    }
   ],
   "execution_count": 5,
   "metadata": {
    "gather": {
     "logged": 1678784292372
    }
   }
  },
  {
   "cell_type": "markdown",
   "source": [
    "To create data input from TabularDataset created using V1 sdk, specify the `type` as `AssetTypes.MLTABLE`, `mode` as `InputOutputModes.DIRECT` and `path` in the following format `azureml:<tabulardataset_name>:<version>`. "
   ],
   "metadata": {
    "nteract": {
     "transient": {
      "deleting": false
     }
    }
   }
  },
  {
   "cell_type": "code",
   "source": [
    "\t# Training MLTable with v1 TabularDataset\r\n",
    "\tmy_training_data_input = Input(\r\n",
    "        type=AssetTypes.MLTABLE, path=\"azureml:nyc_energy_train:1\", mode=InputOutputModes.DIRECT\r\n",
    "    )\r\n",
    "\t\r\n",
    "\t## Test MLTable with v1 TabularDataset\r\n",
    "\tmy_test_data_input = Input(\r\n",
    "        type=AssetTypes.MLTABLE, path=\"azureml:nyc_energy_test:1\", mode=InputOutputModes.DIRECT\r\n",
    "    )\r\n"
   ],
   "outputs": [],
   "execution_count": 31,
   "metadata": {
    "jupyter": {
     "source_hidden": false,
     "outputs_hidden": false
    },
    "nteract": {
     "transient": {
      "deleting": false
     }
    },
    "gather": {
     "logged": 1678800174454
    }
   }
  },
  {
   "cell_type": "code",
   "source": [
    "my_test_data_input = Input(\r\n",
    "        type=AssetTypes.URI_FOLDER, path=\"azureml:nyc_energy_test:1\", mode=InputOutputModes.DIRECT\r\n",
    ")"
   ],
   "outputs": [],
   "execution_count": 63,
   "metadata": {
    "jupyter": {
     "source_hidden": false,
     "outputs_hidden": false
    },
    "nteract": {
     "transient": {
      "deleting": false
     }
    },
    "gather": {
     "logged": 1678802452727
    }
   }
  },
  {
   "cell_type": "code",
   "source": [],
   "outputs": [],
   "execution_count": null,
   "metadata": {
    "jupyter": {
     "source_hidden": false,
     "outputs_hidden": false
    },
    "nteract": {
     "transient": {
      "deleting": false
     }
    }
   }
  },
  {
   "cell_type": "markdown",
   "source": [
    "# 3 Create or Attach existing AmlCompute.\n",
    "[Azure Machine Learning Compute](https://docs.microsoft.com/en-us/azure/machine-learning/service/how-to-set-up-training-targets#amlcompute) is a managed-compute infrastructure that allows the user to easily create a single or multi-node compute. In this tutorial, you will create and an AmlCompute cluster as your training compute resource.\n",
    "\n",
    "#### Creation of AmlCompute takes approximately 5 minutes. \n",
    "If the AmlCompute with that name is already in your workspace this code will skip the creation process.\n",
    "As with other Azure services, there are limits on certain resources (e.g. AmlCompute) associated with the Azure Machine Learning service. Please read [this article](https://docs.microsoft.com/en-us/azure/machine-learning/service/how-to-manage-quotas) on the default limits and how to request more quota."
   ],
   "metadata": {}
  },
  {
   "cell_type": "code",
   "source": [
    "from azure.core.exceptions import ResourceNotFoundError\n",
    "from azure.ai.ml.entities import AmlCompute\n",
    "\n",
    "cluster_name = \"energy-cluster-v2\"\n",
    "\n",
    "try:\n",
    "    # Retrieve an already attached Azure Machine Learning Compute.\n",
    "    compute = ml_client.compute.get(cluster_name)\n",
    "except ResourceNotFoundError as e:\n",
    "    compute = AmlCompute(\n",
    "        name=cluster_name,\n",
    "        size=\"STANDARD_DS12_V2\",\n",
    "        type=\"amlcompute\",\n",
    "        min_instances=0,\n",
    "        max_instances=4,\n",
    "        idle_time_before_scale_down=120,\n",
    "    )\n",
    "    poller = ml_client.begin_create_or_update(compute)\n",
    "    poller.wait()"
   ],
   "outputs": [],
   "execution_count": 32,
   "metadata": {
    "gather": {
     "logged": 1678800184143
    }
   }
  },
  {
   "cell_type": "markdown",
   "source": [
    "# 4. Configure and run the AutoML Forecasting training job\n",
    "In this section we will configure and run the AutoML job to train the model.\n",
    "\n",
    "## 4.1 Configure the job through the forecasting() factory function\n",
    "\n",
    "### forecasting() function parameters:\n",
    "\n",
    "The `forecasting()` factory function allows user to configure AutoML for the forecasting task for the most common scenarios with the following properties.\n",
    "\n",
    "|Property|Description|\n",
    "|-|-|\n",
    "|**target_column_name**|The name of the label column.|\n",
    "|**primary_metric**|This is the metric that you want to optimize.<br> Forecasting supports the following primary metrics <br><i>spearman_correlation</i><br><i>normalized_root_mean_squared_error</i><br><i>r2_score</i><br><i>normalized_mean_absolute_error</i>|\n",
    "|**training_data**|The training data to be used for this experiment. You can use a registered MLTable in the workspace using the format `<mltable_name>:<version>` OR you can use a local file or folder as a MLTable. For e.g `Input(mltable='my_mltable:1')` OR `Input(mltable=MLTable(local_path=\"./data\"))` The parameter 'training_data' must always be provided.|\n",
    "|**compute**|The compute on which the AutoML job will run. In this example we are using a compute called 'cpu-cluster' present in the workspace. You can replace it with any other compute in the workspace.|\n",
    "|**n_cross_validations**|Number of cross-validation folds to use for model/pipeline selection. The default value is \"auto\", in which case AutoMl determines the number of cross-validations automatically, if a validation set is not provided. Or, users could specify an integer value.|\n",
    "|**name**|The name of the Job/Run. This is an optional property. If not specified, a random name will be generated.\n",
    "|**experiment_name**|The name of the Experiment. An Experiment is like a folder with multiple runs in Azure ML Workspace that should be related to the same logical machine learning experiment. For example, if a user runs this notebook multiple times, there will be multiple runs associated with the same Experiment name.|\n",
    "|**enable_model_explainability**|If set to true, the explanations such as feature importance for the best model will be generated.|\n",
    "\n",
    "### set_limits() parameters:\n",
    "This is an optional configuration method to configure limits parameters such as timeouts.\n",
    "\n",
    "|Property|Description|\n",
    "|-|-|\n",
    "|**timeout_minutes**|Maximum amount of time in minutes that the whole AutoML job can take before the job terminates. This timeout includes setup, featurization and training runs but does not include the ensembling and model explainability runs at the end of the process since those actions need to happen once all the trials (children jobs) are done. If not specified, the default job's total timeout is 6 days (8,640 minutes). To specify a timeout less than or equal to 1 hour (60 minutes), make sure your dataset's size is not greater than 10,000,000 (rows times column) or an error results. It is hard to say what the timeout limit should be because the runtimes depend on multiple factors such as number of unique time series in the dataset, length of time series, statistical properties of the data, etc. If your dataset is less than 10,000,000 observations, you can try to set the experiment to 1 hour. If you are seeing less than 30 child jobs completed in this time frame, increase the timeout limit and re-run the experiment.|\n",
    "|**trial_timeout_minutes**|Maximum time in minutes that each trial (child job) can run for before it terminates. If not specified, a value of 1 month or 43200 minutes is used.|\n",
    "|**max_trials**|The maximum number of trials/runs each with a different combination of algorithm and hyperparameters to try during an AutoML job. If not specified, the default is 1000 trials. If you are setting the `enable_early_termination=True` the number of trials will be smaller.|\n",
    "|**max_concurrent_trials**|Represents the maximum number of trials (children jobs) that would be executed in parallel. It's a good practice to set this number equal to the number of nodes in your cluster.|\n",
    "|**enable_early_termination**|Whether to enable early termination if the score is not improving over 10 iterations. Early stopping window starts only after first 20 iterations. This means that the first iteration where stopping can occur is the 31st.|\n",
    "\n",
    "### Specialized Forecasting Parameters\n",
    "To define forecasting parameters for your experiment training, you can leverage the .set_forecast_settings() method. \n",
    "The table below details the forecasting parameters we will be passing into our experiment.\n",
    "\n",
    "|Property|Description|\n",
    "|-|-|\n",
    "|**time_column_name**|The name of your time column.|\n",
    "|**forecast_horizon**|The forecast horizon is how many periods forward you would like to forecast. This integer horizon is in units of the timeseries frequency (e.g. daily, weekly).|\n",
    "|**frequency**|Forecast frequency. This optional parameter represents the period with which the forecast is desired, for example, daily, weekly, yearly, etc. Use this parameter for the correction of time series containing irregular data points or for padding of short time series. The frequency needs to be a pandas offset alias. Please refer to [pandas documentation](https://pandas.pydata.org/pandas-docs/stable/user_guide/timeseries.html#dateoffset-objects) for more information.\n",
    "|**cv_step_size**|Number of periods between two consecutive cross-validation folds. The default value is \"auto\", in which case AutoML determines the cross-validation step size automatically, if a validation set is not provided. Or users could specify an integer value.|\n",
    "|**target_lags**|The target_lags specifies how far back we will construct the lags of the target variable.|\n",
    "|**target_rolling_window_size**|The target_rolling_window_size specifies the size of a rolling window for aggregated lookback features.|\n",
    "\n",
    "### Using lags and rolling window features\n",
    "This training is also using the **target lags** which are lagged values of the target variable. Since we generate lags with respect to horizon, we therefore must still specify the `forecast_horizon` that the model will learn to forecast. The `target_lags` keyword specifies how far back we will construct the lags of the target variable, and the `target_rolling_window_size` specifies the size of the rolling window over which we will generate the `max`, `min` and `sum` features.\n",
    "\n",
    "This notebook uses the .set_training(blocked_training_algorithms=...) parameter to exclude some models that take a longer time to train on this dataset.  You can choose to remove models from the blocked_training_algorithms list but you may need to increase the trial_timeout_minutes parameter value to get results."
   ],
   "metadata": {}
  },
  {
   "cell_type": "code",
   "source": [
    "# general job parameters\n",
    "timeout_minutes = 15\n",
    "trial_timeout_minutes = 5\n",
    "exp_name = \"dpv2-forecasting-experiment\"\n",
    "target_column_name = \"demand\"\n",
    "time_column_name = \"timeStamp\""
   ],
   "outputs": [],
   "execution_count": 33,
   "metadata": {
    "tags": [
     "parameters"
    ],
    "gather": {
     "logged": 1678800200311
    }
   }
  },
  {
   "cell_type": "markdown",
   "source": [
    "### Setting the maximum forecast horizon\n",
    "\n",
    "The forecast horizon is the number of periods into the future that the model should predict. It is generally recommended that users set forecast horizons to less than 100 time periods (i.e. less than 100 hours in the NYC energy example). Furthermore, **AutoML's memory use and computation time increase in proportion to the length of the horizon**, so consider carefully how this value is set. If a long horizon forecast really is necessary, consider aggregating the series to a coarser time scale. \n",
    "\n",
    "Learn more about forecast horizons in our [Auto-train a time-series forecast model](https://docs.microsoft.com/en-us/azure/machine-learning/service/how-to-auto-train-forecast#configure-and-run-experiment) guide.\n",
    "\n",
    "In this example, we set the horizon to 48 hours."
   ],
   "metadata": {}
  },
  {
   "cell_type": "code",
   "source": [
    "forecast_horizon = 48"
   ],
   "outputs": [],
   "execution_count": 34,
   "metadata": {
    "gather": {
     "logged": 1678800206219
    }
   }
  },
  {
   "cell_type": "code",
   "source": [
    "# Create the AutoML forecasting job with the related factory-function.\n",
    "\n",
    "forecasting_job = automl.forecasting(\n",
    "    compute=cluster_name,\n",
    "    experiment_name=exp_name,\n",
    "    training_data=my_training_data_input,\n",
    "    target_column_name=target_column_name,\n",
    "    primary_metric=\"NormalizedRootMeanSquaredError\",\n",
    "    n_cross_validations=3,\n",
    "    enable_model_explainability=True,\n",
    ")\n",
    "\n",
    "# Limits are all optional\n",
    "forecasting_job.set_limits(\n",
    "    timeout_minutes=timeout_minutes,\n",
    "    trial_timeout_minutes=trial_timeout_minutes,\n",
    "    enable_early_termination=True,\n",
    "    max_trials=1,\n",
    ")\n",
    "\n",
    "# Specialized properties for Time Series Forecasting training\n",
    "forecasting_job.set_forecast_settings(\n",
    "    time_column_name=time_column_name,\n",
    "    forecast_horizon=forecast_horizon,\n",
    "    frequency=\"H\",\n",
    "    target_lags=[12],\n",
    "    target_rolling_window_size=4,\n",
    ")\n",
    "\n",
    "# Training properties are optional\n",
    "#forecasting_job.set_training(blocked_training_algorithms=[\"ExtremeRandomTrees\"])\n",
    "forecasting_job.set_training(blocked_training_algorithms=[\"ExtremeRandomTrees\"], enable_stack_ensemble=False, enable_vote_ensemble=False)"
   ],
   "outputs": [],
   "execution_count": 42,
   "metadata": {
    "gather": {
     "logged": 1678801303164
    },
    "jupyter": {
     "outputs_hidden": false,
     "source_hidden": false
    },
    "name": "forecasting-configuration",
    "nteract": {
     "transient": {
      "deleting": false
     }
    }
   }
  },
  {
   "cell_type": "markdown",
   "source": [
    "## 4.2 Train the AutoML model\n",
    "Using the `MLClient` created earlier, we will execute the following commands to train the model."
   ],
   "metadata": {}
  },
  {
   "cell_type": "code",
   "source": [
    "# Submit the AutoML job\n",
    "returned_job = ml_client.jobs.create_or_update(\n",
    "    forecasting_job\n",
    ")  # submit the job to the backend\n",
    "\n",
    "print(f\"Created job: {returned_job}\")"
   ],
   "outputs": [
    {
     "output_type": "stream",
     "name": "stdout",
     "text": "Created job: ForecastingJob({'log_verbosity': <LogVerbosity.INFO: 'Info'>, 'target_column_name': 'demand', 'weight_column_name': None, 'validation_data_size': None, 'cv_split_column_names': None, 'n_cross_validations': 3, 'test_data_size': None, 'task_type': <TaskType.FORECASTING: 'Forecasting'>, 'training_data': {'type': 'mltable', 'path': '/subscriptions/381b38e9-9840-4719-a5a0-61d9585e1e91/resourceGroups/nivmishra-eastus-rg/providers/Microsoft.MachineLearningServices/workspaces/nivmishra_workspace1/data/nyc_energy_train/versions/1'}, 'validation_data': {'type': 'mltable'}, 'test_data': None, 'environment_id': None, 'environment_variables': None, 'outputs': {}, 'type': 'automl', 'status': 'NotStarted', 'log_files': None, 'name': 'yellow_nerve_by65v35hkq', 'description': None, 'tags': {}, 'properties': {}, 'id': '/subscriptions/381b38e9-9840-4719-a5a0-61d9585e1e91/resourceGroups/nivmishra-eastus-rg/providers/Microsoft.MachineLearningServices/workspaces/nivmishra_workspace1/jobs/yellow_nerve_by65v35hkq', 'Resource__source_path': None, 'base_path': '/mnt/batch/tasks/shared/LS_root/mounts/clusters/nivmishra3/code/Users/nivmishra/Forecasting_notebooks_update/V2-notebooks/automl-forecasting-task-energy-demand', 'creation_context': <azure.ai.ml._restclient.v2022_10_01_preview.models._models_py3.SystemData object at 0x7f94428bd7e0>, 'serialize': <msrest.serialization.Serializer object at 0x7f94428be5c0>, 'inputs': {}, 'display_name': 'yellow_nerve_by65v35hkq', 'experiment_name': 'dpv2-forecasting-experiment', 'compute': 'energy-cluster-v2', 'services': {'Tracking': <azure.ai.ml._restclient.v2022_10_01_preview.models._models_py3.JobService object at 0x7f94428bf2b0>, 'Studio': <azure.ai.ml._restclient.v2022_10_01_preview.models._models_py3.JobService object at 0x7f94428bffa0>}, 'resources': <azure.ai.ml._restclient.v2022_10_01_preview.models._models_py3.JobResourceConfiguration object at 0x7f94428be440>, 'identity': None, 'featurization': None, 'limits': <azure.ai.ml.entities._job.automl.tabular.limit_settings.TabularLimitSettings object at 0x7f94428cfdf0>, 'training': <azure.ai.ml.entities._job.automl.training_settings.ForecastingTrainingSettings object at 0x7f94428ccee0>, 'primary_metric': <ForecastingPrimaryMetrics.NORMALIZED_ROOT_MEAN_SQUARED_ERROR: 'NormalizedRootMeanSquaredError'>, 'forecasting_settings': <azure.ai.ml.entities._job.automl.tabular.forecasting_settings.ForecastingSettings object at 0x7f94428ce860>})\n"
    }
   ],
   "execution_count": 43,
   "metadata": {
    "gather": {
     "logged": 1678801311932
    },
    "jupyter": {
     "outputs_hidden": false,
     "source_hidden": false
    },
    "nteract": {
     "transient": {
      "deleting": false
     }
    }
   }
  },
  {
   "cell_type": "code",
   "source": [
    "# Wait until AutoML training runs are finished\n",
    "ml_client.jobs.stream(returned_job.name)"
   ],
   "outputs": [
    {
     "output_type": "stream",
     "name": "stdout",
     "text": "RunId: yellow_nerve_by65v35hkq\nWeb View: https://ml.azure.com/runs/yellow_nerve_by65v35hkq?wsid=/subscriptions/381b38e9-9840-4719-a5a0-61d9585e1e91/resourcegroups/nivmishra-eastus-rg/workspaces/nivmishra_workspace1\n\nExecution Summary\n=================\nRunId: yellow_nerve_by65v35hkq\nWeb View: https://ml.azure.com/runs/yellow_nerve_by65v35hkq?wsid=/subscriptions/381b38e9-9840-4719-a5a0-61d9585e1e91/resourcegroups/nivmishra-eastus-rg/workspaces/nivmishra_workspace1\n\n"
    }
   ],
   "execution_count": 44,
   "metadata": {
    "gather": {
     "logged": 1678801931120
    }
   }
  },
  {
   "cell_type": "markdown",
   "source": [
    "# 5. Retrieve the Best Trial (Best Model's trial/run)\n",
    "Use the MLFLowClient to access the results (such as Models, Artifacts, Metrics) of a previously completed AutoML Trial."
   ],
   "metadata": {}
  },
  {
   "cell_type": "markdown",
   "source": [
    "## 5.1 Initialize MLFlow Client\n",
    "The models and artifacts that are produced by AutoML can be accessed via the MLFlow interface. \n",
    "Initialize the MLFlow client here, and set the backend as Azure ML, via. the MLFlow Client.\n",
    "\n",
    "*IMPORTANT*, you need to have installed the latest MLFlow packages with:\n",
    "\n",
    "    pip install azureml-mlflow\n",
    "\n",
    "    pip install mlflow"
   ],
   "metadata": {}
  },
  {
   "cell_type": "markdown",
   "source": [
    "### Obtain the tracking URI for MLFlow"
   ],
   "metadata": {}
  },
  {
   "cell_type": "code",
   "source": [
    "import mlflow\n",
    "\n",
    "# Obtain the tracking URL from MLClient\n",
    "MLFLOW_TRACKING_URI = ml_client.workspaces.get(\n",
    "    name=ml_client.workspace_name\n",
    ").mlflow_tracking_uri\n",
    "\n",
    "print(MLFLOW_TRACKING_URI)"
   ],
   "outputs": [
    {
     "output_type": "stream",
     "name": "stdout",
     "text": "azureml://eastus2.api.azureml.ms/mlflow/v1.0/subscriptions/381b38e9-9840-4719-a5a0-61d9585e1e91/resourceGroups/nivmishra-eastus-rg/providers/Microsoft.MachineLearningServices/workspaces/nivmishra_workspace1\n"
    }
   ],
   "execution_count": 45,
   "metadata": {
    "gather": {
     "logged": 1678801947326
    }
   }
  },
  {
   "cell_type": "code",
   "source": [
    "# Set the MLFLOW TRACKING URI\n",
    "\n",
    "mlflow.set_tracking_uri(MLFLOW_TRACKING_URI)\n",
    "\n",
    "print(\"\\nCurrent tracking uri: {}\".format(mlflow.get_tracking_uri()))"
   ],
   "outputs": [
    {
     "output_type": "stream",
     "name": "stdout",
     "text": "\nCurrent tracking uri: azureml://eastus2.api.azureml.ms/mlflow/v1.0/subscriptions/381b38e9-9840-4719-a5a0-61d9585e1e91/resourceGroups/nivmishra-eastus-rg/providers/Microsoft.MachineLearningServices/workspaces/nivmishra_workspace1\n"
    }
   ],
   "execution_count": 46,
   "metadata": {
    "gather": {
     "logged": 1678801954830
    }
   }
  },
  {
   "cell_type": "code",
   "source": [
    "from mlflow.tracking.client import MlflowClient\n",
    "\n",
    "# Initialize MLFlow client\n",
    "mlflow_client = MlflowClient()"
   ],
   "outputs": [],
   "execution_count": 47,
   "metadata": {
    "gather": {
     "logged": 1678801965451
    }
   }
  },
  {
   "cell_type": "markdown",
   "source": [
    "### Get the AutoML parent Job"
   ],
   "metadata": {}
  },
  {
   "cell_type": "code",
   "source": [
    "job_name = returned_job.name\n",
    "\n",
    "# Example if providing an specific Job name/ID\n",
    "# job_name = \"591640e8-0f88-49c5-adaa-39b9b9d75531\"\n",
    "\n",
    "# Get the parent run\n",
    "mlflow_parent_run = mlflow_client.get_run(job_name)\n",
    "\n",
    "print(\"Parent Run: \")\n",
    "print(mlflow_parent_run)"
   ],
   "outputs": [
    {
     "output_type": "stream",
     "name": "stdout",
     "text": "Parent Run: \n<Run: data=<RunData: metrics={'explained_variance': 0.0,\n 'mean_absolute_error': 1194.373423611111,\n 'mean_absolute_percentage_error': 16.223045140655884,\n 'median_absolute_error': 1151.8166666666668,\n 'normalized_mean_absolute_error': 0.1389387910766264,\n 'normalized_median_absolute_error': 0.13398825865090816,\n 'normalized_root_mean_squared_error': 0.16797185597779538,\n 'normalized_root_mean_squared_log_error': 0.15439961769947455,\n 'r2_score': -0.7995655203764641,\n 'root_mean_squared_error': 1443.95326272752,\n 'root_mean_squared_log_error': 0.21424020092941376,\n 'spearman_correlation': -1.0}, params={}, tags={'_azureml.ComputeTargetType': 'STANDARD_DS12_V2',\n 'automl_best_child_run_id': 'yellow_nerve_by65v35hkq_0',\n 'fit_time': '<0.8752363333333334>;',\n 'iteration': '<0>;',\n 'mlflow.rootRunId': 'yellow_nerve_by65v35hkq',\n 'mlflow.runName': 'yellow_nerve_by65v35hkq',\n 'mlflow.user': 'Nivedita Mishra',\n 'model_explain_best_run_child_id': 'yellow_nerve_by65v35hkq_0',\n 'model_explain_run': 'best_run',\n 'pipeline_id_000': '__AutoML_Naive__',\n 'predicted_cost': '<0>;',\n 'run_algorithm': '<Naive>;',\n 'run_preprocessor': '<>;',\n 'score': '<0.16797185597779538>;',\n 'training_percent': '<100>;'}>, info=<RunInfo: artifact_uri='azureml://eastus2.api.azureml.ms/mlflow/v2.0/subscriptions/381b38e9-9840-4719-a5a0-61d9585e1e91/resourceGroups/nivmishra-eastus-rg/providers/Microsoft.MachineLearningServices/workspaces/nivmishra_workspace1/experiments/5f6b9918-97c6-497c-bb84-656bde950bcd/runs/yellow_nerve_by65v35hkq/artifacts', end_time=1678801922334, experiment_id='5f6b9918-97c6-497c-bb84-656bde950bcd', lifecycle_stage='active', run_id='yellow_nerve_by65v35hkq', run_name='yellow_nerve_by65v35hkq', run_uuid='yellow_nerve_by65v35hkq', start_time=1678801325466, status='FINISHED', user_id='58757b0f-28d7-494a-9877-a783d311bc48'>>\n"
    }
   ],
   "execution_count": 48,
   "metadata": {
    "gather": {
     "logged": 1678802088816
    }
   }
  },
  {
   "cell_type": "code",
   "source": [
    "# Print parent run tags. 'automl_best_child_run_id' tag should be there.\n",
    "print(mlflow_parent_run.data.tags)"
   ],
   "outputs": [
    {
     "output_type": "stream",
     "name": "stdout",
     "text": "{'model_explain_run': 'best_run', '_azureml.ComputeTargetType': 'STANDARD_DS12_V2', 'pipeline_id_000': '__AutoML_Naive__', 'score': '<0.16797185597779538>;', 'predicted_cost': '<0>;', 'fit_time': '<0.8752363333333334>;', 'training_percent': '<100>;', 'iteration': '<0>;', 'run_preprocessor': '<>;', 'run_algorithm': '<Naive>;', 'automl_best_child_run_id': 'yellow_nerve_by65v35hkq_0', 'model_explain_best_run_child_id': 'yellow_nerve_by65v35hkq_0', 'mlflow.rootRunId': 'yellow_nerve_by65v35hkq', 'mlflow.runName': 'yellow_nerve_by65v35hkq', 'mlflow.user': 'Nivedita Mishra'}\n"
    }
   ],
   "execution_count": 51,
   "metadata": {
    "gather": {
     "logged": 1678802109371
    }
   }
  },
  {
   "cell_type": "markdown",
   "source": [
    "### Get the AutoML best child run"
   ],
   "metadata": {}
  },
  {
   "cell_type": "code",
   "source": [
    "# Get the best model's child run\n",
    "\n",
    "best_child_run_id = mlflow_parent_run.data.tags[\"automl_best_child_run_id\"]\n",
    "print(\"Found best child run id: \", best_child_run_id)\n",
    "\n",
    "best_run = mlflow_client.get_run(best_child_run_id)\n",
    "\n",
    "print(\"Best child run: \")\n",
    "print(best_run)"
   ],
   "outputs": [
    {
     "output_type": "stream",
     "name": "stdout",
     "text": "Found best child run id:  yellow_nerve_by65v35hkq_0\nBest child run: \n<Run: data=<RunData: metrics={'explained_variance': 0.0,\n 'mean_absolute_error': 1194.373423611111,\n 'mean_absolute_percentage_error': 16.223045140655884,\n 'median_absolute_error': 1151.8166666666668,\n 'normalized_mean_absolute_error': 0.1389387910766264,\n 'normalized_median_absolute_error': 0.13398825865090816,\n 'normalized_root_mean_squared_error': 0.16797185597779538,\n 'normalized_root_mean_squared_log_error': 0.15439961769947455,\n 'r2_score': -0.7995655203764641,\n 'root_mean_squared_error': 1443.95326272752,\n 'root_mean_squared_log_error': 0.21424020092941376,\n 'spearman_correlation': -1.0}, params={}, tags={'mlflow.parentRunId': 'yellow_nerve_by65v35hkq',\n 'mlflow.rootRunId': 'yellow_nerve_by65v35hkq',\n 'mlflow.runName': 'happy_skin_kt0hl3bq',\n 'mlflow.user': 'Nivedita Mishra',\n 'model_explain_run_id': 'yellow_nerve_by65v35hkq_ModelExplain',\n 'model_explanation': 'True'}>, info=<RunInfo: artifact_uri='azureml://eastus2.api.azureml.ms/mlflow/v2.0/subscriptions/381b38e9-9840-4719-a5a0-61d9585e1e91/resourceGroups/nivmishra-eastus-rg/providers/Microsoft.MachineLearningServices/workspaces/nivmishra_workspace1/experiments/5f6b9918-97c6-497c-bb84-656bde950bcd/runs/yellow_nerve_by65v35hkq_0/artifacts', end_time=1678801921440, experiment_id='5f6b9918-97c6-497c-bb84-656bde950bcd', lifecycle_stage='active', run_id='yellow_nerve_by65v35hkq_0', run_name='happy_skin_kt0hl3bq', run_uuid='yellow_nerve_by65v35hkq_0', start_time=1678801690134, status='FINISHED', user_id='58757b0f-28d7-494a-9877-a783d311bc48'>>\n"
    }
   ],
   "execution_count": 52,
   "metadata": {
    "gather": {
     "logged": 1678802116669
    }
   }
  },
  {
   "cell_type": "markdown",
   "source": [
    "## 5.2 Get best model run's validation metrics\n",
    "\n",
    "Access the results (such as models, artifacts, metrics) of a previously completed AutoML Run."
   ],
   "metadata": {}
  },
  {
   "cell_type": "code",
   "source": [
    "import pandas as pd\n",
    "\n",
    "pd.DataFrame(best_run.data.metrics, index=[0]).T"
   ],
   "outputs": [
    {
     "output_type": "execute_result",
     "execution_count": 18,
     "data": {
      "text/plain": "                                                 0\nroot_mean_squared_log_error               0.086279\nmedian_absolute_error                   492.752463\nmean_absolute_percentage_error            7.388704\nexplained_variance                        0.677980\nnormalized_mean_absolute_error            0.057347\nroot_mean_squared_error                 586.736686\nnormalized_median_absolute_error          0.057321\nnormalized_root_mean_squared_log_error    0.062180\nspearman_correlation                      0.808531\nnormalized_root_mean_squared_error        0.068254\nmean_absolute_error                     492.981314\nr2_score                                  0.632757",
      "text/html": "<div>\n<style scoped>\n    .dataframe tbody tr th:only-of-type {\n        vertical-align: middle;\n    }\n\n    .dataframe tbody tr th {\n        vertical-align: top;\n    }\n\n    .dataframe thead th {\n        text-align: right;\n    }\n</style>\n<table border=\"1\" class=\"dataframe\">\n  <thead>\n    <tr style=\"text-align: right;\">\n      <th></th>\n      <th>0</th>\n    </tr>\n  </thead>\n  <tbody>\n    <tr>\n      <th>root_mean_squared_log_error</th>\n      <td>0.086279</td>\n    </tr>\n    <tr>\n      <th>median_absolute_error</th>\n      <td>492.752463</td>\n    </tr>\n    <tr>\n      <th>mean_absolute_percentage_error</th>\n      <td>7.388704</td>\n    </tr>\n    <tr>\n      <th>explained_variance</th>\n      <td>0.677980</td>\n    </tr>\n    <tr>\n      <th>normalized_mean_absolute_error</th>\n      <td>0.057347</td>\n    </tr>\n    <tr>\n      <th>root_mean_squared_error</th>\n      <td>586.736686</td>\n    </tr>\n    <tr>\n      <th>normalized_median_absolute_error</th>\n      <td>0.057321</td>\n    </tr>\n    <tr>\n      <th>normalized_root_mean_squared_log_error</th>\n      <td>0.062180</td>\n    </tr>\n    <tr>\n      <th>spearman_correlation</th>\n      <td>0.808531</td>\n    </tr>\n    <tr>\n      <th>normalized_root_mean_squared_error</th>\n      <td>0.068254</td>\n    </tr>\n    <tr>\n      <th>mean_absolute_error</th>\n      <td>492.981314</td>\n    </tr>\n    <tr>\n      <th>r2_score</th>\n      <td>0.632757</td>\n    </tr>\n  </tbody>\n</table>\n</div>"
     },
     "metadata": {}
    }
   ],
   "execution_count": 18,
   "metadata": {
    "gather": {
     "logged": 1678786340958
    }
   }
  },
  {
   "cell_type": "markdown",
   "source": [
    "# 6. Model evaluation and deployemnt.\n",
    "## 6.1 Download the best model\n",
    "\n",
    "Access the results (such as models, artifacts, metrics) of a previously completed AutoML Run."
   ],
   "metadata": {}
  },
  {
   "cell_type": "code",
   "source": [
    "# Create local folder\n",
    "import os\n",
    "\n",
    "local_dir = \"./artifact_downloads\"\n",
    "if not os.path.exists(local_dir):\n",
    "    os.mkdir(local_dir)"
   ],
   "outputs": [],
   "execution_count": 53,
   "metadata": {
    "gather": {
     "logged": 1678802129965
    }
   }
  },
  {
   "cell_type": "code",
   "source": [
    "# Download run's artifacts/outputs\n",
    "local_path = mlflow_client.download_artifacts(\n",
    "    best_run.info.run_id, \"outputs\", local_dir\n",
    ")\n",
    "print(\"Artifacts downloaded in: {}\".format(local_path))\n",
    "print(\"Artifacts: {}\".format(os.listdir(local_path)))"
   ],
   "outputs": [
    {
     "output_type": "stream",
     "name": "stderr",
     "text": "/tmp/ipykernel_256750/2387391148.py:2: FutureWarning: ``mlflow.tracking.client.MlflowClient.download_artifacts`` is deprecated since 2.0. This method will be removed in a future release. Use ``mlflow.artifacts.download_artifacts`` instead.\n  local_path = mlflow_client.download_artifacts(\n"
    }
   ],
   "execution_count": 54,
   "metadata": {
    "gather": {
     "logged": 1678802136559
    }
   }
  },
  {
   "cell_type": "markdown",
   "source": [
    "### Featurization\n",
    "We can look at the engineered feature names generated in time-series featurization via the JSON file named 'engineered_feature_names.json' under the run outputs."
   ],
   "metadata": {}
  },
  {
   "cell_type": "code",
   "source": [
    "import json\n",
    "\n",
    "with open(os.path.join(local_path, \"engineered_feature_names.json\"), \"r\") as f:\n",
    "    records = json.load(f)\n",
    "\n",
    "records"
   ],
   "outputs": [
    {
     "output_type": "execute_result",
     "execution_count": 55,
     "data": {
      "text/plain": "['_automl_target_col_WASNULL',\n 'horizon_origin',\n 'precip',\n 'precip_WASNULL',\n 'temp',\n 'temp_WASNULL',\n '_automl_target_col_lag12H',\n '_automl_target_col_min_window4H',\n '_automl_target_col_max_window4H',\n '_automl_target_col_mean_window4H',\n '_automl_year',\n '_automl_half',\n '_automl_quarter',\n '_automl_month',\n '_automl_day',\n '_automl_hour',\n '_automl_am_pm',\n '_automl_hour12',\n '_automl_wday',\n '_automl_qday',\n '_automl_week']"
     },
     "metadata": {}
    }
   ],
   "execution_count": 55,
   "metadata": {
    "gather": {
     "logged": 1678802146496
    }
   }
  },
  {
   "cell_type": "markdown",
   "source": [
    "### View featurization summary\n",
    "You can also see what featurization steps were performed on different raw features in the user data. For each raw feature in the user data, the following information is displayed:\n",
    "\n",
    "+ Raw feature name\n",
    "+ Number of engineered features formed out of this raw feature\n",
    "+ Type detected\n",
    "+ If feature was dropped\n",
    "+ List of feature transformations for the raw feature"
   ],
   "metadata": {}
  },
  {
   "cell_type": "code",
   "source": [
    "# Render the JSON as a pandas DataFrame\n",
    "with open(os.path.join(local_path, \"featurization_summary.json\"), \"r\") as f:\n",
    "    records = json.load(f)\n",
    "fs = pd.DataFrame.from_records(records)\n",
    "\n",
    "# View a summary of the featurization\n",
    "fs[\n",
    "    [\n",
    "        \"RawFeatureName\",\n",
    "        \"TypeDetected\",\n",
    "        \"Dropped\",\n",
    "        \"EngineeredFeatureCount\",\n",
    "        \"Transformations\",\n",
    "    ]\n",
    "]"
   ],
   "outputs": [
    {
     "output_type": "execute_result",
     "execution_count": 56,
     "data": {
      "text/plain": "       RawFeatureName TypeDetected Dropped  EngineeredFeatureCount  \\\n0  _automl_target_col      Numeric      No                       5   \n1           timeStamp     DateTime      No                      12   \n2              precip      Numeric      No                       2   \n3                temp      Numeric      No                       2   \n\n                                                                  Transformations  \n0  [ImputationMarker, Lag, minRollingWindow, maxRollingWindow, meanRollingWindow]  \n1                                     [MaxHorizonFeaturizer, DateTimeTransformer]  \n2                                               [MedianImputer, ImputationMarker]  \n3                                               [MedianImputer, ImputationMarker]  ",
      "text/html": "<div>\n<style scoped>\n    .dataframe tbody tr th:only-of-type {\n        vertical-align: middle;\n    }\n\n    .dataframe tbody tr th {\n        vertical-align: top;\n    }\n\n    .dataframe thead th {\n        text-align: right;\n    }\n</style>\n<table border=\"1\" class=\"dataframe\">\n  <thead>\n    <tr style=\"text-align: right;\">\n      <th></th>\n      <th>RawFeatureName</th>\n      <th>TypeDetected</th>\n      <th>Dropped</th>\n      <th>EngineeredFeatureCount</th>\n      <th>Transformations</th>\n    </tr>\n  </thead>\n  <tbody>\n    <tr>\n      <th>0</th>\n      <td>_automl_target_col</td>\n      <td>Numeric</td>\n      <td>No</td>\n      <td>5</td>\n      <td>[ImputationMarker, Lag, minRollingWindow, maxRollingWindow, meanRollingWindow]</td>\n    </tr>\n    <tr>\n      <th>1</th>\n      <td>timeStamp</td>\n      <td>DateTime</td>\n      <td>No</td>\n      <td>12</td>\n      <td>[MaxHorizonFeaturizer, DateTimeTransformer]</td>\n    </tr>\n    <tr>\n      <th>2</th>\n      <td>precip</td>\n      <td>Numeric</td>\n      <td>No</td>\n      <td>2</td>\n      <td>[MedianImputer, ImputationMarker]</td>\n    </tr>\n    <tr>\n      <th>3</th>\n      <td>temp</td>\n      <td>Numeric</td>\n      <td>No</td>\n      <td>2</td>\n      <td>[MedianImputer, ImputationMarker]</td>\n    </tr>\n  </tbody>\n</table>\n</div>"
     },
     "metadata": {}
    }
   ],
   "execution_count": 56,
   "metadata": {
    "gather": {
     "logged": 1678802154216
    }
   }
  },
  {
   "cell_type": "markdown",
   "source": [
    "## 6.2 Forecasting using batch endpoint<a id=\"forecast\"></a>\n",
    "\n",
    "Now that we have retrieved the best pipeline/model, it can be used to make predictions on test data. We will do batch inferencing on the test dataset which must have the same schema as training dataset.\n",
    "\n",
    "The inference will run on a remote compute. In this example, it will re-use the training compute.\n"
   ],
   "metadata": {}
  },
  {
   "cell_type": "markdown",
   "source": [
    "### Create a model endpoint\n",
    "First, we need to register the model, environment and the batch endpoint."
   ],
   "metadata": {}
  },
  {
   "cell_type": "code",
   "source": [
    "from azure.ai.ml.entities import (\n",
    "    Environment,\n",
    "    BatchEndpoint,\n",
    "    BatchDeployment,\n",
    "    BatchRetrySettings,\n",
    "    Model,\n",
    ")\n",
    "from azure.ai.ml.constants import BatchDeploymentOutputAction\n",
    "\n",
    "model_name = \"energy_demand\"\n",
    "batch_endpoint_name = \"energy-demand\"\n",
    "\n",
    "model = Model(\n",
    "    path=f\"azureml://jobs/{best_run.info.run_id}/outputs/artifacts/outputs/model.pkl\",\n",
    "    name=model_name,\n",
    "    description=\"Energy demand model.\",\n",
    ")\n",
    "registered_model = ml_client.models.create_or_update(model)\n",
    "\n",
    "env = Environment(\n",
    "    name=\"automl-tabular-env\",\n",
    "    description=\"environment for automl inference\",\n",
    "    image=\"mcr.microsoft.com/azureml/openmpi3.1.2-ubuntu18.04:20210727.v1\",\n",
    "    conda_file=\"artifact_downloads/outputs/conda_env_v_1_0_0.yml\",\n",
    ")\n",
    "\n",
    "endpoint = BatchEndpoint(\n",
    "    name=batch_endpoint_name,\n",
    "    description=\"this is a sample batch endpoint\",\n",
    ")\n",
    "ml_client.begin_create_or_update(endpoint).wait()"
   ],
   "outputs": [],
   "execution_count": 57,
   "metadata": {
    "gather": {
     "logged": 1678802207952
    }
   }
  },
  {
   "cell_type": "markdown",
   "source": [
    "To create a batch deployment, we will use the forecasting_script.py which will load the model and will call the forecast method each time we will envoke the endpoint."
   ],
   "metadata": {}
  },
  {
   "cell_type": "code",
   "source": [
    "output_file = \"forecast.json\"\n",
    "batch_deployment = BatchDeployment(\n",
    "    name=\"non-mlflow-deployment\",\n",
    "    description=\"this is a sample non-mlflow deployment\",\n",
    "    endpoint_name=batch_endpoint_name,\n",
    "    model=registered_model,\n",
    "    code_path=\"./forecast\",\n",
    "    scoring_script=\"forecasting_script.py\",\n",
    "    environment=env,\n",
    "    environment_variables={\n",
    "        \"TARGET_COLUMN_NAME\": target_column_name,\n",
    "    },\n",
    "    compute=cluster_name,\n",
    "    instance_count=2,\n",
    "    max_concurrency_per_instance=2,\n",
    "    mini_batch_size=10,\n",
    "    output_action=BatchDeploymentOutputAction.APPEND_ROW,\n",
    "    output_file_name=output_file,\n",
    "    retry_settings=BatchRetrySettings(max_retries=3, timeout=30),\n",
    "    logging_level=\"info\",\n",
    ")"
   ],
   "outputs": [],
   "execution_count": 58,
   "metadata": {
    "gather": {
     "logged": 1678802241584
    }
   }
  },
  {
   "cell_type": "markdown",
   "source": [
    "Finally, start a model deployment."
   ],
   "metadata": {}
  },
  {
   "cell_type": "code",
   "source": [
    "ml_client.begin_create_or_update(batch_deployment).wait()"
   ],
   "outputs": [],
   "execution_count": 59,
   "metadata": {
    "gather": {
     "logged": 1678802282863
    }
   }
  },
  {
   "cell_type": "markdown",
   "source": [
    "We need to create the Input, representing URI folder, because the batch endpoint is intended to process multiple files at a time. In this example we will use only one test file, which we have uploaded to the blob storage earlier. This file must be available through the url link."
   ],
   "metadata": {}
  },
  {
   "cell_type": "markdown",
   "source": [
    "Create an inference job."
   ],
   "metadata": {}
  },
  {
   "cell_type": "code",
   "source": [
    "my_test_data_input.name"
   ],
   "outputs": [],
   "execution_count": 62,
   "metadata": {
    "jupyter": {
     "source_hidden": false,
     "outputs_hidden": false
    },
    "nteract": {
     "transient": {
      "deleting": false
     }
    },
    "gather": {
     "logged": 1678802389205
    }
   }
  },
  {
   "cell_type": "code",
   "source": [
    "my_test_data_input = Input(\r\n",
    "        type=AssetTypes.MLTABLE, path=\"azureml:nyc_energy_test:1\", mode=InputOutputModes.DIRECT\r\n",
    ")"
   ],
   "outputs": [],
   "execution_count": 66,
   "metadata": {
    "jupyter": {
     "source_hidden": false,
     "outputs_hidden": false
    },
    "nteract": {
     "transient": {
      "deleting": false
     }
    },
    "gather": {
     "logged": 1678802837321
    }
   }
  },
  {
   "cell_type": "code",
   "source": [
    "from mltable import load"
   ],
   "outputs": [],
   "execution_count": 67,
   "metadata": {
    "jupyter": {
     "source_hidden": false,
     "outputs_hidden": false
    },
    "nteract": {
     "transient": {
      "deleting": false
     }
    },
    "gather": {
     "logged": 1678802857762
    }
   }
  },
  {
   "cell_type": "code",
   "source": [
    "tbl = load(f'azureml://subscriptions/{subscription_id}/resourcegroups/{resourcegresource_grouproup/workspaces/<workspace-name>/datastores/<datastore-name>/paths/<mltable-path-on-datastore>/')"
   ],
   "outputs": [],
   "execution_count": null,
   "metadata": {
    "jupyter": {
     "source_hidden": false,
     "outputs_hidden": false
    },
    "nteract": {
     "transient": {
      "deleting": false
     }
    }
   }
  },
  {
   "cell_type": "code",
   "source": [
    "filedataset_asset = ml_client.data.get(name=\"nyc_energy_test\", version=\"1\")"
   ],
   "outputs": [],
   "execution_count": 80,
   "metadata": {
    "jupyter": {
     "source_hidden": false,
     "outputs_hidden": false
    },
    "nteract": {
     "transient": {
      "deleting": false
     }
    },
    "gather": {
     "logged": 1678803958831
    }
   }
  },
  {
   "cell_type": "code",
   "source": [
    "load(f\"azureml:/{filedataset_asset.id}\").to_pandas_dataframe()"
   ],
   "outputs": [
    {
     "output_type": "execute_result",
     "execution_count": 82,
     "data": {
      "text/plain": "             timeStamp    demand  precip   temp\n0  2017-08-08 06:00:00  5590.992  0.0000  66.17\n1  2017-08-08 07:00:00  6147.033  0.0000  66.29\n2  2017-08-08 08:00:00  6592.425  0.0000  66.72\n3  2017-08-08 09:00:00  6874.533  0.0000  67.37\n4  2017-08-08 10:00:00  7010.542  0.0000  68.30\n5  2017-08-08 11:00:00  7078.158  0.0000  68.89\n6  2017-08-08 12:00:00  7213.317  0.0000  70.60\n7  2017-08-08 13:00:00  7329.750  0.0000  72.83\n8  2017-08-08 14:00:00  7426.250  0.0000  73.33\n9  2017-08-08 15:00:00  7505.633  0.0000  74.89\n10 2017-08-08 16:00:00  7578.192  0.0000  77.90\n11 2017-08-08 17:00:00  7548.050  0.0000  79.24\n12 2017-08-08 18:00:00  7357.117  0.0000  78.68\n13 2017-08-08 19:00:00  7131.433  0.0000  76.80\n14 2017-08-08 20:00:00  6986.575  0.0000  74.60\n15 2017-08-08 21:00:00  6869.292  0.0000  72.58\n16 2017-08-08 22:00:00  6587.058  0.0000  70.67\n17 2017-08-08 23:00:00  6194.442  0.0000  69.15\n18 2017-08-09 00:00:00  5754.708  0.0000  68.47\n19 2017-08-09 01:00:00  5439.667  0.0000  67.74\n20 2017-08-09 02:00:00  5195.325  0.0000  67.31\n21 2017-08-09 03:00:00  5044.508  0.0000  67.50\n22 2017-08-09 04:00:00  5010.000  0.0000  65.22\n23 2017-08-09 05:00:00  5195.300  0.0000  64.11\n24 2017-08-09 06:00:00  5651.033  0.0000  63.79\n25 2017-08-09 07:00:00  6240.392  0.0000  64.28\n26 2017-08-09 08:00:00  6774.967  0.0330  66.56\n27 2017-08-09 09:00:00  7140.267  0.0000  70.87\n28 2017-08-09 10:00:00  7348.917  0.0000  74.92\n29 2017-08-09 11:00:00  7516.775  0.0000  78.04\n30 2017-08-09 12:00:00  7671.625  0.0000  80.18\n31 2017-08-09 13:00:00  7806.833  0.0000  82.01\n32 2017-08-09 14:00:00  7949.467  0.0000  82.85\n33 2017-08-09 15:00:00  8065.808  0.0000  84.61\n34 2017-08-09 16:00:00  8162.875  0.0000  84.20\n35 2017-08-09 17:00:00  8136.758  0.0000  84.04\n36 2017-08-09 18:00:00  7852.642  0.0000  82.86\n37 2017-08-09 19:00:00  7535.067  0.0000  79.66\n38 2017-08-09 20:00:00  7360.883  0.0000  76.28\n39 2017-08-09 21:00:00  7207.583  0.5815  73.60\n40 2017-08-09 22:00:00  6917.650  0.0448  72.26\n41 2017-08-09 23:00:00  6487.642  0.4814  71.10\n42 2017-08-10 00:00:00  6053.458  0.0030  71.51\n43 2017-08-10 01:00:00  5714.258  0.0213  71.06\n44 2017-08-10 02:00:00  5497.025  0.0068  71.21\n45 2017-08-10 03:00:00  5360.583  0.0070  70.39\n46 2017-08-10 04:00:00  5333.775  0.0030  69.18\n47 2017-08-10 05:00:00  5534.683  0.0000  68.09",
      "text/html": "<div>\n<style scoped>\n    .dataframe tbody tr th:only-of-type {\n        vertical-align: middle;\n    }\n\n    .dataframe tbody tr th {\n        vertical-align: top;\n    }\n\n    .dataframe thead th {\n        text-align: right;\n    }\n</style>\n<table border=\"1\" class=\"dataframe\">\n  <thead>\n    <tr style=\"text-align: right;\">\n      <th></th>\n      <th>timeStamp</th>\n      <th>demand</th>\n      <th>precip</th>\n      <th>temp</th>\n    </tr>\n  </thead>\n  <tbody>\n    <tr>\n      <th>0</th>\n      <td>2017-08-08 06:00:00</td>\n      <td>5590.992</td>\n      <td>0.0000</td>\n      <td>66.17</td>\n    </tr>\n    <tr>\n      <th>1</th>\n      <td>2017-08-08 07:00:00</td>\n      <td>6147.033</td>\n      <td>0.0000</td>\n      <td>66.29</td>\n    </tr>\n    <tr>\n      <th>2</th>\n      <td>2017-08-08 08:00:00</td>\n      <td>6592.425</td>\n      <td>0.0000</td>\n      <td>66.72</td>\n    </tr>\n    <tr>\n      <th>3</th>\n      <td>2017-08-08 09:00:00</td>\n      <td>6874.533</td>\n      <td>0.0000</td>\n      <td>67.37</td>\n    </tr>\n    <tr>\n      <th>4</th>\n      <td>2017-08-08 10:00:00</td>\n      <td>7010.542</td>\n      <td>0.0000</td>\n      <td>68.30</td>\n    </tr>\n    <tr>\n      <th>5</th>\n      <td>2017-08-08 11:00:00</td>\n      <td>7078.158</td>\n      <td>0.0000</td>\n      <td>68.89</td>\n    </tr>\n    <tr>\n      <th>6</th>\n      <td>2017-08-08 12:00:00</td>\n      <td>7213.317</td>\n      <td>0.0000</td>\n      <td>70.60</td>\n    </tr>\n    <tr>\n      <th>7</th>\n      <td>2017-08-08 13:00:00</td>\n      <td>7329.750</td>\n      <td>0.0000</td>\n      <td>72.83</td>\n    </tr>\n    <tr>\n      <th>8</th>\n      <td>2017-08-08 14:00:00</td>\n      <td>7426.250</td>\n      <td>0.0000</td>\n      <td>73.33</td>\n    </tr>\n    <tr>\n      <th>9</th>\n      <td>2017-08-08 15:00:00</td>\n      <td>7505.633</td>\n      <td>0.0000</td>\n      <td>74.89</td>\n    </tr>\n    <tr>\n      <th>10</th>\n      <td>2017-08-08 16:00:00</td>\n      <td>7578.192</td>\n      <td>0.0000</td>\n      <td>77.90</td>\n    </tr>\n    <tr>\n      <th>11</th>\n      <td>2017-08-08 17:00:00</td>\n      <td>7548.050</td>\n      <td>0.0000</td>\n      <td>79.24</td>\n    </tr>\n    <tr>\n      <th>12</th>\n      <td>2017-08-08 18:00:00</td>\n      <td>7357.117</td>\n      <td>0.0000</td>\n      <td>78.68</td>\n    </tr>\n    <tr>\n      <th>13</th>\n      <td>2017-08-08 19:00:00</td>\n      <td>7131.433</td>\n      <td>0.0000</td>\n      <td>76.80</td>\n    </tr>\n    <tr>\n      <th>14</th>\n      <td>2017-08-08 20:00:00</td>\n      <td>6986.575</td>\n      <td>0.0000</td>\n      <td>74.60</td>\n    </tr>\n    <tr>\n      <th>15</th>\n      <td>2017-08-08 21:00:00</td>\n      <td>6869.292</td>\n      <td>0.0000</td>\n      <td>72.58</td>\n    </tr>\n    <tr>\n      <th>16</th>\n      <td>2017-08-08 22:00:00</td>\n      <td>6587.058</td>\n      <td>0.0000</td>\n      <td>70.67</td>\n    </tr>\n    <tr>\n      <th>17</th>\n      <td>2017-08-08 23:00:00</td>\n      <td>6194.442</td>\n      <td>0.0000</td>\n      <td>69.15</td>\n    </tr>\n    <tr>\n      <th>18</th>\n      <td>2017-08-09 00:00:00</td>\n      <td>5754.708</td>\n      <td>0.0000</td>\n      <td>68.47</td>\n    </tr>\n    <tr>\n      <th>19</th>\n      <td>2017-08-09 01:00:00</td>\n      <td>5439.667</td>\n      <td>0.0000</td>\n      <td>67.74</td>\n    </tr>\n    <tr>\n      <th>20</th>\n      <td>2017-08-09 02:00:00</td>\n      <td>5195.325</td>\n      <td>0.0000</td>\n      <td>67.31</td>\n    </tr>\n    <tr>\n      <th>21</th>\n      <td>2017-08-09 03:00:00</td>\n      <td>5044.508</td>\n      <td>0.0000</td>\n      <td>67.50</td>\n    </tr>\n    <tr>\n      <th>22</th>\n      <td>2017-08-09 04:00:00</td>\n      <td>5010.000</td>\n      <td>0.0000</td>\n      <td>65.22</td>\n    </tr>\n    <tr>\n      <th>23</th>\n      <td>2017-08-09 05:00:00</td>\n      <td>5195.300</td>\n      <td>0.0000</td>\n      <td>64.11</td>\n    </tr>\n    <tr>\n      <th>24</th>\n      <td>2017-08-09 06:00:00</td>\n      <td>5651.033</td>\n      <td>0.0000</td>\n      <td>63.79</td>\n    </tr>\n    <tr>\n      <th>25</th>\n      <td>2017-08-09 07:00:00</td>\n      <td>6240.392</td>\n      <td>0.0000</td>\n      <td>64.28</td>\n    </tr>\n    <tr>\n      <th>26</th>\n      <td>2017-08-09 08:00:00</td>\n      <td>6774.967</td>\n      <td>0.0330</td>\n      <td>66.56</td>\n    </tr>\n    <tr>\n      <th>27</th>\n      <td>2017-08-09 09:00:00</td>\n      <td>7140.267</td>\n      <td>0.0000</td>\n      <td>70.87</td>\n    </tr>\n    <tr>\n      <th>28</th>\n      <td>2017-08-09 10:00:00</td>\n      <td>7348.917</td>\n      <td>0.0000</td>\n      <td>74.92</td>\n    </tr>\n    <tr>\n      <th>29</th>\n      <td>2017-08-09 11:00:00</td>\n      <td>7516.775</td>\n      <td>0.0000</td>\n      <td>78.04</td>\n    </tr>\n    <tr>\n      <th>30</th>\n      <td>2017-08-09 12:00:00</td>\n      <td>7671.625</td>\n      <td>0.0000</td>\n      <td>80.18</td>\n    </tr>\n    <tr>\n      <th>31</th>\n      <td>2017-08-09 13:00:00</td>\n      <td>7806.833</td>\n      <td>0.0000</td>\n      <td>82.01</td>\n    </tr>\n    <tr>\n      <th>32</th>\n      <td>2017-08-09 14:00:00</td>\n      <td>7949.467</td>\n      <td>0.0000</td>\n      <td>82.85</td>\n    </tr>\n    <tr>\n      <th>33</th>\n      <td>2017-08-09 15:00:00</td>\n      <td>8065.808</td>\n      <td>0.0000</td>\n      <td>84.61</td>\n    </tr>\n    <tr>\n      <th>34</th>\n      <td>2017-08-09 16:00:00</td>\n      <td>8162.875</td>\n      <td>0.0000</td>\n      <td>84.20</td>\n    </tr>\n    <tr>\n      <th>35</th>\n      <td>2017-08-09 17:00:00</td>\n      <td>8136.758</td>\n      <td>0.0000</td>\n      <td>84.04</td>\n    </tr>\n    <tr>\n      <th>36</th>\n      <td>2017-08-09 18:00:00</td>\n      <td>7852.642</td>\n      <td>0.0000</td>\n      <td>82.86</td>\n    </tr>\n    <tr>\n      <th>37</th>\n      <td>2017-08-09 19:00:00</td>\n      <td>7535.067</td>\n      <td>0.0000</td>\n      <td>79.66</td>\n    </tr>\n    <tr>\n      <th>38</th>\n      <td>2017-08-09 20:00:00</td>\n      <td>7360.883</td>\n      <td>0.0000</td>\n      <td>76.28</td>\n    </tr>\n    <tr>\n      <th>39</th>\n      <td>2017-08-09 21:00:00</td>\n      <td>7207.583</td>\n      <td>0.5815</td>\n      <td>73.60</td>\n    </tr>\n    <tr>\n      <th>40</th>\n      <td>2017-08-09 22:00:00</td>\n      <td>6917.650</td>\n      <td>0.0448</td>\n      <td>72.26</td>\n    </tr>\n    <tr>\n      <th>41</th>\n      <td>2017-08-09 23:00:00</td>\n      <td>6487.642</td>\n      <td>0.4814</td>\n      <td>71.10</td>\n    </tr>\n    <tr>\n      <th>42</th>\n      <td>2017-08-10 00:00:00</td>\n      <td>6053.458</td>\n      <td>0.0030</td>\n      <td>71.51</td>\n    </tr>\n    <tr>\n      <th>43</th>\n      <td>2017-08-10 01:00:00</td>\n      <td>5714.258</td>\n      <td>0.0213</td>\n      <td>71.06</td>\n    </tr>\n    <tr>\n      <th>44</th>\n      <td>2017-08-10 02:00:00</td>\n      <td>5497.025</td>\n      <td>0.0068</td>\n      <td>71.21</td>\n    </tr>\n    <tr>\n      <th>45</th>\n      <td>2017-08-10 03:00:00</td>\n      <td>5360.583</td>\n      <td>0.0070</td>\n      <td>70.39</td>\n    </tr>\n    <tr>\n      <th>46</th>\n      <td>2017-08-10 04:00:00</td>\n      <td>5333.775</td>\n      <td>0.0030</td>\n      <td>69.18</td>\n    </tr>\n    <tr>\n      <th>47</th>\n      <td>2017-08-10 05:00:00</td>\n      <td>5534.683</td>\n      <td>0.0000</td>\n      <td>68.09</td>\n    </tr>\n  </tbody>\n</table>\n</div>"
     },
     "metadata": {}
    }
   ],
   "execution_count": 82,
   "metadata": {
    "jupyter": {
     "source_hidden": false,
     "outputs_hidden": false
    },
    "nteract": {
     "transient": {
      "deleting": false
     }
    },
    "gather": {
     "logged": 1678804000832
    }
   }
  },
  {
   "cell_type": "code",
   "source": [
    "ml_client"
   ],
   "outputs": [
    {
     "output_type": "execute_result",
     "execution_count": 76,
     "data": {
      "text/plain": "MLClient(credential=<azure.identity._credentials.default.DefaultAzureCredential object at 0x7f9443da6e30>,\n         subscription_id=381b38e9-9840-4719-a5a0-61d9585e1e91,\n         resource_group_name=nivmishra-eastus-rg,\n         workspace_name=nivmishra_workspace1)"
     },
     "metadata": {}
    }
   ],
   "execution_count": 76,
   "metadata": {
    "jupyter": {
     "source_hidden": false,
     "outputs_hidden": false
    },
    "nteract": {
     "transient": {
      "deleting": false
     }
    },
    "gather": {
     "logged": 1678803545163
    }
   }
  },
  {
   "cell_type": "code",
   "source": [
    "filedataset_asset._to_dict()"
   ],
   "outputs": [
    {
     "output_type": "execute_result",
     "execution_count": 78,
     "data": {
      "text/plain": "OrderedDict([('name', 'nyc_energy_test'),\n             ('id',\n              '/subscriptions/381b38e9-9840-4719-a5a0-61d9585e1e91/resourceGroups/nivmishra-eastus-rg/providers/Microsoft.MachineLearningServices/workspaces/nivmishra_workspace1/data/nyc_energy_test/versions/1'),\n             ('tags', {}),\n             ('version', '1'),\n             ('creation_context',\n              OrderedDict([('created_at', '2023-03-14T03:00:07.184404+00:00'),\n                           ('created_by', 'Nivedita Mishra'),\n                           ('created_by_type', 'User'),\n                           ('last_modified_at',\n                            '2023-03-14T03:00:07.184404+00:00'),\n                           ('last_modified_by', 'Nivedita Mishra'),\n                           ('last_modified_by_type', 'User')])),\n             ('path',\n              'azureml://subscriptions/381b38e9-9840-4719-a5a0-61d9585e1e91/resourcegroups/nivmishra-eastus-rg/workspaces/nivmishra_workspace1/datastores/workspaceblobstore/paths/dataset//4c0d2366-aaf8-4098-9922-5b19168d0e58/'),\n             ('properties', {'v1_type': 'tabular'}),\n             ('type', 'mltable')])"
     },
     "metadata": {}
    }
   ],
   "execution_count": 78,
   "metadata": {
    "jupyter": {
     "source_hidden": false,
     "outputs_hidden": false
    },
    "nteract": {
     "transient": {
      "deleting": false
     }
    },
    "gather": {
     "logged": 1678803627233
    }
   }
  },
  {
   "cell_type": "code",
   "source": [
    "my_test_data_input"
   ],
   "outputs": [
    {
     "output_type": "execute_result",
     "execution_count": 84,
     "data": {
      "text/plain": "{'type': 'uri_folder', 'path': 'test_dataset/'}"
     },
     "metadata": {}
    }
   ],
   "execution_count": 84,
   "metadata": {
    "jupyter": {
     "source_hidden": false,
     "outputs_hidden": false
    },
    "nteract": {
     "transient": {
      "deleting": false
     }
    },
    "gather": {
     "logged": 1678809134989
    }
   }
  },
  {
   "cell_type": "code",
   "source": [
    "job = ml_client.batch_endpoints.invoke(\n",
    "    endpoint_name=batch_endpoint_name,\n",
    "    input=my_test_data_input,\n",
    "    deployment_name=\"non-mlflow-deployment\",  # name is required as default deployment is not set\n",
    ")"
   ],
   "outputs": [
    {
     "output_type": "stream",
     "name": "stderr",
     "text": "\r\u001b[32mUploading test_dataset (0.0 MBs):   0%|          | 0/1956 [00:00<?, ?it/s]\r\u001b[32mUploading test_dataset (0.0 MBs): 100%|██████████| 1956/1956 [00:00<00:00, 333078.58it/s]\n\u001b[39m\n\n"
    }
   ],
   "execution_count": 85,
   "metadata": {
    "gather": {
     "logged": 1678809157859
    }
   }
  },
  {
   "cell_type": "markdown",
   "source": [
    "We will stream the job output to monitor the execution."
   ],
   "metadata": {}
  },
  {
   "cell_type": "code",
   "source": [
    "job_name = job.name\n",
    "batch_job = ml_client.jobs.get(name=job_name)\n",
    "print(batch_job.status)\n",
    "# stream the job logs\n",
    "ml_client.jobs.stream(name=job_name)"
   ],
   "outputs": [
    {
     "output_type": "stream",
     "name": "stdout",
     "text": "Running\nRunId: d4df9e74-6063-4722-975f-6af29568ebba\nWeb View: https://ml.azure.com/runs/d4df9e74-6063-4722-975f-6af29568ebba?wsid=/subscriptions/381b38e9-9840-4719-a5a0-61d9585e1e91/resourcegroups/nivmishra-eastus-rg/workspaces/nivmishra_workspace1\n\nStreaming logs/azureml/executionlogs.txt\n========================================\n\n[2023-03-14 15:52:40Z] Submitting 1 runs, first five are: 0991ddba:70a4abb0-deca-4fcf-bdc4-fc2a04070961\n[2023-03-14 16:03:53Z] Completing processing run id 70a4abb0-deca-4fcf-bdc4-fc2a04070961.\n\nExecution Summary\n=================\nRunId: d4df9e74-6063-4722-975f-6af29568ebba\nWeb View: https://ml.azure.com/runs/d4df9e74-6063-4722-975f-6af29568ebba?wsid=/subscriptions/381b38e9-9840-4719-a5a0-61d9585e1e91/resourcegroups/nivmishra-eastus-rg/workspaces/nivmishra_workspace1\n\n"
    }
   ],
   "execution_count": 86,
   "metadata": {
    "gather": {
     "logged": 1678809862951
    }
   }
  },
  {
   "cell_type": "markdown",
   "source": [
    "### Download the prediction result for metrics calculation\n",
    "The output of forecast output is saved in JSON format. You can use it to calculate test set metrics and plot predictions and actuals over time."
   ],
   "metadata": {}
  },
  {
   "cell_type": "code",
   "source": [
    "ml_client.jobs.download(job_name, download_path=\".\")"
   ],
   "outputs": [],
   "execution_count": null,
   "metadata": {}
  },
  {
   "cell_type": "code",
   "source": [
    "fcst_df = pd.read_json(output_file, orient=\"table\")\n",
    "fcst_df.head()"
   ],
   "outputs": [],
   "execution_count": null,
   "metadata": {}
  },
  {
   "cell_type": "markdown",
   "source": [
    "Calculate the metrics."
   ],
   "metadata": {}
  },
  {
   "cell_type": "code",
   "source": [
    "from metrics_helper import calculate_metrics\n",
    "\n",
    "calculate_metrics(fcst_df[target_column_name], fcst_df[\"predicted\"])"
   ],
   "outputs": [],
   "execution_count": null,
   "metadata": {}
  },
  {
   "cell_type": "markdown",
   "source": [
    "### Forecast versus actuals plot.\n",
    "We will join historical data with the predictions to plot predictions and actuals on a time series plot."
   ],
   "metadata": {}
  },
  {
   "cell_type": "code",
   "source": [
    "history_data = pd.read_csv(\n",
    "    \"./data/training-mltable-folder/nyc_energy_training_clean.csv\",\n",
    "    parse_dates=[time_column_name],\n",
    ")\n",
    "history_data.sort_values(by=time_column_name, inplace=True)\n",
    "history_data = history_data.iloc[-3 * forecast_horizon :]\n",
    "# Merge predictions to historic data.\n",
    "df = pd.concat([history_data, fcst_df], sort=False, ignore_index=True)\n",
    "df.set_index(time_column_name, inplace=True)"
   ],
   "outputs": [],
   "execution_count": null,
   "metadata": {}
  },
  {
   "cell_type": "markdown",
   "source": [
    "Build the plot"
   ],
   "metadata": {}
  },
  {
   "cell_type": "code",
   "source": [
    "%matplotlib inline\n",
    "from matplotlib import pyplot as plt\n",
    "\n",
    "plt.plot(df[[target_column_name, \"predicted\"]])\n",
    "plt.xticks(rotation=45)\n",
    "plt.title(f\"Predicted vs. Actuals\")\n",
    "plt.legend([\"actual\", \"forecast\"])\n",
    "plt.show()"
   ],
   "outputs": [],
   "execution_count": null,
   "metadata": {}
  },
  {
   "cell_type": "code",
   "source": [
    "# Delete the batch endpoint and compute. Do not do it occasionally.\n",
    "ml_client.batch_endpoints.begin_delete(name=batch_endpoint_name).wait()\n",
    "ml_client.compute.begin_delete(name=cluster_name).wait()"
   ],
   "outputs": [],
   "execution_count": null,
   "metadata": {}
  },
  {
   "cell_type": "markdown",
   "source": [
    "## 6.3 Deployment\n",
    "After we have tested our model on the batch endpoint, we may want to deploy it as a service. Currently no code deployment using mlflow is not supported for forecasting tasks and we will use the following workaround. For this deployment we will utilize the same model and environment that were used in the batch endpoint inference."
   ],
   "metadata": {}
  },
  {
   "cell_type": "code",
   "source": [
    "# Creating a unique endpoint name with current datetime to avoid conflicts\n",
    "import datetime\n",
    "from azure.ai.ml.entities import (\n",
    "    ManagedOnlineEndpoint,\n",
    "    ManagedOnlineDeployment,\n",
    "    CodeConfiguration,\n",
    "    ProbeSettings,\n",
    ")\n",
    "from azure.ai.ml.constants import ModelType\n",
    "\n",
    "online_endpoint_name = \"energydata-\" + datetime.datetime.now().strftime(\"%m%d%H%M%f\")\n",
    "\n",
    "# create an online endpoint\n",
    "endpoint = ManagedOnlineEndpoint(\n",
    "    name=online_endpoint_name,\n",
    "    description=\"this is a sample online endpoint for mlflow model\",\n",
    "    auth_mode=\"key\",\n",
    ")\n",
    "\n",
    "code_configuration = CodeConfiguration(\n",
    "    code=\"artifact_downloads/outputs/\", scoring_script=\"scoring_file_v_2_0_0.py\"\n",
    ")"
   ],
   "outputs": [],
   "execution_count": null,
   "metadata": {}
  },
  {
   "cell_type": "markdown",
   "source": [
    "Create a deployment."
   ],
   "metadata": {}
  },
  {
   "cell_type": "code",
   "source": [
    "deployment = ManagedOnlineDeployment(\n",
    "    name=\"energy-managed-deploy\",\n",
    "    endpoint_name=online_endpoint_name,\n",
    "    model=registered_model.id,\n",
    "    environment=env,\n",
    "    code_configuration=code_configuration,\n",
    "    instance_type=\"Standard_DS2_V2\",\n",
    "    instance_count=1,\n",
    ")\n",
    "# deployment to take 100% traffic\n",
    "endpoint.traffic = {\"energy-managed-deploy\": 100}\n",
    "ml_client.begin_create_or_update(endpoint).wait()"
   ],
   "outputs": [],
   "execution_count": null,
   "metadata": {}
  },
  {
   "cell_type": "code",
   "source": [
    "ml_client.online_deployments.begin_create_or_update(deployment).wait()"
   ],
   "outputs": [],
   "execution_count": null,
   "metadata": {}
  },
  {
   "cell_type": "markdown",
   "source": [
    "Test the endpoint on small data sample. Big data size can lead to timeouts."
   ],
   "metadata": {}
  },
  {
   "cell_type": "code",
   "source": [
    "import pandas as pd\n",
    "\n",
    "test_data = pd.read_csv(\"./data/test-mltable-folder/nyc_energy_test_clean.csv\")\n",
    "\n",
    "test_data = test_data.drop(target_column_name, axis=1)\n",
    "\n",
    "test_data_json = test_data.to_json(orient=\"records\", indent=4)\n",
    "data = (\n",
    "    '{ \\\n",
    "          \"Inputs\": {\"data\": '\n",
    "    + test_data_json\n",
    "    + '}, \\\n",
    "          \"GlobalParameters\": { \"quantiles\": [0.025, 0.975] } \\\n",
    "        }'\n",
    ")\n",
    "\n",
    "request_file_name = \"sample-request-energy.json\"\n",
    "\n",
    "with open(request_file_name, \"w\") as request_file:\n",
    "    request_file.write(data)\n",
    "\n",
    "output = ml_client.online_endpoints.invoke(\n",
    "    endpoint_name=online_endpoint_name,\n",
    "    deployment_name=\"energy-managed-deploy\",\n",
    "    request_file=request_file_name,\n",
    ")"
   ],
   "outputs": [],
   "execution_count": null,
   "metadata": {}
  },
  {
   "cell_type": "code",
   "source": [
    "# Get the details for online endpoint\n",
    "endpoint = ml_client.online_endpoints.get(name=online_endpoint_name)\n",
    "\n",
    "# existing traffic details\n",
    "print(endpoint.traffic)\n",
    "\n",
    "# Get the scoring URI\n",
    "print(endpoint.scoring_uri)"
   ],
   "outputs": [],
   "execution_count": null,
   "metadata": {}
  },
  {
   "cell_type": "markdown",
   "source": [
    "Send the request and deserialize the data."
   ],
   "metadata": {}
  },
  {
   "cell_type": "code",
   "source": [
    "try:\n",
    "    res_dict = json.loads(output)[\"Results\"]\n",
    "    y_fcst_all = pd.DataFrame(res_dict[\"index\"])\n",
    "    y_fcst_all[time_column_name] = pd.to_datetime(\n",
    "        y_fcst_all[time_column_name], unit=\"ms\"\n",
    "    )\n",
    "    y_fcst_all[\"forecast\"] = res_dict[\"forecast\"]\n",
    "    y_fcst_all[\"prediction_interval\"] = res_dict[\"prediction_interval\"]\n",
    "except:\n",
    "    raise\n",
    "    print(res_dict)"
   ],
   "outputs": [],
   "execution_count": null,
   "metadata": {}
  },
  {
   "cell_type": "code",
   "source": [
    "y_fcst_all.head()"
   ],
   "outputs": [],
   "execution_count": null,
   "metadata": {}
  },
  {
   "cell_type": "code",
   "source": [
    "# Delete the service. Do not do it occasionally.\n",
    "ml_client.online_endpoints.begin_delete(name=batch_endpoint_name).wait()"
   ],
   "outputs": [],
   "execution_count": null,
   "metadata": {}
  },
  {
   "cell_type": "markdown",
   "source": [
    "# Next Step: Load the best model and try predictions\n",
    "\n",
    "Loading the models locally assume that you are running the notebook in an environment compatible with the model. The list of dependencies that is expected by the model is specified in the MLFlow model produced by AutoML (in the 'conda.yaml' file within the mlflow-model folder).\n",
    "\n",
    "Since the AutoML model was trained remotelly in a different environment with different dependencies to your current local conda environment where you are running this notebook, if you want to load the model you have several options:\n",
    "\n",
    "1. A recommended way to locally load the model in memory and try predictions is to create a new/clean conda environment with the dependencies specified in the conda.yml file within the MLFlow model's folder, then use MLFlow to load the model and call .predict() as explained in the notebook **mlflow-model-local-inference-test.ipynb** in this same folder.\n",
    "\n",
    "2. You can install all the packages/dependencies specified in conda.yml into your current conda environment you used for using Azure ML SDK and AutoML. MLflow SDK also have a method to install the dependencies in the current environment. However, this option could have risks of package version conflicts depending on what's installed in your current environment.\n",
    "\n",
    "3. You can also use: mlflow models serve -m 'xxxxxxx'"
   ],
   "metadata": {}
  },
  {
   "cell_type": "markdown",
   "source": [],
   "metadata": {}
  }
 ],
 "metadata": {
  "interpreter": {
   "hash": "285c9544469f2e4017fa29f43b9576475263f2b5760658b549ecaf423c44986e"
  },
  "kernel_info": {
   "name": "python310-sdkv2"
  },
  "kernelspec": {
   "display_name": "Python 3.10 - SDK V2",
   "language": "python",
   "name": "python310-sdkv2"
  },
  "language_info": {
   "name": "python",
   "version": "3.10.9",
   "mimetype": "text/x-python",
   "codemirror_mode": {
    "name": "ipython",
    "version": 3
   },
   "pygments_lexer": "ipython3",
   "nbconvert_exporter": "python",
   "file_extension": ".py"
  },
  "microsoft": {
   "host": {
    "AzureML": {
     "notebookHasBeenCompleted": true
    }
   },
   "ms_spell_check": {
    "ms_spell_check_language": "en"
   }
  },
  "nteract": {
   "version": "nteract-front-end@1.0.0"
  }
 },
 "nbformat": 4,
 "nbformat_minor": 4
}
