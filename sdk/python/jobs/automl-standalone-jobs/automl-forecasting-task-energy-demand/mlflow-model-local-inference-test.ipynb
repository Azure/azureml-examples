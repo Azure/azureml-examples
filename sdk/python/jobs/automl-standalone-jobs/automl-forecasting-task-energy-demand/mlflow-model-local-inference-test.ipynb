{
 "cells": [
  {
   "attachments": {},
   "cell_type": "markdown",
   "metadata": {},
   "source": [
    "# MLflow model local inference example\n",
    "\n",
    "Test the model locally by loading it and generating predictions.\n",
    "\n",
    "---"
   ]
  },
  {
   "cell_type": "markdown",
   "metadata": {},
   "source": [
    "## Prerequisites"
   ]
  },
  {
   "cell_type": "markdown",
   "metadata": {},
   "source": [
    "1. **Model**<br/>\n",
    "   We will need the MLflow model, which is downloaded at the end of the training notebook. Follow any training notebook to get the model. The MLflow model is usually downloaded to the folder: `./artifact_downloads/outputs/mlflow-model`.\n",
    "2. **Environment**<br/>\n",
    "   We will need environment to load the model. Please run the following commands to create the environment (the conda file is usually downloaded to: `./artifact_downloads/outputs/mlflow-model/conda.yaml`):\n",
    "   - `conda env create --file <path_to_conda_yaml>`\n",
    "   - `conda activate project_environment`\n",
    "3. **Register environment as kernel**<br/>\n",
    "   - Please run the following command to register the environment as a kernel: `python -m ipykernel install --user --name project_environment --display-name \"model-inference\"`\n",
    "   - Refresh kernel and then select the newly created kernel named `model-inference` in kernel drop down.\n",
    "\n",
    "Now we are good to run this notebook in the newly created kernel."
   ]
  },
  {
   "cell_type": "markdown",
   "metadata": {},
   "source": [
    "## Load the test data into a Pandas DataFrame"
   ]
  },
  {
   "cell_type": "code",
   "execution_count": null,
   "metadata": {},
   "outputs": [],
   "source": [
    "test_data_path = \"./data/test-mltable-folder/nyc_energy_test_clean.csv\"\n",
    "label_column_name = \"demand\""
   ]
  },
  {
   "cell_type": "code",
   "execution_count": null,
   "metadata": {},
   "outputs": [],
   "source": [
    "import pandas as pd\n",
    "\n",
    "test_df = pd.read_csv(test_data_path).reset_index(drop=True)\n",
    "y_actual = test_df.pop(label_column_name).values\n",
    "\n",
    "test_df.shape, y_actual.shape"
   ]
  },
  {
   "cell_type": "markdown",
   "metadata": {},
   "source": [
    "## Load the MLflow model"
   ]
  },
  {
   "cell_type": "markdown",
   "metadata": {},
   "source": [
    "- `MLmodel` file (`./artifact_downloads/outputs/mlflow-model/MLmodel`) generally describes the following two flavors for AutoML tabular scenario, except forecast TCN that has Pytorch flavor:\n",
    "    - sklearn\n",
    "    - python_function\n",
    "- We show how to load model using sklearn for forecasting, which generates prediction using either `forecast` or `forecast_quantiles` method.\n",
    "\n",
    "For more information on MLflow flavors, please visit [this link](https://www.mlflow.org/docs/latest/models.html#storage-format)."
   ]
  },
  {
   "cell_type": "code",
   "execution_count": null,
   "metadata": {},
   "outputs": [],
   "source": [
    "mlflow_dir = \"./artifact_downloads/outputs/mlflow-model\""
   ]
  },
  {
   "cell_type": "code",
   "execution_count": 22,
   "metadata": {},
   "outputs": [],
   "source": [
    "import mlflow.pyfunc\n",
    "import mlflow.sklearn\n",
    "\n",
    "model = mlflow.sklearn.load_model(mlflow_dir)"
   ]
  },
  {
   "cell_type": "markdown",
   "metadata": {},
   "source": [
    "## Generate predictions"
   ]
  },
  {
   "cell_type": "code",
   "execution_count": null,
   "metadata": {},
   "outputs": [],
   "source": [
    "# Forecasting models generates prediction with .forecast() or .forecast_quantiles(), not with .predict()\n",
    "y_preds = model.forecast(test_df, ignore_data_errors=True)\n",
    "y_preds"
   ]
  }
 ],
 "metadata": {
  "kernel_info": {
   "name": "python3-azureml"
  },
  "kernelspec": {
   "display_name": "Python 3.10 - SDK V2",
   "language": "python",
   "name": "python310-sdkv2"
  },
  "language_info": {
   "codemirror_mode": {
    "name": "ipython",
    "version": 3
   },
   "file_extension": ".py",
   "mimetype": "text/x-python",
   "name": "python",
   "nbconvert_exporter": "python",
   "pygments_lexer": "ipython3",
   "version": "3.7.9"
  },
  "microsoft": {
   "host": {
    "AzureML": {
     "notebookHasBeenCompleted": true
    }
   }
  },
  "nteract": {
   "version": "nteract-front-end@1.0.0"
  }
 },
 "nbformat": 4,
 "nbformat_minor": 4
}
