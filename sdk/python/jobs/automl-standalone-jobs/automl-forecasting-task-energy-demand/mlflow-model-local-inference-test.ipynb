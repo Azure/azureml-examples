{
 "cells": [
  {
   "cell_type": "markdown",
   "source": [
    "# Load the MLFlow model locally and try predictions\n",
    "\n",
    "## Prerequisites\n",
    "\n",
    "1. You need to have run successfully the training notebook related to this model, available in this same folder, where at the end of the notebook, after training the model, it downloads the 'artifacts' with the MLFlow model folder (\"./artifact_downloads/outputs/mlflow-model\").\n",
    "\n",
    "2. Create a conda environment with the 'conda.yaml' file provided within the \"mlflow-model\" folder, doing like the following:\n",
    "\n",
    "   1. (base) /> conda env create --file conda.yaml --name automl-model-classification-env\n",
    "   \n",
    "   1. (base) /> conda activate automl-model-classification-env\n",
    "   \n",
    "   1. (automl-model-classification-env) /> conda install jupyter nb_conda\n",
    "\n",
    "3. Run Jupyter and make sure you are using the related 'automl-model-classif-env' Kernel.\n",
    "\n",
    "4. Run this notebook."
   ],
   "metadata": {}
  },
  {
   "cell_type": "markdown",
   "source": [
    "If the MLFlow model files were downloaded successfully by the training notebook, you should see the files here."
   ],
   "metadata": {}
  },
  {
   "cell_type": "code",
   "source": [
    "import os\n",
    "\n",
    "# Show the contents of the MLFlow model folder\n",
    "os.listdir(\"./artifact_downloads/outputs/mlflow-model\")\n",
    "\n",
    "# You should see a list of files such as the following:\n",
    "# ['conda.yaml', 'MLmodel', 'model.pkl', 'requirements.txt']"
   ],
   "outputs": [],
   "execution_count": null,
   "metadata": {
    "gather": {
     "logged": 1679586190257
    }
   }
  },
  {
   "cell_type": "markdown",
   "source": [
    "### Load the test data into a Pandas DataFrame\n",
    "\n",
    "Load a test dataset (bank_marketing_test_data.csv) into a Pandas DataFrame in order to try some predictions with it."
   ],
   "metadata": {}
  },
  {
   "cell_type": "code",
   "source": [
    "import pandas as pd\n",
    "\n",
    "test_df = pd.read_csv(\n",
    "    \"./data/test-mltable-folder/nyc_energy_test_clean.csv\"\n",
    ").reset_index(drop=True)\n",
    "y_actual = test_df.pop(\"demand\").values\n",
    "\n",
    "test_df.shape, y_actual.shape"
   ],
   "outputs": [],
   "execution_count": null,
   "metadata": {}
  },
  {
   "cell_type": "markdown",
   "source": [
    "To use the TabularDataset as test data created using V1 sdk, we load the data using data name and version. "
   ],
   "metadata": {
    "nteract": {
     "transient": {
      "deleting": false
     }
    }
   }
  },
  {
   "cell_type": "code",
   "source": [
    "\"\"\"\r\n",
    "from mltable import load\r\n",
    "filedataset_asset = ml_client.data.get(name=\"nyc_energy_test\",version=1)\r\n",
    "test_df = load(f\"azureml:/{filedataset_asset.id}\").to_pandas_dataframe().reset_index(drop=True)\r\n",
    "y_actual = test_df.pop(\"demand\").values\r\n",
    "\r\n",
    "test_df.shape, y_actual.shape\r\n",
    "\"\"\""
   ],
   "outputs": [],
   "execution_count": null,
   "metadata": {
    "jupyter": {
     "source_hidden": false,
     "outputs_hidden": false
    },
    "nteract": {
     "transient": {
      "deleting": false
     }
    },
    "gather": {
     "logged": 1679586343490
    }
   }
  },
  {
   "cell_type": "markdown",
   "source": [
    "## Load the best model in memory\n",
    "\n",
    "Load the model using MLflow flavor. Check MLmodel under the downloaded folder (artifact_downloads/outputs/mlflow-model).\n",
    "For this particular example (and for AutoML tabular scenario except for forecast tcn which has Pytorch flavor), MLmodel file will describe two flavors, sklearn and python_function.\n",
    "We show how to load model using sklearn for forecast models, which predict with .forecast() and .forecast_quantiles().\n",
    "For more information on MLflow flavors, visit: https://www.mlflow.org/docs/latest/models.html#storage-format\n",
    "\n",
    "Loading the models locally assume that you are running the notebook in an environment compatible with the model. The list of dependencies that is expected by the model is specified in the MLflow model produced by AutoML (in the 'conda.yaml' file within the mlflow-model folder).\n",
    "\n",
    "Load the model using MLFlow PyFunc:"
   ],
   "metadata": {}
  },
  {
   "cell_type": "code",
   "source": [
    "import mlflow.pyfunc\n",
    "import mlflow.sklearn\n",
    "import mlflow.sklearn"
   ],
   "outputs": [],
   "execution_count": null,
   "metadata": {
    "gather": {
     "logged": 1679586351594
    }
   }
  },
  {
   "cell_type": "code",
   "source": [
    "# Get the MLFlow model from the downloaded MLFlow model files\n",
    "\n",
    "model = mlflow.sklearn.load_model(\"./artifact_downloads/outputs/mlflow-model\")"
   ],
   "outputs": [],
   "execution_count": null,
   "metadata": {
    "gather": {
     "logged": 1679586815693
    }
   }
  },
  {
   "cell_type": "code",
   "source": [
    "# Forecasting models predict with .forecast() or .forecast_quantiles(), not with .predict()\n",
    "\n",
    "y_preds = model.forecast(test_df, ignore_data_errors=True)\n",
    "\n",
    "y_preds\n",
    "\n",
    "# Original forecasting with .forecast_quantiles(X_test)\n",
    "# https://github.com/Azure/azureml-examples/blob/main/python-sdk/tutorials/automl-with-azureml/forecasting-energy-demand/forecasting_script.py"
   ],
   "outputs": [],
   "execution_count": null,
   "metadata": {}
  },
  {
   "cell_type": "markdown",
   "source": [
    "# Next Steps\n",
    "You can see further examples of other AutoML tasks such as Image-Classification, Image-Object-Detection, NLP-Text-Classification, Time-Series-Forcasting, etc."
   ],
   "metadata": {}
  },
  {
   "cell_type": "markdown",
   "source": [],
   "metadata": {}
  }
 ],
 "metadata": {
  "kernel_info": {
   "name": "python310-sdkv2"
  },
  "kernelspec": {
   "display_name": "Python 3.10 - SDK V2",
   "language": "python",
   "name": "python310-sdkv2"
  },
  "language_info": {
   "name": "python",
   "version": "3.10.9",
   "mimetype": "text/x-python",
   "codemirror_mode": {
    "name": "ipython",
    "version": 3
   },
   "pygments_lexer": "ipython3",
   "nbconvert_exporter": "python",
   "file_extension": ".py"
  },
  "microsoft": {
   "host": {
    "AzureML": {
     "notebookHasBeenCompleted": true
    }
   },
   "ms_spell_check": {
    "ms_spell_check_language": "en"
   }
  },
  "nteract": {
   "version": "nteract-front-end@1.0.0"
  }
 },
 "nbformat": 4,
 "nbformat_minor": 4
}
