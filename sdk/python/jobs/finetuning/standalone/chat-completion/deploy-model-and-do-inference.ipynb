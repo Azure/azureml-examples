{
 "cells": [
  {
   "cell_type": "code",
   "execution_count": null,
   "metadata": {},
   "outputs": [],
   "source": [
    "%pip install -U azure-ai-ml"
   ]
  },
  {
   "cell_type": "code",
   "execution_count": null,
   "metadata": {},
   "outputs": [],
   "source": [
    "from azure.ai.ml import MLClient\n",
    "from azure.identity import DefaultAzureCredential, InteractiveBrowserCredential\n",
    "from azure.ai.ml.entities import MarketplaceSubscription, ServerlessEndpoint\n",
    "\n",
    "try:\n",
    "    credential = DefaultAzureCredential()\n",
    "    credential.get_token(\"https://management.azure.com/.default\")\n",
    "except Exception as ex:\n",
    "    credential = InteractiveBrowserCredential()\n",
    "\n",
    "client = MLClient(\n",
    "    credential=credential,\n",
    "    subscription_id=\"<subscription-id>\",\n",
    "    resource_group_name=\"<resource-group-name>\",\n",
    "    workspace_name=\"<workspace-name>\",\n",
    ")"
   ]
  },
  {
   "cell_type": "code",
   "execution_count": null,
   "metadata": {},
   "outputs": [],
   "source": [
    "# Do this if needed, does not work currently\n",
    "# but llama3 example works from here - https://learn.microsoft.com/en-us/azure/ai-studio/how-to/deploy-models-serverless?tabs=python\n",
    "\n",
    "model_id=\"azureml://registries/azureml/models/Phi-3-mini-4k-instruct\"\n",
    "subscription_name=\"Phi-3-mini-4k-instruct\"\n",
    "\n",
    "marketplace_subscription = MarketplaceSubscription(\n",
    "    model_id=model_id,\n",
    "    name=subscription_name,\n",
    ")\n",
    "\n",
    "marketplace_subscription = client.marketplace_subscriptions.begin_create_or_update(\n",
    "    marketplace_subscription\n",
    ").result()\n"
   ]
  },
  {
   "cell_type": "code",
   "execution_count": null,
   "metadata": {},
   "outputs": [],
   "source": [
    "# Deploy the model as a serverless endpoint\n",
    "endpoint_name=\"phi3-mini-4k-instruct-qwerty2\" # Name must be unique\n",
    "\n",
    "model_id = \"azureml://locations/eastus2/workspaces/bc8d2dc0-5d80-47af-bec7-566cfac2cd18/models/finetuned-model-86b380/versions/1\"\n"
   ]
  },
  {
   "cell_type": "code",
   "execution_count": null,
   "metadata": {},
   "outputs": [],
   "source": [
    "serverless_endpoint = ServerlessEndpoint(\n",
    "    name=endpoint_name,\n",
    "    model_id=model_id\n",
    ")\n",
    "\n",
    "created_endpoint = client.serverless_endpoints.begin_create_or_update(\n",
    "    serverless_endpoint\n",
    ").result()"
   ]
  },
  {
   "cell_type": "code",
   "execution_count": null,
   "metadata": {},
   "outputs": [],
   "source": [
    "endpoint = client.serverless_endpoints.get(endpoint_name)"
   ]
  },
  {
   "cell_type": "code",
   "execution_count": null,
   "metadata": {},
   "outputs": [],
   "source": [
    "import requests\n",
    "\n",
    "url = f\"{endpoint.scoring_uri}/v1/chat/completions\"\n",
    "\n",
    "payload = {\n",
    "    \"max_tokens\": 1024,\n",
    "    \"messages\": [{\"content\":\"This script is great so far. Can you add more dialogue between Amanda and Thierry to build up their chemistry and connection?\",\"role\":\"user\"}]\n",
    "}\n",
    "headers = {\n",
    "    \"Content-Type\": \"application/json\",\n",
    "    \"Authorization\": \"your-api-key\"\n",
    "}\n",
    "\n",
    "response = requests.post(url, json=payload, headers=headers)\n",
    "\n",
    "response.json()"
   ]
  }
 ],
 "metadata": {
  "kernelspec": {
   "display_name": "Python 3",
   "language": "python",
   "name": "python3"
  },
  "language_info": {
   "codemirror_mode": {
    "name": "ipython",
    "version": 3
   },
   "file_extension": ".py",
   "mimetype": "text/x-python",
   "name": "python",
   "nbconvert_exporter": "python",
   "pygments_lexer": "ipython3",
   "version": "3.10.14"
  }
 },
 "nbformat": 4,
 "nbformat_minor": 2
}
