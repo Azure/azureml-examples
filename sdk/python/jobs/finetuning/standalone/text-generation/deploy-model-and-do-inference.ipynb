{
 "cells": [
  {
   "cell_type": "code",
   "execution_count": null,
   "metadata": {},
   "outputs": [],
   "source": [
    "%pip install -U azure-ai-ml"
   ]
  },
  {
   "cell_type": "code",
   "execution_count": null,
   "metadata": {},
   "outputs": [],
   "source": [
    "from azure.ai.ml import MLClient\n",
    "from azure.identity import InteractiveBrowserCredential\n",
    "from azure.ai.ml.entities import MarketplaceSubscription, ServerlessEndpoint\n",
    "\n",
    "client = MLClient(\n",
    "    credential=InteractiveBrowserCredential(tenant_id=\"<tenant-id>\"),\n",
    "    subscription_id=\"<subscription-id>\",\n",
    "    resource_group_name=\"<resource-group-name>\",\n",
    "    workspace_name=\"<workspace-name>\",\n",
    ")"
   ]
  },
  {
   "cell_type": "code",
   "execution_count": null,
   "metadata": {},
   "outputs": [],
   "source": [
    "# Do this if needed, does not work currently\n",
    "# but llama3 example works from here - https://learn.microsoft.com/en-us/azure/ai-studio/how-to/deploy-models-serverless?tabs=python\n",
    "\n",
    "model_id=\"azureml://registries/azureml-meta/models/Llama-2-7b\"\n",
    "subscription_name=\"Llama-2-7b\"\n",
    "\n",
    "marketplace_subscription = MarketplaceSubscription(\n",
    "    model_id=model_id,\n",
    "    name=subscription_name,\n",
    ")\n",
    "\n",
    "marketplace_subscription = client.marketplace_subscriptions.begin_create_or_update(\n",
    "    marketplace_subscription\n",
    ").result()\n"
   ]
  },
  {
   "cell_type": "code",
   "execution_count": null,
   "metadata": {},
   "outputs": [],
   "source": [
    "# Deploy the model as a serverless endpoint\n",
    "endpoint_name=\"meta-llama2-7bb-qwerty\" # Name must be unique\n",
    "model_id = \"azureml://locations/westus3/workspaces/<workspace_id>/models/default-registered-model-name/versions/2\""
   ]
  },
  {
   "cell_type": "code",
   "execution_count": null,
   "metadata": {},
   "outputs": [],
   "source": [
    "serverless_endpoint = ServerlessEndpoint(\n",
    "    name=endpoint_name,\n",
    "    model_id=model_id\n",
    ")\n",
    "\n",
    "created_endpoint = client.serverless_endpoints.begin_create_or_update(\n",
    "    serverless_endpoint\n",
    ").result()"
   ]
  },
  {
   "cell_type": "code",
   "execution_count": null,
   "metadata": {},
   "outputs": [],
   "source": [
    "endpoint = client.serverless_endpoints.get(endpoint_name)"
   ]
  },
  {
   "cell_type": "code",
   "execution_count": null,
   "metadata": {},
   "outputs": [],
   "source": [
    "import requests\n",
    "\n",
    "url = f\"{endpoint.scoring_uri}/v1/completions\"\n",
    "\n",
    "payload = {\n",
    "    \"max_tokens\": 1024,\n",
    "    \"prompt\": [\n",
    "        \"Summarize the dialog.\\n<dialog>: John: do you play tennis? :-)\\r\\nIrma: i don't, why do you ask?\" +\n",
    "        \"\\r\\nJohn: you look like someone who plays tennis\\r\\nIrma: HAHAHAHA i'm literally loling \"+\n",
    "        \"\\r\\nIrma: i don't know what someone who plays tennis looks like\\r\\nJohn: hahah sorry that was a dumb comment\" +\n",
    "        \"\\r\\nJohn: anyway, would to enroll in a class with me?\\r\\nJohn: they're dirt cheap at the community center\" +\n",
    "        \"\\r\\nIrma: sounds good, i can wear one of my tennis outfits!!\"+\n",
    "        \"\\r\\nIrma: HAHAHA, i'm still laughing at your comment  lol\\n<summary>: \"\n",
    "    ]\n",
    "}\n",
    "headers = {\n",
    "    \"Content-Type\": \"application/json\",\n",
    "    \"Authorization\": \"your-api-key\"\n",
    "}\n",
    "\n",
    "response = requests.post(url, json=payload, headers=headers)\n",
    "\n",
    "response.json()"
   ]
  }
 ],
 "metadata": {
  "kernelspec": {
   "display_name": "Python 3",
   "language": "python",
   "name": "python3"
  },
  "language_info": {
   "codemirror_mode": {
    "name": "ipython",
    "version": 3
   },
   "file_extension": ".py",
   "mimetype": "text/x-python",
   "name": "python",
   "nbconvert_exporter": "python",
   "pygments_lexer": "ipython3",
   "version": "3.10.14"
  }
 },
 "nbformat": 4,
 "nbformat_minor": 2
}
