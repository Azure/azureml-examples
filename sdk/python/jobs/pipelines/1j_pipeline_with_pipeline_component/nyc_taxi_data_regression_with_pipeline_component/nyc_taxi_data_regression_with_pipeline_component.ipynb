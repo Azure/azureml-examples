{
 "cells": [
  {
   "cell_type": "markdown",
   "metadata": {},
   "source": [
    "# Nyc taxi data regression with pipeline component\n",
    "\n",
    "**Requirements** - In order to benefit from this tutorial, you will need:\n",
    "- A basic understanding of Machine Learning\n",
    "- An Azure account with an active subscription - [Create an account for free](https://azure.microsoft.com/free/?WT.mc_id=A261C142F)\n",
    "- An Azure ML workspace with computer cluster - [Configure workspace](../../configuration.ipynb)\n",
    "- A python environment\n",
    "- Installed Azure Machine Learning Python SDK v2 - [install instructions](../../../README.md) - check the getting started section\n",
    "\n",
    "**Learning Objectives** - By the end of this tutorial, you should be able to:\n",
    "- Connect to your AML workspace from the Python SDK\n",
    "- Create `PipelineComponent` using loaded component.\n",
    "- Create `PipelineJob` with `PipelineComponent`.\n",
    "\n",
    "**Motivations** - This notebook covers the scenario that user define pipeline component using dsl decorator."
   ]
  },
  {
   "cell_type": "markdown",
   "metadata": {},
   "source": [
    "# 1. Connect to Azure Machine Learning Workspace\n",
    "\n",
    "The [workspace](https://docs.microsoft.com/en-us/azure/machine-learning/concept-workspace) is the top-level resource for Azure Machine Learning, providing a centralized place to work with all the artifacts you create when you use Azure Machine Learning. In this section we will connect to the workspace in which the job will be run.\n",
    "\n",
    "## 1.1 Import the required libraries"
   ]
  },
  {
   "cell_type": "code",
   "execution_count": null,
   "metadata": {},
   "outputs": [],
   "source": [
    "# Import required libraries\n",
    "from azure.identity import DefaultAzureCredential, InteractiveBrowserCredential\n",
    "\n",
    "from azure.ai.ml import MLClient, Input\n",
    "from azure.ai.ml.dsl import pipeline\n",
    "from azure.ai.ml import load_component"
   ]
  },
  {
   "cell_type": "code",
   "execution_count": null,
   "metadata": {},
   "outputs": [],
   "source": [
    "from azure.ai.ml._version import VERSION\n",
    "\n",
    "print(VERSION)"
   ]
  },
  {
   "cell_type": "markdown",
   "metadata": {},
   "source": [
    "## 1.2 Configure credential\n",
    "\n",
    "We are using `DefaultAzureCredential` to get access to workspace. \n",
    "`DefaultAzureCredential` should be capable of handling most Azure SDK authentication scenarios. \n",
    "\n",
    "Reference for more available credentials if it does not work for you: [configure credential example](../../configuration.ipynb), [azure-identity reference doc](https://docs.microsoft.com/en-us/python/api/azure-identity/azure.identity?view=azure-python)."
   ]
  },
  {
   "cell_type": "code",
   "execution_count": null,
   "metadata": {},
   "outputs": [],
   "source": [
    "try:\n",
    "    credential = DefaultAzureCredential()\n",
    "    # Check if given credential can get token successfully.\n",
    "    credential.get_token(\"https://management.azure.com/.default\")\n",
    "except Exception as ex:\n",
    "    # Fall back to InteractiveBrowserCredential in case DefaultAzureCredential not work\n",
    "    credential = InteractiveBrowserCredential()"
   ]
  },
  {
   "cell_type": "markdown",
   "metadata": {},
   "source": [
    "## 1.3 Get a handle to the workspace\n",
    "\n",
    "We use config file to connect to a workspace. The Azure ML workspace should be configured with computer cluster. [Check this notebook for configure a workspace](../../configuration.ipynb)"
   ]
  },
  {
   "cell_type": "code",
   "execution_count": null,
   "metadata": {},
   "outputs": [],
   "source": [
    "# Get a handle to workspace\n",
    "ml_client = MLClient.from_config(credential=credential)\n",
    "\n",
    "# Retrieve an already attached Azure Machine Learning Compute.\n",
    "cluster_name = \"cpu-cluster\"\n",
    "print(ml_client.compute.get(cluster_name))"
   ]
  },
  {
   "cell_type": "markdown",
   "metadata": {},
   "source": [
    "# 2. Define and create components into workspace\n",
    "## 2.1 Define pipeline component with data prep and transformation\n",
    "### 2.1.1 Load components from YAML"
   ]
  },
  {
   "cell_type": "code",
   "execution_count": null,
   "metadata": {},
   "outputs": [],
   "source": [
    "components_dir = \"./data_pipeline\"\n",
    "prep = load_component(source=f\"{components_dir}/prep_src/prep.yml\")\n",
    "transform = load_component(source=f\"{components_dir}/transform_src/transform.yml\")"
   ]
  },
  {
   "cell_type": "markdown",
   "metadata": {},
   "source": [
    "### 2.1.2 Define pipeline component with components"
   ]
  },
  {
   "cell_type": "code",
   "execution_count": null,
   "metadata": {},
   "outputs": [],
   "source": [
    "# add meta info when invoke decorator.\n",
    "@pipeline(\n",
    "    display_name=\"data_pipeline\",\n",
    "    tags={\"authoring\": \"sdk\"},\n",
    "    # version='123',\n",
    "    description=\"pipeline component with data prep and transformation defined via yaml-meta.\",\n",
    ")\n",
    "def data_pipeline(\n",
    "    raw_data: Input,\n",
    "):\n",
    "    \"\"\"pipeline component with data prep and transformation defined via yaml.\"\"\"\n",
    "    # Call component obj as function: apply given inputs & parameters to create a node in pipeline\n",
    "    prep_node = prep(\n",
    "        raw_data=raw_data,\n",
    "    )\n",
    "    transform_node = transform(clean_data=prep_node.outputs.prep_data)\n",
    "    # Return: pipeline outputs\n",
    "    return {\n",
    "        \"train_data\": transform_node.outputs.transformed_data,\n",
    "    }"
   ]
  },
  {
   "cell_type": "markdown",
   "metadata": {},
   "source": [
    "### 2.1.3 (Optional) Create pipeline component to workspace"
   ]
  },
  {
   "cell_type": "code",
   "execution_count": null,
   "metadata": {},
   "outputs": [],
   "source": [
    "registered_data_pipeline_component = ml_client.components.create_or_update(\n",
    "    data_pipeline\n",
    ")"
   ]
  },
  {
   "cell_type": "markdown",
   "metadata": {},
   "source": [
    "## 2.2 Define pipeline component pipeline component with train, predict and score\n",
    "### 2.2.1 Load components from YAML"
   ]
  },
  {
   "cell_type": "code",
   "execution_count": null,
   "metadata": {},
   "outputs": [],
   "source": [
    "components_dir = \"./train_pipeline\"\n",
    "train = load_component(source=f\"{components_dir}/train_src/train.yml\")\n",
    "predict = load_component(source=f\"{components_dir}/predict_src/predict.yml\")\n",
    "score = load_component(source=f\"{components_dir}/score_src/score.yml\")"
   ]
  },
  {
   "cell_type": "markdown",
   "metadata": {},
   "source": [
    "### 2.1.2 Define pipeline component with components"
   ]
  },
  {
   "cell_type": "code",
   "execution_count": null,
   "metadata": {},
   "outputs": [],
   "source": [
    "@pipeline\n",
    "def train_pipeline(\n",
    "    train_data: Input,\n",
    "    compute_train_node: str,\n",
    "):\n",
    "    \"\"\"pipeline component with train, predict and score defined via yaml.\"\"\"\n",
    "    # Call component obj as function: apply given inputs & parameters to create a node in pipeline\n",
    "    train_node = train(\n",
    "        train_data=train_data,\n",
    "    )\n",
    "    train_node.compute = compute_train_node\n",
    "    predict_node = predict(\n",
    "        model_input=train_node.outputs.model_output,\n",
    "        test_data=train_node.outputs.test_data,\n",
    "    )\n",
    "    score_node = score(\n",
    "        predictions=predict_node.outputs.predictions,\n",
    "        model=train_node.outputs.model_output,\n",
    "    )\n",
    "    # Return: pipeline outputs\n",
    "    return {\n",
    "        \"trained_model\": train_node.outputs.model_output,\n",
    "        \"predictions\": predict_node.outputs.predictions,\n",
    "        \"score_report\": score_node.outputs.score_report,\n",
    "    }"
   ]
  },
  {
   "cell_type": "markdown",
   "metadata": {},
   "source": [
    "### 2.1.3 (Optional) Create pipeline component to workspace"
   ]
  },
  {
   "cell_type": "code",
   "execution_count": null,
   "metadata": {},
   "outputs": [],
   "source": [
    "registered_train_pipeline_component = ml_client.components.create_or_update(\n",
    "    train_pipeline\n",
    ")"
   ]
  },
  {
   "cell_type": "markdown",
   "metadata": {},
   "source": [
    "# 3. Build nyc_taxi_data_regression pipeline job\n",
    "## 3.1 Build pipeline"
   ]
  },
  {
   "cell_type": "code",
   "execution_count": null,
   "metadata": {},
   "outputs": [],
   "source": [
    "# Construct pipeline\n",
    "@pipeline\n",
    "def nyc_taxi_data_regression(\n",
    "    pipeline_raw_data: Input,\n",
    "    compute_train_node: str,\n",
    "):\n",
    "    # Use data pipeline component\n",
    "    data_pipeline_node = data_pipeline(\n",
    "        raw_data=pipeline_raw_data,\n",
    "    )\n",
    "    # Use train pipeline component\n",
    "    train_pipeline_node = train_pipeline(\n",
    "        train_data=data_pipeline_node.outputs.train_data,\n",
    "        compute_train_node=compute_train_node,\n",
    "    )\n",
    "    # Return: pipeline outputs\n",
    "    return {\n",
    "        \"pipeline_job_trained_model\": train_pipeline_node.outputs.trained_model,\n",
    "        \"pipeline_job_predictions\": train_pipeline_node.outputs.predictions,\n",
    "        \"pipeline_job_score_report\": train_pipeline_node.outputs.score_report,\n",
    "    }\n",
    "\n",
    "\n",
    "pipeline_job = nyc_taxi_data_regression(\n",
    "    pipeline_raw_data=Input(type=\"uri_folder\", path=\"./data/\"),\n",
    "    compute_train_node=\"gpu-cluster\",\n",
    ")\n",
    "\n",
    "# set pipeline level compute\n",
    "pipeline_job.settings.default_compute = \"cpu-cluster\""
   ]
  },
  {
   "cell_type": "code",
   "execution_count": null,
   "metadata": {},
   "outputs": [],
   "source": [
    "# Inspect built pipeline\n",
    "print(pipeline_job)"
   ]
  },
  {
   "cell_type": "markdown",
   "metadata": {},
   "source": [
    "## 3.2 Submit pipeline job"
   ]
  },
  {
   "cell_type": "code",
   "execution_count": null,
   "metadata": {},
   "outputs": [],
   "source": [
    "# Submit pipeline job to workspace\n",
    "pipeline_job = ml_client.jobs.create_or_update(\n",
    "    pipeline_job, experiment_name=\"nyc_taxi_data_regression_with_pipeline_component\"\n",
    ")\n",
    "pipeline_job"
   ]
  },
  {
   "cell_type": "code",
   "execution_count": null,
   "metadata": {},
   "outputs": [],
   "source": [
    "# Wait until the job completes\n",
    "ml_client.jobs.stream(pipeline_job.name)"
   ]
  },
  {
   "cell_type": "markdown",
   "metadata": {},
   "source": [
    "# Next Steps\n",
    "You can see further examples of running a pipeline job [here](../README.md)"
   ]
  }
 ],
 "metadata": {
  "description": {
   "description": "Create pipeline with CommandComponents from local YAML file"
  },
  "kernelspec": {
   "display_name": "Python 3.10 - SDK V2",
   "language": "python",
   "name": "python310-sdkv2"
  },
  "language_info": {
   "codemirror_mode": {
    "name": "ipython",
    "version": 3
   },
   "file_extension": ".py",
   "mimetype": "text/x-python",
   "name": "python",
   "nbconvert_exporter": "python",
   "pygments_lexer": "ipython3",
   "version": "3.8.12"
  }
 },
 "nbformat": 4,
 "nbformat_minor": 2
}
