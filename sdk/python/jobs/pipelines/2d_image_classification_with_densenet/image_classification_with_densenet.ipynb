{
 "cells": [
  {
   "cell_type": "markdown",
   "metadata": {},
   "source": [
    "# Image classification distributed training\n",
    "\n",
    "**Requirements** - In order to benefit from this tutorial, you will need:\n",
    "- A basic understanding of Machine Learning\n",
    "- An Azure account with an active subscription - [Create an account for free](https://azure.microsoft.com/free/?WT.mc_id=A261C142F)\n",
    "- An Azure ML workspace with computer cluster - [Configure workspace](../../configuration.ipynb)\n",
    "- A python environment\n",
    "- Installed Azure Machine Learning Python SDK v2 - [install instructions](../../../README.md) - check the getting started section\n",
    "\n",
    "**Learning Objectives** - By the end of this tutorial, you should be able to:\n",
    "- Connect to your AML workspace from the Python SDK\n",
    "- Create `Pipeline` with components\n",
    "\n",
    "**Motivations** -This is a sample to demonstrate distributed training in azure machine learning. In this pipeline, we use components to do image preprocessing on cpu nodes, and a mpi custom component on distributed gpu nodes."
   ]
  },
  {
   "cell_type": "markdown",
   "metadata": {},
   "source": [
    "# 1. Connect to Azure Machine Learning Workspace\n",
    "\n",
    "The [workspace](https://docs.microsoft.com/en-us/azure/machine-learning/concept-workspace) is the top-level resource for Azure Machine Learning, providing a centralized place to work with all the artifacts you create when you use Azure Machine Learning. In this section we will connect to the workspace in which the job will be run.\n",
    "\n",
    "## 1.1 Import the required libraries"
   ]
  },
  {
   "cell_type": "code",
   "execution_count": null,
   "metadata": {},
   "outputs": [],
   "source": [
    "# import required libraries\n",
    "from azure.identity import DefaultAzureCredential, InteractiveBrowserCredential\n",
    "\n",
    "from azure.ai.ml import MLClient, Input\n",
    "from azure.ai.ml.dsl import pipeline\n",
    "from azure.ai.ml import load_component"
   ]
  },
  {
   "cell_type": "markdown",
   "metadata": {},
   "source": [
    "## 1.2 Configure credential\n",
    "\n",
    "We are using `DefaultAzureCredential` to get access to workspace. \n",
    "`DefaultAzureCredential` should be capable of handling most Azure SDK authentication scenarios. \n",
    "\n",
    "Reference for more available credentials if it does not work for you: [configure credential example](../../configuration.ipynb), [azure-identity reference doc](https://docs.microsoft.com/en-us/python/api/azure-identity/azure.identity?view=azure-python)."
   ]
  },
  {
   "cell_type": "code",
   "execution_count": null,
   "metadata": {},
   "outputs": [],
   "source": [
    "try:\n",
    "    credential = DefaultAzureCredential()\n",
    "    # Check if given credential can get token successfully.\n",
    "    credential.get_token(\"https://management.azure.com/.default\")\n",
    "except Exception as ex:\n",
    "    # Fall back to InteractiveBrowserCredential in case DefaultAzureCredential not work\n",
    "    credential = InteractiveBrowserCredential()"
   ]
  },
  {
   "cell_type": "markdown",
   "metadata": {},
   "source": [
    "## 1.3 Get a handle to the workspace\n",
    "\n",
    "We use config file to connect to a workspace. The Azure ML workspace should be configured with computer cluster. [Check this notebook for configure a workspace](../../configuration.ipynb)"
   ]
  },
  {
   "cell_type": "code",
   "execution_count": null,
   "metadata": {},
   "outputs": [],
   "source": [
    "# Get a handle to workspace\n",
    "ml_client = MLClient.from_config(credential=credential)\n",
    "\n",
    "# Retrieve an already attached Azure Machine Learning Compute.\n",
    "cpu_compute_target = \"cpu-cluster\"\n",
    "print(ml_client.compute.get(cpu_compute_target))\n",
    "gpu_compute_target = \"gpu-cluster\"\n",
    "print(ml_client.compute.get(gpu_compute_target))"
   ]
  },
  {
   "cell_type": "markdown",
   "metadata": {},
   "source": [
    "## Prepare dataset\n",
    "This dataset is a subset of the [Open Images Dataset](https://storage.googleapis.com/openimages/web/index.html).\n",
    "- training dataset contains 24 images (3 categories * 8 images per category)\n",
    "- validation dataset contains 6 images (3 categories * 2 images per category)\n",
    "\n",
    "This is a extremely small dataset only for demo usage for this notebook. Use larger datasets to train models for production usage. \n",
    "\n",
    "NOTE: Use zip file here to avoid performance issue of mounting file dataset with many subfolders."
   ]
  },
  {
   "cell_type": "code",
   "execution_count": null,
   "metadata": {},
   "outputs": [],
   "source": [
    "train_image_dataset = Input(name=\"TrainData\", type=\"uri_folder\", path=\"./data/train\")\n",
    "val_image_dataset = Input(name=\"ValidData\", type=\"uri_folder\", path=\"./data/val\")"
   ]
  },
  {
   "cell_type": "markdown",
   "metadata": {},
   "source": [
    "# 2. Define command component via YAML\n",
    "Below is a basic example to define command component  using YAML.\n"
   ]
  },
  {
   "cell_type": "code",
   "execution_count": null,
   "metadata": {},
   "outputs": [],
   "source": [
    "apply_transform = load_component(\n",
    "    source=\"./apply_image_transformation/apply_image_transformation.yaml\"\n",
    ")\n",
    "convert = load_component(\n",
    "    source=\"./convert_to_image_directory/convert_to_image_directory.yaml\"\n",
    ")\n",
    "init_transform = load_component(\n",
    "    source=\"./init_image_transformation/init_image_transformation.yaml\"\n",
    ")\n",
    "\n",
    "# this train component is an mpi component.\n",
    "imagecnn_train = load_component(source=\"./imagecnn_train/entry.spec.yaml\")"
   ]
  },
  {
   "cell_type": "markdown",
   "metadata": {},
   "source": [
    "# 3. Basic pipeline job\n",
    "\n",
    "## 3.1 Build pipeline"
   ]
  },
  {
   "cell_type": "code",
   "execution_count": null,
   "metadata": {},
   "outputs": [],
   "source": [
    "# define pipeline\n",
    "@pipeline(\n",
    "    default_compute=cpu_compute_target,\n",
    ")\n",
    "def image_classification_with_densenet():\n",
    "    \"\"\"E2E image classification pipeline with densenet.\"\"\"\n",
    "    convert_train = convert(input_path=train_image_dataset)\n",
    "\n",
    "    convert_val = convert(input_path=val_image_dataset)\n",
    "\n",
    "    init_image_transformation = init_transform(\n",
    "        resize=\"False\",\n",
    "        size=256,\n",
    "        center_crop=\"False\",\n",
    "        crop_size=224,\n",
    "        pad=\"False\",\n",
    "        padding=0,\n",
    "        color_jitter=\"False\",\n",
    "        grayscale=\"False\",\n",
    "        random_resized_crop=\"False\",\n",
    "        random_resized_crop_size=256,\n",
    "        random_crop=\"False\",\n",
    "        random_crop_size=224,\n",
    "        random_horizontal_flip=\"True\",\n",
    "        random_vertical_flip=\"False\",\n",
    "        random_rotation=\"False\",\n",
    "        random_rotation_degrees=0,\n",
    "        random_affine=\"False\",\n",
    "        random_affine_degrees=0,\n",
    "        random_grayscale=\"False\",\n",
    "        random_perspective=\"False\",\n",
    "    )\n",
    "\n",
    "    apply_trans_on_train = apply_transform(\n",
    "        mode=\"For training\",\n",
    "        input_image_transform_path=init_image_transformation.outputs.output_path,\n",
    "        input_image_dir_path=convert_train.outputs.output_path,\n",
    "    )\n",
    "\n",
    "    apply_trans_on_val = apply_transform(\n",
    "        mode=\"For inference\",\n",
    "        input_image_transform_path=init_image_transformation.outputs.output_path,\n",
    "        input_image_dir_path=convert_val.outputs.output_path,\n",
    "    )\n",
    "\n",
    "    imagecnn_train_gpu = imagecnn_train(\n",
    "        train_data=apply_trans_on_train.outputs.output_path,\n",
    "        valid_data=apply_trans_on_val.outputs.output_path,\n",
    "        data_backend=\"pytorch\",\n",
    "        arch=\"resnet50\",\n",
    "        model_config=\"classic\",\n",
    "        workers=5,\n",
    "        epochs=4,\n",
    "        batch_size=16,\n",
    "        optimizer_batch_size=-1,\n",
    "        lr=0.1,\n",
    "        lr_schedule=\"step\",\n",
    "        warmup=0,\n",
    "        label_smoothing=0.0,\n",
    "        mixup=0.0,\n",
    "        momentum=0.9,\n",
    "        weight_decay=0.0001,\n",
    "        print_freq=10,\n",
    "        resume=\"\",\n",
    "        pretrained_weights=\"\",\n",
    "        static_loss_scale=1.0,\n",
    "        prof=-1,\n",
    "        seed=123,\n",
    "        raport_file=\"experiment_raport.json\",\n",
    "        save_checkpoint_epochs=2,\n",
    "    )\n",
    "    imagecnn_train_gpu.compute = gpu_compute_target\n",
    "    imagecnn_train_gpu.resources.instance_count = 1\n",
    "\n",
    "\n",
    "# create a pipeline\n",
    "pipeline_job = image_classification_with_densenet()"
   ]
  },
  {
   "cell_type": "code",
   "execution_count": null,
   "metadata": {},
   "outputs": [],
   "source": [
    "print(pipeline_job)"
   ]
  },
  {
   "cell_type": "markdown",
   "metadata": {},
   "source": [
    "# 3.2 Submit pipeline job"
   ]
  },
  {
   "cell_type": "code",
   "execution_count": null,
   "metadata": {},
   "outputs": [],
   "source": [
    "pipeline_job = ml_client.jobs.create_or_update(\n",
    "    pipeline_job, experiment_name=\"pipeline_samples\"\n",
    ")\n",
    "pipeline_job"
   ]
  },
  {
   "cell_type": "code",
   "execution_count": null,
   "metadata": {},
   "outputs": [],
   "source": [
    "# Wait until the job completes\n",
    "ml_client.jobs.stream(pipeline_job.name)"
   ]
  },
  {
   "cell_type": "markdown",
   "metadata": {},
   "source": [
    "# Next Steps\n",
    "You can see further examples of running a pipeline job [here](../)"
   ]
  }
 ],
 "metadata": {
  "description": {
   "description": "Create pipeline to train cnn image classification model"
  },
  "interpreter": {
   "hash": "3e9e0e270b75c5e6da2e22113ba4f77b864d68f95da6601809c29e46c73ae6bb"
  },
  "kernelspec": {
   "display_name": "Python 3.10 - SDK V2",
   "language": "python",
   "name": "python310-sdkv2"
  },
  "language_info": {
   "codemirror_mode": {
    "name": "ipython",
    "version": 3
   },
   "file_extension": ".py",
   "mimetype": "text/x-python",
   "name": "python",
   "nbconvert_exporter": "python",
   "pygments_lexer": "ipython3",
   "version": "3.7.6"
  }
 },
 "nbformat": 4,
 "nbformat_minor": 2
}
