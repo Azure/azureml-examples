{
 "cells": [
  {
   "cell_type": "markdown",
   "metadata": {},
   "source": [
    "# Build pipeline with command_component decorated python function\n",
    "\n",
    "**Requirements** - In order to benefit from this tutorial, you will need:\n",
    "- A basic understanding of Machine Learning\n",
    "- An Azure account with an active subscription - [Create an account for free](https://azure.microsoft.com/free/?WT.mc_id=A261C142F)\n",
    "- An Azure ML workspace with computer cluster - [Configure workspace](../../configuration.ipynb)\n",
    "- A python environment\n",
    "- Installed Azure Machine Learning Python SDK v2 - [install instructions](../../../README.md) - check the getting started section\n",
    "\n",
    "**Learning Objectives** - By the end of this tutorial, you should be able to:\n",
    "- Connect to your AML workspace from the Python SDK\n",
    "- Define `CommandComponent` using python function and `command_component` decorator\n",
    "- Create `Pipeline` using component defined by `command_component`\n",
    "\n",
    "**Motivations** - This notebook explains how to define `CommandComponent` via Python function and `@command_component` decorator, then use command component to build pipeline.  "
   ]
  },
  {
   "cell_type": "markdown",
   "metadata": {},
   "source": [
    "# 1. Connect to Azure Machine Learning Workspace\n",
    "\n",
    "The [workspace](https://docs.microsoft.com/en-us/azure/machine-learning/concept-workspace) is the top-level resource for Azure Machine Learning, providing a centralized place to work with all the artifacts you create when you use Azure Machine Learning. In this section we will connect to the workspace in which the job will be run.\n",
    "\n",
    "## 1.1 Import the required libraries"
   ]
  },
  {
   "cell_type": "code",
   "execution_count": 9,
   "metadata": {},
   "outputs": [],
   "source": [
    "# import required libraries\n",
    "from azure.identity import DefaultAzureCredential, InteractiveBrowserCredential\n",
    "\n",
    "from azure.ai.ml import MLClient, Input, Output\n",
    "from azure.ai.ml.dsl import pipeline"
   ]
  },
  {
   "cell_type": "markdown",
   "metadata": {},
   "source": [
    "## 1.2 Configure credential\n",
    "\n",
    "We are using `DefaultAzureCredential` to get access to workspace. \n",
    "`DefaultAzureCredential` should be capable of handling most Azure SDK authentication scenarios. \n",
    "\n",
    "Reference for more available credentials if it does not work for you: [configure credential example](../../configuration.ipynb), [azure-identity reference doc](https://docs.microsoft.com/en-us/python/api/azure-identity/azure.identity?view=azure-python)."
   ]
  },
  {
   "cell_type": "code",
   "execution_count": 2,
   "metadata": {},
   "outputs": [
    {
     "name": "stderr",
     "output_type": "stream",
     "text": [
      "DefaultAzureCredential failed to retrieve a token from the included credentials.\n",
      "Attempted credentials:\n",
      "\tEnvironmentCredential: EnvironmentCredential authentication unavailable. Environment variables are not fully configured.\n",
      "Visit https://aka.ms/azsdk/python/identity/environmentcredential/troubleshoot to troubleshoot.this issue.\n",
      "\tManagedIdentityCredential: ManagedIdentityCredential authentication unavailable, no response from the IMDS endpoint.\n",
      "\tSharedTokenCacheCredential: Shared token cache unavailable\n",
      "\tVisualStudioCodeCredential: Azure Active Directory error '(invalid_grant) AADSTS700082: The refresh token has expired due to inactivity. The token was issued on 2022-01-12T00:05:41.8429245Z and was inactive for 90.00:00:00.\n",
      "Trace ID: 8d7734b2-9e4b-48d0-aaff-1ca162111700\n",
      "Correlation ID: 7f897184-e9e7-4a85-92b9-c69ddcfb8573\n",
      "Timestamp: 2022-10-20 00:08:05Z'\n",
      "Content: {\"error\":\"invalid_grant\",\"error_description\":\"AADSTS700082: The refresh token has expired due to inactivity. The token was issued on 2022-01-12T00:05:41.8429245Z and was inactive for 90.00:00:00.\\r\\nTrace ID: 8d7734b2-9e4b-48d0-aaff-1ca162111700\\r\\nCorrelation ID: 7f897184-e9e7-4a85-92b9-c69ddcfb8573\\r\\nTimestamp: 2022-10-20 00:08:05Z\",\"error_codes\":[700082],\"timestamp\":\"2022-10-20 00:08:05Z\",\"trace_id\":\"8d7734b2-9e4b-48d0-aaff-1ca162111700\",\"correlation_id\":\"7f897184-e9e7-4a85-92b9-c69ddcfb8573\",\"error_uri\":\"https://login.microsoftonline.com/error?code=700082\"}\n",
      "To mitigate this issue, please refer to the troubleshooting guidelines here at https://aka.ms/azsdk/python/identity/defaultazurecredential/troubleshoot.\n"
     ]
    }
   ],
   "source": [
    "try:\n",
    "    credential = DefaultAzureCredential()\n",
    "    # Check if given credential can get token successfully.\n",
    "    credential.get_token(\"https://management.azure.com/.default\")\n",
    "except Exception as ex:\n",
    "    # Fall back to InteractiveBrowserCredential in case DefaultAzureCredential not work\n",
    "    credential = InteractiveBrowserCredential()"
   ]
  },
  {
   "cell_type": "markdown",
   "metadata": {},
   "source": [
    "## 1.3 Get a handle to the workspace\n",
    "\n",
    "We use config file to connect to a workspace. The Azure ML workspace should be configured with computer cluster. [Check this notebook for configure a workspace](../../configuration.ipynb)"
   ]
  },
  {
   "cell_type": "code",
   "execution_count": 3,
   "metadata": {},
   "outputs": [
    {
     "name": "stderr",
     "output_type": "stream",
     "text": [
      "Found the config file in: D:\\azureml-examples\\config.json\n",
      "Class RegistryOperations: This is an experimental class, and may change at any time. Please see https://aka.ms/azuremlexperimental for more information.\n"
     ]
    },
    {
     "name": "stdout",
     "output_type": "stream",
     "text": [
      "AmlCompute({'type': 'amlcompute', 'created_on': None, 'provisioning_state': 'Succeeded', 'provisioning_errors': None, 'name': 'cpu-cluster', 'description': None, 'tags': {}, 'properties': {}, 'id': '/subscriptions/6560575d-fa06-4e7d-95fb-f962e74efd7a/resourceGroups/azureml-examples-v2/providers/Microsoft.MachineLearningServices/workspaces/main/computes/cpu-cluster', 'Resource__source_path': None, 'base_path': 'd:\\\\azureml-examples\\\\sdk\\\\python\\\\jobs\\\\pipelines\\\\1b_pipeline_with_python_function_components', 'creation_context': None, 'serialize': <msrest.serialization.Serializer object at 0x00000250019F7940>, 'resource_id': None, 'location': 'eastus', 'size': 'STANDARD_D2_V2', 'min_instances': 0, 'max_instances': 40, 'idle_time_before_scale_down': 1800.0, 'identity': None, 'ssh_public_access_enabled': True, 'ssh_settings': None, 'network_settings': <azure.ai.ml.entities._compute.compute.NetworkSettings object at 0x00000250019F7700>, 'tier': 'dedicated', 'subnet': None})\n"
     ]
    }
   ],
   "source": [
    "# Get a handle to workspace\n",
    "ml_client = MLClient.from_config(credential=credential)\n",
    "\n",
    "# Retrieve an already attached Azure Machine Learning Compute.\n",
    "cluster_name = \"cpu-cluster\"\n",
    "print(ml_client.compute.get(cluster_name))"
   ]
  },
  {
   "cell_type": "markdown",
   "metadata": {},
   "source": [
    "# 2. Import components that are defined with python function\n",
    "\n",
    "We defined three sample components using `command_component` decorator in [components.py](src/components.py)."
   ]
  },
  {
   "cell_type": "code",
   "execution_count": 4,
   "metadata": {},
   "outputs": [
    {
     "name": "stdout",
     "output_type": "stream",
     "text": [
      "from pathlib import Path\n",
      "from random import randint\n",
      "from uuid import uuid4\n",
      "\n",
      "# mldesigner package contains the command_component which can be used to define component from a python function\n",
      "from mldesigner import command_component, Input, Output\n",
      "\n",
      "\n",
      "@command_component()\n",
      "def train_model(\n",
      "    training_data: Input(type=\"uri_file\"),\n",
      "    max_epochs: int,\n",
      "    model_output: Output(type=\"uri_folder\"),\n",
      "    learning_rate=0.02,\n",
      "):\n",
      "    \"\"\"A dummy train component.\n",
      "\n",
      "    Args:\n",
      "        training_data: a file contains training data\n",
      "        max_epochs: max epochs\n",
      "        learning_rate: learning rate\n",
      "        model_output: target folder to save model output\n",
      "    \"\"\"\n",
      "\n",
      "    lines = [\n",
      "        f\"Training data path: {training_data}\",\n",
      "        f\"Max epochs: {max_epochs}\",\n",
      "        f\"Learning rate: {learning_rate}\",\n",
      "        f\"Model output path: {model_output}\",\n",
      "    ]\n",
      "\n",
      "    for line in lines:\n",
      "        print(line)\n",
      "\n",
      "    # Do the train and save the trained model as a file into the output folder.\n",
      "    # Here only output a dummy data for demo.\n",
      "    model = str(uuid4())\n",
      "    (Path(model_output) / \"model\").write_text(model)\n",
      "\n",
      "\n",
      "# init customer environment with conda YAML\n",
      "# the YAML file shall be put under your code folder.\n",
      "conda_env = dict(\n",
      "    # note that mldesigner package must be included.\n",
      "    conda_file=Path(__file__).parent / \"conda.yaml\",\n",
      "    image=\"mcr.microsoft.com/azureml/openmpi3.1.2-ubuntu18.04\",\n",
      ")\n",
      "\n",
      "\n",
      "@command_component(\n",
      "    display_name=\"Score\",\n",
      "    environment=conda_env,\n",
      "    # specify your code folder, default code folder is current file's parent\n",
      "    # code='.'\n",
      ")\n",
      "def score_data(\n",
      "    model_input: Input(type=\"uri_folder\"),\n",
      "    test_data: Input(type=\"uri_file\"),\n",
      "    score_output: Output(type=\"uri_folder\"),\n",
      "):\n",
      "    \"\"\"A dummy score component.\"\"\"\n",
      "\n",
      "    lines = [\n",
      "        f\"Model path: {model_input}\",\n",
      "        f\"Test data path: {test_data}\",\n",
      "        f\"Scoring output path: {score_output}\",\n",
      "    ]\n",
      "\n",
      "    for line in lines:\n",
      "        print(line)\n",
      "\n",
      "    # Load the model from input port\n",
      "    # Here only print the model as text since it is a dummy one\n",
      "    model = (Path(model_input) / \"model\").read_text()\n",
      "    print(\"Model:\", model)\n",
      "\n",
      "    # Do scoring with the input model\n",
      "    # Here only print text to output file as demo\n",
      "    (Path(score_output) / \"score\").write_text(\"scored with {}\".format(model))\n",
      "\n",
      "\n",
      "@command_component(display_name=\"Evaluate\", environment=conda_env)\n",
      "def eval_model(\n",
      "    scoring_result: Input(type=\"uri_folder\"), eval_output: Output(type=\"uri_folder\")\n",
      "):\n",
      "    \"\"\"A dummy evaluate component.\"\"\"\n",
      "\n",
      "    lines = [\n",
      "        f\"Scoring result path: {scoring_result}\",\n",
      "        f\"Evaluation output path: {eval_output}\",\n",
      "    ]\n",
      "\n",
      "    for line in lines:\n",
      "        print(line)\n",
      "\n",
      "    # Evaluate the incoming scoring result and output evaluation result.\n",
      "    # Here only output a dummy file for demo.\n",
      "    (Path(eval_output) / \"eval_result\").write_text(\"eval_result\")\n",
      "\n"
     ]
    }
   ],
   "source": [
    "with open(\"src/components.py\") as fin:\n",
    "    print(fin.read())"
   ]
  },
  {
   "cell_type": "markdown",
   "metadata": {},
   "source": [
    "**Note**: you need to install `mldesigner` package to use command_component decorator. \n",
    "\n",
    "`mldesigner` is a python SDK package designed to ease the authoring experience of components and pipelines."
   ]
  },
  {
   "cell_type": "code",
   "execution_count": 5,
   "metadata": {},
   "outputs": [],
   "source": [
    "# Option 1: install directly\n",
    "# %pip install mldesigner\n",
    "\n",
    "# Option 2: install as an extra dependency of azure-ai-ml\n",
    "# %pip install azure-ai-ml[designer]"
   ]
  },
  {
   "cell_type": "code",
   "execution_count": 6,
   "metadata": {},
   "outputs": [
    {
     "name": "stdout",
     "output_type": "stream",
     "text": [
      "Help on function train_model in module src.components:\n",
      "\n",
      "train_model(training_data: <mldesigner._input_output.Input object at 0x0000025001B1B0A0>, max_epochs: int, model_output: <mldesigner._input_output.Output object at 0x0000025001B1B160>, learning_rate=0.02)\n",
      "    A dummy train component.\n",
      "    \n",
      "    Args:\n",
      "        training_data: a file contains training data\n",
      "        max_epochs: max epochs\n",
      "        learning_rate: learning rate\n",
      "        model_output: target folder to save model output\n",
      "\n"
     ]
    }
   ],
   "source": [
    "%load_ext autoreload\n",
    "%autoreload 2\n",
    "# import the components as functions\n",
    "from src.components import train_model, score_data, eval_model\n",
    "\n",
    "help(train_model)"
   ]
  },
  {
   "cell_type": "markdown",
   "metadata": {},
   "source": [
    "You can also register component functions to workspace use `ml_client.components.create_or_update()`."
   ]
  },
  {
   "cell_type": "code",
   "execution_count": 7,
   "metadata": {},
   "outputs": [
    {
     "name": "stdout",
     "output_type": "stream",
     "text": [
      "<function train_model at 0x0000025001F68820>\n"
     ]
    }
   ],
   "source": [
    "print(train_model)"
   ]
  },
  {
   "cell_type": "markdown",
   "metadata": {},
   "source": [
    "# 3. Sample pipeline job\n",
    "\n",
    "## 3.1 Build pipeline"
   ]
  },
  {
   "cell_type": "code",
   "execution_count": 17,
   "metadata": {},
   "outputs": [],
   "source": [
    "cluster_name = \"cpu-cluster\"\n",
    "# define a pipeline with component\n",
    "@pipeline(default_compute=cluster_name)\n",
    "def pipeline_with_python_function_components(input_data, test_data, learning_rate):\n",
    "    \"\"\"E2E dummy train-score-eval pipeline with components defined via python function components\"\"\"\n",
    "\n",
    "    # Call component obj as function: apply given inputs & parameters to create a node in pipeline\n",
    "    train_with_sample_data = train_model(\n",
    "        training_data=input_data, max_epochs=5, learning_rate=learning_rate\n",
    "    )\n",
    "    score_with_sample_data = score_data(\n",
    "        model_input=train_with_sample_data.outputs.model_output, test_data=test_data\n",
    "    )\n",
    "    # example how to change path of output on step level, please note the if the output is promote to pipeline level you need to change path in pipeline job level\n",
    "    score_with_sample_data.outputs.score_output=Output(type='uri_folder', mode='rw_mount', path='azureml://datastores/workspaceblobstore/paths/${{name}}/')\n",
    "    eval_with_sample_data = eval_model(\n",
    "        scoring_result=score_with_sample_data.outputs.score_output\n",
    "    )\n",
    "\n",
    "    # Return: pipeline outputs\n",
    "    return {\n",
    "        \"eval_output\": eval_with_sample_data.outputs.eval_output,\n",
    "        \"model_output\": train_with_sample_data.outputs.model_output,\n",
    "    }\n",
    "\n",
    "\n",
    "pipeline_job = pipeline_with_python_function_components(\n",
    "    input_data=Input(\n",
    "        path=\"wasbs://demo@dprepdata.blob.core.windows.net/Titanic.csv\", type=\"uri_file\"\n",
    "    ),\n",
    "    test_data=Input(\n",
    "        path=\"wasbs://demo@dprepdata.blob.core.windows.net/Titanic.csv\", type=\"uri_file\"\n",
    "    ),\n",
    "    learning_rate=0.1,\n",
    ")\n",
    "# example how to change path of output on pipeline level\n",
    "pipeline_job.outputs.model_output=Output(type='uri_folder', mode='rw_mount', path='azureml://datastores/workspaceblobstore/paths/${{name}}/')"
   ]
  },
  {
   "cell_type": "markdown",
   "metadata": {},
   "source": [
    "# 3.2 Submit pipeline job"
   ]
  },
  {
   "cell_type": "code",
   "execution_count": 18,
   "metadata": {},
   "outputs": [
    {
     "data": {
      "text/html": [
       "<table style=\"width:100%\"><tr><th>Experiment</th><th>Name</th><th>Type</th><th>Status</th><th>Details Page</th></tr><tr><td>pipeline_samples</td><td>dynamic_honey_9plyw9cfzf</td><td>pipeline</td><td>Preparing</td><td><a href=\"https://ml.azure.com/runs/dynamic_honey_9plyw9cfzf?wsid=/subscriptions/6560575d-fa06-4e7d-95fb-f962e74efd7a/resourcegroups/azureml-examples-v2/workspaces/main&amp;tid=72f988bf-86f1-41af-91ab-2d7cd011db47\" target=\"_blank\" rel=\"noopener\">Link to Azure Machine Learning studio</a></td></tr></table>"
      ],
      "text/plain": [
       "PipelineJob({'inputs': {'input_data': <azure.ai.ml.entities._job.pipeline._io.PipelineInput object at 0x00000250038193A0>, 'test_data': <azure.ai.ml.entities._job.pipeline._io.PipelineInput object at 0x00000250038193D0>, 'learning_rate': <azure.ai.ml.entities._job.pipeline._io.PipelineInput object at 0x0000025003819400>}, 'outputs': {'eval_output': <azure.ai.ml.entities._job.pipeline._io.PipelineOutput object at 0x0000025003819460>, 'model_output': <azure.ai.ml.entities._job.pipeline._io.PipelineOutput object at 0x0000025003819490>}, 'jobs': {}, 'component': PipelineComponent({'auto_increment_version': False, 'source': 'REMOTE.WORKSPACE.JOB', 'is_anonymous': True, 'name': 'azureml_anonymous', 'description': 'E2E dummy train-score-eval pipeline with components defined via python function components', 'tags': {}, 'properties': {}, 'id': None, 'Resource__source_path': None, 'base_path': None, 'creation_context': None, 'serialize': <msrest.serialization.Serializer object at 0x0000025003809EB0>, 'version': '1', 'latest_version': None, 'schema': None, 'type': 'pipeline', 'display_name': 'pipeline_with_python_function_components', 'is_deterministic': None, 'inputs': {'input_data': {}, 'test_data': {}, 'learning_rate': {}}, 'outputs': {'eval_output': {}, 'model_output': {}}, 'yaml_str': None, 'other_parameter': {}, 'jobs': {'train_with_sample_data': Command({'parameters': {}, 'init': False, 'type': 'command', 'status': None, 'log_files': None, 'name': 'train_with_sample_data', 'description': None, 'tags': {}, 'properties': {}, 'id': None, 'Resource__source_path': None, 'base_path': None, 'creation_context': None, 'serialize': <msrest.serialization.Serializer object at 0x0000025003809B50>, 'allowed_keys': {}, 'key_restriction': False, 'logger': <Logger attr_dict (WARNING)>, 'display_name': None, 'experiment_name': None, 'compute': None, 'services': None, 'comment': None, 'job_inputs': {'max_epochs': '5', 'training_data': '${{parent.inputs.input_data}}', 'learning_rate': '${{parent.inputs.learning_rate}}'}, 'job_outputs': {'model_output': '${{parent.outputs.model_output}}'}, 'inputs': {'max_epochs': <azure.ai.ml.entities._job.pipeline._io.NodeInput object at 0x0000025003809BE0>, 'training_data': <azure.ai.ml.entities._job.pipeline._io.NodeInput object at 0x0000025003809BB0>, 'learning_rate': <azure.ai.ml.entities._job.pipeline._io.NodeInput object at 0x0000025003809B80>}, 'outputs': {'model_output': <azure.ai.ml.entities._job.pipeline._io.NodeOutput object at 0x0000025003809D00>}, 'component': 'azureml_anonymous:bc3cd975-d71a-4118-beae-0830a8eb1c1b', 'referenced_control_flow_node_instance_id': None, 'kwargs': {'services': None}, 'instance_id': '8cad58af-db49-4c68-9d72-38ddbc6d1232', 'source': 'REMOTE.WORKSPACE.COMPONENT', 'limits': None, 'identity': None, 'distribution': None, 'environment_variables': {}, 'environment': None, 'resources': None, 'swept': False}), 'score_with_sample_data': Command({'parameters': {}, 'init': False, 'type': 'command', 'status': None, 'log_files': None, 'name': 'score_with_sample_data', 'description': None, 'tags': {}, 'properties': {}, 'id': None, 'Resource__source_path': None, 'base_path': None, 'creation_context': None, 'serialize': <msrest.serialization.Serializer object at 0x0000025003809DC0>, 'allowed_keys': {}, 'key_restriction': False, 'logger': <Logger attr_dict (WARNING)>, 'display_name': None, 'experiment_name': None, 'compute': None, 'services': None, 'comment': None, 'job_inputs': {'model_input': '${{parent.jobs.train_with_sample_data.outputs.model_output}}', 'test_data': '${{parent.inputs.test_data}}'}, 'job_outputs': {'score_output': {'type': 'uri_folder', 'path': 'azureml://datastores/workspaceblobstore/paths/${{name}}/', 'mode': 'rw_mount'}}, 'inputs': {'model_input': <azure.ai.ml.entities._job.pipeline._io.NodeInput object at 0x0000025003809CD0>, 'test_data': <azure.ai.ml.entities._job.pipeline._io.NodeInput object at 0x0000025003809E20>}, 'outputs': {'score_output': <azure.ai.ml.entities._job.pipeline._io.NodeOutput object at 0x0000025003809D90>}, 'component': 'azureml_anonymous:e124e6b1-80fa-4979-a6ac-0b48dffc3246', 'referenced_control_flow_node_instance_id': None, 'kwargs': {'services': None}, 'instance_id': '7a17e34a-0350-48b6-b5e4-4a4309ff3a41', 'source': 'REMOTE.WORKSPACE.COMPONENT', 'limits': None, 'identity': None, 'distribution': None, 'environment_variables': {}, 'environment': None, 'resources': None, 'swept': False}), 'eval_with_sample_data': Command({'parameters': {}, 'init': False, 'type': 'command', 'status': None, 'log_files': None, 'name': 'eval_with_sample_data', 'description': None, 'tags': {}, 'properties': {}, 'id': None, 'Resource__source_path': None, 'base_path': None, 'creation_context': None, 'serialize': <msrest.serialization.Serializer object at 0x0000025003809910>, 'allowed_keys': {}, 'key_restriction': False, 'logger': <Logger attr_dict (WARNING)>, 'display_name': None, 'experiment_name': None, 'compute': None, 'services': None, 'comment': None, 'job_inputs': {'scoring_result': '${{parent.jobs.score_with_sample_data.outputs.score_output}}'}, 'job_outputs': {'eval_output': '${{parent.outputs.eval_output}}'}, 'inputs': {'scoring_result': <azure.ai.ml.entities._job.pipeline._io.NodeInput object at 0x0000025003809A90>}, 'outputs': {'eval_output': <azure.ai.ml.entities._job.pipeline._io.NodeOutput object at 0x0000025003809EE0>}, 'component': 'azureml_anonymous:cbb286fa-b5df-4ce0-8f2e-994e28a665aa', 'referenced_control_flow_node_instance_id': None, 'kwargs': {'services': None}, 'instance_id': '3c58a4d7-0251-4135-8177-4cc991422c32', 'source': 'REMOTE.WORKSPACE.COMPONENT', 'limits': None, 'identity': None, 'distribution': None, 'environment_variables': {}, 'environment': None, 'resources': None, 'swept': False})}, 'job_types': {'command': 3}, 'job_sources': {'REMOTE.WORKSPACE.COMPONENT': 3}, 'source_job_id': None}), 'type': 'pipeline', 'status': 'Preparing', 'log_files': None, 'name': 'dynamic_honey_9plyw9cfzf', 'description': 'E2E dummy train-score-eval pipeline with components defined via python function components', 'tags': {}, 'properties': {'mlflow.source.git.repoURL': 'https://github.com/Azure/azureml-examples.git', 'mlflow.source.git.branch': 'lochen/custom-output-path', 'mlflow.source.git.commit': 'cb470dfb5f94de70331e23051a053eed78027ed3', 'azureml.git.dirty': 'True', 'azureml.DevPlatv2': 'true', 'azureml.runsource': 'azureml.PipelineRun', 'runSource': 'MFE', 'runType': 'HTTP', 'azureml.parameters': '{\"learning_rate\":\"0.1\"}', 'azureml.continue_on_step_failure': 'False', 'azureml.continue_on_failed_optional_input': 'True', 'azureml.defaultComputeName': 'cpu-cluster', 'azureml.defaultDataStoreName': 'workspaceblobstore', 'azureml.pipelineComponent': 'pipelinerun'}, 'id': '/subscriptions/6560575d-fa06-4e7d-95fb-f962e74efd7a/resourceGroups/azureml-examples-v2/providers/Microsoft.MachineLearningServices/workspaces/main/jobs/dynamic_honey_9plyw9cfzf', 'Resource__source_path': None, 'base_path': 'd:\\\\azureml-examples\\\\sdk\\\\python\\\\jobs\\\\pipelines\\\\1b_pipeline_with_python_function_components', 'creation_context': <azure.ai.ml.entities._system_data.SystemData object at 0x0000025003819310>, 'serialize': <msrest.serialization.Serializer object at 0x00000250038194C0>, 'display_name': 'pipeline_with_python_function_components', 'experiment_name': 'pipeline_samples', 'compute': None, 'services': {'Tracking': <azure.ai.ml._restclient.v2022_10_01_preview.models._models_py3.JobService object at 0x0000025003809FD0>, 'Studio': <azure.ai.ml._restclient.v2022_10_01_preview.models._models_py3.JobService object at 0x0000025003819040>}, 'settings': {}, 'identity': None, 'default_code': None, 'default_environment': None})"
      ]
     },
     "execution_count": 18,
     "metadata": {},
     "output_type": "execute_result"
    }
   ],
   "source": [
    "# submit job to workspace\n",
    "pipeline_job = ml_client.jobs.create_or_update(\n",
    "    pipeline_job, experiment_name=\"pipeline_samples\"\n",
    ")\n",
    "pipeline_job"
   ]
  },
  {
   "cell_type": "code",
   "execution_count": null,
   "metadata": {},
   "outputs": [],
   "source": [
    "# Wait until the job completes\n",
    "ml_client.jobs.stream(pipeline_job.name)"
   ]
  },
  {
   "cell_type": "markdown",
   "metadata": {},
   "source": [
    "# Next Steps\n",
    "You can see further examples of running a pipeline job [here](../)"
   ]
  }
 ],
 "metadata": {
  "description": {
   "description": "Create pipeline with command_component decorator"
  },
  "kernelspec": {
   "display_name": "Python 3.8.12 ('sdk-preview')",
   "language": "python",
   "name": "python3"
  },
  "language_info": {
   "codemirror_mode": {
    "name": "ipython",
    "version": 3
   },
   "file_extension": ".py",
   "mimetype": "text/x-python",
   "name": "python",
   "nbconvert_exporter": "python",
   "pygments_lexer": "ipython3",
   "version": "3.8.12"
  },
  "vscode": {
   "interpreter": {
    "hash": "1324ca334ec51c2d7d081a2ba1becf817802a54f2b6ebeab7f4908360bcde2e0"
   }
  }
 },
 "nbformat": 4,
 "nbformat_minor": 2
}
