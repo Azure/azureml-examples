{
 "cells": [
  {
   "cell_type": "markdown",
   "metadata": {},
   "source": [
    "# Build pipeline with command function\n",
    "\n",
    "**Requirements** - In order to benefit from this tutorial, you will need:\n",
    "- A basic understanding of Machine Learning\n",
    "- An Azure account with an active subscription - [Create an account for free](https://azure.microsoft.com/free/?WT.mc_id=A261C142F)\n",
    "- An Azure ML workspace with computer cluster - [Configure workspace](../../configuration.ipynb)\n",
    "- A python environment\n",
    "- Installed Azure Machine Learning Python SDK v2 - [install instructions](../../../README.md) - check the getting started section\n",
    "\n",
    "**Learning Objectives** - By the end of this tutorial, you should be able to:\n",
    "- Connect to your AML workspace from the Python SDK\n",
    "- Define `CommandComponent` using command() function\n",
    "- Create `Pipeline` using component defined by command() function\n",
    "\n",
    "**Motivations** - This notebook explains how to define `CommandComponent` via command function, then use command component to build pipeline. The command component is a fundamental construct of Azure Machine Learning pipeline. It can be used to run a task on a specified compute (either local or on the cloud). The command component accepts `Environment` to setup required infrastructure. You can define a `Command` to run on this infrastructure with `inputs`. You can reuse the same `Component` with different pipeline.  "
   ]
  },
  {
   "cell_type": "markdown",
   "metadata": {},
   "source": [
    "# 1. Connect to Azure Machine Learning Workspace\n",
    "\n",
    "The [workspace](https://docs.microsoft.com/en-us/azure/machine-learning/concept-workspace) is the top-level resource for Azure Machine Learning, providing a centralized place to work with all the artifacts you create when you use Azure Machine Learning. In this section we will connect to the workspace in which the job will be run.\n",
    "\n",
    "## 1.1 Import the required libraries"
   ]
  },
  {
   "cell_type": "code",
   "execution_count": null,
   "metadata": {},
   "outputs": [],
   "source": [
    "# import required libraries\n",
    "from azure.identity import DefaultAzureCredential, InteractiveBrowserCredential\n",
    "\n",
    "from azure.ai.ml import MLClient, command, Input, Output\n",
    "from azure.ai.ml.dsl import pipeline\n",
    "from azure.ai.ml.entities import Environment, BuildContext, JobService"
   ]
  },
  {
   "cell_type": "markdown",
   "metadata": {},
   "source": [
    "## 1.2 Configure credential\n",
    "\n",
    "We are using `DefaultAzureCredential` to get access to workspace. \n",
    "`DefaultAzureCredential` should be capable of handling most Azure SDK authentication scenarios. \n",
    "\n",
    "Reference for more available credentials if it does not work for you: [configure credential example](../../configuration.ipynb), [azure-identity reference doc](https://docs.microsoft.com/en-us/python/api/azure-identity/azure.identity?view=azure-python)."
   ]
  },
  {
   "cell_type": "code",
   "execution_count": null,
   "metadata": {},
   "outputs": [],
   "source": [
    "try:\n",
    "    credential = DefaultAzureCredential()\n",
    "    # Check if given credential can get token successfully.\n",
    "    credential.get_token(\"https://management.azure.com/.default\")\n",
    "except Exception as ex:\n",
    "    # Fall back to InteractiveBrowserCredential in case DefaultAzureCredential not work\n",
    "    credential = InteractiveBrowserCredential()"
   ]
  },
  {
   "cell_type": "markdown",
   "metadata": {},
   "source": [
    "## 1.3 Get a handle to the workspace\n",
    "\n",
    "We use config file to connect to a workspace. The Azure ML workspace should be configured with computer cluster. [Check this notebook for configure a workspace](../../configuration.ipynb)"
   ]
  },
  {
   "cell_type": "code",
   "execution_count": null,
   "metadata": {},
   "outputs": [],
   "source": [
    "# Get a handle to workspace\n",
    "ml_client = MLClient.from_config(credential=credential)\n",
    "\n",
    "# Retrieve an already attached Azure Machine Learning Compute.\n",
    "cluster_name = \"cpu-cluster\"\n",
    "print(ml_client.compute.get(cluster_name))"
   ]
  },
  {
   "cell_type": "markdown",
   "metadata": {},
   "source": [
    "# 2. Define Command object via command function \n",
    "Use `command` function to create a `Command` object which can be used in `@pipeline` function.\n"
   ]
  },
  {
   "cell_type": "code",
   "execution_count": null,
   "metadata": {},
   "outputs": [],
   "source": [
    "download_url = \"https://azuremlexamples.blob.core.windows.net/datasets/iris.csv\"\n",
    "file_name = \"data.csv\"\n",
    "custom_path = \"azureml://datastores/workspaceblobstore/paths/custom_path/${{name}}/\"\n",
    "environment = \"AzureML-sklearn-1.0-ubuntu20.04-py38-cpu:1\"\n",
    "# 1. Create a command component to download a input data\n",
    "download_data = command(\n",
    "    name=\"download-input\",\n",
    "    display_name=\"Download Data\",\n",
    "    description=\"Download a input from remote URL and return it in output.\",\n",
    "    tags=dict(),\n",
    "    command=\"curl ${{inputs.url}} > ${{outputs.output_folder}}/${{inputs.file_name}}\",\n",
    "    environment=environment,\n",
    "    inputs=dict(url=download_url, file_name=file_name),\n",
    "    # example how to change path of output on step level,\n",
    "    # please note if the output is promoted to pipeline level you need to change path in pipeline job level\n",
    "    outputs=dict(\n",
    "        output_folder=Output(type=\"uri_folder\", mode=\"rw_mount\", path=custom_path)\n",
    "    ),\n",
    ")\n",
    "# 2. Create a R script command to train data\n",
    "train_data_with_r = command(\n",
    "    name=\"train-data-with-R\",\n",
    "    display_name=\"Train Data with R\",\n",
    "    description=\"Train data with R.\",\n",
    "    tags=dict(),\n",
    "    command=\"Rscript train.R --data_folder ${{inputs.iris}}/${{inputs.file_name}}\",\n",
    "    environment=Environment(build=BuildContext(path=\"docker_context\")),\n",
    "    code=\"./src\",\n",
    "    inputs=dict(\n",
    "        iris=Input(type=\"uri_folder\"),\n",
    "        file_name=file_name,\n",
    "    ),\n",
    "    outputs={},\n",
    "    services={\n",
    "        \"Jupyterlab endpoint\": JobService(job_service_type=\"jupyter_lab\"),\n",
    "        \"Vscode endpoint\": JobService(job_service_type=\"vs_code\"),\n",
    "        # \"My_ssh\": JobService(\n",
    "        # job_service_type = \"ssh\",\n",
    "        # properties={\n",
    "        #   \"sshPublicKeys\":\"<add-public-key>\"\n",
    "        # }\n",
    "        # ) # uncomment add SSH Public Key to access job container via SSH\n",
    "    },\n",
    ")\n",
    "# 3. Create a command component to show inputs\n",
    "show_data = command(\n",
    "    name=\"show-data\",\n",
    "    display_name=\"Show Data\",\n",
    "    description=\"Show data in command line and return it in output.\",\n",
    "    tags=dict(),\n",
    "    command=\"cat ${{inputs.input_folder}}/${{inputs.file_name}} && cp ${{inputs.input_folder}}/${{inputs.file_name}} ${{outputs.output_folder}}/${{inputs.file_name}}\",\n",
    "    environment=environment,\n",
    "    inputs=dict(input_folder=Input(type=\"uri_folder\"), file_name=file_name),\n",
    "    outputs=dict(output_folder=Output(type=\"uri_folder\", mode=\"rw_mount\")),\n",
    ")"
   ]
  },
  {
   "cell_type": "markdown",
   "metadata": {},
   "source": [
    "# 3. Basic pipeline job\n",
    "\n",
    "## 3.1 Build pipeline\n",
    "\n",
    "Build a pipeline with predefined commands."
   ]
  },
  {
   "cell_type": "code",
   "execution_count": null,
   "metadata": {},
   "outputs": [],
   "source": [
    "@pipeline(\n",
    "    tags={\"owner\": \"sdkteam\", \"tag\": \"tagvalue\"},\n",
    ")\n",
    "def pipeline_with_non_python_components(url, file_name):\n",
    "    \"\"\"The hello world pipeline job.\"\"\"\n",
    "    download_data_node = download_data(url=url, file_name=file_name)\n",
    "    train_data_with_r(\n",
    "        iris=download_data_node.outputs.output_folder, file_name=file_name\n",
    "    )\n",
    "    show_data_node = show_data(\n",
    "        input_folder=download_data_node.outputs.output_folder, file_name=file_name\n",
    "    )\n",
    "\n",
    "    return {\"output_file\": show_data_node.outputs.output_folder}\n",
    "\n",
    "\n",
    "pipeline_job = pipeline_with_non_python_components(download_url, file_name)\n",
    "\n",
    "# example how to change path of output on pipeline level\n",
    "pipeline_job.outputs.output_file = Output(\n",
    "    type=\"uri_folder\", mode=\"rw_mount\", path=custom_path\n",
    ")\n",
    "\n",
    "# set pipeline level compute\n",
    "pipeline_job.settings.default_compute = \"cpu-cluster\""
   ]
  },
  {
   "cell_type": "markdown",
   "metadata": {},
   "source": [
    "# 3.2 Submit pipeline job"
   ]
  },
  {
   "cell_type": "code",
   "execution_count": null,
   "metadata": {},
   "outputs": [],
   "source": [
    "pipeline_job = ml_client.jobs.create_or_update(\n",
    "    pipeline_job, experiment_name=\"pipeline_samples\"\n",
    ")\n",
    "pipeline_job"
   ]
  },
  {
   "cell_type": "code",
   "execution_count": null,
   "metadata": {},
   "outputs": [],
   "source": [
    "# Wait until the job completes\n",
    "ml_client.jobs.stream(pipeline_job.name)"
   ]
  },
  {
   "cell_type": "markdown",
   "metadata": {},
   "source": [
    "# Next Steps\n",
    "You can see further examples of running a pipeline job [here](../)"
   ]
  }
 ],
 "metadata": {
  "description": {
   "description": "Create a pipeline with command function"
  },
  "kernelspec": {
   "display_name": "Python 3.10 - SDK V2",
   "language": "python",
   "name": "python310-sdkv2"
  },
  "language_info": {
   "codemirror_mode": {
    "name": "ipython",
    "version": 3
   },
   "file_extension": ".py",
   "mimetype": "text/x-python",
   "name": "python",
   "nbconvert_exporter": "python",
   "pygments_lexer": "ipython3",
   "version": "3.8.12"
  },
  "vscode": {
   "interpreter": {
    "hash": "1324ca334ec51c2d7d081a2ba1becf817802a54f2b6ebeab7f4908360bcde2e0"
   }
  }
 },
 "nbformat": 4,
 "nbformat_minor": 4
}
