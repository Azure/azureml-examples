{
 "cells": [
  {
   "cell_type": "markdown",
   "metadata": {},
   "source": [
    "# Build a simple ML pipeline with spark component\n",
    "\n",
    "**Requirements** - In order to benefit from this tutorial, you will need:\n",
    "- A basic understanding of Machine Learning\n",
    "- An Azure account with an active subscription - [Create an account for free](https://azure.microsoft.com/free/?WT.mc_id=A261C142F)\n",
    "- An Azure ML workspace with computer cluster - [Configure workspace](../../configuration.ipynb)\n",
    "- A python environment\n",
    "- Installed Azure Machine Learning Python SDK v2 - [install instructions](../../../README.md) - check the getting started section\n",
    "\n",
    "**Learning Objectives** - By the end of this tutorial, you should be able to:\n",
    "- Connect to your AML workspace from the Python SDK\n",
    "- Create `Pipeline` with spark component\n",
    "\n",
    "**Motivations** - In this example, we will explains how to create a spark component and use it in a pipeline. A Spark Component is a Component that executes a spark job in AML. It will support attached synapse spark and hobo spark."
   ]
  },
  {
   "cell_type": "markdown",
   "metadata": {},
   "source": [
    "# 1. Connect to Azure Machine Learning Workspace\n",
    "\n",
    "The [workspace](https://docs.microsoft.com/en-us/azure/machine-learning/concept-workspace) is the top-level resource for Azure Machine Learning, providing a centralized place to work with all the artifacts you create when you use Azure Machine Learning. In this section we will connect to the workspace in which the job will be run.\n",
    "\n",
    "## 1.2 Prepare spark workspace and compute resource\n",
    "1. **Create an Azure Synapse workspace**, check [this](https://docs.microsoft.com/en-us/azure/synapse-analytics/quickstart-create-workspace) for more information.\n",
    "2. **Create compute resource**, you can select from following two options:\n",
    "\n",
    "    - Submit a Spark Job using HOBO compute (cluster-less or serverless)\n",
    "    \n",
    "    - Submit a Spark Job using an attached Synapse compute, check [this](https://learn.microsoft.com/en-us/azure/machine-learning/how-to-link-synapse-ml-workspaces) for more information about linking Azure Synapse Analytics and Azure Machine Learning workspaces, and attach Apache Spark pools.\n",
    "\n",
    "    In this example, we use HOBO compute.\n",
    "\n",
    "## 1.1 Import the required libraries"
   ]
  },
  {
   "cell_type": "code",
   "execution_count": null,
   "metadata": {
    "name": "required-library"
   },
   "outputs": [],
   "source": [
    "# import required libraries\n",
    "from azure.identity import DefaultAzureCredential, InteractiveBrowserCredential\n",
    "from azure.ai.ml import MLClient, Input, Output, load_component, command\n",
    "from azure.ai.ml.dsl import pipeline\n",
    "from azure.ai.ml.entities import Environment\n",
    "from azure.ai.ml.constants import AssetTypes, InputOutputModes"
   ]
  },
  {
   "cell_type": "markdown",
   "metadata": {},
   "source": [
    "## 1.2 Configure credential\n",
    "We are using `DefaultAzureCredential` to get access to workspace.\n",
    "\n",
    "`DefaultAzureCredential` should be capable of handling most Azure SDK authentication scenarios. \n",
    "\n",
    "Reference for more available credentials if it does not work for you: [configure credential example](../../configuration.ipynb), [azure-identity reference doc](https://docs.microsoft.com/en-us/python/api/azure-identity/azure.identity?view=azure-python)."
   ]
  },
  {
   "cell_type": "code",
   "execution_count": null,
   "metadata": {
    "name": "credential"
   },
   "outputs": [],
   "source": [
    "try:\n",
    "    credential = DefaultAzureCredential()\n",
    "    # Check if given credential can get token successfully.\n",
    "    credential.get_token(\"https://management.azure.com/.default\")\n",
    "except Exception as ex:\n",
    "    # Fall back to InteractiveBrowserCredential in case DefaultAzureCredential not work\n",
    "    credential = InteractiveBrowserCredential()"
   ]
  },
  {
   "cell_type": "markdown",
   "metadata": {},
   "source": [
    "## 1.3 Get a handle to the workspace\n",
    "\n",
    "We use config file to connect to a workspace. The Azure ML workspace should be configured with computer cluster. [Check this notebook for configure a workspace](../../configuration.ipynb)"
   ]
  },
  {
   "cell_type": "code",
   "execution_count": null,
   "metadata": {
    "name": "workspace"
   },
   "outputs": [],
   "source": [
    "# Get a handle to workspace\n",
    "ml_client = MLClient.from_config(credential=credential)\n",
    "\n",
    "# Retrieve an already attached Azure Machine Learning Compute.\n",
    "cluster_name = \"cpu-cluster\"\n",
    "print(ml_client.compute.get(cluster_name))"
   ]
  },
  {
   "cell_type": "markdown",
   "metadata": {},
   "source": [
    "# 2. Define components\n",
    "\n",
    "Use `load_component` to load spark components defined using YAML. "
   ]
  },
  {
   "cell_type": "code",
   "execution_count": null,
   "metadata": {
    "name": "load-from-yaml"
   },
   "outputs": [],
   "source": [
    "# load component\n",
    "parent_dir = \".\"\n",
    "spark_kmeans = load_component(source=parent_dir + \"/components/spark_kmeans.yml\")\n",
    "\n",
    "show_output_component = command(\n",
    "    inputs=dict(spark_output=Input(type=AssetTypes.URI_FOLDER)),\n",
    "    command=\"ls ${{inputs.spark_output}}\",\n",
    "    environment=\"AzureML-sklearn-0.24-ubuntu18.04-py37-cpu:1\",\n",
    ")"
   ]
  },
  {
   "cell_type": "markdown",
   "metadata": {},
   "source": [
    "# 3. Build pipeline\n",
    "\n",
    "We define a pipeline containing 2 nodes:\n",
    "- `kmeans_cluster` is a spark component which will conduct kmeans algorithom and print results.\n",
    "- `show_output` is a command component which will show center points got from kmeans_cluster"
   ]
  },
  {
   "cell_type": "code",
   "execution_count": null,
   "metadata": {
    "name": "build-pipeline"
   },
   "outputs": [],
   "source": [
    "@pipeline()\n",
    "def spark_pipeline_from_yaml(train_data):\n",
    "    kmeans_clustering = spark_kmeans(file_input=train_data)\n",
    "    kmeans_clustering.resources = {\n",
    "        \"instance_type\": \"Standard_E8S_V3\",\n",
    "        \"runtime_version\": \"3.1.0\",\n",
    "    }\n",
    "    kmeans_clustering.outputs.output.mode = InputOutputModes.DIRECT\n",
    "\n",
    "    show_output = show_output_component(spark_output=kmeans_clustering.outputs.output)\n",
    "    show_output.compute = cluster_name\n",
    "\n",
    "\n",
    "sample_data = Input(\n",
    "    path=parent_dir + \"/data/sample_kmeans_data.txt\",\n",
    "    type=AssetTypes.URI_FOLDER,\n",
    "    mode=InputOutputModes.DIRECT,\n",
    ")\n",
    "\n",
    "pipeline_job = spark_pipeline_from_yaml(train_data=sample_data)"
   ]
  },
  {
   "cell_type": "code",
   "execution_count": null,
   "metadata": {},
   "outputs": [],
   "source": [
    "print(pipeline_job)"
   ]
  },
  {
   "cell_type": "markdown",
   "metadata": {},
   "source": [
    "# 4. Submit pipeline job"
   ]
  },
  {
   "cell_type": "code",
   "execution_count": null,
   "metadata": {
    "name": "submit-pipeline"
   },
   "outputs": [],
   "source": [
    "pipeline_job = ml_client.jobs.create_or_update(\n",
    "    pipeline_job, experiment_name=\"pipeline_samples\"\n",
    ")\n",
    "pipeline_job"
   ]
  },
  {
   "cell_type": "code",
   "execution_count": null,
   "metadata": {
    "name": "stream-pipeline"
   },
   "outputs": [],
   "source": [
    "# wait until the job completes\n",
    "ml_client.jobs.stream(pipeline_job.name)"
   ]
  },
  {
   "cell_type": "markdown",
   "metadata": {},
   "source": [
    "# Next Steps\n",
    "You can see further examples of running a pipeline job [here](../)"
   ]
  }
 ],
 "metadata": {
  "description": {
   "description": "Create pipeline with spark node"
  },
  "kernelspec": {
   "display_name": "Python 3.10 - SDK V2",
   "language": "python",
   "name": "python310-sdkv2"
  },
  "language_info": {
   "codemirror_mode": {
    "name": "ipython",
    "version": 3
   },
   "file_extension": ".py",
   "mimetype": "text/x-python",
   "name": "python",
   "nbconvert_exporter": "python",
   "pygments_lexer": "ipython3",
   "version": "3.8.13"
  },
  "vscode": {
   "interpreter": {
    "hash": "b90944ed2adad6dab7b5971acebb92f0ebcf09728454a60138520243b56e74eb"
   }
  }
 },
 "nbformat": 4,
 "nbformat_minor": 2
}
