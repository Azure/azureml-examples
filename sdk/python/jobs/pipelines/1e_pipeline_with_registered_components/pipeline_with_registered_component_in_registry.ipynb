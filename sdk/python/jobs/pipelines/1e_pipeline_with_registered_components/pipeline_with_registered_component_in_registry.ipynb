{
 "cells": [
  {
   "cell_type": "markdown",
   "id": "06f70dc8",
   "metadata": {},
   "source": [
    "# Build model importing pipeline with components registered in registry\n",
    "\n",
    "**Requirements** - In order to benefit from this tutorial, you will need:\n",
    "- A basic understanding of Machine Learning\n",
    "- An Azure account with an active subscription - [Create an account for free](https://azure.microsoft.com/free/?WT.mc_id=A261C142F)\n",
    "- An Azure ML workspace with computer cluster - [Configure workspace](../../configuration.ipynb)\n",
    "- A python environment\n",
    "- Installed Azure Machine Learning Python SDK v2 - [install instructions](../../../README.md) - check the getting started section\n",
    "\n",
    "**Learning Objectives** - By the end of this tutorial, you should be able to:\n",
    "- Connect to your AML workspace from the Python SDK.\n",
    "- Import components from registry.\n",
    "- Create `Pipeline` using registered components.\n",
    "- Submit `Pipeline Job` in workspace\n",
    "- Import model into workspace/registry from Huggingface/Azurestorage using above pipeline\n",
    "\n",
    "**Motivations** - This notebook explains how to create model importing/publishing pipeline job in workspace using components registered in registry"
   ]
  },
  {
   "cell_type": "markdown",
   "id": "b02e37bd",
   "metadata": {},
   "source": [
    "# 1. Connect to Azure Machine Learning Workspace\n",
    "\n",
    "The [workspace](https://docs.microsoft.com/en-us/azure/machine-learning/concept-workspace) is the top-level resource for Azure Machine Learning, providing a centralized place to work with all the artifacts you create when you use Azure Machine Learning. In this section we will connect to the workspace in which the job will be run.\n",
    "\n",
    "## 1.1 Import the required libraries"
   ]
  },
  {
   "cell_type": "code",
   "execution_count": 2,
   "id": "6bebb0a7",
   "metadata": {},
   "outputs": [],
   "source": [
    "# Import required libraries\n",
    "from azure.identity import DefaultAzureCredential, InteractiveBrowserCredential\n",
    "\n",
    "from azure.ai.ml import MLClient, Input, Output\n",
    "from azure.ai.ml.dsl import pipeline\n",
    "from azure.ai.ml import load_component"
   ]
  },
  {
   "cell_type": "markdown",
   "id": "54eaf508",
   "metadata": {},
   "source": [
    "## 1.2 Configure credential\n",
    "\n",
    "We are using `DefaultAzureCredential` to get access to workspace. \n",
    "`DefaultAzureCredential` should be capable of handling most Azure SDK authentication scenarios. \n",
    "\n",
    "Reference for more available credentials if it does not work for you: [configure credential example](../../configuration.ipynb), [azure-identity reference doc](https://docs.microsoft.com/en-us/python/api/azure-identity/azure.identity?view=azure-python)."
   ]
  },
  {
   "cell_type": "code",
   "execution_count": null,
   "id": "463f5692",
   "metadata": {},
   "outputs": [],
   "source": [
    "try:\n",
    "    credential = DefaultAzureCredential()\n",
    "    # Check if given credential can get token successfully.\n",
    "    credential.get_token(\"https://management.azure.com/.default\")\n",
    "except Exception as ex:\n",
    "    # Fall back to InteractiveBrowserCredential in case DefaultAzureCredential not work\n",
    "    credential = InteractiveBrowserCredential()"
   ]
  },
  {
   "cell_type": "markdown",
   "id": "fa8c5101",
   "metadata": {},
   "source": [
    "## 1.3 Get a handle to the workspace and the registry\n",
    "\n",
    "We use config file to connect to a workspace. The Azure ML workspace should be configured with computer cluster. [Check this notebook for configure a workspace](../../configuration.ipynb)"
   ]
  },
  {
   "cell_type": "code",
   "execution_count": null,
   "id": "3c246768",
   "metadata": {},
   "outputs": [],
   "source": [
    "# Get a handle to workspace\n",
    "ml_client_ws = MLClient.from_config(credential=credential)\n",
    "\n",
    "ml_client_registry = MLClient(credential, registry_name=\"azureml-preview-test1\")\n",
    "\n",
    "# Retrieve an already attached MSI attached Azure Machine Learning Compute.\n",
    "cluster_name = \"cpu-standard-d13-msi\"\n",
    "\n",
    "# Note above compute has an MSI attached to it, which is necessary to get credentials and run cli/sdk v2 on that compute"
   ]
  },
  {
   "cell_type": "markdown",
   "id": "87fe84be",
   "metadata": {},
   "source": [
    "## 1.4 Ensure cluster has an MSI attached to it"
   ]
  },
  {
   "cell_type": "code",
   "execution_count": null,
   "id": "5b7e5595",
   "metadata": {},
   "outputs": [],
   "source": [
    "compute_cluster = ml_client_ws.compute.get(name=cluster_name)\n",
    "if (\n",
    "    compute_cluster.identity\n",
    "    and compute_cluster.identity.type == \"user_assigned\"\n",
    "    and compute_cluster.identity.user_assigned_identities[0].type == \"managed_identity\"\n",
    "):\n",
    "    print(\"Compute cluster has MSI attached to it\")\n",
    "else:\n",
    "    raise (\n",
    "        \"Compute does not have an MSI attached to it, Kindly use the compute having an MSI attached\"\n",
    "    )"
   ]
  },
  {
   "cell_type": "markdown",
   "id": "85c2a79d",
   "metadata": {},
   "source": [
    "# 2. Load components from registry to create pipeline"
   ]
  },
  {
   "cell_type": "markdown",
   "id": "475e505c",
   "metadata": {},
   "source": [
    "## 2.1 Use registery handle to load the components in workspace\n",
    "\n",
    "### Components\n",
    "- download_model - Downloads model from HuggingFace/AzureStorage in Compute Disk\n",
    "- mlflow_converter - Converts the model format from custom to mlflow format\n",
    "- local_validation   - Validate mlflow model\n",
    "- register_model     - Register the model in workspace/registry"
   ]
  },
  {
   "cell_type": "code",
   "execution_count": null,
   "id": "c0d0d321",
   "metadata": {},
   "outputs": [],
   "source": [
    "model_downloader = ml_client_registry.components.get(\n",
    "    name=\"download_model\", version=\"0.0.9\"\n",
    ")\n",
    "mlflow_converter = ml_client_registry.components.get(\n",
    "    name=\"convert_model_to_mlflow\", label=\"0.0.8\"\n",
    ")\n",
    "local_validation = ml_client_registry.components.get(\n",
    "    name=\"mlflow_model_local_validation\", label=\"0.0.3\"\n",
    ")\n",
    "model_registration = ml_client_registry.components.get(\n",
    "    name=\"register_model\", label=\"0.1.6\"\n",
    ")"
   ]
  },
  {
   "cell_type": "markdown",
   "id": "6723387f",
   "metadata": {},
   "source": [
    "# 3. Build pipeline using above components"
   ]
  },
  {
   "cell_type": "markdown",
   "id": "f68c3e15",
   "metadata": {},
   "source": [
    "## 3.1 Connect components and build pipeline framework"
   ]
  },
  {
   "cell_type": "code",
   "execution_count": 3,
   "id": "8a5d0dc8",
   "metadata": {},
   "outputs": [],
   "source": [
    "@pipeline(\n",
    "    description=\"Publishing models into registry/workspace using the registered componentns\",\n",
    ")\n",
    "def model_publishing_pipeline(model_id,\n",
    "                              registry_name,\n",
    "                              license_file_path,\n",
    "                              model_metadata):\n",
    "    model_downloading_node = model_downloader(model_id=model_id)\n",
    "    mlflow_converter_node = mlflow_converter(\n",
    "        model_path=model_downloading_node.outputs.model_output,\n",
    "    )\n",
    "    local_validation_node = local_validation(model_path = mlflow_converter_node.outputs.mlflow_model_folder)\n",
    "    model_registration_node = model_registration(\n",
    "        model_path=local_validation_node.outputs.mlflow_model_folder,\n",
    "        license_file_path = license_file_path,\n",
    "        model_metadata = model_metadata,\n",
    "        model_download_metadata = model_downloading_node.outputs.model_download_metadata,\n",
    "        registry_name = registry_name\n",
    "    )"
   ]
  },
  {
   "cell_type": "markdown",
   "id": "89311fdb",
   "metadata": {},
   "source": [
    "## 3.2 Pass parameters to pipeline and set up compute"
   ]
  },
  {
   "cell_type": "code",
   "execution_count": null,
   "id": "1fded7ed",
   "metadata": {},
   "outputs": [],
   "source": [
    "MODEL_ID = (\"bert-base-uncased\",)\n",
    "\n",
    "pipeline_job = model_publishing_pipeline(\n",
    "    model_id=MODEL_ID,\n",
    "    registry_name = \"azureml-preview-test1\",\n",
    "    model_metadata = Input(type = \"uri_file\", path = \"import_model_data/bert-base-uncase-metadata.json\" ),\n",
    "    license_file_path = Input(type = \"uri_file\", path = \"import_model_data/LICENSE.txt\")   \n",
    ")\n",
    "\n",
    "# set pipeline level compute\n",
    "pipeline_job.settings.default_compute = cluster_name"
   ]
  },
  {
   "cell_type": "markdown",
   "id": "08bf42ab",
   "metadata": {},
   "source": [
    "## 3.3 Submit job to workspace"
   ]
  },
  {
   "cell_type": "code",
   "execution_count": null,
   "id": "396e2f64",
   "metadata": {},
   "outputs": [],
   "source": [
    "pipeline_job = ml_client_ws.jobs.create_or_update(\n",
    "    pipeline_job, experiment_name=\"Model Importing Pipeline\"\n",
    ")\n",
    "pipeline_job"
   ]
  },
  {
   "cell_type": "code",
   "execution_count": null,
   "id": "ea71c565",
   "metadata": {},
   "outputs": [],
   "source": [
    "# Wait until the job completes\n",
    "ml_client_ws.jobs.stream(pipeline_job.name)"
   ]
  },
  {
   "cell_type": "markdown",
   "id": "306a4bb2",
   "metadata": {},
   "source": [
    "# 4 Test the deployment using sample data"
   ]
  },
  {
   "cell_type": "markdown",
   "id": "975b31ab",
   "metadata": {},
   "source": [
    "## 4.1 Invoke the endpoint using sample data"
   ]
  },
  {
   "cell_type": "code",
   "execution_count": null,
   "id": "7c5c9485",
   "metadata": {},
   "outputs": [],
   "source": [
    "ml_client_ws.online_endpoints.invoke(\n",
    "    endpoint_name=ENDPOINT_NAME,\n",
    "    deployment_name=DEPLOYMENT_NAME,\n",
    "    request_file=\"./data/bert-base-uncased-test.json\",\n",
    "    registry_name = \"azureml-preview-test1\",\n",
    "    model_metadata = Input(type = \"uri_file\", path = \"import_model_data/bert-base-uncase-metadata.json\" ),\n",
    "    license_file_path = Input(type = \"uri_file\", path = \"import_model_data/LICENSE.txt\")\n",
    ")"
   ]
  },
  {
   "cell_type": "markdown",
   "id": "eaf44c15",
   "metadata": {},
   "source": [
    "# 5. Deleting the endpoints created"
   ]
  },
  {
   "cell_type": "markdown",
   "id": "1607b030",
   "metadata": {},
   "source": [
    "## 5.1 Delete the endpoint created"
   ]
  },
  {
   "cell_type": "code",
   "execution_count": null,
   "id": "eb293bb5",
   "metadata": {},
   "outputs": [],
   "source": [
    "ml_client_ws.online_endpoints.begin_delete(name=ENDPOINT_NAME)"
   ]
  }
 ],
 "metadata": {
  "kernelspec": {
   "display_name": "Python 3.10 - SDK V2",
   "language": "python",
   "name": "python3"
  },
  "language_info": {
   "codemirror_mode": {
    "name": "ipython",
    "version": 3
   },
   "file_extension": ".py",
   "mimetype": "text/x-python",
   "name": "python",
   "nbconvert_exporter": "python",
   "pygments_lexer": "ipython3",
   "version": "3.10.7"
  }
 },
 "nbformat": 4,
 "nbformat_minor": 5
}
