{
 "cells": [
  {
   "cell_type": "markdown",
   "id": "b02e37bd",
   "metadata": {},
   "source": [
    "# 1. Connect to Azure Machine Learning Workspace"
   ]
  },
  {
   "cell_type": "markdown",
   "id": "ae915f2e",
   "metadata": {},
   "source": [
    "## 1.1 Import the required libraries"
   ]
  },
  {
   "cell_type": "code",
   "execution_count": null,
   "id": "6bebb0a7",
   "metadata": {},
   "outputs": [],
   "source": [
    "from azure.identity import DefaultAzureCredential, InteractiveBrowserCredential\n",
    "\n",
    "from azure.ai.ml import MLClient, Input, Output\n",
    "from azure.ai.ml.dsl import pipeline\n",
    "from azure.ai.ml import load_component"
   ]
  },
  {
   "cell_type": "markdown",
   "id": "54eaf508",
   "metadata": {},
   "source": [
    "## 1.2 Configure credential"
   ]
  },
  {
   "cell_type": "code",
   "execution_count": null,
   "id": "463f5692",
   "metadata": {},
   "outputs": [],
   "source": [
    "try:\n",
    "    credential = DefaultAzureCredential()\n",
    "    # Check if given credential can get token successfully.\n",
    "    credential.get_token(\"https://management.azure.com/.default\")\n",
    "except Exception as ex:\n",
    "    # Fall back to InteractiveBrowserCredential in case DefaultAzureCredential not work\n",
    "    credential = InteractiveBrowserCredential()"
   ]
  },
  {
   "cell_type": "markdown",
   "id": "fa8c5101",
   "metadata": {},
   "source": [
    "## 1.3 Get a handle to the workspace and the registry"
   ]
  },
  {
   "cell_type": "code",
   "execution_count": null,
   "id": "3c246768",
   "metadata": {},
   "outputs": [],
   "source": [
    "# Get a handle to workspace\n",
    "ml_client_ws = MLClient(\n",
    "    credential, \"<SUBSCRIPTION_ID>\", \"<RESOURCE_GROUP>\", \"<AML_WORKSPACE_NAME>\"\n",
    ")\n",
    "ml_client_registry = MLClient(\n",
    "    credential, registry_name=\"azureml\"\n",
    ")\n",
    "\n",
    "# Retrieve an already attached Azure Machine Learning Compute.\n",
    "cluster_name = \"cpu-cluster-D13-v2\"\n",
    "\n",
    "# Note above compute has an MSI attached to it, which is necessary to get credentials and run cli/sdk v2 on that compute"
   ]
  },
  {
   "cell_type": "markdown",
   "id": "85c2a79d",
   "metadata": {},
   "source": [
    "# 2. Load registered components to create pipeline"
   ]
  },
  {
   "cell_type": "markdown",
   "id": "475e505c",
   "metadata": {},
   "source": [
    "## 2.1 Use worskpace handle to load the components from workspace"
   ]
  },
  {
   "cell_type": "code",
   "execution_count": null,
   "id": "c0d0d321",
   "metadata": {},
   "outputs": [],
   "source": [
    "model_downloader = ml_client_registry.components.get(name=\"download_model\", label=\"latest\")\n",
    "mlflow_converter = ml_client_registry.components.get(name=\"mlflow_converter\", label=\"latest\")\n",
    "model_registration = ml_client_registry.components.get(name=\"register_model\", label=\"latest\")\n",
    "model_deployment = ml_client_registry.components.get(name=\"deploy_model\", label=\"latest\")"
   ]
  },
  {
   "cell_type": "markdown",
   "id": "6723387f",
   "metadata": {},
   "source": [
    "# 3. Build pipeline using above components"
   ]
  },
  {
   "cell_type": "markdown",
   "id": "f68c3e15",
   "metadata": {},
   "source": [
    "## 3.1 Connect components and build pipeline framework"
   ]
  },
  {
   "cell_type": "code",
   "execution_count": null,
   "id": "8a5d0dc8",
   "metadata": {},
   "outputs": [],
   "source": [
    "@pipeline(\n",
    "    description=\"Model Publishing Pipeline\",\n",
    ")\n",
    "def model_publishing_pipeline():\n",
    "\n",
    "    model_downloading_node = model_downloader(\n",
    "        model_uri_type=\"git\",\n",
    "        model_uri=\"https://huggingface.co/ai4bharat/indic-bert\",\n",
    "        model_type=\"custom_model\",\n",
    "    )\n",
    "\n",
    "    mlflow_converter_node = mlflow_converter(\n",
    "        model_path=model_downloading_node.outputs.model_output,\n",
    "        hf_task_type=\"text-classification\",\n",
    "        model_flavor=\"hftransformers\",\n",
    "    )\n",
    "\n",
    "    model_registration_node = model_registration(\n",
    "        model_path=mlflow_converter_node.outputs.mlflow_model_output,\n",
    "        name_for_registered_model=\"ai4bharat-indic-bert\",\n",
    "    )\n",
    "    # Note: do pass registry name if you want to register it in registry\n",
    "\n",
    "    model_deployment_node = model_deployment(\n",
    "        registered_model_id_path=model_registration_node.outputs.registered_model_details_path,\n",
    "        endpoint_name=\"indic-bert-ep\",\n",
    "        deployment_name=\"ai4bharat-indic-bert\",\n",
    "    )"
   ]
  },
  {
   "cell_type": "markdown",
   "id": "89311fdb",
   "metadata": {},
   "source": [
    "## 3.2 Pass parameters to pipeline and set up compute"
   ]
  },
  {
   "cell_type": "code",
   "execution_count": null,
   "id": "1fded7ed",
   "metadata": {},
   "outputs": [],
   "source": [
    "pipeline_job = model_publishing_pipeline()\n",
    "\n",
    "# set pipeline level compute\n",
    "pipeline_job.settings.default_compute = cluster_name"
   ]
  },
  {
   "cell_type": "markdown",
   "id": "08bf42ab",
   "metadata": {},
   "source": [
    "## 3.3 Submit job to workspace"
   ]
  },
  {
   "cell_type": "code",
   "execution_count": null,
   "id": "396e2f64",
   "metadata": {},
   "outputs": [],
   "source": [
    "pipeline_job = ml_client_ws.jobs.create_or_update(\n",
    "    pipeline_job, experiment_name=\"Pipeline with registered component in prod registry\"\n",
    ")\n",
    "pipeline_job"
   ]
  },
  {
   "cell_type": "code",
   "execution_count": null,
   "id": "ea71c565",
   "metadata": {},
   "outputs": [],
   "source": [
    "# Wait until the job completes\n",
    "ml_client_ws.jobs.stream(pipeline_job.name)"
   ]
  }
 ],
 "metadata": {
  "kernelspec": {
   "display_name": "Python 3 (ipykernel)",
   "language": "python",
   "name": "python3"
  },
  "language_info": {
   "codemirror_mode": {
    "name": "ipython",
    "version": 3
   },
   "file_extension": ".py",
   "mimetype": "text/x-python",
   "name": "python",
   "nbconvert_exporter": "python",
   "pygments_lexer": "ipython3",
   "version": "3.10.7"
  }
 },
 "nbformat": 4,
 "nbformat_minor": 5
}
