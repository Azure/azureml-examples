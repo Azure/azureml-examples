{
 "cells": [
  {
   "cell_type": "markdown",
   "id": "a4d3e49b",
   "metadata": {},
   "source": [
    "# Import model using pipeline component\n",
    "\n",
    "**Requirements** - In order to benefit from this tutorial, you will need:\n",
    "- A basic understanding of Machine Learning\n",
    "- An Azure account with an active subscription - [Create an account for free](https://azure.microsoft.com/free/?WT.mc_id=A261C142F)\n",
    "- An Azure ML workspace with computer cluster - [Configure workspace](../../configuration.ipynb)\n",
    "- A python environment\n",
    "- Installed Azure Machine Learning Python SDK v2 - [install instructions](../../../README.md) - check the getting started section\n",
    "\n",
    "**Learning Objectives** - By the end of this tutorial, you should be able to:\n",
    "- Connect to your AML workspace from the Python SDK.\n",
    "- Import pipeline components from registry.\n",
    "- Create `Pipeline` using registered components.\n",
    "- Submit `Pipeline Job` in workspace\n",
    "- Import model into workspace/registry from Huggingface/Azurestorage using above pipeline\n",
    "\n",
    "**Motivations** - This notebook explains how to create model importing/publishing pipeline job in workspace using pipeline component registered in registry"
   ]
  },
  {
   "cell_type": "markdown",
   "id": "88ba6a51",
   "metadata": {},
   "source": [
    "# 1. Connect to Azure Machine Learning Workspace\n",
    "\n",
    "The [workspace](https://docs.microsoft.com/en-us/azure/machine-learning/concept-workspace) is the top-level resource for Azure Machine Learning, providing a centralized place to work with all the artifacts you create when you use Azure Machine Learning. In this section we will connect to the workspace in which the job will be run.\n",
    "\n",
    "## 1.1 Import the required libraries"
   ]
  },
  {
   "cell_type": "code",
   "execution_count": null,
   "id": "a85623da",
   "metadata": {},
   "outputs": [],
   "source": [
    "# Import required libraries\n",
    "from azure.identity import DefaultAzureCredential, InteractiveBrowserCredential, ClientSecretCredential\n",
    "from azure.ai.ml import UserIdentityConfiguration\n",
    "\n",
    "from azure.ai.ml import MLClient, Input, Output\n",
    "from azure.ai.ml.dsl import pipeline\n",
    "from azure.ai.ml import load_component"
   ]
  },
  {
   "cell_type": "markdown",
   "id": "5180bc1d",
   "metadata": {},
   "source": [
    "## 1.2 Configure credential\n",
    "\n",
    "We are using `DefaultAzureCredential` to get access to workspace. \n",
    "`DefaultAzureCredential` should be capable of handling most Azure SDK authentication scenarios. \n",
    "\n",
    "Reference for more available credentials if it does not work for you: [configure credential example](../../configuration.ipynb), [azure-identity reference doc](https://docs.microsoft.com/en-us/python/api/azure-identity/azure.identity?view=azure-python)."
   ]
  },
  {
   "cell_type": "code",
   "execution_count": null,
   "id": "8503c314",
   "metadata": {},
   "outputs": [],
   "source": [
    "try:\n",
    "    credential = DefaultAzureCredential()\n",
    "    # Check if given credential can get token successfully.\n",
    "    credential.get_token(\"https://management.azure.com/.default\")\n",
    "except Exception as ex:\n",
    "    # Fall back to InteractiveBrowserCredential in case DefaultAzureCredential not work\n",
    "    credential = InteractiveBrowserCredential()"
   ]
  },
  {
   "cell_type": "markdown",
   "id": "c9800ab1",
   "metadata": {},
   "source": [
    "## 1.3 Get a handle to the workspace and the registry\n",
    "\n",
    "We use config file to connect to a workspace. The Azure ML workspace should be configured with computer cluster. [Check this notebook for configure a workspace](../../configuration.ipynb)"
   ]
  },
  {
   "cell_type": "code",
   "execution_count": null,
   "id": "0b7159db",
   "metadata": {},
   "outputs": [],
   "source": [
    "# Get a handle to workspace\n",
    "ml_client_ws = MLClient.from_config(credential=credential)\n",
    "\n",
    "ml_client_registry = MLClient(credential, registry_name=\"azureml\")\n",
    "\n",
    "# Retrieve an already attached MSI attached Azure Machine Learning Compute.\n",
    "cluster_name = \"cpu-standard-d13-msi\"\n",
    "\n",
    "# Note above compute has an MSI attached to it, which is necessary to get credentials and run cli/sdk v2 on that compute\n",
    "# We also support OBO credentials (*in testing phase)"
   ]
  },
  {
   "cell_type": "markdown",
   "id": "c054439e",
   "metadata": {},
   "source": [
    "## 1.4 Ensure cluster has an MSI attached to it"
   ]
  },
  {
   "cell_type": "code",
   "execution_count": null,
   "id": "d984fce8",
   "metadata": {},
   "outputs": [],
   "source": [
    "compute_cluster = ml_client_ws.compute.get(name=cluster_name)\n",
    "if (\n",
    "    compute_cluster.identity\n",
    "    and compute_cluster.identity.type == \"user_assigned\"\n",
    "    and compute_cluster.identity.user_assigned_identities[0].type == \"managed_identity\"\n",
    "):\n",
    "    print(\"Compute cluster has MSI attached to it\")\n",
    "else:\n",
    "    raise (\n",
    "        \"Compute does not have an MSI attached to it, Kindly use the compute having an MSI attached\"\n",
    "    )"
   ]
  },
  {
   "cell_type": "markdown",
   "id": "bb705c33",
   "metadata": {},
   "source": [
    "# 2. Load piepeline component from registry to create pipeline\n"
   ]
  },
  {
   "cell_type": "markdown",
   "id": "e6eb9810",
   "metadata": {},
   "source": [
    "## 2.1 Use registery handle to load the components in workspace\n",
    "\n",
    "### Components\n",
    "- import_model - Pipeline component which downloads the model, convert it into mlflow, validate locally and then register respectively"
   ]
  },
  {
   "cell_type": "code",
   "execution_count": null,
   "id": "694f479f",
   "metadata": {},
   "outputs": [],
   "source": [
    "import_model = ml_client_registry.components.get(\n",
    "    name=\"import_model\", version=\"0.0.8\"\n",
    ")"
   ]
  },
  {
   "cell_type": "markdown",
   "id": "54e53eb8",
   "metadata": {},
   "source": [
    "# 3. Create a pipeline job using pipeline component"
   ]
  },
  {
   "cell_type": "markdown",
   "id": "f9c1c389",
   "metadata": {},
   "source": [
    "## 3.1 Create pipeline object using necessary parameters"
   ]
  },
  {
   "cell_type": "code",
   "execution_count": null,
   "id": "e979b9c1",
   "metadata": {},
   "outputs": [],
   "source": [
    "pipeline_object = import_model(\n",
    "                    model_id = \"bert-base-uncased\",\n",
    "                    task_name = \"fill-mask\",\n",
    "                    registry_name = \"azureml-preview-test1\"\n",
    "                    )"
   ]
  },
  {
   "cell_type": "markdown",
   "id": "f293357d",
   "metadata": {},
   "source": [
    "## 3.2 Setting pipeline computes,identity "
   ]
  },
  {
   "cell_type": "code",
   "execution_count": null,
   "id": "1391afcb",
   "metadata": {},
   "outputs": [],
   "source": [
    "# Settings of compute and Identity\n",
    "pipeline_object.settings.force_rerun = True\n",
    "pipeline_object.settings.default_compute  = cluster_name\n",
    "pipeline_object.identity = UserIdentityConfiguration()"
   ]
  },
  {
   "cell_type": "markdown",
   "id": "e32bb8d9",
   "metadata": {},
   "source": [
    "# 4. Submit the import job\n"
   ]
  },
  {
   "cell_type": "code",
   "execution_count": null,
   "id": "4ae3f1f8",
   "metadata": {},
   "outputs": [],
   "source": [
    "# submit the pipeline job\n",
    "pipeline_job = ml_client_ws.jobs.create_or_update(pipeline_object, experiment_name=f\"{model_id} import\")\n",
    "# wait for the pipeline job to complete\n",
    "ml_client_ws.jobs.stream(pipeline_job.name)"
   ]
  }
 ],
 "metadata": {
  "kernelspec": {
   "display_name": "Python 3 (ipykernel)",
   "language": "python",
   "name": "python3"
  },
  "language_info": {
   "codemirror_mode": {
    "name": "ipython",
    "version": 3
   },
   "file_extension": ".py",
   "mimetype": "text/x-python",
   "name": "python",
   "nbconvert_exporter": "python",
   "pygments_lexer": "ipython3",
   "version": "3.10.7"
  }
 },
 "nbformat": 4,
 "nbformat_minor": 5
}
