{
 "cells": [
  {
   "attachments": {},
   "cell_type": "markdown",
   "metadata": {},
   "source": [
    "# iris batch prediction example \\[Parallel job\\] \\[SDK example\\]\n",
    "## Key notes for this example\n",
    "- How to use **parallel job** for **batch inferencing** scenario.\n",
    "- How to use parallel job **run_function** task with predefined **entry_script**.\n",
    "- How to use **mltable** with **tabular data** as the **input of parallel job**.\n",
    "- How to use **mini_batch_size** in parallel job to split input data by size. \n",
    "- How to use **append_row_to** to aggregate returns to **uri_file** output.\n",
    "- How to use parallel job advanced args:\n",
    "  - allowed_failed_percent\n",
    "  - task_overhead_timeout\n",
    "  - progress_update_timeout\n",
    "  - first_task_creation_timeout\n",
    "  - resource_monitor_interval\n",
    "\n",
    "To get the same example with CLI + Yaml experience, please refer to: [link](../../../../../cli/jobs/parallel/2a_iris_batch_prediction/README.md)"
   ]
  },
  {
   "cell_type": "markdown",
   "metadata": {},
   "source": [
    "# 1. Connect to Azure Machine Learning Workspace\n",
    "## 1.1 Import the required libraries"
   ]
  },
  {
   "cell_type": "code",
   "execution_count": null,
   "metadata": {
    "gather": {
     "logged": 1675409840552
    },
    "name": "required-library"
   },
   "outputs": [],
   "source": [
    "# import required libraries\n",
    "from azure.identity import DefaultAzureCredential, InteractiveBrowserCredential\n",
    "from azure.ai.ml import MLClient, Input, Output, load_component\n",
    "from azure.ai.ml.dsl import pipeline\n",
    "from azure.ai.ml.entities import Environment, ResourceConfiguration\n",
    "from azure.ai.ml.constants import AssetTypes, InputOutputModes\n",
    "from azure.ai.ml.parallel import parallel_run_function, RunFunction"
   ]
  },
  {
   "cell_type": "markdown",
   "metadata": {},
   "source": [
    "## 1.2 Configure credential\n",
    "`DefaultAzureCredential` should be capable of handling most Azure SDK authentication scenarios. \n",
    "\n",
    "Reference for more available credentials if it does not work for you: [configure credential example](../../configuration.ipynb), [azure-identity reference doc](https://docs.microsoft.com/en-us/python/api/azure-identity/azure.identity?view=azure-python)."
   ]
  },
  {
   "cell_type": "code",
   "execution_count": null,
   "metadata": {
    "gather": {
     "logged": 1675409848584
    },
    "name": "credential"
   },
   "outputs": [],
   "source": [
    "try:\n",
    "    credential = DefaultAzureCredential()\n",
    "    # Check if given credential can get token successfully.\n",
    "    credential.get_token(\"https://management.azure.com/.default\")\n",
    "except Exception as ex:\n",
    "    # Fall back to InteractiveBrowserCredential in case DefaultAzureCredential not work\n",
    "    credential = InteractiveBrowserCredential()"
   ]
  },
  {
   "cell_type": "markdown",
   "metadata": {},
   "source": [
    "## 1.3 Get a handle to the workspace\n",
    "\n",
    "We use config file to connect to a workspace. The Azure ML workspace should be configured with computer cluster. [Check this notebook for configure a workspace](../../configuration.ipynb)"
   ]
  },
  {
   "cell_type": "code",
   "execution_count": null,
   "metadata": {
    "gather": {
     "logged": 1675409855519
    },
    "name": "workspace"
   },
   "outputs": [],
   "source": [
    "# Get a handle to workspace\n",
    "ml_client = MLClient.from_config(credential=credential)\n",
    "\n",
    "# Retrieve an already attached Azure Machine Learning Compute.\n",
    "cpu_compute_target = \"cpu-cluster\"\n",
    "print(ml_client.compute.get(cpu_compute_target))"
   ]
  },
  {
   "cell_type": "markdown",
   "metadata": {},
   "source": [
    "# 2. Define parallel job in pipeline"
   ]
  },
  {
   "cell_type": "code",
   "execution_count": null,
   "metadata": {
    "gather": {
     "logged": 1675411996528
    },
    "name": "parallel-job-for-file-data"
   },
   "outputs": [],
   "source": [
    "# Declare parallel job with run_function task\n",
    "batch_inferencing_with_mini_batch_size = parallel_run_function(\n",
    "    name=\"batch_inferencing_with_mini_batch_size\",\n",
    "    display_name=\"Batch Inferencing with mini_batch_size\",\n",
    "    description=\"parallel job to do batch inferencing with mini_batch_size on mltable tabular input\",\n",
    "    tags={\n",
    "        \"azureml_parallel_example\": \"2a_sdk\",\n",
    "    },\n",
    "    inputs=dict(\n",
    "        input_data=Input(\n",
    "            type=AssetTypes.MLTABLE,\n",
    "            description=\"Input tabular mltable data.\",\n",
    "            mode=InputOutputModes.DIRECT,  # [Important] To use mltable tabular data, it is required to use 'direct' mode.\n",
    "        ),\n",
    "        score_model=Input(\n",
    "            type=AssetTypes.URI_FOLDER,\n",
    "            description=\"Folder contains the model file.\",\n",
    "            mode=InputOutputModes.DOWNLOAD,\n",
    "        ),\n",
    "    ),\n",
    "    outputs=dict(\n",
    "        job_output_file=Output(\n",
    "            type=AssetTypes.URI_FILE,\n",
    "            mode=InputOutputModes.RW_MOUNT,\n",
    "        ),\n",
    "    ),\n",
    "    input_data=\"${{inputs.input_data}}\",  # Define which input data will be splitted into mini-batches\n",
    "    mini_batch_size=\"10kb\",  # Use 'mini_batch_size' as the data division method. For tabular input data, it split data by physical size.\n",
    "    instance_count=2,  # Use 2 nodes from compute cluster to run this parallel job.\n",
    "    max_concurrency_per_instance=1,  # Create 2 worker processors in each compute node to execute mini-batches.\n",
    "    error_threshold=5,  # Monitor the failures of item processed by the gap between mini-batch input count and returns. 'Batch inferencing' scenario should return a list, dataframe, or tuple with the successful items to try to meet this threshold.\n",
    "    mini_batch_error_threshold=5,  # Monitor the failed mini-batch by exception, time out, or null return. When failed mini-batch count is higher than this setting, the parallel job will be marked as 'failed'.\n",
    "    retry_settings=dict(\n",
    "        max_retries=2,  # Define how many retries when mini-batch execution is failed by exception, time out, or null return.\n",
    "        timeout=60,  # Define the timeout in second for each mini-batch execution.\n",
    "    ),\n",
    "    logging_level=\"DEBUG\",\n",
    "    environment_variables={\n",
    "        \"AZUREML_PARALLEL_EXAMPLE\": \"2a_sdk\",\n",
    "    },\n",
    "    task=RunFunction(\n",
    "        code=\"./script\",\n",
    "        entry_script=\"iris_prediction.py\",\n",
    "        environment=Environment(\n",
    "            image=\"mcr.microsoft.com/azureml/openmpi4.1.0-ubuntu20.04\",\n",
    "            conda_file=\"./environment/environment_parallel.yml\",\n",
    "        ),\n",
    "        program_arguments=\"--model ${{inputs.score_model}} \"  # Passthrough input model folder path into script.\n",
    "        \"--allowed_failed_percent 30 \"  # Advanced parallel setting in arguments. Visit https://learn.microsoft.com/en-us/azure/machine-learning/how-to-use-parallel-job-in-pipeline?tabs=cliv2#consider-automation-settings for more details.\n",
    "        \"--task_overhead_timeout 1200 \"\n",
    "        \"--progress_update_timeout 600 \"\n",
    "        \"--resource_monitor_interval 20 \",\n",
    "        append_row_to=\"${{outputs.job_output_file}}\",  # Define where to output the aggregated returns from each mini-batches.\n",
    "    ),\n",
    ")"
   ]
  },
  {
   "cell_type": "markdown",
   "metadata": {},
   "source": [
    "# 3. Build pipeline"
   ]
  },
  {
   "cell_type": "code",
   "execution_count": null,
   "metadata": {
    "gather": {
     "logged": 1675412000673
    },
    "name": "build-pipeline"
   },
   "outputs": [],
   "source": [
    "# Declare the inputs of the job.\n",
    "input_iris_data = Input(\n",
    "    path=\"./neural-iris-mltable\", type=AssetTypes.MLTABLE, mode=InputOutputModes.DIRECT\n",
    ")\n",
    "input_model_folder = Input(\n",
    "    path=\"./iris-model\", type=AssetTypes.URI_FOLDER, mode=InputOutputModes.DOWNLOAD\n",
    ")\n",
    "\n",
    "# Declare pipeline structure.\n",
    "@pipeline(\n",
    "    display_name=\"parallel job for iris batch inferencing\",\n",
    ")\n",
    "def parallel_job_in_pipeline():\n",
    "    # Declare parallel inferencing job.\n",
    "    parallel_train = batch_inferencing_with_mini_batch_size(\n",
    "        input_data=input_iris_data,\n",
    "        score_model=input_model_folder,\n",
    "    )\n",
    "\n",
    "    # User could override parallel job run-level property when invoke that parallel job/component in pipeline.\n",
    "    parallel_train.resources.instance_count = 2\n",
    "    parallel_train.max_concurrency_per_instance = 2\n",
    "    parallel_train.mini_batch_error_threshold = 10\n",
    "    parallel_train.outputs.job_output_file.path = \"azureml://datastores/${{default_datastore}}/paths/${{name}}/aggregated_returns.csv\"\n",
    "\n",
    "\n",
    "# Create pipeline instance\n",
    "my_job = parallel_job_in_pipeline()\n",
    "\n",
    "# Set pipeline level compute\n",
    "my_job.tags.update\n",
    "my_job.settings.default_compute = \"cpu-cluster\""
   ]
  },
  {
   "cell_type": "code",
   "execution_count": null,
   "metadata": {
    "gather": {
     "logged": 1675412007635
    }
   },
   "outputs": [],
   "source": [
    "print(my_job)"
   ]
  },
  {
   "cell_type": "markdown",
   "metadata": {},
   "source": [
    "# 4. Submit pipeline job"
   ]
  },
  {
   "cell_type": "code",
   "execution_count": null,
   "metadata": {
    "gather": {
     "logged": 1675412018584
    },
    "name": "submit-pipeline"
   },
   "outputs": [],
   "source": [
    "pipeline_job = ml_client.jobs.create_or_update(\n",
    "    my_job,\n",
    "    experiment_name=\"hello-world-parallel-job\",\n",
    ")\n",
    "pipeline_job"
   ]
  },
  {
   "cell_type": "code",
   "execution_count": null,
   "metadata": {
    "name": "stream-pipeline"
   },
   "outputs": [],
   "source": [
    "# wait until the job completes\n",
    "ml_client.jobs.stream(pipeline_job.name)"
   ]
  }
 ],
 "metadata": {
  "description": {
   "description": "Create pipeline with parallel node to do batch inference"
  },
  "kernel_info": {
   "name": "python3"
  },
  "kernelspec": {
   "display_name": "vnext",
   "language": "python",
   "name": "python3"
  },
  "language_info": {
   "codemirror_mode": {
    "name": "ipython",
    "version": 3
   },
   "file_extension": ".py",
   "mimetype": "text/x-python",
   "name": "python",
   "nbconvert_exporter": "python",
   "pygments_lexer": "ipython3",
   "version": "3.7.15"
  },
  "microsoft": {
   "host": {
    "AzureML": {
     "notebookHasBeenCompleted": true
    }
   }
  },
  "nteract": {
   "version": "nteract-front-end@1.0.0"
  },
  "vscode": {
   "interpreter": {
    "hash": "f1648a01f415a15976454e88ab551f1eeb39d06522c1fdad5697f49923f4699e"
   }
  }
 },
 "nbformat": 4,
 "nbformat_minor": 0
}
