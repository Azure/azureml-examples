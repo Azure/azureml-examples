{
 "cells": [
  {
   "attachments": {},
   "cell_type": "markdown",
   "metadata": {},
   "source": [
    "# Azure ML Tables: Local to cloud example ☁️\n",
    "\n",
    "In this notebook, you'll see how AzureML Tables (`mltable` type) can be used locally without any connection to the cloud or Azure ML. Then you'll see how you can upload your data to the cloud by creating an asset and consume that asset in a notebook and/or job."
   ]
  },
  {
   "cell_type": "code",
   "execution_count": null,
   "metadata": {},
   "outputs": [],
   "source": [
    "%pip install -r ../mltable-requirements.txt"
   ]
  },
  {
   "attachments": {},
   "cell_type": "markdown",
   "metadata": {},
   "source": [
    "## Create an MLTable file using Python 🐍\n",
    "\n",
    "Here you build your data loading steps using the `mltable` Python SDK. The `show()` method allows you to see the effect of the data loading transformation."
   ]
  },
  {
   "cell_type": "code",
   "execution_count": null,
   "metadata": {},
   "outputs": [],
   "source": [
    "import mltable\n",
    "from mltable import DataType\n",
    "\n",
    "# Here we use a glob pattern to find the titanic.csv file by recursively searching the current directory\n",
    "paths = [{\"pattern\": \"./**/titanic.csv\"}]\n",
    "\n",
    "# create a table from the titanic.csv file. In this case, we don't want to infer the column types\n",
    "tbl = mltable.from_delimited_files(paths, infer_column_types=False)\n",
    "\n",
    "# set the column types\n",
    "column_types = {\n",
    "    \"PassengerId\": DataType.to_int(),\n",
    "    \"Survived\": DataType.to_int(),\n",
    "    \"Pclass\": DataType.to_int(),\n",
    "    \"Name\": DataType.to_string(),\n",
    "    \"Sex\": DataType.to_string(),\n",
    "    \"Age\": DataType.to_int(),\n",
    "    \"SibSp\": DataType.to_int(),\n",
    "    \"Parch\": DataType.to_int(),\n",
    "    \"Ticket\": DataType.to_string(),\n",
    "    \"Fare\": DataType.to_float(),\n",
    "    \"Cabin\": DataType.to_string(),\n",
    "    \"Embarked\": DataType.to_string(),\n",
    "}\n",
    "tbl = tbl.convert_column_types(column_types)\n",
    "\n",
    "# drop passengerId, Name and ticket columns\n",
    "tbl = tbl.drop_columns([\"PassengerId\", \"Ticket\", \"Name\"])\n",
    "\n",
    "# display the first 5 rows of the table\n",
    "tbl.show(5)"
   ]
  },
  {
   "attachments": {},
   "cell_type": "markdown",
   "metadata": {},
   "source": [
    "### Note: You can load an Azure ML Table into a Pandas data frame 🐼\n",
    "\n",
    "You can load your Azure ML Table into Pandas using:"
   ]
  },
  {
   "cell_type": "code",
   "execution_count": null,
   "metadata": {},
   "outputs": [],
   "source": [
    "df = tbl.to_pandas_dataframe()\n",
    "df.head(5)"
   ]
  },
  {
   "attachments": {},
   "cell_type": "markdown",
   "metadata": {},
   "source": [
    "## 💾 Save the data loading steps to an MLTable file\n",
    "\n",
    "We recommend storing the `MLTable` file with the data, so you have a self-contained artifact where everything you need is in that folder path."
   ]
  },
  {
   "cell_type": "code",
   "execution_count": null,
   "metadata": {},
   "outputs": [],
   "source": [
    "# save the MLTable to local disk - in the same directory as the titanic.csv file\n",
    "tbl.save(\"./data\")"
   ]
  },
  {
   "attachments": {},
   "cell_type": "markdown",
   "metadata": {},
   "source": [
    "## ♻️ Reproduce the data loading steps\n",
    "\n",
    "With your data loading steps saved into an `MLTable` file, you can re-load the Table you want at any point in time using the `load()` method:"
   ]
  },
  {
   "cell_type": "code",
   "execution_count": null,
   "metadata": {},
   "outputs": [],
   "source": [
    "# load in the table from the saved location\n",
    "tbl = mltable.load(\"./data\")\n",
    "\n",
    "# load the table into a pandas dataframe\n",
    "df = tbl.to_pandas_dataframe()\n",
    "\n",
    "# show the first few rows of the dataframe\n",
    "df.head()"
   ]
  },
  {
   "attachments": {},
   "cell_type": "markdown",
   "metadata": {},
   "source": [
    "## Create a data asset to aid sharing and reproducibility 🤝\n",
    "\n",
    "Your data (including the `MLTable` file) is currently saved on disk, making it hard to share with Team members. By creating a *data asset* in AzureML, your data will be uploaded to cloud storage and \"bookmarked\", meaning your Team members can access the MLTable using a friendly name. Also, the data asset is *versioned*."
   ]
  },
  {
   "cell_type": "code",
   "execution_count": null,
   "metadata": {},
   "outputs": [],
   "source": [
    "subscription_id = \"<SUBSCRIPTION_ID>\"\n",
    "resource_group = \"<RESOURCE_GROUP>\"\n",
    "workspace = \"<AML_WORKSPACE_NAME>\""
   ]
  },
  {
   "cell_type": "code",
   "execution_count": null,
   "metadata": {},
   "outputs": [],
   "source": [
    "from azure.ai.ml import MLClient\n",
    "from azure.ai.ml.entities import Data\n",
    "from azure.ai.ml.constants import AssetTypes\n",
    "from azure.identity import DefaultAzureCredential\n",
    "\n",
    "# connect to the AzureML workspace\n",
    "ml_client = MLClient(\n",
    "    DefaultAzureCredential(), subscription_id, resource_group, workspace\n",
    ")\n",
    "\n",
    "my_path = \"./data\"\n",
    "\n",
    "my_data = Data(\n",
    "    path=my_path,\n",
    "    type=AssetTypes.MLTABLE,\n",
    "    description=\"The titanic dataset.\",\n",
    "    name=\"titanic-example\",\n",
    ")\n",
    "\n",
    "ml_client.data.create_or_update(my_data)"
   ]
  },
  {
   "cell_type": "markdown",
   "metadata": {},
   "source": [
    "## Access data asset in an interactive session\n",
    "\n",
    "Now you have your MLTable stored in the cloud, you and Team members can access it using a friendly name in an interactive session (for example, a notebook)."
   ]
  },
  {
   "cell_type": "code",
   "execution_count": null,
   "metadata": {},
   "outputs": [],
   "source": [
    "import mltable\n",
    "from azure.ai.ml import MLClient\n",
    "from azure.identity import DefaultAzureCredential\n",
    "\n",
    "# connect to the AzureML workspace\n",
    "ml_client = MLClient(\n",
    "    DefaultAzureCredential(), subscription_id, resource_group, workspace\n",
    ")\n",
    "\n",
    "# get the latest version of the data asset\n",
    "data_asset = ml_client.data.list(name=\"titanic-example\").next()\n",
    "\n",
    "# create a table\n",
    "tbl = mltable.load(f\"azureml:/{data_asset.id}\")\n",
    "\n",
    "# load into a pandas dataframe\n",
    "df = tbl.to_pandas_dataframe()\n",
    "df.head()"
   ]
  },
  {
   "cell_type": "markdown",
   "metadata": {},
   "source": [
    "## Access data asset into a job\n",
    "\n",
    "You can also access your Table in a job, using:"
   ]
  },
  {
   "cell_type": "code",
   "execution_count": null,
   "metadata": {},
   "outputs": [],
   "source": [
    "from azure.ai.ml import MLClient, command, Input\n",
    "from azure.ai.ml.entities import Environment\n",
    "from azure.identity import DefaultAzureCredential\n",
    "\n",
    "# connect to the AzureML workspace\n",
    "ml_client = MLClient(\n",
    "    DefaultAzureCredential(), subscription_id, resource_group, workspace\n",
    ")\n",
    "\n",
    "# get the data asset\n",
    "data_asset = ml_client.data.get(name=\"titanic-example\", version=\"1\")\n",
    "\n",
    "job = command(\n",
    "    command=\"python train.py --input ${{inputs.titanic}}\",\n",
    "    inputs={\"titanic\": Input(type=\"mltable\", path=data_asset.id)},\n",
    "    compute=\"cpu-cluster\",\n",
    "    environment=Environment(\n",
    "        image=\"mcr.microsoft.com/azureml/openmpi4.1.0-ubuntu20.04\",\n",
    "        conda_file=\"./job-env/conda_dependencies.yml\",\n",
    "    ),\n",
    "    code=\"./src\",\n",
    ")\n",
    "\n",
    "ml_client.jobs.create_or_update(job)"
   ]
  }
 ],
 "metadata": {
  "kernelspec": {
   "display_name": "Python 3.10 - SDK V2",
   "language": "python",
   "name": "python310-sdkv2"
  },
  "language_info": {
   "codemirror_mode": {
    "name": "ipython",
    "version": 3
   },
   "file_extension": ".py",
   "mimetype": "text/x-python",
   "name": "python",
   "nbconvert_exporter": "python",
   "pygments_lexer": "ipython3",
   "version": "3.10.9"
  }
 },
 "nbformat": 4,
 "nbformat_minor": 2
}
