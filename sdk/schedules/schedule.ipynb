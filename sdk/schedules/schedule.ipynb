{
 "cells": [
  {
   "cell_type": "markdown",
   "metadata": {},
   "source": [
    "# Working with Schedule\n",
    "\n",
    "**Requirements** - In order to benefit from this tutorial, you will need:\n",
    "- A basic understanding of Machine Learning\n",
    "- An Azure account with an active subscription. [Create an account for free](https://azure.microsoft.com/free/?WT.mc_id=A261C142F)\n",
    "- An Azure ML workspace - [Configure workspace](../../jobs/configuration.ipynb) \n",
    "- A python environment\n",
    "- Installed Azure Machine Learning Python SDK v2 - [install instructions](../../README.md) - check the getting started section\n",
    "\n",
    "**Learning Objectives** - By the end of this tutorial, you should be able to:\n",
    "- Create schedule from Python SDK\n",
    "- Enable/Disable schedule from Python SDK\n",
    "- Update schedule's trigger from Python SDK\n",
    "\n",
    "**Motivations** - This notebook covers the main scenario that user management schedule for job in SDK v2."
   ]
  },
  {
   "cell_type": "markdown",
   "metadata": {},
   "source": [
    "# 1. Connect to Azure Machine Learning Workspace\n",
    "\n",
    "The [workspace](https://docs.microsoft.com/en-us/azure/machine-learning/concept-workspace) is the top-level resource for Azure Machine Learning, providing a centralized place to work with all the artifacts you create when you use Azure Machine Learning. In this section we will connect to the workspace in which the job will be run.\n",
    "\n",
    "## 1.1. Import the required libraries"
   ]
  },
  {
   "cell_type": "code",
   "execution_count": 4,
   "metadata": {},
   "outputs": [],
   "source": [
    "# Import required libraries\n",
    "from azure.identity import DefaultAzureCredential, InteractiveBrowserCredential\n",
    "\n",
    "from azure.ai.ml import MLClient, Input\n",
    "from azure.ai.ml import load_component\n",
    "from azure.ai.ml.dsl import pipeline"
   ]
  },
  {
   "cell_type": "markdown",
   "metadata": {},
   "source": [
    "## 1.2. Configure credential\n",
    "\n",
    "We are using `DefaultAzureCredential` to get access to workspace. When an access token is needed, it requests one using multiple identities(`EnvironmentCredential, ManagedIdentityCredential, SharedTokenCacheCredential, VisualStudioCodeCredential, AzureCliCredential, AzurePowerShellCredential`) in turn, stopping when one provides a token.\n",
    "Reference [here](https://docs.microsoft.com/en-us/python/api/azure-identity/azure.identity.defaultazurecredential?view=azure-python) for more information.\n",
    "\n",
    "`DefaultAzureCredential` should be capable of handling most Azure SDK authentication scenarios. \n",
    "Reference [here](https://docs.microsoft.com/en-us/python/api/azure-identity/azure.identity?view=azure-python) for all available credentials if it does not work for you.  "
   ]
  },
  {
   "cell_type": "code",
   "execution_count": 5,
   "metadata": {},
   "outputs": [
    {
     "name": "stderr",
     "output_type": "stream",
     "text": [
      "DefaultAzureCredential failed to retrieve a token from the included credentials.\n",
      "Attempted credentials:\n",
      "\tEnvironmentCredential: EnvironmentCredential authentication unavailable. Environment variables are not fully configured.\n",
      "Visit https://aka.ms/azsdk/python/identity/environmentcredential/troubleshoot to troubleshoot.this issue.\n",
      "\tManagedIdentityCredential: ManagedIdentityCredential authentication unavailable, no response from the IMDS endpoint.\n",
      "\tSharedTokenCacheCredential: Shared token cache unavailable\n",
      "\tVisualStudioCodeCredential: Azure Active Directory error '(invalid_grant) AADSTS700082: The refresh token has expired due to inactivity. The token was issued on 2022-01-12T00:05:41.8429245Z and was inactive for 90.00:00:00.\n",
      "Trace ID: 2ae53689-b9d1-46d8-aa1a-7ff643e32400\n",
      "Correlation ID: 1afe0522-c590-43f7-9d7a-9ec6751acce7\n",
      "Timestamp: 2022-08-02 09:02:15Z'\n",
      "Content: {\"error\":\"invalid_grant\",\"error_description\":\"AADSTS700082: The refresh token has expired due to inactivity. The token was issued on 2022-01-12T00:05:41.8429245Z and was inactive for 90.00:00:00.\\r\\nTrace ID: 2ae53689-b9d1-46d8-aa1a-7ff643e32400\\r\\nCorrelation ID: 1afe0522-c590-43f7-9d7a-9ec6751acce7\\r\\nTimestamp: 2022-08-02 09:02:15Z\",\"error_codes\":[700082],\"timestamp\":\"2022-08-02 09:02:15Z\",\"trace_id\":\"2ae53689-b9d1-46d8-aa1a-7ff643e32400\",\"correlation_id\":\"1afe0522-c590-43f7-9d7a-9ec6751acce7\",\"error_uri\":\"https://login.microsoftonline.com/error?code=700082\"}\n",
      "To mitigate this issue, please refer to the troubleshooting guidelines here at https://aka.ms/azsdk/python/identity/defaultazurecredential/troubleshoot.\n"
     ]
    }
   ],
   "source": [
    "try:\n",
    "    credential = DefaultAzureCredential()\n",
    "    # Check if given credential can get token successfully.\n",
    "    credential.get_token(\"https://management.azure.com/.default\")\n",
    "except Exception as ex:\n",
    "    # Fall back to InteractiveBrowserCredential in case DefaultAzureCredential not work\n",
    "    credential = InteractiveBrowserCredential()"
   ]
  },
  {
   "cell_type": "markdown",
   "metadata": {},
   "source": [
    "## 1.3. Configure workspace details and get a handle to the workspace\n",
    "\n",
    "To connect to a workspace, we need identifier parameters - a subscription, resource group and workspace name. We will use these details in the `MLClient` from `azure.ai.ml` to get a handle to the required Azure Machine Learning workspace."
   ]
  },
  {
   "cell_type": "code",
   "execution_count": 6,
   "metadata": {},
   "outputs": [
    {
     "name": "stderr",
     "output_type": "stream",
     "text": [
      "Found the config file in: .\\config.json\n"
     ]
    },
    {
     "name": "stdout",
     "output_type": "stream",
     "text": [
      "MLClient(credential=<azure.identity._credentials.browser.InteractiveBrowserCredential object at 0x000001D335B22490>,\n",
      "         subscription_id=96aede12-2f73-41cb-b983-6d11a904839b,\n",
      "         resource_group_name=sdk,\n",
      "         workspace_name=sdk-master)\n"
     ]
    }
   ],
   "source": [
    "try:\n",
    "    ml_client = MLClient.from_config(credential=credential)\n",
    "except Exception as ex:\n",
    "    # enter details of your AML workspace\n",
    "    subscription_id = \"<SUBSCRIPTION_ID>\"\n",
    "    resource_group = \"<RESOURCE_GROUP>\"\n",
    "    workspace = \"<AML_WORKSPACE_NAME>\"\n",
    "\n",
    "    # get a handle to the workspace\n",
    "    ml_client = MLClient(credential, subscription_id, resource_group, workspace)\n",
    "print(ml_client)"
   ]
  },
  {
   "cell_type": "markdown",
   "metadata": {},
   "source": [
    "## 1.4 Create a pipeline job with settings"
   ]
  },
  {
   "cell_type": "code",
   "execution_count": 7,
   "metadata": {
    "name": "create_pipeline_job"
   },
   "outputs": [],
   "source": [
    "parent_dir = \"../jobs/pipelines/1a_pipeline_with_components_from_yaml\"\n",
    "train_model = load_component(path=parent_dir + \"/train_model.yml\")\n",
    "score_data = load_component(path=parent_dir + \"/score_data.yml\")\n",
    "eval_model = load_component(path=parent_dir + \"/eval_model.yml\")\n",
    "\n",
    "# Construct pipeline\n",
    "@pipeline()\n",
    "def pipeline_with_components_from_yaml(\n",
    "    training_input,\n",
    "    test_input,\n",
    "    training_max_epochs=20,\n",
    "    training_learning_rate=1.8,\n",
    "    learning_rate_schedule=\"time-based\",\n",
    "):\n",
    "    \"\"\"E2E dummy train-score-eval pipeline with components defined via yaml.\"\"\"\n",
    "    # Call component obj as function: apply given inputs & parameters to create a node in pipeline\n",
    "    train_with_sample_data = train_model(\n",
    "        training_data=training_input,\n",
    "        max_epochs=training_max_epochs,\n",
    "        learning_rate=training_learning_rate,\n",
    "        learning_rate_schedule=learning_rate_schedule,\n",
    "    )\n",
    "\n",
    "    score_with_sample_data = score_data(\n",
    "        model_input=train_with_sample_data.outputs.model_output, test_data=test_input\n",
    "    )\n",
    "    score_with_sample_data.outputs.score_output.mode = \"upload\"\n",
    "\n",
    "    eval_with_sample_data = eval_model(\n",
    "        scoring_result=score_with_sample_data.outputs.score_output\n",
    "    )\n",
    "\n",
    "    # Return: pipeline outputs\n",
    "    return {\n",
    "        \"trained_model\": train_with_sample_data.outputs.model_output,\n",
    "        \"scored_data\": score_with_sample_data.outputs.score_output,\n",
    "        \"evaluation_report\": eval_with_sample_data.outputs.eval_output,\n",
    "    }\n",
    "\n",
    "\n",
    "pipeline_job = pipeline_with_components_from_yaml(\n",
    "    training_input=Input(type=\"uri_folder\", path=parent_dir + \"/data/\"),\n",
    "    test_input=Input(type=\"uri_folder\", path=parent_dir + \"/data/\"),\n",
    "    training_max_epochs=20,\n",
    "    training_learning_rate=1.8,\n",
    "    learning_rate_schedule=\"time-based\",\n",
    ")\n",
    "\n",
    "# set pipeline level compute\n",
    "pipeline_job.settings.default_compute = \"cpu-cluster\""
   ]
  },
  {
   "cell_type": "markdown",
   "metadata": {},
   "source": [
    "## 2.1 Create schedule\n",
    "### 2.1.1 Create schedule with with recurrence pattern"
   ]
  },
  {
   "cell_type": "code",
   "execution_count": 8,
   "metadata": {
    "name": "create_schedule_recurrence"
   },
   "outputs": [
    {
     "ename": "ImportError",
     "evalue": "cannot import name 'RecurrencePattern' from 'azure.ai.ml.constants' (d:\\anconda\\envs\\sdk-preview\\lib\\site-packages\\azure\\ai\\ml\\constants.py)",
     "output_type": "error",
     "traceback": [
      "\u001b[1;31m---------------------------------------------------------------------------\u001b[0m",
      "\u001b[1;31mImportError\u001b[0m                               Traceback (most recent call last)",
      "\u001b[1;32md:\\azureml-examples\\sdk\\schedules\\schedule.ipynb Cell 11\u001b[0m in \u001b[0;36m<cell line: 4>\u001b[1;34m()\u001b[0m\n\u001b[0;32m      <a href='vscode-notebook-cell:/d%3A/azureml-examples/sdk/schedules/schedule.ipynb#ch0000010?line=1'>2</a>\u001b[0m \u001b[39mfrom\u001b[39;00m \u001b[39mdatetime\u001b[39;00m \u001b[39mimport\u001b[39;00m datetime\n\u001b[0;32m      <a href='vscode-notebook-cell:/d%3A/azureml-examples/sdk/schedules/schedule.ipynb#ch0000010?line=2'>3</a>\u001b[0m \u001b[39mfrom\u001b[39;00m \u001b[39mdateutil\u001b[39;00m \u001b[39mimport\u001b[39;00m tz\n\u001b[1;32m----> <a href='vscode-notebook-cell:/d%3A/azureml-examples/sdk/schedules/schedule.ipynb#ch0000010?line=3'>4</a>\u001b[0m \u001b[39mfrom\u001b[39;00m \u001b[39mazure\u001b[39;00m\u001b[39m.\u001b[39;00m\u001b[39mai\u001b[39;00m\u001b[39m.\u001b[39;00m\u001b[39mml\u001b[39;00m\u001b[39m.\u001b[39;00m\u001b[39mconstants\u001b[39;00m \u001b[39mimport\u001b[39;00m TimeZone, RecurrencePattern\n\u001b[0;32m      <a href='vscode-notebook-cell:/d%3A/azureml-examples/sdk/schedules/schedule.ipynb#ch0000010?line=5'>6</a>\u001b[0m schedule_name\u001b[39m=\u001b[39m\u001b[39m\"\u001b[39m\u001b[39msimple_sdk_create_schedule_recurrence\u001b[39m\u001b[39m\"\u001b[39m\n\u001b[0;32m      <a href='vscode-notebook-cell:/d%3A/azureml-examples/sdk/schedules/schedule.ipynb#ch0000010?line=7'>8</a>\u001b[0m schedule_start_time \u001b[39m=\u001b[39m datetime\u001b[39m.\u001b[39mnow(tz\u001b[39m=\u001b[39mtz\u001b[39m.\u001b[39mtzutc())\n",
      "\u001b[1;31mImportError\u001b[0m: cannot import name 'RecurrencePattern' from 'azure.ai.ml.constants' (d:\\anconda\\envs\\sdk-preview\\lib\\site-packages\\azure\\ai\\ml\\constants.py)"
     ]
    }
   ],
   "source": [
    "from azure.ai.ml.entities import JobSchedule,CronTrigger,RecurrenceTrigger # put it to upper once SDK work is ready\n",
    "from datetime import datetime\n",
    "from dateutil import tz\n",
    "from azure.ai.ml.constants import TimeZone, RecurrencePattern\n",
    "\n",
    "schedule_name=\"simple_sdk_create_schedule_recurrence\"\n",
    "\n",
    "schedule_start_time = datetime.now(tz=tz.tzutc())\n",
    "recurrence_trigger = ScheduleRecurrenceTrigger(\n",
    "    frequency=\"day\",\n",
    "    interval=1,\n",
    "    schedule=RecurrencePattern(hours=10, minutes=[0, 1]),\n",
    "    start_time=schedule_start_time,\n",
    "    time_zone=TimeZone.UTC,\n",
    "    create_job=pipeline_job\n",
    ")\n",
    "\n",
    "job_schedule = JobSchedule(\n",
    "    name=schedule_name,\n",
    "    trigger=recurrence_trigger,\n",
    "    create_job=pipeline_job\n",
    ")\n",
    "\n",
    "\n",
    "# ml_client.schedules.begin_create_or_update(schedule=job_schedule)"
   ]
  },
  {
   "cell_type": "code",
   "execution_count": 1,
   "metadata": {},
   "outputs": [
    {
     "name": "stdout",
     "output_type": "stream",
     "text": [
      "0.0.68331024\n"
     ]
    }
   ],
   "source": [
    "from azure.ai.ml._version import VERSION\n",
    "print(VERSION)"
   ]
  },
  {
   "cell_type": "markdown",
   "metadata": {},
   "source": [
    "### 2.1.2 Create schedule with with cron expression"
   ]
  },
  {
   "cell_type": "code",
   "execution_count": 9,
   "metadata": {
    "name": "create_schedule_cron"
   },
   "outputs": [
    {
     "data": {
      "text/plain": [
       "JobSchedule({'name': 'simple_sdk_create_schedule_cron', 'description': None, 'tags': {}, 'properties': {}, 'id': None, 'Resource__source_path': None, 'base_path': 'd:\\\\azureml-examples\\\\sdk\\\\schedules', 'creation_context': <azure.ai.ml._restclient.v2022_06_01_preview.models._models_py3.SystemData object at 0x000001D337B675E0>, 'serialize': <msrest.serialization.Serializer object at 0x000001D337B817C0>, 'trigger': <azure.ai.ml.entities._schedule.trigger.ScheduleCronTrigger object at 0x000001D337B5AA30>, 'display_name': None, 'create_job': PipelineJob({'inputs': {'training_input': <azure.ai.ml.entities._job.pipeline._io.PipelineInput object at 0x000001D337B81550>, 'test_input': <azure.ai.ml.entities._job.pipeline._io.PipelineInput object at 0x000001D337B81580>, 'training_max_epochs': <azure.ai.ml.entities._job.pipeline._io.PipelineInput object at 0x000001D337B815B0>, 'training_learning_rate': <azure.ai.ml.entities._job.pipeline._io.PipelineInput object at 0x000001D337B815E0>, 'learning_rate_schedule': <azure.ai.ml.entities._job.pipeline._io.PipelineInput object at 0x000001D337B81610>}, 'outputs': {'trained_model': <azure.ai.ml.entities._job.pipeline._io.PipelineOutput object at 0x000001D337B81640>, 'scored_data': <azure.ai.ml.entities._job.pipeline._io.PipelineOutput object at 0x000001D337B81670>, 'evaluation_report': <azure.ai.ml.entities._job.pipeline._io.PipelineOutput object at 0x000001D337B816A0>}, 'component': PipelineComponent({'auto_increment_version': False, 'source': 'REMOTE.WORKSPACE.JOB', 'is_anonymous': True, 'name': 'azureml_anonymous', 'description': 'E2E dummy train-score-eval pipeline with components defined via yaml.', 'tags': {}, 'properties': {}, 'id': None, 'Resource__source_path': None, 'base_path': None, 'creation_context': None, 'serialize': <msrest.serialization.Serializer object at 0x000001D337B7D160>, 'version': '1', 'latest_version': None, 'schema': None, 'type': 'pipeline', 'display_name': 'pipeline_with_components_from_yaml', 'is_deterministic': True, 'inputs': {'training_input': {'type': 'unknown', 'mode': 'ro_mount'}, 'test_input': {'type': 'unknown', 'mode': 'ro_mount'}, 'training_max_epochs': {'type': 'unknown', 'mode': 'ro_mount'}, 'training_learning_rate': {'type': 'unknown', 'mode': 'ro_mount'}, 'learning_rate_schedule': {'type': 'unknown', 'mode': 'ro_mount'}}, 'outputs': {'trained_model': {'type': 'unknown', 'mode': 'rw_mount'}, 'scored_data': {'type': 'unknown', 'mode': 'rw_mount'}, 'evaluation_report': {'type': 'unknown', 'mode': 'rw_mount'}}, 'yaml_str': None, 'other_parameter': {}, 'func': <function [component] pipeline_with_components_from_yaml at 0x000001D3375F73A0>, 'jobs': {'train_with_sample_data': Command({'parameters': {}, 'init': False, 'type': 'command', 'status': None, 'log_files': None, 'name': 'train_with_sample_data', 'description': None, 'tags': {}, 'properties': {}, 'id': None, 'Resource__source_path': None, 'base_path': None, 'creation_context': None, 'serialize': <msrest.serialization.Serializer object at 0x000001D337B67550>, 'allowed_keys': {}, 'key_restriction': False, 'logger': <Logger attr_dict (WARNING)>, 'display_name': None, 'experiment_name': None, 'compute': None, 'services': None, 'job_inputs': {'training_data': '${{parent.inputs.training_input}}', 'max_epochs': '${{parent.inputs.training_max_epochs}}', 'learning_rate': '${{parent.inputs.training_learning_rate}}', 'learning_rate_schedule': '${{parent.inputs.learning_rate_schedule}}'}, 'job_outputs': {'model_output': '${{parent.outputs.trained_model}}'}, 'inputs': {'training_data': <azure.ai.ml.entities._job.pipeline._io.PipelineInputBase object at 0x000001D337B67FD0>, 'max_epochs': <azure.ai.ml.entities._job.pipeline._io.PipelineInputBase object at 0x000001D337B67B20>, 'learning_rate': <azure.ai.ml.entities._job.pipeline._io.PipelineInputBase object at 0x000001D337B67F70>, 'learning_rate_schedule': <azure.ai.ml.entities._job.pipeline._io.PipelineInputBase object at 0x000001D337B67DF0>}, 'outputs': {'model_output': <azure.ai.ml.entities._job.pipeline._io.PipelineOutputBase object at 0x000001D337B7D040>}, 'component': '/subscriptions/96aede12-2f73-41cb-b983-6d11a904839b/resourceGroups/sdk/providers/Microsoft.MachineLearningServices/workspaces/sdk-master/components/azureml_anonymous/versions/936424a5-aea3-4dc4-96e9-d0b390ed4040', 'kwargs': {}, 'instance_id': '48158bda-45df-4265-a5b7-31d2a3548309', 'limits': None, 'identity': None, 'distribution': None, 'environment_variables': {}, 'environment': None, 'resources': None, 'swept': False}), 'score_with_sample_data': Command({'parameters': {}, 'init': False, 'type': 'command', 'status': None, 'log_files': None, 'name': 'score_with_sample_data', 'description': None, 'tags': {}, 'properties': {}, 'id': None, 'Resource__source_path': None, 'base_path': None, 'creation_context': None, 'serialize': <msrest.serialization.Serializer object at 0x000001D337B67C10>, 'allowed_keys': {}, 'key_restriction': False, 'logger': <Logger attr_dict (WARNING)>, 'display_name': None, 'experiment_name': None, 'compute': None, 'services': None, 'job_inputs': {'model_input': '${{parent.jobs.train_with_sample_data.outputs.model_output}}', 'test_data': '${{parent.inputs.test_input}}'}, 'job_outputs': {'score_output': '${{parent.outputs.scored_data}}'}, 'inputs': {'model_input': <azure.ai.ml.entities._job.pipeline._io.PipelineInputBase object at 0x000001D337B7D0D0>, 'test_data': <azure.ai.ml.entities._job.pipeline._io.PipelineInputBase object at 0x000001D337B7D100>}, 'outputs': {'score_output': <azure.ai.ml.entities._job.pipeline._io.PipelineOutputBase object at 0x000001D337B5AAF0>}, 'component': '/subscriptions/96aede12-2f73-41cb-b983-6d11a904839b/resourceGroups/sdk/providers/Microsoft.MachineLearningServices/workspaces/sdk-master/components/azureml_anonymous/versions/7db40720-4649-4cfc-8530-63e3a1c09055', 'kwargs': {}, 'instance_id': '8e90dd17-84d9-4923-9008-2642a85d5923', 'limits': None, 'identity': None, 'distribution': None, 'environment_variables': {}, 'environment': None, 'resources': None, 'swept': False}), 'eval_with_sample_data': Command({'parameters': {}, 'init': False, 'type': 'command', 'status': None, 'log_files': None, 'name': 'eval_with_sample_data', 'description': None, 'tags': {}, 'properties': {}, 'id': None, 'Resource__source_path': None, 'base_path': None, 'creation_context': None, 'serialize': <msrest.serialization.Serializer object at 0x000001D337B5A4C0>, 'allowed_keys': {}, 'key_restriction': False, 'logger': <Logger attr_dict (WARNING)>, 'display_name': None, 'experiment_name': None, 'compute': None, 'services': None, 'job_inputs': {'scoring_result': '${{parent.jobs.score_with_sample_data.outputs.score_output}}'}, 'job_outputs': {'eval_output': '${{parent.outputs.evaluation_report}}'}, 'inputs': {'scoring_result': <azure.ai.ml.entities._job.pipeline._io.PipelineInputBase object at 0x000001D337B5A4F0>}, 'outputs': {'eval_output': <azure.ai.ml.entities._job.pipeline._io.PipelineOutputBase object at 0x000001D337B5A640>}, 'component': '/subscriptions/96aede12-2f73-41cb-b983-6d11a904839b/resourceGroups/sdk/providers/Microsoft.MachineLearningServices/workspaces/sdk-master/components/azureml_anonymous/versions/c5994210-eb55-4923-b851-4875478404d7', 'kwargs': {}, 'instance_id': '396f6262-8fc9-44bb-abd0-800c994dfef6', 'limits': None, 'identity': None, 'distribution': None, 'environment_variables': {}, 'environment': None, 'resources': None, 'swept': False})}, 'job_types': {'command': 3}, 'job_sources': {'REMOTE.WORKSPACE.COMPONENT': 3}}), 'type': 'pipeline', 'status': 'NotStarted', 'log_files': None, 'name': None, 'description': 'E2E dummy train-score-eval pipeline with components defined via yaml.', 'tags': {}, 'properties': {}, 'id': None, 'Resource__source_path': None, 'base_path': 'd:\\\\azureml-examples\\\\sdk\\\\schedules', 'creation_context': None, 'serialize': <msrest.serialization.Serializer object at 0x000001D337B816D0>, 'display_name': 'pipeline_with_components_from_yaml', 'experiment_name': 'Default', 'compute': None, 'services': None, 'settings': <azure.ai.ml.entities._job.pipeline.pipeline_job_settings.PipelineJobSettings object at 0x000001D337B5A400>, 'identity': None, 'default_code': None, 'default_environment': None}), 'is_enabled': True, 'provisioning_state': 'Succeeded'})"
      ]
     },
     "execution_count": 9,
     "metadata": {},
     "output_type": "execute_result"
    }
   ],
   "source": [
    "from azure.ai.ml.entities import JobSchedule,CronTrigger,RecurrenceTrigger # put it to upper once SDK work is ready\n",
    "\n",
    "schedule_name=\"simple_sdk_create_schedule_cron\"\n",
    "\n",
    "cron_trigger = ScheduleCronTrigger(\n",
    "    expression=\"15 10 * * *\",\n",
    "    start_time=\"2022-07-10T10:00:00\", # start time \n",
    "    time_zone= \"Eastern Standard Time\" # time zone of expression\n",
    ")\n",
    "\n",
    "job_schedule = JobSchedule(\n",
    "    name=schedule_name,\n",
    "    trigger=cron_trigger,\n",
    "    create_job=pipeline_job\n",
    ")\n",
    "\n",
    "\n",
    "ml_client.schedules.begin_create_or_update(schedule=job_schedule)"
   ]
  },
  {
   "cell_type": "markdown",
   "metadata": {},
   "source": [
    "## 2.2 Disable the schedule"
   ]
  },
  {
   "cell_type": "code",
   "execution_count": null,
   "metadata": {
    "name": "disable_schedule"
   },
   "outputs": [],
   "source": [
    "ml_client.schedules.begin_disable(name=schedule_name)"
   ]
  },
  {
   "cell_type": "markdown",
   "metadata": {},
   "source": [
    "## 2.3 Check the detail of the schedule"
   ]
  },
  {
   "cell_type": "code",
   "execution_count": null,
   "metadata": {
    "name": "show_schedule"
   },
   "outputs": [],
   "source": [
    "ml_client.schedules.get(name=schedule_name)"
   ]
  },
  {
   "cell_type": "markdown",
   "metadata": {},
   "source": [
    "## 2.4 List schedules in a workspace"
   ]
  },
  {
   "cell_type": "code",
   "execution_count": null,
   "metadata": {
    "name": "list_schedule"
   },
   "outputs": [],
   "source": [
    "ml_client.schedules.list()"
   ]
  },
  {
   "cell_type": "markdown",
   "metadata": {},
   "source": [
    "## 2.5 Enable a schedule"
   ]
  },
  {
   "cell_type": "code",
   "execution_count": null,
   "metadata": {},
   "outputs": [],
   "source": [
    "ml_client.schedules.begin_enable(name=schedule_name)"
   ]
  },
  {
   "cell_type": "markdown",
   "metadata": {},
   "source": [
    "## 2.6 Delete the schedule"
   ]
  },
  {
   "cell_type": "code",
   "execution_count": null,
   "metadata": {},
   "outputs": [],
   "source": [
    "# Only disabled schedules can be deleted\n",
    "ml_client.schedules.begin_disable(name=schedule_name)\n",
    "ml_client.schedules.delete(name=schedule_name)"
   ]
  }
 ],
 "metadata": {
  "description": {
   "description": "Create a component asset"
  },
  "kernelspec": {
   "display_name": "Python 3.8.12 ('sdk-preview')",
   "language": "python",
   "name": "python3"
  },
  "language_info": {
   "codemirror_mode": {
    "name": "ipython",
    "version": 3
   },
   "file_extension": ".py",
   "mimetype": "text/x-python",
   "name": "python",
   "nbconvert_exporter": "python",
   "pygments_lexer": "ipython3",
   "version": "3.8.12"
  },
  "vscode": {
   "interpreter": {
    "hash": "1324ca334ec51c2d7d081a2ba1becf817802a54f2b6ebeab7f4908360bcde2e0"
   }
  }
 },
 "nbformat": 4,
 "nbformat_minor": 4
}
