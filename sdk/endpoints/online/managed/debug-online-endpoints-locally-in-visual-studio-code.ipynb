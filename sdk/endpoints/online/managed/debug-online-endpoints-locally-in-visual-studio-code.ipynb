{
 "cells": [
  {
   "cell_type": "markdown",
   "metadata": {},
   "source": [
    "# Debug online endpoints locally in Visual Studio Code"
   ]
  },
  {
   "cell_type": "markdown",
   "metadata": {},
   "source": [
    "## Launch development container"
   ]
  },
  {
   "cell_type": "code",
   "execution_count": 2,
   "metadata": {},
   "outputs": [],
   "source": [
    "from azure.ai.ml import MLClient\n",
    "from azure.ai.ml.entities import ManagedOnlineEndpoint, ManagedOnlineDeployment\n",
    "from azure.identity import DefaultAzureCredential, AzureCliCredential"
   ]
  },
  {
   "cell_type": "code",
   "execution_count": 7,
   "metadata": {},
   "outputs": [],
   "source": [
    "subscription_id = \"<YOUR-SUBSCRIPTION-ID>\"\n",
    "resource_group = \"<YOUR-RESOURCE-GROUP>\"\n",
    "workspace_name = \"<YOUR-WORKSPACE>\"\n",
    "\n",
    "endpoint_name = \"<YOUR-ENDPOINT-NAME>\""
   ]
  },
  {
   "cell_type": "code",
   "execution_count": 7,
   "metadata": {},
   "outputs": [],
   "source": [
    "credential = AzureCliCredential()\n",
    "ml_client = MLClient(\n",
    "    credential,\n",
    "    subscription_id=subscription_id,\n",
    "    resource_group_name=resource_group,\n",
    "    workspace_name=workspace_name\n",
    ")"
   ]
  },
  {
   "cell_type": "code",
   "execution_count": 12,
   "metadata": {},
   "outputs": [],
   "source": [
    "endpoint = ManagedOnlineEndpoint(name=endpoint_name)\n",
    "\n",
    "endpoint = ml_client.online_endpoints.begin_create_or_update(endpoint)"
   ]
  },
  {
   "cell_type": "code",
   "execution_count": null,
   "metadata": {},
   "outputs": [],
   "source": [
    "file_path = \"endpoints/online/managed/sample/blue-deployment.yml\"\n",
    "deployment = ManagedOnlineDeployment.load(file_path)\n",
    "\n",
    "deployment = ml_client.online_deployments.begin_create_or_update(\n",
    "    deployment,\n",
    "    local = True,\n",
    "    vscode_debug = True\n",
    ")"
   ]
  },
  {
   "cell_type": "markdown",
   "metadata": {},
   "source": [
    "## Debug your endpoint"
   ]
  },
  {
   "cell_type": "code",
   "execution_count": null,
   "metadata": {},
   "outputs": [],
   "source": [
    "request_file_path = \"<REQUEST_FILE_PATH>\"\n",
    "\n",
    "endpoint.invoke(endpoint_name, request_file_path, local=True)"
   ]
  },
  {
   "cell_type": "code",
   "execution_count": null,
   "metadata": {},
   "outputs": [],
   "source": [
    "endpoint = ml_client.online_endpoints.get(endpoint_name,local=True)"
   ]
  },
  {
   "cell_type": "code",
   "execution_count": null,
   "metadata": {},
   "outputs": [],
   "source": [
    "endpoint.as_dict()"
   ]
  },
  {
   "cell_type": "markdown",
   "metadata": {},
   "source": [
    "## Edit your endpoint"
   ]
  },
  {
   "cell_type": "code",
   "execution_count": null,
   "metadata": {},
   "outputs": [],
   "source": [
    "file_path = \"<FILE-PATH-TO-UPDATED-YML>\"\n",
    "\n",
    "new_deployment = ManagedOnlineDeployment.load(file_path)\n",
    "ml_client.online_deployments.update(new_deployment, local=True, vscode_debug=True)"
   ]
  }
 ],
 "metadata": {
  "kernelspec": {
   "display_name": "Python 3.10 - SDK V2",
   "language": "python",
   "name": "python310-sdkv2"
  },
  "language_info": {
   "codemirror_mode": {
    "name": "ipython",
    "version": 3
   },
   "file_extension": ".py",
   "mimetype": "text/x-python",
   "name": "python",
   "nbconvert_exporter": "python",
   "pygments_lexer": "ipython3",
   "version": "3.10.4"
  },
  "orig_nbformat": 4,
  "vscode": {
   "interpreter": {
    "hash": "594095ff577a443aa524b3dc4be358f374928f5ba7298f4ca342009ece89ae0e"
   }
  }
 },
 "nbformat": 4,
 "nbformat_minor": 2
}
