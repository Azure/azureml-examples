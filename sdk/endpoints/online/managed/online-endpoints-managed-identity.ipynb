{
 "cells": [
  {
   "cell_type": "markdown",
   "metadata": {},
   "source": [
    "# Access Azure resources from an online endpoint with a managed identity\n",
    "## Define configuration for deployment"
   ]
  },
  {
   "cell_type": "markdown",
   "metadata": {},
   "source": [
    "### System-assigned managed identity"
   ]
  },
  {
   "cell_type": "code",
   "execution_count": null,
   "metadata": {},
   "outputs": [],
   "source": [
    "from azure.ai.ml.entities import ( \n",
    "    ManagedOnlineDeployment, ManagedOnlineEndpoint,\n",
    "    Model, CodeConfiguration, Environment ) "
   ]
  },
  {
   "cell_type": "code",
   "execution_count": null,
   "metadata": {},
   "outputs": [],
   "source": [
    "sai_endpoint_name = \"my-sai-endpoint\"\n",
    "sai_endpoint = ManagedOnlineEndpoint(\n",
    "    name=sai_endpoint_name, \n",
    "    auth_mode=\"key\"\n",
    ")"
   ]
  },
  {
   "cell_type": "code",
   "execution_count": null,
   "metadata": {},
   "outputs": [],
   "source": [
    "sai_deployment = ManagedOnlineDeployment(\n",
    "    name=\"blue\", \n",
    "    endpoint_name=sai_endpoint_name, \n",
    "    model=Model(\n",
    "        path=\"../../model-1/model/\"\n",
    "    ),\n",
    "    code_configuration=CodeConfiguration(\n",
    "        code=\"../../model-1/onlinescoring/\",\n",
    "        scoring_script=\"score_managedidentity.py\"\n",
    "    ), \n",
    "    environment=Environment(\n",
    "        conda_file=\"../../model-1/environment/conda.yml\",\n",
    "        image=\"mcr.microsoft.com/azureml/openmpi3.1.2-ubuntu18.04:20210727.v1\"\n",
    "    ), \n",
    "    instance_type=\"Standard_DS2_v2\",\n",
    "    instance_count=1,\n",
    "    environment_variables={\n",
    "        \"STORAGE_ACCOUNT_NAME\" : \"storage_place_holder\",\n",
    "        \"STORAGE_CONTAINER_NAME\" : \"container_place_holder\", \n",
    "        \"FILE_NAME\" : \"file_place_holder\"\n",
    "    }\n",
    ")"
   ]
  },
  {
   "cell_type": "markdown",
   "metadata": {},
   "source": [
    "### User-assigned managed identity"
   ]
  },
  {
   "cell_type": "code",
   "execution_count": null,
   "metadata": {},
   "outputs": [],
   "source": [
    "from azure.ai.ml.entities import ( \n",
    "    ManagedOnlineDeployment, ManagedOnlineEndpoint, \n",
    "    Model, CodeConfiguration, Environment ) "
   ]
  },
  {
   "cell_type": "code",
   "execution_count": null,
   "metadata": {},
   "outputs": [],
   "source": [
    "uai_endpoint_name = \"my-uai-endpoint\"\n",
    "uai_endpoint = ManagedOnlineEndpoint(\n",
    "    name=uai_endpoint_name, \n",
    "    auth_mode=\"key\", \n",
    "    # We will update this value after creating an identity\n",
    "    identity = None\n",
    ")"
   ]
  },
  {
   "cell_type": "code",
   "execution_count": null,
   "metadata": {},
   "outputs": [],
   "source": [
    "uai_deployment = ManagedOnlineDeployment(\n",
    "    name=\"blue\",\n",
    "    endpoint_name=uai_endpoint_name, \n",
    "    model=Model(\n",
    "        path=\"../../model-1/model/\"\n",
    "    ),\n",
    "    code_configuration=CodeConfiguration(\n",
    "        code=\"../../model-1/onlinescoring/\",\n",
    "        scoring_script=\"score_managedidentity.py\"\n",
    "    ), \n",
    "    environment=Environment(\n",
    "        conda_file=\"../../model-1/environment/conda.yml\",\n",
    "        image=\"mcr.microsoft.com/azureml/openmpi3.1.2-ubuntu18.04:20210727.v1\"\n",
    "    ), \n",
    "    instance_type=\"Standard_DS2_v2\",\n",
    "    instance_count=1,\n",
    "    environment_variables={\n",
    "        \"STORAGE_ACCOUNT_NAME\" : \"storage_place_holder\",\n",
    "        \"STORAGE_CONTAINER_NAME\" : \"container_place_holder\", \n",
    "        \"FILE_NAME\" : \"file_place_holder\", \n",
    "        \"UAI_CLIENT_ID\" : \"uai_client_id_place_holder\"\n",
    "    }\n",
    ")"
   ]
  },
  {
   "cell_type": "markdown",
   "metadata": {},
   "source": [
    "## Configure variables for deployment"
   ]
  },
  {
   "cell_type": "markdown",
   "metadata": {},
   "source": [
    "### System-assigned managed identity"
   ]
  },
  {
   "cell_type": "code",
   "execution_count": null,
   "metadata": {},
   "outputs": [],
   "source": [
    "subscription_id = \"<SUBSCRIPTION_ID>\"\n",
    "resource_group = \"<RESOURCE_GROUP>\"\n",
    "workspace_name = \"<AML_WORKSPACE_NAME>\"\n",
    "\n",
    "location = \"<WORKSPACE_LOCATION>\"\n",
    "\n",
    "storage_account_name = \"<STORAGE_ACCOUNT_NAME>\"\n",
    "storage_container_name = \"<CONTAINER_TO_ACCESS>\"\n",
    "file_name = \"<FILE_TO_ACCESS>\""
   ]
  },
  {
   "cell_type": "markdown",
   "metadata": {},
   "source": [
    "### User-assigned managed identity"
   ]
  },
  {
   "cell_type": "code",
   "execution_count": null,
   "metadata": {},
   "outputs": [],
   "source": [
    "subscription_id = \"<SUBSCRIPTION_ID>\"\n",
    "resource_group = \"<RESOURCE_GROUP>\"\n",
    "workspace_name = \"<AML_WORKSPACE_NAME>\"\n",
    "\n",
    "location = \"<WORKSPACE_LOCATION>\"\n",
    "\n",
    "storage_account_name = \"<STORAGE_ACCOUNT_NAME>\"\n",
    "storage_container_name = \"<CONTAINER_TO_ACCESS>\"\n",
    "file_name = \"<FILE_TO_ACCESS>\"\n",
    "\n",
    "uai_name = \"<USER_ASSIGNED_IDENTITY_NAME>\""
   ]
  },
  {
   "cell_type": "markdown",
   "metadata": {},
   "source": [
    "## Create the managed identity"
   ]
  },
  {
   "cell_type": "markdown",
   "metadata": {},
   "source": [
    "### System-assigned managed identity"
   ]
  },
  {
   "cell_type": "markdown",
   "metadata": {},
   "source": [
    "With a system-assigned managed identity, Azure creates a managed identity on your behalf."
   ]
  },
  {
   "cell_type": "markdown",
   "metadata": {},
   "source": [
    "### User-assigned managed identity"
   ]
  },
  {
   "cell_type": "code",
   "execution_count": null,
   "metadata": {},
   "outputs": [],
   "source": [
    "from azure.identity import DefaultAzureCredential\n",
    "from azure.mgmt.msi import ManagedServiceIdentityClient\n",
    "from azure.mgmt.msi.models import Identity"
   ]
  },
  {
   "cell_type": "code",
   "execution_count": null,
   "metadata": {},
   "outputs": [],
   "source": [
    "credential = DefaultAzureCredential()\n",
    "msi_client = ManagedServiceIdentityClient(\n",
    "    subscription_id=subscription_id, \n",
    "    credential=credential,)"
   ]
  },
  {
   "cell_type": "code",
   "execution_count": null,
   "metadata": {},
   "outputs": [],
   "source": [
    "msi_client.user_assigned_identities.create_or_update(\n",
    "    resource_group_name=resource_group,\n",
    "    resource_name=uai_name,\n",
    "    parameters = Identity(location=location)\n",
    ")"
   ]
  },
  {
   "cell_type": "code",
   "execution_count": null,
   "metadata": {},
   "outputs": [],
   "source": [
    "uai_identity = msi_client.user_assigned_identities.get(\n",
    "    resource_group_name=resource_group, \n",
    "    resource_name=uai_name,\n",
    ")"
   ]
  },
  {
   "cell_type": "markdown",
   "metadata": {},
   "source": [
    "## Create storage account and container"
   ]
  },
  {
   "cell_type": "code",
   "execution_count": null,
   "metadata": {},
   "outputs": [],
   "source": [
    "from azure.identity import DefaultAzureCredential, AzureCliCredential \n",
    "from azure.mgmt.storage import StorageManagementClient\n",
    "from azure.storage.blob import ContainerClient\n",
    "from azure.mgmt.storage.models import Sku, StorageAccountCreateParameters, BlobContainer"
   ]
  },
  {
   "cell_type": "code",
   "execution_count": null,
   "metadata": {},
   "outputs": [],
   "source": [
    "credential = AzureCliCredential()\n",
    "storage_client = StorageManagementClient(credential, subscription_id,)"
   ]
  },
  {
   "cell_type": "code",
   "execution_count": null,
   "metadata": {},
   "outputs": [],
   "source": [
    "storage_account_parameters = StorageAccountCreateParameters(\n",
    "    sku=Sku(name=\"Standard_LRS\"), \n",
    "    kind=\"Storage\", \n",
    "    location=location\n",
    ")\n",
    "\n",
    "storage_client.storage_accounts.begin_create(\n",
    "    resource_group_name=resource_group,\n",
    "    account_name=storage_account_name, \n",
    "    parameters=storage_account_parameters)"
   ]
  },
  {
   "cell_type": "code",
   "execution_count": null,
   "metadata": {},
   "outputs": [],
   "source": [
    "storage_account = next((\n",
    "    account for account in \n",
    "    storage_client.storage_accounts.list_by_resource_group(resource_group)\n",
    "    if account.name==storage_account_name\n",
    "))"
   ]
  },
  {
   "cell_type": "code",
   "execution_count": null,
   "metadata": {},
   "outputs": [],
   "source": [
    "blob_container = storage_client.blob_containers.create(\n",
    "    resource_group_name=resource_group, \n",
    "    account_name=storage_account_name,\n",
    "    container_name=storage_container_name,\n",
    "    blob_container=BlobContainer()\n",
    ")"
   ]
  },
  {
   "cell_type": "code",
   "execution_count": null,
   "metadata": {},
   "outputs": [],
   "source": [
    "res = storage_client.storage_accounts.list_keys(\n",
    "    resource_group_name=resource_group, \n",
    "    account_name=storage_account_name,\n",
    ")\n",
    "key = res.keys[0].value"
   ]
  },
  {
   "cell_type": "code",
   "execution_count": null,
   "metadata": {},
   "outputs": [],
   "source": [
    "container_client = ContainerClient(\n",
    "    account_url=storage_account.primary_endpoints.blob, \n",
    "    container_name=storage_container_name,\n",
    "    credential=key\n",
    ")"
   ]
  },
  {
   "cell_type": "code",
   "execution_count": null,
   "metadata": {},
   "outputs": [],
   "source": [
    "file_path = \"endpoints/online/managed/managed-identities/hello.txt\" \n",
    "with open(file_path, \"rb\") as f:\n",
    "    container_client.upload_blob(\n",
    "        name=file_name, \n",
    "        data=f.read()\n",
    "    )"
   ]
  },
  {
   "cell_type": "markdown",
   "metadata": {},
   "source": [
    "## Create an online endpoint"
   ]
  },
  {
   "cell_type": "markdown",
   "metadata": {},
   "source": [
    "### System-assigned managed identity"
   ]
  },
  {
   "cell_type": "code",
   "execution_count": null,
   "metadata": {},
   "outputs": [],
   "source": [
    "from azure.ai.ml import MLClient\n",
    "ml_client = MLClient(credential, subscription_id, resource_group, workspace_name)"
   ]
  },
  {
   "cell_type": "code",
   "execution_count": null,
   "metadata": {},
   "outputs": [],
   "source": [
    "sai_endpoint = ml_client.online_endpoints.begin_create_or_update(sai_endpoint)"
   ]
  },
  {
   "cell_type": "code",
   "execution_count": null,
   "metadata": {},
   "outputs": [],
   "source": [
    "sai_endpoint.identity.as_dict()"
   ]
  },
  {
   "cell_type": "markdown",
   "metadata": {},
   "source": [
    "### User-assigned managed identity"
   ]
  },
  {
   "cell_type": "code",
   "execution_count": null,
   "metadata": {},
   "outputs": [],
   "source": [
    "from azure.ai.ml import MLClient\n",
    "ml_client = MLClient(credential, subscription_id, resource_group, workspace_name)"
   ]
  },
  {
   "cell_type": "code",
   "execution_count": null,
   "metadata": {},
   "outputs": [],
   "source": [
    "# Create the endpoint\n",
    "uai_endpoint = ml_client.online_endpoints.begin_create_or_update(uai_endpoint)"
   ]
  },
  {
   "cell_type": "code",
   "execution_count": null,
   "metadata": {},
   "outputs": [],
   "source": [
    "# Update its identity \n",
    "uai_endpoint.identity = uai_endpoint.identity.from_dict({\n",
    "    \"type\" : \"UserAssigned\",\n",
    "    \"user_assigned_identities\" : {uai_identity.id : {}}\n",
    "})\n",
    "\n",
    "uai_endpoint = ml_client.online_endpoints.begin_create_or_update(uai_endpoint)\n"
   ]
  },
  {
   "cell_type": "code",
   "execution_count": null,
   "metadata": {},
   "outputs": [],
   "source": [
    "uai_endpoint = ml_client.online_endpoints.get(uai_endpoint_name)"
   ]
  },
  {
   "cell_type": "code",
   "execution_count": null,
   "metadata": {},
   "outputs": [],
   "source": [
    "uai_endpoint.identity.as_dict()"
   ]
  },
  {
   "cell_type": "markdown",
   "metadata": {},
   "source": [
    "## Give access permission to the managed identity"
   ]
  },
  {
   "cell_type": "markdown",
   "metadata": {},
   "source": [
    "### System-assigned managed identity"
   ]
  },
  {
   "cell_type": "code",
   "execution_count": null,
   "metadata": {},
   "outputs": [],
   "source": [
    "from azure.mgmt.authorization import AuthorizationManagementClient\n",
    "from azure.mgmt.authorization.models import RoleAssignment, RoleDefinition, RoleAssignmentProperties\n",
    "import uuid\n",
    "\n",
    "auth_client = AuthorizationManagementClient(\n",
    "    credential=credential, \n",
    "    subscription_id=subscription_id\n",
    ")"
   ]
  },
  {
   "cell_type": "code",
   "execution_count": null,
   "metadata": {},
   "outputs": [],
   "source": [
    "sai_endpoint = ml_client.online_endpoints.get(sai_endpoint_name)\n",
    "system_principal_id = sai_endpoint.identity.principal_id"
   ]
  },
  {
   "cell_type": "code",
   "execution_count": null,
   "metadata": {},
   "outputs": [],
   "source": [
    "workspace = ml_client.workspaces.get(workspace_name)\n",
    "storage_account = workspace.storage_account"
   ]
  },
  {
   "cell_type": "code",
   "execution_count": null,
   "metadata": {},
   "outputs": [],
   "source": [
    "role_name = \"Storage Blob Data Reader\"\n",
    "scope = storage_account \n",
    "\n",
    "role_defs = auth_client.role_definitions.list(scope=scope)\n",
    "role_def = next((r for r in role_defs if r.role_name == role_name))\n",
    "\n",
    "auth_client.role_assignments.create(\n",
    "    scope=scope, \n",
    "    role_assignment_name=uuid.uuid4(),\n",
    "    parameters=RoleAssignmentProperties(\n",
    "        role_definition_id = role_def.id, \n",
    "        principal_id = system_principal_id\n",
    "    )\n",
    ")"
   ]
  },
  {
   "cell_type": "markdown",
   "metadata": {},
   "source": [
    "### User-assigned managed identity"
   ]
  },
  {
   "cell_type": "code",
   "execution_count": null,
   "metadata": {},
   "outputs": [],
   "source": [
    "from azure.mgmt.authorization.models import RoleAssignment, RoleDefinition, RoleAssignmentProperties\n",
    "from azure.mgmt.authorization import AuthorizationManagementClient\n",
    "import uuid\n",
    "\n",
    "auth_client = AuthorizationManagementClient(\n",
    "    credential=credential, \n",
    "    subscription_id=subscription_id\n",
    ")"
   ]
  },
  {
   "cell_type": "code",
   "execution_count": null,
   "metadata": {},
   "outputs": [],
   "source": [
    "uai_identity = msi_client.user_assigned_identities.get(\n",
    "    resource_group_name=resource_group, \n",
    "    resource_name=uai_name\n",
    ")\n",
    "uai_principal_id = uai_identity.principal_id\n",
    "uai_client_id = uai_identity.client_id"
   ]
  },
  {
   "cell_type": "code",
   "execution_count": null,
   "metadata": {},
   "outputs": [],
   "source": [
    "workspace = ml_client.workspaces.get(workspace_name)\n",
    "storage_account = workspace.storage_account\n",
    "container_registry = workspace.container_registry"
   ]
  },
  {
   "cell_type": "code",
   "execution_count": null,
   "metadata": {},
   "outputs": [],
   "source": [
    "role_name = \"AcrPull\"\n",
    "scope = container_registry\n",
    "\n",
    "role_defs = auth_client.role_definitions.list(scope=scope)\n",
    "role_def = next((r for r in role_defs if r.role_name == role_name))\n",
    "\n",
    "auth_client.role_assignments.create(\n",
    "    scope=scope, \n",
    "    role_assignment_name=uuid.uuid4(),\n",
    "    parameters=RoleAssignmentProperties(\n",
    "        role_definition_id = role_def.id, \n",
    "        principal_id = uai_principal_id\n",
    "    )\n",
    ")"
   ]
  },
  {
   "cell_type": "code",
   "execution_count": null,
   "metadata": {},
   "outputs": [],
   "source": [
    "role_name = \"Storage Blob Data Reader\"\n",
    "scope = storage_account \n",
    "\n",
    "role_defs = auth_client.role_definitions.list(scope=scope)\n",
    "role_def = next((r for r in role_defs if r.role_name == role_name))\n",
    "\n",
    "auth_client.role_assignments.create(\n",
    "    scope=scope, \n",
    "    role_assignment_name=uuid.uuid4(),\n",
    "    parameters=RoleAssignmentProperties(\n",
    "        role_definition_id = role_def.id, \n",
    "        principal_id = uai_principal_id\n",
    "    )\n",
    ")"
   ]
  },
  {
   "cell_type": "markdown",
   "metadata": {},
   "source": [
    "## Create a deployment with your configuration"
   ]
  },
  {
   "cell_type": "markdown",
   "metadata": {},
   "source": [
    "### System-assigned managed identity"
   ]
  },
  {
   "cell_type": "code",
   "execution_count": null,
   "metadata": {},
   "outputs": [],
   "source": [
    "# Set the placeholder environment variables\n",
    "env_map = {\"STORAGE_ACCOUNT_NAME\" : storage_account_name, \n",
    "           \"STORAGE_CONTAINER_NAME\" : storage_container_name, \n",
    "           \"FILE_NAME\" : file_name }\n",
    "\n",
    "for k, v in env_map.items():\n",
    "    sai_deployment.environment_variables[k] = v\n",
    "    "
   ]
  },
  {
   "cell_type": "code",
   "execution_count": null,
   "metadata": {},
   "outputs": [],
   "source": [
    "sai_deployment = ml_client.online_deployments.begin_create_or_update(sai_deployment)"
   ]
  },
  {
   "cell_type": "markdown",
   "metadata": {},
   "source": [
    "### User-assigned managed identity"
   ]
  },
  {
   "cell_type": "code",
   "execution_count": null,
   "metadata": {},
   "outputs": [],
   "source": [
    "env_map = {\"STORAGE_ACCOUNT_NAME\" : storage_account_name, \n",
    "           \"STORAGE_CONTAINER_NAME\" : storage_container_name, \n",
    "           \"FILE_NAME\" : file_name,\n",
    "           \"UAI_CLIENT_ID\" : uai_client_id}\n",
    "\n",
    "for k, v in env_map.items():\n",
    "    uai_deployment.environment_variables[k] = v\n"
   ]
  },
  {
   "cell_type": "code",
   "execution_count": null,
   "metadata": {},
   "outputs": [],
   "source": [
    "uai_deployment = ml_client.online_deployments.begin_create_or_update(uai_deployment)"
   ]
  },
  {
   "cell_type": "markdown",
   "metadata": {},
   "source": [
    "## Confirm your endpoint deployed successfully"
   ]
  },
  {
   "cell_type": "markdown",
   "metadata": {},
   "source": [
    "### System-assigned managed identity"
   ]
  },
  {
   "cell_type": "code",
   "execution_count": null,
   "metadata": {},
   "outputs": [],
   "source": [
    "sample_data = \"endpoints/online/model-1/sample-request.json\"\n",
    "ml_client.online_endpoints.invoke(\n",
    "    endpoint_name=sai_endpoint_name, \n",
    "    request_file=sample_data)"
   ]
  },
  {
   "cell_type": "markdown",
   "metadata": {},
   "source": [
    "### User-assigned managed identity"
   ]
  },
  {
   "cell_type": "code",
   "execution_count": null,
   "metadata": {},
   "outputs": [],
   "source": [
    "sample_data = \"endpoints/online/model-1/sample-request.json\"\n",
    "ml_client.online_endpoints.invoke(\n",
    "    endpoint_name=uai_endpoint_name, \n",
    "    request_file=sample_data)"
   ]
  },
  {
   "cell_type": "markdown",
   "metadata": {},
   "source": [
    "## Delete the endpoint and storage account"
   ]
  },
  {
   "cell_type": "markdown",
   "metadata": {},
   "source": [
    "### System-assigned managed identity"
   ]
  },
  {
   "cell_type": "code",
   "execution_count": null,
   "metadata": {},
   "outputs": [],
   "source": [
    "ml_client.online_endpoints.begin_delete(sai_endpoint_name)"
   ]
  },
  {
   "cell_type": "code",
   "execution_count": null,
   "metadata": {},
   "outputs": [],
   "source": [
    "storage_client.storage_accounts.delete(\n",
    "    resource_group_name=resource_group,\n",
    "    account_name=storage_account_name)"
   ]
  },
  {
   "cell_type": "markdown",
   "metadata": {},
   "source": [
    "### User-assigned managed identity"
   ]
  },
  {
   "cell_type": "code",
   "execution_count": null,
   "metadata": {},
   "outputs": [],
   "source": [
    "ml_client.online_endpoints.begin_delete(uai_endpoint_name)"
   ]
  },
  {
   "cell_type": "code",
   "execution_count": null,
   "metadata": {},
   "outputs": [],
   "source": [
    "storage_client.storage_accounts.delete(\n",
    "    resource_group_name=resource_group,\n",
    "    account_name=storage_account_name)"
   ]
  }
 ],
 "metadata": {
  "kernelspec": {
   "display_name": "Python 3.8.13 ('sdkv2')",
   "language": "python",
   "name": "python3"
  },
  "language_info": {
   "codemirror_mode": {
    "name": "ipython",
    "version": 3
   },
   "file_extension": ".py",
   "mimetype": "text/x-python",
   "name": "python",
   "nbconvert_exporter": "python",
   "pygments_lexer": "ipython3",
   "version": "3.10.4"
  },
  "orig_nbformat": 4,
  "vscode": {
   "interpreter": {
    "hash": "594095ff577a443aa524b3dc4be358f374928f5ba7298f4ca342009ece89ae0e"
   }
  }
 },
 "nbformat": 4,
 "nbformat_minor": 2
}
