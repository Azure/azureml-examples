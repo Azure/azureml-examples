{
 "cells": [
  {
   "cell_type": "markdown",
   "metadata": {},
   "source": [
    "# Access Azure resources from an online endpoint with a system-assigned managed identity"
   ]
  },
  {
   "cell_type": "markdown",
   "metadata": {},
   "source": [
    "The `azure.mgmt.storage` package is required for this example. \n",
    "\n",
    "Install it with the following code:"
   ]
  },
  {
   "cell_type": "code",
   "execution_count": null,
   "metadata": {
    "name": "install-packages"
   },
   "outputs": [],
   "source": [
    "# #TODO: \n",
    "# %pip install --pre azure-mgmt-storage\n",
    "# %pip install --pre azure-mgmt-authorization"
   ]
  },
  {
   "cell_type": "markdown",
   "metadata": {},
   "source": [
    "## 1. Configure variables"
   ]
  },
  {
   "cell_type": "markdown",
   "metadata": {},
   "source": [
    "### 1.1 Assign variables for the workspace and deployment"
   ]
  },
  {
   "cell_type": "code",
   "execution_count": null,
   "metadata": {
    "name": "1-assign-variables"
   },
   "outputs": [],
   "source": [
    "subscription_id = \"<SUBSCRIPTION_ID>\"\n",
    "resource_group = \"<RESOURCE_GROUP>\"\n",
    "workspace_name = \"<AML_WORKSPACE_NAME>\"\n",
    "\n",
    "endpoint_name = \"<ENDPOINT_NAME>\""
   ]
  },
  {
   "cell_type": "code",
   "execution_count": 2,
   "metadata": {},
   "outputs": [],
   "source": [
    "# TODO: Delete\n",
    "\n",
    "subscription_id = \"6fe1c377-b645-4e8e-b588-52e57cc856b2\"\n",
    "resource_group = \"role-creation-sample\"\n",
    "workspace_name = \"test-workspace\"\n",
    "\n",
    "endpoint_name = \"rolestest4\""
   ]
  },
  {
   "cell_type": "markdown",
   "metadata": {},
   "source": [
    "### 1.2 Specify the storage details and file to access\n",
    "A text file is located in the `managed-identities` folder called `hello.txt`. "
   ]
  },
  {
   "cell_type": "code",
   "execution_count": 3,
   "metadata": {
    "name": "1-specify-storage-details"
   },
   "outputs": [],
   "source": [
    "storage_account_name = \"<STORAGE_ACCOUNT_NAME>\"\n",
    "storage_container_name = \"<CONTAINER_TO_ACCESS>\"\n",
    "file_name = \"<FILE_TO_ACCESS>\""
   ]
  },
  {
   "cell_type": "code",
   "execution_count": 4,
   "metadata": {},
   "outputs": [],
   "source": [
    "# TODO: Delete\n",
    "\n",
    "storage_account_name = \"rolestest2\"\n",
    "storage_container_name = \"blob1\"\n",
    "file_name = \"hello.txt\""
   ]
  },
  {
   "cell_type": "markdown",
   "metadata": {},
   "source": [
    "### 1.3 Retrieve the workspace location:"
   ]
  },
  {
   "cell_type": "code",
   "execution_count": 5,
   "metadata": {
    "name": "1-retrieve-workspace-location"
   },
   "outputs": [],
   "source": [
    "from azure.ai.ml import MLClient\n",
    "from azure.identity import DefaultAzureCredential, AzureCliCredential\n",
    "from azure.ai.ml.entities import (\n",
    "    ManagedOnlineDeployment,\n",
    "    ManagedOnlineEndpoint,\n",
    "    Model,\n",
    "    CodeConfiguration,\n",
    "    Environment,\n",
    ")\n",
    "\n",
    "credential = AzureCliCredential()\n",
    "ml_client = MLClient(credential, subscription_id, resource_group, workspace_name)\n",
    "\n",
    "workspace_location = ml_client.workspaces.get(workspace_name).location"
   ]
  },
  {
   "cell_type": "markdown",
   "metadata": {},
   "source": [
    "## 2. Configure deployment"
   ]
  },
  {
   "cell_type": "markdown",
   "metadata": {},
   "source": [
    "### 2.1 Define an endpoint configuration"
   ]
  },
  {
   "cell_type": "code",
   "execution_count": 6,
   "metadata": {
    "name": "2-define-endpoint-configuration"
   },
   "outputs": [],
   "source": [
    "endpoint = ManagedOnlineEndpoint(name=endpoint_name, auth_mode=\"key\")"
   ]
  },
  {
   "cell_type": "markdown",
   "metadata": {},
   "source": [
    "### 2.2 Define a deployment configuration"
   ]
  },
  {
   "cell_type": "code",
   "execution_count": 9,
   "metadata": {
    "name": "2-define-deployment-configuration"
   },
   "outputs": [
    {
     "name": "stdout",
     "output_type": "stream",
     "text": [
      ".."
     ]
    }
   ],
   "source": [
    "deployment = ManagedOnlineDeployment(\n",
    "    name=\"purple\", # TODO\n",
    "    endpoint_name=endpoint_name,\n",
    "    model=Model(path=\"../../model-1/model/\"),\n",
    "    code_configuration=CodeConfiguration(\n",
    "        code=\"../../model-1/onlinescoring/\", scoring_script=\"score_managedidentity.py\"\n",
    "    ),\n",
    "    environment=Environment(\n",
    "        conda_file=\"../../model-1/environment/conda.yml\",\n",
    "        image=\"mcr.microsoft.com/azureml/openmpi3.1.2-ubuntu18.04:20210727.v1\",\n",
    "    ),\n",
    "    instance_type=\"Standard_DS2_v2\",\n",
    "    instance_count=1,\n",
    "    environment_variables={\n",
    "        \"STORAGE_ACCOUNT_NAME\": storage_account_name,\n",
    "        \"STORAGE_CONTAINER_NAME\": storage_container_name,\n",
    "        \"FILE_NAME\": file_name,\n",
    "    },\n",
    ")"
   ]
  },
  {
   "cell_type": "markdown",
   "metadata": {},
   "source": [
    "## 3. Create the managed identity"
   ]
  },
  {
   "cell_type": "markdown",
   "metadata": {},
   "source": [
    "With a system-assigned managed identity, Azure creates a managed identity on your behalf."
   ]
  },
  {
   "cell_type": "markdown",
   "metadata": {},
   "source": [
    "## 4. Create storage account and container"
   ]
  },
  {
   "cell_type": "markdown",
   "metadata": {},
   "source": [
    "### 4.1 Get a handle to the `StorageManagementClient`"
   ]
  },
  {
   "cell_type": "code",
   "execution_count": null,
   "metadata": {
    "name": "4-get-handle"
   },
   "outputs": [],
   "source": [
    "from azure.mgmt.storage import StorageManagementClient\n",
    "from azure.storage.blob import ContainerClient\n",
    "from azure.mgmt.storage.models import Sku, StorageAccountCreateParameters, BlobContainer\n",
    "\n",
    "credential = AzureCliCredential()\n",
    "storage_client = StorageManagementClient(\n",
    "    credential=credential, subscription_id=subscription_id\n",
    ")"
   ]
  },
  {
   "cell_type": "markdown",
   "metadata": {},
   "source": [
    "### 4.2 Define and create the storage account"
   ]
  },
  {
   "cell_type": "code",
   "execution_count": null,
   "metadata": {
    "name": "4-create-storage-account"
   },
   "outputs": [],
   "source": [
    "storage_account_parameters = StorageAccountCreateParameters(\n",
    "    sku=Sku(name=\"Standard_LRS\"), kind=\"Storage\", location=workspace_location\n",
    ")\n",
    "\n",
    "poller = storage_client.storage_accounts.begin_create(\n",
    "    resource_group_name=resource_group,\n",
    "    account_name=storage_account_name,\n",
    "    parameters=storage_account_parameters,\n",
    ")\n",
    "poller.wait()\n",
    "\n",
    "storage_account = poller.result()"
   ]
  },
  {
   "cell_type": "markdown",
   "metadata": {},
   "source": [
    "### 4.3 Create a blob container"
   ]
  },
  {
   "cell_type": "code",
   "execution_count": null,
   "metadata": {
    "name": "4-create-blob-container"
   },
   "outputs": [],
   "source": [
    "blob_container = storage_client.blob_containers.create(\n",
    "    resource_group_name=resource_group,\n",
    "    account_name=storage_account_name,\n",
    "    container_name=storage_container_name,\n",
    "    blob_container=BlobContainer(),\n",
    ")"
   ]
  },
  {
   "cell_type": "markdown",
   "metadata": {},
   "source": [
    "### 4.4 Get the storage account key and create a `ContainerClient`"
   ]
  },
  {
   "cell_type": "code",
   "execution_count": null,
   "metadata": {
    "name": "4-create-container-client"
   },
   "outputs": [],
   "source": [
    "res = storage_client.storage_accounts.list_keys(\n",
    "    resource_group_name=resource_group,\n",
    "    account_name=storage_account_name,\n",
    ")\n",
    "key = res.keys[0].value\n",
    "\n",
    "container_client = ContainerClient(\n",
    "    account_url=storage_account.primary_endpoints.blob,\n",
    "    container_name=storage_container_name,\n",
    "    credential=key,\n",
    ")"
   ]
  },
  {
   "cell_type": "markdown",
   "metadata": {},
   "source": [
    "### 4.5 Upload a blob to the container"
   ]
  },
  {
   "cell_type": "code",
   "execution_count": null,
   "metadata": {
    "name": "4-upload-blob"
   },
   "outputs": [],
   "source": [
    "# TODO: \n",
    "file_path = \"hello.txt\"\n",
    "with open(file_path, \"rb\") as f:\n",
    "    container_client.upload_blob(name=file_name, data=f.read())"
   ]
  },
  {
   "cell_type": "markdown",
   "metadata": {},
   "source": [
    "## 5. Create an online endpoint"
   ]
  },
  {
   "cell_type": "code",
   "execution_count": null,
   "metadata": {
    "name": "5-create-online-endpoint"
   },
   "outputs": [],
   "source": [
    "# #TODO: \n",
    "# endpoint = ml_client.online_endpoints.begin_create_or_update(endpoint)"
   ]
  },
  {
   "cell_type": "code",
   "execution_count": null,
   "metadata": {},
   "outputs": [],
   "source": [
    "# TODO: \n",
    "endpoint = ml_client.online_endpoints.get(endpoint_name)"
   ]
  },
  {
   "cell_type": "code",
   "execution_count": null,
   "metadata": {
    "name": "5-get-details"
   },
   "outputs": [],
   "source": [
    "endpoint.identity.as_dict()"
   ]
  },
  {
   "cell_type": "markdown",
   "metadata": {},
   "source": [
    "## 6. Give access permission to the managed identity"
   ]
  },
  {
   "cell_type": "markdown",
   "metadata": {},
   "source": [
    "### 6.1 Get a handle to the AuthorizationManagementClient"
   ]
  },
  {
   "cell_type": "code",
   "execution_count": null,
   "metadata": {
    "name": "6-get-handle"
   },
   "outputs": [],
   "source": [
    "from azure.mgmt.authorization import AuthorizationManagementClient\n",
    "from azure.mgmt.authorization.v2020_10_01_preview.models import (\n",
    "    RoleAssignment,\n",
    "    RoleAssignmentCreateParameters,\n",
    ")\n",
    "from azure.mgmt.authorization.v2018_01_01_preview.models import (\n",
    "    RoleDefinition\n",
    ")\n",
    "import uuid\n",
    "\n",
    "role_definition_client = AuthorizationManagementClient(\n",
    "    credential=credential, subscription_id=subscription_id,\n",
    "    api_version=\"2018-01-01-preview\"\n",
    ")\n",
    "\n",
    "role_assignment_client = AuthorizationManagementClient(\n",
    "    credential=credential, subscription_id=subscription_id,\n",
    "    api_version=\"2020-10-01-preview\"\n",
    ")\n"
   ]
  },
  {
   "cell_type": "markdown",
   "metadata": {},
   "source": [
    "### 6.2 Get System-assigned identity details"
   ]
  },
  {
   "cell_type": "code",
   "execution_count": null,
   "metadata": {
    "name": "6-get-sai-details"
   },
   "outputs": [],
   "source": [
    "endpoint = ml_client.online_endpoints.get(endpoint_name)\n",
    "system_principal_id = endpoint.identity.principal_id"
   ]
  },
  {
   "cell_type": "markdown",
   "metadata": {},
   "source": [
    "### 6.3 Give permission to the user storage account"
   ]
  },
  {
   "cell_type": "code",
   "execution_count": null,
   "metadata": {
    "name": "6-give-permission-user-storage-account"
   },
   "outputs": [],
   "source": [
    "role_name = \"Storage Blob Data Reader\"\n",
    "scope = storage_account.id\n",
    "\n",
    "role_defs = role_definition_client.role_definitions.list(scope=scope)\n",
    "role_def = next((r for r in role_defs if r.role_name == role_name))\n",
    "\n",
    "role_assignment_client.role_assignments.create(\n",
    "    scope=scope,\n",
    "    role_assignment_name=str(uuid.uuid4()),\n",
    "    parameters=RoleAssignmentCreateParameters(\n",
    "        role_definition_id=role_def.id, principal_id=system_principal_id\n",
    "    )\n",
    ")"
   ]
  },
  {
   "cell_type": "markdown",
   "metadata": {},
   "source": [
    "## 7. Create a deployment with your configuration"
   ]
  },
  {
   "cell_type": "markdown",
   "metadata": {},
   "source": [
    "### 7.1 Create the deployment"
   ]
  },
  {
   "cell_type": "code",
   "execution_count": 10,
   "metadata": {
    "name": "7-create-deployment"
   },
   "outputs": [
    {
     "name": "stderr",
     "output_type": "stream",
     "text": [
      "Check: endpoint rolestest4 exists\n",
      "\u001b[32mUploading onlinescoring (0.0 MBs): 100%|███████████████████████████████████████████████████████████████████████████████████████████████████████████████████████████████████████████████████████████████████████████████████████████████████████████████████████████████████████████████████████████████████████████████████████████████████████████████████████████████████████████████████████████████████████████████████████████████████████████████████████████████████████████████████████████████████████████████████████████████████████████████████████████████████████████████████████████████████████████████████████████████████████████████████████████████████████████████████████████████████████████████████████████████████████████████████████████████████████████████████████████████████████████████████████████████████████████████████████████████████████████████████████████████████████████████████████████████████████████████████████████████████████████████████████| 3979/3979 [00:00<00:00, 123627.81it/s]\u001b[0m\n",
      "\u001b[39m\n",
      "\n",
      "Creating/updating online deployment purple "
     ]
    },
    {
     "name": "stdout",
     "output_type": "stream",
     "text": [
      "......................................................................................"
     ]
    },
    {
     "name": "stderr",
     "output_type": "stream",
     "text": [
      "Done (7m 27s)\n"
     ]
    }
   ],
   "source": [
    "deployment = ml_client.online_deployments.begin_create_or_update(deployment)"
   ]
  },
  {
   "cell_type": "markdown",
   "metadata": {},
   "source": [
    "### 7.2 Check the status of the deployment"
   ]
  },
  {
   "cell_type": "code",
   "execution_count": 16,
   "metadata": {
    "name": "7-check-deployment-status"
   },
   "outputs": [],
   "source": [
    "deployment = ml_client.online_deployments.get(endpoint_name=endpoint_name, name=\"purple\") # TODO"
   ]
  },
  {
   "cell_type": "markdown",
   "metadata": {},
   "source": [
    "### 7.3 Get the deployment logs"
   ]
  },
  {
   "cell_type": "code",
   "execution_count": 17,
   "metadata": {
    "name": "7-get-deployment-logs"
   },
   "outputs": [
    {
     "data": {
      "text/plain": [
       "\"Instance status:\\nSystemSetup: Succeeded\\nUserContainerImagePull: Succeeded\\nModelDownload: Succeeded\\nUserContainerStart: Succeeded\\n\\nContainer events:\\nKind: Pod, Name: Pulling, Type: Normal, Time: 2022-09-14T22:41:58.242049Z, Message: Start pulling container image\\nKind: Pod, Name: Downloading, Type: Normal, Time: 2022-09-14T22:41:59.003268Z, Message: Start downloading models\\nKind: Pod, Name: Pulled, Type: Normal, Time: 2022-09-14T22:42:51.467564Z, Message: Container image is pulled successfully\\nKind: Pod, Name: Downloaded, Type: Normal, Time: 2022-09-14T22:42:51.467564Z, Message: Models are downloaded successfully\\nKind: Pod, Name: Created, Type: Normal, Time: 2022-09-14T22:42:52.016165Z, Message: Created container inference-server\\nKind: Pod, Name: Started, Type: Normal, Time: 2022-09-14T22:42:52.146802Z, Message: Started container inference-server\\nKind: Pod, Name: ContainerReady, Type: Normal, Time: 2022-09-14T22:43:12.727329156Z, Message: Container is ready\\n\\nContainer logs:\\n2022-09-14T22:42:52,148066237+00:00 - iot-server/run \\n2022-09-14T22:42:52,148424542+00:00 - rsyslog/run \\n2022-09-14T22:42:52,166369997+00:00 - gunicorn/run \\nDynamic Python package installation is disabled.\\nStarting HTTP server\\n2022-09-14T22:42:52,199554869+00:00 - nginx/run \\nEdgeHubConnectionString and IOTEDGE_IOTHUBHOSTNAME are not set. Exiting...\\n2022-09-14T22:42:52,314713908+00:00 - iot-server/finish 1 0\\n2022-09-14T22:42:52,317872653+00:00 - Exit code 1 is normal. Not restarting iot-server.\\nStarting gunicorn 20.1.0\\nListening at: http://127.0.0.1:31311 (10)\\nUsing worker: sync\\nworker timeout is set to 300\\nBooting worker with pid: 38\\nSPARK_HOME not set. Skipping PySpark Initialization.\\nInitializing logger\\n2022-09-14 22:42:52,926 | root | INFO | Starting up app insights client\\nlogging socket was found. logging is available.\\nlogging socket was found. logging is available.\\n2022-09-14 22:42:52,931 | root | INFO | Starting up request id generator\\n2022-09-14 22:42:52,931 | root | INFO | Starting up app insight hooks\\n2022-09-14 22:42:52,931 | root | INFO | Invoking user's init function\\nModel loaded\\nTrying to access blob storage...\\nstorage_account: rolestest2, container: blob1, filename: hello.txt\\nTrying to get identity token...\\nRetrieved token successfully.\\nBlob containts: Hello world!\\nInit complete\\n2022-09-14 22:42:53,548 | root | INFO | Users's init has completed successfully\\n2022-09-14 22:42:53,550 | root | INFO | Skipping middleware: dbg_model_info as it's not enabled.\\n2022-09-14 22:42:53,550 | root | INFO | Skipping middleware: dbg_resource_usage as it's not enabled.\\n2022-09-14 22:42:53,551 | root | INFO | Scoring timeout setting is not found. Use default timeout: 3600000 ms\\n\\n\""
      ]
     },
     "execution_count": 17,
     "metadata": {},
     "output_type": "execute_result"
    }
   ],
   "source": [
    "ml_client.online_deployments.get_logs(deployment.name, deployment.endpoint_name, 1000)"
   ]
  },
  {
   "cell_type": "markdown",
   "metadata": {},
   "source": [
    "### 7.4 Set traffic to 100% for deployment"
   ]
  },
  {
   "cell_type": "code",
   "execution_count": null,
   "metadata": {},
   "outputs": [],
   "source": [
    "endpoint.traffic = {str(deployment.name): 100}\n",
    "ml_client.begin_create_or_update(endpoint)"
   ]
  },
  {
   "cell_type": "markdown",
   "metadata": {},
   "source": [
    "## 8. Confirm your endpoint deployed successfully"
   ]
  },
  {
   "cell_type": "code",
   "execution_count": 18,
   "metadata": {
    "name": "8-confirm-endpoint-deployed-successfully"
   },
   "outputs": [
    {
     "ename": "Exception",
     "evalue": "No valid deployments to route to. Please check that the endpoint has at least one deployment with positive weight values or use a deployment specific header to route. [https://docs.microsoft.com/en-us/azure/machine-learning/how-to-safely-rollout-managed-endpoints#deploy-a-new-model-but-send-it-no-traffic-yet]",
     "output_type": "error",
     "traceback": [
      "\u001b[0;31m---------------------------------------------------------------------------\u001b[0m",
      "\u001b[0;31mJSONDecodeError\u001b[0m                           Traceback (most recent call last)",
      "File \u001b[0;32m/anaconda/envs/roles/lib/python3.8/site-packages/requests/models.py:971\u001b[0m, in \u001b[0;36mResponse.json\u001b[0;34m(self, **kwargs)\u001b[0m\n\u001b[1;32m    970\u001b[0m \u001b[39mtry\u001b[39;00m:\n\u001b[0;32m--> 971\u001b[0m     \u001b[39mreturn\u001b[39;00m complexjson\u001b[39m.\u001b[39;49mloads(\u001b[39mself\u001b[39;49m\u001b[39m.\u001b[39;49mtext, \u001b[39m*\u001b[39;49m\u001b[39m*\u001b[39;49mkwargs)\n\u001b[1;32m    972\u001b[0m \u001b[39mexcept\u001b[39;00m JSONDecodeError \u001b[39mas\u001b[39;00m e:\n\u001b[1;32m    973\u001b[0m     \u001b[39m# Catch JSON-related errors and raise as requests.JSONDecodeError\u001b[39;00m\n\u001b[1;32m    974\u001b[0m     \u001b[39m# This aliases json.JSONDecodeError and simplejson.JSONDecodeError\u001b[39;00m\n",
      "File \u001b[0;32m/anaconda/envs/roles/lib/python3.8/json/__init__.py:357\u001b[0m, in \u001b[0;36mloads\u001b[0;34m(s, cls, object_hook, parse_float, parse_int, parse_constant, object_pairs_hook, **kw)\u001b[0m\n\u001b[1;32m    354\u001b[0m \u001b[39mif\u001b[39;00m (\u001b[39mcls\u001b[39m \u001b[39mis\u001b[39;00m \u001b[39mNone\u001b[39;00m \u001b[39mand\u001b[39;00m object_hook \u001b[39mis\u001b[39;00m \u001b[39mNone\u001b[39;00m \u001b[39mand\u001b[39;00m\n\u001b[1;32m    355\u001b[0m         parse_int \u001b[39mis\u001b[39;00m \u001b[39mNone\u001b[39;00m \u001b[39mand\u001b[39;00m parse_float \u001b[39mis\u001b[39;00m \u001b[39mNone\u001b[39;00m \u001b[39mand\u001b[39;00m\n\u001b[1;32m    356\u001b[0m         parse_constant \u001b[39mis\u001b[39;00m \u001b[39mNone\u001b[39;00m \u001b[39mand\u001b[39;00m object_pairs_hook \u001b[39mis\u001b[39;00m \u001b[39mNone\u001b[39;00m \u001b[39mand\u001b[39;00m \u001b[39mnot\u001b[39;00m kw):\n\u001b[0;32m--> 357\u001b[0m     \u001b[39mreturn\u001b[39;00m _default_decoder\u001b[39m.\u001b[39;49mdecode(s)\n\u001b[1;32m    358\u001b[0m \u001b[39mif\u001b[39;00m \u001b[39mcls\u001b[39m \u001b[39mis\u001b[39;00m \u001b[39mNone\u001b[39;00m:\n",
      "File \u001b[0;32m/anaconda/envs/roles/lib/python3.8/json/decoder.py:337\u001b[0m, in \u001b[0;36mJSONDecoder.decode\u001b[0;34m(self, s, _w)\u001b[0m\n\u001b[1;32m    333\u001b[0m \u001b[39m\"\"\"Return the Python representation of ``s`` (a ``str`` instance\u001b[39;00m\n\u001b[1;32m    334\u001b[0m \u001b[39mcontaining a JSON document).\u001b[39;00m\n\u001b[1;32m    335\u001b[0m \n\u001b[1;32m    336\u001b[0m \u001b[39m\"\"\"\u001b[39;00m\n\u001b[0;32m--> 337\u001b[0m obj, end \u001b[39m=\u001b[39m \u001b[39mself\u001b[39;49m\u001b[39m.\u001b[39;49mraw_decode(s, idx\u001b[39m=\u001b[39;49m_w(s, \u001b[39m0\u001b[39;49m)\u001b[39m.\u001b[39;49mend())\n\u001b[1;32m    338\u001b[0m end \u001b[39m=\u001b[39m _w(s, end)\u001b[39m.\u001b[39mend()\n",
      "File \u001b[0;32m/anaconda/envs/roles/lib/python3.8/json/decoder.py:355\u001b[0m, in \u001b[0;36mJSONDecoder.raw_decode\u001b[0;34m(self, s, idx)\u001b[0m\n\u001b[1;32m    354\u001b[0m \u001b[39mexcept\u001b[39;00m \u001b[39mStopIteration\u001b[39;00m \u001b[39mas\u001b[39;00m err:\n\u001b[0;32m--> 355\u001b[0m     \u001b[39mraise\u001b[39;00m JSONDecodeError(\u001b[39m\"\u001b[39m\u001b[39mExpecting value\u001b[39m\u001b[39m\"\u001b[39m, s, err\u001b[39m.\u001b[39mvalue) \u001b[39mfrom\u001b[39;00m \u001b[39mNone\u001b[39m\n\u001b[1;32m    356\u001b[0m \u001b[39mreturn\u001b[39;00m obj, end\n",
      "\u001b[0;31mJSONDecodeError\u001b[0m: Expecting value: line 1 column 1 (char 0)",
      "\nDuring handling of the above exception, another exception occurred:\n",
      "\u001b[0;31mJSONDecodeError\u001b[0m                           Traceback (most recent call last)",
      "File \u001b[0;32m/anaconda/envs/roles/lib/python3.8/site-packages/azure/ai/ml/_utils/_endpoint_utils.py:114\u001b[0m, in \u001b[0;36mpost_and_validate_response\u001b[0;34m(url, data, json, headers, **kwargs)\u001b[0m\n\u001b[1;32m    113\u001b[0m \u001b[39mtry\u001b[39;00m:\n\u001b[0;32m--> 114\u001b[0m     r_json \u001b[39m=\u001b[39m response\u001b[39m.\u001b[39;49mjson()\n\u001b[1;32m    115\u001b[0m \u001b[39mexcept\u001b[39;00m \u001b[39mValueError\u001b[39;00m:\n\u001b[1;32m    116\u001b[0m     \u001b[39m# exception is not in the json format\u001b[39;00m\n",
      "File \u001b[0;32m/anaconda/envs/roles/lib/python3.8/site-packages/requests/models.py:975\u001b[0m, in \u001b[0;36mResponse.json\u001b[0;34m(self, **kwargs)\u001b[0m\n\u001b[1;32m    972\u001b[0m \u001b[39mexcept\u001b[39;00m JSONDecodeError \u001b[39mas\u001b[39;00m e:\n\u001b[1;32m    973\u001b[0m     \u001b[39m# Catch JSON-related errors and raise as requests.JSONDecodeError\u001b[39;00m\n\u001b[1;32m    974\u001b[0m     \u001b[39m# This aliases json.JSONDecodeError and simplejson.JSONDecodeError\u001b[39;00m\n\u001b[0;32m--> 975\u001b[0m     \u001b[39mraise\u001b[39;00m RequestsJSONDecodeError(e\u001b[39m.\u001b[39mmsg, e\u001b[39m.\u001b[39mdoc, e\u001b[39m.\u001b[39mpos)\n",
      "\u001b[0;31mJSONDecodeError\u001b[0m: Expecting value: line 1 column 1 (char 0)",
      "\nDuring handling of the above exception, another exception occurred:\n",
      "\u001b[0;31mException\u001b[0m                                 Traceback (most recent call last)",
      "Cell \u001b[0;32mIn [18], line 2\u001b[0m\n\u001b[1;32m      1\u001b[0m sample_data \u001b[38;5;241m=\u001b[39m \u001b[38;5;124m\"\u001b[39m\u001b[38;5;124m../../model-1/sample-request.json\u001b[39m\u001b[38;5;124m\"\u001b[39m\n\u001b[0;32m----> 2\u001b[0m \u001b[43mml_client\u001b[49m\u001b[38;5;241;43m.\u001b[39;49m\u001b[43monline_endpoints\u001b[49m\u001b[38;5;241;43m.\u001b[39;49m\u001b[43minvoke\u001b[49m\u001b[43m(\u001b[49m\u001b[43mendpoint_name\u001b[49m\u001b[38;5;241;43m=\u001b[39;49m\u001b[43mendpoint_name\u001b[49m\u001b[43m,\u001b[49m\u001b[43m \u001b[49m\u001b[43mrequest_file\u001b[49m\u001b[38;5;241;43m=\u001b[39;49m\u001b[43msample_data\u001b[49m\u001b[43m)\u001b[49m\n",
      "File \u001b[0;32m/anaconda/envs/roles/lib/python3.8/site-packages/azure/ai/ml/_telemetry/activity.py:258\u001b[0m, in \u001b[0;36mmonitor_with_activity.<locals>.monitor.<locals>.wrapper\u001b[0;34m(*args, **kwargs)\u001b[0m\n\u001b[1;32m    255\u001b[0m \u001b[39m@functools\u001b[39m\u001b[39m.\u001b[39mwraps(f)\n\u001b[1;32m    256\u001b[0m \u001b[39mdef\u001b[39;00m \u001b[39mwrapper\u001b[39m(\u001b[39m*\u001b[39margs, \u001b[39m*\u001b[39m\u001b[39m*\u001b[39mkwargs):\n\u001b[1;32m    257\u001b[0m     \u001b[39mwith\u001b[39;00m log_activity(logger, activity_name \u001b[39mor\u001b[39;00m f\u001b[39m.\u001b[39m\u001b[39m__name__\u001b[39m, activity_type, custom_dimensions):\n\u001b[0;32m--> 258\u001b[0m         \u001b[39mreturn\u001b[39;00m f(\u001b[39m*\u001b[39;49margs, \u001b[39m*\u001b[39;49m\u001b[39m*\u001b[39;49mkwargs)\n",
      "File \u001b[0;32m/anaconda/envs/roles/lib/python3.8/site-packages/azure/ai/ml/operations/_online_endpoint_operations.py:320\u001b[0m, in \u001b[0;36mOnlineEndpointOperations.invoke\u001b[0;34m(self, endpoint_name, request_file, deployment_name, input_data, params_override, local, **kwargs)\u001b[0m\n\u001b[1;32m    318\u001b[0m \u001b[39mif\u001b[39;00m deployment_name:\n\u001b[1;32m    319\u001b[0m     headers[EndpointInvokeFields\u001b[39m.\u001b[39mMODEL_DEPLOYMENT] \u001b[39m=\u001b[39m deployment_name\n\u001b[0;32m--> 320\u001b[0m response \u001b[39m=\u001b[39m post_and_validate_response(endpoint\u001b[39m.\u001b[39;49mproperties\u001b[39m.\u001b[39;49mscoring_uri, json\u001b[39m=\u001b[39;49mdata, headers\u001b[39m=\u001b[39;49mheaders, \u001b[39m*\u001b[39;49m\u001b[39m*\u001b[39;49mkwargs)\n\u001b[1;32m    321\u001b[0m \u001b[39mreturn\u001b[39;00m response\u001b[39m.\u001b[39mtext\n",
      "File \u001b[0;32m/anaconda/envs/roles/lib/python3.8/site-packages/azure/ai/ml/_utils/_endpoint_utils.py:117\u001b[0m, in \u001b[0;36mpost_and_validate_response\u001b[0;34m(url, data, json, headers, **kwargs)\u001b[0m\n\u001b[1;32m    114\u001b[0m         r_json \u001b[39m=\u001b[39m response\u001b[39m.\u001b[39mjson()\n\u001b[1;32m    115\u001b[0m     \u001b[39mexcept\u001b[39;00m \u001b[39mValueError\u001b[39;00m:\n\u001b[1;32m    116\u001b[0m         \u001b[39m# exception is not in the json format\u001b[39;00m\n\u001b[0;32m--> 117\u001b[0m         \u001b[39mraise\u001b[39;00m \u001b[39mException\u001b[39;00m(response\u001b[39m.\u001b[39mcontent\u001b[39m.\u001b[39mdecode(\u001b[39m\"\u001b[39m\u001b[39mutf-8\u001b[39m\u001b[39m\"\u001b[39m))\n\u001b[1;32m    118\u001b[0m failure_msg \u001b[39m=\u001b[39m r_json\u001b[39m.\u001b[39mget(\u001b[39m\"\u001b[39m\u001b[39merror\u001b[39m\u001b[39m\"\u001b[39m, {})\u001b[39m.\u001b[39mget(\u001b[39m\"\u001b[39m\u001b[39mmessage\u001b[39m\u001b[39m\"\u001b[39m, response)\n\u001b[1;32m    119\u001b[0m error_map \u001b[39m=\u001b[39m {\n\u001b[1;32m    120\u001b[0m     \u001b[39m401\u001b[39m: ClientAuthenticationError,\n\u001b[1;32m    121\u001b[0m     \u001b[39m404\u001b[39m: ResourceNotFoundError,\n\u001b[1;32m    122\u001b[0m     \u001b[39m409\u001b[39m: ResourceExistsError,\n\u001b[1;32m    123\u001b[0m }\n",
      "\u001b[0;31mException\u001b[0m: No valid deployments to route to. Please check that the endpoint has at least one deployment with positive weight values or use a deployment specific header to route. [https://docs.microsoft.com/en-us/azure/machine-learning/how-to-safely-rollout-managed-endpoints#deploy-a-new-model-but-send-it-no-traffic-yet]"
     ]
    }
   ],
   "source": [
    "sample_data = \"../../model-1/sample-request.json\"\n",
    "ml_client.online_endpoints.invoke(endpoint_name=endpoint_name, request_file=sample_data)"
   ]
  },
  {
   "cell_type": "markdown",
   "metadata": {},
   "source": [
    "## 9. Delete the endpoint and storage account"
   ]
  },
  {
   "cell_type": "markdown",
   "metadata": {},
   "source": [
    "### 9.1 Delete the endpoint"
   ]
  },
  {
   "cell_type": "code",
   "execution_count": null,
   "metadata": {
    "name": "9-delete-endpoint"
   },
   "outputs": [],
   "source": [
    "ml_client.online_endpoints.begin_delete(endpoint_name)"
   ]
  },
  {
   "cell_type": "markdown",
   "metadata": {},
   "source": [
    "### 9.2 Delete the storage account"
   ]
  },
  {
   "cell_type": "code",
   "execution_count": null,
   "metadata": {
    "name": "9-delete-storage-account"
   },
   "outputs": [],
   "source": [
    "storage_client.storage_accounts.delete(\n",
    "    resource_group_name=resource_group, account_name=storage_account_name\n",
    ")"
   ]
  }
 ],
 "metadata": {
  "kernelspec": {
   "display_name": "Python 3.8.13 ('roles')",
   "language": "python",
   "name": "python3"
  },
  "language_info": {
   "codemirror_mode": {
    "name": "ipython",
    "version": 3
   },
   "file_extension": ".py",
   "mimetype": "text/x-python",
   "name": "python",
   "nbconvert_exporter": "python",
   "pygments_lexer": "ipython3",
   "version": "3.8.13"
  },
  "vscode": {
   "interpreter": {
    "hash": "847d7872e67b21750ba27c31d9b41df40feb73325a645668960b8055988322af"
   }
  }
 },
 "nbformat": 4,
 "nbformat_minor": 2
}
