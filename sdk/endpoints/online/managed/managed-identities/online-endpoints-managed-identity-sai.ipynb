{
 "cells": [
  {
   "cell_type": "markdown",
   "metadata": {},
   "source": [
    "# Access Azure resources from an online endpoint with a system-assigned managed identity\n",
    "## Define configuration for deployment"
   ]
  },
  {
   "cell_type": "code",
   "execution_count": null,
   "metadata": {
    "name": "define-configuration-1"
   },
   "outputs": [],
   "source": [
    "from azure.ai.ml.entities import (\n",
    "    ManagedOnlineDeployment,\n",
    "    ManagedOnlineEndpoint,\n",
    "    Model,\n",
    "    CodeConfiguration,\n",
    "    Environment,\n",
    ")"
   ]
  },
  {
   "cell_type": "code",
   "execution_count": null,
   "metadata": {
    "name": "define-configuration-2"
   },
   "outputs": [],
   "source": [
    "sai_endpoint_name = \"my-sai-endpoint\"\n",
    "sai_endpoint = ManagedOnlineEndpoint(name=sai_endpoint_name, auth_mode=\"key\")"
   ]
  },
  {
   "cell_type": "code",
   "execution_count": null,
   "metadata": {
    "name": "define-configuration-3"
   },
   "outputs": [],
   "source": [
    "sai_deployment = ManagedOnlineDeployment(\n",
    "    name=\"blue\",\n",
    "    endpoint_name=sai_endpoint_name,\n",
    "    model=Model(path=\"../../model-1/model/\"),\n",
    "    code_configuration=CodeConfiguration(\n",
    "        code=\"../../model-1/onlinescoring/\", scoring_script=\"score_managedidentity.py\"\n",
    "    ),\n",
    "    environment=Environment(\n",
    "        conda_file=\"../../model-1/environment/conda.yml\",\n",
    "        image=\"mcr.microsoft.com/azureml/openmpi3.1.2-ubuntu18.04:20210727.v1\",\n",
    "    ),\n",
    "    instance_type=\"Standard_DS2_v2\",\n",
    "    instance_count=1,\n",
    "    environment_variables={\n",
    "        \"STORAGE_ACCOUNT_NAME\": \"storage_place_holder\",\n",
    "        \"STORAGE_CONTAINER_NAME\": \"container_place_holder\",\n",
    "        \"FILE_NAME\": \"file_place_holder\",\n",
    "    },\n",
    ")"
   ]
  },
  {
   "cell_type": "markdown",
   "metadata": {},
   "source": [
    "## Configure variables for deployment"
   ]
  },
  {
   "cell_type": "code",
   "execution_count": null,
   "metadata": {
    "name": "configure-variables-1"
   },
   "outputs": [],
   "source": [
    "subscription_id = \"<SUBSCRIPTION_ID>\"\n",
    "resource_group = \"<RESOURCE_GROUP>\"\n",
    "workspace_name = \"<AML_WORKSPACE_NAME>\"\n",
    "\n",
    "location = \"<WORKSPACE_LOCATION>\"\n",
    "\n",
    "storage_account_name = \"<STORAGE_ACCOUNT_NAME>\"\n",
    "storage_container_name = \"<CONTAINER_TO_ACCESS>\"\n",
    "file_name = \"<FILE_TO_ACCESS>\""
   ]
  },
  {
   "cell_type": "markdown",
   "metadata": {},
   "source": [
    "## Create the managed identity"
   ]
  },
  {
   "cell_type": "markdown",
   "metadata": {},
   "source": [
    "With a system-assigned managed identity, Azure creates a managed identity on your behalf."
   ]
  },
  {
   "cell_type": "markdown",
   "metadata": {},
   "source": [
    "## Create storage account and container"
   ]
  },
  {
   "cell_type": "code",
   "execution_count": null,
   "metadata": {
    "name": "create-storage-1"
   },
   "outputs": [],
   "source": [
    "from azure.identity import DefaultAzureCredential, AzureCliCredential\n",
    "from azure.mgmt.storage import StorageManagementClient\n",
    "from azure.storage.blob import ContainerClient\n",
    "from azure.mgmt.storage.models import Sku, StorageAccountCreateParameters, BlobContainer"
   ]
  },
  {
   "cell_type": "code",
   "execution_count": null,
   "metadata": {
    "name": "create-storage-2"
   },
   "outputs": [],
   "source": [
    "credential = AzureCliCredential()\n",
    "storage_client = StorageManagementClient(\n",
    "    credential,\n",
    "    subscription_id,\n",
    ")"
   ]
  },
  {
   "cell_type": "code",
   "execution_count": null,
   "metadata": {
    "name": "create-storage-3"
   },
   "outputs": [],
   "source": [
    "storage_account_parameters = StorageAccountCreateParameters(\n",
    "    sku=Sku(name=\"Standard_LRS\"), kind=\"Storage\", location=location\n",
    ")\n",
    "\n",
    "storage_client.storage_accounts.begin_create(\n",
    "    resource_group_name=resource_group,\n",
    "    account_name=storage_account_name,\n",
    "    parameters=storage_account_parameters,\n",
    ")"
   ]
  },
  {
   "cell_type": "code",
   "execution_count": null,
   "metadata": {
    "name": "create-storage-4"
   },
   "outputs": [],
   "source": [
    "storage_account = next(\n",
    "    (\n",
    "        account\n",
    "        for account in storage_client.storage_accounts.list_by_resource_group(\n",
    "            resource_group\n",
    "        )\n",
    "        if account.name == storage_account_name\n",
    "    )\n",
    ")"
   ]
  },
  {
   "cell_type": "code",
   "execution_count": null,
   "metadata": {
    "name": "create-storage-5"
   },
   "outputs": [],
   "source": [
    "blob_container = storage_client.blob_containers.create(\n",
    "    resource_group_name=resource_group,\n",
    "    account_name=storage_account_name,\n",
    "    container_name=storage_container_name,\n",
    "    blob_container=BlobContainer(),\n",
    ")"
   ]
  },
  {
   "cell_type": "code",
   "execution_count": null,
   "metadata": {
    "name": "create-storage-6"
   },
   "outputs": [],
   "source": [
    "res = storage_client.storage_accounts.list_keys(\n",
    "    resource_group_name=resource_group,\n",
    "    account_name=storage_account_name,\n",
    ")\n",
    "key = res.keys[0].value"
   ]
  },
  {
   "cell_type": "code",
   "execution_count": null,
   "metadata": {
    "name": "create-storage-7"
   },
   "outputs": [],
   "source": [
    "container_client = ContainerClient(\n",
    "    account_url=storage_account.primary_endpoints.blob,\n",
    "    container_name=storage_container_name,\n",
    "    credential=key,\n",
    ")"
   ]
  },
  {
   "cell_type": "code",
   "execution_count": null,
   "metadata": {
    "name": "create-storage-8"
   },
   "outputs": [],
   "source": [
    "file_path = \"endpoints/online/managed/managed-identities/hello.txt\"\n",
    "with open(file_path, \"rb\") as f:\n",
    "    container_client.upload_blob(name=file_name, data=f.read())"
   ]
  },
  {
   "cell_type": "markdown",
   "metadata": {},
   "source": [
    "## Create an online endpoint"
   ]
  },
  {
   "cell_type": "code",
   "execution_count": null,
   "metadata": {
    "name": "create-endpoint-1"
   },
   "outputs": [],
   "source": [
    "from azure.ai.ml import MLClient\n",
    "\n",
    "ml_client = MLClient(credential, subscription_id, resource_group, workspace_name)"
   ]
  },
  {
   "cell_type": "code",
   "execution_count": null,
   "metadata": {
    "name": "create-endpoint-2"
   },
   "outputs": [],
   "source": [
    "sai_endpoint = ml_client.online_endpoints.begin_create_or_update(sai_endpoint)"
   ]
  },
  {
   "cell_type": "code",
   "execution_count": null,
   "metadata": {
    "name": "create-endpoint-3"
   },
   "outputs": [],
   "source": [
    "sai_endpoint.identity.as_dict()"
   ]
  },
  {
   "cell_type": "markdown",
   "metadata": {},
   "source": [
    "## Give access permission to the managed identity"
   ]
  },
  {
   "cell_type": "code",
   "execution_count": null,
   "metadata": {
    "name": "give-access-permission-1"
   },
   "outputs": [],
   "source": [
    "from azure.mgmt.authorization import AuthorizationManagementClient\n",
    "from azure.mgmt.authorization.models import (\n",
    "    RoleAssignment,\n",
    "    RoleDefinition,\n",
    "    RoleAssignmentCreateParameters,\n",
    "    RoleAssignmentProperties,\n",
    "    RoleAssignmentPropertiesWithScope,\n",
    ")\n",
    "import uuid\n",
    "\n",
    "auth_client = AuthorizationManagementClient(\n",
    "    credential=credential, subscription_id=subscription_id\n",
    ")"
   ]
  },
  {
   "cell_type": "code",
   "execution_count": null,
   "metadata": {
    "name": "give-access-permission-2"
   },
   "outputs": [],
   "source": [
    "sai_endpoint = ml_client.online_endpoints.get(sai_endpoint_name)\n",
    "system_principal_id = sai_endpoint.identity.principal_id"
   ]
  },
  {
   "cell_type": "code",
   "execution_count": null,
   "metadata": {
    "name": "give-access-permission-3"
   },
   "outputs": [],
   "source": [
    "workspace = ml_client.workspaces.get(workspace_name)\n",
    "storage_account = workspace.storage_account"
   ]
  },
  {
   "cell_type": "code",
   "execution_count": null,
   "metadata": {
    "name": "give-access-permission-4"
   },
   "outputs": [],
   "source": [
    "role_name = \"Storage Blob Data Reader\"\n",
    "scope = storage_account\n",
    "\n",
    "role_defs = auth_client.role_definitions.list(scope=scope)\n",
    "role_def = next((r for r in role_defs if r.role_name == role_name))\n",
    "\n",
    "auth_client.role_assignments.create(\n",
    "    scope=scope,\n",
    "    role_assignment_name=uuid.uuid4(),\n",
    "    parameters=RoleAssignmentProperties(\n",
    "        role_definition_id=role_def.id, principal_id=system_principal_id\n",
    "    ),\n",
    ")"
   ]
  },
  {
   "cell_type": "code",
   "execution_count": null,
   "metadata": {
    "name": "give-access-permission-5"
   },
   "outputs": [],
   "source": [
    "auth_client.role_assignments.create(\n",
    "    scope=storage_account,\n",
    "    role_assignment_name=uuid.uuid4(),\n",
    "    parameters=RoleAssignmentProperties(\n",
    "        role_definition_id=role_def.id, principal_id=system_principal_id\n",
    "    ),\n",
    ")"
   ]
  },
  {
   "cell_type": "markdown",
   "metadata": {},
   "source": [
    "## Create a deployment with your configuration"
   ]
  },
  {
   "cell_type": "code",
   "execution_count": null,
   "metadata": {
    "name": "create-deployment-1"
   },
   "outputs": [],
   "source": [
    "# Set the placeholder environment variables\n",
    "env_map = {\n",
    "    \"STORAGE_ACCOUNT_NAME\": storage_account_name,\n",
    "    \"STORAGE_CONTAINER_NAME\": storage_container_name,\n",
    "    \"FILE_NAME\": file_name,\n",
    "}\n",
    "\n",
    "for k, v in env_map.items():\n",
    "    sai_deployment.environment_variables[k] = v"
   ]
  },
  {
   "cell_type": "code",
   "execution_count": null,
   "metadata": {
    "name": "create-deployment-2"
   },
   "outputs": [],
   "source": [
    "sai_deployment = ml_client.online_deployments.begin_create_or_update(sai_deployment)"
   ]
  },
  {
   "cell_type": "markdown",
   "metadata": {},
   "source": [
    "## Confirm your endpoint deployed successfully"
   ]
  },
  {
   "cell_type": "code",
   "execution_count": null,
   "metadata": {
    "name": "test-deployment-1"
   },
   "outputs": [],
   "source": [
    "sample_data = \"../../model-1/sample-request.json\"\n",
    "ml_client.online_endpoints.invoke(\n",
    "    endpoint_name=sai_endpoint_name, request_file=sample_data\n",
    ")"
   ]
  },
  {
   "cell_type": "markdown",
   "metadata": {},
   "source": [
    "## Delete the endpoint and storage account"
   ]
  },
  {
   "cell_type": "code",
   "execution_count": null,
   "metadata": {
    "name": "delete-1"
   },
   "outputs": [],
   "source": [
    "ml_client.online_endpoints.begin_delete(sai_endpoint_name)"
   ]
  },
  {
   "cell_type": "code",
   "execution_count": null,
   "metadata": {
    "name": "delete-2"
   },
   "outputs": [],
   "source": [
    "storage_client.storage_accounts.delete(\n",
    "    resource_group_name=resource_group, account_name=storage_account_name\n",
    ")"
   ]
  }
 ],
 "metadata": {
  "language_info": {
   "name": "python"
  },
  "orig_nbformat": 4,
  "kernelspec": {
   "display_name": "Python 3.10 - SDK V2",
   "language": "python",
   "name": "python310-sdkv2"
  }
 },
 "nbformat": 4,
 "nbformat_minor": 2
}