{
 "cells": [
  {
   "cell_type": "markdown",
   "metadata": {},
   "source": [
    "# Access Azure resources from an online endpoint with a user-assigned managed identity"
   ]
  },
  {
   "cell_type": "markdown",
   "metadata": {},
   "source": [
    "## 1. Configure variables"
   ]
  },
  {
   "cell_type": "code",
   "execution_count": null,
   "metadata": {
    "name": "configure-variables-1"
   },
   "outputs": [],
   "source": [
    "subscription_id = \"<SUBSCRIPTION_ID>\"\n",
    "resource_group = \"<RESOURCE_GROUP>\"\n",
    "workspace_name = \"<AML_WORKSPACE_NAME>\"\n",
    "\n",
    "storage_account_name = \"<STORAGE_ACCOUNT_NAME>\"\n",
    "storage_container_name = \"<CONTAINER_TO_ACCESS>\"\n",
    "file_name = \"<FILE_TO_ACCESS>\"\n",
    "\n",
    "uai_name = \"<USER_ASSIGNED_IDENTITY_NAME>\""
   ]
  },
  {
   "cell_type": "code",
   "execution_count": null,
   "metadata": {},
   "outputs": [],
   "source": [
    "from azure.ai.ml import MLClient\n",
    "from azure.identity import DefaultAzureCredential, AzureCliCredential\n",
    "from azure.ai.ml.entities import (\n",
    "    ManagedOnlineDeployment,\n",
    "    ManagedOnlineEndpoint,\n",
    "    Model,\n",
    "    CodeConfiguration,\n",
    "    Environment,\n",
    ")"
   ]
  },
  {
   "cell_type": "code",
   "execution_count": null,
   "metadata": {},
   "outputs": [],
   "source": [
    "credential = AzureCliCredential()\n",
    "ml_client = MLClient(credential, subscription_id, resource_group, workspace_name)\n",
    "\n",
    "workspace_location = ml_client.workspaces.get(workspace_name).location"
   ]
  },
  {
   "cell_type": "markdown",
   "metadata": {},
   "source": [
    "## 2. Configure deployment"
   ]
  },
  {
   "cell_type": "code",
   "execution_count": null,
   "metadata": {
    "name": "define-configuration-2"
   },
   "outputs": [],
   "source": [
    "sai_endpoint_name = \"my-sai-endpoint\"\n",
    "sai_endpoint = ManagedOnlineEndpoint(name=sai_endpoint_name, auth_mode=\"key\")"
   ]
  },
  {
   "cell_type": "code",
   "execution_count": null,
   "metadata": {
    "name": "define-configuration-3"
   },
   "outputs": [],
   "source": [
    "sai_deployment = ManagedOnlineDeployment(\n",
    "    name=\"blue\",\n",
    "    endpoint_name=sai_endpoint_name,\n",
    "    model=Model(path=\"../../model-1/model/\"),\n",
    "    code_configuration=CodeConfiguration(\n",
    "        code=\"../../model-1/onlinescoring/\", scoring_script=\"score_managedidentity.py\"\n",
    "    ),\n",
    "    environment=Environment(\n",
    "        conda_file=\"../../model-1/environment/conda.yml\",\n",
    "        image=\"mcr.microsoft.com/azureml/openmpi3.1.2-ubuntu18.04:20210727.v1\",\n",
    "    ),\n",
    "    instance_type=\"Standard_DS2_v2\",\n",
    "    instance_count=1,\n",
    "    environment_variables={\n",
    "        \"STORAGE_ACCOUNT_NAME\": storage_account_name,\n",
    "        \"STORAGE_CONTAINER_NAME\": storage_container_name,\n",
    "        \"FILE_NAME\": file_name,\n",
    "        \"UAI_CLIENT_ID\": \"uai_client_id_place_holder\",\n",
    "    },\n",
    ")"
   ]
  },
  {
   "cell_type": "markdown",
   "metadata": {},
   "source": [
    "## 3. Create the managed identity"
   ]
  },
  {
   "cell_type": "code",
   "execution_count": null,
   "metadata": {
    "name": "create-managed-identity-1"
   },
   "outputs": [],
   "source": [
    "from azure.identity import DefaultAzureCredential\n",
    "from azure.mgmt.msi import ManagedServiceIdentityClient\n",
    "from azure.mgmt.msi.models import Identity"
   ]
  },
  {
   "cell_type": "code",
   "execution_count": null,
   "metadata": {
    "name": "create-managed-identity-2"
   },
   "outputs": [],
   "source": [
    "credential = DefaultAzureCredential()\n",
    "msi_client = ManagedServiceIdentityClient(\n",
    "    subscription_id=subscription_id,\n",
    "    credential=credential,\n",
    ")"
   ]
  },
  {
   "cell_type": "code",
   "execution_count": null,
   "metadata": {
    "name": "create-managed-identity-3"
   },
   "outputs": [],
   "source": [
    "msi_client.user_assigned_identities.create_or_update(\n",
    "    resource_group_name=resource_group,\n",
    "    resource_name=uai_name,\n",
    "    parameters=Identity(location=workspace_location),\n",
    ")"
   ]
  },
  {
   "cell_type": "code",
   "execution_count": null,
   "metadata": {
    "name": "create-managed-identity-4"
   },
   "outputs": [],
   "source": [
    "uai_identity = msi_client.user_assigned_identities.get(\n",
    "    resource_group_name=resource_group,\n",
    "    resource_name=uai_name,\n",
    ")"
   ]
  },
  {
   "cell_type": "markdown",
   "metadata": {},
   "source": [
    "## 4. Create storage account and container"
   ]
  },
  {
   "cell_type": "code",
   "execution_count": null,
   "metadata": {
    "name": "create-storage-1"
   },
   "outputs": [],
   "source": [
    "from azure.identity import DefaultAzureCredential, AzureCliCredential\n",
    "from azure.mgmt.storage import StorageManagementClient\n",
    "from azure.storage.blob import ContainerClient\n",
    "from azure.mgmt.storage.models import Sku, StorageAccountCreateParameters, BlobContainer"
   ]
  },
  {
   "cell_type": "code",
   "execution_count": null,
   "metadata": {
    "name": "create-storage-2"
   },
   "outputs": [],
   "source": [
    "credential = AzureCliCredential()\n",
    "storage_client = StorageManagementClient(\n",
    "    credential,\n",
    "    subscription_id,\n",
    ")"
   ]
  },
  {
   "cell_type": "code",
   "execution_count": null,
   "metadata": {
    "name": "create-storage-3"
   },
   "outputs": [],
   "source": [
    "storage_account_parameters = StorageAccountCreateParameters(\n",
    "    sku=Sku(name=\"Standard_LRS\"), kind=\"Storage\", location=workspace_location\n",
    ")\n",
    "\n",
    "storage_client.storage_accounts.begin_create(\n",
    "    resource_group_name=resource_group,\n",
    "    account_name=storage_account_name,\n",
    "    parameters=storage_account_parameters,\n",
    ")"
   ]
  },
  {
   "cell_type": "code",
   "execution_count": null,
   "metadata": {
    "name": "create-storage-4"
   },
   "outputs": [],
   "source": [
    "storage_account = next(\n",
    "    (\n",
    "        account\n",
    "        for account in storage_client.storage_accounts.list_by_resource_group(\n",
    "            resource_group\n",
    "        )\n",
    "        if account.name == storage_account_name\n",
    "    )\n",
    ")"
   ]
  },
  {
   "cell_type": "code",
   "execution_count": null,
   "metadata": {
    "name": "create-storage-5"
   },
   "outputs": [],
   "source": [
    "blob_container = storage_client.blob_containers.create(\n",
    "    resource_group_name=resource_group,\n",
    "    account_name=storage_account_name,\n",
    "    container_name=storage_container_name,\n",
    "    blob_container=BlobContainer(),\n",
    ")"
   ]
  },
  {
   "cell_type": "code",
   "execution_count": null,
   "metadata": {
    "name": "create-storage-6"
   },
   "outputs": [],
   "source": [
    "res = storage_client.storage_accounts.list_keys(\n",
    "    resource_group_name=resource_group,\n",
    "    account_name=storage_account_name,\n",
    ")\n",
    "key = res.keys[0].value"
   ]
  },
  {
   "cell_type": "code",
   "execution_count": null,
   "metadata": {
    "name": "create-storage-7"
   },
   "outputs": [],
   "source": [
    "container_client = ContainerClient(\n",
    "    account_url=storage_account.primary_endpoints.blob,\n",
    "    container_name=storage_container_name,\n",
    "    credential=key,\n",
    ")"
   ]
  },
  {
   "cell_type": "code",
   "execution_count": null,
   "metadata": {
    "name": "create-storage-8"
   },
   "outputs": [],
   "source": [
    "file_path = \"hello.txt\"\n",
    "with open(file_path, \"rb\") as f:\n",
    "    container_client.upload_blob(name=file_name, data=f.read())"
   ]
  },
  {
   "cell_type": "markdown",
   "metadata": {},
   "source": [
    "## 5. Create an online endpoint"
   ]
  },
  {
   "cell_type": "code",
   "execution_count": null,
   "metadata": {
    "name": "create-endpoint-1"
   },
   "outputs": [],
   "source": [
    "from azure.ai.ml import MLClient\n",
    "\n",
    "ml_client = MLClient(credential, subscription_id, resource_group, workspace_name)"
   ]
  },
  {
   "cell_type": "code",
   "execution_count": null,
   "metadata": {
    "name": "create-endpoint-2"
   },
   "outputs": [],
   "source": [
    "# Create the endpoint\n",
    "uai_endpoint = ml_client.online_endpoints.begin_create_or_update(uai_endpoint)"
   ]
  },
  {
   "cell_type": "code",
   "execution_count": null,
   "metadata": {
    "name": "create-endpoint-3"
   },
   "outputs": [],
   "source": [
    "# Update its identity\n",
    "uai_endpoint.identity = uai_endpoint.identity.from_dict(\n",
    "    {\"type\": \"UserAssigned\", \"user_assigned_identities\": {uai_identity.id: {}}}\n",
    ")\n",
    "\n",
    "uai_endpoint = ml_client.online_endpoints.begin_create_or_update(uai_endpoint)"
   ]
  },
  {
   "cell_type": "code",
   "execution_count": null,
   "metadata": {
    "name": "create-endpoint-4"
   },
   "outputs": [],
   "source": [
    "uai_endpoint = ml_client.online_endpoints.get(uai_endpoint_name)"
   ]
  },
  {
   "cell_type": "code",
   "execution_count": null,
   "metadata": {
    "name": "create-endpoint-5"
   },
   "outputs": [],
   "source": [
    "uai_endpoint.identity.as_dict()"
   ]
  },
  {
   "cell_type": "markdown",
   "metadata": {},
   "source": [
    "## 6. Give access permission to the managed identity"
   ]
  },
  {
   "cell_type": "code",
   "execution_count": null,
   "metadata": {
    "name": "give-access-permission-1"
   },
   "outputs": [],
   "source": [
    "from azure.mgmt.authorization import AuthorizationManagementClient\n",
    "from azure.mgmt.authorization.models import (\n",
    "    RoleAssignment,\n",
    "    RoleDefinition,\n",
    "    RoleAssignmentCreateParameters,\n",
    "    RoleAssignmentProperties,\n",
    "    RoleAssignmentPropertiesWithScope,\n",
    ")\n",
    "import uuid\n",
    "\n",
    "auth_client = AuthorizationManagementClient(\n",
    "    credential=credential, subscription_id=subscription_id\n",
    ")"
   ]
  },
  {
   "cell_type": "code",
   "execution_count": null,
   "metadata": {
    "name": "give-access-permission-2"
   },
   "outputs": [],
   "source": [
    "uai_identity = msi_client.user_assigned_identities.get(\n",
    "    resource_group_name=resource_group, resource_name=uai_name\n",
    ")\n",
    "uai_principal_id = uai_identity.principal_id\n",
    "uai_client_id = uai_identity.client_id"
   ]
  },
  {
   "cell_type": "code",
   "execution_count": null,
   "metadata": {
    "name": "give-access-permission-3"
   },
   "outputs": [],
   "source": [
    "workspace = ml_client.workspaces.get(workspace_name)\n",
    "storage_account = workspace.storage_account\n",
    "container_registry = workspace.container_registry"
   ]
  },
  {
   "cell_type": "code",
   "execution_count": null,
   "metadata": {
    "name": "give-access-permission-4"
   },
   "outputs": [],
   "source": [
    "role_name = \"AcrPull\"\n",
    "scope = container_registry\n",
    "\n",
    "role_defs = auth_client.role_definitions.list(scope=scope)\n",
    "role_def = next((r for r in role_defs if r.role_name == role_name))\n",
    "\n",
    "auth_client.role_assignments.create(\n",
    "    scope=scope,\n",
    "    role_assignment_name=uuid.uuid4(),\n",
    "    parameters=RoleAssignmentProperties(\n",
    "        role_definition_id=role_def.id, principal_id=uai_principal_id\n",
    "    ),\n",
    ")"
   ]
  },
  {
   "cell_type": "code",
   "execution_count": null,
   "metadata": {
    "name": "give-access-permission-5"
   },
   "outputs": [],
   "source": [
    "role_name = \"Storage Blob Data Reader\"\n",
    "scope = storage_account\n",
    "\n",
    "role_defs = auth_client.role_definitions.list(scope=scope)\n",
    "role_def = next((r for r in role_defs if r.role_name == role_name))\n",
    "\n",
    "auth_client.role_assignments.create(\n",
    "    scope=scope,\n",
    "    role_assignment_name=uuid.uuid4(),\n",
    "    parameters=RoleAssignmentProperties(\n",
    "        role_definition_id=role_def.id, principal_id=uai_principal_id\n",
    "    ),\n",
    ")"
   ]
  },
  {
   "cell_type": "markdown",
   "metadata": {},
   "source": [
    "## 7. Create a deployment with your configuration"
   ]
  },
  {
   "cell_type": "code",
   "execution_count": null,
   "metadata": {
    "name": "create-deployment-2"
   },
   "outputs": [],
   "source": [
    "uai_deployment.uai_client_id = uai_client_id\n",
    "\n",
    "uai_deployment = ml_client.online_deployments.begin_create_or_update(uai_deployment)"
   ]
  },
  {
   "cell_type": "markdown",
   "metadata": {},
   "source": [
    "## 8. Confirm your endpoint deployed successfully"
   ]
  },
  {
   "cell_type": "code",
   "execution_count": null,
   "metadata": {
    "name": "test-deployment-1"
   },
   "outputs": [],
   "source": [
    "sample_data = \"../../model-1/sample-request.json\"\n",
    "ml_client.online_endpoints.invoke(\n",
    "    endpoint_name=uai_endpoint_name, request_file=sample_data\n",
    ")"
   ]
  },
  {
   "cell_type": "markdown",
   "metadata": {},
   "source": [
    "## 9. Delete the endpoint and storage account"
   ]
  },
  {
   "cell_type": "code",
   "execution_count": null,
   "metadata": {
    "name": "delete-1"
   },
   "outputs": [],
   "source": [
    "ml_client.online_endpoints.begin_delete(uai_endpoint_name)"
   ]
  },
  {
   "cell_type": "code",
   "execution_count": null,
   "metadata": {
    "name": "delete-2"
   },
   "outputs": [],
   "source": [
    "storage_client.storage_accounts.delete(\n",
    "    resource_group_name=resource_group, account_name=storage_account_name\n",
    ")"
   ]
  }
 ],
 "metadata": {
  "kernelspec": {
   "display_name": "Python 3.10 - SDK V2",
   "language": "python",
   "name": "python310-sdkv2"
  },
  "language_info": {
   "codemirror_mode": {
    "name": "ipython",
    "version": 3
   },
   "file_extension": ".py",
   "mimetype": "text/x-python",
   "name": "python",
   "nbconvert_exporter": "python",
   "pygments_lexer": "ipython3",
   "version": "3.10.4"
  }
 },
 "nbformat": 4,
 "nbformat_minor": 2
}
