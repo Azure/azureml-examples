{
 "cells": [
  {
   "cell_type": "markdown",
   "metadata": {},
   "source": [
    "# Access Azure resources from an online endpoint with a user-assigned managed identity"
   ]
  },
  {
   "cell_type": "markdown",
   "metadata": {},
   "source": [
    "Additional packages are required for this example:\n",
    "\n",
    "* Microsoft Azure Msi Management Client \n",
    "* Microsoft Azure Storage Client\n",
    "* Microsoft Azure Authorization Management Client\n",
    "\n",
    "Install them with the following code:"
   ]
  },
  {
   "cell_type": "code",
   "execution_count": null,
   "metadata": {},
   "outputs": [],
   "source": [
    "%pip install --pre azure-mgmt-msi\n",
    "%pip install --pre azure-mgmt-storage\n",
    "%pip install --pre azure-mgmt-authorization"
   ]
  },
  {
   "cell_type": "markdown",
   "metadata": {},
   "source": [
    "## 1. Configure variables"
   ]
  },
  {
   "cell_type": "markdown",
   "metadata": {},
   "source": [
    "### 1.1 Assign variables for the workspace and deployment"
   ]
  },
  {
   "cell_type": "code",
   "execution_count": null,
   "metadata": {
    "name": "1-assign-variables"
   },
   "outputs": [],
   "source": [
    "subscription_id = \"<SUBSCRIPTION_ID>\"\n",
    "resource_group = \"<RESOURCE_GROUP>\"\n",
    "workspace_name = \"<AML_WORKSPACE_NAME>\"\n",
    "\n",
    "endpoint_name = \"<ENDPOINT_NAME>\""
   ]
  },
  {
   "cell_type": "code",
   "execution_count": 1,
   "metadata": {},
   "outputs": [],
   "source": [
    "# TODO: Remove\n",
    "subscription_id = \"6fe1c377-b645-4e8e-b588-52e57cc856b2\"\n",
    "resource_group = \"role-creation-sample\"\n",
    "workspace_name = \"test-workspace\"\n",
    "\n",
    "endpoint_name = \"roletest7\""
   ]
  },
  {
   "cell_type": "markdown",
   "metadata": {},
   "source": [
    "### 1.2 Specify the storage details and file to access\n",
    "A text file is located in the `managed-identities` folder called `hello.txt`. "
   ]
  },
  {
   "cell_type": "code",
   "execution_count": null,
   "metadata": {
    "name": "1-specify-storage-details"
   },
   "outputs": [],
   "source": [
    "storage_account_name = \"<STORAGE_ACCOUNT_NAME>\"\n",
    "storage_container_name = \"<CONTAINER_TO_ACCESS>\"\n",
    "file_name = \"<FILE_TO_ACCESS>\""
   ]
  },
  {
   "cell_type": "code",
   "execution_count": 2,
   "metadata": {},
   "outputs": [],
   "source": [
    "# TODO: Remove\n",
    "\n",
    "storage_account_name = \"rolestestuai3\"\n",
    "storage_container_name = \"blob4\"\n",
    "file_name = \"hello.txt\""
   ]
  },
  {
   "cell_type": "markdown",
   "metadata": {},
   "source": [
    "### 1.3 Decide on the name of your user identity:"
   ]
  },
  {
   "cell_type": "code",
   "execution_count": null,
   "metadata": {
    "name": "1-decide-name-user-identity"
   },
   "outputs": [],
   "source": [
    "uai_name = \"<USER_ASSIGNED_IDENTITY_NAME>\""
   ]
  },
  {
   "cell_type": "code",
   "execution_count": 3,
   "metadata": {},
   "outputs": [],
   "source": [
    "uai_name = \"testidentity5\""
   ]
  },
  {
   "cell_type": "markdown",
   "metadata": {},
   "source": [
    "### 1.4 Retrieve the workspace location:"
   ]
  },
  {
   "cell_type": "code",
   "execution_count": 4,
   "metadata": {
    "name": "1-retrieve-workspace-location"
   },
   "outputs": [],
   "source": [
    "from azure.ai.ml import MLClient\n",
    "from azure.identity import DefaultAzureCredential, AzureCliCredential\n",
    "from azure.ai.ml.entities import (\n",
    "    ManagedOnlineDeployment,\n",
    "    ManagedOnlineEndpoint,\n",
    "    Model,\n",
    "    CodeConfiguration,\n",
    "    Environment,\n",
    "    IdentityConfiguration,\n",
    "    UserAssignedIdentity\n",
    ")\n",
    "\n",
    "credential = AzureCliCredential()\n",
    "ml_client = MLClient(credential, subscription_id, resource_group, workspace_name)\n",
    "\n",
    "workspace_location = ml_client.workspaces.get(workspace_name).location"
   ]
  },
  {
   "cell_type": "markdown",
   "metadata": {},
   "source": [
    "## 2. Configure deployment"
   ]
  },
  {
   "cell_type": "markdown",
   "metadata": {},
   "source": [
    "### 2.1 Define an endpoint configuration"
   ]
  },
  {
   "cell_type": "markdown",
   "metadata": {},
   "source": [
    "### 2.2 Define a deployment configuration"
   ]
  },
  {
   "cell_type": "code",
   "execution_count": 5,
   "metadata": {
    "name": "2-define-deployment-configuration"
   },
   "outputs": [],
   "source": [
    "deployment = ManagedOnlineDeployment(\n",
    "    name=\"blue\",\n",
    "    endpoint_name=endpoint_name,\n",
    "    model=Model(path=\"../../model-1/model/\"),\n",
    "    code_configuration=CodeConfiguration(\n",
    "        code=\"../../model-1/onlinescoring/\", scoring_script=\"score_managedidentity.py\"\n",
    "    ),\n",
    "    environment=Environment(\n",
    "        conda_file=\"../../model-1/environment/conda.yml\",\n",
    "        image=\"mcr.microsoft.com/azureml/openmpi3.1.2-ubuntu18.04:20210727.v1\",\n",
    "    ),\n",
    "    instance_type=\"Standard_DS2_v2\",\n",
    "    instance_count=1,\n",
    "    environment_variables={\n",
    "        \"STORAGE_ACCOUNT_NAME\": storage_account_name,\n",
    "        \"STORAGE_CONTAINER_NAME\": storage_container_name,\n",
    "        \"FILE_NAME\": file_name,\n",
    "        # We will update this after creating an identity\n",
    "        \"UAI_CLIENT_ID\": \"uai_client_id_place_holder\",\n",
    "    },\n",
    ")"
   ]
  },
  {
   "cell_type": "markdown",
   "metadata": {},
   "source": [
    "## 3. Create the managed identity"
   ]
  },
  {
   "cell_type": "markdown",
   "metadata": {},
   "source": [
    "### 3.1 Get a handle to the `ManagedServiceIdentityClient`"
   ]
  },
  {
   "cell_type": "code",
   "execution_count": 6,
   "metadata": {
    "name": "3-get-handle"
   },
   "outputs": [],
   "source": [
    "from azure.identity import DefaultAzureCredential\n",
    "from azure.mgmt.msi import ManagedServiceIdentityClient\n",
    "from azure.mgmt.msi.models import Identity\n",
    "\n",
    "credential = AzureCliCredential()\n",
    "msi_client = ManagedServiceIdentityClient(\n",
    "    subscription_id=subscription_id,\n",
    "    credential=credential,\n",
    ")"
   ]
  },
  {
   "cell_type": "markdown",
   "metadata": {},
   "source": [
    "### 3.2 Create the identity"
   ]
  },
  {
   "cell_type": "code",
   "execution_count": 7,
   "metadata": {
    "name": "3-create-identity"
   },
   "outputs": [
    {
     "data": {
      "text/plain": [
       "<azure.mgmt.msi.v2018_11_30.models._models_py3.Identity at 0x7fed99aef5e0>"
      ]
     },
     "execution_count": 7,
     "metadata": {},
     "output_type": "execute_result"
    }
   ],
   "source": [
    "msi_client.user_assigned_identities.create_or_update(\n",
    "    resource_group_name=resource_group,\n",
    "    resource_name=uai_name,\n",
    "    parameters=Identity(location=workspace_location),\n",
    ")"
   ]
  },
  {
   "cell_type": "markdown",
   "metadata": {},
   "source": [
    "### 3.3 Retrieve the identity object"
   ]
  },
  {
   "cell_type": "code",
   "execution_count": 8,
   "metadata": {
    "name": "3-retrieve-identity-object"
   },
   "outputs": [
    {
     "data": {
      "text/plain": [
       "{'id': '/subscriptions/6fe1c377-b645-4e8e-b588-52e57cc856b2/resourcegroups/role-creation-sample/providers/Microsoft.ManagedIdentity/userAssignedIdentities/testidentity5',\n",
       " 'name': 'testidentity5',\n",
       " 'type': 'Microsoft.ManagedIdentity/userAssignedIdentities',\n",
       " 'tags': {},\n",
       " 'location': 'eastus2',\n",
       " 'tenant_id': '72f988bf-86f1-41af-91ab-2d7cd011db47',\n",
       " 'principal_id': 'a52aa6e7-b53a-4e34-96d4-3cce696c585c',\n",
       " 'client_id': '7c5ed570-2b60-49ff-8253-abe2877bf4ec'}"
      ]
     },
     "execution_count": 8,
     "metadata": {},
     "output_type": "execute_result"
    }
   ],
   "source": [
    "uai_identity = msi_client.user_assigned_identities.get(\n",
    "    resource_group_name=resource_group,\n",
    "    resource_name=uai_name,\n",
    ")\n",
    "uai_identity.as_dict()"
   ]
  },
  {
   "cell_type": "markdown",
   "metadata": {},
   "source": [
    "## 4. Create storage account and container"
   ]
  },
  {
   "cell_type": "markdown",
   "metadata": {},
   "source": [
    "### 4.1 Get a handle to the `StorageManagementclient`"
   ]
  },
  {
   "cell_type": "code",
   "execution_count": 9,
   "metadata": {
    "name": "4-get-handle"
   },
   "outputs": [],
   "source": [
    "from azure.identity import DefaultAzureCredential, AzureCliCredential\n",
    "from azure.mgmt.storage import StorageManagementClient\n",
    "from azure.storage.blob import ContainerClient\n",
    "from azure.mgmt.storage.models import Sku, StorageAccountCreateParameters, BlobContainer\n",
    "\n",
    "credential = AzureCliCredential()\n",
    "storage_client = StorageManagementClient(\n",
    "    credential=credential, subscription_id=subscription_id\n",
    ")"
   ]
  },
  {
   "cell_type": "markdown",
   "metadata": {},
   "source": [
    "### 4.2 Define and create the storage account"
   ]
  },
  {
   "cell_type": "code",
   "execution_count": 10,
   "metadata": {
    "name": "4-create-storage-account"
   },
   "outputs": [],
   "source": [
    "storage_account_parameters = StorageAccountCreateParameters(\n",
    "    sku=Sku(name=\"Standard_LRS\"), kind=\"Storage\", location=workspace_location\n",
    ")\n",
    "\n",
    "poller = storage_client.storage_accounts.begin_create(\n",
    "    resource_group_name=resource_group,\n",
    "    account_name=storage_account_name,\n",
    "    parameters=storage_account_parameters,\n",
    ")\n",
    "\n",
    "poller.wait()\n",
    "\n",
    "storage_account = poller.result()"
   ]
  },
  {
   "cell_type": "markdown",
   "metadata": {},
   "source": [
    "### 4.3 Create a blob container"
   ]
  },
  {
   "cell_type": "code",
   "execution_count": 11,
   "metadata": {
    "name": "4-create-blob-container"
   },
   "outputs": [],
   "source": [
    "blob_container = storage_client.blob_containers.create(\n",
    "    resource_group_name=resource_group,\n",
    "    account_name=storage_account_name,\n",
    "    container_name=storage_container_name,\n",
    "    blob_container=BlobContainer(),\n",
    ")"
   ]
  },
  {
   "cell_type": "markdown",
   "metadata": {},
   "source": [
    "### 4.4 Get the storage account key and create a `ContainerClient`"
   ]
  },
  {
   "cell_type": "code",
   "execution_count": 12,
   "metadata": {
    "name": "4-create-container-client"
   },
   "outputs": [],
   "source": [
    "res = storage_client.storage_accounts.list_keys(\n",
    "    resource_group_name=resource_group,\n",
    "    account_name=storage_account_name,\n",
    ")\n",
    "key = res.keys[0].value\n",
    "\n",
    "container_client = ContainerClient(\n",
    "    account_url=storage_account.primary_endpoints.blob,\n",
    "    container_name=storage_container_name,\n",
    "    credential=key,\n",
    ")"
   ]
  },
  {
   "cell_type": "markdown",
   "metadata": {},
   "source": [
    "### 4.5 Upload a blob to the container"
   ]
  },
  {
   "cell_type": "code",
   "execution_count": 13,
   "metadata": {
    "name": "4-upload-blob"
   },
   "outputs": [
    {
     "ename": "ResourceExistsError",
     "evalue": "The specified blob already exists.\nRequestId:77f2f081-c01e-00dd-59f8-c91d72000000\nTime:2022-09-16T18:19:49.6922690Z\nErrorCode:BlobAlreadyExists\nContent: <?xml version=\"1.0\" encoding=\"utf-8\"?><Error><Code>BlobAlreadyExists</Code><Message>The specified blob already exists.\nRequestId:77f2f081-c01e-00dd-59f8-c91d72000000\nTime:2022-09-16T18:19:49.6922690Z</Message></Error>",
     "output_type": "error",
     "traceback": [
      "\u001b[0;31m---------------------------------------------------------------------------\u001b[0m",
      "\u001b[0;31mResourceExistsError\u001b[0m                       Traceback (most recent call last)",
      "Cell \u001b[0;32mIn [13], line 3\u001b[0m\n\u001b[1;32m      1\u001b[0m file_path \u001b[38;5;241m=\u001b[39m \u001b[38;5;124m\"\u001b[39m\u001b[38;5;124mhello.txt\u001b[39m\u001b[38;5;124m\"\u001b[39m\n\u001b[1;32m      2\u001b[0m \u001b[38;5;28;01mwith\u001b[39;00m \u001b[38;5;28mopen\u001b[39m(file_path, \u001b[38;5;124m\"\u001b[39m\u001b[38;5;124mrb\u001b[39m\u001b[38;5;124m\"\u001b[39m) \u001b[38;5;28;01mas\u001b[39;00m f:\n\u001b[0;32m----> 3\u001b[0m     \u001b[43mcontainer_client\u001b[49m\u001b[38;5;241;43m.\u001b[39;49m\u001b[43mupload_blob\u001b[49m\u001b[43m(\u001b[49m\u001b[43mname\u001b[49m\u001b[38;5;241;43m=\u001b[39;49m\u001b[43mfile_name\u001b[49m\u001b[43m,\u001b[49m\u001b[43m \u001b[49m\u001b[43mdata\u001b[49m\u001b[38;5;241;43m=\u001b[39;49m\u001b[43mf\u001b[49m\u001b[38;5;241;43m.\u001b[39;49m\u001b[43mread\u001b[49m\u001b[43m(\u001b[49m\u001b[43m)\u001b[49m\u001b[43m)\u001b[49m\n",
      "File \u001b[0;32m/anaconda/envs/roles/lib/python3.8/site-packages/azure/core/tracing/decorator.py:78\u001b[0m, in \u001b[0;36mdistributed_trace.<locals>.decorator.<locals>.wrapper_use_tracer\u001b[0;34m(*args, **kwargs)\u001b[0m\n\u001b[1;32m     76\u001b[0m span_impl_type \u001b[39m=\u001b[39m settings\u001b[39m.\u001b[39mtracing_implementation()\n\u001b[1;32m     77\u001b[0m \u001b[39mif\u001b[39;00m span_impl_type \u001b[39mis\u001b[39;00m \u001b[39mNone\u001b[39;00m:\n\u001b[0;32m---> 78\u001b[0m     \u001b[39mreturn\u001b[39;00m func(\u001b[39m*\u001b[39;49margs, \u001b[39m*\u001b[39;49m\u001b[39m*\u001b[39;49mkwargs)\n\u001b[1;32m     80\u001b[0m \u001b[39m# Merge span is parameter is set, but only if no explicit parent are passed\u001b[39;00m\n\u001b[1;32m     81\u001b[0m \u001b[39mif\u001b[39;00m merge_span \u001b[39mand\u001b[39;00m \u001b[39mnot\u001b[39;00m passed_in_parent:\n",
      "File \u001b[0;32m/anaconda/envs/roles/lib/python3.8/site-packages/azure/storage/blob/_container_client.py:984\u001b[0m, in \u001b[0;36mContainerClient.upload_blob\u001b[0;34m(self, name, data, blob_type, length, metadata, **kwargs)\u001b[0m\n\u001b[1;32m    982\u001b[0m timeout \u001b[39m=\u001b[39m kwargs\u001b[39m.\u001b[39mpop(\u001b[39m'\u001b[39m\u001b[39mtimeout\u001b[39m\u001b[39m'\u001b[39m, \u001b[39mNone\u001b[39;00m)\n\u001b[1;32m    983\u001b[0m encoding \u001b[39m=\u001b[39m kwargs\u001b[39m.\u001b[39mpop(\u001b[39m'\u001b[39m\u001b[39mencoding\u001b[39m\u001b[39m'\u001b[39m, \u001b[39m'\u001b[39m\u001b[39mUTF-8\u001b[39m\u001b[39m'\u001b[39m)\n\u001b[0;32m--> 984\u001b[0m blob\u001b[39m.\u001b[39;49mupload_blob(\n\u001b[1;32m    985\u001b[0m     data,\n\u001b[1;32m    986\u001b[0m     blob_type\u001b[39m=\u001b[39;49mblob_type,\n\u001b[1;32m    987\u001b[0m     length\u001b[39m=\u001b[39;49mlength,\n\u001b[1;32m    988\u001b[0m     metadata\u001b[39m=\u001b[39;49mmetadata,\n\u001b[1;32m    989\u001b[0m     timeout\u001b[39m=\u001b[39;49mtimeout,\n\u001b[1;32m    990\u001b[0m     encoding\u001b[39m=\u001b[39;49mencoding,\n\u001b[1;32m    991\u001b[0m     \u001b[39m*\u001b[39;49m\u001b[39m*\u001b[39;49mkwargs\n\u001b[1;32m    992\u001b[0m )\n\u001b[1;32m    993\u001b[0m \u001b[39mreturn\u001b[39;00m blob\n",
      "File \u001b[0;32m/anaconda/envs/roles/lib/python3.8/site-packages/azure/core/tracing/decorator.py:78\u001b[0m, in \u001b[0;36mdistributed_trace.<locals>.decorator.<locals>.wrapper_use_tracer\u001b[0;34m(*args, **kwargs)\u001b[0m\n\u001b[1;32m     76\u001b[0m span_impl_type \u001b[39m=\u001b[39m settings\u001b[39m.\u001b[39mtracing_implementation()\n\u001b[1;32m     77\u001b[0m \u001b[39mif\u001b[39;00m span_impl_type \u001b[39mis\u001b[39;00m \u001b[39mNone\u001b[39;00m:\n\u001b[0;32m---> 78\u001b[0m     \u001b[39mreturn\u001b[39;00m func(\u001b[39m*\u001b[39;49margs, \u001b[39m*\u001b[39;49m\u001b[39m*\u001b[39;49mkwargs)\n\u001b[1;32m     80\u001b[0m \u001b[39m# Merge span is parameter is set, but only if no explicit parent are passed\u001b[39;00m\n\u001b[1;32m     81\u001b[0m \u001b[39mif\u001b[39;00m merge_span \u001b[39mand\u001b[39;00m \u001b[39mnot\u001b[39;00m passed_in_parent:\n",
      "File \u001b[0;32m/anaconda/envs/roles/lib/python3.8/site-packages/azure/storage/blob/_blob_client.py:728\u001b[0m, in \u001b[0;36mBlobClient.upload_blob\u001b[0;34m(self, data, blob_type, length, metadata, **kwargs)\u001b[0m\n\u001b[1;32m    721\u001b[0m options \u001b[39m=\u001b[39m \u001b[39mself\u001b[39m\u001b[39m.\u001b[39m_upload_blob_options(\n\u001b[1;32m    722\u001b[0m     data,\n\u001b[1;32m    723\u001b[0m     blob_type\u001b[39m=\u001b[39mblob_type,\n\u001b[1;32m    724\u001b[0m     length\u001b[39m=\u001b[39mlength,\n\u001b[1;32m    725\u001b[0m     metadata\u001b[39m=\u001b[39mmetadata,\n\u001b[1;32m    726\u001b[0m     \u001b[39m*\u001b[39m\u001b[39m*\u001b[39mkwargs)\n\u001b[1;32m    727\u001b[0m \u001b[39mif\u001b[39;00m blob_type \u001b[39m==\u001b[39m BlobType\u001b[39m.\u001b[39mBlockBlob:\n\u001b[0;32m--> 728\u001b[0m     \u001b[39mreturn\u001b[39;00m upload_block_blob(\u001b[39m*\u001b[39;49m\u001b[39m*\u001b[39;49moptions)\n\u001b[1;32m    729\u001b[0m \u001b[39mif\u001b[39;00m blob_type \u001b[39m==\u001b[39m BlobType\u001b[39m.\u001b[39mPageBlob:\n\u001b[1;32m    730\u001b[0m     \u001b[39mreturn\u001b[39;00m upload_page_blob(\u001b[39m*\u001b[39m\u001b[39m*\u001b[39moptions)\n",
      "File \u001b[0;32m/anaconda/envs/roles/lib/python3.8/site-packages/azure/storage/blob/_upload_helpers.py:177\u001b[0m, in \u001b[0;36mupload_block_blob\u001b[0;34m(client, data, stream, length, overwrite, headers, validate_content, max_concurrency, blob_settings, encryption_options, **kwargs)\u001b[0m\n\u001b[1;32m    175\u001b[0m \u001b[39mexcept\u001b[39;00m HttpResponseError \u001b[39mas\u001b[39;00m error:\n\u001b[1;32m    176\u001b[0m     \u001b[39mtry\u001b[39;00m:\n\u001b[0;32m--> 177\u001b[0m         process_storage_error(error)\n\u001b[1;32m    178\u001b[0m     \u001b[39mexcept\u001b[39;00m ResourceModifiedError \u001b[39mas\u001b[39;00m mod_error:\n\u001b[1;32m    179\u001b[0m         \u001b[39mif\u001b[39;00m \u001b[39mnot\u001b[39;00m overwrite:\n",
      "File \u001b[0;32m/anaconda/envs/roles/lib/python3.8/site-packages/azure/storage/blob/_shared/response_handlers.py:181\u001b[0m, in \u001b[0;36mprocess_storage_error\u001b[0;34m(storage_error)\u001b[0m\n\u001b[1;32m    178\u001b[0m error\u001b[39m.\u001b[39margs \u001b[39m=\u001b[39m (error\u001b[39m.\u001b[39mmessage,)\n\u001b[1;32m    179\u001b[0m \u001b[39mtry\u001b[39;00m:\n\u001b[1;32m    180\u001b[0m     \u001b[39m# `from None` prevents us from double printing the exception (suppresses generated layer error context)\u001b[39;00m\n\u001b[0;32m--> 181\u001b[0m     exec(\u001b[39m\"\u001b[39;49m\u001b[39mraise error from None\u001b[39;49m\u001b[39m\"\u001b[39;49m)   \u001b[39m# pylint: disable=exec-used # nosec\u001b[39;00m\n\u001b[1;32m    182\u001b[0m \u001b[39mexcept\u001b[39;00m \u001b[39mSyntaxError\u001b[39;00m:\n\u001b[1;32m    183\u001b[0m     \u001b[39mraise\u001b[39;00m error\n",
      "File \u001b[0;32m<string>:1\u001b[0m\n",
      "File \u001b[0;32m/anaconda/envs/roles/lib/python3.8/site-packages/azure/storage/blob/_upload_helpers.py:101\u001b[0m, in \u001b[0;36mupload_block_blob\u001b[0;34m(client, data, stream, length, overwrite, headers, validate_content, max_concurrency, blob_settings, encryption_options, **kwargs)\u001b[0m\n\u001b[1;32m     98\u001b[0m     encryption_data, data \u001b[39m=\u001b[39m encrypt_blob(data, encryption_options[\u001b[39m'\u001b[39m\u001b[39mkey\u001b[39m\u001b[39m'\u001b[39m])\n\u001b[1;32m     99\u001b[0m     headers[\u001b[39m'\u001b[39m\u001b[39mx-ms-meta-encryptiondata\u001b[39m\u001b[39m'\u001b[39m] \u001b[39m=\u001b[39m encryption_data\n\u001b[0;32m--> 101\u001b[0m response \u001b[39m=\u001b[39m client\u001b[39m.\u001b[39;49mupload(\n\u001b[1;32m    102\u001b[0m     body\u001b[39m=\u001b[39;49mdata,\n\u001b[1;32m    103\u001b[0m     content_length\u001b[39m=\u001b[39;49madjusted_count,\n\u001b[1;32m    104\u001b[0m     blob_http_headers\u001b[39m=\u001b[39;49mblob_headers,\n\u001b[1;32m    105\u001b[0m     headers\u001b[39m=\u001b[39;49mheaders,\n\u001b[1;32m    106\u001b[0m     \u001b[39mcls\u001b[39;49m\u001b[39m=\u001b[39;49mreturn_response_headers,\n\u001b[1;32m    107\u001b[0m     validate_content\u001b[39m=\u001b[39;49mvalidate_content,\n\u001b[1;32m    108\u001b[0m     data_stream_total\u001b[39m=\u001b[39;49madjusted_count,\n\u001b[1;32m    109\u001b[0m     upload_stream_current\u001b[39m=\u001b[39;49m\u001b[39m0\u001b[39;49m,\n\u001b[1;32m    110\u001b[0m     tier\u001b[39m=\u001b[39;49mtier\u001b[39m.\u001b[39;49mvalue \u001b[39mif\u001b[39;49;00m tier \u001b[39melse\u001b[39;49;00m \u001b[39mNone\u001b[39;49;00m,\n\u001b[1;32m    111\u001b[0m     blob_tags_string\u001b[39m=\u001b[39;49mblob_tags_string,\n\u001b[1;32m    112\u001b[0m     immutability_policy_expiry\u001b[39m=\u001b[39;49mimmutability_policy_expiry,\n\u001b[1;32m    113\u001b[0m     immutability_policy_mode\u001b[39m=\u001b[39;49mimmutability_policy_mode,\n\u001b[1;32m    114\u001b[0m     legal_hold\u001b[39m=\u001b[39;49mlegal_hold,\n\u001b[1;32m    115\u001b[0m     \u001b[39m*\u001b[39;49m\u001b[39m*\u001b[39;49mkwargs)\n\u001b[1;32m    117\u001b[0m \u001b[39mif\u001b[39;00m progress_hook:\n\u001b[1;32m    118\u001b[0m     progress_hook(adjusted_count, adjusted_count)\n",
      "File \u001b[0;32m/anaconda/envs/roles/lib/python3.8/site-packages/azure/core/tracing/decorator.py:78\u001b[0m, in \u001b[0;36mdistributed_trace.<locals>.decorator.<locals>.wrapper_use_tracer\u001b[0;34m(*args, **kwargs)\u001b[0m\n\u001b[1;32m     76\u001b[0m span_impl_type \u001b[39m=\u001b[39m settings\u001b[39m.\u001b[39mtracing_implementation()\n\u001b[1;32m     77\u001b[0m \u001b[39mif\u001b[39;00m span_impl_type \u001b[39mis\u001b[39;00m \u001b[39mNone\u001b[39;00m:\n\u001b[0;32m---> 78\u001b[0m     \u001b[39mreturn\u001b[39;00m func(\u001b[39m*\u001b[39;49margs, \u001b[39m*\u001b[39;49m\u001b[39m*\u001b[39;49mkwargs)\n\u001b[1;32m     80\u001b[0m \u001b[39m# Merge span is parameter is set, but only if no explicit parent are passed\u001b[39;00m\n\u001b[1;32m     81\u001b[0m \u001b[39mif\u001b[39;00m merge_span \u001b[39mand\u001b[39;00m \u001b[39mnot\u001b[39;00m passed_in_parent:\n",
      "File \u001b[0;32m/anaconda/envs/roles/lib/python3.8/site-packages/azure/storage/blob/_generated/operations/_block_blob_operations.py:801\u001b[0m, in \u001b[0;36mBlockBlobOperations.upload\u001b[0;34m(self, content_length, body, timeout, transactional_content_md5, metadata, tier, request_id_parameter, blob_tags_string, immutability_policy_expiry, immutability_policy_mode, legal_hold, blob_http_headers, lease_access_conditions, cpk_info, cpk_scope_info, modified_access_conditions, **kwargs)\u001b[0m\n\u001b[1;32m    798\u001b[0m response \u001b[39m=\u001b[39m pipeline_response\u001b[39m.\u001b[39mhttp_response\n\u001b[1;32m    800\u001b[0m \u001b[39mif\u001b[39;00m response\u001b[39m.\u001b[39mstatus_code \u001b[39mnot\u001b[39;00m \u001b[39min\u001b[39;00m [\u001b[39m201\u001b[39m]:\n\u001b[0;32m--> 801\u001b[0m     map_error(status_code\u001b[39m=\u001b[39;49mresponse\u001b[39m.\u001b[39;49mstatus_code, response\u001b[39m=\u001b[39;49mresponse, error_map\u001b[39m=\u001b[39;49merror_map)\n\u001b[1;32m    802\u001b[0m     error \u001b[39m=\u001b[39m \u001b[39mself\u001b[39m\u001b[39m.\u001b[39m_deserialize\u001b[39m.\u001b[39mfailsafe_deserialize(_models\u001b[39m.\u001b[39mStorageError, pipeline_response)\n\u001b[1;32m    803\u001b[0m     \u001b[39mraise\u001b[39;00m HttpResponseError(response\u001b[39m=\u001b[39mresponse, model\u001b[39m=\u001b[39merror)\n",
      "File \u001b[0;32m/anaconda/envs/roles/lib/python3.8/site-packages/azure/core/exceptions.py:107\u001b[0m, in \u001b[0;36mmap_error\u001b[0;34m(status_code, response, error_map)\u001b[0m\n\u001b[1;32m    105\u001b[0m     \u001b[39mreturn\u001b[39;00m\n\u001b[1;32m    106\u001b[0m error \u001b[39m=\u001b[39m error_type(response\u001b[39m=\u001b[39mresponse)\n\u001b[0;32m--> 107\u001b[0m \u001b[39mraise\u001b[39;00m error\n",
      "\u001b[0;31mResourceExistsError\u001b[0m: The specified blob already exists.\nRequestId:77f2f081-c01e-00dd-59f8-c91d72000000\nTime:2022-09-16T18:19:49.6922690Z\nErrorCode:BlobAlreadyExists\nContent: <?xml version=\"1.0\" encoding=\"utf-8\"?><Error><Code>BlobAlreadyExists</Code><Message>The specified blob already exists.\nRequestId:77f2f081-c01e-00dd-59f8-c91d72000000\nTime:2022-09-16T18:19:49.6922690Z</Message></Error>"
     ]
    }
   ],
   "source": [
    "file_path = \"hello.txt\"\n",
    "with open(file_path, \"rb\") as f:\n",
    "    container_client.upload_blob(name=file_name, data=f.read())"
   ]
  },
  {
   "cell_type": "markdown",
   "metadata": {},
   "source": [
    "## 5. Create an online endpoint"
   ]
  },
  {
   "cell_type": "markdown",
   "metadata": {},
   "source": [
    "### 5.1 Create the endpoint"
   ]
  },
  {
   "cell_type": "code",
   "execution_count": 24,
   "metadata": {
    "name": "5-create-online-endpoint"
   },
   "outputs": [
    {
     "ename": "TypeError",
     "evalue": "'UserAssignedIdentity' object is not subscriptable",
     "output_type": "error",
     "traceback": [
      "\u001b[0;31m---------------------------------------------------------------------------\u001b[0m",
      "\u001b[0;31mTypeError\u001b[0m                                 Traceback (most recent call last)",
      "Cell \u001b[0;32mIn [24], line 16\u001b[0m\n\u001b[1;32m      1\u001b[0m endpoint \u001b[38;5;241m=\u001b[39m ManagedOnlineEndpoint(name\u001b[38;5;241m=\u001b[39mendpoint_name, auth_mode\u001b[38;5;241m=\u001b[39m\u001b[38;5;124m\"\u001b[39m\u001b[38;5;124mkey\u001b[39m\u001b[38;5;124m\"\u001b[39m, identity\u001b[38;5;241m=\u001b[39mIdentityConfiguration(\n\u001b[1;32m      2\u001b[0m     \u001b[38;5;28mtype\u001b[39m\u001b[38;5;241m=\u001b[39m\u001b[38;5;124m\"\u001b[39m\u001b[38;5;124mUserAssigned\u001b[39m\u001b[38;5;124m\"\u001b[39m, \n\u001b[1;32m      3\u001b[0m     user_assigned_identities\u001b[38;5;241m=\u001b[39m\n\u001b[0;32m   (...)\u001b[0m\n\u001b[1;32m      6\u001b[0m     ])\n\u001b[1;32m      7\u001b[0m )\n\u001b[1;32m     10\u001b[0m \u001b[38;5;66;03m#UserAssignedIdentity(\u001b[39;00m\n\u001b[1;32m     11\u001b[0m            \u001b[38;5;66;03m# resource_id=uai_identity.id)\u001b[39;00m\n\u001b[1;32m     12\u001b[0m \u001b[38;5;66;03m#endpoint.identity = endpoint.identity.from_dict(\u001b[39;00m\n\u001b[1;32m     13\u001b[0m     \u001b[38;5;66;03m#{\"type\": \"UserAssigned\", \"user_assigned_identities\": {uai_identity.id: {}}},\u001b[39;00m\n\u001b[1;32m     14\u001b[0m \u001b[38;5;66;03m#)\u001b[39;00m\n\u001b[0;32m---> 16\u001b[0m \u001b[43mml_client\u001b[49m\u001b[38;5;241;43m.\u001b[39;49m\u001b[43monline_endpoints\u001b[49m\u001b[38;5;241;43m.\u001b[39;49m\u001b[43mbegin_create_or_update\u001b[49m\u001b[43m(\u001b[49m\u001b[43mendpoint\u001b[49m\u001b[43m)\u001b[49m\n",
      "File \u001b[0;32m/anaconda/envs/roles/lib/python3.8/site-packages/azure/ai/ml/_telemetry/activity.py:258\u001b[0m, in \u001b[0;36mmonitor_with_activity.<locals>.monitor.<locals>.wrapper\u001b[0;34m(*args, **kwargs)\u001b[0m\n\u001b[1;32m    255\u001b[0m \u001b[39m@functools\u001b[39m\u001b[39m.\u001b[39mwraps(f)\n\u001b[1;32m    256\u001b[0m \u001b[39mdef\u001b[39;00m \u001b[39mwrapper\u001b[39m(\u001b[39m*\u001b[39margs, \u001b[39m*\u001b[39m\u001b[39m*\u001b[39mkwargs):\n\u001b[1;32m    257\u001b[0m     \u001b[39mwith\u001b[39;00m log_activity(logger, activity_name \u001b[39mor\u001b[39;00m f\u001b[39m.\u001b[39m\u001b[39m__name__\u001b[39m, activity_type, custom_dimensions):\n\u001b[0;32m--> 258\u001b[0m         \u001b[39mreturn\u001b[39;00m f(\u001b[39m*\u001b[39;49margs, \u001b[39m*\u001b[39;49m\u001b[39m*\u001b[39;49mkwargs)\n",
      "File \u001b[0;32m/anaconda/envs/roles/lib/python3.8/site-packages/azure/ai/ml/operations/_online_endpoint_operations.py:237\u001b[0m, in \u001b[0;36mOnlineEndpointOperations.begin_create_or_update\u001b[0;34m(self, endpoint, local, **kwargs)\u001b[0m\n\u001b[1;32m    234\u001b[0m         \u001b[39mreturn\u001b[39;00m OnlineEndpoint\u001b[39m.\u001b[39m_from_rest_object(poller\u001b[39m.\u001b[39mresult())\n\u001b[1;32m    236\u001b[0m \u001b[39mexcept\u001b[39;00m \u001b[39mException\u001b[39;00m \u001b[39mas\u001b[39;00m ex:\n\u001b[0;32m--> 237\u001b[0m     \u001b[39mraise\u001b[39;00m ex\n",
      "File \u001b[0;32m/anaconda/envs/roles/lib/python3.8/site-packages/azure/ai/ml/operations/_online_endpoint_operations.py:210\u001b[0m, in \u001b[0;36mOnlineEndpointOperations.begin_create_or_update\u001b[0;34m(self, endpoint, local, **kwargs)\u001b[0m\n\u001b[1;32m    207\u001b[0m \u001b[39mif\u001b[39;00m endpoint\u001b[39m.\u001b[39mmirror_traffic:\n\u001b[1;32m    208\u001b[0m     endpoint\u001b[39m.\u001b[39mmirror_traffic \u001b[39m=\u001b[39m _strip_zeroes_from_traffic(endpoint\u001b[39m.\u001b[39mmirror_traffic)\n\u001b[0;32m--> 210\u001b[0m endpoint_resource \u001b[39m=\u001b[39m endpoint\u001b[39m.\u001b[39;49m_to_rest_online_endpoint(location\u001b[39m=\u001b[39;49mlocation)\n\u001b[1;32m    211\u001b[0m orchestrators \u001b[39m=\u001b[39m OperationOrchestrator(\n\u001b[1;32m    212\u001b[0m     operation_container\u001b[39m=\u001b[39m\u001b[39mself\u001b[39m\u001b[39m.\u001b[39m_all_operations,\n\u001b[1;32m    213\u001b[0m     operation_scope\u001b[39m=\u001b[39m\u001b[39mself\u001b[39m\u001b[39m.\u001b[39m_operation_scope,\n\u001b[1;32m    214\u001b[0m )\n\u001b[1;32m    215\u001b[0m \u001b[39mif\u001b[39;00m \u001b[39mhasattr\u001b[39m(endpoint_resource\u001b[39m.\u001b[39mproperties, \u001b[39m\"\u001b[39m\u001b[39mcompute\u001b[39m\u001b[39m\"\u001b[39m):\n",
      "File \u001b[0;32m/anaconda/envs/roles/lib/python3.8/site-packages/azure/ai/ml/entities/_endpoint/online_endpoint.py:109\u001b[0m, in \u001b[0;36mOnlineEndpoint._to_rest_online_endpoint\u001b[0;34m(self, location)\u001b[0m\n\u001b[1;32m    108\u001b[0m \u001b[39mdef\u001b[39;00m \u001b[39m_to_rest_online_endpoint\u001b[39m(\u001b[39mself\u001b[39m, location: \u001b[39mstr\u001b[39m) \u001b[39m-\u001b[39m\u001b[39m>\u001b[39m OnlineEndpointData:\n\u001b[0;32m--> 109\u001b[0m     \u001b[39mself\u001b[39m\u001b[39m.\u001b[39midentity \u001b[39m=\u001b[39m convert_identity_dict(\u001b[39mself\u001b[39;49m\u001b[39m.\u001b[39;49midentity)\n\u001b[1;32m    110\u001b[0m     validate_endpoint_or_deployment_name(\u001b[39mself\u001b[39m\u001b[39m.\u001b[39mname)\n\u001b[1;32m    111\u001b[0m     validate_identity_type_defined(\u001b[39mself\u001b[39m\u001b[39m.\u001b[39midentity)\n",
      "File \u001b[0;32m/anaconda/envs/roles/lib/python3.8/site-packages/azure/ai/ml/_utils/utils.py:449\u001b[0m, in \u001b[0;36mconvert_identity_dict\u001b[0;34m(identity)\u001b[0m\n\u001b[1;32m    447\u001b[0m ids \u001b[39m=\u001b[39m \u001b[39mdict\u001b[39m()\n\u001b[1;32m    448\u001b[0m \u001b[39mfor\u001b[39;00m \u001b[39mid\u001b[39m \u001b[39min\u001b[39;00m identity\u001b[39m.\u001b[39muser_assigned_identities:\n\u001b[0;32m--> 449\u001b[0m     ids[\u001b[39mid\u001b[39;49m[\u001b[39m\"\u001b[39;49m\u001b[39mresource_id\u001b[39;49m\u001b[39m\"\u001b[39;49m]] \u001b[39m=\u001b[39m {}\n\u001b[1;32m    450\u001b[0m identity\u001b[39m.\u001b[39muser_assigned_identities \u001b[39m=\u001b[39m ids\n\u001b[1;32m    451\u001b[0m identity\u001b[39m.\u001b[39mtype \u001b[39m=\u001b[39m snake_to_camel(identity\u001b[39m.\u001b[39mtype)\n",
      "\u001b[0;31mTypeError\u001b[0m: 'UserAssignedIdentity' object is not subscriptable"
     ]
    }
   ],
   "source": [
    "endpoint = ManagedOnlineEndpoint(name=endpoint_name, auth_mode=\"key\", identity=IdentityConfiguration(\n",
    "    type=\"UserAssigned\", \n",
    "    user_assigned_identities=\n",
    "    [\n",
    "        {\"resource_id\": uai_identity.id}\n",
    "    ])\n",
    ")\n",
    "\n",
    "\n",
    "#UserAssignedIdentity(\n",
    "   # UserAssignedIdentity(resource_id=uai_identity.id)\n",
    "           # resource_id=uai_identity.id)\n",
    "#endpoint.identity = endpoint.identity.from_dict(\n",
    "    #{\"type\": \"UserAssigned\", \"user_assigned_identities\": {uai_identity.id: {}}},\n",
    "#)\n",
    "\n",
    "ml_client.online_endpoints.begin_create_or_update(endpoint) # Create endpoint with user assigned identity"
   ]
  },
  {
   "cell_type": "markdown",
   "metadata": {},
   "source": [
    "### 5.2 Update its identity"
   ]
  },
  {
   "cell_type": "code",
   "execution_count": 48,
   "metadata": {
    "name": "5-update-identity"
   },
   "outputs": [
    {
     "data": {
      "text/plain": [
       "ManagedOnlineEndpoint({'public_network_access': 'Enabled', 'provisioning_state': 'Succeeded', 'scoring_uri': 'https://roletest5.eastus2.inference.ml.azure.com/score', 'swagger_uri': 'https://roletest5.eastus2.inference.ml.azure.com/swagger.json', 'name': 'roletest5', 'description': None, 'tags': {}, 'properties': {'azureml.onlineendpointid': '/subscriptions/6fe1c377-b645-4e8e-b588-52e57cc856b2/resourcegroups/role-creation-sample/providers/microsoft.machinelearningservices/workspaces/test-workspace/onlineendpoints/roletest5', 'AzureAsyncOperationUri': 'https://management.azure.com/subscriptions/6fe1c377-b645-4e8e-b588-52e57cc856b2/providers/Microsoft.MachineLearningServices/locations/eastus2/mfeOperationsStatus/oe:5d0ba9bd-465c-466f-a133-462c9bfa6515:3d9be8ec-bc96-429e-9ae1-bca937d24f60?api-version=2022-02-01-preview'}, 'id': '/subscriptions/6fe1c377-b645-4e8e-b588-52e57cc856b2/resourceGroups/role-creation-sample/providers/Microsoft.MachineLearningServices/workspaces/test-workspace/onlineEndpoints/roletest5', 'Resource__source_path': None, 'base_path': '/dev/shm/roles/azureml-examples/sdk/endpoints/online/managed/managed-identities', 'creation_context': None, 'serialize': <msrest.serialization.Serializer object at 0x7f4b903768b0>, 'auth_mode': 'key', 'location': 'eastus2', 'identity': <azure.ai.ml._restclient.v2022_02_01_preview.models._models_py3.ManagedServiceIdentity object at 0x7f4b903768e0>, 'traffic': {}, 'mirror_traffic': {}, 'kind': 'Managed'})"
      ]
     },
     "execution_count": 48,
     "metadata": {},
     "output_type": "execute_result"
    }
   ],
   "source": [
    "#endpoint = ml_client.online_endpoints.get(endpoint_name)\n",
    "#endpoint.identity = endpoint.identity.from_dict(\n",
    "#    {\"type\": \"UserAssigned\", \"user_assigned_identities\": {uai_identity.id: {}}}\n",
    "#)\n",
    "\n",
    "#ml_client.online_endpoints.begin_create_or_update(endpoint)"
   ]
  },
  {
   "cell_type": "markdown",
   "metadata": {},
   "source": [
    "### 5.3 Confirm identity details"
   ]
  },
  {
   "cell_type": "code",
   "execution_count": 49,
   "metadata": {},
   "outputs": [
    {
     "data": {
      "text/plain": [
       "{'principal_id': '00000000-0000-0000-0000-000000000000',\n",
       " 'tenant_id': '72f988bf-86f1-41af-91ab-2d7cd011db47',\n",
       " 'type': 'UserAssigned',\n",
       " 'user_assigned_identities': {'/subscriptions/6fe1c377-b645-4e8e-b588-52e57cc856b2/resourcegroups/role-creation-sample/providers/Microsoft.ManagedIdentity/userAssignedIdentities/testidentity2': {'principal_id': 'b1a913f4-88fb-4605-9347-71b4013a19b7',\n",
       "   'client_id': '8e85c41b-0093-4454-9ae9-ba43ad584cba'}}}"
      ]
     },
     "execution_count": 49,
     "metadata": {},
     "output_type": "execute_result"
    }
   ],
   "source": [
    "endpoint = ml_client.online_endpoints.get(endpoint_name)\n",
    "endpoint.identity.as_dict()"
   ]
  },
  {
   "cell_type": "markdown",
   "metadata": {},
   "source": [
    "## 6. Give access permission to the managed identity"
   ]
  },
  {
   "cell_type": "markdown",
   "metadata": {},
   "source": [
    "### 6.1 Get an `AuthorizationManagementClient` to list Role Definitions"
   ]
  },
  {
   "cell_type": "code",
   "execution_count": 50,
   "metadata": {
    "name": "6-get-role-definitions-client"
   },
   "outputs": [],
   "source": [
    "from azure.mgmt.authorization import AuthorizationManagementClient\n",
    "from azure.mgmt.authorization.v2018_01_01_preview.models import RoleDefinition\n",
    "import uuid\n",
    "\n",
    "role_definition_client = AuthorizationManagementClient(\n",
    "    credential=credential,\n",
    "    subscription_id=subscription_id,\n",
    "    api_version=\"2018-01-01-preview\",\n",
    ")"
   ]
  },
  {
   "cell_type": "markdown",
   "metadata": {},
   "source": [
    "### 6.2 Get an `AuthorizationManagementClient` to make Role Assignments"
   ]
  },
  {
   "cell_type": "code",
   "execution_count": 51,
   "metadata": {
    "name": "6-get-role-assignments-client"
   },
   "outputs": [],
   "source": [
    "from azure.mgmt.authorization.v2020_10_01_preview.models import (\n",
    "    RoleAssignment,\n",
    "    RoleAssignmentCreateParameters,\n",
    ")\n",
    "\n",
    "role_assignment_client = AuthorizationManagementClient(\n",
    "    credential=credential,\n",
    "    subscription_id=subscription_id,\n",
    "    api_version=\"2020-10-01-preview\",\n",
    ")"
   ]
  },
  {
   "cell_type": "markdown",
   "metadata": {},
   "source": [
    "### 6.2 Get User-assigned identity details"
   ]
  },
  {
   "cell_type": "code",
   "execution_count": 52,
   "metadata": {
    "name": "6-get-uai-details"
   },
   "outputs": [],
   "source": [
    "uai_identity = msi_client.user_assigned_identities.get(\n",
    "    resource_group_name=resource_group, resource_name=uai_name\n",
    ")\n",
    "uai_principal_id = uai_identity.principal_id\n",
    "uai_client_id = uai_identity.client_id"
   ]
  },
  {
   "cell_type": "markdown",
   "metadata": {},
   "source": [
    "### 6.3 Give permission to the user storage account"
   ]
  },
  {
   "cell_type": "code",
   "execution_count": 53,
   "metadata": {
    "name": "6-give-permission-user-storage-account"
   },
   "outputs": [
    {
     "data": {
      "text/plain": [
       "<azure.mgmt.authorization.v2020_10_01_preview.models._models_py3.RoleAssignment at 0x7f4ba23f1ee0>"
      ]
     },
     "execution_count": 53,
     "metadata": {},
     "output_type": "execute_result"
    }
   ],
   "source": [
    "role_name = \"Storage Blob Data Reader\"\n",
    "scope = storage_account.id\n",
    "\n",
    "role_defs = role_definition_client.role_definitions.list(scope=scope)\n",
    "role_def = next((r for r in role_defs if r.role_name == role_name))\n",
    "\n",
    "role_assignment_client.role_assignments.create(\n",
    "    scope=scope,\n",
    "    role_assignment_name=str(uuid.uuid4()),\n",
    "    parameters=RoleAssignmentCreateParameters(\n",
    "        role_definition_id=role_def.id, principal_id=uai_principal_id, principal_type=\"ServicePrincipal\"\n",
    "    ),\n",
    ")"
   ]
  },
  {
   "cell_type": "markdown",
   "metadata": {},
   "source": [
    "### 6.4 Retrieve the workspace and container registry objects"
   ]
  },
  {
   "cell_type": "code",
   "execution_count": 54,
   "metadata": {
    "name": "6-retrieve-workspace-acr"
   },
   "outputs": [],
   "source": [
    "workspace = ml_client.workspaces.get(workspace_name)\n",
    "container_registry = workspace.container_registry"
   ]
  },
  {
   "cell_type": "markdown",
   "metadata": {},
   "source": [
    "### 6.5 Give permission to the container registry"
   ]
  },
  {
   "cell_type": "code",
   "execution_count": 55,
   "metadata": {
    "name": "6-give-permission-container-registry"
   },
   "outputs": [
    {
     "data": {
      "text/plain": [
       "<azure.mgmt.authorization.v2020_10_01_preview.models._models_py3.RoleAssignment at 0x7f4ba23f1880>"
      ]
     },
     "execution_count": 55,
     "metadata": {},
     "output_type": "execute_result"
    }
   ],
   "source": [
    "role_name = \"AcrPull\"\n",
    "scope = container_registry\n",
    "\n",
    "role_defs = role_definition_client.role_definitions.list(scope=scope)\n",
    "role_def = next((r for r in role_defs if r.role_name == role_name))\n",
    "\n",
    "role_assignment_client.role_assignments.create(\n",
    "    scope=scope,\n",
    "    role_assignment_name=str(uuid.uuid4()),\n",
    "    parameters=RoleAssignmentCreateParameters(\n",
    "        role_definition_id=role_def.id, principal_id=uai_principal_id, principal_type=\"ServicePrincipal\"\n",
    "    ),\n",
    ")"
   ]
  },
  {
   "cell_type": "markdown",
   "metadata": {},
   "source": [
    "### 6.6  Give permission to the workspace storage account"
   ]
  },
  {
   "cell_type": "code",
   "execution_count": 56,
   "metadata": {
    "name": "6-give-permission-workspace-storage"
   },
   "outputs": [
    {
     "data": {
      "text/plain": [
       "<azure.mgmt.authorization.v2020_10_01_preview.models._models_py3.RoleAssignment at 0x7f4ba21ffac0>"
      ]
     },
     "execution_count": 56,
     "metadata": {},
     "output_type": "execute_result"
    }
   ],
   "source": [
    "role_name = \"Storage Blob Data Reader\"\n",
    "scope = workspace.storage_account\n",
    "\n",
    "role_defs = role_definition_client.role_definitions.list(scope=scope)\n",
    "role_def = next((r for r in role_defs if r.role_name == role_name))\n",
    "\n",
    "role_assignment_client.role_assignments.create(\n",
    "    scope=scope,\n",
    "    role_assignment_name=str(uuid.uuid4()),\n",
    "    parameters=RoleAssignmentCreateParameters(\n",
    "        role_definition_id=role_def.id, principal_id=uai_principal_id, principal_type=\"ServicePrincipal\"\n",
    "    ),\n",
    ")"
   ]
  },
  {
   "cell_type": "markdown",
   "metadata": {},
   "source": [
    "## 7. Create a deployment with your configuration"
   ]
  },
  {
   "cell_type": "markdown",
   "metadata": {},
   "source": [
    "### 7.1 Update the deployment configuration with the UAI Client ID"
   ]
  },
  {
   "cell_type": "code",
   "execution_count": 57,
   "metadata": {
    "name": "7-update-uai-client-id"
   },
   "outputs": [],
   "source": [
    "deployment.environment_variables[\"UAI_CLIENT_ID\"] = uai_client_id # Is this correct?"
   ]
  },
  {
   "cell_type": "markdown",
   "metadata": {},
   "source": [
    "### 7.2 Create the deployment"
   ]
  },
  {
   "cell_type": "code",
   "execution_count": 58,
   "metadata": {
    "name": "7-create-deployment"
   },
   "outputs": [
    {
     "name": "stderr",
     "output_type": "stream",
     "text": [
      "Check: endpoint roletest5 exists\n",
      "Creating/updating online deployment blue "
     ]
    },
    {
     "name": "stdout",
     "output_type": "stream",
     "text": [
      "........................................................................................."
     ]
    },
    {
     "ename": "HttpResponseError",
     "evalue": "(None) ResourceNotReady: User container has crashed or terminated. Please see troubleshooting guide, available here: https://aka.ms/oe-tsg#error-resourcenotready\nCode: None\nMessage: ResourceNotReady: User container has crashed or terminated. Please see troubleshooting guide, available here: https://aka.ms/oe-tsg#error-resourcenotready\nException Details:\t(None) ResourceNotReady: User container has crashed or terminated. Please see troubleshooting guide, available here: https://aka.ms/oe-tsg#error-resourcenotready\n\tThe build log is available in the workspace blob store \"testworkspace5376630068\" under the path \"/azureml/ImageLogs/2b684463-74b2-466e-afbd-a86cea622144/build.log\"\n\tCode: None\n\tMessage: ResourceNotReady: User container has crashed or terminated. Please see troubleshooting guide, available here: https://aka.ms/oe-tsg#error-resourcenotready\n\tThe build log is available in the workspace blob store \"testworkspace5376630068\" under the path \"/azureml/ImageLogs/2b684463-74b2-466e-afbd-a86cea622144/build.log\"",
     "output_type": "error",
     "traceback": [
      "\u001b[0;31m---------------------------------------------------------------------------\u001b[0m",
      "\u001b[0;31mOperationFailed\u001b[0m                           Traceback (most recent call last)",
      "File \u001b[0;32m/anaconda/envs/roles/lib/python3.8/site-packages/azure/core/polling/base_polling.py:517\u001b[0m, in \u001b[0;36mLROBasePolling.run\u001b[0;34m(self)\u001b[0m\n\u001b[1;32m    516\u001b[0m \u001b[39mtry\u001b[39;00m:\n\u001b[0;32m--> 517\u001b[0m     \u001b[39mself\u001b[39;49m\u001b[39m.\u001b[39;49m_poll()\n\u001b[1;32m    519\u001b[0m \u001b[39mexcept\u001b[39;00m BadStatus \u001b[39mas\u001b[39;00m err:\n",
      "File \u001b[0;32m/anaconda/envs/roles/lib/python3.8/site-packages/azure/core/polling/base_polling.py:556\u001b[0m, in \u001b[0;36mLROBasePolling._poll\u001b[0;34m(self)\u001b[0m\n\u001b[1;32m    555\u001b[0m \u001b[39mif\u001b[39;00m _failed(\u001b[39mself\u001b[39m\u001b[39m.\u001b[39mstatus()):\n\u001b[0;32m--> 556\u001b[0m     \u001b[39mraise\u001b[39;00m OperationFailed(\u001b[39m\"\u001b[39m\u001b[39mOperation failed or canceled\u001b[39m\u001b[39m\"\u001b[39m)\n\u001b[1;32m    558\u001b[0m final_get_url \u001b[39m=\u001b[39m \u001b[39mself\u001b[39m\u001b[39m.\u001b[39m_operation\u001b[39m.\u001b[39mget_final_get_url(\u001b[39mself\u001b[39m\u001b[39m.\u001b[39m_pipeline_response)\n",
      "\u001b[0;31mOperationFailed\u001b[0m: Operation failed or canceled",
      "\nDuring handling of the above exception, another exception occurred:\n",
      "\u001b[0;31mHttpResponseError\u001b[0m                         Traceback (most recent call last)",
      "Cell \u001b[0;32mIn [58], line 1\u001b[0m\n\u001b[0;32m----> 1\u001b[0m \u001b[43mml_client\u001b[49m\u001b[38;5;241;43m.\u001b[39;49m\u001b[43monline_deployments\u001b[49m\u001b[38;5;241;43m.\u001b[39;49m\u001b[43mbegin_create_or_update\u001b[49m\u001b[43m(\u001b[49m\u001b[43mdeployment\u001b[49m\u001b[43m)\u001b[49m\n",
      "File \u001b[0;32m/anaconda/envs/roles/lib/python3.8/site-packages/azure/ai/ml/_telemetry/activity.py:258\u001b[0m, in \u001b[0;36mmonitor_with_activity.<locals>.monitor.<locals>.wrapper\u001b[0;34m(*args, **kwargs)\u001b[0m\n\u001b[1;32m    255\u001b[0m \u001b[39m@functools\u001b[39m\u001b[39m.\u001b[39mwraps(f)\n\u001b[1;32m    256\u001b[0m \u001b[39mdef\u001b[39;00m \u001b[39mwrapper\u001b[39m(\u001b[39m*\u001b[39margs, \u001b[39m*\u001b[39m\u001b[39m*\u001b[39mkwargs):\n\u001b[1;32m    257\u001b[0m     \u001b[39mwith\u001b[39;00m log_activity(logger, activity_name \u001b[39mor\u001b[39;00m f\u001b[39m.\u001b[39m\u001b[39m__name__\u001b[39m, activity_type, custom_dimensions):\n\u001b[0;32m--> 258\u001b[0m         \u001b[39mreturn\u001b[39;00m f(\u001b[39m*\u001b[39;49margs, \u001b[39m*\u001b[39;49m\u001b[39m*\u001b[39;49mkwargs)\n",
      "File \u001b[0;32m/anaconda/envs/roles/lib/python3.8/site-packages/azure/ai/ml/operations/_online_deployment_operations.py:143\u001b[0m, in \u001b[0;36mOnlineDeploymentOperations.begin_create_or_update\u001b[0;34m(self, deployment, local, vscode_debug, no_wait)\u001b[0m\n\u001b[1;32m    140\u001b[0m         polling_wait(poller\u001b[39m=\u001b[39mpoller, start_time\u001b[39m=\u001b[39mstart_time, message\u001b[39m=\u001b[39mmessage, timeout\u001b[39m=\u001b[39m\u001b[39mNone\u001b[39;00m)\n\u001b[1;32m    142\u001b[0m \u001b[39mexcept\u001b[39;00m \u001b[39mException\u001b[39;00m \u001b[39mas\u001b[39;00m ex:\n\u001b[0;32m--> 143\u001b[0m     \u001b[39mraise\u001b[39;00m ex\n",
      "File \u001b[0;32m/anaconda/envs/roles/lib/python3.8/site-packages/azure/ai/ml/operations/_online_deployment_operations.py:140\u001b[0m, in \u001b[0;36mOnlineDeploymentOperations.begin_create_or_update\u001b[0;34m(self, deployment, local, vscode_debug, no_wait)\u001b[0m\n\u001b[1;32m    138\u001b[0m     \u001b[39melse\u001b[39;00m:\n\u001b[1;32m    139\u001b[0m         message \u001b[39m=\u001b[39m \u001b[39mf\u001b[39m\u001b[39m\"\u001b[39m\u001b[39mCreating/updating online deployment \u001b[39m\u001b[39m{\u001b[39;00mdeployment\u001b[39m.\u001b[39mname\u001b[39m}\u001b[39;00m\u001b[39m \u001b[39m\u001b[39m\"\u001b[39m\n\u001b[0;32m--> 140\u001b[0m         polling_wait(poller\u001b[39m=\u001b[39;49mpoller, start_time\u001b[39m=\u001b[39;49mstart_time, message\u001b[39m=\u001b[39;49mmessage, timeout\u001b[39m=\u001b[39;49m\u001b[39mNone\u001b[39;49;00m)\n\u001b[1;32m    142\u001b[0m \u001b[39mexcept\u001b[39;00m \u001b[39mException\u001b[39;00m \u001b[39mas\u001b[39;00m ex:\n\u001b[1;32m    143\u001b[0m     \u001b[39mraise\u001b[39;00m ex\n",
      "File \u001b[0;32m/anaconda/envs/roles/lib/python3.8/site-packages/azure/ai/ml/_utils/_endpoint_utils.py:63\u001b[0m, in \u001b[0;36mpolling_wait\u001b[0;34m(poller, message, start_time, is_local, timeout)\u001b[0m\n\u001b[1;32m     61\u001b[0m         time\u001b[39m.\u001b[39msleep(LROConfigurations\u001b[39m.\u001b[39mSLEEP_TIME)\n\u001b[1;32m     62\u001b[0m \u001b[39melse\u001b[39;00m:\n\u001b[0;32m---> 63\u001b[0m     poller\u001b[39m.\u001b[39;49mresult(timeout\u001b[39m=\u001b[39;49mtimeout)\n\u001b[1;32m     65\u001b[0m \u001b[39mif\u001b[39;00m poller\u001b[39m.\u001b[39mdone():\n\u001b[1;32m     66\u001b[0m     module_logger\u001b[39m.\u001b[39mwarning(\u001b[39m\"\u001b[39m\u001b[39mDone \u001b[39m\u001b[39m\"\u001b[39m)\n",
      "File \u001b[0;32m/anaconda/envs/roles/lib/python3.8/site-packages/azure/core/polling/_poller.py:255\u001b[0m, in \u001b[0;36mLROPoller.result\u001b[0;34m(self, timeout)\u001b[0m\n\u001b[1;32m    246\u001b[0m \u001b[39mdef\u001b[39;00m \u001b[39mresult\u001b[39m(\u001b[39mself\u001b[39m, timeout\u001b[39m=\u001b[39m\u001b[39mNone\u001b[39;00m):\n\u001b[1;32m    247\u001b[0m     \u001b[39m# type: (Optional[int]) -> PollingReturnType\u001b[39;00m\n\u001b[1;32m    248\u001b[0m     \u001b[39m\"\"\"Return the result of the long running operation, or\u001b[39;00m\n\u001b[1;32m    249\u001b[0m \u001b[39m    the result available after the specified timeout.\u001b[39;00m\n\u001b[1;32m    250\u001b[0m \n\u001b[0;32m   (...)\u001b[0m\n\u001b[1;32m    253\u001b[0m \u001b[39m    :raises ~azure.core.exceptions.HttpResponseError: Server problem with the query.\u001b[39;00m\n\u001b[1;32m    254\u001b[0m \u001b[39m    \"\"\"\u001b[39;00m\n\u001b[0;32m--> 255\u001b[0m     \u001b[39mself\u001b[39;49m\u001b[39m.\u001b[39;49mwait(timeout)\n\u001b[1;32m    256\u001b[0m     \u001b[39mreturn\u001b[39;00m \u001b[39mself\u001b[39m\u001b[39m.\u001b[39m_polling_method\u001b[39m.\u001b[39mresource()\n",
      "File \u001b[0;32m/anaconda/envs/roles/lib/python3.8/site-packages/azure/core/tracing/decorator.py:78\u001b[0m, in \u001b[0;36mdistributed_trace.<locals>.decorator.<locals>.wrapper_use_tracer\u001b[0;34m(*args, **kwargs)\u001b[0m\n\u001b[1;32m     76\u001b[0m span_impl_type \u001b[39m=\u001b[39m settings\u001b[39m.\u001b[39mtracing_implementation()\n\u001b[1;32m     77\u001b[0m \u001b[39mif\u001b[39;00m span_impl_type \u001b[39mis\u001b[39;00m \u001b[39mNone\u001b[39;00m:\n\u001b[0;32m---> 78\u001b[0m     \u001b[39mreturn\u001b[39;00m func(\u001b[39m*\u001b[39;49margs, \u001b[39m*\u001b[39;49m\u001b[39m*\u001b[39;49mkwargs)\n\u001b[1;32m     80\u001b[0m \u001b[39m# Merge span is parameter is set, but only if no explicit parent are passed\u001b[39;00m\n\u001b[1;32m     81\u001b[0m \u001b[39mif\u001b[39;00m merge_span \u001b[39mand\u001b[39;00m \u001b[39mnot\u001b[39;00m passed_in_parent:\n",
      "File \u001b[0;32m/anaconda/envs/roles/lib/python3.8/site-packages/azure/core/polling/_poller.py:275\u001b[0m, in \u001b[0;36mLROPoller.wait\u001b[0;34m(self, timeout)\u001b[0m\n\u001b[1;32m    271\u001b[0m \u001b[39mself\u001b[39m\u001b[39m.\u001b[39m_thread\u001b[39m.\u001b[39mjoin(timeout\u001b[39m=\u001b[39mtimeout)\n\u001b[1;32m    272\u001b[0m \u001b[39mtry\u001b[39;00m:\n\u001b[1;32m    273\u001b[0m     \u001b[39m# Let's handle possible None in forgiveness here\u001b[39;00m\n\u001b[1;32m    274\u001b[0m     \u001b[39m# https://github.com/python/mypy/issues/8165\u001b[39;00m\n\u001b[0;32m--> 275\u001b[0m     \u001b[39mraise\u001b[39;00m \u001b[39mself\u001b[39m\u001b[39m.\u001b[39m_exception \u001b[39m# type: ignore\u001b[39;00m\n\u001b[1;32m    276\u001b[0m \u001b[39mexcept\u001b[39;00m \u001b[39mTypeError\u001b[39;00m: \u001b[39m# Was None\u001b[39;00m\n\u001b[1;32m    277\u001b[0m     \u001b[39mpass\u001b[39;00m\n",
      "File \u001b[0;32m/anaconda/envs/roles/lib/python3.8/site-packages/azure/core/polling/_poller.py:192\u001b[0m, in \u001b[0;36mLROPoller._start\u001b[0;34m(self)\u001b[0m\n\u001b[1;32m    185\u001b[0m \u001b[39m\"\"\"Start the long running operation.\u001b[39;00m\n\u001b[1;32m    186\u001b[0m \u001b[39mOn completion, runs any callbacks.\u001b[39;00m\n\u001b[1;32m    187\u001b[0m \n\u001b[1;32m    188\u001b[0m \u001b[39m:param callable update_cmd: The API request to check the status of\u001b[39;00m\n\u001b[1;32m    189\u001b[0m \u001b[39m the operation.\u001b[39;00m\n\u001b[1;32m    190\u001b[0m \u001b[39m\"\"\"\u001b[39;00m\n\u001b[1;32m    191\u001b[0m \u001b[39mtry\u001b[39;00m:\n\u001b[0;32m--> 192\u001b[0m     \u001b[39mself\u001b[39;49m\u001b[39m.\u001b[39;49m_polling_method\u001b[39m.\u001b[39;49mrun()\n\u001b[1;32m    193\u001b[0m \u001b[39mexcept\u001b[39;00m AzureError \u001b[39mas\u001b[39;00m error:\n\u001b[1;32m    194\u001b[0m     \u001b[39mif\u001b[39;00m \u001b[39mnot\u001b[39;00m error\u001b[39m.\u001b[39mcontinuation_token:\n",
      "File \u001b[0;32m/anaconda/envs/roles/lib/python3.8/site-packages/azure/core/polling/base_polling.py:535\u001b[0m, in \u001b[0;36mLROBasePolling.run\u001b[0;34m(self)\u001b[0m\n\u001b[1;32m    528\u001b[0m     \u001b[39mraise\u001b[39;00m HttpResponseError(\n\u001b[1;32m    529\u001b[0m         response\u001b[39m=\u001b[39m\u001b[39mself\u001b[39m\u001b[39m.\u001b[39m_pipeline_response\u001b[39m.\u001b[39mhttp_response,\n\u001b[1;32m    530\u001b[0m         message\u001b[39m=\u001b[39m\u001b[39mstr\u001b[39m(err),\n\u001b[1;32m    531\u001b[0m         error\u001b[39m=\u001b[39merr\n\u001b[1;32m    532\u001b[0m     )\n\u001b[1;32m    534\u001b[0m \u001b[39mexcept\u001b[39;00m OperationFailed \u001b[39mas\u001b[39;00m err:\n\u001b[0;32m--> 535\u001b[0m     \u001b[39mraise\u001b[39;00m HttpResponseError(\n\u001b[1;32m    536\u001b[0m         response\u001b[39m=\u001b[39m\u001b[39mself\u001b[39m\u001b[39m.\u001b[39m_pipeline_response\u001b[39m.\u001b[39mhttp_response,\n\u001b[1;32m    537\u001b[0m         error\u001b[39m=\u001b[39merr\n\u001b[1;32m    538\u001b[0m     )\n",
      "\u001b[0;31mHttpResponseError\u001b[0m: (None) ResourceNotReady: User container has crashed or terminated. Please see troubleshooting guide, available here: https://aka.ms/oe-tsg#error-resourcenotready\nCode: None\nMessage: ResourceNotReady: User container has crashed or terminated. Please see troubleshooting guide, available here: https://aka.ms/oe-tsg#error-resourcenotready\nException Details:\t(None) ResourceNotReady: User container has crashed or terminated. Please see troubleshooting guide, available here: https://aka.ms/oe-tsg#error-resourcenotready\n\tThe build log is available in the workspace blob store \"testworkspace5376630068\" under the path \"/azureml/ImageLogs/2b684463-74b2-466e-afbd-a86cea622144/build.log\"\n\tCode: None\n\tMessage: ResourceNotReady: User container has crashed or terminated. Please see troubleshooting guide, available here: https://aka.ms/oe-tsg#error-resourcenotready\n\tThe build log is available in the workspace blob store \"testworkspace5376630068\" under the path \"/azureml/ImageLogs/2b684463-74b2-466e-afbd-a86cea622144/build.log\""
     ]
    }
   ],
   "source": [
    "ml_client.online_deployments.begin_create_or_update(deployment)"
   ]
  },
  {
   "cell_type": "markdown",
   "metadata": {},
   "source": [
    "### 7.3 Check the status of the deployment"
   ]
  },
  {
   "cell_type": "code",
   "execution_count": null,
   "metadata": {
    "name": "7-check-deployment-status"
   },
   "outputs": [],
   "source": [
    "deployment = ml_client.online_deployments.get(\n",
    "    endpoint_name=endpoint_name, name=deployment.name\n",
    ")\n",
    "print(deployment)"
   ]
  },
  {
   "cell_type": "markdown",
   "metadata": {},
   "source": [
    "### 7.4 Get the deployment logs"
   ]
  },
  {
   "cell_type": "code",
   "execution_count": null,
   "metadata": {
    "name": "7-get-deployment-logs"
   },
   "outputs": [],
   "source": [
    "ml_client.online_deployments.get_logs(deployment.name, deployment.endpoint_name, 1000)"
   ]
  },
  {
   "cell_type": "markdown",
   "metadata": {},
   "source": [
    "### 7.5 Set traffic to 100% for deployment"
   ]
  },
  {
   "cell_type": "code",
   "execution_count": null,
   "metadata": {},
   "outputs": [],
   "source": [
    "endpoint.traffic = {str(deployment.name): 100}\n",
    "ml_client.begin_create_or_update(endpoint)"
   ]
  },
  {
   "cell_type": "markdown",
   "metadata": {},
   "source": [
    "## 8. Confirm your endpoint deployed successfully"
   ]
  },
  {
   "cell_type": "code",
   "execution_count": null,
   "metadata": {
    "name": "8-confirm-endpoint-deployed-successfully"
   },
   "outputs": [],
   "source": [
    "sample_data = \"../../model-1/sample-request.json\"\n",
    "ml_client.online_endpoints.invoke(endpoint_name=endpoint_name, request_file=sample_data)"
   ]
  },
  {
   "cell_type": "markdown",
   "metadata": {},
   "source": [
    "## 9. Delete the endpoint and storage account"
   ]
  },
  {
   "cell_type": "markdown",
   "metadata": {},
   "source": [
    "### 9.1 Delete the endpoint"
   ]
  },
  {
   "cell_type": "code",
   "execution_count": null,
   "metadata": {
    "name": "9-delete-endpoint"
   },
   "outputs": [],
   "source": [
    "ml_client.online_endpoints.begin_delete(endpoint_name)"
   ]
  },
  {
   "cell_type": "markdown",
   "metadata": {},
   "source": [
    "### 9.2 Delete the storage account"
   ]
  },
  {
   "cell_type": "code",
   "execution_count": null,
   "metadata": {
    "name": "9-delete-storage-account"
   },
   "outputs": [],
   "source": [
    "storage_client.storage_accounts.delete(\n",
    "    resource_group_name=resource_group, account_name=storage_account_name\n",
    ")"
   ]
  }
 ],
 "metadata": {
  "kernelspec": {
   "display_name": "Python 3.8.13 ('roles')",
   "language": "python",
   "name": "python3"
  },
  "language_info": {
   "codemirror_mode": {
    "name": "ipython",
    "version": 3
   },
   "file_extension": ".py",
   "mimetype": "text/x-python",
   "name": "python",
   "nbconvert_exporter": "python",
   "pygments_lexer": "ipython3",
   "version": "3.8.13"
  },
  "vscode": {
   "interpreter": {
    "hash": "847d7872e67b21750ba27c31d9b41df40feb73325a645668960b8055988322af"
   }
  }
 },
 "nbformat": 4,
 "nbformat_minor": 2
}
