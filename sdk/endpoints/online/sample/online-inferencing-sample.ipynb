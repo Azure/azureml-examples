{
 "cells": [
  {
   "cell_type": "code",
   "execution_count": null,
   "metadata": {},
   "outputs": [],
   "source": [
    "#import required libraries\n",
    "from azure.ml import MLClient\n",
    "from azure.ml.entities import ManagedOnlineEndpoint, ManagedOnlineDeployment, Model, Environment\n",
    "from azure.identity import InteractiveBrowserCredential"
   ]
  },
  {
   "cell_type": "code",
   "execution_count": null,
   "metadata": {},
   "outputs": [],
   "source": [
    "#enter details of your AML workspace\n",
    "subscription_id = '<SUBSCRIPTION_ID>'\n",
    "resource_group = '<RESOURCE_GROUP>'\n",
    "workspace = '<AML_WORKSPACE_NAME>'"
   ]
  },
  {
   "cell_type": "code",
   "execution_count": null,
   "metadata": {},
   "outputs": [],
   "source": [
    "#get a handle to the workspace\n",
    "ml_client = MLClient(InteractiveBrowserCredential(), subscription_id, resource_group, workspace)"
   ]
  },
  {
   "cell_type": "code",
   "execution_count": null,
   "metadata": {},
   "outputs": [],
   "source": [
    "#create an online endpoint\n",
    "endpoint = ManagedOnlineEndpoint(name='my-online-endpoint',\n",
    "            description='this is a sample online endpoint',\n",
    "            auth_mode='key',\n",
    "            tags={'foo': 'bar'})\n",
    "                     \n",
    "ml_client.begin_create_or_update(endpoint)"
   ]
  },
  {
   "cell_type": "code",
   "execution_count": null,
   "metadata": {},
   "outputs": [],
   "source": [
    "#create an online deployment\n",
    "model = Model(local_path='./model-1/model/sklearn_regression_model.pkl')\n",
    "env = Environment(conda_file='./model-1/environment/conda.yml', image='mcr.microsoft.com/azureml/openmpi3.1.2-ubuntu18.04:20210727.v1')\n",
    "\n",
    "blue_deployment = ManagedOnlineDeployment(\n",
    "    name='blue',\n",
    "    endpoint_name='my-online-endpoint',\n",
    "    model=model,\n",
    "    environment=env,\n",
    "    code_local_path=\"./model-1/onlinescoring\",\n",
    "    scoring_script=\"score.py\",\n",
    "    instance_type='Standard_F2s_v2',\n",
    "    instance_count=1)\n",
    "\n",
    "ml_client.begin_create_or_update(blue_deployment)"
   ]
  },
  {
   "cell_type": "code",
   "execution_count": null,
   "metadata": {},
   "outputs": [],
   "source": [
    "#test the blue deployment with some sample data\n",
    "ml_client.online_endpoints.invoke(name='my-online-endpoint', request_file='./model-1/sample-request.json')"
   ]
  },
  {
   "cell_type": "code",
   "execution_count": null,
   "metadata": {},
   "outputs": [],
   "source": [
    "#scale the deployment\n",
    "blue_deployment = ml_client.online_deployments.get(name='blue', endpoint_name='my-online-endpoint') #redundant step, added just to show the get feature\n",
    "blue_deployment.instance_count = 2\n",
    "ml_client.online_deployments.create_or_update(blue_deployment)"
   ]
  },
  {
   "cell_type": "code",
   "execution_count": null,
   "metadata": {},
   "outputs": [],
   "source": [
    "#create a second deployment\n",
    "model2 = Model(local_path='./model-2/model/sklearn_regression_model.pkl')\n",
    "env2 = Environment(conda_file='./model-2/environment/conda.yml', image='mcr.microsoft.com/azureml/openmpi3.1.2-ubuntu18.04:20210727.v1')\n",
    "\n",
    "green_deployment = ManagedOnlineDeployment(\n",
    "    name='green',\n",
    "    endpoint_name='my-online-endpoint',\n",
    "    model=model2,\n",
    "    environment=env2,\n",
    "    code_local_path=\"./model-2/onlinescoring\",\n",
    "    scoring_script=\"score.py\",\n",
    "    instance_type='Standard_F2s_v2',\n",
    "    instance_count=1)\n",
    "\n",
    "ml_client.begin_create_or_update(green_deployment)"
   ]
  },
  {
   "cell_type": "code",
   "execution_count": null,
   "metadata": {},
   "outputs": [],
   "source": [
    "# test the green deployment\n",
    "\n",
    "ml_client.online_endpoints.invoke(name='my-online-endpoint', deployment_name='green', request_file='./model-2/sample-request.json')"
   ]
  },
  {
   "cell_type": "code",
   "execution_count": null,
   "metadata": {},
   "outputs": [],
   "source": [
    "# Get the details for online endpoint\n",
    "endpoint = ml_client.online_endpoints.get(name='my-online-endpoint')\n",
    "#existing traffic details\n",
    "print(endpoint.traffic)\n",
    "#Get the scoring URI\n",
    "print(endpoint.scoring_uri)"
   ]
  },
  {
   "cell_type": "code",
   "execution_count": null,
   "metadata": {},
   "outputs": [],
   "source": [
    "#Update the traffic to divert 10% of traffic to the green deployment\n",
    "endpoint.traffic = {'blue': 90, 'green': 10}\n",
    "ml_client.begin_create_or_update(endpoint)"
   ]
  },
  {
   "cell_type": "code",
   "execution_count": null,
   "metadata": {},
   "outputs": [],
   "source": [
    "#Get the logs for the green deployment and verify as needed\n",
    "ml_client.online_deployments.get_logs(name='green', endpoint_name='my-online-endpoint')"
   ]
  },
  {
   "cell_type": "code",
   "execution_count": null,
   "metadata": {},
   "outputs": [],
   "source": [
    "#now divert 100% of the traffic to the green deployment\n",
    "endpoint.traffic = {'blue': 0, 'green': 100}\n",
    "ml_client.begin_create_or_update(endpoint)"
   ]
  },
  {
   "cell_type": "code",
   "execution_count": null,
   "metadata": {},
   "outputs": [],
   "source": [
    "#delete the blue deployment\n",
    "mlclient.online_deployments.delete(name='blue', endpoint_name='my-online-endpoint')"
   ]
  }
 ],
 "metadata": {
  "interpreter": {
   "hash": "66962d4c952b5ba37638a017d6cc83bab37d76f69b13c17d86b9f71233a0aa71"
  },
  "kernelspec": {
   "display_name": "Python 3",
   "language": "python",
   "name": "python3"
  },
  "language_info": {
   "codemirror_mode": {
    "name": "ipython",
    "version": 3
   },
   "file_extension": ".py",
   "mimetype": "text/x-python",
   "name": "python",
   "nbconvert_exporter": "python",
   "pygments_lexer": "ipython3",
   "version": "3.8.5"
  }
 },
 "nbformat": 4,
 "nbformat_minor": 4
}
