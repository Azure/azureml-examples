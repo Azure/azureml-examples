{
  "cells": [
    {
      "cell_type": "code",
      "execution_count": null,
      "metadata": {
        "gather": {
          "logged": 1634854439863
        }
      },
      "outputs": [],
      "source": [
        "#import required libraries\n",
        "from azure.ml import MLClient\n",
        "from azure.ml.entities import BatchEndpoint, BatchDeployment, Model, Environment, BatchOutputAction, BatchRetrySettings"
      ]
    },
    {
      "cell_type": "code",
      "execution_count": null,
      "metadata": {
        "gather": {
          "logged": 1634854439994
        }
      },
      "outputs": [],
      "source": [
        "#enter details of your AML workspace\n",
        "subscription_id = '<SUBSCRIPTION_ID>'\n",
        "resource_group = '<RESOURCE_GROUP>'\n",
        "workspace = '<AML_WORKSPACE_NAME>'"
      ]
    },
    {
      "cell_type": "code",
      "execution_count": null,
      "metadata": {
        "gather": {
          "logged": 1634854440154
        }
      },
      "outputs": [],
      "source": [
        "#get a handle to the workspace\n",
        "ml_client = MLClient(subscription_id, resource_group, workspace)"
      ]
    },
    {
      "cell_type": "code",
      "execution_count": null,
      "metadata": {
        "gather": {
          "logged": 1634854440714
        }
      },
      "outputs": [],
      "source": [
        "#create a batch endpoint\n",
        "endpoint = BatchEndpoint(name='my-batch-endpoint',\n",
        "                         description='this is a sample batch endpoint',\n",
        "                         tags={'foo': 'bar'})\n",
        "                         \n",
        "ml_client.batch_endpoints.create_or_update(endpoint)"
      ]
    },
    {
      "cell_type": "code",
      "execution_count": null,
      "metadata": {
        "gather": {
          "logged": 1634854446905
        }
      },
      "outputs": [],
      "source": [
        "#create a batch deployment\n",
        "model = Model(local_path='./mnist/model/')\n",
        "env = Environment(conda_file='./mnist/environment/conda.yml', image='mcr.microsoft.com/azureml/openmpi3.1.2-ubuntu18.04:latest')\n",
        "deployment = BatchDeployment(name='non-mlflow-deployment',\n",
        "                             description='this is a sample non-mlflow deployment',\n",
        "                             endpoint_name='my-batch-endpoint',\n",
        "                             model=model,\n",
        "                             #code_configuration=CodeConfiguration(code_local_path='./mnist/code/', scoring_script='digit_identification.py'),\n",
        "                             code_local_path='./mnist/code/',\n",
        "                             scoring_script='digit_identification.py',\n",
        "                             environment=env,\n",
        "                             compute='batch-cluster',\n",
        "                             instant_count=2,\n",
        "                             max_concurrency_per_instance=2,\n",
        "                             mini_batch_size=10,\n",
        "                             output_action=BatchOutputAction.APPEND_ROW,\n",
        "                             output_file_name='predictions.csv',\n",
        "                             retry_settings=BatchRetrySettings(max_retries=3, timeout=30),\n",
        "                             logging_level=LoggingLevel.INFO)\n",
        "                             \n",
        "ml_client.batch_deployments.create_or_update(deployment, set_default=True) # set this to the default deployment for the endpoint"
      ]
    },
    {
      "cell_type": "code",
      "execution_count": null,
      "metadata": {},
      "outputs": [],
      "source": [
        "#invoke the endpoint for batch scoring job\n",
        "job = ml_client.batch_endpoints.invoke(name='my-batch-endpoint',\n",
        "                                        input_path={'folder': 'https://pipelinedata.blob.core.windows.net/sampledata/mnist'},\n",
        "                                        # input_path=UriReference(folder='https://pipelinedata.blob.core.windows.net/sampledata/mnist') # or using UriReference class\n",
        "                                        instance_count=4,\n",
        "                                        mini_batch_size=20)\n",
        "                                        \n",
        "job_name = job.name"
      ]
    },
    {
      "cell_type": "code",
      "execution_count": null,
      "metadata": {},
      "outputs": [],
      "source": [
        "#get the details of the job\n",
        "batch_job = ml_client.jobs.get(name=job_name)\n",
        "print(batch_job.status)\n",
        "#stream the job logs\n",
        "ml_client.jobs.stream(name=job_name)"
      ]
    }
  ],
  "metadata": {
    "interpreter": {
      "hash": "6407d64e10ce2bbca0b4c0db13afcc4d8f856d62941714d7dab3595b63436e00"
    },
    "kernel_info": {
      "name": "python3-azureml"
    },
    "kernelspec": {
      "display_name": "Python 3.6 - AzureML",
      "language": "python",
      "name": "python3"
    },
    "language_info": {
      "codemirror_mode": {
        "name": "ipython",
        "version": 3
      },
      "file_extension": ".py",
      "mimetype": "text/x-python",
      "name": "python",
      "nbconvert_exporter": "python",
      "pygments_lexer": "ipython3",
      "version": "3.9.4"
    },
    "nteract": {
      "version": "nteract-front-end@1.0.0"
    },
    "orig_nbformat": 4
  },
  "nbformat": 4,
  "nbformat_minor": 0
}
