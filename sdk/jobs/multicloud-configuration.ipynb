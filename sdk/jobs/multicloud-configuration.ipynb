{
 "cells": [
  {
   "cell_type": "markdown",
   "metadata": {},
   "source": [
    "# Configuration for Sovereign cloud\n",
    "\n",
    "_**Setting up your Azure Machine Learning services workspace for Sovereign cloud and configuring needed resources**_\n",
    "\n",
    "---\n",
    "---\n",
    "\n",
    "**Requirements** - In order to benefit from this tutorial, you will need:\n",
    "- A basic understanding of Machine Learning\n",
    "- An Azure account with an active subscription in Sovereign cloud \n",
    "- A python environment\n",
    "- Installed Azure Machine Learning Python SDK v2 - [install instructions](../README.md) - check the getting started section\n",
    "\n",
    "**Learning Objectives** - By the end of this tutorial, you should be able to:\n",
    "- Get a handle to the Azure subscription in sovereign cloud from the Python SDK using different auth credentials\n",
    "- List the workspaces in a resource group using MLClient\n",
    "\n",
    "**Motivations** - This notebook covers the scenario to perform Machine learning operations in Sovereign cloud."
   ]
  },
  {
   "cell_type": "markdown",
   "metadata": {},
   "source": [
    "\n",
    "\n",
    "# 1. Import the required libraries"
   ]
  },
  {
   "cell_type": "code",
   "execution_count": null,
   "metadata": {},
   "outputs": [],
   "source": [
    "# Import required libraries\n",
    "from azure.ai.ml import MLClient\n",
    "from azure.ai.ml.entities import Workspace"
   ]
  },
  {
   "cell_type": "markdown",
   "metadata": {},
   "source": [
    "# 2. Configure credential for a specific cloud\n",
    "\n",
    "We are using `DefaultAzureCredential` to get access to resources in Azure Subscription. When an access token is needed, it requests one using multiple identities(`EnvironmentCredential, ManagedIdentityCredential, SharedTokenCacheCredential, VisualStudioCodeCredential, AzureCliCredential, AzurePowerShellCredential`) in turn, stopping when one provides a token.\n",
    "Reference [here](https://docs.microsoft.com/python/api/azure-identity/azure.identity.defaultazurecredential?view=azure-python) for more information.\n",
    "\n",
    "`DefaultAzureCredential` should be capable of handling most Azure SDK authentication scenarios. \n",
    "Reference [here](https://docs.microsoft.com/python/api/azure-identity/azure.identity?view=azure-python) for all available credentials if it does not work for you.  "
   ]
  },
  {
   "cell_type": "code",
   "execution_count": null,
   "metadata": {},
   "outputs": [],
   "source": [
    "from azure.identity import AzureAuthorityHosts, DefaultAzureCredential\n",
    "\n",
    "# By default, the Azure libraries are configured to connect to the global Azure cloud.\n",
    "# When using DefaultAzureCredential in sovereign domains(that is, any cloud other than AZURE_PUBLIC_CLOUD),\n",
    "# you must specify the cloud by using the appropriate value from azure.identity.AzureAuthorityHosts\n",
    "\n",
    "try:\n",
    "    credential = DefaultAzureCredential(authority=AzureAuthorityHosts.AZURE_CHINA)\n",
    "    # Check if given credential can get token successfully.\n",
    "    credential.get_token(\"https://management.chinacloudapi.cn/.default\")\n",
    "except Exception as ex:\n",
    "    # Raise an exception\n",
    "    raise ex\n",
    "print(credential)"
   ]
  },
  {
   "cell_type": "markdown",
   "metadata": {},
   "source": [
    "# 3. Configure MLClient\n",
    "\n",
    "The [workspace](https://docs.microsoft.com/en-us/azure/machine-learning/concept-workspace) is the top-level resource for Azure Machine Learning, providing a centralized place to work with all the artifacts you create when you use Azure Machine Learning. In this section we will list all the workspace in the supplied resource group.\n",
    "\n",
    "To connect to Azure subscription, we need identifier parameters - a subscription and resource group for parameters in `MLClient`."
   ]
  },
  {
   "cell_type": "code",
   "execution_count": null,
   "metadata": {},
   "outputs": [],
   "source": [
    "# Enter details of your subscription\n",
    "subscription_id = \"<SUBSCRIPTION_ID>\"\n",
    "resource_group = \"<RESOURCE_GROUP>\"\n",
    "\n",
    "try:\n",
    "    # NOTE: cloud parameter is required in kwargs to signal mlclient to connect to the appropriate endpoints in Azure.\n",
    "    kwargs = {\"cloud\": \"AzureChinaCloud\"}\n",
    "    ml_client = MLClient(credential, subscription_id, resource_group, **kwargs)\n",
    "except Exception as ex:\n",
    "    # Raise an exception\n",
    "    raise ex\n",
    "\n",
    "print(ml_client)"
   ]
  },
  {
   "cell_type": "markdown",
   "metadata": {},
   "source": [
    "# Get a list of workspaces in a resource group\n",
    "The MLClient can now be used to retrieve a list of workspaces within a group as shown below."
   ]
  },
  {
   "cell_type": "code",
   "execution_count": null,
   "metadata": {},
   "outputs": [],
   "source": [
    "# Get a list of workspaces in a resource group\n",
    "for ws in ml_client.workspaces.list():\n",
    "    print(ws.name, \":\", ws.location, \":\", ws.description)"
   ]
  }
 ],
 "metadata": {
  "description": {
   "description": "Setting up your Azure Machine Learning services workspace and configuring needed resources"
  },
  "interpreter": {
   "hash": "3e9e0e270b75c5e6da2e22113ba4f77b864d68f95da6601809c29e46c73ae6bb"
  },
  "kernelspec": {
   "display_name": "Python 3.10 - SDK V2",
   "language": "python",
   "name": "python310-sdkv2"
  },
  "language_info": {
   "codemirror_mode": {
    "name": "ipython",
    "version": 3
   },
   "file_extension": ".py",
   "mimetype": "text/x-python",
   "name": "python",
   "nbconvert_exporter": "python",
   "pygments_lexer": "ipython3",
   "version": "3.8.13"
  }
 },
 "nbformat": 4,
 "nbformat_minor": 2
}
