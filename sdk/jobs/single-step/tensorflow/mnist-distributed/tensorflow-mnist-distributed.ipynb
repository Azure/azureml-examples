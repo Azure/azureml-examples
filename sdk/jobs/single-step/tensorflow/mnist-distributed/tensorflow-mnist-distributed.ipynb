{
 "cells": [
  {
   "cell_type": "code",
   "execution_count": null,
   "metadata": {
    "gather": {
     "logged": 1634855250896
    }
   },
   "outputs": [],
   "source": [
    "from azure.ml import MLClient\n",
    "from azure.ml.entities import CommandJob\n",
    "from azure.identity import InteractiveBrowserCredential"
   ]
  },
  {
   "cell_type": "code",
   "execution_count": null,
   "metadata": {
    "gather": {
     "logged": 1634855251071
    }
   },
   "outputs": [],
   "source": [
    "#Enter details of your AML workspace\n",
    "subscription_id = 'b17253fa-f327-42d6-9686-f3e553e24763'\n",
    "resource_group = 'testharnvir-local'\n",
    "workspace = 'diab-ws01'"
   ]
  },
  {
   "cell_type": "code",
   "execution_count": null,
   "metadata": {
    "gather": {
     "logged": 1634855251241
    }
   },
   "outputs": [],
   "source": [
    "#get a handle to the workspace\n",
    "ml_client = MLClient(InteractiveBrowserCredential(), subscription_id, resource_group, workspace)"
   ]
  },
  {
   "cell_type": "code",
   "execution_count": null,
   "metadata": {
    "gather": {
     "logged": 1634855420019
    }
   },
   "outputs": [],
   "source": [
    "#create the command job\n",
    "job = CommandJob(\n",
    "    code_local_path=\"./src\", #local path where the code is stored\n",
    "    command = \"python main.py --epochs ${{inputs.epochs}} --model-dir ${{inputs.model_dir}}\",\n",
    "    inputs={\"epochs\":1, \"model_dir\":\"outputs/keras-model\"},\n",
    "    environment = \"AzureML-tensorflow-2.4-ubuntu18.04-py37-cuda11-gpu:1\",\n",
    "    compute = \"cpu-cluster\",\n",
    "    instance_count=2,\n",
    "    # distribution = {\"distribution_type\": \"Mpi\", \"process_count_per_instance\": 1}, \n",
    "    distribution = {\n",
    "        \"distribution_type\": \"TensorFlow\",\n",
    "        \"parameter_server_count\": 1,\n",
    "        \"worker_count\": 2,\n",
    "        \"added_property\": 7,\n",
    "    },\n",
    "    # distribution = {\n",
    "    #        \"distribution_type\": \"PyTorch\",\n",
    "    #        \"process_count_per_instance\": 4,\n",
    "    #        \"additional_prop\": {\"nested_prop\": 3},\n",
    "    #    },\n",
    "    display_name = \"tensorflow-mnist-distributed-example\"\n",
    "    #experiment_name: tensorflow-mnist-distributed-example\n",
    "    #description: Train a basic neural network with TensorFlow on the MNIST dataset, distributed via TensorFlow.\n",
    ")"
   ]
  },
  {
   "cell_type": "code",
   "execution_count": null,
   "metadata": {
    "collapsed": false,
    "jupyter": {
     "outputs_hidden": false,
     "source_hidden": false
    },
    "nteract": {
     "transient": {
      "deleting": false
     }
    }
   },
   "outputs": [],
   "source": [
    "#submit the command job\n",
    "returned_job = ml_client.create_or_update(job)\n",
    "#get a URL for the status of the job\n",
    "returned_job.services[\"Studio\"].endpoint"
   ]
  },
  {
   "cell_type": "code",
   "execution_count": null,
   "metadata": {},
   "outputs": [],
   "source": []
  }
 ],
 "metadata": {
  "interpreter": {
   "hash": "45ee23ad53d8447c1a4a7f9f605254595f8ee53c2e1723e7948bbd485e96ca91"
  },
  "kernel_info": {
   "name": "python3-azureml"
  },
  "kernelspec": {
   "display_name": "Python 3",
   "language": "python",
   "name": "python3"
  },
  "language_info": {
   "codemirror_mode": {
    "name": "ipython",
    "version": 3
   },
   "file_extension": ".py",
   "mimetype": "text/x-python",
   "name": "python",
   "nbconvert_exporter": "python",
   "pygments_lexer": "ipython3",
   "version": "3.8.5"
  },
  "nteract": {
   "version": "nteract-front-end@1.0.0"
  }
 },
 "nbformat": 4,
 "nbformat_minor": 4
}
