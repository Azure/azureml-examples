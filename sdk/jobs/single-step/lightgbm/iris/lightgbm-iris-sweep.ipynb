{
 "cells": [
  {
   "cell_type": "markdown",
   "metadata": {},
   "source": [
    "# Run hyperparameter sweep on a CommandJob or CommandComponent\n",
    "\n",
    "**Requirements** - In order to benefit from this tutorial, you will need:\n",
    "- A basic understanding of Machine Learning\n",
    "- An Azure account with an active subscription. [Create an account for free](https://azure.microsoft.com/free/?WT.mc_id=A261C142F)\n",
    "- An Azure ML workspace. [Check this notebook for creating a workspace](/sdk/resources/workspace/workspace.ipynb) \n",
    "- A Compute Cluster. [Check this notebook to create a compute cluster](/sdk/resources/compute/compute.ipynb)\n",
    "- A python environment\n",
    "- Installed Azure Machine Learning Python SDK v2 - [install instructions](/sdk/README.md#getting-started)\n",
    "\n",
    "**Learning Objectives** - By the end of this tutorial, you should be able to:\n",
    "- Create and run a `CommandJob` from Python SDK.\n",
    "- Use the `SweepJob ` to run a hyperparameter sweep on this CommandJob\n",
    "- Create a `CommandComponent` from Python SDK.\n",
    "- Use the `SweepJob ` to run a hyperparameter sweep on the CommandComponent.\n",
    "\n",
    "**Motivations** - This example explains how Azure Machine Learning lets you automate hyperparameter tuning using the SweepJob to efficiently optimize hyperparameters. Hyperparameters are adjustable parameters that let you control the model training process. Hyperparameter tuning, also called hyperparameter optimization, is the process of finding the configuration of hyperparameters that results in the best performance. "
   ]
  },
  {
   "cell_type": "markdown",
   "metadata": {},
   "source": [
    "# 1. Connect to Azure Machine Learning Workspace\n",
    "\n",
    "The [workspace](https://docs.microsoft.com/en-us/azure/machine-learning/concept-workspace) is the top-level resource for Azure Machine Learning, providing a centralized place to work with all the artifacts you create when you use Azure Machine Learning. In this section we will connect to the workspace in which the job will be run.\n",
    "\n",
    "## 1.1. Import the required libraries"
   ]
  },
  {
   "cell_type": "code",
   "execution_count": 1,
   "metadata": {},
   "outputs": [],
   "source": [
    "#import required libraries\n",
    "from azure.ml import MLClient\n",
    "from azure.ml import command, NumberInput, StringInput\n",
    "from azure.ml.entities import Choice, Uniform, MedianStoppingPolicy, JobInput\n",
    "from azure.identity import InteractiveBrowserCredential"
   ]
  },
  {
   "cell_type": "markdown",
   "metadata": {},
   "source": [
    "## 1.2. Configure workspace details and get a handle to the workspace\n",
    "\n",
    "To connect to a workspace, we need identifier parameters - a subscription, resource group and workspace name. We will use these details in the `MLClient` from `azure.ml` to get a handle to the required Azure Machine Learning workspace. We use the default [interactive authentication](https://docs.microsoft.com/en-us/python/api/azure-identity/azure.identity.interactivebrowsercredential?view=azure-python) for this tutorial. More advanced connection methods can be found [here](https://docs.microsoft.com/en-us/python/api/azure-identity/azure.identity?view=azure-python)."
   ]
  },
  {
   "cell_type": "code",
   "execution_count": 2,
   "metadata": {},
   "outputs": [],
   "source": [
    "#Enter details of your AML workspace\n",
    "subscription_id = 'd128f140-94e6-4175-87a7-954b9d27db16'\n",
    "resource_group = 'ragargeastus2euap'\n",
    "workspace = 'hanchi-test2'"
   ]
  },
  {
   "cell_type": "code",
   "execution_count": 3,
   "metadata": {},
   "outputs": [],
   "source": [
    "#get a handle to the workspace\n",
    "ml_client = MLClient(InteractiveBrowserCredential(), subscription_id, resource_group, workspace)"
   ]
  },
  {
   "cell_type": "markdown",
   "metadata": {},
   "source": [
    "# 2. Configure and run the CommandJob\n",
    "In this section we will configure and run the CommandJob\n",
    "\n",
    "## 2.1 Configure the CommandJob\n",
    "The `CommandJob` allows user to configure the following key aspects.\n",
    "- `code` - This is the path where the code to run the command is located\n",
    "- `command` - This is the command that needs to be run\n",
    "- `inputs` - This is the dictionary of inputs using name value pairs to the CommandJob. The key is a name for the input within the context of the job and the value is the input value. Inputs can be referenced in the `command` using the `${{inputs.<input_name>}}` expression. To use files or folders as inputs, we can use the `JobInput` class. The `JobInput` class supports three parameters:\n",
    "    - `type` - The type of input. This can be a `uri_file` or `uri_folder`. The default is `uri_folder`.         \n",
    "    - `path` - The path to the file or folder. These can be local or remote files or folders. For remote files - http/https, wasb are supported. \n",
    "        - Azure ML `data`/`dataset` or `datastore` are of type `uri_folder`. To use `data`/`dataset` as input, you can use registered dataset in the workspace using the format '<data_name>:<version>'. For e.g JobInput(type='uri_folder', path='my_dataset:1')\n",
    "    - `mode` - \tMode of how the data should be delivered to the compute target. Allowed values are `ro_mount`, `rw_mount` and `download`. Default is `ro_mount`\n",
    "- `environment` - This is the environment needed for the command to run. Curated or custom environments from the workspace can be used. Or a custom environment can be created and used as well. Check out the [environment](/sdk/assets/environment/environment.ipynb) notebook for more examples.\n",
    "- `compute` - The compute on which the CommandJob will run. In this example we are using a compute called `cpu-cluster` present in the workspace. You can replace it any other compute in the workspace. You can run it on the local machine by using `local` for the compute. This will run the CommandJob on the local machine and all the run details and output of the job will be uploaded to the Azure ML workspace.\n",
    "- `distribution` - Distribution configuration for distributed training scenarios. Azure Machine Learning supports PyTorch, TensorFlow, and MPI-based distributed training. The allowed values are `PyTorch`, `TensorFlow` or `Mpi`.\n",
    "- `display_name` - The display name of the Job\n",
    "- `description` - The description of the experiment"
   ]
  },
  {
   "cell_type": "code",
   "execution_count": 4,
   "metadata": {},
   "outputs": [],
   "source": [
    "#define the command job\n",
    "command_job=command(\n",
    "    code='./src',\n",
    "    command = 'python main.py --iris-csv ${{inputs.iris_csv}} --learning-rate ${{inputs.learning_rate}} --boosting ${{inputs.boosting}}',\n",
    "    environment='AzureML-lightgbm-3.2-ubuntu18.04-py37-cpu@latest',\n",
    "    inputs={'iris_csv':JobInput(type='uri_file', path='https://azuremlexamples.blob.core.windows.net/datasets/iris.csv'),'learning_rate': 0.9, 'boosting': 'gbdt'},\n",
    "    compute='cpu-cluster',\n",
    "    display_name='lightgbm-iris-example',\n",
    "    experiment_name='lightgbm-iris-example',\n",
    "    description='Train a LightGBM model on the Iris dataset.'\n",
    ")"
   ]
  },
  {
   "cell_type": "markdown",
   "metadata": {},
   "source": [
    "## 2.2 Run the CommandJob\n",
    "Using the `MLClient` created earlier, we will now run this CommandJob in the workspace."
   ]
  },
  {
   "cell_type": "code",
   "execution_count": 11,
   "metadata": {},
   "outputs": [
    {
     "name": "stderr",
     "output_type": "stream",
     "text": [
      "\u001b[32mUploading src (0.01 MBs): 100%|##############################################################################################################################################| 5869/5869 [00:00<00:00, 15338.85it/s]\u001b[0m\n",
      "\u001b[39m\n",
      "\n",
      "additional_properties is not a known attribute of class <class 'azure.ml._restclient.v2021_10_01.models._models_py3.CommandJobLimits'> and will be ignored\n"
     ]
    },
    {
     "data": {
      "text/plain": [
       "'https://ml.azure.com/runs/635c5cbf-6a31-40b1-aee7-710aa99ae7ff?wsid=/subscriptions/d128f140-94e6-4175-87a7-954b9d27db16/resourcegroups/ragargeastus2euap/workspaces/hanchi-test2&tid=72f988bf-86f1-41af-91ab-2d7cd011db47'"
      ]
     },
     "execution_count": 11,
     "metadata": {},
     "output_type": "execute_result"
    }
   ],
   "source": [
    "#submit the command job\n",
    "returned_job = ml_client.create_or_update(command_job)\n",
    "#get a URL for the status of the job\n",
    "returned_job.studio_url"
   ]
  },
  {
   "cell_type": "markdown",
   "metadata": {},
   "source": [
    "# 3.  Run a sweep on this command job\n",
    "Hyperparameters are adjustable parameters that let you control the model training process. Hyperparameter tuning, also called hyperparameter optimization, is the process of finding the configuration of hyperparameters that results in the best performance. Azure Machine Learning provides the `SweepJob` to do hyperparameter tuning. To start with let us understand 2 concepts\n",
    "\n",
    "* **Trial Job** - This is the job that needs to be optimized. The SweepJob will run this job several times using a set of parameters so that it can be tuned. The set of parameters is defined in the search space\n",
    "* **Search Space** - The `search space` is a set of hyperparameters. Each of these parameters can have a discrete or continuos value. The SweepJob will run the `trial` job template multiple times using different combination of hyperparameter values as specified in the `search space`. \n",
    "\n",
    "The Azure Machine Learning `SweepJob` allows user to configure the following key aspects:\n",
    "- `search_space` - Dictionary of name value pairs to define the hyperparameter search space. The key is the name of the hyperparameter and the value is the parameter expression. Parameters provided in search space will override parameters provided as inputs within the command job itself. Hyperparameters can be referenced in the `trial.command` using the ${{search_space.<hyperparameter>}} expression. \n",
    "- `sampling_algorithm`- The hyperparameter sampling algorithm to use over the search_space. Allowed values are `random`, `grid` and `bayesian`.\n",
    "- `objective` - the objective of the sweep\n",
    "  - `primary_metric` - The name of the primary metric reported by each trial job. The metric must be logged in the user's training script using `mlflow.log_metric()` with the same corresponding metric name.\n",
    "  - `goal` - The optimization goal of the objective.primary_metric. The allowed values are `maximize` and `minimize`.\n",
    "- `compute` - Name of the compute target to execute the job on.\n",
    "- `inputs` - This is the dictionary of inputs using name value pairs to the SweepJob. The key is a name for the input within the context of the job and the value is the input value. Inputs can be referenced in the `command` using the `${{inputs.<input_name>}}` expression. \n",
    "- `limits` - Limits for the sweep job\n",
    "\n",
    "## 3.1 Define search_space and limits\n",
    "We will now define the search space and limits for the sweep job. Please note that Parameters provided in search space will override parameters provided as inputs within the command job itself."
   ]
  },
  {
   "cell_type": "code",
   "execution_count": 5,
   "metadata": {},
   "outputs": [],
   "source": [
    "# we are using the command_job above again by applying it inputs via calling it as a function\n",
    "# note that we do not apply the 'iris_csv' input again -- that way the prior input from above will be used again\n",
    "command_job_for_sweep = command_job(learning_rate=Uniform(min_value=0.01, max_value=0.9), \n",
    "                                    boosting=Choice(values=['gbdt', 'dart']))\n"
   ]
  },
  {
   "cell_type": "markdown",
   "metadata": {},
   "source": [
    "## 3.2 Define the SweepJob \n",
    "We will now define the sweep job. In this example we configure the sweep job with `trial`, `search_space`, `sampling_algorithm`, `objective`, `limits` and `compute`.\n",
    "\n",
    "We will use the `command_job` created earlier as the `trial` for this `SweepJob`."
   ]
  },
  {
   "cell_type": "code",
   "execution_count": 12,
   "metadata": {},
   "outputs": [],
   "source": [
    "# apply the sweep parameter to obtain the sweep_job\n",
    "sweep_job = command_job_for_sweep.sweep(\n",
    "    compute='cpu-cluster',\n",
    "    sampling_algorithm='random',\n",
    "    primary_metric='test-multi_logloss',\n",
    "    goal='Minimize'\n",
    ")\n",
    "sweep_job.display_name = \"lightgbm-iris-sweep-example\"\n",
    "sweep_job.experiment_name = \"lightgbm-iris-sweep-example\"\n",
    "sweep_job.description = \"Run a hyperparameter sweep job for LightGBM on Iris dataset.\"\n",
    "\n",
    "#define the limits for this sweep\n",
    "sweep_job.set_limits(max_total_trials=20, max_concurrent_trials=10, timeout=7200)"
   ]
  },
  {
   "cell_type": "markdown",
   "metadata": {},
   "source": [
    "## 3.3 Run the SweepJob\n",
    "Using the `MLClient` created earlier, we will now run this SweepJob in the workspace."
   ]
  },
  {
   "cell_type": "code",
   "execution_count": 13,
   "metadata": {},
   "outputs": [
    {
     "name": "stdout",
     "output_type": "stream",
     "text": [
      "luigiw: None\n"
     ]
    },
    {
     "name": "stderr",
     "output_type": "stream",
     "text": [
      "additional_properties is not a known attribute of class <class 'azure.ml._restclient.v2021_10_01.models._models_py3.SweepJobLimits'> and will be ignored\n",
      "additional_properties is not a known attribute of class <class 'azure.ml._restclient.v2022_02_01_preview.models._models_py3.Objective'> and will be ignored\n"
     ]
    },
    {
     "data": {
      "text/plain": [
       "'https://ml.azure.com/runs/a6cf3409-29a9-4777-a985-e7dba8d455a8?wsid=/subscriptions/d128f140-94e6-4175-87a7-954b9d27db16/resourcegroups/ragargeastus2euap/workspaces/hanchi-test2&tid=72f988bf-86f1-41af-91ab-2d7cd011db47'"
      ]
     },
     "execution_count": 13,
     "metadata": {},
     "output_type": "execute_result"
    }
   ],
   "source": [
    "#submit the sweep job\n",
    "returned_sweep_job = ml_client.create_or_update(sweep_job)\n",
    "#get a URL for the status of the job\n",
    "returned_sweep_job.studio_url"
   ]
  },
  {
   "cell_type": "markdown",
   "metadata": {},
   "source": [
    "# 4. Run a sweep on a Command Component\n",
    "An Azure Machine Learning [component](https://docs.microsoft.com/en-us/azure/machine-learning/concept-component) is a self-contained piece of code that performs a step in a machine learning job or pipeline. Components can do tasks such as data processing, model training, model scoring, and so on. A component is analogous to a function - it has a name, parameters, expects input, and returns output. This makes them very useful to reuse code/functionality.\n",
    "\n",
    "# 4.1 Create reusable component\n",
    "Let us create a component to perform the same functionality of the `command_job` we created earlier. A component allows user to define the following key parameters:\n",
    "- `command` - The command to execute\n",
    "- `code` - Local path to the source code directory to be uploaded and used for the component.\n",
    "- `environment` - The environment to use for the component. This can be either a reference to an existing versioned environment in the workspace or an inline environment specification.\n",
    "- `inputs` - This is the dictionary of inputs using name value pairs to the CommandComponent. Inputs can be referenced in the `command` using the `${{inputs.<input_name>}}` expression.\n",
    "- `instance_count` - The number of nodes to use for the component\n",
    "- `name` - Name of the component\n",
    "- `version` - Version of the component\n",
    "- `distribution` - The distribution configuration for distributed training scenarios. Allowed values are `Pytorch`, `Mpi`, or `TensorFlow`."
   ]
  },
  {
   "cell_type": "code",
   "execution_count": 15,
   "metadata": {},
   "outputs": [],
   "source": [
    "#define the command component -- this is the same as the command job above, only no compute is specified and no values but type infomation is provided as inputs\n",
    "command_component=command(\n",
    "    code='./src',\n",
    "    command = 'python main.py --iris-csv ${{inputs.iris_csv}} --learning-rate ${{inputs.learning_rate}} --boosting ${{inputs.boosting}}',\n",
    "    environment='AzureML-lightgbm-3.2-ubuntu18.04-py37-cpu@latest',\n",
    "    inputs={'iris_csv':JobInput(type='uri_file'),'learning_rate': 0.9, 'boosting': 'gbdt'},\n",
    "    display_name='lightgbm-iris-example',\n",
    "    experiment_name='lightgbm-iris-example',\n",
    "    description='Train a LightGBM model on the Iris dataset.'\n",
    ")"
   ]
  },
  {
   "cell_type": "markdown",
   "metadata": {},
   "source": [
    "## 4.2 Define the SweepJob \n",
    "We will now define the sweep job. In this example we configure the sweep job with `trial`, `search_space`, `sampling_algorithm`, `objective`, `limits` and `compute`.\n",
    "\n",
    "We will use the `trial_component` created earlier as the `trial` for this `SweepJob`."
   ]
  },
  {
   "cell_type": "code",
   "execution_count": 21,
   "metadata": {},
   "outputs": [],
   "source": [
    "# run sweep using this component\n",
    "# this time we will provide in input for iris_csv since no default was provide at compnent definition\n",
    "command_job_for_sweep = command_job(learning_rate=Uniform(min_value=0.01, max_value=0.9), \n",
    "                                    boosting=Choice(values=['gbdt', 'dart']),\n",
    "                                    iris_csv= JobInput(type='uri_file', path='wasbs://datasets@azuremlexamples.blob.core.windows.net/iris.csv',mode='rw_mount'))\n",
    "\n",
    "# this is the same as above\n",
    "cmd_sweep_job = command_job_for_sweep.sweep(\n",
    "    compute='cpu-cluster',\n",
    "    sampling_algorithm='random',\n",
    "    primary_metric='test-multi_logloss',\n",
    "    goal='Minimize'\n",
    ")\n",
    "\n",
    "sweep_job.display_name = \"lightgbm-iris-sweep-example\"\n",
    "sweep_job.experiment_name = \"lightgbm-iris-sweep-example\"\n",
    "sweep_job.description = \"Run a hyperparameter sweep job for LightGBM on Iris dataset.\"\n",
    "\n",
    "#define the limits for this sweep\n",
    "sweep_job.set_limits(max_total_trials=20, max_concurrent_trials=10, timeout=7200)\n",
    "\n",
    "# set early stopping on this one\n",
    "sweep_job.early_termination = MedianStoppingPolicy(delay_evaluation=5, evaluation_interval= 2)"
   ]
  },
  {
   "cell_type": "markdown",
   "metadata": {},
   "source": [
    "## 4.3 Run the SweepJob\n",
    "Using the `MLClient` created earlier, we will now run this SweepJob in the workspace."
   ]
  },
  {
   "cell_type": "code",
   "execution_count": 22,
   "metadata": {},
   "outputs": [
    {
     "name": "stdout",
     "output_type": "stream",
     "text": [
      "luigiw: None\n"
     ]
    },
    {
     "name": "stderr",
     "output_type": "stream",
     "text": [
      "additional_properties is not a known attribute of class <class 'azure.ml._restclient.v2021_10_01.models._models_py3.SweepJobLimits'> and will be ignored\n",
      "additional_properties is not a known attribute of class <class 'azure.ml._restclient.v2022_02_01_preview.models._models_py3.Objective'> and will be ignored\n"
     ]
    },
    {
     "ename": "HttpResponseError",
     "evalue": "(UserError) A job with this name already exists. If you are trying to create a new job, use a different name. If you are trying to update an existing job, the existing job's data bindings, parameter sampling algorithm, max concurrent trials, timeout, max total trials cannot be changed. Only description, tags, displayName, properties, and isArchived can be updated.\nCode: UserError\nMessage: A job with this name already exists. If you are trying to create a new job, use a different name. If you are trying to update an existing job, the existing job's data bindings, parameter sampling algorithm, max concurrent trials, timeout, max total trials cannot be changed. Only description, tags, displayName, properties, and isArchived can be updated.\nAdditional Information:Type: ComponentName\nInfo: {\n    \"value\": \"managementfrontend\"\n}Type: Correlation\nInfo: {\n    \"value\": {\n        \"operation\": \"db0a7a2ecf0bc444be4c232082806681\",\n        \"request\": \"c2d49ce2e4d2230f\"\n    }\n}Type: Environment\nInfo: {\n    \"value\": \"eastus2euap\"\n}Type: Location\nInfo: {\n    \"value\": \"eastus2euap\"\n}Type: Time\nInfo: {\n    \"value\": \"2022-04-06T21:13:21.8404337+00:00\"\n}Type: InnerError\nInfo: {\n    \"value\": {\n        \"code\": \"Immutable\",\n        \"innerError\": {\n            \"code\": \"JobPropertyImmutable\",\n            \"innerError\": null\n        }\n    }\n}Type: MessageFormat\nInfo: {\n    \"value\": \"A job with this name already exists. If you are trying to create a new job, use a different name. If you are trying to update an existing job, the existing job's{property} cannot be changed. Only description, tags, displayName, properties, and isArchived can be updated.\"\n}Type: MessageParameters\nInfo: {\n    \"value\": {\n        \"property\": \" data bindings, parameter sampling algorithm, max concurrent trials, timeout, max total trials\"\n    }\n}",
     "output_type": "error",
     "traceback": [
      "\u001b[1;31m---------------------------------------------------------------------------\u001b[0m",
      "\u001b[1;31mHttpResponseError\u001b[0m                         Traceback (most recent call last)",
      "\u001b[1;32m<ipython-input-22-7ff8376d5b82>\u001b[0m in \u001b[0;36m<module>\u001b[1;34m\u001b[0m\n\u001b[0;32m      1\u001b[0m \u001b[1;31m#submit the sweep job\u001b[0m\u001b[1;33m\u001b[0m\u001b[1;33m\u001b[0m\u001b[1;33m\u001b[0m\u001b[0m\n\u001b[1;32m----> 2\u001b[1;33m \u001b[0mreturned_sweep_job_cmd\u001b[0m \u001b[1;33m=\u001b[0m \u001b[0mml_client\u001b[0m\u001b[1;33m.\u001b[0m\u001b[0mjobs\u001b[0m\u001b[1;33m.\u001b[0m\u001b[0mcreate_or_update\u001b[0m\u001b[1;33m(\u001b[0m\u001b[0mcmd_sweep_job\u001b[0m\u001b[1;33m)\u001b[0m\u001b[1;33m\u001b[0m\u001b[1;33m\u001b[0m\u001b[0m\n\u001b[0m\u001b[0;32m      3\u001b[0m \u001b[1;31m#get a URL for the status of the job\u001b[0m\u001b[1;33m\u001b[0m\u001b[1;33m\u001b[0m\u001b[1;33m\u001b[0m\u001b[0m\n\u001b[0;32m      4\u001b[0m \u001b[0mreturned_sweep_job_cmd\u001b[0m\u001b[1;33m.\u001b[0m\u001b[0mservices\u001b[0m\u001b[1;33m[\u001b[0m\u001b[1;34m\"Studio\"\u001b[0m\u001b[1;33m]\u001b[0m\u001b[1;33m.\u001b[0m\u001b[0mendpoint\u001b[0m\u001b[1;33m\u001b[0m\u001b[1;33m\u001b[0m\u001b[0m\n",
      "\u001b[1;32md:\\code\\sdk-cli-v2\\src\\azure-ml\\azure\\ml\\_telemetry\\activity.py\u001b[0m in \u001b[0;36mwrapper\u001b[1;34m(*args, **kwargs)\u001b[0m\n\u001b[0;32m    158\u001b[0m         \u001b[1;32mdef\u001b[0m \u001b[0mwrapper\u001b[0m\u001b[1;33m(\u001b[0m\u001b[1;33m*\u001b[0m\u001b[0margs\u001b[0m\u001b[1;33m,\u001b[0m \u001b[1;33m**\u001b[0m\u001b[0mkwargs\u001b[0m\u001b[1;33m)\u001b[0m\u001b[1;33m:\u001b[0m\u001b[1;33m\u001b[0m\u001b[1;33m\u001b[0m\u001b[0m\n\u001b[0;32m    159\u001b[0m             \u001b[1;32mwith\u001b[0m \u001b[0mlog_activity\u001b[0m\u001b[1;33m(\u001b[0m\u001b[0mlogger\u001b[0m\u001b[1;33m,\u001b[0m \u001b[0mactivity_name\u001b[0m \u001b[1;32mor\u001b[0m \u001b[0mf\u001b[0m\u001b[1;33m.\u001b[0m\u001b[0m__name__\u001b[0m\u001b[1;33m,\u001b[0m \u001b[0mactivity_type\u001b[0m\u001b[1;33m,\u001b[0m \u001b[0mcustom_dimensions\u001b[0m\u001b[1;33m)\u001b[0m\u001b[1;33m:\u001b[0m\u001b[1;33m\u001b[0m\u001b[1;33m\u001b[0m\u001b[0m\n\u001b[1;32m--> 160\u001b[1;33m                 \u001b[1;32mreturn\u001b[0m \u001b[0mf\u001b[0m\u001b[1;33m(\u001b[0m\u001b[1;33m*\u001b[0m\u001b[0margs\u001b[0m\u001b[1;33m,\u001b[0m \u001b[1;33m**\u001b[0m\u001b[0mkwargs\u001b[0m\u001b[1;33m)\u001b[0m\u001b[1;33m\u001b[0m\u001b[1;33m\u001b[0m\u001b[0m\n\u001b[0m\u001b[0;32m    161\u001b[0m \u001b[1;33m\u001b[0m\u001b[0m\n\u001b[0;32m    162\u001b[0m         \u001b[1;32mreturn\u001b[0m \u001b[0mwrapper\u001b[0m\u001b[1;33m\u001b[0m\u001b[1;33m\u001b[0m\u001b[0m\n",
      "\u001b[1;32md:\\code\\sdk-cli-v2\\src\\azure-ml\\azure\\ml\\_operations\\job_operations.py\u001b[0m in \u001b[0;36mcreate_or_update\u001b[1;34m(self, job, description, compute, tags, experiment_name, **kwargs)\u001b[0m\n\u001b[0;32m    270\u001b[0m         ):\n\u001b[0;32m    271\u001b[0m             \u001b[0mself\u001b[0m\u001b[1;33m.\u001b[0m\u001b[0m_set_headers_with_user_aml_token\u001b[0m\u001b[1;33m(\u001b[0m\u001b[0mkwargs\u001b[0m\u001b[1;33m)\u001b[0m\u001b[1;33m\u001b[0m\u001b[1;33m\u001b[0m\u001b[0m\n\u001b[1;32m--> 272\u001b[1;33m         result = self._operation_2022_02_preview.create_or_update(\n\u001b[0m\u001b[0;32m    273\u001b[0m             \u001b[0mid\u001b[0m\u001b[1;33m=\u001b[0m\u001b[0mrest_job_resource\u001b[0m\u001b[1;33m.\u001b[0m\u001b[0mname\u001b[0m\u001b[1;33m,\u001b[0m  \u001b[1;31m# type: ignore\u001b[0m\u001b[1;33m\u001b[0m\u001b[1;33m\u001b[0m\u001b[0m\n\u001b[0;32m    274\u001b[0m             \u001b[0mresource_group_name\u001b[0m\u001b[1;33m=\u001b[0m\u001b[0mself\u001b[0m\u001b[1;33m.\u001b[0m\u001b[0m_operation_scope\u001b[0m\u001b[1;33m.\u001b[0m\u001b[0mresource_group_name\u001b[0m\u001b[1;33m,\u001b[0m\u001b[1;33m\u001b[0m\u001b[1;33m\u001b[0m\u001b[0m\n",
      "\u001b[1;32m~\\Miniconda3\\envs\\v2-local\\lib\\site-packages\\azure\\core\\tracing\\decorator.py\u001b[0m in \u001b[0;36mwrapper_use_tracer\u001b[1;34m(*args, **kwargs)\u001b[0m\n\u001b[0;32m     81\u001b[0m             \u001b[0mspan_impl_type\u001b[0m \u001b[1;33m=\u001b[0m \u001b[0msettings\u001b[0m\u001b[1;33m.\u001b[0m\u001b[0mtracing_implementation\u001b[0m\u001b[1;33m(\u001b[0m\u001b[1;33m)\u001b[0m\u001b[1;33m\u001b[0m\u001b[1;33m\u001b[0m\u001b[0m\n\u001b[0;32m     82\u001b[0m             \u001b[1;32mif\u001b[0m \u001b[0mspan_impl_type\u001b[0m \u001b[1;32mis\u001b[0m \u001b[1;32mNone\u001b[0m\u001b[1;33m:\u001b[0m\u001b[1;33m\u001b[0m\u001b[1;33m\u001b[0m\u001b[0m\n\u001b[1;32m---> 83\u001b[1;33m                 \u001b[1;32mreturn\u001b[0m \u001b[0mfunc\u001b[0m\u001b[1;33m(\u001b[0m\u001b[1;33m*\u001b[0m\u001b[0margs\u001b[0m\u001b[1;33m,\u001b[0m \u001b[1;33m**\u001b[0m\u001b[0mkwargs\u001b[0m\u001b[1;33m)\u001b[0m\u001b[1;33m\u001b[0m\u001b[1;33m\u001b[0m\u001b[0m\n\u001b[0m\u001b[0;32m     84\u001b[0m \u001b[1;33m\u001b[0m\u001b[0m\n\u001b[0;32m     85\u001b[0m             \u001b[1;31m# Merge span is parameter is set, but only if no explicit parent are passed\u001b[0m\u001b[1;33m\u001b[0m\u001b[1;33m\u001b[0m\u001b[1;33m\u001b[0m\u001b[0m\n",
      "\u001b[1;32md:\\code\\sdk-cli-v2\\src\\azure-ml\\azure\\ml\\_restclient\\v2022_02_01_preview\\operations\\_jobs_operations.py\u001b[0m in \u001b[0;36mcreate_or_update\u001b[1;34m(self, resource_group_name, workspace_name, id, body, **kwargs)\u001b[0m\n\u001b[0;32m    587\u001b[0m             \u001b[0mmap_error\u001b[0m\u001b[1;33m(\u001b[0m\u001b[0mstatus_code\u001b[0m\u001b[1;33m=\u001b[0m\u001b[0mresponse\u001b[0m\u001b[1;33m.\u001b[0m\u001b[0mstatus_code\u001b[0m\u001b[1;33m,\u001b[0m \u001b[0mresponse\u001b[0m\u001b[1;33m=\u001b[0m\u001b[0mresponse\u001b[0m\u001b[1;33m,\u001b[0m \u001b[0merror_map\u001b[0m\u001b[1;33m=\u001b[0m\u001b[0merror_map\u001b[0m\u001b[1;33m)\u001b[0m\u001b[1;33m\u001b[0m\u001b[1;33m\u001b[0m\u001b[0m\n\u001b[0;32m    588\u001b[0m             \u001b[0merror\u001b[0m \u001b[1;33m=\u001b[0m \u001b[0mself\u001b[0m\u001b[1;33m.\u001b[0m\u001b[0m_deserialize\u001b[0m\u001b[1;33m.\u001b[0m\u001b[0mfailsafe_deserialize\u001b[0m\u001b[1;33m(\u001b[0m\u001b[0m_models\u001b[0m\u001b[1;33m.\u001b[0m\u001b[0mErrorResponse\u001b[0m\u001b[1;33m,\u001b[0m \u001b[0mpipeline_response\u001b[0m\u001b[1;33m)\u001b[0m\u001b[1;33m\u001b[0m\u001b[1;33m\u001b[0m\u001b[0m\n\u001b[1;32m--> 589\u001b[1;33m             \u001b[1;32mraise\u001b[0m \u001b[0mHttpResponseError\u001b[0m\u001b[1;33m(\u001b[0m\u001b[0mresponse\u001b[0m\u001b[1;33m=\u001b[0m\u001b[0mresponse\u001b[0m\u001b[1;33m,\u001b[0m \u001b[0mmodel\u001b[0m\u001b[1;33m=\u001b[0m\u001b[0merror\u001b[0m\u001b[1;33m,\u001b[0m \u001b[0merror_format\u001b[0m\u001b[1;33m=\u001b[0m\u001b[0mARMErrorFormat\u001b[0m\u001b[1;33m)\u001b[0m\u001b[1;33m\u001b[0m\u001b[1;33m\u001b[0m\u001b[0m\n\u001b[0m\u001b[0;32m    590\u001b[0m \u001b[1;33m\u001b[0m\u001b[0m\n\u001b[0;32m    591\u001b[0m         \u001b[1;32mif\u001b[0m \u001b[0mresponse\u001b[0m\u001b[1;33m.\u001b[0m\u001b[0mstatus_code\u001b[0m \u001b[1;33m==\u001b[0m \u001b[1;36m200\u001b[0m\u001b[1;33m:\u001b[0m\u001b[1;33m\u001b[0m\u001b[1;33m\u001b[0m\u001b[0m\n",
      "\u001b[1;31mHttpResponseError\u001b[0m: (UserError) A job with this name already exists. If you are trying to create a new job, use a different name. If you are trying to update an existing job, the existing job's data bindings, parameter sampling algorithm, max concurrent trials, timeout, max total trials cannot be changed. Only description, tags, displayName, properties, and isArchived can be updated.\nCode: UserError\nMessage: A job with this name already exists. If you are trying to create a new job, use a different name. If you are trying to update an existing job, the existing job's data bindings, parameter sampling algorithm, max concurrent trials, timeout, max total trials cannot be changed. Only description, tags, displayName, properties, and isArchived can be updated.\nAdditional Information:Type: ComponentName\nInfo: {\n    \"value\": \"managementfrontend\"\n}Type: Correlation\nInfo: {\n    \"value\": {\n        \"operation\": \"db0a7a2ecf0bc444be4c232082806681\",\n        \"request\": \"c2d49ce2e4d2230f\"\n    }\n}Type: Environment\nInfo: {\n    \"value\": \"eastus2euap\"\n}Type: Location\nInfo: {\n    \"value\": \"eastus2euap\"\n}Type: Time\nInfo: {\n    \"value\": \"2022-04-06T21:13:21.8404337+00:00\"\n}Type: InnerError\nInfo: {\n    \"value\": {\n        \"code\": \"Immutable\",\n        \"innerError\": {\n            \"code\": \"JobPropertyImmutable\",\n            \"innerError\": null\n        }\n    }\n}Type: MessageFormat\nInfo: {\n    \"value\": \"A job with this name already exists. If you are trying to create a new job, use a different name. If you are trying to update an existing job, the existing job's{property} cannot be changed. Only description, tags, displayName, properties, and isArchived can be updated.\"\n}Type: MessageParameters\nInfo: {\n    \"value\": {\n        \"property\": \" data bindings, parameter sampling algorithm, max concurrent trials, timeout, max total trials\"\n    }\n}"
     ]
    }
   ],
   "source": [
    "#submit the sweep job\n",
    "returned_sweep_job_cmd = ml_client.jobs.create_or_update(cmd_sweep_job)\n",
    "#get a URL for the status of the job\n",
    "returned_sweep_job_cmd.studio_url"
   ]
  },
  {
   "cell_type": "markdown",
   "metadata": {},
   "source": [
    "# Next Steps\n",
    "You can see further examples of running a job [here](/sdk/jobs/single-step/)"
   ]
  },
  {
   "cell_type": "markdown",
   "metadata": {},
   "source": []
  }
 ],
 "metadata": {
  "description": {
   "description": "Run **hyperparameter sweep** on a CommandJob or CommandComponent"
  },
  "interpreter": {
   "hash": "66962d4c952b5ba37638a017d6cc83bab37d76f69b13c17d86b9f71233a0aa71"
  },
  "kernelspec": {
   "display_name": "Python 3",
   "language": "python",
   "name": "python3"
  },
  "language_info": {
   "codemirror_mode": {
    "name": "ipython",
    "version": 3
   },
   "file_extension": ".py",
   "mimetype": "text/x-python",
   "name": "python",
   "nbconvert_exporter": "python",
   "pygments_lexer": "ipython3",
   "version": "3.8.5"
  }
 },
 "nbformat": 4,
 "nbformat_minor": 4
}
