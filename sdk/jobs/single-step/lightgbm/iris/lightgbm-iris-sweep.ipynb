{
 "cells": [
  {
   "cell_type": "markdown",
   "metadata": {},
   "source": [
    "# Run hyperparameter sweep on a Command or CommandComponent\n",
    "\n",
    "**Requirements** - In order to benefit from this tutorial, you will need:\n",
    "- A basic understanding of Machine Learning\n",
    "- An Azure account with an active subscription. [Create an account for free](https://azure.microsoft.com/free/?WT.mc_id=A261C142F)\n",
    "- An Azure ML workspace. [Check this notebook for creating a workspace](/sdk/resources/workspace/workspace.ipynb) \n",
    "- A Compute Cluster. [Check this notebook to create a compute cluster](/sdk/resources/compute/compute.ipynb)\n",
    "- A python environment\n",
    "- Installed Azure Machine Learning Python SDK v2 - [install instructions](/sdk/README.md#getting-started)\n",
    "\n",
    "**Learning Objectives** - By the end of this tutorial, you should be able to:\n",
    "- Create and run a `Command` from Python SDK.\n",
    "- Use the `SweepJob ` to run a hyperparameter sweep on this Command\n",
    "- Create a `CommandComponent` from Python SDK.\n",
    "- Use the `SweepJob ` to run a hyperparameter sweep on the CommandComponent.\n",
    "\n",
    "**Motivations** - This example explains how Azure Machine Learning lets you automate hyperparameter tuning using the SweepJob to efficiently optimize hyperparameters. Hyperparameters are adjustable parameters that let you control the model training process. Hyperparameter tuning, also called hyperparameter optimization, is the process of finding the configuration of hyperparameters that results in the best performance. "
   ]
  },
  {
   "cell_type": "markdown",
   "metadata": {},
   "source": [
    "# 1. Connect to Azure Machine Learning Workspace\n",
    "\n",
    "The [workspace](https://docs.microsoft.com/en-us/azure/machine-learning/concept-workspace) is the top-level resource for Azure Machine Learning, providing a centralized place to work with all the artifacts you create when you use Azure Machine Learning. In this section we will connect to the workspace in which the job will be run.\n",
    "\n",
    "## 1.1. Import the required libraries"
   ]
  },
  {
   "cell_type": "code",
   "execution_count": 1,
   "metadata": {},
   "outputs": [],
   "source": [
    "#import required libraries\n",
    "from azure.ml import MLClient\n",
    "from azure.ml import command, NumberInput, StringInput\n",
    "from azure.ml.entities import JobInput\n",
    "from azure.ml.sweep import Choice, Uniform, MedianStoppingPolicy\n",
    "from azure.identity import DefaultAzureCredential"
   ]
  },
  {
   "cell_type": "markdown",
   "metadata": {},
   "source": [
    "## 1.2. Configure workspace details and get a handle to the workspace\n",
    "\n",
    "To connect to a workspace, we need identifier parameters - a subscription, resource group and workspace name. We will use these details in the `MLClient` from `azure.ml` to get a handle to the required Azure Machine Learning workspace. We use the default [default azure authentication](https://docs.microsoft.com/en-us/python/api/azure-identity/azure.identity.defaultazurecredential?view=azure-python) for this tutorial. More advanced connection methods can be found [here](https://docs.microsoft.com/en-us/python/api/azure-identity/azure.identity?view=azure-python)."
   ]
  },
  {
   "cell_type": "code",
   "execution_count": 2,
   "metadata": {},
   "outputs": [],
   "source": [
    "#Enter details of your AML workspace\n",
    "subscription_id = '<SUBSCRIPTION_ID>'\n",
    "resource_group = '<RESOURCE_GROUP>'\n",
    "workspace = '<AML_WORKSPACE_NAME>'"
   ]
  },
  {
   "cell_type": "code",
   "execution_count": 3,
   "metadata": {},
   "outputs": [],
   "source": [
    "#get a handle to the workspace\n",
    "ml_client = MLClient(DefaultAzureCredential(), subscription_id, resource_group, workspace)"
   ]
  },
  {
   "cell_type": "markdown",
   "metadata": {},
   "source": [
    "# 2. Configure and run the Command\n",
    "In this section we will configure and run a standalone job using the `command` class. The `command` class can be used to run standalone jobs and can also be used as a function inside pipelines.\n",
    "\n",
    "## 2.1 Configure the Command\n",
    "The `command` allows user to configure the following key aspects.\n",
    "- `code` - This is the path where the code to run the command is located\n",
    "- `command` - This is the command that needs to be run\n",
    "- `inputs` - This is the dictionary of inputs using name value pairs to the command. The key is a name for the input within the context of the job and the value is the input value. Inputs can be referenced in the `command` using the `${{inputs.<input_name>}}` expression. To use files or folders as inputs, we can use the `JobInput` class. The `JobInput` class supports three parameters:\n",
    "    - `type` - The type of input. This can be a `uri_file` or `uri_folder`. The default is `uri_folder`.         \n",
    "    - `path` - The path to the file or folder. These can be local or remote files or folders. For remote files - http/https, wasb are supported. \n",
    "        - Azure ML `data`/`dataset` or `datastore` are of type `uri_folder`. To use `data`/`dataset` as input, you can use registered dataset in the workspace using the format '<data_name>:<version>'. For e.g JobInput(type='uri_folder', path='my_dataset:1')\n",
    "    - `mode` - \tMode of how the data should be delivered to the compute target. Allowed values are `ro_mount`, `rw_mount` and `download`. Default is `ro_mount`\n",
    "- `environment` - This is the environment needed for the command to run. Curated or custom environments from the workspace can be used. Or a custom environment can be created and used as well. Check out the [environment](/sdk/assets/environment/environment.ipynb) notebook for more examples.\n",
    "- `compute` - The compute on which the command will run. In this example we are using a compute called `cpu-cluster` present in the workspace. You can replace it any other compute in the workspace. You can run it on the local machine by using `local` for the compute. This will run the command on the local machine and all the run details and output of the job will be uploaded to the Azure ML workspace.\n",
    "- `distribution` - Distribution configuration for distributed training scenarios. Azure Machine Learning supports PyTorch, TensorFlow, and MPI-based distributed training. The allowed values are `PyTorch`, `TensorFlow` or `Mpi`.\n",
    "- `display_name` - The display name of the Job\n",
    "- `description` - The description of the experiment"
   ]
  },
  {
   "cell_type": "code",
   "execution_count": 4,
   "metadata": {},
   "outputs": [],
   "source": [
    "#define the command\n",
    "command_job=command(\n",
    "    code='./src',\n",
    "    command = 'python main.py --iris-csv ${{inputs.iris_csv}} --learning-rate ${{inputs.learning_rate}} --boosting ${{inputs.boosting}}',\n",
    "    environment='AzureML-lightgbm-3.2-ubuntu18.04-py37-cpu@latest',\n",
    "    inputs={'iris_csv':JobInput(type='uri_file', path='https://azuremlexamples.blob.core.windows.net/datasets/iris.csv'),'learning_rate': 0.9, 'boosting': 'gbdt'},\n",
    "    compute='cpu-cluster',\n",
    "    display_name='lightgbm-iris-example',\n",
    "    experiment_name='lightgbm-iris-example',\n",
    "    description='Train a LightGBM model on the Iris dataset.'\n",
    ")"
   ]
  },
  {
   "cell_type": "markdown",
   "metadata": {},
   "source": [
    "## 2.2 Run the Command\n",
    "Using the `MLClient` created earlier, we will now run this command in the workspace."
   ]
  },
  {
   "cell_type": "code",
   "execution_count": 5,
   "metadata": {},
   "outputs": [
    {
     "data": {
      "text/html": [
       "<table style=\"width:100%\"><tr><th>Experiment</th><th>Name</th><th>Type</th><th>Status</th><th>Details Page</th></tr><tr><td>lightgbm-iris-example</td><td>tender_yuca_f4phy17ljz</td><td>command</td><td>Starting</td><td><a href=\"https://ml.azure.com/runs/tender_yuca_f4phy17ljz?wsid=/subscriptions/d128f140-94e6-4175-87a7-954b9d27db16/resourcegroups/ragargeastus2euap/workspaces/hanchi-test2&amp;tid=72f988bf-86f1-41af-91ab-2d7cd011db47\" target=\"_blank\" rel=\"noopener\">Link to Azure Machine Learning studio</a></td></tr></table>"
      ],
      "text/plain": [
       "CommandJob({'parameters': {}, 'display_name': 'lightgbm-iris-example', 'type': 'command', 'status': 'Starting', 'log_files': None, 'name': 'tender_yuca_f4phy17ljz', 'description': 'Train a LightGBM model on the Iris dataset.', 'tags': {}, 'properties': {'mlflow.source.git.repoURL': 'https://github.com/Azure/azureml-examples.git', 'mlflow.source.git.branch': 'hancwang/april', 'mlflow.source.git.commit': 'aa0cb945c762c86cbee2414ad0e9a98d611d7f27', 'azureml.git.dirty': 'True', '_azureml.ComputeTargetType': 'amlctrain', 'ContentSnapshotId': '06564994-2183-478d-b1ed-512a22f6ca96'}, 'id': '/subscriptions/d128f140-94e6-4175-87a7-954b9d27db16/resourceGroups/ragargeastus2euap/providers/Microsoft.MachineLearningServices/workspaces/hanchi-test2/jobs/tender_yuca_f4phy17ljz', 'base_path': './', 'creation_context': <azure.ml._restclient.v2022_02_01_preview.models._models_py3.SystemData object at 0x0000018BF21453A0>, 'serialize': <msrest.serialization.Serializer object at 0x0000018BF2121EB0>, 'command': 'python main.py --iris-csv ${{inputs.iris_csv}} --learning-rate ${{inputs.learning_rate}} --boosting ${{inputs.boosting}}', 'code': '/subscriptions/d128f140-94e6-4175-87a7-954b9d27db16/resourceGroups/ragargeastus2euap/providers/Microsoft.MachineLearningServices/workspaces/hanchi-test2/codes/cb7d888d-96fd-4682-889d-7649e2097674/versions/1', 'environment_variables': {}, 'environment': 'AzureML-lightgbm-3.2-ubuntu18.04-py37-cpu:30', 'distribution': None, 'resources': {'instance_count': 1, 'properties': {}}, 'experiment_name': 'lightgbm-iris-example', 'compute': 'cpu-cluster', 'services': {'Tracking': <azure.ml._restclient.v2022_02_01_preview.models._models_py3.JobService object at 0x0000018BF2145070>, 'Studio': <azure.ml._restclient.v2022_02_01_preview.models._models_py3.JobService object at 0x0000018BF2145520>}, 'outputs': {'default': {'type': 'uri_folder', 'mode': 'rw_mount', 'path': 'azureml://datastores/workspaceartifactstore/ExperimentRun/dcid.tender_yuca_f4phy17ljz'}}, 'inputs': {'iris_csv': {'type': 'uri_file', 'path': 'https://azuremlexamples.blob.core.windows.net/datasets/iris.csv', 'mode': 'ro_mount'}, 'learning_rate': '0.9', 'boosting': 'gbdt'}, 'limits': None, 'identity': None})"
      ]
     },
     "execution_count": 5,
     "metadata": {},
     "output_type": "execute_result"
    }
   ],
   "source": [
    "#submit the command\n",
    "returned_job = ml_client.create_or_update(command_job)\n",
    "#get a URL for the status of the job\n",
    "returned_job"
   ]
  },
  {
   "cell_type": "markdown",
   "metadata": {},
   "source": [
    "# 3.  Run a sweep on this command\n",
    "Hyperparameters are adjustable parameters that let you control the model training process. Hyperparameter tuning, also called hyperparameter optimization, is the process of finding the configuration of hyperparameters that results in the best performance. Azure Machine Learning provides a `sweep` function on the `command` to do hyperparameter tuning. \n",
    "\n",
    "The `sweep` function allows user to configure the following key aspects:\n",
    "- `sampling_algorithm`- The hyperparameter sampling algorithm to use over the search_space. Allowed values are `random`, `grid` and `bayesian`.\n",
    "- `objective` - the objective of the sweep\n",
    "  - `primary_metric` - The name of the primary metric reported by each trial job. The metric must be logged in the user's training script using `mlflow.log_metric()` with the same corresponding metric name.\n",
    "  - `goal` - The optimization goal of the objective.primary_metric. The allowed values are `maximize` and `minimize`.\n",
    "- `compute` - Name of the compute target to execute the job on.\n",
    "- `inputs` - This is the dictionary of inputs using name value pairs to the SweepJob. The key is a name for the input within the context of the job and the value is the input value. Inputs can be referenced in the `command` using the `${{inputs.<input_name>}}` expression. \n",
    "- `limits` - Limits for the sweep job\n",
    "\n",
    "## 3.1 Modify or define inputs to sweep\n",
    "To perform a sweep, there needs to be input(s) against which the sweep needs to be performed. These inputs can have a discrete or continuos value. The `sweep` function will run the `command` multiple times using different combination of input values specified. Each input is a dictionary of name value pairs. The key is the name of the hyperparameter and the value is the parameter expression. \n",
    "\n",
    "In this sample we will modify the `learning_rate` and `boosting` inputs to become a set of values instead of a single value."
   ]
  },
  {
   "cell_type": "code",
   "execution_count": 6,
   "metadata": {},
   "outputs": [],
   "source": [
    "# we are using the command_job above again by applying it inputs via calling it as a function\n",
    "# note that we do not apply the 'iris_csv' input again -- that way the prior input from above will be used again\n",
    "command_job_for_sweep = command_job(learning_rate=Uniform(min_value=0.01, max_value=0.9), \n",
    "                                    boosting=Choice(values=['gbdt', 'dart']))\n"
   ]
  },
  {
   "cell_type": "markdown",
   "metadata": {},
   "source": [
    "## 3.2 Define the sweep function \n",
    "We will now define the parameters of the sweep function. In this example we configure the sweep function with `trial`, `search_space`, `sampling_algorithm`, `objective`, `limits` and `compute`."
   ]
  },
  {
   "cell_type": "code",
   "execution_count": 7,
   "metadata": {},
   "outputs": [],
   "source": [
    "# apply the sweep parameter to obtain the sweep_job\n",
    "sweep_job = command_job_for_sweep.sweep(\n",
    "    compute='cpu-cluster',\n",
    "    sampling_algorithm='random',\n",
    "    primary_metric='test-multi_logloss',\n",
    "    goal='Minimize'\n",
    ")\n",
    "sweep_job.display_name = \"lightgbm-iris-sweep-example\"\n",
    "sweep_job.experiment_name = \"lightgbm-iris-sweep-example\"\n",
    "sweep_job.description = \"Run a hyperparameter sweep job for LightGBM on Iris dataset.\"\n",
    "\n",
    "#define the limits for this sweep\n",
    "sweep_job.set_limits(max_total_trials=20, max_concurrent_trials=10, timeout=7200)"
   ]
  },
  {
   "cell_type": "markdown",
   "metadata": {},
   "source": [
    "## 3.3 Run the SweepJob\n",
    "Using the `MLClient` created earlier, we will now run this SweepJob in the workspace."
   ]
  },
  {
   "cell_type": "code",
   "execution_count": 8,
   "metadata": {},
   "outputs": [
    {
     "name": "stderr",
     "output_type": "stream",
     "text": [
      "additional_properties is not a known attribute of class <class 'azure.ml._restclient.v2021_10_01.models._models_py3.SweepJobLimits'> and will be ignored\n",
      "additional_properties is not a known attribute of class <class 'azure.ml._restclient.v2022_02_01_preview.models._models_py3.Objective'> and will be ignored\n"
     ]
    },
    {
     "data": {
      "text/html": [
       "<table style=\"width:100%\"><tr><th>Experiment</th><th>Name</th><th>Type</th><th>Status</th><th>Details Page</th></tr><tr><td>lightgbm-iris-sweep-example</td><td>lucid_pot_1zsbgx9vpw</td><td>sweep</td><td>Running</td><td><a href=\"https://ml.azure.com/runs/lucid_pot_1zsbgx9vpw?wsid=/subscriptions/d128f140-94e6-4175-87a7-954b9d27db16/resourcegroups/ragargeastus2euap/workspaces/hanchi-test2&amp;tid=72f988bf-86f1-41af-91ab-2d7cd011db47\" target=\"_blank\" rel=\"noopener\">Link to Azure Machine Learning studio</a></td></tr></table>"
      ],
      "text/plain": [
       "SweepJob({'display_name': 'lightgbm-iris-sweep-example', 'type': 'sweep', 'status': 'Running', 'log_files': None, 'name': 'lucid_pot_1zsbgx9vpw', 'description': 'Run a hyperparameter sweep job for LightGBM on Iris dataset.', 'tags': {'_aml_system_max_concurrent_jobs': '10', '_aml_system_max_total_jobs': '20', '_aml_system_max_duration_minutes': '120', '_aml_system_policy_config': '{\"name\": \"DEFAULT\", \"properties\": {}}', '_aml_system_generator_config': '{\"name\": \"RANDOM\", \"properties\": {\"rule\": \"Random\", \"seed\": null}, \"parameter_space\": {\"learning_rate\": [\"uniform\", [0.01, 0.9]], \"boosting\": [\"choice\", [[\"gbdt\", \"dart\"]]]}}', '_aml_system_primary_metric_config': '{\"name\": \"test-multi_logloss\", \"goal\": \"minimize\"}', '_aml_system_platform_config': '{\"ServiceAddress\": \"https://eastus2euap.api.azureml.ms\", \"SubscriptionId\": \"d128f140-94e6-4175-87a7-954b9d27db16\", \"ResourceGroupName\": \"ragargeastus2euap\", \"WorkspaceName\": \"hanchi-test2\", \"ExperimentName\": \"lightgbm-iris-sweep-example\", \"Definition\": {\"Configuration\": null, \"Attribution\": null, \"TelemetryValues\": null, \"Overrides\": {\"Script\": null, \"Command\": \"python main.py --iris-csv ${{inputs.iris_csv}} --learning-rate ${{search_space.learning_rate}} --boosting ${{search_space.boosting}}\", \"UseAbsolutePath\": true, \"Arguments\": [], \"SourceDirectoryDataStore\": null, \"Framework\": 0, \"Target\": \"cpu-cluster\", \"DataReferences\": {}, \"Data\": {\"iris_csv\": {\"DataLocation\": {\"Dataset\": null, \"DataPath\": null, \"Uri\": {\"Path\": \"https://azuremlexamples.blob.core.windows.net/datasets/iris.csv\", \"IsFile\": true}, \"Type\": \"UriFile\"}, \"Mechanism\": \"Mount\", \"EnvironmentVariableName\": \"AZURE_ML_INPUT_iris_csv\", \"PathOnCompute\": null, \"Overwrite\": false, \"Options\": {\"IsEvalMode\": \"False\", \"ReadWrite\": \"False\", \"ForceFolder\": \"False\"}}}, \"InputAssets\": {\"iris_csv\": {\"Asset\": {\"AssetId\": \"azureml://locations/eastus2euap/workspaces/29821ecb-61a4-46ab-8648-29098636296b/data/azureml_349ecc9c-7fb9-41a3-9483-9d57596c44a3_input_data_iris_csv/versions/1\", \"Type\": \"UriFile\"}, \"Mechanism\": \"Mount\", \"EnvironmentVariableName\": \"AZURE_ML_INPUT_iris_csv\", \"PathOnCompute\": null, \"Overwrite\": false, \"Options\": {\"IsEvalMode\": \"False\", \"ReadWrite\": \"False\", \"ForceFolder\": \"False\"}}}, \"OutputData\": {}, \"Datacaches\": [], \"JobName\": null, \"MaxRunDurationSeconds\": null, \"NodeCount\": 1, \"InstanceTypes\": [], \"Priority\": null, \"CredentialPassthrough\": false, \"Identity\": null, \"Environment\": {\"Name\": \"AzureML-lightgbm-3.2-ubuntu18.04-py37-cpu\", \"Version\": \"30\", \"AssetId\": \"azureml://registries/CuratedRegistry/environments/AzureML-lightgbm-3.2-ubuntu18.04-py37-cpu/versions/30\", \"Python\": {\"InterpreterPath\": \"python\", \"UserManagedDependencies\": true, \"CondaDependencies\": null, \"BaseCondaEnvironment\": null}, \"EnvironmentVariables\": {\"EXAMPLE_ENV_VAR\": \"EXAMPLE_VALUE\"}, \"Docker\": {\"BaseImage\": null, \"Platform\": {\"Os\": \"Linux\", \"Architecture\": \"amd64\"}, \"BaseDockerfile\": \"FROM mcr.microsoft.com/azureml/openmpi3.1.2-ubuntu18.04:20220329.v1\\\\n\\\\nENV AZUREML_CONDA_ENVIRONMENT_PATH /azureml-envs/lightgbm\\\\n# Create conda environment\\\\nRUN conda create -p $AZUREML_CONDA_ENVIRONMENT_PATH \\\\\\\\\\\\n    python=3.7 pip=20.2.4\\\\n\\\\n# Prepend path to AzureML conda environment\\\\nENV PATH $AZUREML_CONDA_ENVIRONMENT_PATH/bin:$PATH\\\\n\\\\n# Install pip dependencies\\\\nRUN HOROVOD_WITH_TENSORFLOW=1 \\\\\\\\\\\\n    pip install \\'matplotlib>=3.3,<3.4\\' \\\\\\\\\\\\n                \\'psutil>=5.8,<5.9\\' \\\\\\\\\\\\n                \\'tqdm>=4.59,<4.60\\' \\\\\\\\\\\\n                \\'pandas>=1.1,<1.2\\' \\\\\\\\\\\\n                \\'numpy>=1.10,<1.20\\' \\\\\\\\\\\\n                \\'scipy~=1.5.0\\' \\\\\\\\\\\\n                \\'scikit-learn~=0.24.1\\' \\\\\\\\\\\\n                \\'xgboost~=1.4.0\\' \\\\\\\\\\\\n                \\'lightgbm~=3.2.0\\' \\\\\\\\\\\\n                \\'dask~=2021.6.0\\' \\\\\\\\\\\\n                \\'distributed~=2021.6.0\\' \\\\\\\\\\\\n                \\'dask-ml~=1.9.0\\' \\\\\\\\\\\\n                \\'adlfs~=0.7.0\\' \\\\\\\\\\\\n                \\'ipykernel~=6.0\\' \\\\\\\\\\\\n                \\'azureml-core==1.40.0\\' \\\\\\\\\\\\n                \\'azureml-defaults==1.40.0\\' \\\\\\\\\\\\n                \\'azureml-mlflow==1.40.0\\' \\\\\\\\\\\\n                \\'azureml-telemetry==1.40.0\\'\\\\n\\\\n# This is needed for mpi to locate libpython\\\\nENV LD_LIBRARY_PATH $AZUREML_CONDA_ENVIRONMENT_PATH/lib:$LD_LIBRARY_PATH\", \"BaseImageRegistry\": {\"Address\": null, \"Username\": null, \"Password\": null}, \"Enabled\": false, \"Arguments\": []}, \"Spark\": {\"Repositories\": [], \"Packages\": [], \"PrecachePackages\": true}, \"InferencingStackVersion\": null}, \"History\": {\"OutputCollection\": true, \"DirectoriesToWatch\": [\"logs\"], \"EnableMLflowTracking\": true}, \"Spark\": {\"Configuration\": {}}, \"ParallelTask\": {\"MaxRetriesPerWorker\": 0, \"WorkerCountPerNode\": 1, \"TerminalExitCodes\": null, \"Configuration\": {}}, \"BatchAi\": {\"NodeCount\": 0}, \"AmlCompute\": {\"Name\": null, \"VmSize\": null, \"RetainCluster\": false, \"ClusterMaxNodeCount\": null}, \"AISuperComputer\": {\"InstanceType\": \"D2\", \"FrameworkImage\": null, \"ImageVersion\": \"pytorch-1.7.0\", \"Location\": null, \"AISuperComputerStorageData\": null, \"Interactive\": false, \"ScalePolicy\": null, \"VirtualClusterArmId\": null, \"TensorboardLogDirectory\": null, \"SSHPublicKey\": null, \"SSHPublicKeys\": null, \"EnableAzmlInt\": true, \"Priority\": \"Medium\", \"SLATier\": \"Standard\", \"UserAlias\": null}, \"KubernetesCompute\": {\"InstanceType\": null}, \"Tensorflow\": {\"WorkerCount\": 0, \"ParameterServerCount\": 0}, \"Mpi\": {\"ProcessCountPerNode\": 0}, \"PyTorch\": {\"CommunicationBackend\": null, \"ProcessCount\": null}, \"Hdi\": {\"YarnDeployMode\": 0}, \"ContainerInstance\": {\"Region\": null, \"CpuCores\": 2.0, \"MemoryGb\": 3.5}, \"ExposedPorts\": null, \"Docker\": {\"UseDocker\": true, \"SharedVolumes\": null, \"ShmSize\": null, \"Arguments\": null}, \"Cmk8sCompute\": {\"Configuration\": {}}, \"CommandReturnCodeConfig\": {\"ReturnCode\": 0, \"SuccessfulReturnCodes\": []}, \"ApplicationEndpoints\": {}, \"Parameters\": []}, \"SnapshotId\": \"06564994-2183-478d-b1ed-512a22f6ca96\", \"Snapshots\": [], \"SourceCodeDataReference\": null, \"ParentRunId\": null, \"DataContainerId\": null, \"RunType\": null, \"DisplayName\": \"lightgbm-iris-sweep-example\", \"EnvironmentAssetId\": null, \"Properties\": {\"mlflow.source.git.repoURL\": \"https://github.com/Azure/azureml-examples.git\", \"mlflow.source.git.branch\": \"hancwang/april\", \"mlflow.source.git.commit\": \"aa0cb945c762c86cbee2414ad0e9a98d611d7f27\", \"azureml.git.dirty\": \"True\"}, \"Tags\": {}, \"AggregatedArtifactPath\": null}}', '_aml_system_resume_child_runs': 'null', '_aml_system_all_jobs_generated': 'false', '_aml_system_cancellation_requested': 'false'}, 'properties': {'primary_metric_config': '{\"name\": \"test-multi_logloss\", \"goal\": \"minimize\"}', 'resume_from': 'null', 'runTemplate': 'HyperDrive', 'azureml.runsource': 'hyperdrive', 'platform': 'AML', 'mlflow.source.git.repoURL': 'https://github.com/Azure/azureml-examples.git', 'mlflow.source.git.branch': 'hancwang/april', 'mlflow.source.git.commit': 'aa0cb945c762c86cbee2414ad0e9a98d611d7f27', 'azureml.git.dirty': 'True', 'ContentSnapshotId': '06564994-2183-478d-b1ed-512a22f6ca96', 'user_agent': 'managementfrontend/d517dbec67e7750fcbaec2896128a4470695feaa'}, 'id': '/subscriptions/d128f140-94e6-4175-87a7-954b9d27db16/resourceGroups/ragargeastus2euap/providers/Microsoft.MachineLearningServices/workspaces/hanchi-test2/jobs/lucid_pot_1zsbgx9vpw', 'base_path': './', 'creation_context': <azure.ml._restclient.v2022_02_01_preview.models._models_py3.SystemData object at 0x0000018BF2121A60>, 'serialize': <msrest.serialization.Serializer object at 0x0000018BF2121520>, 'sampling_algorithm': <azure.ml.entities._job.sweep.sampling_algorithm.RandomSamplingAlgorithm object at 0x0000018BF1FD8910>, 'early_termination': None, 'limits': <azure.ml.entities._job.job_limits.SweepJobLimits object at 0x0000018BF1FD8CA0>, 'search_space': {'learning_rate': <azure.ml.entities._job.sweep.search_space.Uniform object at 0x0000018BF1FD8BE0>, 'boosting': <azure.ml.entities._job.sweep.search_space.Choice object at 0x0000018BF1FD8970>}, 'objective': <azure.ml._restclient.v2022_02_01_preview.models._models_py3.Objective object at 0x0000018BF2121CA0>, 'experiment_name': 'lightgbm-iris-sweep-example', 'compute': 'cpu-cluster', 'services': {'Studio': <azure.ml._restclient.v2022_02_01_preview.models._models_py3.JobService object at 0x0000018BF2121D60>}, 'inputs': {'iris_csv': {'type': 'uri_file', 'path': 'azureml://locations/eastus2euap/workspaces/29821ecb-61a4-46ab-8648-29098636296b/data/azureml_349ecc9c-7fb9-41a3-9483-9d57596c44a3_input_data_iris_csv/versions/1', 'mode': 'ro_mount'}}, 'outputs': {'default': {'type': 'uri_folder', 'mode': 'rw_mount', 'path': 'azureml://datastores/workspaceartifactstore/ExperimentRun/dcid.lucid_pot_1zsbgx9vpw'}}, 'trial': <azure.ml.entities._job.parameterized_command.ParameterizedCommand object at 0x0000018BF1FD8670>})"
      ]
     },
     "execution_count": 8,
     "metadata": {},
     "output_type": "execute_result"
    }
   ],
   "source": [
    "#submit the sweep job\n",
    "returned_sweep_job = ml_client.create_or_update(sweep_job)\n",
    "#get a URL for the status of the job\n",
    "returned_sweep_job"
   ]
  },
  {
   "cell_type": "markdown",
   "metadata": {},
   "source": [
    "# 4. Run a sweep on a Command Component\n",
    "An Azure Machine Learning [component](https://docs.microsoft.com/en-us/azure/machine-learning/concept-component) is a self-contained piece of code that performs a step in a machine learning job or pipeline. Components can do tasks such as data processing, model training, model scoring, and so on. A component is analogous to a function - it has a name, parameters, expects input, and returns output. This makes them very useful to reuse code/functionality.\n",
    "\n",
    "# 4.1 Create reusable component\n",
    "Let us create a component to perform the same functionality of the `command_job` we created earlier. A component allows user to define the following key parameters:\n",
    "- `command` - The command to execute\n",
    "- `code` - Local path to the source code directory to be uploaded and used for the component.\n",
    "- `environment` - The environment to use for the component. This can be either a reference to an existing versioned environment in the workspace or an inline environment specification.\n",
    "- `inputs` - This is the dictionary of inputs using name value pairs to the CommandComponent. Inputs can be referenced in the `command` using the `${{inputs.<input_name>}}` expression.\n",
    "- `instance_count` - The number of nodes to use for the component\n",
    "- `name` - Name of the component\n",
    "- `version` - Version of the component\n",
    "- `distribution` - The distribution configuration for distributed training scenarios. Allowed values are `Pytorch`, `Mpi`, or `TensorFlow`."
   ]
  },
  {
   "cell_type": "code",
   "execution_count": 9,
   "metadata": {},
   "outputs": [],
   "source": [
    "#define the command component -- this is the same as the command above, only no compute is specified and no values but type infomation is provided as inputs\n",
    "command_component=command(\n",
    "    code='./src',\n",
    "    command = 'python main.py --iris-csv ${{inputs.iris_csv}} --learning-rate ${{inputs.learning_rate}} --boosting ${{inputs.boosting}}',\n",
    "    environment='AzureML-lightgbm-3.2-ubuntu18.04-py37-cpu@latest',\n",
    "    inputs={'iris_csv':JobInput(type='uri_file'),'learning_rate': 0.9, 'boosting': 'gbdt'},\n",
    "    display_name='lightgbm-iris-example',\n",
    "    experiment_name='lightgbm-iris-example',\n",
    "    description='Train a LightGBM model on the Iris dataset.'\n",
    ")"
   ]
  },
  {
   "cell_type": "markdown",
   "metadata": {},
   "source": [
    "## 4.2 Define the SweepJob \n",
    "We will now define the sweep job. In this example we configure the sweep job with `trial`, `search_space`, `sampling_algorithm`, `objective`, `limits` and `compute`.\n",
    "\n",
    "We will use the `trial_component` created earlier as the `trial` for this `SweepJob`."
   ]
  },
  {
   "cell_type": "code",
   "execution_count": 10,
   "metadata": {},
   "outputs": [],
   "source": [
    "# run sweep using this component\n",
    "# this time we will provide in input for iris_csv since no default was provide at compnent definition\n",
    "command_job_for_sweep = command_job(learning_rate=Uniform(min_value=0.01, max_value=0.9), \n",
    "                                    boosting=Choice(values=['gbdt', 'dart']),\n",
    "                                    iris_csv= JobInput(type='uri_file', path='wasbs://datasets@azuremlexamples.blob.core.windows.net/iris.csv',mode='rw_mount'))\n",
    "\n",
    "# this is the same as above\n",
    "cmd_sweep_job = command_job_for_sweep.sweep(\n",
    "    compute='cpu-cluster',\n",
    "    sampling_algorithm='random',\n",
    "    primary_metric='test-multi_logloss',\n",
    "    goal='Minimize'\n",
    ")\n",
    "\n",
    "sweep_job.display_name = \"lightgbm-iris-sweep-example\"\n",
    "sweep_job.experiment_name = \"lightgbm-iris-sweep-example\"\n",
    "sweep_job.description = \"Run a hyperparameter sweep job for LightGBM on Iris dataset.\"\n",
    "\n",
    "#define the limits for this sweep\n",
    "sweep_job.set_limits(max_total_trials=20, max_concurrent_trials=10, timeout=7200)\n",
    "\n",
    "# set early stopping on this one\n",
    "sweep_job.early_termination = MedianStoppingPolicy(delay_evaluation=5, evaluation_interval= 2)"
   ]
  },
  {
   "cell_type": "markdown",
   "metadata": {},
   "source": [
    "## 4.3 Run the SweepJob\n",
    "Using the `MLClient` created earlier, we will now run this SweepJob in the workspace."
   ]
  },
  {
   "cell_type": "code",
   "execution_count": 11,
   "metadata": {},
   "outputs": [
    {
     "name": "stderr",
     "output_type": "stream",
     "text": [
      "additional_properties is not a known attribute of class <class 'azure.ml._restclient.v2021_10_01.models._models_py3.SweepJobLimits'> and will be ignored\n",
      "additional_properties is not a known attribute of class <class 'azure.ml._restclient.v2022_02_01_preview.models._models_py3.Objective'> and will be ignored\n"
     ]
    },
    {
     "ename": "HttpResponseError",
     "evalue": "(ServiceError) Received 500 from a service request\nCode: ServiceError\nMessage: Received 500 from a service request\nTarget: POST https://eastus2euap.api.azureml.ms/hyperdrive/v1.0/subscriptions/d128f140-94e6-4175-87a7-954b9d27db16/resourceGroups/ragargeastus2euap/providers/Microsoft.MachineLearningServices/workspaces/hanchi-test2/experiments/iris/hdruns/sad_train_3sh0j48jzz\nException Details:\t(InternalServerError) {\"Code\": 500, \"Message\": \"\\\"Message parameters contains missing keys required for message format. Missing Key: 'required_args'\\\"\", \"Error\": {\"Code\": \"SystemError\", \"Message\": \"\\\"Message parameters contains missing keys required for message format. Missing Key: 'required_args'\\\"\"}}\n\t\n\tCode: InternalServerError\n\tMessage: {\"Code\": 500, \"Message\": \"\\\"Message parameters contains missing keys required for message format. Missing Key: 'required_args'\\\"\", \"Error\": {\"Code\": \"SystemError\", \"Message\": \"\\\"Message parameters contains missing keys required for message format. Missing Key: 'required_args'\\\"\"}}\nAdditional Information:Type: ComponentName\nInfo: {\n    \"value\": \"managementfrontend\"\n}Type: Correlation\nInfo: {\n    \"value\": {\n        \"operation\": \"97ab6611410baa459555ab09d1c679af\",\n        \"request\": \"230a3947c26b8108\"\n    }\n}Type: Environment\nInfo: {\n    \"value\": \"eastus2euap\"\n}Type: Location\nInfo: {\n    \"value\": \"eastus2euap\"\n}Type: Time\nInfo: {\n    \"value\": \"2022-04-17T07:41:12.1593212+00:00\"\n}",
     "output_type": "error",
     "traceback": [
      "\u001b[1;31m---------------------------------------------------------------------------\u001b[0m",
      "\u001b[1;31mHttpResponseError\u001b[0m                         Traceback (most recent call last)",
      "\u001b[1;32m<ipython-input-11-48ad428fd46c>\u001b[0m in \u001b[0;36m<module>\u001b[1;34m\u001b[0m\n\u001b[0;32m      1\u001b[0m \u001b[1;31m#submit the sweep job\u001b[0m\u001b[1;33m\u001b[0m\u001b[1;33m\u001b[0m\u001b[1;33m\u001b[0m\u001b[0m\n\u001b[1;32m----> 2\u001b[1;33m \u001b[0mreturned_sweep_job_cmd\u001b[0m \u001b[1;33m=\u001b[0m \u001b[0mml_client\u001b[0m\u001b[1;33m.\u001b[0m\u001b[0mjobs\u001b[0m\u001b[1;33m.\u001b[0m\u001b[0mcreate_or_update\u001b[0m\u001b[1;33m(\u001b[0m\u001b[0mcmd_sweep_job\u001b[0m\u001b[1;33m)\u001b[0m\u001b[1;33m\u001b[0m\u001b[1;33m\u001b[0m\u001b[0m\n\u001b[0m\u001b[0;32m      3\u001b[0m \u001b[1;31m#get a URL for the status of the job\u001b[0m\u001b[1;33m\u001b[0m\u001b[1;33m\u001b[0m\u001b[1;33m\u001b[0m\u001b[0m\n\u001b[0;32m      4\u001b[0m \u001b[0mreturned_sweep_job_cmd\u001b[0m\u001b[1;33m\u001b[0m\u001b[1;33m\u001b[0m\u001b[0m\n",
      "\u001b[1;32md:\\code\\sdk-cli-v2\\src\\azure-ml\\azure\\ml\\_telemetry\\activity.py\u001b[0m in \u001b[0;36mwrapper\u001b[1;34m(*args, **kwargs)\u001b[0m\n\u001b[0;32m    166\u001b[0m         \u001b[1;32mdef\u001b[0m \u001b[0mwrapper\u001b[0m\u001b[1;33m(\u001b[0m\u001b[1;33m*\u001b[0m\u001b[0margs\u001b[0m\u001b[1;33m,\u001b[0m \u001b[1;33m**\u001b[0m\u001b[0mkwargs\u001b[0m\u001b[1;33m)\u001b[0m\u001b[1;33m:\u001b[0m\u001b[1;33m\u001b[0m\u001b[1;33m\u001b[0m\u001b[0m\n\u001b[0;32m    167\u001b[0m             \u001b[1;32mwith\u001b[0m \u001b[0mlog_activity\u001b[0m\u001b[1;33m(\u001b[0m\u001b[0mlogger\u001b[0m\u001b[1;33m,\u001b[0m \u001b[0mactivity_name\u001b[0m \u001b[1;32mor\u001b[0m \u001b[0mf\u001b[0m\u001b[1;33m.\u001b[0m\u001b[0m__name__\u001b[0m\u001b[1;33m,\u001b[0m \u001b[0mactivity_type\u001b[0m\u001b[1;33m,\u001b[0m \u001b[0mcustom_dimensions\u001b[0m\u001b[1;33m)\u001b[0m\u001b[1;33m:\u001b[0m\u001b[1;33m\u001b[0m\u001b[1;33m\u001b[0m\u001b[0m\n\u001b[1;32m--> 168\u001b[1;33m                 \u001b[1;32mreturn\u001b[0m \u001b[0mf\u001b[0m\u001b[1;33m(\u001b[0m\u001b[1;33m*\u001b[0m\u001b[0margs\u001b[0m\u001b[1;33m,\u001b[0m \u001b[1;33m**\u001b[0m\u001b[0mkwargs\u001b[0m\u001b[1;33m)\u001b[0m\u001b[1;33m\u001b[0m\u001b[1;33m\u001b[0m\u001b[0m\n\u001b[0m\u001b[0;32m    169\u001b[0m \u001b[1;33m\u001b[0m\u001b[0m\n\u001b[0;32m    170\u001b[0m         \u001b[1;32mreturn\u001b[0m \u001b[0mwrapper\u001b[0m\u001b[1;33m\u001b[0m\u001b[1;33m\u001b[0m\u001b[0m\n",
      "\u001b[1;32md:\\code\\sdk-cli-v2\\src\\azure-ml\\azure\\ml\\_operations\\job_operations.py\u001b[0m in \u001b[0;36mcreate_or_update\u001b[1;34m(self, job, **kwargs)\u001b[0m\n\u001b[0;32m    247\u001b[0m         ):\n\u001b[0;32m    248\u001b[0m             \u001b[0mself\u001b[0m\u001b[1;33m.\u001b[0m\u001b[0m_set_headers_with_user_aml_token\u001b[0m\u001b[1;33m(\u001b[0m\u001b[0mkwargs\u001b[0m\u001b[1;33m)\u001b[0m\u001b[1;33m\u001b[0m\u001b[1;33m\u001b[0m\u001b[0m\n\u001b[1;32m--> 249\u001b[1;33m         result = self._operation_2022_02_preview.create_or_update(\n\u001b[0m\u001b[0;32m    250\u001b[0m             \u001b[0mid\u001b[0m\u001b[1;33m=\u001b[0m\u001b[0mrest_job_resource\u001b[0m\u001b[1;33m.\u001b[0m\u001b[0mname\u001b[0m\u001b[1;33m,\u001b[0m  \u001b[1;31m# type: ignore\u001b[0m\u001b[1;33m\u001b[0m\u001b[1;33m\u001b[0m\u001b[0m\n\u001b[0;32m    251\u001b[0m             \u001b[0mresource_group_name\u001b[0m\u001b[1;33m=\u001b[0m\u001b[0mself\u001b[0m\u001b[1;33m.\u001b[0m\u001b[0m_operation_scope\u001b[0m\u001b[1;33m.\u001b[0m\u001b[0mresource_group_name\u001b[0m\u001b[1;33m,\u001b[0m\u001b[1;33m\u001b[0m\u001b[1;33m\u001b[0m\u001b[0m\n",
      "\u001b[1;32m~\\Miniconda3\\envs\\v2-local\\lib\\site-packages\\azure\\core\\tracing\\decorator.py\u001b[0m in \u001b[0;36mwrapper_use_tracer\u001b[1;34m(*args, **kwargs)\u001b[0m\n\u001b[0;32m     81\u001b[0m             \u001b[0mspan_impl_type\u001b[0m \u001b[1;33m=\u001b[0m \u001b[0msettings\u001b[0m\u001b[1;33m.\u001b[0m\u001b[0mtracing_implementation\u001b[0m\u001b[1;33m(\u001b[0m\u001b[1;33m)\u001b[0m\u001b[1;33m\u001b[0m\u001b[1;33m\u001b[0m\u001b[0m\n\u001b[0;32m     82\u001b[0m             \u001b[1;32mif\u001b[0m \u001b[0mspan_impl_type\u001b[0m \u001b[1;32mis\u001b[0m \u001b[1;32mNone\u001b[0m\u001b[1;33m:\u001b[0m\u001b[1;33m\u001b[0m\u001b[1;33m\u001b[0m\u001b[0m\n\u001b[1;32m---> 83\u001b[1;33m                 \u001b[1;32mreturn\u001b[0m \u001b[0mfunc\u001b[0m\u001b[1;33m(\u001b[0m\u001b[1;33m*\u001b[0m\u001b[0margs\u001b[0m\u001b[1;33m,\u001b[0m \u001b[1;33m**\u001b[0m\u001b[0mkwargs\u001b[0m\u001b[1;33m)\u001b[0m\u001b[1;33m\u001b[0m\u001b[1;33m\u001b[0m\u001b[0m\n\u001b[0m\u001b[0;32m     84\u001b[0m \u001b[1;33m\u001b[0m\u001b[0m\n\u001b[0;32m     85\u001b[0m             \u001b[1;31m# Merge span is parameter is set, but only if no explicit parent are passed\u001b[0m\u001b[1;33m\u001b[0m\u001b[1;33m\u001b[0m\u001b[1;33m\u001b[0m\u001b[0m\n",
      "\u001b[1;32md:\\code\\sdk-cli-v2\\src\\azure-ml\\azure\\ml\\_restclient\\v2022_02_01_preview\\operations\\_jobs_operations.py\u001b[0m in \u001b[0;36mcreate_or_update\u001b[1;34m(self, resource_group_name, workspace_name, id, body, **kwargs)\u001b[0m\n\u001b[0;32m    603\u001b[0m             \u001b[0mmap_error\u001b[0m\u001b[1;33m(\u001b[0m\u001b[0mstatus_code\u001b[0m\u001b[1;33m=\u001b[0m\u001b[0mresponse\u001b[0m\u001b[1;33m.\u001b[0m\u001b[0mstatus_code\u001b[0m\u001b[1;33m,\u001b[0m \u001b[0mresponse\u001b[0m\u001b[1;33m=\u001b[0m\u001b[0mresponse\u001b[0m\u001b[1;33m,\u001b[0m \u001b[0merror_map\u001b[0m\u001b[1;33m=\u001b[0m\u001b[0merror_map\u001b[0m\u001b[1;33m)\u001b[0m\u001b[1;33m\u001b[0m\u001b[1;33m\u001b[0m\u001b[0m\n\u001b[0;32m    604\u001b[0m             \u001b[0merror\u001b[0m \u001b[1;33m=\u001b[0m \u001b[0mself\u001b[0m\u001b[1;33m.\u001b[0m\u001b[0m_deserialize\u001b[0m\u001b[1;33m.\u001b[0m\u001b[0mfailsafe_deserialize\u001b[0m\u001b[1;33m(\u001b[0m\u001b[0m_models\u001b[0m\u001b[1;33m.\u001b[0m\u001b[0mErrorResponse\u001b[0m\u001b[1;33m,\u001b[0m \u001b[0mpipeline_response\u001b[0m\u001b[1;33m)\u001b[0m\u001b[1;33m\u001b[0m\u001b[1;33m\u001b[0m\u001b[0m\n\u001b[1;32m--> 605\u001b[1;33m             \u001b[1;32mraise\u001b[0m \u001b[0mHttpResponseError\u001b[0m\u001b[1;33m(\u001b[0m\u001b[0mresponse\u001b[0m\u001b[1;33m=\u001b[0m\u001b[0mresponse\u001b[0m\u001b[1;33m,\u001b[0m \u001b[0mmodel\u001b[0m\u001b[1;33m=\u001b[0m\u001b[0merror\u001b[0m\u001b[1;33m,\u001b[0m \u001b[0merror_format\u001b[0m\u001b[1;33m=\u001b[0m\u001b[0mARMErrorFormat\u001b[0m\u001b[1;33m)\u001b[0m\u001b[1;33m\u001b[0m\u001b[1;33m\u001b[0m\u001b[0m\n\u001b[0m\u001b[0;32m    606\u001b[0m \u001b[1;33m\u001b[0m\u001b[0m\n\u001b[0;32m    607\u001b[0m         \u001b[1;32mif\u001b[0m \u001b[0mresponse\u001b[0m\u001b[1;33m.\u001b[0m\u001b[0mstatus_code\u001b[0m \u001b[1;33m==\u001b[0m \u001b[1;36m200\u001b[0m\u001b[1;33m:\u001b[0m\u001b[1;33m\u001b[0m\u001b[1;33m\u001b[0m\u001b[0m\n",
      "\u001b[1;31mHttpResponseError\u001b[0m: (ServiceError) Received 500 from a service request\nCode: ServiceError\nMessage: Received 500 from a service request\nTarget: POST https://eastus2euap.api.azureml.ms/hyperdrive/v1.0/subscriptions/d128f140-94e6-4175-87a7-954b9d27db16/resourceGroups/ragargeastus2euap/providers/Microsoft.MachineLearningServices/workspaces/hanchi-test2/experiments/iris/hdruns/sad_train_3sh0j48jzz\nException Details:\t(InternalServerError) {\"Code\": 500, \"Message\": \"\\\"Message parameters contains missing keys required for message format. Missing Key: 'required_args'\\\"\", \"Error\": {\"Code\": \"SystemError\", \"Message\": \"\\\"Message parameters contains missing keys required for message format. Missing Key: 'required_args'\\\"\"}}\n\t\n\tCode: InternalServerError\n\tMessage: {\"Code\": 500, \"Message\": \"\\\"Message parameters contains missing keys required for message format. Missing Key: 'required_args'\\\"\", \"Error\": {\"Code\": \"SystemError\", \"Message\": \"\\\"Message parameters contains missing keys required for message format. Missing Key: 'required_args'\\\"\"}}\nAdditional Information:Type: ComponentName\nInfo: {\n    \"value\": \"managementfrontend\"\n}Type: Correlation\nInfo: {\n    \"value\": {\n        \"operation\": \"97ab6611410baa459555ab09d1c679af\",\n        \"request\": \"230a3947c26b8108\"\n    }\n}Type: Environment\nInfo: {\n    \"value\": \"eastus2euap\"\n}Type: Location\nInfo: {\n    \"value\": \"eastus2euap\"\n}Type: Time\nInfo: {\n    \"value\": \"2022-04-17T07:41:12.1593212+00:00\"\n}"
     ]
    }
   ],
   "source": [
    "#submit the sweep job\n",
    "returned_sweep_job_cmd = ml_client.jobs.create_or_update(cmd_sweep_job)\n",
    "#get a URL for the status of the job\n",
    "returned_sweep_job_cmd"
   ]
  },
  {
   "cell_type": "markdown",
   "metadata": {},
   "source": [
    "# Next Steps\n",
    "You can see further examples of running a job [here](/sdk/jobs/single-step/)"
   ]
  },
  {
   "cell_type": "markdown",
   "metadata": {},
   "source": []
  }
 ],
 "metadata": {
  "description": {
   "description": "Run **hyperparameter sweep** on a Command or CommandComponent"
  },
  "interpreter": {
   "hash": "66962d4c952b5ba37638a017d6cc83bab37d76f69b13c17d86b9f71233a0aa71"
  },
  "kernelspec": {
   "display_name": "Python 3",
   "language": "python",
   "name": "python3"
  },
  "language_info": {
   "codemirror_mode": {
    "name": "ipython",
    "version": 3
   },
   "file_extension": ".py",
   "mimetype": "text/x-python",
   "name": "python",
   "nbconvert_exporter": "python",
   "pygments_lexer": "ipython3",
   "version": "3.8.5"
  }
 },
 "nbformat": 4,
 "nbformat_minor": 4
}
