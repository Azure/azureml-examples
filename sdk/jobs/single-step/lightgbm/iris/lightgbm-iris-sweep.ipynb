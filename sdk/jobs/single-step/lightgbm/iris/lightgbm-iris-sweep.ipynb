{
 "cells": [
  {
   "cell_type": "code",
   "execution_count": null,
   "metadata": {},
   "outputs": [],
   "source": [
    "#import required libraries\n",
    "from azure.ml import MLClient\n",
    "from azure.ml.entities import CommandJob, JobInput, SweepJob, Choice, Uniform, SweepJobLimits, TruncationSelectionPolicy, Objective, CommandComponent\n",
    "from azure.identity import InteractiveBrowserCredential"
   ]
  },
  {
   "cell_type": "code",
   "execution_count": null,
   "metadata": {},
   "outputs": [],
   "source": [
    "#Enter details of your AML workspace\n",
    "subscription_id = '<SUBSCRIPTION_ID>'\n",
    "resource_group = '<RESOURCE_GROUP>'\n",
    "workspace = '<AML_WORKSPACE_NAME>'"
   ]
  },
  {
   "cell_type": "code",
   "execution_count": null,
   "metadata": {},
   "outputs": [],
   "source": [
    "#get a handle to the workspace\n",
    "ml_client = MLClient(InteractiveBrowserCredential(), subscription_id, resource_group, workspace)"
   ]
  },
  {
   "cell_type": "markdown",
   "metadata": {},
   "source": [
    "## Run a command job to train a LightGBM model on the Iris dataset."
   ]
  },
  {
   "cell_type": "code",
   "execution_count": null,
   "metadata": {},
   "outputs": [],
   "source": [
    "#define the command job\n",
    "command_job=CommandJob(\n",
    "    code_local_path='./src',\n",
    "    command = 'python main.py --iris-csv ${{inputs.iris_csv}} --learning-rate ${{inputs.learning_rate}} --boosting ${{inputs.boosting}}',\n",
    "    environment='AzureML-lightgbm-3.2-ubuntu18.04-py37-cpu:11',\n",
    "    inputs={'iris_csv':JobInput(file='https://azuremlexamples.blob.core.windows.net/datasets/iris.csv'),'learning_rate': 0.9, 'boosting': 'gbdt'},\n",
    "    compute='cpu-cluster',\n",
    "    display_name='lightgbm-iris-example',\n",
    "    experiment_name='lightgbm-iris-example',\n",
    "    description='Train a LightGBM model on the Iris dataset.'\n",
    ")\n",
    "\n",
    "#submit the command job\n",
    "returned_job = ml_client.create_or_update(command_job)\n",
    "#get a URL for the status of the job\n",
    "returned_job.services[\"Studio\"].endpoint\n"
   ]
  },
  {
   "cell_type": "markdown",
   "metadata": {},
   "source": [
    "## Run a sweep on this command job\n",
    "We will now sweep this command job and supply it with different sets of parameters from the search space"
   ]
  },
  {
   "cell_type": "code",
   "execution_count": null,
   "metadata": {},
   "outputs": [],
   "source": [
    "#define the search space for this sweep. Parameters provided in search space will override parameters provided as inputs within the command job itself\n",
    "# Each trial job will be provided with a different combination of hyperparameter values that the system samples from the search_space. \n",
    "search_space = {'learning_rate': Uniform(min_value=0.01, max_value=0.9), 'boosting': Choice(values=['gbdt', 'dart'])}\n",
    "\n",
    "#define the limits for this sweep\n",
    "limits = SweepJobLimits(max_total_trials=20, max_concurrent_trials=10, timeout=7200)"
   ]
  },
  {
   "cell_type": "code",
   "execution_count": null,
   "metadata": {},
   "outputs": [],
   "source": [
    "#define the sweep job\n",
    "sweep_job = SweepJob(\n",
    "    trial=command_job,\n",
    "    compute='cpu-cluster',\n",
    "    sampling_algorithm='random',\n",
    "    search_space=search_space,\n",
    "    objective=Objective(goal='Minimize', primary_metric='test-multi_logloss'),\n",
    "    limits=limits,\n",
    "    display_name='lightgbm-iris-sweep-example',\n",
    "    experiment_name='lightgbm-iris-sweep-example',\n",
    "    description='Run a hyperparameter sweep job for LightGBM on Iris dataset.'\n",
    ")"
   ]
  },
  {
   "cell_type": "code",
   "execution_count": null,
   "metadata": {},
   "outputs": [],
   "source": [
    "#submit the sweep job\n",
    "returned_sweep_job = ml_client.create_or_update(sweep_job)\n",
    "#get a URL for the status of the job\n",
    "returned_sweep_job.services[\"Studio\"].endpoint"
   ]
  },
  {
   "cell_type": "markdown",
   "metadata": {},
   "source": [
    "## Sweep using a component\n",
    "We can use a reusable command component for the trial to run a sweep instead of a command job"
   ]
  },
  {
   "cell_type": "code",
   "execution_count": null,
   "metadata": {},
   "outputs": [],
   "source": [
    "#define the trial component\n",
    "cmd = 'python main.py --iris-csv ${{inputs.iris_csv}} --learning-rate ${{search_space.learning_rate}} --boosting ${{search_space.boosting}}'\n",
    "inputs = {'iris_csv': JobInput(file='wasbs://datasets@azuremlexamples.blob.core.windows.net/iris.csv',mode='rw_mount')}\n",
    "trial_component = CommandComponent(\n",
    "    command=cmd,\n",
    "    code_local_path='./src',\n",
    "    environment='AzureML-lightgbm-3.2-ubuntu18.04-py37-cpu:11')"
   ]
  },
  {
   "cell_type": "code",
   "execution_count": null,
   "metadata": {},
   "outputs": [],
   "source": [
    "# run sweep using this component\n",
    "cmd_sweep_job = SweepJob(\n",
    "    trial=trial_component,\n",
    "    compute='cpu-cluster',\n",
    "    sampling_algorithm='random',\n",
    "    inputs=inputs,\n",
    "    search_space=search_space,\n",
    "    objective=Objective(goal='Minimize', primary_metric='test-multi_logloss'),\n",
    "    limits=limits,\n",
    "    display_name='lightgbm-iris-sweep-component-example',\n",
    "    experiment_name='lightgbm-iris-sweep-component-example',\n",
    "    description='Run a hyperparameter sweep job using component for LightGBM on Iris dataset.'\n",
    ")"
   ]
  },
  {
   "cell_type": "code",
   "execution_count": null,
   "metadata": {},
   "outputs": [],
   "source": [
    "#submit the sweep job\n",
    "returned_sweep_job_cmd = ml_client.create_or_update(cmd_sweep_job)\n",
    "#get a URL for the status of the job\n",
    "returned_sweep_job_cmd.services[\"Studio\"].endpoint"
   ]
  }
 ],
 "metadata": {
  "interpreter": {
   "hash": "66962d4c952b5ba37638a017d6cc83bab37d76f69b13c17d86b9f71233a0aa71"
  },
  "kernelspec": {
   "display_name": "Python 3.7.12 64-bit ('vnext_dsl': conda)",
   "language": "python",
   "name": "python3"
  },
  "language_info": {
   "codemirror_mode": {
    "name": "ipython",
    "version": 3
   },
   "file_extension": ".py",
   "mimetype": "text/x-python",
   "name": "python",
   "nbconvert_exporter": "python",
   "pygments_lexer": "ipython3",
   "version": "3.7.12"
  },
  "orig_nbformat": 4
 },
 "nbformat": 4,
 "nbformat_minor": 2
}
