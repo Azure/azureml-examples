{
 "cells": [
  {
   "cell_type": "markdown",
   "metadata": {},
   "source": [
    "\n",
    "# Prerequisite"
   ]
  },
  {
   "cell_type": "code",
   "execution_count": null,
   "metadata": {},
   "outputs": [],
   "source": [
    "\n",
    "#import required libraries\n",
    "from azure.ml import MLClient, dsl\n",
    "from azure.ml.entities import CommandJob, Code, JobInput, JobOutput, Dataset\n",
    "from azure.identity import InteractiveBrowserCredential"
   ]
  },
  {
   "cell_type": "code",
   "execution_count": null,
   "metadata": {},
   "outputs": [],
   "source": [
    "#Enter details of your AML workspace\n",
    "subscription_id = '15ae9cb6-95c1-483d-a0e3-b1a1a3b06324'\n",
    "resource_group = 'user_studies'\n",
    "workspace = 'CLIV1Pipelines'"
   ]
  },
  {
   "cell_type": "code",
   "execution_count": null,
   "metadata": {},
   "outputs": [],
   "source": [
    "#get a handle to the workspace\n",
    "ml_client = MLClient(InteractiveBrowserCredential(), subscription_id, resource_group, workspace)"
   ]
  },
  {
   "cell_type": "markdown",
   "metadata": {},
   "source": [
    "# Pipeline job with command jobs\n",
    "## Create command jobs"
   ]
  },
  {
   "cell_type": "code",
   "execution_count": null,
   "metadata": {},
   "outputs": [],
   "source": [
    "# define command jobs\n",
    "environment = \"AzureML-sklearn-0.24-ubuntu18.04-py37-cpu:5\"\n",
    "parent_dir = '.'\n",
    "\n",
    "# define train job\n",
    "train_inputs = {'training_data': JobInput(dataset=Dataset(local_path=parent_dir + \"/data/\")), 'max_epocs': 20, 'learning_rate': 1.8, 'learning_rate_schedule': 'time-based'}\n",
    "train_outputs = {'model_output': JobOutput()}\n",
    "train_cmd = \"\"\"python train.py --training_data ${{inputs.training_data}} --max_epocs ${{inputs.max_epocs}}\n",
    "        --learning_rate ${{inputs.learning_rate}} --learning_rate_schedule \n",
    "        ${{inputs.learning_rate_schedule}} --model_output ${{outputs.model_output}}\"\"\"\n",
    "\n",
    "train_job = CommandJob(\n",
    "    inputs=train_inputs,\n",
    "    outputs=train_outputs,\n",
    "    display_name=\"my-train-job\",\n",
    "    code=Code(local_path=parent_dir + \"/train_src\"),\n",
    "    environment=environment,\n",
    "    compute=\"cpu-cluster\",\n",
    "    command=train_cmd\n",
    "    )\n",
    "\n",
    "# define score job\n",
    "score_inputs = {'model_input': JobInput(dataset=Dataset(local_path=parent_dir + \"/data/\")), 'test_data':JobInput(dataset=Dataset(local_path=parent_dir + \"/data/\"))}\n",
    "score_outputs = {'score_output': JobOutput()}\n",
    "score_cmd = \"\"\"python score.py --model_input ${{inputs.model_input}}\n",
    "        --test_data ${{inputs.test_data}} --score_output ${{outputs.score_output}}\"\"\"\n",
    "\n",
    "score_job = CommandJob(\n",
    "    inputs=score_inputs,\n",
    "    outputs=score_outputs,\n",
    "    display_name=\"my-score-job\",\n",
    "    code=Code(local_path=parent_dir + \"/score_src\"),\n",
    "    environment=environment,\n",
    "    command=score_cmd\n",
    "        )\n",
    "\n",
    "# define eval job\n",
    "eval_inputs = {'model_path': JobInput(dataset=Dataset(local_path=parent_dir + \"/data/\")), 'scoring_result': JobInput(dataset=Dataset(local_path=parent_dir + \"/data/\"))}\n",
    "eval_outputs = {'eval_output': JobOutput()}\n",
    "eval_cmd = \"\"\"python eval.py \n",
    "    --model_path $${{inputs.model_path}} \n",
    "    --scoring_result ${{inputs.scoring_result}} \n",
    "    --eval_output ${{outputs.eval_output}}\"\"\"\n",
    "\n",
    "eval_job = CommandJob(\n",
    "    inputs=eval_inputs,\n",
    "    outputs=eval_outputs,\n",
    "    display_name=\"my-evaluate-job\",\n",
    "    code=Code(local_path=parent_dir + \"/eval_src\"),\n",
    "    environment=environment,\n",
    "    command=eval_cmd\n",
    ")"
   ]
  },
  {
   "cell_type": "code",
   "execution_count": null,
   "metadata": {},
   "outputs": [],
   "source": [
    "# convert jobs into components\n",
    "train_func = dsl.load_component(component=train_job)\n",
    "score_func = dsl.load_component(component=score_job)\n",
    "eval_func = dsl.load_component(component=eval_job)"
   ]
  },
  {
   "cell_type": "markdown",
   "metadata": {},
   "source": [
    "## Build pipeline"
   ]
  },
  {
   "cell_type": "code",
   "execution_count": null,
   "metadata": {},
   "outputs": [],
   "source": [
    "# construct pipeline with command job\n",
    "@dsl.pipeline(\n",
    "    compute=\"cpu-cluster\",\n",
    ")\n",
    "def sample_pipeline(\n",
    "        pipeline_job_training_input,\n",
    "        pipeline_job_test_input,\n",
    "        pipeline_job_training_max_epocs,\n",
    "        pipeline_job_training_learning_rate,\n",
    "        pipeline_job_learning_rate_schedule,\n",
    "):\n",
    "    \n",
    "    train_node = train_func(\n",
    "        training_data=pipeline_job_training_input,\n",
    "        max_epocs=pipeline_job_training_max_epocs,\n",
    "        learning_rate=pipeline_job_training_learning_rate,\n",
    "        learning_rate_schedule=pipeline_job_learning_rate_schedule,\n",
    "    )\n",
    "\n",
    "    score_node = score_func(\n",
    "        model_input=train_node.outputs.model_output,\n",
    "        test_data=pipeline_job_test_input,\n",
    "    )\n",
    "\n",
    "    eval_node = eval_func(model_path=train_node.outputs.model_output,scoring_result=score_node.outputs.score_output)\n",
    "    return {\n",
    "        \"pipeline_job_trained_model\": train_node.outputs.model_output,\n",
    "        \"pipeline_job_scored_data\": score_node.outputs.score_output,\n",
    "        \"pipeline_job_evaluation_report\": eval_node.outputs.eval_output,\n",
    "    }\n",
    "\n",
    "# create pipeline instance\n",
    "pipeline = sample_pipeline(\n",
    "    Dataset(local_path=parent_dir + \"/data/\"),\n",
    "    Dataset(local_path=parent_dir + \"/data/\"),\n",
    "    20,\n",
    "    1.8,\n",
    "    \"time-based\",\n",
    ")\n",
    "pipeline.outputs.pipeline_job_trained_model.mode = \"upload\"\n",
    "pipeline.outputs.pipeline_job_scored_data.mode = \"upload\"\n",
    "pipeline.outputs.pipeline_job_evaluation_report.mode = \"upload\""
   ]
  },
  {
   "cell_type": "code",
   "execution_count": null,
   "metadata": {},
   "outputs": [],
   "source": [
    "# submit job to workspace\n",
    "ml_client.jobs.create_or_update(pipeline, experiment_name=\"command_job_in_pipeline\", continue_run_on_step_failure=True)"
   ]
  }
 ],
 "metadata": {
  "interpreter": {
   "hash": "3e9e0e270b75c5e6da2e22113ba4f77b864d68f95da6601809c29e46c73ae6bb"
  },
  "kernelspec": {
   "display_name": "Python 3",
   "language": "python",
   "name": "python3"
  },
  "language_info": {
   "codemirror_mode": {
    "name": "ipython",
    "version": 3
   },
   "file_extension": ".py",
   "mimetype": "text/x-python",
   "name": "python",
   "nbconvert_exporter": "python",
   "pygments_lexer": "ipython3",
   "version": "3.7.8"
  }
 },
 "nbformat": 4,
 "nbformat_minor": 4
}
