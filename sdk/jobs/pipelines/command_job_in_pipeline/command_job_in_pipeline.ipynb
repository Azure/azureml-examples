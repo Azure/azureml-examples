{
 "cells": [
  {
   "cell_type": "markdown",
   "metadata": {},
   "source": [
    "\n",
    "# Prerequisite"
   ]
  },
  {
   "cell_type": "code",
   "execution_count": 1,
   "metadata": {},
   "outputs": [],
   "source": [
    "\n",
    "#import required libraries\n",
    "from azure.ml import MLClient\n",
    "from azure.ml.entities import CommandJob, Code, PipelineJob, Dataset, InputDatasetEntry"
   ]
  },
  {
   "cell_type": "code",
   "execution_count": 2,
   "metadata": {},
   "outputs": [],
   "source": [
    "\n",
    "#Enter details of your AML workspace\n",
    "subscription_id = '<SUBSCRIPTION_ID>'\n",
    "resource_group = '<RESOURCE_GROUP>'\n",
    "workspace = '<AML_WORKSPACE_NAME>'"
   ]
  },
  {
   "cell_type": "code",
   "execution_count": 3,
   "metadata": {},
   "outputs": [],
   "source": [
    "#get a handle to the workspace\n",
    "ml_client = MLClient(subscription_id, resource_group, workspace)"
   ]
  },
  {
   "cell_type": "markdown",
   "metadata": {},
   "source": [
    "# Pipeline job with command jobs\n",
    "## Create command jobs"
   ]
  },
  {
   "cell_type": "code",
   "execution_count": 4,
   "metadata": {},
   "outputs": [],
   "source": [
    "# define command jobs\n",
    "environment = \"AzureML-sklearn-0.24-ubuntu18.04-py37-cpu:5\"\n",
    "parent_dir = '.'\n",
    "train_job = CommandJob(\n",
    "    inputs=dict(\n",
    "        training_data=InputDatasetEntry(dataset=Dataset(local_path=parent_dir + \"/data/\")),\n",
    "        max_epocs=20,\n",
    "        learning_rate=1.8,\n",
    "        learning_rate_schedule='time-based',\n",
    "        ),\n",
    "    outputs=dict(\n",
    "        model_output=None\n",
    "        ),\n",
    "    display_name=\"my-train-job\",\n",
    "    code=Code(local_path=parent_dir + \"/train_src\"),\n",
    "    environment=environment,\n",
    "    compute=\"cpu-cluster\",\n",
    "    command=\"\"\"python train.py --training_data ${{inputs.training_data}} --max_epocs ${{inputs.max_epocs}}\n",
    "        --learning_rate ${{inputs.learning_rate}} --learning_rate_schedule \n",
    "        ${{inputs.learning_rate_schedule}} --model_output ${{outputs.model_output}}\"\"\"\n",
    "    )\n",
    "\n",
    "score_job = CommandJob(\n",
    "    inputs=dict(\n",
    "        model_input=InputDatasetEntry(dataset=Dataset(local_path=parent_dir + \"/data/\")),\n",
    "        test_data=InputDatasetEntry(dataset=Dataset(local_path=parent_dir + \"/data/\")),\n",
    "        ),\n",
    "    outputs=dict(\n",
    "        score_output=None\n",
    "        ),\n",
    "    display_name=\"my-score-job\",\n",
    "    code=Code(local_path=parent_dir + \"/score_src\"),\n",
    "    environment=environment,\n",
    "    command=\"\"\"python score.py --model_input ${{inputs.model_input}}\n",
    "        --test_data ${{inputs.test_data}} --score_output ${{outputs.score_output}}\"\"\"\n",
    "        )\n",
    "\n",
    "eval_job = CommandJob(\n",
    "    inputs=dict(\n",
    "        scoring_result=InputDatasetEntry(dataset=Dataset(local_path=parent_dir + \"/data/\")),\n",
    "    ),\n",
    "    outputs=dict(\n",
    "        eval_output=None\n",
    "    ),\n",
    "    display_name=\"my-evaluate-job\",\n",
    "    environment=environment,\n",
    "    command='echo \"hello world\"'\n",
    ")"
   ]
  },
  {
   "cell_type": "markdown",
   "metadata": {},
   "source": [
    "## Build pipeline"
   ]
  },
  {
   "cell_type": "code",
   "execution_count": 5,
   "metadata": {},
   "outputs": [],
   "source": [
    "from azure.ml import dsl\n",
    "from azure.ml.dsl import Pipeline\n",
    "from azure.ml.entities import Dataset\n",
    "\n",
    "def generate_dsl_pipeline() -> Pipeline:\n",
    "    # 1. Construct pipeline with command job\n",
    "    @dsl.pipeline(\n",
    "        compute=\"cpu-cluster\",\n",
    "    )\n",
    "    def sample_pipeline(\n",
    "            pipeline_job_training_input,\n",
    "            pipeline_job_test_input,\n",
    "            pipeline_job_training_max_epocs,\n",
    "            pipeline_job_training_learning_rate,\n",
    "            pipeline_job_learning_rate_schedule,\n",
    "    ):\n",
    "        \n",
    "        train_func = dsl.load_component(component=train_job)\n",
    "        train_node = train_func(\n",
    "            training_data=pipeline_job_training_input,\n",
    "            max_epocs=pipeline_job_training_max_epocs,\n",
    "            learning_rate=pipeline_job_training_learning_rate,\n",
    "            learning_rate_schedule=pipeline_job_learning_rate_schedule,\n",
    "        )\n",
    "\n",
    "        score_func = dsl.load_component(component=score_job)\n",
    "        score_node = score_func(\n",
    "            model_input=train_node.outputs.model_output,\n",
    "            test_data=pipeline_job_test_input,\n",
    "        )\n",
    "        eval_func = dsl.load_component(component=eval_job)\n",
    "        eval_node = eval_func(scoring_result=score_node.outputs.score_output)\n",
    "        return {\n",
    "            \"pipeline_job_trained_model\": train_node.outputs.model_output,\n",
    "            \"pipeline_job_scored_data\": score_node.outputs.score_output,\n",
    "            \"pipeline_job_evaluation_report\": eval_node.outputs.eval_output,\n",
    "        }\n",
    "\n",
    "    pipeline = sample_pipeline(\n",
    "        Dataset(local_path=parent_dir + \"/data/\"),\n",
    "        Dataset(local_path=parent_dir + \"/data/\"),\n",
    "        20,\n",
    "        1.8,\n",
    "        \"time-based\",\n",
    "    )\n",
    "    pipeline.outputs.pipeline_job_trained_model.mode = \"upload\"\n",
    "    pipeline.outputs.pipeline_job_scored_data.mode = \"upload\"\n",
    "    pipeline.outputs.pipeline_job_evaluation_report.mode = \"upload\"\n",
    "\n",
    "    return pipeline"
   ]
  },
  {
   "cell_type": "markdown",
   "metadata": {},
   "source": [
    "## Submit pipeline job"
   ]
  },
  {
   "cell_type": "code",
   "execution_count": 6,
   "metadata": {},
   "outputs": [
    {
     "name": "stderr",
     "output_type": "stream",
     "text": [
      "Uploading COMPONENT_PLACEHOLDER: 100%|██████████| 41.0/41.0 [00:00<00:00, 169B/s]\n",
      "compute is not a known attribute of class <class 'azure.ml._restclient.v2021_10_01.models._models_py3.PipelineJob'> and will be ignored\n"
     ]
    },
    {
     "data": {
      "text/plain": [
       "PipelineJob({'display_name': 'wheat_ship_chl0h85t', 'type': 'pipeline', 'status': 'Preparing', 'log_files': None, 'parent_job_name': None, 'name': '65a90449-7dc7-46d3-87c3-3a3837ccc5d3', 'description': None, 'tags': {'azureml.pipelineComponent': 'pipelinerun'}, 'properties': {'mlflow.source.git.repoURL': 'https://github.com/cloga/azureml-examples.git', 'mlflow.source.git.branch': 'lochen/pipeline-dsl-example', 'mlflow.source.git.commit': '539c39d6ab41101349ea6ad13a47bd4e046a6b9b', 'azureml.git.dirty': 'True', 'azureml.runsource': 'azureml.PipelineRun', 'runSource': 'MFE', 'runType': 'HTTP', 'azureml.parameters': '{\"pipeline_job_training_max_epocs\":\"20\",\"pipeline_job_training_learning_rate\":\"1.8\",\"pipeline_job_learning_rate_schedule\":\"time-based\"}', 'azureml.continue_on_step_failure': 'True', 'azureml.pipelineComponent': 'pipelinerun'}, 'id': '/subscriptions/4aaa645c-5ae2-4ae9-a17a-84b9023bc56a/resourceGroups/itp-pilot-ResGrp/providers/Microsoft.MachineLearningServices/workspaces/itp-pilot-eastus/jobs/65a90449-7dc7-46d3-87c3-3a3837ccc5d3', 'base_path': './', 'creation_context': <azure.ml._restclient.v2021_10_01.models._models_py3.SystemData object at 0x000001C57C21AE48>, 'serialize': <msrest.serialization.Serializer object at 0x000001C57C2168C8>, 'experiment_name': 'command_job_in_pipeline', 'compute': 'cpu-cluster', 'services': {'Tracking': <azure.ml._restclient.v2021_10_01.models._models_py3.JobService object at 0x000001C57C21E548>, 'Studio': <azure.ml._restclient.v2021_10_01.models._models_py3.JobService object at 0x000001C57C21E588>}, 'inputs': {'pipeline_job_training_input': {'dataset': 'fa457506-059d-448d-b3f8-214b123f1992:1', 'mode': 'ro_mount'}, 'pipeline_job_test_input': {'dataset': '5082db6f-2ae1-4c45-b9de-7ae73dcd1dcf:1', 'mode': 'ro_mount'}, 'pipeline_job_training_max_epocs': '20', 'pipeline_job_training_learning_rate': '1.8', 'pipeline_job_learning_rate_schedule': 'time-based'}, 'jobs': {'train_node': <azure.ml.entities._job.pipeline.component_job.ComponentJob object at 0x000001C57C2169C8>, 'score_node': <azure.ml.entities._job.pipeline.component_job.ComponentJob object at 0x000001C57C216848>, 'eval_node': <azure.ml.entities._job.pipeline.component_job.ComponentJob object at 0x000001C57C216AC8>}, 'outputs': {'pipeline_job_trained_model': {'dataset': None, 'mode': 'upload'}, 'pipeline_job_scored_data': {'dataset': None, 'mode': 'upload'}, 'pipeline_job_evaluation_report': {'dataset': None, 'mode': 'upload'}}, 'settings': <azure.ml.entities._job.pipeline.pipeline_job_settings.PipelineJobSettings object at 0x000001C57C2165C8>})"
      ]
     },
     "execution_count": 6,
     "metadata": {},
     "output_type": "execute_result"
    }
   ],
   "source": [
    "# create pipeline instance\n",
    "pipeline = generate_dsl_pipeline()\n",
    "# submit job to workspace\n",
    "ml_client.jobs.create_or_update(pipeline, experiment_name=\"command_job_in_pipeline\", continue_run_on_step_failure=True)"
   ]
  }
 ],
 "metadata": {
  "interpreter": {
   "hash": "3e9e0e270b75c5e6da2e22113ba4f77b864d68f95da6601809c29e46c73ae6bb"
  },
  "kernelspec": {
   "display_name": "Python 3.7.8 64-bit",
   "language": "python",
   "name": "python3"
  },
  "language_info": {
   "codemirror_mode": {
    "name": "ipython",
    "version": 3
   },
   "file_extension": ".py",
   "mimetype": "text/x-python",
   "name": "python",
   "nbconvert_exporter": "python",
   "pygments_lexer": "ipython3",
   "version": "3.7.8"
  },
  "orig_nbformat": 4
 },
 "nbformat": 4,
 "nbformat_minor": 2
}
