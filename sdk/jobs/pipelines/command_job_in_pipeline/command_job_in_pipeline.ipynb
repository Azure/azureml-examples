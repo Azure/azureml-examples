{
 "cells": [
  {
   "cell_type": "markdown",
   "metadata": {},
   "source": [
    "\n",
    "# Prerequisite"
   ]
  },
  {
   "cell_type": "code",
   "execution_count": 13,
   "metadata": {},
   "outputs": [],
   "source": [
    "\n",
    "#import required libraries\n",
    "from azure.ml import MLClient\n",
    "from azure.ml.entities import CommandJob, Code, Data, JobInput\n",
    "from azure.identity import InteractiveBrowserCredential\n",
    "from azure.ml._constants import AssetTypes"
   ]
  },
  {
   "cell_type": "code",
   "execution_count": 2,
   "metadata": {},
   "outputs": [],
   "source": [
    "\n",
    "#Enter details of your AML workspace\n",
    "# subscription_id = '<SUBSCRIPTION_ID>'\n",
    "# resource_group = '<RESOURCE_GROUP>'\n",
    "# workspace = '<AML_WORKSPACE_NAME>'\n",
    "\n",
    "#Enter details of your AML workspace\n",
    "subscription_id = 'ee85ed72-2b26-48f6-a0e8-cb5bcf98fbd9'\n",
    "resource_group = 'pipeline-pm'\n",
    "workspace = 'pm-dev'"
   ]
  },
  {
   "cell_type": "code",
   "execution_count": 3,
   "metadata": {},
   "outputs": [],
   "source": [
    "#get a handle to the workspace\n",
    "ml_client = MLClient(InteractiveBrowserCredential(), subscription_id, resource_group, workspace)"
   ]
  },
  {
   "cell_type": "markdown",
   "metadata": {},
   "source": [
    "# Pipeline job with command jobs\n",
    "## Create command jobs"
   ]
  },
  {
   "cell_type": "code",
   "execution_count": 8,
   "metadata": {},
   "outputs": [],
   "source": [
    "# define command jobs\n",
    "environment = \"AzureML-sklearn-0.24-ubuntu18.04-py37-cpu:5\"\n",
    "parent_dir = '.'\n",
    "train_job = CommandJob(\n",
    "    inputs=dict(\n",
    "        training_data=JobInput(type=AssetTypes.URI_FOLDER, path=parent_dir+\"/data/\"),\n",
    "        max_epocs=20,\n",
    "        learning_rate=1.8,\n",
    "        learning_rate_schedule='time-based',\n",
    "        ),\n",
    "    outputs=dict(\n",
    "        model_output=None\n",
    "        ),\n",
    "    display_name=\"my-train-job\",\n",
    "    code=parent_dir+\"/train_src\",\n",
    "    environment=environment,\n",
    "    compute=\"cpu-cluster\",\n",
    "    command=\"\"\"python train.py --training_data ${{inputs.training_data}} --max_epocs ${{inputs.max_epocs}}\n",
    "        --learning_rate ${{inputs.learning_rate}} --learning_rate_schedule \n",
    "        ${{inputs.learning_rate_schedule}} --model_output ${{outputs.model_output}}\"\"\"\n",
    "    )\n",
    "\n",
    "score_job = CommandJob(\n",
    "    inputs=dict(\n",
    "        model_input=JobInput(type=AssetTypes.URI_FOLDER, path=parent_dir + \"/data/\"),\n",
    "        test_data=JobInput(type=AssetTypes.URI_FOLDER, path=parent_dir + \"/data/\"),\n",
    "        ),\n",
    "    outputs=dict(\n",
    "        score_output=None\n",
    "        ),\n",
    "    display_name=\"my-score-job\",\n",
    "    code=parent_dir+\"/score_src\",\n",
    "    environment=environment,\n",
    "    command=\"\"\"python score.py --model_input ${{inputs.model_input}}\n",
    "        --test_data ${{inputs.test_data}} --score_output ${{outputs.score_output}}\"\"\"\n",
    "        )\n",
    "\n",
    "eval_job = CommandJob(\n",
    "    inputs=dict(\n",
    "        scoring_result=JobInput(type=AssetTypes.URI_FOLDER, path=parent_dir + \"/data/\"),\n",
    "    ),\n",
    "    outputs=dict(\n",
    "        eval_output=None\n",
    "    ),\n",
    "    display_name=\"my-evaluate-job\",\n",
    "    environment=environment,\n",
    "    command='echo \"hello world\"'\n",
    ")"
   ]
  },
  {
   "cell_type": "markdown",
   "metadata": {},
   "source": [
    "## Build pipeline"
   ]
  },
  {
   "cell_type": "code",
   "execution_count": 14,
   "metadata": {},
   "outputs": [],
   "source": [
    "from azure.ml import dsl\n",
    "from azure.ml.dsl import Pipeline\n",
    "from pathlib import Path\n",
    "\n",
    "def generate_dsl_pipeline() -> Pipeline:\n",
    "    # 1. Construct pipeline with command job\n",
    "    @dsl.pipeline(\n",
    "        compute=\"cpu-cluster\",\n",
    "    )\n",
    "    def sample_pipeline(\n",
    "            pipeline_job_training_input,\n",
    "            pipeline_job_test_input,\n",
    "            pipeline_job_training_max_epocs,\n",
    "            pipeline_job_training_learning_rate,\n",
    "            pipeline_job_learning_rate_schedule,\n",
    "    ):\n",
    "        \n",
    "        train_func = load_component(component=train_job)\n",
    "        train_node = train_func(\n",
    "            training_data=pipeline_job_training_input,\n",
    "            max_epocs=pipeline_job_training_max_epocs,\n",
    "            learning_rate=pipeline_job_training_learning_rate,\n",
    "            learning_rate_schedule=pipeline_job_learning_rate_schedule,\n",
    "        )\n",
    "\n",
    "        score_func = load_component(component=score_job)\n",
    "        score_node = score_func(\n",
    "            model_input=train_node.outputs.model_output,\n",
    "            test_data=pipeline_job_test_input,\n",
    "        )\n",
    "        eval_func = load_component(component=eval_job)\n",
    "        eval_node = eval_func(scoring_result=score_node.outputs.score_output)\n",
    "        return {\n",
    "            \"pipeline_job_trained_model\": train_node.outputs.model_output,\n",
    "            \"pipeline_job_scored_data\": score_node.outputs.score_output,\n",
    "            \"pipeline_job_evaluation_report\": eval_node.outputs.eval_output,\n",
    "        }\n",
    "\n",
    "    pipeline = sample_pipeline(\n",
    "        Data(type=AssetTypes.URI_FOLDER, path=parent_dir + \"/data/\"),\n",
    "        Data(type=AssetTypes.URI_FOLDER, path=parent_dir + \"/data/\"),\n",
    "        20,\n",
    "        1.8,\n",
    "        \"time-based\",\n",
    "    )\n",
    "    pipeline.outputs.pipeline_job_trained_model.mode = \"upload\"\n",
    "    pipeline.outputs.pipeline_job_scored_data.mode = \"upload\"\n",
    "    pipeline.outputs.pipeline_job_evaluation_report.mode = \"upload\"\n",
    "\n",
    "    return pipeline"
   ]
  },
  {
   "cell_type": "markdown",
   "metadata": {},
   "source": [
    "## Submit pipeline job"
   ]
  },
  {
   "cell_type": "code",
   "execution_count": 15,
   "metadata": {},
   "outputs": [
    {
     "ename": "AttributeError",
     "evalue": "module 'azure.ml.dsl' has no attribute 'load_component'",
     "output_type": "error",
     "traceback": [
      "\u001b[1;31m---------------------------------------------------------------------------\u001b[0m",
      "\u001b[1;31mAttributeError\u001b[0m                            Traceback (most recent call last)",
      "\u001b[1;32m<ipython-input-15-c609d483c0ef>\u001b[0m in \u001b[0;36m<module>\u001b[1;34m\u001b[0m\n\u001b[0;32m      1\u001b[0m \u001b[1;31m# create pipeline instance\u001b[0m\u001b[1;33m\u001b[0m\u001b[1;33m\u001b[0m\u001b[1;33m\u001b[0m\u001b[0m\n\u001b[1;32m----> 2\u001b[1;33m \u001b[0mpipeline\u001b[0m \u001b[1;33m=\u001b[0m \u001b[0mgenerate_dsl_pipeline\u001b[0m\u001b[1;33m(\u001b[0m\u001b[1;33m)\u001b[0m\u001b[1;33m\u001b[0m\u001b[1;33m\u001b[0m\u001b[0m\n\u001b[0m\u001b[0;32m      3\u001b[0m \u001b[1;31m# submit job to workspace\u001b[0m\u001b[1;33m\u001b[0m\u001b[1;33m\u001b[0m\u001b[1;33m\u001b[0m\u001b[0m\n\u001b[0;32m      4\u001b[0m \u001b[0mml_client\u001b[0m\u001b[1;33m.\u001b[0m\u001b[0mcreate_or_update\u001b[0m\u001b[1;33m(\u001b[0m\u001b[0mpipeline\u001b[0m\u001b[1;33m,\u001b[0m \u001b[0mexperiment_name\u001b[0m\u001b[1;33m=\u001b[0m\u001b[1;34m\"command_job_in_pipeline\"\u001b[0m\u001b[1;33m,\u001b[0m \u001b[0mcontinue_run_on_step_failure\u001b[0m\u001b[1;33m=\u001b[0m\u001b[1;32mTrue\u001b[0m\u001b[1;33m)\u001b[0m\u001b[1;33m\u001b[0m\u001b[1;33m\u001b[0m\u001b[0m\n",
      "\u001b[1;32m<ipython-input-14-6e38dcfd0447>\u001b[0m in \u001b[0;36mgenerate_dsl_pipeline\u001b[1;34m()\u001b[0m\n\u001b[0;32m     38\u001b[0m         \u001b[1;36m20\u001b[0m\u001b[1;33m,\u001b[0m\u001b[1;33m\u001b[0m\u001b[1;33m\u001b[0m\u001b[0m\n\u001b[0;32m     39\u001b[0m         \u001b[1;36m1.8\u001b[0m\u001b[1;33m,\u001b[0m\u001b[1;33m\u001b[0m\u001b[1;33m\u001b[0m\u001b[0m\n\u001b[1;32m---> 40\u001b[1;33m         \u001b[1;34m\"time-based\"\u001b[0m\u001b[1;33m,\u001b[0m\u001b[1;33m\u001b[0m\u001b[1;33m\u001b[0m\u001b[0m\n\u001b[0m\u001b[0;32m     41\u001b[0m     )\n\u001b[0;32m     42\u001b[0m     \u001b[0mpipeline\u001b[0m\u001b[1;33m.\u001b[0m\u001b[0moutputs\u001b[0m\u001b[1;33m.\u001b[0m\u001b[0mpipeline_job_trained_model\u001b[0m\u001b[1;33m.\u001b[0m\u001b[0mmode\u001b[0m \u001b[1;33m=\u001b[0m \u001b[1;34m\"upload\"\u001b[0m\u001b[1;33m\u001b[0m\u001b[1;33m\u001b[0m\u001b[0m\n",
      "\u001b[1;32mc:\\users\\lochen\\documents\\sdk-cli-v2\\src\\azure-ml\\azure\\ml\\dsl\\_pipeline_decorator.py\u001b[0m in \u001b[0;36mwrapper\u001b[1;34m(*args, **kwargs)\u001b[0m\n\u001b[0;32m    112\u001b[0m                 \u001b[0mtags\u001b[0m\u001b[1;33m=\u001b[0m\u001b[0mtags\u001b[0m\u001b[1;33m,\u001b[0m\u001b[1;33m\u001b[0m\u001b[1;33m\u001b[0m\u001b[0m\n\u001b[0;32m    113\u001b[0m             )\n\u001b[1;32m--> 114\u001b[1;33m             \u001b[0mpipeline_component\u001b[0m \u001b[1;33m=\u001b[0m \u001b[0mpipeline_builder\u001b[0m\u001b[1;33m.\u001b[0m\u001b[0mbuild\u001b[0m\u001b[1;33m(\u001b[0m\u001b[0m_build_pipeline_parameter\u001b[0m\u001b[1;33m(\u001b[0m\u001b[0mfunc\u001b[0m\u001b[1;33m)\u001b[0m\u001b[1;33m)\u001b[0m\u001b[1;33m\u001b[0m\u001b[1;33m\u001b[0m\u001b[0m\n\u001b[0m\u001b[0;32m    115\u001b[0m \u001b[1;33m\u001b[0m\u001b[0m\n\u001b[0;32m    116\u001b[0m             \u001b[1;31m# TODO: pass compute & default_compute separately?\u001b[0m\u001b[1;33m\u001b[0m\u001b[1;33m\u001b[0m\u001b[1;33m\u001b[0m\u001b[0m\n",
      "\u001b[1;32mc:\\users\\lochen\\documents\\sdk-cli-v2\\src\\azure-ml\\azure\\ml\\dsl\\_pipeline_component_builder.py\u001b[0m in \u001b[0;36mbuild\u001b[1;34m(self, kwargs)\u001b[0m\n\u001b[0;32m    147\u001b[0m         \u001b[1;32mtry\u001b[0m\u001b[1;33m:\u001b[0m\u001b[1;33m\u001b[0m\u001b[1;33m\u001b[0m\u001b[0m\n\u001b[0;32m    148\u001b[0m             \u001b[1;32mwith\u001b[0m \u001b[0mreplace_sys_profiler\u001b[0m\u001b[1;33m(\u001b[0m\u001b[0mfunc_variable_profiler\u001b[0m\u001b[1;33m)\u001b[0m\u001b[1;33m:\u001b[0m\u001b[1;33m\u001b[0m\u001b[1;33m\u001b[0m\u001b[0m\n\u001b[1;32m--> 149\u001b[1;33m                 \u001b[0moutputs\u001b[0m \u001b[1;33m=\u001b[0m \u001b[0mself\u001b[0m\u001b[1;33m.\u001b[0m\u001b[0mfunc\u001b[0m\u001b[1;33m(\u001b[0m\u001b[1;33m**\u001b[0m\u001b[0mkwargs\u001b[0m\u001b[1;33m)\u001b[0m\u001b[1;33m\u001b[0m\u001b[1;33m\u001b[0m\u001b[0m\n\u001b[0m\u001b[0;32m    150\u001b[0m         \u001b[1;32mfinally\u001b[0m\u001b[1;33m:\u001b[0m\u001b[1;33m\u001b[0m\u001b[1;33m\u001b[0m\u001b[0m\n\u001b[0;32m    151\u001b[0m             \u001b[0m_definition_builder_stack\u001b[0m\u001b[1;33m.\u001b[0m\u001b[0mpop\u001b[0m\u001b[1;33m(\u001b[0m\u001b[1;33m)\u001b[0m\u001b[1;33m\u001b[0m\u001b[1;33m\u001b[0m\u001b[0m\n",
      "\u001b[1;32m<ipython-input-14-6e38dcfd0447>\u001b[0m in \u001b[0;36msample_pipeline\u001b[1;34m(pipeline_job_training_input, pipeline_job_test_input, pipeline_job_training_max_epocs, pipeline_job_training_learning_rate, pipeline_job_learning_rate_schedule)\u001b[0m\n\u001b[0;32m     12\u001b[0m     ):\n\u001b[0;32m     13\u001b[0m \u001b[1;33m\u001b[0m\u001b[0m\n\u001b[1;32m---> 14\u001b[1;33m         \u001b[0mtrain_func\u001b[0m \u001b[1;33m=\u001b[0m \u001b[0mdsl\u001b[0m\u001b[1;33m.\u001b[0m\u001b[0mload_component\u001b[0m\u001b[1;33m(\u001b[0m\u001b[0mcomponent\u001b[0m\u001b[1;33m=\u001b[0m\u001b[0mtrain_job\u001b[0m\u001b[1;33m)\u001b[0m\u001b[1;33m\u001b[0m\u001b[1;33m\u001b[0m\u001b[0m\n\u001b[0m\u001b[0;32m     15\u001b[0m         train_node = train_func(\n\u001b[0;32m     16\u001b[0m             \u001b[0mtraining_data\u001b[0m\u001b[1;33m=\u001b[0m\u001b[0mpipeline_job_training_input\u001b[0m\u001b[1;33m,\u001b[0m\u001b[1;33m\u001b[0m\u001b[1;33m\u001b[0m\u001b[0m\n",
      "\u001b[1;31mAttributeError\u001b[0m: module 'azure.ml.dsl' has no attribute 'load_component'"
     ]
    }
   ],
   "source": [
    "# create pipeline instance\n",
    "pipeline = generate_dsl_pipeline()\n",
    "# submit job to workspace\n",
    "ml_client.jobs.create_or_update(pipeline, experiment_name=\"command_job_in_pipeline\", continue_run_on_step_failure=True)"
   ]
  }
 ],
 "metadata": {
  "interpreter": {
   "hash": "3e9e0e270b75c5e6da2e22113ba4f77b864d68f95da6601809c29e46c73ae6bb"
  },
  "kernelspec": {
   "display_name": "Python 3",
   "language": "python",
   "name": "python3"
  },
  "language_info": {
   "codemirror_mode": {
    "name": "ipython",
    "version": 3
   },
   "file_extension": ".py",
   "mimetype": "text/x-python",
   "name": "python",
   "nbconvert_exporter": "python",
   "pygments_lexer": "ipython3",
   "version": "3.7.12"
  }
 },
 "nbformat": 4,
 "nbformat_minor": 4
}
