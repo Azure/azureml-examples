{
 "cells": [
  {
   "cell_type": "code",
   "execution_count": null,
   "metadata": {},
   "outputs": [],
   "source": [
    "# import required libraries\n",
    "from azure.identity import DefaultAzureCredential, InteractiveBrowserCredential\n",
    "from azure.ai.ml import MLClient, Input, Output\n",
    "from azure.ai.ml import spark\n",
    "from azure.ai.ml.dsl import pipeline"
   ]
  },
  {
   "cell_type": "code",
   "execution_count": null,
   "metadata": {},
   "outputs": [],
   "source": [
    "try:\n",
    "    credential = DefaultAzureCredential()\n",
    "    # Check if given credential can get token successfully.\n",
    "    credential.get_token(\"https://management.azure.com/.default\")\n",
    "except Exception as ex:\n",
    "    # Fall back to InteractiveBrowserCredential in case DefaultAzureCredential not work\n",
    "    credential = InteractiveBrowserCredential()"
   ]
  },
  {
   "cell_type": "code",
   "execution_count": null,
   "metadata": {},
   "outputs": [],
   "source": [
    "# Get a handle to workspace\n",
    "ml_client = MLClient.from_config(credential=credential)\n",
    "\n",
    "# Retrieve an already attached Azure Machine Learning Compute.\n",
    "synapse_compute = \"synapse-compute\"\n",
    "print(ml_client.compute.get(synapse_compute))"
   ]
  },
  {
   "cell_type": "code",
   "execution_count": null,
   "metadata": {},
   "outputs": [],
   "source": [
    "from azure.ai.ml import ManagedIdentity\n",
    "\n",
    "# Define pipeline\n",
    "@pipeline(description=\"Spark pipeline job\")\n",
    "def spark_pipeline_job(input_data, output_data):\n",
    "    # define the spark task\n",
    "    spark_node = spark(\n",
    "        code=\"./src\",\n",
    "        entry=\"program.py\",\n",
    "        py_files=['my_python.py'],\n",
    "        jars=['my_java.jar'],\n",
    "        files=['my_file.txt'],\n",
    "        archives=['my_archive.tar'],\n",
    "        driver_cores=1,\n",
    "        driver_memory=\"2g\",\n",
    "        executor_cores=2,\n",
    "        exeutor_memory=\"2g\",\n",
    "        executor_instances=4,\n",
    "        conf={\n",
    "            # Spark config key/value pairs (optional)\n",
    "            \"spark.jars.packages\": \"<group>:<artifact>:<version>,com.microsoft.ml.spark:mmlspark_2.11:0.15\",\n",
    "            \"spark.jars.repositories\": \"<repo links>,\\\"https://mmlspark.azureedge.net/maven\\\"\",\n",
    "            \"spark.jars.excludes\": \"<group>:<artifact>,slf4j:slf4j\"\n",
    "        },\n",
    "        environment='myenv:v1',\n",
    "        # Alternatively, provide 'conda_file' for environment\n",
    "        # environment={\"conda_file\": \"./conda.config\"},\n",
    "        inputs=dict(input_folder=input_data),\n",
    "        outputs=dict(output_folder=output_data),\n",
    "        args=\"--myinput ${{inputs.input_folder}} --myoutput ${{outputs.output_folder}}\",\n",
    "        identity=ManagedIdentity(client_id=\"xyz\"),\n",
    "        compute=synapse_compute,\n",
    "        # For HOBO spark, provide 'resources'\n",
    "        # resources={\"instance_type\": \"Standard_E8S_V3\", \"runtime_version\": \"3.1.0\"}\n",
    "    )\n",
    "    return {\"output_folder\": spark_node.outputs.output_folder}\n",
    "\n",
    "\n",
    "pipeline = spark_pipeline_job(\n",
    "    input_data=Input(path=\"azureml:mytable2:3.0\", type=\"mltable\", mode=\"direct\"),\n",
    "    output_data=Output(type=\"uri_folder\", mode=\"direct\", path=\"wasbs://mycontainer@mystorageaccount.blob.core.windows.net/path/to/folder\"))"
   ]
  },
  {
   "cell_type": "code",
   "execution_count": null,
   "metadata": {},
   "outputs": [],
   "source": [
    "from azure.ai.ml import load_component\n",
    "\n",
    "# Define pipeline using yaml\n",
    "@pipeline(description=\"Spark pipeline job\",)\n",
    "def spark_pipeline_job_from_yaml(input_data):\n",
    "    # define the spark task\n",
    "    spark_node = load_component('spark-component.yaml')(input_folder=input_data)\n",
    "    return {\"output_folder\": spark_node.outputs.output_folder}\n",
    "\n",
    "\n",
    "pipeline = spark_pipeline_job_from_yaml(input_data=Input(path=\"azureml:mytable2:3.0\", type=\"mltable\", mode=\"direct\"))"
   ]
  },
  {
   "cell_type": "code",
   "execution_count": null,
   "metadata": {},
   "outputs": [],
   "source": [
    "# submit the pipeline job\n",
    "pipeline_job = ml_client.jobs.create_or_update(pipeline, experiment_name=\"spark-pipeline\")\n",
    "pipeline_job"
   ]
  }
 ],
 "metadata": {
  "interpreter": {
   "hash": "ae65aca69c39e70cfbc296420355bef6331e4a8df1214fb7763e87f52d05686a"
  },
  "kernelspec": {
   "display_name": "Python 3.8.10 64-bit (windows store)",
   "language": "python",
   "name": "python3"
  },
  "language_info": {
   "codemirror_mode": {
    "name": "ipython",
    "version": 3
   },
   "file_extension": ".py",
   "mimetype": "text/x-python",
   "name": "python",
   "nbconvert_exporter": "python",
   "pygments_lexer": "ipython3",
   "version": "3.8.10"
  },
  "orig_nbformat": 4
 },
 "nbformat": 4,
 "nbformat_minor": 2
}
