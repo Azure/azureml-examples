{
 "cells": [
  {
   "cell_type": "code",
   "execution_count": null,
   "metadata": {},
   "outputs": [],
   "source": [
    "# import required libraries\n",
    "from azure.identity import DefaultAzureCredential, InteractiveBrowserCredential\n",
    "from azure.ml import MLClient, Input, Output\n",
    "from azure.ml import command, spark\n",
    "from azure.ml.dsl import pipeline"
   ]
  },
  {
   "cell_type": "code",
   "execution_count": null,
   "metadata": {},
   "outputs": [],
   "source": [
    "try:\n",
    "    credential = DefaultAzureCredential()\n",
    "    # Check if given credential can get token successfully.\n",
    "    credential.get_token(\"https://management.azure.com/.default\")\n",
    "except Exception as ex:\n",
    "    # Fall back to InteractiveBrowserCredential in case DefaultAzureCredential not work\n",
    "    credential = InteractiveBrowserCredential()"
   ]
  },
  {
   "cell_type": "code",
   "execution_count": null,
   "metadata": {},
   "outputs": [],
   "source": [
    "# Get a handle to workspace\n",
    "ml_client = MLClient.from_config(credential=credential)\n",
    "\n",
    "# Retrieve an already attached Azure Machine Learning Compute.\n",
    "synapse_compute = \"synapse-compute\"\n",
    "print(ml_client.compute.get(synapse_compute))"
   ]
  },
  {
   "cell_type": "code",
   "execution_count": null,
   "metadata": {},
   "outputs": [],
   "source": [
    "# Define pipeline\n",
    "@pipeline(description=\"AutoML spark Pipeline\",)\n",
    "def automl_spark_job(input_data):\n",
    "    # define the automl spark task with automl function\n",
    "    spark_node = spark(\n",
    "        code=\"./src\",\n",
    "        entry=\"program.py\",\n",
    "        py_files=['my_python.py'],\n",
    "        jars=['my_java.jar'],\n",
    "        files=['my_file.txt'],\n",
    "        archives=['my_archive.tar'],\n",
    "        conf=dict({\n",
    "            \"spark.driver.cores\": 1,\n",
    "            \"spark.driver.memory\": \"2g\",\n",
    "            \"spark.executor.cores\": 2,\n",
    "            \"spark.exeutor.memory\": \"2g\",\n",
    "            \"spark.executor.instances\": 4\n",
    "        }),\n",
    "        environment='myenv:v1',\n",
    "        # conda_file='./conda.config',\n",
    "        inputs=dict(input_folder=input_data, file_name=\"input_data.csv\"),\n",
    "        outputs=dict(output_folder=Output(type=\"uri_folder\")),\n",
    "    )\n",
    "\n",
    "    return {\"output_file\": spark_node.outputs.output_folder}\n",
    "\n",
    "\n",
    "pipeline = automl_spark_job(input_data=Input(path=\"./data-folder/\", type=\"mltable\"))\n",
    "pipeline.settings.default_compute = synapse_compute"
   ]
  },
  {
   "cell_type": "code",
   "execution_count": null,
   "metadata": {},
   "outputs": [],
   "source": [
    "# submit the pipeline job\n",
    "pipeline_job = ml_client.jobs.create_or_update(pipeline, experiment_name=\"spark-pipeline\")\n",
    "pipeline_job"
   ]
  }
 ],
 "metadata": {
  "interpreter": {
   "hash": "ae65aca69c39e70cfbc296420355bef6331e4a8df1214fb7763e87f52d05686a"
  },
  "kernelspec": {
   "display_name": "Python 3.8.10 64-bit (windows store)",
   "language": "python",
   "name": "python3"
  },
  "language_info": {
   "codemirror_mode": {
    "name": "ipython",
    "version": 3
   },
   "file_extension": ".py",
   "mimetype": "text/x-python",
   "name": "python",
   "nbconvert_exporter": "python",
   "pygments_lexer": "ipython3",
   "version": "3.8.10"
  },
  "orig_nbformat": 4
 },
 "nbformat": 4,
 "nbformat_minor": 2
}
