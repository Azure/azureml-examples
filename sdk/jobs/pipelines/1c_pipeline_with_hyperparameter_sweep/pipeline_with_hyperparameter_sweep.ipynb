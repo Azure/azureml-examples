{
 "cells": [
  {
   "cell_type": "markdown",
   "metadata": {},
   "source": [
    "# Build pipeline with sweep node\n",
    "\n",
    "**Requirements** - In order to benefit from this tutorial, you will need:\n",
    "- A basic understanding of Machine Learning\n",
    "- An Azure account with an active subscription. [Create an account for free](https://azure.microsoft.com/free/?WT.mc_id=A261C142F)\n",
    "- An Azure ML workspace. [Check this notebook for creating a workspace](/sdk/resources/workspace/workspace.ipynb) \n",
    "- A Compute Cluster. [Check this notebook to create a compute cluster](/sdk/resources/compute/compute.ipynb)\n",
    "- A python environment\n",
    "- Installed Azure Machine Learning Python SDK v2 - [install instructions](/sdk/README.md#getting-started)\n",
    "\n",
    "**Learning Objectives** - By the end of this tutorial, you should be able to:\n",
    "- Connect to your AML workspace from the Python SDK\n",
    "- Create sweep node with `commandComponent.sweep()`\n",
    "- Create `pipeline` with sweep node\n",
    "\n",
    "**Motivations** - This notebook explains how to create a sweep node by using `commandComponent.sweep()` and use it in a pipeline. A sweep node can be used to enable hyperparameter tuning on a specified compute (either local or on the cloud) for a specific command component. The command compoonent accepts `environment` to setup required infrastructure. You can define a `search_space` and an `objective` to search for the target output.  "
   ]
  },
  {
   "cell_type": "markdown",
   "metadata": {},
   "source": [
    "# 1. Connect to Azure Machine Learning Workspace\n",
    "\n",
    "The [workspace](https://docs.microsoft.com/en-us/azure/machine-learning/concept-workspace) is the top-level resource for Azure Machine Learning, providing a centralized place to work with all the artifacts you create when you use Azure Machine Learning. In this section we will connect to the workspace in which the job will be run.\n",
    "\n",
    "## 1.1. Import the required libraries"
   ]
  },
  {
   "cell_type": "code",
   "execution_count": null,
   "metadata": {},
   "outputs": [],
   "source": [
    "#import required libraries\n",
    "from azure.identity import InteractiveBrowserCredential\n",
    "from azure.ml import MLClient, dsl\n",
    "from azure.ml.entities import JobInput"
   ]
  },
  {
   "cell_type": "markdown",
   "metadata": {},
   "source": [
    "## 1.2. Configure workspace details and get a handle to the workspace\n",
    "\n",
    "To connect to a workspace, we need identifier parameters - a subscription, resource group and workspace name. We will use these details in the `MLClient` from `azure.ml` to get a handle to the required Azure Machine Learning workspace. We use the default [interactive authentication](https://docs.microsoft.com/en-us/python/api/azure-identity/azure.identity.interactivebrowsercredential?view=azure-python) for this tutorial. More advanced connection methods can be found [here](https://docs.microsoft.com/en-us/python/api/azure-identity/azure.identity?view=azure-python)."
   ]
  },
  {
   "cell_type": "code",
   "execution_count": null,
   "metadata": {},
   "outputs": [],
   "source": [
    "#Enter details of your AML workspace\n",
    "subscription_id = '<SUBSCRIPTION_ID>'\n",
    "resource_group = '<RESOURCE_GROUP>'\n",
    "workspace = '<AML_WORKSPACE_NAME>'"
   ]
  },
  {
   "cell_type": "code",
   "execution_count": null,
   "metadata": {},
   "outputs": [],
   "source": [
    "#get a handle to the workspace\n",
    "ml_client = MLClient(InteractiveBrowserCredential(), subscription_id, resource_group, workspace)"
   ]
  },
  {
   "cell_type": "markdown",
   "metadata": {},
   "source": [
    "# 2. Pipeline job with hyperparameter sweep\n",
    "Similar to [1b_pipeline_with_python_function_components](../1b_pipeline_with_python_function_components/), we define 3 sample components using dsl.command_component in [dsl_component.py](dsl_component.py) first and then build the pipeline.\n",
    "\n",
    "## 2.1 Build pipeline\n",
    "In pipeline definition, we define `search_space` for hyperparameter sweep in inputs of `train_model` and call `train_model.sweep()` to create a sweep node based on `train_model` with specific run settings. Run settings includes:\n",
    "- objective_primary_metric \n",
    "- objective_goal\n",
    "- sampling_algorithm\n",
    "- limits\n",
    "- early_termination_policy\n",
    "- compute\n",
    "\n",
    "Please check section **3. Run a sweep on this command job** in [Run hyperparameter sweep on a CommandJob or CommandComponent](../../single-step/lightgbm/iris/lightgbm-iris-sweep.ipynb) for detailed explanation for the above concepts and settings.\n",
    "\n",
    "Noted that the **primary metric** of sweep objective must be **LOGGED** in the definition of `train_model`."
   ]
  },
  {
   "cell_type": "code",
   "execution_count": null,
   "metadata": {},
   "outputs": [],
   "source": [
    "from azure.ml import dsl\n",
    "from pathlib import Path\n",
    "from dsl_component import train_component_func, eval_component_func, score_component_func\n",
    "from azure.ml.entities import (\n",
    "    BanditPolicy, \n",
    "    Choice,\n",
    "    Randint,\n",
    "    QUniform,\n",
    "    QLogNormal,\n",
    "    QLogUniform,\n",
    "    QNormal,\n",
    "    LogNormal,\n",
    "    LogUniform,\n",
    "    Normal,\n",
    "    Uniform,\n",
    ")\n",
    "\n",
    "# define a pipeline with dsl component\n",
    "@dsl.pipeline(\n",
    "    description=\"Tune hyperparameters using sample components\",\n",
    "    default_compute=\"cpu-cluster\", \n",
    "    experiment_name=\"pipeline_samples\"\n",
    ")\n",
    "def pipeline_with_hyperparameter_sweep(input_data, test_data):\n",
    "    train_model = train_component_func(\n",
    "        training_data=input_data,\n",
    "        random_seed=1,\n",
    "        batch_size=Choice([25, 35]),\n",
    "        first_layer_neurons=Randint(upper=50),\n",
    "        second_layer_neurons=QUniform(min_value=10, max_value=50, q=5),\n",
    "        third_layer_neurons=QLogNormal(mu=5, sigma=1, q=5),\n",
    "        epochs=QLogUniform(min_value=1, max_value=5, q=5),\n",
    "        momentum=QNormal(mu=10, sigma=5, q=2),\n",
    "        weight_decay=LogNormal(mu=0, sigma=1),\n",
    "        learning_rate=LogUniform(min_value=-6, max_value=-1),\n",
    "        f1=Normal(mu=0, sigma=1),\n",
    "        f2=Uniform(min_value=10, max_value=20),\n",
    "    )\n",
    "    sweep_for_train = train_model.sweep(\n",
    "        objective_primary_metric=\"accuracy\",\n",
    "        objective_goal=\"maximize\",\n",
    "        sampling_algorithm=\"random\",\n",
    "        compute=\"cpu-cluster\",\n",
    "    )\n",
    "    sweep_for_train.set_limits(max_total_trials=4, max_concurrent_trials=2, timeout=600)\n",
    "    sweep_for_train.early_termination = BanditPolicy(evaluation_interval=2, slack_factor=0.1, delay_evaluation=1)\n",
    "\n",
    "    score_data = score_component_func(\n",
    "        model_input=sweep_for_train.outputs.model_output, test_data=test_data\n",
    "    )\n",
    "\n",
    "    eval_model = eval_component_func(scoring_result=score_data.outputs.score_output)\n",
    "    return {\n",
    "        'best_model_eval_output': eval_model.outputs.eval_output,\n",
    "        'best_model_output': sweep_for_train.outputs.model_output,\n",
    "    }\n",
    "    \n",
    "\n",
    "pipeline = pipeline_with_hyperparameter_sweep(\n",
    "    input_data=JobInput(path=\"https://dprepdata.blob.core.windows.net/demo/Titanic.csv\"), \n",
    "    test_data=JobInput(path=\"https://dprepdata.blob.core.windows.net/demo/Titanic.csv\"), \n",
    ")\n"
   ]
  },
  {
   "cell_type": "markdown",
   "metadata": {},
   "source": [
    "## 2.2 Submit pipeline job"
   ]
  },
  {
   "cell_type": "code",
   "execution_count": null,
   "metadata": {},
   "outputs": [],
   "source": [
    "# submit job to workspace\n",
    "pipeline_job = ml_client.jobs.create_or_update(pipeline)\n",
    "print(f'Job link: {pipeline_job.services[\"Studio\"].endpoint}')"
   ]
  },
  {
   "cell_type": "code",
   "execution_count": null,
   "metadata": {},
   "outputs": [],
   "source": [
    "# Wait until the job completes\n",
    "# ml_client.jobs.stream(returned_job.name)"
   ]
  },
  {
   "cell_type": "markdown",
   "metadata": {},
   "source": [
    "# Next Steps\n",
    "You can see further examples of running a pipeline job [here](/sdk/jobs/pipelines/)"
   ]
  }
 ],
 "metadata": {
  "description": {
   "description": "Create basic pipeline with CommandComponents from local YAML file"
  },
  "interpreter": {
   "hash": "3e9e0e270b75c5e6da2e22113ba4f77b864d68f95da6601809c29e46c73ae6bb"
  },
  "kernelspec": {
   "display_name": "Python 3.7.8 64-bit",
   "language": "python",
   "name": "python3"
  },
  "language_info": {
   "codemirror_mode": {
    "name": "ipython",
    "version": 3
   },
   "file_extension": ".py",
   "mimetype": "text/x-python",
   "name": "python",
   "nbconvert_exporter": "python",
   "pygments_lexer": "ipython3",
   "version": "3.7.6"
  },
  "orig_nbformat": 4
 },
 "nbformat": 4,
 "nbformat_minor": 2
}
