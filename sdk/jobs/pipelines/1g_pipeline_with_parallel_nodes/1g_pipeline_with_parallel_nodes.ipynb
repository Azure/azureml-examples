{
 "cells": [
  {
   "cell_type": "markdown",
   "metadata": {},
   "source": [
    "# Build a simple ML pipeline with parallel component\n",
    "\n",
    "**Requirements** - In order to benefit from this tutorial, you will need:\n",
    "- A basic understanding of Machine Learning\n",
    "- An Azure account with an active subscription - [Create an account for free](https://azure.microsoft.com/free/?WT.mc_id=A261C142F)\n",
    "- An Azure ML workspace with computer cluster - [Configure workspace](../../configuration.ipynb)\n",
    "- A python environment\n",
    "- Installed Azure Machine Learning Python SDK v2 - [install instructions](../../../README.md) - check the getting started section\n",
    "\n",
    "**Learning Objectives** - By the end of this tutorial, you should be able to:\n",
    "- Connect to your AML workspace from the Python SDK\n",
    "- Create `Pipeline` with components\n",
    "\n",
    "**Motivations** - This notebook covers the scenario that user define parallel components using yaml then use these components to build pipeline.\n"
   ]
  },
  {
   "cell_type": "markdown",
   "metadata": {},
   "source": [
    "# 1. Connect to Azure Machine Learning Workspace\n",
    "\n",
    "The [workspace](https://docs.microsoft.com/en-us/azure/machine-learning/concept-workspace) is the top-level resource for Azure Machine Learning, providing a centralized place to work with all the artifacts you create when you use Azure Machine Learning. In this section we will connect to the workspace in which the job will be run.\n",
    "\n",
    "## 1.1 Import the required libraries"
   ]
  },
  {
   "cell_type": "code",
   "execution_count": null,
   "metadata": {
    "name": "required-library"
   },
   "outputs": [],
   "source": [
    "# import required libraries\n",
    "from azure.identity import DefaultAzureCredential, InteractiveBrowserCredential\n",
    "\n",
    "from azure.ml import MLClient, dsl\n",
    "from azure.ml.entities import load_component\n",
    "from azure.ml.entities import Component as ComponentEntity\n",
    "from azure.ml.constants import AssetTypes, InputOutputModes"
   ]
  },
  {
   "cell_type": "markdown",
   "metadata": {},
   "source": [
    "## 1.2 Configure credential\n",
    "We are using `DefaultAzureCredential` to get access to workspace.\n",
    "\n",
    "`DefaultAzureCredential` should be capable of handling most Azure SDK authentication scenarios. \n",
    "\n",
    "Reference for more available credentials if it does not work for you: [configure credential example](../../configuration.ipynb), [azure-identity reference doc](https://docs.microsoft.com/en-us/python/api/azure-identity/azure.identity?view=azure-python)."
   ]
  },
  {
   "cell_type": "code",
   "execution_count": null,
   "metadata": {
    "name": "credential"
   },
   "outputs": [],
   "source": [
    "try:\n",
    "    credential = DefaultAzureCredential()\n",
    "    # Check if given credential can get token successfully.\n",
    "    credential.get_token(\"https://management.azure.com/.default\")\n",
    "except Exception as ex:\n",
    "    # Fall back to InteractiveBrowserCredential in case DefaultAzureCredential not work\n",
    "    credential = InteractiveBrowserCredential()"
   ]
  },
  {
   "cell_type": "markdown",
   "metadata": {},
   "source": [
    "## 1.3 Get a handle to the workspace\n",
    "\n",
    "We use config file to connect to a workspace. The Azure ML workspace should be configured with computer cluster. [Check this notebook for configure a workspace](../../configuration.ipynb)"
   ]
  },
  {
   "cell_type": "code",
   "execution_count": null,
   "metadata": {
    "name": "workspace"
   },
   "outputs": [],
   "source": [
    "# Get a handle to workspace\n",
    "ml_client = MLClient.from_config(credential=credential)\n",
    "\n",
    "# Retrieve an already attached Azure Machine Learning Compute.\n",
    "cpu_compute_target = \"cpu-cluster\"\n",
    "print(ml_client.compute.get(cpu_compute_target))\n",
    "gpu_compute_target = \"gpu-cluster\"\n",
    "print(ml_client.compute.get(gpu_compute_target))"
   ]
  },
  {
   "cell_type": "markdown",
   "metadata": {},
   "source": [
    "## 1.4 Prepare Job Input\n",
    "By defining `Input`, you create a reference to the data source location. The data remains in its existing location, so no extra storage cost is incurred."
   ]
  },
  {
   "cell_type": "code",
   "execution_count": null,
   "metadata": {
    "name": "define-input"
   },
   "outputs": [],
   "source": [
    "from azure.ml import Input\n",
    "\n",
    "pipeline_job_data_path=Input(\n",
    "    type=AssetTypes.MLTABLE, path=\"./dataset/\", mode=InputOutputModes.RW_MOUNT\n",
    "),\n",
    "pipeline_score_model=Input(\n",
    "    path=\"./model/\", type=AssetTypes.URI_FOLDER, mode=InputOutputModes.DOWNLOAD\n",
    "),"
   ]
  },
  {
   "cell_type": "code",
   "execution_count": null,
   "metadata": {},
   "outputs": [],
   "source": [
    "pipeline_job_data_path"
   ]
  },
  {
   "cell_type": "markdown",
   "metadata": {},
   "source": [
    "# 2. Define parallel component via YAML\n",
    "Below is a basic example to define parallel component using YAML.\n",
    "\n"
   ]
  },
  {
   "cell_type": "code",
   "execution_count": null,
   "metadata": {
    "name": "load-from-yaml"
   },
   "outputs": [],
   "source": [
    "\n",
    "get_data = ComponentEntity.load(\n",
    "    path=\"./src/get_data.yml\"\n",
    ")\n",
    "\n",
    "file_batch_inference1 = ComponentEntity.load(path=\"./src/file_batch_inference.yml\")\n",
    "file_batch_inference2 = ComponentEntity.load(path=\"./src/file_batch_inference.yml\", params_override=[{\"name\": \"file_batch_score_duplicate\"}]\n",
    ")\n",
    "tabular_batch_inference = ComponentEntity.load(\n",
    "    path=\"./src/tabular_input_e2e.yml\"\n",
    ")"
   ]
  },
  {
   "cell_type": "markdown",
   "metadata": {},
   "source": [
    "# 3. Build pipeline\n",
    "\n",
    "We define a pipeline containing 4 nodes:\n",
    "- `get_data` will load the file and tabular data input and trained model for batch inference. \n",
    "- `file_batch_inference1` and `file_batch_inference2` are dummy parallel components which will process a large number of files.\n",
    "- `tabular_batch_inference` will batch score the model using tabular input data."
   ]
  },
  {
   "cell_type": "code",
   "execution_count": null,
   "metadata": {
    "name": "build-pipeline"
   },
   "outputs": [],
   "source": [
    "@dsl.pipeline(default_compute=\"cpu-cluster\")\n",
    "def parallel_in_pipeline(pipeline_job_data_path, pipeline_score_model):\n",
    "    get_data_node = get_data(input_data=pipeline_job_data_path)\n",
    "    get_data_node.outputs.file_output_data.type = AssetTypes.MLTABLE\n",
    "    get_data_node.outputs.tabular_output_data.type = AssetTypes.MLTABLE\n",
    "\n",
    "    file_batch_inference_node1 = file_batch_inference1(job_data_path=get_data_node.outputs.file_output_data)\n",
    "    file_batch_inference_node1.inputs.job_data_path.mode = InputOutputModes.EVAL_MOUNT\n",
    "    file_batch_inference_node1.outputs.job_output_path.type = AssetTypes.MLTABLE\n",
    "\n",
    "    file_batch_inference_node2 = file_batch_inference2(job_data_path=file_batch_inference_node1.outputs.job_output_path)\n",
    "    file_batch_inference_node2.inputs.job_data_path.mode = InputOutputModes.EVAL_MOUNT\n",
    "\n",
    "    tabular_batch_inference_node = tabular_batch_inference(\n",
    "        job_data_path=get_data_node.outputs.tabular_output_data,\n",
    "        score_model=pipeline_score_model\n",
    "    )\n",
    "    tabular_batch_inference_node.inputs.job_data_path.mode = InputOutputModes.DIRECT\n",
    "\n",
    "    return {\n",
    "        \"pipeline_job_out_file\": file_batch_inference_node2.outputs.job_output_path,\n",
    "        \"pipeline_job_out_tabular\": tabular_batch_inference_node.outputs.job_out_path,\n",
    "    }\n",
    "\n",
    "# create a pipeline\n",
    "pipeline = parallel_in_pipeline(pipeline_job_data_path=pipeline_job_data_path, pipeline_score_model=pipeline_score_model)"
   ]
  },
  {
   "cell_type": "code",
   "execution_count": null,
   "metadata": {},
   "outputs": [],
   "source": [
    "print(pipeline)"
   ]
  },
  {
   "cell_type": "markdown",
   "metadata": {},
   "source": [
    "# 4. Submit pipeline job"
   ]
  },
  {
   "cell_type": "code",
   "execution_count": null,
   "metadata": {
    "name": "submit-pipeline"
   },
   "outputs": [],
   "source": [
    "pipeline_job = ml_client.jobs.create_or_update(\n",
    "    pipeline, experiment_name=\"pipeline_samples\"\n",
    ")\n",
    "pipeline_job"
   ]
  },
  {
   "cell_type": "code",
   "execution_count": null,
   "metadata": {
    "name": "stream-pipeline"
   },
   "outputs": [],
   "source": [
    "# wait until the job completes\n",
    "ml_client.jobs.stream(pipeline_job.name)"
   ]
  },
  {
   "cell_type": "markdown",
   "metadata": {},
   "source": [
    "# Next Steps\n",
    "You can see further examples of running a pipeline job [here](../)"
   ]
  }
 ],
 "metadata": {
  "description": {
   "description": "Create pipeline to train cnn image classification model with keras"
  },
  "interpreter": {
   "hash": "76e3f79dcda5ecc398e236cf994607053e7cf1e1f5da39c151cd830d8fe26160"
  },
  "kernelspec": {
   "display_name": "Python 3.8.0 ('chenyinpy38_v2_feb')",
   "language": "python",
   "name": "python3"
  },
  "language_info": {
   "codemirror_mode": {
    "name": "ipython",
    "version": 3
   },
   "file_extension": ".py",
   "mimetype": "text/x-python",
   "name": "python",
   "nbconvert_exporter": "python",
   "pygments_lexer": "ipython3",
   "version": "3.8.13"
  },
  "orig_nbformat": 4
 },
 "nbformat": 4,
 "nbformat_minor": 2
}
