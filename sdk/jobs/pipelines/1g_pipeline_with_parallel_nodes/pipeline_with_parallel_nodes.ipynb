{
 "cells": [
  {
   "cell_type": "markdown",
   "metadata": {},
   "source": [
    "# Build a simple ML pipeline with parallel component\n",
    "\n",
    "**Requirements** - In order to benefit from this tutorial, you will need:\n",
    "- A basic understanding of Machine Learning\n",
    "- An Azure account with an active subscription - [Create an account for free](https://azure.microsoft.com/free/?WT.mc_id=A261C142F)\n",
    "- An Azure ML workspace with computer cluster - [Configure workspace](../../configuration.ipynb)\n",
    "- A python environment\n",
    "- Installed Azure Machine Learning Python SDK v2 - [install instructions](../../../README.md) - check the getting started section\n",
    "\n",
    "**Learning Objectives** - By the end of this tutorial, you should be able to:\n",
    "- Connect to your AML workspace from the Python SDK\n",
    "- Create `Pipeline` with parallel nodes\n",
    "- Process file/tabular data using parallel node\n",
    "\n",
    "**Motivations** - In this example, we will explains how to create a parallel node and use it in a pipeline. Parallel node auto splits one main data input into several mini batches, creates a parallel task for each mini_batch, distributes all parallel tasks across a compute cluster and execute in parallel. It monitors task execution progress, auto retries a task if data/code/process failure and stores the outputs in user configured location.\n"
   ]
  },
  {
   "cell_type": "markdown",
   "metadata": {},
   "source": [
    "# 1. Connect to Azure Machine Learning Workspace\n",
    "\n",
    "The [workspace](https://docs.microsoft.com/en-us/azure/machine-learning/concept-workspace) is the top-level resource for Azure Machine Learning, providing a centralized place to work with all the artifacts you create when you use Azure Machine Learning. In this section we will connect to the workspace in which the job will be run.\n",
    "\n",
    "## 1.1 Import the required libraries"
   ]
  },
  {
   "cell_type": "code",
   "execution_count": null,
   "metadata": {
    "name": "required-library"
   },
   "outputs": [],
   "source": [
    "# import required libraries\n",
    "from azure.identity import DefaultAzureCredential, InteractiveBrowserCredential\n",
    "from azure.ai.ml import MLClient, Input, Output, load_component\n",
    "from azure.ai.ml.dsl import pipeline\n",
    "from azure.ai.ml.entities import ParallelTask, Environment\n",
    "from azure.ai.ml.constants import AssetTypes, InputOutputModes\n",
    "\n",
    "# parallel function is currently a private preview feature\n",
    "from azure.ai.ml.entities._builders.parallel_func import parallel"
   ]
  },
  {
   "cell_type": "markdown",
   "metadata": {},
   "source": [
    "## 1.2 Configure credential\n",
    "We are using `DefaultAzureCredential` to get access to workspace.\n",
    "\n",
    "`DefaultAzureCredential` should be capable of handling most Azure SDK authentication scenarios. \n",
    "\n",
    "Reference for more available credentials if it does not work for you: [configure credential example](../../configuration.ipynb), [azure-identity reference doc](https://docs.microsoft.com/en-us/python/api/azure-identity/azure.identity?view=azure-python)."
   ]
  },
  {
   "cell_type": "code",
   "execution_count": null,
   "metadata": {
    "name": "credential"
   },
   "outputs": [],
   "source": [
    "try:\n",
    "    credential = DefaultAzureCredential()\n",
    "    # Check if given credential can get token successfully.\n",
    "    credential.get_token('https://management.azure.com/.default')\n",
    "except Exception as ex:\n",
    "    # Fall back to InteractiveBrowserCredential in case DefaultAzureCredential not work\n",
    "    credential = InteractiveBrowserCredential()"
   ]
  },
  {
   "cell_type": "markdown",
   "metadata": {},
   "source": [
    "## 1.3 Get a handle to the workspace\n",
    "\n",
    "We use config file to connect to a workspace. The Azure ML workspace should be configured with computer cluster. [Check this notebook for configure a workspace](../../configuration.ipynb)"
   ]
  },
  {
   "cell_type": "code",
   "execution_count": null,
   "metadata": {
    "name": "workspace"
   },
   "outputs": [],
   "source": [
    "# Get a handle to workspace\n",
    "ml_client = MLClient.from_config(credential=credential)\n",
    "\n",
    "# Retrieve an already attached Azure Machine Learning Compute.\n",
    "cpu_compute_target = 'cpu-cluster'\n",
    "print(ml_client.compute.get(cpu_compute_target))\n",
    "gpu_compute_target = 'gpu-cluster'\n",
    "print(ml_client.compute.get(gpu_compute_target))"
   ]
  },
  {
   "cell_type": "markdown",
   "metadata": {},
   "source": [
    "# 2. Define components\n",
    "\n",
    "Use `parallel` to create parallel node. Use `load_component` to load command components defined using YAML. "
   ]
  },
  {
   "cell_type": "code",
   "execution_count": null,
   "metadata": {
    "name": "load-from-yaml"
   },
   "outputs": [],
   "source": [
    "# load component\n",
    "prepare_data = load_component(path='./src/prepare_data.yml')\n",
    "\n",
    "# parallel task to process file data\n",
    "file_batch_inference = parallel(\n",
    "  name = 'file_batch_score',\n",
    "  display_name = 'Batch Score with File Dataset',\n",
    "  description = 'parallel component for batch score',\n",
    "  inputs = dict(job_data_path=Input(type=AssetTypes.MLTABLE, description='The data to be split and scored in parallel')),\n",
    "  outputs = dict(job_output_path=Output(type=AssetTypes.MLTABLE)),\n",
    "  input_data = '${{inputs.job_data_path}}',\n",
    "  instance_count = 2,\n",
    "  mini_batch_size = '1',\n",
    "  mini_batch_error_threshold = 1,\n",
    "  max_concurrency_per_instance = 1,\n",
    "  task = ParallelTask(\n",
    "    type = 'function',\n",
    "    code = './src',\n",
    "    entry_script = 'file_batch_inference.py',\n",
    "    args = '--job_output_path ${{outputs.job_output_path}}',\n",
    "    environment = 'azureml:AzureML-sklearn-0.24-ubuntu18.04-py37-cpu:1'\n",
    "  ),\n",
    ")\n",
    "\n",
    "# parallel task to process tabular data\n",
    "tabular_batch_inference = parallel(\n",
    "  name = 'batch_score_with_tabular_input',\n",
    "  display_name = 'Batch Score with Tabular Dataset',\n",
    "  description = 'parallel component for batch score',\n",
    "  inputs = dict(\n",
    "    job_data_path=Input(type=AssetTypes.MLTABLE, description='The data to be split and scored in parallel'),\n",
    "    score_model=Input(type=AssetTypes.URI_FOLDER, description='The model for batch score.')\n",
    "  ),\n",
    "  outputs = dict(job_output_path=Output(type=AssetTypes.MLTABLE)),\n",
    "  input_data = '${{inputs.job_data_path}}',\n",
    "  max_concurrency_per_instance = 2,\n",
    "  mini_batch_size = '100',\n",
    "  mini_batch_error_threshold = 5,\n",
    "  logging_level = 'DEBUG',\n",
    "  retry_settings = dict(max_retries=2, timeout=60),\n",
    "  task = ParallelTask(\n",
    "    type = 'function',\n",
    "    code = './src',\n",
    "    entry_script = 'tabular_batch_inference.py',\n",
    "    environment = Environment(\n",
    "      image= 'mcr.microsoft.com/azureml/openmpi3.1.2-ubuntu18.04',\n",
    "      conda_file='./src/environment_parallel.yml'),\n",
    "    args = '--model ${{inputs.score_model}}',\n",
    "    append_row_to = '${{outputs.job_output_path}}',\n",
    "  ),\n",
    ")"
   ]
  },
  {
   "cell_type": "markdown",
   "metadata": {},
   "source": [
    "# 3. Build pipeline\n",
    "\n",
    "We define a pipeline containing 3 nodes:\n",
    "- `prepare_file_tabular_data` will load the file and tabular data input and trained model for batch inference. \n",
    "- `batch_inference_with_file_data` is a parallel component which will process a large number of files.\n",
    "- `batch_inference_with_tabular_data` will batch score the model using tabular input data."
   ]
  },
  {
   "cell_type": "code",
   "execution_count": null,
   "metadata": {
    "name": "build-pipeline"
   },
   "outputs": [],
   "source": [
    "@pipeline(default_compute='cpu-cluster')\n",
    "def parallel_in_pipeline(pipeline_job_data_path, pipeline_score_model):\n",
    "\n",
    "    prepare_file_tabular_data = prepare_data(input_data=pipeline_job_data_path)\n",
    "    # output of file & tabular data should be type MLTable\n",
    "    prepare_file_tabular_data.outputs.file_output_data.type = AssetTypes.MLTABLE\n",
    "    prepare_file_tabular_data.outputs.tabular_output_data.type = AssetTypes.MLTABLE\n",
    "\n",
    "    batch_inference_with_file_data = file_batch_inference(\n",
    "        job_data_path=prepare_file_tabular_data.outputs.file_output_data)\n",
    "    # use eval_mount mode to handle file data\n",
    "    batch_inference_with_file_data.inputs.job_data_path.mode = InputOutputModes.EVAL_MOUNT\n",
    "    batch_inference_with_file_data.outputs.job_output_path.type = AssetTypes.MLTABLE\n",
    "\n",
    "    batch_inference_with_tabular_data = tabular_batch_inference(\n",
    "        job_data_path=prepare_file_tabular_data.outputs.tabular_output_data,\n",
    "        score_model=pipeline_score_model\n",
    "    )\n",
    "    # use direct mode to handle tabular data\n",
    "    batch_inference_with_tabular_data.inputs.job_data_path.mode = InputOutputModes.DIRECT\n",
    "\n",
    "    return {\n",
    "        'pipeline_job_out_file': batch_inference_with_file_data.outputs.job_output_path,\n",
    "        'pipeline_job_out_tabular': batch_inference_with_tabular_data.outputs.job_output_path,\n",
    "    }\n",
    "\n",
    "pipeline_job_data_path=Input(\n",
    "    path='./dataset/', type=AssetTypes.MLTABLE, mode=InputOutputModes.RO_MOUNT\n",
    ")\n",
    "pipeline_score_model=Input(\n",
    "    path='./model/', type=AssetTypes.URI_FOLDER, mode=InputOutputModes.DOWNLOAD\n",
    ")\n",
    "# create a pipeline\n",
    "pipeline_job = parallel_in_pipeline(pipeline_job_data_path=pipeline_job_data_path, pipeline_score_model=pipeline_score_model)\n",
    "pipeline_job.outputs.pipeline_job_out_tabular.type = AssetTypes.URI_FILE"
   ]
  },
  {
   "cell_type": "code",
   "execution_count": null,
   "metadata": {},
   "outputs": [],
   "source": [
    "print(pipeline_job)"
   ]
  },
  {
   "cell_type": "markdown",
   "metadata": {},
   "source": [
    "# 4. Submit pipeline job"
   ]
  },
  {
   "cell_type": "code",
   "execution_count": null,
   "metadata": {
    "name": "submit-pipeline"
   },
   "outputs": [],
   "source": [
    "# parallel in pipeline is an preview feature\n",
    "os.environ[\"AZURE_ML_CLI_PRIVATE_FEATURES_ENABLED\"] = \"True\"\n",
    "\n",
    "pipeline_job = ml_client.jobs.create_or_update(\n",
    "    pipeline_job, experiment_name='pipeline_samples'\n",
    ")\n",
    "pipeline_job"
   ]
  },
  {
   "cell_type": "code",
   "execution_count": null,
   "metadata": {
    "name": "stream-pipeline"
   },
   "outputs": [],
   "source": [
    "# wait until the job completes\n",
    "ml_client.jobs.stream(pipeline_job.name)"
   ]
  },
  {
   "cell_type": "markdown",
   "metadata": {},
   "source": [
    "# Next Steps\n",
    "You can see further examples of running a pipeline job [here](../)"
   ]
  }
 ],
 "metadata": {
  "description": {
   "description": "Create pipeline with parallel node to do batch inference"
  },
  "interpreter": {
   "hash": "ff9f81453fbb311697ce53e7e78ef5eb35f26adc12b40c04d8d4380bace19e7a"
  },
  "kernelspec": {
   "display_name": "Python 3.10.4 ('sdkv2')",
   "language": "python",
   "name": "python3"
  },
  "language_info": {
   "codemirror_mode": {
    "name": "ipython",
    "version": 3
   },
   "file_extension": ".py",
   "mimetype": "text/x-python",
   "name": "python",
   "nbconvert_exporter": "python",
   "pygments_lexer": "ipython3",
   "version": "3.10.4"
  },
  "orig_nbformat": 4
 },
 "nbformat": 4,
 "nbformat_minor": 2
}
