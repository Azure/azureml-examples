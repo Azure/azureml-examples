{
 "cells": [
  {
   "cell_type": "markdown",
   "metadata": {},
   "source": [
    "# Build a simple ML pipeline for image classification\n",
    "\n",
    "**Requirements** - In order to benefit from this tutorial, you will need:\n",
    "- A basic understanding of Machine Learning\n",
    "- An Azure account with an active subscription. [Create an account for free](https://azure.microsoft.com/free/?WT.mc_id=A261C142F)\n",
    "- An Azure ML workspace. [Check this notebook for creating a workspace](/sdk/resources/workspace/workspace.ipynb) \n",
    "- A Compute Cluster. [Check this notebook to create a compute cluster](/sdk/resources/compute/compute.ipynb)\n",
    "- A python environment\n",
    "- Installed Azure Machine Learning Python SDK v2 - [install instructions](/sdk/README.md#getting-started)\n",
    "\n",
    "**Learning Objectives** - By the end of this tutorial, you should be able to:\n",
    "- Connect to your AML workspace from the Python SDK\n",
    "- Create `Pipeline` with components\n",
    "\n",
    "**Motivations** -This tutorial shows how to train a simple deep neural network using the [Fashion MNIST dataset and Keras on Azure Machine Learning. Fashion-MNIST is a dataset of Zalando's article imagesâ€”consisting of a training set of 60,000 examples and a test set of 10,000 examples. Each example is a 28x28 grayscale image, associated with a label from 10 classes.\n"
   ]
  },
  {
   "cell_type": "markdown",
   "metadata": {},
   "source": [
    "# 1. Connect to Azure Machine Learning Workspace\n",
    "\n",
    "The [workspace](https://docs.microsoft.com/en-us/azure/machine-learning/concept-workspace) is the top-level resource for Azure Machine Learning, providing a centralized place to work with all the artifacts you create when you use Azure Machine Learning. In this section we will connect to the workspace in which the job will be run.\n",
    "\n",
    "## 1.1. Import the required libraries"
   ]
  },
  {
   "cell_type": "code",
   "execution_count": 22,
   "metadata": {},
   "outputs": [],
   "source": [
    "#import required libraries\n",
    "from azure.ml import MLClient, dsl\n",
    "from azure.ml.entities import load_component"
   ]
  },
  {
   "cell_type": "markdown",
   "metadata": {},
   "source": [
    "## 1.2. Configure credential\n",
    "\n",
    "We are using `DefaultAzureCredential` to get access to workspace. When an access token is needed, it requests one using multiple identities(`EnvironmentCredential, ManagedIdentityCredential, SharedTokenCacheCredential, VisualStudioCodeCredential, AzureCliCredential, AzurePowerShellCredential`) in turn, stopping when one provides a token.\n",
    "Reference [here](https://docs.microsoft.com/en-us/python/api/azure-identity/azure.identity.defaultazurecredential?view=azure-python) for more information.\n",
    "\n",
    "`DefaultAzureCredential` should be capable of handling most Azure SDK authentication scenarios. \n",
    "Reference [here](https://docs.microsoft.com/en-us/python/api/azure-identity/azure.identity?view=azure-python) for all available credentials if it does not work for you.  "
   ]
  },
  {
   "cell_type": "code",
   "execution_count": 23,
   "metadata": {},
   "outputs": [],
   "source": [
    "from azure.identity import DefaultAzureCredential\n",
    "\n",
    "try:\n",
    "    credential = DefaultAzureCredential()\n",
    "    # Check if given credential can get token successfully.\n",
    "    credential.get_token('https://management.azure.com/.default')\n",
    "except Exception as ex:\n",
    "    # If exception happens when retrieve token, try exclude the failed credential like this then try again:\n",
    "    # Exclude VSCode credential:\n",
    "    # credential = DefaultAzureCredential(exclude_visual_studio_code_credential=True)\n",
    "    raise Exception(\"Failed to retrieve a token from the included credentials due to the following exception, try to add `exclude_xxx_credential=True` to `DefaultAzureCredential` and try again.\") from ex"
   ]
  },
  {
   "cell_type": "markdown",
   "metadata": {},
   "source": [
    "## 1.3. Configure workspace details and get a handle to the workspace\n",
    "\n",
    "To connect to a workspace, we need identifier parameters - a subscription, resource group and workspace name. We will use these details in the `MLClient` from `azure.ml` to get a handle to the required Azure Machine Learning workspace."
   ]
  },
  {
   "cell_type": "code",
   "execution_count": 24,
   "metadata": {},
   "outputs": [
    {
     "name": "stderr",
     "output_type": "stream",
     "text": [
      "Found the config file in: D:\\repro\\azureml-examples\\sdk\\jobs\\.azureml\\config.json\n"
     ]
    },
    {
     "name": "stdout",
     "output_type": "stream",
     "text": [
      "MLClient(credential=<azure.identity._credentials.default.DefaultAzureCredential object at 0x000001BBF95EAC10>,\n",
      "         subscription_id=4faaaf21-663f-4391-96fd-47197c630979,\n",
      "         resource_group_name=designertestrg,\n",
      "         workspace_name=DesignerTest-centraluseuap)\n"
     ]
    }
   ],
   "source": [
    "try:\n",
    "    ml_client = MLClient.from_config(credential=credential)\n",
    "except Exception as ex:\n",
    "    # NOTE: Update following workspace information if not correctly configure before\n",
    "    client_config = {\n",
    "        \"subscription_id\": \"<SUBSCRIPTION_ID>\",\n",
    "        \"resource_group\": \"<RESOURCE_GROUP>\",\n",
    "        \"workspace_name\": \"<WORKSPACE_NAME>\"\n",
    "    }\n",
    "\n",
    "    if client_config[\"subscription_id\"].startswith('<'):\n",
    "        print(\"please update your <SUBSCRIPTION_ID> <RESOURCE_GROUP> <WORKSPACE_NAME> in notebook cell\")\n",
    "        raise ex\n",
    "    else:  # write and reload from config file\n",
    "        import json, os\n",
    "        config_path = \"../../.azureml/config.json\"\n",
    "        os.makedirs(os.path.dirname(config_path), exist_ok=True)\n",
    "        with open(config_path, \"w\") as fo:\n",
    "            fo.write(json.dumps(client_config))\n",
    "        ml_client = MLClient.from_config(credential=credential, path=config_path)\n",
    "print(ml_client)"
   ]
  },
  {
   "cell_type": "markdown",
   "metadata": {},
   "source": [
    "## 1.4. Retrieve or create an Azure Machine Learning compute target"
   ]
  },
  {
   "cell_type": "code",
   "execution_count": 25,
   "metadata": {},
   "outputs": [],
   "source": [
    "from azureml.core.compute import ComputeTarget, AmlCompute\n",
    "from azureml.core.compute_target import ComputeTargetException\n",
    "\n",
    "# choose a name for your cluster\n",
    "cluster_name = \"cpu-cluster\"\n",
    "\n",
    "try:\n",
    "    ml_client.compute.get(name=cluster_name)\n",
    "except Exception:\n",
    "    print('Creating a new compute target...')\n",
    "    from azure.ml.entities import AmlCompute\n",
    "    compute = AmlCompute(\n",
    "        name=cluster_name,\n",
    "        size=\"STANDARD_NC6\",\n",
    "        max_instances=4\n",
    "    )\n",
    "    ml_client.compute.begin_create_or_update(compute)"
   ]
  },
  {
   "cell_type": "markdown",
   "metadata": {},
   "source": [
    "## 1.5. Prepare dataset\n",
    "By creating a dataset, you create a reference to the data source location. If you applied any subsetting transformations to the dataset, they will be stored in the dataset as well. The data remains in its existing location, so no extra storage cost is incurred."
   ]
  },
  {
   "cell_type": "code",
   "execution_count": 26,
   "metadata": {},
   "outputs": [],
   "source": [
    "from azure.ml.entities import Data, JobInput\n",
    "from azure.ml._constants import AssetTypes, InputOutputModes\n",
    "\n",
    "\n",
    "fashion_ds = JobInput(path=\"https://data4mldemo6150520719.blob.core.windows.net/demo/mnist-fashion\")"
   ]
  },
  {
   "cell_type": "code",
   "execution_count": 27,
   "metadata": {},
   "outputs": [
    {
     "data": {
      "text/plain": [
       "{'type': 'uri_folder', 'path': 'https://data4mldemo6150520719.blob.core.windows.net/demo/mnist-fashion', 'mode': 'ro_mount'}"
      ]
     },
     "execution_count": 27,
     "metadata": {},
     "output_type": "execute_result"
    }
   ],
   "source": [
    "fashion_ds"
   ]
  },
  {
   "cell_type": "markdown",
   "metadata": {},
   "source": [
    "# 2. Define command component via YAML\n",
    "Below is a basic example to define command component  using YAML.\n"
   ]
  },
  {
   "cell_type": "code",
   "execution_count": 28,
   "metadata": {},
   "outputs": [],
   "source": [
    "prepare_dataset = load_component(yaml_file='./keras-mnist-fashion/prepare.yaml')\n",
    "train_model = load_component(yaml_file='./keras-mnist-fashion/train.yaml')"
   ]
  },
  {
   "cell_type": "markdown",
   "metadata": {},
   "source": [
    "# 3. Basic pipeline job\n",
    "\n",
    "## 3.1 Build pipeline\n",
    "\n",
    "In step one, we will load the image and labels from Fashion MNIST dataset into mnist_train.csv and mnist_test.csv. Then in step two, train CNN with Keras"
   ]
  },
  {
   "cell_type": "code",
   "execution_count": 29,
   "metadata": {},
   "outputs": [],
   "source": [
    "# define pipeline\n",
    "@dsl.pipeline(\n",
    "    name='image_classification_keras_minist_convnet',\n",
    "    description='E2E image classification pipeline with keras',\n",
    "    default_compute=cluster_name,\n",
    ")\n",
    "def image_classification_keras_minist_convnet():\n",
    "    prepare_dataset_node = prepare_dataset(input_path=fashion_ds)\n",
    "\n",
    "    train_node = train_model(input_path=prepare_dataset_node.outputs.output_path)\n",
    "    \n",
    "    # Return: pipeline outputs\n",
    "    return {\n",
    "        \"trained_model\": train_node.outputs.output_model,\n",
    "    }\n",
    "\n",
    "\n",
    "\n",
    "# create a pipeline\n",
    "pipeline = image_classification_keras_minist_convnet()"
   ]
  },
  {
   "cell_type": "code",
   "execution_count": 30,
   "metadata": {},
   "outputs": [
    {
     "name": "stdout",
     "output_type": "stream",
     "text": [
      "name: khaki_chayote_t5hp66tqp6\n",
      "display_name: image_classification_keras_minist_convnet\n",
      "description: E2E image classification pipeline with keras\n",
      "type: pipeline\n",
      "inputs: {}\n",
      "outputs:\n",
      "  trained_model: null\n",
      "tags: {}\n",
      "compute: azureml:cpu-cluster\n",
      "jobs:\n",
      "  prepare_dataset_node:\n",
      "    $schema: '{}'\n",
      "    type: command\n",
      "    inputs:\n",
      "      input_path:\n",
      "        mode: ro_mount\n",
      "        type: uri_folder\n",
      "        path: azureml:https://data4mldemo6150520719.blob.core.windows.net/demo/mnist-fashion\n",
      "    outputs: {}\n",
      "    command: ''\n",
      "    component:\n",
      "      $schema: https://azuremlschemas.azureedge.net/latest/commandComponent.schema.json\n",
      "      name: convert_to_csvfile\n",
      "      version: 0.0.1\n",
      "      display_name: Convert to CSV File\n",
      "      description: Convert dataset to csv file.\n",
      "      type: command\n",
      "      inputs:\n",
      "        input_path:\n",
      "          type: uri_folder\n",
      "      outputs:\n",
      "        output_path:\n",
      "          type: uri_folder\n",
      "      command: python prepare.py --mounted_input_path ${{inputs.input_path}} --mounted_output_path\n",
      "        ${{outputs.output_path}}\n",
      "      environment: azureml:AzureML-sklearn-0.24-ubuntu18.04-py37-cpu:5\n",
      "      code: azureml:./\n",
      "      is_deterministic: true\n",
      "      tags: {}\n",
      "    environment_variables: {}\n",
      "  train_node:\n",
      "    $schema: '{}'\n",
      "    type: command\n",
      "    inputs:\n",
      "      input_path: ${{parent.jobs.prepare_dataset_node.outputs.output_path}}\n",
      "    outputs:\n",
      "      output_model: ${{parent.outputs.trained_model}}\n",
      "    command: ''\n",
      "    component:\n",
      "      $schema: https://azuremlschemas.azureedge.net/latest/commandComponent.schema.json\n",
      "      name: train_image_classification_keras\n",
      "      version: 0.0.1\n",
      "      display_name: Train Image Classification Keras\n",
      "      description: train image classification with keras\n",
      "      type: command\n",
      "      inputs:\n",
      "        input_path:\n",
      "          type: uri_folder\n",
      "      outputs:\n",
      "        output_model:\n",
      "          type: uri_folder\n",
      "      command: python train.py  --input_path ${{inputs.input_path}}  --output_model\n",
      "        ${{outputs.output_model}}\n",
      "      environment:\n",
      "        name: CliV2AnonymousEnvironment\n",
      "        tags: {}\n",
      "        version: 584b7a53b9beb97e8f233ab3a95723e9\n",
      "        image: mcr.microsoft.com/azureml/openmpi3.1.2-cuda10.2-cudnn7-ubuntu18.04\n",
      "        conda_file:\n",
      "          name: imagekeras_train_conda_env\n",
      "          channels:\n",
      "          - defaults\n",
      "          dependencies:\n",
      "          - python=3.6.2\n",
      "          - pip:\n",
      "            - azureml-mlflow\n",
      "            - azureml-dataset-runtime\n",
      "            - keras==2.4.3\n",
      "            - tensorflow==2.4.3\n",
      "            - numpy\n",
      "            - scikit-learn\n",
      "            - pandas\n",
      "            - matplotlib\n",
      "      code: azureml:./\n",
      "      is_deterministic: true\n",
      "      tags: {}\n",
      "    environment_variables: {}\n",
      "properties: {}\n",
      "experiment_name: 2e_image_classification_keras_minist_convnet\n",
      "settings: {}\n",
      "\n"
     ]
    }
   ],
   "source": [
    "print(pipeline)"
   ]
  },
  {
   "cell_type": "markdown",
   "metadata": {},
   "source": [
    "# 3.2 Submit pipeline job"
   ]
  },
  {
   "cell_type": "code",
   "execution_count": 31,
   "metadata": {},
   "outputs": [
    {
     "name": "stderr",
     "output_type": "stream",
     "text": [
      "Warning: the provided asset name 'CliV2AnonymousEnvironment' will not be used for anonymous registration\n"
     ]
    },
    {
     "data": {
      "text/html": [
       "<table style=\"width:100%\"><tr><th>Experiment</th><th>Name</th><th>Type</th><th>Status</th><th>Details Page</th></tr><tr><td>pipeline_samples</td><td>khaki_chayote_t5hp66tqp6</td><td>pipeline</td><td>Preparing</td><td><a href=\"https://ml.azure.com/runs/khaki_chayote_t5hp66tqp6?wsid=/subscriptions/4faaaf21-663f-4391-96fd-47197c630979/resourcegroups/designertestrg/workspaces/DesignerTest-centraluseuap&amp;tid=72f988bf-86f1-41af-91ab-2d7cd011db47\" target=\"_blank\" rel=\"noopener\">Link to Azure Machine Learning studio</a></td></tr></table>"
      ],
      "text/plain": [
       "PipelineJob({'inputs': {}, 'outputs': {'trained_model': <azure.ml.entities._job.pipeline._io.PipelineOutput object at 0x000001BBF967A250>}, 'component': _PipelineComponent({'components': {}, 'auto_increment_version': False, 'is_anonymous': True, 'name': '88ba8ee1-6090-4948-8fc6-f930cd581b59', 'description': None, 'tags': {}, 'properties': {}, 'id': None, 'base_path': None, 'creation_context': None, 'serialize': <msrest.serialization.Serializer object at 0x000001BBF9681040>, 'version': '1', 'latest_version': None, 'schema': None, 'type': 'pipeline_component', 'display_name': None, 'is_deterministic': True, 'inputs': {}, 'outputs': {}, 'yaml_str': None, 'other_parameter': {}, 'func': <function [component] None at 0x000001BBF960D0D0>}), 'display_name': 'khaki_chayote_t5hp66tqp6', 'type': 'pipeline', 'status': 'Preparing', 'log_files': None, 'name': 'khaki_chayote_t5hp66tqp6', 'description': None, 'tags': {}, 'properties': {'mlflow.source.git.repoURL': 'git@github.com:Azure/azureml-examples.git', 'mlflow.source.git.branch': 'chenyin/keras', 'mlflow.source.git.commit': '8d4badb4dda0cb1146de00b3b8f4d9fc3b4d1126', 'azureml.git.dirty': 'True', 'azureml.runsource': 'azureml.PipelineRun', 'runSource': 'SDKv2', 'runType': 'HTTP', 'azureml.parameters': '{}', 'azureml.continue_on_step_failure': 'False', 'azureml.pipelineComponent': 'pipelinerun'}, 'id': '/subscriptions/4faaaf21-663f-4391-96fd-47197c630979/resourceGroups/designertestrg/providers/Microsoft.MachineLearningServices/workspaces/DesignerTest-centraluseuap/jobs/khaki_chayote_t5hp66tqp6', 'base_path': './', 'creation_context': <azure.ml._restclient.v2022_02_01_preview.models._models_py3.SystemData object at 0x000001BBF9681E80>, 'serialize': <msrest.serialization.Serializer object at 0x000001BBF9681940>, 'experiment_name': 'pipeline_samples', 'compute': 'cpu-cluster', 'services': {'Tracking': <azure.ml._restclient.v2022_02_01_preview.models._models_py3.JobService object at 0x000001BBF9681970>, 'Studio': <azure.ml._restclient.v2022_02_01_preview.models._models_py3.JobService object at 0x000001BBF9681790>}, 'jobs': {'prepare_dataset_node': {}, 'train_node': {}}, 'settings': {}, 'identity': None, 'default_code': None, 'default_environment': None})"
      ]
     },
     "execution_count": 31,
     "metadata": {},
     "output_type": "execute_result"
    }
   ],
   "source": [
    "pipeline_job = ml_client.jobs.create_or_update(pipeline, experiment_name='pipeline_samples')\n",
    "pipeline_job"
   ]
  },
  {
   "cell_type": "code",
   "execution_count": 32,
   "metadata": {},
   "outputs": [
    {
     "name": "stdout",
     "output_type": "stream",
     "text": [
      "RunId: khaki_chayote_t5hp66tqp6\n",
      "Web View: https://ml.azure.com/runs/khaki_chayote_t5hp66tqp6?wsid=/subscriptions/4faaaf21-663f-4391-96fd-47197c630979/resourcegroups/designertestrg/workspaces/DesignerTest-centraluseuap\n",
      "\n",
      "Streaming logs/azureml/executionlogs.txt\n",
      "========================================\n",
      "\n",
      "[2022-04-08 02:39:46Z] Submitting 1 runs, first five are: aec24da9:cefad0ae-d57a-42e7-a3b0-37d06a80e733\n",
      "\n",
      "Execution Summary\n",
      "=================\n",
      "RunId: khaki_chayote_t5hp66tqp6\n",
      "Web View: https://ml.azure.com/runs/khaki_chayote_t5hp66tqp6?wsid=/subscriptions/4faaaf21-663f-4391-96fd-47197c630979/resourcegroups/designertestrg/workspaces/DesignerTest-centraluseuap\n"
     ]
    },
    {
     "ename": "Exception",
     "evalue": "Exception : \n \"Detailed error not set on the Run. Please check the logs for details.\" ",
     "output_type": "error",
     "traceback": [
      "\u001b[1;31m---------------------------------------------------------------------------\u001b[0m",
      "\u001b[1;31mException\u001b[0m                                 Traceback (most recent call last)",
      "\u001b[1;32md:\\repro\\azureml-examples\\sdk\\jobs\\pipelines\\2e_image_classification_keras_minist_convnet\\image_classification_keras_minist_convnet.ipynb Cell 20'\u001b[0m in \u001b[0;36m<cell line: 2>\u001b[1;34m()\u001b[0m\n\u001b[0;32m      <a href='vscode-notebook-cell:/d%3A/repro/azureml-examples/sdk/jobs/pipelines/2e_image_classification_keras_minist_convnet/image_classification_keras_minist_convnet.ipynb#ch0000027?line=0'>1</a>\u001b[0m \u001b[39m# Wait until the job completes\u001b[39;00m\n\u001b[1;32m----> <a href='vscode-notebook-cell:/d%3A/repro/azureml-examples/sdk/jobs/pipelines/2e_image_classification_keras_minist_convnet/image_classification_keras_minist_convnet.ipynb#ch0000027?line=1'>2</a>\u001b[0m ml_client\u001b[39m.\u001b[39;49mjobs\u001b[39m.\u001b[39;49mstream(pipeline_job\u001b[39m.\u001b[39;49mname)\n",
      "File \u001b[1;32mc:\\users\\chenyin\\sdk-cli-v2\\src\\azure-ml\\azure\\ml\\_telemetry\\activity.py:160\u001b[0m, in \u001b[0;36mmonitor_with_activity.<locals>.monitor.<locals>.wrapper\u001b[1;34m(*args, **kwargs)\u001b[0m\n\u001b[0;32m    <a href='file:///c%3A/users/chenyin/sdk-cli-v2/src/azure-ml/azure/ml/_telemetry/activity.py?line=156'>157</a>\u001b[0m \u001b[39m@functools\u001b[39m\u001b[39m.\u001b[39mwraps(f)\n\u001b[0;32m    <a href='file:///c%3A/users/chenyin/sdk-cli-v2/src/azure-ml/azure/ml/_telemetry/activity.py?line=157'>158</a>\u001b[0m \u001b[39mdef\u001b[39;00m \u001b[39mwrapper\u001b[39m(\u001b[39m*\u001b[39margs, \u001b[39m*\u001b[39m\u001b[39m*\u001b[39mkwargs):\n\u001b[0;32m    <a href='file:///c%3A/users/chenyin/sdk-cli-v2/src/azure-ml/azure/ml/_telemetry/activity.py?line=158'>159</a>\u001b[0m     \u001b[39mwith\u001b[39;00m log_activity(logger, activity_name \u001b[39mor\u001b[39;00m f\u001b[39m.\u001b[39m\u001b[39m__name__\u001b[39m, activity_type, custom_dimensions):\n\u001b[1;32m--> <a href='file:///c%3A/users/chenyin/sdk-cli-v2/src/azure-ml/azure/ml/_telemetry/activity.py?line=159'>160</a>\u001b[0m         \u001b[39mreturn\u001b[39;00m f(\u001b[39m*\u001b[39;49margs, \u001b[39m*\u001b[39;49m\u001b[39m*\u001b[39;49mkwargs)\n",
      "File \u001b[1;32mc:\\users\\chenyin\\sdk-cli-v2\\src\\azure-ml\\azure\\ml\\_operations\\job_operations.py:349\u001b[0m, in \u001b[0;36mJobOperations.stream\u001b[1;34m(self, name)\u001b[0m\n\u001b[0;32m    <a href='file:///c%3A/users/chenyin/sdk-cli-v2/src/azure-ml/azure/ml/_operations/job_operations.py?line=345'>346</a>\u001b[0m job_object \u001b[39m=\u001b[39m \u001b[39mself\u001b[39m\u001b[39m.\u001b[39m_get_job(name)\n\u001b[0;32m    <a href='file:///c%3A/users/chenyin/sdk-cli-v2/src/azure-ml/azure/ml/_operations/job_operations.py?line=347'>348</a>\u001b[0m \u001b[39mtry\u001b[39;00m:\n\u001b[1;32m--> <a href='file:///c%3A/users/chenyin/sdk-cli-v2/src/azure-ml/azure/ml/_operations/job_operations.py?line=348'>349</a>\u001b[0m     \u001b[39mself\u001b[39;49m\u001b[39m.\u001b[39;49m_stream_logs_until_completion(\n\u001b[0;32m    <a href='file:///c%3A/users/chenyin/sdk-cli-v2/src/azure-ml/azure/ml/_operations/job_operations.py?line=349'>350</a>\u001b[0m         \u001b[39mself\u001b[39;49m\u001b[39m.\u001b[39;49m_runs_operations, job_object, \u001b[39mself\u001b[39;49m\u001b[39m.\u001b[39;49m_all_operations\u001b[39m.\u001b[39;49mall_operations[AzureMLResourceType\u001b[39m.\u001b[39;49mDATASTORE]\n\u001b[0;32m    <a href='file:///c%3A/users/chenyin/sdk-cli-v2/src/azure-ml/azure/ml/_operations/job_operations.py?line=350'>351</a>\u001b[0m     )\n\u001b[0;32m    <a href='file:///c%3A/users/chenyin/sdk-cli-v2/src/azure-ml/azure/ml/_operations/job_operations.py?line=351'>352</a>\u001b[0m \u001b[39mexcept\u001b[39;00m \u001b[39mException\u001b[39;00m:\n\u001b[0;32m    <a href='file:///c%3A/users/chenyin/sdk-cli-v2/src/azure-ml/azure/ml/_operations/job_operations.py?line=352'>353</a>\u001b[0m     \u001b[39mraise\u001b[39;00m\n",
      "File \u001b[1;32mc:\\users\\chenyin\\sdk-cli-v2\\src\\azure-ml\\azure\\ml\\_operations\\job_ops_helper.py:283\u001b[0m, in \u001b[0;36mstream_logs_until_completion\u001b[1;34m(run_operations, job_resource, datastore_operations, raise_exception_on_failed_job)\u001b[0m\n\u001b[0;32m    <a href='file:///c%3A/users/chenyin/sdk-cli-v2/src/azure-ml/azure/ml/_operations/job_ops_helper.py?line=280'>281</a>\u001b[0m         file_handle\u001b[39m.\u001b[39mwrite(\u001b[39m\"\u001b[39m\u001b[39m\\n\u001b[39;00m\u001b[39m\"\u001b[39m)\n\u001b[0;32m    <a href='file:///c%3A/users/chenyin/sdk-cli-v2/src/azure-ml/azure/ml/_operations/job_ops_helper.py?line=281'>282</a>\u001b[0m     \u001b[39melse\u001b[39;00m:\n\u001b[1;32m--> <a href='file:///c%3A/users/chenyin/sdk-cli-v2/src/azure-ml/azure/ml/_operations/job_ops_helper.py?line=282'>283</a>\u001b[0m         \u001b[39mraise\u001b[39;00m \u001b[39mException\u001b[39;00m(\u001b[39m\"\u001b[39m\u001b[39mException : \u001b[39m\u001b[39m\\n\u001b[39;00m\u001b[39m \u001b[39m\u001b[39m{}\u001b[39;00m\u001b[39m \u001b[39m\u001b[39m\"\u001b[39m\u001b[39m.\u001b[39mformat(json\u001b[39m.\u001b[39mdumps(error, indent\u001b[39m=\u001b[39m\u001b[39m4\u001b[39m)))\n\u001b[0;32m    <a href='file:///c%3A/users/chenyin/sdk-cli-v2/src/azure-ml/azure/ml/_operations/job_ops_helper.py?line=284'>285</a>\u001b[0m file_handle\u001b[39m.\u001b[39mwrite(\u001b[39m\"\u001b[39m\u001b[39m\\n\u001b[39;00m\u001b[39m\"\u001b[39m)\n\u001b[0;32m    <a href='file:///c%3A/users/chenyin/sdk-cli-v2/src/azure-ml/azure/ml/_operations/job_ops_helper.py?line=285'>286</a>\u001b[0m file_handle\u001b[39m.\u001b[39mflush()\n",
      "\u001b[1;31mException\u001b[0m: Exception : \n \"Detailed error not set on the Run. Please check the logs for details.\" "
     ]
    }
   ],
   "source": [
    "# Wait until the job completes\n",
    "ml_client.jobs.stream(pipeline_job.name)"
   ]
  },
  {
   "cell_type": "markdown",
   "metadata": {},
   "source": [
    "# Next Steps\n",
    "You can see further examples of running a pipeline job [here](/sdk/jobs/pipelines/)"
   ]
  }
 ],
 "metadata": {
  "interpreter": {
   "hash": "76e3f79dcda5ecc398e236cf994607053e7cf1e1f5da39c151cd830d8fe26160"
  },
  "kernelspec": {
   "display_name": "Python 3.8.0 ('chenyinpy38_v2_feb')",
   "language": "python",
   "name": "python3"
  },
  "language_info": {
   "codemirror_mode": {
    "name": "ipython",
    "version": 3
   },
   "file_extension": ".py",
   "mimetype": "text/x-python",
   "name": "python",
   "nbconvert_exporter": "python",
   "pygments_lexer": "ipython3",
   "version": "3.8.0"
  },
  "orig_nbformat": 4
 },
 "nbformat": 4,
 "nbformat_minor": 2
}
