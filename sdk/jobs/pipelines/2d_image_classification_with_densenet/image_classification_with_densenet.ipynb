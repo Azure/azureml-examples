{
 "cells": [
  {
   "cell_type": "markdown",
   "metadata": {},
   "source": [
    "# Image classification distributed training\n",
    "\n",
    "**Requirements** - In order to benefit from this tutorial, you will need:\n",
    "- A basic understanding of Machine Learning\n",
    "- An Azure account with an active subscription. [Create an account for free](https://azure.microsoft.com/free/?WT.mc_id=A261C142F)\n",
    "- An Azure ML workspace. [Check this notebook for creating a workspace](/sdk/resources/workspace/workspace.ipynb) \n",
    "- A Compute Cluster. [Check this notebook to create a compute cluster](/sdk/resources/compute/compute.ipynb)\n",
    "- A python environment\n",
    "- Installed Azure Machine Learning Python SDK v2 - [install instructions](/sdk/README.md#getting-started)\n",
    "\n",
    "**Learning Objectives** - By the end of this tutorial, you should be able to:\n",
    "- Connect to your AML workspace from the Python SDK\n",
    "- Create `pipeline` with components\n",
    "\n",
    "**Motivations** -This is a sample to demonstrate distributed training in azure machine learning. In this pipeline, we use components to do image preprocessing on cpu nodes, and a mpi custom component on distributed gpu nodes."
   ]
  },
  {
   "cell_type": "markdown",
   "metadata": {},
   "source": [
    "# 1. Connect to Azure Machine Learning Workspace\n",
    "\n",
    "The [workspace](https://docs.microsoft.com/en-us/azure/machine-learning/concept-workspace) is the top-level resource for Azure Machine Learning, providing a centralized place to work with all the artifacts you create when you use Azure Machine Learning. In this section we will connect to the workspace in which the job will be run.\n",
    "\n",
    "## 1.1. Import the required libraries"
   ]
  },
  {
   "cell_type": "code",
   "execution_count": null,
   "metadata": {},
   "outputs": [],
   "source": [
    "#import required libraries\n",
    "from azure.identity import InteractiveBrowserCredential\n",
    "from azure.ml import MLClient, dsl\n",
    "from azure.ml.entities import load_component"
   ]
  },
  {
   "cell_type": "markdown",
   "metadata": {},
   "source": [
    "## 1.2. Configure workspace details and get a handle to the workspace\n",
    "\n",
    "To connect to a workspace, we need identifier parameters - a subscription, resource group and workspace name. We will use these details in the `MLClient` from `azure.ml` to get a handle to the required Azure Machine Learning workspace. We use the default [interactive authentication](https://docs.microsoft.com/en-us/python/api/azure-identity/azure.identity.interactivebrowsercredential?view=azure-python) for this tutorial. More advanced connection methods can be found [here](https://docs.microsoft.com/en-us/python/api/azure-identity/azure.identity?view=azure-python)."
   ]
  },
  {
   "cell_type": "code",
   "execution_count": null,
   "metadata": {},
   "outputs": [],
   "source": [
    "#Enter details of your AML workspace\n",
    "subscription_id = '<SUBSCRIPTION_ID>'\n",
    "resource_group = '<RESOURCE_GROUP>'\n",
    "workspace = '<AML_WORKSPACE_NAME>'"
   ]
  },
  {
   "cell_type": "code",
   "execution_count": null,
   "metadata": {},
   "outputs": [],
   "source": [
    "#get a handle to the workspace\n",
    "ml_client = MLClient(InteractiveBrowserCredential(), subscription_id, resource_group, workspace)"
   ]
  },
  {
   "cell_type": "markdown",
   "metadata": {},
   "source": [
    "## Retrieve or create an Azure Machine Learning compute target\n",
    "Azure Machine Learning Compute is a service for provisioning and managing clusters of Azure virtual machines for running machine learning workloads. Create a new Azure Machine Learning Compute in the current workspace, if it doesn't already exist. We will then run the pipeline on this compute target.\n",
    "\n",
    "If we could not find the compute with the given name, then we will create a new compute here. This process is broken down into the following steps:\n",
    "\n",
    "1. Create the configuration\n",
    "2. Create the Azure Machine Learning compute\n",
    "\n",
    "**This process will take a few minutes and is providing only sparse output in the process. Please make sure to wait until the call returns before moving to the next cell.**"
   ]
  },
  {
   "cell_type": "code",
   "execution_count": null,
   "metadata": {},
   "outputs": [],
   "source": [
    "from azure.ml.entities import AmlCompute\n",
    "\n",
    "# specify aml compute name.\n",
    "gpu_compute_target = 'gpu-cluster'\n",
    "cpu_compute_target = 'cpu-cluster'\n",
    "\n",
    "try:\n",
    "    ml_client.compute.get(cpu_compute_target)\n",
    "except Exception:\n",
    "    print('Creating a new cpu compute target...')\n",
    "    compute = AmlCompute(name=cpu_compute_target, size=\"STANDARD_D2_V2\", min_instances=0, max_instances=4)\n",
    "    ml_client.compute.begin_create_or_update(compute)\n",
    "\n",
    "try:\n",
    "    ml_client.compute.get(gpu_compute_target)\n",
    "except Exception:\n",
    "    print('Creating a new gpu compute target...')\n",
    "    compute = AmlCompute(name=gpu_compute_target, size=\"STANDARD_NC24\", min_instances=0, max_instances=4)\n",
    "    ml_client.compute.begin_create_or_update(compute)"
   ]
  },
  {
   "cell_type": "markdown",
   "metadata": {},
   "source": [
    "## Prepare dataset\n",
    "This dataset is a subset of the [Open Images Dataset](https://storage.googleapis.com/openimages/web/index.html).\n",
    "- training dataset contains 24 images (3 categories * 8 images per category)\n",
    "- validation dataset contains 6 images (3 categories * 2 images per category)\n",
    "\n",
    "This is a extremely small dataset only for demo usage for this notebook. Use larger datasets to train models for production usage. \n",
    "\n",
    "NOTE: Use zip file here to avoid performance issue of mounting file dataset with many subfolders."
   ]
  },
  {
   "cell_type": "code",
   "execution_count": null,
   "metadata": {},
   "outputs": [],
   "source": [
    "from azure.ml.entities import Data, JobInput\n",
    "from azure.ml._constants import AssetTypes\n",
    "\n",
    "\n",
    "train_image_dataset = JobInput(name='TrainData', type=AssetTypes.URI_FOLDER, path=\"./data/train\")\n",
    "val_image_dataset = JobInput(name='ValidData', type=AssetTypes.URI_FOLDER, path=\"./data/val\")"
   ]
  },
  {
   "cell_type": "markdown",
   "metadata": {},
   "source": [
    "# 2. Define command component via YAML\n",
    "Below is a basic example to define command component  using YAML.\n"
   ]
  },
  {
   "cell_type": "code",
   "execution_count": null,
   "metadata": {},
   "outputs": [],
   "source": [
    "\n",
    "apply_transform = load_component(yaml_file=\"./apply_image_transformation/apply_image_transformation.yaml\")\n",
    "convert = load_component(yaml_file=\"./convert_to_image_directory/convert_to_image_directory.yaml\")\n",
    "init_transform = load_component(yaml_file=\"./init_image_transformation/init_image_transformation.yaml\")\n",
    "\n",
    "# this train component is an mpi component.\n",
    "imagecnn_train = load_component(yaml_file='./imagecnn_train/entry.spec.yaml')"
   ]
  },
  {
   "cell_type": "markdown",
   "metadata": {},
   "source": [
    "# 3. Basic pipeline job\n",
    "\n",
    "## 3.1 Build pipeline"
   ]
  },
  {
   "cell_type": "code",
   "execution_count": null,
   "metadata": {},
   "outputs": [],
   "source": [
    "\n",
    "# define pipeline\n",
    "@dsl.pipeline(\n",
    "    name='image_classification_with_densenet',\n",
    "    description='E2E image classification pipeline with densenet',\n",
    "    default_compute=cpu_compute_target,\n",
    ")\n",
    "def image_classification_with_densenet():\n",
    "    convert_train = convert(input_path=train_image_dataset)\n",
    "\n",
    "    convert_val = convert(input_path=val_image_dataset)\n",
    "\n",
    "    init_image_transformation = init_transform(\n",
    "        resize='False',\n",
    "        size=256,\n",
    "        center_crop='False',\n",
    "        crop_size=224,\n",
    "        pad='False',\n",
    "        padding=0,\n",
    "        color_jitter='False',\n",
    "        grayscale='False',\n",
    "        random_resized_crop='False',\n",
    "        random_resized_crop_size=256,\n",
    "        random_crop='False',\n",
    "        random_crop_size=224,\n",
    "        random_horizontal_flip='True',\n",
    "        random_vertical_flip='False',\n",
    "        random_rotation='False',\n",
    "        random_rotation_degrees=0,\n",
    "        random_affine='False',\n",
    "        random_affine_degrees=0,\n",
    "        random_grayscale='False',\n",
    "        random_perspective='False',\n",
    "    )\n",
    "\n",
    "    apply_trans_on_train = apply_transform(\n",
    "        mode='For training',\n",
    "        input_image_transform_path=init_image_transformation.outputs.output_path,\n",
    "        input_image_dir_path=convert_train.outputs.output_path,\n",
    "    )\n",
    "\n",
    "    apply_trans_on_val = apply_transform(\n",
    "        mode='For inference',\n",
    "        input_image_transform_path=init_image_transformation.outputs.output_path,\n",
    "        input_image_dir_path=convert_val.outputs.output_path,\n",
    "    )\n",
    "\n",
    "    imagecnn_train_gpu = imagecnn_train(\n",
    "        train_data=apply_trans_on_train.outputs.output_path,\n",
    "        valid_data=apply_trans_on_val.outputs.output_path,\n",
    "        data_backend='pytorch',\n",
    "        arch='resnet50',\n",
    "        model_config='classic',\n",
    "        workers=5,\n",
    "        epochs=4,\n",
    "        batch_size=16,\n",
    "        optimizer_batch_size=-1,\n",
    "        lr=0.1,\n",
    "        lr_schedule='step',\n",
    "        warmup=0,\n",
    "        label_smoothing=0.0,\n",
    "        mixup=0.0,\n",
    "        momentum=0.9,\n",
    "        weight_decay=0.0001,\n",
    "        print_freq=10,\n",
    "        resume='',\n",
    "        pretrained_weights='',\n",
    "        static_loss_scale=1.0,\n",
    "        prof=-1,\n",
    "        seed=123,\n",
    "        raport_file='experiment_raport.json',\n",
    "        save_checkpoint_epochs=2,\n",
    "    )\n",
    "    imagecnn_train_gpu.compute = gpu_compute_target\n",
    "\n",
    "# create a pipeline\n",
    "pipeline = image_classification_with_densenet()"
   ]
  },
  {
   "cell_type": "code",
   "execution_count": null,
   "metadata": {},
   "outputs": [],
   "source": [
    "print(pipeline)"
   ]
  },
  {
   "cell_type": "markdown",
   "metadata": {},
   "source": [
    "# 3.2 Submit pipeline job"
   ]
  },
  {
   "cell_type": "code",
   "execution_count": null,
   "metadata": {},
   "outputs": [],
   "source": [
    "pipeline_job = ml_client.jobs.create_or_update(\n",
    "    pipeline, experiment_name='pipeline_samples'\n",
    ")\n",
    "\n",
    "# show pipeline job url\n",
    "print(f'Job link: {pipeline_job.services[\"Studio\"].endpoint}')"
   ]
  },
  {
   "cell_type": "markdown",
   "metadata": {},
   "source": [
    "# Next Steps\n",
    "You can see further examples of running a pipeline job [here](/sdk/jobs/pipelines/)"
   ]
  }
 ],
 "metadata": {
  "description": {
   "description": "Create basic pipeline with CommandComponents from local YAML file"
  },
  "interpreter": {
   "hash": "3e9e0e270b75c5e6da2e22113ba4f77b864d68f95da6601809c29e46c73ae6bb"
  },
  "kernelspec": {
   "display_name": "Python 3.7.8 64-bit",
   "language": "python",
   "name": "python3"
  },
  "language_info": {
   "codemirror_mode": {
    "name": "ipython",
    "version": 3
   },
   "file_extension": ".py",
   "mimetype": "text/x-python",
   "name": "python",
   "nbconvert_exporter": "python",
   "pygments_lexer": "ipython3",
   "version": "3.8.12"
  },
  "orig_nbformat": 4
 },
 "nbformat": 4,
 "nbformat_minor": 2
}
