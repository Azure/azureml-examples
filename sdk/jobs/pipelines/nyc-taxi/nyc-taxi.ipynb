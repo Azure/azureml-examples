{
 "cells": [
  {
   "cell_type": "code",
   "execution_count": null,
   "metadata": {},
   "outputs": [],
   "source": [
    "#import required libraries\n",
    "from azure.ml import MLClient\n",
    "from azure.ml.entities import CommandJob, Code, PipelineJob, Dataset, JobInput\n",
    "from azure.identity import InteractiveBrowserCredential"
   ]
  },
  {
   "cell_type": "code",
   "execution_count": null,
   "metadata": {},
   "outputs": [],
   "source": [
    "#Enter details of your AML workspace\n",
    "subscription_id = '<SUBSCRIPTION_ID>'\n",
    "resource_group = '<RESOURCE_GROUP>'\n",
    "workspace = '<AML_WORKSPACE_NAME>'"
   ]
  },
  {
   "cell_type": "code",
   "execution_count": null,
   "metadata": {},
   "outputs": [],
   "source": [
    "#get a handle to the workspace\n",
    "ml_client = MLClient(InteractiveBrowserCredential(), subscription_id, resource_group, workspace)"
   ]
  },
  {
   "cell_type": "code",
   "execution_count": null,
   "metadata": {},
   "outputs": [],
   "source": [
    "#create the inputs and outputs required for the pipeline\n",
    "prep_data = Dataset(\n",
    "    local_path=\"./data\"\n",
    ")\n",
    "pipeline_job_inputs = {'max_epocs_from_pipeline': '20', 'raw_data_from_pipeline': JobInput(dataset=prep_data)}"
   ]
  },
  {
   "cell_type": "code",
   "execution_count": null,
   "metadata": {},
   "outputs": [],
   "source": [
    "#define the prep-job to run in the pipeline\n",
    "prep_cmd = \"pip freeze && echo ${{inputs.max_epocs}} && python prep.py --raw_data ${{inputs.raw_data}} --prep_data ${{outputs.prep_data}}\"\n",
    "prep_job_inputs = {'max_epocs': '${{inputs.max_epocs_from_pipeline}}', #take this input from the pipeline inputs\n",
    "                    'raw_data': '${{inputs.raw_data_from_pipeline}}'} #upload the local data into a dataset\n",
    "prep_job_outputs = {'prep_data': None}\n",
    "\n",
    "prep_job = CommandJob(\n",
    "    code=Code(local_path=\"./src/prep\"), #local path where the code is stored\n",
    "    command = prep_cmd, #command to be run\n",
    "    inputs=prep_job_inputs, #inputs to the job\n",
    "    outputs=prep_job_outputs, #outputs of the job\n",
    "    environment = \"AzureML-sklearn-0.24-ubuntu18.04-py37-cuda11-gpu:9\",\n",
    "    #compute = \"<override with some other compute if needed>\"\n",
    ")"
   ]
  },
  {
   "cell_type": "code",
   "execution_count": null,
   "metadata": {},
   "outputs": [],
   "source": [
    "#define the transform-job to run in the pipeline\n",
    "transform_cmd = \"python transform.py --clean_data ${{inputs.clean_data}} --transformed_data ${{outputs.transformed_data}}\"\n",
    "transform_job_inputs = {'clean_data': '${{jobs.prep-job.outputs.prep_data}}'}\n",
    "transform_job_outputs = {'transformed_data': None}\n",
    "\n",
    "transform_job = CommandJob(\n",
    "    code=Code(local_path=\"./src/transform\"), #local path where the code is stored\n",
    "    command = transform_cmd, #command to be run\n",
    "    inputs=transform_job_inputs, #inputs to the job\n",
    "    outputs=transform_job_outputs, #outputs of the job\n",
    "    environment = \"AzureML-sklearn-0.24-ubuntu18.04-py37-cuda11-gpu:9\",\n",
    "    #compute = \"<override with some other compute if needed>\"\n",
    ")"
   ]
  },
  {
   "cell_type": "code",
   "execution_count": null,
   "metadata": {},
   "outputs": [],
   "source": [
    "#define the training-job to run in the pipeline\n",
    "train_cmd = \"python train.py --training_data ${{inputs.training_data}} --test_data ${{outputs.test_data}} --model_output ${{outputs.model_output}}\"\n",
    "train_job_inputs = {'training_data': '${{jobs.transform-job.outputs.transformed_data}}'} #use the output data from the transform data\n",
    "train_job_outputs = {'model_output': None, 'test_data': None}\n",
    "\n",
    "train_job = CommandJob(\n",
    "    code=Code(local_path=\"./src/train\"),\n",
    "    command = train_cmd,\n",
    "    inputs = train_job_inputs,\n",
    "    outputs=train_job_outputs,\n",
    "    environment = \"AzureML-sklearn-0.24-ubuntu18.04-py37-cuda11-gpu:9\",\n",
    "    #compute = \"<override with some other compute if needed>\"\n",
    ")"
   ]
  },
  {
   "cell_type": "code",
   "execution_count": null,
   "metadata": {},
   "outputs": [],
   "source": [
    "#define the predict job to run in the pipeline\n",
    "predict_cmd = \"python predict.py --model_input ${{inputs.model_input}} --test_data ${{inputs.test_data}} --predictions ${{outputs.predictions}}\"\n",
    "predict_job_inputs = {\n",
    "    'model_input': '${{jobs.train-job.outputs.model_output}}', #use model output from the training job\n",
    "    'test_data': '${{jobs.train-job.outputs.test_data}}'} #use the output test data from the training job\n",
    "predict_job_outputs = {'predictions': None}\n",
    "\n",
    "predict_job = CommandJob(\n",
    "    code=Code(local_path=\"./src/predict\"),\n",
    "    command = predict_cmd,\n",
    "    inputs = predict_job_inputs,\n",
    "    outputs=predict_job_outputs,\n",
    "    environment = \"AzureML-sklearn-0.24-ubuntu18.04-py37-cuda11-gpu:9\",\n",
    "    #compute = \"<override with some other compute if needed>\"\n",
    ")"
   ]
  },
  {
   "cell_type": "code",
   "execution_count": null,
   "metadata": {},
   "outputs": [],
   "source": [
    "#define the score job to run in the pipeline\n",
    "score_cmd = 'python score.py --predictions ${{inputs.predictions}} --model ${{inputs.model}} --score_report ${{outputs.score_report}}'\n",
    "score_job_inputs = {\n",
    "    'predictions': '${{jobs.predict-job.outputs.predictions}}', #use the predictions from predict job so we can score\n",
    "    'model': '${{jobs.train-job.outputs.model_output}}'} #use the model from the training job\n",
    "score_job_outputs = {'score_report': None}\n",
    "\n",
    "score_job = CommandJob(\n",
    "    code=Code(local_path=\"./src/score\"),\n",
    "    command = score_cmd,\n",
    "    inputs = score_job_inputs,\n",
    "    outputs=score_job_outputs,\n",
    "    environment = \"AzureML-sklearn-0.24-ubuntu18.04-py37-cuda11-gpu:9\",\n",
    "    #compute = \"<override with some other compute if needed>\"\n",
    ")"
   ]
  },
  {
   "cell_type": "code",
   "execution_count": null,
   "metadata": {},
   "outputs": [],
   "source": [
    "# lets create the pipeline\n",
    "pipeline_job = PipelineJob(\n",
    "    description = 'nyc-taxi-pipeline-example',\n",
    "    jobs= {\n",
    "        'prep-job':prep_job, \n",
    "        'transform-job': transform_job, \n",
    "        'train-job': train_job,\n",
    "        'predict-job': predict_job,\n",
    "        'score-job': score_job}, #add all the jobs into this pipeline\n",
    "    inputs= pipeline_job_inputs, #top level inputs to the pipeline\n",
    "    outputs=prep_job_outputs,\n",
    "    compute = \"gpu-cluster\"\n",
    ")"
   ]
  },
  {
   "cell_type": "code",
   "execution_count": null,
   "metadata": {},
   "outputs": [],
   "source": [
    "#submit the pipeline job\n",
    "returned_job = ml_client.create_or_update(pipeline_job)\n",
    "#get a URL for the status of the job\n",
    "returned_job.services[\"Studio\"].endpoint"
   ]
  }
 ],
 "metadata": {
  "interpreter": {
   "hash": "45ee23ad53d8447c1a4a7f9f605254595f8ee53c2e1723e7948bbd485e96ca91"
  },
  "kernelspec": {
   "display_name": "Python 3",
   "language": "python",
   "name": "python3"
  },
  "language_info": {
   "codemirror_mode": {
    "name": "ipython",
    "version": 3
   },
   "file_extension": ".py",
   "mimetype": "text/x-python",
   "name": "python",
   "nbconvert_exporter": "python",
   "pygments_lexer": "ipython3",
   "version": "3.8.5"
  }
 },
 "nbformat": 4,
 "nbformat_minor": 4
}
