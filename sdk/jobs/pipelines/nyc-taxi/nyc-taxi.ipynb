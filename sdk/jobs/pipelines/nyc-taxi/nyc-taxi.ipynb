{
 "cells": [
  {
   "cell_type": "code",
   "execution_count": null,
   "metadata": {},
   "outputs": [],
   "source": [
    "#import required libraries\n",
    "from azure.ml import MLClient, dsl\n",
    "from azure.ml.entities import CommandJob, Code, Dataset, JobInput, JobOutput\n",
    "from azure.identity import InteractiveBrowserCredential"
   ]
  },
  {
   "cell_type": "code",
   "execution_count": null,
   "metadata": {},
   "outputs": [],
   "source": [
    "#Enter details of your AML workspace\n",
    "subscription_id = '<SUBSCRIPTION_ID>'\n",
    "resource_group = '<RESOURCE_GROUP>'\n",
    "workspace = '<AML_WORKSPACE_NAME>'"
   ]
  },
  {
   "cell_type": "code",
   "execution_count": null,
   "metadata": {},
   "outputs": [],
   "source": [
    "# get a handle to the workspace\n",
    "ml_client = MLClient(credential=InteractiveBrowserCredential(), subscription_id=subscription_id, resource_group_name=resource_group, workspace_name=workspace)"
   ]
  },
  {
   "cell_type": "code",
   "execution_count": null,
   "metadata": {},
   "outputs": [],
   "source": [
    "#create the inputs and outputs required for the pipeline\n",
    "prep_data = Dataset(\n",
    "    local_path=\"./data\"\n",
    ")\n",
    "pipeline_job_inputs = {'max_epocs_from_pipeline': '20', 'raw_data_from_pipeline': JobInput(dataset=prep_data)}"
   ]
  },
  {
   "cell_type": "code",
   "execution_count": null,
   "metadata": {},
   "outputs": [],
   "source": [
    "#define the prep-job to run in the pipeline\n",
    "prep_cmd = \"pip freeze && echo ${{inputs.max_epocs}} && python prep.py --raw_data ${{inputs.raw_data}} --prep_data ${{outputs.prep_data}}\"\n",
    "prep_job_inputs = {'max_epocs': 20, #take this input from the pipeline inputs\n",
    "                    'raw_data': JobInput()} #upload the local data into a dataset\n",
    "prep_job_outputs = {'prep_data': JobOutput()}\n",
    "\n",
    "prep_job = CommandJob(\n",
    "    code=Code(local_path=\"./src/prep\"), #local path where the code is stored\n",
    "    command = prep_cmd, #command to be run\n",
    "    inputs=prep_job_inputs, #inputs to the job\n",
    "    outputs=prep_job_outputs, #outputs of the job\n",
    "    environment = \"AzureML-sklearn-0.24-ubuntu18.04-py37-cuda11-gpu:9\",\n",
    "    #compute = \"<override with some other compute if needed>\"\n",
    ")"
   ]
  },
  {
   "cell_type": "code",
   "execution_count": null,
   "metadata": {},
   "outputs": [],
   "source": [
    "#define the transform-job to run in the pipeline\n",
    "transform_cmd = \"python transform.py --clean_data ${{inputs.clean_data}} --transformed_data ${{outputs.transformed_data}}\"\n",
    "transform_job_inputs = {'clean_data': JobInput()}\n",
    "transform_job_outputs = {'transformed_data': JobOutput()}\n",
    "\n",
    "transform_job = CommandJob(\n",
    "    code=Code(local_path=\"./src/transform\"), #local path where the code is stored\n",
    "    command = transform_cmd, #command to be run\n",
    "    inputs=transform_job_inputs, #inputs to the job\n",
    "    outputs=transform_job_outputs, #outputs of the job\n",
    "    environment = \"AzureML-sklearn-0.24-ubuntu18.04-py37-cuda11-gpu:9\",\n",
    "    #compute = \"<override with some other compute if needed>\"\n",
    ")"
   ]
  },
  {
   "cell_type": "code",
   "execution_count": null,
   "metadata": {},
   "outputs": [],
   "source": [
    "#define the training-job to run in the pipeline\n",
    "train_cmd = \"python train.py --training_data ${{inputs.training_data}} --test_data ${{outputs.test_data}} --model_output ${{outputs.model_output}}\"\n",
    "train_job_inputs = {'training_data': JobInput()} #use the output data from the transform data\n",
    "train_job_outputs = {'model_output': JobOutput(), 'test_data': JobOutput()}\n",
    "\n",
    "train_job = CommandJob(\n",
    "    code=Code(local_path=\"./src/train\"),\n",
    "    command = train_cmd,\n",
    "    inputs = train_job_inputs,\n",
    "    outputs=train_job_outputs,\n",
    "    environment = \"AzureML-sklearn-0.24-ubuntu18.04-py37-cuda11-gpu:9\",\n",
    "    #compute = \"<override with some other compute if needed>\"\n",
    ")"
   ]
  },
  {
   "cell_type": "code",
   "execution_count": null,
   "metadata": {},
   "outputs": [],
   "source": [
    "#define the predict job to run in the pipeline\n",
    "predict_cmd = \"python predict.py --model_input ${{inputs.model_input}} --test_data ${{inputs.test_data}} --predictions ${{outputs.predictions}}\"\n",
    "predict_job_inputs = {\n",
    "    'model_input': JobInput(), #use model output from the training job\n",
    "    'test_data': JobInput()} #use the output test data from the training job\n",
    "predict_job_outputs = {'predictions': JobOutput()}\n",
    "\n",
    "predict_job = CommandJob(\n",
    "    code=Code(local_path=\"./src/predict\"),\n",
    "    command = predict_cmd,\n",
    "    inputs = predict_job_inputs,\n",
    "    outputs=predict_job_outputs,\n",
    "    environment = \"AzureML-sklearn-0.24-ubuntu18.04-py37-cuda11-gpu:9\",\n",
    "    #compute = \"<override with some other compute if needed>\"\n",
    ")"
   ]
  },
  {
   "cell_type": "code",
   "execution_count": null,
   "metadata": {},
   "outputs": [],
   "source": [
    "#define the score job to run in the pipeline\n",
    "score_cmd = 'python score.py --predictions ${{inputs.predictions}} --model ${{inputs.model}} --score_report ${{outputs.score_report}}'\n",
    "score_job_inputs = {\n",
    "    'predictions': JobInput(), #use the predictions from predict job so we can score\n",
    "    'model': JobInput()} #use the model from the training job\n",
    "score_job_outputs = {'score_report': JobOutput()}\n",
    "\n",
    "score_job = CommandJob(\n",
    "    code=Code(local_path=\"./src/score\"),\n",
    "    command = score_cmd,\n",
    "    inputs = score_job_inputs,\n",
    "    outputs=score_job_outputs,\n",
    "    environment = \"AzureML-sklearn-0.24-ubuntu18.04-py37-cuda11-gpu:9\",\n",
    "    #compute = \"<override with some other compute if needed>\"\n",
    ")"
   ]
  },
  {
   "cell_type": "code",
   "execution_count": null,
   "metadata": {},
   "outputs": [],
   "source": [
    "# convert jobs into components func\n",
    "prep_func = dsl.load_component(component=prep_job)\n",
    "transform_func = dsl.load_component(component=transform_job)\n",
    "train_func = dsl.load_component(component=train_job)\n",
    "predict_func = dsl.load_component(component=predict_job)\n",
    "score_func = dsl.load_component(component=score_job)"
   ]
  },
  {
   "cell_type": "code",
   "execution_count": null,
   "metadata": {},
   "outputs": [],
   "source": [
    "# construct pipeline\n",
    "@dsl.pipeline(compute=\"cpu-cluster\", default_datastore=\"workspaceblobstore\", description = 'nyc-taxi-pipeline-example')\n",
    "def sample_pipeline(\n",
    "        max_epocs_from_pipeline,\n",
    "        raw_data_from_pipeline\n",
    "    ):\n",
    "\n",
    "    prep_job = prep_func(\n",
    "        max_epocs=max_epocs_from_pipeline,\n",
    "        raw_data=raw_data_from_pipeline\n",
    "        )\n",
    "    transform_job = transform_func(clean_data=prep_job.outputs.prep_data)\n",
    "    train_job = train_func(training_data=transform_job.outputs.transformed_data)\n",
    "    predict_job = predict_func(model_input=train_job.outputs.model_output, test_data=train_job.outputs.test_data)\n",
    "    score_job = score_func(predictions=predict_job.outputs.predictions, model=train_job.outputs.model_output)\n",
    "    return {\n",
    "        \"pipeline_job_predictions\": predict_job.outputs.predictions,\n",
    "        \"pipeline_job_score_report\": score_job.outputs.score_report\n",
    "        }"
   ]
  },
  {
   "cell_type": "code",
   "execution_count": null,
   "metadata": {},
   "outputs": [],
   "source": [
    "# create pipeline instance\n",
    "pipeline = sample_pipeline(\n",
    "    pipeline_job_inputs['max_epocs_from_pipeline'],\n",
    "    pipeline_job_inputs['raw_data_from_pipeline'])\n",
    "pipeline.outputs.pipeline_job_predictions.data = \"/predictions\"\n",
    "pipeline.outputs.pipeline_job_predictions.mode = \"rw_mount\"\n",
    "pipeline.outputs.pipeline_job_score_report.data = \"/report\"\n",
    "pipeline.outputs.pipeline_job_score_report.mode = \"rw_mount\"  "
   ]
  },
  {
   "cell_type": "code",
   "execution_count": null,
   "metadata": {},
   "outputs": [],
   "source": [
    "#submit the pipeline job\n",
    "returned_job = ml_client.jobs.create_or_update(pipeline)\n",
    "#get a URL for the status of the job\n",
    "returned_job.services[\"Studio\"].endpoint"
   ]
  }
 ],
 "metadata": {
  "interpreter": {
   "hash": "45ee23ad53d8447c1a4a7f9f605254595f8ee53c2e1723e7948bbd485e96ca91"
  },
  "kernelspec": {
   "display_name": "Python 3",
   "language": "python",
   "name": "python3"
  },
  "language_info": {
   "codemirror_mode": {
    "name": "ipython",
    "version": 3
   },
   "file_extension": ".py",
   "mimetype": "text/x-python",
   "name": "python",
   "nbconvert_exporter": "python",
   "pygments_lexer": "ipython3",
   "version": "3.7.8"
  }
 },
 "nbformat": 4,
 "nbformat_minor": 4
}
