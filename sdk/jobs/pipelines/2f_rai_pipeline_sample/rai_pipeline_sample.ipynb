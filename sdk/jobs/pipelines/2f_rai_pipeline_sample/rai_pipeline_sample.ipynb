{
 "cells": [
  {
   "cell_type": "markdown",
   "metadata": {},
   "source": [
    "# Build RAI pipeline\n",
    "\n",
    "**Requirements** - In order to benefit from this tutorial, you will need:\n",
    "- A basic understanding of Machine Learning\n",
    "- An Azure account with an active subscription. [Create an account for free](https://azure.microsoft.com/free/?WT.mc_id=A261C142F)\n",
    "- An Azure ML workspace. [Check this notebook for creating a workspace](/sdk/resources/workspace/workspace.ipynb) \n",
    "- A Compute Cluster. [Check this notebook to create a compute cluster](/sdk/resources/compute/compute.ipynb)\n",
    "- A python environment\n",
    "- Installed Azure Machine Learning Python SDK v2 - [install instructions](/sdk/README.md#getting-started)\n",
    "\n",
    "**Learning Objectives** - By the end of this tutorial, you should be able to:\n",
    "- Connect to your AML workspace from the Python SDK\n",
    "- Create `Pipeline` using component defined by yaml\n",
    "\n",
    "**Motivations** - This notebook demos how to build complex RAI sample pipeline.  "
   ]
  },
  {
   "cell_type": "markdown",
   "metadata": {},
   "source": [
    "# 1. Connect to Azure Machine Learning Workspace\n",
    "\n",
    "The [workspace](https://docs.microsoft.com/en-us/azure/machine-learning/concept-workspace) is the top-level resource for Azure Machine Learning, providing a centralized place to work with all the artifacts you create when you use Azure Machine Learning. In this section we will connect to the workspace in which the job will be run.\n",
    "\n",
    "## 1.1. Import the required libraries"
   ]
  },
  {
   "cell_type": "code",
   "execution_count": null,
   "metadata": {},
   "outputs": [],
   "source": [
    "#import required libraries\n",
    "import time\n",
    "\n",
    "from azure.ml import MLClient, dsl\n",
    "from azure.ml.entities import JobInput, load_component"
   ]
  },
  {
   "cell_type": "markdown",
   "metadata": {},
   "source": [
    "## 1.2. Configure credential\n",
    "\n",
    "We are using `DefaultAzureCredential` to get access to workspace. When an access token is needed, it requests one using multiple identities(`EnvironmentCredential, ManagedIdentityCredential, SharedTokenCacheCredential, VisualStudioCodeCredential, AzureCliCredential, AzurePowerShellCredential`) in turn, stopping when one provides a token.\n",
    "Reference [here](https://docs.microsoft.com/en-us/python/api/azure-identity/azure.identity.defaultazurecredential?view=azure-python) for more information.\n",
    "\n",
    "`DefaultAzureCredential` should be capable of handling most Azure SDK authentication scenarios. \n",
    "Reference [here](https://docs.microsoft.com/en-us/python/api/azure-identity/azure.identity?view=azure-python) for all available credentials if it does not work for you.  "
   ]
  },
  {
   "cell_type": "code",
   "execution_count": null,
   "metadata": {},
   "outputs": [],
   "source": [
    "from azure.identity import DefaultAzureCredential\n",
    "\n",
    "try:\n",
    "    credential = DefaultAzureCredential()\n",
    "    # Check if given credential can get token successfully.\n",
    "    credential.get_token('https://management.azure.com/.default')\n",
    "except Exception as ex:\n",
    "    # If exception happens when retrieve token, try exclude the failed credential like this then try again:\n",
    "    # Exclude VSCode credential:\n",
    "    # credential = DefaultAzureCredential(exclude_visual_studio_code_credential=True)\n",
    "    raise Exception(\"Failed to retrieve a token from the included credentials due to the following exception, try to add `exclude_xxx_credential=True` to `DefaultAzureCredential` and try again.\") from ex"
   ]
  },
  {
   "cell_type": "markdown",
   "metadata": {},
   "source": [
    "## 1.3. Configure workspace details and get a handle to the workspace\n",
    "\n",
    "To connect to a workspace, we need identifier parameters - a subscription, resource group and workspace name. We will use these details in the `MLClient` from `azure.ml` to get a handle to the required Azure Machine Learning workspace. "
   ]
  },
  {
   "cell_type": "code",
   "execution_count": null,
   "metadata": {},
   "outputs": [],
   "source": [
    "try:\n",
    "    ml_client = MLClient.from_config(credential=credential)\n",
    "except Exception as ex:\n",
    "    # NOTE: Update following workspace information if not correctly configure before\n",
    "    client_config = {\n",
    "        \"subscription_id\": \"<SUBSCRIPTION_ID>\",\n",
    "        \"resource_group\": \"<RESOURCE_GROUP>\",\n",
    "        \"workspace_name\": \"<WORKSPACE_NAME>\"\n",
    "    }\n",
    "\n",
    "    if client_config[\"subscription_id\"].startswith('<'):\n",
    "        print(\"please update your <SUBSCRIPTION_ID> <RESOURCE_GROUP> <WORKSPACE_NAME> in notebook cell\")\n",
    "        raise ex\n",
    "    else:  # write and reload from config file\n",
    "        import json, os\n",
    "        config_path = \"../../.azureml/config.json\"\n",
    "        os.makedirs(os.path.dirname(config_path), exist_ok=True)\n",
    "        with open(config_path, \"w\") as fo:\n",
    "            fo.write(json.dumps(client_config))\n",
    "        ml_client = MLClient.from_config(credential=credential, path=config_path)\n",
    "print(ml_client)"
   ]
  },
  {
   "cell_type": "markdown",
   "metadata": {},
   "source": [
    "## 1.4. Retrieve or create an Azure Machine Learning compute target"
   ]
  },
  {
   "cell_type": "code",
   "execution_count": null,
   "metadata": {},
   "outputs": [],
   "source": [
    "# Retrieve an already attached Azure Machine Learning Compute.\n",
    "cluster_name = \"cpu-cluster\"\n",
    "try:\n",
    "    ml_client.compute.get(name=cluster_name)\n",
    "except Exception:\n",
    "    print('Creating a new compute target...')\n",
    "    from azure.ml.entities import AmlCompute\n",
    "    compute = AmlCompute(\n",
    "        name=cluster_name,\n",
    "        size=\"Standard_D2_v2\",\n",
    "        max_instances=2\n",
    "    )\n",
    "    ml_client.compute.begin_create_or_update(compute)"
   ]
  },
  {
   "cell_type": "markdown",
   "metadata": {},
   "source": [
    "# 2. Define command component via YAML\n",
    "Below is example to define command component using YAML."
   ]
  },
  {
   "cell_type": "code",
   "execution_count": null,
   "metadata": {},
   "outputs": [],
   "source": [
    "\n",
    "register_model = load_component(yaml_file=\"./rai_components/component_register_model.yaml\")\n",
    "train_logistic_regression_for_rai = load_component(yaml_file=\"./rai_components/component_train_logreg.yaml\")\n",
    "fetch_registered_model = load_component(yaml_file=\"./rai_components/component_fetch_registered_model.yaml\")\n",
    "rai_insights_constructor = load_component(yaml_file=\"./rai_components/component_rai_insights.yaml\")\n",
    "rai_insights_causal = load_component(yaml_file=\"./rai_components/component_causal.yaml\")"
   ]
  },
  {
   "cell_type": "markdown",
   "metadata": {},
   "source": [
    "# 3. Sample pipeline job\n",
    "\n",
    "## 3.1 Build pipeline"
   ]
  },
  {
   "cell_type": "code",
   "execution_count": null,
   "metadata": {},
   "outputs": [],
   "source": [
    "\n",
    "cluster_name = \"cpu-cluster\"\n",
    "\n",
    "def submit_and_wait(\n",
    "        client: MLClient, pipeline_job, expected_state: str = \"Completed\"\n",
    "):\n",
    "    created_job = client.jobs.create_or_update(pipeline_job)\n",
    "    terminal_states = [\"Completed\", \"Failed\", \"Canceled\", \"NotResponding\"]\n",
    "    assert created_job is not None\n",
    "    assert expected_state in terminal_states\n",
    "\n",
    "    while created_job.status not in terminal_states:\n",
    "        time.sleep(30)\n",
    "        created_job = client.jobs.get(created_job.name)\n",
    "        print(\"Latest status : {0}\".format(created_job.status))\n",
    "    if created_job.status != expected_state:\n",
    "        print(f\"Debug_Hod: {str(created_job)}\")\n",
    "    assert created_job.status == expected_state\n",
    "    return created_job\n",
    "\n",
    "\n",
    "\n",
    "version_string = \"1\"\n",
    "\n",
    "model_name_suffix = int(time.time())\n",
    "model_name = \"common_fetch_model_adult\"\n",
    "adult_train_pq = JobInput(path=f\"adult_train_pq_file:{version_string}\", mode=\"download\")\n",
    "\n",
    "@dsl.pipeline(\n",
    "    compute=cluster_name,\n",
    "    description=\"Register Common Model for Adult\",\n",
    "    experiment_name=\"pipeline_samples\",\n",
    ")\n",
    "def register_common_model_for_adult(target_column_name, training_data):\n",
    "    trained_model = train_logistic_regression_for_rai(\n",
    "        target_column_name=target_column_name, training_data=training_data\n",
    "    )\n",
    "\n",
    "    _ = register_model(\n",
    "        model_input_path=trained_model.outputs.model_output,\n",
    "        model_base_name=model_name,\n",
    "        model_name_suffix=model_name_suffix,\n",
    "    )\n",
    "\n",
    "    return {}\n",
    "\n",
    "training_pipeline = register_common_model_for_adult(\"income\", adult_train_pq)\n",
    "\n",
    "training_pipeline_job = submit_and_wait(ml_client, training_pipeline)\n",
    "assert training_pipeline_job is not None\n",
    "\n",
    "expected_model_id = f\"{model_name}_{model_name_suffix}:1\"\n",
    "\n",
    "# ==============================================================\n",
    "\n",
    "@dsl.pipeline(\n",
    "    compute=cluster_name,\n",
    "    description=\"Causal component with all arguments\",\n",
    "    experiment_name=f\"pipeline_samples\",\n",
    "    default_compute=cluster_name,\n",
    ")\n",
    "def rai_causal_classification(\n",
    "        target_column_name,\n",
    "        train_data,\n",
    "        test_data,\n",
    "):\n",
    "    fetch_model_job = fetch_registered_model(\n",
    "        model_id=expected_model_id\n",
    "    )\n",
    "\n",
    "    construct_job = rai_insights_constructor(\n",
    "        title=\"Run built from DSL\",\n",
    "        task_type=\"classification\",\n",
    "        model_info_path=fetch_model_job.outputs.model_info_output_path,\n",
    "        train_dataset=train_data,\n",
    "        test_dataset=test_data,\n",
    "        target_column_name=target_column_name,\n",
    "        categorical_column_names='[\"Race\", \"Sex\", \"Workclass\", \"Marital Status\", \"Country\", \"Occupation\"]',\n",
    "        maximum_rows_for_test_dataset=5000,  # Should be default\n",
    "        classes=\"[]\",  # Should be default\n",
    "    )\n",
    "\n",
    "    causal_job = rai_insights_causal(\n",
    "        rai_insights_dashboard=construct_job.outputs.rai_insights_dashboard,\n",
    "        treatment_features='[\"Age\", \"Sex\"]',\n",
    "        heterogeneity_features='[\"Marital Status\"]',\n",
    "        nuisance_model=\"automl\",\n",
    "        heterogeneity_model=\"forest\",\n",
    "        alpha=0.06,\n",
    "        upper_bound_on_cat_expansion=51,\n",
    "        treatment_cost=\"[0.1, 0.2]\",\n",
    "        min_tree_leaf_samples=3,\n",
    "        max_tree_depth=3,\n",
    "        skip_cat_limit_checks=True,\n",
    "        categories=\"auto\",\n",
    "        n_jobs=2,\n",
    "        verbose=0,\n",
    "        random_state=10,\n",
    "    )\n",
    "\n",
    "    return {}\n",
    "\n",
    "adult_train_pq = JobInput(path=f\"adult_train_pq_file:{version_string}\", mode=\"download\")\n",
    "adult_test_pq = JobInput(path=f\"adult_test_pq_file:{version_string}\", mode=\"download\")\n",
    "rai_pipeline = rai_causal_classification(\n",
    "    target_column_name=\"income\",\n",
    "    train_data=adult_train_pq,\n",
    "    test_data=adult_test_pq,\n",
    ")\n",
    "\n",
    "rai_pipeline_job = submit_and_wait(ml_client, rai_pipeline)\n",
    "assert rai_pipeline_job is not None"
   ]
  },
  {
   "cell_type": "markdown",
   "metadata": {},
   "source": [
    "# 3.2 Submit pipeline job"
   ]
  },
  {
   "cell_type": "code",
   "execution_count": null,
   "metadata": {},
   "outputs": [],
   "source": [
    "# submit job to workspace\n",
    "# pipeline_job = ml_client.jobs.create_or_update(pipeline, experiment_name=\"pipeline_samples\")\n",
    "# print(f'Job link: {pipeline_job.services[\"Studio\"].endpoint}')\n",
    "# pipeline_job"
   ]
  },
  {
   "cell_type": "code",
   "execution_count": null,
   "metadata": {},
   "outputs": [],
   "source": [
    "# Wait until the job completes\n",
    "# ml_client.jobs.stream(pipeline_job.name)"
   ]
  },
  {
   "cell_type": "markdown",
   "metadata": {},
   "source": [
    "# Next Steps\n",
    "You can see further examples of running a pipeline job [here](/sdk/jobs/pipelines/)"
   ]
  }
 ],
 "metadata": {
  "description": {
   "description": "Create sample RAI pipeline"
  },
  "interpreter": {
   "hash": "3e9e0e270b75c5e6da2e22113ba4f77b864d68f95da6601809c29e46c73ae6bb"
  },
  "kernelspec": {
   "display_name": "Python 3.7.8 64-bit",
   "language": "python",
   "name": "python3"
  },
  "language_info": {
   "codemirror_mode": {
    "name": "ipython",
    "version": 3
   },
   "file_extension": ".py",
   "mimetype": "text/x-python",
   "name": "python",
   "nbconvert_exporter": "python",
   "pygments_lexer": "ipython3",
   "version": "3.7.6"
  },
  "orig_nbformat": 4
 },
 "nbformat": 4,
 "nbformat_minor": 2
}
