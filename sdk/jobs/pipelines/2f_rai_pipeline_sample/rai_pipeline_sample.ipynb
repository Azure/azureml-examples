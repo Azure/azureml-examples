{
 "cells": [
  {
   "cell_type": "markdown",
   "metadata": {},
   "source": [
    "# Build RAI pipeline\n",
    "\n",
    "**Requirements** - In order to benefit from this tutorial, you will need:\n",
    "- A basic understanding of Machine Learning\n",
    "- An Azure account with an active subscription. [Create an account for free](https://azure.microsoft.com/free/?WT.mc_id=A261C142F)\n",
    "- An Azure ML workspace. [Check this notebook for creating a workspace](/sdk/resources/workspace/workspace.ipynb) \n",
    "- A Compute Cluster. [Check this notebook to create a compute cluster](/sdk/resources/compute/compute.ipynb)\n",
    "- A python environment\n",
    "- Installed Azure Machine Learning Python SDK v2 - [install instructions](/sdk/README.md#getting-started)\n",
    "\n",
    "**Learning Objectives** - By the end of this tutorial, you should be able to:\n",
    "- Connect to your AML workspace from the Python SDK\n",
    "- Create `Pipeline` using component defined by yaml\n",
    "\n",
    "**Motivations** - This notebook demos how to build complex RAI sample pipeline.  "
   ]
  },
  {
   "cell_type": "markdown",
   "metadata": {},
   "source": [
    "# 1. Connect to Azure Machine Learning Workspace\n",
    "\n",
    "The [workspace](https://docs.microsoft.com/en-us/azure/machine-learning/concept-workspace) is the top-level resource for Azure Machine Learning, providing a centralized place to work with all the artifacts you create when you use Azure Machine Learning. In this section we will connect to the workspace in which the job will be run.\n",
    "\n",
    "## 1.1. Import the required libraries"
   ]
  },
  {
   "cell_type": "code",
   "execution_count": null,
   "metadata": {},
   "outputs": [],
   "source": [
    "#import required libraries\n",
    "import time\n",
    "\n",
    "from azure.ml import MLClient, dsl\n",
    "from azure.ml.entities import JobInput, load_component"
   ]
  },
  {
   "cell_type": "markdown",
   "metadata": {},
   "source": [
    "## 1.2. Configure credential\n",
    "\n",
    "We are using `DefaultAzureCredential` to get access to workspace. When an access token is needed, it requests one using multiple identities(`EnvironmentCredential, ManagedIdentityCredential, SharedTokenCacheCredential, VisualStudioCodeCredential, AzureCliCredential, AzurePowerShellCredential`) in turn, stopping when one provides a token.\n",
    "Reference [here](https://docs.microsoft.com/en-us/python/api/azure-identity/azure.identity.defaultazurecredential?view=azure-python) for more information.\n",
    "\n",
    "`DefaultAzureCredential` should be capable of handling most Azure SDK authentication scenarios. \n",
    "Reference [here](https://docs.microsoft.com/en-us/python/api/azure-identity/azure.identity?view=azure-python) for all available credentials if it does not work for you.  "
   ]
  },
  {
   "cell_type": "code",
   "execution_count": null,
   "metadata": {},
   "outputs": [],
   "source": [
    "from azure.identity import DefaultAzureCredential\n",
    "\n",
    "try:\n",
    "    credential = DefaultAzureCredential()\n",
    "    # Check if given credential can get token successfully.\n",
    "    credential.get_token('https://management.azure.com/.default')\n",
    "except Exception as ex:\n",
    "    # If exception happens when retrieve token, try exclude the failed credential like this then try again:\n",
    "    # Exclude VSCode credential:\n",
    "    # credential = DefaultAzureCredential(exclude_visual_studio_code_credential=True)\n",
    "    raise Exception(\"Failed to retrieve a token from the included credentials due to the following exception, try to add `exclude_xxx_credential=True` to `DefaultAzureCredential` and try again.\") from ex"
   ]
  },
  {
   "cell_type": "markdown",
   "metadata": {},
   "source": [
    "## 1.3. Configure workspace details and get a handle to the workspace\n",
    "\n",
    "To connect to a workspace, we need identifier parameters - a subscription, resource group and workspace name. We will use these details in the `MLClient` from `azure.ml` to get a handle to the required Azure Machine Learning workspace. "
   ]
  },
  {
   "cell_type": "code",
   "execution_count": null,
   "metadata": {},
   "outputs": [],
   "source": [
    "try:\n",
    "    ml_client = MLClient.from_config(credential=credential)\n",
    "except Exception as ex:\n",
    "    # NOTE: Update following workspace information if not correctly configure before\n",
    "    client_config = {\n",
    "        # \"subscription_id\": \"<SUBSCRIPTION_ID>\",\n",
    "        # \"resource_group\": \"<RESOURCE_GROUP>\",\n",
    "        # \"workspace_name\": \"<WORKSPACE_NAME>\"\n",
    "    }\n",
    "\n",
    "    if client_config[\"subscription_id\"].startswith('<'):\n",
    "        print(\"please update your <SUBSCRIPTION_ID> <RESOURCE_GROUP> <WORKSPACE_NAME> in notebook cell\")\n",
    "        raise ex\n",
    "    else:  # write and reload from config file\n",
    "        import json, os\n",
    "        config_path = \"../../.azureml/config.json\"\n",
    "        os.makedirs(os.path.dirname(config_path), exist_ok=True)\n",
    "        with open(config_path, \"w\") as fo:\n",
    "            fo.write(json.dumps(client_config))\n",
    "        ml_client = MLClient.from_config(credential=credential, path=config_path)\n",
    "print(ml_client)"
   ]
  },
  {
   "cell_type": "markdown",
   "metadata": {},
   "source": [
    "## 1.4. Retrieve or create an Azure Machine Learning compute target"
   ]
  },
  {
   "cell_type": "code",
   "execution_count": null,
   "metadata": {},
   "outputs": [],
   "source": [
    "# Retrieve an already attached Azure Machine Learning Compute.\n",
    "cluster_name = \"cpu-cluster\"\n",
    "try:\n",
    "    ml_client.compute.get(name=cluster_name)\n",
    "except Exception:\n",
    "    print('Creating a new compute target...')\n",
    "    from azure.ml.entities import AmlCompute\n",
    "    compute = AmlCompute(\n",
    "        name=cluster_name,\n",
    "        size=\"Standard_D2_v2\",\n",
    "        max_instances=2\n",
    "    )\n",
    "    ml_client.compute.begin_create_or_update(compute)"
   ]
  },
  {
   "cell_type": "markdown",
   "metadata": {},
   "source": [
    "## 1.5. Retrieve or create RAI environment"
   ]
  },
  {
   "cell_type": "code",
   "execution_count": null,
   "metadata": {},
   "outputs": [],
   "source": [
    "rai_cli_example_path = \"../../../../cli/jobs/pipelines-with-components/rai_pipeline_adult_analyse\"\n",
    "\n",
    "environment_name = \"AML-RAI-Environment\"\n",
    "try:\n",
    "    ml_client.environments.get(name=environment_name,version='1')\n",
    "except Exception:\n",
    "    print(f'Cannot find environment {environment_name} in workspace, creating it')\n",
    "    from azure.ml.entities import Environment\n",
    "    environment = Environment(\n",
    "        image=\"mcr.microsoft.com/azureml/openmpi3.1.2-ubuntu18.04:20220303.v1\",\n",
    "        conda_file=f\"{rai_cli_example_path}/environment/conda_envs/python-aml-rai.yaml\",\n",
    "        name=environment_name,\n",
    "        version='1',\n",
    "        description=\"AML RAI environment\"\n",
    "    )\n",
    "    ml_client.environments.create_or_update(environment)"
   ]
  },
  {
   "cell_type": "markdown",
   "metadata": {},
   "source": [
    "## 1.6 Retrieve or create RAI input data"
   ]
  },
  {
   "cell_type": "code",
   "execution_count": null,
   "metadata": {},
   "outputs": [],
   "source": [
    "input_train_data = \"adult_train_pq\"\n",
    "input_test_data = \"adult_test_pq\"\n",
    "\n",
    "try:\n",
    "    ml_client.data.get(name=input_train_data,version='1')\n",
    "except Exception:\n",
    "    print(f'Cannot find data {input_train_data} in workspace, register it now')\n",
    "    from azure.ml.entities import Data\n",
    "    from azure.ml._constants import AssetTypes\n",
    "\n",
    "    train_data = Data(\n",
    "        path=f\"{rai_cli_example_path}/data/adult_train.parquet\",\n",
    "        type=AssetTypes.URI_FILE,\n",
    "        description=\"RAI sample train data\",\n",
    "        name= input_train_data,\n",
    "        version='1'\n",
    "    )\n",
    "\n",
    "    ml_client.data.create_or_update(train_data)\n",
    "\n",
    "try:\n",
    "    ml_client.data.get(name=input_test_data,version='1')\n",
    "except Exception:\n",
    "    print(f'Cannot find data {input_test_data} in workspace, register it now')\n",
    "    from azure.ml.entities import Data\n",
    "    from azure.ml._constants import AssetTypes\n",
    "\n",
    "    test_data = Data(\n",
    "        path=f\"{rai_cli_example_path}/data/adult_test.parquet\",\n",
    "        type=AssetTypes.URI_FILE,\n",
    "        description=\"RAI sample test data\",\n",
    "        name= input_test_data,\n",
    "        version='1'\n",
    "    )\n",
    "\n",
    "    ml_client.data.create_or_update(test_data)\n"
   ]
  },
  {
   "cell_type": "markdown",
   "metadata": {},
   "source": [
    "# 2. Define command component via YAML\n",
    "Below is example to define command component using YAML."
   ]
  },
  {
   "cell_type": "code",
   "execution_count": null,
   "metadata": {},
   "outputs": [],
   "source": [
    "rai_components_path = f\"{rai_cli_example_path}/components\"\n",
    "\n",
    "train_log_reg_component = load_component(yaml_file=f\"{rai_components_path}/component_train_logreg.yaml\")\n",
    "register_model_component = load_component(yaml_file=f\"{rai_components_path}/component_register_model.yaml\")\n",
    "rai_constructor_component = load_component(yaml_file=f\"{rai_components_path}/component_rai_insights.yaml\")\n",
    "rai_explanation_component = load_component(yaml_file=f\"{rai_components_path}/component_explain.yaml\")\n",
    "rai_causal_component = load_component(yaml_file=f\"{rai_components_path}/component_causal.yaml\")\n",
    "rai_counterfactual_component = load_component(yaml_file=f\"{rai_components_path}/component_counterfactual.yaml\")\n",
    "rai_erroranalysis_component = load_component(yaml_file=f\"{rai_components_path}/component_error_analysis.yaml\")\n",
    "rai_gather_component = load_component(yaml_file=f\"{rai_components_path}/component_gather_rai_insights.yaml\")"
   ]
  },
  {
   "cell_type": "markdown",
   "metadata": {},
   "source": [
    "# 3. Sample pipeline job\n",
    "\n",
    "## 3.1 Build pipeline"
   ]
  },
  {
   "cell_type": "code",
   "execution_count": null,
   "metadata": {},
   "outputs": [],
   "source": [
    "@dsl.pipeline(\n",
    "    compute=\"cpu-cluster\",\n",
    "    description=\"Submission of classification pipeline from Python\",\n",
    "    experiment_name=f\"test_classification_pipeline_from_python\",\n",
    ")\n",
    "def rai_classification_pipeline(\n",
    "    target_column_name,\n",
    "    train_data,\n",
    "    test_data,\n",
    "):\n",
    "    train_job = train_log_reg_component(\n",
    "        target_column_name=target_column_name, \n",
    "        training_data=train_data\n",
    "    )\n",
    "\n",
    "    register_job = register_model_component(\n",
    "        model_input_path=train_job.outputs.model_output,\n",
    "        model_base_name=\"test_classification_pipeline_from_python\",\n",
    "        model_name_suffix=-1,\n",
    "    )\n",
    "\n",
    "    create_rai_job = rai_constructor_component(\n",
    "        title=\"Run built from Python\",\n",
    "        task_type=\"classification\",\n",
    "        model_info_path=register_job.outputs.model_info_output_path,\n",
    "        train_dataset=train_data,\n",
    "        test_dataset=test_data,\n",
    "        target_column_name=target_column_name,\n",
    "        categorical_column_names='[\"Race\", \"Sex\", \"Workclass\", \"Marital Status\", \"Country\", \"Occupation\"]',\n",
    "        maximum_rows_for_test_dataset=5000,\n",
    "        classes=\"[]\",\n",
    "    )\n",
    "\n",
    "    explain_job = rai_explanation_component(\n",
    "        comment=\"Insert text here\",\n",
    "        rai_insights_dashboard=create_rai_job.outputs.rai_insights_dashboard,\n",
    "    )\n",
    "\n",
    "    causal_job = rai_causal_component(\n",
    "        rai_insights_dashboard=create_rai_job.outputs.rai_insights_dashboard,\n",
    "        treatment_features='[\"Age\", \"Sex\"]',\n",
    "        heterogeneity_features='[\"Marital Status\"]',\n",
    "        nuisance_model=\"linear\",\n",
    "        heterogeneity_model=\"linear\",\n",
    "        alpha=0.05,\n",
    "        upper_bound_on_cat_expansion=50,\n",
    "        treatment_cost=\"0\",\n",
    "        min_tree_leaf_samples=2,\n",
    "        max_tree_depth=2,\n",
    "        skip_cat_limit_checks=False,\n",
    "        categories=\"auto\",\n",
    "        n_jobs=1,\n",
    "        verbose=1,\n",
    "        random_state=\"None\",\n",
    "    )\n",
    "\n",
    "    counterfactual_job = rai_counterfactual_component(\n",
    "        rai_insights_dashboard=create_rai_job.outputs.rai_insights_dashboard,\n",
    "        total_cfs=10,\n",
    "        desired_class=\"opposite\",\n",
    "        method=\"random\",\n",
    "        desired_range=\"[]\",\n",
    "        permitted_range=\"{}\",\n",
    "        features_to_vary=\"all\",\n",
    "        feature_importance=True,\n",
    "    )\n",
    "\n",
    "    erroranalysis_job = rai_erroranalysis_component(\n",
    "        rai_insights_dashboard=create_rai_job.outputs.rai_insights_dashboard,\n",
    "        filter_features='[\"Race\", \"Sex\"]',\n",
    "        max_depth=3,\n",
    "        num_leaves=31,\n",
    "        min_child_samples=20,\n",
    "    )\n",
    "\n",
    "    rai_gather_job = rai_gather_component(\n",
    "        constructor=create_rai_job.outputs.rai_insights_dashboard,\n",
    "        insight_1=explain_job.outputs.explanation,\n",
    "        insight_2=causal_job.outputs.causal,\n",
    "        insight_3=counterfactual_job.outputs.counterfactual,\n",
    "        insight_4=erroranalysis_job.outputs.error_analysis,\n",
    "    )\n",
    "\n",
    "    rai_gather_job.outputs.dashboard.mode = \"upload\"\n",
    "    rai_gather_job.outputs.ux_json.mode = \"upload\"\n",
    "\n",
    "    return {\n",
    "        \"dashboard\": rai_gather_job.outputs.dashboard,\n",
    "        \"ux_json\": rai_gather_job.outputs.ux_json,\n",
    "    }\n",
    "\n",
    "from azure.ml._constants import AssetTypes    \n",
    "pipeline_job = rai_classification_pipeline(\n",
    "    target_column_name=\"income\",\n",
    "    train_data= JobInput(path=f\"{input_train_data}:1\", mode=\"download\", type=AssetTypes.URI_FILE),\n",
    "    test_data=JobInput(path=f\"{input_test_data}:1\", mode=\"download\", type=AssetTypes.URI_FILE),\n",
    ")"
   ]
  },
  {
   "cell_type": "markdown",
   "metadata": {},
   "source": [
    "# 3.2 Submit pipeline job"
   ]
  },
  {
   "cell_type": "code",
   "execution_count": null,
   "metadata": {},
   "outputs": [],
   "source": [
    "# submit job to workspace\n",
    "pipeline_job = ml_client.jobs.create_or_update(pipeline_job, experiment_name=\"pipeline_samples\")\n",
    "print(f'Job link: {pipeline_job.services[\"Studio\"].endpoint}')\n",
    "pipeline_job"
   ]
  },
  {
   "cell_type": "code",
   "execution_count": null,
   "metadata": {},
   "outputs": [],
   "source": [
    "# Wait until the job completes\n",
    "ml_client.jobs.stream(pipeline_job.name)"
   ]
  },
  {
   "cell_type": "markdown",
   "metadata": {},
   "source": [
    "# Next Steps\n",
    "You can see further examples of running a pipeline job [here](/sdk/jobs/pipelines/)"
   ]
  }
 ],
 "metadata": {
  "description": {
   "description": "Create sample RAI pipeline"
  },
  "interpreter": {
   "hash": "3e9e0e270b75c5e6da2e22113ba4f77b864d68f95da6601809c29e46c73ae6bb"
  },
  "kernelspec": {
   "display_name": "Python 3.7.8 64-bit",
   "language": "python",
   "name": "python3"
  },
  "language_info": {
   "codemirror_mode": {
    "name": "ipython",
    "version": 3
   },
   "file_extension": ".py",
   "mimetype": "text/x-python",
   "name": "python",
   "nbconvert_exporter": "python",
   "pygments_lexer": "ipython3",
   "version": "3.8.13"
  },
  "orig_nbformat": 4
 },
 "nbformat": 4,
 "nbformat_minor": 2
}
