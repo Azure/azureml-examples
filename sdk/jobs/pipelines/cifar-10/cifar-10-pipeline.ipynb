{
 "cells": [
  {
   "cell_type": "code",
   "execution_count": null,
   "metadata": {},
   "outputs": [],
   "source": [
    "#import required libraries\n",
    "from azure.ml import MLClient\n",
    "from azure.ml.entities import CommandJob, Code, PipelineJob, ResourceConfiguration\n",
    "from azure.identity import InteractiveBrowserCredential"
   ]
  },
  {
   "cell_type": "code",
   "execution_count": null,
   "metadata": {},
   "outputs": [],
   "source": [
    "#Enter details of your AML workspace\n",
    "subscription_id = '<SUBSCRIPTION_ID>'\n",
    "resource_group = '<RESOURCE_GROUP>'\n",
    "workspace = '<AML_WORKSPACE_NAME>'"
   ]
  },
  {
   "cell_type": "code",
   "execution_count": null,
   "metadata": {},
   "outputs": [],
   "source": [
    "#get a handle to the workspace\n",
    "ml_client = MLClient(InteractiveBrowserCredential(), subscription_id, resource_group, workspace)"
   ]
  },
  {
   "cell_type": "code",
   "execution_count": null,
   "metadata": {},
   "outputs": [],
   "source": [
    "#define the job to get data\n",
    "get_data_cmd = 'bash main.sh ${{outputs.cifar}}'\n",
    "get_data_outputs = {\"cifar\":None}\n",
    "get_data_job = CommandJob(\n",
    "    command = get_data_cmd,\n",
    "    outputs = get_data_outputs,\n",
    "    environment = 'AzureML-Minimal:18',\n",
    "    compute = 'cpu-cluster',\n",
    "    code = Code(local_path=\"./get-data\")\n",
    ")"
   ]
  },
  {
   "cell_type": "code",
   "execution_count": null,
   "metadata": {},
   "outputs": [],
   "source": [
    "#define the job to train the model\n",
    "train_model_cmd = 'python main.py --data-dir ${{inputs.cifar}} --epochs ${{inputs.epochs}} --model-dir ${{outputs.model_dir}}'\n",
    "train_model_inputs = {'epochs': 1, 'cifar' : '${{jobs.get-data.outputs.cifar}}'}\n",
    "train_model_outputs = {'model_dir': None}\n",
    "train_model_job = CommandJob(\n",
    "    command = train_model_cmd,\n",
    "    inputs = train_model_inputs,\n",
    "    outputs=train_model_outputs,\n",
    "    code = Code(local_path=\"./train-model\"),\n",
    "    distribution = {\n",
    "        'distribution_type': 'PyTorch',\n",
    "        'process_count_per_instance': 2},\n",
    "    resources=ResourceConfiguration(instance_count=2),\n",
    "    environment = 'AzureML-pytorch-1.9-ubuntu18.04-py37-cuda11-gpu:6',\n",
    "    compute = 'gpu-cluster'\n",
    ")"
   ]
  },
  {
   "cell_type": "code",
   "execution_count": null,
   "metadata": {},
   "outputs": [],
   "source": [
    "#define the job to evaluate the model\n",
    "eval_model_cmd = 'python main.py --data-dir ${{inputs.cifar}} --model-dir ${{inputs.model_dir}}/model'\n",
    "eval_model_inputs = {'cifar': '${{jobs.get-data.outputs.cifar}}', 'model_dir': '${{jobs.train-model.outputs.model_dir}}'}\n",
    "eval_model_job = CommandJob(\n",
    "    command = eval_model_cmd,\n",
    "    inputs = eval_model_inputs,    \n",
    "    code = Code(local_path=\"./eval-model\"),\n",
    "    distribution = {\n",
    "        'distribution_type': 'PyTorch',\n",
    "        'process_count_per_instance': 2},\n",
    "     resources=ResourceConfiguration(instance_count=2),\n",
    "    environment = 'AzureML-pytorch-1.9-ubuntu18.04-py37-cuda11-gpu:6',\n",
    "    compute = 'gpu-cluster'\n",
    ")"
   ]
  },
  {
   "cell_type": "code",
   "execution_count": null,
   "metadata": {},
   "outputs": [],
   "source": [
    "pipeline_job = PipelineJob(\n",
    "    description = 'cifar-10-pipeline-example',\n",
    "    jobs = {'get-data': get_data_job, 'train-model': train_model_job, 'eval-model': eval_model_job}\n",
    ")"
   ]
  },
  {
   "cell_type": "code",
   "execution_count": null,
   "metadata": {},
   "outputs": [],
   "source": [
    "#submit the pipeline job\n",
    "returned_job = ml_client.create_or_update(pipeline_job)\n",
    "#get a URL for the status of the job\n",
    "returned_job.services[\"Studio\"].endpoint"
   ]
  }
 ],
 "metadata": {
  "interpreter": {
   "hash": "45ee23ad53d8447c1a4a7f9f605254595f8ee53c2e1723e7948bbd485e96ca91"
  },
  "kernelspec": {
   "display_name": "Python 3",
   "language": "python",
   "name": "python3"
  },
  "language_info": {
   "codemirror_mode": {
    "name": "ipython",
    "version": 3
   },
   "file_extension": ".py",
   "mimetype": "text/x-python",
   "name": "python",
   "nbconvert_exporter": "python",
   "pygments_lexer": "ipython3",
   "version": "3.8.5"
  }
 },
 "nbformat": 4,
 "nbformat_minor": 4
}
