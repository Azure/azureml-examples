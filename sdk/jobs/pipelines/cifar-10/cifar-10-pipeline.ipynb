{
 "cells": [
  {
   "cell_type": "code",
   "execution_count": null,
   "metadata": {},
   "outputs": [],
   "source": [
    "# import required libraries\n",
    "from azure.ml import MLClient, dsl\n",
    "from azure.ml.entities import CommandJob, Code, PipelineJob, ResourceConfiguration\n",
    "from azure.ml.entities import JobInput, JobOutput, Dataset\n",
    "from azure.identity import InteractiveBrowserCredential"
   ]
  },
  {
   "cell_type": "code",
   "execution_count": null,
   "metadata": {},
   "outputs": [],
   "source": [
    "# enter details of your AML workspace\n",
    "subscription_id = '<SUBSCRIPTION_ID>'\n",
    "resource_group = '<RESOURCE_GROUP>'\n",
    "workspace = '<AML_WORKSPACE_NAME>'"
   ]
  },
  {
   "cell_type": "code",
   "execution_count": null,
   "metadata": {},
   "outputs": [],
   "source": [
    "# get a handle to the workspace\n",
    "ml_client = MLClient(credential=InteractiveBrowserCredential(), subscription_id=subscription_id, resource_group_name=resource_group, workspace_name=workspace)"
   ]
  },
  {
   "cell_type": "markdown",
   "metadata": {},
   "source": [
    "## Create command jobs"
   ]
  },
  {
   "cell_type": "code",
   "execution_count": null,
   "metadata": {},
   "outputs": [],
   "source": [
    "# define the job to get data\n",
    "get_data_cmd = 'bash main.sh ${{outputs.cifar}}'\n",
    "get_data_outputs = {\"cifar\": JobOutput()}\n",
    "get_data_job = CommandJob(\n",
    "    command = get_data_cmd,\n",
    "    outputs = get_data_outputs,\n",
    "    environment = 'AzureML-Minimal:18',\n",
    "    compute = 'cpu-cluster',\n",
    "    code = Code(local_path=\"./get-data\")\n",
    ")"
   ]
  },
  {
   "cell_type": "code",
   "execution_count": null,
   "metadata": {},
   "outputs": [],
   "source": [
    "# define the job to train the model\n",
    "train_model_cmd = 'python main.py --data-dir ${{inputs.cifar}} --epochs ${{inputs.epochs}} --model-dir ${{outputs.model_dir}}'\n",
    "train_model_inputs = {'epochs': 1, 'cifar' : JobInput()}\n",
    "train_model_outputs = {'model_dir': JobOutput()}\n",
    "train_model_job = CommandJob(\n",
    "    command = train_model_cmd,\n",
    "    inputs = train_model_inputs,\n",
    "    outputs=train_model_outputs,\n",
    "    code = Code(local_path=\"./train-model\"),\n",
    "    distribution = {\n",
    "        'distribution_type': 'PyTorch',\n",
    "        'process_count_per_instance': 2},\n",
    "    resources=ResourceConfiguration(instance_count=2),\n",
    "    environment = 'AzureML-pytorch-1.9-ubuntu18.04-py37-cuda11-gpu:6',\n",
    "    compute = 'gpu-cluster'\n",
    ")"
   ]
  },
  {
   "cell_type": "code",
   "execution_count": null,
   "metadata": {},
   "outputs": [],
   "source": [
    "# define the job to evaluate the model\n",
    "eval_model_cmd = 'python main.py --data-dir ${{inputs.cifar}} --model-dir ${{inputs.model_dir}}/model'\n",
    "eval_model_inputs = {'cifar': JobInput(), 'model_dir': JobInput()}\n",
    "eval_model_job = CommandJob(\n",
    "    command = eval_model_cmd,\n",
    "    inputs = eval_model_inputs,    \n",
    "    code = Code(local_path=\"./eval-model\"),\n",
    "    distribution = {\n",
    "        'distribution_type': 'PyTorch',\n",
    "        'process_count_per_instance': 2},\n",
    "     resources=ResourceConfiguration(instance_count=2),\n",
    "    environment = 'AzureML-pytorch-1.9-ubuntu18.04-py37-cuda11-gpu:6',\n",
    "    compute = 'gpu-cluster'\n",
    ")"
   ]
  },
  {
   "cell_type": "markdown",
   "metadata": {},
   "source": [
    "## Build pipeline"
   ]
  },
  {
   "cell_type": "code",
   "execution_count": null,
   "metadata": {},
   "outputs": [],
   "source": [
    "# convert jobs into components\n",
    "get_data_func = dsl.load_component(component=get_data_job)\n",
    "train_model_func = dsl.load_component(component=train_model_job)\n",
    "eval_model_func = dsl.load_component(component=eval_model_job)"
   ]
  },
  {
   "cell_type": "code",
   "execution_count": null,
   "metadata": {},
   "outputs": [],
   "source": [
    "@dsl.pipeline(\n",
    "    name=\"hello_world_pipeline\",\n",
    "    compute=\"cpu-cluster\",\n",
    "    description=\"Basic Pipeline Job with 3 Hello World components\",\n",
    ")\n",
    "def sample_pipeline():\n",
    "    get_data = get_data_func()\n",
    "    train_model = train_model_func(epochs=1, cifar=get_data.outputs.cifar)\n",
    "    eval_model = eval_model_func(cifar=get_data.outputs.cifar, model_dir=train_model.outputs.model_dir)\n",
    "\n",
    "pipeline = sample_pipeline()\n",
    "    "
   ]
  },
  {
   "cell_type": "code",
   "execution_count": null,
   "metadata": {},
   "outputs": [],
   "source": [
    "#submit the pipeline job\n",
    "returned_job = ml_client.jobs.create_or_update(pipeline)\n",
    "#get a URL for the status of the job\n",
    "returned_job.services[\"Studio\"].endpoint"
   ]
  }
 ],
 "metadata": {
  "interpreter": {
   "hash": "45ee23ad53d8447c1a4a7f9f605254595f8ee53c2e1723e7948bbd485e96ca91"
  },
  "kernelspec": {
   "display_name": "Python 3",
   "language": "python",
   "name": "python3"
  },
  "language_info": {
   "codemirror_mode": {
    "name": "ipython",
    "version": 3
   },
   "file_extension": ".py",
   "mimetype": "text/x-python",
   "name": "python",
   "nbconvert_exporter": "python",
   "pygments_lexer": "ipython3",
   "version": "3.7.8"
  }
 },
 "nbformat": 4,
 "nbformat_minor": 4
}
