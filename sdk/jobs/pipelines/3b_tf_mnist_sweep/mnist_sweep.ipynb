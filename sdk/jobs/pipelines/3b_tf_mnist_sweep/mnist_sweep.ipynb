{
 "cells": [
  {
   "cell_type": "markdown",
   "metadata": {},
   "source": [
    "# Build pipeline with sweep node\n",
    "\n",
    "**Requirements** - In order to benefit from this tutorial, you will need:\n",
    "- A basic understanding of Machine Learning\n",
    "- An Azure account with an active subscription. [Create an account for free](https://azure.microsoft.com/free/?WT.mc_id=A261C142F)\n",
    "- An Azure ML workspace. [Check this notebook for creating a workspace](/sdk/resources/workspace/workspace.ipynb) \n",
    "- A Compute Cluster. [Check this notebook to create a compute cluster](/sdk/resources/compute/compute.ipynb)\n",
    "- A python environment\n",
    "- Installed Azure Machine Learning Python SDK v2 - [install instructions](/sdk/README.md#getting-started)\n",
    "\n",
    "**Learning Objectives** - By the end of this tutorial, you should be able to:\n",
    "- Connect to your AML workspace from the Python SDK\n",
    "- Create sweep node with `commandComponent.sweep()`\n",
    "- Create `pipeline` with sweep node\n",
    "\n",
    "**Motivations** - This notebook explains how to create a sweep node by using `commandComponent.sweep()` and use it in a pipeline. A sweep node can be used to enable hyperparameter tuning on a specified compute (either local or on the cloud) for a specific command component. The command compoonent accepts `environment` to setup required infrastructure. You can define a `search_space` and an `objective` to search for the target output.  "
   ]
  },
  {
   "cell_type": "markdown",
   "metadata": {},
   "source": [
    "# 1. Connect to Azure Machine Learning Workspace\n",
    "\n",
    "The [workspace](https://docs.microsoft.com/en-us/azure/machine-learning/concept-workspace) is the top-level resource for Azure Machine Learning, providing a centralized place to work with all the artifacts you create when you use Azure Machine Learning. In this section we will connect to the workspace in which the job will be run.\n",
    "\n",
    "## 1.1. Import the required libraries"
   ]
  },
  {
   "cell_type": "code",
   "execution_count": null,
   "metadata": {},
   "outputs": [],
   "source": [
    "#import required libraries\n",
    "from azure.identity import InteractiveBrowserCredential\n",
    "from azure.ml import MLClient, dsl"
   ]
  },
  {
   "cell_type": "markdown",
   "metadata": {},
   "source": [
    "## 1.2. Configure workspace details and get a handle to the workspace\n",
    "\n",
    "To connect to a workspace, we need identifier parameters - a subscription, resource group and workspace name. We will use these details in the `MLClient` from `azure.ml` to get a handle to the required Azure Machine Learning workspace. We use the default [interactive authentication](https://docs.microsoft.com/en-us/python/api/azure-identity/azure.identity.interactivebrowsercredential?view=azure-python) for this tutorial. More advanced connection methods can be found [here](https://docs.microsoft.com/en-us/python/api/azure-identity/azure.identity?view=azure-python)."
   ]
  },
  {
   "cell_type": "code",
   "execution_count": null,
   "metadata": {},
   "outputs": [],
   "source": [
    "#Enter details of your AML workspace\n",
    "subscription_id = '<SUBSCRIPTION_ID>'\n",
    "resource_group = '<RESOURCE_GROUP>'\n",
    "workspace = '<AML_WORKSPACE_NAME>'"
   ]
  },
  {
   "cell_type": "code",
   "execution_count": null,
   "metadata": {},
   "outputs": [],
   "source": [
    "#get a handle to the workspace\n",
    "ml_client = MLClient(InteractiveBrowserCredential(), subscription_id, resource_group, workspace)"
   ]
  },
  {
   "cell_type": "markdown",
   "metadata": {},
   "source": [
    "# 2. Create command component\n",
    "We defined a command component as trial component in [dsl_component.py](dsl_component.py), which trains a neural network for MNIST image classification with TensorFlow. The component function is train.\n"
   ]
  },
  {
   "cell_type": "code",
   "execution_count": null,
   "metadata": {},
   "outputs": [],
   "source": [
    "%load_ext autoreload\n",
    "%autoreload 2\n",
    "\n",
    "from dsl_component import tf_func\n",
    "help(tf_func)"
   ]
  },
  {
   "cell_type": "markdown",
   "metadata": {},
   "source": [
    "# 3. Pipeline job with sweep node\n",
    "\n",
    "## 3.1 Build pipeline\n",
    "Enable hyperparameter tuning for a normal command component by component.sweep()."
   ]
  },
  {
   "cell_type": "code",
   "execution_count": null,
   "metadata": {},
   "outputs": [],
   "source": [
    "from azure.ml import dsl\n",
    "from pathlib import Path\n",
    "from dsl_component import tf_func\n",
    "from azure.ml.entities import BanditPolicy, Choice\n",
    "\n",
    "\n",
    "def generate_dsl_pipeline_with_sweep_node():\n",
    "    @dsl.pipeline(\n",
    "        description=\"Tune hyperparameters using TF component\",\n",
    "    )\n",
    "    def sample_pipeline():\n",
    "        tf_job = tf_func(\n",
    "            epochs=Choice([1, 2, 3]),\n",
    "            steps_per_epoch=70,\n",
    "            per_worker_batch_size=64\n",
    "        )\n",
    "        tf_job.outputs.trained_model_output.mode = \"upload\"\n",
    "        \n",
    "        sweep_job = tf_job.sweep(\n",
    "            objective_primary_metric=\"accuracy\",\n",
    "            objective_goal=\"maximize\",\n",
    "            sampling_algorithm=\"random\",\n",
    "            compute=\"cpu-cluster\",\n",
    "        )\n",
    "        sweep_job.set_limits(max_total_trials=2, max_concurrent_trials=3, timeout=600)\n",
    "        sweep_job.early_termination = BanditPolicy(evaluation_interval=2, slack_factor=0.1, delay_evaluation=1)\n",
    "\n",
    "    pipeline = sample_pipeline()\n",
    "    return pipeline\n",
    "\n",
    "pipeline = generate_dsl_pipeline_with_sweep_node()"
   ]
  },
  {
   "cell_type": "markdown",
   "metadata": {},
   "source": [
    "## 3.2 Submit pipeline job with sweep node"
   ]
  },
  {
   "cell_type": "code",
   "execution_count": null,
   "metadata": {},
   "outputs": [],
   "source": [
    "# submit job to workspace\n",
    "pipeline_job = ml_client.jobs.create_or_update(pipeline, experiment_name=\"tf_mnist_sweep\")\n",
    "print(f'Job link: {pipeline_job.services[\"Studio\"].endpoint}')"
   ]
  },
  {
   "cell_type": "code",
   "execution_count": null,
   "metadata": {},
   "outputs": [],
   "source": [
    "# Wait until the job completes\n",
    "# ml_client.jobs.stream(returned_job.name)"
   ]
  },
  {
   "cell_type": "markdown",
   "metadata": {},
   "source": [
    "# Next Steps\n",
    "You can see further examples of running a pipeline job [here](/sdk/jobs/pipelines/)"
   ]
  }
 ],
 "metadata": {
  "description": {
   "description": "Create basic pipeline with CommandComponents from local YAML file"
  },
  "interpreter": {
   "hash": "3e9e0e270b75c5e6da2e22113ba4f77b864d68f95da6601809c29e46c73ae6bb"
  },
  "kernelspec": {
   "display_name": "Python 3.7.8 64-bit",
   "language": "python",
   "name": "python3"
  },
  "language_info": {
   "codemirror_mode": {
    "name": "ipython",
    "version": 3
   },
   "file_extension": ".py",
   "mimetype": "text/x-python",
   "name": "python",
   "nbconvert_exporter": "python",
   "pygments_lexer": "ipython3",
   "version": "3.7.6"
  },
  "orig_nbformat": 4
 },
 "nbformat": 4,
 "nbformat_minor": 2
}
