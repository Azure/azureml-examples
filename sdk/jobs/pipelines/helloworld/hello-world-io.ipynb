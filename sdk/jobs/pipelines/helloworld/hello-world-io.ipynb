{
 "cells": [
  {
   "cell_type": "code",
   "execution_count": null,
   "metadata": {},
   "outputs": [],
   "source": [
    "#import required libraries\n",
    "from azure.ml import MLClient, dsl\n",
    "from azure.ml.entities import CommandJob, Code, JobOutput, JobInput\n",
    "from azure.identity import InteractiveBrowserCredential"
   ]
  },
  {
   "cell_type": "code",
   "execution_count": null,
   "metadata": {},
   "outputs": [],
   "source": [
    "#Enter details of your AML workspace\n",
    "subscription_id = '<SUBSCRIPTION_ID>'\n",
    "resource_group = '<RESOURCE_GROUP>'\n",
    "workspace = '<AML_WORKSPACE_NAME>'"
   ]
  },
  {
   "cell_type": "code",
   "execution_count": null,
   "metadata": {},
   "outputs": [],
   "source": [
    "# get a handle to the workspace\n",
    "ml_client = MLClient(credential=InteractiveBrowserCredential(), subscription_id=subscription_id, resource_group_name=resource_group, workspace_name=workspace)"
   ]
  },
  {
   "cell_type": "code",
   "execution_count": null,
   "metadata": {},
   "outputs": [],
   "source": [
    "# Define the command job that will get run inside the pipeline\n",
    "cmd1 = \"echo \"'\"hello\"'\" && echo \"'\"world\"'\" > ${{outputs.world_output}}/world.txt\"\n",
    "\n",
    "job1_outputs = {\"world_output\":JobOutput()}\n",
    "\n",
    "job1 = CommandJob(\n",
    "    command = cmd1,\n",
    "    environment = 'AzureML-Minimal:18',\n",
    "    compute = 'cpu-cluster',\n",
    "    outputs=job1_outputs)"
   ]
  },
  {
   "cell_type": "code",
   "execution_count": null,
   "metadata": {},
   "outputs": [],
   "source": [
    "cmd2 = \"cat ${{inputs.world_input}}/world.txt\"\n",
    "\n",
    "job2_inputs = {'world_input': JobInput()}\n",
    "\n",
    "job2 = CommandJob(\n",
    "    command=cmd2,\n",
    "    environment = 'AzureML-Minimal:18',\n",
    "    compute='cpu-cluster',\n",
    "    inputs=job2_inputs)\n"
   ]
  },
  {
   "cell_type": "code",
   "execution_count": null,
   "metadata": {},
   "outputs": [],
   "source": [
    "# convert jobs into components\n",
    "job1_func = dsl.load_component(component=job1)\n",
    "job2_func = dsl.load_component(component=job2)\n",
    "\n",
    "# construct pipeline with command job\n",
    "@dsl.pipeline(\n",
    "    compute=\"cpu-cluster\",\n",
    "    description='test'\n",
    ")\n",
    "\n",
    "def sample_pipeline():\n",
    "    job1 = job1_func()\n",
    "    job2 = job2_func(world_input=job1.outputs.world_output)    "
   ]
  },
  {
   "cell_type": "code",
   "execution_count": null,
   "metadata": {},
   "outputs": [],
   "source": [
    "#submit the pipeline job\n",
    "pipeline = sample_pipeline()\n",
    "returned_job = ml_client.jobs.create_or_update(pipeline)\n",
    "#get a URL for the status of the job\n",
    "returned_job.services[\"Studio\"].endpoint"
   ]
  }
 ],
 "metadata": {
  "interpreter": {
   "hash": "45ee23ad53d8447c1a4a7f9f605254595f8ee53c2e1723e7948bbd485e96ca91"
  },
  "kernelspec": {
   "display_name": "Python 3",
   "language": "python",
   "name": "python3"
  },
  "language_info": {
   "codemirror_mode": {
    "name": "ipython",
    "version": 3
   },
   "file_extension": ".py",
   "mimetype": "text/x-python",
   "name": "python",
   "nbconvert_exporter": "python",
   "pygments_lexer": "ipython3",
   "version": "3.7.8"
  }
 },
 "nbformat": 4,
 "nbformat_minor": 4
}
