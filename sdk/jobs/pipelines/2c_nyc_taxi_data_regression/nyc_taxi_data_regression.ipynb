{
 "cells": [
  {
   "cell_type": "markdown",
   "metadata": {},
   "source": [
    "# NYC taxi data regression\n",
    "\n",
    "**Requirements** - In order to benefit from this tutorial, you will need:\n",
    "- A basic understanding of Machine Learning\n",
    "- An Azure account with an active subscription - [Create an account for free](https://azure.microsoft.com/free/?WT.mc_id=A261C142F)\n",
    "- An Azure ML workspace with computer cluster - [Configure workspace](../../configuration.ipynb)\n",
    "- A python environment\n",
    "- Installed Azure Machine Learning Python SDK v2 - [install instructions](../../../README.md) - check the getting started section\n",
    "\n",
    "**Learning Objectives** - By the end of this tutorial, you should be able to:\n",
    "- Connect to your AML workspace from the Python SDK\n",
    "- Define different `CommandComponent` using YAML\n",
    "- Create `Pipeline` load these components from YAML\n",
    "\n",
    "**Motivations** - This notebook explains how to load component via SDK then use these components to build pipeline. We use NYC dataset, build pipeline with five steps, prep data, transform data, train model, predict results and evaluate model performance."
   ]
  },
  {
   "cell_type": "markdown",
   "metadata": {},
   "source": [
    "# 1. Connect to Azure Machine Learning Workspace\n",
    "\n",
    "The [workspace](https://docs.microsoft.com/en-us/azure/machine-learning/concept-workspace) is the top-level resource for Azure Machine Learning, providing a centralized place to work with all the artifacts you create when you use Azure Machine Learning. In this section we will connect to the workspace in which the job will be run.\n",
    "\n",
    "## 1.1 Import the required libraries"
   ]
  },
  {
   "cell_type": "code",
   "execution_count": null,
   "metadata": {},
   "outputs": [],
   "source": [
    "# import required libraries\n",
    "from azure.identity import DefaultAzureCredential, InteractiveBrowserCredential\n",
    "\n",
    "from azure.ai.ml import MLClient, Input\n",
    "from azure.ai.ml.dsl import pipeline\n",
    "from azure.ai.ml import load_component"
   ]
  },
  {
   "cell_type": "markdown",
   "metadata": {},
   "source": [
    "## 1.2 Configure credential\n",
    "\n",
    "We are using `DefaultAzureCredential` to get access to workspace. \n",
    "`DefaultAzureCredential` should be capable of handling most Azure SDK authentication scenarios. \n",
    "\n",
    "Reference for more available credentials if it does not work for you: [configure credential example](../../configuration.ipynb), [azure-identity reference doc](https://docs.microsoft.com/en-us/python/api/azure-identity/azure.identity?view=azure-python)."
   ]
  },
  {
   "cell_type": "code",
   "execution_count": null,
   "metadata": {},
   "outputs": [],
   "source": [
    "try:\n",
    "    credential = DefaultAzureCredential()\n",
    "    # Check if given credential can get token successfully.\n",
    "    credential.get_token(\"https://management.azure.com/.default\")\n",
    "except Exception as ex:\n",
    "    # Fall back to InteractiveBrowserCredential in case DefaultAzureCredential not work\n",
    "    credential = InteractiveBrowserCredential()"
   ]
  },
  {
   "cell_type": "markdown",
   "metadata": {},
   "source": [
    "## 1.3 Get a handle to the workspace\n",
    "\n",
    "We use config file to connect to a workspace. The Azure ML workspace should be configured with computer cluster. [Check this notebook for configure a workspace](../../configuration.ipynb)"
   ]
  },
  {
   "cell_type": "code",
   "execution_count": null,
   "metadata": {},
   "outputs": [],
   "source": [
    "# Get a handle to workspace\n",
    "ml_client = MLClient.from_config(credential=credential)\n",
    "\n",
    "# Retrieve an already attached Azure Machine Learning Compute.\n",
    "cluster_name = \"cpu-cluster\"\n",
    "print(ml_client.compute.get(cluster_name))"
   ]
  },
  {
   "cell_type": "markdown",
   "metadata": {},
   "source": [
    "# 2. Build pipeline"
   ]
  },
  {
   "cell_type": "code",
   "execution_count": null,
   "metadata": {},
   "outputs": [],
   "source": [
    "parent_dir = \"\"\n",
    "\n",
    "# 1. Load components\n",
    "prepare_data = load_component(path=parent_dir + \"./prep.yml\")\n",
    "transform_data = load_component(path=parent_dir + \"./transform.yml\")\n",
    "train_model = load_component(path=parent_dir + \"./train.yml\")\n",
    "predict_result = load_component(path=parent_dir + \"./predict.yml\")\n",
    "score_data = load_component(path=parent_dir + \"./score.yml\")\n",
    "\n",
    "# 2. Construct pipeline\n",
    "@pipeline()\n",
    "def nyc_taxi_data_regression(pipeline_job_input):\n",
    "    \"\"\"NYC taxi data regression example.\"\"\"\n",
    "    prepare_sample_data = prepare_data(raw_data=pipeline_job_input)\n",
    "    transform_sample_data = transform_data(\n",
    "        clean_data=prepare_sample_data.outputs.prep_data\n",
    "    )\n",
    "    train_with_sample_data = train_model(\n",
    "        training_data=transform_sample_data.outputs.transformed_data\n",
    "    )\n",
    "    predict_with_sample_data = predict_result(\n",
    "        model_input=train_with_sample_data.outputs.model_output,\n",
    "        test_data=train_with_sample_data.outputs.test_data,\n",
    "    )\n",
    "    score_with_sample_data = score_data(\n",
    "        predictions=predict_with_sample_data.outputs.predictions,\n",
    "        model=train_with_sample_data.outputs.model_output,\n",
    "    )\n",
    "    return {\n",
    "        \"pipeline_job_prepped_data\": prepare_sample_data.outputs.prep_data,\n",
    "        \"pipeline_job_transformed_data\": transform_sample_data.outputs.transformed_data,\n",
    "        \"pipeline_job_trained_model\": train_with_sample_data.outputs.model_output,\n",
    "        \"pipeline_job_test_data\": train_with_sample_data.outputs.test_data,\n",
    "        \"pipeline_job_predictions\": predict_with_sample_data.outputs.predictions,\n",
    "        \"pipeline_job_score_report\": score_with_sample_data.outputs.score_report,\n",
    "    }\n",
    "\n",
    "\n",
    "pipeline_job = nyc_taxi_data_regression(\n",
    "    Input(type=\"uri_folder\", path=parent_dir + \"./data/\")\n",
    ")\n",
    "# demo how to change pipeline output settings\n",
    "pipeline_job.outputs.pipeline_job_prepped_data.mode = \"rw_mount\"\n",
    "\n",
    "# set pipeline level compute\n",
    "pipeline_job.settings.default_compute=\"cpu-cluster\"\n",
    "# set pipeline level datastore\n",
    "pipeline_job.settings.default_datastore=\"workspaceblobstore\"\n"
   ]
  },
  {
   "cell_type": "markdown",
   "metadata": {},
   "source": [
    "## 3. Submit pipeline job"
   ]
  },
  {
   "cell_type": "code",
   "execution_count": null,
   "metadata": {},
   "outputs": [],
   "source": [
    "# submit job to workspace\n",
    "pipeline_job = ml_client.jobs.create_or_update(\n",
    "    pipeline_job, experiment_name=\"pipeline_samples\"\n",
    ")\n",
    "pipeline_job"
   ]
  },
  {
   "cell_type": "code",
   "execution_count": null,
   "metadata": {},
   "outputs": [],
   "source": [
    "# Wait until the job completes\n",
    "ml_client.jobs.stream(pipeline_job.name)"
   ]
  },
  {
   "cell_type": "markdown",
   "metadata": {},
   "source": [
    "# Next Steps\n",
    "You can see further examples of running a pipeline job [here](../)"
   ]
  }
 ],
 "metadata": {
  "description": {
   "description": "Build pipeline with components for 5 jobs - prep data, transform data, train model, predict results and evaluate model performance"
  },
  "interpreter": {
   "hash": "3e9e0e270b75c5e6da2e22113ba4f77b864d68f95da6601809c29e46c73ae6bb"
  },
  "kernelspec": {
   "display_name": "Python 3.8 - AzureML",
   "language": "python",
   "name": "python38-azureml"
  },
  "language_info": {
   "codemirror_mode": {
    "name": "ipython",
    "version": 3
   },
   "file_extension": ".py",
   "mimetype": "text/x-python",
   "name": "python",
   "nbconvert_exporter": "python",
   "pygments_lexer": "ipython3",
   "version": "3.7.6"
  }
 },
 "nbformat": 4,
 "nbformat_minor": 2
}