{
 "cells": [
  {
   "cell_type": "markdown",
   "metadata": {},
   "source": [
    "# NYC taxi data regression\n",
    "\n",
    "**Requirements** - In order to benefit from this tutorial, you will need:\n",
    "- A basic understanding of Machine Learning\n",
    "- An Azure account with an active subscription. [Create an account for free](https://azure.microsoft.com/free/?WT.mc_id=A261C142F)\n",
    "- An Azure ML workspace. [Check this notebook for creating a workspace](/sdk/resources/workspace/workspace.ipynb) \n",
    "- A Compute Cluster. [Check this notebook to create a compute cluster](/sdk/resources/compute/compute.ipynb)\n",
    "- A python environment\n",
    "- Installed Azure Machine Learning Python SDK v2 - [install instructions](/sdk/README.md#getting-started)\n",
    "\n",
    "**Learning Objectives** - By the end of this tutorial, you should be able to:\n",
    "- Connect to your AML workspace from the Python SDK\n",
    "- Define different `CommandComponent` using YAML\n",
    "- Create `Pipeline` load these components from YAML\n",
    "\n",
    "**Motivations** - This notebook explains how to load component via SDK then use these components to build pipeline. We use NYC dataset, build pipeline with five steps, prep data, transform data, train model, predict results and evaluate model performance."
   ]
  },
  {
   "cell_type": "markdown",
   "metadata": {},
   "source": [
    "# 1. Connect to Azure Machine Learning Workspace\n",
    "\n",
    "The [workspace](https://docs.microsoft.com/en-us/azure/machine-learning/concept-workspace) is the top-level resource for Azure Machine Learning, providing a centralized place to work with all the artifacts you create when you use Azure Machine Learning. In this section we will connect to the workspace in which the job will be run.\n",
    "\n",
    "## 1.1. Import the required libraries"
   ]
  },
  {
   "cell_type": "code",
   "execution_count": 2,
   "metadata": {},
   "outputs": [],
   "source": [
    "#import required libraries\n",
    "from azure.ml import MLClient, dsl\n",
    "from azure.ml.entities import JobInput, JobOutput, load_component\n",
    "from azure.ml._constants import AssetTypes\n",
    "import piprunpkg"
   ]
  },
  {
   "cell_type": "markdown",
   "metadata": {},
   "source": [
    "## 1.2. Configure credential\n",
    "\n",
    "We are using `DefaultAzureCredential` to get access to workspace. When an access token is needed, it requests one using multiple identities(`EnvironmentCredential, ManagedIdentityCredential, SharedTokenCacheCredential, VisualStudioCodeCredential, AzureCliCredential, AzurePowerShellCredential`) in turn, stopping when one provides a token.\n",
    "Reference [here](https://docs.microsoft.com/en-us/python/api/azure-identity/azure.identity.defaultazurecredential?view=azure-python) for more information.\n",
    "\n",
    "`DefaultAzureCredential` should be capable of handling most Azure SDK authentication scenarios. \n",
    "Reference [here](https://docs.microsoft.com/en-us/python/api/azure-identity/azure.identity?view=azure-python) for all available credentials if it does not work for you.  "
   ]
  },
  {
   "cell_type": "code",
   "execution_count": 2,
   "metadata": {},
   "outputs": [
    {
     "name": "stderr",
     "output_type": "stream",
     "text": [
      "EnvironmentCredential.get_token failed: EnvironmentCredential authentication unavailable. Environment variables are not fully configured.\n",
      "ManagedIdentityCredential.get_token failed: ManagedIdentityCredential authentication unavailable, no managed identity endpoint found.\n",
      "SharedTokenCacheCredential.get_token failed: SharedTokenCacheCredential authentication unavailable. No accounts were found in the cache.\n",
      "VisualStudioCodeCredential.get_token failed: Failed to get Azure user details from Visual Studio Code.\n"
     ]
    }
   ],
   "source": [
    "from azure.identity import DefaultAzureCredential\n",
    "\n",
    "try:\n",
    "    credential = DefaultAzureCredential()\n",
    "    # Check if given credential can get token successfully.\n",
    "    credential.get_token('https://management.azure.com/.default')\n",
    "except Exception as ex:\n",
    "    # If exception happens when retrieve token, try exclude the failed credential like this then try again:\n",
    "    # Exclude VSCode credential:\n",
    "    # credential = DefaultAzureCredential(exclude_visual_studio_code_credential=True)\n",
    "    raise Exception(\"Failed to retrieve a token from the included credentials due to the following exception, try to add `exclude_xxx_credential=True` to `DefaultAzureCredential` and try again.\") from ex"
   ]
  },
  {
   "cell_type": "markdown",
   "metadata": {},
   "source": [
    "## 1.3. Configure workspace details and get a handle to the workspace\n",
    "\n",
    "To connect to a workspace, we need identifier parameters - a subscription, resource group and workspace name. We will use these details in the `MLClient` from `azure.ml` to get a handle to the required Azure Machine Learning workspace. "
   ]
  },
  {
   "cell_type": "code",
   "execution_count": 3,
   "metadata": {},
   "outputs": [
    {
     "name": "stderr",
     "output_type": "stream",
     "text": [
      "Found the config file in: D:\\practice\\azureml-examples\\sdk\\jobs\\.azureml\\config.json\n"
     ]
    },
    {
     "name": "stdout",
     "output_type": "stream",
     "text": [
      "MLClient(credential=<azure.identity._credentials.default.DefaultAzureCredential object at 0x0000020A27CFB3D0>,\n",
      "         subscription_id=d511f82f-71ba-49a4-8233-d7be8a3650f4,\n",
      "         resource_group_name=mire2etesting,\n",
      "         workspace_name=gewa_ws)\n"
     ]
    }
   ],
   "source": [
    "try:\n",
    "    ml_client = MLClient.from_config(credential=credential)\n",
    "except Exception as ex:\n",
    "    # NOTE: Update following workspace information if not correctly configure before\n",
    "    client_config = {\n",
    "        \"subscription_id\": \"<SUBSCRIPTION_ID>\",\n",
    "        \"resource_group\": \"<RESOURCE_GROUP>\",\n",
    "        \"workspace_name\": \"<WORKSPACE_NAME>\"\n",
    "    }\n",
    "\n",
    "    if client_config[\"subscription_id\"].startswith('<'):\n",
    "        print(\"please update your <SUBSCRIPTION_ID> <RESOURCE_GROUP> <WORKSPACE_NAME> in notebook cell\")\n",
    "        raise ex\n",
    "    else:  # write and reload from config file\n",
    "        import json, os\n",
    "        config_path = \"../../.azureml/config.json\"\n",
    "        os.makedirs(os.path.dirname(config_path), exist_ok=True)\n",
    "        with open(config_path, \"w\") as fo:\n",
    "            fo.write(json.dumps(client_config))\n",
    "        ml_client = MLClient.from_config(credential=credential, path=config_path)\n",
    "print(ml_client)"
   ]
  },
  {
   "cell_type": "markdown",
   "metadata": {},
   "source": [
    "## 1.4. Retrieve or create an Azure Machine Learning compute target"
   ]
  },
  {
   "cell_type": "code",
   "execution_count": 4,
   "metadata": {},
   "outputs": [],
   "source": [
    "# Retrieve an already attached Azure Machine Learning Compute.\n",
    "cluster_name = \"cpu-cluster\"\n",
    "try:\n",
    "    ml_client.compute.get(name=cluster_name)\n",
    "except Exception:\n",
    "    print('Creating a new compute target...')\n",
    "    from azure.ml.entities import AmlCompute\n",
    "    compute = AmlCompute(\n",
    "        name=cluster_name,\n",
    "        size=\"Standard_D2_v2\",\n",
    "        max_instances=2\n",
    "    )\n",
    "    ml_client.compute.begin_create_or_update(compute)"
   ]
  },
  {
   "cell_type": "markdown",
   "metadata": {},
   "source": [
    "# 2. Build pipeline"
   ]
  },
  {
   "cell_type": "code",
   "execution_count": 3,
   "metadata": {},
   "outputs": [
    {
     "name": "stdout",
     "output_type": "stream",
     "text": [
      "name: heroic_hat_33l3c4s8bd\n",
      "display_name: nyc_taxi_data_regression\n",
      "type: pipeline\n",
      "inputs:\n",
      "  pipeline_job_input:\n",
      "    mode: ro_mount\n",
      "    type: uri_folder\n",
      "    path: azureml:./data/\n",
      "outputs:\n",
      "  pipeline_job_prepped_data:\n",
      "    mode: rw_mount\n",
      "    type: uri_folder\n",
      "    path: /prepped_data\n",
      "  pipeline_job_transformed_data:\n",
      "    mode: rw_mount\n",
      "    type: uri_folder\n",
      "    path: /transformed_data\n",
      "  pipeline_job_trained_model:\n",
      "    mode: rw_mount\n",
      "    type: uri_folder\n",
      "    path: /trained-model\n",
      "  pipeline_job_test_data:\n",
      "    mode: rw_mount\n",
      "    type: uri_folder\n",
      "    path: /test_data\n",
      "  pipeline_job_predictions:\n",
      "    mode: rw_mount\n",
      "    type: uri_folder\n",
      "    path: /predictions\n",
      "  pipeline_job_score_report:\n",
      "    mode: rw_mount\n",
      "    type: uri_folder\n",
      "    path: /report\n",
      "tags: {}\n",
      "properties: {}\n",
      "experiment_name: 2c_nyc_taxi_data_regression\n",
      "compute: azureml:cpu-cluster\n",
      "jobs:\n",
      "  prepare_sample_data:\n",
      "    $schema: '{}'\n",
      "    type: command\n",
      "    inputs:\n",
      "      raw_data: ${{parent.inputs.pipeline_job_input}}\n",
      "    outputs:\n",
      "      prep_data: ${{parent.outputs.pipeline_job_prepped_data}}\n",
      "    command: python prep.py  --raw_data ${{inputs.raw_data}}  --prep_data ${{outputs.prep_data}}\n",
      "    code: ./prep_src\n",
      "    component:\n",
      "      $schema: https://azuremlschemas.azureedge.net/latest/commandComponent.schema.json\n",
      "      name: prepare_taxi_data\n",
      "      version: '1'\n",
      "      display_name: PrepTaxiData\n",
      "      type: command\n",
      "      inputs:\n",
      "        raw_data:\n",
      "          type: uri_folder\n",
      "      outputs:\n",
      "        prep_data:\n",
      "          type: uri_folder\n",
      "      command: python prep.py  --raw_data ${{inputs.raw_data}}  --prep_data ${{outputs.prep_data}}\n",
      "      environment: azureml:AzureML-sklearn-0.24-ubuntu18.04-py37-cpu@latest\n",
      "      code: azureml:./prep_src\n",
      "      tags: {}\n",
      "      is_deterministic: true\n",
      "    environment_variables: {}\n",
      "  transform_sample_data:\n",
      "    $schema: '{}'\n",
      "    type: command\n",
      "    inputs:\n",
      "      clean_data: ${{parent.jobs.prepare_sample_data.outputs.prep_data}}\n",
      "    outputs:\n",
      "      transformed_data: ${{parent.outputs.pipeline_job_transformed_data}}\n",
      "    command: python transform.py  --clean_data ${{inputs.clean_data}}  --transformed_data\n",
      "      ${{outputs.transformed_data}}\n",
      "    code: ./transform_src\n",
      "    component:\n",
      "      $schema: https://azuremlschemas.azureedge.net/latest/commandComponent.schema.json\n",
      "      name: taxi_feature_engineering\n",
      "      version: '1'\n",
      "      display_name: TaxiFeatureEngineering\n",
      "      type: command\n",
      "      inputs:\n",
      "        clean_data:\n",
      "          type: uri_folder\n",
      "      outputs:\n",
      "        transformed_data:\n",
      "          type: uri_folder\n",
      "      command: python transform.py  --clean_data ${{inputs.clean_data}}  --transformed_data\n",
      "        ${{outputs.transformed_data}}\n",
      "      environment: azureml:AzureML-sklearn-0.24-ubuntu18.04-py37-cpu@latest\n",
      "      code: azureml:./transform_src\n",
      "      tags: {}\n",
      "      is_deterministic: true\n",
      "    environment_variables: {}\n",
      "  train_with_sample_data:\n",
      "    $schema: '{}'\n",
      "    type: command\n",
      "    inputs:\n",
      "      training_data: ${{parent.jobs.transform_sample_data.outputs.transformed_data}}\n",
      "    outputs:\n",
      "      model_output: ${{parent.outputs.pipeline_job_trained_model}}\n",
      "      test_data: ${{parent.outputs.pipeline_job_test_data}}\n",
      "    command: python train.py  --training_data ${{inputs.training_data}}  --test_data\n",
      "      ${{outputs.test_data}}  --model_output ${{outputs.model_output}}\n",
      "    code: ./train_src\n",
      "    component:\n",
      "      $schema: https://azuremlschemas.azureedge.net/latest/commandComponent.schema.json\n",
      "      name: train_linear_regression_model\n",
      "      version: '1'\n",
      "      display_name: TrainLinearRegressionModel\n",
      "      type: command\n",
      "      inputs:\n",
      "        training_data:\n",
      "          type: uri_folder\n",
      "      outputs:\n",
      "        model_output:\n",
      "          type: mlflow_model\n",
      "        test_data:\n",
      "          type: uri_folder\n",
      "      command: python train.py  --training_data ${{inputs.training_data}}  --test_data\n",
      "        ${{outputs.test_data}}  --model_output ${{outputs.model_output}}\n",
      "      environment: azureml:AzureML-sklearn-0.24-ubuntu18.04-py37-cpu@latest\n",
      "      code: azureml:./train_src\n",
      "      tags: {}\n",
      "      is_deterministic: true\n",
      "    environment_variables: {}\n",
      "  predict_with_sample_data:\n",
      "    $schema: '{}'\n",
      "    type: command\n",
      "    inputs:\n",
      "      model_input: ${{parent.jobs.train_with_sample_data.outputs.model_output}}\n",
      "      test_data: ${{parent.jobs.train_with_sample_data.outputs.test_data}}\n",
      "    outputs:\n",
      "      predictions: ${{parent.outputs.pipeline_job_predictions}}\n",
      "    command: python predict.py  --model_input ${{inputs.model_input}}  --test_data\n",
      "      ${{inputs.test_data}} --predictions ${{outputs.predictions}}\n",
      "    code: ./predict_src\n",
      "    component:\n",
      "      $schema: https://azuremlschemas.azureedge.net/latest/commandComponent.schema.json\n",
      "      name: predict_taxi_fares\n",
      "      version: '1'\n",
      "      display_name: PredictTaxiFares\n",
      "      type: command\n",
      "      inputs:\n",
      "        model_input:\n",
      "          type: mlflow_model\n",
      "        test_data:\n",
      "          type: uri_folder\n",
      "      outputs:\n",
      "        predictions:\n",
      "          type: uri_folder\n",
      "      command: python predict.py  --model_input ${{inputs.model_input}}  --test_data\n",
      "        ${{inputs.test_data}} --predictions ${{outputs.predictions}}\n",
      "      environment: azureml:AzureML-sklearn-0.24-ubuntu18.04-py37-cpu@latest\n",
      "      code: azureml:./predict_src\n",
      "      tags: {}\n",
      "      is_deterministic: true\n",
      "    environment_variables: {}\n",
      "  score_with_sample_data:\n",
      "    $schema: '{}'\n",
      "    type: command\n",
      "    inputs:\n",
      "      predictions: ${{parent.jobs.predict_with_sample_data.outputs.predictions}}\n",
      "      model: ${{parent.jobs.train_with_sample_data.outputs.model_output}}\n",
      "    outputs:\n",
      "      score_report: ${{parent.outputs.pipeline_job_score_report}}\n",
      "    command: python score.py  --predictions ${{inputs.predictions}}  --model ${{inputs.model}}  --score_report\n",
      "      ${{outputs.score_report}}\n",
      "    code: ./score_src\n",
      "    component:\n",
      "      $schema: https://azuremlschemas.azureedge.net/latest/commandComponent.schema.json\n",
      "      name: score_model\n",
      "      version: '1'\n",
      "      display_name: ScoreModel\n",
      "      type: command\n",
      "      inputs:\n",
      "        predictions:\n",
      "          type: uri_folder\n",
      "        model:\n",
      "          type: mlflow_model\n",
      "      outputs:\n",
      "        score_report:\n",
      "          type: uri_folder\n",
      "      command: python score.py  --predictions ${{inputs.predictions}}  --model ${{inputs.model}}  --score_report\n",
      "        ${{outputs.score_report}}\n",
      "      environment: azureml:AzureML-sklearn-0.24-ubuntu18.04-py37-cpu@latest\n",
      "      code: azureml:./score_src\n",
      "      tags: {}\n",
      "      is_deterministic: true\n",
      "    environment_variables: {}\n",
      "settings:\n",
      "  default_datastore: workspaceblobstore\n",
      "\n"
     ]
    }
   ],
   "source": [
    "parent_dir = ''\n",
    "\n",
    "# 1. Load components\n",
    "prepare_data = load_component(\n",
    "    yaml_file=parent_dir + \"./prep.yml\"\n",
    ")\n",
    "transform_data = load_component(\n",
    "    yaml_file=parent_dir + \"./transform.yml\"\n",
    ")\n",
    "train_model = load_component(\n",
    "    yaml_file=parent_dir + \"./train.yml\"\n",
    ")\n",
    "predict_result = load_component(\n",
    "    yaml_file=parent_dir + \"./predict.yml\"\n",
    ")\n",
    "score_data = load_component(\n",
    "    yaml_file=parent_dir + \"./score.yml\"\n",
    ")\n",
    "\n",
    "# 2. Construct pipeline\n",
    "@dsl.pipeline(default_compute=\"cpu-cluster\", default_datastore=\"workspaceblobstore\")\n",
    "def nyc_taxi_data_regression(pipeline_job_input):\n",
    "    prepare_sample_data = prepare_data(raw_data=pipeline_job_input)\n",
    "    transform_sample_data = transform_data(clean_data=prepare_sample_data.outputs.prep_data)\n",
    "    train_with_sample_data = train_model(training_data=transform_sample_data.outputs.transformed_data)\n",
    "    predict_with_sample_data = predict_result(\n",
    "        model_input=train_with_sample_data.outputs.model_output, test_data=train_with_sample_data.outputs.test_data\n",
    "    )\n",
    "    score_with_sample_data = score_data(predictions=predict_with_sample_data.outputs.predictions, model=train_with_sample_data.outputs.model_output)\n",
    "    return {\n",
    "        \"pipeline_job_prepped_data\": prepare_sample_data.outputs.prep_data,\n",
    "        \"pipeline_job_transformed_data\": transform_sample_data.outputs.transformed_data,\n",
    "        \"pipeline_job_trained_model\": train_with_sample_data.outputs.model_output,\n",
    "        \"pipeline_job_test_data\": train_with_sample_data.outputs.test_data,\n",
    "        \"pipeline_job_predictions\": predict_with_sample_data.outputs.predictions,\n",
    "        \"pipeline_job_score_report\": score_with_sample_data.outputs.score_report,\n",
    "    }\n",
    "\n",
    "pipeline = nyc_taxi_data_regression(\n",
    "    JobInput(type=AssetTypes.URI_FOLDER, path=parent_dir + \"./data/\")\n",
    ")\n",
    "pipeline.outputs.pipeline_job_prepped_data = JobOutput(path=\"/prepped_data\", mode=\"rw_mount\")\n",
    "pipeline.outputs.pipeline_job_transformed_data = JobOutput(path=\"/transformed_data\", mode=\"rw_mount\")\n",
    "pipeline.outputs.pipeline_job_trained_model = JobOutput(path=\"/trained-model\", mode=\"rw_mount\")\n",
    "pipeline.outputs.pipeline_job_test_data = JobOutput(path=\"/test_data\", mode=\"rw_mount\")\n",
    "pipeline.outputs.pipeline_job_predictions = JobOutput(path=\"/predictions\", mode=\"rw_mount\")\n",
    "pipeline.outputs.pipeline_job_score_report = JobOutput(path=\"/report\", mode=\"rw_mount\")\n",
    "\n",
    "print(pipeline)"
   ]
  },
  {
   "cell_type": "code",
   "execution_count": 4,
   "metadata": {},
   "outputs": [
    {
     "name": "stdout",
     "output_type": "stream",
     "text": [
      "INFO:executor:############################################prepare_sample_data##############################################\n",
      "INFO:executor:\n",
      "INFO:executor:job prepare_sample_data finished with result: False\n",
      "INFO:executor:Run job prepare_sample_data with failure return code: 1\n",
      "INFO:executor:Traceback (most recent call last):\n",
      "INFO:executor:  File \"d:\\practice\\azureml-examples\\sdk\\jobs\\pipelines\\2c_nyc_taxi_data_regression\\prep_src\\prep.py\", line 8, in <module>\n",
      "INFO:executor:    from sklearn.linear_model import LinearRegression\n",
      "INFO:executor:ModuleNotFoundError: No module named 'sklearn'\n",
      "INFO:executor:\n",
      "INFO:executor:pipeline heroic_hat_33l3c4s8bd stopped due to failed job prepare_sample_data!\n"
     ]
    }
   ],
   "source": [
    "from piprunpkg import run_pipeline, CuratedEnvironmentDefaultRunMode\n",
    "import logging\n",
    "import sys\n",
    "logging.basicConfig(stream=sys.stdout, level=logging.INFO)\n",
    "output_root_dir = \"./local-run-output\"\n",
    "run_pipeline(output_root_dir=output_root_dir, pipeline_job=pipeline, curated_env_default_run_mode=CuratedEnvironmentDefaultRunMode.CONTAINER))"
   ]
  },
  {
   "cell_type": "markdown",
   "metadata": {},
   "source": [
    "## 3. Submit pipeline job"
   ]
  },
  {
   "cell_type": "code",
   "execution_count": null,
   "metadata": {},
   "outputs": [],
   "source": [
    "# submit job to workspace\n",
    "pipeline_job = ml_client.jobs.create_or_update(pipeline, experiment_name=\"pipeline_samples\")\n",
    "pipeline_job"
   ]
  },
  {
   "cell_type": "code",
   "execution_count": null,
   "metadata": {},
   "outputs": [],
   "source": [
    "# Wait until the job completes\n",
    "ml_client.jobs.stream(pipeline_job.name)"
   ]
  },
  {
   "cell_type": "markdown",
   "metadata": {},
   "source": [
    "# Next Steps\n",
    "You can see further examples of running a pipeline job [here](/sdk/jobs/pipelines/)"
   ]
  }
 ],
 "metadata": {
  "description": {
   "description": "Build pipeline with components for 5 jobs - prep data, transform data, train model, predict results and evaluate model performance"
  },
  "interpreter": {
   "hash": "3e9e0e270b75c5e6da2e22113ba4f77b864d68f95da6601809c29e46c73ae6bb"
  },
  "kernelspec": {
   "display_name": "Python 3.7.8 64-bit",
   "language": "python",
   "name": "python3"
  },
  "language_info": {
   "codemirror_mode": {
    "name": "ipython",
    "version": 3
   },
   "file_extension": ".py",
   "mimetype": "text/x-python",
   "name": "python",
   "nbconvert_exporter": "python",
   "pygments_lexer": "ipython3",
   "version": "3.9.1"
  },
  "orig_nbformat": 4
 },
 "nbformat": 4,
 "nbformat_minor": 2
}
