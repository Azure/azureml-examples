{
 "cells": [
  {
   "cell_type": "markdown",
   "metadata": {},
   "source": [
    "# Build Pipeline with Components from yaml\n",
    "\n",
    "**Requirements** - In order to benefit from this tutorial, you will need:\n",
    "- A basic understanding of Machine Learning\n",
    "- An Azure account with an active subscription. [Create an account for free](https://azure.microsoft.com/free/?WT.mc_id=A261C142F)\n",
    "- An Azure ML workspace. [Check this notebook for creating a workspace](/sdk/resources/workspace/workspace.ipynb) \n",
    "- A Compute Cluster. [Check this notebook to create a compute cluster](/sdk/resources/compute/compute.ipynb)\n",
    "- A python environment\n",
    "- Installed Azure Machine Learning Python SDK v2 - [install instructions](/sdk/README.md#getting-started)\n",
    "\n",
    "**Learning Objectives** - By the end of this tutorial, you should be able to:\n",
    "- Connect to your AML workspace from the Python SDK\n",
    "- Define and load `CommandComponent` from YAML\n",
    "- Create `Pipeline` using loaded component.\n",
    "\n",
    "**Motivations** - This notebook covers the scenario that user define components using yaml then use these components to build pipeline."
   ]
  },
  {
   "cell_type": "markdown",
   "metadata": {},
   "source": [
    "# 1. Connect to Azure Machine Learning Workspace\n",
    "\n",
    "The [workspace](https://docs.microsoft.com/en-us/azure/machine-learning/concept-workspace) is the top-level resource for Azure Machine Learning, providing a centralized place to work with all the artifacts you create when you use Azure Machine Learning. In this section we will connect to the workspace in which the job will be run.\n",
    "\n",
    "## 1.1. Import the required libraries"
   ]
  },
  {
   "cell_type": "code",
   "execution_count": 1,
   "metadata": {},
   "outputs": [],
   "source": [
    "# Import required libraries\n",
    "from azure.ml import MLClient, dsl\n",
    "from azure.ml.entities import JobInput, load_component\n",
    "from azure.ml._constants import AssetTypes"
   ]
  },
  {
   "cell_type": "markdown",
   "metadata": {},
   "source": [
    "## 1.2. Configure credential\n",
    "\n",
    "We are using `DefaultAzureCredential` to get access to workspace. When an access token is needed, it requests one using multiple identities(`EnvironmentCredential, ManagedIdentityCredential, SharedTokenCacheCredential, VisualStudioCodeCredential, AzureCliCredential, AzurePowerShellCredential`) in turn, stopping when one provides a token.\n",
    "Reference [here](https://docs.microsoft.com/en-us/python/api/azure-identity/azure.identity.defaultazurecredential?view=azure-python) for more information.\n",
    "\n",
    "`DefaultAzureCredential` should be capable of handling most Azure SDK authentication scenarios. \n",
    "Reference [here](https://docs.microsoft.com/en-us/python/api/azure-identity/azure.identity?view=azure-python) for all available credentials if it does not work for you.  "
   ]
  },
  {
   "cell_type": "code",
   "execution_count": 2,
   "metadata": {},
   "outputs": [],
   "source": [
    "from azure.identity import DefaultAzureCredential\n",
    "\n",
    "try:\n",
    "    credential = DefaultAzureCredential()\n",
    "    # Check if given credential can get token successfully.\n",
    "    credential.get_token('https://management.azure.com/.default')\n",
    "except Exception as ex:\n",
    "    # If exception happens when retrieve token, try exclude the failed credential like this then try again:\n",
    "    # Exclude VSCode credential:\n",
    "    # credential = DefaultAzureCredential(exclude_visual_studio_code_credential=True)\n",
    "    raise Exception(\"Failed to retrieve a token from the included credentials due to the following exception, try to add `exclude_xxx_credential=True` to `DefaultAzureCredential` and try again.\") from ex"
   ]
  },
  {
   "cell_type": "markdown",
   "metadata": {},
   "source": [
    "## 1.3. Configure workspace details and get a handle to the workspace\n",
    "\n",
    "To connect to a workspace, we need identifier parameters - a subscription, resource group and workspace name. We will use these details in the `MLClient` from `azure.ml` to get a handle to the required Azure Machine Learning workspace."
   ]
  },
  {
   "cell_type": "code",
   "execution_count": 3,
   "metadata": {},
   "outputs": [
    {
     "name": "stderr",
     "output_type": "stream",
     "text": [
      "Found the config file in: D:\\Project\\azureml-examples\\sdk\\jobs\\.azureml\\config.json\n"
     ]
    },
    {
     "name": "stdout",
     "output_type": "stream",
     "text": [
      "MLClient(credential=<azure.identity._credentials.default.DefaultAzureCredential object at 0x0000016A784DF488>,\n",
      "         subscription_id=74eccef0-4b8d-4f83-b5f9-fa100d155b22,\n",
      "         resource_group_name=DesignerTestRG,\n",
      "         workspace_name=DesignerTest-centraluseuap)\n"
     ]
    }
   ],
   "source": [
    "try:\n",
    "    ml_client = MLClient.from_config(credential=credential)\n",
    "except Exception as ex:\n",
    "    # NOTE: Update following workspace information if not correctly configure before\n",
    "    client_config = {\n",
    "\n",
    "    \"subscription_id\": \"74eccef0-4b8d-4f83-b5f9-fa100d155b22\",\n",
    "\n",
    "    \"resource_group\": \"DesignerTestRG\",\n",
    "\n",
    "    \"workspace_name\": \"DesignerTest-centraluseuap\"\n",
    "\n",
    "}\n",
    "\n",
    "    if client_config[\"subscription_id\"].startswith('<'):\n",
    "        print(\"please update your <SUBSCRIPTION_ID> <RESOURCE_GROUP> <WORKSPACE_NAME> in notebook cell\")\n",
    "        raise ex\n",
    "    else:  # write and reload from config file\n",
    "        import json, os\n",
    "        config_path = \"../../.azureml/config.json\"\n",
    "        os.makedirs(os.path.dirname(config_path), exist_ok=True)\n",
    "        with open(config_path, \"w\") as fo:\n",
    "            fo.write(json.dumps(client_config))\n",
    "        ml_client = MLClient.from_config(credential=credential, path=config_path)\n",
    "print(ml_client)"
   ]
  },
  {
   "cell_type": "markdown",
   "metadata": {},
   "source": [
    "## 1.4. Retrieve or create an Azure Machine Learning compute target"
   ]
  },
  {
   "cell_type": "code",
   "execution_count": 4,
   "metadata": {},
   "outputs": [],
   "source": [
    "# Retrieve an already attached Azure Machine Learning Compute.\n",
    "cluster_name = \"cpu-cluster\"\n",
    "try:\n",
    "    ml_client.compute.get(name=cluster_name)\n",
    "except Exception:\n",
    "    print('Creating a new compute target...')\n",
    "    from azure.ml.entities import AmlCompute\n",
    "    compute = AmlCompute(\n",
    "        name=cluster_name,\n",
    "        size=\"Standard_D2_v2\",\n",
    "        max_instances=2\n",
    "    )\n",
    "    ml_client.compute.begin_create_or_update(compute)"
   ]
  },
  {
   "cell_type": "markdown",
   "metadata": {},
   "source": [
    "# 2. Define and create components into workspace\n",
    "## 2.1 Load components from YAML"
   ]
  },
  {
   "cell_type": "code",
   "execution_count": 5,
   "metadata": {},
   "outputs": [],
   "source": [
    "parent_dir = '.'\n",
    "train_model = load_component(yaml_file=parent_dir + \"/train_model.yml\")\n",
    "score_data = load_component(yaml_file=parent_dir + \"/score_data.yml\")\n",
    "eval_model = load_component(yaml_file=parent_dir + \"/eval_model.yml\")"
   ]
  },
  {
   "cell_type": "markdown",
   "metadata": {},
   "source": [
    "## 2.2 Inspect loaded component"
   ]
  },
  {
   "cell_type": "code",
   "execution_count": 6,
   "metadata": {},
   "outputs": [
    {
     "name": "stdout",
     "output_type": "stream",
     "text": [
      "$schema: https://azuremlschemas.azureedge.net/latest/commandComponent.schema.json\n",
      "name: train_model\n",
      "version: 0.0.1\n",
      "display_name: Train Model\n",
      "description: A dummy training component\n",
      "type: command\n",
      "inputs:\n",
      "  training_data:\n",
      "    type: uri_folder\n",
      "  max_epochs:\n",
      "    type: integer\n",
      "    optional: true\n",
      "  learning_rate:\n",
      "    type: number\n",
      "    default: '0.01'\n",
      "  learning_rate_schedule:\n",
      "    type: string\n",
      "    default: time-based\n",
      "outputs:\n",
      "  model_output:\n",
      "    type: uri_folder\n",
      "command: python train.py  --training_data ${{inputs.training_data}}  [--max_epochs\n",
      "  ${{inputs.max_epochs}}]  --learning_rate ${{inputs.learning_rate}}  --learning_rate_schedule\n",
      "  ${{inputs.learning_rate_schedule}}  --model_output ${{outputs.model_output}}\n",
      "environment: azureml:AzureML-sklearn-0.24-ubuntu18.04-py37-cpu:5\n",
      "code: azureml:./train_src\n",
      "tags: {}\n",
      "is_deterministic: true\n",
      "\n"
     ]
    }
   ],
   "source": [
    "# Print the component as yaml\n",
    "print(train_model)"
   ]
  },
  {
   "cell_type": "code",
   "execution_count": 7,
   "metadata": {},
   "outputs": [
    {
     "name": "stdout",
     "output_type": "stream",
     "text": [
      "<class 'azure.ml.entities._component.command_component.CommandComponent'>\n",
      "Help on function [component] Train Model:\n",
      "\n",
      "[component] Train Model(*, training_data: 'uri_folder' = None, max_epochs: 'int' = None, learning_rate: 'float' = None, learning_rate_schedule: 'str' = None)\n",
      "    A dummy training component\n",
      "    \n",
      "    Component yaml:\n",
      "    ```yaml\n",
      "    $schema: https://azuremlschemas.azureedge.net/latest/commandComponent.schema.json\n",
      "    type: command\n",
      "    \n",
      "    name: train_model\n",
      "    display_name: Train Model\n",
      "    description: A dummy training component\n",
      "    version: 0.0.1\n",
      "    inputs:\n",
      "      training_data: \n",
      "        type: uri_folder\n",
      "      max_epochs:\n",
      "        type: integer\n",
      "        optional: true\n",
      "      learning_rate: \n",
      "        type: number\n",
      "        default: 0.01\n",
      "      learning_rate_schedule: \n",
      "        type: string\n",
      "        default: time-based \n",
      "    outputs:\n",
      "      model_output:\n",
      "        type: uri_folder\n",
      "    code: ./train_src\n",
      "    environment: azureml:AzureML-sklearn-0.24-ubuntu18.04-py37-cpu:5\n",
      "    command: >-\n",
      "      python train.py \n",
      "      --training_data ${{inputs.training_data}} \n",
      "      [--max_epochs ${{inputs.max_epochs}}] \n",
      "      --learning_rate ${{inputs.learning_rate}} \n",
      "      --learning_rate_schedule ${{inputs.learning_rate_schedule}} \n",
      "      --model_output ${{outputs.model_output}}\n",
      "    \n",
      "    ```\n",
      "\n"
     ]
    }
   ],
   "source": [
    "# Inspect more information\n",
    "print(type(train_model))\n",
    "help(train_model._func)"
   ]
  },
  {
   "cell_type": "markdown",
   "metadata": {},
   "source": [
    "# 3. Sample pipeline job\n",
    "## 3.1 Build pipeline"
   ]
  },
  {
   "cell_type": "code",
   "execution_count": 8,
   "metadata": {},
   "outputs": [],
   "source": [
    "# Construct pipeline\n",
    "@dsl.pipeline(\n",
    "    default_compute=\"cpu-cluster\",\n",
    "    description=\"E2E dummy train-score-eval pipeline with components defined via yaml\",\n",
    ")\n",
    "def pipeline_with_components_from_yaml(\n",
    "    training_input,\n",
    "    test_input,\n",
    "    training_max_epochs=20,\n",
    "    training_learning_rate=1.8,\n",
    "    learning_rate_schedule=\"time-based\",\n",
    "):\n",
    "    # Call component obj as function: apply given inputs & parameters to create a node in pipeline\n",
    "    train_with_sample_data = train_model(\n",
    "        training_data=training_input,\n",
    "        max_epochs=training_max_epochs,\n",
    "        learning_rate=training_learning_rate,\n",
    "        learning_rate_schedule=learning_rate_schedule,\n",
    "    )\n",
    "\n",
    "    score_with_sample_data = score_data(\n",
    "        model_input=train_with_sample_data.outputs.model_output, \n",
    "        test_data=test_input\n",
    "    )\n",
    "    score_with_sample_data.outputs.score_output.mode = \"upload\"\n",
    "\n",
    "    eval_with_sample_data = eval_model(\n",
    "        scoring_result=score_with_sample_data.outputs.score_output\n",
    "    )\n",
    "\n",
    "    # Return: pipeline outputs\n",
    "    return {\n",
    "        \"trained_model\": train_with_sample_data.outputs.model_output,\n",
    "        \"scored_data\": score_with_sample_data.outputs.score_output,\n",
    "        \"evaluation_report\": eval_with_sample_data.outputs.eval_output,\n",
    "    }\n",
    "\n",
    "pipeline = pipeline_with_components_from_yaml(\n",
    "    training_input = JobInput(type=AssetTypes.URI_FOLDER, path=parent_dir + \"/data/\"),\n",
    "    test_input = JobInput(type=AssetTypes.URI_FOLDER, path=parent_dir + \"/data/\"),\n",
    "    training_max_epochs=20,\n",
    "    training_learning_rate=1.8,\n",
    "    learning_rate_schedule=\"time-based\"\n",
    ")"
   ]
  },
  {
   "cell_type": "code",
   "execution_count": 9,
   "metadata": {},
   "outputs": [
    {
     "name": "stdout",
     "output_type": "stream",
     "text": [
      "name: careful_hominy_zpd30tbj73\n",
      "display_name: pipeline_with_components_from_yaml\n",
      "description: E2E dummy train-score-eval pipeline with components defined via yaml\n",
      "type: pipeline\n",
      "inputs:\n",
      "  training_input:\n",
      "    mode: ro_mount\n",
      "    type: uri_folder\n",
      "    path: azureml:./data/\n",
      "  test_input:\n",
      "    mode: ro_mount\n",
      "    type: uri_folder\n",
      "    path: azureml:./data/\n",
      "  training_max_epochs: 20\n",
      "  training_learning_rate: 1\n",
      "  learning_rate_schedule: time-based\n",
      "outputs:\n",
      "  trained_model: null\n",
      "  scored_data: null\n",
      "  evaluation_report: null\n",
      "tags: {}\n",
      "experiment_name: 1a_pipeline_with_components_from_yaml\n",
      "properties: {}\n",
      "jobs:\n",
      "  train_with_sample_data:\n",
      "    $schema: '{}'\n",
      "    type: command\n",
      "    inputs:\n",
      "      training_data: ${{parent.inputs.training_input}}\n",
      "      max_epochs: ${{parent.inputs.training_max_epochs}}\n",
      "      learning_rate: ${{parent.inputs.training_learning_rate}}\n",
      "      learning_rate_schedule: ${{parent.inputs.learning_rate_schedule}}\n",
      "    outputs:\n",
      "      model_output: ${{parent.outputs.trained_model}}\n",
      "    command: ''\n",
      "    component:\n",
      "      $schema: https://azuremlschemas.azureedge.net/latest/commandComponent.schema.json\n",
      "      name: train_model\n",
      "      version: 0.0.1\n",
      "      display_name: Train Model\n",
      "      description: A dummy training component\n",
      "      type: command\n",
      "      inputs:\n",
      "        training_data:\n",
      "          type: uri_folder\n",
      "        max_epochs:\n",
      "          type: integer\n",
      "          optional: true\n",
      "        learning_rate:\n",
      "          type: number\n",
      "          default: '0.01'\n",
      "        learning_rate_schedule:\n",
      "          type: string\n",
      "          default: time-based\n",
      "      outputs:\n",
      "        model_output:\n",
      "          type: uri_folder\n",
      "      command: python train.py  --training_data ${{inputs.training_data}}  [--max_epochs\n",
      "        ${{inputs.max_epochs}}]  --learning_rate ${{inputs.learning_rate}}  --learning_rate_schedule\n",
      "        ${{inputs.learning_rate_schedule}}  --model_output ${{outputs.model_output}}\n",
      "      environment: azureml:AzureML-sklearn-0.24-ubuntu18.04-py37-cpu:5\n",
      "      code: azureml:./train_src\n",
      "      tags: {}\n",
      "      is_deterministic: true\n",
      "    environment_variables: {}\n",
      "  score_with_sample_data:\n",
      "    $schema: '{}'\n",
      "    type: command\n",
      "    inputs:\n",
      "      model_input: ${{parent.jobs.train_with_sample_data.outputs.model_output}}\n",
      "      test_data: ${{parent.inputs.test_input}}\n",
      "    outputs:\n",
      "      score_output: ${{parent.outputs.scored_data}}\n",
      "    command: ''\n",
      "    component:\n",
      "      $schema: https://azuremlschemas.azureedge.net/latest/commandComponent.schema.json\n",
      "      name: score_data\n",
      "      version: 0.0.1\n",
      "      display_name: Score Data\n",
      "      description: A dummy scoring component\n",
      "      type: command\n",
      "      inputs:\n",
      "        model_input:\n",
      "          type: uri_folder\n",
      "        test_data:\n",
      "          type: uri_folder\n",
      "      outputs:\n",
      "        score_output:\n",
      "          type: uri_folder\n",
      "      command: python score.py  --model_input ${{inputs.model_input}}  --test_data\n",
      "        ${{inputs.test_data}} --score_output ${{outputs.score_output}}\n",
      "      environment: azureml:AzureML-sklearn-0.24-ubuntu18.04-py37-cpu:5\n",
      "      code: azureml:./score_src\n",
      "      tags: {}\n",
      "      is_deterministic: true\n",
      "    environment_variables: {}\n",
      "  eval_with_sample_data:\n",
      "    $schema: '{}'\n",
      "    type: command\n",
      "    inputs:\n",
      "      scoring_result: ${{parent.jobs.score_with_sample_data.outputs.score_output}}\n",
      "    outputs:\n",
      "      eval_output: ${{parent.outputs.evaluation_report}}\n",
      "    command: ''\n",
      "    component:\n",
      "      $schema: https://azuremlschemas.azureedge.net/latest/commandComponent.schema.json\n",
      "      name: eval_model\n",
      "      version: 0.0.1\n",
      "      display_name: Eval Model\n",
      "      description: A dummy evaluate component\n",
      "      type: command\n",
      "      inputs:\n",
      "        scoring_result:\n",
      "          type: uri_folder\n",
      "      outputs:\n",
      "        eval_output:\n",
      "          type: uri_folder\n",
      "      command: python eval.py  --scoring_result ${{inputs.scoring_result}}  --eval_output\n",
      "        ${{outputs.eval_output}}\n",
      "      environment: azureml:AzureML-sklearn-0.24-ubuntu18.04-py37-cpu:5\n",
      "      code: azureml:./eval_src\n",
      "      tags: {}\n",
      "      is_deterministic: true\n",
      "    environment_variables: {}\n",
      "compute: azureml:cpu-cluster\n",
      "settings: {}\n",
      "\n"
     ]
    }
   ],
   "source": [
    "# Inspect built pipeline\n",
    "print(pipeline)"
   ]
  },
  {
   "cell_type": "markdown",
   "metadata": {},
   "source": [
    "## 3.2 Submit pipeline job"
   ]
  },
  {
   "cell_type": "code",
   "execution_count": 10,
   "metadata": {},
   "outputs": [
    {
     "name": "stderr",
     "output_type": "stream",
     "text": [
      "\u001b[32mUploading train_src (0.0 MBs): 100%|#############################################| 1505/1505 [00:00<00:00, 5410.61it/s]\u001b[0m\n",
      "\u001b[39m\n",
      "\n",
      "\u001b[32mUploading score_src (0.0 MBs): 100%|###############################################| 940/940 [00:00<00:00, 3313.18it/s]\u001b[0m\n",
      "\u001b[39m\n",
      "\n",
      "\u001b[32mUploading eval_src (0.0 MBs): 100%|################################################| 796/796 [00:00<00:00, 2731.67it/s]\u001b[0m\n",
      "\u001b[39m\n",
      "\n",
      "\u001b[32mUploading data (0.0 MBs): 100%|####################################################| 510/510 [00:00<00:00, 1792.06it/s]\u001b[0m\n",
      "\u001b[39m\n",
      "\n"
     ]
    },
    {
     "data": {
      "text/html": [
       "<table style=\"width:100%\"><tr><th>Experiment</th><th>Name</th><th>Type</th><th>Status</th><th>Details Page</th></tr><tr><td>pipeline_samples</td><td>careful_hominy_zpd30tbj73</td><td>pipeline</td><td>Preparing</td><td><a href=\"https://ml.azure.com/runs/careful_hominy_zpd30tbj73?wsid=/subscriptions/74eccef0-4b8d-4f83-b5f9-fa100d155b22/resourcegroups/DesignerTestRG/workspaces/DesignerTest-centraluseuap&amp;tid=72f988bf-86f1-41af-91ab-2d7cd011db47\" target=\"_blank\" rel=\"noopener\">Link to Azure Machine Learning studio</a></td></tr></table>"
      ],
      "text/plain": [
       "PipelineJob({'inputs': {'training_input': <azure.ml.entities._job.pipeline._io.PipelineInput object at 0x0000016A78661648>, 'test_input': <azure.ml.entities._job.pipeline._io.PipelineInput object at 0x0000016A78661B48>, 'training_max_epochs': <azure.ml.entities._job.pipeline._io.PipelineInput object at 0x0000016A78661EC8>, 'training_learning_rate': <azure.ml.entities._job.pipeline._io.PipelineInput object at 0x0000016A78761408>, 'learning_rate_schedule': <azure.ml.entities._job.pipeline._io.PipelineInput object at 0x0000016A78761788>}, 'outputs': {'trained_model': <azure.ml.entities._job.pipeline._io.PipelineOutput object at 0x0000016A78761CC8>, 'scored_data': <azure.ml.entities._job.pipeline._io.PipelineOutput object at 0x0000016A7877B7C8>, 'evaluation_report': <azure.ml.entities._job.pipeline._io.PipelineOutput object at 0x0000016A78776788>}, 'component': _PipelineComponent({'components': {}, 'auto_increment_version': False, 'is_anonymous': True, 'name': 'ca41d00d-4f3f-4503-a9ec-cae7272afa9e', 'description': None, 'tags': {}, 'properties': {}, 'id': None, 'base_path': None, 'creation_context': None, 'serialize': <msrest.serialization.Serializer object at 0x0000016A78776808>, 'version': '1', 'latest_version': None, 'schema': None, 'type': 'pipeline_component', 'display_name': None, 'is_deterministic': True, 'inputs': {}, 'outputs': {}, 'yaml_str': None, 'other_parameter': {}, 'func': <function [component] None at 0x0000016A7864E8B8>}), 'display_name': 'careful_hominy_zpd30tbj73', 'type': 'pipeline', 'status': 'Preparing', 'log_files': None, 'name': 'careful_hominy_zpd30tbj73', 'description': None, 'tags': {}, 'properties': {'mlflow.source.git.repoURL': 'https://github.com/Azure/azureml-examples.git', 'mlflow.source.git.branch': 'sample', 'mlflow.source.git.commit': '23057425d10bdf5b3a8130adf14cf8d9c45baebc', 'azureml.git.dirty': 'False', 'azureml.runsource': 'azureml.PipelineRun', 'runSource': 'SDKv2', 'runType': 'HTTP', 'azureml.parameters': '{\"training_max_epochs\":\"20\",\"training_learning_rate\":\"1.8\",\"learning_rate_schedule\":\"time-based\"}', 'azureml.continue_on_step_failure': 'False', 'azureml.pipelineComponent': 'pipelinerun'}, 'id': '/subscriptions/74eccef0-4b8d-4f83-b5f9-fa100d155b22/resourceGroups/DesignerTestRG/providers/Microsoft.MachineLearningServices/workspaces/DesignerTest-centraluseuap/jobs/careful_hominy_zpd30tbj73', 'base_path': './', 'creation_context': <azure.ml._restclient.v2022_02_01_preview.models._models_py3.SystemData object at 0x0000016A78696208>, 'serialize': <msrest.serialization.Serializer object at 0x0000016A7871C3C8>, 'experiment_name': 'pipeline_samples', 'compute': 'cpu-cluster', 'services': {'Tracking': <azure.ml._restclient.v2022_02_01_preview.models._models_py3.JobService object at 0x0000016A78696588>, 'Studio': <azure.ml._restclient.v2022_02_01_preview.models._models_py3.JobService object at 0x0000016A786964C8>}, 'jobs': {'train_with_sample_data': {}, 'score_with_sample_data': {}, 'eval_with_sample_data': {}}, 'settings': {}, 'identity': None, 'default_code': None, 'default_environment': None})"
      ]
     },
     "execution_count": 10,
     "metadata": {},
     "output_type": "execute_result"
    }
   ],
   "source": [
    "# Submit pipeline job to workspace\n",
    "pipeline_job = ml_client.jobs.create_or_update(pipeline, experiment_name=\"pipeline_samples\")\n",
    "pipeline_job"
   ]
  },
  {
   "cell_type": "code",
   "execution_count": null,
   "metadata": {},
   "outputs": [
    {
     "name": "stdout",
     "output_type": "stream",
     "text": [
      "RunId: careful_hominy_zpd30tbj73\n",
      "Web View: https://ml.azure.com/runs/careful_hominy_zpd30tbj73?wsid=/subscriptions/74eccef0-4b8d-4f83-b5f9-fa100d155b22/resourcegroups/DesignerTestRG/workspaces/DesignerTest-centraluseuap\n",
      "\n",
      "Streaming logs/azureml/executionlogs.txt\n",
      "========================================\n",
      "\n",
      "[2022-04-26 08:03:05Z] Submitting 1 runs, first five are: 562793a1:2df5da8c-d32d-45ba-8e74-22511b2c9310\n"
     ]
    }
   ],
   "source": [
    "# Wait until the job completes\n",
    "ml_client.jobs.stream(pipeline_job.name)"
   ]
  },
  {
   "cell_type": "markdown",
   "metadata": {},
   "source": [
    "# Next Steps\n",
    "You can see further examples of running a pipeline job [here](/sdk/jobs/pipelines/)"
   ]
  }
 ],
 "metadata": {
  "description": {
   "description": "Register component and then use these components to build pipeline"
  },
  "interpreter": {
   "hash": "3e9e0e270b75c5e6da2e22113ba4f77b864d68f95da6601809c29e46c73ae6bb"
  },
  "kernelspec": {
   "display_name": "v2",
   "language": "python",
   "name": "v2"
  },
  "language_info": {
   "codemirror_mode": {
    "name": "ipython",
    "version": 3
   },
   "file_extension": ".py",
   "mimetype": "text/x-python",
   "name": "python",
   "nbconvert_exporter": "python",
   "pygments_lexer": "ipython3",
   "version": "3.7.9"
  }
 },
 "nbformat": 4,
 "nbformat_minor": 2
}
