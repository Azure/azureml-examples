{
 "cells": [
  {
   "cell_type": "markdown",
   "metadata": {},
   "source": [
    "# AutoML in pipeline\n",
    "\n",
    "**Requirements** - In order to benefit from this tutorial, you will need:\n",
    "- A basic understanding of Machine Learning\n",
    "- An Azure account with an active subscription - [Create an account for free](https://azure.microsoft.com/free/?WT.mc_id=A261C142F)\n",
    "- An Azure ML workspace with computer cluster - [Configure workspace](../../../configuration.ipynb)\n",
    "- A python environment\n",
    "- Installed Azure Machine Learning Python SDK v2 - [install instructions](../../../../README.md) - check the getting started section\n",
    "\n",
    "**Learning Objectives** - By the end of this tutorial, you should be able to:\n",
    "- Create a pipeline with Regression AutoML task.\n",
    "\n",
    "**Motivations** - This notebook explains how to use Regression AutoML task inside pipeline."
   ]
  },
  {
   "cell_type": "markdown",
   "metadata": {},
   "source": [
    "# 1. Connect to Azure Machine Learning Workspace\n",
    "\n",
    "The [workspace](https://docs.microsoft.com/en-us/azure/machine-learning/concept-workspace) is the top-level resource for Azure Machine Learning, providing a centralized place to work with all the artifacts you create when you use Azure Machine Learning. In this section we will connect to the workspace in which the job will be run.\n",
    "\n",
    "## 1.1 Import the required libraries"
   ]
  },
  {
   "cell_type": "code",
   "execution_count": 1,
   "metadata": {},
   "outputs": [],
   "source": [
    "# import required libraries\n",
    "from azure.identity import DefaultAzureCredential, InteractiveBrowserCredential\n",
    "\n",
    "from azure.ai.ml import MLClient, Input, command, Output\n",
    "from azure.ai.ml.dsl import pipeline\n",
    "from azure.ai.ml.automl import classification, regression\n",
    "from azure.ai.ml.entities._job.automl.tabular import TabularFeaturizationSettings"
   ]
  },
  {
   "cell_type": "markdown",
   "metadata": {},
   "source": [
    "## 1.2 Configure credential\n",
    "\n",
    "We are using `DefaultAzureCredential` to get access to workspace. \n",
    "`DefaultAzureCredential` should be capable of handling most Azure SDK authentication scenarios. \n",
    "\n",
    "Reference for more available credentials if it does not work for you: [configure credential example](../../../configuration.ipynb), [azure-identity reference doc](https://docs.microsoft.com/en-us/python/api/azure-identity/azure.identity?view=azure-python)."
   ]
  },
  {
   "cell_type": "code",
   "execution_count": 3,
   "metadata": {},
   "outputs": [],
   "source": [
    "try:\n",
    "    credential = DefaultAzureCredential()\n",
    "    # Check if given credential can get token successfully.\n",
    "    credential.get_token(\"https://management.azure.com/.default\")\n",
    "except Exception as ex:\n",
    "    # Fall back to InteractiveBrowserCredential in case DefaultAzureCredential not work\n",
    "    credential = InteractiveBrowserCredential()"
   ]
  },
  {
   "cell_type": "markdown",
   "metadata": {},
   "source": [
    "## 1.3 Get a handle to the workspace\n",
    "\n",
    "We use config file to connect to a workspace. The Azure ML workspace should be configured with computer cluster. [Check this notebook for configure a workspace](../../../configuration.ipynb)"
   ]
  },
  {
   "cell_type": "code",
   "execution_count": 5,
   "metadata": {},
   "outputs": [
    {
     "name": "stdout",
     "output_type": "stream",
     "text": [
      "AmlCompute({'type': 'amlcompute', 'created_on': None, 'provisioning_state': 'Succeeded', 'provisioning_errors': None, 'name': 'cpu-cluster', 'description': None, 'tags': {}, 'properties': {}, 'id': '/subscriptions/381b38e9-9840-4719-a5a0-61d9585e1e91/resourceGroups/ayush_mishra_res01/providers/Microsoft.MachineLearningServices/workspaces/ayushmishra_eastus2_ws/computes/cpu-cluster', 'Resource__source_path': None, 'base_path': 'c:\\\\Users\\\\ayushmishra\\\\workspace\\\\azureml-examples\\\\sdk\\\\jobs\\\\pipelines\\\\1h_automl_in_pipeline\\\\automl-regression-house-pricing-in-pipeline', 'creation_context': None, 'serialize': <msrest.serialization.Serializer object at 0x000001A7AAC25C00>, 'resource_id': None, 'location': 'eastus2', 'size': 'STANDARD_DS3_V2', 'min_instances': 0, 'max_instances': 4, 'idle_time_before_scale_down': 120.0, 'identity': None, 'ssh_public_access_enabled': True, 'ssh_settings': None, 'network_settings': None, 'tier': 'dedicated'})\n"
     ]
    }
   ],
   "source": [
    "# Get a handle to workspace\n",
    "ml_client = MLClient(\n",
    "    credential=credential,\n",
    "    workspace_name=\"ayushmishra_eastus2_ws\",\n",
    "    subscription_id=\"381b38e9-9840-4719-a5a0-61d9585e1e91\",\n",
    "    resource_group_name=\"ayush_mishra_res01\",\n",
    ")\n",
    "\n",
    "# Retrieve an already attached Azure Machine Learning Compute.\n",
    "cluster_name = \"cpu-cluster\"\n",
    "print(ml_client.compute.get(cluster_name))"
   ]
  },
  {
   "cell_type": "markdown",
   "metadata": {},
   "source": [
    "# 3. Basic pipeline job with regression task\n",
    "\n",
    "## 3.1 Build pipeline"
   ]
  },
  {
   "cell_type": "code",
   "execution_count": 28,
   "metadata": {},
   "outputs": [
    {
     "ename": "SyntaxError",
     "evalue": "invalid syntax. Perhaps you forgot a comma? (3671578676.py, line 13)",
     "output_type": "error",
     "traceback": [
      "\u001b[1;36m  Cell \u001b[1;32mIn [28], line 13\u001b[1;36m\u001b[0m\n\u001b[1;33m    command=\"python prepare_data.py --seed 250\"\u001b[0m\n\u001b[1;37m            ^\u001b[0m\n\u001b[1;31mSyntaxError\u001b[0m\u001b[1;31m:\u001b[0m invalid syntax. Perhaps you forgot a comma?\n"
     ]
    }
   ],
   "source": [
    "# Define pipeline\n",
    "@pipeline(\n",
    "    description=\"AutoML Regression Pipeline\",\n",
    "    )\n",
    "def automl_regression(\n",
    "    regression_train_data,\n",
    "    regression_validation_data,\n",
    "    regression_test_data\n",
    "):\n",
    "    command_func = command(\n",
    "        inputs={\"training_data\": Input(type=\"mltable\")},\n",
    "        outputs={\"train_data\": Output(type=\"uri_folder\")},\n",
    "        command=\"python prepare_data.py --seed 250\",\n",
    "        environment=\"AzureML-sklearn-0.24-ubuntu18.04-py37-cpu:1\"\n",
    "    )\n",
    "\n",
    "    copy_component = command_func(\n",
    "        training_data = regression_train_data\n",
    "    )\n",
    "\n",
    "    copy_component.outputs.train_data.path = copy_component.outputs.train_data.path + \"/MLTable\"\n",
    "    copy_component.outputs.train_data.type = \"mltable\"\n",
    "\n",
    "    # define the AutoML regression task with AutoML function\n",
    "    regression_node = regression(\n",
    "        primary_metric=\"r2_score\",\n",
    "        target_column_name=\"SalePrice\",\n",
    "        training_data=copy_component.outputs.train_data,\n",
    "        validation_data=regression_validation_data,\n",
    "        test_data=regression_test_data,\n",
    "        featurization=TabularFeaturizationSettings(mode=\"off\"),\n",
    "        # currently need to specify outputs \"mlflow_model\" explicitly to reference it in following nodes \n",
    "        outputs={\"best_model\": Output(type=\"mlflow_model\")},\n",
    "    )\n",
    "    # set limits & training\n",
    "    regression_node.set_limits(max_trials=1, max_concurrent_trials=1)\n",
    "    regression_node.set_training(enable_stack_ensemble=False, enable_vote_ensemble=False)\n",
    "\n",
    "    # define command function for registering the model\n",
    "    command_func = command(\n",
    "        inputs=dict(\n",
    "            model_input_path = Input(type=\"mlflow_model\"),\n",
    "            model_base_name= \"regression_example_model\"\n",
    "        ),\n",
    "        code=\"./register.py\",\n",
    "        command=\"python register.py \" +\n",
    "                \"--model_input_path ${{inputs.model_input_path}} \" +\n",
    "                \"--model_base_name ${{inputs.model_base_name}}\",\n",
    "        environment=\"AzureML-sklearn-0.24-ubuntu18.04-py37-cpu:1\"\n",
    "    )\n",
    "    register_model = command_func(model_input_path = regression_node.outputs.best_model)\n",
    "\n",
    "\n",
    "pipeline_regression = automl_regression(\n",
    "    regression_train_data=Input(path=\"./training-mltable-folder/\", type=\"mltable\"),\n",
    "    regression_validation_data=Input(path=\"./validation-mltable-folder/\", type=\"mltable\"),\n",
    "    regression_test_data=Input(path=\"./test-mltable-folder/\", type=\"mltable\")\n",
    ")\n",
    "\n",
    "# set pipeline level compute\n",
    "pipeline_regression.settings.default_compute=\"cpu-cluster\"\n",
    "        "
   ]
  },
  {
   "cell_type": "markdown",
   "metadata": {},
   "source": [
    "# 3.2 Submit pipeline job"
   ]
  },
  {
   "cell_type": "code",
   "execution_count": 22,
   "metadata": {},
   "outputs": [
    {
     "ename": "JobException",
     "evalue": "Supported input path value are ARM id, AzureML id, remote uri or local path.\nMet <class 'azure.ai.ml._ml_exceptions.ValidationException'>:\nNo such file or directory: C:\\Users\\ayushmishra\\workspace\\azureml-examples\\sdk\\jobs\\pipelines\\1h_automl_in_pipeline\\automl-regression-house-pricing-in-pipeline\\{{copy_component.outputs.train_data}}\\MLTable",
     "output_type": "error",
     "traceback": [
      "\u001b[1;31m---------------------------------------------------------------------------\u001b[0m",
      "\u001b[1;31mValidationException\u001b[0m                       Traceback (most recent call last)",
      "File \u001b[1;32mc:\\users\\ayushmishra\\workspace\\sdk-cli-v2-new\\sdk-cli-v2\\src\\azure-ai-ml\\azure\\ai\\ml\\operations\\_job_operations.py:906\u001b[0m, in \u001b[0;36mJobOperations._resolve_job_input\u001b[1;34m(self, entry, base_path)\u001b[0m\n\u001b[0;32m    <a href='file:///c%3A/users/ayushmishra/workspace/sdk-cli-v2-new/sdk-cli-v2/src/azure-ai-ml/azure/ai/ml/operations/_job_operations.py?line=904'>905</a>\u001b[0m local_path \u001b[39m=\u001b[39m Path(base_path, entry\u001b[39m.\u001b[39mpath)\u001b[39m.\u001b[39mresolve()\n\u001b[1;32m--> <a href='file:///c%3A/users/ayushmishra/workspace/sdk-cli-v2-new/sdk-cli-v2/src/azure-ai-ml/azure/ai/ml/operations/_job_operations.py?line=905'>906</a>\u001b[0m entry\u001b[39m.\u001b[39mpath \u001b[39m=\u001b[39m _upload_and_generate_remote_uri(\n\u001b[0;32m    <a href='file:///c%3A/users/ayushmishra/workspace/sdk-cli-v2-new/sdk-cli-v2/src/azure-ai-ml/azure/ai/ml/operations/_job_operations.py?line=906'>907</a>\u001b[0m     \u001b[39mself\u001b[39;49m\u001b[39m.\u001b[39;49m_operation_scope,\n\u001b[0;32m    <a href='file:///c%3A/users/ayushmishra/workspace/sdk-cli-v2-new/sdk-cli-v2/src/azure-ai-ml/azure/ai/ml/operations/_job_operations.py?line=907'>908</a>\u001b[0m     \u001b[39mself\u001b[39;49m\u001b[39m.\u001b[39;49m_datastore_operations,\n\u001b[0;32m    <a href='file:///c%3A/users/ayushmishra/workspace/sdk-cli-v2-new/sdk-cli-v2/src/azure-ai-ml/azure/ai/ml/operations/_job_operations.py?line=908'>909</a>\u001b[0m     local_path,\n\u001b[0;32m    <a href='file:///c%3A/users/ayushmishra/workspace/sdk-cli-v2-new/sdk-cli-v2/src/azure-ai-ml/azure/ai/ml/operations/_job_operations.py?line=909'>910</a>\u001b[0m )\n\u001b[0;32m    <a href='file:///c%3A/users/ayushmishra/workspace/sdk-cli-v2-new/sdk-cli-v2/src/azure-ai-ml/azure/ai/ml/operations/_job_operations.py?line=910'>911</a>\u001b[0m \u001b[39m# TODO : Move this part to a common place\u001b[39;00m\n",
      "File \u001b[1;32mc:\\users\\ayushmishra\\workspace\\sdk-cli-v2-new\\sdk-cli-v2\\src\\azure-ai-ml\\azure\\ai\\ml\\_artifacts\\_artifact_utilities.py:321\u001b[0m, in \u001b[0;36m_upload_and_generate_remote_uri\u001b[1;34m(operation_scope, datastore_operation, path, artifact_type, datastore_name)\u001b[0m\n\u001b[0;32m    <a href='file:///c%3A/users/ayushmishra/workspace/sdk-cli-v2-new/sdk-cli-v2/src/azure-ai-ml/azure/ai/ml/_artifacts/_artifact_utilities.py?line=319'>320</a>\u001b[0m asset_name \u001b[39m=\u001b[39m \u001b[39mstr\u001b[39m(uuid\u001b[39m.\u001b[39muuid4())\n\u001b[1;32m--> <a href='file:///c%3A/users/ayushmishra/workspace/sdk-cli-v2-new/sdk-cli-v2/src/azure-ai-ml/azure/ai/ml/_artifacts/_artifact_utilities.py?line=320'>321</a>\u001b[0m artifact_info \u001b[39m=\u001b[39m _upload_to_datastore(\n\u001b[0;32m    <a href='file:///c%3A/users/ayushmishra/workspace/sdk-cli-v2-new/sdk-cli-v2/src/azure-ai-ml/azure/ai/ml/_artifacts/_artifact_utilities.py?line=321'>322</a>\u001b[0m     operation_scope\u001b[39m=\u001b[39;49moperation_scope,\n\u001b[0;32m    <a href='file:///c%3A/users/ayushmishra/workspace/sdk-cli-v2-new/sdk-cli-v2/src/azure-ai-ml/azure/ai/ml/_artifacts/_artifact_utilities.py?line=322'>323</a>\u001b[0m     datastore_operation\u001b[39m=\u001b[39;49mdatastore_operation,\n\u001b[0;32m    <a href='file:///c%3A/users/ayushmishra/workspace/sdk-cli-v2-new/sdk-cli-v2/src/azure-ai-ml/azure/ai/ml/_artifacts/_artifact_utilities.py?line=323'>324</a>\u001b[0m     path\u001b[39m=\u001b[39;49mpath,\n\u001b[0;32m    <a href='file:///c%3A/users/ayushmishra/workspace/sdk-cli-v2-new/sdk-cli-v2/src/azure-ai-ml/azure/ai/ml/_artifacts/_artifact_utilities.py?line=324'>325</a>\u001b[0m     datastore_name\u001b[39m=\u001b[39;49mdatastore_name,\n\u001b[0;32m    <a href='file:///c%3A/users/ayushmishra/workspace/sdk-cli-v2-new/sdk-cli-v2/src/azure-ai-ml/azure/ai/ml/_artifacts/_artifact_utilities.py?line=325'>326</a>\u001b[0m     asset_name\u001b[39m=\u001b[39;49masset_name,\n\u001b[0;32m    <a href='file:///c%3A/users/ayushmishra/workspace/sdk-cli-v2-new/sdk-cli-v2/src/azure-ai-ml/azure/ai/ml/_artifacts/_artifact_utilities.py?line=326'>327</a>\u001b[0m     artifact_type\u001b[39m=\u001b[39;49martifact_type,\n\u001b[0;32m    <a href='file:///c%3A/users/ayushmishra/workspace/sdk-cli-v2-new/sdk-cli-v2/src/azure-ai-ml/azure/ai/ml/_artifacts/_artifact_utilities.py?line=327'>328</a>\u001b[0m )\n\u001b[0;32m    <a href='file:///c%3A/users/ayushmishra/workspace/sdk-cli-v2-new/sdk-cli-v2/src/azure-ai-ml/azure/ai/ml/_artifacts/_artifact_utilities.py?line=329'>330</a>\u001b[0m path \u001b[39m=\u001b[39m artifact_info\u001b[39m.\u001b[39mrelative_path\n",
      "File \u001b[1;32mc:\\users\\ayushmishra\\workspace\\sdk-cli-v2-new\\sdk-cli-v2\\src\\azure-ai-ml\\azure\\ai\\ml\\_artifacts\\_artifact_utilities.py:291\u001b[0m, in \u001b[0;36m_upload_to_datastore\u001b[1;34m(operation_scope, datastore_operation, path, artifact_type, datastore_name, show_progress, asset_name, asset_version, asset_hash, ignore_file, sas_uri)\u001b[0m\n\u001b[0;32m    <a href='file:///c%3A/users/ayushmishra/workspace/sdk-cli-v2-new/sdk-cli-v2/src/azure-ai-ml/azure/ai/ml/_artifacts/_artifact_utilities.py?line=277'>278</a>\u001b[0m \u001b[39mdef\u001b[39;00m \u001b[39m_upload_to_datastore\u001b[39m(\n\u001b[0;32m    <a href='file:///c%3A/users/ayushmishra/workspace/sdk-cli-v2-new/sdk-cli-v2/src/azure-ai-ml/azure/ai/ml/_artifacts/_artifact_utilities.py?line=278'>279</a>\u001b[0m     operation_scope: OperationScope,\n\u001b[0;32m    <a href='file:///c%3A/users/ayushmishra/workspace/sdk-cli-v2-new/sdk-cli-v2/src/azure-ai-ml/azure/ai/ml/_artifacts/_artifact_utilities.py?line=279'>280</a>\u001b[0m     datastore_operation: DatastoreOperations,\n\u001b[1;32m   (...)\u001b[0m\n\u001b[0;32m    <a href='file:///c%3A/users/ayushmishra/workspace/sdk-cli-v2-new/sdk-cli-v2/src/azure-ai-ml/azure/ai/ml/_artifacts/_artifact_utilities.py?line=288'>289</a>\u001b[0m     sas_uri: \u001b[39mstr\u001b[39m \u001b[39m=\u001b[39m \u001b[39mNone\u001b[39;00m,  \u001b[39m# contains regstry sas url\u001b[39;00m\n\u001b[0;32m    <a href='file:///c%3A/users/ayushmishra/workspace/sdk-cli-v2-new/sdk-cli-v2/src/azure-ai-ml/azure/ai/ml/_artifacts/_artifact_utilities.py?line=289'>290</a>\u001b[0m ) \u001b[39m-\u001b[39m\u001b[39m>\u001b[39m ArtifactStorageInfo:\n\u001b[1;32m--> <a href='file:///c%3A/users/ayushmishra/workspace/sdk-cli-v2-new/sdk-cli-v2/src/azure-ai-ml/azure/ai/ml/_artifacts/_artifact_utilities.py?line=290'>291</a>\u001b[0m     _validate_path(path, \u001b[39mtype\u001b[39;49m\u001b[39m=\u001b[39;49martifact_type)\n\u001b[0;32m    <a href='file:///c%3A/users/ayushmishra/workspace/sdk-cli-v2-new/sdk-cli-v2/src/azure-ai-ml/azure/ai/ml/_artifacts/_artifact_utilities.py?line=291'>292</a>\u001b[0m     \u001b[39mif\u001b[39;00m \u001b[39mnot\u001b[39;00m ignore_file:\n",
      "File \u001b[1;32mc:\\users\\ayushmishra\\workspace\\sdk-cli-v2-new\\sdk-cli-v2\\src\\azure-ai-ml\\azure\\ai\\ml\\_utils\\_asset_utils.py:155\u001b[0m, in \u001b[0;36m_validate_path\u001b[1;34m(path, type)\u001b[0m\n\u001b[0;32m    <a href='file:///c%3A/users/ayushmishra/workspace/sdk-cli-v2-new/sdk-cli-v2/src/azure-ai-ml/azure/ai/ml/_utils/_asset_utils.py?line=153'>154</a>\u001b[0m \u001b[39mif\u001b[39;00m \u001b[39mnot\u001b[39;00m path\u001b[39m.\u001b[39mis_file() \u001b[39mand\u001b[39;00m \u001b[39mnot\u001b[39;00m path\u001b[39m.\u001b[39mis_dir():\n\u001b[1;32m--> <a href='file:///c%3A/users/ayushmishra/workspace/sdk-cli-v2-new/sdk-cli-v2/src/azure-ai-ml/azure/ai/ml/_utils/_asset_utils.py?line=154'>155</a>\u001b[0m     \u001b[39mraise\u001b[39;00m ValidationException(\n\u001b[0;32m    <a href='file:///c%3A/users/ayushmishra/workspace/sdk-cli-v2-new/sdk-cli-v2/src/azure-ai-ml/azure/ai/ml/_utils/_asset_utils.py?line=155'>156</a>\u001b[0m         message\u001b[39m=\u001b[39m\u001b[39mf\u001b[39m\u001b[39m\"\u001b[39m\u001b[39mNo such file or directory: \u001b[39m\u001b[39m{\u001b[39;00mpath\u001b[39m}\u001b[39;00m\u001b[39m\"\u001b[39m,\n\u001b[0;32m    <a href='file:///c%3A/users/ayushmishra/workspace/sdk-cli-v2-new/sdk-cli-v2/src/azure-ai-ml/azure/ai/ml/_utils/_asset_utils.py?line=156'>157</a>\u001b[0m         target\u001b[39m=\u001b[39m\u001b[39mtype\u001b[39m,\n\u001b[0;32m    <a href='file:///c%3A/users/ayushmishra/workspace/sdk-cli-v2-new/sdk-cli-v2/src/azure-ai-ml/azure/ai/ml/_utils/_asset_utils.py?line=157'>158</a>\u001b[0m         error_type\u001b[39m=\u001b[39mValidationErrorType\u001b[39m.\u001b[39mFILE_OR_FOLDER_NOT_FOUND,\n\u001b[0;32m    <a href='file:///c%3A/users/ayushmishra/workspace/sdk-cli-v2-new/sdk-cli-v2/src/azure-ai-ml/azure/ai/ml/_utils/_asset_utils.py?line=158'>159</a>\u001b[0m         no_personal_data_message\u001b[39m=\u001b[39m\u001b[39m\"\u001b[39m\u001b[39mNo such file or directory\u001b[39m\u001b[39m\"\u001b[39m,\n\u001b[0;32m    <a href='file:///c%3A/users/ayushmishra/workspace/sdk-cli-v2-new/sdk-cli-v2/src/azure-ai-ml/azure/ai/ml/_utils/_asset_utils.py?line=159'>160</a>\u001b[0m         error_category\u001b[39m=\u001b[39mErrorCategory\u001b[39m.\u001b[39mUSER_ERROR,\n\u001b[0;32m    <a href='file:///c%3A/users/ayushmishra/workspace/sdk-cli-v2-new/sdk-cli-v2/src/azure-ai-ml/azure/ai/ml/_utils/_asset_utils.py?line=160'>161</a>\u001b[0m     )\n",
      "\u001b[1;31mValidationException\u001b[0m: No such file or directory: C:\\Users\\ayushmishra\\workspace\\azureml-examples\\sdk\\jobs\\pipelines\\1h_automl_in_pipeline\\automl-regression-house-pricing-in-pipeline\\{{copy_component.outputs.train_data}}\\MLTable",
      "\nDuring handling of the above exception, another exception occurred:\n",
      "\u001b[1;31mJobException\u001b[0m                              Traceback (most recent call last)",
      "Cell \u001b[1;32mIn [22], line 2\u001b[0m\n\u001b[0;32m      1\u001b[0m \u001b[38;5;66;03m# submit the pipeline job\u001b[39;00m\n\u001b[1;32m----> 2\u001b[0m pipeline_job \u001b[38;5;241m=\u001b[39m \u001b[43mml_client\u001b[49m\u001b[38;5;241;43m.\u001b[39;49m\u001b[43mjobs\u001b[49m\u001b[38;5;241;43m.\u001b[39;49m\u001b[43mcreate_or_update\u001b[49m\u001b[43m(\u001b[49m\n\u001b[0;32m      3\u001b[0m \u001b[43m    \u001b[49m\u001b[43mpipeline_regression\u001b[49m\u001b[43m,\u001b[49m\u001b[43m \u001b[49m\u001b[43mexperiment_name\u001b[49m\u001b[38;5;241;43m=\u001b[39;49m\u001b[38;5;124;43m\"\u001b[39;49m\u001b[38;5;124;43mpipeline_samples\u001b[39;49m\u001b[38;5;124;43m\"\u001b[39;49m\n\u001b[0;32m      4\u001b[0m \u001b[43m)\u001b[49m\n\u001b[0;32m      5\u001b[0m pipeline_job\n",
      "File \u001b[1;32mc:\\users\\ayushmishra\\workspace\\sdk-cli-v2-new\\sdk-cli-v2\\src\\azure-ai-ml\\azure\\ai\\ml\\_telemetry\\activity.py:332\u001b[0m, in \u001b[0;36mmonitor_with_telemetry_mixin.<locals>.monitor.<locals>.wrapper\u001b[1;34m(*args, **kwargs)\u001b[0m\n\u001b[0;32m    <a href='file:///c%3A/users/ayushmishra/workspace/sdk-cli-v2-new/sdk-cli-v2/src/azure-ai-ml/azure/ai/ml/_telemetry/activity.py?line=329'>330</a>\u001b[0m dimensions \u001b[39m=\u001b[39m {\u001b[39m*\u001b[39m\u001b[39m*\u001b[39mparameter_dimensions, \u001b[39m*\u001b[39m\u001b[39m*\u001b[39m(custom_dimensions \u001b[39mor\u001b[39;00m {})}\n\u001b[0;32m    <a href='file:///c%3A/users/ayushmishra/workspace/sdk-cli-v2-new/sdk-cli-v2/src/azure-ai-ml/azure/ai/ml/_telemetry/activity.py?line=330'>331</a>\u001b[0m \u001b[39mwith\u001b[39;00m log_activity(logger, activity_name \u001b[39mor\u001b[39;00m f\u001b[39m.\u001b[39m\u001b[39m__name__\u001b[39m, activity_type, dimensions) \u001b[39mas\u001b[39;00m activityLogger:\n\u001b[1;32m--> <a href='file:///c%3A/users/ayushmishra/workspace/sdk-cli-v2-new/sdk-cli-v2/src/azure-ai-ml/azure/ai/ml/_telemetry/activity.py?line=331'>332</a>\u001b[0m     return_value \u001b[39m=\u001b[39m f(\u001b[39m*\u001b[39margs, \u001b[39m*\u001b[39m\u001b[39m*\u001b[39mkwargs)\n\u001b[0;32m    <a href='file:///c%3A/users/ayushmishra/workspace/sdk-cli-v2-new/sdk-cli-v2/src/azure-ai-ml/azure/ai/ml/_telemetry/activity.py?line=332'>333</a>\u001b[0m     \u001b[39mif\u001b[39;00m \u001b[39mnot\u001b[39;00m parameter_dimensions:\n\u001b[0;32m    <a href='file:///c%3A/users/ayushmishra/workspace/sdk-cli-v2-new/sdk-cli-v2/src/azure-ai-ml/azure/ai/ml/_telemetry/activity.py?line=333'>334</a>\u001b[0m         \u001b[39m# collect from return if no dimensions from parameter\u001b[39;00m\n\u001b[0;32m    <a href='file:///c%3A/users/ayushmishra/workspace/sdk-cli-v2-new/sdk-cli-v2/src/azure-ai-ml/azure/ai/ml/_telemetry/activity.py?line=334'>335</a>\u001b[0m         activityLogger\u001b[39m.\u001b[39mactivity_info\u001b[39m.\u001b[39mupdate(_collect_from_return_value(return_value))\n",
      "File \u001b[1;32mc:\\users\\ayushmishra\\workspace\\sdk-cli-v2-new\\sdk-cli-v2\\src\\azure-ai-ml\\azure\\ai\\ml\\operations\\_job_operations.py:427\u001b[0m, in \u001b[0;36mJobOperations.create_or_update\u001b[1;34m(self, job, description, compute, tags, experiment_name, skip_validation, **kwargs)\u001b[0m\n\u001b[0;32m    <a href='file:///c%3A/users/ayushmishra/workspace/sdk-cli-v2-new/sdk-cli-v2/src/azure-ai-ml/azure/ai/ml/operations/_job_operations.py?line=423'>424</a>\u001b[0m     \u001b[39mself\u001b[39m\u001b[39m.\u001b[39m_validate(job, raise_on_failure\u001b[39m=\u001b[39m\u001b[39mTrue\u001b[39;00m)\n\u001b[0;32m    <a href='file:///c%3A/users/ayushmishra/workspace/sdk-cli-v2-new/sdk-cli-v2/src/azure-ai-ml/azure/ai/ml/operations/_job_operations.py?line=425'>426</a>\u001b[0m \u001b[39m# Create all dependent resources\u001b[39;00m\n\u001b[1;32m--> <a href='file:///c%3A/users/ayushmishra/workspace/sdk-cli-v2-new/sdk-cli-v2/src/azure-ai-ml/azure/ai/ml/operations/_job_operations.py?line=426'>427</a>\u001b[0m \u001b[39mself\u001b[39;49m\u001b[39m.\u001b[39;49m_resolve_arm_id_or_upload_dependencies(job)\n\u001b[0;32m    <a href='file:///c%3A/users/ayushmishra/workspace/sdk-cli-v2-new/sdk-cli-v2/src/azure-ai-ml/azure/ai/ml/operations/_job_operations.py?line=428'>429</a>\u001b[0m git_props \u001b[39m=\u001b[39m get_git_properties()\n\u001b[0;32m    <a href='file:///c%3A/users/ayushmishra/workspace/sdk-cli-v2-new/sdk-cli-v2/src/azure-ai-ml/azure/ai/ml/operations/_job_operations.py?line=429'>430</a>\u001b[0m \u001b[39m# Do not add git props if they already exist in job properties.\u001b[39;00m\n\u001b[0;32m    <a href='file:///c%3A/users/ayushmishra/workspace/sdk-cli-v2-new/sdk-cli-v2/src/azure-ai-ml/azure/ai/ml/operations/_job_operations.py?line=430'>431</a>\u001b[0m \u001b[39m# This is for update specifically-- if the user switches branches and tries to update their job, the request will fail since the git props will be repopulated.\u001b[39;00m\n\u001b[0;32m    <a href='file:///c%3A/users/ayushmishra/workspace/sdk-cli-v2-new/sdk-cli-v2/src/azure-ai-ml/azure/ai/ml/operations/_job_operations.py?line=431'>432</a>\u001b[0m \u001b[39m# MFE does not allow existing properties to be updated, only for new props to be added\u001b[39;00m\n",
      "File \u001b[1;32mc:\\users\\ayushmishra\\workspace\\sdk-cli-v2-new\\sdk-cli-v2\\src\\azure-ai-ml\\azure\\ai\\ml\\operations\\_job_operations.py:748\u001b[0m, in \u001b[0;36mJobOperations._resolve_arm_id_or_upload_dependencies\u001b[1;34m(self, job)\u001b[0m\n\u001b[0;32m    <a href='file:///c%3A/users/ayushmishra/workspace/sdk-cli-v2-new/sdk-cli-v2/src/azure-ai-ml/azure/ai/ml/operations/_job_operations.py?line=745'>746</a>\u001b[0m     \u001b[39mself\u001b[39m\u001b[39m.\u001b[39m_resolve_job_inputs(\u001b[39mmap\u001b[39m(\u001b[39mlambda\u001b[39;00m x: x\u001b[39m.\u001b[39m_data, job\u001b[39m.\u001b[39minputs\u001b[39m.\u001b[39mvalues()), job\u001b[39m.\u001b[39m_base_path)\n\u001b[0;32m    <a href='file:///c%3A/users/ayushmishra/workspace/sdk-cli-v2-new/sdk-cli-v2/src/azure-ai-ml/azure/ai/ml/operations/_job_operations.py?line=746'>747</a>\u001b[0m     \u001b[39mif\u001b[39;00m job\u001b[39m.\u001b[39mjobs:\n\u001b[1;32m--> <a href='file:///c%3A/users/ayushmishra/workspace/sdk-cli-v2-new/sdk-cli-v2/src/azure-ai-ml/azure/ai/ml/operations/_job_operations.py?line=747'>748</a>\u001b[0m         \u001b[39mself\u001b[39;49m\u001b[39m.\u001b[39;49m_component_operations\u001b[39m.\u001b[39;49m_resolve_inputs_for_pipeline_component_jobs(job\u001b[39m.\u001b[39;49mjobs, job\u001b[39m.\u001b[39;49mbase_path)\n\u001b[0;32m    <a href='file:///c%3A/users/ayushmishra/workspace/sdk-cli-v2-new/sdk-cli-v2/src/azure-ai-ml/azure/ai/ml/operations/_job_operations.py?line=748'>749</a>\u001b[0m \u001b[39melif\u001b[39;00m \u001b[39misinstance\u001b[39m(job, AutoMLJob):\n\u001b[0;32m    <a href='file:///c%3A/users/ayushmishra/workspace/sdk-cli-v2-new/sdk-cli-v2/src/azure-ai-ml/azure/ai/ml/operations/_job_operations.py?line=749'>750</a>\u001b[0m     \u001b[39mself\u001b[39m\u001b[39m.\u001b[39m_resolve_automl_job_inputs(job, job\u001b[39m.\u001b[39m_base_path, inside_pipeline\u001b[39m=\u001b[39m\u001b[39mFalse\u001b[39;00m)\n",
      "File \u001b[1;32mc:\\users\\ayushmishra\\workspace\\sdk-cli-v2-new\\sdk-cli-v2\\src\\azure-ai-ml\\azure\\ai\\ml\\operations\\_component_operations.py:455\u001b[0m, in \u001b[0;36mComponentOperations._resolve_inputs_for_pipeline_component_jobs\u001b[1;34m(self, jobs, base_path)\u001b[0m\n\u001b[0;32m    <a href='file:///c%3A/users/ayushmishra/workspace/sdk-cli-v2-new/sdk-cli-v2/src/azure-ai-ml/azure/ai/ml/operations/_component_operations.py?line=449'>450</a>\u001b[0m     \u001b[39mself\u001b[39m\u001b[39m.\u001b[39m_job_operations\u001b[39m.\u001b[39m_resolve_job_inputs(\n\u001b[0;32m    <a href='file:///c%3A/users/ayushmishra/workspace/sdk-cli-v2-new/sdk-cli-v2/src/azure-ai-ml/azure/ai/ml/operations/_component_operations.py?line=450'>451</a>\u001b[0m         \u001b[39mmap\u001b[39m(\u001b[39mlambda\u001b[39;00m x: x\u001b[39m.\u001b[39m_data, node\u001b[39m.\u001b[39minputs\u001b[39m.\u001b[39mvalues()),\n\u001b[0;32m    <a href='file:///c%3A/users/ayushmishra/workspace/sdk-cli-v2-new/sdk-cli-v2/src/azure-ai-ml/azure/ai/ml/operations/_component_operations.py?line=451'>452</a>\u001b[0m         base_path,\n\u001b[0;32m    <a href='file:///c%3A/users/ayushmishra/workspace/sdk-cli-v2-new/sdk-cli-v2/src/azure-ai-ml/azure/ai/ml/operations/_component_operations.py?line=452'>453</a>\u001b[0m     )\n\u001b[0;32m    <a href='file:///c%3A/users/ayushmishra/workspace/sdk-cli-v2-new/sdk-cli-v2/src/azure-ai-ml/azure/ai/ml/operations/_component_operations.py?line=453'>454</a>\u001b[0m \u001b[39melif\u001b[39;00m \u001b[39misinstance\u001b[39m(job_instance, AutoMLJob):\n\u001b[1;32m--> <a href='file:///c%3A/users/ayushmishra/workspace/sdk-cli-v2-new/sdk-cli-v2/src/azure-ai-ml/azure/ai/ml/operations/_component_operations.py?line=454'>455</a>\u001b[0m     \u001b[39mself\u001b[39;49m\u001b[39m.\u001b[39;49m_job_operations\u001b[39m.\u001b[39;49m_resolve_automl_job_inputs(job_instance, base_path, inside_pipeline\u001b[39m=\u001b[39;49m\u001b[39mTrue\u001b[39;49;00m)\n",
      "File \u001b[1;32mc:\\users\\ayushmishra\\workspace\\sdk-cli-v2-new\\sdk-cli-v2\\src\\azure-ai-ml\\azure\\ai\\ml\\operations\\_job_operations.py:803\u001b[0m, in \u001b[0;36mJobOperations._resolve_automl_job_inputs\u001b[1;34m(self, job, base_path, inside_pipeline)\u001b[0m\n\u001b[0;32m    <a href='file:///c%3A/users/ayushmishra/workspace/sdk-cli-v2-new/sdk-cli-v2/src/azure-ai-ml/azure/ai/ml/operations/_job_operations.py?line=796'>797</a>\u001b[0m \u001b[39m\"\"\"This method resolves the inputs for AutoML jobs.\u001b[39;00m\n\u001b[0;32m    <a href='file:///c%3A/users/ayushmishra/workspace/sdk-cli-v2-new/sdk-cli-v2/src/azure-ai-ml/azure/ai/ml/operations/_job_operations.py?line=797'>798</a>\u001b[0m \n\u001b[0;32m    <a href='file:///c%3A/users/ayushmishra/workspace/sdk-cli-v2-new/sdk-cli-v2/src/azure-ai-ml/azure/ai/ml/operations/_job_operations.py?line=798'>799</a>\u001b[0m \u001b[39m:param job: the job resource entity\u001b[39;00m\n\u001b[0;32m    <a href='file:///c%3A/users/ayushmishra/workspace/sdk-cli-v2-new/sdk-cli-v2/src/azure-ai-ml/azure/ai/ml/operations/_job_operations.py?line=799'>800</a>\u001b[0m \u001b[39m:type job: AutoMLJob\u001b[39;00m\n\u001b[0;32m    <a href='file:///c%3A/users/ayushmishra/workspace/sdk-cli-v2-new/sdk-cli-v2/src/azure-ai-ml/azure/ai/ml/operations/_job_operations.py?line=800'>801</a>\u001b[0m \u001b[39m\"\"\"\u001b[39;00m\n\u001b[0;32m    <a href='file:///c%3A/users/ayushmishra/workspace/sdk-cli-v2-new/sdk-cli-v2/src/azure-ai-ml/azure/ai/ml/operations/_job_operations.py?line=801'>802</a>\u001b[0m \u001b[39mif\u001b[39;00m \u001b[39misinstance\u001b[39m(job, AutoMLJob):\n\u001b[1;32m--> <a href='file:///c%3A/users/ayushmishra/workspace/sdk-cli-v2-new/sdk-cli-v2/src/azure-ai-ml/azure/ai/ml/operations/_job_operations.py?line=802'>803</a>\u001b[0m     \u001b[39mself\u001b[39;49m\u001b[39m.\u001b[39;49m_resolve_job_input(job\u001b[39m.\u001b[39;49mtraining_data, job\u001b[39m.\u001b[39;49m_base_path)\n\u001b[0;32m    <a href='file:///c%3A/users/ayushmishra/workspace/sdk-cli-v2-new/sdk-cli-v2/src/azure-ai-ml/azure/ai/ml/operations/_job_operations.py?line=803'>804</a>\u001b[0m     \u001b[39mif\u001b[39;00m job\u001b[39m.\u001b[39mvalidation_data:\n\u001b[0;32m    <a href='file:///c%3A/users/ayushmishra/workspace/sdk-cli-v2-new/sdk-cli-v2/src/azure-ai-ml/azure/ai/ml/operations/_job_operations.py?line=804'>805</a>\u001b[0m         \u001b[39mself\u001b[39m\u001b[39m.\u001b[39m_resolve_job_input(job\u001b[39m.\u001b[39mvalidation_data, job\u001b[39m.\u001b[39m_base_path)\n",
      "File \u001b[1;32mc:\\users\\ayushmishra\\workspace\\sdk-cli-v2-new\\sdk-cli-v2\\src\\azure-ai-ml\\azure\\ai\\ml\\operations\\_job_operations.py:915\u001b[0m, in \u001b[0;36mJobOperations._resolve_job_input\u001b[1;34m(self, entry, base_path)\u001b[0m\n\u001b[0;32m    <a href='file:///c%3A/users/ayushmishra/workspace/sdk-cli-v2-new/sdk-cli-v2/src/azure-ai-ml/azure/ai/ml/operations/_job_operations.py?line=912'>913</a>\u001b[0m             entry\u001b[39m.\u001b[39mpath \u001b[39m=\u001b[39m entry\u001b[39m.\u001b[39mpath \u001b[39m+\u001b[39m \u001b[39m\"\u001b[39m\u001b[39m/\u001b[39m\u001b[39m\"\u001b[39m\n\u001b[0;32m    <a href='file:///c%3A/users/ayushmishra/workspace/sdk-cli-v2-new/sdk-cli-v2/src/azure-ai-ml/azure/ai/ml/operations/_job_operations.py?line=913'>914</a>\u001b[0m \u001b[39mexcept\u001b[39;00m \u001b[39mException\u001b[39;00m \u001b[39mas\u001b[39;00m e:\n\u001b[1;32m--> <a href='file:///c%3A/users/ayushmishra/workspace/sdk-cli-v2-new/sdk-cli-v2/src/azure-ai-ml/azure/ai/ml/operations/_job_operations.py?line=914'>915</a>\u001b[0m     \u001b[39mraise\u001b[39;00m JobException(\n\u001b[0;32m    <a href='file:///c%3A/users/ayushmishra/workspace/sdk-cli-v2-new/sdk-cli-v2/src/azure-ai-ml/azure/ai/ml/operations/_job_operations.py?line=915'>916</a>\u001b[0m         message\u001b[39m=\u001b[39m\u001b[39mf\u001b[39m\u001b[39m\"\u001b[39m\u001b[39mSupported input path value are ARM id, AzureML id, remote uri or local path.\u001b[39m\u001b[39m\\n\u001b[39;00m\u001b[39m\"\u001b[39m\n\u001b[0;32m    <a href='file:///c%3A/users/ayushmishra/workspace/sdk-cli-v2-new/sdk-cli-v2/src/azure-ai-ml/azure/ai/ml/operations/_job_operations.py?line=916'>917</a>\u001b[0m         \u001b[39mf\u001b[39m\u001b[39m\"\u001b[39m\u001b[39mMet \u001b[39m\u001b[39m{\u001b[39;00m\u001b[39mtype\u001b[39m(e)\u001b[39m}\u001b[39;00m\u001b[39m:\u001b[39m\u001b[39m\\n\u001b[39;00m\u001b[39m{\u001b[39;00me\u001b[39m}\u001b[39;00m\u001b[39m\"\u001b[39m,\n\u001b[0;32m    <a href='file:///c%3A/users/ayushmishra/workspace/sdk-cli-v2-new/sdk-cli-v2/src/azure-ai-ml/azure/ai/ml/operations/_job_operations.py?line=917'>918</a>\u001b[0m         target\u001b[39m=\u001b[39mErrorTarget\u001b[39m.\u001b[39mJOB,\n\u001b[0;32m    <a href='file:///c%3A/users/ayushmishra/workspace/sdk-cli-v2-new/sdk-cli-v2/src/azure-ai-ml/azure/ai/ml/operations/_job_operations.py?line=918'>919</a>\u001b[0m         no_personal_data_message\u001b[39m=\u001b[39m\u001b[39m\"\u001b[39m\u001b[39mSupported input path value are ARM id, AzureML id, remote uri or local path.\u001b[39m\u001b[39m\"\u001b[39m,\n\u001b[0;32m    <a href='file:///c%3A/users/ayushmishra/workspace/sdk-cli-v2-new/sdk-cli-v2/src/azure-ai-ml/azure/ai/ml/operations/_job_operations.py?line=919'>920</a>\u001b[0m         error\u001b[39m=\u001b[39me,\n\u001b[0;32m    <a href='file:///c%3A/users/ayushmishra/workspace/sdk-cli-v2-new/sdk-cli-v2/src/azure-ai-ml/azure/ai/ml/operations/_job_operations.py?line=920'>921</a>\u001b[0m         error_category\u001b[39m=\u001b[39mErrorCategory\u001b[39m.\u001b[39mUSER_ERROR,\n\u001b[0;32m    <a href='file:///c%3A/users/ayushmishra/workspace/sdk-cli-v2-new/sdk-cli-v2/src/azure-ai-ml/azure/ai/ml/operations/_job_operations.py?line=921'>922</a>\u001b[0m     )\n",
      "\u001b[1;31mJobException\u001b[0m: Supported input path value are ARM id, AzureML id, remote uri or local path.\nMet <class 'azure.ai.ml._ml_exceptions.ValidationException'>:\nNo such file or directory: C:\\Users\\ayushmishra\\workspace\\azureml-examples\\sdk\\jobs\\pipelines\\1h_automl_in_pipeline\\automl-regression-house-pricing-in-pipeline\\{{copy_component.outputs.train_data}}\\MLTable"
     ]
    }
   ],
   "source": [
    "# submit the pipeline job\n",
    "pipeline_job = ml_client.jobs.create_or_update(\n",
    "    pipeline_regression, experiment_name=\"pipeline_samples\"\n",
    ")\n",
    "pipeline_job"
   ]
  },
  {
   "cell_type": "code",
   "execution_count": null,
   "metadata": {},
   "outputs": [],
   "source": [
    "# Wait until the job completes\n",
    "ml_client.jobs.stream(pipeline_job.name)"
   ]
  },
  {
   "cell_type": "markdown",
   "metadata": {},
   "source": [
    "# Next Steps\n",
    "You can see further examples of running a pipeline job [here](../)"
   ]
  }
 ],
 "metadata": {
  "description": {
   "description": "Create pipeline with automl node"
  },
  "kernelspec": {
   "display_name": "Python 3.10.0 ('sdk-cli-v2')",
   "language": "python",
   "name": "python3"
  },
  "language_info": {
   "codemirror_mode": {
    "name": "ipython",
    "version": 3
   },
   "file_extension": ".py",
   "mimetype": "text/x-python",
   "name": "python",
   "nbconvert_exporter": "python",
   "pygments_lexer": "ipython3",
   "version": "3.10.4"
  },
  "vscode": {
   "interpreter": {
    "hash": "c8b460ceac8e800778f31ce93ea472d62385502baa28f64e7ac3023280a461ed"
   }
  }
 },
 "nbformat": 4,
 "nbformat_minor": 4
}
