{
 "cells": [
  {
   "cell_type": "markdown",
   "metadata": {},
   "source": [
    "# AutoML TextNer in pipeline\n",
    "\n",
    "**Requirements** - In order to benefit from this tutorial, you will need:\n",
    "- A basic understanding of Machine Learning\n",
    "- An Azure account with an active subscription - [Create an account for free](https://azure.microsoft.com/free/?WT.mc_id=A261C142F)\n",
    "- An Azure ML workspace with computer cluster - [Configure workspace](../../configuration.ipynb)\n",
    "- A python environment\n",
    "- Installed Azure Machine Learning Python SDK v2 - [install instructions](../../../README.md) - check the getting started section\n",
    "\n",
    "**Learning Objectives** - By the end of this tutorial, you should be able to:\n",
    "- Create a pipeline with TextNer AutoML task.\n",
    "\n",
    "**Motivations** - This notebook explains how to use TextNer AutoML task inside pipeline."
   ]
  },
  {
   "cell_type": "markdown",
   "metadata": {},
   "source": [
    "# 1. Connect to Azure Machine Learning Workspace\n",
    "\n",
    "The [workspace](https://docs.microsoft.com/en-us/azure/machine-learning/concept-workspace) is the top-level resource for Azure Machine Learning, providing a centralized place to work with all the artifacts you create when you use Azure Machine Learning. In this section we will connect to the workspace in which the job will be run.\n",
    "\n",
    "## 1.1 Import the required libraries"
   ]
  },
  {
   "cell_type": "code",
   "execution_count": 1,
   "metadata": {},
   "outputs": [],
   "source": [
    "# import required libraries\n",
    "from azure.identity import DefaultAzureCredential, InteractiveBrowserCredential\n",
    "\n",
    "from azure.ml import MLClient, dsl, Input, command, Output\n",
    "from azure.ml.automl import text_ner"
   ]
  },
  {
   "cell_type": "markdown",
   "metadata": {},
   "source": [
    "## 1.2 Configure credential\n",
    "\n",
    "We are using `DefaultAzureCredential` to get access to workspace. \n",
    "`DefaultAzureCredential` should be capable of handling most Azure SDK authentication scenarios. \n",
    "\n",
    "Reference for more available credentials if it does not work for you: [configure credential example](../../configuration.ipynb), [azure-identity reference doc](https://docs.microsoft.com/en-us/python/api/azure-identity/azure.identity?view=azure-python)."
   ]
  },
  {
   "cell_type": "code",
   "execution_count": 2,
   "metadata": {},
   "outputs": [
    {
     "name": "stderr",
     "output_type": "stream",
     "text": [
      "DefaultAzureCredential failed to retrieve a token from the included credentials.\n",
      "Attempted credentials:\n",
      "\tEnvironmentCredential: EnvironmentCredential authentication unavailable. Environment variables are not fully configured.\n",
      "Visit https://aka.ms/azsdk/python/identity/environmentcredential/troubleshoot to troubleshoot.this issue.\n",
      "\tManagedIdentityCredential: ManagedIdentityCredential authentication unavailable, no response from the IMDS endpoint.\n",
      "\tSharedTokenCacheCredential: SharedTokenCacheCredential authentication unavailable. No accounts were found in the cache.\n",
      "\tVisualStudioCodeCredential: Failed to get Azure user details from Visual Studio Code.\n",
      "\tAzureCliCredential: Traceback (most recent call last):\n",
      "  File \"C:\\Users\\ayushmishra\\Miniconda3\\envs\\sdk-cli-v2\\lib\\runpy.py\", line 193, in _run_module_as_main\n",
      "    \"__main__\", mod_spec)\n",
      "  File \"C:\\Users\\ayushmishra\\Miniconda3\\envs\\sdk-cli-v2\\lib\\runpy.py\", line 85, in _run_code\n",
      "    exec(code, run_globals)\n",
      "  File \"c:\\users\\ayushmishra\\workspace\\sdk-cli-v2\\azure-cli\\src\\azure-cli\\azure\\cli\\__main__.py\", line 14, in <module>\n",
      "    from azure.cli.core import telemetry\n",
      "  File \"c:\\users\\ayushmishra\\workspace\\sdk-cli-v2\\azure-cli\\src\\azure-cli-core\\azure\\cli\\core\\__init__.py\", line 13, in <module>\n",
      "    from knack.cli import CLI\n",
      "  File \"C:\\Users\\ayushmishra\\Miniconda3\\envs\\sdk-cli-v2\\lib\\site-packages\\knack\\__init__.py\", line 8, in <module>\n",
      "    from knack.cli import CLI\n",
      "  File \"C:\\Users\\ayushmishra\\Miniconda3\\envs\\sdk-cli-v2\\lib\\site-packages\\knack\\cli.py\", line 11, in <module>\n",
      "    from .completion import CLICompletion\n",
      "  File \"C:\\Users\\ayushmishra\\Miniconda3\\envs\\sdk-cli-v2\\lib\\site-packages\\knack\\completion.py\", line 7, in <module>\n",
      "    import argcomplete\n",
      "ModuleNotFoundError: No module named 'argcomplete'\n",
      "\n",
      "To mitigate this issue, please refer to the troubleshooting guidelines here at https://aka.ms/azsdk/python/identity/defaultazurecredential/troubleshoot.\n"
     ]
    }
   ],
   "source": [
    "try:\n",
    "    credential = DefaultAzureCredential()\n",
    "    # Check if given credential can get token successfully.\n",
    "    credential.get_token(\"https://management.azure.com/.default\")\n",
    "except Exception as ex:\n",
    "    # Fall back to InteractiveBrowserCredential in case DefaultAzureCredential not work\n",
    "    credential = InteractiveBrowserCredential()"
   ]
  },
  {
   "cell_type": "markdown",
   "metadata": {},
   "source": [
    "## 1.3 Get a handle to the workspace\n",
    "\n",
    "We use config file to connect to a workspace. The Azure ML workspace should be configured with computer cluster. [Check this notebook for configure a workspace](../../configuration.ipynb)"
   ]
  },
  {
   "cell_type": "code",
   "execution_count": 3,
   "metadata": {},
   "outputs": [
    {
     "name": "stderr",
     "output_type": "stream",
     "text": [
      "Found the config file in: c:\\Users\\ayushmishra\\workspace\\azureml-examples\\.azureml\\config.json\n"
     ]
    },
    {
     "name": "stdout",
     "output_type": "stream",
     "text": [
      "AmlCompute({'type': 'amlcompute', 'created_on': None, 'provisioning_state': 'Succeeded', 'provisioning_errors': None, 'name': 'gpu-cluster', 'description': None, 'tags': {}, 'properties': {}, 'id': '/subscriptions/381b38e9-9840-4719-a5a0-61d9585e1e91/resourceGroups/ayush_mishra_res01/providers/Microsoft.MachineLearningServices/workspaces/ayushmishra-central-useuap-ws/computes/gpu-cluster', 'base_path': './', 'creation_context': None, 'serialize': <msrest.serialization.Serializer object at 0x000001CE6BAAE2E8>, 'resource_id': None, 'location': 'centraluseuap', 'size': 'STANDARD_NC6', 'min_instances': 0, 'max_instances': 4, 'idle_time_before_scale_down': 120.0, 'identity': None, 'ssh_public_access_enabled': True, 'ssh_settings': None, 'network_settings': None, 'tier': 'dedicated'})\n"
     ]
    }
   ],
   "source": [
    "# Get a handle to workspace\n",
    "ml_client = MLClient.from_config(credential=credential)\n",
    "\n",
    "# Retrieve an already attached Azure Machine Learning Compute.\n",
    "cluster_name = \"gpu-cluster\"\n",
    "print(ml_client.compute.get(cluster_name))"
   ]
  },
  {
   "cell_type": "markdown",
   "metadata": {},
   "source": [
    "# 2. Basic pipeline job with TextNer task\n",
    "\n",
    "## 2.1 Build pipeline"
   ]
  },
  {
   "cell_type": "code",
   "execution_count": 4,
   "metadata": {},
   "outputs": [],
   "source": [
    "# note that the used docker image doesn't suit for all size of gpu compute. Please use the following command to create gpu compute if experiment failed\n",
    "# !az ml compute create -n gpu-cluster --type amlcompute --min-instances 0 --max-instances 4 --size Standard_NC12"
   ]
  },
  {
   "cell_type": "code",
   "execution_count": 10,
   "metadata": {},
   "outputs": [],
   "source": [
    "# Define pipeline\n",
    "@dsl.pipeline(\n",
    "    description=\"AutoML TextNer Pipeline\",\n",
    "    default_compute=\"gpu-cluster\",\n",
    ")\n",
    "def automl_text_ner(\n",
    "    text_ner_train_data,\n",
    "    text_ner_validation_data\n",
    "):\n",
    "    # define the automl text_ner task with automl function\n",
    "    text_ner_node = text_ner(\n",
    "        training_data=text_ner_train_data,\n",
    "        validation_data=text_ner_validation_data,\n",
    "        primary_metric=\"accuracy\",\n",
    "        target_column_name=\"xxxxx\",  # REMOVE: This should be optional (BUG:1721836)\n",
    "        # currently need to specify outputs \"mlflow_model\" explictly to reference it in following nodes \n",
    "        outputs={\"best_model\": Output(type=\"mlflow_model\")},\n",
    "    )\n",
    "    text_ner_node.set_limits(timeout_minutes=120)\n",
    "\n",
    "    command_func = command(\n",
    "        inputs=dict(\n",
    "            automl_output=Input(type=\"mlflow_model\")\n",
    "        ),\n",
    "        command=\"ls ${{inputs.automl_output}}\",\n",
    "        environment=\"AzureML-sklearn-0.24-ubuntu18.04-py37-cpu:1\"\n",
    "    )\n",
    "    show_output = command_func(automl_output=text_ner_node.outputs.best_model)\n",
    "\n",
    "\n",
    "\n",
    "data_folder = \"../../automl-standalone-jobs/automl-nlp-text-named-entity-recognition-task\"\n",
    "pipeline = automl_text_ner(\n",
    "    text_ner_train_data=Input(path=f\"{data_folder}/training-mltable-folder/\", type=\"mltable\"),\n",
    "    text_ner_validation_data=Input(path=f\"{data_folder}/validation-mltable-folder/\", type=\"mltable\"),\n",
    ")"
   ]
  },
  {
   "cell_type": "markdown",
   "metadata": {},
   "source": [
    "# 2.2 Submit pipeline job"
   ]
  },
  {
   "cell_type": "code",
   "execution_count": 11,
   "metadata": {},
   "outputs": [
    {
     "name": "stderr",
     "output_type": "stream",
     "text": [
      "\u001b[32mUploading training-mltable-folder (0.09 MBs): 100%|##########| 87948/87948 [00:01<00:00, 47303.79it/s]\n",
      "\u001b[39m\n",
      "\n",
      "\u001b[32mUploading validation-mltable-folder (0.09 MBs): 100%|##########| 85726/85726 [00:01<00:00, 53394.85it/s]\n",
      "\u001b[39m\n",
      "\n"
     ]
    },
    {
     "data": {
      "text/html": [
       "<table style=\"width:100%\"><tr><th>Experiment</th><th>Name</th><th>Type</th><th>Status</th><th>Details Page</th></tr><tr><td>pipeline_samples</td><td>joyful_drawer_d4lq9x0rsk</td><td>pipeline</td><td>Preparing</td><td><a href=\"https://ml.azure.com/runs/joyful_drawer_d4lq9x0rsk?wsid=/subscriptions/381b38e9-9840-4719-a5a0-61d9585e1e91/resourcegroups/ayush_mishra_res01/workspaces/ayushmishra-central-useuap-ws&amp;tid=72f988bf-86f1-41af-91ab-2d7cd011db47\" target=\"_blank\" rel=\"noopener\">Link to Azure Machine Learning studio</a></td></tr></table>"
      ],
      "text/plain": [
       "PipelineJob({'inputs': {'text_ner_train_data': <azure.ml.entities._job.pipeline._io.PipelineInput object at 0x000001CE6DC1DA90>, 'text_ner_validation_data': <azure.ml.entities._job.pipeline._io.PipelineInput object at 0x000001CE6DC1D358>}, 'outputs': {}, 'component': _PipelineComponent({'components': {}, 'auto_increment_version': False, 'is_anonymous': True, 'name': '7d6793a9-6237-47c9-aeac-6127c37b580a', 'description': None, 'tags': {}, 'properties': {}, 'id': None, 'base_path': None, 'creation_context': None, 'serialize': <msrest.serialization.Serializer object at 0x000001CE6DC1D7F0>, 'version': '1', 'latest_version': None, 'schema': None, 'type': 'pipeline_component', 'display_name': 'automl_text_ner', 'is_deterministic': True, 'inputs': {}, 'outputs': {}, 'yaml_str': None, 'other_parameter': {}, 'func': <function [component] automl_text_ner at 0x000001CE6DC1AE18>}), 'display_name': 'automl_text_ner', 'type': 'pipeline', 'status': 'Preparing', 'log_files': None, 'name': 'joyful_drawer_d4lq9x0rsk', 'description': None, 'tags': {}, 'properties': {'mlflow.source.git.repoURL': 'git@github.com:Azure/azureml-examples.git', 'mlflow.source.git.branch': 'ayushmishra/add_nlp_in_pipeline_cli_examples', 'mlflow.source.git.commit': '6526b7f4d520c2727a245b9c5042ba71ebdfc072', 'azureml.git.dirty': 'True', 'azureml.runsource': 'azureml.PipelineRun', 'runSource': 'SDKv2', 'runType': 'HTTP', 'azureml.parameters': '{}', 'azureml.continue_on_step_failure': 'False', 'azureml.enforceRerun': 'False', 'azureml.pipelineComponent': 'pipelinerun'}, 'id': '/subscriptions/381b38e9-9840-4719-a5a0-61d9585e1e91/resourceGroups/ayush_mishra_res01/providers/Microsoft.MachineLearningServices/workspaces/ayushmishra-central-useuap-ws/jobs/joyful_drawer_d4lq9x0rsk', 'base_path': './', 'creation_context': <azure.ml._restclient.v2022_02_01_preview.models._models_py3.SystemData object at 0x000001CE6DC2E0F0>, 'serialize': <msrest.serialization.Serializer object at 0x000001CE6DC1D2E8>, 'experiment_name': 'pipeline_samples', 'compute': 'gpu-cluster', 'services': {'Tracking': <azure.ml._restclient.v2022_02_01_preview.models._models_py3.JobService object at 0x000001CE6DC2E7B8>, 'Studio': <azure.ml._restclient.v2022_02_01_preview.models._models_py3.JobService object at 0x000001CE6DC2E438>}, 'jobs': {'text_ner_node': TextNerJob({'task_type': <TaskType.TEXT_NER: 'TextNER'>, 'environment_id': None, 'environment_variables': None, 'outputs': {'best_model': {'type': 'mlflow_model', 'mode': 'rw_mount'}}, 'display_name': 'eabc4c12-f805-45dd-9dd5-d004b990a620', 'type': 'automl', 'status': None, 'log_files': None, 'name': 'text-ner-node', 'description': None, 'tags': {}, 'properties': {'_automl_internal_label': 'latest', '_automl_internal_save_mlflow': 'true'}, 'id': None, 'base_path': './', 'creation_context': None, 'serialize': <msrest.serialization.Serializer object at 0x000001CE6DC1DAC8>, 'inputs': {}, 'experiment_name': '1h_automl_in_pipeline', 'compute': None, 'services': None, 'resources': None, 'log_verbosity': None, 'primary_metric': <ClassificationPrimaryMetrics.ACCURACY: 'Accuracy'>, 'target_column_name': 'xxxxx', 'training_data': '${{parent.inputs.text_ner_train_data}}', 'validation_data': '${{parent.inputs.text_ner_validation_data}}', 'data': <azure.ml._restclient.v2022_02_01_preview.models._models_py3.NlpVerticalDataSettings object at 0x000001CE6DC1DA20>, 'limits': <azure.ml.entities._job.automl.nlp.nlp_limit_settings.NlpLimitSettings object at 0x000001CE6DC1DB38>, 'featurization': None}), 'show_output': {}}, 'settings': <azure.ml.entities._job.pipeline.pipeline_job_settings.PipelineJobSettings object at 0x000001CE6DC2EBA8>, 'identity': None, 'schedule': None, 'default_code': None, 'default_environment': None})"
      ]
     },
     "execution_count": 11,
     "metadata": {},
     "output_type": "execute_result"
    }
   ],
   "source": [
    "# submit the pipeline job\n",
    "pipeline_job = ml_client.jobs.create_or_update(\n",
    "    pipeline, experiment_name=\"pipeline_samples\"\n",
    ")\n",
    "pipeline_job"
   ]
  },
  {
   "cell_type": "code",
   "execution_count": 9,
   "metadata": {},
   "outputs": [
    {
     "name": "stdout",
     "output_type": "stream",
     "text": [
      "RunId: sleepy_lunch_5v50qd2z7x\n",
      "Web View: https://ml.azure.com/runs/sleepy_lunch_5v50qd2z7x?wsid=/subscriptions/381b38e9-9840-4719-a5a0-61d9585e1e91/resourcegroups/ayush_mishra_res01/workspaces/ayushmishra-central-useuap-ws\n",
      "\n",
      "Streaming logs/azureml/executionlogs.txt\n",
      "========================================\n",
      "\n",
      "[2022-05-10 06:58:32Z] Submitting 1 runs, first five are: 72e8280f:96751695-f0c0-47d9-9e02-56dc2cd45c60\n"
     ]
    },
    {
     "ename": "JobException",
     "evalue": "The output streaming for the run interrupted.\nBut the run is still executing on the compute target. \nDetails for canceling the run can be found here: https://aka.ms/aml-docs-cancel-run",
     "output_type": "error",
     "traceback": [
      "\u001b[1;31m---------------------------------------------------------------------------\u001b[0m",
      "\u001b[1;31mKeyboardInterrupt\u001b[0m                         Traceback (most recent call last)",
      "\u001b[1;32mc:\\users\\ayushmishra\\workspace\\sdk-cli-v2\\src\\azure-ml\\azure\\ml\\_operations\\job_ops_helper.py\u001b[0m in \u001b[0;36mstream_logs_until_completion\u001b[1;34m(run_operations, job_resource, datastore_operations, raise_exception_on_failed_job)\u001b[0m\n\u001b[0;32m    226\u001b[0m             \u001b[0mfile_handle\u001b[0m\u001b[1;33m.\u001b[0m\u001b[0mflush\u001b[0m\u001b[1;33m(\u001b[0m\u001b[1;33m)\u001b[0m\u001b[1;33m\u001b[0m\u001b[0m\n\u001b[1;32m--> 227\u001b[1;33m             \u001b[0mtime\u001b[0m\u001b[1;33m.\u001b[0m\u001b[0msleep\u001b[0m\u001b[1;33m(\u001b[0m\u001b[0m_wait_before_polling\u001b[0m\u001b[1;33m(\u001b[0m\u001b[0mtime\u001b[0m\u001b[1;33m.\u001b[0m\u001b[0mtime\u001b[0m\u001b[1;33m(\u001b[0m\u001b[1;33m)\u001b[0m \u001b[1;33m-\u001b[0m \u001b[0mpoll_start_time\u001b[0m\u001b[1;33m)\u001b[0m\u001b[1;33m)\u001b[0m\u001b[1;33m\u001b[0m\u001b[0m\n\u001b[0m\u001b[0;32m    228\u001b[0m             \u001b[0m_current_details\u001b[0m\u001b[1;33m:\u001b[0m \u001b[0mRunDetails\u001b[0m \u001b[1;33m=\u001b[0m \u001b[0mrun_operations\u001b[0m\u001b[1;33m.\u001b[0m\u001b[0mget_run_details\u001b[0m\u001b[1;33m(\u001b[0m\u001b[0mjob_name\u001b[0m\u001b[1;33m)\u001b[0m  \u001b[1;31m# TODO use FileWatcher\u001b[0m\u001b[1;33m\u001b[0m\u001b[0m\n",
      "\u001b[1;31mKeyboardInterrupt\u001b[0m: ",
      "\nDuring handling of the above exception, another exception occurred:\n",
      "\u001b[1;31mJobException\u001b[0m                              Traceback (most recent call last)",
      "\u001b[1;32m~\\AppData\\Local\\Temp\\ipykernel_104784\\1593724938.py\u001b[0m in \u001b[0;36m<module>\u001b[1;34m\u001b[0m\n\u001b[0;32m      1\u001b[0m \u001b[1;31m# Wait until the job completes\u001b[0m\u001b[1;33m\u001b[0m\u001b[1;33m\u001b[0m\u001b[0m\n\u001b[1;32m----> 2\u001b[1;33m \u001b[0mml_client\u001b[0m\u001b[1;33m.\u001b[0m\u001b[0mjobs\u001b[0m\u001b[1;33m.\u001b[0m\u001b[0mstream\u001b[0m\u001b[1;33m(\u001b[0m\u001b[0mpipeline_job\u001b[0m\u001b[1;33m.\u001b[0m\u001b[0mname\u001b[0m\u001b[1;33m)\u001b[0m\u001b[1;33m\u001b[0m\u001b[0m\n\u001b[0m",
      "\u001b[1;32mc:\\users\\ayushmishra\\workspace\\sdk-cli-v2\\src\\azure-ml\\azure\\ml\\_telemetry\\activity.py\u001b[0m in \u001b[0;36mwrapper\u001b[1;34m(*args, **kwargs)\u001b[0m\n\u001b[0;32m    166\u001b[0m         \u001b[1;32mdef\u001b[0m \u001b[0mwrapper\u001b[0m\u001b[1;33m(\u001b[0m\u001b[1;33m*\u001b[0m\u001b[0margs\u001b[0m\u001b[1;33m,\u001b[0m \u001b[1;33m**\u001b[0m\u001b[0mkwargs\u001b[0m\u001b[1;33m)\u001b[0m\u001b[1;33m:\u001b[0m\u001b[1;33m\u001b[0m\u001b[0m\n\u001b[0;32m    167\u001b[0m             \u001b[1;32mwith\u001b[0m \u001b[0mlog_activity\u001b[0m\u001b[1;33m(\u001b[0m\u001b[0mlogger\u001b[0m\u001b[1;33m,\u001b[0m \u001b[0mactivity_name\u001b[0m \u001b[1;32mor\u001b[0m \u001b[0mf\u001b[0m\u001b[1;33m.\u001b[0m\u001b[0m__name__\u001b[0m\u001b[1;33m,\u001b[0m \u001b[0mactivity_type\u001b[0m\u001b[1;33m,\u001b[0m \u001b[0mcustom_dimensions\u001b[0m\u001b[1;33m)\u001b[0m\u001b[1;33m:\u001b[0m\u001b[1;33m\u001b[0m\u001b[0m\n\u001b[1;32m--> 168\u001b[1;33m                 \u001b[1;32mreturn\u001b[0m \u001b[0mf\u001b[0m\u001b[1;33m(\u001b[0m\u001b[1;33m*\u001b[0m\u001b[0margs\u001b[0m\u001b[1;33m,\u001b[0m \u001b[1;33m**\u001b[0m\u001b[0mkwargs\u001b[0m\u001b[1;33m)\u001b[0m\u001b[1;33m\u001b[0m\u001b[0m\n\u001b[0m\u001b[0;32m    169\u001b[0m \u001b[1;33m\u001b[0m\u001b[0m\n\u001b[0;32m    170\u001b[0m         \u001b[1;32mreturn\u001b[0m \u001b[0mwrapper\u001b[0m\u001b[1;33m\u001b[0m\u001b[0m\n",
      "\u001b[1;32mc:\\users\\ayushmishra\\workspace\\sdk-cli-v2\\src\\azure-ml\\azure\\ml\\_operations\\job_operations.py\u001b[0m in \u001b[0;36mstream\u001b[1;34m(self, name)\u001b[0m\n\u001b[0;32m    459\u001b[0m                 \u001b[0mself\u001b[0m\u001b[1;33m.\u001b[0m\u001b[0m_runs_operations\u001b[0m\u001b[1;33m,\u001b[0m\u001b[1;33m\u001b[0m\u001b[0m\n\u001b[0;32m    460\u001b[0m                 \u001b[0mjob_object\u001b[0m\u001b[1;33m,\u001b[0m\u001b[1;33m\u001b[0m\u001b[0m\n\u001b[1;32m--> 461\u001b[1;33m                 \u001b[0mself\u001b[0m\u001b[1;33m.\u001b[0m\u001b[0m_all_operations\u001b[0m\u001b[1;33m.\u001b[0m\u001b[0mall_operations\u001b[0m\u001b[1;33m[\u001b[0m\u001b[0mAzureMLResourceType\u001b[0m\u001b[1;33m.\u001b[0m\u001b[0mDATASTORE\u001b[0m\u001b[1;33m]\u001b[0m\u001b[1;33m,\u001b[0m\u001b[1;33m\u001b[0m\u001b[0m\n\u001b[0m\u001b[0;32m    462\u001b[0m             )\n\u001b[0;32m    463\u001b[0m         \u001b[1;32mexcept\u001b[0m \u001b[0mException\u001b[0m\u001b[1;33m:\u001b[0m\u001b[1;33m\u001b[0m\u001b[0m\n",
      "\u001b[1;32mc:\\users\\ayushmishra\\workspace\\sdk-cli-v2\\src\\azure-ml\\azure\\ml\\_operations\\job_ops_helper.py\u001b[0m in \u001b[0;36mstream_logs_until_completion\u001b[1;34m(run_operations, job_resource, datastore_operations, raise_exception_on_failed_job)\u001b[0m\n\u001b[0;32m    300\u001b[0m             \u001b[1;34m\"https://aka.ms/aml-docs-cancel-run\"\u001b[0m\u001b[1;33m\u001b[0m\u001b[0m\n\u001b[0;32m    301\u001b[0m         )\n\u001b[1;32m--> 302\u001b[1;33m         \u001b[1;32mraise\u001b[0m \u001b[0mJobException\u001b[0m\u001b[1;33m(\u001b[0m\u001b[0mmessage\u001b[0m\u001b[1;33m=\u001b[0m\u001b[0merror_message\u001b[0m\u001b[1;33m,\u001b[0m \u001b[0mtarget\u001b[0m\u001b[1;33m=\u001b[0m\u001b[0mErrorTarget\u001b[0m\u001b[1;33m.\u001b[0m\u001b[0mJOB\u001b[0m\u001b[1;33m,\u001b[0m \u001b[0mno_personal_data_message\u001b[0m\u001b[1;33m=\u001b[0m\u001b[0merror_message\u001b[0m\u001b[1;33m)\u001b[0m\u001b[1;33m\u001b[0m\u001b[0m\n\u001b[0m\u001b[0;32m    303\u001b[0m \u001b[1;33m\u001b[0m\u001b[0m\n\u001b[0;32m    304\u001b[0m \u001b[1;33m\u001b[0m\u001b[0m\n",
      "\u001b[1;31mJobException\u001b[0m: The output streaming for the run interrupted.\nBut the run is still executing on the compute target. \nDetails for canceling the run can be found here: https://aka.ms/aml-docs-cancel-run"
     ]
    }
   ],
   "source": [
    "# Wait until the job completes\n",
    "ml_client.jobs.stream(pipeline_job.name)"
   ]
  },
  {
   "cell_type": "markdown",
   "metadata": {},
   "source": [
    "# Next Steps\n",
    "You can see further examples of running a pipeline job [here](../)"
   ]
  }
 ],
 "metadata": {
  "description": {
   "description": "Create pipeline with automl node"
  },
  "interpreter": {
   "hash": "45ee23ad53d8447c1a4a7f9f605254595f8ee53c2e1723e7948bbd485e96ca91"
  },
  "kernelspec": {
   "display_name": "Python 3",
   "language": "python",
   "name": "python3"
  },
  "language_info": {
   "codemirror_mode": {
    "name": "ipython",
    "version": 3
   },
   "file_extension": ".py",
   "mimetype": "text/x-python",
   "name": "python",
   "nbconvert_exporter": "python",
   "pygments_lexer": "ipython3",
   "version": "3.7.0"
  }
 },
 "nbformat": 4,
 "nbformat_minor": 4
}
