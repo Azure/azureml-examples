{
 "cells": [
  {
   "cell_type": "markdown",
   "metadata": {},
   "source": [
    "# AutoML in pipeline\n",
    "\n",
    "**Requirements** - In order to benefit from this tutorial, you will need:\n",
    "- A basic understanding of Machine Learning\n",
    "- An Azure account with an active subscription - [Create an account for free](https://azure.microsoft.com/free/?WT.mc_id=A261C142F)\n",
    "- An Azure ML workspace with computer cluster - [Configure workspace](../../../configuration.ipynb)\n",
    "- A python environment\n",
    "- Installed Azure Machine Learning Python SDK v2 - [install instructions](../../../../README.md) - check the getting started section\n",
    "\n",
    "**Learning Objectives** - By the end of this tutorial, you should be able to:\n",
    "- Create a pipeline with Classification AutoML task.\n",
    "\n",
    "**Motivations** - This notebook explains how to use Classification AutoML task inside pipeline."
   ]
  },
  {
   "cell_type": "markdown",
   "metadata": {},
   "source": [
    "# 1. Connect to Azure Machine Learning Workspace\n",
    "\n",
    "The [workspace](https://docs.microsoft.com/en-us/azure/machine-learning/concept-workspace) is the top-level resource for Azure Machine Learning, providing a centralized place to work with all the artifacts you create when you use Azure Machine Learning. In this section we will connect to the workspace in which the job will be run.\n",
    "\n",
    "## 1.1 Import the required libraries"
   ]
  },
  {
   "cell_type": "code",
   "execution_count": 1,
   "metadata": {},
   "outputs": [],
   "source": [
    "# import required libraries\n",
    "from azure.identity import DefaultAzureCredential, InteractiveBrowserCredential\n",
    "\n",
    "from azure.ai.ml import MLClient, Input, command, Output\n",
    "from azure.ai.ml.dsl import pipeline\n",
    "from azure.ai.ml.automl import classification, regression\n",
    "from azure.ai.ml.entities._job.automl.tabular import TabularFeaturizationSettings\n",
    "\n",
    "# add environment variable to enable private preview feature\n",
    "import os\n",
    "os.environ[\"AZURE_ML_CLI_PRIVATE_FEATURES_ENABLED\"] = \"true\"\n"
   ]
  },
  {
   "cell_type": "markdown",
   "metadata": {},
   "source": [
    "## 1.2 Configure credential\n",
    "\n",
    "We are using `DefaultAzureCredential` to get access to workspace. \n",
    "`DefaultAzureCredential` should be capable of handling most Azure SDK authentication scenarios. \n",
    "\n",
    "Reference for more available credentials if it does not work for you: [configure credential example](../../../configuration.ipynb), [azure-identity reference doc](https://docs.microsoft.com/en-us/python/api/azure-identity/azure.identity?view=azure-python)."
   ]
  },
  {
   "cell_type": "code",
   "execution_count": 2,
   "metadata": {},
   "outputs": [],
   "source": [
    "try:\n",
    "    credential = DefaultAzureCredential()\n",
    "    # Check if given credential can get token successfully.\n",
    "    credential.get_token(\"https://management.azure.com/.default\")\n",
    "except Exception as ex:\n",
    "    # Fall back to InteractiveBrowserCredential in case DefaultAzureCredential not work\n",
    "    credential = InteractiveBrowserCredential()"
   ]
  },
  {
   "cell_type": "markdown",
   "metadata": {},
   "source": [
    "## 1.3 Get a handle to the workspace\n",
    "\n",
    "We use config file to connect to a workspace. The Azure ML workspace should be configured with computer cluster. [Check this notebook for configure a workspace](../../../configuration.ipynb)"
   ]
  },
  {
   "cell_type": "code",
   "execution_count": 3,
   "metadata": {},
   "outputs": [
    {
     "name": "stderr",
     "output_type": "stream",
     "text": [
      "Found the config file in: C:\\Users\\vikasagrawal\\azureml-examples\\.azureml\\config.json\n"
     ]
    },
    {
     "name": "stdout",
     "output_type": "stream",
     "text": [
      "AmlCompute({'type': 'amlcompute', 'created_on': None, 'provisioning_state': 'Succeeded', 'provisioning_errors': None, 'name': 'cpu-cluster', 'description': None, 'tags': {}, 'properties': {}, 'id': '/subscriptions/381b38e9-9840-4719-a5a0-61d9585e1e91/resourceGroups/sasik_rg/providers/Microsoft.MachineLearningServices/workspaces/sasik_ws_eastus2/computes/cpu-cluster', 'Resource__source_path': None, 'base_path': 'c:\\\\Users\\\\vikasagrawal\\\\azureml-examples\\\\sdk\\\\jobs\\\\pipelines\\\\1h_automl_in_pipeline\\\\automl-classification-bankmarketing-in-pipeline', 'creation_context': None, 'serialize': <msrest.serialization.Serializer object at 0x000001A6590AE440>, 'resource_id': None, 'location': 'eastus2', 'size': 'STANDARD_D2_V2', 'min_instances': 0, 'max_instances': 4, 'idle_time_before_scale_down': 1800.0, 'identity': None, 'ssh_public_access_enabled': True, 'ssh_settings': None, 'network_settings': None, 'tier': 'dedicated'})\n"
     ]
    }
   ],
   "source": [
    "# Get a handle to workspace\n",
    "ml_client = MLClient.from_config(credential=credential)\n",
    "\n",
    "# Retrieve an already attached Azure Machine Learning Compute.\n",
    "cluster_name = \"cpu-cluster\"\n",
    "print(ml_client.compute.get(cluster_name))"
   ]
  },
  {
   "cell_type": "markdown",
   "metadata": {},
   "source": [
    "# 2. Basic pipeline job with Classification task\n",
    "\n",
    "## 2.1 Build pipeline"
   ]
  },
  {
   "cell_type": "code",
   "execution_count": 4,
   "metadata": {},
   "outputs": [],
   "source": [
    "# note that the used docker image doesn't suit for all size of gpu compute. Please use the following command to create gpu compute if experiment failed\n",
    "# !az ml compute create -n gpu-cluster --type amlcompute --min-instances 0 --max-instances 4 --size Standard_NC12"
   ]
  },
  {
   "cell_type": "code",
   "execution_count": 5,
   "metadata": {},
   "outputs": [
    {
     "name": "stderr",
     "output_type": "stream",
     "text": [
      "Class ClassificationJob: This is an experimental class, and may change at any time. Please see https://aka.ms/azuremlexperimental for more information.\n"
     ]
    }
   ],
   "source": [
    "# Define pipeline\n",
    "@pipeline(\n",
    "    description=\"AutoML Classification Pipeline\",\n",
    "    )\n",
    "def automl_classification(\n",
    "    classification_train_data,\n",
    "    classification_validation_data\n",
    "):\n",
    "    # define the automl classification task with automl function\n",
    "    classification_node = classification(\n",
    "        training_data=classification_train_data,\n",
    "        validation_data=classification_validation_data,\n",
    "        target_column_name=\"y\",\n",
    "        primary_metric=\"accuracy\",\n",
    "        featurization=TabularFeaturizationSettings(mode=\"Auto\"),\n",
    "        # currently need to specify outputs \"mlflow_model\" explictly to reference it in following nodes \n",
    "        outputs={\"best_model\": Output(type=\"mlflow_model\")},\n",
    "    )\n",
    "    # set limits and training\n",
    "    classification_node.set_limits(max_trials=1)\n",
    "    classification_node.set_training(enable_stack_ensemble=False, enable_vote_ensemble=False)\n",
    "    \n",
    "    # define command function for registering the model\n",
    "    command_func = command(\n",
    "        inputs=dict(\n",
    "            model_input_path = Input(type=\"mlflow_model\"),\n",
    "            model_base_name= \"bankmarketing_example_model\",\n",
    "            model_name_suffix= -1 # set negative to use epoch_secs\n",
    "        ),\n",
    "        outputs=dict(\n",
    "             model_info_output_path= \"\"\n",
    "        ),\n",
    "        code=\"./register.py\",\n",
    "        command=\"python register.py \" +\n",
    "                \"--model_input_path ${{inputs.model_input_path}} \" +\n",
    "                \"--model_base_name ${{inputs.model_base_name}} \" +\n",
    "                \"--model_name_suffix ${{inputs.model_name_suffix}} \" +\n",
    "                \"--model_info_output_path ${{outputs.model_info_output_path}}\",\n",
    "\n",
    "        environment=\"AzureML-sklearn-0.24-ubuntu18.04-py37-cpu:1\"\n",
    "    )\n",
    "    show_output = command_func(model_input_path = classification_node.outputs.best_model)\n",
    "    \n",
    "\n",
    "\n",
    "pipeline_classification = automl_classification(\n",
    "    classification_train_data=Input(path=\"./training-mltable-folder/\", type=\"mltable\"),\n",
    "    classification_validation_data=Input(path=\"./validation-mltable-folder/\", type=\"mltable\")\n",
    ")\n",
    "\n",
    "# set pipeline level compute\n",
    "pipeline_classification.settings.default_compute=\"cpu-cluster\"\n",
    "        "
   ]
  },
  {
   "cell_type": "markdown",
   "metadata": {},
   "source": [
    "# 2.2 Submit pipeline job"
   ]
  },
  {
   "cell_type": "code",
   "execution_count": 6,
   "metadata": {},
   "outputs": [
    {
     "data": {
      "text/html": [
       "<table style=\"width:100%\"><tr><th>Experiment</th><th>Name</th><th>Type</th><th>Status</th><th>Details Page</th></tr><tr><td>pipeline_samples</td><td>blue_glass_nxtw2pfqc3</td><td>pipeline</td><td>Preparing</td><td><a href=\"https://ml.azure.com/runs/blue_glass_nxtw2pfqc3?wsid=/subscriptions/381b38e9-9840-4719-a5a0-61d9585e1e91/resourcegroups/sasik_rg/workspaces/sasik_ws_eastus2&amp;tid=72f988bf-86f1-41af-91ab-2d7cd011db47\" target=\"_blank\" rel=\"noopener\">Link to Azure Machine Learning studio</a></td></tr></table>"
      ],
      "text/plain": [
       "PipelineJob({'inputs': {'classification_train_data': <azure.ai.ml.entities._job.pipeline._io.PipelineInput object at 0x000001A6596646A0>, 'classification_validation_data': <azure.ai.ml.entities._job.pipeline._io.PipelineInput object at 0x000001A6596643A0>}, 'outputs': {}, 'component': PipelineComponent({'auto_increment_version': False, 'source': 'REMOTE.WORKSPACE.JOB', 'is_anonymous': True, 'name': 'azureml_anonymous', 'description': 'AutoML Classification Pipeline', 'tags': {}, 'properties': {}, 'id': None, 'Resource__source_path': None, 'base_path': None, 'creation_context': None, 'serialize': <msrest.serialization.Serializer object at 0x000001A6596666E0>, 'version': '1', 'latest_version': None, 'schema': None, 'type': 'pipeline', 'display_name': 'automl_classification', 'is_deterministic': True, 'inputs': {'classification_train_data': {'type': 'unknown'}, 'classification_validation_data': {'type': 'unknown'}}, 'outputs': {}, 'yaml_str': None, 'other_parameter': {}, 'func': <function [component] automl_classification at 0x000001A65995AA70>, 'jobs': {'classification_node': ClassificationJob({'log_verbosity': <LogVerbosity.INFO: 'Info'>, 'task_type': <TaskType.CLASSIFICATION: 'Classification'>, 'environment_id': None, 'environment_variables': None, 'outputs': {'best_model': <azure.ai.ml.entities._job.pipeline._io.PipelineOutputBase object at 0x000001A659666830>}, 'type': 'automl', 'status': None, 'log_files': None, 'name': 'classification_node', 'description': None, 'tags': {}, 'properties': {}, 'id': None, 'Resource__source_path': None, 'base_path': 'c:\\\\Users\\\\vikasagrawal\\\\azureml-examples\\\\sdk\\\\jobs\\\\pipelines\\\\1h_automl_in_pipeline\\\\automl-classification-bankmarketing-in-pipeline', 'creation_context': None, 'serialize': <msrest.serialization.Serializer object at 0x000001A659666770>, 'inputs': {}, 'display_name': None, 'experiment_name': None, 'compute': None, 'services': None, 'resources': None, 'identity': None, 'data': <azure.ai.ml._restclient.v2022_02_01_preview.models._models_py3.TableVerticalDataSettings object at 0x000001A659667220>, 'featurization': <azure.ai.ml.entities._job.automl.tabular.featurization_settings.TabularFeaturizationSettings object at 0x000001A6596664D0>, 'limits': <azure.ai.ml.entities._job.automl.tabular.limit_settings.TabularLimitSettings object at 0x000001A659667F40>, 'training': <azure.ai.ml.entities._job.automl.training_settings.ClassificationTrainingSettings object at 0x000001A659667E20>, 'primary_metric': <ClassificationPrimaryMetrics.ACCURACY: 'Accuracy'>}), 'show_output': Command({'parameters': {}, 'init': False, 'type': 'command', 'status': None, 'log_files': None, 'name': 'show_output', 'description': None, 'tags': {}, 'properties': {}, 'id': None, 'Resource__source_path': None, 'base_path': None, 'creation_context': None, 'serialize': <msrest.serialization.Serializer object at 0x000001A659666650>, 'allowed_keys': {}, 'key_restriction': False, 'logger': <Logger attr_dict (WARNING)>, 'display_name': None, 'experiment_name': None, 'compute': None, 'services': None, 'job_inputs': {'model_base_name': 'bankmarketing_example_model', 'model_name_suffix': '-1', 'model_input_path': '${{parent.jobs.classification_node.outputs.best_model}}'}, 'job_outputs': {'model_info_output_path': {'type': 'uri_folder', 'path': ''}}, 'inputs': {'model_base_name': <azure.ai.ml.entities._job.pipeline._io.PipelineInputBase object at 0x000001A659667F70>, 'model_name_suffix': <azure.ai.ml.entities._job.pipeline._io.PipelineInputBase object at 0x000001A659666680>, 'model_input_path': <azure.ai.ml.entities._job.pipeline._io.PipelineInputBase object at 0x000001A659667DC0>}, 'outputs': {'model_info_output_path': <azure.ai.ml.entities._job.pipeline._io.PipelineOutputBase object at 0x000001A6596666B0>}, 'component': 'azureml_anonymous:e6d20308-2ee4-49b8-abf5-dc80e7dd484e', 'kwargs': {}, 'instance_id': 'cb26111c-efba-41f8-b6a9-a7c332ee0ae6', 'limits': None, 'identity': None, 'distribution': None, 'environment_variables': {}, 'environment': None, 'resources': None, 'swept': False})}, 'job_types': {'automl': 1, 'command': 1}, 'job_sources': {'BUILDER': 1, 'REMOTE.WORKSPACE.COMPONENT': 1}}), 'type': 'pipeline', 'status': 'Preparing', 'log_files': None, 'name': 'blue_glass_nxtw2pfqc3', 'description': 'AutoML Classification Pipeline', 'tags': {}, 'properties': {'mlflow.source.git.repoURL': 'git@github.com:Azure/azureml-examples.git', 'mlflow.source.git.branch': 'sdkExamples', 'mlflow.source.git.commit': '8a4070f55593c9641083784283b773f4f20955dd', 'azureml.git.dirty': 'True', 'azureml.DevPlatv2': 'true', 'azureml.runsource': 'azureml.PipelineRun', 'runSource': 'MFE', 'runType': 'HTTP', 'azureml.parameters': '{}', 'azureml.continue_on_step_failure': 'False', 'azureml.continue_on_failed_optional_input': 'True', 'azureml.pipelineComponent': 'pipelinerun'}, 'id': '/subscriptions/381b38e9-9840-4719-a5a0-61d9585e1e91/resourceGroups/sasik_rg/providers/Microsoft.MachineLearningServices/workspaces/sasik_ws_eastus2/jobs/blue_glass_nxtw2pfqc3', 'Resource__source_path': None, 'base_path': 'c:\\\\Users\\\\vikasagrawal\\\\azureml-examples\\\\sdk\\\\jobs\\\\pipelines\\\\1h_automl_in_pipeline\\\\automl-classification-bankmarketing-in-pipeline', 'creation_context': <azure.ai.ml._restclient.v2022_02_01_preview.models._models_py3.SystemData object at 0x000001A65969F460>, 'serialize': <msrest.serialization.Serializer object at 0x000001A659665420>, 'display_name': 'automl_classification', 'experiment_name': 'pipeline_samples', 'compute': None, 'services': {'Tracking': <azure.ai.ml._restclient.v2022_02_01_preview.models._models_py3.JobService object at 0x000001A65969ECE0>, 'Studio': <azure.ai.ml._restclient.v2022_02_01_preview.models._models_py3.JobService object at 0x000001A65969DFC0>}, 'settings': <azure.ai.ml.entities._job.pipeline.pipeline_job_settings.PipelineJobSettings object at 0x000001A65977FDC0>, 'identity': None, 'default_code': None, 'default_environment': None})"
      ]
     },
     "execution_count": 6,
     "metadata": {},
     "output_type": "execute_result"
    }
   ],
   "source": [
    "# submit the pipeline job\n",
    "pipeline_job = ml_client.jobs.create_or_update(\n",
    "    pipeline_classification, experiment_name=\"pipeline_samples\"\n",
    ")\n",
    "pipeline_job"
   ]
  },
  {
   "cell_type": "code",
   "execution_count": 7,
   "metadata": {},
   "outputs": [
    {
     "name": "stdout",
     "output_type": "stream",
     "text": [
      "RunId: blue_glass_nxtw2pfqc3\n",
      "Web View: https://ml.azure.com/runs/blue_glass_nxtw2pfqc3?wsid=/subscriptions/381b38e9-9840-4719-a5a0-61d9585e1e91/resourcegroups/sasik_rg/workspaces/sasik_ws_eastus2\n",
      "\n",
      "Streaming logs/azureml/executionlogs.txt\n",
      "========================================\n",
      "\n",
      "[2022-08-10 11:22:29Z] Submitting 1 runs, first five are: 737068ba:c89cd2f7-34f3-477d-8726-b13367963303\n",
      "[2022-08-10 11:29:23Z] Completing processing run id c89cd2f7-34f3-477d-8726-b13367963303.\n",
      "[2022-08-10 11:29:23Z] Submitting 1 runs, first five are: 97145ca7:4ae72797-fad0-4477-8a8a-2172dfaf7f22\n",
      "[2022-08-10 11:31:56Z] Completing processing run id 4ae72797-fad0-4477-8a8a-2172dfaf7f22.\n",
      "\n",
      "Execution Summary\n",
      "=================\n",
      "RunId: blue_glass_nxtw2pfqc3\n",
      "Web View: https://ml.azure.com/runs/blue_glass_nxtw2pfqc3?wsid=/subscriptions/381b38e9-9840-4719-a5a0-61d9585e1e91/resourcegroups/sasik_rg/workspaces/sasik_ws_eastus2\n",
      "\n"
     ]
    }
   ],
   "source": [
    "# Wait until the job completes\n",
    "ml_client.jobs.stream(pipeline_job.name)"
   ]
  },
  {
   "cell_type": "markdown",
   "metadata": {},
   "source": [
    "# Next Steps\n",
    "You can see further examples of running a pipeline job [here](../)"
   ]
  }
 ],
 "metadata": {
  "description": {
   "description": "Create pipeline with automl node"
  },
  "kernelspec": {
   "display_name": "Python 3.10.0 ('sdk-cli-v2')",
   "language": "python",
   "name": "python3"
  },
  "language_info": {
   "codemirror_mode": {
    "name": "ipython",
    "version": 3
   },
   "file_extension": ".py",
   "mimetype": "text/x-python",
   "name": "python",
   "nbconvert_exporter": "python",
   "pygments_lexer": "ipython3",
   "version": "3.10.0"
  },
  "vscode": {
   "interpreter": {
    "hash": "c8b460ceac8e800778f31ce93ea472d62385502baa28f64e7ac3023280a461ed"
   }
  }
 },
 "nbformat": 4,
 "nbformat_minor": 4
}
