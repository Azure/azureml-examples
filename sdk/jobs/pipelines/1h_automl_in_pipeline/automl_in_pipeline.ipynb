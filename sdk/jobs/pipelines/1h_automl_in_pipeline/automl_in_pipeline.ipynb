{
 "cells": [
  {
   "cell_type": "markdown",
   "metadata": {},
   "source": [
    "# AutoML in pipeline\n",
    "\n",
    "**Requirements** - In order to benefit from this tutorial, you will need:\n",
    "- A basic understanding of Machine Learning\n",
    "- An Azure account with an active subscription - [Create an account for free](https://azure.microsoft.com/free/?WT.mc_id=A261C142F)\n",
    "- An Azure ML workspace with computer cluster - [Configure workspace](../../configuration.ipynb)\n",
    "- A python environment\n",
    "- Installed Azure Machine Learning Python SDK v2 - [install instructions](../../../README.md) - check the getting started section\n",
    "\n",
    "**Learning Objectives** - By the end of this tutorial, you should be able to:\n",
    "- Create a pipeline with Classification AutoML task.\n",
    "- Create a pipeline with Regression AutoML task.\n",
    "\n",
    "**Motivations** - This notebook explains how to use Classification & Regression AutoML task inside pipeline."
   ]
  },
  {
   "cell_type": "markdown",
   "metadata": {},
   "source": [
    "# 1. Connect to Azure Machine Learning Workspace\n",
    "\n",
    "The [workspace](https://docs.microsoft.com/en-us/azure/machine-learning/concept-workspace) is the top-level resource for Azure Machine Learning, providing a centralized place to work with all the artifacts you create when you use Azure Machine Learning. In this section we will connect to the workspace in which the job will be run.\n",
    "\n",
    "## 1.1 Import the required libraries"
   ]
  },
  {
   "cell_type": "code",
   "execution_count": null,
   "metadata": {},
   "outputs": [],
   "source": [
    "# import required libraries\n",
    "from azure.identity import DefaultAzureCredential, InteractiveBrowserCredential\n",
    "\n",
    "from azure.ml import MLClient, dsl, Input, command, Output\n",
    "from azure.ml.automl import classification, regression\n",
    "from azure.ml.entities._job.automl.tabular import TabularFeaturizationSettings"
   ]
  },
  {
   "cell_type": "markdown",
   "metadata": {},
   "source": [
    "## 1.2 Configure credential\n",
    "\n",
    "We are using `DefaultAzureCredential` to get access to workspace. \n",
    "`DefaultAzureCredential` should be capable of handling most Azure SDK authentication scenarios. \n",
    "\n",
    "Reference for more available credentials if it does not work for you: [configure credential example](../../configuration.ipynb), [azure-identity reference doc](https://docs.microsoft.com/en-us/python/api/azure-identity/azure.identity?view=azure-python)."
   ]
  },
  {
   "cell_type": "code",
   "execution_count": null,
   "metadata": {},
   "outputs": [],
   "source": [
    "try:\n",
    "    credential = DefaultAzureCredential()\n",
    "    # Check if given credential can get token successfully.\n",
    "    credential.get_token(\"https://management.azure.com/.default\")\n",
    "except Exception as ex:\n",
    "    # Fall back to InteractiveBrowserCredential in case DefaultAzureCredential not work\n",
    "    credential = InteractiveBrowserCredential()"
   ]
  },
  {
   "cell_type": "markdown",
   "metadata": {},
   "source": [
    "## 1.3 Get a handle to the workspace\n",
    "\n",
    "We use config file to connect to a workspace. The Azure ML workspace should be configured with computer cluster. [Check this notebook for configure a workspace](../../configuration.ipynb)"
   ]
  },
  {
   "cell_type": "code",
   "execution_count": null,
   "metadata": {},
   "outputs": [],
   "source": [
    "# Get a handle to workspace\n",
    "ml_client = MLClient.from_config(credential=credential)\n",
    "\n",
    "# Retrieve an already attached Azure Machine Learning Compute.\n",
    "cluster_name = \"cpu-cluster\"\n",
    "print(ml_client.compute.get(cluster_name))"
   ]
  },
  {
   "cell_type": "markdown",
   "metadata": {},
   "source": [
    "# 2. Basic pipeline job with Classification task\n",
    "\n",
    "## 2.1 Build pipeline"
   ]
  },
  {
   "cell_type": "code",
   "execution_count": null,
   "metadata": {},
   "outputs": [],
   "source": [
    "# note that the used docker image doesn't suit for all size of gpu compute. Please use the following command to create gpu compute if experiment failed\n",
    "# !az ml compute create -n gpu-cluster --type amlcompute --min-instances 0 --max-instances 4 --size Standard_NC12"
   ]
  },
  {
   "cell_type": "code",
   "execution_count": null,
   "metadata": {},
   "outputs": [],
   "source": [
    "# Define pipeline\n",
    "@dsl.pipeline(\n",
    "    description=\"AutoML Clasiification Pipeline\",\n",
    "    default_compute=\"cpu-cluster\",\n",
    ")\n",
    "def automl_classification(\n",
    "    classification_train_data,\n",
    "    classification_validation_data\n",
    "):\n",
    "    # define the automl classification task with automl function\n",
    "    classification_node = classification(\n",
    "        training_data=classification_train_data,\n",
    "        validation_data=classification_validation_data,\n",
    "        target_column_name=\"y\",\n",
    "        primary_metric=\"accuracy\",\n",
    "        featurization=TabularFeaturizationSettings(mode=\"Auto\"),\n",
    "        # currently need to specify outputs \"mlflow_model\" explictly to reference it in following nodes \n",
    "        outputs={\"best_model\": Output(type=\"mlflow_model\")},\n",
    "    )\n",
    "    # set limits and training\n",
    "    classification_node.set_limits(max_trials=1)\n",
    "    classification_node.set_training(enable_stack_ensemble=False, enable_vote_ensemble=False)\n",
    "\n",
    "    command_func = command(\n",
    "        inputs=dict(\n",
    "            automl_output=Input(type=\"mlflow_model\")\n",
    "        ),\n",
    "        command=\"ls ${{inputs.automl_output}}\",\n",
    "        environment=\"AzureML-sklearn-0.24-ubuntu18.04-py37-cpu:1\"\n",
    "    )\n",
    "    show_output = command_func(automl_output=classification_node.outputs.best_model)\n",
    "\n",
    "\n",
    "data_folder = \"../../../../cli/jobs/automl-standalone-jobs/cli-automl-classification-task-bankmarketing\"\n",
    "pipeline = automl_classification(\n",
    "    classification_train_data=Input(path=f\"{data_folder}/training-mltable-folder/\", type=\"mltable\"),\n",
    "    classification_validation_data=Input(path=f\"{data_folder}/validation-mltable-folder/\", type=\"mltable\"),\n",
    ")"
   ]
  },
  {
   "cell_type": "markdown",
   "metadata": {},
   "source": [
    "# 2.2 Submit pipeline job"
   ]
  },
  {
   "cell_type": "code",
   "execution_count": null,
   "metadata": {},
   "outputs": [],
   "source": [
    "# submit the pipeline job\n",
    "pipeline_job = ml_client.jobs.create_or_update(\n",
    "    pipeline, experiment_name=\"pipeline_samples\"\n",
    ")\n",
    "pipeline_job"
   ]
  },
  {
   "cell_type": "code",
   "execution_count": null,
   "metadata": {},
   "outputs": [],
   "source": [
    "# Wait until the job completes\n",
    "ml_client.jobs.stream(pipeline_job.name)"
   ]
  },
  {
   "cell_type": "markdown",
   "metadata": {},
   "source": [
    "# 3. Basic pipeline job with regression task\n",
    "\n",
    "## 3.1 Build pipeline"
   ]
  },
  {
   "cell_type": "code",
   "execution_count": null,
   "metadata": {},
   "outputs": [],
   "source": [
    "# Define pipeline\n",
    "@dsl.pipeline(\n",
    "    description=\"AutoML Regression Pipeline\",\n",
    "    default_compute=\"cpu-cluster\",\n",
    ")\n",
    "def automl_regression(\n",
    "    regression_train_data,\n",
    "    regression_validation_data,\n",
    "    regression_test_data\n",
    "):\n",
    "    # define the AutoML regression task with AutoML function\n",
    "    regression_node = regression(\n",
    "        primary_metric=\"r2_score\",\n",
    "        target_column_name=\"SalePrice\",\n",
    "        training_data=regression_train_data,\n",
    "        validation_data=regression_validation_data,\n",
    "        test_data=regression_test_data,\n",
    "        featurization=TabularFeaturizationSettings(mode=\"off\"),\n",
    "        # currently need to specify outputs \"mlflow_model\" explicitly to reference it in following nodes \n",
    "        outputs={\"best_model\": Output(type=\"mlflow_model\")},\n",
    "    )\n",
    "    # set limits & training\n",
    "    regression_node.set_limits(max_trials=1, max_concurrent_trials=1)\n",
    "    regression_node.set_training(enable_stack_ensemble=False, enable_vote_ensemble=False)\n",
    "\n",
    "    command_func = command(\n",
    "        inputs=dict(\n",
    "            automl_output=Input(type=\"mlflow_model\")\n",
    "        ),\n",
    "        command=\"ls ${{inputs.automl_output}}\",\n",
    "        environment=\"AzureML-sklearn-0.24-ubuntu18.04-py37-cpu:1\"\n",
    "    )\n",
    "    show_output = command_func(automl_output=regression_node.outputs.best_model)\n",
    "\n",
    "\n",
    "data_folder = \"../../../../cli/jobs/pipelines/automl/house_pricing\"\n",
    "pipeline = automl_regression(\n",
    "    regression_train_data=Input(path=f\"{data_folder}/training-mltable-folder/\", type=\"mltable\"),\n",
    "    regression_validation_data=Input(path=f\"{data_folder}/validation-mltable-folder/\", type=\"mltable\"),\n",
    "    regression_test_data=Input(path=f\"{data_folder}/test-mltable-folder/\", type=\"mltable\")\n",
    ")"
   ]
  },
  {
   "cell_type": "markdown",
   "metadata": {},
   "source": [
    "# 3.2 Submit pipeline job"
   ]
  },
  {
   "cell_type": "code",
   "execution_count": null,
   "metadata": {},
   "outputs": [],
   "source": [
    "# submit the pipeline job\n",
    "pipeline_job = ml_client.jobs.create_or_update(\n",
    "    pipeline, experiment_name=\"pipeline_samples\"\n",
    ")\n",
    "pipeline_job"
   ]
  },
  {
   "cell_type": "code",
   "execution_count": null,
   "metadata": {},
   "outputs": [],
   "source": [
    "# Wait until the job completes\n",
    "ml_client.jobs.stream(pipeline_job.name)"
   ]
  },
  {
   "cell_type": "markdown",
   "metadata": {},
   "source": [
    "# Next Steps\n",
    "You can see further examples of running a pipeline job [here](../)"
   ]
  }
 ],
 "metadata": {
  "description": {
   "description": "Create pipeline with automl node"
  },
  "interpreter": {
   "hash": "45ee23ad53d8447c1a4a7f9f605254595f8ee53c2e1723e7948bbd485e96ca91"
  },
  "kernelspec": {
   "display_name": "Python 3",
   "language": "python",
   "name": "python3"
  },
  "language_info": {
   "codemirror_mode": {
    "name": "ipython",
    "version": 3
   },
   "file_extension": ".py",
   "mimetype": "text/x-python",
   "name": "python",
   "nbconvert_exporter": "python",
   "pygments_lexer": "ipython3",
   "version": "3.8.13"
  }
 },
 "nbformat": 4,
 "nbformat_minor": 4
}
