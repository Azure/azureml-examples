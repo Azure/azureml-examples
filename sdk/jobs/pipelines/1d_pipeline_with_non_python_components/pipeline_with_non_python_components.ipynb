{
 "cells": [
  {
   "cell_type": "markdown",
   "metadata": {},
   "source": [
    "# Build pipeline with command function\n",
    "\n",
    "**Requirements** - In order to benefit from this tutorial, you will need:\n",
    "- A basic understanding of Machine Learning\n",
    "- An Azure account with an active subscription. [Create an account for free](https://azure.microsoft.com/free/?WT.mc_id=A261C142F)\n",
    "- An Azure ML workspace. [Check this notebook for creating a workspace](/sdk/resources/workspace/workspace.ipynb) \n",
    "- A Compute Cluster. [Check this notebook to create a compute cluster](/sdk/resources/compute/compute.ipynb)\n",
    "- A python environment\n",
    "- Installed Azure Machine Learning Python SDK v2 - [install instructions](/sdk/README.md#getting-started)\n",
    "\n",
    "**Learning Objectives** - By the end of this tutorial, you should be able to:\n",
    "- Connect to your AML workspace from the Python SDK\n",
    "- Define `commandComponent` using command() function\n",
    "- Create `pipeline` using component defined by command() function\n",
    "\n",
    "**Motivations** - This notebook explains how to define `commandComponent` via command function, then use command component to build pipeline. The command component is a fundamental construct of Azure Machine Learning pipeline. It can be used to run a task on a specified compute (either local or on the cloud). The command component accepts `environment` to setup required infrastructure. You can define a `command` to run on this infrastructure with `inputs`. You can reuse the same `component` with different pipeline.  "
   ]
  },
  {
   "cell_type": "markdown",
   "metadata": {},
   "source": [
    "# 1. Connect to Azure Machine Learning Workspace\n",
    "\n",
    "The [workspace](https://docs.microsoft.com/en-us/azure/machine-learning/concept-workspace) is the top-level resource for Azure Machine Learning, providing a centralized place to work with all the artifacts you create when you use Azure Machine Learning. In this section we will connect to the workspace in which the job will be run.\n",
    "\n",
    "## 1.1. Import the required libraries"
   ]
  },
  {
   "cell_type": "code",
   "execution_count": null,
   "metadata": {},
   "outputs": [],
   "source": [
    "#import required libraries\n",
    "from azure.identity import InteractiveBrowserCredential\n",
    "from azure.ml import MLClient, dsl, command\n",
    "from azure.ml.entities import JobInput, JobOutput"
   ]
  },
  {
   "cell_type": "markdown",
   "metadata": {},
   "source": [
    "## 1.2. Configure workspace details and get a handle to the workspace\n",
    "\n",
    "To connect to a workspace, we need identifier parameters - a subscription, resource group and workspace name. We will use these details in the `MLClient` from `azure.ml` to get a handle to the required Azure Machine Learning workspace. We use the default [interactive authentication](https://docs.microsoft.com/en-us/python/api/azure-identity/azure.identity.interactivebrowsercredential?view=azure-python) for this tutorial. More advanced connection methods can be found [here](https://docs.microsoft.com/en-us/python/api/azure-identity/azure.identity?view=azure-python)."
   ]
  },
  {
   "cell_type": "code",
   "execution_count": null,
   "metadata": {},
   "outputs": [],
   "source": [
    "#Enter details of your AML workspace\n",
    "subscription_id = '<SUBSCRIPTION_ID>'\n",
    "resource_group = '<RESOURCE_GROUP>'\n",
    "workspace = '<AML_WORKSPACE_NAME>'"
   ]
  },
  {
   "cell_type": "code",
   "execution_count": null,
   "metadata": {},
   "outputs": [],
   "source": [
    "#get a handle to the workspace\n",
    "ml_client = MLClient(InteractiveBrowserCredential(), subscription_id, resource_group, workspace)"
   ]
  },
  {
   "cell_type": "markdown",
   "metadata": {},
   "source": [
    "# 2. Define Command object via command function \n",
    "Use `command` function to create a `Command` object which can be used in `dsl.pipeline`\n"
   ]
  },
  {
   "cell_type": "code",
   "execution_count": null,
   "metadata": {},
   "outputs": [],
   "source": [
    "download_url = \"https://dprepdata.blob.core.windows.net/demo/Titanic.csv\"\n",
    "file_name = \"data.csv\"\n",
    "column_name = \"Cabin\"\n",
    "environment = \"AzureML-sklearn-0.24-ubuntu18.04-py37-cpu:1\"\n",
    "# 1. Create a command component to download a input data\n",
    "download_data = command(\n",
    "    name=\"download-input\",\n",
    "    display_name=\"Download Data\",\n",
    "    description=\"Download a input from remote URL and return it in output.\",\n",
    "    tags=dict(),\n",
    "    command=\"curl ${{inputs.url}} > ${{outputs.output_folder}}/${{inputs.file_name}}\",\n",
    "    environment=environment,\n",
    "    inputs=dict(\n",
    "        url=download_url,\n",
    "        file_name=file_name\n",
    "    ),\n",
    "    outputs=dict(\n",
    "        output_folder=JobOutput(type=\"uri_folder\", mode=\"rw_mount\")\n",
    "    )\n",
    ")\n",
    "# 2. Create a Python script command to filter data\n",
    "filter_data = command(\n",
    "    name=\"filter-data\",\n",
    "    display_name=\"Filter Data\",\n",
    "    description=\"Filter some columns.\",\n",
    "    tags=dict(),\n",
    "    command=\"python parse_input.py --input ${{inputs.input_folder}}/${{inputs.file_name}} --output ${{outputs.output_folder}}/${{inputs.file_name}} --column_name ${{inputs.column_name}}\",\n",
    "    environment=environment,\n",
    "    code=\"./parse_input.py\",\n",
    "    inputs=dict(\n",
    "        input_folder=JobInput(type=\"uri_folder\"),\n",
    "        file_name=file_name,\n",
    "        column_name=column_name\n",
    "    ),\n",
    "    outputs=dict(\n",
    "        output_folder=JobOutput(type=\"uri_folder\")\n",
    "    )\n",
    ")\n",
    "# 3. Create a command component to show inputs\n",
    "show_data = command(\n",
    "    name=\"show-data\",\n",
    "    display_name=\"Show Data\",\n",
    "    description=\"Show data in command line and return it in output.\",\n",
    "    tags=dict(),\n",
    "    command=\"cat ${{inputs.input_folder}}/${{inputs.file_name}} && cp ${{inputs.input_folder}}/${{inputs.file_name}} ${{outputs.output_folder}}/${{inputs.file_name}}\",\n",
    "    environment=environment,\n",
    "    inputs=dict(\n",
    "        input_folder=JobInput(type=\"uri_folder\"),\n",
    "        file_name=file_name\n",
    "    ),\n",
    "    outputs=dict(\n",
    "        output_folder=JobOutput(type=\"uri_folder\")\n",
    "    )\n",
    ")"
   ]
  },
  {
   "cell_type": "markdown",
   "metadata": {},
   "source": [
    "# 3. Basic pipeline job\n",
    "\n",
    "## 3.1 Build pipeline\n",
    "\n",
    "Build a pipeline with predefined commands."
   ]
  },
  {
   "cell_type": "code",
   "execution_count": null,
   "metadata": {},
   "outputs": [],
   "source": [
    "compute = 'cpu-cluster'\n",
    "@dsl.pipeline(\n",
    "    description=\"The hello world pipeline job\",\n",
    "    tags={\"owner\": \"sdkteam\", \"tag\": \"tagvalue\"},\n",
    "    default_compute=compute,\n",
    "    experiment_name=\"pipeline-with-command-function\"\n",
    ")\n",
    "def pipeline(url, file_name):\n",
    "    download_data_node = download_data(url=url, file_name=file_name)\n",
    "    filter_data_node = filter_data(input_folder=download_data_node.outputs.output_folder, file_name=file_name)\n",
    "    show_data_node = show_data(input_folder=filter_data_node.outputs.output_folder, file_name=file_name)\n",
    "\n",
    "    return {\n",
    "        \"output_file\": show_data_node.outputs.output_folder\n",
    "    }\n",
    "\n",
    "pipeline = pipeline(download_url, file_name)"
   ]
  },
  {
   "cell_type": "markdown",
   "metadata": {},
   "source": [
    "# 3.2 Submit pipeline job"
   ]
  },
  {
   "cell_type": "code",
   "execution_count": null,
   "metadata": {},
   "outputs": [],
   "source": [
    "\n",
    "pipeline_job = ml_client.create_or_update(pipeline)\n",
    "print(f'Job link: {pipeline_job.services[\"Studio\"].endpoint}')"
   ]
  },
  {
   "cell_type": "markdown",
   "metadata": {},
   "source": [
    "# Next Steps\n",
    "You can see further examples of running a pipeline job [here](/sdk/jobs/pipelines/)"
   ]
  }
 ],
 "metadata": {
  "description": {
   "description": "Create basic pipeline with CommandComponents from local YAML file"
  },
  "interpreter": {
   "hash": "3e9e0e270b75c5e6da2e22113ba4f77b864d68f95da6601809c29e46c73ae6bb"
  },
  "kernelspec": {
   "display_name": "Python 3.7.8 64-bit",
   "language": "python",
   "name": "python3"
  },
  "language_info": {
   "codemirror_mode": {
    "name": "ipython",
    "version": 3
   },
   "file_extension": ".py",
   "mimetype": "text/x-python",
   "name": "python",
   "nbconvert_exporter": "python",
   "pygments_lexer": "ipython3",
   "version": "3.7.6"
  },
  "orig_nbformat": 4
 },
 "nbformat": 4,
 "nbformat_minor": 2
}
