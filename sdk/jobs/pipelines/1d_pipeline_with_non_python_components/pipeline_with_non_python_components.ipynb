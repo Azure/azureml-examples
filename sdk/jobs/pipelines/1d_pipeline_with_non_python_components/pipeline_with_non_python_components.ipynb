{
 "cells": [
  {
   "cell_type": "markdown",
   "metadata": {},
   "source": [
    "# Build pipeline with command function\n",
    "\n",
    "**Requirements** - In order to benefit from this tutorial, you will need:\n",
    "- A basic understanding of Machine Learning\n",
    "- An Azure account with an active subscription. [Create an account for free](https://azure.microsoft.com/free/?WT.mc_id=A261C142F)\n",
    "- An Azure ML workspace. [Check this notebook for creating a workspace](/sdk/resources/workspace/workspace.ipynb) \n",
    "- A Compute Cluster. [Check this notebook to create a compute cluster](/sdk/resources/compute/compute.ipynb)\n",
    "- A python environment\n",
    "- Installed Azure Machine Learning Python SDK v2 - [install instructions](/sdk/README.md#getting-started)\n",
    "\n",
    "**Learning Objectives** - By the end of this tutorial, you should be able to:\n",
    "- Connect to your AML workspace from the Python SDK\n",
    "- Define `CommandComponent` using command() function\n",
    "- Create `Pipeline` using component defined by command() function\n",
    "\n",
    "**Motivations** - This notebook explains how to define `CommandComponent` via command function, then use command component to build pipeline. The command component is a fundamental construct of Azure Machine Learning pipeline. It can be used to run a task on a specified compute (either local or on the cloud). The command component accepts `Environment` to setup required infrastructure. You can define a `Command` to run on this infrastructure with `inputs`. You can reuse the same `Component` with different pipeline.  "
   ]
  },
  {
   "cell_type": "markdown",
   "metadata": {},
   "source": [
    "# 1. Connect to Azure Machine Learning Workspace\n",
    "\n",
    "The [workspace](https://docs.microsoft.com/en-us/azure/machine-learning/concept-workspace) is the top-level resource for Azure Machine Learning, providing a centralized place to work with all the artifacts you create when you use Azure Machine Learning. In this section we will connect to the workspace in which the job will be run.\n",
    "\n",
    "## 1.1. Import the required libraries"
   ]
  },
  {
   "cell_type": "code",
   "execution_count": 1,
   "metadata": {},
   "outputs": [],
   "source": [
    "#import required libraries\n",
    "from azure.ml import MLClient, dsl, command\n",
    "from azure.ml.entities import JobInput, JobOutput, Environment\n",
    "from azure.ml.entities._assets.environment import BuildContext\n",
    "import piprunpkg"
   ]
  },
  {
   "cell_type": "markdown",
   "metadata": {},
   "source": [
    "## 1.2. Configure credential\n",
    "\n",
    "We are using `DefaultAzureCredential` to get access to workspace. When an access token is needed, it requests one using multiple identities(`EnvironmentCredential, ManagedIdentityCredential, SharedTokenCacheCredential, VisualStudioCodeCredential, AzureCliCredential, AzurePowerShellCredential`) in turn, stopping when one provides a token.\n",
    "Reference [here](https://docs.microsoft.com/en-us/python/api/azure-identity/azure.identity.defaultazurecredential?view=azure-python) for more information.\n",
    "\n",
    "`DefaultAzureCredential` should be capable of handling most Azure SDK authentication scenarios. \n",
    "Reference [here](https://docs.microsoft.com/en-us/python/api/azure-identity/azure.identity?view=azure-python) for all available credentials if it does not work for you.  "
   ]
  },
  {
   "cell_type": "code",
   "execution_count": 2,
   "metadata": {},
   "outputs": [
    {
     "name": "stderr",
     "output_type": "stream",
     "text": [
      "EnvironmentCredential.get_token failed: EnvironmentCredential authentication unavailable. Environment variables are not fully configured.\n",
      "ManagedIdentityCredential.get_token failed: ManagedIdentityCredential authentication unavailable, no managed identity endpoint found.\n",
      "SharedTokenCacheCredential.get_token failed: SharedTokenCacheCredential authentication unavailable. No accounts were found in the cache.\n",
      "VisualStudioCodeCredential.get_token failed: Failed to get Azure user details from Visual Studio Code.\n"
     ]
    }
   ],
   "source": [
    "from azure.identity import DefaultAzureCredential\n",
    "\n",
    "try:\n",
    "    credential = DefaultAzureCredential()\n",
    "    # Check if given credential can get token successfully.\n",
    "    credential.get_token('https://management.azure.com/.default')\n",
    "except Exception as ex:\n",
    "    # If exception happens when retrieve token, try exclude the failed credential like this then try again:\n",
    "    # Exclude VSCode credential:\n",
    "    # credential = DefaultAzureCredential(exclude_visual_studio_code_credential=True)\n",
    "    raise Exception(\"Failed to retrieve a token from the included credentials due to the following exception, try to add `exclude_xxx_credential=True` to `DefaultAzureCredential` and try again.\") from ex"
   ]
  },
  {
   "cell_type": "markdown",
   "metadata": {},
   "source": [
    "## 1.3. Configure workspace details and get a handle to the workspace\n",
    "\n",
    "To connect to a workspace, we need identifier parameters - a subscription, resource group and workspace name. We will use these details in the `MLClient` from `azure.ml` to get a handle to the required Azure Machine Learning workspace. "
   ]
  },
  {
   "cell_type": "code",
   "execution_count": 3,
   "metadata": {},
   "outputs": [
    {
     "name": "stderr",
     "output_type": "stream",
     "text": [
      "Found the config file in: D:\\practice\\azureml-examples\\sdk\\jobs\\.azureml\\config.json\n"
     ]
    },
    {
     "name": "stdout",
     "output_type": "stream",
     "text": [
      "MLClient(credential=<azure.identity._credentials.default.DefaultAzureCredential object at 0x000001F47A75B370>,\n",
      "         subscription_id=d511f82f-71ba-49a4-8233-d7be8a3650f4,\n",
      "         resource_group_name=mire2etesting,\n",
      "         workspace_name=gewa_ws)\n"
     ]
    }
   ],
   "source": [
    "try:\n",
    "    ml_client = MLClient.from_config(credential=credential)\n",
    "except Exception as ex:\n",
    "    # NOTE: Update following workspace information if not correctly configure before\n",
    "    client_config = {\n",
    "        \"subscription_id\": \"d511f82f-71ba-49a4-8233-d7be8a3650f4\",\n",
    "        \"resource_group\": \"mire2etesting\",\n",
    "        \"workspace_name\": \"gewa_ws\"\n",
    "    }\n",
    "\n",
    "    if client_config[\"subscription_id\"].startswith('<'):\n",
    "        print(\"please update your <SUBSCRIPTION_ID> <RESOURCE_GROUP> <WORKSPACE_NAME> in notebook cell\")\n",
    "        raise ex\n",
    "    else:  # write and reload from config file\n",
    "        import json, os\n",
    "        config_path = \"../../.azureml/config.json\"\n",
    "        os.makedirs(os.path.dirname(config_path), exist_ok=True)\n",
    "        with open(config_path, \"w\") as fo:\n",
    "            fo.write(json.dumps(client_config))\n",
    "        ml_client = MLClient.from_config(credential=credential, path=config_path)\n",
    "print(ml_client)"
   ]
  },
  {
   "cell_type": "markdown",
   "metadata": {},
   "source": [
    "## 1.4. Retrieve or create an Azure Machine Learning compute target"
   ]
  },
  {
   "cell_type": "code",
   "execution_count": 4,
   "metadata": {},
   "outputs": [],
   "source": [
    "# Retrieve an already attached Azure Machine Learning Compute.\n",
    "cluster_name = \"cpu-cluster\"\n",
    "try:\n",
    "    ml_client.compute.get(name=cluster_name)\n",
    "except Exception:\n",
    "    print('Creating a new compute target...')\n",
    "    from azure.ml.entities import AmlCompute\n",
    "    compute = AmlCompute(\n",
    "        name=cluster_name,\n",
    "        size=\"Standard_D2_v2\",\n",
    "        max_instances=2\n",
    "    )\n",
    "    ml_client.compute.begin_create_or_update(compute)"
   ]
  },
  {
   "cell_type": "markdown",
   "metadata": {},
   "source": [
    "# 2. Define Command object via command function \n",
    "Use `command` function to create a `Command` object which can be used in `dsl.pipeline`\n"
   ]
  },
  {
   "cell_type": "code",
   "execution_count": 2,
   "metadata": {},
   "outputs": [],
   "source": [
    "download_url = \"https://azuremlexamples.blob.core.windows.net/datasets/iris.csv\"\n",
    "file_name = \"data.csv\"\n",
    "\n",
    "environment = \"AzureML-sklearn-0.24-ubuntu18.04-py37-cpu:1\"\n",
    "# 1. Create a command component to download a input data\n",
    "download_data = command(\n",
    "    name=\"download-input\",\n",
    "    display_name=\"Download Data\",\n",
    "    description=\"Download a input from remote URL and return it in output.\",\n",
    "    tags=dict(),\n",
    "    command=\"curl ${{inputs.url}} > ${{outputs.output_folder}}/${{inputs.file_name}}\",\n",
    "    environment=environment,\n",
    "    inputs=dict(\n",
    "        url=download_url,\n",
    "        file_name=file_name\n",
    "    ),\n",
    "    outputs=dict(\n",
    "        output_folder=JobOutput(type=\"uri_folder\", mode=\"rw_mount\")\n",
    "    )\n",
    ")\n",
    "# 2. Create a R script command to train data\n",
    "train_data_with_r = command(\n",
    "    name=\"train-data-with-R\",\n",
    "    display_name=\"Train Data with R\",\n",
    "    description=\"Train data with R.\",\n",
    "    tags=dict(),\n",
    "    command=\"Rscript train.R --data_folder ${{inputs.iris}}/${{inputs.file_name}}\",\n",
    "    environment=Environment(build=BuildContext(path=\"docker_context\")),\n",
    "    code=\"./src\",\n",
    "    inputs=dict(\n",
    "        iris=JobInput(type=\"uri_folder\"),\n",
    "        file_name=file_name,\n",
    "    ),\n",
    "    outputs={}\n",
    ")\n",
    "# 3. Create a command component to show inputs\n",
    "show_data = command(\n",
    "    name=\"show-data\",\n",
    "    display_name=\"Show Data\",\n",
    "    description=\"Show data in command line and return it in output.\",\n",
    "    tags=dict(),\n",
    "    command=\"cat ${{inputs.input_folder}}/${{inputs.file_name}} && cp ${{inputs.input_folder}}/${{inputs.file_name}} ${{outputs.output_folder}}/${{inputs.file_name}}\",\n",
    "    environment=environment,\n",
    "    inputs=dict(\n",
    "        input_folder=JobInput(type=\"uri_folder\"),\n",
    "        file_name=file_name\n",
    "    ),\n",
    "    outputs=dict(\n",
    "        output_folder=JobOutput(type=\"uri_folder\")\n",
    "    )\n",
    ")"
   ]
  },
  {
   "cell_type": "markdown",
   "metadata": {},
   "source": [
    "# 3. Basic pipeline job\n",
    "\n",
    "## 3.1 Build pipeline\n",
    "\n",
    "Build a pipeline with predefined commands."
   ]
  },
  {
   "cell_type": "code",
   "execution_count": 3,
   "metadata": {},
   "outputs": [
    {
     "name": "stdout",
     "output_type": "stream",
     "text": [
      "name: silver_whistle_ygsqsp8v27\n",
      "display_name: pipeline_with_non_python_components\n",
      "description: The hello world pipeline job\n",
      "type: pipeline\n",
      "inputs:\n",
      "  url: https://azuremlexamples.blob.core.windows.net/datasets/iris.csv\n",
      "  file_name: data.csv\n",
      "outputs:\n",
      "  output_file: null\n",
      "tags:\n",
      "  owner: sdkteam\n",
      "  tag: tagvalue\n",
      "compute: azureml:cpu-cluster\n",
      "settings: {}\n",
      "properties: {}\n",
      "experiment_name: 1d_pipeline_with_non_python_components\n",
      "jobs:\n",
      "  download_data_node:\n",
      "    $schema: '{}'\n",
      "    type: command\n",
      "    inputs:\n",
      "      url: ${{parent.inputs.url}}\n",
      "      file_name: ${{parent.inputs.file_name}}\n",
      "    outputs:\n",
      "      output_folder:\n",
      "        mode: rw_mount\n",
      "        type: uri_folder\n",
      "    command: curl ${{inputs.url}} > ${{outputs.output_folder}}/${{inputs.file_name}}\n",
      "    environment_variables: {}\n",
      "    component:\n",
      "      name: download-input\n",
      "      display_name: Download Data\n",
      "      description: Download a input from remote URL and return it in output.\n",
      "      type: command\n",
      "      inputs:\n",
      "        url:\n",
      "          type: string\n",
      "          default: https://azuremlexamples.blob.core.windows.net/datasets/iris.csv\n",
      "        file_name:\n",
      "          type: string\n",
      "          default: data.csv\n",
      "      outputs:\n",
      "        output_folder:\n",
      "          type: uri_folder\n",
      "      command: curl ${{inputs.url}} > ${{outputs.output_folder}}/${{inputs.file_name}}\n",
      "      environment: azureml:AzureML-sklearn-0.24-ubuntu18.04-py37-cpu:1\n",
      "      is_deterministic: true\n",
      "      tags: {}\n",
      "  train_data_with_r:\n",
      "    $schema: '{}'\n",
      "    type: command\n",
      "    inputs:\n",
      "      iris: ${{parent.jobs.download_data_node.outputs.output_folder}}\n",
      "      file_name: ${{parent.inputs.file_name}}\n",
      "    outputs: {}\n",
      "    command: Rscript train.R --data_folder ${{inputs.iris}}/${{inputs.file_name}}\n",
      "    code: ./src\n",
      "    environment_variables: {}\n",
      "    component:\n",
      "      name: train-data-with-R\n",
      "      display_name: Train Data with R\n",
      "      description: Train data with R.\n",
      "      type: command\n",
      "      inputs:\n",
      "        iris:\n",
      "          type: uri_folder\n",
      "        file_name:\n",
      "          type: string\n",
      "          default: data.csv\n",
      "      outputs: {}\n",
      "      command: Rscript train.R --data_folder ${{inputs.iris}}/${{inputs.file_name}}\n",
      "      environment:\n",
      "        name: CliV2AnonymousEnvironment\n",
      "        tags: {}\n",
      "        version: ccbb569e1a8c67c12e9a0d231056763a\n",
      "        build:\n",
      "          path: docker_context\n",
      "      code: azureml:./src\n",
      "      is_deterministic: true\n",
      "      tags: {}\n",
      "  show_data_node:\n",
      "    $schema: '{}'\n",
      "    type: command\n",
      "    inputs:\n",
      "      input_folder: ${{parent.jobs.download_data_node.outputs.output_folder}}\n",
      "      file_name: ${{parent.inputs.file_name}}\n",
      "    outputs:\n",
      "      output_folder: ${{parent.outputs.output_file}}\n",
      "    command: cat ${{inputs.input_folder}}/${{inputs.file_name}} && cp ${{inputs.input_folder}}/${{inputs.file_name}}\n",
      "      ${{outputs.output_folder}}/${{inputs.file_name}}\n",
      "    environment_variables: {}\n",
      "    component:\n",
      "      name: show-data\n",
      "      display_name: Show Data\n",
      "      description: Show data in command line and return it in output.\n",
      "      type: command\n",
      "      inputs:\n",
      "        input_folder:\n",
      "          type: uri_folder\n",
      "        file_name:\n",
      "          type: string\n",
      "          default: data.csv\n",
      "      outputs:\n",
      "        output_folder:\n",
      "          type: uri_folder\n",
      "      command: cat ${{inputs.input_folder}}/${{inputs.file_name}} && cp ${{inputs.input_folder}}/${{inputs.file_name}}\n",
      "        ${{outputs.output_folder}}/${{inputs.file_name}}\n",
      "      environment: azureml:AzureML-sklearn-0.24-ubuntu18.04-py37-cpu:1\n",
      "      is_deterministic: true\n",
      "      tags: {}\n",
      "\n"
     ]
    }
   ],
   "source": [
    "compute = 'cpu-cluster'\n",
    "@dsl.pipeline(\n",
    "    description=\"The hello world pipeline job\",\n",
    "    tags={\"owner\": \"sdkteam\", \"tag\": \"tagvalue\"},\n",
    "    default_compute=compute,\n",
    ")\n",
    "def pipeline_with_non_python_components(url, file_name):\n",
    "    download_data_node = download_data(url=url, file_name=file_name)\n",
    "    train_data_with_r(iris=download_data_node.outputs.output_folder, file_name=file_name)\n",
    "    show_data_node = show_data(input_folder=download_data_node.outputs.output_folder, file_name=file_name)\n",
    "\n",
    "    return {\n",
    "        \"output_file\": show_data_node.outputs.output_folder\n",
    "    }\n",
    "\n",
    "pipeline = pipeline_with_non_python_components(download_url, file_name)\n",
    "print(pipeline)"
   ]
  },
  {
   "cell_type": "code",
   "execution_count": 5,
   "metadata": {},
   "outputs": [
    {
     "name": "stdout",
     "output_type": "stream",
     "text": [
      "INFO:executor:############################################download_data_node##############################################\n"
     ]
    },
    {
     "ename": "NotADirectoryError",
     "evalue": "[WinError 267] The directory name is invalid",
     "output_type": "error",
     "traceback": [
      "\u001b[1;31m---------------------------------------------------------------------------\u001b[0m",
      "\u001b[1;31mNotADirectoryError\u001b[0m                        Traceback (most recent call last)",
      "\u001b[1;32md:\\practice\\azureml-examples\\sdk\\jobs\\pipelines\\1d_pipeline_with_non_python_components\\pipeline_with_non_python_components.ipynb Cell 14'\u001b[0m in \u001b[0;36m<cell line: 6>\u001b[1;34m()\u001b[0m\n\u001b[0;32m      <a href='vscode-notebook-cell:/d%3A/practice/azureml-examples/sdk/jobs/pipelines/1d_pipeline_with_non_python_components/pipeline_with_non_python_components.ipynb#ch0000017?line=3'>4</a>\u001b[0m logging\u001b[39m.\u001b[39mbasicConfig(stream\u001b[39m=\u001b[39msys\u001b[39m.\u001b[39mstdout, level\u001b[39m=\u001b[39mlogging\u001b[39m.\u001b[39mDEBUG)\n\u001b[0;32m      <a href='vscode-notebook-cell:/d%3A/practice/azureml-examples/sdk/jobs/pipelines/1d_pipeline_with_non_python_components/pipeline_with_non_python_components.ipynb#ch0000017?line=4'>5</a>\u001b[0m output_root_dir \u001b[39m=\u001b[39m \u001b[39m\"\u001b[39m\u001b[39m./local-run-output\u001b[39m\u001b[39m\"\u001b[39m\n\u001b[1;32m----> <a href='vscode-notebook-cell:/d%3A/practice/azureml-examples/sdk/jobs/pipelines/1d_pipeline_with_non_python_components/pipeline_with_non_python_components.ipynb#ch0000017?line=5'>6</a>\u001b[0m run_pipeline(output_root_dir\u001b[39m=\u001b[39;49moutput_root_dir, pipeline_job\u001b[39m=\u001b[39;49mpipeline)\n",
      "File \u001b[1;32mC:\\Python39\\lib\\site-packages\\piprunpkg\\executor.py:56\u001b[0m, in \u001b[0;36mrun_pipeline\u001b[1;34m(output_root_dir, pipeline_job, ml_client, run_mode, curated_env_default_run_mode, **kwargs)\u001b[0m\n\u001b[0;32m     <a href='file:///c%3A/Python39/lib/site-packages/piprunpkg/executor.py?line=52'>53</a>\u001b[0m success \u001b[39m=\u001b[39m \u001b[39mTrue\u001b[39;00m\n\u001b[0;32m     <a href='file:///c%3A/Python39/lib/site-packages/piprunpkg/executor.py?line=53'>54</a>\u001b[0m \u001b[39mif\u001b[39;00m run_mode \u001b[39m==\u001b[39m PipelineJobLocalRunMode\u001b[39m.\u001b[39mNATIVE:\n\u001b[0;32m     <a href='file:///c%3A/Python39/lib/site-packages/piprunpkg/executor.py?line=54'>55</a>\u001b[0m     \u001b[39m# run as native process\u001b[39;00m\n\u001b[1;32m---> <a href='file:///c%3A/Python39/lib/site-packages/piprunpkg/executor.py?line=55'>56</a>\u001b[0m     success \u001b[39m=\u001b[39m _run_native_process(node)\n\u001b[0;32m     <a href='file:///c%3A/Python39/lib/site-packages/piprunpkg/executor.py?line=56'>57</a>\u001b[0m \u001b[39melif\u001b[39;00m run_mode \u001b[39m==\u001b[39m PipelineJobLocalRunMode\u001b[39m.\u001b[39mDOCKER:\n\u001b[0;32m     <a href='file:///c%3A/Python39/lib/site-packages/piprunpkg/executor.py?line=57'>58</a>\u001b[0m     \u001b[39m# get image from job tags\u001b[39;00m\n\u001b[0;32m     <a href='file:///c%3A/Python39/lib/site-packages/piprunpkg/executor.py?line=58'>59</a>\u001b[0m     image_name \u001b[39m=\u001b[39m node\u001b[39m.\u001b[39m_job\u001b[39m.\u001b[39mtags[\u001b[39m\"\u001b[39m\u001b[39mimage\u001b[39m\u001b[39m\"\u001b[39m]\n",
      "File \u001b[1;32mC:\\Python39\\lib\\site-packages\\piprunpkg\\executor.py:84\u001b[0m, in \u001b[0;36m_run_native_process\u001b[1;34m(node)\u001b[0m\n\u001b[0;32m     <a href='file:///c%3A/Python39/lib/site-packages/piprunpkg/executor.py?line=81'>82</a>\u001b[0m \u001b[39mif\u001b[39;00m working_dir \u001b[39mis\u001b[39;00m \u001b[39mnot\u001b[39;00m \u001b[39mNone\u001b[39;00m:\n\u001b[0;32m     <a href='file:///c%3A/Python39/lib/site-packages/piprunpkg/executor.py?line=82'>83</a>\u001b[0m     params[\u001b[39m\"\u001b[39m\u001b[39mcwd\u001b[39m\u001b[39m\"\u001b[39m] \u001b[39m=\u001b[39m working_dir\n\u001b[1;32m---> <a href='file:///c%3A/Python39/lib/site-packages/piprunpkg/executor.py?line=83'>84</a>\u001b[0m process \u001b[39m=\u001b[39m subprocess\u001b[39m.\u001b[39mrun(cmd_array, \u001b[39m*\u001b[39m\u001b[39m*\u001b[39mparams)\n\u001b[0;32m     <a href='file:///c%3A/Python39/lib/site-packages/piprunpkg/executor.py?line=84'>85</a>\u001b[0m print_pretty(process\u001b[39m.\u001b[39mstdout\u001b[39m.\u001b[39mdecode(\u001b[39m\"\u001b[39m\u001b[39mutf-8\u001b[39m\u001b[39m\"\u001b[39m))\n\u001b[0;32m     <a href='file:///c%3A/Python39/lib/site-packages/piprunpkg/executor.py?line=85'>86</a>\u001b[0m success \u001b[39m=\u001b[39m (process\u001b[39m.\u001b[39mreturncode \u001b[39m==\u001b[39m \u001b[39m0\u001b[39m)\n",
      "File \u001b[1;32mC:\\Python39\\lib\\subprocess.py:501\u001b[0m, in \u001b[0;36mrun\u001b[1;34m(input, capture_output, timeout, check, *popenargs, **kwargs)\u001b[0m\n\u001b[0;32m    <a href='file:///c%3A/Python39/lib/subprocess.py?line=497'>498</a>\u001b[0m     kwargs[\u001b[39m'\u001b[39m\u001b[39mstdout\u001b[39m\u001b[39m'\u001b[39m] \u001b[39m=\u001b[39m PIPE\n\u001b[0;32m    <a href='file:///c%3A/Python39/lib/subprocess.py?line=498'>499</a>\u001b[0m     kwargs[\u001b[39m'\u001b[39m\u001b[39mstderr\u001b[39m\u001b[39m'\u001b[39m] \u001b[39m=\u001b[39m PIPE\n\u001b[1;32m--> <a href='file:///c%3A/Python39/lib/subprocess.py?line=500'>501</a>\u001b[0m \u001b[39mwith\u001b[39;00m Popen(\u001b[39m*\u001b[39mpopenargs, \u001b[39m*\u001b[39m\u001b[39m*\u001b[39mkwargs) \u001b[39mas\u001b[39;00m process:\n\u001b[0;32m    <a href='file:///c%3A/Python39/lib/subprocess.py?line=501'>502</a>\u001b[0m     \u001b[39mtry\u001b[39;00m:\n\u001b[0;32m    <a href='file:///c%3A/Python39/lib/subprocess.py?line=502'>503</a>\u001b[0m         stdout, stderr \u001b[39m=\u001b[39m process\u001b[39m.\u001b[39mcommunicate(\u001b[39minput\u001b[39m, timeout\u001b[39m=\u001b[39mtimeout)\n",
      "File \u001b[1;32mC:\\Python39\\lib\\subprocess.py:947\u001b[0m, in \u001b[0;36mPopen.__init__\u001b[1;34m(self, args, bufsize, executable, stdin, stdout, stderr, preexec_fn, close_fds, shell, cwd, env, universal_newlines, startupinfo, creationflags, restore_signals, start_new_session, pass_fds, user, group, extra_groups, encoding, errors, text, umask)\u001b[0m\n\u001b[0;32m    <a href='file:///c%3A/Python39/lib/subprocess.py?line=942'>943</a>\u001b[0m         \u001b[39mif\u001b[39;00m \u001b[39mself\u001b[39m\u001b[39m.\u001b[39mtext_mode:\n\u001b[0;32m    <a href='file:///c%3A/Python39/lib/subprocess.py?line=943'>944</a>\u001b[0m             \u001b[39mself\u001b[39m\u001b[39m.\u001b[39mstderr \u001b[39m=\u001b[39m io\u001b[39m.\u001b[39mTextIOWrapper(\u001b[39mself\u001b[39m\u001b[39m.\u001b[39mstderr,\n\u001b[0;32m    <a href='file:///c%3A/Python39/lib/subprocess.py?line=944'>945</a>\u001b[0m                     encoding\u001b[39m=\u001b[39mencoding, errors\u001b[39m=\u001b[39merrors)\n\u001b[1;32m--> <a href='file:///c%3A/Python39/lib/subprocess.py?line=946'>947</a>\u001b[0m     \u001b[39mself\u001b[39;49m\u001b[39m.\u001b[39;49m_execute_child(args, executable, preexec_fn, close_fds,\n\u001b[0;32m    <a href='file:///c%3A/Python39/lib/subprocess.py?line=947'>948</a>\u001b[0m                         pass_fds, cwd, env,\n\u001b[0;32m    <a href='file:///c%3A/Python39/lib/subprocess.py?line=948'>949</a>\u001b[0m                         startupinfo, creationflags, shell,\n\u001b[0;32m    <a href='file:///c%3A/Python39/lib/subprocess.py?line=949'>950</a>\u001b[0m                         p2cread, p2cwrite,\n\u001b[0;32m    <a href='file:///c%3A/Python39/lib/subprocess.py?line=950'>951</a>\u001b[0m                         c2pread, c2pwrite,\n\u001b[0;32m    <a href='file:///c%3A/Python39/lib/subprocess.py?line=951'>952</a>\u001b[0m                         errread, errwrite,\n\u001b[0;32m    <a href='file:///c%3A/Python39/lib/subprocess.py?line=952'>953</a>\u001b[0m                         restore_signals,\n\u001b[0;32m    <a href='file:///c%3A/Python39/lib/subprocess.py?line=953'>954</a>\u001b[0m                         gid, gids, uid, umask,\n\u001b[0;32m    <a href='file:///c%3A/Python39/lib/subprocess.py?line=954'>955</a>\u001b[0m                         start_new_session)\n\u001b[0;32m    <a href='file:///c%3A/Python39/lib/subprocess.py?line=955'>956</a>\u001b[0m \u001b[39mexcept\u001b[39;00m:\n\u001b[0;32m    <a href='file:///c%3A/Python39/lib/subprocess.py?line=956'>957</a>\u001b[0m     \u001b[39m# Cleanup if the child failed starting.\u001b[39;00m\n\u001b[0;32m    <a href='file:///c%3A/Python39/lib/subprocess.py?line=957'>958</a>\u001b[0m     \u001b[39mfor\u001b[39;00m f \u001b[39min\u001b[39;00m \u001b[39mfilter\u001b[39m(\u001b[39mNone\u001b[39;00m, (\u001b[39mself\u001b[39m\u001b[39m.\u001b[39mstdin, \u001b[39mself\u001b[39m\u001b[39m.\u001b[39mstdout, \u001b[39mself\u001b[39m\u001b[39m.\u001b[39mstderr)):\n",
      "File \u001b[1;32mC:\\Python39\\lib\\subprocess.py:1416\u001b[0m, in \u001b[0;36mPopen._execute_child\u001b[1;34m(self, args, executable, preexec_fn, close_fds, pass_fds, cwd, env, startupinfo, creationflags, shell, p2cread, p2cwrite, c2pread, c2pwrite, errread, errwrite, unused_restore_signals, unused_gid, unused_gids, unused_uid, unused_umask, unused_start_new_session)\u001b[0m\n\u001b[0;32m   <a href='file:///c%3A/Python39/lib/subprocess.py?line=1413'>1414</a>\u001b[0m \u001b[39m# Start the process\u001b[39;00m\n\u001b[0;32m   <a href='file:///c%3A/Python39/lib/subprocess.py?line=1414'>1415</a>\u001b[0m \u001b[39mtry\u001b[39;00m:\n\u001b[1;32m-> <a href='file:///c%3A/Python39/lib/subprocess.py?line=1415'>1416</a>\u001b[0m     hp, ht, pid, tid \u001b[39m=\u001b[39m _winapi\u001b[39m.\u001b[39;49mCreateProcess(executable, args,\n\u001b[0;32m   <a href='file:///c%3A/Python39/lib/subprocess.py?line=1416'>1417</a>\u001b[0m                              \u001b[39m# no special security\u001b[39;49;00m\n\u001b[0;32m   <a href='file:///c%3A/Python39/lib/subprocess.py?line=1417'>1418</a>\u001b[0m                              \u001b[39mNone\u001b[39;49;00m, \u001b[39mNone\u001b[39;49;00m,\n\u001b[0;32m   <a href='file:///c%3A/Python39/lib/subprocess.py?line=1418'>1419</a>\u001b[0m                              \u001b[39mint\u001b[39;49m(\u001b[39mnot\u001b[39;49;00m close_fds),\n\u001b[0;32m   <a href='file:///c%3A/Python39/lib/subprocess.py?line=1419'>1420</a>\u001b[0m                              creationflags,\n\u001b[0;32m   <a href='file:///c%3A/Python39/lib/subprocess.py?line=1420'>1421</a>\u001b[0m                              env,\n\u001b[0;32m   <a href='file:///c%3A/Python39/lib/subprocess.py?line=1421'>1422</a>\u001b[0m                              cwd,\n\u001b[0;32m   <a href='file:///c%3A/Python39/lib/subprocess.py?line=1422'>1423</a>\u001b[0m                              startupinfo)\n\u001b[0;32m   <a href='file:///c%3A/Python39/lib/subprocess.py?line=1423'>1424</a>\u001b[0m \u001b[39mfinally\u001b[39;00m:\n\u001b[0;32m   <a href='file:///c%3A/Python39/lib/subprocess.py?line=1424'>1425</a>\u001b[0m     \u001b[39m# Child is launched. Close the parent's copy of those pipe\u001b[39;00m\n\u001b[0;32m   <a href='file:///c%3A/Python39/lib/subprocess.py?line=1425'>1426</a>\u001b[0m     \u001b[39m# handles that only the child should have open.  You need\u001b[39;00m\n\u001b[1;32m   (...)\u001b[0m\n\u001b[0;32m   <a href='file:///c%3A/Python39/lib/subprocess.py?line=1428'>1429</a>\u001b[0m     \u001b[39m# pipe will not close when the child process exits and the\u001b[39;00m\n\u001b[0;32m   <a href='file:///c%3A/Python39/lib/subprocess.py?line=1429'>1430</a>\u001b[0m     \u001b[39m# ReadFile will hang.\u001b[39;00m\n\u001b[0;32m   <a href='file:///c%3A/Python39/lib/subprocess.py?line=1430'>1431</a>\u001b[0m     \u001b[39mself\u001b[39m\u001b[39m.\u001b[39m_close_pipe_fds(p2cread, p2cwrite,\n\u001b[0;32m   <a href='file:///c%3A/Python39/lib/subprocess.py?line=1431'>1432</a>\u001b[0m                          c2pread, c2pwrite,\n\u001b[0;32m   <a href='file:///c%3A/Python39/lib/subprocess.py?line=1432'>1433</a>\u001b[0m                          errread, errwrite)\n",
      "\u001b[1;31mNotADirectoryError\u001b[0m: [WinError 267] The directory name is invalid"
     ]
    }
   ],
   "source": [
    "from piprunpkg import run_pipeline, CuratedEnvironmentDefaultRunMode\n",
    "import logging\n",
    "import sys\n",
    "logging.basicConfig(stream=sys.stdout, level=logging.INFO)\n",
    "output_root_dir = \"./local-run-output\"\n",
    "run_pipeline(output_root_dir=output_root_dir, pipeline_job=pipeline, curated_env_default_run_mode=CuratedEnvironmentDefaultRunMode.CONTAINER)"
   ]
  },
  {
   "cell_type": "markdown",
   "metadata": {},
   "source": [
    "# 3.2 Submit pipeline job"
   ]
  },
  {
   "cell_type": "code",
   "execution_count": null,
   "metadata": {},
   "outputs": [],
   "source": [
    "\n",
    "pipeline_job = ml_client.jobs.create_or_update(pipeline, experiment_name=\"pipeline_samples\")\n",
    "pipeline_job\n",
    "ml_client.jobs._runs_operations._operation.add"
   ]
  },
  {
   "cell_type": "code",
   "execution_count": null,
   "metadata": {},
   "outputs": [],
   "source": [
    "# Wait until the job completes\n",
    "ml_client.jobs.stream(pipeline_job.name)"
   ]
  },
  {
   "cell_type": "markdown",
   "metadata": {},
   "source": [
    "# Next Steps\n",
    "You can see further examples of running a pipeline job [here](/sdk/jobs/pipelines/)"
   ]
  }
 ],
 "metadata": {
  "description": {
   "description": "Create a pipeline with command function"
  },
  "interpreter": {
   "hash": "3e9e0e270b75c5e6da2e22113ba4f77b864d68f95da6601809c29e46c73ae6bb"
  },
  "kernelspec": {
   "display_name": "Python 3.7.8 64-bit",
   "language": "python",
   "name": "python3"
  },
  "language_info": {
   "codemirror_mode": {
    "name": "ipython",
    "version": 3
   },
   "file_extension": ".py",
   "mimetype": "text/x-python",
   "name": "python",
   "nbconvert_exporter": "python",
   "pygments_lexer": "ipython3",
   "version": "3.9.1"
  },
  "orig_nbformat": 4
 },
 "nbformat": 4,
 "nbformat_minor": 2
}
