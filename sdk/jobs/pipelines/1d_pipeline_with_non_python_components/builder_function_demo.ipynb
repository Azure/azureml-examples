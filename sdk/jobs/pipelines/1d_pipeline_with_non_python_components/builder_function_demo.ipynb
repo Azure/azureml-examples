{
 "cells": [
  {
   "cell_type": "markdown",
   "metadata": {},
   "source": [
    "# Builder functions in SDK v2\n",
    "\n",
    "**Motivations** \n",
    "\n",
    "- Builder functions are a convenient and flexible way to define jobs and components in Python.\n",
    "- Builder functions make it easy to switch from a command job to a sweep job, from a command pipeline step to a sweep pipeline step.\n",
    "- Builder functions allow the same syntax to compose stand alone jobs and pipeline jobs."
   ]
  },
  {
   "cell_type": "markdown",
   "metadata": {},
   "source": [
    "# 1. Define MLClient to connect to my workspace "
   ]
  },
  {
   "cell_type": "code",
   "execution_count": 21,
   "metadata": {},
   "outputs": [],
   "source": [
    "#import required libraries\n",
    "from azure.ml import MLClient, dsl, command, Input, Output\n",
    "from azure.ml.entities import Environment, BuildContext\n",
    "from azure.ml.sweep import Uniform\n",
    "from azure.identity import DefaultAzureCredential\n",
    "\n",
    "ml_client = MLClient(DefaultAzureCredential(), \"d128f140-94e6-4175-87a7-954b9d27db16\", \"ragargeastus2euap\", \"hanchi-test2\")"
   ]
  },
  {
   "cell_type": "markdown",
   "metadata": {},
   "source": [
    "# 2. A convenient way to create a command job using the `command()` function"
   ]
  },
  {
   "cell_type": "code",
   "execution_count": 22,
   "metadata": {},
   "outputs": [],
   "source": [
    "train_data_with_r = command(\n",
    "    description=\"Train data with R.\",\n",
    "    command=\"Rscript train.R --data_folder ${{inputs.iris}}\",\n",
    "    environment=Environment(build=BuildContext(path=\"docker_context\")),\n",
    "    code=\"./src\",\n",
    "    inputs=dict(\n",
    "        iris=Input(type=\"uri_file\", path=\"https://azuremlexamples.blob.core.windows.net/datasets/iris.csv\"),\n",
    "        lr=0.01\n",
    "    ),\n",
    "    compute=\"cpu-cluster\"\n",
    ")"
   ]
  },
  {
   "cell_type": "code",
   "execution_count": 23,
   "metadata": {},
   "outputs": [
    {
     "data": {
      "text/html": [
       "<table style=\"width:100%\"><tr><th>Experiment</th><th>Name</th><th>Type</th><th>Status</th><th>Details Page</th></tr><tr><td>1d_pipeline_with_non_python_components</td><td>icy_roti_mp4zl17fyf</td><td>command</td><td>Starting</td><td><a href=\"https://ml.azure.com/runs/icy_roti_mp4zl17fyf?wsid=/subscriptions/d128f140-94e6-4175-87a7-954b9d27db16/resourcegroups/ragargeastus2euap/workspaces/hanchi-test2&amp;tid=72f988bf-86f1-41af-91ab-2d7cd011db47\" target=\"_blank\" rel=\"noopener\">Link to Azure Machine Learning studio</a></td></tr></table>"
      ],
      "text/plain": [
       "CommandJob({'parameters': {}, 'display_name': 'icy_roti_mp4zl17fyf', 'type': 'command', 'status': 'Starting', 'log_files': None, 'name': 'icy_roti_mp4zl17fyf', 'description': 'Train data with R.', 'tags': {}, 'properties': {'mlflow.source.git.repoURL': 'https://github.com/Azure/azureml-examples.git', 'mlflow.source.git.branch': 'hancwang/april', 'mlflow.source.git.commit': '646c0f12e62d39fa7641d9769ab8832ecc45565e', 'azureml.git.dirty': 'True', '_azureml.ComputeTargetType': 'amlctrain', 'ContentSnapshotId': 'c7d82aaa-69a2-486c-9d3a-33288d98f1bb'}, 'id': '/subscriptions/d128f140-94e6-4175-87a7-954b9d27db16/resourceGroups/ragargeastus2euap/providers/Microsoft.MachineLearningServices/workspaces/hanchi-test2/jobs/icy_roti_mp4zl17fyf', 'base_path': './', 'creation_context': <azure.ml._restclient.v2022_02_01_preview.models._models_py3.SystemData object at 0x0000022F0F0A9760>, 'serialize': <msrest.serialization.Serializer object at 0x0000022F0F0E7D90>, 'command': 'Rscript train.R --data_folder ${{inputs.iris}}', 'code': '/subscriptions/d128f140-94e6-4175-87a7-954b9d27db16/resourceGroups/ragargeastus2euap/providers/Microsoft.MachineLearningServices/workspaces/hanchi-test2/codes/c20fc64e-6a48-4d31-ae1d-1941aa89d2e6/versions/1', 'environment_variables': {}, 'environment': 'CliV2AnonymousEnvironment:0384b4368c92bb269714c3b386bb6034', 'distribution': None, 'resources': {'instance_count': 1, 'properties': {}}, 'experiment_name': '1d_pipeline_with_non_python_components', 'compute': 'cpu-cluster', 'services': {'Tracking': <azure.ml._restclient.v2022_02_01_preview.models._models_py3.JobService object at 0x0000022F0F052D30>, 'Studio': <azure.ml._restclient.v2022_02_01_preview.models._models_py3.JobService object at 0x0000022F0F052C40>}, 'outputs': {'default': {'type': 'uri_folder', 'mode': 'rw_mount', 'path': 'azureml://datastores/workspaceartifactstore/ExperimentRun/dcid.icy_roti_mp4zl17fyf'}}, 'inputs': {'iris': {'type': 'uri_file', 'path': 'https://azuremlexamples.blob.core.windows.net/datasets/iris.csv', 'mode': 'ro_mount'}, 'lr': '0.01'}, 'limits': None, 'identity': None})"
      ]
     },
     "execution_count": 23,
     "metadata": {},
     "output_type": "execute_result"
    }
   ],
   "source": [
    "ml_client.create_or_update(train_data_with_r)"
   ]
  },
  {
   "cell_type": "markdown",
   "metadata": {},
   "source": [
    "# 3. Hyper parameter tuning made easy"
   ]
  },
  {
   "cell_type": "code",
   "execution_count": 24,
   "metadata": {},
   "outputs": [],
   "source": [
    "# train_data_with_r can be executed to apply different inputs\n",
    "node_to_sweep = train_data_with_r(lr=Uniform(min_value=0.01, max_value=0.9))\n",
    "\n",
    "sweep_job = node_to_sweep.sweep(\n",
    "    sampling_algorithm='random',\n",
    "    primary_metric='test-multi_logloss',\n",
    "    goal='Minimize'\n",
    ")\n",
    "\n",
    "sweep_job.display_name = \"lightgbm-iris-sweep-example\"\n",
    "sweep_job.set_limits(max_total_trials=20, max_concurrent_trials=10, timeout=7200)"
   ]
  },
  {
   "cell_type": "code",
   "execution_count": 25,
   "metadata": {},
   "outputs": [
    {
     "data": {
      "text/html": [
       "<table style=\"width:100%\"><tr><th>Experiment</th><th>Name</th><th>Type</th><th>Status</th><th>Details Page</th></tr><tr><td>1d_pipeline_with_non_python_components</td><td>sharp_plate_fzthlrqmlz</td><td>sweep</td><td>Running</td><td><a href=\"https://ml.azure.com/runs/sharp_plate_fzthlrqmlz?wsid=/subscriptions/d128f140-94e6-4175-87a7-954b9d27db16/resourcegroups/ragargeastus2euap/workspaces/hanchi-test2&amp;tid=72f988bf-86f1-41af-91ab-2d7cd011db47\" target=\"_blank\" rel=\"noopener\">Link to Azure Machine Learning studio</a></td></tr></table>"
      ],
      "text/plain": [
       "SweepJob({'display_name': 'lightgbm-iris-sweep-example', 'type': 'sweep', 'status': 'Running', 'log_files': None, 'name': 'sharp_plate_fzthlrqmlz', 'description': None, 'tags': {'_aml_system_max_concurrent_jobs': '10', '_aml_system_max_total_jobs': '20', '_aml_system_max_duration_minutes': '120', '_aml_system_policy_config': '{\"name\": \"DEFAULT\", \"properties\": {}}', '_aml_system_generator_config': '{\"name\": \"RANDOM\", \"properties\": {\"rule\": \"Random\", \"seed\": null}, \"parameter_space\": {\"lr\": [\"uniform\", [0.01, 0.9]]}}', '_aml_system_primary_metric_config': '{\"name\": \"test-multi_logloss\", \"goal\": \"minimize\"}', '_aml_system_platform_config': '{\"ServiceAddress\": \"https://eastus2euap.api.azureml.ms\", \"SubscriptionId\": \"d128f140-94e6-4175-87a7-954b9d27db16\", \"ResourceGroupName\": \"ragargeastus2euap\", \"WorkspaceName\": \"hanchi-test2\", \"ExperimentName\": \"1d_pipeline_with_non_python_components\", \"Definition\": {\"Configuration\": null, \"Attribution\": null, \"TelemetryValues\": null, \"Overrides\": {\"Script\": null, \"Command\": \"Rscript train.R --data_folder ${{inputs.iris}}\", \"UseAbsolutePath\": true, \"Arguments\": [], \"SourceDirectoryDataStore\": null, \"Framework\": 0, \"Target\": \"cpu-cluster\", \"DataReferences\": {}, \"Data\": {\"iris\": {\"DataLocation\": {\"Dataset\": null, \"DataPath\": null, \"Uri\": {\"Path\": \"https://azuremlexamples.blob.core.windows.net/datasets/iris.csv\", \"IsFile\": true}, \"Type\": \"UriFile\"}, \"Mechanism\": \"Mount\", \"EnvironmentVariableName\": \"AZURE_ML_INPUT_iris\", \"PathOnCompute\": null, \"Overwrite\": false, \"Options\": {\"IsEvalMode\": \"False\", \"ReadWrite\": \"False\", \"ForceFolder\": \"False\"}}}, \"InputAssets\": {\"iris\": {\"Asset\": {\"AssetId\": \"azureml://locations/eastus2euap/workspaces/29821ecb-61a4-46ab-8648-29098636296b/data/azureml_349ecc9c-7fb9-41a3-9483-9d57596c44a3_input_data_iris_csv/versions/1\", \"Type\": \"UriFile\"}, \"Mechanism\": \"Mount\", \"EnvironmentVariableName\": \"AZURE_ML_INPUT_iris\", \"PathOnCompute\": null, \"Overwrite\": false, \"Options\": {\"IsEvalMode\": \"False\", \"ReadWrite\": \"False\", \"ForceFolder\": \"False\"}}}, \"OutputData\": {}, \"Datacaches\": [], \"JobName\": null, \"MaxRunDurationSeconds\": null, \"NodeCount\": 1, \"InstanceTypes\": [], \"Priority\": null, \"CredentialPassthrough\": false, \"Identity\": null, \"Environment\": {\"Name\": \"CliV2AnonymousEnvironment\", \"Version\": \"0384b4368c92bb269714c3b386bb6034\", \"AssetId\": \"azureml://locations/eastus2euap/workspaces/29821ecb-61a4-46ab-8648-29098636296b/environments/CliV2AnonymousEnvironment/versions/0384b4368c92bb269714c3b386bb6034\", \"Python\": {\"InterpreterPath\": null, \"UserManagedDependencies\": true, \"CondaDependencies\": null, \"BaseCondaEnvironment\": null}, \"EnvironmentVariables\": {}, \"Docker\": {\"BaseImage\": null, \"Platform\": {\"Os\": \"Linux\", \"Architecture\": \"amd64\"}, \"BaseDockerfile\": null, \"BuildContext\": {\"LocationType\": \"storageAccount\", \"Location\": \"https://hanchitestorage2df2f4b64.blob.core.windows.net/azureml-blobstore-29821ecb-61a4-46ab-8648-29098636296b/LocalUpload/04e57cf0a8f2a62699fb461bb30a46d3/docker_context/\", \"DockerfilePath\": \"Dockerfile\"}, \"BaseImageRegistry\": null}, \"Spark\": {\"Repositories\": [], \"Packages\": [], \"PrecachePackages\": true}, \"InferencingStackVersion\": null}, \"History\": {\"OutputCollection\": true, \"DirectoriesToWatch\": [\"logs\"], \"EnableMLflowTracking\": true}, \"Spark\": {\"Configuration\": {}}, \"ParallelTask\": {\"MaxRetriesPerWorker\": 0, \"WorkerCountPerNode\": 1, \"TerminalExitCodes\": null, \"Configuration\": {}}, \"BatchAi\": {\"NodeCount\": 0}, \"AmlCompute\": {\"Name\": null, \"VmSize\": null, \"RetainCluster\": false, \"ClusterMaxNodeCount\": null}, \"AISuperComputer\": {\"InstanceType\": \"D2\", \"FrameworkImage\": null, \"ImageVersion\": \"pytorch-1.7.0\", \"Location\": null, \"AISuperComputerStorageData\": null, \"Interactive\": false, \"ScalePolicy\": null, \"VirtualClusterArmId\": null, \"TensorboardLogDirectory\": null, \"SSHPublicKey\": null, \"SSHPublicKeys\": null, \"EnableAzmlInt\": true, \"Priority\": \"Medium\", \"SLATier\": \"Standard\", \"UserAlias\": null}, \"KubernetesCompute\": {\"InstanceType\": null}, \"Tensorflow\": {\"WorkerCount\": 0, \"ParameterServerCount\": 0}, \"Mpi\": {\"ProcessCountPerNode\": 0}, \"PyTorch\": {\"CommunicationBackend\": null, \"ProcessCount\": null}, \"Hdi\": {\"YarnDeployMode\": 0}, \"ContainerInstance\": {\"Region\": null, \"CpuCores\": 2.0, \"MemoryGb\": 3.5}, \"ExposedPorts\": null, \"Docker\": {\"UseDocker\": true, \"SharedVolumes\": null, \"ShmSize\": null, \"Arguments\": null}, \"Cmk8sCompute\": {\"Configuration\": {}}, \"CommandReturnCodeConfig\": {\"ReturnCode\": 0, \"SuccessfulReturnCodes\": []}, \"ApplicationEndpoints\": {}, \"Parameters\": []}, \"SnapshotId\": \"c7d82aaa-69a2-486c-9d3a-33288d98f1bb\", \"Snapshots\": [], \"SourceCodeDataReference\": null, \"ParentRunId\": null, \"DataContainerId\": null, \"RunType\": null, \"DisplayName\": \"lightgbm-iris-sweep-example\", \"EnvironmentAssetId\": null, \"Properties\": {\"mlflow.source.git.repoURL\": \"https://github.com/Azure/azureml-examples.git\", \"mlflow.source.git.branch\": \"hancwang/april\", \"mlflow.source.git.commit\": \"646c0f12e62d39fa7641d9769ab8832ecc45565e\", \"azureml.git.dirty\": \"True\"}, \"Tags\": {}, \"AggregatedArtifactPath\": null}}', '_aml_system_resume_child_runs': 'null', '_aml_system_all_jobs_generated': 'false', '_aml_system_cancellation_requested': 'false'}, 'properties': {'primary_metric_config': '{\"name\": \"test-multi_logloss\", \"goal\": \"minimize\"}', 'resume_from': 'null', 'runTemplate': 'HyperDrive', 'azureml.runsource': 'hyperdrive', 'platform': 'AML', 'mlflow.source.git.repoURL': 'https://github.com/Azure/azureml-examples.git', 'mlflow.source.git.branch': 'hancwang/april', 'mlflow.source.git.commit': '646c0f12e62d39fa7641d9769ab8832ecc45565e', 'azureml.git.dirty': 'True', 'ContentSnapshotId': 'c7d82aaa-69a2-486c-9d3a-33288d98f1bb', 'user_agent': 'managementfrontend/d517dbec67e7750fcbaec2896128a4470695feaa'}, 'id': '/subscriptions/d128f140-94e6-4175-87a7-954b9d27db16/resourceGroups/ragargeastus2euap/providers/Microsoft.MachineLearningServices/workspaces/hanchi-test2/jobs/sharp_plate_fzthlrqmlz', 'base_path': './', 'creation_context': <azure.ml._restclient.v2022_02_01_preview.models._models_py3.SystemData object at 0x0000022F0F03D1F0>, 'serialize': <msrest.serialization.Serializer object at 0x0000022F0F03D3D0>, 'sampling_algorithm': <azure.ml.entities._job.sweep.sampling_algorithm.RandomSamplingAlgorithm object at 0x0000022F0EED9B80>, 'early_termination': None, 'limits': <azure.ml.entities._job.job_limits.SweepJobLimits object at 0x0000022F0F03DB80>, 'search_space': {'lr': <azure.ml.entities._job.sweep.search_space.Uniform object at 0x0000022F0F03DAC0>}, 'objective': <azure.ml._restclient.v2022_02_01_preview.models._models_py3.Objective object at 0x0000022F0F03D430>, 'experiment_name': '1d_pipeline_with_non_python_components', 'compute': 'cpu-cluster', 'services': {'Studio': <azure.ml._restclient.v2022_02_01_preview.models._models_py3.JobService object at 0x0000022F0F03D250>}, 'inputs': {'iris': {'type': 'uri_file', 'path': 'azureml://locations/eastus2euap/workspaces/29821ecb-61a4-46ab-8648-29098636296b/data/azureml_349ecc9c-7fb9-41a3-9483-9d57596c44a3_input_data_iris_csv/versions/1', 'mode': 'ro_mount'}}, 'outputs': {'default': {'type': 'uri_folder', 'mode': 'rw_mount', 'path': 'azureml://datastores/workspaceartifactstore/ExperimentRun/dcid.sharp_plate_fzthlrqmlz'}}, 'trial': <azure.ml.entities._job.parameterized_command.ParameterizedCommand object at 0x0000022F0F03DBE0>})"
      ]
     },
     "execution_count": 25,
     "metadata": {},
     "output_type": "execute_result"
    }
   ],
   "source": [
    "ml_client.create_or_update(sweep_job)"
   ]
  },
  {
   "cell_type": "markdown",
   "metadata": {},
   "source": [
    "# 4. Reuse the same code to compose pipeline steps"
   ]
  },
  {
   "cell_type": "code",
   "execution_count": 29,
   "metadata": {},
   "outputs": [],
   "source": [
    "download_url = \"https://azuremlexamples.blob.core.windows.net/datasets/iris.csv\"\n",
    "environment = \"AzureML-sklearn-0.24-ubuntu18.04-py37-cpu:1\"\n",
    "\n",
    "# 1. Create a command component to download a input data\n",
    "download_data = command(\n",
    "    display_name=\"Download Data\",\n",
    "    description=\"Download a input from remote URL and return it in output.\",\n",
    "    tags=dict(),\n",
    "    command=\"curl ${{inputs.url}} > ${{outputs.output_file}}\",\n",
    "    environment=environment,\n",
    "    inputs=dict(\n",
    "        url=download_url # Default download URL\n",
    "    ),\n",
    "    outputs=dict(\n",
    "        output_file=Output(type=\"uri_file\", mode=\"rw_mount\")\n",
    "    )\n",
    ")"
   ]
  },
  {
   "cell_type": "markdown",
   "metadata": {},
   "source": [
    "# 5. Create the pipeline job using the components"
   ]
  },
  {
   "cell_type": "code",
   "execution_count": 32,
   "metadata": {},
   "outputs": [
    {
     "name": "stdout",
     "output_type": "stream",
     "text": [
      "name: goofy_ocean_mhqtdmdmnc\n",
      "display_name: pipeline_with_non_python_components\n",
      "description: The hello world pipeline job\n",
      "type: pipeline\n",
      "inputs:\n",
      "  url: https://azuremlexamples.blob.core.windows.net/datasets/iris.csv\n",
      "outputs: {}\n",
      "tags:\n",
      "  owner: sdkteam\n",
      "  tag: tagvalue\n",
      "compute: azureml:cpu-cluster\n",
      "properties: {}\n",
      "jobs:\n",
      "  download_data_node:\n",
      "    $schema: '{}'\n",
      "    type: command\n",
      "    inputs:\n",
      "      url: ${{parent.inputs.url}}\n",
      "    outputs:\n",
      "      output_file:\n",
      "        mode: rw_mount\n",
      "        type: uri_file\n",
      "    command: curl ${{inputs.url}} > ${{outputs.output_file}}\n",
      "    environment: azureml:AzureML-sklearn-0.24-ubuntu18.04-py37-cpu:1\n",
      "    code: /subscriptions/d128f140-94e6-4175-87a7-954b9d27db16/resourceGroups/ragargeastus2euap/providers/Microsoft.MachineLearningServices/workspaces/hanchi-test2/codes/df9605e9-a11d-4f66-b520-54a2aae24694/versions/1\n",
      "    environment_variables: {}\n",
      "    component:\n",
      "      name: 07de804c-e1e6-8d74-2e44-a6750b179343\n",
      "      version: '1'\n",
      "      display_name: Download Data\n",
      "      description: Download a input from remote URL and return it in output.\n",
      "      type: command\n",
      "      inputs:\n",
      "        url:\n",
      "          type: string\n",
      "          default: https://azuremlexamples.blob.core.windows.net/datasets/iris.csv\n",
      "      outputs:\n",
      "        output_file:\n",
      "          type: uri_file\n",
      "      command: curl ${{inputs.url}} > ${{outputs.output_file}}\n",
      "      environment: azureml:/subscriptions/d128f140-94e6-4175-87a7-954b9d27db16/resourceGroups/ragargeastus2euap/providers/Microsoft.MachineLearningServices/workspaces/hanchi-test2/environments/AzureML-sklearn-0.24-ubuntu18.04-py37-cpu/versions/1\n",
      "      code: azureml:/subscriptions/d128f140-94e6-4175-87a7-954b9d27db16/resourceGroups/ragargeastus2euap/providers/Microsoft.MachineLearningServices/workspaces/hanchi-test2/codes/df9605e9-a11d-4f66-b520-54a2aae24694/versions/1\n",
      "      is_deterministic: true\n",
      "      id: /subscriptions/d128f140-94e6-4175-87a7-954b9d27db16/resourceGroups/ragargeastus2euap/providers/Microsoft.MachineLearningServices/workspaces/hanchi-test2/components/07de804c-e1e6-8d74-2e44-a6750b179343/versions/1\n",
      "      tags: {}\n",
      "  train_node:\n",
      "    $schema: '{}'\n",
      "    type: command\n",
      "    inputs:\n",
      "      iris: ${{parent.jobs.07de804c-e1e6-8d74-2e44-a6750b179343.outputs.output_file}}\n",
      "      lr: 0\n",
      "    outputs: {}\n",
      "    command: Rscript train.R --data_folder ${{inputs.iris}}\n",
      "    environment:\n",
      "      name: CliV2AnonymousEnvironment\n",
      "      tags: {}\n",
      "      version: 0384b4368c92bb269714c3b386bb6034\n",
      "      build:\n",
      "        path: https://hanchitestorage2df2f4b64.blob.core.windows.net/azureml-blobstore-29821ecb-61a4-46ab-8648-29098636296b/LocalUpload/04e57cf0a8f2a62699fb461bb30a46d3/docker_context/\n",
      "    code: /subscriptions/d128f140-94e6-4175-87a7-954b9d27db16/resourceGroups/ragargeastus2euap/providers/Microsoft.MachineLearningServices/workspaces/hanchi-test2/codes/c20fc64e-6a48-4d31-ae1d-1941aa89d2e6/versions/1\n",
      "    environment_variables: {}\n",
      "    component:\n",
      "      name: f59dc85c-6c5b-6de6-e25e-f02b90e20f09\n",
      "      version: '1'\n",
      "      display_name: train_node\n",
      "      description: Train data with R.\n",
      "      type: command\n",
      "      inputs:\n",
      "        iris:\n",
      "          type: uri_file\n",
      "        lr:\n",
      "          type: float\n",
      "          default: '0.01'\n",
      "      outputs: {}\n",
      "      command: Rscript train.R --data_folder ${{inputs.iris}}\n",
      "      environment: azureml:/subscriptions/d128f140-94e6-4175-87a7-954b9d27db16/resourceGroups/ragargeastus2euap/providers/Microsoft.MachineLearningServices/workspaces/hanchi-test2/environments/CliV2AnonymousEnvironment/versions/0384b4368c92bb269714c3b386bb6034\n",
      "      code: azureml:/subscriptions/d128f140-94e6-4175-87a7-954b9d27db16/resourceGroups/ragargeastus2euap/providers/Microsoft.MachineLearningServices/workspaces/hanchi-test2/codes/c20fc64e-6a48-4d31-ae1d-1941aa89d2e6/versions/1\n",
      "      is_deterministic: true\n",
      "      id: /subscriptions/d128f140-94e6-4175-87a7-954b9d27db16/resourceGroups/ragargeastus2euap/providers/Microsoft.MachineLearningServices/workspaces/hanchi-test2/components/f59dc85c-6c5b-6de6-e25e-f02b90e20f09/versions/1\n",
      "      tags: {}\n",
      "    compute: azureml:cpu-cluster\n",
      "experiment_name: 1d_pipeline_with_non_python_components\n",
      "settings:\n",
      "  force_rerun: false\n",
      "\n"
     ]
    }
   ],
   "source": [
    "compute = 'cpu-cluster'\n",
    "\n",
    "@dsl.pipeline(\n",
    "    description=\"The hello world pipeline job\",\n",
    "    tags={\"owner\": \"sdkteam\", \"tag\": \"tagvalue\"},\n",
    "    default_compute=compute,\n",
    ")\n",
    "def pipeline_with_non_python_components(url):\n",
    "    download_data_node = download_data(url=url)\n",
    "    train_node = train_data_with_r(iris=download_data_node.outputs.output_file)\n",
    "\n",
    "pipeline = pipeline_with_non_python_components(download_url)\n",
    "print(pipeline)"
   ]
  },
  {
   "cell_type": "code",
   "execution_count": null,
   "metadata": {},
   "outputs": [],
   "source": [
    "pipeline_job = ml_client.jobs.create_or_update(pipeline, experiment_name=\"pipeline_samples\")"
   ]
  },
  {
   "cell_type": "code",
   "execution_count": null,
   "metadata": {},
   "outputs": [],
   "source": []
  }
 ],
 "metadata": {
  "description": {
   "description": "Create a pipeline with command function"
  },
  "interpreter": {
   "hash": "3e9e0e270b75c5e6da2e22113ba4f77b864d68f95da6601809c29e46c73ae6bb"
  },
  "kernelspec": {
   "display_name": "Python 3",
   "language": "python",
   "name": "python3"
  },
  "language_info": {
   "codemirror_mode": {
    "name": "ipython",
    "version": 3
   },
   "file_extension": ".py",
   "mimetype": "text/x-python",
   "name": "python",
   "nbconvert_exporter": "python",
   "pygments_lexer": "ipython3",
   "version": "3.8.5"
  }
 },
 "nbformat": 4,
 "nbformat_minor": 4
}
