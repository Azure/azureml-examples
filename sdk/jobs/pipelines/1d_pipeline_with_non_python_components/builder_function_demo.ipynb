{
 "cells": [
  {
   "cell_type": "markdown",
   "metadata": {},
   "source": [
    "# Builder functions in SDK v2\n",
    "\n",
    "**Motivations** \n",
    "\n",
    "- Builder functions are a convenient and flexible way to define jobs and components in Python.\n",
    "- Builder functions make it easy to switch from a command job to a sweep job, from a command pipeline step to a sweep pipeline step.\n",
    "- Builder functions allow the same syntax to compose stand alone jobs and pipeline jobs."
   ]
  },
  {
   "cell_type": "markdown",
   "metadata": {},
   "source": [
    "# 1. Define MLClient to connect to my workspace "
   ]
  },
  {
   "cell_type": "code",
   "execution_count": 40,
   "metadata": {},
   "outputs": [],
   "source": [
    "#import required libraries\n",
    "from azure.ml import MLClient, dsl, command, Input, Output\n",
    "from azure.ml.sweep import Uniform, Choice\n",
    "from azure.identity import DefaultAzureCredential\n",
    "\n",
    "ml_client = MLClient(DefaultAzureCredential(), \"d128f140-94e6-4175-87a7-954b9d27db16\", \"ragargeastus2euap\", \"hanchi-test2\")"
   ]
  },
  {
   "cell_type": "markdown",
   "metadata": {},
   "source": [
    "# 2. A convenient way to create a command job using the `command()` function"
   ]
  },
  {
   "cell_type": "code",
   "execution_count": 46,
   "metadata": {},
   "outputs": [],
   "source": [
    "train_job=command(\n",
    "    code='./src',\n",
    "    command = 'python main.py --iris-csv ${{inputs.iris_csv}} --learning-rate ${{inputs.learning_rate}} --boosting ${{inputs.boosting}} --output ${{outputs.my_model}}',\n",
    "    environment='AzureML-lightgbm-3.2-ubuntu18.04-py37-cpu@latest',\n",
    "    inputs={\n",
    "        'iris_csv': Input(type='uri_file', path='https://azuremlexamples.blob.core.windows.net/datasets/iris.csv'),\n",
    "        'learning_rate': 0.9,\n",
    "        'boosting': 'gbdt'},\n",
    "    outputs={\n",
    "        'my_model': Output(type='uri_file')\n",
    "    },\n",
    "    compute='cpu-cluster',\n",
    "    display_name='lightgbm-iris-example',\n",
    "    experiment_name='lightgbm-iris-example',\n",
    "    description='Train a LightGBM model on the Iris dataset.'\n",
    ")"
   ]
  },
  {
   "cell_type": "code",
   "execution_count": 47,
   "metadata": {},
   "outputs": [
    {
     "data": {
      "text/html": [
       "<table style=\"width:100%\"><tr><th>Experiment</th><th>Name</th><th>Type</th><th>Status</th><th>Details Page</th></tr><tr><td>lightgbm-iris-example</td><td>elated_shark_1sttbd5v17</td><td>command</td><td>Starting</td><td><a href=\"https://ml.azure.com/runs/elated_shark_1sttbd5v17?wsid=/subscriptions/d128f140-94e6-4175-87a7-954b9d27db16/resourcegroups/ragargeastus2euap/workspaces/hanchi-test2&amp;tid=72f988bf-86f1-41af-91ab-2d7cd011db47\" target=\"_blank\" rel=\"noopener\">Link to Azure Machine Learning studio</a></td></tr></table>"
      ],
      "text/plain": [
       "CommandJob({'parameters': {}, 'display_name': 'lightgbm-iris-example', 'type': 'command', 'status': 'Starting', 'log_files': None, 'name': 'elated_shark_1sttbd5v17', 'description': 'Train a LightGBM model on the Iris dataset.', 'tags': {}, 'properties': {'mlflow.source.git.repoURL': 'https://github.com/Azure/azureml-examples.git', 'mlflow.source.git.branch': 'hancwang/april', 'mlflow.source.git.commit': 'bb07eaac8ff494c5e03a07786a76b47f270dafa8', 'azureml.git.dirty': 'True', '_azureml.ComputeTargetType': 'amlctrain', 'ContentSnapshotId': '23816a4a-76e2-407a-ba00-1b31e63e2b17'}, 'id': '/subscriptions/d128f140-94e6-4175-87a7-954b9d27db16/resourceGroups/ragargeastus2euap/providers/Microsoft.MachineLearningServices/workspaces/hanchi-test2/jobs/elated_shark_1sttbd5v17', 'base_path': './', 'creation_context': <azure.ml._restclient.v2022_02_01_preview.models._models_py3.SystemData object at 0x000001CFF1F50C10>, 'serialize': <msrest.serialization.Serializer object at 0x000001CFF1F62430>, 'command': 'python main.py --iris-csv ${{inputs.iris_csv}} --learning-rate ${{inputs.learning_rate}} --boosting ${{inputs.boosting}} --output ${{outputs.my_model}}', 'code': '/subscriptions/d128f140-94e6-4175-87a7-954b9d27db16/resourceGroups/ragargeastus2euap/providers/Microsoft.MachineLearningServices/workspaces/hanchi-test2/codes/48ac8ad1-a78d-4446-a07f-6af74d9d7438/versions/1', 'environment_variables': {}, 'environment': 'AzureML-lightgbm-3.2-ubuntu18.04-py37-cpu:30', 'distribution': None, 'resources': {'instance_count': 1, 'properties': {}}, 'experiment_name': 'lightgbm-iris-example', 'compute': 'cpu-cluster', 'services': {'Tracking': <azure.ml._restclient.v2022_02_01_preview.models._models_py3.JobService object at 0x000001CFF1F50F10>, 'Studio': <azure.ml._restclient.v2022_02_01_preview.models._models_py3.JobService object at 0x000001CFF1F50EE0>}, 'outputs': {'my_model': {'type': 'uri_file', 'mode': 'rw_mount'}, 'default': {'type': 'uri_folder', 'mode': 'rw_mount', 'path': 'azureml://datastores/workspaceartifactstore/ExperimentRun/dcid.elated_shark_1sttbd5v17'}}, 'inputs': {'iris_csv': {'type': 'uri_file', 'path': 'https://azuremlexamples.blob.core.windows.net/datasets/iris.csv', 'mode': 'ro_mount'}, 'learning_rate': '0.9', 'boosting': 'gbdt'}, 'limits': None, 'identity': None})"
      ]
     },
     "execution_count": 47,
     "metadata": {},
     "output_type": "execute_result"
    }
   ],
   "source": [
    "ml_client.create_or_update(train_job)"
   ]
  },
  {
   "cell_type": "markdown",
   "metadata": {},
   "source": [
    "# 3. Hyper parameter tuning made easy"
   ]
  },
  {
   "cell_type": "code",
   "execution_count": 33,
   "metadata": {},
   "outputs": [],
   "source": [
    "# we are using the command_job above again by applying it inputs via calling it as a function\n",
    "# note that we do not apply the 'iris_csv' input again -- that way the prior input from above will be used again\n",
    "command_job_for_sweep = train_job(learning_rate=Uniform(min_value=0.01, max_value=0.9), \n",
    "                                    boosting=Choice(values=['gbdt', 'dart']))\n",
    "\n",
    "sweep_job = command_job_for_sweep.sweep(\n",
    "    compute='cpu-cluster',\n",
    "    sampling_algorithm='random',\n",
    "    primary_metric='test-multi_logloss',\n",
    "    goal='Minimize'\n",
    ")\n",
    "\n",
    "sweep_job.display_name = \"lightgbm-iris-sweep-example\"\n",
    "sweep_job.set_limits(max_total_trials=20, max_concurrent_trials=10, timeout=7200)"
   ]
  },
  {
   "cell_type": "code",
   "execution_count": 34,
   "metadata": {},
   "outputs": [
    {
     "data": {
      "text/html": [
       "<table style=\"width:100%\"><tr><th>Experiment</th><th>Name</th><th>Type</th><th>Status</th><th>Details Page</th></tr><tr><td>1d_pipeline_with_non_python_components</td><td>ca76b928-e00f-44ee-a362-5e2a6cb4525e</td><td>sweep</td><td>Running</td><td><a href=\"https://ml.azure.com/runs/ca76b928-e00f-44ee-a362-5e2a6cb4525e?wsid=/subscriptions/d128f140-94e6-4175-87a7-954b9d27db16/resourcegroups/ragargeastus2euap/workspaces/hanchi-test2&amp;tid=72f988bf-86f1-41af-91ab-2d7cd011db47\" target=\"_blank\" rel=\"noopener\">Link to Azure Machine Learning studio</a></td></tr></table>"
      ],
      "text/plain": [
       "SweepJob({'display_name': 'lightgbm-iris-sweep-example', 'type': 'sweep', 'status': 'Running', 'log_files': None, 'name': 'ca76b928-e00f-44ee-a362-5e2a6cb4525e', 'description': None, 'tags': {'_aml_system_max_concurrent_jobs': '10', '_aml_system_max_total_jobs': '20', '_aml_system_max_duration_minutes': '120', '_aml_system_policy_config': '{\"name\": \"DEFAULT\", \"properties\": {}}', '_aml_system_generator_config': '{\"name\": \"RANDOM\", \"properties\": {\"rule\": \"Random\", \"seed\": null}, \"parameter_space\": {\"learning_rate\": [\"uniform\", [0.01, 0.9]], \"boosting\": [\"choice\", [[\"gbdt\", \"dart\"]]]}}', '_aml_system_primary_metric_config': '{\"name\": \"test-multi_logloss\", \"goal\": \"minimize\"}', '_aml_system_platform_config': '{\"ServiceAddress\": \"https://eastus2euap.api.azureml.ms\", \"SubscriptionId\": \"d128f140-94e6-4175-87a7-954b9d27db16\", \"ResourceGroupName\": \"ragargeastus2euap\", \"WorkspaceName\": \"hanchi-test2\", \"ExperimentName\": \"1d_pipeline_with_non_python_components\", \"Definition\": {\"Configuration\": null, \"Attribution\": null, \"TelemetryValues\": null, \"Overrides\": {\"Script\": null, \"Command\": \"python main.py --iris-csv ${{inputs.iris_csv}} --learning-rate ${{search_space.learning_rate}} --boosting ${{search_space.boosting}} --output ${{outputs.my_model}}\", \"UseAbsolutePath\": true, \"Arguments\": [], \"SourceDirectoryDataStore\": null, \"Framework\": 0, \"Target\": \"cpu-cluster\", \"DataReferences\": {}, \"Data\": {\"iris_csv\": {\"DataLocation\": {\"Dataset\": null, \"DataPath\": null, \"Uri\": {\"Path\": \"https://azuremlexamples.blob.core.windows.net/datasets/iris.csv\", \"IsFile\": true}, \"Type\": \"UriFile\"}, \"Mechanism\": \"Mount\", \"EnvironmentVariableName\": \"AZURE_ML_INPUT_iris_csv\", \"PathOnCompute\": null, \"Overwrite\": false, \"Options\": {\"IsEvalMode\": \"False\", \"ReadWrite\": \"False\", \"ForceFolder\": \"False\"}}}, \"InputAssets\": {\"iris_csv\": {\"Asset\": {\"AssetId\": \"azureml://locations/eastus2euap/workspaces/29821ecb-61a4-46ab-8648-29098636296b/data/azureml_349ecc9c-7fb9-41a3-9483-9d57596c44a3_input_data_iris_csv/versions/1\", \"Type\": \"UriFile\"}, \"Mechanism\": \"Mount\", \"EnvironmentVariableName\": \"AZURE_ML_INPUT_iris_csv\", \"PathOnCompute\": null, \"Overwrite\": false, \"Options\": {\"IsEvalMode\": \"False\", \"ReadWrite\": \"False\", \"ForceFolder\": \"False\"}}}, \"OutputData\": {}, \"Datacaches\": [], \"JobName\": null, \"MaxRunDurationSeconds\": null, \"NodeCount\": 1, \"InstanceTypes\": [], \"Priority\": null, \"CredentialPassthrough\": false, \"Identity\": null, \"Environment\": {\"Name\": \"AzureML-lightgbm-3.2-ubuntu18.04-py37-cpu\", \"Version\": \"30\", \"AssetId\": \"azureml://registries/CuratedRegistry/environments/AzureML-lightgbm-3.2-ubuntu18.04-py37-cpu/versions/30\", \"Python\": {\"InterpreterPath\": \"python\", \"UserManagedDependencies\": true, \"CondaDependencies\": null, \"BaseCondaEnvironment\": null}, \"EnvironmentVariables\": {\"EXAMPLE_ENV_VAR\": \"EXAMPLE_VALUE\"}, \"Docker\": {\"BaseImage\": null, \"Platform\": {\"Os\": \"Linux\", \"Architecture\": \"amd64\"}, \"BaseDockerfile\": \"FROM mcr.microsoft.com/azureml/openmpi3.1.2-ubuntu18.04:20220329.v1\\\\n\\\\nENV AZUREML_CONDA_ENVIRONMENT_PATH /azureml-envs/lightgbm\\\\n# Create conda environment\\\\nRUN conda create -p $AZUREML_CONDA_ENVIRONMENT_PATH \\\\\\\\\\\\n    python=3.7 pip=20.2.4\\\\n\\\\n# Prepend path to AzureML conda environment\\\\nENV PATH $AZUREML_CONDA_ENVIRONMENT_PATH/bin:$PATH\\\\n\\\\n# Install pip dependencies\\\\nRUN HOROVOD_WITH_TENSORFLOW=1 \\\\\\\\\\\\n    pip install \\'matplotlib>=3.3,<3.4\\' \\\\\\\\\\\\n                \\'psutil>=5.8,<5.9\\' \\\\\\\\\\\\n                \\'tqdm>=4.59,<4.60\\' \\\\\\\\\\\\n                \\'pandas>=1.1,<1.2\\' \\\\\\\\\\\\n                \\'numpy>=1.10,<1.20\\' \\\\\\\\\\\\n                \\'scipy~=1.5.0\\' \\\\\\\\\\\\n                \\'scikit-learn~=0.24.1\\' \\\\\\\\\\\\n                \\'xgboost~=1.4.0\\' \\\\\\\\\\\\n                \\'lightgbm~=3.2.0\\' \\\\\\\\\\\\n                \\'dask~=2021.6.0\\' \\\\\\\\\\\\n                \\'distributed~=2021.6.0\\' \\\\\\\\\\\\n                \\'dask-ml~=1.9.0\\' \\\\\\\\\\\\n                \\'adlfs~=0.7.0\\' \\\\\\\\\\\\n                \\'ipykernel~=6.0\\' \\\\\\\\\\\\n                \\'azureml-core==1.40.0\\' \\\\\\\\\\\\n                \\'azureml-defaults==1.40.0\\' \\\\\\\\\\\\n                \\'azureml-mlflow==1.40.0\\' \\\\\\\\\\\\n                \\'azureml-telemetry==1.40.0\\'\\\\n\\\\n# This is needed for mpi to locate libpython\\\\nENV LD_LIBRARY_PATH $AZUREML_CONDA_ENVIRONMENT_PATH/lib:$LD_LIBRARY_PATH\", \"BaseImageRegistry\": {\"Address\": null, \"Username\": null, \"Password\": null}, \"Enabled\": false, \"Arguments\": []}, \"Spark\": {\"Repositories\": [], \"Packages\": [], \"PrecachePackages\": true}, \"InferencingStackVersion\": null}, \"History\": {\"OutputCollection\": true, \"DirectoriesToWatch\": [\"logs\"], \"EnableMLflowTracking\": true}, \"Spark\": {\"Configuration\": {}}, \"ParallelTask\": {\"MaxRetriesPerWorker\": 0, \"WorkerCountPerNode\": 1, \"TerminalExitCodes\": null, \"Configuration\": {}}, \"BatchAi\": {\"NodeCount\": 0}, \"AmlCompute\": {\"Name\": null, \"VmSize\": null, \"RetainCluster\": false, \"ClusterMaxNodeCount\": null}, \"AISuperComputer\": {\"InstanceType\": \"D2\", \"FrameworkImage\": null, \"ImageVersion\": \"pytorch-1.7.0\", \"Location\": null, \"AISuperComputerStorageData\": null, \"Interactive\": false, \"ScalePolicy\": null, \"VirtualClusterArmId\": null, \"TensorboardLogDirectory\": null, \"SSHPublicKey\": null, \"SSHPublicKeys\": null, \"EnableAzmlInt\": true, \"Priority\": \"Medium\", \"SLATier\": \"Standard\", \"UserAlias\": null}, \"KubernetesCompute\": {\"InstanceType\": null}, \"Tensorflow\": {\"WorkerCount\": 0, \"ParameterServerCount\": 0}, \"Mpi\": {\"ProcessCountPerNode\": 0}, \"PyTorch\": {\"CommunicationBackend\": null, \"ProcessCount\": null}, \"Hdi\": {\"YarnDeployMode\": 0}, \"ContainerInstance\": {\"Region\": null, \"CpuCores\": 2.0, \"MemoryGb\": 3.5}, \"ExposedPorts\": null, \"Docker\": {\"UseDocker\": true, \"SharedVolumes\": null, \"ShmSize\": null, \"Arguments\": null}, \"Cmk8sCompute\": {\"Configuration\": {}}, \"CommandReturnCodeConfig\": {\"ReturnCode\": 0, \"SuccessfulReturnCodes\": []}, \"ApplicationEndpoints\": {}, \"Parameters\": []}, \"SnapshotId\": \"23816a4a-76e2-407a-ba00-1b31e63e2b17\", \"Snapshots\": [], \"SourceCodeDataReference\": null, \"ParentRunId\": null, \"DataContainerId\": null, \"RunType\": null, \"DisplayName\": \"lightgbm-iris-sweep-example\", \"EnvironmentAssetId\": null, \"Properties\": {\"mlflow.source.git.repoURL\": \"https://github.com/Azure/azureml-examples.git\", \"mlflow.source.git.branch\": \"hancwang/april\", \"mlflow.source.git.commit\": \"bb07eaac8ff494c5e03a07786a76b47f270dafa8\", \"azureml.git.dirty\": \"True\"}, \"Tags\": {}, \"AggregatedArtifactPath\": null}}', '_aml_system_resume_child_runs': 'null', '_aml_system_all_jobs_generated': 'false', '_aml_system_cancellation_requested': 'false'}, 'properties': {'primary_metric_config': '{\"name\": \"test-multi_logloss\", \"goal\": \"minimize\"}', 'resume_from': 'null', 'runTemplate': 'HyperDrive', 'azureml.runsource': 'hyperdrive', 'platform': 'AML', 'mlflow.source.git.repoURL': 'https://github.com/Azure/azureml-examples.git', 'mlflow.source.git.branch': 'hancwang/april', 'mlflow.source.git.commit': 'bb07eaac8ff494c5e03a07786a76b47f270dafa8', 'azureml.git.dirty': 'True', 'ContentSnapshotId': '23816a4a-76e2-407a-ba00-1b31e63e2b17', 'user_agent': 'managementfrontend/bed7456b5f49273ea4b1a65d55b32b1daddbc9b0'}, 'id': '/subscriptions/d128f140-94e6-4175-87a7-954b9d27db16/resourceGroups/ragargeastus2euap/providers/Microsoft.MachineLearningServices/workspaces/hanchi-test2/jobs/ca76b928-e00f-44ee-a362-5e2a6cb4525e', 'base_path': './', 'creation_context': <azure.ml._restclient.v2022_02_01_preview.models._models_py3.SystemData object at 0x000001CFF1DB2490>, 'serialize': <msrest.serialization.Serializer object at 0x000001CFF1D41730>, 'sampling_algorithm': <azure.ml.entities._job.sweep.sampling_algorithm.RandomSamplingAlgorithm object at 0x000001CFF1D1EAC0>, 'early_termination': None, 'limits': <azure.ml.entities._job.job_limits.SweepJobLimits object at 0x000001CFF1DB2E50>, 'search_space': {'learning_rate': <azure.ml.entities._job.sweep.search_space.Uniform object at 0x000001CFF1DB2CD0>, 'boosting': <azure.ml.entities._job.sweep.search_space.Choice object at 0x000001CFF1DB2790>}, 'objective': <azure.ml._restclient.v2022_02_01_preview.models._models_py3.Objective object at 0x000001CFF1D41190>, 'experiment_name': '1d_pipeline_with_non_python_components', 'compute': 'cpu-cluster', 'services': {'Studio': <azure.ml._restclient.v2022_02_01_preview.models._models_py3.JobService object at 0x000001CFF0904E20>}, 'inputs': {'iris_csv': {'type': 'uri_file', 'path': 'azureml://locations/eastus2euap/workspaces/29821ecb-61a4-46ab-8648-29098636296b/data/azureml_349ecc9c-7fb9-41a3-9483-9d57596c44a3_input_data_iris_csv/versions/1', 'mode': 'ro_mount'}}, 'outputs': {'default': {'type': 'uri_folder', 'mode': 'rw_mount', 'path': 'azureml://datastores/workspaceartifactstore/ExperimentRun/dcid.ca76b928-e00f-44ee-a362-5e2a6cb4525e'}}, 'trial': <azure.ml.entities._job.parameterized_command.ParameterizedCommand object at 0x000001CFF1DB2610>})"
      ]
     },
     "execution_count": 34,
     "metadata": {},
     "output_type": "execute_result"
    }
   ],
   "source": [
    "ml_client.create_or_update(sweep_job)"
   ]
  },
  {
   "cell_type": "markdown",
   "metadata": {},
   "source": [
    "# 4. Reuse the same code to compose pipeline steps"
   ]
  },
  {
   "cell_type": "code",
   "execution_count": 55,
   "metadata": {},
   "outputs": [],
   "source": [
    "train_job=command(\n",
    "    code='./src',\n",
    "    command = 'python main.py --iris-csv ${{inputs.iris_csv}} --output ${{outputs.my_model}}',\n",
    "    environment='AzureML-lightgbm-3.2-ubuntu18.04-py37-cpu@latest',\n",
    "    inputs={\n",
    "        'iris_csv': Input(type='uri_file', path='https://azuremlexamples.blob.core.windows.net/datasets/iris.csv')\n",
    "    },\n",
    "    outputs={\n",
    "        'my_model': Output(type='uri_file')\n",
    "    },\n",
    "    compute='cpu-cluster',\n",
    "    display_name='lightgbm-iris-example',\n",
    "    experiment_name='lightgbm-iris-example',\n",
    "    description='Train a LightGBM model on the Iris dataset.'\n",
    ")"
   ]
  },
  {
   "cell_type": "code",
   "execution_count": 56,
   "metadata": {},
   "outputs": [],
   "source": [
    "download_url = \"https://azuremlexamples.blob.core.windows.net/datasets/iris.csv\"\n",
    "\n",
    "# Create a command component to download a input data\n",
    "download_data = command(\n",
    "    display_name=\"Download Data\",\n",
    "    description=\"Download a input from remote URL and return it in output.\",\n",
    "    tags=dict(),\n",
    "    command=\"curl ${{inputs.url}} > ${{outputs.output_file}}\",\n",
    "    environment=\"AzureML-sklearn-0.24-ubuntu18.04-py37-cpu:1\",\n",
    "    inputs=dict(\n",
    "        url=download_url # Default download URL\n",
    "    ),\n",
    "    outputs=dict(\n",
    "        output_file=Output(type=\"uri_file\", mode=\"rw_mount\")\n",
    "    )\n",
    ")"
   ]
  },
  {
   "cell_type": "markdown",
   "metadata": {},
   "source": [
    "# 5. Create the pipeline job using the components"
   ]
  },
  {
   "cell_type": "code",
   "execution_count": 57,
   "metadata": {},
   "outputs": [
    {
     "name": "stdout",
     "output_type": "stream",
     "text": [
      "name: upbeat_panda_nr6vmsvdpd\n",
      "display_name: pipeline_with_non_python_components\n",
      "description: The hello world pipeline job\n",
      "type: pipeline\n",
      "inputs:\n",
      "  url: https://azuremlexamples.blob.core.windows.net/datasets/iris.csv\n",
      "outputs:\n",
      "  model_file: null\n",
      "tags:\n",
      "  owner: sdkteam\n",
      "  tag: tagvalue\n",
      "compute: azureml:cpu-cluster\n",
      "experiment_name: 1d_pipeline_with_non_python_components\n",
      "settings:\n",
      "  force_rerun: false\n",
      "properties: {}\n",
      "jobs:\n",
      "  download_data_node:\n",
      "    $schema: '{}'\n",
      "    type: command\n",
      "    inputs:\n",
      "      url: ${{parent.inputs.url}}\n",
      "    outputs:\n",
      "      output_file:\n",
      "        mode: rw_mount\n",
      "        type: uri_file\n",
      "    command: curl ${{inputs.url}} > ${{outputs.output_file}}\n",
      "    environment: azureml:AzureML-sklearn-0.24-ubuntu18.04-py37-cpu:1\n",
      "    component:\n",
      "      name: 7fae2fe1-db85-4a4e-bb8e-351df8122fc0\n",
      "      version: '1'\n",
      "      display_name: Download Data\n",
      "      description: Download a input from remote URL and return it in output.\n",
      "      type: command\n",
      "      inputs:\n",
      "        url:\n",
      "          type: string\n",
      "          default: https://azuremlexamples.blob.core.windows.net/datasets/iris.csv\n",
      "      outputs:\n",
      "        output_file:\n",
      "          type: uri_file\n",
      "      command: curl ${{inputs.url}} > ${{outputs.output_file}}\n",
      "      environment: azureml:AzureML-sklearn-0.24-ubuntu18.04-py37-cpu:1\n",
      "      tags: {}\n",
      "      is_deterministic: true\n",
      "    environment_variables: {}\n",
      "  train_node:\n",
      "    $schema: '{}'\n",
      "    type: command\n",
      "    inputs:\n",
      "      iris_csv: ${{parent.jobs.download_data_node.outputs.output_file}}\n",
      "    outputs:\n",
      "      my_model: ${{parent.outputs.model_file}}\n",
      "    command: python main.py --iris-csv ${{inputs.iris_csv}} --output ${{outputs.my_model}}\n",
      "    environment: azureml:AzureML-lightgbm-3.2-ubuntu18.04-py37-cpu@latest\n",
      "    code: ./src\n",
      "    component:\n",
      "      name: 4307b8d5-904b-419b-bd2b-0e8b25217d5a\n",
      "      version: '1'\n",
      "      display_name: lightgbm-iris-example\n",
      "      description: Train a LightGBM model on the Iris dataset.\n",
      "      type: command\n",
      "      inputs:\n",
      "        iris_csv:\n",
      "          type: uri_file\n",
      "      outputs:\n",
      "        my_model:\n",
      "          type: uri_file\n",
      "      command: python main.py --iris-csv ${{inputs.iris_csv}} --output ${{outputs.my_model}}\n",
      "      environment: azureml:AzureML-lightgbm-3.2-ubuntu18.04-py37-cpu@latest\n",
      "      code: azureml:./src\n",
      "      tags: {}\n",
      "      is_deterministic: true\n",
      "    environment_variables: {}\n",
      "    compute: azureml:cpu-cluster\n",
      "\n"
     ]
    }
   ],
   "source": [
    "compute = 'cpu-cluster'\n",
    "\n",
    "@dsl.pipeline(\n",
    "    description=\"The hello world pipeline job\",\n",
    "    tags={\"owner\": \"sdkteam\", \"tag\": \"tagvalue\"},\n",
    "    default_compute=compute,\n",
    ")\n",
    "def pipeline_with_non_python_components(url):\n",
    "    download_data_node = download_data(url=url)\n",
    "    train_node = train_job(iris_csv=download_data_node.outputs.output_file)\n",
    "    \n",
    "    return {\n",
    "        \"model_file\": train_node.outputs.my_model\n",
    "    }\n",
    "\n",
    "pipeline = pipeline_with_non_python_components(download_url)\n",
    "print(pipeline)"
   ]
  },
  {
   "cell_type": "code",
   "execution_count": 58,
   "metadata": {},
   "outputs": [],
   "source": [
    "pipeline_job = ml_client.jobs.create_or_update(pipeline, experiment_name=\"pipeline_samples\")"
   ]
  },
  {
   "cell_type": "code",
   "execution_count": 59,
   "metadata": {},
   "outputs": [
    {
     "data": {
      "text/html": [
       "<table style=\"width:100%\"><tr><th>Experiment</th><th>Name</th><th>Type</th><th>Status</th><th>Details Page</th></tr><tr><td>pipeline_samples</td><td>upbeat_panda_nr6vmsvdpd</td><td>pipeline</td><td>Preparing</td><td><a href=\"https://ml.azure.com/runs/upbeat_panda_nr6vmsvdpd?wsid=/subscriptions/d128f140-94e6-4175-87a7-954b9d27db16/resourcegroups/ragargeastus2euap/workspaces/hanchi-test2&amp;tid=72f988bf-86f1-41af-91ab-2d7cd011db47\" target=\"_blank\" rel=\"noopener\">Link to Azure Machine Learning studio</a></td></tr></table>"
      ],
      "text/plain": [
       "PipelineJob({'inputs': {'url': <azure.ml.entities._job.pipeline._io.PipelineInput object at 0x000001CFF207E820>}, 'outputs': {'model_file': <azure.ml.entities._job.pipeline._io.PipelineOutput object at 0x000001CFF2065A30>}, 'component': _PipelineComponent({'components': {}, 'auto_increment_version': False, 'is_anonymous': True, 'name': 'dfae3896-6813-4d6d-85f5-67a5e8bc0143', 'description': None, 'tags': {}, 'properties': {}, 'id': None, 'base_path': None, 'creation_context': None, 'serialize': <msrest.serialization.Serializer object at 0x000001CFF2065AF0>, 'version': '1', 'latest_version': None, 'schema': None, 'type': 'pipeline_component', 'display_name': None, 'is_deterministic': True, 'inputs': {}, 'outputs': {}, 'yaml_str': None, 'other_parameter': {}, 'func': <function [component] None at 0x000001CFF200A310>}), 'display_name': 'upbeat_panda_nr6vmsvdpd', 'type': 'pipeline', 'status': 'Preparing', 'log_files': None, 'name': 'upbeat_panda_nr6vmsvdpd', 'description': None, 'tags': {'owner': 'sdkteam', 'tag': 'tagvalue'}, 'properties': {'mlflow.source.git.repoURL': 'https://github.com/Azure/azureml-examples.git', 'mlflow.source.git.branch': 'hancwang/april', 'mlflow.source.git.commit': 'bb07eaac8ff494c5e03a07786a76b47f270dafa8', 'azureml.git.dirty': 'True', 'azureml.runsource': 'azureml.PipelineRun', 'runSource': 'SDKv2', 'runType': 'HTTP', 'azureml.parameters': '{\"url\":\"https://azuremlexamples.blob.core.windows.net/datasets/iris.csv\"}', 'azureml.continue_on_step_failure': 'False', 'azureml.Designer.enforceRerun': 'False', 'azureml.pipelineComponent': 'pipelinerun'}, 'id': '/subscriptions/d128f140-94e6-4175-87a7-954b9d27db16/resourceGroups/ragargeastus2euap/providers/Microsoft.MachineLearningServices/workspaces/hanchi-test2/jobs/upbeat_panda_nr6vmsvdpd', 'base_path': './', 'creation_context': <azure.ml._restclient.v2022_02_01_preview.models._models_py3.SystemData object at 0x000001CFF1F11C40>, 'serialize': <msrest.serialization.Serializer object at 0x000001CFF2065D00>, 'experiment_name': 'pipeline_samples', 'compute': 'cpu-cluster', 'services': {'Tracking': <azure.ml._restclient.v2022_02_01_preview.models._models_py3.JobService object at 0x000001CFF1F11460>, 'Studio': <azure.ml._restclient.v2022_02_01_preview.models._models_py3.JobService object at 0x000001CFF1F111F0>}, 'jobs': {'download_data_node': {'code': {}, 'command': {}}, 'train_node': {'code': {}, 'command': {}}}, 'settings': <azure.ml.entities._job.pipeline.pipeline_job_settings.PipelineJobSettings object at 0x000001CFF1F11A60>, 'identity': None, 'default_code': None, 'default_environment': None})"
      ]
     },
     "execution_count": 59,
     "metadata": {},
     "output_type": "execute_result"
    }
   ],
   "source": [
    "pipeline_job"
   ]
  },
  {
   "cell_type": "code",
   "execution_count": 60,
   "metadata": {},
   "outputs": [
    {
     "ename": "ResourceNotFoundError",
     "evalue": "(UserError) Not found component 4307b8d5-904b-419b-bd2b-0e8b25217d5a.\nCode: UserError\nMessage: Not found component 4307b8d5-904b-419b-bd2b-0e8b25217d5a.",
     "output_type": "error",
     "traceback": [
      "\u001b[1;31m---------------------------------------------------------------------------\u001b[0m",
      "\u001b[1;31mResourceNotFoundError\u001b[0m                     Traceback (most recent call last)",
      "\u001b[1;32m<ipython-input-60-0a86ecc75571>\u001b[0m in \u001b[0;36m<module>\u001b[1;34m\u001b[0m\n\u001b[1;32m----> 1\u001b[1;33m \u001b[0mml_client\u001b[0m\u001b[1;33m.\u001b[0m\u001b[0mcomponents\u001b[0m\u001b[1;33m.\u001b[0m\u001b[0mget\u001b[0m\u001b[1;33m(\u001b[0m\u001b[1;34m\"4307b8d5-904b-419b-bd2b-0e8b25217d5a\"\u001b[0m\u001b[1;33m,\u001b[0m \u001b[1;34m\"1\"\u001b[0m\u001b[1;33m)\u001b[0m\u001b[1;33m\u001b[0m\u001b[1;33m\u001b[0m\u001b[0m\n\u001b[0m",
      "\u001b[1;32md:\\code\\sdk-cli-v2\\src\\azure-ml\\azure\\ml\\_telemetry\\activity.py\u001b[0m in \u001b[0;36mwrapper\u001b[1;34m(*args, **kwargs)\u001b[0m\n\u001b[0;32m    166\u001b[0m         \u001b[1;32mdef\u001b[0m \u001b[0mwrapper\u001b[0m\u001b[1;33m(\u001b[0m\u001b[1;33m*\u001b[0m\u001b[0margs\u001b[0m\u001b[1;33m,\u001b[0m \u001b[1;33m**\u001b[0m\u001b[0mkwargs\u001b[0m\u001b[1;33m)\u001b[0m\u001b[1;33m:\u001b[0m\u001b[1;33m\u001b[0m\u001b[1;33m\u001b[0m\u001b[0m\n\u001b[0;32m    167\u001b[0m             \u001b[1;32mwith\u001b[0m \u001b[0mlog_activity\u001b[0m\u001b[1;33m(\u001b[0m\u001b[0mlogger\u001b[0m\u001b[1;33m,\u001b[0m \u001b[0mactivity_name\u001b[0m \u001b[1;32mor\u001b[0m \u001b[0mf\u001b[0m\u001b[1;33m.\u001b[0m\u001b[0m__name__\u001b[0m\u001b[1;33m,\u001b[0m \u001b[0mactivity_type\u001b[0m\u001b[1;33m,\u001b[0m \u001b[0mcustom_dimensions\u001b[0m\u001b[1;33m)\u001b[0m\u001b[1;33m:\u001b[0m\u001b[1;33m\u001b[0m\u001b[1;33m\u001b[0m\u001b[0m\n\u001b[1;32m--> 168\u001b[1;33m                 \u001b[1;32mreturn\u001b[0m \u001b[0mf\u001b[0m\u001b[1;33m(\u001b[0m\u001b[1;33m*\u001b[0m\u001b[0margs\u001b[0m\u001b[1;33m,\u001b[0m \u001b[1;33m**\u001b[0m\u001b[0mkwargs\u001b[0m\u001b[1;33m)\u001b[0m\u001b[1;33m\u001b[0m\u001b[1;33m\u001b[0m\u001b[0m\n\u001b[0m\u001b[0;32m    169\u001b[0m \u001b[1;33m\u001b[0m\u001b[0m\n\u001b[0;32m    170\u001b[0m         \u001b[1;32mreturn\u001b[0m \u001b[0mwrapper\u001b[0m\u001b[1;33m\u001b[0m\u001b[1;33m\u001b[0m\u001b[0m\n",
      "\u001b[1;32md:\\code\\sdk-cli-v2\\src\\azure-ml\\azure\\ml\\_operations\\component_operations.py\u001b[0m in \u001b[0;36mget\u001b[1;34m(self, name, version, label)\u001b[0m\n\u001b[0;32m    143\u001b[0m             )\n\u001b[0;32m    144\u001b[0m             \u001b[1;32mif\u001b[0m \u001b[0mself\u001b[0m\u001b[1;33m.\u001b[0m\u001b[0m_registry_name\u001b[0m\u001b[1;33m\u001b[0m\u001b[1;33m\u001b[0m\u001b[0m\n\u001b[1;32m--> 145\u001b[1;33m             else self._version_operation.get(\n\u001b[0m\u001b[0;32m    146\u001b[0m                 \u001b[0mname\u001b[0m\u001b[1;33m=\u001b[0m\u001b[0mname\u001b[0m\u001b[1;33m,\u001b[0m\u001b[1;33m\u001b[0m\u001b[1;33m\u001b[0m\u001b[0m\n\u001b[0;32m    147\u001b[0m                 \u001b[0mversion\u001b[0m\u001b[1;33m=\u001b[0m\u001b[0mversion\u001b[0m\u001b[1;33m,\u001b[0m\u001b[1;33m\u001b[0m\u001b[1;33m\u001b[0m\u001b[0m\n",
      "\u001b[1;32m~\\Miniconda3\\envs\\v2-local\\lib\\site-packages\\azure\\core\\tracing\\decorator.py\u001b[0m in \u001b[0;36mwrapper_use_tracer\u001b[1;34m(*args, **kwargs)\u001b[0m\n\u001b[0;32m     81\u001b[0m             \u001b[0mspan_impl_type\u001b[0m \u001b[1;33m=\u001b[0m \u001b[0msettings\u001b[0m\u001b[1;33m.\u001b[0m\u001b[0mtracing_implementation\u001b[0m\u001b[1;33m(\u001b[0m\u001b[1;33m)\u001b[0m\u001b[1;33m\u001b[0m\u001b[1;33m\u001b[0m\u001b[0m\n\u001b[0;32m     82\u001b[0m             \u001b[1;32mif\u001b[0m \u001b[0mspan_impl_type\u001b[0m \u001b[1;32mis\u001b[0m \u001b[1;32mNone\u001b[0m\u001b[1;33m:\u001b[0m\u001b[1;33m\u001b[0m\u001b[1;33m\u001b[0m\u001b[0m\n\u001b[1;32m---> 83\u001b[1;33m                 \u001b[1;32mreturn\u001b[0m \u001b[0mfunc\u001b[0m\u001b[1;33m(\u001b[0m\u001b[1;33m*\u001b[0m\u001b[0margs\u001b[0m\u001b[1;33m,\u001b[0m \u001b[1;33m**\u001b[0m\u001b[0mkwargs\u001b[0m\u001b[1;33m)\u001b[0m\u001b[1;33m\u001b[0m\u001b[1;33m\u001b[0m\u001b[0m\n\u001b[0m\u001b[0;32m     84\u001b[0m \u001b[1;33m\u001b[0m\u001b[0m\n\u001b[0;32m     85\u001b[0m             \u001b[1;31m# Merge span is parameter is set, but only if no explicit parent are passed\u001b[0m\u001b[1;33m\u001b[0m\u001b[1;33m\u001b[0m\u001b[1;33m\u001b[0m\u001b[0m\n",
      "\u001b[1;32md:\\code\\sdk-cli-v2\\src\\azure-ml\\azure\\ml\\_restclient\\v2022_02_01_preview\\operations\\_component_versions_operations.py\u001b[0m in \u001b[0;36mget\u001b[1;34m(self, resource_group_name, workspace_name, name, version, **kwargs)\u001b[0m\n\u001b[0;32m    441\u001b[0m \u001b[1;33m\u001b[0m\u001b[0m\n\u001b[0;32m    442\u001b[0m         \u001b[1;32mif\u001b[0m \u001b[0mresponse\u001b[0m\u001b[1;33m.\u001b[0m\u001b[0mstatus_code\u001b[0m \u001b[1;32mnot\u001b[0m \u001b[1;32min\u001b[0m \u001b[1;33m[\u001b[0m\u001b[1;36m200\u001b[0m\u001b[1;33m]\u001b[0m\u001b[1;33m:\u001b[0m\u001b[1;33m\u001b[0m\u001b[1;33m\u001b[0m\u001b[0m\n\u001b[1;32m--> 443\u001b[1;33m             \u001b[0mmap_error\u001b[0m\u001b[1;33m(\u001b[0m\u001b[0mstatus_code\u001b[0m\u001b[1;33m=\u001b[0m\u001b[0mresponse\u001b[0m\u001b[1;33m.\u001b[0m\u001b[0mstatus_code\u001b[0m\u001b[1;33m,\u001b[0m \u001b[0mresponse\u001b[0m\u001b[1;33m=\u001b[0m\u001b[0mresponse\u001b[0m\u001b[1;33m,\u001b[0m \u001b[0merror_map\u001b[0m\u001b[1;33m=\u001b[0m\u001b[0merror_map\u001b[0m\u001b[1;33m)\u001b[0m\u001b[1;33m\u001b[0m\u001b[1;33m\u001b[0m\u001b[0m\n\u001b[0m\u001b[0;32m    444\u001b[0m             \u001b[0merror\u001b[0m \u001b[1;33m=\u001b[0m \u001b[0mself\u001b[0m\u001b[1;33m.\u001b[0m\u001b[0m_deserialize\u001b[0m\u001b[1;33m.\u001b[0m\u001b[0mfailsafe_deserialize\u001b[0m\u001b[1;33m(\u001b[0m\u001b[0m_models\u001b[0m\u001b[1;33m.\u001b[0m\u001b[0mErrorResponse\u001b[0m\u001b[1;33m,\u001b[0m \u001b[0mpipeline_response\u001b[0m\u001b[1;33m)\u001b[0m\u001b[1;33m\u001b[0m\u001b[1;33m\u001b[0m\u001b[0m\n\u001b[0;32m    445\u001b[0m             \u001b[1;32mraise\u001b[0m \u001b[0mHttpResponseError\u001b[0m\u001b[1;33m(\u001b[0m\u001b[0mresponse\u001b[0m\u001b[1;33m=\u001b[0m\u001b[0mresponse\u001b[0m\u001b[1;33m,\u001b[0m \u001b[0mmodel\u001b[0m\u001b[1;33m=\u001b[0m\u001b[0merror\u001b[0m\u001b[1;33m,\u001b[0m \u001b[0merror_format\u001b[0m\u001b[1;33m=\u001b[0m\u001b[0mARMErrorFormat\u001b[0m\u001b[1;33m)\u001b[0m\u001b[1;33m\u001b[0m\u001b[1;33m\u001b[0m\u001b[0m\n",
      "\u001b[1;32m~\\Miniconda3\\envs\\v2-local\\lib\\site-packages\\azure\\core\\exceptions.py\u001b[0m in \u001b[0;36mmap_error\u001b[1;34m(status_code, response, error_map)\u001b[0m\n\u001b[0;32m    103\u001b[0m         \u001b[1;32mreturn\u001b[0m\u001b[1;33m\u001b[0m\u001b[1;33m\u001b[0m\u001b[0m\n\u001b[0;32m    104\u001b[0m     \u001b[0merror\u001b[0m \u001b[1;33m=\u001b[0m \u001b[0merror_type\u001b[0m\u001b[1;33m(\u001b[0m\u001b[0mresponse\u001b[0m\u001b[1;33m=\u001b[0m\u001b[0mresponse\u001b[0m\u001b[1;33m)\u001b[0m\u001b[1;33m\u001b[0m\u001b[1;33m\u001b[0m\u001b[0m\n\u001b[1;32m--> 105\u001b[1;33m     \u001b[1;32mraise\u001b[0m \u001b[0merror\u001b[0m\u001b[1;33m\u001b[0m\u001b[1;33m\u001b[0m\u001b[0m\n\u001b[0m\u001b[0;32m    106\u001b[0m \u001b[1;33m\u001b[0m\u001b[0m\n\u001b[0;32m    107\u001b[0m \u001b[1;33m\u001b[0m\u001b[0m\n",
      "\u001b[1;31mResourceNotFoundError\u001b[0m: (UserError) Not found component 4307b8d5-904b-419b-bd2b-0e8b25217d5a.\nCode: UserError\nMessage: Not found component 4307b8d5-904b-419b-bd2b-0e8b25217d5a."
     ]
    }
   ],
   "source": [
    "ml_client.components.get(\"4307b8d5-904b-419b-bd2b-0e8b25217d5a\", \"1\")"
   ]
  },
  {
   "cell_type": "code",
   "execution_count": null,
   "metadata": {},
   "outputs": [],
   "source": []
  }
 ],
 "metadata": {
  "description": {
   "description": "Create a pipeline with command function"
  },
  "interpreter": {
   "hash": "3e9e0e270b75c5e6da2e22113ba4f77b864d68f95da6601809c29e46c73ae6bb"
  },
  "kernelspec": {
   "display_name": "Python 3",
   "language": "python",
   "name": "python3"
  },
  "language_info": {
   "codemirror_mode": {
    "name": "ipython",
    "version": 3
   },
   "file_extension": ".py",
   "mimetype": "text/x-python",
   "name": "python",
   "nbconvert_exporter": "python",
   "pygments_lexer": "ipython3",
   "version": "3.8.5"
  }
 },
 "nbformat": 4,
 "nbformat_minor": 4
}
