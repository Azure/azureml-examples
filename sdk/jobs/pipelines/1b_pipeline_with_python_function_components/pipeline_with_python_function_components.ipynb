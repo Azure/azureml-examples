{
 "cells": [
  {
   "cell_type": "markdown",
   "metadata": {},
   "source": [
    "# Build pipeline with command_component decorated python function\n",
    "\n",
    "**Requirements** - In order to benefit from this tutorial, you will need:\n",
    "- A basic understanding of Machine Learning\n",
    "- An Azure account with an active subscription - [Create an account for free](https://azure.microsoft.com/free/?WT.mc_id=A261C142F)\n",
    "- An Azure ML workspace with computer cluster - [Configure workspace](../../configuration.ipynb)\n",
    "- A python environment\n",
    "- Installed Azure Machine Learning Python SDK v2 - [install instructions](../../../README.md) - check the getting started section\n",
    "\n",
    "**Learning Objectives** - By the end of this tutorial, you should be able to:\n",
    "- Connect to your AML workspace from the Python SDK\n",
    "- Define `CommandComponent` using python function and `command_component` decorator\n",
    "- Create `Pipeline` using component defined by `command_component`\n",
    "\n",
    "**Motivations** - This notebook explains how to define `CommandComponent` via Python function and `@command_component` decorator, then use command component to build pipeline.  "
   ]
  },
  {
   "cell_type": "markdown",
   "metadata": {},
   "source": [
    "# 1. Connect to Azure Machine Learning Workspace\n",
    "\n",
    "The [workspace](https://docs.microsoft.com/en-us/azure/machine-learning/concept-workspace) is the top-level resource for Azure Machine Learning, providing a centralized place to work with all the artifacts you create when you use Azure Machine Learning. In this section we will connect to the workspace in which the job will be run.\n",
    "\n",
    "## 1.1 Import the required libraries"
   ]
  },
  {
   "cell_type": "code",
   "execution_count": 1,
   "metadata": {},
   "outputs": [],
   "source": [
    "# import required libraries\n",
    "from azure.identity import DefaultAzureCredential, InteractiveBrowserCredential\n",
    "\n",
    "from azure.ai.ml import MLClient, Input\n",
    "from azure.ai.ml.dsl import pipeline"
   ]
  },
  {
   "cell_type": "markdown",
   "metadata": {},
   "source": [
    "## 1.2 Configure credential\n",
    "\n",
    "We are using `DefaultAzureCredential` to get access to workspace. \n",
    "`DefaultAzureCredential` should be capable of handling most Azure SDK authentication scenarios. \n",
    "\n",
    "Reference for more available credentials if it does not work for you: [configure credential example](../../configuration.ipynb), [azure-identity reference doc](https://docs.microsoft.com/en-us/python/api/azure-identity/azure.identity?view=azure-python)."
   ]
  },
  {
   "cell_type": "code",
   "execution_count": 2,
   "metadata": {},
   "outputs": [],
   "source": [
    "try:\n",
    "    credential = DefaultAzureCredential()\n",
    "    # Check if given credential can get token successfully.\n",
    "    credential.get_token(\"https://management.azure.com/.default\")\n",
    "except Exception as ex:\n",
    "    # Fall back to InteractiveBrowserCredential in case DefaultAzureCredential not work\n",
    "    credential = InteractiveBrowserCredential()"
   ]
  },
  {
   "cell_type": "markdown",
   "metadata": {},
   "source": [
    "## 1.3 Get a handle to the workspace\n",
    "\n",
    "We use config file to connect to a workspace. The Azure ML workspace should be configured with computer cluster. [Check this notebook for configure a workspace](../../configuration.ipynb)"
   ]
  },
  {
   "cell_type": "code",
   "execution_count": 3,
   "metadata": {},
   "outputs": [
    {
     "name": "stderr",
     "output_type": "stream",
     "text": [
      "Found the config file in: /home/wanhan/code/azureml-examples/sdk/jobs/.azureml/config.json\n"
     ]
    },
    {
     "name": "stdout",
     "output_type": "stream",
     "text": [
      "AmlCompute({'type': 'amlcompute', 'created_on': None, 'provisioning_state': 'Succeeded', 'provisioning_errors': None, 'name': 'cpu-cluster', 'description': None, 'tags': {}, 'properties': {}, 'id': '/subscriptions/6560575d-fa06-4e7d-95fb-f962e74efd7a/resourceGroups/azureml-examples-v2/providers/Microsoft.MachineLearningServices/workspaces/main/computes/cpu-cluster', 'base_path': './', 'creation_context': None, 'serialize': <msrest.serialization.Serializer object at 0x7f1db34bca00>, 'resource_id': None, 'location': 'eastus', 'size': 'STANDARD_D2_V2', 'min_instances': 0, 'max_instances': 40, 'idle_time_before_scale_down': 1800.0, 'identity': None, 'ssh_public_access_enabled': True, 'ssh_settings': None, 'network_settings': <azure.ai.ml.entities._compute.compute.NetworkSettings object at 0x7f1db34bc610>, 'tier': 'dedicated'})\n"
     ]
    }
   ],
   "source": [
    "# Get a handle to workspace\n",
    "ml_client = MLClient.from_config(credential=credential)\n",
    "\n",
    "# Retrieve an already attached Azure Machine Learning Compute.\n",
    "cluster_name = \"cpu-cluster\"\n",
    "print(ml_client.compute.get(cluster_name))"
   ]
  },
  {
   "cell_type": "markdown",
   "metadata": {},
   "source": [
    "# 2. Import components that are defined with python function\n",
    "\n",
    "We defined three sample component using `command_component` decorator in [components.py](src/components.py)."
   ]
  },
  {
   "cell_type": "code",
   "execution_count": 4,
   "metadata": {},
   "outputs": [
    {
     "name": "stdout",
     "output_type": "stream",
     "text": [
      "from pathlib import Path\n",
      "from random import randint\n",
      "from uuid import uuid4\n",
      "\n",
      "# mldesigner package contains the command_component which can be used to define component from a python function\n",
      "from mldesigner import command_component, Input, Output\n",
      "\n",
      "\n",
      "# init customer environment with conda YAML\n",
      "# the YAML file shall be put under your code folder.\n",
      "conda_env = dict(\n",
      "    # note that mldesigner package must be included.\n",
      "    conda_file=Path(__file__).parent / \"conda.yaml\",\n",
      "    image=\"mcr.microsoft.com/azureml/openmpi3.1.2-ubuntu18.04\",\n",
      ")\n",
      "\n",
      "\n",
      "@command_component(\n",
      "    name=\"train_model_component\",\n",
      "    display_name=\"Train\",\n",
      "    description=\"A dummy train component defined by dsl component.\",\n",
      "    # specify distribution type if needed\n",
      "    # distribution={'type': 'mpi'},\n",
      "    environment=conda_env,\n",
      "    # specify your code folder, default code folder is current file's parent\n",
      "    # code='.'\n",
      ")\n",
      "def train_model(\n",
      "    training_data: Input(type=\"uri_file\"), \n",
      "    max_epochs: int,\n",
      "    model_output: Output(type=\"uri_folder\"),\n",
      "    learning_rate=0.02,\n",
      "):\n",
      "    lines = [\n",
      "        f\"Training data path: {training_data}\",\n",
      "        f\"Max epochs: {max_epochs}\",\n",
      "        f\"Learning rate: {learning_rate}\",\n",
      "        f\"Model output path: {model_output}\",\n",
      "    ]\n",
      "\n",
      "    for line in lines:\n",
      "        print(line)\n",
      "\n",
      "    # Do the train and save the trained model as a file into the output folder.\n",
      "    # Here only output a dummy data for demo.\n",
      "    model = str(uuid4())\n",
      "    (Path(model_output) / \"model\").write_text(model)\n",
      "\n",
      "\n",
      "@command_component(\n",
      "    name=\"score_data_component\",\n",
      "    display_name=\"Score\",\n",
      "    description=\"A dummy score component defined by dsl component.\",\n",
      "    environment=conda_env,\n",
      ")\n",
      "def score_data(\n",
      "    model_input: Input(type=\"uri_folder\"),\n",
      "    test_data: Input(type=\"uri_file\"),\n",
      "    score_output: Output(type=\"uri_folder\"),\n",
      "):\n",
      "\n",
      "    lines = [\n",
      "        f\"Model path: {model_input}\",\n",
      "        f\"Test data path: {test_data}\",\n",
      "        f\"Scoring output path: {score_output}\",\n",
      "    ]\n",
      "\n",
      "    for line in lines:\n",
      "        print(line)\n",
      "\n",
      "    # Load the model from input port\n",
      "    # Here only print the model as text since it is a dummy one\n",
      "    model = (Path(model_input) / \"model\").read_text()\n",
      "    print(\"Model:\", model)\n",
      "\n",
      "    # Do scoring with the input model\n",
      "    # Here only print text to output file as demo\n",
      "    (Path(score_output) / \"score\").write_text(\"scored with {}\".format(model))\n",
      "\n",
      "\n",
      "@command_component(\n",
      "    name=\"eval_model_component\",\n",
      "    display_name=\"Evaluate\",\n",
      "    description=\"A dummy evaluate component defined by dsl component.\",\n",
      "    environment=conda_env,\n",
      ")\n",
      "def eval_model(\n",
      "    scoring_result: Input(type=\"uri_folder\"),\n",
      "    eval_output: Output(type=\"uri_folder\"),\n",
      "):\n",
      "    lines = [\n",
      "        f\"Scoring result path: {scoring_result}\",\n",
      "        f\"Evaluation output path: {eval_output}\",\n",
      "    ]\n",
      "\n",
      "    for line in lines:\n",
      "        print(line)\n",
      "\n",
      "    # Evaluate the incoming scoring result and output evaluation result.\n",
      "    # Here only output a dummy file for demo.\n",
      "    (Path(eval_output) / \"eval_result\").write_text(\"eval_result\")\n",
      "\n"
     ]
    }
   ],
   "source": [
    "with open(\"src/components.py\") as fin:\n",
    "    print(fin.read())"
   ]
  },
  {
   "cell_type": "code",
   "execution_count": 5,
   "metadata": {},
   "outputs": [
    {
     "name": "stdout",
     "output_type": "stream",
     "text": [
      "Help on function train_model in module src.components:\n",
      "\n",
      "train_model(training_data: <mldesigner._input_output.Input object at 0x7f1db1c6f8e0>, max_epochs: int, model_output: <mldesigner._input_output.Output object at 0x7f1db1c6f820>, learning_rate=0.02)\n",
      "\n"
     ]
    }
   ],
   "source": [
    "%load_ext autoreload\n",
    "%autoreload 2\n",
    "\n",
    "from src.components import train_model, score_data, eval_model\n",
    "\n",
    "help(train_model)"
   ]
  },
  {
   "cell_type": "markdown",
   "metadata": {},
   "source": [
    "You can also register component functions to workspace use `ml_client.components.create_or_update()`."
   ]
  },
  {
   "cell_type": "code",
   "execution_count": 6,
   "metadata": {},
   "outputs": [
    {
     "name": "stdout",
     "output_type": "stream",
     "text": [
      "<function train_model at 0x7f1db1a96b80>\n"
     ]
    }
   ],
   "source": [
    "print(train_model)"
   ]
  },
  {
   "cell_type": "markdown",
   "metadata": {},
   "source": [
    "# 3. Sample pipeline job\n",
    "\n",
    "## 3.1 Build pipeline"
   ]
  },
  {
   "cell_type": "code",
   "execution_count": 7,
   "metadata": {},
   "outputs": [
    {
     "ename": "TypeError",
     "evalue": "argument of type 'Environment' is not iterable",
     "output_type": "error",
     "traceback": [
      "\u001b[0;31m---------------------------------------------------------------------------\u001b[0m",
      "\u001b[0;31mTypeError\u001b[0m                                 Traceback (most recent call last)",
      "\u001b[1;32m/home/wanhan/code/azureml-examples/sdk/jobs/pipelines/1b_pipeline_with_python_function_components/pipeline_with_python_function_components.ipynb Cell 14'\u001b[0m in \u001b[0;36m<cell line: 29>\u001b[0;34m()\u001b[0m\n\u001b[1;32m     <a href='vscode-notebook-cell://ssh-remote%2Bv2/home/wanhan/code/azureml-examples/sdk/jobs/pipelines/1b_pipeline_with_python_function_components/pipeline_with_python_function_components.ipynb#ch0000013vscode-remote?line=21'>22</a>\u001b[0m     \u001b[39m# Return: pipeline outputs\u001b[39;00m\n\u001b[1;32m     <a href='vscode-notebook-cell://ssh-remote%2Bv2/home/wanhan/code/azureml-examples/sdk/jobs/pipelines/1b_pipeline_with_python_function_components/pipeline_with_python_function_components.ipynb#ch0000013vscode-remote?line=22'>23</a>\u001b[0m     \u001b[39mreturn\u001b[39;00m {\n\u001b[1;32m     <a href='vscode-notebook-cell://ssh-remote%2Bv2/home/wanhan/code/azureml-examples/sdk/jobs/pipelines/1b_pipeline_with_python_function_components/pipeline_with_python_function_components.ipynb#ch0000013vscode-remote?line=23'>24</a>\u001b[0m         \u001b[39m\"\u001b[39m\u001b[39meval_output\u001b[39m\u001b[39m\"\u001b[39m: eval_with_sample_data\u001b[39m.\u001b[39moutputs\u001b[39m.\u001b[39meval_output,\n\u001b[1;32m     <a href='vscode-notebook-cell://ssh-remote%2Bv2/home/wanhan/code/azureml-examples/sdk/jobs/pipelines/1b_pipeline_with_python_function_components/pipeline_with_python_function_components.ipynb#ch0000013vscode-remote?line=24'>25</a>\u001b[0m         \u001b[39m\"\u001b[39m\u001b[39mmodel_output\u001b[39m\u001b[39m\"\u001b[39m: train_with_sample_data\u001b[39m.\u001b[39moutputs\u001b[39m.\u001b[39mmodel_output,\n\u001b[1;32m     <a href='vscode-notebook-cell://ssh-remote%2Bv2/home/wanhan/code/azureml-examples/sdk/jobs/pipelines/1b_pipeline_with_python_function_components/pipeline_with_python_function_components.ipynb#ch0000013vscode-remote?line=25'>26</a>\u001b[0m     }\n\u001b[0;32m---> <a href='vscode-notebook-cell://ssh-remote%2Bv2/home/wanhan/code/azureml-examples/sdk/jobs/pipelines/1b_pipeline_with_python_function_components/pipeline_with_python_function_components.ipynb#ch0000013vscode-remote?line=28'>29</a>\u001b[0m pipeline \u001b[39m=\u001b[39m pipeline_with_python_function_components(\n\u001b[1;32m     <a href='vscode-notebook-cell://ssh-remote%2Bv2/home/wanhan/code/azureml-examples/sdk/jobs/pipelines/1b_pipeline_with_python_function_components/pipeline_with_python_function_components.ipynb#ch0000013vscode-remote?line=29'>30</a>\u001b[0m     input_data\u001b[39m=\u001b[39;49mInput(\n\u001b[1;32m     <a href='vscode-notebook-cell://ssh-remote%2Bv2/home/wanhan/code/azureml-examples/sdk/jobs/pipelines/1b_pipeline_with_python_function_components/pipeline_with_python_function_components.ipynb#ch0000013vscode-remote?line=30'>31</a>\u001b[0m         path\u001b[39m=\u001b[39;49m\u001b[39m\"\u001b[39;49m\u001b[39mwasbs://demo@dprepdata.blob.core.windows.net/Titanic.csv\u001b[39;49m\u001b[39m\"\u001b[39;49m, \u001b[39mtype\u001b[39;49m\u001b[39m=\u001b[39;49m\u001b[39m\"\u001b[39;49m\u001b[39muri_file\u001b[39;49m\u001b[39m\"\u001b[39;49m\n\u001b[1;32m     <a href='vscode-notebook-cell://ssh-remote%2Bv2/home/wanhan/code/azureml-examples/sdk/jobs/pipelines/1b_pipeline_with_python_function_components/pipeline_with_python_function_components.ipynb#ch0000013vscode-remote?line=31'>32</a>\u001b[0m     ),\n\u001b[1;32m     <a href='vscode-notebook-cell://ssh-remote%2Bv2/home/wanhan/code/azureml-examples/sdk/jobs/pipelines/1b_pipeline_with_python_function_components/pipeline_with_python_function_components.ipynb#ch0000013vscode-remote?line=32'>33</a>\u001b[0m     test_data\u001b[39m=\u001b[39;49mInput(\n\u001b[1;32m     <a href='vscode-notebook-cell://ssh-remote%2Bv2/home/wanhan/code/azureml-examples/sdk/jobs/pipelines/1b_pipeline_with_python_function_components/pipeline_with_python_function_components.ipynb#ch0000013vscode-remote?line=33'>34</a>\u001b[0m         path\u001b[39m=\u001b[39;49m\u001b[39m\"\u001b[39;49m\u001b[39mwasbs://demo@dprepdata.blob.core.windows.net/Titanic.csv\u001b[39;49m\u001b[39m\"\u001b[39;49m, \u001b[39mtype\u001b[39;49m\u001b[39m=\u001b[39;49m\u001b[39m\"\u001b[39;49m\u001b[39muri_file\u001b[39;49m\u001b[39m\"\u001b[39;49m\n\u001b[1;32m     <a href='vscode-notebook-cell://ssh-remote%2Bv2/home/wanhan/code/azureml-examples/sdk/jobs/pipelines/1b_pipeline_with_python_function_components/pipeline_with_python_function_components.ipynb#ch0000013vscode-remote?line=34'>35</a>\u001b[0m     ),\n\u001b[1;32m     <a href='vscode-notebook-cell://ssh-remote%2Bv2/home/wanhan/code/azureml-examples/sdk/jobs/pipelines/1b_pipeline_with_python_function_components/pipeline_with_python_function_components.ipynb#ch0000013vscode-remote?line=35'>36</a>\u001b[0m     learning_rate\u001b[39m=\u001b[39;49m\u001b[39m0.1\u001b[39;49m,\n\u001b[1;32m     <a href='vscode-notebook-cell://ssh-remote%2Bv2/home/wanhan/code/azureml-examples/sdk/jobs/pipelines/1b_pipeline_with_python_function_components/pipeline_with_python_function_components.ipynb#ch0000013vscode-remote?line=36'>37</a>\u001b[0m )\n",
      "File \u001b[0;32m~/miniconda3/envs/v2/lib/python3.8/site-packages/azure/ai/ml/dsl/_pipeline_decorator.py:115\u001b[0m, in \u001b[0;36mpipeline.<locals>.pipeline_decorator.<locals>.wrapper\u001b[0;34m(*args, **kwargs)\u001b[0m\n\u001b[1;32m    <a href='file:///home/wanhan/miniconda3/envs/v2/lib/python3.8/site-packages/azure/ai/ml/dsl/_pipeline_decorator.py?line=103'>104</a>\u001b[0m \u001b[39m# TODO: cache built pipeline component\u001b[39;00m\n\u001b[1;32m    <a href='file:///home/wanhan/miniconda3/envs/v2/lib/python3.8/site-packages/azure/ai/ml/dsl/_pipeline_decorator.py?line=104'>105</a>\u001b[0m pipeline_builder \u001b[39m=\u001b[39m PipelineComponentBuilder(\n\u001b[1;32m    <a href='file:///home/wanhan/miniconda3/envs/v2/lib/python3.8/site-packages/azure/ai/ml/dsl/_pipeline_decorator.py?line=105'>106</a>\u001b[0m     func\u001b[39m=\u001b[39mfunc,\n\u001b[1;32m    <a href='file:///home/wanhan/miniconda3/envs/v2/lib/python3.8/site-packages/azure/ai/ml/dsl/_pipeline_decorator.py?line=106'>107</a>\u001b[0m     name\u001b[39m=\u001b[39mname,\n\u001b[0;32m   (...)\u001b[0m\n\u001b[1;32m    <a href='file:///home/wanhan/miniconda3/envs/v2/lib/python3.8/site-packages/azure/ai/ml/dsl/_pipeline_decorator.py?line=112'>113</a>\u001b[0m     tags\u001b[39m=\u001b[39mtags,\n\u001b[1;32m    <a href='file:///home/wanhan/miniconda3/envs/v2/lib/python3.8/site-packages/azure/ai/ml/dsl/_pipeline_decorator.py?line=113'>114</a>\u001b[0m )\n\u001b[0;32m--> <a href='file:///home/wanhan/miniconda3/envs/v2/lib/python3.8/site-packages/azure/ai/ml/dsl/_pipeline_decorator.py?line=114'>115</a>\u001b[0m pipeline_component \u001b[39m=\u001b[39m pipeline_builder\u001b[39m.\u001b[39;49mbuild(_build_pipeline_parameter(func))\n\u001b[1;32m    <a href='file:///home/wanhan/miniconda3/envs/v2/lib/python3.8/site-packages/azure/ai/ml/dsl/_pipeline_decorator.py?line=116'>117</a>\u001b[0m \u001b[39m# TODO: pass compute & default_compute separately?\u001b[39;00m\n\u001b[1;32m    <a href='file:///home/wanhan/miniconda3/envs/v2/lib/python3.8/site-packages/azure/ai/ml/dsl/_pipeline_decorator.py?line=117'>118</a>\u001b[0m built_pipeline \u001b[39m=\u001b[39m PipelineJob(\n\u001b[1;32m    <a href='file:///home/wanhan/miniconda3/envs/v2/lib/python3.8/site-packages/azure/ai/ml/dsl/_pipeline_decorator.py?line=118'>119</a>\u001b[0m     jobs\u001b[39m=\u001b[39mpipeline_component\u001b[39m.\u001b[39mcomponents,\n\u001b[1;32m    <a href='file:///home/wanhan/miniconda3/envs/v2/lib/python3.8/site-packages/azure/ai/ml/dsl/_pipeline_decorator.py?line=119'>120</a>\u001b[0m     component\u001b[39m=\u001b[39mpipeline_component,\n\u001b[0;32m   (...)\u001b[0m\n\u001b[1;32m    <a href='file:///home/wanhan/miniconda3/envs/v2/lib/python3.8/site-packages/azure/ai/ml/dsl/_pipeline_decorator.py?line=130'>131</a>\u001b[0m     _source\u001b[39m=\u001b[39mComponentSource\u001b[39m.\u001b[39mDSL,\n\u001b[1;32m    <a href='file:///home/wanhan/miniconda3/envs/v2/lib/python3.8/site-packages/azure/ai/ml/dsl/_pipeline_decorator.py?line=131'>132</a>\u001b[0m )\n",
      "File \u001b[0;32m~/miniconda3/envs/v2/lib/python3.8/site-packages/azure/ai/ml/dsl/_pipeline_component_builder.py:182\u001b[0m, in \u001b[0;36mPipelineComponentBuilder.build\u001b[0;34m(self, kwargs)\u001b[0m\n\u001b[1;32m    <a href='file:///home/wanhan/miniconda3/envs/v2/lib/python3.8/site-packages/azure/ai/ml/dsl/_pipeline_component_builder.py?line=179'>180</a>\u001b[0m \u001b[39mtry\u001b[39;00m:\n\u001b[1;32m    <a href='file:///home/wanhan/miniconda3/envs/v2/lib/python3.8/site-packages/azure/ai/ml/dsl/_pipeline_component_builder.py?line=180'>181</a>\u001b[0m     \u001b[39mwith\u001b[39;00m replace_sys_profiler(func_variable_profiler):\n\u001b[0;32m--> <a href='file:///home/wanhan/miniconda3/envs/v2/lib/python3.8/site-packages/azure/ai/ml/dsl/_pipeline_component_builder.py?line=181'>182</a>\u001b[0m         outputs \u001b[39m=\u001b[39m \u001b[39mself\u001b[39;49m\u001b[39m.\u001b[39;49mfunc(\u001b[39m*\u001b[39;49m\u001b[39m*\u001b[39;49mkwargs)\n\u001b[1;32m    <a href='file:///home/wanhan/miniconda3/envs/v2/lib/python3.8/site-packages/azure/ai/ml/dsl/_pipeline_component_builder.py?line=182'>183</a>\u001b[0m \u001b[39mfinally\u001b[39;00m:\n\u001b[1;32m    <a href='file:///home/wanhan/miniconda3/envs/v2/lib/python3.8/site-packages/azure/ai/ml/dsl/_pipeline_component_builder.py?line=183'>184</a>\u001b[0m     _definition_builder_stack\u001b[39m.\u001b[39mpop()\n",
      "\u001b[1;32m/home/wanhan/code/azureml-examples/sdk/jobs/pipelines/1b_pipeline_with_python_function_components/pipeline_with_python_function_components.ipynb Cell 14'\u001b[0m in \u001b[0;36mpipeline_with_python_function_components\u001b[0;34m(input_data, test_data, learning_rate)\u001b[0m\n\u001b[1;32m      <a href='vscode-notebook-cell://ssh-remote%2Bv2/home/wanhan/code/azureml-examples/sdk/jobs/pipelines/1b_pipeline_with_python_function_components/pipeline_with_python_function_components.ipynb#ch0000013vscode-remote?line=2'>3</a>\u001b[0m \u001b[39m@pipeline\u001b[39m(\n\u001b[1;32m      <a href='vscode-notebook-cell://ssh-remote%2Bv2/home/wanhan/code/azureml-examples/sdk/jobs/pipelines/1b_pipeline_with_python_function_components/pipeline_with_python_function_components.ipynb#ch0000013vscode-remote?line=3'>4</a>\u001b[0m     name\u001b[39m=\u001b[39m\u001b[39m\"\u001b[39m\u001b[39mA-training-pipeline\u001b[39m\u001b[39m\"\u001b[39m,\n\u001b[1;32m      <a href='vscode-notebook-cell://ssh-remote%2Bv2/home/wanhan/code/azureml-examples/sdk/jobs/pipelines/1b_pipeline_with_python_function_components/pipeline_with_python_function_components.ipynb#ch0000013vscode-remote?line=4'>5</a>\u001b[0m     description\u001b[39m=\u001b[39m\u001b[39m\"\u001b[39m\u001b[39mE2E dummy train-score-eval pipeline with components defined via python function components\u001b[39m\u001b[39m\"\u001b[39m,\n\u001b[0;32m   (...)\u001b[0m\n\u001b[1;32m      <a href='vscode-notebook-cell://ssh-remote%2Bv2/home/wanhan/code/azureml-examples/sdk/jobs/pipelines/1b_pipeline_with_python_function_components/pipeline_with_python_function_components.ipynb#ch0000013vscode-remote?line=7'>8</a>\u001b[0m \u001b[39mdef\u001b[39;00m \u001b[39mpipeline_with_python_function_components\u001b[39m(input_data, test_data, learning_rate):\n\u001b[1;32m      <a href='vscode-notebook-cell://ssh-remote%2Bv2/home/wanhan/code/azureml-examples/sdk/jobs/pipelines/1b_pipeline_with_python_function_components/pipeline_with_python_function_components.ipynb#ch0000013vscode-remote?line=8'>9</a>\u001b[0m     \u001b[39m# Call component obj as function: apply given inputs & parameters to create a node in pipeline\u001b[39;00m\n\u001b[0;32m---> <a href='vscode-notebook-cell://ssh-remote%2Bv2/home/wanhan/code/azureml-examples/sdk/jobs/pipelines/1b_pipeline_with_python_function_components/pipeline_with_python_function_components.ipynb#ch0000013vscode-remote?line=9'>10</a>\u001b[0m     train_with_sample_data \u001b[39m=\u001b[39m train_model(\n\u001b[1;32m     <a href='vscode-notebook-cell://ssh-remote%2Bv2/home/wanhan/code/azureml-examples/sdk/jobs/pipelines/1b_pipeline_with_python_function_components/pipeline_with_python_function_components.ipynb#ch0000013vscode-remote?line=10'>11</a>\u001b[0m         training_data\u001b[39m=\u001b[39;49minput_data, max_epochs\u001b[39m=\u001b[39;49m\u001b[39m5\u001b[39;49m, learning_rate\u001b[39m=\u001b[39;49mlearning_rate\n\u001b[1;32m     <a href='vscode-notebook-cell://ssh-remote%2Bv2/home/wanhan/code/azureml-examples/sdk/jobs/pipelines/1b_pipeline_with_python_function_components/pipeline_with_python_function_components.ipynb#ch0000013vscode-remote?line=11'>12</a>\u001b[0m     )\n\u001b[1;32m     <a href='vscode-notebook-cell://ssh-remote%2Bv2/home/wanhan/code/azureml-examples/sdk/jobs/pipelines/1b_pipeline_with_python_function_components/pipeline_with_python_function_components.ipynb#ch0000013vscode-remote?line=13'>14</a>\u001b[0m     score_with_sample_data \u001b[39m=\u001b[39m score_data(\n\u001b[1;32m     <a href='vscode-notebook-cell://ssh-remote%2Bv2/home/wanhan/code/azureml-examples/sdk/jobs/pipelines/1b_pipeline_with_python_function_components/pipeline_with_python_function_components.ipynb#ch0000013vscode-remote?line=14'>15</a>\u001b[0m         model_input\u001b[39m=\u001b[39mtrain_with_sample_data\u001b[39m.\u001b[39moutputs\u001b[39m.\u001b[39mmodel_output, test_data\u001b[39m=\u001b[39mtest_data\n\u001b[1;32m     <a href='vscode-notebook-cell://ssh-remote%2Bv2/home/wanhan/code/azureml-examples/sdk/jobs/pipelines/1b_pipeline_with_python_function_components/pipeline_with_python_function_components.ipynb#ch0000013vscode-remote?line=15'>16</a>\u001b[0m     )\n\u001b[1;32m     <a href='vscode-notebook-cell://ssh-remote%2Bv2/home/wanhan/code/azureml-examples/sdk/jobs/pipelines/1b_pipeline_with_python_function_components/pipeline_with_python_function_components.ipynb#ch0000013vscode-remote?line=17'>18</a>\u001b[0m     eval_with_sample_data \u001b[39m=\u001b[39m eval_model(\n\u001b[1;32m     <a href='vscode-notebook-cell://ssh-remote%2Bv2/home/wanhan/code/azureml-examples/sdk/jobs/pipelines/1b_pipeline_with_python_function_components/pipeline_with_python_function_components.ipynb#ch0000013vscode-remote?line=18'>19</a>\u001b[0m         scoring_result\u001b[39m=\u001b[39mscore_with_sample_data\u001b[39m.\u001b[39moutputs\u001b[39m.\u001b[39mscore_output\n\u001b[1;32m     <a href='vscode-notebook-cell://ssh-remote%2Bv2/home/wanhan/code/azureml-examples/sdk/jobs/pipelines/1b_pipeline_with_python_function_components/pipeline_with_python_function_components.ipynb#ch0000013vscode-remote?line=19'>20</a>\u001b[0m     )\n",
      "File \u001b[0;32m~/miniconda3/envs/v2/lib/python3.8/site-packages/mldesigner/_component.py:206\u001b[0m, in \u001b[0;36mcommand_component.<locals>.component_func_decorator.<locals>.wrapper\u001b[0;34m(*args, **kwargs)\u001b[0m\n\u001b[1;32m    <a href='file:///home/wanhan/miniconda3/envs/v2/lib/python3.8/site-packages/mldesigner/_component.py?line=203'>204</a>\u001b[0m \u001b[39mnonlocal\u001b[39;00m _component_func\n\u001b[1;32m    <a href='file:///home/wanhan/miniconda3/envs/v2/lib/python3.8/site-packages/mldesigner/_component.py?line=204'>205</a>\u001b[0m \u001b[39mif\u001b[39;00m \u001b[39mnot\u001b[39;00m _component_func:\n\u001b[0;32m--> <a href='file:///home/wanhan/miniconda3/envs/v2/lib/python3.8/site-packages/mldesigner/_component.py?line=205'>206</a>\u001b[0m     _component_func \u001b[39m=\u001b[39m standalone_warning \u001b[39mif\u001b[39;00m STANDALONE_MODE \u001b[39melse\u001b[39;00m _generate_component_function(executor\u001b[39m.\u001b[39;49mspec)\n\u001b[1;32m    <a href='file:///home/wanhan/miniconda3/envs/v2/lib/python3.8/site-packages/mldesigner/_component.py?line=206'>207</a>\u001b[0m \u001b[39mreturn\u001b[39;00m _component_func(\u001b[39m*\u001b[39margs, \u001b[39m*\u001b[39m\u001b[39m*\u001b[39mkwargs)\n",
      "File \u001b[0;32m~/miniconda3/envs/v2/lib/python3.8/site-packages/mldesigner/_dependent_component_executor.py:114\u001b[0m, in \u001b[0;36mDependentComponentExecutor.spec\u001b[0;34m(self)\u001b[0m\n\u001b[1;32m    <a href='file:///home/wanhan/miniconda3/envs/v2/lib/python3.8/site-packages/mldesigner/_dependent_component_executor.py?line=111'>112</a>\u001b[0m spec_args \u001b[39m=\u001b[39m copy\u001b[39m.\u001b[39mcopy(\u001b[39mself\u001b[39m\u001b[39m.\u001b[39m_spec_args)\n\u001b[1;32m    <a href='file:///home/wanhan/miniconda3/envs/v2/lib/python3.8/site-packages/mldesigner/_dependent_component_executor.py?line=112'>113</a>\u001b[0m spec_args[\u001b[39m\"\u001b[39m\u001b[39mcommand\u001b[39m\u001b[39m\"\u001b[39m] \u001b[39m=\u001b[39m \u001b[39mself\u001b[39m\u001b[39m.\u001b[39mget_command_str_by_command_args(command, args)\n\u001b[0;32m--> <a href='file:///home/wanhan/miniconda3/envs/v2/lib/python3.8/site-packages/mldesigner/_dependent_component_executor.py?line=113'>114</a>\u001b[0m component \u001b[39m=\u001b[39m CommandComponent\u001b[39m.\u001b[39;49m_load_from_dict(\n\u001b[1;32m    <a href='file:///home/wanhan/miniconda3/envs/v2/lib/python3.8/site-packages/mldesigner/_dependent_component_executor.py?line=114'>115</a>\u001b[0m     {\u001b[39m*\u001b[39;49m\u001b[39m*\u001b[39;49mspec_args, \u001b[39m*\u001b[39;49m\u001b[39m*\u001b[39;49mio_properties}, context\u001b[39m=\u001b[39;49m{BASE_PATH_CONTEXT_KEY: \u001b[39m\"\u001b[39;49m\u001b[39m./\u001b[39;49m\u001b[39m\"\u001b[39;49m}\n\u001b[1;32m    <a href='file:///home/wanhan/miniconda3/envs/v2/lib/python3.8/site-packages/mldesigner/_dependent_component_executor.py?line=115'>116</a>\u001b[0m )\n\u001b[1;32m    <a href='file:///home/wanhan/miniconda3/envs/v2/lib/python3.8/site-packages/mldesigner/_dependent_component_executor.py?line=116'>117</a>\u001b[0m \u001b[39mreturn\u001b[39;00m component\n",
      "File \u001b[0;32m~/miniconda3/envs/v2/lib/python3.8/site-packages/azure/ai/ml/entities/_component/command_component.py:173\u001b[0m, in \u001b[0;36mCommandComponent._load_from_dict\u001b[0;34m(cls, data, context, **kwargs)\u001b[0m\n\u001b[1;32m    <a href='file:///home/wanhan/miniconda3/envs/v2/lib/python3.8/site-packages/azure/ai/ml/entities/_component/command_component.py?line=168'>169</a>\u001b[0m \u001b[39m@classmethod\u001b[39m\n\u001b[1;32m    <a href='file:///home/wanhan/miniconda3/envs/v2/lib/python3.8/site-packages/azure/ai/ml/entities/_component/command_component.py?line=169'>170</a>\u001b[0m \u001b[39mdef\u001b[39;00m \u001b[39m_load_from_dict\u001b[39m(\u001b[39mcls\u001b[39m, data: Dict, context: Dict, \u001b[39m*\u001b[39m\u001b[39m*\u001b[39mkwargs) \u001b[39m-\u001b[39m\u001b[39m>\u001b[39m \u001b[39m\"\u001b[39m\u001b[39mCommandComponent\u001b[39m\u001b[39m\"\u001b[39m:\n\u001b[1;32m    <a href='file:///home/wanhan/miniconda3/envs/v2/lib/python3.8/site-packages/azure/ai/ml/entities/_component/command_component.py?line=170'>171</a>\u001b[0m     \u001b[39mreturn\u001b[39;00m CommandComponent(\n\u001b[1;32m    <a href='file:///home/wanhan/miniconda3/envs/v2/lib/python3.8/site-packages/azure/ai/ml/entities/_component/command_component.py?line=171'>172</a>\u001b[0m         yaml_str\u001b[39m=\u001b[39mkwargs\u001b[39m.\u001b[39mpop(\u001b[39m\"\u001b[39m\u001b[39myaml_str\u001b[39m\u001b[39m\"\u001b[39m, \u001b[39mNone\u001b[39;00m),\n\u001b[0;32m--> <a href='file:///home/wanhan/miniconda3/envs/v2/lib/python3.8/site-packages/azure/ai/ml/entities/_component/command_component.py?line=172'>173</a>\u001b[0m         \u001b[39m*\u001b[39m\u001b[39m*\u001b[39m(CommandComponentSchema(context\u001b[39m=\u001b[39;49mcontext)\u001b[39m.\u001b[39;49mload(data, unknown\u001b[39m=\u001b[39;49mINCLUDE, \u001b[39m*\u001b[39;49m\u001b[39m*\u001b[39;49mkwargs)),\n\u001b[1;32m    <a href='file:///home/wanhan/miniconda3/envs/v2/lib/python3.8/site-packages/azure/ai/ml/entities/_component/command_component.py?line=173'>174</a>\u001b[0m     )\n",
      "File \u001b[0;32m~/miniconda3/envs/v2/lib/python3.8/site-packages/marshmallow/schema.py:717\u001b[0m, in \u001b[0;36mSchema.load\u001b[0;34m(self, data, many, partial, unknown)\u001b[0m\n\u001b[1;32m    <a href='file:///home/wanhan/miniconda3/envs/v2/lib/python3.8/site-packages/marshmallow/schema.py?line=685'>686</a>\u001b[0m \u001b[39mdef\u001b[39;00m \u001b[39mload\u001b[39m(\n\u001b[1;32m    <a href='file:///home/wanhan/miniconda3/envs/v2/lib/python3.8/site-packages/marshmallow/schema.py?line=686'>687</a>\u001b[0m     \u001b[39mself\u001b[39m,\n\u001b[1;32m    <a href='file:///home/wanhan/miniconda3/envs/v2/lib/python3.8/site-packages/marshmallow/schema.py?line=687'>688</a>\u001b[0m     data: (\n\u001b[0;32m   (...)\u001b[0m\n\u001b[1;32m    <a href='file:///home/wanhan/miniconda3/envs/v2/lib/python3.8/site-packages/marshmallow/schema.py?line=694'>695</a>\u001b[0m     unknown: \u001b[39mstr\u001b[39m \u001b[39m|\u001b[39m \u001b[39mNone\u001b[39;00m \u001b[39m=\u001b[39m \u001b[39mNone\u001b[39;00m,\n\u001b[1;32m    <a href='file:///home/wanhan/miniconda3/envs/v2/lib/python3.8/site-packages/marshmallow/schema.py?line=695'>696</a>\u001b[0m ):\n\u001b[1;32m    <a href='file:///home/wanhan/miniconda3/envs/v2/lib/python3.8/site-packages/marshmallow/schema.py?line=696'>697</a>\u001b[0m     \u001b[39m\"\"\"Deserialize a data structure to an object defined by this Schema's fields.\u001b[39;00m\n\u001b[1;32m    <a href='file:///home/wanhan/miniconda3/envs/v2/lib/python3.8/site-packages/marshmallow/schema.py?line=697'>698</a>\u001b[0m \n\u001b[1;32m    <a href='file:///home/wanhan/miniconda3/envs/v2/lib/python3.8/site-packages/marshmallow/schema.py?line=698'>699</a>\u001b[0m \u001b[39m    :param data: The data to deserialize.\u001b[39;00m\n\u001b[0;32m   (...)\u001b[0m\n\u001b[1;32m    <a href='file:///home/wanhan/miniconda3/envs/v2/lib/python3.8/site-packages/marshmallow/schema.py?line=714'>715</a>\u001b[0m \u001b[39m        if invalid data are passed.\u001b[39;00m\n\u001b[1;32m    <a href='file:///home/wanhan/miniconda3/envs/v2/lib/python3.8/site-packages/marshmallow/schema.py?line=715'>716</a>\u001b[0m \u001b[39m    \"\"\"\u001b[39;00m\n\u001b[0;32m--> <a href='file:///home/wanhan/miniconda3/envs/v2/lib/python3.8/site-packages/marshmallow/schema.py?line=716'>717</a>\u001b[0m     \u001b[39mreturn\u001b[39;00m \u001b[39mself\u001b[39;49m\u001b[39m.\u001b[39;49m_do_load(\n\u001b[1;32m    <a href='file:///home/wanhan/miniconda3/envs/v2/lib/python3.8/site-packages/marshmallow/schema.py?line=717'>718</a>\u001b[0m         data, many\u001b[39m=\u001b[39;49mmany, partial\u001b[39m=\u001b[39;49mpartial, unknown\u001b[39m=\u001b[39;49munknown, postprocess\u001b[39m=\u001b[39;49m\u001b[39mTrue\u001b[39;49;00m\n\u001b[1;32m    <a href='file:///home/wanhan/miniconda3/envs/v2/lib/python3.8/site-packages/marshmallow/schema.py?line=718'>719</a>\u001b[0m     )\n",
      "File \u001b[0;32m~/miniconda3/envs/v2/lib/python3.8/site-packages/marshmallow/schema.py:852\u001b[0m, in \u001b[0;36mSchema._do_load\u001b[0;34m(self, data, many, partial, unknown, postprocess)\u001b[0m\n\u001b[1;32m    <a href='file:///home/wanhan/miniconda3/envs/v2/lib/python3.8/site-packages/marshmallow/schema.py?line=848'>849</a>\u001b[0m     processed_data \u001b[39m=\u001b[39m data\n\u001b[1;32m    <a href='file:///home/wanhan/miniconda3/envs/v2/lib/python3.8/site-packages/marshmallow/schema.py?line=849'>850</a>\u001b[0m \u001b[39mif\u001b[39;00m \u001b[39mnot\u001b[39;00m errors:\n\u001b[1;32m    <a href='file:///home/wanhan/miniconda3/envs/v2/lib/python3.8/site-packages/marshmallow/schema.py?line=850'>851</a>\u001b[0m     \u001b[39m# Deserialize data\u001b[39;00m\n\u001b[0;32m--> <a href='file:///home/wanhan/miniconda3/envs/v2/lib/python3.8/site-packages/marshmallow/schema.py?line=851'>852</a>\u001b[0m     result \u001b[39m=\u001b[39m \u001b[39mself\u001b[39;49m\u001b[39m.\u001b[39;49m_deserialize(\n\u001b[1;32m    <a href='file:///home/wanhan/miniconda3/envs/v2/lib/python3.8/site-packages/marshmallow/schema.py?line=852'>853</a>\u001b[0m         processed_data,\n\u001b[1;32m    <a href='file:///home/wanhan/miniconda3/envs/v2/lib/python3.8/site-packages/marshmallow/schema.py?line=853'>854</a>\u001b[0m         error_store\u001b[39m=\u001b[39;49merror_store,\n\u001b[1;32m    <a href='file:///home/wanhan/miniconda3/envs/v2/lib/python3.8/site-packages/marshmallow/schema.py?line=854'>855</a>\u001b[0m         many\u001b[39m=\u001b[39;49mmany,\n\u001b[1;32m    <a href='file:///home/wanhan/miniconda3/envs/v2/lib/python3.8/site-packages/marshmallow/schema.py?line=855'>856</a>\u001b[0m         partial\u001b[39m=\u001b[39;49mpartial,\n\u001b[1;32m    <a href='file:///home/wanhan/miniconda3/envs/v2/lib/python3.8/site-packages/marshmallow/schema.py?line=856'>857</a>\u001b[0m         unknown\u001b[39m=\u001b[39;49munknown,\n\u001b[1;32m    <a href='file:///home/wanhan/miniconda3/envs/v2/lib/python3.8/site-packages/marshmallow/schema.py?line=857'>858</a>\u001b[0m     )\n\u001b[1;32m    <a href='file:///home/wanhan/miniconda3/envs/v2/lib/python3.8/site-packages/marshmallow/schema.py?line=858'>859</a>\u001b[0m     \u001b[39m# Run field-level validation\u001b[39;00m\n\u001b[1;32m    <a href='file:///home/wanhan/miniconda3/envs/v2/lib/python3.8/site-packages/marshmallow/schema.py?line=859'>860</a>\u001b[0m     \u001b[39mself\u001b[39m\u001b[39m.\u001b[39m_invoke_field_validators(\n\u001b[1;32m    <a href='file:///home/wanhan/miniconda3/envs/v2/lib/python3.8/site-packages/marshmallow/schema.py?line=860'>861</a>\u001b[0m         error_store\u001b[39m=\u001b[39merror_store, data\u001b[39m=\u001b[39mresult, many\u001b[39m=\u001b[39mmany\n\u001b[1;32m    <a href='file:///home/wanhan/miniconda3/envs/v2/lib/python3.8/site-packages/marshmallow/schema.py?line=861'>862</a>\u001b[0m     )\n",
      "File \u001b[0;32m~/miniconda3/envs/v2/lib/python3.8/site-packages/marshmallow/schema.py:659\u001b[0m, in \u001b[0;36mSchema._deserialize\u001b[0;34m(self, data, error_store, many, partial, unknown, index)\u001b[0m\n\u001b[1;32m    <a href='file:///home/wanhan/miniconda3/envs/v2/lib/python3.8/site-packages/marshmallow/schema.py?line=654'>655</a>\u001b[0m     d_kwargs[\u001b[39m\"\u001b[39m\u001b[39mpartial\u001b[39m\u001b[39m\"\u001b[39m] \u001b[39m=\u001b[39m partial\n\u001b[1;32m    <a href='file:///home/wanhan/miniconda3/envs/v2/lib/python3.8/site-packages/marshmallow/schema.py?line=655'>656</a>\u001b[0m getter \u001b[39m=\u001b[39m \u001b[39mlambda\u001b[39;00m val: field_obj\u001b[39m.\u001b[39mdeserialize(\n\u001b[1;32m    <a href='file:///home/wanhan/miniconda3/envs/v2/lib/python3.8/site-packages/marshmallow/schema.py?line=656'>657</a>\u001b[0m     val, field_name, data, \u001b[39m*\u001b[39m\u001b[39m*\u001b[39md_kwargs\n\u001b[1;32m    <a href='file:///home/wanhan/miniconda3/envs/v2/lib/python3.8/site-packages/marshmallow/schema.py?line=657'>658</a>\u001b[0m )\n\u001b[0;32m--> <a href='file:///home/wanhan/miniconda3/envs/v2/lib/python3.8/site-packages/marshmallow/schema.py?line=658'>659</a>\u001b[0m value \u001b[39m=\u001b[39m \u001b[39mself\u001b[39;49m\u001b[39m.\u001b[39;49m_call_and_store(\n\u001b[1;32m    <a href='file:///home/wanhan/miniconda3/envs/v2/lib/python3.8/site-packages/marshmallow/schema.py?line=659'>660</a>\u001b[0m     getter_func\u001b[39m=\u001b[39;49mgetter,\n\u001b[1;32m    <a href='file:///home/wanhan/miniconda3/envs/v2/lib/python3.8/site-packages/marshmallow/schema.py?line=660'>661</a>\u001b[0m     data\u001b[39m=\u001b[39;49mraw_value,\n\u001b[1;32m    <a href='file:///home/wanhan/miniconda3/envs/v2/lib/python3.8/site-packages/marshmallow/schema.py?line=661'>662</a>\u001b[0m     field_name\u001b[39m=\u001b[39;49mfield_name,\n\u001b[1;32m    <a href='file:///home/wanhan/miniconda3/envs/v2/lib/python3.8/site-packages/marshmallow/schema.py?line=662'>663</a>\u001b[0m     error_store\u001b[39m=\u001b[39;49merror_store,\n\u001b[1;32m    <a href='file:///home/wanhan/miniconda3/envs/v2/lib/python3.8/site-packages/marshmallow/schema.py?line=663'>664</a>\u001b[0m     index\u001b[39m=\u001b[39;49mindex,\n\u001b[1;32m    <a href='file:///home/wanhan/miniconda3/envs/v2/lib/python3.8/site-packages/marshmallow/schema.py?line=664'>665</a>\u001b[0m )\n\u001b[1;32m    <a href='file:///home/wanhan/miniconda3/envs/v2/lib/python3.8/site-packages/marshmallow/schema.py?line=665'>666</a>\u001b[0m \u001b[39mif\u001b[39;00m value \u001b[39mis\u001b[39;00m \u001b[39mnot\u001b[39;00m missing:\n\u001b[1;32m    <a href='file:///home/wanhan/miniconda3/envs/v2/lib/python3.8/site-packages/marshmallow/schema.py?line=666'>667</a>\u001b[0m     key \u001b[39m=\u001b[39m field_obj\u001b[39m.\u001b[39mattribute \u001b[39mor\u001b[39;00m attr_name\n",
      "File \u001b[0;32m~/miniconda3/envs/v2/lib/python3.8/site-packages/marshmallow/schema.py:495\u001b[0m, in \u001b[0;36mSchema._call_and_store\u001b[0;34m(getter_func, data, field_name, error_store, index)\u001b[0m\n\u001b[1;32m    <a href='file:///home/wanhan/miniconda3/envs/v2/lib/python3.8/site-packages/marshmallow/schema.py?line=484'>485</a>\u001b[0m \u001b[39m\"\"\"Call ``getter_func`` with ``data`` as its argument, and store any `ValidationErrors`.\u001b[39;00m\n\u001b[1;32m    <a href='file:///home/wanhan/miniconda3/envs/v2/lib/python3.8/site-packages/marshmallow/schema.py?line=485'>486</a>\u001b[0m \n\u001b[1;32m    <a href='file:///home/wanhan/miniconda3/envs/v2/lib/python3.8/site-packages/marshmallow/schema.py?line=486'>487</a>\u001b[0m \u001b[39m:param callable getter_func: Function for getting the serialized/deserialized\u001b[39;00m\n\u001b[0;32m   (...)\u001b[0m\n\u001b[1;32m    <a href='file:///home/wanhan/miniconda3/envs/v2/lib/python3.8/site-packages/marshmallow/schema.py?line=491'>492</a>\u001b[0m \u001b[39m    otherwise `None`.\u001b[39;00m\n\u001b[1;32m    <a href='file:///home/wanhan/miniconda3/envs/v2/lib/python3.8/site-packages/marshmallow/schema.py?line=492'>493</a>\u001b[0m \u001b[39m\"\"\"\u001b[39;00m\n\u001b[1;32m    <a href='file:///home/wanhan/miniconda3/envs/v2/lib/python3.8/site-packages/marshmallow/schema.py?line=493'>494</a>\u001b[0m \u001b[39mtry\u001b[39;00m:\n\u001b[0;32m--> <a href='file:///home/wanhan/miniconda3/envs/v2/lib/python3.8/site-packages/marshmallow/schema.py?line=494'>495</a>\u001b[0m     value \u001b[39m=\u001b[39m getter_func(data)\n\u001b[1;32m    <a href='file:///home/wanhan/miniconda3/envs/v2/lib/python3.8/site-packages/marshmallow/schema.py?line=495'>496</a>\u001b[0m \u001b[39mexcept\u001b[39;00m ValidationError \u001b[39mas\u001b[39;00m error:\n\u001b[1;32m    <a href='file:///home/wanhan/miniconda3/envs/v2/lib/python3.8/site-packages/marshmallow/schema.py?line=496'>497</a>\u001b[0m     error_store\u001b[39m.\u001b[39mstore_error(error\u001b[39m.\u001b[39mmessages, field_name, index\u001b[39m=\u001b[39mindex)\n",
      "File \u001b[0;32m~/miniconda3/envs/v2/lib/python3.8/site-packages/marshmallow/schema.py:656\u001b[0m, in \u001b[0;36mSchema._deserialize.<locals>.<lambda>\u001b[0;34m(val)\u001b[0m\n\u001b[1;32m    <a href='file:///home/wanhan/miniconda3/envs/v2/lib/python3.8/site-packages/marshmallow/schema.py?line=653'>654</a>\u001b[0m \u001b[39melse\u001b[39;00m:\n\u001b[1;32m    <a href='file:///home/wanhan/miniconda3/envs/v2/lib/python3.8/site-packages/marshmallow/schema.py?line=654'>655</a>\u001b[0m     d_kwargs[\u001b[39m\"\u001b[39m\u001b[39mpartial\u001b[39m\u001b[39m\"\u001b[39m] \u001b[39m=\u001b[39m partial\n\u001b[0;32m--> <a href='file:///home/wanhan/miniconda3/envs/v2/lib/python3.8/site-packages/marshmallow/schema.py?line=655'>656</a>\u001b[0m getter \u001b[39m=\u001b[39m \u001b[39mlambda\u001b[39;00m val: field_obj\u001b[39m.\u001b[39;49mdeserialize(\n\u001b[1;32m    <a href='file:///home/wanhan/miniconda3/envs/v2/lib/python3.8/site-packages/marshmallow/schema.py?line=656'>657</a>\u001b[0m     val, field_name, data, \u001b[39m*\u001b[39;49m\u001b[39m*\u001b[39;49md_kwargs\n\u001b[1;32m    <a href='file:///home/wanhan/miniconda3/envs/v2/lib/python3.8/site-packages/marshmallow/schema.py?line=657'>658</a>\u001b[0m )\n\u001b[1;32m    <a href='file:///home/wanhan/miniconda3/envs/v2/lib/python3.8/site-packages/marshmallow/schema.py?line=658'>659</a>\u001b[0m value \u001b[39m=\u001b[39m \u001b[39mself\u001b[39m\u001b[39m.\u001b[39m_call_and_store(\n\u001b[1;32m    <a href='file:///home/wanhan/miniconda3/envs/v2/lib/python3.8/site-packages/marshmallow/schema.py?line=659'>660</a>\u001b[0m     getter_func\u001b[39m=\u001b[39mgetter,\n\u001b[1;32m    <a href='file:///home/wanhan/miniconda3/envs/v2/lib/python3.8/site-packages/marshmallow/schema.py?line=660'>661</a>\u001b[0m     data\u001b[39m=\u001b[39mraw_value,\n\u001b[0;32m   (...)\u001b[0m\n\u001b[1;32m    <a href='file:///home/wanhan/miniconda3/envs/v2/lib/python3.8/site-packages/marshmallow/schema.py?line=663'>664</a>\u001b[0m     index\u001b[39m=\u001b[39mindex,\n\u001b[1;32m    <a href='file:///home/wanhan/miniconda3/envs/v2/lib/python3.8/site-packages/marshmallow/schema.py?line=664'>665</a>\u001b[0m )\n\u001b[1;32m    <a href='file:///home/wanhan/miniconda3/envs/v2/lib/python3.8/site-packages/marshmallow/schema.py?line=665'>666</a>\u001b[0m \u001b[39mif\u001b[39;00m value \u001b[39mis\u001b[39;00m \u001b[39mnot\u001b[39;00m missing:\n",
      "File \u001b[0;32m~/miniconda3/envs/v2/lib/python3.8/site-packages/marshmallow/fields.py:364\u001b[0m, in \u001b[0;36mField.deserialize\u001b[0;34m(self, value, attr, data, **kwargs)\u001b[0m\n\u001b[1;32m    <a href='file:///home/wanhan/miniconda3/envs/v2/lib/python3.8/site-packages/marshmallow/fields.py?line=361'>362</a>\u001b[0m \u001b[39mif\u001b[39;00m \u001b[39mself\u001b[39m\u001b[39m.\u001b[39mallow_none \u001b[39mand\u001b[39;00m value \u001b[39mis\u001b[39;00m \u001b[39mNone\u001b[39;00m:\n\u001b[1;32m    <a href='file:///home/wanhan/miniconda3/envs/v2/lib/python3.8/site-packages/marshmallow/fields.py?line=362'>363</a>\u001b[0m     \u001b[39mreturn\u001b[39;00m \u001b[39mNone\u001b[39;00m\n\u001b[0;32m--> <a href='file:///home/wanhan/miniconda3/envs/v2/lib/python3.8/site-packages/marshmallow/fields.py?line=363'>364</a>\u001b[0m output \u001b[39m=\u001b[39m \u001b[39mself\u001b[39;49m\u001b[39m.\u001b[39;49m_deserialize(value, attr, data, \u001b[39m*\u001b[39;49m\u001b[39m*\u001b[39;49mkwargs)\n\u001b[1;32m    <a href='file:///home/wanhan/miniconda3/envs/v2/lib/python3.8/site-packages/marshmallow/fields.py?line=364'>365</a>\u001b[0m \u001b[39mself\u001b[39m\u001b[39m.\u001b[39m_validate(output)\n\u001b[1;32m    <a href='file:///home/wanhan/miniconda3/envs/v2/lib/python3.8/site-packages/marshmallow/fields.py?line=365'>366</a>\u001b[0m \u001b[39mreturn\u001b[39;00m output\n",
      "File \u001b[0;32m~/miniconda3/envs/v2/lib/python3.8/site-packages/azure/ai/ml/_schema/core/fields.py:293\u001b[0m, in \u001b[0;36mUnionField._deserialize\u001b[0;34m(self, value, attr, data, **kwargs)\u001b[0m\n\u001b[1;32m    <a href='file:///home/wanhan/miniconda3/envs/v2/lib/python3.8/site-packages/azure/ai/ml/_schema/core/fields.py?line=290'>291</a>\u001b[0m \u001b[39mfor\u001b[39;00m schema \u001b[39min\u001b[39;00m \u001b[39mself\u001b[39m\u001b[39m.\u001b[39m_union_fields:\n\u001b[1;32m    <a href='file:///home/wanhan/miniconda3/envs/v2/lib/python3.8/site-packages/azure/ai/ml/_schema/core/fields.py?line=291'>292</a>\u001b[0m     \u001b[39mtry\u001b[39;00m:\n\u001b[0;32m--> <a href='file:///home/wanhan/miniconda3/envs/v2/lib/python3.8/site-packages/azure/ai/ml/_schema/core/fields.py?line=292'>293</a>\u001b[0m         \u001b[39mreturn\u001b[39;00m schema\u001b[39m.\u001b[39;49mdeserialize(value, attr, data, \u001b[39m*\u001b[39;49m\u001b[39m*\u001b[39;49mkwargs)\n\u001b[1;32m    <a href='file:///home/wanhan/miniconda3/envs/v2/lib/python3.8/site-packages/azure/ai/ml/_schema/core/fields.py?line=293'>294</a>\u001b[0m     \u001b[39mexcept\u001b[39;00m ValidationError \u001b[39mas\u001b[39;00m e:\n\u001b[1;32m    <a href='file:///home/wanhan/miniconda3/envs/v2/lib/python3.8/site-packages/azure/ai/ml/_schema/core/fields.py?line=294'>295</a>\u001b[0m         errors\u001b[39m.\u001b[39mappend(e\u001b[39m.\u001b[39mnormalized_messages())\n",
      "File \u001b[0;32m~/miniconda3/envs/v2/lib/python3.8/site-packages/marshmallow/fields.py:364\u001b[0m, in \u001b[0;36mField.deserialize\u001b[0;34m(self, value, attr, data, **kwargs)\u001b[0m\n\u001b[1;32m    <a href='file:///home/wanhan/miniconda3/envs/v2/lib/python3.8/site-packages/marshmallow/fields.py?line=361'>362</a>\u001b[0m \u001b[39mif\u001b[39;00m \u001b[39mself\u001b[39m\u001b[39m.\u001b[39mallow_none \u001b[39mand\u001b[39;00m value \u001b[39mis\u001b[39;00m \u001b[39mNone\u001b[39;00m:\n\u001b[1;32m    <a href='file:///home/wanhan/miniconda3/envs/v2/lib/python3.8/site-packages/marshmallow/fields.py?line=362'>363</a>\u001b[0m     \u001b[39mreturn\u001b[39;00m \u001b[39mNone\u001b[39;00m\n\u001b[0;32m--> <a href='file:///home/wanhan/miniconda3/envs/v2/lib/python3.8/site-packages/marshmallow/fields.py?line=363'>364</a>\u001b[0m output \u001b[39m=\u001b[39m \u001b[39mself\u001b[39;49m\u001b[39m.\u001b[39;49m_deserialize(value, attr, data, \u001b[39m*\u001b[39;49m\u001b[39m*\u001b[39;49mkwargs)\n\u001b[1;32m    <a href='file:///home/wanhan/miniconda3/envs/v2/lib/python3.8/site-packages/marshmallow/fields.py?line=364'>365</a>\u001b[0m \u001b[39mself\u001b[39m\u001b[39m.\u001b[39m_validate(output)\n\u001b[1;32m    <a href='file:///home/wanhan/miniconda3/envs/v2/lib/python3.8/site-packages/marshmallow/fields.py?line=365'>366</a>\u001b[0m \u001b[39mreturn\u001b[39;00m output\n",
      "File \u001b[0;32m~/miniconda3/envs/v2/lib/python3.8/site-packages/marshmallow/fields.py:660\u001b[0m, in \u001b[0;36mNested._deserialize\u001b[0;34m(self, value, attr, data, partial, **kwargs)\u001b[0m\n\u001b[1;32m    <a href='file:///home/wanhan/miniconda3/envs/v2/lib/python3.8/site-packages/marshmallow/fields.py?line=650'>651</a>\u001b[0m \u001b[39m\"\"\"Same as :meth:`Field._deserialize` with additional ``partial`` argument.\u001b[39;00m\n\u001b[1;32m    <a href='file:///home/wanhan/miniconda3/envs/v2/lib/python3.8/site-packages/marshmallow/fields.py?line=651'>652</a>\u001b[0m \n\u001b[1;32m    <a href='file:///home/wanhan/miniconda3/envs/v2/lib/python3.8/site-packages/marshmallow/fields.py?line=652'>653</a>\u001b[0m \u001b[39m:param bool|tuple partial: For nested schemas, the ``partial``\u001b[39;00m\n\u001b[0;32m   (...)\u001b[0m\n\u001b[1;32m    <a href='file:///home/wanhan/miniconda3/envs/v2/lib/python3.8/site-packages/marshmallow/fields.py?line=656'>657</a>\u001b[0m \u001b[39m    Add ``partial`` parameter.\u001b[39;00m\n\u001b[1;32m    <a href='file:///home/wanhan/miniconda3/envs/v2/lib/python3.8/site-packages/marshmallow/fields.py?line=657'>658</a>\u001b[0m \u001b[39m\"\"\"\u001b[39;00m\n\u001b[1;32m    <a href='file:///home/wanhan/miniconda3/envs/v2/lib/python3.8/site-packages/marshmallow/fields.py?line=658'>659</a>\u001b[0m \u001b[39mself\u001b[39m\u001b[39m.\u001b[39m_test_collection(value)\n\u001b[0;32m--> <a href='file:///home/wanhan/miniconda3/envs/v2/lib/python3.8/site-packages/marshmallow/fields.py?line=659'>660</a>\u001b[0m \u001b[39mreturn\u001b[39;00m \u001b[39mself\u001b[39;49m\u001b[39m.\u001b[39;49m_load(value, data, partial\u001b[39m=\u001b[39;49mpartial)\n",
      "File \u001b[0;32m~/miniconda3/envs/v2/lib/python3.8/site-packages/marshmallow/fields.py:643\u001b[0m, in \u001b[0;36mNested._load\u001b[0;34m(self, value, data, partial)\u001b[0m\n\u001b[1;32m    <a href='file:///home/wanhan/miniconda3/envs/v2/lib/python3.8/site-packages/marshmallow/fields.py?line=640'>641</a>\u001b[0m \u001b[39mdef\u001b[39;00m \u001b[39m_load\u001b[39m(\u001b[39mself\u001b[39m, value, data, partial\u001b[39m=\u001b[39m\u001b[39mNone\u001b[39;00m):\n\u001b[1;32m    <a href='file:///home/wanhan/miniconda3/envs/v2/lib/python3.8/site-packages/marshmallow/fields.py?line=641'>642</a>\u001b[0m     \u001b[39mtry\u001b[39;00m:\n\u001b[0;32m--> <a href='file:///home/wanhan/miniconda3/envs/v2/lib/python3.8/site-packages/marshmallow/fields.py?line=642'>643</a>\u001b[0m         valid_data \u001b[39m=\u001b[39m \u001b[39mself\u001b[39;49m\u001b[39m.\u001b[39;49mschema\u001b[39m.\u001b[39;49mload(value, unknown\u001b[39m=\u001b[39;49m\u001b[39mself\u001b[39;49m\u001b[39m.\u001b[39;49munknown, partial\u001b[39m=\u001b[39;49mpartial)\n\u001b[1;32m    <a href='file:///home/wanhan/miniconda3/envs/v2/lib/python3.8/site-packages/marshmallow/fields.py?line=643'>644</a>\u001b[0m     \u001b[39mexcept\u001b[39;00m ValidationError \u001b[39mas\u001b[39;00m error:\n\u001b[1;32m    <a href='file:///home/wanhan/miniconda3/envs/v2/lib/python3.8/site-packages/marshmallow/fields.py?line=644'>645</a>\u001b[0m         \u001b[39mraise\u001b[39;00m ValidationError(\n\u001b[1;32m    <a href='file:///home/wanhan/miniconda3/envs/v2/lib/python3.8/site-packages/marshmallow/fields.py?line=645'>646</a>\u001b[0m             error\u001b[39m.\u001b[39mmessages, valid_data\u001b[39m=\u001b[39merror\u001b[39m.\u001b[39mvalid_data\n\u001b[1;32m    <a href='file:///home/wanhan/miniconda3/envs/v2/lib/python3.8/site-packages/marshmallow/fields.py?line=646'>647</a>\u001b[0m         ) \u001b[39mfrom\u001b[39;00m \u001b[39merror\u001b[39;00m\n",
      "File \u001b[0;32m~/miniconda3/envs/v2/lib/python3.8/site-packages/marshmallow/schema.py:717\u001b[0m, in \u001b[0;36mSchema.load\u001b[0;34m(self, data, many, partial, unknown)\u001b[0m\n\u001b[1;32m    <a href='file:///home/wanhan/miniconda3/envs/v2/lib/python3.8/site-packages/marshmallow/schema.py?line=685'>686</a>\u001b[0m \u001b[39mdef\u001b[39;00m \u001b[39mload\u001b[39m(\n\u001b[1;32m    <a href='file:///home/wanhan/miniconda3/envs/v2/lib/python3.8/site-packages/marshmallow/schema.py?line=686'>687</a>\u001b[0m     \u001b[39mself\u001b[39m,\n\u001b[1;32m    <a href='file:///home/wanhan/miniconda3/envs/v2/lib/python3.8/site-packages/marshmallow/schema.py?line=687'>688</a>\u001b[0m     data: (\n\u001b[0;32m   (...)\u001b[0m\n\u001b[1;32m    <a href='file:///home/wanhan/miniconda3/envs/v2/lib/python3.8/site-packages/marshmallow/schema.py?line=694'>695</a>\u001b[0m     unknown: \u001b[39mstr\u001b[39m \u001b[39m|\u001b[39m \u001b[39mNone\u001b[39;00m \u001b[39m=\u001b[39m \u001b[39mNone\u001b[39;00m,\n\u001b[1;32m    <a href='file:///home/wanhan/miniconda3/envs/v2/lib/python3.8/site-packages/marshmallow/schema.py?line=695'>696</a>\u001b[0m ):\n\u001b[1;32m    <a href='file:///home/wanhan/miniconda3/envs/v2/lib/python3.8/site-packages/marshmallow/schema.py?line=696'>697</a>\u001b[0m     \u001b[39m\"\"\"Deserialize a data structure to an object defined by this Schema's fields.\u001b[39;00m\n\u001b[1;32m    <a href='file:///home/wanhan/miniconda3/envs/v2/lib/python3.8/site-packages/marshmallow/schema.py?line=697'>698</a>\u001b[0m \n\u001b[1;32m    <a href='file:///home/wanhan/miniconda3/envs/v2/lib/python3.8/site-packages/marshmallow/schema.py?line=698'>699</a>\u001b[0m \u001b[39m    :param data: The data to deserialize.\u001b[39;00m\n\u001b[0;32m   (...)\u001b[0m\n\u001b[1;32m    <a href='file:///home/wanhan/miniconda3/envs/v2/lib/python3.8/site-packages/marshmallow/schema.py?line=714'>715</a>\u001b[0m \u001b[39m        if invalid data are passed.\u001b[39;00m\n\u001b[1;32m    <a href='file:///home/wanhan/miniconda3/envs/v2/lib/python3.8/site-packages/marshmallow/schema.py?line=715'>716</a>\u001b[0m \u001b[39m    \"\"\"\u001b[39;00m\n\u001b[0;32m--> <a href='file:///home/wanhan/miniconda3/envs/v2/lib/python3.8/site-packages/marshmallow/schema.py?line=716'>717</a>\u001b[0m     \u001b[39mreturn\u001b[39;00m \u001b[39mself\u001b[39;49m\u001b[39m.\u001b[39;49m_do_load(\n\u001b[1;32m    <a href='file:///home/wanhan/miniconda3/envs/v2/lib/python3.8/site-packages/marshmallow/schema.py?line=717'>718</a>\u001b[0m         data, many\u001b[39m=\u001b[39;49mmany, partial\u001b[39m=\u001b[39;49mpartial, unknown\u001b[39m=\u001b[39;49munknown, postprocess\u001b[39m=\u001b[39;49m\u001b[39mTrue\u001b[39;49;00m\n\u001b[1;32m    <a href='file:///home/wanhan/miniconda3/envs/v2/lib/python3.8/site-packages/marshmallow/schema.py?line=718'>719</a>\u001b[0m     )\n",
      "File \u001b[0;32m~/miniconda3/envs/v2/lib/python3.8/site-packages/marshmallow/schema.py:842\u001b[0m, in \u001b[0;36mSchema._do_load\u001b[0;34m(self, data, many, partial, unknown, postprocess)\u001b[0m\n\u001b[1;32m    <a href='file:///home/wanhan/miniconda3/envs/v2/lib/python3.8/site-packages/marshmallow/schema.py?line=839'>840</a>\u001b[0m \u001b[39mif\u001b[39;00m \u001b[39mself\u001b[39m\u001b[39m.\u001b[39m_has_processors(PRE_LOAD):\n\u001b[1;32m    <a href='file:///home/wanhan/miniconda3/envs/v2/lib/python3.8/site-packages/marshmallow/schema.py?line=840'>841</a>\u001b[0m     \u001b[39mtry\u001b[39;00m:\n\u001b[0;32m--> <a href='file:///home/wanhan/miniconda3/envs/v2/lib/python3.8/site-packages/marshmallow/schema.py?line=841'>842</a>\u001b[0m         processed_data \u001b[39m=\u001b[39m \u001b[39mself\u001b[39;49m\u001b[39m.\u001b[39;49m_invoke_load_processors(\n\u001b[1;32m    <a href='file:///home/wanhan/miniconda3/envs/v2/lib/python3.8/site-packages/marshmallow/schema.py?line=842'>843</a>\u001b[0m             PRE_LOAD, data, many\u001b[39m=\u001b[39;49mmany, original_data\u001b[39m=\u001b[39;49mdata, partial\u001b[39m=\u001b[39;49mpartial\n\u001b[1;32m    <a href='file:///home/wanhan/miniconda3/envs/v2/lib/python3.8/site-packages/marshmallow/schema.py?line=843'>844</a>\u001b[0m         )\n\u001b[1;32m    <a href='file:///home/wanhan/miniconda3/envs/v2/lib/python3.8/site-packages/marshmallow/schema.py?line=844'>845</a>\u001b[0m     \u001b[39mexcept\u001b[39;00m ValidationError \u001b[39mas\u001b[39;00m err:\n\u001b[1;32m    <a href='file:///home/wanhan/miniconda3/envs/v2/lib/python3.8/site-packages/marshmallow/schema.py?line=845'>846</a>\u001b[0m         errors \u001b[39m=\u001b[39m err\u001b[39m.\u001b[39mnormalized_messages()\n",
      "File \u001b[0;32m~/miniconda3/envs/v2/lib/python3.8/site-packages/marshmallow/schema.py:1086\u001b[0m, in \u001b[0;36mSchema._invoke_load_processors\u001b[0;34m(self, tag, data, many, original_data, partial)\u001b[0m\n\u001b[1;32m   <a href='file:///home/wanhan/miniconda3/envs/v2/lib/python3.8/site-packages/marshmallow/schema.py?line=1066'>1067</a>\u001b[0m \u001b[39mdef\u001b[39;00m \u001b[39m_invoke_load_processors\u001b[39m(\n\u001b[1;32m   <a href='file:///home/wanhan/miniconda3/envs/v2/lib/python3.8/site-packages/marshmallow/schema.py?line=1067'>1068</a>\u001b[0m     \u001b[39mself\u001b[39m,\n\u001b[1;32m   <a href='file:///home/wanhan/miniconda3/envs/v2/lib/python3.8/site-packages/marshmallow/schema.py?line=1068'>1069</a>\u001b[0m     tag: \u001b[39mstr\u001b[39m,\n\u001b[0;32m   (...)\u001b[0m\n\u001b[1;32m   <a href='file:///home/wanhan/miniconda3/envs/v2/lib/python3.8/site-packages/marshmallow/schema.py?line=1075'>1076</a>\u001b[0m     \u001b[39m# This has to invert the order of the dump processors, so run the pass_many\u001b[39;00m\n\u001b[1;32m   <a href='file:///home/wanhan/miniconda3/envs/v2/lib/python3.8/site-packages/marshmallow/schema.py?line=1076'>1077</a>\u001b[0m     \u001b[39m# processors first.\u001b[39;00m\n\u001b[1;32m   <a href='file:///home/wanhan/miniconda3/envs/v2/lib/python3.8/site-packages/marshmallow/schema.py?line=1077'>1078</a>\u001b[0m     data \u001b[39m=\u001b[39m \u001b[39mself\u001b[39m\u001b[39m.\u001b[39m_invoke_processors(\n\u001b[1;32m   <a href='file:///home/wanhan/miniconda3/envs/v2/lib/python3.8/site-packages/marshmallow/schema.py?line=1078'>1079</a>\u001b[0m         tag,\n\u001b[1;32m   <a href='file:///home/wanhan/miniconda3/envs/v2/lib/python3.8/site-packages/marshmallow/schema.py?line=1079'>1080</a>\u001b[0m         pass_many\u001b[39m=\u001b[39m\u001b[39mTrue\u001b[39;00m,\n\u001b[0;32m   (...)\u001b[0m\n\u001b[1;32m   <a href='file:///home/wanhan/miniconda3/envs/v2/lib/python3.8/site-packages/marshmallow/schema.py?line=1083'>1084</a>\u001b[0m         partial\u001b[39m=\u001b[39mpartial,\n\u001b[1;32m   <a href='file:///home/wanhan/miniconda3/envs/v2/lib/python3.8/site-packages/marshmallow/schema.py?line=1084'>1085</a>\u001b[0m     )\n\u001b[0;32m-> <a href='file:///home/wanhan/miniconda3/envs/v2/lib/python3.8/site-packages/marshmallow/schema.py?line=1085'>1086</a>\u001b[0m     data \u001b[39m=\u001b[39m \u001b[39mself\u001b[39;49m\u001b[39m.\u001b[39;49m_invoke_processors(\n\u001b[1;32m   <a href='file:///home/wanhan/miniconda3/envs/v2/lib/python3.8/site-packages/marshmallow/schema.py?line=1086'>1087</a>\u001b[0m         tag,\n\u001b[1;32m   <a href='file:///home/wanhan/miniconda3/envs/v2/lib/python3.8/site-packages/marshmallow/schema.py?line=1087'>1088</a>\u001b[0m         pass_many\u001b[39m=\u001b[39;49m\u001b[39mFalse\u001b[39;49;00m,\n\u001b[1;32m   <a href='file:///home/wanhan/miniconda3/envs/v2/lib/python3.8/site-packages/marshmallow/schema.py?line=1088'>1089</a>\u001b[0m         data\u001b[39m=\u001b[39;49mdata,\n\u001b[1;32m   <a href='file:///home/wanhan/miniconda3/envs/v2/lib/python3.8/site-packages/marshmallow/schema.py?line=1089'>1090</a>\u001b[0m         many\u001b[39m=\u001b[39;49mmany,\n\u001b[1;32m   <a href='file:///home/wanhan/miniconda3/envs/v2/lib/python3.8/site-packages/marshmallow/schema.py?line=1090'>1091</a>\u001b[0m         original_data\u001b[39m=\u001b[39;49moriginal_data,\n\u001b[1;32m   <a href='file:///home/wanhan/miniconda3/envs/v2/lib/python3.8/site-packages/marshmallow/schema.py?line=1091'>1092</a>\u001b[0m         partial\u001b[39m=\u001b[39;49mpartial,\n\u001b[1;32m   <a href='file:///home/wanhan/miniconda3/envs/v2/lib/python3.8/site-packages/marshmallow/schema.py?line=1092'>1093</a>\u001b[0m     )\n\u001b[1;32m   <a href='file:///home/wanhan/miniconda3/envs/v2/lib/python3.8/site-packages/marshmallow/schema.py?line=1093'>1094</a>\u001b[0m     \u001b[39mreturn\u001b[39;00m data\n",
      "File \u001b[0;32m~/miniconda3/envs/v2/lib/python3.8/site-packages/marshmallow/schema.py:1216\u001b[0m, in \u001b[0;36mSchema._invoke_processors\u001b[0;34m(self, tag, pass_many, data, many, original_data, **kwargs)\u001b[0m\n\u001b[1;32m   <a href='file:///home/wanhan/miniconda3/envs/v2/lib/python3.8/site-packages/marshmallow/schema.py?line=1213'>1214</a>\u001b[0m             data \u001b[39m=\u001b[39m processor(data, original_data, many\u001b[39m=\u001b[39mmany, \u001b[39m*\u001b[39m\u001b[39m*\u001b[39mkwargs)\n\u001b[1;32m   <a href='file:///home/wanhan/miniconda3/envs/v2/lib/python3.8/site-packages/marshmallow/schema.py?line=1214'>1215</a>\u001b[0m         \u001b[39melse\u001b[39;00m:\n\u001b[0;32m-> <a href='file:///home/wanhan/miniconda3/envs/v2/lib/python3.8/site-packages/marshmallow/schema.py?line=1215'>1216</a>\u001b[0m             data \u001b[39m=\u001b[39m processor(data, many\u001b[39m=\u001b[39;49mmany, \u001b[39m*\u001b[39;49m\u001b[39m*\u001b[39;49mkwargs)\n\u001b[1;32m   <a href='file:///home/wanhan/miniconda3/envs/v2/lib/python3.8/site-packages/marshmallow/schema.py?line=1216'>1217</a>\u001b[0m \u001b[39mreturn\u001b[39;00m data\n",
      "File \u001b[0;32m~/miniconda3/envs/v2/lib/python3.8/site-packages/azure/ai/ml/_schema/assets/environment.py:81\u001b[0m, in \u001b[0;36m_BaseEnvironmentSchema.pre_load\u001b[0;34m(self, data, **kwargs)\u001b[0m\n\u001b[1;32m     <a href='file:///home/wanhan/miniconda3/envs/v2/lib/python3.8/site-packages/azure/ai/ml/_schema/assets/environment.py?line=77'>78</a>\u001b[0m     \u001b[39mraise\u001b[39;00m ValidationError(\u001b[39m\"\u001b[39m\u001b[39mEnvironment schema data cannot be a string\u001b[39m\u001b[39m\"\u001b[39m)\n\u001b[1;32m     <a href='file:///home/wanhan/miniconda3/envs/v2/lib/python3.8/site-packages/azure/ai/ml/_schema/assets/environment.py?line=78'>79</a>\u001b[0m \u001b[39m# validates that \"channels\" and \"dependencies\" are not included in the data creation.\u001b[39;00m\n\u001b[1;32m     <a href='file:///home/wanhan/miniconda3/envs/v2/lib/python3.8/site-packages/azure/ai/ml/_schema/assets/environment.py?line=79'>80</a>\u001b[0m \u001b[39m# These properties should only be on environment conda files not in the environment creation file\u001b[39;00m\n\u001b[0;32m---> <a href='file:///home/wanhan/miniconda3/envs/v2/lib/python3.8/site-packages/azure/ai/ml/_schema/assets/environment.py?line=80'>81</a>\u001b[0m \u001b[39mif\u001b[39;00m \u001b[39m\"\u001b[39;49m\u001b[39mchannels\u001b[39;49m\u001b[39m\"\u001b[39;49m \u001b[39min\u001b[39;49;00m data \u001b[39mor\u001b[39;00m \u001b[39m\"\u001b[39m\u001b[39mdependencies\u001b[39m\u001b[39m\"\u001b[39m \u001b[39min\u001b[39;00m data:\n\u001b[1;32m     <a href='file:///home/wanhan/miniconda3/envs/v2/lib/python3.8/site-packages/azure/ai/ml/_schema/assets/environment.py?line=81'>82</a>\u001b[0m     environmentMessage \u001b[39m=\u001b[39m CREATE_ENVIRONMENT_ERROR_MESSAGE\u001b[39m.\u001b[39mformat(YAMLRefDocLinks\u001b[39m.\u001b[39mENVIRONMENT)\n\u001b[1;32m     <a href='file:///home/wanhan/miniconda3/envs/v2/lib/python3.8/site-packages/azure/ai/ml/_schema/assets/environment.py?line=82'>83</a>\u001b[0m     \u001b[39mraise\u001b[39;00m ValidationError(environmentMessage)\n",
      "\u001b[0;31mTypeError\u001b[0m: argument of type 'Environment' is not iterable"
     ]
    }
   ],
   "source": [
    "cluster_name = \"cpu-cluster\"\n",
    "# define a pipeline with component\n",
    "@pipeline(\n",
    "    name=\"A-training-pipeline\",\n",
    "    description=\"E2E dummy train-score-eval pipeline with components defined via python function components\",\n",
    "    default_compute=cluster_name,\n",
    ")\n",
    "def pipeline_with_python_function_components(input_data, test_data, learning_rate):\n",
    "    # Call component obj as function: apply given inputs & parameters to create a node in pipeline\n",
    "    train_with_sample_data = train_model(\n",
    "        training_data=input_data, max_epochs=5, learning_rate=learning_rate\n",
    "    )\n",
    "\n",
    "    score_with_sample_data = score_data(\n",
    "        model_input=train_with_sample_data.outputs.model_output, test_data=test_data\n",
    "    )\n",
    "\n",
    "    eval_with_sample_data = eval_model(\n",
    "        scoring_result=score_with_sample_data.outputs.score_output\n",
    "    )\n",
    "\n",
    "    # Return: pipeline outputs\n",
    "    return {\n",
    "        \"eval_output\": eval_with_sample_data.outputs.eval_output,\n",
    "        \"model_output\": train_with_sample_data.outputs.model_output,\n",
    "    }\n",
    "\n",
    "\n",
    "pipeline = pipeline_with_python_function_components(\n",
    "    input_data=Input(\n",
    "        path=\"wasbs://demo@dprepdata.blob.core.windows.net/Titanic.csv\", type=\"uri_file\"\n",
    "    ),\n",
    "    test_data=Input(\n",
    "        path=\"wasbs://demo@dprepdata.blob.core.windows.net/Titanic.csv\", type=\"uri_file\"\n",
    "    ),\n",
    "    learning_rate=0.1,\n",
    ")"
   ]
  },
  {
   "cell_type": "markdown",
   "metadata": {},
   "source": [
    "# 3.2 Submit pipeline job"
   ]
  },
  {
   "cell_type": "code",
   "execution_count": null,
   "metadata": {},
   "outputs": [],
   "source": [
    "# submit job to workspace\n",
    "pipeline_job = ml_client.jobs.create_or_update(\n",
    "    pipeline, experiment_name=\"pipeline_samples\"\n",
    ")\n",
    "pipeline_job"
   ]
  },
  {
   "cell_type": "code",
   "execution_count": null,
   "metadata": {},
   "outputs": [],
   "source": [
    "# Wait until the job completes\n",
    "ml_client.jobs.stream(pipeline_job.name)"
   ]
  },
  {
   "cell_type": "markdown",
   "metadata": {},
   "source": [
    "# Next Steps\n",
    "You can see further examples of running a pipeline job [here](../)"
   ]
  }
 ],
 "metadata": {
  "description": {
   "description": "Create pipeline with command_component decorator"
  },
  "interpreter": {
   "hash": "3e9e0e270b75c5e6da2e22113ba4f77b864d68f95da6601809c29e46c73ae6bb"
  },
  "kernelspec": {
   "display_name": "Python 3.7.8 64-bit",
   "language": "python",
   "name": "python3"
  },
  "language_info": {
   "codemirror_mode": {
    "name": "ipython",
    "version": 3
   },
   "file_extension": ".py",
   "mimetype": "text/x-python",
   "name": "python",
   "nbconvert_exporter": "python",
   "pygments_lexer": "ipython3",
   "version": "3.8.13"
  },
  "orig_nbformat": 4
 },
 "nbformat": 4,
 "nbformat_minor": 2
}
