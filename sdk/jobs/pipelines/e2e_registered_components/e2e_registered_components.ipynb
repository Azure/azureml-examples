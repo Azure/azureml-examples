{
 "cells": [
  {
   "cell_type": "markdown",
   "metadata": {},
   "source": [
    "# E2E registered components\n",
    "\n",
    "**Requirements** - In order to benefit from this tutorial, you will need:\n",
    "- A basic understanding of Machine Learning\n",
    "- An Azure account with an active subscription. [Create an account for free](https://azure.microsoft.com/free/?WT.mc_id=A261C142F)\n",
    "- An Azure ML workspace. [Check this notebook for creating a workspace](/sdk/resources/workspace/workspace.ipynb) \n",
    "- A Compute Cluster. [Check this notebook to create a compute cluster](/sdk/resources/compute/compute.ipynb)\n",
    "- A python environment\n",
    "- Installed Azure Machine Learning Python SDK v2 - [install instructions](/sdk/README.md#getting-started)\n",
    "\n",
    "**Learning Objectives** - By the end of this tutorial, you should be able to:\n",
    "- Connect to your AML workspace from the Python SDK\n",
    "- Define `commandComponent` using YAML\n",
    "- Register it to workspace\n",
    "- Create `pipeline` using these registered components\n",
    "\n",
    "**Motivations** - This notebook explains how to define `commandComponent` via YAML then use command component to build pipeline. The command compoonent is a fundamental construct of Azure Machine Learning pipeline. It can be used to run a task on a specified compute (either local or on the cloud). The command compoonent accepts `environment` to setup required infrastructure. You can define a `command` to run on this infrastructure with `inputs`. You can reuse the same `component` with different pipeline.  "
   ]
  },
  {
   "cell_type": "markdown",
   "metadata": {},
   "source": [
    "# 1. Connect to Azure Machine Learning Workspace\n",
    "\n",
    "The [workspace](https://docs.microsoft.com/en-us/azure/machine-learning/concept-workspace) is the top-level resource for Azure Machine Learning, providing a centralized place to work with all the artifacts you create when you use Azure Machine Learning. In this section we will connect to the workspace in which the job will be run.\n",
    "\n",
    "## 1.1. Import the required libraries"
   ]
  },
  {
   "cell_type": "code",
   "execution_count": 13,
   "metadata": {},
   "outputs": [],
   "source": [
    "#import required libraries\n",
    "from azure.ml import MLClient\n",
    "from azure.ml.entities import JobInput \n",
    "from azure.identity import InteractiveBrowserCredential\n",
    "from azure.ml._constants import AssetTypes\n",
    "from azure.ml import dsl\n",
    "from azure.ml.dsl import pipeline\n",
    "from azure.ml.entities import load_component\n",
    "from pathlib import Path"
   ]
  },
  {
   "cell_type": "markdown",
   "metadata": {},
   "source": [
    "## 1.2. Configure workspace details and get a handle to the workspace\n",
    "\n",
    "To connect to a workspace, we need identifier parameters - a subscription, resource group and workspace name. We will use these details in the `MLClient` from `azure.ml` to get a handle to the required Azure Machine Learning workspace. We use the default [interactive authentication](https://docs.microsoft.com/en-us/python/api/azure-identity/azure.identity.interactivebrowsercredential?view=azure-python) for this tutorial. More advanced connection methods can be found [here](https://docs.microsoft.com/en-us/python/api/azure-identity/azure.identity?view=azure-python)."
   ]
  },
  {
   "cell_type": "code",
   "execution_count": 2,
   "metadata": {},
   "outputs": [],
   "source": [
    "#Enter details of your AML workspace\n",
    "subscription_id = '<SUBSCRIPTION_ID>'\n",
    "resource_group = '<RESOURCE_GROUP>'\n",
    "workspace = '<AML_WORKSPACE_NAME>'"
   ]
  },
  {
   "cell_type": "code",
   "execution_count": 3,
   "metadata": {},
   "outputs": [],
   "source": [
    "#get a handle to the workspace\n",
    "ml_client = MLClient(InteractiveBrowserCredential(), subscription_id, resource_group, workspace)"
   ]
  },
  {
   "cell_type": "markdown",
   "metadata": {},
   "source": [
    "# Pipeline job with registered component\n",
    "## Register components"
   ]
  },
  {
   "cell_type": "code",
   "execution_count": 7,
   "metadata": {},
   "outputs": [
    {
     "name": "stderr",
     "output_type": "stream",
     "text": [
      "\u001b[32mUploading train_src (0.0 MBs): 100%|##########| 1501/1501 [00:00<00:00, 6762.48it/s]\n",
      "\u001b[39m\n",
      "\n"
     ]
    },
    {
     "data": {
      "text/plain": [
       "CommandComponentVersion({'auto_increment_version': False, 'is_anonymous': True, 'name': '3aa9bf0d-30a2-d4b2-8fba-f58e1ee448fa', 'description': None, 'tags': {}, 'properties': {}, 'id': '/subscriptions/6560575d-fa06-4e7d-95fb-f962e74efd7a/resourceGroups/azureml-examples/providers/Microsoft.MachineLearningServices/workspaces/main/components/3aa9bf0d-30a2-d4b2-8fba-f58e1ee448fa/versions/1', 'base_path': './', 'creation_context': <azure.ml._restclient.v2021_10_01.models._models_py3.SystemData object at 0x000001E06632D7C0>, 'serialize': <msrest.serialization.Serializer object at 0x000001E0676FA340>, 'command': 'python train.py  --training_data ${{inputs.training_data}}  --max_epocs ${{inputs.max_epocs}}    --learning_rate ${{inputs.learning_rate}}  --learning_rate_schedule ${{inputs.learning_rate_schedule}}  --model_output ${{outputs.model_output}}', 'code': '/subscriptions/6560575d-fa06-4e7d-95fb-f962e74efd7a/resourceGroups/azureml-examples/providers/Microsoft.MachineLearningServices/workspaces/main/codes/4d539813-6d88-4a24-a9a3-86a116d76074/versions/1', 'environment_variables': {}, 'environment': '/subscriptions/6560575d-fa06-4e7d-95fb-f962e74efd7a/resourceGroups/azureml-examples/providers/Microsoft.MachineLearningServices/workspaces/main/environments/AzureML-sklearn-0.24-ubuntu18.04-py37-cpu/versions/5', 'distribution': None, 'resources': OrderedDict([('instance_count', 1)]), 'version': '1', 'latest_version': None, 'schema': 'https://azuremlschemas.azureedge.net/latest/commandComponent.schema.json', 'type': 'command', 'display_name': 'Train', 'is_deterministic': True, 'inputs': {'training_data': {'name': 'training_data', 'optional': 'False', 'type': 'uri_folder'}, 'max_epocs': {'name': 'max_epocs', 'optional': 'False', 'type': 'integer'}, 'learning_rate': {'name': 'learning_rate', 'optional': 'False', 'type': 'number', 'default': '0.01'}, 'learning_rate_schedule': {'name': 'learning_rate_schedule', 'optional': 'False', 'type': 'string', 'default': 'time-based'}}, 'outputs': {'model_output': {'name': 'model_output', 'type': 'uri_folder'}}, 'yaml_str': None, 'other_parameter': {}, 'func': <function [component] Train at 0x000001E0663390D0>})"
      ]
     },
     "execution_count": 7,
     "metadata": {},
     "output_type": "execute_result"
    }
   ],
   "source": [
    "parent_dir = '.'\n",
    "train_component = load_component(yaml_file=parent_dir + \"/train.yml\")\n",
    "ml_client.components.create_or_update(train_component)\n"
   ]
  },
  {
   "cell_type": "code",
   "execution_count": 8,
   "metadata": {},
   "outputs": [
    {
     "name": "stderr",
     "output_type": "stream",
     "text": [
      "\u001b[32mUploading score_src (0.0 MBs): 100%|##########| 940/940 [00:00<00:00, 4179.77it/s]\n",
      "\u001b[39m\n",
      "\n"
     ]
    },
    {
     "data": {
      "text/plain": [
       "CommandComponentVersion({'auto_increment_version': False, 'is_anonymous': True, 'name': 'db5615a1-6958-e0d1-c5eb-b8bbaf6d5a2a', 'description': None, 'tags': {}, 'properties': {}, 'id': '/subscriptions/6560575d-fa06-4e7d-95fb-f962e74efd7a/resourceGroups/azureml-examples/providers/Microsoft.MachineLearningServices/workspaces/main/components/db5615a1-6958-e0d1-c5eb-b8bbaf6d5a2a/versions/1', 'base_path': './', 'creation_context': <azure.ml._restclient.v2021_10_01.models._models_py3.SystemData object at 0x000001E06774C3D0>, 'serialize': <msrest.serialization.Serializer object at 0x000001E06774CB50>, 'command': 'python score.py  --model_input ${{inputs.model_input}}  --test_data ${{inputs.test_data}} --score_output ${{outputs.score_output}}', 'code': '/subscriptions/6560575d-fa06-4e7d-95fb-f962e74efd7a/resourceGroups/azureml-examples/providers/Microsoft.MachineLearningServices/workspaces/main/codes/fda80b8d-d41d-4bd6-91dc-76e9d00f4ec6/versions/1', 'environment_variables': {}, 'environment': '/subscriptions/6560575d-fa06-4e7d-95fb-f962e74efd7a/resourceGroups/azureml-examples/providers/Microsoft.MachineLearningServices/workspaces/main/environments/AzureML-sklearn-0.24-ubuntu18.04-py37-cpu/versions/5', 'distribution': None, 'resources': OrderedDict([('instance_count', 1)]), 'version': '1', 'latest_version': None, 'schema': 'https://azuremlschemas.azureedge.net/stable/commandComponent.schema.json', 'type': 'command', 'display_name': 'Score', 'is_deterministic': True, 'inputs': {'model_input': {'name': 'model_input', 'optional': 'False', 'type': 'uri_folder'}, 'test_data': {'name': 'test_data', 'optional': 'False', 'type': 'uri_folder'}}, 'outputs': {'score_output': {'name': 'score_output', 'type': 'uri_folder'}}, 'yaml_str': None, 'other_parameter': {}, 'func': <function [component] Score at 0x000001E0663395E0>})"
      ]
     },
     "execution_count": 8,
     "metadata": {},
     "output_type": "execute_result"
    }
   ],
   "source": [
    "score_component = load_component(yaml_file=parent_dir + \"/score.yml\")\n",
    "ml_client.components.create_or_update(score_component)"
   ]
  },
  {
   "cell_type": "code",
   "execution_count": 9,
   "metadata": {},
   "outputs": [
    {
     "name": "stderr",
     "output_type": "stream",
     "text": [
      "\u001b[32mUploading eval_src (0.0 MBs): 100%|##########| 796/796 [00:00<00:00, 3662.46it/s]\n",
      "\u001b[39m\n",
      "\n"
     ]
    },
    {
     "data": {
      "text/plain": [
       "CommandComponentVersion({'auto_increment_version': False, 'is_anonymous': True, 'name': '60261348-ce61-50ae-d5fd-6650ef0bfdf9', 'description': None, 'tags': {}, 'properties': {}, 'id': '/subscriptions/6560575d-fa06-4e7d-95fb-f962e74efd7a/resourceGroups/azureml-examples/providers/Microsoft.MachineLearningServices/workspaces/main/components/60261348-ce61-50ae-d5fd-6650ef0bfdf9/versions/1', 'base_path': './', 'creation_context': <azure.ml._restclient.v2021_10_01.models._models_py3.SystemData object at 0x000001E0676FA0D0>, 'serialize': <msrest.serialization.Serializer object at 0x000001E067757160>, 'command': 'python eval.py  --scoring_result ${{inputs.scoring_result}}  --eval_output ${{outputs.eval_output}}', 'code': '/subscriptions/6560575d-fa06-4e7d-95fb-f962e74efd7a/resourceGroups/azureml-examples/providers/Microsoft.MachineLearningServices/workspaces/main/codes/eb717c41-9e62-4299-a16c-0202d2602e8c/versions/1', 'environment_variables': {}, 'environment': '/subscriptions/6560575d-fa06-4e7d-95fb-f962e74efd7a/resourceGroups/azureml-examples/providers/Microsoft.MachineLearningServices/workspaces/main/environments/AzureML-sklearn-0.24-ubuntu18.04-py37-cpu/versions/5', 'distribution': None, 'resources': OrderedDict([('instance_count', 1)]), 'version': '1', 'latest_version': None, 'schema': 'https://azuremlschemas.azureedge.net/stable/commandComponent.schema.json', 'type': 'command', 'display_name': 'Eval', 'is_deterministic': True, 'inputs': {'scoring_result': {'name': 'scoring_result', 'optional': 'False', 'type': 'uri_folder'}}, 'outputs': {'eval_output': {'name': 'eval_output', 'type': 'uri_folder'}}, 'yaml_str': None, 'other_parameter': {}, 'func': <function [component] Eval at 0x000001E06777D0D0>})"
      ]
     },
     "execution_count": 9,
     "metadata": {},
     "output_type": "execute_result"
    }
   ],
   "source": [
    "eval_component = load_component(yaml_file=parent_dir + \"/eval.yml\")\n",
    "ml_client.components.create_or_update(eval_component)"
   ]
  },
  {
   "cell_type": "markdown",
   "metadata": {},
   "source": [
    "## Build pipeline"
   ]
  },
  {
   "cell_type": "code",
   "execution_count": 15,
   "metadata": {},
   "outputs": [],
   "source": [
    "# 1. Load component funcs\n",
    "train_func = load_component(\n",
    "    client=ml_client,\n",
    "    name=train_component.name,\n",
    "    version=train_component.version,\n",
    ")\n",
    "score_func = load_component(\n",
    "    client=ml_client,\n",
    "    name=score_component.name,\n",
    "    version=score_component.version,\n",
    ")\n",
    "eval_func = load_component(\n",
    "    client=ml_client,\n",
    "    name=eval_component.name,\n",
    "    version=eval_component.version,\n",
    ")\n",
    "\n",
    "# 2. Construct pipeline\n",
    "@dsl.pipeline(\n",
    "    compute=\"cpu-cluster\",\n",
    "    description=\"E2E dummy train-score-eval pipeline with registered components\",\n",
    ")\n",
    "def sample_pipeline(\n",
    "        pipeline_job_training_input,\n",
    "        pipeline_job_test_input,\n",
    "        pipeline_job_training_max_epocs,\n",
    "        pipeline_job_training_learning_rate,\n",
    "        pipeline_job_learning_rate_schedule,\n",
    "):\n",
    "    train_job = train_func(\n",
    "        training_data=pipeline_job_training_input,\n",
    "        max_epocs=pipeline_job_training_max_epocs,\n",
    "        learning_rate=pipeline_job_training_learning_rate,\n",
    "        learning_rate_schedule=pipeline_job_learning_rate_schedule,\n",
    "    )\n",
    "    score_job = score_func(model_input=train_job.outputs.model_output, test_data=pipeline_job_test_input)\n",
    "    score_job.outputs.score_output.mode = \"upload\"\n",
    "    evaluate_job = eval_func(scoring_result=score_job.outputs.score_output)\n",
    "    return {\n",
    "        \"pipeline_job_trained_model\": train_job.outputs.model_output,\n",
    "        \"pipeline_job_scored_data\": score_job.outputs.score_output,\n",
    "        \"pipeline_job_evaluation_report\": evaluate_job.outputs.eval_output,\n",
    "    }\n",
    "\n",
    "pipeline = sample_pipeline(\n",
    "    JobInput(type=AssetTypes.URI_FOLDER, path=parent_dir + \"/data/\"),\n",
    "    JobInput(type=AssetTypes.URI_FOLDER, path=parent_dir + \"/data/\"),\n",
    "    20,\n",
    "    1.8,\n",
    "    \"time-based\",\n",
    ")\n",
    "pipeline.outputs.pipeline_job_trained_model.mode = \"upload\"\n",
    "pipeline.outputs.pipeline_job_scored_data.mode = \"upload\"\n",
    "pipeline.outputs.pipeline_job_evaluation_report.mode = \"upload\""
   ]
  },
  {
   "cell_type": "markdown",
   "metadata": {},
   "source": [
    "## Submit pipeline job"
   ]
  },
  {
   "cell_type": "code",
   "execution_count": 16,
   "metadata": {},
   "outputs": [
    {
     "name": "stderr",
     "output_type": "stream",
     "text": [
      "\u001b[32mUploading data (0.0 MBs): 100%|##########| 510/510 [00:00<00:00, 2190.43it/s]\n",
      "\u001b[39m\n",
      "\n"
     ]
    },
    {
     "data": {
      "text/plain": [
       "'https://ml.azure.com/runs/e4249158-6563-4768-8dc8-eefecdc62f46?wsid=/subscriptions/6560575d-fa06-4e7d-95fb-f962e74efd7a/resourcegroups/azureml-examples/workspaces/main&tid=72f988bf-86f1-41af-91ab-2d7cd011db47'"
      ]
     },
     "execution_count": 16,
     "metadata": {},
     "output_type": "execute_result"
    }
   ],
   "source": [
    "# submit job to workspace\n",
    "pipeline_job = ml_client.jobs.create_or_update(pipeline, experiment_name=\"e2e_registered_components\", continue_run_on_step_failure=True)\n",
    "pipeline_job.services[\"Studio\"].endpoint"
   ]
  }
 ],
 "metadata": {
  "interpreter": {
   "hash": "3e9e0e270b75c5e6da2e22113ba4f77b864d68f95da6601809c29e46c73ae6bb"
  },
  "kernelspec": {
   "display_name": "Python 3.7.8 64-bit",
   "language": "python",
   "name": "python3"
  },
  "language_info": {
   "codemirror_mode": {
    "name": "ipython",
    "version": 3
   },
   "file_extension": ".py",
   "mimetype": "text/x-python",
   "name": "python",
   "nbconvert_exporter": "python",
   "pygments_lexer": "ipython3",
   "version": "3.8.12"
  },
  "orig_nbformat": 4
 },
 "nbformat": 4,
 "nbformat_minor": 2
}
