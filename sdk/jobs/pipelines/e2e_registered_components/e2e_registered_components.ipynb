{
 "cells": [
  {
   "cell_type": "markdown",
   "metadata": {},
   "source": [
    "# E2E registered components\n",
    "\n",
    "**Requirements** - In order to benefit from this tutorial, you will need:\n",
    "- A basic understanding of Machine Learning\n",
    "- An Azure account with an active subscription. [Create an account for free](https://azure.microsoft.com/free/?WT.mc_id=A261C142F)\n",
    "- An Azure ML workspace. [Check this notebook for creating a workspace](/sdk/resources/workspace/workspace.ipynb) \n",
    "- A Compute Cluster. [Check this notebook to create a compute cluster](/sdk/resources/compute/compute.ipynb)\n",
    "- A python environment\n",
    "- Installed Azure Machine Learning Python SDK v2 - [install instructions](/sdk/README.md#getting-started)\n",
    "\n",
    "**Learning Objectives** - By the end of this tutorial, you should be able to:\n",
    "- Connect to your AML workspace from the Python SDK\n",
    "- Define `commandComponent` using YAML\n",
    "- Register it to workspace\n",
    "- Create `pipeline` using these registered components\n",
    "\n",
    "**Motivations** - This notebook explains how to define `commandComponent` via YAML then use command component to build pipeline. The command compoonent is a fundamental construct of Azure Machine Learning pipeline. It can be used to run a task on a specified compute (either local or on the cloud). The command compoonent accepts `environment` to setup required infrastructure. You can define a `command` to run on this infrastructure with `inputs`. You can reuse the same `component` with different pipeline.  "
   ]
  },
  {
   "cell_type": "markdown",
   "metadata": {},
   "source": [
    "\n",
    "# Prerequisite"
   ]
  },
  {
   "cell_type": "code",
   "execution_count": null,
   "metadata": {},
   "outputs": [],
   "source": [
    "#import required libraries\n",
    "from azure.ml import MLClient\n",
    "from azure.ml.entities import Code, Dataset\n",
    "from azure.identity import InteractiveBrowserCredential"
   ]
  },
  {
   "cell_type": "code",
   "execution_count": null,
   "metadata": {},
   "outputs": [],
   "source": [
    "#Enter details of your AML workspace\n",
    "# subscription_id = '<SUBSCRIPTION_ID>'\n",
    "# resource_group = '<RESOURCE_GROUP>'\n",
    "# workspace = '<AML_WORKSPACE_NAME>'\n",
    "\n",
    "subscription_id = 'ee85ed72-2b26-48f6-a0e8-cb5bcf98fbd9'\n",
    "resource_group = 'pipeline-pm'\n",
    "workspace = 'pm-dev'"
   ]
  },
  {
   "cell_type": "code",
   "execution_count": null,
   "metadata": {},
   "outputs": [],
   "source": [
    "#get a handle to the workspace\n",
    "ml_client = MLClient(InteractiveBrowserCredential(), subscription_id, resource_group, workspace)"
   ]
  },
  {
   "cell_type": "markdown",
   "metadata": {},
   "source": [
    "# Pipeline job with registered component\n",
    "## Register components"
   ]
  },
  {
   "cell_type": "code",
   "execution_count": null,
   "metadata": {},
   "outputs": [],
   "source": [
    "from azure.ml.entities import CommandComponent\n",
    "parent_dir = '.'\n",
    "environment = \"AzureML-sklearn-0.24-ubuntu18.04-py37-cpu:5\"\n",
    "\n",
    "train_component = CommandComponent(\n",
    "    name=\"Train\",\n",
    "    version=\"32\",\n",
    "    inputs=dict(\n",
    "        training_data=dict(type=\"path\"),\n",
    "        max_epocs=dict(type=\"integer\"),\n",
    "        learning_rate=dict(type=\"number\", default=0.01),\n",
    "        learning_rate_schedule=dict(type=\"string\", default=\"time-based\")\n",
    "    ),\n",
    "    outputs=dict(\n",
    "        model_output=dict(type=\"path\")\n",
    "    ),\n",
    "    code=Code(local_path=parent_dir + \"/train_src\"),\n",
    "    environment=environment,\n",
    "    command=\"python train.py --training_data ${{inputs.training_data}} --max_epocs ${{inputs.max_epocs}} \"\n",
    "            \"--learning_rate ${{inputs.learning_rate}} --learning_rate_schedule ${{\"\n",
    "            \"inputs.learning_rate_schedule}} --model_output ${{outputs.model_output}} \"\n",
    ")\n",
    "ml_client.components.create_or_update(train_component)\n"
   ]
  },
  {
   "cell_type": "code",
   "execution_count": null,
   "metadata": {},
   "outputs": [],
   "source": [
    "score_component = CommandComponent(\n",
    "    name=\"Score\",   \n",
    "    version=\"32\",\n",
    "    inputs=dict(\n",
    "        model_input=dict(type=\"path\"),\n",
    "        test_data=dict(type=\"path\"),\n",
    "    ),\n",
    "    outputs=dict(\n",
    "        score_output=dict(type=\"path\")\n",
    "    ),\n",
    "    code=Code(local_path=parent_dir + \"/score_src\"),\n",
    "    environment=environment,\n",
    "    command=\"python score.py --model_input ${{inputs.model_input}} --test_data ${{inputs.test_data}} \"\n",
    "            \"--score_output ${{outputs.score_output}} \"\n",
    ")\n",
    "ml_client.components.create_or_update(score_component)"
   ]
  },
  {
   "cell_type": "code",
   "execution_count": null,
   "metadata": {},
   "outputs": [],
   "source": [
    "eval_component = CommandComponent(\n",
    "    name=\"Eval\",\n",
    "    version=\"32\",\n",
    "    inputs=dict(\n",
    "        scoring_result=dict(type=\"path\"),\n",
    "    ),\n",
    "    outputs=dict(\n",
    "        eval_output=dict(type=\"path\")\n",
    "    ),\n",
    "    code=Code(local_path=parent_dir + \"/eval_src\"),\n",
    "    environment=environment,\n",
    "    command=\"python eval.py --scoring_result ${{inputs.scoring_result}} --eval_output ${{outputs.eval_output}}\"\n",
    ")\n",
    "ml_client.components.create_or_update(eval_component)"
   ]
  },
  {
   "cell_type": "markdown",
   "metadata": {},
   "source": [
    "## Build pipeline"
   ]
  },
  {
   "cell_type": "code",
   "execution_count": null,
   "metadata": {},
   "outputs": [],
   "source": [
    "from azure.ml import dsl, MLClient\n",
    "from azure.ml.dsl import Pipeline\n",
    "from azure.ml.entities import Component as ComponentEntity, Dataset\n",
    "from pathlib import Path\n",
    "\n",
    "def generate_dsl_pipeline(\n",
    "        client: MLClient,\n",
    "        train_component: ComponentEntity,\n",
    "        score_component: ComponentEntity,\n",
    "        eval_component: ComponentEntity,\n",
    "    ) -> Pipeline:\n",
    "    # 1. Load component funcs\n",
    "    train_func = dsl.load_component(\n",
    "        client=client,\n",
    "        name=train_component.name,\n",
    "        version=train_component.version,\n",
    "    )\n",
    "    score_func = dsl.load_component(\n",
    "        client=client,\n",
    "        name=score_component.name,\n",
    "        version=score_component.version,\n",
    "    )\n",
    "    eval_func = dsl.load_component(\n",
    "        client=client,\n",
    "        name=eval_component.name,\n",
    "        version=eval_component.version,\n",
    "    )\n",
    "\n",
    "    # 2. Construct pipeline\n",
    "    @dsl.pipeline(\n",
    "        compute=\"cpu-cluster\",\n",
    "        description=\"E2E dummy train-score-eval pipeline with registered components\",\n",
    "    )\n",
    "    def sample_pipeline(\n",
    "            pipeline_job_training_input,\n",
    "            pipeline_job_test_input,\n",
    "            pipeline_job_training_max_epocs,\n",
    "            pipeline_job_training_learning_rate,\n",
    "            pipeline_job_learning_rate_schedule,\n",
    "    ):\n",
    "        train_job = train_func(\n",
    "            training_data=pipeline_job_training_input,\n",
    "            max_epocs=pipeline_job_training_max_epocs,\n",
    "            learning_rate=pipeline_job_training_learning_rate,\n",
    "            learning_rate_schedule=pipeline_job_learning_rate_schedule,\n",
    "        )\n",
    "        score_job = score_func(model_input=train_job.outputs.model_output, test_data=pipeline_job_test_input)\n",
    "        score_job.outputs.score_output.mode = \"upload\"\n",
    "        evaluate_job = eval_func(scoring_result=score_job.outputs.score_output)\n",
    "        return {\n",
    "            \"pipeline_job_trained_model\": train_job.outputs.model_output,\n",
    "            \"pipeline_job_scored_data\": score_job.outputs.score_output,\n",
    "            \"pipeline_job_evaluation_report\": evaluate_job.outputs.eval_output,\n",
    "        }\n",
    "\n",
    "    pipeline = sample_pipeline(\n",
    "        Dataset(local_path=parent_dir + \"/data/\"),\n",
    "        Dataset(local_path=parent_dir + \"/data/\"),\n",
    "        20,\n",
    "        1.8,\n",
    "        \"time-based\",\n",
    "    )\n",
    "    pipeline.outputs.pipeline_job_trained_model.mode = \"upload\"\n",
    "    pipeline.outputs.pipeline_job_scored_data.mode = \"upload\"\n",
    "    pipeline.outputs.pipeline_job_evaluation_report.mode = \"upload\"\n",
    "    return pipeline"
   ]
  },
  {
   "cell_type": "markdown",
   "metadata": {},
   "source": [
    "## Submit pipeline job"
   ]
  },
  {
   "cell_type": "code",
   "execution_count": null,
   "metadata": {},
   "outputs": [],
   "source": [
    "# create pipeline instance\n",
    "pipeline = generate_dsl_pipeline(ml_client, train_component, score_component, eval_component)\n",
    "# submit job to workspace\n",
    "ml_client.jobs.create_or_update(pipeline, experiment_name=\"e2e_registered_components\", continue_run_on_step_failure=True)"
   ]
  }
 ],
 "metadata": {
  "interpreter": {
   "hash": "3e9e0e270b75c5e6da2e22113ba4f77b864d68f95da6601809c29e46c73ae6bb"
  },
  "kernelspec": {
   "display_name": "Python 3.7.8 64-bit",
   "language": "python",
   "name": "python3"
  },
  "language_info": {
   "codemirror_mode": {
    "name": "ipython",
    "version": 3
   },
   "file_extension": ".py",
   "mimetype": "text/x-python",
   "name": "python",
   "nbconvert_exporter": "python",
   "pygments_lexer": "ipython3",
   "version": "3.7.12"
  },
  "orig_nbformat": 4
 },
 "nbformat": 4,
 "nbformat_minor": 2
}
