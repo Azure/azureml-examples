{
 "cells": [
  {
   "cell_type": "markdown",
   "metadata": {},
   "source": [
    "# NYC taxi data regression\n",
    "\n",
    "**Requirements** - In order to benefit from this tutorial, you will need:\n",
    "- A basic understanding of Machine Learning\n",
    "- An Azure account with an active subscription. [Create an account for free](https://azure.microsoft.com/free/?WT.mc_id=A261C142F)\n",
    "- An Azure ML workspace. [Check this notebook for creating a workspace](/sdk/resources/workspace/workspace.ipynb) \n",
    "- A Compute Cluster. [Check this notebook to create a compute cluster](/sdk/resources/compute/compute.ipynb)\n",
    "- A python environment\n",
    "- Installed Azure Machine Learning Python SDK v2 - [install instructions](/sdk/README.md#getting-started)\n",
    "\n",
    "**Learning Objectives** - By the end of this tutorial, you should be able to:\n",
    "- Connect to your AML workspace from the Python SDK\n",
    "- Define different `commandComponent` using YAML\n",
    "- Create `pipeline` load these components from YAML\n",
    "\n",
    "**Motivations** - This notebook explains how to loadcomponent via SDK then use these components to build pipeline. We use NYC dataset, build pipeline with five steps, prep data, transform data, train model, predict results and evaluate model performance."
   ]
  },
  {
   "cell_type": "markdown",
   "metadata": {},
   "source": [
    "# 1. Connect to Azure Machine Learning Workspace\n",
    "\n",
    "The [workspace](https://docs.microsoft.com/en-us/azure/machine-learning/concept-workspace) is the top-level resource for Azure Machine Learning, providing a centralized place to work with all the artifacts you create when you use Azure Machine Learning. In this section we will connect to the workspace in which the job will be run.\n",
    "\n",
    "## 1.1. Import the required libraries"
   ]
  },
  {
   "cell_type": "code",
   "execution_count": null,
   "metadata": {},
   "outputs": [],
   "source": [
    "#import required libraries\n",
    "from azure.ml import MLClient\n",
    "from azure.identity import InteractiveBrowserCredential\n",
    "from azure.ml import dsl\n",
    "from azure.ml.entities import JobInput \n",
    "from azure.ml._constants import AssetTypes\n",
    "from azure.ml.entities import load_component"
   ]
  },
  {
   "cell_type": "markdown",
   "metadata": {},
   "source": [
    "## 1.2. Configure workspace details and get a handle to the workspace\n",
    "\n",
    "To connect to a workspace, we need identifier parameters - a subscription, resource group and workspace name. We will use these details in the `MLClient` from `azure.ml` to get a handle to the required Azure Machine Learning workspace. We use the default [interactive authentication](https://docs.microsoft.com/en-us/python/api/azure-identity/azure.identity.interactivebrowsercredential?view=azure-python) for this tutorial. More advanced connection methods can be found [here](https://docs.microsoft.com/en-us/python/api/azure-identity/azure.identity?view=azure-python)."
   ]
  },
  {
   "cell_type": "code",
   "execution_count": null,
   "metadata": {},
   "outputs": [],
   "source": [
    "\n",
    "#Enter details of your AML workspace\n",
    "subscription_id = '<SUBSCRIPTION_ID>'\n",
    "resource_group = '<RESOURCE_GROUP>'\n",
    "workspace = '<AML_WORKSPACE_NAME>'"
   ]
  },
  {
   "cell_type": "code",
   "execution_count": null,
   "metadata": {},
   "outputs": [],
   "source": [
    "#get a handle to the workspace\n",
    "ml_client = MLClient(InteractiveBrowserCredential(), subscription_id, resource_group, workspace)"
   ]
  },
  {
   "cell_type": "markdown",
   "metadata": {},
   "source": [
    "# 2. Build pipeline"
   ]
  },
  {
   "cell_type": "code",
   "execution_count": null,
   "metadata": {},
   "outputs": [],
   "source": [
    "parent_dir = ''\n",
    "\n",
    "# 1. Load component funcs\n",
    "prep_func = load_component(\n",
    "    yaml_file=parent_dir + \"./prep.yml\"\n",
    ")\n",
    "transform_func = load_component(\n",
    "    yaml_file=parent_dir + \"./transform.yml\"\n",
    ")\n",
    "train_func = load_component(\n",
    "    yaml_file=parent_dir + \"./train.yml\"\n",
    ")\n",
    "predict_func = load_component(\n",
    "    yaml_file=parent_dir + \"./predict.yml\"\n",
    ")\n",
    "score_func = load_component(\n",
    "    yaml_file=parent_dir + \"./score.yml\"\n",
    ")\n",
    "\n",
    "# 2. Construct pipeline\n",
    "@dsl.pipeline(compute=\"cpu-cluster\", default_datastore=\"workspaceblobstore\")\n",
    "def sample_pipeline(pipeline_job_input):\n",
    "    prep_job = prep_func(raw_data=pipeline_job_input)\n",
    "    transform_job = transform_func(clean_data=prep_job.outputs.prep_data)\n",
    "    train_job = train_func(training_data=transform_job.outputs.transformed_data)\n",
    "    predict_job = predict_func(\n",
    "        model_input=train_job.outputs.model_output, test_data=train_job.outputs.test_data\n",
    "    )\n",
    "    score_job = score_func(predictions=predict_job.outputs.predictions, model=train_job.outputs.model_output)\n",
    "    return {\n",
    "        \"pipeline_job_prepped_data\": prep_job.outputs.prep_data,\n",
    "        \"pipeline_job_transformed_data\": transform_job.outputs.transformed_data,\n",
    "        \"pipeline_job_trained_model\": train_job.outputs.model_output,\n",
    "        \"pipeline_job_test_data\": train_job.outputs.test_data,\n",
    "        \"pipeline_job_predictions\": predict_job.outputs.predictions,\n",
    "        \"pipeline_job_score_report\": score_job.outputs.score_report,\n",
    "    }\n",
    "\n",
    "pipeline = sample_pipeline(\n",
    "    JobInput(type=AssetTypes.URI_FOLDER, path=parent_dir + \"./data/\")\n",
    ")\n",
    "pipeline.outputs.pipeline_job_prepped_data.data = \"/prepped_data\"\n",
    "pipeline.outputs.pipeline_job_prepped_data.mode = \"rw_mount\"\n",
    "pipeline.outputs.pipeline_job_transformed_data.data = \"/transformed_data\"\n",
    "pipeline.outputs.pipeline_job_transformed_data.mode = \"rw_mount\"\n",
    "pipeline.outputs.pipeline_job_trained_model.data = \"/trained-model\"\n",
    "pipeline.outputs.pipeline_job_trained_model.mode = \"rw_mount\"\n",
    "pipeline.outputs.pipeline_job_test_data.data = \"/test_data\"\n",
    "pipeline.outputs.pipeline_job_test_data.mode = \"rw_mount\"\n",
    "pipeline.outputs.pipeline_job_predictions.data = \"/predictions\"\n",
    "pipeline.outputs.pipeline_job_predictions.mode = \"rw_mount\"\n",
    "pipeline.outputs.pipeline_job_score_report.data = \"/report\"\n",
    "pipeline.outputs.pipeline_job_score_report.mode = \"rw_mount\""
   ]
  },
  {
   "cell_type": "markdown",
   "metadata": {},
   "source": [
    "## 3. Submit pipeline job"
   ]
  },
  {
   "cell_type": "code",
   "execution_count": null,
   "metadata": {},
   "outputs": [],
   "source": [
    "# submit job to workspace\n",
    "pipeline_job = ml_client.jobs.create_or_update(pipeline, experiment_name=\"nyc_taxi_data_regression\", continue_run_on_step_failure=True)\n",
    "pipeline_job.services[\"Studio\"].endpoint"
   ]
  },
  {
   "cell_type": "markdown",
   "metadata": {},
   "source": [
    "# Next Steps\n",
    "You can see further examples of running a pipeline job [here](/sdk/jobs/pipelines/)"
   ]
  }
 ],
 "metadata": {
  "description": {
   "description": "Build pipeline with components for 5 jobs - prep data, transform data, train model, predict results and evaluate model performance"
  },
  "interpreter": {
   "hash": "3e9e0e270b75c5e6da2e22113ba4f77b864d68f95da6601809c29e46c73ae6bb"
  },
  "kernelspec": {
   "display_name": "Python 3.8 - AzureML",
   "language": "python",
   "name": "python38-azureml"
  },
  "language_info": {
   "codemirror_mode": {
    "name": "ipython",
    "version": 3
   },
   "file_extension": ".py",
   "mimetype": "text/x-python",
   "name": "python",
   "nbconvert_exporter": "python",
   "pygments_lexer": "ipython3",
   "version": "3.7.12"
  },
  "orig_nbformat": 4
 },
 "nbformat": 4,
 "nbformat_minor": 2
}