{
 "cells": [
  {
   "cell_type": "markdown",
   "metadata": {},
   "source": [
    "# Build pipeline using schedule\n",
    "\n",
    "**Requirements** - In order to benefit from this tutorial, you will need:\n",
    "- A basic understanding of Machine Learning\n",
    "- An Azure account with an active subscription - [Create an account for free](https://azure.microsoft.com/free/?WT.mc_id=A261C142F)\n",
    "- An Azure ML workspace with computer cluster - [Configure workspace](../../configuration.ipynb)\n",
    "- A python environment\n",
    "- Installed Azure Machine Learning Python SDK v2 - [install instructions](../../../README.md) - check the getting started section\n",
    "\n",
    "**Learning Objectives** - By the end of this tutorial, you should be able to:\n",
    "- Connect to your AML workspace from the Python SDK\n",
    "- Define and load `CommandComponent` from YAML\n",
    "- Create `Pipeline` using loaded component.\n",
    "- Set the schedule of `Pipeline`.\n",
    "\n",
    "**Motivations** - This notebook explains how to create a pipeline using schedule."
   ]
  },
  {
   "cell_type": "markdown",
   "metadata": {},
   "source": [
    "# 1. Connect to Azure Machine Learning Workspace\n",
    "\n",
    "The [workspace](https://docs.microsoft.com/en-us/azure/machine-learning/concept-workspace) is the top-level resource for Azure Machine Learning, providing a centralized place to work with all the artifacts you create when you use Azure Machine Learning. In this section we will connect to the workspace in which the job will be run.\n",
    "\n",
    "## 1.1 Import the required libraries"
   ]
  },
  {
   "cell_type": "code",
   "execution_count": 1,
   "metadata": {},
   "outputs": [],
   "source": [
    "# Import required libraries\n",
    "from azure.ml import MLClient, dsl, Input\n",
    "from azure.ml.entities import (\n",
    "    CronSchedule,\n",
    "    RecurrenceSchedule,\n",
    "    RecurrencePattern,\n",
    "    ScheduleStatus,\n",
    "    load_component,\n",
    ")"
   ]
  },
  {
   "cell_type": "markdown",
   "metadata": {},
   "source": [
    "## 1.2 Configure credential\n",
    "\n",
    "We are using `DefaultAzureCredential` to get access to workspace. \n",
    "`DefaultAzureCredential` should be capable of handling most Azure SDK authentication scenarios. \n",
    "\n",
    "Reference for more available credentials if it does not work for you: [configure credential example](../../configuration.ipynb), [azure-identity reference doc](https://docs.microsoft.com/en-us/python/api/azure-identity/azure.identity?view=azure-python)."
   ]
  },
  {
   "cell_type": "code",
   "execution_count": 2,
   "metadata": {},
   "outputs": [],
   "source": [
    "from azure.identity import DefaultAzureCredential, InteractiveBrowserCredential\n",
    "\n",
    "try:\n",
    "    credential = DefaultAzureCredential()\n",
    "    # Check if given credential can get token successfully.\n",
    "    credential.get_token(\"https://management.azure.com/.default\")\n",
    "except Exception as ex:\n",
    "    # Fall back to InteractiveBrowserCredential in case DefaultAzureCredential not work\n",
    "    credential = InteractiveBrowserCredential()"
   ]
  },
  {
   "cell_type": "markdown",
   "metadata": {},
   "source": [
    "## 1.3 Get a handle to the workspace\n",
    "\n",
    "We use config file to connect to a workspace. The Azure ML workspace should be configured with computer cluster. [Check this notebook for configure a workspace](../../configuration.ipynb)"
   ]
  },
  {
   "cell_type": "code",
   "execution_count": 3,
   "metadata": {},
   "outputs": [
    {
     "name": "stderr",
     "output_type": "stream",
     "text": [
      "Found the config file in: C:\\Users\\biyi\\azureml-examples\\sdk\\.azureml\\config.json\n"
     ]
    },
    {
     "name": "stdout",
     "output_type": "stream",
     "text": [
      "AmlCompute({'type': 'amlcompute', 'created_on': None, 'provisioning_state': 'Succeeded', 'provisioning_errors': None, 'name': 'cpu-cluster', 'description': None, 'tags': {}, 'properties': {}, 'id': '/subscriptions/96aede12-2f73-41cb-b983-6d11a904839b/resourceGroups/sdk/providers/Microsoft.MachineLearningServices/workspaces/sdk-canary/computes/cpu-cluster', 'base_path': './', 'creation_context': None, 'serialize': <msrest.serialization.Serializer object at 0x000002065B143DC0>, 'resource_id': None, 'location': 'eastus2euap', 'size': 'STANDARD_DS3_V2', 'min_instances': 0, 'max_instances': 8, 'idle_time_before_scale_down': 3600.0, 'identity': None, 'ssh_public_access_enabled': True, 'ssh_settings': None, 'network_settings': None, 'tier': 'dedicated'})\n"
     ]
    }
   ],
   "source": [
    "# Get a handle to workspace\n",
    "ml_client = MLClient.from_config(credential=credential)\n",
    "\n",
    "# Retrieve an already attached Azure Machine Learning Compute.\n",
    "cluster_name = \"cpu-cluster\"\n",
    "print(ml_client.compute.get(cluster_name))"
   ]
  },
  {
   "cell_type": "markdown",
   "metadata": {},
   "source": [
    "# 2. Define and create components into workspace\n",
    "## 2.1 Load components definition from YAML"
   ]
  },
  {
   "cell_type": "code",
   "execution_count": 4,
   "metadata": {},
   "outputs": [],
   "source": [
    "parent_dir = \".\"\n",
    "train_model = load_component(yaml_file=parent_dir + \"/train_model.yml\")\n",
    "score_data = load_component(yaml_file=parent_dir + \"/score_data.yml\")\n",
    "eval_model = load_component(yaml_file=parent_dir + \"/eval_model.yml\")"
   ]
  },
  {
   "cell_type": "markdown",
   "source": [
    "## 2.2 Inspect loaded component"
   ],
   "metadata": {
    "collapsed": false
   }
  },
  {
   "cell_type": "code",
   "execution_count": 5,
   "outputs": [
    {
     "name": "stdout",
     "output_type": "stream",
     "text": [
      "$schema: https://azuremlschemas.azureedge.net/latest/commandComponent.schema.json\n",
      "name: train_model\n",
      "version: 0.0.1\n",
      "display_name: Train Model\n",
      "description: A dummy training component\n",
      "type: command\n",
      "inputs:\n",
      "  training_data:\n",
      "    type: uri_folder\n",
      "  max_epochs:\n",
      "    type: integer\n",
      "    optional: true\n",
      "  learning_rate:\n",
      "    type: number\n",
      "    default: '0.01'\n",
      "  learning_rate_schedule:\n",
      "    type: string\n",
      "    default: time-based\n",
      "outputs:\n",
      "  model_output:\n",
      "    type: uri_folder\n",
      "command: python train.py  --training_data ${{inputs.training_data}}  [--max_epochs\n",
      "  ${{inputs.max_epochs}}]  --learning_rate ${{inputs.learning_rate}}  --learning_rate_schedule\n",
      "  ${{inputs.learning_rate_schedule}}  --model_output ${{outputs.model_output}}\n",
      "environment: azureml:AzureML-sklearn-0.24-ubuntu18.04-py37-cpu:5\n",
      "code: azureml:./train_src\n",
      "is_deterministic: true\n",
      "tags: {}\n",
      "\n"
     ]
    }
   ],
   "source": [
    "# Print the component as yaml\n",
    "print(train_model)"
   ],
   "metadata": {
    "collapsed": false,
    "pycharm": {
     "name": "#%%\n"
    }
   }
  },
  {
   "cell_type": "code",
   "execution_count": 6,
   "outputs": [
    {
     "name": "stdout",
     "output_type": "stream",
     "text": [
      "<class 'azure.ml.entities._component.command_component.CommandComponent'>\n",
      "Help on function [component] Train Model:\n",
      "\n",
      "[component] Train Model(*, training_data: 'uri_folder' = None, max_epochs: 'int' = None, learning_rate: 'float' = None, learning_rate_schedule: 'str' = None)\n",
      "    A dummy training component\n",
      "    \n",
      "    Component yaml:\n",
      "    ```yaml\n",
      "    $schema: https://azuremlschemas.azureedge.net/latest/commandComponent.schema.json\n",
      "    type: command\n",
      "    \n",
      "    name: train_model\n",
      "    display_name: Train Model\n",
      "    description: A dummy training component\n",
      "    version: 0.0.1\n",
      "    inputs:\n",
      "      training_data: \n",
      "        type: uri_folder\n",
      "      max_epochs:\n",
      "        type: integer\n",
      "        optional: true\n",
      "      learning_rate: \n",
      "        type: number\n",
      "        default: 0.01\n",
      "      learning_rate_schedule: \n",
      "        type: string\n",
      "        default: time-based \n",
      "    outputs:\n",
      "      model_output:\n",
      "        type: uri_folder\n",
      "    code: ./train_src\n",
      "    environment: azureml:AzureML-sklearn-0.24-ubuntu18.04-py37-cpu:5\n",
      "    command: >-\n",
      "      python train.py \n",
      "      --training_data ${{inputs.training_data}} \n",
      "      [--max_epochs ${{inputs.max_epochs}}] \n",
      "      --learning_rate ${{inputs.learning_rate}} \n",
      "      --learning_rate_schedule ${{inputs.learning_rate_schedule}} \n",
      "      --model_output ${{outputs.model_output}}\n",
      "    \n",
      "    ```\n",
      "\n"
     ]
    }
   ],
   "source": [
    "# Inspect more information\n",
    "print(type(train_model))\n",
    "help(train_model._func)"
   ],
   "metadata": {
    "collapsed": false,
    "pycharm": {
     "name": "#%%\n"
    }
   }
  },
  {
   "cell_type": "markdown",
   "metadata": {},
   "source": [
    "# 3. Sample pipeline job\n",
    "## 3.1 Build pipeline"
   ]
  },
  {
   "cell_type": "code",
   "execution_count": 7,
   "metadata": {},
   "outputs": [],
   "source": [
    "# Construct pipeline\n",
    "@dsl.pipeline(\n",
    "    default_compute=\"cpu-cluster\",\n",
    "    description=\"E2E dummy train-score-eval pipeline using schedule\",\n",
    ")\n",
    "def pipeline_using_schedule(\n",
    "    training_input,\n",
    "    test_input,\n",
    "    training_max_epochs=20,\n",
    "    training_learning_rate=1.8,\n",
    "    learning_rate_schedule=\"time-based\",\n",
    "):\n",
    "    # Call component obj as function: apply given inputs & parameters to create a node in pipeline\n",
    "    train_with_sample_data = train_model(\n",
    "        training_data=training_input,\n",
    "        max_epochs=training_max_epochs,\n",
    "        learning_rate=training_learning_rate,\n",
    "        learning_rate_schedule=learning_rate_schedule,\n",
    "    )\n",
    "\n",
    "    score_with_sample_data = score_data(\n",
    "        model_input=train_with_sample_data.outputs.model_output, test_data=test_input\n",
    "    )\n",
    "    score_with_sample_data.outputs.score_output.mode = \"upload\"\n",
    "\n",
    "    eval_with_sample_data = eval_model(\n",
    "        scoring_result=score_with_sample_data.outputs.score_output\n",
    "    )\n",
    "\n",
    "    # Return: pipeline outputs\n",
    "    return {\n",
    "        \"trained_model\": train_with_sample_data.outputs.model_output,\n",
    "        \"scored_data\": score_with_sample_data.outputs.score_output,\n",
    "        \"evaluation_report\": eval_with_sample_data.outputs.eval_output,\n",
    "    }"
   ]
  },
  {
   "cell_type": "code",
   "execution_count": 16,
   "outputs": [
    {
     "name": "stdout",
     "output_type": "stream",
     "text": [
      "name: loving_reggae_pb58zdscyy\n",
      "display_name: pipeline_using_schedule\n",
      "description: E2E dummy train-score-eval pipeline using schedule\n",
      "type: pipeline\n",
      "inputs:\n",
      "  training_input:\n",
      "    mode: ro_mount\n",
      "    type: uri_folder\n",
      "    path: azureml:./data/\n",
      "  test_input:\n",
      "    mode: ro_mount\n",
      "    type: uri_folder\n",
      "    path: azureml:./data/\n",
      "  training_max_epochs: 20\n",
      "  training_learning_rate: 1\n",
      "  learning_rate_schedule: time-based\n",
      "outputs:\n",
      "  trained_model: null\n",
      "  scored_data: null\n",
      "  evaluation_report: null\n",
      "tags: {}\n",
      "jobs:\n",
      "  train_with_sample_data:\n",
      "    $schema: '{}'\n",
      "    type: command\n",
      "    inputs:\n",
      "      training_data: ${{parent.inputs.training_input}}\n",
      "      max_epochs: ${{parent.inputs.training_max_epochs}}\n",
      "      learning_rate: ${{parent.inputs.training_learning_rate}}\n",
      "      learning_rate_schedule: ${{parent.inputs.learning_rate_schedule}}\n",
      "    outputs:\n",
      "      model_output: ${{parent.outputs.trained_model}}\n",
      "    command: python train.py  --training_data ${{inputs.training_data}}  [--max_epochs\n",
      "      ${{inputs.max_epochs}}]  --learning_rate ${{inputs.learning_rate}}  --learning_rate_schedule\n",
      "      ${{inputs.learning_rate_schedule}}  --model_output ${{outputs.model_output}}\n",
      "    code: /subscriptions/96aede12-2f73-41cb-b983-6d11a904839b/resourceGroups/sdk/providers/Microsoft.MachineLearningServices/workspaces/sdk-canary/codes/9c72ec44-e19a-4942-a12b-a598952b334d/versions/1\n",
      "    environment_variables: {}\n",
      "    component:\n",
      "      $schema: https://azuremlschemas.azureedge.net/latest/commandComponent.schema.json\n",
      "      name: cc9a8ee8-9d6c-3cbb-bf47-38e66f4af4e0\n",
      "      version: '1'\n",
      "      display_name: Train Model\n",
      "      description: A dummy training component\n",
      "      type: command\n",
      "      inputs:\n",
      "        training_data:\n",
      "          type: uri_folder\n",
      "        max_epochs:\n",
      "          type: integer\n",
      "          optional: true\n",
      "        learning_rate:\n",
      "          type: number\n",
      "          default: '0.01'\n",
      "        learning_rate_schedule:\n",
      "          type: string\n",
      "          default: time-based\n",
      "      outputs:\n",
      "        model_output:\n",
      "          type: uri_folder\n",
      "      command: python train.py  --training_data ${{inputs.training_data}}  [--max_epochs\n",
      "        ${{inputs.max_epochs}}]  --learning_rate ${{inputs.learning_rate}}  --learning_rate_schedule\n",
      "        ${{inputs.learning_rate_schedule}}  --model_output ${{outputs.model_output}}\n",
      "      environment: azureml:/subscriptions/96aede12-2f73-41cb-b983-6d11a904839b/resourceGroups/sdk/providers/Microsoft.MachineLearningServices/workspaces/sdk-canary/environments/AzureML-sklearn-0.24-ubuntu18.04-py37-cpu/versions/5\n",
      "      code: azureml:/subscriptions/96aede12-2f73-41cb-b983-6d11a904839b/resourceGroups/sdk/providers/Microsoft.MachineLearningServices/workspaces/sdk-canary/codes/9c72ec44-e19a-4942-a12b-a598952b334d/versions/1\n",
      "      id: /subscriptions/96aede12-2f73-41cb-b983-6d11a904839b/resourceGroups/sdk/providers/Microsoft.MachineLearningServices/workspaces/sdk-canary/components/cc9a8ee8-9d6c-3cbb-bf47-38e66f4af4e0/versions/1\n",
      "      is_deterministic: true\n",
      "      tags: {}\n",
      "  score_with_sample_data:\n",
      "    $schema: '{}'\n",
      "    type: command\n",
      "    inputs:\n",
      "      model_input: ${{parent.jobs.train_with_sample_data.outputs.model_output}}\n",
      "      test_data: ${{parent.inputs.test_input}}\n",
      "    outputs:\n",
      "      score_output: ${{parent.outputs.scored_data}}\n",
      "    command: python score.py  --model_input ${{inputs.model_input}}  --test_data ${{inputs.test_data}}\n",
      "      --score_output ${{outputs.score_output}}\n",
      "    code: /subscriptions/96aede12-2f73-41cb-b983-6d11a904839b/resourceGroups/sdk/providers/Microsoft.MachineLearningServices/workspaces/sdk-canary/codes/24b1801a-d71d-40ec-84e2-d6d69e8dbc4c/versions/1\n",
      "    environment_variables: {}\n",
      "    component:\n",
      "      $schema: https://azuremlschemas.azureedge.net/latest/commandComponent.schema.json\n",
      "      name: 9835dae8-10e9-8ddf-7127-d0af0c7a2033\n",
      "      version: '1'\n",
      "      display_name: Score Data\n",
      "      description: A dummy scoring component\n",
      "      type: command\n",
      "      inputs:\n",
      "        model_input:\n",
      "          type: uri_folder\n",
      "        test_data:\n",
      "          type: uri_folder\n",
      "      outputs:\n",
      "        score_output:\n",
      "          type: uri_folder\n",
      "      command: python score.py  --model_input ${{inputs.model_input}}  --test_data\n",
      "        ${{inputs.test_data}} --score_output ${{outputs.score_output}}\n",
      "      environment: azureml:/subscriptions/96aede12-2f73-41cb-b983-6d11a904839b/resourceGroups/sdk/providers/Microsoft.MachineLearningServices/workspaces/sdk-canary/environments/AzureML-sklearn-0.24-ubuntu18.04-py37-cpu/versions/5\n",
      "      code: azureml:/subscriptions/96aede12-2f73-41cb-b983-6d11a904839b/resourceGroups/sdk/providers/Microsoft.MachineLearningServices/workspaces/sdk-canary/codes/24b1801a-d71d-40ec-84e2-d6d69e8dbc4c/versions/1\n",
      "      id: /subscriptions/96aede12-2f73-41cb-b983-6d11a904839b/resourceGroups/sdk/providers/Microsoft.MachineLearningServices/workspaces/sdk-canary/components/9835dae8-10e9-8ddf-7127-d0af0c7a2033/versions/1\n",
      "      is_deterministic: true\n",
      "      tags: {}\n",
      "  eval_with_sample_data:\n",
      "    $schema: '{}'\n",
      "    type: command\n",
      "    inputs:\n",
      "      scoring_result: ${{parent.jobs.score_with_sample_data.outputs.score_output}}\n",
      "    outputs:\n",
      "      eval_output: ${{parent.outputs.evaluation_report}}\n",
      "    command: python eval.py  --scoring_result ${{inputs.scoring_result}}  --eval_output\n",
      "      ${{outputs.eval_output}}\n",
      "    code: /subscriptions/96aede12-2f73-41cb-b983-6d11a904839b/resourceGroups/sdk/providers/Microsoft.MachineLearningServices/workspaces/sdk-canary/codes/abac5d9b-2a95-4979-9fac-27db9ce4e3a4/versions/1\n",
      "    environment_variables: {}\n",
      "    component:\n",
      "      $schema: https://azuremlschemas.azureedge.net/latest/commandComponent.schema.json\n",
      "      name: ea8e537b-b505-a5e2-7bf7-4aa079271c7e\n",
      "      version: '1'\n",
      "      display_name: Eval Model\n",
      "      description: A dummy evaluate component\n",
      "      type: command\n",
      "      inputs:\n",
      "        scoring_result:\n",
      "          type: uri_folder\n",
      "      outputs:\n",
      "        eval_output:\n",
      "          type: uri_folder\n",
      "      command: python eval.py  --scoring_result ${{inputs.scoring_result}}  --eval_output\n",
      "        ${{outputs.eval_output}}\n",
      "      environment: azureml:/subscriptions/96aede12-2f73-41cb-b983-6d11a904839b/resourceGroups/sdk/providers/Microsoft.MachineLearningServices/workspaces/sdk-canary/environments/AzureML-sklearn-0.24-ubuntu18.04-py37-cpu/versions/5\n",
      "      code: azureml:/subscriptions/96aede12-2f73-41cb-b983-6d11a904839b/resourceGroups/sdk/providers/Microsoft.MachineLearningServices/workspaces/sdk-canary/codes/abac5d9b-2a95-4979-9fac-27db9ce4e3a4/versions/1\n",
      "      id: /subscriptions/96aede12-2f73-41cb-b983-6d11a904839b/resourceGroups/sdk/providers/Microsoft.MachineLearningServices/workspaces/sdk-canary/components/ea8e537b-b505-a5e2-7bf7-4aa079271c7e/versions/1\n",
      "      is_deterministic: true\n",
      "      tags: {}\n",
      "properties: {}\n",
      "settings:\n",
      "  force_rerun: false\n",
      "experiment_name: 1f_pipeline_using_schedule\n",
      "compute: azureml:cpu-cluster\n",
      "\n"
     ]
    }
   ],
   "source": [
    "pipeline = pipeline_using_schedule(\n",
    "    training_input=Input(type=\"uri_folder\", path=parent_dir + \"/data/\"),\n",
    "    test_input=Input(type=\"uri_folder\", path=parent_dir + \"/data/\"),\n",
    "    training_max_epochs=20,\n",
    "    training_learning_rate=1.8,\n",
    "    learning_rate_schedule=\"time-based\",\n",
    ")"
   ],
   "metadata": {
    "collapsed": false,
    "pycharm": {
     "name": "#%%\n"
    }
   }
  },
  {
   "cell_type": "markdown",
   "source": [
    "## 3.2 Configure schedule of pipeline job"
   ],
   "metadata": {
    "collapsed": false
   }
  },
  {
   "cell_type": "code",
   "execution_count": 33,
   "outputs": [],
   "source": [
    "# create a cron schedule fire at 17:00 PM and 17:30 PM with UTC timezone every day\n",
    "cron_schedule = CronSchedule(\n",
    "    expression=\"0,30 17 * * *\",\n",
    "    start_time=\"2022-04-21T01:15:00\",\n",
    "    time_zone=\"Universal Coordinated Time\",\n",
    "    status=ScheduleStatus.ENABLED,\n",
    ")\n",
    "pipeline.schedule = cron_schedule"
   ],
   "metadata": {
    "collapsed": false,
    "pycharm": {
     "name": "#%%\n"
    }
   }
  },
  {
   "cell_type": "code",
   "execution_count": 17,
   "outputs": [],
   "source": [
    "# create a recurrence schedule fire at 10:00 AM and 10:01AM with PST timezone every day\n",
    "# pattern = RecurrencePattern(hours=10, minutes=[0, 1])\n",
    "# recurrence_schedule = RecurrenceSchedule(\n",
    "#     frequency='day',\n",
    "#     interval=1,\n",
    "#     start_time=\"2022-04-21T01:15:00\",\n",
    "#     time_zone=\"Pacific Standard Time\",\n",
    "#     status=ScheduleStatus.ENABLED\n",
    "# )\n",
    "# pipeline.schedule = recurrence_schedule"
   ],
   "metadata": {
    "collapsed": false,
    "pycharm": {
     "name": "#%%\n"
    }
   }
  },
  {
   "cell_type": "code",
   "execution_count": 19,
   "outputs": [
    {
     "name": "stdout",
     "output_type": "stream",
     "text": [
      "PipelineJob({'inputs': {'training_input': <azure.ml.entities._job.pipeline._io.PipelineInput object at 0x000002067FA69610>, 'test_input': <azure.ml.entities._job.pipeline._io.PipelineInput object at 0x000002067FA69670>, 'training_max_epochs': <azure.ml.entities._job.pipeline._io.PipelineInput object at 0x000002067FA696D0>, 'training_learning_rate': <azure.ml.entities._job.pipeline._io.PipelineInput object at 0x000002067FA69730>, 'learning_rate_schedule': <azure.ml.entities._job.pipeline._io.PipelineInput object at 0x000002067FA69790>}, 'outputs': {'trained_model': <azure.ml.entities._job.pipeline._io.PipelineOutput object at 0x000002067FA694C0>, 'scored_data': <azure.ml.entities._job.pipeline._io.PipelineOutput object at 0x000002067FA697F0>, 'evaluation_report': <azure.ml.entities._job.pipeline._io.PipelineOutput object at 0x000002067FA69580>}, 'component': _PipelineComponent({'components': OrderedDict([('train_with_sample_data', {'code': {}, 'command': {}}), ('score_with_sample_data', {'code': {}, 'command': {}}), ('eval_with_sample_data', {'code': {}, 'command': {}})]), 'auto_increment_version': False, 'is_anonymous': False, 'name': 'pipeline_using_schedule', 'description': 'E2E dummy train-score-eval pipeline using schedule', 'tags': {}, 'properties': {}, 'id': None, 'base_path': None, 'creation_context': None, 'serialize': <msrest.serialization.Serializer object at 0x000002067FA7EEB0>, 'version': '1', 'latest_version': None, 'schema': None, 'type': 'pipeline_component', 'display_name': 'pipeline_using_schedule', 'is_deterministic': True, 'inputs': {'training_input': {'type': 'unknown', 'default': None}, 'test_input': {'type': 'unknown', 'default': None}, 'training_max_epochs': {'type': 'integer', 'default': 20}, 'training_learning_rate': {'type': 'number', 'default': '1.8'}, 'learning_rate_schedule': {'type': 'string', 'default': 'time-based'}}, 'outputs': {'trained_model': <azure.ml.entities._job.pipeline._io.PipelineOutput object at 0x000002067FA69040>, 'scored_data': <azure.ml.entities._job.pipeline._io.PipelineOutput object at 0x000002067FA69070>, 'evaluation_report': <azure.ml.entities._job.pipeline._io.PipelineOutput object at 0x000002067FA69400>}, 'yaml_str': None, 'other_parameter': {}, 'func': <function [component] pipeline_using_schedule at 0x000002067F9C9430>}), 'display_name': 'pipeline_using_schedule', 'type': 'pipeline', 'status': None, 'log_files': None, 'name': 'loving_reggae_pb58zdscyy', 'description': 'E2E dummy train-score-eval pipeline using schedule', 'tags': {}, 'properties': {'mlflow.source.git.repoURL': 'https://github.com/Azure/azureml-examples.git', 'mlflow.source.git.branch': 'sdk-preview', 'mlflow.source.git.commit': '8cd2f026259a5c58d1729f816f434012070d7df1', 'azureml.git.dirty': 'True'}, 'id': None, 'base_path': './', 'creation_context': None, 'serialize': <msrest.serialization.Serializer object at 0x000002067E7BA280>, 'experiment_name': 'pipeline_samples', 'compute': '/subscriptions/96aede12-2f73-41cb-b983-6d11a904839b/resourceGroups/sdk/providers/Microsoft.MachineLearningServices/workspaces/sdk-canary/computes/cpu-cluster', 'services': None, 'jobs': {'train_with_sample_data': {'code': {}, 'command': {}}, 'score_with_sample_data': {'code': {}, 'command': {}}, 'eval_with_sample_data': {'code': {}, 'command': {}}}, 'settings': <azure.ml.entities._job.pipeline.pipeline_job_settings.PipelineJobSettings object at 0x000002067FA560D0>, 'identity': None, 'schedule': <azure.ml.entities._schedule.schedule.RecurrenceSchedule object at 0x000002067FAD96A0>, 'default_code': None, 'default_environment': None})\n"
     ]
    }
   ],
   "source": [
    "print(pipeline)"
   ],
   "metadata": {
    "collapsed": false,
    "pycharm": {
     "name": "#%%\n"
    }
   }
  },
  {
   "cell_type": "markdown",
   "metadata": {},
   "source": [
    "## 3.2 Submit pipeline job"
   ]
  },
  {
   "cell_type": "code",
   "execution_count": 18,
   "metadata": {},
   "outputs": [
    {
     "name": "stderr",
     "output_type": "stream",
     "text": [
      "Datetime with no tzinfo will be considered UTC.\n"
     ]
    },
    {
     "data": {
      "text/plain": "PipelineJob({'inputs': {'training_input': <azure.ml.entities._job.pipeline._io.PipelineInput object at 0x000002067FABDB50>, 'test_input': <azure.ml.entities._job.pipeline._io.PipelineInput object at 0x000002067FABDB80>, 'training_max_epochs': <azure.ml.entities._job.pipeline._io.PipelineInput object at 0x000002067FABDBE0>, 'training_learning_rate': <azure.ml.entities._job.pipeline._io.PipelineInput object at 0x000002067FABDC40>, 'learning_rate_schedule': <azure.ml.entities._job.pipeline._io.PipelineInput object at 0x000002067FABDCA0>}, 'outputs': {'trained_model': <azure.ml.entities._job.pipeline._io.PipelineOutput object at 0x000002067FABDD00>, 'scored_data': <azure.ml.entities._job.pipeline._io.PipelineOutput object at 0x000002067FABDD60>, 'evaluation_report': <azure.ml.entities._job.pipeline._io.PipelineOutput object at 0x000002067FABDDC0>}, 'component': _PipelineComponent({'components': {}, 'auto_increment_version': False, 'is_anonymous': True, 'name': '7f51a667-ff63-486e-b7ff-0741f11b5971', 'description': None, 'tags': {}, 'properties': {}, 'id': None, 'base_path': None, 'creation_context': None, 'serialize': <msrest.serialization.Serializer object at 0x000002067FABDEB0>, 'version': '1', 'latest_version': None, 'schema': None, 'type': 'pipeline_component', 'display_name': None, 'is_deterministic': True, 'inputs': {}, 'outputs': {}, 'yaml_str': None, 'other_parameter': {}, 'func': <function [component] None at 0x000002067FA52EE0>}), 'display_name': 'loving_reggae_pb58zdscyy', 'type': 'pipeline', 'status': 'NotStarted', 'log_files': None, 'name': 'loving_reggae_pb58zdscyy', 'description': None, 'tags': {}, 'properties': {'mlflow.source.git.repoURL': 'https://github.com/Azure/azureml-examples.git', 'mlflow.source.git.branch': 'sdk-preview', 'mlflow.source.git.commit': '8cd2f026259a5c58d1729f816f434012070d7df1', 'azureml.git.dirty': 'True', 'azureml.DevPlatv2': 'true', 'azureml.runsource': 'azureml.PipelineRun', 'runSource': 'MFE', 'runType': 'HTTP', 'azureml.continue_on_step_failure': 'False', 'azureml.pipelineComponent': 'pipelinerun', 'azureml.parameters': '{\"training_max_epochs\":\"20\",\"training_learning_rate\":\"1.8\",\"learning_rate_schedule\":\"time-based\"}', '20220422T071946.348': 'Trigger Created Succeeded', 'azureml.trigger_endpoint': 'https://eastus2euap.experiments.azureml.net/studioservice/api/subscriptions/96aede12-2f73-41cb-b983-6d11a904839b/resourceGroups/sdk/workspaces/sdk-canary/PipelineRuns/SubmitSchduledPipelineRun/loving_reggae_pb58zdscyy'}, 'id': '/subscriptions/96aede12-2f73-41cb-b983-6d11a904839b/resourceGroups/sdk/providers/Microsoft.MachineLearningServices/workspaces/sdk-canary/jobs/loving_reggae_pb58zdscyy', 'base_path': './', 'creation_context': <azure.ml._restclient.v2022_02_01_preview.models._models_py3.SystemData object at 0x000002067FB0CA60>, 'serialize': <msrest.serialization.Serializer object at 0x000002067FB62040>, 'experiment_name': 'pipeline_samples', 'compute': 'cpu-cluster', 'services': {'Tracking': <azure.ml._restclient.v2022_02_01_preview.models._models_py3.JobService object at 0x000002067FB0CCD0>, 'Studio': <azure.ml._restclient.v2022_02_01_preview.models._models_py3.JobService object at 0x000002067FB0CA30>}, 'jobs': {'train_with_sample_data': {'code': {}, 'command': {}}, 'score_with_sample_data': {'code': {}, 'command': {}}, 'eval_with_sample_data': {'code': {}, 'command': {}}}, 'settings': <azure.ml.entities._job.pipeline.pipeline_job_settings.PipelineJobSettings object at 0x000002067FB00A30>, 'identity': None, 'schedule': <azure.ml.entities._schedule.schedule.RecurrenceSchedule object at 0x000002067FABD700>, 'default_code': None, 'default_environment': None})",
      "text/html": "<table style=\"width:100%\"><tr><th>Experiment</th><th>Name</th><th>Type</th><th>Status</th><th>Details Page</th></tr><tr><td>pipeline_samples</td><td>loving_reggae_pb58zdscyy</td><td>pipeline</td><td>NotStarted</td><td><a href=\"https://ml.azure.com/runs/loving_reggae_pb58zdscyy?wsid=/subscriptions/96aede12-2f73-41cb-b983-6d11a904839b/resourcegroups/sdk/workspaces/sdk-canary&amp;tid=72f988bf-86f1-41af-91ab-2d7cd011db47\" target=\"_blank\" rel=\"noopener\">Link to Azure Machine Learning studio</a></td></tr></table>"
     },
     "execution_count": 18,
     "metadata": {},
     "output_type": "execute_result"
    }
   ],
   "source": [
    "# submit job to workspace\n",
    "pipeline_job = ml_client.jobs.create_or_update(\n",
    "    pipeline, experiment_name=\"pipeline_samples\"\n",
    ")"
   ]
  },
  {
   "cell_type": "markdown",
   "source": [
    "Note: Job will be run as per the defined schedule. It might not run immediately."
   ],
   "metadata": {
    "collapsed": false
   }
  },
  {
   "cell_type": "code",
   "execution_count": 13,
   "metadata": {},
   "outputs": [
    {
     "data": {
      "text/plain": "PipelineJob({'inputs': {}, 'outputs': {}, 'component': _PipelineComponent({'components': {}, 'auto_increment_version': False, 'is_anonymous': True, 'name': '94a29aaf-516a-4b75-b947-4f7225f8f426', 'description': None, 'tags': {}, 'properties': {}, 'id': None, 'base_path': None, 'creation_context': None, 'serialize': <msrest.serialization.Serializer object at 0x000002065C188D30>, 'version': '1', 'latest_version': None, 'schema': None, 'type': 'pipeline_component', 'display_name': None, 'is_deterministic': True, 'inputs': {}, 'outputs': {}, 'yaml_str': None, 'other_parameter': {}, 'func': <function [component] None at 0x000002065B111CA0>}), 'display_name': 'nifty_sun_wrgkfrc7wq', 'type': 'pipeline', 'status': 'NotStarted', 'log_files': None, 'name': 'nifty_sun_wrgkfrc7wq', 'description': None, 'tags': {}, 'properties': {'mlflow.source.git.repoURL': 'https://github.com/Azure/azureml-examples.git', 'mlflow.source.git.branch': 'sdk-preview', 'mlflow.source.git.commit': '8cd2f026259a5c58d1729f816f434012070d7df1', 'azureml.git.dirty': 'True', 'azureml.DevPlatv2': 'true', 'azureml.runsource': 'azureml.PipelineRun', 'runSource': 'MFE', 'runType': 'HTTP', 'azureml.continue_on_step_failure': 'False', 'azureml.pipelineComponent': 'pipelinerun', 'azureml.parameters': '{\"training_max_epochs\":\"20\",\"training_learning_rate\":\"1.8\",\"learning_rate_schedule\":\"time-based\"}', '20220422T064352.585': 'Trigger Created Failed', 'azureml.trigger_endpoint': 'https://eastus2euap.experiments.azureml.net/studioservice/api/subscriptions/96aede12-2f73-41cb-b983-6d11a904839b/resourceGroups/sdk/workspaces/sdk-canary/PipelineRuns/SubmitSchduledPipelineRun/nifty_sun_wrgkfrc7wq', '20220422T064401.337': 'Trigger Updated Succeeded'}, 'id': '/subscriptions/96aede12-2f73-41cb-b983-6d11a904839b/resourceGroups/sdk/providers/Microsoft.MachineLearningServices/workspaces/sdk-canary/jobs/nifty_sun_wrgkfrc7wq', 'base_path': './', 'creation_context': <azure.ml._restclient.v2022_02_01_preview.models._models_py3.SystemData object at 0x000002065C277820>, 'serialize': <msrest.serialization.Serializer object at 0x000002065C32DD90>, 'experiment_name': 'pipeline_samples', 'compute': None, 'services': {'Tracking': <azure.ml._restclient.v2022_02_01_preview.models._models_py3.JobService object at 0x000002065C277A90>, 'Studio': <azure.ml._restclient.v2022_02_01_preview.models._models_py3.JobService object at 0x000002065C277280>}, 'jobs': {}, 'settings': <azure.ml.entities._job.pipeline.pipeline_job_settings.PipelineJobSettings object at 0x000002065C354F40>, 'identity': None, 'schedule': <azure.ml.entities._schedule.schedule.RecurrenceSchedule object at 0x000002065C1DAB20>, 'default_code': None, 'default_environment': None})",
      "text/html": "<table style=\"width:100%\"><tr><th>Experiment</th><th>Name</th><th>Type</th><th>Status</th><th>Details Page</th></tr><tr><td>pipeline_samples</td><td>nifty_sun_wrgkfrc7wq</td><td>pipeline</td><td>NotStarted</td><td><a href=\"https://ml.azure.com/runs/nifty_sun_wrgkfrc7wq?wsid=/subscriptions/96aede12-2f73-41cb-b983-6d11a904839b/resourcegroups/sdk/workspaces/sdk-canary&amp;tid=72f988bf-86f1-41af-91ab-2d7cd011db47\" target=\"_blank\" rel=\"noopener\">Link to Azure Machine Learning studio</a></td></tr></table>"
     },
     "execution_count": 13,
     "metadata": {},
     "output_type": "execute_result"
    }
   ],
   "source": [
    "pipeline_job"
   ]
  },
  {
   "cell_type": "markdown",
   "metadata": {},
   "source": [
    "# Next Steps\n",
    "You can see further examples of running a pipeline job [here](../)"
   ]
  }
 ],
 "metadata": {
  "description": {
   "description": "Register component and then use these components to build pipeline"
  },
  "interpreter": {
   "hash": "3e9e0e270b75c5e6da2e22113ba4f77b864d68f95da6601809c29e46c73ae6bb"
  },
  "kernelspec": {
   "name": "azure-ml",
   "language": "python",
   "display_name": "azure-ml"
  },
  "language_info": {
   "codemirror_mode": {
    "name": "ipython",
    "version": 3
   },
   "file_extension": ".py",
   "mimetype": "text/x-python",
   "name": "python",
   "nbconvert_exporter": "python",
   "pygments_lexer": "ipython3",
   "version": "3.8.13"
  },
  "orig_nbformat": 4
 },
 "nbformat": 4,
 "nbformat_minor": 2
}