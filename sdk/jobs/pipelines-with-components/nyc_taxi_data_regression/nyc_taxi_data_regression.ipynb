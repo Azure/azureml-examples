{
 "cells": [
  {
   "cell_type": "markdown",
   "metadata": {},
   "source": [
    "\n",
    "# Prerequisite"
   ]
  },
  {
   "cell_type": "code",
   "execution_count": null,
   "metadata": {},
   "outputs": [],
   "source": [
    "#import required libraries\n",
    "from azure.ml import MLClient\n",
    "from azure.ml.entities import Code, Data\n",
    "from azure.identity import InteractiveBrowserCredential"
   ]
  },
  {
   "cell_type": "code",
   "execution_count": null,
   "metadata": {},
   "outputs": [],
   "source": [
    "\n",
    "#Enter details of your AML workspace\n",
    "subscription_id = '<SUBSCRIPTION_ID>'\n",
    "resource_group = '<RESOURCE_GROUP>'\n",
    "workspace = '<AML_WORKSPACE_NAME>'"
   ]
  },
  {
   "cell_type": "code",
   "execution_count": null,
   "metadata": {},
   "outputs": [],
   "source": [
    "#get a handle to the workspace\n",
    "ml_client = MLClient(InteractiveBrowserCredential(), subscription_id, resource_group, workspace)"
   ]
  },
  {
   "cell_type": "markdown",
   "metadata": {},
   "source": [
    "# build pipeline"
   ]
  },
  {
   "cell_type": "code",
   "execution_count": null,
   "metadata": {},
   "outputs": [],
   "source": [
    "from azure.ml import dsl\n",
    "from azure.ml.dsl import Pipeline\n",
    "from azure.ml.entities import Data\n",
    "from pathlib import Path\n",
    "from azure.ml._constants import AssetTypes\n",
    "\n",
    "parent_dir = ''\n",
    "\n",
    "\n",
    "def generate_dsl_pipeline() -> Pipeline:\n",
    "    # 1. Load component funcs\n",
    "    prep_func = dsl.load_component(\n",
    "        yaml_file=parent_dir + \"./prep.yml\"\n",
    "    )\n",
    "    transform_func = dsl.load_component(\n",
    "        yaml_file=parent_dir + \"./transform.yml\"\n",
    "    )\n",
    "    train_func = dsl.load_component(\n",
    "        yaml_file=parent_dir + \"./train.yml\"\n",
    "    )\n",
    "    predict_func = dsl.load_component(\n",
    "        yaml_file=parent_dir + \"./predict.yml\"\n",
    "    )\n",
    "    score_func = dsl.load_component(\n",
    "        yaml_file=parent_dir + \"./score.yml\"\n",
    "    )\n",
    "\n",
    "    # 2. Construct pipeline\n",
    "    @dsl.pipeline(compute=\"cpu-cluster\", default_datastore=\"workspaceblobstore\")\n",
    "    def sample_pipeline(pipeline_job_input):\n",
    "        prep_job = prep_func(raw_data=pipeline_job_input)\n",
    "        transform_job = transform_func(clean_data=prep_job.outputs.prep_data)\n",
    "        train_job = train_func(training_data=transform_job.outputs.transformed_data)\n",
    "        predict_job = predict_func(\n",
    "            model_input=train_job.outputs.model_output, test_data=train_job.outputs.test_data\n",
    "        )\n",
    "        score_job = score_func(predictions=predict_job.outputs.predictions, model=train_job.outputs.model_output)\n",
    "        return {\n",
    "            \"pipeline_job_prepped_data\": prep_job.outputs.prep_data,\n",
    "            \"pipeline_job_transformed_data\": transform_job.outputs.transformed_data,\n",
    "            \"pipeline_job_trained_model\": train_job.outputs.model_output,\n",
    "            \"pipeline_job_test_data\": train_job.outputs.test_data,\n",
    "            \"pipeline_job_predictions\": predict_job.outputs.predictions,\n",
    "            \"pipeline_job_score_report\": score_job.outputs.score_report,\n",
    "        }\n",
    "\n",
    "    pipeline = sample_pipeline(\n",
    "        Data(type=AssetTypes.URI_FOLDER, path=parent_dir + \"./data/\")\n",
    "    )\n",
    "    pipeline.outputs.pipeline_job_prepped_data.data = \"/prepped_data\"\n",
    "    pipeline.outputs.pipeline_job_prepped_data.mode = \"rw_mount\"\n",
    "    pipeline.outputs.pipeline_job_transformed_data.data = \"/transformed_data\"\n",
    "    pipeline.outputs.pipeline_job_transformed_data.mode = \"rw_mount\"\n",
    "    pipeline.outputs.pipeline_job_trained_model.data = \"/trained-model\"\n",
    "    pipeline.outputs.pipeline_job_trained_model.mode = \"rw_mount\"\n",
    "    pipeline.outputs.pipeline_job_test_data.data = \"/test_data\"\n",
    "    pipeline.outputs.pipeline_job_test_data.mode = \"rw_mount\"\n",
    "    pipeline.outputs.pipeline_job_predictions.data = \"/predictions\"\n",
    "    pipeline.outputs.pipeline_job_predictions.mode = \"rw_mount\"\n",
    "    pipeline.outputs.pipeline_job_score_report.data = \"/report\"\n",
    "    pipeline.outputs.pipeline_job_score_report.mode = \"rw_mount\"\n",
    "    return pipeline"
   ]
  },
  {
   "cell_type": "markdown",
   "metadata": {},
   "source": [
    "## Submit pipeline job"
   ]
  },
  {
   "cell_type": "code",
   "execution_count": null,
   "metadata": {},
   "outputs": [],
   "source": [
    "# create pipeline instance\n",
    "pipeline = generate_dsl_pipeline()\n",
    "# submit job to workspace\n",
    "ml_client.jobs.create_or_update(pipeline, experiment_name=\"nyc_taxi_data_regression\", continue_run_on_step_failure=True)"
   ]
  }
 ],
 "metadata": {
  "interpreter": {
   "hash": "3e9e0e270b75c5e6da2e22113ba4f77b864d68f95da6601809c29e46c73ae6bb"
  },
  "kernelspec": {
   "display_name": "Python 3.7.8 64-bit",
   "language": "python",
   "name": "python3"
  },
  "language_info": {
   "codemirror_mode": {
    "name": "ipython",
    "version": 3
   },
   "file_extension": ".py",
   "mimetype": "text/x-python",
   "name": "python",
   "nbconvert_exporter": "python",
   "pygments_lexer": "ipython3",
   "version": "3.7.12"
  },
  "orig_nbformat": 4
 },
 "nbformat": 4,
 "nbformat_minor": 2
}
