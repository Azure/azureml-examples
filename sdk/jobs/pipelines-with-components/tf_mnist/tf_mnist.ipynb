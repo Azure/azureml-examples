{
 "cells": [
  {
   "cell_type": "markdown",
   "metadata": {},
   "source": [
    "\n",
    "# Prerequisite"
   ]
  },
  {
   "cell_type": "code",
   "execution_count": 1,
   "metadata": {},
   "outputs": [],
   "source": [
    "\n",
    "#import required libraries\n",
    "from azure.ml import MLClient\n",
    "from azure.ml.entities import Code, Dataset"
   ]
  },
  {
   "cell_type": "code",
   "execution_count": 2,
   "metadata": {},
   "outputs": [],
   "source": [
    "\n",
    "#Enter details of your AML workspace\n",
    "subscription_id = '<SUBSCRIPTION_ID>'\n",
    "resource_group = '<RESOURCE_GROUP>'\n",
    "workspace = '<AML_WORKSPACE_NAME>'"
   ]
  },
  {
   "cell_type": "code",
   "execution_count": 3,
   "metadata": {},
   "outputs": [],
   "source": [
    "#get a handle to the workspace\n",
    "ml_client = MLClient(subscription_id, resource_group, workspace)"
   ]
  },
  {
   "cell_type": "markdown",
   "metadata": {},
   "source": [
    "# Basic pipeline job\n",
    "\n",
    "## Build pipeline"
   ]
  },
  {
   "cell_type": "code",
   "execution_count": 4,
   "metadata": {},
   "outputs": [],
   "source": [
    "from azure.ml import dsl\n",
    "from azure.ml.dsl import Pipeline\n",
    "from pathlib import Path\n",
    "\n",
    "parent_dir = ''\n",
    "\n",
    "\n",
    "def generate_dsl_pipeline() -> Pipeline:\n",
    "    # 1. Load component funcs\n",
    "    tf_func = dsl.load_component(yaml_file=parent_dir + \"./component.yml\")\n",
    "\n",
    "    # 2. Construct pipeline\n",
    "    @dsl.pipeline(\n",
    "        description=\"Train using TF component\",\n",
    "    )\n",
    "    def sample_pipeline():\n",
    "        tf_job = tf_func(epochs=1)\n",
    "        tf_job.compute = \"cpu-cluster\"\n",
    "        tf_job.outputs.trained_model_output.mode = \"upload\"\n",
    "        tf_job.distribution.worker_count = 1\n",
    "        tf_job.distribution.distributionType = \"tensorflow\"\n",
    "        tf_job.resources.instance_count = 2\n",
    "\n",
    "    pipeline = sample_pipeline()\n",
    "    return pipeline\n"
   ]
  },
  {
   "cell_type": "markdown",
   "metadata": {},
   "source": [
    "# Submit pipeline job"
   ]
  },
  {
   "cell_type": "code",
   "execution_count": 5,
   "metadata": {},
   "outputs": [
    {
     "name": "stderr",
     "output_type": "stream",
     "text": [
      "compute is not a known attribute of class <class 'azure.ml._restclient.v2021_10_01.models._models_py3.PipelineJob'> and will be ignored\n"
     ]
    },
    {
     "data": {
      "text/plain": [
       "PipelineJob({'display_name': 'khaki_endive_tg7ybs35', 'type': 'pipeline', 'status': 'Preparing', 'log_files': None, 'parent_job_name': None, 'name': 'f913c850-3a4a-4ba2-afd4-ba346d74b221', 'description': 'Train using TF component', 'tags': {'azureml.pipelineComponent': 'pipelinerun'}, 'properties': {'mlflow.source.git.repoURL': 'https://github.com/cloga/azureml-examples.git', 'mlflow.source.git.branch': 'lochen/pipeline-dsl-example', 'mlflow.source.git.commit': '539c39d6ab41101349ea6ad13a47bd4e046a6b9b', 'azureml.git.dirty': 'False', 'azureml.runsource': 'azureml.PipelineRun', 'runSource': 'MFE', 'runType': 'HTTP', 'azureml.parameters': '{}', 'azureml.continue_on_step_failure': 'True', 'azureml.pipelineComponent': 'pipelinerun'}, 'id': '/subscriptions/4aaa645c-5ae2-4ae9-a17a-84b9023bc56a/resourceGroups/itp-pilot-ResGrp/providers/Microsoft.MachineLearningServices/workspaces/itp-pilot-eastus/jobs/f913c850-3a4a-4ba2-afd4-ba346d74b221', 'base_path': './', 'creation_context': <azure.ml._restclient.v2021_10_01.models._models_py3.SystemData object at 0x000001ED50900308>, 'serialize': <msrest.serialization.Serializer object at 0x000001ED508EBBC8>, 'experiment_name': 'tf_mnist', 'compute': None, 'services': {'Tracking': <azure.ml._restclient.v2021_10_01.models._models_py3.JobService object at 0x000001ED509003C8>, 'Studio': <azure.ml._restclient.v2021_10_01.models._models_py3.JobService object at 0x000001ED50900408>}, 'inputs': {}, 'jobs': {'tf_job': <azure.ml.entities._job.pipeline.component_job.ComponentJob object at 0x000001ED508EBC48>}, 'outputs': {}, 'settings': <azure.ml.entities._job.pipeline.pipeline_job_settings.PipelineJobSettings object at 0x000001ED508EBC08>})"
      ]
     },
     "execution_count": 5,
     "metadata": {},
     "output_type": "execute_result"
    }
   ],
   "source": [
    "# create pipeline instance\n",
    "pipeline = generate_dsl_pipeline()\n",
    "# submit job to workspace\n",
    "ml_client.jobs.create_or_update(pipeline, experiment_name=\"tf_mnist\", continue_run_on_step_failure=True)"
   ]
  }
 ],
 "metadata": {
  "interpreter": {
   "hash": "3e9e0e270b75c5e6da2e22113ba4f77b864d68f95da6601809c29e46c73ae6bb"
  },
  "kernelspec": {
   "display_name": "Python 3.7.8 64-bit",
   "language": "python",
   "name": "python3"
  },
  "language_info": {
   "codemirror_mode": {
    "name": "ipython",
    "version": 3
   },
   "file_extension": ".py",
   "mimetype": "text/x-python",
   "name": "python",
   "nbconvert_exporter": "python",
   "pygments_lexer": "ipython3",
   "version": "3.7.8"
  },
  "orig_nbformat": 4
 },
 "nbformat": 4,
 "nbformat_minor": 2
}
