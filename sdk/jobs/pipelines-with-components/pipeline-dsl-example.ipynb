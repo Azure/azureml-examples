{
 "cells": [
  {
   "cell_type": "markdown",
   "metadata": {},
   "source": [
    "\n",
    "# Prerequisite"
   ]
  },
  {
   "cell_type": "code",
   "execution_count": null,
   "metadata": {},
   "outputs": [],
   "source": [
    "\n",
    "#import required libraries\n",
    "from azure.ml import MLClient\n",
    "from azure.ml.entities import Code, Dataset\n",
    "from azure.identity import InteractiveBrowserCredential"
   ]
  },
  {
   "cell_type": "code",
   "execution_count": null,
   "metadata": {},
   "outputs": [],
   "source": [
    "\n",
    "#Enter details of your AML workspace\n",
    "subscription_id = '<SUBSCRIPTION_ID>'\n",
    "resource_group = '<RESOURCE_GROUP>'\n",
    "workspace = '<AML_WORKSPACE_NAME>'"
   ]
  },
  {
   "cell_type": "code",
   "execution_count": null,
   "metadata": {},
   "outputs": [],
   "source": [
    "#get a handle to the workspace\n",
    "ml_client = MLClient(InteractiveBrowserCredential(), subscription_id, resource_group, workspace)"
   ]
  },
  {
   "cell_type": "markdown",
   "metadata": {},
   "source": [
    "# Basic pipeline job\n",
    "\n",
    "## Build pipeline"
   ]
  },
  {
   "cell_type": "code",
   "execution_count": null,
   "metadata": {},
   "outputs": [],
   "source": [
    "from azure.ml import dsl\n",
    "from azure.ml.dsl import Pipeline\n",
    "from pathlib import Path\n",
    "\n",
    "parent_dir = './basic/3a_basic_pipeline'\n",
    "\n",
    "\n",
    "def generate_dsl_pipeline() -> Pipeline:\n",
    "    # 1. Load component funcs\n",
    "    a_func = dsl.load_component(yaml_file=parent_dir + \"/componentA.yml\")\n",
    "    b_func = dsl.load_component(yaml_file=parent_dir + \"/componentB.yml\")\n",
    "    c_func = dsl.load_component(yaml_file=parent_dir + \"/componentC.yml\")\n",
    "\n",
    "    # 2. Construct pipeline\n",
    "    @dsl.pipeline(\n",
    "        compute=\"cpu-cluster\",\n",
    "        description=\"Basic Pipeline Job with 3 Hello World components\",\n",
    "    )\n",
    "    def sample_pipeline():\n",
    "        componentA_job = a_func()\n",
    "        componentB_job = b_func()\n",
    "        componentC_job = c_func()\n",
    "\n",
    "    pipeline = sample_pipeline()\n",
    "    return pipeline"
   ]
  },
  {
   "cell_type": "markdown",
   "metadata": {},
   "source": [
    "# Submit pipeline job"
   ]
  },
  {
   "cell_type": "code",
   "execution_count": null,
   "metadata": {},
   "outputs": [],
   "source": [
    "# create pipeline instance\n",
    "pipeline = generate_dsl_pipeline()\n",
    "# submit job to workspace\n",
    "ml_client.jobs.create_or_update(pipeline, experiment_name=\"basic_pipeline\", continue_run_on_step_failure=True)"
   ]
  },
  {
   "cell_type": "markdown",
   "metadata": {},
   "source": [
    "# Pipeline job with registered component\n",
    "## Register components"
   ]
  },
  {
   "cell_type": "code",
   "execution_count": null,
   "metadata": {},
   "outputs": [],
   "source": [
    "from azure.ml.entities import CommandComponent\n",
    "parent_dir = './basic/1b_e2e_registered_components'\n",
    "environment = \"AzureML-sklearn-0.24-ubuntu18.04-py37-cpu:5\"\n",
    "\n",
    "train_component = CommandComponent(\n",
    "    name=\"Train\",\n",
    "    version=\"32\",\n",
    "    inputs=dict(\n",
    "        training_data=dict(type=\"path\"),\n",
    "        max_epocs=dict(type=\"integer\"),\n",
    "        learning_rate=dict(type=\"number\", default=0.01),\n",
    "        learning_rate_schedule=dict(type=\"string\", default=\"time-based\")\n",
    "    ),\n",
    "    outputs=dict(\n",
    "        model_output=dict(type=\"path\")\n",
    "    ),\n",
    "    code=Code(local_path=parent_dir + \"/train_src\"),\n",
    "    environment=environment,\n",
    "    command=\"python train.py --training_data ${{inputs.training_data}} --max_epocs ${{inputs.max_epocs}} \"\n",
    "            \"--learning_rate ${{inputs.learning_rate}} --learning_rate_schedule ${{\"\n",
    "            \"inputs.learning_rate_schedule}} --model_output ${{outputs.model_output}} \"\n",
    ")\n",
    "ml_client.components.create_or_update(train_component)\n"
   ]
  },
  {
   "cell_type": "code",
   "execution_count": null,
   "metadata": {},
   "outputs": [],
   "source": [
    "score_component = CommandComponent(\n",
    "    name=\"Score\",   # change name temporarily because of component exist with different code\n",
    "    version=\"32\",\n",
    "    inputs=dict(\n",
    "        model_input=dict(type=\"path\"),\n",
    "        test_data=dict(type=\"path\"),\n",
    "    ),\n",
    "    outputs=dict(\n",
    "        score_output=dict(type=\"path\")\n",
    "    ),\n",
    "    code=Code(local_path=parent_dir + \"/score_src\"),\n",
    "    environment=environment,\n",
    "    command=\"python score.py --model_input ${{inputs.model_input}} --test_data ${{inputs.test_data}} \"\n",
    "            \"--score_output ${{outputs.score_output}} \"\n",
    ")\n",
    "ml_client.components.create_or_update(score_component)"
   ]
  },
  {
   "cell_type": "code",
   "execution_count": null,
   "metadata": {},
   "outputs": [],
   "source": [
    "eval_component = CommandComponent(\n",
    "    name=\"Eval\",\n",
    "    version=\"32\",\n",
    "    inputs=dict(\n",
    "        scoring_result=dict(type=\"path\"),\n",
    "    ),\n",
    "    outputs=dict(\n",
    "        eval_output=dict(type=\"path\")\n",
    "    ),\n",
    "    code=Code(local_path=parent_dir + \"/eval_src\"),\n",
    "    environment=environment,\n",
    "    command=\"python eval.py --scoring_result ${{inputs.scoring_result}} --eval_output ${{outputs.eval_output}}\"\n",
    ")\n",
    "ml_client.components.create_or_update(eval_component)"
   ]
  },
  {
   "cell_type": "markdown",
   "metadata": {},
   "source": [
    "## Build pipeline"
   ]
  },
  {
   "cell_type": "code",
   "execution_count": null,
   "metadata": {},
   "outputs": [],
   "source": [
    "from azure.ml import dsl, MLClient\n",
    "from azure.ml.dsl import Pipeline\n",
    "from azure.ml.entities import Component as ComponentEntity, Dataset\n",
    "from pathlib import Path\n",
    "\n",
    "def generate_dsl_pipeline(\n",
    "        client: MLClient,\n",
    "        pipeline_samples_e2e_registered_train_components: ComponentEntity,\n",
    "        pipeline_samples_e2e_registered_score_components: ComponentEntity,\n",
    "        pipeline_samples_e2e_registered_eval_components: ComponentEntity,\n",
    "    ) -> Pipeline:\n",
    "    # 1. Load component funcs\n",
    "    train_func = dsl.load_component(\n",
    "        client=client,\n",
    "        name=pipeline_samples_e2e_registered_train_components.name,\n",
    "        version=pipeline_samples_e2e_registered_train_components.version,\n",
    "    )\n",
    "    score_func = dsl.load_component(\n",
    "        client=client,\n",
    "        name=pipeline_samples_e2e_registered_score_components.name,\n",
    "        version=pipeline_samples_e2e_registered_score_components.version,\n",
    "    )\n",
    "    eval_func = dsl.load_component(\n",
    "        client=client,\n",
    "        name=pipeline_samples_e2e_registered_eval_components.name,\n",
    "        version=pipeline_samples_e2e_registered_eval_components.version,\n",
    "    )\n",
    "\n",
    "    # 2. Construct pipeline\n",
    "    @dsl.pipeline(\n",
    "        compute=\"cpu-cluster\",\n",
    "        description=\"E2E dummy train-score-eval pipeline with registered components\",\n",
    "    )\n",
    "    def sample_pipeline(\n",
    "            pipeline_job_training_input,\n",
    "            pipeline_job_test_input,\n",
    "            pipeline_job_training_max_epocs,\n",
    "            pipeline_job_training_learning_rate,\n",
    "            pipeline_job_learning_rate_schedule,\n",
    "    ):\n",
    "        train_job = train_func(\n",
    "            training_data=pipeline_job_training_input,\n",
    "            max_epocs=pipeline_job_training_max_epocs,\n",
    "            learning_rate=pipeline_job_training_learning_rate,\n",
    "            learning_rate_schedule=pipeline_job_learning_rate_schedule,\n",
    "        )\n",
    "        score_job = score_func(model_input=train_job.outputs.model_output, test_data=pipeline_job_test_input)\n",
    "        score_job.outputs.score_output.mode = \"upload\"\n",
    "        evaluate_job = eval_func(scoring_result=score_job.outputs.score_output)\n",
    "        return {\n",
    "            \"pipeline_job_trained_model\": train_job.outputs.model_output,\n",
    "            \"pipeline_job_scored_data\": score_job.outputs.score_output,\n",
    "            \"pipeline_job_evaluation_report\": evaluate_job.outputs.eval_output,\n",
    "        }\n",
    "\n",
    "    pipeline = sample_pipeline(\n",
    "        Dataset(local_path=parent_dir + \"/data/\"),\n",
    "        Dataset(local_path=parent_dir + \"/data/\"),\n",
    "        20,\n",
    "        1.8,\n",
    "        \"time-based\",\n",
    "    )\n",
    "    pipeline.outputs.pipeline_job_trained_model.mode = \"upload\"\n",
    "    pipeline.outputs.pipeline_job_scored_data.mode = \"upload\"\n",
    "    pipeline.outputs.pipeline_job_evaluation_report.mode = \"upload\"\n",
    "    return pipeline"
   ]
  },
  {
   "cell_type": "markdown",
   "metadata": {},
   "source": [
    "## Submit pipeline job"
   ]
  },
  {
   "cell_type": "code",
   "execution_count": null,
   "metadata": {},
   "outputs": [],
   "source": [
    "# create pipeline instance\n",
    "pipeline = generate_dsl_pipeline(ml_client, train_component, score_component, eval_component)\n",
    "# submit job to workspace\n",
    "ml_client.jobs.create_or_update(pipeline, experiment_name=\"e2e_registered_components\", continue_run_on_step_failure=True)"
   ]
  },
  {
   "cell_type": "markdown",
   "metadata": {},
   "source": [
    "# Try other samples\n",
    "You can find more pipeline DSL example under `pipelines-with-components` folder. To try more example, just follow steps:\n",
    "- Import pipeline func\n",
    "- Submit pipeline job\n",
    "\n",
    "Let's take `nyc_taxi_data_regression` as example\n",
    "\n",
    "## Import pipeline func"
   ]
  },
  {
   "cell_type": "code",
   "execution_count": null,
   "metadata": {},
   "outputs": [],
   "source": [
    "from nyc_taxi_data_regression.pipeline import generate_dsl_pipeline"
   ]
  },
  {
   "cell_type": "markdown",
   "metadata": {},
   "source": [
    "## Submit pipeline job"
   ]
  },
  {
   "cell_type": "code",
   "execution_count": null,
   "metadata": {},
   "outputs": [],
   "source": [
    "# Commenting this code since it fails automation tests. It can be run manually though\n",
    "\n",
    "# create pipeline instance\n",
    "# pipeline = generate_dsl_pipeline()\n",
    "\n",
    "# submit job to workspace\n",
    "# ml_client.jobs.create_or_update(pipeline, experiment_name=\"nyc_taxi_data_regression\", continue_run_on_step_failure=True)"
   ]
  }
 ],
 "metadata": {
  "interpreter": {
   "hash": "3e9e0e270b75c5e6da2e22113ba4f77b864d68f95da6601809c29e46c73ae6bb"
  },
  "kernelspec": {
   "display_name": "Python 3",
   "language": "python",
   "name": "python3"
  },
  "language_info": {
   "codemirror_mode": {
    "name": "ipython",
    "version": 3
   },
   "file_extension": ".py",
   "mimetype": "text/x-python",
   "name": "python",
   "nbconvert_exporter": "python",
   "pygments_lexer": "ipython3",
   "version": "3.7.12"
  }
 },
 "nbformat": 4,
 "nbformat_minor": 4
}
