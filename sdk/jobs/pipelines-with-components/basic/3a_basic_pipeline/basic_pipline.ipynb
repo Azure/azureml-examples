{
 "cells": [
  {
   "cell_type": "markdown",
   "metadata": {},
   "source": [
    "\n",
    "# Prerequisite"
   ]
  },
  {
   "cell_type": "code",
   "execution_count": null,
   "metadata": {},
   "outputs": [],
   "source": [
    "\n",
    "#import required libraries\n",
    "from azure.ml import MLClient\n",
    "from azure.ml.entities import Code, Dataset\n",
    "from azure.identity import InteractiveBrowserCredential"
   ]
  },
  {
   "cell_type": "code",
   "execution_count": null,
   "metadata": {},
   "outputs": [],
   "source": [
    "\n",
    "#Enter details of your AML workspace\n",
    "subscription_id = '<SUBSCRIPTION_ID>'\n",
    "resource_group = '<RESOURCE_GROUP>'\n",
    "workspace = '<AML_WORKSPACE_NAME>'"
   ]
  },
  {
   "cell_type": "code",
   "execution_count": null,
   "metadata": {},
   "outputs": [],
   "source": [
    "#get a handle to the workspace\n",
    "ml_client = MLClient(credential=InteractiveBrowserCredential(), subscription_id=subscription_id, resource_group_name=resource_group, workspace_name=workspace)"
   ]
  },
  {
   "cell_type": "markdown",
   "metadata": {},
   "source": [
    "# Basic pipeline job\n",
    "\n",
    "## Build pipeline"
   ]
  },
  {
   "cell_type": "code",
   "execution_count": null,
   "metadata": {},
   "outputs": [],
   "source": [
    "from azure.ml import dsl\n",
    "from azure.ml.dsl import Pipeline\n",
    "from azure.ml.entities import Component\n",
    "from pathlib import Path\n",
    "\n",
    "# 1. Load component funcs\n",
    "# please make sure version in the yaml is a new one\n",
    "parent_dir = '.'\n",
    "a_component = Component.load(path=parent_dir + \"/componentA.yml\")\n",
    "a_func = dsl.load_component(component=a_component)\n",
    "b_component = Component.load(path=parent_dir + \"/componentB.yml\")\n",
    "b_func = dsl.load_component(component=b_component)\n",
    "c_component = Component.load(path=parent_dir + \"/componentC.yml\")\n",
    "c_func = dsl.load_component(component=c_component)\n",
    "\n",
    "\n",
    "# 2. Construct pipeline\n",
    "# Define pipeline (a function decorated with dsl.pipeline), each component function called here will create a node in pipeline graph\n",
    "# Parameter of this pipeline function will be mapped as a pipeline parameter\n",
    "\n",
    "@dsl.pipeline(\n",
    "    name=\"hello_world_pipeline\",\n",
    "    compute=\"cpu-cluster\",\n",
    "    description=\"Basic Pipeline Job with 3 Hello World components\",\n",
    ")\n",
    "def sample_pipeline():\n",
    "    componentA_job = a_func()\n",
    "    componentB_job = b_func()\n",
    "    componentC_job = c_func()"
   ]
  },
  {
   "cell_type": "markdown",
   "metadata": {},
   "source": [
    "# Submit pipeline job"
   ]
  },
  {
   "cell_type": "code",
   "execution_count": null,
   "metadata": {},
   "outputs": [],
   "source": [
    "# create pipeline instance\n",
    "pipeline = sample_pipeline()\n",
    "# submit job to workspace\n",
    "ml_client.jobs.create_or_update(pipeline, experiment_name=\"basic_pipeline\", continue_run_on_step_failure=True)"
   ]
  }
 ],
 "metadata": {
  "interpreter": {
   "hash": "3e9e0e270b75c5e6da2e22113ba4f77b864d68f95da6601809c29e46c73ae6bb"
  },
  "kernelspec": {
   "display_name": "Python 3.7.8 64-bit",
   "language": "python",
   "name": "python3"
  },
  "language_info": {
   "codemirror_mode": {
    "name": "ipython",
    "version": 3
   },
   "file_extension": ".py",
   "mimetype": "text/x-python",
   "name": "python",
   "nbconvert_exporter": "python",
   "pygments_lexer": "ipython3",
   "version": "3.7.8"
  },
  "orig_nbformat": 4
 },
 "nbformat": 4,
 "nbformat_minor": 2
}
