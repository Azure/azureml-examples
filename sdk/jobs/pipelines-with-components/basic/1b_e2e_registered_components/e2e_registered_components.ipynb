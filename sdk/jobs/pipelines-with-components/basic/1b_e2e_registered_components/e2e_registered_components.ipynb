{
 "cells": [
  {
   "cell_type": "markdown",
   "metadata": {},
   "source": [
    "\n",
    "# Prerequisite"
   ]
  },
  {
   "cell_type": "code",
   "execution_count": null,
   "metadata": {},
   "outputs": [],
   "source": [
    "\n",
    "#import required libraries\n",
    "from azure.ml import MLClient\n",
    "from azure.ml.entities import Code, Dataset\n",
    "from azure.identity import InteractiveBrowserCredential\n",
    "from azure.ml import dsl\n",
    "from azure.ml.dsl import Pipeline\n",
    "from azure.ml.entities import Component"
   ]
  },
  {
   "cell_type": "code",
   "execution_count": null,
   "metadata": {},
   "outputs": [],
   "source": [
    "#Enter details of your AML workspace\n",
    "subscription_id = '<SUBSCRIPTION_ID>'\n",
    "resource_group = '<RESOURCE_GROUP>'\n",
    "workspace = '<AML_WORKSPACE_NAME>'"
   ]
  },
  {
   "cell_type": "code",
   "execution_count": null,
   "metadata": {},
   "outputs": [],
   "source": [
    "#get a handle to the workspace\n",
    "ml_client = MLClient(credential=InteractiveBrowserCredential(), subscription_id=subscription_id, resource_group_name=resource_group, workspace_name=workspace)"
   ]
  },
  {
   "cell_type": "markdown",
   "metadata": {},
   "source": [
    "# Pipeline job with registered component\n",
    "## Register components"
   ]
  },
  {
   "cell_type": "code",
   "execution_count": null,
   "metadata": {},
   "outputs": [],
   "source": [
    "parent_dir = '.'\n",
    "\n",
    "# please make sure version in the yaml is a new one\n",
    "train_component = Component.load(path=parent_dir + \"/train.yml\")\n",
    "ml_client.components.create_or_update(train_component)\n"
   ]
  },
  {
   "cell_type": "code",
   "execution_count": null,
   "metadata": {},
   "outputs": [],
   "source": [
    "# please make sure version in the yaml is a new one\n",
    "score_component = Component.load(path=parent_dir + \"/score.yml\")\n",
    "ml_client.components.create_or_update(score_component)"
   ]
  },
  {
   "cell_type": "code",
   "execution_count": null,
   "metadata": {},
   "outputs": [],
   "source": [
    "# please make sure version in the yaml is a new one\n",
    "eval_component = Component.load(path=parent_dir + \"/eval.yml\")\n",
    "ml_client.components.create_or_update(eval_component)"
   ]
  },
  {
   "cell_type": "markdown",
   "metadata": {},
   "source": [
    "## Build pipeline"
   ]
  },
  {
   "cell_type": "code",
   "execution_count": null,
   "metadata": {},
   "outputs": [],
   "source": [
    "from azure.ml import dsl, MLClient\n",
    "from azure.ml.dsl import Pipeline\n",
    "from azure.ml.entities import Dataset\n",
    "from pathlib import Path\n",
    "\n",
    "\n",
    "# 1. Get component definition and transfer component to functions\n",
    "train_component = ml_client.components.get(name=\"Train\", version=\"0.3\")\n",
    "train_func = dsl.load_component(component=train_component)\n",
    "\n",
    "score_component = ml_client.components.get(name=\"score\", version=\"0.3\")\n",
    "score_func = dsl.load_component(component=score_component)\n",
    "\n",
    "eval_component = ml_client.components.get(name=\"eval\", version=\"0.3\")\n",
    "eval_func = dsl.load_component(component=eval_component)\n",
    "\n",
    "# 2. Construct pipeline\n",
    "@dsl.pipeline(\n",
    "    compute=\"cpu-cluster\",\n",
    "    description=\"E2E dummy train-score-eval pipeline with registered components\",\n",
    ")\n",
    "def sample_pipeline(\n",
    "        pipeline_job_training_input,\n",
    "        pipeline_job_test_input,\n",
    "        pipeline_job_training_max_epocs,\n",
    "        pipeline_job_training_learning_rate,\n",
    "        pipeline_job_learning_rate_schedule,\n",
    "):\n",
    "    train_job = train_func(\n",
    "        training_data=pipeline_job_training_input,\n",
    "        max_epocs=pipeline_job_training_max_epocs,\n",
    "        learning_rate=pipeline_job_training_learning_rate,\n",
    "        learning_rate_schedule=pipeline_job_learning_rate_schedule,\n",
    "    )\n",
    "    score_job = score_func(model_input=train_job.outputs.model_output, test_data=pipeline_job_test_input)\n",
    "    score_job.outputs.score_output.mode = \"upload\"\n",
    "    evaluate_job = eval_func(scoring_result=score_job.outputs.score_output)\n",
    "    return {\n",
    "        \"pipeline_job_trained_model\": train_job.outputs.model_output,\n",
    "        \"pipeline_job_scored_data\": score_job.outputs.score_output,\n",
    "        \"pipeline_job_evaluation_report\": evaluate_job.outputs.eval_output,\n",
    "    }\n",
    "\n",
    "# 3. Create pipeline instance\n",
    "\n",
    "pipeline = sample_pipeline(\n",
    "    Dataset(local_path=parent_dir + \"/data/\"),\n",
    "    Dataset(local_path=parent_dir + \"/data/\"),\n",
    "    20,\n",
    "    1.8,\n",
    "    \"time-based\",\n",
    ")\n",
    "pipeline.outputs.pipeline_job_trained_model.mode = \"upload\"\n",
    "pipeline.outputs.pipeline_job_scored_data.mode = \"upload\"\n",
    "pipeline.outputs.pipeline_job_evaluation_report.mode = \"upload\""
   ]
  },
  {
   "cell_type": "markdown",
   "metadata": {},
   "source": [
    "## Submit pipeline job"
   ]
  },
  {
   "cell_type": "code",
   "execution_count": null,
   "metadata": {},
   "outputs": [],
   "source": [
    "# submit job to workspace\n",
    "ml_client.jobs.create_or_update(pipeline, experiment_name=\"e2e_registered_components\", continue_run_on_step_failure=True)"
   ]
  }
 ],
 "metadata": {
  "interpreter": {
   "hash": "3e9e0e270b75c5e6da2e22113ba4f77b864d68f95da6601809c29e46c73ae6bb"
  },
  "kernelspec": {
   "display_name": "Python 3.7.8 64-bit",
   "language": "python",
   "name": "python3"
  },
  "language_info": {
   "codemirror_mode": {
    "name": "ipython",
    "version": 3
   },
   "file_extension": ".py",
   "mimetype": "text/x-python",
   "name": "python",
   "nbconvert_exporter": "python",
   "pygments_lexer": "ipython3",
   "version": "3.7.8"
  },
  "orig_nbformat": 4
 },
 "nbformat": 4,
 "nbformat_minor": 2
}
