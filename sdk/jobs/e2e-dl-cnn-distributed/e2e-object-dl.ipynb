{
 "cells": [
  {
   "cell_type": "code",
   "execution_count": null,
   "id": "a47dcea5",
   "metadata": {},
   "outputs": [],
   "source": [
    "# handle to the workspace\n",
    "from azure.ml import MLClient\n",
    "\n",
    "# Authentication package\n",
    "from azure.identity import InteractiveBrowserCredential"
   ]
  },
  {
   "cell_type": "code",
   "execution_count": null,
   "id": "ebb3312b",
   "metadata": {},
   "outputs": [],
   "source": [
    "# get a handle to the workspace\n",
    "ml_client = MLClient(\n",
    "    InteractiveBrowserCredential(), \n",
    "    subscription_id = '<SUBSCRIPTION_ID>', \n",
    "    resource_group = '<RESOURCE_GROUP>', \n",
    "    workspace = '<AML_WORKSPACE_NAME>'\n",
    ")"
   ]
  },
  {
   "cell_type": "code",
   "execution_count": null,
   "id": "1e404b6c",
   "metadata": {},
   "outputs": [],
   "source": [
    "from azure.ml.entities import Dataset\n",
    "\n",
    "coco_trainval_path = \"http://images.cocodataset.org/annotations/annotations_trainval2017.zip\"\n",
    "\n",
    "coco_trainval_dataset = Dataset(\n",
    "    name=\"coco_trainval2017_zip\",\n",
    "    paths=[dict(file=coco_trainval_path)],\n",
    "    description=\"annotations_trainval2017.zip\",\n",
    "    tags={'source_type':'web',\n",
    "          'source':'cocodataset.org'\n",
    "    },\n",
    ")"
   ]
  },
  {
   "cell_type": "code",
   "execution_count": null,
   "id": "6c02c362",
   "metadata": {},
   "outputs": [],
   "source": [
    "from azure.ml.entities import CommandComponent, JobInput, JobOutput\n",
    "\n",
    "unzip_component = CommandComponent(\n",
    "    name=\"Unzip\",\n",
    "    \n",
    "    # this component has no code, just a simple unzip command\n",
    "    command = \"ls -lr ${{inputs.archive_path}}; unzip ${{inputs.archive_path}} -d ${{outputs.extracted_data}}\",\n",
    "\n",
    "    # inputs and outputs need to match with the command\n",
    "    inputs = {\n",
    "        'archive_path': { 'type': 'path' }\n",
    "    },\n",
    "    outputs = {\n",
    "        'extracted_data': { 'type': 'path' }\n",
    "    },\n",
    "    \n",
    "    # we're using a curated environment\n",
    "    environment = 'AzureML-sklearn-0.24-ubuntu18.04-py37-cpu:9',\n",
    ")"
   ]
  },
  {
   "cell_type": "code",
   "execution_count": null,
   "id": "a5117882",
   "metadata": {},
   "outputs": [],
   "source": [
    "from azure.ml import dsl\n",
    "\n",
    "# we'll package this unzip command as a component to use within a pipeline\n",
    "unzip_component_func = dsl.load_component(component=unzip_component)\n",
    "parse_annotations_func = dsl.load_component(yaml_file=\"./components/coco_extract_annotations/spec.yaml\")"
   ]
  },
  {
   "cell_type": "code",
   "execution_count": null,
   "id": "9f62f36a",
   "metadata": {},
   "outputs": [],
   "source": [
    "help(parse_annotations_func)"
   ]
  },
  {
   "cell_type": "code",
   "execution_count": null,
   "id": "ad416412",
   "metadata": {},
   "outputs": [],
   "source": [
    "from azure.ml import dsl\n",
    "\n",
    "# we'll package this unzip command as a component to use within a pipeline\n",
    "unzip_component_func = dsl.load_component(component=unzip_component)\n",
    "parse_annotations_func = dsl.load_component(yaml_file=\"./components/coco_extract_annotations/spec.yaml\")\n",
    "\n",
    "# the dsl decorator tells the sdk that we are defining an AML pipeline\n",
    "@dsl.pipeline(\n",
    "    compute=\"cpu-d14-v2\", #\"cpu-cluster\",\n",
    "    description=\"e2e images preparation\",\n",
    ")\n",
    "def coco_preparation_pipeline(annotations_archive, train_archive, valid_archive, category_id, category_name):\n",
    "    annotations_unzip_step = unzip_component_func(\n",
    "        archive_path=annotations_archive\n",
    "    )\n",
    "    train_unzip_step = unzip_component_func(\n",
    "        archive_path=train_archive\n",
    "    )\n",
    "    valid_unzip_step = unzip_component_func(\n",
    "        archive_path=valid_archive\n",
    "    )\n",
    "    \n",
    "    parse_annotations_step = parse_annotations_func(\n",
    "        annotations_dir=annotations_unzip_step.outputs.extracted_data,\n",
    "        category_id=category_id,\n",
    "        category_name=category_name\n",
    "    )\n",
    "\n",
    "    return {\n",
    "        \"train_images\": train_unzip_step.outputs.extracted_data,\n",
    "        \"train_annotations\": parse_annotations_step.outputs.train_annotations,\n",
    "        \"valid_images\": valid_unzip_step.outputs.extracted_data,\n",
    "        \"valid_annotations\": parse_annotations_step.outputs.valid_annotations,\n",
    "    }\n",
    "\n",
    "pipeline_instance = coco_preparation_pipeline(\n",
    "    annotations_archive=JobInput(file=\"http://images.cocodataset.org/annotations/annotations_trainval2017.zip\"),\n",
    "    train_archive=JobInput(file=\"http://images.cocodataset.org/zips/train2017.zip\"),\n",
    "    valid_archive=JobInput(file=\"http://images.cocodataset.org/zips/val2017.zip\"),\n",
    "    category_id=1,\n",
    "    category_name=\"contains_person\"\n",
    ")"
   ]
  },
  {
   "cell_type": "code",
   "execution_count": null,
   "id": "09780c25",
   "metadata": {},
   "outputs": [],
   "source": [
    "# submit the pipeline job\n",
    "returned_job = ml_client.jobs.create_or_update(\n",
    "    pipeline_instance,\n",
    "    \n",
    "    # Project's name\n",
    "    experiment_name=\"e2e_image_preparation\",\n",
    "    \n",
    "    # If there is no dependency, pipeline run will continue even after the failure of one component\n",
    "    continue_run_on_step_failure=True,\n",
    ")\n",
    "\n",
    "# get a URL for the status of the job\n",
    "returned_job.services[\"Studio\"].endpoint"
   ]
  },
  {
   "cell_type": "code",
   "execution_count": null,
   "id": "7f85880a",
   "metadata": {},
   "outputs": [],
   "source": []
  }
 ],
 "metadata": {
  "kernelspec": {
   "display_name": "Python 3 (ipykernel)",
   "language": "python",
   "name": "python3"
  },
  "language_info": {
   "codemirror_mode": {
    "name": "ipython",
    "version": 3
   },
   "file_extension": ".py",
   "mimetype": "text/x-python",
   "name": "python",
   "nbconvert_exporter": "python",
   "pygments_lexer": "ipython3",
   "version": "3.8.12"
  }
 },
 "nbformat": 4,
 "nbformat_minor": 5
}
