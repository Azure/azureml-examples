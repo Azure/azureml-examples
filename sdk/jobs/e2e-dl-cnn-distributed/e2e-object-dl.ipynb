{
 "cells": [
  {
   "cell_type": "code",
   "execution_count": 3,
   "id": "1bf19566",
   "metadata": {},
   "outputs": [],
   "source": [
    "# handle to the workspace\n",
    "from azure.ml import MLClient\n",
    "\n",
    "# Authentication package\n",
    "from azure.identity import InteractiveBrowserCredential"
   ]
  },
  {
   "cell_type": "code",
   "execution_count": 4,
   "id": "988d63a8",
   "metadata": {},
   "outputs": [],
   "source": [
    "# get a handle to the workspace\n",
    "ml_client = MLClient(\n",
    "    InteractiveBrowserCredential(), \n",
    "    subscription_id = '48bbc269-ce89-4f6f-9a12-c6f91fcb772d',\n",
    "    resource_group_name = 'aml1p-rg',\n",
    "    workspace_name = 'aml1p-ml-eus2'\n",
    "    #subscription_id = '<SUBSCRIPTION_ID>', \n",
    "    #resource_group = '<RESOURCE_GROUP>', \n",
    "    #workspace = '<AML_WORKSPACE_NAME>'\n",
    ")"
   ]
  },
  {
   "cell_type": "code",
   "execution_count": 5,
   "id": "8bc69271",
   "metadata": {},
   "outputs": [],
   "source": [
    "from azure.ml.entities import Dataset\n",
    "\n",
    "coco_trainval_path = \"http://images.cocodataset.org/annotations/annotations_trainval2017.zip\"\n",
    "\n",
    "coco_trainval_dataset = Dataset(\n",
    "    name=\"coco_trainval2017_zip\",\n",
    "    paths=[dict(file=coco_trainval_path)],\n",
    "    description=\"annotations_trainval2017.zip\",\n",
    "    tags={'source_type':'web',\n",
    "          'source':'cocodataset.org'\n",
    "    },\n",
    ")"
   ]
  },
  {
   "cell_type": "code",
   "execution_count": 45,
   "id": "ef908ccf",
   "metadata": {},
   "outputs": [],
   "source": [
    "from azure.ml.entities import CommandComponent, JobInput, JobOutput\n",
    "\n",
    "unzip_component = CommandComponent(\n",
    "    name=\"Unzip\",\n",
    "    \n",
    "    # this component has no code, just a simple unzip command\n",
    "    command = \"ls -lr ${{inputs.archive_path}}; unzip -t ${{inputs.archive_path}} -d ${{outputs.extracted_data}}\",\n",
    "\n",
    "    # inputs and outputs need to match with the command\n",
    "    inputs = {\n",
    "        'archive_path': { 'type': 'path' }\n",
    "    },\n",
    "    outputs = {\n",
    "        'extracted_data': { 'type': 'path' }\n",
    "    },\n",
    "    \n",
    "    # we're using a curated environment\n",
    "    environment = 'AzureML-sklearn-0.24-ubuntu18.04-py37-cpu:9',\n",
    ")"
   ]
  },
  {
   "cell_type": "code",
   "execution_count": 46,
   "id": "a9ab3d1f",
   "metadata": {},
   "outputs": [],
   "source": [
    "from azure.ml import dsl\n",
    "\n",
    "# we'll package this unzip command as a component to use within a pipeline\n",
    "unzip_component_func = dsl.load_component(component=unzip_component)\n",
    "\n",
    "# the dsl decorator tells the sdk that we are defining an AML pipeline\n",
    "@dsl.pipeline(\n",
    "    compute=\"cpu-d14-v2\", #\"cpu-cluster\",\n",
    "    description=\"e2e images preparation\",\n",
    ")\n",
    "def coco_preparation_pipeline():\n",
    "    annotations_unzip_step = unzip_component_func(\n",
    "        archive_path=JobInput(file=\"http://images.cocodataset.org/annotations/annotations_trainval2017.zip\")\n",
    "    )\n",
    "    train_unzip_step = unzip_component_func(\n",
    "        archive_path=JobInput(file=\"http://images.cocodataset.org/zips/train2017.zip\")\n",
    "    )\n",
    "    valid_unzip_step = unzip_component_func(\n",
    "        archive_path=JobInput(file=\"http://images.cocodataset.org/zips/val2017.zip\")\n",
    "    )\n",
    "\n",
    "    return {\n",
    "        \"annotations_data\": annotations_unzip_step.outputs.extracted_data\n",
    "    }\n",
    "\n",
    "pipeline_instance = coco_preparation_pipeline()"
   ]
  },
  {
   "cell_type": "code",
   "execution_count": 47,
   "id": "eb88eb22",
   "metadata": {},
   "outputs": [
    {
     "name": "stderr",
     "output_type": "stream",
     "text": [
      "compute is not a known attribute of class <class 'azure.ml._restclient.v2021_10_01.models._models_py3.PipelineJob'> and will be ignored\n"
     ]
    },
    {
     "data": {
      "text/plain": [
       "'https://ml.azure.com/runs/860a9fc2-c3ac-4528-8477-972ece117cfa?wsid=/subscriptions/48bbc269-ce89-4f6f-9a12-c6f91fcb772d/resourcegroups/aml1p-rg/workspaces/aml1p-ml-eus2&tid=72f988bf-86f1-41af-91ab-2d7cd011db47'"
      ]
     },
     "execution_count": 47,
     "metadata": {},
     "output_type": "execute_result"
    }
   ],
   "source": [
    "# submit the pipeline job\n",
    "returned_job = ml_client.jobs.create_or_update(\n",
    "    pipeline_instance,\n",
    "    \n",
    "    # Project's name\n",
    "    experiment_name=\"e2e_image_preparation\",\n",
    "    \n",
    "    # If there is no dependency, pipeline run will continue even after the failure of one component\n",
    "    continue_run_on_step_failure=True,\n",
    ")\n",
    "\n",
    "# get a URL for the status of the job\n",
    "returned_job.services[\"Studio\"].endpoint"
   ]
  },
  {
   "cell_type": "code",
   "execution_count": null,
   "id": "b4af3bff",
   "metadata": {},
   "outputs": [],
   "source": []
  }
 ],
 "metadata": {
  "kernelspec": {
   "display_name": "Python 3 (ipykernel)",
   "language": "python",
   "name": "python3"
  },
  "language_info": {
   "codemirror_mode": {
    "name": "ipython",
    "version": 3
   },
   "file_extension": ".py",
   "mimetype": "text/x-python",
   "name": "python",
   "nbconvert_exporter": "python",
   "pygments_lexer": "ipython3",
   "version": "3.8.12"
  }
 },
 "nbformat": 4,
 "nbformat_minor": 5
}
