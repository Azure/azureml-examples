{
 "cells": [
  {
   "cell_type": "markdown",
   "metadata": {},
   "source": [
    "# Workspace\n",
    "Samples of workspace creation"
   ]
  },
  {
   "cell_type": "code",
   "execution_count": null,
   "metadata": {},
   "outputs": [],
   "source": [
    "#import required libraries\n",
    "from azure.ml import MLClient\n",
    "from azure.ml.entities import Workspace"
   ]
  },
  {
   "cell_type": "markdown",
   "metadata": {},
   "source": [
    "## Specify the subscription and resuorce group where the workspace needs to be created"
   ]
  },
  {
   "cell_type": "code",
   "execution_count": null,
   "metadata": {},
   "outputs": [],
   "source": [
    "#Enter details of your subscription\n",
    "subscription_id = '<SUBSCRIPTION_ID>'\n",
    "resource_group = '<RESOURCE_GROUP>'"
   ]
  },
  {
   "cell_type": "code",
   "execution_count": null,
   "metadata": {},
   "outputs": [],
   "source": [
    "#get a handle to the subscription\n",
    "ml_client = MLClient(subscription_id, resource_group)"
   ]
  },
  {
   "cell_type": "markdown",
   "metadata": {},
   "source": [
    "### Create a basic workspace"
   ]
  },
  {
   "cell_type": "code",
   "execution_count": null,
   "metadata": {},
   "outputs": [],
   "source": [
    "ws = Workspace(\n",
    "    name=\"mlw-basic-prod\",\n",
    "    location=\"eastus\",\n",
    "    display_name=\"Basic workspace-example\",\n",
    "    description=\"This example shows how to create a basic workspace\",\n",
    "    hbi_workspace=False,\n",
    "    tags=dict(purpose=\"demo\")\n",
    ")\n",
    "ml_client.workspaces.begin_create(ws)"
   ]
  },
  {
   "cell_type": "markdown",
   "metadata": {},
   "source": [
    "### Create a workspace with existing resources"
   ]
  },
  {
   "cell_type": "code",
   "execution_count": null,
   "metadata": {},
   "outputs": [],
   "source": [
    "ws_with_existing = Workspace(\n",
    "   name=\"mlw-basicex-prod\",\n",
    "    location=\"eastus\",\n",
    "    display_name=\"Bring your own dependent resources-example\",\n",
    "    description=\"This sample specifies a workspace configuration with existing dependent resources\",\n",
    "    storage_account=\"/subscriptions/15ae9cb6-95c1-483d-a0e3-b1a1a3b06324/resourceGroups/<RESOURCE_GROUP>/providers/Microsoft.Storage/storageAccounts/<STORAGE_ACCOUNT>\",\n",
    "    container_registry=\"/subscriptions/15ae9cb6-95c1-483d-a0e3-b1a1a3b06324/resourceGroups/<RESOURCE_GROUP>/providers/Microsoft.ContainerRegistry/registries/<CONTAINER_REGISTRY>\",\n",
    "    key_vault=\"/subscriptions/<SUBSCRIPTION_ID>/resourceGroups/<RESOURCE_GROUP>/providers/Microsoft.KeyVault/vaults/<KEY_VAULT>\",\n",
    "    application_insights=\"/subscriptions/<SUBSCRIPTION_ID>/resourceGroups/<RESOURCE_GROUP>/providers/Microsoft.insights/components/<APP_INSIGHTS>\",\n",
    "    tags=dict(purpose=\"demonstration\") \n",
    ")\n",
    "ml_client.create_or_update(ws_with_existing)"
   ]
  },
  {
   "cell_type": "markdown",
   "metadata": {},
   "source": [
    "### Configure a workspace for use with Azure Private Link\n",
    "When using private link, your workspace cannot use Azure Container Registry tasks compute for image building. ",
    "Hence, you must set the image_build_compute property to a CPU compute cluster name to use for Docker image environment building. ",
    "You can also specify whether the private link workspace should be accessible over the internet using the public_network_access property. ",
    "After workspace creation, create a private link endpoint for your workspace. ",
    "For more details, see [Secure Azure Machine Learning workspace resources using virtual networks (VNets)](https://docs.microsoft.com/en-us/azure/machine-learning/how-to-network-security-overview)."
   ]
  },
  {
   "cell_type": "code",
   "execution_count": null,
   "metadata": {},
   "outputs": [],
   "source": [
    "ws_private_link = Workspace(\n",
    "    name=\"mlw-privatelink-prod\",\n",
    "    location=\"eastus\",\n",
    "    display_name=\"Private Link endpoint workspace-example\",\n",
    "    description=\"When using private link, you must set the image_build_compute property to a cluster name to use for Docker image environment building. You can also specify whether the workspace should be accessible over the internet.\",\n",
    "    image_build_compute=\"cpu-compute\",\n",
    "    public_network_access=\"Disabled\",\n",
    "    tags = dict(purpose=\"demonstration\")\n",
    ")\n",
    "\n",
    "ml_client.workspaces.begin_create(ws_private_link)"
   ]
  },
  {
   "cell_type": "markdown",
   "metadata": {},
   "source": [
    "## Getting details of workspaces"
   ]
  },
  {
   "cell_type": "code",
   "execution_count": null,
   "metadata": {},
   "outputs": [],
   "source": [
    "# get a list of all workspaces\n",
    "for ws in ml_client.workspaces.list():\n",
    "    print(ws.name, \":\", ws.location, \":\", ws.description)\n",
    "\n",
    "# get details of a specific workspace\n",
    "ws = ml_client.workspaces.get(\"dpv2priprev \")\n",
    "print(ws.location,\":\", ws.resource_group)"
   ]
  },
  {
   "cell_type": "markdown",
   "metadata": {},
   "source": [
    "## Load workspace from a config file\n",
    "Workspace details can be loaded from config files. If no path is mentioned, path is defaulted to current folder. If no file name is mentioned, file name will be defaulted to `config.json`"
   ]
  },
  {
   "cell_type": "code",
   "execution_count": null,
   "metadata": {},
   "outputs": [],
   "source": [
    "# read the config from the current directory\n",
    "ws_from_config = MLClient.from_config()\n",
    "print(ws_from_config.workspace_name)\n",
    "\n",
    "# read the config file from a specific directory\n",
    "ws_from_config_1 = MLClient.from_config(\"config/my_config.json\")\n",
    "print(ws_from_config_1.workspace_name)"
   ]
  }
 ],
 "metadata": {
  "interpreter": {
   "hash": "66962d4c952b5ba37638a017d6cc83bab37d76f69b13c17d86b9f71233a0aa71"
  },
  "kernelspec": {
   "display_name": "Python 3.7.12 64-bit ('vnext_dsl': conda)",
   "language": "python",
   "name": "python3"
  },
  "language_info": {
   "codemirror_mode": {
    "name": "ipython",
    "version": 3
   },
   "file_extension": ".py",
   "mimetype": "text/x-python",
   "name": "python",
   "nbconvert_exporter": "python",
   "pygments_lexer": "ipython3",
   "version": "3.7.12"
  },
  "orig_nbformat": 4
 },
 "nbformat": 4,
 "nbformat_minor": 2
}
