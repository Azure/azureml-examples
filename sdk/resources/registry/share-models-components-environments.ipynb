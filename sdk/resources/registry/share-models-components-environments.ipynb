{
 "cells": [
  {
   "cell_type": "markdown",
   "metadata": {},
   "source": [
    "\n",
    "## Scenarios for sharing models, environments and components\n",
    "\n",
    "There are two scenarios where you'd want to use the same set of models, components and environments in multiple workspaces. First is cross-workspace MLOps. You are trining a model in a dev workspace and need to deploy it to test and prod workspaces. In this case you want to have end-to-end lineage between endpoints to which the model is deployed in test or prod workspaces and the training job, metrics, code, data and environment that was used to train the model in the dev workspace. Second is to share and reuse models and pipelines across different teams in your organization that in turn improves collaboration and productivity. In this scenario, you may want to publish a trained model and the associated components and environments used to train the model to a central catalog where colleagues from other teams and search and reuse assets shared by you in their experiments. You will learn how to create models, components and environments in a Azure Machine Learning registry and use them in any workspace within your organization."
   ]
  },
  {
   "cell_type": "code",
   "execution_count": null,
   "metadata": {},
   "outputs": [],
   "source": [
    "pre-req, goals - todo"
   ]
  },
  {
   "cell_type": "code",
   "execution_count": 2,
   "metadata": {},
   "outputs": [
    {
     "name": "stdout",
     "output_type": "stream",
     "text": [
      "Name: azure-ai-ml\n",
      "Version: 0.1.0b6\n",
      "Summary: Microsoft Azure Machine Learning Client Library for Python\n",
      "Home-page: https://github.com/Azure/azure-sdk-for-python\n",
      "Author: Microsoft Corporation\n",
      "Author-email: azuresdkengsysadmins@microsoft.com\n",
      "License: MIT License\n",
      "Location: /root/miniconda3/lib/python3.8/site-packages\n",
      "Requires: azure-storage-file-datalake, pathspec, pyjwt, isodate, azure-common, pyyaml, strictyaml, pydash, applicationinsights, msrest, tqdm, marshmallow, azure-mgmt-core, azure-storage-file-share, docker, typing-extensions, azure-core, colorama, azure-identity, azure-storage-blob, jsonschema\n",
      "Required-by: \n"
     ]
    }
   ],
   "source": [
    "# Import required libraries\n",
    "from azure.identity import DefaultAzureCredential, InteractiveBrowserCredential\n",
    "\n",
    "from azure.ai.ml import MLClient, Input, Output\n",
    "from azure.ai.ml.dsl import pipeline\n",
    "from azure.ai.ml import load_component\n",
    "from azure.ai.ml.entities import Environment, BuildContext\n",
    "\n",
    "!pip show azure-ai-ml"
   ]
  },
  {
   "cell_type": "code",
   "execution_count": 4,
   "metadata": {},
   "outputs": [],
   "source": [
    "try:\n",
    "    credential = DefaultAzureCredential()\n",
    "    # Check if given credential can get token successfully.\n",
    "    credential.get_token(\"https://management.azure.com/.default\")\n",
    "except Exception as ex:\n",
    "    # Fall back to InteractiveBrowserCredential in case DefaultAzureCredential not work\n",
    "    credential = InteractiveBrowserCredential()"
   ]
  },
  {
   "cell_type": "markdown",
   "metadata": {},
   "source": [
    "## Connect to a workspace and registry\n",
    "\n",
    "If you do not have a workspace, refer to this notebook to create a workspace: [](../workspace/workspace.ipynb)\n",
    "If you do not have a registry, refer to this notebook to create a registry: todo\n",
    "\n",
    "We will initialize two clients, one to connect to workspace and other connect to registry"
   ]
  },
  {
   "cell_type": "code",
   "execution_count": 5,
   "metadata": {},
   "outputs": [
    {
     "name": "stdout",
     "output_type": "stream",
     "text": [
      "MLClient(credential=<azure.identity._credentials.default.DefaultAzureCredential object at 0x7ff2b7574ee0>,\n",
      "         subscription_id=21d8f407-c4c4-452e-87a4-e609bfb86248,\n",
      "         resource_group_name=rg-contoso-819prod,\n",
      "         workspace_name=mlw-contoso-819prod)\n",
      "MLClient(credential=<azure.identity._credentials.default.DefaultAzureCredential object at 0x7ff2b7574ee0>,\n",
      "         subscription_id=ea4faa5b-5e44-4236-91f6-5483d5b17d14,\n",
      "         resource_group_name=bug-bash-rg1,\n",
      "         workspace_name=None)\n"
     ]
    }
   ],
   "source": [
    "ml_client_workspace = MLClient( credential=credential,\n",
    "    subscription_id = \"21d8f407-c4c4-452e-87a4-e609bfb86248\",\n",
    "    resource_group_name = \"rg-contoso-819prod\",\n",
    "    workspace_name = \"mlw-contoso-819prod\")\n",
    "print(ml_client_workspace)\n",
    "\n",
    "ml_client_registry = MLClient ( credential=credential,\n",
    "        subscription_id = \"ea4faa5b-5e44-4236-91f6-5483d5b17d14\",\n",
    "        resource_group_name = \"bug-bash-rg1\",\n",
    "        registry_name = \"ContosoMLjun14\")\n",
    "print(ml_client_registry)"
   ]
  },
  {
   "cell_type": "markdown",
   "metadata": {},
   "source": [
    "### Create environment in registry"
   ]
  },
  {
   "cell_type": "code",
   "execution_count": 13,
   "metadata": {},
   "outputs": [
    {
     "name": "stderr",
     "output_type": "stream",
     "text": [
      "\u001b[32mUploading env_train (0.0 MBs): 100%|██████████| 520/520 [00:00<00:00, 4517.49it/s]\n",
      "\u001b[39m\n",
      "\n"
     ]
    },
    {
     "data": {
      "text/plain": [
       "Environment({'is_anonymous': False, 'auto_increment_version': False, 'name': 'SKLearnEnv', 'description': 'Scikit Learn environment', 'tags': {}, 'properties': {}, 'id': 'azureml://registries/ContosoMLjun14/environments/SKLearnEnv/versions/10', 'Resource__source_path': None, 'base_path': '/mnt/c/CODE/REPOS/azureml-examples/sdk/resources/registry', 'creation_context': <azure.ai.ml._restclient.v2021_10_01_dataplanepreview.models._models_py3.SystemData object at 0x7f1ecc0333d0>, 'serialize': <msrest.serialization.Serializer object at 0x7f1ecc026910>, 'version': '10', 'latest_version': None, 'conda_file': None, 'image': 'mlregcsix4.azurecr.io/sklearnenv_10_c843f0c5-2f5e-57d3-b754-1ecb0f75b360', 'build': None, 'inference_config': None, 'os_type': 'Linux', 'arm_type': 'environment_version', 'conda_file_path': None, 'path': None, 'upload_hash': None, 'translated_conda_file': None})"
      ]
     },
     "execution_count": 13,
     "metadata": {},
     "output_type": "execute_result"
    }
   ],
   "source": [
    "env_docker_context = Environment(\n",
    "    build=BuildContext(path=\"../../../cli/jobs/pipelines-with-components/nyc_taxi_data_regression/env_train/\"),\n",
    "    name=\"SKLearnEnv\",\n",
    "    version=str(1),\n",
    "    description=\"Scikit Learn environment\",\n",
    ")\n",
    "ml_client_registry.environments.create_or_update(env_docker_context)"
   ]
  },
  {
   "cell_type": "markdown",
   "metadata": {},
   "source": [
    "### Fetch environment from registry"
   ]
  },
  {
   "cell_type": "code",
   "execution_count": 21,
   "metadata": {},
   "outputs": [
    {
     "name": "stdout",
     "output_type": "stream",
     "text": [
      "Environment({'is_anonymous': False, 'auto_increment_version': False, 'name': 'SKLearnEnv', 'description': 'Scikit Learn environment', 'tags': {}, 'properties': {}, 'id': 'azureml://registries/ContosoMLjun14/environments/SKLearnEnv/versions/1', 'Resource__source_path': None, 'base_path': '/mnt/c/CODE/REPOS/azureml-examples/sdk/resources/registry', 'creation_context': <azure.ai.ml._restclient.v2021_10_01_dataplanepreview.models._models_py3.SystemData object at 0x7f1ee4743c70>, 'serialize': <msrest.serialization.Serializer object at 0x7f1ecd972160>, 'version': '1', 'latest_version': None, 'conda_file': None, 'image': 'mlregcsix4.azurecr.io/sklearnenv_1_89f98d1d-9796-59d4-8ffb-5985ab0a2237', 'build': None, 'inference_config': None, 'os_type': 'Linux', 'arm_type': 'environment_version', 'conda_file_path': None, 'path': None, 'upload_hash': None, 'translated_conda_file': None})\n"
     ]
    }
   ],
   "source": [
    "env_from_registry = ml_client_registry.environments.get(name=\"SKLearnEnv\", version=str(1))\n",
    "print(env_from_registry)"
   ]
  },
  {
   "cell_type": "markdown",
   "metadata": {},
   "source": [
    "### Create component in registry\n",
    "\n",
    "We will use the component YAMLs defined in `cli/jobs/pipelines-with-components/nyc_taxi_data_regression` for this. "
   ]
  },
  {
   "cell_type": "markdown",
   "metadata": {},
   "source": [
    "Load the component from YAML"
   ]
  },
  {
   "cell_type": "code",
   "execution_count": 12,
   "metadata": {},
   "outputs": [
    {
     "name": "stdout",
     "output_type": "stream",
     "text": [
      "$schema: https://azuremlschemas.azureedge.net/latest/commandComponent.schema.json\n",
      "name: train_linear_regression_model\n",
      "version: '1'\n",
      "display_name: TrainLinearRegressionModel\n",
      "type: command\n",
      "inputs:\n",
      "  training_data:\n",
      "    type: uri_folder\n",
      "  test_split_ratio:\n",
      "    type: number\n",
      "    default: '0.2'\n",
      "    max: '1.0'\n",
      "    min: '0.0'\n",
      "outputs:\n",
      "  model_output:\n",
      "    type: mlflow_model\n",
      "  test_data:\n",
      "    type: uri_folder\n",
      "command: python train.py  --training_data ${{inputs.training_data}}  --test_data ${{outputs.test_data}}  --model_output\n",
      "  ${{outputs.model_output}} --test_split_ratio ${{inputs.test_split_ratio}}\n",
      "environment: azureml:AzureML-sklearn-0.24-ubuntu18.04-py37-cpu@latest\n",
      "code: ./train_src\n",
      "is_deterministic: true\n",
      "tags: {}\n",
      "\n"
     ]
    }
   ],
   "source": [
    "parent_dir = \"../../../cli/jobs/pipelines-with-components/nyc_taxi_data_regression\"\n",
    "train_model = load_component(path=parent_dir + \"/train.yml\")\n",
    "# print the component as yaml\n",
    "print(train_model)"
   ]
  },
  {
   "cell_type": "markdown",
   "metadata": {},
   "source": [
    "## 2.2 Create components in registry\n",
    "\n",
    "Note that we use the `ml_client_registry` handle becuase we plan to create components in registry. Creating the components in Registry allows us to use these components in many workspaces. \n",
    "\n",
    "A similar sample notebook shows how to create these components in workspaces instead of registry, in which case you can use those components only in the specific workspace: https://github.com/Azure/azureml-examples/blob/main/sdk/jobs/pipelines/1e_pipeline_with_registered_components/pipeline_with_registered_components.ipynb\n",
    "\n",
    "We are using a dynamic version number so that there is no conflict with versions that already exist. \n",
    "\n",
    "We are also using the environment created in the previous section instead of using the curated environment in the original `train.yml`\n"
   ]
  },
  {
   "cell_type": "code",
   "execution_count": 25,
   "metadata": {},
   "outputs": [
    {
     "name": "stderr",
     "output_type": "stream",
     "text": [
      "Warning: the provided asset name 'SKLearnEnv' will not be used for anonymous registration\n"
     ]
    },
    {
     "name": "stdout",
     "output_type": "stream",
     "text": [
      "1663056411\n"
     ]
    },
    {
     "name": "stderr",
     "output_type": "stream",
     "text": [
      "Creating/updating registry component train_linear_regression_model with version 1663056411 "
     ]
    },
    {
     "name": "stdout",
     "output_type": "stream",
     "text": [
      "."
     ]
    },
    {
     "name": "stderr",
     "output_type": "stream",
     "text": [
      "Done (0m 7s)\n"
     ]
    },
    {
     "name": "stdout",
     "output_type": "stream",
     "text": [
      "$schema: https://azuremlschemas.azureedge.net/latest/commandComponent.schema.json\n",
      "name: train_linear_regression_model\n",
      "version: '1663056411'\n",
      "display_name: TrainLinearRegressionModel\n",
      "type: command\n",
      "inputs:\n",
      "  training_data:\n",
      "    type: uri_folder\n",
      "  test_split_ratio:\n",
      "    type: number\n",
      "    default: '0.2'\n",
      "    max: '1.0'\n",
      "    min: '0.0'\n",
      "outputs:\n",
      "  model_output:\n",
      "    type: mlflow_model\n",
      "  test_data:\n",
      "    type: uri_folder\n",
      "command: python train.py  --training_data ${{inputs.training_data}}  --test_data ${{outputs.test_data}}  --model_output\n",
      "  ${{outputs.model_output}} --test_split_ratio ${{inputs.test_split_ratio}}\n",
      "environment: azureml://registries/ContosoMLjun14/environments/SKLearnEnv/versions/1\n",
      "code: azureml://registries/ContosoMLjun14/codes/34af0422-2a89-4b2d-bbf8-bf059bab7de0/versions/1\n",
      "resources:\n",
      "  instance_count: 1\n",
      "  properties: {}\n",
      "creation_context:\n",
      "  created_at: '2022-09-13T08:07:09.534401+00:00'\n",
      "  created_by: Manoj Bableshwar\n",
      "  created_by_type: User\n",
      "  last_modified_at: '2022-09-13T08:07:09.534401+00:00'\n",
      "  last_modified_by: Manoj Bableshwar\n",
      "  last_modified_by_type: User\n",
      "is_deterministic: true\n",
      "id: azureml://registries/ContosoMLjun14/components/train_linear_regression_model/versions/1663056411\n",
      "tags: {}\n",
      "\n"
     ]
    }
   ],
   "source": [
    "# get or create component\n",
    "\n",
    "# dynamic version number based on epoch time\n",
    "import time\n",
    "version_timestamp = str(int(time.time()))\n",
    "print(version_timestamp)\n",
    "\n",
    "#train_model.environment=\"azureml://registries/ContosoMLjun14/environments/SKLearnEnv/versions/1\"\n",
    "train_model.environment=env_from_registry\n",
    "train_model.version=version_timestamp\n",
    "\n",
    "#kwargs_version = {\"version\": version_timestamp }\n",
    "\n",
    "ml_client_registry.components.create_or_update(train_model)\n",
    "print(train_model)\n"
   ]
  },
  {
   "cell_type": "markdown",
   "metadata": {},
   "source": [
    "### Fetch component from Registry"
   ]
  },
  {
   "cell_type": "code",
   "execution_count": 10,
   "metadata": {},
   "outputs": [
    {
     "name": "stdout",
     "output_type": "stream",
     "text": [
      "$schema: https://azuremlschemas.azureedge.net/latest/commandComponent.schema.json\n",
      "name: train_linear_regression_model\n",
      "version: '1'\n",
      "display_name: TrainLinearRegressionModel\n",
      "type: command\n",
      "inputs:\n",
      "  training_data:\n",
      "    type: uri_folder\n",
      "  test_split_ratio:\n",
      "    type: number\n",
      "    default: '0.2'\n",
      "    max: '1.0'\n",
      "    min: '0.0'\n",
      "outputs:\n",
      "  model_output:\n",
      "    type: mlflow_model\n",
      "  test_data:\n",
      "    type: uri_folder\n",
      "command: python train.py  --training_data ${{inputs.training_data}}  --test_data ${{outputs.test_data}}  --model_output\n",
      "  ${{outputs.model_output}} --test_split_ratio ${{inputs.test_split_ratio}}\n",
      "environment: azureml://registries/CuratedRegistry/environments/AzureML-sklearn-0.24-ubuntu18.04-py37-cpu/versions/35\n",
      "code: azureml://registries/ContosoMLjun14/codes/50142294-866a-4738-b8b3-ce5a42065deb/versions/1\n",
      "resources:\n",
      "  instance_count: 1\n",
      "  properties: {}\n",
      "tags: {}\n",
      "is_deterministic: true\n",
      "creation_context:\n",
      "  created_at: '2022-06-15T22:20:09.081074+00:00'\n",
      "  created_by: Manoj Bableshwar\n",
      "  created_by_type: User\n",
      "  last_modified_at: '2022-06-15T22:20:09.081075+00:00'\n",
      "  last_modified_by: Manoj Bableshwar\n",
      "  last_modified_by_type: User\n",
      "id: azureml://registries/ContosoMLjun14/components/train_linear_regression_model/versions/1\n",
      "\n"
     ]
    }
   ],
   "source": [
    "train_component_from_registry = ml_client_registry.components.get(name=\"train_linear_regression_model\", version=str(1))\n",
    "print(train_component_from_registry)"
   ]
  },
  {
   "cell_type": "markdown",
   "metadata": {},
   "source": [
    "## Create a pipeline job\n"
   ]
  },
  {
   "cell_type": "code",
   "execution_count": 40,
   "metadata": {},
   "outputs": [
    {
     "name": "stdout",
     "output_type": "stream",
     "text": [
      "display_name: pipeline_with_registered_components\n",
      "type: pipeline\n",
      "inputs:\n",
      "  training_data:\n",
      "    type: uri_folder\n",
      "    path: azureml:../../../cli/jobs/pipelines-with-components/nyc_taxi_data_regression/data_transformed/\n",
      "outputs: {}\n",
      "jobs:\n",
      "  train_job:\n",
      "    $schema: '{}'\n",
      "    type: command\n",
      "    inputs:\n",
      "      training_data:\n",
      "        path: ${{parent.inputs.training_data}}\n",
      "    outputs: {}\n",
      "    command: python train.py  --training_data ${{inputs.training_data}}  --test_data\n",
      "      ${{outputs.test_data}}  --model_output ${{outputs.model_output}} --test_split_ratio\n",
      "      ${{inputs.test_split_ratio}}\n",
      "    code: azureml://registries/ContosoMLjun14/codes/50142294-866a-4738-b8b3-ce5a42065deb/versions/1\n",
      "    resources:\n",
      "      instance_count: 1\n",
      "      properties: {}\n",
      "    component:\n",
      "      $schema: https://azuremlschemas.azureedge.net/latest/commandComponent.schema.json\n",
      "      name: train_linear_regression_model\n",
      "      version: '1'\n",
      "      display_name: TrainLinearRegressionModel\n",
      "      type: command\n",
      "      inputs:\n",
      "        training_data:\n",
      "          type: uri_folder\n",
      "        test_split_ratio:\n",
      "          type: number\n",
      "          default: '0.2'\n",
      "          max: '1.0'\n",
      "          min: '0.0'\n",
      "      outputs:\n",
      "        model_output:\n",
      "          type: mlflow_model\n",
      "        test_data:\n",
      "          type: uri_folder\n",
      "      command: python train.py  --training_data ${{inputs.training_data}}  --test_data\n",
      "        ${{outputs.test_data}}  --model_output ${{outputs.model_output}} --test_split_ratio\n",
      "        ${{inputs.test_split_ratio}}\n",
      "      environment: azureml://registries/CuratedRegistry/environments/AzureML-sklearn-0.24-ubuntu18.04-py37-cpu/versions/35\n",
      "      code: azureml://registries/ContosoMLjun14/codes/50142294-866a-4738-b8b3-ce5a42065deb/versions/1\n",
      "      resources:\n",
      "        instance_count: 1\n",
      "        properties: {}\n",
      "      tags: {}\n",
      "      is_deterministic: true\n",
      "      creation_context:\n",
      "        created_at: '2022-06-15T22:20:09.081074+00:00'\n",
      "        created_by: Manoj Bableshwar\n",
      "        created_by_type: User\n",
      "        last_modified_at: '2022-06-15T22:20:09.081075+00:00'\n",
      "        last_modified_by: Manoj Bableshwar\n",
      "        last_modified_by_type: User\n",
      "      id: azureml://registries/ContosoMLjun14/components/train_linear_regression_model/versions/1\n",
      "    environment_variables: {}\n",
      "tags: {}\n",
      "properties: {}\n",
      "settings:\n",
      "  default_compute: azureml:cpu-cluster\n",
      "\n"
     ]
    }
   ],
   "source": [
    "# Construct pipeline\n",
    "@pipeline()\n",
    "def pipeline_with_registered_components(\n",
    "    training_data\n",
    "):\n",
    "    train_job = train_component_from_registry(\n",
    "        training_data=training_data,\n",
    "    )\n",
    "pipeline_job = pipeline_with_registered_components(\n",
    "    training_data=Input(type=\"uri_folder\", path=parent_dir + \"/data_transformed/\"),\n",
    ")\n",
    "pipeline_job.settings.default_compute = \"cpu-cluster\"\n",
    "print(pipeline_job)"
   ]
  },
  {
   "cell_type": "markdown",
   "metadata": {},
   "source": [
    "### Submit pipeline job\n",
    "\n",
    "Submit pipeline job and wait for it to complete\n"
   ]
  },
  {
   "cell_type": "code",
   "execution_count": 41,
   "metadata": {},
   "outputs": [
    {
     "name": "stdout",
     "output_type": "stream",
     "text": [
      "RunId: happy_angle_9f91rdtctv\n",
      "Web View: https://ml.azure.com/runs/happy_angle_9f91rdtctv?wsid=/subscriptions/21d8f407-c4c4-452e-87a4-e609bfb86248/resourcegroups/rg-contoso-819prod/workspaces/mlw-contoso-819prod\n",
      "\n",
      "Streaming logs/azureml/executionlogs.txt\n",
      "========================================\n",
      "\n",
      "[2022-09-13 19:03:05Z] Completing processing run id c67b1b77-d6ab-4dcb-b111-dfd15185ca43.\n",
      "[2022-09-13 19:03:05Z] Finishing experiment: no runs left and nothing to schedule.\n",
      "\n",
      "Execution Summary\n",
      "=================\n",
      "RunId: happy_angle_9f91rdtctv\n",
      "Web View: https://ml.azure.com/runs/happy_angle_9f91rdtctv?wsid=/subscriptions/21d8f407-c4c4-452e-87a4-e609bfb86248/resourcegroups/rg-contoso-819prod/workspaces/mlw-contoso-819prod\n",
      "\n"
     ]
    },
    {
     "data": {
      "text/html": [
       "<table style=\"width:100%\"><tr><th>Experiment</th><th>Name</th><th>Type</th><th>Status</th><th>Details Page</th></tr><tr><td>sdk_job_component_from_registry</td><td>happy_angle_9f91rdtctv</td><td>pipeline</td><td>Completed</td><td><a href=\"https://ml.azure.com/runs/happy_angle_9f91rdtctv?wsid=/subscriptions/21d8f407-c4c4-452e-87a4-e609bfb86248/resourcegroups/rg-contoso-819prod/workspaces/mlw-contoso-819prod&amp;tid=72f988bf-86f1-41af-91ab-2d7cd011db47\" target=\"_blank\" rel=\"noopener\">Link to Azure Machine Learning studio</a></td></tr></table>"
      ],
      "text/plain": [
       "PipelineJob({'inputs': {'training_data': <azure.ai.ml.entities._job.pipeline._io.PipelineInput object at 0x7ff2b40d27c0>}, 'outputs': {}, 'component': PipelineComponent({'auto_increment_version': False, 'source': 'REMOTE.WORKSPACE.JOB', 'is_anonymous': True, 'name': 'azureml_anonymous', 'description': None, 'tags': {}, 'properties': {}, 'id': None, 'Resource__source_path': None, 'base_path': None, 'creation_context': None, 'serialize': <msrest.serialization.Serializer object at 0x7ff2b4118e50>, 'version': '1', 'latest_version': None, 'schema': None, 'type': 'pipeline', 'display_name': 'pipeline_with_registered_components', 'is_deterministic': True, 'inputs': {'training_data': {'type': 'unknown'}}, 'outputs': {}, 'yaml_str': None, 'other_parameter': {}, 'func': <function [component] pipeline_with_registered_components at 0x7ff2abe50e50>, 'jobs': {'train_job': Command({'parameters': {}, 'init': False, 'type': 'command', 'status': None, 'log_files': None, 'name': 'train_job', 'description': None, 'tags': {}, 'properties': {}, 'id': None, 'Resource__source_path': None, 'base_path': None, 'creation_context': None, 'serialize': <msrest.serialization.Serializer object at 0x7ff2b5301b80>, 'allowed_keys': {}, 'key_restriction': False, 'logger': <Logger attr_dict (WARNING)>, 'display_name': None, 'experiment_name': None, 'compute': None, 'services': None, 'job_inputs': {'training_data': '${{parent.inputs.training_data}}'}, 'job_outputs': {}, 'inputs': {'training_data': <azure.ai.ml.entities._job.pipeline._io.PipelineInputBase object at 0x7ff2b41185b0>}, 'outputs': {}, 'component': 'azureml://registries/ContosoMLjun14/components/train_linear_regression_model/versions/1', 'kwargs': {}, 'instance_id': '74860b0e-1367-47f5-8a30-68039e8c54e2', 'limits': None, 'identity': None, 'distribution': None, 'environment_variables': {}, 'environment': None, 'resources': {'instance_count': 1, 'properties': {}}, 'swept': False})}, 'job_types': {'command': 1}, 'job_sources': {'REMOTE.REGISTRY': 1}}), 'type': 'pipeline', 'status': 'Completed', 'log_files': None, 'name': 'happy_angle_9f91rdtctv', 'description': None, 'tags': {}, 'properties': {'mlflow.source.git.repoURL': 'https://github.com/Azure/azureml-examples.git', 'mlflow.source.git.branch': 'mabables/registry', 'mlflow.source.git.commit': '88910d28126b5bb2e81504279aee6dacb79f5568', 'azureml.git.dirty': 'True', 'azureml.DevPlatv2': 'true', 'azureml.runsource': 'azureml.PipelineRun', 'runSource': 'MFE', 'runType': 'HTTP', 'azureml.parameters': '{}', 'azureml.continue_on_step_failure': 'False', 'azureml.continue_on_failed_optional_input': 'True', 'azureml.defaultComputeName': 'cpu-cluster', 'azureml.defaultDataStoreName': 'workspaceblobstore', 'azureml.pipelineComponent': 'pipelinerun'}, 'id': '/subscriptions/21d8f407-c4c4-452e-87a4-e609bfb86248/resourceGroups/rg-contoso-819prod/providers/Microsoft.MachineLearningServices/workspaces/mlw-contoso-819prod/jobs/happy_angle_9f91rdtctv', 'Resource__source_path': None, 'base_path': '/mnt/c/CODE/REPOS/azureml-examples/sdk/resources/registry', 'creation_context': <azure.ai.ml._restclient.v2022_02_01_preview.models._models_py3.SystemData object at 0x7ff2b41715b0>, 'serialize': <msrest.serialization.Serializer object at 0x7ff2b40d2a30>, 'display_name': 'pipeline_with_registered_components', 'experiment_name': 'sdk_job_component_from_registry', 'compute': None, 'services': {'Tracking': <azure.ai.ml._restclient.v2022_02_01_preview.models._models_py3.JobService object at 0x7ff2b4171190>, 'Studio': <azure.ai.ml._restclient.v2022_02_01_preview.models._models_py3.JobService object at 0x7ff2b4171fa0>}, 'settings': <azure.ai.ml.entities._job.pipeline.pipeline_job_settings.PipelineJobSettings object at 0x7ff2b5301ca0>, 'identity': None, 'default_code': None, 'default_environment': None})"
      ]
     },
     "execution_count": 41,
     "metadata": {},
     "output_type": "execute_result"
    }
   ],
   "source": [
    "# submit job to workspace\n",
    "pipeline_job = ml_client_workspace.jobs.create_or_update(\n",
    "    pipeline_job, experiment_name=\"sdk_job_component_from_registry\" ,  skip_validation=True\n",
    ")\n",
    "pipeline_job\n",
    "ml_client_workspace.jobs.stream(pipeline_job.name)\n",
    "pipeline_job=ml_client_workspace.jobs.get(pipeline_job.name)\n",
    "pipeline_job"
   ]
  },
  {
   "cell_type": "markdown",
   "metadata": {},
   "source": [
    "## Create model in registry"
   ]
  },
  {
   "cell_type": "markdown",
   "metadata": {},
   "source": [
    "### Option 1: Create model in registry from local files\n",
    "\n"
   ]
  },
  {
   "cell_type": "markdown",
   "metadata": {},
   "source": [
    "### Download the model from the output of training job"
   ]
  },
  {
   "cell_type": "code",
   "execution_count": 44,
   "metadata": {},
   "outputs": [
    {
     "name": "stdout",
     "output_type": "stream",
     "text": [
      "c67b1b77-d6ab-4dcb-b111-dfd15185ca43\n"
     ]
    },
    {
     "name": "stderr",
     "output_type": "stream",
     "text": [
      "job c67b1b77-d6ab-4dcb-b111-dfd15185ca43 reuses previous job 8cd07442-fb95-489a-93c0-cc5a41c68c94, download from the reused job.\n",
      "Downloading artifact azureml://subscriptions/21d8f407-c4c4-452e-87a4-e609bfb86248/resourcegroups/rg-contoso-819prod/workspaces/mlw-contoso-819prod/datastores/workspaceartifactstore/paths/ExperimentRun/dcid.8cd07442-fb95-489a-93c0-cc5a41c68c94/ to /mnt/c/CODE/REPOS/azureml-examples/sdk/resources/registry/artifacts\n",
      "Ran into a deserialization error. Ignoring since this is failsafe deserialization\n",
      "Traceback (most recent call last):\n",
      "  File \"/root/miniconda3/lib/python3.8/site-packages/msrest/serialization.py\", line 1509, in failsafe_deserialize\n",
      "    return self(target_obj, data, content_type=content_type)\n",
      "  File \"/root/miniconda3/lib/python3.8/site-packages/msrest/serialization.py\", line 1375, in __call__\n",
      "    data = self._unpack_content(response_data, content_type)\n",
      "  File \"/root/miniconda3/lib/python3.8/site-packages/msrest/serialization.py\", line 1543, in _unpack_content\n",
      "    raise ValueError(\"This pipeline didn't have the RawDeserializer policy; can't deserialize\")\n",
      "ValueError: This pipeline didn't have the RawDeserializer policy; can't deserialize\n",
      "Ran into a deserialization error. Ignoring since this is failsafe deserialization\n",
      "Traceback (most recent call last):\n",
      "  File \"/root/miniconda3/lib/python3.8/site-packages/msrest/serialization.py\", line 1509, in failsafe_deserialize\n",
      "    return self(target_obj, data, content_type=content_type)\n",
      "  File \"/root/miniconda3/lib/python3.8/site-packages/msrest/serialization.py\", line 1375, in __call__\n",
      "    data = self._unpack_content(response_data, content_type)\n",
      "  File \"/root/miniconda3/lib/python3.8/site-packages/msrest/serialization.py\", line 1543, in _unpack_content\n",
      "    raise ValueError(\"This pipeline didn't have the RawDeserializer policy; can't deserialize\")\n",
      "ValueError: This pipeline didn't have the RawDeserializer policy; can't deserialize\n"
     ]
    }
   ],
   "source": [
    "jobs=ml_client_workspace.jobs.list(parent_job_name=pipeline_job.name)\n",
    "for job in jobs:\n",
    "    if (job.display_name == \"train_job\"):\n",
    "        print (job.name)\n",
    "        ml_client_workspace.jobs.download(job.name)\n",
    "\n",
    "     "
   ]
  },
  {
   "cell_type": "markdown",
   "metadata": {},
   "source": [
    "### Create model from local files\n",
    "\n"
   ]
  },
  {
   "cell_type": "code",
   "execution_count": 46,
   "metadata": {},
   "outputs": [
    {
     "name": "stdout",
     "output_type": "stream",
     "text": [
      "1663098490\n"
     ]
    },
    {
     "name": "stderr",
     "output_type": "stream",
     "text": [
      "\u001b[32mUploading model (0.0 MBs): 100%|██████████| 2681/2681 [00:00<00:00, 5667.42it/s]\n",
      "\u001b[39m\n",
      "\n"
     ]
    },
    {
     "data": {
      "text/plain": [
       "Model({'job_name': None, 'is_anonymous': False, 'auto_increment_version': False, 'name': 'nyc-taxi-model', 'description': 'MLflow model created from local path', 'tags': {}, 'properties': {}, 'id': 'azureml://registries/ContosoMLjun14/models/nyc-taxi-model/versions/1663098490', 'Resource__source_path': None, 'base_path': '/mnt/c/CODE/REPOS/azureml-examples/sdk/resources/registry', 'creation_context': <azure.ai.ml._restclient.v2021_10_01_dataplanepreview.models._models_py3.SystemData object at 0x7ff2abe1ee50>, 'serialize': <msrest.serialization.Serializer object at 0x7ff2b4069880>, 'version': '1663098490', 'latest_version': None, 'path': 'https://mlregcsix4eus1.blob.core.windows.net/contosomlj-c587b14f-a0b7-52e9-98b5-c7d179be76c0/model', 'utc_time_created': None, 'flavors': None, 'arm_type': 'model_version', 'type': 'mlflow_model'})"
      ]
     },
     "execution_count": 46,
     "metadata": {},
     "output_type": "execute_result"
    }
   ],
   "source": [
    "from azure.ai.ml.entities import Model\n",
    "from azure.ai.ml.constants import AssetTypes\n",
    "import time\n",
    "version_timestamp = str(int(time.time()))\n",
    "print(version_timestamp)\n",
    "\n",
    "mlflow_model = Model(\n",
    "    path=\"./artifacts/model/\",\n",
    "    type=AssetTypes.MLFLOW_MODEL,\n",
    "    name=\"nyc-taxi-model\",\n",
    "    version=version_timestamp,\n",
    "    description=\"MLflow model created from local path\",\n",
    ")\n",
    "ml_client_registry.create_or_update(mlflow_model)"
   ]
  },
  {
   "cell_type": "markdown",
   "metadata": {},
   "source": [
    "### Option 2: Copy model from workspace to registry"
   ]
  },
  {
   "cell_type": "markdown",
   "metadata": {},
   "source": [
    "Get the job name of train_job and build the path pointing to model output "
   ]
  },
  {
   "cell_type": "code",
   "execution_count": 47,
   "metadata": {},
   "outputs": [
    {
     "name": "stdout",
     "output_type": "stream",
     "text": [
      "c67b1b77-d6ab-4dcb-b111-dfd15185ca43\n",
      "azureml://jobs/c67b1b77-d6ab-4dcb-b111-dfd15185ca43/outputs/default/model\n"
     ]
    }
   ],
   "source": [
    "jobs=ml_client_workspace.jobs.list(parent_job_name=pipeline_job.name)\n",
    "for job in jobs:\n",
    "    if (job.display_name == \"train_job\"):\n",
    "        print (job.name)\n",
    "        model_path_from_job=\"azureml://jobs/{job_name}/outputs/default/model\".format(job_name=job.name)\n",
    "\n",
    "print(model_path_from_job)\n",
    "     "
   ]
  },
  {
   "cell_type": "markdown",
   "metadata": {},
   "source": [
    "### Create model in workspace from job output"
   ]
  },
  {
   "cell_type": "code",
   "execution_count": 49,
   "metadata": {},
   "outputs": [
    {
     "name": "stdout",
     "output_type": "stream",
     "text": [
      "1663099093\n"
     ]
    },
    {
     "data": {
      "text/plain": [
       "Model({'job_name': 'c67b1b77-d6ab-4dcb-b111-dfd15185ca43', 'is_anonymous': False, 'auto_increment_version': False, 'name': 'nyc-taxi-model', 'description': 'MLflow model created from job output', 'tags': {}, 'properties': {}, 'id': '/subscriptions/21d8f407-c4c4-452e-87a4-e609bfb86248/resourceGroups/rg-contoso-819prod/providers/Microsoft.MachineLearningServices/workspaces/mlw-contoso-819prod/models/nyc-taxi-model/versions/1663099093', 'Resource__source_path': None, 'base_path': '/mnt/c/CODE/REPOS/azureml-examples/sdk/resources/registry', 'creation_context': <azure.ai.ml._restclient.v2022_05_01.models._models_py3.SystemData object at 0x7ff2b4137a60>, 'serialize': <msrest.serialization.Serializer object at 0x7ff2b536ff10>, 'version': '1663099093', 'latest_version': None, 'path': 'azureml://subscriptions/21d8f407-c4c4-452e-87a4-e609bfb86248/resourceGroups/rg-contoso-819prod/workspaces/mlw-contoso-819prod/datastores/workspaceartifactstore/paths/ExperimentRun/dcid.8cd07442-fb95-489a-93c0-cc5a41c68c94/model', 'utc_time_created': None, 'flavors': {'python_function': {'env': 'conda.yaml', 'loader_module': 'mlflow.sklearn', 'model_path': 'model.pkl', 'python_version': '3.7.13'}, 'sklearn': {'code': '', 'pickled_model': 'model.pkl', 'serialization_format': 'cloudpickle', 'sklearn_version': '0.24.1'}}, 'arm_type': 'model_version', 'type': 'mlflow_model'})"
      ]
     },
     "execution_count": 49,
     "metadata": {},
     "output_type": "execute_result"
    }
   ],
   "source": [
    "from azure.ai.ml.entities import Model\n",
    "from azure.ai.ml.constants import AssetTypes\n",
    "import time\n",
    "version_timestamp = str(int(time.time()))\n",
    "print(version_timestamp)\n",
    "\n",
    "mlflow_model = Model(\n",
    "    path=model_path_from_job,\n",
    "    type=AssetTypes.MLFLOW_MODEL,\n",
    "    name=\"nyc-taxi-model\",\n",
    "    version=version_timestamp,\n",
    "    description=\"MLflow model created from job output\",\n",
    ")\n",
    "ml_client_workspace.create_or_update(mlflow_model)"
   ]
  },
  {
   "cell_type": "markdown",
   "metadata": {},
   "source": [
    "## Copy a model from workspace to registry"
   ]
  },
  {
   "cell_type": "code",
   "execution_count": 54,
   "metadata": {},
   "outputs": [
    {
     "name": "stdout",
     "output_type": "stream",
     "text": [
      "azureml://subscriptions/21d8f407-c4c4-452e-87a4-e609bfb86248/resourceGroups/rg-contoso-819prod/workspaces/mlw-contoso-819prod/models/nyc-taxi-model/versions/1663099093\n"
     ]
    },
    {
     "ename": "FileNotFoundError",
     "evalue": "[Errno 2] No such file or directory: 'azureml://subscriptions/21d8f407-c4c4-452e-87a4-e609bfb86248/resourceGroups/rg-contoso-819prod/workspaces/mlw-contoso-819prod/models/nyc-taxi-model/versions/1663099093'",
     "output_type": "error",
     "traceback": [
      "\u001b[0;31m---------------------------------------------------------------------------\u001b[0m",
      "\u001b[0;31mFileNotFoundError\u001b[0m                         Traceback (most recent call last)",
      "\u001b[0;32m/tmp/ipykernel_19299/1219208243.py\u001b[0m in \u001b[0;36m<module>\u001b[0;34m\u001b[0m\n\u001b[1;32m      5\u001b[0m \u001b[0mprint\u001b[0m\u001b[0;34m(\u001b[0m\u001b[0mmodel_path_from_workspace\u001b[0m\u001b[0;34m)\u001b[0m\u001b[0;34m\u001b[0m\u001b[0;34m\u001b[0m\u001b[0m\n\u001b[1;32m      6\u001b[0m \u001b[0;34m\u001b[0m\u001b[0m\n\u001b[0;32m----> 7\u001b[0;31m mlflow_model = Model(\n\u001b[0m\u001b[1;32m      8\u001b[0m     \u001b[0mpath\u001b[0m\u001b[0;34m=\u001b[0m\u001b[0mmodel_path_from_workspace\u001b[0m\u001b[0;34m,\u001b[0m\u001b[0;34m\u001b[0m\u001b[0;34m\u001b[0m\u001b[0m\n\u001b[1;32m      9\u001b[0m \u001b[0;31m#    type=AssetTypes.MLFLOW_MODEL,\u001b[0m\u001b[0;34m\u001b[0m\u001b[0;34m\u001b[0m\u001b[0;34m\u001b[0m\u001b[0m\n",
      "\u001b[0;32m~/miniconda3/lib/python3.8/site-packages/azure/ai/ml/entities/_assets/_artifacts/model.py\u001b[0m in \u001b[0;36m__init__\u001b[0;34m(self, name, version, type, path, utc_time_created, flavors, description, tags, properties, **kwargs)\u001b[0m\n\u001b[1;32m     81\u001b[0m         \u001b[0;32mif\u001b[0m \u001b[0mself\u001b[0m\u001b[0;34m.\u001b[0m\u001b[0m_is_anonymous\u001b[0m \u001b[0;32mand\u001b[0m \u001b[0mself\u001b[0m\u001b[0;34m.\u001b[0m\u001b[0mpath\u001b[0m\u001b[0;34m:\u001b[0m\u001b[0;34m\u001b[0m\u001b[0;34m\u001b[0m\u001b[0m\n\u001b[1;32m     82\u001b[0m             \u001b[0m_ignore_file\u001b[0m \u001b[0;34m=\u001b[0m \u001b[0mget_ignore_file\u001b[0m\u001b[0;34m(\u001b[0m\u001b[0mself\u001b[0m\u001b[0;34m.\u001b[0m\u001b[0mpath\u001b[0m\u001b[0;34m)\u001b[0m\u001b[0;34m\u001b[0m\u001b[0;34m\u001b[0m\u001b[0m\n\u001b[0;32m---> 83\u001b[0;31m             \u001b[0m_upload_hash\u001b[0m \u001b[0;34m=\u001b[0m \u001b[0mget_object_hash\u001b[0m\u001b[0;34m(\u001b[0m\u001b[0mself\u001b[0m\u001b[0;34m.\u001b[0m\u001b[0mpath\u001b[0m\u001b[0;34m,\u001b[0m \u001b[0m_ignore_file\u001b[0m\u001b[0;34m)\u001b[0m\u001b[0;34m\u001b[0m\u001b[0;34m\u001b[0m\u001b[0m\n\u001b[0m\u001b[1;32m     84\u001b[0m             \u001b[0mself\u001b[0m\u001b[0;34m.\u001b[0m\u001b[0mname\u001b[0m \u001b[0;34m=\u001b[0m \u001b[0mget_md5_string\u001b[0m\u001b[0;34m(\u001b[0m\u001b[0m_upload_hash\u001b[0m\u001b[0;34m)\u001b[0m\u001b[0;34m\u001b[0m\u001b[0;34m\u001b[0m\u001b[0m\n\u001b[1;32m     85\u001b[0m \u001b[0;34m\u001b[0m\u001b[0m\n",
      "\u001b[0;32m~/miniconda3/lib/python3.8/site-packages/azure/ai/ml/_utils/_asset_utils.py\u001b[0m in \u001b[0;36mget_object_hash\u001b[0;34m(path, ignore_file)\u001b[0m\n\u001b[1;32m    224\u001b[0m         \u001b[0;32mif\u001b[0m \u001b[0mos\u001b[0m\u001b[0;34m.\u001b[0m\u001b[0mpath\u001b[0m\u001b[0;34m.\u001b[0m\u001b[0mislink\u001b[0m\u001b[0;34m(\u001b[0m\u001b[0mpath\u001b[0m\u001b[0;34m)\u001b[0m\u001b[0;34m:\u001b[0m  \u001b[0;31m# ensure we're hashing the contents of the linked file\u001b[0m\u001b[0;34m\u001b[0m\u001b[0;34m\u001b[0m\u001b[0m\n\u001b[1;32m    225\u001b[0m             \u001b[0mpath\u001b[0m \u001b[0;34m=\u001b[0m \u001b[0mPath\u001b[0m\u001b[0;34m(\u001b[0m\u001b[0mos\u001b[0m\u001b[0;34m.\u001b[0m\u001b[0mreadlink\u001b[0m\u001b[0;34m(\u001b[0m\u001b[0mconvert_windows_path_to_unix\u001b[0m\u001b[0;34m(\u001b[0m\u001b[0mpath\u001b[0m\u001b[0;34m)\u001b[0m\u001b[0;34m)\u001b[0m\u001b[0;34m)\u001b[0m\u001b[0;34m\u001b[0m\u001b[0;34m\u001b[0m\u001b[0m\n\u001b[0;32m--> 226\u001b[0;31m         \u001b[0mobject_hash\u001b[0m \u001b[0;34m=\u001b[0m \u001b[0m_get_file_hash\u001b[0m\u001b[0;34m(\u001b[0m\u001b[0mfilename\u001b[0m\u001b[0;34m=\u001b[0m\u001b[0mpath\u001b[0m\u001b[0;34m,\u001b[0m \u001b[0mhash\u001b[0m\u001b[0;34m=\u001b[0m\u001b[0mhash\u001b[0m\u001b[0;34m)\u001b[0m\u001b[0;34m\u001b[0m\u001b[0;34m\u001b[0m\u001b[0m\n\u001b[0m\u001b[1;32m    227\u001b[0m     \u001b[0;32mreturn\u001b[0m \u001b[0mstr\u001b[0m\u001b[0;34m(\u001b[0m\u001b[0mobject_hash\u001b[0m\u001b[0;34m.\u001b[0m\u001b[0mhexdigest\u001b[0m\u001b[0;34m(\u001b[0m\u001b[0;34m)\u001b[0m\u001b[0;34m)\u001b[0m\u001b[0;34m\u001b[0m\u001b[0;34m\u001b[0m\u001b[0m\n\u001b[1;32m    228\u001b[0m \u001b[0;34m\u001b[0m\u001b[0m\n",
      "\u001b[0;32m~/miniconda3/lib/python3.8/site-packages/azure/ai/ml/_utils/_asset_utils.py\u001b[0m in \u001b[0;36m_get_file_hash\u001b[0;34m(filename, hash)\u001b[0m\n\u001b[1;32m    173\u001b[0m \u001b[0;34m\u001b[0m\u001b[0m\n\u001b[1;32m    174\u001b[0m \u001b[0;32mdef\u001b[0m \u001b[0m_get_file_hash\u001b[0m\u001b[0;34m(\u001b[0m\u001b[0mfilename\u001b[0m\u001b[0;34m:\u001b[0m \u001b[0mUnion\u001b[0m\u001b[0;34m[\u001b[0m\u001b[0mstr\u001b[0m\u001b[0;34m,\u001b[0m \u001b[0mPath\u001b[0m\u001b[0;34m]\u001b[0m\u001b[0;34m,\u001b[0m \u001b[0mhash\u001b[0m\u001b[0;34m:\u001b[0m \u001b[0mhash_type\u001b[0m\u001b[0;34m)\u001b[0m \u001b[0;34m->\u001b[0m \u001b[0mhash_type\u001b[0m\u001b[0;34m:\u001b[0m\u001b[0;34m\u001b[0m\u001b[0;34m\u001b[0m\u001b[0m\n\u001b[0;32m--> 175\u001b[0;31m     \u001b[0;32mwith\u001b[0m \u001b[0mopen\u001b[0m\u001b[0;34m(\u001b[0m\u001b[0mstr\u001b[0m\u001b[0;34m(\u001b[0m\u001b[0mfilename\u001b[0m\u001b[0;34m)\u001b[0m\u001b[0;34m,\u001b[0m \u001b[0;34m\"rb\"\u001b[0m\u001b[0;34m)\u001b[0m \u001b[0;32mas\u001b[0m \u001b[0mf\u001b[0m\u001b[0;34m:\u001b[0m\u001b[0;34m\u001b[0m\u001b[0;34m\u001b[0m\u001b[0m\n\u001b[0m\u001b[1;32m    176\u001b[0m         \u001b[0;32mfor\u001b[0m \u001b[0mchunk\u001b[0m \u001b[0;32min\u001b[0m \u001b[0miter\u001b[0m\u001b[0;34m(\u001b[0m\u001b[0;32mlambda\u001b[0m\u001b[0;34m:\u001b[0m \u001b[0mf\u001b[0m\u001b[0;34m.\u001b[0m\u001b[0mread\u001b[0m\u001b[0;34m(\u001b[0m\u001b[0mCHUNK_SIZE\u001b[0m\u001b[0;34m)\u001b[0m\u001b[0;34m,\u001b[0m \u001b[0;34mb\"\"\u001b[0m\u001b[0;34m)\u001b[0m\u001b[0;34m:\u001b[0m\u001b[0;34m\u001b[0m\u001b[0;34m\u001b[0m\u001b[0m\n\u001b[1;32m    177\u001b[0m             \u001b[0mhash\u001b[0m\u001b[0;34m.\u001b[0m\u001b[0mupdate\u001b[0m\u001b[0;34m(\u001b[0m\u001b[0mchunk\u001b[0m\u001b[0;34m)\u001b[0m\u001b[0;34m\u001b[0m\u001b[0;34m\u001b[0m\u001b[0m\n",
      "\u001b[0;31mFileNotFoundError\u001b[0m: [Errno 2] No such file or directory: 'azureml://subscriptions/21d8f407-c4c4-452e-87a4-e609bfb86248/resourceGroups/rg-contoso-819prod/workspaces/mlw-contoso-819prod/models/nyc-taxi-model/versions/1663099093'"
     ]
    }
   ],
   "source": [
    "\n",
    "#model_path_from_workspace=\"azureml://subscriptions/<subscription-id-of-workspace>/resourceGroups/<resource-group-of-workspace>/workspaces/<workspace-name>/models/<model-name>/versions/<model-version>\n",
    "\n",
    "model_path_from_workspace=\"azureml://subscriptions/21d8f407-c4c4-452e-87a4-e609bfb86248/resourceGroups/rg-contoso-819prod/workspaces/mlw-contoso-819prod/models/nyc-taxi-model/versions/1663099093\"\n",
    "\n",
    "print(model_path_from_workspace)\n",
    "\n",
    "mlflow_model = Model(\n",
    "    path=model_path_from_workspace,\n",
    "#    type=AssetTypes.MLFLOW_MODEL,\n",
    "#    name=\"nyc-taxi-model\",\n",
    "#    version=version_timestamp,\n",
    "#    description=\"MLflow model created from job output\",\n",
    ")\n",
    "ml_client_registry.create_or_update(mlflow_model)\n",
    "     "
   ]
  },
  {
   "cell_type": "markdown",
   "metadata": {},
   "source": [
    "### Deploy model from registry to online endpoint in workspace"
   ]
  },
  {
   "cell_type": "markdown",
   "metadata": {},
   "source": [
    "### Get model from registry"
   ]
  },
  {
   "cell_type": "code",
   "execution_count": 55,
   "metadata": {},
   "outputs": [
    {
     "name": "stdout",
     "output_type": "stream",
     "text": [
      "Model({'job_name': None, 'is_anonymous': False, 'auto_increment_version': False, 'name': 'nyc-taxi-model', 'description': None, 'tags': {}, 'properties': {}, 'id': 'azureml://registries/ContosoMLjun14/models/nyc-taxi-model/versions/1', 'Resource__source_path': None, 'base_path': '/mnt/c/CODE/REPOS/azureml-examples/sdk/resources/registry', 'creation_context': <azure.ai.ml._restclient.v2021_10_01_dataplanepreview.models._models_py3.SystemData object at 0x7ff2abe1e280>, 'serialize': <msrest.serialization.Serializer object at 0x7ff2b401a9a0>, 'version': '1', 'latest_version': None, 'path': 'https://mlregcsix4eus1.blob.core.windows.net/contosomlj-24ba981e-9e0e-5420-b7ae-271a6eb0367f/model', 'utc_time_created': None, 'flavors': None, 'arm_type': 'model_version', 'type': 'custom_model'})\n"
     ]
    }
   ],
   "source": [
    "mlflow_model_from_registry = ml_client_registry.models.get(name=\"nyc-taxi-model\", version=str(1))\n",
    "print(mlflow_model_from_registry)"
   ]
  },
  {
   "cell_type": "markdown",
   "metadata": {},
   "source": [
    "### Create an online endpoint "
   ]
  },
  {
   "cell_type": "code",
   "execution_count": 57,
   "metadata": {},
   "outputs": [
    {
     "data": {
      "text/plain": [
       "ManagedOnlineEndpoint({'public_network_access': 'Enabled', 'provisioning_state': 'Succeeded', 'scoring_uri': 'https://endpoint-09131433696352.eastus.inference.ml.azure.com/score', 'swagger_uri': 'https://endpoint-09131433696352.eastus.inference.ml.azure.com/swagger.json', 'name': 'endpoint-09131433696352', 'description': 'this is a sample online endpoint for mlflow model', 'tags': {}, 'properties': {'azureml.onlineendpointid': '/subscriptions/21d8f407-c4c4-452e-87a4-e609bfb86248/resourcegroups/rg-contoso-819prod/providers/microsoft.machinelearningservices/workspaces/mlw-contoso-819prod/onlineendpoints/endpoint-09131433696352', 'AzureAsyncOperationUri': 'https://management.azure.com/subscriptions/21d8f407-c4c4-452e-87a4-e609bfb86248/providers/Microsoft.MachineLearningServices/locations/eastus/mfeOperationsStatus/oe:4b0187f3-cadc-4d54-91fe-55b6c38c8b45:3d145cb2-dcb8-4bfc-a567-b1cec0bb8871?api-version=2022-02-01-preview'}, 'id': '/subscriptions/21d8f407-c4c4-452e-87a4-e609bfb86248/resourceGroups/rg-contoso-819prod/providers/Microsoft.MachineLearningServices/workspaces/mlw-contoso-819prod/onlineEndpoints/endpoint-09131433696352', 'Resource__source_path': None, 'base_path': '/mnt/c/CODE/REPOS/azureml-examples/sdk/resources/registry', 'creation_context': None, 'serialize': <msrest.serialization.Serializer object at 0x7ff2abe1efa0>, 'auth_mode': 'key', 'location': 'eastus', 'identity': <azure.ai.ml._restclient.v2022_02_01_preview.models._models_py3.ManagedServiceIdentity object at 0x7ff2abe1ec70>, 'traffic': {}, 'mirror_traffic': {}, 'kind': 'Managed'})"
      ]
     },
     "execution_count": 57,
     "metadata": {},
     "output_type": "execute_result"
    }
   ],
   "source": [
    "import datetime\n",
    "\n",
    "from azure.ai.ml.entities import (\n",
    "    ManagedOnlineEndpoint,\n",
    "    ManagedOnlineDeployment,\n",
    "    Model,\n",
    "    Environment,\n",
    "    CodeConfiguration,\n",
    ")\n",
    "\n",
    "online_endpoint_name = \"endpoint-\" + datetime.datetime.now().strftime(\"%m%d%H%M%f\")\n",
    "\n",
    "# create an online endpoint\n",
    "endpoint = ManagedOnlineEndpoint(\n",
    "    name=online_endpoint_name,\n",
    "    description=\"this is a sample online endpoint for mlflow model\",\n",
    "    auth_mode=\"key\"\n",
    ")\n",
    "ml_client_workspace.begin_create_or_update(endpoint)"
   ]
  },
  {
   "cell_type": "markdown",
   "metadata": {},
   "source": [
    "### Deploy the model from registry to the online endpoint"
   ]
  },
  {
   "cell_type": "code",
   "execution_count": 59,
   "metadata": {},
   "outputs": [
    {
     "name": "stderr",
     "output_type": "stream",
     "text": [
      "Check: endpoint endpoint-09131433696352 exists\n"
     ]
    },
    {
     "ename": "ModelException",
     "evalue": "Error with model: (UserError) Request is invalid and/or missing fields.\nCode: UserError\nMessage: Request is invalid and/or missing fields.\nException Details:\t(RequestInvalid) Error: Property: ModelUri does not match the regex: ^(azureml://subscriptions/([^/?]+)/resourceGroups/([^/?]+)/workspaces/([^/?]+)/datastores/([^/?]+)/paths/(.+)|azureml://jobs/([^/]+)/outputs/([^/]+)(.*)|runs:/([^/?]+)/(.+))$\n\tCode: RequestInvalid\n\tMessage: Error: Property: ModelUri does not match the regex: ^(azureml://subscriptions/([^/?]+)/resourceGroups/([^/?]+)/workspaces/([^/?]+)/datastores/([^/?]+)/paths/(.+)|azureml://jobs/([^/]+)/outputs/([^/]+)(.*)|runs:/([^/?]+)/(.+))$\nAdditional Information:Type: ComponentName\nInfo: {\n    \"value\": \"managementfrontend\"\n}Type: Correlation\nInfo: {\n    \"value\": {\n        \"operation\": \"5b04f4e67deb4d8b2c2ec9c9163168d3\",\n        \"request\": \"450893fe08ca7b93\"\n    }\n}Type: Environment\nInfo: {\n    \"value\": \"eastus\"\n}Type: Location\nInfo: {\n    \"value\": \"eastus\"\n}Type: Time\nInfo: {\n    \"value\": \"2022-09-13T21:40:12.2632158+00:00\"\n}Type: InnerError\nInfo: {\n    \"value\": {\n        \"code\": \"RequestInvalid\",\n        \"innerError\": null\n    }\n}Type: MessageFormat\nInfo: {\n    \"value\": \"Request is invalid and/or missing fields.\"\n}",
     "output_type": "error",
     "traceback": [
      "\u001b[0;31m---------------------------------------------------------------------------\u001b[0m",
      "\u001b[0;31mHttpResponseError\u001b[0m                         Traceback (most recent call last)",
      "\u001b[0;32m~/miniconda3/lib/python3.8/site-packages/azure/ai/ml/operations/_operation_orchestrator.py\u001b[0m in \u001b[0;36m_get_model_arm_id\u001b[0;34m(self, model, register_asset)\u001b[0m\n\u001b[1;32m    261\u001b[0m             \u001b[0;32mif\u001b[0m \u001b[0mregister_asset\u001b[0m\u001b[0;34m:\u001b[0m\u001b[0;34m\u001b[0m\u001b[0;34m\u001b[0m\u001b[0m\n\u001b[0;32m--> 262\u001b[0;31m                 \u001b[0;32mreturn\u001b[0m \u001b[0mself\u001b[0m\u001b[0;34m.\u001b[0m\u001b[0m_model\u001b[0m\u001b[0;34m.\u001b[0m\u001b[0mcreate_or_update\u001b[0m\u001b[0;34m(\u001b[0m\u001b[0mmodel\u001b[0m\u001b[0;34m)\u001b[0m\u001b[0;34m.\u001b[0m\u001b[0mid\u001b[0m\u001b[0;34m\u001b[0m\u001b[0;34m\u001b[0m\u001b[0m\n\u001b[0m\u001b[1;32m    263\u001b[0m             \u001b[0muploaded_model\u001b[0m\u001b[0;34m,\u001b[0m \u001b[0m_\u001b[0m \u001b[0;34m=\u001b[0m \u001b[0m_check_and_upload_path\u001b[0m\u001b[0;34m(\u001b[0m\u001b[0martifact\u001b[0m\u001b[0;34m=\u001b[0m\u001b[0mmodel\u001b[0m\u001b[0;34m,\u001b[0m \u001b[0masset_operations\u001b[0m\u001b[0;34m=\u001b[0m\u001b[0mself\u001b[0m\u001b[0;34m.\u001b[0m\u001b[0m_model\u001b[0m\u001b[0;34m)\u001b[0m\u001b[0;34m\u001b[0m\u001b[0;34m\u001b[0m\u001b[0m\n",
      "\u001b[0;32m~/miniconda3/lib/python3.8/site-packages/azure/ai/ml/_telemetry/activity.py\u001b[0m in \u001b[0;36mwrapper\u001b[0;34m(*args, **kwargs)\u001b[0m\n\u001b[1;32m    257\u001b[0m             \u001b[0;32mwith\u001b[0m \u001b[0mlog_activity\u001b[0m\u001b[0;34m(\u001b[0m\u001b[0mlogger\u001b[0m\u001b[0;34m,\u001b[0m \u001b[0mactivity_name\u001b[0m \u001b[0;32mor\u001b[0m \u001b[0mf\u001b[0m\u001b[0;34m.\u001b[0m\u001b[0m__name__\u001b[0m\u001b[0;34m,\u001b[0m \u001b[0mactivity_type\u001b[0m\u001b[0;34m,\u001b[0m \u001b[0mcustom_dimensions\u001b[0m\u001b[0;34m)\u001b[0m\u001b[0;34m:\u001b[0m\u001b[0;34m\u001b[0m\u001b[0;34m\u001b[0m\u001b[0m\n\u001b[0;32m--> 258\u001b[0;31m                 \u001b[0;32mreturn\u001b[0m \u001b[0mf\u001b[0m\u001b[0;34m(\u001b[0m\u001b[0;34m*\u001b[0m\u001b[0margs\u001b[0m\u001b[0;34m,\u001b[0m \u001b[0;34m**\u001b[0m\u001b[0mkwargs\u001b[0m\u001b[0;34m)\u001b[0m\u001b[0;34m\u001b[0m\u001b[0;34m\u001b[0m\u001b[0m\n\u001b[0m\u001b[1;32m    259\u001b[0m \u001b[0;34m\u001b[0m\u001b[0m\n",
      "\u001b[0;32m~/miniconda3/lib/python3.8/site-packages/azure/ai/ml/operations/_model_operations.py\u001b[0m in \u001b[0;36mcreate_or_update\u001b[0;34m(self, model)\u001b[0m\n\u001b[1;32m    143\u001b[0m             \u001b[0;32melse\u001b[0m\u001b[0;34m:\u001b[0m\u001b[0;34m\u001b[0m\u001b[0;34m\u001b[0m\u001b[0m\n\u001b[0;32m--> 144\u001b[0;31m                 \u001b[0;32mraise\u001b[0m \u001b[0me\u001b[0m\u001b[0;34m\u001b[0m\u001b[0;34m\u001b[0m\u001b[0m\n\u001b[0m\u001b[1;32m    145\u001b[0m \u001b[0;34m\u001b[0m\u001b[0m\n",
      "\u001b[0;32m~/miniconda3/lib/python3.8/site-packages/azure/ai/ml/operations/_model_operations.py\u001b[0m in \u001b[0;36mcreate_or_update\u001b[0;34m(self, model)\u001b[0m\n\u001b[1;32m    121\u001b[0m                     \u001b[0;32mif\u001b[0m \u001b[0mself\u001b[0m\u001b[0;34m.\u001b[0m\u001b[0m_registry_name\u001b[0m\u001b[0;34m\u001b[0m\u001b[0;34m\u001b[0m\u001b[0m\n\u001b[0;32m--> 122\u001b[0;31m                     else self._model_versions_operation.create_or_update(\n\u001b[0m\u001b[1;32m    123\u001b[0m                         \u001b[0mname\u001b[0m\u001b[0;34m=\u001b[0m\u001b[0mname\u001b[0m\u001b[0;34m,\u001b[0m\u001b[0;34m\u001b[0m\u001b[0;34m\u001b[0m\u001b[0m\n",
      "\u001b[0;32m~/miniconda3/lib/python3.8/site-packages/azure/core/tracing/decorator.py\u001b[0m in \u001b[0;36mwrapper_use_tracer\u001b[0;34m(*args, **kwargs)\u001b[0m\n\u001b[1;32m     77\u001b[0m             \u001b[0;32mif\u001b[0m \u001b[0mspan_impl_type\u001b[0m \u001b[0;32mis\u001b[0m \u001b[0;32mNone\u001b[0m\u001b[0;34m:\u001b[0m\u001b[0;34m\u001b[0m\u001b[0;34m\u001b[0m\u001b[0m\n\u001b[0;32m---> 78\u001b[0;31m                 \u001b[0;32mreturn\u001b[0m \u001b[0mfunc\u001b[0m\u001b[0;34m(\u001b[0m\u001b[0;34m*\u001b[0m\u001b[0margs\u001b[0m\u001b[0;34m,\u001b[0m \u001b[0;34m**\u001b[0m\u001b[0mkwargs\u001b[0m\u001b[0;34m)\u001b[0m\u001b[0;34m\u001b[0m\u001b[0;34m\u001b[0m\u001b[0m\n\u001b[0m\u001b[1;32m     79\u001b[0m \u001b[0;34m\u001b[0m\u001b[0m\n",
      "\u001b[0;32m~/miniconda3/lib/python3.8/site-packages/azure/ai/ml/_restclient/v2022_05_01/operations/_model_versions_operations.py\u001b[0m in \u001b[0;36mcreate_or_update\u001b[0;34m(self, resource_group_name, workspace_name, name, version, body, **kwargs)\u001b[0m\n\u001b[1;32m    565\u001b[0m             \u001b[0merror\u001b[0m \u001b[0;34m=\u001b[0m \u001b[0mself\u001b[0m\u001b[0;34m.\u001b[0m\u001b[0m_deserialize\u001b[0m\u001b[0;34m.\u001b[0m\u001b[0mfailsafe_deserialize\u001b[0m\u001b[0;34m(\u001b[0m\u001b[0m_models\u001b[0m\u001b[0;34m.\u001b[0m\u001b[0mErrorResponse\u001b[0m\u001b[0;34m,\u001b[0m \u001b[0mpipeline_response\u001b[0m\u001b[0;34m)\u001b[0m\u001b[0;34m\u001b[0m\u001b[0;34m\u001b[0m\u001b[0m\n\u001b[0;32m--> 566\u001b[0;31m             \u001b[0;32mraise\u001b[0m \u001b[0mHttpResponseError\u001b[0m\u001b[0;34m(\u001b[0m\u001b[0mresponse\u001b[0m\u001b[0;34m=\u001b[0m\u001b[0mresponse\u001b[0m\u001b[0;34m,\u001b[0m \u001b[0mmodel\u001b[0m\u001b[0;34m=\u001b[0m\u001b[0merror\u001b[0m\u001b[0;34m,\u001b[0m \u001b[0merror_format\u001b[0m\u001b[0;34m=\u001b[0m\u001b[0mARMErrorFormat\u001b[0m\u001b[0;34m)\u001b[0m\u001b[0;34m\u001b[0m\u001b[0;34m\u001b[0m\u001b[0m\n\u001b[0m\u001b[1;32m    567\u001b[0m \u001b[0;34m\u001b[0m\u001b[0m\n",
      "\u001b[0;31mHttpResponseError\u001b[0m: (UserError) Request is invalid and/or missing fields.\nCode: UserError\nMessage: Request is invalid and/or missing fields.\nException Details:\t(RequestInvalid) Error: Property: ModelUri does not match the regex: ^(azureml://subscriptions/([^/?]+)/resourceGroups/([^/?]+)/workspaces/([^/?]+)/datastores/([^/?]+)/paths/(.+)|azureml://jobs/([^/]+)/outputs/([^/]+)(.*)|runs:/([^/?]+)/(.+))$\n\tCode: RequestInvalid\n\tMessage: Error: Property: ModelUri does not match the regex: ^(azureml://subscriptions/([^/?]+)/resourceGroups/([^/?]+)/workspaces/([^/?]+)/datastores/([^/?]+)/paths/(.+)|azureml://jobs/([^/]+)/outputs/([^/]+)(.*)|runs:/([^/?]+)/(.+))$\nAdditional Information:Type: ComponentName\nInfo: {\n    \"value\": \"managementfrontend\"\n}Type: Correlation\nInfo: {\n    \"value\": {\n        \"operation\": \"5b04f4e67deb4d8b2c2ec9c9163168d3\",\n        \"request\": \"450893fe08ca7b93\"\n    }\n}Type: Environment\nInfo: {\n    \"value\": \"eastus\"\n}Type: Location\nInfo: {\n    \"value\": \"eastus\"\n}Type: Time\nInfo: {\n    \"value\": \"2022-09-13T21:40:12.2632158+00:00\"\n}Type: InnerError\nInfo: {\n    \"value\": {\n        \"code\": \"RequestInvalid\",\n        \"innerError\": null\n    }\n}Type: MessageFormat\nInfo: {\n    \"value\": \"Request is invalid and/or missing fields.\"\n}",
      "\nDuring handling of the above exception, another exception occurred:\n",
      "\u001b[0;31mModelException\u001b[0m                            Traceback (most recent call last)",
      "\u001b[0;32m/tmp/ipykernel_19299/1634949922.py\u001b[0m in \u001b[0;36m<module>\u001b[0;34m\u001b[0m\n\u001b[1;32m      9\u001b[0m     \u001b[0minstance_count\u001b[0m\u001b[0;34m=\u001b[0m\u001b[0;36m1\u001b[0m\u001b[0;34m\u001b[0m\u001b[0;34m\u001b[0m\u001b[0m\n\u001b[1;32m     10\u001b[0m )\n\u001b[0;32m---> 11\u001b[0;31m \u001b[0mml_client_workspace\u001b[0m\u001b[0;34m.\u001b[0m\u001b[0monline_deployments\u001b[0m\u001b[0;34m.\u001b[0m\u001b[0mbegin_create_or_update\u001b[0m\u001b[0;34m(\u001b[0m\u001b[0mdemo_deployment\u001b[0m\u001b[0;34m)\u001b[0m\u001b[0;34m\u001b[0m\u001b[0;34m\u001b[0m\u001b[0m\n\u001b[0m",
      "\u001b[0;32m~/miniconda3/lib/python3.8/site-packages/azure/ai/ml/_telemetry/activity.py\u001b[0m in \u001b[0;36mwrapper\u001b[0;34m(*args, **kwargs)\u001b[0m\n\u001b[1;32m    256\u001b[0m         \u001b[0;32mdef\u001b[0m \u001b[0mwrapper\u001b[0m\u001b[0;34m(\u001b[0m\u001b[0;34m*\u001b[0m\u001b[0margs\u001b[0m\u001b[0;34m,\u001b[0m \u001b[0;34m**\u001b[0m\u001b[0mkwargs\u001b[0m\u001b[0;34m)\u001b[0m\u001b[0;34m:\u001b[0m\u001b[0;34m\u001b[0m\u001b[0;34m\u001b[0m\u001b[0m\n\u001b[1;32m    257\u001b[0m             \u001b[0;32mwith\u001b[0m \u001b[0mlog_activity\u001b[0m\u001b[0;34m(\u001b[0m\u001b[0mlogger\u001b[0m\u001b[0;34m,\u001b[0m \u001b[0mactivity_name\u001b[0m \u001b[0;32mor\u001b[0m \u001b[0mf\u001b[0m\u001b[0;34m.\u001b[0m\u001b[0m__name__\u001b[0m\u001b[0;34m,\u001b[0m \u001b[0mactivity_type\u001b[0m\u001b[0;34m,\u001b[0m \u001b[0mcustom_dimensions\u001b[0m\u001b[0;34m)\u001b[0m\u001b[0;34m:\u001b[0m\u001b[0;34m\u001b[0m\u001b[0;34m\u001b[0m\u001b[0m\n\u001b[0;32m--> 258\u001b[0;31m                 \u001b[0;32mreturn\u001b[0m \u001b[0mf\u001b[0m\u001b[0;34m(\u001b[0m\u001b[0;34m*\u001b[0m\u001b[0margs\u001b[0m\u001b[0;34m,\u001b[0m \u001b[0;34m**\u001b[0m\u001b[0mkwargs\u001b[0m\u001b[0;34m)\u001b[0m\u001b[0;34m\u001b[0m\u001b[0;34m\u001b[0m\u001b[0m\n\u001b[0m\u001b[1;32m    259\u001b[0m \u001b[0;34m\u001b[0m\u001b[0m\n\u001b[1;32m    260\u001b[0m         \u001b[0;32mreturn\u001b[0m \u001b[0mwrapper\u001b[0m\u001b[0;34m\u001b[0m\u001b[0;34m\u001b[0m\u001b[0m\n",
      "\u001b[0;32m~/miniconda3/lib/python3.8/site-packages/azure/ai/ml/operations/_online_deployment_operations.py\u001b[0m in \u001b[0;36mbegin_create_or_update\u001b[0;34m(self, deployment, local, vscode_debug, no_wait)\u001b[0m\n\u001b[1;32m    110\u001b[0m         )\n\u001b[1;32m    111\u001b[0m \u001b[0;34m\u001b[0m\u001b[0m\n\u001b[0;32m--> 112\u001b[0;31m         \u001b[0mupload_dependencies\u001b[0m\u001b[0;34m(\u001b[0m\u001b[0mdeployment\u001b[0m\u001b[0;34m,\u001b[0m \u001b[0morchestrators\u001b[0m\u001b[0;34m)\u001b[0m\u001b[0;34m\u001b[0m\u001b[0;34m\u001b[0m\u001b[0m\n\u001b[0m\u001b[1;32m    113\u001b[0m         \u001b[0;32mtry\u001b[0m\u001b[0;34m:\u001b[0m\u001b[0;34m\u001b[0m\u001b[0;34m\u001b[0m\u001b[0m\n\u001b[1;32m    114\u001b[0m             \u001b[0mlocation\u001b[0m \u001b[0;34m=\u001b[0m \u001b[0mself\u001b[0m\u001b[0;34m.\u001b[0m\u001b[0m_get_workspace_location\u001b[0m\u001b[0;34m(\u001b[0m\u001b[0;34m)\u001b[0m\u001b[0;34m\u001b[0m\u001b[0;34m\u001b[0m\u001b[0m\n",
      "\u001b[0;32m~/miniconda3/lib/python3.8/site-packages/azure/ai/ml/_utils/_endpoint_utils.py\u001b[0m in \u001b[0;36mupload_dependencies\u001b[0;34m(deployment, orchestrators)\u001b[0m\n\u001b[1;32m    157\u001b[0m     \u001b[0;32mif\u001b[0m \u001b[0;32mnot\u001b[0m \u001b[0mis_registry_id_for_resource\u001b[0m\u001b[0;34m(\u001b[0m\u001b[0mdeployment\u001b[0m\u001b[0;34m.\u001b[0m\u001b[0mmodel\u001b[0m\u001b[0;34m)\u001b[0m\u001b[0;34m:\u001b[0m\u001b[0;34m\u001b[0m\u001b[0;34m\u001b[0m\u001b[0m\n\u001b[1;32m    158\u001b[0m         deployment.model = (\n\u001b[0;32m--> 159\u001b[0;31m             \u001b[0morchestrators\u001b[0m\u001b[0;34m.\u001b[0m\u001b[0mget_asset_arm_id\u001b[0m\u001b[0;34m(\u001b[0m\u001b[0mdeployment\u001b[0m\u001b[0;34m.\u001b[0m\u001b[0mmodel\u001b[0m\u001b[0;34m,\u001b[0m \u001b[0mazureml_type\u001b[0m\u001b[0;34m=\u001b[0m\u001b[0mAzureMLResourceType\u001b[0m\u001b[0;34m.\u001b[0m\u001b[0mMODEL\u001b[0m\u001b[0;34m)\u001b[0m\u001b[0;34m\u001b[0m\u001b[0;34m\u001b[0m\u001b[0m\n\u001b[0m\u001b[1;32m    160\u001b[0m             \u001b[0;32mif\u001b[0m \u001b[0mdeployment\u001b[0m\u001b[0;34m.\u001b[0m\u001b[0mmodel\u001b[0m\u001b[0;34m\u001b[0m\u001b[0;34m\u001b[0m\u001b[0m\n\u001b[1;32m    161\u001b[0m             \u001b[0;32melse\u001b[0m \u001b[0;32mNone\u001b[0m\u001b[0;34m\u001b[0m\u001b[0;34m\u001b[0m\u001b[0m\n",
      "\u001b[0;32m~/miniconda3/lib/python3.8/site-packages/azure/ai/ml/operations/_operation_orchestrator.py\u001b[0m in \u001b[0;36mget_asset_arm_id\u001b[0;34m(self, asset, azureml_type, register_asset, sub_workspace_resource)\u001b[0m\n\u001b[1;32m    187\u001b[0m                     \u001b[0mresult\u001b[0m \u001b[0;34m=\u001b[0m \u001b[0mself\u001b[0m\u001b[0;34m.\u001b[0m\u001b[0m_get_environment_arm_id\u001b[0m\u001b[0;34m(\u001b[0m\u001b[0masset\u001b[0m\u001b[0;34m,\u001b[0m \u001b[0mregister_asset\u001b[0m\u001b[0;34m=\u001b[0m\u001b[0mregister_asset\u001b[0m\u001b[0;34m)\u001b[0m\u001b[0;34m\u001b[0m\u001b[0;34m\u001b[0m\u001b[0m\n\u001b[1;32m    188\u001b[0m                 \u001b[0;32melif\u001b[0m \u001b[0mazureml_type\u001b[0m \u001b[0;34m==\u001b[0m \u001b[0mAzureMLResourceType\u001b[0m\u001b[0;34m.\u001b[0m\u001b[0mMODEL\u001b[0m \u001b[0;32mand\u001b[0m \u001b[0misinstance\u001b[0m\u001b[0;34m(\u001b[0m\u001b[0masset\u001b[0m\u001b[0;34m,\u001b[0m \u001b[0mModel\u001b[0m\u001b[0;34m)\u001b[0m\u001b[0;34m:\u001b[0m\u001b[0;34m\u001b[0m\u001b[0;34m\u001b[0m\u001b[0m\n\u001b[0;32m--> 189\u001b[0;31m                     \u001b[0mresult\u001b[0m \u001b[0;34m=\u001b[0m \u001b[0mself\u001b[0m\u001b[0;34m.\u001b[0m\u001b[0m_get_model_arm_id\u001b[0m\u001b[0;34m(\u001b[0m\u001b[0masset\u001b[0m\u001b[0;34m,\u001b[0m \u001b[0mregister_asset\u001b[0m\u001b[0;34m=\u001b[0m\u001b[0mregister_asset\u001b[0m\u001b[0;34m)\u001b[0m\u001b[0;34m\u001b[0m\u001b[0;34m\u001b[0m\u001b[0m\n\u001b[0m\u001b[1;32m    190\u001b[0m                 \u001b[0;32melif\u001b[0m \u001b[0mazureml_type\u001b[0m \u001b[0;34m==\u001b[0m \u001b[0mAzureMLResourceType\u001b[0m\u001b[0;34m.\u001b[0m\u001b[0mDATA\u001b[0m \u001b[0;32mand\u001b[0m \u001b[0misinstance\u001b[0m\u001b[0;34m(\u001b[0m\u001b[0masset\u001b[0m\u001b[0;34m,\u001b[0m \u001b[0mData\u001b[0m\u001b[0;34m)\u001b[0m\u001b[0;34m:\u001b[0m\u001b[0;34m\u001b[0m\u001b[0;34m\u001b[0m\u001b[0m\n\u001b[1;32m    191\u001b[0m                     \u001b[0mresult\u001b[0m \u001b[0;34m=\u001b[0m \u001b[0mself\u001b[0m\u001b[0;34m.\u001b[0m\u001b[0m_get_data_arm_id\u001b[0m\u001b[0;34m(\u001b[0m\u001b[0masset\u001b[0m\u001b[0;34m,\u001b[0m \u001b[0mregister_asset\u001b[0m\u001b[0;34m=\u001b[0m\u001b[0mregister_asset\u001b[0m\u001b[0;34m)\u001b[0m\u001b[0;34m\u001b[0m\u001b[0;34m\u001b[0m\u001b[0m\n",
      "\u001b[0;32m~/miniconda3/lib/python3.8/site-packages/azure/ai/ml/operations/_operation_orchestrator.py\u001b[0m in \u001b[0;36m_get_model_arm_id\u001b[0;34m(self, model, register_asset)\u001b[0m\n\u001b[1;32m    270\u001b[0m             \u001b[0;32mreturn\u001b[0m \u001b[0muploaded_model\u001b[0m\u001b[0;34m\u001b[0m\u001b[0;34m\u001b[0m\u001b[0m\n\u001b[1;32m    271\u001b[0m         \u001b[0;32mexcept\u001b[0m \u001b[0mException\u001b[0m \u001b[0;32mas\u001b[0m \u001b[0me\u001b[0m\u001b[0;34m:\u001b[0m\u001b[0;34m\u001b[0m\u001b[0;34m\u001b[0m\u001b[0m\n\u001b[0;32m--> 272\u001b[0;31m             raise ModelException(\n\u001b[0m\u001b[1;32m    273\u001b[0m                 \u001b[0mmessage\u001b[0m\u001b[0;34m=\u001b[0m\u001b[0;34mf\"Error with model: {e}\"\u001b[0m\u001b[0;34m,\u001b[0m\u001b[0;34m\u001b[0m\u001b[0;34m\u001b[0m\u001b[0m\n\u001b[1;32m    274\u001b[0m                 \u001b[0mtarget\u001b[0m\u001b[0;34m=\u001b[0m\u001b[0mErrorTarget\u001b[0m\u001b[0;34m.\u001b[0m\u001b[0mMODEL\u001b[0m\u001b[0;34m,\u001b[0m\u001b[0;34m\u001b[0m\u001b[0;34m\u001b[0m\u001b[0m\n",
      "\u001b[0;31mModelException\u001b[0m: Error with model: (UserError) Request is invalid and/or missing fields.\nCode: UserError\nMessage: Request is invalid and/or missing fields.\nException Details:\t(RequestInvalid) Error: Property: ModelUri does not match the regex: ^(azureml://subscriptions/([^/?]+)/resourceGroups/([^/?]+)/workspaces/([^/?]+)/datastores/([^/?]+)/paths/(.+)|azureml://jobs/([^/]+)/outputs/([^/]+)(.*)|runs:/([^/?]+)/(.+))$\n\tCode: RequestInvalid\n\tMessage: Error: Property: ModelUri does not match the regex: ^(azureml://subscriptions/([^/?]+)/resourceGroups/([^/?]+)/workspaces/([^/?]+)/datastores/([^/?]+)/paths/(.+)|azureml://jobs/([^/]+)/outputs/([^/]+)(.*)|runs:/([^/?]+)/(.+))$\nAdditional Information:Type: ComponentName\nInfo: {\n    \"value\": \"managementfrontend\"\n}Type: Correlation\nInfo: {\n    \"value\": {\n        \"operation\": \"5b04f4e67deb4d8b2c2ec9c9163168d3\",\n        \"request\": \"450893fe08ca7b93\"\n    }\n}Type: Environment\nInfo: {\n    \"value\": \"eastus\"\n}Type: Location\nInfo: {\n    \"value\": \"eastus\"\n}Type: Time\nInfo: {\n    \"value\": \"2022-09-13T21:40:12.2632158+00:00\"\n}Type: InnerError\nInfo: {\n    \"value\": {\n        \"code\": \"RequestInvalid\",\n        \"innerError\": null\n    }\n}Type: MessageFormat\nInfo: {\n    \"value\": \"Request is invalid and/or missing fields.\"\n}"
     ]
    }
   ],
   "source": [
    "# create a blue deployment\n",
    "demo_deployment = ManagedOnlineDeployment(\n",
    "    name=\"demo\",\n",
    "    endpoint_name=online_endpoint_name,\n",
    "    model=mlflow_model_from_registry,\n",
    "    instance_type=\"Standard_F4s_v2\",\n",
    "    instance_count=1\n",
    ")\n",
    "ml_client_workspace.online_deployments.begin_create_or_update(demo_deployment)\n"
   ]
  },
  {
   "cell_type": "code",
   "execution_count": null,
   "metadata": {},
   "outputs": [],
   "source": []
  }
 ],
 "metadata": {
  "kernelspec": {
   "display_name": "Python 3.8.10 ('base')",
   "language": "python",
   "name": "python3"
  },
  "language_info": {
   "codemirror_mode": {
    "name": "ipython",
    "version": 3
   },
   "file_extension": ".py",
   "mimetype": "text/x-python",
   "name": "python",
   "nbconvert_exporter": "python",
   "pygments_lexer": "ipython3",
   "version": "3.8.10"
  },
  "orig_nbformat": 4,
  "vscode": {
   "interpreter": {
    "hash": "2f394aca7ca06fed1e6064aef884364492d7cdda3614a461e02e6407fc40ba69"
   }
  }
 },
 "nbformat": 4,
 "nbformat_minor": 2
}
