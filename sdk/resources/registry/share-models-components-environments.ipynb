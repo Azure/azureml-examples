{
 "cells": [
  {
   "cell_type": "markdown",
   "metadata": {},
   "source": [
    "\n",
    "## Scenarios for sharing models, environments and components\n",
    "\n",
    "There are two scenarios where you'd want to use the same set of models, components and environments in multiple workspaces. First is cross-workspace MLOps. You are trining a model in a dev workspace and need to deploy it to test and prod workspaces. In this case you want to have end-to-end lineage between endpoints to which the model is deployed in test or prod workspaces and the training job, metrics, code, data and environment that was used to train the model in the dev workspace. Second is to share and reuse models and pipelines across different teams in your organization that in turn improves collaboration and productivity. In this scenario, you may want to publish a trained model and the associated components and environments used to train the model to a central catalog where colleagues from other teams and search and reuse assets shared by you in their experiments. You will learn how to create models, components and environments in a Azure Machine Learning registry and use them in any workspace within your organization."
   ]
  },
  {
   "cell_type": "code",
   "execution_count": null,
   "metadata": {},
   "outputs": [],
   "source": [
    "pre-req, goals - todo"
   ]
  },
  {
   "cell_type": "code",
   "execution_count": null,
   "metadata": {},
   "outputs": [],
   "source": [
    "# Import required libraries\n",
    "from azure.identity import DefaultAzureCredential, InteractiveBrowserCredential\n",
    "\n",
    "from azure.ai.ml import MLClient, Input, Output\n",
    "from azure.ai.ml.dsl import pipeline\n",
    "from azure.ai.ml import load_component\n",
    "from azure.ai.ml.entities import Environment, BuildContext\n",
    "\n",
    "!pip show azure-ai-ml"
   ]
  },
  {
   "cell_type": "code",
   "execution_count": null,
   "metadata": {},
   "outputs": [],
   "source": [
    "try:\n",
    "    credential = DefaultAzureCredential()\n",
    "    # Check if given credential can get token successfully.\n",
    "    credential.get_token(\"https://management.azure.com/.default\")\n",
    "except Exception as ex:\n",
    "    # Fall back to InteractiveBrowserCredential in case DefaultAzureCredential not work\n",
    "    credential = InteractiveBrowserCredential()"
   ]
  },
  {
   "cell_type": "markdown",
   "metadata": {},
   "source": [
    "## Connect to a workspace and registry\n",
    "\n",
    "If you do not have a workspace, refer to this notebook to create a workspace: [](../workspace/workspace.ipynb)\n",
    "If you do not have a registry, refer to this notebook to create a registry: todo\n",
    "\n",
    "We will initialize two clients, one to connect to workspace and other connect to registry"
   ]
  },
  {
   "cell_type": "code",
   "execution_count": null,
   "metadata": {},
   "outputs": [],
   "source": [
    "ml_client_workspace = MLClient( credential=credential,\n",
    "    subscription_id = \"21d8f407-c4c4-452e-87a4-e609bfb86248\",\n",
    "    resource_group_name = \"rg-contoso-819prod\",\n",
    "    workspace_name = \"mlw-contoso-819prod\")\n",
    "print(ml_client_workspace)\n",
    "\n",
    "ml_client_registry = MLClient ( credential=credential,\n",
    "        subscription_id = \"ea4faa5b-5e44-4236-91f6-5483d5b17d14\",\n",
    "        resource_group_name = \"bug-bash-rg1\",\n",
    "        registry_name = \"ContosoMLjun14\")\n",
    "print(ml_client_registry)\n",
    "\n"
   ]
  },
  {
   "cell_type": "markdown",
   "metadata": {},
   "source": [
    "### Create environment in registry"
   ]
  },
  {
   "cell_type": "code",
   "execution_count": 61,
   "metadata": {},
   "outputs": [
    {
     "data": {
      "text/plain": [
       "Environment({'is_anonymous': False, 'auto_increment_version': False, 'name': 'SKLearnEnv', 'description': 'Scikit Learn environment', 'tags': {}, 'properties': {}, 'id': 'azureml://registries/ContosoMLjun14/environments/SKLearnEnv/versions/1', 'Resource__source_path': None, 'base_path': '/mnt/c/CODE/REPOS/azureml-examples/sdk/resources/registry', 'creation_context': <azure.ai.ml._restclient.v2021_10_01_dataplanepreview.models._models_py3.SystemData object at 0x7ff2b4184580>, 'serialize': <msrest.serialization.Serializer object at 0x7ff2b4196d00>, 'version': '1', 'latest_version': None, 'conda_file': None, 'image': 'mlregcsix4.azurecr.io/sklearnenv_1_89f98d1d-9796-59d4-8ffb-5985ab0a2237', 'build': None, 'inference_config': None, 'os_type': 'Linux', 'arm_type': 'environment_version', 'conda_file_path': None, 'path': None, 'upload_hash': None, 'translated_conda_file': None})"
      ]
     },
     "execution_count": 61,
     "metadata": {},
     "output_type": "execute_result"
    }
   ],
   "source": [
    "env_docker_context = Environment(\n",
    "    build=BuildContext(path=\"../../../cli/jobs/pipelines-with-components/nyc_taxi_data_regression/env_train/\"),\n",
    "    name=\"SKLearnEnv\",\n",
    "    version=str(1),\n",
    "    description=\"Scikit Learn environment\",\n",
    ")\n",
    "ml_client_registry.environments.create_or_update(env_docker_context)"
   ]
  },
  {
   "cell_type": "markdown",
   "metadata": {},
   "source": [
    "### Fetch environment from registry"
   ]
  },
  {
   "cell_type": "code",
   "execution_count": null,
   "metadata": {},
   "outputs": [],
   "source": [
    "env_from_registry = ml_client_registry.environments.get(name=\"SKLearnEnv\", version=str(1))\n",
    "print(env_from_registry)"
   ]
  },
  {
   "cell_type": "markdown",
   "metadata": {},
   "source": [
    "### Create component in registry\n",
    "\n",
    "We will use the component YAMLs defined in `cli/jobs/pipelines-with-components/nyc_taxi_data_regression` for this. "
   ]
  },
  {
   "cell_type": "markdown",
   "metadata": {},
   "source": [
    "Load the component from YAML"
   ]
  },
  {
   "cell_type": "code",
   "execution_count": null,
   "metadata": {},
   "outputs": [],
   "source": [
    "parent_dir = \"../../../cli/jobs/pipelines-with-components/nyc_taxi_data_regression\"\n",
    "train_model = load_component(path=parent_dir + \"/train.yml\")\n",
    "# print the component as yaml\n",
    "print(train_model)"
   ]
  },
  {
   "cell_type": "markdown",
   "metadata": {},
   "source": [
    "## 2.2 Create components in registry\n",
    "\n",
    "Note that we use the `ml_client_registry` handle becuase we plan to create components in registry. Creating the components in Registry allows us to use these components in many workspaces. \n",
    "\n",
    "A similar sample notebook shows how to create these components in workspaces instead of registry, in which case you can use those components only in the specific workspace: https://github.com/Azure/azureml-examples/blob/main/sdk/jobs/pipelines/1e_pipeline_with_registered_components/pipeline_with_registered_components.ipynb\n",
    "\n",
    "We are using a dynamic version number so that there is no conflict with versions that already exist. \n",
    "\n",
    "We are also using the environment created in the previous section instead of using the curated environment in the original `train.yml`\n"
   ]
  },
  {
   "cell_type": "code",
   "execution_count": null,
   "metadata": {},
   "outputs": [],
   "source": [
    "# get or create component\n",
    "\n",
    "# dynamic version number based on epoch time\n",
    "import time\n",
    "version_timestamp = str(int(time.time()))\n",
    "print(version_timestamp)\n",
    "\n",
    "#train_model.environment=\"azureml://registries/ContosoMLjun14/environments/SKLearnEnv/versions/1\"\n",
    "train_model.environment=env_from_registry\n",
    "train_model.version=version_timestamp\n",
    "\n",
    "#kwargs_version = {\"version\": version_timestamp }\n",
    "\n",
    "ml_client_registry.components.create_or_update(train_model)\n",
    "print(train_model)\n"
   ]
  },
  {
   "cell_type": "markdown",
   "metadata": {},
   "source": [
    "### Fetch component from Registry"
   ]
  },
  {
   "cell_type": "code",
   "execution_count": null,
   "metadata": {},
   "outputs": [],
   "source": [
    "train_component_from_registry = ml_client_registry.components.get(name=\"train_linear_regression_model\", version=str(1))\n",
    "print(train_component_from_registry)"
   ]
  },
  {
   "cell_type": "markdown",
   "metadata": {},
   "source": [
    "## Create a pipeline job\n"
   ]
  },
  {
   "cell_type": "code",
   "execution_count": null,
   "metadata": {},
   "outputs": [],
   "source": [
    "@pipeline()\n",
    "def pipeline_with_registered_components(\n",
    "    training_data\n",
    "):\n",
    "    train_job = train_component_from_registry(\n",
    "        training_data=training_data,\n",
    "    )\n",
    "pipeline_job = pipeline_with_registered_components(\n",
    "    training_data=Input(type=\"uri_folder\", path=parent_dir + \"/data_transformed/\"),\n",
    ")\n",
    "pipeline_job.settings.default_compute = \"cpu-cluster\"\n",
    "print(pipeline_job)"
   ]
  },
  {
   "cell_type": "markdown",
   "metadata": {},
   "source": [
    "### Submit pipeline job\n",
    "\n",
    "Submit pipeline job and wait for it to complete\n"
   ]
  },
  {
   "cell_type": "code",
   "execution_count": null,
   "metadata": {},
   "outputs": [],
   "source": [
    "pipeline_job = ml_client_workspace.jobs.create_or_update(\n",
    "    pipeline_job, experiment_name=\"sdk_job_component_from_registry\" ,  skip_validation=True\n",
    ")\n",
    "ml_client_workspace.jobs.stream(pipeline_job.name)\n",
    "pipeline_job=ml_client_workspace.jobs.get(pipeline_job.name)\n",
    "pipeline_job"
   ]
  },
  {
   "cell_type": "markdown",
   "metadata": {},
   "source": [
    "## Create model in registry"
   ]
  },
  {
   "cell_type": "markdown",
   "metadata": {},
   "source": [
    "### Option 1: Create model in registry from local files\n",
    "\n"
   ]
  },
  {
   "cell_type": "markdown",
   "metadata": {},
   "source": [
    "### Download the model from the output of training job"
   ]
  },
  {
   "cell_type": "code",
   "execution_count": null,
   "metadata": {},
   "outputs": [],
   "source": [
    "jobs=ml_client_workspace.jobs.list(parent_job_name=pipeline_job.name)\n",
    "for job in jobs:\n",
    "    if (job.display_name == \"train_job\"):\n",
    "        print (job.name)\n",
    "        ml_client_workspace.jobs.download(job.name)"
   ]
  },
  {
   "cell_type": "markdown",
   "metadata": {},
   "source": [
    "### Create model from local files\n",
    "\n"
   ]
  },
  {
   "cell_type": "code",
   "execution_count": null,
   "metadata": {},
   "outputs": [],
   "source": [
    "from azure.ai.ml.entities import Model\n",
    "from azure.ai.ml.constants import AssetTypes\n",
    "import time\n",
    "mlflow_model = Model(\n",
    "    path=\"./artifacts/model/\",\n",
    "    type=AssetTypes.MLFLOW_MODEL,\n",
    "    name=\"nyc-taxi-model\",\n",
    "    version=str(1), # use str(int(time.time())) if you want a random model number\n",
    "    description=\"MLflow model created from local path\",\n",
    ")\n",
    "ml_client_registry.model.create_or_update(mlflow_model)"
   ]
  },
  {
   "cell_type": "markdown",
   "metadata": {},
   "source": [
    "### Option 2: Copy model from workspace to registry"
   ]
  },
  {
   "cell_type": "markdown",
   "metadata": {},
   "source": [
    "Get the job name of train_job and build the path pointing to model output "
   ]
  },
  {
   "cell_type": "code",
   "execution_count": null,
   "metadata": {},
   "outputs": [],
   "source": [
    "jobs=ml_client_workspace.jobs.list(parent_job_name=pipeline_job.name)\n",
    "for job in jobs:\n",
    "    if (job.display_name == \"train_job\"):\n",
    "        print (job.name)\n",
    "        model_path_from_job=\"azureml://jobs/{job_name}/outputs/default/model\".format(job_name=job.name)\n",
    "\n",
    "print(model_path_from_job)\n",
    "     "
   ]
  },
  {
   "cell_type": "markdown",
   "metadata": {},
   "source": [
    "### Create model in workspace from job output"
   ]
  },
  {
   "cell_type": "code",
   "execution_count": null,
   "metadata": {},
   "outputs": [],
   "source": [
    "from azure.ai.ml.entities import Model\n",
    "from azure.ai.ml.constants import AssetTypes\n",
    "import time\n",
    "version_timestamp = str(int(time.time()))\n",
    "print(version_timestamp)\n",
    "\n",
    "mlflow_model = Model(\n",
    "    path=model_path_from_job,\n",
    "    type=AssetTypes.MLFLOW_MODEL,\n",
    "    name=\"nyc-taxi-model\",\n",
    "    version=version_timestamp,\n",
    "    description=\"MLflow model created from job output\",\n",
    ")\n",
    "ml_client_workspace.create_or_update(mlflow_model)"
   ]
  },
  {
   "cell_type": "markdown",
   "metadata": {},
   "source": [
    "## Copy a model from workspace to registry"
   ]
  },
  {
   "cell_type": "code",
   "execution_count": null,
   "metadata": {},
   "outputs": [],
   "source": [
    "\n",
    "#model_path_from_workspace=\"azureml://subscriptions/<subscription-id-of-workspace>/resourceGroups/<resource-group-of-workspace>/workspaces/<workspace-name>/models/<model-name>/versions/<model-version>\n",
    "\n",
    "model_path_from_workspace=\"azureml://subscriptions/21d8f407-c4c4-452e-87a4-e609bfb86248/resourceGroups/rg-contoso-819prod/workspaces/mlw-contoso-819prod/models/nyc-taxi-model/versions/1663099093\"\n",
    "\n",
    "print(model_path_from_workspace)\n",
    "\n",
    "mlflow_model = Model(\n",
    "    path=model_path_from_workspace,\n",
    "#    type=AssetTypes.MLFLOW_MODEL,\n",
    "#    name=\"nyc-taxi-model\",\n",
    "#    version=version_timestamp,\n",
    "#    description=\"MLflow model created from job output\",\n",
    ")\n",
    "ml_client_registry.create_or_update(mlflow_model)\n",
    "     "
   ]
  },
  {
   "cell_type": "markdown",
   "metadata": {},
   "source": [
    "### Deploy model from registry to online endpoint in workspace"
   ]
  },
  {
   "cell_type": "markdown",
   "metadata": {},
   "source": [
    "### Get model from registry"
   ]
  },
  {
   "cell_type": "code",
   "execution_count": null,
   "metadata": {},
   "outputs": [],
   "source": [
    "mlflow_model_from_registry = ml_client_registry.models.get(name=\"nyc-taxi-model\", version=str(1))\n",
    "print(mlflow_model_from_registry)"
   ]
  },
  {
   "cell_type": "markdown",
   "metadata": {},
   "source": [
    "### Create an online endpoint "
   ]
  },
  {
   "cell_type": "code",
   "execution_count": null,
   "metadata": {},
   "outputs": [],
   "source": [
    "import datetime\n",
    "\n",
    "from azure.ai.ml.entities import (\n",
    "    ManagedOnlineEndpoint,\n",
    "    ManagedOnlineDeployment,\n",
    "    Model,\n",
    "    Environment,\n",
    "    CodeConfiguration,\n",
    ")\n",
    "\n",
    "online_endpoint_name = \"endpoint-\" + datetime.datetime.now().strftime(\"%m%d%H%M%f\")\n",
    "\n",
    "# create an online endpoint\n",
    "endpoint = ManagedOnlineEndpoint(\n",
    "    name=online_endpoint_name,\n",
    "    description=\"this is a sample online endpoint for mlflow model\",\n",
    "    auth_mode=\"key\"\n",
    ")\n",
    "ml_client_workspace.begin_create_or_update(endpoint)"
   ]
  },
  {
   "cell_type": "markdown",
   "metadata": {},
   "source": [
    "### Deploy the model from registry to the online endpoint"
   ]
  },
  {
   "cell_type": "code",
   "execution_count": null,
   "metadata": {},
   "outputs": [],
   "source": [
    "# create a demo deployment\n",
    "demo_deployment = ManagedOnlineDeployment(\n",
    "    name=\"demo\",\n",
    "    endpoint_name=online_endpoint_name,\n",
    "    model=mlflow_model_from_registry,\n",
    "    instance_type=\"Standard_F4s_v2\",\n",
    "    instance_count=1\n",
    ")\n",
    "ml_client_workspace.online_deployments.begin_create_or_update(demo_deployment)\n",
    "\n",
    "endpoint.traffic = {\"demo\": 100}\n",
    "ml_client_workspace.begin_create_or_update(endpoint)\n"
   ]
  },
  {
   "cell_type": "markdown",
   "metadata": {},
   "source": [
    "### Test the deployment"
   ]
  },
  {
   "cell_type": "code",
   "execution_count": null,
   "metadata": {},
   "outputs": [],
   "source": [
    "# test the  deployment with some sample data\n",
    "ml_client_workspace.online_endpoints.invoke(\n",
    "    endpoint_name=online_endpoint_name,\n",
    "    deployment_name=\"demo\",\n",
    "    request_file=parent_dir + \"/scoring-data.json\"\n",
    ")"
   ]
  },
  {
   "cell_type": "markdown",
   "metadata": {},
   "source": [
    "### Clean up resources - delete online endpoint and registry"
   ]
  },
  {
   "cell_type": "code",
   "execution_count": null,
   "metadata": {},
   "outputs": [],
   "source": [
    "ml_client_workspace.online_endpoints.begin_delete(name=online_endpoint_name)"
   ]
  }
 ],
 "metadata": {
  "kernelspec": {
   "display_name": "Python 3.8.10 ('base')",
   "language": "python",
   "name": "python3"
  },
  "language_info": {
   "codemirror_mode": {
    "name": "ipython",
    "version": 3
   },
   "file_extension": ".py",
   "mimetype": "text/x-python",
   "name": "python",
   "nbconvert_exporter": "python",
   "pygments_lexer": "ipython3",
   "version": "3.8.10"
  },
  "orig_nbformat": 4,
  "vscode": {
   "interpreter": {
    "hash": "2f394aca7ca06fed1e6064aef884364492d7cdda3614a461e02e6407fc40ba69"
   }
  }
 },
 "nbformat": 4,
 "nbformat_minor": 2
}
