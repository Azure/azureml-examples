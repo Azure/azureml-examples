{
 "cells": [
  {
   "cell_type": "markdown",
   "metadata": {},
   "source": [
    "# Create Azure Machine Learning Compute\n",
    "\n",
    "**Requirements** - In order to benefit from this tutorial, you will need:\n",
    "- A basic understanding of Machine Learning\n",
    "- An Azure account with an active subscription. [Create an account for free](https://azure.microsoft.com/free/?WT.mc_id=A261C142F)\n",
    "- An Azure ML workspace with computer cluster - [Configure workspace](../../jobs/configuration.ipynb) \n",
    "- A python environment\n",
    "- Installed Azure Machine Learning Python SDK v2 - [install instructions](../../README.md) - check the getting started section\n",
    "\n",
    "**Learning Objectives** - By the end of this tutorial, you should be able to:\n",
    "- Create Azure Machine Learning Compute Instance from Python SDK\n",
    "- Create Azure Machine Learning Compute Cluster from Python SDK\n",
    "\n",
    "**Motivations** - Azure Machine Learning needs compute to run tasks. This tutorial will introduce you to create compute for machine learning"
   ]
  },
  {
   "cell_type": "markdown",
   "metadata": {},
   "source": [
    "# 1. Connect to Azure Machine Learning Workspace\n",
    "\n",
    "The [workspace](https://docs.microsoft.com/en-us/azure/machine-learning/concept-workspace) is the top-level resource for Azure Machine Learning, providing a centralized place to work with all the artifacts you create when you use Azure Machine Learning. In this section we will connect to the workspace in which the compute will be created.\n",
    "\n",
    "## 1.1. Import the required libraries"
   ]
  },
  {
   "cell_type": "code",
   "execution_count": 19,
   "metadata": {},
   "outputs": [],
   "source": [
    "# import required libraries\n",
    "from azure.ai.ml import MLClient\n",
    "from azure.ai.ml.entities import ComputeInstance, AmlCompute\n",
    "from azure.identity import DefaultAzureCredential\n",
    "import time"
   ]
  },
  {
   "cell_type": "markdown",
   "metadata": {},
   "source": [
    "## 1.2. Configure workspace details and get a handle to the workspace\n",
    "\n",
    "To connect to a workspace, we need identifier parameters - a subscription, resource group and workspace name. We will use these details in the `MLClient` from `azure.ai.ml` to get a handle to the required Azure Machine Learning workspace. We use the default [default azure authentication](https://docs.microsoft.com/en-us/python/api/azure-identity/azure.identity.defaultazurecredential?view=azure-python) for this tutorial. Check the [configuration notebook](../../jobs/configuration.ipynb) for more details on how to configure credentials and connect to a workspace."
   ]
  },
  {
   "cell_type": "code",
   "execution_count": 20,
   "metadata": {},
   "outputs": [],
   "source": [
    "# Enter details of your AML workspace\n",
    "subscription_id = \"<SUBSCRIPTION_ID>\"\n",
    "resource_group = \"<RESOURCE_GROUP>\"\n",
    "workspace = \"<AML_WORKSPACE_NAME>\""
   ]
  },
  {
   "cell_type": "code",
   "execution_count": 21,
   "metadata": {},
   "outputs": [],
   "source": [
    "# get a handle to the workspace\n",
    "ml_client = MLClient(\n",
    "    DefaultAzureCredential(), subscription_id, resource_group, workspace\n",
    ")"
   ]
  },
  {
   "cell_type": "markdown",
   "metadata": {},
   "source": [
    "# 2 Create Compute Instance\n",
    "An Azure Machine Learning [compute instance](https://docs.microsoft.com/en-us/azure/machine-learning/concept-compute-instance) is a managed cloud-based workstation for data scientists.\n",
    "\n",
    "Compute instance can be created using the `ComputeInstance` class. This class accepts the following key parameters:\n",
    "- `name` - Name of the compute.\n",
    "- `description` - Description of the compute\n",
    "- `size` - The VM size to use for the compute instance. For more information, see [Supported VM series and sizes](https://docs.microsoft.com/en-us/azure/machine-learning/concept-compute-target#supported-vm-series-and-sizes). \n",
    "\n",
    "## 2.1 Create a minimal Compute Instance\n",
    "In this example we will create a compute instance with only the `name` specified."
   ]
  },
  {
   "cell_type": "code",
   "execution_count": 22,
   "metadata": {},
   "outputs": [
    {
     "data": {
      "text/plain": [
       "ComputeInstance({'state': 'Running', 'last_operation': {'operation_name': 'Create', 'operation_time': '2022-09-15T06:57:39.656Z', 'operation_status': 'Succeeded'}, 'services': [{'display_name': 'Jupyter', 'endpoint_uri': 'https://min-ci202209142357.westus.instances.azureml.ms/tree/'}, {'display_name': 'Jupyter Lab', 'endpoint_uri': 'https://min-ci202209142357.westus.instances.azureml.ms/lab'}], 'type': 'computeinstance', 'created_on': None, 'provisioning_state': 'Succeeded', 'provisioning_errors': None, 'name': 'min-ci202209142357', 'description': None, 'tags': {}, 'properties': {}, 'id': '/subscriptions/bacbbc19-b8a9-44f3-acbc-a7b61e818bb3/resourceGroups/shoja-rg/providers/Microsoft.MachineLearningServices/workspaces/shoja-west/computes/min-ci202209142357', 'Resource__source_path': None, 'base_path': 'c:\\\\Users\\\\shoja\\\\azureml-examples\\\\sdk\\\\resources\\\\compute', 'creation_context': None, 'serialize': <msrest.serialization.Serializer object at 0x000001D2DF6030C8>, 'resource_id': None, 'location': 'westus', 'size': 'STANDARD_DS3_V2', 'ssh_public_access_enabled': False, 'create_on_behalf_of': None, 'network_settings': <azure.ai.ml.entities._compute.compute.NetworkSettings object at 0x000001D2DF608908>, 'ssh_settings': <azure.ai.ml.entities._compute.compute_instance.ComputeInstanceSshSettings object at 0x000001D2DF602FC8>, 'schedules': None})"
      ]
     },
     "execution_count": 22,
     "metadata": {},
     "output_type": "execute_result"
    }
   ],
   "source": [
    "# Compute Instances need to have a unique name across the region.\n",
    "# Here we create a unique name with current datetime\n",
    "import datetime\n",
    "\n",
    "ci_minimal_name = \"min-ci\" + datetime.datetime.now().strftime(\"%Y%m%d%H%M\")\n",
    "\n",
    "ci_minimal = ComputeInstance(name=ci_minimal_name)\n",
    "ml_client.begin_create_or_update(ci_minimal)"
   ]
  },
  {
   "cell_type": "markdown",
   "metadata": {},
   "source": [
    "## 2.2 Create a Compute Instance of specific size\n",
    "In this example, we will specify the size of the VM. For more information, see [Supported VM series and sizes](https://docs.microsoft.com/en-us/azure/machine-learning/concept-compute-target#supported-vm-series-and-sizes). "
   ]
  },
  {
   "cell_type": "code",
   "execution_count": 23,
   "metadata": {},
   "outputs": [],
   "source": [
    "# Compute Instances need to have a unique name across the region.\n",
    "# Here we create a unique name with current datetime\n",
    "import datetime\n",
    "\n",
    "ci_basic_name = \"basic-ci\" + datetime.datetime.now().strftime(\"%Y%m%d%H%M\")\n",
    "ci_basic = ComputeInstance(\n",
    "    name=ci_basic_name,\n",
    "    size=\"STANDARD_DS3_v2\",\n",
    "    description=\"My new Compute Instance\",\n",
    ")\n",
    "ml_client.begin_create_or_update(ci_basic)"
   ]
  },
  {
   "cell_type": "markdown",
   "metadata": {},
   "source": [
    "## 2.3 Interact with a Compute Instance\n",
    "In this below cells, we will specify how you can perform basic operations on a Compute Instance. A full list of operations can be found [here](https://docs.microsoft.com/en-us/python/api/azure-ai-ml/azure.ai.ml.operations.computeoperations?view=azure-python-preview#azure-ai-ml-operations-computeoperations-begin-stop).\n",
    "Note that the below operations are applicable for all computes (not just compute instances)."
   ]
  },
  {
   "cell_type": "code",
   "execution_count": null,
   "metadata": {},
   "outputs": [
    {
     "ename": "NameError",
     "evalue": "name 'ci_basic_name' is not defined",
     "output_type": "error",
     "traceback": [
      "\u001b[1;31m---------------------------------------------------------------------------\u001b[0m",
      "\u001b[1;31mNameError\u001b[0m                                 Traceback (most recent call last)",
      "\u001b[1;32m~\\AppData\\Local\\Temp/ipykernel_45216/2832046350.py\u001b[0m in \u001b[0;36m<module>\u001b[1;34m\u001b[0m\n\u001b[0;32m      1\u001b[0m \u001b[1;31m# Get compute\u001b[0m\u001b[1;33m\u001b[0m\u001b[1;33m\u001b[0m\u001b[1;33m\u001b[0m\u001b[0m\n\u001b[1;32m----> 2\u001b[1;33m \u001b[0mci_basic_state\u001b[0m \u001b[1;33m=\u001b[0m \u001b[0mml_client\u001b[0m\u001b[1;33m.\u001b[0m\u001b[0mcompute\u001b[0m\u001b[1;33m.\u001b[0m\u001b[0mget\u001b[0m\u001b[1;33m(\u001b[0m\u001b[0mci_basic_name\u001b[0m\u001b[1;33m)\u001b[0m\u001b[1;33m\u001b[0m\u001b[1;33m\u001b[0m\u001b[0m\n\u001b[0m",
      "\u001b[1;31mNameError\u001b[0m: name 'ci_basic_name' is not defined"
     ]
    }
   ],
   "source": [
    "#from azure.ai.ml import MLClient\n",
    "#from azure.ai.ml.entities import ComputeInstance, AmlCompute\n",
    "\n",
    "# Get compute\n",
    "ci_basic_state = ml_client.compute.get(ci_basic_name)"
   ]
  },
  {
   "cell_type": "code",
   "execution_count": null,
   "metadata": {},
   "outputs": [
    {
     "name": "stdout",
     "output_type": "stream",
     "text": [
      "ComputeInstance({'state': 'Running', 'last_operation': {'operation_name': 'Start', 'operation_time': '2022-09-02T19:38:37.666Z', 'operation_status': 'Succeeded'}, 'services': [{'display_name': 'Jupyter', 'endpoint_uri': 'https://shoja8.westus.instances.azureml.ms/tree/'}, {'display_name': 'Jupyter Lab', 'endpoint_uri': 'https://shoja8.westus.instances.azureml.ms/lab'}], 'type': 'computeinstance', 'created_on': None, 'provisioning_state': 'Succeeded', 'provisioning_errors': None, 'name': 'shoja8', 'description': None, 'tags': {}, 'properties': {}, 'id': '/subscriptions/bacbbc19-b8a9-44f3-acbc-a7b61e818bb3/resourceGroups/shoja-rg/providers/Microsoft.MachineLearningServices/workspaces/shoja-west/computes/shoja8', 'Resource__source_path': None, 'base_path': 'c:\\\\Users\\\\shoja\\\\azureml-examples\\\\sdk\\\\resources\\\\compute', 'creation_context': None, 'serialize': <msrest.serialization.Serializer object at 0x00000243F5EB7C88>, 'resource_id': None, 'location': 'westus', 'size': 'STANDARD_DS12_V2', 'ssh_public_access_enabled': True, 'create_on_behalf_of': None, 'network_settings': <azure.ai.ml.entities._compute.compute.NetworkSettings object at 0x00000243F5EB7B88>, 'ssh_settings': <azure.ai.ml.entities._compute.compute_instance.ComputeInstanceSshSettings object at 0x00000243F5EB74C8>, 'schedules': None})\n"
     ]
    }
   ],
   "source": [
    "#from azure.ai.ml import MLClient\n",
    "#from azure.ai.ml.entities import ComputeInstance, AmlCompute\n",
    "\n",
    "# Stop compute\n",
    "ml_client.compute.begin_stop(ci_basic_name)"
   ]
  },
  {
   "cell_type": "code",
   "execution_count": null,
   "metadata": {},
   "outputs": [],
   "source": [
    "time.sleep(120)"
   ]
  },
  {
   "cell_type": "code",
   "execution_count": null,
   "metadata": {},
   "outputs": [],
   "source": [
    "#from azure.ai.ml import MLClient\n",
    "#from azure.ai.ml.entities import ComputeInstance, AmlCompute\n",
    "\n",
    "# Start compute\n",
    "ml_client.compute.begin_start(ci_basic_name)"
   ]
  },
  {
   "cell_type": "code",
   "execution_count": null,
   "metadata": {},
   "outputs": [],
   "source": [
    "time.sleep(120)"
   ]
  },
  {
   "cell_type": "code",
   "execution_count": null,
   "metadata": {},
   "outputs": [],
   "source": [
    "#from azure.ai.ml import MLClient\n",
    "#from azure.ai.ml.entities import ComputeInstance, AmlCompute\n",
    "\n",
    "# Restart compute\n",
    "ml_client.compute.begin_restart(ci_basic_name)"
   ]
  },
  {
   "cell_type": "markdown",
   "metadata": {},
   "source": [
    "## 2.3 Clean up Resources\n",
    "Clean up the Compute Instances to save costs"
   ]
  },
  {
   "cell_type": "code",
   "execution_count": null,
   "metadata": {},
   "outputs": [],
   "source": [
    "# Delete compute\n",
    "ml_client.compute.begin_delete(ci_minimal_name)\n",
    "ml_client.compute.begin_delete(ci_basic_name)"
   ]
  },
  {
   "cell_type": "markdown",
   "metadata": {},
   "source": [
    "# 3. Create Compute CLuster\n",
    "Azure Machine Learning compute cluster is a managed-compute infrastructure that allows you to easily create a single or multi-node compute. \n",
    "\n",
    "A compute cluster can be created using the `AmlCompute` class. Some of the key parameters of this class are:\n",
    "- `name` - Required. Name of the compute.\t\t\n",
    "- `description` - Description of the compute.\t\t\n",
    "- `location` - The location for the compute. If omitted, defaults to the workspace location.\n",
    "- `size` - The VM size to use for the cluster. For more information, see [Supported VM series and sizes](https://docs.microsoft.com/en-us/azure/machine-learning/concept-compute-target#supported-vm-series-and-sizes).\n",
    "- `tier` - The VM priority tier to use for the cluster. The priority can be `dedicated` or `low_priority`. If not specified, a `dedicated` cluster will be created.\n",
    "- `min_instances` - The minimum number of nodes to use on the cluster. Setting the minimum number of nodes to 0 allows Azure ML to autoscale the cluster down to zero nodes when not in use. Any value larger than 0 will keep that number of nodes running, even if the cluster is not in use. Default is 0.\n",
    "- `max_instances` - The maximum number of nodes to use on the cluster. Default is 1.\n",
    "- `idle_time_before_scale_down` - Node idle time in seconds before scaling down the cluster. Default is 120 seconds\n",
    "\n",
    "## 3.1 Create a basic Compute Cluster\n",
    "In this example we will create a basic compute cluster with a minimal set of parameters.\n"
   ]
  },
  {
   "cell_type": "code",
   "execution_count": null,
   "metadata": {},
   "outputs": [],
   "source": [
    "cluster_basic = AmlCompute(\n",
    "    name=\"basic-example\",\n",
    "    type=\"amlcompute\",\n",
    "    size=\"STANDARD_DS3_v2\",\n",
    "    location=\"westus\",\n",
    "    min_instances=0,\n",
    "    max_instances=2,\n",
    "    idle_time_before_scale_down=120,\n",
    ")\n",
    "ml_client.begin_create_or_update(cluster_basic)"
   ]
  },
  {
   "cell_type": "markdown",
   "metadata": {},
   "source": [
    "## 3.2 Create a low priority cluster\n",
    "In this example we will create a low priority cluster instead of the default dedicated cluster."
   ]
  },
  {
   "cell_type": "code",
   "execution_count": null,
   "metadata": {},
   "outputs": [],
   "source": [
    "cluster_low_pri = AmlCompute(\n",
    "    name=\"low-pri-example\",\n",
    "    size=\"STANDARD_DS3_v2\",\n",
    "    min_instances=0,\n",
    "    max_instances=2,\n",
    "    idle_time_before_scale_down=120,\n",
    "    tier=\"low_priority\",\n",
    ")\n",
    "ml_client.begin_create_or_update(cluster_low_pri)"
   ]
  }
 ],
 "metadata": {
  "description": {
   "description": "Create compute in Azure ML workspace"
  },
  "kernelspec": {
   "display_name": "Python 3.7.13 ('vnext')",
   "language": "python",
   "name": "python3"
  },
  "language_info": {
   "codemirror_mode": {
    "name": "ipython",
    "version": 3
   },
   "file_extension": ".py",
   "mimetype": "text/x-python",
   "name": "python",
   "nbconvert_exporter": "python",
   "pygments_lexer": "ipython3",
   "version": "3.7.13"
  },
  "vscode": {
   "interpreter": {
    "hash": "8d37c444d7245dc0b7f10e49ea73509dbac5edf5f30cfe6f7b0a8138474a9412"
   }
  }
 },
 "nbformat": 4,
 "nbformat_minor": 4
}
