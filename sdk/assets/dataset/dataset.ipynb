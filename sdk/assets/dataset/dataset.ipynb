{
 "cells": [
  {
   "cell_type": "markdown",
   "metadata": {},
   "source": [
    "# Datasets\n",
    "\n",
    "In this notebook we will various ways of creating datasets. "
   ]
  },
  {
   "cell_type": "code",
   "execution_count": null,
   "metadata": {},
   "outputs": [],
   "source": [
    "#import required libraries\n",
    "from azure.ml import MLClient\n",
    "from azure.ml.entities import Dataset, CommandJob, JobInput\n",
    "from azure.identity import InteractiveBrowserCredential"
   ]
  },
  {
   "cell_type": "markdown",
   "metadata": {},
   "source": [
    "To start with lets create a handle to the AML workspace"
   ]
  },
  {
   "cell_type": "code",
   "execution_count": null,
   "metadata": {},
   "outputs": [],
   "source": [
    "#Enter details of your AML workspace\n",
    "subscription_id = '<SUBSCRIPTION_ID>'\n",
    "resource_group = '<RESOURCE_GROUP>'\n",
    "workspace = '<AML_WORKSPACE_NAME>'"
   ]
  },
  {
   "cell_type": "code",
   "execution_count": null,
   "metadata": {},
   "outputs": [],
   "source": [
    "#get a handle to the workspace\n",
    "ml_client = MLClient(InteractiveBrowserCredential(), subscription_id, resource_group, workspace)"
   ]
  },
  {
   "cell_type": "markdown",
   "metadata": {},
   "source": [
    "### Create a dataset from a local file or folder"
   ]
  },
  {
   "cell_type": "code",
   "execution_count": null,
   "metadata": {},
   "outputs": [],
   "source": [
    "# Use a local file\n",
    "local_dataset = Dataset(\n",
    "    local_path=\"./data/titanic.csv\", \n",
    "    name=\"local-file-example\", \n",
    "    description=\"Dataset created from local file.\")\n",
    "\n",
    "ml_client.create_or_update(local_dataset)\n",
    "\n",
    "# Use a local folder\n",
    "local_folder_dataset = Dataset(\n",
    "    local_path=\"./data\",\n",
    "    name=\"local-folder-example\", \n",
    "    description=\"Dataset created from local folder.\")\n",
    "\n",
    "ml_client.create_or_update(local_folder_dataset)"
   ]
  },
  {
   "cell_type": "markdown",
   "metadata": {},
   "source": [
    "#  Create dataset from files or folders in the cloud"
   ]
  },
  {
   "cell_type": "code",
   "execution_count": null,
   "metadata": {},
   "outputs": [],
   "source": [
    "#Create dataset from a file in the aml workspace\n",
    "cloud_ds_aml_file = Dataset(\n",
    "    paths=[dict(file = \"azureml://datastores/workspaceblobstore/paths/example-data/titanic.csv\")],\n",
    "    name=\"cloud-file-example\",\n",
    "    description=\"Dataset created from file in cloud.\"\n",
    ")\n",
    "ml_client.create_or_update(cloud_ds_aml_file)\n",
    "\n",
    "#create dataset from a public file with hhtps URL\n",
    "cloud_ds_file = Dataset(\n",
    "    paths=[dict(file=\"https://azuremlexamples.blob.core.windows.net/datasets/titanic.csv\")],\n",
    "    name=\"public-file-https-example\",\n",
    "    description=\"Dataset created from a publicly available file using https URL.\"\n",
    ")\n",
    "ml_client.create_or_update(cloud_ds_file)\n",
    "\n",
    "#Create dataset from a folder in the cloud\n",
    "cloud_ds_folder = Dataset(\n",
    "    paths=[dict(folder=\"https://mainstorage9c05dabf5c924.blob.core.windows.net/azureml-blobstore-54887b46-3cb0-485b-bb15-62e7b5578ee6/example-data/\")],\n",
    "    name=\"cloud-folder-https-example\",\n",
    "    description=\"Dataset created from folder in cloud using https URL.\"\n",
    ")\n",
    "ml_client.create_or_update(cloud_ds_folder)\n",
    "\n",
    "#Create a dataset from a file with wasbs URL\n",
    "cloud_ds_wasbs_file = Dataset(\n",
    "    paths=[dict(file=\"wasbs://mainstorage9c05dabf5c924.blob.core.windows.net/azureml-blobstore-54887b46-3cb0-485b-bb15-62e7b5578ee6/example-data/titanic.csv\")],\n",
    "    name=\"cloud-file-wasbs-example\",\n",
    "    description=\"Dataset created from a file in cloud using wasbs URL.\"\n",
    ")\n",
    "ml_client.create_or_update(cloud_ds_wasbs_file)\n",
    "\n",
    "#Create a dataset from a folder with wasbs URL\n",
    "cloud_ds_wasbs_folder = Dataset(\n",
    "    paths=[dict(folder=\"wasbs://mainstorage9c05dabf5c924.blob.core.windows.net/azureml-blobstore-54887b46-3cb0-485b-bb15-62e7b5578ee6/example-data/\")],\n",
    "    name=\"cloud-folder-wasbs-example\",\n",
    "    description=\"Dataset created from folder in cloud using wasbs URL.\"\n",
    ")\n",
    "ml_client.create_or_update(cloud_ds_wasbs_folder)"
   ]
  },
  {
   "cell_type": "markdown",
   "metadata": {},
   "source": [
    "# Use dataset in a Job\n",
    "\n",
    "You can now use any of the above datasets in a job (or a pipeline).\n",
    "\n",
    "To illustrate, let us use the dataset `public-file-https-example` in a `CommandJob`. We will look for a file _titanic.csv_ in the `dataset`, and print out the column names and number of rows in the file.\n"
   ]
  },
  {
   "cell_type": "code",
   "execution_count": null,
   "metadata": {},
   "outputs": [],
   "source": [
    "#create the command job\n",
    "job = CommandJob(\n",
    "    code_local_path=\"./src\", #local path where the code is stored\n",
    "    command= 'python main.py --input-dataset ${{inputs.input_dataset}}',\n",
    "    inputs={\"input_dataset\":JobInput(dataset=\"public-file-https-example:1\")},\n",
    "    environment= \"AzureML-sklearn-0.24-ubuntu18.04-py37-cpu:9\",\n",
    "    compute = \"cpu-cluster\", #replace this with compute in your workspace\n",
    "    display_name=\"use-dataset-in-a-job\"\n",
    ")"
   ]
  },
  {
   "cell_type": "code",
   "execution_count": null,
   "metadata": {},
   "outputs": [],
   "source": [
    "#submit the command job\n",
    "returned_job = ml_client.create_or_update(job)\n",
    "#get a URL for the status of the job\n",
    "returned_job.services[\"Studio\"].endpoint"
   ]
  }
 ],
 "metadata": {
  "interpreter": {
   "hash": "66962d4c952b5ba37638a017d6cc83bab37d76f69b13c17d86b9f71233a0aa71"
  },
  "kernelspec": {
   "display_name": "Python 3",
   "language": "python",
   "name": "python3"
  },
  "language_info": {
   "codemirror_mode": {
    "name": "ipython",
    "version": 3
   },
   "file_extension": ".py",
   "mimetype": "text/x-python",
   "name": "python",
   "nbconvert_exporter": "python",
   "pygments_lexer": "ipython3",
   "version": "3.7.12"
  }
 },
 "nbformat": 4,
 "nbformat_minor": 4
}
