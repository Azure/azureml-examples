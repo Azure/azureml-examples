{
 "cells": [
  {
   "cell_type": "markdown",
   "metadata": {},
   "source": [
    "# Create an ML Table\n",
    "\n",
    "ML Table is aimed at:\n",
    "- Capturing and defining schema contained in flat files (csv, parquet)\n",
    "- Extracting relevant subsets from large data\n",
    "- Fast materialization of data into Pandas and Spark\n",
    "\n",
    " **Requirements** - In order to benefit from this tutorial, you will need:\n",
    "- A basic understanding of Machine Learning\n",
    "- An Azure account with an active subscription. [Create an account for free](https://azure.microsoft.com/free/?WT.mc_id=A261C142F)\n",
    "- An Azure ML workspace. [Check this notebook for creating a workspace](/sdk/resources/workspace/workspace.ipynb)\n",
    "- A Compute Cluster. [Check this notebook to create a compute cluster](/sdk/resources/compute/compute.ipynb)\n",
    "- A python environment\n",
    "- Installed Azure Machine Learning Python SDK v2 - [install instructions](/sdk/README.md#getting-started)\n",
    "\n",
    "**Learning Objectives** - By the end of this tutorial, you should be able to:\n",
    "- Connect to your AML workspace from the Python SDK\n",
    "- Create new mltable using different `from_*` options or `load` an existing mltable artifact\n",
    "- `save` mltable locally or `upload` to a cloud path\n",
    "\n",
    "\"**Motivations** - This notebook explains with examples various ways of creating mltable and also to use different helper methods on mltable.\n"
   ]
  },
  {
   "cell_type": "markdown",
   "metadata": {},
   "source": [
    "# 1. Connect to Azure Machine Learning Workspace\n",
    "\n",
    "The [workspace](https://docs.microsoft.com/en-us/azure/machine-learning/concept-workspace) is the top-level resource for Azure Machine Learning, providing a centralized place to work with all the artifacts you create when you use Azure Machine Learning. In this section we will connect to the workspace in which the datastore will be created.\n",
    "\n",
    "## 1.1. Import the required libraries\n"
   ]
  },
  {
   "cell_type": "code",
   "execution_count": null,
   "metadata": {},
   "outputs": [],
   "source": [
    "#mltable will be a separate package and the user has \"pip install mltable\"\n",
    "#import required libraries\n",
    "import mltable as mlt\n",
    "from azure.ml import MLClient\n",
    "from azure.ml.entities import CommandJob, JobInput\n",
    "from azure.identity import InteractiveBrowserCredential"
   ]
  },
  {
   "cell_type": "markdown",
   "metadata": {},
   "source": [
    "## 1.2. Configure workspace details and get a handle to the workspace\n",
    "\n",
    "To connect to a workspace, we need identifier parameters - a subscription, resource group and workspace name. We will use these details in the `MLClient` from `azure.ml` to get a handle to the required Azure Machine Learning workspace. We use the default [interactive authentication](https://docs.microsoft.com/en-us/python/api/azure-identity/azure.identity.interactivebrowsercredential?view=azure-python) for this tutorial. More advanced connection methods can be found [here](https://docs.microsoft.com/en-us/python/api/azure-identity/azure.identity?view=azure-python)."
   ]
  },
  {
   "cell_type": "code",
   "execution_count": null,
   "metadata": {},
   "outputs": [],
   "source": [
    "#Enter details of your AML workspace\n",
    "subscription_id = '<SUBSCRIPTION_ID>'\n",
    "resource_group = '<RESOURCE_GROUP>'\n",
    "workspace = '<AML_WORKSPACE_NAME>'"
   ]
  },
  {
   "cell_type": "code",
   "execution_count": null,
   "metadata": {},
   "outputs": [],
   "source": [
    "#get a handle to the workspace\n",
    "ml_client = MLClient(InteractiveBrowserCredential(), subscription_id, resource_group, workspace)"
   ]
  },
  {
   "cell_type": "markdown",
   "metadata": {},
   "source": [
    "### Create mltable artifact\n",
    "\n",
    "The entry point for creating an MLTable object in memory is a from_* method. The from does not materialize the data, but rather stores is as a transform in the MLTable definition."
   ]
  },
  {
   "cell_type": "code",
   "execution_count": null,
   "metadata": {},
   "outputs": [],
   "source": [
    "import mltable as mlt\n",
    "\n",
    "# Use a local file\n",
    "tbl = mlt.from_delimited_files(\n",
    "    file=\"./data/titanic.csv\", \n",
    "    validate=True # default=False\n",
    ")\n",
    "\n",
    "\n",
    "\n",
    "# Use a local folder\n",
    "\n",
    "tbl = mlt.from_delimited_files(\n",
    "    folder=\"./data/nyc-taxi\", \n",
    "    delimiter=\",\"\n",
    "    validate=True # default=False\n",
    "    header = \"all_files_same_headers\", # [no_header, from_first_file, all_files_different_headers, all_files_same_headers]\n",
    "    support_multi_line = False,\n",
    "    empty_as_string = False,\n",
    "    encoding = \"utf8\", # [utf8, iso88591, latin1, ascii, utf16, utf32, utf8bom, windows1252]\n",
    "    include_path_column = False\n",
    ")\n",
    " \n"
   ]
  },
  {
   "cell_type": "markdown",
   "metadata": {},
   "source": [
    "### Saving an ML Table artifact to local path\n",
    "`save` only supports saving to local.\n"
   ]
  },
  {
   "cell_type": "code",
   "execution_count": null,
   "metadata": {},
   "outputs": [],
   "source": [
    "import mltable as mlt\n",
    "tbl = mlt.from_delimited_files(file=\"./data/iris/iris.csv\")\n",
    "tbl.drop_columns(\"petal.width\")\n",
    "local_path = \"./data\"\n",
    "tbl.save(path=local_path, overwrite=True)\n"
   ]
  },
  {
   "cell_type": "markdown",
   "metadata": {},
   "source": [
    "### Loading an existing MLTable artifact\n",
    "\n",
    "NOTE: The previous python cell with \"saving\" an ML Table to local path should be run successfully"
   ]
  },
  {
   "cell_type": "code",
   "execution_count": null,
   "metadata": {},
   "outputs": [],
   "source": [
    "import mltable as mlt\n",
    "\n",
    "tbl = mlt.load(folder=\"./data/iris\")\n",
    "df = tbl.to_pandas_dataframe()"
   ]
  },
  {
   "cell_type": "code",
   "execution_count": null,
   "metadata": {},
   "outputs": [],
   "source": [
    "### Loading a V1 Dataset\n",
    "\n",
    "NOTE: Substitute the name of the V1 AzureML Dataset in the Workspace in \"v1dataset\" below and the version if any for \"5\" below"
   ]
  },
  {
   "cell_type": "code",
   "execution_count": null,
   "metadata": {},
   "outputs": [],
   "source": [
    "import mltable as mlt\n",
    "\n",
    "tbl = mlt.load(folder=\"azureml:v1dataset:5\")\n",
    "df = tbl.to_pandas_dataframe()"
   ]
  },
  {
   "cell_type": "markdown",
   "metadata": {},
   "source": [
    "### Uploading an ML artifact to cloud path\n",
    "To save an MLTable to a cloud location, datastore.upload() should be used where the datastores can be accessed via MLClient"
   ]
  },
  {
   "cell_type": "code",
   "execution_count": null,
   "metadata": {},
   "outputs": [],
   "source": [
    "from azure.ml import MLClient\n",
    "import mltable as mlt\n",
    "tbl = mlt.from_delimited_files(file=\"./data/iris/iris.csv\")\n",
    "tbl.drop_columns(\"petal.width\")\n",
    "dstor = mlclient.datastores.get_default()\n",
    "cloud_path = dstor.upload(src_path=\"./my_data\", target_folder=\"\")\n"
   ]
  },
  {
   "cell_type": "markdown",
   "metadata": {},
   "source": [
    "# MLTable operations following are helper methods on mltable "
   ]
  },
  {
   "cell_type": "markdown",
   "metadata": {},
   "source": [
    "### take"
   ]
  },
  {
   "cell_type": "code",
   "execution_count": null,
   "metadata": {},
   "outputs": [],
   "source": [
    "import mltable as mlt\n",
    "\n",
    "tbl = mlt.from_delimited_files(file=\"./data/titanic.csv\")\n",
    "tbl.take(5)"
   ]
  },
  {
   "cell_type": "markdown",
   "metadata": {},
   "source": [
    "### take_random_sample"
   ]
  },
  {
   "cell_type": "code",
   "execution_count": null,
   "metadata": {},
   "outputs": [],
   "source": [
    "import mltable as mlt\n",
    "\n",
    "tbl = mlt.from_delimited_files(file=\"./data/titanic.csv\")\n",
    "tbl.take_random_sample(\n",
    "    probability=1,\n",
    "    seed=3 \n",
    ")"
   ]
  },
  {
   "cell_type": "markdown",
   "metadata": {},
   "source": [
    "### skip"
   ]
  },
  {
   "cell_type": "code",
   "execution_count": null,
   "metadata": {},
   "outputs": [],
   "source": [
    "import mltable as mlt\n",
    "import mltable.PromoteHeadersBehavior as phb\n",
    "\n",
    "tbl = mlt.from_delimited_files(\n",
    "    path=\"./data/iris/iris.csv\",\n",
    "    header=phb.ONLY_FIRST_FILE_HAS_HEADERS)\n",
    "tbl.skip(n=5)\n",
    "\n"
   ]
  },
  {
   "cell_type": "markdown",
   "metadata": {},
   "source": [
    "### keep_columns\n",
    "`keep_columns` will retain only the listed `column_names` and ignores everything else. Here a user can specify names OR use a search pattern.\n"
   ]
  },
  {
   "cell_type": "code",
   "execution_count": null,
   "metadata": {},
   "outputs": [],
   "source": [
    "import mltable as mlt\n",
    "\n",
    "tbl = mlt.from_delimited_files(file=\"./data/titanic.csv\")\n",
    "tbl.keep_columns(column_list = [\"PassengerId\",\"Survived\",\"Name\",\"Sex\",\"Age\"])"
   ]
  },
  {
   "cell_type": "markdown",
   "metadata": {},
   "source": [
    "### drop_columns"
   ]
  },
  {
   "cell_type": "code",
   "execution_count": null,
   "metadata": {},
   "outputs": [],
   "source": [
    "import mltable as mlt\n",
    "\n",
    "tbl = mlt.from_delimited_files(file=\"./data/titanic.csv\")\n",
    "tbl.drop_columns(colum_list= [\"Embarked\",\"Ticket\"])"
   ]
  },
  {
   "cell_type": "markdown",
   "metadata": {},
   "source": [
    "### filter"
   ]
  },
  {
   "cell_type": "code",
   "execution_count": null,
   "metadata": {},
   "outputs": [],
   "source": [
    "import mltable as mlt\n",
    "\n",
    "tbl = mlt.from_delimited_files(file=\"./data/titanic.csv\")\n",
    "tbl = tbl.filter(tbl['Age'] >25)"
   ]
  },
  {
   "cell_type": "markdown",
   "metadata": {},
   "source": [
    "### convert_column_types\n",
    "`convert_column_types` converts all the listed columns to the same selected data type"
   ]
  },
  {
   "cell_type": "code",
   "execution_count": null,
   "metadata": {},
   "outputs": [],
   "source": [
    "import mltable as mlt\n",
    "\n",
    "tbl = mlt.from_delimited_files(file=\"./data/titanic.csv\")\n",
    "#using a dict\n",
    "new_types= {\n",
    "    'Fare': mlt.DataType.to_int(),\n",
    "    'Parch': mlt.DataType.to_string()\n",
    "}\n",
    "\n",
    "tbl.convert_column_types(new_types)\n",
    "\n"
   ]
  },
  {
   "cell_type": "markdown",
   "metadata": {},
   "source": [
    "### show\n",
    "Before materializing into a pandas/spark data frame, it can be convienant to preview the data quickly. The `show` function will print out the first 20 rows by default, but can be adjusted by the user.\n"
   ]
  },
  {
   "cell_type": "code",
   "execution_count": null,
   "metadata": {},
   "outputs": [],
   "source": [
    "import mltable as mlt\n",
    "\n",
    "tbl = mlt.from_delimited_files(file=\"./data/titanic.csv\")\n",
    "tbl.show()\n",
    "# outputs first 20 rows\n",
    "\n",
    "tbl.show(5)"
   ]
  }
 ],
 "metadata": {
  "interpreter": {
   "hash": "66962d4c952b5ba37638a017d6cc83bab37d76f69b13c17d86b9f71233a0aa71"
  },
  "kernelspec": {
   "display_name": "Python 3",
   "language": "python",
   "name": "python3"
  },
  "language_info": {
   "codemirror_mode": {
    "name": "ipython",
    "version": 3
   },
   "file_extension": ".py",
   "mimetype": "text/x-python",
   "name": "python",
   "nbconvert_exporter": "python",
   "pygments_lexer": "ipython3",
   "version": "3.7.12"
  }
 },
 "nbformat": 4,
 "nbformat_minor": 4
}
