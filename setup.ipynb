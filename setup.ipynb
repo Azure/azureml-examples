{
 "cells": [
  {
   "cell_type": "code",
   "execution_count": null,
   "metadata": {
    "tags": []
   },
   "outputs": [],
   "source": [
    "from azureml.core import Workspace\n",
    "\n",
    "try:\n",
    "    ws = Workspace.from_config()\n",
    "except:\n",
    "    subscription_id = \"\"\n",
    "    resource_group = \"azureml-examples\"\n",
    "    location = \"eastus\"\n",
    "\n",
    "    ws = Workspace.create(\n",
    "        \"default\",\n",
    "        subscription_id=subscription_id,\n",
    "        resource_group=resource_group,\n",
    "        location=location,\n",
    "        create_resource_group=True,\n",
    "        exist_ok=True,\n",
    "        show_output=True,\n",
    "    )\n",
    "    ws.write_config()\n",
    "\n",
    "ws"
   ]
  },
  {
   "cell_type": "code",
   "execution_count": null,
   "metadata": {},
   "outputs": [],
   "source": [
    "from azureml.core.compute import ComputeTarget, AmlCompute\n",
    "\n",
    "ct_name = \"cpu-cluster\"\n",
    "\n",
    "if ct_name not in ws.compute_targets:\n",
    "    compute_config = AmlCompute.provisioning_configuration(\n",
    "        vm_size=\"STANDARD_DS3_V2\",\n",
    "        max_nodes=200,\n",
    "        idle_seconds_before_scaledown=1200,\n",
    "    )\n",
    "    ct = ComputeTarget.create(ws, ct_name, compute_config)\n",
    "    ct.wait_for_completion(show_output=True)\n",
    "else:\n",
    "    ct = ws.compute_targets[ct_name]\n",
    "\n",
    "ct"
   ]
  },
  {
   "cell_type": "code",
   "execution_count": null,
   "metadata": {
    "tags": []
   },
   "outputs": [],
   "source": [
    "from azureml.core.compute import ComputeTarget, AmlCompute\n",
    "\n",
    "ct_name = \"gpu-cluster\"\n",
    "\n",
    "if ct_name not in ws.compute_targets:\n",
    "    compute_config = AmlCompute.provisioning_configuration(\n",
    "        vm_size=\"STANDARD_NC6\",\n",
    "        max_nodes=16,\n",
    "        idle_seconds_before_scaledown=1200,\n",
    "    )\n",
    "    ct = ComputeTarget.create(ws, ct_name, compute_config)\n",
    "    ct.wait_for_completion(show_output=True)\n",
    "else:\n",
    "    ct = ws.compute_targets[ct_name]\n",
    "\n",
    "ct"
   ]
  },
  {
   "cell_type": "code",
   "execution_count": null,
   "metadata": {},
   "outputs": [],
   "source": [
    "from azureml.core.compute import ComputeTarget, AmlCompute\n",
    "\n",
    "ct_name = \"gpu-K80-2\"\n",
    "\n",
    "if ct_name not in ws.compute_targets:\n",
    "    compute_config = AmlCompute.provisioning_configuration(\n",
    "        vm_size=\"STANDARD_NC12\",\n",
    "        max_nodes=8,\n",
    "        idle_seconds_before_scaledown=1200,\n",
    "    )\n",
    "    ct = ComputeTarget.create(ws, ct_name, compute_config)\n",
    "    ct.wait_for_completion(show_output=True)\n",
    "else:\n",
    "    ct = ws.compute_targets[ct_name]\n",
    "\n",
    "ct"
   ]
  },
  {
   "cell_type": "code",
   "execution_count": null,
   "metadata": {
    "tags": []
   },
   "outputs": [],
   "source": [
    "from azureml.core.compute import ComputeTarget, AmlCompute\n",
    "\n",
    "ct_name = \"gpu-V100-1\"\n",
    "\n",
    "if ct_name not in ws.compute_targets:\n",
    "    compute_config = AmlCompute.provisioning_configuration(\n",
    "        vm_size=\"STANDARD_NC6S_V3\",\n",
    "        max_nodes=8,\n",
    "        idle_seconds_before_scaledown=1200,\n",
    "    )\n",
    "    ct = ComputeTarget.create(ws, ct_name, compute_config)\n",
    "    ct.wait_for_completion(show_output=True)\n",
    "else:\n",
    "    ct = ws.compute_targets[ct_name]\n",
    "\n",
    "ct"
   ]
  },
  {
   "cell_type": "code",
   "execution_count": null,
   "metadata": {
    "tags": []
   },
   "outputs": [],
   "source": [
    "from azureml.core.compute import ComputeTarget, AmlCompute\n",
    "\n",
    "ct_name = \"gpu-V100-2\"\n",
    "\n",
    "if ct_name not in ws.compute_targets:\n",
    "    compute_config = AmlCompute.provisioning_configuration(\n",
    "        vm_size=\"STANDARD_NC12S_V3\",\n",
    "        max_nodes=4,\n",
    "        idle_seconds_before_scaledown=1200,\n",
    "    )\n",
    "    ct = ComputeTarget.create(ws, ct_name, compute_config)\n",
    "    ct.wait_for_completion(show_output=True)\n",
    "else:\n",
    "    ct = ws.compute_targets[ct_name]\n",
    "\n",
    "ct"
   ]
  },
  {
   "cell_type": "code",
   "execution_count": null,
   "metadata": {
    "tags": []
   },
   "outputs": [],
   "source": [
    "from azureml.core.compute import ComputeTarget, AmlCompute\n",
    "\n",
    "ct_name = \"gpu-V100-4\"\n",
    "\n",
    "if ct_name not in ws.compute_targets:\n",
    "    compute_config = AmlCompute.provisioning_configuration(\n",
    "        vm_size=\"STANDARD_NC24S_V3\",\n",
    "        max_nodes=2,\n",
    "        idle_seconds_before_scaledown=1200,\n",
    "    )\n",
    "    ct = ComputeTarget.create(ws, ct_name, compute_config)\n",
    "    ct.wait_for_completion(show_output=True)\n",
    "else:\n",
    "    ct = ws.compute_targets[ct_name]\n",
    "\n",
    "ct"
   ]
  },
  {
   "cell_type": "code",
   "execution_count": null,
   "metadata": {},
   "outputs": [],
   "source": [
    "from azureml.core.compute import ComputeTarget, AksCompute\n",
    "\n",
    "ct_name = \"aks-cpu-deploy\"\n",
    "\n",
    "if ct_name not in ws.compute_targets:\n",
    "    compute_config = AksCompute.provisioning_configuration(\n",
    "        agent_count=3, vm_size=\"STANDARD_DS3_V2\", location=ws.location\n",
    "    )\n",
    "    ct = ComputeTarget.create(ws, ct_name, compute_config)\n",
    "    ct.wait_for_completion(show_output=True)\n",
    "else:\n",
    "    ct = ws.compute_targets[ct_name]\n",
    "\n",
    "ct"
   ]
  },
  {
   "cell_type": "code",
   "execution_count": null,
   "metadata": {
    "tags": []
   },
   "outputs": [],
   "source": [
    "from azureml.core.compute import ComputeTarget, AksCompute\n",
    "\n",
    "ct_name = \"aks-gpu-deploy\"\n",
    "\n",
    "if ct_name not in ws.compute_targets:\n",
    "    compute_config = AksCompute.provisioning_configuration(\n",
    "        agent_count=3, vm_size=\"STANDARD_NC6S_V3\", location=ws.location\n",
    "    )\n",
    "    ct = ComputeTarget.create(ws, ct_name, compute_config)\n",
    "    ct.wait_for_completion(show_output=True)\n",
    "else:\n",
    "    ct = ws.compute_targets[ct_name]\n",
    "\n",
    "ct"
   ]
  }
 ],
 "metadata": {
  "kernelspec": {
   "display_name": "Python 3.8.5 64-bit ('dkdc': conda)",
   "metadata": {
    "interpreter": {
     "hash": "6813bb6deec483ed15ac37ef074baa52622250b2b65156cf2f3313d85d7e0391"
    }
   },
   "name": "Python 3.8.5 64-bit ('dkdc': conda)"
  },
  "language_info": {
   "codemirror_mode": {
    "name": "ipython",
    "version": 3
   },
   "file_extension": ".py",
   "mimetype": "text/x-python",
   "name": "python",
   "nbconvert_exporter": "python",
   "pygments_lexer": "ipython3",
   "version": "3.8.5-final"
  }
 },
 "nbformat": 4,
 "nbformat_minor": 2
}
