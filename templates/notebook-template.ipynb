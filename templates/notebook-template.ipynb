{
 "cells": [
  {
   "cell_type": "markdown",
   "metadata": {},
   "source": [
    "> Below is a template for designing a dpv2 sample notebook. Text in black is a proposed template for preparing the notebook. You can basically keep it as is, or adapt the wording to your needs. Text in blockquote are guidelines or questions to help you fill the template."
   ]
  },
  {
   "cell_type": "markdown",
   "metadata": {},
   "source": [
    "# Title\n",
    "\n",
    "> pick your own title, try to use some of the words from the learning objectives (see below)\n",
    "\n",
    "\n",
    "> In **requirements** below, try to answer the following questions:\n",
    ">- What is the prior knowledge or know-how required to enter this learning  unit?\n",
    ">- What background do we expected participants to have ?\n",
    ">- What tools do participants need to have access to ? (if there's a required subscription, give instructions on how to create/use, if need to install something, link to some tutorial)\n",
    ">- Do they need to have completed some other course before?\n",
    "\n",
    "**Requirements** - In order to benefit from this tutorial, you will need to:\n",
    "- ...\n",
    "- ...\n",
    "- ...\n",
    "\n",
    "> In **Learning Objectives** below, what should participants expects to know how to do after going through that learning unit?\n",
    "> Here's a few recommendation for writing learning objectives:\n",
    "> - imagine the right objective from the user's perspective, not the developer (what should they expect to learn, not what you want to teach)\n",
    "> - pick your verbs from [the Bloom's Taxonomy](https://lccfestivaloflearning2012.files.wordpress.com/2012/10/support-document-13-blooms-taxonomy-teacher-planning-kit.jpg)\n",
    "\n",
    "**Learning Objectives** - By the end of this tutorial, you should be able to:\n",
    "- ...\n",
    "- ...\n",
    "\n",
    "> Under **Motivations**, write a short paragraph here, answering some of those questions:\n",
    "> - Why is that learning unit important?\n",
    "> - Why should it matter to the participants?\n",
    "> - Why should it matter considering their background?\n",
    "\n",
    "**Motivations** - Some text here."
   ]
  },
  {
   "cell_type": "markdown",
   "metadata": {},
   "source": [
    "# 1. First section of the notebook\n",
    "\n",
    "> Each section, subsection, cell, should be introduced with a short paragraph (or more) explaining what's going to happen and why we need to achieve this (goals + motivation).\n",
    "\n",
    "## 1.1. Sub section of the notebook\n",
    "\n",
    "> Then follows steps, or notebook cells. If using steps, use numbering. If using notebook cells, use a short sentence to explain what the user is supposed to look at, or modify, and what they should expect the result to be."
   ]
  },
  {
   "cell_type": "code",
   "execution_count": null,
   "metadata": {},
   "outputs": [],
   "source": [
    "from azureml.core.workspace import Workspace\n",
    "from azureml.core.workspace import UserErrorException\n",
    "import logging\n",
    "import traceback\n",
    "\n",
    "try:\n",
    "    ws = Workspace.from_config()\n",
    "\n",
    "    print(\n",
    "        \"Connected to Workspace\",\n",
    "        \"-- name: \" + ws.name,\n",
    "        \"-- Azure region: \" + ws.location,\n",
    "        \"-- Resource group: \" + ws.resource_group,\n",
    "        sep=\"\\n\",\n",
    "    )\n",
    "\n",
    "except UserErrorException:\n",
    "    logging.critical(\n",
    "        \"\"\"Could not connect using the local config.\n",
    "        - if you're running locally, use the notebook to Connect to your workspace\n",
    "        - if you're running from AzureML... this should not happen\n",
    "        {}\"\"\".format(\n",
    "            traceback.format_exc()\n",
    "        )\n",
    "    )"
   ]
  },
  {
   "cell_type": "markdown",
   "metadata": {},
   "source": [
    "# Next Steps\n",
    "\n",
    "> In this section, if tutorial is in a sequence, add links to the next notebook. Also, add any relevant links (not too many) on the same topic of this tutorial.\n",
    "\n",
    "You can now go the next tutorial:\n",
    "- Title of the next tutorial with link\n",
    "\n",
    "Also, on the same topic:\n",
    "- link to notebook / docs"
   ]
  },
  {
   "cell_type": "markdown",
   "metadata": {},
   "source": []
  }
 ],
 "metadata": {
  "language_info": {
   "name": "python"
  },
  "orig_nbformat": 4,
  "kernelspec": {
   "display_name": "Python 3.8 - AzureML",
   "language": "python",
   "name": "python38-azureml"
  }
 },
 "nbformat": 4,
 "nbformat_minor": 2
}