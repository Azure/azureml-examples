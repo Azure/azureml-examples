{
 "cells": [
  {
   "cell_type": "markdown",
   "metadata": {},
   "source": [
    "# Define imports"
   ]
  },
  {
   "cell_type": "code",
   "execution_count": null,
   "metadata": {},
   "outputs": [],
   "source": [
    "# imports\n",
    "import os\n",
    "import mlflow\n",
    "import argparse\n",
    "\n",
    "import pandas as pd\n",
    "import lightgbm as lgbm\n",
    "import matplotlib.pyplot as plt\n",
    "\n",
    "from sklearn.metrics import log_loss, accuracy_score\n",
    "from sklearn.preprocessing import LabelEncoder\n",
    "from sklearn.model_selection import train_test_split"
   ]
  },
  {
   "cell_type": "markdown",
   "metadata": {},
   "source": [
    "# Define functions"
   ]
  },
  {
   "cell_type": "code",
   "execution_count": null,
   "metadata": {},
   "outputs": [],
   "source": [
    "# define functions\n",
    "def main(args):\n",
    "    # enable auto logging\n",
    "    mlflow.autolog()\n",
    "\n",
    "    # setup parameters\n",
    "    num_boost_round = args.num_boost_round\n",
    "    params = {\n",
    "        \"objective\": \"multiclass\",\n",
    "        \"num_class\": 3,\n",
    "        \"boosting\": args.boosting,\n",
    "        \"num_iterations\": args.num_iterations,\n",
    "        \"num_leaves\": args.num_leaves,\n",
    "        \"num_threads\": args.num_threads,\n",
    "        \"learning_rate\": args.learning_rate,\n",
    "        \"metric\": args.metric,\n",
    "        \"seed\": args.seed,\n",
    "        \"verbose\": args.verbose,\n",
    "    }\n",
    "\n",
    "    # read in data\n",
    "    df = pd.read_csv(args.iris_csv)\n",
    "\n",
    "    # process data\n",
    "    X_train, X_test, y_train, y_test, enc = process_data(df)\n",
    "\n",
    "    # train model\n",
    "    model = train_model(params, num_boost_round, X_train, X_test, y_train, y_test)\n",
    "\n",
    "\n",
    "def process_data(df):\n",
    "    # split dataframe into X and y\n",
    "    X = df.drop([\"species\"], axis=1)\n",
    "    y = df[\"species\"]\n",
    "\n",
    "    # one-hot encode\n",
    "    enc = LabelEncoder()\n",
    "    y = enc.fit_transform(y)\n",
    "\n",
    "    # train/test split\n",
    "    X_train, X_test, y_train, y_test = train_test_split(\n",
    "        X, y, test_size=0.2, random_state=42\n",
    "    )\n",
    "\n",
    "    # return splits and encoder\n",
    "    return X_train, X_test, y_train, y_test, enc\n",
    "\n",
    "\n",
    "def train_model(params, num_boost_round, X_train, X_test, y_train, y_test):\n",
    "    # create lightgbm datasets\n",
    "    train_data = lgbm.Dataset(X_train, label=y_train)\n",
    "    test_data = lgbm.Dataset(X_test, label=y_test)\n",
    "\n",
    "    # train model\n",
    "    model = lgbm.train(\n",
    "        params,\n",
    "        train_data,\n",
    "        num_boost_round=num_boost_round,\n",
    "        valid_sets=[test_data],\n",
    "        valid_names=[\"test\"],\n",
    "    )\n",
    "\n",
    "    # return model\n",
    "    return model"
   ]
  },
  {
   "cell_type": "markdown",
   "metadata": {},
   "source": [
    "# Define function arguments"
   ]
  },
  {
   "cell_type": "code",
   "execution_count": null,
   "metadata": {},
   "outputs": [],
   "source": [
    "class args:\n",
    "    iris_csv = \"https://azuremlexamples.blob.core.windows.net/datasets/iris.csv\"\n",
    "    num_boost_round = 10\n",
    "    boosting = \"gbdt\"\n",
    "    num_iterations = 100\n",
    "    num_leaves = 31\n",
    "    num_threads = 0\n",
    "    learning_rate = 0.1\n",
    "    metric = \"multi_logloss\"\n",
    "    seed = 42\n",
    "    verbose = 0\n",
    "\n",
    "\n",
    "args"
   ]
  },
  {
   "cell_type": "code",
   "execution_count": null,
   "metadata": {},
   "outputs": [],
   "source": [
    "args.iris_csv"
   ]
  },
  {
   "cell_type": "markdown",
   "metadata": {},
   "source": [
    "# Call function(s)"
   ]
  },
  {
   "cell_type": "code",
   "execution_count": null,
   "metadata": {},
   "outputs": [],
   "source": [
    "main(args)"
   ]
  }
 ],
  language_info": {
   "name": "python",
   "version": ""
  }
 },
 "nbformat": 4,
 "nbformat_minor": 2
}
