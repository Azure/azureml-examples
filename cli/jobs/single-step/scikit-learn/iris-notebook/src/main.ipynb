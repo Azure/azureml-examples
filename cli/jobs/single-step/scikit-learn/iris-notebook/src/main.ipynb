{
 "cells": [
  {
   "cell_type": "code",
   "execution_count": null,
   "metadata": {},
   "outputs": [],
   "source": [
    "# imports\n",
    "import os\n",
    "import mlflow\n",
    "import argparse\n",
    "\n",
    "import pandas as pd\n",
    "\n",
    "from sklearn.svm import SVC\n",
    "from sklearn.model_selection import train_test_split"
   ]
  },
  {
   "cell_type": "code",
   "execution_count": null,
   "metadata": {},
   "outputs": [],
   "source": [
    "# define functions\n",
    "def main(args):\n",
    "    # enable auto logging\n",
    "    mlflow.autolog()\n",
    "\n",
    "    # setup parameters\n",
    "    params = {\n",
    "        \"C\": args.C,\n",
    "        \"kernel\": args.kernel,\n",
    "        \"coef0\": args.coef0,\n",
    "    }\n",
    "\n",
    "    # read in data\n",
    "    df = pd.read_csv(args.iris_csv)\n",
    "\n",
    "    # process data\n",
    "    X_train, X_test, y_train, y_test = process_data(df, args.random_state)\n",
    "\n",
    "    # train model\n",
    "    model = train_model(params, X_train, X_test, y_train, y_test)\n",
    "\n",
    "\n",
    "def process_data(df, random_state):\n",
    "    # split dataframe into X and y\n",
    "    X = df.drop([\"species\"], axis=1)\n",
    "    y = df[\"species\"]\n",
    "\n",
    "    # train/test split\n",
    "    X_train, X_test, y_train, y_test = train_test_split(\n",
    "        X, y, test_size=0.2, random_state=random_state\n",
    "    )\n",
    "\n",
    "    # return split data\n",
    "    return X_train, X_test, y_train, y_test\n",
    "\n",
    "\n",
    "def train_model(params, X_train, X_test, y_train, y_test):\n",
    "    # train model\n",
    "    model = SVC(**params)\n",
    "    model = model.fit(X_train, y_train)\n",
    "\n",
    "    # return model\n",
    "    return model"
   ]
  },
  {
   "cell_type": "code",
   "execution_count": null,
   "metadata": {},
   "outputs": [],
   "source": [
    "class args:\n",
    "    iris_csv = \"https://azuremlexamples.blob.core.windows.net/datasets/iris.csv\"\n",
    "    C = 0.8\n",
    "    kernel = \"rbf\"\n",
    "    coef0 = 0.1\n",
    "    random_state = 42\n",
    "\n",
    "\n",
    "main(args)"
   ]
  }
 ],
 "metadata": {
  "language_info": {
   "name": "plaintext"
  },
  "kernelspec": {
   "display_name": "Python 3.8 - AzureML",
   "language": "python",
   "name": "python38-azureml"
  }
 },
 "nbformat": 4,
 "nbformat_minor": 2
}