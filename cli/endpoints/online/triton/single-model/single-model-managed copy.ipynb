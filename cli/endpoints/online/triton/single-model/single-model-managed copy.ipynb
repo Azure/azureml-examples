{
 "cells": [
  {
   "cell_type": "markdown",
   "metadata": {},
   "source": [
    "## Download model\n",
    "\n",
    "It's important that your model have this directory structure for Triton Inference Server to be able to load it. [Read more about the directory structure that Triton expects](https://docs.nvidia.com/deeplearning/triton-inference-server/user-guide/docs/model_repository.html)."
   ]
  },
  {
   "cell_type": "code",
   "execution_count": 1,
   "metadata": {},
   "outputs": [
    {
     "name": "stdout",
     "output_type": "stream",
     "text": [
      "Requirement already satisfied: azure-storage-blob in /home/arzooaneja/anaconda3/envs/azmlenv/lib/python3.7/site-packages (12.8.1)\n",
      "Requirement already satisfied: msrest>=0.6.18 in /home/arzooaneja/anaconda3/envs/azmlenv/lib/python3.7/site-packages (from azure-storage-blob) (0.6.21)\n",
      "Requirement already satisfied: cryptography>=2.1.4 in /home/arzooaneja/anaconda3/envs/azmlenv/lib/python3.7/site-packages (from azure-storage-blob) (3.4.7)\n",
      "Requirement already satisfied: azure-core<2.0.0,>=1.10.0 in /home/arzooaneja/anaconda3/envs/azmlenv/lib/python3.7/site-packages (from azure-storage-blob) (1.13.0)\n",
      "Requirement already satisfied: requests>=2.18.4 in /home/arzooaneja/anaconda3/envs/azmlenv/lib/python3.7/site-packages (from azure-core<2.0.0,>=1.10.0->azure-storage-blob) (2.25.1)\n",
      "Requirement already satisfied: six>=1.11.0 in /home/arzooaneja/anaconda3/envs/azmlenv/lib/python3.7/site-packages (from azure-core<2.0.0,>=1.10.0->azure-storage-blob) (1.15.0)\n",
      "Requirement already satisfied: cffi>=1.12 in /home/arzooaneja/anaconda3/envs/azmlenv/lib/python3.7/site-packages (from cryptography>=2.1.4->azure-storage-blob) (1.14.5)\n",
      "Requirement already satisfied: pycparser in /home/arzooaneja/anaconda3/envs/azmlenv/lib/python3.7/site-packages (from cffi>=1.12->cryptography>=2.1.4->azure-storage-blob) (2.20)\n",
      "Requirement already satisfied: requests-oauthlib>=0.5.0 in /home/arzooaneja/anaconda3/envs/azmlenv/lib/python3.7/site-packages (from msrest>=0.6.18->azure-storage-blob) (1.3.0)\n",
      "Requirement already satisfied: certifi>=2017.4.17 in /home/arzooaneja/anaconda3/envs/azmlenv/lib/python3.7/site-packages (from msrest>=0.6.18->azure-storage-blob) (2020.12.5)\n",
      "Requirement already satisfied: isodate>=0.6.0 in /home/arzooaneja/anaconda3/envs/azmlenv/lib/python3.7/site-packages (from msrest>=0.6.18->azure-storage-blob) (0.6.0)\n",
      "Requirement already satisfied: idna<3,>=2.5 in /home/arzooaneja/anaconda3/envs/azmlenv/lib/python3.7/site-packages (from requests>=2.18.4->azure-core<2.0.0,>=1.10.0->azure-storage-blob) (2.10)\n",
      "Requirement already satisfied: chardet<5,>=3.0.2 in /home/arzooaneja/anaconda3/envs/azmlenv/lib/python3.7/site-packages (from requests>=2.18.4->azure-core<2.0.0,>=1.10.0->azure-storage-blob) (4.0.0)\n",
      "Requirement already satisfied: urllib3<1.27,>=1.21.1 in /home/arzooaneja/anaconda3/envs/azmlenv/lib/python3.7/site-packages (from requests>=2.18.4->azure-core<2.0.0,>=1.10.0->azure-storage-blob) (1.26.4)\n",
      "Requirement already satisfied: oauthlib>=3.0.0 in /home/arzooaneja/anaconda3/envs/azmlenv/lib/python3.7/site-packages (from requests-oauthlib>=0.5.0->msrest>=0.6.18->azure-storage-blob) (3.1.0)\n"
     ]
    }
   ],
   "source": [
    "!pip install azure-storage-blob"
   ]
  },
  {
   "cell_type": "code",
   "execution_count": 2,
   "metadata": {
    "tags": []
   },
   "outputs": [
    {
     "name": "stdout",
     "output_type": "stream",
     "text": [
      "successfully downloaded model: densenet_onnx\n"
     ]
    }
   ],
   "source": [
    "import os\n",
    "import sys\n",
    "from pathlib import Path\n",
    "from src.model_utils import download_triton_models, delete_triton_models\n",
    "\n",
    "prefix = Path(\".\")\n",
    "download_triton_models(prefix)"
   ]
  },
  {
   "cell_type": "markdown",
   "metadata": {},
   "source": [
    "## Register model\n",
    "\n",
    "The registered model should follow the Triton specified model folder structure for Triton Inference Server to be able to load it."
   ]
  },
  {
   "cell_type": "code",
   "execution_count": 10,
   "metadata": {},
   "outputs": [],
   "source": [
    "subscripton = \"92c76a2f-0e1c-4216-b65e-abf7a3f34c1e\"\n",
    "resource_group = \"gsc-aml-lite-rg2\"\n",
    "workspace = \"gsc-aml-ws3\"\n",
    "model_name = \"densenet-onnx\"\n",
    "endpoint_name = \"arz12\""
   ]
  },
  {
   "cell_type": "code",
   "execution_count": 11,
   "metadata": {},
   "outputs": [
    {
     "name": "stdout",
     "output_type": "stream",
     "text": [
      "\u001b[36mCommand group 'ml model' is experimental and under development. Reference and support levels: https://aka.ms/CLI_refstatus\u001b[0m\n",
      "{\n",
      "  \"creation_context\": {\n",
      "    \"created_at\": \"2021-05-19T08:34:35.392674+00:00\",\n",
      "    \"created_by\": \"Arzoo Aneja (ZEN3 INFOSOLUTIONS AMERICA INC)\",\n",
      "    \"created_by_type\": \"User\",\n",
      "    \"last_modified_at\": \"2021-05-20T08:06:12.465692+00:00\",\n",
      "    \"last_modified_by\": \"Arzoo Aneja (ZEN3 INFOSOLUTIONS AMERICA INC)\",\n",
      "    \"last_modified_by_type\": \"User\"\n",
      "  },\n",
      "  \"datastore\": \"azureml:/subscriptions/92c76a2f-0e1c-4216-b65e-abf7a3f34c1e/resourceGroups/gsc-aml-lite-rg2/providers/Microsoft.MachineLearningServices/workspaces/gsc-aml-ws3/datastores/workspaceblobstore\",\n",
      "  \"flavors\": {},\n",
      "  \"id\": \"azureml:/subscriptions/92c76a2f-0e1c-4216-b65e-abf7a3f34c1e/resourceGroups/gsc-aml-lite-rg2/providers/Microsoft.MachineLearningServices/workspaces/gsc-aml-ws3/models/densenet-onnx/versions/1\",\n",
      "  \"name\": \"densenet-onnx\",\n",
      "  \"path\": \"az-ml-artifacts/57396fa60078750da5128ce974a4a65f/models\",\n",
      "  \"properties\": {},\n",
      "  \"resourceGroup\": \"gsc-aml-lite-rg2\",\n",
      "  \"tags\": {},\n",
      "  \"version\": 1\n",
      "}\n",
      "\u001b[0m"
     ]
    }
   ],
   "source": [
    "!az ml model create -n $model_name -v 1 -l models -g $resource_group -w $workspace --subscription $subscripton"
   ]
  },
  {
   "cell_type": "code",
   "execution_count": 12,
   "metadata": {},
   "outputs": [
    {
     "name": "stdout",
     "output_type": "stream",
     "text": [
      "\u001b[36mCommand group 'ml model' is experimental and under development. Reference and support levels: https://aka.ms/CLI_refstatus\u001b[0m\n",
      "{\n",
      "  \"creation_context\": {\n",
      "    \"created_at\": \"2021-05-19T08:34:35.392674+00:00\",\n",
      "    \"created_by\": \"Arzoo Aneja (ZEN3 INFOSOLUTIONS AMERICA INC)\",\n",
      "    \"created_by_type\": \"User\",\n",
      "    \"last_modified_at\": \"2021-05-20T08:06:12.465692+00:00\",\n",
      "    \"last_modified_by\": \"Arzoo Aneja (ZEN3 INFOSOLUTIONS AMERICA INC)\",\n",
      "    \"last_modified_by_type\": \"User\"\n",
      "  },\n",
      "  \"datastore\": \"azureml:/subscriptions/92c76a2f-0e1c-4216-b65e-abf7a3f34c1e/resourceGroups/gsc-aml-lite-rg2/providers/Microsoft.MachineLearningServices/workspaces/gsc-aml-ws3/datastores/workspaceblobstore\",\n",
      "  \"flavors\": {},\n",
      "  \"id\": \"azureml:/subscriptions/92c76a2f-0e1c-4216-b65e-abf7a3f34c1e/resourceGroups/gsc-aml-lite-rg2/providers/Microsoft.MachineLearningServices/workspaces/gsc-aml-ws3/models/densenet-onnx/versions/1\",\n",
      "  \"name\": \"densenet-onnx\",\n",
      "  \"path\": \"az-ml-artifacts/57396fa60078750da5128ce974a4a65f/models\",\n",
      "  \"properties\": {},\n",
      "  \"resourceGroup\": \"gsc-aml-lite-rg2\",\n",
      "  \"tags\": {},\n",
      "  \"version\": 1\n",
      "}\n",
      "\u001b[0m"
     ]
    }
   ],
   "source": [
    "!az ml model show -n $model_name -v 1 -g $resource_group -w $workspace --subscription $subscripton"
   ]
  },
  {
   "cell_type": "markdown",
   "metadata": {},
   "source": [
    "## Create endpoint\n",
    "\n",
    "Deploy to a pre created AKS compute"
   ]
  },
  {
   "cell_type": "code",
   "execution_count": 13,
   "metadata": {},
   "outputs": [
    {
     "name": "stdout",
     "output_type": "stream",
     "text": [
      "\u001b[36mCommand group 'ml endpoint' is experimental and under development. Reference and support levels: https://aka.ms/CLI_refstatus\u001b[0m\n",
      "\n",
      "The deployment request gsc-aml-ws3-arz12-7184531 was accepted,  status can be found in the link below: \n",
      "https://ms.portal.azure.com/#blade/HubsExtension/DeploymentDetailsBlade/overview/id/%2Fsubscriptions%2F92c76a2f-0e1c-4216-b65e-abf7a3f34c1e%2FresourceGroups%2Fgsc-aml-lite-rg2%2Fproviders%2FMicrosoft.Resources%2Fdeployments%2Fgsc-aml-ws3-arz12-7184531\n",
      "\n",
      "Registering code version (a2cd405d-9214-4f41-902e-956c6bff421d:1)  Done (17s)\n",
      "Registering environment version (single-env:1)  Done (24s)\n",
      "Creating endpoint arz12 ....  Done (1m 7s)\n",
      "Creating deployment etblue: Failed with operation id= 9FC29A16C1722066, service request id=1d8e2c5b-ab05-44a7-8d25-4dc0b4ea1498, status=BadRequest, error message = {'additional_properties': {}, 'code': None, 'message': None, 'target': None, 'details': None, 'additional_info': None}.\n",
      "More details: None\n",
      "Polling hit the exception (DeploymentFailed) At least one resource deployment operation failed. Please list deployment operations for details. Please see https://aka.ms/DeployOperations for usage details.\n",
      "\u001b[1m\u001b[31mCode: DeploymentFailed\n",
      "Message: At least one resource deployment operation failed. Please list deployment operations for details. Please see https://aka.ms/DeployOperations for usage details.\n",
      "Exception Details:\t(BadRequest) {\n",
      "\t  \"error\": {\n",
      "\t    \"code\": \"BadRequest\",\n",
      "\t    \"message\": \"The request is invalid.\",\n",
      "\t    \"target\": null,\n",
      "\t    \"details\": [\n",
      "\t      {\n",
      "\t        \"code\": \"ManagedInferenceClientCreateDeploymentFailed\",\n",
      "\t        \"message\": \"Managed Inference Client HttpRequest error, error detail: {\\\"errors\\\":{\\\"VmSize\\\":[\\\"Not enough quota for request\\\"]},\\\"type\\\":\\\"https://tools.ietf.org/html/rfc7231#section-6.5.1\\\",\\\"title\\\":\\\"One or more validation errors occurred.\\\",\\\"status\\\":400,\\\"traceId\\\":\\\"00-72b8e8c8d19ab349a4163720dde6be09-272933b26ef64e47-01\\\"}\",\n",
      "\t        \"target\": null,\n",
      "\t        \"details\": [],\n",
      "\t        \"additionalInfo\": []\n",
      "\t      }\n",
      "\t    ],\n",
      "\t    \"additionalInfo\": [\n",
      "\t      {\n",
      "\t        \"type\": \"ComponentName\",\n",
      "\t        \"info\": \"managementfrontend\"\n",
      "\t      },\n",
      "\t      {\n",
      "\t        \"type\": \"Correlation\",\n",
      "\t        \"info\": {\n",
      "\t          \"operation\": \"72b8e8c8d19ab349a4163720dde6be09\",\n",
      "\t          \"request\": \"3077d8d133712342\"\n",
      "\t        }\n",
      "\t      },\n",
      "\t      {\n",
      "\t        \"type\": \"Environment\",\n",
      "\t        \"info\": \"eastus2\"\n",
      "\t      },\n",
      "\t      {\n",
      "\t        \"type\": \"Location\",\n",
      "\t        \"info\": \"eastus2\"\n",
      "\t      },\n",
      "\t      {\n",
      "\t        \"type\": \"Time\",\n",
      "\t        \"info\": \"2021-05-20T08:08:40.4223506+00:00\"\n",
      "\t      },\n",
      "\t      {\n",
      "\t        \"type\": \"DebugInfo\",\n",
      "\t        \"info\": {\n",
      "\t          \"type\": \"Microsoft.MachineLearning.Common.Core.ServiceInvocationException\",\n",
      "\t          \"message\": \"Service invocation failed!\\r\\nRequest: POST https://eastus2.api.azureml.ms/modelmanagement/v1.0/subscriptions/92c76a2f-0e1c-4216-b65e-abf7a3f34c1e/resourceGroups/gsc-aml-lite-rg2/providers/Microsoft.MachineLearningServices/workspaces/gsc-aml-ws3/services/\\r\\nStatus Code: 400 BadRequest\\r\\nError Code: BadRequest\\r\\nReason Phrase: Bad Request\\r\\nResponse Body: {\\\"code\\\":\\\"BadRequest\\\",\\\"statusCode\\\":400,\\\"message\\\":\\\"The request is invalid.\\\",\\\"details\\\":[{\\\"code\\\":\\\"ManagedInferenceClientCreateDeploymentFailed\\\",\\\"message\\\":\\\"Managed Inference Client HttpRequest error, error detail: {\\\\\\\"errors\\\\\\\":{\\\\\\\"VmSize\\\\\\\":[\\\\\\\"Not enough quota for request\\\\\\\"]},\\\\\\\"type\\\\\\\":\\\\\\\"https://tools.ietf.org/html/rfc7231#section-6.5.1\\\\\\\",\\\\\\\"title\\\\\\\":\\\\\\\"One or more validation errors occurred.\\\\\\\",\\\\\\\"status\\\\\\\":400,\\\\\\\"traceId\\\\\\\":\\\\\\\"00-72b8e8c8d19ab349a4163720dde6be09-272933b26ef64e47-01\\\\\\\"}\\\"}],\\\"correlation\\\":{\\\"RequestId\\\":\\\"1e9f71b1-d0e1-4d93-b4c5-c29ed473f612\\\"}}\",\n",
      "\t          \"stackTrace\": \"   at Microsoft.MachineLearning.ManagementFrontEnd.Services.Clients.ModelManagementServiceClient.Execute[T](Func`1 func) in /home/vsts/work/1/s/src/azureml-api/src/ManagementFrontEnd/Services/Clients/ModelManagementServiceClient.cs:line 312\\n   at Microsoft.MachineLearning.ManagementFrontEnd.Services.Clients.ModelManagementServiceClient.ExecuteAsync[T](Func`1 func) in /home/vsts/work/1/s/src/azureml-api/src/ManagementFrontEnd/Services/Clients/ModelManagementServiceClient.cs:line 336\\n   at Microsoft.MachineLearning.ManagementFrontEnd.Services.Clients.ModelManagementServiceClient.CreateService(WorkspaceContext2 workspaceContext, CreateServiceRequest request) in /home/vsts/work/1/s/src/azureml-api/src/ManagementFrontEnd/Services/Clients/ModelManagementServiceClient.cs:line 252\\n   at Microsoft.MachineLearning.ManagementFrontEnd.Services.OnlineDeploymentService.CreateOrUpdate(WorkspaceContext2 workspaceContext, String endpointName, String name, Resource`1 baseInferenceEndpoint) in /home/vsts/work/1/s/src/azureml-api/src/ManagementFrontEnd/Services/Services/OnlineDeploymentService.cs:line 160\\n   at Microsoft.MachineLearning.ManagementFrontEnd.EntryPoints.Api.V20210301Preview.Controllers.OnlineDeploymentController.CreateOrUpdate(WorkspaceContext2 workspaceContext, String endpointName, String deploymentName, TrackedResource`1 request, String apiVersion) in /home/vsts/work/1/s/src/azureml-api/src/ManagementFrontEnd/EntryPoints/Api/V20210301Preview/Controllers/OnlineDeploymentController.cs:line 190\\n   at Microsoft.AspNetCore.Mvc.Infrastructure.ActionMethodExecutor.TaskOfIActionResultExecutor.Execute(IActionResultTypeMapper mapper, ObjectMethodExecutor executor, Object controller, Object[] arguments)\\n   at Microsoft.AspNetCore.Mvc.Infrastructure.ControllerActionInvoker.<InvokeActionMethodAsync>g__Logged|12_1(ControllerActionInvoker invoker)\\n   at Microsoft.AspNetCore.Mvc.Infrastructure.ControllerActionInvoker.<InvokeNextActionFilterAsync>g__Awaited|10_0(ControllerActionInvoker invoker, Task lastTask, State next, Scope scope, Object state, Boolean isCompleted)\\n   at Microsoft.AspNetCore.Mvc.Infrastructure.ControllerActionInvoker.Rethrow(ActionExecutedContextSealed context)\\n   at Microsoft.AspNetCore.Mvc.Infrastructure.ControllerActionInvoker.Next(State& next, Scope& scope, Object& state, Boolean& isCompleted)\\n   at Microsoft.AspNetCore.Mvc.Infrastructure.ControllerActionInvoker.<InvokeInnerFilterAsync>g__Awaited|13_0(ControllerActionInvoker invoker, Task lastTask, State next, Scope scope, Object state, Boolean isCompleted)\\n   at Microsoft.AspNetCore.Mvc.Infrastructure.ResourceInvoker.<InvokeNextExceptionFilterAsync>g__Awaited|25_0(ResourceInvoker invoker, Task lastTask, State next, Scope scope, Object state, Boolean isCompleted)\",\n",
      "\t          \"innerException\": null,\n",
      "\t          \"data\": {},\n",
      "\t          \"errorResponse\": {\n",
      "\t            \"error\": null,\n",
      "\t            \"correlation\": {\n",
      "\t              \"RequestId\": \"1e9f71b1-d0e1-4d93-b4c5-c29ed473f612\"\n",
      "\t            },\n",
      "\t            \"environment\": null,\n",
      "\t            \"location\": null,\n",
      "\t            \"time\": \"0001-01-01T00:00:00+00:00\",\n",
      "\t            \"componentName\": null,\n",
      "\t            \"code\": \"BadRequest\",\n",
      "\t            \"statusCode\": 400,\n",
      "\t            \"message\": \"The request is invalid.\",\n",
      "\t            \"details\": [\n",
      "\t              {\n",
      "\t                \"code\": \"ManagedInferenceClientCreateDeploymentFailed\",\n",
      "\t                \"message\": \"Managed Inference Client HttpRequest error, error detail: {\\\"errors\\\":{\\\"VmSize\\\":[\\\"Not enough quota for request\\\"]},\\\"type\\\":\\\"https://tools.ietf.org/html/rfc7231#section-6.5.1\\\",\\\"title\\\":\\\"One or more validation errors occurred.\\\",\\\"status\\\":400,\\\"traceId\\\":\\\"00-72b8e8c8d19ab349a4163720dde6be09-272933b26ef64e47-01\\\"}\"\n",
      "\t              }\n",
      "\t            ]\n",
      "\t          }\n",
      "\t        }\n",
      "\t      },\n",
      "\t      {\n",
      "\t        \"type\": \"DetailsUri\",\n",
      "\t        \"info\": null\n",
      "\t      },\n",
      "\t      {\n",
      "\t        \"type\": \"InnerError\",\n",
      "\t        \"info\": null\n",
      "\t      },\n",
      "\t      {\n",
      "\t        \"type\": \"MessageFormat\",\n",
      "\t        \"info\": null\n",
      "\t      },\n",
      "\t      {\n",
      "\t        \"type\": \"MessageParameters\",\n",
      "\t        \"info\": null\n",
      "\t      },\n",
      "\t      {\n",
      "\t        \"type\": \"ReferenceCode\",\n",
      "\t        \"info\": null\n",
      "\t      },\n",
      "\t      {\n",
      "\t        \"type\": \"Severity\",\n",
      "\t        \"info\": null\n",
      "\t      }\n",
      "\t    ]\n",
      "\t  }\n",
      "\t}\n",
      "\u001b[0m"
     ]
    }
   ],
   "source": [
    "!az ml endpoint create -g $resource_group -w $workspace -n $endpoint_name -f endpoint-mir-gpu-copy.yml"
   ]
  },
  {
   "cell_type": "code",
   "execution_count": null,
   "metadata": {},
   "outputs": [],
   "source": [
    "!az ml endpoint show -g $resource_group -w $workspace -n $endpoint_name"
   ]
  },
  {
   "cell_type": "markdown",
   "metadata": {},
   "source": [
    "## Test Webservice\n",
    "\n",
    "Get scoring URI and auth token"
   ]
  },
  {
   "cell_type": "code",
   "execution_count": null,
   "metadata": {},
   "outputs": [],
   "source": [
    "!az ml endpoint show -n $endpoint_name --query \"scoring_uri\""
   ]
  },
  {
   "cell_type": "code",
   "execution_count": null,
   "metadata": {},
   "outputs": [],
   "source": [
    "!az ml endpoint list-keys -g $resource_group -w $workspace -n $endpoint_name"
   ]
  },
  {
   "cell_type": "code",
   "execution_count": null,
   "metadata": {},
   "outputs": [],
   "source": [
    "import requests\n",
    "\n",
    "service_key = \"service_key\"\n",
    "headers = {}\n",
    "headers[\"Authorization\"] = f\"Bearer {service_key}\"\n",
    "\n",
    "# Check the state of server.\n",
    "service_url = \"service_url\"\n",
    "requests.get(f\"{service_url}/v2/health/ready\", headers=headers)"
   ]
  },
  {
   "cell_type": "code",
   "execution_count": null,
   "metadata": {},
   "outputs": [],
   "source": [
    "# Check the status of model.\n",
    "resp = requests.post(f\"{service_url}/v2/repository/index\", headers=headers)\n",
    "print(resp.text)"
   ]
  },
  {
   "cell_type": "code",
   "execution_count": null,
   "metadata": {},
   "outputs": [],
   "source": [
    "# Check metadata of model for inference \n",
    "resp = requests.get(f\"{service_url}/v2/models/densenet_onnx\", headers=headers)\n",
    "print(resp.text)"
   ]
  }
 ],
 "metadata": {
  "kernelspec": {
   "display_name": "Python 3",
   "language": "python",
   "name": "python3"
  },
  "language_info": {
   "codemirror_mode": {
    "name": "ipython",
    "version": 3
   },
   "file_extension": ".py",
   "mimetype": "text/x-python",
   "name": "python",
   "nbconvert_exporter": "python",
   "pygments_lexer": "ipython3",
   "version": "3.7.10"
  }
 },
 "nbformat": 4,
 "nbformat_minor": 4
}
