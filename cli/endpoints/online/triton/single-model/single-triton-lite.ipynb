{
 "cells": [
  {
   "cell_type": "markdown",
   "metadata": {},
   "source": [
    "## Download model\n",
    "\n",
    "It's important that your model have this directory structure for Triton Inference Server to be able to load it. [Read more about the directory structure that Triton expects](https://docs.nvidia.com/deeplearning/triton-inference-server/user-guide/docs/model_repository.html)."
   ]
  },
  {
   "cell_type": "code",
   "execution_count": 4,
   "metadata": {},
   "outputs": [
    {
     "name": "stdout",
     "output_type": "stream",
     "text": [
      "Requirement already satisfied: azure-storage-blob in /home/arzooaneja/anaconda3/envs/azmlenv/lib/python3.7/site-packages (12.8.1)\n",
      "Requirement already satisfied: azure-core<2.0.0,>=1.10.0 in /home/arzooaneja/anaconda3/envs/azmlenv/lib/python3.7/site-packages (from azure-storage-blob) (1.13.0)\n",
      "Requirement already satisfied: cryptography>=2.1.4 in /home/arzooaneja/anaconda3/envs/azmlenv/lib/python3.7/site-packages (from azure-storage-blob) (3.4.7)\n",
      "Requirement already satisfied: msrest>=0.6.18 in /home/arzooaneja/anaconda3/envs/azmlenv/lib/python3.7/site-packages (from azure-storage-blob) (0.6.21)\n",
      "Requirement already satisfied: requests>=2.18.4 in /home/arzooaneja/anaconda3/envs/azmlenv/lib/python3.7/site-packages (from azure-core<2.0.0,>=1.10.0->azure-storage-blob) (2.25.1)\n",
      "Requirement already satisfied: six>=1.11.0 in /home/arzooaneja/anaconda3/envs/azmlenv/lib/python3.7/site-packages (from azure-core<2.0.0,>=1.10.0->azure-storage-blob) (1.15.0)\n",
      "Requirement already satisfied: cffi>=1.12 in /home/arzooaneja/anaconda3/envs/azmlenv/lib/python3.7/site-packages (from cryptography>=2.1.4->azure-storage-blob) (1.14.5)\n",
      "Requirement already satisfied: pycparser in /home/arzooaneja/anaconda3/envs/azmlenv/lib/python3.7/site-packages (from cffi>=1.12->cryptography>=2.1.4->azure-storage-blob) (2.20)\n",
      "Requirement already satisfied: isodate>=0.6.0 in /home/arzooaneja/anaconda3/envs/azmlenv/lib/python3.7/site-packages (from msrest>=0.6.18->azure-storage-blob) (0.6.0)\n",
      "Requirement already satisfied: certifi>=2017.4.17 in /home/arzooaneja/anaconda3/envs/azmlenv/lib/python3.7/site-packages (from msrest>=0.6.18->azure-storage-blob) (2020.12.5)\n",
      "Requirement already satisfied: requests-oauthlib>=0.5.0 in /home/arzooaneja/anaconda3/envs/azmlenv/lib/python3.7/site-packages (from msrest>=0.6.18->azure-storage-blob) (1.3.0)\n",
      "Requirement already satisfied: idna<3,>=2.5 in /home/arzooaneja/anaconda3/envs/azmlenv/lib/python3.7/site-packages (from requests>=2.18.4->azure-core<2.0.0,>=1.10.0->azure-storage-blob) (2.10)\n",
      "Requirement already satisfied: chardet<5,>=3.0.2 in /home/arzooaneja/anaconda3/envs/azmlenv/lib/python3.7/site-packages (from requests>=2.18.4->azure-core<2.0.0,>=1.10.0->azure-storage-blob) (4.0.0)\n",
      "Requirement already satisfied: urllib3<1.27,>=1.21.1 in /home/arzooaneja/anaconda3/envs/azmlenv/lib/python3.7/site-packages (from requests>=2.18.4->azure-core<2.0.0,>=1.10.0->azure-storage-blob) (1.26.4)\n",
      "Requirement already satisfied: oauthlib>=3.0.0 in /home/arzooaneja/anaconda3/envs/azmlenv/lib/python3.7/site-packages (from requests-oauthlib>=0.5.0->msrest>=0.6.18->azure-storage-blob) (3.1.0)\n"
     ]
    }
   ],
   "source": [
    "!pip install azure-storage-blob"
   ]
  },
  {
   "cell_type": "code",
   "execution_count": 6,
   "metadata": {
    "tags": []
   },
   "outputs": [
    {
     "name": "stdout",
     "output_type": "stream",
     "text": [
      "successfully downloaded model: densenet_onnx\n"
     ]
    }
   ],
   "source": [
    "import os\n",
    "import sys\n",
    "from pathlib import Path\n",
    "from src.model_utils import download_triton_models, delete_triton_models\n",
    "\n",
    "prefix = Path(\".\")\n",
    "download_triton_models(prefix)"
   ]
  },
  {
   "cell_type": "markdown",
   "metadata": {},
   "source": [
    "## Register model\n",
    "\n",
    "The registered model should follow the Triton specified model folder structure for Triton Inference Server to be able to load it."
   ]
  },
  {
   "cell_type": "code",
   "execution_count": 9,
   "metadata": {},
   "outputs": [],
   "source": [
    "subscripton = \"13e50845-67bc-4ac5-94db-48d493a6d9e8\"\n",
    "resource_group = \"chrjia-rg\"\n",
    "workspace = \"chrjia-eastus2euap2\"\n",
    "model_name = \"densenet-onnx\"\n",
    "service_name = \"lite14\""
   ]
  },
  {
   "cell_type": "code",
   "execution_count": 10,
   "metadata": {},
   "outputs": [
    {
     "name": "stdout",
     "output_type": "stream",
     "text": [
      "\u001b[36mCommand group 'ml model' is experimental and under development. Reference and support levels: https://aka.ms/CLI_refstatus\u001b[0m\n",
      "Uploading models: 100%|█████████████████████████| 1/1 [00:00<00:00, 4911.36it/s]\n",
      "{\n",
      "  \"creation_context\": {\n",
      "    \"created_at\": \"2021-05-18T05:25:45.465914+00:00\",\n",
      "    \"created_by\": \"Arzoo Aneja (ZEN3 INFOSOLUTIONS AMERICA INC)\",\n",
      "    \"created_by_type\": \"User\",\n",
      "    \"last_modified_at\": \"2021-05-18T05:25:45.465914+00:00\",\n",
      "    \"last_modified_by\": \"Arzoo Aneja (ZEN3 INFOSOLUTIONS AMERICA INC)\",\n",
      "    \"last_modified_by_type\": \"User\"\n",
      "  },\n",
      "  \"datastore\": \"azureml:/subscriptions/13e50845-67bc-4ac5-94db-48d493a6d9e8/resourceGroups/chrjia-rg/providers/Microsoft.MachineLearningServices/workspaces/chrjia-eastus2euap2/datastores/workspaceblobstore\",\n",
      "  \"flavors\": {},\n",
      "  \"id\": \"azureml:/subscriptions/13e50845-67bc-4ac5-94db-48d493a6d9e8/resourceGroups/chrjia-rg/providers/Microsoft.MachineLearningServices/workspaces/chrjia-eastus2euap2/models/densenet-onnx/versions/1\",\n",
      "  \"name\": \"densenet-onnx\",\n",
      "  \"path\": \"az-ml-artifacts/57396fa60078750da5128ce974a4a65f/models\",\n",
      "  \"properties\": {},\n",
      "  \"resourceGroup\": \"chrjia-rg\",\n",
      "  \"tags\": {},\n",
      "  \"version\": 1\n",
      "}\n",
      "\u001b[0m"
     ]
    }
   ],
   "source": [
    "!az ml model create -n $model_name -v 1 -l models -g $resource_group -w $workspace --subscription $subscripton"
   ]
  },
  {
   "cell_type": "code",
   "execution_count": 11,
   "metadata": {},
   "outputs": [
    {
     "name": "stdout",
     "output_type": "stream",
     "text": [
      "\u001b[36mCommand group 'ml model' is experimental and under development. Reference and support levels: https://aka.ms/CLI_refstatus\u001b[0m\n",
      "{\n",
      "  \"creation_context\": {\n",
      "    \"created_at\": \"2021-05-18T05:25:45.465914+00:00\",\n",
      "    \"created_by\": \"Arzoo Aneja (ZEN3 INFOSOLUTIONS AMERICA INC)\",\n",
      "    \"created_by_type\": \"User\",\n",
      "    \"last_modified_at\": \"2021-05-18T05:25:45.465914+00:00\",\n",
      "    \"last_modified_by\": \"Arzoo Aneja (ZEN3 INFOSOLUTIONS AMERICA INC)\",\n",
      "    \"last_modified_by_type\": \"User\"\n",
      "  },\n",
      "  \"datastore\": \"azureml:/subscriptions/13e50845-67bc-4ac5-94db-48d493a6d9e8/resourceGroups/chrjia-rg/providers/Microsoft.MachineLearningServices/workspaces/chrjia-eastus2euap2/datastores/workspaceblobstore\",\n",
      "  \"flavors\": {},\n",
      "  \"id\": \"azureml:/subscriptions/13e50845-67bc-4ac5-94db-48d493a6d9e8/resourceGroups/chrjia-rg/providers/Microsoft.MachineLearningServices/workspaces/chrjia-eastus2euap2/models/densenet-onnx/versions/1\",\n",
      "  \"name\": \"densenet-onnx\",\n",
      "  \"path\": \"az-ml-artifacts/57396fa60078750da5128ce974a4a65f/models\",\n",
      "  \"properties\": {},\n",
      "  \"resourceGroup\": \"chrjia-rg\",\n",
      "  \"tags\": {},\n",
      "  \"version\": 1\n",
      "}\n",
      "\u001b[0m"
     ]
    }
   ],
   "source": [
    "!az ml model show -n $model_name -v 1 -g $resource_group -w $workspace --subscription $subscripton"
   ]
  },
  {
   "cell_type": "markdown",
   "metadata": {},
   "source": [
    "## Create endpoint\n",
    "\n",
    "Deploy to a pre created AKS compute"
   ]
  },
  {
   "cell_type": "code",
   "execution_count": 17,
   "metadata": {},
   "outputs": [
    {
     "name": "stdout",
     "output_type": "stream",
     "text": [
      "\u001b[36mCommand group 'ml endpoint' is experimental and under development. Reference and support levels: https://aka.ms/CLI_refstatus\u001b[0m\n",
      "\u001b[1m\u001b[31mCode: AuthorizationFailed\n",
      "Message: The client 'v-arzooaneja@microsoft.com' with object id '518cdffb-43cb-46ba-b849-f6c1e2225378' does not have authorization to perform action 'Microsoft.MachineLearningServices/workspaces/datastores/read' over scope '/subscriptions/bac420ed-c6fc-4a05-8ac1-8c0c52da1d6e/resourceGroups/chrjia-rg/providers/Microsoft.MachineLearningServices/workspaces/chrjia-eastus2euap2' or the scope is invalid. If access was recently granted, please refresh your credentials.\n",
      "\u001b[0m"
     ]
    }
   ],
   "source": [
    "!az ml endpoint create -g $resource_group -w $workspace -n $service_name -f deployment.yml"
   ]
  },
  {
   "cell_type": "code",
   "execution_count": null,
   "metadata": {},
   "outputs": [],
   "source": [
    "!az ml endpoint show -g $resource_group -w $workspace -n $service_name"
   ]
  },
  {
   "cell_type": "markdown",
   "metadata": {},
   "source": [
    "## Test Webservice\n",
    "\n",
    "Get scoring URI and auth token"
   ]
  },
  {
   "cell_type": "code",
   "execution_count": null,
   "metadata": {},
   "outputs": [],
   "source": [
    "!az ml endpoint show -n $service_name --query \"scoring_uri\""
   ]
  },
  {
   "cell_type": "code",
   "execution_count": null,
   "metadata": {},
   "outputs": [],
   "source": [
    "!az ml endpoint list-keys -g $resource_group -w $workspace -n $service_name"
   ]
  },
  {
   "cell_type": "code",
   "execution_count": null,
   "metadata": {},
   "outputs": [],
   "source": [
    "import requests\n",
    "\n",
    "service_key = \"service_key\"\n",
    "headers = {}\n",
    "headers[\"Authorization\"] = f\"Bearer {service_key}\"\n",
    "\n",
    "# Check the state of server.\n",
    "service_url = \"service_url\"\n",
    "requests.get(f\"{service_url}/v2/health/ready\", headers=headers)"
   ]
  },
  {
   "cell_type": "code",
   "execution_count": null,
   "metadata": {},
   "outputs": [],
   "source": [
    "# Check the status of model.\n",
    "resp = requests.post(f\"{service_url}/v2/repository/index\", headers=headers)\n",
    "print(resp.text)"
   ]
  },
  {
   "cell_type": "code",
   "execution_count": null,
   "metadata": {},
   "outputs": [],
   "source": [
    "# Check metadata of model for inference \n",
    "resp = requests.get(f\"{service_url}/v2/models/densenet_onnx\", headers=headers)\n",
    "print(resp.text)"
   ]
  }
 ],
 "metadata": {
  "kernelspec": {
   "display_name": "Python 3",
   "language": "python",
   "name": "python3"
  },
  "language_info": {
   "codemirror_mode": {
    "name": "ipython",
    "version": 3
   },
   "file_extension": ".py",
   "mimetype": "text/x-python",
   "name": "python",
   "nbconvert_exporter": "python",
   "pygments_lexer": "ipython3",
   "version": "3.7.10"
  }
 },
 "nbformat": 4,
 "nbformat_minor": 4
}
