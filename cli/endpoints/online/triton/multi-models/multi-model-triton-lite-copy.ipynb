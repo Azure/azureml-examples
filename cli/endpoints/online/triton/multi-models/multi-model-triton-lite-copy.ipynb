{
 "cells": [
  {
   "cell_type": "markdown",
   "metadata": {},
   "source": [
    "# Many Models\n",
    "\n",
    "This is an example of inferencing multiple models with Triton. The models can also run on different frameworks."
   ]
  },
  {
   "cell_type": "markdown",
   "metadata": {},
   "source": [
    "![multi](multimodel.png)"
   ]
  },
  {
   "cell_type": "markdown",
   "metadata": {},
   "source": [
    "## Download models\n",
    "\n",
    "It's important that your model have this directory structure for Triton Inference Server to be able to load it. [Read more about the directory structure that Triton expects](https://docs.nvidia.com/deeplearning/triton-inference-server/user-guide/docs/model_repository.html)."
   ]
  },
  {
   "cell_type": "code",
   "execution_count": 1,
   "metadata": {},
   "outputs": [
    {
     "name": "stdout",
     "output_type": "stream",
     "text": [
      "Requirement already satisfied: azure-storage-blob in /home/arzooaneja/anaconda3/envs/azmlenv/lib/python3.7/site-packages (12.8.1)\n",
      "Requirement already satisfied: azure-core<2.0.0,>=1.10.0 in /home/arzooaneja/anaconda3/envs/azmlenv/lib/python3.7/site-packages (from azure-storage-blob) (1.13.0)\n",
      "Requirement already satisfied: msrest>=0.6.18 in /home/arzooaneja/anaconda3/envs/azmlenv/lib/python3.7/site-packages (from azure-storage-blob) (0.6.21)\n",
      "Requirement already satisfied: cryptography>=2.1.4 in /home/arzooaneja/anaconda3/envs/azmlenv/lib/python3.7/site-packages (from azure-storage-blob) (3.4.7)\n",
      "Requirement already satisfied: requests>=2.18.4 in /home/arzooaneja/anaconda3/envs/azmlenv/lib/python3.7/site-packages (from azure-core<2.0.0,>=1.10.0->azure-storage-blob) (2.25.1)\n",
      "Requirement already satisfied: six>=1.11.0 in /home/arzooaneja/anaconda3/envs/azmlenv/lib/python3.7/site-packages (from azure-core<2.0.0,>=1.10.0->azure-storage-blob) (1.15.0)\n",
      "Requirement already satisfied: cffi>=1.12 in /home/arzooaneja/anaconda3/envs/azmlenv/lib/python3.7/site-packages (from cryptography>=2.1.4->azure-storage-blob) (1.14.5)\n",
      "Requirement already satisfied: pycparser in /home/arzooaneja/anaconda3/envs/azmlenv/lib/python3.7/site-packages (from cffi>=1.12->cryptography>=2.1.4->azure-storage-blob) (2.20)\n",
      "Requirement already satisfied: requests-oauthlib>=0.5.0 in /home/arzooaneja/anaconda3/envs/azmlenv/lib/python3.7/site-packages (from msrest>=0.6.18->azure-storage-blob) (1.3.0)\n",
      "Requirement already satisfied: certifi>=2017.4.17 in /home/arzooaneja/anaconda3/envs/azmlenv/lib/python3.7/site-packages (from msrest>=0.6.18->azure-storage-blob) (2020.12.5)\n",
      "Requirement already satisfied: isodate>=0.6.0 in /home/arzooaneja/anaconda3/envs/azmlenv/lib/python3.7/site-packages (from msrest>=0.6.18->azure-storage-blob) (0.6.0)\n",
      "Requirement already satisfied: idna<3,>=2.5 in /home/arzooaneja/anaconda3/envs/azmlenv/lib/python3.7/site-packages (from requests>=2.18.4->azure-core<2.0.0,>=1.10.0->azure-storage-blob) (2.10)\n",
      "Requirement already satisfied: urllib3<1.27,>=1.21.1 in /home/arzooaneja/anaconda3/envs/azmlenv/lib/python3.7/site-packages (from requests>=2.18.4->azure-core<2.0.0,>=1.10.0->azure-storage-blob) (1.26.4)\n",
      "Requirement already satisfied: chardet<5,>=3.0.2 in /home/arzooaneja/anaconda3/envs/azmlenv/lib/python3.7/site-packages (from requests>=2.18.4->azure-core<2.0.0,>=1.10.0->azure-storage-blob) (4.0.0)\n",
      "Requirement already satisfied: oauthlib>=3.0.0 in /home/arzooaneja/anaconda3/envs/azmlenv/lib/python3.7/site-packages (from requests-oauthlib>=0.5.0->msrest>=0.6.18->azure-storage-blob) (3.1.0)\n"
     ]
    }
   ],
   "source": [
    "!pip install azure-storage-blob"
   ]
  },
  {
   "cell_type": "code",
   "execution_count": 2,
   "metadata": {},
   "outputs": [
    {
     "name": "stdout",
     "output_type": "stream",
     "text": [
      "successfully downloaded model: densenet_onnx\n",
      "successfully downloaded model: bidaf-9\n"
     ]
    }
   ],
   "source": [
    "import os\n",
    "import sys\n",
    "from pathlib import Path\n",
    "from src.model_utils import download_triton_models, delete_triton_models\n",
    "\n",
    "prefix = Path(\".\")\n",
    "download_triton_models(prefix)"
   ]
  },
  {
   "cell_type": "markdown",
   "metadata": {},
   "source": [
    "## Register models\n",
    "\n",
    "Download multiple models into models folder. The registered models should follow the Triton specified model folder structure for Triton Inference Server to be able to load it."
   ]
  },
  {
   "cell_type": "code",
   "execution_count": 16,
   "metadata": {},
   "outputs": [],
   "source": [
    "subscripton = \"92c76a2f-0e1c-4216-b65e-abf7a3f34c1e\"\n",
    "resource_group = \"gsc-aml-lite-rg2\"\n",
    "workspace = \"gsc-aml-ws3\"\n",
    "model_name = \"densenet-onnx\"\n",
    "service_name = \"multi5\""
   ]
  },
  {
   "cell_type": "code",
   "execution_count": 4,
   "metadata": {},
   "outputs": [
    {
     "name": "stdout",
     "output_type": "stream",
     "text": [
      "\u001b[36mCommand group 'ml model' is experimental and under development. Reference and support levels: https://aka.ms/CLI_refstatus\u001b[0m\n",
      "Uploading models: 100%|███████████████████████████| 2/2 [00:39<00:00, 19.99s/it]\n",
      "{\n",
      "  \"creation_context\": {\n",
      "    \"created_at\": \"2021-05-20T09:27:48.870589+00:00\",\n",
      "    \"created_by\": \"Arzoo Aneja (ZEN3 INFOSOLUTIONS AMERICA INC)\",\n",
      "    \"created_by_type\": \"User\",\n",
      "    \"last_modified_at\": \"2021-05-20T09:27:48.870589+00:00\",\n",
      "    \"last_modified_by\": \"Arzoo Aneja (ZEN3 INFOSOLUTIONS AMERICA INC)\",\n",
      "    \"last_modified_by_type\": \"User\"\n",
      "  },\n",
      "  \"datastore\": \"azureml:/subscriptions/92c76a2f-0e1c-4216-b65e-abf7a3f34c1e/resourceGroups/gsc-aml-lite-rg2/providers/Microsoft.MachineLearningServices/workspaces/gsc-aml-ws3/datastores/workspaceblobstore\",\n",
      "  \"flavors\": {},\n",
      "  \"id\": \"azureml:/subscriptions/92c76a2f-0e1c-4216-b65e-abf7a3f34c1e/resourceGroups/gsc-aml-lite-rg2/providers/Microsoft.MachineLearningServices/workspaces/gsc-aml-ws3/models/densenet-onnx/versions/2\",\n",
      "  \"name\": \"densenet-onnx\",\n",
      "  \"path\": \"az-ml-artifacts/f2c796d0d329fd5d0865f7a2681243ae/models\",\n",
      "  \"properties\": {},\n",
      "  \"resourceGroup\": \"gsc-aml-lite-rg2\",\n",
      "  \"tags\": {},\n",
      "  \"version\": 2\n",
      "}\n",
      "\u001b[0m"
     ]
    }
   ],
   "source": [
    "!az ml model create -n $model_name -v 2 -l models -g $resource_group -w $workspace --subscription $subscripton"
   ]
  },
  {
   "cell_type": "code",
   "execution_count": 5,
   "metadata": {},
   "outputs": [
    {
     "name": "stdout",
     "output_type": "stream",
     "text": [
      "\u001b[36mCommand group 'ml model' is experimental and under development. Reference and support levels: https://aka.ms/CLI_refstatus\u001b[0m\n",
      "{\n",
      "  \"creation_context\": {\n",
      "    \"created_at\": \"2021-05-20T09:27:48.870589+00:00\",\n",
      "    \"created_by\": \"Arzoo Aneja (ZEN3 INFOSOLUTIONS AMERICA INC)\",\n",
      "    \"created_by_type\": \"User\",\n",
      "    \"last_modified_at\": \"2021-05-20T09:27:48.870589+00:00\",\n",
      "    \"last_modified_by\": \"Arzoo Aneja (ZEN3 INFOSOLUTIONS AMERICA INC)\",\n",
      "    \"last_modified_by_type\": \"User\"\n",
      "  },\n",
      "  \"datastore\": \"azureml:/subscriptions/92c76a2f-0e1c-4216-b65e-abf7a3f34c1e/resourceGroups/gsc-aml-lite-rg2/providers/Microsoft.MachineLearningServices/workspaces/gsc-aml-ws3/datastores/workspaceblobstore\",\n",
      "  \"flavors\": {},\n",
      "  \"id\": \"azureml:/subscriptions/92c76a2f-0e1c-4216-b65e-abf7a3f34c1e/resourceGroups/gsc-aml-lite-rg2/providers/Microsoft.MachineLearningServices/workspaces/gsc-aml-ws3/models/densenet-onnx/versions/2\",\n",
      "  \"name\": \"densenet-onnx\",\n",
      "  \"path\": \"az-ml-artifacts/f2c796d0d329fd5d0865f7a2681243ae/models\",\n",
      "  \"properties\": {},\n",
      "  \"resourceGroup\": \"gsc-aml-lite-rg2\",\n",
      "  \"tags\": {},\n",
      "  \"version\": 2\n",
      "}\n",
      "\u001b[0m"
     ]
    }
   ],
   "source": [
    "!az ml model show -n $model_name -v 2 -g $resource_group -w $workspace --subscription $subscripton"
   ]
  },
  {
   "cell_type": "markdown",
   "metadata": {},
   "source": [
    "## Create endpoint\n",
    "\n",
    "Deploy to a pre created AKS compute"
   ]
  },
  {
   "cell_type": "code",
   "execution_count": 17,
   "metadata": {},
   "outputs": [
    {
     "name": "stdout",
     "output_type": "stream",
     "text": [
      "\u001b[36mCommand group 'ml endpoint' is experimental and under development. Reference and support levels: https://aka.ms/CLI_refstatus\u001b[0m\n",
      "\n",
      "The deployment request gsc-aml-ws3-multi5-2780481 was accepted,  status can be found in the link below: \n",
      "https://ms.portal.azure.com/#blade/HubsExtension/DeploymentDetailsBlade/overview/id/%2Fsubscriptions%2F92c76a2f-0e1c-4216-b65e-abf7a3f34c1e%2FresourceGroups%2Fgsc-aml-lite-rg2%2Fproviders%2FMicrosoft.Resources%2Fdeployments%2Fgsc-aml-ws3-multi5-2780481\n",
      "\n",
      "Registering code version (a2cd405d-9214-4f41-902e-956c6bff421d:1)  Done (5s)\n",
      "Creating endpoint multi5 ..  Done (33s)\n",
      "Creating deployment etblue: Failed with operation id= 6F66019DD4C88F3B, service request id=45b5cb9c-338f-440e-b816-b616e3098f44, status=NotFound, error message = {'additional_properties': {}, 'code': None, 'message': None, 'target': None, 'details': None, 'additional_info': None}.\n",
      "More details: None\n",
      "Polling hit the exception (DeploymentFailed) At least one resource deployment operation failed. Please list deployment operations for details. Please see https://aka.ms/DeployOperations for usage details.\n",
      "\u001b[1m\u001b[31mCode: DeploymentFailed\n",
      "Message: At least one resource deployment operation failed. Please list deployment operations for details. Please see https://aka.ms/DeployOperations for usage details.\n",
      "Exception Details:\t(NotFound) {\n",
      "\t  \"error\": {\n",
      "\t    \"code\": \"UserError\",\n",
      "\t    \"message\": \"No definition exists for environment turing-conda version 7\",\n",
      "\t    \"target\": null,\n",
      "\t    \"details\": [],\n",
      "\t    \"additionalInfo\": [\n",
      "\t      {\n",
      "\t        \"type\": \"ComponentName\",\n",
      "\t        \"info\": \"managementfrontend\"\n",
      "\t      },\n",
      "\t      {\n",
      "\t        \"type\": \"Correlation\",\n",
      "\t        \"info\": {\n",
      "\t          \"operation\": \"748f6b7c3f0b674385380c24425256e4\",\n",
      "\t          \"request\": \"3521153db7496447\"\n",
      "\t        }\n",
      "\t      },\n",
      "\t      {\n",
      "\t        \"type\": \"Environment\",\n",
      "\t        \"info\": \"eastus2\"\n",
      "\t      },\n",
      "\t      {\n",
      "\t        \"type\": \"Location\",\n",
      "\t        \"info\": \"eastus2\"\n",
      "\t      },\n",
      "\t      {\n",
      "\t        \"type\": \"Time\",\n",
      "\t        \"info\": \"2021-05-20T10:01:02.1967082+00:00\"\n",
      "\t      },\n",
      "\t      {\n",
      "\t        \"type\": \"DebugInfo\",\n",
      "\t        \"info\": {\n",
      "\t          \"type\": \"Microsoft.MachineLearning.Common.Core.ServiceInvocationException\",\n",
      "\t          \"message\": \"Service invocation failed!\\r\\nRequest: GET https://eastus2.api.azureml.ms/environment/v1.0/subscriptions/92c76a2f-0e1c-4216-b65e-abf7a3f34c1e/resourceGroups/gsc-aml-lite-rg2/providers/Microsoft.MachineLearningServices/workspaces/gsc-aml-ws3/environments/turing-conda/versions/7/metadata?secrets=False\\r\\nStatus Code: 404 NotFound\\r\\nError Code: UserError/NotFoundError\\r\\nReason Phrase: No definition exists for environment turing-conda version 7\\r\\nResponse Body: {\\n  \\\"error\\\": {\\n    \\\"code\\\": \\\"UserError\\\",\\n    \\\"severity\\\": null,\\n    \\\"message\\\": \\\"No definition exists for environment turing-conda version 7\\\",\\n    \\\"messageFormat\\\": null,\\n    \\\"messageParameters\\\": null,\\n    \\\"referenceCode\\\": null,\\n    \\\"detailsUri\\\": null,\\n    \\\"target\\\": null,\\n    \\\"details\\\": [],\\n    \\\"innerError\\\": {\\n      \\\"code\\\": \\\"NotFoundError\\\",\\n      \\\"innerError\\\": null\\n    },\\n    \\\"debugInfo\\\": {\\n      \\\"type\\\": \\\"Common.WebApi.Exceptions.ResourceNotFoundException\\\",\\n      \\\"message\\\": \\\"No definition exists for environment turing-conda version 7\\\",\\n      \\\"stackTrace\\\": \\\"   at Microsoft.MachineLearning.EnvironmentManagement.Services.EnvironmentStateManager.GetDefinitionOrFail(WorkspaceScope workspace, String name, String version, Boolean secrets) in /mnt/vss/_work/2/s/src/azureml-api/src/EnvironmentManagement/Services/EnvironmentStateManager.cs:line 156\\\\n   at Microsoft.MachineLearning.EnvironmentManagement.EntryPoints.Api.Controllers.EnvironmentController.GetDefinitionAndMetadata(Guid subscriptionId, String resourceGroupName, String workspaceName, String environmentName, String version, Boolean secrets) in /mnt/vss/_work/2/s/src/azureml-api/src/EnvironmentManagement/EntryPoints/Api/Controllers/EnvironmentController.cs:line 235\\\\n   at lambda_method(Closure , Object )\\\\n   at Microsoft.AspNetCore.Mvc.Infrastructure.ActionMethodExecutor.AwaitableObjectResultExecutor.Execute(IActionResultTypeMapper mapper, ObjectMethodExecutor executor, Object controller, Object[] arguments)\\\\n   at Microsoft.AspNetCore.Mvc.Infrastructure.ControllerActionInvoker.<InvokeActionMethodAsync>g__Logged|12_1(ControllerActionInvoker invoker)\\\\n   at Microsoft.AspNetCore.Mvc.Infrastructure.ControllerActionInvoker.<InvokeNextActionFilterAsync>g__Awaited|10_0(ControllerActionInvoker invoker, Task lastTask, State next, Scope scope, Object state, Boolean isCompleted)\\\\n   at Microsoft.AspNetCore.Mvc.Infrastructure.ControllerActionInvoker.Rethrow(ActionExecutedContextSealed context)\\\\n   at Microsoft.AspNetCore.Mvc.Infrastructure.ControllerActionInvoker.Next(State& next, Scope& scope, Object& state, Boolean& isCompleted)\\\\n   at Microsoft.AspNetCore.Mvc.Infrastructure.ControllerActionInvoker.<InvokeInnerFilterAsync>g__Awaited|13_0(ControllerActionInvoker invoker, Task lastTask, State next, Scope scope, Object state, Boolean isCompleted)\\\\n   at Microsoft.AspNetCore.Mvc.Infrastructure.ResourceInvoker.<InvokeNextExceptionFilterAsync>g__Awaited|25_0(ResourceInvoker invoker, Task lastTask, State next, Scope scope, Object state, Boolean isCompleted)\\\",\\n      \\\"innerException\\\": null,\\n      \\\"data\\\": {},\\n      \\\"errorResponse\\\": null\\n    },\\n    \\\"additionalInfo\\\": null\\n  },\\n  \\\"correlation\\\": {\\n    \\\"operation\\\": \\\"748f6b7c3f0b674385380c24425256e4\\\",\\n    \\\"request\\\": \\\"e81decad838c724b\\\"\\n  },\\n  \\\"environment\\\": \\\"eastus2\\\",\\n  \\\"location\\\": \\\"eastus2\\\",\\n  \\\"time\\\": \\\"2021-05-20T10:01:02.190069+00:00\\\",\\n  \\\"componentName\\\": \\\"environment-management\\\"\\n}\",\n",
      "\t          \"stackTrace\": \"   at Microsoft.MachineLearning.Common.WebApi.Client.ServiceInvoker._MakeRequest(UriBuilder builder, MethodDetails details, CancellationToken cancellationToken, Nullable`1 initialStreamPosition, Object[] parameters) in /home/vsts/work/1/s/src/azureml-api/src/Common/WebApi.Client/ServiceInvoker.cs:line 745\\n   at Polly.Policy.<>c__DisplayClass181_0`1.<<ExecuteAsyncInternal>b__0>d.MoveNext()\\n--- End of stack trace from previous location where exception was thrown ---\\n   at Polly.RetrySyntaxAsync.<>c__DisplayClass30_1.<<WaitAndRetryAsync>b__1>d.MoveNext()\\n--- End of stack trace from previous location where exception was thrown ---\\n   at Polly.Retry.RetryEngine.ImplementationAsync[TResult](Func`3 action, Context context, CancellationToken cancellationToken, IEnumerable`1 shouldRetryExceptionPredicates, IEnumerable`1 shouldRetryResultPredicates, Func`1 policyStateFactory, Boolean continueOnCapturedContext)\\n   at Polly.Retry.RetryEngine.ImplementationAsync[TResult](Func`3 action, Context context, CancellationToken cancellationToken, IEnumerable`1 shouldRetryExceptionPredicates, IEnumerable`1 shouldRetryResultPredicates, Func`1 policyStateFactory, Boolean continueOnCapturedContext)\\n   at Polly.Policy.ExecuteAsyncInternal[TResult](Func`3 action, Context context, CancellationToken cancellationToken, Boolean continueOnCapturedContext)\\n   at Microsoft.MachineLearning.Common.WebApi.Client.ServiceInvoker._Invoke[T](String methodId, Object[] parameters) in /home/vsts/work/1/s/src/azureml-api/src/Common/WebApi.Client/ServiceInvoker.cs:line 207\\n   at Microsoft.MachineLearning.ManagementFrontEnd.Services.Clients.EnvironmentClient.GetEnvironmentDefinitionAndMetadataFromArmResourceId(WorkspaceContext2 workspace, String armResourceId) in /home/vsts/work/1/s/src/azureml-api/src/ManagementFrontEnd/Services/Clients/EnvironmentClient.cs:line 93\\n   at Microsoft.MachineLearning.ManagementFrontEnd.Services.OnlineDeploymentService.CreateOrUpdate(WorkspaceContext2 workspaceContext, String endpointName, String name, Resource`1 baseInferenceEndpoint) in /home/vsts/work/1/s/src/azureml-api/src/ManagementFrontEnd/Services/Services/OnlineDeploymentService.cs:line 160\\n   at Microsoft.MachineLearning.ManagementFrontEnd.EntryPoints.Api.V20210301Preview.Controllers.OnlineDeploymentController.CreateOrUpdate(WorkspaceContext2 workspaceContext, String endpointName, String deploymentName, TrackedResource`1 request, String apiVersion) in /home/vsts/work/1/s/src/azureml-api/src/ManagementFrontEnd/EntryPoints/Api/V20210301Preview/Controllers/OnlineDeploymentController.cs:line 190\\n   at Microsoft.AspNetCore.Mvc.Infrastructure.ActionMethodExecutor.TaskOfIActionResultExecutor.Execute(IActionResultTypeMapper mapper, ObjectMethodExecutor executor, Object controller, Object[] arguments)\\n   at Microsoft.AspNetCore.Mvc.Infrastructure.ControllerActionInvoker.<InvokeActionMethodAsync>g__Logged|12_1(ControllerActionInvoker invoker)\\n   at Microsoft.AspNetCore.Mvc.Infrastructure.ControllerActionInvoker.<InvokeNextActionFilterAsync>g__Awaited|10_0(ControllerActionInvoker invoker, Task lastTask, State next, Scope scope, Object state, Boolean isCompleted)\\n   at Microsoft.AspNetCore.Mvc.Infrastructure.ControllerActionInvoker.Rethrow(ActionExecutedContextSealed context)\\n   at Microsoft.AspNetCore.Mvc.Infrastructure.ControllerActionInvoker.Next(State& next, Scope& scope, Object& state, Boolean& isCompleted)\\n   at Microsoft.AspNetCore.Mvc.Infrastructure.ControllerActionInvoker.<InvokeInnerFilterAsync>g__Awaited|13_0(ControllerActionInvoker invoker, Task lastTask, State next, Scope scope, Object state, Boolean isCompleted)\\n   at Microsoft.AspNetCore.Mvc.Infrastructure.ResourceInvoker.<InvokeNextExceptionFilterAsync>g__Awaited|25_0(ResourceInvoker invoker, Task lastTask, State next, Scope scope, Object state, Boolean isCompleted)\",\n",
      "\t          \"innerException\": null,\n",
      "\t          \"data\": {},\n",
      "\t          \"errorResponse\": {\n",
      "\t            \"error\": {\n",
      "\t              \"code\": \"UserError\",\n",
      "\t              \"severity\": null,\n",
      "\t              \"message\": \"No definition exists for environment turing-conda version 7\",\n",
      "\t              \"messageFormat\": null,\n",
      "\t              \"messageParameters\": null,\n",
      "\t              \"referenceCode\": null,\n",
      "\t              \"detailsUri\": null,\n",
      "\t              \"target\": null,\n",
      "\t              \"details\": [],\n",
      "\t              \"innerError\": {\n",
      "\t                \"code\": \"NotFoundError\",\n",
      "\t                \"innerError\": null\n",
      "\t              },\n",
      "\t              \"debugInfo\": {\n",
      "\t                \"type\": \"Common.WebApi.Exceptions.ResourceNotFoundException\",\n",
      "\t                \"message\": \"No definition exists for environment turing-conda version 7\",\n",
      "\t                \"stackTrace\": \"   at Microsoft.MachineLearning.EnvironmentManagement.Services.EnvironmentStateManager.GetDefinitionOrFail(WorkspaceScope workspace, String name, String version, Boolean secrets) in /mnt/vss/_work/2/s/src/azureml-api/src/EnvironmentManagement/Services/EnvironmentStateManager.cs:line 156\\n   at Microsoft.MachineLearning.EnvironmentManagement.EntryPoints.Api.Controllers.EnvironmentController.GetDefinitionAndMetadata(Guid subscriptionId, String resourceGroupName, String workspaceName, String environmentName, String version, Boolean secrets) in /mnt/vss/_work/2/s/src/azureml-api/src/EnvironmentManagement/EntryPoints/Api/Controllers/EnvironmentController.cs:line 235\\n   at lambda_method(Closure , Object )\\n   at Microsoft.AspNetCore.Mvc.Infrastructure.ActionMethodExecutor.AwaitableObjectResultExecutor.Execute(IActionResultTypeMapper mapper, ObjectMethodExecutor executor, Object controller, Object[] arguments)\\n   at Microsoft.AspNetCore.Mvc.Infrastructure.ControllerActionInvoker.<InvokeActionMethodAsync>g__Logged|12_1(ControllerActionInvoker invoker)\\n   at Microsoft.AspNetCore.Mvc.Infrastructure.ControllerActionInvoker.<InvokeNextActionFilterAsync>g__Awaited|10_0(ControllerActionInvoker invoker, Task lastTask, State next, Scope scope, Object state, Boolean isCompleted)\\n   at Microsoft.AspNetCore.Mvc.Infrastructure.ControllerActionInvoker.Rethrow(ActionExecutedContextSealed context)\\n   at Microsoft.AspNetCore.Mvc.Infrastructure.ControllerActionInvoker.Next(State& next, Scope& scope, Object& state, Boolean& isCompleted)\\n   at Microsoft.AspNetCore.Mvc.Infrastructure.ControllerActionInvoker.<InvokeInnerFilterAsync>g__Awaited|13_0(ControllerActionInvoker invoker, Task lastTask, State next, Scope scope, Object state, Boolean isCompleted)\\n   at Microsoft.AspNetCore.Mvc.Infrastructure.ResourceInvoker.<InvokeNextExceptionFilterAsync>g__Awaited|25_0(ResourceInvoker invoker, Task lastTask, State next, Scope scope, Object state, Boolean isCompleted)\",\n",
      "\t                \"innerException\": null,\n",
      "\t                \"data\": {},\n",
      "\t                \"errorResponse\": null\n",
      "\t              },\n",
      "\t              \"additionalInfo\": null\n",
      "\t            },\n",
      "\t            \"correlation\": {\n",
      "\t              \"operation\": \"748f6b7c3f0b674385380c24425256e4\",\n",
      "\t              \"request\": \"e81decad838c724b\"\n",
      "\t            },\n",
      "\t            \"environment\": \"eastus2\",\n",
      "\t            \"location\": \"eastus2\",\n",
      "\t            \"time\": \"2021-05-20T10:01:02.190069+00:00\",\n",
      "\t            \"componentName\": \"environment-management\"\n",
      "\t          }\n",
      "\t        }\n",
      "\t      },\n",
      "\t      {\n",
      "\t        \"type\": \"DetailsUri\",\n",
      "\t        \"info\": null\n",
      "\t      },\n",
      "\t      {\n",
      "\t        \"type\": \"InnerError\",\n",
      "\t        \"info\": {\n",
      "\t          \"code\": \"NotFoundError\",\n",
      "\t          \"innerError\": null\n",
      "\t        }\n",
      "\t      },\n",
      "\t      {\n",
      "\t        \"type\": \"MessageFormat\",\n",
      "\t        \"info\": null\n",
      "\t      },\n",
      "\t      {\n",
      "\t        \"type\": \"MessageParameters\",\n",
      "\t        \"info\": null\n",
      "\t      },\n",
      "\t      {\n",
      "\t        \"type\": \"ReferenceCode\",\n",
      "\t        \"info\": null\n",
      "\t      },\n",
      "\t      {\n",
      "\t        \"type\": \"Severity\",\n",
      "\t        \"info\": null\n",
      "\t      }\n",
      "\t    ]\n",
      "\t  }\n",
      "\t}\n"
     ]
    },
    {
     "name": "stdout",
     "output_type": "stream",
     "text": [
      "\u001b[0m"
     ]
    }
   ],
   "source": [
    "!az ml endpoint create -g $resource_group -w $workspace --name $service_name -f deployment.yml"
   ]
  },
  {
   "cell_type": "code",
   "execution_count": null,
   "metadata": {},
   "outputs": [],
   "source": [
    "!az ml endpoint show -g $resource_group -w $workspace --name $service_name"
   ]
  },
  {
   "cell_type": "markdown",
   "metadata": {},
   "source": [
    "## Test Webservice\n",
    "\n",
    "Get scoring URI and auth token"
   ]
  },
  {
   "cell_type": "code",
   "execution_count": null,
   "metadata": {},
   "outputs": [],
   "source": [
    "!az ml endpoint list-keys -g $resource_group -w $workspace --name $service_name"
   ]
  },
  {
   "cell_type": "code",
   "execution_count": null,
   "metadata": {},
   "outputs": [],
   "source": [
    "import requests\n",
    "\n",
    "service_key = \"service_key\"\n",
    "headers = {}\n",
    "headers[\"Authorization\"] = f\"Bearer {service_key}\"\n",
    "\n",
    "# Check the state of server.\n",
    "service_url = \"service_url\"\n",
    "requests.get(f\"{service_url}/v2/health/ready\", headers=headers)"
   ]
  },
  {
   "cell_type": "code",
   "execution_count": null,
   "metadata": {},
   "outputs": [],
   "source": [
    "# Check the status of model.\n",
    "resp = requests.post(f\"{service_url}/v2/repository/index\", headers=headers)\n",
    "print(resp.text)"
   ]
  },
  {
   "cell_type": "code",
   "execution_count": null,
   "metadata": {},
   "outputs": [],
   "source": [
    "# Check metadata of model for inference \n",
    "resp = requests.get(f\"{service_url}/v2/models/bidaf-9\", headers=headers)\n",
    "print(resp.text)"
   ]
  },
  {
   "cell_type": "code",
   "execution_count": null,
   "metadata": {},
   "outputs": [],
   "source": [
    "resp = requests.get(f\"{service_url}/v2/models/densenet_onnx\", headers=headers)\n",
    "print(resp.text)"
   ]
  }
 ],
 "metadata": {
  "kernelspec": {
   "display_name": "Python 3",
   "language": "python",
   "name": "python3"
  },
  "language_info": {
   "codemirror_mode": {
    "name": "ipython",
    "version": 3
   },
   "file_extension": ".py",
   "mimetype": "text/x-python",
   "name": "python",
   "nbconvert_exporter": "python",
   "pygments_lexer": "ipython3",
   "version": "3.7.10"
  }
 },
 "nbformat": 4,
 "nbformat_minor": 4
}
