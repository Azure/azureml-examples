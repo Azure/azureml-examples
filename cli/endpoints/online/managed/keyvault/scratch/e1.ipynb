{
 "cells": [
  {
   "cell_type": "code",
   "execution_count": 3,
   "metadata": {},
   "outputs": [],
   "source": [
    "from azure.identity import ManagedIdentityCredential, DefaultAzureCredential \n",
    "from azure.keyvault.secrets import SecretClient\n",
    "from azure.ai.ml import MLClient\n",
    "from azure.ai.ml.entities._workspace.connections.credentials import "
   ]
  },
  {
   "cell_type": "code",
   "execution_count": null,
   "metadata": {},
   "outputs": [],
   "source": [
    "m = MLClient"
   ]
  },
  {
   "cell_type": "code",
   "execution_count": 4,
   "metadata": {},
   "outputs": [
    {
     "ename": "ValidationException",
     "evalue": "Both subscription id and resource group are required for this operation, missing subscription id and resource group",
     "output_type": "error",
     "traceback": [
      "\u001b[0;31m---------------------------------------------------------------------------\u001b[0m",
      "\u001b[0;31mValidationException\u001b[0m                       Traceback (most recent call last)",
      "Cell \u001b[0;32mIn [4], line 1\u001b[0m\n\u001b[0;32m----> 1\u001b[0m MLClient(DefaultAzureCredential())\n",
      "File \u001b[0;32m/anaconda/envs/kv1/lib/python3.10/site-packages/azure/ai/ml/_ml_client.py:167\u001b[0m, in \u001b[0;36mMLClient.__init__\u001b[0;34m(self, credential, subscription_id, resource_group_name, workspace_name, registry_name, **kwargs)\u001b[0m\n\u001b[1;32m    160\u001b[0m     \u001b[39mraise\u001b[39;00m ValidationException(\n\u001b[1;32m    161\u001b[0m     message\u001b[39m=\u001b[39m\u001b[39m\"\u001b[39m\u001b[39mBoth workspace_name and registry_name cannot be used together, for the ml_client.\u001b[39m\u001b[39m\"\u001b[39m,\n\u001b[1;32m    162\u001b[0m     no_personal_data_message\u001b[39m=\u001b[39m\u001b[39m\"\u001b[39m\u001b[39mBoth workspace_name and registry_name are used for ml_client.\u001b[39m\u001b[39m\"\u001b[39m,\n\u001b[1;32m    163\u001b[0m     target\u001b[39m=\u001b[39mErrorTarget\u001b[39m.\u001b[39mGENERAL,\n\u001b[1;32m    164\u001b[0m     error_category\u001b[39m=\u001b[39mErrorCategory\u001b[39m.\u001b[39mUSER_ERROR,\n\u001b[1;32m    165\u001b[0m )\n\u001b[1;32m    166\u001b[0m \u001b[39mif\u001b[39;00m \u001b[39mnot\u001b[39;00m registry_name:\n\u001b[0;32m--> 167\u001b[0m     _validate_missing_sub_or_rg_and_raise(subscription_id, resource_group_name)\n\u001b[1;32m    168\u001b[0m \u001b[39mself\u001b[39m\u001b[39m.\u001b[39m_credential \u001b[39m=\u001b[39m credential\n\u001b[1;32m    170\u001b[0m show_progress \u001b[39m=\u001b[39m kwargs\u001b[39m.\u001b[39mpop(\u001b[39m\"\u001b[39m\u001b[39mshow_progress\u001b[39m\u001b[39m\"\u001b[39m, \u001b[39mTrue\u001b[39;00m)\n",
      "File \u001b[0;32m/anaconda/envs/kv1/lib/python3.10/site-packages/azure/ai/ml/_utils/utils.py:896\u001b[0m, in \u001b[0;36m_validate_missing_sub_or_rg_and_raise\u001b[0;34m(subscription_id, resource_group)\u001b[0m\n\u001b[1;32m    893\u001b[0m     sub_msg \u001b[39m=\u001b[39m \u001b[39m\"\u001b[39m\u001b[39mresource group\u001b[39m\u001b[39m\"\u001b[39m\n\u001b[1;32m    895\u001b[0m \u001b[39mif\u001b[39;00m sub_msg:\n\u001b[0;32m--> 896\u001b[0m     \u001b[39mraise\u001b[39;00m ValidationException(\n\u001b[1;32m    897\u001b[0m         message\u001b[39m=\u001b[39mmsg\u001b[39m.\u001b[39mformat(sub_msg),\n\u001b[1;32m    898\u001b[0m         no_personal_data_message\u001b[39m=\u001b[39mmsg\u001b[39m.\u001b[39mformat(sub_msg),\n\u001b[1;32m    899\u001b[0m         target\u001b[39m=\u001b[39mErrorTarget\u001b[39m.\u001b[39mGENERAL,\n\u001b[1;32m    900\u001b[0m         error_category\u001b[39m=\u001b[39mErrorCategory\u001b[39m.\u001b[39mUSER_ERROR,\n\u001b[1;32m    901\u001b[0m     )\n",
      "\u001b[0;31mValidationException\u001b[0m: Both subscription id and resource group are required for this operation, missing subscription id and resource group"
     ]
    }
   ],
   "source": [
    "MLClient(DefaultAzureCredential(), subscription_id=)"
   ]
  },
  {
   "cell_type": "code",
   "execution_count": null,
   "metadata": {},
   "outputs": [],
   "source": [
    "m.environments"
   ]
  },
  {
   "cell_type": "code",
   "execution_count": null,
   "metadata": {},
   "outputs": [],
   "source": [
    "vault_name = "
   ]
  },
  {
   "cell_type": "code",
   "execution_count": 1,
   "metadata": {},
   "outputs": [
    {
     "ename": "SyntaxError",
     "evalue": "invalid syntax (3481428614.py, line 1)",
     "output_type": "error",
     "traceback": [
      "\u001b[0;36m  Cell \u001b[0;32mIn [1], line 1\u001b[0;36m\u001b[0m\n\u001b[0;31m    secret_client =\u001b[0m\n\u001b[0m                    ^\u001b[0m\n\u001b[0;31mSyntaxError\u001b[0m\u001b[0;31m:\u001b[0m invalid syntax\n"
     ]
    }
   ],
   "source": [
    "secret_client = SecretClient"
   ]
  }
 ],
 "metadata": {
  "kernelspec": {
   "display_name": "Python 3.8 - AzureML",
   "language": "python",
   "name": "python38-azureml"
  },
  "language_info": {
   "codemirror_mode": {
    "name": "ipython",
    "version": 3
   },
   "file_extension": ".py",
   "mimetype": "text/x-python",
   "name": "python",
   "nbconvert_exporter": "python",
   "pygments_lexer": "ipython3",
   "version": "3.10.6"
  },
  "orig_nbformat": 4,
  "vscode": {
   "interpreter": {
    "hash": "023d9ae598c59591e0d290d91bc7dfa084141c23bf3f1e728ee3e9de1abddc06"
   }
  }
 },
 "nbformat": 4,
 "nbformat_minor": 2
}
