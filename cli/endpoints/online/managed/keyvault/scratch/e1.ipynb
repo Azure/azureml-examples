{
 "cells": [
  {
   "cell_type": "code",
   "execution_count": null,
   "metadata": {},
   "outputs": [],
   "source": []
  }
 ],
 "metadata": {
  "kernelspec": {
   "display_name": "Python 3.10.6 ('binary1')",
   "language": "python",
   "name": "python3"
  },
  "language_info": {
   "name": "python",
   "version": "3.10.6"
  },
  "orig_nbformat": 4,
  "vscode": {
   "interpreter": {
    "hash": "3e6a56a83109df740cdc16cae5024e775b4a9d7605bdddb4d05f1bd3ae7d3034"
   }
  }
 },
 "nbformat": 4,
 "nbformat_minor": 2
}
