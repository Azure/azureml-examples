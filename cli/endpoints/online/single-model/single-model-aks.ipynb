{
 "cells": [
  {
   "cell_type": "markdown",
   "metadata": {},
   "source": [
    "## Download model\n",
    "\n",
    "It's important that your model have this directory structure for Triton Inference Server to be able to load it. [Read more about the directory structure that Triton expects](https://docs.nvidia.com/deeplearning/triton-inference-server/user-guide/docs/model_repository.html)."
   ]
  },
  {
   "cell_type": "code",
   "execution_count": null,
   "metadata": {},
   "outputs": [],
   "source": [
    "!pip install azure-storage-blob"
   ]
  },
  {
   "cell_type": "code",
   "execution_count": null,
   "metadata": {
    "tags": []
   },
   "outputs": [],
   "source": [
    "import os\n",
    "import sys\n",
    "from pathlib import Path\n",
    "from src.model_utils import download_triton_models, delete_triton_models\n",
    "\n",
    "prefix = Path(\".\")\n",
    "download_triton_models(prefix)"
   ]
  },
  {
   "cell_type": "markdown",
   "metadata": {},
   "source": [
    "## Register model\n",
    "\n",
    "The registered model should follow the Triton specified model folder structure for Triton Inference Server to be able to load it."
   ]
  },
  {
   "cell_type": "code",
   "execution_count": 33,
   "metadata": {},
   "outputs": [],
   "source": [
    "subscripton = \"subscription_id\"\n",
    "resource_group = \"resource_group\"\n",
    "workspace = \"workspace\"\n",
    "model_name = \"densenet-onnx\"\n",
    "endpoint_name = \"single2\""
   ]
  },
  {
   "cell_type": "code",
   "execution_count": null,
   "metadata": {},
   "outputs": [],
   "source": [
    "!az ml model create -n $model_name -v 1 -l models -g $resource_group -w $workspace --subscription $subscripton"
   ]
  },
  {
   "cell_type": "code",
   "execution_count": null,
   "metadata": {},
   "outputs": [],
   "source": [
    "!az ml model show -n $model_name -v 1 -g $resource_group -w $workspace --subscription $subscripton"
   ]
  },
  {
   "cell_type": "markdown",
   "metadata": {},
   "source": [
    "## Create endpoint\n",
    "\n",
    "Deploy to a [pre created AKS compute](https://docs.microsoft.com/en-us/azure/machine-learning/how-to-create-attach-kubernetes?tabs=python#create-a-new-aks-cluster) aks-test."
   ]
  },
  {
   "cell_type": "code",
   "execution_count": null,
   "metadata": {},
   "outputs": [],
   "source": [
    "!az ml endpoint create -g $resource_group -w $workspace -n $endpoint_name -f .\\endpoint-aks.yml"
   ]
  },
  {
   "cell_type": "code",
   "execution_count": null,
   "metadata": {},
   "outputs": [],
   "source": [
    "!az ml endpoint show -g $resource_group -w $workspace -n $endpoint_name"
   ]
  },
  {
   "cell_type": "markdown",
   "metadata": {},
   "source": [
    "## Test Webservice\n",
    "\n",
    "Get scoring URI and auth token"
   ]
  },
  {
   "cell_type": "code",
   "execution_count": 27,
   "metadata": {},
   "outputs": [
    {
     "name": "stdout",
     "output_type": "stream",
     "text": [
      "[\"WARNING: Command group 'ml endpoint' is experimental and under development. Reference and support levels: https://aka.ms/CLI_refstatus\", '\"http://20.64.193.89:80/api/v1/service/single2/score\"']\n"
     ]
    }
   ],
   "source": [
    "!az ml endpoint show -g $resource_group -w $workspace -n $endpoint_name --query \"scoring_uri\""
   ]
  },
  {
   "cell_type": "code",
   "execution_count": null,
   "metadata": {},
   "outputs": [],
   "source": [
    "!az ml endpoint list-keys -g $resource_group -w $workspace -n $endpoint_name"
   ]
  },
  {
   "cell_type": "code",
   "execution_count": 1,
   "metadata": {},
   "outputs": [
    {
     "data": {
      "text/plain": [
       "<Response [200]>"
      ]
     },
     "execution_count": 1,
     "metadata": {},
     "output_type": "execute_result"
    }
   ],
   "source": [
    "import requests\n",
    "\n",
    "service_key = \"service_key\"\n",
    "headers = {}\n",
    "headers[\"Authorization\"] = f\"Bearer {service_key}\"\n",
    "\n",
    "# Check the state of server.\n",
    "service_url = \"service_url\"\n",
    "requests.get(f\"{service_url}/v2/health/ready\", headers=headers)"
   ]
  },
  {
   "cell_type": "code",
   "execution_count": 2,
   "metadata": {},
   "outputs": [
    {
     "name": "stdout",
     "output_type": "stream",
     "text": [
      "[{\"name\":\"densenet_onnx\",\"version\":\"1\",\"state\":\"READY\"}]\n"
     ]
    }
   ],
   "source": [
    "# Check the status of model.\n",
    "resp = requests.post(f\"{service_url}/v2/repository/index\", headers=headers)\n",
    "print(resp.text)"
   ]
  },
  {
   "cell_type": "code",
   "execution_count": 14,
   "metadata": {},
   "outputs": [
    {
     "name": "stdout",
     "output_type": "stream",
     "text": [
      "{\"name\":\"densenet_onnx\",\"versions\":[\"1\"],\"platform\":\"onnxruntime_onnx\",\"inputs\":[{\"name\":\"data_0\",\"datatype\":\"FP32\",\"shape\":[1,3,224,224]}],\"outputs\":[{\"name\":\"fc6_1\",\"datatype\":\"FP32\",\"shape\":[1,1000,1,1]}]}\n"
     ]
    }
   ],
   "source": [
    "# Check metadata of model for inference \n",
    "resp = requests.get(f\"{service_url}/v2/models/densenet_onnx\", headers=headers)\n",
    "print(resp.text)"
   ]
  },
  {
   "cell_type": "code",
   "execution_count": 46,
   "metadata": {},
   "outputs": [
    {
     "name": "stdout",
     "output_type": "stream",
     "text": [
      "Collecting pillow\n",
      "  Downloading Pillow-8.2.0-cp38-cp38-win_amd64.whl (2.2 MB)\n",
      "Installing collected packages: pillow\n",
      "Successfully installed pillow-8.2.0\n"
     ]
    }
   ],
   "source": [
    "# Install pillow for densenet preprocessing\n",
    "!pip install pillow"
   ]
  },
  {
   "cell_type": "code",
   "execution_count": 4,
   "metadata": {},
   "outputs": [
    {
     "data": {
      "text/plain": [
       "'84 : PEACOCK'"
      ]
     },
     "execution_count": 4,
     "metadata": {},
     "output_type": "execute_result"
    }
   ],
   "source": [
    "import json\n",
    "import numpy as np\n",
    "from src.densenet_utils import preprocess, postprocess\n",
    "from pathlib import Path\n",
    "\n",
    "img_content = requests.get(\"https://aka.ms/peacock-pic\").content\n",
    "img_data = preprocess(img_content, scaling=\"INCEPTION\")\n",
    "\n",
    "score_input = '{\"inputs\":[{\"name\":\"data_0\",\"data\":'+str(img_data.flatten().tolist())+',\"datatype\":\"FP32\",\"shape\":[1,3,224,224]}]}'\n",
    "resp = requests.post(f\"{service_url}/v2/models/densenet_onnx/infer\", data=score_input, headers=headers)\n",
    "data = json.loads(resp.text)\n",
    "\n",
    "max_label = np.array(data[\"outputs\"][0][\"data\"]).argmax()\n",
    "\n",
    "label_path = Path(\".\").joinpath(\"src\",\"densenet_labels.txt\")\n",
    "result = postprocess(max_label, label_path)\n",
    "\n",
    "result"
   ]
  }
 ],
 "metadata": {
  "kernelspec": {
   "display_name": "Python 3",
   "language": "python",
   "name": "python3"
  },
  "language_info": {
   "codemirror_mode": {
    "name": "ipython",
    "version": 3
   },
   "file_extension": ".py",
   "mimetype": "text/x-python",
   "name": "python",
   "nbconvert_exporter": "python",
   "pygments_lexer": "ipython3",
   "version": "3.7.10"
  }
 },
 "nbformat": 4,
 "nbformat_minor": 4
}
