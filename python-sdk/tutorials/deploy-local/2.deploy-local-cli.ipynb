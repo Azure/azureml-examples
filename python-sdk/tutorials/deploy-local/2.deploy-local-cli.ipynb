{
 "cells": [
  {
   "cell_type": "markdown",
   "id": "fd969e25",
   "metadata": {
    "name": "deploy-models-to-azure"
   },
   "source": [
    "# Deploy machine learning models to Azure\n",
    "\n",
    "description: (preview) deploy your machine learning or deep learning model as a web service in the Azure cloud."
   ]
  },
  {
   "cell_type": "markdown",
   "id": "996082fd",
   "metadata": {
    "name": "connect-to-workspace"
   },
   "source": [
    "## Connect to your workspace"
   ]
  },
  {
   "cell_type": "code",
   "execution_count": null,
   "id": "9a9f14ab",
   "metadata": {
    "name": "connect-to-workspace-code"
   },
   "outputs": [],
   "source": [
    "from azureml.core import Workspace\n",
    "\n",
    "# get workspace configurations\n",
    "ws = Workspace.from_config()\n",
    "\n",
    "# get subscription and resourcegroup from config\n",
    "SUBSCRIPTION_ID = ws.subscription_id\n",
    "RESOURCE_GROUP = ws.resource_group\n",
    "\n",
    "RESOURCE_GROUP, SUBSCRIPTION_ID"
   ]
  },
  {
   "cell_type": "code",
   "execution_count": null,
   "id": "b394a5aa",
   "metadata": {
    "name": "connect-to-workspace-code"
   },
   "outputs": [],
   "source": [
    "!az account set -s $SUBSCRIPTION_ID\n",
    "!az ml workspace list --resource-group=$RESOURCE_GROUP"
   ]
  },
  {
   "cell_type": "markdown",
   "id": "9057aaf6",
   "metadata": {
    "name": "register-the-model"
   },
   "source": [
    "## Register your model\n",
    "\n",
    "A registered model is a logical container stored in the cloud, containing all files located at `model_path`, which is associated with a version number and other metadata.\n",
    "\n"
   ]
  },
  {
   "cell_type": "markdown",
   "id": "cfe3cd0e",
   "metadata": {
    "name": "register-model-from-local-file"
   },
   "source": [
    "## Register a model from a local file\n",
    "\n",
    "You can register a model by providing the local path of the model. You can provide the path of either a folder or a single file on your local machine."
   ]
  },
  {
   "cell_type": "code",
   "execution_count": null,
   "id": "fbf6e9da",
   "metadata": {
    "name": "register-model-from-local-file-code"
   },
   "outputs": [],
   "source": [
    "!wget https://aka.ms/bidaf-9-model -o model.onnx\n",
    "!az ml model register -n bidaf_onnx -p ./model.onnx"
   ]
  },
  {
   "cell_type": "markdown",
   "id": "f5d34207",
   "metadata": {
    "name": "deploy-model"
   },
   "source": [
    "## Deploy your machine learning model\n",
    "\n",
    "Replace bidaf_onnx:1 with the name of your model and its version number"
   ]
  },
  {
   "cell_type": "code",
   "execution_count": null,
   "id": "9762e02b",
   "metadata": {
    "name": "deploy-model-code",
    "scrolled": true
   },
   "outputs": [],
   "source": [
    "!az ml model deploy -n myservice -m bidaf_onnx:1 --overwrite --ic dummyinferenceconfig.json --dc deploymentconfig.json\n",
    "!az ml service get-logs -n myservice"
   ]
  },
  {
   "cell_type": "markdown",
   "id": "1b9d47b4",
   "metadata": {
    "name": "call-into-model"
   },
   "source": [
    "## Call into your model"
   ]
  },
  {
   "cell_type": "code",
   "execution_count": null,
   "id": "45e92e91",
   "metadata": {
    "name": "call-into-model-code"
   },
   "outputs": [],
   "source": [
    "!curl -v http://localhost:32267\n",
    "!curl -v -X POST -H \"content-type:application/json\" -d '{\"query\": \"What color is the fox\", \"context\": \"The quick brown fox jumped over the lazy dog.\"}' http://localhost:32267/score"
   ]
  },
  {
   "cell_type": "markdown",
   "id": "34c9e82c",
   "metadata": {
    "name": "notice"
   },
   "source": [
    "Notice the use of the AZUREML_MODEL_DIR environment variable to locate your registered model. Now that you've added some pip packages, you also need to update your inference configuration with [new configurations](https://docs.microsoft.com/en-us/azure/machine-learning/how-to-deploy-and-where?tabs=azcli#tabpanel_7_azcli) to add in those additional packages"
   ]
  },
  {
   "cell_type": "markdown",
   "id": "08c0c387",
   "metadata": {
    "name": "re-deploy-model"
   },
   "source": [
    "## Deploy again and call your service\n",
    "\n",
    "Now that we've deployed successfully with a dummy entry script, let's try deploying with a real one. Replace `bidaf_onnx:1` with the name of your model and its version number"
   ]
  },
  {
   "cell_type": "code",
   "execution_count": null,
   "id": "fd084966",
   "metadata": {
    "name": "re-deploy-model-code"
   },
   "outputs": [],
   "source": [
    "!az ml model deploy -n myservice -m bidaf_onnx:1 --overwrite --ic inferenceconfig.json --dc deploymentconfig.json\n",
    "!az ml service get-logs -n myservice"
   ]
  },
  {
   "cell_type": "markdown",
   "id": "7861af8f",
   "metadata": {
    "name": "send-post-request"
   },
   "source": [
    "Then ensure you can send a post request to the service:"
   ]
  },
  {
   "cell_type": "code",
   "execution_count": null,
   "id": "c0dac0e2",
   "metadata": {
    "name": "send-post-request-code"
   },
   "outputs": [],
   "source": [
    "!curl -v -X POST -H \"content-type:application/json\" -d '{\"query\": \"What color is the fox\", \"context\": \"The quick brown fox jumped over the lazy dog.\"}' http://localhost:32267/score"
   ]
  },
  {
   "cell_type": "markdown",
   "id": "fc9aab6b",
   "metadata": {
    "name": "deploy-model-on-cloud"
   },
   "source": [
    "## Re-deploy to cloud\n",
    "\n",
    "Once you've confirmed your service works locally and chosen a remote compute target, you are ready to deploy to the cloud.\n",
    "Change your re-deploy configuration to correspond to the compute target you've chosen, in this case Azure Container Instances.\n",
    "\n",
    "Deploy your service again"
   ]
  },
  {
   "cell_type": "code",
   "execution_count": null,
   "id": "51029f65",
   "metadata": {
    "name": "deploy-model-on-cloud-code"
   },
   "outputs": [],
   "source": [
    "!az ml model deploy -n myaciservice -m bidaf_onnx:1 --overwrite --ic inferenceconfig.json --dc re-deploymentconfig.json\n",
    "!az ml service get-logs -n myaciservice"
   ]
  },
  {
   "cell_type": "markdown",
   "id": "b5448133",
   "metadata": {
    "name": "call-remote-webservice"
   },
   "source": [
    "## Call your remote webservice\n",
    "\n",
    "When you deploy remotely, you may have key authentication enabled. The example below shows how to get your service key with Python in order to make an inference request."
   ]
  },
  {
   "cell_type": "code",
   "execution_count": null,
   "id": "fd48987d",
   "metadata": {
    "name": "call-remote-webservice-code"
   },
   "outputs": [],
   "source": [
    "import requests\n",
    "import json\n",
    "from azureml.core import Webservice, Workspace\n",
    "\n",
    "ws = Workspace.from_config()\n",
    "\n",
    "service = Webservice(workspace=ws, name=\"myaciservice\")\n",
    "scoring_uri = service.scoring_uri\n",
    "\n",
    "# If the service is authenticated, set the key or token\n",
    "key, _ = service.get_keys()\n",
    "\n",
    "# Set the appropriate headers\n",
    "headers = {\"Content-Type\": \"application/json\"}\n",
    "headers[\"Authorization\"] = f\"Bearer {key}\"\n",
    "\n",
    "# Make the request and display the response and logs\n",
    "data = {\n",
    "    \"query\": \"What color is the fox\",\n",
    "    \"context\": \"The quick brown fox jumped over the lazy dog.\",\n",
    "}\n",
    "data = json.dumps(data)\n",
    "resp = requests.post(scoring_uri, data=data, headers=headers)\n",
    "print(resp.text)"
   ]
  },
  {
   "cell_type": "code",
   "execution_count": null,
   "id": "51a6b357",
   "metadata": {
    "name": "call-remote-web-service-print-logs"
   },
   "outputs": [],
   "source": [
    "print(service.get_logs())"
   ]
  },
  {
   "cell_type": "markdown",
   "id": "63a8ef4c",
   "metadata": {
    "name": "delete-resource"
   },
   "source": [
    "# Delete resources "
   ]
  },
  {
   "cell_type": "code",
   "execution_count": null,
   "id": "0ffb1039",
   "metadata": {
    "name": "delete-resource-code"
   },
   "outputs": [],
   "source": [
    "# Get the current model id\n",
    "import os\n",
    "\n",
    "stream = os.popen(\n",
    "    'az ml model list --model-name=bidaf_onnx --latest --query \"[0].id\" -o tsv'\n",
    ")\n",
    "MODEL_ID = stream.read()[0:-1]\n",
    "MODEL_ID"
   ]
  },
  {
   "cell_type": "code",
   "execution_count": null,
   "id": "d1b69c6c",
   "metadata": {
    "name": "delete-your-resource-code"
   },
   "outputs": [],
   "source": [
    "!az ml service delete -n myservice\n",
    "!az ml service delete -n myaciservice\n",
    "!az ml model delete --model-id=$MODEL_ID"
   ]
  },
  {
   "cell_type": "markdown",
   "id": "4f3af1a4",
   "metadata": {
    "name": "next-steps"
   },
   "source": [
    "## Next Steps"
   ]
  },
  {
   "cell_type": "markdown",
   "id": "8f530f08",
   "metadata": {
    "name": "next-steps-link"
   },
   "source": [
    "Try reading [our documentation](https://docs.microsoft.com/en-us/azure/machine-learning/how-to-deploy-and-where?tabs=python)"
   ]
  }
 ],
 "metadata": {
  "kernelspec": {
   "display_name": "Python 3.8",
   "language": "python",
   "name": "python3.8"
  },
  "language_info": {
   "codemirror_mode": {
    "name": "ipython",
    "version": 3
   },
   "file_extension": ".py",
   "mimetype": "text/x-python",
   "name": "python",
   "nbconvert_exporter": "python",
   "pygments_lexer": "ipython3",
   "version": "3.7.10"
  }
 },
 "nbformat": 4,
 "nbformat_minor": 5
}
