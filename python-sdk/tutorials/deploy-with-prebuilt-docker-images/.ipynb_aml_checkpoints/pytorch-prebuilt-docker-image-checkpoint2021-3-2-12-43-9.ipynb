{
  "cells": [
    {
      "cell_type": "markdown",
      "source": [
        "**Copyright (c) Microsoft Corporation. All rights reserved.**\r\n",
        "\r\n",
        "**Licensed under the MIT License.**"
      ],
      "metadata": {
        "nteract": {
          "transient": {
            "deleting": false
          }
        }
      }
    },
    {
      "cell_type": "markdown",
      "source": [
        "# Inference-optimized Curated Images\r\n",
        "\r\n",
        "In this tutorial, you will deploy a PyTorch model using the Azure Machine Learning (Azure ML) Python SDK.\r\n",
        "\r\n",
        "This tutorial is based on a trained image classification model using [Transfer Learning tutorial](https://pytorch.org/tutorials/beginner/transfer_learning_tutorial.html). \r\n",
        "\r\n",
        "The model is trained to classify chickens and turkeys by first using a pretrained ResNet18 model that has been trained on the [ImageNet](http://image-net.org/index) dataset. \r\n"
      ],
      "metadata": {
        "nteract": {
          "transient": {
            "deleting": false
          }
        }
      }
    },
    {
      "cell_type": "markdown",
      "source": [
        "## Prerequisites\r\n",
        "* If you are using an Azure Machine Learning Notebook VM, you are all set. Otherwise, go through the [Configuration](../../../../configuration.ipynb) notebook to install the Azure Machine Learning Python SDK and create an Azure ML `Workspace`"
      ],
      "metadata": {
        "nteract": {
          "transient": {
            "deleting": false
          }
        }
      }
    },
    {
      "cell_type": "code",
      "source": [
        "# Check core SDK version number\r\n",
        "import azureml.core\r\n",
        "\r\n",
        "print(\"SDK version:\", azureml.core.VERSION)"
      ],
      "outputs": [],
      "execution_count": null,
      "metadata": {
        "collapsed": true,
        "jupyter": {
          "source_hidden": false,
          "outputs_hidden": false
        },
        "nteract": {
          "transient": {
            "deleting": false
          }
        },
        "gather": {
          "logged": 1617390423228
        }
      }
    },
    {
      "cell_type": "markdown",
      "source": [
        "## Initialize workspace\r\n",
        "Initialize a [Workspace](https://docs.microsoft.com/azure/machine-learning/service/concept-azure-machine-learning-architecture#workspace) object from the existing workspace you created in the Prerequisites step. `Workspace.from_config()` creates a workspace object from the details stored in `config.json`."
      ],
      "metadata": {
        "nteract": {
          "transient": {
            "deleting": false
          }
        }
      }
    },
    {
      "cell_type": "code",
      "source": [
        "from azureml.core.workspace import Workspace\r\n",
        "\r\n",
        "ws = Workspace.from_config()\r\n",
        "print('Workspace name: ' + ws.name, \r\n",
        "      'Azure region: ' + ws.location, \r\n",
        "      'Subscription id: ' + ws.subscription_id, \r\n",
        "      'Resource group: ' + ws.resource_group, sep='\\n')"
      ],
      "outputs": [],
      "execution_count": null,
      "metadata": {
        "collapsed": true,
        "jupyter": {
          "source_hidden": false,
          "outputs_hidden": false
        },
        "nteract": {
          "transient": {
            "deleting": false
          }
        },
        "gather": {
          "logged": 1617390429576
        }
      }
    },
    {
      "cell_type": "markdown",
      "source": [
        "## Register model\r\n",
        "Register a file or folder as a model by calling [Model.register()](https://docs.microsoft.com/en-us/python/api/azureml-core/azureml.core.model.model?view=azure-ml-py#register-workspace--model-path--model-name--tags-none--properties-none--description-none--datasets-none--model-framework-none--model-framework-version-none--child-paths-none--sample-input-dataset-none--sample-output-dataset-none--resource-configuration-none-)\r\n",
        "\r\n",
        "In addition to the content of the model file itself, your registered model will also store model metadata -- model description, tags, and framework information -- that will be useful when managing and deploying models in your workspace. Using tags, for instance, you can categorize your models and apply filters when listing models in your workspace"
      ],
      "metadata": {
        "nteract": {
          "transient": {
            "deleting": false
          }
        }
      }
    },
    {
      "cell_type": "code",
      "source": [
        "from azureml.core.model import Model\r\n",
        "\r\n",
        "#Register the model\r\n",
        "model = Model.register(model_name = 'pytorch-birds-model', model_path = 'pytorch-birds/outputs/model.pt', workspace = ws)"
      ],
      "outputs": [],
      "execution_count": null,
      "metadata": {
        "collapsed": true,
        "jupyter": {
          "source_hidden": false,
          "outputs_hidden": false
        },
        "nteract": {
          "transient": {
            "deleting": false
          }
        },
        "gather": {
          "logged": 1617390466150
        }
      }
    },
    {
      "cell_type": "markdown",
      "source": [
        "## Deploy model as web service\r\n",
        "Once you have your trained model, you can deploy the model on Azure. \r\n",
        "\r\n",
        "In this tutorial, we will deploy the model as a web service in [Azure Container Instances (ACI)](https://docs.microsoft.com/en-us/azure/container-instances/).\r\n",
        "\r\n",
        "For more information on deploying models using Azure Machine Learning, refer [here](https://docs.microsoft.com/azure/machine-learning/service/how-to-deploy-and-where)."
      ],
      "metadata": {
        "nteract": {
          "transient": {
            "deleting": false
          }
        }
      }
    },
    {
      "cell_type": "markdown",
      "source": [
        "# Write the requirements.txt\r\n",
        "Write the `requirements.txt`\r\n",
        "\r\n",
        "> **Pin each package version:**\r\n",
        "Even while prototyping, pin each package version in requirements.txt. \r\n",
        "For example, use scipy == 1.2.3 instead of just scipy or even scipy > 1.2.3. \r\n",
        "If you don't pin an exact version and scipy releases a new version, this can break your scoring script and cause failures during deployment and scaling."
      ],
      "metadata": {
        "nteract": {
          "transient": {
            "deleting": false
          }
        }
      }
    },
    {
      "cell_type": "code",
      "source": [
        "  %%writefile requirements.txt\r\n",
        "  torchvision==0.7.0\r\n",
        "  future==0.17.1\r\n",
        "  pillow==6.2.2"
      ],
      "outputs": [],
      "execution_count": null,
      "metadata": {
        "collapsed": true,
        "jupyter": {
          "source_hidden": false,
          "outputs_hidden": false
        },
        "nteract": {
          "transient": {
            "deleting": false
          }
        }
      }
    },
    {
      "cell_type": "markdown",
      "source": [
        "## Define the environment (Dynamic installation via requirements.txt)\r\n",
        "\r\n",
        "Then, we will need to create an Azure Machine Learning environment that specifies all of the scoring script's package dependencies. \r\n",
        "\r\n",
        "Here we assume the `requirements.txt` is in the right format and inlcudes all additional packages for the model.\r\n",
        "\r\n",
        "If deployment fails, there will be no logs available the [Azure Machine Learning Studio](https://ml.azure.com). `service.get_logs()` will also return `None`. \r\n",
        "\r\n",
        "For local debugging and validation, run the following command in `score.py` folder :\r\n",
        "\r\n",
        "```\r\n",
        "docker run -it -v $(pwd):/var/azureml-app -e AZUREML_EXTRA_REQUIREMENTS_TXT=\"requirements.txt\" mcr.microsoft.com/azureml/pytorch1.6-py3.7-inference-cpu:latest\r\n",
        "```"
      ],
      "metadata": {
        "nteract": {
          "transient": {
            "deleting": false
          }
        }
      }
    },
    {
      "cell_type": "code",
      "source": [
        "from azureml.core import Environment\r\n",
        "from azureml.core.conda_dependencies import CondaDependencies \r\n",
        "\r\n",
        "myenv = Environment(name='my_pytroch_env')\r\n",
        "myenv.docker.enabled = True\r\n",
        "myenv.docker.base_image = \"mcr.microsoft.com/azureml/pytorch1.6-py3.7-inference-cpu:latest\"\r\n",
        "myenv.python.user_managed_dependencies = True\r\n",
        "myenv.python.interpreter_path = \"/opt/miniconda/envs/amlenv/bin/python\"\r\n",
        "myenv.register(workspace=ws)\r\n",
        "\r\n",
        "myenv.environment_variables = {\r\n",
        "    \"AZUREML_EXTRA_REQUIREMENTS_TXT\": \"requirements.txt\"\r\n",
        "}"
      ],
      "outputs": [],
      "execution_count": null,
      "metadata": {
        "collapsed": true,
        "jupyter": {
          "source_hidden": false,
          "outputs_hidden": false
        },
        "nteract": {
          "transient": {
            "deleting": false
          }
        },
        "gather": {
          "logged": 1617390554015
        }
      }
    },
    {
      "cell_type": "markdown",
      "source": [
        "### Create scoring script\r\n",
        "\r\n",
        "First, we will create a scoring script that will be invoked by the web service call. Note that the scoring script must have two required functions:\r\n",
        "* `init()`: In this function, you typically load the model into a `global` object. This function is executed only once when the Docker container is started. \r\n",
        "* `run(input_data)`: In this function, the model is used to predict a value based on the input data. The input and output typically use JSON as serialization and deserialization format, but you are not limited to that.\r\n",
        "\r\n",
        "Refer to the scoring script `pytorch_score.py` for this tutorial. Our web service will use this file to predict whether an image is a chicken or a turkey. When writing your own scoring script, don't forget to test it locally first before you go and deploy the web service."
      ],
      "metadata": {
        "nteract": {
          "transient": {
            "deleting": false
          }
        }
      }
    },
    {
      "cell_type": "markdown",
      "source": [
        "## Use Azure Machine Learning Inference HTTP Server before deployment\r\n",
        "\r\n",
        "**Why use Azure Machine Learning Inference HTTP Server?**\r\n",
        "\r\n",
        "**Enables Local Development**\r\n",
        "\r\n",
        "The local inference server allows users to quickly debug their score script. In the case that the underlying score script has a bug, the server will fail to initialize/serve and will instead throw an exception & LOC where the issues occurred at.\r\n",
        "\r\n",
        "**Enables CI/CD Integration**\r\n",
        "\r\n",
        "The local inference server enables users to easily create cohesive validation gates in their CI/CD pipelines. In order to do so, simple boot up the server with the candidate script and run the test suite against the local endpoint.\r\n",
        "\r\n",
        "**How to use the Inference HTTP Server?**\r\n",
        "\r\n",
        "* Install the ***azureml-inference-server-http*** package\r\n",
        "\r\n",
        "```sh\r\n",
        "python -m pip install azureml-inference-server-http\r\n",
        "```\r\n",
        "\r\n",
        "* Start the server and set score.py as the entry script.\r\n",
        "```sh\r\n",
        "azmlinfsrv --entry-script score.py\r\n",
        "```\r\n",
        "\r\n",
        "* Let's send a scoring request to the server using curl.\r\n",
        "\r\n",
        "```sh\r\n",
        "curl -p 127.0.0.1:5001/score\r\n",
        "```\r\n",
        "\r\n",
        "### [Learn more](https://github.com/Azure/azureml-inference-optimized-curated-images-private-preview/blob/b4d6cc6f9ddb34c3bc3654f238545bdceba24329/inference-optimized-curated-image/azureml-inference-server-http.md) about the HTTP server."
      ],
      "metadata": {
        "nteract": {
          "transient": {
            "deleting": false
          }
        }
      }
    },
    {
      "cell_type": "markdown",
      "source": [
        "### Deploy to ACI container\r\n",
        "We are ready to deploy. \r\n",
        "\r\n",
        "Create an inference configuration which gives specifies the inferencing environment and scripts. \r\n",
        "\r\n",
        "Create a deployment configuration file to specify the number of CPUs and gigabytes of RAM needed for your ACI container. \r\n",
        "\r\n",
        "This cell will run for about 7-8 minutes."
      ],
      "metadata": {
        "nteract": {
          "transient": {
            "deleting": false
          }
        }
      }
    },
    {
      "cell_type": "code",
      "source": [
        "from azureml.core.webservice import AciWebservice\r\n",
        "from azureml.core.model import InferenceConfig\r\n",
        "from azureml.core.webservice import Webservice\r\n",
        "from azureml.core.model import Model\r\n",
        "\r\n",
        "#Write InferenceConfig\r\n",
        "\r\n",
        "inference_config = InferenceConfig(entry_script=\"pytorch_score.py\",environment=myenv)\r\n",
        "inference_config.source_directory = \"./\"\r\n",
        "\r\n",
        "\r\n",
        "\r\n",
        "aciconfig = AciWebservice.deploy_configuration(cpu_cores=2, \r\n",
        "                                               memory_gb=2, \r\n",
        "                                               tags={'data': 'birds',  'method':'transfer learning', 'framework':'pytorch'},\r\n",
        "                                               description='Classify turkey/chickens using transfer learning with PyTorch')\r\n",
        "\r\n",
        "service = Model.deploy(workspace=ws, \r\n",
        "                           name='deploy-aci-pytorch', \r\n",
        "                           models=[model], \r\n",
        "                           inference_config=inference_config, \r\n",
        "                           deployment_config=aciconfig)\r\n",
        "\r\n",
        "service.wait_for_deployment(True)\r\n",
        "print(service.state)"
      ],
      "outputs": [],
      "execution_count": null,
      "metadata": {
        "collapsed": true,
        "jupyter": {
          "source_hidden": false,
          "outputs_hidden": false
        },
        "nteract": {
          "transient": {
            "deleting": false
          }
        },
        "gather": {
          "logged": 1617391063620
        }
      }
    },
    {
      "cell_type": "markdown",
      "source": [
        "If your deployment fails for any reason and you need to redeploy, make sure to delete the service before you do so: `service.delete()`"
      ],
      "metadata": {
        "nteract": {
          "transient": {
            "deleting": false
          }
        }
      }
    },
    {
      "cell_type": "markdown",
      "source": [
        "**Tip: If something goes wrong with the deployment, the first thing to look at is the logs from the service by running the following command:**"
      ],
      "metadata": {
        "nteract": {
          "transient": {
            "deleting": false
          }
        }
      }
    },
    {
      "cell_type": "code",
      "source": [
        "service.get_logs()"
      ],
      "outputs": [],
      "execution_count": null,
      "metadata": {
        "collapsed": true,
        "jupyter": {
          "source_hidden": false,
          "outputs_hidden": false
        },
        "nteract": {
          "transient": {
            "deleting": false
          }
        },
        "gather": {
          "logged": 1617049340965
        }
      }
    },
    {
      "cell_type": "markdown",
      "source": [
        "Get the web service's HTTP endpoint, which accepts REST client calls. This endpoint can be shared with anyone who wants to test the web service or integrate it into an application."
      ],
      "metadata": {
        "nteract": {
          "transient": {
            "deleting": false
          }
        }
      }
    },
    {
      "cell_type": "code",
      "source": [
        "print(service.scoring_uri)"
      ],
      "outputs": [],
      "execution_count": null,
      "metadata": {
        "collapsed": true,
        "jupyter": {
          "source_hidden": false,
          "outputs_hidden": false
        },
        "nteract": {
          "transient": {
            "deleting": false
          }
        },
        "gather": {
          "logged": 1617391449739
        }
      }
    },
    {
      "cell_type": "markdown",
      "source": [
        "### Test the web service\r\n",
        "Finally, let's test our deployed web service. We will send the data as a JSON string to the web service hosted in ACI and use the SDK's `run` API to invoke the service. Here we will take an image from our validation data to predict on."
      ],
      "metadata": {
        "nteract": {
          "transient": {
            "deleting": false
          }
        }
      }
    },
    {
      "cell_type": "code",
      "source": [
        "import json\r\n",
        "from PIL import Image\r\n",
        "import matplotlib.pyplot as plt\r\n",
        "\r\n",
        "%matplotlib inline\r\n",
        "plt.imshow(Image.open('test_img.jpg'))"
      ],
      "outputs": [],
      "execution_count": null,
      "metadata": {
        "collapsed": true,
        "jupyter": {
          "source_hidden": false,
          "outputs_hidden": false
        },
        "nteract": {
          "transient": {
            "deleting": false
          }
        },
        "gather": {
          "logged": 1617391453194
        }
      }
    },
    {
      "cell_type": "code",
      "source": [
        "import torch\r\n",
        "from torchvision import transforms\r\n",
        "    \r\n",
        "def preprocess(image_file):\r\n",
        "    \"\"\"Preprocess the input image.\"\"\"\r\n",
        "    data_transforms = transforms.Compose([\r\n",
        "        transforms.Resize(256),\r\n",
        "        transforms.CenterCrop(224),\r\n",
        "        transforms.ToTensor(),\r\n",
        "        transforms.Normalize([0.485, 0.456, 0.406], [0.229, 0.224, 0.225])\r\n",
        "    ])\r\n",
        "\r\n",
        "    image = Image.open(image_file)\r\n",
        "    image = data_transforms(image).float()\r\n",
        "    image = torch.tensor(image)\r\n",
        "    image = image.unsqueeze(0)\r\n",
        "    return image.numpy()"
      ],
      "outputs": [],
      "execution_count": null,
      "metadata": {
        "collapsed": true,
        "jupyter": {
          "source_hidden": false,
          "outputs_hidden": false
        },
        "nteract": {
          "transient": {
            "deleting": false
          }
        },
        "gather": {
          "logged": 1617391456973
        }
      }
    },
    {
      "cell_type": "code",
      "source": [
        "input_data = preprocess('test_img.jpg')\r\n",
        "result = service.run(input_data=json.dumps({'data': input_data.tolist()}))\r\n",
        "print(result)"
      ],
      "outputs": [],
      "execution_count": null,
      "metadata": {
        "collapsed": true,
        "jupyter": {
          "source_hidden": false,
          "outputs_hidden": false
        },
        "nteract": {
          "transient": {
            "deleting": false
          }
        },
        "gather": {
          "logged": 1617391460130
        }
      }
    },
    {
      "cell_type": "markdown",
      "source": [
        "## Clean up\r\n",
        "Once you no longer need the web service, you can delete it with a simple API call."
      ],
      "metadata": {
        "nteract": {
          "transient": {
            "deleting": false
          }
        }
      }
    },
    {
      "cell_type": "code",
      "source": [
        "service.delete()"
      ],
      "outputs": [],
      "execution_count": null,
      "metadata": {
        "collapsed": true,
        "jupyter": {
          "source_hidden": false,
          "outputs_hidden": false
        },
        "nteract": {
          "transient": {
            "deleting": false
          }
        },
        "gather": {
          "logged": 1617390813159
        }
      }
    }
  ],
  "metadata": {
    "kernelspec": {
      "name": "python3-azureml",
      "language": "python",
      "display_name": "Python 3.6 - AzureML"
    },
    "language_info": {
      "name": "python",
      "version": "3.6.9",
      "mimetype": "text/x-python",
      "codemirror_mode": {
        "name": "ipython",
        "version": 3
      },
      "pygments_lexer": "ipython3",
      "nbconvert_exporter": "python",
      "file_extension": ".py"
    },
    "kernel_info": {
      "name": "python3-azureml"
    },
    "microsoft": {
      "host": {
        "AzureML": {
          "notebookHasBeenCompleted": true
        }
      }
    },
    "nteract": {
      "version": "nteract-front-end@1.0.0"
    }
  },
  "nbformat": 4,
  "nbformat_minor": 2
}