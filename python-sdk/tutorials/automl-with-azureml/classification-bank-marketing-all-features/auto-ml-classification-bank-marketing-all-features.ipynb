{
 "cells": [
  {
   "cell_type": "markdown",
   "source": [
    "# Automated Machine Learning\n",
    "_**Classification with Deployment using a Bank Marketing Dataset**_\n",
    "\n",
    "## Contents\n",
    "1. [Introduction](#Introduction)\n",
    "1. [Setup](#Setup)\n",
    "1. [Train](#Train)\n",
    "1. [Results](#Results)\n",
    "1. [Deploy](#Deploy)\n",
    "1. [Test](#Test)\n",
    "1. [Acknowledgements](#Acknowledgements)"
   ],
   "metadata": {}
  },
  {
   "cell_type": "markdown",
   "source": [
    "## Introduction\n",
    "\n",
    "In this example we use the UCI Bank Marketing dataset to showcase how you can use AutoML for a  classification problem and deploy it to an Azure Container Instance (ACI). The classification goal is to predict if the client will subscribe to a term deposit with the bank.\n",
    "\n",
    "If you are using an Azure Machine Learning Compute Instance, you are all set.  Otherwise, go through the [configuration](../../../configuration.ipynb)  notebook first if you haven't already to establish your connection to the AzureML Workspace. \n",
    "\n",
    "Please find the ONNX related documentations [here](https://github.com/onnx/onnx).\n",
    "\n",
    "In this notebook you will learn how to:\n",
    "1. Create an experiment using an existing workspace.\n",
    "2. Configure AutoML using `AutoMLConfig`.\n",
    "3. Train the model using local compute with ONNX compatible config on.\n",
    "4. Explore the results, featurization transparency options and save the ONNX model\n",
    "5. Inference with the ONNX model.\n",
    "6. Register the model.\n",
    "7. Create a container image.\n",
    "8. Create an Azure Container Instance (ACI) service.\n",
    "9. Test the ACI service.\n",
    "\n",
    "In addition this notebook showcases the following features\n",
    "- **Blocking** certain pipelines\n",
    "- Specifying **target metrics** to indicate stopping criteria\n",
    "- Handling **missing data** in the input"
   ],
   "metadata": {}
  },
  {
   "cell_type": "markdown",
   "source": [
    "## Setup\n",
    "\n",
    "As part of the setup you have already created an Azure ML `Workspace` object. For AutoML you will need to create an `Experiment` object, which is a named object in a `Workspace` used to run experiments."
   ],
   "metadata": {}
  },
  {
   "cell_type": "code",
   "execution_count": null,
   "source": [
    "import logging\r\n",
    "\r\n",
    "from matplotlib import pyplot as plt\r\n",
    "import pandas as pd\r\n",
    "import os\r\n",
    "\r\n",
    "import azureml.core\r\n",
    "from azureml.core.experiment import Experiment\r\n",
    "from azureml.core.workspace import Workspace\r\n",
    "from azureml.core.dataset import Dataset\r\n",
    "from azureml.train.automl import AutoMLConfig\r\n",
    "from azureml.interpret import ExplanationClient"
   ],
   "outputs": [],
   "metadata": {}
  },
  {
   "cell_type": "markdown",
   "source": [
    "This sample notebook may use features that are not available in previous versions of the Azure ML SDK."
   ],
   "metadata": {}
  },
  {
   "cell_type": "markdown",
   "source": [
    "Accessing the Azure ML workspace requires authentication with Azure.\n",
    "\n",
    "The default authentication is interactive authentication using the default tenant.  Executing the `ws = Workspace.from_config()` line in the cell below will prompt for authentication the first time that it is run.\n",
    "\n",
    "If you have multiple Azure tenants, you can specify the tenant by replacing the `ws = Workspace.from_config()` line in the cell below with the following:\n",
    "\n",
    "```\n",
    "from azureml.core.authentication import InteractiveLoginAuthentication\n",
    "auth = InteractiveLoginAuthentication(tenant_id = 'mytenantid')\n",
    "ws = Workspace.from_config(auth = auth)\n",
    "```\n",
    "\n",
    "If you need to run in an environment where interactive login is not possible, you can use Service Principal authentication by replacing the `ws = Workspace.from_config()` line in the cell below with the following:\n",
    "\n",
    "```\n",
    "from azureml.core.authentication import ServicePrincipalAuthentication\n",
    "auth = auth = ServicePrincipalAuthentication('mytenantid', 'myappid', 'mypassword')\n",
    "ws = Workspace.from_config(auth = auth)\n",
    "```\n",
    "For more details, see [aka.ms/aml-notebook-auth](http://aka.ms/aml-notebook-auth)"
   ],
   "metadata": {}
  },
  {
   "cell_type": "code",
   "execution_count": null,
   "source": [
    "ws = Workspace.from_config()\r\n",
    "\r\n",
    "# choose a name for experiment\r\n",
    "experiment_name = \"automl-classification-bmarketing-all\"\r\n",
    "\r\n",
    "experiment = Experiment(ws, experiment_name)\r\n",
    "\r\n",
    "output = {}\r\n",
    "output[\"Subscription ID\"] = ws.subscription_id\r\n",
    "output[\"Workspace\"] = ws.name\r\n",
    "output[\"Resource Group\"] = ws.resource_group\r\n",
    "output[\"Location\"] = ws.location\r\n",
    "output[\"Experiment Name\"] = experiment.name\r\n",
    "pd.set_option(\"display.max_colwidth\", -1)\r\n",
    "outputDf = pd.DataFrame(data=output, index=[\"\"])\r\n",
    "outputDf.T"
   ],
   "outputs": [],
   "metadata": {}
  },
  {
   "cell_type": "markdown",
   "source": [
    "## Create or Attach existing AmlCompute\n",
    "You will need to create a compute target for your AutoML run. In this tutorial, you create AmlCompute as your training compute resource.\n",
    "\n",
    "> Note that if you have an AzureML Data Scientist role, you will not have permission to create compute resources. Talk to your workspace or IT admin to create the compute targets described in this section, if they do not already exist.\n",
    "\n",
    "#### Creation of AmlCompute takes approximately 5 minutes. \n",
    "If the AmlCompute with that name is already in your workspace this code will skip the creation process.\n",
    "As with other Azure services, there are limits on certain resources (e.g. AmlCompute) associated with the Azure Machine Learning service. Please read [this article](https://docs.microsoft.com/en-us/azure/machine-learning/service/how-to-manage-quotas) on the default limits and how to request more quota."
   ],
   "metadata": {}
  },
  {
   "cell_type": "code",
   "execution_count": null,
   "source": [
    "from azureml.core.compute import ComputeTarget, AmlCompute\r\n",
    "from azureml.core.compute_target import ComputeTargetException\r\n",
    "\r\n",
    "# Choose a name for your CPU cluster\r\n",
    "cpu_cluster_name = \"cpu-cluster-4\"\r\n",
    "\r\n",
    "# Verify that cluster does not exist already\r\n",
    "try:\r\n",
    "    compute_target = ComputeTarget(workspace=ws, name=cpu_cluster_name)\r\n",
    "    print(\"Found existing cluster, use it.\")\r\n",
    "except ComputeTargetException:\r\n",
    "    compute_config = AmlCompute.provisioning_configuration(\r\n",
    "        vm_size=\"STANDARD_DS12_V2\", max_nodes=6\r\n",
    "    )\r\n",
    "    compute_target = ComputeTarget.create(ws, cpu_cluster_name, compute_config)\r\n",
    "\r\n",
    "compute_target.wait_for_completion(show_output=True)"
   ],
   "outputs": [],
   "metadata": {}
  },
  {
   "cell_type": "markdown",
   "source": [
    "# Data"
   ],
   "metadata": {}
  },
  {
   "cell_type": "markdown",
   "source": [
    "### Load Data\n",
    "\n",
    "Leverage azure compute to load the bank marketing dataset as a Tabular Dataset into the dataset variable. "
   ],
   "metadata": {}
  },
  {
   "cell_type": "markdown",
   "source": [
    "### Training Data"
   ],
   "metadata": {}
  },
  {
   "cell_type": "code",
   "execution_count": null,
   "source": [
    "data = pd.read_csv(\r\n",
    "    \"https://automlsamplenotebookdata.blob.core.windows.net/automl-sample-notebook-data/bankmarketing_train.csv\"\r\n",
    ")\r\n",
    "data.head()"
   ],
   "outputs": [],
   "metadata": {}
  },
  {
   "cell_type": "code",
   "execution_count": null,
   "source": [
    "# Add missing values in 75% of the lines.\r\n",
    "import numpy as np\r\n",
    "\r\n",
    "missing_rate = 0.75\r\n",
    "n_missing_samples = int(np.floor(data.shape[0] * missing_rate))\r\n",
    "missing_samples = np.hstack(\r\n",
    "    (\r\n",
    "        np.zeros(data.shape[0] - n_missing_samples, dtype=np.bool),\r\n",
    "        np.ones(n_missing_samples, dtype=np.bool),\r\n",
    "    )\r\n",
    ")\r\n",
    "rng = np.random.RandomState(0)\r\n",
    "rng.shuffle(missing_samples)\r\n",
    "missing_features = rng.randint(0, data.shape[1], n_missing_samples)\r\n",
    "data.values[np.where(missing_samples)[0], missing_features] = np.nan"
   ],
   "outputs": [],
   "metadata": {}
  },
  {
   "cell_type": "code",
   "execution_count": null,
   "source": [
    "if not os.path.isdir(\"data\"):\r\n",
    "    os.mkdir(\"data\")\r\n",
    "\r\n",
    "# Save the train data to a csv to be uploaded to the datastore\r\n",
    "pd.DataFrame(data).to_csv(\"data/train_data.csv\", index=False)\r\n",
    "\r\n",
    "ds = ws.get_default_datastore()\r\n",
    "ds.upload(\r\n",
    "    src_dir=\"./data\", target_path=\"bankmarketing\", overwrite=True, show_progress=True\r\n",
    ")\r\n",
    "\r\n",
    "\r\n",
    "# Upload the training data as a tabular dataset for access during training on remote compute\r\n",
    "train_data = Dataset.Tabular.from_delimited_files(\r\n",
    "    path=ds.path(\"bankmarketing/train_data.csv\")\r\n",
    ")\r\n",
    "label = \"y\""
   ],
   "outputs": [],
   "metadata": {}
  },
  {
   "cell_type": "markdown",
   "source": [
    "### Validation Data"
   ],
   "metadata": {}
  },
  {
   "cell_type": "code",
   "execution_count": null,
   "source": [
    "validation_data = \"https://automlsamplenotebookdata.blob.core.windows.net/automl-sample-notebook-data/bankmarketing_validate.csv\"\r\n",
    "validation_dataset = Dataset.Tabular.from_delimited_files(validation_data)"
   ],
   "outputs": [],
   "metadata": {}
  },
  {
   "cell_type": "markdown",
   "source": [
    "### Test Data"
   ],
   "metadata": {}
  },
  {
   "cell_type": "code",
   "execution_count": null,
   "source": [
    "test_data = \"https://automlsamplenotebookdata.blob.core.windows.net/automl-sample-notebook-data/bankmarketing_test.csv\"\r\n",
    "test_dataset = Dataset.Tabular.from_delimited_files(test_data)"
   ],
   "outputs": [],
   "metadata": {}
  },
  {
   "cell_type": "markdown",
   "source": [
    "## Train\n",
    "\n",
    "Instantiate a AutoMLConfig object. This defines the settings and data used to run the experiment.\n",
    "\n",
    "|Property|Description|\n",
    "|-|-|\n",
    "|**task**|classification or regression or forecasting|\n",
    "|**primary_metric**|This is the metric that you want to optimize. Classification supports the following primary metrics: <br><i>accuracy</i><br><i>AUC_weighted</i><br><i>average_precision_score_weighted</i><br><i>norm_macro_recall</i><br><i>precision_score_weighted</i>|\n",
    "|**iteration_timeout_minutes**|Time limit in minutes for each iteration.|\n",
    "|**blocked_models** | *List* of *strings* indicating machine learning algorithms for AutoML to avoid in this run. <br><br> Allowed values for **Classification**<br><i>LogisticRegression</i><br><i>SGD</i><br><i>MultinomialNaiveBayes</i><br><i>BernoulliNaiveBayes</i><br><i>SVM</i><br><i>LinearSVM</i><br><i>KNN</i><br><i>DecisionTree</i><br><i>RandomForest</i><br><i>ExtremeRandomTrees</i><br><i>LightGBM</i><br><i>GradientBoosting</i><br><i>TensorFlowDNN</i><br><i>TensorFlowLinearClassifier</i><br><br>Allowed values for **Regression**<br><i>ElasticNet</i><br><i>GradientBoosting</i><br><i>DecisionTree</i><br><i>KNN</i><br><i>LassoLars</i><br><i>SGD</i><br><i>RandomForest</i><br><i>ExtremeRandomTrees</i><br><i>LightGBM</i><br><i>TensorFlowLinearRegressor</i><br><i>TensorFlowDNN</i><br><br>Allowed values for **Forecasting**<br><i>ElasticNet</i><br><i>GradientBoosting</i><br><i>DecisionTree</i><br><i>KNN</i><br><i>LassoLars</i><br><i>SGD</i><br><i>RandomForest</i><br><i>ExtremeRandomTrees</i><br><i>LightGBM</i><br><i>TensorFlowLinearRegressor</i><br><i>TensorFlowDNN</i><br><i>Arima</i><br><i>Prophet</i>|\n",
    "|**allowed_models** |  *List* of *strings* indicating machine learning algorithms for AutoML to use in this run. Same values listed above for **blocked_models** allowed for **allowed_models**.|\n",
    "|**experiment_exit_score**| Value indicating the target for *primary_metric*. <br>Once the target is surpassed the run terminates.|\n",
    "|**experiment_timeout_hours**| Maximum amount of time in hours that all iterations combined can take before the experiment terminates.|\n",
    "|**enable_early_stopping**| Flag to enble early termination if the score is not improving in the short term.|\n",
    "|**featurization**| 'auto' / 'off'  Indicator for whether featurization step should be done automatically or not. Note: If the input data is sparse, featurization cannot be turned on.|\n",
    "|**n_cross_validations**|Number of cross validation splits.|\n",
    "|**training_data**|Input dataset, containing both features and label column.|\n",
    "|**label_column_name**|The name of the label column.|\n",
    "\n",
    "**_You can find more information about primary metrics_** [here](https://docs.microsoft.com/en-us/azure/machine-learning/service/how-to-configure-auto-train#primary-metric)"
   ],
   "metadata": {}
  },
  {
   "cell_type": "code",
   "execution_count": null,
   "source": [
    "automl_settings = {\r\n",
    "    \"experiment_timeout_hours\": 0.3,\r\n",
    "    \"enable_early_stopping\": True,\r\n",
    "    \"iteration_timeout_minutes\": 5,\r\n",
    "    \"max_concurrent_iterations\": 4,\r\n",
    "    \"max_cores_per_iteration\": -1,\r\n",
    "    # \"n_cross_validations\": 2,\r\n",
    "    \"primary_metric\": \"AUC_weighted\",\r\n",
    "    \"featurization\": \"auto\",\r\n",
    "    \"verbosity\": logging.INFO,\r\n",
    "}\r\n",
    "\r\n",
    "automl_config = AutoMLConfig(\r\n",
    "    task=\"classification\",\r\n",
    "    debug_log=\"automl_errors.log\",\r\n",
    "    compute_target=compute_target,\r\n",
    "    experiment_exit_score=0.9984,\r\n",
    "    blocked_models=[\"KNN\", \"LinearSVM\"],\r\n",
    "    enable_onnx_compatible_models=True,\r\n",
    "    training_data=train_data,\r\n",
    "    label_column_name=label,\r\n",
    "    validation_data=validation_dataset,\r\n",
    "    **automl_settings,\r\n",
    ")"
   ],
   "outputs": [],
   "metadata": {}
  },
  {
   "cell_type": "markdown",
   "source": [
    "Call the `submit` method on the experiment object and pass the run configuration. Execution of local runs is synchronous. Depending on the data and the number of iterations this can run for a while. Validation errors and current status will be shown when setting `show_output=True` and the execution will be synchronous."
   ],
   "metadata": {}
  },
  {
   "cell_type": "code",
   "execution_count": null,
   "source": [
    "remote_run = experiment.submit(automl_config, show_output=False)"
   ],
   "outputs": [],
   "metadata": {}
  },
  {
   "cell_type": "markdown",
   "source": [
    "Run the following cell to access previous runs. Uncomment the cell below and update the run_id."
   ],
   "metadata": {}
  },
  {
   "cell_type": "code",
   "execution_count": null,
   "source": [
    "# from azureml.train.automl.run import AutoMLRun\r\n",
    "# remote_run = AutoMLRun(experiment=experiment, run_id='<run_ID_goes_here')\r\n",
    "# remote_run"
   ],
   "outputs": [],
   "metadata": {}
  },
  {
   "cell_type": "code",
   "execution_count": null,
   "source": [
    "# Wait for the remote run to complete\r\n",
    "remote_run.wait_for_completion()"
   ],
   "outputs": [],
   "metadata": {}
  },
  {
   "cell_type": "code",
   "execution_count": null,
   "source": [
    "best_run_customized, fitted_model_customized = remote_run.get_output()"
   ],
   "outputs": [],
   "metadata": {}
  },
  {
   "cell_type": "markdown",
   "source": [
    "## Transparency\n",
    "\n",
    "View updated featurization summary"
   ],
   "metadata": {}
  },
  {
   "cell_type": "code",
   "execution_count": null,
   "source": [
    "custom_featurizer = fitted_model_customized.named_steps[\"datatransformer\"]\r\n",
    "df = custom_featurizer.get_featurization_summary()\r\n",
    "pd.DataFrame(data=df)"
   ],
   "outputs": [],
   "metadata": {}
  },
  {
   "cell_type": "markdown",
   "source": [
    "Set `is_user_friendly=False` to get a more detailed summary for the transforms being applied."
   ],
   "metadata": {}
  },
  {
   "cell_type": "code",
   "execution_count": null,
   "source": [
    "df = custom_featurizer.get_featurization_summary(is_user_friendly=False)\r\n",
    "pd.DataFrame(data=df)"
   ],
   "outputs": [],
   "metadata": {}
  },
  {
   "cell_type": "code",
   "execution_count": null,
   "source": [
    "df = custom_featurizer.get_stats_feature_type_summary()\r\n",
    "pd.DataFrame(data=df)"
   ],
   "outputs": [],
   "metadata": {}
  },
  {
   "cell_type": "markdown",
   "source": [
    "## Results"
   ],
   "metadata": {}
  },
  {
   "cell_type": "code",
   "execution_count": null,
   "source": [
    "from azureml.widgets import RunDetails\r\n",
    "RunDetails(remote_run).show()"
   ],
   "outputs": [],
   "metadata": {}
  },
  {
   "cell_type": "markdown",
   "source": [
    "### Retrieve the Best Model's explanation\n",
    "Retrieve the explanation from the best_run which includes explanations for engineered features and raw features. Make sure that the run for generating explanations for the best model is completed."
   ],
   "metadata": {}
  },
  {
   "cell_type": "code",
   "execution_count": null,
   "source": [
    "# Wait for the best model explanation run to complete\r\n",
    "from azureml.core.run import Run\r\n",
    "model_explainability_run_id = remote_run.id + \"_\" + \"ModelExplain\"\r\n",
    "print(model_explainability_run_id)\r\n",
    "model_explainability_run = Run(\r\n",
    "    experiment=experiment, run_id=model_explainability_run_id\r\n",
    ")\r\n",
    "model_explainability_run.wait_for_completion()\r\n",
    "\r\n",
    "# Get the best run object\r\n",
    "best_run, fitted_model = remote_run.get_output()"
   ],
   "outputs": [],
   "metadata": {}
  },
  {
   "cell_type": "markdown",
   "source": [
    "#### Download engineered feature importance from artifact store\n",
    "You can use ExplanationClient to download the engineered feature explanations from the artifact store of the best_run."
   ],
   "metadata": {}
  },
  {
   "cell_type": "code",
   "execution_count": null,
   "source": [
    "client = ExplanationClient.from_run(best_run)\r\n",
    "engineered_explanations = client.download_model_explanation(raw=False)\r\n",
    "exp_data = engineered_explanations.get_feature_importance_dict()\r\n",
    "exp_data"
   ],
   "outputs": [],
   "metadata": {}
  },
  {
   "cell_type": "markdown",
   "source": [
    "#### Download raw feature importance from artifact store\n",
    "You can use ExplanationClient to download the raw feature explanations from the artifact store of the best_run."
   ],
   "metadata": {}
  },
  {
   "cell_type": "code",
   "execution_count": null,
   "source": [
    "client = ExplanationClient.from_run(best_run)\r\n",
    "engineered_explanations = client.download_model_explanation(raw=True)\r\n",
    "exp_data = engineered_explanations.get_feature_importance_dict()\r\n",
    "exp_data"
   ],
   "outputs": [],
   "metadata": {}
  },
  {
   "cell_type": "markdown",
   "source": [
    "### Retrieve the Best ONNX Model\n",
    "\n",
    "Below we select the best pipeline from our iterations. The `get_output` method returns the best run and the fitted model. The Model includes the pipeline and any pre-processing.  Overloads on `get_output` allow you to retrieve the best run and fitted model for *any* logged metric or for a particular *iteration*.\n",
    "\n",
    "Set the parameter return_onnx_model=True to retrieve the best ONNX model, instead of the Python model."
   ],
   "metadata": {}
  },
  {
   "cell_type": "code",
   "execution_count": null,
   "source": [
    "best_run, onnx_mdl = remote_run.get_output(return_onnx_model=True)"
   ],
   "outputs": [],
   "metadata": {}
  },
  {
   "cell_type": "markdown",
   "source": [
    "### Save the best ONNX model"
   ],
   "metadata": {}
  },
  {
   "cell_type": "code",
   "execution_count": null,
   "source": [
    "from azureml.automl.runtime.onnx_convert import OnnxConverter\r\n",
    "onnx_fl_path = \"./best_model.onnx\"\r\n",
    "OnnxConverter.save_onnx_model(onnx_mdl, onnx_fl_path)"
   ],
   "outputs": [],
   "metadata": {}
  },
  {
   "cell_type": "markdown",
   "source": [
    "### Predict with the ONNX model, using onnxruntime package"
   ],
   "metadata": {}
  },
  {
   "cell_type": "code",
   "execution_count": null,
   "source": [
    "import sys\r\n",
    "import json\r\n",
    "from azureml.automl.core.onnx_convert import OnnxConvertConstants\r\n",
    "from azureml.train.automl import constants\r\n",
    "\r\n",
    "from azureml.automl.runtime.onnx_convert import OnnxInferenceHelper\r\n",
    "\r\n",
    "def get_onnx_res(run):\r\n",
    "    res_path = 'onnx_resource.json'\r\n",
    "    run.download_file(name=constants.MODEL_RESOURCE_PATH_ONNX, output_file_path=res_path)\r\n",
    "    with open(res_path) as f:\r\n",
    "        result = json.load(f)\r\n",
    "    return result\r\n",
    "\r\n",
    "if sys.version_info < OnnxConvertConstants.OnnxIncompatiblePythonVersion:\r\n",
    "    test_df = test_dataset.to_pandas_dataframe()\r\n",
    "    mdl_bytes = onnx_mdl.SerializeToString()\r\n",
    "    onnx_result = get_onnx_res(best_run)\r\n",
    "\r\n",
    "    onnxrt_helper = OnnxInferenceHelper(mdl_bytes, onnx_result)\r\n",
    "    pred_onnx, pred_prob_onnx = onnxrt_helper.predict(test_df)\r\n",
    "\r\n",
    "    print(pred_onnx)\r\n",
    "    print(pred_prob_onnx)\r\n",
    "else:\r\n",
    "    print('Please use Python version 3.6 or 3.7 to run the inference helper.')"
   ],
   "outputs": [],
   "metadata": {}
  },
  {
   "cell_type": "markdown",
   "source": [
    "## Deploy\n",
    "\n",
    "### Retrieve the Best Model\n",
    "\n",
    "Below we select the best pipeline from our iterations.  The `get_output` method returns the best run and the fitted model. Overloads on `get_output` allow you to retrieve the best run and fitted model for *any* logged metric or for a particular *iteration*."
   ],
   "metadata": {}
  },
  {
   "cell_type": "markdown",
   "source": [
    "#### Widget for Monitoring Runs\n",
    "\n",
    "The widget will first report a \"loading\" status while running the first iteration. After completing the first iteration, an auto-updating graph and table will be shown. The widget will refresh once per minute, so you should see the graph update as child runs complete.\n",
    "\n",
    "**Note:** The widget displays a link at the bottom. Use this link to open a web interface to explore the individual run details"
   ],
   "metadata": {}
  },
  {
   "cell_type": "code",
   "execution_count": null,
   "source": [
    "best_run, fitted_model = remote_run.get_output()"
   ],
   "outputs": [],
   "metadata": {}
  },
  {
   "cell_type": "code",
   "execution_count": null,
   "source": [
    "model_name = best_run.properties[\"model_name\"]\r\n",
    "\r\n",
    "script_file_name = \"inference/score.py\"\r\n",
    "\r\n",
    "best_run.download_file(\"outputs/scoring_file_v_1_0_0.py\", \"inference/score.py\")"
   ],
   "outputs": [],
   "metadata": {}
  },
  {
   "cell_type": "markdown",
   "source": [
    "### Register the Fitted Model for Deployment\n",
    "If neither `metric` nor `iteration` are specified in the `register_model` call, the iteration with the best primary metric is registered."
   ],
   "metadata": {}
  },
  {
   "cell_type": "code",
   "execution_count": null,
   "source": [
    "description = \"AutoML Model trained on bank marketing data to predict if a client will subscribe to a term deposit\"\r\n",
    "tags = None\r\n",
    "model = remote_run.register_model(\r\n",
    "    model_name=model_name, description=description, tags=tags\r\n",
    ")\r\n",
    "\r\n",
    "print(\r\n",
    "    remote_run.model_id\r\n",
    ")  # This will be written to the script file later in the notebook."
   ],
   "outputs": [],
   "metadata": {}
  },
  {
   "cell_type": "markdown",
   "source": [
    "### Deploy the model as a Web Service on Azure Container Instance"
   ],
   "metadata": {}
  },
  {
   "cell_type": "code",
   "execution_count": null,
   "source": [
    "from azureml.core.model import InferenceConfig\r\n",
    "from azureml.core.webservice import AciWebservice\r\n",
    "from azureml.core.webservice import Webservice\r\n",
    "from azureml.core.model import Model\r\n",
    "from azureml.core.environment import Environment\r\n",
    "\r\n",
    "inference_config = InferenceConfig(entry_script=script_file_name)\r\n",
    "\r\n",
    "aciconfig = AciWebservice.deploy_configuration(\r\n",
    "    cpu_cores=2,\r\n",
    "    memory_gb=2,\r\n",
    "    tags={\"area\": \"bmData\", \"type\": \"automl_classification\"},\r\n",
    "    description=\"sample service for Automl Classification\",\r\n",
    ")\r\n",
    "\r\n",
    "aci_service_name = model_name.lower()\r\n",
    "print(aci_service_name)\r\n",
    "aci_service = Model.deploy(ws, aci_service_name, [model], inference_config, aciconfig)\r\n",
    "aci_service.wait_for_deployment(True)\r\n",
    "print(aci_service.state)"
   ],
   "outputs": [],
   "metadata": {}
  },
  {
   "cell_type": "markdown",
   "source": [
    "### Get Logs from a Deployed Web Service\n",
    "\n",
    "Gets logs from a deployed web service."
   ],
   "metadata": {}
  },
  {
   "cell_type": "code",
   "execution_count": null,
   "source": [
    "# aci_service.get_logs()"
   ],
   "outputs": [],
   "metadata": {}
  },
  {
   "cell_type": "markdown",
   "source": [
    "## Test\n",
    "\n",
    "Now that the model is trained, run the test data through the trained model to get the predicted values.  This calls the ACI web service to do the prediction.\n",
    "\n",
    "Note that the JSON passed to the ACI web service is an array of rows of data.  Each row should either be an array of values in the same order that was used for training or a dictionary where the keys are the same as the column names used for training.  The example below uses dictionary rows."
   ],
   "metadata": {}
  },
  {
   "cell_type": "code",
   "execution_count": null,
   "source": [
    "# Load the bank marketing datasets.\r\n",
    "from numpy import array"
   ],
   "outputs": [],
   "metadata": {}
  },
  {
   "cell_type": "code",
   "execution_count": null,
   "source": [
    "X_test = test_dataset.drop_columns(columns=[\"y\"])\r\n",
    "y_test = test_dataset.keep_columns(columns=[\"y\"], validate=True)\r\n",
    "test_dataset.take(5).to_pandas_dataframe()"
   ],
   "outputs": [],
   "metadata": {}
  },
  {
   "cell_type": "code",
   "execution_count": null,
   "source": [
    "X_test = X_test.to_pandas_dataframe()\r\n",
    "y_test = y_test.to_pandas_dataframe()"
   ],
   "outputs": [],
   "metadata": {}
  },
  {
   "cell_type": "code",
   "execution_count": null,
   "source": [
    "import requests\r\n",
    "\r\n",
    "X_test_json = X_test.to_json(orient=\"records\")\r\n",
    "data = '{\"data\": ' + X_test_json + \"}\"\r\n",
    "headers = {\"Content-Type\": \"application/json\"}\r\n",
    "\r\n",
    "resp = requests.post(aci_service.scoring_uri, data, headers=headers)\r\n",
    "\r\n",
    "y_pred = json.loads(json.loads(resp.text))[\"result\"]"
   ],
   "outputs": [],
   "metadata": {}
  },
  {
   "cell_type": "code",
   "execution_count": null,
   "source": [
    "actual = array(y_test)\r\n",
    "actual = actual[:, 0]\r\n",
    "print(len(y_pred), \" \", len(actual))"
   ],
   "outputs": [],
   "metadata": {}
  },
  {
   "cell_type": "markdown",
   "source": [
    "### Calculate metrics for the prediction\n",
    "\n",
    "Now visualize the data as a confusion matrix that compared the predicted values against the actual values.\n"
   ],
   "metadata": {}
  },
  {
   "cell_type": "code",
   "execution_count": null,
   "source": [
    "%matplotlib notebook\r\n",
    "from sklearn.metrics import confusion_matrix\r\n",
    "import itertools\r\n",
    "\r\n",
    "cf = confusion_matrix(actual, y_pred)\r\n",
    "plt.imshow(cf, cmap=plt.cm.Blues, interpolation=\"nearest\")\r\n",
    "plt.colorbar()\r\n",
    "plt.title(\"Confusion Matrix\")\r\n",
    "plt.xlabel(\"Predicted\")\r\n",
    "plt.ylabel(\"Actual\")\r\n",
    "class_labels = [\"no\", \"yes\"]\r\n",
    "tick_marks = np.arange(len(class_labels))\r\n",
    "plt.xticks(tick_marks, class_labels)\r\n",
    "plt.yticks([-0.5, 0, 1, 1.5], [\"\", \"no\", \"yes\", \"\"])\r\n",
    "# plotting text value inside cells\r\n",
    "thresh = cf.max() / 2.0\r\n",
    "for i, j in itertools.product(range(cf.shape[0]), range(cf.shape[1])):\r\n",
    "    plt.text(\r\n",
    "        j,\r\n",
    "        i,\r\n",
    "        format(cf[i, j], \"d\"),\r\n",
    "        horizontalalignment=\"center\",\r\n",
    "        color=\"white\" if cf[i, j] > thresh else \"black\",\r\n",
    "    )\r\n",
    "plt.show()"
   ],
   "outputs": [],
   "metadata": {}
  },
  {
   "cell_type": "markdown",
   "source": [
    "### Delete a Web Service\n",
    "\n",
    "Deletes the specified web service."
   ],
   "metadata": {}
  },
  {
   "cell_type": "code",
   "execution_count": null,
   "source": [
    "aci_service.delete()"
   ],
   "outputs": [],
   "metadata": {}
  },
  {
   "cell_type": "markdown",
   "source": [
    "## Acknowledgements"
   ],
   "metadata": {}
  },
  {
   "cell_type": "markdown",
   "source": [
    "This Bank Marketing dataset is made available under the Creative Commons (CCO: Public Domain) License: https://creativecommons.org/publicdomain/zero/1.0/. Any rights in individual contents of the database are licensed under the Database Contents License: https://creativecommons.org/publicdomain/zero/1.0/ and is available at: https://www.kaggle.com/janiobachmann/bank-marketing-dataset .\n",
    "\n",
    "_**Acknowledgements**_\n",
    "This data set is originally available within the UCI Machine Learning Database: https://archive.ics.uci.edu/ml/datasets/bank+marketing\n",
    "\n",
    "[Moro et al., 2014] S. Moro, P. Cortez and P. Rita. A Data-Driven Approach to Predict the Success of Bank Telemarketing. Decision Support Systems, Elsevier, 62:22-31, June 2014"
   ],
   "metadata": {}
  }
 ],
 "metadata": {
  "authors": [
   {
    "name": "ratanase"
   }
  ],
  "category": "tutorial",
  "compute": [
   "AML"
  ],
  "datasets": [
   "Bankmarketing"
  ],
  "deployment": [
   "ACI"
  ],
  "exclude_from_index": false,
  "framework": [
   "None"
  ],
  "friendly_name": "Automated ML run with basic edition features.",
  "index_order": 5,
  "kernelspec": {
   "display_name": "Python 3.6",
   "language": "python",
   "name": "python3.6"
  },
  "language_info": {
   "codemirror_mode": {
    "name": "ipython",
    "version": 3
   },
   "file_extension": ".py",
   "mimetype": "text/x-python",
   "name": "python",
   "nbconvert_exporter": "python",
   "pygments_lexer": "ipython3",
   "version": "3.6.7"
  },
  "tags": [
   "featurization",
   "explainability",
   "remote_run",
   "AutomatedML"
  ],
  "task": "Classification"
 },
 "nbformat": 4,
 "nbformat_minor": 2
}