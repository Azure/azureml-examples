{
 "cells": [
  {
   "cell_type": "markdown",
   "metadata": {},
   "source": [
    "Copyright (c) Microsoft Corporation. All rights reserved.\n",
    "\n",
    "Licensed under the MIT License."
   ]
  },
  {
   "cell_type": "markdown",
   "metadata": {},
   "source": [
    "# Automated Machine Learning\n",
    "**Demand Forecasting Using TCN**\n",
    "\n",
    "## Contents\n",
    "1. [Introduction](#Introduction)\n",
    "1. [Setup](#Setup)\n",
    "1. [Data](#Data)\n",
    "1. [Train TCN](#TrainTCN)\n",
    "1. [Train Baseline](#TrainBaseline)\n",
    "1. [Test Set Inference](#TestSetInference)\n",
    "1. [Test Set Evaluation](#TestSetEvaluation)\n",
    "1. [Generate Forecast](#GenerateForecast)\n",
    "1. [Schedule Inference Pipelines](#ScheduleInference)"
   ]
  },
  {
   "cell_type": "markdown",
   "metadata": {
    "tags": []
   },
   "source": [
    "## 1. Introduction\n",
    "\n",
    "The objective of this notebook is to illustrate how to use the AutoML many models solution accelertor for demand forecasting tasks. It walks you through all stages of model evaluation and production process starting with data ingestion and concluding with scheduling inference runs.\n",
    "\n",
    "We use a subset of UCI electricity data ([link](https://archive.ics.uci.edu/ml/datasets/ElectricityLoadDiagrams20112014#)) with the objective of predicting electricity demand per consumer 24 hours ahead. The data was preprocessed using the [data prep notebook](https://github.com/Azure/azureml-examples/blob/main/v1/python-sdk/tutorials/automl-with-azureml/forecasting-data-preparation/auto-ml-forecasting-data-preparation.ipynb) notebook. Please refer to it for illustration on how to download the data from the source, aggregate to an hourly frequency, convert from wide to long format and upload to the Datastore. Here, we will work with the already uploaded data. \n",
    "\n",
    "Having a problem description such as to generate accurate forecasts 24 hours ahead sounds like a relatively straight forward task. However, there are quite a few steps a user needs to take before the model is put in production. A user needs to prepare the data, partition it into appropriate sets, select the best model, evaluate it against a baseline, and monitor the model in real life to collect enough observations on how it would perform had it been put in production. Some of these steps are time consuming, some require certain expertise in writing code. The steps shown in this notebook follow a typical thought process one follows before the model is put in production.\n",
    "\n",
    "Make sure you have executed the [configuration](https://github.com/Azure/MachineLearningNotebooks/blob/master/configuration.ipynb) before running this notebook."
   ]
  },
  {
   "cell_type": "markdown",
   "metadata": {},
   "source": [
    "## 1. Setup"
   ]
  },
  {
   "cell_type": "code",
   "execution_count": 1,
   "metadata": {},
   "outputs": [],
   "source": [
    "import json\n",
    "import logging\n",
    "import os\n",
    "\n",
    "from matplotlib import pyplot as plt\n",
    "import pandas as pd\n",
    "\n",
    "import azureml.core\n",
    "from azureml.core.experiment import Experiment\n",
    "from azureml.core.workspace import Workspace\n",
    "from azureml.train.automl import AutoMLConfig"
   ]
  },
  {
   "cell_type": "markdown",
   "metadata": {},
   "source": [
    "This sample notebook may use features that are not available in previous versions of the Azure ML SDK."
   ]
  },
  {
   "cell_type": "code",
   "execution_count": 2,
   "metadata": {},
   "outputs": [
    {
     "name": "stdout",
     "output_type": "stream",
     "text": [
      "This notebook was created using version 1.47.0 of the Azure ML SDK\n",
      "You are currently using version 1.48.0 of the Azure ML SDK\n"
     ]
    }
   ],
   "source": [
    "print(\"This notebook was created using version 1.47.0 of the Azure ML SDK\")\n",
    "print(\"You are currently using version\", azureml.core.VERSION, \"of the Azure ML SDK\")"
   ]
  },
  {
   "cell_type": "markdown",
   "metadata": {},
   "source": [
    "Accessing the Azure ML workspace requires authentication with Azure.\n",
    "\n",
    "The default authentication is interactive authentication using the default tenant. Executing the ws = Workspace.from_config() line in the cell below will prompt for authentication the first time that it is run.\n",
    "\n",
    "If you have multiple Azure tenants, you can specify the tenant by replacing the ws = Workspace.from_config() line in the cell below with the following:\n",
    "```\n",
    "from azureml.core.authentication import InteractiveLoginAuthentication\n",
    "auth = InteractiveLoginAuthentication(tenant_id = 'mytenantid')\n",
    "ws = Workspace.from_config(auth = auth)\n",
    "```\n",
    "If you need to run in an environment where interactive login is not possible, you can use Service Principal authentication by replacing the ws = Workspace.from_config() line in the cell below with the following:\n",
    "```\n",
    "from azureml.core.authentication import ServicePrincipalAuthentication\n",
    "auth = ServicePrincipalAuthentication('mytenantid', 'myappid', 'mypassword')\n",
    "ws = Workspace.from_config(auth = auth)\n",
    "```\n",
    "For more details, see aka.ms/aml-notebook-auth"
   ]
  },
  {
   "cell_type": "code",
   "execution_count": 3,
   "metadata": {},
   "outputs": [
    {
     "data": {
      "text/html": [
       "<div>\n",
       "<style scoped>\n",
       "    .dataframe tbody tr th:only-of-type {\n",
       "        vertical-align: middle;\n",
       "    }\n",
       "\n",
       "    .dataframe tbody tr th {\n",
       "        vertical-align: top;\n",
       "    }\n",
       "\n",
       "    .dataframe thead th {\n",
       "        text-align: right;\n",
       "    }\n",
       "</style>\n",
       "<table border=\"1\" class=\"dataframe\">\n",
       "  <thead>\n",
       "    <tr style=\"text-align: right;\">\n",
       "      <th></th>\n",
       "      <th></th>\n",
       "    </tr>\n",
       "  </thead>\n",
       "  <tbody>\n",
       "    <tr>\n",
       "      <th>Subscription ID</th>\n",
       "      <td>381b38e9-9840-4719-a5a0-61d9585e1e91</td>\n",
       "    </tr>\n",
       "    <tr>\n",
       "      <th>Workspace</th>\n",
       "      <td>vlbejan_eastus2_new_ws</td>\n",
       "    </tr>\n",
       "    <tr>\n",
       "      <th>Resource Group</th>\n",
       "      <td>vlbejan_eastus2_rg</td>\n",
       "    </tr>\n",
       "    <tr>\n",
       "      <th>Location</th>\n",
       "      <td>eastus2</td>\n",
       "    </tr>\n",
       "    <tr>\n",
       "      <th>Run History Name</th>\n",
       "      <td>forecasting-many-models-20230427</td>\n",
       "    </tr>\n",
       "  </tbody>\n",
       "</table>\n",
       "</div>"
      ],
      "text/plain": [
       "                                                      \n",
       "Subscription ID   381b38e9-9840-4719-a5a0-61d9585e1e91\n",
       "Workspace                       vlbejan_eastus2_new_ws\n",
       "Resource Group                      vlbejan_eastus2_rg\n",
       "Location                                       eastus2\n",
       "Run History Name      forecasting-many-models-20230427"
      ]
     },
     "execution_count": 3,
     "metadata": {},
     "output_type": "execute_result"
    }
   ],
   "source": [
    "import datetime\n",
    "import uuid\n",
    "\n",
    "ws = Workspace.from_config()\n",
    "datastore = ws.get_default_datastore()\n",
    "\n",
    "# Choose a name for the run history container in the workspace.\n",
    "experiment_name = \"forecasting-many-models-\" + datetime.datetime.now().strftime(\n",
    "    \"%Y%m%d\"\n",
    ")\n",
    "experiment = Experiment(ws, experiment_name)\n",
    "experiment = Experiment(ws, experiment_name)\n",
    "\n",
    "output = {}\n",
    "output[\"Subscription ID\"] = ws.subscription_id\n",
    "output[\"Workspace\"] = ws.name\n",
    "output[\"Resource Group\"] = ws.resource_group\n",
    "output[\"Location\"] = ws.location\n",
    "output[\"Run History Name\"] = experiment_name\n",
    "pd.set_option(\"display.max_colwidth\", None)\n",
    "outputDf = pd.DataFrame(data=output, index=[\"\"])\n",
    "outputDf.T"
   ]
  },
  {
   "cell_type": "markdown",
   "metadata": {},
   "source": [
    "### 2.1. Compute \n",
    "\n",
    "#### Create or Attach existing AmlCompute\n",
    "\n",
    "You will need to create a compute target for your AutoML run. In this tutorial, you will create AmlCompute as your training compute resource.\n",
    "\n",
    "> Note that if you have an AzureML Data Scientist role, you will not have permission to create compute resources. Talk to your workspace or IT admin to create the compute targets described in this section, if they do not already exist.\n",
    "\n",
    "\n",
    "To run deep learning models we recommend to use GPU compute. Here, we use a 12 node cluster of the `Standard_NC8as_T4_v3` [series](https://learn.microsoft.com/en-us/azure/virtual-machines/nct4-v3-series) for illustration purposes. You will need to adjust the compute type and the number of nodes based on your needs which can be driven by the speed needed for model seelction, data size, etc. \n",
    "\n",
    "#### Creation of AmlCompute takes approximately 5 minutes. \n",
    "If the AmlCompute with that name is already in your workspace, this code will skip the creation process.\n",
    "As with other Azure services, there are limits on certain resources (e.g. AmlCompute) associated with the Azure Machine Learning service. Please read [this article](https://docs.microsoft.com/en-us/azure/machine-learning/service/how-to-manage-quotas) on the default limits and how to request more quota."
   ]
  },
  {
   "cell_type": "code",
   "execution_count": 4,
   "metadata": {
    "tags": []
   },
   "outputs": [
    {
     "name": "stdout",
     "output_type": "stream",
     "text": [
      "Found existing cluster, use it.\n",
      "Succeeded\n",
      "AmlCompute wait for completion finished\n",
      "\n",
      "Minimum number of nodes requested have been provisioned\n"
     ]
    }
   ],
   "source": [
    "from azureml.core.compute import ComputeTarget, AmlCompute\n",
    "from azureml.core.compute_target import ComputeTargetException\n",
    "\n",
    "# Choose a name for your CPU cluster\n",
    "amlcompute_cluster_name = \"demand-fcst-mm-cluster\"\n",
    "\n",
    "# Verify that cluster does not exist already\n",
    "try:\n",
    "    compute_target = ComputeTarget(workspace=ws, name=amlcompute_cluster_name)\n",
    "    print(\"Found existing cluster, use it.\")\n",
    "except ComputeTargetException:\n",
    "    compute_config = AmlCompute.provisioning_configuration(\n",
    "        vm_size=\"STANDARD_DS15_V2\", max_nodes=5, vm_priority=\"lowpriority\"\n",
    "    )\n",
    "    compute_target = ComputeTarget.create(ws, amlcompute_cluster_name, compute_config)\n",
    "compute_target.wait_for_completion(show_output=True)"
   ]
  },
  {
   "cell_type": "code",
   "execution_count": 5,
   "metadata": {},
   "outputs": [],
   "source": [
    "from azureml.core.runconfig import RunConfiguration\n",
    "from azureml.core.conda_dependencies import CondaDependencies\n",
    "from azureml.core import Environment\n",
    "\n",
    "aml_run_config = RunConfiguration()\n",
    "aml_run_config.target = compute_target\n",
    "\n",
    "USE_CURATED_ENV = True\n",
    "if USE_CURATED_ENV:\n",
    "    curated_environment = Environment.get(\n",
    "        workspace=ws, name=\"AzureML-sklearn-0.24-ubuntu18.04-py37-cpu\"\n",
    "    )\n",
    "    aml_run_config.environment = curated_environment\n",
    "else:\n",
    "    aml_run_config.environment.python.user_managed_dependencies = False\n",
    "\n",
    "    # Add some packages relied on by data prep step\n",
    "    aml_run_config.environment.python.conda_dependencies = CondaDependencies.create(\n",
    "        conda_packages=[\"pandas\", \"scikit-learn\"],\n",
    "        pip_packages=[\"azureml-sdk\", \"azureml-dataset-runtime[fuse,pandas]\"],\n",
    "        pin_sdk_version=False,\n",
    "    )"
   ]
  },
  {
   "cell_type": "markdown",
   "metadata": {
    "tags": []
   },
   "source": [
    "## 3. Data\n",
    "If you ran the data [preparation notebook](https://github.com/Azure/azureml-examples/blob/main/v1/python-sdk/tutorials/automl-with-azureml/forecasting-data-preparation/auto-ml-forecasting-data-preparation.ipynb) and want to use the registered data, skip section 3.1 and, instead, uncomment and execute the code in section 3.2. If, on the other hand, you did not run the notebook and want to use the data that we pre-processed and saved in the public blob, execute the code in section 3.1."
   ]
  },
  {
   "cell_type": "markdown",
   "metadata": {},
   "source": [
    "### 3.1 Loading and registering the data from public blob store\n",
    "\n",
    "Run the code in this section only if you want to use the data that is already available in the blobstore. If you want to use your own data that is already registered in your workspace, skip this section and procceed to run the commented out code in section 3.2."
   ]
  },
  {
   "cell_type": "markdown",
   "metadata": {},
   "source": [
    "The following code registers a datastore `autom_fcst_many_models` in your workspace and links the data from the container `automl-sample-notebook-data`."
   ]
  },
  {
   "cell_type": "code",
   "execution_count": 6,
   "metadata": {},
   "outputs": [
    {
     "name": "stdout",
     "output_type": "stream",
     "text": [
      "Creating datastore \"autom_fcst_many_models\" in your workspace ...\n",
      "---\n"
     ]
    }
   ],
   "source": [
    "from azureml.core import Datastore\n",
    "\n",
    "# Please change the following to point to your own blob container and pass in account_key\n",
    "blob_datastore_name = \"autom_fcst_many_models\"\n",
    "container_name = \"automl-sample-notebook-data\"\n",
    "account_name = \"automlsamplenotebookdata\"\n",
    "\n",
    "print(f'Creating datastore \"{blob_datastore_name}\" in your workspace ...\\n---')\n",
    "demand_tcn_datastore = Datastore.register_azure_blob_container(\n",
    "    workspace=ws,\n",
    "    datastore_name=blob_datastore_name,\n",
    "    container_name=container_name,\n",
    "    account_name=account_name,\n",
    "    create_if_not_exists=True,\n",
    ")"
   ]
  },
  {
   "cell_type": "markdown",
   "metadata": {},
   "source": [
    "The following code registers datasets from the `automl-sample-notebook-data` container in the datastore we just created. Once the datasets are registered, we will be able to use them in our experiments."
   ]
  },
  {
   "cell_type": "code",
   "execution_count": 7,
   "metadata": {},
   "outputs": [
    {
     "name": "stdout",
     "output_type": "stream",
     "text": [
      "Registering datasets in your workspace ...\n",
      "---\n"
     ]
    }
   ],
   "source": [
    "from azureml.core import Dataset\n",
    "\n",
    "print(\"Registering datasets in your workspace ...\\n---\")\n",
    "\n",
    "FOLDER_PREFIX_NAME = \"uci_electro_small_public_mm\"\n",
    "\n",
    "target_path_train = f\"{FOLDER_PREFIX_NAME}_train\"\n",
    "target_path_test = f\"{FOLDER_PREFIX_NAME}_test\"\n",
    "target_path_inference = f\"{FOLDER_PREFIX_NAME}_infer\"\n",
    "\n",
    "train_dataset = Dataset.Tabular.from_delimited_files(\n",
    "    path=demand_tcn_datastore.path(target_path_train + \"/\"),\n",
    "    validate=False,\n",
    "    infer_column_types=True,\n",
    ").register(workspace=ws, name=target_path_train, create_new_version=True)\n",
    "\n",
    "test_dataset = Dataset.Tabular.from_delimited_files(\n",
    "    path=demand_tcn_datastore.path(target_path_test + \"/\"),\n",
    "    validate=False,\n",
    "    infer_column_types=True,\n",
    ").register(workspace=ws, name=target_path_test, create_new_version=True)\n",
    "\n",
    "inference_dataset = Dataset.Tabular.from_delimited_files(\n",
    "    path=demand_tcn_datastore.path(target_path_inference + \"/\"),\n",
    "    validate=False,\n",
    "    infer_column_types=True,\n",
    ").register(workspace=ws, name=target_path_inference, create_new_version=True)"
   ]
  },
  {
   "cell_type": "markdown",
   "metadata": {},
   "source": [
    "### 3.2 Using data that is registered in your workspace\n",
    "\n",
    "If you ran the [data prep notebook](https://github.com/Azure/azureml-examples/blob/main/v1/python-sdk/tutorials/automl-with-azureml/forecasting-data-preparation/auto-ml-forecasting-data-preparation.ipynb) notebook, the train, test and inference sets are already uploaded and registered in your workspace. Uncomment the following code and change the `DATASET_PREFIX_NAME`, to match the value in the data preparation notebook, and run the code."
   ]
  },
  {
   "cell_type": "code",
   "execution_count": 8,
   "metadata": {},
   "outputs": [],
   "source": [
    "# from azureml.data.dataset_factory import TabularDatasetFactory\n",
    "# from azureml.core.dataset import Dataset\n",
    "\n",
    "# DATASET_PREFIX_NAME = \"uci_electro_small_mm\"\n",
    "# print(f'Dataset prefix name: {DATASET_PREFIX_NAME}\\n---\\nLoading train, validation, test and inference sets ...\\n---')\n",
    "\n",
    "# target_path_train = f\"{DATASET_PREFIX_NAME}_train\"\n",
    "# target_path_test = f\"{DATASET_PREFIX_NAME}_test\"\n",
    "# target_path_inference = f\"{DATASET_PREFIX_NAME}_inference\"\n",
    "\n",
    "# train_dataset = Dataset.get_by_name(ws, name=target_path_train)\n",
    "# test_dataset = Dataset.get_by_name(ws, name=target_path_test)\n",
    "# inference_dataset = Dataset.get_by_name(ws, name=target_path_inference)"
   ]
  },
  {
   "cell_type": "markdown",
   "metadata": {},
   "source": [
    "### 3.3 Test and inference sets"
   ]
  },
  {
   "cell_type": "markdown",
   "metadata": {},
   "source": [
    "Note that we have *test* and *inference* sets. The difference between the two is the presence of the target column. The test set contains the target column and is used to evaluate model performance using [rolling forecast](https://learn.microsoft.com/en-us/azure/machine-learning/v1/how-to-auto-train-forecast-v1#evaluating-model-accuracy-with-a-rolling-forecast). On the other hand, the target column is not present in the inference set to illustrate how to generate an actual forecast."
   ]
  },
  {
   "cell_type": "code",
   "execution_count": 9,
   "metadata": {},
   "outputs": [
    {
     "name": "stdout",
     "output_type": "stream",
     "text": [
      "The first few rows of the test set ...\n",
      "---\n",
      "  customer_id            datetime     usage\n",
      "0      MT_023 2014-12-17 01:00:00  8.245383\n",
      "1      MT_023 2014-12-17 02:00:00  8.575198\n",
      "2      MT_023 2014-12-17 03:00:00  8.410290\n",
      "3      MT_023 2014-12-17 04:00:00  7.750660\n",
      "4      MT_023 2014-12-17 05:00:00  6.926121\n"
     ]
    }
   ],
   "source": [
    "print(\"The first few rows of the test set ...\\n---\")\n",
    "print(test_dataset.take(5).to_pandas_dataframe())"
   ]
  },
  {
   "cell_type": "code",
   "execution_count": 10,
   "metadata": {},
   "outputs": [
    {
     "name": "stdout",
     "output_type": "stream",
     "text": [
      "The first few rows of the inference set ...\n",
      "---\n",
      "  customer_id            datetime\n",
      "0      MT_023 2014-12-31 01:00:00\n",
      "1      MT_023 2014-12-31 02:00:00\n",
      "2      MT_023 2014-12-31 03:00:00\n",
      "3      MT_023 2014-12-31 04:00:00\n",
      "4      MT_023 2014-12-31 05:00:00\n"
     ]
    }
   ],
   "source": [
    "print(\"The first few rows of the inference set ...\\n---\")\n",
    "print(inference_dataset.take(5).to_pandas_dataframe())"
   ]
  },
  {
   "cell_type": "markdown",
   "metadata": {},
   "source": [
    "Let's set up what we know about the dataset.\n",
    "\n",
    "- **Target column** is what we want to forecast. In our case it is electricity consumption per customer measured in kilowatt hours (kWh).\n",
    "- **Time column** is the time axis along which to predict.\n",
    "- **Time series identifier columns** are identified by values of the columns listed `time_series_id_column_names`. In our case all unique time series are identified by a single column `customer_id`. However, it is quite common to have multiple columns identifying unique time series. See the [link](https://learn.microsoft.com/en-us/azure/machine-learning/how-to-auto-train-forecast#configuration-settings) for a more detailed explanation on this topic."
   ]
  },
  {
   "cell_type": "code",
   "execution_count": 11,
   "metadata": {},
   "outputs": [],
   "source": [
    "target_column_name = \"usage\"\n",
    "time_column_name = \"datetime\"\n",
    "GRAIN_COL = 'customer_id'\n",
    "time_series_id_column_names = [GRAIN_COL]"
   ]
  },
  {
   "cell_type": "markdown",
   "metadata": {},
   "source": [
    "Next, we download training data from the Datastore to make sure it looks as expected. If your dataset is large, there is no need to store it in the memory. In this case, skip the next block of code."
   ]
  },
  {
   "cell_type": "code",
   "execution_count": 12,
   "metadata": {},
   "outputs": [
    {
     "name": "stdout",
     "output_type": "stream",
     "text": [
      "Data contains 10 individual time-series:\n",
      "['MT_023', 'MT_070', 'MT_103', 'MT_147', 'MT_148', 'MT_210', 'MT_235', 'MT_315', 'MT_345', 'MT_355']\n",
      "---\n",
      "Printing the first few rows of the training data ...\n",
      "---\n"
     ]
    },
    {
     "data": {
      "text/html": [
       "<div>\n",
       "<style scoped>\n",
       "    .dataframe tbody tr th:only-of-type {\n",
       "        vertical-align: middle;\n",
       "    }\n",
       "\n",
       "    .dataframe tbody tr th {\n",
       "        vertical-align: top;\n",
       "    }\n",
       "\n",
       "    .dataframe thead th {\n",
       "        text-align: right;\n",
       "    }\n",
       "</style>\n",
       "<table border=\"1\" class=\"dataframe\">\n",
       "  <thead>\n",
       "    <tr style=\"text-align: right;\">\n",
       "      <th></th>\n",
       "      <th>customer_id</th>\n",
       "      <th>datetime</th>\n",
       "      <th>usage</th>\n",
       "    </tr>\n",
       "  </thead>\n",
       "  <tbody>\n",
       "    <tr>\n",
       "      <th>0</th>\n",
       "      <td>MT_023</td>\n",
       "      <td>2012-01-01 00:00:00</td>\n",
       "      <td>7.915567</td>\n",
       "    </tr>\n",
       "    <tr>\n",
       "      <th>1</th>\n",
       "      <td>MT_023</td>\n",
       "      <td>2012-01-01 01:00:00</td>\n",
       "      <td>9.234828</td>\n",
       "    </tr>\n",
       "    <tr>\n",
       "      <th>2</th>\n",
       "      <td>MT_023</td>\n",
       "      <td>2012-01-01 02:00:00</td>\n",
       "      <td>8.905013</td>\n",
       "    </tr>\n",
       "    <tr>\n",
       "      <th>3</th>\n",
       "      <td>MT_023</td>\n",
       "      <td>2012-01-01 03:00:00</td>\n",
       "      <td>4.947230</td>\n",
       "    </tr>\n",
       "    <tr>\n",
       "      <th>4</th>\n",
       "      <td>MT_023</td>\n",
       "      <td>2012-01-01 04:00:00</td>\n",
       "      <td>4.782322</td>\n",
       "    </tr>\n",
       "  </tbody>\n",
       "</table>\n",
       "</div>"
      ],
      "text/plain": [
       "  customer_id            datetime     usage\n",
       "0      MT_023 2012-01-01 00:00:00  7.915567\n",
       "1      MT_023 2012-01-01 01:00:00  9.234828\n",
       "2      MT_023 2012-01-01 02:00:00  8.905013\n",
       "3      MT_023 2012-01-01 03:00:00  4.947230\n",
       "4      MT_023 2012-01-01 04:00:00  4.782322"
      ]
     },
     "execution_count": 12,
     "metadata": {},
     "output_type": "execute_result"
    }
   ],
   "source": [
    "train_df = train_dataset.to_pandas_dataframe()\n",
    "\n",
    "nseries = train_df.groupby(time_series_id_column_names).ngroups\n",
    "print(\n",
    "    f\"Data contains {nseries} individual time-series:\\n{list(train_df[GRAIN_COL].unique())}\\n---\"\n",
    ")\n",
    "print(\"Printing the first few rows of the training data ...\\n---\")\n",
    "train_df.head()"
   ]
  },
  {
   "cell_type": "markdown",
   "metadata": {},
   "source": [
    "## 4. Train Many Models\n",
    "\n",
    "In this section we will train and select the best TCN model as well as the baseline model. The baseline model will be used as a reference point to understand TCN's accuracy performance. The goal of forecasting is to have the most accurate predictions measured by some accuracy metric. What is considered an accurate prediction is fairly subjective. Take, for example, the MAPE (mean absolute percentage error) metric. A perfect forecast will result in the MAPE value of zero, which is not achievable using business data. For this reason it is imperative to have a baseline model to compare TCN results against. Doing this adds objectivity to the model acceptance criteria. \n",
    "\n",
    "The baseline model can be the model that is currently in production. Oftentimes, the baseline is set to be a Naive forecast, which we will use in this notebook. The choice of the baseline is also specific to the data. For example, if there is a clear trend in the data one may not want to use a Naive model.  Instead, one can use an ARIMA model. Please see this [document](https://learn.microsoft.com/en-us/azure/machine-learning/v1/how-to-configure-auto-train-v1#supported-models) for a list of AutoML models one can chose from to use as a baseline model."
   ]
  },
  {
   "cell_type": "markdown",
   "metadata": {},
   "source": [
    "The following 2 parameters allow us to re-use training runs for the many-models and baseline models, respectively. This can be helpful it you need to experiment with the post model training steps thus avoiding the need to kick off a new training run which can be computationally expensive."
   ]
  },
  {
   "cell_type": "code",
   "execution_count": 13,
   "metadata": {},
   "outputs": [],
   "source": [
    "IS_MANY_MODELS_TRAINED = False\n",
    "IS_BASE_MODEL_TRAINED = False"
   ]
  },
  {
   "cell_type": "markdown",
   "metadata": {},
   "source": [
    "### 4.1 Train AutoML model"
   ]
  },
  {
   "cell_type": "markdown",
   "metadata": {},
   "source": [
    "#### 4.1.1 Set up training parameters\n",
    "We need to provide the `ForecastingParameters`, `AutoMLConfig` and `ManyModelsTrainParameters` objects. For the forecasting task we also need to define several settings including the name of the time column, the maximum forecast horizon, and the partition column name(s) definition.\n",
    "\n",
    "#### Forecasting Parameters\n",
    "To define forecasting parameters for your experiment training, you can leverage the `ForecastingParameters` class. The table below details the forecasting parameters we will be passing into our experiment.\n",
    "\n",
    "\n",
    "|Property|Description|\n",
    "|-|-|\n",
    "|**time_column_name**|The name of the time column in the data.|\n",
    "|**forecast_horizon**|The forecast horizon is how many periods forward you would like to forecast. This integer horizon is in units of the timeseries frequency (e.g. daily, weekly).|\n",
    "|**time_series_id_column_names**|The column names used to uniquely identify the time series in data that has multiple rows with the same timestamp. If the time series identifiers are not defined, the data set is assumed to be one time series.|\n",
    "| **cv_step_size**| Number of periods between two consecutive cross-validation folds. The default value is \"auto\", in which case AutoMl determines the cross-validation step size automatically, if a validation set is not provided. Or users could specify an integer value. |\n",
    "|**freq**|Forecast frequency. This optional parameter represents the period for which the forecast is desired, for example, daily, weekly, yearly, etc. Use this parameter for the correction of time series containing irregular data points or for padding of short time series. The frequency needs to be a pandas offset alias. Please refer to [pandas documentation](https://pandas.pydata.org/pandas-docs/stable/user_guide/timeseries.html#dateoffset-objects) for more information.\n",
    "\n",
    "\n",
    "#### AutoMLConfig arguments\n",
    "|Property|Description|\n",
    "|-|-|\n",
    "| **task**                           | forecasting |\n",
    "| **primary_metric**                 | This is the metric that you want to optimize. Forecasting supports the following primary metrics<ul><li>`normalized_root_mean_squared_error`</li><li>`normalized_mean_absolute_error`</li><li>`spearman_correlation`</li><li>`r2_score`</li></ul> We recommend using either the normalized root mean squared error or normalized mean absolute erorr as a primary metric because they measure forecast accuracy. See the [link](https://learn.microsoft.com/en-us/azure/machine-learning/how-to-automl-forecasting-faq#how-do-i-choose-the-primary-metric) for a more detailed discussion on this topic. |\n",
    "| **experiment_timeout_hours**       | Maximum amount of time in hours that each experiment can take before it terminates. This is optional but provides customers with greater control on exit criteria. When setting this criteria we advise to take into account the number of desired iterations parameter and set experiment timeout setting such that the desired number of iterations will be completed.|\n",
    "| **iterations**                     | Number of models to train. This is optional but provides customers with greater control on exit criteria. For TCN models we recommend to have at least 50 iterations to choose the best architecture. For our experiment we will set the number of iterations to 100, however, due to the experiment timeout settings being 1 hour on the specified compute cluster, we will not obtain 100 completions. |\n",
    "| **label_column_name**              | The name of the target column we are trying to predict. |\n",
    "| **n_cross_validations**            | Number of cross validation splits. The default value is \"auto\", in which case AutoMl determines the number of cross-validations automatically. Or users could specify an integer value. Rolling Origin Validation is used to split time-series in a temporally consistent way.|\n",
    "| **enable_early_stopping**          | Flag to enable early termination if the primary metric is no longer improving. |\n",
    "| **blocked_models**                 | List of models we want to block. For illustration purposes and to reduce the runtime, we block all time series specific models. The defaule value is None or an empty list.|\n",
    "\n",
    "#### ManyModelsTrainParameters arguments\n",
    "|Property|Description|\n",
    "|-|-|\n",
    "| **automl_settings** | The `AutoMLConfig` object defined above. |\n",
    "| **partition_column_names** | The names of columns used to group your models. For timeseries, the groups must not split up individual time-series. That is, each group must contain one or more whole time-series. |"
   ]
  },
  {
   "cell_type": "markdown",
   "metadata": {},
   "source": [
    "Note, that the `time_series_id_column_names` and `partition_column_names` do not have to be the same. In our scenario, they are the same since we are interested in training one model per customer. We have 10 customers in our dataset and there will be 10 models trained. Say, you decide to cluster customers into groups, for example, each group has 2 customers and you want to train one model per group of customers. In such scenario, you will partition the data by groups, and the `time_series_id_column_names` will be different from the `partition_column_names`."
   ]
  },
  {
   "cell_type": "code",
   "execution_count": 14,
   "metadata": {},
   "outputs": [],
   "source": [
    "from azureml.automl.core.forecasting_parameters import ForecastingParameters\n",
    "from azureml.train.automl.automlconfig import AutoMLConfig\n",
    "from azureml.train.automl.runtime._many_models.many_models_parameters import (\n",
    "    ManyModelsTrainParameters,\n",
    ")\n",
    "\n",
    "forecast_horizon = 24\n",
    "partition_column_names = time_series_id_column_names\n",
    "\n",
    "BLOCKED_MODELS = ['Naive',\n",
    "                  'SeasonalNaive',\n",
    "                  'Average',\n",
    "                  'SeasonalAverage',\n",
    "                  'Prophet',\n",
    "                  'ExponentialSmoothing',\n",
    "                  'ExtremeRandomTrees',\n",
    "                  'AutoArima',\n",
    "                  'Arimax']\n",
    "EXPERIMENT_TIMEOUT_HOURS = 1\n",
    "\n",
    "forecasting_parameters = ForecastingParameters(\n",
    "    time_column_name=time_column_name,\n",
    "    forecast_horizon=forecast_horizon,\n",
    "    time_series_id_column_names=time_series_id_column_names,\n",
    "    cv_step_size=\"auto\",\n",
    "    freq=\"H\"\n",
    ")\n",
    "\n",
    "automl_settings = AutoMLConfig(\n",
    "    task=\"forecasting\",\n",
    "    primary_metric=\"normalized_root_mean_squared_error\",\n",
    "    iteration_timeout_minutes=20,\n",
    "    iterations=25,\n",
    "    experiment_timeout_hours=EXPERIMENT_TIMEOUT_HOURS,\n",
    "    label_column_name=target_column_name,\n",
    "    n_cross_validations=\"auto\",  # Feel free to set to a small integer (>=2) if runtime is an issue.\n",
    "    blocked_models=BLOCKED_MODELS,\n",
    "    track_child_runs=False,\n",
    "    forecasting_parameters=forecasting_parameters,\n",
    ")\n",
    "\n",
    "mm_paramters = ManyModelsTrainParameters(\n",
    "    automl_settings=automl_settings,\n",
    "    partition_column_names=partition_column_names\n",
    ")"
   ]
  },
  {
   "cell_type": "markdown",
   "metadata": {},
   "source": [
    "### Set up many models pipeline"
   ]
  },
  {
   "cell_type": "markdown",
   "metadata": {},
   "source": [
    "Parallel run step is leveraged to train multiple models at once. To configure the ParallelRunConfig you will need to determine the appropriate number of workers and nodes for your use case. The `process_count_per_node` is based off the number of cores of the compute VM. The node_count will determine the number of master nodes to use, increasing the node count will speed up the training process.\n",
    "\n",
    "| Property                           | Description|\n",
    "|-|-|\n",
    "| **experiment**                     | The experiment used for training. |\n",
    "| **train_data**                     | The file dataset to be used as input to the training run. |\n",
    "| **node_count**                     | The number of compute nodes to be used for running the user script. We recommend to start with 3 and increase the node_count if the training time is taking too long. |\n",
    "| **process_count_per_node**         | Process count per node, we recommend 2:1 ratio for number of cores: number of processes per node. eg. If node has 16 cores then configure 8 or less process count per node for optimal performance. |\n",
    "| **train_pipeline_parameters**      | The set of configuration parameters defined in the previous section. |\n",
    "| **run_invocation_timeout**         | Maximum amount of time in seconds that the `ParallelRunStep` class is allowed. This is optional but provides customers with greater control on exit criteria. This must be greater than `experiment_timeout_hours` by at least 300 seconds. Here, we we add a buffer of 1000 seconds. |\n",
    "| **arguments**                      | Arguments to be passed to training script. Here, we pass the parameter `retrain_failed_models` and set it to True. If training a model for any partition fails, AutoML will kick off a new child run for that partition.|\n",
    "\n",
    "**Note**: Total time it takes for the **training step** in the pipeline to complete  equals to \n",
    "\n",
    "$$\n",
    "\\left( \\frac{t}{ p \\times n } \\right) \\times k\n",
    "$$\n",
    "\n",
    "where\n",
    "- $ t $ is time it takes to train one partition (can be viewed in the training logs)\n",
    "- $ p $ is the process count per node\n",
    "- $ n $ is the node count\n",
    "- $ k $ is total number of partitions in time series based on `partition_column_names`"
   ]
  },
  {
   "cell_type": "code",
   "execution_count": 15,
   "metadata": {},
   "outputs": [
    {
     "name": "stderr",
     "output_type": "stream",
     "text": [
      "WARNING:azureml._base_sdk_common._docstring_wrapper:Class LinkTabularOutputDatasetConfig: This is an experimental class, and may change at any time. Please see https://aka.ms/azuremlexperimental for more information.\n"
     ]
    },
    {
     "name": "stdout",
     "output_type": "stream",
     "text": [
      "A partitioned tabular dataset will be created with the name training after many_models_train_data_partitioned_1682637666. You may use it for future training.\n"
     ]
    }
   ],
   "source": [
    "from azureml.contrib.automl.pipeline.steps import AutoMLPipelineBuilder\n",
    "\n",
    "\n",
    "training_pipeline_steps = AutoMLPipelineBuilder.get_many_models_train_steps(\n",
    "    experiment=experiment,\n",
    "    train_data=train_dataset,\n",
    "    compute_target=compute_target,\n",
    "    node_count=5,\n",
    "    process_count_per_node=2,\n",
    "    run_invocation_timeout=(EXPERIMENT_TIMEOUT_HOURS * 3600 + 1000),\n",
    "    train_pipeline_parameters=mm_paramters,\n",
    "    arguments=['--retrain_failed_models', 'True']\n",
    ")"
   ]
  },
  {
   "cell_type": "markdown",
   "metadata": {},
   "source": [
    "Note, the output of the previous cell prints out the name of the partitioned dataset. This allows you to run a new experiment on the already partiitoned dataset. What this does is it skips a data partitioning step, and reduces the runtime. To use already partioned dataset, uncomment and execute the following code _**before**_ builting the `training_pipeline_steps`."
   ]
  },
  {
   "cell_type": "code",
   "execution_count": 16,
   "metadata": {},
   "outputs": [],
   "source": [
    "# from azureml.data.dataset_factory import TabularDatasetFactory\n",
    "# from azureml.core.dataset import Dataset\n",
    "\n",
    "# PARTITIONED_TRAIN_DATASET_NAME = \"<Paste the output of the previous window here.>\"\n",
    "# train_dataset = Dataset.get_by_name(ws, name=PARTITIONED_TRAIN_DATASET_NAME)"
   ]
  },
  {
   "cell_type": "markdown",
   "metadata": {},
   "source": [
    "### Submit the pipeline to run\n",
    "Next we submit our pipeline to run. The whole training pipeline takes about 20 minutes on a 5 node STANDARD_DS15_V2  cluster."
   ]
  },
  {
   "cell_type": "code",
   "execution_count": 17,
   "metadata": {},
   "outputs": [],
   "source": [
    "from azureml.pipeline.core import Pipeline\n",
    "\n",
    "training_pipeline = Pipeline(ws, steps=training_pipeline_steps)"
   ]
  },
  {
   "cell_type": "code",
   "execution_count": 18,
   "metadata": {},
   "outputs": [
    {
     "name": "stdout",
     "output_type": "stream",
     "text": [
      "Are many models trained? False\n",
      "---\n"
     ]
    }
   ],
   "source": [
    "print(f\"Are many models trained? {IS_MANY_MODELS_TRAINED}\\n---\")"
   ]
  },
  {
   "cell_type": "code",
   "execution_count": 19,
   "metadata": {},
   "outputs": [
    {
     "name": "stdout",
     "output_type": "stream",
     "text": [
      "Training new AutoML model ...\n",
      "---\n",
      "Created step mm-data-partition [26d14412][72cd2d71-5105-4847-a35c-671600f343e6], (This step will run and generate new outputs)\n",
      "Created step many-models-train [65b2032a][f8e54a4c-bf17-4a96-8d3b-14a876265f75], (This step will run and generate new outputs)\n",
      "Submitted PipelineRun 272d487e-027a-46b5-bb3d-f4fab4aa4515\n",
      "Link to Azure Machine Learning Portal: https://ml.azure.com/runs/272d487e-027a-46b5-bb3d-f4fab4aa4515?wsid=/subscriptions/381b38e9-9840-4719-a5a0-61d9585e1e91/resourcegroups/vlbejan_eastus2_rg/workspaces/vlbejan_eastus2_new_ws&tid=72f988bf-86f1-41af-91ab-2d7cd011db47\n"
     ]
    }
   ],
   "source": [
    "if not IS_MANY_MODELS_TRAINED:\n",
    "    print('Training new AutoML model ...\\n---')\n",
    "    training_run = experiment.submit(training_pipeline)\n",
    "else:\n",
    "    from azureml.train.automl.run import AutoMLRun\n",
    "    from azureml.pipeline.core.run import PipelineRun\n",
    "\n",
    "    PIPELINE_RUN_ID = 'f93fbd7f-c2c1-4d8c-8473-3ab518f77885'  # Copy the output of Submitted PipelineRun to re-use trained models\n",
    "    training_run = PipelineRun(experiment = experiment, run_id = PIPELINE_RUN_ID)\n",
    "    print(f'Using previously trained model. Pipeline run ID: {PIPELINE_RUN_ID}\\n---')"
   ]
  },
  {
   "cell_type": "code",
   "execution_count": 20,
   "metadata": {
    "tags": []
   },
   "outputs": [
    {
     "name": "stdout",
     "output_type": "stream",
     "text": [
      "PipelineRunId: 272d487e-027a-46b5-bb3d-f4fab4aa4515\n",
      "Link to Azure Machine Learning Portal: https://ml.azure.com/runs/272d487e-027a-46b5-bb3d-f4fab4aa4515?wsid=/subscriptions/381b38e9-9840-4719-a5a0-61d9585e1e91/resourcegroups/vlbejan_eastus2_rg/workspaces/vlbejan_eastus2_new_ws&tid=72f988bf-86f1-41af-91ab-2d7cd011db47\n"
     ]
    }
   ],
   "source": [
    "if not IS_MANY_MODELS_TRAINED:\n",
    "    training_run.wait_for_completion(show_output=False)\n",
    "    IS_MODEL_TRAINED = True"
   ]
  },
  {
   "cell_type": "code",
   "execution_count": 21,
   "metadata": {},
   "outputs": [
    {
     "data": {
      "text/html": [
       "<table style=\"width:100%\"><tr><th>Experiment</th><th>Id</th><th>Type</th><th>Status</th><th>Details Page</th><th>Docs Page</th></tr><tr><td>forecasting-many-models-20230427</td><td>272d487e-027a-46b5-bb3d-f4fab4aa4515</td><td>azureml.PipelineRun</td><td>Completed</td><td><a href=\"https://ml.azure.com/runs/272d487e-027a-46b5-bb3d-f4fab4aa4515?wsid=/subscriptions/381b38e9-9840-4719-a5a0-61d9585e1e91/resourcegroups/vlbejan_eastus2_rg/workspaces/vlbejan_eastus2_new_ws&amp;tid=72f988bf-86f1-41af-91ab-2d7cd011db47\" target=\"_blank\" rel=\"noopener\">Link to Azure Machine Learning studio</a></td><td><a href=\"https://docs.microsoft.com/en-us/python/api/overview/azure/ml/intro?view=azure-ml-py\" target=\"_blank\" rel=\"noopener\">Link to Documentation</a></td></tr></table>"
      ],
      "text/plain": [
       "Run(Experiment: forecasting-many-models-20230427,\n",
       "Id: 272d487e-027a-46b5-bb3d-f4fab4aa4515,\n",
       "Type: azureml.PipelineRun,\n",
       "Status: Completed)"
      ]
     },
     "execution_count": 21,
     "metadata": {},
     "output_type": "execute_result"
    }
   ],
   "source": [
    "training_run"
   ]
  },
  {
   "cell_type": "markdown",
   "metadata": {},
   "source": [
    "## 5. Train the baseline model"
   ]
  },
  {
   "cell_type": "markdown",
   "metadata": {},
   "source": [
    "We will use Naive model as our baseline. To train it, we kick off another automl experiment with the following settings. Please note that we added the Naive model to the allowed models list, and set the number of iterations to 1 since we only interested in training one specific model. To reduce the training time, we set the number of cross validations to 2. Read the following [document](https://learn.microsoft.com/en-us/azure/machine-learning/v1/how-to-auto-train-forecast-v1#training-and-validation-data) for more information on this topic.\n",
    "\n",
    "The only `AutoMLConfig` settings you might consider changing are the `experiment_timeout_hours` and `allowed_models`. You might want to increase the experiment timeout if your data has lots of unique time series. The allowed model list can be modified to refect a different choice of the baseline model and can be selected from the supported [forecasting models](https://learn.microsoft.com/en-us/python/api/azureml-train-automl-client/azureml.train.automl.constants.supportedmodels.forecasting) and [regression models](https://learn.microsoft.com/en-us/python/api/azureml-train-automl-client/azureml.train.automl.constants.supportedmodels.regression)."
   ]
  },
  {
   "cell_type": "code",
   "execution_count": 38,
   "metadata": {},
   "outputs": [],
   "source": [
    "from azureml.automl.core.forecasting_parameters import ForecastingParameters\n",
    "\n",
    "forecasting_parameters = ForecastingParameters(\n",
    "    time_column_name=time_column_name,\n",
    "    forecast_horizon=forecast_horizon,\n",
    "    time_series_id_column_names=time_series_id_column_names,\n",
    "    cv_step_size=1,\n",
    "    freq=\"H\"\n",
    ")\n",
    "\n",
    "automl_config = AutoMLConfig(\n",
    "    task=\"forecasting\",\n",
    "    debug_log=\"baseline.log\",\n",
    "    primary_metric=\"normalized_root_mean_squared_error\",\n",
    "    experiment_timeout_hours=1,\n",
    "    iterations=1,\n",
    "    training_data=train_dataset,\n",
    "    label_column_name=target_column_name,\n",
    "    compute_target=compute_target,\n",
    "    enable_early_stopping=True,\n",
    "    n_cross_validations=2,\n",
    "    verbosity=logging.INFO,\n",
    "    max_cores_per_iteration=-1,\n",
    "    enable_dnn=False,\n",
    "    allowed_models=[\"Naive\"],\n",
    "    forecasting_parameters=forecasting_parameters,\n",
    ")"
   ]
  },
  {
   "cell_type": "code",
   "execution_count": 39,
   "metadata": {},
   "outputs": [
    {
     "name": "stdout",
     "output_type": "stream",
     "text": [
      "Is the baseline model trained? False\n",
      "---\n"
     ]
    }
   ],
   "source": [
    "print(f\"Is the baseline model trained? {IS_BASE_MODEL_TRAINED}\\n---\")"
   ]
  },
  {
   "cell_type": "code",
   "execution_count": 40,
   "metadata": {},
   "outputs": [],
   "source": [
    "IS_BASE_MODEL_TRAINED = False"
   ]
  },
  {
   "cell_type": "code",
   "execution_count": 41,
   "metadata": {
    "tags": []
   },
   "outputs": [
    {
     "name": "stdout",
     "output_type": "stream",
     "text": [
      "Submitting remote run.\n"
     ]
    },
    {
     "data": {
      "text/html": [
       "<table style=\"width:100%\"><tr><th>Experiment</th><th>Id</th><th>Type</th><th>Status</th><th>Details Page</th><th>Docs Page</th></tr><tr><td>forecasting-many-models-20230427</td><td>AutoML_e3af7e8e-0a98-4ace-bfe9-15d5a41bd341</td><td>automl</td><td>NotStarted</td><td><a href=\"https://ml.azure.com/runs/AutoML_e3af7e8e-0a98-4ace-bfe9-15d5a41bd341?wsid=/subscriptions/381b38e9-9840-4719-a5a0-61d9585e1e91/resourcegroups/vlbejan_eastus2_rg/workspaces/vlbejan_eastus2_new_ws&amp;tid=72f988bf-86f1-41af-91ab-2d7cd011db47\" target=\"_blank\" rel=\"noopener\">Link to Azure Machine Learning studio</a></td><td><a href=\"https://docs.microsoft.com/en-us/python/api/overview/azure/ml/intro?view=azure-ml-py\" target=\"_blank\" rel=\"noopener\">Link to Documentation</a></td></tr></table>"
      ],
      "text/plain": [
       "<IPython.core.display.HTML object>"
      ]
     },
     "metadata": {},
     "output_type": "display_data"
    }
   ],
   "source": [
    "if not IS_BASE_MODEL_TRAINED:\n",
    "    remote_base_run = experiment.submit(automl_config, show_output=False)\n",
    "else:\n",
    "    from azureml.train.automl.run import AutoMLRun\n",
    "    BASE_RUN_ID = \"AutoML_9baf889d-a3c6-4afd-8b06-e1497069fae4\"  #\"<Replace with the run ID used for training the baseline model>\"\n",
    "    # during the initial training run copy-paste the run id to be utilized later if needed.\n",
    "    remote_base_run = AutoMLRun(experiment = experiment, run_id = BASE_RUN_ID)\n",
    "    print(f'Using previously trained model. Run ID: {BASE_RUN_ID}\\n---')"
   ]
  },
  {
   "cell_type": "code",
   "execution_count": 42,
   "metadata": {},
   "outputs": [],
   "source": [
    "if not IS_BASE_MODEL_TRAINED:\n",
    "    remote_base_run.wait_for_completion(show_output=False)\n",
    "    IS_BASE_MODEL_TRAINED = True"
   ]
  },
  {
   "cell_type": "markdown",
   "metadata": {},
   "source": [
    "## 6. Test set inference "
   ]
  },
  {
   "cell_type": "markdown",
   "metadata": {},
   "source": [
    "### 6.1 Many models inferences\n",
    "\n",
    "We create an output folder which will be used to save the output of our experiments."
   ]
  },
  {
   "cell_type": "code",
   "execution_count": 26,
   "metadata": {},
   "outputs": [],
   "source": [
    "# create an output folder\n",
    "OUTPUT_DIR = os.path.join(os.getcwd(), \"forecast_output\")\n",
    "os.makedirs(OUTPUT_DIR, exist_ok=True)"
   ]
  },
  {
   "cell_type": "code",
   "execution_count": 27,
   "metadata": {},
   "outputs": [],
   "source": [
    "test_experiment = Experiment(ws, experiment_name + \"_inference\")\n",
    "test_experiment_base = Experiment(ws, experiment_name + \"_inference_base\")"
   ]
  },
  {
   "cell_type": "markdown",
   "metadata": {},
   "source": [
    "#### Set up output dataset for inference data\n",
    "Output of inference can be represented as [OutputFileDatasetConfig](https://docs.microsoft.com/en-us/python/api/azureml-core/azureml.data.output_dataset_config.outputdatasetconfig?view=azure-ml-py) object and OutputFileDatasetConfig can be registered as a dataset. "
   ]
  },
  {
   "cell_type": "code",
   "execution_count": 28,
   "metadata": {
    "scrolled": true,
    "tags": []
   },
   "outputs": [],
   "source": [
    "from azureml.data import OutputFileDatasetConfig\n",
    "\n",
    "output_test_data_ds = OutputFileDatasetConfig(\n",
    "    name=\"many_models_inference_output\", destination=(datastore, \"uci_electro_small/test_set_output/\")\n",
    ").register_on_complete(name=\"uci_electro_small_test_data_ds\")"
   ]
  },
  {
   "cell_type": "markdown",
   "metadata": {},
   "source": [
    "For many models we need to provide the ManyModelsInferenceParameters object.\n",
    "\n",
    "#### `ManyModelsInferenceParameters` arguments\n",
    "| Property                           | Description|\n",
    "| :---------------                   | :------------------- |\n",
    "| **partition_column_names**         | List of column names that identifies groups. |\n",
    "| **target_column_name**             | \\[Optional\\] Column name only if the inference dataset has the target. |\n",
    "| **time_column_name**               | \\[Optional\\] Time column name only if it is timeseries. |\n",
    "| **inference_type**                 | \\[Optional\\] Which inference method to use on the model. Possible values are 'forecast', 'predict_proba', and 'predict'. |\n",
    "| **forecast_mode**                  | \\[Optional\\] The type of forecast to be used, either 'rolling' or 'recursive'; defaults to 'recursive'. |\n",
    "| **step**                           | \\[Optional\\] Number of periods to advance the forecasting window in each iteration **(for rolling forecast only)**; defaults to 1. |\n",
    "\n",
    "#### `get_many_models_batch_inference_steps` arguments\n",
    "| Property                           | Description|\n",
    "| :---------------                   | :------------------- |\n",
    "| **experiment**                     | The experiment used for inference run. |\n",
    "| **inference_data**                 | The data to use for inferencing. It should be the same schema as used for training.\n",
    "| **compute_target**                 | The compute target that runs the inference pipeline. |\n",
    "| **node_count**                     | The number of compute nodes to be used for running the user script. We recommend to start with the number of cores per node (varies by compute sku). |\n",
    "| **process_count_per_node**         | \\[Optional\\] The number of processes per node. By default it's 2 (should be at most half of the number of cores in a single node of the compute cluster that will be used for the experiment).\n",
    "| **inference_pipeline_parameters**  | \\[Optional\\] The `ManyModelsInferenceParameters` object defined above. |\n",
    "| **append_row_file_name**           | \\[Optional\\] The name of the output file (optional, default value is 'parallel_run_step.txt'). Supports 'txt' and 'csv' file extension. A 'txt' file extension generates the output in 'txt' format with space as separator without column names. A 'csv' file extension generates the output in 'csv' format with comma as separator and with column names. |\n",
    "| **train_run_id**                   | \\[Optional\\] The run id of the **training pipeline**. By default it is the latest successful training pipeline run in the experiment. |\n",
    "| **train_experiment_name**          | \\[Optional\\] The train experiment that contains the train pipeline. This one is only needed when the train pipeline is not in the same experiement as the inference pipeline. |\n",
    "| **run_invocation_timeout**         | \\[Optional\\] Maximum amount of time in seconds that the `ParallelRunStep` class is allowed. This is optional but provides customers with greater control on exit criteria. |\n",
    "| **output_datastore**               | \\[Optional\\] The `Datastore` or `OutputDatasetConfig` to be used for output. If specified any pipeline output will be written to that location. If unspecified the default datastore will be used. |\n",
    "| **arguments**                      | \\[Optional\\] Arguments to be passed to inference script. Possible argument is '--forecast_quantiles' followed by quantile values. |"
   ]
  },
  {
   "cell_type": "code",
   "execution_count": 29,
   "metadata": {},
   "outputs": [
    {
     "name": "stderr",
     "output_type": "stream",
     "text": [
      "WARNING:azureml._base_sdk_common._docstring_wrapper:Class LinkTabularOutputDatasetConfig: This is an experimental class, and may change at any time. Please see https://aka.ms/azuremlexperimental for more information.\n"
     ]
    },
    {
     "name": "stdout",
     "output_type": "stream",
     "text": [
      "A partitioned tabular dataset will be created with the name inference after many_models_inference_data_partitioned_1682639279. You may use it for future inference.\n"
     ]
    }
   ],
   "source": [
    "from azureml.contrib.automl.pipeline.steps import AutoMLPipelineBuilder\n",
    "from azureml.train.automl.runtime._many_models.many_models_parameters import (\n",
    "    ManyModelsInferenceParameters,\n",
    ")\n",
    "\n",
    "output_file_name = \"parallel_run_step.csv\"\n",
    "\n",
    "mm_parameters = ManyModelsInferenceParameters(\n",
    "    partition_column_names=time_series_id_column_names,\n",
    "    time_column_name=time_column_name,\n",
    "    target_column_name=target_column_name\n",
    ")\n",
    "\n",
    "inference_steps = AutoMLPipelineBuilder.get_many_models_batch_inference_steps(\n",
    "    experiment=experiment,\n",
    "    inference_data=test_dataset,\n",
    "    node_count=2,\n",
    "    process_count_per_node=8,\n",
    "    compute_target=compute_target,\n",
    "    run_invocation_timeout=300,\n",
    "    output_datastore=output_test_data_ds,\n",
    "    train_run_id=training_run.id,\n",
    "    train_experiment_name=training_run.experiment.name,\n",
    "    inference_pipeline_parameters=mm_parameters,\n",
    "    append_row_file_name=output_file_name,\n",
    ")"
   ]
  },
  {
   "cell_type": "code",
   "execution_count": 30,
   "metadata": {},
   "outputs": [],
   "source": [
    "from azureml.pipeline.core import Pipeline\n",
    "\n",
    "inference_pipeline = Pipeline(ws, steps=inference_steps)"
   ]
  },
  {
   "cell_type": "code",
   "execution_count": 31,
   "metadata": {
    "scrolled": true,
    "tags": []
   },
   "outputs": [
    {
     "name": "stdout",
     "output_type": "stream",
     "text": [
      "Created step mm-data-partition [dc20afa0][af2f69c2-7fd5-4a3c-8636-0a7c9fc2cfdf], (This step will run and generate new outputs)\n",
      "Created step many-models-inference [009b9eb5][f872337e-a2ed-4f74-94f7-594def98ce13], (This step will run and generate new outputs)\n",
      "Submitted PipelineRun d9839ab8-11c7-46cd-8074-2be5f2dec995\n",
      "Link to Azure Machine Learning Portal: https://ml.azure.com/runs/d9839ab8-11c7-46cd-8074-2be5f2dec995?wsid=/subscriptions/381b38e9-9840-4719-a5a0-61d9585e1e91/resourcegroups/vlbejan_eastus2_rg/workspaces/vlbejan_eastus2_new_ws&tid=72f988bf-86f1-41af-91ab-2d7cd011db47\n",
      "PipelineRunId: d9839ab8-11c7-46cd-8074-2be5f2dec995\n",
      "Link to Azure Machine Learning Portal: https://ml.azure.com/runs/d9839ab8-11c7-46cd-8074-2be5f2dec995?wsid=/subscriptions/381b38e9-9840-4719-a5a0-61d9585e1e91/resourcegroups/vlbejan_eastus2_rg/workspaces/vlbejan_eastus2_new_ws&tid=72f988bf-86f1-41af-91ab-2d7cd011db47\n"
     ]
    },
    {
     "data": {
      "text/plain": [
       "'Finished'"
      ]
     },
     "execution_count": 31,
     "metadata": {},
     "output_type": "execute_result"
    }
   ],
   "source": [
    "inference_run = experiment.submit(inference_pipeline)\n",
    "inference_run.wait_for_completion(show_output=False)"
   ]
  },
  {
   "cell_type": "markdown",
   "metadata": {},
   "source": [
    "### 6.2 Retreive the test set predictions from the many models\n",
    "\n",
    "The forecasting pipeline forecasts the orange juice quantity for a Store by Brand. The pipeline returns one file with the predictions for each store and outputs the result to the forecasting_output Blob container. The details of the blob container is listed in 'forecasting_output.txt' under Outputs+logs. \n",
    "\n",
    "The following code snippet:\n",
    "1. Downloads the contents of the output folder that is passed in the parallel run step \n",
    "2. Reads the output file that has the predictions as pandas dataframe \n",
    "3. Displays the top 5 rows of the predictions"
   ]
  },
  {
   "cell_type": "code",
   "execution_count": 32,
   "metadata": {},
   "outputs": [],
   "source": [
    "# from azureml.pipeline.core import StepRun\n",
    "# ! pip show azureml-pipeline-core"
   ]
  },
  {
   "cell_type": "code",
   "execution_count": 33,
   "metadata": {},
   "outputs": [
    {
     "name": "stdout",
     "output_type": "stream",
     "text": [
      "Prediction has  3360  rows. Here the first 5 rows are being displayed.\n"
     ]
    },
    {
     "data": {
      "text/html": [
       "<div>\n",
       "<style scoped>\n",
       "    .dataframe tbody tr th:only-of-type {\n",
       "        vertical-align: middle;\n",
       "    }\n",
       "\n",
       "    .dataframe tbody tr th {\n",
       "        vertical-align: top;\n",
       "    }\n",
       "\n",
       "    .dataframe thead th {\n",
       "        text-align: right;\n",
       "    }\n",
       "</style>\n",
       "<table border=\"1\" class=\"dataframe\">\n",
       "  <thead>\n",
       "    <tr style=\"text-align: right;\">\n",
       "      <th></th>\n",
       "      <th>datetime</th>\n",
       "      <th>usage</th>\n",
       "      <th>customer_id</th>\n",
       "      <th>Predictions</th>\n",
       "    </tr>\n",
       "  </thead>\n",
       "  <tbody>\n",
       "    <tr>\n",
       "      <th>0</th>\n",
       "      <td>2014-12-17 01:00:00</td>\n",
       "      <td>216.51</td>\n",
       "      <td>MT_355</td>\n",
       "      <td>224.37</td>\n",
       "    </tr>\n",
       "    <tr>\n",
       "      <th>1</th>\n",
       "      <td>2014-12-17 02:00:00</td>\n",
       "      <td>177.32</td>\n",
       "      <td>MT_355</td>\n",
       "      <td>196.43</td>\n",
       "    </tr>\n",
       "    <tr>\n",
       "      <th>2</th>\n",
       "      <td>2014-12-17 03:00:00</td>\n",
       "      <td>164.76</td>\n",
       "      <td>MT_355</td>\n",
       "      <td>194.66</td>\n",
       "    </tr>\n",
       "    <tr>\n",
       "      <th>3</th>\n",
       "      <td>2014-12-17 04:00:00</td>\n",
       "      <td>169.33</td>\n",
       "      <td>MT_355</td>\n",
       "      <td>194.66</td>\n",
       "    </tr>\n",
       "    <tr>\n",
       "      <th>4</th>\n",
       "      <td>2014-12-17 05:00:00</td>\n",
       "      <td>181.51</td>\n",
       "      <td>MT_355</td>\n",
       "      <td>198.57</td>\n",
       "    </tr>\n",
       "  </tbody>\n",
       "</table>\n",
       "</div>"
      ],
      "text/plain": [
       "              datetime  usage customer_id  Predictions\n",
       "0  2014-12-17 01:00:00 216.51      MT_355       224.37\n",
       "1  2014-12-17 02:00:00 177.32      MT_355       196.43\n",
       "2  2014-12-17 03:00:00 164.76      MT_355       194.66\n",
       "3  2014-12-17 04:00:00 169.33      MT_355       194.66\n",
       "4  2014-12-17 05:00:00 181.51      MT_355       198.57"
      ]
     },
     "execution_count": 33,
     "metadata": {},
     "output_type": "execute_result"
    }
   ],
   "source": [
    "from azureml.contrib.automl.pipeline.steps.utilities import get_output_from_mm_pipeline\n",
    "\n",
    "forecasting_results_name = \"forecasting_results\"\n",
    "forecasting_output_name = \"many_models_inference_output\"\n",
    "forecast_file = get_output_from_mm_pipeline(\n",
    "    inference_run, forecasting_results_name, forecasting_output_name, output_file_name\n",
    ")\n",
    "df = pd.read_csv(forecast_file)\n",
    "print(\n",
    "    \"Prediction has \", df.shape[0], \" rows. Here the first 5 rows are being displayed.\"\n",
    ")\n",
    "df.head(5)"
   ]
  },
  {
   "cell_type": "code",
   "execution_count": 34,
   "metadata": {},
   "outputs": [
    {
     "data": {
      "text/html": [
       "<div>\n",
       "<style scoped>\n",
       "    .dataframe tbody tr th:only-of-type {\n",
       "        vertical-align: middle;\n",
       "    }\n",
       "\n",
       "    .dataframe tbody tr th {\n",
       "        vertical-align: top;\n",
       "    }\n",
       "\n",
       "    .dataframe thead th {\n",
       "        text-align: right;\n",
       "    }\n",
       "</style>\n",
       "<table border=\"1\" class=\"dataframe\">\n",
       "  <thead>\n",
       "    <tr style=\"text-align: right;\">\n",
       "      <th></th>\n",
       "      <th>datetime</th>\n",
       "      <th>usage</th>\n",
       "      <th>customer_id</th>\n",
       "      <th>predicted</th>\n",
       "    </tr>\n",
       "  </thead>\n",
       "  <tbody>\n",
       "    <tr>\n",
       "      <th>0</th>\n",
       "      <td>2014-12-17 01:00:00</td>\n",
       "      <td>216.51</td>\n",
       "      <td>MT_355</td>\n",
       "      <td>224.37</td>\n",
       "    </tr>\n",
       "    <tr>\n",
       "      <th>1</th>\n",
       "      <td>2014-12-17 02:00:00</td>\n",
       "      <td>177.32</td>\n",
       "      <td>MT_355</td>\n",
       "      <td>196.43</td>\n",
       "    </tr>\n",
       "    <tr>\n",
       "      <th>2</th>\n",
       "      <td>2014-12-17 03:00:00</td>\n",
       "      <td>164.76</td>\n",
       "      <td>MT_355</td>\n",
       "      <td>194.66</td>\n",
       "    </tr>\n",
       "    <tr>\n",
       "      <th>3</th>\n",
       "      <td>2014-12-17 04:00:00</td>\n",
       "      <td>169.33</td>\n",
       "      <td>MT_355</td>\n",
       "      <td>194.66</td>\n",
       "    </tr>\n",
       "    <tr>\n",
       "      <th>4</th>\n",
       "      <td>2014-12-17 05:00:00</td>\n",
       "      <td>181.51</td>\n",
       "      <td>MT_355</td>\n",
       "      <td>198.57</td>\n",
       "    </tr>\n",
       "  </tbody>\n",
       "</table>\n",
       "</div>"
      ],
      "text/plain": [
       "              datetime  usage customer_id  predicted\n",
       "0  2014-12-17 01:00:00 216.51      MT_355     224.37\n",
       "1  2014-12-17 02:00:00 177.32      MT_355     196.43\n",
       "2  2014-12-17 03:00:00 164.76      MT_355     194.66\n",
       "3  2014-12-17 04:00:00 169.33      MT_355     194.66\n",
       "4  2014-12-17 05:00:00 181.51      MT_355     198.57"
      ]
     },
     "execution_count": 34,
     "metadata": {},
     "output_type": "execute_result"
    }
   ],
   "source": [
    "df.rename(columns={\"Predictions\": \"predicted\"}, inplace=True)\n",
    "df.to_csv(os.path.join(OUTPUT_DIR, \"test-set-predictions-many-models.csv\"), index=False)\n",
    "df.head(5)"
   ]
  },
  {
   "cell_type": "markdown",
   "metadata": {},
   "source": [
    "### 6.3 Inference the baseline model\n",
    "\n",
    "Next, we perform a rolling evaluation on the test set for the baseline model. To do this, we use the `run_remote_inference` method which downloads the pickle file of the model into the temporary folder `forecast_naive` and copies the `inference_script_naive.py` file to it. This folder is then uploaded on the compute cluster where inference is performed. The `inference_script_naive.py` script performs a rolling evaluation on the test set, similarly to what we have done for the TCN model. Upon completion of this step, we delete the newly created `forecast_naive` folder."
   ]
  },
  {
   "cell_type": "code",
   "execution_count": 43,
   "metadata": {},
   "outputs": [
    {
     "data": {
      "text/html": [
       "<table style=\"width:100%\"><tr><th>Experiment</th><th>Id</th><th>Type</th><th>Status</th><th>Details Page</th><th>Docs Page</th></tr><tr><td>forecasting-many-models-20230427</td><td>AutoML_e3af7e8e-0a98-4ace-bfe9-15d5a41bd341_0</td><td></td><td>Completed</td><td><a href=\"https://ml.azure.com/runs/AutoML_e3af7e8e-0a98-4ace-bfe9-15d5a41bd341_0?wsid=/subscriptions/381b38e9-9840-4719-a5a0-61d9585e1e91/resourcegroups/vlbejan_eastus2_rg/workspaces/vlbejan_eastus2_new_ws&amp;tid=72f988bf-86f1-41af-91ab-2d7cd011db47\" target=\"_blank\" rel=\"noopener\">Link to Azure Machine Learning studio</a></td><td><a href=\"https://docs.microsoft.com/en-us/python/api/azureml-core/azureml.core.run.Run?view=azure-ml-py\" target=\"_blank\" rel=\"noopener\">Link to Documentation</a></td></tr></table>"
      ],
      "text/plain": [
       "Run(Experiment: forecasting-many-models-20230427,\n",
       "Id: AutoML_e3af7e8e-0a98-4ace-bfe9-15d5a41bd341_0,\n",
       "Type: None,\n",
       "Status: Completed)"
      ]
     },
     "execution_count": 43,
     "metadata": {},
     "output_type": "execute_result"
    }
   ],
   "source": [
    "baseline_run = remote_base_run.get_best_child()\n",
    "baseline_model_name = baseline_run.properties[\"model_name\"]\n",
    "baseline_run"
   ]
  },
  {
   "cell_type": "code",
   "execution_count": 44,
   "metadata": {
    "tags": []
   },
   "outputs": [
    {
     "name": "stdout",
     "output_type": "stream",
     "text": [
      "Finished getting training environment ...\n",
      "---\n",
      "Submitting experiment ...\n",
      "---\n",
      "Downloading test data with prediction ...\n",
      "---\n",
      "Removing auxiliary files ...\n",
      "---\n"
     ]
    }
   ],
   "source": [
    "import shutil\n",
    "from scripts.helper_scripts import run_remote_inference_naive\n",
    "\n",
    "if True:\n",
    "    remote_base_run_test = run_remote_inference_naive(\n",
    "        test_experiment=test_experiment_base,\n",
    "        compute_target=compute_target,\n",
    "        train_run=baseline_run,\n",
    "        test_dataset=test_dataset,\n",
    "        target_column_name=target_column_name,\n",
    "        rolling_evaluation_step_size=forecast_horizon,\n",
    "        inference_folder=\"./forecast_naive\"  # needed otherwise it will be looking for DNN environment b/c/ model.pt is uploaded to the clsuter for inference\n",
    "    )\n",
    "    remote_base_run_test.wait_for_completion(show_output=False)\n",
    "\n",
    "    # download the forecast file to the local machine\n",
    "    print('Downloading test data with prediction ...\\n---')\n",
    "    remote_base_run_test.download_file(\"outputs/predictions.csv\", os.path.join(OUTPUT_DIR, \"test-set-predictions-base.csv\"))\n",
    "    \n",
    "    # delete downloaded scripts\n",
    "    print('Removing auxiliary files ...\\n---')\n",
    "    shutil.rmtree('./forecast_naive')"
   ]
  },
  {
   "cell_type": "markdown",
   "metadata": {},
   "source": [
    "## 7. Test set model evaluation\n",
    "\n",
    "In this section we will evaluate the test set performance for the best TCN model and compare it with the baseline. We will generate time series plots for forecasts and actuals, calculate accuracy metrics and plot the evolution of metrics for each model over time. All output from this section will be stored in the `forecast_output` folder and can be referenced any time you need it."
   ]
  },
  {
   "cell_type": "markdown",
   "metadata": {},
   "source": [
    "### 7.1 Load test set results\n",
    "\n",
    "Here, we will import test set results for both many-models and baseline experiments."
   ]
  },
  {
   "cell_type": "code",
   "execution_count": 45,
   "metadata": {},
   "outputs": [],
   "source": [
    "backtest_automl = pd.read_csv(os.path.join(OUTPUT_DIR, \"test-set-predictions-many-models.csv\"), parse_dates=[time_column_name])\n",
    "backtest_base = pd.read_csv(os.path.join(OUTPUT_DIR, \"test-set-predictions-base.csv\"), parse_dates=[time_column_name])"
   ]
  },
  {
   "cell_type": "markdown",
   "metadata": {},
   "source": [
    "Nex, we combine outputs into a single dataframe which will be used for plotting and scoring."
   ]
  },
  {
   "cell_type": "code",
   "execution_count": 46,
   "metadata": {},
   "outputs": [
    {
     "data": {
      "text/html": [
       "<div>\n",
       "<style scoped>\n",
       "    .dataframe tbody tr th:only-of-type {\n",
       "        vertical-align: middle;\n",
       "    }\n",
       "\n",
       "    .dataframe tbody tr th {\n",
       "        vertical-align: top;\n",
       "    }\n",
       "\n",
       "    .dataframe thead th {\n",
       "        text-align: right;\n",
       "    }\n",
       "</style>\n",
       "<table border=\"1\" class=\"dataframe\">\n",
       "  <thead>\n",
       "    <tr style=\"text-align: right;\">\n",
       "      <th></th>\n",
       "      <th>datetime</th>\n",
       "      <th>usage</th>\n",
       "      <th>customer_id</th>\n",
       "      <th>predicted</th>\n",
       "      <th>forecast_origin</th>\n",
       "      <th>predicted_base</th>\n",
       "    </tr>\n",
       "  </thead>\n",
       "  <tbody>\n",
       "    <tr>\n",
       "      <th>0</th>\n",
       "      <td>2014-12-17 01:00:00</td>\n",
       "      <td>216.51</td>\n",
       "      <td>MT_355</td>\n",
       "      <td>224.37</td>\n",
       "      <td>2014-12-17 00:00:00</td>\n",
       "      <td>442.54</td>\n",
       "    </tr>\n",
       "    <tr>\n",
       "      <th>1</th>\n",
       "      <td>2014-12-17 02:00:00</td>\n",
       "      <td>177.32</td>\n",
       "      <td>MT_355</td>\n",
       "      <td>196.43</td>\n",
       "      <td>2014-12-17 00:00:00</td>\n",
       "      <td>442.54</td>\n",
       "    </tr>\n",
       "    <tr>\n",
       "      <th>2</th>\n",
       "      <td>2014-12-17 03:00:00</td>\n",
       "      <td>164.76</td>\n",
       "      <td>MT_355</td>\n",
       "      <td>194.66</td>\n",
       "      <td>2014-12-17 00:00:00</td>\n",
       "      <td>442.54</td>\n",
       "    </tr>\n",
       "    <tr>\n",
       "      <th>3</th>\n",
       "      <td>2014-12-17 04:00:00</td>\n",
       "      <td>169.33</td>\n",
       "      <td>MT_355</td>\n",
       "      <td>194.66</td>\n",
       "      <td>2014-12-17 00:00:00</td>\n",
       "      <td>442.54</td>\n",
       "    </tr>\n",
       "    <tr>\n",
       "      <th>4</th>\n",
       "      <td>2014-12-17 05:00:00</td>\n",
       "      <td>181.51</td>\n",
       "      <td>MT_355</td>\n",
       "      <td>198.57</td>\n",
       "      <td>2014-12-17 00:00:00</td>\n",
       "      <td>442.54</td>\n",
       "    </tr>\n",
       "  </tbody>\n",
       "</table>\n",
       "</div>"
      ],
      "text/plain": [
       "             datetime  usage customer_id  predicted      forecast_origin  \\\n",
       "0 2014-12-17 01:00:00 216.51      MT_355     224.37  2014-12-17 00:00:00   \n",
       "1 2014-12-17 02:00:00 177.32      MT_355     196.43  2014-12-17 00:00:00   \n",
       "2 2014-12-17 03:00:00 164.76      MT_355     194.66  2014-12-17 00:00:00   \n",
       "3 2014-12-17 04:00:00 169.33      MT_355     194.66  2014-12-17 00:00:00   \n",
       "4 2014-12-17 05:00:00 181.51      MT_355     198.57  2014-12-17 00:00:00   \n",
       "\n",
       "   predicted_base  \n",
       "0          442.54  \n",
       "1          442.54  \n",
       "2          442.54  \n",
       "3          442.54  \n",
       "4          442.54  "
      ]
     },
     "execution_count": 46,
     "metadata": {},
     "output_type": "execute_result"
    }
   ],
   "source": [
    "backtest = backtest_automl.merge(backtest_base.drop(target_column_name, axis=1),\n",
    "                                 on=[\"customer_id\", \"datetime\"],\n",
    "                                 how=\"inner\",\n",
    "                                 suffixes=[\"\", \"_base\"] )\n",
    "backtest.head()"
   ]
  },
  {
   "cell_type": "code",
   "execution_count": 47,
   "metadata": {},
   "outputs": [
    {
     "name": "stdout",
     "output_type": "stream",
     "text": [
      "N model: 3360. N baseline: 3360. N merged: 3360\n"
     ]
    }
   ],
   "source": [
    "print(f'N model: {backtest_automl.shape[0]}. N baseline: {backtest_base.shape[0]}. N merged: {backtest.shape[0]}')"
   ]
  },
  {
   "cell_type": "markdown",
   "metadata": {},
   "source": [
    "The data we are working with has an hourly frequency and we plan to generate the forecasts every 24 hours. If the model were to be put in production such that the forecasts are generated and model's performance is monitored every 24 hours, we will mimic the scoring process on the test set by generating daily accuracy metrics. To do this, we create a date column (\"ymd\"). If you want to score the output at any other frequency, say, weekly, just change the frequency parameter to the desired frequency."
   ]
  },
  {
   "cell_type": "code",
   "execution_count": 48,
   "metadata": {},
   "outputs": [
    {
     "data": {
      "text/html": [
       "<div>\n",
       "<style scoped>\n",
       "    .dataframe tbody tr th:only-of-type {\n",
       "        vertical-align: middle;\n",
       "    }\n",
       "\n",
       "    .dataframe tbody tr th {\n",
       "        vertical-align: top;\n",
       "    }\n",
       "\n",
       "    .dataframe thead th {\n",
       "        text-align: right;\n",
       "    }\n",
       "</style>\n",
       "<table border=\"1\" class=\"dataframe\">\n",
       "  <thead>\n",
       "    <tr style=\"text-align: right;\">\n",
       "      <th></th>\n",
       "      <th>datetime</th>\n",
       "      <th>usage</th>\n",
       "      <th>customer_id</th>\n",
       "      <th>predicted</th>\n",
       "      <th>forecast_origin</th>\n",
       "      <th>predicted_base</th>\n",
       "      <th>ymd</th>\n",
       "    </tr>\n",
       "  </thead>\n",
       "  <tbody>\n",
       "    <tr>\n",
       "      <th>0</th>\n",
       "      <td>2014-12-17 01:00:00</td>\n",
       "      <td>216.51</td>\n",
       "      <td>MT_355</td>\n",
       "      <td>224.37</td>\n",
       "      <td>2014-12-17 00:00:00</td>\n",
       "      <td>442.54</td>\n",
       "      <td>2014-12-17</td>\n",
       "    </tr>\n",
       "    <tr>\n",
       "      <th>1</th>\n",
       "      <td>2014-12-17 02:00:00</td>\n",
       "      <td>177.32</td>\n",
       "      <td>MT_355</td>\n",
       "      <td>196.43</td>\n",
       "      <td>2014-12-17 00:00:00</td>\n",
       "      <td>442.54</td>\n",
       "      <td>2014-12-17</td>\n",
       "    </tr>\n",
       "    <tr>\n",
       "      <th>2</th>\n",
       "      <td>2014-12-17 03:00:00</td>\n",
       "      <td>164.76</td>\n",
       "      <td>MT_355</td>\n",
       "      <td>194.66</td>\n",
       "      <td>2014-12-17 00:00:00</td>\n",
       "      <td>442.54</td>\n",
       "      <td>2014-12-17</td>\n",
       "    </tr>\n",
       "    <tr>\n",
       "      <th>3</th>\n",
       "      <td>2014-12-17 04:00:00</td>\n",
       "      <td>169.33</td>\n",
       "      <td>MT_355</td>\n",
       "      <td>194.66</td>\n",
       "      <td>2014-12-17 00:00:00</td>\n",
       "      <td>442.54</td>\n",
       "      <td>2014-12-17</td>\n",
       "    </tr>\n",
       "    <tr>\n",
       "      <th>4</th>\n",
       "      <td>2014-12-17 05:00:00</td>\n",
       "      <td>181.51</td>\n",
       "      <td>MT_355</td>\n",
       "      <td>198.57</td>\n",
       "      <td>2014-12-17 00:00:00</td>\n",
       "      <td>442.54</td>\n",
       "      <td>2014-12-17</td>\n",
       "    </tr>\n",
       "  </tbody>\n",
       "</table>\n",
       "</div>"
      ],
      "text/plain": [
       "             datetime  usage customer_id  predicted      forecast_origin  \\\n",
       "0 2014-12-17 01:00:00 216.51      MT_355     224.37  2014-12-17 00:00:00   \n",
       "1 2014-12-17 02:00:00 177.32      MT_355     196.43  2014-12-17 00:00:00   \n",
       "2 2014-12-17 03:00:00 164.76      MT_355     194.66  2014-12-17 00:00:00   \n",
       "3 2014-12-17 04:00:00 169.33      MT_355     194.66  2014-12-17 00:00:00   \n",
       "4 2014-12-17 05:00:00 181.51      MT_355     198.57  2014-12-17 00:00:00   \n",
       "\n",
       "   predicted_base         ymd  \n",
       "0          442.54  2014-12-17  \n",
       "1          442.54  2014-12-17  \n",
       "2          442.54  2014-12-17  \n",
       "3          442.54  2014-12-17  \n",
       "4          442.54  2014-12-17  "
      ]
     },
     "execution_count": 48,
     "metadata": {},
     "output_type": "execute_result"
    }
   ],
   "source": [
    "PERIOD_COLUMN = \"ymd\"\n",
    "\n",
    "backtest[PERIOD_COLUMN] = backtest[time_column_name].dt.to_period(\n",
    "    \"D\"\n",
    ")  # year-month-day to be used for daily metrics computation\n",
    "backtest.head()"
   ]
  },
  {
   "cell_type": "markdown",
   "metadata": {},
   "source": [
    "### 7.2 Generate time series plots\n",
    "\n",
    "Here, we generate forecast versus actuals plot for the test set for both the best TCN model and the baseline. Since we use rolling evaluation with the step size of 24 hours, this mimics the behavior of putting both models in production and monitoring their behavior for the duration of the test set. This step allows users to make informed decisons about model performance and saves numerous costs associated with productionalizing the model and monitoring its performance in real life. "
   ]
  },
  {
   "cell_type": "code",
   "execution_count": 49,
   "metadata": {},
   "outputs": [],
   "source": [
    "from scripts.helper_scripts import _draw_one_plot\n",
    "from matplotlib import pyplot as plt\n",
    "from matplotlib.backends.backend_pdf import PdfPages\n",
    "\n",
    "plot_filename = \"forecast_vs_actual.pdf\"\n",
    "\n",
    "pdf = PdfPages(os.path.join(os.getcwd(), OUTPUT_DIR, plot_filename))\n",
    "for _, one_forecast in backtest.groupby(GRAIN_COL):\n",
    "    one_forecast[time_column_name] = pd.to_datetime(one_forecast[time_column_name])\n",
    "    one_forecast.sort_values(time_column_name, inplace=True)\n",
    "    _draw_one_plot(\n",
    "        one_forecast,\n",
    "        time_column_name,\n",
    "        target_column_name,\n",
    "        [GRAIN_COL],\n",
    "        [target_column_name, \"predicted\", \"predicted_base\"],\n",
    "        pdf,\n",
    "        plot_predictions=True,\n",
    "    )\n",
    "pdf.close()"
   ]
  },
  {
   "cell_type": "markdown",
   "metadata": {},
   "source": [
    "### 7.3 Calculate metrics\n",
    "Here, we will calculate the metric of interest for each day. For illustration purposes we use root mean squared error as the metric of choice. However, the `compute_all_metrics` method calculated all primary and secondary metrics for AutoML runs. Please refer to this <u>*Regression/forecasting metrics*</u> section in this [document](https://learn.microsoft.com/en-us/azure/machine-learning/how-to-understand-automated-ml#regressionforecasting-metrics) for the list of available metrics. We will calculate the distribution of this metric for each time series in our dataset. Looking at the descrptive stats of such metrics can be more informative than calculating a single metric such as the mean for each time series. As an example, we are looking at the RMSE (root mean squared error) metric, but you can choose any other metric computed."
   ]
  },
  {
   "cell_type": "code",
   "execution_count": 50,
   "metadata": {},
   "outputs": [],
   "source": [
    "from scripts.helper_scripts import compute_all_metrics\n",
    "\n",
    "metrics_per_grain_day = compute_all_metrics(\n",
    "    fcst_df=backtest,\n",
    "    actual_col=target_column_name,\n",
    "    fcst_col=\"predicted\",\n",
    "    ts_id_colnames=[GRAIN_COL, PERIOD_COLUMN],\n",
    ")"
   ]
  },
  {
   "cell_type": "code",
   "execution_count": 51,
   "metadata": {},
   "outputs": [
    {
     "name": "stdout",
     "output_type": "stream",
     "text": [
      "List of available metrics: ['explained_variance' 'mean_absolute_error'\n",
      " 'mean_absolute_percentage_error' 'median_absolute_error'\n",
      " 'normalized_mean_absolute_error' 'normalized_median_absolute_error'\n",
      " 'normalized_root_mean_squared_error'\n",
      " 'normalized_root_mean_squared_log_error' 'r2_score'\n",
      " 'root_mean_squared_error' 'root_mean_squared_log_error'\n",
      " 'spearman_correlation']\n",
      "---\n"
     ]
    }
   ],
   "source": [
    "print(f'List of available metrics: {metrics_per_grain_day[\"metric_name\"].unique()}\\n---')"
   ]
  },
  {
   "cell_type": "code",
   "execution_count": 52,
   "metadata": {},
   "outputs": [
    {
     "data": {
      "text/html": [
       "<div>\n",
       "<style scoped>\n",
       "    .dataframe tbody tr th:only-of-type {\n",
       "        vertical-align: middle;\n",
       "    }\n",
       "\n",
       "    .dataframe tbody tr th {\n",
       "        vertical-align: top;\n",
       "    }\n",
       "\n",
       "    .dataframe thead th {\n",
       "        text-align: right;\n",
       "    }\n",
       "</style>\n",
       "<table border=\"1\" class=\"dataframe\">\n",
       "  <thead>\n",
       "    <tr style=\"text-align: right;\">\n",
       "      <th></th>\n",
       "      <th>count</th>\n",
       "      <th>mean</th>\n",
       "      <th>std</th>\n",
       "      <th>min</th>\n",
       "      <th>25%</th>\n",
       "      <th>50%</th>\n",
       "      <th>75%</th>\n",
       "      <th>max</th>\n",
       "    </tr>\n",
       "    <tr>\n",
       "      <th>customer_id</th>\n",
       "      <th></th>\n",
       "      <th></th>\n",
       "      <th></th>\n",
       "      <th></th>\n",
       "      <th></th>\n",
       "      <th></th>\n",
       "      <th></th>\n",
       "      <th></th>\n",
       "    </tr>\n",
       "  </thead>\n",
       "  <tbody>\n",
       "    <tr>\n",
       "      <th>MT_023</th>\n",
       "      <td>15.00</td>\n",
       "      <td>2.83</td>\n",
       "      <td>3.02</td>\n",
       "      <td>1.18</td>\n",
       "      <td>1.52</td>\n",
       "      <td>2.31</td>\n",
       "      <td>2.54</td>\n",
       "      <td>13.53</td>\n",
       "    </tr>\n",
       "    <tr>\n",
       "      <th>MT_070</th>\n",
       "      <td>15.00</td>\n",
       "      <td>6.03</td>\n",
       "      <td>1.76</td>\n",
       "      <td>3.94</td>\n",
       "      <td>4.73</td>\n",
       "      <td>5.59</td>\n",
       "      <td>7.00</td>\n",
       "      <td>10.39</td>\n",
       "    </tr>\n",
       "    <tr>\n",
       "      <th>MT_103</th>\n",
       "      <td>15.00</td>\n",
       "      <td>154.80</td>\n",
       "      <td>89.74</td>\n",
       "      <td>83.27</td>\n",
       "      <td>103.94</td>\n",
       "      <td>119.99</td>\n",
       "      <td>162.27</td>\n",
       "      <td>403.66</td>\n",
       "    </tr>\n",
       "    <tr>\n",
       "      <th>MT_147</th>\n",
       "      <td>15.00</td>\n",
       "      <td>140.55</td>\n",
       "      <td>68.29</td>\n",
       "      <td>51.49</td>\n",
       "      <td>85.83</td>\n",
       "      <td>118.74</td>\n",
       "      <td>197.77</td>\n",
       "      <td>243.63</td>\n",
       "    </tr>\n",
       "    <tr>\n",
       "      <th>MT_148</th>\n",
       "      <td>15.00</td>\n",
       "      <td>19.94</td>\n",
       "      <td>13.82</td>\n",
       "      <td>5.45</td>\n",
       "      <td>9.92</td>\n",
       "      <td>15.45</td>\n",
       "      <td>22.00</td>\n",
       "      <td>53.44</td>\n",
       "    </tr>\n",
       "    <tr>\n",
       "      <th>MT_210</th>\n",
       "      <td>15.00</td>\n",
       "      <td>100.05</td>\n",
       "      <td>62.62</td>\n",
       "      <td>28.63</td>\n",
       "      <td>56.32</td>\n",
       "      <td>81.36</td>\n",
       "      <td>122.75</td>\n",
       "      <td>262.80</td>\n",
       "    </tr>\n",
       "    <tr>\n",
       "      <th>MT_235</th>\n",
       "      <td>15.00</td>\n",
       "      <td>108.88</td>\n",
       "      <td>74.56</td>\n",
       "      <td>6.63</td>\n",
       "      <td>56.75</td>\n",
       "      <td>82.68</td>\n",
       "      <td>137.30</td>\n",
       "      <td>242.68</td>\n",
       "    </tr>\n",
       "    <tr>\n",
       "      <th>MT_315</th>\n",
       "      <td>15.00</td>\n",
       "      <td>5.37</td>\n",
       "      <td>3.84</td>\n",
       "      <td>2.09</td>\n",
       "      <td>3.54</td>\n",
       "      <td>4.28</td>\n",
       "      <td>4.87</td>\n",
       "      <td>17.21</td>\n",
       "    </tr>\n",
       "    <tr>\n",
       "      <th>MT_345</th>\n",
       "      <td>15.00</td>\n",
       "      <td>173.49</td>\n",
       "      <td>82.54</td>\n",
       "      <td>71.34</td>\n",
       "      <td>99.33</td>\n",
       "      <td>158.64</td>\n",
       "      <td>215.51</td>\n",
       "      <td>310.86</td>\n",
       "    </tr>\n",
       "    <tr>\n",
       "      <th>MT_355</th>\n",
       "      <td>15.00</td>\n",
       "      <td>73.85</td>\n",
       "      <td>83.10</td>\n",
       "      <td>15.37</td>\n",
       "      <td>32.73</td>\n",
       "      <td>37.88</td>\n",
       "      <td>60.06</td>\n",
       "      <td>320.52</td>\n",
       "    </tr>\n",
       "    <tr>\n",
       "      <th>all_sets</th>\n",
       "      <td>1.00</td>\n",
       "      <td>115.78</td>\n",
       "      <td>nan</td>\n",
       "      <td>115.78</td>\n",
       "      <td>115.78</td>\n",
       "      <td>115.78</td>\n",
       "      <td>115.78</td>\n",
       "      <td>115.78</td>\n",
       "    </tr>\n",
       "  </tbody>\n",
       "</table>\n",
       "</div>"
      ],
      "text/plain": [
       "             count   mean   std    min    25%    50%    75%    max\n",
       "customer_id                                                       \n",
       "MT_023       15.00   2.83  3.02   1.18   1.52   2.31   2.54  13.53\n",
       "MT_070       15.00   6.03  1.76   3.94   4.73   5.59   7.00  10.39\n",
       "MT_103       15.00 154.80 89.74  83.27 103.94 119.99 162.27 403.66\n",
       "MT_147       15.00 140.55 68.29  51.49  85.83 118.74 197.77 243.63\n",
       "MT_148       15.00  19.94 13.82   5.45   9.92  15.45  22.00  53.44\n",
       "MT_210       15.00 100.05 62.62  28.63  56.32  81.36 122.75 262.80\n",
       "MT_235       15.00 108.88 74.56   6.63  56.75  82.68 137.30 242.68\n",
       "MT_315       15.00   5.37  3.84   2.09   3.54   4.28   4.87  17.21\n",
       "MT_345       15.00 173.49 82.54  71.34  99.33 158.64 215.51 310.86\n",
       "MT_355       15.00  73.85 83.10  15.37  32.73  37.88  60.06 320.52\n",
       "all_sets      1.00 115.78   nan 115.78 115.78 115.78 115.78 115.78"
      ]
     },
     "execution_count": 52,
     "metadata": {},
     "output_type": "execute_result"
    }
   ],
   "source": [
    "DESIRED_METRIC_NAME = \"root_mean_squared_error\"\n",
    "\n",
    "metrics_per_grain_day = metrics_per_grain_day.query(\n",
    "    f'metric_name == \"{DESIRED_METRIC_NAME}\"'\n",
    ")\n",
    "metrics_per_grain_day[[GRAIN_COL, PERIOD_COLUMN]] = metrics_per_grain_day[\n",
    "    \"time_series_id\"\n",
    "].str.split(\"|\", 1, expand=True)\n",
    "metrics_per_grain_day.to_csv(\n",
    "    os.path.join(OUTPUT_DIR, \"metrics-automl.csv\"), index=False\n",
    ")\n",
    "metrics_per_grain_day.groupby(GRAIN_COL)[\"metric\"].describe()"
   ]
  },
  {
   "cell_type": "code",
   "execution_count": 53,
   "metadata": {},
   "outputs": [
    {
     "data": {
      "text/html": [
       "<div>\n",
       "<style scoped>\n",
       "    .dataframe tbody tr th:only-of-type {\n",
       "        vertical-align: middle;\n",
       "    }\n",
       "\n",
       "    .dataframe tbody tr th {\n",
       "        vertical-align: top;\n",
       "    }\n",
       "\n",
       "    .dataframe thead th {\n",
       "        text-align: right;\n",
       "    }\n",
       "</style>\n",
       "<table border=\"1\" class=\"dataframe\">\n",
       "  <thead>\n",
       "    <tr style=\"text-align: right;\">\n",
       "      <th></th>\n",
       "      <th>count</th>\n",
       "      <th>mean</th>\n",
       "      <th>std</th>\n",
       "      <th>min</th>\n",
       "      <th>25%</th>\n",
       "      <th>50%</th>\n",
       "      <th>75%</th>\n",
       "      <th>max</th>\n",
       "    </tr>\n",
       "    <tr>\n",
       "      <th>customer_id</th>\n",
       "      <th></th>\n",
       "      <th></th>\n",
       "      <th></th>\n",
       "      <th></th>\n",
       "      <th></th>\n",
       "      <th></th>\n",
       "      <th></th>\n",
       "      <th></th>\n",
       "    </tr>\n",
       "  </thead>\n",
       "  <tbody>\n",
       "    <tr>\n",
       "      <th>MT_023</th>\n",
       "      <td>15.00</td>\n",
       "      <td>5.14</td>\n",
       "      <td>1.58</td>\n",
       "      <td>0.00</td>\n",
       "      <td>5.17</td>\n",
       "      <td>5.62</td>\n",
       "      <td>5.77</td>\n",
       "      <td>6.73</td>\n",
       "    </tr>\n",
       "    <tr>\n",
       "      <th>MT_070</th>\n",
       "      <td>15.00</td>\n",
       "      <td>15.32</td>\n",
       "      <td>4.05</td>\n",
       "      <td>2.99</td>\n",
       "      <td>15.26</td>\n",
       "      <td>15.92</td>\n",
       "      <td>17.39</td>\n",
       "      <td>19.58</td>\n",
       "    </tr>\n",
       "    <tr>\n",
       "      <th>MT_103</th>\n",
       "      <td>15.00</td>\n",
       "      <td>619.45</td>\n",
       "      <td>166.54</td>\n",
       "      <td>220.76</td>\n",
       "      <td>615.69</td>\n",
       "      <td>646.36</td>\n",
       "      <td>677.91</td>\n",
       "      <td>925.22</td>\n",
       "    </tr>\n",
       "    <tr>\n",
       "      <th>MT_147</th>\n",
       "      <td>15.00</td>\n",
       "      <td>38.60</td>\n",
       "      <td>24.05</td>\n",
       "      <td>11.44</td>\n",
       "      <td>26.05</td>\n",
       "      <td>31.72</td>\n",
       "      <td>39.60</td>\n",
       "      <td>102.68</td>\n",
       "    </tr>\n",
       "    <tr>\n",
       "      <th>MT_148</th>\n",
       "      <td>15.00</td>\n",
       "      <td>16.34</td>\n",
       "      <td>10.72</td>\n",
       "      <td>2.27</td>\n",
       "      <td>5.25</td>\n",
       "      <td>20.36</td>\n",
       "      <td>26.01</td>\n",
       "      <td>30.02</td>\n",
       "    </tr>\n",
       "    <tr>\n",
       "      <th>MT_210</th>\n",
       "      <td>15.00</td>\n",
       "      <td>266.45</td>\n",
       "      <td>105.61</td>\n",
       "      <td>43.78</td>\n",
       "      <td>224.63</td>\n",
       "      <td>255.23</td>\n",
       "      <td>337.02</td>\n",
       "      <td>454.76</td>\n",
       "    </tr>\n",
       "    <tr>\n",
       "      <th>MT_235</th>\n",
       "      <td>15.00</td>\n",
       "      <td>453.90</td>\n",
       "      <td>177.16</td>\n",
       "      <td>28.19</td>\n",
       "      <td>464.66</td>\n",
       "      <td>519.45</td>\n",
       "      <td>524.02</td>\n",
       "      <td>672.16</td>\n",
       "    </tr>\n",
       "    <tr>\n",
       "      <th>MT_315</th>\n",
       "      <td>15.00</td>\n",
       "      <td>27.48</td>\n",
       "      <td>10.49</td>\n",
       "      <td>0.14</td>\n",
       "      <td>28.81</td>\n",
       "      <td>31.22</td>\n",
       "      <td>32.99</td>\n",
       "      <td>34.21</td>\n",
       "    </tr>\n",
       "    <tr>\n",
       "      <th>MT_345</th>\n",
       "      <td>15.00</td>\n",
       "      <td>664.82</td>\n",
       "      <td>203.26</td>\n",
       "      <td>37.44</td>\n",
       "      <td>640.97</td>\n",
       "      <td>661.84</td>\n",
       "      <td>744.44</td>\n",
       "      <td>1034.25</td>\n",
       "    </tr>\n",
       "    <tr>\n",
       "      <th>MT_355</th>\n",
       "      <td>15.00</td>\n",
       "      <td>290.01</td>\n",
       "      <td>97.10</td>\n",
       "      <td>20.55</td>\n",
       "      <td>293.68</td>\n",
       "      <td>327.12</td>\n",
       "      <td>341.36</td>\n",
       "      <td>369.08</td>\n",
       "    </tr>\n",
       "    <tr>\n",
       "      <th>all_sets</th>\n",
       "      <td>1.00</td>\n",
       "      <td>372.57</td>\n",
       "      <td>nan</td>\n",
       "      <td>372.57</td>\n",
       "      <td>372.57</td>\n",
       "      <td>372.57</td>\n",
       "      <td>372.57</td>\n",
       "      <td>372.57</td>\n",
       "    </tr>\n",
       "  </tbody>\n",
       "</table>\n",
       "</div>"
      ],
      "text/plain": [
       "             count   mean    std    min    25%    50%    75%     max\n",
       "customer_id                                                         \n",
       "MT_023       15.00   5.14   1.58   0.00   5.17   5.62   5.77    6.73\n",
       "MT_070       15.00  15.32   4.05   2.99  15.26  15.92  17.39   19.58\n",
       "MT_103       15.00 619.45 166.54 220.76 615.69 646.36 677.91  925.22\n",
       "MT_147       15.00  38.60  24.05  11.44  26.05  31.72  39.60  102.68\n",
       "MT_148       15.00  16.34  10.72   2.27   5.25  20.36  26.01   30.02\n",
       "MT_210       15.00 266.45 105.61  43.78 224.63 255.23 337.02  454.76\n",
       "MT_235       15.00 453.90 177.16  28.19 464.66 519.45 524.02  672.16\n",
       "MT_315       15.00  27.48  10.49   0.14  28.81  31.22  32.99   34.21\n",
       "MT_345       15.00 664.82 203.26  37.44 640.97 661.84 744.44 1034.25\n",
       "MT_355       15.00 290.01  97.10  20.55 293.68 327.12 341.36  369.08\n",
       "all_sets      1.00 372.57    nan 372.57 372.57 372.57 372.57  372.57"
      ]
     },
     "execution_count": 53,
     "metadata": {},
     "output_type": "execute_result"
    }
   ],
   "source": [
    "# baseline metrics\n",
    "metrics_per_grain_day_base = compute_all_metrics(\n",
    "    fcst_df=backtest,\n",
    "    actual_col=target_column_name,\n",
    "    fcst_col=\"predicted_base\",\n",
    "    ts_id_colnames=[GRAIN_COL, PERIOD_COLUMN],\n",
    ")\n",
    "metrics_per_grain_day_base = metrics_per_grain_day_base.query(\n",
    "    f'metric_name == \"{DESIRED_METRIC_NAME}\"'\n",
    ")\n",
    "metrics_per_grain_day_base[[GRAIN_COL, PERIOD_COLUMN]] = metrics_per_grain_day[\n",
    "    \"time_series_id\"\n",
    "].str.split(\"|\", 1, expand=True)\n",
    "metrics_per_grain_day_base.to_csv(\n",
    "    os.path.join(OUTPUT_DIR, \"metrics-base.csv\"), index=False\n",
    ")\n",
    "metrics_per_grain_day_base.groupby(GRAIN_COL)[\"metric\"].describe()"
   ]
  },
  {
   "cell_type": "markdown",
   "metadata": {},
   "source": [
    "### 7.4  Visualize metrics\n",
    "\n",
    "In this section we plot metric evolution over time for the best AutoML and the baseline models."
   ]
  },
  {
   "cell_type": "code",
   "execution_count": 54,
   "metadata": {},
   "outputs": [
    {
     "data": {
      "text/html": [
       "<div>\n",
       "<style scoped>\n",
       "    .dataframe tbody tr th:only-of-type {\n",
       "        vertical-align: middle;\n",
       "    }\n",
       "\n",
       "    .dataframe tbody tr th {\n",
       "        vertical-align: top;\n",
       "    }\n",
       "\n",
       "    .dataframe thead th {\n",
       "        text-align: right;\n",
       "    }\n",
       "</style>\n",
       "<table border=\"1\" class=\"dataframe\">\n",
       "  <thead>\n",
       "    <tr style=\"text-align: right;\">\n",
       "      <th></th>\n",
       "      <th>metric_name</th>\n",
       "      <th>metric</th>\n",
       "      <th>customer_id</th>\n",
       "      <th>ymd</th>\n",
       "      <th>metric_base</th>\n",
       "    </tr>\n",
       "  </thead>\n",
       "  <tbody>\n",
       "    <tr>\n",
       "      <th>0</th>\n",
       "      <td>root_mean_squared_error</td>\n",
       "      <td>1.50</td>\n",
       "      <td>MT_023</td>\n",
       "      <td>2014-12-17</td>\n",
       "      <td>5.64</td>\n",
       "    </tr>\n",
       "    <tr>\n",
       "      <th>1</th>\n",
       "      <td>root_mean_squared_error</td>\n",
       "      <td>1.70</td>\n",
       "      <td>MT_023</td>\n",
       "      <td>2014-12-18</td>\n",
       "      <td>5.62</td>\n",
       "    </tr>\n",
       "    <tr>\n",
       "      <th>2</th>\n",
       "      <td>root_mean_squared_error</td>\n",
       "      <td>2.35</td>\n",
       "      <td>MT_023</td>\n",
       "      <td>2014-12-19</td>\n",
       "      <td>5.78</td>\n",
       "    </tr>\n",
       "    <tr>\n",
       "      <th>3</th>\n",
       "      <td>root_mean_squared_error</td>\n",
       "      <td>2.31</td>\n",
       "      <td>MT_023</td>\n",
       "      <td>2014-12-20</td>\n",
       "      <td>5.73</td>\n",
       "    </tr>\n",
       "    <tr>\n",
       "      <th>4</th>\n",
       "      <td>root_mean_squared_error</td>\n",
       "      <td>1.52</td>\n",
       "      <td>MT_023</td>\n",
       "      <td>2014-12-21</td>\n",
       "      <td>6.04</td>\n",
       "    </tr>\n",
       "    <tr>\n",
       "      <th>...</th>\n",
       "      <td>...</td>\n",
       "      <td>...</td>\n",
       "      <td>...</td>\n",
       "      <td>...</td>\n",
       "      <td>...</td>\n",
       "    </tr>\n",
       "    <tr>\n",
       "      <th>146</th>\n",
       "      <td>root_mean_squared_error</td>\n",
       "      <td>51.81</td>\n",
       "      <td>MT_355</td>\n",
       "      <td>2014-12-28</td>\n",
       "      <td>296.19</td>\n",
       "    </tr>\n",
       "    <tr>\n",
       "      <th>147</th>\n",
       "      <td>root_mean_squared_error</td>\n",
       "      <td>37.88</td>\n",
       "      <td>MT_355</td>\n",
       "      <td>2014-12-29</td>\n",
       "      <td>338.20</td>\n",
       "    </tr>\n",
       "    <tr>\n",
       "      <th>148</th>\n",
       "      <td>root_mean_squared_error</td>\n",
       "      <td>48.93</td>\n",
       "      <td>MT_355</td>\n",
       "      <td>2014-12-30</td>\n",
       "      <td>324.17</td>\n",
       "    </tr>\n",
       "    <tr>\n",
       "      <th>149</th>\n",
       "      <td>root_mean_squared_error</td>\n",
       "      <td>15.37</td>\n",
       "      <td>MT_355</td>\n",
       "      <td>2014-12-31</td>\n",
       "      <td>20.55</td>\n",
       "    </tr>\n",
       "    <tr>\n",
       "      <th>150</th>\n",
       "      <td>root_mean_squared_error</td>\n",
       "      <td>115.78</td>\n",
       "      <td>all_sets</td>\n",
       "      <td>None</td>\n",
       "      <td>372.57</td>\n",
       "    </tr>\n",
       "  </tbody>\n",
       "</table>\n",
       "<p>151 rows × 5 columns</p>\n",
       "</div>"
      ],
      "text/plain": [
       "                 metric_name  metric customer_id         ymd  metric_base\n",
       "0    root_mean_squared_error    1.50      MT_023  2014-12-17         5.64\n",
       "1    root_mean_squared_error    1.70      MT_023  2014-12-18         5.62\n",
       "2    root_mean_squared_error    2.35      MT_023  2014-12-19         5.78\n",
       "3    root_mean_squared_error    2.31      MT_023  2014-12-20         5.73\n",
       "4    root_mean_squared_error    1.52      MT_023  2014-12-21         6.04\n",
       "..                       ...     ...         ...         ...          ...\n",
       "146  root_mean_squared_error   51.81      MT_355  2014-12-28       296.19\n",
       "147  root_mean_squared_error   37.88      MT_355  2014-12-29       338.20\n",
       "148  root_mean_squared_error   48.93      MT_355  2014-12-30       324.17\n",
       "149  root_mean_squared_error   15.37      MT_355  2014-12-31        20.55\n",
       "150  root_mean_squared_error  115.78    all_sets        None       372.57\n",
       "\n",
       "[151 rows x 5 columns]"
      ]
     },
     "execution_count": 54,
     "metadata": {},
     "output_type": "execute_result"
    }
   ],
   "source": [
    "metrics_df = metrics_per_grain_day.drop(\"time_series_id\", axis=1).merge(\n",
    "    metrics_per_grain_day_base.drop(\"time_series_id\", axis=1),\n",
    "    on=[\"metric_name\", GRAIN_COL, PERIOD_COLUMN],\n",
    "    how=\"inner\",\n",
    "    suffixes=[\"\", \"_base\"],\n",
    ")\n",
    "metrics_df"
   ]
  },
  {
   "cell_type": "code",
   "execution_count": 55,
   "metadata": {},
   "outputs": [],
   "source": [
    "grain = [GRAIN_COL]\n",
    "plot_filename = \"metrics_plot.pdf\"\n",
    "\n",
    "pdf = PdfPages(os.path.join(os.getcwd(), OUTPUT_DIR, plot_filename))\n",
    "for _, one_forecast in metrics_df.groupby(grain):\n",
    "    one_forecast[PERIOD_COLUMN] = pd.to_datetime(one_forecast[PERIOD_COLUMN])\n",
    "    one_forecast.sort_values(PERIOD_COLUMN, inplace=True)\n",
    "    _draw_one_plot(\n",
    "        one_forecast,\n",
    "        PERIOD_COLUMN,\n",
    "        target_column_name,\n",
    "        grain,\n",
    "        [\"metric\", \"metric_base\"],\n",
    "        pdf,\n",
    "        plot_predictions=True,\n",
    "    )\n",
    "pdf.close()"
   ]
  },
  {
   "cell_type": "code",
   "execution_count": 56,
   "metadata": {},
   "outputs": [
    {
     "data": {
      "text/html": [
       "\n",
       "        <iframe\n",
       "            width=\"800\"\n",
       "            height=\"300\"\n",
       "            src=\"./forecast_output/metrics_plot.pdf\"\n",
       "            frameborder=\"0\"\n",
       "            allowfullscreen\n",
       "            \n",
       "        ></iframe>\n",
       "        "
      ],
      "text/plain": [
       "<IPython.lib.display.IFrame at 0x7f90748b52b0>"
      ]
     },
     "execution_count": 56,
     "metadata": {},
     "output_type": "execute_result"
    }
   ],
   "source": [
    "from IPython.display import IFrame\n",
    "\n",
    "IFrame(os.path.join(\"./forecast_output/metrics_plot.pdf\"), width=800, height=300)"
   ]
  },
  {
   "cell_type": "markdown",
   "metadata": {},
   "source": [
    "# 8. Inference\n",
    "\n",
    "In this step, we generate an actual forecast by providing an inference set that does not contain actual values. This illustrates how to generate production forecasts in real life. The code in this section is pretty much identical to the one in section 6.1 with one exception, we set the `run_rolling_evaluation` argument to `False`."
   ]
  },
  {
   "cell_type": "markdown",
   "metadata": {},
   "source": [
    "### 8.1 Set up output dataset for inference data\n",
    "\n",
    "Output of inference step can be represented as [OutputFileDatasetConfig](https://docs.microsoft.com/en-us/python/api/azureml-core/azureml.data.output_dataset_config.outputdatasetconfig?view=azure-ml-py) object which, in turn, will be registered as a dataset."
   ]
  },
  {
   "cell_type": "code",
   "execution_count": 57,
   "metadata": {},
   "outputs": [],
   "source": [
    "from azureml.data import OutputFileDatasetConfig\n",
    "\n",
    "output_inference_data_ds = OutputFileDatasetConfig(\n",
    "    name=\"many_models_inference_output\", destination=(datastore, \"uci_electro_small/inference_output/\")\n",
    ").register_on_complete(name=\"uci_electro_small_inference_data_ds\")"
   ]
  },
  {
   "cell_type": "code",
   "execution_count": 58,
   "metadata": {},
   "outputs": [
    {
     "data": {
      "text/html": [
       "<div>\n",
       "<style scoped>\n",
       "    .dataframe tbody tr th:only-of-type {\n",
       "        vertical-align: middle;\n",
       "    }\n",
       "\n",
       "    .dataframe tbody tr th {\n",
       "        vertical-align: top;\n",
       "    }\n",
       "\n",
       "    .dataframe thead th {\n",
       "        text-align: right;\n",
       "    }\n",
       "</style>\n",
       "<table border=\"1\" class=\"dataframe\">\n",
       "  <thead>\n",
       "    <tr style=\"text-align: right;\">\n",
       "      <th></th>\n",
       "      <th>customer_id</th>\n",
       "      <th>datetime</th>\n",
       "    </tr>\n",
       "  </thead>\n",
       "  <tbody>\n",
       "    <tr>\n",
       "      <th>0</th>\n",
       "      <td>MT_023</td>\n",
       "      <td>2014-12-31 01:00:00</td>\n",
       "    </tr>\n",
       "    <tr>\n",
       "      <th>1</th>\n",
       "      <td>MT_023</td>\n",
       "      <td>2014-12-31 02:00:00</td>\n",
       "    </tr>\n",
       "    <tr>\n",
       "      <th>2</th>\n",
       "      <td>MT_023</td>\n",
       "      <td>2014-12-31 03:00:00</td>\n",
       "    </tr>\n",
       "    <tr>\n",
       "      <th>3</th>\n",
       "      <td>MT_023</td>\n",
       "      <td>2014-12-31 04:00:00</td>\n",
       "    </tr>\n",
       "    <tr>\n",
       "      <th>4</th>\n",
       "      <td>MT_023</td>\n",
       "      <td>2014-12-31 05:00:00</td>\n",
       "    </tr>\n",
       "  </tbody>\n",
       "</table>\n",
       "</div>"
      ],
      "text/plain": [
       "  customer_id            datetime\n",
       "0      MT_023 2014-12-31 01:00:00\n",
       "1      MT_023 2014-12-31 02:00:00\n",
       "2      MT_023 2014-12-31 03:00:00\n",
       "3      MT_023 2014-12-31 04:00:00\n",
       "4      MT_023 2014-12-31 05:00:00"
      ]
     },
     "execution_count": 58,
     "metadata": {},
     "output_type": "execute_result"
    }
   ],
   "source": [
    "inference_dataset.take(5).to_pandas_dataframe()"
   ]
  },
  {
   "cell_type": "markdown",
   "metadata": {},
   "source": [
    "For many models we need to provide the ManyModelsInferenceParameters object."
   ]
  },
  {
   "cell_type": "code",
   "execution_count": 59,
   "metadata": {},
   "outputs": [
    {
     "name": "stderr",
     "output_type": "stream",
     "text": [
      "WARNING:azureml._base_sdk_common._docstring_wrapper:Class LinkTabularOutputDatasetConfig: This is an experimental class, and may change at any time. Please see https://aka.ms/azuremlexperimental for more information.\n"
     ]
    },
    {
     "name": "stdout",
     "output_type": "stream",
     "text": [
      "A partitioned tabular dataset will be created with the name inference after many_models_inference_data_partitioned_1682639985. You may use it for future inference.\n"
     ]
    }
   ],
   "source": [
    "from azureml.contrib.automl.pipeline.steps import AutoMLPipelineBuilder\n",
    "from azureml.train.automl.runtime._many_models.many_models_parameters import (\n",
    "    ManyModelsInferenceParameters,\n",
    ")\n",
    "\n",
    "output_file_name = \"parallel_run_step.csv\"\n",
    "inference_ds_small = inference_dataset\n",
    "\n",
    "mm_parameters = ManyModelsInferenceParameters(\n",
    "    partition_column_names=time_series_id_column_names,\n",
    "    time_column_name=time_column_name\n",
    ")\n",
    "\n",
    "inference_steps = AutoMLPipelineBuilder.get_many_models_batch_inference_steps(\n",
    "    experiment=experiment,\n",
    "    inference_data=inference_ds_small,\n",
    "    node_count=2,\n",
    "    process_count_per_node=8,\n",
    "    compute_target=compute_target,\n",
    "    run_invocation_timeout=300,\n",
    "    output_datastore=output_inference_data_ds,\n",
    "    train_run_id=training_run.id,\n",
    "    train_experiment_name=training_run.experiment.name,\n",
    "    inference_pipeline_parameters=mm_parameters,\n",
    "    append_row_file_name=output_file_name,\n",
    ")"
   ]
  },
  {
   "cell_type": "code",
   "execution_count": 60,
   "metadata": {
    "tags": []
   },
   "outputs": [
    {
     "name": "stdout",
     "output_type": "stream",
     "text": [
      "Created step mm-data-partition [b3e525b9][29869846-d7aa-4bf0-85c6-f1fac4610bed], (This step will run and generate new outputs)\n",
      "Created step many-models-inference [829ff61e][b1a13271-8730-49e2-a7fc-33d3e8e9647f], (This step will run and generate new outputs)\n",
      "Submitted PipelineRun fa5a448c-6318-49e8-bb2f-d5a9af85ce69\n",
      "Link to Azure Machine Learning Portal: https://ml.azure.com/runs/fa5a448c-6318-49e8-bb2f-d5a9af85ce69?wsid=/subscriptions/381b38e9-9840-4719-a5a0-61d9585e1e91/resourcegroups/vlbejan_eastus2_rg/workspaces/vlbejan_eastus2_new_ws&tid=72f988bf-86f1-41af-91ab-2d7cd011db47\n",
      "PipelineRunId: fa5a448c-6318-49e8-bb2f-d5a9af85ce69\n",
      "Link to Azure Machine Learning Portal: https://ml.azure.com/runs/fa5a448c-6318-49e8-bb2f-d5a9af85ce69?wsid=/subscriptions/381b38e9-9840-4719-a5a0-61d9585e1e91/resourcegroups/vlbejan_eastus2_rg/workspaces/vlbejan_eastus2_new_ws&tid=72f988bf-86f1-41af-91ab-2d7cd011db47\n"
     ]
    },
    {
     "data": {
      "text/plain": [
       "'Finished'"
      ]
     },
     "execution_count": 60,
     "metadata": {},
     "output_type": "execute_result"
    }
   ],
   "source": [
    "from azureml.pipeline.core import Pipeline\n",
    "\n",
    "inference_pipeline = Pipeline(ws, steps=inference_steps)\n",
    "inference_run = experiment.submit(inference_pipeline)\n",
    "inference_run.wait_for_completion(show_output=False)"
   ]
  },
  {
   "cell_type": "code",
   "execution_count": null,
   "metadata": {},
   "outputs": [],
   "source": [
    "# from azureml.pipeline.core import Pipeline\n",
    "# inference_pipeline = Pipeline(ws, [inference_step])\n",
    "# inference_run = experiment.submit(inference_pipeline)\n",
    "# inference_run.wait_for_completion(show_output=True)"
   ]
  },
  {
   "cell_type": "markdown",
   "metadata": {},
   "source": [
    "### 8.2 Get the predicted data"
   ]
  },
  {
   "cell_type": "code",
   "execution_count": 61,
   "metadata": {},
   "outputs": [
    {
     "name": "stdout",
     "output_type": "stream",
     "text": [
      "Prediction has  240  rows. Here the first 5 rows are being displayed.\n"
     ]
    },
    {
     "data": {
      "text/html": [
       "<div>\n",
       "<style scoped>\n",
       "    .dataframe tbody tr th:only-of-type {\n",
       "        vertical-align: middle;\n",
       "    }\n",
       "\n",
       "    .dataframe tbody tr th {\n",
       "        vertical-align: top;\n",
       "    }\n",
       "\n",
       "    .dataframe thead th {\n",
       "        text-align: right;\n",
       "    }\n",
       "</style>\n",
       "<table border=\"1\" class=\"dataframe\">\n",
       "  <thead>\n",
       "    <tr style=\"text-align: right;\">\n",
       "      <th></th>\n",
       "      <th>datetime</th>\n",
       "      <th>customer_id</th>\n",
       "      <th>Predictions</th>\n",
       "    </tr>\n",
       "  </thead>\n",
       "  <tbody>\n",
       "    <tr>\n",
       "      <th>0</th>\n",
       "      <td>2014-12-31 01:00:00</td>\n",
       "      <td>MT_345</td>\n",
       "      <td>1067.31</td>\n",
       "    </tr>\n",
       "    <tr>\n",
       "      <th>1</th>\n",
       "      <td>2014-12-31 02:00:00</td>\n",
       "      <td>MT_345</td>\n",
       "      <td>1034.59</td>\n",
       "    </tr>\n",
       "    <tr>\n",
       "      <th>2</th>\n",
       "      <td>2014-12-31 03:00:00</td>\n",
       "      <td>MT_345</td>\n",
       "      <td>898.11</td>\n",
       "    </tr>\n",
       "    <tr>\n",
       "      <th>3</th>\n",
       "      <td>2014-12-31 04:00:00</td>\n",
       "      <td>MT_345</td>\n",
       "      <td>836.74</td>\n",
       "    </tr>\n",
       "    <tr>\n",
       "      <th>4</th>\n",
       "      <td>2014-12-31 05:00:00</td>\n",
       "      <td>MT_345</td>\n",
       "      <td>829.55</td>\n",
       "    </tr>\n",
       "  </tbody>\n",
       "</table>\n",
       "</div>"
      ],
      "text/plain": [
       "              datetime customer_id  Predictions\n",
       "0  2014-12-31 01:00:00      MT_345      1067.31\n",
       "1  2014-12-31 02:00:00      MT_345      1034.59\n",
       "2  2014-12-31 03:00:00      MT_345       898.11\n",
       "3  2014-12-31 04:00:00      MT_345       836.74\n",
       "4  2014-12-31 05:00:00      MT_345       829.55"
      ]
     },
     "execution_count": 61,
     "metadata": {},
     "output_type": "execute_result"
    }
   ],
   "source": [
    "from azureml.contrib.automl.pipeline.steps.utilities import get_output_from_mm_pipeline\n",
    "\n",
    "forecasting_results_name = \"forecasting_results\"\n",
    "forecasting_output_name = \"many_models_inference_output\"\n",
    "forecast_file = get_output_from_mm_pipeline(\n",
    "    inference_run, forecasting_results_name, forecasting_output_name, output_file_name\n",
    ")\n",
    "inference_df = pd.read_csv(forecast_file)\n",
    "print(\n",
    "    \"Prediction has \", inference_df.shape[0], \" rows. Here the first 5 rows are being displayed.\"\n",
    ")\n",
    "inference_df.head(5)"
   ]
  },
  {
   "cell_type": "code",
   "execution_count": 62,
   "metadata": {},
   "outputs": [
    {
     "data": {
      "text/html": [
       "<div>\n",
       "<style scoped>\n",
       "    .dataframe tbody tr th:only-of-type {\n",
       "        vertical-align: middle;\n",
       "    }\n",
       "\n",
       "    .dataframe tbody tr th {\n",
       "        vertical-align: top;\n",
       "    }\n",
       "\n",
       "    .dataframe thead th {\n",
       "        text-align: right;\n",
       "    }\n",
       "</style>\n",
       "<table border=\"1\" class=\"dataframe\">\n",
       "  <thead>\n",
       "    <tr style=\"text-align: right;\">\n",
       "      <th></th>\n",
       "      <th>datetime</th>\n",
       "      <th>customer_id</th>\n",
       "      <th>predicted</th>\n",
       "    </tr>\n",
       "  </thead>\n",
       "  <tbody>\n",
       "    <tr>\n",
       "      <th>0</th>\n",
       "      <td>2014-12-31 01:00:00</td>\n",
       "      <td>MT_345</td>\n",
       "      <td>1067.31</td>\n",
       "    </tr>\n",
       "    <tr>\n",
       "      <th>1</th>\n",
       "      <td>2014-12-31 02:00:00</td>\n",
       "      <td>MT_345</td>\n",
       "      <td>1034.59</td>\n",
       "    </tr>\n",
       "    <tr>\n",
       "      <th>2</th>\n",
       "      <td>2014-12-31 03:00:00</td>\n",
       "      <td>MT_345</td>\n",
       "      <td>898.11</td>\n",
       "    </tr>\n",
       "    <tr>\n",
       "      <th>3</th>\n",
       "      <td>2014-12-31 04:00:00</td>\n",
       "      <td>MT_345</td>\n",
       "      <td>836.74</td>\n",
       "    </tr>\n",
       "    <tr>\n",
       "      <th>4</th>\n",
       "      <td>2014-12-31 05:00:00</td>\n",
       "      <td>MT_345</td>\n",
       "      <td>829.55</td>\n",
       "    </tr>\n",
       "  </tbody>\n",
       "</table>\n",
       "</div>"
      ],
      "text/plain": [
       "              datetime customer_id  predicted\n",
       "0  2014-12-31 01:00:00      MT_345    1067.31\n",
       "1  2014-12-31 02:00:00      MT_345    1034.59\n",
       "2  2014-12-31 03:00:00      MT_345     898.11\n",
       "3  2014-12-31 04:00:00      MT_345     836.74\n",
       "4  2014-12-31 05:00:00      MT_345     829.55"
      ]
     },
     "execution_count": 62,
     "metadata": {},
     "output_type": "execute_result"
    }
   ],
   "source": [
    "inference_df.rename(columns={\"Predictions\": \"predicted\"}, inplace=True)\n",
    "inference_df.to_csv(os.path.join(OUTPUT_DIR, \"inference-set-predictions-many-models.csv\"), index=False)\n",
    "inference_df.head(5)"
   ]
  },
  {
   "cell_type": "markdown",
   "metadata": {},
   "source": [
    "## 9. Schedule Pipeline"
   ]
  },
  {
   "cell_type": "markdown",
   "metadata": {},
   "source": [
    "This section is about how to schedule a pipeline for periodically predictions. For more info about pipeline schedule and pipeline endpoint, please follow this [notebook](https://github.com/Azure/MachineLearningNotebooks/blob/master/how-to-use-azureml/machine-learning-pipelines/intro-to-pipelines/aml-pipelines-setup-schedule-for-a-published-pipeline.ipynb)."
   ]
  },
  {
   "cell_type": "code",
   "execution_count": 63,
   "metadata": {},
   "outputs": [
    {
     "name": "stdout",
     "output_type": "stream",
     "text": [
      "Newly published pipeline id: 538d6975-3488-49cb-bbd5-0afd58d62ac8\n"
     ]
    }
   ],
   "source": [
    "inference_published_pipeline = inference_pipeline.publish(name = 'automl_forecast_many_models',\n",
    "                                                          description = 'forecast many models',\n",
    "                                                          version = '1',\n",
    "                                                          continue_on_step_failure = False)\n",
    "print(\"Newly published pipeline id: {}\".format(inference_published_pipeline.id))"
   ]
  },
  {
   "cell_type": "markdown",
   "metadata": {},
   "source": [
    "If `inference_dataset` is going to refresh every 24 hours and we want to predict every 24 hours (forecast_horizon), we can schedule our pipeline to run every day at 11 pm to get daily inference results. You can refresh your test dataset (a newer version will be created) periodically when new data is available (i.e. target column in test dataset would have values in the beginning as context data, and followed by NaNs to be predicted). The inference pipeline will pick up context to further improve the forecast accuracy. See the <u><i>Forecasting away from training data</i></u> in this [notebook](https://github.com/Azure/MachineLearningNotebooks/blob/master/how-to-use-azureml/automated-machine-learning/forecasting-forecast-function/auto-ml-forecasting-function.ipynb)."
   ]
  },
  {
   "cell_type": "markdown",
   "metadata": {},
   "source": [
    "If `test_dataset` is going to refresh every 4 weeks before Friday 16:00 and we want to predict every 4 weeks (forecast_horizon), we can schedule our pipeline to run every 4 weeks at 16:00 to get daily inference results. You can refresh your test dataset (a newer version will be created) periodically when new data is available (i.e. target column in test dataset would have values in the beginning as context data, and followed by NaNs to be predicted). The inference pipeline will pick up context to further improve the forecast accuracy."
   ]
  },
  {
   "cell_type": "code",
   "execution_count": 64,
   "metadata": {},
   "outputs": [
    {
     "name": "stdout",
     "output_type": "stream",
     "text": [
      "Provisioning status: Completed\n",
      "Created schedule with id: 7163af4a-f7dd-4075-8d88-22dfbff3e873\n",
      "---\n"
     ]
    }
   ],
   "source": [
    "from azureml.pipeline.core.schedule import ScheduleRecurrence, Schedule\n",
    "\n",
    "recurrence = ScheduleRecurrence(\n",
    "    frequency=\"Day\", interval=1, hours=[23], minutes=[00]  # Runs every day at 11:00 pm\n",
    ")\n",
    "\n",
    "schedule = Schedule.create(\n",
    "    workspace=ws,\n",
    "    name=\"tcn_inference_schedule\",\n",
    "    pipeline_id=inference_published_pipeline.id,\n",
    "    experiment_name=\"schedule-run-tcn-uci-electro\",\n",
    "    recurrence=recurrence,\n",
    "    wait_for_provisioning=True,\n",
    "    description=\"Schedule Run\",\n",
    ")\n",
    "\n",
    "# You may want to make sure that the schedule is provisioned properly\n",
    "# before making any further changes to the schedule\n",
    "\n",
    "print(\"Created schedule with id: {}\\n---\".format(schedule.id))"
   ]
  },
  {
   "cell_type": "markdown",
   "metadata": {},
   "source": [
    "### 9.1 [Optional] Disable schedule"
   ]
  },
  {
   "cell_type": "code",
   "execution_count": 65,
   "metadata": {},
   "outputs": [],
   "source": [
    "schedule.disable()"
   ]
  },
  {
   "cell_type": "code",
   "execution_count": null,
   "metadata": {},
   "outputs": [],
   "source": []
  }
 ],
 "metadata": {
  "authors": [
   {
    "name": "jialiu"
   }
  ],
  "category": "tutorial",
  "celltoolbar": "Raw Cell Format",
  "compute": [
   "Remote"
  ],
  "datasets": [
   "Orange Juice Sales"
  ],
  "deployment": [
   "Azure Container Instance"
  ],
  "exclude_from_index": false,
  "framework": [
   "Azure ML AutoML"
  ],
  "friendly_name": "Forecasting orange juice sales with deployment",
  "index_order": 1,
  "kernelspec": {
   "display_name": "Python 3.8 - AzureML",
   "language": "python",
   "name": "python38-azureml"
  },
  "language_info": {
   "codemirror_mode": {
    "name": "ipython",
    "version": 3
   },
   "file_extension": ".py",
   "mimetype": "text/x-python",
   "name": "python",
   "nbconvert_exporter": "python",
   "pygments_lexer": "ipython3",
   "version": "3.8.10"
  },
  "tags": [
   "None"
  ],
  "task": "Forecasting",
  "vscode": {
   "interpreter": {
    "hash": "6bd77c88278e012ef31757c15997a7bea8c943977c43d6909403c00ae11d43ca"
   }
  }
 },
 "nbformat": 4,
 "nbformat_minor": 4
}
