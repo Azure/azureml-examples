{
 "cells": [
  {
   "cell_type": "markdown",
   "metadata": {
    "application/vnd.databricks.v1+cell": {
     "inputWidgets": {},
     "nuid": "08921861-db40-4ad7-8ecf-40792023a9ee",
     "showTitle": false,
     "title": ""
    }
   },
   "source": [
    "# Training models in Azure Databricks and deploying them on Azure ML\n",
    "\n",
    "This notebook demostrates how to train models in Azure Databricks (or any Databricks implementation) and deploying those models on Azure ML. Two workflows are demostrated here depending on the level of integration you want to keep and how you want to do tracking:\n",
    "\n",
    "1. **Scenario 1: Training on Azure Databricks while tracking experiments and models in Azure ML:** This example shows how to do training of models in Azure Databricks while doing all the tracking of experiments in Azure ML (instead of in the MLflow instance running on Azure Databricks). This will also allow you to seemessly deploy models to Azure ML deployment targets in the easiest way.\n",
    "2. **Scenario 2: Training and tracking experiments in Azure Databricks with Model Registries in Azure ML:** This example shows how to do training and tracking of models in Azure Databricks. Tracking of experiments happens here in the MLflow instance running on Azure Databricks. However, model registries are kept on Azure ML to allow quick model's deployment from a centralized location and registry of models.\n",
    "\n",
    "Read each scenario to know more about advantages and disadvantages of each approach."
   ]
  },
  {
   "cell_type": "markdown",
   "metadata": {
    "application/vnd.databricks.v1+cell": {
     "inputWidgets": {},
     "nuid": "5354b299-1ba4-4d79-8f1a-6bb7e4d30de7",
     "showTitle": false,
     "title": ""
    }
   },
   "source": [
    "## Before starting\n",
    "\n",
    "To run this notebook ensure you have:\n",
    "- A Databricks workspace with a compute with the following libraries:\n",
    "  - xgboost\n",
    "  - scikit-learn==1.1.1\n",
    "  - pandas\n",
    "  - numpy\n",
    "  - mlflow\n",
    "  - azureml-mlflow\n",
    "\n",
    "Also, configure the following variables:"
   ]
  },
  {
   "cell_type": "code",
   "execution_count": null,
   "metadata": {
    "application/vnd.databricks.v1+cell": {
     "inputWidgets": {},
     "nuid": "faa070f5-4945-44b2-898e-85cc5b113d88",
     "showTitle": false,
     "title": ""
    }
   },
   "outputs": [
    {
     "data": {
      "text/html": [
       "<style scoped>\n",
       "  .ansiout {\n",
       "    display: block;\n",
       "    unicode-bidi: embed;\n",
       "    white-space: pre-wrap;\n",
       "    word-wrap: break-word;\n",
       "    word-break: break-all;\n",
       "    font-family: \"Source Code Pro\", \"Menlo\", monospace;;\n",
       "    font-size: 13px;\n",
       "    color: #555;\n",
       "    margin-left: 4px;\n",
       "    line-height: 19px;\n",
       "  }\n",
       "</style>\n",
       "<div class=\"ansiout\"></div>"
      ]
     },
     "metadata": {
      "application/vnd.databricks.v1+output": {
       "addedWidgets": {},
       "arguments": {},
       "data": "<div class=\"ansiout\"></div>",
       "datasetInfos": [],
       "metadata": {},
       "removedWidgets": [],
       "type": "html"
      }
     },
     "output_type": "display_data"
    }
   ],
   "source": [
    "aml_region = \"\"\n",
    "subscription_id = \"\"\n",
    "aml_resource_group = \"\"\n",
    "aml_workspace_name = \"\"\n",
    "adb_user_id = \"\""
   ]
  },
  {
   "cell_type": "code",
   "execution_count": null,
   "metadata": {
    "application/vnd.databricks.v1+cell": {
     "inputWidgets": {},
     "nuid": "95106ecf-909a-4b68-b939-6c1888b8070e",
     "showTitle": false,
     "title": ""
    }
   },
   "outputs": [
    {
     "data": {
      "text/html": [
       "<style scoped>\n",
       "  .ansiout {\n",
       "    display: block;\n",
       "    unicode-bidi: embed;\n",
       "    white-space: pre-wrap;\n",
       "    word-wrap: break-word;\n",
       "    word-break: break-all;\n",
       "    font-family: \"Source Code Pro\", \"Menlo\", monospace;;\n",
       "    font-size: 13px;\n",
       "    color: #555;\n",
       "    margin-left: 4px;\n",
       "    line-height: 19px;\n",
       "  }\n",
       "</style>\n",
       "<div class=\"ansiout\"></div>"
      ]
     },
     "metadata": {
      "application/vnd.databricks.v1+output": {
       "addedWidgets": {},
       "arguments": {},
       "data": "<div class=\"ansiout\"></div>",
       "datasetInfos": [],
       "metadata": {},
       "removedWidgets": [],
       "type": "html"
      }
     },
     "output_type": "display_data"
    }
   ],
   "source": [
    "azureml_mlflow_uri = f\"azureml://{aml_region}.api.azureml.ms/mlflow/v1.0/subscriptions/{subscription_id}/resourceGroups/{aml_resource_group}/providers/Microsoft.MachineLearningServices/workspaces/{aml_workspace_name}\""
   ]
  },
  {
   "cell_type": "code",
   "execution_count": null,
   "metadata": {
    "application/vnd.databricks.v1+cell": {
     "inputWidgets": {},
     "nuid": "0c8d6a62-e36c-4b26-b606-901357283b97",
     "showTitle": false,
     "title": ""
    }
   },
   "outputs": [],
   "source": [
    "import warnings\n",
    "\n",
    "warnings.simplefilter(\"ignore\")"
   ]
  },
  {
   "cell_type": "markdown",
   "metadata": {
    "application/vnd.databricks.v1+cell": {
     "inputWidgets": {},
     "nuid": "6af409d2-1023-435d-861a-b3a0e9cb2c52",
     "showTitle": false,
     "title": ""
    }
   },
   "source": [
    "## Scenario 1: Training on Azure Databricks while tracking experiments and models in Azure ML"
   ]
  },
  {
   "cell_type": "code",
   "execution_count": null,
   "metadata": {
    "application/vnd.databricks.v1+cell": {
     "inputWidgets": {},
     "nuid": "8e35d2bb-8c23-47f3-9782-ef68ba43adfb",
     "showTitle": false,
     "title": ""
    }
   },
   "outputs": [
    {
     "data": {
      "text/html": [
       "<style scoped>\n",
       "  .ansiout {\n",
       "    display: block;\n",
       "    unicode-bidi: embed;\n",
       "    white-space: pre-wrap;\n",
       "    word-wrap: break-word;\n",
       "    word-break: break-all;\n",
       "    font-family: \"Source Code Pro\", \"Menlo\", monospace;;\n",
       "    font-size: 13px;\n",
       "    color: #555;\n",
       "    margin-left: 4px;\n",
       "    line-height: 19px;\n",
       "  }\n",
       "</style>\n",
       "<div class=\"ansiout\"></div>"
      ]
     },
     "metadata": {
      "application/vnd.databricks.v1+output": {
       "addedWidgets": {},
       "arguments": {},
       "data": "<div class=\"ansiout\"></div>",
       "datasetInfos": [],
       "metadata": {},
       "removedWidgets": [],
       "type": "html"
      }
     },
     "output_type": "display_data"
    }
   ],
   "source": [
    "import mlflow\n",
    "\n",
    "mlflow.set_tracking_uri(azureml_mlflow_uri)"
   ]
  },
  {
   "cell_type": "markdown",
   "metadata": {
    "application/vnd.databricks.v1+cell": {
     "inputWidgets": {},
     "nuid": "fa79621d-3b10-478e-80ea-72fdb5cc986b",
     "showTitle": false,
     "title": ""
    }
   },
   "source": [
    "### Training a heart condition classifier"
   ]
  },
  {
   "cell_type": "markdown",
   "metadata": {
    "application/vnd.databricks.v1+cell": {
     "inputWidgets": {},
     "nuid": "e77baa39-de8a-478a-90d0-6fdede1ca0f0",
     "showTitle": false,
     "title": ""
    }
   },
   "source": [
    "#### Configuring the experiment\n",
    "\n",
    "Tracking of experiments will happen in Azure ML and hence we need to use the naming convention we generally use with MLflow. \n",
    "\n",
    ">Note that naming in Azure Databricks is different as you have to use the path to where the experiment will be saved. In Azure ML and in general MLflow this is not the case."
   ]
  },
  {
   "cell_type": "code",
   "execution_count": null,
   "metadata": {
    "application/vnd.databricks.v1+cell": {
     "inputWidgets": {},
     "nuid": "7eeaffc4-44de-4ce6-919a-9463d167d77c",
     "showTitle": false,
     "title": ""
    }
   },
   "outputs": [],
   "source": [
    "mlflow.set_experiment(experiment_name=\"heart-condition-classifier\")"
   ]
  },
  {
   "cell_type": "markdown",
   "metadata": {
    "application/vnd.databricks.v1+cell": {
     "inputWidgets": {},
     "nuid": "e81f7e6b-e573-4a45-875e-e05050aa7185",
     "showTitle": false,
     "title": ""
    }
   },
   "source": [
    "> **About authentication:** Interactive Authentication or Device Authentication will be triggered when you can `set_experiment`. This is used to authenticate against Azure Machine Learning and be able to call the tracking API. If you are executing the code in the context of a job where interactive authentication is not possible, see the example `notebooks/using-mlflow/train-with-mlflow/xgboost_service_principal.ipynb` for an example about how to use a Service Principal to authenticate against Azure Machine Learning and MLflow.\n",
    "\n",
    "Since all the tracking is happening in Azure ML, you can train and register models in the regular way you do with mlflow."
   ]
  },
  {
   "cell_type": "markdown",
   "metadata": {
    "application/vnd.databricks.v1+cell": {
     "inputWidgets": {},
     "nuid": "78130dc3-e9d0-4eb4-9d58-4a2284784e6d",
     "showTitle": false,
     "title": ""
    }
   },
   "source": [
    "#### Exploring the data"
   ]
  },
  {
   "cell_type": "code",
   "execution_count": null,
   "metadata": {
    "application/vnd.databricks.v1+cell": {
     "inputWidgets": {},
     "nuid": "3437300b-3620-4b7e-b694-1f42e80fa325",
     "showTitle": false,
     "title": ""
    }
   },
   "outputs": [],
   "source": [
    "import pandas as pd\n",
    "\n",
    "file_url = \"http://storage.googleapis.com/download.tensorflow.org/data/heart.csv\"\n",
    "df = pd.read_csv(file_url)\n",
    "display(df)"
   ]
  },
  {
   "cell_type": "markdown",
   "metadata": {
    "application/vnd.databricks.v1+cell": {
     "inputWidgets": {},
     "nuid": "84b9c591-a2db-4711-91e6-fa0024c8b88e",
     "showTitle": false,
     "title": ""
    }
   },
   "source": [
    "As we can see, some of the variables are categorical. To make it simpler for our model to handle these values, let's use their encoded values:"
   ]
  },
  {
   "cell_type": "code",
   "execution_count": null,
   "metadata": {
    "application/vnd.databricks.v1+cell": {
     "inputWidgets": {},
     "nuid": "80753b37-b6da-4ca8-931a-b71ac790b21c",
     "showTitle": false,
     "title": ""
    }
   },
   "outputs": [
    {
     "data": {
      "text/html": [
       "<style scoped>\n",
       "  .ansiout {\n",
       "    display: block;\n",
       "    unicode-bidi: embed;\n",
       "    white-space: pre-wrap;\n",
       "    word-wrap: break-word;\n",
       "    word-break: break-all;\n",
       "    font-family: \"Source Code Pro\", \"Menlo\", monospace;;\n",
       "    font-size: 13px;\n",
       "    color: #555;\n",
       "    margin-left: 4px;\n",
       "    line-height: 19px;\n",
       "  }\n",
       "</style>\n",
       "<div class=\"ansiout\"></div>"
      ]
     },
     "metadata": {
      "application/vnd.databricks.v1+output": {
       "addedWidgets": {},
       "arguments": {},
       "data": "<div class=\"ansiout\"></div>",
       "datasetInfos": [],
       "metadata": {},
       "removedWidgets": [],
       "type": "html"
      }
     },
     "output_type": "display_data"
    }
   ],
   "source": [
    "df[\"thal\"] = df[\"thal\"].astype(\"category\").cat.codes"
   ]
  },
  {
   "cell_type": "markdown",
   "metadata": {
    "application/vnd.databricks.v1+cell": {
     "inputWidgets": {},
     "nuid": "eb4ee0a7-d736-4766-a166-c914fc3bed04",
     "showTitle": false,
     "title": ""
    }
   },
   "source": [
    "Let's split our dataset in train and test, so we can assess the performance of the model without overfitting the dataset"
   ]
  },
  {
   "cell_type": "code",
   "execution_count": null,
   "metadata": {
    "application/vnd.databricks.v1+cell": {
     "inputWidgets": {},
     "nuid": "140c57a5-b55d-403f-9780-f6e11f2eba38",
     "showTitle": false,
     "title": ""
    }
   },
   "outputs": [
    {
     "data": {
      "text/html": [
       "<style scoped>\n",
       "  .ansiout {\n",
       "    display: block;\n",
       "    unicode-bidi: embed;\n",
       "    white-space: pre-wrap;\n",
       "    word-wrap: break-word;\n",
       "    word-break: break-all;\n",
       "    font-family: \"Source Code Pro\", \"Menlo\", monospace;;\n",
       "    font-size: 13px;\n",
       "    color: #555;\n",
       "    margin-left: 4px;\n",
       "    line-height: 19px;\n",
       "  }\n",
       "</style>\n",
       "<div class=\"ansiout\"></div>"
      ]
     },
     "metadata": {
      "application/vnd.databricks.v1+output": {
       "addedWidgets": {},
       "arguments": {},
       "data": "<div class=\"ansiout\"></div>",
       "datasetInfos": [],
       "metadata": {},
       "removedWidgets": [],
       "type": "html"
      }
     },
     "output_type": "display_data"
    }
   ],
   "source": [
    "from sklearn.model_selection import train_test_split\n",
    "\n",
    "X_train, X_test, y_train, y_test = train_test_split(\n",
    "    df.drop(\"target\", axis=1), df[\"target\"], test_size=0.3\n",
    ")"
   ]
  },
  {
   "cell_type": "markdown",
   "metadata": {
    "application/vnd.databricks.v1+cell": {
     "inputWidgets": {},
     "nuid": "5bd85ef2-c6c2-40de-ab50-a4cba889505d",
     "showTitle": false,
     "title": ""
    }
   },
   "source": [
    "#### Training a model\n",
    "\n",
    "We are going to use autologging capabilities in MLflow to track parameters and metrics:"
   ]
  },
  {
   "cell_type": "code",
   "execution_count": null,
   "metadata": {
    "application/vnd.databricks.v1+cell": {
     "inputWidgets": {},
     "nuid": "1fec5718-48c0-4386-b225-ff0ea974ebfb",
     "showTitle": false,
     "title": ""
    }
   },
   "outputs": [
    {
     "data": {
      "text/html": [
       "<style scoped>\n",
       "  .ansiout {\n",
       "    display: block;\n",
       "    unicode-bidi: embed;\n",
       "    white-space: pre-wrap;\n",
       "    word-wrap: break-word;\n",
       "    word-break: break-all;\n",
       "    font-family: \"Source Code Pro\", \"Menlo\", monospace;;\n",
       "    font-size: 13px;\n",
       "    color: #555;\n",
       "    margin-left: 4px;\n",
       "    line-height: 19px;\n",
       "  }\n",
       "</style>\n",
       "<div class=\"ansiout\"></div>"
      ]
     },
     "metadata": {
      "application/vnd.databricks.v1+output": {
       "addedWidgets": {},
       "arguments": {},
       "data": "<div class=\"ansiout\"></div>",
       "datasetInfos": [],
       "metadata": {},
       "removedWidgets": [],
       "type": "html"
      }
     },
     "output_type": "display_data"
    }
   ],
   "source": [
    "mlflow.xgboost.autolog()"
   ]
  },
  {
   "cell_type": "markdown",
   "metadata": {
    "application/vnd.databricks.v1+cell": {
     "inputWidgets": {},
     "nuid": "67ced902-bdcf-4848-8ccf-29f55473e27a",
     "showTitle": false,
     "title": ""
    }
   },
   "source": [
    "Let's create a simple classifier and train it:"
   ]
  },
  {
   "cell_type": "code",
   "execution_count": null,
   "metadata": {
    "application/vnd.databricks.v1+cell": {
     "inputWidgets": {},
     "nuid": "7f9c318a-72c6-411b-90c0-df0304a0d989",
     "showTitle": false,
     "title": ""
    }
   },
   "outputs": [
    {
     "data": {
      "text/html": [
       "<style scoped>\n",
       "  .ansiout {\n",
       "    display: block;\n",
       "    unicode-bidi: embed;\n",
       "    white-space: pre-wrap;\n",
       "    word-wrap: break-word;\n",
       "    word-break: break-all;\n",
       "    font-family: \"Source Code Pro\", \"Menlo\", monospace;;\n",
       "    font-size: 13px;\n",
       "    color: #555;\n",
       "    margin-left: 4px;\n",
       "    line-height: 19px;\n",
       "  }\n",
       "</style>\n",
       "<div class=\"ansiout\"></div>"
      ]
     },
     "metadata": {
      "application/vnd.databricks.v1+output": {
       "addedWidgets": {},
       "arguments": {},
       "data": "<div class=\"ansiout\"></div>",
       "datasetInfos": [],
       "metadata": {},
       "removedWidgets": [],
       "type": "html"
      }
     },
     "output_type": "display_data"
    }
   ],
   "source": [
    "from xgboost import XGBClassifier\n",
    "from sklearn.metrics import accuracy_score, recall_score\n",
    "\n",
    "model = XGBClassifier(use_label_encoder=False, eval_metric=\"logloss\")"
   ]
  },
  {
   "cell_type": "code",
   "execution_count": null,
   "metadata": {
    "application/vnd.databricks.v1+cell": {
     "inputWidgets": {},
     "nuid": "f986077b-3112-4df9-9027-d58011992277",
     "showTitle": false,
     "title": ""
    }
   },
   "outputs": [
    {
     "data": {
      "text/html": [
       "<style scoped>\n",
       "  .ansiout {\n",
       "    display: block;\n",
       "    unicode-bidi: embed;\n",
       "    white-space: pre-wrap;\n",
       "    word-wrap: break-word;\n",
       "    word-break: break-all;\n",
       "    font-family: \"Source Code Pro\", \"Menlo\", monospace;;\n",
       "    font-size: 13px;\n",
       "    color: #555;\n",
       "    margin-left: 4px;\n",
       "    line-height: 19px;\n",
       "  }\n",
       "</style>\n",
       "<div class=\"ansiout\"></div>"
      ]
     },
     "metadata": {
      "application/vnd.databricks.v1+output": {
       "addedWidgets": {},
       "arguments": {},
       "data": "<div class=\"ansiout\"></div>",
       "datasetInfos": [],
       "metadata": {},
       "removedWidgets": [],
       "type": "html"
      }
     },
     "output_type": "display_data"
    }
   ],
   "source": [
    "with mlflow.start_run() as run:\n",
    "    model.fit(X_train, y_train, eval_set=[(X_test, y_test)], verbose=False)\n",
    "\n",
    "    y_pred = model.predict(X_test)\n",
    "\n",
    "    accuracy = accuracy_score(y_test, y_pred)\n",
    "    recall = recall_score(y_test, y_pred)\n",
    "\n",
    "    print(\"Accuracy: %.2f%%\" % (accuracy * 100.0))\n",
    "    print(\"Recall: %.2f%%\" % (recall * 100.0))"
   ]
  },
  {
   "cell_type": "markdown",
   "metadata": {
    "application/vnd.databricks.v1+cell": {
     "inputWidgets": {},
     "nuid": "1a8973a7-7bf7-4c43-9610-b0b229387c2b",
     "showTitle": false,
     "title": ""
    }
   },
   "source": [
    "### Registering the model in Azure ML\n",
    "\n",
    "Since our experiments are being tracked in Azure ML, we can simply register models in the registry like this:"
   ]
  },
  {
   "cell_type": "code",
   "execution_count": null,
   "metadata": {
    "application/vnd.databricks.v1+cell": {
     "inputWidgets": {},
     "nuid": "c5ebdf1d-fe07-46e3-b7c6-841f1b1e31ee",
     "showTitle": false,
     "title": ""
    }
   },
   "outputs": [],
   "source": [
    "mlflow.register_model(\n",
    "    model_uri=f\"runs:/{run.info.run_id}/model\", name=\"databricks-heart-classifier\"\n",
    ")"
   ]
  },
  {
   "cell_type": "markdown",
   "metadata": {
    "application/vnd.databricks.v1+cell": {
     "inputWidgets": {},
     "nuid": "0fb3fea1-58fc-4e09-8383-38b19720702a",
     "showTitle": false,
     "title": ""
    }
   },
   "source": [
    "## Scenario 2: Training and tracking experiments in Azure Databricks with Model Registries in Azure ML\n",
    "\n",
    "In some cases you may want to keep doing tracking of experiments in the MLflow instance that comes with Azure Databricks. This is the case for instance of customers that were already using MLflow in Azure Databricks so they want to keep they existing experiments there. However, they may want to take adavantage of the deployment capabilities of Azure ML including managed inference solutions, no-code deployments, etc.\n",
    "\n",
    "In this cases, it is possible to keep tracking of experiments on Azure Databricks while keeping you model's registered and deployed in Azure ML. This example shows you how to achieve this configuration:"
   ]
  },
  {
   "cell_type": "markdown",
   "metadata": {
    "application/vnd.databricks.v1+cell": {
     "inputWidgets": {},
     "nuid": "4307ecd8-4813-4b74-b64b-56bf11371bdf",
     "showTitle": false,
     "title": ""
    }
   },
   "source": [
    "### Configuring models' registry\n",
    "\n",
    "MLflow allows you to segregate the instance where experiments are being tracked from the instance where models' are being tracked (or registered). The first one is referred to **Tracking URI** while the second one is referred as **Registry URI**. By default, both of them are set to the same value, and in Azure Databricks, both of them are set to \"databricks\" meaning that tracking and model registries will happen inside of the MLflow instance that Databricks runs for you.\n",
    "\n",
    "We are going to track the experiments in Azure Databricks, but model registries will be held in Azure ML. This will allow us to manage the model's lifecycle - including deployments - in Azure ML."
   ]
  },
  {
   "cell_type": "code",
   "execution_count": null,
   "metadata": {
    "application/vnd.databricks.v1+cell": {
     "inputWidgets": {},
     "nuid": "e8214ec7-c127-4291-96ce-26810cefadcc",
     "showTitle": false,
     "title": ""
    }
   },
   "outputs": [
    {
     "data": {
      "text/html": [
       "<style scoped>\n",
       "  .ansiout {\n",
       "    display: block;\n",
       "    unicode-bidi: embed;\n",
       "    white-space: pre-wrap;\n",
       "    word-wrap: break-word;\n",
       "    word-break: break-all;\n",
       "    font-family: \"Source Code Pro\", \"Menlo\", monospace;;\n",
       "    font-size: 13px;\n",
       "    color: #555;\n",
       "    margin-left: 4px;\n",
       "    line-height: 19px;\n",
       "  }\n",
       "</style>\n",
       "<div class=\"ansiout\"></div>"
      ]
     },
     "metadata": {
      "application/vnd.databricks.v1+output": {
       "addedWidgets": {},
       "arguments": {},
       "data": "<div class=\"ansiout\"></div>",
       "datasetInfos": [],
       "metadata": {},
       "removedWidgets": [],
       "type": "html"
      }
     },
     "output_type": "display_data"
    }
   ],
   "source": [
    "import mlflow\n",
    "\n",
    "mlflow.set_registry_uri(azureml_mlflow_uri)"
   ]
  },
  {
   "cell_type": "markdown",
   "metadata": {
    "application/vnd.databricks.v1+cell": {
     "inputWidgets": {},
     "nuid": "56e04276-eab2-406a-a0a1-d5712a0318f0",
     "showTitle": false,
     "title": ""
    }
   },
   "source": [
    "#### Configuring the experiment\n",
    "\n",
    "Tracking of experiments will happen in Azure Datbricks and hence we need to use the naming we use here.  \n",
    "\n",
    ">Note that naming in Azure Databricks is different as you have to use the path to where the experiment will be saved."
   ]
  },
  {
   "cell_type": "code",
   "execution_count": null,
   "metadata": {
    "application/vnd.databricks.v1+cell": {
     "inputWidgets": {},
     "nuid": "e898c1d0-71c8-47da-8e5e-32bb1775a946",
     "showTitle": false,
     "title": ""
    }
   },
   "outputs": [
    {
     "data": {
      "text/html": [
       "<style scoped>\n",
       "  .ansiout {\n",
       "    display: block;\n",
       "    unicode-bidi: embed;\n",
       "    white-space: pre-wrap;\n",
       "    word-wrap: break-word;\n",
       "    word-break: break-all;\n",
       "    font-family: \"Source Code Pro\", \"Menlo\", monospace;;\n",
       "    font-size: 13px;\n",
       "    color: #555;\n",
       "    margin-left: 4px;\n",
       "    line-height: 19px;\n",
       "  }\n",
       "</style>\n",
       "<div class=\"ansiout\">Out[43]: &lt;Experiment: artifact_location=&#39;&#39;, experiment_id=&#39;368f3886-e4e3-449a-bd1e-593c5b0e01ff&#39;, lifecycle_stage=&#39;active&#39;, name=&#39;heart-condition-classifier&#39;, tags={}&gt;</div>"
      ]
     },
     "metadata": {
      "application/vnd.databricks.v1+output": {
       "addedWidgets": {},
       "arguments": {},
       "data": "<div class=\"ansiout\">Out[43]: &lt;Experiment: artifact_location=&#39;&#39;, experiment_id=&#39;368f3886-e4e3-449a-bd1e-593c5b0e01ff&#39;, lifecycle_stage=&#39;active&#39;, name=&#39;heart-condition-classifier&#39;, tags={}&gt;</div>",
       "datasetInfos": [],
       "metadata": {},
       "removedWidgets": [],
       "type": "html"
      }
     },
     "output_type": "display_data"
    }
   ],
   "source": [
    "mlflow.set_experiment(\n",
    "    experiment_name=f\"/Users/{adb_user_id}/heart-condition-classifier\"\n",
    ")"
   ]
  },
  {
   "cell_type": "markdown",
   "metadata": {
    "application/vnd.databricks.v1+cell": {
     "inputWidgets": {},
     "nuid": "c081edac-92b9-4e5b-ba05-094778436ea1",
     "showTitle": false,
     "title": ""
    }
   },
   "source": [
    "#### Exploring the data"
   ]
  },
  {
   "cell_type": "code",
   "execution_count": null,
   "metadata": {
    "application/vnd.databricks.v1+cell": {
     "inputWidgets": {},
     "nuid": "61ab7440-df19-4291-8cce-8287a88d7d59",
     "showTitle": false,
     "title": ""
    }
   },
   "outputs": [
    {
     "data": {
      "text/html": [
       "<style scoped>\n",
       "  .table-result-container {\n",
       "    max-height: 300px;\n",
       "    overflow: auto;\n",
       "  }\n",
       "  table, th, td {\n",
       "    border: 1px solid black;\n",
       "    border-collapse: collapse;\n",
       "  }\n",
       "  th, td {\n",
       "    padding: 5px;\n",
       "  }\n",
       "  th {\n",
       "    text-align: left;\n",
       "  }\n",
       "</style><div class='table-result-container'><table class='table-result'><thead style='background-color: white'><tr><th>age</th><th>sex</th><th>cp</th><th>trestbps</th><th>chol</th><th>fbs</th><th>restecg</th><th>thalach</th><th>exang</th><th>oldpeak</th><th>slope</th><th>ca</th><th>thal</th><th>target</th></tr></thead><tbody><tr><td>63</td><td>1</td><td>1</td><td>145</td><td>233</td><td>1</td><td>2</td><td>150</td><td>0</td><td>2.3</td><td>3</td><td>0</td><td>fixed</td><td>0</td></tr><tr><td>67</td><td>1</td><td>4</td><td>160</td><td>286</td><td>0</td><td>2</td><td>108</td><td>1</td><td>1.5</td><td>2</td><td>3</td><td>normal</td><td>1</td></tr><tr><td>67</td><td>1</td><td>4</td><td>120</td><td>229</td><td>0</td><td>2</td><td>129</td><td>1</td><td>2.6</td><td>2</td><td>2</td><td>reversible</td><td>0</td></tr><tr><td>37</td><td>1</td><td>3</td><td>130</td><td>250</td><td>0</td><td>0</td><td>187</td><td>0</td><td>3.5</td><td>3</td><td>0</td><td>normal</td><td>0</td></tr><tr><td>41</td><td>0</td><td>2</td><td>130</td><td>204</td><td>0</td><td>2</td><td>172</td><td>0</td><td>1.4</td><td>1</td><td>0</td><td>normal</td><td>0</td></tr><tr><td>56</td><td>1</td><td>2</td><td>120</td><td>236</td><td>0</td><td>0</td><td>178</td><td>0</td><td>0.8</td><td>1</td><td>0</td><td>normal</td><td>0</td></tr><tr><td>62</td><td>0</td><td>4</td><td>140</td><td>268</td><td>0</td><td>2</td><td>160</td><td>0</td><td>3.6</td><td>3</td><td>2</td><td>normal</td><td>1</td></tr><tr><td>57</td><td>0</td><td>4</td><td>120</td><td>354</td><td>0</td><td>0</td><td>163</td><td>1</td><td>0.6</td><td>1</td><td>0</td><td>normal</td><td>0</td></tr><tr><td>63</td><td>1</td><td>4</td><td>130</td><td>254</td><td>0</td><td>2</td><td>147</td><td>0</td><td>1.4</td><td>2</td><td>1</td><td>reversible</td><td>1</td></tr><tr><td>53</td><td>1</td><td>4</td><td>140</td><td>203</td><td>1</td><td>2</td><td>155</td><td>1</td><td>3.1</td><td>3</td><td>0</td><td>reversible</td><td>0</td></tr><tr><td>57</td><td>1</td><td>4</td><td>140</td><td>192</td><td>0</td><td>0</td><td>148</td><td>0</td><td>0.4</td><td>2</td><td>0</td><td>fixed</td><td>0</td></tr><tr><td>56</td><td>0</td><td>2</td><td>140</td><td>294</td><td>0</td><td>2</td><td>153</td><td>0</td><td>1.3</td><td>2</td><td>0</td><td>normal</td><td>0</td></tr><tr><td>56</td><td>1</td><td>3</td><td>130</td><td>256</td><td>1</td><td>2</td><td>142</td><td>1</td><td>0.6</td><td>2</td><td>1</td><td>fixed</td><td>1</td></tr><tr><td>44</td><td>1</td><td>2</td><td>120</td><td>263</td><td>0</td><td>0</td><td>173</td><td>0</td><td>0.0</td><td>1</td><td>0</td><td>reversible</td><td>0</td></tr><tr><td>52</td><td>1</td><td>3</td><td>172</td><td>199</td><td>1</td><td>0</td><td>162</td><td>0</td><td>0.5</td><td>1</td><td>0</td><td>reversible</td><td>0</td></tr><tr><td>57</td><td>1</td><td>3</td><td>150</td><td>168</td><td>0</td><td>0</td><td>174</td><td>0</td><td>1.6</td><td>1</td><td>0</td><td>normal</td><td>0</td></tr><tr><td>48</td><td>1</td><td>2</td><td>110</td><td>229</td><td>0</td><td>0</td><td>168</td><td>0</td><td>1.0</td><td>3</td><td>0</td><td>reversible</td><td>0</td></tr><tr><td>54</td><td>1</td><td>4</td><td>140</td><td>239</td><td>0</td><td>0</td><td>160</td><td>0</td><td>1.2</td><td>1</td><td>0</td><td>normal</td><td>0</td></tr><tr><td>48</td><td>0</td><td>3</td><td>130</td><td>275</td><td>0</td><td>0</td><td>139</td><td>0</td><td>0.2</td><td>1</td><td>0</td><td>normal</td><td>0</td></tr><tr><td>49</td><td>1</td><td>2</td><td>130</td><td>266</td><td>0</td><td>0</td><td>171</td><td>0</td><td>0.6</td><td>1</td><td>0</td><td>normal</td><td>0</td></tr><tr><td>64</td><td>1</td><td>1</td><td>110</td><td>211</td><td>0</td><td>2</td><td>144</td><td>1</td><td>1.8</td><td>2</td><td>0</td><td>normal</td><td>0</td></tr><tr><td>58</td><td>0</td><td>1</td><td>150</td><td>283</td><td>1</td><td>2</td><td>162</td><td>0</td><td>1.0</td><td>1</td><td>0</td><td>normal</td><td>0</td></tr><tr><td>58</td><td>1</td><td>2</td><td>120</td><td>284</td><td>0</td><td>2</td><td>160</td><td>0</td><td>1.8</td><td>2</td><td>0</td><td>normal</td><td>0</td></tr><tr><td>58</td><td>1</td><td>3</td><td>132</td><td>224</td><td>0</td><td>2</td><td>173</td><td>0</td><td>3.2</td><td>1</td><td>2</td><td>reversible</td><td>1</td></tr><tr><td>60</td><td>1</td><td>4</td><td>130</td><td>206</td><td>0</td><td>2</td><td>132</td><td>1</td><td>2.4</td><td>2</td><td>2</td><td>reversible</td><td>1</td></tr><tr><td>50</td><td>0</td><td>3</td><td>120</td><td>219</td><td>0</td><td>0</td><td>158</td><td>0</td><td>1.6</td><td>2</td><td>0</td><td>normal</td><td>0</td></tr><tr><td>58</td><td>0</td><td>3</td><td>120</td><td>340</td><td>0</td><td>0</td><td>172</td><td>0</td><td>0.0</td><td>1</td><td>0</td><td>normal</td><td>0</td></tr><tr><td>66</td><td>0</td><td>1</td><td>150</td><td>226</td><td>0</td><td>0</td><td>114</td><td>0</td><td>2.6</td><td>3</td><td>0</td><td>normal</td><td>0</td></tr><tr><td>43</td><td>1</td><td>4</td><td>150</td><td>247</td><td>0</td><td>0</td><td>171</td><td>0</td><td>1.5</td><td>1</td><td>0</td><td>normal</td><td>0</td></tr><tr><td>40</td><td>1</td><td>4</td><td>110</td><td>167</td><td>0</td><td>2</td><td>114</td><td>1</td><td>2.0</td><td>2</td><td>0</td><td>reversible</td><td>1</td></tr><tr><td>69</td><td>0</td><td>1</td><td>140</td><td>239</td><td>0</td><td>0</td><td>151</td><td>0</td><td>1.8</td><td>1</td><td>2</td><td>normal</td><td>0</td></tr><tr><td>60</td><td>1</td><td>4</td><td>117</td><td>230</td><td>1</td><td>0</td><td>160</td><td>1</td><td>1.4</td><td>1</td><td>2</td><td>reversible</td><td>1</td></tr><tr><td>64</td><td>1</td><td>3</td><td>140</td><td>335</td><td>0</td><td>0</td><td>158</td><td>0</td><td>0.0</td><td>1</td><td>0</td><td>normal</td><td>0</td></tr><tr><td>59</td><td>1</td><td>4</td><td>135</td><td>234</td><td>0</td><td>0</td><td>161</td><td>0</td><td>0.5</td><td>2</td><td>0</td><td>reversible</td><td>0</td></tr><tr><td>44</td><td>1</td><td>3</td><td>130</td><td>233</td><td>0</td><td>0</td><td>179</td><td>1</td><td>0.4</td><td>1</td><td>0</td><td>normal</td><td>0</td></tr><tr><td>42</td><td>1</td><td>4</td><td>140</td><td>226</td><td>0</td><td>0</td><td>178</td><td>0</td><td>0.0</td><td>1</td><td>0</td><td>normal</td><td>0</td></tr><tr><td>43</td><td>1</td><td>4</td><td>120</td><td>177</td><td>0</td><td>2</td><td>120</td><td>1</td><td>2.5</td><td>2</td><td>0</td><td>reversible</td><td>1</td></tr><tr><td>57</td><td>1</td><td>4</td><td>150</td><td>276</td><td>0</td><td>2</td><td>112</td><td>1</td><td>0.6</td><td>2</td><td>1</td><td>fixed</td><td>0</td></tr><tr><td>55</td><td>1</td><td>4</td><td>132</td><td>353</td><td>0</td><td>0</td><td>132</td><td>1</td><td>1.2</td><td>2</td><td>1</td><td>reversible</td><td>1</td></tr><tr><td>61</td><td>1</td><td>3</td><td>150</td><td>243</td><td>1</td><td>0</td><td>137</td><td>1</td><td>1.0</td><td>2</td><td>0</td><td>normal</td><td>0</td></tr><tr><td>65</td><td>0</td><td>4</td><td>150</td><td>225</td><td>0</td><td>2</td><td>114</td><td>0</td><td>1.0</td><td>2</td><td>3</td><td>reversible</td><td>1</td></tr><tr><td>65</td><td>0</td><td>3</td><td>155</td><td>269</td><td>0</td><td>0</td><td>148</td><td>0</td><td>0.8</td><td>1</td><td>0</td><td>normal</td><td>0</td></tr><tr><td>67</td><td>1</td><td>4</td><td>125</td><td>254</td><td>1</td><td>0</td><td>163</td><td>0</td><td>0.2</td><td>2</td><td>2</td><td>reversible</td><td>1</td></tr><tr><td>62</td><td>1</td><td>4</td><td>120</td><td>267</td><td>0</td><td>0</td><td>99</td><td>1</td><td>1.8</td><td>2</td><td>2</td><td>reversible</td><td>0</td></tr><tr><td>65</td><td>1</td><td>4</td><td>110</td><td>248</td><td>0</td><td>2</td><td>158</td><td>0</td><td>0.6</td><td>1</td><td>2</td><td>fixed</td><td>0</td></tr><tr><td>44</td><td>1</td><td>4</td><td>110</td><td>197</td><td>0</td><td>2</td><td>177</td><td>0</td><td>0.0</td><td>1</td><td>1</td><td>normal</td><td>0</td></tr><tr><td>65</td><td>0</td><td>3</td><td>160</td><td>360</td><td>0</td><td>2</td><td>151</td><td>0</td><td>0.8</td><td>1</td><td>0</td><td>normal</td><td>0</td></tr><tr><td>60</td><td>1</td><td>4</td><td>125</td><td>258</td><td>0</td><td>2</td><td>141</td><td>1</td><td>2.8</td><td>2</td><td>1</td><td>reversible</td><td>0</td></tr><tr><td>51</td><td>0</td><td>3</td><td>140</td><td>308</td><td>0</td><td>2</td><td>142</td><td>0</td><td>1.5</td><td>1</td><td>1</td><td>normal</td><td>0</td></tr><tr><td>48</td><td>1</td><td>2</td><td>130</td><td>245</td><td>0</td><td>2</td><td>180</td><td>0</td><td>0.2</td><td>2</td><td>0</td><td>normal</td><td>0</td></tr><tr><td>58</td><td>1</td><td>4</td><td>150</td><td>270</td><td>0</td><td>2</td><td>111</td><td>1</td><td>0.8</td><td>1</td><td>0</td><td>reversible</td><td>1</td></tr><tr><td>45</td><td>1</td><td>4</td><td>104</td><td>208</td><td>0</td><td>2</td><td>148</td><td>1</td><td>3.0</td><td>2</td><td>0</td><td>normal</td><td>0</td></tr><tr><td>53</td><td>0</td><td>4</td><td>130</td><td>264</td><td>0</td><td>2</td><td>143</td><td>0</td><td>0.4</td><td>2</td><td>0</td><td>normal</td><td>0</td></tr><tr><td>39</td><td>1</td><td>3</td><td>140</td><td>321</td><td>0</td><td>2</td><td>182</td><td>0</td><td>0.0</td><td>1</td><td>0</td><td>normal</td><td>0</td></tr><tr><td>68</td><td>1</td><td>3</td><td>180</td><td>274</td><td>1</td><td>2</td><td>150</td><td>1</td><td>1.6</td><td>2</td><td>0</td><td>reversible</td><td>1</td></tr><tr><td>52</td><td>1</td><td>2</td><td>120</td><td>325</td><td>0</td><td>0</td><td>172</td><td>0</td><td>0.2</td><td>1</td><td>0</td><td>normal</td><td>0</td></tr><tr><td>44</td><td>1</td><td>3</td><td>140</td><td>235</td><td>0</td><td>2</td><td>180</td><td>0</td><td>0.0</td><td>1</td><td>0</td><td>normal</td><td>0</td></tr><tr><td>47</td><td>1</td><td>3</td><td>138</td><td>257</td><td>0</td><td>2</td><td>156</td><td>0</td><td>0.0</td><td>1</td><td>0</td><td>normal</td><td>0</td></tr><tr><td>53</td><td>0</td><td>4</td><td>138</td><td>234</td><td>0</td><td>2</td><td>160</td><td>0</td><td>0.0</td><td>1</td><td>0</td><td>normal</td><td>0</td></tr><tr><td>51</td><td>0</td><td>3</td><td>130</td><td>256</td><td>0</td><td>2</td><td>149</td><td>0</td><td>0.5</td><td>1</td><td>0</td><td>normal</td><td>0</td></tr><tr><td>66</td><td>1</td><td>4</td><td>120</td><td>302</td><td>0</td><td>2</td><td>151</td><td>0</td><td>0.4</td><td>2</td><td>0</td><td>normal</td><td>0</td></tr><tr><td>62</td><td>0</td><td>4</td><td>160</td><td>164</td><td>0</td><td>2</td><td>145</td><td>0</td><td>6.2</td><td>3</td><td>3</td><td>reversible</td><td>1</td></tr><tr><td>62</td><td>1</td><td>3</td><td>130</td><td>231</td><td>0</td><td>0</td><td>146</td><td>0</td><td>1.8</td><td>2</td><td>3</td><td>reversible</td><td>0</td></tr><tr><td>44</td><td>0</td><td>3</td><td>108</td><td>141</td><td>0</td><td>0</td><td>175</td><td>0</td><td>0.6</td><td>2</td><td>0</td><td>normal</td><td>0</td></tr><tr><td>63</td><td>0</td><td>3</td><td>135</td><td>252</td><td>0</td><td>2</td><td>172</td><td>0</td><td>0.0</td><td>1</td><td>0</td><td>normal</td><td>0</td></tr><tr><td>52</td><td>1</td><td>4</td><td>128</td><td>255</td><td>0</td><td>0</td><td>161</td><td>1</td><td>0.0</td><td>1</td><td>1</td><td>reversible</td><td>0</td></tr><tr><td>62</td><td>0</td><td>3</td><td>130</td><td>263</td><td>0</td><td>0</td><td>97</td><td>0</td><td>1.2</td><td>2</td><td>1</td><td>reversible</td><td>1</td></tr><tr><td>41</td><td>1</td><td>2</td><td>135</td><td>203</td><td>0</td><td>0</td><td>132</td><td>0</td><td>0.0</td><td>2</td><td>0</td><td>fixed</td><td>0</td></tr><tr><td>58</td><td>1</td><td>3</td><td>140</td><td>211</td><td>1</td><td>2</td><td>165</td><td>0</td><td>0.0</td><td>1</td><td>0</td><td>normal</td><td>0</td></tr><tr><td>35</td><td>0</td><td>4</td><td>138</td><td>183</td><td>0</td><td>0</td><td>182</td><td>0</td><td>1.4</td><td>1</td><td>0</td><td>normal</td><td>0</td></tr><tr><td>63</td><td>1</td><td>4</td><td>130</td><td>330</td><td>1</td><td>2</td><td>132</td><td>1</td><td>1.8</td><td>1</td><td>3</td><td>reversible</td><td>1</td></tr><tr><td>51</td><td>1</td><td>3</td><td>100</td><td>222</td><td>0</td><td>0</td><td>143</td><td>1</td><td>1.2</td><td>2</td><td>0</td><td>normal</td><td>0</td></tr><tr><td>55</td><td>1</td><td>4</td><td>140</td><td>217</td><td>0</td><td>0</td><td>111</td><td>1</td><td>5.6</td><td>3</td><td>0</td><td>reversible</td><td>1</td></tr><tr><td>65</td><td>1</td><td>1</td><td>138</td><td>282</td><td>1</td><td>2</td><td>174</td><td>0</td><td>1.4</td><td>2</td><td>1</td><td>normal</td><td>0</td></tr><tr><td>45</td><td>0</td><td>2</td><td>130</td><td>234</td><td>0</td><td>2</td><td>175</td><td>0</td><td>0.6</td><td>2</td><td>0</td><td>normal</td><td>0</td></tr><tr><td>56</td><td>0</td><td>4</td><td>200</td><td>288</td><td>1</td><td>2</td><td>133</td><td>1</td><td>4.0</td><td>3</td><td>2</td><td>reversible</td><td>1</td></tr><tr><td>54</td><td>1</td><td>4</td><td>110</td><td>239</td><td>0</td><td>0</td><td>126</td><td>1</td><td>2.8</td><td>2</td><td>1</td><td>reversible</td><td>1</td></tr><tr><td>44</td><td>1</td><td>2</td><td>120</td><td>220</td><td>0</td><td>0</td><td>170</td><td>0</td><td>0.0</td><td>1</td><td>0</td><td>normal</td><td>0</td></tr><tr><td>62</td><td>0</td><td>4</td><td>124</td><td>209</td><td>0</td><td>0</td><td>163</td><td>0</td><td>0.0</td><td>1</td><td>0</td><td>normal</td><td>0</td></tr><tr><td>54</td><td>1</td><td>3</td><td>120</td><td>258</td><td>0</td><td>2</td><td>147</td><td>0</td><td>0.4</td><td>2</td><td>0</td><td>reversible</td><td>0</td></tr><tr><td>51</td><td>1</td><td>3</td><td>94</td><td>227</td><td>0</td><td>0</td><td>154</td><td>1</td><td>0.0</td><td>1</td><td>1</td><td>reversible</td><td>0</td></tr><tr><td>29</td><td>1</td><td>2</td><td>130</td><td>204</td><td>0</td><td>2</td><td>202</td><td>0</td><td>0.0</td><td>1</td><td>0</td><td>normal</td><td>0</td></tr><tr><td>51</td><td>1</td><td>4</td><td>140</td><td>261</td><td>0</td><td>2</td><td>186</td><td>1</td><td>0.0</td><td>1</td><td>0</td><td>normal</td><td>0</td></tr><tr><td>43</td><td>0</td><td>3</td><td>122</td><td>213</td><td>0</td><td>0</td><td>165</td><td>0</td><td>0.2</td><td>2</td><td>0</td><td>normal</td><td>0</td></tr><tr><td>55</td><td>0</td><td>2</td><td>135</td><td>250</td><td>0</td><td>2</td><td>161</td><td>0</td><td>1.4</td><td>2</td><td>0</td><td>normal</td><td>0</td></tr><tr><td>70</td><td>1</td><td>4</td><td>145</td><td>174</td><td>0</td><td>0</td><td>125</td><td>1</td><td>2.6</td><td>3</td><td>0</td><td>reversible</td><td>1</td></tr><tr><td>62</td><td>1</td><td>2</td><td>120</td><td>281</td><td>0</td><td>2</td><td>103</td><td>0</td><td>1.4</td><td>2</td><td>1</td><td>reversible</td><td>1</td></tr><tr><td>35</td><td>1</td><td>4</td><td>120</td><td>198</td><td>0</td><td>0</td><td>130</td><td>1</td><td>1.6</td><td>2</td><td>0</td><td>reversible</td><td>0</td></tr><tr><td>51</td><td>1</td><td>3</td><td>125</td><td>245</td><td>1</td><td>2</td><td>166</td><td>0</td><td>2.4</td><td>2</td><td>0</td><td>normal</td><td>0</td></tr><tr><td>59</td><td>1</td><td>2</td><td>140</td><td>221</td><td>0</td><td>0</td><td>164</td><td>1</td><td>0.0</td><td>1</td><td>0</td><td>normal</td><td>0</td></tr><tr><td>59</td><td>1</td><td>1</td><td>170</td><td>288</td><td>0</td><td>2</td><td>159</td><td>0</td><td>0.2</td><td>2</td><td>0</td><td>reversible</td><td>0</td></tr><tr><td>52</td><td>1</td><td>2</td><td>128</td><td>205</td><td>1</td><td>0</td><td>184</td><td>0</td><td>0.0</td><td>1</td><td>0</td><td>normal</td><td>0</td></tr><tr><td>64</td><td>1</td><td>3</td><td>125</td><td>309</td><td>0</td><td>0</td><td>131</td><td>1</td><td>1.8</td><td>2</td><td>0</td><td>reversible</td><td>0</td></tr><tr><td>58</td><td>1</td><td>3</td><td>105</td><td>240</td><td>0</td><td>2</td><td>154</td><td>1</td><td>0.6</td><td>2</td><td>0</td><td>reversible</td><td>0</td></tr><tr><td>47</td><td>1</td><td>3</td><td>108</td><td>243</td><td>0</td><td>0</td><td>152</td><td>0</td><td>0.0</td><td>1</td><td>0</td><td>normal</td><td>0</td></tr><tr><td>57</td><td>1</td><td>4</td><td>165</td><td>289</td><td>1</td><td>2</td><td>124</td><td>0</td><td>1.0</td><td>2</td><td>3</td><td>reversible</td><td>1</td></tr><tr><td>41</td><td>1</td><td>3</td><td>112</td><td>250</td><td>0</td><td>0</td><td>179</td><td>0</td><td>0.0</td><td>1</td><td>0</td><td>normal</td><td>0</td></tr><tr><td>45</td><td>1</td><td>2</td><td>128</td><td>308</td><td>0</td><td>2</td><td>170</td><td>0</td><td>0.0</td><td>1</td><td>0</td><td>normal</td><td>0</td></tr><tr><td>60</td><td>0</td><td>3</td><td>102</td><td>318</td><td>0</td><td>0</td><td>160</td><td>0</td><td>0.0</td><td>1</td><td>1</td><td>normal</td><td>0</td></tr><tr><td>52</td><td>1</td><td>1</td><td>152</td><td>298</td><td>1</td><td>0</td><td>178</td><td>0</td><td>1.2</td><td>2</td><td>0</td><td>reversible</td><td>0</td></tr><tr><td>42</td><td>0</td><td>4</td><td>102</td><td>265</td><td>0</td><td>2</td><td>122</td><td>0</td><td>0.6</td><td>2</td><td>0</td><td>normal</td><td>0</td></tr><tr><td>67</td><td>0</td><td>3</td><td>115</td><td>564</td><td>0</td><td>2</td><td>160</td><td>0</td><td>1.6</td><td>2</td><td>0</td><td>reversible</td><td>0</td></tr><tr><td>55</td><td>1</td><td>4</td><td>160</td><td>289</td><td>0</td><td>2</td><td>145</td><td>1</td><td>0.8</td><td>2</td><td>1</td><td>reversible</td><td>1</td></tr><tr><td>64</td><td>1</td><td>4</td><td>120</td><td>246</td><td>0</td><td>2</td><td>96</td><td>1</td><td>2.2</td><td>3</td><td>1</td><td>normal</td><td>1</td></tr><tr><td>70</td><td>1</td><td>4</td><td>130</td><td>322</td><td>0</td><td>2</td><td>109</td><td>0</td><td>2.4</td><td>2</td><td>3</td><td>normal</td><td>0</td></tr><tr><td>51</td><td>1</td><td>4</td><td>140</td><td>299</td><td>0</td><td>0</td><td>173</td><td>1</td><td>1.6</td><td>1</td><td>0</td><td>reversible</td><td>0</td></tr><tr><td>58</td><td>1</td><td>4</td><td>125</td><td>300</td><td>0</td><td>2</td><td>171</td><td>0</td><td>0.0</td><td>1</td><td>2</td><td>reversible</td><td>0</td></tr><tr><td>60</td><td>1</td><td>4</td><td>140</td><td>293</td><td>0</td><td>2</td><td>170</td><td>0</td><td>1.2</td><td>2</td><td>2</td><td>reversible</td><td>1</td></tr><tr><td>68</td><td>1</td><td>3</td><td>118</td><td>277</td><td>0</td><td>0</td><td>151</td><td>0</td><td>1.0</td><td>1</td><td>1</td><td>reversible</td><td>0</td></tr><tr><td>46</td><td>1</td><td>2</td><td>101</td><td>197</td><td>1</td><td>0</td><td>156</td><td>0</td><td>0.0</td><td>1</td><td>0</td><td>reversible</td><td>0</td></tr><tr><td>77</td><td>1</td><td>4</td><td>125</td><td>304</td><td>0</td><td>2</td><td>162</td><td>1</td><td>0.0</td><td>1</td><td>3</td><td>normal</td><td>1</td></tr><tr><td>54</td><td>0</td><td>3</td><td>110</td><td>214</td><td>0</td><td>0</td><td>158</td><td>0</td><td>1.6</td><td>2</td><td>0</td><td>normal</td><td>0</td></tr><tr><td>58</td><td>0</td><td>4</td><td>100</td><td>248</td><td>0</td><td>2</td><td>122</td><td>0</td><td>1.0</td><td>2</td><td>0</td><td>normal</td><td>0</td></tr><tr><td>48</td><td>1</td><td>3</td><td>124</td><td>255</td><td>1</td><td>0</td><td>175</td><td>0</td><td>0.0</td><td>1</td><td>2</td><td>normal</td><td>0</td></tr><tr><td>57</td><td>1</td><td>4</td><td>132</td><td>207</td><td>0</td><td>0</td><td>168</td><td>1</td><td>0.0</td><td>1</td><td>0</td><td>reversible</td><td>0</td></tr><tr><td>54</td><td>0</td><td>2</td><td>132</td><td>288</td><td>1</td><td>2</td><td>159</td><td>1</td><td>0.0</td><td>1</td><td>1</td><td>normal</td><td>0</td></tr><tr><td>35</td><td>1</td><td>4</td><td>126</td><td>282</td><td>0</td><td>2</td><td>156</td><td>1</td><td>0.0</td><td>1</td><td>0</td><td>reversible</td><td>0</td></tr><tr><td>45</td><td>0</td><td>2</td><td>112</td><td>160</td><td>0</td><td>0</td><td>138</td><td>0</td><td>0.0</td><td>2</td><td>0</td><td>normal</td><td>0</td></tr><tr><td>70</td><td>1</td><td>3</td><td>160</td><td>269</td><td>0</td><td>0</td><td>112</td><td>1</td><td>2.9</td><td>2</td><td>1</td><td>reversible</td><td>1</td></tr><tr><td>53</td><td>1</td><td>4</td><td>142</td><td>226</td><td>0</td><td>2</td><td>111</td><td>1</td><td>0.0</td><td>1</td><td>0</td><td>reversible</td><td>0</td></tr><tr><td>59</td><td>0</td><td>4</td><td>174</td><td>249</td><td>0</td><td>0</td><td>143</td><td>1</td><td>0.0</td><td>2</td><td>0</td><td>normal</td><td>0</td></tr><tr><td>62</td><td>0</td><td>4</td><td>140</td><td>394</td><td>0</td><td>2</td><td>157</td><td>0</td><td>1.2</td><td>2</td><td>0</td><td>normal</td><td>0</td></tr><tr><td>64</td><td>1</td><td>4</td><td>145</td><td>212</td><td>0</td><td>2</td><td>132</td><td>0</td><td>2.0</td><td>2</td><td>2</td><td>fixed</td><td>1</td></tr><tr><td>57</td><td>1</td><td>4</td><td>152</td><td>274</td><td>0</td><td>0</td><td>88</td><td>1</td><td>1.2</td><td>2</td><td>1</td><td>reversible</td><td>0</td></tr><tr><td>52</td><td>1</td><td>4</td><td>108</td><td>233</td><td>1</td><td>0</td><td>147</td><td>0</td><td>0.1</td><td>1</td><td>3</td><td>reversible</td><td>0</td></tr><tr><td>56</td><td>1</td><td>4</td><td>132</td><td>184</td><td>0</td><td>2</td><td>105</td><td>1</td><td>2.1</td><td>2</td><td>1</td><td>fixed</td><td>0</td></tr><tr><td>43</td><td>1</td><td>3</td><td>130</td><td>315</td><td>0</td><td>0</td><td>162</td><td>0</td><td>1.9</td><td>1</td><td>1</td><td>normal</td><td>0</td></tr><tr><td>53</td><td>1</td><td>3</td><td>130</td><td>246</td><td>1</td><td>2</td><td>173</td><td>0</td><td>0.0</td><td>1</td><td>3</td><td>normal</td><td>0</td></tr><tr><td>48</td><td>1</td><td>4</td><td>124</td><td>274</td><td>0</td><td>2</td><td>166</td><td>0</td><td>0.5</td><td>2</td><td>0</td><td>reversible</td><td>1</td></tr><tr><td>56</td><td>0</td><td>4</td><td>134</td><td>409</td><td>0</td><td>2</td><td>150</td><td>1</td><td>1.9</td><td>2</td><td>2</td><td>reversible</td><td>1</td></tr><tr><td>42</td><td>1</td><td>1</td><td>148</td><td>244</td><td>0</td><td>2</td><td>178</td><td>0</td><td>0.8</td><td>1</td><td>2</td><td>normal</td><td>0</td></tr><tr><td>59</td><td>1</td><td>1</td><td>178</td><td>270</td><td>0</td><td>2</td><td>145</td><td>0</td><td>4.2</td><td>3</td><td>0</td><td>reversible</td><td>0</td></tr><tr><td>60</td><td>0</td><td>4</td><td>158</td><td>305</td><td>0</td><td>2</td><td>161</td><td>0</td><td>0.0</td><td>1</td><td>0</td><td>normal</td><td>0</td></tr><tr><td>63</td><td>0</td><td>2</td><td>140</td><td>195</td><td>0</td><td>0</td><td>179</td><td>0</td><td>0.0</td><td>1</td><td>2</td><td>normal</td><td>0</td></tr><tr><td>42</td><td>1</td><td>3</td><td>120</td><td>240</td><td>1</td><td>0</td><td>194</td><td>0</td><td>0.8</td><td>3</td><td>0</td><td>reversible</td><td>0</td></tr><tr><td>66</td><td>1</td><td>2</td><td>160</td><td>246</td><td>0</td><td>0</td><td>120</td><td>1</td><td>0.0</td><td>2</td><td>3</td><td>fixed</td><td>1</td></tr><tr><td>54</td><td>1</td><td>2</td><td>192</td><td>283</td><td>0</td><td>2</td><td>195</td><td>0</td><td>0.0</td><td>1</td><td>1</td><td>reversible</td><td>0</td></tr><tr><td>69</td><td>1</td><td>3</td><td>140</td><td>254</td><td>0</td><td>2</td><td>146</td><td>0</td><td>2.0</td><td>2</td><td>3</td><td>reversible</td><td>1</td></tr><tr><td>50</td><td>1</td><td>3</td><td>129</td><td>196</td><td>0</td><td>0</td><td>163</td><td>0</td><td>0.0</td><td>1</td><td>0</td><td>normal</td><td>0</td></tr><tr><td>51</td><td>1</td><td>4</td><td>140</td><td>298</td><td>0</td><td>0</td><td>122</td><td>1</td><td>4.2</td><td>2</td><td>3</td><td>reversible</td><td>1</td></tr><tr><td>62</td><td>0</td><td>4</td><td>138</td><td>294</td><td>1</td><td>0</td><td>106</td><td>0</td><td>1.9</td><td>2</td><td>3</td><td>normal</td><td>1</td></tr><tr><td>68</td><td>0</td><td>3</td><td>120</td><td>211</td><td>0</td><td>2</td><td>115</td><td>0</td><td>1.5</td><td>2</td><td>0</td><td>normal</td><td>0</td></tr><tr><td>67</td><td>1</td><td>4</td><td>100</td><td>299</td><td>0</td><td>2</td><td>125</td><td>1</td><td>0.9</td><td>2</td><td>2</td><td>normal</td><td>1</td></tr><tr><td>69</td><td>1</td><td>1</td><td>160</td><td>234</td><td>1</td><td>2</td><td>131</td><td>0</td><td>0.1</td><td>2</td><td>1</td><td>normal</td><td>0</td></tr><tr><td>45</td><td>0</td><td>4</td><td>138</td><td>236</td><td>0</td><td>2</td><td>152</td><td>1</td><td>0.2</td><td>2</td><td>0</td><td>normal</td><td>0</td></tr><tr><td>50</td><td>0</td><td>2</td><td>120</td><td>244</td><td>0</td><td>0</td><td>162</td><td>0</td><td>1.1</td><td>1</td><td>0</td><td>normal</td><td>0</td></tr><tr><td>59</td><td>1</td><td>1</td><td>160</td><td>273</td><td>0</td><td>2</td><td>125</td><td>0</td><td>0.0</td><td>1</td><td>0</td><td>normal</td><td>0</td></tr><tr><td>50</td><td>0</td><td>4</td><td>110</td><td>254</td><td>0</td><td>2</td><td>159</td><td>0</td><td>0.0</td><td>1</td><td>0</td><td>normal</td><td>0</td></tr><tr><td>64</td><td>0</td><td>4</td><td>180</td><td>325</td><td>0</td><td>0</td><td>154</td><td>1</td><td>0.0</td><td>1</td><td>0</td><td>normal</td><td>0</td></tr><tr><td>57</td><td>1</td><td>3</td><td>150</td><td>126</td><td>1</td><td>0</td><td>173</td><td>0</td><td>0.2</td><td>1</td><td>1</td><td>reversible</td><td>0</td></tr><tr><td>64</td><td>0</td><td>3</td><td>140</td><td>313</td><td>0</td><td>0</td><td>133</td><td>0</td><td>0.2</td><td>1</td><td>0</td><td>reversible</td><td>0</td></tr><tr><td>43</td><td>1</td><td>4</td><td>110</td><td>211</td><td>0</td><td>0</td><td>161</td><td>0</td><td>0.0</td><td>1</td><td>0</td><td>reversible</td><td>0</td></tr><tr><td>45</td><td>1</td><td>4</td><td>142</td><td>309</td><td>0</td><td>2</td><td>147</td><td>1</td><td>0.0</td><td>2</td><td>3</td><td>reversible</td><td>1</td></tr><tr><td>58</td><td>1</td><td>4</td><td>128</td><td>259</td><td>0</td><td>2</td><td>130</td><td>1</td><td>3.0</td><td>2</td><td>2</td><td>reversible</td><td>1</td></tr><tr><td>50</td><td>1</td><td>4</td><td>144</td><td>200</td><td>0</td><td>2</td><td>126</td><td>1</td><td>0.9</td><td>2</td><td>0</td><td>reversible</td><td>1</td></tr><tr><td>55</td><td>1</td><td>2</td><td>130</td><td>262</td><td>0</td><td>0</td><td>155</td><td>0</td><td>0.0</td><td>1</td><td>0</td><td>normal</td><td>0</td></tr><tr><td>62</td><td>0</td><td>4</td><td>150</td><td>244</td><td>0</td><td>0</td><td>154</td><td>1</td><td>1.4</td><td>2</td><td>0</td><td>normal</td><td>0</td></tr><tr><td>37</td><td>0</td><td>3</td><td>120</td><td>215</td><td>0</td><td>0</td><td>170</td><td>0</td><td>0.0</td><td>1</td><td>0</td><td>normal</td><td>0</td></tr><tr><td>38</td><td>1</td><td>1</td><td>120</td><td>231</td><td>0</td><td>0</td><td>182</td><td>1</td><td>3.8</td><td>2</td><td>0</td><td>reversible</td><td>1</td></tr><tr><td>41</td><td>1</td><td>3</td><td>130</td><td>214</td><td>0</td><td>2</td><td>168</td><td>0</td><td>2.0</td><td>2</td><td>0</td><td>normal</td><td>0</td></tr><tr><td>66</td><td>0</td><td>4</td><td>178</td><td>228</td><td>1</td><td>0</td><td>165</td><td>1</td><td>1.0</td><td>2</td><td>2</td><td>reversible</td><td>1</td></tr><tr><td>52</td><td>1</td><td>4</td><td>112</td><td>230</td><td>0</td><td>0</td><td>160</td><td>0</td><td>0.0</td><td>1</td><td>1</td><td>normal</td><td>0</td></tr><tr><td>56</td><td>1</td><td>1</td><td>120</td><td>193</td><td>0</td><td>2</td><td>162</td><td>0</td><td>1.9</td><td>2</td><td>0</td><td>reversible</td><td>0</td></tr><tr><td>46</td><td>0</td><td>2</td><td>105</td><td>204</td><td>0</td><td>0</td><td>172</td><td>0</td><td>0.0</td><td>1</td><td>0</td><td>normal</td><td>0</td></tr><tr><td>46</td><td>0</td><td>4</td><td>138</td><td>243</td><td>0</td><td>2</td><td>152</td><td>1</td><td>0.0</td><td>2</td><td>0</td><td>normal</td><td>0</td></tr><tr><td>64</td><td>0</td><td>4</td><td>130</td><td>303</td><td>0</td><td>0</td><td>122</td><td>0</td><td>2.0</td><td>2</td><td>2</td><td>normal</td><td>0</td></tr><tr><td>59</td><td>1</td><td>4</td><td>138</td><td>271</td><td>0</td><td>2</td><td>182</td><td>0</td><td>0.0</td><td>1</td><td>0</td><td>normal</td><td>0</td></tr><tr><td>41</td><td>0</td><td>3</td><td>112</td><td>268</td><td>0</td><td>2</td><td>172</td><td>1</td><td>0.0</td><td>1</td><td>0</td><td>normal</td><td>0</td></tr><tr><td>54</td><td>0</td><td>3</td><td>108</td><td>267</td><td>0</td><td>2</td><td>167</td><td>0</td><td>0.0</td><td>1</td><td>0</td><td>normal</td><td>0</td></tr><tr><td>39</td><td>0</td><td>3</td><td>94</td><td>199</td><td>0</td><td>0</td><td>179</td><td>0</td><td>0.0</td><td>1</td><td>0</td><td>normal</td><td>0</td></tr><tr><td>53</td><td>1</td><td>4</td><td>123</td><td>282</td><td>0</td><td>0</td><td>95</td><td>1</td><td>2.0</td><td>2</td><td>2</td><td>reversible</td><td>1</td></tr><tr><td>63</td><td>0</td><td>4</td><td>108</td><td>269</td><td>0</td><td>0</td><td>169</td><td>1</td><td>1.8</td><td>2</td><td>2</td><td>normal</td><td>0</td></tr><tr><td>34</td><td>0</td><td>2</td><td>118</td><td>210</td><td>0</td><td>0</td><td>192</td><td>0</td><td>0.7</td><td>1</td><td>0</td><td>normal</td><td>0</td></tr><tr><td>47</td><td>1</td><td>4</td><td>112</td><td>204</td><td>0</td><td>0</td><td>143</td><td>0</td><td>0.1</td><td>1</td><td>0</td><td>normal</td><td>0</td></tr><tr><td>67</td><td>0</td><td>3</td><td>152</td><td>277</td><td>0</td><td>0</td><td>172</td><td>0</td><td>0.0</td><td>1</td><td>1</td><td>normal</td><td>0</td></tr><tr><td>54</td><td>1</td><td>4</td><td>110</td><td>206</td><td>0</td><td>2</td><td>108</td><td>1</td><td>0.0</td><td>2</td><td>1</td><td>normal</td><td>1</td></tr><tr><td>66</td><td>1</td><td>4</td><td>112</td><td>212</td><td>0</td><td>2</td><td>132</td><td>1</td><td>0.1</td><td>1</td><td>1</td><td>normal</td><td>1</td></tr><tr><td>52</td><td>0</td><td>3</td><td>136</td><td>196</td><td>0</td><td>2</td><td>169</td><td>0</td><td>0.1</td><td>2</td><td>0</td><td>normal</td><td>0</td></tr><tr><td>55</td><td>0</td><td>4</td><td>180</td><td>327</td><td>0</td><td>1</td><td>117</td><td>1</td><td>3.4</td><td>2</td><td>0</td><td>normal</td><td>1</td></tr><tr><td>49</td><td>1</td><td>3</td><td>118</td><td>149</td><td>0</td><td>2</td><td>126</td><td>0</td><td>0.8</td><td>1</td><td>3</td><td>normal</td><td>0</td></tr><tr><td>74</td><td>0</td><td>2</td><td>120</td><td>269</td><td>0</td><td>2</td><td>121</td><td>1</td><td>0.2</td><td>1</td><td>1</td><td>normal</td><td>0</td></tr><tr><td>54</td><td>0</td><td>3</td><td>160</td><td>201</td><td>0</td><td>0</td><td>163</td><td>0</td><td>0.0</td><td>1</td><td>1</td><td>normal</td><td>0</td></tr><tr><td>54</td><td>1</td><td>4</td><td>122</td><td>286</td><td>0</td><td>2</td><td>116</td><td>1</td><td>3.2</td><td>2</td><td>2</td><td>normal</td><td>1</td></tr><tr><td>56</td><td>1</td><td>4</td><td>130</td><td>283</td><td>1</td><td>2</td><td>103</td><td>1</td><td>1.6</td><td>3</td><td>0</td><td>reversible</td><td>1</td></tr><tr><td>46</td><td>1</td><td>4</td><td>120</td><td>249</td><td>0</td><td>2</td><td>144</td><td>0</td><td>0.8</td><td>1</td><td>0</td><td>reversible</td><td>0</td></tr><tr><td>49</td><td>0</td><td>2</td><td>134</td><td>271</td><td>0</td><td>0</td><td>162</td><td>0</td><td>0.0</td><td>2</td><td>0</td><td>normal</td><td>0</td></tr><tr><td>42</td><td>1</td><td>2</td><td>120</td><td>295</td><td>0</td><td>0</td><td>162</td><td>0</td><td>0.0</td><td>1</td><td>0</td><td>normal</td><td>0</td></tr><tr><td>41</td><td>1</td><td>2</td><td>110</td><td>235</td><td>0</td><td>0</td><td>153</td><td>0</td><td>0.0</td><td>1</td><td>0</td><td>normal</td><td>0</td></tr><tr><td>41</td><td>0</td><td>2</td><td>126</td><td>306</td><td>0</td><td>0</td><td>163</td><td>0</td><td>0.0</td><td>1</td><td>0</td><td>normal</td><td>0</td></tr><tr><td>49</td><td>0</td><td>4</td><td>130</td><td>269</td><td>0</td><td>0</td><td>163</td><td>0</td><td>0.0</td><td>1</td><td>0</td><td>normal</td><td>0</td></tr><tr><td>61</td><td>1</td><td>1</td><td>134</td><td>234</td><td>0</td><td>0</td><td>145</td><td>0</td><td>2.6</td><td>2</td><td>2</td><td>normal</td><td>1</td></tr><tr><td>60</td><td>0</td><td>3</td><td>120</td><td>178</td><td>1</td><td>0</td><td>96</td><td>0</td><td>0.0</td><td>1</td><td>0</td><td>normal</td><td>0</td></tr><tr><td>67</td><td>1</td><td>4</td><td>120</td><td>237</td><td>0</td><td>0</td><td>71</td><td>0</td><td>1.0</td><td>2</td><td>0</td><td>normal</td><td>1</td></tr><tr><td>58</td><td>1</td><td>4</td><td>100</td><td>234</td><td>0</td><td>0</td><td>156</td><td>0</td><td>0.1</td><td>1</td><td>1</td><td>reversible</td><td>1</td></tr><tr><td>47</td><td>1</td><td>4</td><td>110</td><td>275</td><td>0</td><td>2</td><td>118</td><td>1</td><td>1.0</td><td>2</td><td>1</td><td>normal</td><td>0</td></tr><tr><td>52</td><td>1</td><td>4</td><td>125</td><td>212</td><td>0</td><td>0</td><td>168</td><td>0</td><td>1.0</td><td>1</td><td>2</td><td>reversible</td><td>1</td></tr><tr><td>62</td><td>1</td><td>2</td><td>128</td><td>208</td><td>1</td><td>2</td><td>140</td><td>0</td><td>0.0</td><td>1</td><td>0</td><td>normal</td><td>0</td></tr><tr><td>57</td><td>1</td><td>4</td><td>110</td><td>201</td><td>0</td><td>0</td><td>126</td><td>1</td><td>1.5</td><td>2</td><td>0</td><td>fixed</td><td>0</td></tr><tr><td>58</td><td>1</td><td>4</td><td>146</td><td>218</td><td>0</td><td>0</td><td>105</td><td>0</td><td>2.0</td><td>2</td><td>1</td><td>reversible</td><td>0</td></tr><tr><td>64</td><td>1</td><td>4</td><td>128</td><td>263</td><td>0</td><td>0</td><td>105</td><td>1</td><td>0.2</td><td>2</td><td>1</td><td>reversible</td><td>0</td></tr><tr><td>51</td><td>0</td><td>3</td><td>120</td><td>295</td><td>0</td><td>2</td><td>157</td><td>0</td><td>0.6</td><td>1</td><td>0</td><td>normal</td><td>0</td></tr><tr><td>43</td><td>1</td><td>4</td><td>115</td><td>303</td><td>0</td><td>0</td><td>181</td><td>0</td><td>1.2</td><td>2</td><td>0</td><td>normal</td><td>0</td></tr><tr><td>42</td><td>0</td><td>3</td><td>120</td><td>209</td><td>0</td><td>0</td><td>173</td><td>0</td><td>0.0</td><td>2</td><td>0</td><td>normal</td><td>0</td></tr><tr><td>67</td><td>0</td><td>4</td><td>106</td><td>223</td><td>0</td><td>0</td><td>142</td><td>0</td><td>0.3</td><td>1</td><td>2</td><td>normal</td><td>0</td></tr><tr><td>76</td><td>0</td><td>3</td><td>140</td><td>197</td><td>0</td><td>1</td><td>116</td><td>0</td><td>1.1</td><td>2</td><td>0</td><td>normal</td><td>0</td></tr><tr><td>70</td><td>1</td><td>2</td><td>156</td><td>245</td><td>0</td><td>2</td><td>143</td><td>0</td><td>0.0</td><td>1</td><td>0</td><td>normal</td><td>0</td></tr><tr><td>57</td><td>1</td><td>2</td><td>124</td><td>261</td><td>0</td><td>0</td><td>141</td><td>0</td><td>0.3</td><td>1</td><td>0</td><td>reversible</td><td>0</td></tr><tr><td>44</td><td>0</td><td>3</td><td>118</td><td>242</td><td>0</td><td>0</td><td>149</td><td>0</td><td>0.3</td><td>2</td><td>1</td><td>normal</td><td>0</td></tr><tr><td>58</td><td>0</td><td>2</td><td>136</td><td>319</td><td>1</td><td>2</td><td>152</td><td>0</td><td>0.0</td><td>1</td><td>2</td><td>normal</td><td>1</td></tr><tr><td>60</td><td>0</td><td>1</td><td>150</td><td>240</td><td>0</td><td>0</td><td>171</td><td>0</td><td>0.9</td><td>1</td><td>0</td><td>normal</td><td>0</td></tr><tr><td>44</td><td>1</td><td>3</td><td>120</td><td>226</td><td>0</td><td>0</td><td>169</td><td>0</td><td>0.0</td><td>1</td><td>0</td><td>normal</td><td>0</td></tr><tr><td>61</td><td>1</td><td>4</td><td>138</td><td>166</td><td>0</td><td>2</td><td>125</td><td>1</td><td>3.6</td><td>2</td><td>1</td><td>normal</td><td>1</td></tr><tr><td>42</td><td>1</td><td>4</td><td>136</td><td>315</td><td>0</td><td>0</td><td>125</td><td>1</td><td>1.8</td><td>2</td><td>0</td><td>fixed</td><td>1</td></tr><tr><td>59</td><td>1</td><td>3</td><td>126</td><td>218</td><td>1</td><td>0</td><td>134</td><td>0</td><td>2.2</td><td>2</td><td>1</td><td>fixed</td><td>1</td></tr><tr><td>40</td><td>1</td><td>4</td><td>152</td><td>223</td><td>0</td><td>0</td><td>181</td><td>0</td><td>0.0</td><td>1</td><td>0</td><td>reversible</td><td>0</td></tr><tr><td>42</td><td>1</td><td>3</td><td>130</td><td>180</td><td>0</td><td>0</td><td>150</td><td>0</td><td>0.0</td><td>1</td><td>0</td><td>normal</td><td>0</td></tr><tr><td>61</td><td>1</td><td>4</td><td>140</td><td>207</td><td>0</td><td>2</td><td>138</td><td>1</td><td>1.9</td><td>1</td><td>1</td><td>reversible</td><td>0</td></tr><tr><td>66</td><td>1</td><td>4</td><td>160</td><td>228</td><td>0</td><td>2</td><td>138</td><td>0</td><td>2.3</td><td>1</td><td>0</td><td>fixed</td><td>0</td></tr><tr><td>46</td><td>1</td><td>4</td><td>140</td><td>311</td><td>0</td><td>0</td><td>120</td><td>1</td><td>1.8</td><td>2</td><td>2</td><td>reversible</td><td>1</td></tr><tr><td>71</td><td>0</td><td>4</td><td>112</td><td>149</td><td>0</td><td>0</td><td>125</td><td>0</td><td>1.6</td><td>2</td><td>0</td><td>normal</td><td>0</td></tr><tr><td>59</td><td>1</td><td>1</td><td>134</td><td>204</td><td>0</td><td>0</td><td>162</td><td>0</td><td>0.8</td><td>1</td><td>2</td><td>normal</td><td>0</td></tr><tr><td>64</td><td>1</td><td>1</td><td>170</td><td>227</td><td>0</td><td>2</td><td>155</td><td>0</td><td>0.6</td><td>2</td><td>0</td><td>reversible</td><td>0</td></tr><tr><td>66</td><td>0</td><td>3</td><td>146</td><td>278</td><td>0</td><td>2</td><td>152</td><td>0</td><td>0.0</td><td>2</td><td>1</td><td>normal</td><td>0</td></tr><tr><td>39</td><td>0</td><td>3</td><td>138</td><td>220</td><td>0</td><td>0</td><td>152</td><td>0</td><td>0.0</td><td>2</td><td>0</td><td>normal</td><td>0</td></tr><tr><td>57</td><td>1</td><td>2</td><td>154</td><td>232</td><td>0</td><td>2</td><td>164</td><td>0</td><td>0.0</td><td>1</td><td>1</td><td>normal</td><td>0</td></tr><tr><td>58</td><td>0</td><td>4</td><td>130</td><td>197</td><td>0</td><td>0</td><td>131</td><td>0</td><td>0.6</td><td>2</td><td>0</td><td>normal</td><td>0</td></tr><tr><td>57</td><td>1</td><td>4</td><td>110</td><td>335</td><td>0</td><td>0</td><td>143</td><td>1</td><td>3.0</td><td>2</td><td>1</td><td>reversible</td><td>1</td></tr><tr><td>47</td><td>1</td><td>3</td><td>130</td><td>253</td><td>0</td><td>0</td><td>179</td><td>0</td><td>0.0</td><td>1</td><td>0</td><td>normal</td><td>0</td></tr><tr><td>55</td><td>0</td><td>4</td><td>128</td><td>205</td><td>0</td><td>1</td><td>130</td><td>1</td><td>2.0</td><td>2</td><td>1</td><td>reversible</td><td>1</td></tr><tr><td>35</td><td>1</td><td>2</td><td>122</td><td>192</td><td>0</td><td>0</td><td>174</td><td>0</td><td>0.0</td><td>1</td><td>0</td><td>normal</td><td>0</td></tr><tr><td>61</td><td>1</td><td>4</td><td>148</td><td>203</td><td>0</td><td>0</td><td>161</td><td>0</td><td>0.0</td><td>1</td><td>1</td><td>reversible</td><td>1</td></tr><tr><td>58</td><td>1</td><td>4</td><td>114</td><td>318</td><td>0</td><td>1</td><td>140</td><td>0</td><td>4.4</td><td>3</td><td>3</td><td>fixed</td><td>1</td></tr><tr><td>58</td><td>0</td><td>4</td><td>170</td><td>225</td><td>1</td><td>2</td><td>146</td><td>1</td><td>2.8</td><td>2</td><td>2</td><td>fixed</td><td>1</td></tr><tr><td>56</td><td>1</td><td>2</td><td>130</td><td>221</td><td>0</td><td>2</td><td>163</td><td>0</td><td>0.0</td><td>1</td><td>0</td><td>reversible</td><td>0</td></tr><tr><td>56</td><td>1</td><td>2</td><td>120</td><td>240</td><td>0</td><td>0</td><td>169</td><td>0</td><td>0.0</td><td>3</td><td>0</td><td>normal</td><td>0</td></tr><tr><td>67</td><td>1</td><td>3</td><td>152</td><td>212</td><td>0</td><td>2</td><td>150</td><td>0</td><td>0.8</td><td>2</td><td>0</td><td>reversible</td><td>0</td></tr><tr><td>55</td><td>0</td><td>2</td><td>132</td><td>342</td><td>0</td><td>0</td><td>166</td><td>0</td><td>1.2</td><td>1</td><td>0</td><td>normal</td><td>0</td></tr><tr><td>44</td><td>1</td><td>4</td><td>120</td><td>169</td><td>0</td><td>0</td><td>144</td><td>1</td><td>2.8</td><td>3</td><td>0</td><td>fixed</td><td>1</td></tr><tr><td>63</td><td>1</td><td>4</td><td>140</td><td>187</td><td>0</td><td>2</td><td>144</td><td>1</td><td>4.0</td><td>1</td><td>2</td><td>reversible</td><td>1</td></tr><tr><td>63</td><td>0</td><td>4</td><td>124</td><td>197</td><td>0</td><td>0</td><td>136</td><td>1</td><td>0.0</td><td>2</td><td>0</td><td>normal</td><td>0</td></tr><tr><td>41</td><td>1</td><td>2</td><td>120</td><td>157</td><td>0</td><td>0</td><td>182</td><td>0</td><td>0.0</td><td>1</td><td>0</td><td>normal</td><td>0</td></tr><tr><td>59</td><td>1</td><td>4</td><td>164</td><td>176</td><td>1</td><td>2</td><td>90</td><td>0</td><td>1.0</td><td>2</td><td>2</td><td>fixed</td><td>1</td></tr><tr><td>57</td><td>0</td><td>4</td><td>140</td><td>241</td><td>0</td><td>0</td><td>123</td><td>1</td><td>0.2</td><td>2</td><td>0</td><td>reversible</td><td>0</td></tr><tr><td>45</td><td>1</td><td>1</td><td>110</td><td>264</td><td>0</td><td>0</td><td>132</td><td>0</td><td>1.2</td><td>2</td><td>0</td><td>reversible</td><td>0</td></tr><tr><td>68</td><td>1</td><td>4</td><td>144</td><td>193</td><td>1</td><td>0</td><td>141</td><td>0</td><td>3.4</td><td>2</td><td>2</td><td>reversible</td><td>1</td></tr><tr><td>57</td><td>1</td><td>4</td><td>130</td><td>131</td><td>0</td><td>0</td><td>115</td><td>1</td><td>1.2</td><td>2</td><td>1</td><td>reversible</td><td>1</td></tr><tr><td>57</td><td>0</td><td>2</td><td>130</td><td>236</td><td>0</td><td>2</td><td>174</td><td>0</td><td>0.0</td><td>2</td><td>1</td><td>normal</td><td>0</td></tr><tr><td>59</td><td>1</td><td>0</td><td>164</td><td>176</td><td>1</td><td>0</td><td>90</td><td>0</td><td>1.0</td><td>1</td><td>2</td><td>1</td><td>0</td></tr><tr><td>57</td><td>0</td><td>0</td><td>140</td><td>241</td><td>0</td><td>1</td><td>123</td><td>1</td><td>0.2</td><td>1</td><td>0</td><td>normal</td><td>0</td></tr><tr><td>45</td><td>1</td><td>3</td><td>110</td><td>264</td><td>0</td><td>1</td><td>132</td><td>0</td><td>1.2</td><td>1</td><td>0</td><td>normal</td><td>0</td></tr><tr><td>68</td><td>1</td><td>0</td><td>144</td><td>193</td><td>1</td><td>1</td><td>141</td><td>0</td><td>3.4</td><td>1</td><td>2</td><td>normal</td><td>0</td></tr><tr><td>57</td><td>1</td><td>0</td><td>130</td><td>131</td><td>0</td><td>1</td><td>115</td><td>1</td><td>1.2</td><td>1</td><td>1</td><td>normal</td><td>0</td></tr><tr><td>57</td><td>0</td><td>1</td><td>130</td><td>236</td><td>0</td><td>0</td><td>174</td><td>0</td><td>0.0</td><td>1</td><td>1</td><td>2</td><td>0</td></tr><tr><td>40</td><td>1</td><td>1</td><td>140</td><td>199</td><td>0</td><td>0</td><td>178</td><td>1</td><td>1.4</td><td>1</td><td>0</td><td>reversible</td><td>0</td></tr><tr><td>71</td><td>0</td><td>2</td><td>160</td><td>302</td><td>0</td><td>0</td><td>162</td><td>0</td><td>0.4</td><td>1</td><td>2</td><td>normal</td><td>0</td></tr><tr><td>59</td><td>1</td><td>3</td><td>150</td><td>212</td><td>1</td><td>0</td><td>157</td><td>0</td><td>1.6</td><td>1</td><td>0</td><td>normal</td><td>0</td></tr><tr><td>61</td><td>0</td><td>4</td><td>130</td><td>330</td><td>0</td><td>2</td><td>169</td><td>0</td><td>0.0</td><td>1</td><td>0</td><td>normal</td><td>0</td></tr><tr><td>58</td><td>1</td><td>3</td><td>112</td><td>230</td><td>0</td><td>2</td><td>165</td><td>0</td><td>2.5</td><td>2</td><td>1</td><td>reversible</td><td>1</td></tr><tr><td>51</td><td>1</td><td>3</td><td>110</td><td>175</td><td>0</td><td>0</td><td>123</td><td>0</td><td>0.6</td><td>1</td><td>0</td><td>normal</td><td>0</td></tr><tr><td>50</td><td>1</td><td>4</td><td>150</td><td>243</td><td>0</td><td>2</td><td>128</td><td>0</td><td>2.6</td><td>2</td><td>0</td><td>reversible</td><td>1</td></tr><tr><td>65</td><td>0</td><td>3</td><td>140</td><td>417</td><td>1</td><td>2</td><td>157</td><td>0</td><td>0.8</td><td>1</td><td>1</td><td>normal</td><td>0</td></tr><tr><td>53</td><td>1</td><td>3</td><td>130</td><td>197</td><td>1</td><td>2</td><td>152</td><td>0</td><td>1.2</td><td>3</td><td>0</td><td>normal</td><td>0</td></tr><tr><td>41</td><td>0</td><td>2</td><td>105</td><td>198</td><td>0</td><td>0</td><td>168</td><td>0</td><td>0.0</td><td>1</td><td>1</td><td>normal</td><td>0</td></tr><tr><td>65</td><td>1</td><td>4</td><td>120</td><td>177</td><td>0</td><td>0</td><td>140</td><td>0</td><td>0.4</td><td>1</td><td>0</td><td>reversible</td><td>0</td></tr><tr><td>44</td><td>1</td><td>4</td><td>112</td><td>290</td><td>0</td><td>2</td><td>153</td><td>0</td><td>0.0</td><td>1</td><td>1</td><td>normal</td><td>1</td></tr><tr><td>44</td><td>1</td><td>2</td><td>130</td><td>219</td><td>0</td><td>2</td><td>188</td><td>0</td><td>0.0</td><td>1</td><td>0</td><td>normal</td><td>0</td></tr><tr><td>60</td><td>1</td><td>4</td><td>130</td><td>253</td><td>0</td><td>0</td><td>144</td><td>1</td><td>1.4</td><td>1</td><td>1</td><td>reversible</td><td>0</td></tr><tr><td>54</td><td>1</td><td>4</td><td>124</td><td>266</td><td>0</td><td>2</td><td>109</td><td>1</td><td>2.2</td><td>2</td><td>1</td><td>reversible</td><td>0</td></tr><tr><td>50</td><td>1</td><td>3</td><td>140</td><td>233</td><td>0</td><td>0</td><td>163</td><td>0</td><td>0.6</td><td>2</td><td>1</td><td>reversible</td><td>0</td></tr><tr><td>41</td><td>1</td><td>4</td><td>110</td><td>172</td><td>0</td><td>2</td><td>158</td><td>0</td><td>0.0</td><td>1</td><td>0</td><td>reversible</td><td>0</td></tr><tr><td>54</td><td>1</td><td>3</td><td>125</td><td>273</td><td>0</td><td>2</td><td>152</td><td>0</td><td>0.5</td><td>3</td><td>1</td><td>normal</td><td>0</td></tr><tr><td>51</td><td>1</td><td>1</td><td>125</td><td>213</td><td>0</td><td>2</td><td>125</td><td>1</td><td>1.4</td><td>1</td><td>1</td><td>normal</td><td>0</td></tr><tr><td>51</td><td>0</td><td>4</td><td>130</td><td>305</td><td>0</td><td>0</td><td>142</td><td>1</td><td>1.2</td><td>2</td><td>0</td><td>reversible</td><td>1</td></tr><tr><td>46</td><td>0</td><td>3</td><td>142</td><td>177</td><td>0</td><td>2</td><td>160</td><td>1</td><td>1.4</td><td>3</td><td>0</td><td>normal</td><td>0</td></tr><tr><td>58</td><td>1</td><td>4</td><td>128</td><td>216</td><td>0</td><td>2</td><td>131</td><td>1</td><td>2.2</td><td>2</td><td>3</td><td>reversible</td><td>0</td></tr><tr><td>54</td><td>0</td><td>3</td><td>135</td><td>304</td><td>1</td><td>0</td><td>170</td><td>0</td><td>0.0</td><td>1</td><td>0</td><td>normal</td><td>0</td></tr><tr><td>54</td><td>1</td><td>4</td><td>120</td><td>188</td><td>0</td><td>0</td><td>113</td><td>0</td><td>1.4</td><td>2</td><td>1</td><td>reversible</td><td>1</td></tr><tr><td>60</td><td>1</td><td>4</td><td>145</td><td>282</td><td>0</td><td>2</td><td>142</td><td>1</td><td>2.8</td><td>2</td><td>2</td><td>reversible</td><td>1</td></tr><tr><td>60</td><td>1</td><td>3</td><td>140</td><td>185</td><td>0</td><td>2</td><td>155</td><td>0</td><td>3.0</td><td>2</td><td>0</td><td>normal</td><td>0</td></tr><tr><td>54</td><td>1</td><td>3</td><td>150</td><td>232</td><td>0</td><td>2</td><td>165</td><td>0</td><td>1.6</td><td>1</td><td>0</td><td>reversible</td><td>0</td></tr><tr><td>59</td><td>1</td><td>4</td><td>170</td><td>326</td><td>0</td><td>2</td><td>140</td><td>1</td><td>3.4</td><td>3</td><td>0</td><td>reversible</td><td>1</td></tr><tr><td>46</td><td>1</td><td>3</td><td>150</td><td>231</td><td>0</td><td>0</td><td>147</td><td>0</td><td>3.6</td><td>2</td><td>0</td><td>normal</td><td>0</td></tr><tr><td>59</td><td>1</td><td>4</td><td>110</td><td>239</td><td>0</td><td>2</td><td>142</td><td>1</td><td>1.2</td><td>2</td><td>1</td><td>reversible</td><td>1</td></tr><tr><td>60</td><td>0</td><td>4</td><td>150</td><td>258</td><td>0</td><td>2</td><td>157</td><td>0</td><td>2.6</td><td>2</td><td>2</td><td>reversible</td><td>1</td></tr><tr><td>52</td><td>1</td><td>2</td><td>134</td><td>201</td><td>0</td><td>0</td><td>158</td><td>0</td><td>0.8</td><td>1</td><td>1</td><td>normal</td><td>0</td></tr><tr><td>48</td><td>1</td><td>4</td><td>122</td><td>222</td><td>0</td><td>2</td><td>186</td><td>0</td><td>0.0</td><td>1</td><td>0</td><td>normal</td><td>0</td></tr><tr><td>45</td><td>1</td><td>4</td><td>115</td><td>260</td><td>0</td><td>2</td><td>185</td><td>0</td><td>0.0</td><td>1</td><td>0</td><td>normal</td><td>0</td></tr><tr><td>34</td><td>1</td><td>1</td><td>118</td><td>182</td><td>0</td><td>2</td><td>174</td><td>0</td><td>0.0</td><td>1</td><td>0</td><td>normal</td><td>0</td></tr><tr><td>57</td><td>0</td><td>4</td><td>128</td><td>303</td><td>0</td><td>2</td><td>159</td><td>0</td><td>0.0</td><td>1</td><td>1</td><td>normal</td><td>0</td></tr><tr><td>71</td><td>0</td><td>3</td><td>110</td><td>265</td><td>1</td><td>2</td><td>130</td><td>0</td><td>0.0</td><td>1</td><td>1</td><td>normal</td><td>0</td></tr><tr><td>49</td><td>1</td><td>3</td><td>120</td><td>188</td><td>0</td><td>0</td><td>139</td><td>0</td><td>2.0</td><td>2</td><td>3</td><td>reversible</td><td>1</td></tr><tr><td>54</td><td>1</td><td>2</td><td>108</td><td>309</td><td>0</td><td>0</td><td>156</td><td>0</td><td>0.0</td><td>1</td><td>0</td><td>reversible</td><td>0</td></tr><tr><td>59</td><td>1</td><td>4</td><td>140</td><td>177</td><td>0</td><td>0</td><td>162</td><td>1</td><td>0.0</td><td>1</td><td>1</td><td>reversible</td><td>1</td></tr><tr><td>57</td><td>1</td><td>3</td><td>128</td><td>229</td><td>0</td><td>2</td><td>150</td><td>0</td><td>0.4</td><td>2</td><td>1</td><td>reversible</td><td>0</td></tr><tr><td>61</td><td>1</td><td>4</td><td>120</td><td>260</td><td>0</td><td>0</td><td>140</td><td>1</td><td>3.6</td><td>2</td><td>1</td><td>reversible</td><td>1</td></tr><tr><td>39</td><td>1</td><td>4</td><td>118</td><td>219</td><td>0</td><td>0</td><td>140</td><td>0</td><td>1.2</td><td>2</td><td>0</td><td>reversible</td><td>1</td></tr><tr><td>61</td><td>0</td><td>4</td><td>145</td><td>307</td><td>0</td><td>2</td><td>146</td><td>1</td><td>1.0</td><td>2</td><td>0</td><td>reversible</td><td>0</td></tr><tr><td>56</td><td>1</td><td>4</td><td>125</td><td>249</td><td>1</td><td>2</td><td>144</td><td>1</td><td>1.2</td><td>2</td><td>1</td><td>normal</td><td>0</td></tr><tr><td>52</td><td>1</td><td>1</td><td>118</td><td>186</td><td>0</td><td>2</td><td>190</td><td>0</td><td>0.0</td><td>2</td><td>0</td><td>fixed</td><td>0</td></tr><tr><td>43</td><td>0</td><td>4</td><td>132</td><td>341</td><td>1</td><td>2</td><td>136</td><td>1</td><td>3.0</td><td>2</td><td>0</td><td>reversible</td><td>1</td></tr><tr><td>65</td><td>1</td><td>4</td><td>135</td><td>254</td><td>0</td><td>2</td><td>127</td><td>0</td><td>2.8</td><td>2</td><td>1</td><td>reversible</td><td>1</td></tr><tr><td>48</td><td>1</td><td>4</td><td>130</td><td>256</td><td>1</td><td>2</td><td>150</td><td>1</td><td>0.0</td><td>1</td><td>2</td><td>reversible</td><td>1</td></tr><tr><td>63</td><td>0</td><td>4</td><td>150</td><td>407</td><td>0</td><td>2</td><td>154</td><td>0</td><td>4.0</td><td>2</td><td>3</td><td>reversible</td><td>1</td></tr></tbody></table></div>"
      ]
     },
     "metadata": {
      "application/vnd.databricks.v1+output": {
       "addedWidgets": {},
       "aggData": [],
       "aggError": "",
       "aggOverflow": false,
       "aggSchema": [],
       "aggSeriesLimitReached": false,
       "aggType": "",
       "arguments": {},
       "columnCustomDisplayInfos": {},
       "data": [
        [
         63,
         1,
         1,
         145,
         233,
         1,
         2,
         150,
         0,
         2.3,
         3,
         0,
         "fixed",
         0
        ],
        [
         67,
         1,
         4,
         160,
         286,
         0,
         2,
         108,
         1,
         1.5,
         2,
         3,
         "normal",
         1
        ],
        [
         67,
         1,
         4,
         120,
         229,
         0,
         2,
         129,
         1,
         2.6,
         2,
         2,
         "reversible",
         0
        ],
        [
         37,
         1,
         3,
         130,
         250,
         0,
         0,
         187,
         0,
         3.5,
         3,
         0,
         "normal",
         0
        ],
        [
         41,
         0,
         2,
         130,
         204,
         0,
         2,
         172,
         0,
         1.4,
         1,
         0,
         "normal",
         0
        ],
        [
         56,
         1,
         2,
         120,
         236,
         0,
         0,
         178,
         0,
         0.8,
         1,
         0,
         "normal",
         0
        ],
        [
         62,
         0,
         4,
         140,
         268,
         0,
         2,
         160,
         0,
         3.6,
         3,
         2,
         "normal",
         1
        ],
        [
         57,
         0,
         4,
         120,
         354,
         0,
         0,
         163,
         1,
         0.6,
         1,
         0,
         "normal",
         0
        ],
        [
         63,
         1,
         4,
         130,
         254,
         0,
         2,
         147,
         0,
         1.4,
         2,
         1,
         "reversible",
         1
        ],
        [
         53,
         1,
         4,
         140,
         203,
         1,
         2,
         155,
         1,
         3.1,
         3,
         0,
         "reversible",
         0
        ],
        [
         57,
         1,
         4,
         140,
         192,
         0,
         0,
         148,
         0,
         0.4,
         2,
         0,
         "fixed",
         0
        ],
        [
         56,
         0,
         2,
         140,
         294,
         0,
         2,
         153,
         0,
         1.3,
         2,
         0,
         "normal",
         0
        ],
        [
         56,
         1,
         3,
         130,
         256,
         1,
         2,
         142,
         1,
         0.6,
         2,
         1,
         "fixed",
         1
        ],
        [
         44,
         1,
         2,
         120,
         263,
         0,
         0,
         173,
         0,
         0,
         1,
         0,
         "reversible",
         0
        ],
        [
         52,
         1,
         3,
         172,
         199,
         1,
         0,
         162,
         0,
         0.5,
         1,
         0,
         "reversible",
         0
        ],
        [
         57,
         1,
         3,
         150,
         168,
         0,
         0,
         174,
         0,
         1.6,
         1,
         0,
         "normal",
         0
        ],
        [
         48,
         1,
         2,
         110,
         229,
         0,
         0,
         168,
         0,
         1,
         3,
         0,
         "reversible",
         0
        ],
        [
         54,
         1,
         4,
         140,
         239,
         0,
         0,
         160,
         0,
         1.2,
         1,
         0,
         "normal",
         0
        ],
        [
         48,
         0,
         3,
         130,
         275,
         0,
         0,
         139,
         0,
         0.2,
         1,
         0,
         "normal",
         0
        ],
        [
         49,
         1,
         2,
         130,
         266,
         0,
         0,
         171,
         0,
         0.6,
         1,
         0,
         "normal",
         0
        ],
        [
         64,
         1,
         1,
         110,
         211,
         0,
         2,
         144,
         1,
         1.8,
         2,
         0,
         "normal",
         0
        ],
        [
         58,
         0,
         1,
         150,
         283,
         1,
         2,
         162,
         0,
         1,
         1,
         0,
         "normal",
         0
        ],
        [
         58,
         1,
         2,
         120,
         284,
         0,
         2,
         160,
         0,
         1.8,
         2,
         0,
         "normal",
         0
        ],
        [
         58,
         1,
         3,
         132,
         224,
         0,
         2,
         173,
         0,
         3.2,
         1,
         2,
         "reversible",
         1
        ],
        [
         60,
         1,
         4,
         130,
         206,
         0,
         2,
         132,
         1,
         2.4,
         2,
         2,
         "reversible",
         1
        ],
        [
         50,
         0,
         3,
         120,
         219,
         0,
         0,
         158,
         0,
         1.6,
         2,
         0,
         "normal",
         0
        ],
        [
         58,
         0,
         3,
         120,
         340,
         0,
         0,
         172,
         0,
         0,
         1,
         0,
         "normal",
         0
        ],
        [
         66,
         0,
         1,
         150,
         226,
         0,
         0,
         114,
         0,
         2.6,
         3,
         0,
         "normal",
         0
        ],
        [
         43,
         1,
         4,
         150,
         247,
         0,
         0,
         171,
         0,
         1.5,
         1,
         0,
         "normal",
         0
        ],
        [
         40,
         1,
         4,
         110,
         167,
         0,
         2,
         114,
         1,
         2,
         2,
         0,
         "reversible",
         1
        ],
        [
         69,
         0,
         1,
         140,
         239,
         0,
         0,
         151,
         0,
         1.8,
         1,
         2,
         "normal",
         0
        ],
        [
         60,
         1,
         4,
         117,
         230,
         1,
         0,
         160,
         1,
         1.4,
         1,
         2,
         "reversible",
         1
        ],
        [
         64,
         1,
         3,
         140,
         335,
         0,
         0,
         158,
         0,
         0,
         1,
         0,
         "normal",
         0
        ],
        [
         59,
         1,
         4,
         135,
         234,
         0,
         0,
         161,
         0,
         0.5,
         2,
         0,
         "reversible",
         0
        ],
        [
         44,
         1,
         3,
         130,
         233,
         0,
         0,
         179,
         1,
         0.4,
         1,
         0,
         "normal",
         0
        ],
        [
         42,
         1,
         4,
         140,
         226,
         0,
         0,
         178,
         0,
         0,
         1,
         0,
         "normal",
         0
        ],
        [
         43,
         1,
         4,
         120,
         177,
         0,
         2,
         120,
         1,
         2.5,
         2,
         0,
         "reversible",
         1
        ],
        [
         57,
         1,
         4,
         150,
         276,
         0,
         2,
         112,
         1,
         0.6,
         2,
         1,
         "fixed",
         0
        ],
        [
         55,
         1,
         4,
         132,
         353,
         0,
         0,
         132,
         1,
         1.2,
         2,
         1,
         "reversible",
         1
        ],
        [
         61,
         1,
         3,
         150,
         243,
         1,
         0,
         137,
         1,
         1,
         2,
         0,
         "normal",
         0
        ],
        [
         65,
         0,
         4,
         150,
         225,
         0,
         2,
         114,
         0,
         1,
         2,
         3,
         "reversible",
         1
        ],
        [
         65,
         0,
         3,
         155,
         269,
         0,
         0,
         148,
         0,
         0.8,
         1,
         0,
         "normal",
         0
        ],
        [
         67,
         1,
         4,
         125,
         254,
         1,
         0,
         163,
         0,
         0.2,
         2,
         2,
         "reversible",
         1
        ],
        [
         62,
         1,
         4,
         120,
         267,
         0,
         0,
         99,
         1,
         1.8,
         2,
         2,
         "reversible",
         0
        ],
        [
         65,
         1,
         4,
         110,
         248,
         0,
         2,
         158,
         0,
         0.6,
         1,
         2,
         "fixed",
         0
        ],
        [
         44,
         1,
         4,
         110,
         197,
         0,
         2,
         177,
         0,
         0,
         1,
         1,
         "normal",
         0
        ],
        [
         65,
         0,
         3,
         160,
         360,
         0,
         2,
         151,
         0,
         0.8,
         1,
         0,
         "normal",
         0
        ],
        [
         60,
         1,
         4,
         125,
         258,
         0,
         2,
         141,
         1,
         2.8,
         2,
         1,
         "reversible",
         0
        ],
        [
         51,
         0,
         3,
         140,
         308,
         0,
         2,
         142,
         0,
         1.5,
         1,
         1,
         "normal",
         0
        ],
        [
         48,
         1,
         2,
         130,
         245,
         0,
         2,
         180,
         0,
         0.2,
         2,
         0,
         "normal",
         0
        ],
        [
         58,
         1,
         4,
         150,
         270,
         0,
         2,
         111,
         1,
         0.8,
         1,
         0,
         "reversible",
         1
        ],
        [
         45,
         1,
         4,
         104,
         208,
         0,
         2,
         148,
         1,
         3,
         2,
         0,
         "normal",
         0
        ],
        [
         53,
         0,
         4,
         130,
         264,
         0,
         2,
         143,
         0,
         0.4,
         2,
         0,
         "normal",
         0
        ],
        [
         39,
         1,
         3,
         140,
         321,
         0,
         2,
         182,
         0,
         0,
         1,
         0,
         "normal",
         0
        ],
        [
         68,
         1,
         3,
         180,
         274,
         1,
         2,
         150,
         1,
         1.6,
         2,
         0,
         "reversible",
         1
        ],
        [
         52,
         1,
         2,
         120,
         325,
         0,
         0,
         172,
         0,
         0.2,
         1,
         0,
         "normal",
         0
        ],
        [
         44,
         1,
         3,
         140,
         235,
         0,
         2,
         180,
         0,
         0,
         1,
         0,
         "normal",
         0
        ],
        [
         47,
         1,
         3,
         138,
         257,
         0,
         2,
         156,
         0,
         0,
         1,
         0,
         "normal",
         0
        ],
        [
         53,
         0,
         4,
         138,
         234,
         0,
         2,
         160,
         0,
         0,
         1,
         0,
         "normal",
         0
        ],
        [
         51,
         0,
         3,
         130,
         256,
         0,
         2,
         149,
         0,
         0.5,
         1,
         0,
         "normal",
         0
        ],
        [
         66,
         1,
         4,
         120,
         302,
         0,
         2,
         151,
         0,
         0.4,
         2,
         0,
         "normal",
         0
        ],
        [
         62,
         0,
         4,
         160,
         164,
         0,
         2,
         145,
         0,
         6.2,
         3,
         3,
         "reversible",
         1
        ],
        [
         62,
         1,
         3,
         130,
         231,
         0,
         0,
         146,
         0,
         1.8,
         2,
         3,
         "reversible",
         0
        ],
        [
         44,
         0,
         3,
         108,
         141,
         0,
         0,
         175,
         0,
         0.6,
         2,
         0,
         "normal",
         0
        ],
        [
         63,
         0,
         3,
         135,
         252,
         0,
         2,
         172,
         0,
         0,
         1,
         0,
         "normal",
         0
        ],
        [
         52,
         1,
         4,
         128,
         255,
         0,
         0,
         161,
         1,
         0,
         1,
         1,
         "reversible",
         0
        ],
        [
         62,
         0,
         3,
         130,
         263,
         0,
         0,
         97,
         0,
         1.2,
         2,
         1,
         "reversible",
         1
        ],
        [
         41,
         1,
         2,
         135,
         203,
         0,
         0,
         132,
         0,
         0,
         2,
         0,
         "fixed",
         0
        ],
        [
         58,
         1,
         3,
         140,
         211,
         1,
         2,
         165,
         0,
         0,
         1,
         0,
         "normal",
         0
        ],
        [
         35,
         0,
         4,
         138,
         183,
         0,
         0,
         182,
         0,
         1.4,
         1,
         0,
         "normal",
         0
        ],
        [
         63,
         1,
         4,
         130,
         330,
         1,
         2,
         132,
         1,
         1.8,
         1,
         3,
         "reversible",
         1
        ],
        [
         51,
         1,
         3,
         100,
         222,
         0,
         0,
         143,
         1,
         1.2,
         2,
         0,
         "normal",
         0
        ],
        [
         55,
         1,
         4,
         140,
         217,
         0,
         0,
         111,
         1,
         5.6,
         3,
         0,
         "reversible",
         1
        ],
        [
         65,
         1,
         1,
         138,
         282,
         1,
         2,
         174,
         0,
         1.4,
         2,
         1,
         "normal",
         0
        ],
        [
         45,
         0,
         2,
         130,
         234,
         0,
         2,
         175,
         0,
         0.6,
         2,
         0,
         "normal",
         0
        ],
        [
         56,
         0,
         4,
         200,
         288,
         1,
         2,
         133,
         1,
         4,
         3,
         2,
         "reversible",
         1
        ],
        [
         54,
         1,
         4,
         110,
         239,
         0,
         0,
         126,
         1,
         2.8,
         2,
         1,
         "reversible",
         1
        ],
        [
         44,
         1,
         2,
         120,
         220,
         0,
         0,
         170,
         0,
         0,
         1,
         0,
         "normal",
         0
        ],
        [
         62,
         0,
         4,
         124,
         209,
         0,
         0,
         163,
         0,
         0,
         1,
         0,
         "normal",
         0
        ],
        [
         54,
         1,
         3,
         120,
         258,
         0,
         2,
         147,
         0,
         0.4,
         2,
         0,
         "reversible",
         0
        ],
        [
         51,
         1,
         3,
         94,
         227,
         0,
         0,
         154,
         1,
         0,
         1,
         1,
         "reversible",
         0
        ],
        [
         29,
         1,
         2,
         130,
         204,
         0,
         2,
         202,
         0,
         0,
         1,
         0,
         "normal",
         0
        ],
        [
         51,
         1,
         4,
         140,
         261,
         0,
         2,
         186,
         1,
         0,
         1,
         0,
         "normal",
         0
        ],
        [
         43,
         0,
         3,
         122,
         213,
         0,
         0,
         165,
         0,
         0.2,
         2,
         0,
         "normal",
         0
        ],
        [
         55,
         0,
         2,
         135,
         250,
         0,
         2,
         161,
         0,
         1.4,
         2,
         0,
         "normal",
         0
        ],
        [
         70,
         1,
         4,
         145,
         174,
         0,
         0,
         125,
         1,
         2.6,
         3,
         0,
         "reversible",
         1
        ],
        [
         62,
         1,
         2,
         120,
         281,
         0,
         2,
         103,
         0,
         1.4,
         2,
         1,
         "reversible",
         1
        ],
        [
         35,
         1,
         4,
         120,
         198,
         0,
         0,
         130,
         1,
         1.6,
         2,
         0,
         "reversible",
         0
        ],
        [
         51,
         1,
         3,
         125,
         245,
         1,
         2,
         166,
         0,
         2.4,
         2,
         0,
         "normal",
         0
        ],
        [
         59,
         1,
         2,
         140,
         221,
         0,
         0,
         164,
         1,
         0,
         1,
         0,
         "normal",
         0
        ],
        [
         59,
         1,
         1,
         170,
         288,
         0,
         2,
         159,
         0,
         0.2,
         2,
         0,
         "reversible",
         0
        ],
        [
         52,
         1,
         2,
         128,
         205,
         1,
         0,
         184,
         0,
         0,
         1,
         0,
         "normal",
         0
        ],
        [
         64,
         1,
         3,
         125,
         309,
         0,
         0,
         131,
         1,
         1.8,
         2,
         0,
         "reversible",
         0
        ],
        [
         58,
         1,
         3,
         105,
         240,
         0,
         2,
         154,
         1,
         0.6,
         2,
         0,
         "reversible",
         0
        ],
        [
         47,
         1,
         3,
         108,
         243,
         0,
         0,
         152,
         0,
         0,
         1,
         0,
         "normal",
         0
        ],
        [
         57,
         1,
         4,
         165,
         289,
         1,
         2,
         124,
         0,
         1,
         2,
         3,
         "reversible",
         1
        ],
        [
         41,
         1,
         3,
         112,
         250,
         0,
         0,
         179,
         0,
         0,
         1,
         0,
         "normal",
         0
        ],
        [
         45,
         1,
         2,
         128,
         308,
         0,
         2,
         170,
         0,
         0,
         1,
         0,
         "normal",
         0
        ],
        [
         60,
         0,
         3,
         102,
         318,
         0,
         0,
         160,
         0,
         0,
         1,
         1,
         "normal",
         0
        ],
        [
         52,
         1,
         1,
         152,
         298,
         1,
         0,
         178,
         0,
         1.2,
         2,
         0,
         "reversible",
         0
        ],
        [
         42,
         0,
         4,
         102,
         265,
         0,
         2,
         122,
         0,
         0.6,
         2,
         0,
         "normal",
         0
        ],
        [
         67,
         0,
         3,
         115,
         564,
         0,
         2,
         160,
         0,
         1.6,
         2,
         0,
         "reversible",
         0
        ],
        [
         55,
         1,
         4,
         160,
         289,
         0,
         2,
         145,
         1,
         0.8,
         2,
         1,
         "reversible",
         1
        ],
        [
         64,
         1,
         4,
         120,
         246,
         0,
         2,
         96,
         1,
         2.2,
         3,
         1,
         "normal",
         1
        ],
        [
         70,
         1,
         4,
         130,
         322,
         0,
         2,
         109,
         0,
         2.4,
         2,
         3,
         "normal",
         0
        ],
        [
         51,
         1,
         4,
         140,
         299,
         0,
         0,
         173,
         1,
         1.6,
         1,
         0,
         "reversible",
         0
        ],
        [
         58,
         1,
         4,
         125,
         300,
         0,
         2,
         171,
         0,
         0,
         1,
         2,
         "reversible",
         0
        ],
        [
         60,
         1,
         4,
         140,
         293,
         0,
         2,
         170,
         0,
         1.2,
         2,
         2,
         "reversible",
         1
        ],
        [
         68,
         1,
         3,
         118,
         277,
         0,
         0,
         151,
         0,
         1,
         1,
         1,
         "reversible",
         0
        ],
        [
         46,
         1,
         2,
         101,
         197,
         1,
         0,
         156,
         0,
         0,
         1,
         0,
         "reversible",
         0
        ],
        [
         77,
         1,
         4,
         125,
         304,
         0,
         2,
         162,
         1,
         0,
         1,
         3,
         "normal",
         1
        ],
        [
         54,
         0,
         3,
         110,
         214,
         0,
         0,
         158,
         0,
         1.6,
         2,
         0,
         "normal",
         0
        ],
        [
         58,
         0,
         4,
         100,
         248,
         0,
         2,
         122,
         0,
         1,
         2,
         0,
         "normal",
         0
        ],
        [
         48,
         1,
         3,
         124,
         255,
         1,
         0,
         175,
         0,
         0,
         1,
         2,
         "normal",
         0
        ],
        [
         57,
         1,
         4,
         132,
         207,
         0,
         0,
         168,
         1,
         0,
         1,
         0,
         "reversible",
         0
        ],
        [
         54,
         0,
         2,
         132,
         288,
         1,
         2,
         159,
         1,
         0,
         1,
         1,
         "normal",
         0
        ],
        [
         35,
         1,
         4,
         126,
         282,
         0,
         2,
         156,
         1,
         0,
         1,
         0,
         "reversible",
         0
        ],
        [
         45,
         0,
         2,
         112,
         160,
         0,
         0,
         138,
         0,
         0,
         2,
         0,
         "normal",
         0
        ],
        [
         70,
         1,
         3,
         160,
         269,
         0,
         0,
         112,
         1,
         2.9,
         2,
         1,
         "reversible",
         1
        ],
        [
         53,
         1,
         4,
         142,
         226,
         0,
         2,
         111,
         1,
         0,
         1,
         0,
         "reversible",
         0
        ],
        [
         59,
         0,
         4,
         174,
         249,
         0,
         0,
         143,
         1,
         0,
         2,
         0,
         "normal",
         0
        ],
        [
         62,
         0,
         4,
         140,
         394,
         0,
         2,
         157,
         0,
         1.2,
         2,
         0,
         "normal",
         0
        ],
        [
         64,
         1,
         4,
         145,
         212,
         0,
         2,
         132,
         0,
         2,
         2,
         2,
         "fixed",
         1
        ],
        [
         57,
         1,
         4,
         152,
         274,
         0,
         0,
         88,
         1,
         1.2,
         2,
         1,
         "reversible",
         0
        ],
        [
         52,
         1,
         4,
         108,
         233,
         1,
         0,
         147,
         0,
         0.1,
         1,
         3,
         "reversible",
         0
        ],
        [
         56,
         1,
         4,
         132,
         184,
         0,
         2,
         105,
         1,
         2.1,
         2,
         1,
         "fixed",
         0
        ],
        [
         43,
         1,
         3,
         130,
         315,
         0,
         0,
         162,
         0,
         1.9,
         1,
         1,
         "normal",
         0
        ],
        [
         53,
         1,
         3,
         130,
         246,
         1,
         2,
         173,
         0,
         0,
         1,
         3,
         "normal",
         0
        ],
        [
         48,
         1,
         4,
         124,
         274,
         0,
         2,
         166,
         0,
         0.5,
         2,
         0,
         "reversible",
         1
        ],
        [
         56,
         0,
         4,
         134,
         409,
         0,
         2,
         150,
         1,
         1.9,
         2,
         2,
         "reversible",
         1
        ],
        [
         42,
         1,
         1,
         148,
         244,
         0,
         2,
         178,
         0,
         0.8,
         1,
         2,
         "normal",
         0
        ],
        [
         59,
         1,
         1,
         178,
         270,
         0,
         2,
         145,
         0,
         4.2,
         3,
         0,
         "reversible",
         0
        ],
        [
         60,
         0,
         4,
         158,
         305,
         0,
         2,
         161,
         0,
         0,
         1,
         0,
         "normal",
         0
        ],
        [
         63,
         0,
         2,
         140,
         195,
         0,
         0,
         179,
         0,
         0,
         1,
         2,
         "normal",
         0
        ],
        [
         42,
         1,
         3,
         120,
         240,
         1,
         0,
         194,
         0,
         0.8,
         3,
         0,
         "reversible",
         0
        ],
        [
         66,
         1,
         2,
         160,
         246,
         0,
         0,
         120,
         1,
         0,
         2,
         3,
         "fixed",
         1
        ],
        [
         54,
         1,
         2,
         192,
         283,
         0,
         2,
         195,
         0,
         0,
         1,
         1,
         "reversible",
         0
        ],
        [
         69,
         1,
         3,
         140,
         254,
         0,
         2,
         146,
         0,
         2,
         2,
         3,
         "reversible",
         1
        ],
        [
         50,
         1,
         3,
         129,
         196,
         0,
         0,
         163,
         0,
         0,
         1,
         0,
         "normal",
         0
        ],
        [
         51,
         1,
         4,
         140,
         298,
         0,
         0,
         122,
         1,
         4.2,
         2,
         3,
         "reversible",
         1
        ],
        [
         62,
         0,
         4,
         138,
         294,
         1,
         0,
         106,
         0,
         1.9,
         2,
         3,
         "normal",
         1
        ],
        [
         68,
         0,
         3,
         120,
         211,
         0,
         2,
         115,
         0,
         1.5,
         2,
         0,
         "normal",
         0
        ],
        [
         67,
         1,
         4,
         100,
         299,
         0,
         2,
         125,
         1,
         0.9,
         2,
         2,
         "normal",
         1
        ],
        [
         69,
         1,
         1,
         160,
         234,
         1,
         2,
         131,
         0,
         0.1,
         2,
         1,
         "normal",
         0
        ],
        [
         45,
         0,
         4,
         138,
         236,
         0,
         2,
         152,
         1,
         0.2,
         2,
         0,
         "normal",
         0
        ],
        [
         50,
         0,
         2,
         120,
         244,
         0,
         0,
         162,
         0,
         1.1,
         1,
         0,
         "normal",
         0
        ],
        [
         59,
         1,
         1,
         160,
         273,
         0,
         2,
         125,
         0,
         0,
         1,
         0,
         "normal",
         0
        ],
        [
         50,
         0,
         4,
         110,
         254,
         0,
         2,
         159,
         0,
         0,
         1,
         0,
         "normal",
         0
        ],
        [
         64,
         0,
         4,
         180,
         325,
         0,
         0,
         154,
         1,
         0,
         1,
         0,
         "normal",
         0
        ],
        [
         57,
         1,
         3,
         150,
         126,
         1,
         0,
         173,
         0,
         0.2,
         1,
         1,
         "reversible",
         0
        ],
        [
         64,
         0,
         3,
         140,
         313,
         0,
         0,
         133,
         0,
         0.2,
         1,
         0,
         "reversible",
         0
        ],
        [
         43,
         1,
         4,
         110,
         211,
         0,
         0,
         161,
         0,
         0,
         1,
         0,
         "reversible",
         0
        ],
        [
         45,
         1,
         4,
         142,
         309,
         0,
         2,
         147,
         1,
         0,
         2,
         3,
         "reversible",
         1
        ],
        [
         58,
         1,
         4,
         128,
         259,
         0,
         2,
         130,
         1,
         3,
         2,
         2,
         "reversible",
         1
        ],
        [
         50,
         1,
         4,
         144,
         200,
         0,
         2,
         126,
         1,
         0.9,
         2,
         0,
         "reversible",
         1
        ],
        [
         55,
         1,
         2,
         130,
         262,
         0,
         0,
         155,
         0,
         0,
         1,
         0,
         "normal",
         0
        ],
        [
         62,
         0,
         4,
         150,
         244,
         0,
         0,
         154,
         1,
         1.4,
         2,
         0,
         "normal",
         0
        ],
        [
         37,
         0,
         3,
         120,
         215,
         0,
         0,
         170,
         0,
         0,
         1,
         0,
         "normal",
         0
        ],
        [
         38,
         1,
         1,
         120,
         231,
         0,
         0,
         182,
         1,
         3.8,
         2,
         0,
         "reversible",
         1
        ],
        [
         41,
         1,
         3,
         130,
         214,
         0,
         2,
         168,
         0,
         2,
         2,
         0,
         "normal",
         0
        ],
        [
         66,
         0,
         4,
         178,
         228,
         1,
         0,
         165,
         1,
         1,
         2,
         2,
         "reversible",
         1
        ],
        [
         52,
         1,
         4,
         112,
         230,
         0,
         0,
         160,
         0,
         0,
         1,
         1,
         "normal",
         0
        ],
        [
         56,
         1,
         1,
         120,
         193,
         0,
         2,
         162,
         0,
         1.9,
         2,
         0,
         "reversible",
         0
        ],
        [
         46,
         0,
         2,
         105,
         204,
         0,
         0,
         172,
         0,
         0,
         1,
         0,
         "normal",
         0
        ],
        [
         46,
         0,
         4,
         138,
         243,
         0,
         2,
         152,
         1,
         0,
         2,
         0,
         "normal",
         0
        ],
        [
         64,
         0,
         4,
         130,
         303,
         0,
         0,
         122,
         0,
         2,
         2,
         2,
         "normal",
         0
        ],
        [
         59,
         1,
         4,
         138,
         271,
         0,
         2,
         182,
         0,
         0,
         1,
         0,
         "normal",
         0
        ],
        [
         41,
         0,
         3,
         112,
         268,
         0,
         2,
         172,
         1,
         0,
         1,
         0,
         "normal",
         0
        ],
        [
         54,
         0,
         3,
         108,
         267,
         0,
         2,
         167,
         0,
         0,
         1,
         0,
         "normal",
         0
        ],
        [
         39,
         0,
         3,
         94,
         199,
         0,
         0,
         179,
         0,
         0,
         1,
         0,
         "normal",
         0
        ],
        [
         53,
         1,
         4,
         123,
         282,
         0,
         0,
         95,
         1,
         2,
         2,
         2,
         "reversible",
         1
        ],
        [
         63,
         0,
         4,
         108,
         269,
         0,
         0,
         169,
         1,
         1.8,
         2,
         2,
         "normal",
         0
        ],
        [
         34,
         0,
         2,
         118,
         210,
         0,
         0,
         192,
         0,
         0.7,
         1,
         0,
         "normal",
         0
        ],
        [
         47,
         1,
         4,
         112,
         204,
         0,
         0,
         143,
         0,
         0.1,
         1,
         0,
         "normal",
         0
        ],
        [
         67,
         0,
         3,
         152,
         277,
         0,
         0,
         172,
         0,
         0,
         1,
         1,
         "normal",
         0
        ],
        [
         54,
         1,
         4,
         110,
         206,
         0,
         2,
         108,
         1,
         0,
         2,
         1,
         "normal",
         1
        ],
        [
         66,
         1,
         4,
         112,
         212,
         0,
         2,
         132,
         1,
         0.1,
         1,
         1,
         "normal",
         1
        ],
        [
         52,
         0,
         3,
         136,
         196,
         0,
         2,
         169,
         0,
         0.1,
         2,
         0,
         "normal",
         0
        ],
        [
         55,
         0,
         4,
         180,
         327,
         0,
         1,
         117,
         1,
         3.4,
         2,
         0,
         "normal",
         1
        ],
        [
         49,
         1,
         3,
         118,
         149,
         0,
         2,
         126,
         0,
         0.8,
         1,
         3,
         "normal",
         0
        ],
        [
         74,
         0,
         2,
         120,
         269,
         0,
         2,
         121,
         1,
         0.2,
         1,
         1,
         "normal",
         0
        ],
        [
         54,
         0,
         3,
         160,
         201,
         0,
         0,
         163,
         0,
         0,
         1,
         1,
         "normal",
         0
        ],
        [
         54,
         1,
         4,
         122,
         286,
         0,
         2,
         116,
         1,
         3.2,
         2,
         2,
         "normal",
         1
        ],
        [
         56,
         1,
         4,
         130,
         283,
         1,
         2,
         103,
         1,
         1.6,
         3,
         0,
         "reversible",
         1
        ],
        [
         46,
         1,
         4,
         120,
         249,
         0,
         2,
         144,
         0,
         0.8,
         1,
         0,
         "reversible",
         0
        ],
        [
         49,
         0,
         2,
         134,
         271,
         0,
         0,
         162,
         0,
         0,
         2,
         0,
         "normal",
         0
        ],
        [
         42,
         1,
         2,
         120,
         295,
         0,
         0,
         162,
         0,
         0,
         1,
         0,
         "normal",
         0
        ],
        [
         41,
         1,
         2,
         110,
         235,
         0,
         0,
         153,
         0,
         0,
         1,
         0,
         "normal",
         0
        ],
        [
         41,
         0,
         2,
         126,
         306,
         0,
         0,
         163,
         0,
         0,
         1,
         0,
         "normal",
         0
        ],
        [
         49,
         0,
         4,
         130,
         269,
         0,
         0,
         163,
         0,
         0,
         1,
         0,
         "normal",
         0
        ],
        [
         61,
         1,
         1,
         134,
         234,
         0,
         0,
         145,
         0,
         2.6,
         2,
         2,
         "normal",
         1
        ],
        [
         60,
         0,
         3,
         120,
         178,
         1,
         0,
         96,
         0,
         0,
         1,
         0,
         "normal",
         0
        ],
        [
         67,
         1,
         4,
         120,
         237,
         0,
         0,
         71,
         0,
         1,
         2,
         0,
         "normal",
         1
        ],
        [
         58,
         1,
         4,
         100,
         234,
         0,
         0,
         156,
         0,
         0.1,
         1,
         1,
         "reversible",
         1
        ],
        [
         47,
         1,
         4,
         110,
         275,
         0,
         2,
         118,
         1,
         1,
         2,
         1,
         "normal",
         0
        ],
        [
         52,
         1,
         4,
         125,
         212,
         0,
         0,
         168,
         0,
         1,
         1,
         2,
         "reversible",
         1
        ],
        [
         62,
         1,
         2,
         128,
         208,
         1,
         2,
         140,
         0,
         0,
         1,
         0,
         "normal",
         0
        ],
        [
         57,
         1,
         4,
         110,
         201,
         0,
         0,
         126,
         1,
         1.5,
         2,
         0,
         "fixed",
         0
        ],
        [
         58,
         1,
         4,
         146,
         218,
         0,
         0,
         105,
         0,
         2,
         2,
         1,
         "reversible",
         0
        ],
        [
         64,
         1,
         4,
         128,
         263,
         0,
         0,
         105,
         1,
         0.2,
         2,
         1,
         "reversible",
         0
        ],
        [
         51,
         0,
         3,
         120,
         295,
         0,
         2,
         157,
         0,
         0.6,
         1,
         0,
         "normal",
         0
        ],
        [
         43,
         1,
         4,
         115,
         303,
         0,
         0,
         181,
         0,
         1.2,
         2,
         0,
         "normal",
         0
        ],
        [
         42,
         0,
         3,
         120,
         209,
         0,
         0,
         173,
         0,
         0,
         2,
         0,
         "normal",
         0
        ],
        [
         67,
         0,
         4,
         106,
         223,
         0,
         0,
         142,
         0,
         0.3,
         1,
         2,
         "normal",
         0
        ],
        [
         76,
         0,
         3,
         140,
         197,
         0,
         1,
         116,
         0,
         1.1,
         2,
         0,
         "normal",
         0
        ],
        [
         70,
         1,
         2,
         156,
         245,
         0,
         2,
         143,
         0,
         0,
         1,
         0,
         "normal",
         0
        ],
        [
         57,
         1,
         2,
         124,
         261,
         0,
         0,
         141,
         0,
         0.3,
         1,
         0,
         "reversible",
         0
        ],
        [
         44,
         0,
         3,
         118,
         242,
         0,
         0,
         149,
         0,
         0.3,
         2,
         1,
         "normal",
         0
        ],
        [
         58,
         0,
         2,
         136,
         319,
         1,
         2,
         152,
         0,
         0,
         1,
         2,
         "normal",
         1
        ],
        [
         60,
         0,
         1,
         150,
         240,
         0,
         0,
         171,
         0,
         0.9,
         1,
         0,
         "normal",
         0
        ],
        [
         44,
         1,
         3,
         120,
         226,
         0,
         0,
         169,
         0,
         0,
         1,
         0,
         "normal",
         0
        ],
        [
         61,
         1,
         4,
         138,
         166,
         0,
         2,
         125,
         1,
         3.6,
         2,
         1,
         "normal",
         1
        ],
        [
         42,
         1,
         4,
         136,
         315,
         0,
         0,
         125,
         1,
         1.8,
         2,
         0,
         "fixed",
         1
        ],
        [
         59,
         1,
         3,
         126,
         218,
         1,
         0,
         134,
         0,
         2.2,
         2,
         1,
         "fixed",
         1
        ],
        [
         40,
         1,
         4,
         152,
         223,
         0,
         0,
         181,
         0,
         0,
         1,
         0,
         "reversible",
         0
        ],
        [
         42,
         1,
         3,
         130,
         180,
         0,
         0,
         150,
         0,
         0,
         1,
         0,
         "normal",
         0
        ],
        [
         61,
         1,
         4,
         140,
         207,
         0,
         2,
         138,
         1,
         1.9,
         1,
         1,
         "reversible",
         0
        ],
        [
         66,
         1,
         4,
         160,
         228,
         0,
         2,
         138,
         0,
         2.3,
         1,
         0,
         "fixed",
         0
        ],
        [
         46,
         1,
         4,
         140,
         311,
         0,
         0,
         120,
         1,
         1.8,
         2,
         2,
         "reversible",
         1
        ],
        [
         71,
         0,
         4,
         112,
         149,
         0,
         0,
         125,
         0,
         1.6,
         2,
         0,
         "normal",
         0
        ],
        [
         59,
         1,
         1,
         134,
         204,
         0,
         0,
         162,
         0,
         0.8,
         1,
         2,
         "normal",
         0
        ],
        [
         64,
         1,
         1,
         170,
         227,
         0,
         2,
         155,
         0,
         0.6,
         2,
         0,
         "reversible",
         0
        ],
        [
         66,
         0,
         3,
         146,
         278,
         0,
         2,
         152,
         0,
         0,
         2,
         1,
         "normal",
         0
        ],
        [
         39,
         0,
         3,
         138,
         220,
         0,
         0,
         152,
         0,
         0,
         2,
         0,
         "normal",
         0
        ],
        [
         57,
         1,
         2,
         154,
         232,
         0,
         2,
         164,
         0,
         0,
         1,
         1,
         "normal",
         0
        ],
        [
         58,
         0,
         4,
         130,
         197,
         0,
         0,
         131,
         0,
         0.6,
         2,
         0,
         "normal",
         0
        ],
        [
         57,
         1,
         4,
         110,
         335,
         0,
         0,
         143,
         1,
         3,
         2,
         1,
         "reversible",
         1
        ],
        [
         47,
         1,
         3,
         130,
         253,
         0,
         0,
         179,
         0,
         0,
         1,
         0,
         "normal",
         0
        ],
        [
         55,
         0,
         4,
         128,
         205,
         0,
         1,
         130,
         1,
         2,
         2,
         1,
         "reversible",
         1
        ],
        [
         35,
         1,
         2,
         122,
         192,
         0,
         0,
         174,
         0,
         0,
         1,
         0,
         "normal",
         0
        ],
        [
         61,
         1,
         4,
         148,
         203,
         0,
         0,
         161,
         0,
         0,
         1,
         1,
         "reversible",
         1
        ],
        [
         58,
         1,
         4,
         114,
         318,
         0,
         1,
         140,
         0,
         4.4,
         3,
         3,
         "fixed",
         1
        ],
        [
         58,
         0,
         4,
         170,
         225,
         1,
         2,
         146,
         1,
         2.8,
         2,
         2,
         "fixed",
         1
        ],
        [
         56,
         1,
         2,
         130,
         221,
         0,
         2,
         163,
         0,
         0,
         1,
         0,
         "reversible",
         0
        ],
        [
         56,
         1,
         2,
         120,
         240,
         0,
         0,
         169,
         0,
         0,
         3,
         0,
         "normal",
         0
        ],
        [
         67,
         1,
         3,
         152,
         212,
         0,
         2,
         150,
         0,
         0.8,
         2,
         0,
         "reversible",
         0
        ],
        [
         55,
         0,
         2,
         132,
         342,
         0,
         0,
         166,
         0,
         1.2,
         1,
         0,
         "normal",
         0
        ],
        [
         44,
         1,
         4,
         120,
         169,
         0,
         0,
         144,
         1,
         2.8,
         3,
         0,
         "fixed",
         1
        ],
        [
         63,
         1,
         4,
         140,
         187,
         0,
         2,
         144,
         1,
         4,
         1,
         2,
         "reversible",
         1
        ],
        [
         63,
         0,
         4,
         124,
         197,
         0,
         0,
         136,
         1,
         0,
         2,
         0,
         "normal",
         0
        ],
        [
         41,
         1,
         2,
         120,
         157,
         0,
         0,
         182,
         0,
         0,
         1,
         0,
         "normal",
         0
        ],
        [
         59,
         1,
         4,
         164,
         176,
         1,
         2,
         90,
         0,
         1,
         2,
         2,
         "fixed",
         1
        ],
        [
         57,
         0,
         4,
         140,
         241,
         0,
         0,
         123,
         1,
         0.2,
         2,
         0,
         "reversible",
         0
        ],
        [
         45,
         1,
         1,
         110,
         264,
         0,
         0,
         132,
         0,
         1.2,
         2,
         0,
         "reversible",
         0
        ],
        [
         68,
         1,
         4,
         144,
         193,
         1,
         0,
         141,
         0,
         3.4,
         2,
         2,
         "reversible",
         1
        ],
        [
         57,
         1,
         4,
         130,
         131,
         0,
         0,
         115,
         1,
         1.2,
         2,
         1,
         "reversible",
         1
        ],
        [
         57,
         0,
         2,
         130,
         236,
         0,
         2,
         174,
         0,
         0,
         2,
         1,
         "normal",
         0
        ],
        [
         59,
         1,
         0,
         164,
         176,
         1,
         0,
         90,
         0,
         1,
         1,
         2,
         "1",
         0
        ],
        [
         57,
         0,
         0,
         140,
         241,
         0,
         1,
         123,
         1,
         0.2,
         1,
         0,
         "normal",
         0
        ],
        [
         45,
         1,
         3,
         110,
         264,
         0,
         1,
         132,
         0,
         1.2,
         1,
         0,
         "normal",
         0
        ],
        [
         68,
         1,
         0,
         144,
         193,
         1,
         1,
         141,
         0,
         3.4,
         1,
         2,
         "normal",
         0
        ],
        [
         57,
         1,
         0,
         130,
         131,
         0,
         1,
         115,
         1,
         1.2,
         1,
         1,
         "normal",
         0
        ],
        [
         57,
         0,
         1,
         130,
         236,
         0,
         0,
         174,
         0,
         0,
         1,
         1,
         "2",
         0
        ],
        [
         40,
         1,
         1,
         140,
         199,
         0,
         0,
         178,
         1,
         1.4,
         1,
         0,
         "reversible",
         0
        ],
        [
         71,
         0,
         2,
         160,
         302,
         0,
         0,
         162,
         0,
         0.4,
         1,
         2,
         "normal",
         0
        ],
        [
         59,
         1,
         3,
         150,
         212,
         1,
         0,
         157,
         0,
         1.6,
         1,
         0,
         "normal",
         0
        ],
        [
         61,
         0,
         4,
         130,
         330,
         0,
         2,
         169,
         0,
         0,
         1,
         0,
         "normal",
         0
        ],
        [
         58,
         1,
         3,
         112,
         230,
         0,
         2,
         165,
         0,
         2.5,
         2,
         1,
         "reversible",
         1
        ],
        [
         51,
         1,
         3,
         110,
         175,
         0,
         0,
         123,
         0,
         0.6,
         1,
         0,
         "normal",
         0
        ],
        [
         50,
         1,
         4,
         150,
         243,
         0,
         2,
         128,
         0,
         2.6,
         2,
         0,
         "reversible",
         1
        ],
        [
         65,
         0,
         3,
         140,
         417,
         1,
         2,
         157,
         0,
         0.8,
         1,
         1,
         "normal",
         0
        ],
        [
         53,
         1,
         3,
         130,
         197,
         1,
         2,
         152,
         0,
         1.2,
         3,
         0,
         "normal",
         0
        ],
        [
         41,
         0,
         2,
         105,
         198,
         0,
         0,
         168,
         0,
         0,
         1,
         1,
         "normal",
         0
        ],
        [
         65,
         1,
         4,
         120,
         177,
         0,
         0,
         140,
         0,
         0.4,
         1,
         0,
         "reversible",
         0
        ],
        [
         44,
         1,
         4,
         112,
         290,
         0,
         2,
         153,
         0,
         0,
         1,
         1,
         "normal",
         1
        ],
        [
         44,
         1,
         2,
         130,
         219,
         0,
         2,
         188,
         0,
         0,
         1,
         0,
         "normal",
         0
        ],
        [
         60,
         1,
         4,
         130,
         253,
         0,
         0,
         144,
         1,
         1.4,
         1,
         1,
         "reversible",
         0
        ],
        [
         54,
         1,
         4,
         124,
         266,
         0,
         2,
         109,
         1,
         2.2,
         2,
         1,
         "reversible",
         0
        ],
        [
         50,
         1,
         3,
         140,
         233,
         0,
         0,
         163,
         0,
         0.6,
         2,
         1,
         "reversible",
         0
        ],
        [
         41,
         1,
         4,
         110,
         172,
         0,
         2,
         158,
         0,
         0,
         1,
         0,
         "reversible",
         0
        ],
        [
         54,
         1,
         3,
         125,
         273,
         0,
         2,
         152,
         0,
         0.5,
         3,
         1,
         "normal",
         0
        ],
        [
         51,
         1,
         1,
         125,
         213,
         0,
         2,
         125,
         1,
         1.4,
         1,
         1,
         "normal",
         0
        ],
        [
         51,
         0,
         4,
         130,
         305,
         0,
         0,
         142,
         1,
         1.2,
         2,
         0,
         "reversible",
         1
        ],
        [
         46,
         0,
         3,
         142,
         177,
         0,
         2,
         160,
         1,
         1.4,
         3,
         0,
         "normal",
         0
        ],
        [
         58,
         1,
         4,
         128,
         216,
         0,
         2,
         131,
         1,
         2.2,
         2,
         3,
         "reversible",
         0
        ],
        [
         54,
         0,
         3,
         135,
         304,
         1,
         0,
         170,
         0,
         0,
         1,
         0,
         "normal",
         0
        ],
        [
         54,
         1,
         4,
         120,
         188,
         0,
         0,
         113,
         0,
         1.4,
         2,
         1,
         "reversible",
         1
        ],
        [
         60,
         1,
         4,
         145,
         282,
         0,
         2,
         142,
         1,
         2.8,
         2,
         2,
         "reversible",
         1
        ],
        [
         60,
         1,
         3,
         140,
         185,
         0,
         2,
         155,
         0,
         3,
         2,
         0,
         "normal",
         0
        ],
        [
         54,
         1,
         3,
         150,
         232,
         0,
         2,
         165,
         0,
         1.6,
         1,
         0,
         "reversible",
         0
        ],
        [
         59,
         1,
         4,
         170,
         326,
         0,
         2,
         140,
         1,
         3.4,
         3,
         0,
         "reversible",
         1
        ],
        [
         46,
         1,
         3,
         150,
         231,
         0,
         0,
         147,
         0,
         3.6,
         2,
         0,
         "normal",
         0
        ],
        [
         59,
         1,
         4,
         110,
         239,
         0,
         2,
         142,
         1,
         1.2,
         2,
         1,
         "reversible",
         1
        ],
        [
         60,
         0,
         4,
         150,
         258,
         0,
         2,
         157,
         0,
         2.6,
         2,
         2,
         "reversible",
         1
        ],
        [
         52,
         1,
         2,
         134,
         201,
         0,
         0,
         158,
         0,
         0.8,
         1,
         1,
         "normal",
         0
        ],
        [
         48,
         1,
         4,
         122,
         222,
         0,
         2,
         186,
         0,
         0,
         1,
         0,
         "normal",
         0
        ],
        [
         45,
         1,
         4,
         115,
         260,
         0,
         2,
         185,
         0,
         0,
         1,
         0,
         "normal",
         0
        ],
        [
         34,
         1,
         1,
         118,
         182,
         0,
         2,
         174,
         0,
         0,
         1,
         0,
         "normal",
         0
        ],
        [
         57,
         0,
         4,
         128,
         303,
         0,
         2,
         159,
         0,
         0,
         1,
         1,
         "normal",
         0
        ],
        [
         71,
         0,
         3,
         110,
         265,
         1,
         2,
         130,
         0,
         0,
         1,
         1,
         "normal",
         0
        ],
        [
         49,
         1,
         3,
         120,
         188,
         0,
         0,
         139,
         0,
         2,
         2,
         3,
         "reversible",
         1
        ],
        [
         54,
         1,
         2,
         108,
         309,
         0,
         0,
         156,
         0,
         0,
         1,
         0,
         "reversible",
         0
        ],
        [
         59,
         1,
         4,
         140,
         177,
         0,
         0,
         162,
         1,
         0,
         1,
         1,
         "reversible",
         1
        ],
        [
         57,
         1,
         3,
         128,
         229,
         0,
         2,
         150,
         0,
         0.4,
         2,
         1,
         "reversible",
         0
        ],
        [
         61,
         1,
         4,
         120,
         260,
         0,
         0,
         140,
         1,
         3.6,
         2,
         1,
         "reversible",
         1
        ],
        [
         39,
         1,
         4,
         118,
         219,
         0,
         0,
         140,
         0,
         1.2,
         2,
         0,
         "reversible",
         1
        ],
        [
         61,
         0,
         4,
         145,
         307,
         0,
         2,
         146,
         1,
         1,
         2,
         0,
         "reversible",
         0
        ],
        [
         56,
         1,
         4,
         125,
         249,
         1,
         2,
         144,
         1,
         1.2,
         2,
         1,
         "normal",
         0
        ],
        [
         52,
         1,
         1,
         118,
         186,
         0,
         2,
         190,
         0,
         0,
         2,
         0,
         "fixed",
         0
        ],
        [
         43,
         0,
         4,
         132,
         341,
         1,
         2,
         136,
         1,
         3,
         2,
         0,
         "reversible",
         1
        ],
        [
         65,
         1,
         4,
         135,
         254,
         0,
         2,
         127,
         0,
         2.8,
         2,
         1,
         "reversible",
         1
        ],
        [
         48,
         1,
         4,
         130,
         256,
         1,
         2,
         150,
         1,
         0,
         1,
         2,
         "reversible",
         1
        ],
        [
         63,
         0,
         4,
         150,
         407,
         0,
         2,
         154,
         0,
         4,
         2,
         3,
         "reversible",
         1
        ]
       ],
       "datasetInfos": [],
       "dbfsResultPath": null,
       "isJsonSchema": true,
       "metadata": {},
       "overflow": false,
       "plotOptions": {
        "customPlotOptions": {},
        "displayType": "table",
        "pivotAggregation": null,
        "pivotColumns": null,
        "xColumns": null,
        "yColumns": null
       },
       "removedWidgets": [],
       "schema": [
        {
         "metadata": "{}",
         "name": "age",
         "type": "\"long\""
        },
        {
         "metadata": "{}",
         "name": "sex",
         "type": "\"long\""
        },
        {
         "metadata": "{}",
         "name": "cp",
         "type": "\"long\""
        },
        {
         "metadata": "{}",
         "name": "trestbps",
         "type": "\"long\""
        },
        {
         "metadata": "{}",
         "name": "chol",
         "type": "\"long\""
        },
        {
         "metadata": "{}",
         "name": "fbs",
         "type": "\"long\""
        },
        {
         "metadata": "{}",
         "name": "restecg",
         "type": "\"long\""
        },
        {
         "metadata": "{}",
         "name": "thalach",
         "type": "\"long\""
        },
        {
         "metadata": "{}",
         "name": "exang",
         "type": "\"long\""
        },
        {
         "metadata": "{}",
         "name": "oldpeak",
         "type": "\"double\""
        },
        {
         "metadata": "{}",
         "name": "slope",
         "type": "\"long\""
        },
        {
         "metadata": "{}",
         "name": "ca",
         "type": "\"long\""
        },
        {
         "metadata": "{}",
         "name": "thal",
         "type": "\"string\""
        },
        {
         "metadata": "{}",
         "name": "target",
         "type": "\"long\""
        }
       ],
       "type": "table"
      }
     },
     "output_type": "display_data"
    }
   ],
   "source": [
    "import pandas as pd\n",
    "\n",
    "file_url = \"http://storage.googleapis.com/download.tensorflow.org/data/heart.csv\"\n",
    "df = pd.read_csv(file_url)\n",
    "display(df)"
   ]
  },
  {
   "cell_type": "markdown",
   "metadata": {
    "application/vnd.databricks.v1+cell": {
     "inputWidgets": {},
     "nuid": "1f447164-f29e-4942-bb81-f2fcd3d81f20",
     "showTitle": false,
     "title": ""
    }
   },
   "source": [
    "As we can see, some of the variables are categorical. To make it simpler for our model to handle these values, let's use their encoded values:"
   ]
  },
  {
   "cell_type": "code",
   "execution_count": null,
   "metadata": {
    "application/vnd.databricks.v1+cell": {
     "inputWidgets": {},
     "nuid": "639803b1-f5fa-4694-9b6d-5be901aa4a2e",
     "showTitle": false,
     "title": ""
    }
   },
   "outputs": [
    {
     "data": {
      "text/html": [
       "<style scoped>\n",
       "  .ansiout {\n",
       "    display: block;\n",
       "    unicode-bidi: embed;\n",
       "    white-space: pre-wrap;\n",
       "    word-wrap: break-word;\n",
       "    word-break: break-all;\n",
       "    font-family: \"Source Code Pro\", \"Menlo\", monospace;;\n",
       "    font-size: 13px;\n",
       "    color: #555;\n",
       "    margin-left: 4px;\n",
       "    line-height: 19px;\n",
       "  }\n",
       "</style>\n",
       "<div class=\"ansiout\"></div>"
      ]
     },
     "metadata": {
      "application/vnd.databricks.v1+output": {
       "addedWidgets": {},
       "arguments": {},
       "data": "<div class=\"ansiout\"></div>",
       "datasetInfos": [],
       "metadata": {},
       "removedWidgets": [],
       "type": "html"
      }
     },
     "output_type": "display_data"
    }
   ],
   "source": [
    "df[\"thal\"] = df[\"thal\"].astype(\"category\").cat.codes"
   ]
  },
  {
   "cell_type": "markdown",
   "metadata": {
    "application/vnd.databricks.v1+cell": {
     "inputWidgets": {},
     "nuid": "01b9ea99-e3db-42ca-92cf-a5ebfe9c3f07",
     "showTitle": false,
     "title": ""
    }
   },
   "source": [
    "Let's split our dataset in train and test, so we can assess the performance of the model without overfitting the dataset"
   ]
  },
  {
   "cell_type": "code",
   "execution_count": null,
   "metadata": {
    "application/vnd.databricks.v1+cell": {
     "inputWidgets": {},
     "nuid": "e3b187b1-3bb6-4ee8-a252-774df33ad7ea",
     "showTitle": false,
     "title": ""
    }
   },
   "outputs": [
    {
     "data": {
      "text/html": [
       "<style scoped>\n",
       "  .ansiout {\n",
       "    display: block;\n",
       "    unicode-bidi: embed;\n",
       "    white-space: pre-wrap;\n",
       "    word-wrap: break-word;\n",
       "    word-break: break-all;\n",
       "    font-family: \"Source Code Pro\", \"Menlo\", monospace;;\n",
       "    font-size: 13px;\n",
       "    color: #555;\n",
       "    margin-left: 4px;\n",
       "    line-height: 19px;\n",
       "  }\n",
       "</style>\n",
       "<div class=\"ansiout\"></div>"
      ]
     },
     "metadata": {
      "application/vnd.databricks.v1+output": {
       "addedWidgets": {},
       "arguments": {},
       "data": "<div class=\"ansiout\"></div>",
       "datasetInfos": [],
       "metadata": {},
       "removedWidgets": [],
       "type": "html"
      }
     },
     "output_type": "display_data"
    }
   ],
   "source": [
    "from sklearn.model_selection import train_test_split\n",
    "\n",
    "X_train, X_test, y_train, y_test = train_test_split(\n",
    "    df.drop(\"target\", axis=1), df[\"target\"], test_size=0.3\n",
    ")"
   ]
  },
  {
   "cell_type": "markdown",
   "metadata": {
    "application/vnd.databricks.v1+cell": {
     "inputWidgets": {},
     "nuid": "d17da7da-15a0-4d8d-ad9f-fc9ef33e7c3f",
     "showTitle": false,
     "title": ""
    }
   },
   "source": [
    "#### Training a model\n",
    "\n",
    "We are going to use autologging capabilities in MLflow to track parameters and metrics:"
   ]
  },
  {
   "cell_type": "code",
   "execution_count": null,
   "metadata": {
    "application/vnd.databricks.v1+cell": {
     "inputWidgets": {},
     "nuid": "396ab4ff-98e3-4af0-8e9f-03396f43c4eb",
     "showTitle": false,
     "title": ""
    }
   },
   "outputs": [
    {
     "data": {
      "text/html": [
       "<style scoped>\n",
       "  .ansiout {\n",
       "    display: block;\n",
       "    unicode-bidi: embed;\n",
       "    white-space: pre-wrap;\n",
       "    word-wrap: break-word;\n",
       "    word-break: break-all;\n",
       "    font-family: \"Source Code Pro\", \"Menlo\", monospace;;\n",
       "    font-size: 13px;\n",
       "    color: #555;\n",
       "    margin-left: 4px;\n",
       "    line-height: 19px;\n",
       "  }\n",
       "</style>\n",
       "<div class=\"ansiout\"></div>"
      ]
     },
     "metadata": {
      "application/vnd.databricks.v1+output": {
       "addedWidgets": {},
       "arguments": {},
       "data": "<div class=\"ansiout\"></div>",
       "datasetInfos": [],
       "metadata": {},
       "removedWidgets": [],
       "type": "html"
      }
     },
     "output_type": "display_data"
    }
   ],
   "source": [
    "mlflow.xgboost.autolog()"
   ]
  },
  {
   "cell_type": "markdown",
   "metadata": {
    "application/vnd.databricks.v1+cell": {
     "inputWidgets": {},
     "nuid": "ec878b29-2ca7-458c-a4b3-cbbd63e02b43",
     "showTitle": false,
     "title": ""
    }
   },
   "source": [
    "Let's create a simple classifier and train it:"
   ]
  },
  {
   "cell_type": "code",
   "execution_count": null,
   "metadata": {
    "application/vnd.databricks.v1+cell": {
     "inputWidgets": {},
     "nuid": "517c1a55-b89b-41a8-83d8-be312ffe348a",
     "showTitle": false,
     "title": ""
    }
   },
   "outputs": [
    {
     "data": {
      "text/html": [
       "<style scoped>\n",
       "  .ansiout {\n",
       "    display: block;\n",
       "    unicode-bidi: embed;\n",
       "    white-space: pre-wrap;\n",
       "    word-wrap: break-word;\n",
       "    word-break: break-all;\n",
       "    font-family: \"Source Code Pro\", \"Menlo\", monospace;;\n",
       "    font-size: 13px;\n",
       "    color: #555;\n",
       "    margin-left: 4px;\n",
       "    line-height: 19px;\n",
       "  }\n",
       "</style>\n",
       "<div class=\"ansiout\"></div>"
      ]
     },
     "metadata": {
      "application/vnd.databricks.v1+output": {
       "addedWidgets": {},
       "arguments": {},
       "data": "<div class=\"ansiout\"></div>",
       "datasetInfos": [],
       "metadata": {},
       "removedWidgets": [],
       "type": "html"
      }
     },
     "output_type": "display_data"
    }
   ],
   "source": [
    "from xgboost import XGBClassifier\n",
    "from sklearn.metrics import accuracy_score, recall_score\n",
    "\n",
    "model = XGBClassifier(use_label_encoder=False, eval_metric=\"logloss\")"
   ]
  },
  {
   "cell_type": "code",
   "execution_count": null,
   "metadata": {
    "application/vnd.databricks.v1+cell": {
     "inputWidgets": {},
     "nuid": "e684009d-88fa-4b08-9848-cd74f8924e49",
     "showTitle": false,
     "title": ""
    }
   },
   "outputs": [
    {
     "data": {
      "text/html": [
       "<style scoped>\n",
       "  .ansiout {\n",
       "    display: block;\n",
       "    unicode-bidi: embed;\n",
       "    white-space: pre-wrap;\n",
       "    word-wrap: break-word;\n",
       "    word-break: break-all;\n",
       "    font-family: \"Source Code Pro\", \"Menlo\", monospace;;\n",
       "    font-size: 13px;\n",
       "    color: #555;\n",
       "    margin-left: 4px;\n",
       "    line-height: 19px;\n",
       "  }\n",
       "</style>\n",
       "<div class=\"ansiout\"></div>"
      ]
     },
     "metadata": {
      "application/vnd.databricks.v1+output": {
       "addedWidgets": {},
       "arguments": {},
       "data": "<div class=\"ansiout\"></div>",
       "datasetInfos": [],
       "metadata": {},
       "removedWidgets": [],
       "type": "html"
      }
     },
     "output_type": "display_data"
    }
   ],
   "source": [
    "with mlflow.start_run() as run:\n",
    "    model.fit(X_train, y_train, eval_set=[(X_test, y_test)], verbose=False)\n",
    "\n",
    "    y_pred = model.predict(X_test)\n",
    "\n",
    "    accuracy = accuracy_score(y_test, y_pred)\n",
    "    recall = reca\n",
    "    ll_score(y_test, y_pred)\n",
    "\n",
    "    print(\"Accuracy: %.2f%%\" % (accuracy * 100.0))\n",
    "    print(\"Recall: %.2f%%\" % (recall * 100.0))"
   ]
  },
  {
   "cell_type": "markdown",
   "metadata": {
    "application/vnd.databricks.v1+cell": {
     "inputWidgets": {},
     "nuid": "61dc514c-6da7-4e33-b294-dfd18fe97a98",
     "showTitle": false,
     "title": ""
    }
   },
   "source": [
    "### Registering the model in Azure ML\n",
    "\n",
    "So far, our model is trained and tracked inside of the MLflow instance in Azure Databricks. Now we want to register this model in Azure ML to manage the life cicle there. However, if we try to register the model as we usually do using the sintax `mlflow.register_model(model_uri=f\"runs:/{run.info.run_id}/model\").` you will found an error. The reason why this is happening is related to where runs are being stored.\n",
    "\n",
    "Right now runs are being stored in Azure Databricks and models in Azure ML. If you try to create a registered model from a Run, Azure ML don't have any way to guess how to get access to the runs, that are stored in a different service. because of that, you can't use `runs:/` URI for registering models.\n",
    "\n",
    "To overcome this limitation, you have to register the model from the artifacts themselfs, which you can achieve by first downloading them."
   ]
  },
  {
   "cell_type": "code",
   "execution_count": null,
   "metadata": {
    "application/vnd.databricks.v1+cell": {
     "inputWidgets": {},
     "nuid": "14b15341-7465-4004-9acb-b6073543645b",
     "showTitle": false,
     "title": ""
    }
   },
   "outputs": [
    {
     "data": {
      "text/html": [
       "<style scoped>\n",
       "  .ansiout {\n",
       "    display: block;\n",
       "    unicode-bidi: embed;\n",
       "    white-space: pre-wrap;\n",
       "    word-wrap: break-word;\n",
       "    word-break: break-all;\n",
       "    font-family: \"Source Code Pro\", \"Menlo\", monospace;;\n",
       "    font-size: 13px;\n",
       "    color: #555;\n",
       "    margin-left: 4px;\n",
       "    line-height: 19px;\n",
       "  }\n",
       "</style>\n",
       "<div class=\"ansiout\"></div>"
      ]
     },
     "metadata": {
      "application/vnd.databricks.v1+output": {
       "addedWidgets": {},
       "arguments": {},
       "data": "<div class=\"ansiout\"></div>",
       "datasetInfos": [],
       "metadata": {},
       "removedWidgets": [],
       "type": "html"
      }
     },
     "output_type": "display_data"
    }
   ],
   "source": [
    "client = mlflow.tracking.MlflowClient()\n",
    "model_path = client.download_artifacts(run.info.run_id, path=\"model\")"
   ]
  },
  {
   "cell_type": "markdown",
   "metadata": {
    "application/vnd.databricks.v1+cell": {
     "inputWidgets": {},
     "nuid": "341e38aa-b6f6-4900-9b2f-dbf0ebb292a3",
     "showTitle": false,
     "title": ""
    }
   },
   "source": [
    "`model_path` is a local path to the artifacts representing the MLmodel created. We can use this artifacts to register the model now:\n",
    "\n",
    "> **Important:** Note that doing this has some implications. Since Azure ML knows nothing about the run that generated this model, lineage is lost from this point on. You can, although, store the RUN ID that generated this model in a tag in the registry for your reference."
   ]
  },
  {
   "cell_type": "code",
   "execution_count": null,
   "metadata": {
    "application/vnd.databricks.v1+cell": {
     "inputWidgets": {},
     "nuid": "538b04c0-5e2e-4670-ae12-2a69b22a932b",
     "showTitle": false,
     "title": ""
    }
   },
   "outputs": [
    {
     "data": {
      "text/html": [
       "<style scoped>\n",
       "  .ansiout {\n",
       "    display: block;\n",
       "    unicode-bidi: embed;\n",
       "    white-space: pre-wrap;\n",
       "    word-wrap: break-word;\n",
       "    word-break: break-all;\n",
       "    font-family: \"Source Code Pro\", \"Menlo\", monospace;;\n",
       "    font-size: 13px;\n",
       "    color: #555;\n",
       "    margin-left: 4px;\n",
       "    line-height: 19px;\n",
       "  }\n",
       "</style>\n",
       "<div class=\"ansiout\">Registered model &#39;databricks-heart-classifier&#39; already exists. Creating a new version of this model...\n",
       "Warning: no run_link will be recorded with the model version because no run_id was given\n",
       "2022/05/26 15:30:24 INFO mlflow.tracking._model_registry.client: Waiting up to 300 seconds for model version to finish creation.                     Model name: databricks-heart-classifier, version 1\n",
       "Created version &#39;1&#39; of model &#39;databricks-heart-classifier&#39;.\n",
       "Out[28]: &lt;ModelVersion: creation_timestamp=1653579024430, current_stage=&#39;None&#39;, description=&#39;&#39;, last_updated_timestamp=1653579024430, name=&#39;databricks-heart-classifier&#39;, run_id=&#39;&#39;, run_link=&#39;&#39;, source=&#39;azureml://artifacts/LocalUpload/220526T152844-ec7e8a19/model&#39;, status=&#39;READY&#39;, status_message=&#39;&#39;, tags={}, user_id=&#39;&#39;, version=&#39;1&#39;&gt;</div>"
      ]
     },
     "metadata": {
      "application/vnd.databricks.v1+output": {
       "addedWidgets": {},
       "arguments": {},
       "data": "<div class=\"ansiout\">Registered model &#39;databricks-heart-classifier&#39; already exists. Creating a new version of this model...\nWarning: no run_link will be recorded with the model version because no run_id was given\n2022/05/26 15:30:24 INFO mlflow.tracking._model_registry.client: Waiting up to 300 seconds for model version to finish creation.                     Model name: databricks-heart-classifier, version 1\nCreated version &#39;1&#39; of model &#39;databricks-heart-classifier&#39;.\nOut[28]: &lt;ModelVersion: creation_timestamp=1653579024430, current_stage=&#39;None&#39;, description=&#39;&#39;, last_updated_timestamp=1653579024430, name=&#39;databricks-heart-classifier&#39;, run_id=&#39;&#39;, run_link=&#39;&#39;, source=&#39;azureml://artifacts/LocalUpload/220526T152844-ec7e8a19/model&#39;, status=&#39;READY&#39;, status_message=&#39;&#39;, tags={}, user_id=&#39;&#39;, version=&#39;1&#39;&gt;</div>",
       "datasetInfos": [],
       "metadata": {},
       "removedWidgets": [],
       "type": "html"
      }
     },
     "output_type": "display_data"
    }
   ],
   "source": [
    "mlflow.register_model(\n",
    "    model_uri=f\"file://{model_path}\", name=\"databricks-heart-classifier\"\n",
    ")"
   ]
  },
  {
   "cell_type": "markdown",
   "metadata": {
    "application/vnd.databricks.v1+cell": {
     "inputWidgets": {},
     "nuid": "23e80561-2471-42d6-b7ca-1a1be44033a0",
     "showTitle": false,
     "title": ""
    }
   },
   "source": [
    "Notice in the instruction above how the protocol is now `file://` instead of `runs:/`."
   ]
  },
  {
   "cell_type": "markdown",
   "metadata": {
    "application/vnd.databricks.v1+cell": {
     "inputWidgets": {},
     "nuid": "d4a9e5f7-aff7-4568-90c9-f83b88a93763",
     "showTitle": false,
     "title": ""
    }
   },
   "source": [
    "## Deploying models registered in Azure ML\n",
    "\n",
    "Once a model is registered in Azure ML, you can deploy them using either the UI interface in Azure ML Studio, the Azure ML CLI v2 from a console, or the azureml-mlflow plugin for MLflow. Use the approach it best suites your needs. Here we will demostrate how to do that using the MLflow deployment plugin.\n",
    "\n",
    "### Deploying models registered in Azure ML to Managed Inference\n",
    "\n",
    "To make the deployment happen, you will need a deployment client. Deployments can be generated using both the Python API for MLflow or MLflow CLI. In both cases, a JSON configuration file needs to be indicated with the details of the deployment you want to achieve. The full specification of this configuration can be found at [Managed online deployment schema (v2)](https://docs.microsoft.com/en-us/azure/machine-learning/reference-yaml-deployment-managed-online)."
   ]
  },
  {
   "cell_type": "code",
   "execution_count": null,
   "metadata": {
    "application/vnd.databricks.v1+cell": {
     "inputWidgets": {},
     "nuid": "8a8e71f9-7521-45cf-8a71-5a977882ff07",
     "showTitle": false,
     "title": ""
    }
   },
   "outputs": [
    {
     "data": {
      "text/html": [
       "<style scoped>\n",
       "  .ansiout {\n",
       "    display: block;\n",
       "    unicode-bidi: embed;\n",
       "    white-space: pre-wrap;\n",
       "    word-wrap: break-word;\n",
       "    word-break: break-all;\n",
       "    font-family: \"Source Code Pro\", \"Menlo\", monospace;;\n",
       "    font-size: 13px;\n",
       "    color: #555;\n",
       "    margin-left: 4px;\n",
       "    line-height: 19px;\n",
       "  }\n",
       "</style>\n",
       "<div class=\"ansiout\"></div>"
      ]
     },
     "metadata": {
      "application/vnd.databricks.v1+output": {
       "addedWidgets": {},
       "arguments": {},
       "data": "<div class=\"ansiout\"></div>",
       "datasetInfos": [],
       "metadata": {},
       "removedWidgets": [],
       "type": "html"
      }
     },
     "output_type": "display_data"
    }
   ],
   "source": [
    "import json\n",
    "from mlflow.deployments import get_deploy_client\n",
    "\n",
    "# Create the deployment configuration.\n",
    "deploy_config = {\n",
    "    \"instance_type\": \"Standard_DS2_v2\",\n",
    "    \"instance_count\": 1,\n",
    "}"
   ]
  },
  {
   "cell_type": "markdown",
   "metadata": {
    "application/vnd.databricks.v1+cell": {
     "inputWidgets": {},
     "nuid": "423d0819-2edb-4408-91cd-c2131dba5cff",
     "showTitle": false,
     "title": ""
    }
   },
   "source": [
    "Write the deployment configuration into a file."
   ]
  },
  {
   "cell_type": "code",
   "execution_count": null,
   "metadata": {
    "application/vnd.databricks.v1+cell": {
     "inputWidgets": {},
     "nuid": "6d9867ad-b3d6-4d61-9667-83143d91786f",
     "showTitle": false,
     "title": ""
    }
   },
   "outputs": [
    {
     "data": {
      "text/html": [
       "<style scoped>\n",
       "  .ansiout {\n",
       "    display: block;\n",
       "    unicode-bidi: embed;\n",
       "    white-space: pre-wrap;\n",
       "    word-wrap: break-word;\n",
       "    word-break: break-all;\n",
       "    font-family: \"Source Code Pro\", \"Menlo\", monospace;;\n",
       "    font-size: 13px;\n",
       "    color: #555;\n",
       "    margin-left: 4px;\n",
       "    line-height: 19px;\n",
       "  }\n",
       "</style>\n",
       "<div class=\"ansiout\"></div>"
      ]
     },
     "metadata": {
      "application/vnd.databricks.v1+output": {
       "addedWidgets": {},
       "arguments": {},
       "data": "<div class=\"ansiout\"></div>",
       "datasetInfos": [],
       "metadata": {},
       "removedWidgets": [],
       "type": "html"
      }
     },
     "output_type": "display_data"
    }
   ],
   "source": [
    "deployment_config_path = \"deployment_config.json\"\n",
    "with open(deployment_config_path, \"w\") as outfile:\n",
    "    outfile.write(json.dumps(deploy_config))"
   ]
  },
  {
   "cell_type": "markdown",
   "metadata": {
    "application/vnd.databricks.v1+cell": {
     "inputWidgets": {},
     "nuid": "efb8e57b-c312-4bcb-b48b-39a739e38dbe",
     "showTitle": false,
     "title": ""
    }
   },
   "source": [
    "#### Configuring the deployment client"
   ]
  },
  {
   "cell_type": "code",
   "execution_count": null,
   "metadata": {
    "application/vnd.databricks.v1+cell": {
     "inputWidgets": {},
     "nuid": "bb2cb7a9-eb0d-4507-b70d-adaf05b320d3",
     "showTitle": false,
     "title": ""
    }
   },
   "outputs": [
    {
     "data": {
      "text/html": [
       "<style scoped>\n",
       "  .ansiout {\n",
       "    display: block;\n",
       "    unicode-bidi: embed;\n",
       "    white-space: pre-wrap;\n",
       "    word-wrap: break-word;\n",
       "    word-break: break-all;\n",
       "    font-family: \"Source Code Pro\", \"Menlo\", monospace;;\n",
       "    font-size: 13px;\n",
       "    color: #555;\n",
       "    margin-left: 4px;\n",
       "    line-height: 19px;\n",
       "  }\n",
       "</style>\n",
       "<div class=\"ansiout\"></div>"
      ]
     },
     "metadata": {
      "application/vnd.databricks.v1+output": {
       "addedWidgets": {},
       "arguments": {},
       "data": "<div class=\"ansiout\"></div>",
       "datasetInfos": [],
       "metadata": {},
       "removedWidgets": [],
       "type": "html"
      }
     },
     "output_type": "display_data"
    }
   ],
   "source": [
    "# Indicate to MLflow where we want to deploy\n",
    "client = get_deploy_client(azureml_mlflow_uri)"
   ]
  },
  {
   "cell_type": "code",
   "execution_count": null,
   "metadata": {
    "application/vnd.databricks.v1+cell": {
     "inputWidgets": {},
     "nuid": "42ff35ff-62d6-4bc9-8d19-269a6d7efa67",
     "showTitle": false,
     "title": ""
    }
   },
   "outputs": [
    {
     "data": {
      "text/html": [
       "<style scoped>\n",
       "  .ansiout {\n",
       "    display: block;\n",
       "    unicode-bidi: embed;\n",
       "    white-space: pre-wrap;\n",
       "    word-wrap: break-word;\n",
       "    word-break: break-all;\n",
       "    font-family: \"Source Code Pro\", \"Menlo\", monospace;;\n",
       "    font-size: 13px;\n",
       "    color: #555;\n",
       "    margin-left: 4px;\n",
       "    line-height: 19px;\n",
       "  }\n",
       "</style>\n",
       "<div class=\"ansiout\"></div>"
      ]
     },
     "metadata": {
      "application/vnd.databricks.v1+output": {
       "addedWidgets": {},
       "arguments": {},
       "data": "<div class=\"ansiout\"></div>",
       "datasetInfos": [],
       "metadata": {},
       "removedWidgets": [],
       "type": "html"
      }
     },
     "output_type": "display_data"
    }
   ],
   "source": [
    "# Indicate to MLflow from where the models need to be pulled from. Currently, the source and target URLs need to be the same.\n",
    "mlflow.set_tracking_uri(azureml_mlflow_uri)"
   ]
  },
  {
   "cell_type": "markdown",
   "metadata": {
    "application/vnd.databricks.v1+cell": {
     "inputWidgets": {},
     "nuid": "63359765-c215-4328-8a2c-3687f8338d36",
     "showTitle": false,
     "title": ""
    }
   },
   "source": [
    "#### Deploying the model"
   ]
  },
  {
   "cell_type": "code",
   "execution_count": null,
   "metadata": {
    "application/vnd.databricks.v1+cell": {
     "inputWidgets": {},
     "nuid": "d2f4770b-b702-46c5-9e68-c737cf93e7ed",
     "showTitle": false,
     "title": ""
    }
   },
   "outputs": [
    {
     "data": {
      "text/html": [
       "<style scoped>\n",
       "  .ansiout {\n",
       "    display: block;\n",
       "    unicode-bidi: embed;\n",
       "    white-space: pre-wrap;\n",
       "    word-wrap: break-word;\n",
       "    word-break: break-all;\n",
       "    font-family: \"Source Code Pro\", \"Menlo\", monospace;;\n",
       "    font-size: 13px;\n",
       "    color: #555;\n",
       "    margin-left: 4px;\n",
       "    line-height: 19px;\n",
       "  }\n",
       "</style>\n",
       "<div class=\"ansiout\"></div>"
      ]
     },
     "metadata": {
      "application/vnd.databricks.v1+output": {
       "addedWidgets": {},
       "arguments": {},
       "data": "<div class=\"ansiout\"></div>",
       "datasetInfos": [],
       "metadata": {},
       "removedWidgets": [],
       "type": "html"
      }
     },
     "output_type": "display_data"
    }
   ],
   "source": [
    "# MLflow requires the deployment configuration to be passed as a dictionary.\n",
    "config = {\"deploy-config-file\": deployment_config_path}\n",
    "model_name = \"databricks-heart-classifier\"\n",
    "model_version = 1\n",
    "\n",
    "# define the model path and the name is the service name\n",
    "# if model is not registered, it gets registered automatically and a name is autogenerated using the \"name\" parameter below\n",
    "client.create_deployment(\n",
    "    model_uri=f\"models:/{model_name}/{model_version}\",\n",
    "    config=config,\n",
    "    name=\"mymodel-mir-deployment\",\n",
    ")"
   ]
  }
 ],
 "metadata": {
  "application/vnd.databricks.v1+notebook": {
   "dashboards": [],
   "language": "python",
   "notebookMetadata": {
    "pythonIndentUnit": 2
   },
   "notebookName": "track_with_databrick_deploy_aml",
   "notebookOrigID": 1033315985576863,
   "widgets": {}
  },
  "language_info": {
   "name": "python"
  },
  "kernelspec": {
   "display_name": "Python 3.8 - AzureML",
   "language": "python",
   "name": "python38-azureml"
  }
 },
 "nbformat": 4,
 "nbformat_minor": 0
}