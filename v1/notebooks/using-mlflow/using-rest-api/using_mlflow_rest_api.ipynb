{
 "cells": [
  {
   "cell_type": "markdown",
   "id": "14420a34-d031-4fdd-87ec-b0d7c4cde3c9",
   "metadata": {},
   "source": [
    "# Using MLflow REST with Azure ML\n",
    "\n",
    "The MLflow REST API allows you to create, list, and get experiments and runs, and log parameters, metrics, and artifacts. The API is hosted under the `/api/2.0/mlflow` route on for Azure ML MLflow tracking URL."
   ]
  },
  {
   "cell_type": "code",
   "execution_count": 1,
   "id": "db40ba0f-e27d-4359-8941-08ecbb4e1140",
   "metadata": {},
   "outputs": [],
   "source": [
    "import requests"
   ]
  },
  {
   "cell_type": "markdown",
   "id": "361a8c77-4def-4600-ab27-f7136d933af1",
   "metadata": {},
   "source": [
    "## Getting an authorization token\n",
    "\n",
    "As with any Azure service, you need an authentication token to access the MLflow REST API. The following example shows how to get an authentication token using a service principal. You will need the tenant ID, client ID and client secret associated with the service principal. To create a service principal you can follow the steps at [Use the portal to create an Azure AD application and service principal that can access resources](https://docs.microsoft.com/en-us/azure/active-directory/develop/howto-create-service-principal-portal)."
   ]
  },
  {
   "cell_type": "code",
   "execution_count": 2,
   "id": "818f3671-24f5-4c9c-828a-4819936b093d",
   "metadata": {},
   "outputs": [],
   "source": [
    "tenant_id = \"<>\"\n",
    "client_id = \"<>\"\n",
    "client_secret = \"<>\"\n",
    "grant_type = \"client_credentials\"\n",
    "resource_scope = \"https://management.azure.com\""
   ]
  },
  {
   "cell_type": "markdown",
   "id": "2d24d089-7bf4-4075-b932-11b863b65762",
   "metadata": {},
   "source": [
    "The request URL is as follows:"
   ]
  },
  {
   "cell_type": "code",
   "execution_count": 10,
   "id": "40e62292-d383-4c75-a47e-2bbf31ad4a7b",
   "metadata": {},
   "outputs": [],
   "source": [
    "mso_url = f\"https://login.microsoftonline.com/{tenant_id}/oauth2/token?\""
   ]
  },
  {
   "cell_type": "markdown",
   "id": "69565bdc-2f80-4ef6-b61f-038023f05273",
   "metadata": {},
   "source": [
    "The service principal information is included inside the body:"
   ]
  },
  {
   "cell_type": "code",
   "execution_count": 15,
   "id": "370a867d-c181-4722-b46d-1654b5f3e6d0",
   "metadata": {},
   "outputs": [],
   "source": [
    "mso_body = f\"grant_type={grant_type}&client_id={client_id}&client_secret={client_secret}&resource={resource_scope}\""
   ]
  },
  {
   "cell_type": "markdown",
   "id": "7f0b7d62-490a-4481-87b6-7a0f2507af4c",
   "metadata": {},
   "source": [
    "Making the request and getting the token back:"
   ]
  },
  {
   "cell_type": "code",
   "execution_count": 12,
   "id": "8d385481-670b-4d83-a302-fb09e338974f",
   "metadata": {},
   "outputs": [],
   "source": [
    "auth_response = requests.post(url=mso_url, data=mso_body)"
   ]
  },
  {
   "cell_type": "code",
   "execution_count": 13,
   "id": "998667d1-4a74-4293-bfd3-e3d6f9f9ebcb",
   "metadata": {},
   "outputs": [],
   "source": [
    "token_data = auth_response.json()"
   ]
  },
  {
   "cell_type": "markdown",
   "id": "958a1f35-6f0b-465f-aeed-43b8b092998f",
   "metadata": {},
   "source": [
    "> Token is returned in the field `access_token`."
   ]
  },
  {
   "cell_type": "markdown",
   "id": "5ac77db1-5fb2-408a-b231-409820099494",
   "metadata": {},
   "source": [
    "## Querying the MLflow API\n",
    "\n",
    "You can get the MLflow API from the Azure portal, or you can construct it manually as follows:"
   ]
  },
  {
   "cell_type": "code",
   "execution_count": null,
   "id": "a6843777-77f0-4eca-8b05-f686cad0c757",
   "metadata": {},
   "outputs": [],
   "source": [
    "subscription_id = \"<>\"\n",
    "resource_group = \"<>\"\n",
    "workspace_name = \"<>\"\n",
    "location = \"eastus\""
   ]
  },
  {
   "cell_type": "code",
   "execution_count": 27,
   "id": "1c238b29-246d-420f-aec4-9c775d39570e",
   "metadata": {},
   "outputs": [],
   "source": [
    "azure_ml_mlflow_base = f\"https://{location}.api.azureml.ms/mlflow/v1.0/subscriptions/{subscription_id}/resourceGroups/{resource_group}/providers/Microsoft.MachineLearningServices/workspaces/{workspace_name}\"\n",
    "mlflow_api_path = \"api/2.0/mlflow\""
   ]
  },
  {
   "cell_type": "markdown",
   "id": "3b03f450-11ec-4bca-8e8e-80897a60b385",
   "metadata": {},
   "source": [
    "> You can get this URL following this steps: Navigate to Azure ML Studio and select the workspace you are working on > Click on the name of the workspace at the upper right corner of the page. > Click \u201cView all properties in Azure Portal\u201d on the pane popup. > Copy the MLflow tracking URI value from the properties section. Then replace the protocol from `azureml` to `https`."
   ]
  },
  {
   "cell_type": "markdown",
   "id": "fa8995de-9a34-48ef-ab34-5344a11bb82f",
   "metadata": {},
   "source": [
    "Construct the request headers including the authentication token you just got:"
   ]
  },
  {
   "cell_type": "code",
   "execution_count": 20,
   "id": "4ce9abfe-bd6e-406b-b97a-879f6166adae",
   "metadata": {},
   "outputs": [],
   "source": [
    "headers = {\n",
    "    \"Content-Type\": \"application/json\",\n",
    "    \"Authorization\": f\"{token_data['token_type']} {token_data['access_token']}\",\n",
    "}"
   ]
  },
  {
   "cell_type": "markdown",
   "id": "6b8f2d5e-aa0c-4fcd-b27f-bdddce80bdac",
   "metadata": {},
   "source": [
    "Construct the request URL as indicated at https://mlflow.org/docs/latest/rest-api.html. For example, the following URL list all the experiments in the workspace:"
   ]
  },
  {
   "cell_type": "code",
   "execution_count": 31,
   "id": "62197f71-9351-44bf-be42-bc326ea9e176",
   "metadata": {},
   "outputs": [],
   "source": [
    "response = requests.get(\n",
    "    f\"{azure_ml_mlflow_base}/{mlflow_api_path}/experiments/list\", headers=headers\n",
    ")"
   ]
  },
  {
   "cell_type": "markdown",
   "id": "c51fdef9-58a2-4494-9107-a6c0d74f1560",
   "metadata": {},
   "source": [
    "In the following example, we are retrieving the experiments and parsing the results into a Pandas DataFrame for visualization:"
   ]
  },
  {
   "cell_type": "code",
   "execution_count": 33,
   "id": "54623f31-8595-45f6-b5bd-61e9c53ee92f",
   "metadata": {},
   "outputs": [],
   "source": [
    "data = response.json()"
   ]
  },
  {
   "cell_type": "code",
   "execution_count": 36,
   "id": "c83ce105-3221-4d7c-abe2-c7f9d72ed394",
   "metadata": {},
   "outputs": [],
   "source": [
    "import pandas as pd"
   ]
  },
  {
   "cell_type": "code",
   "execution_count": 37,
   "id": "fdcdf0e8-9fed-45c9-b3d7-2888fb18e76c",
   "metadata": {},
   "outputs": [
    {
     "data": {
      "text/html": [
       "<div>\n",
       "<style scoped>\n",
       "    .dataframe tbody tr th:only-of-type {\n",
       "        vertical-align: middle;\n",
       "    }\n",
       "\n",
       "    .dataframe tbody tr th {\n",
       "        vertical-align: top;\n",
       "    }\n",
       "\n",
       "    .dataframe thead th {\n",
       "        text-align: right;\n",
       "    }\n",
       "</style>\n",
       "<table border=\"1\" class=\"dataframe\">\n",
       "  <thead>\n",
       "    <tr style=\"text-align: right;\">\n",
       "      <th></th>\n",
       "      <th>experiment_id</th>\n",
       "      <th>name</th>\n",
       "      <th>lifecycle_stage</th>\n",
       "      <th>creation_time</th>\n",
       "    </tr>\n",
       "  </thead>\n",
       "  <tbody>\n",
       "    <tr>\n",
       "      <th>0</th>\n",
       "      <td>ae8d6548-ffed-4de3-97a6-e035a6a63843</td>\n",
       "      <td>gas-mixture-ppc</td>\n",
       "      <td>active</td>\n",
       "      <td>1643139376402</td>\n",
       "    </tr>\n",
       "    <tr>\n",
       "      <th>1</th>\n",
       "      <td>2252b012-21a5-4fc5-bfd7-1c3163a31c9a</td>\n",
       "      <td>sk-learn-random-forest</td>\n",
       "      <td>active</td>\n",
       "      <td>1643644632553</td>\n",
       "    </tr>\n",
       "    <tr>\n",
       "      <th>2</th>\n",
       "      <td>a806d448-b928-406d-835c-281a421a598c</td>\n",
       "      <td>Default</td>\n",
       "      <td>active</td>\n",
       "      <td>1643656927962</td>\n",
       "    </tr>\n",
       "    <tr>\n",
       "      <th>3</th>\n",
       "      <td>49fca8fc-1cb7-45a6-9b97-a5881162f0c0</td>\n",
       "      <td>SklearnLinearRegression</td>\n",
       "      <td>active</td>\n",
       "      <td>1643745668603</td>\n",
       "    </tr>\n",
       "    <tr>\n",
       "      <th>4</th>\n",
       "      <td>392bdd02-5d08-49be-90f3-a78e81d7aa71</td>\n",
       "      <td>mlflow-adult-classifier</td>\n",
       "      <td>active</td>\n",
       "      <td>1644443878352</td>\n",
       "    </tr>\n",
       "    <tr>\n",
       "      <th>...</th>\n",
       "      <td>...</td>\n",
       "      <td>...</td>\n",
       "      <td>...</td>\n",
       "      <td>...</td>\n",
       "    </tr>\n",
       "    <tr>\n",
       "      <th>56</th>\n",
       "      <td>b4ae0af5-3f02-4e6c-9031-bc6a1291aa9f</td>\n",
       "      <td>demo-hr-employee</td>\n",
       "      <td>active</td>\n",
       "      <td>1586196983332</td>\n",
       "    </tr>\n",
       "    <tr>\n",
       "      <th>57</th>\n",
       "      <td>ba4c66ed-6bcd-401f-9991-b1ebb4023c76</td>\n",
       "      <td>prediction-nyc-energy</td>\n",
       "      <td>active</td>\n",
       "      <td>1586198805982</td>\n",
       "    </tr>\n",
       "    <tr>\n",
       "      <th>58</th>\n",
       "      <td>9d663c97-b8de-4446-b307-fa17d4d26cc8</td>\n",
       "      <td>Hyperdrive_sample</td>\n",
       "      <td>active</td>\n",
       "      <td>1590524844101</td>\n",
       "    </tr>\n",
       "    <tr>\n",
       "      <th>59</th>\n",
       "      <td>ff1b689b-1d70-47e1-89f2-d767573f8045</td>\n",
       "      <td>credit-card-fraud-detection</td>\n",
       "      <td>active</td>\n",
       "      <td>1597016129774</td>\n",
       "    </tr>\n",
       "    <tr>\n",
       "      <th>60</th>\n",
       "      <td>26fc9d76-f37f-4f3f-b0cb-bd94c827521d</td>\n",
       "      <td>mlopspython</td>\n",
       "      <td>active</td>\n",
       "      <td>1599740186268</td>\n",
       "    </tr>\n",
       "  </tbody>\n",
       "</table>\n",
       "<p>61 rows \u00d7 4 columns</p>\n",
       "</div>"
      ],
      "text/plain": [
       "                           experiment_id                         name  \\\n",
       "0   ae8d6548-ffed-4de3-97a6-e035a6a63843              gas-mixture-ppc   \n",
       "1   2252b012-21a5-4fc5-bfd7-1c3163a31c9a       sk-learn-random-forest   \n",
       "2   a806d448-b928-406d-835c-281a421a598c                      Default   \n",
       "3   49fca8fc-1cb7-45a6-9b97-a5881162f0c0      SklearnLinearRegression   \n",
       "4   392bdd02-5d08-49be-90f3-a78e81d7aa71      mlflow-adult-classifier   \n",
       "..                                   ...                          ...   \n",
       "56  b4ae0af5-3f02-4e6c-9031-bc6a1291aa9f             demo-hr-employee   \n",
       "57  ba4c66ed-6bcd-401f-9991-b1ebb4023c76        prediction-nyc-energy   \n",
       "58  9d663c97-b8de-4446-b307-fa17d4d26cc8            Hyperdrive_sample   \n",
       "59  ff1b689b-1d70-47e1-89f2-d767573f8045  credit-card-fraud-detection   \n",
       "60  26fc9d76-f37f-4f3f-b0cb-bd94c827521d                  mlopspython   \n",
       "\n",
       "   lifecycle_stage  creation_time  \n",
       "0           active  1643139376402  \n",
       "1           active  1643644632553  \n",
       "2           active  1643656927962  \n",
       "3           active  1643745668603  \n",
       "4           active  1644443878352  \n",
       "..             ...            ...  \n",
       "56          active  1586196983332  \n",
       "57          active  1586198805982  \n",
       "58          active  1590524844101  \n",
       "59          active  1597016129774  \n",
       "60          active  1599740186268  \n",
       "\n",
       "[61 rows x 4 columns]"
      ]
     },
     "execution_count": 37,
     "metadata": {},
     "output_type": "execute_result"
    }
   ],
   "source": [
    "pd.DataFrame(data[\"experiments\"])"
   ]
  }
 ],
 "metadata": {
  "kernelspec": {
   "display_name": "Python 3.8 - AzureML",
   "language": "python",
   "name": "python38-azureml"
  },
  "language_info": {
   "codemirror_mode": {
    "name": "ipython",
    "version": 3
   },
   "file_extension": ".py",
   "mimetype": "text/x-python",
   "name": "python",
   "nbconvert_exporter": "python",
   "pygments_lexer": "ipython3",
   "version": "3.8.5"
  }
 },
 "nbformat": 4,
 "nbformat_minor": 5
}