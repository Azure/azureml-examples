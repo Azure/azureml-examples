{
 "cells": [
  {
   "cell_type": "code",
   "execution_count": null,
   "metadata": {},
   "outputs": [],
   "source": [
    "from azureml.core import Workspace\n",
    "\n",
    "ws = Workspace.from_config()\n",
    "ws"
   ]
  },
  {
   "cell_type": "code",
   "execution_count": null,
   "metadata": {},
   "outputs": [],
   "source": [
    "import git\n",
    "\n",
    "# get root of git repo\n",
    "prefix = git.Repo('.', search_parent_directories=True).working_tree_dir\n",
    "\n",
    "# project settings\n",
    "project_uri = prefix+'/mlprojects/sklearn-diabetes'\n",
    "\n",
    "# azure ml settings\n",
    "experiment_name = 'sklearn-diabetes-mlproject-example'\n",
    "compute_target = 'cpu-cluster'"
   ]
  },
  {
   "cell_type": "markdown",
   "metadata": {},
   "source": [
    "## Setup mlflow"
   ]
  },
  {
   "cell_type": "code",
   "execution_count": null,
   "metadata": {},
   "outputs": [],
   "source": [
    "import mlflow \n",
    "\n",
    "mlflow.set_tracking_uri(ws.get_mlflow_tracking_uri())\n",
    "mlflow.set_experiment(experiment_name)"
   ]
  },
  {
   "cell_type": "code",
   "execution_count": null,
   "metadata": {},
   "outputs": [],
   "source": [
    "backend_config = {'COMPUTE': compute_target}"
   ]
  },
  {
   "cell_type": "markdown",
   "metadata": {},
   "source": [
    "## Train model"
   ]
  },
  {
   "cell_type": "code",
   "execution_count": null,
   "metadata": {},
   "outputs": [],
   "source": [
    "run = mlflow.projects.run(uri=project_uri,\n",
    "                          parameters={\"alpha\":0.3},\n",
    "                          backend='azureml',\n",
    "                          backend_config=backend_config)"
   ]
  },
  {
   "cell_type": "code",
   "execution_count": null,
   "metadata": {},
   "outputs": [],
   "source": [
    "run"
   ]
  },
  {
   "cell_type": "markdown",
   "metadata": {},
   "source": [
    "## Deploy model"
   ]
  },
  {
   "cell_type": "code",
   "execution_count": null,
   "metadata": {},
   "outputs": [],
   "source": [
    "from azureml.core.webservice import AksWebservice\n",
    "\n",
    "aks_config = AksWebservice.deploy_configuration(compute_target_name='aks-cpu-deploy',\n",
    "                                                cpu_cores=2,\n",
    "                                                memory_gb=5,\n",
    "                                                tags={'data': 'diabetes', 'method': 'sklearn'}, \n",
    "                                                description='Predict using webservice')"
   ]
  },
  {
   "cell_type": "code",
   "execution_count": null,
   "metadata": {},
   "outputs": [],
   "source": [
    "import mlflow.azureml\n",
    "\n",
    "webservice, azure_model = mlflow.azureml.deploy(model_uri=f'runs:/{run.run_id}/model',\n",
    "                                                workspace=ws,\n",
    "                                                deployment_config=aks_config,\n",
    "                                                service_name='sklearn-diabetes',\n",
    "                                                model_name='sklearn-diabetes-example')"
   ]
  },
  {
   "cell_type": "markdown",
   "metadata": {},
   "source": [
    "## Test webservice"
   ]
  },
  {
   "cell_type": "code",
   "execution_count": null,
   "metadata": {},
   "outputs": [],
   "source": [
    "from sklearn import datasets\n",
    "diabetes = datasets.load_diabetes()\n",
    "\n",
    "import pandas as pd\n",
    "import numpy as np\n",
    "\n",
    "X = diabetes.data\n",
    "y = diabetes.target\n",
    "Y = np.array([y]).transpose()\n",
    "d = np.concatenate((X, Y), axis=1)\n",
    "cols = ['age', 'sex', 'bmi', 'bp', 's1', 's2', 's3', 's4', 's5', 's6', 'progression']\n",
    "data = pd.DataFrame(d, columns=cols)\n",
    "sample = data.drop([\"progression\"], axis=1).iloc[[0]]\n",
    "                                                 \n",
    "query_input = sample.to_json(orient='split')\n",
    "query_input = eval(query_input)\n",
    "query_input.pop('index', None)"
   ]
  },
  {
   "cell_type": "code",
   "execution_count": null,
   "metadata": {},
   "outputs": [],
   "source": [
    "import requests\n",
    "import json\n",
    "\n",
    "headers = {'Content-Type':'application/json'}\n",
    "\n",
    "response = requests.post(url=webservice.scoring_uri, data=json.dumps(query_input),headers=headers)\n",
    "print(response.text)"
   ]
  },
  {
   "cell_type": "markdown",
   "metadata": {},
   "source": [
    "## Clean up"
   ]
  },
  {
   "cell_type": "code",
   "execution_count": null,
   "metadata": {},
   "outputs": [],
   "source": [
    "webservice.delete()"
   ]
  }
 ],
 "metadata": {
  "index": {
   "compute": "AML - CPU",
   "dataset": "diabetes",
   "distribution": "None",
   "environment": "environment file",
   "frameworks": "sklearn, mlflow",
   "other": "None",
   "scenario": "training, deployment"
  },
  "kernelspec": {
   "display_name": "Python [conda env:mfproject] *",
   "language": "python",
   "name": "conda-env-mfproject-py"
  },
  "language_info": {
   "codemirror_mode": {
    "name": "ipython",
    "version": 3
   },
   "file_extension": ".py",
   "mimetype": "text/x-python",
   "name": "python",
   "nbconvert_exporter": "python",
   "pygments_lexer": "ipython3",
   "version": "3.6.10"
  }
 },
 "nbformat": 4,
 "nbformat_minor": 2
}
