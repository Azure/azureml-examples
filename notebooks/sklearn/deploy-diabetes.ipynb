{
 "cells": [
  {
   "cell_type": "markdown",
   "metadata": {},
   "source": [
    "# Deploy sklearn model to webservice endpoint\n",
    "\n",
    "description: deploy sklearn ridge model trained on diabetes data to AKS"
   ]
  },
  {
   "cell_type": "code",
   "execution_count": null,
   "metadata": {
    "tags": []
   },
   "outputs": [],
   "source": [
    "from azureml.core import Workspace\n",
    "\n",
    "ws = Workspace.from_config()\n",
    "ws"
   ]
  },
  {
   "cell_type": "code",
   "execution_count": null,
   "metadata": {},
   "outputs": [],
   "source": [
    "import git\n",
    "from pathlib import Path\n",
    "\n",
    "# get root of git repo\n",
    "prefix = Path(git.Repo(\".\", search_parent_directories=True).working_tree_dir)\n",
    "\n",
    "# azure ml settings\n",
    "experiment_name = \"sklearn-diabetes-mlproject-example\""
   ]
  },
  {
   "cell_type": "code",
   "execution_count": null,
   "metadata": {
    "tags": []
   },
   "outputs": [],
   "source": [
    "import mlflow\n",
    "\n",
    "mlflow.set_tracking_uri(ws.get_mlflow_tracking_uri())\n",
    "mlflow.set_experiment(experiment_name)"
   ]
  },
  {
   "cell_type": "code",
   "execution_count": null,
   "metadata": {
    "tags": []
   },
   "outputs": [],
   "source": [
    "model = None\n",
    "runs = ws.experiments[experiment_name].get_runs()\n",
    "run = next(runs)\n",
    "while run.get_status() != \"Completed\" or model is None:\n",
    "    run = next(runs)\n",
    "    try:\n",
    "        model = run.register_model(experiment_name, model_path=\"model\")\n",
    "    except:\n",
    "        pass\n",
    "\n",
    "run"
   ]
  },
  {
   "cell_type": "code",
   "execution_count": null,
   "metadata": {},
   "outputs": [],
   "source": [
    "from azureml.core.webservice import AksWebservice\n",
    "\n",
    "aks_config = AksWebservice.deploy_configuration(\n",
    "    compute_target_name=\"aks-cpu-deploy\",\n",
    "    cpu_cores=2,\n",
    "    memory_gb=5,\n",
    "    tags={\"data\": \"diabetes\", \"method\": \"sklearn\"},\n",
    "    description=\"Predict using webservice\",\n",
    ")"
   ]
  },
  {
   "cell_type": "code",
   "execution_count": null,
   "metadata": {
    "tags": []
   },
   "outputs": [],
   "source": [
    "import mlflow.azureml\n",
    "from random import randint\n",
    "\n",
    "webservice, azure_model = mlflow.azureml.deploy(\n",
    "    model_uri=f\"runs:/{run.id}/model\",\n",
    "    workspace=ws,\n",
    "    deployment_config=aks_config,\n",
    "    service_name=\"sklearn-diabetes-\" + str(randint(10000, 99999)),\n",
    "    model_name=\"sklearn-diabetes-example\",\n",
    ")"
   ]
  },
  {
   "cell_type": "code",
   "execution_count": null,
   "metadata": {
    "tags": []
   },
   "outputs": [],
   "source": [
    "import pandas as pd\n",
    "\n",
    "data = pd.read_csv(prefix.joinpath(\"data\", \"raw\", \"diabetes\", \"diabetes.csv\"))\n",
    "\n",
    "sample = data.drop([\"progression\"], axis=1).iloc[[0]]\n",
    "\n",
    "query_input = sample.to_json(orient=\"split\")\n",
    "query_input = eval(query_input)\n",
    "query_input.pop(\"index\", None)"
   ]
  },
  {
   "cell_type": "code",
   "execution_count": null,
   "metadata": {},
   "outputs": [],
   "source": [
    "# if (key) auth is enabled, retrieve the API keys. AML generates two keys.\n",
    "key1, Key2 = webservice.get_keys()\n",
    "print(key1)\n",
    "\n",
    "# # if token auth is enabled, retrieve the token.\n",
    "# access_token, refresh_after = webservice.get_token()"
   ]
  },
  {
   "cell_type": "code",
   "execution_count": null,
   "metadata": {},
   "outputs": [],
   "source": [
    "# If (key) auth is enabled, don't forget to add key to the HTTP header.\n",
    "headers = {\n",
    "    \"Content-Type\": \"application/json\",\n",
    "    \"Authorization\": \"Bearer \" + key1,\n",
    "}\n",
    "\n",
    "# # If token auth is enabled, don't forget to add token to the HTTP header.\n",
    "# headers = {'Content-Type':'application/json', 'Authorization': 'Bearer ' + access_token}"
   ]
  },
  {
   "cell_type": "code",
   "execution_count": null,
   "metadata": {
    "tags": []
   },
   "outputs": [],
   "source": [
    "import requests\n",
    "import json\n",
    "\n",
    "response = requests.post(\n",
    "    url=webservice.scoring_uri, data=json.dumps(query_input), headers=headers\n",
    ")\n",
    "print(response.text)"
   ]
  },
  {
   "cell_type": "code",
   "execution_count": null,
   "metadata": {},
   "outputs": [],
   "source": [
    "webservice.delete()"
   ]
  }
 ],
 "metadata": {
  "kernelspec": {
   "display_name": "Python 3.8",
   "language": "python",
   "name": "python3.8"
  },
  "language_info": {
   "codemirror_mode": {
    "name": "ipython",
    "version": 3
   },
   "file_extension": ".py",
   "mimetype": "text/x-python",
   "name": "python",
   "nbconvert_exporter": "python",
   "pygments_lexer": "ipython3",
   "version": "3.8.5-final"
  }
 },
 "nbformat": 4,
 "nbformat_minor": 2
}
