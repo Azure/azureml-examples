{
 "cells": [
  {
   "cell_type": "code",
   "execution_count": null,
   "metadata": {},
   "outputs": [],
   "source": [
    "from azureml.core import Workspace\n",
    "\n",
    "ws = Workspace.from_config()\n",
    "ws"
   ]
  },
  {
   "cell_type": "code",
   "execution_count": null,
   "metadata": {},
   "outputs": [],
   "source": [
    "import git\n",
    "\n",
    "# get root of git repo\n",
    "prefix = git.Repo('.', search_parent_directories=True).working_tree_dir\n",
    "\n",
    "# training script \n",
    "script_dir = prefix+'/code/models/sklearn/diabetes-ridge/'\n",
    "script_name = 'train.py'\n",
    "\n",
    "# environment file\n",
    "environment_file = prefix+'/environments/sklearn-example.yml'\n",
    "\n",
    "# azure ml settings\n",
    "environment_name = 'sklearn-diabetes-example'\n",
    "experiment_name = 'sklearn-diabetes-example'\n",
    "compute_target = 'cpu-cluster'"
   ]
  },
  {
   "cell_type": "code",
   "execution_count": null,
   "metadata": {
    "tags": []
   },
   "outputs": [],
   "source": [
    "print(open(script_dir+script_name).read())"
   ]
  },
  {
   "cell_type": "code",
   "execution_count": null,
   "metadata": {},
   "outputs": [],
   "source": [
    "from azureml.core import Environment, ScriptRunConfig, Experiment\n",
    "\n",
    "env = Environment.from_conda_specification(name=environment_name, file_path=environment_file)\n",
    "\n",
    "src = ScriptRunConfig(source_directory=script_dir, script=script_name)\n",
    "src.run_config.environment = env\n",
    "src.run_config.target = compute_target\n",
    "\n",
    "run = Experiment(ws, experiment_name).submit(src)\n",
    "run"
   ]
  },
  {
   "cell_type": "code",
   "execution_count": null,
   "metadata": {},
   "outputs": [],
   "source": [
    "from azureml.widgets import RunDetails\n",
    "\n",
    "RunDetails(run).show()"
   ]
  },
  {
   "cell_type": "code",
   "execution_count": null,
   "metadata": {
    "tags": []
   },
   "outputs": [],
   "source": [
    "run.wait_for_completion(show_output=True)"
   ]
  }
 ],
 "metadata": {
  "index": {
   "scenario": "training",
   "compute": "AML - CPU",
   "frameworks": "sklearn, mlflow",
   "dataset": "diabetes",
   "environment": "conda file",
   "distribution": "None",
   "other": "None"
  },
  "kernelspec": {
   "display_name": "Python 3.8.5 64-bit ('dkdc': conda)",
   "name": "python_defaultSpec_1598397713668"
  },
  "language_info": {
   "codemirror_mode": {
    "name": "ipython",
    "version": 3
   },
   "file_extension": ".py",
   "mimetype": "text/x-python",
   "name": "python",
   "nbconvert_exporter": "python",
   "pygments_lexer": "ipython3",
   "version": "3.8.5-final"
  }
 },
 "nbformat": 4,
 "nbformat_minor": 2
}
