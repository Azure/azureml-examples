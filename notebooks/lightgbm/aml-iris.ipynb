{
 "cells": [
  {
   "cell_type": "code",
   "execution_count": null,
   "metadata": {},
   "outputs": [],
   "source": [
    "from azureml.core import Workspace\n",
    "\n",
    "ws = Workspace.from_config()\n",
    "ws"
   ]
  },
  {
   "cell_type": "code",
   "execution_count": null,
   "metadata": {
    "tags": []
   },
   "outputs": [],
   "source": [
    "%%writefile requirements.txt\n",
    "scikit-learn\n",
    "lightgbm\n",
    "matplotlib \n",
    "azureml-mlflow "
   ]
  },
  {
   "cell_type": "code",
   "execution_count": null,
   "metadata": {
    "tags": []
   },
   "outputs": [],
   "source": [
    "%%writefile train.py\n",
    "import argparse\n",
    "\n",
    "from sklearn import datasets\n",
    "from sklearn.model_selection import train_test_split\n",
    "from sklearn.metrics import accuracy_score, log_loss\n",
    "import lightgbm as lgb\n",
    "import matplotlib as mpl\n",
    "\n",
    "import mlflow\n",
    "import mlflow.lightgbm\n",
    "\n",
    "mpl.use(\"Agg\")\n",
    "\n",
    "\n",
    "def parse_args():\n",
    "    parser = argparse.ArgumentParser(description=\"LightGBM example\")\n",
    "    parser.add_argument(\n",
    "        \"--learning-rate\",\n",
    "        type=float,\n",
    "        default=0.1,\n",
    "        help=\"learning rate to update step size at each boosting step (default: 0.3)\",\n",
    "    )\n",
    "    parser.add_argument(\n",
    "        \"--colsample-bytree\",\n",
    "        type=float,\n",
    "        default=1.0,\n",
    "        help=\"subsample ratio of columns when constructing each tree (default: 1.0)\",\n",
    "    )\n",
    "    parser.add_argument(\n",
    "        \"--subsample\",\n",
    "        type=float,\n",
    "        default=1.0,\n",
    "        help=\"subsample ratio of the training instances (default: 1.0)\",\n",
    "    )\n",
    "    return parser.parse_args()\n",
    "\n",
    "\n",
    "def main():\n",
    "    # parse command-line arguments\n",
    "    args = parse_args()\n",
    "\n",
    "    # prepare train and test data\n",
    "    iris = datasets.load_iris()\n",
    "    X = iris.data\n",
    "    y = iris.target\n",
    "    X_train, X_test, y_train, y_test = train_test_split(X, y, test_size=0.2, random_state=42)\n",
    "    train_set = lgb.Dataset(X_train, label=y_train)\n",
    "\n",
    "    # enable auto logging\n",
    "    mlflow.lightgbm.autolog()\n",
    "\n",
    "    with mlflow.start_run():\n",
    "\n",
    "        # train model\n",
    "        params = {\n",
    "            \"objective\": \"multiclass\",\n",
    "            \"num_class\": 3,\n",
    "            \"learning_rate\": args.learning_rate,\n",
    "            \"metric\": \"multi_logloss\",\n",
    "            \"colsample_bytree\": args.colsample_bytree,\n",
    "            \"subsample\": args.subsample,\n",
    "            \"seed\": 42,\n",
    "        }\n",
    "        model = lgb.train(\n",
    "            params, train_set, num_boost_round=10, valid_sets=[train_set], valid_names=[\"train\"]\n",
    "        )\n",
    "\n",
    "        # evaluate model\n",
    "        y_proba = model.predict(X_test)\n",
    "        y_pred = y_proba.argmax(axis=1)\n",
    "        loss = log_loss(y_test, y_proba)\n",
    "        acc = accuracy_score(y_test, y_pred)\n",
    "\n",
    "        # log metrics\n",
    "        mlflow.log_metrics({\"log_loss\": loss, \"accuracy\": acc})\n",
    "\n",
    "\n",
    "if __name__ == \"__main__\":\n",
    "    main()\n"
   ]
  },
  {
   "cell_type": "code",
   "execution_count": null,
   "metadata": {},
   "outputs": [],
   "source": [
    "from azureml.core import ScriptRunConfig, Experiment, Environment \n",
    "\n",
    "env = Environment.from_pip_requirements('lightgbm-iris-env', 'requirements.txt')\n",
    "env.docker.enabled = True \n",
    "\n",
    "src = ScriptRunConfig(source_directory='.', script='train.py')\n",
    "src.run_config.environment = env\n",
    "src.run_config.target = 'cpu-cluster'\n",
    "\n",
    "run = Experiment(ws, 'lightgbm-aml-iris').submit(src)\n",
    "run"
   ]
  },
  {
   "cell_type": "code",
   "execution_count": null,
   "metadata": {},
   "outputs": [],
   "source": [
    "from azureml.widgets import RunDetails\n",
    "\n",
    "RunDetails(run).show()"
   ]
  },
  {
   "cell_type": "code",
   "execution_count": null,
   "metadata": {},
   "outputs": [],
   "source": [
    "run.wait_for_completion(show_output=True)"
   ]
  }
 ],
 "metadata": {
  "kernelspec": {
   "display_name": "Python 3.8.5 64-bit ('dkdc': conda)",
   "name": "python_defaultSpec_1598062874686"
  },
  "language_info": {
   "codemirror_mode": {
    "name": "ipython",
    "version": 3
   },
   "file_extension": ".py",
   "mimetype": "text/x-python",
   "name": "python",
   "nbconvert_exporter": "python",
   "pygments_lexer": "ipython3",
   "version": "3.8.5-final"
  }
 },
 "nbformat": 4,
 "nbformat_minor": 2
}
