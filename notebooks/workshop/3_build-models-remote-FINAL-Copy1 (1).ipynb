{
 "cells": [
  {
   "cell_type": "markdown",
   "metadata": {},
   "source": [
    "Copyright (c) Microsoft Corporation. All rights reserved.  \n",
    "Licensed under the MIT License."
   ]
  },
  {
   "cell_type": "markdown",
   "metadata": {},
   "source": [
    "# Want to *actually* do machine learning? \n",
    "## Part 2: Build and train models\n",
    "\n",
    "*Made for Microsoft Build 2019*\n",
    "\n",
    "This is the second in a series that walks through how Azure Machine Learning service can speed up your machine learning modelling workflow so you can focus on the interesting tasks that matter. \n",
    "\n",
    "**Goal:**\n",
    "In this notebook, we'll build and train regression models using the data we've prepared in Part 1. \n"
   ]
  },
  {
   "cell_type": "markdown",
   "metadata": {},
   "source": [
    "## Submit Experiment on Remote GPU Cluster"
   ]
  },
  {
   "cell_type": "code",
   "execution_count": 23,
   "metadata": {},
   "outputs": [],
   "source": [
    "from azureml.core import Workspace, Experiment, Run\n",
    "from azureml.train.dnn import PyTorch\n",
    "ws = Workspace.from_config()\n",
    "\n",
    "exp = Experiment(ws,'train_taxi_remote')\n",
    "\n",
    "\n",
    "src = PyTorch(\n",
    "      source_directory = '.',\n",
    "      compute_target='training-gpu-2', \n",
    "      entry_script = 'train.py', \n",
    "      use_gpu = True, \n",
    "      pip_packages = ['azureml-dataprep','scikit-learn','seaborn','tqdm','numpy','pandas'])\n",
    "\n",
    "run = exp.submit(src)\n"
   ]
  },
  {
   "cell_type": "markdown",
   "metadata": {},
   "source": [
    "## Track Experiment"
   ]
  },
  {
   "cell_type": "code",
   "execution_count": 25,
   "metadata": {},
   "outputs": [
    {
     "data": {
      "application/vnd.jupyter.widget-view+json": {
       "model_id": "fccfb3ccccd74fe2a9f04a99d988976b",
       "version_major": 2,
       "version_minor": 0
      },
      "text/plain": [
       "_UserRunWidget(widget_settings={'childWidgetDisplay': 'popup', 'send_telemetry': False, 'log_level': 'INFO', '…"
      ]
     },
     "metadata": {},
     "output_type": "display_data"
    }
   ],
   "source": [
    "from azureml.widgets import RunDetails\n",
    "\n",
    "RunDetails(run).show()"
   ]
  },
  {
   "cell_type": "markdown",
   "metadata": {},
   "source": [
    "## Register Model with AML"
   ]
  },
  {
   "cell_type": "code",
   "execution_count": 26,
   "metadata": {},
   "outputs": [],
   "source": [
    "model=run.register_model(model_name='pytorch_regression_remote', model_path='outputs/model_remote.pkl')"
   ]
  }
 ],
 "metadata": {
  "kernelspec": {
   "display_name": "Python 3",
   "language": "python",
   "name": "python3"
  },
  "language_info": {
   "codemirror_mode": {
    "name": "ipython",
    "version": 3
   },
   "file_extension": ".py",
   "mimetype": "text/x-python",
   "name": "python",
   "nbconvert_exporter": "python",
   "pygments_lexer": "ipython3",
   "version": "3.7.0"
  }
 },
 "nbformat": 4,
 "nbformat_minor": 2
}
