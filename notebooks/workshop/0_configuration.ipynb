{
 "cells": [
  {
   "cell_type": "markdown",
   "metadata": {},
   "source": [
    "# Want to *actually* do machine learning?\n",
    "## Part 0: Configuration\n",
    "\n",
    "_Made for Microsoft Build 2019_\n",
    "\n",
    "This notebook ensures that you have all the necessary setup in order to run the remaining notebooks smoothly. In particular, we'll make sure you have an Azure Machine Learning (ML) workspace with the sample data we'll use in our walkthrough.\n",
    "\n",
    "In general, we assume that you're running in Azure ML's Notebooks VMs, which already knows which workspace you're in so you can skip some setup. It also comes with the Azure ML Python SDK pre-installed; make sure you're using the \"Python 3.6 - AzureML\" kernel.\n",
    "\n",
    "> However, in order to upload local data, you'll need to either:\n",
    "> 1. Run this notebook locally, or\n",
    "> 2. Use the [Azure Portal](http://portal.azure.com) to upload via the web interface.\n",
    "\n",
    "\n",
    "#### Table of Contents\n",
    "\n",
    "1. [Configure your Azure ML workspace](#Configure%20your%20Azure%20ML%20workspace)\n",
    "1. [Upload sample data to Azure Blob Storage](#Upload%20sample%20data%20to%20Azure%20Blob%20Storage)\n",
    "1. [Next steps](#Next%20steps)"
   ]
  },
  {
   "cell_type": "markdown",
   "metadata": {},
   "source": [
    "---\n",
    "\n",
    "### Configure your Azure ML workspace\n",
    "\n",
    "Already have a workspace you want to use? Or, want to create a new workspace? In either case, you'll need to provide the same parameters below:\n",
    "* __Your subscription id__. You can get this from the [Azure portal](https://portal.azure.com).\n",
    "* __A resource group name__. You will also need access to a [resource group](https://docs.microsoft.com/en-us/azure/azure-resource-manager/resource-group-overview#resource-groups), which organizes Azure resources and provides a default region for the resources in a group. You can see what resource groups to which you have access or create a new one in the [Azure portal](https://portal.azure.com). If you don't have a resource group, the create workspace command will create one for you using the name you provide.\n",
    "* __A name for your workspace__. The name for your workspace is unique within the subscription, so it should be descriptive enough to discern among other Azure ML workspaces.  Depending on the scope of who has access to your subscription (i.e. only you, your department, or your entire enterprise), choose a name that makes sense for that scope.\n",
    "* (optional) __The region that will host your workspace__. The region to host your workspace will be used if you are creating a new workspace.  You do not need to specify this if you are using an existing workspace. You can find the list of supported regions [here](https://azure.microsoft.com/en-us/global-infrastructure/services/?products=machine-learning-service).  You should pick a region that is close to your location or that contains your data.\n",
    "\n",
    "Replace the default values in the cell below with your workspace parameters:"
   ]
  },
  {
   "cell_type": "code",
   "execution_count": 1,
   "metadata": {},
   "outputs": [],
   "source": [
    "subscription_id = \"db74d2db-c6a4-4287-b984-fd05ac72cf42\"\n",
    "resource_group = \"omg_aml_testing\"\n",
    "workspace_name = \"actuallydemosung\"\n",
    "workspace_region = \"West Europe\""
   ]
  },
  {
   "cell_type": "markdown",
   "metadata": {},
   "source": [
    "#### Access your existing workspace\n",
    "\n",
    "If you already have an Azure ML workspace, the following cell attempts to load it specified by your parameters. The cell can fail if the specified workspace doesn't exist or you don't have permissions to access it. "
   ]
  },
  {
   "cell_type": "code",
   "execution_count": 26,
   "metadata": {},
   "outputs": [
    {
     "name": "stdout",
     "output_type": "stream",
     "text": [
      "Workspace configuration succeeded. Skip the workspace creation steps below. subscription_id = db74d2db-c6a4-4287-b984-fd05ac72cf42\n"
     ]
    }
   ],
   "source": [
    "from azureml.core import Workspace\n",
    "\n",
    "try:\n",
    "    ws = Workspace(\n",
    "        subscription_id = subscription_id, \n",
    "        resource_group = resource_group, \n",
    "        workspace_name = workspace_name\n",
    "    )\n",
    "    print(\"Workspace configuration succeeded. Skip the workspace creation steps below. subscription_id = \"+subscription_id)\n",
    "except:\n",
    "    print(\"Workspace not accessible. Change your parameters or create a new workspace below\")"
   ]
  },
  {
   "cell_type": "markdown",
   "metadata": {},
   "source": [
    "#### Create a new workspace\n",
    "\n",
    "This cell will create an Azure ML workspace for you in a subscription provided you have the correct permissions.\n",
    "\n",
    "This will fail if:\n",
    "* You don't have permission to create a workspace in the resource group\n",
    "* You don't have a resource group and you don't have permission to create a resource group\n",
    "* You aren't a subscription owner or contributor and no Azure ML workspaces have ever been created in this subscription\n",
    "\n",
    "If workspace creation fails, please work with your IT admin to provide you with the appropriate permissions or to provision the required resources."
   ]
  },
  {
   "cell_type": "code",
   "execution_count": 24,
   "metadata": {},
   "outputs": [
    {
     "data": {
      "text/plain": [
       "{'id': '/subscriptions/db74d2db-c6a4-4287-b984-fd05ac72cf42/resourceGroups/omg_aml_testing/providers/Microsoft.MachineLearningServices/workspaces/actuallydemosung',\n",
       " 'name': 'actuallydemosung',\n",
       " 'location': 'westeurope',\n",
       " 'type': 'Microsoft.MachineLearningServices/workspaces',\n",
       " 'tags': {},\n",
       " 'workspaceid': '7e985739-46ef-4d8c-9eb2-84b2f57dd5bd',\n",
       " 'description': '',\n",
       " 'friendlyName': '',\n",
       " 'creationTime': '2019-06-11T00:29:05.9019797+00:00',\n",
       " 'keyVault': '/subscriptions/db74d2db-c6a4-4287-b984-fd05ac72cf42/resourcegroups/omg_aml_testing/providers/microsoft.keyvault/vaults/actuallydemosu1005639927',\n",
       " 'applicationInsights': '/subscriptions/db74d2db-c6a4-4287-b984-fd05ac72cf42/resourcegroups/omg_aml_testing/providers/microsoft.insights/components/actuallydemosu9047442039',\n",
       " 'identityPrincipalId': 'b089749e-6ddb-4508-a002-b2834068ce55',\n",
       " 'identityTenantId': '72f988bf-86f1-41af-91ab-2d7cd011db47',\n",
       " 'identityType': 'SystemAssigned',\n",
       " 'storageAccount': '/subscriptions/db74d2db-c6a4-4287-b984-fd05ac72cf42/resourcegroups/omg_aml_testing/providers/microsoft.storage/storageaccounts/actuallydemosu2861837467'}"
      ]
     },
     "execution_count": 24,
     "metadata": {},
     "output_type": "execute_result"
    }
   ],
   "source": [
    "from azureml.core import Workspace\n",
    "\n",
    "# Create the workspace using the specified parameters\n",
    "ws = Workspace.create(\n",
    "    name = workspace_name,\n",
    "    subscription_id = subscription_id,\n",
    "    resource_group = resource_group, \n",
    "    location = workspace_region,\n",
    "    create_resource_group = True,\n",
    "    exist_ok = True\n",
    ")\n",
    "ws.get_details()"
   ]
  },
  {
   "cell_type": "markdown",
   "metadata": {},
   "source": [
    "### Upload sample data to Azure Blob Storage\n",
    "\n",
    "For this walkthrough, we use data from [NYC's Taxi and Limousine Commission data sets](https://www1.nyc.gov/site/tlc/about/tlc-trip-record-data.page). In particular, we're using 6 csv files that we'll coalesce into one data set: the January through June 2018 Yellow Taxi files. Expand the 2018 menu, click on each data set to download it, and move them all into one folder. The following cell will upload them into your workspace's Azure Blob Storage; you'll need to replace the `src_dir` parameter with the path to your newly created folder that contains all 6 files:"
   ]
  },
  {
   "cell_type": "code",
   "execution_count": 23,
   "metadata": {},
   "outputs": [
    {
     "name": "stdout",
     "output_type": "stream",
     "text": [
      "Uploading .\\data\\yellow_tripdata_2018-01.csv\n"
     ]
    },
    {
     "name": "stderr",
     "output_type": "stream",
     "text": [
      "--- Logging error ---\n",
      "Traceback (most recent call last):\n",
      "  File \"C:\\Users\\SUHON\\AppData\\Local\\Continuum\\anaconda3\\lib\\site-packages\\azureml\\data\\azure_storage_datastore.py\", line 256, in handler\n",
      "    result = fn()\n",
      "  File \"C:\\Users\\SUHON\\AppData\\Local\\Continuum\\anaconda3\\lib\\site-packages\\azureml\\data\\azure_storage_datastore.py\", line 576, in <lambda>\n",
      "    lambda target, source: lambda: self.blob_service.create_blob_from_path(self.container_name, target, source)\n",
      "  File \"C:\\Users\\SUHON\\AppData\\Local\\Continuum\\anaconda3\\lib\\site-packages\\azureml\\_vendor\\azure_storage\\blob\\blockblobservice.py\", line 463, in create_blob_from_path\n",
      "    timeout=timeout)\n",
      "  File \"C:\\Users\\SUHON\\AppData\\Local\\Continuum\\anaconda3\\lib\\site-packages\\azureml\\_vendor\\azure_storage\\blob\\blockblobservice.py\", line 614, in create_blob_from_stream\n",
      "    initialization_vector=iv\n",
      "  File \"C:\\Users\\SUHON\\AppData\\Local\\Continuum\\anaconda3\\lib\\site-packages\\azureml\\_vendor\\azure_storage\\blob\\_upload_chunking.py\", line 85, in _upload_blob_chunks\n",
      "    raise f.exception()\n",
      "  File \"C:\\Users\\SUHON\\AppData\\Local\\Continuum\\anaconda3\\lib\\concurrent\\futures\\thread.py\", line 57, in run\n",
      "    result = self.fn(*self.args, **self.kwargs)\n",
      "  File \"C:\\Users\\SUHON\\AppData\\Local\\Continuum\\anaconda3\\lib\\site-packages\\azureml\\_vendor\\azure_storage\\blob\\_upload_chunking.py\", line 210, in process_chunk\n",
      "    return self._upload_chunk_with_progress(chunk_offset, chunk_bytes)\n",
      "  File \"C:\\Users\\SUHON\\AppData\\Local\\Continuum\\anaconda3\\lib\\site-packages\\azureml\\_vendor\\azure_storage\\blob\\_upload_chunking.py\", line 224, in _upload_chunk_with_progress\n",
      "    range_id = self._upload_chunk(chunk_offset, chunk_data)\n",
      "  File \"C:\\Users\\SUHON\\AppData\\Local\\Continuum\\anaconda3\\lib\\site-packages\\azureml\\_vendor\\azure_storage\\blob\\_upload_chunking.py\", line 269, in _upload_chunk\n",
      "    timeout=self.timeout,\n",
      "  File \"C:\\Users\\SUHON\\AppData\\Local\\Continuum\\anaconda3\\lib\\site-packages\\azureml\\_vendor\\azure_storage\\blob\\blockblobservice.py\", line 1013, in _put_block\n",
      "    self._perform_request(request)\n",
      "  File \"C:\\Users\\SUHON\\AppData\\Local\\Continuum\\anaconda3\\lib\\site-packages\\azureml\\_vendor\\azure_storage\\common\\storageclient.py\", line 381, in _perform_request\n",
      "    raise ex\n",
      "  File \"C:\\Users\\SUHON\\AppData\\Local\\Continuum\\anaconda3\\lib\\site-packages\\azureml\\_vendor\\azure_storage\\common\\storageclient.py\", line 306, in _perform_request\n",
      "    raise ex\n",
      "  File \"C:\\Users\\SUHON\\AppData\\Local\\Continuum\\anaconda3\\lib\\site-packages\\azureml\\_vendor\\azure_storage\\common\\storageclient.py\", line 292, in _perform_request\n",
      "    HTTPError(response.status, response.message, response.headers, response.body))\n",
      "  File \"C:\\Users\\SUHON\\AppData\\Local\\Continuum\\anaconda3\\lib\\site-packages\\azureml\\_vendor\\azure_storage\\common\\_error.py\", line 115, in _http_error_handler\n",
      "    raise ex\n",
      "azure.common.AzureMissingResourceHttpError: The specified container does not exist. ErrorCode: ContainerNotFound\n",
      "<?xml version=\"1.0\" encoding=\"utf-8\"?><Error><Code>ContainerNotFound</Code><Message>The specified container does not exist.\n",
      "RequestId:5f26ad6e-d01e-0064-647e-24be4d000000\n",
      "Time:2019-06-16T20:02:56.6927557Z</Message></Error>\n",
      "\n",
      "During handling of the above exception, another exception occurred:\n",
      "\n",
      "Traceback (most recent call last):\n",
      "  File \"C:\\Users\\SUHON\\AppData\\Local\\Continuum\\anaconda3\\lib\\logging\\__init__.py\", line 983, in emit\n",
      "    msg = self.format(record)\n",
      "  File \"C:\\Users\\SUHON\\AppData\\Local\\Continuum\\anaconda3\\lib\\logging\\__init__.py\", line 829, in format\n",
      "    return fmt.format(record)\n",
      "  File \"C:\\Users\\SUHON\\AppData\\Local\\Continuum\\anaconda3\\lib\\logging\\__init__.py\", line 569, in format\n",
      "    record.message = record.getMessage()\n",
      "  File \"C:\\Users\\SUHON\\AppData\\Local\\Continuum\\anaconda3\\lib\\logging\\__init__.py\", line 331, in getMessage\n",
      "    msg = msg % self.args\n",
      "TypeError: not all arguments converted during string formatting\n",
      "Call stack:\n",
      "  File \"C:\\Users\\SUHON\\AppData\\Local\\Continuum\\anaconda3\\lib\\threading.py\", line 885, in _bootstrap\n",
      "    self._bootstrap_inner()\n",
      "  File \"C:\\Users\\SUHON\\AppData\\Local\\Continuum\\anaconda3\\lib\\threading.py\", line 917, in _bootstrap_inner\n",
      "    self.run()\n",
      "  File \"C:\\Users\\SUHON\\AppData\\Local\\Continuum\\anaconda3\\lib\\threading.py\", line 865, in run\n",
      "    self._target(*self._args, **self._kwargs)\n",
      "  File \"C:\\Users\\SUHON\\AppData\\Local\\Continuum\\anaconda3\\lib\\site-packages\\azureml\\_history\\utils\\task_queue.py\", line 57, in _awaiter\n",
      "    result = task.wait()\n",
      "  File \"C:\\Users\\SUHON\\AppData\\Local\\Continuum\\anaconda3\\lib\\site-packages\\azureml\\_history\\utils\\async_task.py\", line 48, in wait\n",
      "    return self._handler(self._task, self._logger)\n",
      "  File \"C:\\Users\\SUHON\\AppData\\Local\\Continuum\\anaconda3\\lib\\site-packages\\azureml\\data\\azure_storage_datastore.py\", line 263, in handler\n",
      "    logger.error(\"Task Exception\", e)\n",
      "Message: 'Task Exception'\n",
      "Arguments: (AzureMissingResourceHttpError('The specified container does not exist. ErrorCode: ContainerNotFound\\n<?xml version=\"1.0\" encoding=\"utf-8\"?><Error><Code>ContainerNotFound</Code><Message>The specified container does not exist.\\nRequestId:5f26ad6e-d01e-0064-647e-24be4d000000\\nTime:2019-06-16T20:02:56.6927557Z</Message></Error>'),)\n"
     ]
    },
    {
     "data": {
      "text/plain": [
       "$AZUREML_DATAREFERENCE_4934ad9617b046738dad062fc8123123"
      ]
     },
     "execution_count": 23,
     "metadata": {},
     "output_type": "execute_result"
    }
   ],
   "source": [
    "import azureml.data\n",
    "from azureml.data.azure_storage_datastore import AzureFileDatastore, AzureBlobDatastore\n",
    "\n",
    "datastore = ws.get_default_datastore()\n",
    "\n",
    "datastore.upload(\n",
    "    src_dir=\".\\data\",\n",
    "    target_path=\"yellow_tripdata_2018_01\",\n",
    "    overwrite=True, \n",
    "    show_progress=True)\n",
    "\n",
    "\n",
    "#datastore.upload(src_dir='your source directory',\n",
    " #         target_path='your target path',\n",
    "  #        overwrite=True,\n",
    "   #       show_progress=True)"
   ]
  },
  {
   "cell_type": "markdown",
   "metadata": {},
   "source": [
    "---\n",
    "\n",
    "### Next steps\n",
    "\n",
    "Now you can continue running our other notebooks for the walkthrough on Azure ML Notebook VMs. Continue to [Part 1: Ingest and Wrangle Data](1_ingest-wrangle-data.ipynb)."
   ]
  }
 ],
 "metadata": {
  "authors": [
   {
    "name": "roastala"
   }
  ],
  "kernelspec": {
   "display_name": "Python 3",
   "language": "python",
   "name": "python3"
  },
  "language_info": {
   "codemirror_mode": {
    "name": "ipython",
    "version": 3
   },
   "file_extension": ".py",
   "mimetype": "text/x-python",
   "name": "python",
   "nbconvert_exporter": "python",
   "pygments_lexer": "ipython3",
   "version": "3.7.0"
  },
  "nteract": {
   "version": "0.12.3"
  }
 },
 "nbformat": 4,
 "nbformat_minor": 2
}
