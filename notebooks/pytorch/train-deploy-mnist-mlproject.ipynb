{
 "cells": [
  {
   "cell_type": "code",
   "execution_count": null,
   "metadata": {
    "tags": []
   },
   "outputs": [],
   "source": [
    "import mlflow\n",
    "import mlflow.azureml\n",
    "\n",
    "import azureml.core\n",
    "\n",
    "print('SDK version:', azureml.core.VERSION)\n",
    "print('MLflow version:', mlflow.version.VERSION)"
   ]
  },
  {
   "cell_type": "code",
   "execution_count": null,
   "metadata": {
    "tags": []
   },
   "outputs": [],
   "source": [
    "from azureml.core import Workspace\n",
    "\n",
    "ws = Workspace.from_config()\n",
    "ws"
   ]
  },
  {
   "cell_type": "code",
   "execution_count": null,
   "metadata": {
    "tags": []
   },
   "outputs": [],
   "source": [
    "import git\n",
    "\n",
    "# get root of git repo\n",
    "prefix = git.Repo('.', search_parent_directories=True).working_tree_dir\n",
    "\n",
    "# project settings\n",
    "project_uri = prefix+'/code/mlprojects/pytorch-mnist'\n",
    "\n",
    "# azure ml settings\n",
    "experiment_name = 'pytorch-mnist-mlflow-project-example'\n",
    "compute_target = 'gpu-cluster'"
   ]
  },
  {
   "cell_type": "code",
   "execution_count": null,
   "metadata": {
    "tags": []
   },
   "outputs": [],
   "source": [
    "mlflow.set_tracking_uri(ws.get_mlflow_tracking_uri())"
   ]
  },
  {
   "cell_type": "code",
   "execution_count": null,
   "metadata": {
    "tags": []
   },
   "outputs": [],
   "source": [
    "mlflow.set_experiment(experiment_name)"
   ]
  },
  {
   "cell_type": "code",
   "execution_count": null,
   "metadata": {},
   "outputs": [],
   "source": [
    "backend_config = {'COMPUTE': compute_target, 'USE_CONDA': False}"
   ]
  },
  {
   "cell_type": "code",
   "execution_count": null,
   "metadata": {
    "tags": [
     "outputPrepend"
    ]
   },
   "outputs": [],
   "source": [
    "run = mlflow.projects.run(uri=project_uri, \n",
    "                          backend='azureml',\n",
    "                          backend_config=backend_config)"
   ]
  },
  {
   "cell_type": "code",
   "execution_count": null,
   "metadata": {
    "tags": []
   },
   "outputs": [],
   "source": [
    "run "
   ]
  },
  {
   "cell_type": "markdown",
   "metadata": {},
   "source": [
    "## Deploy model"
   ]
  },
  {
   "cell_type": "code",
   "execution_count": null,
   "metadata": {
    "tags": []
   },
   "outputs": [],
   "source": [
    "from azureml.core.webservice import AciWebservice, AksWebservice, Webservice\n",
    "\n",
    "model_path = 'model'\n",
    "\n",
    "aks_config = AksWebservice.deploy_configuration(compute_target_name='aks-cpu-deploy',\n",
    "                                                cpu_cores=2,\n",
    "                                                memory_gb=5,\n",
    "                                                tags={'data': 'MNIST', 'method': 'pytorch'}, \n",
    "                                                description='Predict using webservice')\n",
    "\n",
    "webservice, azure_model = mlflow.azureml.deploy(model_uri='runs:/{}/{}'.format(run.run_id, model_path),\n",
    "                                                      workspace=ws,\n",
    "                                                      deployment_config=aks_config,\n",
    "                                                      service_name='pytorch-mnist-example',\n",
    "                                                      model_name='pytorch-mnist-example')"
   ]
  },
  {
   "cell_type": "markdown",
   "metadata": {},
   "source": [
    "## Test webservice"
   ]
  },
  {
   "cell_type": "code",
   "execution_count": null,
   "metadata": {
    "tags": []
   },
   "outputs": [],
   "source": [
    "from torchvision import datasets, transforms\n",
    "import random\n",
    "import numpy as np\n",
    "\n",
    "test_data = datasets.MNIST('../../data/tmp', train=False, transform=transforms.Compose([\n",
    "                       transforms.ToTensor(),\n",
    "                       transforms.Normalize((0.1307,), (0.3081,))]), download=True)\n",
    "\n",
    "\n",
    "def get_random_image():\n",
    "    image_idx = random.randint(0,len(test_data))\n",
    "    image_as_tensor = test_data[image_idx][0]\n",
    "    return {'data': elem for elem in image_as_tensor.numpy().reshape(1,1,-1).tolist()}"
   ]
  },
  {
   "cell_type": "code",
   "execution_count": null,
   "metadata": {
    "tags": []
   },
   "outputs": [],
   "source": [
    "%matplotlib inline\n",
    "\n",
    "import json\n",
    "import matplotlib.pyplot as plt\n",
    "\n",
    "test_image = get_random_image()\n",
    "\n",
    "response = webservice.run(json.dumps(test_image))\n",
    "\n",
    "response = sorted(response[0].items(), key = lambda x: x[1], reverse = True)\n",
    "\n",
    "\n",
    "print('Predicted label:', response[0][0])\n",
    "plt.imshow(np.array(test_image['data']).reshape(28,28), cmap = 'gray')"
   ]
  },
  {
   "cell_type": "markdown",
   "metadata": {},
   "source": [
    "## Clean up\n",
    "You can delete the AKS deployment with a delete API call."
   ]
  },
  {
   "cell_type": "code",
   "execution_count": null,
   "metadata": {
    "tags": []
   },
   "outputs": [],
   "source": [
    "webservice.delete()"
   ]
  }
 ],
 "metadata": {
  "index": {
   "compute": "AML - GPU, AKS - CPU",
   "dataset": "mnist",
   "distribution": "None",
   "environment": "conda file",
   "frameworks": "pytorch, mlflow",
   "other": "mlproject",
   "scenario": "training, deployment"
  },
  "kernelspec": {
   "display_name": "Python 3.8.5 64-bit ('dkdc': conda)",
   "language": "python",
   "name": "python_defaultSpec_1599245623821"
  },
  "language_info": {
   "codemirror_mode": {
    "name": "ipython",
    "version": 3
   },
   "file_extension": ".py",
   "mimetype": "text/x-python",
   "name": "python",
   "nbconvert_exporter": "python",
   "pygments_lexer": "ipython3",
   "version": "3.8.5-final"
  },
  "name": "mlflow-projects-pytorch",
  "notebookId": 2495374963457641,
  "tags": [
   "mlflow",
   "pytorch"
  ],
  "task": "Use MLflow with Azure Machine Learning to train and deploy PyTorch image classifier model"
 },
 "nbformat": 4,
 "nbformat_minor": 4
}
