{
 "cells": [
  {
   "cell_type": "code",
   "execution_count": null,
   "metadata": {},
   "outputs": [],
   "source": [
    "import mlflow\n",
    "import mlflow.azureml\n",
    "\n",
    "import azureml.core\n",
    "from azureml.core import Workspace\n",
    "\n",
    "\n",
    "print(\"SDK version:\", azureml.core.VERSION)\n",
    "print(\"MLflow version:\", mlflow.version.VERSION)"
   ]
  },
  {
   "cell_type": "code",
   "execution_count": null,
   "metadata": {},
   "outputs": [],
   "source": [
    "ws = Workspace.from_config()\n",
    "ws.get_details()"
   ]
  },
  {
   "cell_type": "code",
   "execution_count": null,
   "metadata": {},
   "outputs": [],
   "source": [
    "# azure ml settings\n",
    "compute_target = 'gpu-cluster'"
   ]
  },
  {
   "cell_type": "code",
   "execution_count": null,
   "metadata": {},
   "outputs": [],
   "source": [
    "mlflow.set_tracking_uri(ws.get_mlflow_tracking_uri())"
   ]
  },
  {
   "cell_type": "code",
   "execution_count": null,
   "metadata": {},
   "outputs": [],
   "source": [
    "experiment_name = \"pytorch-mlflow-projects\"\n",
    "mlflow.set_experiment(experiment_name)"
   ]
  },
  {
   "cell_type": "code",
   "execution_count": null,
   "metadata": {},
   "outputs": [],
   "source": [
    "backend_config = {\"COMPUTE\": \"gpu-cluster\", \"USE_CONDA\": False}"
   ]
  },
  {
   "cell_type": "code",
   "execution_count": null,
   "metadata": {},
   "outputs": [],
   "source": [
    "run = mlflow.projects.run(uri=\".\", \n",
    "                            backend = \"azureml\",\n",
    "                            backend_config = backend_config)"
   ]
  },
  {
   "cell_type": "markdown",
   "metadata": {},
   "source": [
    "## Deploy model"
   ]
  },
  {
   "cell_type": "code",
   "execution_count": null,
   "metadata": {
    "scrolled": false
   },
   "outputs": [],
   "source": [
    "from azureml.core.webservice import AciWebservice, Webservice\n",
    "\n",
    "model_path = \"model\"\n",
    "\n",
    "aci_config = AciWebservice.deploy_configuration(cpu_cores=2, \n",
    "                                                memory_gb=5, \n",
    "                                                tags={\"data\": \"MNIST\",  \"method\" : \"pytorch\"}, \n",
    "                                                description=\"Predict using webservice\")\n",
    "\n",
    "webservice, azure_model = mlflow.azureml.deploy(model_uri='runs:/{}/{}'.format(run.run_id, model_path),\n",
    "                                                      workspace=ws,\n",
    "                                                      deployment_config=aci_config,\n",
    "                                                      service_name=\"pytorch-mnist\",\n",
    "                                                      model_name=\"pytorch_mnist\")"
   ]
  },
  {
   "cell_type": "code",
   "execution_count": null,
   "metadata": {},
   "outputs": [],
   "source": [
    "from torchvision import datasets, transforms\n",
    "import random\n",
    "import numpy as np\n",
    "\n",
    "test_data = datasets.MNIST('../../data', train=False, transform=transforms.Compose([\n",
    "                       transforms.ToTensor(),\n",
    "                       transforms.Normalize((0.1307,), (0.3081,))]), download=True)\n",
    "\n",
    "\n",
    "def get_random_image():\n",
    "    image_idx = random.randint(0,len(test_data))\n",
    "    image_as_tensor = test_data[image_idx][0]\n",
    "    return {\"data\": elem for elem in image_as_tensor.numpy().reshape(1,1,-1).tolist()}"
   ]
  },
  {
   "cell_type": "code",
   "execution_count": null,
   "metadata": {},
   "outputs": [],
   "source": [
    "%matplotlib inline\n",
    "\n",
    "import json\n",
    "import matplotlib.pyplot as plt\n",
    "\n",
    "test_image = get_random_image()\n",
    "\n",
    "response = webservice.run(json.dumps(test_image))\n",
    "\n",
    "response = sorted(response[0].items(), key = lambda x: x[1], reverse = True)\n",
    "\n",
    "\n",
    "print(\"Predicted label:\", response[0][0])\n",
    "plt.imshow(np.array(test_image[\"data\"]).reshape(28,28), cmap = \"gray\")"
   ]
  },
  {
   "cell_type": "markdown",
   "metadata": {},
   "source": [
    "## Clean up\n",
    "You can delete the ACI deployment with a delete API call."
   ]
  },
  {
   "cell_type": "code",
   "execution_count": null,
   "metadata": {},
   "outputs": [],
   "source": [
    "webservice.delete()"
   ]
  }
 ],
 "metadata": {
  "authors": [
   {
    "name": "shipatel"
   }
  ],
  "category": "tutorial",
  "celltoolbar": "Edit Metadata",
  "compute": [
   "Local",
   "AML Compute"
  ],
  "datasets": [
   "MNIST"
  ],
  "deployment": [
   "Azure Container Instance"
  ],
  "exclude_from_index": false,
  "framework": [
   "PyTorch"
  ],
  "friendly_name": "Use MLflow with Azure Machine Learning to Train and Deploy PyTorch Image Classifier",
  "kernelspec": {
   "display_name": "Python [conda env:mfproject] *",
   "language": "python",
   "name": "conda-env-mfproject-py"
  },
  "language_info": {
   "codemirror_mode": {
    "name": "ipython",
    "version": 3
   },
   "file_extension": ".py",
   "mimetype": "text/x-python",
   "name": "python",
   "nbconvert_exporter": "python",
   "pygments_lexer": "ipython3",
   "version": "3.6.10"
  },
  "name": "mlflow-sparksummit-pytorch",
  "notebookId": 2495374963457641,
  "tags": [
   "mlflow",
   "pytorch"
  ],
  "task": "Use MLflow with Azure Machine Learning to train and deploy PyTorch image classifier model"
 },
 "nbformat": 4,
 "nbformat_minor": 4
}
