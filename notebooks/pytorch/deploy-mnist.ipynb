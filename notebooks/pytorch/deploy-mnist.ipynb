{
 "cells": [
  {
   "cell_type": "markdown",
   "metadata": {},
   "source": [
    "# Deploy pytorch model to webservice endpoint\n",
    "\n",
    "description: deploy pytorch CNN model trained on mnist data to AKS"
   ]
  },
  {
   "cell_type": "code",
   "execution_count": null,
   "metadata": {
    "tags": []
   },
   "outputs": [],
   "source": [
    "from azureml.core import Workspace\n",
    "\n",
    "ws = Workspace.from_config()\n",
    "ws"
   ]
  },
  {
   "cell_type": "code",
   "execution_count": null,
   "metadata": {
    "tags": []
   },
   "outputs": [],
   "source": [
    "import git\n",
    "from pathlib import Path\n",
    "\n",
    "# get root of git repo\n",
    "prefix = Path(git.Repo(\".\", search_parent_directories=True).working_tree_dir)\n",
    "\n",
    "# azure ml settings\n",
    "experiment_name = \"pytorch-mnist-mlproject-example\""
   ]
  },
  {
   "cell_type": "code",
   "execution_count": null,
   "metadata": {
    "tags": []
   },
   "outputs": [],
   "source": [
    "import mlflow\n",
    "\n",
    "mlflow.set_tracking_uri(ws.get_mlflow_tracking_uri())\n",
    "mlflow.set_experiment(experiment_name)"
   ]
  },
  {
   "cell_type": "code",
   "execution_count": null,
   "metadata": {
    "tags": []
   },
   "outputs": [],
   "source": [
    "model = None\n",
    "runs = ws.experiments[experiment_name].get_runs()\n",
    "run = next(runs)\n",
    "while run.get_status() != \"Completed\" or model is None:\n",
    "    run = next(runs)\n",
    "    try:\n",
    "        model = run.register_model(experiment_name, model_path=\"model\")\n",
    "    except:\n",
    "        pass\n",
    "\n",
    "run"
   ]
  },
  {
   "cell_type": "code",
   "execution_count": null,
   "metadata": {},
   "outputs": [],
   "source": [
    "from azureml.core.webservice import AksWebservice\n",
    "\n",
    "aks_config = AksWebservice.deploy_configuration(\n",
    "    compute_target_name=\"aks-cpu-deploy\",\n",
    "    cpu_cores=2,\n",
    "    memory_gb=5,\n",
    "    tags={\"data\": \"MNIST\", \"method\": \"pytorch\"},\n",
    "    description=\"Predict using webservice\",\n",
    ")"
   ]
  },
  {
   "cell_type": "code",
   "execution_count": null,
   "metadata": {
    "tags": []
   },
   "outputs": [],
   "source": [
    "import mlflow.azureml\n",
    "from random import randint\n",
    "\n",
    "webservice, azure_model = mlflow.azureml.deploy(\n",
    "    model_uri=f\"runs:/{run.id}/model\",\n",
    "    workspace=ws,\n",
    "    deployment_config=aks_config,\n",
    "    service_name=\"pytorch-mnist-\" + str(randint(10000, 99999)),\n",
    "    model_name=\"pytorch-mnist-example\",\n",
    ")"
   ]
  },
  {
   "cell_type": "code",
   "execution_count": null,
   "metadata": {
    "tags": []
   },
   "outputs": [],
   "source": [
    "import pandas as pd\n",
    "from random import randint\n",
    "\n",
    "img = pd.read_csv(\n",
    "    prefix.joinpath(\"data\", \"raw\", \"mnist\", f\"{randint(0, 9)}-example.csv\")\n",
    ")\n",
    "data = {\"data\": elem for elem in img.to_numpy().reshape(1, 1, -1).tolist()}"
   ]
  },
  {
   "cell_type": "code",
   "execution_count": null,
   "metadata": {
    "tags": []
   },
   "outputs": [],
   "source": [
    "%matplotlib inline\n",
    "\n",
    "import json\n",
    "import numpy as np\n",
    "import matplotlib.pyplot as plt\n",
    "\n",
    "response = webservice.run(json.dumps(data))\n",
    "response = sorted(response[0].items(), key=lambda x: x[1], reverse=True)\n",
    "\n",
    "print(\"Predicted label:\", response[0][0])\n",
    "plt.imshow(np.array(img).reshape(28, 28), cmap=\"gray\")"
   ]
  },
  {
   "cell_type": "code",
   "execution_count": null,
   "metadata": {
    "tags": []
   },
   "outputs": [],
   "source": [
    "webservice.delete()"
   ]
  }
 ],
 "metadata": {
  "kernelspec": {
   "display_name": "Python 3.8",
   "language": "python",
   "name": "python3.8"
  },
  "language_info": {
   "codemirror_mode": {
    "name": "ipython",
    "version": 3
   },
   "file_extension": ".py",
   "mimetype": "text/x-python",
   "name": "python",
   "nbconvert_exporter": "python",
   "pygments_lexer": "ipython3",
   "version": "3.8.5-final"
  },
  "name": "mlflow-projects-pytorch",
  "notebookId": 2495374963457641,
  "tags": [
   "mlflow",
   "pytorch"
  ],
  "task": "Use MLflow with Azure Machine Learning to train and deploy PyTorch image classifier model"
 },
 "nbformat": 4,
 "nbformat_minor": 4
}
