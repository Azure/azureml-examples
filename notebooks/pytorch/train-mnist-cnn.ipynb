{
 "cells": [
  {
   "cell_type": "code",
   "execution_count": null,
   "metadata": {},
   "outputs": [],
   "source": [
    "from azureml.core import Workspace\n",
    "\n",
    "ws = Workspace.from_config()\n",
    "ws"
   ]
  },
  {
   "cell_type": "code",
   "execution_count": null,
   "metadata": {},
   "outputs": [],
   "source": [
    "import git\n",
    "\n",
    "# get root of git repo\n",
    "prefix = git.Repo('.', search_parent_directories=True).working_tree_dir\n",
    "\n",
    "# training script \n",
    "script_dir = prefix+'/code/models/pytorch/mnist-cnn/'\n",
    "script_name = 'train.py'\n",
    "\n",
    "# environment file\n",
    "environment_file = prefix+'/environments/pytorch-example.yml'\n",
    "\n",
    "# azure ml settings\n",
    "environment_name = 'pytorch-iris-example'\n",
    "experiment_name = 'pytorch-mnist-example'\n",
    "compute_target = 'gpu-cluster'"
   ]
  },
  {
   "cell_type": "code",
   "execution_count": null,
   "metadata": {
    "tags": []
   },
   "outputs": [],
   "source": [
    "print(open(script_dir+script_name).read())"
   ]
  },
  {
   "cell_type": "code",
   "execution_count": null,
   "metadata": {},
   "outputs": [],
   "source": [
    "from azureml.core import ScriptRunConfig, Experiment, Environment\n",
    "\n",
    "env = Environment.from_conda_specification(environment_name, environment_file)\n",
    "env.docker.enabled = True\n",
    "\n",
    "src = ScriptRunConfig(source_directory=script_dir, script=script_name)\n",
    "src.run_config.environment = env\n",
    "src.run_config.target = compute_target\n",
    "\n",
    "run = Experiment(ws, experiment_name).submit(src)\n",
    "run"
   ]
  },
  {
   "cell_type": "code",
   "execution_count": null,
   "metadata": {},
   "outputs": [],
   "source": [
    "from azureml.widgets import RunDetails\n",
    "\n",
    "RunDetails(run).show()"
   ]
  },
  {
   "cell_type": "code",
   "execution_count": null,
   "metadata": {},
   "outputs": [],
   "source": [
    "run.wait_for_completion(show_output=True)"
   ]
  }
 ],
 "metadata": {
  "index": {
   "compute": "AML - GPU",
   "dataset": "mnist",
   "distribution": "None",
   "environment": "curated",
   "frameworks": "pytorch, mlflow",
   "other": "None",
   "scenario": "training"
  },
  "kernelspec": {
   "display_name": "Python 3.8.5 64-bit ('dkdc': conda)",
   "name": "python_defaultSpec_1598902295041"
  },
  "language_info": {
   "codemirror_mode": {
    "name": "ipython",
    "version": 3
   },
   "file_extension": ".py",
   "mimetype": "text/x-python",
   "name": "python",
   "nbconvert_exporter": "python",
   "pygments_lexer": "ipython3",
   "version": "3.8.5-final"
  }
 },
 "nbformat": 4,
 "nbformat_minor": 2
}
