{
 "cells": [
  {
   "cell_type": "code",
   "execution_count": null,
   "metadata": {},
   "outputs": [],
   "source": [
    "from azureml.core import Workspace\n",
    "\n",
    "ws = Workspace.from_config()\n",
    "ws"
   ]
  },
  {
   "cell_type": "code",
   "execution_count": null,
   "metadata": {
    "tags": []
   },
   "outputs": [],
   "source": [
    "%%writefile environment.yml\n",
    "name: sklearn-diabetes-env\n",
    "dependencies:\n",
    "  - python=3.6.2\n",
    "  - scikit-learn\n",
    "  - matplotlib\n",
    "  - numpy\n",
    "  - pip:\n",
    "    - azureml-mlflow\n",
    "    - numpy"
   ]
  },
  {
   "cell_type": "code",
   "execution_count": null,
   "metadata": {
    "tags": []
   },
   "outputs": [],
   "source": [
    "%%writefile train.py\n",
    "# Copyright (c) Microsoft. All rights reserved.\n",
    "# Licensed under the MIT license.\n",
    "\n",
    "import numpy as np\n",
    "from sklearn.datasets import load_diabetes\n",
    "from sklearn.linear_model import Ridge\n",
    "from sklearn.metrics import mean_squared_error\n",
    "from sklearn.model_selection import train_test_split\n",
    "import mlflow\n",
    "import mlflow.sklearn\n",
    "\n",
    "import matplotlib\n",
    "matplotlib.use('Agg')\n",
    "import matplotlib.pyplot as plt\n",
    "\n",
    "with mlflow.start_run():\n",
    "    X, y = load_diabetes(return_X_y=True)\n",
    "    columns = ['age', 'gender', 'bmi', 'bp', 's1', 's2', 's3', 's4', 's5', 's6']\n",
    "    X_train, X_test, y_train, y_test = train_test_split(X, y, test_size=0.2, random_state=0)\n",
    "    data = {\n",
    "        \"train\": {\"X\": X_train, \"y\": y_train},\n",
    "        \"test\": {\"X\": X_test, \"y\": y_test}}\n",
    "\n",
    "    mlflow.log_metric(\"Training samples\", len(data['train']['X']))\n",
    "    mlflow.log_metric(\"Test samples\", len(data['test']['X']))\n",
    "\n",
    "    # Log the algorithm parameter alpha to the run\n",
    "    mlflow.log_metric('alpha', 0.03)\n",
    "    # Create, fit, and test the scikit-learn Ridge regression model\n",
    "    regression_model = Ridge(alpha=0.03)\n",
    "    regression_model.fit(data['train']['X'], data['train']['y'])\n",
    "    preds = regression_model.predict(data['test']['X'])\n",
    "\n",
    "    # Log mean squared error\n",
    "    print('Mean Squared Error is', mean_squared_error(data['test']['y'], preds))\n",
    "    mlflow.log_metric('mse', mean_squared_error(data['test']['y'], preds))\n",
    "\n",
    "    # Save the model to the outputs directory for capture\n",
    "    mlflow.sklearn.log_model(regression_model, \"model\")\n",
    "\n",
    "    # Plot actuals vs predictions and save the plot within the run\n",
    "    fig = plt.figure(1)\n",
    "    idx = np.argsort(data['test']['y'])\n",
    "    plt.plot(data['test']['y'][idx], preds[idx])\n",
    "    fig.savefig(\"actuals_vs_predictions.png\")\n",
    "    mlflow.log_artifact(\"actuals_vs_predictions.png\")"
   ]
  },
  {
   "cell_type": "code",
   "execution_count": null,
   "metadata": {},
   "outputs": [],
   "source": [
    "from azureml.core import Environment, ScriptRunConfig, Experiment\n",
    "\n",
    "env = Environment.from_conda_specification(name = 'sklearn-diabetes', file_path = 'environment.yml')\n",
    "\n",
    "src = ScriptRunConfig(source_directory='.', script='train.py')\n",
    "src.run_config.environment = env\n",
    "src.run_config.target = 'cpu-cluster'\n",
    "\n",
    "run = Experiment(ws, 'sklearn-diabetes').submit(src)\n",
    "run"
   ]
  },
  {
   "cell_type": "code",
   "execution_count": null,
   "metadata": {},
   "outputs": [],
   "source": [
    "from azureml.widgets import RunDetails\n",
    "\n",
    "RunDetails(run).show()"
   ]
  },
  {
   "cell_type": "code",
   "execution_count": null,
   "metadata": {
    "tags": []
   },
   "outputs": [],
   "source": [
    "run.wait_for_completion(show_output=True)"
   ]
  },
  {
   "cell_type": "code",
   "execution_count": null,
   "metadata": {},
   "outputs": [],
   "source": [
    "import os\n",
    "\n",
    "os.remove('environment.yml')\n",
    "os.remove('train.py')"
   ]
  }
 ],
 "metadata": {
  "kernelspec": {
   "display_name": "Python 3.8.5 64-bit ('dkdc': conda)",
   "name": "python_defaultSpec_1598115536006"
  },
  "language_info": {
   "codemirror_mode": {
    "name": "ipython",
    "version": 3
   },
   "file_extension": ".py",
   "mimetype": "text/x-python",
   "name": "python",
   "nbconvert_exporter": "python",
   "pygments_lexer": "ipython3",
   "version": "3.8.5-final"
  }
 },
 "nbformat": 4,
 "nbformat_minor": 2
}
