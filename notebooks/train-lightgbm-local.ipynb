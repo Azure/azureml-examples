{
 "cells": [
  {
   "cell_type": "markdown",
   "metadata": {},
   "source": [
    "# Train with LightGBM in an Interactive Run\n",
    "\n",
    "description: use AML and mlflow to track interactive experimentation in the cloud "
   ]
  },
  {
   "cell_type": "code",
   "execution_count": null,
   "metadata": {},
   "outputs": [],
   "source": [
    "!pip install --upgrade lightgbm scikit-learn"
   ]
  },
  {
   "cell_type": "markdown",
   "metadata": {},
   "source": [
    "## Setup cloud tracking"
   ]
  },
  {
   "cell_type": "code",
   "execution_count": null,
   "metadata": {},
   "outputs": [],
   "source": [
    "from azureml.core import Workspace\n",
    "import mlflow\n",
    "\n",
    "ws = Workspace.from_config()\n",
    "mlflow.set_tracking_uri(ws.get_mlflow_tracking_uri())\n",
    "mlflow.set_experiment(\"lightgbm-iris-local-example\")"
   ]
  },
  {
   "cell_type": "markdown",
   "metadata": {},
   "source": [
    "## Load data"
   ]
  },
  {
   "cell_type": "code",
   "execution_count": null,
   "metadata": {},
   "outputs": [],
   "source": [
    "from sklearn import datasets\n",
    "from sklearn.model_selection import train_test_split\n",
    "import lightgbm as lgb\n",
    "\n",
    "# prepare train and test data\n",
    "iris = datasets.load_iris()\n",
    "X = iris.data\n",
    "y = iris.target\n",
    "X_train, X_test, y_train, y_test = train_test_split(\n",
    "    X, y, test_size=0.2, random_state=42\n",
    ")\n",
    "train_set = lgb.Dataset(X_train, label=y_train)"
   ]
  },
  {
   "cell_type": "markdown",
   "metadata": {},
   "source": [
    "## Train model"
   ]
  },
  {
   "cell_type": "code",
   "execution_count": null,
   "metadata": {},
   "outputs": [],
   "source": [
    "from sklearn.metrics import accuracy_score, log_loss\n",
    "\n",
    "# set training parameters\n",
    "params = {\n",
    "    \"objective\": \"multiclass\",\n",
    "    \"num_class\": 3,\n",
    "    \"learning_rate\": 0.1,\n",
    "    \"metric\": \"multi_logloss\",\n",
    "    \"colsample_bytree\": 1.0,\n",
    "    \"subsample\": 1.0,\n",
    "    \"seed\": 42,\n",
    "}\n",
    "\n",
    "# start run\n",
    "run = mlflow.start_run()\n",
    "\n",
    "# enable automatic logging\n",
    "mlflow.lightgbm.autolog()\n",
    "\n",
    "# train the lightgbm model\n",
    "model = lgb.train(params, train_set, num_boost_round=10,)\n",
    "\n",
    "# evaluate model\n",
    "y_proba = model.predict(X_test)\n",
    "y_pred = y_proba.argmax(axis=1)\n",
    "loss = log_loss(y_test, y_proba)\n",
    "acc = accuracy_score(y_test, y_pred)\n",
    "\n",
    "# log metrics from evaluation\n",
    "mlflow.log_metric(\"log_loss\", loss)\n",
    "mlflow.log_metric(\"accuracy\", acc)\n",
    "\n",
    "# end run\n",
    "mlflow.end_run()"
   ]
  }
 ],
 "metadata": {
  "kernelspec": {
   "display_name": "Python 3.8",
   "language": "python",
   "name": "python3.8"
  },
  "language_info": {
   "codemirror_mode": {
    "name": "ipython",
    "version": 3
   },
   "file_extension": ".py",
   "mimetype": "text/x-python",
   "name": "python",
   "nbconvert_exporter": "python",
   "pygments_lexer": "ipython3",
   "version": "3.8.5-final"
  }
 },
 "nbformat": 4,
 "nbformat_minor": 2
}
