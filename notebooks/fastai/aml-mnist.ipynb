{
 "cells": [
  {
   "cell_type": "code",
   "execution_count": null,
   "metadata": {},
   "outputs": [],
   "source": [
    "from azureml.core import Workspace\n",
    "\n",
    "ws = Workspace.from_config()\n",
    "ws"
   ]
  },
  {
   "cell_type": "code",
   "execution_count": null,
   "metadata": {
    "tags": []
   },
   "outputs": [],
   "source": [
    "%%writefile environment.yml\n",
    "name: fastai-example\n",
    "channels:\n",
    "  - defaults\n",
    "  - anaconda\n",
    "  - conda-forge\n",
    "dependencies:\n",
    "  - python=3.7.5\n",
    "  - pip\n",
    "  - pip:\n",
    "    - mlflow>=1.9.0\n",
    "    - fastai==1.0.61"
   ]
  },
  {
   "cell_type": "code",
   "execution_count": null,
   "metadata": {
    "tags": []
   },
   "outputs": [],
   "source": [
    "%%writefile train.py\n",
    "#\n",
    "# This short example is based on the fastai GitHub Repository of vision examples\n",
    "# https://github.com/fastai/fastai/blob/master/examples/vision.ipynb\n",
    "# Modified here to show mlflow.fastai.autolog() capabilities\n",
    "#\n",
    "import argparse\n",
    "import fastai.vision as vis\n",
    "import mlflow.fastai\n",
    "\n",
    "\n",
    "def parse_args():\n",
    "    parser = argparse.ArgumentParser(description=\"Fastai example\")\n",
    "    parser.add_argument(\n",
    "        \"--lr\",\n",
    "        type=float,\n",
    "        default=0.01,\n",
    "        help=\"learning rate to update step size at each step (default: 0.01)\",\n",
    "    )\n",
    "    parser.add_argument(\n",
    "        \"--epochs\",\n",
    "        type=int,\n",
    "        default=5,\n",
    "        help=\"number of epochs (default: 5). Note it takes about 1 min per epoch\",\n",
    "    )\n",
    "    return parser.parse_args()\n",
    "\n",
    "\n",
    "def main():\n",
    "    # Parse command-line arguments\n",
    "    args = parse_args()\n",
    "\n",
    "    # Download and untar the MNIST data set\n",
    "    path = vis.untar_data(vis.URLs.MNIST_TINY)\n",
    "\n",
    "    # Prepare, transform, and normalize the data\n",
    "    data = vis.ImageDataBunch.from_folder(path, ds_tfms=(vis.rand_pad(2, 28), []), bs=64)\n",
    "    data.normalize(vis.imagenet_stats)\n",
    "\n",
    "    # Train and fit the Learner model\n",
    "    learn = vis.cnn_learner(data, vis.models.resnet18, metrics=vis.accuracy)\n",
    "\n",
    "    # Enable auto logging\n",
    "    mlflow.fastai.autolog()\n",
    "\n",
    "    # Start MLflow session\n",
    "    with mlflow.start_run():\n",
    "        # Train and fit with default or supplied command line arguments\n",
    "        learn.fit(args.epochs, args.lr)\n",
    "\n",
    "\n",
    "if __name__ == \"__main__\":\n",
    "    main()"
   ]
  },
  {
   "cell_type": "code",
   "execution_count": null,
   "metadata": {},
   "outputs": [],
   "source": [
    "from azureml.core import ScriptRunConfig, Experiment, Environment\n",
    "\n",
    "env = Environment.from_conda_specification('fastai-mnsit','environment.yml')\n",
    "env.docker.enabled = True\n",
    "\n",
    "src = ScriptRunConfig(source_directory='.', script='train.py')\n",
    "src.run_config.environment = env\n",
    "src.run_config.target = 'gpu-cluster'\n",
    "\n",
    "run = Experiment(ws, 'fastai-aml-mnist').submit(src)\n",
    "run"
   ]
  },
  {
   "cell_type": "code",
   "execution_count": null,
   "metadata": {},
   "outputs": [],
   "source": [
    "from azureml.widgets import RunDetails\n",
    "\n",
    "RunDetails(run).show()"
   ]
  },
  {
   "cell_type": "code",
   "execution_count": null,
   "metadata": {},
   "outputs": [],
   "source": [
    "run.wait_for_completion(show_output=True)"
   ]
  },
  {
   "cell_type": "code",
   "execution_count": null,
   "metadata": {},
   "outputs": [],
   "source": [
    "import os\n",
    "\n",
    "os.remove('environment.yml')\n",
    "os.remove('train.py')"
   ]
  }
 ],
 "metadata": {
  "kernelspec": {
   "display_name": "Python 3.8.5 64-bit ('dkdc': conda)",
   "name": "python_defaultSpec_1598113020263"
  },
  "language_info": {
   "codemirror_mode": {
    "name": "ipython",
    "version": 3
   },
   "file_extension": ".py",
   "mimetype": "text/x-python",
   "name": "python",
   "nbconvert_exporter": "python",
   "pygments_lexer": "ipython3",
   "version": "3.8.5-final"
  }
 },
 "nbformat": 4,
 "nbformat_minor": 2
}
