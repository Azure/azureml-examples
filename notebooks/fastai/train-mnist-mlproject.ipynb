{
 "cells": [
  {
   "cell_type": "code",
   "execution_count": null,
   "metadata": {
    "tags": []
   },
   "outputs": [],
   "source": [
    "from azureml.core import Workspace\n",
    "\n",
    "ws = Workspace.from_config()\n",
    "ws"
   ]
  },
  {
   "cell_type": "code",
   "execution_count": null,
   "metadata": {
    "tags": []
   },
   "outputs": [],
   "source": [
    "import git\n",
    "\n",
    "# get root of git repo\n",
    "prefix = git.Repo('.', search_parent_directories=True).working_tree_dir\n",
    "\n",
    "# project settings\n",
    "project_uri = prefix+'/code/mlprojects/fastai-mnist'\n",
    "\n",
    "# azure ml settings\n",
    "experiment_name = 'fastai-mnist-mlproject-example'\n",
    "compute_target = 'cpu-cluster'"
   ]
  },
  {
   "cell_type": "markdown",
   "metadata": {},
   "source": [
    "## Setup mlflow"
   ]
  },
  {
   "cell_type": "code",
   "execution_count": null,
   "metadata": {
    "tags": []
   },
   "outputs": [],
   "source": [
    "import mlflow \n",
    "\n",
    "mlflow.set_tracking_uri(ws.get_mlflow_tracking_uri())\n",
    "mlflow.set_experiment(experiment_name)"
   ]
  },
  {
   "cell_type": "code",
   "execution_count": null,
   "metadata": {
    "tags": []
   },
   "outputs": [],
   "source": [
    "backend_config = {'COMPUTE': compute_target}"
   ]
  },
  {
   "cell_type": "markdown",
   "metadata": {},
   "source": [
    "## Train model"
   ]
  },
  {
   "cell_type": "code",
   "execution_count": null,
   "metadata": {
    "tags": [
     "outputPrepend"
    ]
   },
   "outputs": [],
   "source": [
    "run = mlflow.projects.run(uri=project_uri, \n",
    "                          backend='azureml',\n",
    "                          backend_config=backend_config)"
   ]
  },
  {
   "cell_type": "code",
   "execution_count": null,
   "metadata": {
    "tags": []
   },
   "outputs": [],
   "source": [
    "run "
   ]
  }
 ],
 "metadata": {
  "index": {
   "compute": "AML - GPU, AKS - CPU",
   "dataset": "mnist",
   "distribution": "None",
   "environment": "environment file",
   "frameworks": "fastai, mlflow",
   "other": "mlproject",
   "scenario": "training"
  },
  "kernelspec": {
   "display_name": "Python [conda env:mfproject] *",
   "language": "python",
   "name": "conda-env-mfproject-py"
  },
  "language_info": {
   "codemirror_mode": {
    "name": "ipython",
    "version": 3
   },
   "file_extension": ".py",
   "mimetype": "text/x-python",
   "name": "python",
   "nbconvert_exporter": "python",
   "pygments_lexer": "ipython3",
   "version": "3.6.10"
  },
  "name": "mlproject-fastai",
  "notebookId": 2495374963457641,
  "tags": [
   "mlflow",
   "fastai"
  ],
  "task": "Use MLflow with Azure Machine Learning to train FastAI image classifier model"
 },
 "nbformat": 4,
 "nbformat_minor": 4
}
