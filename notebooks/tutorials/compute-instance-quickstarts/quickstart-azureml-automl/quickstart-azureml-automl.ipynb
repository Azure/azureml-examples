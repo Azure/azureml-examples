{
  "cells": [
    {
      "cell_type": "markdown",
      "metadata": {},
      "source": [
        "![Impressions](https://PixelServer20190423114238.azurewebsites.net/api/impressions/MachineLearningNotebooks/tutorials/quickstart-ci/ClassificationWithAutomatedML.png)"
      ]
    },
    {
      "cell_type": "markdown",
      "metadata": {
        "nteract": {
          "transient": {
            "deleting": false
          }
        }
      },
      "source": [
        "# Quickstart: Fraud Classification using Automated ML\n",
        "\n",
        "In this quickstart, you use automated machine learning in Azure Machine Learning service to  train a classification model on an associated fraud credit card dataset. This process accepts training data and configuration settings, and automatically iterates through combinations of different feature normalization/standardization methods, models, and hyperparameter settings to arrive at the best model.\n",
        "\n",
        "You will learn how to:\n",
        "\n",
        "> * Download a dataset and look at the data\n",
        "> * Train a machine learning classification model using autoML \n",
        "> * Explore the results\n"
      ]
    },
    {
      "cell_type": "markdown",
      "metadata": {
        "nteract": {
          "transient": {
            "deleting": false
          }
        }
      },
      "source": [
        "### Connect to your workspace and create an experiment\n",
        "\n",
        "You start with importing some libraries and creating an experiment to track the runs in your workspace. A workspace can have multiple experiments, and all the users that have access to the workspace can collaborate on them. "
      ]
    },
    {
      "cell_type": "code",
      "execution_count": 4,
      "metadata": {},
      "outputs": [
        {
          "name": "stdout",
          "output_type": "stream",
          "text": [
            "Requirement already satisfied: azureml-train in /home/alibina/.local/lib/python3.8/site-packages (1.43.0)\n",
            "Collecting automl\n",
            "  Downloading automl-2.9.9-py2.py3-none-any.whl (71 kB)\n",
            "\u001b[K     |████████████████████████████████| 71 kB 82 kB/s  eta 0:00:01\n",
            "\u001b[?25hRequirement already satisfied: azureml-train-core~=1.43.0 in /home/alibina/.local/lib/python3.8/site-packages (from azureml-train) (1.43.0)\n",
            "Collecting pathos<0.3.0,>=0.2.1\n",
            "  Downloading pathos-0.2.9-py3-none-any.whl (76 kB)\n",
            "\u001b[K     |████████████████████████████████| 76 kB 4.8 MB/s  eta 0:00:01\n",
            "\u001b[?25hCollecting scikit-learn<1.0,>=0.18.1\n",
            "  Downloading scikit_learn-0.24.2-cp38-cp38-manylinux2010_x86_64.whl (24.9 MB)\n",
            "\u001b[K     |████████████████████████████████| 24.9 MB 255 kB/s eta 0:00:01\n",
            "\u001b[?25hRequirement already satisfied: tabulate<1.0,>=0.7.5 in /usr/lib/python3/dist-packages (from automl) (0.8.6)\n",
            "Collecting sklearn-deap2<0.3,>=0.2.1\n",
            "  Downloading sklearn-deap2-0.2.2.tar.gz (8.5 kB)\n",
            "Requirement already satisfied: python-dateutil<3.0,>=2.6.1 in /home/alibina/.local/lib/python3.8/site-packages (from automl) (2.8.2)\n",
            "Requirement already satisfied: scipy<2.0,>=0.14.0 in /home/alibina/.local/lib/python3.8/site-packages (from automl) (1.8.0)\n",
            "Collecting dill<0.3,>=0.2.5\n",
            "  Downloading dill-0.2.9.tar.gz (150 kB)\n",
            "\u001b[K     |████████████████████████████████| 150 kB 22.7 MB/s eta 0:00:01\n",
            "\u001b[?25hCollecting h5py<3.0,>=2.7.0\n",
            "  Downloading h5py-2.10.0-cp38-cp38-manylinux1_x86_64.whl (2.9 MB)\n",
            "\u001b[K     |████████████████████████████████| 2.9 MB 13.4 MB/s eta 0:00:01\n",
            "\u001b[?25hRequirement already satisfied: numpy<2.0,>=1.11.0 in /home/alibina/.local/lib/python3.8/site-packages (from automl) (1.22.3)\n",
            "Collecting pandas<1.0,>=0.18.0\n",
            "  Downloading pandas-0.25.3-cp38-cp38-manylinux1_x86_64.whl (10.4 MB)\n",
            "\u001b[K     |████████████████████████████████| 10.4 MB 8.5 MB/s eta 0:00:01\n",
            "\u001b[?25hCollecting lightgbm<2.1,>=2.0.11\n",
            "  Downloading lightgbm-2.0.12-py2.py3-none-manylinux1_x86_64.whl (627 kB)\n",
            "\u001b[K     |████████████████████████████████| 627 kB 10.6 MB/s eta 0:00:01\n",
            "\u001b[?25hRequirement already satisfied: azureml-core~=1.43.0 in /home/alibina/.local/lib/python3.8/site-packages (from azureml-train-core~=1.43.0->azureml-train) (1.43.0)\n",
            "Requirement already satisfied: azureml-train-restclients-hyperdrive~=1.43.0 in /home/alibina/.local/lib/python3.8/site-packages (from azureml-train-core~=1.43.0->azureml-train) (1.43.0)\n",
            "Requirement already satisfied: azureml-telemetry~=1.43.0 in /home/alibina/.local/lib/python3.8/site-packages (from azureml-train-core~=1.43.0->azureml-train) (1.43.0)\n",
            "Collecting multiprocess>=0.70.13\n",
            "  Downloading multiprocess-0.70.13-py38-none-any.whl (131 kB)\n",
            "\u001b[K     |████████████████████████████████| 131 kB 14.5 MB/s eta 0:00:01\n",
            "\u001b[?25hCollecting ppft>=1.7.6.5\n",
            "  Downloading ppft-1.7.6.5-py2.py3-none-any.whl (52 kB)\n",
            "\u001b[K     |████████████████████████████████| 52 kB 1.2 MB/s  eta 0:00:01\n",
            "\u001b[?25hCollecting pox>=0.3.1\n",
            "  Downloading pox-0.3.1-py2.py3-none-any.whl (28 kB)\n",
            "Requirement already satisfied: threadpoolctl>=2.0.0 in /home/alibina/.local/lib/python3.8/site-packages (from scikit-learn<1.0,>=0.18.1->automl) (3.1.0)\n",
            "Requirement already satisfied: joblib>=0.11 in /home/alibina/.local/lib/python3.8/site-packages (from scikit-learn<1.0,>=0.18.1->automl) (1.1.0)\n",
            "Collecting deap>=1.0.2\n",
            "  Downloading deap-1.3.1-cp38-cp38-manylinux2010_x86_64.whl (157 kB)\n",
            "\u001b[K     |████████████████████████████████| 157 kB 15.2 MB/s eta 0:00:01\n",
            "\u001b[?25hRequirement already satisfied: six>=1.5 in /home/alibina/.local/lib/python3.8/site-packages (from python-dateutil<3.0,>=2.6.1->automl) (1.16.0)\n",
            "Requirement already satisfied: pytz>=2017.2 in /home/alibina/.local/lib/python3.8/site-packages (from pandas<1.0,>=0.18.0->automl) (2021.3)\n",
            "Requirement already satisfied: SecretStorage<4.0.0 in /usr/lib/python3/dist-packages (from azureml-core~=1.43.0->azureml-train-core~=1.43.0->azureml-train) (2.3.1)\n",
            "Requirement already satisfied: azure-mgmt-keyvault<11.0.0,>=0.40.0 in /usr/lib/python3/dist-packages (from azureml-core~=1.43.0->azureml-train-core~=1.43.0->azureml-train) (2.0.0)\n",
            "Requirement already satisfied: ndg-httpsclient<=0.5.1 in /home/alibina/.local/lib/python3.8/site-packages (from azureml-core~=1.43.0->azureml-train-core~=1.43.0->azureml-train) (0.5.1)\n",
            "Requirement already satisfied: pyopenssl<23.0.0 in /usr/lib/python3/dist-packages (from azureml-core~=1.43.0->azureml-train-core~=1.43.0->azureml-train) (19.0.0)\n",
            "Requirement already satisfied: jmespath<=1.0.0 in /usr/lib/python3/dist-packages (from azureml-core~=1.43.0->azureml-train-core~=1.43.0->azureml-train) (0.9.4)\n",
            "Requirement already satisfied: backports.tempfile in /home/alibina/.local/lib/python3.8/site-packages (from azureml-core~=1.43.0->azureml-train-core~=1.43.0->azureml-train) (1.0)\n",
            "Requirement already satisfied: requests[socks]<3.0.0,>=2.19.1 in /home/alibina/.local/lib/python3.8/site-packages (from azureml-core~=1.43.0->azureml-train-core~=1.43.0->azureml-train) (2.26.0)\n",
            "Requirement already satisfied: azure-mgmt-containerregistry<11,>=8.2.0 in /home/alibina/.local/lib/python3.8/site-packages (from azureml-core~=1.43.0->azureml-train-core~=1.43.0->azureml-train) (10.0.0)\n",
            "Requirement already satisfied: packaging<22.0,>=20.0 in /home/alibina/.local/lib/python3.8/site-packages (from azureml-core~=1.43.0->azureml-train-core~=1.43.0->azureml-train) (21.3)\n",
            "Requirement already satisfied: cryptography!=1.9,!=2.0.*,!=2.1.*,!=2.2.*,<38.0.0 in /usr/lib/python3/dist-packages (from azureml-core~=1.43.0->azureml-train-core~=1.43.0->azureml-train) (2.8)\n",
            "Requirement already satisfied: msal-extensions<=1.0.0,>=0.3.0 in /home/alibina/.local/lib/python3.8/site-packages (from azureml-core~=1.43.0->azureml-train-core~=1.43.0->azureml-train) (1.0.0)\n",
            "Requirement already satisfied: docker<6.0.0 in /home/alibina/.local/lib/python3.8/site-packages (from azureml-core~=1.43.0->azureml-train-core~=1.43.0->azureml-train) (5.0.3)\n",
            "Requirement already satisfied: pkginfo in /usr/lib/python3/dist-packages (from azureml-core~=1.43.0->azureml-train-core~=1.43.0->azureml-train) (1.4.2)\n",
            "Requirement already satisfied: azure-mgmt-storage<=20.0.0,>=16.0.0 in /home/alibina/.local/lib/python3.8/site-packages (from azureml-core~=1.43.0->azureml-train-core~=1.43.0->azureml-train) (20.0.0)\n",
            "Requirement already satisfied: knack~=0.9.0 in /home/alibina/.local/lib/python3.8/site-packages (from azureml-core~=1.43.0->azureml-train-core~=1.43.0->azureml-train) (0.9.0)\n",
            "Requirement already satisfied: azure-mgmt-authorization<3,>=0.40.0 in /usr/lib/python3/dist-packages (from azureml-core~=1.43.0->azureml-train-core~=1.43.0->azureml-train) (0.60.0)\n",
            "Requirement already satisfied: azure-common<2.0.0,>=1.1.12 in /usr/lib/python3/dist-packages (from azureml-core~=1.43.0->azureml-train-core~=1.43.0->azureml-train) (1.1.24)\n",
            "Requirement already satisfied: paramiko<3.0.0,>=2.0.8 in /usr/lib/python3/dist-packages (from azureml-core~=1.43.0->azureml-train-core~=1.43.0->azureml-train) (2.6.0)\n",
            "Requirement already satisfied: pathspec<1.0.0 in /home/alibina/.local/lib/python3.8/site-packages (from azureml-core~=1.43.0->azureml-train-core~=1.43.0->azureml-train) (0.9.0)\n",
            "Requirement already satisfied: azure-core<2.0.0 in /home/alibina/.local/lib/python3.8/site-packages (from azureml-core~=1.43.0->azureml-train-core~=1.43.0->azureml-train) (1.24.2)\n",
            "Requirement already satisfied: azure-graphrbac<1.0.0,>=0.40.0 in /usr/lib/python3/dist-packages (from azureml-core~=1.43.0->azureml-train-core~=1.43.0->azureml-train) (0.61.1)\n",
            "Requirement already satisfied: azure-mgmt-resource<22.0.0,>=15.0.0 in /home/alibina/.local/lib/python3.8/site-packages (from azureml-core~=1.43.0->azureml-train-core~=1.43.0->azureml-train) (21.1.0)\n",
            "Requirement already satisfied: jsonpickle<3.0.0 in /home/alibina/.local/lib/python3.8/site-packages (from azureml-core~=1.43.0->azureml-train-core~=1.43.0->azureml-train) (2.2.0)\n",
            "Requirement already satisfied: PyJWT<3.0.0 in /usr/lib/python3/dist-packages (from azureml-core~=1.43.0->azureml-train-core~=1.43.0->azureml-train) (1.7.1)\n",
            "Requirement already satisfied: msrest<0.7.0,>=0.5.1 in /usr/lib/python3/dist-packages (from azureml-core~=1.43.0->azureml-train-core~=1.43.0->azureml-train) (0.6.10)\n",
            "Requirement already satisfied: humanfriendly<11.0,>=4.7 in /usr/lib/python3/dist-packages (from azureml-core~=1.43.0->azureml-train-core~=1.43.0->azureml-train) (4.18)\n",
            "Requirement already satisfied: urllib3<=1.26.9,>=1.23 in /home/alibina/.local/lib/python3.8/site-packages (from azureml-core~=1.43.0->azureml-train-core~=1.43.0->azureml-train) (1.26.7)\n",
            "Requirement already satisfied: contextlib2<22.0.0 in /home/alibina/.local/lib/python3.8/site-packages (from azureml-core~=1.43.0->azureml-train-core~=1.43.0->azureml-train) (21.6.0)\n",
            "Requirement already satisfied: argcomplete<3 in /usr/lib/python3/dist-packages (from azureml-core~=1.43.0->azureml-train-core~=1.43.0->azureml-train) (1.8.1)\n",
            "Requirement already satisfied: adal<=1.2.7,>=1.2.0 in /usr/lib/python3/dist-packages (from azureml-core~=1.43.0->azureml-train-core~=1.43.0->azureml-train) (1.2.2)\n",
            "Requirement already satisfied: msal<2.0.0,>=1.15.0 in /home/alibina/.local/lib/python3.8/site-packages (from azureml-core~=1.43.0->azureml-train-core~=1.43.0->azureml-train) (1.18.0)\n",
            "Requirement already satisfied: azure-mgmt-core<=1.3.0 in /home/alibina/.local/lib/python3.8/site-packages (from azureml-core~=1.43.0->azureml-train-core~=1.43.0->azureml-train) (1.3.0)\n",
            "Requirement already satisfied: msrestazure<=0.6.4,>=0.4.33 in /usr/lib/python3/dist-packages (from azureml-core~=1.43.0->azureml-train-core~=1.43.0->azureml-train) (0.6.2)\n",
            "Requirement already satisfied: applicationinsights in /usr/lib/python3/dist-packages (from azureml-telemetry~=1.43.0->azureml-train-core~=1.43.0->azureml-train) (0.11.9)\n",
            "Requirement already satisfied: pyasn1>=0.1.1 in /usr/lib/python3/dist-packages (from ndg-httpsclient<=0.5.1->azureml-core~=1.43.0->azureml-train-core~=1.43.0->azureml-train) (0.4.2)\n",
            "Requirement already satisfied: backports.weakref in /home/alibina/.local/lib/python3.8/site-packages (from backports.tempfile->azureml-core~=1.43.0->azureml-train-core~=1.43.0->azureml-train) (1.0.post1)\n",
            "Requirement already satisfied: idna<4,>=2.5; python_version >= \"3\" in /home/alibina/.local/lib/python3.8/site-packages (from requests[socks]<3.0.0,>=2.19.1->azureml-core~=1.43.0->azureml-train-core~=1.43.0->azureml-train) (3.3)\n",
            "Requirement already satisfied: charset-normalizer~=2.0.0; python_version >= \"3\" in /home/alibina/.local/lib/python3.8/site-packages (from requests[socks]<3.0.0,>=2.19.1->azureml-core~=1.43.0->azureml-train-core~=1.43.0->azureml-train) (2.0.7)\n",
            "Requirement already satisfied: certifi>=2017.4.17 in /home/alibina/.local/lib/python3.8/site-packages (from requests[socks]<3.0.0,>=2.19.1->azureml-core~=1.43.0->azureml-train-core~=1.43.0->azureml-train) (2021.10.8)\n",
            "Requirement already satisfied: PySocks!=1.5.7,>=1.5.6; extra == \"socks\" in /home/alibina/.local/lib/python3.8/site-packages (from requests[socks]<3.0.0,>=2.19.1->azureml-core~=1.43.0->azureml-train-core~=1.43.0->azureml-train) (1.7.1)\n",
            "Requirement already satisfied: pyparsing!=3.0.5,>=2.0.2 in /home/alibina/.local/lib/python3.8/site-packages (from packaging<22.0,>=20.0->azureml-core~=1.43.0->azureml-train-core~=1.43.0->azureml-train) (3.0.7)\n",
            "Requirement already satisfied: portalocker<3,>=1.0; python_version >= \"3.5\" and platform_system != \"Windows\" in /usr/lib/python3/dist-packages (from msal-extensions<=1.0.0,>=0.3.0->azureml-core~=1.43.0->azureml-train-core~=1.43.0->azureml-train) (1.5.1)\n",
            "Requirement already satisfied: websocket-client>=0.32.0 in /usr/lib/python3/dist-packages (from docker<6.0.0->azureml-core~=1.43.0->azureml-train-core~=1.43.0->azureml-train) (0.53.0)\n",
            "Requirement already satisfied: pygments in /home/alibina/.local/lib/python3.8/site-packages (from knack~=0.9.0->azureml-core~=1.43.0->azureml-train-core~=1.43.0->azureml-train) (2.11.2)\n",
            "Requirement already satisfied: pyyaml in /usr/lib/python3/dist-packages (from knack~=0.9.0->azureml-core~=1.43.0->azureml-train-core~=1.43.0->azureml-train) (5.3.1)\n",
            "Requirement already satisfied: typing-extensions>=4.0.1 in /home/alibina/.local/lib/python3.8/site-packages (from azure-core<2.0.0->azureml-core~=1.43.0->azureml-train-core~=1.43.0->azureml-train) (4.1.1)\n",
            "Building wheels for collected packages: sklearn-deap2, dill\n",
            "  Building wheel for sklearn-deap2 (setup.py) ... \u001b[?25ldone\n",
            "\u001b[?25h  Created wheel for sklearn-deap2: filename=sklearn_deap2-0.2.2-py3-none-any.whl size=9066 sha256=9a52013e59aae6b65b66004adb42f8cfda69ce9bc300ca89b69d146289e3e41f\n",
            "  Stored in directory: /home/alibina/.cache/pip/wheels/29/d4/25/6d39525150f3e81c3a8d5dd4f7694c3047470c3c6fc7e70bfc\n",
            "  Building wheel for dill (setup.py) ... \u001b[?25ldone\n",
            "\u001b[?25h  Created wheel for dill: filename=dill-0.2.9-py3-none-any.whl size=77404 sha256=f9828acc6fe79597e786657cf113d78ea054ab28be35503f3b288962467ed8e4\n",
            "  Stored in directory: /home/alibina/.cache/pip/wheels/da/03/f6/41ff217c2d88b1446b2d593d5b7433b9e823f1ee52e798e4f2\n",
            "Successfully built sklearn-deap2 dill\n",
            "\u001b[31mERROR: openai 0.16.0 has requirement pandas>=1.2.3, but you'll have pandas 0.25.3 which is incompatible.\u001b[0m\n",
            "\u001b[31mERROR: multiprocess 0.70.13 has requirement dill>=0.3.5.1, but you'll have dill 0.2.9 which is incompatible.\u001b[0m\n",
            "\u001b[31mERROR: pathos 0.2.9 has requirement dill>=0.3.5.1, but you'll have dill 0.2.9 which is incompatible.\u001b[0m\n",
            "Installing collected packages: dill, multiprocess, ppft, pox, pathos, scikit-learn, deap, sklearn-deap2, h5py, pandas, lightgbm, automl\n",
            "  Attempting uninstall: scikit-learn\n",
            "    Found existing installation: scikit-learn 1.0.2\n",
            "    Uninstalling scikit-learn-1.0.2:\n",
            "      Successfully uninstalled scikit-learn-1.0.2\n",
            "  Attempting uninstall: pandas\n",
            "    Found existing installation: pandas 1.3.4\n",
            "    Uninstalling pandas-1.3.4:\n",
            "      Successfully uninstalled pandas-1.3.4\n",
            "  Attempting uninstall: lightgbm\n",
            "    Found existing installation: lightgbm 3.3.2\n",
            "    Uninstalling lightgbm-3.3.2:\n",
            "      Successfully uninstalled lightgbm-3.3.2\n",
            "Successfully installed automl-2.9.9 deap-1.3.1 dill-0.2.9 h5py-2.10.0 lightgbm-2.0.12 multiprocess-0.70.13 pandas-0.25.3 pathos-0.2.9 pox-0.3.1 ppft-1.7.6.5 scikit-learn-0.24.2 sklearn-deap2-0.2.2\n"
          ]
        }
      ],
      "source": [
        "!pip install azureml-train automl"
      ]
    },
    {
      "cell_type": "code",
      "execution_count": 6,
      "metadata": {
        "gather": {
          "logged": 1612968646250
        },
        "jupyter": {
          "outputs_hidden": false,
          "source_hidden": false
        },
        "nteract": {
          "transient": {
            "deleting": false
          }
        }
      },
      "outputs": [
        {
          "ename": "ModuleNotFoundError",
          "evalue": "No module named 'azureml.train.automl'",
          "output_type": "error",
          "traceback": [
            "\u001b[0;31m---------------------------------------------------------------------------\u001b[0m",
            "\u001b[0;31mModuleNotFoundError\u001b[0m                       Traceback (most recent call last)",
            "\u001b[1;32m/mnt/c/Users/alibina/source/repos/training/MachineLearningNotebooks/tutorials/compute-instance-quickstarts/quickstart-azureml-automl/quickstart-azureml-automl.ipynb Cell 5\u001b[0m in \u001b[0;36m<cell line: 11>\u001b[0;34m()\u001b[0m\n\u001b[1;32m      <a href='vscode-notebook-cell://wsl%2Bubuntu-20.04/mnt/c/Users/alibina/source/repos/training/MachineLearningNotebooks/tutorials/compute-instance-quickstarts/quickstart-azureml-automl/quickstart-azureml-automl.ipynb#ch0000003vscode-remote?line=8'>9</a>\u001b[0m \u001b[39mfrom\u001b[39;00m \u001b[39mazureml\u001b[39;00m\u001b[39m.\u001b[39;00m\u001b[39mcore\u001b[39;00m\u001b[39m.\u001b[39;00m\u001b[39mworkspace\u001b[39;00m \u001b[39mimport\u001b[39;00m Workspace\n\u001b[1;32m     <a href='vscode-notebook-cell://wsl%2Bubuntu-20.04/mnt/c/Users/alibina/source/repos/training/MachineLearningNotebooks/tutorials/compute-instance-quickstarts/quickstart-azureml-automl/quickstart-azureml-automl.ipynb#ch0000003vscode-remote?line=9'>10</a>\u001b[0m \u001b[39mfrom\u001b[39;00m \u001b[39mazureml\u001b[39;00m\u001b[39m.\u001b[39;00m\u001b[39mcore\u001b[39;00m\u001b[39m.\u001b[39;00m\u001b[39mdataset\u001b[39;00m \u001b[39mimport\u001b[39;00m Dataset\n\u001b[0;32m---> <a href='vscode-notebook-cell://wsl%2Bubuntu-20.04/mnt/c/Users/alibina/source/repos/training/MachineLearningNotebooks/tutorials/compute-instance-quickstarts/quickstart-azureml-automl/quickstart-azureml-automl.ipynb#ch0000003vscode-remote?line=10'>11</a>\u001b[0m \u001b[39mfrom\u001b[39;00m \u001b[39mazureml\u001b[39;00m\u001b[39m.\u001b[39;00m\u001b[39mtrain\u001b[39;00m\u001b[39m.\u001b[39;00m\u001b[39mautoml\u001b[39;00m \u001b[39mimport\u001b[39;00m AutoMLConfig\n",
            "\u001b[0;31mModuleNotFoundError\u001b[0m: No module named 'azureml.train.automl'"
          ]
        }
      ],
      "source": [
        "import logging\n",
        "\n",
        "from matplotlib import pyplot as plt\n",
        "import pandas as pd\n",
        "import numpy as np\n",
        "\n",
        "import azureml.core\n",
        "from azureml.core.experiment import Experiment\n",
        "from azureml.core.workspace import Workspace\n",
        "from azureml.core.dataset import Dataset\n",
        "from azureml.train.automl import AutoMLConfig"
      ]
    },
    {
      "cell_type": "code",
      "execution_count": null,
      "metadata": {
        "gather": {
          "logged": 1612968706273
        },
        "jupyter": {
          "outputs_hidden": false,
          "source_hidden": false
        },
        "nteract": {
          "transient": {
            "deleting": false
          }
        }
      },
      "outputs": [],
      "source": [
        "ws = Workspace.from_config()\n",
        "\n",
        "# choose a name for your experiment\n",
        "experiment_name = \"fraud-classification-automl-tutorial\"\n",
        "\n",
        "experiment = Experiment(ws, experiment_name)"
      ]
    },
    {
      "cell_type": "markdown",
      "metadata": {
        "nteract": {
          "transient": {
            "deleting": false
          }
        }
      },
      "source": [
        "### Load Data\n",
        "\n",
        "Load the credit card dataset from a csv file containing both training features and labels. The features are inputs to the model, while the training labels represent the expected output of the model. Next, we'll split the data using random_split and extract the training data for the model.\n",
        "\n",
        "\n",
        "Follow this [how-to](https://aka.ms/azureml/howto/createdatasets) if you want to learn more about Datasets and how to use them.\n",
        "\n",
        "\n"
      ]
    },
    {
      "cell_type": "code",
      "execution_count": null,
      "metadata": {
        "gather": {
          "logged": 1612968722555
        },
        "jupyter": {
          "outputs_hidden": false,
          "source_hidden": false
        },
        "nteract": {
          "transient": {
            "deleting": false
          }
        }
      },
      "outputs": [],
      "source": [
        "data = \"https://automlsamplenotebookdata.blob.core.windows.net/automl-sample-notebook-data/creditcard.csv\"\n",
        "dataset = Dataset.Tabular.from_delimited_files(data)\n",
        "training_data, validation_data = dataset.random_split(percentage=0.8, seed=223)\n",
        "label_column_name = \"Class\""
      ]
    },
    {
      "cell_type": "markdown",
      "metadata": {
        "nteract": {
          "transient": {
            "deleting": false
          }
        }
      },
      "source": [
        "## Train\n",
        "\n",
        "\n",
        "\n",
        "When you use automated machine learning in Azure ML, you input training data and configuration settings, and the process automatically iterates through combinations of different feature normalization/standardization methods, models, and hyperparameter settings to arrive at the best model. \n",
        "Learn more about how you configure automated ML [here](https://docs.microsoft.com/azure/machine-learning/how-to-configure-auto-train).\n",
        "\n",
        "\n",
        "Instantiate an [AutoMLConfig](https://docs.microsoft.com/python/api/azureml-train-automl-client/azureml.train.automl.automlconfig.automlconfig?view=azure-ml-py) object. This defines the settings and data used to run the experiment.\n",
        "\n",
        "|Property|Description|\n",
        "|-|-|\n",
        "|**task**|classification or regression|\n",
        "|**primary_metric**|This is the metric that you want to optimize. \n",
        "|**enable_early_stopping**  | Stop the run if the metric score is not showing improvement.|\n",
        "|**n_cross_validations**|Number of cross validation splits.|\n",
        "|**training_data**|Input dataset, containing both features and label column.|\n",
        "|**label_column_name**|The name of the label column.|\n",
        "\n",
        "You can find more information about primary metrics [here](https://docs.microsoft.com/azure/machine-learning/service/how-to-configure-auto-train#primary-metric)"
      ]
    },
    {
      "cell_type": "code",
      "execution_count": null,
      "metadata": {
        "gather": {
          "logged": 1612968806233
        },
        "jupyter": {
          "outputs_hidden": false,
          "source_hidden": false
        },
        "nteract": {
          "transient": {
            "deleting": false
          }
        }
      },
      "outputs": [],
      "source": [
        "automl_settings = {\n",
        "    \"n_cross_validations\": 3,\n",
        "    \"primary_metric\": \"average_precision_score_weighted\",\n",
        "    \"experiment_timeout_hours\": 0.25,  # This is a time limit for testing purposes, remove it for real use cases, this will drastically limit ability to find the best model possible\n",
        "    \"verbosity\": logging.INFO,\n",
        "    \"enable_stack_ensemble\": False,\n",
        "}\n",
        "\n",
        "automl_config = AutoMLConfig(\n",
        "    task=\"classification\",\n",
        "    debug_log=\"automl_errors.log\",\n",
        "    training_data=training_data,\n",
        "    label_column_name=label_column_name,\n",
        "    **automl_settings,\n",
        ")"
      ]
    },
    {
      "cell_type": "markdown",
      "metadata": {
        "nteract": {
          "transient": {
            "deleting": false
          }
        }
      },
      "source": [
        "Call the `submit` method on the experiment object and pass the run configuration. \n",
        "\n",
        "**Note: Depending on the data and the number of iterations an AutoML run can take a while to complete.**\n",
        "\n",
        "In this example, we specify `show_output = True` to print currently running iterations to the console. It is also possible to navigate to the experiment through the **Experiment** activity tab in the left menu, and monitor the run status from there."
      ]
    },
    {
      "cell_type": "code",
      "execution_count": null,
      "metadata": {
        "gather": {
          "logged": 1612970125369
        },
        "jupyter": {
          "outputs_hidden": false,
          "source_hidden": false
        },
        "nteract": {
          "transient": {
            "deleting": false
          }
        }
      },
      "outputs": [],
      "source": [
        "local_run = experiment.submit(automl_config, show_output=True)"
      ]
    },
    {
      "cell_type": "code",
      "execution_count": null,
      "metadata": {
        "gather": {
          "logged": 1612976292559
        },
        "jupyter": {
          "outputs_hidden": false,
          "source_hidden": false
        },
        "nteract": {
          "transient": {
            "deleting": false
          }
        }
      },
      "outputs": [],
      "source": [
        "local_run"
      ]
    },
    {
      "cell_type": "markdown",
      "metadata": {
        "nteract": {
          "transient": {
            "deleting": false
          }
        }
      },
      "source": [
        "### Analyze results\n",
        "\n",
        "Below we select the best model from our iterations. The `get_output` method on `automl_classifier` returns the best run and the model for the run."
      ]
    },
    {
      "cell_type": "code",
      "execution_count": null,
      "metadata": {
        "gather": {
          "logged": 1612976298373
        },
        "jupyter": {
          "outputs_hidden": false,
          "source_hidden": false
        },
        "nteract": {
          "transient": {
            "deleting": false
          }
        }
      },
      "outputs": [],
      "source": [
        "best_run, best_model = local_run.get_output()\n",
        "best_model"
      ]
    },
    {
      "cell_type": "markdown",
      "metadata": {
        "nteract": {
          "transient": {
            "deleting": false
          }
        }
      },
      "source": [
        "## Tests\n",
        "\n",
        "Now that the model is trained, split the data in the same way the data was split for training (The difference here is the data is being split locally) and then run the test data through the trained model to get the predicted values."
      ]
    },
    {
      "cell_type": "code",
      "execution_count": null,
      "metadata": {
        "gather": {
          "logged": 1612976320370
        },
        "jupyter": {
          "outputs_hidden": false,
          "source_hidden": false
        },
        "nteract": {
          "transient": {
            "deleting": false
          }
        }
      },
      "outputs": [],
      "source": [
        "# convert the test data to dataframe\n",
        "X_test_df = validation_data.drop_columns(\n",
        "    columns=[label_column_name]\n",
        ").to_pandas_dataframe()\n",
        "y_test_df = validation_data.keep_columns(\n",
        "    columns=[label_column_name], validate=True\n",
        ").to_pandas_dataframe()"
      ]
    },
    {
      "cell_type": "code",
      "execution_count": null,
      "metadata": {
        "gather": {
          "logged": 1612976325829
        },
        "jupyter": {
          "outputs_hidden": false,
          "source_hidden": false
        },
        "nteract": {
          "transient": {
            "deleting": false
          }
        }
      },
      "outputs": [],
      "source": [
        "# call the predict functions on the model\n",
        "y_pred = best_model.predict(X_test_df)\n",
        "y_pred"
      ]
    },
    {
      "cell_type": "markdown",
      "metadata": {
        "nteract": {
          "transient": {
            "deleting": false
          }
        }
      },
      "source": [
        "\n",
        "\n",
        "### Calculate metrics for the prediction\n",
        "\n",
        "Now visualize the data to show what our truth (actual) values are compared to the predicted values \n",
        "from the trained model that was returned.\n",
        "\n"
      ]
    },
    {
      "cell_type": "code",
      "execution_count": null,
      "metadata": {
        "gather": {
          "logged": 1612976330108
        },
        "jupyter": {
          "outputs_hidden": false,
          "source_hidden": false
        },
        "nteract": {
          "transient": {
            "deleting": false
          }
        }
      },
      "outputs": [],
      "source": [
        "from sklearn.metrics import confusion_matrix\n",
        "import numpy as np\n",
        "import itertools\n",
        "\n",
        "cf = confusion_matrix(y_test_df.values, y_pred)\n",
        "plt.imshow(cf, cmap=plt.cm.Blues, interpolation=\"nearest\")\n",
        "plt.colorbar()\n",
        "plt.title(\"Confusion Matrix\")\n",
        "plt.xlabel(\"Predicted\")\n",
        "plt.ylabel(\"Actual\")\n",
        "class_labels = [\"False\", \"True\"]\n",
        "tick_marks = np.arange(len(class_labels))\n",
        "plt.xticks(tick_marks, class_labels)\n",
        "plt.yticks([-0.5, 0, 1, 1.5], [\"\", \"False\", \"True\", \"\"])\n",
        "# plotting text value inside cells\n",
        "thresh = cf.max() / 2.0\n",
        "for i, j in itertools.product(range(cf.shape[0]), range(cf.shape[1])):\n",
        "    plt.text(\n",
        "        j,\n",
        "        i,\n",
        "        format(cf[i, j], \"d\"),\n",
        "        horizontalalignment=\"center\",\n",
        "        color=\"white\" if cf[i, j] > thresh else \"black\",\n",
        "    )\n",
        "plt.show()"
      ]
    },
    {
      "cell_type": "markdown",
      "metadata": {
        "nteract": {
          "transient": {
            "deleting": false
          }
        }
      },
      "source": [
        "## Control cost and further exploration\n",
        "\n",
        "If you want to control cost you can stop the compute instance this notebook is running on by clicking the \"Stop compute\" button next to the status dropdown in the menu above.\n",
        "\n",
        "\n",
        "If you want to run more notebook samples, you can click on **Sample Notebooks** next to the **Files** view and explore the notebooks made available for you there."
      ]
    }
  ],
  "metadata": {
    "authors": [
      {
        "name": "cewidste"
      }
    ],
    "kernelspec": {
      "display_name": "Python 3.8.10 64-bit",
      "language": "python",
      "name": "python3"
    },
    "language_info": {
      "codemirror_mode": {
        "name": "ipython",
        "version": 3
      },
      "file_extension": ".py",
      "mimetype": "text/x-python",
      "name": "python",
      "nbconvert_exporter": "python",
      "pygments_lexer": "ipython3",
      "version": "3.8.10"
    },
    "notice": "Copyright (c) Microsoft Corporation. All rights reserved. Licensed under the MIT License.",
    "nteract": {
      "version": "nteract-front-end@1.0.0"
    },
    "vscode": {
      "interpreter": {
        "hash": "31f2aee4e71d21fbe5cf8b01ff0e069b9275f58929596ceb00d14d90e3e16cd6"
      }
    }
  },
  "nbformat": 4,
  "nbformat_minor": 4
}
