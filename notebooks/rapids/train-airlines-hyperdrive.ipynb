{
 "cells": [
  {
   "cell_type": "markdown",
   "metadata": {},
   "source": [
    "# Train and hyperparameter tune with RAPIDS\n",
    "\n",
    "description: train and hyperparameter tune with RAPIDS, cuML, and hyperdrive"
   ]
  },
  {
   "cell_type": "code",
   "execution_count": null,
   "metadata": {},
   "outputs": [],
   "source": [
    "from azureml.core import Workspace\n",
    "\n",
    "ws = Workspace.from_config()\n",
    "ws"
   ]
  },
  {
   "cell_type": "code",
   "execution_count": null,
   "metadata": {},
   "outputs": [],
   "source": [
    "import git\n",
    "from pathlib import Path\n",
    "\n",
    "# get root of git repo\n",
    "prefix = Path(git.Repo(\".\", search_parent_directories=True).working_tree_dir)\n",
    "\n",
    "# training script\n",
    "script_dir = prefix.joinpath(\"code\", \"models\", \"rapids\")\n",
    "script_name = \"train.py\"\n",
    "\n",
    "# environment file\n",
    "environment_file = prefix.joinpath(\"environments\", \"rapids-example.dockerfile\")\n",
    "\n",
    "# azure ml settings\n",
    "environment_name = \"rapids-airline-example\"\n",
    "experiment_name = \"rapids-airline-hyperdrive-example\"\n",
    "compute_target = \"gpu-V100-1\""
   ]
  },
  {
   "cell_type": "code",
   "execution_count": null,
   "metadata": {
    "tags": []
   },
   "outputs": [],
   "source": [
    "print(open(script_dir.joinpath(script_name)).read())"
   ]
  },
  {
   "cell_type": "code",
   "execution_count": null,
   "metadata": {},
   "outputs": [],
   "source": [
    "from azureml.core import ScriptRunConfig, Experiment, Environment, Dataset\n",
    "\n",
    "ds = Dataset.File.from_files(\n",
    "    \"https://airlinedataset.blob.core.windows.net/airline-20m/*\"\n",
    ")\n",
    "\n",
    "arguments = [\n",
    "    \"--data_dir\",\n",
    "    ds.as_mount(),\n",
    "    \"--n_bins\",\n",
    "    32,\n",
    "    \"--compute\",\n",
    "    \"single-GPU\",\n",
    "    \"--cv-folds\",\n",
    "    1,\n",
    "]\n",
    "\n",
    "env = Environment(environment_name)\n",
    "env.docker.enabled = True\n",
    "env.docker.base_image = None\n",
    "env.docker.base_dockerfile = environment_file\n",
    "env.python.user_managed_dependencies = True\n",
    "\n",
    "src = ScriptRunConfig(\n",
    "    source_directory=script_dir,\n",
    "    script=script_name,\n",
    "    arguments=arguments,\n",
    "    environment=env,\n",
    "    compute_target=compute_target,\n",
    ")\n",
    "\n",
    "# run = Experiment(ws, experiment_name).submit(src)\n",
    "# run"
   ]
  },
  {
   "cell_type": "markdown",
   "metadata": {},
   "source": [
    "## Tune model hyperparameters\n",
    "\n",
    "Let's define the hyperparameter space to sweep over. We will tune `n_estimators`, `max_depth` and `max_features` parameters. In this example we will use random sampling to try different configuration sets of hyperparameters and maximize `Accuracy`."
   ]
  },
  {
   "cell_type": "code",
   "execution_count": null,
   "metadata": {
    "tags": []
   },
   "outputs": [],
   "source": [
    "!pip install --upgrade azureml-train"
   ]
  },
  {
   "cell_type": "code",
   "execution_count": null,
   "metadata": {},
   "outputs": [],
   "source": [
    "from azureml.train.hyperdrive.runconfig import HyperDriveConfig\n",
    "from azureml.train.hyperdrive.sampling import RandomParameterSampling\n",
    "from azureml.train.hyperdrive.run import PrimaryMetricGoal\n",
    "from azureml.train.hyperdrive.parameter_expressions import (\n",
    "    choice,\n",
    "    loguniform,\n",
    "    uniform,\n",
    ")\n",
    "\n",
    "param_sampling = RandomParameterSampling(\n",
    "    {\n",
    "        \"--n_estimators\": choice(range(50, 500)),\n",
    "        \"--max_depth\": choice(range(5, 19)),\n",
    "        \"--max_features\": uniform(0.2, 1.0),\n",
    "    }\n",
    ")\n",
    "\n",
    "hdc = HyperDriveConfig(\n",
    "    run_config=src,\n",
    "    hyperparameter_sampling=param_sampling,\n",
    "    primary_metric_name=\"Accuracy\",\n",
    "    primary_metric_goal=PrimaryMetricGoal.MAXIMIZE,\n",
    "    max_total_runs=5,\n",
    "    max_concurrent_runs=5,\n",
    ")\n",
    "\n",
    "run = Experiment(ws, experiment_name).submit(hdc)\n",
    "run"
   ]
  },
  {
   "cell_type": "code",
   "execution_count": null,
   "metadata": {},
   "outputs": [],
   "source": [
    "from azureml.widgets import RunDetails\n",
    "\n",
    "RunDetails(run).show()"
   ]
  },
  {
   "cell_type": "code",
   "execution_count": null,
   "metadata": {
    "tags": []
   },
   "outputs": [],
   "source": [
    "run.wait_for_completion(show_output=True)"
   ]
  },
  {
   "cell_type": "markdown",
   "metadata": {},
   "source": [
    "### Find the best model"
   ]
  },
  {
   "cell_type": "code",
   "execution_count": null,
   "metadata": {},
   "outputs": [],
   "source": [
    "best_run = run.get_best_run_by_primary_metric()\n",
    "best_run.get_details()[\"runDefinition\"][\"arguments\"]"
   ]
  },
  {
   "cell_type": "markdown",
   "metadata": {},
   "source": [
    "List the model files uploaded during the run:"
   ]
  },
  {
   "cell_type": "code",
   "execution_count": null,
   "metadata": {},
   "outputs": [],
   "source": [
    "best_run.get_file_names()"
   ]
  }
 ],
 "metadata": {
  "kernelspec": {
   "display_name": "Python 3.8",
   "language": "python",
   "name": "python3.8"
  },
  "language_info": {
   "codemirror_mode": {
    "name": "ipython",
    "version": 3
   },
   "file_extension": ".py",
   "mimetype": "text/x-python",
   "name": "python",
   "nbconvert_exporter": "python",
   "pygments_lexer": "ipython3",
   "version": "3.8.5-final"
  }
 },
 "nbformat": 4,
 "nbformat_minor": 4
}
