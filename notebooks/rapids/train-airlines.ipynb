{
 "cells": [
  {
   "cell_type": "markdown",
   "metadata": {},
   "source": [
    "# Train with RAPIDS\n",
    "\n",
    "description: train with RAPIDS and cuML on a subset of the airlines dataset"
   ]
  },
  {
   "cell_type": "code",
   "execution_count": null,
   "metadata": {},
   "outputs": [],
   "source": [
    "from azureml.core import Workspace\n",
    "\n",
    "ws = Workspace.from_config()\n",
    "ws"
   ]
  },
  {
   "cell_type": "code",
   "execution_count": null,
   "metadata": {},
   "outputs": [],
   "source": [
    "import git\n",
    "from pathlib import Path\n",
    "\n",
    "# get root of git repo\n",
    "prefix = Path(git.Repo(\".\", search_parent_directories=True).working_tree_dir)\n",
    "\n",
    "# training script\n",
    "script_dir = prefix.joinpath(\"code\", \"models\", \"rapids\")\n",
    "script_name = \"train.py\"\n",
    "\n",
    "# environment file\n",
    "environment_file = prefix.joinpath(\"environments\", \"rapids-example.dockerfile\")\n",
    "\n",
    "# azure ml settings\n",
    "environment_name = \"rapids-airline-example\"\n",
    "experiment_name = \"rapids-airline-example\"\n",
    "compute_target = \"gpu-V100-1\""
   ]
  },
  {
   "cell_type": "code",
   "execution_count": null,
   "metadata": {
    "tags": []
   },
   "outputs": [],
   "source": [
    "print(open(script_dir.joinpath(script_name)).read())"
   ]
  },
  {
   "cell_type": "code",
   "execution_count": null,
   "metadata": {},
   "outputs": [],
   "source": [
    "from azureml.core import ScriptRunConfig, Experiment, Environment, Dataset\n",
    "\n",
    "ds = Dataset.File.from_files(\n",
    "    \"https://airlinedataset.blob.core.windows.net/airline-20m/*\"\n",
    ")\n",
    "\n",
    "arguments = [\n",
    "    \"--data_dir\",\n",
    "    ds.as_mount(),\n",
    "    \"--n_bins\",\n",
    "    32,\n",
    "    \"--compute\",\n",
    "    \"single-GPU\",\n",
    "    \"--cv-folds\",\n",
    "    1,\n",
    "]\n",
    "\n",
    "env = Environment(environment_name)\n",
    "env.docker.enabled = True\n",
    "env.docker.base_image = None\n",
    "env.docker.base_dockerfile = environment_file\n",
    "env.python.user_managed_dependencies = True\n",
    "\n",
    "src = ScriptRunConfig(\n",
    "    source_directory=script_dir,\n",
    "    script=script_name,\n",
    "    arguments=arguments,\n",
    "    environment=env,\n",
    "    compute_target=compute_target,\n",
    ")\n",
    "\n",
    "run = Experiment(ws, experiment_name).submit(src)\n",
    "run"
   ]
  },
  {
   "cell_type": "code",
   "execution_count": null,
   "metadata": {},
   "outputs": [],
   "source": [
    "from azureml.widgets import RunDetails\n",
    "\n",
    "RunDetails(run).show()"
   ]
  },
  {
   "cell_type": "code",
   "execution_count": null,
   "metadata": {},
   "outputs": [],
   "source": [
    "run.wait_for_completion(show_output=True)"
   ]
  }
 ],
 "metadata": {
  "kernelspec": {
   "display_name": "Python 3.8",
   "language": "python",
   "name": "python3.8"
  },
  "language_info": {
   "codemirror_mode": {
    "name": "ipython",
    "version": 3
   },
   "file_extension": ".py",
   "mimetype": "text/x-python",
   "name": "python",
   "nbconvert_exporter": "python",
   "pygments_lexer": "ipython3",
   "version": "3.8.5-final"
  }
 },
 "nbformat": 4,
 "nbformat_minor": 4
}
