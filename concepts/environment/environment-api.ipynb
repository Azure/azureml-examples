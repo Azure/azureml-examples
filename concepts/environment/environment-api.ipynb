{
 "cells": [
  {
   "cell_type": "code",
   "execution_count": null,
   "metadata": {},
   "outputs": [],
   "source": [
    "from azureml.core import Workspace, Environment\n",
    "\n",
    "ws = Workspace.from_config()\n",
    "ws"
   ]
  },
  {
   "cell_type": "code",
   "execution_count": null,
   "metadata": {},
   "outputs": [],
   "source": [
    "import git\n",
    "from pathlib import Path\n",
    "\n",
    "# get root of git repo\n",
    "prefix = Path(git.Repo(\".\", search_parent_directories=True).working_tree_dir)"
   ]
  },
  {
   "cell_type": "code",
   "execution_count": null,
   "metadata": {
    "tags": []
   },
   "outputs": [],
   "source": [
    "for env in ws.environments:\n",
    "    print(env)"
   ]
  },
  {
   "cell_type": "code",
   "execution_count": null,
   "metadata": {},
   "outputs": [],
   "source": [
    "env = ws.environments[\"AzureML-Tutorial\"]\n",
    "env"
   ]
  },
  {
   "cell_type": "code",
   "execution_count": null,
   "metadata": {},
   "outputs": [],
   "source": [
    "env2 = env.clone(\"myenv\")\n",
    "env2"
   ]
  },
  {
   "cell_type": "code",
   "execution_count": null,
   "metadata": {},
   "outputs": [],
   "source": [
    "env3 = Environment.from_conda_specification(\n",
    "    \"myenv\", prefix.joinpath(\"environments\", \"fastai-example.yml\")\n",
    ")\n",
    "env3"
   ]
  },
  {
   "cell_type": "code",
   "execution_count": null,
   "metadata": {},
   "outputs": [],
   "source": [
    "env4 = Environment.from_pip_requirements(\n",
    "    \"myenv\", prefix.joinpath(\"environments\", \"lightgbm-example.txt\")\n",
    ")\n",
    "env4"
   ]
  },
  {
   "cell_type": "code",
   "execution_count": null,
   "metadata": {
    "tags": []
   },
   "outputs": [],
   "source": [
    "env5 = Environment.from_existing_conda_environment(\"myenv\", \"base\")\n",
    "env5"
   ]
  },
  {
   "cell_type": "code",
   "execution_count": null,
   "metadata": {},
   "outputs": [],
   "source": [
    "from azureml.core.conda_dependencies import CondaDependencies\n",
    "conda_dep = CondaDependencies()\n",
    "conda_dep.add_pip_package(\"pillow\")\n",
    "conda_dep.add_conda_package(\"numpy==1.17.0\")\n",
    "env5.python.conda_dependencies = conda_dep"
   ]
  },
  {
   "cell_type": "code",
   "execution_count": null,
   "metadata": {},
   "outputs": [],
   "source": [
    "env6 = Environment(\"myenv\")\n",
    "env6.docker.enabled = True\n",
    "env6.docker.base_image = None\n",
    "env6.docker.base_dockerfile = prefix.joinpath(\n",
    "    \"environments\", \"fastai-example.dockerfile\"\n",
    ")\n",
    "env6.python.user_managed_dependencies = True"
   ]
  },
   {
   "cell_type": "code",
   "execution_count": null,
   "metadata": {},
   "outputs": [],
   "source": [
    "details = env6.get_image_details(ws)\n",
    "details"
   ]
  },
  {
   "cell_type": "code",
   "execution_count": null,
   "metadata": {},
   "outputs": [],
   "source": [
    "env6 = env6.register(ws)\n",
    "env6"
   ]
  },
  {
   "cell_type": "code",
   "execution_count": null,
   "metadata": {},
   "outputs": [],
   "source": [
    "env6 = ws.environments[\"myenv\"]\n",
    "env6"
   ]
  }
 ],
 "metadata": {
  "index": {
   "other": "Overview of AML Environment Python SDK"
  },
  "kernelspec": {
   "display_name": "Python 3.8.5 64-bit ('dkdc': conda)",
   "language": "python",
   "name": "python_defaultSpec_1600135051323"
  },
  "language_info": {
   "codemirror_mode": {
    "name": "ipython",
    "version": 3
   },
   "file_extension": ".py",
   "mimetype": "text/x-python",
   "name": "python",
   "nbconvert_exporter": "python",
   "pygments_lexer": "ipython3",
   "version": "3.8.5-final"
  }
 },
 "nbformat": 4,
 "nbformat_minor": 4
}
