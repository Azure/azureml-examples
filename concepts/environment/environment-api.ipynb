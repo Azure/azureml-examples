{
 "cells": [
  {
   "cell_type": "markdown",
   "metadata": {},
   "source": [
    "# Azure ML Environment Python SDK\n",
    "\n",
    "description: overview of the AML Environment Python SDK"
   ]
  },
  {
   "cell_type": "code",
   "execution_count": null,
   "metadata": {},
   "outputs": [],
   "source": [
    "from azureml.core import Workspace, Environment\n",
    "\n",
    "ws = Workspace.from_config()\n",
    "ws"
   ]
  },
  {
   "cell_type": "code",
   "execution_count": null,
   "metadata": {},
   "outputs": [],
   "source": [
    "import git\n",
    "from pathlib import Path\n",
    "\n",
    "# get root of git repo\n",
    "prefix = Path(git.Repo(\".\", search_parent_directories=True).working_tree_dir)"
   ]
  },
  {
   "cell_type": "code",
   "execution_count": null,
   "metadata": {
    "tags": []
   },
   "outputs": [],
   "source": [
    "for env in ws.environments:\n",
    "    print(env)"
   ]
  },
  {
   "cell_type": "code",
   "execution_count": null,
   "metadata": {},
   "outputs": [],
   "source": [
    "env = ws.environments[\"AzureML-Tutorial\"]\n",
    "env"
   ]
  },
  {
   "cell_type": "code",
   "execution_count": null,
   "metadata": {},
   "outputs": [],
   "source": [
    "env2 = env.clone(\"myenv\")\n",
    "env2"
   ]
  },
  {
   "cell_type": "code",
   "execution_count": null,
   "metadata": {},
   "outputs": [],
   "source": [
    "env3 = Environment.from_conda_specification(\n",
    "    \"myenv\", prefix.joinpath(\"environments\", \"fastai-example.yml\")\n",
    ")\n",
    "env3"
   ]
  },
  {
   "cell_type": "code",
   "execution_count": null,
   "metadata": {},
   "outputs": [],
   "source": [
    "env4 = Environment.from_pip_requirements(\n",
    "    \"myenv\", prefix.joinpath(\"environments\", \"lightgbm-example.txt\")\n",
    ")\n",
    "env4"
   ]
  },
  {
   "cell_type": "code",
   "execution_count": null,
   "metadata": {
    "tags": []
   },
   "outputs": [],
   "source": [
    "env5 = Environment.from_existing_conda_environment(\"myenv\", \"base\")\n",
    "env5"
   ]
  },
  {
   "cell_type": "code",
   "execution_count": null,
   "metadata": {},
   "outputs": [],
   "source": [
    "from azureml.core.conda_dependencies import CondaDependencies\n",
    "\n",
    "env6 = Environment(\"myenv\")\n",
    "conda_dep = CondaDependencies()\n",
    "conda_dep.add_pip_package(\"pillow\")\n",
    "conda_dep.add_conda_package(\"numpy==1.17.0\")\n",
    "env6.python.conda_dependencies = conda_dep"
   ]
  },
  {
   "cell_type": "code",
   "execution_count": null,
   "metadata": {},
   "outputs": [],
   "source": [
    "env7 = Environment(\"myenv\")\n",
    "env7.docker.enabled = True\n",
    "env7.docker.base_image = None\n",
    "env7.docker.base_dockerfile = prefix.joinpath(\n",
    "    \"environments\", \"fastai-example.dockerfile\"\n",
    ")\n",
    "env7.python.user_managed_dependencies = True"
   ]
  },
  {
   "cell_type": "code",
   "execution_count": null,
   "metadata": {},
   "outputs": [],
   "source": [
    "details = env7.get_image_details(ws)\n",
    "details"
   ]
  },
  {
   "cell_type": "code",
   "execution_count": null,
   "metadata": {},
   "outputs": [],
   "source": [
    "env7 = env7.register(ws)\n",
    "env7"
   ]
  },
  {
   "cell_type": "code",
   "execution_count": null,
   "metadata": {},
   "outputs": [],
   "source": [
    "env7 = ws.environments[\"myenv\"]\n",
    "env7"
   ]
  }
 ],
 "metadata": {
  "kernelspec": {
   "display_name": "Python 3.8",
   "language": "python",
   "name": "python3.8"
  },
  "language_info": {
   "codemirror_mode": {
    "name": "ipython",
    "version": 3
   },
   "file_extension": ".py",
   "mimetype": "text/x-python",
   "name": "python",
   "nbconvert_exporter": "python",
   "pygments_lexer": "ipython3",
   "version": "3.8.5-final"
  }
 },
 "nbformat": 4,
 "nbformat_minor": 4
}
