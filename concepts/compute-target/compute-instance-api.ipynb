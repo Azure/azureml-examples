{
 "cells": [
  {
   "cell_type": "markdown",
   "metadata": {},
   "source": [
    "Copyright (c) Microsoft Corporation. All rights reserved.\n",
    "\n",
    "Licensed under the MIT License."
   ]
  },
  {
   "cell_type": "markdown",
   "metadata": {},
   "source": [
    "# Azure Machine Learning Compute Instance\n",
    "\n",
    "* Initialize Workspace\n",
    "* Introduction to ComputeInstance\n",
    "* Additional operations to perform on ComputeInstance"
   ]
  },
  {
   "cell_type": "markdown",
   "metadata": {},
   "source": [
    "## Get a Workspace\n",
    "\n",
    "Get a workspace object from a `config.json` file"
   ]
  },
  {
   "cell_type": "code",
   "execution_count": null,
   "metadata": {
    "tags": []
   },
   "outputs": [],
   "source": [
    "from azureml.core import Workspace\n",
    "\n",
    "ws = Workspace.from_config()\n",
    "ws"
   ]
  },
  {
   "cell_type": "markdown",
   "metadata": {},
   "source": [
    "## Introduction to ComputeInstance\n",
    "\n",
    "\n",
    "Azure Machine Learning compute instance is a fully-managed cloud-based workstation optimized for your machine learning development environment. It is created **within your workspace region**.\n",
    "\n",
    "For more information on ComputeInstance, please read [this article](https://docs.microsoft.com/en-us/azure/machine-learning/concept-compute-instance)\n",
    "\n",
    "**Note**: As with other Azure services, there are limits on certain resources (for eg. AmlCompute quota) associated with the Azure Machine Learning service. Please read [this article](https://docs.microsoft.com/azure/machine-learning/service/how-to-manage-quotas) on the default limits and how to request more quota."
   ]
  },
  {
   "cell_type": "markdown",
   "metadata": {},
   "source": [
    "### Create ComputeInstance\n",
    "First lets check which VM families are available in your region. Azure is a regional service and some specialized SKUs (especially GPUs) are only available in certain regions. Since ComputeInstance is created in the region of your workspace, we will use the supported_vms () function to see if the VM family we want to use ('STANDARD_D3_V2') is supported."
   ]
  },
  {
   "cell_type": "code",
   "execution_count": null,
   "metadata": {
    "msdoc": "how-to-auto-train-remote.md",
    "name": "check_region"
   },
   "outputs": [],
   "source": [
    "from azureml.core.compute import ComputeTarget, ComputeInstance\n",
    "\n",
    "ComputeInstance.supported_vmsizes(workspace = ws)\n",
    "# ComputeInstance.supported_vmsizes(workspace = ws, location='eastus')"
   ]
  },
  {
   "cell_type": "code",
   "execution_count": null,
   "metadata": {
    "msdoc": "how-to-auto-train-remote.md",
    "name": "create_instance",
    "tags": []
   },
   "outputs": [],
   "source": [
    "import datetime\n",
    "import time\n",
    "\n",
    "from azureml.core.compute import ComputeTarget, ComputeInstance\n",
    "from azureml.core.compute_target import ComputeTargetException\n",
    "\n",
    "# Choose a name for your instance\n",
    "# Compute instance name should be unique across the azure region\n",
    "compute_name = \"ci{}\".format(ws._workspace_id)[:10]\n",
    "\n",
    "# Verify that instance does not exist already\n",
    "try:\n",
    "    instance = ComputeInstance(workspace=ws, name=compute_name)\n",
    "    print('Found existing instance, use it.')\n",
    "except ComputeTargetException:\n",
    "    compute_config = ComputeInstance.provisioning_configuration(\n",
    "        vm_size='STANDARD_D3_V2',\n",
    "        ssh_public_access=False,\n",
    "        # vnet_resourcegroup_name='<my-resource-group>',\n",
    "        # vnet_name='<my-vnet-name>',\n",
    "        # subnet_name='default',\n",
    "        # admin_user_ssh_public_key='<my-sshkey>'\n",
    "    )\n",
    "    instance = ComputeInstance.create(ws, compute_name, compute_config)\n",
    "    instance.wait_for_completion(show_output=True)"
   ]
  },
  {
   "cell_type": "markdown",
   "metadata": {},
   "source": [
    "### Additional operations to perform on ComputeInstance\n",
    "\n",
    "You can perform more operations on ComputeInstance such as get status, change the state or deleting the compute."
   ]
  },
  {
   "cell_type": "code",
   "execution_count": null,
   "metadata": {
    "msdoc": "how-to-auto-train-remote.md",
    "name": "get_status"
   },
   "outputs": [],
   "source": [
    "# get_status() gets the latest status of the ComputeInstance target\n",
    "instance.get_status()"
   ]
  },
  {
   "cell_type": "code",
   "execution_count": null,
   "metadata": {
    "msdoc": "how-to-auto-train-remote.md",
    "name": "stop"
   },
   "outputs": [],
   "source": [
    "# stop() is used to stop the ComputeInstance\n",
    "# Stopping ComputeInstance will stop the billing meter and persist the state on the disk.\n",
    "# Available Quota will not be changed with this operation.\n",
    "instance.stop(wait_for_completion=True, show_output=True)"
   ]
  },
  {
   "cell_type": "code",
   "execution_count": null,
   "metadata": {
    "msdoc": "how-to-auto-train-remote.md",
    "name": "start"
   },
   "outputs": [],
   "source": [
    "# start() is used to start the ComputeInstance if it is in stopped state\n",
    "instance.start(wait_for_completion=True, show_output=True)"
   ]
  },
  {
   "cell_type": "code",
   "execution_count": null,
   "metadata": {},
   "outputs": [],
   "source": [
    "# restart() is used to restart the ComputeInstance\n",
    "instance.restart(wait_for_completion=True, show_output=True)"
   ]
  },
  {
   "cell_type": "code",
   "execution_count": null,
   "metadata": {},
   "outputs": [],
   "source": [
    "# delete() is used to delete the ComputeInstance target. Useful if you want to re-use the compute name \n",
    "# instance.delete(wait_for_completion=True, show_output=True)"
   ]
  }
 ],
 "metadata": {
  "authors": [
   {
    "name": "ramagott"
   }
  ],
  "category": "training",
  "compute": [
   "Compute Instance"
  ],
  "datasets": [
   "Diabetes"
  ],
  "deployment": [
   "None"
  ],
  "exclude_from_index": false,
  "framework": [
   "None"
  ],
  "friendly_name": "Train on Azure Machine Learning Compute Instance",
  "index_order": 1,
  "kernelspec": {
   "display_name": "dkdc",
   "language": "python",
   "name": "dkdc"
  },
  "language_info": {
   "codemirror_mode": {
    "name": "ipython",
    "version": 3
   },
   "file_extension": ".py",
   "mimetype": "text/x-python",
   "name": "python",
   "nbconvert_exporter": "python",
   "pygments_lexer": "ipython3",
   "version": "3.8.5-final"
  },
  "tags": [
   "None"
  ],
  "task": "Submit a run on Azure Machine Learning Compute Instance."
 },
 "nbformat": 4,
 "nbformat_minor": 4
}