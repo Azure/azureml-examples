{
 "cells": [
  {
   "cell_type": "code",
   "execution_count": 1,
   "metadata": {
    "tags": []
   },
   "outputs": [
    {
     "output_type": "execute_result",
     "data": {
      "text/plain": "Workspace.create(name='AzureML', subscription_id='6560575d-fa06-4e7d-95fb-f962e74efd7a', resource_group='cody-eastus-rg')"
     },
     "metadata": {},
     "execution_count": 1
    }
   ],
   "source": [
    "from azureml.core import Workspace\n",
    "\n",
    "ws = Workspace.from_config()\n",
    "ws"
   ]
  },
  {
   "cell_type": "markdown",
   "metadata": {},
   "source": [
    "## Introduction to ComputeInstance\n",
    "\n",
    "\n",
    "Azure Machine Learning compute instance is a fully-managed cloud-based workstation optimized for your machine learning development environment. It is created **within your workspace region**.\n",
    "\n",
    "For more information on ComputeInstance, please read [this article](https://docs.microsoft.com/en-us/azure/machine-learning/concept-compute-instance)\n",
    "\n",
    "**Note**: As with other Azure services, there are limits on certain resources (for eg. AmlCompute quota) associated with the Azure Machine Learning service. Please read [this article](https://docs.microsoft.com/azure/machine-learning/service/how-to-manage-quotas) on the default limits and how to request more quota."
   ]
  },
  {
   "cell_type": "markdown",
   "metadata": {},
   "source": [
    "### Create ComputeInstance\n",
    "First lets check which VM families are available in your region. Azure is a regional service and some specialized SKUs (especially GPUs) are only available in certain regions. Since ComputeInstance is created in the region of your workspace, we will use the supported_vms () function to see if the VM family we want to use ('STANDARD_D3_V2') is supported."
   ]
  },
  {
   "cell_type": "code",
   "execution_count": 2,
   "metadata": {
    "msdoc": "how-to-auto-train-remote.md",
    "name": "check_region"
   },
   "outputs": [
    {
     "output_type": "execute_result",
     "data": {
      "text/plain": "[{'name': 'Standard_DS1_v2',\n  'vCPUs': 1,\n  'gpus': 0,\n  'memoryGB': 3.5,\n  'maxResourceVolumeMB': 7168},\n {'name': 'Standard_DS2_v2',\n  'vCPUs': 2,\n  'gpus': 0,\n  'memoryGB': 7.0,\n  'maxResourceVolumeMB': 14336},\n {'name': 'Standard_DS3_v2',\n  'vCPUs': 4,\n  'gpus': 0,\n  'memoryGB': 14.0,\n  'maxResourceVolumeMB': 28672},\n {'name': 'Standard_DS4_v2',\n  'vCPUs': 8,\n  'gpus': 0,\n  'memoryGB': 28.0,\n  'maxResourceVolumeMB': 57344},\n {'name': 'Standard_DS5_v2',\n  'vCPUs': 16,\n  'gpus': 0,\n  'memoryGB': 56.0,\n  'maxResourceVolumeMB': 114688},\n {'name': 'Standard_DS11_v2',\n  'vCPUs': 2,\n  'gpus': 0,\n  'memoryGB': 14.0,\n  'maxResourceVolumeMB': 28672},\n {'name': 'Standard_DS12_v2',\n  'vCPUs': 4,\n  'gpus': 0,\n  'memoryGB': 28.0,\n  'maxResourceVolumeMB': 57344},\n {'name': 'Standard_DS13_v2',\n  'vCPUs': 8,\n  'gpus': 0,\n  'memoryGB': 56.0,\n  'maxResourceVolumeMB': 114688},\n {'name': 'Standard_DS14_v2',\n  'vCPUs': 16,\n  'gpus': 0,\n  'memoryGB': 112.0,\n  'maxResourceVolumeMB': 229376},\n {'name': 'Standard_DS15_v2',\n  'vCPUs': 20,\n  'gpus': 0,\n  'memoryGB': 140.0,\n  'maxResourceVolumeMB': 286720},\n {'name': 'Standard_D1_v2',\n  'vCPUs': 1,\n  'gpus': 0,\n  'memoryGB': 3.5,\n  'maxResourceVolumeMB': 51200},\n {'name': 'Standard_D2_v2',\n  'vCPUs': 2,\n  'gpus': 0,\n  'memoryGB': 7.0,\n  'maxResourceVolumeMB': 102400},\n {'name': 'Standard_D3_v2',\n  'vCPUs': 4,\n  'gpus': 0,\n  'memoryGB': 14.0,\n  'maxResourceVolumeMB': 204800},\n {'name': 'Standard_D4_v2',\n  'vCPUs': 8,\n  'gpus': 0,\n  'memoryGB': 28.0,\n  'maxResourceVolumeMB': 409600},\n {'name': 'Standard_D11_v2',\n  'vCPUs': 2,\n  'gpus': 0,\n  'memoryGB': 14.0,\n  'maxResourceVolumeMB': 102400},\n {'name': 'Standard_D12_v2',\n  'vCPUs': 4,\n  'gpus': 0,\n  'memoryGB': 28.0,\n  'maxResourceVolumeMB': 204800},\n {'name': 'Standard_D13_v2',\n  'vCPUs': 8,\n  'gpus': 0,\n  'memoryGB': 56.0,\n  'maxResourceVolumeMB': 409600},\n {'name': 'Standard_D14_v2',\n  'vCPUs': 16,\n  'gpus': 0,\n  'memoryGB': 112.0,\n  'maxResourceVolumeMB': 819200},\n {'name': 'Standard_D15_v2',\n  'vCPUs': 20,\n  'gpus': 0,\n  'memoryGB': 140.0,\n  'maxResourceVolumeMB': 1024000},\n {'name': 'Standard_NV6',\n  'vCPUs': 6,\n  'gpus': 1,\n  'memoryGB': 56.0,\n  'maxResourceVolumeMB': 389120},\n {'name': 'Standard_NV12',\n  'vCPUs': 12,\n  'gpus': 2,\n  'memoryGB': 112.0,\n  'maxResourceVolumeMB': 696320},\n {'name': 'Standard_NV24',\n  'vCPUs': 24,\n  'gpus': 4,\n  'memoryGB': 224.0,\n  'maxResourceVolumeMB': 1474560},\n {'name': 'Standard_NV12s_v3',\n  'vCPUs': 12,\n  'gpus': 1,\n  'memoryGB': 112.0,\n  'maxResourceVolumeMB': 344064},\n {'name': 'Standard_NV24s_v3',\n  'vCPUs': 24,\n  'gpus': 2,\n  'memoryGB': 224.0,\n  'maxResourceVolumeMB': 688128},\n {'name': 'Standard_NV48s_v3',\n  'vCPUs': 48,\n  'gpus': 4,\n  'memoryGB': 448.0,\n  'maxResourceVolumeMB': 1376256},\n {'name': 'Standard_HB120rs_v2',\n  'vCPUs': 120,\n  'gpus': 0,\n  'memoryGB': 468.75,\n  'maxResourceVolumeMB': 960000},\n {'name': 'Standard_D1',\n  'vCPUs': 1,\n  'gpus': 0,\n  'memoryGB': 3.5,\n  'maxResourceVolumeMB': 51200},\n {'name': 'Standard_D2',\n  'vCPUs': 2,\n  'gpus': 0,\n  'memoryGB': 7.0,\n  'maxResourceVolumeMB': 102400},\n {'name': 'Standard_D3',\n  'vCPUs': 4,\n  'gpus': 0,\n  'memoryGB': 14.0,\n  'maxResourceVolumeMB': 204800},\n {'name': 'Standard_D4',\n  'vCPUs': 8,\n  'gpus': 0,\n  'memoryGB': 28.0,\n  'maxResourceVolumeMB': 409600},\n {'name': 'Standard_D11',\n  'vCPUs': 2,\n  'gpus': 0,\n  'memoryGB': 14.0,\n  'maxResourceVolumeMB': 102400},\n {'name': 'Standard_D12',\n  'vCPUs': 4,\n  'gpus': 0,\n  'memoryGB': 28.0,\n  'maxResourceVolumeMB': 204800},\n {'name': 'Standard_D13',\n  'vCPUs': 8,\n  'gpus': 0,\n  'memoryGB': 56.0,\n  'maxResourceVolumeMB': 409600},\n {'name': 'Standard_D14',\n  'vCPUs': 16,\n  'gpus': 0,\n  'memoryGB': 112.0,\n  'maxResourceVolumeMB': 819200},\n {'name': 'Standard_NC6s_v2',\n  'vCPUs': 6,\n  'gpus': 1,\n  'memoryGB': 112.0,\n  'maxResourceVolumeMB': 344064},\n {'name': 'Standard_NC12s_v2',\n  'vCPUs': 12,\n  'gpus': 2,\n  'memoryGB': 224.0,\n  'maxResourceVolumeMB': 688128},\n {'name': 'Standard_NC24rs_v2',\n  'vCPUs': 24,\n  'gpus': 4,\n  'memoryGB': 448.0,\n  'maxResourceVolumeMB': 1376256},\n {'name': 'Standard_NC24s_v2',\n  'vCPUs': 24,\n  'gpus': 4,\n  'memoryGB': 448.0,\n  'maxResourceVolumeMB': 1376256},\n {'name': 'Standard_F2s_v2',\n  'vCPUs': 2,\n  'gpus': 0,\n  'memoryGB': 4.0,\n  'maxResourceVolumeMB': 16384},\n {'name': 'Standard_F4s_v2',\n  'vCPUs': 4,\n  'gpus': 0,\n  'memoryGB': 8.0,\n  'maxResourceVolumeMB': 32768},\n {'name': 'Standard_F8s_v2',\n  'vCPUs': 8,\n  'gpus': 0,\n  'memoryGB': 16.0,\n  'maxResourceVolumeMB': 65536},\n {'name': 'Standard_F16s_v2',\n  'vCPUs': 16,\n  'gpus': 0,\n  'memoryGB': 32.0,\n  'maxResourceVolumeMB': 131072},\n {'name': 'Standard_F32s_v2',\n  'vCPUs': 32,\n  'gpus': 0,\n  'memoryGB': 64.0,\n  'maxResourceVolumeMB': 262144},\n {'name': 'Standard_F64s_v2',\n  'vCPUs': 64,\n  'gpus': 0,\n  'memoryGB': 128.0,\n  'maxResourceVolumeMB': 524288},\n {'name': 'Standard_F72s_v2',\n  'vCPUs': 72,\n  'gpus': 0,\n  'memoryGB': 144.0,\n  'maxResourceVolumeMB': 589824},\n {'name': 'Standard_NC6',\n  'vCPUs': 6,\n  'gpus': 1,\n  'memoryGB': 56.0,\n  'maxResourceVolumeMB': 389120},\n {'name': 'Standard_NC12',\n  'vCPUs': 12,\n  'gpus': 2,\n  'memoryGB': 112.0,\n  'maxResourceVolumeMB': 696320},\n {'name': 'Standard_NC24',\n  'vCPUs': 24,\n  'gpus': 4,\n  'memoryGB': 224.0,\n  'maxResourceVolumeMB': 1474560},\n {'name': 'Standard_NC24r',\n  'vCPUs': 24,\n  'gpus': 4,\n  'memoryGB': 224.0,\n  'maxResourceVolumeMB': 1474560},\n {'name': 'Standard_HC44rs',\n  'vCPUs': 44,\n  'gpus': 0,\n  'memoryGB': 327.83,\n  'maxResourceVolumeMB': 716800},\n {'name': 'Standard_ND6s',\n  'vCPUs': 6,\n  'gpus': 1,\n  'memoryGB': 112.0,\n  'maxResourceVolumeMB': 344064},\n {'name': 'Standard_ND12s',\n  'vCPUs': 12,\n  'gpus': 2,\n  'memoryGB': 224.0,\n  'maxResourceVolumeMB': 688128},\n {'name': 'Standard_ND24rs',\n  'vCPUs': 24,\n  'gpus': 4,\n  'memoryGB': 448.0,\n  'maxResourceVolumeMB': 1376256},\n {'name': 'Standard_ND24s',\n  'vCPUs': 24,\n  'gpus': 4,\n  'memoryGB': 448.0,\n  'maxResourceVolumeMB': 1376256},\n {'name': 'Standard_ND40rs_v2',\n  'vCPUs': 40,\n  'gpus': 8,\n  'memoryGB': 672.0,\n  'maxResourceVolumeMB': 2969600},\n {'name': 'Standard_M64',\n  'vCPUs': 64,\n  'gpus': 0,\n  'memoryGB': 1000.0,\n  'maxResourceVolumeMB': 8192000},\n {'name': 'Standard_M64m',\n  'vCPUs': 64,\n  'gpus': 0,\n  'memoryGB': 1750.0,\n  'maxResourceVolumeMB': 8192000},\n {'name': 'Standard_M128',\n  'vCPUs': 128,\n  'gpus': 0,\n  'memoryGB': 2000.0,\n  'maxResourceVolumeMB': 16384000},\n {'name': 'Standard_M128m',\n  'vCPUs': 128,\n  'gpus': 0,\n  'memoryGB': 3800.0,\n  'maxResourceVolumeMB': 16384000},\n {'name': 'Standard_M8-2ms',\n  'vCPUs': 8,\n  'gpus': 0,\n  'memoryGB': 218.75,\n  'maxResourceVolumeMB': 256000},\n {'name': 'Standard_M8-4ms',\n  'vCPUs': 8,\n  'gpus': 0,\n  'memoryGB': 218.75,\n  'maxResourceVolumeMB': 256000},\n {'name': 'Standard_M8ms',\n  'vCPUs': 8,\n  'gpus': 0,\n  'memoryGB': 218.75,\n  'maxResourceVolumeMB': 256000},\n {'name': 'Standard_M16-4ms',\n  'vCPUs': 16,\n  'gpus': 0,\n  'memoryGB': 437.5,\n  'maxResourceVolumeMB': 512000},\n {'name': 'Standard_M16-8ms',\n  'vCPUs': 16,\n  'gpus': 0,\n  'memoryGB': 437.5,\n  'maxResourceVolumeMB': 512000},\n {'name': 'Standard_M16ms',\n  'vCPUs': 16,\n  'gpus': 0,\n  'memoryGB': 437.5,\n  'maxResourceVolumeMB': 512000},\n {'name': 'Standard_M32-8ms',\n  'vCPUs': 32,\n  'gpus': 0,\n  'memoryGB': 875.0,\n  'maxResourceVolumeMB': 1024000},\n {'name': 'Standard_M32-16ms',\n  'vCPUs': 32,\n  'gpus': 0,\n  'memoryGB': 875.0,\n  'maxResourceVolumeMB': 1024000},\n {'name': 'Standard_M32ls',\n  'vCPUs': 32,\n  'gpus': 0,\n  'memoryGB': 256.0,\n  'maxResourceVolumeMB': 1024000},\n {'name': 'Standard_M32ms',\n  'vCPUs': 32,\n  'gpus': 0,\n  'memoryGB': 875.0,\n  'maxResourceVolumeMB': 1024000},\n {'name': 'Standard_M32ts',\n  'vCPUs': 32,\n  'gpus': 0,\n  'memoryGB': 192.0,\n  'maxResourceVolumeMB': 1024000},\n {'name': 'Standard_M64-16ms',\n  'vCPUs': 64,\n  'gpus': 0,\n  'memoryGB': 1750.0,\n  'maxResourceVolumeMB': 2048000},\n {'name': 'Standard_M64-32ms',\n  'vCPUs': 64,\n  'gpus': 0,\n  'memoryGB': 1750.0,\n  'maxResourceVolumeMB': 2048000},\n {'name': 'Standard_M64ls',\n  'vCPUs': 64,\n  'gpus': 0,\n  'memoryGB': 512.0,\n  'maxResourceVolumeMB': 2048000},\n {'name': 'Standard_M64ms',\n  'vCPUs': 64,\n  'gpus': 0,\n  'memoryGB': 1750.0,\n  'maxResourceVolumeMB': 2048000},\n {'name': 'Standard_M64s',\n  'vCPUs': 64,\n  'gpus': 0,\n  'memoryGB': 1000.0,\n  'maxResourceVolumeMB': 2048000},\n {'name': 'Standard_M128-32ms',\n  'vCPUs': 128,\n  'gpus': 0,\n  'memoryGB': 3800.0,\n  'maxResourceVolumeMB': 4096000},\n {'name': 'Standard_M128-64ms',\n  'vCPUs': 128,\n  'gpus': 0,\n  'memoryGB': 3800.0,\n  'maxResourceVolumeMB': 4096000},\n {'name': 'Standard_M128ms',\n  'vCPUs': 128,\n  'gpus': 0,\n  'memoryGB': 3800.0,\n  'maxResourceVolumeMB': 4096000},\n {'name': 'Standard_M128s',\n  'vCPUs': 128,\n  'gpus': 0,\n  'memoryGB': 2000.0,\n  'maxResourceVolumeMB': 4096000},\n {'name': 'Standard_NC6s_v3',\n  'vCPUs': 6,\n  'gpus': 1,\n  'memoryGB': 112.0,\n  'maxResourceVolumeMB': 344064},\n {'name': 'Standard_NC12s_v3',\n  'vCPUs': 12,\n  'gpus': 2,\n  'memoryGB': 224.0,\n  'maxResourceVolumeMB': 688128},\n {'name': 'Standard_NC24rs_v3',\n  'vCPUs': 24,\n  'gpus': 4,\n  'memoryGB': 448.0,\n  'maxResourceVolumeMB': 1376256},\n {'name': 'Standard_NC24s_v3',\n  'vCPUs': 24,\n  'gpus': 4,\n  'memoryGB': 448.0,\n  'maxResourceVolumeMB': 1376256}]"
     },
     "metadata": {},
     "execution_count": 2
    }
   ],
   "source": [
    "from azureml.core.compute import ComputeTarget, ComputeInstance\n",
    "\n",
    "ComputeInstance.supported_vmsizes(workspace = ws)\n",
    "# ComputeInstance.supported_vmsizes(workspace = ws, location='eastus')"
   ]
  },
  {
   "cell_type": "code",
   "execution_count": null,
   "metadata": {
    "msdoc": "how-to-auto-train-remote.md",
    "name": "create_instance",
    "tags": []
   },
   "outputs": [],
   "source": [
    "import datetime\n",
    "import time\n",
    "\n",
    "from azureml.core.compute import ComputeTarget, ComputeInstance\n",
    "from azureml.core.compute_target import ComputeTargetException\n",
    "\n",
    "# Choose a name for your instance\n",
    "# Compute instance name should be unique across the azure region\n",
    "compute_name = \"ci{}\".format(ws._workspace_id)[:10]\n",
    "\n",
    "# Verify that instance does not exist already\n",
    "try:\n",
    "    instance = ComputeInstance(workspace=ws, name=compute_name)\n",
    "    print('Found existing instance, use it.')\n",
    "except ComputeTargetException:\n",
    "    compute_config = ComputeInstance.provisioning_configuration(\n",
    "        vm_size='STANDARD_D3_V2',\n",
    "        ssh_public_access=False,\n",
    "        # vnet_resourcegroup_name='<my-resource-group>',\n",
    "        # vnet_name='<my-vnet-name>',\n",
    "        # subnet_name='default',\n",
    "        # admin_user_ssh_public_key='<my-sshkey>'\n",
    "    )\n",
    "    instance = ComputeInstance.create(ws, compute_name, compute_config)\n",
    "    instance.wait_for_completion(show_output=True)"
   ]
  },
  {
   "cell_type": "markdown",
   "metadata": {},
   "source": [
    "### Additional operations to perform on ComputeInstance\n",
    "\n",
    "You can perform more operations on ComputeInstance such as get status, change the state or deleting the compute."
   ]
  },
  {
   "cell_type": "code",
   "execution_count": null,
   "metadata": {
    "msdoc": "how-to-auto-train-remote.md",
    "name": "get_status"
   },
   "outputs": [],
   "source": [
    "# get_status() gets the latest status of the ComputeInstance target\n",
    "instance.get_status()"
   ]
  },
  {
   "cell_type": "code",
   "execution_count": null,
   "metadata": {
    "msdoc": "how-to-auto-train-remote.md",
    "name": "stop"
   },
   "outputs": [],
   "source": [
    "# stop() is used to stop the ComputeInstance\n",
    "# Stopping ComputeInstance will stop the billing meter and persist the state on the disk.\n",
    "# Available Quota will not be changed with this operation.\n",
    "instance.stop(wait_for_completion=True, show_output=True)"
   ]
  },
  {
   "cell_type": "code",
   "execution_count": null,
   "metadata": {
    "msdoc": "how-to-auto-train-remote.md",
    "name": "start"
   },
   "outputs": [],
   "source": [
    "# start() is used to start the ComputeInstance if it is in stopped state\n",
    "instance.start(wait_for_completion=True, show_output=True)"
   ]
  },
  {
   "cell_type": "code",
   "execution_count": null,
   "metadata": {},
   "outputs": [],
   "source": [
    "# restart() is used to restart the ComputeInstance\n",
    "instance.restart(wait_for_completion=True, show_output=True)"
   ]
  },
  {
   "cell_type": "code",
   "execution_count": null,
   "metadata": {},
   "outputs": [],
   "source": [
    "# delete() is used to delete the ComputeInstance target. Useful if you want to re-use the compute name \n",
    "# instance.delete(wait_for_completion=True, show_output=True)"
   ]
  }
 ],
 "metadata": {
  "authors": [
   {
    "name": "ramagott"
   }
  ],
  "category": "training",
  "compute": [
   "Compute Instance"
  ],
  "datasets": [
   "Diabetes"
  ],
  "deployment": [
   "None"
  ],
  "exclude_from_index": false,
  "framework": [
   "None"
  ],
  "friendly_name": "Train on Azure Machine Learning Compute Instance",
  "index_order": 1,
  "kernelspec": {
   "display_name": "Python (dkdc)",
   "language": "python",
   "name": "dkdc"
  },
  "language_info": {
   "codemirror_mode": {
    "name": "ipython",
    "version": 3
   },
   "file_extension": ".py",
   "mimetype": "text/x-python",
   "name": "python",
   "nbconvert_exporter": "python",
   "pygments_lexer": "ipython3",
   "version": "3.8.5-final"
  },
  "tags": [
   "None"
  ],
  "task": "Submit a run on Azure Machine Learning Compute Instance."
 },
 "nbformat": 4,
 "nbformat_minor": 4
}