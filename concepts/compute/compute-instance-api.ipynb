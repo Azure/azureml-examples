{
 "cells": [
  {
   "cell_type": "markdown",
   "metadata": {},
   "source": [
    "# Azure ML Compute Instance Python SDK\n",
    "\n",
    "description: overview of the AML Compute Instance Python SDK"
   ]
  },
  {
   "cell_type": "code",
   "execution_count": null,
   "metadata": {
    "tags": []
   },
   "outputs": [],
   "source": [
    "from azureml.core import Workspace\n",
    "\n",
    "ws = Workspace.from_config()\n",
    "ws"
   ]
  },
  {
   "cell_type": "markdown",
   "metadata": {},
   "source": [
    "## Introduction to ComputeInstance\n",
    "\n",
    "\n",
    "Azure Machine Learning compute instance is a fully-managed cloud-based workstation optimized for your machine learning development environment. It is created **within your workspace region**.\n",
    "\n",
    "For more information on ComputeInstance, please read [this article](https://docs.microsoft.com/en-us/azure/machine-learning/concept-compute-instance)\n",
    "\n",
    "**Note**: As with other Azure services, there are limits on certain resources (for eg. AmlCompute quota) associated with the Azure Machine Learning service. Please read [this article](https://docs.microsoft.com/azure/machine-learning/service/how-to-manage-quotas) on the default limits and how to request more quota."
   ]
  },
  {
   "cell_type": "code",
   "execution_count": null,
   "metadata": {
    "msdoc": "how-to-auto-train-remote.md",
    "name": "check_region"
   },
   "outputs": [],
   "source": [
    "from azureml.core.compute import ComputeTarget, ComputeInstance\n",
    "\n",
    "ComputeInstance.supported_vmsizes(workspace=ws)\n",
    "# ComputeInstance.supported_vmsizes(workspace = ws, location='eastus')"
   ]
  },
  {
   "cell_type": "code",
   "execution_count": null,
   "metadata": {
    "msdoc": "how-to-auto-train-remote.md",
    "name": "create_instance",
    "tags": []
   },
   "outputs": [],
   "source": [
    "from random import randint\n",
    "from azureml.core.compute import ComputeInstance\n",
    "\n",
    "# name must be unique across the azure region\n",
    "compute_name = f\"ci-{str(randint(10000, 99999))}-concept\"\n",
    "\n",
    "compute_config = ComputeInstance.provisioning_configuration(\n",
    "    vm_size=\"STANDARD_D3_V2\",\n",
    "    ssh_public_access=False,\n",
    "    # vnet_resourcegroup_name='<my-resource-group>',\n",
    "    # vnet_name='<my-vnet-name>',\n",
    "    # subnet_name='default',\n",
    "    # admin_user_ssh_public_key='<my-sshkey>'\n",
    ")\n",
    "instance = ComputeInstance.create(ws, compute_name, compute_config)\n",
    "instance.wait_for_completion(show_output=True)"
   ]
  },
  {
   "cell_type": "code",
   "execution_count": null,
   "metadata": {
    "msdoc": "how-to-auto-train-remote.md",
    "name": "get_status"
   },
   "outputs": [],
   "source": [
    "# get_status() gets the latest status of the ComputeInstance target\n",
    "instance.get_status()"
   ]
  },
  {
   "cell_type": "code",
   "execution_count": null,
   "metadata": {
    "msdoc": "how-to-auto-train-remote.md",
    "name": "stop",
    "tags": []
   },
   "outputs": [],
   "source": [
    "# stop() is used to stop the ComputeInstance\n",
    "# Stopping ComputeInstance will stop the billing meter and persist the state on the disk.\n",
    "# Available Quota will not be changed with this operation.\n",
    "# instance.stop(wait_for_completion=True, show_output=True)"
   ]
  },
  {
   "cell_type": "code",
   "execution_count": null,
   "metadata": {
    "msdoc": "how-to-auto-train-remote.md",
    "name": "start",
    "tags": []
   },
   "outputs": [],
   "source": [
    "# start() is used to start the ComputeInstance if it is in stopped state\n",
    "# instance.start(wait_for_completion=True, show_output=True)"
   ]
  },
  {
   "cell_type": "code",
   "execution_count": null,
   "metadata": {
    "tags": []
   },
   "outputs": [],
   "source": [
    "# restart() is used to restart the ComputeInstance\n",
    "# instance.restart(wait_for_completion=True, show_output=True)"
   ]
  },
  {
   "cell_type": "code",
   "execution_count": null,
   "metadata": {
    "tags": []
   },
   "outputs": [],
   "source": [
    "# delete() is used to delete the ComputeInstance target. Useful if you want to re-use the compute name\n",
    "instance.delete()"
   ]
  }
 ],
 "metadata": {
  "kernelspec": {
   "display_name": "Python 3.8",
   "language": "python",
   "name": "python3.8"
  },
  "language_info": {
   "codemirror_mode": {
    "name": "ipython",
    "version": 3
   },
   "file_extension": ".py",
   "mimetype": "text/x-python",
   "name": "python",
   "nbconvert_exporter": "python",
   "pygments_lexer": "ipython3",
   "version": "3.8.5-final"
  },
  "tags": [
   "None"
  ],
  "task": "Submit a run on Azure Machine Learning Compute Instance."
 },
 "nbformat": 4,
 "nbformat_minor": 4
}
