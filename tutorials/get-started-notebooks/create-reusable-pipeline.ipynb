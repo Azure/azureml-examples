{
  "cells": [
    {
      "cell_type": "markdown",
      "source": [
        "# Create a re-usable pipeline\r\n",
        "\r\n",
        "## Worksing Outline:\r\n",
        "\r\n",
        "Explains why use pipeline – value props, conceptual understanding. In more advanced MLOps setup, you could just tweak existing pipeline template, but in this tutorial, we will walk you through a simple version of that so you can see what that is like.\r\n",
        "\r\n",
        "## Open a sample notebook\r\n",
        "It would contain main.py (mlflow python file), custom env, etc.\r\n",
        "\r\n",
        "## choose a compute cluster for deployment\r\n",
        "Explains how to choose a cluster for deployment (may use the cluster already created in the previous training tutorial)\r\n",
        "\r\n",
        "## Create a custom environment\r\n",
        "\r\n",
        "## Different ways of creating a pipeline\r\n",
        "- UI (Designer)\r\n",
        "- Component\r\n",
        "\r\n",
        "## Edit the python file to create different steps (data pre-processing & training steps) \r\n",
        "\r\n",
        "## Submit a pipeline job\r\n",
        "\r\n",
        "## Register the model"
      ],
      "metadata": {
        "nteract": {
          "transient": {
            "deleting": false
          }
        }
      }
    }
  ],
  "metadata": {
    "kernelspec": {
      "display_name": "Python 3.10 - SDK v2",
      "language": "python",
      "name": "python310-sdkv2"
    },
    "language_info": {
      "name": "python",
      "version": "3.10.4",
      "mimetype": "text/x-python",
      "codemirror_mode": {
        "name": "ipython",
        "version": 3
      },
      "pygments_lexer": "ipython3",
      "nbconvert_exporter": "python",
      "file_extension": ".py"
    },
    "nteract": {
      "version": "nteract-front-end@1.0.0"
    }
  },
  "nbformat": 4,
  "nbformat_minor": 2
}