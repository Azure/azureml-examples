{
  "cells": [
    {
      "cell_type": "markdown",
      "source": [
        "# Deploy a model on Azure Machine Learning\r\n",
        "\r\n",
        "## Working outline\r\n",
        "\r\n",
        "A paragraph explaining what user can accomplish in this deployment tutorial.\r\n",
        "\r\n",
        "## Configure Auth\r\n",
        "\r\n",
        "## Check if model is registered\r\n",
        "\r\n",
        "## Configure environments\r\n",
        "\r\n",
        "## Import libraries\r\n",
        "\r\n",
        "## Verify environment\r\n",
        "\r\n",
        "## Validate the scoring script\r\n",
        "\r\n",
        "## Deploy the trial run\r\n",
        "\r\n",
        "## Manually send test data\r\n",
        "\r\n",
        "## Get details of the deployment"
      ],
      "metadata": {
        "nteract": {
          "transient": {
            "deleting": false
          }
        }
      }
    }
  ],
  "metadata": {
    "kernelspec": {
      "display_name": "Python 3.10 - SDK v2",
      "language": "python",
      "name": "python310-sdkv2"
    },
    "language_info": {
      "name": "python",
      "version": "3.10.4",
      "mimetype": "text/x-python",
      "codemirror_mode": {
        "name": "ipython",
        "version": 3
      },
      "pygments_lexer": "ipython3",
      "nbconvert_exporter": "python",
      "file_extension": ".py"
    },
    "nteract": {
      "version": "nteract-front-end@1.0.0"
    }
  },
  "nbformat": 4,
  "nbformat_minor": 2
}