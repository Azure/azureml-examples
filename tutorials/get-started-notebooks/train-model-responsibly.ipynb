{
  "cells": [
    {
      "cell_type": "markdown",
      "source": [
        "# Train and refine your model responsibly\r\n",
        "\r\n",
        "## Working outline:\r\n",
        "\r\n",
        "This article covers how to train a model on Azure Machine Learning and beginner tips on what to watch out for making a responsible AI model.\r\n",
        "\r\n",
        "## Open the notebook that has article 4 content\r\n",
        "Notebook file will be provided\r\n",
        "\r\n",
        "## Create a compute cluster for training\r\n",
        "Explains what a compute cluster is and for, and also include a note about quota management.\r\n",
        "\r\n",
        "## Different ways to train your model \r\n",
        "- Custom model from the scratch\r\n",
        "- Use AutoML to get started quickly\r\n",
        "\r\n",
        "You can start creating a custom model, but in this tutorial, we will start with AutoML because it will save you time in the prototyping phase.\r\n",
        "\r\n",
        "## Use AutoML to create a baseline model (SDK)\r\n",
        "Will explain:\r\n",
        "\r\n",
        "- What is an Automated ML, its benefits (stable env, would pass the run, time-saving, etc) and how to use its features. \r\n",
        "- View explanations for AutoML best model in Studio UI: AutoML creates explanations (global and local feature importances) for best model\r\n",
        "- Use this to understand model before moving it forward (build trust/confidence). \r\n",
        "\r\n",
        "## Generate training script for the best model\r\n",
        "Browse AutoML models and see which is the best model based on the optimization metrics (accuracy, explanation, etc). \r\n",
        "\r\n",
        "## Configure the environment (if you want to change the script, you also need to change the env)\r\n",
        "Explaining the envorinment including how to do a custom environment.\r\n",
        "\r\n",
        "## Make custom improvements and submit custom training job\r\n",
        "Explains how to tweak the AutoML model script; also teach users about control script to submit a custom training job.\r\n",
        "\r\n",
        "## Monitor the training script\r\n",
        "\r\n",
        "## Debug the training script\r\n",
        "\r\n",
        "## Evaluate the results against Auto ML model\r\n",
        "Explain different options and walkthrough the UI option\r\n",
        "\r\n",
        "- UI: straightforward (MLflow way)\r\n",
        "- Code\r\n",
        "\r\n",
        "## Further optimize model by performing hyperparameter tuning\r\n",
        "Step-by-step code example of optimizing the model using hyperparameter tuning\r\n",
        "\r\n",
        "## Register model\r\n",
        "Explains the benefits of registrying the model and how.\r\n",
        "\r\n",
        "## Evaluate how responsible is your model\r\n",
        "Once you register, you can go to create a Responsible AI dashboard to assess your ML model before deciding to move forward with it. Three ways to do it:\r\n",
        "\r\n",
        "- Via Studio UI on-demand wizard\r\n",
        "- Via SDKv2 with built-in workspace RAI components\r\n",
        "- Via CLIv2 with built-in workspace RAI components\r\n",
        "\r\n",
        "## Clean up scripts and convert to python files"
      ],
      "metadata": {
        "nteract": {
          "transient": {
            "deleting": false
          }
        }
      }
    }
  ],
  "metadata": {
    "kernelspec": {
      "display_name": "Python 3.10 - SDK v2",
      "language": "python",
      "name": "python310-sdkv2"
    },
    "language_info": {
      "name": "python",
      "version": "3.10.4",
      "mimetype": "text/x-python",
      "codemirror_mode": {
        "name": "ipython",
        "version": 3
      },
      "pygments_lexer": "ipython3",
      "nbconvert_exporter": "python",
      "file_extension": ".py"
    },
    "nteract": {
      "version": "nteract-front-end@1.0.0"
    }
  },
  "nbformat": 4,
  "nbformat_minor": 2
}