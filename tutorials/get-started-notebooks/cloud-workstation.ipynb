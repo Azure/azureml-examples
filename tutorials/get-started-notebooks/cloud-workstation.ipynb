{
 "cells": [
  {
   "cell_type": "markdown",
   "metadata": {
    "nteract": {
     "transient": {
      "deleting": false
     }
    }
   },
   "source": [
    "# Model development on a cloud workstation\r\n",
    "\r\n",
    "This notebook contains just the code cells used in [Tutorial: Model development on a cloud workstation](https://learn.microsoft.com/azure/machine-learning/tutorial-cloud-workstation).  See the article for more details."
   ]
  },
  {
   "cell_type": "code",
   "execution_count": null,
   "metadata": {
    "name": "import",
    "gather": {
     "logged": 1678743642146
    },
    "jupyter": {
     "outputs_hidden": false,
     "source_hidden": false
    },
    "nteract": {
     "transient": {
      "deleting": false
     }
    }
   },
   "outputs": [],
   "source": [
    "import os\n",
    "import argparse\n",
    "import pandas as pd\n",
    "import mlflow\n",
    "import mlflow.sklearn\n",
    "from sklearn.ensemble import GradientBoostingClassifier\n",
    "from sklearn.metrics import classification_report\n",
    "from sklearn.model_selection import train_test_split"
   ]
  },
  {
   "cell_type": "code",
   "execution_count": null,
   "metadata": {
    "name": "load",
    "gather": {
     "logged": 1678743643238
    },
    "jupyter": {
     "outputs_hidden": false,
     "source_hidden": false
    },
    "nteract": {
     "transient": {
      "deleting": false
     }
    }
   },
   "outputs": [],
   "source": [
    "# load the data\n",
    "credit_df = pd.read_csv(\n",
    "    \"https://azuremlexamples.blob.core.windows.net/datasets/credit_card/default_of_credit_card_clients.csv\",\n",
    "    header=1,\n",
    "    index_col=0,\n",
    ")\n",
    "\n",
    "train_df, test_df = train_test_split(\n",
    "    credit_df,\n",
    "    test_size=0.25,\n",
    ")"
   ]
  },
  {
   "cell_type": "code",
   "execution_count": null,
   "metadata": {
    "name": "extract",
    "gather": {
     "logged": 1678743643367
    },
    "jupyter": {
     "outputs_hidden": false,
     "source_hidden": false
    },
    "nteract": {
     "transient": {
      "deleting": false
     }
    }
   },
   "outputs": [],
   "source": [
    "# Extracting the label column\n",
    "y_train = train_df.pop(\"default payment next month\")\n",
    "\n",
    "# convert the dataframe values to array\n",
    "X_train = train_df.values\n",
    "\n",
    "# Extracting the label column\n",
    "y_test = test_df.pop(\"default payment next month\")\n",
    "\n",
    "# convert the dataframe values to array\n",
    "X_test = test_df.values"
   ]
  },
  {
   "cell_type": "code",
   "execution_count": null,
   "metadata": {
    "name": "mlflow",
    "gather": {
     "logged": 1678743647526
    },
    "jupyter": {
     "outputs_hidden": false,
     "source_hidden": false
    },
    "nteract": {
     "transient": {
      "deleting": false
     }
    }
   },
   "outputs": [],
   "source": [
    "# set name for logging\n",
    "mlflow.set_experiment(\"Develop on cloud tutorial\")\n",
    "# enable autologging with MLflow\n",
    "mlflow.sklearn.autolog()"
   ]
  },
  {
   "cell_type": "code",
   "execution_count": null,
   "metadata": {
    "name": "gbt",
    "gather": {
     "logged": 1678743686335
    },
    "jupyter": {
     "outputs_hidden": false,
     "source_hidden": false
    },
    "nteract": {
     "transient": {
      "deleting": false
     }
    }
   },
   "outputs": [],
   "source": [
    "# Train Gradient Boosting Classifier\n",
    "print(f\"Training with data of shape {X_train.shape}\")\n",
    "\n",
    "mlflow.start_run()\n",
    "clf = GradientBoostingClassifier(n_estimators=100, learning_rate=0.1)\n",
    "clf.fit(X_train, y_train)\n",
    "\n",
    "y_pred = clf.predict(X_test)\n",
    "\n",
    "print(classification_report(y_test, y_pred))\n",
    "# Stop logging for this model\n",
    "mlflow.end_run()"
   ]
  },
  {
   "cell_type": "code",
   "execution_count": null,
   "metadata": {
    "name": "ada",
    "gather": {
     "logged": 1678743694416
    },
    "jupyter": {
     "outputs_hidden": false,
     "source_hidden": false
    },
    "nteract": {
     "transient": {
      "deleting": false
     }
    }
   },
   "outputs": [],
   "source": [
    "# Train  AdaBoost Classifier\n",
    "from sklearn.ensemble import AdaBoostClassifier\n",
    "\n",
    "print(f\"Training with data of shape {X_train.shape}\")\n",
    "\n",
    "mlflow.start_run()\n",
    "ada = AdaBoostClassifier()\n",
    "\n",
    "ada.fit(X_train, y_train)\n",
    "\n",
    "y_pred = ada.predict(X_test)\n",
    "\n",
    "print(classification_report(y_test, y_pred))\n",
    "# Stop logging for this model\n",
    "mlflow.end_run()"
   ]
  }
 ],
 "metadata": {
  "description": {
   "description": "Notebook cells that accompany the Develop on cloud tutorial."
  },
  "kernel_info": {
   "name": "python310-sdkv2"
  },
  "kernelspec": {
   "display_name": "Python 3.10 - SDK v2",
   "language": "python",
   "name": "python310-sdkv2"
  },
  "language_info": {
   "codemirror_mode": {
    "name": "ipython",
    "version": 3
   },
   "file_extension": ".py",
   "mimetype": "text/x-python",
   "name": "python",
   "nbconvert_exporter": "python",
   "pygments_lexer": "ipython3",
   "version": "3.10.9"
  },
  "microsoft": {
   "ms_spell_check": {
    "ms_spell_check_language": "en"
   }
  },
  "nteract": {
   "version": "nteract-front-end@1.0.0"
  }
 },
 "nbformat": 4,
 "nbformat_minor": 2
}
