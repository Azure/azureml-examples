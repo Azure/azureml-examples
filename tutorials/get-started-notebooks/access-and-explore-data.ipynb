{
  "cells": [
    {
      "cell_type": "markdown",
      "source": [
        "# Tutorial: Upload, access and explore your data in Azure Machine Learning\r\n",
        "\r\n",
        "[!INCLUDE [sdk v2](../../includes/machine-learning-sdk-v2.md)]\r\n",
        "\r\n",
        "In this tutorial you'll learn how to:\r\n",
        "\r\n",
        "> [!div class=\"checklist\"]\r\n",
        ">\r\n",
        "> * Upload your data to cloud storage\r\n",
        "> * Create an Azure ML data asset\r\n",
        "> * Access your data in a notebook for interactive development\r\n",
        "> * Create new versions of data assets\r\n",
        "\r\n",
        "## Prerequisites\r\n",
        "\r\n",
        "**_Note: Update the link when Sheri is done with the pre-req docs_**\r\n",
        "\r\n",
        "* Complete the [Quickstart: Get started with Azure Machine Learning](quickstart-create-resources.md) to:\r\n",
        "  * Create a workspace.\r\n",
        "  * Create a cloud-based compute instance to use for your development environment.\r\n",
        "\r\n",
        "### Download the data used in this tutorial\r\n",
        "\r\n",
        "**_Note: include a link that explains what data formats are supported in Azure ML. The code snippet needs to be validated, if not working, we will remove_**\r\n",
        "\r\n",
        "This tutorial will use [this](https://azuremlexamples.blob.core.windows.net/datasets/credit_card/default_of_credit_card_clients.csv) CSV-format credit card client data sample. We'll upload the file in this tutorial, so download and save the file in a convenient location (laptop, personal workstation, etc.) where you can easily find it. You can also download the data using your terminal:"
      ],
      "metadata": {
        "nteract": {
          "transient": {
            "deleting": false
          }
        }
      }
    },
    {
      "cell_type": "code",
      "source": [
        "cd <location> # cd to the location you would like to store the data\r\n",
        "wget https://azuremlexamples.blob.core.windows.net/datasets/credit_card/default_of_credit_card_clients.csv"
      ],
      "outputs": [],
      "execution_count": null,
      "metadata": {
        "jupyter": {
          "source_hidden": false,
          "outputs_hidden": false
        },
        "nteract": {
          "transient": {
            "deleting": false
          }
        },
        "gather": {
          "logged": 1673994635935
        }
      }
    },
    {
      "cell_type": "markdown",
      "source": [
        "[Learn more about this data on the UCI Machine Learning Repository.](https://archive.ics.uci.edu/ml/datasets/default+of+credit+card+clients)\r\n",
        "\r\n",
        "## Upload data to cloud storage\r\n",
        "\r\n",
        "**20230123 - addressed here, through / including the !TIP: _break out as a separate tip for azcopy; refine the explanation of data asset so that new user doesn't have to google up; avoid using 'create data asset' because it could be seen as CTA; 'learn more about data assets here'_**\r\n",
        "\r\n",
        "Azure ML uses Uniform Resource Identifiers (URIs), which point to storage locations in the cloud. A URI makes it easy to access data in notebooks and jobs. Data URI formats look similar to the web URL's that you use in your web browser to access web pages. For example:\r\n",
        "\r\n",
        "* Access data from public https server: `https://<account_name>.blob.core.windows.net/<container_name>/<folder>/<file>`\r\n",
        "* Access data from Azure Data Lake Gen 2: `abfss://<file_system>@<account_name>.dfs.core.windows.net/<folder>/<file>`\r\n",
        "\r\n",
        "An Azure ML data asset is similar to web browser bookmarks (favorites). Instead of remembering long storage paths (URIs) that point to your most frequently used data, you can create a data asset, and then access that asset with a friendly name.\r\n",
        "\r\n",
        "Data asset creation also creates a *reference* to the data source location, along with a copy of its metadata. Because the data remains in its existing location, you incur no extra storage cost, and don't risk data source integrity. You can create Data assets from Azure ML datastores, Azure Storage, public URLs, and local files.\r\n",
        "\r\n",
        "Read [Create data assets](how-to-create-data-assets.md) for more information about data assets.\r\n",
        "\r\n",
        "> [!TIP]\r\n",
        "> For smaller-size data uploads, Azure ML data asset creation works well for data uploads from local machine resources to cloud storage. This approach avoids the need for extra tools or utilities. However, a larger-size data upload might require a dedicated tool or utility - for example, **azcopy**. The azcopy command-line tool moves data to and from Azure Storage. Learn more about azcopy [here](https://learn.microsoft.com/en-us/azure/storage/common/storage-ref-azcopy.md) and [here](https://learn.microsoft.com/en-us/azure/storage/common/storage-use-azcopy-v10).\r\n",
        "\r\n",
        "> -----------------------------\r\n",
        "\r\n",
        "## **Notes for later deletion in this \"block\"**\r\n",
        "\r\n",
        "**The formatting / text structure of these list items might need restructuring, but they cover ideas discussed in the 20221222 SO / SG / SK / FBS meeting**\r\n",
        "\r\n",
        "> -----------------------------\r\n",
        "\r\n",
        "**_Note: After the download data step, the script should automatically copy the original source data into the user's local device drive_**\r\n",
        "\r\n",
        "**Covered 20230123: _Note: break down the code snippets so we can explain each block_**\r\n",
        "\r\n",
        "This notebook cell will configure the MLClient object for those Azure ML resources. Replace the strings between the **\"<\"** and **\">\"** characters with values specific to your Azure ML resources."
      ],
      "metadata": {
        "nteract": {
          "transient": {
            "deleting": false
          }
        }
      }
    },
    {
      "cell_type": "code",
      "source": [
        "from azure.ai.ml import MLClient\r\n",
        "from azure.ai.ml.entities import Data\r\n",
        "from azure.ai.ml.constants import AssetTypes\r\n",
        "from azure.identity import DefaultAzureCredential\r\n",
        "\r\n",
        "# authenticate\r\n",
        "credential = DefaultAzureCredential()\r\n",
        "\r\n",
        "# Get a handle to the workspace\r\n",
        "ml_client = MLClient(\r\n",
        "    credential=credential,\r\n",
        "    subscription_id=\"<SUBSCRIPTION_ID>\",\r\n",
        "    resource_group_name=\"<RESOURCE_GROUP>\",\r\n",
        "    workspace_name=\"<AML_WORKSPACE_NAME>\",\r\n",
        ")"
      ],
      "outputs": [],
      "execution_count": null,
      "metadata": {
        "jupyter": {
          "source_hidden": false,
          "outputs_hidden": false
        },
        "nteract": {
          "transient": {
            "deleting": false
          }
        },
        "gather": {
          "logged": 1673997033129
        }
      }
    },
    {
      "cell_type": "markdown",
      "source": [
        "**_Note: rework the paragraph explaining what user is doing here after breaking down code snippets_**\r\n",
        "\r\n",
        "The next notebook cell creates the data asset. Here, the code sample will upload the raw data file to the designated cloud storage resource. This upload operation requires unique **version** and **name** properties in the **my_data** block. Otherwise, the cell will fail. To run this cell code more than once with the same **name** value, change the **version** value each time you run the code. As another workaround, you can also comment out the **version** value. This approach will create new data asset each time the cell runs, and it will auto-increment the version numbers of those versions, starting from 1:\r\n"
      ],
      "metadata": {
        "nteract": {
          "transient": {
            "deleting": false
          }
        }
      }
    },
    {
      "cell_type": "code",
      "source": [
        "# update <path> to be the location of where you downloaded the data on your\r\n",
        "# local filesystem\r\n",
        "\r\n",
        "# NOTE: we could call out if user should update the path accordingly\r\n",
        "my_path = <path>/default_of_credit_card_clients.csv'\r\n",
        "\r\n",
        "# define the data asset\r\n",
        "\r\n",
        "# The version value is optional in this statement. Without it, this code\r\n",
        "# can re-execute this cell with the given name and version values.\r\n",
        "# In this case, AutoML will create new data assets each time the cell\r\n",
        "# executes, and it will auto-increment the version number of those\r\n",
        "# data assets, starting from 1.\r\n",
        "\r\n",
        "my_data = Data(\r\n",
        "    name=\"credit-card\",\r\n",
        "    version=\"1\",\r\n",
        "    description=\"Credit card data\",\r\n",
        "    path=my_path,\r\n",
        "    type=AssetTypes.URI_FILE,\r\n",
        ")\r\n",
        "\r\n",
        "# create data asset\r\n",
        "ml_client.data.create_or_update(my_data)"
      ],
      "outputs": [],
      "execution_count": null,
      "metadata": {
        "jupyter": {
          "source_hidden": false,
          "outputs_hidden": false
        },
        "nteract": {
          "transient": {
            "deleting": false
          }
        }
      }
    },
    {
      "cell_type": "markdown",
      "source": [
        "**_Note: include a screenshot of Notebook after the data asset is generated. Sanghee will double check if this is important to include or not. Explain where the data is stored (default blobstore that came with Azure subscription), and explain what datastore is_**\r\n",
        "\r\n",
        "You'll notice that the data has been uploaded to the default Azure ML _Datastore_. An Azure Machine Learning datastore is a _reference_ to an _existing_ storage account on Azure. A datastore offers these benefits:\r\n",
        "\r\n",
        "1. A common and easy-to-use API, to interact with different storage types (Blob/Files/ADLS) and authentication methods.\r\n",
        "1. An easier way to discover useful datastores, when working as a team.\r\n",
        "1. In your scripts, a way to hide connection information for credential-based data access (service principal/SAS/key).\r\n",
        "\r\n",
        "**Covered 20230123: _Note: we will embed the link to the datastore doc, but we don't call out to ask if you want to create extra datastores as we don't want them to do that on day 1_**\r\n",
        "\r\n",
        "Read [Create datastores](how-to-datastore.md) to learn more about datastores. ~~how about how to create extra Azure ML datastores.~~\r\n",
        "\r\n",
        "## Accessing your data in a notebook\r\n",
        "\r\n",
        "The start of a machine learning project typically involves exploratory data analysis (EDA), data-preprocessing (cleaning, feature engineering), and the building of ML model prototypes to validate hypotheses. This _prototyping_ project phase is highly interactive. It lends itself to development in an IDE or a Jupyter notebook, with a _Python interactive console_.\r\n",
        "\r\n",
        "Pandas directly support URIs - this example shows how to read a CSV file from an Azure ML Datastore:\r\n"
      ],
      "metadata": {
        "nteract": {
          "transient": {
            "deleting": false
          }
        }
      }
    },
    {
      "cell_type": "code",
      "source": [
        "import pandas as pd\r\n",
        "\r\n",
        "df = pd.read_csv(\"azureml://subscriptions/<subid>/resourcegroups/<rgname>/workspaces/<workspace_name>/datastores/<datastore_name>/paths/<folder>/<filename>.csv\")\r\n",
        "df.head()"
      ],
      "outputs": [],
      "execution_count": null,
      "metadata": {
        "jupyter": {
          "source_hidden": false,
          "outputs_hidden": false
        },
        "nteract": {
          "transient": {
            "deleting": false
          }
        }
      }
    },
    {
      "cell_type": "markdown",
      "source": [
        "However, as mentioned previously, it can become hard to remember these URIs. You'll want to create data assets for frequently accessed data. This Python code shows how to access the CSV file in Pandas:\r\n",
        "\r\n",
        "**Covered 20230124: _Note: Frank to update the below note_**\r\n",
        "> [!IMPORTANT]\r\n",
        "> In a notebook cell, execute this code to install the `azureml-fsspec` Python library in your Jupyter kernel:\r\n",
        "~~> In a notebook cell, Ensure the `azureml-fsspec` Python library is installed in your Jupyter kernel by executing the following in a notebook cell:~~"
      ],
      "metadata": {
        "nteract": {
          "transient": {
            "deleting": false
          }
        }
      }
    },
    {
      "cell_type": "code",
      "source": [
        "%pip install -U azureml-fsspec"
      ],
      "outputs": [],
      "execution_count": null,
      "metadata": {
        "jupyter": {
          "source_hidden": false,
          "outputs_hidden": false
        },
        "nteract": {
          "transient": {
            "deleting": false
          }
        }
      }
    },
    {
      "cell_type": "code",
      "source": [
        "import pandas as pd\r\n",
        "from azure.ai.ml import MLClient\r\n",
        "from azure.identity import DefaultAzureCredential\r\n",
        "\r\n",
        "# get a handle for your AzureML workspace\r\n",
        "credential = DefaultAzureCredential()\r\n",
        "ml_client = MLClient.from_config(credential=credential)\r\n",
        "\r\n",
        "# get a handle of the data asset and print the URI\r\n",
        "data_asset = ml_client.data.get(name=\"credit-card\", version=\"1\")\r\n",
        "print(f'Data asset URI: {data_asset.path}')\r\n",
        "\r\n",
        "# read into pandas - note that you will see 2 headers in your data frame - that is ok, for now\r\n",
        "\r\n",
        "df = pd.read_csv(data_asset.path)\r\n",
        "df.head()"
      ],
      "outputs": [],
      "execution_count": null,
      "metadata": {
        "jupyter": {
          "source_hidden": false,
          "outputs_hidden": false
        },
        "nteract": {
          "transient": {
            "deleting": false
          }
        }
      }
    },
    {
      "cell_type": "markdown",
      "source": [
        "Read [Access data from Azure cloud storage during interactive development](how-to-access-data-interactive.md) to learn more about data access in a notebook.\r\n",
        "\r\n",
        "## Create a new version of the data asset\r\n",
        "\r\n",
        "You might have noticed that the data needs a little light cleaning, to make it fit to train a machine learning model. It has:\r\n",
        "\r\n",
        "* two headers\r\n",
        "* a client ID column; we would not use this feature in Machine Learning\r\n",
        "* spaces in the response variable name\r\n",
        "\r\n",
        "Also, compared to the CSV format, the Parquet file format becomes a better way to store this data. Parquet offers compression, and it maintains schema. Therefore, to clean the data and store it in Parquet, use:"
      ],
      "metadata": {
        "nteract": {
          "transient": {
            "deleting": false
          }
        }
      }
    },
    {
      "cell_type": "code",
      "source": [
        "# read in data again, this time using the 2nd row as the header\r\n",
        "df = pd.read_csv(data_asset.path, header=1)\r\n",
        "# rename column\r\n",
        "df.rename(columns={'default payment next month': 'default'}, inplace=True)\r\n",
        "# remove ID column\r\n",
        "df.drop('ID', axis=1, inplace=True)\r\n",
        "\r\n",
        "# write file to filesystem\r\n",
        "df.to_parquet('./cleaned-credit-card.parquet')"
      ],
      "outputs": [],
      "execution_count": null,
      "metadata": {
        "jupyter": {
          "source_hidden": false,
          "outputs_hidden": false
        },
        "nteract": {
          "transient": {
            "deleting": false
          }
        }
      }
    },
    {
      "cell_type": "markdown",
      "source": [
        "## Data dictionary\r\n",
        "\r\n",
        "The uploaded data contains 23 explanatory variables and 1 response variable, as mapped in the Table below:\r\n",
        "\r\n",
        "|Column Name(s) | Variable Type  |Description  |\r\n",
        "|---------|---------|---------|\r\n",
        "|X1     |   Explanatory      |    Amount of the given credit (NT dollar): it includes both the individual consumer credit and their family (supplementary) credit.    |\r\n",
        "|X2     |   Explanatory      |   Gender (1 = male; 2 = female).      |\r\n",
        "|X3     |   Explanatory      |   Education (1 = graduate school; 2 = university; 3 = high school; 4 = others).      |\r\n",
        "|X4     |   Explanatory      |    Marital status (1 = married; 2 = single; 3 = others).     |\r\n",
        "|X5     |   Explanatory      |    Age (years).     |\r\n",
        "|X6-X11     | Explanatory        |  History of past payment. We tracked the past monthly payment records (from April to September  2005). -1 = pay duly; 1 = payment delay for one month; 2 = payment delay for two months; . . .; 8 = payment delay for eight months; 9 = payment delay for nine months and above.      |\r\n",
        "|X12-17     | Explanatory        |  Amount of bill statement (NT dollar) from April to September  2005.      |\r\n",
        "|X18-23     | Explanatory        |  Amount of previous payment (NT dollar) from April to September  2005.      |\r\n",
        "|Y     | Response        |    Default payment (Yes = 1, No = 0)     |\r\n",
        "\r\n",
        "Next, create a new _version_ of the data asset (the data will automatically upload to cloud storage):\r\n",
        "\r\n",
        "> [!NOTE]\r\n",
        ">\r\n",
        "> * This Python code cell sets **name** and **version** values for the data asset it creates. As a result, the code in this cell will fail if executed more than once, without a change to these values. Fixed **name** and **version** values offer a way to pass values that work for specific situations, without concern for auto-generated or randomly-generated values.\r\n"
      ],
      "metadata": {
        "nteract": {
          "transient": {
            "deleting": false
          }
        }
      }
    },
    {
      "cell_type": "code",
      "source": [
        "# Next, create a new *version* of the data asset (the data is automatically uploaded to cloud storage):\r\n",
        "\r\n",
        "from azure.ai.ml.entities import Data\r\n",
        "from azure.ai.ml.constants import AssetTypes\r\n",
        "\r\n",
        "my_path = './cleaned-credit-card.parquet'\r\n",
        "\r\n",
        "# Define the data asset, and use tags to make it clear the asset can be used in training\r\n",
        "\r\n",
        "# Note: we will brainstorm what's the best way to do the comment below\r\n",
        "\r\n",
        "# The version value is optional in this statement. Without it, this code\r\n",
        "# can re-execute this cell with the given name and version values.\r\n",
        "# In this case, AutoML will create new data assets each time the cell\r\n",
        "# executes, and it will auto-increment the version number of those\r\n",
        "# data assets, starting from 1.\r\n",
        "\r\n",
        "my_data = Data(\r\n",
        "    name=\"credit-card\",\r\n",
        "    version=\"1\",\r\n",
        "    description=\"Default of credit card clients data.\",\r\n",
        "    tags={\r\n",
        "        \"training_data\": \"true\",\r\n",
        "        \"format\": \"parquet\"\r\n",
        "    },\r\n",
        "    path=my_path,\r\n",
        "    type=AssetTypes.URI_FILE\r\n",
        ")\r\n",
        "\r\n",
        "## create the data asset\r\n",
        "\r\n",
        "ml_client.data.create_or_update(my_data)"
      ],
      "outputs": [],
      "execution_count": null,
      "metadata": {
        "jupyter": {
          "source_hidden": false,
          "outputs_hidden": false
        },
        "nteract": {
          "transient": {
            "deleting": false
          }
        }
      }
    },
    {
      "cell_type": "markdown",
      "source": [
        "**_Note: rework the following paragraph to something that makes sense in this context. We will want to run the final code snippet and check if user has two versions to compare at this point, or they need to do something else._**\r\n",
        "\r\n",
        "**20230124: _If we had a way to somehow distinguish between the V1 / V2 result sets in the output this cell produces, it might help drive the paragraph content, and the users might see the ideas more clearly_**\r\n",
        "\r\n",
        "The cleaned parquet file is the latest version data source. If you use the **Version** drop-down to select the previous version, you'll notice that it points to the original CSV file. This versioning makes it easy to see the differences in the data. You can access the different versions with this code:"
      ],
      "metadata": {
        "nteract": {
          "transient": {
            "deleting": false
          }
        }
      }
    },
    {
      "cell_type": "code",
      "source": [
        "import pandas as pd\r\n",
        "from azure.ai.ml import MLClient\r\n",
        "from azure.identity import DefaultAzureCredential\r\n",
        "\r\n",
        "# get a handle for your AzureML workspace\r\n",
        "credential = DefaultAzureCredential()\r\n",
        "ml_client = MLClient.from_config(credential=credential)\r\n",
        "\r\n",
        "# get a handle of the data asset and print the URI\r\n",
        "data_asset_v1 = ml_client.data.get(name=\"credit-card\", version=\"1\")\r\n",
        "data_asset_v2 = ml_client.data.get(name=\"credit-card\", version=\"2\")\r\n",
        "print(f'V1 Data asset URI: {data_asset_v1.path}')\r\n",
        "print(f'V2 Data asset URI: {data_asset_v2.path}')\r\n",
        "\r\n",
        "v1df = pd.read_csv(data_asset_v1.path)\r\n",
        "print(v1df.head(5))\r\n",
        "\r\n",
        "v2df = pd.read_parquet(data_asset_v2.path)\r\n",
        "print(v2df.head(5))"
      ],
      "outputs": [],
      "execution_count": null,
      "metadata": {
        "jupyter": {
          "source_hidden": false,
          "outputs_hidden": false
        },
        "nteract": {
          "transient": {
            "deleting": false
          }
        }
      }
    },
    {
      "cell_type": "markdown",
      "source": [
        "## Next steps\r\n",
        "\r\n",
        "Now, you can train a model."
      ],
      "metadata": {
        "nteract": {
          "transient": {
            "deleting": false
          }
        }
      }
    },
    {
      "cell_type": "markdown",
      "source": [
        "## Next steps\r\n",
        "\r\n",
        "Now, you can train a model."
      ],
      "metadata": {
        "nteract": {
          "transient": {
            "deleting": false
          }
        }
      }
    }
  ],
  "metadata": {
    "kernelspec": {
      "name": "python310-sdkv2",
      "language": "python",
      "display_name": "Python 3.10 - SDK V2"
    },
    "language_info": {
      "name": "python",
      "version": "3.10.6",
      "mimetype": "text/x-python",
      "codemirror_mode": {
        "name": "ipython",
        "version": 3
      },
      "pygments_lexer": "ipython3",
      "nbconvert_exporter": "python",
      "file_extension": ".py"
    },
    "kernel_info": {
      "name": "python310-sdkv2"
    },
    "nteract": {
      "version": "nteract-front-end@1.0.0"
    },
    "microsoft": {
      "host": {
        "AzureML": {
          "notebookHasBeenCompleted": true
        }
      }
    }
  },
  "nbformat": 4,
  "nbformat_minor": 2
}