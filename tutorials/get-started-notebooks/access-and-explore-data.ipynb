{
  "cells": [
    {
      "cell_type": "markdown",
      "source": [
        "# Access and explore your data\r\n",
        "\r\n",
        "## Working Outline:\r\n",
        "\r\n",
        "A paragraph of this article's goal: how to bring and prepare your own data for training on Azure Machine Learning.\r\n",
        "\r\n",
        "## (optional) git clone the notebook sample that covers this article content \r\n",
        "A sample notebook is provided for users who prefer working directly from a notebook\r\n",
        "\r\n",
        "## Different ways of loading data in the Notebook\r\n",
        "\r\n",
        "**Local to Cloud (if you want to move your data to Azure)**\r\n",
        "- Acquire a data set\r\n",
        "- Upload the data to Azure (via blob storage) \r\n",
        "- Register the data (only if you want to share the data asset on Azure ML)\r\n",
        "\r\n",
        "**Load from an existing cloud storage**\r\n",
        "- pip install pandas azureml-fsspec\r\n",
        "- Import pandas as pd - pd.read_csv(\"azureml://\")\r\n",
        "- (Optional) interactive browser login\r\n",
        "\r\n",
        "## Browse the data (preview the data?)\r\n",
        "How to browse/preview the data on Azure Machine Learning\r\n",
        "\r\n",
        "## Access the data in a Notebook\r\n",
        "\r\n",
        "## Process the data\r\n",
        "Example script of processing the data \r\n",
        "\r\n",
        "## Get data out (ex. to train a model)/have a storage location\r\n",
        "Data is ready!"
      ],
      "metadata": {
        "nteract": {
          "transient": {
            "deleting": false
          }
        }
      }
    },
    {
      "cell_type": "code",
      "source": [],
      "outputs": [],
      "execution_count": null,
      "metadata": {
        "jupyter": {
          "source_hidden": false,
          "outputs_hidden": false
        },
        "nteract": {
          "transient": {
            "deleting": false
          }
        }
      }
    }
  ],
  "metadata": {
    "kernelspec": {
      "name": "python310-sdkv2",
      "language": "python",
      "display_name": "Python 3.10 - SDK V2"
    },
    "language_info": {
      "name": "python",
      "version": "3.10.4",
      "mimetype": "text/x-python",
      "codemirror_mode": {
        "name": "ipython",
        "version": 3
      },
      "pygments_lexer": "ipython3",
      "nbconvert_exporter": "python",
      "file_extension": ".py"
    },
    "kernel_info": {
      "name": "python310-sdkv2"
    },
    "nteract": {
      "version": "nteract-front-end@1.0.0"
    }
  },
  "nbformat": 4,
  "nbformat_minor": 2
}
