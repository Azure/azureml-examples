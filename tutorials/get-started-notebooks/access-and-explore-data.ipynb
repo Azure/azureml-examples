{
  "cells": [
    {
      "cell_type": "markdown",
      "source": [
        "# Access and explore your data"
      ],
      "metadata": {
        "nteract": {
          "transient": {
            "deleting": false
          }
        }
      }
    },
    {
      "cell_type": "markdown",
      "source": [
        "## Working Outline:\r\n",
        "\r\n",
        "A paragraph of this article's goal: how to bring and prepare your own data for training on Azure Machine Learning."
      ],
      "metadata": {
        "nteract": {
          "transient": {
            "deleting": false
          }
        }
      }
    },
    {
      "cell_type": "markdown",
      "source": [
        "## (optional) git clone the notebook sample that covers this article content \r\n",
        "A sample notebook is provided for users who prefer working directly from a notebook"
      ],
      "metadata": {
        "nteract": {
          "transient": {
            "deleting": false
          }
        }
      }
    },
    {
      "cell_type": "markdown",
      "source": [
        "## Different ways of loading data in the Notebook\r\n",
        "\r\n",
        "**Local to Cloud (if you want to move your data to Azure)**\r\n",
        "- Acquire a data set\r\n",
        "- Upload the data to Azure (via blob storage) \r\n",
        "- Register the data (only if you want to share the data asset on Azure ML)\r\n",
        "\r\n",
        "**Load from an existing cloud storage**\r\n",
        "- pip install pandas azureml-fsspec\r\n",
        "- Import pandas as pd - pd.read_csv(\"azureml://\")\r\n",
        "- (Optional) interactive browser login"
      ],
      "metadata": {
        "nteract": {
          "transient": {
            "deleting": false
          }
        }
      }
    },
    {
      "cell_type": "markdown",
      "source": [
        "## Browse the data (preview the data?)\r\n",
        "How to browse/preview the data on Azure Machine Learning"
      ],
      "metadata": {
        "nteract": {
          "transient": {
            "deleting": false
          }
        }
      }
    },
    {
      "cell_type": "markdown",
      "source": [
        "## Access the data in a Notebook\r\n",
        "\r\n",
        "Relevant text"
      ],
      "metadata": {
        "nteract": {
          "transient": {
            "deleting": false
          }
        }
      }
    },
    {
      "cell_type": "markdown",
      "source": [
        "## Upload data to cloud storage"
      ],
      "metadata": {
        "nteract": {
          "transient": {
            "deleting": false
          }
        }
      }
    },
    {
      "cell_type": "code",
      "source": [
        "#   Install the **azureml-fsspec Python library** in the Jupyter kernel\r\n",
        "\r\n",
        "%pip install -U azureml-fsspec"
      ],
      "outputs": [],
      "execution_count": null,
      "metadata": {
        "jupyter": {
          "source_hidden": false,
          "outputs_hidden": false
        },
        "nteract": {
          "transient": {
            "deleting": false
          }
        }
      }
    },
    {
      "cell_type": "code",
      "source": [
        "# Import the pandas library\r\n",
        "\r\n",
        "import pandas as pd\r\n",
        "from azure.ai.ml import MLClient\r\n",
        "from azure.identity import DefaultAzureCredential"
      ],
      "outputs": [],
      "execution_count": null,
      "metadata": {
        "jupyter": {
          "source_hidden": false,
          "outputs_hidden": false
        },
        "nteract": {
          "transient": {
            "deleting": false
          }
        }
      }
    },
    {
      "cell_type": "code",
      "source": [
        "#   Get a handle for the AzureML workspace\r\n",
        "\r\n",
        "credential = DefaultAzureCredential()\r\n",
        "\r\n",
        "# Handle to the workspace\r\n",
        "from azure.ai.ml import MLClient\r\n",
        "\r\n",
        "# Authentication package\r\n",
        "from azure.identity import DefaultAzureCredential\r\n",
        "\r\n",
        "credential = DefaultAzureCredential()\r\n",
        "\r\n",
        "# Get a handle to the workspace, and\r\n",
        "# customize based on user metadata\r\n",
        "\r\n",
        "## Get a handle to the workspace\r\n",
        "#  ml_client = MLClient(\r\n",
        "#      credential=credential,\r\n",
        "#      subscription_id=\"<SUBSCRIPTION_ID>\",\r\n",
        "#      resource_group_name=\"<RESOURCE_GROUP>\",\r\n",
        "#      workspace_name=\"<AML_WORKSPACE_NAME>\",\r\n",
        "#  )\r\n",
        "\r\n",
        "ml_client = MLClient(\r\n",
        "    credential=credential,\r\n",
        "    subscription_id=\"65a1016d-0f67-45d2-b838-b8f373d6d52e\",\r\n",
        "    resource_group_name=\"fbs-rg\",\r\n",
        "    workspace_name=\"FBS-Workspace\",\r\n",
        ")"
      ],
      "outputs": [],
      "execution_count": null,
      "metadata": {
        "jupyter": {
          "source_hidden": false,
          "outputs_hidden": false
        },
        "nteract": {
          "transient": {
            "deleting": false
          }
        }
      }
    },
    {
      "cell_type": "code",
      "source": [
        "# get a handle of the data asset and print the URI\r\n",
        "\r\n",
        "data_asset = ml_client.data.get(name=\"credit-card\", version=\"1\")\r\n",
        "print(f'Data asset URI: {data_asset.path}')"
      ],
      "outputs": [],
      "execution_count": null,
      "metadata": {
        "jupyter": {
          "source_hidden": false,
          "outputs_hidden": false
        },
        "nteract": {
          "transient": {
            "deleting": false
          }
        }
      }
    },
    {
      "cell_type": "code",
      "source": [
        "# read into pandas - note you will see 2 headers in your data frame - that is ok, for now\r\n",
        "\r\n",
        "df = pd.read_csv(data_asset.path)\r\n",
        "df.head()"
      ],
      "outputs": [],
      "execution_count": null,
      "metadata": {
        "jupyter": {
          "source_hidden": false,
          "outputs_hidden": false
        },
        "nteract": {
          "transient": {
            "deleting": false
          }
        }
      }
    },
    {
      "cell_type": "code",
      "source": [
        "## Process the data\r\n",
        "Example script of processing the data "
      ],
      "outputs": [],
      "execution_count": null,
      "metadata": {
        "jupyter": {
          "source_hidden": false,
          "outputs_hidden": false
        },
        "nteract": {
          "transient": {
            "deleting": false
          }
        }
      }
    },
    {
      "cell_type": "markdown",
      "source": [
        "## Get data out (ex. to train a model)/have a storage location\r\n",
        "Data is ready!"
      ],
      "metadata": {
        "nteract": {
          "transient": {
            "deleting": false
          }
        }
      }
    }
  ],
  "metadata": {
    "kernel_info": {
      "name": "python310-sdkv2"
    },
    "kernelspec": {
      "name": "python310-sdkv2",
      "language": "python",
      "display_name": "Python 3.10 - SDK V2"
    },
    "language_info": {
      "name": "python",
      "version": "3.10.4",
      "mimetype": "text/x-python",
      "codemirror_mode": {
        "name": "ipython",
        "version": 3
      },
      "pygments_lexer": "ipython3",
      "nbconvert_exporter": "python",
      "file_extension": ".py"
    },
    "nteract": {
      "version": "nteract-front-end@1.0.0"
    },
    "microsoft": {
      "host": {
        "AzureML": {
          "notebookHasBeenCompleted": true
        }
      }
    }
  },
  "nbformat": 4,
  "nbformat_minor": 2
}