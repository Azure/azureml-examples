{
  "cells": [
    {
      "cell_type": "markdown",
      "metadata": {
        "nteract": {
          "transient": {
            "deleting": false
          }
        }
      },
      "source": [
        "# Tutorial: Upload, access and explore your data in Azure Machine Learning\n",
        "\n",
        "[!INCLUDE [sdk v2](../../includes/machine-learning-sdk-v2.md)]\n",
        "\n",
        "In this tutorial you'll learn how to:\n",
        "\n",
        "> [!div class=\"checklist\"]\n",
        ">\n",
        "> * Upload your data to cloud storage\n",
        "> * Create an Azure ML data asset\n",
        "> * Access your data in a notebook for interactive development\n",
        "> * Create new versions of data assets\n",
        "\n",
        "## Prerequisites\n",
        "\n",
        "**_Note: Update the link when Sheri is done with the pre-req docs_**\n",
        "\n",
        "* Complete the [Quickstart: Get started with Azure Machine Learning](quickstart-create-resources.md) to:\n",
        "  * Create a workspace.\n",
        "  * Create a cloud-based compute instance to use for your development environment.\n",
        "\n",
        "### Download the data used in this tutorial\n",
        "\n",
        "**_Note: include a link that explains what data formats are supported in Azure ML. The code snippet needs to be validated, if not working, we will remove_**\n",
        "\n",
        "This tutorial will use [this](https://azuremlexamples.blob.core.windows.net/datasets/credit_card/default_of_credit_card_clients.csv) CSV-format credit card client data sample. We'll upload the file in this tutorial, so download and save the file in a convenient location (laptop, personal workstation, etc.) where you can easily find it. You can also download the data using your terminal:"
      ]
    },
    {
      "cell_type": "markdown",
      "metadata": {},
      "source": []
    },
    {
      "cell_type": "code",
      "execution_count": null,
      "metadata": {
        "gather": {
          "logged": 1673994635935
        },
        "jupyter": {
          "outputs_hidden": false,
          "source_hidden": false
        },
        "nteract": {
          "transient": {
            "deleting": false
          }
        }
      },
      "outputs": [],
      "source": [
        "cd <location> # cd to the location you would like to store the data\n",
        "wget https://azuremlexamples.blob.core.windows.net/datasets/credit_card/default_of_credit_card_clients.csv"
      ]
    },
    {
      "cell_type": "markdown",
      "metadata": {
        "nteract": {
          "transient": {
            "deleting": false
          }
        }
      },
      "source": [
        "[Learn more about this data on the UCI Machine Learning Repository.](https://archive.ics.uci.edu/ml/datasets/default+of+credit+card+clients)\n",
        "\n",
        "## Upload data to cloud storage\n",
        "\n",
        "**20230123 - addressed here, through / including the !TIP: _break out as a separate tip for azcopy; refine the explanation of data asset so that new user doesn't have to google up; avoid using 'create data asset' because it could be seen as CTA; 'learn more about data assets here'_**\n",
        "\n",
        "Azure ML uses Uniform Resource Identifiers (URIs), which point to storage locations in the cloud. A URI makes it easy to access data in notebooks and jobs. Data URI formats look similar to the web URL's that you use in your web browser to access web pages. For example:\n",
        "\n",
        "* Access data from public https server: `https://<account_name>.blob.core.windows.net/<container_name>/<folder>/<file>`\n",
        "* Access data from Azure Data Lake Gen 2: `abfss://<file_system>@<account_name>.dfs.core.windows.net/<folder>/<file>`\n",
        "\n",
        "An Azure ML data asset is similar to web browser bookmarks (favorites). Instead of remembering long storage paths (URIs) that point to your most frequently used data, you can create a data asset, and then access that asset with a friendly name.\n",
        "\n",
        "Data asset creation also creates a *reference* to the data source location, along with a copy of its metadata. Because the data remains in its existing location, you incur no extra storage cost, and don't risk data source integrity. You can create Data assets from Azure ML datastores, Azure Storage, public URLs, and local files.\n",
        "\n",
        "Read [Create data assets](how-to-create-data-assets.md) for more information about data assets.\n",
        "\n",
        "> [!TIP]\n",
        "> For smaller-size data uploads, Azure ML data asset creation works well for data uploads from local machine resources to cloud storage. This approach avoids the need for extra tools or utilities. However, a larger-size data upload might require a dedicated tool or utility - for example, **azcopy**. The azcopy command-line tool moves data to and from Azure Storage. Learn more about azcopy [here](https://learn.microsoft.com/en-us/azure/storage/common/storage-ref-azcopy.md) and [here](https://learn.microsoft.com/en-us/azure/storage/common/storage-use-azcopy-v10).\n",
        "\n",
        "> -----------------------------\n",
        "\n",
        "## **Notes for later deletion in this \"block\"**\n",
        "\n",
        "**The formatting / text structure of these list items might need restructuring, but they cover ideas discussed in the 20221222 SO / SG / SK / FBS meeting**\n",
        "\n",
        "> -----------------------------\n",
        "\n",
        "**_Note: After the download data step, the script should automatically copy the original source data into the user's local device drive_**\n",
        "\n",
        "**Covered 20230123: _Note: break down the code snippets so we can explain each block_**\n",
        "\n",
        "This notebook cell will configure the MLClient object for those Azure ML resources. Replace the strings between the **\"<\"** and **\">\"** characters with values specific to your Azure ML resources."
      ]
    },
    {
      "cell_type": "code",
      "execution_count": null,
      "metadata": {
        "gather": {
          "logged": 1673997033129
        },
        "jupyter": {
          "outputs_hidden": false,
          "source_hidden": false
        },
        "nteract": {
          "transient": {
            "deleting": false
          }
        }
      },
      "outputs": [],
      "source": [
        "from azure.ai.ml import MLClient\n",
        "from azure.ai.ml.entities import Data\n",
        "from azure.ai.ml.constants import AssetTypes\n",
        "from azure.identity import DefaultAzureCredential\n",
        "\n",
        "# authenticate\n",
        "credential = DefaultAzureCredential()\n",
        "\n",
        "# Get a handle to the workspace\n",
        "ml_client = MLClient(\n",
        "    credential=credential,\n",
        "    subscription_id=\"<SUBSCRIPTION_ID>\",\n",
        "    resource_group_name=\"<RESOURCE_GROUP>\",\n",
        "    workspace_name=\"<AML_WORKSPACE_NAME>\",\n",
        ")"
      ]
    },
    {
      "cell_type": "markdown",
      "metadata": {
        "nteract": {
          "transient": {
            "deleting": false
          }
        }
      },
      "source": [
        "**_Note: rework the paragraph explaining what user is doing here after breaking down code snippets_**\n",
        "\n",
        "The next notebook cell creates the data asset. Here, the code sample will upload the raw data file to the designated cloud storage resource. This upload operation requires unique **version** and **name** properties in the **my_data** block. Otherwise, the cell will fail. To run this cell code more than once with the same **name** value, change the **version** value each time you run the code. As another workaround, you can also comment out the **version** value. This approach will create new data asset each time the cell runs, and it will auto-increment the version numbers of those versions, starting from 1:\n"
      ]
    },
    {
      "cell_type": "code",
      "execution_count": null,
      "metadata": {
        "jupyter": {
          "outputs_hidden": false,
          "source_hidden": false
        },
        "nteract": {
          "transient": {
            "deleting": false
          }
        }
      },
      "outputs": [],
      "source": [
        "# update <path> to be the location of where you downloaded the data on your\n",
        "# local filesystem\n",
        "\n",
        "# NOTE: we could call out if user should update the path accordingly\n",
        "my_path = <path>/default_of_credit_card_clients.csv'\n",
        "\n",
        "# define the data asset\n",
        "\n",
        "# The version value is optional in this statement. Without it, this code\n",
        "# can re-execute this cell with the given name and version values.\n",
        "# In this case, AutoML will create new data assets each time the cell\n",
        "# executes, and it will auto-increment the version number of those\n",
        "# data assets, starting from 1.\n",
        "\n",
        "my_data = Data(\n",
        "    name=\"credit-card\",\n",
        "    version=\"1\",\n",
        "    description=\"Credit card data\",\n",
        "    path=my_path,\n",
        "    type=AssetTypes.URI_FILE,\n",
        ")\n",
        "\n",
        "# create data asset\n",
        "ml_client.data.create_or_update(my_data)"
      ]
    },
    {
      "cell_type": "markdown",
      "metadata": {
        "nteract": {
          "transient": {
            "deleting": false
          }
        }
      },
      "source": [
        "**_Note: include a screenshot of Notebook after the data asset is generated. Sanghee will double check if this is important to include or not. Explain where the data is stored (default blobstore that came with Azure subscription), and explain what datastore is_**\n",
        "\n",
        "You'll notice that the data has been uploaded to the default Azure ML _Datastore_. An Azure Machine Learning datastore is a _reference_ to an _existing_ storage account on Azure. A datastore offers these benefits:\n",
        "\n",
        "1. A common and easy-to-use API, to interact with different storage types (Blob/Files/ADLS) and authentication methods.\n",
        "1. An easier way to discover useful datastores, when working as a team.\n",
        "1. In your scripts, a way to hide connection information for credential-based data access (service principal/SAS/key).\n",
        "\n",
        "**Covered 20230123: _Note: we will embed the link to the datastore doc, but we don't call out to ask if you want to create extra datastores as we don't want them to do that on day 1_**\n",
        "\n",
        "Read [Create datastores](how-to-datastore.md) to learn more about datastores. ~~how about how to create extra Azure ML datastores.~~\n",
        "\n",
        "## Accessing your data in a notebook\n",
        "\n",
        "The start of a machine learning project typically involves exploratory data analysis (EDA), data-preprocessing (cleaning, feature engineering), and the building of ML model prototypes to validate hypotheses. This _prototyping_ project phase is highly interactive. It lends itself to development in an IDE or a Jupyter notebook, with a _Python interactive console_.\n",
        "\n",
        "Pandas directly support URIs - this example shows how to read a CSV file from an Azure ML Datastore:\n"
      ]
    },
    {
      "cell_type": "code",
      "execution_count": null,
      "metadata": {
        "jupyter": {
          "outputs_hidden": false,
          "source_hidden": false
        },
        "nteract": {
          "transient": {
            "deleting": false
          }
        }
      },
      "outputs": [],
      "source": [
        "import pandas as pd\n",
        "\n",
        "df = pd.read_csv(\"azureml://subscriptions/<subid>/resourcegroups/<rgname>/workspaces/<workspace_name>/datastores/<datastore_name>/paths/<folder>/<filename>.csv\")\n",
        "df.head()"
      ]
    },
    {
      "cell_type": "markdown",
      "metadata": {
        "nteract": {
          "transient": {
            "deleting": false
          }
        }
      },
      "source": [
        "However, as mentioned previously, it can become hard to remember these URIs. You'll want to create data assets for frequently accessed data. This Python code shows how to access the CSV file in Pandas:\n",
        "\n",
        "**Covered 20230124: _Note: Frank to update the below note_**\n",
        "> [!IMPORTANT]\n",
        "> In a notebook cell, execute this code to install the `azureml-fsspec` Python library in your Jupyter kernel:\n",
        "~~> In a notebook cell, Ensure the `azureml-fsspec` Python library is installed in your Jupyter kernel by executing the following in a notebook cell:~~"
      ]
    },
    {
      "cell_type": "code",
      "execution_count": null,
      "metadata": {
        "jupyter": {
          "outputs_hidden": false,
          "source_hidden": false
        },
        "nteract": {
          "transient": {
            "deleting": false
          }
        }
      },
      "outputs": [],
      "source": [
        "%pip install -U azureml-fsspec"
      ]
    },
    {
      "cell_type": "code",
      "execution_count": null,
      "metadata": {
        "jupyter": {
          "outputs_hidden": false,
          "source_hidden": false
        },
        "nteract": {
          "transient": {
            "deleting": false
          }
        }
      },
      "outputs": [],
      "source": [
        "import pandas as pd\n",
        "from azure.ai.ml import MLClient\n",
        "from azure.identity import DefaultAzureCredential\n",
        "\n",
        "# get a handle for your AzureML workspace\n",
        "credential = DefaultAzureCredential()\n",
        "ml_client = MLClient.from_config(credential=credential)\n",
        "\n",
        "# get a handle of the data asset and print the URI\n",
        "data_asset = ml_client.data.get(name=\"credit-card\", version=\"1\")\n",
        "print(f'Data asset URI: {data_asset.path}')\n",
        "\n",
        "# read into pandas - note that you will see 2 headers in your data frame - that is ok, for now\n",
        "\n",
        "df = pd.read_csv(data_asset.path)\n",
        "df.head()"
      ]
    },
    {
      "cell_type": "markdown",
      "metadata": {
        "nteract": {
          "transient": {
            "deleting": false
          }
        }
      },
      "source": [
        "Read [Access data from Azure cloud storage during interactive development](how-to-access-data-interactive.md) to learn more about data access in a notebook.\n",
        "\n",
        "## Create a new version of the data asset\n",
        "\n",
        "You might have noticed that the data needs a little light cleaning, to make it fit to train a machine learning model. It has:\n",
        "\n",
        "* two headers\n",
        "* a client ID column; we would not use this feature in Machine Learning\n",
        "* spaces in the response variable name\n",
        "\n",
        "Also, compared to the CSV format, the Parquet file format becomes a better way to store this data. Parquet offers compression, and it maintains schema. Therefore, to clean the data and store it in Parquet, use:"
      ]
    },
    {
      "cell_type": "code",
      "execution_count": null,
      "metadata": {
        "jupyter": {
          "outputs_hidden": false,
          "source_hidden": false
        },
        "nteract": {
          "transient": {
            "deleting": false
          }
        }
      },
      "outputs": [],
      "source": [
        "# read in data again, this time using the 2nd row as the header\n",
        "df = pd.read_csv(data_asset.path, header=1)\n",
        "# rename column\n",
        "df.rename(columns={'default payment next month': 'default'}, inplace=True)\n",
        "# remove ID column\n",
        "df.drop('ID', axis=1, inplace=True)\n",
        "\n",
        "# write file to filesystem\n",
        "df.to_parquet('./cleaned-credit-card.parquet')"
      ]
    },
    {
      "cell_type": "markdown",
      "metadata": {
        "nteract": {
          "transient": {
            "deleting": false
          }
        }
      },
      "source": [
        "## Data dictionary\n",
        "\n",
        "The uploaded data contains 23 explanatory variables and 1 response variable, as mapped in the Table below:\n",
        "\n",
        "|Column Name(s) | Variable Type  |Description  |\n",
        "|---------|---------|---------|\n",
        "|X1     |   Explanatory      |    Amount of the given credit (NT dollar): it includes both the individual consumer credit and their family (supplementary) credit.    |\n",
        "|X2     |   Explanatory      |   Gender (1 = male; 2 = female).      |\n",
        "|X3     |   Explanatory      |   Education (1 = graduate school; 2 = university; 3 = high school; 4 = others).      |\n",
        "|X4     |   Explanatory      |    Marital status (1 = married; 2 = single; 3 = others).     |\n",
        "|X5     |   Explanatory      |    Age (years).     |\n",
        "|X6-X11     | Explanatory        |  History of past payment. We tracked the past monthly payment records (from April to September  2005). -1 = pay duly; 1 = payment delay for one month; 2 = payment delay for two months; . . .; 8 = payment delay for eight months; 9 = payment delay for nine months and above.      |\n",
        "|X12-17     | Explanatory        |  Amount of bill statement (NT dollar) from April to September  2005.      |\n",
        "|X18-23     | Explanatory        |  Amount of previous payment (NT dollar) from April to September  2005.      |\n",
        "|Y     | Response        |    Default payment (Yes = 1, No = 0)     |\n",
        "\n",
        "Next, create a new _version_ of the data asset (the data will automatically upload to cloud storage):\n",
        "\n",
        "> [!NOTE]\n",
        ">\n",
        "> * This Python code cell sets **name** and **version** values for the data asset it creates. As a result, the code in this cell will fail if executed more than once, without a change to these values. Fixed **name** and **version** values offer a way to pass values that work for specific situations, without concern for auto-generated or randomly-generated values.\n"
      ]
    },
    {
      "cell_type": "code",
      "execution_count": null,
      "metadata": {
        "jupyter": {
          "outputs_hidden": false,
          "source_hidden": false
        },
        "nteract": {
          "transient": {
            "deleting": false
          }
        }
      },
      "outputs": [],
      "source": [
        "# Next, create a new *version* of the data asset (the data is automatically uploaded to cloud storage):\n",
        "\n",
        "from azure.ai.ml.entities import Data\n",
        "from azure.ai.ml.constants import AssetTypes\n",
        "\n",
        "my_path = './cleaned-credit-card.parquet'\n",
        "\n",
        "# Define the data asset, and use tags to make it clear the asset can be used in training\n",
        "\n",
        "# Note: we will brainstorm what's the best way to do the comment below\n",
        "\n",
        "# The version value is optional in this statement. Without it, this code\n",
        "# can re-execute this cell with the given name and version values.\n",
        "# In this case, AutoML will create new data assets each time the cell\n",
        "# executes, and it will auto-increment the version number of those\n",
        "# data assets, starting from 1.\n",
        "\n",
        "my_data = Data(\n",
        "    name=\"credit-card\",\n",
        "    version=\"1\",\n",
        "    description=\"Default of credit card clients data.\",\n",
        "    tags={\n",
        "        \"training_data\": \"true\",\n",
        "        \"format\": \"parquet\"\n",
        "    },\n",
        "    path=my_path,\n",
        "    type=AssetTypes.URI_FILE\n",
        ")\n",
        "\n",
        "## create the data asset\n",
        "\n",
        "ml_client.data.create_or_update(my_data)"
      ]
    },
    {
      "cell_type": "markdown",
      "metadata": {
        "nteract": {
          "transient": {
            "deleting": false
          }
        }
      },
      "source": [
        "**_Note: rework the following paragraph to something that makes sense in this context. We will want to run the final code snippet and check if user has two versions to compare at this point, or they need to do something else._**\n",
        "\n",
        "**20230124: _If we had a way to somehow distinguish between the V1 / V2 result sets in the output this cell produces, it might help drive the paragraph content, and the users might see the ideas more clearly_**\n",
        "\n",
        "The cleaned parquet file is the latest version data source. If you use the **Version** drop-down to select the previous version, you'll notice that it points to the original CSV file. This versioning makes it easy to see the differences in the data. You can access the different versions with this code:"
      ]
    },
    {
      "cell_type": "code",
      "execution_count": null,
      "metadata": {
        "jupyter": {
          "outputs_hidden": false,
          "source_hidden": false
        },
        "nteract": {
          "transient": {
            "deleting": false
          }
        }
      },
      "outputs": [],
      "source": [
        "import pandas as pd\n",
        "from azure.ai.ml import MLClient\n",
        "from azure.identity import DefaultAzureCredential\n",
        "\n",
        "# get a handle for your AzureML workspace\n",
        "credential = DefaultAzureCredential()\n",
        "ml_client = MLClient.from_config(credential=credential)\n",
        "\n",
        "# get a handle of the data asset and print the URI\n",
        "data_asset_v1 = ml_client.data.get(name=\"credit-card\", version=\"1\")\n",
        "data_asset_v2 = ml_client.data.get(name=\"credit-card\", version=\"2\")\n",
        "print(f'V1 Data asset URI: {data_asset_v1.path}')\n",
        "print(f'V2 Data asset URI: {data_asset_v2.path}')\n",
        "\n",
        "v1df = pd.read_csv(data_asset_v1.path)\n",
        "print(v1df.head(5))\n",
        "\n",
        "v2df = pd.read_parquet(data_asset_v2.path)\n",
        "print(v2df.head(5))"
      ]
    },
    {
      "cell_type": "markdown",
      "metadata": {
        "nteract": {
          "transient": {
            "deleting": false
          }
        }
      },
      "source": [
        "## Next steps\n",
        "\n",
        "Now, you can train a model."
      ]
    },
    {
      "cell_type": "markdown",
      "metadata": {
        "nteract": {
          "transient": {
            "deleting": false
          }
        }
      },
      "source": [
        "## Next steps\n",
        "\n",
        "Now, you can train a model."
      ]
    }
  ],
  "metadata": {
    "kernel_info": {
      "name": "python310-sdkv2"
    },
    "kernelspec": {
      "display_name": "Python 3.10 - SDK V2",
      "language": "python",
      "name": "python310-sdkv2"
    },
    "language_info": {
      "codemirror_mode": {
        "name": "ipython",
        "version": 3
      },
      "file_extension": ".py",
      "mimetype": "text/x-python",
      "name": "python",
      "nbconvert_exporter": "python",
      "pygments_lexer": "ipython3",
      "version": "3.10.6"
    },
    "microsoft": {
      "host": {
        "AzureML": {
          "notebookHasBeenCompleted": true
        }
      }
    },
    "nteract": {
      "version": "nteract-front-end@1.0.0"
    }
  },
  "nbformat": 4,
  "nbformat_minor": 2
}
