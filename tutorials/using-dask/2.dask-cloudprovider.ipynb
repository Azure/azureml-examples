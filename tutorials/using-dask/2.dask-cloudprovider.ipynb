{
 "cells": [
  {
   "cell_type": "markdown",
   "metadata": {},
   "source": [
    "# dask-cloudprovider \n",
    "\n",
    "The [dask-cloudprovider](https://cloudprovider.dask.org/en/latest/index.html) package can be used to launch Dask clusters on a variety of cloud providers, including [Azure](https://cloudprovider.dask.org/en/latest/azure.html).\n",
    "\n",
    "First, install the required packages:"
   ]
  },
  {
   "cell_type": "code",
   "execution_count": null,
   "metadata": {},
   "outputs": [],
   "source": [
    "!pip install --upgrade \"distributed dask-cloudprovider[azure]\""
   ]
  },
  {
   "cell_type": "markdown",
   "metadata": {},
   "source": [
    "## Required setup\n",
    "\n",
    "Currently, there is some required setup needed. This has been abstracted in a [setup script](setup.sh). This will create:\n",
    "\n",
    "- an Azure resource group named \"dask-cloudprovider\"\n",
    "- an Azure virtual network named \"dask-vnet\"\n",
    "- an Azure network security group named \"dask-nsg\"\n",
    "- an Azure network security group rule named \"daskRule\" to allow traffic to 8786-8787 from the Internet\n",
    "\n",
    "There is [an open issue](https://github.com/dask/dask-cloudprovider/issues/190) to abstract this setup away in `dask-cloudprovider`. Run the setup script:"
   ]
  },
  {
   "cell_type": "code",
   "execution_count": null,
   "metadata": {},
   "outputs": [],
   "source": [
    "%%writefile setup.sh\n",
    "#export ID=<your-subscription-id>\n",
    "export RG=\"dask-cloudprovider\"\n",
    "export LOC=\"eastus\"\n",
    "\n",
    "az group create --location $LOC --name $RG --subscription $ID\n",
    "az network vnet create -g $RG -n \"dask-vnet\" --subnet-name \"default\"\n",
    "az network nsg create -g $RG -n \"dask-nsg\"\n",
    "az network nsg rule create -g $RG --nsg-name \"dask-nsg\" -n \"daskRule\" --priority 500 --source-address-prefixes Internet --destination-port-ranges 8786 8787 --destination-address-prefixes \"*\" --access Allow --protocol Tcp --description \"allow Internet to 8786-8787 for Dask\""
   ]
  },
  {
   "cell_type": "code",
   "execution_count": null,
   "metadata": {},
   "outputs": [],
   "source": [
    "!bash ./setup.sh"
   ]
  },
  {
   "cell_type": "markdown",
   "metadata": {},
   "source": [
    "## Create the Dask cluster\n",
    "\n",
    "Adjust the cell below to match watch you used when setting up your Azure resources."
   ]
  },
  {
   "cell_type": "code",
   "execution_count": null,
   "metadata": {},
   "outputs": [],
   "source": [
    "location = \"eastus\"\n",
    "resource_group = \"dask-cloudprovider\"\n",
    "vnet = \"dask-vnet\"\n",
    "security_group = \"dask-nsg\"\n",
    "\n",
    "vm_size = \"Standard_DS5_v2\"\n",
    "\n",
    "from distributed import Client\n",
    "from dask_cloudprovider.azure import AzureVMCluster\n",
    "\n",
    "cluster = AzureVMCluster(\n",
    "    location=location,\n",
    "    resource_group=resource_group,\n",
    "    vnet=vnet,\n",
    "    security_group=security_group,\n",
    "    vm_size=vm_size,\n",
    ")\n",
    "c = Client(cluster)\n",
    "c"
   ]
  },
  {
   "cell_type": "markdown",
   "metadata": {},
   "source": [
    "## Scaling\n",
    "\n",
    "There are some known issues with the `AzureVMCluster`:\n",
    "\n",
    "- [#187](https://github.com/dask/dask-cloudprovider/issues/187): VM creation is serial, resulting in slow (and potentially costly) scaling\n",
    "- an entire VM is used to the scheduler instance, which needs to be optimized\n",
    "\n",
    "You can either manually scale the cluster, or enable auto-scaling. TODO: add details."
   ]
  },
  {
   "cell_type": "code",
   "execution_count": null,
   "metadata": {},
   "outputs": [],
   "source": [
    "%%time\n",
    "cluster.scale(4)\n",
    "c.wait_for_workers(4)"
   ]
  },
  {
   "cell_type": "markdown",
   "metadata": {},
   "source": [
    "## Close the cluster\n",
    "\n",
    "When you're done, close the cluster to cleanup all VM and related resources. "
   ]
  },
  {
   "cell_type": "code",
   "execution_count": null,
   "metadata": {},
   "outputs": [],
   "source": [
    "cluster.close()\n",
    "c.close()"
   ]
  },
  {
   "cell_type": "markdown",
   "metadata": {},
   "source": [
    "## Use GPUs for PyData and ML\n",
    "\n",
    "The [RAPIDSAI](https://github.com/rapidsai) ecosystem mirrors PyData APIs from Pandas, Numpy, Scikit-Learn, etc. for acceleration on multiple GPU nodes via Dask."
   ]
  },
  {
   "cell_type": "code",
   "execution_count": null,
   "metadata": {},
   "outputs": [],
   "source": [
    "location = \"eastus\"\n",
    "resource_group = \"dask-cloudprovider\"\n",
    "vnet = \"dask-vnet\"\n",
    "security_group = \"dask-nsg\"\n",
    "\n",
    "vm_size = \"Standard_NC12s_v3\"\n",
    "docker_image = \"rapidsai/rapidsai:cuda11.0-runtime-ubuntu18.04-py3.8\"\n",
    "worker_class = \"dask_cuda.CUDAWorker\"\n",
    "\n",
    "from distributed import Client\n",
    "from dask_cloudprovider.azure import AzureVMCluster\n",
    "\n",
    "cluster = AzureVMCluster(\n",
    "    location=location,\n",
    "    resource_group=resource_group,\n",
    "    vnet=vnet,\n",
    "    security_group=security_group,\n",
    "    vm_size=vm_size,\n",
    "    docker_image=docker_image,\n",
    "    worker_class=worker_class,\n",
    ")\n",
    "c = Client(cluster)\n",
    "c"
   ]
  },
  {
   "cell_type": "code",
   "execution_count": null,
   "metadata": {},
   "outputs": [],
   "source": [
    "%%time\n",
    "cluster.scale(2)\n",
    "c.wait_for_workers(2)"
   ]
  },
  {
   "cell_type": "code",
   "execution_count": null,
   "metadata": {},
   "outputs": [],
   "source": [
    "cluster.close()\n",
    "c.close()"
   ]
  },
  {
   "cell_type": "markdown",
   "metadata": {},
   "source": [
    "## (Optional) Delete resource group\n",
    "\n",
    "Optionally, delete the resource group and virtual network."
   ]
  },
  {
   "cell_type": "code",
   "execution_count": null,
   "metadata": {},
   "outputs": [],
   "source": [
    "#!az group delete -n \"dask-cloudprovider\" -y --no-wait"
   ]
  }
 ],
 "metadata": {
  "kernelspec": {
   "display_name": "Python 3.8",
   "language": "python",
   "name": "python3.8"
  },
  "language_info": {
   "codemirror_mode": {
    "name": "ipython",
    "version": 3
   },
   "file_extension": ".py",
   "mimetype": "text/x-python",
   "name": "python",
   "nbconvert_exporter": "python",
   "pygments_lexer": "ipython3",
   "version": "3.8.5-final"
  }
 },
 "nbformat": 4,
 "nbformat_minor": 2
}
