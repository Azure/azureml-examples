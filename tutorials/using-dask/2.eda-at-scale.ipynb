{
 "cells": [
  {
   "cell_type": "markdown",
   "metadata": {},
   "source": [
    "# Exploratory Data Analysis (EDA) at Scale with Dask"
   ]
  },
  {
   "cell_type": "code",
   "execution_count": null,
   "metadata": {
    "tags": [
     "outputPrepend"
    ]
   },
   "outputs": [],
   "source": [
    "!pip install --upgrade \"dask-cloudprovider[azure]\""
   ]
  },
  {
   "cell_type": "code",
   "execution_count": 1,
   "metadata": {},
   "outputs": [
    {
     "output_type": "execute_result",
     "data": {
      "text/plain": [
       "Workspace.create(name='AzureML', subscription_id='6560575d-fa06-4e7d-95fb-f962e74efd7a', resource_group='cody-eastus-rg')"
      ]
     },
     "metadata": {},
     "execution_count": 1
    }
   ],
   "source": [
    "from azureml.core import Workspace\n",
    "\n",
    "ws = Workspace.from_config()\n",
    "ws"
   ]
  },
  {
   "cell_type": "code",
   "execution_count": 2,
   "metadata": {},
   "outputs": [],
   "source": [
    "import git\n",
    "from pathlib import Path\n",
    "\n",
    "# get root of git repo\n",
    "prefix = Path(git.Repo(\".\", search_parent_directories=True).working_tree_dir)"
   ]
  },
  {
   "cell_type": "code",
   "execution_count": 3,
   "metadata": {},
   "outputs": [
    {
     "output_type": "stream",
     "name": "stderr",
     "text": [
      "WARNING - If 'script' has been provided here and a script file name has been specified in 'run_config', 'script' provided in ScriptRunConfig initialization will take precedence.\n",
      "WARNING - If 'arguments' has been provided here and arguments have been specified in 'run_config', 'arguments' provided in ScriptRunConfig initialization will take precedence.\n",
      "...................................................\n",
      "\n",
      "WARNING - If 'script' has been provided here and a script file name has been specified in 'run_config', 'script' provided in ScriptRunConfig initialization will take precedence.\n"
     ]
    },
    {
     "output_type": "execute_result",
     "data": {
      "text/plain": [
       "<Client: 'tcp://10.0.0.5:8786' processes=1 threads=8, memory=59.08 GB>"
      ],
      "text/html": "<table style=\"border: 2px solid white;\">\n<tr>\n<td style=\"vertical-align: top; border: 0px solid white\">\n<h3 style=\"text-align: left;\">Client</h3>\n<ul style=\"text-align: left; list-style: none; margin: 0; padding: 0;\">\n  <li><b>Scheduler: </b>tcp://localhost:9002</li>\n  <li><b>Dashboard: </b><a href='http://localhost:9001' target='_blank'>http://localhost:9001</a></li>\n</ul>\n</td>\n<td style=\"vertical-align: top; border: 0px solid white\">\n<h3 style=\"text-align: left;\">Cluster</h3>\n<ul style=\"text-align: left; list-style:none; margin: 0; padding: 0;\">\n  <li><b>Workers: </b>1</li>\n  <li><b>Cores: </b>8</li>\n  <li><b>Memory: </b>59.08 GB</li>\n</ul>\n</td>\n</tr>\n</table>"
     },
     "metadata": {},
     "execution_count": 3
    }
   ],
   "source": [
    "from azureml.core import Environment \n",
    "from dask.distributed import Client\n",
    "from dask_cloudprovider import AzureMLCluster\n",
    "\n",
    "env = Environment.from_conda_specification(\"dask-tutorial\", prefix.joinpath(\"environments\", \"dask.yml\"))\n",
    "cluster = AzureMLCluster(ws, vm_size=\"STANDARD_DS13_V2\", environment_definition=env, initial_node_count=20, scheduler_idle_timeout=1200)\n",
    "\n",
    "c = Client(cluster)\n",
    "c"
   ]
  },
  {
   "cell_type": "code",
   "execution_count": 4,
   "metadata": {},
   "outputs": [
    {
     "output_type": "display_data",
     "data": {
      "text/plain": "VBox(children=(HTML(value='<h2>AzureMLCluster</h2>'), HBox(children=(HTML(value='\\n<div>\\n  <style scoped>\\n  …",
      "application/vnd.jupyter.widget-view+json": {
       "version_major": 2,
       "version_minor": 0,
       "model_id": "204c21bf37c7483f92551f817c8399f8"
      }
     },
     "metadata": {}
    }
   ],
   "source": [
    "cluster"
   ]
  },
  {
   "cell_type": "code",
   "execution_count": 5,
   "metadata": {},
   "outputs": [],
   "source": [
    "container_name = \"isdweatherdatacontainer\"\n",
    "\n",
    "storage_options = {\"account_name\": \"azureopendatastorage\"}"
   ]
  },
  {
   "cell_type": "code",
   "execution_count": 6,
   "metadata": {},
   "outputs": [
    {
     "output_type": "execute_result",
     "data": {
      "text/plain": [
       "<adlfs.spec.AzureBlobFileSystem at 0x7fb9d768eeb0>"
      ]
     },
     "metadata": {},
     "execution_count": 6
    }
   ],
   "source": [
    "from adlfs import AzureBlobFileSystem\n",
    "\n",
    "fs = AzureBlobFileSystem(**storage_options)\n",
    "fs"
   ]
  },
  {
   "cell_type": "code",
   "execution_count": 7,
   "metadata": {},
   "outputs": [
    {
     "output_type": "stream",
     "name": "stdout",
     "text": [
      "CPU times: user 11.2 s, sys: 574 ms, total: 11.8 s\nWall time: 3min 54s\n"
     ]
    },
    {
     "output_type": "execute_result",
     "data": {
      "text/plain": [
       "1232"
      ]
     },
     "metadata": {},
     "execution_count": 7
    }
   ],
   "source": [
    "%%time\n",
    "files = fs.glob(f\"{container_name}/ISDWeather/year=*/month=*/*.parquet\")\n",
    "files = [f\"az://{file}\" for file in files]\n",
    "len(files)"
   ]
  },
  {
   "cell_type": "code",
   "execution_count": 8,
   "metadata": {},
   "outputs": [
    {
     "output_type": "execute_result",
     "data": {
      "text/plain": [
       "['az://isdweatherdatacontainer/ISDWeather/year=2020/month=9/part-00003-tid-1578165671371548424-dff7e310-9776-4fe4-a52f-9ef0381fafb9-2463-9.c000.snappy.parquet',\n",
       " 'az://isdweatherdatacontainer/ISDWeather/year=2020/month=9/part-00004-tid-1578165671371548424-dff7e310-9776-4fe4-a52f-9ef0381fafb9-2469-9.c000.snappy.parquet',\n",
       " 'az://isdweatherdatacontainer/ISDWeather/year=2020/month=9/part-00005-tid-1578165671371548424-dff7e310-9776-4fe4-a52f-9ef0381fafb9-2466-9.c000.snappy.parquet',\n",
       " 'az://isdweatherdatacontainer/ISDWeather/year=2020/month=9/part-00006-tid-1578165671371548424-dff7e310-9776-4fe4-a52f-9ef0381fafb9-2465-9.c000.snappy.parquet',\n",
       " 'az://isdweatherdatacontainer/ISDWeather/year=2020/month=9/part-00007-tid-1578165671371548424-dff7e310-9776-4fe4-a52f-9ef0381fafb9-2470-9.c000.snappy.parquet']"
      ]
     },
     "metadata": {},
     "execution_count": 8
    }
   ],
   "source": [
    "files[-5:]"
   ]
  },
  {
   "cell_type": "code",
   "execution_count": 9,
   "metadata": {},
   "outputs": [],
   "source": [
    "import dask.dataframe as dd"
   ]
  },
  {
   "cell_type": "code",
   "execution_count": 10,
   "metadata": {},
   "outputs": [
    {
     "output_type": "stream",
     "name": "stdout",
     "text": [
      "CPU times: user 3.53 s, sys: 231 ms, total: 3.76 s\nWall time: 52.5 s\n"
     ]
    },
    {
     "output_type": "execute_result",
     "data": {
      "text/plain": [
       "Dask DataFrame Structure:\n",
       "                    usaf    wban        datetime latitude longitude elevation windAngle windSpeed temperature seaLvlPressure cloudCoverage presentWeatherIndicator pastWeatherIndicator precipTime precipDepth snowDepth stationName countryOrRegion     p_k   year    day  version\n",
       "npartitions=1232                                                                                                                                                                                                                                                                   \n",
       "                  object  object  datetime64[ns]  float64   float64   float64     int32   float64     float64        float64        object                   int32                int32    float64     float64   float64      object          object  object  int32  int32  float64\n",
       "                     ...     ...             ...      ...       ...       ...       ...       ...         ...            ...           ...                     ...                  ...        ...         ...       ...         ...             ...     ...    ...    ...      ...\n",
       "...                  ...     ...             ...      ...       ...       ...       ...       ...         ...            ...           ...                     ...                  ...        ...         ...       ...         ...             ...     ...    ...    ...      ...\n",
       "                     ...     ...             ...      ...       ...       ...       ...       ...         ...            ...           ...                     ...                  ...        ...         ...       ...         ...             ...     ...    ...    ...      ...\n",
       "                     ...     ...             ...      ...       ...       ...       ...       ...         ...            ...           ...                     ...                  ...        ...         ...       ...         ...             ...     ...    ...    ...      ...\n",
       "Dask Name: read-parquet, 1232 tasks"
      ],
      "text/html": "<div><strong>Dask DataFrame Structure:</strong></div>\n<div>\n<style scoped>\n    .dataframe tbody tr th:only-of-type {\n        vertical-align: middle;\n    }\n\n    .dataframe tbody tr th {\n        vertical-align: top;\n    }\n\n    .dataframe thead th {\n        text-align: right;\n    }\n</style>\n<table border=\"1\" class=\"dataframe\">\n  <thead>\n    <tr style=\"text-align: right;\">\n      <th></th>\n      <th>usaf</th>\n      <th>wban</th>\n      <th>datetime</th>\n      <th>latitude</th>\n      <th>longitude</th>\n      <th>elevation</th>\n      <th>windAngle</th>\n      <th>windSpeed</th>\n      <th>temperature</th>\n      <th>seaLvlPressure</th>\n      <th>cloudCoverage</th>\n      <th>presentWeatherIndicator</th>\n      <th>pastWeatherIndicator</th>\n      <th>precipTime</th>\n      <th>precipDepth</th>\n      <th>snowDepth</th>\n      <th>stationName</th>\n      <th>countryOrRegion</th>\n      <th>p_k</th>\n      <th>year</th>\n      <th>day</th>\n      <th>version</th>\n    </tr>\n    <tr>\n      <th>npartitions=1232</th>\n      <th></th>\n      <th></th>\n      <th></th>\n      <th></th>\n      <th></th>\n      <th></th>\n      <th></th>\n      <th></th>\n      <th></th>\n      <th></th>\n      <th></th>\n      <th></th>\n      <th></th>\n      <th></th>\n      <th></th>\n      <th></th>\n      <th></th>\n      <th></th>\n      <th></th>\n      <th></th>\n      <th></th>\n      <th></th>\n    </tr>\n  </thead>\n  <tbody>\n    <tr>\n      <th></th>\n      <td>object</td>\n      <td>object</td>\n      <td>datetime64[ns]</td>\n      <td>float64</td>\n      <td>float64</td>\n      <td>float64</td>\n      <td>int32</td>\n      <td>float64</td>\n      <td>float64</td>\n      <td>float64</td>\n      <td>object</td>\n      <td>int32</td>\n      <td>int32</td>\n      <td>float64</td>\n      <td>float64</td>\n      <td>float64</td>\n      <td>object</td>\n      <td>object</td>\n      <td>object</td>\n      <td>int32</td>\n      <td>int32</td>\n      <td>float64</td>\n    </tr>\n    <tr>\n      <th></th>\n      <td>...</td>\n      <td>...</td>\n      <td>...</td>\n      <td>...</td>\n      <td>...</td>\n      <td>...</td>\n      <td>...</td>\n      <td>...</td>\n      <td>...</td>\n      <td>...</td>\n      <td>...</td>\n      <td>...</td>\n      <td>...</td>\n      <td>...</td>\n      <td>...</td>\n      <td>...</td>\n      <td>...</td>\n      <td>...</td>\n      <td>...</td>\n      <td>...</td>\n      <td>...</td>\n      <td>...</td>\n    </tr>\n    <tr>\n      <th>...</th>\n      <td>...</td>\n      <td>...</td>\n      <td>...</td>\n      <td>...</td>\n      <td>...</td>\n      <td>...</td>\n      <td>...</td>\n      <td>...</td>\n      <td>...</td>\n      <td>...</td>\n      <td>...</td>\n      <td>...</td>\n      <td>...</td>\n      <td>...</td>\n      <td>...</td>\n      <td>...</td>\n      <td>...</td>\n      <td>...</td>\n      <td>...</td>\n      <td>...</td>\n      <td>...</td>\n      <td>...</td>\n    </tr>\n    <tr>\n      <th></th>\n      <td>...</td>\n      <td>...</td>\n      <td>...</td>\n      <td>...</td>\n      <td>...</td>\n      <td>...</td>\n      <td>...</td>\n      <td>...</td>\n      <td>...</td>\n      <td>...</td>\n      <td>...</td>\n      <td>...</td>\n      <td>...</td>\n      <td>...</td>\n      <td>...</td>\n      <td>...</td>\n      <td>...</td>\n      <td>...</td>\n      <td>...</td>\n      <td>...</td>\n      <td>...</td>\n      <td>...</td>\n    </tr>\n    <tr>\n      <th></th>\n      <td>...</td>\n      <td>...</td>\n      <td>...</td>\n      <td>...</td>\n      <td>...</td>\n      <td>...</td>\n      <td>...</td>\n      <td>...</td>\n      <td>...</td>\n      <td>...</td>\n      <td>...</td>\n      <td>...</td>\n      <td>...</td>\n      <td>...</td>\n      <td>...</td>\n      <td>...</td>\n      <td>...</td>\n      <td>...</td>\n      <td>...</td>\n      <td>...</td>\n      <td>...</td>\n      <td>...</td>\n    </tr>\n  </tbody>\n</table>\n</div>\n<div>Dask Name: read-parquet, 1232 tasks</div>"
     },
     "metadata": {},
     "execution_count": 10
    }
   ],
   "source": [
    "%%time\n",
    "ddf = dd.read_parquet(files, storage_options=storage_options, engine=\"pyarrow\", blocksize=\"1GB\")\n",
    "ddf"
   ]
  },
  {
   "cell_type": "code",
   "execution_count": 12,
   "metadata": {},
   "outputs": [],
   "source": [
    "ddf = ddf.repartition(npartitions=128).persist()"
   ]
  },
  {
   "cell_type": "code",
   "execution_count": 13,
   "metadata": {},
   "outputs": [
    {
     "output_type": "stream",
     "name": "stdout",
     "text": [
      "CPU times: user 606 ms, sys: 117 ms, total: 723 ms\nWall time: 5min 43s\n"
     ]
    },
    {
     "output_type": "execute_result",
     "data": {
      "text/plain": [
       "1506802504"
      ]
     },
     "metadata": {},
     "execution_count": 13
    }
   ],
   "source": [
    "%%time\n",
    "len(ddf)"
   ]
  },
  {
   "cell_type": "code",
   "execution_count": 14,
   "metadata": {},
   "outputs": [
    {
     "output_type": "stream",
     "name": "stdout",
     "text": [
      "CPU times: user 155 ms, sys: 30.4 ms, total: 186 ms\nWall time: 1min 18s\n"
     ]
    },
    {
     "output_type": "execute_result",
     "data": {
      "text/plain": [
       "1506802504"
      ]
     },
     "metadata": {},
     "execution_count": 14
    }
   ],
   "source": [
    "%%time\n",
    "len(ddf)"
   ]
  },
  {
   "cell_type": "code",
   "execution_count": 15,
   "metadata": {},
   "outputs": [
    {
     "output_type": "stream",
     "name": "stdout",
     "text": [
      "CPU times: user 3.77 s, sys: 142 ms, total: 3.91 s\nWall time: 4min 6s\n"
     ]
    },
    {
     "output_type": "execute_result",
     "data": {
      "text/plain": [
       "           latitude     longitude     elevation     windAngle     windSpeed  \\\n",
       "count  1.506802e+09  1.506803e+09  1.506803e+09  1.210044e+09  1.256867e+09   \n",
       "mean   3.737169e+01 -3.929356e+01  3.967938e+02  1.651766e+02  3.433093e+00   \n",
       "std    2.167534e+01  7.860413e+01  6.299284e+02  1.144986e+02  2.861140e+00   \n",
       "min   -9.000000e+01 -1.799990e+02 -3.880000e+02  0.000000e+00  0.000000e+00   \n",
       "25%    3.404700e+01 -9.526600e+01  4.400000e+01  8.000000e+01  2.000000e+00   \n",
       "50%    4.161600e+01 -7.115000e+01  2.000000e+02  1.900000e+02  3.100000e+00   \n",
       "75%    4.913300e+01  1.745000e+01  5.480000e+02  2.800000e+02  5.700000e+00   \n",
       "max    8.733300e+01  9.999990e+02  9.999000e+03  3.600000e+02  9.000000e+01   \n",
       "\n",
       "        temperature  seaLvlPressure  presentWeatherIndicator  \\\n",
       "count  1.478103e+09    5.394822e+08             1.368751e+08   \n",
       "mean   1.211181e+01    1.014643e+03             2.996899e+01   \n",
       "std    1.244856e+01    9.340864e+00             2.937689e+01   \n",
       "min   -9.130000e+01    8.600000e+02             0.000000e+00   \n",
       "25%    8.800000e+00    1.011500e+03             1.000000e+01   \n",
       "50%    1.600000e+01    1.016900e+03             5.000000e+01   \n",
       "75%    2.740000e+01    1.025800e+03             7.100000e+01   \n",
       "max    6.170000e+01    1.090000e+03             9.900000e+01   \n",
       "\n",
       "       pastWeatherIndicator    precipTime   precipDepth     snowDepth  \\\n",
       "count          5.570711e+07  3.204236e+08  3.204236e+08  8.952745e+06   \n",
       "mean           4.229705e+00  9.667262e+00  1.149292e+03  1.748470e+01   \n",
       "std            3.017572e+00  2.083517e+01  3.175199e+03  3.289746e+01   \n",
       "min            0.000000e+00  0.000000e+00  0.000000e+00  0.000000e+00   \n",
       "25%            2.000000e+00  1.000000e+00  0.000000e+00  1.000000e+00   \n",
       "50%            5.000000e+00  1.000000e+00  0.000000e+00  1.400000e+01   \n",
       "75%            8.000000e+00  1.200000e+01  9.999000e+03  6.200000e+01   \n",
       "max            9.000000e+00  9.900000e+01  9.999000e+03  9.990000e+02   \n",
       "\n",
       "               year           day       version  \n",
       "count  1.506803e+09  1.506803e+09  1.506803e+09  \n",
       "mean   2.014203e+03  1.570473e+01  1.000000e+00  \n",
       "std    3.637312e+00  8.816625e+00  0.000000e+00  \n",
       "min    2.008000e+03  1.000000e+00  1.000000e+00  \n",
       "25%    2.011000e+03  8.000000e+00  1.000000e+00  \n",
       "50%    2.014000e+03  1.600000e+01  1.000000e+00  \n",
       "75%    2.017000e+03  2.400000e+01  1.000000e+00  \n",
       "max    2.020000e+03  3.100000e+01  1.000000e+00  "
      ],
      "text/html": "<div>\n<style scoped>\n    .dataframe tbody tr th:only-of-type {\n        vertical-align: middle;\n    }\n\n    .dataframe tbody tr th {\n        vertical-align: top;\n    }\n\n    .dataframe thead th {\n        text-align: right;\n    }\n</style>\n<table border=\"1\" class=\"dataframe\">\n  <thead>\n    <tr style=\"text-align: right;\">\n      <th></th>\n      <th>latitude</th>\n      <th>longitude</th>\n      <th>elevation</th>\n      <th>windAngle</th>\n      <th>windSpeed</th>\n      <th>temperature</th>\n      <th>seaLvlPressure</th>\n      <th>presentWeatherIndicator</th>\n      <th>pastWeatherIndicator</th>\n      <th>precipTime</th>\n      <th>precipDepth</th>\n      <th>snowDepth</th>\n      <th>year</th>\n      <th>day</th>\n      <th>version</th>\n    </tr>\n  </thead>\n  <tbody>\n    <tr>\n      <th>count</th>\n      <td>1.506802e+09</td>\n      <td>1.506803e+09</td>\n      <td>1.506803e+09</td>\n      <td>1.210044e+09</td>\n      <td>1.256867e+09</td>\n      <td>1.478103e+09</td>\n      <td>5.394822e+08</td>\n      <td>1.368751e+08</td>\n      <td>5.570711e+07</td>\n      <td>3.204236e+08</td>\n      <td>3.204236e+08</td>\n      <td>8.952745e+06</td>\n      <td>1.506803e+09</td>\n      <td>1.506803e+09</td>\n      <td>1.506803e+09</td>\n    </tr>\n    <tr>\n      <th>mean</th>\n      <td>3.737169e+01</td>\n      <td>-3.929356e+01</td>\n      <td>3.967938e+02</td>\n      <td>1.651766e+02</td>\n      <td>3.433093e+00</td>\n      <td>1.211181e+01</td>\n      <td>1.014643e+03</td>\n      <td>2.996899e+01</td>\n      <td>4.229705e+00</td>\n      <td>9.667262e+00</td>\n      <td>1.149292e+03</td>\n      <td>1.748470e+01</td>\n      <td>2.014203e+03</td>\n      <td>1.570473e+01</td>\n      <td>1.000000e+00</td>\n    </tr>\n    <tr>\n      <th>std</th>\n      <td>2.167534e+01</td>\n      <td>7.860413e+01</td>\n      <td>6.299284e+02</td>\n      <td>1.144986e+02</td>\n      <td>2.861140e+00</td>\n      <td>1.244856e+01</td>\n      <td>9.340864e+00</td>\n      <td>2.937689e+01</td>\n      <td>3.017572e+00</td>\n      <td>2.083517e+01</td>\n      <td>3.175199e+03</td>\n      <td>3.289746e+01</td>\n      <td>3.637312e+00</td>\n      <td>8.816625e+00</td>\n      <td>0.000000e+00</td>\n    </tr>\n    <tr>\n      <th>min</th>\n      <td>-9.000000e+01</td>\n      <td>-1.799990e+02</td>\n      <td>-3.880000e+02</td>\n      <td>0.000000e+00</td>\n      <td>0.000000e+00</td>\n      <td>-9.130000e+01</td>\n      <td>8.600000e+02</td>\n      <td>0.000000e+00</td>\n      <td>0.000000e+00</td>\n      <td>0.000000e+00</td>\n      <td>0.000000e+00</td>\n      <td>0.000000e+00</td>\n      <td>2.008000e+03</td>\n      <td>1.000000e+00</td>\n      <td>1.000000e+00</td>\n    </tr>\n    <tr>\n      <th>25%</th>\n      <td>3.404700e+01</td>\n      <td>-9.526600e+01</td>\n      <td>4.400000e+01</td>\n      <td>8.000000e+01</td>\n      <td>2.000000e+00</td>\n      <td>8.800000e+00</td>\n      <td>1.011500e+03</td>\n      <td>1.000000e+01</td>\n      <td>2.000000e+00</td>\n      <td>1.000000e+00</td>\n      <td>0.000000e+00</td>\n      <td>1.000000e+00</td>\n      <td>2.011000e+03</td>\n      <td>8.000000e+00</td>\n      <td>1.000000e+00</td>\n    </tr>\n    <tr>\n      <th>50%</th>\n      <td>4.161600e+01</td>\n      <td>-7.115000e+01</td>\n      <td>2.000000e+02</td>\n      <td>1.900000e+02</td>\n      <td>3.100000e+00</td>\n      <td>1.600000e+01</td>\n      <td>1.016900e+03</td>\n      <td>5.000000e+01</td>\n      <td>5.000000e+00</td>\n      <td>1.000000e+00</td>\n      <td>0.000000e+00</td>\n      <td>1.400000e+01</td>\n      <td>2.014000e+03</td>\n      <td>1.600000e+01</td>\n      <td>1.000000e+00</td>\n    </tr>\n    <tr>\n      <th>75%</th>\n      <td>4.913300e+01</td>\n      <td>1.745000e+01</td>\n      <td>5.480000e+02</td>\n      <td>2.800000e+02</td>\n      <td>5.700000e+00</td>\n      <td>2.740000e+01</td>\n      <td>1.025800e+03</td>\n      <td>7.100000e+01</td>\n      <td>8.000000e+00</td>\n      <td>1.200000e+01</td>\n      <td>9.999000e+03</td>\n      <td>6.200000e+01</td>\n      <td>2.017000e+03</td>\n      <td>2.400000e+01</td>\n      <td>1.000000e+00</td>\n    </tr>\n    <tr>\n      <th>max</th>\n      <td>8.733300e+01</td>\n      <td>9.999990e+02</td>\n      <td>9.999000e+03</td>\n      <td>3.600000e+02</td>\n      <td>9.000000e+01</td>\n      <td>6.170000e+01</td>\n      <td>1.090000e+03</td>\n      <td>9.900000e+01</td>\n      <td>9.000000e+00</td>\n      <td>9.900000e+01</td>\n      <td>9.999000e+03</td>\n      <td>9.990000e+02</td>\n      <td>2.020000e+03</td>\n      <td>3.100000e+01</td>\n      <td>1.000000e+00</td>\n    </tr>\n  </tbody>\n</table>\n</div>"
     },
     "metadata": {},
     "execution_count": 15
    }
   ],
   "source": [
    "%%time\n",
    "ddf.describe().compute()"
   ]
  },
  {
   "cell_type": "code",
   "execution_count": 16,
   "metadata": {},
   "outputs": [
    {
     "output_type": "stream",
     "name": "stdout",
     "text": [
      "ddf is 741.0 GBs\nCPU times: user 286 ms, sys: 55.5 ms, total: 341 ms\nWall time: 2min 39s\n"
     ]
    }
   ],
   "source": [
    "%%time\n",
    "gbs = ddf.memory_usage(index=True, deep=True).sum().compute() / 1e9\n",
    "print(f\"ddf is {gbs} GBs\")"
   ]
  }
 ],
 "metadata": {
  "kernelspec": {
   "display_name": "Python 3.8.5 64-bit ('dkdc': conda)",
   "metadata": {
    "interpreter": {
     "hash": "6813bb6deec483ed15ac37ef074baa52622250b2b65156cf2f3313d85d7e0391"
    }
   },
   "name": "Python 3.8.5 64-bit ('dkdc': conda)"
  },
  "language_info": {
   "codemirror_mode": {
    "name": "ipython",
    "version": 3
   },
   "file_extension": ".py",
   "mimetype": "text/x-python",
   "name": "python",
   "nbconvert_exporter": "python",
   "pygments_lexer": "ipython3",
   "version": "3.8.5-final"
  }
 },
 "nbformat": 4,
 "nbformat_minor": 2
}