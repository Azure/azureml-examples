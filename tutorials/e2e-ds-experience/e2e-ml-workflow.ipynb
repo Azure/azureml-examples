{
 "cells": [
  {
   "cell_type": "markdown",
   "metadata": {},
   "source": [
    "# Tutorial: Create production ML pipelines with Python SDK v2 (preview) in a Jupyter notebook\n"
   ]
  },
  {
   "cell_type": "markdown",
   "metadata": {},
   "source": [
    "**Learning Objectives** - By the end of this two part tutorial, you should be able to use Azure Machine Learning (Azure ML) to productionize your ML project.\n",
    "\n",
    "This means you will be able to leverage the AzureML Python SDK to:\n",
    "\n",
    "- connect to your Azure ML workspace\n",
    "- create Azure ML data assets\n",
    "- create reusable Azure ML components\n",
    "- create, validate and run Azure ML pipelines\n",
    "- deploy the newly-trained model as an endpoint\n",
    "- call the Azure ML endpoint for inferencing"
   ]
  },
  {
   "cell_type": "markdown",
   "metadata": {},
   "source": [
    "**Motivations** - This tutorial is intended to introduce Azure ML to data scientists who want to scale up or publish their ML projects. By completing a familiar end-to-end project, which starts by loading the data and ends by creating and calling an online inference endpoint, the user should become familiar with the core concepts of Azure ML and their most common usage. Each step of this tutorial can be modified or performed in other ways that might have security or scalability advantages. We will cover some of those in the Part II of this tutorial, however, we suggest the reader use the provide links in each section to learn more on each topic."
   ]
  },
  {
   "cell_type": "markdown",
   "metadata": {},
   "source": [
    "**Requirements** - In order to benefit from this tutorial, you need to have:\n",
    "- basic understanding of Machine Learning projects workflow\n",
    "- an Azure subscription. If you don't have an Azure subscription, [create a free account](https://aka.ms/AMLFree) before you begin.\n",
    "- a working Azure ML workspace. A workspace can be created via Azure Portal, Azure CLI, or Python SDK. [Read more](https://docs.microsoft.com/en-us/azure/machine-learning/how-to-manage-workspace?tabs=python).\n",
    "- a Python environmnet\n",
    "- [installed Azure Machine Learning Python SDK v2](https://github.com/Azure/azureml-examples/blob/sdk-preview/sdk/setup.sh)"
   ]
  },
  {
   "cell_type": "markdown",
   "metadata": {},
   "source": [
    "## Introduction\n",
    "\n",
    "In this tutorial, you'll create an Azure ML pipeline to train a model for credit default prediction. The pipeline handles the data preparation, training and registering the trained model.  You'll then run the pipeline, deploy the model and use it.\n",
    "\n",
    "The image below shows the pipeline as you'll see it in the AzureML portal once submitted. It's a rather simple pipeline we'll use to walk you through the AzureML SDK v2.\n",
    "\n",
    "The two steps are first data preparation and second training. \n",
    "\n",
    "![Screenshot that shows the AML Pipeline](media/pipeline-overview.jpg \"Overview of the pipeline\")\n",
    "\n",
    "An AzureML pipeline that runs from local components, requires several dependent files. Fo better understanding of the project structure, we produce all these dependencies in the notebook cells. By the end of this tutorial, the project structure should look like:\n",
    "```\n",
    "e2e-ds-experience  \n",
    "    components\n",
    "        data_prep\n",
    "            data_prep.py\n",
    "            data_prep.yml     \n",
    "        train\n",
    "            train.py\n",
    "            train.yml   \n",
    "    dependencies\n",
    "        conda.yml\n",
    "    deploy\n",
    "        sample-request.json\n",
    "    media\n",
    "        metrics.jpg\n",
    "        pipeline-overview.jpg\n",
    "        user-logs.jpg\n",
    "    e2e-ml-workflow.ipynb\n",
    "```\n",
    "After running this notebook, you should be able to create the project direcetly in the IDE of your choice, instead.\n",
    "\n",
    "## Set up the pipeline resources\n",
    "\n",
    "The Azure ML framework can be used from CLI, Python SDK, or studio interface. In this example, you'll use the AzureML Python SDK v2 to create a pipeline. \n",
    "\n",
    "Before creating the pipeline, you'll set up the resources the pipeline will use:\n",
    "\n",
    "* The dataset for training\n",
    "* The software environment to run the pipeline\n",
    "* A compute resource to where the job will run\n",
    "\n",
    "## Connect to the workspace\n",
    "\n",
    "Before we dive in the code, you'll need to connect to your Azure ML workspace. The workspace is the top-level resource for Azure Machine Learning, providing a centralized place to work with all the artifacts you create when you use Azure Machine Learning.\n",
    "\n",
    "We are using `DefaultAzureCredential` to get access to workspace. \n",
    "`DefaultAzureCredential` should be capable of handling most Azure SDK authentication scenarios. \n",
    "\n",
    "Reference for more available credentials if it does not work for you: [configure credential example](../../configuration.ipynb), [azure-identity reference doc](https://docs.microsoft.com/en-us/python/api/azure-identity/azure.identity?view=azure-python)."
   ]
  },
  {
   "cell_type": "code",
   "execution_count": 1,
   "metadata": {
    "attributes": {
     "classes": [
      "Python"
     ],
     "id": ""
    },
    "name": "import-mlclient"
   },
   "outputs": [
    {
     "name": "stderr",
     "output_type": "stream",
     "text": [
      "DefaultAzureCredential failed to retrieve a token from the included credentials.\n",
      "Attempted credentials:\n",
      "\tEnvironmentCredential: EnvironmentCredential authentication unavailable. Environment variables are not fully configured.\n",
      "Visit https://aka.ms/azsdk/python/identity/environmentcredential/troubleshoot to troubleshoot.this issue.\n",
      "\tManagedIdentityCredential: ManagedIdentityCredential authentication unavailable, no response from the IMDS endpoint.\n",
      "\tSharedTokenCacheCredential: Shared token cache unavailable\n",
      "\tVisualStudioCodeCredential: Azure Active Directory error '(invalid_grant) AADSTS700082: The refresh token has expired due to inactivity. The token was issued on 2022-02-04T22:17:07.9688552Z and was inactive for 90.00:00:00.\n",
      "Trace ID: 0184d10c-da1c-44b6-9ecc-479b80b7bd00\n",
      "Correlation ID: 980053d1-2b13-4849-9266-d0238992c181\n",
      "Timestamp: 2022-05-18 21:56:52Z'\n",
      "Content: {\"error\":\"invalid_grant\",\"error_description\":\"AADSTS700082: The refresh token has expired due to inactivity. The token was issued on 2022-02-04T22:17:07.9688552Z and was inactive for 90.00:00:00.\\r\\nTrace ID: 0184d10c-da1c-44b6-9ecc-479b80b7bd00\\r\\nCorrelation ID: 980053d1-2b13-4849-9266-d0238992c181\\r\\nTimestamp: 2022-05-18 21:56:52Z\",\"error_codes\":[700082],\"timestamp\":\"2022-05-18 21:56:52Z\",\"trace_id\":\"0184d10c-da1c-44b6-9ecc-479b80b7bd00\",\"correlation_id\":\"980053d1-2b13-4849-9266-d0238992c181\",\"error_uri\":\"https://login.microsoftonline.com/error?code=700082\"}\n",
      "To mitigate this issue, please refer to the troubleshooting guidelines here at https://aka.ms/azsdk/python/identity/defaultazurecredential/troubleshoot.\n"
     ]
    }
   ],
   "source": [
    "# Handle to the workspace\n",
    "from azure.ai.ml import MLClient\n",
    "\n",
    "# Authentication package\n",
    "from azure.identity import DefaultAzureCredential, InteractiveBrowserCredential\n",
    "\n",
    "try:\n",
    "    credential = DefaultAzureCredential()\n",
    "    # Check if given credential can get token successfully.\n",
    "    credential.get_token(\"https://management.azure.com/.default\")\n",
    "except Exception as ex:\n",
    "    # Fall back to InteractiveBrowserCredential in case DefaultAzureCredential not work\n",
    "    credential = InteractiveBrowserCredential()"
   ]
  },
  {
   "cell_type": "markdown",
   "metadata": {},
   "source": [
    "In the next cell, enter your Subscription ID, Resource Group name and Workspace name. To find your Subscription ID:\n",
    "1. In the upper right Azure Machine Learning Studio toolbar, select your workspace name.\n",
    "1. At the bottom, select **View all properties in Azure Portal**\n",
    "1. Copy the value from Azure Portal into the code."
   ]
  },
  {
   "cell_type": "code",
   "execution_count": 2,
   "metadata": {
    "attributes": {
     "classes": [
      "Python"
     ],
     "id": ""
    },
    "name": "ml_client"
   },
   "outputs": [],
   "source": [
    "# Get a handle to the workspace\n",
    "ml_client = MLClient(\n",
    "    credential=credential,\n",
    "    subscription_id=\"<SUBSCRIPTION_ID>\",\n",
    "    resource_group_name=\"<RESOURCE_GROUP>\",\n",
    "    workspace_name=\"<AML_WORKSPACE_NAME>\",\n",
    ")"
   ]
  },
  {
   "cell_type": "code",
   "execution_count": 3,
   "metadata": {},
   "outputs": [],
   "source": [
    "ml_client = MLClient(\n",
    "    credential=credential,\n",
    "    subscription_id=\"0bda0759-4545-499e-8460-98f94f96ec48\",\n",
    "    resource_group_name=\"image-relevance-rg\",\n",
    "    workspace_name=\"image-relevance-ws\",\n",
    ")"
   ]
  },
  {
   "cell_type": "markdown",
   "metadata": {},
   "source": [
    "The result is a handler to the workspace that you'll use to manage other resources and jobs.\n",
    "\n",
    "> [!IMPORTANT]\n",
    "> Creating MLClient will not connect to the workspace. The client initialization is lazy, it will wait for the first time it needs to make a call (in the notebook below, that will happen during dataset registration).\n",
    "\n",
    "## Register data from an external url\n",
    "\n",
    "The data you use for training is usually in one of the locations below:\n",
    "\n",
    "* Local machine\n",
    "* Web\n",
    "* Big Data Storage services (for example, Azure Blob, Azure Data Lake Storage, SQL)\n",
    " \n",
    "Azure ML uses a `Data` object to register a reusable definition of data, and consume data within a pipeline. In the section below, you'll consume some data from web url as one example. Datasets from other sources can be created as well."
   ]
  },
  {
   "cell_type": "code",
   "execution_count": 4,
   "metadata": {
    "name": "credit_data"
   },
   "outputs": [],
   "source": [
    "from azure.ai.ml.entities import Data\n",
    "from azure.ai.ml.constants import AssetTypes\n",
    "\n",
    "web_path = \"https://archive.ics.uci.edu/ml/machine-learning-databases/00350/default%20of%20credit%20card%20clients.xls\"\n",
    "\n",
    "credit_data = Data(\n",
    "    name=\"creditcard_defaults\",\n",
    "    path=web_path,\n",
    "    type=AssetTypes.URI_FILE,\n",
    "    description=\"Dataset for credit card defaults\",\n",
    "    tags={\"source_type\": \"web\", \"source\": \"UCI ML Repo\"},\n",
    "    version=\"1.0.0\",\n",
    ")"
   ]
  },
  {
   "cell_type": "markdown",
   "metadata": {},
   "source": [
    "This code just created a `Data` asset, it is ready to be consumed as an input by the pipeline that you'll define in the next sections. In addition, you can register the dataset to your workspace so it becomes reusable across pipelines.\n",
    "\n",
    "Registering the dataset will enable you to:\n",
    "\n",
    "* Reuse and share the dataset in future pipelines\n",
    "* Use versions to track the modification to the dataset\n",
    "* Use the dataset from Azure ML designer, which is Azure ML's GUI for pipeline authoring\n",
    "\n",
    "Since this is the first time that you're making a call to the workspace, you may be asked to authenticate. Once the authentication is complete, you'll then see the dataset registration completion message."
   ]
  },
  {
   "cell_type": "code",
   "execution_count": 5,
   "metadata": {
    "attributes": {
     "classes": [
      "Python"
     ],
     "id": ""
    },
    "name": "update-credit_data"
   },
   "outputs": [
    {
     "name": "stdout",
     "output_type": "stream",
     "text": [
      "Dataset with name creditcard_defaults was registered to workspace, the dataset version is 1.0.0\n"
     ]
    }
   ],
   "source": [
    "credit_data = ml_client.data.create_or_update(credit_data)\n",
    "print(\n",
    "    f\"Dataset with name {credit_data.name} was registered to workspace, the dataset version is {credit_data.version}\"\n",
    ")"
   ]
  },
  {
   "cell_type": "markdown",
   "metadata": {},
   "source": [
    "In the future, you can fetch the same dataset from the workspace using `credit_dataset = ml_client.data.get(\"<DATA ASSET NAME>\", version='<VERSION>')`.\n",
    "\n",
    "## Create a Compute Resource to run our pipeline\n",
    "\n",
    "Each step of an Azure ML pipeline can use a different compute resource for running the specific job of that step. It can be single or multi-node machines with Linux or Windows OS, or a specific compute fabric like Spark.\n",
    "\n",
    "In this section, we provision a Linux compute cluster. You can check [here](https://azure.microsoft.com/en-ca/pricing/details/machine-learning/) for a full list on VM sizes and prices.\n",
    "\n",
    "For this tutorial we only need a basic cluster, let's pick a Standard_DS3_v2 model with 2 vCPU cores, 7 GB RAM and create an Azure ML Compute"
   ]
  },
  {
   "cell_type": "code",
   "execution_count": 6,
   "metadata": {},
   "outputs": [
    {
     "name": "stdout",
     "output_type": "stream",
     "text": [
      "You already have a cluster named cpu-cluster, we'll reuse it as is.\n",
      "AMLCompute with name cpu-cluster is created, the compute size is STANDARD_DS11_V2\n"
     ]
    }
   ],
   "source": [
    "from azure.ai.ml.entities import AmlCompute\n",
    "\n",
    "cpu_compute_target = \"cpu-cluster\"\n",
    "\n",
    "try:\n",
    "    # let's see if the compute target already exists\n",
    "    cpu_cluster = ml_client.compute.get(cpu_compute_target)\n",
    "    print(\n",
    "        f\"You already have a cluster named {cpu_compute_target}, we'll reuse it as is.\"\n",
    "    )\n",
    "\n",
    "except Exception:\n",
    "    print(\"Creating a new cpu compute target...\")\n",
    "\n",
    "    # Let's create the Azure ML compute object with the intended parameters\n",
    "    cpu_cluster = AmlCompute(\n",
    "        # Name assigned to the compute cluster\n",
    "        name=\"cpu-cluster\",\n",
    "        # Azure ML Compute is the on-demand VM service\n",
    "        type=\"amlcompute\",\n",
    "        # VM Family\n",
    "        size=\"STANDARD_DS3_V2\",\n",
    "        # Minimum running nodes when there is no job running\n",
    "        min_instances=0,\n",
    "        # Nodes in cluster\n",
    "        max_instances=4,\n",
    "        # How many seconds will the node running after the job termination\n",
    "        idle_time_before_scale_down=180,\n",
    "        # Dedicated or LowPriority. The latter is cheaper but there is a chance of job termination\n",
    "        tier=\"Dedicated\",\n",
    "    )\n",
    "\n",
    "    # Now, we pass the object to MLClient's create_or_update method\n",
    "    cpu_cluster = ml_client.begin_create_or_update(cpu_cluster)\n",
    "\n",
    "print(\n",
    "    f\"AMLCompute with name {cpu_cluster.name} is created, the compute size is {cpu_cluster.size}\"\n",
    ")"
   ]
  },
  {
   "cell_type": "markdown",
   "metadata": {},
   "source": [
    "## Create a job environment for pipeline steps\n",
    "\n",
    "So far, you've created a development environment on the compute instance, your development machine. You'll also need an environment to use for each step of the pipeline. Each step can have its own environment, or you can use some common environments for multiple steps.\n",
    "\n",
    "In this example, you'll create a conda environment for your jobs, using a conda yaml file.\n",
    "First, create a directory to store the file in."
   ]
  },
  {
   "cell_type": "code",
   "execution_count": 7,
   "metadata": {
    "name": "dependencies_dir"
   },
   "outputs": [],
   "source": [
    "import os\n",
    "\n",
    "dependencies_dir = \"./dependencies\"\n",
    "os.makedirs(dependencies_dir, exist_ok=True)"
   ]
  },
  {
   "cell_type": "markdown",
   "metadata": {},
   "source": [
    "Now, create the file in the dependencies directory."
   ]
  },
  {
   "cell_type": "code",
   "execution_count": 8,
   "metadata": {
    "attributes": {
     "classes": [
      "Python"
     ],
     "id": ""
    },
    "name": "conda.yml"
   },
   "outputs": [
    {
     "name": "stdout",
     "output_type": "stream",
     "text": [
      "Overwriting ./dependencies/conda.yml\n"
     ]
    }
   ],
   "source": [
    "%%writefile {dependencies_dir}/conda.yml\n",
    "name: model-env\n",
    "channels:\n",
    "  - conda-forge\n",
    "dependencies:\n",
    "  - python=3.8\n",
    "  - numpy=1.21.2\n",
    "  - pip=21.2.4\n",
    "  - scikit-learn=0.24.2\n",
    "  - scipy=1.7.1\n",
    "  - pandas>=1.1,<1.2\n",
    "  - pip:\n",
    "    - inference-schema[numpy-support]==1.3.0\n",
    "    - xlrd==2.0.1\n",
    "    - mlflow== 1.26.0\n",
    "    - azureml-mlflow==1.41.0"
   ]
  },
  {
   "cell_type": "markdown",
   "metadata": {},
   "source": [
    "The specification contains some usual packages, that you'll use in your pipeline (numpy, pip).\n",
    "\n",
    "\n",
    "Use the *yaml* file to create and register this custom environment in your workspace:"
   ]
  },
  {
   "cell_type": "code",
   "execution_count": 9,
   "metadata": {
    "attributes": {
     "classes": [
      "Python"
     ],
     "id": ""
    },
    "name": "custom_env_name"
   },
   "outputs": [
    {
     "name": "stdout",
     "output_type": "stream",
     "text": [
      "Environment with name aml-scikit-learn is registered to workspace, the environment version is 1.0.3\n"
     ]
    }
   ],
   "source": [
    "from azure.ai.ml.entities import Environment\n",
    "\n",
    "custom_env_name = \"aml-scikit-learn\"\n",
    "\n",
    "pipeline_job_env = Environment(\n",
    "    name=custom_env_name,\n",
    "    description=\"Custom environment for Credit Card Defaults pipeline\",\n",
    "    tags={\"scikit-learn\": \"0.24.2\"},\n",
    "    conda_file=os.path.join(dependencies_dir, \"conda.yml\"),\n",
    "    image=\"mcr.microsoft.com/azureml/openmpi3.1.2-ubuntu18.04:latest\",\n",
    "    version=\"1.0.3\",\n",
    ")\n",
    "pipeline_job_env = ml_client.environments.create_or_update(pipeline_job_env)\n",
    "\n",
    "print(\n",
    "    f\"Environment with name {pipeline_job_env.name} is registered to workspace, the environment version is {pipeline_job_env.version}\"\n",
    ")"
   ]
  },
  {
   "cell_type": "markdown",
   "metadata": {},
   "source": [
    "## Build the training pipeline\n",
    "\n",
    "Now that you have all assets required to run your pipeline, it's time to build the pipeline itself, using the Azure ML Python SDK v2.\n",
    "\n",
    "Azure ML pipelines are reusable ML workflows that usually consist of several components. The typical life of a component is:\n",
    "\n",
    "* Write the yaml specification of the component.\n",
    "* Optionally, register the component with a name and version in your workspace, to make it reusable and shareable.\n",
    "* Load that component from the pipeline code.\n",
    "* Implement the pipeline using this component inputs, outputs and parameters.\n",
    "* Submit the pipeline.\n",
    "\n",
    "## Create component 1: data prep (using programmatic definition)\n",
    "\n",
    "Let's start by creating the first component. This component handles the preprocessing of the data. The preprocessing task is performed in the *data_prep.py* python file.\n",
    "\n",
    "First create a source folder for the data_prep component:"
   ]
  },
  {
   "cell_type": "code",
   "execution_count": 10,
   "metadata": {
    "attributes": {
     "classes": [
      "Python"
     ],
     "id": ""
    },
    "name": "data_prep_src_dir"
   },
   "outputs": [],
   "source": [
    "import os\n",
    "\n",
    "data_prep_src_dir = \"./components/data_prep\"\n",
    "os.makedirs(data_prep_src_dir, exist_ok=True)"
   ]
  },
  {
   "cell_type": "markdown",
   "metadata": {},
   "source": [
    "This script performs the simple task of splitting the data into train and test datasets. \n",
    "\n",
    "[MLFlow](https://mlflow.org/docs/latest/tracking.html) will be used to log the parameters and metrics during our pipeline run."
   ]
  },
  {
   "cell_type": "code",
   "execution_count": 11,
   "metadata": {
    "attributes": {
     "classes": [
      "Python"
     ],
     "id": ""
    },
    "name": "def-main"
   },
   "outputs": [
    {
     "name": "stdout",
     "output_type": "stream",
     "text": [
      "Overwriting ./components/data_prep/data_prep.py\n"
     ]
    }
   ],
   "source": [
    "%%writefile {data_prep_src_dir}/data_prep.py\n",
    "import os\n",
    "import argparse\n",
    "import pandas as pd\n",
    "from sklearn.model_selection import train_test_split\n",
    "import logging\n",
    "import mlflow\n",
    "\n",
    "\n",
    "def main():\n",
    "    \"\"\"Main function of the script.\"\"\"\n",
    "\n",
    "    # input and output arguments\n",
    "    parser = argparse.ArgumentParser()\n",
    "    parser.add_argument(\"--data\", type=str, help=\"path to input data\")\n",
    "    parser.add_argument(\"--test_train_ratio\", type=float, required=False, default=0.25)\n",
    "    parser.add_argument(\"--train_data\", type=str, help=\"path to train data\")\n",
    "    parser.add_argument(\"--test_data\", type=str, help=\"path to test data\")\n",
    "    args = parser.parse_args()\n",
    "\n",
    "    # Start Logging\n",
    "    mlflow.start_run()\n",
    "\n",
    "    print(\" \".join(f\"{k}={v}\" for k, v in vars(args).items()))\n",
    "\n",
    "    print(\"input data:\", args.data)\n",
    "\n",
    "    credit_df = pd.read_excel(args.data, header=1, index_col=0)\n",
    "\n",
    "    mlflow.log_metric(\"num_samples\", credit_df.shape[0])\n",
    "    mlflow.log_metric(\"num_features\", credit_df.shape[1] - 1)\n",
    "\n",
    "    credit_train_df, credit_test_df = train_test_split(\n",
    "        credit_df,\n",
    "        test_size=args.test_train_ratio,\n",
    "    )\n",
    "\n",
    "    # output paths are mounted as folder, therefore, we are adding a filename to the path\n",
    "    credit_train_df.to_csv(os.path.join(args.train_data, \"data.csv\"), index=False)\n",
    "\n",
    "    credit_test_df.to_csv(os.path.join(args.test_data, \"data.csv\"), index=False)\n",
    "\n",
    "    # Stop Logging\n",
    "    mlflow.end_run()\n",
    "\n",
    "\n",
    "if __name__ == \"__main__\":\n",
    "    main()"
   ]
  },
  {
   "cell_type": "markdown",
   "metadata": {},
   "source": [
    "Now that you have a script that can perform the desired task, we can create an Azure ML Component from it. Azure ML support various types of components for performing ML tasks, such as running scripts, data transfer, etc.\n",
    "\n",
    "You'll use the general purpose **CommandComponent** that can run command line actions. This command line action can be directly calling system commands or running a script. The inputs/outputs are accessible in the command via the `${{ ... }}` notation.\n",
    "\n",
    "A component can be created by calling the component instantiators, or directly writing the defining yaml file. For this tutorial we will use `yaml` definitions."
   ]
  },
  {
   "cell_type": "code",
   "execution_count": 33,
   "metadata": {},
   "outputs": [],
   "source": [
    "from azure.ai.ml import command\n",
    "from azure.ai.ml import Input, Output\n",
    "\n",
    "data_prep_component = command(\n",
    "    name=\"data_prep_credit_defaults\",\n",
    "    display_name=\"Data preparation for training\",\n",
    "    description=\"reads a .xl input, split the input to train and test\",\n",
    "    inputs={\n",
    "        \"data\": Input(),\n",
    "        \"test_train_ratio\": Input(type=\"number\", default=0.25),\n",
    "    },\n",
    "    outputs=dict(\n",
    "        train_data=Output(type=\"uri_folder\", mode=\"rw_mount\"),\n",
    "        test_data=Output(type=\"uri_folder\", mode=\"rw_mount\"),\n",
    "    ),\n",
    "    # The source folder of the component\n",
    "    code=data_prep_src_dir,\n",
    "    command=\"\"\"python data_prep.py \\\n",
    "            --data ${{inputs.data}} --test_train_ratio ${{inputs.test_train_ratio}} \\\n",
    "            --train_data ${{outputs.train_data}} --test_data ${{outputs.test_data}} \\\n",
    "            \"\"\",\n",
    "    environment=f\"{pipeline_job_env.name}:{pipeline_job_env.version}\",\n",
    ")"
   ]
  },
  {
   "cell_type": "code",
   "execution_count": 34,
   "metadata": {},
   "outputs": [],
   "source": [
    "# data_prep_component = ml_client.components.create_or_update(data_prep_component)\n",
    "# importing the Component Package\n",
    "# from azure.ai.ml import load_component\n",
    "\n",
    "# data_prep_component = load_component(component=data_prep_component)"
   ]
  },
  {
   "cell_type": "code",
   "execution_count": 112,
   "metadata": {
    "attributes": {
     "classes": [
      "Python"
     ],
     "id": ""
    },
    "name": "data_prep.yml"
   },
   "outputs": [
    {
     "name": "stdout",
     "output_type": "stream",
     "text": [
      "Overwriting ./components/data_prep/data_prep.yml\n"
     ]
    }
   ],
   "source": [
    "%%writefile {data_prep_src_dir}/data_prep.yml\n",
    "# <component>\n",
    "name: data_prep_credit_defaults\n",
    "display_name: Data preparation for training\n",
    "# version: 1 # Not specifying a version will automatically update the version\n",
    "type: command\n",
    "inputs:\n",
    "  data: \n",
    "    type: uri_folder\n",
    "  test_train_ratio:\n",
    "    type: number     \n",
    "outputs:\n",
    "  train_data:\n",
    "    type: uri_folder\n",
    "  test_data:\n",
    "    type: uri_folder\n",
    "code: .\n",
    "environment:\n",
    "  # for this step, we'll use an custom environment\n",
    "  azureml:aml-scikit-learn:1.0.3\n",
    "command: >-\n",
    "  python data_prep.py \n",
    "  --data ${{inputs.data}} --test_train_ratio ${{inputs.test_train_ratio}}\n",
    "  --train_data ${{outputs.train_data}} --test_data ${{outputs.test_data}}\n",
    "# </component>"
   ]
  },
  {
   "cell_type": "markdown",
   "metadata": {
    "nteract": {
     "transient": {
      "deleting": false
     }
    }
   },
   "source": [
    "Once the `yaml` file and the script are ready, you can create your component using `load_component()`. "
   ]
  },
  {
   "cell_type": "code",
   "execution_count": 113,
   "metadata": {
    "jupyter": {
     "outputs_hidden": false,
     "source_hidden": false
    },
    "name": "data_prep_component",
    "nteract": {
     "transient": {
      "deleting": false
     }
    }
   },
   "outputs": [],
   "source": [
    "# importing the Component Package\n",
    "from azure.ai.ml import load_component\n",
    "\n",
    "# Loading the component from the yml file\n",
    "data_prep_component = load_component(\n",
    "    path=os.path.join(data_prep_src_dir, \"data_prep.yml\")\n",
    ")"
   ]
  },
  {
   "cell_type": "markdown",
   "metadata": {
    "nteract": {
     "transient": {
      "deleting": false
     }
    }
   },
   "source": [
    "Optionally, register the component in the workspace for future re-use."
   ]
  },
  {
   "cell_type": "code",
   "execution_count": 114,
   "metadata": {
    "jupyter": {
     "outputs_hidden": false,
     "source_hidden": false
    },
    "name": "update-data_prep_component",
    "nteract": {
     "transient": {
      "deleting": false
     }
    }
   },
   "outputs": [
    {
     "name": "stderr",
     "output_type": "stream",
     "text": [
      "\u001b[32mUploading data_prep (0.0 MBs): 100%|##########| 2100/2100 [00:00<00:00, 11788.33it/s]\n",
      "\u001b[39m\n",
      "\n"
     ]
    },
    {
     "name": "stdout",
     "output_type": "stream",
     "text": [
      "Component data_prep_credit_defaults with Version 2022-05-18-19-39-40-1497138 is registered\n"
     ]
    }
   ],
   "source": [
    "data_prep_component = ml_client.create_or_update(data_prep_component)\n",
    "\n",
    "print(\n",
    "    f\"Component {data_prep_component.name} with Version {data_prep_component.version} is registered\"\n",
    ")"
   ]
  },
  {
   "cell_type": "markdown",
   "metadata": {},
   "source": [
    "## Create component 2: training (using yaml definition)\n",
    "\n",
    "The second component that you'll create will consume the training and test data, train a tree based model and return the output model. You'll use Azure ML logging capabilities to record and visualize the learning progress.\n",
    "\n",
    "You used the `CommandComponent` class to create your first component. This time you'll use the yaml definition to define the second component. Each method has its own advantages. A yaml definition can actually be checked-in along the code, and would provide a readable history tracking. The programmatic method using `CommandComponent` can be easier with built-in class documentation and code completion.\n",
    "\n",
    "\n",
    "Create the directory for this component:"
   ]
  },
  {
   "cell_type": "code",
   "execution_count": 25,
   "metadata": {
    "attributes": {
     "classes": [
      "Python"
     ],
     "id": ""
    },
    "name": "train_src_dir"
   },
   "outputs": [],
   "source": [
    "import os\n",
    "\n",
    "train_src_dir = \"./components/train\"\n",
    "os.makedirs(train_src_dir, exist_ok=True)"
   ]
  },
  {
   "cell_type": "markdown",
   "metadata": {},
   "source": [
    "Create the training script in the directory:"
   ]
  },
  {
   "cell_type": "code",
   "execution_count": 26,
   "metadata": {
    "attributes": {
     "classes": [
      "Python"
     ],
     "id": ""
    },
    "name": "train.py"
   },
   "outputs": [
    {
     "name": "stdout",
     "output_type": "stream",
     "text": [
      "Overwriting ./components/train/train.py\n"
     ]
    }
   ],
   "source": [
    "%%writefile {train_src_dir}/train.py\n",
    "import argparse\n",
    "from sklearn.ensemble import GradientBoostingClassifier\n",
    "from sklearn.metrics import classification_report\n",
    "import os\n",
    "import pandas as pd\n",
    "import mlflow\n",
    "\n",
    "\n",
    "def select_first_file(path):\n",
    "    \"\"\"Selects first file in folder, use under assumption there is only one file in folder\n",
    "    Args:\n",
    "        path (str): path to directory or file to choose\n",
    "    Returns:\n",
    "        str: full path of selected file\n",
    "    \"\"\"\n",
    "    files = os.listdir(path)\n",
    "    return os.path.join(path, files[0])\n",
    "\n",
    "\n",
    "# Start Logging\n",
    "mlflow.start_run()\n",
    "\n",
    "# enable autologging\n",
    "mlflow.sklearn.autolog()\n",
    "\n",
    "os.makedirs(\"./outputs\", exist_ok=True)\n",
    "\n",
    "\n",
    "def main():\n",
    "    \"\"\"Main function of the script.\"\"\"\n",
    "\n",
    "    # input and output arguments\n",
    "    parser = argparse.ArgumentParser()\n",
    "    parser.add_argument(\"--train_data\", type=str, help=\"path to train data\")\n",
    "    parser.add_argument(\"--test_data\", type=str, help=\"path to test data\")\n",
    "    parser.add_argument(\"--n_estimators\", required=False, default=100, type=int)\n",
    "    parser.add_argument(\"--learning_rate\", required=False, default=0.1, type=float)\n",
    "    parser.add_argument(\"--registered_model_name\", type=str, help=\"model name\")\n",
    "    parser.add_argument(\"--model\", type=str, help=\"path to model file\")\n",
    "    args = parser.parse_args()\n",
    "\n",
    "    # paths are mounted as folder, therefore, we are selecting the file from folder\n",
    "    train_df = pd.read_csv(select_first_file(args.train_data))\n",
    "\n",
    "    # Extracting the label column\n",
    "    y_train = train_df.pop(\"default payment next month\")\n",
    "\n",
    "    # convert the dataframe values to array\n",
    "    X_train = train_df.values\n",
    "\n",
    "    # paths are mounted as folder, therefore, we are selecting the file from folder\n",
    "    test_df = pd.read_csv(select_first_file(args.test_data))\n",
    "\n",
    "    # Extracting the label column\n",
    "    y_test = test_df.pop(\"default payment next month\")\n",
    "\n",
    "    # convert the dataframe values to array\n",
    "    X_test = test_df.values\n",
    "\n",
    "    print(f\"Training with data of shape {X_train.shape}\")\n",
    "\n",
    "    clf = GradientBoostingClassifier(\n",
    "        n_estimators=args.n_estimators, learning_rate=args.learning_rate\n",
    "    )\n",
    "    clf.fit(X_train, y_train)\n",
    "\n",
    "    y_pred = clf.predict(X_test)\n",
    "\n",
    "    print(classification_report(y_test, y_pred))\n",
    "\n",
    "    # Registering the model to the workspace\n",
    "    print(\"Registering the model via MLFlow\")\n",
    "    mlflow.sklearn.log_model(\n",
    "        sk_model=clf,\n",
    "        registered_model_name=args.registered_model_name,\n",
    "        artifact_path=args.registered_model_name,\n",
    "    )\n",
    "\n",
    "    # Saving the model to a file\n",
    "    mlflow.sklearn.save_model(\n",
    "        sk_model=clf,\n",
    "        path=os.path.join(args.model, \"trained_model\"),\n",
    "    )\n",
    "\n",
    "    # Stop Logging\n",
    "    mlflow.end_run()\n",
    "\n",
    "\n",
    "if __name__ == \"__main__\":\n",
    "    main()"
   ]
  },
  {
   "cell_type": "markdown",
   "metadata": {},
   "source": [
    "As you can see in this training script, once the model is trained, the model file is saved and registered to the workspace. Now you can use the registered model in inferencing endpoints.\n",
    "\n",
    "\n",
    "For the environment of this step, you'll use one of the built-in (curated) Azure ML environments. The tag `azureml`, tells the system to use look for the name in curated environments.\n",
    "\n",
    "First, create the *yaml* file describing the component:"
   ]
  },
  {
   "cell_type": "code",
   "execution_count": 27,
   "metadata": {
    "attributes": {
     "classes": [
      "Python"
     ],
     "id": ""
    },
    "name": "train.yml"
   },
   "outputs": [
    {
     "name": "stdout",
     "output_type": "stream",
     "text": [
      "Overwriting ./components/train/train.yml\n"
     ]
    }
   ],
   "source": [
    "%%writefile {train_src_dir}/train.yml\n",
    "# <component>\n",
    "name: train_credit_defaults_model\n",
    "display_name: Train Credit Defaults Model\n",
    "# version: 1 # Not specifying a version will automatically update the version\n",
    "type: command\n",
    "inputs:\n",
    "  train_data: \n",
    "    type: uri_folder\n",
    "  test_data: \n",
    "    type: uri_folder\n",
    "  learning_rate:\n",
    "    type: number     \n",
    "  registered_model_name:\n",
    "    type: string\n",
    "outputs:\n",
    "  model:\n",
    "    type: uri_folder\n",
    "code: .\n",
    "environment:\n",
    "  # for this step, we'll use an AzureML curate environment\n",
    "  azureml:AzureML-sklearn-0.24-ubuntu18.04-py37-cpu:21\n",
    "command: >-\n",
    "  python train.py \n",
    "  --train_data ${{inputs.train_data}} \n",
    "  --test_data ${{inputs.test_data}} \n",
    "  --learning_rate ${{inputs.learning_rate}}\n",
    "  --registered_model_name ${{inputs.registered_model_name}} \n",
    "  --model ${{outputs.model}}\n",
    "# </component>\n"
   ]
  },
  {
   "cell_type": "markdown",
   "metadata": {},
   "source": [
    "Now create and register the component:"
   ]
  },
  {
   "cell_type": "code",
   "execution_count": 28,
   "metadata": {
    "attributes": {
     "classes": [
      "Python"
     ],
     "id": ""
    },
    "name": "train_component"
   },
   "outputs": [],
   "source": [
    "# importing the Component Package\n",
    "from azure.ai.ml import load_component\n",
    "\n",
    "# Loading the component from the yml file\n",
    "train_component = load_component(path=os.path.join(train_src_dir, \"train.yml\"))"
   ]
  },
  {
   "cell_type": "code",
   "execution_count": 29,
   "metadata": {
    "attributes": {
     "classes": [
      "Python"
     ],
     "id": ""
    },
    "name": "update-train_component"
   },
   "outputs": [
    {
     "name": "stdout",
     "output_type": "stream",
     "text": [
      "Component train_credit_defaults_model with Version 2022-05-18-23-03-56-2388684 is registered\n"
     ]
    }
   ],
   "source": [
    "# Now we register the component to the workspace\n",
    "train_component = ml_client.create_or_update(train_component)\n",
    "\n",
    "# Create (register) the component in your workspace\n",
    "print(\n",
    "    f\"Component {train_component.name} with Version {train_component.version} is registered\"\n",
    ")"
   ]
  },
  {
   "cell_type": "markdown",
   "metadata": {},
   "source": [
    "## Create the pipeline from components\n",
    "\n",
    "Now that both your components are defined and registered, you can start implementing the pipeline."
   ]
  },
  {
   "cell_type": "markdown",
   "metadata": {},
   "source": [
    "Here, you'll use *input data*, *split ratio* and *registered model name* as input variables. Then call the components and connect them via their inputs /outputs identifiers. The outputs of each step can be accessed via the `.outputs` property."
   ]
  },
  {
   "cell_type": "markdown",
   "metadata": {
    "attributes": {
     "classes": [
      "Python"
     ],
     "id": ""
    }
   },
   "source": [
    "The python functions returned by `load_component()` work as any regular python function that we'll use within a pipeline to call each step.\n",
    "\n",
    "To code the pipeline, we use a specific `@dsl.pipeline` decorator that identifies the Azure ML pipelines. In the decorator, we can specify the pipeline description and default resources like compute and storage. Like a python function, pipelines can have inputs, you can then create multiple instances of a single pipeline with different inputs.\n",
    "\n",
    "Here, we used *input data*, *split ratio* and *registered model name* as input variables. We then call the components and connect them via their inputs /outputs identifiers. The outputs of each step can be accessed via the `.outputs` property."
   ]
  },
  {
   "cell_type": "code",
   "execution_count": 35,
   "metadata": {
    "attributes": {
     "classes": [
      "Python"
     ],
     "id": ""
    },
    "name": "pipeline"
   },
   "outputs": [],
   "source": [
    "# the dsl decorator tells the sdk that we are defining an Azure ML pipeline\n",
    "from azure.ai.ml import dsl, Input, Output\n",
    "\n",
    "\n",
    "@dsl.pipeline(\n",
    "    compute=cpu_compute_target,\n",
    "    description=\"E2E data_perp-train pipeline\",\n",
    ")\n",
    "def credit_defaults_pipeline(\n",
    "    pipeline_job_data_input,\n",
    "    pipeline_job_test_train_ratio,\n",
    "    pipeline_job_learning_rate,\n",
    "    pipeline_job_registered_model_name,\n",
    "):\n",
    "    # using data_prep_function like a python call with its own inputs\n",
    "    data_prep_job = data_prep_component(\n",
    "        data=pipeline_job_data_input,\n",
    "        test_train_ratio=pipeline_job_test_train_ratio,\n",
    "    )\n",
    "\n",
    "    # using train_func like a python call with its own inputs\n",
    "    train_job = train_component(\n",
    "        train_data=data_prep_job.outputs.train_data,  # note: using outputs from previous step\n",
    "        test_data=data_prep_job.outputs.test_data,  # note: using outputs from previous step\n",
    "        learning_rate=pipeline_job_learning_rate,  # note: using a pipeline input as parameter\n",
    "        registered_model_name=pipeline_job_registered_model_name,\n",
    "    )\n",
    "\n",
    "    # a pipeline returns a dictionary of outputs\n",
    "    # keys will code for the pipeline output identifier\n",
    "    return {\n",
    "        \"pipeline_job_train_data\": data_prep_job.outputs.train_data,\n",
    "        \"pipeline_job_test_data\": data_prep_job.outputs.test_data,\n",
    "    }"
   ]
  },
  {
   "cell_type": "markdown",
   "metadata": {},
   "source": [
    "Now use your pipeline definition to instantiate a pipeline with your dataset, split rate of choice and the name you picked for your model."
   ]
  },
  {
   "cell_type": "code",
   "execution_count": 36,
   "metadata": {
    "attributes": {
     "classes": [
      "Python"
     ],
     "id": ""
    },
    "name": "registered_model_name"
   },
   "outputs": [],
   "source": [
    "registered_model_name = \"credit_defaults_model\"\n",
    "\n",
    "# Let's instantiate the pipeline with the parameters of our choice\n",
    "pipeline = credit_defaults_pipeline(\n",
    "    # pipeline_job_data_input=credit_data,\n",
    "    pipeline_job_data_input=Input(type=\"uri_file\", path=web_path),\n",
    "    pipeline_job_test_train_ratio=0.2,\n",
    "    pipeline_job_learning_rate=0.25,\n",
    "    pipeline_job_registered_model_name=registered_model_name,\n",
    ")"
   ]
  },
  {
   "cell_type": "markdown",
   "metadata": {},
   "source": [
    "## Submit the job \n",
    "\n",
    "It's now time to submit the job to run in Azure ML. This time you'll use `create_or_update`  on `ml_client.jobs`.\n",
    "\n",
    "Here you'll also pass an experiment name. An experiment is a container for all the iterations one does on a certain project. All the jobs submitted under the same experiment name would be listed next to each other in Azure ML studio.\n",
    "\n",
    "Once completed, the pipeline will register a model in your workspace as a result of training."
   ]
  },
  {
   "cell_type": "code",
   "execution_count": 37,
   "metadata": {
    "attributes": {
     "classes": [
      "Python"
     ],
     "id": "",
     "name": "returned_job"
    }
   },
   "outputs": [
    {
     "ename": "HttpResponseError",
     "evalue": "(UserError) Component 748d8e78-68cd-44b1-12f2-4cfe72fe0a7f has invalid spec, details: Not support backslash-newline in command \"python data_prep.py \\ \n            --data ${{inputs.data}} --test_train_ratio ${{inputs.test_train_ratio}}             --train_data ${{outputs.train_data}} --test_data ${{outputs.test_data}}             \".\nCode: UserError\nMessage: Component 748d8e78-68cd-44b1-12f2-4cfe72fe0a7f has invalid spec, details: Not support backslash-newline in command \"python data_prep.py \\ \n            --data ${{inputs.data}} --test_train_ratio ${{inputs.test_train_ratio}}             --train_data ${{outputs.train_data}} --test_data ${{outputs.test_data}}             \".\nAdditional Information:Type: ComponentName\nInfo: {\n    \"value\": \"managementfrontend\"\n}Type: Correlation\nInfo: {\n    \"value\": {\n        \"operation\": \"2b80dad51c84c743be44b148ec0e82bb\",\n        \"request\": \"b5506606cce8c062\"\n    }\n}Type: Environment\nInfo: {\n    \"value\": \"westcentralus\"\n}Type: Location\nInfo: {\n    \"value\": \"westcentralus\"\n}Type: Time\nInfo: {\n    \"value\": \"2022-05-18T23:04:55.2058664+00:00\"\n}Type: InnerError\nInfo: {\n    \"value\": {\n        \"code\": \"BadArgument\",\n        \"innerError\": {\n            \"code\": \"ArgumentInvalid\",\n            \"innerError\": {\n                \"code\": \"InvalidComponent\",\n                \"innerError\": {\n                    \"code\": \"InvalidComponentSpec\",\n                    \"innerError\": null\n                }\n            }\n        }\n    }\n}",
     "output_type": "error",
     "traceback": [
      "\u001b[1;31m---------------------------------------------------------------------------\u001b[0m",
      "\u001b[1;31mHttpResponseError\u001b[0m                         Traceback (most recent call last)",
      "\u001b[1;32mc:\\Git\\dpv2-bb2\\tutorials\\e2e-ds-experience\\e2e-ml-workflow.ipynb Cell 50'\u001b[0m in \u001b[0;36m<cell line: 4>\u001b[1;34m()\u001b[0m\n\u001b[0;32m      <a href='vscode-notebook-cell:/c%3A/Git/dpv2-bb2/tutorials/e2e-ds-experience/e2e-ml-workflow.ipynb#ch0000044?line=0'>1</a>\u001b[0m \u001b[39mimport\u001b[39;00m \u001b[39mwebbrowser\u001b[39;00m\n\u001b[0;32m      <a href='vscode-notebook-cell:/c%3A/Git/dpv2-bb2/tutorials/e2e-ds-experience/e2e-ml-workflow.ipynb#ch0000044?line=2'>3</a>\u001b[0m \u001b[39m# submit the pipeline job\u001b[39;00m\n\u001b[1;32m----> <a href='vscode-notebook-cell:/c%3A/Git/dpv2-bb2/tutorials/e2e-ds-experience/e2e-ml-workflow.ipynb#ch0000044?line=3'>4</a>\u001b[0m pipeline_job \u001b[39m=\u001b[39m ml_client\u001b[39m.\u001b[39;49mjobs\u001b[39m.\u001b[39;49mcreate_or_update(\n\u001b[0;32m      <a href='vscode-notebook-cell:/c%3A/Git/dpv2-bb2/tutorials/e2e-ds-experience/e2e-ml-workflow.ipynb#ch0000044?line=4'>5</a>\u001b[0m     pipeline,\n\u001b[0;32m      <a href='vscode-notebook-cell:/c%3A/Git/dpv2-bb2/tutorials/e2e-ds-experience/e2e-ml-workflow.ipynb#ch0000044?line=5'>6</a>\u001b[0m     \u001b[39m# Project's name\u001b[39;49;00m\n\u001b[0;32m      <a href='vscode-notebook-cell:/c%3A/Git/dpv2-bb2/tutorials/e2e-ds-experience/e2e-ml-workflow.ipynb#ch0000044?line=6'>7</a>\u001b[0m     experiment_name\u001b[39m=\u001b[39;49m\u001b[39m\"\u001b[39;49m\u001b[39me2e_registered_components\u001b[39;49m\u001b[39m\"\u001b[39;49m,\n\u001b[0;32m      <a href='vscode-notebook-cell:/c%3A/Git/dpv2-bb2/tutorials/e2e-ds-experience/e2e-ml-workflow.ipynb#ch0000044?line=7'>8</a>\u001b[0m )\n\u001b[0;32m      <a href='vscode-notebook-cell:/c%3A/Git/dpv2-bb2/tutorials/e2e-ds-experience/e2e-ml-workflow.ipynb#ch0000044?line=8'>9</a>\u001b[0m \u001b[39m# open the pipeline in web browser\u001b[39;00m\n\u001b[0;32m     <a href='vscode-notebook-cell:/c%3A/Git/dpv2-bb2/tutorials/e2e-ds-experience/e2e-ml-workflow.ipynb#ch0000044?line=9'>10</a>\u001b[0m webbrowser\u001b[39m.\u001b[39mopen(pipeline_job\u001b[39m.\u001b[39mservices[\u001b[39m\"\u001b[39m\u001b[39mStudio\u001b[39m\u001b[39m\"\u001b[39m]\u001b[39m.\u001b[39mendpoint)\n",
      "File \u001b[1;32mc:\\Users\\amah\\.conda\\envs\\dpv2-bb\\lib\\site-packages\\azure\\ai\\ml\\_telemetry\\activity.py:230\u001b[0m, in \u001b[0;36mmonitor_with_telemetry_mixin.<locals>.monitor.<locals>.wrapper\u001b[1;34m(*args, **kwargs)\u001b[0m\n\u001b[0;32m    <a href='file:///c%3A/Users/amah/.conda/envs/dpv2-bb/lib/site-packages/azure/ai/ml/_telemetry/activity.py?line=227'>228</a>\u001b[0m     dimensions\u001b[39m.\u001b[39mupdate(custom_dimensions)\n\u001b[0;32m    <a href='file:///c%3A/Users/amah/.conda/envs/dpv2-bb/lib/site-packages/azure/ai/ml/_telemetry/activity.py?line=228'>229</a>\u001b[0m \u001b[39mwith\u001b[39;00m log_activity(logger, activity_name \u001b[39mor\u001b[39;00m f\u001b[39m.\u001b[39m\u001b[39m__name__\u001b[39m, activity_type, dimensions) \u001b[39mas\u001b[39;00m activityLogger:\n\u001b[1;32m--> <a href='file:///c%3A/Users/amah/.conda/envs/dpv2-bb/lib/site-packages/azure/ai/ml/_telemetry/activity.py?line=229'>230</a>\u001b[0m     return_value \u001b[39m=\u001b[39m f(\u001b[39m*\u001b[39;49margs, \u001b[39m*\u001b[39;49m\u001b[39m*\u001b[39;49mkwargs)\n\u001b[0;32m    <a href='file:///c%3A/Users/amah/.conda/envs/dpv2-bb/lib/site-packages/azure/ai/ml/_telemetry/activity.py?line=230'>231</a>\u001b[0m     activityLogger\u001b[39m.\u001b[39mactivity_info\u001b[39m.\u001b[39mupdate(_collect_from_return_value(return_value))\n\u001b[0;32m    <a href='file:///c%3A/Users/amah/.conda/envs/dpv2-bb/lib/site-packages/azure/ai/ml/_telemetry/activity.py?line=231'>232</a>\u001b[0m     \u001b[39mreturn\u001b[39;00m return_value\n",
      "File \u001b[1;32mc:\\Users\\amah\\.conda\\envs\\dpv2-bb\\lib\\site-packages\\azure\\ai\\ml\\_operations\\job_operations.py:370\u001b[0m, in \u001b[0;36mJobOperations.create_or_update\u001b[1;34m(self, job, description, compute, tags, experiment_name, **kwargs)\u001b[0m\n\u001b[0;32m    <a href='file:///c%3A/Users/amah/.conda/envs/dpv2-bb/lib/site-packages/azure/ai/ml/_operations/job_operations.py?line=366'>367</a>\u001b[0m     job\u001b[39m.\u001b[39mexperiment_name \u001b[39m=\u001b[39m experiment_name\n\u001b[0;32m    <a href='file:///c%3A/Users/amah/.conda/envs/dpv2-bb/lib/site-packages/azure/ai/ml/_operations/job_operations.py?line=368'>369</a>\u001b[0m \u001b[39m# Create all dependent resources\u001b[39;00m\n\u001b[1;32m--> <a href='file:///c%3A/Users/amah/.conda/envs/dpv2-bb/lib/site-packages/azure/ai/ml/_operations/job_operations.py?line=369'>370</a>\u001b[0m \u001b[39mself\u001b[39;49m\u001b[39m.\u001b[39;49m_resolve_arm_id_or_upload_dependencies(job)\n\u001b[0;32m    <a href='file:///c%3A/Users/amah/.conda/envs/dpv2-bb/lib/site-packages/azure/ai/ml/_operations/job_operations.py?line=370'>371</a>\u001b[0m \u001b[39mself\u001b[39m\u001b[39m.\u001b[39m_validate(job, raise_on_failure\u001b[39m=\u001b[39m\u001b[39mTrue\u001b[39;00m)\n\u001b[0;32m    <a href='file:///c%3A/Users/amah/.conda/envs/dpv2-bb/lib/site-packages/azure/ai/ml/_operations/job_operations.py?line=372'>373</a>\u001b[0m git_props \u001b[39m=\u001b[39m get_git_properties()\n",
      "File \u001b[1;32mc:\\Users\\amah\\.conda\\envs\\dpv2-bb\\lib\\site-packages\\azure\\ai\\ml\\_operations\\job_operations.py:681\u001b[0m, in \u001b[0;36mJobOperations._resolve_arm_id_or_upload_dependencies\u001b[1;34m(self, job)\u001b[0m\n\u001b[0;32m    <a href='file:///c%3A/Users/amah/.conda/envs/dpv2-bb/lib/site-packages/azure/ai/ml/_operations/job_operations.py?line=671'>672</a>\u001b[0m \u001b[39mdef\u001b[39;00m \u001b[39m_resolve_arm_id_or_upload_dependencies\u001b[39m(\u001b[39mself\u001b[39m, job: Job) \u001b[39m-\u001b[39m\u001b[39m>\u001b[39m \u001b[39mNone\u001b[39;00m:\n\u001b[0;32m    <a href='file:///c%3A/Users/amah/.conda/envs/dpv2-bb/lib/site-packages/azure/ai/ml/_operations/job_operations.py?line=672'>673</a>\u001b[0m     \u001b[39m\"\"\"This method converts name or name:version to ARM id. Or it registers/uploads nested dependencies.\u001b[39;00m\n\u001b[0;32m    <a href='file:///c%3A/Users/amah/.conda/envs/dpv2-bb/lib/site-packages/azure/ai/ml/_operations/job_operations.py?line=673'>674</a>\u001b[0m \n\u001b[0;32m    <a href='file:///c%3A/Users/amah/.conda/envs/dpv2-bb/lib/site-packages/azure/ai/ml/_operations/job_operations.py?line=674'>675</a>\u001b[0m \u001b[39m    :param job: the job resource entity\u001b[39;00m\n\u001b[1;32m   (...)\u001b[0m\n\u001b[0;32m    <a href='file:///c%3A/Users/amah/.conda/envs/dpv2-bb/lib/site-packages/azure/ai/ml/_operations/job_operations.py?line=677'>678</a>\u001b[0m \u001b[39m    :rtype: Job\u001b[39;00m\n\u001b[0;32m    <a href='file:///c%3A/Users/amah/.conda/envs/dpv2-bb/lib/site-packages/azure/ai/ml/_operations/job_operations.py?line=678'>679</a>\u001b[0m \u001b[39m    \"\"\"\u001b[39;00m\n\u001b[1;32m--> <a href='file:///c%3A/Users/amah/.conda/envs/dpv2-bb/lib/site-packages/azure/ai/ml/_operations/job_operations.py?line=680'>681</a>\u001b[0m     \u001b[39mself\u001b[39;49m\u001b[39m.\u001b[39;49m_resolve_arm_id_or_azureml_id(job, \u001b[39mself\u001b[39;49m\u001b[39m.\u001b[39;49m_orchestrators\u001b[39m.\u001b[39;49mget_asset_arm_id)\n\u001b[0;32m    <a href='file:///c%3A/Users/amah/.conda/envs/dpv2-bb/lib/site-packages/azure/ai/ml/_operations/job_operations.py?line=682'>683</a>\u001b[0m     \u001b[39mif\u001b[39;00m \u001b[39misinstance\u001b[39m(job, PipelineJob):\n\u001b[0;32m    <a href='file:///c%3A/Users/amah/.conda/envs/dpv2-bb/lib/site-packages/azure/ai/ml/_operations/job_operations.py?line=683'>684</a>\u001b[0m         \u001b[39m# Resolve top-level inputs\u001b[39;00m\n\u001b[0;32m    <a href='file:///c%3A/Users/amah/.conda/envs/dpv2-bb/lib/site-packages/azure/ai/ml/_operations/job_operations.py?line=684'>685</a>\u001b[0m         \u001b[39mself\u001b[39m\u001b[39m.\u001b[39m_resolve_job_inputs(\u001b[39mmap\u001b[39m(\u001b[39mlambda\u001b[39;00m x: x\u001b[39m.\u001b[39m_data, job\u001b[39m.\u001b[39minputs\u001b[39m.\u001b[39mvalues()), job\u001b[39m.\u001b[39m_base_path)\n",
      "File \u001b[1;32mc:\\Users\\amah\\.conda\\envs\\dpv2-bb\\lib\\site-packages\\azure\\ai\\ml\\_operations\\job_operations.py:883\u001b[0m, in \u001b[0;36mJobOperations._resolve_arm_id_or_azureml_id\u001b[1;34m(self, job, resolver)\u001b[0m\n\u001b[0;32m    <a href='file:///c%3A/Users/amah/.conda/envs/dpv2-bb/lib/site-packages/azure/ai/ml/_operations/job_operations.py?line=880'>881</a>\u001b[0m     job \u001b[39m=\u001b[39m \u001b[39mself\u001b[39m\u001b[39m.\u001b[39m_resolve_arm_id_for_automl_job(job, resolver, inside_pipeline\u001b[39m=\u001b[39m\u001b[39mFalse\u001b[39;00m)\n\u001b[0;32m    <a href='file:///c%3A/Users/amah/.conda/envs/dpv2-bb/lib/site-packages/azure/ai/ml/_operations/job_operations.py?line=881'>882</a>\u001b[0m \u001b[39melif\u001b[39;00m \u001b[39misinstance\u001b[39m(job, PipelineJob):\n\u001b[1;32m--> <a href='file:///c%3A/Users/amah/.conda/envs/dpv2-bb/lib/site-packages/azure/ai/ml/_operations/job_operations.py?line=882'>883</a>\u001b[0m     job \u001b[39m=\u001b[39m \u001b[39mself\u001b[39;49m\u001b[39m.\u001b[39;49m_resolve_arm_id_for_pipeline_job(job, resolver)\n\u001b[0;32m    <a href='file:///c%3A/Users/amah/.conda/envs/dpv2-bb/lib/site-packages/azure/ai/ml/_operations/job_operations.py?line=883'>884</a>\u001b[0m \u001b[39melse\u001b[39;00m:\n\u001b[0;32m    <a href='file:///c%3A/Users/amah/.conda/envs/dpv2-bb/lib/site-packages/azure/ai/ml/_operations/job_operations.py?line=884'>885</a>\u001b[0m     msg \u001b[39m=\u001b[39m \u001b[39mf\u001b[39m\u001b[39m\"\u001b[39m\u001b[39mNon supported job type: \u001b[39m\u001b[39m{\u001b[39;00m\u001b[39mtype\u001b[39m(job)\u001b[39m}\u001b[39;00m\u001b[39m\"\u001b[39m\n",
      "File \u001b[1;32mc:\\Users\\amah\\.conda\\envs\\dpv2-bb\\lib\\site-packages\\azure\\ai\\ml\\_operations\\job_operations.py:980\u001b[0m, in \u001b[0;36mJobOperations._resolve_arm_id_for_pipeline_job\u001b[1;34m(self, pipeline_job, resolver)\u001b[0m\n\u001b[0;32m    <a href='file:///c%3A/Users/amah/.conda/envs/dpv2-bb/lib/site-packages/azure/ai/ml/_operations/job_operations.py?line=976'>977</a>\u001b[0m     \u001b[39mself\u001b[39m\u001b[39m.\u001b[39m_set_defaults_to_component(job_instance\u001b[39m.\u001b[39mcomponent, pipeline_job\u001b[39m.\u001b[39msettings)\n\u001b[0;32m    <a href='file:///c%3A/Users/amah/.conda/envs/dpv2-bb/lib/site-packages/azure/ai/ml/_operations/job_operations.py?line=978'>979</a>\u001b[0m     \u001b[39m# Get the component id for each job's component\u001b[39;00m\n\u001b[1;32m--> <a href='file:///c%3A/Users/amah/.conda/envs/dpv2-bb/lib/site-packages/azure/ai/ml/_operations/job_operations.py?line=979'>980</a>\u001b[0m     job_instance\u001b[39m.\u001b[39m_component \u001b[39m=\u001b[39m resolver(\n\u001b[0;32m    <a href='file:///c%3A/Users/amah/.conda/envs/dpv2-bb/lib/site-packages/azure/ai/ml/_operations/job_operations.py?line=980'>981</a>\u001b[0m         job_instance\u001b[39m.\u001b[39;49mtrial \u001b[39mif\u001b[39;49;00m \u001b[39misinstance\u001b[39;49m(job_instance, Sweep) \u001b[39melse\u001b[39;49;00m job_instance\u001b[39m.\u001b[39;49mcomponent,\n\u001b[0;32m    <a href='file:///c%3A/Users/amah/.conda/envs/dpv2-bb/lib/site-packages/azure/ai/ml/_operations/job_operations.py?line=981'>982</a>\u001b[0m         azureml_type\u001b[39m=\u001b[39;49mAzureMLResourceType\u001b[39m.\u001b[39;49mCOMPONENT,\n\u001b[0;32m    <a href='file:///c%3A/Users/amah/.conda/envs/dpv2-bb/lib/site-packages/azure/ai/ml/_operations/job_operations.py?line=982'>983</a>\u001b[0m     )\n\u001b[0;32m    <a href='file:///c%3A/Users/amah/.conda/envs/dpv2-bb/lib/site-packages/azure/ai/ml/_operations/job_operations.py?line=983'>984</a>\u001b[0m \u001b[39melse\u001b[39;00m:\n\u001b[0;32m    <a href='file:///c%3A/Users/amah/.conda/envs/dpv2-bb/lib/site-packages/azure/ai/ml/_operations/job_operations.py?line=984'>985</a>\u001b[0m     msg \u001b[39m=\u001b[39m \u001b[39mf\u001b[39m\u001b[39m\"\u001b[39m\u001b[39mNon supported job type in Pipeline jobs: \u001b[39m\u001b[39m{\u001b[39;00m\u001b[39mtype\u001b[39m(job_instance)\u001b[39m}\u001b[39;00m\u001b[39m\"\u001b[39m\n",
      "File \u001b[1;32mc:\\Users\\amah\\.conda\\envs\\dpv2-bb\\lib\\site-packages\\azure\\ai\\ml\\_operations\\operation_orchestrator.py:161\u001b[0m, in \u001b[0;36mOperationOrchestrator.get_asset_arm_id\u001b[1;34m(self, asset, azureml_type, register_asset, sub_workspace_resource)\u001b[0m\n\u001b[0;32m    <a href='file:///c%3A/Users/amah/.conda/envs/dpv2-bb/lib/site-packages/azure/ai/ml/_operations/operation_orchestrator.py?line=158'>159</a>\u001b[0m     result \u001b[39m=\u001b[39m \u001b[39mself\u001b[39m\u001b[39m.\u001b[39m_get_dataset_arm_id(asset, register_asset\u001b[39m=\u001b[39mregister_asset)\n\u001b[0;32m    <a href='file:///c%3A/Users/amah/.conda/envs/dpv2-bb/lib/site-packages/azure/ai/ml/_operations/operation_orchestrator.py?line=159'>160</a>\u001b[0m \u001b[39melif\u001b[39;00m azureml_type \u001b[39m==\u001b[39m AzureMLResourceType\u001b[39m.\u001b[39mCOMPONENT \u001b[39mand\u001b[39;00m \u001b[39misinstance\u001b[39m(asset, Component):\n\u001b[1;32m--> <a href='file:///c%3A/Users/amah/.conda/envs/dpv2-bb/lib/site-packages/azure/ai/ml/_operations/operation_orchestrator.py?line=160'>161</a>\u001b[0m     result \u001b[39m=\u001b[39m \u001b[39mself\u001b[39;49m\u001b[39m.\u001b[39;49m_get_component_arm_id(asset)\n\u001b[0;32m    <a href='file:///c%3A/Users/amah/.conda/envs/dpv2-bb/lib/site-packages/azure/ai/ml/_operations/operation_orchestrator.py?line=161'>162</a>\u001b[0m \u001b[39melse\u001b[39;00m:\n\u001b[0;32m    <a href='file:///c%3A/Users/amah/.conda/envs/dpv2-bb/lib/site-packages/azure/ai/ml/_operations/operation_orchestrator.py?line=162'>163</a>\u001b[0m     msg \u001b[39m=\u001b[39m \u001b[39m\"\u001b[39m\u001b[39mUnsupported azureml type \u001b[39m\u001b[39m{}\u001b[39;00m\u001b[39m for asset: \u001b[39m\u001b[39m{}\u001b[39;00m\u001b[39m\"\u001b[39m\n",
      "File \u001b[1;32mc:\\Users\\amah\\.conda\\envs\\dpv2-bb\\lib\\site-packages\\azure\\ai\\ml\\_operations\\operation_orchestrator.py:263\u001b[0m, in \u001b[0;36mOperationOrchestrator._get_component_arm_id\u001b[1;34m(self, component)\u001b[0m\n\u001b[0;32m    <a href='file:///c%3A/Users/amah/.conda/envs/dpv2-bb/lib/site-packages/azure/ai/ml/_operations/operation_orchestrator.py?line=258'>259</a>\u001b[0m \u001b[39m\"\"\"If component arm id is already resolved, return the id\u001b[39;00m\n\u001b[0;32m    <a href='file:///c%3A/Users/amah/.conda/envs/dpv2-bb/lib/site-packages/azure/ai/ml/_operations/operation_orchestrator.py?line=259'>260</a>\u001b[0m \u001b[39mOr get arm id via remote call, register the component if necessary,\u001b[39;00m\n\u001b[0;32m    <a href='file:///c%3A/Users/amah/.conda/envs/dpv2-bb/lib/site-packages/azure/ai/ml/_operations/operation_orchestrator.py?line=260'>261</a>\u001b[0m \u001b[39mand FILL BACK the arm id to component to reduce remote call\"\"\"\u001b[39;00m\n\u001b[0;32m    <a href='file:///c%3A/Users/amah/.conda/envs/dpv2-bb/lib/site-packages/azure/ai/ml/_operations/operation_orchestrator.py?line=261'>262</a>\u001b[0m \u001b[39mif\u001b[39;00m \u001b[39mnot\u001b[39;00m component\u001b[39m.\u001b[39mid:\n\u001b[1;32m--> <a href='file:///c%3A/Users/amah/.conda/envs/dpv2-bb/lib/site-packages/azure/ai/ml/_operations/operation_orchestrator.py?line=262'>263</a>\u001b[0m     component\u001b[39m.\u001b[39m_id \u001b[39m=\u001b[39m \u001b[39mself\u001b[39;49m\u001b[39m.\u001b[39;49m_component\u001b[39m.\u001b[39;49mcreate_or_update(component, is_anonymous\u001b[39m=\u001b[39;49m\u001b[39mTrue\u001b[39;49;00m)\u001b[39m.\u001b[39mid\n\u001b[0;32m    <a href='file:///c%3A/Users/amah/.conda/envs/dpv2-bb/lib/site-packages/azure/ai/ml/_operations/operation_orchestrator.py?line=263'>264</a>\u001b[0m \u001b[39mreturn\u001b[39;00m component\u001b[39m.\u001b[39mid\n",
      "File \u001b[1;32mc:\\Users\\amah\\.conda\\envs\\dpv2-bb\\lib\\site-packages\\azure\\ai\\ml\\_telemetry\\activity.py:230\u001b[0m, in \u001b[0;36mmonitor_with_telemetry_mixin.<locals>.monitor.<locals>.wrapper\u001b[1;34m(*args, **kwargs)\u001b[0m\n\u001b[0;32m    <a href='file:///c%3A/Users/amah/.conda/envs/dpv2-bb/lib/site-packages/azure/ai/ml/_telemetry/activity.py?line=227'>228</a>\u001b[0m     dimensions\u001b[39m.\u001b[39mupdate(custom_dimensions)\n\u001b[0;32m    <a href='file:///c%3A/Users/amah/.conda/envs/dpv2-bb/lib/site-packages/azure/ai/ml/_telemetry/activity.py?line=228'>229</a>\u001b[0m \u001b[39mwith\u001b[39;00m log_activity(logger, activity_name \u001b[39mor\u001b[39;00m f\u001b[39m.\u001b[39m\u001b[39m__name__\u001b[39m, activity_type, dimensions) \u001b[39mas\u001b[39;00m activityLogger:\n\u001b[1;32m--> <a href='file:///c%3A/Users/amah/.conda/envs/dpv2-bb/lib/site-packages/azure/ai/ml/_telemetry/activity.py?line=229'>230</a>\u001b[0m     return_value \u001b[39m=\u001b[39m f(\u001b[39m*\u001b[39;49margs, \u001b[39m*\u001b[39;49m\u001b[39m*\u001b[39;49mkwargs)\n\u001b[0;32m    <a href='file:///c%3A/Users/amah/.conda/envs/dpv2-bb/lib/site-packages/azure/ai/ml/_telemetry/activity.py?line=230'>231</a>\u001b[0m     activityLogger\u001b[39m.\u001b[39mactivity_info\u001b[39m.\u001b[39mupdate(_collect_from_return_value(return_value))\n\u001b[0;32m    <a href='file:///c%3A/Users/amah/.conda/envs/dpv2-bb/lib/site-packages/azure/ai/ml/_telemetry/activity.py?line=231'>232</a>\u001b[0m     \u001b[39mreturn\u001b[39;00m return_value\n",
      "File \u001b[1;32mc:\\Users\\amah\\.conda\\envs\\dpv2-bb\\lib\\site-packages\\azure\\ai\\ml\\_operations\\component_operations.py:298\u001b[0m, in \u001b[0;36mComponentOperations.create_or_update\u001b[1;34m(self, component, **kwargs)\u001b[0m\n\u001b[0;32m    <a href='file:///c%3A/Users/amah/.conda/envs/dpv2-bb/lib/site-packages/azure/ai/ml/_operations/component_operations.py?line=288'>289</a>\u001b[0m             result \u001b[39m=\u001b[39m \u001b[39mself\u001b[39m\u001b[39m.\u001b[39m_version_operation\u001b[39m.\u001b[39mcreate_or_update(\n\u001b[0;32m    <a href='file:///c%3A/Users/amah/.conda/envs/dpv2-bb/lib/site-packages/azure/ai/ml/_operations/component_operations.py?line=289'>290</a>\u001b[0m                 name\u001b[39m=\u001b[39mrest_component_resource\u001b[39m.\u001b[39mname,\n\u001b[0;32m    <a href='file:///c%3A/Users/amah/.conda/envs/dpv2-bb/lib/site-packages/azure/ai/ml/_operations/component_operations.py?line=290'>291</a>\u001b[0m                 version\u001b[39m=\u001b[39mcomponent\u001b[39m.\u001b[39mversion,\n\u001b[1;32m   (...)\u001b[0m\n\u001b[0;32m    <a href='file:///c%3A/Users/amah/.conda/envs/dpv2-bb/lib/site-packages/azure/ai/ml/_operations/component_operations.py?line=294'>295</a>\u001b[0m                 \u001b[39m*\u001b[39m\u001b[39m*\u001b[39m\u001b[39mself\u001b[39m\u001b[39m.\u001b[39m_init_args,\n\u001b[0;32m    <a href='file:///c%3A/Users/amah/.conda/envs/dpv2-bb/lib/site-packages/azure/ai/ml/_operations/component_operations.py?line=295'>296</a>\u001b[0m             )\n\u001b[0;32m    <a href='file:///c%3A/Users/amah/.conda/envs/dpv2-bb/lib/site-packages/azure/ai/ml/_operations/component_operations.py?line=296'>297</a>\u001b[0m \u001b[39mexcept\u001b[39;00m \u001b[39mException\u001b[39;00m \u001b[39mas\u001b[39;00m e:\n\u001b[1;32m--> <a href='file:///c%3A/Users/amah/.conda/envs/dpv2-bb/lib/site-packages/azure/ai/ml/_operations/component_operations.py?line=297'>298</a>\u001b[0m     \u001b[39mraise\u001b[39;00m e\n\u001b[0;32m    <a href='file:///c%3A/Users/amah/.conda/envs/dpv2-bb/lib/site-packages/azure/ai/ml/_operations/component_operations.py?line=299'>300</a>\u001b[0m \u001b[39mif\u001b[39;00m \u001b[39mnot\u001b[39;00m result:\n\u001b[0;32m    <a href='file:///c%3A/Users/amah/.conda/envs/dpv2-bb/lib/site-packages/azure/ai/ml/_operations/component_operations.py?line=300'>301</a>\u001b[0m     \u001b[39mreturn\u001b[39;00m \u001b[39mself\u001b[39m\u001b[39m.\u001b[39mget(name\u001b[39m=\u001b[39mcomponent\u001b[39m.\u001b[39mname, version\u001b[39m=\u001b[39mcomponent\u001b[39m.\u001b[39mversion)\n",
      "File \u001b[1;32mc:\\Users\\amah\\.conda\\envs\\dpv2-bb\\lib\\site-packages\\azure\\ai\\ml\\_operations\\component_operations.py:289\u001b[0m, in \u001b[0;36mComponentOperations.create_or_update\u001b[1;34m(self, component, **kwargs)\u001b[0m\n\u001b[0;32m    <a href='file:///c%3A/Users/amah/.conda/envs/dpv2-bb/lib/site-packages/azure/ai/ml/_operations/component_operations.py?line=278'>279</a>\u001b[0m             result \u001b[39m=\u001b[39m _create_or_update_autoincrement(\n\u001b[0;32m    <a href='file:///c%3A/Users/amah/.conda/envs/dpv2-bb/lib/site-packages/azure/ai/ml/_operations/component_operations.py?line=279'>280</a>\u001b[0m                 name\u001b[39m=\u001b[39mcomponent\u001b[39m.\u001b[39mname,\n\u001b[0;32m    <a href='file:///c%3A/Users/amah/.conda/envs/dpv2-bb/lib/site-packages/azure/ai/ml/_operations/component_operations.py?line=280'>281</a>\u001b[0m                 body\u001b[39m=\u001b[39mrest_component_resource,\n\u001b[1;32m   (...)\u001b[0m\n\u001b[0;32m    <a href='file:///c%3A/Users/amah/.conda/envs/dpv2-bb/lib/site-packages/azure/ai/ml/_operations/component_operations.py?line=285'>286</a>\u001b[0m                 \u001b[39m*\u001b[39m\u001b[39m*\u001b[39m\u001b[39mself\u001b[39m\u001b[39m.\u001b[39m_init_args,\n\u001b[0;32m    <a href='file:///c%3A/Users/amah/.conda/envs/dpv2-bb/lib/site-packages/azure/ai/ml/_operations/component_operations.py?line=286'>287</a>\u001b[0m             )\n\u001b[0;32m    <a href='file:///c%3A/Users/amah/.conda/envs/dpv2-bb/lib/site-packages/azure/ai/ml/_operations/component_operations.py?line=287'>288</a>\u001b[0m         \u001b[39melse\u001b[39;00m:\n\u001b[1;32m--> <a href='file:///c%3A/Users/amah/.conda/envs/dpv2-bb/lib/site-packages/azure/ai/ml/_operations/component_operations.py?line=288'>289</a>\u001b[0m             result \u001b[39m=\u001b[39m \u001b[39mself\u001b[39;49m\u001b[39m.\u001b[39;49m_version_operation\u001b[39m.\u001b[39;49mcreate_or_update(\n\u001b[0;32m    <a href='file:///c%3A/Users/amah/.conda/envs/dpv2-bb/lib/site-packages/azure/ai/ml/_operations/component_operations.py?line=289'>290</a>\u001b[0m                 name\u001b[39m=\u001b[39;49mrest_component_resource\u001b[39m.\u001b[39;49mname,\n\u001b[0;32m    <a href='file:///c%3A/Users/amah/.conda/envs/dpv2-bb/lib/site-packages/azure/ai/ml/_operations/component_operations.py?line=290'>291</a>\u001b[0m                 version\u001b[39m=\u001b[39;49mcomponent\u001b[39m.\u001b[39;49mversion,\n\u001b[0;32m    <a href='file:///c%3A/Users/amah/.conda/envs/dpv2-bb/lib/site-packages/azure/ai/ml/_operations/component_operations.py?line=291'>292</a>\u001b[0m                 resource_group_name\u001b[39m=\u001b[39;49m\u001b[39mself\u001b[39;49m\u001b[39m.\u001b[39;49m_resource_group_name,\n\u001b[0;32m    <a href='file:///c%3A/Users/amah/.conda/envs/dpv2-bb/lib/site-packages/azure/ai/ml/_operations/component_operations.py?line=292'>293</a>\u001b[0m                 workspace_name\u001b[39m=\u001b[39;49m\u001b[39mself\u001b[39;49m\u001b[39m.\u001b[39;49m_workspace_name,\n\u001b[0;32m    <a href='file:///c%3A/Users/amah/.conda/envs/dpv2-bb/lib/site-packages/azure/ai/ml/_operations/component_operations.py?line=293'>294</a>\u001b[0m                 body\u001b[39m=\u001b[39;49mrest_component_resource,\n\u001b[0;32m    <a href='file:///c%3A/Users/amah/.conda/envs/dpv2-bb/lib/site-packages/azure/ai/ml/_operations/component_operations.py?line=294'>295</a>\u001b[0m                 \u001b[39m*\u001b[39;49m\u001b[39m*\u001b[39;49m\u001b[39mself\u001b[39;49m\u001b[39m.\u001b[39;49m_init_args,\n\u001b[0;32m    <a href='file:///c%3A/Users/amah/.conda/envs/dpv2-bb/lib/site-packages/azure/ai/ml/_operations/component_operations.py?line=295'>296</a>\u001b[0m             )\n\u001b[0;32m    <a href='file:///c%3A/Users/amah/.conda/envs/dpv2-bb/lib/site-packages/azure/ai/ml/_operations/component_operations.py?line=296'>297</a>\u001b[0m \u001b[39mexcept\u001b[39;00m \u001b[39mException\u001b[39;00m \u001b[39mas\u001b[39;00m e:\n\u001b[0;32m    <a href='file:///c%3A/Users/amah/.conda/envs/dpv2-bb/lib/site-packages/azure/ai/ml/_operations/component_operations.py?line=297'>298</a>\u001b[0m     \u001b[39mraise\u001b[39;00m e\n",
      "File \u001b[1;32mc:\\Users\\amah\\.conda\\envs\\dpv2-bb\\lib\\site-packages\\azure\\core\\tracing\\decorator.py:83\u001b[0m, in \u001b[0;36mdistributed_trace.<locals>.decorator.<locals>.wrapper_use_tracer\u001b[1;34m(*args, **kwargs)\u001b[0m\n\u001b[0;32m     <a href='file:///c%3A/Users/amah/.conda/envs/dpv2-bb/lib/site-packages/azure/core/tracing/decorator.py?line=80'>81</a>\u001b[0m span_impl_type \u001b[39m=\u001b[39m settings\u001b[39m.\u001b[39mtracing_implementation()\n\u001b[0;32m     <a href='file:///c%3A/Users/amah/.conda/envs/dpv2-bb/lib/site-packages/azure/core/tracing/decorator.py?line=81'>82</a>\u001b[0m \u001b[39mif\u001b[39;00m span_impl_type \u001b[39mis\u001b[39;00m \u001b[39mNone\u001b[39;00m:\n\u001b[1;32m---> <a href='file:///c%3A/Users/amah/.conda/envs/dpv2-bb/lib/site-packages/azure/core/tracing/decorator.py?line=82'>83</a>\u001b[0m     \u001b[39mreturn\u001b[39;00m func(\u001b[39m*\u001b[39;49margs, \u001b[39m*\u001b[39;49m\u001b[39m*\u001b[39;49mkwargs)\n\u001b[0;32m     <a href='file:///c%3A/Users/amah/.conda/envs/dpv2-bb/lib/site-packages/azure/core/tracing/decorator.py?line=84'>85</a>\u001b[0m \u001b[39m# Merge span is parameter is set, but only if no explicit parent are passed\u001b[39;00m\n\u001b[0;32m     <a href='file:///c%3A/Users/amah/.conda/envs/dpv2-bb/lib/site-packages/azure/core/tracing/decorator.py?line=85'>86</a>\u001b[0m \u001b[39mif\u001b[39;00m merge_span \u001b[39mand\u001b[39;00m \u001b[39mnot\u001b[39;00m passed_in_parent:\n",
      "File \u001b[1;32mc:\\Users\\amah\\.conda\\envs\\dpv2-bb\\lib\\site-packages\\azure\\ai\\ml\\_restclient\\v2022_05_01\\operations\\_component_versions_operations.py:516\u001b[0m, in \u001b[0;36mComponentVersionsOperations.create_or_update\u001b[1;34m(self, resource_group_name, workspace_name, name, version, body, **kwargs)\u001b[0m\n\u001b[0;32m    <a href='file:///c%3A/Users/amah/.conda/envs/dpv2-bb/lib/site-packages/azure/ai/ml/_restclient/v2022_05_01/operations/_component_versions_operations.py?line=513'>514</a>\u001b[0m     map_error(status_code\u001b[39m=\u001b[39mresponse\u001b[39m.\u001b[39mstatus_code, response\u001b[39m=\u001b[39mresponse, error_map\u001b[39m=\u001b[39merror_map)\n\u001b[0;32m    <a href='file:///c%3A/Users/amah/.conda/envs/dpv2-bb/lib/site-packages/azure/ai/ml/_restclient/v2022_05_01/operations/_component_versions_operations.py?line=514'>515</a>\u001b[0m     error \u001b[39m=\u001b[39m \u001b[39mself\u001b[39m\u001b[39m.\u001b[39m_deserialize\u001b[39m.\u001b[39mfailsafe_deserialize(_models\u001b[39m.\u001b[39mErrorResponse, pipeline_response)\n\u001b[1;32m--> <a href='file:///c%3A/Users/amah/.conda/envs/dpv2-bb/lib/site-packages/azure/ai/ml/_restclient/v2022_05_01/operations/_component_versions_operations.py?line=515'>516</a>\u001b[0m     \u001b[39mraise\u001b[39;00m HttpResponseError(response\u001b[39m=\u001b[39mresponse, model\u001b[39m=\u001b[39merror, error_format\u001b[39m=\u001b[39mARMErrorFormat)\n\u001b[0;32m    <a href='file:///c%3A/Users/amah/.conda/envs/dpv2-bb/lib/site-packages/azure/ai/ml/_restclient/v2022_05_01/operations/_component_versions_operations.py?line=517'>518</a>\u001b[0m \u001b[39mif\u001b[39;00m response\u001b[39m.\u001b[39mstatus_code \u001b[39m==\u001b[39m \u001b[39m200\u001b[39m:\n\u001b[0;32m    <a href='file:///c%3A/Users/amah/.conda/envs/dpv2-bb/lib/site-packages/azure/ai/ml/_restclient/v2022_05_01/operations/_component_versions_operations.py?line=518'>519</a>\u001b[0m     deserialized \u001b[39m=\u001b[39m \u001b[39mself\u001b[39m\u001b[39m.\u001b[39m_deserialize(\u001b[39m'\u001b[39m\u001b[39mComponentVersionData\u001b[39m\u001b[39m'\u001b[39m, pipeline_response)\n",
      "\u001b[1;31mHttpResponseError\u001b[0m: (UserError) Component 748d8e78-68cd-44b1-12f2-4cfe72fe0a7f has invalid spec, details: Not support backslash-newline in command \"python data_prep.py \\ \n            --data ${{inputs.data}} --test_train_ratio ${{inputs.test_train_ratio}}             --train_data ${{outputs.train_data}} --test_data ${{outputs.test_data}}             \".\nCode: UserError\nMessage: Component 748d8e78-68cd-44b1-12f2-4cfe72fe0a7f has invalid spec, details: Not support backslash-newline in command \"python data_prep.py \\ \n            --data ${{inputs.data}} --test_train_ratio ${{inputs.test_train_ratio}}             --train_data ${{outputs.train_data}} --test_data ${{outputs.test_data}}             \".\nAdditional Information:Type: ComponentName\nInfo: {\n    \"value\": \"managementfrontend\"\n}Type: Correlation\nInfo: {\n    \"value\": {\n        \"operation\": \"2b80dad51c84c743be44b148ec0e82bb\",\n        \"request\": \"b5506606cce8c062\"\n    }\n}Type: Environment\nInfo: {\n    \"value\": \"westcentralus\"\n}Type: Location\nInfo: {\n    \"value\": \"westcentralus\"\n}Type: Time\nInfo: {\n    \"value\": \"2022-05-18T23:04:55.2058664+00:00\"\n}Type: InnerError\nInfo: {\n    \"value\": {\n        \"code\": \"BadArgument\",\n        \"innerError\": {\n            \"code\": \"ArgumentInvalid\",\n            \"innerError\": {\n                \"code\": \"InvalidComponent\",\n                \"innerError\": {\n                    \"code\": \"InvalidComponentSpec\",\n                    \"innerError\": null\n                }\n            }\n        }\n    }\n}"
     ]
    }
   ],
   "source": [
    "import webbrowser\n",
    "\n",
    "# submit the pipeline job\n",
    "pipeline_job = ml_client.jobs.create_or_update(\n",
    "    pipeline,\n",
    "    # Project's name\n",
    "    experiment_name=\"e2e_registered_components\",\n",
    ")\n",
    "# open the pipeline in web browser\n",
    "webbrowser.open(pipeline_job.services[\"Studio\"].endpoint)"
   ]
  },
  {
   "cell_type": "markdown",
   "metadata": {},
   "source": [
    "An output of \"False\" is expected from the above cell.  You can track the progress of your pipeline, by using the link generated in the cell above or in this notebook using the following code:\n",
    "```python\n",
    "    ml_client.jobs.stream(pipeline_job.name)\n",
    "```\n",
    "\n",
    "When you select on each component, you'll see more information about the results of that component. \n",
    "There are two important parts to look for at this stage:\n",
    "* `Outputs+logs` > `user_logs` > `std_log.txt`\n",
    "This section shows the script run sdtout."
   ]
  },
  {
   "cell_type": "markdown",
   "metadata": {},
   "source": [
    "* `Outputs+logs` > `Metric`\n",
    "This section shows different logged metrics. In this example. mlflow `autologging`, has automatically logged the training metrics."
   ]
  },
  {
   "cell_type": "markdown",
   "metadata": {},
   "source": [
    "## Deploy the model as an online endpoint\n",
    "\n",
    "Now deploy your machine learning model as a web service in the Azure cloud.\n",
    "\n",
    "To deploy a machine learning service, you'll usually need:\n",
    "\n",
    "* The model assets (filed, metadata) that you want to deploy. You've already registered these assets in your training component.\n",
    "* Some code to run as a service. The code executes the model on a given input request. This entry script receives data submitted to a deployed web service and passes it to the model, then returns the model's response to the client. The script is specific to your model. The entry script must understand the data that the model expects and returns. When using a MLFlow model, as in this tutorial, this script is automatically created for you. Samples of scoring scripts can be found [here](https://github.com/Azure/azureml-examples/tree/sdk-preview/sdk/endpoints/online).\n",
    "\n"
   ]
  },
  {
   "cell_type": "markdown",
   "metadata": {},
   "source": [
    "## Create a new online endpoint\n",
    "\n",
    "Now that you have a registered model and an inference script, it's time to create your online endpoint. The endpoint name needs to be unique in the entire Azure region. For this tutorial, you'll create a unique name using [`UUID`](https://en.wikipedia.org/wiki/Universally_unique_identifier#:~:text=A%20universally%20unique%20identifier%20(UUID,%2C%20for%20practical%20purposes%2C%20unique.)."
   ]
  },
  {
   "cell_type": "code",
   "execution_count": 62,
   "metadata": {
    "attributes": {
     "classes": [
      "Python"
     ],
     "id": ""
    },
    "name": "online_endpoint_name"
   },
   "outputs": [],
   "source": [
    "import uuid\n",
    "\n",
    "# Creating a unique name for the endpoint\n",
    "online_endpoint_name = \"credit-endpoint-\" + str(uuid.uuid4())[:8]"
   ]
  },
  {
   "cell_type": "code",
   "execution_count": 63,
   "metadata": {
    "attributes": {
     "classes": [
      "Python"
     ],
     "id": ""
    },
    "name": "endpoint"
   },
   "outputs": [
    {
     "name": "stdout",
     "output_type": "stream",
     "text": [
      "Endpint credit-endpoint-5fd9e253 provisioning state: Succeeded\n"
     ]
    }
   ],
   "source": [
    "from azure.ai.ml.entities import (\n",
    "    ManagedOnlineEndpoint,\n",
    "    ManagedOnlineDeployment,\n",
    "    Model,\n",
    "    Environment,\n",
    ")\n",
    "\n",
    "# create an online endpoint\n",
    "endpoint = ManagedOnlineEndpoint(\n",
    "    name=online_endpoint_name,\n",
    "    description=\"this is an online endpoint\",\n",
    "    auth_mode=\"key\",\n",
    "    tags={\n",
    "        \"training_dataset\": \"credit_defaults\",\n",
    "        \"model_type\": \"sklearn.GradientBoostingClassifier\",\n",
    "    },\n",
    ")\n",
    "\n",
    "endpoint = ml_client.begin_create_or_update(endpoint)\n",
    "\n",
    "print(f\"Endpint {endpoint.name} provisioning state: {endpoint.provisioning_state}\")"
   ]
  },
  {
   "cell_type": "markdown",
   "metadata": {},
   "source": [
    "Once you've created an endpoint, you can retrieve it as below:"
   ]
  },
  {
   "cell_type": "code",
   "execution_count": 130,
   "metadata": {
    "attributes": {
     "classes": [
      "Python"
     ],
     "id": ""
    },
    "name": "update-endpoint"
   },
   "outputs": [
    {
     "name": "stdout",
     "output_type": "stream",
     "text": [
      "Endpint \"credit-endpoint-5fd9e253\" with provisioning state \"Succeeded\" is retrieved\n"
     ]
    }
   ],
   "source": [
    "endpoint = ml_client.online_endpoints.get(name=online_endpoint_name)\n",
    "\n",
    "print(\n",
    "    f'Endpint \"{endpoint.name}\" with provisioning state \"{endpoint.provisioning_state}\" is retrieved'\n",
    ")"
   ]
  },
  {
   "cell_type": "markdown",
   "metadata": {},
   "source": [
    "## Deploy the model to the endpoint\n",
    "\n",
    "Once the endpoint is created, deploy the model with the entry script. Each endpoint can have multiple deployments and direct traffic to these deployments can be specified using rules. Here you'll create a single deployment that handles 100% of the incoming traffic. We have chosen a color name for the deployment, for example, *blue*, *green*, *red* deployments, which is arbitrary.\n",
    "\n",
    "You can check the *Models* page on the Azure ML studio, to identify the latest version of your registered model. Alternatively, the code below will retrieve the latest version number for you to use."
   ]
  },
  {
   "cell_type": "code",
   "execution_count": 131,
   "metadata": {
    "attributes": {
     "classes": [
      "Python"
     ],
     "id": ""
    },
    "name": "latest_model_version"
   },
   "outputs": [],
   "source": [
    "# Let's pick the latest version of the model\n",
    "latest_model_version = max(\n",
    "    [int(m.version) for m in ml_client.models.list(name=registered_model_name)]\n",
    ")"
   ]
  },
  {
   "cell_type": "markdown",
   "metadata": {},
   "source": [
    "Deploy the latest version of the model.  \n",
    "\n",
    "> [!NOTE]\n",
    "> Expect this deployment to take approximately 6 to 8 minutes."
   ]
  },
  {
   "cell_type": "code",
   "execution_count": 132,
   "metadata": {
    "attributes": {
     "classes": [
      "Python"
     ],
     "id": "",
     "name": "model"
    }
   },
   "outputs": [
    {
     "name": "stderr",
     "output_type": "stream",
     "text": [
      "Check: endpoint credit-endpoint-5fd9e253 exists\n",
      "Creating/updating online deployment blue "
     ]
    },
    {
     "name": "stdout",
     "output_type": "stream",
     "text": [
      "........................................................................"
     ]
    },
    {
     "name": "stderr",
     "output_type": "stream",
     "text": [
      "Done (6m 21s)\n"
     ]
    }
   ],
   "source": [
    "# picking the model to deploy. Here we use the latest version of our registered model\n",
    "model = ml_client.models.get(name=registered_model_name, version=latest_model_version)\n",
    "\n",
    "\n",
    "# create an online deployment.\n",
    "blue_deployment = ManagedOnlineDeployment(\n",
    "    name=\"blue\",\n",
    "    endpoint_name=online_endpoint_name,\n",
    "    model=model,\n",
    "    instance_type=\"Standard_DS3_v2\",\n",
    "    instance_count=1,\n",
    ")\n",
    "\n",
    "blue_deployment = ml_client.begin_create_or_update(blue_deployment)"
   ]
  },
  {
   "cell_type": "markdown",
   "metadata": {},
   "source": [
    "### Test with a sample query\n",
    "\n",
    "Now that the model is deployed to the endpoint, you can run inference with it.\n",
    "\n",
    "Create a sample request file following the design expected in the run method in the score script."
   ]
  },
  {
   "cell_type": "code",
   "execution_count": 141,
   "metadata": {
    "attributes": {
     "classes": [
      "Python"
     ],
     "id": ""
    },
    "name": "sample-request.json"
   },
   "outputs": [
    {
     "name": "stdout",
     "output_type": "stream",
     "text": [
      "Overwriting ./deploy/sample-request.json\n"
     ]
    }
   ],
   "source": [
    "%%writefile {deploy_dir}/sample-request.json\n",
    "{\n",
    "    \"input_data\": {\n",
    "        \"columns\": [\n",
    "            0,\n",
    "            1,\n",
    "            2,\n",
    "            3,\n",
    "            4,\n",
    "            5,\n",
    "            6,\n",
    "            7,\n",
    "            8,\n",
    "            9,\n",
    "            10,\n",
    "            11,\n",
    "            12,\n",
    "            13,\n",
    "            14,\n",
    "            15,\n",
    "            16,\n",
    "            17,\n",
    "            18,\n",
    "            19,\n",
    "            20,\n",
    "            21,\n",
    "            22,\n",
    "        ],\n",
    "        \"index\": [0, 1],\n",
    "        \"data\": [\n",
    "            [\n",
    "                20000,\n",
    "                2,\n",
    "                2,\n",
    "                1,\n",
    "                24,\n",
    "                2,\n",
    "                2,\n",
    "                -1,\n",
    "                -1,\n",
    "                -2,\n",
    "                -2,\n",
    "                3913,\n",
    "                3102,\n",
    "                689,\n",
    "                0,\n",
    "                0,\n",
    "                0,\n",
    "                0,\n",
    "                689,\n",
    "                0,\n",
    "                0,\n",
    "                0,\n",
    "                0,\n",
    "            ],\n",
    "            [10, 9, 8, 7, 6, 5, 4, 3, 2, 1, 10, 9, 8, 7, 6, 5, 4, 3, 2, 1, 10, 9, 8],\n",
    "        ],\n",
    "    }\n",
    "}"
   ]
  },
  {
   "cell_type": "code",
   "execution_count": 142,
   "metadata": {
    "attributes": {
     "classes": [
      "Python"
     ],
     "id": ""
    },
    "name": "ml_client.online_endpoints.invoke"
   },
   "outputs": [
    {
     "data": {
      "text/plain": [
       "'[1, 0]'"
      ]
     },
     "execution_count": 142,
     "metadata": {},
     "output_type": "execute_result"
    }
   ],
   "source": [
    "# test the blue deployment with some sample data\n",
    "ml_client.online_endpoints.invoke(\n",
    "    endpoint_name=online_endpoint_name,\n",
    "    request_file=\"./deploy/sample-request.json\",\n",
    "    deployment_name=\"blue\",\n",
    ")"
   ]
  },
  {
   "cell_type": "markdown",
   "metadata": {},
   "source": [
    "## Clean up resources\n",
    "\n",
    "If you're not going to use the endpoint, delete it to stop using the resource.  Make sure no other deployments are using an endpoint before you delete it.\n",
    "\n",
    "\n",
    "> [!NOTE]\n",
    "> Expect this step to take approximately 6 to 8 minutes."
   ]
  },
  {
   "cell_type": "code",
   "execution_count": 143,
   "metadata": {
    "attributes": {
     "classes": [
      "python "
     ],
     "id": ""
    },
    "name": "ml_client.online_endpoints.begin_delete"
   },
   "outputs": [
    {
     "name": "stderr",
     "output_type": "stream",
     "text": [
      "Deleting endpoint credit-endpoint-5fd9e253 \n"
     ]
    },
    {
     "name": "stdout",
     "output_type": "stream",
     "text": [
      "..."
     ]
    }
   ],
   "source": [
    "ml_client.online_endpoints.begin_delete(name=online_endpoint_name)"
   ]
  },
  {
   "cell_type": "markdown",
   "metadata": {},
   "source": [
    "## Next Steps\n",
    "\n",
    "Learn more about [Azure ML logging](https://github.com/Azure/azureml-examples/blob/sdk-preview/notebooks/mlflow/mlflow-v1-comparison.ipynb)."
   ]
  }
 ],
 "metadata": {
  "celltoolbar": "Edit Metadata",
  "interpreter": {
   "hash": "9f73dd616eec8cd01fb4377ae6e204d5ca89dd4fb7a69ada633094e2c3278d33"
  },
  "kernel_info": {
   "name": "python38-azureml"
  },
  "kernelspec": {
   "display_name": "Python 3.8.13 ('dpv2-bb')",
   "language": "python",
   "name": "python3"
  },
  "language_info": {
   "codemirror_mode": {
    "name": "ipython",
    "version": 3
   },
   "file_extension": ".py",
   "mimetype": "text/x-python",
   "name": "python",
   "nbconvert_exporter": "python",
   "pygments_lexer": "ipython3",
   "version": "3.8.13"
  },
  "nteract": {
   "version": "nteract-front-end@1.0.0"
  }
 },
 "nbformat": 4,
 "nbformat_minor": 1
}
