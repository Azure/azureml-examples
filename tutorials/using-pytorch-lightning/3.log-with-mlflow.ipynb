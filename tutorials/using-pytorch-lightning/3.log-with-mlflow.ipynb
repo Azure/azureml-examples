{
 "cells": [
  {
   "cell_type": "markdown",
   "metadata": {},
   "source": [
    "# Log metrics with MLflow in PyTorch Lightning\n",
    "\n",
    "description: log mlflow metrics in pytorch lightning with azureml as the backend tracking store\n",
    "\n",
    "Lightning supports many popular [logging frameworks](https://pytorch-lightning.readthedocs.io/en/stable/loggers.html). [MLflow](https://mlflow.org/) is a popular open-source library for managing the lifecycle of your ML projects. Azure ML offers integration with MLflow, including for training. Specifically, Azure ML integrates as a backend tracking store for MLflow's [Tracking](https://mlflow.org/docs/latest/tracking.html#) component for logging metrics and managing runs. This tutorial will cover using the MLflow logger and leveraging the Azure ML MLflow integration."
   ]
  },
  {
   "cell_type": "code",
   "execution_count": null,
   "metadata": {},
   "outputs": [],
   "source": [
    "from azureml.core import Workspace\n",
    "\n",
    "ws = Workspace.from_config()\n",
    "ws"
   ]
  },
  {
   "cell_type": "code",
   "execution_count": null,
   "metadata": {},
   "outputs": [],
   "source": [
    "# training script\n",
    "source_dir = \".\"\n",
    "script_name = \"train-with-mlflow-logging.py\"\n",
    "\n",
    "# environment file\n",
    "environment_file = \"pytorch-lightning.yml\"\n",
    "\n",
    "# azure ml settings\n",
    "environment_name = \"pt-lightning\"\n",
    "experiment_name = \"pt-lightning-mlflow-example\"\n",
    "compute_name = \"gpu-K80-2\""
   ]
  },
  {
   "cell_type": "markdown",
   "metadata": {},
   "source": [
    "## Create environment\n",
    "\n",
    "Define a conda environment YAML file with your training script dependencies and create an Azure ML environment. This notebook will use the same environment definition that was used for part 1 of the tutorial. The dependencies include **mlflow** and **azureml-mlflow**, which are needed for logging with MLflow."
   ]
  },
  {
   "cell_type": "code",
   "execution_count": null,
   "metadata": {},
   "outputs": [],
   "source": [
    "from azureml.core import Environment\n",
    "\n",
    "env = Environment.from_conda_specification(environment_name, environment_file)\n",
    "\n",
    "# specify a GPU base image\n",
    "env.docker.enabled = True\n",
    "env.docker.base_image = (\n",
    "    \"mcr.microsoft.com/azureml/openmpi3.1.2-cuda10.2-cudnn8-ubuntu18.04\"\n",
    ")"
   ]
  },
  {
   "cell_type": "markdown",
   "metadata": {},
   "source": [
    "## Enable logging in training script\n",
    "\n",
    "In *train_with_mlfow_logging.py*:\n",
    "\n",
    "### 1. Create an MLFlowLogger\n",
    "To configure the MLFlowLogger, you will need to provide the following:\n",
    "\n",
    "* **Tracking URI**: Specify the tracking URI to point to your Azure ML Workspace in order to use Azure ML as the backend tracking store for MLflow. You can get the URI with `get_mlflow_tracking_uri()`.\n",
    "* **Experiment name**: Use the same name as the name of your Azure ML experiment.\n",
    "* **Run ID**: You will need to link the MLFlowLogger's run ID to the ID of the Azure ML run.\n",
    "\n",
    "To get the Azure ML Run object of the training run, use the azureml `Run.get_context()` method. Once you have the Run object, you can then access the Experiment and Workspace.\n",
    "\n",
    "```python\n",
    "from azureml.core import Run\n",
    "\n",
    "run = Run.get_context()\n",
    "mlflow_uri = run.experiment.workspace.get_mlflow_tracking_uri()\n",
    "exp_name = run.experiment.name\n",
    "    \n",
    "mlf_logger = MLFlowLogger(experiment_name=exp_name, tracking_uri=mlflow_uri)\n",
    "mlf_logger._run_id = run.id\n",
    "\n",
    "trainer = pl.Trainer.from_argparse_args(args, logger=mlf_logger)\n",
    "```\n",
    "\n",
    "Lightning will then take care of setting the tracking URI, creating the MLflow experiment, starting the MLflow run, and creating the underlying `MlflowClient` object.\n",
    "\n",
    "    \n",
    "### 2. Log metrics\n",
    "You can then log metrics and other objects in your script. This tutorial's training script leverages Lightning's automatic log functionalities to log the loss metric by calling `self.log()` inside the `training_step()` method. Since logging too frequently can slow down training, the tutorial logs at the end of every epoch.\n",
    "\n",
    "```python\n",
    "self.log('loss', loss, on_epoch=True, on_step=False)\n",
    "```\n",
    "\n",
    "For more information on logging and the configurable options, see Lightning's [Logging](https://pytorch-lightning.readthedocs.io/en/stable/logging.html) documentation and the [MLFlowLogger](https://pytorch-lightning.readthedocs.io/en/stable/logging.html#mlflow) reference documentation."
   ]
  },
  {
   "cell_type": "markdown",
   "metadata": {},
   "source": [
    "### Configure and run training job\n",
    "\n",
    "Create a ScriptRunConfig to specify the training script & arguments, environment, and cluster to run on."
   ]
  },
  {
   "cell_type": "code",
   "execution_count": null,
   "metadata": {},
   "outputs": [],
   "source": [
    "from azureml.core import ScriptRunConfig, Experiment\n",
    "\n",
    "src = ScriptRunConfig(\n",
    "    source_directory=source_dir,\n",
    "    script=script_name,\n",
    "    arguments=[\"--max_epochs\", 25, \"--gpus\", 2, \"--accelerator\", \"ddp\"],\n",
    "    compute_target=compute_name,\n",
    "    environment=env,\n",
    ")\n",
    "\n",
    "run = Experiment(ws, experiment_name).submit(src)\n",
    "run"
   ]
  },
  {
   "cell_type": "markdown",
   "metadata": {},
   "source": [
    "If you navigate to the Azure ML studio UI, you can see the logged metrics visualized under the Experiment view and the \"Metrics\" tab of the individual Run view."
   ]
  },
  {
   "cell_type": "code",
   "execution_count": null,
   "metadata": {},
   "outputs": [],
   "source": [
    "run.wait_for_completion(show_output=True)"
   ]
  }
 ],
 "metadata": {
  "kernelspec": {
   "display_name": "Python 3.8",
   "language": "python",
   "name": "python3.8"
  },
  "language_info": {
   "codemirror_mode": {
    "name": "ipython",
    "version": 3
   },
   "file_extension": ".py",
   "mimetype": "text/x-python",
   "name": "python",
   "nbconvert_exporter": "python",
   "pygments_lexer": "ipython3",
   "version": "3.7.7"
  }
 },
 "nbformat": 4,
 "nbformat_minor": 4
}
