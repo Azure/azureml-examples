{
 "cells": [
  {
   "cell_type": "markdown",
   "id": "fd969e25",
   "metadata": {},
   "source": [
    "# Deploy machine learning models to Azure\n",
    "\n",
    "description: (preview) deploy your machine learning or deep learning model as a web service in the Azure cloud."
   ]
  },
  {
   "cell_type": "markdown",
   "id": "996082fd",
   "metadata": {},
   "source": [
    "# Connect to your workspace"
   ]
  },
  {
   "cell_type": "code",
   "execution_count": 1,
   "id": "9a9f14ab",
   "metadata": {},
   "outputs": [
    {
     "name": "stderr",
     "output_type": "stream",
     "text": [
      "Warning: Falling back to use azure cli login credentials.\n",
      "If you run your code in unattended mode, i.e., where you can't give a user input, then we recommend to use ServicePrincipalAuthentication or MsiAuthentication.\n",
      "Please refer to aka.ms/aml-notebook-auth for different authentication mechanisms in azureml-sdk.\n"
     ]
    },
    {
     "data": {
      "text/plain": [
       "Workspace.create(name='chrjia-eastus2euap2', subscription_id='13e50845-67bc-4ac5-94db-48d493a6d9e8', resource_group='chrjia-rg')"
      ]
     },
     "execution_count": 1,
     "metadata": {},
     "output_type": "execute_result"
    }
   ],
   "source": [
    "from azureml.core import Workspace\n",
    "\n",
    "ws = Workspace.from_config()\n",
    "ws"
   ]
  },
  {
   "cell_type": "markdown",
   "id": "9057aaf6",
   "metadata": {},
   "source": [
    "# Register your model\n",
    "\n",
    "A registered model is a logical container stored in the cloud, containing all files located at `model_path`, which is associated with a version number and other metadata.\n",
    "\n"
   ]
  },
  {
   "cell_type": "markdown",
   "id": "cfe3cd0e",
   "metadata": {},
   "source": [
    "## Register a model from a local file\n",
    "\n",
    "You can register a model by providing the local path of the model. You can provide the path of either a folder or a single file on your local machine."
   ]
  },
  {
   "cell_type": "code",
   "execution_count": 2,
   "id": "fbf6e9da",
   "metadata": {},
   "outputs": [
    {
     "name": "stdout",
     "output_type": "stream",
     "text": [
      "Registering model bidaf_onnx\n"
     ]
    }
   ],
   "source": [
    "import urllib.request\n",
    "from azureml.core.model import Model\n",
    "# Download model\n",
    "urllib.request.urlretrieve(\"https://aka.ms/bidaf-9-model\", 'model.onnx')\n",
    "\n",
    "# Register model\n",
    "model = Model.register(ws, model_name='bidaf_onnx', model_path='./model.onnx')"
   ]
  },
  {
   "cell_type": "markdown",
   "id": "fc200fe9",
   "metadata": {},
   "source": [
    "# Define an inference configuration\n",
    "\n",
    "The inference configuration below specifies that the machine learning deployment will use the file echo_score.py in the ./source_dir directory to process incoming requests and that it will use the Docker image with the Python packages specified in the project_environment environment."
   ]
  },
  {
   "cell_type": "code",
   "execution_count": 3,
   "id": "c9e5efc8",
   "metadata": {},
   "outputs": [],
   "source": [
    "from azureml.core import Environment\n",
    "from azureml.core.model import InferenceConfig\n",
    "\n",
    "env = Environment(name='azmlenv')\n",
    "inference_config = InferenceConfig(environment=env, source_directory='./source_dir', entry_script='./echo_score.py')"
   ]
  },
  {
   "cell_type": "markdown",
   "id": "c850e5f4",
   "metadata": {},
   "source": [
    "## Define a deployment configuration"
   ]
  },
  {
   "cell_type": "code",
   "execution_count": 4,
   "id": "87a6fb85",
   "metadata": {},
   "outputs": [],
   "source": [
    "from azureml.core.webservice import LocalWebservice\n",
    "\n",
    "deployment_config = LocalWebservice.deploy_configuration(port=6789)"
   ]
  },
  {
   "cell_type": "markdown",
   "id": "f5d34207",
   "metadata": {},
   "source": [
    "## Deploy your machine learning model\n",
    "\n",
    "A deployment configuration specifies the amount of memory and cores to reserve for your webservice will require in order to run, as well as configuration details of the underlying webservice. For example, a deployment configuration lets you specify that your service needs 2 gigabytes of memory, 2 CPU cores, 1 GPU core, and that you want to enable autoscaling.\n",
    "\n",
    "The options available for a deployment configuration differ depending on the compute target you choose. In a local deployment, all you can specify is which port your webservice will be served on."
   ]
  },
  {
   "cell_type": "code",
   "execution_count": null,
   "id": "9762e02b",
   "metadata": {
    "scrolled": true
   },
   "outputs": [
    {
     "name": "stderr",
     "output_type": "stream",
     "text": [
      "ModelNotFound: Model with id bidaf_onnx:14 not found in provided workspace\n",
      "\n"
     ]
    },
    {
     "name": "stdout",
     "output_type": "stream",
     "text": [
      "Downloading model bidaf_onnx:15 to /tmp/azureml_prgt2n1y/bidaf_onnx/15\n"
     ]
    }
   ],
   "source": [
    "service = Model.deploy(ws, \"myservice\", [model], inference_config, deployment_config)\n",
    "service.wait_for_deployment(show_output=True)"
   ]
  },
  {
   "cell_type": "code",
   "execution_count": 18,
   "id": "ede851f8",
   "metadata": {},
   "outputs": [
    {
     "name": "stderr",
     "output_type": "stream",
     "text": [
      "Received bad response from Model Management Service:\n",
      "Response Code: 404\n",
      "Headers: {'Date': 'Fri, 30 Apr 2021 11:43:14 GMT', 'Content-Type': 'application/json', 'Transfer-Encoding': 'chunked', 'Connection': 'keep-alive', 'Vary': 'Accept-Encoding', 'x-ms-client-request-id': 'b6a6528a-a0c9-44fc-8c7c-e56ca9926bfd', 'x-ms-client-session-id': '43a87548-c90e-4024-bd7e-894d59407a57', 'api-supported-versions': '1.0, 2018-03-01-preview, 2018-11-19', 'Strict-Transport-Security': 'max-age=15724800; includeSubDomains; preload', 'X-Content-Type-Options': 'nosniff', 'x-request-time': '0.922', 'Content-Encoding': 'gzip'}\n",
      "Content: b'{\"code\":\"NotFound\",\"statusCode\":404,\"message\":\"The specified resource was not found.\",\"details\":[{\"code\":\"NoSuchService\",\"message\":\"There is no service with name: testservice1 in Subscription: 13e50845-67bc-4ac5-94db-48d493a6d9e8, ResourceGroup: chrjia-rg, Workspace: chrjia-eastus2euap2, ACR: /subscriptions/13e50845-67bc-4ac5-94db-48d493a6d9e8/resourceGroups/chrjia-rg/providers/Microsoft.ContainerRegistry/registries/chrjiaeastusc6ba5291\"}],\"correlation\":{\"RequestId\":\"b6a6528a-a0c9-44fc-8c7c-e56ca9926bfd\"}}'\n",
      "\n"
     ]
    },
    {
     "ename": "WebserviceException",
     "evalue": "WebserviceException:\n\tMessage: Received bad response from Model Management Service:\nResponse Code: 404\nHeaders: {'Date': 'Fri, 30 Apr 2021 11:43:14 GMT', 'Content-Type': 'application/json', 'Transfer-Encoding': 'chunked', 'Connection': 'keep-alive', 'Vary': 'Accept-Encoding', 'x-ms-client-request-id': 'b6a6528a-a0c9-44fc-8c7c-e56ca9926bfd', 'x-ms-client-session-id': '43a87548-c90e-4024-bd7e-894d59407a57', 'api-supported-versions': '1.0, 2018-03-01-preview, 2018-11-19', 'Strict-Transport-Security': 'max-age=15724800; includeSubDomains; preload', 'X-Content-Type-Options': 'nosniff', 'x-request-time': '0.922', 'Content-Encoding': 'gzip'}\nContent: b'{\"code\":\"NotFound\",\"statusCode\":404,\"message\":\"The specified resource was not found.\",\"details\":[{\"code\":\"NoSuchService\",\"message\":\"There is no service with name: testservice1 in Subscription: 13e50845-67bc-4ac5-94db-48d493a6d9e8, ResourceGroup: chrjia-rg, Workspace: chrjia-eastus2euap2, ACR: /subscriptions/13e50845-67bc-4ac5-94db-48d493a6d9e8/resourceGroups/chrjia-rg/providers/Microsoft.ContainerRegistry/registries/chrjiaeastusc6ba5291\"}],\"correlation\":{\"RequestId\":\"b6a6528a-a0c9-44fc-8c7c-e56ca9926bfd\"}}'\n\tInnerException None\n\tErrorResponse \n{\n    \"error\": {\n        \"message\": \"Received bad response from Model Management Service:\\nResponse Code: 404\\nHeaders: {'Date': 'Fri, 30 Apr 2021 11:43:14 GMT', 'Content-Type': 'application/json', 'Transfer-Encoding': 'chunked', 'Connection': 'keep-alive', 'Vary': 'Accept-Encoding', 'x-ms-client-request-id': 'b6a6528a-a0c9-44fc-8c7c-e56ca9926bfd', 'x-ms-client-session-id': '43a87548-c90e-4024-bd7e-894d59407a57', 'api-supported-versions': '1.0, 2018-03-01-preview, 2018-11-19', 'Strict-Transport-Security': 'max-age=15724800; includeSubDomains; preload', 'X-Content-Type-Options': 'nosniff', 'x-request-time': '0.922', 'Content-Encoding': 'gzip'}\\nContent: b'{\\\"code\\\":\\\"NotFound\\\",\\\"statusCode\\\":404,\\\"message\\\":\\\"The specified resource was not found.\\\",\\\"details\\\":[{\\\"code\\\":\\\"NoSuchService\\\",\\\"message\\\":\\\"There is no service with name: testservice1 in Subscription: 13e50845-67bc-4ac5-94db-48d493a6d9e8, ResourceGroup: chrjia-rg, Workspace: chrjia-eastus2euap2, ACR: /subscriptions/13e50845-67bc-4ac5-94db-48d493a6d9e8/resourceGroups/chrjia-rg/providers/Microsoft.ContainerRegistry/registries/chrjiaeastusc6ba5291\\\"}],\\\"correlation\\\":{\\\"RequestId\\\":\\\"b6a6528a-a0c9-44fc-8c7c-e56ca9926bfd\\\"}}'\"\n    }\n}",
     "output_type": "error",
     "traceback": [
      "\u001b[0;31m---------------------------------------------------------------------------\u001b[0m",
      "\u001b[0;31mWebserviceException\u001b[0m                       Traceback (most recent call last)",
      "\u001b[0;32m<ipython-input-18-d9b3c3bf9972>\u001b[0m in \u001b[0;36m<module>\u001b[0;34m\u001b[0m\n\u001b[0;32m----> 1\u001b[0;31m \u001b[0mprint\u001b[0m\u001b[0;34m(\u001b[0m\u001b[0mservice\u001b[0m\u001b[0;34m.\u001b[0m\u001b[0mget_logs\u001b[0m\u001b[0;34m(\u001b[0m\u001b[0;34m)\u001b[0m\u001b[0;34m)\u001b[0m\u001b[0;34m\u001b[0m\u001b[0;34m\u001b[0m\u001b[0m\n\u001b[0m",
      "\u001b[0;32m~/anaconda3/envs/azmlenv/lib/python3.7/site-packages/azureml/core/webservice/webservice.py\u001b[0m in \u001b[0;36mget_logs\u001b[0;34m(self, num_lines, init)\u001b[0m\n\u001b[1;32m   1238\u001b[0m                                       \u001b[0;34m'Headers: {}\\n'\u001b[0m\u001b[0;34m\u001b[0m\u001b[0;34m\u001b[0m\u001b[0m\n\u001b[1;32m   1239\u001b[0m                                       \u001b[0;34m'Content: {}'\u001b[0m\u001b[0;34m.\u001b[0m\u001b[0mformat\u001b[0m\u001b[0;34m(\u001b[0m\u001b[0mresp\u001b[0m\u001b[0;34m.\u001b[0m\u001b[0mstatus_code\u001b[0m\u001b[0;34m,\u001b[0m \u001b[0mresp\u001b[0m\u001b[0;34m.\u001b[0m\u001b[0mheaders\u001b[0m\u001b[0;34m,\u001b[0m \u001b[0mresp\u001b[0m\u001b[0;34m.\u001b[0m\u001b[0mcontent\u001b[0m\u001b[0;34m)\u001b[0m\u001b[0;34m,\u001b[0m\u001b[0;34m\u001b[0m\u001b[0;34m\u001b[0m\u001b[0m\n\u001b[0;32m-> 1240\u001b[0;31m                                       logger=module_logger)\n\u001b[0m\u001b[1;32m   1241\u001b[0m         \u001b[0;32melse\u001b[0m\u001b[0;34m:\u001b[0m\u001b[0;34m\u001b[0m\u001b[0;34m\u001b[0m\u001b[0m\n\u001b[1;32m   1242\u001b[0m             \u001b[0mcontent\u001b[0m \u001b[0;34m=\u001b[0m \u001b[0mresp\u001b[0m\u001b[0;34m.\u001b[0m\u001b[0mcontent\u001b[0m\u001b[0;34m\u001b[0m\u001b[0;34m\u001b[0m\u001b[0m\n",
      "\u001b[0;31mWebserviceException\u001b[0m: WebserviceException:\n\tMessage: Received bad response from Model Management Service:\nResponse Code: 404\nHeaders: {'Date': 'Fri, 30 Apr 2021 11:43:14 GMT', 'Content-Type': 'application/json', 'Transfer-Encoding': 'chunked', 'Connection': 'keep-alive', 'Vary': 'Accept-Encoding', 'x-ms-client-request-id': 'b6a6528a-a0c9-44fc-8c7c-e56ca9926bfd', 'x-ms-client-session-id': '43a87548-c90e-4024-bd7e-894d59407a57', 'api-supported-versions': '1.0, 2018-03-01-preview, 2018-11-19', 'Strict-Transport-Security': 'max-age=15724800; includeSubDomains; preload', 'X-Content-Type-Options': 'nosniff', 'x-request-time': '0.922', 'Content-Encoding': 'gzip'}\nContent: b'{\"code\":\"NotFound\",\"statusCode\":404,\"message\":\"The specified resource was not found.\",\"details\":[{\"code\":\"NoSuchService\",\"message\":\"There is no service with name: testservice1 in Subscription: 13e50845-67bc-4ac5-94db-48d493a6d9e8, ResourceGroup: chrjia-rg, Workspace: chrjia-eastus2euap2, ACR: /subscriptions/13e50845-67bc-4ac5-94db-48d493a6d9e8/resourceGroups/chrjia-rg/providers/Microsoft.ContainerRegistry/registries/chrjiaeastusc6ba5291\"}],\"correlation\":{\"RequestId\":\"b6a6528a-a0c9-44fc-8c7c-e56ca9926bfd\"}}'\n\tInnerException None\n\tErrorResponse \n{\n    \"error\": {\n        \"message\": \"Received bad response from Model Management Service:\\nResponse Code: 404\\nHeaders: {'Date': 'Fri, 30 Apr 2021 11:43:14 GMT', 'Content-Type': 'application/json', 'Transfer-Encoding': 'chunked', 'Connection': 'keep-alive', 'Vary': 'Accept-Encoding', 'x-ms-client-request-id': 'b6a6528a-a0c9-44fc-8c7c-e56ca9926bfd', 'x-ms-client-session-id': '43a87548-c90e-4024-bd7e-894d59407a57', 'api-supported-versions': '1.0, 2018-03-01-preview, 2018-11-19', 'Strict-Transport-Security': 'max-age=15724800; includeSubDomains; preload', 'X-Content-Type-Options': 'nosniff', 'x-request-time': '0.922', 'Content-Encoding': 'gzip'}\\nContent: b'{\\\"code\\\":\\\"NotFound\\\",\\\"statusCode\\\":404,\\\"message\\\":\\\"The specified resource was not found.\\\",\\\"details\\\":[{\\\"code\\\":\\\"NoSuchService\\\",\\\"message\\\":\\\"There is no service with name: testservice1 in Subscription: 13e50845-67bc-4ac5-94db-48d493a6d9e8, ResourceGroup: chrjia-rg, Workspace: chrjia-eastus2euap2, ACR: /subscriptions/13e50845-67bc-4ac5-94db-48d493a6d9e8/resourceGroups/chrjia-rg/providers/Microsoft.ContainerRegistry/registries/chrjiaeastusc6ba5291\\\"}],\\\"correlation\\\":{\\\"RequestId\\\":\\\"b6a6528a-a0c9-44fc-8c7c-e56ca9926bfd\\\"}}'\"\n    }\n}"
     ]
    }
   ],
   "source": [
    "print(service.get_logs())"
   ]
  },
  {
   "cell_type": "markdown",
   "id": "1b9d47b4",
   "metadata": {},
   "source": [
    "## Call into your model"
   ]
  },
  {
   "cell_type": "code",
   "execution_count": 7,
   "id": "45e92e91",
   "metadata": {},
   "outputs": [
    {
     "name": "stdout",
     "output_type": "stream",
     "text": [
      "test is {'query': 'What color is the fox', 'context': 'The quick brown fox jumped over the lazy dog.'}\n"
     ]
    }
   ],
   "source": [
    "import requests\n",
    "import json\n",
    "\n",
    "uri = service.scoring_uri\n",
    "requests.get('http://localhost:6789')\n",
    "headers = {'Content-Type': 'application/json'}\n",
    "data = {\"query\": \"What color is the fox\", \"context\": \"The quick brown fox jumped over the lazy dog.\"}\n",
    "data = json.dumps(data)\n",
    "response = requests.post(uri, data=data, headers=headers)\n",
    "print(response.json())"
   ]
  },
  {
   "cell_type": "markdown",
   "id": "34c9e82c",
   "metadata": {},
   "source": [
    "Notice the use of the AZUREML_MODEL_DIR environment variable to locate your registered model. Now that you've added some pip packages, you also need to update your inference configuration to add in those additional packages"
   ]
  },
  {
   "cell_type": "code",
   "execution_count": 8,
   "id": "71b9d8a2",
   "metadata": {},
   "outputs": [],
   "source": [
    "env = Environment(name='azmlenv')\n",
    "python_packages = ['nltk', 'numpy', 'onnxruntime']\n",
    "for package in python_packages:\n",
    "    env.python.conda_dependencies.add_pip_package(package)\n",
    "\n",
    "inf_config = InferenceConfig(environment=env, source_directory='./source_dir', entry_script='./score.py')"
   ]
  },
  {
   "cell_type": "markdown",
   "id": "08c0c387",
   "metadata": {},
   "source": [
    "## Deploy again and call your service"
   ]
  },
  {
   "cell_type": "code",
   "execution_count": 9,
   "id": "fd084966",
   "metadata": {},
   "outputs": [
    {
     "name": "stdout",
     "output_type": "stream",
     "text": [
      "Downloading model bidaf_onnx:14 to /tmp/azureml_xunle34c/bidaf_onnx/14\n",
      "Generating Docker build context.\n",
      "Package creation Succeeded\n",
      "Logging into Docker registry chrjiaeastusc6ba5291.azurecr.io\n",
      "Logging into Docker registry chrjiaeastusc6ba5291.azurecr.io\n",
      "Building Docker image from Dockerfile...\n",
      "Step 1/5 : FROM chrjiaeastusc6ba5291.azurecr.io/azureml/azureml_673d52b5abe224c83574bc767a17fa28\n",
      " ---> 0884414da052\n",
      "Step 2/5 : COPY azureml-app /var/azureml-app\n",
      " ---> dd8769a7a7ab\n",
      "Step 3/5 : RUN mkdir -p '/var/azureml-app' && echo eyJhY2NvdW50Q29udGV4dCI6eyJzdWJzY3JpcHRpb25JZCI6IjEzZTUwODQ1LTY3YmMtNGFjNS05NGRiLTQ4ZDQ5M2E2ZDllOCIsInJlc291cmNlR3JvdXBOYW1lIjoiY2hyamlhLXJnIiwiYWNjb3VudE5hbWUiOiJjaHJqaWEtZWFzdHVzMmV1YXAyIiwid29ya3NwYWNlSWQiOiI1OTkzZGVjMS01OTczLTQ4NTktOGJlMS03MDczMzJjNTQ5NWQifSwibW9kZWxzIjp7fSwibW9kZWxzSW5mbyI6e319 | base64 --decode > /var/azureml-app/model_config_map.json\n",
      " ---> Running in 03f706ec9af1\n",
      " ---> 3db720c38271\n",
      "Step 4/5 : RUN mv '/var/azureml-app/tmpvmp9mju7.py' /var/azureml-app/main.py\n",
      " ---> Running in b47abfc47c9c\n",
      " ---> 07ac31e8ce1d\n",
      "Step 5/5 : CMD [\"runsvdir\",\"/var/runit\"]\n",
      " ---> Running in a0c3a32ea9c0\n",
      " ---> fa711db8b7a7\n",
      "Successfully built fa711db8b7a7\n",
      "Successfully tagged myservice:latest\n",
      "Container has been successfully cleaned up.\n",
      "Image sha256:9d9ce9a304e53cb32743ba53957b2119aa281e034db855142bad9eeaa78ab02e successfully removed.\n",
      "Starting Docker container...\n",
      "Docker container running.\n",
      "Checking container health...\n",
      "Local webservice is running at http://localhost:6789\n"
     ]
    }
   ],
   "source": [
    "service = Model.deploy(ws, \"myservice\", [model], inference_config, deployment_config)\n",
    "service.wait_for_deployment(show_output=True)"
   ]
  },
  {
   "cell_type": "code",
   "execution_count": 10,
   "id": "72f79356",
   "metadata": {},
   "outputs": [
    {
     "name": "stdout",
     "output_type": "stream",
     "text": [
      "2021-04-30T11:41:11,034858300+00:00 - rsyslog/run \n",
      "2021-04-30T11:41:11,035297500+00:00 - gunicorn/run \n",
      "2021-04-30T11:41:11,035416900+00:00 - iot-server/run \n",
      "2021-04-30T11:41:11,035906300+00:00 - nginx/run \n",
      "/usr/sbin/nginx: /azureml-envs/azureml_da3e97fcb51801118b8e80207f3e01ad/lib/libcrypto.so.1.0.0: no version information available (required by /usr/sbin/nginx)\n",
      "/usr/sbin/nginx: /azureml-envs/azureml_da3e97fcb51801118b8e80207f3e01ad/lib/libcrypto.so.1.0.0: no version information available (required by /usr/sbin/nginx)\n",
      "/usr/sbin/nginx: /azureml-envs/azureml_da3e97fcb51801118b8e80207f3e01ad/lib/libssl.so.1.0.0: no version information available (required by /usr/sbin/nginx)\n",
      "/usr/sbin/nginx: /azureml-envs/azureml_da3e97fcb51801118b8e80207f3e01ad/lib/libssl.so.1.0.0: no version information available (required by /usr/sbin/nginx)\n",
      "/usr/sbin/nginx: /azureml-envs/azureml_da3e97fcb51801118b8e80207f3e01ad/lib/libssl.so.1.0.0: no version information available (required by /usr/sbin/nginx)\n",
      "EdgeHubConnectionString and IOTEDGE_IOTHUBHOSTNAME are not set. Exiting...\n",
      "2021-04-30T11:41:11,106962700+00:00 - iot-server/finish 1 0\n",
      "2021-04-30T11:41:11,108344700+00:00 - Exit code 1 is normal. Not restarting iot-server.\n",
      "Starting gunicorn 19.9.0\n",
      "Listening at: http://127.0.0.1:31311 (13)\n",
      "Using worker: sync\n",
      "worker timeout is set to 300\n",
      "Booting worker with pid: 47\n",
      "SPARK_HOME not set. Skipping PySpark Initialization.\n",
      "Initializing logger\n",
      "2021-04-30 11:41:11,392 | root | INFO | Starting up app insights client\n",
      "2021-04-30 11:41:11,392 | root | INFO | Starting up request id generator\n",
      "2021-04-30 11:41:11,393 | root | INFO | Starting up app insight hooks\n",
      "2021-04-30 11:41:11,393 | root | INFO | Invoking user's init function\n",
      "This is init\n",
      "2021-04-30 11:41:11,393 | root | INFO | Users's init has completed successfully\n",
      "2021-04-30 11:41:11,395 | root | INFO | Skipping middleware: dbg_model_info as it's not enabled.\n",
      "2021-04-30 11:41:11,395 | root | INFO | Skipping middleware: dbg_resource_usage as it's not enabled.\n",
      "2021-04-30 11:41:11,395 | root | INFO | Scoring timeout setting is not found. Use default timeout: 3600000 ms\n",
      "\n"
     ]
    }
   ],
   "source": [
    "print(service.get_logs())"
   ]
  },
  {
   "cell_type": "markdown",
   "id": "7861af8f",
   "metadata": {},
   "source": [
    "Then ensure you can send a post request to the service:"
   ]
  },
  {
   "cell_type": "code",
   "execution_count": 11,
   "id": "c0dac0e2",
   "metadata": {},
   "outputs": [
    {
     "name": "stdout",
     "output_type": "stream",
     "text": [
      "test is {'query': 'What color is the fox', 'context': 'The quick brown fox jumped over the lazy dog.'}\n"
     ]
    }
   ],
   "source": [
    "import requests\n",
    "\n",
    "uri = service.scoring_uri\n",
    "\n",
    "headers = {'Content-Type': 'application/json'}\n",
    "data = {\"query\": \"What color is the fox\", \"context\": \"The quick brown fox jumped over the lazy dog.\"}\n",
    "data = json.dumps(data)\n",
    "response = requests.post(uri, data=data, headers=headers)\n",
    "print(response.json())"
   ]
  },
  {
   "cell_type": "markdown",
   "id": "fc9aab6b",
   "metadata": {},
   "source": [
    "## Re-deploy to cloud\n",
    "\n",
    "Once you've confirmed your service works locally and chosen a remote compute target, you are ready to deploy to the cloud.\n",
    "\n",
    "Change your deploy configuration to correspond to the compute target you've chosen, in this case Azure Container Instances."
   ]
  },
  {
   "cell_type": "code",
   "execution_count": 12,
   "id": "e0a4ce66",
   "metadata": {},
   "outputs": [],
   "source": [
    "from azureml.core.webservice import AciWebservice\n",
    "\n",
    "deployment_config = AciWebservice.deploy_configuration(cpu_cores = 0.5, memory_gb = 1, auth_enabled=True)"
   ]
  },
  {
   "cell_type": "markdown",
   "id": "4828de68",
   "metadata": {},
   "source": [
    "Deploy your service again"
   ]
  },
  {
   "cell_type": "code",
   "execution_count": 13,
   "id": "51029f65",
   "metadata": {},
   "outputs": [
    {
     "name": "stdout",
     "output_type": "stream",
     "text": [
      "Tips: You can try get_logs(): https://aka.ms/debugimage#dockerlog or local deployment: https://aka.ms/debugimage#debug-locally to debug if deployment takes longer than 10 minutes.\n",
      "Running\n",
      "2021-04-30 17:11:20+05:30 Creating Container Registry if not exists.\n",
      "2021-04-30 17:11:20+05:30 Registering the environment.\n",
      "2021-04-30 17:11:20+05:30 Use the existing image.\n",
      "2021-04-30 17:11:20+05:30 Generating deployment configuration.\n",
      "2021-04-30 17:11:21+05:30 Submitting deployment to compute..\n",
      "2021-04-30 17:11:29+05:30 Checking the status of deployment testservice1..\n",
      "2021-04-30 17:12:58+05:30 Checking the status of inference endpoint testservice1.\n",
      "Succeeded\n",
      "ACI service creation operation finished, operation \"Succeeded\"\n"
     ]
    }
   ],
   "source": [
    "service = Model.deploy(ws, \"testservice1\", [model], inference_config, deployment_config)\n",
    "service.wait_for_deployment(show_output=True)"
   ]
  },
  {
   "cell_type": "code",
   "execution_count": 14,
   "id": "d141a247",
   "metadata": {},
   "outputs": [
    {
     "name": "stdout",
     "output_type": "stream",
     "text": [
      "2021-04-30T11:42:41,735344400+00:00 - iot-server/run \n",
      "2021-04-30T11:42:41,750415800+00:00 - gunicorn/run \n",
      "2021-04-30T11:42:41,756794100+00:00 - nginx/run \n",
      "/usr/sbin/nginx: /azureml-envs/azureml_da3e97fcb51801118b8e80207f3e01ad/lib/libcrypto.so.1.0.0: no version information available (required by /usr/sbin/nginx)\n",
      "/usr/sbin/nginx: /azureml-envs/azureml_da3e97fcb51801118b8e80207f3e01ad/lib/libcrypto.so.1.0.0: no version information available (required by /usr/sbin/nginx)\n",
      "/usr/sbin/nginx: /azureml-envs/azureml_da3e97fcb51801118b8e80207f3e01ad/lib/libssl.so.1.0.0: no version information available (required by /usr/sbin/nginx)\n",
      "/usr/sbin/nginx: /azureml-envs/azureml_da3e97fcb51801118b8e80207f3e01ad/lib/libssl.so.1.0.0: no version information available (required by /usr/sbin/nginx)\n",
      "/usr/sbin/nginx: /azureml-envs/azureml_da3e97fcb51801118b8e80207f3e01ad/lib/libssl.so.1.0.0: no version information available (required by /usr/sbin/nginx)\n",
      "2021-04-30T11:42:41,767035900+00:00 - rsyslog/run \n",
      "EdgeHubConnectionString and IOTEDGE_IOTHUBHOSTNAME are not set. Exiting...\n",
      "2021-04-30T11:42:42,152013400+00:00 - iot-server/finish 1 0\n",
      "2021-04-30T11:42:42,159545500+00:00 - Exit code 1 is normal. Not restarting iot-server.\n",
      "Starting gunicorn 19.9.0\n",
      "Listening at: http://127.0.0.1:31311 (60)\n",
      "Using worker: sync\n",
      "worker timeout is set to 300\n",
      "Booting worker with pid: 87\n",
      "SPARK_HOME not set. Skipping PySpark Initialization.\n",
      "Initializing logger\n",
      "2021-04-30 11:42:42,798 | root | INFO | Starting up app insights client\n",
      "2021-04-30 11:42:42,798 | root | INFO | Starting up request id generator\n",
      "2021-04-30 11:42:42,799 | root | INFO | Starting up app insight hooks\n",
      "2021-04-30 11:42:42,799 | root | INFO | Invoking user's init function\n",
      "This is init\n",
      "2021-04-30 11:42:42,801 | root | INFO | Users's init has completed successfully\n",
      "2021-04-30 11:42:42,803 | root | INFO | Skipping middleware: dbg_model_info as it's not enabled.\n",
      "2021-04-30 11:42:42,804 | root | INFO | Skipping middleware: dbg_resource_usage as it's not enabled.\n",
      "2021-04-30 11:42:42,807 | root | INFO | Scoring timeout is found from os.environ: 60000 ms\n",
      "2021-04-30 11:42:58,410 | root | INFO | Swagger file not present\n",
      "2021-04-30 11:42:58,411 | root | INFO | 404\n",
      "127.0.0.1 - - [30/Apr/2021:11:42:58 +0000] \"GET /swagger.json HTTP/1.0\" 404 19 \"-\" \"Go-http-client/1.1\"\n",
      "2021-04-30 11:43:00,813 | root | INFO | Swagger file not present\n",
      "2021-04-30 11:43:00,813 | root | INFO | 404\n",
      "127.0.0.1 - - [30/Apr/2021:11:43:00 +0000] \"GET /swagger.json HTTP/1.0\" 404 19 \"-\" \"Go-http-client/1.1\"\n",
      "\n"
     ]
    }
   ],
   "source": [
    "print(service.get_logs())"
   ]
  },
  {
   "cell_type": "markdown",
   "id": "b5448133",
   "metadata": {},
   "source": [
    "## Call your remote webservice\n",
    "\n",
    "When you deploy remotely, you may have key authentication enabled. The example below shows how to get your service key with Python in order to make an inference request."
   ]
  },
  {
   "cell_type": "code",
   "execution_count": 15,
   "id": "fd48987d",
   "metadata": {
    "scrolled": false
   },
   "outputs": [
    {
     "name": "stdout",
     "output_type": "stream",
     "text": [
      "\"test is {'query': 'What color is the fox', 'context': 'The quick brown fox jumped over the lazy dog.'}\"\n"
     ]
    }
   ],
   "source": [
    "import requests\n",
    "import json\n",
    "from azureml.core import Webservice\n",
    "\n",
    "service = Webservice(workspace=ws, name='testservice1')\n",
    "scoring_uri = service.scoring_uri\n",
    "\n",
    "# If the service is authenticated, set the key or token\n",
    "key, _ = service.get_keys()\n",
    "\n",
    "# Set the appropriate headers\n",
    "headers = {'Content-Type': 'application/json'}\n",
    "headers['Authorization'] = f'Bearer {key}'\n",
    "\n",
    "# Make the request and display the response and logs\n",
    "data = {\"query\": \"What color is the fox\", \"context\": \"The quick brown fox jumped over the lazy dog.\"}\n",
    "data = json.dumps(data)\n",
    "resp = requests.post(scoring_uri, data=data, headers=headers)\n",
    "print(resp.text)"
   ]
  },
  {
   "cell_type": "code",
   "execution_count": 16,
   "id": "51a6b357",
   "metadata": {},
   "outputs": [
    {
     "name": "stdout",
     "output_type": "stream",
     "text": [
      "2021-04-30T11:42:41,735344400+00:00 - iot-server/run \n",
      "2021-04-30T11:42:41,750415800+00:00 - gunicorn/run \n",
      "2021-04-30T11:42:41,756794100+00:00 - nginx/run \n",
      "/usr/sbin/nginx: /azureml-envs/azureml_da3e97fcb51801118b8e80207f3e01ad/lib/libcrypto.so.1.0.0: no version information available (required by /usr/sbin/nginx)\n",
      "/usr/sbin/nginx: /azureml-envs/azureml_da3e97fcb51801118b8e80207f3e01ad/lib/libcrypto.so.1.0.0: no version information available (required by /usr/sbin/nginx)\n",
      "/usr/sbin/nginx: /azureml-envs/azureml_da3e97fcb51801118b8e80207f3e01ad/lib/libssl.so.1.0.0: no version information available (required by /usr/sbin/nginx)\n",
      "/usr/sbin/nginx: /azureml-envs/azureml_da3e97fcb51801118b8e80207f3e01ad/lib/libssl.so.1.0.0: no version information available (required by /usr/sbin/nginx)\n",
      "/usr/sbin/nginx: /azureml-envs/azureml_da3e97fcb51801118b8e80207f3e01ad/lib/libssl.so.1.0.0: no version information available (required by /usr/sbin/nginx)\n",
      "2021-04-30T11:42:41,767035900+00:00 - rsyslog/run \n",
      "EdgeHubConnectionString and IOTEDGE_IOTHUBHOSTNAME are not set. Exiting...\n",
      "2021-04-30T11:42:42,152013400+00:00 - iot-server/finish 1 0\n",
      "2021-04-30T11:42:42,159545500+00:00 - Exit code 1 is normal. Not restarting iot-server.\n",
      "Starting gunicorn 19.9.0\n",
      "Listening at: http://127.0.0.1:31311 (60)\n",
      "Using worker: sync\n",
      "worker timeout is set to 300\n",
      "Booting worker with pid: 87\n",
      "SPARK_HOME not set. Skipping PySpark Initialization.\n",
      "Initializing logger\n",
      "2021-04-30 11:42:42,798 | root | INFO | Starting up app insights client\n",
      "2021-04-30 11:42:42,798 | root | INFO | Starting up request id generator\n",
      "2021-04-30 11:42:42,799 | root | INFO | Starting up app insight hooks\n",
      "2021-04-30 11:42:42,799 | root | INFO | Invoking user's init function\n",
      "This is init\n",
      "2021-04-30 11:42:42,801 | root | INFO | Users's init has completed successfully\n",
      "2021-04-30 11:42:42,803 | root | INFO | Skipping middleware: dbg_model_info as it's not enabled.\n",
      "2021-04-30 11:42:42,804 | root | INFO | Skipping middleware: dbg_resource_usage as it's not enabled.\n",
      "2021-04-30 11:42:42,807 | root | INFO | Scoring timeout is found from os.environ: 60000 ms\n",
      "2021-04-30 11:42:58,410 | root | INFO | Swagger file not present\n",
      "2021-04-30 11:42:58,411 | root | INFO | 404\n",
      "127.0.0.1 - - [30/Apr/2021:11:42:58 +0000] \"GET /swagger.json HTTP/1.0\" 404 19 \"-\" \"Go-http-client/1.1\"\n",
      "2021-04-30 11:43:00,813 | root | INFO | Swagger file not present\n",
      "2021-04-30 11:43:00,813 | root | INFO | 404\n",
      "127.0.0.1 - - [30/Apr/2021:11:43:00 +0000] \"GET /swagger.json HTTP/1.0\" 404 19 \"-\" \"Go-http-client/1.1\"\n",
      "2021-04-30 11:43:01,981 | root | INFO | Swagger file not present\n",
      "2021-04-30 11:43:01,982 | root | INFO | 404\n",
      "127.0.0.1 - - [30/Apr/2021:11:43:01 +0000] \"GET /swagger.json HTTP/1.0\" 404 19 \"-\" \"Go-http-client/1.1\"\n",
      "2021-04-30 11:43:04,516 | root | INFO | Validation Request Content-Type\n",
      "2021-04-30 11:43:04,517 | root | INFO | Scoring Timer is set to 60.0 seconds\n",
      "received data {'query': 'What color is the fox', 'context': 'The quick brown fox jumped over the lazy dog.'}\n",
      "2021-04-30 11:43:04,518 | root | INFO | 200\n",
      "127.0.0.1 - - [30/Apr/2021:11:43:04 +0000] \"POST /score HTTP/1.0\" 200 104 \"-\" \"python-requests/2.25.1\"\n",
      "\n"
     ]
    }
   ],
   "source": [
    "print(service.get_logs())"
   ]
  },
  {
   "cell_type": "markdown",
   "id": "4c5ca0cb",
   "metadata": {},
   "source": [
    "## Delete resources"
   ]
  },
  {
   "cell_type": "code",
   "execution_count": 17,
   "id": "7a5a03fd",
   "metadata": {},
   "outputs": [],
   "source": [
    "service.delete()\n",
    "model.delete()"
   ]
  },
  {
   "cell_type": "markdown",
   "id": "4f3af1a4",
   "metadata": {},
   "source": [
    "## Next Steps"
   ]
  },
  {
   "cell_type": "markdown",
   "id": "8f530f08",
   "metadata": {},
   "source": [
    "Try reading [our documentation](https://docs.microsoft.com/en-us/azure/machine-learning/how-to-deploy-and-where?tabs=python)"
   ]
  }
 ],
 "metadata": {
  "kernelspec": {
   "display_name": "Python 3",
   "language": "python",
   "name": "python3"
  },
  "language_info": {
   "codemirror_mode": {
    "name": "ipython",
    "version": 3
   },
   "file_extension": ".py",
   "mimetype": "text/x-python",
   "name": "python",
   "nbconvert_exporter": "python",
   "pygments_lexer": "ipython3",
   "version": "3.7.10"
  }
 },
 "nbformat": 4,
 "nbformat_minor": 5
}
