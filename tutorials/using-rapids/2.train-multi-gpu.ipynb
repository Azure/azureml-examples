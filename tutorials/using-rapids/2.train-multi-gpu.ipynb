{
 "cells": [
  {
   "cell_type": "markdown",
   "metadata": {},
   "source": [
    "# Train with RAPIDS on multiple GPUs\n",
    "\n",
    "description: train with RAPIDS, cuML, cuDF, and dask on multiple V100s on the full airline dataset"
   ]
  },
  {
   "cell_type": "code",
   "execution_count": null,
   "metadata": {
    "tags": []
   },
   "outputs": [],
   "source": [
    "from azureml.core import Workspace\n",
    "\n",
    "ws = Workspace.from_config()\n",
    "ws"
   ]
  },
  {
   "cell_type": "code",
   "execution_count": null,
   "metadata": {},
   "outputs": [],
   "source": [
    "# training script\n",
    "script_dir = \".\"\n",
    "script_name = \"train.py\"\n",
    "\n",
    "# environment file\n",
    "environment_file = \"rapids.dockerfile\"\n",
    "\n",
    "# azure ml settings\n",
    "environment_name = \"rapids-tutorial\"\n",
    "experiment_name = \"rapids-airline-multi-tutorial\"\n",
    "compute_target = \"gpu-V100-4\""
   ]
  },
  {
   "cell_type": "code",
   "execution_count": null,
   "metadata": {},
   "outputs": [],
   "source": [
    "from azureml.core import ScriptRunConfig, Experiment, Environment, Dataset\n",
    "from azureml.core.runconfig import MpiConfiguration\n",
    "\n",
    "ds = Dataset.File.from_files(\n",
    "    \"https://airlinedataset.blob.core.windows.net/airline-10years/*\"\n",
    ")\n",
    "\n",
    "arguments = [\n",
    "    \"--data_dir\",\n",
    "    ds.as_mount(),\n",
    "    \"--n_bins\",\n",
    "    32,\n",
    "    \"--compute\",\n",
    "    \"multi-GPU\",\n",
    "    \"--cv-folds\",\n",
    "    1,\n",
    "]\n",
    "\n",
    "env = Environment(environment_name)\n",
    "env.docker.enabled = True\n",
    "env.docker.base_image = None\n",
    "env.docker.base_dockerfile = environment_file\n",
    "env.python.user_managed_dependencies = True\n",
    "\n",
    "src = ScriptRunConfig(\n",
    "    source_directory=script_dir,\n",
    "    script=script_name,\n",
    "    arguments=arguments,\n",
    "    environment=env,\n",
    "    compute_target=compute_target,\n",
    "    max_run_duration_seconds=1800,\n",
    ")\n",
    "\n",
    "run = Experiment(ws, experiment_name).submit(src)\n",
    "run"
   ]
  },
  {
   "cell_type": "code",
   "execution_count": null,
   "metadata": {},
   "outputs": [],
   "source": [
    "from azureml.widgets import RunDetails\n",
    "\n",
    "RunDetails(run).show()"
   ]
  },
  {
   "cell_type": "code",
   "execution_count": null,
   "metadata": {},
   "outputs": [],
   "source": [
    "run.wait_for_completion(show_output=True)"
   ]
  }
 ],
 "metadata": {
  "kernelspec": {
   "display_name": "Python 3.8",
   "language": "python",
   "name": "python3.8"
  },
  "language_info": {
   "codemirror_mode": {
    "name": "ipython",
    "version": 3
   },
   "file_extension": ".py",
   "mimetype": "text/x-python",
   "name": "python",
   "nbconvert_exporter": "python",
   "pygments_lexer": "ipython3",
   "version": "3.7.9"
  }
 },
 "nbformat": 4,
 "nbformat_minor": 4
}