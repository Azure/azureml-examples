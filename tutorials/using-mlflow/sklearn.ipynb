{
 "cells": [
  {
   "cell_type": "markdown",
   "metadata": {},
   "source": [
    "# Train and deploy sklearn model via mlflow "
   ]
  },
  {
   "cell_type": "code",
   "execution_count": null,
   "metadata": {},
   "outputs": [],
   "source": [
    "!pip install --upgrade gitpython"
   ]
  },
  {
   "cell_type": "code",
   "execution_count": null,
   "metadata": {},
   "outputs": [],
   "source": [
    "from azureml.core import Workspace\n",
    "\n",
    "ws = Workspace.from_config()\n",
    "ws"
   ]
  },
  {
   "cell_type": "code",
   "execution_count": null,
   "metadata": {},
   "outputs": [],
   "source": [
    "import git\n",
    "from pathlib import Path\n",
    "\n",
    "# get root of git repo\n",
    "prefix = Path(git.Repo(\".\", search_parent_directories=True).working_tree_dir)\n",
    "\n",
    "# project settings\n",
    "project_uri = prefix.joinpath(\"mlprojects\", \"sklearn-diabetes\")\n",
    "\n",
    "# azure ml settings\n",
    "experiment_name = \"using-mlflow-sklearn-tutorial\"\n",
    "compute_target = \"cpu-cluster\""
   ]
  },
  {
   "cell_type": "code",
   "execution_count": null,
   "metadata": {},
   "outputs": [],
   "source": [
    "import mlflow\n",
    "\n",
    "mlflow.set_tracking_uri(ws.get_mlflow_tracking_uri())\n",
    "mlflow.set_experiment(experiment_name)"
   ]
  },
  {
   "cell_type": "code",
   "execution_count": null,
   "metadata": {},
   "outputs": [],
   "source": [
    "backend_config = {\"COMPUTE\": compute_target}"
   ]
  },
  {
   "cell_type": "code",
   "execution_count": null,
   "metadata": {
    "tags": [
     "outputPrepend"
    ]
   },
   "outputs": [],
   "source": [
    "run = mlflow.projects.run(\n",
    "    uri=str(project_uri),\n",
    "    parameters={\"alpha\": 0.3},\n",
    "    backend=\"azureml\",\n",
    "    backend_config=backend_config,\n",
    ")\n",
    "run"
   ]
  },
  {
   "cell_type": "markdown",
   "metadata": {},
   "source": [
    "## Deploy to ACI or AKS"
   ]
  },
  {
   "cell_type": "code",
   "execution_count": null,
   "metadata": {},
   "outputs": [],
   "source": [
    "from azureml.core.webservice import AksWebservice\n",
    "\n",
    "aks_config = AksWebservice.deploy_configuration(\n",
    "    compute_target_name=\"aks-cpu-deploy\",\n",
    "    cpu_cores=2,\n",
    "    memory_gb=5,\n",
    "    tags={\"data\": \"diabetes\", \"method\": \"sklearn\"},\n",
    "    description=\"Predict using webservice\",\n",
    ")"
   ]
  },
  {
   "cell_type": "code",
   "execution_count": null,
   "metadata": {},
   "outputs": [],
   "source": [
    "import mlflow.azureml\n",
    "from random import randint\n",
    "\n",
    "webservice, azure_model = mlflow.azureml.deploy(\n",
    "    model_uri=f\"runs:/{run.run_id}/model\",\n",
    "    workspace=ws,\n",
    "    # deployment_config=aks_config, #  uncomment to deploy to AKS\n",
    "    service_name=\"sklearn-diabetes-\" + str(randint(10000, 99999)),\n",
    "    model_name=\"sklearn-diabetes-example\",\n",
    ")"
   ]
  },
  {
   "cell_type": "markdown",
   "metadata": {},
   "source": [
    "## Test webservice"
   ]
  },
  {
   "cell_type": "code",
   "execution_count": null,
   "metadata": {},
   "outputs": [],
   "source": [
    "import pandas as pd\n",
    "\n",
    "data = pd.read_csv(prefix.joinpath(\"data\", \"raw\", \"diabetes\", \"diabetes.csv\"))\n",
    "\n",
    "sample = data.drop([\"progression\"], axis=1).iloc[[0]]\n",
    "\n",
    "query_input = sample.to_json(orient=\"split\")\n",
    "query_input = eval(query_input)\n",
    "query_input.pop(\"index\", None)"
   ]
  },
  {
   "cell_type": "code",
   "execution_count": null,
   "metadata": {},
   "outputs": [],
   "source": [
    "headers = {\n",
    "    \"Content-Type\": \"application/json\",\n",
    "}"
   ]
  },
  {
   "cell_type": "code",
   "execution_count": null,
   "metadata": {},
   "outputs": [],
   "source": [
    "import requests\n",
    "import json\n",
    "\n",
    "response = requests.post(\n",
    "    url=webservice.scoring_uri, data=json.dumps(query_input), headers=headers\n",
    ")\n",
    "print(response.text)"
   ]
  },
  {
   "cell_type": "markdown",
   "metadata": {},
   "source": [
    "## Delete webservice"
   ]
  },
  {
   "cell_type": "code",
   "execution_count": null,
   "metadata": {},
   "outputs": [],
   "source": [
    "webservice.delete()"
   ]
  }
 ],
 "metadata": {
  "kernelspec": {
   "display_name": "Python 3.8",
   "language": "python",
   "name": "python3.8"
  },
  "language_info": {
   "codemirror_mode": {
    "name": "ipython",
    "version": 3
   },
   "file_extension": ".py",
   "mimetype": "text/x-python",
   "name": "python",
   "nbconvert_exporter": "python",
   "pygments_lexer": "ipython3",
   "version": "3.8.5-final"
  }
 },
 "nbformat": 4,
 "nbformat_minor": 2
}
