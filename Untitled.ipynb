{
 "cells": [
  {
   "cell_type": "code",
   "execution_count": 1,
   "source": [
    "import azureml.opendatasets"
   ],
   "outputs": [],
   "metadata": {}
  },
  {
   "cell_type": "code",
   "execution_count": 2,
   "source": [
    "from azureml.opendatasets import OjSalesSimulated"
   ],
   "outputs": [],
   "metadata": {}
  },
  {
   "cell_type": "code",
   "execution_count": 3,
   "source": [
    "oj = OjSalesSimulated.get_file_dataset()\n",
    "oj"
   ],
   "outputs": [
    {
     "output_type": "execute_result",
     "data": {
      "text/plain": [
       "{\n",
       "  \"source\": [\n",
       "    \"https://azureopendatastorage.blob.core.windows.net/ojsales-simulatedcontainer/oj_sales_data/*.csv\"\n",
       "  ],\n",
       "  \"definition\": [\n",
       "    \"GetFiles\",\n",
       "    \"ExpressionAddColumn\",\n",
       "    \"StrReplace\",\n",
       "    \"ExpressionAddColumn\",\n",
       "    \"DropColumns\",\n",
       "    \"RenameColumns\",\n",
       "    \"DropColumns\"\n",
       "  ]\n",
       "}"
      ]
     },
     "metadata": {},
     "execution_count": 3
    }
   ],
   "metadata": {}
  },
  {
   "cell_type": "code",
   "execution_count": 4,
   "source": [
    "oj.download()"
   ],
   "outputs": [
    {
     "output_type": "stream",
     "name": "stdout",
     "text": [
      "Credentials are not provided to access data from the source. Please sign in using identity with required permission granted.\n",
      "Interactive sign-in timeout: 120 sec.\n",
      "To change the sign-in tenant, restart the session with tenant ID set to environment variable \"AZUREML_DATA_ACCESS_TENANT_ID\" before sign in.\n",
      "To always use device code for interactive sign-in, set environment variable \"AZUREML_DATA_ACCESS_USE_DEVICE_CODE\" to \"true\".\n",
      "To configure timeout, set environment variable \"AZUREML_DATA_ACCESS_INTERACT_TIMEOUT\" to the number of seconds.\n"
     ]
    }
   ],
   "metadata": {}
  },
  {
   "cell_type": "code",
   "execution_count": null,
   "source": [
    "from sklearn.datasets import load_diabetes"
   ],
   "outputs": [],
   "metadata": {}
  },
  {
   "cell_type": "code",
   "execution_count": null,
   "source": [],
   "outputs": [],
   "metadata": {}
  }
 ],
 "metadata": {
  "kernelspec": {
   "display_name": "Python 3 (ipykernel)",
   "language": "python",
   "name": "python3"
  },
  "language_info": {
   "name": "python",
   "version": "3.8.11",
   "mimetype": "text/x-python",
   "codemirror_mode": {
    "name": "ipython",
    "version": 3
   },
   "pygments_lexer": "ipython3",
   "nbconvert_exporter": "python",
   "file_extension": ".py"
  }
 },
 "nbformat": 4,
 "nbformat_minor": 2
}